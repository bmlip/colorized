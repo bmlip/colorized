{
 "cells": [
  {
   "cell_type": "markdown",
   "metadata": {
    "slideshow": {
     "slide_type": "slide"
    }
   },
   "source": [
    "# Regression"
   ]
  },
  {
   "cell_type": "markdown",
   "metadata": {
    "slideshow": {
     "slide_type": "slide"
    }
   },
   "source": [
    "### Preliminaries\n",
    "\n",
    "- Goal \n",
    "  - Introduction to Bayesian (Linear) Regression\n",
    "- Materials        \n",
    "  - Mandatory\n",
    "    - These lecture notes\n",
    "  - Optional\n",
    "    - Bishop pp. 152-158 \n",
    "    - In this and forthcoming lectures, we will make use of some elementary matrix calculus. The most important formulas are summarized at the bottom of this notebook in an [OPTIONAL SLIDE on matrix calculus](#matrix-calculus). For derivations, see Bishop Appendix C. \n",
    "    "
   ]
  },
  {
   "attachments": {},
   "cell_type": "markdown",
   "metadata": {
    "slideshow": {
     "slide_type": "slide"
    }
   },
   "source": [
    "### Regression - Illustration\n",
    "\n",
    "\n",
    "<p style=\"text-align:center;\"><img src=\"./figures/fig-bishop12.png\" width=\"400px\"></p>\n",
    "\n",
    "Given a set of (noisy) data measurements, find the 'best' relation between an input variable $x \\in \\mathbb{R}^M$ and input-dependent outcomes $y \\in \\mathbb{R}$.\n"
   ]
  },
  {
   "cell_type": "markdown",
   "metadata": {
    "slideshow": {
     "slide_type": "slide"
    }
   },
   "source": [
    "### Regression vs Density Estimation\n",
    "\n",
    "\n",
    "- Observe $N$ IID data **pairs** $D=\\{(x_1,y_1),\\dotsc,(x_N,y_N)\\}$ with $x_n \\in \\mathbb{R}^M$ and $y_n \\in \\mathbb{R}$."
   ]
  },
  {
   "cell_type": "markdown",
   "metadata": {
    "slideshow": {
     "slide_type": "fragment"
    }
   },
   "source": [
    "- Assume that we are interested in (a model for) the responses $y_n$ for **given inputs** $x_n$?, I.o.w. we are interested in building a model for the conditional distribution $p(y|x)$."
   ]
  },
  {
   "cell_type": "markdown",
   "metadata": {
    "slideshow": {
     "slide_type": "fragment"
    }
   },
   "source": [
    "- Note that, since $p(x,y)=p(y|x)\\, p(x)$, building a model $p(y|x)$ is similar to density estimation with the assumption that $x$ is drawn from a uniform distribution."
   ]
  },
  {
   "cell_type": "markdown",
   "metadata": {
    "slideshow": {
     "slide_type": "slide"
    }
   },
   "source": [
    "### Bayesian Linear Regression\n",
    "\n",
    "- Next, we discuss (1) model specification, (2) Inference and (3) a prediction application for a Bayesian linear regression problem. "
   ]
  },
  {
   "cell_type": "markdown",
   "metadata": {
    "slideshow": {
     "slide_type": "fragment"
    }
   },
   "source": [
    "#####  1. Model Specification\n",
    "\n",
    "\n",
    "- In a traditional _regression_ model, we try to 'explain the data' by a purely deterministic function $f(x_n,w)$, plus a purely random term $\\epsilon_n$ for 'unexplained noise':\n",
    "$$\n",
    "    y_n  = f(x_n,w) + \\epsilon_n\n",
    "$$   "
   ]
  },
  {
   "cell_type": "markdown",
   "metadata": {
    "slideshow": {
     "slide_type": "fragment"
    }
   },
   "source": [
    "-  In a _linear regression_ model, i.e., linear w.r.t. the parameters $w$, we assume that \n",
    "$$f(x_n,w)= \\sum_{j=0}^{M-1} w_j \\phi_j(x_n) = w^T \\phi(x_n)$$\n",
    "where $\\phi_j(x)$ are called basis functions.\n",
    "  - For notational simplicity, from now on we will assume $f(x_n,w) = w^T x_n$, with $x_n \\in \\mathbb{R}^M$."
   ]
  },
  {
   "cell_type": "markdown",
   "metadata": {
    "slideshow": {
     "slide_type": "fragment"
    }
   },
   "source": [
    "-  In _ordinary linear regression_ , the noise process $\\epsilon_n$ is zero-mean Gaussian with constant variance, i.e.\n",
    "$$\n",
    "\\epsilon_n \\sim \\mathcal{N}(0,\\beta^{-1}) \\,.\n",
    "$$"
   ]
  },
  {
   "cell_type": "markdown",
   "metadata": {
    "slideshow": {
     "slide_type": "fragment"
    }
   },
   "source": [
    "- Hence, given a data set  $D=\\{(x_1,y_1),\\dotsc,(x_N,y_N)\\}$, the likelihood for an ordinary linear regression model is \n",
    "\n",
    "$$\\begin{align*}\n",
    "p(y\\,|\\,\\mathbf{X},w,\\beta) &= \\mathcal{N}(y\\,|\\,\\mathbf{X} w,\\beta^{-1} \\mathbf{I}) \\\\\n",
    "  &= \\prod_n \\mathcal{N}(y_n\\,|\\,w^T x_n,\\beta^{-1}) \\tag{B-3.10}\n",
    "\\end{align*}$$\n",
    "\n",
    "where $w = \\left(\\begin{matrix} w_1 \\\\ w_2 \\\\ \\vdots \\\\ w_{M} \\end{matrix} \\right)$, the $(N\\times M)$-dim matrix $\\mathbf{X}  = \\left(\\begin{matrix}x_1^T \\\\ x_2^T \\\\ \\vdots \\\\ x_N^T \\end{matrix} \\right) = \\left(\\begin{matrix}x_{11},x_{12},\\dots,x_{1M}\\\\ x_{21},x_{22},\\dots,x_{2M} \\\\ \\vdots \\\\ x_{N1},x_{N2},\\dots,x_{NM} \\end{matrix} \\right) $  and $y = \\left(\\begin{matrix} y_1 \\\\ y_2 \\\\ \\vdots \\\\ y_N \\end{matrix} \\right)$.\n"
   ]
  },
  {
   "cell_type": "markdown",
   "metadata": {
    "slideshow": {
     "slide_type": "fragment"
    }
   },
   "source": [
    "- For full Bayesian learning we should also choose a prior $p(w)$:\n",
    "\n",
    "$$\\begin{equation}\n",
    "p(w\\,|\\,\\alpha) = \\mathcal{N}(w\\,|\\,0,\\alpha^{-1}\\mathbf{I}) \\tag{B-3.52}\n",
    "\\end{equation}$$\n",
    "\n",
    "- For simplicity, we will assume that $\\alpha$ and $\\beta$ are fixed and known. \n"
   ]
  },
  {
   "cell_type": "markdown",
   "metadata": {
    "slideshow": {
     "slide_type": "slide"
    }
   },
   "source": [
    "##### 2. Inference\n",
    "\n",
    "- We'll do Bayesian inference for the parameters $w$. \n",
    "\n",
    "$$\\begin{align*}\n",
    "p(w|D) &\\propto p(D|w)\\cdot p(w) \\\\\n",
    "   &= \\mathcal{N}(y\\,|\\,\\mathbf{X} w,\\beta^{-1} \\mathbf{I}) \\cdot \\mathcal{N}(w\\,|\\,0,\\alpha^{-1}\\mathbf{I}) \\\\\n",
    "   &\\propto \\exp \\big( -\\frac{\\beta}{2} \\big( {y - \\mathbf{X}w } \\big)^T \\big( {y - \\mathbf{X}w } \\big)  - \\frac{\\alpha}{2}w^T w \\big) \\qquad \\text{(B-3.55)} \\\\\n",
    "   &= \\exp\\big( -\\frac{1}{2} w^T\\big(\\underbrace{\\beta \\mathbf{X}^T\\mathbf{X} + \\alpha \\mathbf{I}}_{\\Lambda_N}\\big)w + \\big(\\underbrace{\\beta \\mathbf{X}^Ty}_{\\eta_N}\\big)^T w - \\frac{\\beta}{2}y^T y \\big) \\\\\n",
    "     &\\propto \\mathcal{N}_c\\left(w\\,|\\,\\eta_N,\\Lambda_N \\right)\n",
    "\\end{align*}$$\n",
    "\n",
    "with natural parameters (see the [natural parameterization of Gaussian](https://nbviewer.jupyter.org/github/bertdv/BMLIP/blob/master/lessons/notebooks/The-Gaussian-Distribution.ipynb#natural-parameterization)):\n",
    "\n",
    "$$\\begin{align*}\n",
    "\\eta_N &= \\beta\\mathbf{X}^Ty \\\\\n",
    "\\Lambda_N &= \\beta \\mathbf{X}^T\\mathbf{X} + \\alpha \\mathbf{I}\n",
    "\\end{align*}$$\n",
    "\n",
    "- Or equivalently (in the moment parameterization of the Gaussian):\n",
    "$$\\begin{align*}\n",
    "p(w|D) &= \\mathcal{N}\\left(w\\,|\\,m_N,S_N \\right) \\qquad &&\\text{(B-3.49)} \\\\\n",
    "m_N &= \\beta S_N \\mathbf{X}^T y  \\qquad &&\\text{(B-3.53)}\\\\\n",
    "S_N &= \\left(\\alpha \\mathbf{I} + \\beta \\mathbf{X}^T \\mathbf{X}\\right)^{-1} \\qquad &&\\text{(B-3.54)}\n",
    "\\end{align*}$$\n",
    "\n",
    "- Note that B-3.53 and B-3.54 combine to\n",
    "$$\n",
    "m_N = \\left(\\frac{\\alpha}{\\beta}\\mathbf{I} + \\mathbf{X}^T \\mathbf{X} \\right)^{-1} \\mathbf{X}^T y\\,.\n",
    "$$\n"
   ]
  },
  {
   "cell_type": "markdown",
   "metadata": {
    "slideshow": {
     "slide_type": "slide"
    }
   },
   "source": [
    " - (Bishop Fig.3.7) Illustration of sequential Bayesian learning for a simple linear model of the form $y(x, w) =\n",
    "w_0 + w_1 x$. (Bishop Fig.3.7, detailed description at Bishop, pg.154.)\n",
    "\n",
    "<p style=\"text-align:center;\"><img src=\"./figures/Figure3.7.png\" width=\"500px\"> </p>"
   ]
  },
  {
   "attachments": {},
   "cell_type": "markdown",
   "metadata": {
    "slideshow": {
     "slide_type": "slide"
    }
   },
   "source": [
    "##### 3. Application: <a id=\"predictive-distribution\">Predictive Distribution</a>\n",
    "\n",
    "- Assume we are interested in the distribution $p(y_\\bullet \\,|\\, x_\\bullet, D)$ for a new input $x_\\bullet$. This can be worked out as (exercise B-3.10)\n",
    "\n",
    "$$\\begin{align*}\n",
    "p(y_\\bullet \\,|\\, x_\\bullet, D) &= \\int p(y_\\bullet \\,|\\, x_\\bullet, w) p(w\\,|\\,D)\\,\\mathrm{d}w \\\\\n",
    "&= \\int \\mathcal{N}(y_\\bullet \\,|\\, w^T x_\\bullet, \\beta^{-1}) \\mathcal{N}(w\\,|\\,m_N,S_N)\\,\\mathrm{d}w \\\\\n",
    "&= \\int \\mathcal{N}(y_\\bullet \\,|\\, z, \\beta^{-1}) \\underbrace{\\mathcal{N}(z\\,|\\,x_\\bullet^T m_N,x_\\bullet^T S_N x_\\bullet)\\,\\mathrm{d}z}_{=\\mathcal{N}(w\\,|\\,m_N,S_N)\\,\\mathrm{d}w} \\quad \\text{(sub. }z=x_\\bullet^T w \\text{)} \\\\\n",
    "&= \\int \\underbrace{\\underbrace{\\mathcal{N}(z \\,|\\, y_\\bullet, \\beta^{-1})}_{\\text{switch }z \\text{ and }y_\\bullet} \\mathcal{N}(z\\,|\\,x_\\bullet^T m_N,x_\\bullet^T S_N x_\\bullet)}_{\\text{Use Gaussian product formula SRG-6}}\\,\\mathrm{d}z  \\\\\n",
    "&= \\int \\mathcal{N}\\left(y_\\bullet\\,|\\, m_N^T x_\\bullet, \\sigma_N^2(x_\\bullet) \\right) \\underbrace{\\mathcal{N}\\left(z\\,|\\, \\cdot, \\cdot\\right)}_{\\text{integrate this out}} \\mathrm{d}z\\\\\n",
    "&= \\mathcal{N}\\left(y_\\bullet\\,|\\, m_N^T x_\\bullet, \\sigma_N^2(x_\\bullet) \\right)\n",
    "\\end{align*}$$\n",
    "with\n",
    "$$\\begin{align*}\n",
    "\\sigma_N^2(x_\\bullet) = \\beta^{-1} + x^T_\\bullet S_N x_\\bullet \\tag{B-3.59}\n",
    "\\end{align*}$$\n",
    "\n",
    "- So, the uncertainty $\\sigma_N^2(x_\\bullet)$ about the output $y_\\bullet$ contains both uncertainty about the process ($\\beta^{-1}$) and about the model parameters ($x^T_\\bullet S_N x_\\bullet$).  \n",
    "\n",
    "- (See the [OPTIONAL SLIDE](#change-of-variable-derivation) below for the step in this derivation where $\\mathcal{N}(w\\,|\\,m_N,S_N)\\,\\mathrm{d}w$ gets replaced $\\mathcal{N}(z\\,|\\,x_\\bullet^T m_N,x_\\bullet^T S_N x_\\bullet)\\,\\mathrm{d}z$.)"
   ]
  },
  {
   "cell_type": "markdown",
   "metadata": {
    "slideshow": {
     "slide_type": "slide"
    }
   },
   "source": [
    "### Example Predictive Distribution\n",
    "\n",
    "- As an example, let's do Bayesian Linear Regression for a synthetic sinusoidal data set and a model with 9 Gaussian basis functions \n",
    "$$\\begin{align*}\n",
    "y_n &=\\sum_{m=1}^9 w_m \\phi_m(x_n) + \\epsilon_n \\\\\n",
    "\\phi_m(x_n) &= \\exp\\left( \\frac{x_n-\\mu_m}{\\sigma^2}\\right) \\\\\n",
    "\\epsilon_n &\\sim \\mathcal{N}(0,\\beta^{-1})\n",
    "\\end{align*}$$\n",
    "\n",
    "<p style=\"text-align:center;\"><img src=\"./figures/Figure3.1b.png\" width=\"250px\"></p>\n",
    "\n",
    "- The predictive distributions for $y$ are shown in the following plots (Bishop, Fig.3.8)\n",
    "<p style=\"text-align:center;\"><img src=\"./figures/Figure3.8.png\" width=\"500px\"> </p>\n"
   ]
  },
  {
   "cell_type": "markdown",
   "metadata": {
    "slideshow": {
     "slide_type": "slide"
    }
   },
   "source": [
    "- And some plots of draws of posteriors for the functions $w^T \\phi(x)$ (Bishop, Fig.3.9) \n",
    "\n",
    "<p style=\"text-align:center;\"><img src=\"./figures/Figure3.9.png\" width=\"500px\"></p> "
   ]
  },
  {
   "cell_type": "markdown",
   "metadata": {
    "slideshow": {
     "slide_type": "slide"
    }
   },
   "source": [
    "###  Maximum Likelihood Estimation for Linear Regression Model\n",
    "\n",
    "- Recall the posterior mean for the weight vector\n",
    "$$\n",
    "m_N = \\left(\\frac{\\alpha}{\\beta}\\mathbf{I} + \\mathbf{X}^T \\mathbf{X} \\right)^{-1} \\mathbf{X}^T y\n",
    "$$\n",
    "where $\\alpha$ is the prior precision for the weights."
   ]
  },
  {
   "cell_type": "markdown",
   "metadata": {
    "slideshow": {
     "slide_type": "fragment"
    }
   },
   "source": [
    "- The Maximum Likelihood solution for $w$ is obtained by letting $\\alpha \\rightarrow 0$, which leads to \n",
    "\n",
    "$$\\begin{equation*}\n",
    "\\hat w_{\\text{ML}} = (\\mathbf{X}^T \\mathbf{X})^{-1} \\mathbf{X}^T y\n",
    "\\end{equation*}$$"
   ]
  },
  {
   "cell_type": "markdown",
   "metadata": {
    "slideshow": {
     "slide_type": "fragment"
    }
   },
   "source": [
    "-  The matrix $\\mathbf{X}^\\dagger \\equiv  (\\mathbf{X}^T \\mathbf{X})^{-1}\\mathbf{X}^T$ is also known as the **Moore-Penrose pseudo-inverse** (which is sort-of-an-inverse for non-square matrices)."
   ]
  },
  {
   "cell_type": "markdown",
   "metadata": {
    "slideshow": {
     "slide_type": "fragment"
    }
   },
   "source": [
    "-  Note that if we have fewer training samples than input dimensions, i.e., if $N<M$, then $\\mathbf{X}^T \\mathbf{X}$  will not be invertible and maximum likelihood blows up. The Bayesian solution does not suffer from this problem."
   ]
  },
  {
   "cell_type": "markdown",
   "metadata": {
    "slideshow": {
     "slide_type": "slide"
    }
   },
   "source": [
    "###  Least-Squares Regression\n",
    "\n",
    "-  (You may say that) we don't need to work with probabilistic models. E.g., there's also the deterministic **least-squares** solution: minimize sum of squared errors,\n",
    "\n",
    "$$\\begin{align*} \\hat w_{\\text{LS}} &= \\arg\\min_{w} \\sum_n {\\left( {y_n  - w ^T x_n } \\right)} ^2 \n",
    "  = \\arg\\min_{w} \\left( {y - \\mathbf{X}w } \\right)^T \\left( {y - \\mathbf{X} w } \\right)\n",
    "\\end{align*}$$"
   ]
  },
  {
   "cell_type": "markdown",
   "metadata": {
    "slideshow": {
     "slide_type": "fragment"
    }
   },
   "source": [
    "-  Setting the <a id=\"regression-gradient\">gradient</a> \n",
    "$ \\frac{\\partial \\left( {y - \\mathbf{X}w } \\right)^T \\left( {y - \\mathbf{X}w } \\right)}{\\partial w} = -2 \\mathbf{X}^T \\left(y - \\mathbf{X} w  \\right)\n",
    "$ to zero yields the so-called  **normal equations** \n",
    "$\\mathbf{X}^T\\mathbf{X} \\hat w_{\\text{LS}} = \\mathbf{X}^T y$  and consequently\n",
    "\n",
    "$$\n",
    "\\hat w_{\\text{LS}} = (\\mathbf{X}^T \\mathbf{X})^{-1} \\mathbf{X}^T y\n",
    "$$\n",
    "\n",
    "which is the same answer as we got for the maximum likelihood weights $\\hat w_{\\text{ML}}$."
   ]
  },
  {
   "cell_type": "markdown",
   "metadata": {
    "slideshow": {
     "slide_type": "fragment"
    }
   },
   "source": [
    "- $\\Rightarrow$ Least-squares regression ($\\hat w_{\\text{LS}}$) corresponds to the (probabilistic) maximum likelihood solution ($\\hat w_{\\text{ML}}$) if the probabilistic model includes the following assumptions:\n",
    "  1. The observations are independently and identically distributed (**IID**) (this determines how errors are combined), and\n",
    "  1. The noise signal $\\epsilon_n \\sim \\mathcal{N}(0,\\,\\beta^{-1})$ is **Gaussian** distributed (determines the error metric)      \n",
    "  "
   ]
  },
  {
   "cell_type": "markdown",
   "metadata": {
    "slideshow": {
     "slide_type": "fragment"
    }
   },
   "source": [
    "- If you use the Least-Squares method, you cannot see (nor modify) these assumptions. The probabilistic method forces you to state all assumptions explicitly! "
   ]
  },
  {
   "cell_type": "markdown",
   "metadata": {
    "slideshow": {
     "slide_type": "slide"
    }
   },
   "source": [
    "###  Not Identically Distributed Data\n",
    "\n",
    "-  Let's do an example regarding changing our assumptions. What if we assume that the variance of the measurement error varies with the sampling index,  $\\epsilon_n \\sim \\mathcal{N}(0,\\beta_n^{-1})$?"
   ]
  },
  {
   "cell_type": "markdown",
   "metadata": {
    "slideshow": {
     "slide_type": "fragment"
    }
   },
   "source": [
    "- The likelihood is now (using $\\Lambda \\triangleq \\mathrm{diag}(\\beta_n)$ )\n",
    "$$\n",
    "p(y\\,|\\,\\mathbf{X},w,\\Lambda) = \\mathcal{N}(y\\,|\\,\\mathbf{X} w,\\Lambda^{-1} ) \\,.\n",
    "$$"
   ]
  },
  {
   "cell_type": "markdown",
   "metadata": {
    "slideshow": {
     "slide_type": "fragment"
    }
   },
   "source": [
    "- Combining this likelihood with the prior $p(w) = \\mathcal{N}(w\\,|\\,0,\\alpha^{-1}\\mathbf{I})$ leads to a posterior\n",
    "\n",
    "$$\\begin{align*}\n",
    "p(w|D) &\\propto p(D|w)\\cdot p(w) \\\\\n",
    "   &= \\mathcal{N}(y\\,|\\,\\mathbf{X} w,\\Lambda^{-1} \\mathbf{I}) \\cdot \\mathcal{N}(w\\,|\\,0,\\alpha^{-1}\\mathbf{I}) \\\\\n",
    "   &\\propto \\exp \\left\\{ \\frac{1}{2} \\left( {y - \\mathbf{X}w } \\right)^T \\Lambda \\left( {y - \\mathbf{X}w } \\right)  + \\frac{\\alpha}{2}w^T w \\right\\} \\\\\n",
    "   &\\propto \\mathcal{N}\\left(w\\,|\\,m_N,S_N \\right) \n",
    "\\end{align*}$$\n",
    "with\n",
    "$$\\begin{align*}\n",
    "m_N &=  S_N \\mathbf{X}^T \\Lambda y  \\\\\n",
    "S_N &= \\left(\\alpha \\mathbf{I} +  \\mathbf{X}^T \\Lambda \\mathbf{X}\\right)^{-1} \n",
    "\\end{align*}$$\n",
    "\n",
    "- And maximum likelihood solution \n",
    "$$\n",
    "\\hat{w}_{\\text{ML}} = \\left. m_N\\right|_{\\alpha \\rightarrow 0} = \\left(\\mathbf{X}^T \\Lambda \\mathbf{X}\\right)^{-1} \\mathbf{X}^T \\Lambda y\n",
    "$$"
   ]
  },
  {
   "cell_type": "markdown",
   "metadata": {
    "slideshow": {
     "slide_type": "fragment"
    }
   },
   "source": [
    "-  This maximum likelihood solution is also called the **Weighted Least Squares** (WLS) solution. (Note that we just stumbled upon it, the crucial aspect is appropriate model specification!)"
   ]
  },
  {
   "cell_type": "markdown",
   "metadata": {
    "slideshow": {
     "slide_type": "fragment"
    }
   },
   "source": [
    "-  Note also that the dimension of $\\Lambda$ grows with the number of data points. In general, models for which the number of parameters grow as the number of observations increase are called **non-parametric models**."
   ]
  },
  {
   "cell_type": "markdown",
   "metadata": {
    "slideshow": {
     "slide_type": "slide"
    }
   },
   "source": [
    "### Code Example: Least Squares vs Weighted Least Squares\n",
    "\n",
    "- We'll compare the Least Squares and Weighted Least Squares solutions for a simple linear regression model with input-dependent noise:\n",
    "\n",
    "$$\\begin{align*}\n",
    "x &\\sim \\text{Unif}[0,1]\\\\\n",
    "y|x &\\sim \\mathcal{N}(f(x), v(x))\\\\\n",
    "f(x) &= 5x - 2\\\\\n",
    "v(x) &= 10e^{2x^2}-9.5\\\\\n",
    "\\mathcal{D} &= \\{(x_1,y_1),\\ldots,(x_N,y_N)\\}\n",
    "\\end{align*}$$"
   ]
  },
  {
   "cell_type": "code",
   "execution_count": 1,
   "metadata": {},
   "outputs": [
    {
     "name": "stderr",
     "output_type": "stream",
     "text": [
      "\u001b[32m\u001b[1m  Activating\u001b[22m\u001b[39m project at `~/github/bertdv/BMLIP/lessons`\n"
     ]
    }
   ],
   "source": [
    "using Pkg; Pkg.activate(\"../.\"); Pkg.instantiate();\n",
    "using IJulia; try IJulia.clear_output(); catch _ end"
   ]
  },
  {
   "cell_type": "code",
   "execution_count": 2,
   "metadata": {},
   "outputs": [
    {
     "data": {
      "image/png": "[encoded data removed]",
      "image/svg+xml": [
       "<?xml version=\"1.0\" encoding=\"utf-8\"?>\n",
       "<svg xmlns=\"http://www.w3.org/2000/svg\" xmlns:xlink=\"http://www.w3.org/1999/xlink\" width=\"600\" height=\"400\" viewBox=\"0 0 2400 1600\">\n",
       "<defs>\n",
       "  <clipPath id=\"clip710\">\n",
       "    <rect x=\"0\" y=\"0\" width=\"2400\" height=\"1600\"/>\n",
       "  </clipPath>\n",
       "</defs>\n",
       "<path clip-path=\"url(#clip710)\" d=\"M0 1600 L2400 1600 L2400 0 L0 0  Z\" fill=\"#ffffff\" fill-rule=\"evenodd\" fill-opacity=\"1\"/>\n",
       "<defs>\n",
       "  <clipPath id=\"clip711\">\n",
       "    <rect x=\"480\" y=\"0\" width=\"1681\" height=\"1600\"/>\n",
       "  </clipPath>\n",
       "</defs>\n",
       "<path clip-path=\"url(#clip710)\" d=\"M242.135 1423.18 L2352.76 1423.18 L2352.76 47.2441 L242.135 47.2441  Z\" fill=\"#ffffff\" fill-rule=\"evenodd\" fill-opacity=\"1\"/>\n",
       "<defs>\n",
       "  <clipPath id=\"clip712\">\n",
       "    <rect x=\"242\" y=\"47\" width=\"2112\" height=\"1377\"/>\n",
       "  </clipPath>\n",
       "</defs>\n",
       "<polyline clip-path=\"url(#clip712)\" style=\"stroke:#000000; stroke-linecap:round; stroke-linejoin:round; stroke-width:2; stroke-opacity:0.1; fill:none\" points=\"301.869,1423.18 301.869,47.2441 \"/>\n",
       "<polyline clip-path=\"url(#clip712)\" style=\"stroke:#000000; stroke-linecap:round; stroke-linejoin:round; stroke-width:2; stroke-opacity:0.1; fill:none\" points=\"799.657,1423.18 799.657,47.2441 \"/>\n",
       "<polyline clip-path=\"url(#clip712)\" style=\"stroke:#000000; stroke-linecap:round; stroke-linejoin:round; stroke-width:2; stroke-opacity:0.1; fill:none\" points=\"1297.45,1423.18 1297.45,47.2441 \"/>\n",
       "<polyline clip-path=\"url(#clip712)\" style=\"stroke:#000000; stroke-linecap:round; stroke-linejoin:round; stroke-width:2; stroke-opacity:0.1; fill:none\" points=\"1795.23,1423.18 1795.23,47.2441 \"/>\n",
       "<polyline clip-path=\"url(#clip712)\" style=\"stroke:#000000; stroke-linecap:round; stroke-linejoin:round; stroke-width:2; stroke-opacity:0.1; fill:none\" points=\"2293.02,1423.18 2293.02,47.2441 \"/>\n",
       "<polyline clip-path=\"url(#clip710)\" style=\"stroke:#000000; stroke-linecap:round; stroke-linejoin:round; stroke-width:4; stroke-opacity:1; fill:none\" points=\"242.135,1423.18 2352.76,1423.18 \"/>\n",
       "<polyline clip-path=\"url(#clip710)\" style=\"stroke:#000000; stroke-linecap:round; stroke-linejoin:round; stroke-width:4; stroke-opacity:1; fill:none\" points=\"301.869,1423.18 301.869,1404.28 \"/>\n",
       "<polyline clip-path=\"url(#clip710)\" style=\"stroke:#000000; stroke-linecap:round; stroke-linejoin:round; stroke-width:4; stroke-opacity:1; fill:none\" points=\"799.657,1423.18 799.657,1404.28 \"/>\n",
       "<polyline clip-path=\"url(#clip710)\" style=\"stroke:#000000; stroke-linecap:round; stroke-linejoin:round; stroke-width:4; stroke-opacity:1; fill:none\" points=\"1297.45,1423.18 1297.45,1404.28 \"/>\n",
       "<polyline clip-path=\"url(#clip710)\" style=\"stroke:#000000; stroke-linecap:round; stroke-linejoin:round; stroke-width:4; stroke-opacity:1; fill:none\" points=\"1795.23,1423.18 1795.23,1404.28 \"/>\n",
       "<polyline clip-path=\"url(#clip710)\" style=\"stroke:#000000; stroke-linecap:round; stroke-linejoin:round; stroke-width:4; stroke-opacity:1; fill:none\" points=\"2293.02,1423.18 2293.02,1404.28 \"/>\n",
       "<path clip-path=\"url(#clip710)\" d=\"M264.173 1454.1 Q260.562 1454.1 258.733 1457.66 Q256.927 1461.2 256.927 1468.33 Q256.927 1475.44 258.733 1479.01 Q260.562 1482.55 264.173 1482.55 Q267.807 1482.55 269.612 1479.01 Q271.441 1475.44 271.441 1468.33 Q271.441 1461.2 269.612 1457.66 Q267.807 1454.1 264.173 1454.1 M264.173 1450.39 Q269.983 1450.39 273.038 1455 Q276.117 1459.58 276.117 1468.33 Q276.117 1477.06 273.038 1481.67 Q269.983 1486.25 264.173 1486.25 Q258.363 1486.25 255.284 1481.67 Q252.228 1477.06 252.228 1468.33 Q252.228 1459.58 255.284 1455 Q258.363 1450.39 264.173 1450.39 Z\" fill=\"#000000\" fill-rule=\"nonzero\" fill-opacity=\"1\" /><path clip-path=\"url(#clip710)\" d=\"M284.335 1479.7 L289.219 1479.7 L289.219 1485.58 L284.335 1485.58 L284.335 1479.7 Z\" fill=\"#000000\" fill-rule=\"nonzero\" fill-opacity=\"1\" /><path clip-path=\"url(#clip710)\" d=\"M309.404 1454.1 Q305.793 1454.1 303.964 1457.66 Q302.159 1461.2 302.159 1468.33 Q302.159 1475.44 303.964 1479.01 Q305.793 1482.55 309.404 1482.55 Q313.038 1482.55 314.844 1479.01 Q316.672 1475.44 316.672 1468.33 Q316.672 1461.2 314.844 1457.66 Q313.038 1454.1 309.404 1454.1 M309.404 1450.39 Q315.214 1450.39 318.27 1455 Q321.348 1459.58 321.348 1468.33 Q321.348 1477.06 318.27 1481.67 Q315.214 1486.25 309.404 1486.25 Q303.594 1486.25 300.515 1481.67 Q297.46 1477.06 297.46 1468.33 Q297.46 1459.58 300.515 1455 Q303.594 1450.39 309.404 1450.39 Z\" fill=\"#000000\" fill-rule=\"nonzero\" fill-opacity=\"1\" /><path clip-path=\"url(#clip710)\" d=\"M339.566 1454.1 Q335.955 1454.1 334.126 1457.66 Q332.32 1461.2 332.32 1468.33 Q332.32 1475.44 334.126 1479.01 Q335.955 1482.55 339.566 1482.55 Q343.2 1482.55 345.006 1479.01 Q346.834 1475.44 346.834 1468.33 Q346.834 1461.2 345.006 1457.66 Q343.2 1454.1 339.566 1454.1 M339.566 1450.39 Q345.376 1450.39 348.431 1455 Q351.51 1459.58 351.51 1468.33 Q351.51 1477.06 348.431 1481.67 Q345.376 1486.25 339.566 1486.25 Q333.756 1486.25 330.677 1481.67 Q327.621 1477.06 327.621 1468.33 Q327.621 1459.58 330.677 1455 Q333.756 1450.39 339.566 1450.39 Z\" fill=\"#000000\" fill-rule=\"nonzero\" fill-opacity=\"1\" /><path clip-path=\"url(#clip710)\" d=\"M762.458 1454.1 Q758.847 1454.1 757.019 1457.66 Q755.213 1461.2 755.213 1468.33 Q755.213 1475.44 757.019 1479.01 Q758.847 1482.55 762.458 1482.55 Q766.093 1482.55 767.898 1479.01 Q769.727 1475.44 769.727 1468.33 Q769.727 1461.2 767.898 1457.66 Q766.093 1454.1 762.458 1454.1 M762.458 1450.39 Q768.269 1450.39 771.324 1455 Q774.403 1459.58 774.403 1468.33 Q774.403 1477.06 771.324 1481.67 Q768.269 1486.25 762.458 1486.25 Q756.648 1486.25 753.57 1481.67 Q750.514 1477.06 750.514 1468.33 Q750.514 1459.58 753.57 1455 Q756.648 1450.39 762.458 1450.39 Z\" fill=\"#000000\" fill-rule=\"nonzero\" fill-opacity=\"1\" /><path clip-path=\"url(#clip710)\" d=\"M782.62 1479.7 L787.505 1479.7 L787.505 1485.58 L782.62 1485.58 L782.62 1479.7 Z\" fill=\"#000000\" fill-rule=\"nonzero\" fill-opacity=\"1\" /><path clip-path=\"url(#clip710)\" d=\"M801.717 1481.64 L818.037 1481.64 L818.037 1485.58 L796.092 1485.58 L796.092 1481.64 Q798.754 1478.89 803.338 1474.26 Q807.944 1469.61 809.125 1468.27 Q811.37 1465.74 812.25 1464.01 Q813.153 1462.25 813.153 1460.56 Q813.153 1457.8 811.208 1456.07 Q809.287 1454.33 806.185 1454.33 Q803.986 1454.33 801.532 1455.09 Q799.102 1455.86 796.324 1457.41 L796.324 1452.69 Q799.148 1451.55 801.602 1450.97 Q804.055 1450.39 806.092 1450.39 Q811.463 1450.39 814.657 1453.08 Q817.852 1455.77 817.852 1460.26 Q817.852 1462.39 817.041 1464.31 Q816.254 1466.2 814.148 1468.8 Q813.569 1469.47 810.467 1472.69 Q807.366 1475.88 801.717 1481.64 Z\" fill=\"#000000\" fill-rule=\"nonzero\" fill-opacity=\"1\" /><path clip-path=\"url(#clip710)\" d=\"M827.898 1451.02 L846.254 1451.02 L846.254 1454.96 L832.18 1454.96 L832.18 1463.43 Q833.199 1463.08 834.217 1462.92 Q835.236 1462.73 836.254 1462.73 Q842.041 1462.73 845.421 1465.9 Q848.801 1469.08 848.801 1474.49 Q848.801 1480.07 845.328 1483.17 Q841.856 1486.25 835.537 1486.25 Q833.361 1486.25 831.092 1485.88 Q828.847 1485.51 826.44 1484.77 L826.44 1480.07 Q828.523 1481.2 830.745 1481.76 Q832.967 1482.32 835.444 1482.32 Q839.449 1482.32 841.787 1480.21 Q844.125 1478.1 844.125 1474.49 Q844.125 1470.88 841.787 1468.77 Q839.449 1466.67 835.444 1466.67 Q833.569 1466.67 831.694 1467.08 Q829.842 1467.5 827.898 1468.38 L827.898 1451.02 Z\" fill=\"#000000\" fill-rule=\"nonzero\" fill-opacity=\"1\" /><path clip-path=\"url(#clip710)\" d=\"M1259.75 1454.1 Q1256.14 1454.1 1254.31 1457.66 Q1252.5 1461.2 1252.5 1468.33 Q1252.5 1475.44 1254.31 1479.01 Q1256.14 1482.55 1259.75 1482.55 Q1263.38 1482.55 1265.19 1479.01 Q1267.02 1475.44 1267.02 1468.33 Q1267.02 1461.2 1265.19 1457.66 Q1263.38 1454.1 1259.75 1454.1 M1259.75 1450.39 Q1265.56 1450.39 1268.61 1455 Q1271.69 1459.58 1271.69 1468.33 Q1271.69 1477.06 1268.61 1481.67 Q1265.56 1486.25 1259.75 1486.25 Q1253.94 1486.25 1250.86 1481.67 Q1247.8 1477.06 1247.8 1468.33 Q1247.8 1459.58 1250.86 1455 Q1253.94 1450.39 1259.75 1450.39 Z\" fill=\"#000000\" fill-rule=\"nonzero\" fill-opacity=\"1\" /><path clip-path=\"url(#clip710)\" d=\"M1279.91 1479.7 L1284.79 1479.7 L1284.79 1485.58 L1279.91 1485.58 L1279.91 1479.7 Z\" fill=\"#000000\" fill-rule=\"nonzero\" fill-opacity=\"1\" /><path clip-path=\"url(#clip710)\" d=\"M1295.03 1451.02 L1313.38 1451.02 L1313.38 1454.96 L1299.31 1454.96 L1299.31 1463.43 Q1300.33 1463.08 1301.35 1462.92 Q1302.36 1462.73 1303.38 1462.73 Q1309.17 1462.73 1312.55 1465.9 Q1315.93 1469.08 1315.93 1474.49 Q1315.93 1480.07 1312.46 1483.17 Q1308.98 1486.25 1302.67 1486.25 Q1300.49 1486.25 1298.22 1485.88 Q1295.98 1485.51 1293.57 1484.77 L1293.57 1480.07 Q1295.65 1481.2 1297.87 1481.76 Q1300.1 1482.32 1302.57 1482.32 Q1306.58 1482.32 1308.92 1480.21 Q1311.25 1478.1 1311.25 1474.49 Q1311.25 1470.88 1308.92 1468.77 Q1306.58 1466.67 1302.57 1466.67 Q1300.7 1466.67 1298.82 1467.08 Q1296.97 1467.5 1295.03 1468.38 L1295.03 1451.02 Z\" fill=\"#000000\" fill-rule=\"nonzero\" fill-opacity=\"1\" /><path clip-path=\"url(#clip710)\" d=\"M1335.14 1454.1 Q1331.53 1454.1 1329.7 1457.66 Q1327.9 1461.2 1327.9 1468.33 Q1327.9 1475.44 1329.7 1479.01 Q1331.53 1482.55 1335.14 1482.55 Q1338.78 1482.55 1340.58 1479.01 Q1342.41 1475.44 1342.41 1468.33 Q1342.41 1461.2 1340.58 1457.66 Q1338.78 1454.1 1335.14 1454.1 M1335.14 1450.39 Q1340.95 1450.39 1344.01 1455 Q1347.09 1459.58 1347.09 1468.33 Q1347.09 1477.06 1344.01 1481.67 Q1340.95 1486.25 1335.14 1486.25 Q1329.33 1486.25 1326.25 1481.67 Q1323.2 1477.06 1323.2 1468.33 Q1323.2 1459.58 1326.25 1455 Q1329.33 1450.39 1335.14 1450.39 Z\" fill=\"#000000\" fill-rule=\"nonzero\" fill-opacity=\"1\" /><path clip-path=\"url(#clip710)\" d=\"M1758.03 1454.1 Q1754.42 1454.1 1752.59 1457.66 Q1750.79 1461.2 1750.79 1468.33 Q1750.79 1475.44 1752.59 1479.01 Q1754.42 1482.55 1758.03 1482.55 Q1761.67 1482.55 1763.47 1479.01 Q1765.3 1475.44 1765.3 1468.33 Q1765.3 1461.2 1763.47 1457.66 Q1761.67 1454.1 1758.03 1454.1 M1758.03 1450.39 Q1763.84 1450.39 1766.9 1455 Q1769.98 1459.58 1769.98 1468.33 Q1769.98 1477.06 1766.9 1481.67 Q1763.84 1486.25 1758.03 1486.25 Q1752.22 1486.25 1749.15 1481.67 Q1746.09 1477.06 1746.09 1468.33 Q1746.09 1459.58 1749.15 1455 Q1752.22 1450.39 1758.03 1450.39 Z\" fill=\"#000000\" fill-rule=\"nonzero\" fill-opacity=\"1\" /><path clip-path=\"url(#clip710)\" d=\"M1778.2 1479.7 L1783.08 1479.7 L1783.08 1485.58 L1778.2 1485.58 L1778.2 1479.7 Z\" fill=\"#000000\" fill-rule=\"nonzero\" fill-opacity=\"1\" /><path clip-path=\"url(#clip710)\" d=\"M1792.09 1451.02 L1814.31 1451.02 L1814.31 1453.01 L1801.76 1485.58 L1796.88 1485.58 L1808.68 1454.96 L1792.09 1454.96 L1792.09 1451.02 Z\" fill=\"#000000\" fill-rule=\"nonzero\" fill-opacity=\"1\" /><path clip-path=\"url(#clip710)\" d=\"M1823.47 1451.02 L1841.83 1451.02 L1841.83 1454.96 L1827.76 1454.96 L1827.76 1463.43 Q1828.77 1463.08 1829.79 1462.92 Q1830.81 1462.73 1831.83 1462.73 Q1837.62 1462.73 1841 1465.9 Q1844.38 1469.08 1844.38 1474.49 Q1844.38 1480.07 1840.9 1483.17 Q1837.43 1486.25 1831.11 1486.25 Q1828.94 1486.25 1826.67 1485.88 Q1824.42 1485.51 1822.02 1484.77 L1822.02 1480.07 Q1824.1 1481.2 1826.32 1481.76 Q1828.54 1482.32 1831.02 1482.32 Q1835.02 1482.32 1837.36 1480.21 Q1839.7 1478.1 1839.7 1474.49 Q1839.7 1470.88 1837.36 1468.77 Q1835.02 1466.67 1831.02 1466.67 Q1829.15 1466.67 1827.27 1467.08 Q1825.42 1467.5 1823.47 1468.38 L1823.47 1451.02 Z\" fill=\"#000000\" fill-rule=\"nonzero\" fill-opacity=\"1\" /><path clip-path=\"url(#clip710)\" d=\"M2245.09 1481.64 L2252.73 1481.64 L2252.73 1455.28 L2244.42 1456.95 L2244.42 1452.69 L2252.69 1451.02 L2257.36 1451.02 L2257.36 1481.64 L2265 1481.64 L2265 1485.58 L2245.09 1485.58 L2245.09 1481.64 Z\" fill=\"#000000\" fill-rule=\"nonzero\" fill-opacity=\"1\" /><path clip-path=\"url(#clip710)\" d=\"M2274.45 1479.7 L2279.33 1479.7 L2279.33 1485.58 L2274.45 1485.58 L2274.45 1479.7 Z\" fill=\"#000000\" fill-rule=\"nonzero\" fill-opacity=\"1\" /><path clip-path=\"url(#clip710)\" d=\"M2299.51 1454.1 Q2295.9 1454.1 2294.07 1457.66 Q2292.27 1461.2 2292.27 1468.33 Q2292.27 1475.44 2294.07 1479.01 Q2295.9 1482.55 2299.51 1482.55 Q2303.15 1482.55 2304.95 1479.01 Q2306.78 1475.44 2306.78 1468.33 Q2306.78 1461.2 2304.95 1457.66 Q2303.15 1454.1 2299.51 1454.1 M2299.51 1450.39 Q2305.32 1450.39 2308.38 1455 Q2311.46 1459.58 2311.46 1468.33 Q2311.46 1477.06 2308.38 1481.67 Q2305.32 1486.25 2299.51 1486.25 Q2293.7 1486.25 2290.63 1481.67 Q2287.57 1477.06 2287.57 1468.33 Q2287.57 1459.58 2290.63 1455 Q2293.7 1450.39 2299.51 1450.39 Z\" fill=\"#000000\" fill-rule=\"nonzero\" fill-opacity=\"1\" /><path clip-path=\"url(#clip710)\" d=\"M2329.68 1454.1 Q2326.07 1454.1 2324.24 1457.66 Q2322.43 1461.2 2322.43 1468.33 Q2322.43 1475.44 2324.24 1479.01 Q2326.07 1482.55 2329.68 1482.55 Q2333.31 1482.55 2335.12 1479.01 Q2336.94 1475.44 2336.94 1468.33 Q2336.94 1461.2 2335.12 1457.66 Q2333.31 1454.1 2329.68 1454.1 M2329.68 1450.39 Q2335.49 1450.39 2338.54 1455 Q2341.62 1459.58 2341.62 1468.33 Q2341.62 1477.06 2338.54 1481.67 Q2335.49 1486.25 2329.68 1486.25 Q2323.87 1486.25 2320.79 1481.67 Q2317.73 1477.06 2317.73 1468.33 Q2317.73 1459.58 2320.79 1455 Q2323.87 1450.39 2329.68 1450.39 Z\" fill=\"#000000\" fill-rule=\"nonzero\" fill-opacity=\"1\" /><path clip-path=\"url(#clip710)\" d=\"M1314.06 1532.4 L1301.17 1549.74 L1314.73 1568.04 L1307.82 1568.04 L1297.45 1554.04 L1287.07 1568.04 L1280.16 1568.04 L1294.01 1549.39 L1281.34 1532.4 L1288.25 1532.4 L1297.7 1545.1 L1307.15 1532.4 L1314.06 1532.4 Z\" fill=\"#000000\" fill-rule=\"nonzero\" fill-opacity=\"1\" /><polyline clip-path=\"url(#clip712)\" style=\"stroke:#000000; stroke-linecap:round; stroke-linejoin:round; stroke-width:2; stroke-opacity:0.1; fill:none\" points=\"242.135,1259.92 2352.76,1259.92 \"/>\n",
       "<polyline clip-path=\"url(#clip712)\" style=\"stroke:#000000; stroke-linecap:round; stroke-linejoin:round; stroke-width:2; stroke-opacity:0.1; fill:none\" points=\"242.135,980.787 2352.76,980.787 \"/>\n",
       "<polyline clip-path=\"url(#clip712)\" style=\"stroke:#000000; stroke-linecap:round; stroke-linejoin:round; stroke-width:2; stroke-opacity:0.1; fill:none\" points=\"242.135,701.649 2352.76,701.649 \"/>\n",
       "<polyline clip-path=\"url(#clip712)\" style=\"stroke:#000000; stroke-linecap:round; stroke-linejoin:round; stroke-width:2; stroke-opacity:0.1; fill:none\" points=\"242.135,422.512 2352.76,422.512 \"/>\n",
       "<polyline clip-path=\"url(#clip712)\" style=\"stroke:#000000; stroke-linecap:round; stroke-linejoin:round; stroke-width:2; stroke-opacity:0.1; fill:none\" points=\"242.135,143.374 2352.76,143.374 \"/>\n",
       "<polyline clip-path=\"url(#clip710)\" style=\"stroke:#000000; stroke-linecap:round; stroke-linejoin:round; stroke-width:4; stroke-opacity:1; fill:none\" points=\"242.135,1423.18 242.135,47.2441 \"/>\n",
       "<polyline clip-path=\"url(#clip710)\" style=\"stroke:#000000; stroke-linecap:round; stroke-linejoin:round; stroke-width:4; stroke-opacity:1; fill:none\" points=\"242.135,1259.92 261.032,1259.92 \"/>\n",
       "<polyline clip-path=\"url(#clip710)\" style=\"stroke:#000000; stroke-linecap:round; stroke-linejoin:round; stroke-width:4; stroke-opacity:1; fill:none\" points=\"242.135,980.787 261.032,980.787 \"/>\n",
       "<polyline clip-path=\"url(#clip710)\" style=\"stroke:#000000; stroke-linecap:round; stroke-linejoin:round; stroke-width:4; stroke-opacity:1; fill:none\" points=\"242.135,701.649 261.032,701.649 \"/>\n",
       "<polyline clip-path=\"url(#clip710)\" style=\"stroke:#000000; stroke-linecap:round; stroke-linejoin:round; stroke-width:4; stroke-opacity:1; fill:none\" points=\"242.135,422.512 261.032,422.512 \"/>\n",
       "<polyline clip-path=\"url(#clip710)\" style=\"stroke:#000000; stroke-linecap:round; stroke-linejoin:round; stroke-width:4; stroke-opacity:1; fill:none\" points=\"242.135,143.374 261.032,143.374 \"/>\n",
       "<path clip-path=\"url(#clip710)\" d=\"M114.26 1260.38 L143.936 1260.38 L143.936 1264.31 L114.26 1264.31 L114.26 1260.38 Z\" fill=\"#000000\" fill-rule=\"nonzero\" fill-opacity=\"1\" /><path clip-path=\"url(#clip710)\" d=\"M154.839 1273.27 L162.477 1273.27 L162.477 1246.9 L154.167 1248.57 L154.167 1244.31 L162.431 1242.64 L167.107 1242.64 L167.107 1273.27 L174.746 1273.27 L174.746 1277.2 L154.839 1277.2 L154.839 1273.27 Z\" fill=\"#000000\" fill-rule=\"nonzero\" fill-opacity=\"1\" /><path clip-path=\"url(#clip710)\" d=\"M194.19 1245.72 Q190.579 1245.72 188.75 1249.29 Q186.945 1252.83 186.945 1259.96 Q186.945 1267.07 188.75 1270.63 Q190.579 1274.17 194.19 1274.17 Q197.825 1274.17 199.63 1270.63 Q201.459 1267.07 201.459 1259.96 Q201.459 1252.83 199.63 1249.29 Q197.825 1245.72 194.19 1245.72 M194.19 1242.02 Q200 1242.02 203.056 1246.63 Q206.135 1251.21 206.135 1259.96 Q206.135 1268.69 203.056 1273.29 Q200 1277.88 194.19 1277.88 Q188.38 1277.88 185.301 1273.29 Q182.246 1268.69 182.246 1259.96 Q182.246 1251.21 185.301 1246.63 Q188.38 1242.02 194.19 1242.02 Z\" fill=\"#000000\" fill-rule=\"nonzero\" fill-opacity=\"1\" /><path clip-path=\"url(#clip710)\" d=\"M145.417 981.239 L175.093 981.239 L175.093 985.174 L145.417 985.174 L145.417 981.239 Z\" fill=\"#000000\" fill-rule=\"nonzero\" fill-opacity=\"1\" /><path clip-path=\"url(#clip710)\" d=\"M185.232 963.507 L203.588 963.507 L203.588 967.442 L189.514 967.442 L189.514 975.915 Q190.533 975.567 191.551 975.405 Q192.57 975.22 193.588 975.22 Q199.375 975.22 202.755 978.391 Q206.135 981.563 206.135 986.979 Q206.135 992.558 202.662 995.66 Q199.19 998.738 192.871 998.738 Q190.695 998.738 188.426 998.368 Q186.181 997.998 183.774 997.257 L183.774 992.558 Q185.857 993.692 188.079 994.248 Q190.301 994.803 192.778 994.803 Q196.783 994.803 199.121 992.697 Q201.459 990.59 201.459 986.979 Q201.459 983.368 199.121 981.262 Q196.783 979.155 192.778 979.155 Q190.903 979.155 189.028 979.572 Q187.176 979.989 185.232 980.868 L185.232 963.507 Z\" fill=\"#000000\" fill-rule=\"nonzero\" fill-opacity=\"1\" /><path clip-path=\"url(#clip710)\" d=\"M194.19 687.448 Q190.579 687.448 188.75 691.013 Q186.945 694.555 186.945 701.684 Q186.945 708.791 188.75 712.355 Q190.579 715.897 194.19 715.897 Q197.825 715.897 199.63 712.355 Q201.459 708.791 201.459 701.684 Q201.459 694.555 199.63 691.013 Q197.825 687.448 194.19 687.448 M194.19 683.744 Q200 683.744 203.056 688.351 Q206.135 692.934 206.135 701.684 Q206.135 710.411 203.056 715.017 Q200 719.601 194.19 719.601 Q188.38 719.601 185.301 715.017 Q182.246 710.411 182.246 701.684 Q182.246 692.934 185.301 688.351 Q188.38 683.744 194.19 683.744 Z\" fill=\"#000000\" fill-rule=\"nonzero\" fill-opacity=\"1\" /><path clip-path=\"url(#clip710)\" d=\"M185.232 405.232 L203.588 405.232 L203.588 409.167 L189.514 409.167 L189.514 417.639 Q190.533 417.292 191.551 417.13 Q192.57 416.945 193.588 416.945 Q199.375 416.945 202.755 420.116 Q206.135 423.287 206.135 428.704 Q206.135 434.282 202.662 437.384 Q199.19 440.463 192.871 440.463 Q190.695 440.463 188.426 440.093 Q186.181 439.722 183.774 438.981 L183.774 434.282 Q185.857 435.417 188.079 435.972 Q190.301 436.528 192.778 436.528 Q196.783 436.528 199.121 434.421 Q201.459 432.315 201.459 428.704 Q201.459 425.093 199.121 422.986 Q196.783 420.88 192.778 420.88 Q190.903 420.88 189.028 421.296 Q187.176 421.713 185.232 422.593 L185.232 405.232 Z\" fill=\"#000000\" fill-rule=\"nonzero\" fill-opacity=\"1\" /><path clip-path=\"url(#clip710)\" d=\"M154.839 156.719 L162.477 156.719 L162.477 130.353 L154.167 132.02 L154.167 127.761 L162.431 126.094 L167.107 126.094 L167.107 156.719 L174.746 156.719 L174.746 160.654 L154.839 160.654 L154.839 156.719 Z\" fill=\"#000000\" fill-rule=\"nonzero\" fill-opacity=\"1\" /><path clip-path=\"url(#clip710)\" d=\"M194.19 129.173 Q190.579 129.173 188.75 132.737 Q186.945 136.279 186.945 143.409 Q186.945 150.515 188.75 154.08 Q190.579 157.622 194.19 157.622 Q197.825 157.622 199.63 154.08 Q201.459 150.515 201.459 143.409 Q201.459 136.279 199.63 132.737 Q197.825 129.173 194.19 129.173 M194.19 125.469 Q200 125.469 203.056 130.075 Q206.135 134.659 206.135 143.409 Q206.135 152.135 203.056 156.742 Q200 161.325 194.19 161.325 Q188.38 161.325 185.301 156.742 Q182.246 152.135 182.246 143.409 Q182.246 134.659 185.301 130.075 Q188.38 125.469 194.19 125.469 Z\" fill=\"#000000\" fill-rule=\"nonzero\" fill-opacity=\"1\" /><path clip-path=\"url(#clip710)\" d=\"M67.3143 733.525 Q73.68 736.008 75.6216 738.363 Q77.5631 740.718 77.5631 744.665 L77.5631 749.344 L72.6615 749.344 L72.6615 745.906 Q72.6615 743.487 71.5157 742.151 Q70.3699 740.814 66.1048 739.191 L63.4312 738.14 L28.3562 752.559 L28.3562 746.352 L56.238 735.212 L28.3562 724.072 L28.3562 717.865 L67.3143 733.525 Z\" fill=\"#000000\" fill-rule=\"nonzero\" fill-opacity=\"1\" /><path clip-path=\"url(#clip712)\" d=\"M301.869 852.781 L2293.02 982.148 L2293.02 86.1857 L301.869 773.828  Z\" fill=\"#009af9\" fill-rule=\"evenodd\" fill-opacity=\"0.5\"/>\n",
       "<polyline clip-path=\"url(#clip712)\" style=\"stroke:#009af9; stroke-linecap:round; stroke-linejoin:round; stroke-width:4; stroke-opacity:1; fill:none\" points=\"301.869,813.305 2293.02,534.167 \"/>\n",
       "<circle clip-path=\"url(#clip712)\" cx=\"352.713\" cy=\"773.68\" r=\"14.4\" fill=\"#e26f46\" fill-rule=\"evenodd\" fill-opacity=\"1\" stroke=\"#000000\" stroke-opacity=\"1\" stroke-width=\"3.2\"/>\n",
       "<circle clip-path=\"url(#clip712)\" cx=\"877.306\" cy=\"765.743\" r=\"14.4\" fill=\"#e26f46\" fill-rule=\"evenodd\" fill-opacity=\"1\" stroke=\"#000000\" stroke-opacity=\"1\" stroke-width=\"3.2\"/>\n",
       "<circle clip-path=\"url(#clip712)\" cx=\"2215.64\" cy=\"818.804\" r=\"14.4\" fill=\"#e26f46\" fill-rule=\"evenodd\" fill-opacity=\"1\" stroke=\"#000000\" stroke-opacity=\"1\" stroke-width=\"3.2\"/>\n",
       "<circle clip-path=\"url(#clip712)\" cx=\"787.661\" cy=\"801.295\" r=\"14.4\" fill=\"#e26f46\" fill-rule=\"evenodd\" fill-opacity=\"1\" stroke=\"#000000\" stroke-opacity=\"1\" stroke-width=\"3.2\"/>\n",
       "<circle clip-path=\"url(#clip712)\" cx=\"903.389\" cy=\"802.795\" r=\"14.4\" fill=\"#e26f46\" fill-rule=\"evenodd\" fill-opacity=\"1\" stroke=\"#000000\" stroke-opacity=\"1\" stroke-width=\"3.2\"/>\n",
       "<circle clip-path=\"url(#clip712)\" cx=\"1367.59\" cy=\"836.164\" r=\"14.4\" fill=\"#e26f46\" fill-rule=\"evenodd\" fill-opacity=\"1\" stroke=\"#000000\" stroke-opacity=\"1\" stroke-width=\"3.2\"/>\n",
       "<circle clip-path=\"url(#clip712)\" cx=\"318.868\" cy=\"862.305\" r=\"14.4\" fill=\"#e26f46\" fill-rule=\"evenodd\" fill-opacity=\"1\" stroke=\"#000000\" stroke-opacity=\"1\" stroke-width=\"3.2\"/>\n",
       "<circle clip-path=\"url(#clip712)\" cx=\"1900.44\" cy=\"400.979\" r=\"14.4\" fill=\"#e26f46\" fill-rule=\"evenodd\" fill-opacity=\"1\" stroke=\"#000000\" stroke-opacity=\"1\" stroke-width=\"3.2\"/>\n",
       "<circle clip-path=\"url(#clip712)\" cx=\"1159.29\" cy=\"661.641\" r=\"14.4\" fill=\"#e26f46\" fill-rule=\"evenodd\" fill-opacity=\"1\" stroke=\"#000000\" stroke-opacity=\"1\" stroke-width=\"3.2\"/>\n",
       "<circle clip-path=\"url(#clip712)\" cx=\"1608.08\" cy=\"540.787\" r=\"14.4\" fill=\"#e26f46\" fill-rule=\"evenodd\" fill-opacity=\"1\" stroke=\"#000000\" stroke-opacity=\"1\" stroke-width=\"3.2\"/>\n",
       "<circle clip-path=\"url(#clip712)\" cx=\"526.563\" cy=\"777.134\" r=\"14.4\" fill=\"#e26f46\" fill-rule=\"evenodd\" fill-opacity=\"1\" stroke=\"#000000\" stroke-opacity=\"1\" stroke-width=\"3.2\"/>\n",
       "<circle clip-path=\"url(#clip712)\" cx=\"1709.44\" cy=\"921.747\" r=\"14.4\" fill=\"#e26f46\" fill-rule=\"evenodd\" fill-opacity=\"1\" stroke=\"#000000\" stroke-opacity=\"1\" stroke-width=\"3.2\"/>\n",
       "<circle clip-path=\"url(#clip712)\" cx=\"1170.87\" cy=\"791.669\" r=\"14.4\" fill=\"#e26f46\" fill-rule=\"evenodd\" fill-opacity=\"1\" stroke=\"#000000\" stroke-opacity=\"1\" stroke-width=\"3.2\"/>\n",
       "<circle clip-path=\"url(#clip712)\" cx=\"779.726\" cy=\"710.515\" r=\"14.4\" fill=\"#e26f46\" fill-rule=\"evenodd\" fill-opacity=\"1\" stroke=\"#000000\" stroke-opacity=\"1\" stroke-width=\"3.2\"/>\n",
       "<circle clip-path=\"url(#clip712)\" cx=\"2137.58\" cy=\"705.295\" r=\"14.4\" fill=\"#e26f46\" fill-rule=\"evenodd\" fill-opacity=\"1\" stroke=\"#000000\" stroke-opacity=\"1\" stroke-width=\"3.2\"/>\n",
       "<circle clip-path=\"url(#clip712)\" cx=\"1013.52\" cy=\"761.372\" r=\"14.4\" fill=\"#e26f46\" fill-rule=\"evenodd\" fill-opacity=\"1\" stroke=\"#000000\" stroke-opacity=\"1\" stroke-width=\"3.2\"/>\n",
       "<circle clip-path=\"url(#clip712)\" cx=\"1009.88\" cy=\"739.736\" r=\"14.4\" fill=\"#e26f46\" fill-rule=\"evenodd\" fill-opacity=\"1\" stroke=\"#000000\" stroke-opacity=\"1\" stroke-width=\"3.2\"/>\n",
       "<circle clip-path=\"url(#clip712)\" cx=\"879.049\" cy=\"719.111\" r=\"14.4\" fill=\"#e26f46\" fill-rule=\"evenodd\" fill-opacity=\"1\" stroke=\"#000000\" stroke-opacity=\"1\" stroke-width=\"3.2\"/>\n",
       "<circle clip-path=\"url(#clip712)\" cx=\"1289.71\" cy=\"831.79\" r=\"14.4\" fill=\"#e26f46\" fill-rule=\"evenodd\" fill-opacity=\"1\" stroke=\"#000000\" stroke-opacity=\"1\" stroke-width=\"3.2\"/>\n",
       "<circle clip-path=\"url(#clip712)\" cx=\"1320.59\" cy=\"756.199\" r=\"14.4\" fill=\"#e26f46\" fill-rule=\"evenodd\" fill-opacity=\"1\" stroke=\"#000000\" stroke-opacity=\"1\" stroke-width=\"3.2\"/>\n",
       "<circle clip-path=\"url(#clip712)\" cx=\"1393.46\" cy=\"585.519\" r=\"14.4\" fill=\"#e26f46\" fill-rule=\"evenodd\" fill-opacity=\"1\" stroke=\"#000000\" stroke-opacity=\"1\" stroke-width=\"3.2\"/>\n",
       "<circle clip-path=\"url(#clip712)\" cx=\"653.845\" cy=\"765.121\" r=\"14.4\" fill=\"#e26f46\" fill-rule=\"evenodd\" fill-opacity=\"1\" stroke=\"#000000\" stroke-opacity=\"1\" stroke-width=\"3.2\"/>\n",
       "<circle clip-path=\"url(#clip712)\" cx=\"942.503\" cy=\"926.956\" r=\"14.4\" fill=\"#e26f46\" fill-rule=\"evenodd\" fill-opacity=\"1\" stroke=\"#000000\" stroke-opacity=\"1\" stroke-width=\"3.2\"/>\n",
       "<circle clip-path=\"url(#clip712)\" cx=\"1644.69\" cy=\"524.655\" r=\"14.4\" fill=\"#e26f46\" fill-rule=\"evenodd\" fill-opacity=\"1\" stroke=\"#000000\" stroke-opacity=\"1\" stroke-width=\"3.2\"/>\n",
       "<circle clip-path=\"url(#clip712)\" cx=\"2143.31\" cy=\"1291.11\" r=\"14.4\" fill=\"#e26f46\" fill-rule=\"evenodd\" fill-opacity=\"1\" stroke=\"#000000\" stroke-opacity=\"1\" stroke-width=\"3.2\"/>\n",
       "<circle clip-path=\"url(#clip712)\" cx=\"1027.95\" cy=\"762.109\" r=\"14.4\" fill=\"#e26f46\" fill-rule=\"evenodd\" fill-opacity=\"1\" stroke=\"#000000\" stroke-opacity=\"1\" stroke-width=\"3.2\"/>\n",
       "<circle clip-path=\"url(#clip712)\" cx=\"1198.87\" cy=\"729.789\" r=\"14.4\" fill=\"#e26f46\" fill-rule=\"evenodd\" fill-opacity=\"1\" stroke=\"#000000\" stroke-opacity=\"1\" stroke-width=\"3.2\"/>\n",
       "<circle clip-path=\"url(#clip712)\" cx=\"756.755\" cy=\"744.614\" r=\"14.4\" fill=\"#e26f46\" fill-rule=\"evenodd\" fill-opacity=\"1\" stroke=\"#000000\" stroke-opacity=\"1\" stroke-width=\"3.2\"/>\n",
       "<circle clip-path=\"url(#clip712)\" cx=\"916.056\" cy=\"809.73\" r=\"14.4\" fill=\"#e26f46\" fill-rule=\"evenodd\" fill-opacity=\"1\" stroke=\"#000000\" stroke-opacity=\"1\" stroke-width=\"3.2\"/>\n",
       "<circle clip-path=\"url(#clip712)\" cx=\"1115.23\" cy=\"780.284\" r=\"14.4\" fill=\"#e26f46\" fill-rule=\"evenodd\" fill-opacity=\"1\" stroke=\"#000000\" stroke-opacity=\"1\" stroke-width=\"3.2\"/>\n",
       "<circle clip-path=\"url(#clip712)\" cx=\"392.966\" cy=\"766.254\" r=\"14.4\" fill=\"#e26f46\" fill-rule=\"evenodd\" fill-opacity=\"1\" stroke=\"#000000\" stroke-opacity=\"1\" stroke-width=\"3.2\"/>\n",
       "<circle clip-path=\"url(#clip712)\" cx=\"2080.02\" cy=\"1384.24\" r=\"14.4\" fill=\"#e26f46\" fill-rule=\"evenodd\" fill-opacity=\"1\" stroke=\"#000000\" stroke-opacity=\"1\" stroke-width=\"3.2\"/>\n",
       "<circle clip-path=\"url(#clip712)\" cx=\"908.759\" cy=\"713.319\" r=\"14.4\" fill=\"#e26f46\" fill-rule=\"evenodd\" fill-opacity=\"1\" stroke=\"#000000\" stroke-opacity=\"1\" stroke-width=\"3.2\"/>\n",
       "<circle clip-path=\"url(#clip712)\" cx=\"835.342\" cy=\"864.946\" r=\"14.4\" fill=\"#e26f46\" fill-rule=\"evenodd\" fill-opacity=\"1\" stroke=\"#000000\" stroke-opacity=\"1\" stroke-width=\"3.2\"/>\n",
       "<circle clip-path=\"url(#clip712)\" cx=\"1572.79\" cy=\"832.516\" r=\"14.4\" fill=\"#e26f46\" fill-rule=\"evenodd\" fill-opacity=\"1\" stroke=\"#000000\" stroke-opacity=\"1\" stroke-width=\"3.2\"/>\n",
       "<circle clip-path=\"url(#clip712)\" cx=\"1807.49\" cy=\"584.297\" r=\"14.4\" fill=\"#e26f46\" fill-rule=\"evenodd\" fill-opacity=\"1\" stroke=\"#000000\" stroke-opacity=\"1\" stroke-width=\"3.2\"/>\n",
       "<circle clip-path=\"url(#clip712)\" cx=\"978.142\" cy=\"798.591\" r=\"14.4\" fill=\"#e26f46\" fill-rule=\"evenodd\" fill-opacity=\"1\" stroke=\"#000000\" stroke-opacity=\"1\" stroke-width=\"3.2\"/>\n",
       "<circle clip-path=\"url(#clip712)\" cx=\"1246.12\" cy=\"595.653\" r=\"14.4\" fill=\"#e26f46\" fill-rule=\"evenodd\" fill-opacity=\"1\" stroke=\"#000000\" stroke-opacity=\"1\" stroke-width=\"3.2\"/>\n",
       "<circle clip-path=\"url(#clip712)\" cx=\"620.309\" cy=\"748.53\" r=\"14.4\" fill=\"#e26f46\" fill-rule=\"evenodd\" fill-opacity=\"1\" stroke=\"#000000\" stroke-opacity=\"1\" stroke-width=\"3.2\"/>\n",
       "<circle clip-path=\"url(#clip712)\" cx=\"1877.06\" cy=\"412.095\" r=\"14.4\" fill=\"#e26f46\" fill-rule=\"evenodd\" fill-opacity=\"1\" stroke=\"#000000\" stroke-opacity=\"1\" stroke-width=\"3.2\"/>\n",
       "<circle clip-path=\"url(#clip712)\" cx=\"497.328\" cy=\"838.475\" r=\"14.4\" fill=\"#e26f46\" fill-rule=\"evenodd\" fill-opacity=\"1\" stroke=\"#000000\" stroke-opacity=\"1\" stroke-width=\"3.2\"/>\n",
       "<circle clip-path=\"url(#clip712)\" cx=\"1713.77\" cy=\"561.481\" r=\"14.4\" fill=\"#e26f46\" fill-rule=\"evenodd\" fill-opacity=\"1\" stroke=\"#000000\" stroke-opacity=\"1\" stroke-width=\"3.2\"/>\n",
       "<circle clip-path=\"url(#clip712)\" cx=\"1590.98\" cy=\"559.573\" r=\"14.4\" fill=\"#e26f46\" fill-rule=\"evenodd\" fill-opacity=\"1\" stroke=\"#000000\" stroke-opacity=\"1\" stroke-width=\"3.2\"/>\n",
       "<circle clip-path=\"url(#clip712)\" cx=\"838.396\" cy=\"792.867\" r=\"14.4\" fill=\"#e26f46\" fill-rule=\"evenodd\" fill-opacity=\"1\" stroke=\"#000000\" stroke-opacity=\"1\" stroke-width=\"3.2\"/>\n",
       "<circle clip-path=\"url(#clip712)\" cx=\"1132.98\" cy=\"558.395\" r=\"14.4\" fill=\"#e26f46\" fill-rule=\"evenodd\" fill-opacity=\"1\" stroke=\"#000000\" stroke-opacity=\"1\" stroke-width=\"3.2\"/>\n",
       "<circle clip-path=\"url(#clip712)\" cx=\"1000.32\" cy=\"792.469\" r=\"14.4\" fill=\"#e26f46\" fill-rule=\"evenodd\" fill-opacity=\"1\" stroke=\"#000000\" stroke-opacity=\"1\" stroke-width=\"3.2\"/>\n",
       "<circle clip-path=\"url(#clip712)\" cx=\"1352.72\" cy=\"665.979\" r=\"14.4\" fill=\"#e26f46\" fill-rule=\"evenodd\" fill-opacity=\"1\" stroke=\"#000000\" stroke-opacity=\"1\" stroke-width=\"3.2\"/>\n",
       "<circle clip-path=\"url(#clip712)\" cx=\"1695.1\" cy=\"123.449\" r=\"14.4\" fill=\"#e26f46\" fill-rule=\"evenodd\" fill-opacity=\"1\" stroke=\"#000000\" stroke-opacity=\"1\" stroke-width=\"3.2\"/>\n",
       "<circle clip-path=\"url(#clip712)\" cx=\"1918.34\" cy=\"321.982\" r=\"14.4\" fill=\"#e26f46\" fill-rule=\"evenodd\" fill-opacity=\"1\" stroke=\"#000000\" stroke-opacity=\"1\" stroke-width=\"3.2\"/>\n",
       "<circle clip-path=\"url(#clip712)\" cx=\"1100.75\" cy=\"521.382\" r=\"14.4\" fill=\"#e26f46\" fill-rule=\"evenodd\" fill-opacity=\"1\" stroke=\"#000000\" stroke-opacity=\"1\" stroke-width=\"3.2\"/>\n",
       "<polyline clip-path=\"url(#clip712)\" style=\"stroke:#ff0000; stroke-linecap:round; stroke-linejoin:round; stroke-width:4; stroke-opacity:1; fill:none\" points=\"301.869,777.345 2293.02,665.768 \"/>\n",
       "<polyline clip-path=\"url(#clip712)\" style=\"stroke:#008000; stroke-linecap:round; stroke-linejoin:round; stroke-width:4; stroke-opacity:1; fill:none\" points=\"301.869,817.41 2293.02,602.817 \"/>\n",
       "<path clip-path=\"url(#clip710)\" d=\"M312.489 352.309 L622.717 352.309 L622.717 93.1086 L312.489 93.1086  Z\" fill=\"#ffffff\" fill-rule=\"evenodd\" fill-opacity=\"1\"/>\n",
       "<polyline clip-path=\"url(#clip710)\" style=\"stroke:#000000; stroke-linecap:round; stroke-linejoin:round; stroke-width:4; stroke-opacity:1; fill:none\" points=\"312.489,352.309 622.717,352.309 622.717,93.1086 312.489,93.1086 312.489,352.309 \"/>\n",
       "<polyline clip-path=\"url(#clip710)\" style=\"stroke:#009af9; stroke-linecap:round; stroke-linejoin:round; stroke-width:4; stroke-opacity:1; fill:none\" points=\"335.94,144.949 476.648,144.949 \"/>\n",
       "<path clip-path=\"url(#clip710)\" d=\"M524.014 126.304 Q524.014 127.592 523.194 128.389 Q522.398 129.185 521.39 129.185 Q520.664 129.185 520.126 128.74 Q519.61 128.295 519.61 127.522 Q519.61 126.726 520.219 125.883 Q520.828 125.039 522.21 124.922 Q521.297 124.056 519.845 124.056 Q519.119 124.056 518.51 124.524 Q517.924 124.969 517.596 125.695 Q517.245 126.445 516.448 130.684 Q516.191 132.066 515.956 133.401 Q515.722 134.736 515.441 136.142 L519.423 136.142 Q519.938 136.142 520.149 136.165 Q520.36 136.188 520.524 136.306 Q520.711 136.423 520.711 136.68 Q520.711 137.336 520.407 137.5 Q520.126 137.641 519.282 137.641 L515.16 137.641 L512.279 152.842 Q512.209 153.287 511.904 154.692 Q511.623 156.074 510.944 158.346 Q510.265 160.641 509.586 162 Q509.211 162.773 508.719 163.499 Q508.25 164.249 507.571 164.998 Q506.892 165.748 506.002 166.193 Q505.112 166.661 504.175 166.661 Q502.582 166.661 501.341 165.771 Q500.099 164.881 500.099 163.358 Q500.099 162.07 500.896 161.274 Q501.716 160.478 502.723 160.478 Q503.449 160.478 503.964 160.923 Q504.503 161.368 504.503 162.141 Q504.503 162.468 504.386 162.843 Q504.269 163.218 504.011 163.64 Q503.753 164.085 503.191 164.389 Q502.629 164.694 501.856 164.74 Q502.77 165.607 504.175 165.607 Q504.62 165.607 505.018 165.42 Q505.416 165.256 505.744 164.834 Q506.096 164.412 506.353 163.991 Q506.611 163.593 506.869 162.82 Q507.126 162.07 507.29 161.508 Q507.454 160.946 507.665 159.939 Q507.899 158.932 508.016 158.323 Q508.133 157.737 508.344 156.589 L511.928 137.641 L508.766 137.641 Q508.204 137.641 507.969 137.617 Q507.759 137.594 507.595 137.477 Q507.431 137.336 507.431 137.055 Q507.431 136.61 507.618 136.423 Q507.829 136.212 508.063 136.188 Q508.297 136.142 508.859 136.142 L512.185 136.142 Q513.31 130.216 513.755 128.623 Q514.27 126.937 515.066 125.765 Q515.863 124.571 516.753 124.009 Q517.643 123.447 518.369 123.236 Q519.119 123.002 519.845 123.002 Q521.484 123.002 522.749 123.892 Q524.014 124.758 524.014 126.304 Z\" fill=\"#000000\" fill-rule=\"nonzero\" fill-opacity=\"1\" /><path clip-path=\"url(#clip710)\" d=\"M530.466 144.831 Q530.466 136.727 533.488 130.192 Q534.776 127.452 536.58 125.156 Q538.383 122.861 539.578 121.854 Q540.772 120.847 541.1 120.847 Q541.569 120.847 541.592 121.315 Q541.592 121.549 540.96 122.135 Q533.23 130.005 533.254 144.831 Q533.254 159.705 540.772 167.27 Q541.592 168.09 541.592 168.347 Q541.592 168.816 541.1 168.816 Q540.772 168.816 539.625 167.856 Q538.477 166.895 536.697 164.694 Q534.917 162.492 533.628 159.798 Q530.466 153.263 530.466 144.831 Z\" fill=\"#000000\" fill-rule=\"nonzero\" fill-opacity=\"1\" /><path clip-path=\"url(#clip710)\" d=\"M569.125 138.788 Q569.125 140.1 568.305 140.85 Q567.485 141.576 566.548 141.576 Q565.658 141.576 565.19 141.06 Q564.721 140.545 564.721 139.889 Q564.721 138.999 565.377 138.226 Q566.033 137.453 567.017 137.289 Q566.057 136.68 564.628 136.68 Q563.691 136.68 562.871 137.172 Q562.075 137.664 561.583 138.296 Q561.114 138.929 560.693 139.842 Q560.295 140.732 560.131 141.271 Q559.99 141.786 559.873 142.349 L558.233 148.907 Q557.437 152.022 557.437 153.123 Q557.437 154.481 558.093 155.395 Q558.749 156.285 560.06 156.285 Q560.576 156.285 561.161 156.144 Q561.747 155.98 562.496 155.559 Q563.269 155.114 563.948 154.458 Q564.651 153.779 565.33 152.631 Q566.01 151.483 566.455 150.008 Q566.595 149.492 567.064 149.492 Q567.649 149.492 567.649 149.961 Q567.649 150.359 567.321 151.202 Q567.017 152.022 566.338 153.099 Q565.682 154.153 564.815 155.114 Q563.948 156.051 562.66 156.707 Q561.372 157.362 559.967 157.362 Q557.952 157.362 556.617 156.285 Q555.282 155.207 554.79 153.708 Q554.673 153.919 554.509 154.2 Q554.345 154.481 553.853 155.114 Q553.385 155.723 552.846 156.191 Q552.308 156.636 551.464 156.988 Q550.645 157.362 549.754 157.362 Q548.63 157.362 547.623 157.034 Q546.639 156.707 545.937 155.957 Q545.234 155.207 545.234 154.177 Q545.234 153.029 546.007 152.233 Q546.803 151.413 547.881 151.413 Q548.56 151.413 549.099 151.811 Q549.661 152.209 549.661 153.076 Q549.661 154.036 549.005 154.762 Q548.349 155.489 547.412 155.676 Q548.373 156.285 549.801 156.285 Q551.347 156.285 552.565 154.926 Q553.783 153.568 554.369 151.296 Q555.821 145.838 556.383 143.403 Q556.945 140.943 556.945 139.889 Q556.945 138.905 556.688 138.226 Q556.43 137.547 555.985 137.242 Q555.563 136.915 555.165 136.797 Q554.79 136.68 554.369 136.68 Q553.666 136.68 552.87 136.961 Q552.097 137.242 551.16 137.898 Q550.246 138.531 549.38 139.842 Q548.513 141.154 547.928 142.958 Q547.81 143.496 547.295 143.496 Q546.733 143.473 546.733 143.004 Q546.733 142.606 547.037 141.786 Q547.365 140.943 548.021 139.889 Q548.7 138.835 549.567 137.898 Q550.457 136.938 551.745 136.282 Q553.057 135.626 554.462 135.626 Q555.095 135.626 555.704 135.767 Q556.336 135.884 557.086 136.235 Q557.859 136.587 558.538 137.36 Q559.217 138.133 559.639 139.257 Q559.92 138.718 560.295 138.203 Q560.693 137.687 561.302 137.055 Q561.934 136.399 562.801 136.024 Q563.691 135.626 564.675 135.626 Q565.635 135.626 566.572 135.884 Q567.509 136.118 568.305 136.891 Q569.125 137.641 569.125 138.788 Z\" fill=\"#000000\" fill-rule=\"nonzero\" fill-opacity=\"1\" /><path clip-path=\"url(#clip710)\" d=\"M573.737 168.347 Q573.737 168.113 574.346 167.528 Q582.076 159.658 582.076 144.831 Q582.076 129.958 574.651 122.439 Q573.737 121.573 573.737 121.315 Q573.737 120.847 574.206 120.847 Q574.534 120.847 575.681 121.807 Q576.853 122.767 578.609 124.969 Q580.389 127.171 581.701 129.864 Q584.863 136.399 584.863 144.831 Q584.863 152.935 581.842 159.47 Q580.553 162.211 578.75 164.506 Q576.946 166.802 575.752 167.809 Q574.557 168.816 574.206 168.816 Q573.737 168.816 573.737 168.347 Z\" fill=\"#000000\" fill-rule=\"nonzero\" fill-opacity=\"1\" /><circle clip-path=\"url(#clip710)\" cx=\"406.294\" cy=\"196.789\" r=\"20.48\" fill=\"#e26f46\" fill-rule=\"evenodd\" fill-opacity=\"1\" stroke=\"#000000\" stroke-opacity=\"1\" stroke-width=\"4.55111\"/>\n",
       "<path clip-path=\"url(#clip710)\" d=\"M522.234 183.043 Q522.234 183.371 522.023 184.144 L517.432 202.46 Q516.425 206.536 513.146 209.394 Q509.89 212.251 506.189 212.251 Q503.964 212.251 502.535 211.057 Q501.107 209.885 501.107 208.082 Q501.107 206.489 501.95 205.716 Q502.793 204.967 503.8 204.967 Q504.128 204.967 504.479 205.06 Q504.831 205.154 505.206 205.552 Q505.58 205.95 505.58 206.63 Q505.58 207.731 504.62 208.597 Q504.152 208.995 503.707 209.089 Q503.285 209.183 502.559 209.183 Q502.84 209.839 503.355 210.284 Q503.87 210.729 504.456 210.893 Q505.042 211.08 505.416 211.127 Q505.815 211.197 506.189 211.197 Q509.187 211.197 511.483 208.176 Q512.162 207.262 512.654 206.349 Q513.169 205.459 513.544 204.358 Q513.919 203.28 514.083 202.695 Q514.27 202.109 514.598 200.774 Q512.42 202.952 509.75 202.952 Q508.625 202.952 507.618 202.648 Q506.634 202.343 505.768 201.711 Q504.901 201.055 504.386 199.907 Q503.894 198.76 503.894 197.237 Q503.894 195.621 504.526 193.419 Q505.159 191.218 506.681 187.166 Q507.501 184.894 507.501 183.793 Q507.501 183.254 507.384 182.926 Q507.267 182.575 507.033 182.458 Q506.798 182.317 506.658 182.294 Q506.541 182.27 506.306 182.27 Q504.925 182.27 503.636 183.676 Q502.348 185.081 501.458 188.22 Q501.271 188.805 501.153 188.946 Q501.036 189.086 500.685 189.086 Q500.099 189.063 500.099 188.594 Q500.099 188.407 500.31 187.681 Q500.521 186.931 501.013 185.831 Q501.528 184.706 502.231 183.699 Q502.934 182.668 504.034 181.942 Q505.159 181.216 506.447 181.216 Q508.204 181.216 509.281 182.364 Q510.382 183.488 510.382 185.151 Q510.382 185.831 510.195 186.44 Q510.031 187.025 509.422 188.594 Q506.962 194.918 506.962 198.01 Q506.962 198.76 507.079 199.392 Q507.22 200.001 507.524 200.61 Q507.829 201.196 508.438 201.547 Q509.07 201.875 509.937 201.875 Q511.038 201.875 512.068 201.36 Q513.122 200.821 513.778 200.095 Q514.457 199.369 514.856 198.76 Q515.277 198.127 515.371 197.799 L517.526 189.18 L518.486 185.339 Q518.931 183.254 519.142 182.739 Q519.423 182.247 519.915 181.989 Q520.407 181.732 520.828 181.732 Q521.414 181.732 521.812 182.083 Q522.234 182.434 522.234 183.043 Z\" fill=\"#000000\" fill-rule=\"nonzero\" fill-opacity=\"1\" /><polyline clip-path=\"url(#clip710)\" style=\"stroke:#ff0000; stroke-linecap:round; stroke-linejoin:round; stroke-width:4; stroke-opacity:1; fill:none\" points=\"335.94,248.629 476.648,248.629 \"/>\n",
       "<path clip-path=\"url(#clip710)\" d=\"M500.099 231.349 L504.775 231.349 L504.775 261.973 L521.604 261.973 L521.604 265.909 L500.099 265.909 L500.099 231.349 Z\" fill=\"#000000\" fill-rule=\"nonzero\" fill-opacity=\"1\" /><path clip-path=\"url(#clip710)\" d=\"M547.229 232.483 L547.229 237.043 Q544.567 235.77 542.206 235.145 Q539.845 234.52 537.646 234.52 Q533.826 234.52 531.743 236.001 Q529.683 237.483 529.683 240.214 Q529.683 242.506 531.048 243.687 Q532.437 244.844 536.28 245.562 L539.104 246.14 Q544.335 247.136 546.812 249.659 Q549.312 252.159 549.312 256.372 Q549.312 261.395 545.933 263.987 Q542.576 266.58 536.072 266.58 Q533.618 266.58 530.84 266.024 Q528.085 265.469 525.122 264.381 L525.122 259.566 Q527.97 261.163 530.701 261.973 Q533.433 262.784 536.072 262.784 Q540.076 262.784 542.252 261.21 Q544.428 259.636 544.428 256.719 Q544.428 254.173 542.854 252.737 Q541.303 251.302 537.738 250.585 L534.891 250.029 Q529.66 248.987 527.322 246.765 Q524.984 244.543 524.984 240.585 Q524.984 236.001 528.201 233.362 Q531.442 230.724 537.113 230.724 Q539.544 230.724 542.067 231.163 Q544.59 231.603 547.229 232.483 Z\" fill=\"#000000\" fill-rule=\"nonzero\" fill-opacity=\"1\" /><polyline clip-path=\"url(#clip710)\" style=\"stroke:#008000; stroke-linecap:round; stroke-linejoin:round; stroke-width:4; stroke-opacity:1; fill:none\" points=\"335.94,300.469 476.648,300.469 \"/>\n",
       "<path clip-path=\"url(#clip710)\" d=\"M500.099 283.189 L504.822 283.189 L512.09 312.401 L519.335 283.189 L524.59 283.189 L531.859 312.401 L539.104 283.189 L543.849 283.189 L535.169 317.749 L529.289 317.749 L521.998 287.749 L514.636 317.749 L508.757 317.749 L500.099 283.189 Z\" fill=\"#000000\" fill-rule=\"nonzero\" fill-opacity=\"1\" /><path clip-path=\"url(#clip710)\" d=\"M550.053 283.189 L554.729 283.189 L554.729 313.813 L571.557 313.813 L571.557 317.749 L550.053 317.749 L550.053 283.189 Z\" fill=\"#000000\" fill-rule=\"nonzero\" fill-opacity=\"1\" /><path clip-path=\"url(#clip710)\" d=\"M597.182 284.323 L597.182 288.883 Q594.52 287.61 592.159 286.985 Q589.798 286.36 587.599 286.36 Q583.78 286.36 581.696 287.841 Q579.636 289.323 579.636 292.054 Q579.636 294.346 581.002 295.527 Q582.391 296.684 586.233 297.402 L589.057 297.98 Q594.289 298.976 596.766 301.499 Q599.266 303.999 599.266 308.212 Q599.266 313.235 595.886 315.827 Q592.53 318.42 586.025 318.42 Q583.571 318.42 580.793 317.864 Q578.039 317.309 575.076 316.221 L575.076 311.406 Q577.923 313.003 580.655 313.813 Q583.386 314.624 586.025 314.624 Q590.03 314.624 592.205 313.05 Q594.381 311.476 594.381 308.559 Q594.381 306.013 592.807 304.577 Q591.256 303.142 587.692 302.425 L584.844 301.869 Q579.613 300.827 577.275 298.605 Q574.937 296.383 574.937 292.425 Q574.937 287.841 578.155 285.202 Q581.395 282.564 587.067 282.564 Q589.497 282.564 592.02 283.003 Q594.543 283.443 597.182 284.323 Z\" fill=\"#000000\" fill-rule=\"nonzero\" fill-opacity=\"1\" /></svg>\n"
      ],
      "text/html": [
       "<?xml version=\"1.0\" encoding=\"utf-8\"?>\n",
       "<svg xmlns=\"http://www.w3.org/2000/svg\" xmlns:xlink=\"http://www.w3.org/1999/xlink\" width=\"600\" height=\"400\" viewBox=\"0 0 2400 1600\">\n",
       "<defs>\n",
       "  <clipPath id=\"clip760\">\n",
       "    <rect x=\"0\" y=\"0\" width=\"2400\" height=\"1600\"/>\n",
       "  </clipPath>\n",
       "</defs>\n",
       "<path clip-path=\"url(#clip760)\" d=\"M0 1600 L2400 1600 L2400 0 L0 0  Z\" fill=\"#ffffff\" fill-rule=\"evenodd\" fill-opacity=\"1\"/>\n",
       "<defs>\n",
       "  <clipPath id=\"clip761\">\n",
       "    <rect x=\"480\" y=\"0\" width=\"1681\" height=\"1600\"/>\n",
       "  </clipPath>\n",
       "</defs>\n",
       "<path clip-path=\"url(#clip760)\" d=\"M242.135 1423.18 L2352.76 1423.18 L2352.76 47.2441 L242.135 47.2441  Z\" fill=\"#ffffff\" fill-rule=\"evenodd\" fill-opacity=\"1\"/>\n",
       "<defs>\n",
       "  <clipPath id=\"clip762\">\n",
       "    <rect x=\"242\" y=\"47\" width=\"2112\" height=\"1377\"/>\n",
       "  </clipPath>\n",
       "</defs>\n",
       "<polyline clip-path=\"url(#clip762)\" style=\"stroke:#000000; stroke-linecap:round; stroke-linejoin:round; stroke-width:2; stroke-opacity:0.1; fill:none\" points=\"301.869,1423.18 301.869,47.2441 \"/>\n",
       "<polyline clip-path=\"url(#clip762)\" style=\"stroke:#000000; stroke-linecap:round; stroke-linejoin:round; stroke-width:2; stroke-opacity:0.1; fill:none\" points=\"799.657,1423.18 799.657,47.2441 \"/>\n",
       "<polyline clip-path=\"url(#clip762)\" style=\"stroke:#000000; stroke-linecap:round; stroke-linejoin:round; stroke-width:2; stroke-opacity:0.1; fill:none\" points=\"1297.45,1423.18 1297.45,47.2441 \"/>\n",
       "<polyline clip-path=\"url(#clip762)\" style=\"stroke:#000000; stroke-linecap:round; stroke-linejoin:round; stroke-width:2; stroke-opacity:0.1; fill:none\" points=\"1795.23,1423.18 1795.23,47.2441 \"/>\n",
       "<polyline clip-path=\"url(#clip762)\" style=\"stroke:#000000; stroke-linecap:round; stroke-linejoin:round; stroke-width:2; stroke-opacity:0.1; fill:none\" points=\"2293.02,1423.18 2293.02,47.2441 \"/>\n",
       "<polyline clip-path=\"url(#clip760)\" style=\"stroke:#000000; stroke-linecap:round; stroke-linejoin:round; stroke-width:4; stroke-opacity:1; fill:none\" points=\"242.135,1423.18 2352.76,1423.18 \"/>\n",
       "<polyline clip-path=\"url(#clip760)\" style=\"stroke:#000000; stroke-linecap:round; stroke-linejoin:round; stroke-width:4; stroke-opacity:1; fill:none\" points=\"301.869,1423.18 301.869,1404.28 \"/>\n",
       "<polyline clip-path=\"url(#clip760)\" style=\"stroke:#000000; stroke-linecap:round; stroke-linejoin:round; stroke-width:4; stroke-opacity:1; fill:none\" points=\"799.657,1423.18 799.657,1404.28 \"/>\n",
       "<polyline clip-path=\"url(#clip760)\" style=\"stroke:#000000; stroke-linecap:round; stroke-linejoin:round; stroke-width:4; stroke-opacity:1; fill:none\" points=\"1297.45,1423.18 1297.45,1404.28 \"/>\n",
       "<polyline clip-path=\"url(#clip760)\" style=\"stroke:#000000; stroke-linecap:round; stroke-linejoin:round; stroke-width:4; stroke-opacity:1; fill:none\" points=\"1795.23,1423.18 1795.23,1404.28 \"/>\n",
       "<polyline clip-path=\"url(#clip760)\" style=\"stroke:#000000; stroke-linecap:round; stroke-linejoin:round; stroke-width:4; stroke-opacity:1; fill:none\" points=\"2293.02,1423.18 2293.02,1404.28 \"/>\n",
       "<path clip-path=\"url(#clip760)\" d=\"M264.173 1454.1 Q260.562 1454.1 258.733 1457.66 Q256.927 1461.2 256.927 1468.33 Q256.927 1475.44 258.733 1479.01 Q260.562 1482.55 264.173 1482.55 Q267.807 1482.55 269.612 1479.01 Q271.441 1475.44 271.441 1468.33 Q271.441 1461.2 269.612 1457.66 Q267.807 1454.1 264.173 1454.1 M264.173 1450.39 Q269.983 1450.39 273.038 1455 Q276.117 1459.58 276.117 1468.33 Q276.117 1477.06 273.038 1481.67 Q269.983 1486.25 264.173 1486.25 Q258.363 1486.25 255.284 1481.67 Q252.228 1477.06 252.228 1468.33 Q252.228 1459.58 255.284 1455 Q258.363 1450.39 264.173 1450.39 Z\" fill=\"#000000\" fill-rule=\"nonzero\" fill-opacity=\"1\" /><path clip-path=\"url(#clip760)\" d=\"M284.335 1479.7 L289.219 1479.7 L289.219 1485.58 L284.335 1485.58 L284.335 1479.7 Z\" fill=\"#000000\" fill-rule=\"nonzero\" fill-opacity=\"1\" /><path clip-path=\"url(#clip760)\" d=\"M309.404 1454.1 Q305.793 1454.1 303.964 1457.66 Q302.159 1461.2 302.159 1468.33 Q302.159 1475.44 303.964 1479.01 Q305.793 1482.55 309.404 1482.55 Q313.038 1482.55 314.844 1479.01 Q316.672 1475.44 316.672 1468.33 Q316.672 1461.2 314.844 1457.66 Q313.038 1454.1 309.404 1454.1 M309.404 1450.39 Q315.214 1450.39 318.27 1455 Q321.348 1459.58 321.348 1468.33 Q321.348 1477.06 318.27 1481.67 Q315.214 1486.25 309.404 1486.25 Q303.594 1486.25 300.515 1481.67 Q297.46 1477.06 297.46 1468.33 Q297.46 1459.58 300.515 1455 Q303.594 1450.39 309.404 1450.39 Z\" fill=\"#000000\" fill-rule=\"nonzero\" fill-opacity=\"1\" /><path clip-path=\"url(#clip760)\" d=\"M339.566 1454.1 Q335.955 1454.1 334.126 1457.66 Q332.32 1461.2 332.32 1468.33 Q332.32 1475.44 334.126 1479.01 Q335.955 1482.55 339.566 1482.55 Q343.2 1482.55 345.006 1479.01 Q346.834 1475.44 346.834 1468.33 Q346.834 1461.2 345.006 1457.66 Q343.2 1454.1 339.566 1454.1 M339.566 1450.39 Q345.376 1450.39 348.431 1455 Q351.51 1459.58 351.51 1468.33 Q351.51 1477.06 348.431 1481.67 Q345.376 1486.25 339.566 1486.25 Q333.756 1486.25 330.677 1481.67 Q327.621 1477.06 327.621 1468.33 Q327.621 1459.58 330.677 1455 Q333.756 1450.39 339.566 1450.39 Z\" fill=\"#000000\" fill-rule=\"nonzero\" fill-opacity=\"1\" /><path clip-path=\"url(#clip760)\" d=\"M762.458 1454.1 Q758.847 1454.1 757.019 1457.66 Q755.213 1461.2 755.213 1468.33 Q755.213 1475.44 757.019 1479.01 Q758.847 1482.55 762.458 1482.55 Q766.093 1482.55 767.898 1479.01 Q769.727 1475.44 769.727 1468.33 Q769.727 1461.2 767.898 1457.66 Q766.093 1454.1 762.458 1454.1 M762.458 1450.39 Q768.269 1450.39 771.324 1455 Q774.403 1459.58 774.403 1468.33 Q774.403 1477.06 771.324 1481.67 Q768.269 1486.25 762.458 1486.25 Q756.648 1486.25 753.57 1481.67 Q750.514 1477.06 750.514 1468.33 Q750.514 1459.58 753.57 1455 Q756.648 1450.39 762.458 1450.39 Z\" fill=\"#000000\" fill-rule=\"nonzero\" fill-opacity=\"1\" /><path clip-path=\"url(#clip760)\" d=\"M782.62 1479.7 L787.505 1479.7 L787.505 1485.58 L782.62 1485.58 L782.62 1479.7 Z\" fill=\"#000000\" fill-rule=\"nonzero\" fill-opacity=\"1\" /><path clip-path=\"url(#clip760)\" d=\"M801.717 1481.64 L818.037 1481.64 L818.037 1485.58 L796.092 1485.58 L796.092 1481.64 Q798.754 1478.89 803.338 1474.26 Q807.944 1469.61 809.125 1468.27 Q811.37 1465.74 812.25 1464.01 Q813.153 1462.25 813.153 1460.56 Q813.153 1457.8 811.208 1456.07 Q809.287 1454.33 806.185 1454.33 Q803.986 1454.33 801.532 1455.09 Q799.102 1455.86 796.324 1457.41 L796.324 1452.69 Q799.148 1451.55 801.602 1450.97 Q804.055 1450.39 806.092 1450.39 Q811.463 1450.39 814.657 1453.08 Q817.852 1455.77 817.852 1460.26 Q817.852 1462.39 817.041 1464.31 Q816.254 1466.2 814.148 1468.8 Q813.569 1469.47 810.467 1472.69 Q807.366 1475.88 801.717 1481.64 Z\" fill=\"#000000\" fill-rule=\"nonzero\" fill-opacity=\"1\" /><path clip-path=\"url(#clip760)\" d=\"M827.898 1451.02 L846.254 1451.02 L846.254 1454.96 L832.18 1454.96 L832.18 1463.43 Q833.199 1463.08 834.217 1462.92 Q835.236 1462.73 836.254 1462.73 Q842.041 1462.73 845.421 1465.9 Q848.801 1469.08 848.801 1474.49 Q848.801 1480.07 845.328 1483.17 Q841.856 1486.25 835.537 1486.25 Q833.361 1486.25 831.092 1485.88 Q828.847 1485.51 826.44 1484.77 L826.44 1480.07 Q828.523 1481.2 830.745 1481.76 Q832.967 1482.32 835.444 1482.32 Q839.449 1482.32 841.787 1480.21 Q844.125 1478.1 844.125 1474.49 Q844.125 1470.88 841.787 1468.77 Q839.449 1466.67 835.444 1466.67 Q833.569 1466.67 831.694 1467.08 Q829.842 1467.5 827.898 1468.38 L827.898 1451.02 Z\" fill=\"#000000\" fill-rule=\"nonzero\" fill-opacity=\"1\" /><path clip-path=\"url(#clip760)\" d=\"M1259.75 1454.1 Q1256.14 1454.1 1254.31 1457.66 Q1252.5 1461.2 1252.5 1468.33 Q1252.5 1475.44 1254.31 1479.01 Q1256.14 1482.55 1259.75 1482.55 Q1263.38 1482.55 1265.19 1479.01 Q1267.02 1475.44 1267.02 1468.33 Q1267.02 1461.2 1265.19 1457.66 Q1263.38 1454.1 1259.75 1454.1 M1259.75 1450.39 Q1265.56 1450.39 1268.61 1455 Q1271.69 1459.58 1271.69 1468.33 Q1271.69 1477.06 1268.61 1481.67 Q1265.56 1486.25 1259.75 1486.25 Q1253.94 1486.25 1250.86 1481.67 Q1247.8 1477.06 1247.8 1468.33 Q1247.8 1459.58 1250.86 1455 Q1253.94 1450.39 1259.75 1450.39 Z\" fill=\"#000000\" fill-rule=\"nonzero\" fill-opacity=\"1\" /><path clip-path=\"url(#clip760)\" d=\"M1279.91 1479.7 L1284.79 1479.7 L1284.79 1485.58 L1279.91 1485.58 L1279.91 1479.7 Z\" fill=\"#000000\" fill-rule=\"nonzero\" fill-opacity=\"1\" /><path clip-path=\"url(#clip760)\" d=\"M1295.03 1451.02 L1313.38 1451.02 L1313.38 1454.96 L1299.31 1454.96 L1299.31 1463.43 Q1300.33 1463.08 1301.35 1462.92 Q1302.36 1462.73 1303.38 1462.73 Q1309.17 1462.73 1312.55 1465.9 Q1315.93 1469.08 1315.93 1474.49 Q1315.93 1480.07 1312.46 1483.17 Q1308.98 1486.25 1302.67 1486.25 Q1300.49 1486.25 1298.22 1485.88 Q1295.98 1485.51 1293.57 1484.77 L1293.57 1480.07 Q1295.65 1481.2 1297.87 1481.76 Q1300.1 1482.32 1302.57 1482.32 Q1306.58 1482.32 1308.92 1480.21 Q1311.25 1478.1 1311.25 1474.49 Q1311.25 1470.88 1308.92 1468.77 Q1306.58 1466.67 1302.57 1466.67 Q1300.7 1466.67 1298.82 1467.08 Q1296.97 1467.5 1295.03 1468.38 L1295.03 1451.02 Z\" fill=\"#000000\" fill-rule=\"nonzero\" fill-opacity=\"1\" /><path clip-path=\"url(#clip760)\" d=\"M1335.14 1454.1 Q1331.53 1454.1 1329.7 1457.66 Q1327.9 1461.2 1327.9 1468.33 Q1327.9 1475.44 1329.7 1479.01 Q1331.53 1482.55 1335.14 1482.55 Q1338.78 1482.55 1340.58 1479.01 Q1342.41 1475.44 1342.41 1468.33 Q1342.41 1461.2 1340.58 1457.66 Q1338.78 1454.1 1335.14 1454.1 M1335.14 1450.39 Q1340.95 1450.39 1344.01 1455 Q1347.09 1459.58 1347.09 1468.33 Q1347.09 1477.06 1344.01 1481.67 Q1340.95 1486.25 1335.14 1486.25 Q1329.33 1486.25 1326.25 1481.67 Q1323.2 1477.06 1323.2 1468.33 Q1323.2 1459.58 1326.25 1455 Q1329.33 1450.39 1335.14 1450.39 Z\" fill=\"#000000\" fill-rule=\"nonzero\" fill-opacity=\"1\" /><path clip-path=\"url(#clip760)\" d=\"M1758.03 1454.1 Q1754.42 1454.1 1752.59 1457.66 Q1750.79 1461.2 1750.79 1468.33 Q1750.79 1475.44 1752.59 1479.01 Q1754.42 1482.55 1758.03 1482.55 Q1761.67 1482.55 1763.47 1479.01 Q1765.3 1475.44 1765.3 1468.33 Q1765.3 1461.2 1763.47 1457.66 Q1761.67 1454.1 1758.03 1454.1 M1758.03 1450.39 Q1763.84 1450.39 1766.9 1455 Q1769.98 1459.58 1769.98 1468.33 Q1769.98 1477.06 1766.9 1481.67 Q1763.84 1486.25 1758.03 1486.25 Q1752.22 1486.25 1749.15 1481.67 Q1746.09 1477.06 1746.09 1468.33 Q1746.09 1459.58 1749.15 1455 Q1752.22 1450.39 1758.03 1450.39 Z\" fill=\"#000000\" fill-rule=\"nonzero\" fill-opacity=\"1\" /><path clip-path=\"url(#clip760)\" d=\"M1778.2 1479.7 L1783.08 1479.7 L1783.08 1485.58 L1778.2 1485.58 L1778.2 1479.7 Z\" fill=\"#000000\" fill-rule=\"nonzero\" fill-opacity=\"1\" /><path clip-path=\"url(#clip760)\" d=\"M1792.09 1451.02 L1814.31 1451.02 L1814.31 1453.01 L1801.76 1485.58 L1796.88 1485.58 L1808.68 1454.96 L1792.09 1454.96 L1792.09 1451.02 Z\" fill=\"#000000\" fill-rule=\"nonzero\" fill-opacity=\"1\" /><path clip-path=\"url(#clip760)\" d=\"M1823.47 1451.02 L1841.83 1451.02 L1841.83 1454.96 L1827.76 1454.96 L1827.76 1463.43 Q1828.77 1463.08 1829.79 1462.92 Q1830.81 1462.73 1831.83 1462.73 Q1837.62 1462.73 1841 1465.9 Q1844.38 1469.08 1844.38 1474.49 Q1844.38 1480.07 1840.9 1483.17 Q1837.43 1486.25 1831.11 1486.25 Q1828.94 1486.25 1826.67 1485.88 Q1824.42 1485.51 1822.02 1484.77 L1822.02 1480.07 Q1824.1 1481.2 1826.32 1481.76 Q1828.54 1482.32 1831.02 1482.32 Q1835.02 1482.32 1837.36 1480.21 Q1839.7 1478.1 1839.7 1474.49 Q1839.7 1470.88 1837.36 1468.77 Q1835.02 1466.67 1831.02 1466.67 Q1829.15 1466.67 1827.27 1467.08 Q1825.42 1467.5 1823.47 1468.38 L1823.47 1451.02 Z\" fill=\"#000000\" fill-rule=\"nonzero\" fill-opacity=\"1\" /><path clip-path=\"url(#clip760)\" d=\"M2245.09 1481.64 L2252.73 1481.64 L2252.73 1455.28 L2244.42 1456.95 L2244.42 1452.69 L2252.69 1451.02 L2257.36 1451.02 L2257.36 1481.64 L2265 1481.64 L2265 1485.58 L2245.09 1485.58 L2245.09 1481.64 Z\" fill=\"#000000\" fill-rule=\"nonzero\" fill-opacity=\"1\" /><path clip-path=\"url(#clip760)\" d=\"M2274.45 1479.7 L2279.33 1479.7 L2279.33 1485.58 L2274.45 1485.58 L2274.45 1479.7 Z\" fill=\"#000000\" fill-rule=\"nonzero\" fill-opacity=\"1\" /><path clip-path=\"url(#clip760)\" d=\"M2299.51 1454.1 Q2295.9 1454.1 2294.07 1457.66 Q2292.27 1461.2 2292.27 1468.33 Q2292.27 1475.44 2294.07 1479.01 Q2295.9 1482.55 2299.51 1482.55 Q2303.15 1482.55 2304.95 1479.01 Q2306.78 1475.44 2306.78 1468.33 Q2306.78 1461.2 2304.95 1457.66 Q2303.15 1454.1 2299.51 1454.1 M2299.51 1450.39 Q2305.32 1450.39 2308.38 1455 Q2311.46 1459.58 2311.46 1468.33 Q2311.46 1477.06 2308.38 1481.67 Q2305.32 1486.25 2299.51 1486.25 Q2293.7 1486.25 2290.63 1481.67 Q2287.57 1477.06 2287.57 1468.33 Q2287.57 1459.58 2290.63 1455 Q2293.7 1450.39 2299.51 1450.39 Z\" fill=\"#000000\" fill-rule=\"nonzero\" fill-opacity=\"1\" /><path clip-path=\"url(#clip760)\" d=\"M2329.68 1454.1 Q2326.07 1454.1 2324.24 1457.66 Q2322.43 1461.2 2322.43 1468.33 Q2322.43 1475.44 2324.24 1479.01 Q2326.07 1482.55 2329.68 1482.55 Q2333.31 1482.55 2335.12 1479.01 Q2336.94 1475.44 2336.94 1468.33 Q2336.94 1461.2 2335.12 1457.66 Q2333.31 1454.1 2329.68 1454.1 M2329.68 1450.39 Q2335.49 1450.39 2338.54 1455 Q2341.62 1459.58 2341.62 1468.33 Q2341.62 1477.06 2338.54 1481.67 Q2335.49 1486.25 2329.68 1486.25 Q2323.87 1486.25 2320.79 1481.67 Q2317.73 1477.06 2317.73 1468.33 Q2317.73 1459.58 2320.79 1455 Q2323.87 1450.39 2329.68 1450.39 Z\" fill=\"#000000\" fill-rule=\"nonzero\" fill-opacity=\"1\" /><path clip-path=\"url(#clip760)\" d=\"M1314.06 1532.4 L1301.17 1549.74 L1314.73 1568.04 L1307.82 1568.04 L1297.45 1554.04 L1287.07 1568.04 L1280.16 1568.04 L1294.01 1549.39 L1281.34 1532.4 L1288.25 1532.4 L1297.7 1545.1 L1307.15 1532.4 L1314.06 1532.4 Z\" fill=\"#000000\" fill-rule=\"nonzero\" fill-opacity=\"1\" /><polyline clip-path=\"url(#clip762)\" style=\"stroke:#000000; stroke-linecap:round; stroke-linejoin:round; stroke-width:2; stroke-opacity:0.1; fill:none\" points=\"242.135,1259.92 2352.76,1259.92 \"/>\n",
       "<polyline clip-path=\"url(#clip762)\" style=\"stroke:#000000; stroke-linecap:round; stroke-linejoin:round; stroke-width:2; stroke-opacity:0.1; fill:none\" points=\"242.135,980.787 2352.76,980.787 \"/>\n",
       "<polyline clip-path=\"url(#clip762)\" style=\"stroke:#000000; stroke-linecap:round; stroke-linejoin:round; stroke-width:2; stroke-opacity:0.1; fill:none\" points=\"242.135,701.649 2352.76,701.649 \"/>\n",
       "<polyline clip-path=\"url(#clip762)\" style=\"stroke:#000000; stroke-linecap:round; stroke-linejoin:round; stroke-width:2; stroke-opacity:0.1; fill:none\" points=\"242.135,422.512 2352.76,422.512 \"/>\n",
       "<polyline clip-path=\"url(#clip762)\" style=\"stroke:#000000; stroke-linecap:round; stroke-linejoin:round; stroke-width:2; stroke-opacity:0.1; fill:none\" points=\"242.135,143.374 2352.76,143.374 \"/>\n",
       "<polyline clip-path=\"url(#clip760)\" style=\"stroke:#000000; stroke-linecap:round; stroke-linejoin:round; stroke-width:4; stroke-opacity:1; fill:none\" points=\"242.135,1423.18 242.135,47.2441 \"/>\n",
       "<polyline clip-path=\"url(#clip760)\" style=\"stroke:#000000; stroke-linecap:round; stroke-linejoin:round; stroke-width:4; stroke-opacity:1; fill:none\" points=\"242.135,1259.92 261.032,1259.92 \"/>\n",
       "<polyline clip-path=\"url(#clip760)\" style=\"stroke:#000000; stroke-linecap:round; stroke-linejoin:round; stroke-width:4; stroke-opacity:1; fill:none\" points=\"242.135,980.787 261.032,980.787 \"/>\n",
       "<polyline clip-path=\"url(#clip760)\" style=\"stroke:#000000; stroke-linecap:round; stroke-linejoin:round; stroke-width:4; stroke-opacity:1; fill:none\" points=\"242.135,701.649 261.032,701.649 \"/>\n",
       "<polyline clip-path=\"url(#clip760)\" style=\"stroke:#000000; stroke-linecap:round; stroke-linejoin:round; stroke-width:4; stroke-opacity:1; fill:none\" points=\"242.135,422.512 261.032,422.512 \"/>\n",
       "<polyline clip-path=\"url(#clip760)\" style=\"stroke:#000000; stroke-linecap:round; stroke-linejoin:round; stroke-width:4; stroke-opacity:1; fill:none\" points=\"242.135,143.374 261.032,143.374 \"/>\n",
       "<path clip-path=\"url(#clip760)\" d=\"M114.26 1260.38 L143.936 1260.38 L143.936 1264.31 L114.26 1264.31 L114.26 1260.38 Z\" fill=\"#000000\" fill-rule=\"nonzero\" fill-opacity=\"1\" /><path clip-path=\"url(#clip760)\" d=\"M154.839 1273.27 L162.477 1273.27 L162.477 1246.9 L154.167 1248.57 L154.167 1244.31 L162.431 1242.64 L167.107 1242.64 L167.107 1273.27 L174.746 1273.27 L174.746 1277.2 L154.839 1277.2 L154.839 1273.27 Z\" fill=\"#000000\" fill-rule=\"nonzero\" fill-opacity=\"1\" /><path clip-path=\"url(#clip760)\" d=\"M194.19 1245.72 Q190.579 1245.72 188.75 1249.29 Q186.945 1252.83 186.945 1259.96 Q186.945 1267.07 188.75 1270.63 Q190.579 1274.17 194.19 1274.17 Q197.825 1274.17 199.63 1270.63 Q201.459 1267.07 201.459 1259.96 Q201.459 1252.83 199.63 1249.29 Q197.825 1245.72 194.19 1245.72 M194.19 1242.02 Q200 1242.02 203.056 1246.63 Q206.135 1251.21 206.135 1259.96 Q206.135 1268.69 203.056 1273.29 Q200 1277.88 194.19 1277.88 Q188.38 1277.88 185.301 1273.29 Q182.246 1268.69 182.246 1259.96 Q182.246 1251.21 185.301 1246.63 Q188.38 1242.02 194.19 1242.02 Z\" fill=\"#000000\" fill-rule=\"nonzero\" fill-opacity=\"1\" /><path clip-path=\"url(#clip760)\" d=\"M145.417 981.239 L175.093 981.239 L175.093 985.174 L145.417 985.174 L145.417 981.239 Z\" fill=\"#000000\" fill-rule=\"nonzero\" fill-opacity=\"1\" /><path clip-path=\"url(#clip760)\" d=\"M185.232 963.507 L203.588 963.507 L203.588 967.442 L189.514 967.442 L189.514 975.915 Q190.533 975.567 191.551 975.405 Q192.57 975.22 193.588 975.22 Q199.375 975.22 202.755 978.391 Q206.135 981.563 206.135 986.979 Q206.135 992.558 202.662 995.66 Q199.19 998.738 192.871 998.738 Q190.695 998.738 188.426 998.368 Q186.181 997.998 183.774 997.257 L183.774 992.558 Q185.857 993.692 188.079 994.248 Q190.301 994.803 192.778 994.803 Q196.783 994.803 199.121 992.697 Q201.459 990.59 201.459 986.979 Q201.459 983.368 199.121 981.262 Q196.783 979.155 192.778 979.155 Q190.903 979.155 189.028 979.572 Q187.176 979.989 185.232 980.868 L185.232 963.507 Z\" fill=\"#000000\" fill-rule=\"nonzero\" fill-opacity=\"1\" /><path clip-path=\"url(#clip760)\" d=\"M194.19 687.448 Q190.579 687.448 188.75 691.013 Q186.945 694.555 186.945 701.684 Q186.945 708.791 188.75 712.355 Q190.579 715.897 194.19 715.897 Q197.825 715.897 199.63 712.355 Q201.459 708.791 201.459 701.684 Q201.459 694.555 199.63 691.013 Q197.825 687.448 194.19 687.448 M194.19 683.744 Q200 683.744 203.056 688.351 Q206.135 692.934 206.135 701.684 Q206.135 710.411 203.056 715.017 Q200 719.601 194.19 719.601 Q188.38 719.601 185.301 715.017 Q182.246 710.411 182.246 701.684 Q182.246 692.934 185.301 688.351 Q188.38 683.744 194.19 683.744 Z\" fill=\"#000000\" fill-rule=\"nonzero\" fill-opacity=\"1\" /><path clip-path=\"url(#clip760)\" d=\"M185.232 405.232 L203.588 405.232 L203.588 409.167 L189.514 409.167 L189.514 417.639 Q190.533 417.292 191.551 417.13 Q192.57 416.945 193.588 416.945 Q199.375 416.945 202.755 420.116 Q206.135 423.287 206.135 428.704 Q206.135 434.282 202.662 437.384 Q199.19 440.463 192.871 440.463 Q190.695 440.463 188.426 440.093 Q186.181 439.722 183.774 438.981 L183.774 434.282 Q185.857 435.417 188.079 435.972 Q190.301 436.528 192.778 436.528 Q196.783 436.528 199.121 434.421 Q201.459 432.315 201.459 428.704 Q201.459 425.093 199.121 422.986 Q196.783 420.88 192.778 420.88 Q190.903 420.88 189.028 421.296 Q187.176 421.713 185.232 422.593 L185.232 405.232 Z\" fill=\"#000000\" fill-rule=\"nonzero\" fill-opacity=\"1\" /><path clip-path=\"url(#clip760)\" d=\"M154.839 156.719 L162.477 156.719 L162.477 130.353 L154.167 132.02 L154.167 127.761 L162.431 126.094 L167.107 126.094 L167.107 156.719 L174.746 156.719 L174.746 160.654 L154.839 160.654 L154.839 156.719 Z\" fill=\"#000000\" fill-rule=\"nonzero\" fill-opacity=\"1\" /><path clip-path=\"url(#clip760)\" d=\"M194.19 129.173 Q190.579 129.173 188.75 132.737 Q186.945 136.279 186.945 143.409 Q186.945 150.515 188.75 154.08 Q190.579 157.622 194.19 157.622 Q197.825 157.622 199.63 154.08 Q201.459 150.515 201.459 143.409 Q201.459 136.279 199.63 132.737 Q197.825 129.173 194.19 129.173 M194.19 125.469 Q200 125.469 203.056 130.075 Q206.135 134.659 206.135 143.409 Q206.135 152.135 203.056 156.742 Q200 161.325 194.19 161.325 Q188.38 161.325 185.301 156.742 Q182.246 152.135 182.246 143.409 Q182.246 134.659 185.301 130.075 Q188.38 125.469 194.19 125.469 Z\" fill=\"#000000\" fill-rule=\"nonzero\" fill-opacity=\"1\" /><path clip-path=\"url(#clip760)\" d=\"M67.3143 733.525 Q73.68 736.008 75.6216 738.363 Q77.5631 740.718 77.5631 744.665 L77.5631 749.344 L72.6615 749.344 L72.6615 745.906 Q72.6615 743.487 71.5157 742.151 Q70.3699 740.814 66.1048 739.191 L63.4312 738.14 L28.3562 752.559 L28.3562 746.352 L56.238 735.212 L28.3562 724.072 L28.3562 717.865 L67.3143 733.525 Z\" fill=\"#000000\" fill-rule=\"nonzero\" fill-opacity=\"1\" /><path clip-path=\"url(#clip762)\" d=\"M301.869 852.781 L2293.02 982.148 L2293.02 86.1857 L301.869 773.828  Z\" fill=\"#009af9\" fill-rule=\"evenodd\" fill-opacity=\"0.5\"/>\n",
       "<polyline clip-path=\"url(#clip762)\" style=\"stroke:#009af9; stroke-linecap:round; stroke-linejoin:round; stroke-width:4; stroke-opacity:1; fill:none\" points=\"301.869,813.305 2293.02,534.167 \"/>\n",
       "<circle clip-path=\"url(#clip762)\" cx=\"352.713\" cy=\"773.68\" r=\"14.4\" fill=\"#e26f46\" fill-rule=\"evenodd\" fill-opacity=\"1\" stroke=\"#000000\" stroke-opacity=\"1\" stroke-width=\"3.2\"/>\n",
       "<circle clip-path=\"url(#clip762)\" cx=\"877.306\" cy=\"765.743\" r=\"14.4\" fill=\"#e26f46\" fill-rule=\"evenodd\" fill-opacity=\"1\" stroke=\"#000000\" stroke-opacity=\"1\" stroke-width=\"3.2\"/>\n",
       "<circle clip-path=\"url(#clip762)\" cx=\"2215.64\" cy=\"818.804\" r=\"14.4\" fill=\"#e26f46\" fill-rule=\"evenodd\" fill-opacity=\"1\" stroke=\"#000000\" stroke-opacity=\"1\" stroke-width=\"3.2\"/>\n",
       "<circle clip-path=\"url(#clip762)\" cx=\"787.661\" cy=\"801.295\" r=\"14.4\" fill=\"#e26f46\" fill-rule=\"evenodd\" fill-opacity=\"1\" stroke=\"#000000\" stroke-opacity=\"1\" stroke-width=\"3.2\"/>\n",
       "<circle clip-path=\"url(#clip762)\" cx=\"903.389\" cy=\"802.795\" r=\"14.4\" fill=\"#e26f46\" fill-rule=\"evenodd\" fill-opacity=\"1\" stroke=\"#000000\" stroke-opacity=\"1\" stroke-width=\"3.2\"/>\n",
       "<circle clip-path=\"url(#clip762)\" cx=\"1367.59\" cy=\"836.164\" r=\"14.4\" fill=\"#e26f46\" fill-rule=\"evenodd\" fill-opacity=\"1\" stroke=\"#000000\" stroke-opacity=\"1\" stroke-width=\"3.2\"/>\n",
       "<circle clip-path=\"url(#clip762)\" cx=\"318.868\" cy=\"862.305\" r=\"14.4\" fill=\"#e26f46\" fill-rule=\"evenodd\" fill-opacity=\"1\" stroke=\"#000000\" stroke-opacity=\"1\" stroke-width=\"3.2\"/>\n",
       "<circle clip-path=\"url(#clip762)\" cx=\"1900.44\" cy=\"400.979\" r=\"14.4\" fill=\"#e26f46\" fill-rule=\"evenodd\" fill-opacity=\"1\" stroke=\"#000000\" stroke-opacity=\"1\" stroke-width=\"3.2\"/>\n",
       "<circle clip-path=\"url(#clip762)\" cx=\"1159.29\" cy=\"661.641\" r=\"14.4\" fill=\"#e26f46\" fill-rule=\"evenodd\" fill-opacity=\"1\" stroke=\"#000000\" stroke-opacity=\"1\" stroke-width=\"3.2\"/>\n",
       "<circle clip-path=\"url(#clip762)\" cx=\"1608.08\" cy=\"540.787\" r=\"14.4\" fill=\"#e26f46\" fill-rule=\"evenodd\" fill-opacity=\"1\" stroke=\"#000000\" stroke-opacity=\"1\" stroke-width=\"3.2\"/>\n",
       "<circle clip-path=\"url(#clip762)\" cx=\"526.563\" cy=\"777.134\" r=\"14.4\" fill=\"#e26f46\" fill-rule=\"evenodd\" fill-opacity=\"1\" stroke=\"#000000\" stroke-opacity=\"1\" stroke-width=\"3.2\"/>\n",
       "<circle clip-path=\"url(#clip762)\" cx=\"1709.44\" cy=\"921.747\" r=\"14.4\" fill=\"#e26f46\" fill-rule=\"evenodd\" fill-opacity=\"1\" stroke=\"#000000\" stroke-opacity=\"1\" stroke-width=\"3.2\"/>\n",
       "<circle clip-path=\"url(#clip762)\" cx=\"1170.87\" cy=\"791.669\" r=\"14.4\" fill=\"#e26f46\" fill-rule=\"evenodd\" fill-opacity=\"1\" stroke=\"#000000\" stroke-opacity=\"1\" stroke-width=\"3.2\"/>\n",
       "<circle clip-path=\"url(#clip762)\" cx=\"779.726\" cy=\"710.515\" r=\"14.4\" fill=\"#e26f46\" fill-rule=\"evenodd\" fill-opacity=\"1\" stroke=\"#000000\" stroke-opacity=\"1\" stroke-width=\"3.2\"/>\n",
       "<circle clip-path=\"url(#clip762)\" cx=\"2137.58\" cy=\"705.295\" r=\"14.4\" fill=\"#e26f46\" fill-rule=\"evenodd\" fill-opacity=\"1\" stroke=\"#000000\" stroke-opacity=\"1\" stroke-width=\"3.2\"/>\n",
       "<circle clip-path=\"url(#clip762)\" cx=\"1013.52\" cy=\"761.372\" r=\"14.4\" fill=\"#e26f46\" fill-rule=\"evenodd\" fill-opacity=\"1\" stroke=\"#000000\" stroke-opacity=\"1\" stroke-width=\"3.2\"/>\n",
       "<circle clip-path=\"url(#clip762)\" cx=\"1009.88\" cy=\"739.736\" r=\"14.4\" fill=\"#e26f46\" fill-rule=\"evenodd\" fill-opacity=\"1\" stroke=\"#000000\" stroke-opacity=\"1\" stroke-width=\"3.2\"/>\n",
       "<circle clip-path=\"url(#clip762)\" cx=\"879.049\" cy=\"719.111\" r=\"14.4\" fill=\"#e26f46\" fill-rule=\"evenodd\" fill-opacity=\"1\" stroke=\"#000000\" stroke-opacity=\"1\" stroke-width=\"3.2\"/>\n",
       "<circle clip-path=\"url(#clip762)\" cx=\"1289.71\" cy=\"831.79\" r=\"14.4\" fill=\"#e26f46\" fill-rule=\"evenodd\" fill-opacity=\"1\" stroke=\"#000000\" stroke-opacity=\"1\" stroke-width=\"3.2\"/>\n",
       "<circle clip-path=\"url(#clip762)\" cx=\"1320.59\" cy=\"756.199\" r=\"14.4\" fill=\"#e26f46\" fill-rule=\"evenodd\" fill-opacity=\"1\" stroke=\"#000000\" stroke-opacity=\"1\" stroke-width=\"3.2\"/>\n",
       "<circle clip-path=\"url(#clip762)\" cx=\"1393.46\" cy=\"585.519\" r=\"14.4\" fill=\"#e26f46\" fill-rule=\"evenodd\" fill-opacity=\"1\" stroke=\"#000000\" stroke-opacity=\"1\" stroke-width=\"3.2\"/>\n",
       "<circle clip-path=\"url(#clip762)\" cx=\"653.845\" cy=\"765.121\" r=\"14.4\" fill=\"#e26f46\" fill-rule=\"evenodd\" fill-opacity=\"1\" stroke=\"#000000\" stroke-opacity=\"1\" stroke-width=\"3.2\"/>\n",
       "<circle clip-path=\"url(#clip762)\" cx=\"942.503\" cy=\"926.956\" r=\"14.4\" fill=\"#e26f46\" fill-rule=\"evenodd\" fill-opacity=\"1\" stroke=\"#000000\" stroke-opacity=\"1\" stroke-width=\"3.2\"/>\n",
       "<circle clip-path=\"url(#clip762)\" cx=\"1644.69\" cy=\"524.655\" r=\"14.4\" fill=\"#e26f46\" fill-rule=\"evenodd\" fill-opacity=\"1\" stroke=\"#000000\" stroke-opacity=\"1\" stroke-width=\"3.2\"/>\n",
       "<circle clip-path=\"url(#clip762)\" cx=\"2143.31\" cy=\"1291.11\" r=\"14.4\" fill=\"#e26f46\" fill-rule=\"evenodd\" fill-opacity=\"1\" stroke=\"#000000\" stroke-opacity=\"1\" stroke-width=\"3.2\"/>\n",
       "<circle clip-path=\"url(#clip762)\" cx=\"1027.95\" cy=\"762.109\" r=\"14.4\" fill=\"#e26f46\" fill-rule=\"evenodd\" fill-opacity=\"1\" stroke=\"#000000\" stroke-opacity=\"1\" stroke-width=\"3.2\"/>\n",
       "<circle clip-path=\"url(#clip762)\" cx=\"1198.87\" cy=\"729.789\" r=\"14.4\" fill=\"#e26f46\" fill-rule=\"evenodd\" fill-opacity=\"1\" stroke=\"#000000\" stroke-opacity=\"1\" stroke-width=\"3.2\"/>\n",
       "<circle clip-path=\"url(#clip762)\" cx=\"756.755\" cy=\"744.614\" r=\"14.4\" fill=\"#e26f46\" fill-rule=\"evenodd\" fill-opacity=\"1\" stroke=\"#000000\" stroke-opacity=\"1\" stroke-width=\"3.2\"/>\n",
       "<circle clip-path=\"url(#clip762)\" cx=\"916.056\" cy=\"809.73\" r=\"14.4\" fill=\"#e26f46\" fill-rule=\"evenodd\" fill-opacity=\"1\" stroke=\"#000000\" stroke-opacity=\"1\" stroke-width=\"3.2\"/>\n",
       "<circle clip-path=\"url(#clip762)\" cx=\"1115.23\" cy=\"780.284\" r=\"14.4\" fill=\"#e26f46\" fill-rule=\"evenodd\" fill-opacity=\"1\" stroke=\"#000000\" stroke-opacity=\"1\" stroke-width=\"3.2\"/>\n",
       "<circle clip-path=\"url(#clip762)\" cx=\"392.966\" cy=\"766.254\" r=\"14.4\" fill=\"#e26f46\" fill-rule=\"evenodd\" fill-opacity=\"1\" stroke=\"#000000\" stroke-opacity=\"1\" stroke-width=\"3.2\"/>\n",
       "<circle clip-path=\"url(#clip762)\" cx=\"2080.02\" cy=\"1384.24\" r=\"14.4\" fill=\"#e26f46\" fill-rule=\"evenodd\" fill-opacity=\"1\" stroke=\"#000000\" stroke-opacity=\"1\" stroke-width=\"3.2\"/>\n",
       "<circle clip-path=\"url(#clip762)\" cx=\"908.759\" cy=\"713.319\" r=\"14.4\" fill=\"#e26f46\" fill-rule=\"evenodd\" fill-opacity=\"1\" stroke=\"#000000\" stroke-opacity=\"1\" stroke-width=\"3.2\"/>\n",
       "<circle clip-path=\"url(#clip762)\" cx=\"835.342\" cy=\"864.946\" r=\"14.4\" fill=\"#e26f46\" fill-rule=\"evenodd\" fill-opacity=\"1\" stroke=\"#000000\" stroke-opacity=\"1\" stroke-width=\"3.2\"/>\n",
       "<circle clip-path=\"url(#clip762)\" cx=\"1572.79\" cy=\"832.516\" r=\"14.4\" fill=\"#e26f46\" fill-rule=\"evenodd\" fill-opacity=\"1\" stroke=\"#000000\" stroke-opacity=\"1\" stroke-width=\"3.2\"/>\n",
       "<circle clip-path=\"url(#clip762)\" cx=\"1807.49\" cy=\"584.297\" r=\"14.4\" fill=\"#e26f46\" fill-rule=\"evenodd\" fill-opacity=\"1\" stroke=\"#000000\" stroke-opacity=\"1\" stroke-width=\"3.2\"/>\n",
       "<circle clip-path=\"url(#clip762)\" cx=\"978.142\" cy=\"798.591\" r=\"14.4\" fill=\"#e26f46\" fill-rule=\"evenodd\" fill-opacity=\"1\" stroke=\"#000000\" stroke-opacity=\"1\" stroke-width=\"3.2\"/>\n",
       "<circle clip-path=\"url(#clip762)\" cx=\"1246.12\" cy=\"595.653\" r=\"14.4\" fill=\"#e26f46\" fill-rule=\"evenodd\" fill-opacity=\"1\" stroke=\"#000000\" stroke-opacity=\"1\" stroke-width=\"3.2\"/>\n",
       "<circle clip-path=\"url(#clip762)\" cx=\"620.309\" cy=\"748.53\" r=\"14.4\" fill=\"#e26f46\" fill-rule=\"evenodd\" fill-opacity=\"1\" stroke=\"#000000\" stroke-opacity=\"1\" stroke-width=\"3.2\"/>\n",
       "<circle clip-path=\"url(#clip762)\" cx=\"1877.06\" cy=\"412.095\" r=\"14.4\" fill=\"#e26f46\" fill-rule=\"evenodd\" fill-opacity=\"1\" stroke=\"#000000\" stroke-opacity=\"1\" stroke-width=\"3.2\"/>\n",
       "<circle clip-path=\"url(#clip762)\" cx=\"497.328\" cy=\"838.475\" r=\"14.4\" fill=\"#e26f46\" fill-rule=\"evenodd\" fill-opacity=\"1\" stroke=\"#000000\" stroke-opacity=\"1\" stroke-width=\"3.2\"/>\n",
       "<circle clip-path=\"url(#clip762)\" cx=\"1713.77\" cy=\"561.481\" r=\"14.4\" fill=\"#e26f46\" fill-rule=\"evenodd\" fill-opacity=\"1\" stroke=\"#000000\" stroke-opacity=\"1\" stroke-width=\"3.2\"/>\n",
       "<circle clip-path=\"url(#clip762)\" cx=\"1590.98\" cy=\"559.573\" r=\"14.4\" fill=\"#e26f46\" fill-rule=\"evenodd\" fill-opacity=\"1\" stroke=\"#000000\" stroke-opacity=\"1\" stroke-width=\"3.2\"/>\n",
       "<circle clip-path=\"url(#clip762)\" cx=\"838.396\" cy=\"792.867\" r=\"14.4\" fill=\"#e26f46\" fill-rule=\"evenodd\" fill-opacity=\"1\" stroke=\"#000000\" stroke-opacity=\"1\" stroke-width=\"3.2\"/>\n",
       "<circle clip-path=\"url(#clip762)\" cx=\"1132.98\" cy=\"558.395\" r=\"14.4\" fill=\"#e26f46\" fill-rule=\"evenodd\" fill-opacity=\"1\" stroke=\"#000000\" stroke-opacity=\"1\" stroke-width=\"3.2\"/>\n",
       "<circle clip-path=\"url(#clip762)\" cx=\"1000.32\" cy=\"792.469\" r=\"14.4\" fill=\"#e26f46\" fill-rule=\"evenodd\" fill-opacity=\"1\" stroke=\"#000000\" stroke-opacity=\"1\" stroke-width=\"3.2\"/>\n",
       "<circle clip-path=\"url(#clip762)\" cx=\"1352.72\" cy=\"665.979\" r=\"14.4\" fill=\"#e26f46\" fill-rule=\"evenodd\" fill-opacity=\"1\" stroke=\"#000000\" stroke-opacity=\"1\" stroke-width=\"3.2\"/>\n",
       "<circle clip-path=\"url(#clip762)\" cx=\"1695.1\" cy=\"123.449\" r=\"14.4\" fill=\"#e26f46\" fill-rule=\"evenodd\" fill-opacity=\"1\" stroke=\"#000000\" stroke-opacity=\"1\" stroke-width=\"3.2\"/>\n",
       "<circle clip-path=\"url(#clip762)\" cx=\"1918.34\" cy=\"321.982\" r=\"14.4\" fill=\"#e26f46\" fill-rule=\"evenodd\" fill-opacity=\"1\" stroke=\"#000000\" stroke-opacity=\"1\" stroke-width=\"3.2\"/>\n",
       "<circle clip-path=\"url(#clip762)\" cx=\"1100.75\" cy=\"521.382\" r=\"14.4\" fill=\"#e26f46\" fill-rule=\"evenodd\" fill-opacity=\"1\" stroke=\"#000000\" stroke-opacity=\"1\" stroke-width=\"3.2\"/>\n",
       "<polyline clip-path=\"url(#clip762)\" style=\"stroke:#ff0000; stroke-linecap:round; stroke-linejoin:round; stroke-width:4; stroke-opacity:1; fill:none\" points=\"301.869,777.345 2293.02,665.768 \"/>\n",
       "<polyline clip-path=\"url(#clip762)\" style=\"stroke:#008000; stroke-linecap:round; stroke-linejoin:round; stroke-width:4; stroke-opacity:1; fill:none\" points=\"301.869,817.41 2293.02,602.817 \"/>\n",
       "<path clip-path=\"url(#clip760)\" d=\"M312.489 352.309 L622.717 352.309 L622.717 93.1086 L312.489 93.1086  Z\" fill=\"#ffffff\" fill-rule=\"evenodd\" fill-opacity=\"1\"/>\n",
       "<polyline clip-path=\"url(#clip760)\" style=\"stroke:#000000; stroke-linecap:round; stroke-linejoin:round; stroke-width:4; stroke-opacity:1; fill:none\" points=\"312.489,352.309 622.717,352.309 622.717,93.1086 312.489,93.1086 312.489,352.309 \"/>\n",
       "<polyline clip-path=\"url(#clip760)\" style=\"stroke:#009af9; stroke-linecap:round; stroke-linejoin:round; stroke-width:4; stroke-opacity:1; fill:none\" points=\"335.94,144.949 476.648,144.949 \"/>\n",
       "<path clip-path=\"url(#clip760)\" d=\"M524.014 126.304 Q524.014 127.592 523.194 128.389 Q522.398 129.185 521.39 129.185 Q520.664 129.185 520.126 128.74 Q519.61 128.295 519.61 127.522 Q519.61 126.726 520.219 125.883 Q520.828 125.039 522.21 124.922 Q521.297 124.056 519.845 124.056 Q519.119 124.056 518.51 124.524 Q517.924 124.969 517.596 125.695 Q517.245 126.445 516.448 130.684 Q516.191 132.066 515.956 133.401 Q515.722 134.736 515.441 136.142 L519.423 136.142 Q519.938 136.142 520.149 136.165 Q520.36 136.188 520.524 136.306 Q520.711 136.423 520.711 136.68 Q520.711 137.336 520.407 137.5 Q520.126 137.641 519.282 137.641 L515.16 137.641 L512.279 152.842 Q512.209 153.287 511.904 154.692 Q511.623 156.074 510.944 158.346 Q510.265 160.641 509.586 162 Q509.211 162.773 508.719 163.499 Q508.25 164.249 507.571 164.998 Q506.892 165.748 506.002 166.193 Q505.112 166.661 504.175 166.661 Q502.582 166.661 501.341 165.771 Q500.099 164.881 500.099 163.358 Q500.099 162.07 500.896 161.274 Q501.716 160.478 502.723 160.478 Q503.449 160.478 503.964 160.923 Q504.503 161.368 504.503 162.141 Q504.503 162.468 504.386 162.843 Q504.269 163.218 504.011 163.64 Q503.753 164.085 503.191 164.389 Q502.629 164.694 501.856 164.74 Q502.77 165.607 504.175 165.607 Q504.62 165.607 505.018 165.42 Q505.416 165.256 505.744 164.834 Q506.096 164.412 506.353 163.991 Q506.611 163.593 506.869 162.82 Q507.126 162.07 507.29 161.508 Q507.454 160.946 507.665 159.939 Q507.899 158.932 508.016 158.323 Q508.133 157.737 508.344 156.589 L511.928 137.641 L508.766 137.641 Q508.204 137.641 507.969 137.617 Q507.759 137.594 507.595 137.477 Q507.431 137.336 507.431 137.055 Q507.431 136.61 507.618 136.423 Q507.829 136.212 508.063 136.188 Q508.297 136.142 508.859 136.142 L512.185 136.142 Q513.31 130.216 513.755 128.623 Q514.27 126.937 515.066 125.765 Q515.863 124.571 516.753 124.009 Q517.643 123.447 518.369 123.236 Q519.119 123.002 519.845 123.002 Q521.484 123.002 522.749 123.892 Q524.014 124.758 524.014 126.304 Z\" fill=\"#000000\" fill-rule=\"nonzero\" fill-opacity=\"1\" /><path clip-path=\"url(#clip760)\" d=\"M530.466 144.831 Q530.466 136.727 533.488 130.192 Q534.776 127.452 536.58 125.156 Q538.383 122.861 539.578 121.854 Q540.772 120.847 541.1 120.847 Q541.569 120.847 541.592 121.315 Q541.592 121.549 540.96 122.135 Q533.23 130.005 533.254 144.831 Q533.254 159.705 540.772 167.27 Q541.592 168.09 541.592 168.347 Q541.592 168.816 541.1 168.816 Q540.772 168.816 539.625 167.856 Q538.477 166.895 536.697 164.694 Q534.917 162.492 533.628 159.798 Q530.466 153.263 530.466 144.831 Z\" fill=\"#000000\" fill-rule=\"nonzero\" fill-opacity=\"1\" /><path clip-path=\"url(#clip760)\" d=\"M569.125 138.788 Q569.125 140.1 568.305 140.85 Q567.485 141.576 566.548 141.576 Q565.658 141.576 565.19 141.06 Q564.721 140.545 564.721 139.889 Q564.721 138.999 565.377 138.226 Q566.033 137.453 567.017 137.289 Q566.057 136.68 564.628 136.68 Q563.691 136.68 562.871 137.172 Q562.075 137.664 561.583 138.296 Q561.114 138.929 560.693 139.842 Q560.295 140.732 560.131 141.271 Q559.99 141.786 559.873 142.349 L558.233 148.907 Q557.437 152.022 557.437 153.123 Q557.437 154.481 558.093 155.395 Q558.749 156.285 560.06 156.285 Q560.576 156.285 561.161 156.144 Q561.747 155.98 562.496 155.559 Q563.269 155.114 563.948 154.458 Q564.651 153.779 565.33 152.631 Q566.01 151.483 566.455 150.008 Q566.595 149.492 567.064 149.492 Q567.649 149.492 567.649 149.961 Q567.649 150.359 567.321 151.202 Q567.017 152.022 566.338 153.099 Q565.682 154.153 564.815 155.114 Q563.948 156.051 562.66 156.707 Q561.372 157.362 559.967 157.362 Q557.952 157.362 556.617 156.285 Q555.282 155.207 554.79 153.708 Q554.673 153.919 554.509 154.2 Q554.345 154.481 553.853 155.114 Q553.385 155.723 552.846 156.191 Q552.308 156.636 551.464 156.988 Q550.645 157.362 549.754 157.362 Q548.63 157.362 547.623 157.034 Q546.639 156.707 545.937 155.957 Q545.234 155.207 545.234 154.177 Q545.234 153.029 546.007 152.233 Q546.803 151.413 547.881 151.413 Q548.56 151.413 549.099 151.811 Q549.661 152.209 549.661 153.076 Q549.661 154.036 549.005 154.762 Q548.349 155.489 547.412 155.676 Q548.373 156.285 549.801 156.285 Q551.347 156.285 552.565 154.926 Q553.783 153.568 554.369 151.296 Q555.821 145.838 556.383 143.403 Q556.945 140.943 556.945 139.889 Q556.945 138.905 556.688 138.226 Q556.43 137.547 555.985 137.242 Q555.563 136.915 555.165 136.797 Q554.79 136.68 554.369 136.68 Q553.666 136.68 552.87 136.961 Q552.097 137.242 551.16 137.898 Q550.246 138.531 549.38 139.842 Q548.513 141.154 547.928 142.958 Q547.81 143.496 547.295 143.496 Q546.733 143.473 546.733 143.004 Q546.733 142.606 547.037 141.786 Q547.365 140.943 548.021 139.889 Q548.7 138.835 549.567 137.898 Q550.457 136.938 551.745 136.282 Q553.057 135.626 554.462 135.626 Q555.095 135.626 555.704 135.767 Q556.336 135.884 557.086 136.235 Q557.859 136.587 558.538 137.36 Q559.217 138.133 559.639 139.257 Q559.92 138.718 560.295 138.203 Q560.693 137.687 561.302 137.055 Q561.934 136.399 562.801 136.024 Q563.691 135.626 564.675 135.626 Q565.635 135.626 566.572 135.884 Q567.509 136.118 568.305 136.891 Q569.125 137.641 569.125 138.788 Z\" fill=\"#000000\" fill-rule=\"nonzero\" fill-opacity=\"1\" /><path clip-path=\"url(#clip760)\" d=\"M573.737 168.347 Q573.737 168.113 574.346 167.528 Q582.076 159.658 582.076 144.831 Q582.076 129.958 574.651 122.439 Q573.737 121.573 573.737 121.315 Q573.737 120.847 574.206 120.847 Q574.534 120.847 575.681 121.807 Q576.853 122.767 578.609 124.969 Q580.389 127.171 581.701 129.864 Q584.863 136.399 584.863 144.831 Q584.863 152.935 581.842 159.47 Q580.553 162.211 578.75 164.506 Q576.946 166.802 575.752 167.809 Q574.557 168.816 574.206 168.816 Q573.737 168.816 573.737 168.347 Z\" fill=\"#000000\" fill-rule=\"nonzero\" fill-opacity=\"1\" /><circle clip-path=\"url(#clip760)\" cx=\"406.294\" cy=\"196.789\" r=\"20.48\" fill=\"#e26f46\" fill-rule=\"evenodd\" fill-opacity=\"1\" stroke=\"#000000\" stroke-opacity=\"1\" stroke-width=\"4.55111\"/>\n",
       "<path clip-path=\"url(#clip760)\" d=\"M522.234 183.043 Q522.234 183.371 522.023 184.144 L517.432 202.46 Q516.425 206.536 513.146 209.394 Q509.89 212.251 506.189 212.251 Q503.964 212.251 502.535 211.057 Q501.107 209.885 501.107 208.082 Q501.107 206.489 501.95 205.716 Q502.793 204.967 503.8 204.967 Q504.128 204.967 504.479 205.06 Q504.831 205.154 505.206 205.552 Q505.58 205.95 505.58 206.63 Q505.58 207.731 504.62 208.597 Q504.152 208.995 503.707 209.089 Q503.285 209.183 502.559 209.183 Q502.84 209.839 503.355 210.284 Q503.87 210.729 504.456 210.893 Q505.042 211.08 505.416 211.127 Q505.815 211.197 506.189 211.197 Q509.187 211.197 511.483 208.176 Q512.162 207.262 512.654 206.349 Q513.169 205.459 513.544 204.358 Q513.919 203.28 514.083 202.695 Q514.27 202.109 514.598 200.774 Q512.42 202.952 509.75 202.952 Q508.625 202.952 507.618 202.648 Q506.634 202.343 505.768 201.711 Q504.901 201.055 504.386 199.907 Q503.894 198.76 503.894 197.237 Q503.894 195.621 504.526 193.419 Q505.159 191.218 506.681 187.166 Q507.501 184.894 507.501 183.793 Q507.501 183.254 507.384 182.926 Q507.267 182.575 507.033 182.458 Q506.798 182.317 506.658 182.294 Q506.541 182.27 506.306 182.27 Q504.925 182.27 503.636 183.676 Q502.348 185.081 501.458 188.22 Q501.271 188.805 501.153 188.946 Q501.036 189.086 500.685 189.086 Q500.099 189.063 500.099 188.594 Q500.099 188.407 500.31 187.681 Q500.521 186.931 501.013 185.831 Q501.528 184.706 502.231 183.699 Q502.934 182.668 504.034 181.942 Q505.159 181.216 506.447 181.216 Q508.204 181.216 509.281 182.364 Q510.382 183.488 510.382 185.151 Q510.382 185.831 510.195 186.44 Q510.031 187.025 509.422 188.594 Q506.962 194.918 506.962 198.01 Q506.962 198.76 507.079 199.392 Q507.22 200.001 507.524 200.61 Q507.829 201.196 508.438 201.547 Q509.07 201.875 509.937 201.875 Q511.038 201.875 512.068 201.36 Q513.122 200.821 513.778 200.095 Q514.457 199.369 514.856 198.76 Q515.277 198.127 515.371 197.799 L517.526 189.18 L518.486 185.339 Q518.931 183.254 519.142 182.739 Q519.423 182.247 519.915 181.989 Q520.407 181.732 520.828 181.732 Q521.414 181.732 521.812 182.083 Q522.234 182.434 522.234 183.043 Z\" fill=\"#000000\" fill-rule=\"nonzero\" fill-opacity=\"1\" /><polyline clip-path=\"url(#clip760)\" style=\"stroke:#ff0000; stroke-linecap:round; stroke-linejoin:round; stroke-width:4; stroke-opacity:1; fill:none\" points=\"335.94,248.629 476.648,248.629 \"/>\n",
       "<path clip-path=\"url(#clip760)\" d=\"M500.099 231.349 L504.775 231.349 L504.775 261.973 L521.604 261.973 L521.604 265.909 L500.099 265.909 L500.099 231.349 Z\" fill=\"#000000\" fill-rule=\"nonzero\" fill-opacity=\"1\" /><path clip-path=\"url(#clip760)\" d=\"M547.229 232.483 L547.229 237.043 Q544.567 235.77 542.206 235.145 Q539.845 234.52 537.646 234.52 Q533.826 234.52 531.743 236.001 Q529.683 237.483 529.683 240.214 Q529.683 242.506 531.048 243.687 Q532.437 244.844 536.28 245.562 L539.104 246.14 Q544.335 247.136 546.812 249.659 Q549.312 252.159 549.312 256.372 Q549.312 261.395 545.933 263.987 Q542.576 266.58 536.072 266.58 Q533.618 266.58 530.84 266.024 Q528.085 265.469 525.122 264.381 L525.122 259.566 Q527.97 261.163 530.701 261.973 Q533.433 262.784 536.072 262.784 Q540.076 262.784 542.252 261.21 Q544.428 259.636 544.428 256.719 Q544.428 254.173 542.854 252.737 Q541.303 251.302 537.738 250.585 L534.891 250.029 Q529.66 248.987 527.322 246.765 Q524.984 244.543 524.984 240.585 Q524.984 236.001 528.201 233.362 Q531.442 230.724 537.113 230.724 Q539.544 230.724 542.067 231.163 Q544.59 231.603 547.229 232.483 Z\" fill=\"#000000\" fill-rule=\"nonzero\" fill-opacity=\"1\" /><polyline clip-path=\"url(#clip760)\" style=\"stroke:#008000; stroke-linecap:round; stroke-linejoin:round; stroke-width:4; stroke-opacity:1; fill:none\" points=\"335.94,300.469 476.648,300.469 \"/>\n",
       "<path clip-path=\"url(#clip760)\" d=\"M500.099 283.189 L504.822 283.189 L512.09 312.401 L519.335 283.189 L524.59 283.189 L531.859 312.401 L539.104 283.189 L543.849 283.189 L535.169 317.749 L529.289 317.749 L521.998 287.749 L514.636 317.749 L508.757 317.749 L500.099 283.189 Z\" fill=\"#000000\" fill-rule=\"nonzero\" fill-opacity=\"1\" /><path clip-path=\"url(#clip760)\" d=\"M550.053 283.189 L554.729 283.189 L554.729 313.813 L571.557 313.813 L571.557 317.749 L550.053 317.749 L550.053 283.189 Z\" fill=\"#000000\" fill-rule=\"nonzero\" fill-opacity=\"1\" /><path clip-path=\"url(#clip760)\" d=\"M597.182 284.323 L597.182 288.883 Q594.52 287.61 592.159 286.985 Q589.798 286.36 587.599 286.36 Q583.78 286.36 581.696 287.841 Q579.636 289.323 579.636 292.054 Q579.636 294.346 581.002 295.527 Q582.391 296.684 586.233 297.402 L589.057 297.98 Q594.289 298.976 596.766 301.499 Q599.266 303.999 599.266 308.212 Q599.266 313.235 595.886 315.827 Q592.53 318.42 586.025 318.42 Q583.571 318.42 580.793 317.864 Q578.039 317.309 575.076 316.221 L575.076 311.406 Q577.923 313.003 580.655 313.813 Q583.386 314.624 586.025 314.624 Q590.03 314.624 592.205 313.05 Q594.381 311.476 594.381 308.559 Q594.381 306.013 592.807 304.577 Q591.256 303.142 587.692 302.425 L584.844 301.869 Q579.613 300.827 577.275 298.605 Q574.937 296.383 574.937 292.425 Q574.937 287.841 578.155 285.202 Q581.395 282.564 587.067 282.564 Q589.497 282.564 592.02 283.003 Q594.543 283.443 597.182 284.323 Z\" fill=\"#000000\" fill-rule=\"nonzero\" fill-opacity=\"1\" /></svg>\n"
      ]
     },
     "metadata": {},
     "output_type": "display_data"
    }
   ],
   "source": [
    "using Plots, Distributions, LaTeXStrings, LinearAlgebra\n",
    "\n",
    "# Model specification: y|x ~ 𝒩(f(x), v(x))\n",
    "f(x) = 5*x .- 2 \n",
    "v(x) = 10*exp.(2*x.^2) .- 9.5 # input dependent noise variance\n",
    "x_test = [0.0, 1.0]\n",
    "plot(x_test, f(x_test), ribbon=sqrt.(v(x_test)), label=L\"f(x)\") # plot f(x)\n",
    "\n",
    "# Generate N samples (x,y), where x ~ Unif[0,1]\n",
    "N = 50\n",
    "x = rand(N)\n",
    "y = f(x) + sqrt.(v(x)) .* randn(N)\n",
    "scatter!(x, y, xlabel=\"x\", ylabel=\"y\", label=L\"y\") # Plot samples\n",
    "\n",
    "# Add constant to input so we can estimate both the offset and the slope\n",
    "_x = [x ones(N)]\n",
    "_x_test = hcat(x_test, ones(2))\n",
    "\n",
    "# LS regression\n",
    "w_ls = pinv(_x) * y\n",
    "plot!(x_test, _x_test*w_ls, color=:red, label=\"LS\") # plot LS solution\n",
    "\n",
    "# Weighted LS regression\n",
    "W = Diagonal(1 ./ v(x)) # weight matrix\n",
    "w_wls = inv(_x'*W*_x) * _x' * W * y\n",
    "plot!(x_test, _x_test*w_wls, color=:green, label=\"WLS\") # plot WLS solution\n"
   ]
  },
  {
   "cell_type": "markdown",
   "metadata": {
    "slideshow": {
     "slide_type": "slide"
    }
   },
   "source": [
    "## <center> OPTIONAL SLIDES</center>"
   ]
  },
  {
   "cell_type": "markdown",
   "metadata": {
    "slideshow": {
     "slide_type": "slide"
    }
   },
   "source": [
    "### <a id=\"matrix-calculus\">Some Useful Matrix Calculus</a>\n",
    "\n",
    "When doing derivatives with matrices, e.g. for maximum likelihood estimation, it will be helpful to be familiar with some matrix calculus. We shortly recapitulate used formulas here. \n",
    "\n",
    "- We define the **gradient** of a scalar function $f(A)$ w.r.t. an $n \\times k$ matrix $A$ as\n",
    "$$\n",
    "\\nabla_A f \\triangleq\n",
    "    \\begin{bmatrix}\n",
    "\\frac{\\partial{f}}{\\partial a_{11}} & \\frac{\\partial{f}}{\\partial a_{12}} & \\cdots & \\frac{\\partial{f}}{\\partial a_{1k}}\\\\\n",
    "\\frac{\\partial{f}}{\\partial a_{21}} & \\frac{\\partial{f}}{\\partial a_{22}} & \\cdots & \\frac{\\partial{f}}{\\partial a_{2k}}\\\\\n",
    "\\vdots & \\vdots & \\cdots & \\vdots\\\\\n",
    "\\frac{\\partial{f}}{\\partial a_{n1}} & \\frac{\\partial{f}}{\\partial a_{n2}} & \\cdots & \\frac{\\partial{f}}{\\partial a_{nk}}\n",
    "    \\end{bmatrix}\n",
    "$$\n",
    " \n",
    "\n",
    "   \n",
    "- The following formulas are useful (see Bishop App.-C)\n",
    "$$\\begin{align*}\n",
    "|A^{-1}|&=|A|^{-1} \\tag{B-C.4} \\\\\n",
    "\\nabla_A \\log |A| &= (A^{T})^{-1} = (A^{-1})^T \\tag{B-C.28} \\\\\n",
    "\\mathrm{Tr}[ABC]&= \\mathrm{Tr}[CAB] = \\mathrm{Tr}[BCA] \\tag{B-C.9} \\\\\n",
    "\\nabla_A \\mathrm{Tr}[AB] &=\\nabla_A \\mathrm{Tr}[BA]= B^T \\tag{B-C.25} \\\\\n",
    "\\nabla_A \\mathrm{Tr}[ABA^T] &= A(B+B^T)  \\tag{B-C.27}\\\\\n",
    " \\nabla_x x^TAx &= (A+A^T)x \\tag{from B-C.27}\\\\\n",
    "\\nabla_X a^TXb &= \\nabla_X \\mathrm{Tr}[ba^TX] = ab^T \\notag\n",
    "\\end{align*}$$"
   ]
  },
  {
   "attachments": {},
   "cell_type": "markdown",
   "metadata": {},
   "source": [
    "### <a id=\"change-of-variable-derivation\">Derivation Predictive Distribution</a>\n",
    "\n",
    "- In the [derivation of the predictive distribution](#predictive-distribution), we replaced $\\mathcal{N}(w\\,|\\,m_N,S_N)\\,\\mathrm{d}w$ with $\\mathcal{N}(z\\,|\\,x_\\bullet^T m_N,x_\\bullet^T S_N x_\\bullet)\\,\\mathrm{d}z$. Here we discuss why that is allowed. \n",
    "\n",
    "- Since $z = x^T w$ (drop the bullet for notational simplicity), we have\n",
    "$$p(z) = \\mathcal{N}(z|m_z,\\Sigma_z)$$\n",
    "with\n",
    "$$\\begin{aligned} m_z &:= E[z] = E[x^T w] = x^T E[w] = x^T m_N \\\\ \\Sigma_z &:= E[(z-m_z)(z-m_z)^T] \\\\   &= E[(x^T w - x^T m_N)(x^T w - x^T m_N)^T] \\\\   &= x^T E[(w - m_N)(w - m_N)^T]x \\\\   &= x^T S_N x \\end{aligned}$$\n",
    "\n",
    "- Then we equate probability masses in both domains:\n",
    "$$ \\mathcal{N}(z|m_z,\\Sigma_z)\\mathrm{d}z = \\mathcal{N}(w|m_N,S_N)\\mathrm{d}w$$\n",
    "\n",
    "$$ \\Rightarrow \\mathcal{N}(z|x^T m_N,x^T S_N x)\\mathrm{d}z = \\mathcal{N}(w|m_N,S_N)\\mathrm{d}w $$"
   ]
  },
  {
   "cell_type": "code",
   "execution_count": 2,
   "metadata": {
    "slideshow": {
     "slide_type": "skip"
    }
   },
   "outputs": [
    {
     "data": {
      "text/html": [
       "<!--\n",
       "This HTML file contains custom styles and some javascript.\n",
       "Include it a Jupyter notebook for improved rendering.\n",
       "-->\n",
       "\n",
       "<!-- Fonts -->\n",
       "<link href='http://fonts.googleapis.com/css?family=Alegreya+Sans:100,300,400,500,700,800,900,100italic,300italic,400italic,500italic,700italic,800italic,900italic' rel='stylesheet' type='text/css'>\n",
       "<link href='http://fonts.googleapis.com/css?family=Arvo:400,700,400italic' rel='stylesheet' type='text/css'>\n",
       "<link href='http://fonts.googleapis.com/css?family=PT+Mono' rel='stylesheet' type='text/css'>\n",
       "<link href='http://fonts.googleapis.com/css?family=Shadows+Into+Light' rel='stylesheet' type='text/css'>\n",
       "<link href='http://fonts.googleapis.com/css?family=Nixie+One' rel='stylesheet' type='text/css'>\n",
       "\n",
       "<!-- Custom style -->\n",
       "<style>\n",
       "\n",
       "@font-face {\n",
       "    font-family: \"Computer Modern\";\n",
       "    src: url('http://mirrors.ctan.org/fonts/cm-unicode/fonts/otf/cmunss.otf');\n",
       "}\n",
       "\n",
       "#notebook_panel { /* main background */\n",
       "    background: rgb(245,245,245);\n",
       "}\n",
       "\n",
       "div.container {\n",
       "    min-width: 960px;\n",
       "}\n",
       "\n",
       "div #notebook { /* centre the content */\n",
       "    background: #fff; /* white background for content */\n",
       "    margin: auto;\n",
       "    padding-left: 0em;\n",
       "}\n",
       "\n",
       "#notebook li { /* More space between bullet points */\n",
       "    margin-top:0.8em;\n",
       "}\n",
       "\n",
       "/* draw border around running cells */\n",
       "div.cell.border-box-sizing.code_cell.running {\n",
       "    border: 1px solid #111;\n",
       "}\n",
       "\n",
       "/* Put a solid color box around each cell and its output, visually linking them*/\n",
       "div.cell.code_cell {\n",
       "    background-color: rgb(256,256,256);\n",
       "    border-radius: 0px;\n",
       "    padding: 0.5em;\n",
       "    margin-left:1em;\n",
       "    margin-top: 1em;\n",
       "}\n",
       "\n",
       "div.text_cell_render{\n",
       "    font-family: 'Alegreya Sans' sans-serif;\n",
       "    line-height: 140%;\n",
       "    font-size: 125%;\n",
       "    font-weight: 400;\n",
       "    width:800px;\n",
       "    margin-left:auto;\n",
       "    margin-right:auto;\n",
       "}\n",
       "\n",
       "\n",
       "/* Formatting for header cells */\n",
       ".text_cell_render h1 {\n",
       "    font-family: 'Nixie One', serif;\n",
       "    font-style:regular;\n",
       "    font-weight: 400;\n",
       "    font-size: 45pt;\n",
       "    line-height: 100%;\n",
       "    color: rgb(0,51,102);\n",
       "    margin-bottom: 0.5em;\n",
       "    margin-top: 0.5em;\n",
       "    display: block;\n",
       "}\n",
       "\n",
       ".text_cell_render h2 {\n",
       "    font-family: 'Nixie One', serif;\n",
       "    font-weight: 400;\n",
       "    font-size: 30pt;\n",
       "    line-height: 100%;\n",
       "    color: rgb(0,51,102);\n",
       "    margin-bottom: 0.1em;\n",
       "    margin-top: 0.3em;\n",
       "    display: block;\n",
       "}\n",
       "\n",
       ".text_cell_render h3 {\n",
       "    font-family: 'Nixie One', serif;\n",
       "    margin-top:16px;\n",
       "    font-size: 22pt;\n",
       "    font-weight: 600;\n",
       "    margin-bottom: 3px;\n",
       "    font-style: regular;\n",
       "    color: rgb(102,102,0);\n",
       "}\n",
       "\n",
       ".text_cell_render h4 {    /*Use this for captions*/\n",
       "    font-family: 'Nixie One', serif;\n",
       "    font-size: 14pt;\n",
       "    text-align: center;\n",
       "    margin-top: 0em;\n",
       "    margin-bottom: 2em;\n",
       "    font-style: regular;\n",
       "}\n",
       "\n",
       ".text_cell_render h5 {  /*Use this for small titles*/\n",
       "    font-family: 'Nixie One', sans-serif;\n",
       "    font-weight: 400;\n",
       "    font-size: 16pt;\n",
       "    color: rgb(163,0,0);\n",
       "    font-style: italic;\n",
       "    margin-bottom: .1em;\n",
       "    margin-top: 0.8em;\n",
       "    display: block;\n",
       "}\n",
       "\n",
       ".text_cell_render h6 { /*use this for copyright note*/\n",
       "    font-family: 'PT Mono', sans-serif;\n",
       "    font-weight: 300;\n",
       "    font-size: 9pt;\n",
       "    line-height: 100%;\n",
       "    color: grey;\n",
       "    margin-bottom: 1px;\n",
       "    margin-top: 1px;\n",
       "}\n",
       "\n",
       ".CodeMirror{\n",
       "    font-family: \"PT Mono\";\n",
       "    font-size: 90%;\n",
       "}\n",
       "\n",
       ".boxed { /* draw a border around a piece of text */\n",
       "  border: 1px solid blue ;\n",
       "}\n",
       "\n",
       "h4#CODE-EXAMPLE,\n",
       "h4#END-OF-CODE-EXAMPLE {\n",
       "    margin: 10px 0;\n",
       "    padding: 10px;\n",
       "    background-color: #d0f9ca !important;\n",
       "    border-top: #849f81 1px solid;\n",
       "    border-bottom: #849f81 1px solid;\n",
       "}\n",
       "\n",
       ".emphasis {\n",
       "    color: red;\n",
       "}\n",
       "\n",
       ".exercise {\n",
       "    color: green;\n",
       "}\n",
       "\n",
       ".proof {\n",
       "    color: blue;\n",
       "}\n",
       "\n",
       "code {\n",
       "  padding: 2px 4px !important;\n",
       "  font-size: 90% !important;\n",
       "  color: #222 !important;\n",
       "  background-color: #efefef !important;\n",
       "  border-radius: 2px !important;\n",
       "}\n",
       "\n",
       "/* This removes the actual style cells from the notebooks, but no in print mode\n",
       "   as they will be removed through some other method */\n",
       "@media not print {\n",
       "  .cell:nth-last-child(-n+2) {\n",
       "    display: none;\n",
       "  }\n",
       "}\n",
       "\n",
       "footer.hidden-print {\n",
       "    display: none !important;\n",
       "}\n",
       "    \n",
       "</style>\n",
       "\n",
       "<!-- MathJax styling -->\n",
       "<script>\n",
       "    MathJax.Hub.Config({\n",
       "                        CommonHTML: {\n",
       "                            scale: 200\n",
       "                        },\n",
       "                TeX: {\n",
       "                    extensions: [\"AMSmath.js\"],\n",
       "                    equationNumbers: { autoNumber: \"AMS\", useLabelIds: true}\n",
       "                },\n",
       "                tex2jax: {\n",
       "                    inlineMath: [ ['$','$'], [\"\\\\(\",\"\\\\)\"] ],\n",
       "                    displayMath: [ ['$$','$$'], [\"\\\\[\",\"\\\\]\"] ]\n",
       "                },\n",
       "                displayAlign: 'center', // Change this to 'center' to center equations.\n",
       "                \"HTML-CSS\": {\n",
       "                    styles: {'.MathJax_Display': {\"margin\": 4}}\n",
       "                }\n",
       "        });\n",
       "</script>\n"
      ]
     },
     "metadata": {},
     "output_type": "display_data"
    }
   ],
   "source": [
    "open(\"../../styles/aipstyle.html\") do f\n",
    "    display(\"text/html\", read(f, String))\n",
    "end\n"
   ]
  },
  {
   "cell_type": "markdown",
   "metadata": {},
   "source": []
  }
 ],
 "metadata": {
  "@webio": {
   "lastCommId": null,
   "lastKernelId": null
  },
  "anaconda-cloud": {},
  "celltoolbar": "Raw Cell Format",
  "kernelspec": {
   "display_name": "Julia 1.9.3",
   "language": "julia",
   "name": "julia-1.9"
  },
  "language_info": {
   "file_extension": ".jl",
   "mimetype": "application/julia",
   "name": "julia",
   "version": "1.9.3"
  }
 },
 "nbformat": 4,
 "nbformat_minor": 4
}
