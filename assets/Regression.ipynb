{
 "cells": [
  {
   "cell_type": "markdown",
   "metadata": {
    "slideshow": {
     "slide_type": "slide"
    }
   },
   "source": [
    "# Regression"
   ]
  },
  {
   "cell_type": "markdown",
   "metadata": {
    "slideshow": {
     "slide_type": "slide"
    }
   },
   "source": [
    "### Preliminaries\n",
    "\n",
    "- Goal \n",
    "  - Introduction to Bayesian (Linear) Regression\n",
    "- Materials        \n",
    "  - Mandatory\n",
    "    - These lecture notes\n",
    "  - Optional\n",
    "    - Bishop pp. 152-158 \n",
    "    - In this and forthcoming lectures, we will make use of some elementary matrix calculus. The most important formulas are summarized at the bottom of this notebook in an [OPTIONAL SLIDE on matrix calculus](#matrix-calculus). For derivations, see Bishop Appendix C. \n",
    "    "
   ]
  },
  {
   "attachments": {},
   "cell_type": "markdown",
   "metadata": {
    "slideshow": {
     "slide_type": "slide"
    }
   },
   "source": [
    "### Regression - Illustration\n",
    "\n",
    "\n",
    "<p style=\"text-align:center;\"><img src=\"./figures/fig-bishop12.png\" width=\"400px\"></p>\n",
    "\n",
    "Given a set of (noisy) data measurements, find the 'best' relation between an input variable $x \\in \\mathbb{R}^M$ and input-dependent outcomes $y \\in \\mathbb{R}$.\n"
   ]
  },
  {
   "cell_type": "markdown",
   "metadata": {
    "slideshow": {
     "slide_type": "slide"
    }
   },
   "source": [
    "### Regression vs Density Estimation\n",
    "\n",
    "\n",
    "- Observe $N$ IID data **pairs** $D=\\{(x_1,y_1),\\dotsc,(x_N,y_N)\\}$ with $x_n \\in \\mathbb{R}^M$ and $y_n \\in \\mathbb{R}$."
   ]
  },
  {
   "cell_type": "markdown",
   "metadata": {
    "slideshow": {
     "slide_type": "fragment"
    }
   },
   "source": [
    "- Assume that we are interested in (a model for) the responses $y_n$ for **given inputs** $x_n$?, I.o.w. we are interested in building a model for the conditional distribution $p(y|x)$."
   ]
  },
  {
   "cell_type": "markdown",
   "metadata": {
    "slideshow": {
     "slide_type": "fragment"
    }
   },
   "source": [
    "- Note that, since $p(x,y)=p(y|x)\\, p(x)$, building a model $p(y|x)$ is similar to density estimation with the assumption that $x$ is drawn from a uniform distribution."
   ]
  },
  {
   "cell_type": "markdown",
   "metadata": {
    "slideshow": {
     "slide_type": "slide"
    }
   },
   "source": [
    "### Bayesian Linear Regression\n",
    "\n",
    "- Next, we discuss (1) model specification, (2) Inference and (3) a prediction application for a Bayesian linear regression problem. "
   ]
  },
  {
   "cell_type": "markdown",
   "metadata": {
    "slideshow": {
     "slide_type": "fragment"
    }
   },
   "source": [
    "#####  1. Model Specification\n",
    "\n",
    "\n",
    "- In a traditional _regression_ model, we try to 'explain the data' by a purely deterministic function $f(x_n,w)$, plus a purely random term $\\epsilon_n$ for 'unexplained noise':\n",
    "$$\n",
    "    y_n  = f(x_n,w) + \\epsilon_n\n",
    "$$   "
   ]
  },
  {
   "cell_type": "markdown",
   "metadata": {
    "slideshow": {
     "slide_type": "fragment"
    }
   },
   "source": [
    "-  In a _linear regression_ model, i.e., linear w.r.t. the parameters $w$, we assume that \n",
    "$$f(x_n,w)= \\sum_{j=0}^{M-1} w_j \\phi_j(x_n) = w^T \\phi(x_n)$$\n",
    "where $\\phi_j(x)$ are called basis functions.\n",
    "  - For notational simplicity, from now on we will assume $f(x_n,w) = w^T x_n$, with $x_n \\in \\mathbb{R}^M$."
   ]
  },
  {
   "cell_type": "markdown",
   "metadata": {
    "slideshow": {
     "slide_type": "fragment"
    }
   },
   "source": [
    "-  In _ordinary linear regression_ , the noise process $\\epsilon_n$ is zero-mean Gaussian with constant variance, i.e.\n",
    "$$\n",
    "\\epsilon_n \\sim \\mathcal{N}(0,\\beta^{-1}) \\,.\n",
    "$$"
   ]
  },
  {
   "cell_type": "markdown",
   "metadata": {
    "slideshow": {
     "slide_type": "fragment"
    }
   },
   "source": [
    "- Hence, given a data set  $D=\\{(x_1,y_1),\\dotsc,(x_N,y_N)\\}$, the likelihood for an ordinary linear regression model is \n",
    "\n",
    "$$\\begin{align*}\n",
    "p(y\\,|\\,\\mathbf{X},w,\\beta) &= \\mathcal{N}(y\\,|\\,\\mathbf{X} w,\\beta^{-1} \\mathbf{I}) \\\\\n",
    "  &= \\prod_n \\mathcal{N}(y_n\\,|\\,w^T x_n,\\beta^{-1}) \\tag{B-3.10}\n",
    "\\end{align*}$$\n",
    "\n",
    "where $w = \\left(\\begin{matrix} w_1 \\\\ w_2 \\\\ \\vdots \\\\ w_{M} \\end{matrix} \\right)$, the $(N\\times M)$-dim matrix $\\mathbf{X}  = \\left(\\begin{matrix}x_1^T \\\\ x_2^T \\\\ \\vdots \\\\ x_N^T \\end{matrix} \\right) = \\left(\\begin{matrix}x_{11},x_{12},\\dots,x_{1M}\\\\ x_{21},x_{22},\\dots,x_{2M} \\\\ \\vdots \\\\ x_{N1},x_{N2},\\dots,x_{NM} \\end{matrix} \\right) $  and $y = \\left(\\begin{matrix} y_1 \\\\ y_2 \\\\ \\vdots \\\\ y_N \\end{matrix} \\right)$.\n"
   ]
  },
  {
   "cell_type": "markdown",
   "metadata": {
    "slideshow": {
     "slide_type": "fragment"
    }
   },
   "source": [
    "- For full Bayesian learning we should also choose a prior $p(w)$:\n",
    "\n",
    "$$\\begin{equation}\n",
    "p(w\\,|\\,\\alpha) = \\mathcal{N}(w\\,|\\,0,\\alpha^{-1}\\mathbf{I}) \\tag{B-3.52}\n",
    "\\end{equation}$$\n",
    "\n",
    "- For simplicity, we will assume that $\\alpha$ and $\\beta$ are fixed and known. \n"
   ]
  },
  {
   "cell_type": "markdown",
   "metadata": {
    "slideshow": {
     "slide_type": "slide"
    }
   },
   "source": [
    "##### 2. Inference\n",
    "\n",
    "- We'll do Bayesian inference for the parameters $w$. \n",
    "\n",
    "$$\\begin{align*}\n",
    "p(w|D) &\\propto p(D|w)\\cdot p(w) \\\\\n",
    "   &= \\mathcal{N}(y\\,|\\,\\mathbf{X} w,\\beta^{-1} \\mathbf{I}) \\cdot \\mathcal{N}(w\\,|\\,0,\\alpha^{-1}\\mathbf{I}) \\\\\n",
    "   &\\propto \\exp \\big( -\\frac{\\beta}{2} \\big( {y - \\mathbf{X}w } \\big)^T \\big( {y - \\mathbf{X}w } \\big)  - \\frac{\\alpha}{2}w^T w \\big) \\qquad \\text{(B-3.55)} \\\\\n",
    "   &= \\exp\\big( -\\frac{1}{2} w^T\\big(\\underbrace{\\beta \\mathbf{X}^T\\mathbf{X} + \\alpha \\mathbf{I}}_{\\Lambda_N}\\big)w + \\big(\\underbrace{\\beta \\mathbf{X}^Ty}_{\\eta_N}\\big)^T w - \\frac{\\beta}{2}y^T y \\big) \\\\\n",
    "     &\\propto \\mathcal{N}_c\\left(w\\,|\\,\\eta_N,\\Lambda_N \\right)\n",
    "\\end{align*}$$\n",
    "\n",
    "with natural parameters (see the [natural parameterization of Gaussian](https://nbviewer.jupyter.org/github/bertdv/BMLIP/blob/master/lessons/notebooks/The-Gaussian-Distribution.ipynb#natural-parameterization)):\n",
    "\n",
    "$$\\begin{align*}\n",
    "\\eta_N &= \\beta\\mathbf{X}^Ty \\\\\n",
    "\\Lambda_N &= \\beta \\mathbf{X}^T\\mathbf{X} + \\alpha \\mathbf{I}\n",
    "\\end{align*}$$\n",
    "\n",
    "- Or equivalently (in the moment parameterization of the Gaussian):\n",
    "$$\\begin{align*}\n",
    "p(w|D) &= \\mathcal{N}\\left(w\\,|\\,m_N,S_N \\right) \\qquad &&\\text{(B-3.49)} \\\\\n",
    "m_N &= \\beta S_N \\mathbf{X}^T y  \\qquad &&\\text{(B-3.53)}\\\\\n",
    "S_N &= \\left(\\alpha \\mathbf{I} + \\beta \\mathbf{X}^T \\mathbf{X}\\right)^{-1} \\qquad &&\\text{(B-3.54)}\n",
    "\\end{align*}$$\n",
    "\n",
    "- Note that B-3.53 and B-3.54 combine to\n",
    "$$\n",
    "m_N = \\left(\\frac{\\alpha}{\\beta}\\mathbf{I} + \\mathbf{X}^T \\mathbf{X} \\right)^{-1} \\mathbf{X}^T y\\,.\n",
    "$$\n"
   ]
  },
  {
   "cell_type": "markdown",
   "metadata": {
    "slideshow": {
     "slide_type": "slide"
    }
   },
   "source": [
    " - (Bishop Fig.3.7) Illustration of sequential Bayesian learning for a simple linear model of the form $y(x, w) =\n",
    "w_0 + w_1 x$. (Bishop Fig.3.7, detailed description at Bishop, pg.154.)\n",
    "\n",
    "<p style=\"text-align:center;\"><img src=\"./figures/Figure3.7.png\" width=\"500px\"> </p>"
   ]
  },
  {
   "attachments": {},
   "cell_type": "markdown",
   "metadata": {
    "slideshow": {
     "slide_type": "slide"
    }
   },
   "source": [
    "##### 3. Application: <a id=\"predictive-distribution\">Predictive Distribution</a>\n",
    "\n",
    "- Assume we are interested in the distribution $p(y_\\bullet \\,|\\, x_\\bullet, D)$ for a new input $x_\\bullet$. This can be worked out as (exercise B-3.10)\n",
    "\n",
    "$$\\begin{align*}\n",
    "p(y_\\bullet \\,|\\, x_\\bullet, D) &= \\int p(y_\\bullet \\,|\\, x_\\bullet, w) p(w\\,|\\,D)\\,\\mathrm{d}w \\\\\n",
    "&= \\int \\mathcal{N}(y_\\bullet \\,|\\, w^T x_\\bullet, \\beta^{-1}) \\mathcal{N}(w\\,|\\,m_N,S_N)\\,\\mathrm{d}w \\\\\n",
    "&= \\int \\mathcal{N}(y_\\bullet \\,|\\, z, \\beta^{-1}) \\underbrace{\\mathcal{N}(z\\,|\\,x_\\bullet^T m_N,x_\\bullet^T S_N x_\\bullet)\\,\\mathrm{d}z}_{=\\mathcal{N}(w\\,|\\,m_N,S_N)\\,\\mathrm{d}w} \\quad \\text{(sub. }z=x_\\bullet^T w \\text{)} \\\\\n",
    "&= \\int \\underbrace{\\underbrace{\\mathcal{N}(z \\,|\\, y_\\bullet, \\beta^{-1})}_{\\text{switch }z \\text{ and }y_\\bullet} \\mathcal{N}(z\\,|\\,x_\\bullet^T m_N,x_\\bullet^T S_N x_\\bullet)}_{\\text{Use Gaussian product formula SRG-6}}\\,\\mathrm{d}z  \\\\\n",
    "&= \\int \\mathcal{N}\\left(y_\\bullet\\,|\\, m_N^T x_\\bullet, \\sigma_N^2(x_\\bullet) \\right) \\underbrace{\\mathcal{N}\\left(z\\,|\\, \\cdot, \\cdot\\right)}_{\\text{integrate this out}} \\mathrm{d}z\\\\\n",
    "&= \\mathcal{N}\\left(y_\\bullet\\,|\\, m_N^T x_\\bullet, \\sigma_N^2(x_\\bullet) \\right)\n",
    "\\end{align*}$$\n",
    "with\n",
    "$$\\begin{align*}\n",
    "\\sigma_N^2(x_\\bullet) = \\beta^{-1} + x^T_\\bullet S_N x_\\bullet \\tag{B-3.59}\n",
    "\\end{align*}$$\n",
    "\n",
    "- So, the uncertainty $\\sigma_N^2(x_\\bullet)$ about the output $y_\\bullet$ contains both uncertainty about the process ($\\beta^{-1}$) and about the model parameters ($x^T_\\bullet S_N x_\\bullet$).  \n",
    "\n",
    "- (See the [OPTIONAL SLIDE](#change-of-variable-derivation) below for the step in this derivation where $\\mathcal{N}(w\\,|\\,m_N,S_N)\\,\\mathrm{d}w$ gets replaced $\\mathcal{N}(z\\,|\\,x_\\bullet^T m_N,x_\\bullet^T S_N x_\\bullet)\\,\\mathrm{d}z$.)"
   ]
  },
  {
   "cell_type": "markdown",
   "metadata": {
    "slideshow": {
     "slide_type": "slide"
    }
   },
   "source": [
    "### Example Predictive Distribution\n",
    "\n",
    "- As an example, let's do Bayesian Linear Regression for a synthetic sinusoidal data set and a model with 9 Gaussian basis functions \n",
    "$$\\begin{align*}\n",
    "y_n &=\\sum_{m=1}^9 w_m \\phi_m(x_n) + \\epsilon_n \\\\\n",
    "\\phi_m(x_n) &= \\exp\\left( \\frac{x_n-\\mu_m}{\\sigma^2}\\right) \\\\\n",
    "\\epsilon_n &\\sim \\mathcal{N}(0,\\beta^{-1})\n",
    "\\end{align*}$$\n",
    "\n",
    "<p style=\"text-align:center;\"><img src=\"./figures/Figure3.1b.png\" width=\"250px\"></p>\n",
    "\n",
    "- The predictive distributions for $y$ are shown in the following plots (Bishop, Fig.3.8)\n",
    "<p style=\"text-align:center;\"><img src=\"./figures/Figure3.8.png\" width=\"500px\"> </p>\n"
   ]
  },
  {
   "cell_type": "markdown",
   "metadata": {
    "slideshow": {
     "slide_type": "slide"
    }
   },
   "source": [
    "- And some plots of draws of posteriors for the functions $w^T \\phi(x)$ (Bishop, Fig.3.9) \n",
    "\n",
    "<p style=\"text-align:center;\"><img src=\"./figures/Figure3.9.png\" width=\"500px\"></p> "
   ]
  },
  {
   "cell_type": "markdown",
   "metadata": {
    "slideshow": {
     "slide_type": "slide"
    }
   },
   "source": [
    "###  Maximum Likelihood Estimation for Linear Regression Model\n",
    "\n",
    "- Recall the posterior mean for the weight vector\n",
    "$$\n",
    "m_N = \\left(\\frac{\\alpha}{\\beta}\\mathbf{I} + \\mathbf{X}^T \\mathbf{X} \\right)^{-1} \\mathbf{X}^T y\n",
    "$$\n",
    "where $\\alpha$ is the prior precision for the weights."
   ]
  },
  {
   "cell_type": "markdown",
   "metadata": {
    "slideshow": {
     "slide_type": "fragment"
    }
   },
   "source": [
    "- The Maximum Likelihood solution for $w$ is obtained by letting $\\alpha \\rightarrow 0$, which leads to \n",
    "\n",
    "$$\\begin{equation*}\n",
    "\\hat w_{\\text{ML}} = (\\mathbf{X}^T \\mathbf{X})^{-1} \\mathbf{X}^T y\n",
    "\\end{equation*}$$"
   ]
  },
  {
   "cell_type": "markdown",
   "metadata": {
    "slideshow": {
     "slide_type": "fragment"
    }
   },
   "source": [
    "-  The matrix $\\mathbf{X}^\\dagger \\equiv  (\\mathbf{X}^T \\mathbf{X})^{-1}\\mathbf{X}^T$ is also known as the **Moore-Penrose pseudo-inverse** (which is sort-of-an-inverse for non-square matrices)."
   ]
  },
  {
   "cell_type": "markdown",
   "metadata": {
    "slideshow": {
     "slide_type": "fragment"
    }
   },
   "source": [
    "-  Note that if we have fewer training samples than input dimensions, i.e., if $N<M$, then $\\mathbf{X}^T \\mathbf{X}$  will not be invertible and maximum likelihood blows up. The Bayesian solution does not suffer from this problem."
   ]
  },
  {
   "cell_type": "markdown",
   "metadata": {
    "slideshow": {
     "slide_type": "slide"
    }
   },
   "source": [
    "###  Least-Squares Regression\n",
    "\n",
    "-  (You may say that) we don't need to work with probabilistic models. E.g., there's also the deterministic **least-squares** solution: minimize sum of squared errors,\n",
    "\n",
    "$$\\begin{align*} \\hat w_{\\text{LS}} &= \\arg\\min_{w} \\sum_n {\\left( {y_n  - w ^T x_n } \\right)} ^2 \n",
    "  = \\arg\\min_{w} \\left( {y - \\mathbf{X}w } \\right)^T \\left( {y - \\mathbf{X} w } \\right)\n",
    "\\end{align*}$$"
   ]
  },
  {
   "cell_type": "markdown",
   "metadata": {
    "slideshow": {
     "slide_type": "fragment"
    }
   },
   "source": [
    "-  Setting the <a id=\"regression-gradient\">gradient</a> \n",
    "$ \\frac{\\partial \\left( {y - \\mathbf{X}w } \\right)^T \\left( {y - \\mathbf{X}w } \\right)}{\\partial w} = -2 \\mathbf{X}^T \\left(y - \\mathbf{X} w  \\right)\n",
    "$ to zero yields the so-called  **normal equations** \n",
    "$\\mathbf{X}^T\\mathbf{X} \\hat w_{\\text{LS}} = \\mathbf{X}^T y$  and consequently\n",
    "\n",
    "$$\n",
    "\\hat w_{\\text{LS}} = (\\mathbf{X}^T \\mathbf{X})^{-1} \\mathbf{X}^T y\n",
    "$$\n",
    "\n",
    "which is the same answer as we got for the maximum likelihood weights $\\hat w_{\\text{ML}}$."
   ]
  },
  {
   "cell_type": "markdown",
   "metadata": {
    "slideshow": {
     "slide_type": "fragment"
    }
   },
   "source": [
    "- $\\Rightarrow$ Least-squares regression ($\\hat w_{\\text{LS}}$) corresponds to the (probabilistic) maximum likelihood solution ($\\hat w_{\\text{ML}}$) if the probabilistic model includes the following assumptions:\n",
    "  1. The observations are independently and identically distributed (**IID**) (this determines how errors are combined), and\n",
    "  1. The noise signal $\\epsilon_n \\sim \\mathcal{N}(0,\\,\\beta^{-1})$ is **Gaussian** distributed (determines the error metric)      \n",
    "  "
   ]
  },
  {
   "cell_type": "markdown",
   "metadata": {
    "slideshow": {
     "slide_type": "fragment"
    }
   },
   "source": [
    "- If you use the Least-Squares method, you cannot see (nor modify) these assumptions. The probabilistic method forces you to state all assumptions explicitly! "
   ]
  },
  {
   "cell_type": "markdown",
   "metadata": {
    "slideshow": {
     "slide_type": "slide"
    }
   },
   "source": [
    "###  Not Identically Distributed Data\n",
    "\n",
    "-  Let's do an example regarding changing our assumptions. What if we assume that the variance of the measurement error varies with the sampling index,  $\\epsilon_n \\sim \\mathcal{N}(0,\\beta_n^{-1})$?"
   ]
  },
  {
   "cell_type": "markdown",
   "metadata": {
    "slideshow": {
     "slide_type": "fragment"
    }
   },
   "source": [
    "- The likelihood is now (using $\\Lambda \\triangleq \\mathrm{diag}(\\beta_n)$ )\n",
    "$$\n",
    "p(y\\,|\\,\\mathbf{X},w,\\Lambda) = \\mathcal{N}(y\\,|\\,\\mathbf{X} w,\\Lambda^{-1} ) \\,.\n",
    "$$"
   ]
  },
  {
   "cell_type": "markdown",
   "metadata": {
    "slideshow": {
     "slide_type": "fragment"
    }
   },
   "source": [
    "- Combining this likelihood with the prior $p(w) = \\mathcal{N}(w\\,|\\,0,\\alpha^{-1}\\mathbf{I})$ leads to a posterior\n",
    "\n",
    "$$\\begin{align*}\n",
    "p(w|D) &\\propto p(D|w)\\cdot p(w) \\\\\n",
    "   &= \\mathcal{N}(y\\,|\\,\\mathbf{X} w,\\Lambda^{-1} \\mathbf{I}) \\cdot \\mathcal{N}(w\\,|\\,0,\\alpha^{-1}\\mathbf{I}) \\\\\n",
    "   &\\propto \\exp \\left\\{ \\frac{1}{2} \\left( {y - \\mathbf{X}w } \\right)^T \\Lambda \\left( {y - \\mathbf{X}w } \\right)  + \\frac{\\alpha}{2}w^T w \\right\\} \\\\\n",
    "   &\\propto \\mathcal{N}\\left(w\\,|\\,m_N,S_N \\right) \n",
    "\\end{align*}$$\n",
    "with\n",
    "$$\\begin{align*}\n",
    "m_N &=  S_N \\mathbf{X}^T \\Lambda y  \\\\\n",
    "S_N &= \\left(\\alpha \\mathbf{I} +  \\mathbf{X}^T \\Lambda \\mathbf{X}\\right)^{-1} \n",
    "\\end{align*}$$\n",
    "\n",
    "- And maximum likelihood solution \n",
    "$$\n",
    "\\hat{w}_{\\text{ML}} = \\left. m_N\\right|_{\\alpha \\rightarrow 0} = \\left(\\mathbf{X}^T \\Lambda \\mathbf{X}\\right)^{-1} \\mathbf{X}^T \\Lambda y\n",
    "$$"
   ]
  },
  {
   "cell_type": "markdown",
   "metadata": {
    "slideshow": {
     "slide_type": "fragment"
    }
   },
   "source": [
    "-  This maximum likelihood solution is also called the **Weighted Least Squares** (WLS) solution. (Note that we just stumbled upon it, the crucial aspect is appropriate model specification!)"
   ]
  },
  {
   "cell_type": "markdown",
   "metadata": {
    "slideshow": {
     "slide_type": "fragment"
    }
   },
   "source": [
    "-  Note also that the dimension of $\\Lambda$ grows with the number of data points. In general, models for which the number of parameters grow as the number of observations increase are called **non-parametric models**."
   ]
  },
  {
   "cell_type": "markdown",
   "metadata": {
    "slideshow": {
     "slide_type": "slide"
    }
   },
   "source": [
    "### Code Example: Least Squares vs Weighted Least Squares\n",
    "\n",
    "- We'll compare the Least Squares and Weighted Least Squares solutions for a simple linear regression model with input-dependent noise:\n",
    "\n",
    "$$\\begin{align*}\n",
    "x &\\sim \\text{Unif}[0,1]\\\\\n",
    "y|x &\\sim \\mathcal{N}(f(x), v(x))\\\\\n",
    "f(x) &= 5x - 2\\\\\n",
    "v(x) &= 10e^{2x^2}-9.5\\\\\n",
    "\\mathcal{D} &= \\{(x_1,y_1),\\ldots,(x_N,y_N)\\}\n",
    "\\end{align*}$$"
   ]
  },
  {
   "cell_type": "code",
   "execution_count": 1,
   "metadata": {},
   "outputs": [
    {
     "name": "stderr",
     "output_type": "stream",
     "text": [
      "\u001b[32m\u001b[1m  Activating\u001b[22m\u001b[39m project at `~/github/bertdv/BMLIP/lessons`\n"
     ]
    }
   ],
   "source": [
    "using Pkg; Pkg.activate(\"../.\"); Pkg.instantiate();\n",
    "#using IJulia; try IJulia.clear_output(); catch _ end"
   ]
  },
  {
   "cell_type": "code",
   "execution_count": 3,
   "metadata": {},
   "outputs": [
    {
     "data": {
      "image/png": "[encoded data removed]",
      "image/svg+xml": [
       "<?xml version=\"1.0\" encoding=\"utf-8\"?>\n",
       "<svg xmlns=\"http://www.w3.org/2000/svg\" xmlns:xlink=\"http://www.w3.org/1999/xlink\" width=\"600\" height=\"400\" viewBox=\"0 0 2400 1600\">\n",
       "<defs>\n",
       "  <clipPath id=\"clip620\">\n",
       "    <rect x=\"0\" y=\"0\" width=\"2400\" height=\"1600\"/>\n",
       "  </clipPath>\n",
       "</defs>\n",
       "<path clip-path=\"url(#clip620)\" d=\"M0 1600 L2400 1600 L2400 0 L0 0  Z\" fill=\"#ffffff\" fill-rule=\"evenodd\" fill-opacity=\"1\"/>\n",
       "<defs>\n",
       "  <clipPath id=\"clip621\">\n",
       "    <rect x=\"480\" y=\"0\" width=\"1681\" height=\"1600\"/>\n",
       "  </clipPath>\n",
       "</defs>\n",
       "<path clip-path=\"url(#clip620)\" d=\"M210.977 1423.18 L2352.76 1423.18 L2352.76 47.2441 L210.977 47.2441  Z\" fill=\"#ffffff\" fill-rule=\"evenodd\" fill-opacity=\"1\"/>\n",
       "<defs>\n",
       "  <clipPath id=\"clip622\">\n",
       "    <rect x=\"210\" y=\"47\" width=\"2143\" height=\"1377\"/>\n",
       "  </clipPath>\n",
       "</defs>\n",
       "<polyline clip-path=\"url(#clip622)\" style=\"stroke:#000000; stroke-linecap:round; stroke-linejoin:round; stroke-width:2; stroke-opacity:0.1; fill:none\" points=\"271.594,1423.18 271.594,47.2441 \"/>\n",
       "<polyline clip-path=\"url(#clip622)\" style=\"stroke:#000000; stroke-linecap:round; stroke-linejoin:round; stroke-width:2; stroke-opacity:0.1; fill:none\" points=\"776.73,1423.18 776.73,47.2441 \"/>\n",
       "<polyline clip-path=\"url(#clip622)\" style=\"stroke:#000000; stroke-linecap:round; stroke-linejoin:round; stroke-width:2; stroke-opacity:0.1; fill:none\" points=\"1281.87,1423.18 1281.87,47.2441 \"/>\n",
       "<polyline clip-path=\"url(#clip622)\" style=\"stroke:#000000; stroke-linecap:round; stroke-linejoin:round; stroke-width:2; stroke-opacity:0.1; fill:none\" points=\"1787,1423.18 1787,47.2441 \"/>\n",
       "<polyline clip-path=\"url(#clip622)\" style=\"stroke:#000000; stroke-linecap:round; stroke-linejoin:round; stroke-width:2; stroke-opacity:0.1; fill:none\" points=\"2292.14,1423.18 2292.14,47.2441 \"/>\n",
       "<polyline clip-path=\"url(#clip620)\" style=\"stroke:#000000; stroke-linecap:round; stroke-linejoin:round; stroke-width:4; stroke-opacity:1; fill:none\" points=\"210.977,1423.18 2352.76,1423.18 \"/>\n",
       "<polyline clip-path=\"url(#clip620)\" style=\"stroke:#000000; stroke-linecap:round; stroke-linejoin:round; stroke-width:4; stroke-opacity:1; fill:none\" points=\"271.594,1423.18 271.594,1404.28 \"/>\n",
       "<polyline clip-path=\"url(#clip620)\" style=\"stroke:#000000; stroke-linecap:round; stroke-linejoin:round; stroke-width:4; stroke-opacity:1; fill:none\" points=\"776.73,1423.18 776.73,1404.28 \"/>\n",
       "<polyline clip-path=\"url(#clip620)\" style=\"stroke:#000000; stroke-linecap:round; stroke-linejoin:round; stroke-width:4; stroke-opacity:1; fill:none\" points=\"1281.87,1423.18 1281.87,1404.28 \"/>\n",
       "<polyline clip-path=\"url(#clip620)\" style=\"stroke:#000000; stroke-linecap:round; stroke-linejoin:round; stroke-width:4; stroke-opacity:1; fill:none\" points=\"1787,1423.18 1787,1404.28 \"/>\n",
       "<polyline clip-path=\"url(#clip620)\" style=\"stroke:#000000; stroke-linecap:round; stroke-linejoin:round; stroke-width:4; stroke-opacity:1; fill:none\" points=\"2292.14,1423.18 2292.14,1404.28 \"/>\n",
       "<path clip-path=\"url(#clip620)\" d=\"M233.897 1454.1 Q230.286 1454.1 228.457 1457.66 Q226.652 1461.2 226.652 1468.33 Q226.652 1475.44 228.457 1479.01 Q230.286 1482.55 233.897 1482.55 Q237.531 1482.55 239.337 1479.01 Q241.166 1475.44 241.166 1468.33 Q241.166 1461.2 239.337 1457.66 Q237.531 1454.1 233.897 1454.1 M233.897 1450.39 Q239.707 1450.39 242.763 1455 Q245.842 1459.58 245.842 1468.33 Q245.842 1477.06 242.763 1481.67 Q239.707 1486.25 233.897 1486.25 Q228.087 1486.25 225.008 1481.67 Q221.953 1477.06 221.953 1468.33 Q221.953 1459.58 225.008 1455 Q228.087 1450.39 233.897 1450.39 Z\" fill=\"#000000\" fill-rule=\"nonzero\" fill-opacity=\"1\" /><path clip-path=\"url(#clip620)\" d=\"M254.059 1479.7 L258.943 1479.7 L258.943 1485.58 L254.059 1485.58 L254.059 1479.7 Z\" fill=\"#000000\" fill-rule=\"nonzero\" fill-opacity=\"1\" /><path clip-path=\"url(#clip620)\" d=\"M279.128 1454.1 Q275.517 1454.1 273.689 1457.66 Q271.883 1461.2 271.883 1468.33 Q271.883 1475.44 273.689 1479.01 Q275.517 1482.55 279.128 1482.55 Q282.763 1482.55 284.568 1479.01 Q286.397 1475.44 286.397 1468.33 Q286.397 1461.2 284.568 1457.66 Q282.763 1454.1 279.128 1454.1 M279.128 1450.39 Q284.939 1450.39 287.994 1455 Q291.073 1459.58 291.073 1468.33 Q291.073 1477.06 287.994 1481.67 Q284.939 1486.25 279.128 1486.25 Q273.318 1486.25 270.24 1481.67 Q267.184 1477.06 267.184 1468.33 Q267.184 1459.58 270.24 1455 Q273.318 1450.39 279.128 1450.39 Z\" fill=\"#000000\" fill-rule=\"nonzero\" fill-opacity=\"1\" /><path clip-path=\"url(#clip620)\" d=\"M309.29 1454.1 Q305.679 1454.1 303.851 1457.66 Q302.045 1461.2 302.045 1468.33 Q302.045 1475.44 303.851 1479.01 Q305.679 1482.55 309.29 1482.55 Q312.925 1482.55 314.73 1479.01 Q316.559 1475.44 316.559 1468.33 Q316.559 1461.2 314.73 1457.66 Q312.925 1454.1 309.29 1454.1 M309.29 1450.39 Q315.101 1450.39 318.156 1455 Q321.235 1459.58 321.235 1468.33 Q321.235 1477.06 318.156 1481.67 Q315.101 1486.25 309.29 1486.25 Q303.48 1486.25 300.402 1481.67 Q297.346 1477.06 297.346 1468.33 Q297.346 1459.58 300.402 1455 Q303.48 1450.39 309.29 1450.39 Z\" fill=\"#000000\" fill-rule=\"nonzero\" fill-opacity=\"1\" /><path clip-path=\"url(#clip620)\" d=\"M739.531 1454.1 Q735.92 1454.1 734.092 1457.66 Q732.286 1461.2 732.286 1468.33 Q732.286 1475.44 734.092 1479.01 Q735.92 1482.55 739.531 1482.55 Q743.166 1482.55 744.971 1479.01 Q746.8 1475.44 746.8 1468.33 Q746.8 1461.2 744.971 1457.66 Q743.166 1454.1 739.531 1454.1 M739.531 1450.39 Q745.342 1450.39 748.397 1455 Q751.476 1459.58 751.476 1468.33 Q751.476 1477.06 748.397 1481.67 Q745.342 1486.25 739.531 1486.25 Q733.721 1486.25 730.643 1481.67 Q727.587 1477.06 727.587 1468.33 Q727.587 1459.58 730.643 1455 Q733.721 1450.39 739.531 1450.39 Z\" fill=\"#000000\" fill-rule=\"nonzero\" fill-opacity=\"1\" /><path clip-path=\"url(#clip620)\" d=\"M759.693 1479.7 L764.578 1479.7 L764.578 1485.58 L759.693 1485.58 L759.693 1479.7 Z\" fill=\"#000000\" fill-rule=\"nonzero\" fill-opacity=\"1\" /><path clip-path=\"url(#clip620)\" d=\"M778.79 1481.64 L795.11 1481.64 L795.11 1485.58 L773.165 1485.58 L773.165 1481.64 Q775.827 1478.89 780.411 1474.26 Q785.017 1469.61 786.198 1468.27 Q788.443 1465.74 789.323 1464.01 Q790.226 1462.25 790.226 1460.56 Q790.226 1457.8 788.281 1456.07 Q786.36 1454.33 783.258 1454.33 Q781.059 1454.33 778.605 1455.09 Q776.175 1455.86 773.397 1457.41 L773.397 1452.69 Q776.221 1451.55 778.675 1450.97 Q781.128 1450.39 783.165 1450.39 Q788.536 1450.39 791.73 1453.08 Q794.925 1455.77 794.925 1460.26 Q794.925 1462.39 794.114 1464.31 Q793.327 1466.2 791.221 1468.8 Q790.642 1469.47 787.54 1472.69 Q784.439 1475.88 778.79 1481.64 Z\" fill=\"#000000\" fill-rule=\"nonzero\" fill-opacity=\"1\" /><path clip-path=\"url(#clip620)\" d=\"M804.971 1451.02 L823.327 1451.02 L823.327 1454.96 L809.253 1454.96 L809.253 1463.43 Q810.272 1463.08 811.29 1462.92 Q812.309 1462.73 813.327 1462.73 Q819.114 1462.73 822.494 1465.9 Q825.873 1469.08 825.873 1474.49 Q825.873 1480.07 822.401 1483.17 Q818.929 1486.25 812.61 1486.25 Q810.434 1486.25 808.165 1485.88 Q805.92 1485.51 803.512 1484.77 L803.512 1480.07 Q805.596 1481.2 807.818 1481.76 Q810.04 1482.32 812.517 1482.32 Q816.522 1482.32 818.86 1480.21 Q821.198 1478.1 821.198 1474.49 Q821.198 1470.88 818.86 1468.77 Q816.522 1466.67 812.517 1466.67 Q810.642 1466.67 808.767 1467.08 Q806.915 1467.5 804.971 1468.38 L804.971 1451.02 Z\" fill=\"#000000\" fill-rule=\"nonzero\" fill-opacity=\"1\" /><path clip-path=\"url(#clip620)\" d=\"M1244.17 1454.1 Q1240.56 1454.1 1238.73 1457.66 Q1236.92 1461.2 1236.92 1468.33 Q1236.92 1475.44 1238.73 1479.01 Q1240.56 1482.55 1244.17 1482.55 Q1247.8 1482.55 1249.61 1479.01 Q1251.44 1475.44 1251.44 1468.33 Q1251.44 1461.2 1249.61 1457.66 Q1247.8 1454.1 1244.17 1454.1 M1244.17 1450.39 Q1249.98 1450.39 1253.04 1455 Q1256.11 1459.58 1256.11 1468.33 Q1256.11 1477.06 1253.04 1481.67 Q1249.98 1486.25 1244.17 1486.25 Q1238.36 1486.25 1235.28 1481.67 Q1232.23 1477.06 1232.23 1468.33 Q1232.23 1459.58 1235.28 1455 Q1238.36 1450.39 1244.17 1450.39 Z\" fill=\"#000000\" fill-rule=\"nonzero\" fill-opacity=\"1\" /><path clip-path=\"url(#clip620)\" d=\"M1264.33 1479.7 L1269.22 1479.7 L1269.22 1485.58 L1264.33 1485.58 L1264.33 1479.7 Z\" fill=\"#000000\" fill-rule=\"nonzero\" fill-opacity=\"1\" /><path clip-path=\"url(#clip620)\" d=\"M1279.45 1451.02 L1297.8 1451.02 L1297.8 1454.96 L1283.73 1454.96 L1283.73 1463.43 Q1284.75 1463.08 1285.77 1462.92 Q1286.79 1462.73 1287.8 1462.73 Q1293.59 1462.73 1296.97 1465.9 Q1300.35 1469.08 1300.35 1474.49 Q1300.35 1480.07 1296.88 1483.17 Q1293.41 1486.25 1287.09 1486.25 Q1284.91 1486.25 1282.64 1485.88 Q1280.4 1485.51 1277.99 1484.77 L1277.99 1480.07 Q1280.07 1481.2 1282.29 1481.76 Q1284.52 1482.32 1286.99 1482.32 Q1291 1482.32 1293.34 1480.21 Q1295.67 1478.1 1295.67 1474.49 Q1295.67 1470.88 1293.34 1468.77 Q1291 1466.67 1286.99 1466.67 Q1285.12 1466.67 1283.24 1467.08 Q1281.39 1467.5 1279.45 1468.38 L1279.45 1451.02 Z\" fill=\"#000000\" fill-rule=\"nonzero\" fill-opacity=\"1\" /><path clip-path=\"url(#clip620)\" d=\"M1319.56 1454.1 Q1315.95 1454.1 1314.12 1457.66 Q1312.32 1461.2 1312.32 1468.33 Q1312.32 1475.44 1314.12 1479.01 Q1315.95 1482.55 1319.56 1482.55 Q1323.2 1482.55 1325 1479.01 Q1326.83 1475.44 1326.83 1468.33 Q1326.83 1461.2 1325 1457.66 Q1323.2 1454.1 1319.56 1454.1 M1319.56 1450.39 Q1325.37 1450.39 1328.43 1455 Q1331.51 1459.58 1331.51 1468.33 Q1331.51 1477.06 1328.43 1481.67 Q1325.37 1486.25 1319.56 1486.25 Q1313.75 1486.25 1310.67 1481.67 Q1307.62 1477.06 1307.62 1468.33 Q1307.62 1459.58 1310.67 1455 Q1313.75 1450.39 1319.56 1450.39 Z\" fill=\"#000000\" fill-rule=\"nonzero\" fill-opacity=\"1\" /><path clip-path=\"url(#clip620)\" d=\"M1749.8 1454.1 Q1746.19 1454.1 1744.36 1457.66 Q1742.56 1461.2 1742.56 1468.33 Q1742.56 1475.44 1744.36 1479.01 Q1746.19 1482.55 1749.8 1482.55 Q1753.44 1482.55 1755.24 1479.01 Q1757.07 1475.44 1757.07 1468.33 Q1757.07 1461.2 1755.24 1457.66 Q1753.44 1454.1 1749.8 1454.1 M1749.8 1450.39 Q1755.61 1450.39 1758.67 1455 Q1761.75 1459.58 1761.75 1468.33 Q1761.75 1477.06 1758.67 1481.67 Q1755.61 1486.25 1749.8 1486.25 Q1743.99 1486.25 1740.92 1481.67 Q1737.86 1477.06 1737.86 1468.33 Q1737.86 1459.58 1740.92 1455 Q1743.99 1450.39 1749.8 1450.39 Z\" fill=\"#000000\" fill-rule=\"nonzero\" fill-opacity=\"1\" /><path clip-path=\"url(#clip620)\" d=\"M1769.97 1479.7 L1774.85 1479.7 L1774.85 1485.58 L1769.97 1485.58 L1769.97 1479.7 Z\" fill=\"#000000\" fill-rule=\"nonzero\" fill-opacity=\"1\" /><path clip-path=\"url(#clip620)\" d=\"M1783.85 1451.02 L1806.08 1451.02 L1806.08 1453.01 L1793.53 1485.58 L1788.65 1485.58 L1800.45 1454.96 L1783.85 1454.96 L1783.85 1451.02 Z\" fill=\"#000000\" fill-rule=\"nonzero\" fill-opacity=\"1\" /><path clip-path=\"url(#clip620)\" d=\"M1815.24 1451.02 L1833.6 1451.02 L1833.6 1454.96 L1819.53 1454.96 L1819.53 1463.43 Q1820.54 1463.08 1821.56 1462.92 Q1822.58 1462.73 1823.6 1462.73 Q1829.39 1462.73 1832.77 1465.9 Q1836.15 1469.08 1836.15 1474.49 Q1836.15 1480.07 1832.67 1483.17 Q1829.2 1486.25 1822.88 1486.25 Q1820.71 1486.25 1818.44 1485.88 Q1816.19 1485.51 1813.79 1484.77 L1813.79 1480.07 Q1815.87 1481.2 1818.09 1481.76 Q1820.31 1482.32 1822.79 1482.32 Q1826.79 1482.32 1829.13 1480.21 Q1831.47 1478.1 1831.47 1474.49 Q1831.47 1470.88 1829.13 1468.77 Q1826.79 1466.67 1822.79 1466.67 Q1820.91 1466.67 1819.04 1467.08 Q1817.19 1467.5 1815.24 1468.38 L1815.24 1451.02 Z\" fill=\"#000000\" fill-rule=\"nonzero\" fill-opacity=\"1\" /><path clip-path=\"url(#clip620)\" d=\"M2244.21 1481.64 L2251.85 1481.64 L2251.85 1455.28 L2243.54 1456.95 L2243.54 1452.69 L2251.8 1451.02 L2256.48 1451.02 L2256.48 1481.64 L2264.12 1481.64 L2264.12 1485.58 L2244.21 1485.58 L2244.21 1481.64 Z\" fill=\"#000000\" fill-rule=\"nonzero\" fill-opacity=\"1\" /><path clip-path=\"url(#clip620)\" d=\"M2273.56 1479.7 L2278.45 1479.7 L2278.45 1485.58 L2273.56 1485.58 L2273.56 1479.7 Z\" fill=\"#000000\" fill-rule=\"nonzero\" fill-opacity=\"1\" /><path clip-path=\"url(#clip620)\" d=\"M2298.63 1454.1 Q2295.02 1454.1 2293.19 1457.66 Q2291.39 1461.2 2291.39 1468.33 Q2291.39 1475.44 2293.19 1479.01 Q2295.02 1482.55 2298.63 1482.55 Q2302.27 1482.55 2304.07 1479.01 Q2305.9 1475.44 2305.9 1468.33 Q2305.9 1461.2 2304.07 1457.66 Q2302.27 1454.1 2298.63 1454.1 M2298.63 1450.39 Q2304.44 1450.39 2307.5 1455 Q2310.58 1459.58 2310.58 1468.33 Q2310.58 1477.06 2307.5 1481.67 Q2304.44 1486.25 2298.63 1486.25 Q2292.82 1486.25 2289.74 1481.67 Q2286.69 1477.06 2286.69 1468.33 Q2286.69 1459.58 2289.74 1455 Q2292.82 1450.39 2298.63 1450.39 Z\" fill=\"#000000\" fill-rule=\"nonzero\" fill-opacity=\"1\" /><path clip-path=\"url(#clip620)\" d=\"M2328.79 1454.1 Q2325.18 1454.1 2323.35 1457.66 Q2321.55 1461.2 2321.55 1468.33 Q2321.55 1475.44 2323.35 1479.01 Q2325.18 1482.55 2328.79 1482.55 Q2332.43 1482.55 2334.23 1479.01 Q2336.06 1475.44 2336.06 1468.33 Q2336.06 1461.2 2334.23 1457.66 Q2332.43 1454.1 2328.79 1454.1 M2328.79 1450.39 Q2334.6 1450.39 2337.66 1455 Q2340.74 1459.58 2340.74 1468.33 Q2340.74 1477.06 2337.66 1481.67 Q2334.6 1486.25 2328.79 1486.25 Q2322.98 1486.25 2319.91 1481.67 Q2316.85 1477.06 2316.85 1468.33 Q2316.85 1459.58 2319.91 1455 Q2322.98 1450.39 2328.79 1450.39 Z\" fill=\"#000000\" fill-rule=\"nonzero\" fill-opacity=\"1\" /><path clip-path=\"url(#clip620)\" d=\"M1298.48 1532.4 L1285.59 1549.74 L1299.15 1568.04 L1292.24 1568.04 L1281.87 1554.04 L1271.49 1568.04 L1264.58 1568.04 L1278.43 1549.39 L1265.76 1532.4 L1272.67 1532.4 L1282.12 1545.1 L1291.57 1532.4 L1298.48 1532.4 Z\" fill=\"#000000\" fill-rule=\"nonzero\" fill-opacity=\"1\" /><polyline clip-path=\"url(#clip622)\" style=\"stroke:#000000; stroke-linecap:round; stroke-linejoin:round; stroke-width:2; stroke-opacity:0.1; fill:none\" points=\"210.977,1336.59 2352.76,1336.59 \"/>\n",
       "<polyline clip-path=\"url(#clip622)\" style=\"stroke:#000000; stroke-linecap:round; stroke-linejoin:round; stroke-width:2; stroke-opacity:0.1; fill:none\" points=\"210.977,1016.04 2352.76,1016.04 \"/>\n",
       "<polyline clip-path=\"url(#clip622)\" style=\"stroke:#000000; stroke-linecap:round; stroke-linejoin:round; stroke-width:2; stroke-opacity:0.1; fill:none\" points=\"210.977,695.49 2352.76,695.49 \"/>\n",
       "<polyline clip-path=\"url(#clip622)\" style=\"stroke:#000000; stroke-linecap:round; stroke-linejoin:round; stroke-width:2; stroke-opacity:0.1; fill:none\" points=\"210.977,374.939 2352.76,374.939 \"/>\n",
       "<polyline clip-path=\"url(#clip622)\" style=\"stroke:#000000; stroke-linecap:round; stroke-linejoin:round; stroke-width:2; stroke-opacity:0.1; fill:none\" points=\"210.977,54.3879 2352.76,54.3879 \"/>\n",
       "<polyline clip-path=\"url(#clip620)\" style=\"stroke:#000000; stroke-linecap:round; stroke-linejoin:round; stroke-width:4; stroke-opacity:1; fill:none\" points=\"210.977,1423.18 210.977,47.2441 \"/>\n",
       "<polyline clip-path=\"url(#clip620)\" style=\"stroke:#000000; stroke-linecap:round; stroke-linejoin:round; stroke-width:4; stroke-opacity:1; fill:none\" points=\"210.977,1336.59 229.875,1336.59 \"/>\n",
       "<polyline clip-path=\"url(#clip620)\" style=\"stroke:#000000; stroke-linecap:round; stroke-linejoin:round; stroke-width:4; stroke-opacity:1; fill:none\" points=\"210.977,1016.04 229.875,1016.04 \"/>\n",
       "<polyline clip-path=\"url(#clip620)\" style=\"stroke:#000000; stroke-linecap:round; stroke-linejoin:round; stroke-width:4; stroke-opacity:1; fill:none\" points=\"210.977,695.49 229.875,695.49 \"/>\n",
       "<polyline clip-path=\"url(#clip620)\" style=\"stroke:#000000; stroke-linecap:round; stroke-linejoin:round; stroke-width:4; stroke-opacity:1; fill:none\" points=\"210.977,374.939 229.875,374.939 \"/>\n",
       "<polyline clip-path=\"url(#clip620)\" style=\"stroke:#000000; stroke-linecap:round; stroke-linejoin:round; stroke-width:4; stroke-opacity:1; fill:none\" points=\"210.977,54.3879 229.875,54.3879 \"/>\n",
       "<path clip-path=\"url(#clip620)\" d=\"M114.26 1337.04 L143.936 1337.04 L143.936 1340.98 L114.26 1340.98 L114.26 1337.04 Z\" fill=\"#000000\" fill-rule=\"nonzero\" fill-opacity=\"1\" /><path clip-path=\"url(#clip620)\" d=\"M154.075 1319.31 L172.431 1319.31 L172.431 1323.25 L158.357 1323.25 L158.357 1331.72 Q159.376 1331.37 160.394 1331.21 Q161.413 1331.02 162.431 1331.02 Q168.218 1331.02 171.598 1334.2 Q174.977 1337.37 174.977 1342.78 Q174.977 1348.36 171.505 1351.46 Q168.033 1354.54 161.714 1354.54 Q159.538 1354.54 157.269 1354.17 Q155.024 1353.8 152.616 1353.06 L152.616 1348.36 Q154.7 1349.5 156.922 1350.05 Q159.144 1350.61 161.621 1350.61 Q165.626 1350.61 167.964 1348.5 Q170.302 1346.39 170.302 1342.78 Q170.302 1339.17 167.964 1337.07 Q165.626 1334.96 161.621 1334.96 Q159.746 1334.96 157.871 1335.38 Q156.019 1335.79 154.075 1336.67 L154.075 1319.31 Z\" fill=\"#000000\" fill-rule=\"nonzero\" fill-opacity=\"1\" /><path clip-path=\"url(#clip620)\" d=\"M163.033 1001.84 Q159.422 1001.84 157.593 1005.4 Q155.788 1008.95 155.788 1016.08 Q155.788 1023.18 157.593 1026.75 Q159.422 1030.29 163.033 1030.29 Q166.667 1030.29 168.473 1026.75 Q170.302 1023.18 170.302 1016.08 Q170.302 1008.95 168.473 1005.4 Q166.667 1001.84 163.033 1001.84 M163.033 998.135 Q168.843 998.135 171.899 1002.74 Q174.977 1007.33 174.977 1016.08 Q174.977 1024.8 171.899 1029.41 Q168.843 1033.99 163.033 1033.99 Q157.223 1033.99 154.144 1029.41 Q151.089 1024.8 151.089 1016.08 Q151.089 1007.33 154.144 1002.74 Q157.223 998.135 163.033 998.135 Z\" fill=\"#000000\" fill-rule=\"nonzero\" fill-opacity=\"1\" /><path clip-path=\"url(#clip620)\" d=\"M154.075 678.21 L172.431 678.21 L172.431 682.145 L158.357 682.145 L158.357 690.617 Q159.376 690.27 160.394 690.108 Q161.413 689.922 162.431 689.922 Q168.218 689.922 171.598 693.094 Q174.977 696.265 174.977 701.682 Q174.977 707.26 171.505 710.362 Q168.033 713.441 161.714 713.441 Q159.538 713.441 157.269 713.071 Q155.024 712.7 152.616 711.959 L152.616 707.26 Q154.7 708.395 156.922 708.95 Q159.144 709.506 161.621 709.506 Q165.626 709.506 167.964 707.399 Q170.302 705.293 170.302 701.682 Q170.302 698.071 167.964 695.964 Q165.626 693.858 161.621 693.858 Q159.746 693.858 157.871 694.274 Q156.019 694.691 154.075 695.571 L154.075 678.21 Z\" fill=\"#000000\" fill-rule=\"nonzero\" fill-opacity=\"1\" /><path clip-path=\"url(#clip620)\" d=\"M123.681 388.284 L131.32 388.284 L131.32 361.918 L123.01 363.585 L123.01 359.325 L131.274 357.659 L135.95 357.659 L135.95 388.284 L143.589 388.284 L143.589 392.219 L123.681 392.219 L123.681 388.284 Z\" fill=\"#000000\" fill-rule=\"nonzero\" fill-opacity=\"1\" /><path clip-path=\"url(#clip620)\" d=\"M163.033 360.737 Q159.422 360.737 157.593 364.302 Q155.788 367.844 155.788 374.973 Q155.788 382.08 157.593 385.645 Q159.422 389.186 163.033 389.186 Q166.667 389.186 168.473 385.645 Q170.302 382.08 170.302 374.973 Q170.302 367.844 168.473 364.302 Q166.667 360.737 163.033 360.737 M163.033 357.034 Q168.843 357.034 171.899 361.64 Q174.977 366.224 174.977 374.973 Q174.977 383.7 171.899 388.307 Q168.843 392.89 163.033 392.89 Q157.223 392.89 154.144 388.307 Q151.089 383.7 151.089 374.973 Q151.089 366.224 154.144 361.64 Q157.223 357.034 163.033 357.034 Z\" fill=\"#000000\" fill-rule=\"nonzero\" fill-opacity=\"1\" /><path clip-path=\"url(#clip620)\" d=\"M124.677 67.7327 L132.316 67.7327 L132.316 41.3671 L124.005 43.0338 L124.005 38.7746 L132.269 37.1079 L136.945 37.1079 L136.945 67.7327 L144.584 67.7327 L144.584 71.6679 L124.677 71.6679 L124.677 67.7327 Z\" fill=\"#000000\" fill-rule=\"nonzero\" fill-opacity=\"1\" /><path clip-path=\"url(#clip620)\" d=\"M154.075 37.1079 L172.431 37.1079 L172.431 41.0431 L158.357 41.0431 L158.357 49.5152 Q159.376 49.168 160.394 49.006 Q161.413 48.8208 162.431 48.8208 Q168.218 48.8208 171.598 51.9921 Q174.977 55.1634 174.977 60.58 Q174.977 66.1587 171.505 69.2605 Q168.033 72.3392 161.714 72.3392 Q159.538 72.3392 157.269 71.9688 Q155.024 71.5985 152.616 70.8577 L152.616 66.1587 Q154.7 67.2929 156.922 67.8485 Q159.144 68.404 161.621 68.404 Q165.626 68.404 167.964 66.2976 Q170.302 64.1911 170.302 60.58 Q170.302 56.9689 167.964 54.8624 Q165.626 52.756 161.621 52.756 Q159.746 52.756 157.871 53.1726 Q156.019 53.5893 154.075 54.4689 L154.075 37.1079 Z\" fill=\"#000000\" fill-rule=\"nonzero\" fill-opacity=\"1\" /><path clip-path=\"url(#clip620)\" d=\"M67.3143 733.525 Q73.68 736.008 75.6216 738.363 Q77.5631 740.718 77.5631 744.665 L77.5631 749.344 L72.6615 749.344 L72.6615 745.906 Q72.6615 743.487 71.5157 742.151 Q70.3699 740.814 66.1048 739.191 L63.4312 738.14 L28.3562 752.559 L28.3562 746.352 L56.238 735.212 L28.3562 724.072 L28.3562 717.865 L67.3143 733.525 Z\" fill=\"#000000\" fill-rule=\"nonzero\" fill-opacity=\"1\" /><path clip-path=\"url(#clip622)\" d=\"M271.594 1189.59 L2292.14 1338.15 L2292.14 309.266 L271.594 1098.93  Z\" fill=\"#009af9\" fill-rule=\"evenodd\" fill-opacity=\"0.5\"/>\n",
       "<polyline clip-path=\"url(#clip622)\" style=\"stroke:#009af9; stroke-linecap:round; stroke-linejoin:round; stroke-width:4; stroke-opacity:1; fill:none\" points=\"271.594,1144.26 2292.14,823.71 \"/>\n",
       "<circle clip-path=\"url(#clip622)\" cx=\"741.645\" cy=\"1139.98\" r=\"14.4\" fill=\"#e26f46\" fill-rule=\"evenodd\" fill-opacity=\"1\" stroke=\"#000000\" stroke-opacity=\"1\" stroke-width=\"3.2\"/>\n",
       "<circle clip-path=\"url(#clip622)\" cx=\"1967.35\" cy=\"854.596\" r=\"14.4\" fill=\"#e26f46\" fill-rule=\"evenodd\" fill-opacity=\"1\" stroke=\"#000000\" stroke-opacity=\"1\" stroke-width=\"3.2\"/>\n",
       "<circle clip-path=\"url(#clip622)\" cx=\"1841.55\" cy=\"614.611\" r=\"14.4\" fill=\"#e26f46\" fill-rule=\"evenodd\" fill-opacity=\"1\" stroke=\"#000000\" stroke-opacity=\"1\" stroke-width=\"3.2\"/>\n",
       "<circle clip-path=\"url(#clip622)\" cx=\"326.217\" cy=\"1244.6\" r=\"14.4\" fill=\"#e26f46\" fill-rule=\"evenodd\" fill-opacity=\"1\" stroke=\"#000000\" stroke-opacity=\"1\" stroke-width=\"3.2\"/>\n",
       "<circle clip-path=\"url(#clip622)\" cx=\"2101.58\" cy=\"785.757\" r=\"14.4\" fill=\"#e26f46\" fill-rule=\"evenodd\" fill-opacity=\"1\" stroke=\"#000000\" stroke-opacity=\"1\" stroke-width=\"3.2\"/>\n",
       "<circle clip-path=\"url(#clip622)\" cx=\"766.522\" cy=\"813.692\" r=\"14.4\" fill=\"#e26f46\" fill-rule=\"evenodd\" fill-opacity=\"1\" stroke=\"#000000\" stroke-opacity=\"1\" stroke-width=\"3.2\"/>\n",
       "<circle clip-path=\"url(#clip622)\" cx=\"338.646\" cy=\"1150.21\" r=\"14.4\" fill=\"#e26f46\" fill-rule=\"evenodd\" fill-opacity=\"1\" stroke=\"#000000\" stroke-opacity=\"1\" stroke-width=\"3.2\"/>\n",
       "<circle clip-path=\"url(#clip622)\" cx=\"1610.79\" cy=\"1384.24\" r=\"14.4\" fill=\"#e26f46\" fill-rule=\"evenodd\" fill-opacity=\"1\" stroke=\"#000000\" stroke-opacity=\"1\" stroke-width=\"3.2\"/>\n",
       "<circle clip-path=\"url(#clip622)\" cx=\"531.952\" cy=\"1050.44\" r=\"14.4\" fill=\"#e26f46\" fill-rule=\"evenodd\" fill-opacity=\"1\" stroke=\"#000000\" stroke-opacity=\"1\" stroke-width=\"3.2\"/>\n",
       "<circle clip-path=\"url(#clip622)\" cx=\"2280.98\" cy=\"605.999\" r=\"14.4\" fill=\"#e26f46\" fill-rule=\"evenodd\" fill-opacity=\"1\" stroke=\"#000000\" stroke-opacity=\"1\" stroke-width=\"3.2\"/>\n",
       "<circle clip-path=\"url(#clip622)\" cx=\"1780.02\" cy=\"962.66\" r=\"14.4\" fill=\"#e26f46\" fill-rule=\"evenodd\" fill-opacity=\"1\" stroke=\"#000000\" stroke-opacity=\"1\" stroke-width=\"3.2\"/>\n",
       "<circle clip-path=\"url(#clip622)\" cx=\"916.805\" cy=\"968.637\" r=\"14.4\" fill=\"#e26f46\" fill-rule=\"evenodd\" fill-opacity=\"1\" stroke=\"#000000\" stroke-opacity=\"1\" stroke-width=\"3.2\"/>\n",
       "<circle clip-path=\"url(#clip622)\" cx=\"1983.09\" cy=\"943.464\" r=\"14.4\" fill=\"#e26f46\" fill-rule=\"evenodd\" fill-opacity=\"1\" stroke=\"#000000\" stroke-opacity=\"1\" stroke-width=\"3.2\"/>\n",
       "<circle clip-path=\"url(#clip622)\" cx=\"297.116\" cy=\"1046.19\" r=\"14.4\" fill=\"#e26f46\" fill-rule=\"evenodd\" fill-opacity=\"1\" stroke=\"#000000\" stroke-opacity=\"1\" stroke-width=\"3.2\"/>\n",
       "<circle clip-path=\"url(#clip622)\" cx=\"2209.81\" cy=\"86.1857\" r=\"14.4\" fill=\"#e26f46\" fill-rule=\"evenodd\" fill-opacity=\"1\" stroke=\"#000000\" stroke-opacity=\"1\" stroke-width=\"3.2\"/>\n",
       "<circle clip-path=\"url(#clip622)\" cx=\"1565.46\" cy=\"976.564\" r=\"14.4\" fill=\"#e26f46\" fill-rule=\"evenodd\" fill-opacity=\"1\" stroke=\"#000000\" stroke-opacity=\"1\" stroke-width=\"3.2\"/>\n",
       "<circle clip-path=\"url(#clip622)\" cx=\"1577.28\" cy=\"981.869\" r=\"14.4\" fill=\"#e26f46\" fill-rule=\"evenodd\" fill-opacity=\"1\" stroke=\"#000000\" stroke-opacity=\"1\" stroke-width=\"3.2\"/>\n",
       "<circle clip-path=\"url(#clip622)\" cx=\"945.544\" cy=\"1049.45\" r=\"14.4\" fill=\"#e26f46\" fill-rule=\"evenodd\" fill-opacity=\"1\" stroke=\"#000000\" stroke-opacity=\"1\" stroke-width=\"3.2\"/>\n",
       "<circle clip-path=\"url(#clip622)\" cx=\"1112.72\" cy=\"912.301\" r=\"14.4\" fill=\"#e26f46\" fill-rule=\"evenodd\" fill-opacity=\"1\" stroke=\"#000000\" stroke-opacity=\"1\" stroke-width=\"3.2\"/>\n",
       "<circle clip-path=\"url(#clip622)\" cx=\"1680.77\" cy=\"798.645\" r=\"14.4\" fill=\"#e26f46\" fill-rule=\"evenodd\" fill-opacity=\"1\" stroke=\"#000000\" stroke-opacity=\"1\" stroke-width=\"3.2\"/>\n",
       "<circle clip-path=\"url(#clip622)\" cx=\"2105.4\" cy=\"1109.78\" r=\"14.4\" fill=\"#e26f46\" fill-rule=\"evenodd\" fill-opacity=\"1\" stroke=\"#000000\" stroke-opacity=\"1\" stroke-width=\"3.2\"/>\n",
       "<circle clip-path=\"url(#clip622)\" cx=\"679.041\" cy=\"1187.13\" r=\"14.4\" fill=\"#e26f46\" fill-rule=\"evenodd\" fill-opacity=\"1\" stroke=\"#000000\" stroke-opacity=\"1\" stroke-width=\"3.2\"/>\n",
       "<circle clip-path=\"url(#clip622)\" cx=\"1693.35\" cy=\"981.501\" r=\"14.4\" fill=\"#e26f46\" fill-rule=\"evenodd\" fill-opacity=\"1\" stroke=\"#000000\" stroke-opacity=\"1\" stroke-width=\"3.2\"/>\n",
       "<circle clip-path=\"url(#clip622)\" cx=\"1247.25\" cy=\"865.204\" r=\"14.4\" fill=\"#e26f46\" fill-rule=\"evenodd\" fill-opacity=\"1\" stroke=\"#000000\" stroke-opacity=\"1\" stroke-width=\"3.2\"/>\n",
       "<circle clip-path=\"url(#clip622)\" cx=\"1743.12\" cy=\"912.419\" r=\"14.4\" fill=\"#e26f46\" fill-rule=\"evenodd\" fill-opacity=\"1\" stroke=\"#000000\" stroke-opacity=\"1\" stroke-width=\"3.2\"/>\n",
       "<circle clip-path=\"url(#clip622)\" cx=\"696.898\" cy=\"1076.73\" r=\"14.4\" fill=\"#e26f46\" fill-rule=\"evenodd\" fill-opacity=\"1\" stroke=\"#000000\" stroke-opacity=\"1\" stroke-width=\"3.2\"/>\n",
       "<circle clip-path=\"url(#clip622)\" cx=\"751.734\" cy=\"1012.63\" r=\"14.4\" fill=\"#e26f46\" fill-rule=\"evenodd\" fill-opacity=\"1\" stroke=\"#000000\" stroke-opacity=\"1\" stroke-width=\"3.2\"/>\n",
       "<circle clip-path=\"url(#clip622)\" cx=\"1213.27\" cy=\"911.149\" r=\"14.4\" fill=\"#e26f46\" fill-rule=\"evenodd\" fill-opacity=\"1\" stroke=\"#000000\" stroke-opacity=\"1\" stroke-width=\"3.2\"/>\n",
       "<circle clip-path=\"url(#clip622)\" cx=\"1452.02\" cy=\"858.644\" r=\"14.4\" fill=\"#e26f46\" fill-rule=\"evenodd\" fill-opacity=\"1\" stroke=\"#000000\" stroke-opacity=\"1\" stroke-width=\"3.2\"/>\n",
       "<circle clip-path=\"url(#clip622)\" cx=\"432.656\" cy=\"1019.4\" r=\"14.4\" fill=\"#e26f46\" fill-rule=\"evenodd\" fill-opacity=\"1\" stroke=\"#000000\" stroke-opacity=\"1\" stroke-width=\"3.2\"/>\n",
       "<circle clip-path=\"url(#clip622)\" cx=\"1040.67\" cy=\"1150.46\" r=\"14.4\" fill=\"#e26f46\" fill-rule=\"evenodd\" fill-opacity=\"1\" stroke=\"#000000\" stroke-opacity=\"1\" stroke-width=\"3.2\"/>\n",
       "<circle clip-path=\"url(#clip622)\" cx=\"1106.43\" cy=\"1116.67\" r=\"14.4\" fill=\"#e26f46\" fill-rule=\"evenodd\" fill-opacity=\"1\" stroke=\"#000000\" stroke-opacity=\"1\" stroke-width=\"3.2\"/>\n",
       "<circle clip-path=\"url(#clip622)\" cx=\"2240.13\" cy=\"983.398\" r=\"14.4\" fill=\"#e26f46\" fill-rule=\"evenodd\" fill-opacity=\"1\" stroke=\"#000000\" stroke-opacity=\"1\" stroke-width=\"3.2\"/>\n",
       "<circle clip-path=\"url(#clip622)\" cx=\"2177.49\" cy=\"911.529\" r=\"14.4\" fill=\"#e26f46\" fill-rule=\"evenodd\" fill-opacity=\"1\" stroke=\"#000000\" stroke-opacity=\"1\" stroke-width=\"3.2\"/>\n",
       "<circle clip-path=\"url(#clip622)\" cx=\"2290.7\" cy=\"1243.92\" r=\"14.4\" fill=\"#e26f46\" fill-rule=\"evenodd\" fill-opacity=\"1\" stroke=\"#000000\" stroke-opacity=\"1\" stroke-width=\"3.2\"/>\n",
       "<circle clip-path=\"url(#clip622)\" cx=\"490.531\" cy=\"1170.2\" r=\"14.4\" fill=\"#e26f46\" fill-rule=\"evenodd\" fill-opacity=\"1\" stroke=\"#000000\" stroke-opacity=\"1\" stroke-width=\"3.2\"/>\n",
       "<circle clip-path=\"url(#clip622)\" cx=\"1952.02\" cy=\"941.562\" r=\"14.4\" fill=\"#e26f46\" fill-rule=\"evenodd\" fill-opacity=\"1\" stroke=\"#000000\" stroke-opacity=\"1\" stroke-width=\"3.2\"/>\n",
       "<circle clip-path=\"url(#clip622)\" cx=\"855.371\" cy=\"832.155\" r=\"14.4\" fill=\"#e26f46\" fill-rule=\"evenodd\" fill-opacity=\"1\" stroke=\"#000000\" stroke-opacity=\"1\" stroke-width=\"3.2\"/>\n",
       "<circle clip-path=\"url(#clip622)\" cx=\"883.604\" cy=\"907.428\" r=\"14.4\" fill=\"#e26f46\" fill-rule=\"evenodd\" fill-opacity=\"1\" stroke=\"#000000\" stroke-opacity=\"1\" stroke-width=\"3.2\"/>\n",
       "<circle clip-path=\"url(#clip622)\" cx=\"1925.22\" cy=\"886.914\" r=\"14.4\" fill=\"#e26f46\" fill-rule=\"evenodd\" fill-opacity=\"1\" stroke=\"#000000\" stroke-opacity=\"1\" stroke-width=\"3.2\"/>\n",
       "<circle clip-path=\"url(#clip622)\" cx=\"1738.37\" cy=\"1008.16\" r=\"14.4\" fill=\"#e26f46\" fill-rule=\"evenodd\" fill-opacity=\"1\" stroke=\"#000000\" stroke-opacity=\"1\" stroke-width=\"3.2\"/>\n",
       "<circle clip-path=\"url(#clip622)\" cx=\"324.226\" cy=\"1145.93\" r=\"14.4\" fill=\"#e26f46\" fill-rule=\"evenodd\" fill-opacity=\"1\" stroke=\"#000000\" stroke-opacity=\"1\" stroke-width=\"3.2\"/>\n",
       "<circle clip-path=\"url(#clip622)\" cx=\"2099.85\" cy=\"923.122\" r=\"14.4\" fill=\"#e26f46\" fill-rule=\"evenodd\" fill-opacity=\"1\" stroke=\"#000000\" stroke-opacity=\"1\" stroke-width=\"3.2\"/>\n",
       "<circle clip-path=\"url(#clip622)\" cx=\"526.738\" cy=\"1036.12\" r=\"14.4\" fill=\"#e26f46\" fill-rule=\"evenodd\" fill-opacity=\"1\" stroke=\"#000000\" stroke-opacity=\"1\" stroke-width=\"3.2\"/>\n",
       "<circle clip-path=\"url(#clip622)\" cx=\"1290.67\" cy=\"1020.19\" r=\"14.4\" fill=\"#e26f46\" fill-rule=\"evenodd\" fill-opacity=\"1\" stroke=\"#000000\" stroke-opacity=\"1\" stroke-width=\"3.2\"/>\n",
       "<circle clip-path=\"url(#clip622)\" cx=\"1419.09\" cy=\"866.414\" r=\"14.4\" fill=\"#e26f46\" fill-rule=\"evenodd\" fill-opacity=\"1\" stroke=\"#000000\" stroke-opacity=\"1\" stroke-width=\"3.2\"/>\n",
       "<circle clip-path=\"url(#clip622)\" cx=\"2125.51\" cy=\"869.566\" r=\"14.4\" fill=\"#e26f46\" fill-rule=\"evenodd\" fill-opacity=\"1\" stroke=\"#000000\" stroke-opacity=\"1\" stroke-width=\"3.2\"/>\n",
       "<circle clip-path=\"url(#clip622)\" cx=\"2134.49\" cy=\"746.166\" r=\"14.4\" fill=\"#e26f46\" fill-rule=\"evenodd\" fill-opacity=\"1\" stroke=\"#000000\" stroke-opacity=\"1\" stroke-width=\"3.2\"/>\n",
       "<circle clip-path=\"url(#clip622)\" cx=\"604.114\" cy=\"1244.87\" r=\"14.4\" fill=\"#e26f46\" fill-rule=\"evenodd\" fill-opacity=\"1\" stroke=\"#000000\" stroke-opacity=\"1\" stroke-width=\"3.2\"/>\n",
       "<circle clip-path=\"url(#clip622)\" cx=\"656.408\" cy=\"1015.67\" r=\"14.4\" fill=\"#e26f46\" fill-rule=\"evenodd\" fill-opacity=\"1\" stroke=\"#000000\" stroke-opacity=\"1\" stroke-width=\"3.2\"/>\n",
       "<polyline clip-path=\"url(#clip622)\" style=\"stroke:#ff0000; stroke-linecap:round; stroke-linejoin:round; stroke-width:4; stroke-opacity:1; fill:none\" points=\"271.594,1122.45 2292.14,824.582 \"/>\n",
       "<polyline clip-path=\"url(#clip622)\" style=\"stroke:#008000; stroke-linecap:round; stroke-linejoin:round; stroke-width:4; stroke-opacity:1; fill:none\" points=\"271.594,1137.5 2292.14,785.314 \"/>\n",
       "<path clip-path=\"url(#clip620)\" d=\"M282.37 352.309 L595.714 352.309 L595.714 93.1086 L282.37 93.1086  Z\" fill=\"#ffffff\" fill-rule=\"evenodd\" fill-opacity=\"1\"/>\n",
       "<polyline clip-path=\"url(#clip620)\" style=\"stroke:#000000; stroke-linecap:round; stroke-linejoin:round; stroke-width:4; stroke-opacity:1; fill:none\" points=\"282.37,352.309 595.714,352.309 595.714,93.1086 282.37,93.1086 282.37,352.309 \"/>\n",
       "<polyline clip-path=\"url(#clip620)\" style=\"stroke:#009af9; stroke-linecap:round; stroke-linejoin:round; stroke-width:4; stroke-opacity:1; fill:none\" points=\"306.168,144.949 448.953,144.949 \"/>\n",
       "<path clip-path=\"url(#clip620)\" d=\"M496.665 126.304 Q496.665 127.592 495.845 128.389 Q495.049 129.185 494.041 129.185 Q493.315 129.185 492.777 128.74 Q492.261 128.295 492.261 127.522 Q492.261 126.726 492.87 125.883 Q493.479 125.039 494.861 124.922 Q493.948 124.056 492.495 124.056 Q491.769 124.056 491.16 124.524 Q490.575 124.969 490.247 125.695 Q489.896 126.445 489.099 130.684 Q488.842 132.066 488.607 133.401 Q488.373 134.736 488.092 136.142 L492.074 136.142 Q492.589 136.142 492.8 136.165 Q493.011 136.188 493.175 136.306 Q493.362 136.423 493.362 136.68 Q493.362 137.336 493.058 137.5 Q492.777 137.641 491.933 137.641 L487.811 137.641 L484.93 152.842 Q484.86 153.287 484.555 154.692 Q484.274 156.074 483.595 158.346 Q482.916 160.641 482.236 162 Q481.862 162.773 481.37 163.499 Q480.901 164.249 480.222 164.998 Q479.543 165.748 478.653 166.193 Q477.763 166.661 476.826 166.661 Q475.233 166.661 473.992 165.771 Q472.75 164.881 472.75 163.358 Q472.75 162.07 473.547 161.274 Q474.366 160.478 475.374 160.478 Q476.1 160.478 476.615 160.923 Q477.154 161.368 477.154 162.141 Q477.154 162.468 477.037 162.843 Q476.92 163.218 476.662 163.64 Q476.404 164.085 475.842 164.389 Q475.28 164.694 474.507 164.74 Q475.421 165.607 476.826 165.607 Q477.271 165.607 477.669 165.42 Q478.067 165.256 478.395 164.834 Q478.746 164.412 479.004 163.991 Q479.262 163.593 479.519 162.82 Q479.777 162.07 479.941 161.508 Q480.105 160.946 480.316 159.939 Q480.55 158.932 480.667 158.323 Q480.784 157.737 480.995 156.589 L484.579 137.641 L481.417 137.641 Q480.855 137.641 480.62 137.617 Q480.409 137.594 480.246 137.477 Q480.082 137.336 480.082 137.055 Q480.082 136.61 480.269 136.423 Q480.48 136.212 480.714 136.188 Q480.948 136.142 481.51 136.142 L484.836 136.142 Q485.961 130.216 486.406 128.623 Q486.921 126.937 487.717 125.765 Q488.514 124.571 489.404 124.009 Q490.294 123.447 491.02 123.236 Q491.769 123.002 492.495 123.002 Q494.135 123.002 495.4 123.892 Q496.665 124.758 496.665 126.304 Z\" fill=\"#000000\" fill-rule=\"nonzero\" fill-opacity=\"1\" /><path clip-path=\"url(#clip620)\" d=\"M503.117 144.831 Q503.117 136.727 506.139 130.192 Q507.427 127.452 509.231 125.156 Q511.034 122.861 512.229 121.854 Q513.423 120.847 513.751 120.847 Q514.22 120.847 514.243 121.315 Q514.243 121.549 513.611 122.135 Q505.881 130.005 505.905 144.831 Q505.905 159.705 513.423 167.27 Q514.243 168.09 514.243 168.347 Q514.243 168.816 513.751 168.816 Q513.423 168.816 512.275 167.856 Q511.128 166.895 509.348 164.694 Q507.568 162.492 506.279 159.798 Q503.117 153.263 503.117 144.831 Z\" fill=\"#000000\" fill-rule=\"nonzero\" fill-opacity=\"1\" /><path clip-path=\"url(#clip620)\" d=\"M541.776 138.788 Q541.776 140.1 540.956 140.85 Q540.136 141.576 539.199 141.576 Q538.309 141.576 537.841 141.06 Q537.372 140.545 537.372 139.889 Q537.372 138.999 538.028 138.226 Q538.684 137.453 539.668 137.289 Q538.707 136.68 537.279 136.68 Q536.342 136.68 535.522 137.172 Q534.726 137.664 534.234 138.296 Q533.765 138.929 533.344 139.842 Q532.945 140.732 532.781 141.271 Q532.641 141.786 532.524 142.349 L530.884 148.907 Q530.088 152.022 530.088 153.123 Q530.088 154.481 530.744 155.395 Q531.4 156.285 532.711 156.285 Q533.227 156.285 533.812 156.144 Q534.398 155.98 535.147 155.559 Q535.92 155.114 536.599 154.458 Q537.302 153.779 537.981 152.631 Q538.661 151.483 539.106 150.008 Q539.246 149.492 539.715 149.492 Q540.3 149.492 540.3 149.961 Q540.3 150.359 539.972 151.202 Q539.668 152.022 538.988 153.099 Q538.333 154.153 537.466 155.114 Q536.599 156.051 535.311 156.707 Q534.023 157.362 532.618 157.362 Q530.603 157.362 529.268 156.285 Q527.933 155.207 527.441 153.708 Q527.324 153.919 527.16 154.2 Q526.996 154.481 526.504 155.114 Q526.036 155.723 525.497 156.191 Q524.958 156.636 524.115 156.988 Q523.295 157.362 522.405 157.362 Q521.281 157.362 520.274 157.034 Q519.29 156.707 518.587 155.957 Q517.885 155.207 517.885 154.177 Q517.885 153.029 518.658 152.233 Q519.454 151.413 520.532 151.413 Q521.211 151.413 521.75 151.811 Q522.312 152.209 522.312 153.076 Q522.312 154.036 521.656 154.762 Q521 155.489 520.063 155.676 Q521.023 156.285 522.452 156.285 Q523.998 156.285 525.216 154.926 Q526.434 153.568 527.02 151.296 Q528.472 145.838 529.034 143.403 Q529.596 140.943 529.596 139.889 Q529.596 138.905 529.338 138.226 Q529.081 137.547 528.636 137.242 Q528.214 136.915 527.816 136.797 Q527.441 136.68 527.02 136.68 Q526.317 136.68 525.521 136.961 Q524.748 137.242 523.811 137.898 Q522.897 138.531 522.031 139.842 Q521.164 141.154 520.578 142.958 Q520.461 143.496 519.946 143.496 Q519.384 143.473 519.384 143.004 Q519.384 142.606 519.688 141.786 Q520.016 140.943 520.672 139.889 Q521.351 138.835 522.218 137.898 Q523.108 136.938 524.396 136.282 Q525.708 135.626 527.113 135.626 Q527.746 135.626 528.355 135.767 Q528.987 135.884 529.737 136.235 Q530.51 136.587 531.189 137.36 Q531.868 138.133 532.29 139.257 Q532.571 138.718 532.945 138.203 Q533.344 137.687 533.953 137.055 Q534.585 136.399 535.452 136.024 Q536.342 135.626 537.325 135.626 Q538.286 135.626 539.223 135.884 Q540.16 136.118 540.956 136.891 Q541.776 137.641 541.776 138.788 Z\" fill=\"#000000\" fill-rule=\"nonzero\" fill-opacity=\"1\" /><path clip-path=\"url(#clip620)\" d=\"M546.388 168.347 Q546.388 168.113 546.997 167.528 Q554.727 159.658 554.727 144.831 Q554.727 129.958 547.302 122.439 Q546.388 121.573 546.388 121.315 Q546.388 120.847 546.857 120.847 Q547.185 120.847 548.332 121.807 Q549.503 122.767 551.26 124.969 Q553.04 127.171 554.352 129.864 Q557.514 136.399 557.514 144.831 Q557.514 152.935 554.492 159.47 Q553.204 162.211 551.401 164.506 Q549.597 166.802 548.403 167.809 Q547.208 168.816 546.857 168.816 Q546.388 168.816 546.388 168.347 Z\" fill=\"#000000\" fill-rule=\"nonzero\" fill-opacity=\"1\" /><circle clip-path=\"url(#clip620)\" cx=\"377.56\" cy=\"196.789\" r=\"20.48\" fill=\"#e26f46\" fill-rule=\"evenodd\" fill-opacity=\"1\" stroke=\"#000000\" stroke-opacity=\"1\" stroke-width=\"4.55111\"/>\n",
       "<path clip-path=\"url(#clip620)\" d=\"M494.885 183.043 Q494.885 183.371 494.674 184.144 L490.083 202.46 Q489.076 206.536 485.797 209.394 Q482.541 212.251 478.84 212.251 Q476.615 212.251 475.186 211.057 Q473.758 209.885 473.758 208.082 Q473.758 206.489 474.601 205.716 Q475.444 204.967 476.451 204.967 Q476.779 204.967 477.13 205.06 Q477.482 205.154 477.856 205.552 Q478.231 205.95 478.231 206.63 Q478.231 207.731 477.271 208.597 Q476.802 208.995 476.357 209.089 Q475.936 209.183 475.21 209.183 Q475.491 209.839 476.006 210.284 Q476.521 210.729 477.107 210.893 Q477.692 211.08 478.067 211.127 Q478.465 211.197 478.84 211.197 Q481.838 211.197 484.134 208.176 Q484.813 207.262 485.305 206.349 Q485.82 205.459 486.195 204.358 Q486.57 203.28 486.734 202.695 Q486.921 202.109 487.249 200.774 Q485.071 202.952 482.4 202.952 Q481.276 202.952 480.269 202.648 Q479.285 202.343 478.419 201.711 Q477.552 201.055 477.037 199.907 Q476.545 198.76 476.545 197.237 Q476.545 195.621 477.177 193.419 Q477.81 191.218 479.332 187.166 Q480.152 184.894 480.152 183.793 Q480.152 183.254 480.035 182.926 Q479.918 182.575 479.683 182.458 Q479.449 182.317 479.309 182.294 Q479.192 182.27 478.957 182.27 Q477.575 182.27 476.287 183.676 Q474.999 185.081 474.109 188.22 Q473.921 188.805 473.804 188.946 Q473.687 189.086 473.336 189.086 Q472.75 189.063 472.75 188.594 Q472.75 188.407 472.961 187.681 Q473.172 186.931 473.664 185.831 Q474.179 184.706 474.882 183.699 Q475.584 182.668 476.685 181.942 Q477.81 181.216 479.098 181.216 Q480.855 181.216 481.932 182.364 Q483.033 183.488 483.033 185.151 Q483.033 185.831 482.845 186.44 Q482.681 187.025 482.072 188.594 Q479.613 194.918 479.613 198.01 Q479.613 198.76 479.73 199.392 Q479.871 200.001 480.175 200.61 Q480.48 201.196 481.089 201.547 Q481.721 201.875 482.588 201.875 Q483.689 201.875 484.719 201.36 Q485.773 200.821 486.429 200.095 Q487.108 199.369 487.506 198.76 Q487.928 198.127 488.022 197.799 L490.177 189.18 L491.137 185.339 Q491.582 183.254 491.793 182.739 Q492.074 182.247 492.566 181.989 Q493.058 181.732 493.479 181.732 Q494.065 181.732 494.463 182.083 Q494.885 182.434 494.885 183.043 Z\" fill=\"#000000\" fill-rule=\"nonzero\" fill-opacity=\"1\" /><polyline clip-path=\"url(#clip620)\" style=\"stroke:#ff0000; stroke-linecap:round; stroke-linejoin:round; stroke-width:4; stroke-opacity:1; fill:none\" points=\"306.168,248.629 448.953,248.629 \"/>\n",
       "<path clip-path=\"url(#clip620)\" d=\"M472.75 231.349 L477.426 231.349 L477.426 261.973 L494.255 261.973 L494.255 265.909 L472.75 265.909 L472.75 231.349 Z\" fill=\"#000000\" fill-rule=\"nonzero\" fill-opacity=\"1\" /><path clip-path=\"url(#clip620)\" d=\"M519.88 232.483 L519.88 237.043 Q517.218 235.77 514.857 235.145 Q512.496 234.52 510.296 234.52 Q506.477 234.52 504.394 236.001 Q502.334 237.483 502.334 240.214 Q502.334 242.506 503.699 243.687 Q505.088 244.844 508.931 245.562 L511.755 246.14 Q516.986 247.136 519.463 249.659 Q521.963 252.159 521.963 256.372 Q521.963 261.395 518.583 263.987 Q515.227 266.58 508.722 266.58 Q506.269 266.58 503.491 266.024 Q500.736 265.469 497.773 264.381 L497.773 259.566 Q500.621 261.163 503.352 261.973 Q506.084 262.784 508.722 262.784 Q512.727 262.784 514.903 261.21 Q517.079 259.636 517.079 256.719 Q517.079 254.173 515.505 252.737 Q513.954 251.302 510.389 250.585 L507.542 250.029 Q502.31 248.987 499.972 246.765 Q497.634 244.543 497.634 240.585 Q497.634 236.001 500.852 233.362 Q504.093 230.724 509.764 230.724 Q512.195 230.724 514.718 231.163 Q517.241 231.603 519.88 232.483 Z\" fill=\"#000000\" fill-rule=\"nonzero\" fill-opacity=\"1\" /><polyline clip-path=\"url(#clip620)\" style=\"stroke:#008000; stroke-linecap:round; stroke-linejoin:round; stroke-width:4; stroke-opacity:1; fill:none\" points=\"306.168,300.469 448.953,300.469 \"/>\n",
       "<path clip-path=\"url(#clip620)\" d=\"M472.75 283.189 L477.473 283.189 L484.741 312.401 L491.986 283.189 L497.241 283.189 L504.509 312.401 L511.755 283.189 L516.5 283.189 L507.82 317.749 L501.94 317.749 L494.648 287.749 L487.287 317.749 L481.408 317.749 L472.75 283.189 Z\" fill=\"#000000\" fill-rule=\"nonzero\" fill-opacity=\"1\" /><path clip-path=\"url(#clip620)\" d=\"M522.704 283.189 L527.38 283.189 L527.38 313.813 L544.208 313.813 L544.208 317.749 L522.704 317.749 L522.704 283.189 Z\" fill=\"#000000\" fill-rule=\"nonzero\" fill-opacity=\"1\" /><path clip-path=\"url(#clip620)\" d=\"M569.833 284.323 L569.833 288.883 Q567.171 287.61 564.81 286.985 Q562.449 286.36 560.25 286.36 Q556.43 286.36 554.347 287.841 Q552.287 289.323 552.287 292.054 Q552.287 294.346 553.653 295.527 Q555.042 296.684 558.884 297.402 L561.708 297.98 Q566.94 298.976 569.416 301.499 Q571.916 303.999 571.916 308.212 Q571.916 313.235 568.537 315.827 Q565.18 318.42 558.676 318.42 Q556.222 318.42 553.444 317.864 Q550.69 317.309 547.727 316.221 L547.727 311.406 Q550.574 313.003 553.305 313.813 Q556.037 314.624 558.676 314.624 Q562.68 314.624 564.856 313.05 Q567.032 311.476 567.032 308.559 Q567.032 306.013 565.458 304.577 Q563.907 303.142 560.342 302.425 L557.495 301.869 Q552.264 300.827 549.926 298.605 Q547.588 296.383 547.588 292.425 Q547.588 287.841 550.805 285.202 Q554.046 282.564 559.717 282.564 Q562.148 282.564 564.671 283.003 Q567.194 283.443 569.833 284.323 Z\" fill=\"#000000\" fill-rule=\"nonzero\" fill-opacity=\"1\" /></svg>\n"
      ],
      "text/html": [
       "<?xml version=\"1.0\" encoding=\"utf-8\"?>\n",
       "<svg xmlns=\"http://www.w3.org/2000/svg\" xmlns:xlink=\"http://www.w3.org/1999/xlink\" width=\"600\" height=\"400\" viewBox=\"0 0 2400 1600\">\n",
       "<defs>\n",
       "  <clipPath id=\"clip670\">\n",
       "    <rect x=\"0\" y=\"0\" width=\"2400\" height=\"1600\"/>\n",
       "  </clipPath>\n",
       "</defs>\n",
       "<path clip-path=\"url(#clip670)\" d=\"M0 1600 L2400 1600 L2400 0 L0 0  Z\" fill=\"#ffffff\" fill-rule=\"evenodd\" fill-opacity=\"1\"/>\n",
       "<defs>\n",
       "  <clipPath id=\"clip671\">\n",
       "    <rect x=\"480\" y=\"0\" width=\"1681\" height=\"1600\"/>\n",
       "  </clipPath>\n",
       "</defs>\n",
       "<path clip-path=\"url(#clip670)\" d=\"M210.977 1423.18 L2352.76 1423.18 L2352.76 47.2441 L210.977 47.2441  Z\" fill=\"#ffffff\" fill-rule=\"evenodd\" fill-opacity=\"1\"/>\n",
       "<defs>\n",
       "  <clipPath id=\"clip672\">\n",
       "    <rect x=\"210\" y=\"47\" width=\"2143\" height=\"1377\"/>\n",
       "  </clipPath>\n",
       "</defs>\n",
       "<polyline clip-path=\"url(#clip672)\" style=\"stroke:#000000; stroke-linecap:round; stroke-linejoin:round; stroke-width:2; stroke-opacity:0.1; fill:none\" points=\"271.594,1423.18 271.594,47.2441 \"/>\n",
       "<polyline clip-path=\"url(#clip672)\" style=\"stroke:#000000; stroke-linecap:round; stroke-linejoin:round; stroke-width:2; stroke-opacity:0.1; fill:none\" points=\"776.73,1423.18 776.73,47.2441 \"/>\n",
       "<polyline clip-path=\"url(#clip672)\" style=\"stroke:#000000; stroke-linecap:round; stroke-linejoin:round; stroke-width:2; stroke-opacity:0.1; fill:none\" points=\"1281.87,1423.18 1281.87,47.2441 \"/>\n",
       "<polyline clip-path=\"url(#clip672)\" style=\"stroke:#000000; stroke-linecap:round; stroke-linejoin:round; stroke-width:2; stroke-opacity:0.1; fill:none\" points=\"1787,1423.18 1787,47.2441 \"/>\n",
       "<polyline clip-path=\"url(#clip672)\" style=\"stroke:#000000; stroke-linecap:round; stroke-linejoin:round; stroke-width:2; stroke-opacity:0.1; fill:none\" points=\"2292.14,1423.18 2292.14,47.2441 \"/>\n",
       "<polyline clip-path=\"url(#clip670)\" style=\"stroke:#000000; stroke-linecap:round; stroke-linejoin:round; stroke-width:4; stroke-opacity:1; fill:none\" points=\"210.977,1423.18 2352.76,1423.18 \"/>\n",
       "<polyline clip-path=\"url(#clip670)\" style=\"stroke:#000000; stroke-linecap:round; stroke-linejoin:round; stroke-width:4; stroke-opacity:1; fill:none\" points=\"271.594,1423.18 271.594,1404.28 \"/>\n",
       "<polyline clip-path=\"url(#clip670)\" style=\"stroke:#000000; stroke-linecap:round; stroke-linejoin:round; stroke-width:4; stroke-opacity:1; fill:none\" points=\"776.73,1423.18 776.73,1404.28 \"/>\n",
       "<polyline clip-path=\"url(#clip670)\" style=\"stroke:#000000; stroke-linecap:round; stroke-linejoin:round; stroke-width:4; stroke-opacity:1; fill:none\" points=\"1281.87,1423.18 1281.87,1404.28 \"/>\n",
       "<polyline clip-path=\"url(#clip670)\" style=\"stroke:#000000; stroke-linecap:round; stroke-linejoin:round; stroke-width:4; stroke-opacity:1; fill:none\" points=\"1787,1423.18 1787,1404.28 \"/>\n",
       "<polyline clip-path=\"url(#clip670)\" style=\"stroke:#000000; stroke-linecap:round; stroke-linejoin:round; stroke-width:4; stroke-opacity:1; fill:none\" points=\"2292.14,1423.18 2292.14,1404.28 \"/>\n",
       "<path clip-path=\"url(#clip670)\" d=\"M233.897 1454.1 Q230.286 1454.1 228.457 1457.66 Q226.652 1461.2 226.652 1468.33 Q226.652 1475.44 228.457 1479.01 Q230.286 1482.55 233.897 1482.55 Q237.531 1482.55 239.337 1479.01 Q241.166 1475.44 241.166 1468.33 Q241.166 1461.2 239.337 1457.66 Q237.531 1454.1 233.897 1454.1 M233.897 1450.39 Q239.707 1450.39 242.763 1455 Q245.842 1459.58 245.842 1468.33 Q245.842 1477.06 242.763 1481.67 Q239.707 1486.25 233.897 1486.25 Q228.087 1486.25 225.008 1481.67 Q221.953 1477.06 221.953 1468.33 Q221.953 1459.58 225.008 1455 Q228.087 1450.39 233.897 1450.39 Z\" fill=\"#000000\" fill-rule=\"nonzero\" fill-opacity=\"1\" /><path clip-path=\"url(#clip670)\" d=\"M254.059 1479.7 L258.943 1479.7 L258.943 1485.58 L254.059 1485.58 L254.059 1479.7 Z\" fill=\"#000000\" fill-rule=\"nonzero\" fill-opacity=\"1\" /><path clip-path=\"url(#clip670)\" d=\"M279.128 1454.1 Q275.517 1454.1 273.689 1457.66 Q271.883 1461.2 271.883 1468.33 Q271.883 1475.44 273.689 1479.01 Q275.517 1482.55 279.128 1482.55 Q282.763 1482.55 284.568 1479.01 Q286.397 1475.44 286.397 1468.33 Q286.397 1461.2 284.568 1457.66 Q282.763 1454.1 279.128 1454.1 M279.128 1450.39 Q284.939 1450.39 287.994 1455 Q291.073 1459.58 291.073 1468.33 Q291.073 1477.06 287.994 1481.67 Q284.939 1486.25 279.128 1486.25 Q273.318 1486.25 270.24 1481.67 Q267.184 1477.06 267.184 1468.33 Q267.184 1459.58 270.24 1455 Q273.318 1450.39 279.128 1450.39 Z\" fill=\"#000000\" fill-rule=\"nonzero\" fill-opacity=\"1\" /><path clip-path=\"url(#clip670)\" d=\"M309.29 1454.1 Q305.679 1454.1 303.851 1457.66 Q302.045 1461.2 302.045 1468.33 Q302.045 1475.44 303.851 1479.01 Q305.679 1482.55 309.29 1482.55 Q312.925 1482.55 314.73 1479.01 Q316.559 1475.44 316.559 1468.33 Q316.559 1461.2 314.73 1457.66 Q312.925 1454.1 309.29 1454.1 M309.29 1450.39 Q315.101 1450.39 318.156 1455 Q321.235 1459.58 321.235 1468.33 Q321.235 1477.06 318.156 1481.67 Q315.101 1486.25 309.29 1486.25 Q303.48 1486.25 300.402 1481.67 Q297.346 1477.06 297.346 1468.33 Q297.346 1459.58 300.402 1455 Q303.48 1450.39 309.29 1450.39 Z\" fill=\"#000000\" fill-rule=\"nonzero\" fill-opacity=\"1\" /><path clip-path=\"url(#clip670)\" d=\"M739.531 1454.1 Q735.92 1454.1 734.092 1457.66 Q732.286 1461.2 732.286 1468.33 Q732.286 1475.44 734.092 1479.01 Q735.92 1482.55 739.531 1482.55 Q743.166 1482.55 744.971 1479.01 Q746.8 1475.44 746.8 1468.33 Q746.8 1461.2 744.971 1457.66 Q743.166 1454.1 739.531 1454.1 M739.531 1450.39 Q745.342 1450.39 748.397 1455 Q751.476 1459.58 751.476 1468.33 Q751.476 1477.06 748.397 1481.67 Q745.342 1486.25 739.531 1486.25 Q733.721 1486.25 730.643 1481.67 Q727.587 1477.06 727.587 1468.33 Q727.587 1459.58 730.643 1455 Q733.721 1450.39 739.531 1450.39 Z\" fill=\"#000000\" fill-rule=\"nonzero\" fill-opacity=\"1\" /><path clip-path=\"url(#clip670)\" d=\"M759.693 1479.7 L764.578 1479.7 L764.578 1485.58 L759.693 1485.58 L759.693 1479.7 Z\" fill=\"#000000\" fill-rule=\"nonzero\" fill-opacity=\"1\" /><path clip-path=\"url(#clip670)\" d=\"M778.79 1481.64 L795.11 1481.64 L795.11 1485.58 L773.165 1485.58 L773.165 1481.64 Q775.827 1478.89 780.411 1474.26 Q785.017 1469.61 786.198 1468.27 Q788.443 1465.74 789.323 1464.01 Q790.226 1462.25 790.226 1460.56 Q790.226 1457.8 788.281 1456.07 Q786.36 1454.33 783.258 1454.33 Q781.059 1454.33 778.605 1455.09 Q776.175 1455.86 773.397 1457.41 L773.397 1452.69 Q776.221 1451.55 778.675 1450.97 Q781.128 1450.39 783.165 1450.39 Q788.536 1450.39 791.73 1453.08 Q794.925 1455.77 794.925 1460.26 Q794.925 1462.39 794.114 1464.31 Q793.327 1466.2 791.221 1468.8 Q790.642 1469.47 787.54 1472.69 Q784.439 1475.88 778.79 1481.64 Z\" fill=\"#000000\" fill-rule=\"nonzero\" fill-opacity=\"1\" /><path clip-path=\"url(#clip670)\" d=\"M804.971 1451.02 L823.327 1451.02 L823.327 1454.96 L809.253 1454.96 L809.253 1463.43 Q810.272 1463.08 811.29 1462.92 Q812.309 1462.73 813.327 1462.73 Q819.114 1462.73 822.494 1465.9 Q825.873 1469.08 825.873 1474.49 Q825.873 1480.07 822.401 1483.17 Q818.929 1486.25 812.61 1486.25 Q810.434 1486.25 808.165 1485.88 Q805.92 1485.51 803.512 1484.77 L803.512 1480.07 Q805.596 1481.2 807.818 1481.76 Q810.04 1482.32 812.517 1482.32 Q816.522 1482.32 818.86 1480.21 Q821.198 1478.1 821.198 1474.49 Q821.198 1470.88 818.86 1468.77 Q816.522 1466.67 812.517 1466.67 Q810.642 1466.67 808.767 1467.08 Q806.915 1467.5 804.971 1468.38 L804.971 1451.02 Z\" fill=\"#000000\" fill-rule=\"nonzero\" fill-opacity=\"1\" /><path clip-path=\"url(#clip670)\" d=\"M1244.17 1454.1 Q1240.56 1454.1 1238.73 1457.66 Q1236.92 1461.2 1236.92 1468.33 Q1236.92 1475.44 1238.73 1479.01 Q1240.56 1482.55 1244.17 1482.55 Q1247.8 1482.55 1249.61 1479.01 Q1251.44 1475.44 1251.44 1468.33 Q1251.44 1461.2 1249.61 1457.66 Q1247.8 1454.1 1244.17 1454.1 M1244.17 1450.39 Q1249.98 1450.39 1253.04 1455 Q1256.11 1459.58 1256.11 1468.33 Q1256.11 1477.06 1253.04 1481.67 Q1249.98 1486.25 1244.17 1486.25 Q1238.36 1486.25 1235.28 1481.67 Q1232.23 1477.06 1232.23 1468.33 Q1232.23 1459.58 1235.28 1455 Q1238.36 1450.39 1244.17 1450.39 Z\" fill=\"#000000\" fill-rule=\"nonzero\" fill-opacity=\"1\" /><path clip-path=\"url(#clip670)\" d=\"M1264.33 1479.7 L1269.22 1479.7 L1269.22 1485.58 L1264.33 1485.58 L1264.33 1479.7 Z\" fill=\"#000000\" fill-rule=\"nonzero\" fill-opacity=\"1\" /><path clip-path=\"url(#clip670)\" d=\"M1279.45 1451.02 L1297.8 1451.02 L1297.8 1454.96 L1283.73 1454.96 L1283.73 1463.43 Q1284.75 1463.08 1285.77 1462.92 Q1286.79 1462.73 1287.8 1462.73 Q1293.59 1462.73 1296.97 1465.9 Q1300.35 1469.08 1300.35 1474.49 Q1300.35 1480.07 1296.88 1483.17 Q1293.41 1486.25 1287.09 1486.25 Q1284.91 1486.25 1282.64 1485.88 Q1280.4 1485.51 1277.99 1484.77 L1277.99 1480.07 Q1280.07 1481.2 1282.29 1481.76 Q1284.52 1482.32 1286.99 1482.32 Q1291 1482.32 1293.34 1480.21 Q1295.67 1478.1 1295.67 1474.49 Q1295.67 1470.88 1293.34 1468.77 Q1291 1466.67 1286.99 1466.67 Q1285.12 1466.67 1283.24 1467.08 Q1281.39 1467.5 1279.45 1468.38 L1279.45 1451.02 Z\" fill=\"#000000\" fill-rule=\"nonzero\" fill-opacity=\"1\" /><path clip-path=\"url(#clip670)\" d=\"M1319.56 1454.1 Q1315.95 1454.1 1314.12 1457.66 Q1312.32 1461.2 1312.32 1468.33 Q1312.32 1475.44 1314.12 1479.01 Q1315.95 1482.55 1319.56 1482.55 Q1323.2 1482.55 1325 1479.01 Q1326.83 1475.44 1326.83 1468.33 Q1326.83 1461.2 1325 1457.66 Q1323.2 1454.1 1319.56 1454.1 M1319.56 1450.39 Q1325.37 1450.39 1328.43 1455 Q1331.51 1459.58 1331.51 1468.33 Q1331.51 1477.06 1328.43 1481.67 Q1325.37 1486.25 1319.56 1486.25 Q1313.75 1486.25 1310.67 1481.67 Q1307.62 1477.06 1307.62 1468.33 Q1307.62 1459.58 1310.67 1455 Q1313.75 1450.39 1319.56 1450.39 Z\" fill=\"#000000\" fill-rule=\"nonzero\" fill-opacity=\"1\" /><path clip-path=\"url(#clip670)\" d=\"M1749.8 1454.1 Q1746.19 1454.1 1744.36 1457.66 Q1742.56 1461.2 1742.56 1468.33 Q1742.56 1475.44 1744.36 1479.01 Q1746.19 1482.55 1749.8 1482.55 Q1753.44 1482.55 1755.24 1479.01 Q1757.07 1475.44 1757.07 1468.33 Q1757.07 1461.2 1755.24 1457.66 Q1753.44 1454.1 1749.8 1454.1 M1749.8 1450.39 Q1755.61 1450.39 1758.67 1455 Q1761.75 1459.58 1761.75 1468.33 Q1761.75 1477.06 1758.67 1481.67 Q1755.61 1486.25 1749.8 1486.25 Q1743.99 1486.25 1740.92 1481.67 Q1737.86 1477.06 1737.86 1468.33 Q1737.86 1459.58 1740.92 1455 Q1743.99 1450.39 1749.8 1450.39 Z\" fill=\"#000000\" fill-rule=\"nonzero\" fill-opacity=\"1\" /><path clip-path=\"url(#clip670)\" d=\"M1769.97 1479.7 L1774.85 1479.7 L1774.85 1485.58 L1769.97 1485.58 L1769.97 1479.7 Z\" fill=\"#000000\" fill-rule=\"nonzero\" fill-opacity=\"1\" /><path clip-path=\"url(#clip670)\" d=\"M1783.85 1451.02 L1806.08 1451.02 L1806.08 1453.01 L1793.53 1485.58 L1788.65 1485.58 L1800.45 1454.96 L1783.85 1454.96 L1783.85 1451.02 Z\" fill=\"#000000\" fill-rule=\"nonzero\" fill-opacity=\"1\" /><path clip-path=\"url(#clip670)\" d=\"M1815.24 1451.02 L1833.6 1451.02 L1833.6 1454.96 L1819.53 1454.96 L1819.53 1463.43 Q1820.54 1463.08 1821.56 1462.92 Q1822.58 1462.73 1823.6 1462.73 Q1829.39 1462.73 1832.77 1465.9 Q1836.15 1469.08 1836.15 1474.49 Q1836.15 1480.07 1832.67 1483.17 Q1829.2 1486.25 1822.88 1486.25 Q1820.71 1486.25 1818.44 1485.88 Q1816.19 1485.51 1813.79 1484.77 L1813.79 1480.07 Q1815.87 1481.2 1818.09 1481.76 Q1820.31 1482.32 1822.79 1482.32 Q1826.79 1482.32 1829.13 1480.21 Q1831.47 1478.1 1831.47 1474.49 Q1831.47 1470.88 1829.13 1468.77 Q1826.79 1466.67 1822.79 1466.67 Q1820.91 1466.67 1819.04 1467.08 Q1817.19 1467.5 1815.24 1468.38 L1815.24 1451.02 Z\" fill=\"#000000\" fill-rule=\"nonzero\" fill-opacity=\"1\" /><path clip-path=\"url(#clip670)\" d=\"M2244.21 1481.64 L2251.85 1481.64 L2251.85 1455.28 L2243.54 1456.95 L2243.54 1452.69 L2251.8 1451.02 L2256.48 1451.02 L2256.48 1481.64 L2264.12 1481.64 L2264.12 1485.58 L2244.21 1485.58 L2244.21 1481.64 Z\" fill=\"#000000\" fill-rule=\"nonzero\" fill-opacity=\"1\" /><path clip-path=\"url(#clip670)\" d=\"M2273.56 1479.7 L2278.45 1479.7 L2278.45 1485.58 L2273.56 1485.58 L2273.56 1479.7 Z\" fill=\"#000000\" fill-rule=\"nonzero\" fill-opacity=\"1\" /><path clip-path=\"url(#clip670)\" d=\"M2298.63 1454.1 Q2295.02 1454.1 2293.19 1457.66 Q2291.39 1461.2 2291.39 1468.33 Q2291.39 1475.44 2293.19 1479.01 Q2295.02 1482.55 2298.63 1482.55 Q2302.27 1482.55 2304.07 1479.01 Q2305.9 1475.44 2305.9 1468.33 Q2305.9 1461.2 2304.07 1457.66 Q2302.27 1454.1 2298.63 1454.1 M2298.63 1450.39 Q2304.44 1450.39 2307.5 1455 Q2310.58 1459.58 2310.58 1468.33 Q2310.58 1477.06 2307.5 1481.67 Q2304.44 1486.25 2298.63 1486.25 Q2292.82 1486.25 2289.74 1481.67 Q2286.69 1477.06 2286.69 1468.33 Q2286.69 1459.58 2289.74 1455 Q2292.82 1450.39 2298.63 1450.39 Z\" fill=\"#000000\" fill-rule=\"nonzero\" fill-opacity=\"1\" /><path clip-path=\"url(#clip670)\" d=\"M2328.79 1454.1 Q2325.18 1454.1 2323.35 1457.66 Q2321.55 1461.2 2321.55 1468.33 Q2321.55 1475.44 2323.35 1479.01 Q2325.18 1482.55 2328.79 1482.55 Q2332.43 1482.55 2334.23 1479.01 Q2336.06 1475.44 2336.06 1468.33 Q2336.06 1461.2 2334.23 1457.66 Q2332.43 1454.1 2328.79 1454.1 M2328.79 1450.39 Q2334.6 1450.39 2337.66 1455 Q2340.74 1459.58 2340.74 1468.33 Q2340.74 1477.06 2337.66 1481.67 Q2334.6 1486.25 2328.79 1486.25 Q2322.98 1486.25 2319.91 1481.67 Q2316.85 1477.06 2316.85 1468.33 Q2316.85 1459.58 2319.91 1455 Q2322.98 1450.39 2328.79 1450.39 Z\" fill=\"#000000\" fill-rule=\"nonzero\" fill-opacity=\"1\" /><path clip-path=\"url(#clip670)\" d=\"M1298.48 1532.4 L1285.59 1549.74 L1299.15 1568.04 L1292.24 1568.04 L1281.87 1554.04 L1271.49 1568.04 L1264.58 1568.04 L1278.43 1549.39 L1265.76 1532.4 L1272.67 1532.4 L1282.12 1545.1 L1291.57 1532.4 L1298.48 1532.4 Z\" fill=\"#000000\" fill-rule=\"nonzero\" fill-opacity=\"1\" /><polyline clip-path=\"url(#clip672)\" style=\"stroke:#000000; stroke-linecap:round; stroke-linejoin:round; stroke-width:2; stroke-opacity:0.1; fill:none\" points=\"210.977,1336.59 2352.76,1336.59 \"/>\n",
       "<polyline clip-path=\"url(#clip672)\" style=\"stroke:#000000; stroke-linecap:round; stroke-linejoin:round; stroke-width:2; stroke-opacity:0.1; fill:none\" points=\"210.977,1016.04 2352.76,1016.04 \"/>\n",
       "<polyline clip-path=\"url(#clip672)\" style=\"stroke:#000000; stroke-linecap:round; stroke-linejoin:round; stroke-width:2; stroke-opacity:0.1; fill:none\" points=\"210.977,695.49 2352.76,695.49 \"/>\n",
       "<polyline clip-path=\"url(#clip672)\" style=\"stroke:#000000; stroke-linecap:round; stroke-linejoin:round; stroke-width:2; stroke-opacity:0.1; fill:none\" points=\"210.977,374.939 2352.76,374.939 \"/>\n",
       "<polyline clip-path=\"url(#clip672)\" style=\"stroke:#000000; stroke-linecap:round; stroke-linejoin:round; stroke-width:2; stroke-opacity:0.1; fill:none\" points=\"210.977,54.3879 2352.76,54.3879 \"/>\n",
       "<polyline clip-path=\"url(#clip670)\" style=\"stroke:#000000; stroke-linecap:round; stroke-linejoin:round; stroke-width:4; stroke-opacity:1; fill:none\" points=\"210.977,1423.18 210.977,47.2441 \"/>\n",
       "<polyline clip-path=\"url(#clip670)\" style=\"stroke:#000000; stroke-linecap:round; stroke-linejoin:round; stroke-width:4; stroke-opacity:1; fill:none\" points=\"210.977,1336.59 229.875,1336.59 \"/>\n",
       "<polyline clip-path=\"url(#clip670)\" style=\"stroke:#000000; stroke-linecap:round; stroke-linejoin:round; stroke-width:4; stroke-opacity:1; fill:none\" points=\"210.977,1016.04 229.875,1016.04 \"/>\n",
       "<polyline clip-path=\"url(#clip670)\" style=\"stroke:#000000; stroke-linecap:round; stroke-linejoin:round; stroke-width:4; stroke-opacity:1; fill:none\" points=\"210.977,695.49 229.875,695.49 \"/>\n",
       "<polyline clip-path=\"url(#clip670)\" style=\"stroke:#000000; stroke-linecap:round; stroke-linejoin:round; stroke-width:4; stroke-opacity:1; fill:none\" points=\"210.977,374.939 229.875,374.939 \"/>\n",
       "<polyline clip-path=\"url(#clip670)\" style=\"stroke:#000000; stroke-linecap:round; stroke-linejoin:round; stroke-width:4; stroke-opacity:1; fill:none\" points=\"210.977,54.3879 229.875,54.3879 \"/>\n",
       "<path clip-path=\"url(#clip670)\" d=\"M114.26 1337.04 L143.936 1337.04 L143.936 1340.98 L114.26 1340.98 L114.26 1337.04 Z\" fill=\"#000000\" fill-rule=\"nonzero\" fill-opacity=\"1\" /><path clip-path=\"url(#clip670)\" d=\"M154.075 1319.31 L172.431 1319.31 L172.431 1323.25 L158.357 1323.25 L158.357 1331.72 Q159.376 1331.37 160.394 1331.21 Q161.413 1331.02 162.431 1331.02 Q168.218 1331.02 171.598 1334.2 Q174.977 1337.37 174.977 1342.78 Q174.977 1348.36 171.505 1351.46 Q168.033 1354.54 161.714 1354.54 Q159.538 1354.54 157.269 1354.17 Q155.024 1353.8 152.616 1353.06 L152.616 1348.36 Q154.7 1349.5 156.922 1350.05 Q159.144 1350.61 161.621 1350.61 Q165.626 1350.61 167.964 1348.5 Q170.302 1346.39 170.302 1342.78 Q170.302 1339.17 167.964 1337.07 Q165.626 1334.96 161.621 1334.96 Q159.746 1334.96 157.871 1335.38 Q156.019 1335.79 154.075 1336.67 L154.075 1319.31 Z\" fill=\"#000000\" fill-rule=\"nonzero\" fill-opacity=\"1\" /><path clip-path=\"url(#clip670)\" d=\"M163.033 1001.84 Q159.422 1001.84 157.593 1005.4 Q155.788 1008.95 155.788 1016.08 Q155.788 1023.18 157.593 1026.75 Q159.422 1030.29 163.033 1030.29 Q166.667 1030.29 168.473 1026.75 Q170.302 1023.18 170.302 1016.08 Q170.302 1008.95 168.473 1005.4 Q166.667 1001.84 163.033 1001.84 M163.033 998.135 Q168.843 998.135 171.899 1002.74 Q174.977 1007.33 174.977 1016.08 Q174.977 1024.8 171.899 1029.41 Q168.843 1033.99 163.033 1033.99 Q157.223 1033.99 154.144 1029.41 Q151.089 1024.8 151.089 1016.08 Q151.089 1007.33 154.144 1002.74 Q157.223 998.135 163.033 998.135 Z\" fill=\"#000000\" fill-rule=\"nonzero\" fill-opacity=\"1\" /><path clip-path=\"url(#clip670)\" d=\"M154.075 678.21 L172.431 678.21 L172.431 682.145 L158.357 682.145 L158.357 690.617 Q159.376 690.27 160.394 690.108 Q161.413 689.922 162.431 689.922 Q168.218 689.922 171.598 693.094 Q174.977 696.265 174.977 701.682 Q174.977 707.26 171.505 710.362 Q168.033 713.441 161.714 713.441 Q159.538 713.441 157.269 713.071 Q155.024 712.7 152.616 711.959 L152.616 707.26 Q154.7 708.395 156.922 708.95 Q159.144 709.506 161.621 709.506 Q165.626 709.506 167.964 707.399 Q170.302 705.293 170.302 701.682 Q170.302 698.071 167.964 695.964 Q165.626 693.858 161.621 693.858 Q159.746 693.858 157.871 694.274 Q156.019 694.691 154.075 695.571 L154.075 678.21 Z\" fill=\"#000000\" fill-rule=\"nonzero\" fill-opacity=\"1\" /><path clip-path=\"url(#clip670)\" d=\"M123.681 388.284 L131.32 388.284 L131.32 361.918 L123.01 363.585 L123.01 359.325 L131.274 357.659 L135.95 357.659 L135.95 388.284 L143.589 388.284 L143.589 392.219 L123.681 392.219 L123.681 388.284 Z\" fill=\"#000000\" fill-rule=\"nonzero\" fill-opacity=\"1\" /><path clip-path=\"url(#clip670)\" d=\"M163.033 360.737 Q159.422 360.737 157.593 364.302 Q155.788 367.844 155.788 374.973 Q155.788 382.08 157.593 385.645 Q159.422 389.186 163.033 389.186 Q166.667 389.186 168.473 385.645 Q170.302 382.08 170.302 374.973 Q170.302 367.844 168.473 364.302 Q166.667 360.737 163.033 360.737 M163.033 357.034 Q168.843 357.034 171.899 361.64 Q174.977 366.224 174.977 374.973 Q174.977 383.7 171.899 388.307 Q168.843 392.89 163.033 392.89 Q157.223 392.89 154.144 388.307 Q151.089 383.7 151.089 374.973 Q151.089 366.224 154.144 361.64 Q157.223 357.034 163.033 357.034 Z\" fill=\"#000000\" fill-rule=\"nonzero\" fill-opacity=\"1\" /><path clip-path=\"url(#clip670)\" d=\"M124.677 67.7327 L132.316 67.7327 L132.316 41.3671 L124.005 43.0338 L124.005 38.7746 L132.269 37.1079 L136.945 37.1079 L136.945 67.7327 L144.584 67.7327 L144.584 71.6679 L124.677 71.6679 L124.677 67.7327 Z\" fill=\"#000000\" fill-rule=\"nonzero\" fill-opacity=\"1\" /><path clip-path=\"url(#clip670)\" d=\"M154.075 37.1079 L172.431 37.1079 L172.431 41.0431 L158.357 41.0431 L158.357 49.5152 Q159.376 49.168 160.394 49.006 Q161.413 48.8208 162.431 48.8208 Q168.218 48.8208 171.598 51.9921 Q174.977 55.1634 174.977 60.58 Q174.977 66.1587 171.505 69.2605 Q168.033 72.3392 161.714 72.3392 Q159.538 72.3392 157.269 71.9688 Q155.024 71.5985 152.616 70.8577 L152.616 66.1587 Q154.7 67.2929 156.922 67.8485 Q159.144 68.404 161.621 68.404 Q165.626 68.404 167.964 66.2976 Q170.302 64.1911 170.302 60.58 Q170.302 56.9689 167.964 54.8624 Q165.626 52.756 161.621 52.756 Q159.746 52.756 157.871 53.1726 Q156.019 53.5893 154.075 54.4689 L154.075 37.1079 Z\" fill=\"#000000\" fill-rule=\"nonzero\" fill-opacity=\"1\" /><path clip-path=\"url(#clip670)\" d=\"M67.3143 733.525 Q73.68 736.008 75.6216 738.363 Q77.5631 740.718 77.5631 744.665 L77.5631 749.344 L72.6615 749.344 L72.6615 745.906 Q72.6615 743.487 71.5157 742.151 Q70.3699 740.814 66.1048 739.191 L63.4312 738.14 L28.3562 752.559 L28.3562 746.352 L56.238 735.212 L28.3562 724.072 L28.3562 717.865 L67.3143 733.525 Z\" fill=\"#000000\" fill-rule=\"nonzero\" fill-opacity=\"1\" /><path clip-path=\"url(#clip672)\" d=\"M271.594 1189.59 L2292.14 1338.15 L2292.14 309.266 L271.594 1098.93  Z\" fill=\"#009af9\" fill-rule=\"evenodd\" fill-opacity=\"0.5\"/>\n",
       "<polyline clip-path=\"url(#clip672)\" style=\"stroke:#009af9; stroke-linecap:round; stroke-linejoin:round; stroke-width:4; stroke-opacity:1; fill:none\" points=\"271.594,1144.26 2292.14,823.71 \"/>\n",
       "<circle clip-path=\"url(#clip672)\" cx=\"741.645\" cy=\"1139.98\" r=\"14.4\" fill=\"#e26f46\" fill-rule=\"evenodd\" fill-opacity=\"1\" stroke=\"#000000\" stroke-opacity=\"1\" stroke-width=\"3.2\"/>\n",
       "<circle clip-path=\"url(#clip672)\" cx=\"1967.35\" cy=\"854.596\" r=\"14.4\" fill=\"#e26f46\" fill-rule=\"evenodd\" fill-opacity=\"1\" stroke=\"#000000\" stroke-opacity=\"1\" stroke-width=\"3.2\"/>\n",
       "<circle clip-path=\"url(#clip672)\" cx=\"1841.55\" cy=\"614.611\" r=\"14.4\" fill=\"#e26f46\" fill-rule=\"evenodd\" fill-opacity=\"1\" stroke=\"#000000\" stroke-opacity=\"1\" stroke-width=\"3.2\"/>\n",
       "<circle clip-path=\"url(#clip672)\" cx=\"326.217\" cy=\"1244.6\" r=\"14.4\" fill=\"#e26f46\" fill-rule=\"evenodd\" fill-opacity=\"1\" stroke=\"#000000\" stroke-opacity=\"1\" stroke-width=\"3.2\"/>\n",
       "<circle clip-path=\"url(#clip672)\" cx=\"2101.58\" cy=\"785.757\" r=\"14.4\" fill=\"#e26f46\" fill-rule=\"evenodd\" fill-opacity=\"1\" stroke=\"#000000\" stroke-opacity=\"1\" stroke-width=\"3.2\"/>\n",
       "<circle clip-path=\"url(#clip672)\" cx=\"766.522\" cy=\"813.692\" r=\"14.4\" fill=\"#e26f46\" fill-rule=\"evenodd\" fill-opacity=\"1\" stroke=\"#000000\" stroke-opacity=\"1\" stroke-width=\"3.2\"/>\n",
       "<circle clip-path=\"url(#clip672)\" cx=\"338.646\" cy=\"1150.21\" r=\"14.4\" fill=\"#e26f46\" fill-rule=\"evenodd\" fill-opacity=\"1\" stroke=\"#000000\" stroke-opacity=\"1\" stroke-width=\"3.2\"/>\n",
       "<circle clip-path=\"url(#clip672)\" cx=\"1610.79\" cy=\"1384.24\" r=\"14.4\" fill=\"#e26f46\" fill-rule=\"evenodd\" fill-opacity=\"1\" stroke=\"#000000\" stroke-opacity=\"1\" stroke-width=\"3.2\"/>\n",
       "<circle clip-path=\"url(#clip672)\" cx=\"531.952\" cy=\"1050.44\" r=\"14.4\" fill=\"#e26f46\" fill-rule=\"evenodd\" fill-opacity=\"1\" stroke=\"#000000\" stroke-opacity=\"1\" stroke-width=\"3.2\"/>\n",
       "<circle clip-path=\"url(#clip672)\" cx=\"2280.98\" cy=\"605.999\" r=\"14.4\" fill=\"#e26f46\" fill-rule=\"evenodd\" fill-opacity=\"1\" stroke=\"#000000\" stroke-opacity=\"1\" stroke-width=\"3.2\"/>\n",
       "<circle clip-path=\"url(#clip672)\" cx=\"1780.02\" cy=\"962.66\" r=\"14.4\" fill=\"#e26f46\" fill-rule=\"evenodd\" fill-opacity=\"1\" stroke=\"#000000\" stroke-opacity=\"1\" stroke-width=\"3.2\"/>\n",
       "<circle clip-path=\"url(#clip672)\" cx=\"916.805\" cy=\"968.637\" r=\"14.4\" fill=\"#e26f46\" fill-rule=\"evenodd\" fill-opacity=\"1\" stroke=\"#000000\" stroke-opacity=\"1\" stroke-width=\"3.2\"/>\n",
       "<circle clip-path=\"url(#clip672)\" cx=\"1983.09\" cy=\"943.464\" r=\"14.4\" fill=\"#e26f46\" fill-rule=\"evenodd\" fill-opacity=\"1\" stroke=\"#000000\" stroke-opacity=\"1\" stroke-width=\"3.2\"/>\n",
       "<circle clip-path=\"url(#clip672)\" cx=\"297.116\" cy=\"1046.19\" r=\"14.4\" fill=\"#e26f46\" fill-rule=\"evenodd\" fill-opacity=\"1\" stroke=\"#000000\" stroke-opacity=\"1\" stroke-width=\"3.2\"/>\n",
       "<circle clip-path=\"url(#clip672)\" cx=\"2209.81\" cy=\"86.1857\" r=\"14.4\" fill=\"#e26f46\" fill-rule=\"evenodd\" fill-opacity=\"1\" stroke=\"#000000\" stroke-opacity=\"1\" stroke-width=\"3.2\"/>\n",
       "<circle clip-path=\"url(#clip672)\" cx=\"1565.46\" cy=\"976.564\" r=\"14.4\" fill=\"#e26f46\" fill-rule=\"evenodd\" fill-opacity=\"1\" stroke=\"#000000\" stroke-opacity=\"1\" stroke-width=\"3.2\"/>\n",
       "<circle clip-path=\"url(#clip672)\" cx=\"1577.28\" cy=\"981.869\" r=\"14.4\" fill=\"#e26f46\" fill-rule=\"evenodd\" fill-opacity=\"1\" stroke=\"#000000\" stroke-opacity=\"1\" stroke-width=\"3.2\"/>\n",
       "<circle clip-path=\"url(#clip672)\" cx=\"945.544\" cy=\"1049.45\" r=\"14.4\" fill=\"#e26f46\" fill-rule=\"evenodd\" fill-opacity=\"1\" stroke=\"#000000\" stroke-opacity=\"1\" stroke-width=\"3.2\"/>\n",
       "<circle clip-path=\"url(#clip672)\" cx=\"1112.72\" cy=\"912.301\" r=\"14.4\" fill=\"#e26f46\" fill-rule=\"evenodd\" fill-opacity=\"1\" stroke=\"#000000\" stroke-opacity=\"1\" stroke-width=\"3.2\"/>\n",
       "<circle clip-path=\"url(#clip672)\" cx=\"1680.77\" cy=\"798.645\" r=\"14.4\" fill=\"#e26f46\" fill-rule=\"evenodd\" fill-opacity=\"1\" stroke=\"#000000\" stroke-opacity=\"1\" stroke-width=\"3.2\"/>\n",
       "<circle clip-path=\"url(#clip672)\" cx=\"2105.4\" cy=\"1109.78\" r=\"14.4\" fill=\"#e26f46\" fill-rule=\"evenodd\" fill-opacity=\"1\" stroke=\"#000000\" stroke-opacity=\"1\" stroke-width=\"3.2\"/>\n",
       "<circle clip-path=\"url(#clip672)\" cx=\"679.041\" cy=\"1187.13\" r=\"14.4\" fill=\"#e26f46\" fill-rule=\"evenodd\" fill-opacity=\"1\" stroke=\"#000000\" stroke-opacity=\"1\" stroke-width=\"3.2\"/>\n",
       "<circle clip-path=\"url(#clip672)\" cx=\"1693.35\" cy=\"981.501\" r=\"14.4\" fill=\"#e26f46\" fill-rule=\"evenodd\" fill-opacity=\"1\" stroke=\"#000000\" stroke-opacity=\"1\" stroke-width=\"3.2\"/>\n",
       "<circle clip-path=\"url(#clip672)\" cx=\"1247.25\" cy=\"865.204\" r=\"14.4\" fill=\"#e26f46\" fill-rule=\"evenodd\" fill-opacity=\"1\" stroke=\"#000000\" stroke-opacity=\"1\" stroke-width=\"3.2\"/>\n",
       "<circle clip-path=\"url(#clip672)\" cx=\"1743.12\" cy=\"912.419\" r=\"14.4\" fill=\"#e26f46\" fill-rule=\"evenodd\" fill-opacity=\"1\" stroke=\"#000000\" stroke-opacity=\"1\" stroke-width=\"3.2\"/>\n",
       "<circle clip-path=\"url(#clip672)\" cx=\"696.898\" cy=\"1076.73\" r=\"14.4\" fill=\"#e26f46\" fill-rule=\"evenodd\" fill-opacity=\"1\" stroke=\"#000000\" stroke-opacity=\"1\" stroke-width=\"3.2\"/>\n",
       "<circle clip-path=\"url(#clip672)\" cx=\"751.734\" cy=\"1012.63\" r=\"14.4\" fill=\"#e26f46\" fill-rule=\"evenodd\" fill-opacity=\"1\" stroke=\"#000000\" stroke-opacity=\"1\" stroke-width=\"3.2\"/>\n",
       "<circle clip-path=\"url(#clip672)\" cx=\"1213.27\" cy=\"911.149\" r=\"14.4\" fill=\"#e26f46\" fill-rule=\"evenodd\" fill-opacity=\"1\" stroke=\"#000000\" stroke-opacity=\"1\" stroke-width=\"3.2\"/>\n",
       "<circle clip-path=\"url(#clip672)\" cx=\"1452.02\" cy=\"858.644\" r=\"14.4\" fill=\"#e26f46\" fill-rule=\"evenodd\" fill-opacity=\"1\" stroke=\"#000000\" stroke-opacity=\"1\" stroke-width=\"3.2\"/>\n",
       "<circle clip-path=\"url(#clip672)\" cx=\"432.656\" cy=\"1019.4\" r=\"14.4\" fill=\"#e26f46\" fill-rule=\"evenodd\" fill-opacity=\"1\" stroke=\"#000000\" stroke-opacity=\"1\" stroke-width=\"3.2\"/>\n",
       "<circle clip-path=\"url(#clip672)\" cx=\"1040.67\" cy=\"1150.46\" r=\"14.4\" fill=\"#e26f46\" fill-rule=\"evenodd\" fill-opacity=\"1\" stroke=\"#000000\" stroke-opacity=\"1\" stroke-width=\"3.2\"/>\n",
       "<circle clip-path=\"url(#clip672)\" cx=\"1106.43\" cy=\"1116.67\" r=\"14.4\" fill=\"#e26f46\" fill-rule=\"evenodd\" fill-opacity=\"1\" stroke=\"#000000\" stroke-opacity=\"1\" stroke-width=\"3.2\"/>\n",
       "<circle clip-path=\"url(#clip672)\" cx=\"2240.13\" cy=\"983.398\" r=\"14.4\" fill=\"#e26f46\" fill-rule=\"evenodd\" fill-opacity=\"1\" stroke=\"#000000\" stroke-opacity=\"1\" stroke-width=\"3.2\"/>\n",
       "<circle clip-path=\"url(#clip672)\" cx=\"2177.49\" cy=\"911.529\" r=\"14.4\" fill=\"#e26f46\" fill-rule=\"evenodd\" fill-opacity=\"1\" stroke=\"#000000\" stroke-opacity=\"1\" stroke-width=\"3.2\"/>\n",
       "<circle clip-path=\"url(#clip672)\" cx=\"2290.7\" cy=\"1243.92\" r=\"14.4\" fill=\"#e26f46\" fill-rule=\"evenodd\" fill-opacity=\"1\" stroke=\"#000000\" stroke-opacity=\"1\" stroke-width=\"3.2\"/>\n",
       "<circle clip-path=\"url(#clip672)\" cx=\"490.531\" cy=\"1170.2\" r=\"14.4\" fill=\"#e26f46\" fill-rule=\"evenodd\" fill-opacity=\"1\" stroke=\"#000000\" stroke-opacity=\"1\" stroke-width=\"3.2\"/>\n",
       "<circle clip-path=\"url(#clip672)\" cx=\"1952.02\" cy=\"941.562\" r=\"14.4\" fill=\"#e26f46\" fill-rule=\"evenodd\" fill-opacity=\"1\" stroke=\"#000000\" stroke-opacity=\"1\" stroke-width=\"3.2\"/>\n",
       "<circle clip-path=\"url(#clip672)\" cx=\"855.371\" cy=\"832.155\" r=\"14.4\" fill=\"#e26f46\" fill-rule=\"evenodd\" fill-opacity=\"1\" stroke=\"#000000\" stroke-opacity=\"1\" stroke-width=\"3.2\"/>\n",
       "<circle clip-path=\"url(#clip672)\" cx=\"883.604\" cy=\"907.428\" r=\"14.4\" fill=\"#e26f46\" fill-rule=\"evenodd\" fill-opacity=\"1\" stroke=\"#000000\" stroke-opacity=\"1\" stroke-width=\"3.2\"/>\n",
       "<circle clip-path=\"url(#clip672)\" cx=\"1925.22\" cy=\"886.914\" r=\"14.4\" fill=\"#e26f46\" fill-rule=\"evenodd\" fill-opacity=\"1\" stroke=\"#000000\" stroke-opacity=\"1\" stroke-width=\"3.2\"/>\n",
       "<circle clip-path=\"url(#clip672)\" cx=\"1738.37\" cy=\"1008.16\" r=\"14.4\" fill=\"#e26f46\" fill-rule=\"evenodd\" fill-opacity=\"1\" stroke=\"#000000\" stroke-opacity=\"1\" stroke-width=\"3.2\"/>\n",
       "<circle clip-path=\"url(#clip672)\" cx=\"324.226\" cy=\"1145.93\" r=\"14.4\" fill=\"#e26f46\" fill-rule=\"evenodd\" fill-opacity=\"1\" stroke=\"#000000\" stroke-opacity=\"1\" stroke-width=\"3.2\"/>\n",
       "<circle clip-path=\"url(#clip672)\" cx=\"2099.85\" cy=\"923.122\" r=\"14.4\" fill=\"#e26f46\" fill-rule=\"evenodd\" fill-opacity=\"1\" stroke=\"#000000\" stroke-opacity=\"1\" stroke-width=\"3.2\"/>\n",
       "<circle clip-path=\"url(#clip672)\" cx=\"526.738\" cy=\"1036.12\" r=\"14.4\" fill=\"#e26f46\" fill-rule=\"evenodd\" fill-opacity=\"1\" stroke=\"#000000\" stroke-opacity=\"1\" stroke-width=\"3.2\"/>\n",
       "<circle clip-path=\"url(#clip672)\" cx=\"1290.67\" cy=\"1020.19\" r=\"14.4\" fill=\"#e26f46\" fill-rule=\"evenodd\" fill-opacity=\"1\" stroke=\"#000000\" stroke-opacity=\"1\" stroke-width=\"3.2\"/>\n",
       "<circle clip-path=\"url(#clip672)\" cx=\"1419.09\" cy=\"866.414\" r=\"14.4\" fill=\"#e26f46\" fill-rule=\"evenodd\" fill-opacity=\"1\" stroke=\"#000000\" stroke-opacity=\"1\" stroke-width=\"3.2\"/>\n",
       "<circle clip-path=\"url(#clip672)\" cx=\"2125.51\" cy=\"869.566\" r=\"14.4\" fill=\"#e26f46\" fill-rule=\"evenodd\" fill-opacity=\"1\" stroke=\"#000000\" stroke-opacity=\"1\" stroke-width=\"3.2\"/>\n",
       "<circle clip-path=\"url(#clip672)\" cx=\"2134.49\" cy=\"746.166\" r=\"14.4\" fill=\"#e26f46\" fill-rule=\"evenodd\" fill-opacity=\"1\" stroke=\"#000000\" stroke-opacity=\"1\" stroke-width=\"3.2\"/>\n",
       "<circle clip-path=\"url(#clip672)\" cx=\"604.114\" cy=\"1244.87\" r=\"14.4\" fill=\"#e26f46\" fill-rule=\"evenodd\" fill-opacity=\"1\" stroke=\"#000000\" stroke-opacity=\"1\" stroke-width=\"3.2\"/>\n",
       "<circle clip-path=\"url(#clip672)\" cx=\"656.408\" cy=\"1015.67\" r=\"14.4\" fill=\"#e26f46\" fill-rule=\"evenodd\" fill-opacity=\"1\" stroke=\"#000000\" stroke-opacity=\"1\" stroke-width=\"3.2\"/>\n",
       "<polyline clip-path=\"url(#clip672)\" style=\"stroke:#ff0000; stroke-linecap:round; stroke-linejoin:round; stroke-width:4; stroke-opacity:1; fill:none\" points=\"271.594,1122.45 2292.14,824.582 \"/>\n",
       "<polyline clip-path=\"url(#clip672)\" style=\"stroke:#008000; stroke-linecap:round; stroke-linejoin:round; stroke-width:4; stroke-opacity:1; fill:none\" points=\"271.594,1137.5 2292.14,785.314 \"/>\n",
       "<path clip-path=\"url(#clip670)\" d=\"M282.37 352.309 L595.714 352.309 L595.714 93.1086 L282.37 93.1086  Z\" fill=\"#ffffff\" fill-rule=\"evenodd\" fill-opacity=\"1\"/>\n",
       "<polyline clip-path=\"url(#clip670)\" style=\"stroke:#000000; stroke-linecap:round; stroke-linejoin:round; stroke-width:4; stroke-opacity:1; fill:none\" points=\"282.37,352.309 595.714,352.309 595.714,93.1086 282.37,93.1086 282.37,352.309 \"/>\n",
       "<polyline clip-path=\"url(#clip670)\" style=\"stroke:#009af9; stroke-linecap:round; stroke-linejoin:round; stroke-width:4; stroke-opacity:1; fill:none\" points=\"306.168,144.949 448.953,144.949 \"/>\n",
       "<path clip-path=\"url(#clip670)\" d=\"M496.665 126.304 Q496.665 127.592 495.845 128.389 Q495.049 129.185 494.041 129.185 Q493.315 129.185 492.777 128.74 Q492.261 128.295 492.261 127.522 Q492.261 126.726 492.87 125.883 Q493.479 125.039 494.861 124.922 Q493.948 124.056 492.495 124.056 Q491.769 124.056 491.16 124.524 Q490.575 124.969 490.247 125.695 Q489.896 126.445 489.099 130.684 Q488.842 132.066 488.607 133.401 Q488.373 134.736 488.092 136.142 L492.074 136.142 Q492.589 136.142 492.8 136.165 Q493.011 136.188 493.175 136.306 Q493.362 136.423 493.362 136.68 Q493.362 137.336 493.058 137.5 Q492.777 137.641 491.933 137.641 L487.811 137.641 L484.93 152.842 Q484.86 153.287 484.555 154.692 Q484.274 156.074 483.595 158.346 Q482.916 160.641 482.236 162 Q481.862 162.773 481.37 163.499 Q480.901 164.249 480.222 164.998 Q479.543 165.748 478.653 166.193 Q477.763 166.661 476.826 166.661 Q475.233 166.661 473.992 165.771 Q472.75 164.881 472.75 163.358 Q472.75 162.07 473.547 161.274 Q474.366 160.478 475.374 160.478 Q476.1 160.478 476.615 160.923 Q477.154 161.368 477.154 162.141 Q477.154 162.468 477.037 162.843 Q476.92 163.218 476.662 163.64 Q476.404 164.085 475.842 164.389 Q475.28 164.694 474.507 164.74 Q475.421 165.607 476.826 165.607 Q477.271 165.607 477.669 165.42 Q478.067 165.256 478.395 164.834 Q478.746 164.412 479.004 163.991 Q479.262 163.593 479.519 162.82 Q479.777 162.07 479.941 161.508 Q480.105 160.946 480.316 159.939 Q480.55 158.932 480.667 158.323 Q480.784 157.737 480.995 156.589 L484.579 137.641 L481.417 137.641 Q480.855 137.641 480.62 137.617 Q480.409 137.594 480.246 137.477 Q480.082 137.336 480.082 137.055 Q480.082 136.61 480.269 136.423 Q480.48 136.212 480.714 136.188 Q480.948 136.142 481.51 136.142 L484.836 136.142 Q485.961 130.216 486.406 128.623 Q486.921 126.937 487.717 125.765 Q488.514 124.571 489.404 124.009 Q490.294 123.447 491.02 123.236 Q491.769 123.002 492.495 123.002 Q494.135 123.002 495.4 123.892 Q496.665 124.758 496.665 126.304 Z\" fill=\"#000000\" fill-rule=\"nonzero\" fill-opacity=\"1\" /><path clip-path=\"url(#clip670)\" d=\"M503.117 144.831 Q503.117 136.727 506.139 130.192 Q507.427 127.452 509.231 125.156 Q511.034 122.861 512.229 121.854 Q513.423 120.847 513.751 120.847 Q514.22 120.847 514.243 121.315 Q514.243 121.549 513.611 122.135 Q505.881 130.005 505.905 144.831 Q505.905 159.705 513.423 167.27 Q514.243 168.09 514.243 168.347 Q514.243 168.816 513.751 168.816 Q513.423 168.816 512.275 167.856 Q511.128 166.895 509.348 164.694 Q507.568 162.492 506.279 159.798 Q503.117 153.263 503.117 144.831 Z\" fill=\"#000000\" fill-rule=\"nonzero\" fill-opacity=\"1\" /><path clip-path=\"url(#clip670)\" d=\"M541.776 138.788 Q541.776 140.1 540.956 140.85 Q540.136 141.576 539.199 141.576 Q538.309 141.576 537.841 141.06 Q537.372 140.545 537.372 139.889 Q537.372 138.999 538.028 138.226 Q538.684 137.453 539.668 137.289 Q538.707 136.68 537.279 136.68 Q536.342 136.68 535.522 137.172 Q534.726 137.664 534.234 138.296 Q533.765 138.929 533.344 139.842 Q532.945 140.732 532.781 141.271 Q532.641 141.786 532.524 142.349 L530.884 148.907 Q530.088 152.022 530.088 153.123 Q530.088 154.481 530.744 155.395 Q531.4 156.285 532.711 156.285 Q533.227 156.285 533.812 156.144 Q534.398 155.98 535.147 155.559 Q535.92 155.114 536.599 154.458 Q537.302 153.779 537.981 152.631 Q538.661 151.483 539.106 150.008 Q539.246 149.492 539.715 149.492 Q540.3 149.492 540.3 149.961 Q540.3 150.359 539.972 151.202 Q539.668 152.022 538.988 153.099 Q538.333 154.153 537.466 155.114 Q536.599 156.051 535.311 156.707 Q534.023 157.362 532.618 157.362 Q530.603 157.362 529.268 156.285 Q527.933 155.207 527.441 153.708 Q527.324 153.919 527.16 154.2 Q526.996 154.481 526.504 155.114 Q526.036 155.723 525.497 156.191 Q524.958 156.636 524.115 156.988 Q523.295 157.362 522.405 157.362 Q521.281 157.362 520.274 157.034 Q519.29 156.707 518.587 155.957 Q517.885 155.207 517.885 154.177 Q517.885 153.029 518.658 152.233 Q519.454 151.413 520.532 151.413 Q521.211 151.413 521.75 151.811 Q522.312 152.209 522.312 153.076 Q522.312 154.036 521.656 154.762 Q521 155.489 520.063 155.676 Q521.023 156.285 522.452 156.285 Q523.998 156.285 525.216 154.926 Q526.434 153.568 527.02 151.296 Q528.472 145.838 529.034 143.403 Q529.596 140.943 529.596 139.889 Q529.596 138.905 529.338 138.226 Q529.081 137.547 528.636 137.242 Q528.214 136.915 527.816 136.797 Q527.441 136.68 527.02 136.68 Q526.317 136.68 525.521 136.961 Q524.748 137.242 523.811 137.898 Q522.897 138.531 522.031 139.842 Q521.164 141.154 520.578 142.958 Q520.461 143.496 519.946 143.496 Q519.384 143.473 519.384 143.004 Q519.384 142.606 519.688 141.786 Q520.016 140.943 520.672 139.889 Q521.351 138.835 522.218 137.898 Q523.108 136.938 524.396 136.282 Q525.708 135.626 527.113 135.626 Q527.746 135.626 528.355 135.767 Q528.987 135.884 529.737 136.235 Q530.51 136.587 531.189 137.36 Q531.868 138.133 532.29 139.257 Q532.571 138.718 532.945 138.203 Q533.344 137.687 533.953 137.055 Q534.585 136.399 535.452 136.024 Q536.342 135.626 537.325 135.626 Q538.286 135.626 539.223 135.884 Q540.16 136.118 540.956 136.891 Q541.776 137.641 541.776 138.788 Z\" fill=\"#000000\" fill-rule=\"nonzero\" fill-opacity=\"1\" /><path clip-path=\"url(#clip670)\" d=\"M546.388 168.347 Q546.388 168.113 546.997 167.528 Q554.727 159.658 554.727 144.831 Q554.727 129.958 547.302 122.439 Q546.388 121.573 546.388 121.315 Q546.388 120.847 546.857 120.847 Q547.185 120.847 548.332 121.807 Q549.503 122.767 551.26 124.969 Q553.04 127.171 554.352 129.864 Q557.514 136.399 557.514 144.831 Q557.514 152.935 554.492 159.47 Q553.204 162.211 551.401 164.506 Q549.597 166.802 548.403 167.809 Q547.208 168.816 546.857 168.816 Q546.388 168.816 546.388 168.347 Z\" fill=\"#000000\" fill-rule=\"nonzero\" fill-opacity=\"1\" /><circle clip-path=\"url(#clip670)\" cx=\"377.56\" cy=\"196.789\" r=\"20.48\" fill=\"#e26f46\" fill-rule=\"evenodd\" fill-opacity=\"1\" stroke=\"#000000\" stroke-opacity=\"1\" stroke-width=\"4.55111\"/>\n",
       "<path clip-path=\"url(#clip670)\" d=\"M494.885 183.043 Q494.885 183.371 494.674 184.144 L490.083 202.46 Q489.076 206.536 485.797 209.394 Q482.541 212.251 478.84 212.251 Q476.615 212.251 475.186 211.057 Q473.758 209.885 473.758 208.082 Q473.758 206.489 474.601 205.716 Q475.444 204.967 476.451 204.967 Q476.779 204.967 477.13 205.06 Q477.482 205.154 477.856 205.552 Q478.231 205.95 478.231 206.63 Q478.231 207.731 477.271 208.597 Q476.802 208.995 476.357 209.089 Q475.936 209.183 475.21 209.183 Q475.491 209.839 476.006 210.284 Q476.521 210.729 477.107 210.893 Q477.692 211.08 478.067 211.127 Q478.465 211.197 478.84 211.197 Q481.838 211.197 484.134 208.176 Q484.813 207.262 485.305 206.349 Q485.82 205.459 486.195 204.358 Q486.57 203.28 486.734 202.695 Q486.921 202.109 487.249 200.774 Q485.071 202.952 482.4 202.952 Q481.276 202.952 480.269 202.648 Q479.285 202.343 478.419 201.711 Q477.552 201.055 477.037 199.907 Q476.545 198.76 476.545 197.237 Q476.545 195.621 477.177 193.419 Q477.81 191.218 479.332 187.166 Q480.152 184.894 480.152 183.793 Q480.152 183.254 480.035 182.926 Q479.918 182.575 479.683 182.458 Q479.449 182.317 479.309 182.294 Q479.192 182.27 478.957 182.27 Q477.575 182.27 476.287 183.676 Q474.999 185.081 474.109 188.22 Q473.921 188.805 473.804 188.946 Q473.687 189.086 473.336 189.086 Q472.75 189.063 472.75 188.594 Q472.75 188.407 472.961 187.681 Q473.172 186.931 473.664 185.831 Q474.179 184.706 474.882 183.699 Q475.584 182.668 476.685 181.942 Q477.81 181.216 479.098 181.216 Q480.855 181.216 481.932 182.364 Q483.033 183.488 483.033 185.151 Q483.033 185.831 482.845 186.44 Q482.681 187.025 482.072 188.594 Q479.613 194.918 479.613 198.01 Q479.613 198.76 479.73 199.392 Q479.871 200.001 480.175 200.61 Q480.48 201.196 481.089 201.547 Q481.721 201.875 482.588 201.875 Q483.689 201.875 484.719 201.36 Q485.773 200.821 486.429 200.095 Q487.108 199.369 487.506 198.76 Q487.928 198.127 488.022 197.799 L490.177 189.18 L491.137 185.339 Q491.582 183.254 491.793 182.739 Q492.074 182.247 492.566 181.989 Q493.058 181.732 493.479 181.732 Q494.065 181.732 494.463 182.083 Q494.885 182.434 494.885 183.043 Z\" fill=\"#000000\" fill-rule=\"nonzero\" fill-opacity=\"1\" /><polyline clip-path=\"url(#clip670)\" style=\"stroke:#ff0000; stroke-linecap:round; stroke-linejoin:round; stroke-width:4; stroke-opacity:1; fill:none\" points=\"306.168,248.629 448.953,248.629 \"/>\n",
       "<path clip-path=\"url(#clip670)\" d=\"M472.75 231.349 L477.426 231.349 L477.426 261.973 L494.255 261.973 L494.255 265.909 L472.75 265.909 L472.75 231.349 Z\" fill=\"#000000\" fill-rule=\"nonzero\" fill-opacity=\"1\" /><path clip-path=\"url(#clip670)\" d=\"M519.88 232.483 L519.88 237.043 Q517.218 235.77 514.857 235.145 Q512.496 234.52 510.296 234.52 Q506.477 234.52 504.394 236.001 Q502.334 237.483 502.334 240.214 Q502.334 242.506 503.699 243.687 Q505.088 244.844 508.931 245.562 L511.755 246.14 Q516.986 247.136 519.463 249.659 Q521.963 252.159 521.963 256.372 Q521.963 261.395 518.583 263.987 Q515.227 266.58 508.722 266.58 Q506.269 266.58 503.491 266.024 Q500.736 265.469 497.773 264.381 L497.773 259.566 Q500.621 261.163 503.352 261.973 Q506.084 262.784 508.722 262.784 Q512.727 262.784 514.903 261.21 Q517.079 259.636 517.079 256.719 Q517.079 254.173 515.505 252.737 Q513.954 251.302 510.389 250.585 L507.542 250.029 Q502.31 248.987 499.972 246.765 Q497.634 244.543 497.634 240.585 Q497.634 236.001 500.852 233.362 Q504.093 230.724 509.764 230.724 Q512.195 230.724 514.718 231.163 Q517.241 231.603 519.88 232.483 Z\" fill=\"#000000\" fill-rule=\"nonzero\" fill-opacity=\"1\" /><polyline clip-path=\"url(#clip670)\" style=\"stroke:#008000; stroke-linecap:round; stroke-linejoin:round; stroke-width:4; stroke-opacity:1; fill:none\" points=\"306.168,300.469 448.953,300.469 \"/>\n",
       "<path clip-path=\"url(#clip670)\" d=\"M472.75 283.189 L477.473 283.189 L484.741 312.401 L491.986 283.189 L497.241 283.189 L504.509 312.401 L511.755 283.189 L516.5 283.189 L507.82 317.749 L501.94 317.749 L494.648 287.749 L487.287 317.749 L481.408 317.749 L472.75 283.189 Z\" fill=\"#000000\" fill-rule=\"nonzero\" fill-opacity=\"1\" /><path clip-path=\"url(#clip670)\" d=\"M522.704 283.189 L527.38 283.189 L527.38 313.813 L544.208 313.813 L544.208 317.749 L522.704 317.749 L522.704 283.189 Z\" fill=\"#000000\" fill-rule=\"nonzero\" fill-opacity=\"1\" /><path clip-path=\"url(#clip670)\" d=\"M569.833 284.323 L569.833 288.883 Q567.171 287.61 564.81 286.985 Q562.449 286.36 560.25 286.36 Q556.43 286.36 554.347 287.841 Q552.287 289.323 552.287 292.054 Q552.287 294.346 553.653 295.527 Q555.042 296.684 558.884 297.402 L561.708 297.98 Q566.94 298.976 569.416 301.499 Q571.916 303.999 571.916 308.212 Q571.916 313.235 568.537 315.827 Q565.18 318.42 558.676 318.42 Q556.222 318.42 553.444 317.864 Q550.69 317.309 547.727 316.221 L547.727 311.406 Q550.574 313.003 553.305 313.813 Q556.037 314.624 558.676 314.624 Q562.68 314.624 564.856 313.05 Q567.032 311.476 567.032 308.559 Q567.032 306.013 565.458 304.577 Q563.907 303.142 560.342 302.425 L557.495 301.869 Q552.264 300.827 549.926 298.605 Q547.588 296.383 547.588 292.425 Q547.588 287.841 550.805 285.202 Q554.046 282.564 559.717 282.564 Q562.148 282.564 564.671 283.003 Q567.194 283.443 569.833 284.323 Z\" fill=\"#000000\" fill-rule=\"nonzero\" fill-opacity=\"1\" /></svg>\n"
      ]
     },
     "metadata": {},
     "output_type": "display_data"
    }
   ],
   "source": [
    "using Plots, Distributions, LaTeXStrings, LinearAlgebra\n",
    "\n",
    "# Model specification: y|x ~ 𝒩(f(x), v(x))\n",
    "f(x) = 5*x .- 2 \n",
    "v(x) = 10*exp.(2*x.^2) .- 9.5 # input dependent noise variance\n",
    "x_test = [0.0, 1.0]\n",
    "plot(x_test, f(x_test), ribbon=sqrt.(v(x_test)), label=L\"f(x)\") # plot f(x)\n",
    "\n",
    "# Generate N samples (x,y), where x ~ Unif[0,1]\n",
    "N = 50\n",
    "x = rand(N)\n",
    "y = f(x) + sqrt.(v(x)) .* randn(N)\n",
    "scatter!(x, y, xlabel=\"x\", ylabel=\"y\", label=L\"y\") # Plot samples\n",
    "\n",
    "# Add constant to input so we can estimate both the offset and the slope\n",
    "_x = [x ones(N)]\n",
    "_x_test = hcat(x_test, ones(2))\n",
    "\n",
    "# LS regression\n",
    "w_ls = pinv(_x) * y\n",
    "plot!(x_test, _x_test*w_ls, color=:red, label=\"LS\") # plot LS solution\n",
    "\n",
    "# Weighted LS regression\n",
    "W = Diagonal(1 ./ v(x)) # weight matrix\n",
    "w_wls = inv(_x'*W*_x) * _x' * W * y\n",
    "plot!(x_test, _x_test*w_wls, color=:green, label=\"WLS\") # plot WLS solution\n"
   ]
  },
  {
   "cell_type": "markdown",
   "metadata": {
    "slideshow": {
     "slide_type": "slide"
    }
   },
   "source": [
    "## <center> OPTIONAL SLIDES</center>"
   ]
  },
  {
   "cell_type": "markdown",
   "metadata": {
    "slideshow": {
     "slide_type": "slide"
    }
   },
   "source": [
    "### <a id=\"matrix-calculus\">Some Useful Matrix Calculus</a>\n",
    "\n",
    "When doing derivatives with matrices, e.g. for maximum likelihood estimation, it will be helpful to be familiar with some matrix calculus. We shortly recapitulate used formulas here. \n",
    "\n",
    "- We define the **gradient** of a scalar function $f(A)$ w.r.t. an $n \\times k$ matrix $A$ as\n",
    "$$\n",
    "\\nabla_A f \\triangleq\n",
    "    \\begin{bmatrix}\n",
    "\\frac{\\partial{f}}{\\partial a_{11}} & \\frac{\\partial{f}}{\\partial a_{12}} & \\cdots & \\frac{\\partial{f}}{\\partial a_{1k}}\\\\\n",
    "\\frac{\\partial{f}}{\\partial a_{21}} & \\frac{\\partial{f}}{\\partial a_{22}} & \\cdots & \\frac{\\partial{f}}{\\partial a_{2k}}\\\\\n",
    "\\vdots & \\vdots & \\cdots & \\vdots\\\\\n",
    "\\frac{\\partial{f}}{\\partial a_{n1}} & \\frac{\\partial{f}}{\\partial a_{n2}} & \\cdots & \\frac{\\partial{f}}{\\partial a_{nk}}\n",
    "    \\end{bmatrix}\n",
    "$$\n",
    " \n",
    "\n",
    "   \n",
    "- The following formulas are useful (see Bishop App.-C)\n",
    "$$\\begin{align*}\n",
    "|A^{-1}|&=|A|^{-1} \\tag{B-C.4} \\\\\n",
    "\\nabla_A \\log |A| &= (A^{T})^{-1} = (A^{-1})^T \\tag{B-C.28} \\\\\n",
    "\\mathrm{Tr}[ABC]&= \\mathrm{Tr}[CAB] = \\mathrm{Tr}[BCA] \\tag{B-C.9} \\\\\n",
    "\\nabla_A \\mathrm{Tr}[AB] &=\\nabla_A \\mathrm{Tr}[BA]= B^T \\tag{B-C.25} \\\\\n",
    "\\nabla_A \\mathrm{Tr}[ABA^T] &= A(B+B^T)  \\tag{B-C.27}\\\\\n",
    " \\nabla_x x^TAx &= (A+A^T)x \\tag{from B-C.27}\\\\\n",
    "\\nabla_X a^TXb &= \\nabla_X \\mathrm{Tr}[ba^TX] = ab^T \\notag\n",
    "\\end{align*}$$"
   ]
  },
  {
   "attachments": {},
   "cell_type": "markdown",
   "metadata": {},
   "source": [
    "### <a id=\"change-of-variable-derivation\">Derivation Predictive Distribution</a>\n",
    "\n",
    "- In the [derivation of the predictive distribution](#predictive-distribution), we replaced $\\mathcal{N}(w\\,|\\,m_N,S_N)\\,\\mathrm{d}w$ with $\\mathcal{N}(z\\,|\\,x_\\bullet^T m_N,x_\\bullet^T S_N x_\\bullet)\\,\\mathrm{d}z$. Here we discuss why that is allowed. \n",
    "\n",
    "- Since $z = x^T w$ (drop the bullet for notational simplicity), we have\n",
    "$$p(z) = \\mathcal{N}(z|m_z,\\Sigma_z)$$\n",
    "with\n",
    "$$\\begin{aligned} m_z &:= E[z] = E[x^T w] = x^T E[w] = x^T m_N \\\\ \\Sigma_z &:= E[(z-m_z)(z-m_z)^T] \\\\   &= E[(x^T w - x^T m_N)(x^T w - x^T m_N)^T] \\\\   &= x^T E[(w - m_N)(w - m_N)^T]x \\\\   &= x^T S_N x \\end{aligned}$$\n",
    "\n",
    "- Then we equate probability masses in both domains:\n",
    "$$ \\mathcal{N}(z|m_z,\\Sigma_z)\\mathrm{d}z = \\mathcal{N}(w|m_N,S_N)\\mathrm{d}w$$\n",
    "\n",
    "$$ \\Rightarrow \\mathcal{N}(z|x^T m_N,x^T S_N x)\\mathrm{d}z = \\mathcal{N}(w|m_N,S_N)\\mathrm{d}w $$"
   ]
  },
  {
   "cell_type": "code",
   "execution_count": 2,
   "metadata": {
    "slideshow": {
     "slide_type": "skip"
    }
   },
   "outputs": [
    {
     "data": {
      "text/html": [
       "<!--\n",
       "This HTML file contains custom styles and some javascript.\n",
       "Include it a Jupyter notebook for improved rendering.\n",
       "-->\n",
       "\n",
       "<!-- Fonts -->\n",
       "<link href='http://fonts.googleapis.com/css?family=Alegreya+Sans:100,300,400,500,700,800,900,100italic,300italic,400italic,500italic,700italic,800italic,900italic' rel='stylesheet' type='text/css'>\n",
       "<link href='http://fonts.googleapis.com/css?family=Arvo:400,700,400italic' rel='stylesheet' type='text/css'>\n",
       "<link href='http://fonts.googleapis.com/css?family=PT+Mono' rel='stylesheet' type='text/css'>\n",
       "<link href='http://fonts.googleapis.com/css?family=Shadows+Into+Light' rel='stylesheet' type='text/css'>\n",
       "<link href='http://fonts.googleapis.com/css?family=Nixie+One' rel='stylesheet' type='text/css'>\n",
       "\n",
       "<!-- Custom style -->\n",
       "<style>\n",
       "\n",
       "@font-face {\n",
       "    font-family: \"Computer Modern\";\n",
       "    src: url('http://mirrors.ctan.org/fonts/cm-unicode/fonts/otf/cmunss.otf');\n",
       "}\n",
       "\n",
       "#notebook_panel { /* main background */\n",
       "    background: rgb(245,245,245);\n",
       "}\n",
       "\n",
       "div.container {\n",
       "    min-width: 960px;\n",
       "}\n",
       "\n",
       "div #notebook { /* centre the content */\n",
       "    background: #fff; /* white background for content */\n",
       "    margin: auto;\n",
       "    padding-left: 0em;\n",
       "}\n",
       "\n",
       "#notebook li { /* More space between bullet points */\n",
       "    margin-top:0.8em;\n",
       "}\n",
       "\n",
       "/* draw border around running cells */\n",
       "div.cell.border-box-sizing.code_cell.running {\n",
       "    border: 1px solid #111;\n",
       "}\n",
       "\n",
       "/* Put a solid color box around each cell and its output, visually linking them*/\n",
       "div.cell.code_cell {\n",
       "    background-color: rgb(256,256,256);\n",
       "    border-radius: 0px;\n",
       "    padding: 0.5em;\n",
       "    margin-left:1em;\n",
       "    margin-top: 1em;\n",
       "}\n",
       "\n",
       "div.text_cell_render{\n",
       "    font-family: 'Alegreya Sans' sans-serif;\n",
       "    line-height: 140%;\n",
       "    font-size: 125%;\n",
       "    font-weight: 400;\n",
       "    width:800px;\n",
       "    margin-left:auto;\n",
       "    margin-right:auto;\n",
       "}\n",
       "\n",
       "\n",
       "/* Formatting for header cells */\n",
       ".text_cell_render h1 {\n",
       "    font-family: 'Nixie One', serif;\n",
       "    font-style:regular;\n",
       "    font-weight: 400;\n",
       "    font-size: 45pt;\n",
       "    line-height: 100%;\n",
       "    color: rgb(0,51,102);\n",
       "    margin-bottom: 0.5em;\n",
       "    margin-top: 0.5em;\n",
       "    display: block;\n",
       "}\n",
       "\n",
       ".text_cell_render h2 {\n",
       "    font-family: 'Nixie One', serif;\n",
       "    font-weight: 400;\n",
       "    font-size: 30pt;\n",
       "    line-height: 100%;\n",
       "    color: rgb(0,51,102);\n",
       "    margin-bottom: 0.1em;\n",
       "    margin-top: 0.3em;\n",
       "    display: block;\n",
       "}\n",
       "\n",
       ".text_cell_render h3 {\n",
       "    font-family: 'Nixie One', serif;\n",
       "    margin-top:16px;\n",
       "    font-size: 22pt;\n",
       "    font-weight: 600;\n",
       "    margin-bottom: 3px;\n",
       "    font-style: regular;\n",
       "    color: rgb(102,102,0);\n",
       "}\n",
       "\n",
       ".text_cell_render h4 {    /*Use this for captions*/\n",
       "    font-family: 'Nixie One', serif;\n",
       "    font-size: 14pt;\n",
       "    text-align: center;\n",
       "    margin-top: 0em;\n",
       "    margin-bottom: 2em;\n",
       "    font-style: regular;\n",
       "}\n",
       "\n",
       ".text_cell_render h5 {  /*Use this for small titles*/\n",
       "    font-family: 'Nixie One', sans-serif;\n",
       "    font-weight: 400;\n",
       "    font-size: 16pt;\n",
       "    color: rgb(163,0,0);\n",
       "    font-style: italic;\n",
       "    margin-bottom: .1em;\n",
       "    margin-top: 0.8em;\n",
       "    display: block;\n",
       "}\n",
       "\n",
       ".text_cell_render h6 { /*use this for copyright note*/\n",
       "    font-family: 'PT Mono', sans-serif;\n",
       "    font-weight: 300;\n",
       "    font-size: 9pt;\n",
       "    line-height: 100%;\n",
       "    color: grey;\n",
       "    margin-bottom: 1px;\n",
       "    margin-top: 1px;\n",
       "}\n",
       "\n",
       ".CodeMirror{\n",
       "    font-family: \"PT Mono\";\n",
       "    font-size: 90%;\n",
       "}\n",
       "\n",
       ".boxed { /* draw a border around a piece of text */\n",
       "  border: 1px solid blue ;\n",
       "}\n",
       "\n",
       "h4#CODE-EXAMPLE,\n",
       "h4#END-OF-CODE-EXAMPLE {\n",
       "    margin: 10px 0;\n",
       "    padding: 10px;\n",
       "    background-color: #d0f9ca !important;\n",
       "    border-top: #849f81 1px solid;\n",
       "    border-bottom: #849f81 1px solid;\n",
       "}\n",
       "\n",
       ".emphasis {\n",
       "    color: red;\n",
       "}\n",
       "\n",
       ".exercise {\n",
       "    color: green;\n",
       "}\n",
       "\n",
       ".proof {\n",
       "    color: blue;\n",
       "}\n",
       "\n",
       "code {\n",
       "  padding: 2px 4px !important;\n",
       "  font-size: 90% !important;\n",
       "  color: #222 !important;\n",
       "  background-color: #efefef !important;\n",
       "  border-radius: 2px !important;\n",
       "}\n",
       "\n",
       "/* This removes the actual style cells from the notebooks, but no in print mode\n",
       "   as they will be removed through some other method */\n",
       "@media not print {\n",
       "  .cell:nth-last-child(-n+2) {\n",
       "    display: none;\n",
       "  }\n",
       "}\n",
       "\n",
       "footer.hidden-print {\n",
       "    display: none !important;\n",
       "}\n",
       "    \n",
       "</style>\n",
       "\n",
       "<!-- MathJax styling -->\n",
       "<script>\n",
       "    MathJax.Hub.Config({\n",
       "                        CommonHTML: {\n",
       "                            scale: 200\n",
       "                        },\n",
       "                TeX: {\n",
       "                    extensions: [\"AMSmath.js\"],\n",
       "                    equationNumbers: { autoNumber: \"AMS\", useLabelIds: true}\n",
       "                },\n",
       "                tex2jax: {\n",
       "                    inlineMath: [ ['$','$'], [\"\\\\(\",\"\\\\)\"] ],\n",
       "                    displayMath: [ ['$$','$$'], [\"\\\\[\",\"\\\\]\"] ]\n",
       "                },\n",
       "                displayAlign: 'center', // Change this to 'center' to center equations.\n",
       "                \"HTML-CSS\": {\n",
       "                    styles: {'.MathJax_Display': {\"margin\": 4}}\n",
       "                }\n",
       "        });\n",
       "</script>\n"
      ]
     },
     "metadata": {},
     "output_type": "display_data"
    }
   ],
   "source": [
    "open(\"../../styles/aipstyle.html\") do f\n",
    "    display(\"text/html\", read(f, String))\n",
    "end\n"
   ]
  },
  {
   "cell_type": "markdown",
   "metadata": {},
   "source": []
  }
 ],
 "metadata": {
  "@webio": {
   "lastCommId": null,
   "lastKernelId": null
  },
  "anaconda-cloud": {},
  "celltoolbar": "Raw Cell Format",
  "kernelspec": {
   "display_name": "Julia 1.9.3",
   "language": "julia",
   "name": "julia-1.9"
  },
  "language_info": {
   "file_extension": ".jl",
   "mimetype": "application/julia",
   "name": "julia",
   "version": "1.9.3"
  }
 },
 "nbformat": 4,
 "nbformat_minor": 4
}
