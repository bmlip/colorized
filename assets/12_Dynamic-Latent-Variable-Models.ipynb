{
 "cells": [
  {
   "cell_type": "markdown",
   "metadata": {
    "slideshow": {
     "slide_type": "slide"
    }
   },
   "source": [
    "# Dynamic Latent Variable Models\n"
   ]
  },
  {
   "cell_type": "markdown",
   "metadata": {
    "slideshow": {
     "slide_type": "slide"
    }
   },
   "source": [
    "\n",
    "### Preliminaries\n",
    "\n",
    "- Goal \n",
    "  - Introduction to dynamic (=temporal) Latent Variable Models, including the Hidden Markov Model and Kalman filter.   \n",
    "- Materials\n",
    "  - Mandatory\n",
    "    - These lecture notes\n",
    "  - Optional \n",
    "    - Bishop pp.605-615 on Hidden Markov Models\n",
    "    - Bishop pp.635-641 on Kalman filters\n",
    "    - Faragher (2012), [Understanding the Basis of the Kalman Filter](./files/Faragher-2012-Understanding-the-Basis-of-the-Kalman-Filter.pdf)\n",
    "    - Minka (1999), [From Hidden Markov Models to Linear Dynamical Systems](./files/Minka-1999-from-HMM-to-LDS.pdf)\n",
    "      \n"
   ]
  },
  {
   "cell_type": "markdown",
   "metadata": {
    "slideshow": {
     "slide_type": "slide"
    }
   },
   "source": [
    "### Example Problem\n",
    "\n",
    "- <span class=\"exercise\">We consider a one-dimensional cart position tracking problem, see</span>  [Faragher 2012](./files/Faragher-2012-Understanding-the-Basis-of-the-Kalman-Filter.pdf).  \n",
    "\n",
    "- <span class=\"exercise\">The hidden states are the position $z_t$ and velocity $\\dot z_t$. We can apply an external acceleration/breaking force $u_t$. (Noisy) observations are represented by $x_t$.</span> \n",
    "\n",
    "- <span class=\"exercise\">The equations of motions are given by</span>\n",
    "\n",
    "$$\\begin{align*}\n",
    "\\begin{bmatrix} z_t \\\\ \\dot{z_t}\\end{bmatrix} &=  \\begin{bmatrix} 1 & \\Delta t \\\\ 0 & 1\\end{bmatrix} \\begin{bmatrix} z_{t-1} \\\\ \\dot z_{t-1}\\end{bmatrix} + \\begin{bmatrix} (\\Delta t)^2/2 \\\\ \\Delta t\\end{bmatrix} u_t + \\mathcal{N}(0,\\Sigma_z) \\\\\n",
    "x_t &= \\begin{bmatrix} z_t \\\\ \\dot{z_t}\\end{bmatrix} + \\mathcal{N}(0,\\Sigma_x) \n",
    "\\end{align*}$$\n",
    "\n",
    "- <span class=\"exercise\">Infer the position after 10 time steps.</span> \n",
    "\n",
    "<img src=\"./figures/Faragher-2012-cart-1.png\" width=\"600px\">\n"
   ]
  },
  {
   "cell_type": "markdown",
   "metadata": {
    "slideshow": {
     "slide_type": "slide"
    }
   },
   "source": [
    "### Dynamical Models\n",
    "\n",
    "<!--- - In this lesson, we consider models where the sequence order of observations matters. \n",
    "--->\n",
    "\n",
    "- Consider the _ordered_ observation sequence $x^T \\triangleq \\left(x_1,x_2,\\ldots,x_T\\right)$."
   ]
  },
  {
   "cell_type": "markdown",
   "metadata": {
    "slideshow": {
     "slide_type": "fragment"
    }
   },
   "source": [
    "- We wish to develop a generative model\n",
    "    $$ p( x^T \\,|\\, \\theta)$$\n",
    "that 'explains' the time series $x^T$."
   ]
  },
  {
   "cell_type": "markdown",
   "metadata": {
    "slideshow": {
     "slide_type": "fragment"
    }
   },
   "source": [
    "- We cannot use the IID assumption $p( x^T  | \\theta) = \\prod_t p(x_t \\,|\\, \\theta)$. In general, we _can_ use the [**chain rule**](https://en.wikipedia.org/wiki/Chain_rule_(probability) (a.k.a. the general product rule)\n",
    "\n",
    "$$\\begin{align*}\n",
    "p(x^T) &= p(x_T|x^{T-1}) \\,p(x^{T-1}) \\\\\n",
    "  &=  p(x_T|x^{T-1}) \\,p(x_{T-1}|x^{T-2}) \\cdots p(x_2|x_1)\\,p(x_1) \\\\\n",
    "  &= p(x_1)\\prod_{t=2}^T p(x_t\\,|\\,x^{t-1})\n",
    "\\end{align*}$$"
   ]
  },
  {
   "cell_type": "markdown",
   "metadata": {
    "slideshow": {
     "slide_type": "fragment"
    }
   },
   "source": [
    "- Generally, we will want to limit the depth of dependencies on previous observations. For example, the $M$th-order linear **Auto-Regressive** (AR) model\n",
    "    $$\\begin{align*}\n",
    "  p(x_t|x^{t-1}) = \\mathcal{N}\\left( \\sum_{m=1}^M a_m x_{t-m}\\,,\\sigma^2\\,\\right)  \n",
    "    \\end{align*}$$\n",
    "    limits the dependencies to the past $M$ samples."
   ]
  },
  {
   "cell_type": "markdown",
   "metadata": {
    "slideshow": {
     "slide_type": "slide"
    }
   },
   "source": [
    "### State-space Models\n",
    "\n",
    "- A limitation of AR models is that they need a lot of parameters in order to create a flexible model. E.g., if $x_t$ is an $K$-dimensional discrete variable, then an $M$th-order AR model will have $K^{M-1}(K-1)$ parameters. "
   ]
  },
  {
   "cell_type": "markdown",
   "metadata": {
    "slideshow": {
     "slide_type": "fragment"
    }
   },
   "source": [
    "- Similar to our work on Gaussian Mixture models and latent Factor models, we can create a flexible dynamic system by introducing _latent_ (unobserved) variables  $z^T \\triangleq \\left(z_1,z_2,\\dots,z_T\\right)$ (one $z_t$ for each observation $x_t$). In dynamic systems, the latent variables $z_t$ are usually called _state variables_."
   ]
  },
  {
   "cell_type": "markdown",
   "metadata": {
    "slideshow": {
     "slide_type": "fragment"
    }
   },
   "source": [
    "- A general **state space model** is defined by\n",
    "\n",
    "$$\\begin{align*}\n",
    "p&(z_t\\,|\\,z^{t-1}) \\tag{state transition model}  \\\\\n",
    "p&(x_t\\,|\\,z_t) \\tag{observation model}  \\\\\n",
    "p&(z_1) \\tag{initial state}\n",
    "\\end{align*}$$"
   ]
  },
  {
   "cell_type": "markdown",
   "metadata": {
    "slideshow": {
     "slide_type": "fragment"
    }
   },
   "source": [
    "- A very common computational assumption is to let state transitions be ruled by a _first-order Markov chain_ as\n",
    "$$\n",
    " p(z_t\\,|\\,z^{t-1}) = p(z_t\\,|\\,z_{t-1})\n",
    "$$"
   ]
  },
  {
   "cell_type": "markdown",
   "metadata": {
    "slideshow": {
     "slide_type": "subslide"
    }
   },
   "source": [
    "- The Markov assumption leads to the following joint probability distribution for the state-space model:\n",
    "$$\n",
    " p(x^T,z^T) = \\underbrace{p(z_1)}_{\\text{initial state}} \\prod_{t=2}^T \\underbrace{p(z_t\\,|\\,z_{t-1})}_{\\text{state transitions}}\\,\\prod_{t=1}^T \\underbrace{p(x_t\\,|\\,z_t)}_{\\text{observations}}\n",
    "$$"
   ]
  },
  {
   "cell_type": "markdown",
   "metadata": {
    "slideshow": {
     "slide_type": "fragment"
    }
   },
   "source": [
    "- The Forney-style factor graph for a state-space model:\n",
    "\n",
    "<img src=\"./figures/ffg-state-space.png\" width=\"600px\">"
   ]
  },
  {
   "cell_type": "markdown",
   "metadata": {
    "collapsed": true,
    "slideshow": {
     "slide_type": "fragment"
    }
   },
   "source": [
    "- <span class=\"exercise\">Exercise: Show that in a state-space model $x_t$ is not a first-order Markov chain in the observations, i.e., show that $$p(x_t\\,|\\,x_{t-1},x_{t-2}) \\neq p(x_t\\,|\\,x_{t-1})\\,.$$</span>"
   ]
  },
  {
   "cell_type": "markdown",
   "metadata": {
    "slideshow": {
     "slide_type": "slide"
    }
   },
   "source": [
    "### Hidden Markov Models and Linear Dynamical Systems\n",
    "\n",
    "- A **Hidden Markov Model** (HMM) is a state-space model with <span class=\"emphasis\">discrete-valued</span> state variables $Z_t$."
   ]
  },
  {
   "cell_type": "markdown",
   "metadata": {
    "slideshow": {
     "slide_type": "fragment"
    }
   },
   "source": [
    "- E.g., $Z_t$ is a $K$-dimensional hidden binary 'class indicator' with transition probabilities $A_{jk} \\triangleq p(z_{tk}=1\\,|\\,z_{t-1,j}=1)$, or equivalently\n",
    "  $$p(z_t|z_{t-1}) = \\prod_{k=1}^K \\prod_{j=1}^K A_{jk}^{z_{t-1,j}z_{tk}}$$\n",
    "which is usually accompanied by an initial state distribution $\\pi_k \\triangleq p(z_{1k}=1)$."
   ]
  },
  {
   "cell_type": "markdown",
   "metadata": {
    "slideshow": {
     "slide_type": "fragment"
    }
   },
   "source": [
    "  \n",
    "- The classical HMM has also discrete-valued observations but in pratice any (probabilistic) observation model $p(x_t|z_t)$ may be coupled to the hidden Markov chain. \n",
    "\n",
    "<!---\n",
    "- The following figure shows the typical trellis structure of the many possible state transitions paths.   \n",
    "<img src=\"./figures/Figure13.7.png\" width=\"400px\">\n",
    "--->"
   ]
  },
  {
   "cell_type": "markdown",
   "metadata": {
    "slideshow": {
     "slide_type": "fragment"
    }
   },
   "source": [
    "- Another well-known state-space model with <span class=\"emphasis\">continuous-valued</span> state variables $Z_t$ is the **(Linear) Gaussian Dynamical System** (LGDS), which is defined as\n",
    "\n",
    "$$\\begin{align*}\n",
    "p(z_t\\,|\\,z_{t-1}) &= \\mathcal{N}\\left(\\, A z_{t-1}\\,,\\,\\Sigma_z\\,\\right) \\\\ \n",
    "p(x_t\\,|\\,z_t) &= \\mathcal{N}\\left(\\, C z_t\\,,\\,\\Sigma_x\\,\\right) \\\\\n",
    "p(z_1) &= \\mathcal{N}\\left(\\, \\mu_1\\,,\\,\\Sigma_1\\,\\right)\n",
    "\\end{align*}$$\n",
    "<!---or, equivalently (in the usual state-space notation)\n",
    "$$\\begin{align*}\n",
    "z_k &= A z_{k-1} + \\mathcal{N}\\left(0,\\Sigma_z \\right) \\\\ \n",
    "x_k &= C z_k + \\mathcal{N}\\left( 0, \\Sigma_x \\right) \\\\\n",
    "z_1 &= \\mu_1 + \\mathcal{N}\\left( 0, \\Sigma_1\\right)\n",
    "\\end{align*}$$\n",
    "--->"
   ]
  },
  {
   "cell_type": "markdown",
   "metadata": {
    "slideshow": {
     "slide_type": "subslide"
    }
   },
   "source": [
    "- Note that the joint distribution over $\\{(x_1,z_1),\\ldots,(x_t,z_t)\\}$ is a (large-dimensional) Gaussian distribution. This means that, in principle, every inference problem on the LGDS model also leads to a Gaussian distribution."
   ]
  },
  {
   "cell_type": "markdown",
   "metadata": {
    "slideshow": {
     "slide_type": "fragment"
    }
   },
   "source": [
    "- HMM's and LGDS's (and variants thereof) are at the basis of a wide range of complex information processing systems, such as speech and language recognition, robotics and automatic car navigation, and even processing of DNA sequences.  "
   ]
  },
  {
   "cell_type": "markdown",
   "metadata": {
    "slideshow": {
     "slide_type": "slide"
    }
   },
   "source": [
    "### Kalman Filtering\n",
    "\n",
    "- Technically, a [**Kalman filter**](https://en.wikipedia.org/wiki/Kalman_filter) is the solution to the recursive estimation (inference) of the hidden state $z_t$ based on past observations in an LGDS, i.e., Kalman filtering solves the problem $p(z_t\\,|\\,x^t)$ based on the previous estimate $p(z_{t-1}\\,|\\,x^{t-1})$ and a new observation $x_t$ (in the context of the given model specification of course). \n",
    " "
   ]
  },
  {
   "cell_type": "markdown",
   "metadata": {
    "slideshow": {
     "slide_type": "fragment"
    }
   },
   "source": [
    " \n",
    "- Let's infer the Kalman filter for a scalar linear Gaussian dynamical system:\n",
    "$$\\begin{align*}\n",
    "    p(z_t\\,|\\,z_{t-1}) &= \\mathcal{N}(z_t\\,|\\,a z_{t-1},\\sigma_z^2) \\tag{state transition}   \\\\\n",
    "    p(x_t\\,|\\,z_t) &= \\mathcal{N}(x_t\\,|\\,c z_t,\\sigma_x^2) \\tag{observation}     \n",
    "\\end{align*}$$"
   ]
  },
  {
   "cell_type": "markdown",
   "metadata": {
    "slideshow": {
     "slide_type": "fragment"
    }
   },
   "source": [
    "        \n",
    "- Kalman filtering comprises inferring $p(z_t\\,|\\,x^t)$ from a given prior estimate $p(z_{t-1}\\,|\\,x^{t-1})$ and a new observation $x_t$. Let us assume that \n",
    "$$\\begin{align} \n",
    "p(z_{t-1}\\,|\\,x^{t-1}) = \\mathcal{N}(z_{t-1} \\,|\\, \\mu_{t-1}, \\sigma_{t-1}^2) \\tag{prior}\n",
    "\\end{align}$$ "
   ]
  },
  {
   "cell_type": "markdown",
   "metadata": {
    "slideshow": {
     "slide_type": "subslide"
    }
   },
   "source": [
    "- Note that everything is Gaussian, so this is _in principle_ possible to execute inference problems analytically and the result will be a Gaussian posterior:\n",
    "\n",
    "$$\\begin{align*}\n",
    "p(z_t\\,|\\,x^t) &= p(z_t\\,|\\,x_t,x^{t-1}) \\propto p(x_t,z_t\\,|\\,x^{t-1}) \\\\\n",
    "  &\\propto p(x_t\\,|\\,z_t) \\,p(z_t\\,|\\,x^{t-1}) \\\\\n",
    "  &= p(x_t\\,|\\,z_t) \\, \\sum_{z_{t-1}} p(z_t,z_{t-1}\\,|\\,x^{t-1}) \\\\\n",
    "  &= \\underbrace{p(x_t\\,|\\,z_t)}_{\\text{observation}} \\, \\sum_{z_{t-1}} \\underbrace{p(z_t\\,|\\,z_{t-1})}_{\\text{state transition}} \\, \\underbrace{p(z_{t-1}\\,|\\,x^{t-1})}_{\\text{prior}} \\\\\n",
    "  &= \\mathcal{N}(x_t\\,|\\,c z_t,\\sigma_x^2) \\sum_{z_{t-1}} \\mathcal{N}(z_t\\,|\\,a z_{t-1},\\sigma_z^2) \\, \\mathcal{N}(z_{t-1} \\,|\\, \\mu_{t-1}, \\sigma_{t-1}^2) \\\\\n",
    "  &\\propto \\mathcal{N}\\left(z_t\\,\\bigm| \\,\\frac{x_t}{c} ,\\left(\\frac{\\sigma_x}{c}\\right)^2\\right) \\times \\mathcal{N}\\left(z_t\\, \\bigm|\\,a \\mu_{t-1},\\sigma_z^2 + \\left(a \\sigma_{t-1}\\right)^2 \\right) \\\\\n",
    "  &= \\mathcal{N}\\left( z_t \\,|\\, \\mu_t, \\sigma_t^2\\right)\n",
    "\\end{align*}$$\n",
    "with\n",
    "$$\\begin{align*}\n",
    "  \\rho_t^2 &= \\sigma_z^2 + a^2 \\sigma_{t-1}^2 \\tag{auxiliary variable}\\\\\n",
    "  K_t &= \\frac{c \\rho_t^2}{c^2 \\rho_t^2 + \\sigma_x^2} \\tag{'Kalman gain'} \\\\\n",
    "  \\mu_t &= a \\mu_{t-1} + K_t \\cdot \\left( x_t - c a \\mu_{t-1}\\right) \\tag{posterior mean}\\\\\n",
    "  \\sigma_t^2 &= \\left( 1 - K_t \\right) \\rho_t^2 \\tag{posterior variance}\n",
    "\\end{align*}$$"
   ]
  },
  {
   "cell_type": "markdown",
   "metadata": {
    "slideshow": {
     "slide_type": "subslide"
    }
   },
   "source": [
    "- Kalman filtering consists of computing these four equations for each new observation ($x_t$). "
   ]
  },
  {
   "cell_type": "markdown",
   "metadata": {
    "slideshow": {
     "slide_type": "fragment"
    }
   },
   "source": [
    "- In short, it is possible to analytically derive the Kalman filter for a linear dynamical system with Gaussian state and observation noise (eventhough it is not a fun exercise). "
   ]
  },
  {
   "cell_type": "markdown",
   "metadata": {
    "slideshow": {
     "slide_type": "fragment"
    }
   },
   "source": [
    "- If anything changes in the model, e.g., the state noise is not Gaussian, then you have to re-derive the inference equations again from scratch and it may not lead to an analytically pleasing answer. "
   ]
  },
  {
   "cell_type": "markdown",
   "metadata": {
    "slideshow": {
     "slide_type": "fragment"
    }
   },
   "source": [
    "- $\\Rightarrow$ Generally, we will want to automate the inference process. "
   ]
  },
  {
   "cell_type": "markdown",
   "metadata": {
    "slideshow": {
     "slide_type": "slide"
    }
   },
   "source": [
    "### Message Passing in State-space Models\n",
    "\n",
    "- Once the (state-space) models have been specified, we can define state and parameter estimation problems as inference tasks on the generative model. "
   ]
  },
  {
   "cell_type": "markdown",
   "metadata": {
    "slideshow": {
     "slide_type": "fragment"
    }
   },
   "source": [
    "- In principle, for linear Gaussian models these inference tasks can be analytically solved, see e.g. [Faragher, 2012](./files/Faragher-2012-Understanding-the-Basis-of-the-Kalman-Filter.pdf) \n",
    "  - These derivations quickly become quite laborious  "
   ]
  },
  {
   "cell_type": "markdown",
   "metadata": {
    "slideshow": {
     "slide_type": "fragment"
    }
   },
   "source": [
    "- Alternatively, we could specify the generative model in a (Forney-style) factor graph and use automated message passing to infer the posterior over the hidden variables. E.g., the message passing schedule for Kalman filtering looks like this: \n",
    "\n",
    "<img src=\"./figures/ffg-state-space-with-state-estimation.png\" width=\"600\">"
   ]
  },
  {
   "cell_type": "markdown",
   "metadata": {
    "slideshow": {
     "slide_type": "slide"
    }
   },
   "source": [
    "### Example Problem Revisited\n",
    "\n",
    "We can solve the cart tracking problem by sum-product message passing in a factor graph like the one depicted above. All we have to do is create factor nodes for the state-transition model $p(z_t|z_{t-1})$ and the observation model $p(x_t|z_t)$. Then we just build the factor graph and let ForneyLab (factor graph toolbox) perform message passing. \n",
    "\n",
    "We'll implement the following model:\n",
    "\n",
    "$$\\begin{align*}\n",
    "\\begin{bmatrix} z_t \\\\ \\dot{z_t}\\end{bmatrix} &=  \\begin{bmatrix} 1 & \\Delta t \\\\ 0 & 1\\end{bmatrix} \\begin{bmatrix} z_{t-1} \\\\ \\dot z_{t-1}\\end{bmatrix} + \\begin{bmatrix} (\\Delta t)^2/2 \\\\ \\Delta t\\end{bmatrix} u_t + \\mathcal{N}(0,\\Sigma_z) \\\\\n",
    "\\mathbf{x}_t &= \\begin{bmatrix} z_t \\\\ \\dot{z_t}\\end{bmatrix} + \\mathcal{N}(0,\\Sigma_x)\n",
    "\\end{align*}$$"
   ]
  },
  {
   "cell_type": "code",
   "execution_count": 1,
   "metadata": {
    "slideshow": {
     "slide_type": "subslide"
    }
   },
   "outputs": [],
   "source": [
    "using LinearAlgebra, ForneyLab\n",
    "include(\"scripts/cart_tracking_helpers.jl\") # implements required factor nodes + helper functions\n",
    "\n",
    "# Specify the model parameters\n",
    "Δt = 1.0                     # assume the time steps to be equal in size\n",
    "A = [1.0 Δt;\n",
    "     0.0 1.0]\n",
    "b = [0.5*Δt^2; Δt] \n",
    "Σz = convert(Matrix,Diagonal([0.2*Δt; 0.1*Δt])) # process noise covariance\n",
    "Σx = convert(Matrix,Diagonal([1.0; 2.0]))     # observation noise covariance;\n",
    "\n",
    "# Generate noisy observations\n",
    "n = 10                # perform 10 timesteps\n",
    "z_start = [10.0; 2.0] # initial state\n",
    "u = 0.2 * ones(n)     # constant input u\n",
    "noisy_x = generateNoisyMeasurements(z_start, u, A, b, Σz, Σx);"
   ]
  },
  {
   "cell_type": "markdown",
   "metadata": {
    "slideshow": {
     "slide_type": "slide"
    }
   },
   "source": [
    "Since the factor graph is just a concatination of $n$ identical \"sections\", we only have to specify a single section. When running the message passing algorithm we will explictly use the posterior of the previous timestep as prior in the next one. Let's build a section of the factor graph:"
   ]
  },
  {
   "cell_type": "code",
   "execution_count": 2,
   "metadata": {
    "slideshow": {
     "slide_type": "fragment"
    }
   },
   "outputs": [
    {
     "data": {
      "text/html": [
       "<?xml version=\"1.0\" encoding=\"UTF-8\" standalone=\"no\"?>\n",
       "<!DOCTYPE svg PUBLIC \"-//W3C//DTD SVG 1.1//EN\"\n",
       " \"http://www.w3.org/Graphics/SVG/1.1/DTD/svg11.dtd\">\n",
       "<!-- Generated by graphviz version 2.40.1 (20161225.0304)\n",
       " -->\n",
       "<!-- Title: G Pages: 1 -->\n",
       "<svg width=\"620pt\" height=\"740pt\"\n",
       " viewBox=\"0.00 0.00 620.23 740.00\" xmlns=\"http://www.w3.org/2000/svg\" xmlns:xlink=\"http://www.w3.org/1999/xlink\">\n",
       "<g id=\"graph0\" class=\"graph\" transform=\"scale(1 1) rotate(0) translate(4 736)\">\n",
       "<title>G</title>\n",
       "<polygon fill=\"#ffffff\" stroke=\"transparent\" points=\"-4,4 -4,-736 616.2346,-736 616.2346,4 -4,4\"/>\n",
       "<!-- 14514143588535482192 -->\n",
       "<g id=\"node1\" class=\"node\">\n",
       "<title>14514143588535482192</title>\n",
       "<polygon fill=\"none\" stroke=\"#000000\" points=\"246.4568,-402 140.5359,-402 140.5359,-330 246.4568,-330 246.4568,-402\"/>\n",
       "<text text-anchor=\"middle\" x=\"193.4963\" y=\"-370.095\" font-family=\"Times,serif\" font-size=\"9.00\" fill=\"#000000\">𝒩</text>\n",
       "<text text-anchor=\"middle\" x=\"193.4963\" y=\"-356.505\" font-family=\"Times,serif\" font-size=\"9.00\" fill=\"#000000\">gaussianmeanvariance_1</text>\n",
       "</g>\n",
       "<!-- 519472316358216075 -->\n",
       "<g id=\"node11\" class=\"node\">\n",
       "<title>519472316358216075</title>\n",
       "<polygon fill=\"#d3d3d3\" stroke=\"#000000\" points=\"54.989,-277 .0037,-277 .0037,-223 54.989,-223 54.989,-277\"/>\n",
       "<text text-anchor=\"middle\" x=\"27.4963\" y=\"-247.3\" font-family=\"Times,serif\" font-size=\"9.00\" fill=\"#000000\">noise_z_m</text>\n",
       "</g>\n",
       "<!-- 14514143588535482192&#45;&#45;519472316358216075 -->\n",
       "<g id=\"edge10\" class=\"edge\">\n",
       "<title>14514143588535482192&#45;&#45;519472316358216075</title>\n",
       "<path fill=\"none\" stroke=\"#000000\" d=\"M141.8828,-329.9327C113.3303,-309.9804 78.9663,-285.9669 55.4038,-269.5016\"/>\n",
       "<text text-anchor=\"start\" x=\"115.4963\" y=\"-305.6\" font-family=\"Times,serif\" font-size=\"8.00\" fill=\"#ff0000\">noise_z_m</text>\n",
       "<text text-anchor=\"start\" x=\"55.4038\" y=\"-271.1016\" font-family=\"Times,serif\" font-size=\"8.00\" fill=\"#000000\">1 out </text>\n",
       "<text text-anchor=\"start\" x=\"127.6602\" y=\"-323.5327\" font-family=\"Times,serif\" font-size=\"8.00\" fill=\"#000000\">2 m </text>\n",
       "</g>\n",
       "<!-- 17518728076808474908 -->\n",
       "<g id=\"node12\" class=\"node\">\n",
       "<title>17518728076808474908</title>\n",
       "<polygon fill=\"#d3d3d3\" stroke=\"#000000\" points=\"223.4963,-277 169.4963,-277 169.4963,-223 223.4963,-223 223.4963,-277\"/>\n",
       "<text text-anchor=\"middle\" x=\"196.4963\" y=\"-247.3\" font-family=\"Times,serif\" font-size=\"9.00\" fill=\"#000000\">noise_z_v</text>\n",
       "</g>\n",
       "<!-- 14514143588535482192&#45;&#45;17518728076808474908 -->\n",
       "<g id=\"edge3\" class=\"edge\">\n",
       "<title>14514143588535482192&#45;&#45;17518728076808474908</title>\n",
       "<path fill=\"none\" stroke=\"#000000\" d=\"M194.4291,-329.9327C194.8694,-312.9067 195.3862,-292.9235 195.793,-277.1968\"/>\n",
       "<text text-anchor=\"start\" x=\"195.4963\" y=\"-305.6\" font-family=\"Times,serif\" font-size=\"8.00\" fill=\"#ff0000\">noise_z_v</text>\n",
       "<text text-anchor=\"start\" x=\"177.5703\" y=\"-278.7968\" font-family=\"Times,serif\" font-size=\"8.00\" fill=\"#000000\">1 out </text>\n",
       "<text text-anchor=\"start\" x=\"182.4291\" y=\"-323.5327\" font-family=\"Times,serif\" font-size=\"8.00\" fill=\"#000000\">3 v </text>\n",
       "</g>\n",
       "<!-- 5496899178291509566 -->\n",
       "<g id=\"node2\" class=\"node\">\n",
       "<title>5496899178291509566</title>\n",
       "<polygon fill=\"none\" stroke=\"#000000\" points=\"331.4963,-518 259.4963,-518 259.4963,-446 331.4963,-446 331.4963,-518\"/>\n",
       "<text text-anchor=\"middle\" x=\"295.4963\" y=\"-483.8\" font-family=\"Times,serif\" font-size=\"9.00\" fill=\"#000000\">+</text>\n",
       "<text text-anchor=\"middle\" x=\"295.4963\" y=\"-474.8\" font-family=\"Times,serif\" font-size=\"9.00\" fill=\"#000000\">addition_2</text>\n",
       "</g>\n",
       "<!-- 5496899178291509566&#45;&#45;14514143588535482192 -->\n",
       "<g id=\"edge11\" class=\"edge\">\n",
       "<title>5496899178291509566&#45;&#45;14514143588535482192</title>\n",
       "<path fill=\"none\" stroke=\"#000000\" d=\"M263.782,-445.9327C251.501,-431.9661 237.4702,-416.0095 225.191,-402.045\"/>\n",
       "<text text-anchor=\"start\" x=\"248.4963\" y=\"-421.6\" font-family=\"Times,serif\" font-size=\"8.00\" fill=\"#ff0000\">noise_z</text>\n",
       "<text text-anchor=\"start\" x=\"206.9684\" y=\"-403.645\" font-family=\"Times,serif\" font-size=\"8.00\" fill=\"#000000\">1 out </text>\n",
       "<text text-anchor=\"start\" x=\"245.5594\" y=\"-439.5327\" font-family=\"Times,serif\" font-size=\"8.00\" fill=\"#000000\">3 in2 </text>\n",
       "</g>\n",
       "<!-- 5647946529561324106 -->\n",
       "<g id=\"node14\" class=\"node\">\n",
       "<title>5647946529561324106</title>\n",
       "<polygon fill=\"none\" stroke=\"#000000\" points=\"433.4963,-402 361.4963,-402 361.4963,-330 433.4963,-330 433.4963,-402\"/>\n",
       "<text text-anchor=\"middle\" x=\"397.4963\" y=\"-367.8\" font-family=\"Times,serif\" font-size=\"9.00\" fill=\"#000000\">+</text>\n",
       "<text text-anchor=\"middle\" x=\"397.4963\" y=\"-358.8\" font-family=\"Times,serif\" font-size=\"9.00\" fill=\"#000000\">addition_1</text>\n",
       "</g>\n",
       "<!-- 5496899178291509566&#45;&#45;5647946529561324106 -->\n",
       "<g id=\"edge1\" class=\"edge\">\n",
       "<title>5496899178291509566&#45;&#45;5647946529561324106</title>\n",
       "<path fill=\"none\" stroke=\"#000000\" d=\"M327.2107,-445.9327C339.4917,-431.9661 353.5225,-416.0095 365.8016,-402.045\"/>\n",
       "<text text-anchor=\"start\" x=\"350.4963\" y=\"-421.6\" font-family=\"Times,serif\" font-size=\"8.00\" fill=\"#ff0000\">variable_2</text>\n",
       "<text text-anchor=\"start\" x=\"347.579\" y=\"-403.645\" font-family=\"Times,serif\" font-size=\"8.00\" fill=\"#000000\">1 out </text>\n",
       "<text text-anchor=\"start\" x=\"308.988\" y=\"-439.5327\" font-family=\"Times,serif\" font-size=\"8.00\" fill=\"#000000\">2 in1 </text>\n",
       "</g>\n",
       "<!-- 10859805943852500269 -->\n",
       "<g id=\"node3\" class=\"node\">\n",
       "<title>10859805943852500269</title>\n",
       "<polygon fill=\"none\" stroke=\"#000000\" points=\"437.4568,-634 331.5359,-634 331.5359,-562 437.4568,-562 437.4568,-634\"/>\n",
       "<text text-anchor=\"middle\" x=\"384.4963\" y=\"-602.095\" font-family=\"Times,serif\" font-size=\"9.00\" fill=\"#000000\">𝒩</text>\n",
       "<text text-anchor=\"middle\" x=\"384.4963\" y=\"-588.505\" font-family=\"Times,serif\" font-size=\"9.00\" fill=\"#000000\">gaussianmeanvariance_2</text>\n",
       "</g>\n",
       "<!-- 10859805943852500269&#45;&#45;5496899178291509566 -->\n",
       "<g id=\"edge12\" class=\"edge\">\n",
       "<title>10859805943852500269&#45;&#45;5496899178291509566</title>\n",
       "<path fill=\"none\" stroke=\"#000000\" d=\"M356.824,-561.9327C346.1082,-547.9661 333.8657,-532.0095 323.1515,-518.045\"/>\n",
       "<text text-anchor=\"start\" x=\"343.4963\" y=\"-537.6\" font-family=\"Times,serif\" font-size=\"8.00\" fill=\"#ff0000\">z</text>\n",
       "<text text-anchor=\"start\" x=\"304.9289\" y=\"-519.645\" font-family=\"Times,serif\" font-size=\"8.00\" fill=\"#000000\">1 out </text>\n",
       "<text text-anchor=\"start\" x=\"342.6014\" y=\"-555.5327\" font-family=\"Times,serif\" font-size=\"8.00\" fill=\"#000000\">2 m </text>\n",
       "</g>\n",
       "<!-- 14423179331335497143 -->\n",
       "<g id=\"node9\" class=\"node\">\n",
       "<title>14423179331335497143</title>\n",
       "<polygon fill=\"#d3d3d3\" stroke=\"#000000\" points=\"500.4963,-509 446.4963,-509 446.4963,-455 500.4963,-455 500.4963,-509\"/>\n",
       "<text text-anchor=\"middle\" x=\"473.4963\" y=\"-479.3\" font-family=\"Times,serif\" font-size=\"9.00\" fill=\"#000000\">Σx</text>\n",
       "</g>\n",
       "<!-- 10859805943852500269&#45;&#45;14423179331335497143 -->\n",
       "<g id=\"edge8\" class=\"edge\">\n",
       "<title>10859805943852500269&#45;&#45;14423179331335497143</title>\n",
       "<path fill=\"none\" stroke=\"#000000\" d=\"M412.1686,-561.9327C425.2317,-544.9067 440.5636,-524.9235 452.6298,-509.1968\"/>\n",
       "<text text-anchor=\"start\" x=\"432.4963\" y=\"-537.6\" font-family=\"Times,serif\" font-size=\"8.00\" fill=\"#ff0000\">Σx</text>\n",
       "<text text-anchor=\"start\" x=\"434.4071\" y=\"-510.7968\" font-family=\"Times,serif\" font-size=\"8.00\" fill=\"#000000\">1 out </text>\n",
       "<text text-anchor=\"start\" x=\"400.1686\" y=\"-555.5327\" font-family=\"Times,serif\" font-size=\"8.00\" fill=\"#000000\">3 v </text>\n",
       "</g>\n",
       "<!-- 5567694760647582460 -->\n",
       "<g id=\"node4\" class=\"node\">\n",
       "<title>5567694760647582460</title>\n",
       "<polygon fill=\"#d3d3d3\" stroke=\"#000000\" points=\"417.9729,-732 351.0198,-732 351.0198,-678 417.9729,-678 417.9729,-732\"/>\n",
       "<text text-anchor=\"middle\" x=\"384.4963\" y=\"-702.3\" font-family=\"Times,serif\" font-size=\"9.00\" fill=\"#000000\">placeholder_x</text>\n",
       "</g>\n",
       "<!-- 5567694760647582460&#45;&#45;10859805943852500269 -->\n",
       "<g id=\"edge2\" class=\"edge\">\n",
       "<title>5567694760647582460&#45;&#45;10859805943852500269</title>\n",
       "<path fill=\"none\" stroke=\"#000000\" d=\"M384.4963,-677.9994C384.4963,-664.7507 384.4963,-648.6013 384.4963,-634.2906\"/>\n",
       "<text text-anchor=\"start\" x=\"384.4963\" y=\"-653.6\" font-family=\"Times,serif\" font-size=\"8.00\" fill=\"#ff0000\">x</text>\n",
       "<text text-anchor=\"start\" x=\"366.2737\" y=\"-635.8906\" font-family=\"Times,serif\" font-size=\"8.00\" fill=\"#000000\">1 out </text>\n",
       "<text text-anchor=\"start\" x=\"366.2737\" y=\"-671.5994\" font-family=\"Times,serif\" font-size=\"8.00\" fill=\"#000000\">1 out </text>\n",
       "</g>\n",
       "<!-- 13586580351003723653 -->\n",
       "<g id=\"node5\" class=\"node\">\n",
       "<title>13586580351003723653</title>\n",
       "<polygon fill=\"none\" stroke=\"#000000\" points=\"326.4963,-170 254.4963,-170 254.4963,-98 326.4963,-98 326.4963,-170\"/>\n",
       "<text text-anchor=\"middle\" x=\"290.4963\" y=\"-138.095\" font-family=\"Times,serif\" font-size=\"9.00\" fill=\"#000000\">𝒩</text>\n",
       "<text text-anchor=\"middle\" x=\"290.4963\" y=\"-124.505\" font-family=\"Times,serif\" font-size=\"9.00\" fill=\"#000000\">z_prev</text>\n",
       "</g>\n",
       "<!-- 14839224771318985062 -->\n",
       "<g id=\"node10\" class=\"node\">\n",
       "<title>14839224771318985062</title>\n",
       "<polygon fill=\"#d3d3d3\" stroke=\"#000000\" points=\"233.9608,-54 135.0319,-54 135.0319,0 233.9608,0 233.9608,-54\"/>\n",
       "<text text-anchor=\"middle\" x=\"184.4963\" y=\"-24.3\" font-family=\"Times,serif\" font-size=\"9.00\" fill=\"#000000\">placeholder_z_prev_m</text>\n",
       "</g>\n",
       "<!-- 13586580351003723653&#45;&#45;14839224771318985062 -->\n",
       "<g id=\"edge13\" class=\"edge\">\n",
       "<title>13586580351003723653&#45;&#45;14839224771318985062</title>\n",
       "<path fill=\"none\" stroke=\"#000000\" d=\"M254.6096,-97.7747C240.4351,-83.4665 224.4312,-67.3116 211.296,-54.0525\"/>\n",
       "<text text-anchor=\"start\" x=\"234.4963\" y=\"-73.6\" font-family=\"Times,serif\" font-size=\"8.00\" fill=\"#ff0000\">z_prev_m</text>\n",
       "<text text-anchor=\"start\" x=\"193.0733\" y=\"-55.6525\" font-family=\"Times,serif\" font-size=\"8.00\" fill=\"#000000\">1 out </text>\n",
       "<text text-anchor=\"start\" x=\"240.3869\" y=\"-91.3747\" font-family=\"Times,serif\" font-size=\"8.00\" fill=\"#000000\">2 m </text>\n",
       "</g>\n",
       "<!-- 6805235037344006690 -->\n",
       "<g id=\"node13\" class=\"node\">\n",
       "<title>6805235037344006690</title>\n",
       "<polygon fill=\"#d3d3d3\" stroke=\"#000000\" points=\"444.4592,-54 348.5334,-54 348.5334,0 444.4592,0 444.4592,-54\"/>\n",
       "<text text-anchor=\"middle\" x=\"396.4963\" y=\"-24.3\" font-family=\"Times,serif\" font-size=\"9.00\" fill=\"#000000\">placeholder_z_prev_v</text>\n",
       "</g>\n",
       "<!-- 13586580351003723653&#45;&#45;6805235037344006690 -->\n",
       "<g id=\"edge6\" class=\"edge\">\n",
       "<title>13586580351003723653&#45;&#45;6805235037344006690</title>\n",
       "<path fill=\"none\" stroke=\"#000000\" d=\"M326.3831,-97.7747C340.5576,-83.4665 356.5615,-67.3116 369.6967,-54.0525\"/>\n",
       "<text text-anchor=\"start\" x=\"350.4963\" y=\"-73.6\" font-family=\"Times,serif\" font-size=\"8.00\" fill=\"#ff0000\">z_prev_v</text>\n",
       "<text text-anchor=\"start\" x=\"351.474\" y=\"-55.6525\" font-family=\"Times,serif\" font-size=\"8.00\" fill=\"#000000\">1 out </text>\n",
       "<text text-anchor=\"start\" x=\"314.3831\" y=\"-91.3747\" font-family=\"Times,serif\" font-size=\"8.00\" fill=\"#000000\">3 v </text>\n",
       "</g>\n",
       "<!-- 10246347741739805229 -->\n",
       "<g id=\"node6\" class=\"node\">\n",
       "<title>10246347741739805229</title>\n",
       "<polygon fill=\"none\" stroke=\"#000000\" points=\"426.4911,-286 350.5016,-286 350.5016,-214 426.4911,-214 426.4911,-286\"/>\n",
       "<text text-anchor=\"middle\" x=\"388.4963\" y=\"-251.8\" font-family=\"Times,serif\" font-size=\"9.00\" fill=\"#000000\">×</text>\n",
       "<text text-anchor=\"middle\" x=\"388.4963\" y=\"-242.8\" font-family=\"Times,serif\" font-size=\"9.00\" fill=\"#000000\">multiplication_1</text>\n",
       "</g>\n",
       "<!-- 10246347741739805229&#45;&#45;13586580351003723653 -->\n",
       "<g id=\"edge5\" class=\"edge\">\n",
       "<title>10246347741739805229&#45;&#45;13586580351003723653</title>\n",
       "<path fill=\"none\" stroke=\"#000000\" d=\"M358.0257,-213.9327C346.2263,-199.9661 332.7457,-184.0095 320.9481,-170.045\"/>\n",
       "<text text-anchor=\"start\" x=\"342.4963\" y=\"-189.6\" font-family=\"Times,serif\" font-size=\"8.00\" fill=\"#ff0000\">z_prev</text>\n",
       "<text text-anchor=\"start\" x=\"302.7255\" y=\"-171.645\" font-family=\"Times,serif\" font-size=\"8.00\" fill=\"#000000\">1 out </text>\n",
       "<text text-anchor=\"start\" x=\"339.8031\" y=\"-207.5327\" font-family=\"Times,serif\" font-size=\"8.00\" fill=\"#000000\">2 in1 </text>\n",
       "</g>\n",
       "<!-- 15505588256183928056 -->\n",
       "<g id=\"node8\" class=\"node\">\n",
       "<title>15505588256183928056</title>\n",
       "<polygon fill=\"#d3d3d3\" stroke=\"#000000\" points=\"495.4963,-161 441.4963,-161 441.4963,-107 495.4963,-107 495.4963,-161\"/>\n",
       "<text text-anchor=\"middle\" x=\"468.4963\" y=\"-131.3\" font-family=\"Times,serif\" font-size=\"9.00\" fill=\"#000000\">A</text>\n",
       "</g>\n",
       "<!-- 10246347741739805229&#45;&#45;15505588256183928056 -->\n",
       "<g id=\"edge7\" class=\"edge\">\n",
       "<title>10246347741739805229&#45;&#45;15505588256183928056</title>\n",
       "<path fill=\"none\" stroke=\"#000000\" d=\"M413.3703,-213.9327C425.1124,-196.9067 438.8939,-176.9235 449.7399,-161.1968\"/>\n",
       "<text text-anchor=\"start\" x=\"431.4963\" y=\"-189.6\" font-family=\"Times,serif\" font-size=\"8.00\" fill=\"#ff0000\">A</text>\n",
       "<text text-anchor=\"start\" x=\"431.5172\" y=\"-162.7968\" font-family=\"Times,serif\" font-size=\"8.00\" fill=\"#000000\">1 out </text>\n",
       "<text text-anchor=\"start\" x=\"401.8195\" y=\"-207.5327\" font-family=\"Times,serif\" font-size=\"8.00\" fill=\"#000000\">3 a </text>\n",
       "</g>\n",
       "<!-- 5167417273334861810 -->\n",
       "<g id=\"node7\" class=\"node\">\n",
       "<title>5167417273334861810</title>\n",
       "<polygon fill=\"#d3d3d3\" stroke=\"#000000\" points=\"612.4745,-277 540.5182,-277 540.5182,-223 612.4745,-223 612.4745,-277\"/>\n",
       "<text text-anchor=\"middle\" x=\"576.4963\" y=\"-247.3\" font-family=\"Times,serif\" font-size=\"9.00\" fill=\"#000000\">placeholder_bu</text>\n",
       "</g>\n",
       "<!-- 5647946529561324106&#45;&#45;10246347741739805229 -->\n",
       "<g id=\"edge9\" class=\"edge\">\n",
       "<title>5647946529561324106&#45;&#45;10246347741739805229</title>\n",
       "<path fill=\"none\" stroke=\"#000000\" d=\"M394.698,-329.9327C393.6144,-315.9661 392.3764,-300.0095 391.2929,-286.045\"/>\n",
       "<text text-anchor=\"start\" x=\"393.4963\" y=\"-305.6\" font-family=\"Times,serif\" font-size=\"8.00\" fill=\"#ff0000\">variable_1</text>\n",
       "<text text-anchor=\"start\" x=\"373.0703\" y=\"-287.645\" font-family=\"Times,serif\" font-size=\"8.00\" fill=\"#000000\">1 out </text>\n",
       "<text text-anchor=\"start\" x=\"376.4754\" y=\"-323.5327\" font-family=\"Times,serif\" font-size=\"8.00\" fill=\"#000000\">2 in1 </text>\n",
       "</g>\n",
       "<!-- 5647946529561324106&#45;&#45;5167417273334861810 -->\n",
       "<g id=\"edge4\" class=\"edge\">\n",
       "<title>5647946529561324106&#45;&#45;5167417273334861810</title>\n",
       "<path fill=\"none\" stroke=\"#000000\" d=\"M433.7197,-342.5257C464.8775,-322.334 509.5798,-293.3649 540.6328,-273.2412\"/>\n",
       "<text text-anchor=\"start\" x=\"492.4963\" y=\"-305.6\" font-family=\"Times,serif\" font-size=\"8.00\" fill=\"#ff0000\">bu</text>\n",
       "<text text-anchor=\"start\" x=\"522.4101\" y=\"-274.8412\" font-family=\"Times,serif\" font-size=\"8.00\" fill=\"#000000\">1 out </text>\n",
       "<text text-anchor=\"start\" x=\"433.7197\" y=\"-344.1257\" font-family=\"Times,serif\" font-size=\"8.00\" fill=\"#000000\">3 in2 </text>\n",
       "</g>\n",
       "</g>\n",
       "</svg>\n"
      ]
     },
     "metadata": {},
     "output_type": "display_data"
    }
   ],
   "source": [
    "\n",
    "\n",
    "fg = FactorGraph()\n",
    "z_prev_m = Variable(id=:z_prev_m); placeholder(z_prev_m, :z_prev_m, dims=(2,))\n",
    "z_prev_v = Variable(id=:z_prev_v); placeholder(z_prev_v, :z_prev_v, dims=(2,2))\n",
    "bu = Variable(id=:bu); placeholder(bu, :bu, dims=(2,))\n",
    "\n",
    "@RV z_prev ~ GaussianMeanVariance(z_prev_m, z_prev_v, id=:z_prev) # p(z_prev)\n",
    "@RV noise_z ~ GaussianMeanVariance(constant(zeros(2), id=:noise_z_m), constant(Σz, id=:noise_z_v)) # process noise\n",
    "@RV z = constant(A, id=:A) * z_prev + bu + noise_z; z.id = :z # p(z|z_prev) (state transition model)\n",
    "@RV x ~ GaussianMeanVariance(z, constant(Σx, id=:Σx)) # p(x|z) (observation model)\n",
    "placeholder(x, :x, dims=(2,));\n",
    "ForneyLab.draw(fg)"
   ]
  },
  {
   "cell_type": "markdown",
   "metadata": {
    "slideshow": {
     "slide_type": "slide"
    }
   },
   "source": [
    "Now that we've built the factor graph, we can perform Kalman filtering by inserting measurement data into the factor graph and performing message passing."
   ]
  },
  {
   "cell_type": "code",
   "execution_count": 3,
   "metadata": {
    "slideshow": {
     "slide_type": "fragment"
    }
   },
   "outputs": [
    {
     "data": {
      "image/png": "[encoded data removed]",
      "text/plain": [
       "Figure(PyObject <Figure size 1500x500 with 1 Axes>)"
      ]
     },
     "metadata": {},
     "output_type": "display_data"
    }
   ],
   "source": [
    "include(\"scripts/cart_tracking_helpers.jl\")\n",
    "eval(Meta.parse(sumProductAlgorithm(z))) # build message passing algorithm\n",
    "marginals = Dict()\n",
    "messages = Array{Message}(undef,6)\n",
    "data = Dict(:x => noisy_x[1], :bu => b*u[1], :z_prev_m => zeros(2), :z_prev_v => 1e8*Diagonal(I,2))\n",
    "for t=1:n\n",
    "    step!(data, marginals, messages) # perform msg passing (single timestep)\n",
    "    # Posterior of z becomes prior of z in the next timestep:\n",
    "#     ForneyLab.ensureParameters!(marginals[:z], (:m, :v))\n",
    "    data[:z_prev_m] = ForneyLab.unsafeMean(marginals[:z])\n",
    "    data[:z_prev_v] = ForneyLab.unsafeCov(marginals[:z])\n",
    "end\n",
    "\n",
    "# Collect prediction p(z[n]|z[n-1]), measurement p(z[n]|x[n]), corrected prediction p(z[n]|z[n-1],x[n])\n",
    "prediction      = messages[5].dist # the message index is found by manual inspection of the schedule\n",
    "measurement     = messages[6].dist\n",
    "corr_prediction = convert(ProbabilityDistribution{Multivariate, GaussianMeanVariance}, marginals[:z])\n",
    "\n",
    "# Make a fancy plot of the prediction, noisy measurement, and corrected prediction after n timesteps\n",
    "plotCartPrediction(prediction, measurement, corr_prediction);"
   ]
  },
  {
   "cell_type": "markdown",
   "metadata": {
    "slideshow": {
     "slide_type": "slide"
    }
   },
   "source": [
    "### Extensions\n",
    "\n",
    "<img src=\"./figures/fig-generative-Gaussian-models.png\" width=\"550px\">"
   ]
  },
  {
   "cell_type": "code",
   "execution_count": 4,
   "metadata": {
    "slideshow": {
     "slide_type": "skip"
    }
   },
   "outputs": [
    {
     "data": {
      "text/html": [
       "<!--\n",
       "This HTML file contains custom styles and some javascript.\n",
       "Include it a Jupyter notebook for improved rendering.\n",
       "-->\n",
       "\n",
       "<!-- Fonts -->\n",
       "<link href='http://fonts.googleapis.com/css?family=Alegreya+Sans:100,300,400,500,700,800,900,100italic,300italic,400italic,500italic,700italic,800italic,900italic' rel='stylesheet' type='text/css'>\n",
       "<link href='http://fonts.googleapis.com/css?family=Arvo:400,700,400italic' rel='stylesheet' type='text/css'>\n",
       "<link href='http://fonts.googleapis.com/css?family=PT+Mono' rel='stylesheet' type='text/css'>\n",
       "<link href='http://fonts.googleapis.com/css?family=Shadows+Into+Light' rel='stylesheet' type='text/css'>\n",
       "<link href='http://fonts.googleapis.com/css?family=Nixie+One' rel='stylesheet' type='text/css'>\n",
       "\n",
       "<!-- Custom style -->\n",
       "<style>\n",
       "\n",
       "@font-face {\n",
       "    font-family: \"Computer Modern\";\n",
       "    src: url('http://mirrors.ctan.org/fonts/cm-unicode/fonts/otf/cmunss.otf');\n",
       "}\n",
       "\n",
       "#notebook_panel { /* main background */\n",
       "    background: rgb(245,245,245);\n",
       "}\n",
       "\n",
       "div.container {\n",
       "    min-width: 960px;\n",
       "}\n",
       "\n",
       "div #notebook { /* centre the content */\n",
       "    background: #fff; /* white background for content */\n",
       "    margin: auto;\n",
       "    padding-left: 0em;\n",
       "}\n",
       "\n",
       "#notebook li { /* More space between bullet points */\n",
       "    margin-top:0.8em;\n",
       "}\n",
       "\n",
       "/* draw border around running cells */\n",
       "div.cell.border-box-sizing.code_cell.running {\n",
       "    border: 1px solid #111;\n",
       "}\n",
       "\n",
       "/* Put a solid color box around each cell and its output, visually linking them*/\n",
       "div.cell.code_cell {\n",
       "    background-color: rgb(256,256,256);\n",
       "    border-radius: 0px;\n",
       "    padding: 0.5em;\n",
       "    margin-left:1em;\n",
       "    margin-top: 1em;\n",
       "}\n",
       "\n",
       "div.text_cell_render{\n",
       "    font-family: 'Alegreya Sans' sans-serif;\n",
       "    line-height: 140%;\n",
       "    font-size: 125%;\n",
       "    font-weight: 400;\n",
       "    width:800px;\n",
       "    margin-left:auto;\n",
       "    margin-right:auto;\n",
       "}\n",
       "\n",
       "\n",
       "/* Formatting for header cells */\n",
       ".text_cell_render h1 {\n",
       "    font-family: 'Nixie One', serif;\n",
       "    font-style:regular;\n",
       "    font-weight: 400;\n",
       "    font-size: 45pt;\n",
       "    line-height: 100%;\n",
       "    color: rgb(0,51,102);\n",
       "    margin-bottom: 0.5em;\n",
       "    margin-top: 0.5em;\n",
       "    display: block;\n",
       "}\n",
       "\n",
       ".text_cell_render h2 {\n",
       "    font-family: 'Nixie One', serif;\n",
       "    font-weight: 400;\n",
       "    font-size: 30pt;\n",
       "    line-height: 100%;\n",
       "    color: rgb(0,51,102);\n",
       "    margin-bottom: 0.1em;\n",
       "    margin-top: 0.3em;\n",
       "    display: block;\n",
       "}\n",
       "\n",
       ".text_cell_render h3 {\n",
       "    font-family: 'Nixie One', serif;\n",
       "    margin-top:16px;\n",
       "    font-size: 22pt;\n",
       "    font-weight: 600;\n",
       "    margin-bottom: 3px;\n",
       "    font-style: regular;\n",
       "    color: rgb(102,102,0);\n",
       "}\n",
       "\n",
       ".text_cell_render h4 {    /*Use this for captions*/\n",
       "    font-family: 'Nixie One', serif;\n",
       "    font-size: 14pt;\n",
       "    text-align: center;\n",
       "    margin-top: 0em;\n",
       "    margin-bottom: 2em;\n",
       "    font-style: regular;\n",
       "}\n",
       "\n",
       ".text_cell_render h5 {  /*Use this for small titles*/\n",
       "    font-family: 'Nixie One', sans-serif;\n",
       "    font-weight: 400;\n",
       "    font-size: 16pt;\n",
       "    color: rgb(163,0,0);\n",
       "    font-style: italic;\n",
       "    margin-bottom: .1em;\n",
       "    margin-top: 0.8em;\n",
       "    display: block;\n",
       "}\n",
       "\n",
       ".text_cell_render h6 { /*use this for copyright note*/\n",
       "    font-family: 'PT Mono', sans-serif;\n",
       "    font-weight: 300;\n",
       "    font-size: 9pt;\n",
       "    line-height: 100%;\n",
       "    color: grey;\n",
       "    margin-bottom: 1px;\n",
       "    margin-top: 1px;\n",
       "}\n",
       "\n",
       ".CodeMirror{\n",
       "    font-family: \"PT Mono\";\n",
       "    font-size: 90%;\n",
       "}\n",
       "\n",
       ".boxed { /* draw a border around a piece of text */\n",
       "  border: 1px solid blue ;\n",
       "}\n",
       "\n",
       "h4#CODE-EXAMPLE,\n",
       "h4#END-OF-CODE-EXAMPLE {\n",
       "    margin: 10px 0;\n",
       "    padding: 10px;\n",
       "    background-color: #d0f9ca !important;\n",
       "    border-top: #849f81 1px solid;\n",
       "    border-bottom: #849f81 1px solid;\n",
       "}\n",
       "\n",
       ".emphasis {\n",
       "    color: red;\n",
       "}\n",
       "\n",
       ".exercise {\n",
       "    color: green;\n",
       "}\n",
       "\n",
       ".proof {\n",
       "    color: blue;\n",
       "}\n",
       "\n",
       "code {\n",
       "  padding: 2px 4px !important;\n",
       "  font-size: 90% !important;\n",
       "  color: #222 !important;\n",
       "  background-color: #efefef !important;\n",
       "  border-radius: 2px !important;\n",
       "}\n",
       "\n",
       "/* This removes the actual style cells from the notebooks, but no in print mode\n",
       "   as they will be removed through some other method */\n",
       "@media not print {\n",
       "  .cell:nth-last-child(-n+2) {\n",
       "    display: none;\n",
       "  }\n",
       "}\n",
       "\n",
       "</style>\n",
       "\n",
       "<!-- MathJax styling -->\n",
       "<script>\n",
       "    MathJax.Hub.Config({\n",
       "                        TeX: {\n",
       "                           extensions: [\"AMSmath.js\"],\n",
       "                           equationNumbers: { autoNumber: \"AMS\", useLabelIds: true}\n",
       "                           },\n",
       "                tex2jax: {\n",
       "                    inlineMath: [ ['$','$'], [\"\\\\(\",\"\\\\)\"] ],\n",
       "                    displayMath: [ ['$$','$$'], [\"\\\\[\",\"\\\\]\"] ]\n",
       "                },\n",
       "                displayAlign: 'center', // Change this to 'center' to center equations.\n",
       "                \"HTML-CSS\": {\n",
       "                    styles: {'.MathJax_Display': {\"margin\": 4}}\n",
       "                }\n",
       "        });\n",
       "</script>\n"
      ]
     },
     "metadata": {},
     "output_type": "display_data"
    }
   ],
   "source": [
    "open(\"../../styles/aipstyle.html\") do f\n",
    "    display(\"text/html\", read(f, String))\n",
    "end"
   ]
  },
  {
   "cell_type": "code",
   "execution_count": null,
   "metadata": {},
   "outputs": [],
   "source": []
  }
 ],
 "metadata": {
  "celltoolbar": "Slideshow",
  "kernelspec": {
   "display_name": "Julia 1.0.0",
   "language": "julia",
   "name": "julia-1.0"
  },
  "language_info": {
   "file_extension": ".jl",
   "mimetype": "application/julia",
   "name": "julia",
   "version": "1.0.2"
  }
 },
 "nbformat": 4,
 "nbformat_minor": 1
}
