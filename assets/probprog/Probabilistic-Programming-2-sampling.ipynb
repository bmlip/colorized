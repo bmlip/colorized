{
 "cells": [
  {
   "cell_type": "markdown",
   "metadata": {
    "slideshow": {
     "slide_type": "slide"
    }
   },
   "source": [
    "# Probabilistic Programming - 2\n",
    "\n",
    "## Monte Carlo sampling\n",
    "\n",
    "In this notebook, we are exploring a more complex problem set using Monte Carlo sampling, namely mixture modeling. It will show you how to extend the sampling procedure to the multivariate case."
   ]
  },
  {
   "cell_type": "markdown",
   "metadata": {
    "slideshow": {
     "slide_type": "slide"
    }
   },
   "source": [
    "### Preliminaries\n",
    "\n",
    "- Goal \n",
    "  - Write a Monte Carlo sampling procedure for a 2-dimensional mixture model.\n",
    "- Materials        \n",
    "  - Mandatory\n",
    "    - These lecture notes.\n",
    "  - Optional\n",
    "    - Cheatsheets: [how does Julia differ from Matlab / Python](https://docs.julialang.org/en/v1/manual/noteworthy-differences/index.html).\n",
    "    - Tutorials using [Turing.jl](https://turing.ml/dev/tutorials/0-introduction/)"
   ]
  },
  {
   "cell_type": "markdown",
   "metadata": {},
   "source": [
    "## Mixture modeling\n",
    "\n",
    "We will first generate a synthetic data set to play around. This will let us focus on the data-generating process and on the point that a good model should follow the data-generating process."
   ]
  },
  {
   "cell_type": "code",
   "execution_count": 11,
   "metadata": {},
   "outputs": [
    {
     "name": "stdout",
     "output_type": "stream",
     "text": [
      "\u001b[32m\u001b[1mActivating\u001b[22m\u001b[39m environment at `~/Documents/biaslab/repos/BMLIP/lessons/notebooks/probprog/workspace/Project.toml`\n"
     ]
    }
   ],
   "source": [
    "using Pkg;Pkg.activate(\"workspace\");Pkg.instantiate()"
   ]
  },
  {
   "cell_type": "code",
   "execution_count": 2,
   "metadata": {},
   "outputs": [],
   "source": [
    "using Revise\n",
    "using Random\n",
    "using Distributions\n",
    "using StatsPlots\n",
    "using LaTeXStrings\n",
    "\n",
    "# Set a random seed.\n",
    "Random.seed!(3);"
   ]
  },
  {
   "cell_type": "code",
   "execution_count": 3,
   "metadata": {},
   "outputs": [
    {
     "data": {
      "image/svg+xml": [
       "<?xml version=\"1.0\" encoding=\"utf-8\"?>\n",
       "<svg xmlns=\"http://www.w3.org/2000/svg\" xmlns:xlink=\"http://www.w3.org/1999/xlink\" width=\"600\" height=\"400\" viewBox=\"0 0 2400 1600\">\n",
       "<defs>\n",
       "  <clipPath id=\"clip9600\">\n",
       "    <rect x=\"0\" y=\"0\" width=\"2400\" height=\"1600\"/>\n",
       "  </clipPath>\n",
       "</defs>\n",
       "<path clip-path=\"url(#clip9600)\" d=\"\n",
       "M0 1600 L2400 1600 L2400 0 L0 0  Z\n",
       "  \" fill=\"#ffffff\" fill-rule=\"evenodd\" fill-opacity=\"1\"/>\n",
       "<defs>\n",
       "  <clipPath id=\"clip9601\">\n",
       "    <rect x=\"480\" y=\"0\" width=\"1681\" height=\"1600\"/>\n",
       "  </clipPath>\n",
       "</defs>\n",
       "<path clip-path=\"url(#clip9600)\" d=\"\n",
       "M183.213 1446.13 L2352.76 1446.13 L2352.76 121.675 L183.213 121.675  Z\n",
       "  \" fill=\"#ffffff\" fill-rule=\"evenodd\" fill-opacity=\"1\"/>\n",
       "<defs>\n",
       "  <clipPath id=\"clip9602\">\n",
       "    <rect x=\"183\" y=\"121\" width=\"2171\" height=\"1325\"/>\n",
       "  </clipPath>\n",
       "</defs>\n",
       "<polyline clip-path=\"url(#clip9602)\" style=\"stroke:#000000; stroke-width:2; stroke-opacity:0.1; fill:none\" points=\"\n",
       "  379.374,1446.13 379.374,121.675 \n",
       "  \"/>\n",
       "<polyline clip-path=\"url(#clip9602)\" style=\"stroke:#000000; stroke-width:2; stroke-opacity:0.1; fill:none\" points=\"\n",
       "  897.946,1446.13 897.946,121.675 \n",
       "  \"/>\n",
       "<polyline clip-path=\"url(#clip9602)\" style=\"stroke:#000000; stroke-width:2; stroke-opacity:0.1; fill:none\" points=\"\n",
       "  1416.52,1446.13 1416.52,121.675 \n",
       "  \"/>\n",
       "<polyline clip-path=\"url(#clip9602)\" style=\"stroke:#000000; stroke-width:2; stroke-opacity:0.1; fill:none\" points=\"\n",
       "  1935.09,1446.13 1935.09,121.675 \n",
       "  \"/>\n",
       "<polyline clip-path=\"url(#clip9602)\" style=\"stroke:#000000; stroke-width:2; stroke-opacity:0.1; fill:none\" points=\"\n",
       "  183.213,1367.35 2352.76,1367.35 \n",
       "  \"/>\n",
       "<polyline clip-path=\"url(#clip9602)\" style=\"stroke:#000000; stroke-width:2; stroke-opacity:0.1; fill:none\" points=\"\n",
       "  183.213,1171.16 2352.76,1171.16 \n",
       "  \"/>\n",
       "<polyline clip-path=\"url(#clip9602)\" style=\"stroke:#000000; stroke-width:2; stroke-opacity:0.1; fill:none\" points=\"\n",
       "  183.213,974.96 2352.76,974.96 \n",
       "  \"/>\n",
       "<polyline clip-path=\"url(#clip9602)\" style=\"stroke:#000000; stroke-width:2; stroke-opacity:0.1; fill:none\" points=\"\n",
       "  183.213,778.764 2352.76,778.764 \n",
       "  \"/>\n",
       "<polyline clip-path=\"url(#clip9602)\" style=\"stroke:#000000; stroke-width:2; stroke-opacity:0.1; fill:none\" points=\"\n",
       "  183.213,582.567 2352.76,582.567 \n",
       "  \"/>\n",
       "<polyline clip-path=\"url(#clip9602)\" style=\"stroke:#000000; stroke-width:2; stroke-opacity:0.1; fill:none\" points=\"\n",
       "  183.213,386.37 2352.76,386.37 \n",
       "  \"/>\n",
       "<polyline clip-path=\"url(#clip9602)\" style=\"stroke:#000000; stroke-width:2; stroke-opacity:0.1; fill:none\" points=\"\n",
       "  183.213,190.173 2352.76,190.173 \n",
       "  \"/>\n",
       "<polyline clip-path=\"url(#clip9600)\" style=\"stroke:#000000; stroke-width:4; stroke-opacity:1; fill:none\" points=\"\n",
       "  183.213,1446.13 2352.76,1446.13 \n",
       "  \"/>\n",
       "<polyline clip-path=\"url(#clip9600)\" style=\"stroke:#000000; stroke-width:4; stroke-opacity:1; fill:none\" points=\"\n",
       "  183.213,1446.13 183.213,121.675 \n",
       "  \"/>\n",
       "<polyline clip-path=\"url(#clip9600)\" style=\"stroke:#000000; stroke-width:4; stroke-opacity:1; fill:none\" points=\"\n",
       "  379.374,1446.13 379.374,1426.26 \n",
       "  \"/>\n",
       "<polyline clip-path=\"url(#clip9600)\" style=\"stroke:#000000; stroke-width:4; stroke-opacity:1; fill:none\" points=\"\n",
       "  897.946,1446.13 897.946,1426.26 \n",
       "  \"/>\n",
       "<polyline clip-path=\"url(#clip9600)\" style=\"stroke:#000000; stroke-width:4; stroke-opacity:1; fill:none\" points=\"\n",
       "  1416.52,1446.13 1416.52,1426.26 \n",
       "  \"/>\n",
       "<polyline clip-path=\"url(#clip9600)\" style=\"stroke:#000000; stroke-width:4; stroke-opacity:1; fill:none\" points=\"\n",
       "  1935.09,1446.13 1935.09,1426.26 \n",
       "  \"/>\n",
       "<polyline clip-path=\"url(#clip9600)\" style=\"stroke:#000000; stroke-width:4; stroke-opacity:1; fill:none\" points=\"\n",
       "  183.213,1367.35 215.756,1367.35 \n",
       "  \"/>\n",
       "<polyline clip-path=\"url(#clip9600)\" style=\"stroke:#000000; stroke-width:4; stroke-opacity:1; fill:none\" points=\"\n",
       "  183.213,1171.16 215.756,1171.16 \n",
       "  \"/>\n",
       "<polyline clip-path=\"url(#clip9600)\" style=\"stroke:#000000; stroke-width:4; stroke-opacity:1; fill:none\" points=\"\n",
       "  183.213,974.96 215.756,974.96 \n",
       "  \"/>\n",
       "<polyline clip-path=\"url(#clip9600)\" style=\"stroke:#000000; stroke-width:4; stroke-opacity:1; fill:none\" points=\"\n",
       "  183.213,778.764 215.756,778.764 \n",
       "  \"/>\n",
       "<polyline clip-path=\"url(#clip9600)\" style=\"stroke:#000000; stroke-width:4; stroke-opacity:1; fill:none\" points=\"\n",
       "  183.213,582.567 215.756,582.567 \n",
       "  \"/>\n",
       "<polyline clip-path=\"url(#clip9600)\" style=\"stroke:#000000; stroke-width:4; stroke-opacity:1; fill:none\" points=\"\n",
       "  183.213,386.37 215.756,386.37 \n",
       "  \"/>\n",
       "<polyline clip-path=\"url(#clip9600)\" style=\"stroke:#000000; stroke-width:4; stroke-opacity:1; fill:none\" points=\"\n",
       "  183.213,190.173 215.756,190.173 \n",
       "  \"/>\n",
       "<g clip-path=\"url(#clip9600)\">\n",
       "<text style=\"fill:#000000; fill-opacity:1; font-family:Arial,Helvetica Neue,Helvetica,sans-serif; font-size:48px; text-anchor:middle;\" transform=\"rotate(0, 379.374, 1500.13)\" x=\"379.374\" y=\"1500.13\">-4</text>\n",
       "</g>\n",
       "<g clip-path=\"url(#clip9600)\">\n",
       "<text style=\"fill:#000000; fill-opacity:1; font-family:Arial,Helvetica Neue,Helvetica,sans-serif; font-size:48px; text-anchor:middle;\" transform=\"rotate(0, 897.946, 1500.13)\" x=\"897.946\" y=\"1500.13\">-2</text>\n",
       "</g>\n",
       "<g clip-path=\"url(#clip9600)\">\n",
       "<text style=\"fill:#000000; fill-opacity:1; font-family:Arial,Helvetica Neue,Helvetica,sans-serif; font-size:48px; text-anchor:middle;\" transform=\"rotate(0, 1416.52, 1500.13)\" x=\"1416.52\" y=\"1500.13\">0</text>\n",
       "</g>\n",
       "<g clip-path=\"url(#clip9600)\">\n",
       "<text style=\"fill:#000000; fill-opacity:1; font-family:Arial,Helvetica Neue,Helvetica,sans-serif; font-size:48px; text-anchor:middle;\" transform=\"rotate(0, 1935.09, 1500.13)\" x=\"1935.09\" y=\"1500.13\">2</text>\n",
       "</g>\n",
       "<g clip-path=\"url(#clip9600)\">\n",
       "<text style=\"fill:#000000; fill-opacity:1; font-family:Arial,Helvetica Neue,Helvetica,sans-serif; font-size:48px; text-anchor:end;\" transform=\"rotate(0, 159.213, 1384.85)\" x=\"159.213\" y=\"1384.85\">-3</text>\n",
       "</g>\n",
       "<g clip-path=\"url(#clip9600)\">\n",
       "<text style=\"fill:#000000; fill-opacity:1; font-family:Arial,Helvetica Neue,Helvetica,sans-serif; font-size:48px; text-anchor:end;\" transform=\"rotate(0, 159.213, 1188.66)\" x=\"159.213\" y=\"1188.66\">-2</text>\n",
       "</g>\n",
       "<g clip-path=\"url(#clip9600)\">\n",
       "<text style=\"fill:#000000; fill-opacity:1; font-family:Arial,Helvetica Neue,Helvetica,sans-serif; font-size:48px; text-anchor:end;\" transform=\"rotate(0, 159.213, 992.46)\" x=\"159.213\" y=\"992.46\">-1</text>\n",
       "</g>\n",
       "<g clip-path=\"url(#clip9600)\">\n",
       "<text style=\"fill:#000000; fill-opacity:1; font-family:Arial,Helvetica Neue,Helvetica,sans-serif; font-size:48px; text-anchor:end;\" transform=\"rotate(0, 159.213, 796.264)\" x=\"159.213\" y=\"796.264\">0</text>\n",
       "</g>\n",
       "<g clip-path=\"url(#clip9600)\">\n",
       "<text style=\"fill:#000000; fill-opacity:1; font-family:Arial,Helvetica Neue,Helvetica,sans-serif; font-size:48px; text-anchor:end;\" transform=\"rotate(0, 159.213, 600.067)\" x=\"159.213\" y=\"600.067\">1</text>\n",
       "</g>\n",
       "<g clip-path=\"url(#clip9600)\">\n",
       "<text style=\"fill:#000000; fill-opacity:1; font-family:Arial,Helvetica Neue,Helvetica,sans-serif; font-size:48px; text-anchor:end;\" transform=\"rotate(0, 159.213, 403.87)\" x=\"159.213\" y=\"403.87\">2</text>\n",
       "</g>\n",
       "<g clip-path=\"url(#clip9600)\">\n",
       "<text style=\"fill:#000000; fill-opacity:1; font-family:Arial,Helvetica Neue,Helvetica,sans-serif; font-size:48px; text-anchor:end;\" transform=\"rotate(0, 159.213, 207.673)\" x=\"159.213\" y=\"207.673\">3</text>\n",
       "</g>\n",
       "<g clip-path=\"url(#clip9600)\">\n",
       "<text style=\"fill:#000000; fill-opacity:1; font-family:Arial,Helvetica Neue,Helvetica,sans-serif; font-size:84px; text-anchor:middle;\" transform=\"rotate(0, 1267.98, 73.2)\" x=\"1267.98\" y=\"73.2\">Synthetic Dataset</text>\n",
       "</g>\n",
       "<g clip-path=\"url(#clip9600)\">\n",
       "<image width=\"58\" height=\"39\" xlink:href=\"data:image/png;base64,\n",
       "iVBORw0KGgoAAAANSUhEUgAAADoAAAAnCAYAAABe81ttAAADTklEQVRoge1Z23GkMBBsXBeA2BCw\n",
       "I9BuCAqBGOQMVA5BOALWIbCOgHIIQAQsIQAZzH3cgXmI57Lc2XddpQ8kBk1LM3o0ICLMKb7vkxCC\n",
       "HMchAMQYI9d1KQxDGrMLw5CEEMQYIwDkOM4su63L5AtBENROcs5JSklKKRJCEAACQEIIo9Ou67bs\n",
       "tNZU1VX1eZ7vQni0USlVO2SaAd/3a6cdx2m1c84JAAVBMGo3NEi7Ea1IKqVGHWnOrJSSmjMZRVHP\n",
       "tjmjVdljVo2V1YhPkSQiaK1bTlfPJtsgCHokAVCapvsTzfN8UUgNOW+aJdNsArg7SSLCAzp4eXkB\n",
       "APi+322aDSklbNu2uvWHw8H47i5oso6iqJVrc0qVy81iyk0iQpqm9fa0tJ9NQ1dKuThnmosRfu+v\n",
       "UzZ75OQoUcYYcc4XOdGcIQDkuu7uJMIwJN/3R/ttPQztl6Mf6ITtVIdbljzPWweQoZQhIvxo5msc\n",
       "x70FZAxxHFO3Tgix5BOLcL1eKcsyJEmCIAiQJMls2x/Trwzj4+Oj9cwYw+Pj46LBmgPLsnoDyjmH\n",
       "EKLnwxA2JXqv2ZRSgjGGw+EAzjlOpxNs27Y8z6NvRfR8Pt8cJb0Dw1zsnZ+3YjXRvfJzK2xG9HQ6\n",
       "3ezMPbEZ0b85bIGVRG/NzziO6Xg8UlEUve/cC6uImpb04/E4Oz+11kiSxHjDuRd6RK/X6+Qo3xq2\n",
       "7+/vu4d6TdTzPLIsi56enmDbNpnCEwCKouht0o7jzO7Q8zwCAKXUOo/XgqgtVlVlSGEwvau1nn2Q\n",
       "Z4xtJoh1ZZyxQ/0D8KkqNJHnuXFgXl9fe3WMsVmD+vz8TGVZ3qRerMVDURRUlmWvwZRD5/OZsiyD\n",
       "UqpFLsuyyY4ulwu9vb1BKfVnDhamO6Xp8p2maautGTZTqkIloG19KV8SuiD6lFAwIFOGYVgTasog\n",
       "zUuvyS5N01rRv4fysJhol6zruqS1JqUUVYq7EMIoYTbtOOeklOr9sliyWN2dKNEvFVBK2VLqOOeT\n",
       "8kiapiSlrAelWlm11ndV4VcT/Wpl8fbyL+A/0e+G/0S/G7400SiKWs9j0qdFtNslfzUulwtVpMqy\n",
       "RJ7nSJLEeMaudF/g87IhhPga+2j3j93SopSin0bY3N3xQudmAAAAAElFTkSuQmCC\n",
       "\" transform=\"translate(1239, 1522)\"/>\n",
       "</g>\n",
       "<g clip-path=\"url(#clip9600)\">\n",
       "<image width=\"39\" height=\"59\" xlink:href=\"data:image/png;base64,\n",
       "iVBORw0KGgoAAAANSUhEUgAAACcAAAA7CAYAAAD4t5PVAAADvElEQVRoge1Z623jMAxmDjeA0hHU\n",
       "TqBmBDUTaAaNoBk0gpERPIKbEYROYHsEpRvwfrR0/IhlSbZ79+MEEEiMkv1M8fGROSAi5JymafBy\n",
       "ucD1eoW2bQEA4OnpCaSUYIyB5+fnw5L++XwGzjkIIeB0OgHnHF5fX+96iJgs1loEgKAYYzBkw3uP\n",
       "UkpkjE10OecopUwHppRaBNb/J3VdB0EiItR1jcaYqY2tPTYWxlgUwO/wGugeYmOuaRp8eXkZPGOM\n",
       "wel0AiEEAAC0bQsfHx9dDPb/rm1bOB6PwTg8Ho/4+fl5fxDrNa31wBtlWc56wzn3FTM9LwghFr3H\n",
       "Oc+71n4cee+jrqmqqkHAK6WCelngnHOdQmz8jLOS9K21s/pZ4IqiQABArXUSsLmwqKrqoZ0scJTm\n",
       "c0ZTATLGHoZGFjgyGhtrMbYeJcgqz60FRkKFfJwgWeCo+KYmQwzAfptbla2h2pYjlMVFUWA2OEQE\n",
       "xhhKKTcF1wdYVRVmg6OrHWesMQaVUqu8SuxkwlBSjHDOB2VgzFDoenJECLGOlVDsUW8dv+naa58A\n",
       "TDXgnHtIEMeZlyPeexwAzDVkrR0EsBBikyLdBxjN50LndrvhElfLsbkJuL3Or78NIHT+g8s9A3C3\n",
       "2w2bpvl3gpDSdzyQrGG9W8l868gAuEWdG4Crqio4FKcYo5eUUq6m9IgIXfOmIWYsKQTTOYd9MiCl\n",
       "XEVQgXPe0eUxy+CcZxu21nY9OLfnAoxmybIsUSmFWutNaDkNNEsD9UNwjLHdM7MsyyyAIKWM2mNs\n",
       "BTA08U/AUbZuPbw8EqqlsSUHEO+J4JzbFWBd10ne6z5QjTLGbEIaQ96LpfODL/1SorXexZPGGGSM\n",
       "pYNDnK5WGWOolMKiKDYpLSmrjcGX/ppqTtaCFUJEV4fuw2TajhTaBFhrF8OAvBZbVw+ICG9vb3i9\n",
       "XleSr/uRUgLnHDjn3bL6crkALaPrul78EQUA4Pf7+3sHTErZGQYAcM512/Hxhjx0Qi+qtY4CBgBD\n",
       "VrLkZuccWmsnxDRWktvXmu1RLFjGWFLb6sDBBmuEJbDZlIlzvgsr8d5jURTdykIIkVx6foSVEMue\n",
       "26LPgiPFLTh/SKjpp8Q3IH6tVH+C0xE9i10yAuKdCG6VGCHJal/UWvYGmN34SXHtSId4/1lTCDF4\n",
       "YWI9yeAQ75kF3w06F+R4NUtXqZSKHjkfPvTeY58+CSGSspkycyyprGTxarTWmJPNoXYWy7B3Cfp+\n",
       "bI0lpRvtBg7xK377sZfaJn9kYZ27bf8DhGyptHfwBaIAAAAASUVORK5CYII=\n",
       "\" transform=\"translate(39, 754)\"/>\n",
       "</g>\n",
       "<circle clip-path=\"url(#clip9602)\" style=\"fill:#000000; stroke:none; fill-opacity:1\" cx=\"1206.9\" cy=\"159.16\" r=\"18\"/>\n",
       "<circle clip-path=\"url(#clip9602)\" style=\"fill:#009af9; stroke:none; fill-opacity:1\" cx=\"1206.9\" cy=\"159.16\" r=\"14\"/>\n",
       "<circle clip-path=\"url(#clip9602)\" style=\"fill:#000000; stroke:none; fill-opacity:1\" cx=\"244.615\" cy=\"479.595\" r=\"18\"/>\n",
       "<circle clip-path=\"url(#clip9602)\" style=\"fill:#009af9; stroke:none; fill-opacity:1\" cx=\"244.615\" cy=\"479.595\" r=\"14\"/>\n",
       "<circle clip-path=\"url(#clip9602)\" style=\"fill:#000000; stroke:none; fill-opacity:1\" cx=\"1435.92\" cy=\"434.362\" r=\"18\"/>\n",
       "<circle clip-path=\"url(#clip9602)\" style=\"fill:#009af9; stroke:none; fill-opacity:1\" cx=\"1435.92\" cy=\"434.362\" r=\"14\"/>\n",
       "<circle clip-path=\"url(#clip9602)\" style=\"fill:#000000; stroke:none; fill-opacity:1\" cx=\"645.596\" cy=\"372.269\" r=\"18\"/>\n",
       "<circle clip-path=\"url(#clip9602)\" style=\"fill:#009af9; stroke:none; fill-opacity:1\" cx=\"645.596\" cy=\"372.269\" r=\"14\"/>\n",
       "<circle clip-path=\"url(#clip9602)\" style=\"fill:#000000; stroke:none; fill-opacity:1\" cx=\"871.601\" cy=\"486.982\" r=\"18\"/>\n",
       "<circle clip-path=\"url(#clip9602)\" style=\"fill:#009af9; stroke:none; fill-opacity:1\" cx=\"871.601\" cy=\"486.982\" r=\"14\"/>\n",
       "<circle clip-path=\"url(#clip9602)\" style=\"fill:#000000; stroke:none; fill-opacity:1\" cx=\"497.994\" cy=\"696.408\" r=\"18\"/>\n",
       "<circle clip-path=\"url(#clip9602)\" style=\"fill:#009af9; stroke:none; fill-opacity:1\" cx=\"497.994\" cy=\"696.408\" r=\"14\"/>\n",
       "<circle clip-path=\"url(#clip9602)\" style=\"fill:#000000; stroke:none; fill-opacity:1\" cx=\"924.081\" cy=\"285.984\" r=\"18\"/>\n",
       "<circle clip-path=\"url(#clip9602)\" style=\"fill:#009af9; stroke:none; fill-opacity:1\" cx=\"924.081\" cy=\"285.984\" r=\"14\"/>\n",
       "<circle clip-path=\"url(#clip9602)\" style=\"fill:#000000; stroke:none; fill-opacity:1\" cx=\"897.434\" cy=\"525.135\" r=\"18\"/>\n",
       "<circle clip-path=\"url(#clip9602)\" style=\"fill:#009af9; stroke:none; fill-opacity:1\" cx=\"897.434\" cy=\"525.135\" r=\"14\"/>\n",
       "<circle clip-path=\"url(#clip9602)\" style=\"fill:#000000; stroke:none; fill-opacity:1\" cx=\"1159.51\" cy=\"615.155\" r=\"18\"/>\n",
       "<circle clip-path=\"url(#clip9602)\" style=\"fill:#009af9; stroke:none; fill-opacity:1\" cx=\"1159.51\" cy=\"615.155\" r=\"14\"/>\n",
       "<circle clip-path=\"url(#clip9602)\" style=\"fill:#000000; stroke:none; fill-opacity:1\" cx=\"1116.84\" cy=\"471.204\" r=\"18\"/>\n",
       "<circle clip-path=\"url(#clip9602)\" style=\"fill:#009af9; stroke:none; fill-opacity:1\" cx=\"1116.84\" cy=\"471.204\" r=\"14\"/>\n",
       "<circle clip-path=\"url(#clip9602)\" style=\"fill:#000000; stroke:none; fill-opacity:1\" cx=\"1751.27\" cy=\"1314.17\" r=\"18\"/>\n",
       "<circle clip-path=\"url(#clip9602)\" style=\"fill:#009af9; stroke:none; fill-opacity:1\" cx=\"1751.27\" cy=\"1314.17\" r=\"14\"/>\n",
       "<circle clip-path=\"url(#clip9602)\" style=\"fill:#000000; stroke:none; fill-opacity:1\" cx=\"1881.05\" cy=\"1046.88\" r=\"18\"/>\n",
       "<circle clip-path=\"url(#clip9602)\" style=\"fill:#009af9; stroke:none; fill-opacity:1\" cx=\"1881.05\" cy=\"1046.88\" r=\"14\"/>\n",
       "<circle clip-path=\"url(#clip9602)\" style=\"fill:#000000; stroke:none; fill-opacity:1\" cx=\"1741.65\" cy=\"1036.29\" r=\"18\"/>\n",
       "<circle clip-path=\"url(#clip9602)\" style=\"fill:#009af9; stroke:none; fill-opacity:1\" cx=\"1741.65\" cy=\"1036.29\" r=\"14\"/>\n",
       "<circle clip-path=\"url(#clip9602)\" style=\"fill:#000000; stroke:none; fill-opacity:1\" cx=\"2026.95\" cy=\"1197.66\" r=\"18\"/>\n",
       "<circle clip-path=\"url(#clip9602)\" style=\"fill:#009af9; stroke:none; fill-opacity:1\" cx=\"2026.95\" cy=\"1197.66\" r=\"14\"/>\n",
       "<circle clip-path=\"url(#clip9602)\" style=\"fill:#000000; stroke:none; fill-opacity:1\" cx=\"1852.02\" cy=\"1074.47\" r=\"18\"/>\n",
       "<circle clip-path=\"url(#clip9602)\" style=\"fill:#009af9; stroke:none; fill-opacity:1\" cx=\"1852.02\" cy=\"1074.47\" r=\"14\"/>\n",
       "<circle clip-path=\"url(#clip9602)\" style=\"fill:#000000; stroke:none; fill-opacity:1\" cx=\"2291.35\" cy=\"1140.41\" r=\"18\"/>\n",
       "<circle clip-path=\"url(#clip9602)\" style=\"fill:#009af9; stroke:none; fill-opacity:1\" cx=\"2291.35\" cy=\"1140.41\" r=\"14\"/>\n",
       "<circle clip-path=\"url(#clip9602)\" style=\"fill:#000000; stroke:none; fill-opacity:1\" cx=\"2023.9\" cy=\"927.956\" r=\"18\"/>\n",
       "<circle clip-path=\"url(#clip9602)\" style=\"fill:#009af9; stroke:none; fill-opacity:1\" cx=\"2023.9\" cy=\"927.956\" r=\"14\"/>\n",
       "<circle clip-path=\"url(#clip9602)\" style=\"fill:#000000; stroke:none; fill-opacity:1\" cx=\"1780.66\" cy=\"1408.64\" r=\"18\"/>\n",
       "<circle clip-path=\"url(#clip9602)\" style=\"fill:#009af9; stroke:none; fill-opacity:1\" cx=\"1780.66\" cy=\"1408.64\" r=\"14\"/>\n",
       "<circle clip-path=\"url(#clip9602)\" style=\"fill:#000000; stroke:none; fill-opacity:1\" cx=\"2094.02\" cy=\"1232.8\" r=\"18\"/>\n",
       "<circle clip-path=\"url(#clip9602)\" style=\"fill:#009af9; stroke:none; fill-opacity:1\" cx=\"2094.02\" cy=\"1232.8\" r=\"14\"/>\n",
       "<circle clip-path=\"url(#clip9602)\" style=\"fill:#000000; stroke:none; fill-opacity:1\" cx=\"2096.38\" cy=\"1027.17\" r=\"18\"/>\n",
       "<circle clip-path=\"url(#clip9602)\" style=\"fill:#009af9; stroke:none; fill-opacity:1\" cx=\"2096.38\" cy=\"1027.17\" r=\"14\"/>\n",
       "</svg>\n"
      ]
     },
     "execution_count": 3,
     "metadata": {},
     "output_type": "execute_result"
    }
   ],
   "source": [
    "# Construct 10 data points for each cluster.\n",
    "N = 10\n",
    "\n",
    "# Means for each cluster, assuming each cluster is Gaussian distributed\n",
    "μs = [[-2 +2]; \n",
    "      [+2 -2]]\n",
    "\n",
    "# Cluster 1\n",
    "X1 = randn(N,2)\n",
    "for i = 1:N\n",
    "    X1[i,:] += μs[1,:]\n",
    "end \n",
    "    \n",
    "# Cluster 2\n",
    "X2 = randn(N,2)\n",
    "for i = 1:N\n",
    "    X2[i,:] += μs[2,:]\n",
    "end \n",
    "    \n",
    "# Concatenate clusters\n",
    "X = [X1; X2]\n",
    "\n",
    "# ForneyLab needs every vector to be a row\n",
    "X_ = [X[i,:] for i = 1:N*2]\n",
    "\n",
    "# Visualization.\n",
    "scatter(X[:,1], X[:,2], legend = false, title = \"Synthetic Dataset\")\n",
    "xlabel!(L\"$x_1$\")\n",
    "ylabel!(L\"$x_2$\")"
   ]
  },
  {
   "cell_type": "markdown",
   "metadata": {},
   "source": [
    "### Monte Carlo Sampling via Turing.jl\n",
    "\n",
    "With MC sampling, we can obtain samples from the posterior distribution. These are used to approximate the expected value, variance, etc. Below, we will draw samples from the posterior distribution of cluster assignment. Those samples are averaged to approximate the _expected_ cluster assignment of each data point."
   ]
  },
  {
   "cell_type": "markdown",
   "metadata": {},
   "source": [
    "First, we will import Turing.jl and the package containing the sampler. The script being included contains utility functions, important for plotting and diagnosing."
   ]
  },
  {
   "cell_type": "code",
   "execution_count": 4,
   "metadata": {},
   "outputs": [
    {
     "name": "stderr",
     "output_type": "stream",
     "text": [
      "┌ Info: Precompiling Turing [fce5fe82-541a-59a6-adf8-730c64b5f9a0]\n",
      "└ @ Base loading.jl:1273\n"
     ]
    },
    {
     "ename": "ArgumentError",
     "evalue": "ArgumentError: Package MCMCChains not found in current path:\n- Run `import Pkg; Pkg.add(\"MCMCChains\")` to install the MCMCChains package.\n",
     "output_type": "error",
     "traceback": [
      "ArgumentError: Package MCMCChains not found in current path:\n- Run `import Pkg; Pkg.add(\"MCMCChains\")` to install the MCMCChains package.\n",
      "",
      "Stacktrace:",
      " [1] require(::Module, ::Symbol) at ./loading.jl:887",
      " [2] top-level scope at In[4]:2"
     ]
    }
   ],
   "source": [
    "using Turing\n",
    "using MCMCChains\n",
    "Turing.setadbackend(:forward_diff)\n",
    "include(\"../scripts/pp-2.jl\");\n"
   ]
  },
  {
   "cell_type": "markdown",
   "metadata": {},
   "source": [
    "We will now define the Gaussian Mixture model."
   ]
  },
  {
   "cell_type": "code",
   "execution_count": 5,
   "metadata": {},
   "outputs": [],
   "source": [
    "@model GaussianMixtureModel(x, m1, m2) = begin\n",
    "    \n",
    "    D, N = size(x)\n",
    "\n",
    "    # Draw the mean for cluster 1 [2x1 vector]\n",
    "    μ1 ~ MvNormal(m1, 1.)\n",
    "    \n",
    "    # Draw the mean for cluster 2 [2x1 vector]\n",
    "    μ2 ~ MvNormal(m2, 1.)\n",
    "    \n",
    "    # Concatenate means [2x2 matrix]\n",
    "    μ = [μ1 μ2]\n",
    "    \n",
    "    # Probability of belonging to each cluster [2x1 vector]\n",
    "    w = [0.5, 0.5]\n",
    "    \n",
    "    # Preallocate assignment vector [Nx1 vector]\n",
    "    k = Vector{Int}(undef, N)\n",
    "    \n",
    "    # Loop over observations\n",
    "    for i in 1:N\n",
    "        \n",
    "        # Draw assignment for i-th sample from a Categorical distribution parameterized by w\n",
    "        k[i] ~ Categorical(w)\n",
    "        \n",
    "        # Data point x[i] follows a normal distribution, with mean indexed by the assignment variable k[i]\n",
    "        x[:,i] ~ MvNormal(μ[:, k[i]], 1.)\n",
    "    end\n",
    "    \n",
    "    # Return the assignments\n",
    "    return k\n",
    "end\n",
    "\n",
    "\"Call an instance of the defined Gaussian Mixture model\"\n",
    "\n",
    "# Set priors\n",
    "m1 = [-2, -2]\n",
    "m2 = [0, 0]\n",
    "\n",
    "# Create an instance of a model, using the synthetic data set X\n",
    "gmm_model = GaussianMixtureModel(X, m1, m2);"
   ]
  },
  {
   "cell_type": "markdown",
   "metadata": {},
   "source": [
    "We now have a data set and a model. To arrive at class assignments for each data point, we need to perform inference. As stated before, there are two main schools of thought in Bayesian inference: Monte Carlo sampling and variational approximations. Below, we will use a particular form of Monte Carlo sampling, called Gibbs sampling."
   ]
  },
  {
   "cell_type": "code",
   "execution_count": 6,
   "metadata": {},
   "outputs": [
    {
     "name": "stderr",
     "output_type": "stream",
     "text": [
      "WARNING: both MCMCChains and AbstractMCMC export \"chainscat\"; uses of it in module Turing must be qualified\n"
     ]
    },
    {
     "ename": "UndefVarError",
     "evalue": "UndefVarError: chainscat not defined",
     "output_type": "error",
     "traceback": [
      "UndefVarError: chainscat not defined",
      "",
      "Stacktrace:",
      " [1] top-level scope at In[6]:3"
     ]
    }
   ],
   "source": [
    "# Construct Gibbs sampler\n",
    "gmm_sampler = Gibbs(PG(50, :k), HMC(0.05, 10, :μ1, :μ2))\n",
    "\n",
    "# Start sampling\n",
    "tchain = mapreduce(c -> sample(gmm_model, gmm_sampler, 100), chainscat, 1);"
   ]
  },
  {
   "cell_type": "code",
   "execution_count": 7,
   "metadata": {},
   "outputs": [
    {
     "ename": "UndefVarError",
     "evalue": "UndefVarError: tchain not defined",
     "output_type": "error",
     "traceback": [
      "UndefVarError: tchain not defined",
      "",
      "Stacktrace:",
      " [1] top-level scope at In[7]:1"
     ]
    }
   ],
   "source": [
    "# Extract the means over the MCMC chains for the posterior means\n",
    "μ1_estimated = vec(convert(Array{Float64,2}, mean(tchain[:μ1].value.data[:,:,1]; dims=1)));\n",
    "μ2_estimated = vec(convert(Array{Float64,2}, mean(tchain[:μ2].value.data[:,:,1]; dims=1)));\n",
    "\n",
    "# Report differences between estimated mean and true means\n",
    "println(\"Difference between μ1 and μ1_estimated = \"*string(abs.(μ1 - μ1_estimated)))\n",
    "println(\"Difference between μ2 and μ2_estimated = \"*string(abs.(μ2 - μ2_estimated)))"
   ]
  },
  {
   "cell_type": "code",
   "execution_count": 8,
   "metadata": {},
   "outputs": [
    {
     "ename": "UndefVarError",
     "evalue": "UndefVarError: plot_posteriors not defined",
     "output_type": "error",
     "traceback": [
      "UndefVarError: plot_posteriors not defined",
      "",
      "Stacktrace:",
      " [1] top-level scope at In[8]:1"
     ]
    }
   ],
   "source": [
    "# Plot data and overlay estimated posterior probabilities\n",
    "plot_posteriors(X, μ1_estimated, μ2_estimated)"
   ]
  },
  {
   "cell_type": "markdown",
   "metadata": {},
   "source": [
    "Let's take a closer look at the chain. "
   ]
  },
  {
   "cell_type": "code",
   "execution_count": 9,
   "metadata": {},
   "outputs": [
    {
     "ename": "UndefVarError",
     "evalue": "UndefVarError: tchain not defined",
     "output_type": "error",
     "traceback": [
      "UndefVarError: tchain not defined",
      "",
      "Stacktrace:",
      " [1] top-level scope at In[9]:1"
     ]
    }
   ],
   "source": [
    "# Find the means within the chain\n",
    "ids = findall(map(name -> occursin(\"μ\", name), names(tchain)));\n",
    "\n",
    "# Plot the course of the chains\n",
    "p=plot(tchain[:, ids, :], labels = [\"mu_11\" \"mu_12\" \"mu_21\" \"mu_22\"], colordim=:parameter)"
   ]
  }
 ],
 "metadata": {
  "@webio": {
   "lastCommId": null,
   "lastKernelId": null
  },
  "anaconda-cloud": {},
  "celltoolbar": "Slideshow",
  "kernelspec": {
   "display_name": "Julia 1.3.0",
   "language": "julia",
   "name": "julia-1.3"
  },
  "language_info": {
   "file_extension": ".jl",
   "mimetype": "application/julia",
   "name": "julia",
   "version": "1.3.0"
  }
 },
 "nbformat": 4,
 "nbformat_minor": 4
}
