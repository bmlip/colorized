{
 "cells": [
  {
   "cell_type": "markdown",
   "metadata": {
    "slideshow": {
     "slide_type": "slide"
    }
   },
   "source": [
    "# Probabilistic Programming - 1 \n",
    "## Monte Carlo sampling\n",
    "\n",
    "So far you've been doing all your calculations by hand. As you have probably learned, this is timeconsuming and error prone. In this lesson we are going to introduce Probabilistic Programming as a method to automate some of the labour. We will cover 2 software packages: ForneyLab.jl and Turing.jl. We will mainly show you how to specify probabilistic models in both. The main takehome point is that while Probabilistic Programming requires some specialised knowledge in terms of probability theory and Bayesian inference, implementing an inference procedure is straightforward once you have the right tools."
   ]
  },
  {
   "cell_type": "markdown",
   "metadata": {
    "slideshow": {
     "slide_type": "slide"
    }
   },
   "source": [
    "### Preliminaries\n",
    "\n",
    "- Goal \n",
    "  - Learn to write a basic probabilistic program using Monte Carlo sampling.\n",
    "- Materials        \n",
    "  - Mandatory\n",
    "    - These lecture notes.\n",
    "    - [Intro to programming in Julia](https://youtu.be/8h8rQyEpiZA?t=233).\n",
    "    - Tutorials using [Turing.jl](https://turing.ml/dev/tutorials/0-introduction/)\n",
    "  - Optional\n",
    "    - Cheatsheets: [how does Julia differ from Matlab / Python](https://docs.julialang.org/en/v1/manual/noteworthy-differences/index.html)."
   ]
  },
  {
   "cell_type": "markdown",
   "metadata": {},
   "source": [
    "# Introduction to Turing\n",
    "In this lesson we are going to introduce Turing as an alternative to ForneyLab. Turing is another Probabilistic Programming library available in Julia. Unlike ForneyLab, Turing relies on sampling based schemes to perform inference. This has advantages and disadvantages which you will investigate in the coming lessons.\n",
    "Things to keep in mind when using Turing:\n",
    "1. Sampling based inference always runs. This means Turing can handle a wider class of problems than ForneyLab\n",
    "2. Sampling based inference is stochastic. Your results will vary between runs.\n",
    "3. Sampling based inference is slow. \n",
    "\n",
    "Let's build a model! We are going to work with the same linear regression model that you have already investigated in ForneyLab. Since we have already covered the model specification, we can go a little faster this time"
   ]
  },
  {
   "cell_type": "code",
   "execution_count": 1,
   "metadata": {},
   "outputs": [
    {
     "name": "stdout",
     "output_type": "stream",
     "text": [
      "\u001b[32m\u001b[1mActivating\u001b[22m\u001b[39m environment at `~/Documents/biaslab/repos/BMLIP/lessons/notebooks/probprog/workspace/Project.toml`\n"
     ]
    }
   ],
   "source": [
    "using Pkg;Pkg.activate(\"workspace\");Pkg.instantiate()"
   ]
  },
  {
   "cell_type": "code",
   "execution_count": 2,
   "metadata": {},
   "outputs": [
    {
     "data": {
      "image/svg+xml": [
       "<?xml version=\"1.0\" encoding=\"utf-8\"?>\n",
       "<svg xmlns=\"http://www.w3.org/2000/svg\" xmlns:xlink=\"http://www.w3.org/1999/xlink\" width=\"600\" height=\"400\" viewBox=\"0 0 2400 1600\">\n",
       "<defs>\n",
       "  <clipPath id=\"clip7300\">\n",
       "    <rect x=\"0\" y=\"0\" width=\"2400\" height=\"1600\"/>\n",
       "  </clipPath>\n",
       "</defs>\n",
       "<path clip-path=\"url(#clip7300)\" d=\"\n",
       "M0 1600 L2400 1600 L2400 0 L0 0  Z\n",
       "  \" fill=\"#ffffff\" fill-rule=\"evenodd\" fill-opacity=\"1\"/>\n",
       "<defs>\n",
       "  <clipPath id=\"clip7301\">\n",
       "    <rect x=\"480\" y=\"0\" width=\"1681\" height=\"1600\"/>\n",
       "  </clipPath>\n",
       "</defs>\n",
       "<path clip-path=\"url(#clip7300)\" d=\"\n",
       "M113.754 1487.47 L2352.76 1487.47 L2352.76 47.2441 L113.754 47.2441  Z\n",
       "  \" fill=\"#ffffff\" fill-rule=\"evenodd\" fill-opacity=\"1\"/>\n",
       "<defs>\n",
       "  <clipPath id=\"clip7302\">\n",
       "    <rect x=\"113\" y=\"47\" width=\"2240\" height=\"1441\"/>\n",
       "  </clipPath>\n",
       "</defs>\n",
       "<polyline clip-path=\"url(#clip7302)\" style=\"stroke:#000000; stroke-width:2; stroke-opacity:0.1; fill:none\" points=\"\n",
       "  125.604,1487.47 125.604,47.2441 \n",
       "  \"/>\n",
       "<polyline clip-path=\"url(#clip7302)\" style=\"stroke:#000000; stroke-width:2; stroke-opacity:0.1; fill:none\" points=\"\n",
       "  640.79,1487.47 640.79,47.2441 \n",
       "  \"/>\n",
       "<polyline clip-path=\"url(#clip7302)\" style=\"stroke:#000000; stroke-width:2; stroke-opacity:0.1; fill:none\" points=\"\n",
       "  1155.98,1487.47 1155.98,47.2441 \n",
       "  \"/>\n",
       "<polyline clip-path=\"url(#clip7302)\" style=\"stroke:#000000; stroke-width:2; stroke-opacity:0.1; fill:none\" points=\"\n",
       "  1671.16,1487.47 1671.16,47.2441 \n",
       "  \"/>\n",
       "<polyline clip-path=\"url(#clip7302)\" style=\"stroke:#000000; stroke-width:2; stroke-opacity:0.1; fill:none\" points=\"\n",
       "  2186.35,1487.47 2186.35,47.2441 \n",
       "  \"/>\n",
       "<polyline clip-path=\"url(#clip7302)\" style=\"stroke:#000000; stroke-width:2; stroke-opacity:0.1; fill:none\" points=\"\n",
       "  113.754,1348.74 2352.76,1348.74 \n",
       "  \"/>\n",
       "<polyline clip-path=\"url(#clip7302)\" style=\"stroke:#000000; stroke-width:2; stroke-opacity:0.1; fill:none\" points=\"\n",
       "  113.754,1035.35 2352.76,1035.35 \n",
       "  \"/>\n",
       "<polyline clip-path=\"url(#clip7302)\" style=\"stroke:#000000; stroke-width:2; stroke-opacity:0.1; fill:none\" points=\"\n",
       "  113.754,721.956 2352.76,721.956 \n",
       "  \"/>\n",
       "<polyline clip-path=\"url(#clip7302)\" style=\"stroke:#000000; stroke-width:2; stroke-opacity:0.1; fill:none\" points=\"\n",
       "  113.754,408.565 2352.76,408.565 \n",
       "  \"/>\n",
       "<polyline clip-path=\"url(#clip7302)\" style=\"stroke:#000000; stroke-width:2; stroke-opacity:0.1; fill:none\" points=\"\n",
       "  113.754,95.174 2352.76,95.174 \n",
       "  \"/>\n",
       "<polyline clip-path=\"url(#clip7300)\" style=\"stroke:#000000; stroke-width:4; stroke-opacity:1; fill:none\" points=\"\n",
       "  113.754,1487.47 2352.76,1487.47 \n",
       "  \"/>\n",
       "<polyline clip-path=\"url(#clip7300)\" style=\"stroke:#000000; stroke-width:4; stroke-opacity:1; fill:none\" points=\"\n",
       "  113.754,1487.47 113.754,47.2441 \n",
       "  \"/>\n",
       "<polyline clip-path=\"url(#clip7300)\" style=\"stroke:#000000; stroke-width:4; stroke-opacity:1; fill:none\" points=\"\n",
       "  125.604,1487.47 125.604,1465.87 \n",
       "  \"/>\n",
       "<polyline clip-path=\"url(#clip7300)\" style=\"stroke:#000000; stroke-width:4; stroke-opacity:1; fill:none\" points=\"\n",
       "  640.79,1487.47 640.79,1465.87 \n",
       "  \"/>\n",
       "<polyline clip-path=\"url(#clip7300)\" style=\"stroke:#000000; stroke-width:4; stroke-opacity:1; fill:none\" points=\"\n",
       "  1155.98,1487.47 1155.98,1465.87 \n",
       "  \"/>\n",
       "<polyline clip-path=\"url(#clip7300)\" style=\"stroke:#000000; stroke-width:4; stroke-opacity:1; fill:none\" points=\"\n",
       "  1671.16,1487.47 1671.16,1465.87 \n",
       "  \"/>\n",
       "<polyline clip-path=\"url(#clip7300)\" style=\"stroke:#000000; stroke-width:4; stroke-opacity:1; fill:none\" points=\"\n",
       "  2186.35,1487.47 2186.35,1465.87 \n",
       "  \"/>\n",
       "<polyline clip-path=\"url(#clip7300)\" style=\"stroke:#000000; stroke-width:4; stroke-opacity:1; fill:none\" points=\"\n",
       "  113.754,1348.74 147.339,1348.74 \n",
       "  \"/>\n",
       "<polyline clip-path=\"url(#clip7300)\" style=\"stroke:#000000; stroke-width:4; stroke-opacity:1; fill:none\" points=\"\n",
       "  113.754,1035.35 147.339,1035.35 \n",
       "  \"/>\n",
       "<polyline clip-path=\"url(#clip7300)\" style=\"stroke:#000000; stroke-width:4; stroke-opacity:1; fill:none\" points=\"\n",
       "  113.754,721.956 147.339,721.956 \n",
       "  \"/>\n",
       "<polyline clip-path=\"url(#clip7300)\" style=\"stroke:#000000; stroke-width:4; stroke-opacity:1; fill:none\" points=\"\n",
       "  113.754,408.565 147.339,408.565 \n",
       "  \"/>\n",
       "<polyline clip-path=\"url(#clip7300)\" style=\"stroke:#000000; stroke-width:4; stroke-opacity:1; fill:none\" points=\"\n",
       "  113.754,95.174 147.339,95.174 \n",
       "  \"/>\n",
       "<g clip-path=\"url(#clip7300)\">\n",
       "<text style=\"fill:#000000; fill-opacity:1; font-family:Arial,Helvetica Neue,Helvetica,sans-serif; font-size:48px; text-anchor:middle;\" transform=\"rotate(0, 125.604, 1541.47)\" x=\"125.604\" y=\"1541.47\">0</text>\n",
       "</g>\n",
       "<g clip-path=\"url(#clip7300)\">\n",
       "<text style=\"fill:#000000; fill-opacity:1; font-family:Arial,Helvetica Neue,Helvetica,sans-serif; font-size:48px; text-anchor:middle;\" transform=\"rotate(0, 640.79, 1541.47)\" x=\"640.79\" y=\"1541.47\">10</text>\n",
       "</g>\n",
       "<g clip-path=\"url(#clip7300)\">\n",
       "<text style=\"fill:#000000; fill-opacity:1; font-family:Arial,Helvetica Neue,Helvetica,sans-serif; font-size:48px; text-anchor:middle;\" transform=\"rotate(0, 1155.98, 1541.47)\" x=\"1155.98\" y=\"1541.47\">20</text>\n",
       "</g>\n",
       "<g clip-path=\"url(#clip7300)\">\n",
       "<text style=\"fill:#000000; fill-opacity:1; font-family:Arial,Helvetica Neue,Helvetica,sans-serif; font-size:48px; text-anchor:middle;\" transform=\"rotate(0, 1671.16, 1541.47)\" x=\"1671.16\" y=\"1541.47\">30</text>\n",
       "</g>\n",
       "<g clip-path=\"url(#clip7300)\">\n",
       "<text style=\"fill:#000000; fill-opacity:1; font-family:Arial,Helvetica Neue,Helvetica,sans-serif; font-size:48px; text-anchor:middle;\" transform=\"rotate(0, 2186.35, 1541.47)\" x=\"2186.35\" y=\"1541.47\">40</text>\n",
       "</g>\n",
       "<g clip-path=\"url(#clip7300)\">\n",
       "<text style=\"fill:#000000; fill-opacity:1; font-family:Arial,Helvetica Neue,Helvetica,sans-serif; font-size:48px; text-anchor:end;\" transform=\"rotate(0, 89.7545, 1366.24)\" x=\"89.7545\" y=\"1366.24\">0</text>\n",
       "</g>\n",
       "<g clip-path=\"url(#clip7300)\">\n",
       "<text style=\"fill:#000000; fill-opacity:1; font-family:Arial,Helvetica Neue,Helvetica,sans-serif; font-size:48px; text-anchor:end;\" transform=\"rotate(0, 89.7545, 1052.85)\" x=\"89.7545\" y=\"1052.85\">2</text>\n",
       "</g>\n",
       "<g clip-path=\"url(#clip7300)\">\n",
       "<text style=\"fill:#000000; fill-opacity:1; font-family:Arial,Helvetica Neue,Helvetica,sans-serif; font-size:48px; text-anchor:end;\" transform=\"rotate(0, 89.7545, 739.456)\" x=\"89.7545\" y=\"739.456\">4</text>\n",
       "</g>\n",
       "<g clip-path=\"url(#clip7300)\">\n",
       "<text style=\"fill:#000000; fill-opacity:1; font-family:Arial,Helvetica Neue,Helvetica,sans-serif; font-size:48px; text-anchor:end;\" transform=\"rotate(0, 89.7545, 426.065)\" x=\"89.7545\" y=\"426.065\">6</text>\n",
       "</g>\n",
       "<g clip-path=\"url(#clip7300)\">\n",
       "<text style=\"fill:#000000; fill-opacity:1; font-family:Arial,Helvetica Neue,Helvetica,sans-serif; font-size:48px; text-anchor:end;\" transform=\"rotate(0, 89.7545, 112.674)\" x=\"89.7545\" y=\"112.674\">8</text>\n",
       "</g>\n",
       "<circle clip-path=\"url(#clip7302)\" style=\"fill:#000000; stroke:none; fill-opacity:1\" cx=\"177.122\" cy=\"1392.07\" r=\"18\"/>\n",
       "<circle clip-path=\"url(#clip7302)\" style=\"fill:#009af9; stroke:none; fill-opacity:1\" cx=\"177.122\" cy=\"1392.07\" r=\"14\"/>\n",
       "<circle clip-path=\"url(#clip7302)\" style=\"fill:#000000; stroke:none; fill-opacity:1\" cx=\"228.641\" cy=\"1446.71\" r=\"18\"/>\n",
       "<circle clip-path=\"url(#clip7302)\" style=\"fill:#009af9; stroke:none; fill-opacity:1\" cx=\"228.641\" cy=\"1446.71\" r=\"14\"/>\n",
       "<circle clip-path=\"url(#clip7302)\" style=\"fill:#000000; stroke:none; fill-opacity:1\" cx=\"280.16\" cy=\"1398.21\" r=\"18\"/>\n",
       "<circle clip-path=\"url(#clip7302)\" style=\"fill:#009af9; stroke:none; fill-opacity:1\" cx=\"280.16\" cy=\"1398.21\" r=\"14\"/>\n",
       "<circle clip-path=\"url(#clip7302)\" style=\"fill:#000000; stroke:none; fill-opacity:1\" cx=\"331.678\" cy=\"1211.52\" r=\"18\"/>\n",
       "<circle clip-path=\"url(#clip7302)\" style=\"fill:#009af9; stroke:none; fill-opacity:1\" cx=\"331.678\" cy=\"1211.52\" r=\"14\"/>\n",
       "<circle clip-path=\"url(#clip7302)\" style=\"fill:#000000; stroke:none; fill-opacity:1\" cx=\"383.197\" cy=\"1228.52\" r=\"18\"/>\n",
       "<circle clip-path=\"url(#clip7302)\" style=\"fill:#009af9; stroke:none; fill-opacity:1\" cx=\"383.197\" cy=\"1228.52\" r=\"14\"/>\n",
       "<circle clip-path=\"url(#clip7302)\" style=\"fill:#000000; stroke:none; fill-opacity:1\" cx=\"434.716\" cy=\"992.224\" r=\"18\"/>\n",
       "<circle clip-path=\"url(#clip7302)\" style=\"fill:#009af9; stroke:none; fill-opacity:1\" cx=\"434.716\" cy=\"992.224\" r=\"14\"/>\n",
       "<circle clip-path=\"url(#clip7302)\" style=\"fill:#000000; stroke:none; fill-opacity:1\" cx=\"486.234\" cy=\"1362.91\" r=\"18\"/>\n",
       "<circle clip-path=\"url(#clip7302)\" style=\"fill:#009af9; stroke:none; fill-opacity:1\" cx=\"486.234\" cy=\"1362.91\" r=\"14\"/>\n",
       "<circle clip-path=\"url(#clip7302)\" style=\"fill:#000000; stroke:none; fill-opacity:1\" cx=\"537.753\" cy=\"1230.46\" r=\"18\"/>\n",
       "<circle clip-path=\"url(#clip7302)\" style=\"fill:#009af9; stroke:none; fill-opacity:1\" cx=\"537.753\" cy=\"1230.46\" r=\"14\"/>\n",
       "<circle clip-path=\"url(#clip7302)\" style=\"fill:#000000; stroke:none; fill-opacity:1\" cx=\"589.272\" cy=\"1128.9\" r=\"18\"/>\n",
       "<circle clip-path=\"url(#clip7302)\" style=\"fill:#009af9; stroke:none; fill-opacity:1\" cx=\"589.272\" cy=\"1128.9\" r=\"14\"/>\n",
       "<circle clip-path=\"url(#clip7302)\" style=\"fill:#000000; stroke:none; fill-opacity:1\" cx=\"640.79\" cy=\"899.859\" r=\"18\"/>\n",
       "<circle clip-path=\"url(#clip7302)\" style=\"fill:#009af9; stroke:none; fill-opacity:1\" cx=\"640.79\" cy=\"899.859\" r=\"14\"/>\n",
       "<circle clip-path=\"url(#clip7302)\" style=\"fill:#000000; stroke:none; fill-opacity:1\" cx=\"692.309\" cy=\"1100.75\" r=\"18\"/>\n",
       "<circle clip-path=\"url(#clip7302)\" style=\"fill:#009af9; stroke:none; fill-opacity:1\" cx=\"692.309\" cy=\"1100.75\" r=\"14\"/>\n",
       "<circle clip-path=\"url(#clip7302)\" style=\"fill:#000000; stroke:none; fill-opacity:1\" cx=\"743.828\" cy=\"1128.05\" r=\"18\"/>\n",
       "<circle clip-path=\"url(#clip7302)\" style=\"fill:#009af9; stroke:none; fill-opacity:1\" cx=\"743.828\" cy=\"1128.05\" r=\"14\"/>\n",
       "<circle clip-path=\"url(#clip7302)\" style=\"fill:#000000; stroke:none; fill-opacity:1\" cx=\"795.346\" cy=\"809.46\" r=\"18\"/>\n",
       "<circle clip-path=\"url(#clip7302)\" style=\"fill:#009af9; stroke:none; fill-opacity:1\" cx=\"795.346\" cy=\"809.46\" r=\"14\"/>\n",
       "<circle clip-path=\"url(#clip7302)\" style=\"fill:#000000; stroke:none; fill-opacity:1\" cx=\"846.865\" cy=\"1033.22\" r=\"18\"/>\n",
       "<circle clip-path=\"url(#clip7302)\" style=\"fill:#009af9; stroke:none; fill-opacity:1\" cx=\"846.865\" cy=\"1033.22\" r=\"14\"/>\n",
       "<circle clip-path=\"url(#clip7302)\" style=\"fill:#000000; stroke:none; fill-opacity:1\" cx=\"898.384\" cy=\"1137.9\" r=\"18\"/>\n",
       "<circle clip-path=\"url(#clip7302)\" style=\"fill:#009af9; stroke:none; fill-opacity:1\" cx=\"898.384\" cy=\"1137.9\" r=\"14\"/>\n",
       "<circle clip-path=\"url(#clip7302)\" style=\"fill:#000000; stroke:none; fill-opacity:1\" cx=\"949.902\" cy=\"721.939\" r=\"18\"/>\n",
       "<circle clip-path=\"url(#clip7302)\" style=\"fill:#009af9; stroke:none; fill-opacity:1\" cx=\"949.902\" cy=\"721.939\" r=\"14\"/>\n",
       "<circle clip-path=\"url(#clip7302)\" style=\"fill:#000000; stroke:none; fill-opacity:1\" cx=\"1001.42\" cy=\"1196.26\" r=\"18\"/>\n",
       "<circle clip-path=\"url(#clip7302)\" style=\"fill:#009af9; stroke:none; fill-opacity:1\" cx=\"1001.42\" cy=\"1196.26\" r=\"14\"/>\n",
       "<circle clip-path=\"url(#clip7302)\" style=\"fill:#000000; stroke:none; fill-opacity:1\" cx=\"1052.94\" cy=\"1043.62\" r=\"18\"/>\n",
       "<circle clip-path=\"url(#clip7302)\" style=\"fill:#009af9; stroke:none; fill-opacity:1\" cx=\"1052.94\" cy=\"1043.62\" r=\"14\"/>\n",
       "<circle clip-path=\"url(#clip7302)\" style=\"fill:#000000; stroke:none; fill-opacity:1\" cx=\"1104.46\" cy=\"820.308\" r=\"18\"/>\n",
       "<circle clip-path=\"url(#clip7302)\" style=\"fill:#009af9; stroke:none; fill-opacity:1\" cx=\"1104.46\" cy=\"820.308\" r=\"14\"/>\n",
       "<circle clip-path=\"url(#clip7302)\" style=\"fill:#000000; stroke:none; fill-opacity:1\" cx=\"1155.98\" cy=\"948.668\" r=\"18\"/>\n",
       "<circle clip-path=\"url(#clip7302)\" style=\"fill:#009af9; stroke:none; fill-opacity:1\" cx=\"1155.98\" cy=\"948.668\" r=\"14\"/>\n",
       "<circle clip-path=\"url(#clip7302)\" style=\"fill:#000000; stroke:none; fill-opacity:1\" cx=\"1207.5\" cy=\"667.248\" r=\"18\"/>\n",
       "<circle clip-path=\"url(#clip7302)\" style=\"fill:#009af9; stroke:none; fill-opacity:1\" cx=\"1207.5\" cy=\"667.248\" r=\"14\"/>\n",
       "<circle clip-path=\"url(#clip7302)\" style=\"fill:#000000; stroke:none; fill-opacity:1\" cx=\"1259.01\" cy=\"849.23\" r=\"18\"/>\n",
       "<circle clip-path=\"url(#clip7302)\" style=\"fill:#009af9; stroke:none; fill-opacity:1\" cx=\"1259.01\" cy=\"849.23\" r=\"14\"/>\n",
       "<circle clip-path=\"url(#clip7302)\" style=\"fill:#000000; stroke:none; fill-opacity:1\" cx=\"1310.53\" cy=\"752.544\" r=\"18\"/>\n",
       "<circle clip-path=\"url(#clip7302)\" style=\"fill:#009af9; stroke:none; fill-opacity:1\" cx=\"1310.53\" cy=\"752.544\" r=\"14\"/>\n",
       "<circle clip-path=\"url(#clip7302)\" style=\"fill:#000000; stroke:none; fill-opacity:1\" cx=\"1362.05\" cy=\"952.506\" r=\"18\"/>\n",
       "<circle clip-path=\"url(#clip7302)\" style=\"fill:#009af9; stroke:none; fill-opacity:1\" cx=\"1362.05\" cy=\"952.506\" r=\"14\"/>\n",
       "<circle clip-path=\"url(#clip7302)\" style=\"fill:#000000; stroke:none; fill-opacity:1\" cx=\"1413.57\" cy=\"599.705\" r=\"18\"/>\n",
       "<circle clip-path=\"url(#clip7302)\" style=\"fill:#009af9; stroke:none; fill-opacity:1\" cx=\"1413.57\" cy=\"599.705\" r=\"14\"/>\n",
       "<circle clip-path=\"url(#clip7302)\" style=\"fill:#000000; stroke:none; fill-opacity:1\" cx=\"1465.09\" cy=\"724.174\" r=\"18\"/>\n",
       "<circle clip-path=\"url(#clip7302)\" style=\"fill:#009af9; stroke:none; fill-opacity:1\" cx=\"1465.09\" cy=\"724.174\" r=\"14\"/>\n",
       "<circle clip-path=\"url(#clip7302)\" style=\"fill:#000000; stroke:none; fill-opacity:1\" cx=\"1516.61\" cy=\"816.844\" r=\"18\"/>\n",
       "<circle clip-path=\"url(#clip7302)\" style=\"fill:#009af9; stroke:none; fill-opacity:1\" cx=\"1516.61\" cy=\"816.844\" r=\"14\"/>\n",
       "<circle clip-path=\"url(#clip7302)\" style=\"fill:#000000; stroke:none; fill-opacity:1\" cx=\"1568.13\" cy=\"696.521\" r=\"18\"/>\n",
       "<circle clip-path=\"url(#clip7302)\" style=\"fill:#009af9; stroke:none; fill-opacity:1\" cx=\"1568.13\" cy=\"696.521\" r=\"14\"/>\n",
       "<circle clip-path=\"url(#clip7302)\" style=\"fill:#000000; stroke:none; fill-opacity:1\" cx=\"1619.65\" cy=\"534.804\" r=\"18\"/>\n",
       "<circle clip-path=\"url(#clip7302)\" style=\"fill:#009af9; stroke:none; fill-opacity:1\" cx=\"1619.65\" cy=\"534.804\" r=\"14\"/>\n",
       "<circle clip-path=\"url(#clip7302)\" style=\"fill:#000000; stroke:none; fill-opacity:1\" cx=\"1671.16\" cy=\"583.266\" r=\"18\"/>\n",
       "<circle clip-path=\"url(#clip7302)\" style=\"fill:#009af9; stroke:none; fill-opacity:1\" cx=\"1671.16\" cy=\"583.266\" r=\"14\"/>\n",
       "<circle clip-path=\"url(#clip7302)\" style=\"fill:#000000; stroke:none; fill-opacity:1\" cx=\"1722.68\" cy=\"612.659\" r=\"18\"/>\n",
       "<circle clip-path=\"url(#clip7302)\" style=\"fill:#009af9; stroke:none; fill-opacity:1\" cx=\"1722.68\" cy=\"612.659\" r=\"14\"/>\n",
       "<circle clip-path=\"url(#clip7302)\" style=\"fill:#000000; stroke:none; fill-opacity:1\" cx=\"1774.2\" cy=\"613.525\" r=\"18\"/>\n",
       "<circle clip-path=\"url(#clip7302)\" style=\"fill:#009af9; stroke:none; fill-opacity:1\" cx=\"1774.2\" cy=\"613.525\" r=\"14\"/>\n",
       "<circle clip-path=\"url(#clip7302)\" style=\"fill:#000000; stroke:none; fill-opacity:1\" cx=\"1825.72\" cy=\"247.969\" r=\"18\"/>\n",
       "<circle clip-path=\"url(#clip7302)\" style=\"fill:#009af9; stroke:none; fill-opacity:1\" cx=\"1825.72\" cy=\"247.969\" r=\"14\"/>\n",
       "<circle clip-path=\"url(#clip7302)\" style=\"fill:#000000; stroke:none; fill-opacity:1\" cx=\"1877.24\" cy=\"322.879\" r=\"18\"/>\n",
       "<circle clip-path=\"url(#clip7302)\" style=\"fill:#009af9; stroke:none; fill-opacity:1\" cx=\"1877.24\" cy=\"322.879\" r=\"14\"/>\n",
       "<circle clip-path=\"url(#clip7302)\" style=\"fill:#000000; stroke:none; fill-opacity:1\" cx=\"1928.76\" cy=\"596.697\" r=\"18\"/>\n",
       "<circle clip-path=\"url(#clip7302)\" style=\"fill:#009af9; stroke:none; fill-opacity:1\" cx=\"1928.76\" cy=\"596.697\" r=\"14\"/>\n",
       "<circle clip-path=\"url(#clip7302)\" style=\"fill:#000000; stroke:none; fill-opacity:1\" cx=\"1980.28\" cy=\"540.275\" r=\"18\"/>\n",
       "<circle clip-path=\"url(#clip7302)\" style=\"fill:#009af9; stroke:none; fill-opacity:1\" cx=\"1980.28\" cy=\"540.275\" r=\"14\"/>\n",
       "<circle clip-path=\"url(#clip7302)\" style=\"fill:#000000; stroke:none; fill-opacity:1\" cx=\"2031.79\" cy=\"531.802\" r=\"18\"/>\n",
       "<circle clip-path=\"url(#clip7302)\" style=\"fill:#009af9; stroke:none; fill-opacity:1\" cx=\"2031.79\" cy=\"531.802\" r=\"14\"/>\n",
       "<circle clip-path=\"url(#clip7302)\" style=\"fill:#000000; stroke:none; fill-opacity:1\" cx=\"2083.31\" cy=\"615.19\" r=\"18\"/>\n",
       "<circle clip-path=\"url(#clip7302)\" style=\"fill:#009af9; stroke:none; fill-opacity:1\" cx=\"2083.31\" cy=\"615.19\" r=\"14\"/>\n",
       "<circle clip-path=\"url(#clip7302)\" style=\"fill:#000000; stroke:none; fill-opacity:1\" cx=\"2134.83\" cy=\"393.979\" r=\"18\"/>\n",
       "<circle clip-path=\"url(#clip7302)\" style=\"fill:#009af9; stroke:none; fill-opacity:1\" cx=\"2134.83\" cy=\"393.979\" r=\"14\"/>\n",
       "<circle clip-path=\"url(#clip7302)\" style=\"fill:#000000; stroke:none; fill-opacity:1\" cx=\"2186.35\" cy=\"404.324\" r=\"18\"/>\n",
       "<circle clip-path=\"url(#clip7302)\" style=\"fill:#009af9; stroke:none; fill-opacity:1\" cx=\"2186.35\" cy=\"404.324\" r=\"14\"/>\n",
       "<circle clip-path=\"url(#clip7302)\" style=\"fill:#000000; stroke:none; fill-opacity:1\" cx=\"2237.87\" cy=\"278.173\" r=\"18\"/>\n",
       "<circle clip-path=\"url(#clip7302)\" style=\"fill:#009af9; stroke:none; fill-opacity:1\" cx=\"2237.87\" cy=\"278.173\" r=\"14\"/>\n",
       "<circle clip-path=\"url(#clip7302)\" style=\"fill:#000000; stroke:none; fill-opacity:1\" cx=\"2289.39\" cy=\"88.0053\" r=\"18\"/>\n",
       "<circle clip-path=\"url(#clip7302)\" style=\"fill:#009af9; stroke:none; fill-opacity:1\" cx=\"2289.39\" cy=\"88.0053\" r=\"14\"/>\n",
       "</svg>\n"
      ]
     },
     "execution_count": 2,
     "metadata": {},
     "output_type": "execute_result"
    }
   ],
   "source": [
    "using Turing\n",
    "using Plots\n",
    "using Random"
   ]
  },
  {
   "cell_type": "code",
   "execution_count": null,
   "metadata": {},
   "outputs": [],
   "source": [
    "# Parameters\n",
    "true_W = [1.0;0.5]\n",
    "true_σ = 1.\n",
    "true_μ = 0.\n",
    "true_slope = 0.1\n",
    "\n",
<<<<<<< HEAD
    "# Length of signal\n",
    "n = 42\n",
    "            \n",
    "function generate_data(true_W, true_σ, true_μ, n)\n",
    "    \n",
    "    # Draw from a Gaussian with correct parameters\n",
    "    x = randn(size(true_W)[1],n) .* true_σ .+ true_μ \n",
    "    \n",
    "    # Add a slope\n",
    "    [x[:,i] .+= true_slope * i for i in 1:n] \n",
    "    \n",
    "    # Compute y values\n",
    "    y = true_W' * x \n",
    "    \n",
    "    # List comprehension formats data for easy access later\n",
    "    return [x[:,i] for i in 1:n],y \n",
    "end\n",
    "   \n",
    "# Actually generate the data\n",
    "x_data,y_data = generate_data(true_W,true_σ,true_μ,n)\n",
    "\n",
    "# Visualize\n",
    "scatter(1:n,y_data[:], xlabel=\"time (t)\", label=\"\", grid=false)"
=======
    "function generate_data(true_W, true_σ, true_μ, n)\n",
    "    x = randn(size(true_W)[1],n) .* true_σ .+ true_μ + cumsum(ones(size(true_W)[1],n) * true_slope,dims=2)\n",
    "    y = true_W' * x\n",
    "    return [x[:,i] for i in 1:n],y\n",
    "end\n",
    "\n",
    "x_data,y_data = generate_data(true_W,true_σ,true_μ,n)\n",
    "scatter(1:n,y_data[:], label=\"\")\n"
>>>>>>> 1e4d60c173b71ec02668ecdf1d84d7fc71c752d2
   ]
  },
  {
   "cell_type": "code",
   "execution_count": 3,
   "metadata": {},
   "outputs": [],
   "source": [
    "# This is where we build the model\n",
    "using Turing # Import the library\n",
    "\n",
    "# Turing uses the @model macro to define the model function\n",
    "@model linear_regression(x, y, n) = begin # Number of datapoints (n) as additional input\n",
    "    \n",
    "    # Parameters for priors\n",
    "    μ_w = [0.,0.]\n",
    "    σ_w = [1. 0. ; 0. 1.]\n",
    "    σ_y = 1.\n",
    "    W ~ MvNormal(μ_w,σ_w) # As before we define a 2 dimensional Gaussian prior for the weights\n",
    "\n",
    "    for i in 1:n # Loop over data points\n",
    "        \n",
    "        y[i] ~ Normal(W' * x[i], σ_y) # Estimate y as the dot product of W and x\n",
    "        \n",
    "    end\n",
    "end;"
   ]
  },
  {
   "cell_type": "markdown",
   "metadata": {},
   "source": [
    "And that's it! Now we are ready to do inference. For Turing that means selecting a sampling algorithm and setting the associated parameters. For this example we will use the No U-Turn Sampler (NUTS). As above, don't worry too much about the details of the inference algorithm. Though if you are feeling adventurous, feel free to try out the other sampling algorithms available or try out different parameter settings. Can you get better results? What happens to the runtime?"
   ]
  },
  {
   "cell_type": "code",
   "execution_count": 4,
   "metadata": {},
   "outputs": [
    {
     "name": "stderr",
     "output_type": "stream",
     "text": [
      "┌ Info: [Turing]: global PROGRESS is set as false\n",
      "└ @ Turing /home/mkoudahl/.julia/packages/Turing/xGrY5/src/Turing.jl:24\n",
      "┌ Info: Found initial step size\n",
      "│   ϵ = 0.05\n",
      "└ @ Turing.Inference /home/mkoudahl/.julia/packages/Turing/xGrY5/src/inference/hmc.jl:547\n"
     ]
    }
   ],
   "source": [
    "# Disable status bars for the inference procedure\n",
    "Turing.turnprogress(:false);\n",
    "\n",
    "# Run the sampling procedure and generate an MCMCChain\n",
    "chain = Turing.sample(linear_regression(x_data,y_data,n), NUTS(500,0.65),5000);"
   ]
  },
  {
   "cell_type": "markdown",
   "metadata": {},
   "source": [
    "The inference procedure has introduced a new object: The MCMCChain. This object holds the results of our sampling procedure as well as some diagnostic information to assess convergence of the sampler. Let's take a look at what's inside using the describe() function in Turing"
   ]
  },
  {
   "cell_type": "code",
   "execution_count": 5,
   "metadata": {},
   "outputs": [
    {
     "data": {
      "text/plain": [
       "2-element Array{ChainDataFrame,1}\n",
       "\n",
       "Summary Statistics\n",
       ". Omitted printing of 1 columns\n",
       "│ Row │ parameters │ mean     │ std      │ naive_se   │ mcse       │ ess     │\n",
       "│     │ \u001b[90mSymbol\u001b[39m     │ \u001b[90mFloat64\u001b[39m  │ \u001b[90mFloat64\u001b[39m  │ \u001b[90mFloat64\u001b[39m    │ \u001b[90mFloat64\u001b[39m    │ \u001b[90mAny\u001b[39m     │\n",
       "├─────┼────────────┼──────────┼──────────┼────────────┼────────────┼─────────┤\n",
       "│ 1   │ W[1]       │ 0.993672 │ 0.103641 │ 0.00154498 │ 0.00331958 │ 1090.85 │\n",
       "│ 2   │ W[2]       │ 0.506291 │ 0.10634  │ 0.00158523 │ 0.00337443 │ 1159.52 │\n",
       "\n",
       "Quantiles\n",
       "\n",
       "│ Row │ parameters │ 2.5%     │ 25.0%    │ 50.0%    │ 75.0%    │ 97.5%    │\n",
       "│     │ \u001b[90mSymbol\u001b[39m     │ \u001b[90mFloat64\u001b[39m  │ \u001b[90mFloat64\u001b[39m  │ \u001b[90mFloat64\u001b[39m  │ \u001b[90mFloat64\u001b[39m  │ \u001b[90mFloat64\u001b[39m  │\n",
       "├─────┼────────────┼──────────┼──────────┼──────────┼──────────┼──────────┤\n",
       "│ 1   │ W[1]       │ 0.784931 │ 0.924845 │ 0.994355 │ 1.06334  │ 1.19825  │\n",
       "│ 2   │ W[2]       │ 0.300498 │ 0.436061 │ 0.503077 │ 0.577857 │ 0.712289 │\n"
      ]
     },
     "execution_count": 5,
     "metadata": {},
     "output_type": "execute_result"
    }
   ],
   "source": [
    "describe(chain)"
   ]
  },
  {
   "cell_type": "markdown",
   "metadata": {},
   "source": [
    "The above table holds a lot of information. A lot of the entries are specific to the inference algorithm so we will focus on the results that matter - that being the posterior distribution over the weights W[1] and W[2]. Did the sampler succesfully manage to recover the parameters of the data generating process? "
   ]
  },
  {
   "cell_type": "markdown",
   "metadata": {},
   "source": [
    "Now it's your turn! Below are 2 tasks to get you started working with Probabilistic Programming in Turing. An important part of being a good probabilistic programmer is to use the right tool for the right job and to do that you need to be familiar with multiple toolboxes. Good luck and may the odds be ever in your favour"
   ]
  },
  {
   "cell_type": "markdown",
   "metadata": {},
   "source": [
    "#### Assigment 1. \n",
    "Generate some new data and change the value of true_$\\mu$ to something other than 0. How does the model fit now? As was the case with the ForneyLab model, we are missing an intercept and it is your task to extend the model to remedy this. However this time you should implement it *without* adding an additional weight to W. \n",
    "A common trick from the probabilistic programmers bag is reparameterisation - the act of writing equivalent models in different ways. Besides leading to faster code, reparameterisation can allow you to work with models that otherwise would violate the constraints of your chosen library or inference procedure. This particular reparameterisation is mostly for illustrative purposes, but it is always important to be aware of what your options are. \n",
    "Can you think of a different parameterisation for the intercept?"
   ]
  },
  {
   "cell_type": "code",
   "execution_count": 6,
   "metadata": {},
   "outputs": [],
   "source": [
    "# Your code here"
   ]
  },
  {
   "cell_type": "markdown",
   "metadata": {},
   "source": [
    "#### Assignment 2.\n",
    "The code below generates a dataset of 0's and 1's. Your task is to turn the Turing model above into a binary classifier. The probabilistic model looks like this\n",
    "$$ W \\sim \\mathcal{N}(\\mathbf{\\mu_w},\\mathbf{\\sigma_w})$$\n",
    "$$y^\\prime{} \\sim \\mathcal{N}(W^Tx,\\sigma_y)$$\n",
    "$$ p = \\sigma(y^\\prime{})$$\n",
    "$$y \\sim \\mathcal{B}er(p))$$\n",
    "\n",
    "As you can see, it is pretty similar to the linear regression covered so far. The main difference is that $y$ is now a Bernoulli distribution since the data consists of 0's and 1's. The Bernoulli distribution takes a single parameter $p$ in the range [0,1]. Hence we need to squash the output of the regression $y^\\prime{}$ using a logistic function $\\sigma$. To that end we have provided a function for you to use."
   ]
  },
  {
   "cell_type": "code",
   "execution_count": 7,
   "metadata": {},
   "outputs": [],
   "source": [
    "# Sigmoid function\n",
    "σ(x) = 1/ (1 + exp(-x))\n",
    "\n",
    "# Parameters for generating data\n",
    "true_W = [1.0;0.5]\n",
    "true_σ = 1.\n",
    "true_μ = 2.\n",
    "n = 10\n",
    "\n",
    "function generate_binary_data(true_W, true_σ, true_μ, n)\n",
    "    x = randn(size(true_W)[1],n) .* true_σ .+ true_μ\n",
    "    y = round.(σ.(true_W' * x))\n",
    "    return [x[:,i] for i in 1:n],y\n",
    "end\n",
    "\n",
    "# Binary dataset\n",
    "x_data,y_data = generate_binary_data(true_W,true_σ,true_μ,n);"
   ]
  },
  {
   "cell_type": "code",
   "execution_count": 8,
   "metadata": {},
   "outputs": [
    {
     "ename": "LoadError",
     "evalue": "syntax: unexpected \"end\"",
     "output_type": "error",
     "traceback": [
      "syntax: unexpected \"end\"",
      ""
     ]
    }
   ],
   "source": [
    "@model binary_classifier(x, y, n) = begin\n",
    "    \n",
    "    # Parameters for priors\n",
    "    μ_w = # YOUR CODE HERE\n",
    "    σ_w = # YOUR CODE HERE\n",
    "    σ_y = # YOUR CODE HERE\n",
    "    W ~ # YOUR CODE HERE\n",
    "\n",
    "    y_prime = Vector(undef,n)\n",
    "    for i in 1:n # Loop over data points\n",
    "        \n",
    "        y_prime[i] ~ #YOUR CODE HERE\n",
    "        y[i] ~ # YOUR CODE HERE\n",
    "        \n",
    "    end\n",
    "end\n",
    "\n",
    "chain = Turing.sample(binary_classifier(x_data,y_data,n), NUTS(500,0.65),5000);\n",
    "describe(chain)"
   ]
  },
  {
   "cell_type": "markdown",
   "metadata": {},
   "source": [
    "## Assignment 3: Optional\n",
    "Write either the regression or classification model in at least 2 different parameterisations and investigate the differences. You can either examine runtime (Figure out how to profile your code in Julia), convergence (Check the documentation of Turing and MCMCChains for automated diagnostics. Good search terms to get you started are \"Chain Plots\" and \"Gelman-Rubin statistics\") or investigate how the different parameterisations scale with number of data points or input dimensions (Modify the data generating process)."
   ]
  },
  {
   "cell_type": "code",
   "execution_count": 9,
   "metadata": {},
   "outputs": [],
   "source": [
    "# YOUR CODE HERE"
   ]
  },
  {
   "cell_type": "markdown",
   "metadata": {},
   "source": [
    "## Assignment 4: Optional\n",
    "Download the Titanic dataset from https://web.stanford.edu/class/archive/cs/cs109/cs109.1166/stuff/titanic.csv. It contains passenger information about all the passengers of the Titanic as well as whether they survived the sinking or not. Use your newly acquired knowledge of Probabilistic Programming to build a classifier that predicts whether a passenger survives or not based on the available information. You will have to do your own data wrangling to get the data set into a shape that you can work with as well as come up with your own model specification and parameterisation.\n",
    "\n",
    "Feel free to use any of the tricks you have learned or know from your prior experience. The only constraint is that you *must* solve the problem using Probabilistic Programming. "
   ]
  },
  {
   "cell_type": "code",
   "execution_count": 10,
   "metadata": {},
   "outputs": [],
   "source": [
    "# YOUR CODE HERE"
   ]
  }
 ],
 "metadata": {
  "@webio": {
   "lastCommId": null,
   "lastKernelId": null
  },
  "anaconda-cloud": {},
  "celltoolbar": "Slideshow",
  "kernelspec": {
   "display_name": "Julia 1.3.0",
   "language": "julia",
   "name": "julia-1.3"
  },
  "language_info": {
   "file_extension": ".jl",
   "mimetype": "application/julia",
   "name": "julia",
   "version": "1.3.0"
  }
 },
 "nbformat": 4,
 "nbformat_minor": 4
}
