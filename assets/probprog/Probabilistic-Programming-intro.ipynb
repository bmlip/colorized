{
 "cells": [
  {
   "cell_type": "markdown",
   "metadata": {
    "slideshow": {
     "slide_type": "slide"
    }
   },
   "source": [
    "# Probabilistic Programming\n",
    "## Introduction\n",
    "\n",
    "So far you've been doing all your calculations by hand. As you have probably learned, this is timeconsuming and error prone. In this minicourse, we are going to automate some of this labour. The framework of defining a probabilistic model and automatically inferring variables of interest is called _Probabilistic Programming_."
   ]
  },
  {
   "cell_type": "markdown",
   "metadata": {},
   "source": [
    "The main problem with probabilistic models and Bayesian inference in general, is that one cannot perform certain integrations required to form the posterior distribution. This is either because the l"
   ]
  },
  {
   "cell_type": "markdown",
   "metadata": {},
   "source": [
    "### Two schools of thought\n",
    "\n",
    "Within probabilistic programming, there are two main approaches: Monte Carlo Sampling and Variational Inference. We will briefly discuss both.\n",
    "\n",
    "#### Monte Carlo Sampling\n",
    "\n",
    "TODO\n",
    "\n",
    "#### Variational Inference\n",
    "\n",
    "TODO"
   ]
  },
  {
   "cell_type": "markdown",
   "metadata": {},
   "source": [
    "### Model Critiquing & Improvement\n",
    "It is important to continuously critique and improve your model design. This is daily practice for most data scientists and machine learning engineers. How to critique models is a skill often expected to be obtained through experience; practice makes perfect. However, there are quite a few heuristics that can serve as useful tools in your toolbelt. Today we will be going over a few of them."
   ]
  },
  {
   "cell_type": "markdown",
   "metadata": {
    "slideshow": {
     "slide_type": "slide"
    }
   },
   "source": [
    "### Materials\n",
    "\n",
    "#### Reading\n",
    "- [Wikipedia](https://en.wikipedia.org/wiki/Probabilistic_programming)\n",
    "- [Variational inference: a review for statisticians (Blei et al., 2018)](https://arxiv.org/pdf/1601.00670.pdf)\n",
    "\n",
    "#### Videos\n",
    "- [Intro to programming in Julia](https://youtu.be/8h8rQyEpiZA?t=233).\n",
    "\n",
    "#### Software\n",
    "- Multi-language\n",
    "    - [Stan](https://mc-stan.org/)\n",
    "- Julia\n",
    "    - [Turing.jl](https://turing.ml/dev/tutorials/0-introduction/)\n",
    "    - [ForneyLab.jl](https://biaslab.github.io/forneylab/docs/getting-started/)\n",
    "- Python\n",
    "    - [Pyro](http://pyro.ai/)\n",
    "    - [TensorFlow Probability](https://www.tensorflow.org/probability/)\n",
    "- MATLAB\n",
    "    - [Stat & ML Toolbox](https://nl.mathworks.com/products/statistics.html)\n",
    "    - [dimple](https://github.com/analog-garage/dimple)\n",
    "- .NET\n",
    "    - [Infer.NET](https://www.microsoft.com/en-us/research/project/infernet/)"
   ]
  }
 ],
 "metadata": {
  "@webio": {
   "lastCommId": null,
   "lastKernelId": null
  },
  "anaconda-cloud": {},
  "celltoolbar": "Slideshow",
  "kernelspec": {
   "display_name": "Julia 1.1.0",
   "language": "julia",
   "name": "julia-1.1"
  },
  "language_info": {
   "file_extension": ".jl",
   "mimetype": "application/julia",
   "name": "julia",
   "version": "1.1.0"
  }
 },
 "nbformat": 4,
 "nbformat_minor": 4
}
