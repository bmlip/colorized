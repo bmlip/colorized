{
 "cells": [
  {
   "cell_type": "markdown",
   "metadata": {
    "slideshow": {
     "slide_type": "slide"
    }
   },
   "source": [
    "# Probabilistic Programming 3: Regression & Classification\n",
    "\n",
    "#### Goal \n",
    "  - Understand how to estimate regression parameters using variational Bayesian inference.\n",
    "  - Understand how to estimate classification parameters using variational Bayesian inference.\n",
    "  \n",
    "#### Materials       \n",
    "  - Mandatory\n",
    "    - This notebook.\n",
    "    - Lecture notes on [regression](https://nbviewer.jupyter.org/github/bertdv/BMLIP/blob/master/lessons/notebooks/Regression.ipynb).\n",
    "    - Lecture notes on [generative](https://nbviewer.jupyter.org/github/bertdv/BMLIP/blob/master/lessons/notebooks/Generative-Classification.ipynb) and discriminative [classification](https://nbviewer.jupyter.org/github/bertdv/BMLIP/blob/master/lessons/notebooks/Discriminative-Classification.ipynb).\n",
    "  - Optional\n",
    "    - [Cheatsheets: how does Julia differ from Matlab / Python](https://docs.julialang.org/en/v1/manual/noteworthy-differences/index.html)."
   ]
  },
  {
   "cell_type": "code",
   "execution_count": 1,
   "metadata": {
    "slideshow": {
     "slide_type": "slide"
    }
   },
   "outputs": [],
   "source": [
    "using Pkg\n",
    "Pkg.activate(\"workspace\")\n",
    "Pkg.instantiate();\n",
    "IJulia.clear_output();"
   ]
  },
  {
   "cell_type": "markdown",
   "metadata": {},
   "source": [
    "## Problem: Economic growth\n",
    "\n",
    "In 2008, the credit crisis sparked a recession in the US, which spread to other countries in the ensuing years. It took most countries a couple of years to recover. \n",
    "Now, the year is 2011. The Turkish government is asking you to estimate whether Turkey is out of the recession. You decide to look at the data of the national stock exchange to see if there's a positive trend. "
   ]
  },
  {
   "cell_type": "code",
   "execution_count": 2,
   "metadata": {},
   "outputs": [],
   "source": [
    "using CSV\n",
    "using DataFrames\n",
    "using Plots\n",
    "pyplot();"
   ]
  },
  {
   "cell_type": "markdown",
   "metadata": {},
   "source": [
    "### Data\n",
    "\n",
    "We are going to start with loading in a data set. We have daily measurements from Istanbul, from the 5th of January 2009 until 22nd of February 2011. The dataset comes from an online resource for machine learning data sets: the [UCI ML Repository](https://archive.ics.uci.edu/ml/datasets/ISTANBUL+STOCK+EXCHANGE)."
   ]
  },
  {
   "cell_type": "code",
   "execution_count": 3,
   "metadata": {},
   "outputs": [
    {
     "data": {
      "text/html": [
       "<table class=\"data-frame\"><thead><tr><th></th><th>date</th><th>ISE</th></tr><tr><th></th><th>String</th><th>Float64</th></tr></thead><tbody><p>536 rows × 2 columns</p><tr><th>1</th><td>5-Jan-09</td><td>0.0357537</td></tr><tr><th>2</th><td>6-Jan-09</td><td>0.0254259</td></tr><tr><th>3</th><td>7-Jan-09</td><td>-0.0288617</td></tr><tr><th>4</th><td>8-Jan-09</td><td>-0.0622081</td></tr><tr><th>5</th><td>9-Jan-09</td><td>0.00985991</td></tr><tr><th>6</th><td>12-Jan-09</td><td>-0.029191</td></tr><tr><th>7</th><td>13-Jan-09</td><td>0.0154453</td></tr><tr><th>8</th><td>14-Jan-09</td><td>-0.0411676</td></tr><tr><th>9</th><td>15-Jan-09</td><td>0.000661905</td></tr><tr><th>10</th><td>16-Jan-09</td><td>0.0220373</td></tr><tr><th>11</th><td>19-Jan-09</td><td>-0.0226925</td></tr><tr><th>12</th><td>20-Jan-09</td><td>-0.0137087</td></tr><tr><th>13</th><td>21-Jan-09</td><td>0.000864697</td></tr><tr><th>14</th><td>22-Jan-09</td><td>-0.00381506</td></tr><tr><th>15</th><td>23-Jan-09</td><td>0.00566126</td></tr><tr><th>16</th><td>26-Jan-09</td><td>0.0468313</td></tr><tr><th>17</th><td>27-Jan-09</td><td>-0.00663498</td></tr><tr><th>18</th><td>28-Jan-09</td><td>0.034567</td></tr><tr><th>19</th><td>29-Jan-09</td><td>-0.0205282</td></tr><tr><th>20</th><td>30-Jan-09</td><td>-0.0087767</td></tr><tr><th>21</th><td>2-Feb-09</td><td>-0.0259191</td></tr><tr><th>22</th><td>3-Feb-09</td><td>0.0152795</td></tr><tr><th>23</th><td>4-Feb-09</td><td>0.0185778</td></tr><tr><th>24</th><td>5-Feb-09</td><td>-0.0141329</td></tr><tr><th>25</th><td>6-Feb-09</td><td>0.036607</td></tr><tr><th>26</th><td>9-Feb-09</td><td>0.0113532</td></tr><tr><th>27</th><td>10-Feb-09</td><td>-0.040542</td></tr><tr><th>28</th><td>11-Feb-09</td><td>-0.0221056</td></tr><tr><th>29</th><td>12-Feb-09</td><td>-0.0148884</td></tr><tr><th>30</th><td>13-Feb-09</td><td>0.00702675</td></tr><tr><th>&vellip;</th><td>&vellip;</td><td>&vellip;</td></tr></tbody></table>"
      ],
      "text/latex": [
       "\\begin{tabular}{r|cc}\n",
       "\t& date & ISE\\\\\n",
       "\t\\hline\n",
       "\t& String & Float64\\\\\n",
       "\t\\hline\n",
       "\t1 & 5-Jan-09 & 0.0357537 \\\\\n",
       "\t2 & 6-Jan-09 & 0.0254259 \\\\\n",
       "\t3 & 7-Jan-09 & -0.0288617 \\\\\n",
       "\t4 & 8-Jan-09 & -0.0622081 \\\\\n",
       "\t5 & 9-Jan-09 & 0.00985991 \\\\\n",
       "\t6 & 12-Jan-09 & -0.029191 \\\\\n",
       "\t7 & 13-Jan-09 & 0.0154453 \\\\\n",
       "\t8 & 14-Jan-09 & -0.0411676 \\\\\n",
       "\t9 & 15-Jan-09 & 0.000661905 \\\\\n",
       "\t10 & 16-Jan-09 & 0.0220373 \\\\\n",
       "\t11 & 19-Jan-09 & -0.0226925 \\\\\n",
       "\t12 & 20-Jan-09 & -0.0137087 \\\\\n",
       "\t13 & 21-Jan-09 & 0.000864697 \\\\\n",
       "\t14 & 22-Jan-09 & -0.00381506 \\\\\n",
       "\t15 & 23-Jan-09 & 0.00566126 \\\\\n",
       "\t16 & 26-Jan-09 & 0.0468313 \\\\\n",
       "\t17 & 27-Jan-09 & -0.00663498 \\\\\n",
       "\t18 & 28-Jan-09 & 0.034567 \\\\\n",
       "\t19 & 29-Jan-09 & -0.0205282 \\\\\n",
       "\t20 & 30-Jan-09 & -0.0087767 \\\\\n",
       "\t21 & 2-Feb-09 & -0.0259191 \\\\\n",
       "\t22 & 3-Feb-09 & 0.0152795 \\\\\n",
       "\t23 & 4-Feb-09 & 0.0185778 \\\\\n",
       "\t24 & 5-Feb-09 & -0.0141329 \\\\\n",
       "\t25 & 6-Feb-09 & 0.036607 \\\\\n",
       "\t26 & 9-Feb-09 & 0.0113532 \\\\\n",
       "\t27 & 10-Feb-09 & -0.040542 \\\\\n",
       "\t28 & 11-Feb-09 & -0.0221056 \\\\\n",
       "\t29 & 12-Feb-09 & -0.0148884 \\\\\n",
       "\t30 & 13-Feb-09 & 0.00702675 \\\\\n",
       "\t$\\dots$ & $\\dots$ & $\\dots$ \\\\\n",
       "\\end{tabular}\n"
      ],
      "text/plain": [
       "536×2 DataFrame\n",
       "│ Row │ date      │ ISE         │\n",
       "│     │ \u001b[90mString\u001b[39m    │ \u001b[90mFloat64\u001b[39m     │\n",
       "├─────┼───────────┼─────────────┤\n",
       "│ 1   │ 5-Jan-09  │ 0.0357537   │\n",
       "│ 2   │ 6-Jan-09  │ 0.0254259   │\n",
       "│ 3   │ 7-Jan-09  │ -0.0288617  │\n",
       "│ 4   │ 8-Jan-09  │ -0.0622081  │\n",
       "│ 5   │ 9-Jan-09  │ 0.00985991  │\n",
       "│ 6   │ 12-Jan-09 │ -0.029191   │\n",
       "│ 7   │ 13-Jan-09 │ 0.0154453   │\n",
       "│ 8   │ 14-Jan-09 │ -0.0411676  │\n",
       "│ 9   │ 15-Jan-09 │ 0.000661905 │\n",
       "│ 10  │ 16-Jan-09 │ 0.0220373   │\n",
       "⋮\n",
       "│ 526 │ 8-Feb-11  │ 0.00535559  │\n",
       "│ 527 │ 9-Feb-11  │ 0.00482299  │\n",
       "│ 528 │ 10-Feb-11 │ -0.0176644  │\n",
       "│ 529 │ 11-Feb-11 │ 0.00478229  │\n",
       "│ 530 │ 14-Feb-11 │ -0.00249793 │\n",
       "│ 531 │ 15-Feb-11 │ 0.00360638  │\n",
       "│ 532 │ 16-Feb-11 │ 0.00859906  │\n",
       "│ 533 │ 17-Feb-11 │ 0.00931031  │\n",
       "│ 534 │ 18-Feb-11 │ 0.000190969 │\n",
       "│ 535 │ 21-Feb-11 │ -0.013069   │\n",
       "│ 536 │ 22-Feb-11 │ -0.00724632 │"
      ]
     },
     "execution_count": 3,
     "metadata": {},
     "output_type": "execute_result"
    }
   ],
   "source": [
    "# Read CSV file\n",
    "df = CSV.read(\"../datasets/istanbul_stockexchange.csv\")"
   ]
  },
  {
   "cell_type": "markdown",
   "metadata": {},
   "source": [
    "We can plot the evolution of the stock market values over time."
   ]
  },
  {
   "cell_type": "code",
   "execution_count": 4,
   "metadata": {},
   "outputs": [
    {
     "data": {
      "image/png": "[encoded data removed]"
     },
     "execution_count": 4,
     "metadata": {},
     "output_type": "execute_result"
    }
   ],
   "source": [
    "# Count number of samples\n",
    "num_samples = 100\n",
    "\n",
    "# Extract columns\n",
    "dates_num = 1:num_samples\n",
    "dates_str = df[1:num_samples,1]\n",
    "stock_val = df[1:num_samples,2]\n",
    "\n",
    "# Set xticks\n",
    "xtick_points = Int64.(round.(range(1, stop=num_samples, length=5)))\n",
    "\n",
    "# Scatter exchange levels\n",
    "scatter(dates_num, \n",
    "        stock_val, \n",
    "        color=\"black\",\n",
    "        label=\"\", \n",
    "        ylabel=\"Stock Market Levels\", \n",
    "        xlabel=\"time (days)\",\n",
    "        xticks=(xtick_points, [dates_str[i] for i in xtick_points]), \n",
    "        size=(800,300))"
   ]
  },
  {
   "cell_type": "markdown",
   "metadata": {},
   "source": [
    "### Model specification\n",
    "\n",
    "We have dates $X$ and stock exchange levels $Y$. A regression model has parameters $\\theta$, used to predict $Y$ from $X$. We are looking for a joint distribution that splits into a likelihood and prior distributions:\n",
    "\n",
    "$$\\underbrace{p(\\theta \\mid Y, X)}_{\\text{posterior}} \\propto\\ \\underbrace{p(Y \\mid X, \\theta)}_{\\text{likelihood}} \\cdot \\underbrace{p(\\theta)}_{\\text{prior}}$$\n",
    "\n",
    "We assume each observation $Y_i$ is generated via: \n",
    "\n",
    "$$ Y_i = f_\\theta(X_i) + e$$ \n",
    "\n",
    "where $e$ is white noise, $e \\sim \\mathcal{N}(0, \\sigma^2_Y)$, and the regression function $f_\\theta$ is linear: $f_\\theta(X) = X \\theta_1 + \\theta_2$. The parameters consist of a slope coefficient $\\theta_1$ and an intercept $\\theta_2$, which are summarized into a parameter vector, $\\theta = [\\theta_1\\ \\theta_2]$. We will use the name \"covariates\" for $X$ and \"responses\" for $Y$. If we integrate out the noise $e$, then we obtain a Gaussian likelihood function centered on $f_\\theta(X)$ with variance $\\sigma^2_Y$:\n",
    "\n",
    "$$Y \\sim \\mathcal{N}(f_\\theta(X),\\sigma^2_Y)\\, \\ .$$ \n",
    "\n",
    "Note that this is the likelihood: $p(Y \\mid X, \\theta)$. We know that the weights are real numbers and that they can be negative. That motivates us to use a Gaussian prior:\n",
    "\n",
    "$$ \\theta \\sim \\mathcal{N}(\\mu_\\theta, \\sigma^2_\\theta) \\, .$$\n",
    "\n",
    "Note that this is $p(\\theta)$. For now, this is all we need. We're going to specify these two equations with ForneyLab. First, we initialize a factor graph:"
   ]
  },
  {
   "cell_type": "code",
   "execution_count": 5,
   "metadata": {},
   "outputs": [],
   "source": [
    "using ForneyLab"
   ]
  },
  {
   "cell_type": "code",
   "execution_count": 6,
   "metadata": {},
   "outputs": [
    {
     "data": {
      "text/html": [
       "<?xml version=\"1.0\" encoding=\"UTF-8\" standalone=\"no\"?>\n",
       "<!DOCTYPE svg PUBLIC \"-//W3C//DTD SVG 1.1//EN\"\n",
       " \"http://www.w3.org/Graphics/SVG/1.1/DTD/svg11.dtd\">\n",
       "<!-- Generated by graphviz version 2.40.1 (20161225.0304)\n",
       " -->\n",
       "<!-- Title: G Pages: 1 -->\n",
       "<svg width=\"376pt\" height=\"512pt\"\n",
       " viewBox=\"0.00 0.00 376.00 512.00\" xmlns=\"http://www.w3.org/2000/svg\" xmlns:xlink=\"http://www.w3.org/1999/xlink\">\n",
       "<g id=\"graph0\" class=\"graph\" transform=\"scale(1 1) rotate(0) translate(4 508)\">\n",
       "<title>G</title>\n",
       "<polygon fill=\"#ffffff\" stroke=\"transparent\" points=\"-4,4 -4,-508 372,-508 372,4 -4,4\"/>\n",
       "<!-- 4877230228338362842 -->\n",
       "<g id=\"node1\" class=\"node\">\n",
       "<title>4877230228338362842</title>\n",
       "<polygon fill=\"none\" stroke=\"#000000\" points=\"349,-405 245,-405 245,-333 349,-333 349,-405\"/>\n",
       "<text text-anchor=\"middle\" x=\"297\" y=\"-371.8\" font-family=\"Times,serif\" font-size=\"9.00\" fill=\"#000000\">𝒩</text>\n",
       "<text text-anchor=\"middle\" x=\"297\" y=\"-361.8\" font-family=\"Times,serif\" font-size=\"9.00\" fill=\"#000000\">gaussianmeanvariance_2</text>\n",
       "</g>\n",
       "<!-- 7059548890408786759 -->\n",
       "<g id=\"node2\" class=\"node\">\n",
       "<title>7059548890408786759</title>\n",
       "<polygon fill=\"none\" stroke=\"#000000\" points=\"147,-288 75,-288 75,-216 147,-216 147,-288\"/>\n",
       "<text text-anchor=\"middle\" x=\"111\" y=\"-254.8\" font-family=\"Times,serif\" font-size=\"9.00\" fill=\"#000000\">dot</text>\n",
       "<text text-anchor=\"middle\" x=\"111\" y=\"-244.8\" font-family=\"Times,serif\" font-size=\"9.00\" fill=\"#000000\">dotproduct_1</text>\n",
       "</g>\n",
       "<!-- 4877230228338362842&#45;&#45;7059548890408786759 -->\n",
       "<g id=\"edge4\" class=\"edge\">\n",
       "<title>4877230228338362842&#45;&#45;7059548890408786759</title>\n",
       "<path fill=\"none\" stroke=\"#000000\" d=\"M244.6937,-336.0976C213.5333,-316.4967 174.7807,-292.1201 147.0332,-274.666\"/>\n",
       "<text text-anchor=\"start\" x=\"209\" y=\"-308.6\" font-family=\"Times,serif\" font-size=\"8.00\" fill=\"#ff0000\">variable_1</text>\n",
       "<text text-anchor=\"start\" x=\"147.0332\" y=\"-277.266\" font-family=\"Times,serif\" font-size=\"8.00\" fill=\"#000000\">1 out </text>\n",
       "<text text-anchor=\"start\" x=\"229.6937\" y=\"-338.6976\" font-family=\"Times,serif\" font-size=\"8.00\" fill=\"#000000\">2 m </text>\n",
       "</g>\n",
       "<!-- 4805238489438627492 -->\n",
       "<g id=\"node5\" class=\"node\">\n",
       "<title>4805238489438627492</title>\n",
       "<polygon fill=\"#d3d3d3\" stroke=\"#000000\" points=\"368,-279 314,-279 314,-225 368,-225 368,-279\"/>\n",
       "<text text-anchor=\"middle\" x=\"341\" y=\"-249.8\" font-family=\"Times,serif\" font-size=\"9.00\" fill=\"#000000\">clamp_3</text>\n",
       "</g>\n",
       "<!-- 4877230228338362842&#45;&#45;4805238489438627492 -->\n",
       "<g id=\"edge7\" class=\"edge\">\n",
       "<title>4877230228338362842&#45;&#45;4805238489438627492</title>\n",
       "<path fill=\"none\" stroke=\"#000000\" d=\"M310.5605,-332.9415C317.0751,-315.6185 324.7535,-295.201 330.7685,-279.2064\"/>\n",
       "<text text-anchor=\"start\" x=\"320\" y=\"-308.6\" font-family=\"Times,serif\" font-size=\"8.00\" fill=\"#ff0000\">clamp_3</text>\n",
       "<text text-anchor=\"start\" x=\"311.7685\" y=\"-281.8064\" font-family=\"Times,serif\" font-size=\"8.00\" fill=\"#000000\">1 out </text>\n",
       "<text text-anchor=\"start\" x=\"297.5605\" y=\"-326.5415\" font-family=\"Times,serif\" font-size=\"8.00\" fill=\"#000000\">3 v </text>\n",
       "</g>\n",
       "<!-- 5888483600926107653 -->\n",
       "<g id=\"node3\" class=\"node\">\n",
       "<title>5888483600926107653</title>\n",
       "<polygon fill=\"none\" stroke=\"#000000\" points=\"163,-171 59,-171 59,-99 163,-99 163,-171\"/>\n",
       "<text text-anchor=\"middle\" x=\"111\" y=\"-137.8\" font-family=\"Times,serif\" font-size=\"9.00\" fill=\"#000000\">𝒩</text>\n",
       "<text text-anchor=\"middle\" x=\"111\" y=\"-127.8\" font-family=\"Times,serif\" font-size=\"9.00\" fill=\"#000000\">gaussianmeanvariance_1</text>\n",
       "</g>\n",
       "<!-- 7059548890408786759&#45;&#45;5888483600926107653 -->\n",
       "<g id=\"edge5\" class=\"edge\">\n",
       "<title>7059548890408786759&#45;&#45;5888483600926107653</title>\n",
       "<path fill=\"none\" stroke=\"#000000\" d=\"M111,-215.9415C111,-201.7071 111,-185.3833 111,-171.1409\"/>\n",
       "<text text-anchor=\"start\" x=\"111\" y=\"-191.6\" font-family=\"Times,serif\" font-size=\"8.00\" fill=\"#ff0000\">θ</text>\n",
       "<text text-anchor=\"start\" x=\"92\" y=\"-173.7409\" font-family=\"Times,serif\" font-size=\"8.00\" fill=\"#000000\">1 out </text>\n",
       "<text text-anchor=\"start\" x=\"92\" y=\"-209.5415\" font-family=\"Times,serif\" font-size=\"8.00\" fill=\"#000000\">2 in1 </text>\n",
       "</g>\n",
       "<!-- 12778978089307132597 -->\n",
       "<g id=\"node4\" class=\"node\">\n",
       "<title>12778978089307132597</title>\n",
       "<polygon fill=\"#d3d3d3\" stroke=\"#000000\" points=\"54,-54 0,-54 0,0 54,0 54,-54\"/>\n",
       "<text text-anchor=\"middle\" x=\"27\" y=\"-24.8\" font-family=\"Times,serif\" font-size=\"9.00\" fill=\"#000000\">clamp_2</text>\n",
       "</g>\n",
       "<!-- 5888483600926107653&#45;&#45;12778978089307132597 -->\n",
       "<g id=\"edge2\" class=\"edge\">\n",
       "<title>5888483600926107653&#45;&#45;12778978089307132597</title>\n",
       "<path fill=\"none\" stroke=\"#000000\" d=\"M58.6481,-113.5725C45.2995,-105.4421 32.592,-94.7316 25,-81 20.5515,-72.9541 19.802,-63.1548 20.5713,-54.1238\"/>\n",
       "<text text-anchor=\"start\" x=\"25\" y=\"-74.6\" font-family=\"Times,serif\" font-size=\"8.00\" fill=\"#ff0000\">clamp_2</text>\n",
       "<text text-anchor=\"start\" x=\"1.5713\" y=\"-56.7238\" font-family=\"Times,serif\" font-size=\"8.00\" fill=\"#000000\">1 out </text>\n",
       "<text text-anchor=\"start\" x=\"45.6481\" y=\"-116.1725\" font-family=\"Times,serif\" font-size=\"8.00\" fill=\"#000000\">3 v </text>\n",
       "</g>\n",
       "<!-- 3818311936302491143 -->\n",
       "<g id=\"node6\" class=\"node\">\n",
       "<title>3818311936302491143</title>\n",
       "<polygon fill=\"#d3d3d3\" stroke=\"#000000\" points=\"223,-54 169,-54 169,0 223,0 223,-54\"/>\n",
       "<text text-anchor=\"middle\" x=\"196\" y=\"-24.8\" font-family=\"Times,serif\" font-size=\"9.00\" fill=\"#000000\">clamp_1</text>\n",
       "</g>\n",
       "<!-- 5888483600926107653&#45;&#45;3818311936302491143 -->\n",
       "<g id=\"edge6\" class=\"edge\">\n",
       "<title>5888483600926107653&#45;&#45;3818311936302491143</title>\n",
       "<path fill=\"none\" stroke=\"#000000\" d=\"M139.5402,-98.7371C151.0188,-84.1526 164.0257,-67.6262 174.6598,-54.1146\"/>\n",
       "<text text-anchor=\"start\" x=\"158\" y=\"-74.6\" font-family=\"Times,serif\" font-size=\"8.00\" fill=\"#ff0000\">clamp_1</text>\n",
       "<text text-anchor=\"start\" x=\"155.6598\" y=\"-56.7146\" font-family=\"Times,serif\" font-size=\"8.00\" fill=\"#000000\">1 out </text>\n",
       "<text text-anchor=\"start\" x=\"124.5402\" y=\"-92.3371\" font-family=\"Times,serif\" font-size=\"8.00\" fill=\"#000000\">2 m </text>\n",
       "</g>\n",
       "<!-- 12160076481860200152 -->\n",
       "<g id=\"node7\" class=\"node\">\n",
       "<title>12160076481860200152</title>\n",
       "</g>\n",
       "<!-- 12160076481860200152&#45;&#45;4877230228338362842 -->\n",
       "<g id=\"edge1\" class=\"edge\">\n",
       "<title>12160076481860200152&#45;&#45;4877230228338362842</title>\n",
       "<path fill=\"none\" stroke=\"#000000\" d=\"M297,-449.747C297,-436.2495 297,-419.7693 297,-405.2253\"/>\n",
       "<text text-anchor=\"start\" x=\"297\" y=\"-425.6\" font-family=\"Times,serif\" font-size=\"8.00\" fill=\"#ff0000\">Y</text>\n",
       "<text text-anchor=\"start\" x=\"278\" y=\"-407.8253\" font-family=\"Times,serif\" font-size=\"8.00\" fill=\"#000000\">1 out </text>\n",
       "</g>\n",
       "<!-- 109265809669884858332 -->\n",
       "<g id=\"node8\" class=\"node\">\n",
       "<title>109265809669884858332</title>\n",
       "</g>\n",
       "<!-- 109265809669884858332&#45;&#45;7059548890408786759 -->\n",
       "<g id=\"edge3\" class=\"edge\">\n",
       "<title>109265809669884858332&#45;&#45;7059548890408786759</title>\n",
       "<path fill=\"none\" stroke=\"#000000\" d=\"M57.3774,-341.7826C57.2595,-330.3538 58.4529,-317.1536 63,-306 65.8885,-298.9148 70.1259,-292.1401 74.9052,-285.9302\"/>\n",
       "<text text-anchor=\"start\" x=\"63\" y=\"-308.6\" font-family=\"Times,serif\" font-size=\"8.00\" fill=\"#ff0000\">X</text>\n",
       "<text text-anchor=\"start\" x=\"55.9052\" y=\"-288.5302\" font-family=\"Times,serif\" font-size=\"8.00\" fill=\"#000000\">3 in2 </text>\n",
       "</g>\n",
       "</g>\n",
       "</svg>\n"
      ]
     },
     "metadata": {},
     "output_type": "display_data"
    }
   ],
   "source": [
    "# Start factor graph\n",
    "g = FactorGraph();\n",
    "\n",
    "# Parameters for priors\n",
    "μ_θ = [0., 0.]\n",
    "σ2_θ = [1. 0.; 0. 1.]\n",
    "\n",
    "# Fix noise\n",
    "σ2_Y = 1.\n",
    "\n",
    "# In ForneyLab we use the @RV macro to denote Random Variables\n",
    "@RV X\n",
    "\n",
    "# Define a prior over the weights\n",
    "@RV θ ~ GaussianMeanVariance(μ_θ, σ2_θ)\n",
    "\n",
    "# Response model is Gaussian function of the linear mapping between weights and covariates\n",
    "@RV Y ~ GaussianMeanVariance(dot(X,θ), σ2_Y)\n",
    "\n",
    "# Visualise the graph\n",
    "ForneyLab.draw()"
   ]
  },
  {
   "cell_type": "markdown",
   "metadata": {},
   "source": [
    "If you take a look at the graph, you will see that it has some open edges for x and y. This is where we want to feed in our data. To do so in ForneyLab, we designate them as placeholders. This means that we do not give them a value immediately but want them to take one a value later."
   ]
  },
  {
   "cell_type": "code",
   "execution_count": 7,
   "metadata": {},
   "outputs": [],
   "source": [
    "# We designate the covariates X to have two dimensions (the last one being all 1)\n",
    "placeholder(X, :X, dims=(2,))\n",
    "\n",
    "# Designate the observation variable\n",
    "placeholder(Y, :Y);"
   ]
  },
  {
   "cell_type": "markdown",
   "metadata": {},
   "source": [
    "Now that we have our model, it is time to infer parameters. ForneyLab includes Sum-Product as an exact inference algorithm. The details of the procedure are not important at this time, so feel free to treat it as a \"magic inference button\".\n",
    "ForneyLab works by directly generating new Julia code containing the inference algorithm. When we parse this code, we get a function (step!) which we can then run to update the recognition factors."
   ]
  },
  {
   "cell_type": "code",
   "execution_count": 8,
   "metadata": {},
   "outputs": [],
   "source": [
    "# We specify a recognition distribution\n",
    "q = PosteriorFactorization(θ, ids=[:θ])\n",
    "\n",
    "# Define and compile the algorithm\n",
    "algorithm = messagePassingAlgorithm(θ, q, free_energy=true) \n",
    "source_code = algorithmSourceCode(algorithm)\n",
    "\n",
    "# Evaluate the generated code to get the step! function\n",
    "eval(Meta.parse(source_code));"
   ]
  },
  {
   "cell_type": "markdown",
   "metadata": {},
   "source": [
    "Now, we iterate over time, feeding our data as it comes in and updating our posterior distribution for the parameters."
   ]
  },
  {
   "cell_type": "code",
   "execution_count": 9,
   "metadata": {},
   "outputs": [],
   "source": [
    "using ProgressMeter"
   ]
  },
  {
   "cell_type": "code",
   "execution_count": 10,
   "metadata": {},
   "outputs": [
    {
     "name": "stderr",
     "output_type": "stream",
     "text": [
      "\u001b[32mProgress: 100%|█████████████████████████████████████████| Time: 0:00:03\u001b[39m\n"
     ]
    }
   ],
   "source": [
    "# Initialize posteriors dictionary\n",
    "posteriors = Dict()\n",
    "\n",
    "@showprogress for i = 1:num_samples\n",
    "    \n",
    "    # Load i-th data point\n",
    "    data = Dict(:X => [dates_num[i], 1],\n",
    "                :Y => stock_val[i])\n",
    "\n",
    "    # Update posterior for θ\n",
    "    stepθ!(data, posteriors)\n",
    "end"
   ]
  },
  {
   "cell_type": "markdown",
   "metadata": {},
   "source": [
    "We can use these estimates to compute the regression function $f_\\theta$."
   ]
  },
  {
   "cell_type": "code",
   "execution_count": 11,
   "metadata": {},
   "outputs": [
    {
     "name": "stdout",
     "output_type": "stream",
     "text": [
      "Slope coefficient = 8.799471105778839e-5\n",
      "Intercept coefficient = 8.799471105797041e-7\n"
     ]
    }
   ],
   "source": [
    "# Extract estimated weights\n",
    "θ_MAP = mode(posteriors[:θ])\n",
    "\n",
    "# Report results\n",
    "println(\"Slope coefficient = \"*string(θ_MAP[1]))\n",
    "println(\"Intercept coefficient = \"*string(θ_MAP[2]))\n",
    "\n",
    "# Make predictions\n",
    "regression_estimated = dates_num * θ_MAP[1] .+ θ_MAP[2];"
   ]
  },
  {
   "cell_type": "markdown",
   "metadata": {},
   "source": [
    " Let's visualize it."
   ]
  },
  {
   "cell_type": "code",
   "execution_count": 12,
   "metadata": {},
   "outputs": [
    {
     "data": {
      "image/png": "[encoded data removed]"
     },
     "execution_count": 12,
     "metadata": {},
     "output_type": "execute_result"
    }
   ],
   "source": [
    "# Visualize observations\n",
    "scatter(dates_num, stock_val, color=\"black\", xticks=(xtick_points, [dates_str[i] for i in xtick_points]), label=\"observations\", legend=:topleft)\n",
    "\n",
    "# Overlay regression function\n",
    "plot!(dates_num, regression_estimated, color=\"blue\", label=\"regression\", linewidth=2)"
   ]
  },
  {
   "cell_type": "markdown",
   "metadata": {},
   "source": [
    "The slope coefficient $\\theta_1$ is positive and the plot shows an increasing line. We may therefore conclude that the ISE has experienced a positive linear trend in the period January 2009 up to and including May 2009. If the stock market is indeed a good indicator of economic growth, then it is safe to say that the Turkish economy did grow in the first half of 2009."
   ]
  },
  {
   "cell_type": "markdown",
   "metadata": {},
   "source": [
    "---\n",
    "\n",
    "### $\\ast$ **Try for yourself**\n",
    "\n",
    "Change the time period by setting the `num_samples` variable. Re-run the regression and see how the results change.\n",
    "\n",
    "---"
   ]
  },
  {
   "cell_type": "markdown",
   "metadata": {},
   "source": [
    "## Problem: Credit Assignment\n",
    "\n",
    "We will now look at a classification problem. Suppose you are a bank and that you have to decide whether you will grant credit, i.e. a loan, to a customer. You have a historic data set where your experts have assigned credit to hundreds of people. You would like to automate this behavior."
   ]
  },
  {
   "cell_type": "markdown",
   "metadata": {},
   "source": [
    "### Data\n",
    "\n",
    "The bank provides you with a training set of past credit assignments, labeled as succesful and failed (data pulled from [UCI ML Repository](https://archive.ics.uci.edu/ml/datasets/Credit+Approval)). Many of the features have been anonymized for privacy concerns."
   ]
  },
  {
   "cell_type": "code",
   "execution_count": 13,
   "metadata": {},
   "outputs": [],
   "source": [
    "# Read CSV file\n",
    "df = CSV.read(\"../datasets/credit_train.csv\")\n",
    "\n",
    "# Split dataframe into features and labels\n",
    "features_train = convert(Array, df[:,1:7])\n",
    "labels_train = convert(Array, df[:,8]);\n",
    "\n",
    "# Store number of features\n",
    "num_features = size(features_train,2)\n",
    "\n",
    "# Number of training samples\n",
    "num_train = size(features_train,1);"
   ]
  },
  {
   "cell_type": "markdown",
   "metadata": {},
   "source": [
    "Let's visualize the data and see if we can make sense of it."
   ]
  },
  {
   "cell_type": "code",
   "execution_count": 14,
   "metadata": {},
   "outputs": [
    {
     "data": {
      "image/png": "[encoded data removed]"
     },
     "execution_count": 14,
     "metadata": {},
     "output_type": "execute_result"
    }
   ],
   "source": [
    "scatter(features_train[labels_train .== 0, 1], features_train[labels_train .== 0, 2], color=\"blue\", label=\"no credit\", xlabel=\"feature1\", ylabel=\"feature2\")\n",
    "scatter!(features_train[labels_train .== 1, 1], features_train[labels_train .== 1, 2], color=\"red\", label=\"credit\")"
   ]
  },
  {
   "cell_type": "markdown",
   "metadata": {},
   "source": [
    "Mmhh, it doesn't look like the samples can easily be separated. This will be challenging."
   ]
  },
  {
   "cell_type": "markdown",
   "metadata": {},
   "source": [
    "---\n",
    "\n",
    "### $\\ast$ **Try for yourself**\n",
    "\n",
    "The plot above shows features 1 and 2. Have a look at the other combinations of features.\n",
    "\n",
    "---"
   ]
  },
  {
   "cell_type": "markdown",
   "metadata": {},
   "source": [
    "### Model specification\n",
    "\n",
    "We have features $X$, labels $Y$ and parameters $\\theta$. Again, we are looking for a joint distribution that splits into a likelihood and prior distributions:\n",
    "\n",
    "$$\\underbrace{p(\\theta \\mid Y, X)}_{\\text{posterior}} \\propto\\ \\underbrace{p(Y \\mid X, \\theta)}_{\\text{likelihood}} \\cdot \\underbrace{p(\\theta)}_{\\text{prior}}$$\n",
    "\n",
    "The likelihood in this case will be of a Logit form:\n",
    "\n",
    "$$ p(Y \\mid X, \\theta) = \\prod_{i=1}^{N} \\ \\text{Logit}(Y_i \\mid f_\\theta(X_i), \\xi_i) \\, .$$ \n",
    "\n",
    "A Logit is short for a Bernoulli distribution with a sigmoid transfer function: $ \\sigma(x) = 1 / (1 + \\exp(-x))$. The sigmoid maps the input to the interval $(0,1)$ so that the result acts as a rate parameter to the Bernoulli. The second parameter to the Logit $\\xi$ is a \"local variational parameter\", which we won't go into here (see Section 10.5 of Bishop).\n",
    "\n",
    "We will use a Gaussian prior distribution for the classification parameters $\\theta$:\n",
    "\n",
    "$$ p(\\theta) = \\mathcal{N}(\\theta \\mid \\mu_\\theta, \\sigma^2_\\theta) \\, .$$\n",
    "\n",
    "There is no conjugate prior for the Logit likelihood. However, ForneyLab will automatically approximate the true posterior with a Gaussian distribution."
   ]
  },
  {
   "cell_type": "code",
   "execution_count": 15,
   "metadata": {},
   "outputs": [],
   "source": [
    "import LinearAlgebra: I"
   ]
  },
  {
   "cell_type": "code",
   "execution_count": 16,
   "metadata": {},
   "outputs": [],
   "source": [
    "# Start factor graph\n",
    "graph = FactorGraph();\n",
    "\n",
    "# Parameters for priors\n",
    "μ_θ = zeros(num_features+1,)\n",
    "σ2_θ = Matrix{Float64}(I, num_features+1, num_features+1)\n",
    "\n",
    "# Define a prior over the weights\n",
    "@RV θ ~ GaussianMeanVariance(μ_θ, σ2_θ)\n",
    "\n",
    "X = Vector{Variable}(undef, num_train)\n",
    "ξ = Vector{Variable}(undef, num_train)\n",
    "Y = Vector{Variable}(undef, num_train)\n",
    "\n",
    "for i = 1:num_train\n",
    "    \n",
    "    # Features\n",
    "    @RV X[i]\n",
    "    placeholder(X[i], :X, index=i, dims=(num_features+1,))\n",
    "    \n",
    "    # # Linear function\n",
    "    @RV fθ = dot(θ, X[i])\n",
    "    \n",
    "    # Logit likelihood\n",
    "    @RV ξ[i]\n",
    "    @RV Y[i] ~ Logit(fθ, ξ[i])\n",
    "    placeholder(Y[i], :Y, index=i)\n",
    "    \n",
    "end"
   ]
  },
  {
   "cell_type": "markdown",
   "metadata": {},
   "source": [
    "We will now compile an inference algorithm for this model. However, in this classification problem, the samples are all _independently and identically distributed_ (iid). ForneyLab can't process them in sequence, but has to consider the entire data set at once. It will construct quite a large factor graph (too large to visualize) and it will take longer than usual to compile the algorithm."
   ]
  },
  {
   "cell_type": "code",
   "execution_count": 17,
   "metadata": {},
   "outputs": [],
   "source": [
    "# We specify a recognition distribution\n",
    "q = PosteriorFactorization(θ, ξ, ids=[:θ, :ξ])\n",
    "\n",
    "# Define and compile the algorithm\n",
    "algorithm = messagePassingAlgorithm() \n",
    "source_code = algorithmSourceCode(algorithm)\n",
    "\n",
    "# Evaluate the generated code to get the step! function\n",
    "eval(Meta.parse(source_code));"
   ]
  },
  {
   "cell_type": "markdown",
   "metadata": {},
   "source": [
    "Now that we have compiled the algorithm, we are going to iteratively update the classification parameters and the local variational parameter."
   ]
  },
  {
   "cell_type": "code",
   "execution_count": 18,
   "metadata": {},
   "outputs": [
    {
     "name": "stderr",
     "output_type": "stream",
     "text": [
      "\u001b[32mProgress: 100%|█████████████████████████████████████████| Time: 0:00:17\u001b[39m\n"
     ]
    }
   ],
   "source": [
    "# Initialize posteriors\n",
    "posteriors = Dict()\n",
    "for i = 1:num_train\n",
    "    posteriors[:ξ_*i] = ProbabilityDistribution(Function, mode=1.0)\n",
    "end\n",
    "\n",
    "# Load data\n",
    "data = Dict(:X => [[features_train[i,:]; 1] for i in 1:num_train],\n",
    "            :Y => labels_train)\n",
    "\n",
    "# Iterate updates\n",
    "@showprogress for i = 1:10\n",
    "    \n",
    "    # Update classification parameters\n",
    "    stepθ!(data, posteriors)\n",
    "    \n",
    "     # Update local variational parameters\n",
    "    stepξ!(data, posteriors)\n",
    "end"
   ]
  },
  {
   "cell_type": "markdown",
   "metadata": {},
   "source": [
    "### Predict test data\n",
    "\n",
    "The bank has some test data for you as well. "
   ]
  },
  {
   "cell_type": "code",
   "execution_count": 19,
   "metadata": {},
   "outputs": [],
   "source": [
    "# Read CSV file\n",
    "df = CSV.read(\"../datasets/credit_test.csv\")\n",
    "\n",
    "# Split dataframe into features and labels\n",
    "features_test = convert(Array, df[:,1:7])\n",
    "labels_test = convert(Array, df[:,8])\n",
    "\n",
    "# Number of test samples\n",
    "num_test = size(features_test,1);"
   ]
  },
  {
   "cell_type": "markdown",
   "metadata": {},
   "source": [
    "You can classify test samples by taking the Maximum A Posteriori for the classification parameters $\\theta_{\\text{MAP}}$, computing the linear function $f_\\theta$ and rounding the result to obtain the most probable label."
   ]
  },
  {
   "cell_type": "code",
   "execution_count": 20,
   "metadata": {},
   "outputs": [],
   "source": [
    "import ForneyLab: unsafeMode"
   ]
  },
  {
   "cell_type": "code",
   "execution_count": 21,
   "metadata": {},
   "outputs": [
    {
     "name": "stdout",
     "output_type": "stream",
     "text": [
      "Test Accuracy = 63.0%\n"
     ]
    }
   ],
   "source": [
    "# Extract MAP estimate of classification parameters\n",
    "θ_MAP = unsafeMode(posteriors[:θ])\n",
    "\n",
    "# Compute linear product between parameters and test data\n",
    "fθ_pred = [features_test ones(num_test,)] * θ_MAP\n",
    "\n",
    "# Predict labels\n",
    "labels_pred = round.(1 ./(1 .+ exp.( -fθ_pred)));\n",
    "\n",
    "# Compute classification error of test data\n",
    "accuracy_test = mean(labels_test .== labels_pred)\n",
    "\n",
    "# Report result\n",
    "println(\"Test Accuracy = \"*string(accuracy_test*100)*\"%\")"
   ]
  },
  {
   "cell_type": "markdown",
   "metadata": {},
   "source": [
    "Mmmhh... If you were a bank, you might decide that you don't want to automatically assign credit to your customers."
   ]
  }
 ],
 "metadata": {
  "@webio": {
   "lastCommId": null,
   "lastKernelId": null
  },
  "anaconda-cloud": {},
  "kernelspec": {
   "display_name": "julia 1.5.2",
   "language": "julia",
   "name": "julia-1.5"
  },
  "language_info": {
   "file_extension": ".jl",
   "mimetype": "application/julia",
   "name": "julia",
   "version": "1.5.2"
  }
 },
 "nbformat": 4,
 "nbformat_minor": 4
}
