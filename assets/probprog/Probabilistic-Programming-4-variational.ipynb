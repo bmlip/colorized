{
 "cells": [
  {
   "cell_type": "markdown",
   "metadata": {},
   "source": [
    "# Probabilistic Programming 4: Gaussian dynamical systems\n",
    "## Variational inference\n",
    "\n",
    "In this notebook, we are looking at inference in a dynamical system."
   ]
  },
  {
   "cell_type": "markdown",
   "metadata": {},
   "source": [
    "### Preliminaries\n",
    "\n",
    "- Goal \n",
    "  - Learn to apply ForneyLab to a dynamical system.\n",
    "- Materials        \n",
    "  - Mandatory\n",
    "    - These lecture notes.\n",
    "  - Optional\n",
    "    - Cheatsheets: [how does Julia differ from Matlab / Python](https://docs.julialang.org/en/v1/manual/noteworthy-differences/index.html).\n",
    "    - Getting started with [ForneyLab](https://biaslab.github.io/forneylab/docs/getting-started/)."
   ]
  },
  {
   "cell_type": "markdown",
   "metadata": {},
   "source": [
    "# Kalman Filter and Message passing\n"
   ]
  },
  {
   "cell_type": "markdown",
   "metadata": {},
   "source": [
    "Given a Gaussian linear state-space model in the form;\n",
    "$$\n",
    "x_k = A_kx_{k-1} + q_{k-1} \\\\\n",
    "y_k = H_kx_k + r_k\n",
    "$$\n",
    "where $x_k \\in \\mathbb{R}^{n}$ is the state, $y_k \\in \\mathbb{R}^{m}$ is the measurement. Process noise and measurement noise are assumed to be zero mean Gaussian with covariance matrices $Q_k$ and $R_k$ respectively. In Bayesian notation this takes the form\n",
    "$$\n",
    "p(x_k | x_{k-1}) = \\mathcal{N}(x_k|A_kx_{k-1},Q_{k-1})\\\\\n",
    "p(y_k | x_k) = \\mathcal{N}(y_k|H_kx_k,R_k).\n",
    "$$\n",
    "In Lecture 12, tracking of states of the cart with known dynamics was solved through analytic update rules of Kalman Filter. In this notebook we will investigate inference on the same model using ForneyLab. Under the hood ForneyLab constructs factor graphs corresponding to the model user specifies and performs automated inference via message passing. Without further details lets build the state space model and let ForneyLab work out the inference.\n"
   ]
  },
  {
   "cell_type": "code",
   "execution_count": 2,
   "metadata": {},
   "outputs": [
    {
     "name": "stdout",
     "output_type": "stream",
     "text": [
      "\u001b[32m\u001b[1mActivating\u001b[22m\u001b[39m environment at `~/Documents/biaslab/repos/BMLIP/lessons/notebooks/probprog/workspace/Project.toml`\n"
     ]
    }
   ],
   "source": [
    "using Pkg;Pkg.activate(\"workspace\");Pkg.instantiate()"
   ]
  },
  {
   "cell_type": "code",
   "execution_count": null,
   "metadata": {},
   "outputs": [],
   "source": [
    "using LinearAlgebra, ForneyLab\n",
    "include(\"scripts/cart_tracking_helpers.jl\") # implements required factor nodes + helper functions\n",
    "\n",
    "# Specify the model parameters\n",
    "Δt = 1.0                     # assume the time steps to be equal in size\n",
    "A = [1.0 Δt;\n",
    "     0.0 1.0]\n",
    "b = [0.5*Δt^2; Δt] \n",
    "Σz = convert(Matrix,Diagonal([0.2*Δt; 0.1*Δt])) # process noise covariance\n",
    "Σx = convert(Matrix,Diagonal([1.0; 2.0]))     # observation noise covariance;\n",
    "\n",
    "# Generate noisy observations\n",
    "n = 10                # perform 10 timesteps\n",
    "z_start = [10.0; 2.0] # initial state\n",
    "u = 0.2 * ones(n)     # constant input u\n",
    "noisy_x = generateNoisyMeasurements(z_start, u, A, b, Σz, Σx);\n"
   ]
  },
  {
   "cell_type": "markdown",
   "metadata": {},
   "source": [
    "# Model Definition with ForneyLab"
   ]
  },
  {
   "cell_type": "code",
   "execution_count": null,
   "metadata": {},
   "outputs": [],
   "source": [
    "fg = FactorGraph() #initialize a factor graph to specify a model on\n",
    "#specify sufficient statistics for prior\n",
    "z_prev_m = Variable(id=:z_prev_m); placeholder(z_prev_m, :z_prev_m, dims=(2,)) #mean of prior. \n",
    "z_prev_v = Variable(id=:z_prev_v); placeholder(z_prev_v, :z_prev_v, dims=(2,2)) #variance of prior\n",
    "#specify control variable\n",
    "bu = Variable(id=:bu); placeholder(bu, :bu, dims=(2,))\n",
    "## placeholders require input from the user, you need to provide the initial values in a data dictionary \n",
    "## before and while inference\n",
    "\n",
    "#specification of distributions\n",
    "@RV z_prev ~ GaussianMeanVariance(z_prev_m, z_prev_v, id=:z_prev) # p(z_prev)\n",
    "@RV noise_z ~ GaussianMeanVariance(constant(zeros(2), id=:noise_z_m), constant(Σz, id=:noise_z_v)) # process noise\n",
    "@RV z = constant(A, id=:A) * z_prev + bu + noise_z; z.id = :z # p(z|z_prev) (state transition model)\n",
    "@RV x ~ GaussianMeanVariance(z, constant(Σx, id=:Σx)) # p(x|z) (observation model)\n",
    "placeholder(x, :x, dims=(2,)); #observation placeholder\n",
    "ForneyLab.draw(fg)"
   ]
  },
  {
   "cell_type": "markdown",
   "metadata": {},
   "source": [
    "# Build an algorithm and infer"
   ]
  },
  {
   "cell_type": "code",
   "execution_count": null,
   "metadata": {},
   "outputs": [],
   "source": [
    "include(\"scripts/cart_tracking_helpers.jl\") \n",
    "eval(Meta.parse(sumProductAlgorithm(z))) # build message passing algorithm\n",
    "marginals = Dict() #initialize a marginal dictionary\n",
    "messages = Array{Message}(undef,6) #messages to analyze prediction and error\n",
    "z_prev_m_0 = zeros(2) #prior mean\n",
    "z_prev_v_0 = 1e8*Diagonal(I,2) #prior covariance\n",
    "for t=1:n\n",
    "    #pass the values for placeholder to data dict\n",
    "    data = Dict(:x => noisy_x[t], :bu => b*u[t],:z_prev_m => z_prev_m_0, :z_prev_v => z_prev_v_0) #data dictionary\n",
    "    step!(data, marginals, messages) # perform msg passing (single timestep)\n",
    "    # Posterior of z becomes prior of z in the next timestep:\n",
    "    #ForneyLab.ensureParameters!(marginals[:z], (:m, :v))\n",
    "    z_prev_m_0 = ForneyLab.unsafeMean(marginals[:z])\n",
    "    z_prev_v_0 = ForneyLab.unsafeCov(marginals[:z])\n",
    "end\n",
    "println(messages[6].dist)\n",
    "# Collect prediction p(z[n]|z[n-1]), measurement p(z[n]|x[n]), corrected prediction p(z[n]|z[n-1],x[n])\n",
    "prediction      = messages[5].dist # the message index is found by manual inspection of the schedule\n",
    "measurement     = messages[6].dist\n",
    "corr_prediction = convert(ProbabilityDistribution{Multivariate, GaussianMeanVariance}, marginals[:z])\n",
    "\n",
    "# Make a fancy plot of the prediction, noisy measurement, and corrected prediction after n timesteps\n",
    "plotCartPrediction(prediction, measurement, corr_prediction);"
   ]
  },
  {
   "cell_type": "markdown",
   "metadata": {},
   "source": [
    "# What if we don't know transition covariance?"
   ]
  },
  {
   "cell_type": "code",
   "execution_count": null,
   "metadata": {},
   "outputs": [],
   "source": [
    "fg2 = FactorGraph()\n",
    "#specify sufficient statistics for prior\n",
    "z_prev_m = Variable(id=:z_prev_m); placeholder(z_prev_m, :z_prev_m, dims=(2,)) #mean of prior. \n",
    "z_prev_v = Variable(id=:z_prev_v); placeholder(z_prev_v, :z_prev_v, dims=(2,2)) #variance of prior\n",
    "#Wishart initialization covariance\n",
    "Λz_p = Variable(id=:Λx_p); placeholder(Λz_p,:Λz_p,dims=(2,2))\n",
    "ν = Variable(id=:ν); placeholder(ν,:ν)\n",
    "#specify control variable\n",
    "bu = Variable(id=:bu); placeholder(bu, :bu, dims=(2,))\n",
    "## placeholders require input from the user, you need to provide the initial values in a data dictionary \n",
    "## before and while inference\n",
    "\n",
    "#specification of distributions\n",
    "@RV Λz ~ Wishart(Λz_p,ν)\n",
    "@RV z_prev ~ GaussianMeanVariance(z_prev_m, z_prev_v, id=:z_prev) # p(z_prev)\n",
    "@RV noise_z ~ GaussianMeanPrecision(constant(zeros(2), id=:noise_z_m), Λz) # process noise\n",
    "@RV z = constant(A, id=:A) * z_prev + bu + noise_z; z.id = :z # p(z|z_prev) (state transition model)\n",
    "@RV x ~ GaussianMeanPrecision(z, constant(Σx, id=:noise_z_v)) # p(x|z) (observation model)\n",
    "placeholder(x, :x, dims=(2,)); #observation placeholder\n",
    "ForneyLab.draw(fg2)"
   ]
  },
  {
   "cell_type": "code",
   "execution_count": null,
   "metadata": {},
   "outputs": [],
   "source": [
    "q = RecognitionFactorization(z,Λz,ids=[:Z,:Λ]);\n",
    "algo = variationalAlgorithm(q)\n",
    "eval(Meta.parse(algo))\n",
    "marginals = Dict() #initialize a marginal dictionary\n",
    "messages = Array{Message}(undef,10) #messages to analyze prediction and error\n",
    "z_prev_m_0 = zeros(2) #prior mean\n",
    "z_prev_v_0 = 1e8*Diagonal(I,2) #prior covariance\n",
    "Λz_p0 = Diagonal(I,2)\n",
    "n_its = 20\n",
    "ν_0 = 20\n",
    "marginals[:Λz] = vague(Wishart,2)\n",
    "mz = Array{Float64}(undef,n,2)\n",
    "Σz_post = Array{Float64}(undef,n,2,2)\n",
    "\n",
    "for t=1:n\n",
    "    #pass the values for placeholder to data dict\n",
    "    data = Dict(:x => noisy_x[t], :bu => b*u[t],:z_prev_m => z_prev_m_0, :z_prev_v => z_prev_v_0, :Λz_p =>Λz_p0, :ν=>ν_0) #data dictionary\n",
    "    for i=1:n_its\n",
    "        stepZ!(data, marginals, messages) # perform msg passing (single timestep)\n",
    "        stepΛ!(data, marginals)\n",
    "    end\n",
    "    mz[t,:], Σz_post[t,:,:] = ForneyLab.unsafeMeanCov(marginals[:z])\n",
    "    z_prev_m_0, z_prev_v_0 = mz[t,:], Σz_post[t,:,:]\n",
    "    Λz_p0 = marginals[:Λz].params[:v]\n",
    "    ν_0 = marginals[:Λz].params[:nu]\n",
    "end\n",
    "\n",
    "prediction      = convert(ProbabilityDistribution{Multivariate, GaussianMeanVariance}, messages[9].dist) # the message index is found by manual inspection of the schedule\n",
    "measurement     = convert(ProbabilityDistribution{Multivariate, GaussianMeanVariance}, messages[2].dist)\n",
    "corr_prediction = convert(ProbabilityDistribution{Multivariate, GaussianMeanVariance}, marginals[:z])\n",
    "\n",
    "# Make a fancy plot of the prediction, noisy measurement, and corrected prediction after n timesteps\n",
    "plotCartPrediction(prediction, measurement, corr_prediction);\n",
    "println(\"Estimated transition covariance: \", inv(ForneyLab.unsafeMean(marginals[:Λz])));\n",
    "println(\"True covariance: \", Σz);"
   ]
  },
  {
   "cell_type": "code",
   "execution_count": null,
   "metadata": {},
   "outputs": [],
   "source": []
  },
  {
   "cell_type": "code",
   "execution_count": null,
   "metadata": {},
   "outputs": [],
   "source": []
  }
 ],
 "metadata": {
  "@webio": {
   "lastCommId": null,
   "lastKernelId": null
  },
  "kernelspec": {
   "display_name": "Julia-1.3 1.3.1",
   "language": "julia",
   "name": "julia-1.3-1.3"
  },
  "language_info": {
   "file_extension": ".jl",
   "mimetype": "application/julia",
   "name": "julia",
   "version": "1.3.1"
  }
 },
 "nbformat": 4,
 "nbformat_minor": 4
}
