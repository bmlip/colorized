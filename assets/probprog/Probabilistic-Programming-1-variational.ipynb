{
 "cells": [
  {
   "cell_type": "markdown",
   "metadata": {
    "slideshow": {
     "slide_type": "slide"
    }
   },
   "source": [
    "# Probabilistic Programming - 1 \n",
    "## Variational inference\n",
    "\n",
    "So far you've been doing all your calculations by hand. As you have probably learned, this is timeconsuming and error prone. In this lesson we are going to introduce Probabilistic Programming as a method to automate some of the labour. We will cover 2 software packages: ForneyLab.jl and Turing.jl. We will mainly show you how to specify probabilistic models in both. The main takehome point is that while Probabilistic Programming requires some specialised knowledge in terms of probability theory and Bayesian inference, implementing an inference procedure is straightforward once you have the right tools."
   ]
  },
  {
   "cell_type": "markdown",
   "metadata": {
    "slideshow": {
     "slide_type": "slide"
    }
   },
   "source": [
    "### Preliminaries\n",
    "\n",
    "- Goal \n",
    "  - Learn to write a basic probabilistic program using a variational inference procedure.\n",
    "- Materials        \n",
    "  - Mandatory\n",
    "    - These lecture notes.\n",
    "    - [Intro to programming in Julia](https://youtu.be/8h8rQyEpiZA?t=233).\n",
    "    - Getting started with [ForneyLab](https://biaslab.github.io/forneylab/docs/getting-started/).\n",
    "  - Optional\n",
    "    - Cheatsheets: [how does Julia differ from Matlab / Python](https://docs.julialang.org/en/v1/manual/noteworthy-differences/index.html)."
   ]
  },
  {
   "cell_type": "markdown",
   "metadata": {},
   "source": [
    "## Introduction to ForneyLab"
   ]
  },
  {
   "cell_type": "markdown",
   "metadata": {},
   "source": [
    "[ForneyLab](https://github.com/biaslab/ForneyLab.jl) is a Probabilistic Programming toolbox developed inhouse at [BIASLab](https://biaslab.github.io/). ForneyLab utilises the FFG formalism that you are familiar with by now to describe models. Inference is performed through variational procedures or, if applicable, exact inference. This is the core feature of ForneyLab: A large library of analytical update rules similar to what you have derived so far. This provides fast, deterministic inference with convergence guarantees, provided you supply the right generative model.\n",
    "Things to keep in mind when using ForneyLab:\n",
    "1. It is optimised for Dynamical Systems and time series data. It'll be extra fast in these circumstances\n",
    "2. Relies on deterministic update rules - you will get the same result each time\n",
    "3. If you find a bug, please tell us :) \n",
    "\n",
    "Now, let's work through an example using ForneyLab"
   ]
  },
  {
   "cell_type": "markdown",
   "metadata": {},
   "source": [
    "### Data generation"
   ]
  },
  {
   "cell_type": "code",
   "execution_count": 2,
   "metadata": {},
   "outputs": [],
   "source": [
    "using Plots\n",
    "using Random"
   ]
  },
  {
   "cell_type": "code",
   "execution_count": 5,
   "metadata": {},
   "outputs": [
    {
     "data": {
      "image/svg+xml": [
       "<?xml version=\"1.0\" encoding=\"utf-8\"?>\n",
       "<svg xmlns=\"http://www.w3.org/2000/svg\" xmlns:xlink=\"http://www.w3.org/1999/xlink\" width=\"600\" height=\"400\" viewBox=\"0 0 2400 1600\">\n",
       "<defs>\n",
       "  <clipPath id=\"clip0900\">\n",
       "    <rect x=\"0\" y=\"0\" width=\"2400\" height=\"1600\"/>\n",
       "  </clipPath>\n",
       "</defs>\n",
       "<path clip-path=\"url(#clip0900)\" d=\"\n",
       "M0 1600 L2400 1600 L2400 0 L0 0  Z\n",
       "  \" fill=\"#ffffff\" fill-rule=\"evenodd\" fill-opacity=\"1\"/>\n",
       "<defs>\n",
       "  <clipPath id=\"clip0901\">\n",
       "    <rect x=\"480\" y=\"0\" width=\"1681\" height=\"1600\"/>\n",
       "  </clipPath>\n",
       "</defs>\n",
       "<path clip-path=\"url(#clip0900)\" d=\"\n",
       "M113.754 1425.62 L2352.76 1425.62 L2352.76 47.2441 L113.754 47.2441  Z\n",
       "  \" fill=\"#ffffff\" fill-rule=\"evenodd\" fill-opacity=\"1\"/>\n",
       "<defs>\n",
       "  <clipPath id=\"clip0902\">\n",
       "    <rect x=\"113\" y=\"47\" width=\"2240\" height=\"1379\"/>\n",
       "  </clipPath>\n",
       "</defs>\n",
       "<polyline clip-path=\"url(#clip0900)\" style=\"stroke:#000000; stroke-width:4; stroke-opacity:1; fill:none\" points=\"\n",
       "  113.754,1425.62 2352.76,1425.62 \n",
       "  \"/>\n",
       "<polyline clip-path=\"url(#clip0900)\" style=\"stroke:#000000; stroke-width:4; stroke-opacity:1; fill:none\" points=\"\n",
       "  113.754,1425.62 113.754,47.2441 \n",
       "  \"/>\n",
       "<polyline clip-path=\"url(#clip0900)\" style=\"stroke:#000000; stroke-width:4; stroke-opacity:1; fill:none\" points=\"\n",
       "  125.604,1425.62 125.604,1404.94 \n",
       "  \"/>\n",
       "<polyline clip-path=\"url(#clip0900)\" style=\"stroke:#000000; stroke-width:4; stroke-opacity:1; fill:none\" points=\"\n",
       "  640.79,1425.62 640.79,1404.94 \n",
       "  \"/>\n",
       "<polyline clip-path=\"url(#clip0900)\" style=\"stroke:#000000; stroke-width:4; stroke-opacity:1; fill:none\" points=\"\n",
       "  1155.98,1425.62 1155.98,1404.94 \n",
       "  \"/>\n",
       "<polyline clip-path=\"url(#clip0900)\" style=\"stroke:#000000; stroke-width:4; stroke-opacity:1; fill:none\" points=\"\n",
       "  1671.16,1425.62 1671.16,1404.94 \n",
       "  \"/>\n",
       "<polyline clip-path=\"url(#clip0900)\" style=\"stroke:#000000; stroke-width:4; stroke-opacity:1; fill:none\" points=\"\n",
       "  2186.35,1425.62 2186.35,1404.94 \n",
       "  \"/>\n",
       "<polyline clip-path=\"url(#clip0900)\" style=\"stroke:#000000; stroke-width:4; stroke-opacity:1; fill:none\" points=\"\n",
       "  113.754,1239.47 147.339,1239.47 \n",
       "  \"/>\n",
       "<polyline clip-path=\"url(#clip0900)\" style=\"stroke:#000000; stroke-width:4; stroke-opacity:1; fill:none\" points=\"\n",
       "  113.754,908.125 147.339,908.125 \n",
       "  \"/>\n",
       "<polyline clip-path=\"url(#clip0900)\" style=\"stroke:#000000; stroke-width:4; stroke-opacity:1; fill:none\" points=\"\n",
       "  113.754,576.781 147.339,576.781 \n",
       "  \"/>\n",
       "<polyline clip-path=\"url(#clip0900)\" style=\"stroke:#000000; stroke-width:4; stroke-opacity:1; fill:none\" points=\"\n",
       "  113.754,245.438 147.339,245.438 \n",
       "  \"/>\n",
       "<g clip-path=\"url(#clip0900)\">\n",
       "<text style=\"fill:#000000; fill-opacity:1; font-family:Arial,Helvetica Neue,Helvetica,sans-serif; font-size:48px; text-anchor:middle;\" transform=\"rotate(0, 125.604, 1479.62)\" x=\"125.604\" y=\"1479.62\">0</text>\n",
       "</g>\n",
       "<g clip-path=\"url(#clip0900)\">\n",
       "<text style=\"fill:#000000; fill-opacity:1; font-family:Arial,Helvetica Neue,Helvetica,sans-serif; font-size:48px; text-anchor:middle;\" transform=\"rotate(0, 640.79, 1479.62)\" x=\"640.79\" y=\"1479.62\">10</text>\n",
       "</g>\n",
       "<g clip-path=\"url(#clip0900)\">\n",
       "<text style=\"fill:#000000; fill-opacity:1; font-family:Arial,Helvetica Neue,Helvetica,sans-serif; font-size:48px; text-anchor:middle;\" transform=\"rotate(0, 1155.98, 1479.62)\" x=\"1155.98\" y=\"1479.62\">20</text>\n",
       "</g>\n",
       "<g clip-path=\"url(#clip0900)\">\n",
       "<text style=\"fill:#000000; fill-opacity:1; font-family:Arial,Helvetica Neue,Helvetica,sans-serif; font-size:48px; text-anchor:middle;\" transform=\"rotate(0, 1671.16, 1479.62)\" x=\"1671.16\" y=\"1479.62\">30</text>\n",
       "</g>\n",
       "<g clip-path=\"url(#clip0900)\">\n",
       "<text style=\"fill:#000000; fill-opacity:1; font-family:Arial,Helvetica Neue,Helvetica,sans-serif; font-size:48px; text-anchor:middle;\" transform=\"rotate(0, 2186.35, 1479.62)\" x=\"2186.35\" y=\"1479.62\">40</text>\n",
       "</g>\n",
       "<g clip-path=\"url(#clip0900)\">\n",
       "<text style=\"fill:#000000; fill-opacity:1; font-family:Arial,Helvetica Neue,Helvetica,sans-serif; font-size:48px; text-anchor:end;\" transform=\"rotate(0, 89.7545, 1256.97)\" x=\"89.7545\" y=\"1256.97\">0</text>\n",
       "</g>\n",
       "<g clip-path=\"url(#clip0900)\">\n",
       "<text style=\"fill:#000000; fill-opacity:1; font-family:Arial,Helvetica Neue,Helvetica,sans-serif; font-size:48px; text-anchor:end;\" transform=\"rotate(0, 89.7545, 925.625)\" x=\"89.7545\" y=\"925.625\">2</text>\n",
       "</g>\n",
       "<g clip-path=\"url(#clip0900)\">\n",
       "<text style=\"fill:#000000; fill-opacity:1; font-family:Arial,Helvetica Neue,Helvetica,sans-serif; font-size:48px; text-anchor:end;\" transform=\"rotate(0, 89.7545, 594.281)\" x=\"89.7545\" y=\"594.281\">4</text>\n",
       "</g>\n",
       "<g clip-path=\"url(#clip0900)\">\n",
       "<text style=\"fill:#000000; fill-opacity:1; font-family:Arial,Helvetica Neue,Helvetica,sans-serif; font-size:48px; text-anchor:end;\" transform=\"rotate(0, 89.7545, 262.938)\" x=\"89.7545\" y=\"262.938\">6</text>\n",
       "</g>\n",
       "<g clip-path=\"url(#clip0900)\">\n",
       "<text style=\"fill:#000000; fill-opacity:1; font-family:Arial,Helvetica Neue,Helvetica,sans-serif; font-size:66px; text-anchor:middle;\" transform=\"rotate(0, 1233.26, 1559.48)\" x=\"1233.26\" y=\"1559.48\">time (t)</text>\n",
       "</g>\n",
       "<circle clip-path=\"url(#clip0902)\" style=\"fill:#000000; stroke:none; fill-opacity:1\" cx=\"177.122\" cy=\"1386.61\" r=\"18\"/>\n",
       "<circle clip-path=\"url(#clip0902)\" style=\"fill:#009af9; stroke:none; fill-opacity:1\" cx=\"177.122\" cy=\"1386.61\" r=\"14\"/>\n",
       "<circle clip-path=\"url(#clip0902)\" style=\"fill:#000000; stroke:none; fill-opacity:1\" cx=\"228.641\" cy=\"1081.75\" r=\"18\"/>\n",
       "<circle clip-path=\"url(#clip0902)\" style=\"fill:#009af9; stroke:none; fill-opacity:1\" cx=\"228.641\" cy=\"1081.75\" r=\"14\"/>\n",
       "<circle clip-path=\"url(#clip0902)\" style=\"fill:#000000; stroke:none; fill-opacity:1\" cx=\"280.16\" cy=\"1147.99\" r=\"18\"/>\n",
       "<circle clip-path=\"url(#clip0902)\" style=\"fill:#009af9; stroke:none; fill-opacity:1\" cx=\"280.16\" cy=\"1147.99\" r=\"14\"/>\n",
       "<circle clip-path=\"url(#clip0902)\" style=\"fill:#000000; stroke:none; fill-opacity:1\" cx=\"331.678\" cy=\"1040.33\" r=\"18\"/>\n",
       "<circle clip-path=\"url(#clip0902)\" style=\"fill:#009af9; stroke:none; fill-opacity:1\" cx=\"331.678\" cy=\"1040.33\" r=\"14\"/>\n",
       "<circle clip-path=\"url(#clip0902)\" style=\"fill:#000000; stroke:none; fill-opacity:1\" cx=\"383.197\" cy=\"892.449\" r=\"18\"/>\n",
       "<circle clip-path=\"url(#clip0902)\" style=\"fill:#009af9; stroke:none; fill-opacity:1\" cx=\"383.197\" cy=\"892.449\" r=\"14\"/>\n",
       "<circle clip-path=\"url(#clip0902)\" style=\"fill:#000000; stroke:none; fill-opacity:1\" cx=\"434.716\" cy=\"1236.63\" r=\"18\"/>\n",
       "<circle clip-path=\"url(#clip0902)\" style=\"fill:#009af9; stroke:none; fill-opacity:1\" cx=\"434.716\" cy=\"1236.63\" r=\"14\"/>\n",
       "<circle clip-path=\"url(#clip0902)\" style=\"fill:#000000; stroke:none; fill-opacity:1\" cx=\"486.234\" cy=\"1329.88\" r=\"18\"/>\n",
       "<circle clip-path=\"url(#clip0902)\" style=\"fill:#009af9; stroke:none; fill-opacity:1\" cx=\"486.234\" cy=\"1329.88\" r=\"14\"/>\n",
       "<circle clip-path=\"url(#clip0902)\" style=\"fill:#000000; stroke:none; fill-opacity:1\" cx=\"537.753\" cy=\"879.903\" r=\"18\"/>\n",
       "<circle clip-path=\"url(#clip0902)\" style=\"fill:#009af9; stroke:none; fill-opacity:1\" cx=\"537.753\" cy=\"879.903\" r=\"14\"/>\n",
       "<circle clip-path=\"url(#clip0902)\" style=\"fill:#000000; stroke:none; fill-opacity:1\" cx=\"589.272\" cy=\"902.188\" r=\"18\"/>\n",
       "<circle clip-path=\"url(#clip0902)\" style=\"fill:#009af9; stroke:none; fill-opacity:1\" cx=\"589.272\" cy=\"902.188\" r=\"14\"/>\n",
       "<circle clip-path=\"url(#clip0902)\" style=\"fill:#000000; stroke:none; fill-opacity:1\" cx=\"640.79\" cy=\"1303.42\" r=\"18\"/>\n",
       "<circle clip-path=\"url(#clip0902)\" style=\"fill:#009af9; stroke:none; fill-opacity:1\" cx=\"640.79\" cy=\"1303.42\" r=\"14\"/>\n",
       "<circle clip-path=\"url(#clip0902)\" style=\"fill:#000000; stroke:none; fill-opacity:1\" cx=\"692.309\" cy=\"706.242\" r=\"18\"/>\n",
       "<circle clip-path=\"url(#clip0902)\" style=\"fill:#009af9; stroke:none; fill-opacity:1\" cx=\"692.309\" cy=\"706.242\" r=\"14\"/>\n",
       "<circle clip-path=\"url(#clip0902)\" style=\"fill:#000000; stroke:none; fill-opacity:1\" cx=\"743.828\" cy=\"994.39\" r=\"18\"/>\n",
       "<circle clip-path=\"url(#clip0902)\" style=\"fill:#009af9; stroke:none; fill-opacity:1\" cx=\"743.828\" cy=\"994.39\" r=\"14\"/>\n",
       "<circle clip-path=\"url(#clip0902)\" style=\"fill:#000000; stroke:none; fill-opacity:1\" cx=\"795.346\" cy=\"756.751\" r=\"18\"/>\n",
       "<circle clip-path=\"url(#clip0902)\" style=\"fill:#009af9; stroke:none; fill-opacity:1\" cx=\"795.346\" cy=\"756.751\" r=\"14\"/>\n",
       "<circle clip-path=\"url(#clip0902)\" style=\"fill:#000000; stroke:none; fill-opacity:1\" cx=\"846.865\" cy=\"962.262\" r=\"18\"/>\n",
       "<circle clip-path=\"url(#clip0902)\" style=\"fill:#009af9; stroke:none; fill-opacity:1\" cx=\"846.865\" cy=\"962.262\" r=\"14\"/>\n",
       "<circle clip-path=\"url(#clip0902)\" style=\"fill:#000000; stroke:none; fill-opacity:1\" cx=\"898.384\" cy=\"995.19\" r=\"18\"/>\n",
       "<circle clip-path=\"url(#clip0902)\" style=\"fill:#009af9; stroke:none; fill-opacity:1\" cx=\"898.384\" cy=\"995.19\" r=\"14\"/>\n",
       "<circle clip-path=\"url(#clip0902)\" style=\"fill:#000000; stroke:none; fill-opacity:1\" cx=\"949.902\" cy=\"920.025\" r=\"18\"/>\n",
       "<circle clip-path=\"url(#clip0902)\" style=\"fill:#009af9; stroke:none; fill-opacity:1\" cx=\"949.902\" cy=\"920.025\" r=\"14\"/>\n",
       "<circle clip-path=\"url(#clip0902)\" style=\"fill:#000000; stroke:none; fill-opacity:1\" cx=\"1001.42\" cy=\"824.338\" r=\"18\"/>\n",
       "<circle clip-path=\"url(#clip0902)\" style=\"fill:#009af9; stroke:none; fill-opacity:1\" cx=\"1001.42\" cy=\"824.338\" r=\"14\"/>\n",
       "<circle clip-path=\"url(#clip0902)\" style=\"fill:#000000; stroke:none; fill-opacity:1\" cx=\"1052.94\" cy=\"987.126\" r=\"18\"/>\n",
       "<circle clip-path=\"url(#clip0902)\" style=\"fill:#009af9; stroke:none; fill-opacity:1\" cx=\"1052.94\" cy=\"987.126\" r=\"14\"/>\n",
       "<circle clip-path=\"url(#clip0902)\" style=\"fill:#000000; stroke:none; fill-opacity:1\" cx=\"1104.46\" cy=\"963.313\" r=\"18\"/>\n",
       "<circle clip-path=\"url(#clip0902)\" style=\"fill:#009af9; stroke:none; fill-opacity:1\" cx=\"1104.46\" cy=\"963.313\" r=\"14\"/>\n",
       "<circle clip-path=\"url(#clip0902)\" style=\"fill:#000000; stroke:none; fill-opacity:1\" cx=\"1155.98\" cy=\"328.566\" r=\"18\"/>\n",
       "<circle clip-path=\"url(#clip0902)\" style=\"fill:#009af9; stroke:none; fill-opacity:1\" cx=\"1155.98\" cy=\"328.566\" r=\"14\"/>\n",
       "<circle clip-path=\"url(#clip0902)\" style=\"fill:#000000; stroke:none; fill-opacity:1\" cx=\"1207.5\" cy=\"606.388\" r=\"18\"/>\n",
       "<circle clip-path=\"url(#clip0902)\" style=\"fill:#009af9; stroke:none; fill-opacity:1\" cx=\"1207.5\" cy=\"606.388\" r=\"14\"/>\n",
       "<circle clip-path=\"url(#clip0902)\" style=\"fill:#000000; stroke:none; fill-opacity:1\" cx=\"1259.01\" cy=\"661.118\" r=\"18\"/>\n",
       "<circle clip-path=\"url(#clip0902)\" style=\"fill:#009af9; stroke:none; fill-opacity:1\" cx=\"1259.01\" cy=\"661.118\" r=\"14\"/>\n",
       "<circle clip-path=\"url(#clip0902)\" style=\"fill:#000000; stroke:none; fill-opacity:1\" cx=\"1310.53\" cy=\"673.759\" r=\"18\"/>\n",
       "<circle clip-path=\"url(#clip0902)\" style=\"fill:#009af9; stroke:none; fill-opacity:1\" cx=\"1310.53\" cy=\"673.759\" r=\"14\"/>\n",
       "<circle clip-path=\"url(#clip0902)\" style=\"fill:#000000; stroke:none; fill-opacity:1\" cx=\"1362.05\" cy=\"704.841\" r=\"18\"/>\n",
       "<circle clip-path=\"url(#clip0902)\" style=\"fill:#009af9; stroke:none; fill-opacity:1\" cx=\"1362.05\" cy=\"704.841\" r=\"14\"/>\n",
       "<circle clip-path=\"url(#clip0902)\" style=\"fill:#000000; stroke:none; fill-opacity:1\" cx=\"1413.57\" cy=\"715.75\" r=\"18\"/>\n",
       "<circle clip-path=\"url(#clip0902)\" style=\"fill:#009af9; stroke:none; fill-opacity:1\" cx=\"1413.57\" cy=\"715.75\" r=\"14\"/>\n",
       "<circle clip-path=\"url(#clip0902)\" style=\"fill:#000000; stroke:none; fill-opacity:1\" cx=\"1465.09\" cy=\"637.24\" r=\"18\"/>\n",
       "<circle clip-path=\"url(#clip0902)\" style=\"fill:#009af9; stroke:none; fill-opacity:1\" cx=\"1465.09\" cy=\"637.24\" r=\"14\"/>\n",
       "<circle clip-path=\"url(#clip0902)\" style=\"fill:#000000; stroke:none; fill-opacity:1\" cx=\"1516.61\" cy=\"658.297\" r=\"18\"/>\n",
       "<circle clip-path=\"url(#clip0902)\" style=\"fill:#009af9; stroke:none; fill-opacity:1\" cx=\"1516.61\" cy=\"658.297\" r=\"14\"/>\n",
       "<circle clip-path=\"url(#clip0902)\" style=\"fill:#000000; stroke:none; fill-opacity:1\" cx=\"1568.13\" cy=\"573.139\" r=\"18\"/>\n",
       "<circle clip-path=\"url(#clip0902)\" style=\"fill:#009af9; stroke:none; fill-opacity:1\" cx=\"1568.13\" cy=\"573.139\" r=\"14\"/>\n",
       "<circle clip-path=\"url(#clip0902)\" style=\"fill:#000000; stroke:none; fill-opacity:1\" cx=\"1619.65\" cy=\"740.339\" r=\"18\"/>\n",
       "<circle clip-path=\"url(#clip0902)\" style=\"fill:#009af9; stroke:none; fill-opacity:1\" cx=\"1619.65\" cy=\"740.339\" r=\"14\"/>\n",
       "<circle clip-path=\"url(#clip0902)\" style=\"fill:#000000; stroke:none; fill-opacity:1\" cx=\"1671.16\" cy=\"605.529\" r=\"18\"/>\n",
       "<circle clip-path=\"url(#clip0902)\" style=\"fill:#009af9; stroke:none; fill-opacity:1\" cx=\"1671.16\" cy=\"605.529\" r=\"14\"/>\n",
       "<circle clip-path=\"url(#clip0902)\" style=\"fill:#000000; stroke:none; fill-opacity:1\" cx=\"1722.68\" cy=\"150.265\" r=\"18\"/>\n",
       "<circle clip-path=\"url(#clip0902)\" style=\"fill:#009af9; stroke:none; fill-opacity:1\" cx=\"1722.68\" cy=\"150.265\" r=\"14\"/>\n",
       "<circle clip-path=\"url(#clip0902)\" style=\"fill:#000000; stroke:none; fill-opacity:1\" cx=\"1774.2\" cy=\"660.534\" r=\"18\"/>\n",
       "<circle clip-path=\"url(#clip0902)\" style=\"fill:#009af9; stroke:none; fill-opacity:1\" cx=\"1774.2\" cy=\"660.534\" r=\"14\"/>\n",
       "<circle clip-path=\"url(#clip0902)\" style=\"fill:#000000; stroke:none; fill-opacity:1\" cx=\"1825.72\" cy=\"441.876\" r=\"18\"/>\n",
       "<circle clip-path=\"url(#clip0902)\" style=\"fill:#009af9; stroke:none; fill-opacity:1\" cx=\"1825.72\" cy=\"441.876\" r=\"14\"/>\n",
       "<circle clip-path=\"url(#clip0902)\" style=\"fill:#000000; stroke:none; fill-opacity:1\" cx=\"1877.24\" cy=\"504.726\" r=\"18\"/>\n",
       "<circle clip-path=\"url(#clip0902)\" style=\"fill:#009af9; stroke:none; fill-opacity:1\" cx=\"1877.24\" cy=\"504.726\" r=\"14\"/>\n",
       "<circle clip-path=\"url(#clip0902)\" style=\"fill:#000000; stroke:none; fill-opacity:1\" cx=\"1928.76\" cy=\"522.953\" r=\"18\"/>\n",
       "<circle clip-path=\"url(#clip0902)\" style=\"fill:#009af9; stroke:none; fill-opacity:1\" cx=\"1928.76\" cy=\"522.953\" r=\"14\"/>\n",
       "<circle clip-path=\"url(#clip0902)\" style=\"fill:#000000; stroke:none; fill-opacity:1\" cx=\"1980.28\" cy=\"522.661\" r=\"18\"/>\n",
       "<circle clip-path=\"url(#clip0902)\" style=\"fill:#009af9; stroke:none; fill-opacity:1\" cx=\"1980.28\" cy=\"522.661\" r=\"14\"/>\n",
       "<circle clip-path=\"url(#clip0902)\" style=\"fill:#000000; stroke:none; fill-opacity:1\" cx=\"2031.79\" cy=\"290.501\" r=\"18\"/>\n",
       "<circle clip-path=\"url(#clip0902)\" style=\"fill:#009af9; stroke:none; fill-opacity:1\" cx=\"2031.79\" cy=\"290.501\" r=\"14\"/>\n",
       "<circle clip-path=\"url(#clip0902)\" style=\"fill:#000000; stroke:none; fill-opacity:1\" cx=\"2083.31\" cy=\"188.025\" r=\"18\"/>\n",
       "<circle clip-path=\"url(#clip0902)\" style=\"fill:#009af9; stroke:none; fill-opacity:1\" cx=\"2083.31\" cy=\"188.025\" r=\"14\"/>\n",
       "<circle clip-path=\"url(#clip0902)\" style=\"fill:#000000; stroke:none; fill-opacity:1\" cx=\"2134.83\" cy=\"337.217\" r=\"18\"/>\n",
       "<circle clip-path=\"url(#clip0902)\" style=\"fill:#009af9; stroke:none; fill-opacity:1\" cx=\"2134.83\" cy=\"337.217\" r=\"14\"/>\n",
       "<circle clip-path=\"url(#clip0902)\" style=\"fill:#000000; stroke:none; fill-opacity:1\" cx=\"2186.35\" cy=\"86.2547\" r=\"18\"/>\n",
       "<circle clip-path=\"url(#clip0902)\" style=\"fill:#009af9; stroke:none; fill-opacity:1\" cx=\"2186.35\" cy=\"86.2547\" r=\"14\"/>\n",
       "<circle clip-path=\"url(#clip0902)\" style=\"fill:#000000; stroke:none; fill-opacity:1\" cx=\"2237.87\" cy=\"170.749\" r=\"18\"/>\n",
       "<circle clip-path=\"url(#clip0902)\" style=\"fill:#009af9; stroke:none; fill-opacity:1\" cx=\"2237.87\" cy=\"170.749\" r=\"14\"/>\n",
       "<circle clip-path=\"url(#clip0902)\" style=\"fill:#000000; stroke:none; fill-opacity:1\" cx=\"2289.39\" cy=\"484.71\" r=\"18\"/>\n",
       "<circle clip-path=\"url(#clip0902)\" style=\"fill:#009af9; stroke:none; fill-opacity:1\" cx=\"2289.39\" cy=\"484.71\" r=\"14\"/>\n",
       "</svg>\n"
      ]
     },
     "execution_count": 5,
     "metadata": {},
     "output_type": "execute_result"
    }
   ],
   "source": [
    "# Parameters\n",
    "true_W = [1.0;0.5]\n",
    "true_σ = 1.\n",
    "true_μ = 0.\n",
    "true_slope = 0.1\n",
    "\n",
    "# Length of signal\n",
    "n = 42\n",
    "            \n",
    "function generate_data(true_W, true_σ, true_μ, n)\n",
    "    \n",
    "    # Draw from a Gaussian with correct parameters\n",
    "    x = randn(size(true_W)[1],n) .* true_σ .+ true_μ \n",
    "    \n",
    "    # Add a slope\n",
    "    [x[:,i] .+= true_slope * i for i in 1:n] \n",
    "    \n",
    "    # Compute y values\n",
    "    y = true_W' * x \n",
    "    \n",
    "    # List comprehension formats data for easy access later\n",
    "    return [x[:,i] for i in 1:n],y \n",
    "end\n",
    "   \n",
    "# Actually generate the data\n",
    "x_data,y_data = generate_data(true_W,true_σ,true_μ,n)\n",
    "\n",
    "# Visualize\n",
    "scatter(1:n,y_data[:], xlabel=\"time (t)\", label=\"\", grid=false)"
   ]
  },
  {
   "cell_type": "markdown",
   "metadata": {},
   "source": [
    "### Model definition"
   ]
  },
  {
   "cell_type": "markdown",
   "metadata": {},
   "source": [
    "To model our data, we define a model using ForneyLab. We will try a bayesian linear regression of the form\n",
    "\n",
    "$$y \\sim \\mathcal{N}(W^Tx,\\sigma_y)$$\n",
    "With a Gaussian prior on the weights W\n",
    "$$ W \\sim \\mathcal{N}(\\mathbf{\\mu_w},\\mathbf{\\sigma_w})$$\n",
    "\n",
    "The first thing we need to do is to import ForneyLab and instantiate a Factor Graph."
   ]
  },
  {
   "cell_type": "code",
   "execution_count": null,
   "metadata": {},
   "outputs": [],
   "source": [
    "using ForneyLab\n",
    "g = FactorGraph();"
   ]
  },
  {
   "cell_type": "markdown",
   "metadata": {},
   "source": [
    "Now that we have a FactorGraph, we can start adding variables to it. This is the point where we specify our probabilistic model. When doing Probabilistic Programming, the core challenge is good model specification. To keep it simple, let's start by defining a model for a single x/y pair.\n"
   ]
  },
  {
   "cell_type": "code",
   "execution_count": null,
   "metadata": {},
   "outputs": [],
   "source": [
    "# Parameters for priors\n",
    "μ_w = [0.,0.]\n",
    "σ_w = [1. 0. ; 0. 1.]\n",
    "σ_y = 1.\n",
    "\n",
    "# Let's create a random variable for our input data x. In ForneyLab we use the @RV macro to denote Random Variables\n",
    "@RV x \n",
    "\n",
    "# Now let's define a prior over the weights W. We use a 2 dimensional Gaussian since we have 2 weights\n",
    "@RV W ~ GaussianMeanVariance(μ_w,σ_w)\n",
    "\n",
    "# And finally our linear model for y\n",
    "@RV y ~ GaussianMeanVariance(dot(W,x), σ_y)\n",
    "\n",
    "\n",
    "# Visualise the graph\n",
    "ForneyLab.draw()"
   ]
  },
  {
   "cell_type": "markdown",
   "metadata": {},
   "source": [
    "If you take a look at the graph, you will see that it has some open edges for x and y. This is where we want to feed in our data. To do so in ForneyLab, we designate them as placeholders. This means that we do not give them a value immediately but want them to take one on at a later time - such as when we want to feed in the data."
   ]
  },
  {
   "cell_type": "code",
   "execution_count": null,
   "metadata": {},
   "outputs": [],
   "source": [
    "placeholder(x,:x, dims=(2,)) # The dims flag tells ForneyLab to expect 2 dimensional inputs here\n",
    "placeholder(y,:y);"
   ]
  },
  {
   "cell_type": "markdown",
   "metadata": {},
   "source": [
    "Now that we have our model, it is time to get our inference algorithm. ForneyLab includes the Belief Propagation algorithm for exact inference which we will utilise here. The details of the procedure are not important at this time, so feel free to treat it as a \"magic inference button\".\n",
    "ForneyLab works by directly generating new Julia code containing the inference algorithm. When we parse this code, we get a function (step!) which we can then run to execute the inference procedure.\n",
    "\n",
    "If you are feeling adventurous, feel free to experiment with some of the other inference tools available in ForneyLab. Do you get different results?"
   ]
  },
  {
   "cell_type": "code",
   "execution_count": null,
   "metadata": {},
   "outputs": [],
   "source": [
    "# Generate Julia code for inference. The argument tells ForneyLab which variable we want the posterior for\n",
    "algo = sumProductAlgorithm(W) \n",
    "\n",
    "# Evaluate the generated code to get the step! function\n",
    "eval(Meta.parse(algo)) "
   ]
  },
  {
   "cell_type": "markdown",
   "metadata": {},
   "source": [
    "Next we need to create a dictionary with our data. Since our model is only for a single data point, we create a dictionary holding just one random x/y pair"
   ]
  },
  {
   "cell_type": "code",
   "execution_count": null,
   "metadata": {},
   "outputs": [],
   "source": [
    "data = Dict(:x => x_data[10],\n",
    "            :y => y_data[10]);"
   ]
  },
  {
   "cell_type": "markdown",
   "metadata": {},
   "source": [
    "Now, we feed our data dictionary into the step! function, do inference and observe the results! For clarity we have written the model specification below as well so you can get a sense of what a full ForneyLab program looks like."
   ]
  },
  {
   "cell_type": "code",
   "execution_count": null,
   "metadata": {},
   "outputs": [],
   "source": [
    "g = FactorGraph(); # Instantiate Factor Graph\n",
    "\n",
    "# Parameters for priors\n",
    "μ_w = [0.,0.]\n",
    "σ_w = [1. 0. ; 0. 1.]\n",
    "σ_y = 1.\n",
    "\n",
    "\n",
    "# Specify probabilistic model\n",
    "@RV x \n",
    "@RV W ~ GaussianMeanVariance(μ_w,σ_w)\n",
    "@RV y ~ GaussianMeanVariance(dot(W,x), σ_y)\n",
    "\n",
    "# Denote placeholders\n",
    "placeholder(x,:x,dims=(2,)) \n",
    "placeholder(y,:y);\n",
    "\n",
    "# Generate inference algorithm\n",
    "algo = sumProductAlgorithm(W) \n",
    "eval(Meta.parse(algo)) \n",
    "\n",
    "# Set up data dictionary\n",
    "data = Dict(:x => x_data[10],\n",
    "            :y => y_data[10]);\n",
    "\n",
    "# Do inference\n",
    "marginals = step!(data)\n",
    "\n",
    "# Print results\n",
    "println(\"Posterior mean: \",mean(marginals[:W]))\n",
    "println(\"Posterior Variance: \",var(marginals[:W]))"
   ]
  },
  {
   "cell_type": "markdown",
   "metadata": {},
   "source": [
    "That wasn't particurlarly accurate because we only used a single data point. Let's create a new model that takes in the full data set instead and see if we get better results."
   ]
  },
  {
   "cell_type": "code",
   "execution_count": null,
   "metadata": {},
   "outputs": [],
   "source": [
    "g2 = FactorGraph() # Instantiate new Factor Graph\n",
    "\n",
    "# Parameters for priors\n",
    "μ_w = [0.,0.]\n",
    "σ_w = [1. 0. ; 0. 1.]\n",
    "σ_y = 1.\n",
    "\n",
    "# Create vectors to hold variables for all data points\n",
    "x = Vector{Variable}(undef,n) \n",
    "y = Vector{Variable}(undef,n)\n",
    "\n",
    "# Define a prior over the weights. These are shared for all data points\n",
    "@RV W ~ GaussianMeanVariance(μ_w,σ_w)\n",
    "\n",
    "# Loop over the dataset\n",
    "for i in 1:n\n",
    "    @RV x[i] # We can use indexing to fill a vector with random variables\n",
    "    @RV y[i] ~ GaussianMeanVariance(dot(W,x[i]), σ_y) \n",
    "    placeholder(x[i],:x,index=i,dims=(2,)) # To define placeholders in vectors, we use the index flag\n",
    "    placeholder(y[i],:y,index=i)\n",
    "end\n",
    "\n",
    "# Generate a new inference algorithm\n",
    "algo = sumProductAlgorithm(W)\n",
    "eval(Meta.parse(algo)) \n",
    "\n",
    "# Now we can fit the entire data set in our model!\n",
    "data = Dict(:x => x_data,\n",
    "            :y => y_data)\n",
    "\n",
    "# Perform inference and observe the results\n",
    "marginals = step!(data)\n",
    "println(\"Posterior mean: \",mean(marginals[:W]))\n",
    "println(\"Posterior Variance: \",var(marginals[:W]))"
   ]
  },
  {
   "cell_type": "markdown",
   "metadata": {},
   "source": [
    "Much better! The trick to note above is the use of vectors and indices to handle multiple data points. "
   ]
  },
  {
   "cell_type": "markdown",
   "metadata": {},
   "source": [
    "#### Assigment 1. \n",
    "Generate some new data and change the value of true_$\\mu$ to something other than 0. How does the model fit now? Likely not particularly well, since it is missing an intercept term. Your task is to remedy this by extending the regression model to handle intercepts.\n",
    "\n",
    "Do this by extending the input data with an additional column of 1's and adding an extra weight to W. Can you explain why this works?"
   ]
  },
  {
   "cell_type": "code",
   "execution_count": null,
   "metadata": {},
   "outputs": [],
   "source": [
    "# Your code here"
   ]
  }
 ],
 "metadata": {
  "@webio": {
   "lastCommId": null,
   "lastKernelId": null
  },
  "anaconda-cloud": {},
  "celltoolbar": "Slideshow",
  "kernelspec": {
   "display_name": "Julia 1.1.0",
   "language": "julia",
   "name": "julia-1.1"
  },
  "language_info": {
   "file_extension": ".jl",
   "mimetype": "application/julia",
   "name": "julia",
   "version": "1.1.0"
  }
 },
 "nbformat": 4,
 "nbformat_minor": 4
}
