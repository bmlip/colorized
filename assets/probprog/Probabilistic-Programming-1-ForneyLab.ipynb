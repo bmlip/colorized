{
 "cells": [
  {
   "cell_type": "markdown",
   "metadata": {
    "slideshow": {
     "slide_type": "slide"
    }
   },
   "source": [
    "# Probabilistic Programming 1 - Introduction to ForneyLab"
   ]
  },
  {
   "cell_type": "markdown",
   "metadata": {
    "slideshow": {
     "slide_type": "slide"
    }
   },
   "source": [
    "### Preliminaries\n",
    "\n",
    "- Goal \n",
    "  - Learn to write basic probabilistic programs  \n",
    "- Materials        \n",
    "  - Mandatory\n",
    "    - These lecture notes.\n",
    "    - Intro to programming in Julia (https://youtu.be/8h8rQyEpiZA?t=233).\n",
    "  - Optional\n",
    "    - Cheatsheets: how does Julia differ from Matlab / Python (https://docs.julialang.org/en/v1/manual/noteworthy-differences/index.html).\n",
    "    - Getting started with ForneyLab (https://biaslab.github.io/forneylab/docs/getting-started/)."
   ]
  },
  {
   "cell_type": "markdown",
   "metadata": {},
   "source": [
    "So far you've been doing all your calculations by hand. As you have probably learned, this is timeconsuming and error prone. In this lesson we are going to introduce Probabilistic Programming as a method to automate this labour away. We will cover 2 packages - ForneyLab and Turing - and show you how to specify probabilistic models in both. Afterwards, you'll get your first taste of Probabilistic Programming by solving your first problem! The main takehome point is that while Probabilistic Programming requires some specialised mindware in terms of probability theory and correct model specification, implementation is straightforward once you have the right tools."
   ]
  },
  {
   "cell_type": "markdown",
   "metadata": {},
   "source": [
    "# Introduction to ForneyLab"
   ]
  },
  {
   "cell_type": "markdown",
   "metadata": {},
   "source": [
    "ForneyLab (link) is a Probabilistic Programming toolbox developed inhouse at BIASLab. ForneyLab utilises the FFG formalism that you are familiar with by now to describe models. Inference is performed through variational procedures or, if applicable, exact inference. This is the core feature of ForneyLab: A large library of analytical update rules similar to what you have derived so far. This provides fast, deterministic inference with convergence guarantees, provided you give it the right generative model.\n",
    "Things to keep in mind when using ForneyLab:\n",
    "1. It is optimised for Dynamical Systems and time series data. It'll be extra fast in these circumstances\n",
    "2. Relies on deterministic update rules - you will get the same result each time\n",
    "3. If you find a bug, please tell us :) \n",
    "\n",
    "Now, let's work through an example using ForneyLab"
   ]
  },
  {
   "cell_type": "code",
   "execution_count": 1,
   "metadata": {},
   "outputs": [
    {
     "data": {
      "image/svg+xml": [
       "<?xml version=\"1.0\" encoding=\"utf-8\"?>\n",
       "<svg xmlns=\"http://www.w3.org/2000/svg\" xmlns:xlink=\"http://www.w3.org/1999/xlink\" width=\"600\" height=\"400\" viewBox=\"0 0 2400 1600\">\n",
       "<defs>\n",
       "  <clipPath id=\"clip3100\">\n",
       "    <rect x=\"0\" y=\"0\" width=\"2400\" height=\"1600\"/>\n",
       "  </clipPath>\n",
       "</defs>\n",
       "<path clip-path=\"url(#clip3100)\" d=\"\n",
       "M0 1600 L2400 1600 L2400 0 L0 0  Z\n",
       "  \" fill=\"#ffffff\" fill-rule=\"evenodd\" fill-opacity=\"1\"/>\n",
       "<defs>\n",
       "  <clipPath id=\"clip3101\">\n",
       "    <rect x=\"480\" y=\"0\" width=\"1681\" height=\"1600\"/>\n",
       "  </clipPath>\n",
       "</defs>\n",
       "<path clip-path=\"url(#clip3100)\" d=\"\n",
       "M113.754 1487.47 L2352.76 1487.47 L2352.76 47.2441 L113.754 47.2441  Z\n",
       "  \" fill=\"#ffffff\" fill-rule=\"evenodd\" fill-opacity=\"1\"/>\n",
       "<defs>\n",
       "  <clipPath id=\"clip3102\">\n",
       "    <rect x=\"113\" y=\"47\" width=\"2240\" height=\"1441\"/>\n",
       "  </clipPath>\n",
       "</defs>\n",
       "<polyline clip-path=\"url(#clip3102)\" style=\"stroke:#000000; stroke-width:2; stroke-opacity:0.1; fill:none\" points=\"\n",
       "  125.604,1487.47 125.604,47.2441 \n",
       "  \"/>\n",
       "<polyline clip-path=\"url(#clip3102)\" style=\"stroke:#000000; stroke-width:2; stroke-opacity:0.1; fill:none\" points=\"\n",
       "  640.79,1487.47 640.79,47.2441 \n",
       "  \"/>\n",
       "<polyline clip-path=\"url(#clip3102)\" style=\"stroke:#000000; stroke-width:2; stroke-opacity:0.1; fill:none\" points=\"\n",
       "  1155.98,1487.47 1155.98,47.2441 \n",
       "  \"/>\n",
       "<polyline clip-path=\"url(#clip3102)\" style=\"stroke:#000000; stroke-width:2; stroke-opacity:0.1; fill:none\" points=\"\n",
       "  1671.16,1487.47 1671.16,47.2441 \n",
       "  \"/>\n",
       "<polyline clip-path=\"url(#clip3102)\" style=\"stroke:#000000; stroke-width:2; stroke-opacity:0.1; fill:none\" points=\"\n",
       "  2186.35,1487.47 2186.35,47.2441 \n",
       "  \"/>\n",
       "<polyline clip-path=\"url(#clip3102)\" style=\"stroke:#000000; stroke-width:2; stroke-opacity:0.1; fill:none\" points=\"\n",
       "  113.754,1210.58 2352.76,1210.58 \n",
       "  \"/>\n",
       "<polyline clip-path=\"url(#clip3102)\" style=\"stroke:#000000; stroke-width:2; stroke-opacity:0.1; fill:none\" points=\"\n",
       "  113.754,901.906 2352.76,901.906 \n",
       "  \"/>\n",
       "<polyline clip-path=\"url(#clip3102)\" style=\"stroke:#000000; stroke-width:2; stroke-opacity:0.1; fill:none\" points=\"\n",
       "  113.754,593.235 2352.76,593.235 \n",
       "  \"/>\n",
       "<polyline clip-path=\"url(#clip3102)\" style=\"stroke:#000000; stroke-width:2; stroke-opacity:0.1; fill:none\" points=\"\n",
       "  113.754,284.564 2352.76,284.564 \n",
       "  \"/>\n",
       "<polyline clip-path=\"url(#clip3100)\" style=\"stroke:#000000; stroke-width:4; stroke-opacity:1; fill:none\" points=\"\n",
       "  113.754,1487.47 2352.76,1487.47 \n",
       "  \"/>\n",
       "<polyline clip-path=\"url(#clip3100)\" style=\"stroke:#000000; stroke-width:4; stroke-opacity:1; fill:none\" points=\"\n",
       "  113.754,1487.47 113.754,47.2441 \n",
       "  \"/>\n",
       "<polyline clip-path=\"url(#clip3100)\" style=\"stroke:#000000; stroke-width:4; stroke-opacity:1; fill:none\" points=\"\n",
       "  125.604,1487.47 125.604,1465.87 \n",
       "  \"/>\n",
       "<polyline clip-path=\"url(#clip3100)\" style=\"stroke:#000000; stroke-width:4; stroke-opacity:1; fill:none\" points=\"\n",
       "  640.79,1487.47 640.79,1465.87 \n",
       "  \"/>\n",
       "<polyline clip-path=\"url(#clip3100)\" style=\"stroke:#000000; stroke-width:4; stroke-opacity:1; fill:none\" points=\"\n",
       "  1155.98,1487.47 1155.98,1465.87 \n",
       "  \"/>\n",
       "<polyline clip-path=\"url(#clip3100)\" style=\"stroke:#000000; stroke-width:4; stroke-opacity:1; fill:none\" points=\"\n",
       "  1671.16,1487.47 1671.16,1465.87 \n",
       "  \"/>\n",
       "<polyline clip-path=\"url(#clip3100)\" style=\"stroke:#000000; stroke-width:4; stroke-opacity:1; fill:none\" points=\"\n",
       "  2186.35,1487.47 2186.35,1465.87 \n",
       "  \"/>\n",
       "<polyline clip-path=\"url(#clip3100)\" style=\"stroke:#000000; stroke-width:4; stroke-opacity:1; fill:none\" points=\"\n",
       "  113.754,1210.58 147.339,1210.58 \n",
       "  \"/>\n",
       "<polyline clip-path=\"url(#clip3100)\" style=\"stroke:#000000; stroke-width:4; stroke-opacity:1; fill:none\" points=\"\n",
       "  113.754,901.906 147.339,901.906 \n",
       "  \"/>\n",
       "<polyline clip-path=\"url(#clip3100)\" style=\"stroke:#000000; stroke-width:4; stroke-opacity:1; fill:none\" points=\"\n",
       "  113.754,593.235 147.339,593.235 \n",
       "  \"/>\n",
       "<polyline clip-path=\"url(#clip3100)\" style=\"stroke:#000000; stroke-width:4; stroke-opacity:1; fill:none\" points=\"\n",
       "  113.754,284.564 147.339,284.564 \n",
       "  \"/>\n",
       "<g clip-path=\"url(#clip3100)\">\n",
       "<text style=\"fill:#000000; fill-opacity:1; font-family:Arial,Helvetica Neue,Helvetica,sans-serif; font-size:48px; text-anchor:middle;\" transform=\"rotate(0, 125.604, 1541.47)\" x=\"125.604\" y=\"1541.47\">0</text>\n",
       "</g>\n",
       "<g clip-path=\"url(#clip3100)\">\n",
       "<text style=\"fill:#000000; fill-opacity:1; font-family:Arial,Helvetica Neue,Helvetica,sans-serif; font-size:48px; text-anchor:middle;\" transform=\"rotate(0, 640.79, 1541.47)\" x=\"640.79\" y=\"1541.47\">10</text>\n",
       "</g>\n",
       "<g clip-path=\"url(#clip3100)\">\n",
       "<text style=\"fill:#000000; fill-opacity:1; font-family:Arial,Helvetica Neue,Helvetica,sans-serif; font-size:48px; text-anchor:middle;\" transform=\"rotate(0, 1155.98, 1541.47)\" x=\"1155.98\" y=\"1541.47\">20</text>\n",
       "</g>\n",
       "<g clip-path=\"url(#clip3100)\">\n",
       "<text style=\"fill:#000000; fill-opacity:1; font-family:Arial,Helvetica Neue,Helvetica,sans-serif; font-size:48px; text-anchor:middle;\" transform=\"rotate(0, 1671.16, 1541.47)\" x=\"1671.16\" y=\"1541.47\">30</text>\n",
       "</g>\n",
       "<g clip-path=\"url(#clip3100)\">\n",
       "<text style=\"fill:#000000; fill-opacity:1; font-family:Arial,Helvetica Neue,Helvetica,sans-serif; font-size:48px; text-anchor:middle;\" transform=\"rotate(0, 2186.35, 1541.47)\" x=\"2186.35\" y=\"1541.47\">40</text>\n",
       "</g>\n",
       "<g clip-path=\"url(#clip3100)\">\n",
       "<text style=\"fill:#000000; fill-opacity:1; font-family:Arial,Helvetica Neue,Helvetica,sans-serif; font-size:48px; text-anchor:end;\" transform=\"rotate(0, 89.7545, 1228.08)\" x=\"89.7545\" y=\"1228.08\">0</text>\n",
       "</g>\n",
       "<g clip-path=\"url(#clip3100)\">\n",
       "<text style=\"fill:#000000; fill-opacity:1; font-family:Arial,Helvetica Neue,Helvetica,sans-serif; font-size:48px; text-anchor:end;\" transform=\"rotate(0, 89.7545, 919.406)\" x=\"89.7545\" y=\"919.406\">2</text>\n",
       "</g>\n",
       "<g clip-path=\"url(#clip3100)\">\n",
       "<text style=\"fill:#000000; fill-opacity:1; font-family:Arial,Helvetica Neue,Helvetica,sans-serif; font-size:48px; text-anchor:end;\" transform=\"rotate(0, 89.7545, 610.735)\" x=\"89.7545\" y=\"610.735\">4</text>\n",
       "</g>\n",
       "<g clip-path=\"url(#clip3100)\">\n",
       "<text style=\"fill:#000000; fill-opacity:1; font-family:Arial,Helvetica Neue,Helvetica,sans-serif; font-size:48px; text-anchor:end;\" transform=\"rotate(0, 89.7545, 302.064)\" x=\"89.7545\" y=\"302.064\">6</text>\n",
       "</g>\n",
       "<circle clip-path=\"url(#clip3102)\" style=\"fill:#000000; stroke:none; fill-opacity:1\" cx=\"177.122\" cy=\"1446.71\" r=\"18\"/>\n",
       "<circle clip-path=\"url(#clip3102)\" style=\"fill:#009af9; stroke:none; fill-opacity:1\" cx=\"177.122\" cy=\"1446.71\" r=\"14\"/>\n",
       "<circle clip-path=\"url(#clip3102)\" style=\"fill:#000000; stroke:none; fill-opacity:1\" cx=\"228.641\" cy=\"1166\" r=\"18\"/>\n",
       "<circle clip-path=\"url(#clip3102)\" style=\"fill:#009af9; stroke:none; fill-opacity:1\" cx=\"228.641\" cy=\"1166\" r=\"14\"/>\n",
       "<circle clip-path=\"url(#clip3102)\" style=\"fill:#000000; stroke:none; fill-opacity:1\" cx=\"280.16\" cy=\"1109.84\" r=\"18\"/>\n",
       "<circle clip-path=\"url(#clip3102)\" style=\"fill:#009af9; stroke:none; fill-opacity:1\" cx=\"280.16\" cy=\"1109.84\" r=\"14\"/>\n",
       "<circle clip-path=\"url(#clip3102)\" style=\"fill:#000000; stroke:none; fill-opacity:1\" cx=\"331.678\" cy=\"1426.55\" r=\"18\"/>\n",
       "<circle clip-path=\"url(#clip3102)\" style=\"fill:#009af9; stroke:none; fill-opacity:1\" cx=\"331.678\" cy=\"1426.55\" r=\"14\"/>\n",
       "<circle clip-path=\"url(#clip3102)\" style=\"fill:#000000; stroke:none; fill-opacity:1\" cx=\"383.197\" cy=\"1028.62\" r=\"18\"/>\n",
       "<circle clip-path=\"url(#clip3102)\" style=\"fill:#009af9; stroke:none; fill-opacity:1\" cx=\"383.197\" cy=\"1028.62\" r=\"14\"/>\n",
       "<circle clip-path=\"url(#clip3102)\" style=\"fill:#000000; stroke:none; fill-opacity:1\" cx=\"434.716\" cy=\"880.096\" r=\"18\"/>\n",
       "<circle clip-path=\"url(#clip3102)\" style=\"fill:#009af9; stroke:none; fill-opacity:1\" cx=\"434.716\" cy=\"880.096\" r=\"14\"/>\n",
       "<circle clip-path=\"url(#clip3102)\" style=\"fill:#000000; stroke:none; fill-opacity:1\" cx=\"486.234\" cy=\"1353.9\" r=\"18\"/>\n",
       "<circle clip-path=\"url(#clip3102)\" style=\"fill:#009af9; stroke:none; fill-opacity:1\" cx=\"486.234\" cy=\"1353.9\" r=\"14\"/>\n",
       "<circle clip-path=\"url(#clip3102)\" style=\"fill:#000000; stroke:none; fill-opacity:1\" cx=\"537.753\" cy=\"1237.55\" r=\"18\"/>\n",
       "<circle clip-path=\"url(#clip3102)\" style=\"fill:#009af9; stroke:none; fill-opacity:1\" cx=\"537.753\" cy=\"1237.55\" r=\"14\"/>\n",
       "<circle clip-path=\"url(#clip3102)\" style=\"fill:#000000; stroke:none; fill-opacity:1\" cx=\"589.272\" cy=\"869.923\" r=\"18\"/>\n",
       "<circle clip-path=\"url(#clip3102)\" style=\"fill:#009af9; stroke:none; fill-opacity:1\" cx=\"589.272\" cy=\"869.923\" r=\"14\"/>\n",
       "<circle clip-path=\"url(#clip3102)\" style=\"fill:#000000; stroke:none; fill-opacity:1\" cx=\"640.79\" cy=\"1099.91\" r=\"18\"/>\n",
       "<circle clip-path=\"url(#clip3102)\" style=\"fill:#009af9; stroke:none; fill-opacity:1\" cx=\"640.79\" cy=\"1099.91\" r=\"14\"/>\n",
       "<circle clip-path=\"url(#clip3102)\" style=\"fill:#000000; stroke:none; fill-opacity:1\" cx=\"692.309\" cy=\"1039.17\" r=\"18\"/>\n",
       "<circle clip-path=\"url(#clip3102)\" style=\"fill:#009af9; stroke:none; fill-opacity:1\" cx=\"692.309\" cy=\"1039.17\" r=\"14\"/>\n",
       "<circle clip-path=\"url(#clip3102)\" style=\"fill:#000000; stroke:none; fill-opacity:1\" cx=\"743.828\" cy=\"843.778\" r=\"18\"/>\n",
       "<circle clip-path=\"url(#clip3102)\" style=\"fill:#009af9; stroke:none; fill-opacity:1\" cx=\"743.828\" cy=\"843.778\" r=\"14\"/>\n",
       "<circle clip-path=\"url(#clip3102)\" style=\"fill:#000000; stroke:none; fill-opacity:1\" cx=\"795.346\" cy=\"950.007\" r=\"18\"/>\n",
       "<circle clip-path=\"url(#clip3102)\" style=\"fill:#009af9; stroke:none; fill-opacity:1\" cx=\"795.346\" cy=\"950.007\" r=\"14\"/>\n",
       "<circle clip-path=\"url(#clip3102)\" style=\"fill:#000000; stroke:none; fill-opacity:1\" cx=\"846.865\" cy=\"730.999\" r=\"18\"/>\n",
       "<circle clip-path=\"url(#clip3102)\" style=\"fill:#009af9; stroke:none; fill-opacity:1\" cx=\"846.865\" cy=\"730.999\" r=\"14\"/>\n",
       "<circle clip-path=\"url(#clip3102)\" style=\"fill:#000000; stroke:none; fill-opacity:1\" cx=\"898.384\" cy=\"719.147\" r=\"18\"/>\n",
       "<circle clip-path=\"url(#clip3102)\" style=\"fill:#009af9; stroke:none; fill-opacity:1\" cx=\"898.384\" cy=\"719.147\" r=\"14\"/>\n",
       "<circle clip-path=\"url(#clip3102)\" style=\"fill:#000000; stroke:none; fill-opacity:1\" cx=\"949.902\" cy=\"919.551\" r=\"18\"/>\n",
       "<circle clip-path=\"url(#clip3102)\" style=\"fill:#009af9; stroke:none; fill-opacity:1\" cx=\"949.902\" cy=\"919.551\" r=\"14\"/>\n",
       "<circle clip-path=\"url(#clip3102)\" style=\"fill:#000000; stroke:none; fill-opacity:1\" cx=\"1001.42\" cy=\"979.193\" r=\"18\"/>\n",
       "<circle clip-path=\"url(#clip3102)\" style=\"fill:#009af9; stroke:none; fill-opacity:1\" cx=\"1001.42\" cy=\"979.193\" r=\"14\"/>\n",
       "<circle clip-path=\"url(#clip3102)\" style=\"fill:#000000; stroke:none; fill-opacity:1\" cx=\"1052.94\" cy=\"912.56\" r=\"18\"/>\n",
       "<circle clip-path=\"url(#clip3102)\" style=\"fill:#009af9; stroke:none; fill-opacity:1\" cx=\"1052.94\" cy=\"912.56\" r=\"14\"/>\n",
       "<circle clip-path=\"url(#clip3102)\" style=\"fill:#000000; stroke:none; fill-opacity:1\" cx=\"1104.46\" cy=\"701.019\" r=\"18\"/>\n",
       "<circle clip-path=\"url(#clip3102)\" style=\"fill:#009af9; stroke:none; fill-opacity:1\" cx=\"1104.46\" cy=\"701.019\" r=\"14\"/>\n",
       "<circle clip-path=\"url(#clip3102)\" style=\"fill:#000000; stroke:none; fill-opacity:1\" cx=\"1155.98\" cy=\"834.53\" r=\"18\"/>\n",
       "<circle clip-path=\"url(#clip3102)\" style=\"fill:#009af9; stroke:none; fill-opacity:1\" cx=\"1155.98\" cy=\"834.53\" r=\"14\"/>\n",
       "<circle clip-path=\"url(#clip3102)\" style=\"fill:#000000; stroke:none; fill-opacity:1\" cx=\"1207.5\" cy=\"849.239\" r=\"18\"/>\n",
       "<circle clip-path=\"url(#clip3102)\" style=\"fill:#009af9; stroke:none; fill-opacity:1\" cx=\"1207.5\" cy=\"849.239\" r=\"14\"/>\n",
       "<circle clip-path=\"url(#clip3102)\" style=\"fill:#000000; stroke:none; fill-opacity:1\" cx=\"1259.01\" cy=\"1029.22\" r=\"18\"/>\n",
       "<circle clip-path=\"url(#clip3102)\" style=\"fill:#009af9; stroke:none; fill-opacity:1\" cx=\"1259.01\" cy=\"1029.22\" r=\"14\"/>\n",
       "<circle clip-path=\"url(#clip3102)\" style=\"fill:#000000; stroke:none; fill-opacity:1\" cx=\"1310.53\" cy=\"573.418\" r=\"18\"/>\n",
       "<circle clip-path=\"url(#clip3102)\" style=\"fill:#009af9; stroke:none; fill-opacity:1\" cx=\"1310.53\" cy=\"573.418\" r=\"14\"/>\n",
       "<circle clip-path=\"url(#clip3102)\" style=\"fill:#000000; stroke:none; fill-opacity:1\" cx=\"1362.05\" cy=\"1035.37\" r=\"18\"/>\n",
       "<circle clip-path=\"url(#clip3102)\" style=\"fill:#009af9; stroke:none; fill-opacity:1\" cx=\"1362.05\" cy=\"1035.37\" r=\"14\"/>\n",
       "<circle clip-path=\"url(#clip3102)\" style=\"fill:#000000; stroke:none; fill-opacity:1\" cx=\"1413.57\" cy=\"353.305\" r=\"18\"/>\n",
       "<circle clip-path=\"url(#clip3102)\" style=\"fill:#009af9; stroke:none; fill-opacity:1\" cx=\"1413.57\" cy=\"353.305\" r=\"14\"/>\n",
       "<circle clip-path=\"url(#clip3102)\" style=\"fill:#000000; stroke:none; fill-opacity:1\" cx=\"1465.09\" cy=\"366.28\" r=\"18\"/>\n",
       "<circle clip-path=\"url(#clip3102)\" style=\"fill:#009af9; stroke:none; fill-opacity:1\" cx=\"1465.09\" cy=\"366.28\" r=\"14\"/>\n",
       "<circle clip-path=\"url(#clip3102)\" style=\"fill:#000000; stroke:none; fill-opacity:1\" cx=\"1516.61\" cy=\"876.821\" r=\"18\"/>\n",
       "<circle clip-path=\"url(#clip3102)\" style=\"fill:#009af9; stroke:none; fill-opacity:1\" cx=\"1516.61\" cy=\"876.821\" r=\"14\"/>\n",
       "<circle clip-path=\"url(#clip3102)\" style=\"fill:#000000; stroke:none; fill-opacity:1\" cx=\"1568.13\" cy=\"764.519\" r=\"18\"/>\n",
       "<circle clip-path=\"url(#clip3102)\" style=\"fill:#009af9; stroke:none; fill-opacity:1\" cx=\"1568.13\" cy=\"764.519\" r=\"14\"/>\n",
       "<circle clip-path=\"url(#clip3102)\" style=\"fill:#000000; stroke:none; fill-opacity:1\" cx=\"1619.65\" cy=\"506.447\" r=\"18\"/>\n",
       "<circle clip-path=\"url(#clip3102)\" style=\"fill:#009af9; stroke:none; fill-opacity:1\" cx=\"1619.65\" cy=\"506.447\" r=\"14\"/>\n",
       "<circle clip-path=\"url(#clip3102)\" style=\"fill:#000000; stroke:none; fill-opacity:1\" cx=\"1671.16\" cy=\"511.848\" r=\"18\"/>\n",
       "<circle clip-path=\"url(#clip3102)\" style=\"fill:#009af9; stroke:none; fill-opacity:1\" cx=\"1671.16\" cy=\"511.848\" r=\"14\"/>\n",
       "<circle clip-path=\"url(#clip3102)\" style=\"fill:#000000; stroke:none; fill-opacity:1\" cx=\"1722.68\" cy=\"629.643\" r=\"18\"/>\n",
       "<circle clip-path=\"url(#clip3102)\" style=\"fill:#009af9; stroke:none; fill-opacity:1\" cx=\"1722.68\" cy=\"629.643\" r=\"14\"/>\n",
       "<circle clip-path=\"url(#clip3102)\" style=\"fill:#000000; stroke:none; fill-opacity:1\" cx=\"1774.2\" cy=\"614.683\" r=\"18\"/>\n",
       "<circle clip-path=\"url(#clip3102)\" style=\"fill:#009af9; stroke:none; fill-opacity:1\" cx=\"1774.2\" cy=\"614.683\" r=\"14\"/>\n",
       "<circle clip-path=\"url(#clip3102)\" style=\"fill:#000000; stroke:none; fill-opacity:1\" cx=\"1825.72\" cy=\"613.561\" r=\"18\"/>\n",
       "<circle clip-path=\"url(#clip3102)\" style=\"fill:#009af9; stroke:none; fill-opacity:1\" cx=\"1825.72\" cy=\"613.561\" r=\"14\"/>\n",
       "<circle clip-path=\"url(#clip3102)\" style=\"fill:#000000; stroke:none; fill-opacity:1\" cx=\"1877.24\" cy=\"442.499\" r=\"18\"/>\n",
       "<circle clip-path=\"url(#clip3102)\" style=\"fill:#009af9; stroke:none; fill-opacity:1\" cx=\"1877.24\" cy=\"442.499\" r=\"14\"/>\n",
       "<circle clip-path=\"url(#clip3102)\" style=\"fill:#000000; stroke:none; fill-opacity:1\" cx=\"1928.76\" cy=\"268.176\" r=\"18\"/>\n",
       "<circle clip-path=\"url(#clip3102)\" style=\"fill:#009af9; stroke:none; fill-opacity:1\" cx=\"1928.76\" cy=\"268.176\" r=\"14\"/>\n",
       "<circle clip-path=\"url(#clip3102)\" style=\"fill:#000000; stroke:none; fill-opacity:1\" cx=\"1980.28\" cy=\"386.127\" r=\"18\"/>\n",
       "<circle clip-path=\"url(#clip3102)\" style=\"fill:#009af9; stroke:none; fill-opacity:1\" cx=\"1980.28\" cy=\"386.127\" r=\"14\"/>\n",
       "<circle clip-path=\"url(#clip3102)\" style=\"fill:#000000; stroke:none; fill-opacity:1\" cx=\"2031.79\" cy=\"253.312\" r=\"18\"/>\n",
       "<circle clip-path=\"url(#clip3102)\" style=\"fill:#009af9; stroke:none; fill-opacity:1\" cx=\"2031.79\" cy=\"253.312\" r=\"14\"/>\n",
       "<circle clip-path=\"url(#clip3102)\" style=\"fill:#000000; stroke:none; fill-opacity:1\" cx=\"2083.31\" cy=\"620.222\" r=\"18\"/>\n",
       "<circle clip-path=\"url(#clip3102)\" style=\"fill:#009af9; stroke:none; fill-opacity:1\" cx=\"2083.31\" cy=\"620.222\" r=\"14\"/>\n",
       "<circle clip-path=\"url(#clip3102)\" style=\"fill:#000000; stroke:none; fill-opacity:1\" cx=\"2134.83\" cy=\"320.594\" r=\"18\"/>\n",
       "<circle clip-path=\"url(#clip3102)\" style=\"fill:#009af9; stroke:none; fill-opacity:1\" cx=\"2134.83\" cy=\"320.594\" r=\"14\"/>\n",
       "<circle clip-path=\"url(#clip3102)\" style=\"fill:#000000; stroke:none; fill-opacity:1\" cx=\"2186.35\" cy=\"88.0053\" r=\"18\"/>\n",
       "<circle clip-path=\"url(#clip3102)\" style=\"fill:#009af9; stroke:none; fill-opacity:1\" cx=\"2186.35\" cy=\"88.0053\" r=\"14\"/>\n",
       "<circle clip-path=\"url(#clip3102)\" style=\"fill:#000000; stroke:none; fill-opacity:1\" cx=\"2237.87\" cy=\"409.819\" r=\"18\"/>\n",
       "<circle clip-path=\"url(#clip3102)\" style=\"fill:#009af9; stroke:none; fill-opacity:1\" cx=\"2237.87\" cy=\"409.819\" r=\"14\"/>\n",
       "<circle clip-path=\"url(#clip3102)\" style=\"fill:#000000; stroke:none; fill-opacity:1\" cx=\"2289.39\" cy=\"272.541\" r=\"18\"/>\n",
       "<circle clip-path=\"url(#clip3102)\" style=\"fill:#009af9; stroke:none; fill-opacity:1\" cx=\"2289.39\" cy=\"272.541\" r=\"14\"/>\n",
       "<path clip-path=\"url(#clip3100)\" d=\"\n",
       "M1989.93 251.724 L2280.76 251.724 L2280.76 130.764 L1989.93 130.764  Z\n",
       "  \" fill=\"#ffffff\" fill-rule=\"evenodd\" fill-opacity=\"1\"/>\n",
       "<polyline clip-path=\"url(#clip3100)\" style=\"stroke:#000000; stroke-width:4; stroke-opacity:1; fill:none\" points=\"\n",
       "  1989.93,251.724 2280.76,251.724 2280.76,130.764 1989.93,130.764 1989.93,251.724 \n",
       "  \"/>\n",
       "<circle clip-path=\"url(#clip3100)\" style=\"fill:#000000; stroke:none; fill-opacity:1\" cx=\"2097.93\" cy=\"191.244\" r=\"25\"/>\n",
       "<circle clip-path=\"url(#clip3100)\" style=\"fill:#009af9; stroke:none; fill-opacity:1\" cx=\"2097.93\" cy=\"191.244\" r=\"21\"/>\n",
       "<g clip-path=\"url(#clip3100)\">\n",
       "<text style=\"fill:#000000; fill-opacity:1; font-family:Arial,Helvetica Neue,Helvetica,sans-serif; font-size:48px; text-anchor:start;\" transform=\"rotate(0, 2181.93, 208.744)\" x=\"2181.93\" y=\"208.744\">y1</text>\n",
       "</g>\n",
       "</svg>\n"
      ]
     },
     "execution_count": 1,
     "metadata": {},
     "output_type": "execute_result"
    }
   ],
   "source": [
    "# Let's start by generating some data\n",
    "using Plots\n",
    "true_W = [1.0;0.5]\n",
    "true_σ = 1.\n",
    "true_μ = 0.\n",
    "true_slope = 0.1\n",
    "n=42\n",
    "\n",
    "\n",
    "#function generate_data(true_W,true_σ,true_μ,sqrt_n)\n",
    "#    x_data = [[Float64(x1),Float64(x2)] for x1 in 0:sqrt_n for x2 in 0:sqrt_n]\n",
    "#    y_data = [true_W' * x + randn() * true_σ for x in x_data]\n",
    "#    return x_data,y_data\n",
    "#end\n",
    "            \n",
    "function generate_data(true_W, true_σ, true_μ, n)\n",
    "    x = randn(size(true_W)[1],n) .* true_σ .+ true_μ # Draw from a Gaussian with correct parameters\n",
    "    [x[:,i] .+= true_slope * i for i in 1:n] # Add a slope\n",
    "    y = true_W' * x # Compute y values\n",
    "    return [x[:,i] for i in 1:n],y # List comprehension formats data for easy access later\n",
    "end\n",
    "    \n",
    "x_data,y_data = generate_data(true_W,true_σ,true_μ,n)\n",
    "scatter(1:n,y_data[:])"
   ]
  },
  {
   "cell_type": "markdown",
   "metadata": {},
   "source": [
    "To model our data, we define a model using ForneyLab. We will try a bayesian linear regression of the form\n",
    "\n",
    "$$y \\sim \\mathcal{N}(W^Tx,\\sigma_y)$$\n",
    "With a Gaussian prior on the weights W\n",
    "$$ W \\sim \\mathcal{N}(\\mathbf{\\mu_w},\\mathbf{\\sigma_w})$$\n",
    "\n",
    "The first thing we need to do is to import ForneyLab and instantiate a Factor Graph."
   ]
  },
  {
   "cell_type": "code",
   "execution_count": 2,
   "metadata": {},
   "outputs": [],
   "source": [
    "using ForneyLab\n",
    "g = FactorGraph();"
   ]
  },
  {
   "cell_type": "markdown",
   "metadata": {},
   "source": [
    "Now that we have a FactorGraph, we can start adding variables to it. This is the point where we specify our probabilistic model. When doing Probabilistic Programming, the core challenge is good model specification. To keep it simple, let's start by defining a model for a single x/y pair.\n"
   ]
  },
  {
   "cell_type": "code",
   "execution_count": 3,
   "metadata": {},
   "outputs": [
    {
     "data": {
      "text/html": [
       "<?xml version=\"1.0\" encoding=\"UTF-8\" standalone=\"no\"?>\n",
       "<!DOCTYPE svg PUBLIC \"-//W3C//DTD SVG 1.1//EN\"\n",
       " \"http://www.w3.org/Graphics/SVG/1.1/DTD/svg11.dtd\">\n",
       "<!-- Generated by graphviz version 2.38.0 (20140413.2041)\n",
       " -->\n",
       "<!-- Title: G Pages: 1 -->\n",
       "<svg width=\"374pt\" height=\"512pt\"\n",
       " viewBox=\"0.00 0.00 374.00 512.00\" xmlns=\"http://www.w3.org/2000/svg\" xmlns:xlink=\"http://www.w3.org/1999/xlink\">\n",
       "<g id=\"graph0\" class=\"graph\" transform=\"scale(1 1) rotate(0) translate(4 508)\">\n",
       "<title>G</title>\n",
       "<polygon fill=\"white\" stroke=\"none\" points=\"-4,4 -4,-508 370,-508 370,4 -4,4\"/>\n",
       "<!-- 9136641685725326190 -->\n",
       "<g id=\"node1\" class=\"node\"><title>9136641685725326190</title>\n",
       "<polygon fill=\"none\" stroke=\"black\" points=\"349,-405 245,-405 245,-333 349,-333 349,-405\"/>\n",
       "<text text-anchor=\"middle\" x=\"297\" y=\"-371.8\" font-family=\"Times,serif\" font-size=\"9.00\">𝒩</text>\n",
       "<text text-anchor=\"middle\" x=\"297\" y=\"-361.8\" font-family=\"Times,serif\" font-size=\"9.00\">gaussianmeanvariance_2</text>\n",
       "</g>\n",
       "<!-- 8507912388065765116 -->\n",
       "<g id=\"node3\" class=\"node\"><title>8507912388065765116</title>\n",
       "<polygon fill=\"none\" stroke=\"black\" points=\"147,-288 75,-288 75,-216 147,-216 147,-288\"/>\n",
       "<text text-anchor=\"middle\" x=\"111\" y=\"-254.8\" font-family=\"Times,serif\" font-size=\"9.00\">dot</text>\n",
       "<text text-anchor=\"middle\" x=\"111\" y=\"-244.8\" font-family=\"Times,serif\" font-size=\"9.00\">dotproduct_1</text>\n",
       "</g>\n",
       "<!-- 9136641685725326190&#45;&#45;8507912388065765116 -->\n",
       "<g id=\"edge2\" class=\"edge\"><title>9136641685725326190&#45;&#45;8507912388065765116</title>\n",
       "<path fill=\"none\" stroke=\"black\" d=\"M244.694,-335.66C213.533,-316.394 174.781,-292.434 147.033,-275.279\"/>\n",
       "<text text-anchor=\"start\" x=\"209\" y=\"-308.6\" font-family=\"Times,serif\" font-size=\"8.00\" fill=\"red\">variable_1</text>\n",
       "<text text-anchor=\"start\" x=\"147.033\" y=\"-277.879\" font-family=\"Times,serif\" font-size=\"8.00\">1 out </text>\n",
       "<text text-anchor=\"start\" x=\"229.694\" y=\"-338.26\" font-family=\"Times,serif\" font-size=\"8.00\">2 m </text>\n",
       "</g>\n",
       "<!-- 296168951431111486 -->\n",
       "<g id=\"node6\" class=\"node\"><title>296168951431111486</title>\n",
       "<polygon fill=\"lightgrey\" stroke=\"black\" points=\"366,-279 312,-279 312,-225 366,-225 366,-279\"/>\n",
       "<text text-anchor=\"middle\" x=\"339\" y=\"-249.8\" font-family=\"Times,serif\" font-size=\"9.00\">clamp_3</text>\n",
       "</g>\n",
       "<!-- 9136641685725326190&#45;&#45;296168951431111486 -->\n",
       "<g id=\"edge6\" class=\"edge\"><title>9136641685725326190&#45;&#45;296168951431111486</title>\n",
       "<path fill=\"none\" stroke=\"black\" d=\"M309.83,-332.871C316.15,-315.565 323.64,-295.056 329.448,-279.154\"/>\n",
       "<text text-anchor=\"start\" x=\"319\" y=\"-308.6\" font-family=\"Times,serif\" font-size=\"8.00\" fill=\"red\">clamp_3</text>\n",
       "<text text-anchor=\"start\" x=\"310.448\" y=\"-281.754\" font-family=\"Times,serif\" font-size=\"8.00\">1 out </text>\n",
       "<text text-anchor=\"start\" x=\"296.83\" y=\"-326.471\" font-family=\"Times,serif\" font-size=\"8.00\">3 v </text>\n",
       "</g>\n",
       "<!-- 1423898148003327031 -->\n",
       "<g id=\"node2\" class=\"node\"><title>1423898148003327031</title>\n",
       "<polygon fill=\"lightgrey\" stroke=\"black\" points=\"54,-54 0,-54 0,-0 54,-0 54,-54\"/>\n",
       "<text text-anchor=\"middle\" x=\"27\" y=\"-24.8\" font-family=\"Times,serif\" font-size=\"9.00\">clamp_1</text>\n",
       "</g>\n",
       "<!-- 15146858624070507933 -->\n",
       "<g id=\"node5\" class=\"node\"><title>15146858624070507933</title>\n",
       "<polygon fill=\"none\" stroke=\"black\" points=\"163,-171 59,-171 59,-99 163,-99 163,-171\"/>\n",
       "<text text-anchor=\"middle\" x=\"111\" y=\"-137.8\" font-family=\"Times,serif\" font-size=\"9.00\">𝒩</text>\n",
       "<text text-anchor=\"middle\" x=\"111\" y=\"-127.8\" font-family=\"Times,serif\" font-size=\"9.00\">gaussianmeanvariance_1</text>\n",
       "</g>\n",
       "<!-- 8507912388065765116&#45;&#45;15146858624070507933 -->\n",
       "<g id=\"edge7\" class=\"edge\"><title>8507912388065765116&#45;&#45;15146858624070507933</title>\n",
       "<path fill=\"none\" stroke=\"black\" d=\"M111,-215.871C111,-201.736 111,-185.463 111,-171.31\"/>\n",
       "<text text-anchor=\"start\" x=\"111\" y=\"-191.6\" font-family=\"Times,serif\" font-size=\"8.00\" fill=\"red\">W</text>\n",
       "<text text-anchor=\"start\" x=\"92\" y=\"-173.91\" font-family=\"Times,serif\" font-size=\"8.00\">1 out </text>\n",
       "<text text-anchor=\"start\" x=\"92\" y=\"-209.471\" font-family=\"Times,serif\" font-size=\"8.00\">3 in2 </text>\n",
       "</g>\n",
       "<!-- 5160566802316593026 -->\n",
       "<g id=\"node4\" class=\"node\"><title>5160566802316593026</title>\n",
       "<polygon fill=\"lightgrey\" stroke=\"black\" points=\"223,-54 169,-54 169,-0 223,-0 223,-54\"/>\n",
       "<text text-anchor=\"middle\" x=\"196\" y=\"-24.8\" font-family=\"Times,serif\" font-size=\"9.00\">clamp_2</text>\n",
       "</g>\n",
       "<!-- 15146858624070507933&#45;&#45;1423898148003327031 -->\n",
       "<g id=\"edge1\" class=\"edge\"><title>15146858624070507933&#45;&#45;1423898148003327031</title>\n",
       "<path fill=\"none\" stroke=\"black\" d=\"M58.6707,-113.162C45.3226,-105.187 32.6097,-94.6284 25,-81 20.511,-72.9604 19.8341,-63.1146 20.6762,-54.1004\"/>\n",
       "<text text-anchor=\"start\" x=\"25\" y=\"-74.6\" font-family=\"Times,serif\" font-size=\"8.00\" fill=\"red\">clamp_1</text>\n",
       "<text text-anchor=\"start\" x=\"1.67625\" y=\"-56.7004\" font-family=\"Times,serif\" font-size=\"8.00\">1 out </text>\n",
       "<text text-anchor=\"start\" x=\"43.6707\" y=\"-115.762\" font-family=\"Times,serif\" font-size=\"8.00\">2 m </text>\n",
       "</g>\n",
       "<!-- 15146858624070507933&#45;&#45;5160566802316593026 -->\n",
       "<g id=\"edge4\" class=\"edge\"><title>15146858624070507933&#45;&#45;5160566802316593026</title>\n",
       "<path fill=\"none\" stroke=\"black\" d=\"M139.068,-98.9979C150.77,-84.4044 164.129,-67.7451 174.964,-54.2331\"/>\n",
       "<text text-anchor=\"start\" x=\"158\" y=\"-74.6\" font-family=\"Times,serif\" font-size=\"8.00\" fill=\"red\">clamp_2</text>\n",
       "<text text-anchor=\"start\" x=\"155.964\" y=\"-56.8331\" font-family=\"Times,serif\" font-size=\"8.00\">1 out </text>\n",
       "<text text-anchor=\"start\" x=\"126.068\" y=\"-92.5979\" font-family=\"Times,serif\" font-size=\"8.00\">3 v </text>\n",
       "</g>\n",
       "<!-- 147086273047349425492 -->\n",
       "<g id=\"node7\" class=\"node\"><title>147086273047349425492</title>\n",
       "</g>\n",
       "<!-- 147086273047349425492&#45;&#45;9136641685725326190 -->\n",
       "<g id=\"edge3\" class=\"edge\"><title>147086273047349425492&#45;&#45;9136641685725326190</title>\n",
       "<path fill=\"none\" stroke=\"black\" d=\"M297,-449.798C297,-436.31 297,-419.68 297,-405.099\"/>\n",
       "<text text-anchor=\"start\" x=\"297\" y=\"-425.6\" font-family=\"Times,serif\" font-size=\"8.00\" fill=\"red\">y</text>\n",
       "<text text-anchor=\"start\" x=\"278\" y=\"-407.699\" font-family=\"Times,serif\" font-size=\"8.00\">1 out </text>\n",
       "</g>\n",
       "<!-- 15889560687021701552 -->\n",
       "<g id=\"node8\" class=\"node\"><title>15889560687021701552</title>\n",
       "</g>\n",
       "<!-- 15889560687021701552&#45;&#45;8507912388065765116 -->\n",
       "<g id=\"edge5\" class=\"edge\"><title>15889560687021701552&#45;&#45;8507912388065765116</title>\n",
       "<path fill=\"none\" stroke=\"black\" d=\"M60.1389,-341.831C60.6123,-330.446 62.3429,-317.181 67,-306 69.5751,-299.818 73.129,-293.804 77.1104,-288.181\"/>\n",
       "<text text-anchor=\"start\" x=\"67\" y=\"-308.6\" font-family=\"Times,serif\" font-size=\"8.00\" fill=\"red\">x</text>\n",
       "<text text-anchor=\"start\" x=\"58.1104\" y=\"-290.781\" font-family=\"Times,serif\" font-size=\"8.00\">2 in1 </text>\n",
       "</g>\n",
       "</g>\n",
       "</svg>\n"
      ]
     },
     "metadata": {},
     "output_type": "display_data"
    }
   ],
   "source": [
    "# Parameters for priors\n",
    "μ_w = [0.,0.]\n",
    "σ_w = [1. 0. ; 0. 1.]\n",
    "σ_y = 1.\n",
    "\n",
    "# Let's create a random variable for our input data x. In ForneyLab we use the @RV macro to denote Random Variables\n",
    "@RV x \n",
    "\n",
    "# Now let's define a prior over the weights W. We use a 2 dimensional Gaussian since we have 2 weights\n",
    "@RV W ~ GaussianMeanVariance(μ_w,σ_w)\n",
    "\n",
    "# And finally our linear model for y\n",
    "@RV y ~ GaussianMeanVariance(dot(W,x), σ_y)\n",
    "\n",
    "\n",
    "# Visualise the graph\n",
    "ForneyLab.draw()"
   ]
  },
  {
   "cell_type": "markdown",
   "metadata": {},
   "source": [
    "If you take a look at the graph, you will see that it has some open edges for x and y. This is where we want to feed in our data. To do so in ForneyLab, we designate them as placeholders. This means that we do not give them a value immediately but want them to take one on at a later time - such as when we want to feed in the data."
   ]
  },
  {
   "cell_type": "code",
   "execution_count": 4,
   "metadata": {},
   "outputs": [],
   "source": [
    "placeholder(x,:x,dims=(2,)) # The dims flag tells ForneyLab to expect 2 dimensional inputs here\n",
    "placeholder(y,:y);"
   ]
  },
  {
   "cell_type": "markdown",
   "metadata": {},
   "source": [
    "Now that we have our model, it is time to get our inference algorithm. ForneyLab includes the Belief Propagation algorithm for exact inference which we will utilise here. The details of the procedure are not important at this time, so feel free to treat it as a \"magic inference button\".\n",
    "ForneyLab works by directly generating new Julia code containing the inference algorithm. When we parse this code, we get a function (step!) which we can then run to execute the inference procedure.\n",
    "\n",
    "If you are feeling adventurous, feel free to experiment with some of the other inference tools available in ForneyLab. Do you get different results?"
   ]
  },
  {
   "cell_type": "code",
   "execution_count": 5,
   "metadata": {},
   "outputs": [
    {
     "data": {
      "text/plain": [
       "step! (generic function with 3 methods)"
      ]
     },
     "execution_count": 5,
     "metadata": {},
     "output_type": "execute_result"
    }
   ],
   "source": [
    "algo = sumProductAlgorithm(W) # Generate Julia code for inference. The argument tells ForneyLab which variable we want the posterior for\n",
    "eval(Meta.parse(algo)) # Evaluate the generated code to get the step! function"
   ]
  },
  {
   "cell_type": "markdown",
   "metadata": {},
   "source": [
    "Next we need to create a dictionary with our data. Since our model is only for a single data point, we create a dictionary holding just one random x/y pair"
   ]
  },
  {
   "cell_type": "code",
   "execution_count": 6,
   "metadata": {},
   "outputs": [],
   "source": [
    "data = Dict(:x => x_data[10],\n",
    "            :y => y_data[10]);"
   ]
  },
  {
   "cell_type": "markdown",
   "metadata": {},
   "source": [
    "Now, we feed our data dictionary into the step! function, do inference and observe the results! For clarity we have written the model specification below as well so you can get a sense of what a full ForneyLab program looks like."
   ]
  },
  {
   "cell_type": "code",
   "execution_count": 7,
   "metadata": {},
   "outputs": [
    {
     "name": "stdout",
     "output_type": "stream",
     "text": [
      "Posterior mean: [0.1620242368042314, 0.3089271308062459]\n",
      "Posterior Variance: [0.9170525589637595, 0.6984529214624414]\n"
     ]
    }
   ],
   "source": [
    "g = FactorGraph(); # Instantiate Factor Graph\n",
    "\n",
    "# Parameters for priors\n",
    "μ_w = [0.,0.]\n",
    "σ_w = [1. 0. ; 0. 1.]\n",
    "σ_y = 1.\n",
    "\n",
    "\n",
    "# Specify probabilistic model\n",
    "@RV x \n",
    "@RV W ~ GaussianMeanVariance(μ_w,σ_w)\n",
    "@RV y ~ GaussianMeanVariance(dot(W,x), σ_y)\n",
    "\n",
    "# Denote placeholders\n",
    "placeholder(x,:x,dims=(2,)) \n",
    "placeholder(y,:y);\n",
    "\n",
    "# Generate inference algorithm\n",
    "algo = sumProductAlgorithm(W) \n",
    "eval(Meta.parse(algo)) \n",
    "\n",
    "# Set up data dictionary\n",
    "data = Dict(:x => x_data[10],\n",
    "            :y => y_data[10]);\n",
    "\n",
    "# Do inference\n",
    "marginals = step!(data)\n",
    "\n",
    "# Print results\n",
    "println(\"Posterior mean: \",mean(marginals[:W]))\n",
    "println(\"Posterior Variance: \",var(marginals[:W]))"
   ]
  },
  {
   "cell_type": "markdown",
   "metadata": {},
   "source": [
    "That wasn't particurlarly accurate because we only used a single data point. Let's create a new model that takes in the full data set instead and see if we get better results."
   ]
  },
  {
   "cell_type": "code",
   "execution_count": 13,
   "metadata": {},
   "outputs": [
    {
     "name": "stdout",
     "output_type": "stream",
     "text": [
      "Posterior mean: [0.9888200229864337, 0.5073723700205948]\n",
      "Posterior Variance: [0.01885528375571083, 0.015956486929887496]\n"
     ]
    }
   ],
   "source": [
    "g2 = FactorGraph() # Instantiate new Factor Graph\n",
    "\n",
    "# Parameters for priors\n",
    "μ_w = [0.,0.]\n",
    "σ_w = [1. 0. ; 0. 1.]\n",
    "σ_y = 1.\n",
    "\n",
    "# Create vectors to hold variables for all data points\n",
    "x = Vector{Variable}(undef,n) \n",
    "y = Vector{Variable}(undef,n)\n",
    "\n",
    "# Define a prior over the weights. These are shared for all data points\n",
    "@RV W ~ GaussianMeanVariance(μ_w,σ_w)\n",
    "\n",
    "# Loop over the dataset\n",
    "for i in 1:n\n",
    "    @RV x[i] # We can use indexing to fill a vector with random variables\n",
    "    @RV y[i] ~ GaussianMeanVariance(dot(W,x[i]), σ_y) \n",
    "    placeholder(x[i],:x,index=i,dims=(2,)) # To define placeholders in vectors, we use the index flag\n",
    "    placeholder(y[i],:y,index=i)\n",
    "end\n",
    "\n",
    "# Generate a new inference algorithm\n",
    "algo = sumProductAlgorithm(W)\n",
    "eval(Meta.parse(algo)) \n",
    "\n",
    "# Now we can fit the entire data set in our model!\n",
    "data = Dict(:x => x_data,\n",
    "            :y => y_data)\n",
    "\n",
    "# Perform inference and observe the results\n",
    "marginals = step!(data)\n",
    "println(\"Posterior mean: \",mean(marginals[:W]))\n",
    "println(\"Posterior Variance: \",var(marginals[:W]))"
   ]
  },
  {
   "cell_type": "markdown",
   "metadata": {},
   "source": [
    "Much better! The trick to note above is the use of vectors and indices to handle multiple data points. "
   ]
  },
  {
   "cell_type": "markdown",
   "metadata": {},
   "source": [
    "#### Assigment 1. \n",
    "Generate some new data and change the value of true_$\\mu$ to something other than 0. How does the model fit now? Likely not particularly well, since it is missing an intercept term. Your task is to remedy this by extending the regression model to handle intercepts.\n",
    "\n",
    "Do this by extending the input data with an additional column of 1's and adding an extra weight to W. Can you explain why this works?"
   ]
  },
  {
   "cell_type": "code",
   "execution_count": 9,
   "metadata": {},
   "outputs": [],
   "source": [
    "# Your code here"
   ]
  },
  {
   "cell_type": "markdown",
   "metadata": {},
   "source": [
    "## Assignment 2\n",
    "Have them build a polynomial regression? "
   ]
  },
  {
   "cell_type": "markdown",
   "metadata": {},
   "source": [
    "## (Optional / -> block 4?) Model comparison"
   ]
  },
  {
   "cell_type": "code",
   "execution_count": null,
   "metadata": {},
   "outputs": [],
   "source": []
  }
 ],
 "metadata": {
  "@webio": {
   "lastCommId": null,
   "lastKernelId": null
  },
  "anaconda-cloud": {},
  "celltoolbar": "Slideshow",
  "kernelspec": {
   "display_name": "Julia 1.2.0",
   "language": "julia",
   "name": "julia-1.2"
  },
  "language_info": {
   "file_extension": ".jl",
   "mimetype": "application/julia",
   "name": "julia",
   "version": "1.2.0"
  }
 },
 "nbformat": 4,
 "nbformat_minor": 4
}
