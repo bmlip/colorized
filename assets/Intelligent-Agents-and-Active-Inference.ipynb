{
 "cells": [
  {
   "cell_type": "markdown",
   "metadata": {
    "slideshow": {
     "slide_type": "slide"
    }
   },
   "source": [
    "# Intelligent Agents and Active Inference"
   ]
  },
  {
   "cell_type": "markdown",
   "metadata": {
    "slideshow": {
     "slide_type": "slide"
    }
   },
   "source": [
    "### Preliminaries\n",
    "\n",
    "- Goal \n",
    "  - Introduction to Active Inference and application to the design of synthetic intelligent agents \n",
    "- Materials        \n",
    "  - Mandatory\n",
    "    - These lecture notes\n",
    "    - Karl Friston - 2016 - [The Free Energy Principle](https://www.youtube.com/watch?v=NIu_dJGyIQI) (video)\n",
    "  - Optional\n",
    "    - Raviv (2018), [The Genius Neuroscientist Who Might Hold the Key to True AI](./files/WIRED-Friston.pdf).\n",
    "        - Interesting article on Karl Friston, who is a leading theoretical neuroscientist working on a theory that relates life and intelligent behavior to physics (and Free Energy minimization). (**highly recommended**) \n",
    "    - Friston et al. (2022), [Designing Ecosystems of Intelligence from First Principles](https://arxiv.org/abs/2212.01354)\n",
    "        - Friston's vision on the future of AI. \n",
    "    - Van de Laar and De Vries (2019), [Simulating Active Inference Processes by Message Passing](https://www.frontiersin.org/articles/10.3389/frobt.2019.00020/full)\n",
    "        - How to implement active inference by message passing in a Forney-style factor graph.\n",
    "\n",
    "<!---\n",
    "  - References\n",
    "    - Friston (2013), [Life as we know it](https://royalsocietypublishing.org/doi/full/10.1098/rsif.2013.0475) \n",
    "    - Conant and Ashby (1970), [Every good regulator of a system must be a model of that system](https://www.tandfonline.com/doi/abs/10.1080/00207727008920220)\n",
    "--->    "
   ]
  },
  {
   "cell_type": "markdown",
   "metadata": {
    "slideshow": {
     "slide_type": "slide"
    }
   },
   "source": [
    "### Agents\n",
    "\n",
    "- In the previous lessons we assumed that a data set was given. \n",
    "- In this lesson we consider _agents_. An agent is a system that _interacts_ with its environment through both sensors and actuators.\n",
    "- Crucially, by acting onto the environment, the agent is able to affect the data that it will sense in the future.\n",
    "  - As an example, by changing the direction where I look, I can affect the (visual) data that will be sensed by my retina.\n",
    "- With this definition of an agent, (biological) organisms are agents, and so are robots, self-driving cars, etc.\n",
    "- In an engineering context, we are particularly interesting in agents that behave with a *purpose* (with a goal in mind), e.g., to drive a car or to design a speech recognition algorithm.\n",
    "- In this lesson, we will describe how __goal-directed behavior__ by biological (and synthetic) agents can also be interpreted as minimization of a free energy functional. "
   ]
  },
  {
   "cell_type": "markdown",
   "metadata": {
    "slideshow": {
     "slide_type": "slide"
    }
   },
   "source": [
    "### Illustrative Example: the Mountain Car Problem\n",
    "\n",
    "- In this example, we consider [the mountain car problem](https://en.wikipedia.org/wiki/Mountain_car_problem) which is a classical benchmark problem in the reinforcement learning literature.\n",
    "- The car aims to drive up a steep hill and park at a designated location. However, its engine is too weak to climb the hill directly. Therefore, a successful agent should first climb a neighboring hill, and subsequently use its momentum to overcome the steep incline towards the goal position. \n",
    "- We will assume that the agent's knowledge about the car's process dynamics (i.e., its equations of motion) are known up to some additive Gaussian noise.\n",
    "- Your challenge is to design an agent that guides the car to the goal position. (The agent should be specified as a probabilistic model and the control signal should be formulated as a Bayesian inference task).  \n"
   ]
  },
  {
   "cell_type": "markdown",
   "metadata": {
    "slideshow": {
     "slide_type": "fragment"
    }
   },
   "source": [
    "<p style=\"text-align:center;\"><img src=\"./ai_agent/agent-cart-interaction2.png\" width=\"600px\"></p>\n",
    "\n",
    "- Solution at the end of this lesson."
   ]
  },
  {
   "cell_type": "markdown",
   "metadata": {
    "slideshow": {
     "slide_type": "slide"
    }
   },
   "source": [
    "### Karl Friston and the Free Energy Principle\n",
    "\n",
    "- We begin with a motivating example that requires \"intelligent\" goal-directed decision making: assume that you are an owl and that you're hungry. What are you going to do?\n",
    "\n",
    "- Have a look at [Prof. Karl Friston](https://www.wired.com/story/karl-friston-free-energy-principle-artificial-intelligence/)'s answer in this  [video segment on the cost function for intelligent behavior](https://youtu.be/L0pVHbEg4Yw). (**Do watch the video!**)\n",
    "\n",
    "- Friston argues that intelligent decision making (behavior, action making) by an agent requires *minimization of a functional of beliefs*. \n",
    "\n",
    "- Friston further argues (later in the lecture and his papers) that this functional is a (variational) free energy (to be defined below), thus linking decision-making and acting to Bayesian inference. \n",
    "\n",
    "- In fact, Friston's **Free Energy Principle** (FEP) claims that all [biological self-organizing processes (including brain processes) can be described as Free Energy minimization in a probabilistic model](https://arxiv.org/abs/2201.06387).\n",
    "  - This includes perception, learning, attention mechanisms, recall, acting and decision making, etc.\n",
    "  \n",
    "- Taking inspiration from FEP, if we want to develop synthetic \"intelligent\" agents, we have (only) two issues to consider:\n",
    "  1. Specification of the FE functional.\n",
    "  2. *How* to minimize the FE functional (often in real-time under situated conditions).  \n",
    "\n",
    "- Agents that follow the FEP are said to be involved in **Active Inference** (AIF). An AIF agent updates its states and parameters (and ultimately its model structure) solely by FE minimization, and selects its actions through (expected) FE minimization (to be explained below).    \n"
   ]
  },
  {
   "cell_type": "markdown",
   "metadata": {},
   "source": [
    "### Execution of an AIF Agent\n",
    "\n",
    "- Consider an AIF agent with observations (sensory states) $x_t$, latent internal states $s_t$ and latent control states $u_t$ for $t=1,2,\\ldots$. \n",
    "\n",
    "<p style=\"text-align:center;\"><img src=\"./figures/AIF-agent.png\" width=\"600px\"></p>\n",
    "\n",
    "- The agent is embedded in an environment with \"external states\" $\\tilde{s}_t$. The dynamics of the environment are driven by actions. \n",
    "\n",
    "- Actions $a_t$ are selected by the agent. Actions affect the environment and consequently affect future observations. \n",
    "\n",
    "- In pseudo-code, an AIF agent executes the <a id=\"AIF-algorithm\"></a>following algorithm:\n",
    "\n",
    "> **ACTIVE INFERENCE (AIF) AGENT ALGORITHM**    \n",
    ">\n",
    "> SPECIFY generative model $p(x,s,u)$    \n",
    "> ASSUME/SPECIFY environmental process $R$\n",
    ">\n",
    "> FORALL t DO    \n",
    ">     \n",
    "> 1.  $(x_t, \\tilde{s}_t) = R(a_t, \\tilde{s}_{t-1})$   % environment generates new observation     \n",
    "> 2.  $q(s_t) = \\arg\\min_q F[q]$         % update agent's internal states (\"perception\")    \n",
    "> 3.  $q(u_{t+1}) = \\arg\\min_q H[q]$     % update agent's control states (\"actions\")    \n",
    "> 4.  $\\hat{u}_{t+1} \\sim q(u_{t+1})$; $a_{t+1} = \\hat{u}_{t+1}$ % sample next action and push to environment     \n",
    ">       \n",
    "> END    \n",
    "\n",
    "\n",
    "- In the above algorithm, $F[q]$ and $H[q]$ are appropriately defined Free Energy functionals, to be discussed below. Next, we discuss these steps in more details."
   ]
  },
  {
   "cell_type": "markdown",
   "metadata": {},
   "source": [
    "### The Generative Model in an AIF agent\n",
    "\n",
    "- What should the agent's model $p(x,s,u)$ be modeling? This question was (already) answered by [Conant and Ashby (1970)](https://www.tandfonline.com/doi/abs/10.1080/00207727008920220) as the [*good regulator theorem*](https://en.wikipedia.org/wiki/Good_regulator ): **every good regulator of a system must be a model of that system**. See the [OPTIONAL SLIDE for more information](#good-regulator-theorem). \n",
    "\n",
    "- Conant and Ashley state: \"The theorem has the interesting corollary that the living brain, so far as it is to be successful and efficient as a regulator for survival, __must__ proceed, in learning, by the formation of a model (or models) of its environment.\"\n",
    "\n",
    "- Indeed, perception in brains is clearly affected by predictions about sensory inputs by the brain's own generative model.\n",
    "\n",
    "<p style=\"text-align:center;\"><img src=\"./figures/the-gardener.png\" width=\"600px\"></p>\n",
    "\n",
    "- In the above picture (The Gardener, by Giuseppe Arcimboldo, ca 1590\n",
    "), on the left you will likely see a bowl of vegetables, while the same picture upside down elicits with most people the perception of a gardener's face rather than an upside-down vegetable bowl. \n",
    "\n",
    "- The reason is that the brain's model predicts to see straight-up faces with much higher probability than upside-down vegetable bowls. \n",
    "\n",
    "- So the <a id=\"model-specification\"></a> agent's model $p$ will be a model that aims to explain how environmental causes (latent states) lead to sensory observations."
   ]
  },
  {
   "cell_type": "markdown",
   "metadata": {},
   "source": [
    "### Specification of AIF Agent's model and Environmental Dynamics\n",
    "\n",
    "- In this notebook, for illustrative purposes, we specify the **generative model** at time step $t$ of an AIF agent as \n",
    "$$\n",
    "p(x_t,s_t,u_t|s_{t-1}) = \\underbrace{p(x_t|s_t)}_{\\text{observations}} \\cdot \\underbrace{p(s_t|s_{t-1},u_t)}_{\\substack{\\text{state} \\\\ \\text{transition}}} \\cdot \\underbrace{p(u_t)}_{\\substack{\\text{action} \\\\ \\text{prior}}}\n",
    "$$\n",
    "\n",
    "- We will assume that the agent interacts with an environment, which we represent by a dynamic model $R$ as\n",
    "$$\n",
    "(x_t,\\tilde{s}_t) = R\\left( a_t,\\tilde{s}_{t-1}\\right)$$\n",
    "where $a_t$ are _actions_ (by the agent), $x_t$ are _outcomes_ (the agent's observations) and $\\tilde{s}_t$ holds the environmental latent _states_. \n",
    "\n",
    "- Note that $R$ only needs to be specified for simulated environments. If we were to deploy the agent in a real-world environment, we would not need to specify $R$. \n",
    "\n",
    "- The agent's knowledge about environmental process $R$ is expressed by its generative model $p(x_t,s_t,u_t|s_{t-1})$. \n",
    "\n",
    "- Note that we distinguish between _control states_ and _actions_. Control states $u_t$ are latent variables in the agent's generative model. An action $a_t$ is a realization of a control state as observed by the environment. \n",
    "\n",
    "- Observations $x_t=\\hat{x}_t$ are generated by the environment and observed by the agent. Vice versa, actions $a_t = \\hat{u}_t$ are generated by the agent and observed by the environment. "
   ]
  },
  {
   "cell_type": "markdown",
   "metadata": {},
   "source": [
    "### State Updating in the AIF Agent\n",
    "\n",
    "- After the agent makes a new observation $x_t=\\hat{x}_t$, it will update beliefs over its latent variables. First the internal state variables $s$. \n",
    "\n",
    "- Assume the following at time step $t$:\n",
    "  - the state of the agent's model has already been updated to $q(s_{t-1}|\\hat{x}_{1:t-1})$. \n",
    "  - the agent has selected a new action $a_t=\\hat{u}_t$.\n",
    "  - the agent has recorded a new observation $x_t=\\hat{x}_t$. \n",
    "\n",
    "- The **state updating** task is to infer $q(s_{t}|\\hat{x}_{1:t})$, based on the previous estimate $q(s_{t-1}|\\hat{x}_{1:t-1})$, the new data $\\{a_t=\\hat{u}_t,x_t=\\hat{x}_{t}\\}$, and the agent's generative model. \n",
    "\n",
    "- Technically, this is a Bayesian filtering task. In a real brain, this process is called **perception**.   \n",
    "\n",
    "- We specify the following FE functional\n",
    "$$\n",
    "F[q] = \\sum_{s_t} q(s_t|\\hat{x}_{1:t}) \\log \\frac{\\overbrace{q(s_t|\\hat{x}_{1:t})}^{\\text{state posterior}}}{\\underbrace{p(\\hat{x}_t|s_t) p(s_t|s_{t-1},\\hat{u}_t)}_{\\text{generative model w new data}} \\underbrace{q(s_{t-1}|\\hat{x}_{1:t-1})}_{\\text{state prior}}}\n",
    "$$\n",
    "\n",
    "- The state updating task can be formulated as minimization of the above FE (see also [AIF Algorithm](#AIF-algorithm), step 2):\n",
    "$$\n",
    "q(s_t|\\hat{x}_{1:t}) = \\arg\\min_q F[q]\n",
    "$$\n",
    "\n",
    "- In case the generative model is a _Linear Gaussian Dynamical System_, minimization of the FE can be solved analytically in closed-form and [leads to the standard Kalman filter](https://nbviewer.jupyter.org/github/bertdv/BMLIP/blob/master/lessons/notebooks/Dynamic-Models.ipynb#kalman-filter). \n",
    "\n",
    "- In case these (linear Gaussian) conditions are not met, we can still minimize the FE by other means and arrive at some approximation of the Kalman filter, see for example [Baltieri and  Isomura (2021)](https://arxiv.org/abs/2111.10530) for a Laplace approximation to variational Kalman filtering.  \n",
    "\n",
    "- Our toolbox [RxInfer](http://rxinfer.ml) specializes in automated execution of  this minimization task. \n"
   ]
  },
  {
   "cell_type": "markdown",
   "metadata": {},
   "source": [
    "### Policy Updating in an AIF Agent\n",
    "\n",
    "- Once the agent has updated its internal states, it will turn to inferring the next action. \n",
    "\n",
    "- In order to select a __good__ next action, we need to investigate and compare consequences of a _sequence_ of future actions. \n",
    "\n",
    "- A sequence of future actions $a= (a_{t+1}, a_{t+2}, \\ldots, a_{t+T})$ is called a **policy**. Since relevant consequences are usually the result of an future action sequence rather than a single action, we will be interested in updating beliefs over policies. \n",
    "\n",
    "- In order to assess the consequences of a selected policy, we will, as a function of that policy, run the generative model forward-in-time to make predictions about future observations $x_{t+1:t+T}$. \n",
    "\n",
    "- Note that perception (state updating) preceeds policy updating. In order to accurately predict the future, the agent first needs to understand the current state of the world.  \n",
    "\n",
    "- Consider an AIF agent at time step $t$ with (future) observations $x = (x_{t+1}, x_{t+2}, \\ldots, x_{t+T})$,  latent future internal states $s= (s_t, s_{t+1}, \\ldots, s_{t+T})$, and latent future control variables $u= (u_{t+1}, u_{t+2}, \\ldots, u_{t+T})$. \n",
    "\n",
    "- From the agent's viewpoint, the evolution of these future variables are constrained by its generative model, rolled out into the future:\n",
    "$$\\begin{align*}\n",
    "p(x,s,u) &= \\underbrace{q(s_{t})}_{\\substack{\\text{current}\\\\ \\text{state}}} \\cdot \\underbrace{\\prod_{k=t+1}^{t+T} p(x_k|s_k) \\cdot p(s_k | s_{k-1}, u_k) p(u_k)}_{\\text{GM roll-out to future}}\n",
    "\\end{align*}$$\n",
    "\n",
    "- Consider the Free Energy functional for estimating posterior beliefs $q(s,u)$ over latent future states and latent control signals: \n",
    "$$\\begin{align*}\n",
    "H[q] &= \\overbrace{\\sum_{x,s} q(x|s)}^{\\text{marginalize }x} \\bigg( \\overbrace{\\sum_u q(s,u) \\log \\frac{q(s,u)}{p(x,s,u)} }^{\\text{\"regular\" variational Free Energy}}\\bigg) \\\\\n",
    "&= \\sum_{x,s,u} q(x,s,u) \\log \\frac{q(s,u)}{p(x,s,u)}\n",
    "\\end{align*}$$\n",
    "\n",
    "- In principle, this is a regular FE functional, with one difference to previous versions: since future observations $x$ have not yet occurred, $H[q]$ marginalizes not only over latent states $s$ and policies $u$, but also over future observations $x$.\n",
    "\n",
    "- We will update the beliefs over policies by minimization of Free Energy functional $H[q]$. In the [optional slides below, we prove that the solution to this optimization task](#q-star) is given by (see [AIF Algorithm](#AIF-algorithm), step 3, above)\n",
    "$$\\begin{aligned}\n",
    "q^*(u) &= \\arg\\min_q H[q] \\\\\n",
    "&\\propto p(u)\\exp(-G(u))\\,,\n",
    "\\end{aligned}$$\n",
    "<a id='q-star-main-cell'></a> where the factor $p(u)$ is a prior over admissible policies, and the factor $\\exp(-G(u))$ updates the prior with information about future consequences of a selected policy $u$. \n",
    "\n",
    "- The function \n",
    "$$G(u) = \\sum_{x,s}  q(x,s|u) \\log \\frac{q(s|u)}{p(x,s|u)}$$ \n",
    "is called the **Expected Free Energy** (EFE) for policy $u$. \n",
    "\n",
    "- The FEP takes the following stance: if FE minimization is all that an agent does, then the only consistent and appropriate behavior for an agent is to select actions that minimize the **expected** Free Energy in the future (where expectation is taken over current beliefs about future observations). \n",
    "\n",
    "- Note that, since $q^*(u) \\propto p(u)\\exp(-G(u))$, the probability $q^*(u)$ for selecting a policy $u$ increases when EFE $G(u)$ gets smaller. \n",
    "\n",
    "- Once the policy (control) variables have been updated, in simulated environments, it is common to assume that the next action $a_{t+1}$ (an action is the _observed_ control variable by the environment) gets selected in proportion to the probability of the related control variable (see [AIF Agent Algorithm](#AIF-algorithm), step 4, above), i.e.,\n",
    "$$\\begin{aligned}\n",
    "\\hat{u}_{t+1} &\\sim q(u_{t+1}) \\qquad &&\\text{(select control realization by sampling)} \\\\\n",
    "a_{t+1} &= \\hat{u}_{t+1} \\qquad &&\\text{(transfer to environment)}\n",
    "\\end{aligned}$$\n",
    "\n",
    "- Next, we analyze some properties of the EFE."
   ]
  },
  {
   "cell_type": "markdown",
   "metadata": {},
   "source": [
    "### Active Inference Analysis: exploitation-exploration dilemma \n",
    "\n",
    "- Consider the following decomposition of EFE:\n",
    "$$\\begin{aligned}\n",
    "G(u) &= \\sum_{x,s}  q(x,s|u) \\log \\frac{q(s|u)}{p(x,s|u)} \\\\\n",
    "&= \\sum_{x,s} q(x,s|u) \\log \\frac{1}{p(x)} + \\sum_{x,s} q(x,s|u) \\log \\frac{q(s|u)}{p(s|x,u)}\\frac{q(s|x)}{q(s|x)} \\\\\n",
    "&= \\sum_x q(x|u) \\log \\frac{1}{p(x)} + \\sum_{x,s} q(x,s|u) \\log \\frac{q(s|u)}{q(s|x)} + \\underbrace{\\sum_{x,s} q(x,s|u) \\log \\frac{q(s|x)}{p(s|x,u)}}_{E\\left[ D_{\\text{KL}}[q(s|x),p(s|x,u)] \\right]\\geq 0} \\\\\n",
    "&\\geq \\underbrace{\\sum_x q(x|u) \\log \\frac{1}{p(x)}}_{\\substack{\\text{goal-seeking behavior} \\\\ \\text{(exploitation)}}} - \\underbrace{\\sum_{x,s} q(x,s|u) \\log \\frac{q(s|x)}{q(s|u)}}_{\\substack{\\text{information-seeking behavior}\\\\ \\text{(exploration)}}} \n",
    "\\end{aligned}$$ \n",
    "\n",
    "- Apparently, minimization of EFE leads to selection of policies that balances the following two imperatives: \n",
    "\n",
    "  1. minimization of the first term of $G(u)$, i.e. minimizing $\\sum_x q(x|u) \\log \\frac{1}{p(x)}$, leads to policies ($u$) that align the inferred observations $q(x|u)$ under policy $u$ (i.e., predicted future observations under policy $u$) with a prior $p(x)$ on future observations. We are in control to choose any prior $p(x)$ and usually we choose a prior that aligns with desired (goal) observations. Hence, policies with low EFE leads to **<a id=\"goal-seeking\">goal-seeking behavior</a>** (a.k.a. pragmatic behavior or exploitation). [In the OPTIONAL SLIDES](#ambiguity-plus-risk), we derive an alternative (perhaps clearer) expression to support this interpretation]. \n",
    "  \n",
    "  1. minimization of $G(u)$ maximizes the second term \n",
    "  $$\\begin{aligned}\n",
    "  \\sum_{x,s} q(x,s|u) \\log \\frac{q(s|x)}{q(s|u)} &= \\sum_{x,s} q(x,s|u) \\log \\frac{q(s|x)}{q(s|u)}\\frac{q(x|u)}{q(x|u)} \\\\\n",
    "  &= \\underbrace{\\sum_{x,s} q(x,s|u) \\log \\frac{q(x,s|u)}{q(x|u)q(s|u)}}_{\\text{(conditional) mutual information }I[x,s|u]}\n",
    "  \\end{aligned}$$ \n",
    "  which is the (conditional) [__mutual information__](https://en.wikipedia.org/wiki/Mutual_information) between (posteriors on) future observations and states, for a given policy $u$. Thus, maximizing this term leads to actions that maximize statistical dependency between future observations and states. In other words, a policy with low EFE also leads to **information-seeking behavior** (a.k.a. epistemic behavior or exploration). \n",
    "\n",
    "- (The third term $\\sum_{x,s} q(x,s|u) \\log \\frac{q(s|x)}{p(s|x)}$ is an (expected) KL divergence between posterior and prior on the states. This can be interpreted as a complexity/regularization term and $G(u)$ minimization will drive this term to zero.)   \n",
    "\n",
    "- Seeking actions that balance goal-seeking behavior (exploitation) and information-seeking behavior (exploration) is a [fundamental problem in the Reinforcement Learning literature](https://en.wikipedia.org/wiki/Exploration-exploitation_dilemma). \n",
    "\n",
    "- **Active Inference solves the exploration-exploitation dilemma**. Both objectives are served by EFE minimization without any need for tuning parameters. "
   ]
  },
  {
   "cell_type": "markdown",
   "metadata": {},
   "source": [
    "### AIF Agents learn both the Problem and Solution\n",
    "\n",
    "- We highlight another great feature of FE minimizing agents. Consider an AIF agent ($m$) with generative model $p(x,s,u|m)$.\n",
    "\n",
    "- Consider the Divergence-Evidence decomposition of the FE again:\n",
    "\n",
    "$$\\begin{aligned}\n",
    "F[q] &= \\sum_{s,u} q(s,u) \\log \\frac{q(s,u)}{p(x,s,u|m)} \\\\\n",
    "&= \\underbrace{-\\log p(x|m)}_{\\substack{\\text{problem} \\\\ \\text{representation costs}}} + \\underbrace{\\sum_{s,u} q(s,u) \\log \\frac{q(s,u)}{p(s,u|x,m)}}_{\\text{solution costs}}\n",
    "\\end{aligned}$$\n",
    "\n",
    "- The first term, $-\\log p(x|m)$, is the (negative log-) evidence for model $m$, given recorded data $x$. \n",
    "\n",
    "- Minimization of FE maximizes the evidence for the given model. The model captures the  **problem representation**. A model with high evidence predicts the data well and therefore \"understands the world\".  \n",
    "\n",
    "- The second term scores the cost of inference. In almost all cases, the solution to a problem can be phrased as an inference task on the generative model. Hence, the second term **scores the accuracy of the inferred solution**, for the given model. \n",
    "\n",
    "- FE minimization optimizes a balanced trade-off between a good-enough problem representation and a good-enough solution proposal for that model. Since FE comprises both a cost for solution _and_ problem representation, it is a neutral criterion that applies across a very wide set of problems. \n",
    "\n",
    "- A good solution to the wrong problem is not good enough. A poor solution to a great problem statement is not sufficient either.  In order to solve a problem well, we need both to represent the problem correctly (high model evidence) and we need to solve it well (low inference costs). \n",
    "\n",
    "<!---\n",
    "- Question: does this argument suggest that FE is even more fundamental as a model performance criterion than the model evidence by itself?\n",
    "--->"
   ]
  },
  {
   "cell_type": "markdown",
   "metadata": {},
   "source": [
    "### The Brain's Action-Perception Loop by FE Minimization\n",
    "\n",
    "- The above derivations are not trivial, but we have just shown that FE-minimizing agents accomplish variational Bayesian perception (a la Kalman filtering), and a balanced exploration-exploitation trade-off for policy selection. \n",
    "\n",
    "- Moreover, the FE by itself serves as a proper objective across a very wide range of problems, since it scores both the cost of the problem statement and the cost of inferring the solution. \n",
    "\n",
    "- The current FEP theory claims that minimization of FE (and EFE) is all that brains do, i.e., FE minimization leads to perception, policy selection, learning, structure adaptation, attention, learning of problems and solutions, etc.\n",
    "\n",
    "<p style=\"text-align:center;\"><img style=\"border:2px solid #000000; width:auto\" src=\"./figures/brain-design-cycle.png\"></p>"
   ]
  },
  {
   "cell_type": "markdown",
   "metadata": {},
   "source": [
    "### The Engineering Challenge: Synthetic AIF Agents \n",
    "\n",
    "- We have here a framework (the FEP) for emergent intelligent behavior in self-organizing biological systems that\n",
    "  - leads to optimal (Bayesian) information processing, including balancing accuracy vs complexity.\n",
    "  - leads to balanced and continual learning of both problem representation and solution proposal\n",
    "  - actively selects data in-the-field under situated conditions (no dependency on large data base)\n",
    "  - pursues a optimal trade-off between exploration (information-seeking) and exploitation (goal-seeking) behavior\n",
    "  - needs no external tuning parameters (such as step sizes, thresholds, etc.)\n",
    "\n",
    "- Clearly, the FEP, and synthetic AIF agents as a realization of FEP, comprise a very attractive framework for all things relating to AI and AI agents. \n",
    "\n",
    "- A current big AI challenge is to design synthetic AIF agents based solely on FE/EFE minimization.\n",
    "\n",
    "<p style=\"text-align:center;\"><img style=\"border:2px solid #000000; width:auto\" src=\"./figures/Synthetic-FEP-agent.png\"></p> \n",
    "\n",
    "- Executing a synthetic AIF agent often poses a large computational problem because of the following reasons: \n",
    "   1. For interesting problems (e.g. speech recognition, scene analysis), generative models may contain thousands of latent variables. \n",
    "   2. The FE function is a time-varying function, since it is also a function of observable variables. \n",
    "   3. An AIF agent must execute inference in real-time if it is engaged and embedded in a real world environment.\n",
    "   \n",
    "- So, in practice, executing a synthetic AIF agent may lead to a **task of minimizing a time-varying FE function of thousands of variables in real-time**!!\n"
   ]
  },
  {
   "cell_type": "markdown",
   "metadata": {
    "slideshow": {
     "slide_type": "slide"
    }
   },
   "source": [
    "### Factor Graph Approach to Modeling of an Active Inference Agent\n",
    "\n",
    "- How to specify and execute a synthetic AIF agent is an active area of research. \n",
    "\n",
    "- There is no definitive solution approach to AIF agent modeling yet; we ([BIASlab](http://biaslab.org)) think that (reactive) message passing in a factor graph representation provides a promising path. \n",
    "\n",
    "- After selecting an action $a_t$ and making an observation $x_t$, the FFG for the rolled-out generative model is given by the following FFG:\n",
    "\n",
    "<p style=\"text-align:center;\"><img src=\"./figures/fig-active-inference-model-specification.png\" width=\"600px\"></p>\n",
    "\n",
    "- The open red nodes for $p(x_{t+k})$ specify __desired future observations__, whereas the open black boxes for $p(s_k|s_{k-1},u_k)$ and $p(x_k|s_k)$ reflect the agent's beliefs about how the world actually evolves (ie, the __veridical model__). \n",
    "\n",
    "- The (brown) dashed box is the agent's Markov blanket. Given the states on the Markov blanket, the internal states of the agent are independent of the state of the world.   \n"
   ]
  },
  {
   "cell_type": "markdown",
   "metadata": {
    "slideshow": {
     "slide_type": "slide"
    }
   },
   "source": [
    "### How to minimize FE: Online Active Inference\n",
    "\n",
    "- [Online active inference proceeds by iteratively executing three stages](https://www.frontiersin.org/articles/10.3389/frobt.2019.00020/full): \n",
    "  1. act-execute-observe     \n",
    "  2. update the latent variables and select an action    \n",
    "  3. slide forward\n",
    "\n",
    "<p style=\"text-align:center;\"><img src=\"./figures/fig-online-active-inference.png\" width=\"700px\"></p>"
   ]
  },
  {
   "cell_type": "markdown",
   "metadata": {
    "slideshow": {
     "slide_type": "slide"
    }
   },
   "source": [
    "### The Mountain car Problem Revisited\n",
    "\n",
    "Here we solve the mountain car problem as stated at the beginning of this lesson. Before implementing the active inference agent, let's first perform a naive approach that executes the engine's maximum power to reach the goal. As can be seen in the results, this approach fails since the car's engine is not strong enough to reach the goal directly. \n",
    "\n",
    "For implementing the active inference agent, we first specify a probabilistic generative model for the agent's environment and then constrain future observations by a prior distribution that is located on the target position. We then execute the (1) Act-execute-observe --> (2) infer --> (3) slide procedures as discussed above to infer future actions. \n",
    "\n",
    "We interpret the environmental state $z_t = [\\theta , \\theta \\dot ]$ as the respective position and velocity of the car.\n",
    "\n",
    "\n"
   ]
  },
  {
   "cell_type": "code",
   "execution_count": 1,
   "metadata": {},
   "outputs": [
    {
     "name": "stderr",
     "output_type": "stream",
     "text": [
      "\u001b[32m\u001b[1m  Activating\u001b[22m\u001b[39m project at `~/git/bertdv/BMLIP/lessons`\n"
     ]
    }
   ],
   "source": [
    "using Pkg; Pkg.activate(\"../.\"); Pkg.instantiate();\n",
    "#using IJulia; try IJulia.clear_output(); catch _ end"
   ]
  },
  {
   "cell_type": "code",
   "execution_count": 2,
   "metadata": {
    "slideshow": {
     "slide_type": "slide"
    }
   },
   "outputs": [
    {
     "data": {
      "text/plain": [
       "initializeAgent (generic function with 1 method)"
      ]
     },
     "execution_count": 2,
     "metadata": {},
     "output_type": "execute_result"
    }
   ],
   "source": [
    "using LinearAlgebra, Plots, RxInfer\n",
    "import .ReactiveMP: getrecent, messageout\n",
    "include(\"./scripts/mountaincar_helper.jl\")\n",
    "\n",
    "function initializeWorld()\n",
    "    z_0 = [-0.5, 0.0] # Initial position\n",
    "    z_t_min = z_0  \n",
    "    function execute(a_t::Float64)\n",
    "        z_t = dzdt(z_t, a_t) # state transition\n",
    "        z_t_min = z_t \n",
    "        return z_t\n",
    "    end\n",
    "    z_t = [-0.5, 0.0] # Predefine outcome variable\n",
    "    observe() = z_t   # Report current position\n",
    "    return (execute, observe)\n",
    "end\n",
    "\n",
    "# The probablistic generative model\n",
    "@model function car(T)\n",
    "    # model parameters\n",
    "    Gamma = 1e10*diageye(2) # Transition precision\n",
    "    Theta = 1e-4*diageye(2) # Observation variance\n",
    "    \n",
    "    m_s_t_min = datavar(Vector{Float64})\n",
    "    V_s_t_min = datavar(Matrix{Float64})\n",
    "\n",
    "    s_t_min ~ MvNormal(mean = m_s_t_min, cov = V_s_t_min)\n",
    "    s_k_min = s_t_min\n",
    "    \n",
    "    m_u = datavar(Vector{Float64}, T)\n",
    "    V_u = datavar(Matrix{Float64}, T)\n",
    "    \n",
    "    m_x = datavar(Vector{Float64}, T)\n",
    "    V_x = datavar(Matrix{Float64}, T)\n",
    "    \n",
    "    u = randomvar(T)\n",
    "    s = randomvar(T)\n",
    "    x = randomvar(T)\n",
    "    \n",
    "    s_u = randomvar(T)\n",
    "    \n",
    "    # roll generative model forward in time\n",
    "    for k in 1:T\n",
    "        u[k] ~ MvNormal(mean = m_u[k], cov = V_u[k]) # Control model\n",
    "        s_u[k] ~ dzdt(s_k_min, u[k]) # Transition with new control\n",
    "        s[k] ~ MvNormal(mean = s_u[k], precision = Gamma)  # State transition model\n",
    "        x[k] ~ MvNormal(mean = s[k], covariance = Theta) # Observation model\n",
    "        s_k_min = s[k]\n",
    "    end\n",
    "\n",
    "    # set constraint on future observations\n",
    "    for k in 1:T\n",
    "        x[k] ~ MvNormal(mean = m_x[k], covariance = V_x[k]) # Goal prior\n",
    "    end\n",
    "    \n",
    "    return (s, )\n",
    "end\n",
    "\n",
    "@meta function car_meta()\n",
    "    dzdt() -> DeltaMeta(method = Linearization())\n",
    "end\n",
    "\n",
    "function initializeAgent(T)\n",
    "    Epsilon = fill(huge, 1, 1) # Control prior variance\n",
    "    m_u = Vector{Float64}[ [ 0.0] for k=1:T ] # Set control priors\n",
    "    V_u = Matrix{Float64}[ Epsilon for k=1:T ]\n",
    "\n",
    "    x_target = [0.5, 0.0] # Goal state\n",
    "    Sigma = 1e-12*diageye(2) # Goal prior variance\n",
    "    m_x = [zeros(2) for k=1:T]\n",
    "    V_x = [huge*diageye(2) for k=1:T]\n",
    "    V_x[end] = Sigma # Set prior to reach goal at t=T\n",
    "\n",
    "    m_s_t_min = [-0.5, 0.0] # Set initial state prior\n",
    "    V_s_t_min = tiny*diageye(2)\n",
    "    \n",
    "    result = nothing\n",
    "\n",
    "    # Initialize messages and marginals dictionary\n",
    "    \n",
    "    function infer(upsilon_t::Float64, y_hat_t::Vector{Float64})\n",
    "        m_u[1] = [ upsilon_t ] # Register action with the generative model\n",
    "        V_u[1] = fill(tiny, 1, 1) # Clamp control prior to performed action\n",
    "\n",
    "        m_x[1] = y_hat_t # Register observation with the generative model\n",
    "        V_x[1] = tiny*diageye(2) # Clamp goal prior to observation\n",
    "\n",
    "        data = Dict(:m_u       => m_u, \n",
    "                    :V_u       => V_u, \n",
    "                    :m_x       => m_x, \n",
    "                    :V_x       => V_x,\n",
    "                    :m_s_t_min => m_s_t_min,\n",
    "                    :V_s_t_min => V_s_t_min)\n",
    "\n",
    "        result = inference(\n",
    "            model = car(T),\n",
    "            meta = car_meta(),\n",
    "            data = data,\n",
    "        )\n",
    "    end\n",
    "    \n",
    "    function act() \n",
    "        if result !== nothing\n",
    "            return mode(result.posteriors[:u][2])[1]\n",
    "        else\n",
    "            return 0.0\n",
    "        end\n",
    "    end\n",
    "\n",
    "    function slide(slide_msg_idx = 3)\n",
    "        (s, ) = result.returnval\n",
    "        (m_s_t_min, V_s_t_min) = mean_cov(getrecent(messageout(s[2], slide_msg_idx))) # Reset prior state statistics;\n",
    "\n",
    "        m_u = circshift(m_u, -1)\n",
    "        m_u[end] = [0.0]\n",
    "        V_u = circshift(V_u, -1)\n",
    "        V_u[end] = Epsilon\n",
    "\n",
    "        m_x = circshift(m_x, -1)\n",
    "        m_x[end] = x_target\n",
    "        V_x = circshift(V_x, -1)\n",
    "        V_x[end] = Sigma\n",
    "    end \n",
    "        return (infer, act, slide) \n",
    "end"
   ]
  },
  {
   "cell_type": "code",
   "execution_count": 3,
   "metadata": {},
   "outputs": [
    {
     "data": {
      "text/html": [
       "<img src=\"data:image/gif;base64,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\" />"
      ],
      "text/plain": [
       "Plots.AnimatedGif(\"/Users/pol/git/bertdv/BMLIP/lessons/notebooks/ai_agent/ MountainCar_naive_policy.gif\")"
      ]
     },
     "execution_count": 3,
     "metadata": {},
     "output_type": "execute_result"
    }
   ],
   "source": [
    "# Simulation for the naive policy of going full power up the right slope \n",
    "N = 40 # Total simulation time\n",
    "\n",
    "(execute, observe)  = initializeWorld() # Let there be a world\n",
    "y = Vector{Vector{Float64}}(undef, N) # Observations\n",
    "\n",
    "for n in 1:N\n",
    "    execute(100.0) # Act with the maximum power \n",
    "    y[n] = observe() # Observe the current environmental outcome\n",
    "end\n",
    "\n",
    "plot_car(y,\"MountainCar_naive_policy\")"
   ]
  },
  {
   "cell_type": "code",
   "execution_count": 4,
   "metadata": {},
   "outputs": [
    {
     "data": {
      "image/svg+xml": [
       "<?xml version=\"1.0\" encoding=\"utf-8\"?>\n",
       "<svg xmlns=\"http://www.w3.org/2000/svg\" xmlns:xlink=\"http://www.w3.org/1999/xlink\" width=\"600\" height=\"400\" viewBox=\"0 0 2400 1600\">\n",
       "<defs>\n",
       "  <clipPath id=\"clip260\">\n",
       "    <rect x=\"0\" y=\"0\" width=\"2400\" height=\"1600\"/>\n",
       "  </clipPath>\n",
       "</defs>\n",
       "<path clip-path=\"url(#clip260)\" d=\"M0 1600 L2400 1600 L2400 0 L0 0  Z\" fill=\"#ffffff\" fill-rule=\"evenodd\" fill-opacity=\"1\"/>\n",
       "<defs>\n",
       "  <clipPath id=\"clip261\">\n",
       "    <rect x=\"480\" y=\"0\" width=\"1681\" height=\"1600\"/>\n",
       "  </clipPath>\n",
       "</defs>\n",
       "<path clip-path=\"url(#clip260)\" d=\"M194.422 1486.45 L2352.76 1486.45 L2352.76 123.472 L194.422 123.472  Z\" fill=\"#ffffff\" fill-rule=\"evenodd\" fill-opacity=\"1\"/>\n",
       "<defs>\n",
       "  <clipPath id=\"clip262\">\n",
       "    <rect x=\"194\" y=\"123\" width=\"2159\" height=\"1364\"/>\n",
       "  </clipPath>\n",
       "</defs>\n",
       "<polyline clip-path=\"url(#clip262)\" style=\"stroke:#000000; stroke-linecap:round; stroke-linejoin:round; stroke-width:2; stroke-opacity:0.1; fill:none\" points=\"203.298,1486.45 203.298,123.472 \"/>\n",
       "<polyline clip-path=\"url(#clip262)\" style=\"stroke:#000000; stroke-linecap:round; stroke-linejoin:round; stroke-width:2; stroke-opacity:0.1; fill:none\" points=\"725.391,1486.45 725.391,123.472 \"/>\n",
       "<polyline clip-path=\"url(#clip262)\" style=\"stroke:#000000; stroke-linecap:round; stroke-linejoin:round; stroke-width:2; stroke-opacity:0.1; fill:none\" points=\"1247.48,1486.45 1247.48,123.472 \"/>\n",
       "<polyline clip-path=\"url(#clip262)\" style=\"stroke:#000000; stroke-linecap:round; stroke-linejoin:round; stroke-width:2; stroke-opacity:0.1; fill:none\" points=\"1769.58,1486.45 1769.58,123.472 \"/>\n",
       "<polyline clip-path=\"url(#clip262)\" style=\"stroke:#000000; stroke-linecap:round; stroke-linejoin:round; stroke-width:2; stroke-opacity:0.1; fill:none\" points=\"2291.67,1486.45 2291.67,123.472 \"/>\n",
       "<polyline clip-path=\"url(#clip260)\" style=\"stroke:#000000; stroke-linecap:round; stroke-linejoin:round; stroke-width:4; stroke-opacity:1; fill:none\" points=\"194.422,1486.45 2352.76,1486.45 \"/>\n",
       "<polyline clip-path=\"url(#clip260)\" style=\"stroke:#000000; stroke-linecap:round; stroke-linejoin:round; stroke-width:4; stroke-opacity:1; fill:none\" points=\"203.298,1486.45 203.298,1467.55 \"/>\n",
       "<polyline clip-path=\"url(#clip260)\" style=\"stroke:#000000; stroke-linecap:round; stroke-linejoin:round; stroke-width:4; stroke-opacity:1; fill:none\" points=\"725.391,1486.45 725.391,1467.55 \"/>\n",
       "<polyline clip-path=\"url(#clip260)\" style=\"stroke:#000000; stroke-linecap:round; stroke-linejoin:round; stroke-width:4; stroke-opacity:1; fill:none\" points=\"1247.48,1486.45 1247.48,1467.55 \"/>\n",
       "<polyline clip-path=\"url(#clip260)\" style=\"stroke:#000000; stroke-linecap:round; stroke-linejoin:round; stroke-width:4; stroke-opacity:1; fill:none\" points=\"1769.58,1486.45 1769.58,1467.55 \"/>\n",
       "<polyline clip-path=\"url(#clip260)\" style=\"stroke:#000000; stroke-linecap:round; stroke-linejoin:round; stroke-width:4; stroke-opacity:1; fill:none\" points=\"2291.67,1486.45 2291.67,1467.55 \"/>\n",
       "<path clip-path=\"url(#clip260)\" d=\"M203.298 1517.37 Q199.687 1517.37 197.858 1520.93 Q196.052 1524.47 196.052 1531.6 Q196.052 1538.71 197.858 1542.27 Q199.687 1545.82 203.298 1545.82 Q206.932 1545.82 208.737 1542.27 Q210.566 1538.71 210.566 1531.6 Q210.566 1524.47 208.737 1520.93 Q206.932 1517.37 203.298 1517.37 M203.298 1513.66 Q209.108 1513.66 212.163 1518.27 Q215.242 1522.85 215.242 1531.6 Q215.242 1540.33 212.163 1544.94 Q209.108 1549.52 203.298 1549.52 Q197.488 1549.52 194.409 1544.94 Q191.353 1540.33 191.353 1531.6 Q191.353 1522.85 194.409 1518.27 Q197.488 1513.66 203.298 1513.66 Z\" fill=\"#000000\" fill-rule=\"nonzero\" fill-opacity=\"1\" /><path clip-path=\"url(#clip260)\" d=\"M700.079 1544.91 L707.717 1544.91 L707.717 1518.55 L699.407 1520.21 L699.407 1515.95 L707.671 1514.29 L712.347 1514.29 L712.347 1544.91 L719.986 1544.91 L719.986 1548.85 L700.079 1548.85 L700.079 1544.91 Z\" fill=\"#000000\" fill-rule=\"nonzero\" fill-opacity=\"1\" /><path clip-path=\"url(#clip260)\" d=\"M739.43 1517.37 Q735.819 1517.37 733.991 1520.93 Q732.185 1524.47 732.185 1531.6 Q732.185 1538.71 733.991 1542.27 Q735.819 1545.82 739.43 1545.82 Q743.065 1545.82 744.87 1542.27 Q746.699 1538.71 746.699 1531.6 Q746.699 1524.47 744.87 1520.93 Q743.065 1517.37 739.43 1517.37 M739.43 1513.66 Q745.24 1513.66 748.296 1518.27 Q751.375 1522.85 751.375 1531.6 Q751.375 1540.33 748.296 1544.94 Q745.24 1549.52 739.43 1549.52 Q733.62 1549.52 730.541 1544.94 Q727.486 1540.33 727.486 1531.6 Q727.486 1522.85 730.541 1518.27 Q733.62 1513.66 739.43 1513.66 Z\" fill=\"#000000\" fill-rule=\"nonzero\" fill-opacity=\"1\" /><path clip-path=\"url(#clip260)\" d=\"M1226.26 1544.91 L1242.58 1544.91 L1242.58 1548.85 L1220.63 1548.85 L1220.63 1544.91 Q1223.29 1542.16 1227.88 1537.53 Q1232.48 1532.88 1233.66 1531.53 Q1235.91 1529.01 1236.79 1527.27 Q1237.69 1525.51 1237.69 1523.82 Q1237.69 1521.07 1235.75 1519.33 Q1233.83 1517.6 1230.73 1517.6 Q1228.53 1517.6 1226.07 1518.36 Q1223.64 1519.13 1220.86 1520.68 L1220.86 1515.95 Q1223.69 1514.82 1226.14 1514.24 Q1228.6 1513.66 1230.63 1513.66 Q1236 1513.66 1239.2 1516.35 Q1242.39 1519.03 1242.39 1523.52 Q1242.39 1525.65 1241.58 1527.57 Q1240.79 1529.47 1238.69 1532.07 Q1238.11 1532.74 1235.01 1535.95 Q1231.91 1539.15 1226.26 1544.91 Z\" fill=\"#000000\" fill-rule=\"nonzero\" fill-opacity=\"1\" /><path clip-path=\"url(#clip260)\" d=\"M1262.39 1517.37 Q1258.78 1517.37 1256.95 1520.93 Q1255.15 1524.47 1255.15 1531.6 Q1255.15 1538.71 1256.95 1542.27 Q1258.78 1545.82 1262.39 1545.82 Q1266.03 1545.82 1267.83 1542.27 Q1269.66 1538.71 1269.66 1531.6 Q1269.66 1524.47 1267.83 1520.93 Q1266.03 1517.37 1262.39 1517.37 M1262.39 1513.66 Q1268.2 1513.66 1271.26 1518.27 Q1274.34 1522.85 1274.34 1531.6 Q1274.34 1540.33 1271.26 1544.94 Q1268.2 1549.52 1262.39 1549.52 Q1256.58 1549.52 1253.5 1544.94 Q1250.45 1540.33 1250.45 1531.6 Q1250.45 1522.85 1253.5 1518.27 Q1256.58 1513.66 1262.39 1513.66 Z\" fill=\"#000000\" fill-rule=\"nonzero\" fill-opacity=\"1\" /><path clip-path=\"url(#clip260)\" d=\"M1758.42 1530.21 Q1761.78 1530.93 1763.65 1533.2 Q1765.55 1535.47 1765.55 1538.8 Q1765.55 1543.92 1762.03 1546.72 Q1758.51 1549.52 1752.03 1549.52 Q1749.86 1549.52 1747.54 1549.08 Q1745.25 1548.66 1742.8 1547.81 L1742.8 1543.29 Q1744.74 1544.43 1747.05 1545.01 Q1749.37 1545.58 1751.89 1545.58 Q1756.29 1545.58 1758.58 1543.85 Q1760.9 1542.11 1760.9 1538.8 Q1760.9 1535.75 1758.74 1534.03 Q1756.61 1532.3 1752.8 1532.3 L1748.77 1532.3 L1748.77 1528.45 L1752.98 1528.45 Q1756.43 1528.45 1758.26 1527.09 Q1760.09 1525.7 1760.09 1523.11 Q1760.09 1520.45 1758.19 1519.03 Q1756.31 1517.6 1752.8 1517.6 Q1750.87 1517.6 1748.67 1518.01 Q1746.48 1518.43 1743.84 1519.31 L1743.84 1515.14 Q1746.5 1514.4 1748.81 1514.03 Q1751.15 1513.66 1753.21 1513.66 Q1758.54 1513.66 1761.64 1516.09 Q1764.74 1518.5 1764.74 1522.62 Q1764.74 1525.49 1763.1 1527.48 Q1761.45 1529.45 1758.42 1530.21 Z\" fill=\"#000000\" fill-rule=\"nonzero\" fill-opacity=\"1\" /><path clip-path=\"url(#clip260)\" d=\"M1784.42 1517.37 Q1780.8 1517.37 1778.98 1520.93 Q1777.17 1524.47 1777.17 1531.6 Q1777.17 1538.71 1778.98 1542.27 Q1780.8 1545.82 1784.42 1545.82 Q1788.05 1545.82 1789.86 1542.27 Q1791.68 1538.71 1791.68 1531.6 Q1791.68 1524.47 1789.86 1520.93 Q1788.05 1517.37 1784.42 1517.37 M1784.42 1513.66 Q1790.23 1513.66 1793.28 1518.27 Q1796.36 1522.85 1796.36 1531.6 Q1796.36 1540.33 1793.28 1544.94 Q1790.23 1549.52 1784.42 1549.52 Q1778.61 1549.52 1775.53 1544.94 Q1772.47 1540.33 1772.47 1531.6 Q1772.47 1522.85 1775.53 1518.27 Q1778.61 1513.66 1784.42 1513.66 Z\" fill=\"#000000\" fill-rule=\"nonzero\" fill-opacity=\"1\" /><path clip-path=\"url(#clip260)\" d=\"M2279.84 1518.36 L2268.04 1536.81 L2279.84 1536.81 L2279.84 1518.36 M2278.62 1514.29 L2284.5 1514.29 L2284.5 1536.81 L2289.43 1536.81 L2289.43 1540.7 L2284.5 1540.7 L2284.5 1548.85 L2279.84 1548.85 L2279.84 1540.7 L2264.24 1540.7 L2264.24 1536.19 L2278.62 1514.29 Z\" fill=\"#000000\" fill-rule=\"nonzero\" fill-opacity=\"1\" /><path clip-path=\"url(#clip260)\" d=\"M2307.16 1517.37 Q2303.55 1517.37 2301.72 1520.93 Q2299.91 1524.47 2299.91 1531.6 Q2299.91 1538.71 2301.72 1542.27 Q2303.55 1545.82 2307.16 1545.82 Q2310.79 1545.82 2312.6 1542.27 Q2314.43 1538.71 2314.43 1531.6 Q2314.43 1524.47 2312.6 1520.93 Q2310.79 1517.37 2307.16 1517.37 M2307.16 1513.66 Q2312.97 1513.66 2316.02 1518.27 Q2319.1 1522.85 2319.1 1531.6 Q2319.1 1540.33 2316.02 1544.94 Q2312.97 1549.52 2307.16 1549.52 Q2301.35 1549.52 2298.27 1544.94 Q2295.21 1540.33 2295.21 1531.6 Q2295.21 1522.85 2298.27 1518.27 Q2301.35 1513.66 2307.16 1513.66 Z\" fill=\"#000000\" fill-rule=\"nonzero\" fill-opacity=\"1\" /><polyline clip-path=\"url(#clip262)\" style=\"stroke:#000000; stroke-linecap:round; stroke-linejoin:round; stroke-width:2; stroke-opacity:0.1; fill:none\" points=\"194.422,1367.51 2352.76,1367.51 \"/>\n",
       "<polyline clip-path=\"url(#clip262)\" style=\"stroke:#000000; stroke-linecap:round; stroke-linejoin:round; stroke-width:2; stroke-opacity:0.1; fill:none\" points=\"194.422,1099.63 2352.76,1099.63 \"/>\n",
       "<polyline clip-path=\"url(#clip262)\" style=\"stroke:#000000; stroke-linecap:round; stroke-linejoin:round; stroke-width:2; stroke-opacity:0.1; fill:none\" points=\"194.422,831.748 2352.76,831.748 \"/>\n",
       "<polyline clip-path=\"url(#clip262)\" style=\"stroke:#000000; stroke-linecap:round; stroke-linejoin:round; stroke-width:2; stroke-opacity:0.1; fill:none\" points=\"194.422,563.868 2352.76,563.868 \"/>\n",
       "<polyline clip-path=\"url(#clip262)\" style=\"stroke:#000000; stroke-linecap:round; stroke-linejoin:round; stroke-width:2; stroke-opacity:0.1; fill:none\" points=\"194.422,295.987 2352.76,295.987 \"/>\n",
       "<polyline clip-path=\"url(#clip260)\" style=\"stroke:#000000; stroke-linecap:round; stroke-linejoin:round; stroke-width:4; stroke-opacity:1; fill:none\" points=\"194.422,1486.45 194.422,123.472 \"/>\n",
       "<polyline clip-path=\"url(#clip260)\" style=\"stroke:#000000; stroke-linecap:round; stroke-linejoin:round; stroke-width:4; stroke-opacity:1; fill:none\" points=\"194.422,1367.51 213.32,1367.51 \"/>\n",
       "<polyline clip-path=\"url(#clip260)\" style=\"stroke:#000000; stroke-linecap:round; stroke-linejoin:round; stroke-width:4; stroke-opacity:1; fill:none\" points=\"194.422,1099.63 213.32,1099.63 \"/>\n",
       "<polyline clip-path=\"url(#clip260)\" style=\"stroke:#000000; stroke-linecap:round; stroke-linejoin:round; stroke-width:4; stroke-opacity:1; fill:none\" points=\"194.422,831.748 213.32,831.748 \"/>\n",
       "<polyline clip-path=\"url(#clip260)\" style=\"stroke:#000000; stroke-linecap:round; stroke-linejoin:round; stroke-width:4; stroke-opacity:1; fill:none\" points=\"194.422,563.868 213.32,563.868 \"/>\n",
       "<polyline clip-path=\"url(#clip260)\" style=\"stroke:#000000; stroke-linecap:round; stroke-linejoin:round; stroke-width:4; stroke-opacity:1; fill:none\" points=\"194.422,295.987 213.32,295.987 \"/>\n",
       "<path clip-path=\"url(#clip260)\" d=\"M50.9921 1367.96 L80.6679 1367.96 L80.6679 1371.9 L50.9921 1371.9 L50.9921 1367.96 Z\" fill=\"#000000\" fill-rule=\"nonzero\" fill-opacity=\"1\" /><path clip-path=\"url(#clip260)\" d=\"M100.76 1353.31 Q97.1493 1353.31 95.3206 1356.87 Q93.515 1360.41 93.515 1367.54 Q93.515 1374.65 95.3206 1378.21 Q97.1493 1381.76 100.76 1381.76 Q104.395 1381.76 106.2 1378.21 Q108.029 1374.65 108.029 1367.54 Q108.029 1360.41 106.2 1356.87 Q104.395 1353.31 100.76 1353.31 M100.76 1349.6 Q106.571 1349.6 109.626 1354.21 Q112.705 1358.79 112.705 1367.54 Q112.705 1376.27 109.626 1380.88 Q106.571 1385.46 100.76 1385.46 Q94.9502 1385.46 91.8715 1380.88 Q88.816 1376.27 88.816 1367.54 Q88.816 1358.79 91.8715 1354.21 Q94.9502 1349.6 100.76 1349.6 Z\" fill=\"#000000\" fill-rule=\"nonzero\" fill-opacity=\"1\" /><path clip-path=\"url(#clip260)\" d=\"M120.922 1378.91 L125.807 1378.91 L125.807 1384.79 L120.922 1384.79 L120.922 1378.91 Z\" fill=\"#000000\" fill-rule=\"nonzero\" fill-opacity=\"1\" /><path clip-path=\"url(#clip260)\" d=\"M148.839 1354.3 L137.033 1372.75 L148.839 1372.75 L148.839 1354.3 M147.612 1350.23 L153.492 1350.23 L153.492 1372.75 L158.422 1372.75 L158.422 1376.64 L153.492 1376.64 L153.492 1384.79 L148.839 1384.79 L148.839 1376.64 L133.237 1376.64 L133.237 1372.13 L147.612 1350.23 Z\" fill=\"#000000\" fill-rule=\"nonzero\" fill-opacity=\"1\" /><path clip-path=\"url(#clip260)\" d=\"M53.0754 1100.08 L82.7512 1100.08 L82.7512 1104.02 L53.0754 1104.02 L53.0754 1100.08 Z\" fill=\"#000000\" fill-rule=\"nonzero\" fill-opacity=\"1\" /><path clip-path=\"url(#clip260)\" d=\"M102.844 1085.43 Q99.2326 1085.43 97.4039 1088.99 Q95.5984 1092.53 95.5984 1099.66 Q95.5984 1106.77 97.4039 1110.33 Q99.2326 1113.88 102.844 1113.88 Q106.478 1113.88 108.283 1110.33 Q110.112 1106.77 110.112 1099.66 Q110.112 1092.53 108.283 1088.99 Q106.478 1085.43 102.844 1085.43 M102.844 1081.72 Q108.654 1081.72 111.709 1086.33 Q114.788 1090.91 114.788 1099.66 Q114.788 1108.39 111.709 1113 Q108.654 1117.58 102.844 1117.58 Q97.0335 1117.58 93.9549 1113 Q90.8993 1108.39 90.8993 1099.66 Q90.8993 1090.91 93.9549 1086.33 Q97.0335 1081.72 102.844 1081.72 Z\" fill=\"#000000\" fill-rule=\"nonzero\" fill-opacity=\"1\" /><path clip-path=\"url(#clip260)\" d=\"M123.006 1111.03 L127.89 1111.03 L127.89 1116.91 L123.006 1116.91 L123.006 1111.03 Z\" fill=\"#000000\" fill-rule=\"nonzero\" fill-opacity=\"1\" /><path clip-path=\"url(#clip260)\" d=\"M142.103 1112.97 L158.422 1112.97 L158.422 1116.91 L136.478 1116.91 L136.478 1112.97 Q139.14 1110.22 143.723 1105.59 Q148.33 1100.94 149.51 1099.59 Q151.755 1097.07 152.635 1095.33 Q153.538 1093.58 153.538 1091.89 Q153.538 1089.13 151.593 1087.39 Q149.672 1085.66 146.57 1085.66 Q144.371 1085.66 141.918 1086.42 Q139.487 1087.19 136.709 1088.74 L136.709 1084.02 Q139.533 1082.88 141.987 1082.3 Q144.441 1081.72 146.478 1081.72 Q151.848 1081.72 155.042 1084.41 Q158.237 1087.09 158.237 1091.58 Q158.237 1093.71 157.427 1095.64 Q156.64 1097.53 154.533 1100.13 Q153.955 1100.8 150.853 1104.02 Q147.751 1107.21 142.103 1112.97 Z\" fill=\"#000000\" fill-rule=\"nonzero\" fill-opacity=\"1\" /><path clip-path=\"url(#clip260)\" d=\"M101.246 817.547 Q97.6354 817.547 95.8067 821.112 Q94.0012 824.653 94.0012 831.783 Q94.0012 838.889 95.8067 842.454 Q97.6354 845.996 101.246 845.996 Q104.881 845.996 106.686 842.454 Q108.515 838.889 108.515 831.783 Q108.515 824.653 106.686 821.112 Q104.881 817.547 101.246 817.547 M101.246 813.843 Q107.057 813.843 110.112 818.45 Q113.191 823.033 113.191 831.783 Q113.191 840.51 110.112 845.116 Q107.057 849.699 101.246 849.699 Q95.4363 849.699 92.3576 845.116 Q89.3021 840.51 89.3021 831.783 Q89.3021 823.033 92.3576 818.45 Q95.4363 813.843 101.246 813.843 Z\" fill=\"#000000\" fill-rule=\"nonzero\" fill-opacity=\"1\" /><path clip-path=\"url(#clip260)\" d=\"M121.408 843.148 L126.293 843.148 L126.293 849.028 L121.408 849.028 L121.408 843.148 Z\" fill=\"#000000\" fill-rule=\"nonzero\" fill-opacity=\"1\" /><path clip-path=\"url(#clip260)\" d=\"M146.478 817.547 Q142.867 817.547 141.038 821.112 Q139.232 824.653 139.232 831.783 Q139.232 838.889 141.038 842.454 Q142.867 845.996 146.478 845.996 Q150.112 845.996 151.918 842.454 Q153.746 838.889 153.746 831.783 Q153.746 824.653 151.918 821.112 Q150.112 817.547 146.478 817.547 M146.478 813.843 Q152.288 813.843 155.343 818.45 Q158.422 823.033 158.422 831.783 Q158.422 840.51 155.343 845.116 Q152.288 849.699 146.478 849.699 Q140.668 849.699 137.589 845.116 Q134.533 840.51 134.533 831.783 Q134.533 823.033 137.589 818.45 Q140.668 813.843 146.478 813.843 Z\" fill=\"#000000\" fill-rule=\"nonzero\" fill-opacity=\"1\" /><path clip-path=\"url(#clip260)\" d=\"M102.844 549.666 Q99.2326 549.666 97.4039 553.231 Q95.5984 556.773 95.5984 563.902 Q95.5984 571.009 97.4039 574.574 Q99.2326 578.115 102.844 578.115 Q106.478 578.115 108.283 574.574 Q110.112 571.009 110.112 563.902 Q110.112 556.773 108.283 553.231 Q106.478 549.666 102.844 549.666 M102.844 545.963 Q108.654 545.963 111.709 550.569 Q114.788 555.152 114.788 563.902 Q114.788 572.629 111.709 577.236 Q108.654 581.819 102.844 581.819 Q97.0335 581.819 93.9549 577.236 Q90.8993 572.629 90.8993 563.902 Q90.8993 555.152 93.9549 550.569 Q97.0335 545.963 102.844 545.963 Z\" fill=\"#000000\" fill-rule=\"nonzero\" fill-opacity=\"1\" /><path clip-path=\"url(#clip260)\" d=\"M123.006 575.268 L127.89 575.268 L127.89 581.148 L123.006 581.148 L123.006 575.268 Z\" fill=\"#000000\" fill-rule=\"nonzero\" fill-opacity=\"1\" /><path clip-path=\"url(#clip260)\" d=\"M142.103 577.212 L158.422 577.212 L158.422 581.148 L136.478 581.148 L136.478 577.212 Q139.14 574.458 143.723 569.828 Q148.33 565.175 149.51 563.833 Q151.755 561.31 152.635 559.574 Q153.538 557.814 153.538 556.125 Q153.538 553.37 151.593 551.634 Q149.672 549.898 146.57 549.898 Q144.371 549.898 141.918 550.662 Q139.487 551.426 136.709 552.976 L136.709 548.254 Q139.533 547.12 141.987 546.541 Q144.441 545.963 146.478 545.963 Q151.848 545.963 155.042 548.648 Q158.237 551.333 158.237 555.824 Q158.237 557.953 157.427 559.875 Q156.64 561.773 154.533 564.365 Q153.955 565.037 150.853 568.254 Q147.751 571.449 142.103 577.212 Z\" fill=\"#000000\" fill-rule=\"nonzero\" fill-opacity=\"1\" /><path clip-path=\"url(#clip260)\" d=\"M100.76 281.786 Q97.1493 281.786 95.3206 285.351 Q93.515 288.892 93.515 296.022 Q93.515 303.128 95.3206 306.693 Q97.1493 310.235 100.76 310.235 Q104.395 310.235 106.2 306.693 Q108.029 303.128 108.029 296.022 Q108.029 288.892 106.2 285.351 Q104.395 281.786 100.76 281.786 M100.76 278.082 Q106.571 278.082 109.626 282.689 Q112.705 287.272 112.705 296.022 Q112.705 304.749 109.626 309.355 Q106.571 313.938 100.76 313.938 Q94.9502 313.938 91.8715 309.355 Q88.816 304.749 88.816 296.022 Q88.816 287.272 91.8715 282.689 Q94.9502 278.082 100.76 278.082 Z\" fill=\"#000000\" fill-rule=\"nonzero\" fill-opacity=\"1\" /><path clip-path=\"url(#clip260)\" d=\"M120.922 307.388 L125.807 307.388 L125.807 313.267 L120.922 313.267 L120.922 307.388 Z\" fill=\"#000000\" fill-rule=\"nonzero\" fill-opacity=\"1\" /><path clip-path=\"url(#clip260)\" d=\"M148.839 282.781 L137.033 301.23 L148.839 301.23 L148.839 282.781 M147.612 278.707 L153.492 278.707 L153.492 301.23 L158.422 301.23 L158.422 305.119 L153.492 305.119 L153.492 313.267 L148.839 313.267 L148.839 305.119 L133.237 305.119 L133.237 300.605 L147.612 278.707 Z\" fill=\"#000000\" fill-rule=\"nonzero\" fill-opacity=\"1\" /><path clip-path=\"url(#clip260)\" d=\"M1124.07 65.7705 L1124.07 89.8329 L1116.58 89.8329 L1116.58 27.2059 L1124.07 27.2059 L1124.07 34.0924 Q1126.42 30.0415 1129.98 28.0971 Q1133.59 26.1121 1138.57 26.1121 Q1146.84 26.1121 1151.98 32.6746 Q1157.17 39.2371 1157.17 49.9314 Q1157.17 60.6258 1151.98 67.1883 Q1146.84 73.7508 1138.57 73.7508 Q1133.59 73.7508 1129.98 71.8063 Q1126.42 69.8214 1124.07 65.7705 M1149.43 49.9314 Q1149.43 41.7081 1146.03 37.0496 Q1142.66 32.3505 1136.75 32.3505 Q1130.84 32.3505 1127.43 37.0496 Q1124.07 41.7081 1124.07 49.9314 Q1124.07 58.1548 1127.43 62.8538 Q1130.84 67.5124 1136.75 67.5124 Q1142.66 67.5124 1146.03 62.8538 Q1149.43 58.1548 1149.43 49.9314 Z\" fill=\"#000000\" fill-rule=\"nonzero\" fill-opacity=\"1\" /><path clip-path=\"url(#clip260)\" d=\"M1187.1 32.4315 Q1181.11 32.4315 1177.62 37.1306 Q1174.14 41.7891 1174.14 49.9314 Q1174.14 58.0738 1177.58 62.7728 Q1181.07 67.4314 1187.1 67.4314 Q1193.06 67.4314 1196.54 62.7323 Q1200.02 58.0333 1200.02 49.9314 Q1200.02 41.8701 1196.54 37.1711 Q1193.06 32.4315 1187.1 32.4315 M1187.1 26.1121 Q1196.82 26.1121 1202.37 32.4315 Q1207.92 38.7509 1207.92 49.9314 Q1207.92 61.0714 1202.37 67.4314 Q1196.82 73.7508 1187.1 73.7508 Q1177.34 73.7508 1171.79 67.4314 Q1166.28 61.0714 1166.28 49.9314 Q1166.28 38.7509 1171.79 32.4315 Q1177.34 26.1121 1187.1 26.1121 Z\" fill=\"#000000\" fill-rule=\"nonzero\" fill-opacity=\"1\" /><path clip-path=\"url(#clip260)\" d=\"M1249.2 28.5427 L1249.2 35.5912 Q1246.04 33.9709 1242.64 33.1607 Q1239.24 32.3505 1235.59 32.3505 Q1230.04 32.3505 1227.25 34.0519 Q1224.49 35.7533 1224.49 39.156 Q1224.49 41.7486 1226.48 43.2475 Q1228.46 44.7058 1234.46 46.0426 L1237.01 46.6097 Q1244.95 48.3111 1248.27 51.4303 Q1251.63 54.509 1251.63 60.0587 Q1251.63 66.3781 1246.61 70.0644 Q1241.63 73.7508 1232.88 73.7508 Q1229.23 73.7508 1225.26 73.0216 Q1221.33 72.3329 1216.96 70.9151 L1216.96 63.2184 Q1221.09 65.3654 1225.1 66.4591 Q1229.11 67.5124 1233.04 67.5124 Q1238.31 67.5124 1241.14 65.73 Q1243.98 63.9071 1243.98 60.6258 Q1243.98 57.5877 1241.91 55.9673 Q1239.89 54.3469 1232.96 52.8481 L1230.37 52.2405 Q1223.44 50.7821 1220.36 47.7845 Q1217.28 44.7463 1217.28 39.4801 Q1217.28 33.0797 1221.82 29.5959 Q1226.36 26.1121 1234.7 26.1121 Q1238.83 26.1121 1242.48 26.7198 Q1246.12 27.3274 1249.2 28.5427 Z\" fill=\"#000000\" fill-rule=\"nonzero\" fill-opacity=\"1\" /><path clip-path=\"url(#clip260)\" d=\"M1263.5 27.2059 L1270.96 27.2059 L1270.96 72.576 L1263.5 72.576 L1263.5 27.2059 M1263.5 9.54393 L1270.96 9.54393 L1270.96 18.9825 L1263.5 18.9825 L1263.5 9.54393 Z\" fill=\"#000000\" fill-rule=\"nonzero\" fill-opacity=\"1\" /><path clip-path=\"url(#clip260)\" d=\"M1293.92 14.324 L1293.92 27.2059 L1309.28 27.2059 L1309.28 32.9987 L1293.92 32.9987 L1293.92 57.6282 Q1293.92 63.1779 1295.42 64.7578 Q1296.96 66.3376 1301.62 66.3376 L1309.28 66.3376 L1309.28 72.576 L1301.62 72.576 Q1292.99 72.576 1289.71 69.3758 Q1286.43 66.1351 1286.43 57.6282 L1286.43 32.9987 L1280.96 32.9987 L1280.96 27.2059 L1286.43 27.2059 L1286.43 14.324 L1293.92 14.324 Z\" fill=\"#000000\" fill-rule=\"nonzero\" fill-opacity=\"1\" /><path clip-path=\"url(#clip260)\" d=\"M1319.08 27.2059 L1326.53 27.2059 L1326.53 72.576 L1319.08 72.576 L1319.08 27.2059 M1319.08 9.54393 L1326.53 9.54393 L1326.53 18.9825 L1319.08 18.9825 L1319.08 9.54393 Z\" fill=\"#000000\" fill-rule=\"nonzero\" fill-opacity=\"1\" /><path clip-path=\"url(#clip260)\" d=\"M1359.71 32.4315 Q1353.72 32.4315 1350.23 37.1306 Q1346.75 41.7891 1346.75 49.9314 Q1346.75 58.0738 1350.19 62.7728 Q1353.68 67.4314 1359.71 67.4314 Q1365.67 67.4314 1369.15 62.7323 Q1372.63 58.0333 1372.63 49.9314 Q1372.63 41.8701 1369.15 37.1711 Q1365.67 32.4315 1359.71 32.4315 M1359.71 26.1121 Q1369.43 26.1121 1374.98 32.4315 Q1380.53 38.7509 1380.53 49.9314 Q1380.53 61.0714 1374.98 67.4314 Q1369.43 73.7508 1359.71 73.7508 Q1349.95 73.7508 1344.4 67.4314 Q1338.89 61.0714 1338.89 49.9314 Q1338.89 38.7509 1344.4 32.4315 Q1349.95 26.1121 1359.71 26.1121 Z\" fill=\"#000000\" fill-rule=\"nonzero\" fill-opacity=\"1\" /><path clip-path=\"url(#clip260)\" d=\"M1430.6 45.1919 L1430.6 72.576 L1423.15 72.576 L1423.15 45.4349 Q1423.15 38.994 1420.64 35.7938 Q1418.13 32.5936 1413.1 32.5936 Q1407.07 32.5936 1403.58 36.4419 Q1400.1 40.2903 1400.1 46.9338 L1400.1 72.576 L1392.6 72.576 L1392.6 27.2059 L1400.1 27.2059 L1400.1 34.2544 Q1402.77 30.163 1406.38 28.1376 Q1410.02 26.1121 1414.76 26.1121 Q1422.58 26.1121 1426.59 30.9732 Q1430.6 35.7938 1430.6 45.1919 Z\" fill=\"#000000\" fill-rule=\"nonzero\" fill-opacity=\"1\" /><polyline clip-path=\"url(#clip262)\" style=\"stroke:#ffa500; stroke-linecap:round; stroke-linejoin:round; stroke-width:4; stroke-opacity:1; fill:none\" points=\"255.507,1447.87 307.716,1351.44 359.926,1226.07 412.135,1087.2 464.344,950.065 516.554,828.208 568.763,731.929 620.972,658.118 673.182,603.434 725.391,564.811 777.6,539.678 829.81,526.001 882.019,522.241 934.228,527.298 986.438,540.436 1038.65,561.224 1090.86,589.465 1143.07,625.141 1195.28,668.332 1247.48,719.132 1299.69,777.543 1351.9,843.342 1404.11,914.797 1456.32,984.195 1508.53,1044.8 1560.74,1091.44 1612.95,1120.83 1665.16,1131.78 1717.37,1125.02 1769.58,1103 1821.79,1069.45 1874,1028.88 1926.21,986.053 1978.41,945.468 2030.62,910.964 2082.83,885.383 2135.04,870.39 2187.25,866.427 2239.46,872.786 2291.67,887.799 \"/>\n",
       "<polyline clip-path=\"url(#clip262)\" style=\"stroke:#000000; stroke-linecap:round; stroke-linejoin:round; stroke-width:4; stroke-opacity:1; fill:none\" stroke-dasharray=\"16, 10\" points=\"255.507,162.047 307.716,162.047 359.926,162.047 412.135,162.047 464.344,162.047 516.554,162.047 568.763,162.047 620.972,162.047 673.182,162.047 725.391,162.047 777.6,162.047 829.81,162.047 882.019,162.047 934.228,162.047 986.438,162.047 1038.65,162.047 1090.86,162.047 1143.07,162.047 1195.28,162.047 1247.48,162.047 1299.69,162.047 1351.9,162.047 1404.11,162.047 1456.32,162.047 1508.53,162.047 1560.74,162.047 1612.95,162.047 1665.16,162.047 1717.37,162.047 1769.58,162.047 1821.79,162.047 1874,162.047 1926.21,162.047 1978.41,162.047 2030.62,162.047 2082.83,162.047 2135.04,162.047 2187.25,162.047 2239.46,162.047 2291.67,162.047 \"/>\n",
       "<path clip-path=\"url(#clip260)\" d=\"M1777.94 1441.02 L2280.81 1441.02 L2280.81 1285.5 L1777.94 1285.5  Z\" fill=\"#ffffff\" fill-rule=\"evenodd\" fill-opacity=\"1\"/>\n",
       "<polyline clip-path=\"url(#clip260)\" style=\"stroke:#000000; stroke-linecap:round; stroke-linejoin:round; stroke-width:4; stroke-opacity:1; fill:none\" points=\"1777.94,1441.02 2280.81,1441.02 2280.81,1285.5 1777.94,1285.5 1777.94,1441.02 \"/>\n",
       "<polyline clip-path=\"url(#clip260)\" style=\"stroke:#ffa500; stroke-linecap:round; stroke-linejoin:round; stroke-width:4; stroke-opacity:1; fill:none\" points=\"1801.92,1337.34 1945.81,1337.34 \"/>\n",
       "<path clip-path=\"url(#clip260)\" d=\"M1991.51 1338.97 L1991.51 1354.62 L1987.25 1354.62 L1987.25 1339.11 Q1987.25 1335.43 1985.81 1333.6 Q1984.38 1331.77 1981.51 1331.77 Q1978.06 1331.77 1976.07 1333.97 Q1974.08 1336.17 1974.08 1339.96 L1974.08 1354.62 L1969.79 1354.62 L1969.79 1328.69 L1974.08 1328.69 L1974.08 1332.72 Q1975.6 1330.38 1977.66 1329.22 Q1979.75 1328.06 1982.46 1328.06 Q1986.92 1328.06 1989.22 1330.84 Q1991.51 1333.6 1991.51 1338.97 Z\" fill=\"#000000\" fill-rule=\"nonzero\" fill-opacity=\"1\" /><path clip-path=\"url(#clip260)\" d=\"M2011.78 1341.58 Q2006.62 1341.58 2004.63 1342.76 Q2002.64 1343.94 2002.64 1346.79 Q2002.64 1349.06 2004.12 1350.4 Q2005.63 1351.72 2008.2 1351.72 Q2011.74 1351.72 2013.87 1349.22 Q2016.02 1346.7 2016.02 1342.53 L2016.02 1341.58 L2011.78 1341.58 M2020.28 1339.82 L2020.28 1354.62 L2016.02 1354.62 L2016.02 1350.68 Q2014.56 1353.04 2012.39 1354.18 Q2010.21 1355.29 2007.06 1355.29 Q2003.08 1355.29 2000.72 1353.06 Q1998.38 1350.82 1998.38 1347.07 Q1998.38 1342.69 2001.3 1340.47 Q2004.24 1338.25 2010.05 1338.25 L2016.02 1338.25 L2016.02 1337.83 Q2016.02 1334.89 2014.08 1333.3 Q2012.16 1331.68 2008.66 1331.68 Q2006.44 1331.68 2004.33 1332.21 Q2002.22 1332.74 2000.28 1333.81 L2000.28 1329.87 Q2002.62 1328.97 2004.82 1328.53 Q2007.02 1328.06 2009.1 1328.06 Q2014.72 1328.06 2017.5 1330.98 Q2020.28 1333.9 2020.28 1339.82 Z\" fill=\"#000000\" fill-rule=\"nonzero\" fill-opacity=\"1\" /><path clip-path=\"url(#clip260)\" d=\"M2029.05 1328.69 L2033.31 1328.69 L2033.31 1354.62 L2029.05 1354.62 L2029.05 1328.69 M2029.05 1318.6 L2033.31 1318.6 L2033.31 1323.99 L2029.05 1323.99 L2029.05 1318.6 Z\" fill=\"#000000\" fill-rule=\"nonzero\" fill-opacity=\"1\" /><path clip-path=\"url(#clip260)\" d=\"M2039.17 1328.69 L2043.68 1328.69 L2051.78 1350.45 L2059.89 1328.69 L2064.4 1328.69 L2054.68 1354.62 L2048.89 1354.62 L2039.17 1328.69 Z\" fill=\"#000000\" fill-rule=\"nonzero\" fill-opacity=\"1\" /><path clip-path=\"url(#clip260)\" d=\"M2092.46 1340.59 L2092.46 1342.67 L2072.87 1342.67 Q2073.15 1347.07 2075.51 1349.38 Q2077.9 1351.68 2082.13 1351.68 Q2084.59 1351.68 2086.88 1351.07 Q2089.19 1350.47 2091.46 1349.27 L2091.46 1353.3 Q2089.17 1354.27 2086.76 1354.78 Q2084.35 1355.29 2081.88 1355.29 Q2075.67 1355.29 2072.04 1351.68 Q2068.43 1348.06 2068.43 1341.91 Q2068.43 1335.54 2071.85 1331.81 Q2075.3 1328.06 2081.14 1328.06 Q2086.37 1328.06 2089.4 1331.44 Q2092.46 1334.8 2092.46 1340.59 M2088.2 1339.34 Q2088.15 1335.84 2086.23 1333.76 Q2084.33 1331.68 2081.18 1331.68 Q2077.62 1331.68 2075.47 1333.69 Q2073.34 1335.7 2073.01 1339.36 L2088.2 1339.34 Z\" fill=\"#000000\" fill-rule=\"nonzero\" fill-opacity=\"1\" /><path clip-path=\"url(#clip260)\" d=\"M2119.15 1362.49 L2119.15 1365.8 L2094.52 1365.8 L2094.52 1362.49 L2119.15 1362.49 Z\" fill=\"#000000\" fill-rule=\"nonzero\" fill-opacity=\"1\" /><path clip-path=\"url(#clip260)\" d=\"M2127.27 1350.73 L2127.27 1364.48 L2122.99 1364.48 L2122.99 1328.69 L2127.27 1328.69 L2127.27 1332.62 Q2128.61 1330.31 2130.65 1329.2 Q2132.71 1328.06 2135.56 1328.06 Q2140.28 1328.06 2143.22 1331.81 Q2146.18 1335.56 2146.18 1341.68 Q2146.18 1347.79 2143.22 1351.54 Q2140.28 1355.29 2135.56 1355.29 Q2132.71 1355.29 2130.65 1354.18 Q2128.61 1353.04 2127.27 1350.73 M2141.76 1341.68 Q2141.76 1336.98 2139.82 1334.31 Q2137.9 1331.63 2134.52 1331.63 Q2131.14 1331.63 2129.19 1334.31 Q2127.27 1336.98 2127.27 1341.68 Q2127.27 1346.37 2129.19 1349.06 Q2131.14 1351.72 2134.52 1351.72 Q2137.9 1351.72 2139.82 1349.06 Q2141.76 1346.37 2141.76 1341.68 Z\" fill=\"#000000\" fill-rule=\"nonzero\" fill-opacity=\"1\" /><path clip-path=\"url(#clip260)\" d=\"M2163.29 1331.68 Q2159.86 1331.68 2157.87 1334.36 Q2155.88 1337.02 2155.88 1341.68 Q2155.88 1346.33 2157.85 1349.01 Q2159.84 1351.68 2163.29 1351.68 Q2166.69 1351.68 2168.68 1348.99 Q2170.67 1346.31 2170.67 1341.68 Q2170.67 1337.07 2168.68 1334.38 Q2166.69 1331.68 2163.29 1331.68 M2163.29 1328.06 Q2168.84 1328.06 2172.02 1331.68 Q2175.19 1335.29 2175.19 1341.68 Q2175.19 1348.04 2172.02 1351.68 Q2168.84 1355.29 2163.29 1355.29 Q2157.71 1355.29 2154.54 1351.68 Q2151.39 1348.04 2151.39 1341.68 Q2151.39 1335.29 2154.54 1331.68 Q2157.71 1328.06 2163.29 1328.06 Z\" fill=\"#000000\" fill-rule=\"nonzero\" fill-opacity=\"1\" /><path clip-path=\"url(#clip260)\" d=\"M2182.25 1318.6 L2186.51 1318.6 L2186.51 1354.62 L2182.25 1354.62 L2182.25 1318.6 Z\" fill=\"#000000\" fill-rule=\"nonzero\" fill-opacity=\"1\" /><path clip-path=\"url(#clip260)\" d=\"M2195.42 1328.69 L2199.68 1328.69 L2199.68 1354.62 L2195.42 1354.62 L2195.42 1328.69 M2195.42 1318.6 L2199.68 1318.6 L2199.68 1323.99 L2195.42 1323.99 L2195.42 1318.6 Z\" fill=\"#000000\" fill-rule=\"nonzero\" fill-opacity=\"1\" /><path clip-path=\"url(#clip260)\" d=\"M2227.25 1329.68 L2227.25 1333.67 Q2225.44 1332.67 2223.61 1332.18 Q2221.81 1331.68 2219.96 1331.68 Q2215.81 1331.68 2213.52 1334.31 Q2211.23 1336.93 2211.23 1341.68 Q2211.23 1346.42 2213.52 1349.06 Q2215.81 1351.68 2219.96 1351.68 Q2221.81 1351.68 2223.61 1351.19 Q2225.44 1350.68 2227.25 1349.68 L2227.25 1353.62 Q2225.46 1354.45 2223.54 1354.87 Q2221.64 1355.29 2219.49 1355.29 Q2213.64 1355.29 2210.19 1351.61 Q2206.74 1347.93 2206.74 1341.68 Q2206.74 1335.33 2210.21 1331.7 Q2213.71 1328.06 2219.77 1328.06 Q2221.74 1328.06 2223.61 1328.48 Q2225.49 1328.87 2227.25 1329.68 Z\" fill=\"#000000\" fill-rule=\"nonzero\" fill-opacity=\"1\" /><path clip-path=\"url(#clip260)\" d=\"M2245.44 1357.02 Q2243.64 1361.65 2241.92 1363.06 Q2240.21 1364.48 2237.34 1364.48 L2233.94 1364.48 L2233.94 1360.91 L2236.44 1360.91 Q2238.2 1360.91 2239.17 1360.08 Q2240.14 1359.24 2241.32 1356.14 L2242.08 1354.2 L2231.6 1328.69 L2236.11 1328.69 L2244.21 1348.97 L2252.32 1328.69 L2256.83 1328.69 L2245.44 1357.02 Z\" fill=\"#000000\" fill-rule=\"nonzero\" fill-opacity=\"1\" /><polyline clip-path=\"url(#clip260)\" style=\"stroke:#000000; stroke-linecap:round; stroke-linejoin:round; stroke-width:4; stroke-opacity:1; fill:none\" stroke-dasharray=\"16, 10\" points=\"1801.92,1389.18 1945.81,1389.18 \"/>\n",
       "<path clip-path=\"url(#clip260)\" d=\"M1988.71 1393.19 Q1988.71 1388.56 1986.79 1386.02 Q1984.89 1383.47 1981.44 1383.47 Q1978.01 1383.47 1976.09 1386.02 Q1974.19 1388.56 1974.19 1393.19 Q1974.19 1397.8 1976.09 1400.34 Q1978.01 1402.89 1981.44 1402.89 Q1984.89 1402.89 1986.79 1400.34 Q1988.71 1397.8 1988.71 1393.19 M1992.97 1403.24 Q1992.97 1409.86 1990.03 1413.08 Q1987.09 1416.32 1981.02 1416.32 Q1978.78 1416.32 1976.79 1415.97 Q1974.79 1415.65 1972.92 1414.95 L1972.92 1410.81 Q1974.79 1411.83 1976.62 1412.31 Q1978.45 1412.8 1980.35 1412.8 Q1984.54 1412.8 1986.62 1410.6 Q1988.71 1408.42 1988.71 1404 L1988.71 1401.9 Q1987.39 1404.19 1985.33 1405.32 Q1983.27 1406.46 1980.4 1406.46 Q1975.63 1406.46 1972.71 1402.82 Q1969.79 1399.19 1969.79 1393.19 Q1969.79 1387.17 1972.71 1383.54 Q1975.63 1379.9 1980.4 1379.9 Q1983.27 1379.9 1985.33 1381.04 Q1987.39 1382.17 1988.71 1384.46 L1988.71 1380.53 L1992.97 1380.53 L1992.97 1403.24 Z\" fill=\"#000000\" fill-rule=\"nonzero\" fill-opacity=\"1\" /><path clip-path=\"url(#clip260)\" d=\"M2011.78 1383.52 Q2008.36 1383.52 2006.37 1386.2 Q2004.38 1388.86 2004.38 1393.52 Q2004.38 1398.17 2006.35 1400.85 Q2008.34 1403.52 2011.78 1403.52 Q2015.19 1403.52 2017.18 1400.83 Q2019.17 1398.15 2019.17 1393.52 Q2019.17 1388.91 2017.18 1386.22 Q2015.19 1383.52 2011.78 1383.52 M2011.78 1379.9 Q2017.34 1379.9 2020.51 1383.52 Q2023.68 1387.13 2023.68 1393.52 Q2023.68 1399.88 2020.51 1403.52 Q2017.34 1407.13 2011.78 1407.13 Q2006.21 1407.13 2003.04 1403.52 Q1999.89 1399.88 1999.89 1393.52 Q1999.89 1387.13 2003.04 1383.52 Q2006.21 1379.9 2011.78 1379.9 Z\" fill=\"#000000\" fill-rule=\"nonzero\" fill-opacity=\"1\" /><path clip-path=\"url(#clip260)\" d=\"M2042.53 1393.42 Q2037.36 1393.42 2035.37 1394.6 Q2033.38 1395.78 2033.38 1398.63 Q2033.38 1400.9 2034.86 1402.24 Q2036.37 1403.56 2038.94 1403.56 Q2042.48 1403.56 2044.61 1401.06 Q2046.76 1398.54 2046.76 1394.37 L2046.76 1393.42 L2042.53 1393.42 M2051.02 1391.66 L2051.02 1406.46 L2046.76 1406.46 L2046.76 1402.52 Q2045.3 1404.88 2043.13 1406.02 Q2040.95 1407.13 2037.8 1407.13 Q2033.82 1407.13 2031.46 1404.9 Q2029.12 1402.66 2029.12 1398.91 Q2029.12 1394.53 2032.04 1392.31 Q2034.98 1390.09 2040.79 1390.09 L2046.76 1390.09 L2046.76 1389.67 Q2046.76 1386.73 2044.82 1385.14 Q2042.9 1383.52 2039.4 1383.52 Q2037.18 1383.52 2035.07 1384.05 Q2032.97 1384.58 2031.02 1385.65 L2031.02 1381.71 Q2033.36 1380.81 2035.56 1380.37 Q2037.76 1379.9 2039.84 1379.9 Q2045.47 1379.9 2048.24 1382.82 Q2051.02 1385.74 2051.02 1391.66 Z\" fill=\"#000000\" fill-rule=\"nonzero\" fill-opacity=\"1\" /><path clip-path=\"url(#clip260)\" d=\"M2059.79 1370.44 L2064.05 1370.44 L2064.05 1406.46 L2059.79 1406.46 L2059.79 1370.44 Z\" fill=\"#000000\" fill-rule=\"nonzero\" fill-opacity=\"1\" /></svg>\n"
      ]
     },
     "execution_count": 4,
     "metadata": {},
     "output_type": "execute_result"
    }
   ],
   "source": [
    "trajectories = reduce(hcat,y)'\n",
    "plot(trajectories[:,1], label=\"naive_policy\", title = \"position\", color = \"orange\")\n",
    "plot!(0.5 * ones(N), color = \"black\", linestyle=:dash, label = \"goal\")"
   ]
  },
  {
   "cell_type": "code",
   "execution_count": 5,
   "metadata": {},
   "outputs": [
    {
     "data": {
      "text/html": [
       "<img src=\"data:image/gif;base64,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\" />"
      ],
      "text/plain": [
       "Plots.AnimatedGif(\"/Users/pol/git/bertdv/BMLIP/lessons/notebooks/ai_agent/ MountainCar_active_inference.gif\")"
      ]
     },
     "execution_count": 5,
     "metadata": {},
     "output_type": "execute_result"
    }
   ],
   "source": [
    "T = 25 # Time horizon (Lookahead)\n",
    "(execute, observe)  = initializeWorld() # Let there be a world\n",
    "(infer, act, slide) = initializeAgent(T) # Let there be an agent\n",
    "\n",
    "# Step through experimental protocol\n",
    "a2 = Vector{Float64}(undef, N) # Actions\n",
    "y2 = Vector{Vector{Float64}}(undef, N) # Observations\n",
    "for n in 1:N\n",
    "    a2[n] = act() # Evoke an action from the agent\n",
    "    execute(a2[n]) # The action influences hidden external states\n",
    "    y2[n] = observe() # Observe the current environmental outcome (update p)\n",
    "    infer(a2[n], y2[n]) # Infer beliefs from current model state (update q)\n",
    "    slide() # Prepare for next iteration\n",
    "end\n",
    "plot_car(y2,\"MountainCar_active_inference\")"
   ]
  },
  {
   "cell_type": "code",
   "execution_count": 6,
   "metadata": {},
   "outputs": [
    {
     "data": {
      "image/svg+xml": [
       "<?xml version=\"1.0\" encoding=\"utf-8\"?>\n",
       "<svg xmlns=\"http://www.w3.org/2000/svg\" xmlns:xlink=\"http://www.w3.org/1999/xlink\" width=\"600\" height=\"400\" viewBox=\"0 0 2400 1600\">\n",
       "<defs>\n",
       "  <clipPath id=\"clip700\">\n",
       "    <rect x=\"0\" y=\"0\" width=\"2400\" height=\"1600\"/>\n",
       "  </clipPath>\n",
       "</defs>\n",
       "<path clip-path=\"url(#clip700)\" d=\"M0 1600 L2400 1600 L2400 0 L0 0  Z\" fill=\"#ffffff\" fill-rule=\"evenodd\" fill-opacity=\"1\"/>\n",
       "<defs>\n",
       "  <clipPath id=\"clip701\">\n",
       "    <rect x=\"480\" y=\"0\" width=\"1681\" height=\"1600\"/>\n",
       "  </clipPath>\n",
       "</defs>\n",
       "<path clip-path=\"url(#clip700)\" d=\"M194.422 686.448 L2352.76 686.448 L2352.76 123.472 L194.422 123.472  Z\" fill=\"#ffffff\" fill-rule=\"evenodd\" fill-opacity=\"1\"/>\n",
       "<defs>\n",
       "  <clipPath id=\"clip702\">\n",
       "    <rect x=\"194\" y=\"123\" width=\"2159\" height=\"564\"/>\n",
       "  </clipPath>\n",
       "</defs>\n",
       "<polyline clip-path=\"url(#clip702)\" style=\"stroke:#000000; stroke-linecap:round; stroke-linejoin:round; stroke-width:2; stroke-opacity:0.1; fill:none\" points=\"203.298,686.448 203.298,123.472 \"/>\n",
       "<polyline clip-path=\"url(#clip702)\" style=\"stroke:#000000; stroke-linecap:round; stroke-linejoin:round; stroke-width:2; stroke-opacity:0.1; fill:none\" points=\"725.391,686.448 725.391,123.472 \"/>\n",
       "<polyline clip-path=\"url(#clip702)\" style=\"stroke:#000000; stroke-linecap:round; stroke-linejoin:round; stroke-width:2; stroke-opacity:0.1; fill:none\" points=\"1247.48,686.448 1247.48,123.472 \"/>\n",
       "<polyline clip-path=\"url(#clip702)\" style=\"stroke:#000000; stroke-linecap:round; stroke-linejoin:round; stroke-width:2; stroke-opacity:0.1; fill:none\" points=\"1769.58,686.448 1769.58,123.472 \"/>\n",
       "<polyline clip-path=\"url(#clip702)\" style=\"stroke:#000000; stroke-linecap:round; stroke-linejoin:round; stroke-width:2; stroke-opacity:0.1; fill:none\" points=\"2291.67,686.448 2291.67,123.472 \"/>\n",
       "<polyline clip-path=\"url(#clip700)\" style=\"stroke:#000000; stroke-linecap:round; stroke-linejoin:round; stroke-width:4; stroke-opacity:1; fill:none\" points=\"194.422,686.448 2352.76,686.448 \"/>\n",
       "<polyline clip-path=\"url(#clip700)\" style=\"stroke:#000000; stroke-linecap:round; stroke-linejoin:round; stroke-width:4; stroke-opacity:1; fill:none\" points=\"203.298,686.448 203.298,667.55 \"/>\n",
       "<polyline clip-path=\"url(#clip700)\" style=\"stroke:#000000; stroke-linecap:round; stroke-linejoin:round; stroke-width:4; stroke-opacity:1; fill:none\" points=\"725.391,686.448 725.391,667.55 \"/>\n",
       "<polyline clip-path=\"url(#clip700)\" style=\"stroke:#000000; stroke-linecap:round; stroke-linejoin:round; stroke-width:4; stroke-opacity:1; fill:none\" points=\"1247.48,686.448 1247.48,667.55 \"/>\n",
       "<polyline clip-path=\"url(#clip700)\" style=\"stroke:#000000; stroke-linecap:round; stroke-linejoin:round; stroke-width:4; stroke-opacity:1; fill:none\" points=\"1769.58,686.448 1769.58,667.55 \"/>\n",
       "<polyline clip-path=\"url(#clip700)\" style=\"stroke:#000000; stroke-linecap:round; stroke-linejoin:round; stroke-width:4; stroke-opacity:1; fill:none\" points=\"2291.67,686.448 2291.67,667.55 \"/>\n",
       "<path clip-path=\"url(#clip700)\" d=\"M203.298 717.367 Q199.687 717.367 197.858 720.931 Q196.052 724.473 196.052 731.603 Q196.052 738.709 197.858 742.274 Q199.687 745.815 203.298 745.815 Q206.932 745.815 208.737 742.274 Q210.566 738.709 210.566 731.603 Q210.566 724.473 208.737 720.931 Q206.932 717.367 203.298 717.367 M203.298 713.663 Q209.108 713.663 212.163 718.269 Q215.242 722.853 215.242 731.603 Q215.242 740.329 212.163 744.936 Q209.108 749.519 203.298 749.519 Q197.488 749.519 194.409 744.936 Q191.353 740.329 191.353 731.603 Q191.353 722.853 194.409 718.269 Q197.488 713.663 203.298 713.663 Z\" fill=\"#000000\" fill-rule=\"nonzero\" fill-opacity=\"1\" /><path clip-path=\"url(#clip700)\" d=\"M700.079 744.913 L707.717 744.913 L707.717 718.547 L699.407 720.214 L699.407 715.955 L707.671 714.288 L712.347 714.288 L712.347 744.913 L719.986 744.913 L719.986 748.848 L700.079 748.848 L700.079 744.913 Z\" fill=\"#000000\" fill-rule=\"nonzero\" fill-opacity=\"1\" /><path clip-path=\"url(#clip700)\" d=\"M739.43 717.367 Q735.819 717.367 733.991 720.931 Q732.185 724.473 732.185 731.603 Q732.185 738.709 733.991 742.274 Q735.819 745.815 739.43 745.815 Q743.065 745.815 744.87 742.274 Q746.699 738.709 746.699 731.603 Q746.699 724.473 744.87 720.931 Q743.065 717.367 739.43 717.367 M739.43 713.663 Q745.24 713.663 748.296 718.269 Q751.375 722.853 751.375 731.603 Q751.375 740.329 748.296 744.936 Q745.24 749.519 739.43 749.519 Q733.62 749.519 730.541 744.936 Q727.486 740.329 727.486 731.603 Q727.486 722.853 730.541 718.269 Q733.62 713.663 739.43 713.663 Z\" fill=\"#000000\" fill-rule=\"nonzero\" fill-opacity=\"1\" /><path clip-path=\"url(#clip700)\" d=\"M1226.26 744.913 L1242.58 744.913 L1242.58 748.848 L1220.63 748.848 L1220.63 744.913 Q1223.29 742.158 1227.88 737.528 Q1232.48 732.876 1233.66 731.533 Q1235.91 729.01 1236.79 727.274 Q1237.69 725.515 1237.69 723.825 Q1237.69 721.07 1235.75 719.334 Q1233.83 717.598 1230.73 717.598 Q1228.53 717.598 1226.07 718.362 Q1223.64 719.126 1220.86 720.677 L1220.86 715.955 Q1223.69 714.82 1226.14 714.242 Q1228.6 713.663 1230.63 713.663 Q1236 713.663 1239.2 716.348 Q1242.39 719.033 1242.39 723.524 Q1242.39 725.654 1241.58 727.575 Q1240.79 729.473 1238.69 732.066 Q1238.11 732.737 1235.01 735.954 Q1231.91 739.149 1226.26 744.913 Z\" fill=\"#000000\" fill-rule=\"nonzero\" fill-opacity=\"1\" /><path clip-path=\"url(#clip700)\" d=\"M1262.39 717.367 Q1258.78 717.367 1256.95 720.931 Q1255.15 724.473 1255.15 731.603 Q1255.15 738.709 1256.95 742.274 Q1258.78 745.815 1262.39 745.815 Q1266.03 745.815 1267.83 742.274 Q1269.66 738.709 1269.66 731.603 Q1269.66 724.473 1267.83 720.931 Q1266.03 717.367 1262.39 717.367 M1262.39 713.663 Q1268.2 713.663 1271.26 718.269 Q1274.34 722.853 1274.34 731.603 Q1274.34 740.329 1271.26 744.936 Q1268.2 749.519 1262.39 749.519 Q1256.58 749.519 1253.5 744.936 Q1250.45 740.329 1250.45 731.603 Q1250.45 722.853 1253.5 718.269 Q1256.58 713.663 1262.39 713.663 Z\" fill=\"#000000\" fill-rule=\"nonzero\" fill-opacity=\"1\" /><path clip-path=\"url(#clip700)\" d=\"M1758.42 730.214 Q1761.78 730.931 1763.65 733.2 Q1765.55 735.468 1765.55 738.802 Q1765.55 743.917 1762.03 746.718 Q1758.51 749.519 1752.03 749.519 Q1749.86 749.519 1747.54 749.079 Q1745.25 748.663 1742.8 747.806 L1742.8 743.292 Q1744.74 744.427 1747.05 745.005 Q1749.37 745.584 1751.89 745.584 Q1756.29 745.584 1758.58 743.848 Q1760.9 742.112 1760.9 738.802 Q1760.9 735.746 1758.74 734.033 Q1756.61 732.297 1752.8 732.297 L1748.77 732.297 L1748.77 728.454 L1752.98 728.454 Q1756.43 728.454 1758.26 727.089 Q1760.09 725.7 1760.09 723.107 Q1760.09 720.445 1758.19 719.033 Q1756.31 717.598 1752.8 717.598 Q1750.87 717.598 1748.67 718.015 Q1746.48 718.431 1743.84 719.311 L1743.84 715.144 Q1746.5 714.404 1748.81 714.033 Q1751.15 713.663 1753.21 713.663 Q1758.54 713.663 1761.64 716.093 Q1764.74 718.501 1764.74 722.621 Q1764.74 725.492 1763.1 727.482 Q1761.45 729.45 1758.42 730.214 Z\" fill=\"#000000\" fill-rule=\"nonzero\" fill-opacity=\"1\" /><path clip-path=\"url(#clip700)\" d=\"M1784.42 717.367 Q1780.8 717.367 1778.98 720.931 Q1777.17 724.473 1777.17 731.603 Q1777.17 738.709 1778.98 742.274 Q1780.8 745.815 1784.42 745.815 Q1788.05 745.815 1789.86 742.274 Q1791.68 738.709 1791.68 731.603 Q1791.68 724.473 1789.86 720.931 Q1788.05 717.367 1784.42 717.367 M1784.42 713.663 Q1790.23 713.663 1793.28 718.269 Q1796.36 722.853 1796.36 731.603 Q1796.36 740.329 1793.28 744.936 Q1790.23 749.519 1784.42 749.519 Q1778.61 749.519 1775.53 744.936 Q1772.47 740.329 1772.47 731.603 Q1772.47 722.853 1775.53 718.269 Q1778.61 713.663 1784.42 713.663 Z\" fill=\"#000000\" fill-rule=\"nonzero\" fill-opacity=\"1\" /><path clip-path=\"url(#clip700)\" d=\"M2279.84 718.362 L2268.04 736.811 L2279.84 736.811 L2279.84 718.362 M2278.62 714.288 L2284.5 714.288 L2284.5 736.811 L2289.43 736.811 L2289.43 740.7 L2284.5 740.7 L2284.5 748.848 L2279.84 748.848 L2279.84 740.7 L2264.24 740.7 L2264.24 736.186 L2278.62 714.288 Z\" fill=\"#000000\" fill-rule=\"nonzero\" fill-opacity=\"1\" /><path clip-path=\"url(#clip700)\" d=\"M2307.16 717.367 Q2303.55 717.367 2301.72 720.931 Q2299.91 724.473 2299.91 731.603 Q2299.91 738.709 2301.72 742.274 Q2303.55 745.815 2307.16 745.815 Q2310.79 745.815 2312.6 742.274 Q2314.43 738.709 2314.43 731.603 Q2314.43 724.473 2312.6 720.931 Q2310.79 717.367 2307.16 717.367 M2307.16 713.663 Q2312.97 713.663 2316.02 718.269 Q2319.1 722.853 2319.1 731.603 Q2319.1 740.329 2316.02 744.936 Q2312.97 749.519 2307.16 749.519 Q2301.35 749.519 2298.27 744.936 Q2295.21 740.329 2295.21 731.603 Q2295.21 722.853 2298.27 718.269 Q2301.35 713.663 2307.16 713.663 Z\" fill=\"#000000\" fill-rule=\"nonzero\" fill-opacity=\"1\" /><polyline clip-path=\"url(#clip702)\" style=\"stroke:#000000; stroke-linecap:round; stroke-linejoin:round; stroke-width:2; stroke-opacity:0.1; fill:none\" points=\"194.422,643.504 2352.76,643.504 \"/>\n",
       "<polyline clip-path=\"url(#clip702)\" style=\"stroke:#000000; stroke-linecap:round; stroke-linejoin:round; stroke-width:2; stroke-opacity:0.1; fill:none\" points=\"194.422,567.205 2352.76,567.205 \"/>\n",
       "<polyline clip-path=\"url(#clip702)\" style=\"stroke:#000000; stroke-linecap:round; stroke-linejoin:round; stroke-width:2; stroke-opacity:0.1; fill:none\" points=\"194.422,490.906 2352.76,490.906 \"/>\n",
       "<polyline clip-path=\"url(#clip702)\" style=\"stroke:#000000; stroke-linecap:round; stroke-linejoin:round; stroke-width:2; stroke-opacity:0.1; fill:none\" points=\"194.422,414.607 2352.76,414.607 \"/>\n",
       "<polyline clip-path=\"url(#clip702)\" style=\"stroke:#000000; stroke-linecap:round; stroke-linejoin:round; stroke-width:2; stroke-opacity:0.1; fill:none\" points=\"194.422,338.309 2352.76,338.309 \"/>\n",
       "<polyline clip-path=\"url(#clip702)\" style=\"stroke:#000000; stroke-linecap:round; stroke-linejoin:round; stroke-width:2; stroke-opacity:0.1; fill:none\" points=\"194.422,262.01 2352.76,262.01 \"/>\n",
       "<polyline clip-path=\"url(#clip702)\" style=\"stroke:#000000; stroke-linecap:round; stroke-linejoin:round; stroke-width:2; stroke-opacity:0.1; fill:none\" points=\"194.422,185.711 2352.76,185.711 \"/>\n",
       "<polyline clip-path=\"url(#clip700)\" style=\"stroke:#000000; stroke-linecap:round; stroke-linejoin:round; stroke-width:4; stroke-opacity:1; fill:none\" points=\"194.422,686.448 194.422,123.472 \"/>\n",
       "<polyline clip-path=\"url(#clip700)\" style=\"stroke:#000000; stroke-linecap:round; stroke-linejoin:round; stroke-width:4; stroke-opacity:1; fill:none\" points=\"194.422,643.504 213.32,643.504 \"/>\n",
       "<polyline clip-path=\"url(#clip700)\" style=\"stroke:#000000; stroke-linecap:round; stroke-linejoin:round; stroke-width:4; stroke-opacity:1; fill:none\" points=\"194.422,567.205 213.32,567.205 \"/>\n",
       "<polyline clip-path=\"url(#clip700)\" style=\"stroke:#000000; stroke-linecap:round; stroke-linejoin:round; stroke-width:4; stroke-opacity:1; fill:none\" points=\"194.422,490.906 213.32,490.906 \"/>\n",
       "<polyline clip-path=\"url(#clip700)\" style=\"stroke:#000000; stroke-linecap:round; stroke-linejoin:round; stroke-width:4; stroke-opacity:1; fill:none\" points=\"194.422,414.607 213.32,414.607 \"/>\n",
       "<polyline clip-path=\"url(#clip700)\" style=\"stroke:#000000; stroke-linecap:round; stroke-linejoin:round; stroke-width:4; stroke-opacity:1; fill:none\" points=\"194.422,338.309 213.32,338.309 \"/>\n",
       "<polyline clip-path=\"url(#clip700)\" style=\"stroke:#000000; stroke-linecap:round; stroke-linejoin:round; stroke-width:4; stroke-opacity:1; fill:none\" points=\"194.422,262.01 213.32,262.01 \"/>\n",
       "<polyline clip-path=\"url(#clip700)\" style=\"stroke:#000000; stroke-linecap:round; stroke-linejoin:round; stroke-width:4; stroke-opacity:1; fill:none\" points=\"194.422,185.711 213.32,185.711 \"/>\n",
       "<path clip-path=\"url(#clip700)\" d=\"M51.5708 643.956 L81.2466 643.956 L81.2466 647.891 L51.5708 647.891 L51.5708 643.956 Z\" fill=\"#000000\" fill-rule=\"nonzero\" fill-opacity=\"1\" /><path clip-path=\"url(#clip700)\" d=\"M101.339 629.303 Q97.728 629.303 95.8993 632.868 Q94.0937 636.409 94.0937 643.539 Q94.0937 650.645 95.8993 654.21 Q97.728 657.752 101.339 657.752 Q104.973 657.752 106.779 654.21 Q108.608 650.645 108.608 643.539 Q108.608 636.409 106.779 632.868 Q104.973 629.303 101.339 629.303 M101.339 625.599 Q107.149 625.599 110.205 630.206 Q113.283 634.789 113.283 643.539 Q113.283 652.266 110.205 656.872 Q107.149 661.455 101.339 661.455 Q95.5289 661.455 92.4502 656.872 Q89.3947 652.266 89.3947 643.539 Q89.3947 634.789 92.4502 630.206 Q95.5289 625.599 101.339 625.599 Z\" fill=\"#000000\" fill-rule=\"nonzero\" fill-opacity=\"1\" /><path clip-path=\"url(#clip700)\" d=\"M121.501 654.905 L126.385 654.905 L126.385 660.784 L121.501 660.784 L121.501 654.905 Z\" fill=\"#000000\" fill-rule=\"nonzero\" fill-opacity=\"1\" /><path clip-path=\"url(#clip700)\" d=\"M146.57 644.372 Q143.237 644.372 141.316 646.155 Q139.418 647.937 139.418 651.062 Q139.418 654.187 141.316 655.969 Q143.237 657.752 146.57 657.752 Q149.904 657.752 151.825 655.969 Q153.746 654.164 153.746 651.062 Q153.746 647.937 151.825 646.155 Q149.927 644.372 146.57 644.372 M141.894 642.381 Q138.885 641.641 137.195 639.581 Q135.529 637.52 135.529 634.557 Q135.529 630.414 138.469 628.007 Q141.431 625.599 146.57 625.599 Q151.732 625.599 154.672 628.007 Q157.612 630.414 157.612 634.557 Q157.612 637.52 155.922 639.581 Q154.255 641.641 151.269 642.381 Q154.649 643.168 156.524 645.46 Q158.422 647.752 158.422 651.062 Q158.422 656.085 155.343 658.77 Q152.288 661.455 146.57 661.455 Q140.853 661.455 137.774 658.77 Q134.719 656.085 134.719 651.062 Q134.719 647.752 136.617 645.46 Q138.515 643.168 141.894 642.381 M140.181 634.997 Q140.181 637.682 141.848 639.187 Q143.538 640.692 146.57 640.692 Q149.58 640.692 151.269 639.187 Q152.982 637.682 152.982 634.997 Q152.982 632.312 151.269 630.807 Q149.58 629.303 146.57 629.303 Q143.538 629.303 141.848 630.807 Q140.181 632.312 140.181 634.997 Z\" fill=\"#000000\" fill-rule=\"nonzero\" fill-opacity=\"1\" /><path clip-path=\"url(#clip700)\" d=\"M51.3162 567.657 L80.992 567.657 L80.992 571.592 L51.3162 571.592 L51.3162 567.657 Z\" fill=\"#000000\" fill-rule=\"nonzero\" fill-opacity=\"1\" /><path clip-path=\"url(#clip700)\" d=\"M101.084 553.004 Q97.4734 553.004 95.6447 556.569 Q93.8391 560.11 93.8391 567.24 Q93.8391 574.346 95.6447 577.911 Q97.4734 581.453 101.084 581.453 Q104.719 581.453 106.524 577.911 Q108.353 574.346 108.353 567.24 Q108.353 560.11 106.524 556.569 Q104.719 553.004 101.084 553.004 M101.084 549.3 Q106.895 549.3 109.95 553.907 Q113.029 558.49 113.029 567.24 Q113.029 575.967 109.95 580.573 Q106.895 585.157 101.084 585.157 Q95.2743 585.157 92.1956 580.573 Q89.1401 575.967 89.1401 567.24 Q89.1401 558.49 92.1956 553.907 Q95.2743 549.3 101.084 549.3 Z\" fill=\"#000000\" fill-rule=\"nonzero\" fill-opacity=\"1\" /><path clip-path=\"url(#clip700)\" d=\"M121.246 578.606 L126.131 578.606 L126.131 584.485 L121.246 584.485 L121.246 578.606 Z\" fill=\"#000000\" fill-rule=\"nonzero\" fill-opacity=\"1\" /><path clip-path=\"url(#clip700)\" d=\"M146.894 565.342 Q143.746 565.342 141.894 567.495 Q140.066 569.647 140.066 573.397 Q140.066 577.124 141.894 579.3 Q143.746 581.453 146.894 581.453 Q150.043 581.453 151.871 579.3 Q153.723 577.124 153.723 573.397 Q153.723 569.647 151.871 567.495 Q150.043 565.342 146.894 565.342 M156.177 550.689 L156.177 554.948 Q154.417 554.115 152.612 553.675 Q150.83 553.235 149.07 553.235 Q144.441 553.235 141.987 556.36 Q139.556 559.485 139.209 565.805 Q140.575 563.791 142.635 562.726 Q144.695 561.638 147.172 561.638 Q152.38 561.638 155.39 564.809 Q158.422 567.958 158.422 573.397 Q158.422 578.721 155.274 581.939 Q152.126 585.157 146.894 585.157 Q140.899 585.157 137.728 580.573 Q134.556 575.967 134.556 567.24 Q134.556 559.046 138.445 554.184 Q142.334 549.3 148.885 549.3 Q150.644 549.3 152.427 549.647 Q154.232 549.995 156.177 550.689 Z\" fill=\"#000000\" fill-rule=\"nonzero\" fill-opacity=\"1\" /><path clip-path=\"url(#clip700)\" d=\"M50.9921 491.358 L80.6679 491.358 L80.6679 495.293 L50.9921 495.293 L50.9921 491.358 Z\" fill=\"#000000\" fill-rule=\"nonzero\" fill-opacity=\"1\" /><path clip-path=\"url(#clip700)\" d=\"M100.76 476.705 Q97.1493 476.705 95.3206 480.27 Q93.515 483.811 93.515 490.941 Q93.515 498.047 95.3206 501.612 Q97.1493 505.154 100.76 505.154 Q104.395 505.154 106.2 501.612 Q108.029 498.047 108.029 490.941 Q108.029 483.811 106.2 480.27 Q104.395 476.705 100.76 476.705 M100.76 473.001 Q106.571 473.001 109.626 477.608 Q112.705 482.191 112.705 490.941 Q112.705 499.668 109.626 504.274 Q106.571 508.858 100.76 508.858 Q94.9502 508.858 91.8715 504.274 Q88.816 499.668 88.816 490.941 Q88.816 482.191 91.8715 477.608 Q94.9502 473.001 100.76 473.001 Z\" fill=\"#000000\" fill-rule=\"nonzero\" fill-opacity=\"1\" /><path clip-path=\"url(#clip700)\" d=\"M120.922 502.307 L125.807 502.307 L125.807 508.186 L120.922 508.186 L120.922 502.307 Z\" fill=\"#000000\" fill-rule=\"nonzero\" fill-opacity=\"1\" /><path clip-path=\"url(#clip700)\" d=\"M148.839 477.7 L137.033 496.149 L148.839 496.149 L148.839 477.7 M147.612 473.626 L153.492 473.626 L153.492 496.149 L158.422 496.149 L158.422 500.038 L153.492 500.038 L153.492 508.186 L148.839 508.186 L148.839 500.038 L133.237 500.038 L133.237 495.524 L147.612 473.626 Z\" fill=\"#000000\" fill-rule=\"nonzero\" fill-opacity=\"1\" /><path clip-path=\"url(#clip700)\" d=\"M53.0754 415.059 L82.7512 415.059 L82.7512 418.994 L53.0754 418.994 L53.0754 415.059 Z\" fill=\"#000000\" fill-rule=\"nonzero\" fill-opacity=\"1\" /><path clip-path=\"url(#clip700)\" d=\"M102.844 400.406 Q99.2326 400.406 97.4039 403.971 Q95.5984 407.513 95.5984 414.642 Q95.5984 421.749 97.4039 425.313 Q99.2326 428.855 102.844 428.855 Q106.478 428.855 108.283 425.313 Q110.112 421.749 110.112 414.642 Q110.112 407.513 108.283 403.971 Q106.478 400.406 102.844 400.406 M102.844 396.702 Q108.654 396.702 111.709 401.309 Q114.788 405.892 114.788 414.642 Q114.788 423.369 111.709 427.975 Q108.654 432.559 102.844 432.559 Q97.0335 432.559 93.9549 427.975 Q90.8993 423.369 90.8993 414.642 Q90.8993 405.892 93.9549 401.309 Q97.0335 396.702 102.844 396.702 Z\" fill=\"#000000\" fill-rule=\"nonzero\" fill-opacity=\"1\" /><path clip-path=\"url(#clip700)\" d=\"M123.006 426.008 L127.89 426.008 L127.89 431.887 L123.006 431.887 L123.006 426.008 Z\" fill=\"#000000\" fill-rule=\"nonzero\" fill-opacity=\"1\" /><path clip-path=\"url(#clip700)\" d=\"M142.103 427.952 L158.422 427.952 L158.422 431.887 L136.478 431.887 L136.478 427.952 Q139.14 425.198 143.723 420.568 Q148.33 415.915 149.51 414.573 Q151.755 412.05 152.635 410.313 Q153.538 408.554 153.538 406.864 Q153.538 404.11 151.593 402.374 Q149.672 400.638 146.57 400.638 Q144.371 400.638 141.918 401.401 Q139.487 402.165 136.709 403.716 L136.709 398.994 Q139.533 397.86 141.987 397.281 Q144.441 396.702 146.478 396.702 Q151.848 396.702 155.042 399.388 Q158.237 402.073 158.237 406.563 Q158.237 408.693 157.427 410.614 Q156.64 412.513 154.533 415.105 Q153.955 415.776 150.853 418.994 Q147.751 422.188 142.103 427.952 Z\" fill=\"#000000\" fill-rule=\"nonzero\" fill-opacity=\"1\" /><path clip-path=\"url(#clip700)\" d=\"M101.246 324.107 Q97.6354 324.107 95.8067 327.672 Q94.0012 331.214 94.0012 338.343 Q94.0012 345.45 95.8067 349.014 Q97.6354 352.556 101.246 352.556 Q104.881 352.556 106.686 349.014 Q108.515 345.45 108.515 338.343 Q108.515 331.214 106.686 327.672 Q104.881 324.107 101.246 324.107 M101.246 320.404 Q107.057 320.404 110.112 325.01 Q113.191 329.593 113.191 338.343 Q113.191 347.07 110.112 351.677 Q107.057 356.26 101.246 356.26 Q95.4363 356.26 92.3576 351.677 Q89.3021 347.07 89.3021 338.343 Q89.3021 329.593 92.3576 325.01 Q95.4363 320.404 101.246 320.404 Z\" fill=\"#000000\" fill-rule=\"nonzero\" fill-opacity=\"1\" /><path clip-path=\"url(#clip700)\" d=\"M121.408 349.709 L126.293 349.709 L126.293 355.589 L121.408 355.589 L121.408 349.709 Z\" fill=\"#000000\" fill-rule=\"nonzero\" fill-opacity=\"1\" /><path clip-path=\"url(#clip700)\" d=\"M146.478 324.107 Q142.867 324.107 141.038 327.672 Q139.232 331.214 139.232 338.343 Q139.232 345.45 141.038 349.014 Q142.867 352.556 146.478 352.556 Q150.112 352.556 151.918 349.014 Q153.746 345.45 153.746 338.343 Q153.746 331.214 151.918 327.672 Q150.112 324.107 146.478 324.107 M146.478 320.404 Q152.288 320.404 155.343 325.01 Q158.422 329.593 158.422 338.343 Q158.422 347.07 155.343 351.677 Q152.288 356.26 146.478 356.26 Q140.668 356.26 137.589 351.677 Q134.533 347.07 134.533 338.343 Q134.533 329.593 137.589 325.01 Q140.668 320.404 146.478 320.404 Z\" fill=\"#000000\" fill-rule=\"nonzero\" fill-opacity=\"1\" /><path clip-path=\"url(#clip700)\" d=\"M102.844 247.808 Q99.2326 247.808 97.4039 251.373 Q95.5984 254.915 95.5984 262.044 Q95.5984 269.151 97.4039 272.716 Q99.2326 276.257 102.844 276.257 Q106.478 276.257 108.283 272.716 Q110.112 269.151 110.112 262.044 Q110.112 254.915 108.283 251.373 Q106.478 247.808 102.844 247.808 M102.844 244.105 Q108.654 244.105 111.709 248.711 Q114.788 253.294 114.788 262.044 Q114.788 270.771 111.709 275.378 Q108.654 279.961 102.844 279.961 Q97.0335 279.961 93.9549 275.378 Q90.8993 270.771 90.8993 262.044 Q90.8993 253.294 93.9549 248.711 Q97.0335 244.105 102.844 244.105 Z\" fill=\"#000000\" fill-rule=\"nonzero\" fill-opacity=\"1\" /><path clip-path=\"url(#clip700)\" d=\"M123.006 273.41 L127.89 273.41 L127.89 279.29 L123.006 279.29 L123.006 273.41 Z\" fill=\"#000000\" fill-rule=\"nonzero\" fill-opacity=\"1\" /><path clip-path=\"url(#clip700)\" d=\"M142.103 275.354 L158.422 275.354 L158.422 279.29 L136.478 279.29 L136.478 275.354 Q139.14 272.6 143.723 267.97 Q148.33 263.317 149.51 261.975 Q151.755 259.452 152.635 257.716 Q153.538 255.956 153.538 254.267 Q153.538 251.512 151.593 249.776 Q149.672 248.04 146.57 248.04 Q144.371 248.04 141.918 248.804 Q139.487 249.568 136.709 251.118 L136.709 246.396 Q139.533 245.262 141.987 244.683 Q144.441 244.105 146.478 244.105 Q151.848 244.105 155.042 246.79 Q158.237 249.475 158.237 253.966 Q158.237 256.095 157.427 258.017 Q156.64 259.915 154.533 262.507 Q153.955 263.179 150.853 266.396 Q147.751 269.591 142.103 275.354 Z\" fill=\"#000000\" fill-rule=\"nonzero\" fill-opacity=\"1\" /><path clip-path=\"url(#clip700)\" d=\"M100.76 171.509 Q97.1493 171.509 95.3206 175.074 Q93.515 178.616 93.515 185.745 Q93.515 192.852 95.3206 196.417 Q97.1493 199.958 100.76 199.958 Q104.395 199.958 106.2 196.417 Q108.029 192.852 108.029 185.745 Q108.029 178.616 106.2 175.074 Q104.395 171.509 100.76 171.509 M100.76 167.806 Q106.571 167.806 109.626 172.412 Q112.705 176.996 112.705 185.745 Q112.705 194.472 109.626 199.079 Q106.571 203.662 100.76 203.662 Q94.9502 203.662 91.8715 199.079 Q88.816 194.472 88.816 185.745 Q88.816 176.996 91.8715 172.412 Q94.9502 167.806 100.76 167.806 Z\" fill=\"#000000\" fill-rule=\"nonzero\" fill-opacity=\"1\" /><path clip-path=\"url(#clip700)\" d=\"M120.922 197.111 L125.807 197.111 L125.807 202.991 L120.922 202.991 L120.922 197.111 Z\" fill=\"#000000\" fill-rule=\"nonzero\" fill-opacity=\"1\" /><path clip-path=\"url(#clip700)\" d=\"M148.839 172.505 L137.033 190.954 L148.839 190.954 L148.839 172.505 M147.612 168.431 L153.492 168.431 L153.492 190.954 L158.422 190.954 L158.422 194.843 L153.492 194.843 L153.492 202.991 L148.839 202.991 L148.839 194.843 L133.237 194.843 L133.237 190.329 L147.612 168.431 Z\" fill=\"#000000\" fill-rule=\"nonzero\" fill-opacity=\"1\" /><path clip-path=\"url(#clip700)\" d=\"M1124.07 65.7705 L1124.07 89.8329 L1116.58 89.8329 L1116.58 27.2059 L1124.07 27.2059 L1124.07 34.0924 Q1126.42 30.0415 1129.98 28.0971 Q1133.59 26.1121 1138.57 26.1121 Q1146.84 26.1121 1151.98 32.6746 Q1157.17 39.2371 1157.17 49.9314 Q1157.17 60.6258 1151.98 67.1883 Q1146.84 73.7508 1138.57 73.7508 Q1133.59 73.7508 1129.98 71.8063 Q1126.42 69.8214 1124.07 65.7705 M1149.43 49.9314 Q1149.43 41.7081 1146.03 37.0496 Q1142.66 32.3505 1136.75 32.3505 Q1130.84 32.3505 1127.43 37.0496 Q1124.07 41.7081 1124.07 49.9314 Q1124.07 58.1548 1127.43 62.8538 Q1130.84 67.5124 1136.75 67.5124 Q1142.66 67.5124 1146.03 62.8538 Q1149.43 58.1548 1149.43 49.9314 Z\" fill=\"#000000\" fill-rule=\"nonzero\" fill-opacity=\"1\" /><path clip-path=\"url(#clip700)\" d=\"M1187.1 32.4315 Q1181.11 32.4315 1177.62 37.1306 Q1174.14 41.7891 1174.14 49.9314 Q1174.14 58.0738 1177.58 62.7728 Q1181.07 67.4314 1187.1 67.4314 Q1193.06 67.4314 1196.54 62.7323 Q1200.02 58.0333 1200.02 49.9314 Q1200.02 41.8701 1196.54 37.1711 Q1193.06 32.4315 1187.1 32.4315 M1187.1 26.1121 Q1196.82 26.1121 1202.37 32.4315 Q1207.92 38.7509 1207.92 49.9314 Q1207.92 61.0714 1202.37 67.4314 Q1196.82 73.7508 1187.1 73.7508 Q1177.34 73.7508 1171.79 67.4314 Q1166.28 61.0714 1166.28 49.9314 Q1166.28 38.7509 1171.79 32.4315 Q1177.34 26.1121 1187.1 26.1121 Z\" fill=\"#000000\" fill-rule=\"nonzero\" fill-opacity=\"1\" /><path clip-path=\"url(#clip700)\" d=\"M1249.2 28.5427 L1249.2 35.5912 Q1246.04 33.9709 1242.64 33.1607 Q1239.24 32.3505 1235.59 32.3505 Q1230.04 32.3505 1227.25 34.0519 Q1224.49 35.7533 1224.49 39.156 Q1224.49 41.7486 1226.48 43.2475 Q1228.46 44.7058 1234.46 46.0426 L1237.01 46.6097 Q1244.95 48.3111 1248.27 51.4303 Q1251.63 54.509 1251.63 60.0587 Q1251.63 66.3781 1246.61 70.0644 Q1241.63 73.7508 1232.88 73.7508 Q1229.23 73.7508 1225.26 73.0216 Q1221.33 72.3329 1216.96 70.9151 L1216.96 63.2184 Q1221.09 65.3654 1225.1 66.4591 Q1229.11 67.5124 1233.04 67.5124 Q1238.31 67.5124 1241.14 65.73 Q1243.98 63.9071 1243.98 60.6258 Q1243.98 57.5877 1241.91 55.9673 Q1239.89 54.3469 1232.96 52.8481 L1230.37 52.2405 Q1223.44 50.7821 1220.36 47.7845 Q1217.28 44.7463 1217.28 39.4801 Q1217.28 33.0797 1221.82 29.5959 Q1226.36 26.1121 1234.7 26.1121 Q1238.83 26.1121 1242.48 26.7198 Q1246.12 27.3274 1249.2 28.5427 Z\" fill=\"#000000\" fill-rule=\"nonzero\" fill-opacity=\"1\" /><path clip-path=\"url(#clip700)\" d=\"M1263.5 27.2059 L1270.96 27.2059 L1270.96 72.576 L1263.5 72.576 L1263.5 27.2059 M1263.5 9.54393 L1270.96 9.54393 L1270.96 18.9825 L1263.5 18.9825 L1263.5 9.54393 Z\" fill=\"#000000\" fill-rule=\"nonzero\" fill-opacity=\"1\" /><path clip-path=\"url(#clip700)\" d=\"M1293.92 14.324 L1293.92 27.2059 L1309.28 27.2059 L1309.28 32.9987 L1293.92 32.9987 L1293.92 57.6282 Q1293.92 63.1779 1295.42 64.7578 Q1296.96 66.3376 1301.62 66.3376 L1309.28 66.3376 L1309.28 72.576 L1301.62 72.576 Q1292.99 72.576 1289.71 69.3758 Q1286.43 66.1351 1286.43 57.6282 L1286.43 32.9987 L1280.96 32.9987 L1280.96 27.2059 L1286.43 27.2059 L1286.43 14.324 L1293.92 14.324 Z\" fill=\"#000000\" fill-rule=\"nonzero\" fill-opacity=\"1\" /><path clip-path=\"url(#clip700)\" d=\"M1319.08 27.2059 L1326.53 27.2059 L1326.53 72.576 L1319.08 72.576 L1319.08 27.2059 M1319.08 9.54393 L1326.53 9.54393 L1326.53 18.9825 L1319.08 18.9825 L1319.08 9.54393 Z\" fill=\"#000000\" fill-rule=\"nonzero\" fill-opacity=\"1\" /><path clip-path=\"url(#clip700)\" d=\"M1359.71 32.4315 Q1353.72 32.4315 1350.23 37.1306 Q1346.75 41.7891 1346.75 49.9314 Q1346.75 58.0738 1350.19 62.7728 Q1353.68 67.4314 1359.71 67.4314 Q1365.67 67.4314 1369.15 62.7323 Q1372.63 58.0333 1372.63 49.9314 Q1372.63 41.8701 1369.15 37.1711 Q1365.67 32.4315 1359.71 32.4315 M1359.71 26.1121 Q1369.43 26.1121 1374.98 32.4315 Q1380.53 38.7509 1380.53 49.9314 Q1380.53 61.0714 1374.98 67.4314 Q1369.43 73.7508 1359.71 73.7508 Q1349.95 73.7508 1344.4 67.4314 Q1338.89 61.0714 1338.89 49.9314 Q1338.89 38.7509 1344.4 32.4315 Q1349.95 26.1121 1359.71 26.1121 Z\" fill=\"#000000\" fill-rule=\"nonzero\" fill-opacity=\"1\" /><path clip-path=\"url(#clip700)\" d=\"M1430.6 45.1919 L1430.6 72.576 L1423.15 72.576 L1423.15 45.4349 Q1423.15 38.994 1420.64 35.7938 Q1418.13 32.5936 1413.1 32.5936 Q1407.07 32.5936 1403.58 36.4419 Q1400.1 40.2903 1400.1 46.9338 L1400.1 72.576 L1392.6 72.576 L1392.6 27.2059 L1400.1 27.2059 L1400.1 34.2544 Q1402.77 30.163 1406.38 28.1376 Q1410.02 26.1121 1414.76 26.1121 Q1422.58 26.1121 1426.59 30.9732 Q1430.6 35.7938 1430.6 45.1919 Z\" fill=\"#000000\" fill-rule=\"nonzero\" fill-opacity=\"1\" /><polyline clip-path=\"url(#clip702)\" style=\"stroke:#ffa500; stroke-linecap:round; stroke-linejoin:round; stroke-width:4; stroke-opacity:1; fill:none\" points=\"255.507,529.056 307.716,528.433 359.926,526.659 412.135,525.098 464.344,519.41 516.554,515.731 568.763,520.019 620.972,529.8 673.182,539.529 725.391,558.657 777.6,583.456 829.81,613.132 882.019,633.72 934.228,654.583 986.438,670.515 1038.65,665.356 1090.86,654.099 1143.07,636.811 1195.28,618.89 1247.48,606.037 1299.69,601.042 1351.9,604.515 1404.11,615.353 1456.32,601.219 1508.53,566.022 1560.74,515.388 1612.95,455.925 1665.16,394.462 1717.37,337.351 1769.58,289.804 1821.79,250.534 1874,218.117 1926.21,191.553 1978.41,170.625 2030.62,155.326 2082.83,145.314 2135.04,140.389 2187.25,139.405 2239.46,141.599 2291.67,146.115 \"/>\n",
       "<polyline clip-path=\"url(#clip702)\" style=\"stroke:#000000; stroke-linecap:round; stroke-linejoin:round; stroke-width:4; stroke-opacity:1; fill:none\" stroke-dasharray=\"16, 10\" points=\"255.507,147.561 307.716,147.561 359.926,147.561 412.135,147.561 464.344,147.561 516.554,147.561 568.763,147.561 620.972,147.561 673.182,147.561 725.391,147.561 777.6,147.561 829.81,147.561 882.019,147.561 934.228,147.561 986.438,147.561 1038.65,147.561 1090.86,147.561 1143.07,147.561 1195.28,147.561 1247.48,147.561 1299.69,147.561 1351.9,147.561 1404.11,147.561 1456.32,147.561 1508.53,147.561 1560.74,147.561 1612.95,147.561 1665.16,147.561 1717.37,147.561 1769.58,147.561 1821.79,147.561 1874,147.561 1926.21,147.561 1978.41,147.561 2030.62,147.561 2082.83,147.561 2135.04,147.561 2187.25,147.561 2239.46,147.561 2291.67,147.561 \"/>\n",
       "<path clip-path=\"url(#clip700)\" d=\"M1970.72 667.682 L2280.81 667.682 L2280.81 512.162 L1970.72 512.162  Z\" fill=\"#ffffff\" fill-rule=\"evenodd\" fill-opacity=\"1\"/>\n",
       "<polyline clip-path=\"url(#clip700)\" style=\"stroke:#000000; stroke-linecap:round; stroke-linejoin:round; stroke-width:4; stroke-opacity:1; fill:none\" points=\"1970.72,667.682 2280.81,667.682 2280.81,512.162 1970.72,512.162 1970.72,667.682 \"/>\n",
       "<polyline clip-path=\"url(#clip700)\" style=\"stroke:#ffa500; stroke-linecap:round; stroke-linejoin:round; stroke-width:4; stroke-opacity:1; fill:none\" points=\"1994.7,564.002 2138.59,564.002 \"/>\n",
       "<path clip-path=\"url(#clip700)\" d=\"M2178.4 551.328 L2172.06 568.527 L2184.77 568.527 L2178.4 551.328 M2175.77 546.722 L2181.07 546.722 L2194.24 581.282 L2189.38 581.282 L2186.23 572.416 L2170.65 572.416 L2167.5 581.282 L2162.57 581.282 L2175.77 546.722 Z\" fill=\"#000000\" fill-rule=\"nonzero\" fill-opacity=\"1\" /><path clip-path=\"url(#clip700)\" d=\"M2199.28 546.722 L2203.96 546.722 L2203.96 581.282 L2199.28 581.282 L2199.28 546.722 Z\" fill=\"#000000\" fill-rule=\"nonzero\" fill-opacity=\"1\" /><path clip-path=\"url(#clip700)\" d=\"M2213.27 546.722 L2233.13 546.722 L2233.13 550.657 L2217.94 550.657 L2217.94 560.842 L2231.64 560.842 L2231.64 564.777 L2217.94 564.777 L2217.94 581.282 L2213.27 581.282 L2213.27 546.722 Z\" fill=\"#000000\" fill-rule=\"nonzero\" fill-opacity=\"1\" /><polyline clip-path=\"url(#clip700)\" style=\"stroke:#000000; stroke-linecap:round; stroke-linejoin:round; stroke-width:4; stroke-opacity:1; fill:none\" stroke-dasharray=\"16, 10\" points=\"1994.7,615.842 2138.59,615.842 \"/>\n",
       "<path clip-path=\"url(#clip700)\" d=\"M2181.48 619.858 Q2181.48 615.229 2179.56 612.682 Q2177.66 610.136 2174.21 610.136 Q2170.79 610.136 2168.87 612.682 Q2166.97 615.229 2166.97 619.858 Q2166.97 624.465 2168.87 627.011 Q2170.79 629.557 2174.21 629.557 Q2177.66 629.557 2179.56 627.011 Q2181.48 624.465 2181.48 619.858 M2185.74 629.904 Q2185.74 636.525 2182.8 639.742 Q2179.86 642.983 2173.8 642.983 Q2171.55 642.983 2169.56 642.636 Q2167.57 642.312 2165.7 641.617 L2165.7 637.474 Q2167.57 638.492 2169.4 638.978 Q2171.23 639.465 2173.13 639.465 Q2177.32 639.465 2179.4 637.266 Q2181.48 635.09 2181.48 630.668 L2181.48 628.562 Q2180.16 630.854 2178.1 631.988 Q2176.04 633.122 2173.17 633.122 Q2168.4 633.122 2165.49 629.488 Q2162.57 625.854 2162.57 619.858 Q2162.57 613.84 2165.49 610.205 Q2168.4 606.571 2173.17 606.571 Q2176.04 606.571 2178.1 607.705 Q2180.16 608.84 2181.48 611.131 L2181.48 607.196 L2185.74 607.196 L2185.74 629.904 Z\" fill=\"#000000\" fill-rule=\"nonzero\" fill-opacity=\"1\" /><path clip-path=\"url(#clip700)\" d=\"M2204.56 610.182 Q2201.14 610.182 2199.15 612.867 Q2197.15 615.53 2197.15 620.182 Q2197.15 624.835 2199.12 627.52 Q2201.11 630.182 2204.56 630.182 Q2207.96 630.182 2209.96 627.497 Q2211.95 624.812 2211.95 620.182 Q2211.95 615.576 2209.96 612.891 Q2207.96 610.182 2204.56 610.182 M2204.56 606.571 Q2210.12 606.571 2213.29 610.182 Q2216.46 613.793 2216.46 620.182 Q2216.46 626.548 2213.29 630.182 Q2210.12 633.793 2204.56 633.793 Q2198.98 633.793 2195.81 630.182 Q2192.66 626.548 2192.66 620.182 Q2192.66 613.793 2195.81 610.182 Q2198.98 606.571 2204.56 606.571 Z\" fill=\"#000000\" fill-rule=\"nonzero\" fill-opacity=\"1\" /><path clip-path=\"url(#clip700)\" d=\"M2235.3 620.09 Q2230.14 620.09 2228.15 621.27 Q2226.16 622.451 2226.16 625.298 Q2226.16 627.566 2227.64 628.909 Q2229.14 630.229 2231.71 630.229 Q2235.26 630.229 2237.39 627.729 Q2239.54 625.205 2239.54 621.039 L2239.54 620.09 L2235.3 620.09 M2243.8 618.33 L2243.8 633.122 L2239.54 633.122 L2239.54 629.187 Q2238.08 631.548 2235.9 632.682 Q2233.73 633.793 2230.58 633.793 Q2226.6 633.793 2224.24 631.571 Q2221.9 629.326 2221.9 625.576 Q2221.9 621.201 2224.82 618.979 Q2227.76 616.756 2233.57 616.756 L2239.54 616.756 L2239.54 616.34 Q2239.54 613.4 2237.59 611.803 Q2235.67 610.182 2232.18 610.182 Q2229.96 610.182 2227.85 610.715 Q2225.74 611.247 2223.8 612.312 L2223.8 608.377 Q2226.14 607.474 2228.33 607.034 Q2230.53 606.571 2232.62 606.571 Q2238.24 606.571 2241.02 609.488 Q2243.8 612.405 2243.8 618.33 Z\" fill=\"#000000\" fill-rule=\"nonzero\" fill-opacity=\"1\" /><path clip-path=\"url(#clip700)\" d=\"M2252.57 597.104 L2256.83 597.104 L2256.83 633.122 L2252.57 633.122 L2252.57 597.104 Z\" fill=\"#000000\" fill-rule=\"nonzero\" fill-opacity=\"1\" /><path clip-path=\"url(#clip700)\" d=\"M194.422 1486.45 L2352.76 1486.45 L2352.76 923.472 L194.422 923.472  Z\" fill=\"#ffffff\" fill-rule=\"evenodd\" fill-opacity=\"1\"/>\n",
       "<defs>\n",
       "  <clipPath id=\"clip703\">\n",
       "    <rect x=\"194\" y=\"923\" width=\"2159\" height=\"564\"/>\n",
       "  </clipPath>\n",
       "</defs>\n",
       "<polyline clip-path=\"url(#clip703)\" style=\"stroke:#000000; stroke-linecap:round; stroke-linejoin:round; stroke-width:2; stroke-opacity:0.1; fill:none\" points=\"203.298,1486.45 203.298,923.472 \"/>\n",
       "<polyline clip-path=\"url(#clip703)\" style=\"stroke:#000000; stroke-linecap:round; stroke-linejoin:round; stroke-width:2; stroke-opacity:0.1; fill:none\" points=\"725.391,1486.45 725.391,923.472 \"/>\n",
       "<polyline clip-path=\"url(#clip703)\" style=\"stroke:#000000; stroke-linecap:round; stroke-linejoin:round; stroke-width:2; stroke-opacity:0.1; fill:none\" points=\"1247.48,1486.45 1247.48,923.472 \"/>\n",
       "<polyline clip-path=\"url(#clip703)\" style=\"stroke:#000000; stroke-linecap:round; stroke-linejoin:round; stroke-width:2; stroke-opacity:0.1; fill:none\" points=\"1769.58,1486.45 1769.58,923.472 \"/>\n",
       "<polyline clip-path=\"url(#clip703)\" style=\"stroke:#000000; stroke-linecap:round; stroke-linejoin:round; stroke-width:2; stroke-opacity:0.1; fill:none\" points=\"2291.67,1486.45 2291.67,923.472 \"/>\n",
       "<polyline clip-path=\"url(#clip700)\" style=\"stroke:#000000; stroke-linecap:round; stroke-linejoin:round; stroke-width:4; stroke-opacity:1; fill:none\" points=\"194.422,1486.45 2352.76,1486.45 \"/>\n",
       "<polyline clip-path=\"url(#clip700)\" style=\"stroke:#000000; stroke-linecap:round; stroke-linejoin:round; stroke-width:4; stroke-opacity:1; fill:none\" points=\"203.298,1486.45 203.298,1467.55 \"/>\n",
       "<polyline clip-path=\"url(#clip700)\" style=\"stroke:#000000; stroke-linecap:round; stroke-linejoin:round; stroke-width:4; stroke-opacity:1; fill:none\" points=\"725.391,1486.45 725.391,1467.55 \"/>\n",
       "<polyline clip-path=\"url(#clip700)\" style=\"stroke:#000000; stroke-linecap:round; stroke-linejoin:round; stroke-width:4; stroke-opacity:1; fill:none\" points=\"1247.48,1486.45 1247.48,1467.55 \"/>\n",
       "<polyline clip-path=\"url(#clip700)\" style=\"stroke:#000000; stroke-linecap:round; stroke-linejoin:round; stroke-width:4; stroke-opacity:1; fill:none\" points=\"1769.58,1486.45 1769.58,1467.55 \"/>\n",
       "<polyline clip-path=\"url(#clip700)\" style=\"stroke:#000000; stroke-linecap:round; stroke-linejoin:round; stroke-width:4; stroke-opacity:1; fill:none\" points=\"2291.67,1486.45 2291.67,1467.55 \"/>\n",
       "<path clip-path=\"url(#clip700)\" d=\"M203.298 1517.37 Q199.687 1517.37 197.858 1520.93 Q196.052 1524.47 196.052 1531.6 Q196.052 1538.71 197.858 1542.27 Q199.687 1545.82 203.298 1545.82 Q206.932 1545.82 208.737 1542.27 Q210.566 1538.71 210.566 1531.6 Q210.566 1524.47 208.737 1520.93 Q206.932 1517.37 203.298 1517.37 M203.298 1513.66 Q209.108 1513.66 212.163 1518.27 Q215.242 1522.85 215.242 1531.6 Q215.242 1540.33 212.163 1544.94 Q209.108 1549.52 203.298 1549.52 Q197.488 1549.52 194.409 1544.94 Q191.353 1540.33 191.353 1531.6 Q191.353 1522.85 194.409 1518.27 Q197.488 1513.66 203.298 1513.66 Z\" fill=\"#000000\" fill-rule=\"nonzero\" fill-opacity=\"1\" /><path clip-path=\"url(#clip700)\" d=\"M700.079 1544.91 L707.717 1544.91 L707.717 1518.55 L699.407 1520.21 L699.407 1515.95 L707.671 1514.29 L712.347 1514.29 L712.347 1544.91 L719.986 1544.91 L719.986 1548.85 L700.079 1548.85 L700.079 1544.91 Z\" fill=\"#000000\" fill-rule=\"nonzero\" fill-opacity=\"1\" /><path clip-path=\"url(#clip700)\" d=\"M739.43 1517.37 Q735.819 1517.37 733.991 1520.93 Q732.185 1524.47 732.185 1531.6 Q732.185 1538.71 733.991 1542.27 Q735.819 1545.82 739.43 1545.82 Q743.065 1545.82 744.87 1542.27 Q746.699 1538.71 746.699 1531.6 Q746.699 1524.47 744.87 1520.93 Q743.065 1517.37 739.43 1517.37 M739.43 1513.66 Q745.24 1513.66 748.296 1518.27 Q751.375 1522.85 751.375 1531.6 Q751.375 1540.33 748.296 1544.94 Q745.24 1549.52 739.43 1549.52 Q733.62 1549.52 730.541 1544.94 Q727.486 1540.33 727.486 1531.6 Q727.486 1522.85 730.541 1518.27 Q733.62 1513.66 739.43 1513.66 Z\" fill=\"#000000\" fill-rule=\"nonzero\" fill-opacity=\"1\" /><path clip-path=\"url(#clip700)\" d=\"M1226.26 1544.91 L1242.58 1544.91 L1242.58 1548.85 L1220.63 1548.85 L1220.63 1544.91 Q1223.29 1542.16 1227.88 1537.53 Q1232.48 1532.88 1233.66 1531.53 Q1235.91 1529.01 1236.79 1527.27 Q1237.69 1525.51 1237.69 1523.82 Q1237.69 1521.07 1235.75 1519.33 Q1233.83 1517.6 1230.73 1517.6 Q1228.53 1517.6 1226.07 1518.36 Q1223.64 1519.13 1220.86 1520.68 L1220.86 1515.95 Q1223.69 1514.82 1226.14 1514.24 Q1228.6 1513.66 1230.63 1513.66 Q1236 1513.66 1239.2 1516.35 Q1242.39 1519.03 1242.39 1523.52 Q1242.39 1525.65 1241.58 1527.57 Q1240.79 1529.47 1238.69 1532.07 Q1238.11 1532.74 1235.01 1535.95 Q1231.91 1539.15 1226.26 1544.91 Z\" fill=\"#000000\" fill-rule=\"nonzero\" fill-opacity=\"1\" /><path clip-path=\"url(#clip700)\" d=\"M1262.39 1517.37 Q1258.78 1517.37 1256.95 1520.93 Q1255.15 1524.47 1255.15 1531.6 Q1255.15 1538.71 1256.95 1542.27 Q1258.78 1545.82 1262.39 1545.82 Q1266.03 1545.82 1267.83 1542.27 Q1269.66 1538.71 1269.66 1531.6 Q1269.66 1524.47 1267.83 1520.93 Q1266.03 1517.37 1262.39 1517.37 M1262.39 1513.66 Q1268.2 1513.66 1271.26 1518.27 Q1274.34 1522.85 1274.34 1531.6 Q1274.34 1540.33 1271.26 1544.94 Q1268.2 1549.52 1262.39 1549.52 Q1256.58 1549.52 1253.5 1544.94 Q1250.45 1540.33 1250.45 1531.6 Q1250.45 1522.85 1253.5 1518.27 Q1256.58 1513.66 1262.39 1513.66 Z\" fill=\"#000000\" fill-rule=\"nonzero\" fill-opacity=\"1\" /><path clip-path=\"url(#clip700)\" d=\"M1758.42 1530.21 Q1761.78 1530.93 1763.65 1533.2 Q1765.55 1535.47 1765.55 1538.8 Q1765.55 1543.92 1762.03 1546.72 Q1758.51 1549.52 1752.03 1549.52 Q1749.86 1549.52 1747.54 1549.08 Q1745.25 1548.66 1742.8 1547.81 L1742.8 1543.29 Q1744.74 1544.43 1747.05 1545.01 Q1749.37 1545.58 1751.89 1545.58 Q1756.29 1545.58 1758.58 1543.85 Q1760.9 1542.11 1760.9 1538.8 Q1760.9 1535.75 1758.74 1534.03 Q1756.61 1532.3 1752.8 1532.3 L1748.77 1532.3 L1748.77 1528.45 L1752.98 1528.45 Q1756.43 1528.45 1758.26 1527.09 Q1760.09 1525.7 1760.09 1523.11 Q1760.09 1520.45 1758.19 1519.03 Q1756.31 1517.6 1752.8 1517.6 Q1750.87 1517.6 1748.67 1518.01 Q1746.48 1518.43 1743.84 1519.31 L1743.84 1515.14 Q1746.5 1514.4 1748.81 1514.03 Q1751.15 1513.66 1753.21 1513.66 Q1758.54 1513.66 1761.64 1516.09 Q1764.74 1518.5 1764.74 1522.62 Q1764.74 1525.49 1763.1 1527.48 Q1761.45 1529.45 1758.42 1530.21 Z\" fill=\"#000000\" fill-rule=\"nonzero\" fill-opacity=\"1\" /><path clip-path=\"url(#clip700)\" d=\"M1784.42 1517.37 Q1780.8 1517.37 1778.98 1520.93 Q1777.17 1524.47 1777.17 1531.6 Q1777.17 1538.71 1778.98 1542.27 Q1780.8 1545.82 1784.42 1545.82 Q1788.05 1545.82 1789.86 1542.27 Q1791.68 1538.71 1791.68 1531.6 Q1791.68 1524.47 1789.86 1520.93 Q1788.05 1517.37 1784.42 1517.37 M1784.42 1513.66 Q1790.23 1513.66 1793.28 1518.27 Q1796.36 1522.85 1796.36 1531.6 Q1796.36 1540.33 1793.28 1544.94 Q1790.23 1549.52 1784.42 1549.52 Q1778.61 1549.52 1775.53 1544.94 Q1772.47 1540.33 1772.47 1531.6 Q1772.47 1522.85 1775.53 1518.27 Q1778.61 1513.66 1784.42 1513.66 Z\" fill=\"#000000\" fill-rule=\"nonzero\" fill-opacity=\"1\" /><path clip-path=\"url(#clip700)\" d=\"M2279.84 1518.36 L2268.04 1536.81 L2279.84 1536.81 L2279.84 1518.36 M2278.62 1514.29 L2284.5 1514.29 L2284.5 1536.81 L2289.43 1536.81 L2289.43 1540.7 L2284.5 1540.7 L2284.5 1548.85 L2279.84 1548.85 L2279.84 1540.7 L2264.24 1540.7 L2264.24 1536.19 L2278.62 1514.29 Z\" fill=\"#000000\" fill-rule=\"nonzero\" fill-opacity=\"1\" /><path clip-path=\"url(#clip700)\" d=\"M2307.16 1517.37 Q2303.55 1517.37 2301.72 1520.93 Q2299.91 1524.47 2299.91 1531.6 Q2299.91 1538.71 2301.72 1542.27 Q2303.55 1545.82 2307.16 1545.82 Q2310.79 1545.82 2312.6 1542.27 Q2314.43 1538.71 2314.43 1531.6 Q2314.43 1524.47 2312.6 1520.93 Q2310.79 1517.37 2307.16 1517.37 M2307.16 1513.66 Q2312.97 1513.66 2316.02 1518.27 Q2319.1 1522.85 2319.1 1531.6 Q2319.1 1540.33 2316.02 1544.94 Q2312.97 1549.52 2307.16 1549.52 Q2301.35 1549.52 2298.27 1544.94 Q2295.21 1540.33 2295.21 1531.6 Q2295.21 1522.85 2298.27 1518.27 Q2301.35 1513.66 2307.16 1513.66 Z\" fill=\"#000000\" fill-rule=\"nonzero\" fill-opacity=\"1\" /><polyline clip-path=\"url(#clip703)\" style=\"stroke:#000000; stroke-linecap:round; stroke-linejoin:round; stroke-width:2; stroke-opacity:0.1; fill:none\" points=\"194.422,1458.03 2352.76,1458.03 \"/>\n",
       "<polyline clip-path=\"url(#clip703)\" style=\"stroke:#000000; stroke-linecap:round; stroke-linejoin:round; stroke-width:2; stroke-opacity:0.1; fill:none\" points=\"194.422,1363.12 2352.76,1363.12 \"/>\n",
       "<polyline clip-path=\"url(#clip703)\" style=\"stroke:#000000; stroke-linecap:round; stroke-linejoin:round; stroke-width:2; stroke-opacity:0.1; fill:none\" points=\"194.422,1268.22 2352.76,1268.22 \"/>\n",
       "<polyline clip-path=\"url(#clip703)\" style=\"stroke:#000000; stroke-linecap:round; stroke-linejoin:round; stroke-width:2; stroke-opacity:0.1; fill:none\" points=\"194.422,1173.31 2352.76,1173.31 \"/>\n",
       "<polyline clip-path=\"url(#clip703)\" style=\"stroke:#000000; stroke-linecap:round; stroke-linejoin:round; stroke-width:2; stroke-opacity:0.1; fill:none\" points=\"194.422,1078.41 2352.76,1078.41 \"/>\n",
       "<polyline clip-path=\"url(#clip703)\" style=\"stroke:#000000; stroke-linecap:round; stroke-linejoin:round; stroke-width:2; stroke-opacity:0.1; fill:none\" points=\"194.422,983.503 2352.76,983.503 \"/>\n",
       "<polyline clip-path=\"url(#clip700)\" style=\"stroke:#000000; stroke-linecap:round; stroke-linejoin:round; stroke-width:4; stroke-opacity:1; fill:none\" points=\"194.422,1486.45 194.422,923.472 \"/>\n",
       "<polyline clip-path=\"url(#clip700)\" style=\"stroke:#000000; stroke-linecap:round; stroke-linejoin:round; stroke-width:4; stroke-opacity:1; fill:none\" points=\"194.422,1458.03 213.32,1458.03 \"/>\n",
       "<polyline clip-path=\"url(#clip700)\" style=\"stroke:#000000; stroke-linecap:round; stroke-linejoin:round; stroke-width:4; stroke-opacity:1; fill:none\" points=\"194.422,1363.12 213.32,1363.12 \"/>\n",
       "<polyline clip-path=\"url(#clip700)\" style=\"stroke:#000000; stroke-linecap:round; stroke-linejoin:round; stroke-width:4; stroke-opacity:1; fill:none\" points=\"194.422,1268.22 213.32,1268.22 \"/>\n",
       "<polyline clip-path=\"url(#clip700)\" style=\"stroke:#000000; stroke-linecap:round; stroke-linejoin:round; stroke-width:4; stroke-opacity:1; fill:none\" points=\"194.422,1173.31 213.32,1173.31 \"/>\n",
       "<polyline clip-path=\"url(#clip700)\" style=\"stroke:#000000; stroke-linecap:round; stroke-linejoin:round; stroke-width:4; stroke-opacity:1; fill:none\" points=\"194.422,1078.41 213.32,1078.41 \"/>\n",
       "<polyline clip-path=\"url(#clip700)\" style=\"stroke:#000000; stroke-linecap:round; stroke-linejoin:round; stroke-width:4; stroke-opacity:1; fill:none\" points=\"194.422,983.503 213.32,983.503 \"/>\n",
       "<path clip-path=\"url(#clip700)\" d=\"M97.7048 1458.48 L127.381 1458.48 L127.381 1462.42 L97.7048 1462.42 L97.7048 1458.48 Z\" fill=\"#000000\" fill-rule=\"nonzero\" fill-opacity=\"1\" /><path clip-path=\"url(#clip700)\" d=\"M137.519 1440.75 L155.876 1440.75 L155.876 1444.68 L141.802 1444.68 L141.802 1453.16 Q142.82 1452.81 143.839 1452.65 Q144.857 1452.46 145.876 1452.46 Q151.663 1452.46 155.042 1455.63 Q158.422 1458.8 158.422 1464.22 Q158.422 1469.8 154.95 1472.9 Q151.478 1475.98 145.158 1475.98 Q142.982 1475.98 140.714 1475.61 Q138.469 1475.24 136.061 1474.5 L136.061 1469.8 Q138.144 1470.93 140.367 1471.49 Q142.589 1472.05 145.066 1472.05 Q149.07 1472.05 151.408 1469.94 Q153.746 1467.83 153.746 1464.22 Q153.746 1460.61 151.408 1458.5 Q149.07 1456.4 145.066 1456.4 Q143.191 1456.4 141.316 1456.81 Q139.464 1457.23 137.519 1458.11 L137.519 1440.75 Z\" fill=\"#000000\" fill-rule=\"nonzero\" fill-opacity=\"1\" /><path clip-path=\"url(#clip700)\" d=\"M146.478 1348.92 Q142.867 1348.92 141.038 1352.49 Q139.232 1356.03 139.232 1363.16 Q139.232 1370.27 141.038 1373.83 Q142.867 1377.37 146.478 1377.37 Q150.112 1377.37 151.918 1373.83 Q153.746 1370.27 153.746 1363.16 Q153.746 1356.03 151.918 1352.49 Q150.112 1348.92 146.478 1348.92 M146.478 1345.22 Q152.288 1345.22 155.343 1349.83 Q158.422 1354.41 158.422 1363.16 Q158.422 1371.89 155.343 1376.49 Q152.288 1381.08 146.478 1381.08 Q140.668 1381.08 137.589 1376.49 Q134.533 1371.89 134.533 1363.16 Q134.533 1354.41 137.589 1349.83 Q140.668 1345.22 146.478 1345.22 Z\" fill=\"#000000\" fill-rule=\"nonzero\" fill-opacity=\"1\" /><path clip-path=\"url(#clip700)\" d=\"M137.519 1250.94 L155.876 1250.94 L155.876 1254.87 L141.802 1254.87 L141.802 1263.35 Q142.82 1263 143.839 1262.84 Q144.857 1262.65 145.876 1262.65 Q151.663 1262.65 155.042 1265.82 Q158.422 1268.99 158.422 1274.41 Q158.422 1279.99 154.95 1283.09 Q151.478 1286.17 145.158 1286.17 Q142.982 1286.17 140.714 1285.8 Q138.469 1285.43 136.061 1284.69 L136.061 1279.99 Q138.144 1281.12 140.367 1281.68 Q142.589 1282.23 145.066 1282.23 Q149.07 1282.23 151.408 1280.13 Q153.746 1278.02 153.746 1274.41 Q153.746 1270.8 151.408 1268.69 Q149.07 1266.59 145.066 1266.59 Q143.191 1266.59 141.316 1267 Q139.464 1267.42 137.519 1268.3 L137.519 1250.94 Z\" fill=\"#000000\" fill-rule=\"nonzero\" fill-opacity=\"1\" /><path clip-path=\"url(#clip700)\" d=\"M107.126 1186.66 L114.765 1186.66 L114.765 1160.29 L106.455 1161.96 L106.455 1157.7 L114.719 1156.03 L119.395 1156.03 L119.395 1186.66 L127.033 1186.66 L127.033 1190.59 L107.126 1190.59 L107.126 1186.66 Z\" fill=\"#000000\" fill-rule=\"nonzero\" fill-opacity=\"1\" /><path clip-path=\"url(#clip700)\" d=\"M146.478 1159.11 Q142.867 1159.11 141.038 1162.68 Q139.232 1166.22 139.232 1173.35 Q139.232 1180.45 141.038 1184.02 Q142.867 1187.56 146.478 1187.56 Q150.112 1187.56 151.918 1184.02 Q153.746 1180.45 153.746 1173.35 Q153.746 1166.22 151.918 1162.68 Q150.112 1159.11 146.478 1159.11 M146.478 1155.41 Q152.288 1155.41 155.343 1160.01 Q158.422 1164.6 158.422 1173.35 Q158.422 1182.07 155.343 1186.68 Q152.288 1191.26 146.478 1191.26 Q140.668 1191.26 137.589 1186.68 Q134.533 1182.07 134.533 1173.35 Q134.533 1164.6 137.589 1160.01 Q140.668 1155.41 146.478 1155.41 Z\" fill=\"#000000\" fill-rule=\"nonzero\" fill-opacity=\"1\" /><path clip-path=\"url(#clip700)\" d=\"M108.121 1091.75 L115.76 1091.75 L115.76 1065.39 L107.45 1067.05 L107.45 1062.79 L115.714 1061.13 L120.39 1061.13 L120.39 1091.75 L128.029 1091.75 L128.029 1095.69 L108.121 1095.69 L108.121 1091.75 Z\" fill=\"#000000\" fill-rule=\"nonzero\" fill-opacity=\"1\" /><path clip-path=\"url(#clip700)\" d=\"M137.519 1061.13 L155.876 1061.13 L155.876 1065.06 L141.802 1065.06 L141.802 1073.54 Q142.82 1073.19 143.839 1073.03 Q144.857 1072.84 145.876 1072.84 Q151.663 1072.84 155.042 1076.01 Q158.422 1079.18 158.422 1084.6 Q158.422 1090.18 154.95 1093.28 Q151.478 1096.36 145.158 1096.36 Q142.982 1096.36 140.714 1095.99 Q138.469 1095.62 136.061 1094.88 L136.061 1090.18 Q138.144 1091.31 140.367 1091.87 Q142.589 1092.42 145.066 1092.42 Q149.07 1092.42 151.408 1090.32 Q153.746 1088.21 153.746 1084.6 Q153.746 1080.99 151.408 1078.88 Q149.07 1076.78 145.066 1076.78 Q143.191 1076.78 141.316 1077.19 Q139.464 1077.61 137.519 1078.49 L137.519 1061.13 Z\" fill=\"#000000\" fill-rule=\"nonzero\" fill-opacity=\"1\" /><path clip-path=\"url(#clip700)\" d=\"M110.344 996.848 L126.663 996.848 L126.663 1000.78 L104.719 1000.78 L104.719 996.848 Q107.381 994.093 111.964 989.463 Q116.57 984.811 117.751 983.468 Q119.996 980.945 120.876 979.209 Q121.779 977.45 121.779 975.76 Q121.779 973.005 119.834 971.269 Q117.913 969.533 114.811 969.533 Q112.612 969.533 110.158 970.297 Q107.728 971.061 104.95 972.612 L104.95 967.89 Q107.774 966.755 110.228 966.177 Q112.682 965.598 114.719 965.598 Q120.089 965.598 123.283 968.283 Q126.478 970.968 126.478 975.459 Q126.478 977.589 125.668 979.51 Q124.881 981.408 122.774 984.001 Q122.195 984.672 119.094 987.889 Q115.992 991.084 110.344 996.848 Z\" fill=\"#000000\" fill-rule=\"nonzero\" fill-opacity=\"1\" /><path clip-path=\"url(#clip700)\" d=\"M146.478 969.302 Q142.867 969.302 141.038 972.866 Q139.232 976.408 139.232 983.538 Q139.232 990.644 141.038 994.209 Q142.867 997.75 146.478 997.75 Q150.112 997.75 151.918 994.209 Q153.746 990.644 153.746 983.538 Q153.746 976.408 151.918 972.866 Q150.112 969.302 146.478 969.302 M146.478 965.598 Q152.288 965.598 155.343 970.204 Q158.422 974.788 158.422 983.538 Q158.422 992.264 155.343 996.871 Q152.288 1001.45 146.478 1001.45 Q140.668 1001.45 137.589 996.871 Q134.533 992.264 134.533 983.538 Q134.533 974.788 137.589 970.204 Q140.668 965.598 146.478 965.598 Z\" fill=\"#000000\" fill-rule=\"nonzero\" fill-opacity=\"1\" /><path clip-path=\"url(#clip700)\" d=\"M1175.23 820.157 L1164.13 850.256 L1186.37 850.256 L1175.23 820.157 M1170.62 812.096 L1179.89 812.096 L1202.94 872.576 L1194.43 872.576 L1188.93 857.061 L1161.66 857.061 L1156.15 872.576 L1147.52 872.576 L1170.62 812.096 Z\" fill=\"#000000\" fill-rule=\"nonzero\" fill-opacity=\"1\" /><path clip-path=\"url(#clip700)\" d=\"M1242.64 828.948 L1242.64 835.915 Q1239.48 834.173 1236.28 833.323 Q1233.12 832.432 1229.88 832.432 Q1222.63 832.432 1218.62 837.05 Q1214.61 841.627 1214.61 849.931 Q1214.61 858.236 1218.62 862.854 Q1222.63 867.431 1229.88 867.431 Q1233.12 867.431 1236.28 866.581 Q1239.48 865.689 1242.64 863.948 L1242.64 870.834 Q1239.52 872.292 1236.16 873.022 Q1232.84 873.751 1229.07 873.751 Q1218.82 873.751 1212.78 867.31 Q1206.75 860.869 1206.75 849.931 Q1206.75 838.832 1212.83 832.472 Q1218.94 826.112 1229.56 826.112 Q1233 826.112 1236.28 826.841 Q1239.56 827.53 1242.64 828.948 Z\" fill=\"#000000\" fill-rule=\"nonzero\" fill-opacity=\"1\" /><path clip-path=\"url(#clip700)\" d=\"M1262.98 814.324 L1262.98 827.206 L1278.33 827.206 L1278.33 832.999 L1262.98 832.999 L1262.98 857.628 Q1262.98 863.178 1264.47 864.758 Q1266.01 866.338 1270.67 866.338 L1278.33 866.338 L1278.33 872.576 L1270.67 872.576 Q1262.04 872.576 1258.76 869.376 Q1255.48 866.135 1255.48 857.628 L1255.48 832.999 L1250.01 832.999 L1250.01 827.206 L1255.48 827.206 L1255.48 814.324 L1262.98 814.324 Z\" fill=\"#000000\" fill-rule=\"nonzero\" fill-opacity=\"1\" /><path clip-path=\"url(#clip700)\" d=\"M1288.13 827.206 L1295.59 827.206 L1295.59 872.576 L1288.13 872.576 L1288.13 827.206 M1288.13 809.544 L1295.59 809.544 L1295.59 818.983 L1288.13 818.983 L1288.13 809.544 Z\" fill=\"#000000\" fill-rule=\"nonzero\" fill-opacity=\"1\" /><path clip-path=\"url(#clip700)\" d=\"M1328.76 832.432 Q1322.77 832.432 1319.28 837.131 Q1315.8 841.789 1315.8 849.931 Q1315.8 858.074 1319.24 862.773 Q1322.73 867.431 1328.76 867.431 Q1334.72 867.431 1338.2 862.732 Q1341.68 858.033 1341.68 849.931 Q1341.68 841.87 1338.2 837.171 Q1334.72 832.432 1328.76 832.432 M1328.76 826.112 Q1338.48 826.112 1344.03 832.432 Q1349.58 838.751 1349.58 849.931 Q1349.58 861.071 1344.03 867.431 Q1338.48 873.751 1328.76 873.751 Q1319 873.751 1313.45 867.431 Q1307.94 861.071 1307.94 849.931 Q1307.94 838.751 1313.45 832.432 Q1319 826.112 1328.76 826.112 Z\" fill=\"#000000\" fill-rule=\"nonzero\" fill-opacity=\"1\" /><path clip-path=\"url(#clip700)\" d=\"M1399.65 845.192 L1399.65 872.576 L1392.2 872.576 L1392.2 845.435 Q1392.2 838.994 1389.69 835.794 Q1387.18 832.594 1382.15 832.594 Q1376.12 832.594 1372.63 836.442 Q1369.15 840.29 1369.15 846.934 L1369.15 872.576 L1361.66 872.576 L1361.66 827.206 L1369.15 827.206 L1369.15 834.254 Q1371.82 830.163 1375.43 828.138 Q1379.07 826.112 1383.81 826.112 Q1391.63 826.112 1395.64 830.973 Q1399.65 835.794 1399.65 845.192 Z\" fill=\"#000000\" fill-rule=\"nonzero\" fill-opacity=\"1\" /><polyline clip-path=\"url(#clip703)\" style=\"stroke:#ffa500; stroke-linecap:round; stroke-linejoin:round; stroke-width:4; stroke-opacity:1; fill:none\" points=\"255.507,1363.12 307.716,1362.35 359.926,1361.53 412.135,1362.87 464.344,1357.11 516.554,1363.72 568.763,1371.41 620.972,1369.6 673.182,1364.37 725.391,1381.52 777.6,1379.25 829.81,1386.21 882.019,1365.99 934.228,1386.23 986.438,1377.39 1038.65,1356.17 1090.86,1372.56 1143.07,1370.07 1195.28,1374.9 1247.48,1384.16 1299.69,1395.35 1351.9,1418.1 1404.11,1470.51 1456.32,939.405 1508.53,1256.23 1560.74,1225.82 1612.95,1249.4 1665.16,1258.31 1717.37,1281.09 1769.58,1299.93 1821.79,1313.3 1874,1324.47 1926.21,1333.05 1978.41,1340.28 2030.62,1344.64 2082.83,1346.6 2135.04,1348.14 2187.25,1347.05 2239.46,1346.22 2291.67,1344.59 \"/>\n",
       "<path clip-path=\"url(#clip700)\" d=\"M1994.42 1045.92 L2280.81 1045.92 L2280.81 942.238 L1994.42 942.238  Z\" fill=\"#ffffff\" fill-rule=\"evenodd\" fill-opacity=\"1\"/>\n",
       "<polyline clip-path=\"url(#clip700)\" style=\"stroke:#000000; stroke-linecap:round; stroke-linejoin:round; stroke-width:4; stroke-opacity:1; fill:none\" points=\"1994.42,1045.92 2280.81,1045.92 2280.81,942.238 1994.42,942.238 1994.42,1045.92 \"/>\n",
       "<polyline clip-path=\"url(#clip700)\" style=\"stroke:#ffa500; stroke-linecap:round; stroke-linejoin:round; stroke-width:4; stroke-opacity:1; fill:none\" points=\"2018.4,994.078 2162.29,994.078 \"/>\n",
       "<path clip-path=\"url(#clip700)\" d=\"M2202.11 981.404 L2195.77 998.603 L2208.47 998.603 L2202.11 981.404 M2199.47 976.798 L2204.77 976.798 L2217.94 1011.36 L2213.08 1011.36 L2209.93 1002.49 L2194.35 1002.49 L2191.21 1011.36 L2186.27 1011.36 L2199.47 976.798 Z\" fill=\"#000000\" fill-rule=\"nonzero\" fill-opacity=\"1\" /><path clip-path=\"url(#clip700)\" d=\"M2222.99 976.798 L2227.66 976.798 L2227.66 1011.36 L2222.99 1011.36 L2222.99 976.798 Z\" fill=\"#000000\" fill-rule=\"nonzero\" fill-opacity=\"1\" /><path clip-path=\"url(#clip700)\" d=\"M2236.97 976.798 L2256.83 976.798 L2256.83 980.733 L2241.64 980.733 L2241.64 990.918 L2255.35 990.918 L2255.35 994.853 L2241.64 994.853 L2241.64 1011.36 L2236.97 1011.36 L2236.97 976.798 Z\" fill=\"#000000\" fill-rule=\"nonzero\" fill-opacity=\"1\" /></svg>\n"
      ]
     },
     "execution_count": 6,
     "metadata": {},
     "output_type": "execute_result"
    }
   ],
   "source": [
    "trajectories = reduce(hcat,y2)'\n",
    "p1 = plot(trajectories[:,1], label=\"AIF\", title = \"position\", color = \"orange\")\n",
    "plot!(0.5 * ones(N), color = \"black\", linestyle=:dash, label = \"goal\")\n",
    "p2 = plot(a2, label=\"AIF\", title = \"Action\", color = \"orange\")\n",
    "plot(p1,p2, layout = @layout [a ; b])"
   ]
  },
  {
   "cell_type": "markdown",
   "metadata": {
    "slideshow": {
     "slide_type": "slide"
    }
   },
   "source": [
    "### Extensions and Comments\n",
    "\n",
    "\n",
    "- Just to be sure, you don't need to memorize all FE/EFE decompositions nor are you expected to derive them on-the-spot. We present these decompositions only to provide insight into the multitude of forces that underlie FEM-based action selection.\n",
    "\n",
    "- In a sense, the FEP is an umbrella for describing the mechanics and self-organization of intelligent behavior, in man and machines. Lots of sub-fields in AI, such as reinforcement learning, can be interpreted as a special case of active inference under the FEP, see e.g., [Friston et al., 2009](https://journals.plos.org/plosone/article?id=10.1371/journal.pone.0006421). \n",
    "\n",
    "- Is EFE minimization really different from \"regular\" FE minimization? Not really, it appears that [EFE minimization can be reformulated as a special case of FE minimization](https://link.springer.com/article/10.1007/s00422-019-00805-w). In other words, FE minimization is still the only game in town.\n",
    "\n",
    "- Active inference also completes the \"scientific loop\" picture. Under the FEP, experimental/trial design is driven by EFE minimization. Bayesian probability theory (and FEP) contains all the equations for running scientific inquiry.\n",
    "<p style=\"text-align:center;\"><img style=\"width:auto\" src=\"./figures/scientific-inquiry-loop-complete.png\"></p>\n",
    "\n",
    "- The big engineering challenge remains the computational load of AIF. The human brain consumes about 25 Watt and the neocortex only about 4 Watt (which is about the power consumption of a bicycle light). This is multiple orders of magnitude cheaper than what we can engineer on silicon for similar tasks.    \n",
    "\n",
    "<!--- \n",
    "- In the next class, we make a lightweight excursion to brains and life. What is life? \n",
    "--->\n",
    "\n",
    "\n",
    "\n",
    "\n"
   ]
  },
  {
   "cell_type": "markdown",
   "metadata": {},
   "source": [
    "### Final Thoughts\n",
    "\n",
    "- In the end, all the state inference, parameter estimation, etc., in this lecture series could have been implemented by FE minimization in an appropriately specified generative probabilistic model. However, the Free Energy Principle extends beyond state and parameter estimation. Driven by FE minimization, brains change their structure as well over time. In fact, the FEP extends beyond brains to a general theory for biological self-organization, e.g., [Darwin's natural selection process](https://www.ncbi.nlm.nih.gov/pmc/articles/PMC5857288/) may be interpreted as a FE minimization-driven model optimization process, and here's an article on [FEP for predictive processing in plants](https://royalsocietypublishing.org/doi/10.1098/rsif.2017.0096). Moreover, Constrained-FE minimization (rephrased as the Principle of Maximum Relative Entropy) provides an elegant framework to derive most (if not all) physical laws, as Caticha exposes in his [brilliant monograph](./files/Caticha-2012-Entropic-Inference-and-the-Foundations-of-Physics) on Entropic Physics. Indeed, the framework of FE minimization is known in the physics community as the very fundamental [Principle of Least Action](https://en.wikipedia.org/wiki/Stationary-action_principle) that governs the equations-of-motion in nature. \n",
    "\n",
    "- So, the FEP is very fundamental and extends way beyond applications to machine learning. At [our research lab](http://biaslab.org) at TU/e, we work on developing FEP-based intelligent agents that go out into the world and autonomously learn to accomplish a pre-determined task, such as learning-to-walk or learning-to-process-noisy-speech-signals. Free free to approach us if you want to know more about that effort.    "
   ]
  },
  {
   "cell_type": "markdown",
   "metadata": {
    "slideshow": {
     "slide_type": "slide"
    }
   },
   "source": [
    "## <center>OPTIONAL SLIDES</center>"
   ]
  },
  {
   "cell_type": "markdown",
   "metadata": {},
   "source": [
    "\n",
    "\n",
    "### In an AIF Agent, Actions fulfill Desired Expectations about the Future\n",
    "\n",
    "- In the [derivations above](#goal-seeking), we decomposed the EFE into an upperbound on the sum of a goal-seeking and information-seeking term. Here, we derive an alternative (exact) decomposition that more clearly reveals the goal-seeking objective</a>.\n",
    "\n",
    "- We consider again the EFE and factorize the generative model $p(x,s|u) = p^\\prime(x) p(s|x,u)$ as a product of a __target prior__ $p^\\prime(x)$ on observations and a __veridical__ state model $p(s|x,u)$. \n",
    "\n",
    "- Through the __target prior__ $p^\\prime(x)$, the agent declares which observations it **wants** to observe in the future. (The prime is just to distinguish the semantics of a desired future from the model for the actual future).\n",
    "\n",
    "- Through the __veridical__ state model $p(s|x,u)$ , the agent implicitly declares its beliefs about how the world will **actually** generate observations.\n",
    "  - In particular, note that through the equality (by Bayes rule)\n",
    "$$p(s|x,u) = \\frac{p(x|s)p(s|u)}{p(x|u)} = \\frac{p(x|s)p(s|u)}{\\sum_s p(x|s)p(s|u)}\\,,$$ \n",
    "it follows that in practice the agent may specify $p(s|x,u)$ implicitly by explicitly specifying a state transition model $p(s|u)$ and observation model $p(x|s)$. \n",
    "\n",
    "- Hence, an AIF agent holds both a model for its beliefs about how the world will actually evolve AND a model for its beliefs about how it desires the world to evolve!! \n",
    "\n",
    "- <a id=\"ambiguity-plus-risk\"></a> To highlight the role of these two models in the EFE, consider the following alternative EFE decomposition:\n",
    "$$\\begin{aligned}\n",
    "G(u) &= \\sum_{x,s}  q(x,s|u) \\log \\frac{q(s|u)}{p^\\prime(x)p(s|x,u)} \\\\\n",
    "&= \\sum_{x,s}  q(x,s|u) \\log \\frac{q(s|u)}{p^\\prime(x)} \\frac{1}{p(s|x,u)}\\\\\n",
    "&= \\sum_{x,s}  q(x,s|u) \\log \\frac{q(s|u)}{p^\\prime(x)} \\frac{p(x|u)}{p(x|s)p(s|u)} \\quad \\text{(use Bayes)}\\\\\n",
    "&= \\sum_{x,s}  q(x,s|u) \\log \\frac{q(s|u)}{p(x|s)p(s|u)} \\frac{p(x|u)}{p^\\prime(x)} \\\\\n",
    "&= \\sum_{x,s}  q(x,s|u) \\log \\frac{q(s|u)}{p(x|s)p(s|u)} + \\sum_{x,s} q(x,s|u) \\log \\frac{p(x|u)}{p^\\prime(x)} \\\\\n",
    "&= \\sum_{x,s}  p(s|u) p(x|s) \\log \\frac{\\cancel{p(s|u)}}{p(x|s)\\cancel{p(s|u)}} + \\sum_{x,s} p(s|u) p(x|s) \\log \\frac{p(x|u)}{p^\\prime(x)} \\quad \\text{( assume }q(x,s|u)=p(x|s)p(s|u)\\text{ )}\\\\\n",
    "&= \\sum_{s}  p(s|u) \\sum_x p(x|s) \\log \\frac{1}{p(x|s)} + \\sum_x p(x|u) \\log \\frac{p(x|u)}{p^\\prime(x)} \\\\\n",
    "&= \\underbrace{E_{p(s|u)}\\left[ H[p(x|s)]\\right]}_{\\text{ambiguity}} + \\underbrace{D_{\\text{KL}}\\left[ p(x|u), p^\\prime(x)\\right]}_{\\text{risk}}\n",
    "\\end{aligned}$$\n",
    "\n",
    "- In this derivation, we have assumed that we can use the generative model to make inferences in the \"forward\" direction. Hence, $q(s|u)=p(s|u)$ and $q(x|s)=p(x|s)$.  \n",
    "\n",
    "- The terms \"ambiguity\" and \"risk\" have their origin in utility theory for behavioral ecocomics. Minimization of EFE leads to minimizing both ambiguity and risk.\n",
    "\n",
    "- Ambiguous (future) states are states that map to large uncertainties about (future) observations. We want to avoid those ambiguous states since it implies that the model is not capable to predict how the world evolves. Ambiguity can be resolved by selecting information-seeking (epistemic) actions. \n",
    "\n",
    "- Minimization of the second term (risk) leads to choosing actions ($u$) that align **predicted** future observations (represented by $p(x|u)$) with **desired** future observations (represented by $p^\\prime(x)$). Agents minimize risk by selecting pragmatic (goal-seeking) actions.\n",
    "\n",
    "- $\\Rightarrow$ **Actions fulfill desired expectations about the future!**\n",
    "\n",
    "- ([return to related cell in main text](#goal-seeking))."
   ]
  },
  {
   "cell_type": "markdown",
   "metadata": {},
   "source": [
    "### Proof $q^*(u) = \\arg\\min_q H[q] \\propto p(u)\\exp(-G(u))$ \n",
    "\n",
    "- <a id='q-star'></a>Consider the following decomposition:\n",
    "$$\\begin{aligned}\n",
    "H[q] &= \\sum_{x,s,u} q(x,s,u) \\log \\frac{q(s,u)}{p(x,s,u)} \\\\\n",
    "&= \\sum_{x,s,u} q(x,s|u) q(u) \\log \\frac{q(s|u) q(u)}{p(x,s|u) p(u)} \\\\\n",
    "&= \\sum_{u} q(u) \\bigg(\\sum_{x,s} q(x,s|u) \\log \\frac{q(s|u) q(u)}{p(x,s|u) p(u)}\\bigg) \\\\\n",
    "&= \\sum_{u} q(u) \\bigg( \\log q(u) + \\log \\frac{1}{p(u)}+ \\underbrace{\\sum_{x,s} q(x,s|u) \\log \\frac{q(s|u)}{p(x,s|u)}}_{G(u)}\\bigg) \\\\\n",
    "&= \\sum_{u} q(u) \\log \\frac{q(u)}{p(u)\\exp\\left(- G(u)\\right) }\n",
    "\\end{aligned}$$\n",
    "\n",
    "- This is a KL-divergence. Minimization of $H[q]$ leads to the following posterior for the policy:\n",
    "$$\\begin{aligned}\n",
    "q^*(u) &= \\arg\\min_q H[q] \\\\\n",
    "&= \\frac{1}{Z}p(u)\\exp(-G(u))\n",
    "\\end{aligned}$$\n",
    "\n",
    "- [(click to return to linked cell in the main text.)](#q-star-main-cell)"
   ]
  },
  {
   "cell_type": "markdown",
   "metadata": {
    "slideshow": {
     "slide_type": "slide"
    }
   },
   "source": [
    "### What Makes a Good Agent? [The Good Regulator Theorem](https://en.wikipedia.org/wiki/Good_regulator)\n",
    "\n",
    "- <a id=\"good-regulator-theorem\"></a> According to Friston, an ``intelligent'' agent like a brain minimizes a variational free energy functional, which, in general, is a functional of a probability distribution $p$ and a variational posterior $q$. \n",
    "\n",
    "- What should the agent's model $p$ be modeling? This question was (already) answered by [Conant and Ashby (1970)](https://www.tandfonline.com/doi/abs/10.1080/00207727008920220) as the Good Regulator Theorem: **every good regulator of a system must be a model of that system**. \n",
    "  \n",
    "- A Quote from Conant and Ashby's paper (this statement was later finessed by [Friston (2013)](https://royalsocietypublishing.org/doi/full/10.1098/rsif.2013.0475)): \n",
    "> \"The theory has the interesting corollary that the living brain, insofar as it is successful and efficient as a regulator for survival, *must* proceed, in learning, by the formation of a model (or models) of its environment.\"\n",
    "\n",
    "<p style=\"text-align:center;\"><img style=\"border:2px solid #000000; width:500px\" src=\"./figures/good-regulator.png\"></p>\n",
    "\n",
    "- ([Return to related cell in main text](#model-specification)).\n",
    "\n",
    "\n"
   ]
  },
  {
   "cell_type": "code",
   "execution_count": 10,
   "metadata": {
    "slideshow": {
     "slide_type": "skip"
    }
   },
   "outputs": [
    {
     "data": {
      "text/html": [
       "<!--\n",
       "This HTML file contains custom styles and some javascript.\n",
       "Include it a Jupyter notebook for improved rendering.\n",
       "-->\n",
       "\n",
       "<!-- Fonts -->\n",
       "<link href='http://fonts.googleapis.com/css?family=Alegreya+Sans:100,300,400,500,700,800,900,100italic,300italic,400italic,500italic,700italic,800italic,900italic' rel='stylesheet' type='text/css'>\n",
       "<link href='http://fonts.googleapis.com/css?family=Arvo:400,700,400italic' rel='stylesheet' type='text/css'>\n",
       "<link href='http://fonts.googleapis.com/css?family=PT+Mono' rel='stylesheet' type='text/css'>\n",
       "<link href='http://fonts.googleapis.com/css?family=Shadows+Into+Light' rel='stylesheet' type='text/css'>\n",
       "<link href='http://fonts.googleapis.com/css?family=Nixie+One' rel='stylesheet' type='text/css'>\n",
       "\n",
       "<!-- Custom style -->\n",
       "<style>\n",
       "\n",
       "@font-face {\n",
       "    font-family: \"Computer Modern\";\n",
       "    src: url('http://mirrors.ctan.org/fonts/cm-unicode/fonts/otf/cmunss.otf');\n",
       "}\n",
       "\n",
       "#notebook_panel { /* main background */\n",
       "    background: rgb(245,245,245);\n",
       "}\n",
       "\n",
       "div.container {\n",
       "    min-width: 960px;\n",
       "}\n",
       "\n",
       "div #notebook { /* centre the content */\n",
       "    background: #fff; /* white background for content */\n",
       "    margin: auto;\n",
       "    padding-left: 0em;\n",
       "}\n",
       "\n",
       "#notebook li { /* More space between bullet points */\n",
       "    margin-top:0.8em;\n",
       "}\n",
       "\n",
       "/* draw border around running cells */\n",
       "div.cell.border-box-sizing.code_cell.running {\n",
       "    border: 1px solid #111;\n",
       "}\n",
       "\n",
       "/* Put a solid color box around each cell and its output, visually linking them*/\n",
       "div.cell.code_cell {\n",
       "    background-color: rgb(256,256,256);\n",
       "    border-radius: 0px;\n",
       "    padding: 0.5em;\n",
       "    margin-left:1em;\n",
       "    margin-top: 1em;\n",
       "}\n",
       "\n",
       "div.text_cell_render{\n",
       "    font-family: 'Alegreya Sans' sans-serif;\n",
       "    line-height: 140%;\n",
       "    font-size: 125%;\n",
       "    font-weight: 400;\n",
       "    width:800px;\n",
       "    margin-left:auto;\n",
       "    margin-right:auto;\n",
       "}\n",
       "\n",
       "\n",
       "/* Formatting for header cells */\n",
       ".text_cell_render h1 {\n",
       "    font-family: 'Nixie One', serif;\n",
       "    font-style:regular;\n",
       "    font-weight: 400;\n",
       "    font-size: 45pt;\n",
       "    line-height: 100%;\n",
       "    color: rgb(0,51,102);\n",
       "    margin-bottom: 0.5em;\n",
       "    margin-top: 0.5em;\n",
       "    display: block;\n",
       "}\n",
       "\n",
       ".text_cell_render h2 {\n",
       "    font-family: 'Nixie One', serif;\n",
       "    font-weight: 400;\n",
       "    font-size: 30pt;\n",
       "    line-height: 100%;\n",
       "    color: rgb(0,51,102);\n",
       "    margin-bottom: 0.1em;\n",
       "    margin-top: 0.3em;\n",
       "    display: block;\n",
       "}\n",
       "\n",
       ".text_cell_render h3 {\n",
       "    font-family: 'Nixie One', serif;\n",
       "    margin-top:16px;\n",
       "    font-size: 22pt;\n",
       "    font-weight: 600;\n",
       "    margin-bottom: 3px;\n",
       "    font-style: regular;\n",
       "    color: rgb(102,102,0);\n",
       "}\n",
       "\n",
       ".text_cell_render h4 {    /*Use this for captions*/\n",
       "    font-family: 'Nixie One', serif;\n",
       "    font-size: 14pt;\n",
       "    text-align: center;\n",
       "    margin-top: 0em;\n",
       "    margin-bottom: 2em;\n",
       "    font-style: regular;\n",
       "}\n",
       "\n",
       ".text_cell_render h5 {  /*Use this for small titles*/\n",
       "    font-family: 'Nixie One', sans-serif;\n",
       "    font-weight: 400;\n",
       "    font-size: 16pt;\n",
       "    color: rgb(163,0,0);\n",
       "    font-style: italic;\n",
       "    margin-bottom: .1em;\n",
       "    margin-top: 0.8em;\n",
       "    display: block;\n",
       "}\n",
       "\n",
       ".text_cell_render h6 { /*use this for copyright note*/\n",
       "    font-family: 'PT Mono', sans-serif;\n",
       "    font-weight: 300;\n",
       "    font-size: 9pt;\n",
       "    line-height: 100%;\n",
       "    color: grey;\n",
       "    margin-bottom: 1px;\n",
       "    margin-top: 1px;\n",
       "}\n",
       "\n",
       ".CodeMirror{\n",
       "    font-family: \"PT Mono\";\n",
       "    font-size: 90%;\n",
       "}\n",
       "\n",
       ".boxed { /* draw a border around a piece of text */\n",
       "  border: 1px solid blue ;\n",
       "}\n",
       "\n",
       "h4#CODE-EXAMPLE,\n",
       "h4#END-OF-CODE-EXAMPLE {\n",
       "    margin: 10px 0;\n",
       "    padding: 10px;\n",
       "    background-color: #d0f9ca !important;\n",
       "    border-top: #849f81 1px solid;\n",
       "    border-bottom: #849f81 1px solid;\n",
       "}\n",
       "\n",
       ".emphasis {\n",
       "    color: red;\n",
       "}\n",
       "\n",
       ".exercise {\n",
       "    color: green;\n",
       "}\n",
       "\n",
       ".proof {\n",
       "    color: blue;\n",
       "}\n",
       "\n",
       "code {\n",
       "  padding: 2px 4px !important;\n",
       "  font-size: 90% !important;\n",
       "  color: #222 !important;\n",
       "  background-color: #efefef !important;\n",
       "  border-radius: 2px !important;\n",
       "}\n",
       "\n",
       "/* This removes the actual style cells from the notebooks, but no in print mode\n",
       "   as they will be removed through some other method */\n",
       "@media not print {\n",
       "  .cell:nth-last-child(-n+2) {\n",
       "    display: none;\n",
       "  }\n",
       "}\n",
       "\n",
       "footer.hidden-print {\n",
       "    display: none !important;\n",
       "}\n",
       "    \n",
       "</style>\n",
       "\n",
       "<!-- MathJax styling -->\n",
       "<script>\n",
       "    MathJax.Hub.Config({\n",
       "                        CommonHTML: {\n",
       "                            scale: 200\n",
       "                        },\n",
       "                TeX: {\n",
       "                    extensions: [\"AMSmath.js\"],\n",
       "                    equationNumbers: { autoNumber: \"AMS\", useLabelIds: true}\n",
       "                },\n",
       "                tex2jax: {\n",
       "                    inlineMath: [ ['$','$'], [\"\\\\(\",\"\\\\)\"] ],\n",
       "                    displayMath: [ ['$$','$$'], [\"\\\\[\",\"\\\\]\"] ]\n",
       "                },\n",
       "                displayAlign: 'center', // Change this to 'center' to center equations.\n",
       "                \"HTML-CSS\": {\n",
       "                    styles: {'.MathJax_Display': {\"margin\": 4}}\n",
       "                }\n",
       "        });\n",
       "</script>\n"
      ]
     },
     "metadata": {},
     "output_type": "display_data"
    }
   ],
   "source": [
    "open(\"../../styles/aipstyle.html\") do f\n",
    "    display(\"text/html\", read(f,String))\n",
    "end"
   ]
  },
  {
   "cell_type": "code",
   "execution_count": null,
   "metadata": {},
   "outputs": [],
   "source": []
  }
 ],
 "metadata": {
  "@webio": {
   "lastCommId": null,
   "lastKernelId": null
  },
  "anaconda-cloud": {},
  "celltoolbar": "Slideshow",
  "kernelspec": {
   "display_name": "Julia 1.8.2",
   "language": "julia",
   "name": "julia-1.8"
  },
  "language_info": {
   "file_extension": ".jl",
   "mimetype": "application/julia",
   "name": "julia",
   "version": "1.8.2"
  }
 },
 "nbformat": 4,
 "nbformat_minor": 4
}
