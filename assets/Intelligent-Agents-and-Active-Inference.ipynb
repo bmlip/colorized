{
 "cells": [
  {
   "cell_type": "markdown",
   "metadata": {
    "slideshow": {
     "slide_type": "slide"
    }
   },
   "source": [
    "# Intelligent Agents and Active Inference"
   ]
  },
  {
   "cell_type": "markdown",
   "metadata": {
    "slideshow": {
     "slide_type": "slide"
    }
   },
   "source": [
    "### Preliminaries\n",
    "\n",
    "- Goal \n",
    "  - Introduction to Active Inference and application to the design of synthetic intelligent agents \n",
    "- Materials        \n",
    "  - Mandatory\n",
    "    - These lecture notes\n",
    "    - Karl Friston - 2016 - [The Free Energy Principle](https://www.youtube.com/watch?v=NIu_dJGyIQI) (video)\n",
    "  - Optional\n",
    "    - Raviv (2018), [The Genius Neuroscientist Who Might Hold the Key to True AI](./files/WIRED-Friston.pdf).\n",
    "        - Interesting article on Karl Friston, who is a leading theoretical neuroscientist working on a theory that relates life and intelligent behavior to physics (and Free Energy minimization). (**highly recommended**) \n",
    "    - Friston et al. (2022), [Designing Ecosystems of Intelligence from First Principles](https://arxiv.org/abs/2212.01354)\n",
    "        - Friston's vision on the future of AI. \n",
    "    - Van de Laar and De Vries (2019), [Simulating Active Inference Processes by Message Passing](https://www.frontiersin.org/articles/10.3389/frobt.2019.00020/full)\n",
    "        - How to implement active inference by message passing in a Forney-style factor graph.\n",
    "\n",
    "<!---\n",
    "  - References\n",
    "    - Friston (2013), [Life as we know it](https://royalsocietypublishing.org/doi/full/10.1098/rsif.2013.0475) \n",
    "    - Conant and Ashby (1970), [Every good regulator of a system must be a model of that system](https://www.tandfonline.com/doi/abs/10.1080/00207727008920220)\n",
    "--->    "
   ]
  },
  {
   "cell_type": "markdown",
   "metadata": {
    "slideshow": {
     "slide_type": "slide"
    }
   },
   "source": [
    "### Agents\n",
    "\n",
    "- In the previous lessons we assumed that a data set was given. \n",
    "- In this lesson we consider _agents_. An agent is a system that _interacts_ with its environment through both sensors and actuators.\n",
    "- Crucially, by acting onto the environment, the agent is able to affect the data that it will sense in the future.\n",
    "  - As an example, by changing the direction where I look, I can affect the (visual) data that will be sensed by my retina.\n",
    "- With this definition of an agent, (biological) organisms are agents, and so are robots, self-driving cars, etc.\n",
    "- In an engineering context, we are particularly interesting in agents that behave with a *purpose* (with a goal in mind), e.g., to drive a car or to design a speech recognition algorithm.\n",
    "- In this lesson, we will describe how __goal-directed behavior__ by biological (and synthetic) agents can also be interpreted as minimization of a free energy functional. "
   ]
  },
  {
   "cell_type": "markdown",
   "metadata": {
    "slideshow": {
     "slide_type": "slide"
    }
   },
   "source": [
    "### Illustrative Example: Steering a cart to a parking spot\n",
    "\n",
    "- In this example, we consider a cart that can move in a 1D space. \n",
    "- At each time step the cart can be steered a bit to the left or right by a controller (the \"agent\"). The agent's knowledge about the cart's process dynamics (equations of motion) are known up to some additive Gaussian noise. The agent also makes noisy observations of the position and velocity of the cart. \n",
    "- Your challenge is to design an agent that steers the car to the zero position. (The agent should be specified as a probabilistic model and the control signal should be formulated as a Bayesian inference task).  \n"
   ]
  },
  {
   "cell_type": "markdown",
   "metadata": {
    "slideshow": {
     "slide_type": "fragment"
    }
   },
   "source": [
    "<p style=\"text-align:center;\"><img src=\"./ai_agent/agent-cart-interaction.png\" width=\"600px\"></p>\n",
    "\n",
    "- Solution at the end of this lesson."
   ]
  },
  {
   "cell_type": "markdown",
   "metadata": {
    "slideshow": {
     "slide_type": "slide"
    }
   },
   "source": [
    "### Karl Friston and the Free Energy Principle\n",
    "\n",
    "- We begin with a motivating example that requires \"intelligent\" goal-directed decision making: assume that you are an owl and that you're hungry. What are you going to do?\n",
    "\n",
    "- Have a look at [Prof. Karl Friston](https://www.wired.com/story/karl-friston-free-energy-principle-artificial-intelligence/)'s answer in this  [video segment on the cost function for intelligent behavior](https://youtu.be/L0pVHbEg4Yw). (**Do watch the video!**)\n",
    "\n",
    "- Friston argues that intelligent decision making (behavior, action making) by an agent requires *minimization of a functional of beliefs*. \n",
    "\n",
    "- Friston further argues (later in the lecture and his papers) that this functional is a (variational) free energy (to be defined below), thus linking decision-making and acting to Bayesian inference. \n",
    "\n",
    "- In fact, Friston's **Free Energy Principle** (FEP) claims that all [biological self-organizing processes (including brain processes) can be described as Free Energy minimization in a probabilistic model](https://royalsocietypublishing.org/doi/full/10.1098/rsif.2013.0475).\n",
    "  - This includes perception, learning, attention mechanisms, recall, acting and decision making, etc.\n",
    "  \n",
    "- Taking inspiration from FEP, if we want to develop synthetic \"intelligent\" agents, we have (only) two issues to consider:\n",
    "  1. Specification of the FE functional.\n",
    "  2. *How* to minimize the FE functional (often in real-time under situated conditions).  \n",
    "\n",
    "- Agents that follow the FEP are said to be involved in **Active Inference** (AIF). An AIF agent updates its states and parameters (and ultimately its model structure) solely by FE minimization, and selects its actions through (expected) FE minimization (to be explained below).    \n"
   ]
  },
  {
   "cell_type": "markdown",
   "metadata": {},
   "source": [
    "### Execution of an AIF Agent\n",
    "\n",
    "- Consider an AIF agent with observations (sensory states) $x_t$, latent internal states $s_t$ and latent control states $u_t$ for $t=1,2,\\ldots$. \n",
    "\n",
    "<p style=\"text-align:center;\"><img src=\"./figures/AIF-agent.png\" width=\"600px\"></p>\n",
    "\n",
    "- The agent is embedded in an environment with \"external states\" $\\tilde{s}_t$. The dynamics of the environment are driven by actions. \n",
    "\n",
    "- Actions $a_t$ are selected by the agent. Actions affect the environment and consequently affect future observations. \n",
    "\n",
    "- In pseudo-code, an AIF agent executes the <a id=\"AIF-algorithm\"></a>following algorithm:\n",
    "\n",
    "> **ACTIVE INFERENCE (AIF) AGENT ALGORITHM**    \n",
    ">\n",
    "> SPECIFY generative model $p(x,s,u)$    \n",
    "> ASSUME/SPECIFY environmental process $R$\n",
    ">\n",
    "> FORALL t DO    \n",
    ">     \n",
    "> 1.  $(x_t, \\tilde{s}_t) = R(a_t, \\tilde{s}_{t-1})$   % environment generates new observation     \n",
    "> 2.  $q(s_t) = \\arg\\min_q F[q]$         % update internal states (process observation)    \n",
    "> 3.  $q(u_{t+1}) = \\arg\\min_q H[q]$     % update control states (process observation)    \n",
    "> 4.  $\\hat{u}_{t+1} \\sim q(u_{t+1})$; $a_{t+1} = \\hat{u}_{t+1}$          % sample next action and push to environment     \n",
    ">       \n",
    "> END    \n",
    "\n",
    "\n",
    "- In the above algorithm, $F[q]$ and $H[q]$ are appropriately defined Free Energy functionals, to be discussed below. Next, we discuss these steps in more details."
   ]
  },
  {
   "cell_type": "markdown",
   "metadata": {},
   "source": [
    "### The Generative Model in an AIF agent\n",
    "\n",
    "- What should the agent's model $p(x,s,u)$ be modeling? This question was (already) answered by [Conant and Ashby (1970)](https://www.tandfonline.com/doi/abs/10.1080/00207727008920220) as the [*good regulator theorem*](https://en.wikipedia.org/wiki/Good_regulator ): **every good regulator of a system must be a model of that system**. See the [OPTIONAL SLIDE for more information](#good-regulator-theorem). \n",
    "\n",
    "- Conant and Ashley state: \"The theorem has the interesting corollary that the living brain, so far as it is to be successful and efficient as a regulator for survival, __must__ proceed, in learning, by the formation of a model (or models) of its environment.\"\n",
    "\n",
    "- Indeed, perception in brains is clearly affected by predictions about sensory inputs by the brain's own generative model.\n",
    "\n",
    "<p style=\"text-align:center;\"><img src=\"./figures/the-gardener.png\" width=\"600px\"></p>\n",
    "\n",
    "- In the above picture (The Gardener, by Giuseppe Arcimboldo, ca 1590\n",
    "), on the left you will likely see a bowl of vegetables, while the same picture upside down elicits with most people the perception of a gardener's face rather than an upside-down vegetable bowl. \n",
    "\n",
    "- The reason is that the brain's model predicts to see straight-up faces with much higher probability than upside-down vegetable bowls. \n",
    "\n",
    "- So the <a id=\"model-specification\"></a> agent's model $p$ will be a model that aims to explain how environmental causes (latent states) lead to sensory observations."
   ]
  },
  {
   "cell_type": "markdown",
   "metadata": {},
   "source": [
    "### Specification of AIF Agent's model and Environmental Dynamics\n",
    "\n",
    "- In this notebook, for illustrative purposes, we specify the **generative model** at time step $t$ of an AIF agent as \n",
    "$$\n",
    "p(x_t,s_t,u_t|s_{t-1}) = \\underbrace{p(x_t|s_t)}_{\\text{observations}} \\cdot \\underbrace{p(s_t|s_{t-1},u_t)}_{\\substack{\\text{state} \\\\ \\text{transition}}} \\cdot \\underbrace{p(u_t)}_{\\substack{\\text{action} \\\\ \\text{prior}}}\n",
    "$$\n",
    "\n",
    "- We will assume that the agent interacts with an environment, which we represent by a dynamic model $R$ as\n",
    "$$\n",
    "(x_t,\\tilde{s}_t) = R\\left( a_t,\\tilde{s}_{t-1}\\right)$$\n",
    "where $a_t$ are _actions_ (by the agent), $x_t$ are _outcomes_ (the agent's observations) and $\\tilde{s}_t$ holds the environmental latent _states_. \n",
    "\n",
    "- Note that $R$ only needs to be specified for simulated environments. If we were to deploy the agent in a real-world environment, we would not need to specify $R$. \n",
    "\n",
    "- The agent's knowledge about environmental process $R$ is expressed by its generative model $p(x_t,s_t,u_t|s_{t-1})$. \n",
    "\n",
    "- Note that we distinguish between _control states_ and _actions_. Control states $u_t$ are latent variables in the agent's generative model. An action $a_t$ is a realization of a control state as observed by the environment. \n",
    "\n",
    "- Observations $x_t=\\hat{x}_t$ are generated by the environment and observed by the agent. Vice versa, actions $a_t = \\hat{u}_t$ are generated by the agent and observed by the environment. "
   ]
  },
  {
   "cell_type": "markdown",
   "metadata": {},
   "source": [
    "### State Updating in the AIF Agent\n",
    "\n",
    "- After the agent makes a new observation $x_t=\\hat{x}_t$, it will update beliefs over its latent variables. First the internal state variables $s$. \n",
    "\n",
    "- Assume the following at time step $t$:\n",
    "  - the state of the agent's model has already been updated to $q(s_{t-1}|\\hat{x}_{1:t-1})$. \n",
    "  - the agent has selected a new action $a_t=\\hat{u}_t$.\n",
    "  - the agent has recorded a new observation $x_t=\\hat{x}_t$. \n",
    "\n",
    "- The **state updating** task is to infer $q(s_{t}|\\hat{x}_{1:t})$, based on the previous estimate $q(s_{t-1}|\\hat{x}_{1:t-1})$, the new data $\\{a_t=\\hat{u}_t,x_t=\\hat{x}_{t}\\}$, and the agent's generative model. \n",
    "\n",
    "- Technically, this is a Bayesian filtering task. In a real brain, this process is called **perception**.   \n",
    "\n",
    "- We specify the following FE functional\n",
    "$$\n",
    "F[q] = \\sum_{s_t} q(s_t|\\hat{x}_{1:t}) \\log \\frac{\\overbrace{q(s_t|\\hat{x}_{1:t})}^{\\text{state posterior}}}{\\underbrace{p(\\hat{x}_t|s_t) p(s_t|s_{t-1},\\hat{u}_t)}_{\\text{generative model w new data}} \\underbrace{q(s_{t-1}|\\hat{x}_{1:t-1})}_{\\text{state prior}}}\n",
    "$$\n",
    "\n",
    "- The state updating task can be formulated as minimization of the above FE (see also [AIF Algorithm](#AIF-algorithm), step 2):\n",
    "$$\n",
    "q(s_t|\\hat{x}_{1:t}) = \\arg\\min_q F[q]\n",
    "$$\n",
    "\n",
    "- In case the generative model is a _Linear Gaussian Dynamical System_, minimization of the FE can be solved analytically in closed-form and [leads to the standard Kalman filter](https://nbviewer.jupyter.org/github/bertdv/BMLIP/blob/master/lessons/notebooks/Dynamic-Models.ipynb#kalman-filter). \n",
    "\n",
    "- In case these (linear Gaussian) conditions are not met, we can still minimize the FE by other means and arrive at some approximation of the Kalman filter, see for example [Baltieri and  Isomura (2021)](https://arxiv.org/abs/2111.10530) for a Laplace approximation to variational Kalman filtering.  \n",
    "\n",
    "- Our toolbox [RxInfer](http://rxinfer.ml) specializes in automated execution of  this minimization task. \n"
   ]
  },
  {
   "cell_type": "markdown",
   "metadata": {},
   "source": [
    "### Policy Updating in an AIF Agent\n",
    "\n",
    "- Once the agent has updated its internal states, it will turn to inferring the next action. \n",
    "\n",
    "- In order to select a __good__ next action, we need to investigate and compare consequences of a _sequence_ of future actions. \n",
    "\n",
    "- A sequence of future actions $a= (a_{t+1}, a_{t+2}, \\ldots, a_{t+T})$ is called a **policy**. Since relevant consequences are usually the result of an future action sequence rather than a single action, we will be interested in updating beliefs over policies. \n",
    "\n",
    "- In order to assess the consequences of a selected policy, we will, as a function of that policy, run the generative model forward-in-time to make predictions about future observations $x_{t+1:T}$. \n",
    "\n",
    "- Note that perception (state updating) preceeds policy updating. In order to accurately predict the future, the agent first needs to understand the current state of the world.  \n",
    "\n",
    "- Consider an AIF agent at time step $t$ with (future) observations $x = (x_{t+1}, x_{t+2}, \\ldots, x_{t+T})$,  latent future internal states $s= (s_t, s_{t+1}, \\ldots, s_{t+T})$, and latent future control variables $u= (u_{t+1}, u_{t+2}, \\ldots, u_{t+T})$. \n",
    "\n",
    "- From the agent's viewpoint, the evolution of these future variables are constrained by its generative model, rolled out into the future:\n",
    "$$\\begin{align*}\n",
    "p(x,s,u) &= \\underbrace{q(s_{t})}_{\\substack{\\text{current}\\\\ \\text{state}}} \\cdot \\underbrace{\\prod_{k=t+1}^{t+T} p(x_k|s_k) \\cdot p(s_k | s_{k-1}, u_k) p(u_k)}_{\\text{GM roll-out to future}}\n",
    "\\end{align*}$$\n",
    "\n",
    "- Consider the Free Energy functional for estimating posterior beliefs $q(s,u)$ over future states and control signals: \n",
    "$$\\begin{align*}\n",
    "H[q] &= \\overbrace{\\sum_{x,s} q(x|s)}^{\\text{marginalize }x} \\bigg( \\overbrace{\\sum_u q(s,u) \\log \\frac{q(s,u)}{p(x,s,u)} }^{\\text{variational Free Energy}}\\bigg) \\\\\n",
    "&= \\sum_{x,s,u} q(x,s,u) \\log \\frac{q(s,u)}{p(x,s,u)}\n",
    "\\end{align*}$$\n",
    "\n",
    "- In principle, this is a regular FE functional, with one difference to previous versions: since future observations $x$ have not yet occurred, $H[q]$ marginalizes not only over latent states $s$ and policies $u$, but also over future observations $x$.\n",
    "\n",
    "- We will update the beliefs over policies by minimization of Free Energy functional $H[q]$. In the [optional slides below, we prove that the solution to this optimization task](#q-star) is given by (see [AIF Algorithm](#AIF-algorithm), step 3, above)\n",
    "$$\\begin{aligned}\n",
    "q^*(u) &= \\arg\\min_q H[q] \\\\\n",
    "&\\propto p(u)\\exp(-G(u))\\,,\n",
    "\\end{aligned}$$\n",
    "<a id='q-star-main-cell'></a> where the factor $p(u)$ is a prior over admissible policies, and the factor $\\exp(-G(u))$ updates the prior with information about future consequences of a selected policy $u$. \n",
    "\n",
    "- The function \n",
    "$$G(u) = \\sum_{x,s}  q(x,s|u) \\log \\frac{q(s|u)}{p(x,s|u)}$$ \n",
    "is called the **Expected Free Energy** (EFE) for policy $u$. \n",
    "\n",
    "- The FEP takes the following stance: if FE minimization is all that an agent does, then the only consistent and appropriate behavior for an agent is to select actions that minimize the **expected** Free Energy in the future (where expectation is taken over current beliefs about future observations). \n",
    "\n",
    "- Note that, since $q^*(u) \\propto p(u)\\exp(-G(u))$, the probability $q^*(u)$ for selecting a policy $u$ increases when EFE $G(u)$ gets smaller. \n",
    "\n",
    "- Once the policy (control) variables have been updated, in simulated environments, it is common to assume that the next action $a_{t+1}$ (an action is the _observed_ control variable by the environment) gets selected in proportion to the probability of the related control variable (see [AIF Agent Algorithm](#AIF-algorithm), step 4, above), i.e.,\n",
    "$$\\begin{aligned}\n",
    "\\hat{u}_{t+1} &\\sim q(u_{t+1}) \\qquad &&\\text{(select control realization by sampling)} \\\\\n",
    "a_{t+1} &= \\hat{u}_{t+1} \\qquad &&\\text{(transfer to environment)}\n",
    "\\end{aligned}$$\n",
    "\n",
    "- Next, we analyze some properties of the EFE."
   ]
  },
  {
   "cell_type": "markdown",
   "metadata": {},
   "source": [
    "### Active Inference Analysis: exploitation-exploration dilemma \n",
    "\n",
    "- Consider the following decomposition of EFE:\n",
    "$$\\begin{aligned}\n",
    "G(u) &= \\sum_{x,s}  q(x,s|u) \\log \\frac{q(s|u)}{p(x,s|u)} \\\\\n",
    "&= \\sum_{x,s} q(x,s|u) \\log \\frac{1}{p(x)} + \\sum_{x,s} q(x,s|u) \\log \\frac{q(s|u)}{p(s|x,u)}\\frac{q(s|x)}{q(s|x)} \\\\\n",
    "&= \\sum_x q(x|u) \\log \\frac{1}{p(x)} + \\sum_{x,s} q(x,s|u) \\log \\frac{q(s|u)}{q(s|x)} + \\underbrace{\\sum_{x,s} q(x,s|u) \\log \\frac{q(s|x)}{p(s|x,u)}}_{E\\left[ D_{\\text{KL}}[q(s|x),p(s|x,u)] \\right]\\geq 0} \\\\\n",
    "&\\geq \\underbrace{\\sum_x q(x|u) \\log \\frac{1}{p(x)}}_{\\substack{\\text{goal-seeking behavior} \\\\ \\text{(exploitation)}}} - \\underbrace{\\sum_{x,s} q(x,s|u) \\log \\frac{q(s|x)}{q(s|u)}}_{\\substack{\\text{information-seeking behavior}\\\\ \\text{(exploration)}}} \n",
    "\\end{aligned}$$ \n",
    "\n",
    "- Apparently, minimization of EFE leads to selection of policies that balances the following two imperatives: \n",
    "\n",
    "  1. minimization of the first term of $G(u)$, i.e. minimizing $\\sum_x q(x|u) \\log \\frac{1}{p(x)}$, leads to policies ($u$) that align the inferred observations $q(x|u)$ under policy $u$ (i.e., predicted future observations under policy $u$) with a prior $p(x)$ on future observations. We are in control to choose any prior $p(x)$ and usually we choose a prior that aligns with desired (goal) observations. Hence, policies with low EFE leads to **<a id=\"goal-seeking\">goal-seeking behavior</a>** (a.k.a. pragmatic behavior or exploitation). [In the OPTIONAL SLIDES](#ambiguity-plus-risk), we derive an alternative (perhaps clearer) expression to support this interpretation]. \n",
    "  \n",
    "  1. minimization of $G(u)$ maximizes the second term \n",
    "  $$\\begin{aligned}\n",
    "  \\sum_{x,s} q(x,s|u) \\log \\frac{q(s|x)}{q(s|u)} &= \\sum_{x,s} q(x,s|u) \\log \\frac{q(s|x)}{q(s|u)}\\frac{q(x|u)}{q(x|u)} \\\\\n",
    "  &= \\underbrace{\\sum_{x,s} q(x,s|u) \\log \\frac{q(x,s|u)}{q(x|u)q(s|u)}}_{\\text{(conditional) mutual information }I[x,s|u]}\n",
    "  \\end{aligned}$$ \n",
    "  which is the (conditional) [__mutual information__](https://en.wikipedia.org/wiki/Mutual_information) between (posteriors on) future observations and states, for a given policy $u$. Thus, maximizing this term leads to actions that maximize statistical dependency between future observations and states. In other words, a policy with low EFE also leads to **information-seeking behavior** (a.k.a. epistemic behavior or exploration). \n",
    "\n",
    "- (The third term $\\sum_{x,s} q(x,s|u) \\log \\frac{q(s|x)}{p(s|x)}$ is an (expected) KL divergence between posterior and prior on the states. This can be interpreted as a complexity/regularization term and $G(u)$ minimization will drive this term to zero.)   \n",
    "\n",
    "- Seeking actions that balance goal-seeking behavior (exploitation) and information-seeking behavior (exploration) is a [fundamental problem in the Reinforcement Learning literature](http://tomstafford.staff.shef.ac.uk/?p=48). \n",
    "\n",
    "- **Active Inference solves the exploration-exploitation dilemma**. Both objectives are served by EFE minimization without need for any tuning parameters. "
   ]
  },
  {
   "cell_type": "markdown",
   "metadata": {},
   "source": [
    "### AIF Agents learn both the Problem and Solution\n",
    "\n",
    "- We highlight another great feature of FE minimizing agents. Consider an AIF agent ($m$) with generative model $p(x,s,u|m)$.\n",
    "\n",
    "- Consider the Divergence-Evidence decomposition of the FE again:\n",
    "\n",
    "$$\\begin{aligned}\n",
    "F[q] &= \\sum_{s,u} q(s,u) \\log \\frac{q(s,u)}{p(x,s,u|m)} \\\\\n",
    "&= \\underbrace{-\\log p(x|m)}_{\\substack{\\text{problem} \\\\ \\text{representation costs}}} + \\underbrace{\\sum_{s,u} q(s,u) \\log \\frac{q(s,u)}{p(s,u|x,m)}}_{\\text{solution costs}}\n",
    "\\end{aligned}$$\n",
    "\n",
    "- The first term, $-\\log p(x|m)$, is the (negative log-) evidence for model $m$, given recorded data $x$. \n",
    "\n",
    "- Minimization of FE maximizes the evidence for the given model. The model captures the  **problem representation**. A model with high evidence predicts the data well and therefore \"understands the world\".  \n",
    "\n",
    "- The second term scores the cost of inference. In almost all cases, the solution to a problem can be phrased as an inference task on the generative model. Hence, the second term **scores the accuracy of the inferred solution**, for the given model. \n",
    "\n",
    "- FE minimization optimizes a balanced trade-off between a good-enough problem representation and a good-enough solution proposal for that model. Since FE comprises both a cost for solution _and_ problem representation, it is a neutral criterion that applies across a very wide set of problems. \n",
    "\n",
    "- A good solution to the wrong problem is not good enough. A poor solution to a great problem statement is not sufficient either.  In order to solve a problem well, we need both to represent the problem correctly (high model evidence) and we need to solve it well (low inference costs). \n",
    "\n",
    "<!---\n",
    "- Question: does this argument suggest that FE is even more fundamental as a model performance criterion than the model evidence by itself?\n",
    "--->"
   ]
  },
  {
   "cell_type": "markdown",
   "metadata": {},
   "source": [
    "### The Brain's Action-Perception Loop by FE Minimization\n",
    "\n",
    "- The above derivations are not trivial, but we have just shown that FE minimizing agents accomplish variational Bayesian perception (a la Kalman filtering), and a balanced exploration-exploitation trade-off for policy selection. \n",
    "\n",
    "- Moreover, the FE by itself serves as a proper objective across a very wide range of problems, since it scores both the cost of the problem statement and the cost of inferring the solution. \n",
    "\n",
    "- The current FEP theory claims that minimization of FE (and EFE) is all that brains do, i.e., FE minimization leads to perception, policy selection, learning, structure adaptation, attention, learning of problems and solutions, etc.\n",
    "\n",
    "<p style=\"text-align:center;\"><img style=\"border:2px solid #000000; width:auto\" src=\"./figures/brain-design-cycle.png\"></p>"
   ]
  },
  {
   "cell_type": "markdown",
   "metadata": {},
   "source": [
    "### The Engineering Challenge: Synthetic AIF Agents \n",
    "\n",
    "- So we have here an AI framework (minimization of FE and associated EFE) that\n",
    "  - leads to optimal (Bayesian) information processing, including balancing accuracy vs complexity.\n",
    "  - leads to balanced and continual learning of both problem representation and solution proposal\n",
    "  - actively selects data in-the-field under situated conditions (no dependency on large data base)\n",
    "  - pursues a optimal trade-off between exploration (information-seeking) and exploitation (goal-seeking) behavior\n",
    "  - needs no external tuning parameters (such as step sizes, thresholds, etc.)\n",
    "  - has a strong foundations in how nature/life self-organizes\n",
    "\n",
    "- Clearly, the FEP, and synthetic AIF agents as a realization of FEP, comprise a very attractive framework for all things relating to AI and AI agents. \n",
    "\n",
    "- A current big AI challenge is to design synthetic AIF agents based solely on FE/EFE minimization.\n",
    "\n",
    "<p style=\"text-align:center;\"><img style=\"border:2px solid #000000; width:auto\" src=\"./figures/Synthetic-FEP-agent.png\"></p> \n",
    "\n",
    "- Executing a synthetic AIF agent often poses a large computational problem because of the following reasons: \n",
    "   1. For interesting problems (e.g. speech recognition, scene analysis), generative models may contain thousands of latent variables. \n",
    "   2. The FE function is a time-varying function, since it is also a function of observable variables. \n",
    "   3. An AIF agent must execute inference in real-time if it is engaged and embedded in a real world environment.\n",
    "   \n",
    "- So, in practice, executing a synthetic AIF agent may lead to a **task of minimizing a time-varying FE function of thousands of variables in real-time**!!\n"
   ]
  },
  {
   "cell_type": "markdown",
   "metadata": {
    "slideshow": {
     "slide_type": "slide"
    }
   },
   "source": [
    "### Factor Graph Approach to Modeling of an Active Inference Agent\n",
    "\n",
    "- How to specify and execute a synthetic AIF agent is an active area of research. \n",
    "\n",
    "- There is no definitive solution approach to AIF agent modeling yet; we ([BIASlab](http://biaslab.org)) think that (reactive) message passing in a factor graph representation provides a promising path. \n",
    "\n",
    "- After selecting an action $a_t$ and making an observation $x_t$, the FFG for the rolled-out generative model is given by the following FFG:\n",
    "\n",
    "<p style=\"text-align:center;\"><img src=\"./figures/fig-active-inference-model-specification.png\" width=\"600px\"></p>\n",
    "\n",
    "- The open red nodes for $p(x_{t+k})$ specify __desired future observations__, whereas the open black boxes for $p(s_k|s_{k-1},u_k)$ and $p(x_k|s_k)$ reflect the agent's beliefs about how the world actually evolves (ie, the __veridical model__). \n",
    "\n",
    "- The (brown) dashed box is the agent's Markov blanket. Given the states on the Markov blanket, the internal states of the agent are independent of the state of the world.   \n"
   ]
  },
  {
   "cell_type": "markdown",
   "metadata": {
    "slideshow": {
     "slide_type": "slide"
    }
   },
   "source": [
    "### How to minimize FE: Online Active Inference\n",
    "\n",
    "- [Online active inference proceeds by iteratively executing three stages](https://www.frontiersin.org/articles/10.3389/frobt.2019.00020/full): \n",
    "  1. act-execute-observe     \n",
    "  2. update the latent variables and select an action    \n",
    "  3. slide forward\n",
    "\n",
    "<p style=\"text-align:center;\"><img src=\"./figures/fig-online-active-inference.png\" width=\"700px\"></p>"
   ]
  },
  {
   "cell_type": "markdown",
   "metadata": {
    "slideshow": {
     "slide_type": "slide"
    }
   },
   "source": [
    "### The Cart Parking Problem Revisited\n",
    "\n",
    "Here we solve the cart parking problem as stated at the beginning of this lesson. We first specify a generative model for the agent's environment (which is the observed noisy position of the cart) and then constrain future observations by a prior distribution that is located on the target parking spot. Next, we schedule a message passing-based inference algorithm for the next action. This is followed by executing the _Act-execute-observe --> infer --> slide_ procedure to infer a sequence of consecutive actions. Finally, the position of the cart over time is plotted. Note that the cart converges to the target spot.  \n",
    "\n",
    "\n"
   ]
  },
  {
   "cell_type": "code",
   "execution_count": 1,
   "metadata": {},
   "outputs": [],
   "source": [
    "using Pkg;Pkg.activate(\"probprog/workspace\");Pkg.instantiate()\n",
    "IJulia.clear_output();"
   ]
  },
  {
   "cell_type": "code",
   "execution_count": 2,
   "metadata": {
    "slideshow": {
     "slide_type": "slide"
    }
   },
   "outputs": [
    {
     "data": {
      "image/png": "[encoded data removed]",
      "text/plain": [
       "Figure(PyObject <Figure size 640x480 with 1 Axes>)"
      ]
     },
     "metadata": {},
     "output_type": "display_data"
    }
   ],
   "source": [
    "using PyPlot, LinearAlgebra, ForneyLab\n",
    "# Load helper functions. Feel free to explore these\n",
    "include(\"ai_agent/environment_1d.jl\")\n",
    "include(\"ai_agent/helpers_1d.jl\")\n",
    "include(\"ai_agent/agent_1d.jl\")\n",
    "\n",
    "# Internal model perameters\n",
    "gamma   = 100.0 # Transition precision\n",
    "phi     = 10.0 # Observation precision\n",
    "upsilon = 1.0 # Control prior variance\n",
    "sigma   = 1.0 # Goal prior variance\n",
    "\n",
    "T = 10 # Lookahead\n",
    "\n",
    "# Build internal model\n",
    "fg = FactorGraph()\n",
    "\n",
    "o = Vector{Variable}(undef, T) # Observed states\n",
    "s = Vector{Variable}(undef, T) # internal states\n",
    "u = Vector{Variable}(undef, T) # Control states\n",
    "\n",
    "@RV s_t_min ~ GaussianMeanVariance(placeholder(:m_s_t_min),\n",
    "                                   placeholder(:v_s_t_min)) # Prior  state\n",
    "u_t = placeholder(:u_t)\n",
    "@RV u[1] ~ GaussianMeanVariance(u_t, tiny)\n",
    "@RV s[1] ~ GaussianMeanPrecision(s_t_min + u[1], gamma) \n",
    "@RV o[1] ~ GaussianMeanPrecision(s[1], phi)\n",
    "placeholder(o[1], :o_t)\n",
    "\n",
    "s_k_min = s[1]\n",
    "for k=2:T\n",
    "    @RV u[k] ~ GaussianMeanVariance(0.0, upsilon) # Control prior\n",
    "    @RV s[k] ~ GaussianMeanPrecision(s_k_min + u[k], gamma) # State transition model\n",
    "    @RV o[k] ~ GaussianMeanPrecision(s[k], phi) # Observation model\n",
    "    GaussianMeanVariance(o[k], \n",
    "                         placeholder(:m_o, var_id=:m_o_*k, index=k-1),\n",
    "                         placeholder(:v_o, var_id=:v_o_*k, index=k-1)) # Goal prior\n",
    "    s_k_min = s[k]\n",
    "end\n",
    "\n",
    "# Schedule message passing algorithm\n",
    "algo = messagePassingAlgorithm(u[2]) # Infer internal states\n",
    "source_code = algorithmSourceCode(algo)\n",
    "eval(Meta.parse(source_code)) # Loads the step!() function for inference\n",
    "\n",
    "s_0 = 2.0 # Initial State\n",
    "\n",
    "N = 20 # Total simulation time\n",
    "\n",
    "(execute, observe)  = initializeWorld() # Let there be a world\n",
    "(infer, act, slide) = initializeAgent() # Let there be an agent\n",
    "\n",
    "# Step through action-perception loop\n",
    "u_hat = Vector{Float64}(undef, N) # Actions\n",
    "o_hat = Vector{Float64}(undef, N) # Observations\n",
    "for t=1:N\n",
    "    u_hat[t] = act() # Evoke an action from the agent\n",
    "               execute(u_hat[t]) # The action influences hidden external states\n",
    "    o_hat[t] = observe() # Observe the current environmental outcome (update p)\n",
    "               infer(u_hat[t], o_hat[t]) # Infer beliefs from current model state (update q)\n",
    "               slide() # Prepare for next iteration\n",
    "end\n",
    "\n",
    "# Plot active inference results\n",
    "plotTrajectory(u_hat, o_hat)\n",
    ";"
   ]
  },
  {
   "cell_type": "markdown",
   "metadata": {},
   "source": [
    "### Video\n",
    "\n",
    "- See [this video to verfiy that the robot will be steered to the correct parking spot even after an \"adversarial\" intervention](https://youtu.be/0ABZJJ9r4Dw) :). (This project was completed by [Burak Ergul](https://www.linkedin.com/in/burak-ergul-/) as part of this MSc graduation project). \n"
   ]
  },
  {
   "cell_type": "markdown",
   "metadata": {
    "slideshow": {
     "slide_type": "slide"
    }
   },
   "source": [
    "### Extensions and Comments\n",
    "\n",
    "- If interested, here is a link to [a more detailed version of the 1D parking problem](ai_agent/robot_car_1d.ipynb). \n",
    "\n",
    "- We also have a [2D version of this cart parking problem implemented on Raspberry Pi-based robot](ai_agent/robot_car_2d.ipynb). (Credits for this implemention to [Thijs van de Laar](https://biaslab.github.io/member/thijs) and [Burak Ergul](https://www.linkedin.com/in/burak-ergul-/)). \n",
    "\n",
    "- Just to be sure, you don't need to memorize all FE/EFE decompositions nor are you expected to derive them on-the-spot. We present these decompositions only to provide insight into the multitude of forces that underlie FEM-based action selection.\n",
    "\n",
    "- In a sense, the FEP is an umbrella for describing the mechanics and self-organization of intelligent behavior, in man and machines. Lots of sub-fields in AI, such as reinforcement learning, can be interpreted as a special case of active inference under the FEP, see e.g., [Friston et al., 2009](https://journals.plos.org/plosone/article?id=10.1371/journal.pone.0006421). \n",
    "\n",
    "- Is EFE minimization really different from \"regular\" FE minimization? Not really, it appears that [EFE minimization can be reformulated as a special case of FE minimization](https://link.springer.com/article/10.1007/s00422-019-00805-w). In other words, FE minimization is still the only game in town.\n",
    "\n",
    "- Active inference also completes the \"scientific loop\" picture. Under the FEP, experimental/trial design is driven by EFE minimization. Bayesian probability theory (and FEP) contains all the equations for running scientific inquiry.\n",
    "<p style=\"text-align:center;\"><img style=\"width:auto\" src=\"./figures/scientific-inquiry-loop-complete.png\"></p>\n",
    "\n",
    "- The big engineering challenge remains the computational load of AIF. The human brain consumes about 25 Watt and the neocortex only about 4 Watt (which is about the power consumption of a bicycle light). This is multiple orders of magnitude cheaper than what we can engineer on silicon for similar tasks.    \n",
    "\n",
    "<!--- \n",
    "- In the next class, we make a lightweight excursion to brains and life. What is life? \n",
    "--->\n",
    "\n",
    "\n",
    "\n",
    "\n"
   ]
  },
  {
   "cell_type": "markdown",
   "metadata": {},
   "source": [
    "### Final Thoughts\n",
    "\n",
    "- In the end, all the state inference, parameter estimation, etc., in this lecture series could have been implemented by FE minimization in an appropriately specified generative probabilistic model. However, the Free Energy Principle extends beyond state and parameter estimation. Driven by FE minimization, brains change their structure as well over time. In fact, the FEP extends beyond brains to a general theory for biological self-organization, e.g., [Darwin's natural selection process](https://www.ncbi.nlm.nih.gov/pmc/articles/PMC5857288/) may be interpreted as a FE minimization-driven model optimization process, and here's an article on [FEP for predictive processing in plants](https://royalsocietypublishing.org/doi/10.1098/rsif.2017.0096). Moreover, Constrained-FE minimization (rephrased as the Principle of Maximum Relative Entropy) provides an elegant framework to derive most (if not all) physical laws, as Caticha exposes in his [brilliant monograph](./files/Caticha-2012-Entropic-Inference-and-the-Foundations-of-Physics) on Entropic Physics. Indeed, the framework of FE minimization is known in the physics community as the very fundamental [Principle of Least Action](https://en.wikipedia.org/wiki/Stationary-action_principle) that governs the equations-of-motion in nature. \n",
    "\n",
    "- So, the FEP is very fundamental and extends way beyond applications to machine learning. At [our research lab](http://biaslab.org) at TU/e, we work on developing FEP-based intelligent agents that go out into the world and autonomously learn to accomplish a pre-determined task, such as learning-to-walk or learning-to-process-noisy-speech-signals. Free free to approach us if you want to know more about that effort.    "
   ]
  },
  {
   "cell_type": "markdown",
   "metadata": {
    "slideshow": {
     "slide_type": "slide"
    }
   },
   "source": [
    "## <center>OPTIONAL SLIDES</center>"
   ]
  },
  {
   "cell_type": "markdown",
   "metadata": {},
   "source": [
    "$$\\require{cancel}$$ \n",
    "\n",
    "### In an AIF Agent, Actions fulfill Desired Expectations about the Future\n",
    "\n",
    "- In the [derivations above](#goal-seeking), we decomposed the EFE into an upperbound on the sum of a goal-seeking and information-seeking term. Here, we derive an alternative (exact) decomposition that more clearly reveals the goal-seeking objective</a>.\n",
    "\n",
    "- We consider again the EFE and factorize the generative model $p(x,s|u) = p^\\prime(x) p(s|x,u)$ as a product of a __target prior__ $p^\\prime(x)$ on observations and a __veridical__ state model $p(s|x,u)$. \n",
    "\n",
    "- Through the __target prior__ $p^\\prime(x)$, the agent declares which observations it **wants** to observe in the future. (The prime is just to distinguish the semantics of a desired future from the model for the actual future).\n",
    "\n",
    "- Through the __veridical__ state model $p(s|x,u)$ , the agent implicitly declares its beliefs about how the world will **actually** generate observations.\n",
    "  - In particular, note that through the equality (by Bayes rule)\n",
    "$$p(s|x,u) = \\frac{p(x|s)p(s|u)}{p(x|u)} = \\frac{p(x|s)p(s|u)}{\\sum_s p(x|s)p(s|u)}\\,,$$ \n",
    "it follows that in practice the agent may specify $p(s|x,u)$ implicitly by explicitly specifying a state transition model $p(s|u)$ and observation model $p(x|s)$. \n",
    "\n",
    "- Hence, an AIF agent holds both a model for its beliefs about how the world will actually evolve AND a model for its beliefs about how it desires the world to evolve!! \n",
    "\n",
    "- <a id=\"ambiguity-plus-risk\"></a> To highlight the role of these two models in the EFE, consider the following alternative EFE decomposition:\n",
    "$$\\begin{aligned}\n",
    "G(u) &= \\sum_{x,s}  q(x,s|u) \\log \\frac{q(s|u)}{p^\\prime(x)p(s|x,u)} \\\\\n",
    "&= \\sum_{x,s}  q(x,s|u) \\log \\frac{q(s|u)}{p^\\prime(x)} \\frac{1}{p(s|x,u)}\\\\\n",
    "&= \\sum_{x,s}  q(x,s|u) \\log \\frac{q(s|u)}{p^\\prime(x)} \\frac{p(x|u)}{p(x|s)p(s|u)} \\quad \\text{(use Bayes)}\\\\\n",
    "&= \\sum_{x,s}  q(x,s|u) \\log \\frac{q(s|u)}{p(x|s)p(s|u)} \\frac{p(x|u)}{p^\\prime(x)} \\\\\n",
    "&= \\sum_{x,s}  q(x,s|u) \\log \\frac{q(s|u)}{p(x|s)p(s|u)} + \\sum_{x,s} q(x,s|u) \\log \\frac{p(x|u)}{p^\\prime(x)} \\\\\n",
    "&= \\sum_{x,s}  p(s|u) p(x|s) \\log \\frac{\\cancel{p(s|u)}}{p(x|s)\\cancel{p(s|u)}} + \\sum_{x,s} p(s|u) p(x|s) \\log \\frac{p(x|u)}{p^\\prime(x)} \\quad \\text{( assume }q(x,s|u)=p(x|s)p(s|u)\\text{ )}\\\\\n",
    "&= \\sum_{s}  p(s|u) \\sum_x p(x|s) \\log \\frac{1}{p(x|s)} + \\sum_x p(x|u) \\log \\frac{p(x|u)}{p^\\prime(x)} \\\\\n",
    "&= \\underbrace{E_{p(s|u)}\\left[ H[p(x|s)]\\right]}_{\\text{ambiguity}} + \\underbrace{D_{\\text{KL}}\\left[ p(x|u), p^\\prime(x)\\right]}_{\\text{risk}}\n",
    "\\end{aligned}$$\n",
    "\n",
    "- In this derivation, we have assumed that we can use the generative model to make inferences in the \"forward\" direction. Hence, $q(s|u)=p(s|u)$ and $q(x|s)=p(x|s)$.  \n",
    "\n",
    "- The terms \"ambiguity\" and \"risk\" have their origin in utility theory for behavioral ecocomics. Minimization of EFE leads to minimizing both ambiguity and risk.\n",
    "\n",
    "- Ambiguous (future) states are states that map to large uncertainties about (future) observations. We want to avoid those ambiguous states since it implies that the model is not capable to predict how the world evolves. Ambiguity can be resolved by selecting information-seeking (epistemic) actions. \n",
    "\n",
    "- Minimization of the second term (risk) leads to choosing actions ($u$) that align **predicted** future observations (represented by $p(x|u)$) with **desired** future observations (represented by $p^\\prime(x)$). Agents minimize risk by selecting pragmatic (goal-seeking) actions.\n",
    "\n",
    "- $\\Rightarrow$ **Actions fulfill desired expectations about the future!**\n",
    "\n",
    "- ([return to related cell in main text](#goal-seeking))."
   ]
  },
  {
   "cell_type": "markdown",
   "metadata": {},
   "source": [
    "### Proof $q^*(u) = \\arg\\min_q H[q] \\propto p(u)\\exp(-G(u))$ \n",
    "\n",
    "- <a id='q-star'></a>Consider the following decomposition:\n",
    "$$\\begin{aligned}\n",
    "H[q] &= \\sum_{x,s,u} q(x,s,u) \\log \\frac{q(s,u)}{p(x,s,u)} \\\\\n",
    "&= \\sum_{x,s,u} q(x,s|u) q(u) \\log \\frac{q(s|u) q(u)}{p(x,s|u) p(u)} \\\\\n",
    "&= \\sum_{u} q(u) \\bigg(\\sum_{x,s} q(x,s|u) \\log \\frac{q(s|u) q(u)}{p(x,s|u) p(u)}\\bigg) \\\\\n",
    "&= \\sum_{u} q(u) \\bigg( \\log q(u) + \\log \\frac{1}{p(u)}+ \\underbrace{\\sum_{x,s} q(x,s|u) \\log \\frac{q(s|u)}{p(x,s|u)}}_{G(u)}\\bigg) \\\\\n",
    "&= \\sum_{u} q(u) \\log \\frac{q(u)}{p(u)\\exp\\left(- G(u)\\right) }\n",
    "\\end{aligned}$$\n",
    "\n",
    "- This is a KL-divergence. Minimization of $H[q]$ leads to the following posterior for the policy:\n",
    "$$\\begin{aligned}\n",
    "q^*(u) &= \\arg\\min_q H[q] \\\\\n",
    "&= \\frac{1}{Z}p(u)\\exp(-G(u))\n",
    "\\end{aligned}$$\n",
    "\n",
    "- [(click to return to linked cell in the main text.)](#q-star-main-cell)"
   ]
  },
  {
   "cell_type": "markdown",
   "metadata": {
    "slideshow": {
     "slide_type": "slide"
    }
   },
   "source": [
    "### What Makes a Good Agent? [The Good Regulator Theorem](https://en.wikipedia.org/wiki/Good_regulator)\n",
    "\n",
    "- <a id=\"good-regulator-theorem\"></a> According to Friston, an ``intelligent'' agent like a brain minimizes a variational free energy functional, which, in general, is a functional of a probability distribution $p$ and a variational posterior $q$. \n",
    "\n",
    "- What should the agent's model $p$ be modeling? This question was (already) answered by [Conant and Ashby (1970)](https://www.tandfonline.com/doi/abs/10.1080/00207727008920220) as the Good Regulator Theorem: **every good regulator of a system must be a model of that system**. \n",
    "  \n",
    "- A Quote from Conant and Ashby's paper (this statement was later finessed by [Friston (2013)](https://royalsocietypublishing.org/doi/full/10.1098/rsif.2013.0475)): \n",
    "> \"The theory has the interesting corollary that the living brain, insofar as it is successful and efficient as a regulator for survival, *must* proceed, in learning, by the formation of a model (or models) of its environment.\"\n",
    "\n",
    "<p style=\"text-align:center;\"><img style=\"border:2px solid #000000; width:500px\" src=\"./figures/good-regulator.png\"></p>\n",
    "\n",
    "- ([Return to related cell in main text](#model-specification)).\n",
    "\n",
    "\n"
   ]
  },
  {
   "cell_type": "code",
   "execution_count": 3,
   "metadata": {
    "slideshow": {
     "slide_type": "skip"
    }
   },
   "outputs": [
    {
     "data": {
      "text/html": [
       "<!--\r\n",
       "This HTML file contains custom styles and some javascript.\r\n",
       "Include it a Jupyter notebook for improved rendering.\r\n",
       "-->\r\n",
       "\r\n",
       "<!-- Fonts -->\r\n",
       "<link href='http://fonts.googleapis.com/css?family=Alegreya+Sans:100,300,400,500,700,800,900,100italic,300italic,400italic,500italic,700italic,800italic,900italic' rel='stylesheet' type='text/css'>\r\n",
       "<link href='http://fonts.googleapis.com/css?family=Arvo:400,700,400italic' rel='stylesheet' type='text/css'>\r\n",
       "<link href='http://fonts.googleapis.com/css?family=PT+Mono' rel='stylesheet' type='text/css'>\r\n",
       "<link href='http://fonts.googleapis.com/css?family=Shadows+Into+Light' rel='stylesheet' type='text/css'>\r\n",
       "<link href='http://fonts.googleapis.com/css?family=Nixie+One' rel='stylesheet' type='text/css'>\r\n",
       "\r\n",
       "<!-- Custom style -->\r\n",
       "<style>\r\n",
       "\r\n",
       "@font-face {\r\n",
       "    font-family: \"Computer Modern\";\r\n",
       "    src: url('http://mirrors.ctan.org/fonts/cm-unicode/fonts/otf/cmunss.otf');\r\n",
       "}\r\n",
       "\r\n",
       "#notebook_panel { /* main background */\r\n",
       "    background: rgb(245,245,245);\r\n",
       "}\r\n",
       "\r\n",
       "div.container {\r\n",
       "    min-width: 960px;\r\n",
       "}\r\n",
       "\r\n",
       "div #notebook { /* centre the content */\r\n",
       "    background: #fff; /* white background for content */\r\n",
       "    margin: auto;\r\n",
       "    padding-left: 0em;\r\n",
       "}\r\n",
       "\r\n",
       "#notebook li { /* More space between bullet points */\r\n",
       "    margin-top:0.8em;\r\n",
       "}\r\n",
       "\r\n",
       "/* draw border around running cells */\r\n",
       "div.cell.border-box-sizing.code_cell.running {\r\n",
       "    border: 1px solid #111;\r\n",
       "}\r\n",
       "\r\n",
       "/* Put a solid color box around each cell and its output, visually linking them*/\r\n",
       "div.cell.code_cell {\r\n",
       "    background-color: rgb(256,256,256);\r\n",
       "    border-radius: 0px;\r\n",
       "    padding: 0.5em;\r\n",
       "    margin-left:1em;\r\n",
       "    margin-top: 1em;\r\n",
       "}\r\n",
       "\r\n",
       "div.text_cell_render{\r\n",
       "    font-family: 'Alegreya Sans' sans-serif;\r\n",
       "    line-height: 140%;\r\n",
       "    font-size: 125%;\r\n",
       "    font-weight: 400;\r\n",
       "    width:800px;\r\n",
       "    margin-left:auto;\r\n",
       "    margin-right:auto;\r\n",
       "}\r\n",
       "\r\n",
       "\r\n",
       "/* Formatting for header cells */\r\n",
       ".text_cell_render h1 {\r\n",
       "    font-family: 'Nixie One', serif;\r\n",
       "    font-style:regular;\r\n",
       "    font-weight: 400;\r\n",
       "    font-size: 45pt;\r\n",
       "    line-height: 100%;\r\n",
       "    color: rgb(0,51,102);\r\n",
       "    margin-bottom: 0.5em;\r\n",
       "    margin-top: 0.5em;\r\n",
       "    display: block;\r\n",
       "}\r\n",
       "\r\n",
       ".text_cell_render h2 {\r\n",
       "    font-family: 'Nixie One', serif;\r\n",
       "    font-weight: 400;\r\n",
       "    font-size: 30pt;\r\n",
       "    line-height: 100%;\r\n",
       "    color: rgb(0,51,102);\r\n",
       "    margin-bottom: 0.1em;\r\n",
       "    margin-top: 0.3em;\r\n",
       "    display: block;\r\n",
       "}\r\n",
       "\r\n",
       ".text_cell_render h3 {\r\n",
       "    font-family: 'Nixie One', serif;\r\n",
       "    margin-top:16px;\r\n",
       "    font-size: 22pt;\r\n",
       "    font-weight: 600;\r\n",
       "    margin-bottom: 3px;\r\n",
       "    font-style: regular;\r\n",
       "    color: rgb(102,102,0);\r\n",
       "}\r\n",
       "\r\n",
       ".text_cell_render h4 {    /*Use this for captions*/\r\n",
       "    font-family: 'Nixie One', serif;\r\n",
       "    font-size: 14pt;\r\n",
       "    text-align: center;\r\n",
       "    margin-top: 0em;\r\n",
       "    margin-bottom: 2em;\r\n",
       "    font-style: regular;\r\n",
       "}\r\n",
       "\r\n",
       ".text_cell_render h5 {  /*Use this for small titles*/\r\n",
       "    font-family: 'Nixie One', sans-serif;\r\n",
       "    font-weight: 400;\r\n",
       "    font-size: 16pt;\r\n",
       "    color: rgb(163,0,0);\r\n",
       "    font-style: italic;\r\n",
       "    margin-bottom: .1em;\r\n",
       "    margin-top: 0.8em;\r\n",
       "    display: block;\r\n",
       "}\r\n",
       "\r\n",
       ".text_cell_render h6 { /*use this for copyright note*/\r\n",
       "    font-family: 'PT Mono', sans-serif;\r\n",
       "    font-weight: 300;\r\n",
       "    font-size: 9pt;\r\n",
       "    line-height: 100%;\r\n",
       "    color: grey;\r\n",
       "    margin-bottom: 1px;\r\n",
       "    margin-top: 1px;\r\n",
       "}\r\n",
       "\r\n",
       ".CodeMirror{\r\n",
       "    font-family: \"PT Mono\";\r\n",
       "    font-size: 90%;\r\n",
       "}\r\n",
       "\r\n",
       ".boxed { /* draw a border around a piece of text */\r\n",
       "  border: 1px solid blue ;\r\n",
       "}\r\n",
       "\r\n",
       "h4#CODE-EXAMPLE,\r\n",
       "h4#END-OF-CODE-EXAMPLE {\r\n",
       "    margin: 10px 0;\r\n",
       "    padding: 10px;\r\n",
       "    background-color: #d0f9ca !important;\r\n",
       "    border-top: #849f81 1px solid;\r\n",
       "    border-bottom: #849f81 1px solid;\r\n",
       "}\r\n",
       "\r\n",
       ".emphasis {\r\n",
       "    color: red;\r\n",
       "}\r\n",
       "\r\n",
       ".exercise {\r\n",
       "    color: green;\r\n",
       "}\r\n",
       "\r\n",
       ".proof {\r\n",
       "    color: blue;\r\n",
       "}\r\n",
       "\r\n",
       "code {\r\n",
       "  padding: 2px 4px !important;\r\n",
       "  font-size: 90% !important;\r\n",
       "  color: #222 !important;\r\n",
       "  background-color: #efefef !important;\r\n",
       "  border-radius: 2px !important;\r\n",
       "}\r\n",
       "\r\n",
       "/* This removes the actual style cells from the notebooks, but no in print mode\r\n",
       "   as they will be removed through some other method */\r\n",
       "@media not print {\r\n",
       "  .cell:nth-last-child(-n+2) {\r\n",
       "    display: none;\r\n",
       "  }\r\n",
       "}\r\n",
       "\r\n",
       "footer.hidden-print {\r\n",
       "    display: none !important;\r\n",
       "}\r\n",
       "    \r\n",
       "</style>\r\n",
       "\r\n",
       "<!-- MathJax styling -->\r\n",
       "<script>\r\n",
       "    MathJax.Hub.Config({\r\n",
       "                        CommonHTML: {\r\n",
       "                            scale: 200\r\n",
       "                        },\r\n",
       "                TeX: {\r\n",
       "                    extensions: [\"AMSmath.js\"],\r\n",
       "                    equationNumbers: { autoNumber: \"AMS\", useLabelIds: true}\r\n",
       "                },\r\n",
       "                tex2jax: {\r\n",
       "                    inlineMath: [ ['$','$'], [\"\\\\(\",\"\\\\)\"] ],\r\n",
       "                    displayMath: [ ['$$','$$'], [\"\\\\[\",\"\\\\]\"] ]\r\n",
       "                },\r\n",
       "                displayAlign: 'center', // Change this to 'center' to center equations.\r\n",
       "                \"HTML-CSS\": {\r\n",
       "                    styles: {'.MathJax_Display': {\"margin\": 4}}\r\n",
       "                }\r\n",
       "        });\r\n",
       "</script>\r\n"
      ]
     },
     "metadata": {},
     "output_type": "display_data"
    }
   ],
   "source": [
    "open(\"../../styles/aipstyle.html\") do f\n",
    "    display(\"text/html\", read(f,String))\n",
    "end"
   ]
  },
  {
   "cell_type": "code",
   "execution_count": null,
   "metadata": {},
   "outputs": [],
   "source": []
  }
 ],
 "metadata": {
  "@webio": {
   "lastCommId": null,
   "lastKernelId": null
  },
  "anaconda-cloud": {},
  "celltoolbar": "Slideshow",
  "kernelspec": {
   "display_name": "Julia 1.8.2",
   "language": "julia",
   "name": "julia-1.8"
  },
  "language_info": {
   "file_extension": ".jl",
   "mimetype": "application/julia",
   "name": "julia",
   "version": "1.8.2"
  }
 },
 "nbformat": 4,
 "nbformat_minor": 4
}
