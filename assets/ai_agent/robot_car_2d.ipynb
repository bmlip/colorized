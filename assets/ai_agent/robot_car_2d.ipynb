{
 "cells": [
  {
   "cell_type": "markdown",
   "metadata": {},
   "source": [
    "# A 2D version of the Robot Parking problem"
   ]
  },
  {
   "cell_type": "markdown",
   "metadata": {},
   "source": [
    "Here is a 2D version of the Robot parking problem. Credits for this implemention to  [Thijs van de Laar](https://biaslab.github.io/member/thijs) and [Burak Ergul](https://biaslab.github.io/member/burak). \n"
   ]
  },
  {
   "cell_type": "code",
   "execution_count": 1,
   "metadata": {},
   "outputs": [
    {
     "name": "stderr",
     "output_type": "stream",
     "text": [
      "\u001b[32m\u001b[1m Activating\u001b[22m\u001b[39m environment at `~/biaslab/repos/BMLIP/lessons/notebooks/probprog/workspace/Project.toml`\n"
     ]
    }
   ],
   "source": [
    "using Pkg;Pkg.activate(\"../probprog/workspace/\");Pkg.instantiate()"
   ]
  },
  {
   "cell_type": "code",
   "execution_count": 2,
   "metadata": {},
   "outputs": [],
   "source": [
    "using Random\n",
    "Random.seed!(87613) # Set random seed\n",
    "\n",
    "using LinearAlgebra\n",
    "using PyPlot\n",
    "using ForneyLab\n",
    "\n",
    "include(\"environment_2d.jl\") # Include environmental dynamics\n",
    "include(\"helpers_2d.jl\") # Include helper functions for plotting\n",
    "include(\"agent_2d.jl\") # Load agent's internal beliefs over external dynamics\n",
    ";"
   ]
  },
  {
   "cell_type": "markdown",
   "metadata": {},
   "source": [
    "### Build model\n",
    "\n",
    "We define the state of the robot (at time $k$) as the current orientation and Cartesian coordinates:\n",
    "\\begin{align}\n",
    "    s_k = (ϕ_k, x_k, y_k)^{T}\\,.\n",
    "\\end{align}\n",
    "\n",
    "The control consists of a change in orientation and subsequent travel distance:\n",
    "\\begin{align}\n",
    "    u_k = (\\Delta\\phi_k, r_k)^{T}\\,.\n",
    "\\end{align}\n",
    "\n",
    "The model factorization did not change:\n",
    "\\begin{align}\n",
    "    p_t(o, s, u) &\\propto p(s_{t-1}) \\prod_{k=t}^{t+T} p(o_k | s_k)\\, p(s_k | s_{k-1}, u_k)\\, p(u_k)\\, \\tilde{p}(o_k)\\,.\n",
    "\\end{align}\n",
    "\n",
    "The specific model assumptions however now include a non-linear transition function $g$:\n",
    "\\begin{align}\n",
    "    p(s_{t-1}) &= \\mathcal{N}(s_{t-1} | m_{s, t-t}, V_{s, t-1})\\\\\n",
    "    p(s_k | s_{k-1}, u_k) &= \\mathcal{N}(s_k | g(s_{k-1}, u_k), \\Gamma^{-1})\\\\\n",
    "    p(o_k | s_k) &= \\mathcal{N}(o_k | s_k, \\Phi^{-1})\\\\\n",
    "    p(u_k) &= \\mathcal{N}(u_k | 0, \\Upsilon) \\text{, for } k>t\\\\\n",
    "    \\tilde{p}(o_k) &= \\mathcal{N}(o_k | 0, \\Sigma) \\text{, for } k>t\\\\\n",
    "    p(u_t) &= \\delta(u_t - \\hat{u}_t)\\\\\n",
    "    \\tilde{p}(o_t) &= \\delta(o_t - \\hat{o}_t)\\,.\n",
    "\\end{align}"
   ]
  },
  {
   "cell_type": "code",
   "execution_count": 3,
   "metadata": {},
   "outputs": [],
   "source": [
    "# Internal model perameters\n",
    "Gamma   = 100.0*diageye(3) # Transition precision\n",
    "Phi     = 10.0*diageye(3) # Observation precision\n",
    "Upsilon = Diagonal([0.25*pi, 1.0].^2) # Control prior variance\n",
    "Sigma   = Diagonal([1.0, 30.0, 30.0]) # Goal prior variance\n",
    ";"
   ]
  },
  {
   "cell_type": "code",
   "execution_count": 4,
   "metadata": {},
   "outputs": [],
   "source": [
    "T = 10 # Lookahead\n",
    "\n",
    "# Build internal model\n",
    "fg = FactorGraph()\n",
    "\n",
    "o   = Vector{Variable}(undef, T) # Observed states\n",
    "s_g = Vector{Variable}(undef, T) # Noiseless internal states\n",
    "s   = Vector{Variable}(undef, T) # Noisy internal states\n",
    "u   = Vector{Variable}(undef, T) # Control states\n",
    "\n",
    "@RV s_t_min ~ GaussianMeanVariance(placeholder(:m_s_t_min, dims=(3,)),\n",
    "                                   placeholder(:V_s_t_min, dims=(3,3))) # Prior internal state\n",
    "u_t = placeholder(:u_t, dims=(2,))\n",
    "@RV u[1]   ~ GaussianMeanVariance(u_t, tiny*diageye(2))\n",
    "@RV s_g[1] ~ Nonlinear{Unscented}(s_t_min, u[1], g=g,g_inv=[g_inv_in1,g_inv_in2])\n",
    "@RV s[1]   ~ GaussianMeanPrecision(s_g[1], Gamma)\n",
    "@RV o[1]   ~ GaussianMeanPrecision(s[1], Phi)\n",
    "placeholder(o[1], :o_t, dims=(3,))\n",
    "\n",
    "s_k_min = s[1]\n",
    "for k=2:T\n",
    "    @RV u[k]   ~ GaussianMeanVariance(zeros(2), Upsilon)\n",
    "    @RV s_g[k] ~ Nonlinear{Unscented}(s_k_min, u[k], g=g, g_inv=[g_inv_in1,g_inv_in2]) # Noiseless transition model\n",
    "    @RV s[k]   ~ GaussianMeanPrecision(s_g[k], Gamma) # State transition model including noise\n",
    "    @RV o[k]   ~ GaussianMeanPrecision(s[k], Phi) # Observation model\n",
    "    GaussianMeanVariance(o[k], \n",
    "                         placeholder(:m_o, var_id=:m_o_*k, index=k-1, dims=(3,)),\n",
    "                         placeholder(:V_o, var_id=:V_o_*k, index=k-1, dims=(3,3))) # Goal prior\n",
    "    s_k_min = s[k]\n",
    "end\n",
    ";"
   ]
  },
  {
   "cell_type": "markdown",
   "metadata": {},
   "source": [
    "### Infer algorithm"
   ]
  },
  {
   "cell_type": "code",
   "execution_count": 5,
   "metadata": {},
   "outputs": [
    {
     "name": "stdout",
     "output_type": "stream",
     "text": [
      "function step!(data::Dict, marginals::Dict=Dict(), messages::Vector{Message}=Array{Message}(undef, 59))\n",
      "\n",
      "messages[1] = ruleSPGaussianMeanVarianceOutNPP(nothing, Message(Multivariate, PointMass, m=[0.0, 0.0]), Message(MatrixVariate, PointMass, m=Diagonal([0.6168502750680849, 1.0])))\n",
      "messages[2] = ruleSPGaussianMeanVarianceOutNPP(nothing, Message(Multivariate, PointMass, m=data[:m_s_t_min]), Message(MatrixVariate, PointMass, m=data[:V_s_t_min]))\n",
      "messages[3] = ruleSPGaussianMeanVarianceOutNPP(nothing, Message(Multivariate, PointMass, m=data[:u_t]), Message(MatrixVariate, PointMass, m=Diagonal([1.0e-12, 1.0e-12])))\n",
      "\n",
      "...\n",
      "\n",
      "marginals[:u_2] = messages[1].dist * messages[59].dist\n",
      "\n",
      "return marginals\n",
      "\n",
      "end\n"
     ]
    }
   ],
   "source": [
    "# Schedule message passing algorithm\n",
    "q = PosteriorFactorization(fg)\n",
    "algo = messagePassingAlgorithm(u[2]) # Infer internal states\n",
    "source = algorithmSourceCode(algo)\n",
    "eval(Meta.parse(source)) # Loads the step!() function for inference\n",
    "inspectSnippet(source) # Inspect a snippet of the algorithm code\n",
    ";"
   ]
  },
  {
   "cell_type": "markdown",
   "metadata": {},
   "source": [
    "### Execute algorithm"
   ]
  },
  {
   "cell_type": "code",
   "execution_count": 6,
   "metadata": {},
   "outputs": [],
   "source": [
    "# Initial state\n",
    "ϕ_0 = pi # Initial orientation\n",
    "x_0 = 2.0 # Initial coordinates\n",
    "y_0 = 3.0\n",
    ";"
   ]
  },
  {
   "cell_type": "code",
   "execution_count": 7,
   "metadata": {},
   "outputs": [],
   "source": [
    "N = 20 # Total simulation time\n",
    "\n",
    "(execute, observe)  = initializeWorld() # Let there be a world\n",
    "(infer, act, slide) = initializeAgent() # Let there be an agent\n",
    "\n",
    "# Step through action-perception loop\n",
    "u_hat = Vector{Vector{Float64}}(undef, N) # Actions\n",
    "o_hat = Vector{Vector{Float64}}(undef, N) # Observations\n",
    "for t=1:N\n",
    "    u_hat[t] = act() # Evoke an action from the agent\n",
    "               execute(u_hat[t]) # The action influences hidden external states\n",
    "    o_hat[t] = observe() # Observe the current environmental outcome (update p)\n",
    "               infer(u_hat[t], o_hat[t]) # Infer beliefs from current model state (update q)\n",
    "               slide() # Prepare for next iteration\n",
    "end\n",
    ";"
   ]
  },
  {
   "cell_type": "markdown",
   "metadata": {},
   "source": [
    "### and plot the position track"
   ]
  },
  {
   "cell_type": "code",
   "execution_count": 8,
   "metadata": {},
   "outputs": [
    {
     "data": {
      "image/png": "[encoded data removed]",
      "text/plain": [
       "Figure(PyObject <Figure size 640x480 with 1 Axes>)"
      ]
     },
     "metadata": {},
     "output_type": "display_data"
    }
   ],
   "source": [
    "# Plot active inference results\n",
    "plotTrajectory(u_hat, o_hat)\n",
    ";"
   ]
  },
  {
   "cell_type": "code",
   "execution_count": null,
   "metadata": {},
   "outputs": [],
   "source": []
  }
 ],
 "metadata": {
  "@webio": {
   "lastCommId": null,
   "lastKernelId": null
  },
  "kernelspec": {
   "display_name": "Julia 1.5.2",
   "language": "julia",
   "name": "julia-1.5"
  },
  "language_info": {
   "file_extension": ".jl",
   "mimetype": "application/julia",
   "name": "julia",
   "version": "1.5.2"
  }
 },
 "nbformat": 4,
 "nbformat_minor": 2
}
