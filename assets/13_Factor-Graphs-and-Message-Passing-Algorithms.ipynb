{
 "cells": [
  {
   "cell_type": "markdown",
   "metadata": {
    "slideshow": {
     "slide_type": "slide"
    }
   },
   "source": [
    "# Factor Graphs"
   ]
  },
  {
   "cell_type": "markdown",
   "metadata": {
    "slideshow": {
     "slide_type": "slide"
    }
   },
   "source": [
    "\n",
    "### Preliminaries\n",
    "\n",
    "- Goal \n",
    "  - Introduction to Forney-style factor graphs and message passing algorithms\n",
    "- Materials        \n",
    "  - Mandatory\n",
    "    - These lecture notes   \n",
    "    - [Loeliger, 2007](./files/Loeliger-2007-The-factor-graph-approach-to-model-based-signal-processing.pdf), pp. 1295-1300 (until section IV)\n",
    "  - Optional\n",
    "    - [Video lecture](https://www.youtube.com/watch?v=Fv2YbVg9Frc&t=31) by Frederico Wadehn (ETH Zurich) (**highly recommended**)\n",
    "      \n"
   ]
  },
  {
   "cell_type": "markdown",
   "metadata": {
    "slideshow": {
     "slide_type": "slide"
    }
   },
   "source": [
    "### Why Factor Graphs?\n",
    "\n",
    "- A probabilistic inference task gets its computational load mainly through the need for marginalization (i.e., computing integrals). E.g., for a generative model $p(x_1,x_2,x_3,x_4,x_5)$, the inference task $p(x_2|x_3)$ is given by \n",
    "\n",
    "$$\\begin{align*}\n",
    "p(x_2|x_3) = \\frac{\\idotsint p(x_1,x_2,x_3,x_4,x_5) \\, \\mathrm{d}x_1  \\mathrm{d}x_4 \\mathrm{d}x_5}{\\idotsint p(x_1,x_2,x_3,x_4,x_5) \\, \\mathrm{d}x_1  \\mathrm{d}x_2 \\mathrm{d}x_4 \\mathrm{d}x_5}\n",
    "\\end{align*}$$"
   ]
  },
  {
   "cell_type": "markdown",
   "metadata": {
    "slideshow": {
     "slide_type": "fragment"
    }
   },
   "source": [
    "- Since these computations suffer from the \"curse of dimensionality\", we often need to solve a simpler problem in order to get an answer. "
   ]
  },
  {
   "cell_type": "markdown",
   "metadata": {
    "slideshow": {
     "slide_type": "fragment"
    }
   },
   "source": [
    "- Factor graphs provide a computationally efficient approach to solving inference problems **if the generative distribution can be factorized**. "
   ]
  },
  {
   "cell_type": "markdown",
   "metadata": {
    "slideshow": {
     "slide_type": "fragment"
    }
   },
   "source": [
    "- Factorization helps. For instance, if $p(x_1,x_2,x_3,x_4,x_5) = p(x_1)p(x_2,x_3)p(x_4)p(x_5|x_4)$, then\n",
    "\n",
    "$$\\begin{align*}\n",
    "p(x_2|x_3) &= \\frac{\\idotsint p(x_1)p(x_2,x_3)p(x_4)p(x_5|x_4) \\, \\mathrm{d}x_1  \\mathrm{d}x_4 \\mathrm{d}x_5}{\\idotsint p(x_1)p(x_2,x_3)p(x_4)p(x_5|x_4) \\, \\mathrm{d}x_1  \\mathrm{d}x_2 \\mathrm{d}x_4 \\mathrm{d}x_5} \n",
    "  = \\frac{p(x_2,x_3)}{\\int p(x_2,x_3) \\mathrm{d}x_2}\n",
    "\\end{align*}$$\n",
    "\n",
    "which is computationally much cheaper than the general case above."
   ]
  },
  {
   "cell_type": "markdown",
   "metadata": {
    "slideshow": {
     "slide_type": "fragment"
    }
   },
   "source": [
    "- In this lesson, we discuss how computationally efficient inference in factorized probability distributions can be automated."
   ]
  },
  {
   "cell_type": "markdown",
   "metadata": {
    "slideshow": {
     "slide_type": "slide"
    }
   },
   "source": [
    "###  Factor Graph Construction Rules\n",
    "\n",
    "- Consider a function \n",
    "$$\n",
    "f(x_1,x_2,x_3,x_4,x_5) = f_a(x_1,x_2,x_3) \\cdot f_b(x_3,x_4,x_5) \\cdot f_c(x_4)\n",
    "$$"
   ]
  },
  {
   "cell_type": "markdown",
   "metadata": {
    "slideshow": {
     "slide_type": "fragment"
    }
   },
   "source": [
    "- The factorization of this function can be graphically represented by a **Forney-style Factor Graph** (FFG):\n",
    "\n",
    "<img src=\"./figures/ffg-example-1.png\" width=\"400px\">"
   ]
  },
  {
   "cell_type": "markdown",
   "metadata": {
    "slideshow": {
     "slide_type": "fragment"
    }
   },
   "source": [
    "- An FFG is an **undirected** graph subject to the following construction rules ([Forney, 2001](http://ieeexplore.ieee.org/xpl/login.jsp?tp=&arnumber=910573&url=http%3A%2F%2Fieeexplore.ieee.org%2Fiel5%2F18%2F19638%2F00910573.pdf%3Farnumber%3D910573))\n",
    "\n",
    "  1. A **node** for every factor;\n",
    "  1. An **edge** (or **half-edge**) for every variable;\n",
    "  1. Node $g$ is connected to edge $x$ **iff** variable $x$ appears in factor $g$."
   ]
  },
  {
   "cell_type": "markdown",
   "metadata": {
    "slideshow": {
     "slide_type": "subslide"
    }
   },
   "source": [
    "### Some FFG Terminology\n",
    "\n",
    "- $f$ is called the **global function** and $f_\\bullet$ are the **factors**. \n",
    "\n",
    "- A **configuration** is an assigment of values to all variables.\n",
    "\n",
    "- The **configuration space** is the set of all configurations, i.e., the domain of $f$\n",
    "\n",
    "- A configuration $\\omega=(x_1,x_2,x_3,x_4,x_5)$ is said to be **valid** iff $f(\\omega) \\neq 0$\n",
    "  "
   ]
  },
  {
   "cell_type": "markdown",
   "metadata": {
    "slideshow": {
     "slide_type": "slide"
    }
   },
   "source": [
    "###  Equality Nodes for Branching Points\n",
    "\n",
    "\n",
    "- Note that a variable can appear in maximally two factors in an FFG (since an edge has only two end points)."
   ]
  },
  {
   "cell_type": "markdown",
   "metadata": {
    "slideshow": {
     "slide_type": "fragment"
    }
   },
   "source": [
    "- Consider the factorization (where $x_2$ appears in three factors) \n",
    "\n",
    "$$\n",
    " f(x_1,x_2,x_3,x_4) = f_a(x_1,x_2)\\cdot f_b(x_2,x_3) \\cdot f_c(x_2,x_4)\n",
    "$$"
   ]
  },
  {
   "cell_type": "markdown",
   "metadata": {
    "slideshow": {
     "slide_type": "fragment"
    }
   },
   "source": [
    "- For the factor graph representation, we will instead consider the function $g$, defined as\n",
    "$$\\begin{align*}\n",
    " g(x_1,x_2&,x_2^\\prime,x_2^{\\prime\\prime},x_3,x_4) \n",
    "  = f_a(x_1,x_2)\\cdot f_b(x_2^\\prime,x_3) \\cdot f_c(x_2^{\\prime\\prime},x_4) \\cdot f_=(x_2,x_2^\\prime,x_2^{\\prime\\prime})\n",
    "\\end{align*}$$\n",
    "  where \n",
    "$$\n",
    "f_=(x_2,x_2^\\prime,x_2^{\\prime\\prime}) \\triangleq \\delta(x_2-x_2^\\prime)\\, \\delta(x_2-x_2^{\\prime\\prime})\n",
    "$$\n",
    "\n",
    " <img src=\"./figures/ffg-wEquality-node.png\" width=\"400px\">\n",
    "  "
   ]
  },
  {
   "cell_type": "markdown",
   "metadata": {
    "slideshow": {
     "slide_type": "subslide"
    }
   },
   "source": [
    "###  Equality Nodes for Branching Points, cont'd\n",
    "\n",
    "- Note that through introduction of auxiliary variables $X_2^\\prime$ and $X_2^{\\prime\\prime}$ each variable in $g$ appears in maximally two factors. "
   ]
  },
  {
   "cell_type": "markdown",
   "metadata": {
    "slideshow": {
     "slide_type": "fragment"
    }
   },
   "source": [
    "- The constraint $f_=(x,x^\\prime,x^{\\prime\\prime})$ enforces that $X=X^\\prime=X^{\\prime\\prime}$ **for every valid configuration**."
   ]
  },
  {
   "cell_type": "markdown",
   "metadata": {
    "slideshow": {
     "slide_type": "fragment"
    }
   },
   "source": [
    "- Since $f$ is a marginal of $g$, i.e., \n",
    "$$\n",
    "f(x_1,x_2,x_3,x_4) = \\iint g(x_1,x_2,x_2^\\prime,x_2^{\\prime\\prime},x_3,x_4)\\, \\mathrm{d}x_2^\\prime \\mathrm{d}x_2^{\\prime\\prime}\n",
    "$$\n",
    "it follows that any inference problem on $f$ can be executed by a corresponding inference problem on $g$, e.g.,\n",
    "$$\\begin{align*}\n",
    "f(x_1 \\mid x_2) &\\triangleq \\frac{\\iint f(x_1,x_2,x_3,x_4) \\,\\mathrm{d}x_3 \\mathrm{d}x_4 }{ \\idotsint f(x_1,x_2,x_3,x_4) \\,\\mathrm{d}x_1 \\mathrm{d}x_3 \\mathrm{d}x_4} \\\\\n",
    "  &= \\frac{\\idotsint g(x_1,x_2,x_2^\\prime,x_2^{\\prime\\prime},x_3,x_4) \\,\\mathrm{d}x_2^\\prime \\mathrm{d}x_2^{\\prime\\prime} \\mathrm{d}x_3 \\mathrm{d}x_4 }{ \\idotsint g(x_1,x_2,x_2^\\prime,x_2^{\\prime\\prime},x_3,x_4) \\,\\mathrm{d}x_1 \\mathrm{d}x_2^\\prime \\mathrm{d}x_2^{\\prime\\prime} \\mathrm{d}x_3 \\mathrm{d}x_4} \\\\\n",
    "  &\\triangleq g(x_1 \\mid x_2)\n",
    "\\end{align*}$$"
   ]
  },
  {
   "cell_type": "markdown",
   "metadata": {
    "slideshow": {
     "slide_type": "fragment"
    }
   },
   "source": [
    "- $\\Rightarrow$ **Any factorization of a global function $f$ can be represented by a Forney-style Factor Graph**."
   ]
  },
  {
   "cell_type": "markdown",
   "metadata": {
    "slideshow": {
     "slide_type": "slide"
    }
   },
   "source": [
    "### Probabilistic Models as Factor Graphs\n",
    "\n",
    "- FFGs can be used to express conditional independence (factorization) in probabilistic models. "
   ]
  },
  {
   "cell_type": "markdown",
   "metadata": {
    "slideshow": {
     "slide_type": "fragment"
    }
   },
   "source": [
    "- For example, the (previously shown) graph for \n",
    "$f_a(x_1,x_2,x_3) \\cdot f_b(x_3,x_4,x_5) \\cdot f_c(x_4)$ \n",
    "could represent the probabilistic model\n",
    "$$\n",
    "p(x_1,x_2,x_3,x_4,x_5) = p(x_1,x_2|x_3) \\cdot p(x_3,x_5|x_4) \\cdot p(x_4)\n",
    "$$\n",
    "where we identify \n",
    "$$\\begin{align*}\n",
    "f_a(x_1,x_2,x_3) &= p(x_1,x_2|x_3) \\\\\n",
    "f_b(x_3,x_4,x_5) &= p(x_3,x_5|x_4) \\\\\n",
    "f_c(x_4) &= p(x_4)\n",
    "\\end{align*}$$"
   ]
  },
  {
   "cell_type": "markdown",
   "metadata": {
    "slideshow": {
     "slide_type": "fragment"
    }
   },
   "source": [
    "- This is the graph\n",
    "<img src=\"./figures/ffg-example-prob-model.png\" width=\"400px\">"
   ]
  },
  {
   "cell_type": "markdown",
   "metadata": {
    "slideshow": {
     "slide_type": "slide"
    }
   },
   "source": [
    "### Inference by Closing Boxes\n",
    "\n",
    "- Factorizations provide opportunities to cut on the amount of needed computations when doing inference. In what follows, we will use FFGs to process these opportunities in an automatic way (i.e., by message passing). "
   ]
  },
  {
   "cell_type": "markdown",
   "metadata": {
    "slideshow": {
     "slide_type": "fragment"
    }
   },
   "source": [
    "- Assume we wish to compute the marginal\n",
    "$$\n",
    "\\bar{f}(x_3) = \\sum_{x_1,x_2,x_4,x_5,x_6,x_7}f(x_1,x_2,\\ldots,x_7)\n",
    "$$\n",
    "where $f$ is factorized as given by the following FFG\n",
    "\n",
    "<img src=\"./figures/ffg-message-passing-1.png\" width=\"500px\">"
   ]
  },
  {
   "cell_type": "markdown",
   "metadata": {
    "slideshow": {
     "slide_type": "subslide"
    }
   },
   "source": [
    "- Due to the factorization, we can decompose this sum by the **distributive law** as\n",
    "$$\\begin{align*}\n",
    "\\bar{f}(x_3) = & \\underbrace{ \\left( \\sum_{x_1,x_2} f_a(x_1)\\,f_b(x_2)\\,f_c(x_1,x_2,x_3)\\right) }_{\\overrightarrow{\\mu}_{X_3}(x_3)}  \\\\\n",
    "  & \\underbrace{ \\cdot\\left( \\sum_{x_4,x_5} f_d(x_4)\\,f_e(x_3,x_4,x_5) \\cdot \\underbrace{ \\left( \\sum_{x_6,x_7} f_f(x_5,x_6,x_7)\\,f_g(x_7)\\right) }_{\\overleftarrow{\\mu}_{X_5}(x_5)} \\right) }_{\\overleftarrow{\\mu}_{X_3}(x_3)}\n",
    "\\end{align*}$$\n",
    "which is computationally (much) lighter than executing the full sum $\\sum_{x_1,\\ldots,x_7}f(x_1,x_2,\\ldots,x_7)$\n",
    "\n",
    "<img src=\"./figures/ffg-message-passing-2.png\" width=\"600px\">"
   ]
  },
  {
   "cell_type": "markdown",
   "metadata": {
    "slideshow": {
     "slide_type": "subslide"
    }
   },
   "source": [
    "- Messages may flow in both directions on any edge (here on $X_3$). We often draw _directed edges_ in a FFG in order to distinguish forward messages $\\overrightarrow{\\mu}_\\bullet(\\cdot)$ (in the same direction as the arrow of the edge) from backward messages $\\overleftarrow{\\mu}_\\bullet(\\cdot)$ (in opposite direction). With directed edges, the FFG looks as follows: \n",
    "\n",
    "<img src=\"./figures/ffg-message-passing-3.png\" width=\"600px\">"
   ]
  },
  {
   "cell_type": "markdown",
   "metadata": {
    "slideshow": {
     "slide_type": "fragment"
    }
   },
   "source": [
    "- Crucially, drawing arrows on edges is only meant as a notational convenience. Technically, an FFG is an undirected graph. "
   ]
  },
  {
   "cell_type": "markdown",
   "metadata": {
    "slideshow": {
     "slide_type": "fragment"
    }
   },
   "source": [
    "- Note that $\\overleftarrow{\\mu}_{X_5}(x_5)$ is obtained by multiplying all enclosed factors ($f_f$, $f_g$) by the green dashed box, followed by marginalization over all enclosed variables ($x_6$, $x_7$). "
   ]
  },
  {
   "cell_type": "markdown",
   "metadata": {
    "slideshow": {
     "slide_type": "fragment"
    }
   },
   "source": [
    "- This is the **Closing the Box**-rule, which is a general recipe for marginalization of hidden variables and leads to a new factor with outgoing (sum-product) message \n",
    "$$ \\mu_{\\text{SP}} = \\sum_{ \\stackrel{ \\textrm{enclosed} }{ \\textrm{variables} } } \\;\\prod_{\\stackrel{ \\textrm{enclosed} }{ \\textrm{factors} }}\n",
    "$$"
   ]
  },
  {
   "cell_type": "markdown",
   "metadata": {
    "slideshow": {
     "slide_type": "subslide"
    }
   },
   "source": [
    "### Evaluating the closing-the-box rule for individual nodes\n",
    "  \n",
    "\n",
    "- First, closing a box around the **terminal nodes** leads to $\\overrightarrow{\\mu}_{X_1}(x_1) \\triangleq f_a(x_1)$, $\\overrightarrow{\\mu}_{X_2}(x_2) \\triangleq f_b(x_2)$ etc. \n",
    "  - So, the message out of a terminal node is the factor itself.\n",
    "  - <span class=\"exercise\">(Exercise) Derive now that the message coming from the open end of a half-edge always equals $1$.</span> "
   ]
  },
  {
   "cell_type": "markdown",
   "metadata": {
    "slideshow": {
     "slide_type": "fragment"
    }
   },
   "source": [
    "- The messages from **internal nodes** evaluate to:\n",
    "$$\\begin{align*}\n",
    "\\overrightarrow{\\mu}_{X_3}(x_3) &= \\sum_{x_1,x_2} f_a(x_1) \\,f_b(x_2) \\,f_c(x_1,x_2,x_3) \\\\\n",
    "  &= \\sum_{x_1,x_2} \\overrightarrow{\\mu}_{X_1}(x_1) \\overrightarrow{\\mu}_{X_2}(x_2) \\,f_c(x_1,x_2,x_3) \\\\\n",
    "\\overleftarrow{\\mu}_{X_5}(x_5) &= \\sum_{x_6,x_7} f_f(x_5,x_6,x_7)\\,f_g(x_7) \\\\\n",
    " &= \\sum_{x_6,x_7} \\overrightarrow{\\mu}_{X_7}(x_7)\\, f_f(x_5,x_6,x_7) \\\\\n",
    "\\end{align*}$$"
   ]
  },
  {
   "cell_type": "markdown",
   "metadata": {
    "slideshow": {
     "slide_type": "fragment"
    }
   },
   "source": [
    "- Crucially, all message update rules can be computed from information that is **locally available** at each node."
   ]
  },
  {
   "cell_type": "markdown",
   "metadata": {
    "slideshow": {
     "slide_type": "slide"
    }
   },
   "source": [
    "### Sum-Product Algorithm\n",
    "\n",
    "- (**Sum-Product update rule**). This recursive pattern for computing messages applies generally and is called the **Sum-Product update rule**, which is really just a special case of the closing-the-box rule: For any node, the outgoing message is obtained by taking the product of all incoming messages and the node function, followed by summing out (marginalization) all incoming variables. What is left (the outgoing message) is a function of the outgoing variable only: \n",
    "\n",
    "$$ \\boxed{\n",
    "\\overrightarrow{\\mu}_{Y}(y) = \\sum_{x_1,\\ldots,x_n} \\overrightarrow{\\mu}_{X_1}(x_1)\\cdots \\overrightarrow{\\mu}_{X_n}(x_n) \\,f(y,x_1,\\ldots,x_n) }\n",
    "$$\n",
    "\n",
    "<img src=\"./figures/ffg-sum-product.png\" width=\"400px\">"
   ]
  },
  {
   "cell_type": "markdown",
   "metadata": {
    "slideshow": {
     "slide_type": "fragment"
    }
   },
   "source": [
    "- (**Sum-Product Theorem**). If the factor graph for a function $f$ has **no cycles**, then the marginal $\\bar{f}(x_3) = \\sum_{x_1,x_2,x_4,x_5,x_6,x_7}f(x_1,x_2,\\ldots,x_7)$ is given by the <span style=\"color:red\">Sum-Product Theorem</span>:\n",
    "\n",
    "$$ \\boxed{\n",
    "\\bar{f}(x_3) = \\overrightarrow{\\mu}_{X_3}(x_3)\\cdot \\overleftarrow{\\mu}_{X_3}(x_3)}\n",
    "$$"
   ]
  },
  {
   "cell_type": "markdown",
   "metadata": {
    "slideshow": {
     "slide_type": "subslide"
    }
   },
   "source": [
    "- (**Sum-Product Algorithm**). If folows that the marginal $\\bar{f}(x_3) = \\sum_{x_1,x_2,x_4,x_5,x_6,x_7}f(x_1,x_2,\\ldots,x_7)$ can be efficiently computed through sum-product messages. Executing inference through SP message passing is called the **Sum-Product Algorithm**."
   ]
  },
  {
   "cell_type": "markdown",
   "metadata": {
    "slideshow": {
     "slide_type": "fragment"
    }
   },
   "source": [
    "- <span class=\"exercise\">(Exercise) Verfiy for yourself that all maginals in a cycle-free graph (a tree) can be computed exactly by starting with messages at the terminals and working towards the root of the tree.</span>"
   ]
  },
  {
   "cell_type": "markdown",
   "metadata": {
    "slideshow": {
     "slide_type": "slide"
    }
   },
   "source": [
    "### Processing Observations in a Factor Graph\n",
    "\n",
    " - Terminal nodes can be used describe **observed variables**, e.g., use a factor $$f_Y(y) = \\delta(y-3)$$ to terminate the edge for variable $Y$ if $y=3$ is observed.\n",
    " "
   ]
  },
  {
   "cell_type": "markdown",
   "metadata": {
    "slideshow": {
     "slide_type": "fragment"
    }
   },
   "source": [
    " \n",
    " ##### Example\n",
    " \n",
    " - Consider a generative model \n",
    "$$p(x,y_1,y_2) = p(x)\\,p(y_1|x)\\,p(y_2|x) .$$ \n",
    "  - This model expresses the assumption that $Y_1$ and $Y_2$ are independent measurements of $X$.\n",
    "\n",
    "<img src=\"./figures/ffg-observations.png\" width=\"300px\">"
   ]
  },
  {
   "cell_type": "markdown",
   "metadata": {
    "slideshow": {
     "slide_type": "subslide"
    }
   },
   "source": [
    " \n",
    "- Assume that we are interested in the posterior for $X$ after observing $Y_1= \\hat y_1$ and $Y_2= \\hat y_2$. The posterior for $X$ can be inferred by applying the sum-product algorithm to the following graph:\n",
    "\n",
    "<img src=\"./figures/ffg-observations-2.png\" width=\"450px\">"
   ]
  },
  {
   "cell_type": "markdown",
   "metadata": {
    "slideshow": {
     "slide_type": "fragment"
    }
   },
   "source": [
    " - (Note that) we usually draw terminal nodes for observed variables in the graph by smaller solid-black squares. This is just to help the visualization of the graph, since the computational rules are no different than for other nodes. "
   ]
  },
  {
   "cell_type": "markdown",
   "metadata": {
    "collapsed": true,
    "slideshow": {
     "slide_type": "fragment"
    }
   },
   "source": [
    "- <span class=\"exercise\">(Exercise) Can you draw the messages that infer $p(x\\,|\\,y_1,y_2)$?</span>"
   ]
  },
  {
   "cell_type": "markdown",
   "metadata": {
    "slideshow": {
     "slide_type": "slide"
    }
   },
   "source": [
    "#### CODE EXAMPLE\n",
    "\n",
    "We'll use ForneyLab, a factor graph toolbox for Julia, to build the above graph, and perform sum-product message passing to infer the posterior $p(x|y_1,y_2)$. We assume $p(y_1|x)$ and $p(y_2|x)$ to be Gaussian likelihoods with known variances:\n",
    "$$\\begin{align*}\n",
    "    p(y_1\\,|\\,x) &= \\mathcal{N}(y_1\\,|\\,x, v_{y1}) \\\\\n",
    "    p(y_2\\,|\\,x) &= \\mathcal{N}(y_2\\,|\\,x, v_{y2})\n",
    "\\end{align*}$$\n",
    "Under this model, the posterior is given by:\n",
    "$$\\begin{align*}\n",
    "    p(x\\,|\\,y_1,y_2) &\\propto \\overbrace{p(y_1\\,|\\,x)\\,p(y_2\\,|\\,x)}^{\\text{likelihood}}\\,\\overbrace{p(x)}^{\\text{prior}} \\\\\n",
    "    &=\\mathcal{N}(x\\,|\\,\\hat{y}_1, v_{y1})\\, \\mathcal{N}(x\\,|\\,\\hat{y}_2, v_{y2}) \\, \\mathcal{N}(x\\,|\\,m_x, v_x) \n",
    "\\end{align*}$$\n",
    "so we can validate the answer by solving the Gaussian multiplication manually."
   ]
  },
  {
   "cell_type": "code",
   "execution_count": 1,
   "metadata": {
    "slideshow": {
     "slide_type": "subslide"
    }
   },
   "outputs": [
    {
     "name": "stdout",
     "output_type": "stream",
     "text": [
      "Sum-product message passing result: p(x|y1,y2) = 𝒩(xi=2.00, w=1.75)\n",
      ", with xi=weighted_mean and w=precision\n",
      "Manual result: p(x|y1,y2) = N(m=1.1428571428571428, V=0.5714285714285714), or xi=2.0 and w=1.75\n"
     ]
    }
   ],
   "source": [
    "using ForneyLab \n",
    "\n",
    "# Data\n",
    "y1_hat = 1.0\n",
    "y2_hat = 2.0\n",
    "\n",
    "# Construct the factor graph\n",
    "fg = FactorGraph()\n",
    "@RV x  ~ GaussianMeanVariance(constant(0.0), constant(4.0), id=:x) # Node p(x)\n",
    "@RV y1 ~ GaussianMeanVariance(x, constant(1.0))            # Node p(y1|x)\n",
    "@RV y2 ~ GaussianMeanVariance(x, constant(2.0))            # Node p(y2|x)\n",
    "Clamp(y1, y1_hat)                  # Terminal (clamp) node for y1\n",
    "Clamp(y2, y2_hat)                  # Terminal (clamp) node for y2\n",
    "# draw(fg) # draw the constructed factor graph\n",
    "\n",
    "# Perform sum-product message passing\n",
    "eval(Meta.parse(sumProductAlgorithm(x, name=\"_algo1\"))) # Automatically derives a message passing schedule\n",
    "x_marginal = step_algo1!(Dict())[:x] # Execute algorithm and collect marginal distribution of x\n",
    "println(\"Sum-product message passing result: p(x|y1,y2) = $(x_marginal), with xi=weighted_mean and w=precision\")\n",
    "\n",
    "# Calculate mean and variance of p(x|y1,y2) manually by multiplying 3 Gaussians (see lesson 4 for details)\n",
    "v = 1 / (1/4 + 1/1 + 1/2)\n",
    "m = v * (0/4 + y1_hat/1.0 + y2_hat/2.0)\n",
    "println(\"Manual result: p(x|y1,y2) = N(m=$(m), V=$(v)), or xi=$(m/v) and w=$(1/v)\")"
   ]
  },
  {
   "cell_type": "markdown",
   "metadata": {
    "slideshow": {
     "slide_type": "slide"
    }
   },
   "source": [
    "### Example: SP Messages for the Equality Node\n",
    "\n",
    "- Let´s compute the SP messages for the **equality node** $f_=(x,y,z) = \\delta(z-x)\\delta(z-y)$: \n",
    "\n",
    "<img src=\"./figures/ffg-equality-node.png\" width=\"200px\">"
   ]
  },
  {
   "cell_type": "markdown",
   "metadata": {
    "slideshow": {
     "slide_type": "fragment"
    }
   },
   "source": [
    "$$\\begin{align*}\n",
    "\\overrightarrow{\\mu}_{Z}(z) &= \\iint  \\overrightarrow{\\mu}_{X}(x) \\overrightarrow{\\mu}_{Y}(y) \\,\\delta(z-x)\\delta(z-y) \\,\\mathrm{d}x \\mathrm{d}y \\\\\n",
    "   &=  \\overrightarrow{\\mu}_{X}(z)  \\int  \\overrightarrow{\\mu}_{Y}(y) \\,\\delta(z-y) \\,\\mathrm{d}y \\\\\n",
    "   &=  \\overrightarrow{\\mu}_{X}(z) \\overrightarrow{\\mu}_{Y}(z) \n",
    "\\end{align*}$$"
   ]
  },
  {
   "cell_type": "markdown",
   "metadata": {
    "slideshow": {
     "slide_type": "fragment"
    }
   },
   "source": [
    "- By symmetry, this also implies (for the same equality node) that\n",
    "\n",
    "$$\\begin{align*}\n",
    "\\overleftarrow{\\mu}_{X}(x) &= \\overrightarrow{\\mu}_{Y}(x) \\overleftarrow{\\mu}_{Z}(x) \\quad \\text{and} \\\\\n",
    "\\overleftarrow{\\mu}_{Y}(y) &= \\overrightarrow{\\mu}_{X}(y) \\overleftarrow{\\mu}_{Z}(y)\\,.\n",
    "\\end{align*}$$"
   ]
  },
  {
   "cell_type": "markdown",
   "metadata": {
    "slideshow": {
     "slide_type": "subslide"
    }
   },
   "source": [
    "- Let us now consider the case of Gaussian messages $\\overrightarrow{\\mu}_{X}(x) = \\mathcal{N}(\\overrightarrow{m}_X,\\overrightarrow{V}_X)$, $\\overrightarrow{\\mu}_{Y}(y) = \\mathcal{N}(\\overrightarrow{m}_Y,\\overrightarrow{V}_Y)$ and $\\overrightarrow{\\mu}_{Z}(z) = \\mathcal{N}(\\overrightarrow{m}_Z,\\overrightarrow{V}_Z)$. Let´s also define the precision matrices $\\overrightarrow{W}_X \\triangleq \\overrightarrow{V}_X^{-1}$ and similarly for $Y$ and $Z$. Then applying the SP update rule leads to multiplication of two Gaussian distributions, resulting in \n",
    "\n",
    "$$\\begin{align*}\n",
    "\\overrightarrow{W}_Z &= \\overrightarrow{W}_X + \\overrightarrow{W}_Y \\\\ \n",
    "\\overrightarrow{W}_Z \\overrightarrow{m}_z &= \\overrightarrow{W}_X \\overrightarrow{m}_X + \\overrightarrow{W}_Y \\overrightarrow{m}_Y\n",
    "\\end{align*}$$"
   ]
  },
  {
   "cell_type": "markdown",
   "metadata": {
    "slideshow": {
     "slide_type": "fragment"
    }
   },
   "source": [
    "- It follows that **message passing through an equality node is similar to applying Bayes rule**, i.e., fusion of two information sources. Does this make sense?"
   ]
  },
  {
   "cell_type": "markdown",
   "metadata": {
    "slideshow": {
     "slide_type": "slide"
    }
   },
   "source": [
    "### <span style=\"color:red\">(OPTIONAL SLIDE)</span> Example: SP Messages for the Addition Nodes\n",
    "\n",
    "- Next, consider an **addition node** $f_+(x,y,z) = \\delta(z-x-y)$:  \n",
    "<img src=\"./figures/ffg-addition-node.png\" width=\"200px\">"
   ]
  },
  {
   "cell_type": "markdown",
   "metadata": {
    "slideshow": {
     "slide_type": "fragment"
    }
   },
   "source": [
    "$$\\begin{align*}\n",
    "\\overrightarrow{\\mu}_{Z}(z) &= \\iint  \\overrightarrow{\\mu}_{X}(x) \\overrightarrow{\\mu}_{Y}(y) \\,\\delta(z-x-y) \\,\\mathrm{d}x \\mathrm{d}y \\\\\n",
    "   &=  \\int  \\overrightarrow{\\mu}_{X}(x) \\overrightarrow{\\mu}_{Y}(z-x) \\,\\mathrm{d}x \\,, \n",
    "\\end{align*}$$\n",
    "i.e., $\\overrightarrow{\\mu}_{Z}$ is the convolution of the messages $\\overrightarrow{\\mu}_{X}$ and $\\overrightarrow{\\mu}_{Y}$."
   ]
  },
  {
   "cell_type": "markdown",
   "metadata": {
    "slideshow": {
     "slide_type": "fragment"
    }
   },
   "source": [
    "- Of course, for Gaussian messages, these update rules evaluate to\n",
    "\n",
    "$$\\begin{align*}\n",
    "\\overrightarrow{m}_Z = \\overrightarrow{m}_X + \\overrightarrow{m}_Y \\,,\\,\\text{and}\\,\\,\\overrightarrow{V}_z = \\overrightarrow{V}_X + \\overrightarrow{V}_Y \\,.\n",
    "\\end{align*}$$"
   ]
  },
  {
   "cell_type": "markdown",
   "metadata": {
    "slideshow": {
     "slide_type": "fragment"
    }
   },
   "source": [
    "- <div class=\"exercise\"><b>Exercise</b>: For the same summation node, work out the SP update rule for the *backward* message $\\overleftarrow{\\mu}_{X}(x)$ as a function of $\\overrightarrow{\\mu}_{Y}(y)$ and  $\\overleftarrow{\\mu}_{Z}(z)$? And further refine the answer for Gaussian messages. </div>   "
   ]
  },
  {
   "cell_type": "markdown",
   "metadata": {
    "slideshow": {
     "slide_type": "slide"
    }
   },
   "source": [
    "### <span style=\"color:red\">(OPTIONAL SLIDE)</span> Example: SP Messages for Multiplication Nodes\n",
    "- Next, let us consider a **multiplication** by a fixed (invertible matrix) gain $f_A(x,y) = \\delta(y-Ax)$\n",
    "\n",
    "<img src=\"./figures/ffg-gain-node.png\" width=\"200px\">"
   ]
  },
  {
   "cell_type": "markdown",
   "metadata": {
    "slideshow": {
     "slide_type": "fragment"
    }
   },
   "source": [
    "$$\\begin{align*}\n",
    "\\overrightarrow{\\mu}_{Y}(y) = \\int  \\overrightarrow{\\mu}_{X}(x) \\,\\delta(y-Ax) \\,\\mathrm{d}x = \\overrightarrow{\\mu}_{X}(A^{-1}y) \\,.\n",
    "\\end{align*}$$"
   ]
  },
  {
   "cell_type": "markdown",
   "metadata": {
    "slideshow": {
     "slide_type": "fragment"
    }
   },
   "source": [
    "- For a Gaussian message input message $\\overrightarrow{\\mu}_{X}(x) = \\mathcal{N}(\\overrightarrow{m}_{X},\\overrightarrow{V}_{X})$, the output message is also Gaussian with \n",
    "$$\\begin{align*}\n",
    "\\overrightarrow{m}_{Y} = A\\overrightarrow{m}_{X} \\,,\\,\\text{and}\\,\\,\n",
    "\\overrightarrow{V}_{Y} = A\\overrightarrow{V}_{X}A^T\n",
    "\\end{align*}$$\n",
    "since \n",
    "$$\\begin{align*}\n",
    "\\overrightarrow{\\mu}_{Y}(y) &= \\overrightarrow{\\mu}_{X}(A^{-1}y) \\\\\n",
    "  &\\propto \\exp \\left( -\\frac{1}{2} \\left( A^{-1}y - \\overrightarrow{m}_{X}\\right)^T \\overrightarrow{V}_{X}^{-1} \\left(  A^{-1}y - \\overrightarrow{m}_{X}\\right)\\right) \\\\\n",
    "   &= \\exp \\left( -\\frac{1}{2} \\left( y - A\\overrightarrow{m}_{X}\\right)^T A^{-T}\\overrightarrow{V}_{X}^{-1} A \\left( y - A\\overrightarrow{m}_{X}\\right)\\right) \\\\\n",
    "  &\\propto  \\mathcal{N}(A\\overrightarrow{m}_{X},A\\overrightarrow{V}_{X}A^T) \\,.\n",
    "\\end{align*}$$"
   ]
  },
  {
   "cell_type": "markdown",
   "metadata": {
    "slideshow": {
     "slide_type": "subslide"
    }
   },
   "source": [
    "- <div class=\"exercise\"><b>Excercise</b>: Proof that, for the same factor $\\delta(y-Ax)$ and Gaussian messages, the (backward) sum-product message $\\overleftarrow{\\mu}_{X}$ is given by \n",
    "$$\\begin{align*}\n",
    "\\overleftarrow{\\xi}_{X} &= A^T\\overleftarrow{\\xi}_{Y} \\\\\n",
    "\\overleftarrow{W}_{X} &= A^T\\overleftarrow{W}_{Y}A\n",
    "\\end{align*}$$\n",
    "where $\\overleftarrow{\\xi}_X \\triangleq \\overleftarrow{W}_X \\overleftarrow{m}_X$ and $\\overleftarrow{W}_{X} \\triangleq \\overleftarrow{V}_{X}^{-1}$ (and similarly for $Y$).</div>"
   ]
  },
  {
   "cell_type": "markdown",
   "metadata": {
    "slideshow": {
     "slide_type": "slide"
    }
   },
   "source": [
    "\n",
    "### <span style=\"color:red\">(OPTIONAL SLIDE)</span> \n",
    "#### CODE EXAMPLE\n",
    "\n",
    "Let's calculate the Gaussian forward and backward messages for the addition node in ForneyLab. <img src=\"./figures/ffg-addition-node.png\" width=\"200px\">"
   ]
  },
  {
   "cell_type": "code",
   "execution_count": 2,
   "metadata": {
    "slideshow": {
     "slide_type": "subslide"
    }
   },
   "outputs": [
    {
     "name": "stdout",
     "output_type": "stream",
     "text": [
      "Forward message on Z: 𝒩(m=3.00, v=2.00)\n",
      "Backward message on X: 𝒩(m=1.00, v=2.00)\n"
     ]
    }
   ],
   "source": [
    "# Forward message towards Z\n",
    "fg = FactorGraph()\n",
    "@RV x ~ GaussianMeanVariance(constant(1.0), constant(1.0), id=:x) \n",
    "@RV y ~ GaussianMeanVariance(constant(2.0), constant(1.0), id=:y)\n",
    "@RV z = x + y; z.id = :z\n",
    "\n",
    "eval(Meta.parse(sumProductAlgorithm(z, name=\"_z_fwd\")))\n",
    "msg_forward_Z = step_z_fwd!(Dict())[:z]\n",
    "print(\"Forward message on Z: $(msg_forward_Z)\")\n",
    "\n",
    "# Backward message towards X\n",
    "fg = FactorGraph()\n",
    "@RV x = Variable(id=:x)\n",
    "@RV y ~ GaussianMeanVariance(constant(2.0), constant(1.0), id=:y)\n",
    "@RV z = x + y\n",
    "GaussianMeanVariance(z, constant(3.0), constant(1.0), id=:z) \n",
    "\n",
    "eval(Meta.parse(sumProductAlgorithm(x, name=\"_x_bwd\")))\n",
    "msg_backward_X = step_x_bwd!(Dict())[:x]\n",
    "print(\"Backward message on X: $(msg_backward_X)\")"
   ]
  },
  {
   "cell_type": "markdown",
   "metadata": {
    "slideshow": {
     "slide_type": "slide"
    }
   },
   "source": [
    "### <span style=\"color:red\">(OPTIONAL SLIDE)</span> \n",
    "#### CODE EXAMPLE\n",
    "\n",
    "In the same way we can also investigate the forward and backward messages for the gain node <img src=\"./figures/ffg-gain-node.png\" width=\"200px\">"
   ]
  },
  {
   "cell_type": "code",
   "execution_count": 3,
   "metadata": {
    "slideshow": {
     "slide_type": "subslide"
    }
   },
   "outputs": [
    {
     "name": "stdout",
     "output_type": "stream",
     "text": [
      "Forward message on Y: 𝒩(m=4.00, v=16.00)\n"
     ]
    }
   ],
   "source": [
    "# Forward message towards Y\n",
    "fg = FactorGraph()\n",
    "@RV x ~ GaussianMeanVariance(constant(1.0), constant(1.0), id=:x)\n",
    "@RV y = constant(4.0) * x; y.id = :y\n",
    "\n",
    "eval(Meta.parse(sumProductAlgorithm(y, name=\"_y_fwd\")))\n",
    "msg_forward_Y = step_y_fwd!(Dict())[:y]\n",
    "print(\"Forward message on Y: $(msg_forward_Y)\")"
   ]
  },
  {
   "cell_type": "code",
   "execution_count": 4,
   "metadata": {
    "slideshow": {
     "slide_type": "subslide"
    }
   },
   "outputs": [
    {
     "name": "stdout",
     "output_type": "stream",
     "text": [
      "Backward message on X: 𝒩(xi=8.00, w=16.00)\n"
     ]
    }
   ],
   "source": [
    "# Backward message towards X\n",
    "fg = FactorGraph()\n",
    "x = Variable(id=:x)\n",
    "@RV y = constant(4.0) * x\n",
    "GaussianMeanVariance(y, constant(2.0), constant(1.0))\n",
    "\n",
    "eval(Meta.parse(sumProductAlgorithm(x, name=\"_x_fwd2\")))\n",
    "msg_backward_X = step_x_fwd2!(Dict())[:x]\n",
    "print(\"Backward message on X: $(msg_backward_X)\")"
   ]
  },
  {
   "cell_type": "markdown",
   "metadata": {
    "slideshow": {
     "slide_type": "slide"
    }
   },
   "source": [
    "### <span class=\"exercise\">Example: Bayesian Linear Regression</span>\n",
    "\n",
    "- Recall: the goal of regression is to estimate an unknown function from a set of (noisy) function values."
   ]
  },
  {
   "cell_type": "markdown",
   "metadata": {
    "slideshow": {
     "slide_type": "fragment"
    }
   },
   "source": [
    "- Assume we want to estimate some function $f: \\mathbb{R}^D \\rightarrow \\mathbb{R}$ from data set $D = \\{(x_1,y_1), \\ldots, (x_N,y_N)\\}$, where $y_i = f(x_i) + \\epsilon_i$."
   ]
  },
  {
   "cell_type": "markdown",
   "metadata": {
    "slideshow": {
     "slide_type": "fragment"
    }
   },
   "source": [
    "- We will assume a linear model with white Gaussian noise and a Gaussian prior on the coefficients $w$:\n",
    "$$\\begin{align*}\n",
    "  y_i &= w^T x_i  + \\epsilon_i \\\\\n",
    "  \\epsilon_i &\\sim \\mathcal{N}(0, \\sigma^2) \\\\ \n",
    "  w &\\sim \\mathcal{N}(0,\\Sigma)\n",
    "\\end{align*}$$\n",
    "or equivalently\n",
    "$$\\begin{align*}\n",
    "p(D,w) &= \\overbrace{p(w)}^{\\text{weight prior}} \\prod_{i=1}^N  \\overbrace{p(y_i\\,|\\,x_i,w,\\epsilon_i)}^{\\text{regression model}} \\overbrace{p(\\epsilon_i)}^{\\text{noise model}} \\\\\n",
    "  &= \\mathcal{N}(w\\,|\\,0,\\Sigma) \\prod_{i=1}^N \\delta(y_i - w^T x_i - \\epsilon_i) \\mathcal{N}(\\epsilon_i\\,|\\,0,\\sigma^2) \n",
    "\\end{align*}$$"
   ]
  },
  {
   "cell_type": "markdown",
   "metadata": {
    "slideshow": {
     "slide_type": "fragment"
    }
   },
   "source": [
    "- We are interested in inferring the posterior $p(w|D)$"
   ]
  },
  {
   "cell_type": "markdown",
   "metadata": {
    "slideshow": {
     "slide_type": "subslide"
    }
   },
   "source": [
    "- Here's the factor graph for this model\n",
    "<img src=\"./figures/ffg-bayesian-linear-regression.png\" width=\"250\">"
   ]
  },
  {
   "cell_type": "markdown",
   "metadata": {
    "slideshow": {
     "slide_type": "slide"
    }
   },
   "source": [
    "#### CODE EXAMPLE\n",
    "\n",
    "Let's build the factor graph in Julia (with the FFG toolbox ForneyLab)"
   ]
  },
  {
   "cell_type": "code",
   "execution_count": 5,
   "metadata": {
    "slideshow": {
     "slide_type": "subslide"
    }
   },
   "outputs": [
    {
     "data": {
      "image/png": "[encoded data removed]",
      "text/plain": [
       "Figure(PyObject <Figure size 640x480 with 1 Axes>)"
      ]
     },
     "metadata": {},
     "output_type": "display_data"
    },
    {
     "data": {
      "text/plain": [
       "PyObject Text(29.88125000000001, 0.5, '$f([1.0, z, z^2]) + \\\\epsilon$')"
      ]
     },
     "execution_count": 5,
     "metadata": {},
     "output_type": "execute_result"
    }
   ],
   "source": [
    "using PyPlot, ForneyLab, LinearAlgebra\n",
    "\n",
    "# Parameters\n",
    "Σ = 1e5 * Diagonal(I,3) # Covariance matrix of prior on w\n",
    "σ2 = 2.0         # Noise variance\n",
    "\n",
    "# Generate data set\n",
    "w = [1.0; 2.0; 0.25]\n",
    "N = 30\n",
    "z = 10.0*rand(N)\n",
    "x_train = [[1.0; z; z^2] for z in z] # Feature vector x = [1.0; z; z^2]\n",
    "f(x) = (w'*x)[1]\n",
    "y_train = map(f, x_train) + sqrt(σ2)*randn(N) # y[i] = w' * x[i] + ϵ\n",
    "scatter(z, y_train); xlabel(L\"z\"); ylabel(L\"f([1.0, z, z^2]) + \\epsilon\")"
   ]
  },
  {
   "cell_type": "markdown",
   "metadata": {
    "slideshow": {
     "slide_type": "slide"
    }
   },
   "source": [
    "#### CODE EXAMPLE\n",
    "\n",
    "Perform sum-product message passing and plot result (mean of posterior)"
   ]
  },
  {
   "cell_type": "code",
   "execution_count": 6,
   "metadata": {
    "slideshow": {
     "slide_type": "subslide"
    }
   },
   "outputs": [
    {
     "data": {
      "image/png": "[encoded data removed]",
      "text/plain": [
       "Figure(PyObject <Figure size 640x480 with 1 Axes>)"
      ]
     },
     "metadata": {},
     "output_type": "display_data"
    },
    {
     "name": "stdout",
     "output_type": "stream",
     "text": [
      "Posterior distribution of w: 𝒩(xi=[3.18e+02, 2.18e+03, 1.63e+04], w=[[15.00, 83.82, 5.57e+02][83.82, 5.57e+02, 4.06e+03][5.57e+02, 4.06e+03, 3.13e+04]])\n",
      "\n"
     ]
    }
   ],
   "source": [
    "# Build factorgraph\n",
    "\n",
    "fg = FactorGraph()\n",
    "@RV w ~ GaussianMeanVariance(constant(zeros(3)), constant(Σ, id=:Σ), id=:w) # p(w)\n",
    "for t=1:N\n",
    "    x_t = Variable(id=:x_*t)\n",
    "    d_t = Variable(id=:d_*t) # d=w'*x\n",
    "    DotProduct(d_t, x_t, w) # p(f|w,x)\n",
    "    @RV y_t ~ GaussianMeanVariance(d_t, constant(σ2, id=:σ2_*t), id=:y_*t) # p(y|d)\n",
    "    placeholder(x_t, :x, index=t, dims=(3,))\n",
    "    placeholder(y_t, :y, index=t);\n",
    "end\n",
    "\n",
    "# Build and run message passing algorithm\n",
    "eval(Meta.parse(sumProductAlgorithm(w)))\n",
    "data = Dict(:x => x_train, :y => y_train)\n",
    "w_posterior_dist = step!(data)[:w]\n",
    "\n",
    "# Plot result\n",
    "println(\"Posterior distribution of w: $(w_posterior_dist)\")\n",
    "scatter(z, y_train); xlabel(L\"z\"); ylabel(L\"f([1.0, z, z^2]) + \\epsilon\");\n",
    "z_test = collect(0:0.2:12)\n",
    "x_test = [[1.0; z; z^2] for z in z_test]\n",
    "for sample=1:10\n",
    "    w = ForneyLab.sample(w_posterior_dist)\n",
    "    f_est(x) = (w'*x)[1]\n",
    "    plot(z_test, map(f_est, x_test), \"k-\", alpha=0.3);\n",
    "end"
   ]
  },
  {
   "cell_type": "markdown",
   "metadata": {
    "slideshow": {
     "slide_type": "slide"
    }
   },
   "source": [
    "### <span class=\"exercise\">Homework Exercises </span>\n",
    "\n",
    "- (Ex.1) Reflect on the fact that we now have methods for both marginalization and processing observations in FFGs. In principle, we are sufficiently equipped to do inference in probabilistic models through message passing. Draw the graph for $$p(x_1,x_2,x_3)=f_a(x_1)\\cdot f_b(x_1,x_2)\\cdot f_c(x_2,x_3)$$ and show which boxes need to be closed for computing $p(x_1|x_2)$."
   ]
  },
  {
   "cell_type": "markdown",
   "metadata": {
    "slideshow": {
     "slide_type": "fragment"
    }
   },
   "source": [
    "- (Ex.2) Consider a variable $X$ with measurements $D=\\{x_1,x_2\\}$. We assume the following model for $X$:\n",
    "$$\\begin{align*}\n",
    "p(D,\\theta) &= p(\\theta)\\cdot \\prod_{n=1}^2 p(x_n|\\theta)  \\\\\n",
    "p(\\theta) &= \\mathcal{N}(\\theta \\mid 0,1) \\\\\n",
    "p(x_n \\mid\\theta) &= \\mathcal{N}(x_n \\mid \\theta,1)\n",
    "\\end{align*}$$\n",
    "  - Draw the factor graph and infer $\\theta$ through the Sum-Product Algorithm. "
   ]
  },
  {
   "cell_type": "markdown",
   "metadata": {
    "slideshow": {
     "slide_type": "slide"
    }
   },
   "source": [
    "### Message Passing in State-space Models\n",
    "\n",
    "\n",
    "\n",
    "Consider the Markov state-space model  \n",
    "$$\n",
    " p(x^T,z^T) = \\underbrace{p(z_1)}_{\\text{initial state}} \\prod_{t=2}^T \\underbrace{p(z_t\\,|\\,z_{t-1})}_{\\text{state transitions}}\\,\\prod_{t=1}^T \\underbrace{p(x_t\\,|\\,z_t)}_{\\text{observations}}\n",
    "$$"
   ]
  },
  {
   "cell_type": "markdown",
   "metadata": {
    "slideshow": {
     "slide_type": "fragment"
    }
   },
   "source": [
    "- The Forney-style factor graph for a state-space model:\n",
    "\n",
    "<img src=\"./figures/ffg-state-space.png\" width=\"600px\">"
   ]
  },
  {
   "cell_type": "markdown",
   "metadata": {
    "slideshow": {
     "slide_type": "subslide"
    }
   },
   "source": [
    "- In principle, for linear Gaussian models these inference tasks can be analytically solved, see e.g. [Faragher, 2012](./files/Faragher-2012-Understanding-the-Basis-of-the-Kalman-Filter.pdf)  and previous lesson on state-space models\n",
    "  - These derivations quickly become quite laborious  "
   ]
  },
  {
   "cell_type": "markdown",
   "metadata": {
    "slideshow": {
     "slide_type": "fragment"
    }
   },
   "source": [
    "- Alternatively, we could specify the generative model in a (Forney-style) factor graph and use automated message passing to infer the posterior over the hidden variables. E.g., the message passing schedule for Kalman filtering looks like this: \n",
    "\n",
    "<img src=\"./figures/ffg-state-space-with-state-estimation.png\" width=\"600\">"
   ]
  },
  {
   "cell_type": "markdown",
   "metadata": {
    "slideshow": {
     "slide_type": "slide"
    }
   },
   "source": [
    "### The Cart Tracking Problem Revisited\n",
    "\n",
    "We can solve the cart tracking problem of the Dynamical systems lesson by sum-product message passing in a factor graph like the one depicted above. All we have to do is create factor nodes for the state-transition model $p(z_t|z_{t-1})$ and the observation model $p(x_t|z_t)$. Then we just build the factor graph and let ForneyLab (factor graph toolbox) perform message passing. \n",
    "\n",
    "We'll implement the following model:\n",
    "\n",
    "$$\\begin{align*}\n",
    "\\begin{bmatrix} z_t \\\\ \\dot{z_t}\\end{bmatrix} &=  \\begin{bmatrix} 1 & \\Delta t \\\\ 0 & 1\\end{bmatrix} \\begin{bmatrix} z_{t-1} \\\\ \\dot z_{t-1}\\end{bmatrix} + \\begin{bmatrix} (\\Delta t)^2/2 \\\\ \\Delta t\\end{bmatrix} u_t + \\mathcal{N}(0,\\Sigma_z) \\\\\n",
    "\\mathbf{x}_t &= \\begin{bmatrix} z_t \\\\ \\dot{z_t}\\end{bmatrix} + \\mathcal{N}(0,\\Sigma_x)\n",
    "\\end{align*}$$"
   ]
  },
  {
   "cell_type": "code",
   "execution_count": 2,
   "metadata": {
    "slideshow": {
     "slide_type": "subslide"
    }
   },
   "outputs": [],
   "source": [
    "using LinearAlgebra, ForneyLab\n",
    "include(\"scripts/cart_tracking_helpers.jl\") # implements required factor nodes + helper functions\n",
    "\n",
    "# Specify the model parameters\n",
    "Δt = 1.0                     # assume the time steps to be equal in size\n",
    "A = [1.0 Δt;\n",
    "     0.0 1.0]\n",
    "b = [0.5*Δt^2; Δt] \n",
    "Σz = convert(Matrix,Diagonal([0.2*Δt; 0.1*Δt])) # process noise covariance\n",
    "Σx = convert(Matrix,Diagonal([1.0; 2.0]))     # observation noise covariance;\n",
    "\n",
    "# Generate noisy observations\n",
    "n = 10                # perform 10 timesteps\n",
    "z_start = [10.0; 2.0] # initial state\n",
    "u = 0.2 * ones(n)     # constant input u\n",
    "noisy_x = generateNoisyMeasurements(z_start, u, A, b, Σz, Σx);"
   ]
  },
  {
   "cell_type": "markdown",
   "metadata": {
    "slideshow": {
     "slide_type": "fragment"
    }
   },
   "source": [
    "Since the factor graph is just a concatination of $n$ identical \"sections\", we only have to specify a single section. When running the message passing algorithm we will explictly use the posterior of the previous timestep as prior in the next one. Let's build a section of the factor graph:"
   ]
  },
  {
   "cell_type": "code",
   "execution_count": 3,
   "metadata": {
    "slideshow": {
     "slide_type": "fragment"
    }
   },
   "outputs": [
    {
     "data": {
      "image/svg+xml": [
       "<?xml version=\"1.0\" encoding=\"UTF-8\" standalone=\"no\"?>\r\n",
       "<!DOCTYPE svg PUBLIC \"-//W3C//DTD SVG 1.1//EN\"\r\n",
       " \"http://www.w3.org/Graphics/SVG/1.1/DTD/svg11.dtd\">\r\n",
       "<!-- Generated by graphviz version 2.38.0 (20140413.2041)\r\n",
       " -->\r\n",
       "<!-- Title: G Pages: 1 -->\r\n",
       "<svg width=\"650pt\" height=\"746pt\"\r\n",
       " viewBox=\"0.00 0.00 649.50 746.00\" xmlns=\"http://www.w3.org/2000/svg\" xmlns:xlink=\"http://www.w3.org/1999/xlink\">\r\n",
       "<g id=\"graph0\" class=\"graph\" transform=\"scale(1 1) rotate(0) translate(4 742)\">\r\n",
       "<title>G</title>\r\n",
       "<polygon fill=\"white\" stroke=\"none\" points=\"-4,4 -4,-742 645.5,-742 645.5,4 -4,4\"/>\r\n",
       "<!-- 6947781036024724108 -->\r\n",
       "<g id=\"node1\" class=\"node\"><title>6947781036024724108</title>\r\n",
       "<polygon fill=\"lightgrey\" stroke=\"black\" points=\"99,-54 0,-54 0,-0 99,-0 99,-54\"/>\r\n",
       "<text text-anchor=\"middle\" x=\"49.5\" y=\"-24.8\" font-family=\"Times New Roman,serif\" font-size=\"9.00\">placeholder_z_prev_m</text>\r\n",
       "</g>\r\n",
       "<!-- 3201874967886993523 -->\r\n",
       "<g id=\"node2\" class=\"node\"><title>3201874967886993523</title>\r\n",
       "<polygon fill=\"lightgrey\" stroke=\"black\" points=\"489.5,-738 423.5,-738 423.5,-684 489.5,-684 489.5,-738\"/>\r\n",
       "<text text-anchor=\"middle\" x=\"456.5\" y=\"-708.8\" font-family=\"Times New Roman,serif\" font-size=\"9.00\">placeholder_x</text>\r\n",
       "</g>\r\n",
       "<!-- 12873030637990256788 -->\r\n",
       "<g id=\"node6\" class=\"node\"><title>12873030637990256788</title>\r\n",
       "<polygon fill=\"none\" stroke=\"black\" points=\"508.5,-639 404.5,-639 404.5,-567 508.5,-567 508.5,-639\"/>\r\n",
       "<text text-anchor=\"middle\" x=\"456.5\" y=\"-605.8\" font-family=\"Times New Roman,serif\" font-size=\"9.00\">𝒩</text>\r\n",
       "<text text-anchor=\"middle\" x=\"456.5\" y=\"-595.8\" font-family=\"Times New Roman,serif\" font-size=\"9.00\">gaussianmeanvariance_2</text>\r\n",
       "</g>\r\n",
       "<!-- 3201874967886993523&#45;&#45;12873030637990256788 -->\r\n",
       "<g id=\"edge4\" class=\"edge\"><title>3201874967886993523&#45;&#45;12873030637990256788</title>\r\n",
       "<path fill=\"none\" stroke=\"black\" d=\"M456.5,-683.798C456.5,-670.31 456.5,-653.68 456.5,-639.099\"/>\r\n",
       "<text text-anchor=\"start\" x=\"456.5\" y=\"-659.6\" font-family=\"Times New Roman,serif\" font-size=\"8.00\" fill=\"red\">x</text>\r\n",
       "<text text-anchor=\"start\" x=\"435.5\" y=\"-641.699\" font-family=\"Times New Roman,serif\" font-size=\"8.00\">1 out </text>\r\n",
       "<text text-anchor=\"start\" x=\"435.5\" y=\"-677.398\" font-family=\"Times New Roman,serif\" font-size=\"8.00\">1 out </text>\r\n",
       "</g>\r\n",
       "<!-- 10098682789622638638 -->\r\n",
       "<g id=\"node3\" class=\"node\"><title>10098682789622638638</title>\r\n",
       "<polygon fill=\"lightgrey\" stroke=\"black\" points=\"470.5,-279 416.5,-279 416.5,-225 470.5,-225 470.5,-279\"/>\r\n",
       "<text text-anchor=\"middle\" x=\"443.5\" y=\"-249.8\" font-family=\"Times New Roman,serif\" font-size=\"9.00\">noise_z_v</text>\r\n",
       "</g>\r\n",
       "<!-- 3342751978328243165 -->\r\n",
       "<g id=\"node4\" class=\"node\"><title>3342751978328243165</title>\r\n",
       "<polygon fill=\"none\" stroke=\"black\" points=\"376.5,-522 304.5,-522 304.5,-450 376.5,-450 376.5,-522\"/>\r\n",
       "<text text-anchor=\"middle\" x=\"340.5\" y=\"-488.8\" font-family=\"Times New Roman,serif\" font-size=\"9.00\">+</text>\r\n",
       "<text text-anchor=\"middle\" x=\"340.5\" y=\"-478.8\" font-family=\"Times New Roman,serif\" font-size=\"9.00\">addition_2</text>\r\n",
       "</g>\r\n",
       "<!-- 13718701879998900323 -->\r\n",
       "<g id=\"node8\" class=\"node\"><title>13718701879998900323</title>\r\n",
       "<polygon fill=\"none\" stroke=\"black\" points=\"287.5,-405 215.5,-405 215.5,-333 287.5,-333 287.5,-405\"/>\r\n",
       "<text text-anchor=\"middle\" x=\"251.5\" y=\"-371.8\" font-family=\"Times New Roman,serif\" font-size=\"9.00\">+</text>\r\n",
       "<text text-anchor=\"middle\" x=\"251.5\" y=\"-361.8\" font-family=\"Times New Roman,serif\" font-size=\"9.00\">addition_1</text>\r\n",
       "</g>\r\n",
       "<!-- 3342751978328243165&#45;&#45;13718701879998900323 -->\r\n",
       "<g id=\"edge1\" class=\"edge\"><title>3342751978328243165&#45;&#45;13718701879998900323</title>\r\n",
       "<path fill=\"none\" stroke=\"black\" d=\"M304.493,-468.629C289.224,-459.888 272.647,-447.665 262.5,-432 257.389,-424.109 254.47,-414.523 252.848,-405.271\"/>\r\n",
       "<text text-anchor=\"start\" x=\"262.5\" y=\"-425.6\" font-family=\"Times New Roman,serif\" font-size=\"8.00\" fill=\"red\">variable_2</text>\r\n",
       "<text text-anchor=\"start\" x=\"231.848\" y=\"-407.871\" font-family=\"Times New Roman,serif\" font-size=\"8.00\">1 out </text>\r\n",
       "<text text-anchor=\"start\" x=\"283.493\" y=\"-471.229\" font-family=\"Times New Roman,serif\" font-size=\"8.00\">2 in1 </text>\r\n",
       "</g>\r\n",
       "<!-- 14382197035184157863 -->\r\n",
       "<g id=\"node12\" class=\"node\"><title>14382197035184157863</title>\r\n",
       "<polygon fill=\"none\" stroke=\"black\" points=\"506.5,-405 402.5,-405 402.5,-333 506.5,-333 506.5,-405\"/>\r\n",
       "<text text-anchor=\"middle\" x=\"454.5\" y=\"-371.8\" font-family=\"Times New Roman,serif\" font-size=\"9.00\">𝒩</text>\r\n",
       "<text text-anchor=\"middle\" x=\"454.5\" y=\"-361.8\" font-family=\"Times New Roman,serif\" font-size=\"9.00\">gaussianmeanvariance_1</text>\r\n",
       "</g>\r\n",
       "<!-- 3342751978328243165&#45;&#45;14382197035184157863 -->\r\n",
       "<g id=\"edge11\" class=\"edge\"><title>3342751978328243165&#45;&#45;14382197035184157863</title>\r\n",
       "<path fill=\"none\" stroke=\"black\" d=\"M375.323,-449.871C389.336,-435.736 405.467,-419.463 419.497,-405.31\"/>\r\n",
       "<text text-anchor=\"start\" x=\"401.5\" y=\"-425.6\" font-family=\"Times New Roman,serif\" font-size=\"8.00\" fill=\"red\">noise_z</text>\r\n",
       "<text text-anchor=\"start\" x=\"398.497\" y=\"-407.91\" font-family=\"Times New Roman,serif\" font-size=\"8.00\">1 out </text>\r\n",
       "<text text-anchor=\"start\" x=\"354.323\" y=\"-443.471\" font-family=\"Times New Roman,serif\" font-size=\"8.00\">3 in2 </text>\r\n",
       "</g>\r\n",
       "<!-- 14500561023254425370 -->\r\n",
       "<g id=\"node5\" class=\"node\"><title>14500561023254425370</title>\r\n",
       "<polygon fill=\"lightgrey\" stroke=\"black\" points=\"311,-54 214,-54 214,-0 311,-0 311,-54\"/>\r\n",
       "<text text-anchor=\"middle\" x=\"262.5\" y=\"-24.8\" font-family=\"Times New Roman,serif\" font-size=\"9.00\">placeholder_z_prev_v</text>\r\n",
       "</g>\r\n",
       "<!-- 12873030637990256788&#45;&#45;3342751978328243165 -->\r\n",
       "<g id=\"edge6\" class=\"edge\"><title>12873030637990256788&#45;&#45;3342751978328243165</title>\r\n",
       "<path fill=\"none\" stroke=\"black\" d=\"M421.066,-566.871C406.808,-552.736 390.394,-536.463 376.117,-522.31\"/>\r\n",
       "<text text-anchor=\"start\" x=\"402.5\" y=\"-542.6\" font-family=\"Times New Roman,serif\" font-size=\"8.00\" fill=\"red\">z</text>\r\n",
       "<text text-anchor=\"start\" x=\"355.117\" y=\"-524.91\" font-family=\"Times New Roman,serif\" font-size=\"8.00\">1 out </text>\r\n",
       "<text text-anchor=\"start\" x=\"405.066\" y=\"-560.471\" font-family=\"Times New Roman,serif\" font-size=\"8.00\">2 m </text>\r\n",
       "</g>\r\n",
       "<!-- 11639027009330125838 -->\r\n",
       "<g id=\"node13\" class=\"node\"><title>11639027009330125838</title>\r\n",
       "<polygon fill=\"lightgrey\" stroke=\"black\" points=\"545.5,-513 491.5,-513 491.5,-459 545.5,-459 545.5,-513\"/>\r\n",
       "<text text-anchor=\"middle\" x=\"518.5\" y=\"-483.8\" font-family=\"Times New Roman,serif\" font-size=\"9.00\">Σx</text>\r\n",
       "</g>\r\n",
       "<!-- 12873030637990256788&#45;&#45;11639027009330125838 -->\r\n",
       "<g id=\"edge3\" class=\"edge\"><title>12873030637990256788&#45;&#45;11639027009330125838</title>\r\n",
       "<path fill=\"none\" stroke=\"black\" d=\"M475.439,-566.871C484.769,-549.565 495.826,-529.056 504.4,-513.154\"/>\r\n",
       "<text text-anchor=\"start\" x=\"489.5\" y=\"-542.6\" font-family=\"Times New Roman,serif\" font-size=\"8.00\" fill=\"red\">Σx</text>\r\n",
       "<text text-anchor=\"start\" x=\"483.4\" y=\"-515.754\" font-family=\"Times New Roman,serif\" font-size=\"8.00\">1 out </text>\r\n",
       "<text text-anchor=\"start\" x=\"461.439\" y=\"-560.471\" font-family=\"Times New Roman,serif\" font-size=\"8.00\">3 v </text>\r\n",
       "</g>\r\n",
       "<!-- 1541610477257584085 -->\r\n",
       "<g id=\"node7\" class=\"node\"><title>1541610477257584085</title>\r\n",
       "<polygon fill=\"none\" stroke=\"black\" points=\"191.5,-171 119.5,-171 119.5,-99 191.5,-99 191.5,-171\"/>\r\n",
       "<text text-anchor=\"middle\" x=\"155.5\" y=\"-137.8\" font-family=\"Times New Roman,serif\" font-size=\"9.00\">𝒩</text>\r\n",
       "<text text-anchor=\"middle\" x=\"155.5\" y=\"-127.8\" font-family=\"Times New Roman,serif\" font-size=\"9.00\">z_prev</text>\r\n",
       "</g>\r\n",
       "<!-- 1541610477257584085&#45;&#45;6947781036024724108 -->\r\n",
       "<g id=\"edge2\" class=\"edge\"><title>1541610477257584085&#45;&#45;6947781036024724108</title>\r\n",
       "<path fill=\"none\" stroke=\"black\" d=\"M119.335,-111.295C107.161,-102.674 94.0114,-92.2085 83.5,-81 76.0219,-73.0259 69.198,-63.1944 63.6584,-54.1734\"/>\r\n",
       "<text text-anchor=\"start\" x=\"83.5\" y=\"-74.6\" font-family=\"Times New Roman,serif\" font-size=\"8.00\" fill=\"red\">z_prev_m</text>\r\n",
       "<text text-anchor=\"start\" x=\"42.6584\" y=\"-56.7734\" font-family=\"Times New Roman,serif\" font-size=\"8.00\">1 out </text>\r\n",
       "<text text-anchor=\"start\" x=\"103.335\" y=\"-113.895\" font-family=\"Times New Roman,serif\" font-size=\"8.00\">2 m </text>\r\n",
       "</g>\r\n",
       "<!-- 1541610477257584085&#45;&#45;14500561023254425370 -->\r\n",
       "<g id=\"edge8\" class=\"edge\"><title>1541610477257584085&#45;&#45;14500561023254425370</title>\r\n",
       "<path fill=\"none\" stroke=\"black\" d=\"M190.832,-98.9979C205.563,-84.4044 222.38,-67.7451 236.019,-54.2331\"/>\r\n",
       "<text text-anchor=\"start\" x=\"215.5\" y=\"-74.6\" font-family=\"Times New Roman,serif\" font-size=\"8.00\" fill=\"red\">z_prev_v</text>\r\n",
       "<text text-anchor=\"start\" x=\"215.019\" y=\"-56.8331\" font-family=\"Times New Roman,serif\" font-size=\"8.00\">1 out </text>\r\n",
       "<text text-anchor=\"start\" x=\"176.832\" y=\"-92.5979\" font-family=\"Times New Roman,serif\" font-size=\"8.00\">3 v </text>\r\n",
       "</g>\r\n",
       "<!-- 625576071683671775 -->\r\n",
       "<g id=\"node11\" class=\"node\"><title>625576071683671775</title>\r\n",
       "<polygon fill=\"lightgrey\" stroke=\"black\" points=\"107,-279 36,-279 36,-225 107,-225 107,-279\"/>\r\n",
       "<text text-anchor=\"middle\" x=\"71.5\" y=\"-249.8\" font-family=\"Times New Roman,serif\" font-size=\"9.00\">placeholder_bu</text>\r\n",
       "</g>\r\n",
       "<!-- 13718701879998900323&#45;&#45;625576071683671775 -->\r\n",
       "<g id=\"edge12\" class=\"edge\"><title>13718701879998900323&#45;&#45;625576071683671775</title>\r\n",
       "<path fill=\"none\" stroke=\"black\" d=\"M215.074,-344.728C183.64,-324.645 138.496,-295.803 107.257,-275.845\"/>\r\n",
       "<text text-anchor=\"start\" x=\"167.5\" y=\"-308.6\" font-family=\"Times New Roman,serif\" font-size=\"8.00\" fill=\"red\">bu</text>\r\n",
       "<text text-anchor=\"start\" x=\"107.257\" y=\"-278.445\" font-family=\"Times New Roman,serif\" font-size=\"8.00\">1 out </text>\r\n",
       "<text text-anchor=\"start\" x=\"194.074\" y=\"-347.328\" font-family=\"Times New Roman,serif\" font-size=\"8.00\">3 in2 </text>\r\n",
       "</g>\r\n",
       "<!-- 9547695080007273316 -->\r\n",
       "<g id=\"node14\" class=\"node\"><title>9547695080007273316</title>\r\n",
       "<polygon fill=\"none\" stroke=\"black\" points=\"298.5,-288 222.5,-288 222.5,-216 298.5,-216 298.5,-288\"/>\r\n",
       "<text text-anchor=\"middle\" x=\"260.5\" y=\"-254.8\" font-family=\"Times New Roman,serif\" font-size=\"9.00\">×</text>\r\n",
       "<text text-anchor=\"middle\" x=\"260.5\" y=\"-244.8\" font-family=\"Times New Roman,serif\" font-size=\"9.00\">multiplication_1</text>\r\n",
       "</g>\r\n",
       "<!-- 13718701879998900323&#45;&#45;9547695080007273316 -->\r\n",
       "<g id=\"edge13\" class=\"edge\"><title>13718701879998900323&#45;&#45;9547695080007273316</title>\r\n",
       "<path fill=\"none\" stroke=\"black\" d=\"M254.249,-332.871C255.355,-318.736 256.629,-302.463 257.737,-288.31\"/>\r\n",
       "<text text-anchor=\"start\" x=\"256.5\" y=\"-308.6\" font-family=\"Times New Roman,serif\" font-size=\"8.00\" fill=\"red\">variable_1</text>\r\n",
       "<text text-anchor=\"start\" x=\"236.737\" y=\"-290.91\" font-family=\"Times New Roman,serif\" font-size=\"8.00\">1 out </text>\r\n",
       "<text text-anchor=\"start\" x=\"233.249\" y=\"-326.471\" font-family=\"Times New Roman,serif\" font-size=\"8.00\">2 in1 </text>\r\n",
       "</g>\r\n",
       "<!-- 9400403980255537941 -->\r\n",
       "<g id=\"node9\" class=\"node\"><title>9400403980255537941</title>\r\n",
       "<polygon fill=\"lightgrey\" stroke=\"black\" points=\"641.5,-279 585.5,-279 585.5,-225 641.5,-225 641.5,-279\"/>\r\n",
       "<text text-anchor=\"middle\" x=\"613.5\" y=\"-249.8\" font-family=\"Times New Roman,serif\" font-size=\"9.00\">noise_z_m</text>\r\n",
       "</g>\r\n",
       "<!-- 12231684841601085031 -->\r\n",
       "<g id=\"node10\" class=\"node\"><title>12231684841601085031</title>\r\n",
       "<polygon fill=\"lightgrey\" stroke=\"black\" points=\"360.5,-162 306.5,-162 306.5,-108 360.5,-108 360.5,-162\"/>\r\n",
       "<text text-anchor=\"middle\" x=\"333.5\" y=\"-132.8\" font-family=\"Times New Roman,serif\" font-size=\"9.00\">A</text>\r\n",
       "</g>\r\n",
       "<!-- 14382197035184157863&#45;&#45;10098682789622638638 -->\r\n",
       "<g id=\"edge10\" class=\"edge\"><title>14382197035184157863&#45;&#45;10098682789622638638</title>\r\n",
       "<path fill=\"none\" stroke=\"black\" d=\"M439.239,-332.867C437.276,-327 435.577,-320.902 434.5,-315 432.353,-303.23 433.713,-290.127 435.962,-279.011\"/>\r\n",
       "<text text-anchor=\"start\" x=\"434.5\" y=\"-308.6\" font-family=\"Times New Roman,serif\" font-size=\"8.00\" fill=\"red\">noise_z_v</text>\r\n",
       "<text text-anchor=\"start\" x=\"414.962\" y=\"-281.611\" font-family=\"Times New Roman,serif\" font-size=\"8.00\">1 out </text>\r\n",
       "<text text-anchor=\"start\" x=\"425.239\" y=\"-326.467\" font-family=\"Times New Roman,serif\" font-size=\"8.00\">3 v </text>\r\n",
       "</g>\r\n",
       "<!-- 14382197035184157863&#45;&#45;9400403980255537941 -->\r\n",
       "<g id=\"edge9\" class=\"edge\"><title>14382197035184157863&#45;&#45;9400403980255537941</title>\r\n",
       "<path fill=\"none\" stroke=\"black\" d=\"M503.069,-332.871C529.919,-313.452 562.346,-289.998 585.091,-273.547\"/>\r\n",
       "<text text-anchor=\"start\" x=\"539.5\" y=\"-308.6\" font-family=\"Times New Roman,serif\" font-size=\"8.00\" fill=\"red\">noise_z_m</text>\r\n",
       "<text text-anchor=\"start\" x=\"564.091\" y=\"-276.147\" font-family=\"Times New Roman,serif\" font-size=\"8.00\">1 out </text>\r\n",
       "<text text-anchor=\"start\" x=\"487.069\" y=\"-326.471\" font-family=\"Times New Roman,serif\" font-size=\"8.00\">2 m </text>\r\n",
       "</g>\r\n",
       "<!-- 9547695080007273316&#45;&#45;1541610477257584085 -->\r\n",
       "<g id=\"edge5\" class=\"edge\"><title>9547695080007273316&#45;&#45;1541610477257584085</title>\r\n",
       "<path fill=\"none\" stroke=\"black\" d=\"M228.426,-215.871C215.52,-201.736 200.662,-185.463 187.739,-171.31\"/>\r\n",
       "<text text-anchor=\"start\" x=\"211.5\" y=\"-191.6\" font-family=\"Times New Roman,serif\" font-size=\"8.00\" fill=\"red\">z_prev</text>\r\n",
       "<text text-anchor=\"start\" x=\"166.739\" y=\"-173.91\" font-family=\"Times New Roman,serif\" font-size=\"8.00\">1 out </text>\r\n",
       "<text text-anchor=\"start\" x=\"207.426\" y=\"-209.471\" font-family=\"Times New Roman,serif\" font-size=\"8.00\">2 in1 </text>\r\n",
       "</g>\r\n",
       "<!-- 9547695080007273316&#45;&#45;12231684841601085031 -->\r\n",
       "<g id=\"edge7\" class=\"edge\"><title>9547695080007273316&#45;&#45;12231684841601085031</title>\r\n",
       "<path fill=\"none\" stroke=\"black\" d=\"M282.799,-215.871C293.785,-198.565 306.803,-178.056 316.898,-162.154\"/>\r\n",
       "<text text-anchor=\"start\" x=\"299.5\" y=\"-191.6\" font-family=\"Times New Roman,serif\" font-size=\"8.00\" fill=\"red\">A</text>\r\n",
       "<text text-anchor=\"start\" x=\"295.898\" y=\"-164.754\" font-family=\"Times New Roman,serif\" font-size=\"8.00\">1 out </text>\r\n",
       "<text text-anchor=\"start\" x=\"269.799\" y=\"-209.471\" font-family=\"Times New Roman,serif\" font-size=\"8.00\">3 a </text>\r\n",
       "</g>\r\n",
       "</g>\r\n",
       "</svg>\r\n"
      ],
      "text/plain": [
       "ForneyLab.Baz(\"<?xml version=\\\"1.0\\\" encoding=\\\"UTF-8\\\" standalone=\\\"no\\\"?>\\r\\n<!DOCTYPE svg PUBLIC \\\"-//W3C//DTD SVG 1.1//EN\\\"\\r\\n \\\"http://www.w3.org/Graphics/SVG/1.1/DTD/svg11.dtd\\\">\\r\\n<!-- Generated by graphviz version 2.38.0 (20140413.2041)\\r\\n -->\\r\\n<!-- Title: G Pages: 1 -->\\r\\n<svg width=\\\"650pt\\\" height=\\\"746pt\\\"\\r\\n viewBox=\\\"0.00 0.00 649.50 746.00\\\" xmlns=\\\"http://www.w3.org/2000/svg\\\" xmlns:xlink=\\\"http://www.w3.org/1999/xlink\\\">\\r\\n<g id=\\\"graph0\\\" class=\\\"graph\\\" transform=\\\"scale(1 1) rotate(0) translate(4 742)\\\">\\r\\n<title>G</title>\\r\\n<polygon fill=\\\"white\\\" stroke=\\\"none\\\" points=\\\"-4,4 -4,-742 645.5,-742 645.5,4 -4,4\\\"/>\\r\\n<!-- 6947781036024724108 -->\\r\\n<g id=\\\"node1\\\" class=\\\"node\\\"><title>6947781036024724108</title>\\r\\n<polygon fill=\\\"lightgrey\\\" stroke=\\\"black\\\" points=\\\"99,-54 0,-54 0,-0 99,-0 99,-54\\\"/>\\r\\n<text text-anchor=\\\"middle\\\" x=\\\"49.5\\\" y=\\\"-24.8\\\" font-family=\\\"Times New Roman,serif\\\" font-size=\\\"9.00\\\">placeholder_z_prev_m</text>\\r\\n</g>\\r\\n<!-- 3201874967886993523 -->\\r\\n<g id=\\\"node2\\\" class=\\\"node\\\"><title>3201874967886993523</title>\\r\\n<polygon fill=\\\"lightgrey\\\" stroke=\\\"black\\\" points=\\\"489.5,-738 423.5,-738 423.5,-684 489.5,-684 489.5,-738\\\"/>\\r\\n<text text-anchor=\\\"middle\\\" x=\\\"456.5\\\" y=\\\"-708.8\\\" font-family=\\\"Times New Roman,serif\\\" font-size=\\\"9.00\\\">placeholder_x</text>\\r\\n</g>\\r\\n<!-- 12873030637990256788 -->\\r\\n<g id=\\\"node6\\\" class=\\\"node\\\"><title>12873030637990256788</title>\\r\\n<polygon fill=\\\"none\\\" stroke=\\\"black\\\" points=\\\"508.5,-639 404.5,-639 404.5,-567 508.5,-567 508.5,-639\\\"/>\\r\\n<text text-anchor=\\\"middle\\\" x=\\\"456.5\\\" y=\\\"-605.8\\\" font-family=\\\"Times New Roman,serif\\\" font-size=\\\"9.00\\\">𝒩</text>\\r\\n<text text-anchor=\\\"middle\\\" x=\\\"456.5\\\" y=\\\"-595.8\\\" font-family=\\\"Times New Roman,serif\\\" font-size=\\\"9.00\\\">gaussianmeanvariance_2</text>\\r\\n</g>\\r\\n<!-- 3201874967886993523&#45;&#45;12873030637990256788 -->\\r\\n<g id=\\\"edge4\\\" class=\\\"edge\\\"><title>3201874967886993523&#45;&#45;12873030637990256788</title>\\r\\n<path fill=\\\"none\\\" stroke=\\\"black\\\" d=\\\"M456.5,-683.798C456.5,-670.31 456.5,-653.68 456.5,-639.099\\\"/>\\r\\n<text text-anchor=\\\"start\\\" x=\\\"456.5\\\" y=\\\"-659.6\\\" font-family=\\\"Times New Roman,serif\\\" font-size=\\\"8.00\\\" fill=\\\"red\\\">x</text>\\r\\n<text text-anchor=\\\"start\\\" x=\\\"435.5\\\" y=\\\"-641.699\\\" font-family=\\\"Times New Roman,serif\\\" font-size=\\\"8.00\\\">1 out </text>\\r\\n<text text-anchor=\\\"start\\\" x=\\\"435.5\\\" y=\\\"-677.398\\\" font-family=\\\"Times New Roman,serif\\\" font-size=\\\"8.00\\\">1 out </text>\\r\\n</g>\\r\\n<!-- 10098682789622638638 -->\\r\\n<g id=\\\"node3\\\" class=\\\"node\\\"><title>10098682789622638638</title>\\r\\n<polygon fill=\\\"lightgrey\\\" stroke=\\\"black\\\" points=\\\"470.5,-279 416.5,-279 416.5,-225 470.5,-225 470.5,-279\\\"/>\\r\\n<text text-anchor=\\\"middle\\\" x=\\\"443.5\\\" y=\\\"-249.8\\\" font-family=\\\"Times New Roman,serif\\\" font-size=\\\"9.00\\\">noise_z_v</text>\\r\\n</g>\\r\\n<!-- 3342751978328243165 -->\\r\\n<g id=\\\"node4\\\" class=\\\"node\\\"><title>3342751978328243165</title>\\r\\n<polygon fill=\\\"none\\\" stroke=\\\"black\\\" points=\\\"376.5,-522 304.5,-522 304.5,-450 376.5,-450 376.5,-522\\\"/>\\r\\n<text text-anchor=\\\"middle\\\" x=\\\"340.5\\\" y=\\\"-488.8\\\" font-family=\\\"Times New Roman,serif\\\" font-size=\\\"9.00\\\">+</text>\\r\\n<text text-anchor=\\\"middle\\\" x=\\\"340.5\\\" y=\\\"-478.8\\\" font-family=\\\"Times New Roman,serif\\\" font-size=\\\"9.00\\\">addition_2</text>\\r\\n</g>\\r\\n<!-- 13718701879998900323 -->\\r\\n<g id=\\\"node8\\\" class=\\\"node\\\"><title>13718701879998900323</title>\\r\\n<polygon fill=\\\"none\\\" stroke=\\\"black\\\" points=\\\"287.5,-405 215.5,-405 215.5,-333 287.5,-333 287.5,-405\\\"/>\\r\\n<text text-anchor=\\\"middle\\\" x=\\\"251.5\\\" y=\\\"-371.8\\\" font-family=\\\"Times New Roman,serif\\\" font-size=\\\"9.00\\\">+</text>\\r\\n<text text-anchor=\\\"middle\\\" x=\\\"251.5\\\" y=\\\"-361.8\\\" font-family=\\\"Times New Roman,serif\\\" font-size=\\\"9.00\\\">addition_1</text>\\r\\n</g>\\r\\n<!-- 3342751978328243165&#45;&#45;13718701879998900323 -->\\r\\n<g id=\\\"edge1\\\" class=\\\"edge\\\"><title>3342751978328243165&#45;&#45;13718701879998900323</title>\\r\\n<path fill=\\\"none\\\" stroke=\\\"black\\\" d=\\\"M304.493,-468.629C289.224,-459.888 272.647,-447.665 262.5,-432 257.389,-424.109 254.47,-414.523 252.848,-405.271\\\"/>\\r\\n<text text-anchor=\\\"start\\\" x=\\\"262.5\\\" y=\\\"-425.6\\\" font-family=\\\"Times New Roman,serif\\\" font-size=\\\"8.00\\\" fill=\\\"red\\\">variable_2</text>\\r\\n<text text-anchor=\\\"start\\\" x=\\\"231.848\\\" y=\\\"-407.871\\\" font-family=\\\"Times New Roman,serif\\\" font-size=\\\"8.00\\\">1 out </text>\\r\\n<text text-anchor=\\\"start\\\" x=\\\"283.493\\\" y=\\\"-471.229\\\" font-family=\\\"Times New Roman,serif\\\" font-size=\\\"8.00\\\">2 in1 </text>\\r\\n</g>\\r\\n<!-- 14382197035184157863 -->\\r\\n<g id=\\\"node12\\\" class=\\\"node\\\"><title>14382197035184157863</title>\\r\\n<polygon fill=\\\"none\\\" stroke=\\\"black\\\" points=\\\"506.5,-405 402.5,-405 402.5,-333 506.5,-333 506.5,-405\\\"/>\\r\\n<text text-anchor=\\\"middle\\\" x=\\\"454.5\\\" y=\\\"-371.8\\\" font-family=\\\"Times New Roman,serif\\\" font-size=\\\"9.00\\\">𝒩</text>\\r\\n<text text-anchor=\\\"middle\\\" x=\\\"454.5\\\" y=\\\"-361.8\\\" font-family=\\\"Times New Roman,serif\\\" font-size=\\\"9.00\\\">gaussianmeanvariance_1</text>\\r\\n</g>\\r\\n<!-- 3342751978328243165&#45;&#45;14382197035184157863 -->\\r\\n<g id=\\\"edge11\\\" class=\\\"edge\\\"><title>3342751978328243165&#45;&#45;14382197035184157863</title>\\r\\n<path fill=\\\"none\\\" stroke=\\\"black\\\" d=\\\"M375.323,-449.871C389.336,-435.736 405.467,-419.463 419.497,-405.31\\\"/>\\r\\n<text text-anchor=\\\"start\\\" x=\\\"401.5\\\" y=\\\"-425.6\\\" font-family=\\\"Times New Roman,serif\\\" font-size=\\\"8.00\\\" fill=\\\"red\\\">noise_z</text>\\r\\n<text text-anchor=\\\"start\\\" x=\\\"398.497\\\" y=\\\"-407.91\\\" font-family=\\\"Times New Roman,serif\\\" font-size=\\\"8.00\\\">1 out </text>\\r\\n<text text-anchor=\\\"start\\\" x=\\\"354.323\\\" y=\\\"-443.471\\\" font-family=\\\"Times New Roman,serif\\\" font-size=\\\"8.00\\\">3 in2 </text>\\r\\n</g>\\r\\n<!-- 14500561023254425370 -->\\r\\n<g id=\\\"node5\\\" class=\\\"node\\\"><title>14500561023254425370</title>\\r\\n<polygon fill=\\\"lightgrey\\\" stroke=\\\"black\\\" points=\\\"311,-54 214,-54 214,-0 311,-0 311,-54\\\"/>\\r\\n<text text-anchor=\\\"middle\\\" x=\\\"262.5\\\" y=\\\"-24.8\\\" font-family=\\\"Times New Roman,serif\\\" font-size=\\\"9.00\\\">placeholder_z_prev_v</text>\\r\\n</g>\\r\\n<!-- 12873030637990256788&#45;&#45;3342751978328243165 -->\\r\\n<g id=\\\"edge6\\\" class=\\\"edge\\\"><title>12873030637990256788&#45;&#45;3342751978328243165</title>\\r\\n<path fill=\\\"none\\\" stroke=\\\"black\\\" d=\\\"M421.066,-566.871C406.808,-552.736 390.394,-536.463 376.117,-522.31\\\"/>\\r\\n<text text-anchor=\\\"start\\\" x=\\\"402.5\\\" y=\\\"-542.6\\\" font-family=\\\"Times New Roman,serif\\\" font-size=\\\"8.00\\\" fill=\\\"red\\\">z</text>\\r\\n<text text-anchor=\\\"start\\\" x=\\\"355.117\\\" y=\\\"-524.91\\\" font-family=\\\"Times New Roman,serif\\\" font-size=\\\"8.00\\\">1 out </text>\\r\\n<text text-anchor=\\\"start\\\" x=\\\"405.066\\\" y=\\\"-560.471\\\" font-family=\\\"Times New Roman,serif\\\" font-size=\\\"8.00\\\">2 m </text>\\r\\n</g>\\r\\n<!-- 11639027009330125838 -->\\r\\n<g id=\\\"node13\\\" class=\\\"node\\\"><title>11639027009330125838</title>\\r\\n<polygon fill=\\\"lightgrey\\\" stroke=\\\"black\\\" points=\\\"545.5,-513 491.5,-513 491.5,-459 545.5,-459 545.5,-513\\\"/>\\r\\n<text text-anchor=\\\"middle\\\" x=\\\"518.5\\\" y=\\\"-483.8\\\" font-family=\\\"Times New Roman,serif\\\" font-size=\\\"9.00\\\">Σx</text>\\r\\n</g>\\r\\n<!-- 12873030637990256788&#45;&#45;11639027009330125838 -->\\r\\n<g id=\\\"edge3\\\" class=\\\"edge\\\"><title>12873030637990256788&#45;&#45;11639027009330125838</title>\\r\\n<path fill=\\\"none\\\" stroke=\\\"black\\\" d=\\\"M475.439,-566.871C484.769,-549.565 495.826,-529.056 504.4,-513.154\\\"/>\\r\\n<text text-anchor=\\\"start\\\" x=\\\"489.5\\\" y=\\\"-542.6\\\" font-family=\\\"Times New Roman,serif\\\" font-size=\\\"8.00\\\" fill=\\\"red\\\">Σx</text>\\r\\n<text text-anchor=\\\"start\\\" x=\\\"483.4\\\" y=\\\"-515.754\\\" font-family=\\\"Times New Roman,serif\\\" font-size=\\\"8.00\\\">1 out </text>\\r\\n<text text-anchor=\\\"start\\\" x=\\\"461.439\\\" y=\\\"-560.471\\\" font-family=\\\"Times New Roman,serif\\\" font-size=\\\"8.00\\\">3 v </text>\\r\\n</g>\\r\\n<!-- 1541610477257584085 -->\\r\\n<g id=\\\"node7\\\" class=\\\"node\\\"><title>1541610477257584085</title>\\r\\n<polygon fill=\\\"none\\\" stroke=\\\"black\\\" points=\\\"191.5,-171 119.5,-171 119.5,-99 191.5,-99 191.5,-171\\\"/>\\r\\n<text text-anchor=\\\"middle\\\" x=\\\"155.5\\\" y=\\\"-137.8\\\" font-family=\\\"Times New Roman,serif\\\" font-size=\\\"9.00\\\">𝒩</text>\\r\\n<text text-anchor=\\\"middle\\\" x=\\\"155.5\\\" y=\\\"-127.8\\\" font-family=\\\"Times New Roman,serif\\\" font-size=\\\"9.00\\\">z_prev</text>\\r\\n</g>\\r\\n<!-- 1541610477257584085&#45;&#45;6947781036024724108 -->\\r\\n<g id=\\\"edge2\\\" class=\\\"edge\\\"><title>1541610477257584085&#45;&#45;6947781036024724108</title>\\r\\n<path fill=\\\"none\\\" stroke=\\\"black\\\" d=\\\"M119.335,-111.295C107.161,-102.674 94.0114,-92.2085 83.5,-81 76.0219,-73.0259 69.198,-63.1944 63.6584,-54.1734\\\"/>\\r\\n<text text-anchor=\\\"start\\\" x=\\\"83.5\\\" y=\\\"-74.6\\\" font-family=\\\"Times New Roman,serif\\\" font-size=\\\"8.00\\\" fill=\\\"red\\\">z_prev_m</text>\\r\\n<text text-anchor=\\\"start\\\" x=\\\"42.6584\\\" y=\\\"-56.7734\\\" font-family=\\\"Times New Roman,serif\\\" font-size=\\\"8.00\\\">1 out </text>\\r\\n<text text-anchor=\\\"start\\\" x=\\\"103.335\\\" y=\\\"-113.895\\\" font-family=\\\"Times New Roman,serif\\\" font-size=\\\"8.00\\\">2 m </text>\\r\\n</g>\\r\\n<!-- 1541610477257584085&#45;&#45;14500561023254425370 -->\\r\\n<g id=\\\"edge8\\\" class=\\\"edge\\\"><title>1541610477257584085&#45;&#45;14500561023254425370</title>\\r\\n<path fill=\\\"none\\\" stroke=\\\"black\\\" d=\\\"M190.832,-98.9979C205.563,-84.4044 222.38,-67.7451 236.019,-54.2331\\\"/>\\r\\n<text text-anchor=\\\"start\\\" x=\\\"215.5\\\" y=\\\"-74.6\\\" font-family=\\\"Times New Roman,serif\\\" font-size=\\\"8.00\\\" fill=\\\"red\\\">z_prev_v</text>\\r\\n<text text-anchor=\\\"start\\\" x=\\\"215.019\\\" y=\\\"-56.8331\\\" font-family=\\\"Times New Roman,serif\\\" font-size=\\\"8.00\\\">1 out </text>\\r\\n<text text-anchor=\\\"start\\\" x=\\\"176.832\\\" y=\\\"-92.5979\\\" font-family=\\\"Times New Roman,serif\\\" font-size=\\\"8.00\\\">3 v </text>\\r\\n</g>\\r\\n<!-- 625576071683671775 -->\\r\\n<g id=\\\"node11\\\" class=\\\"node\\\"><title>625576071683671775</title>\\r\\n<polygon fill=\\\"lightgrey\\\" stroke=\\\"black\\\" points=\\\"107,-279 36,-279 36,-225 107,-225 107,-279\\\"/>\\r\\n<text text-anchor=\\\"middle\\\" x=\\\"71.5\\\" y=\\\"-249.8\\\" font-family=\\\"Times New Roman,serif\\\" font-size=\\\"9.00\\\">placeholder_bu</text>\\r\\n</g>\\r\\n<!-- 13718701879998900323&#45;&#45;625576071683671775 -->\\r\\n<g id=\\\"edge12\\\" class=\\\"edge\\\"><title>13718701879998900323&#45;&#45;625576071683671775</title>\\r\\n<path fill=\\\"none\\\" stroke=\\\"black\\\" d=\\\"M215.074,-344.728C183.64,-324.645 138.496,-295.803 107.257,-275.845\\\"/>\\r\\n<text text-anchor=\\\"start\\\" x=\\\"167.5\\\" y=\\\"-308.6\\\" font-family=\\\"Times New Roman,serif\\\" font-size=\\\"8.00\\\" fill=\\\"red\\\">bu</text>\\r\\n<text text-anchor=\\\"start\\\" x=\\\"107.257\\\" y=\\\"-278.445\\\" font-family=\\\"Times New Roman,serif\\\" font-size=\\\"8.00\\\">1 out </text>\\r\\n<text text-anchor=\\\"start\\\" x=\\\"194.074\\\" y=\\\"-347.328\\\" font-family=\\\"Times New Roman,serif\\\" font-size=\\\"8.00\\\">3 in2 </text>\\r\\n</g>\\r\\n<!-- 9547695080007273316 -->\\r\\n<g id=\\\"node14\\\" class=\\\"node\\\"><title>9547695080007273316</title>\\r\\n<polygon fill=\\\"none\\\" stroke=\\\"black\\\" points=\\\"298.5,-288 222.5,-288 222.5,-216 298.5,-216 298.5,-288\\\"/>\\r\\n<text text-anchor=\\\"middle\\\" x=\\\"260.5\\\" y=\\\"-254.8\\\" font-family=\\\"Times New Roman,serif\\\" font-size=\\\"9.00\\\">×</text>\\r\\n<text text-anchor=\\\"middle\\\" x=\\\"260.5\\\" y=\\\"-244.8\\\" font-family=\\\"Times New Roman,serif\\\" font-size=\\\"9.00\\\">multiplication_1</text>\\r\\n</g>\\r\\n<!-- 13718701879998900323&#45;&#45;9547695080007273316 -->\\r\\n<g id=\\\"edge13\\\" class=\\\"edge\\\"><title>13718701879998900323&#45;&#45;9547695080007273316</title>\\r\\n<path fill=\\\"none\\\" stroke=\\\"black\\\" d=\\\"M254.249,-332.871C255.355,-318.736 256.629,-302.463 257.737,-288.31\\\"/>\\r\\n<text text-anchor=\\\"start\\\" x=\\\"256.5\\\" y=\\\"-308.6\\\" font-family=\\\"Times New Roman,serif\\\" font-size=\\\"8.00\\\" fill=\\\"red\\\">variable_1</text>\\r\\n<text text-anchor=\\\"start\\\" x=\\\"236.737\\\" y=\\\"-290.91\\\" font-family=\\\"Times New Roman,serif\\\" font-size=\\\"8.00\\\">1 out </text>\\r\\n<text text-anchor=\\\"start\\\" x=\\\"233.249\\\" y=\\\"-326.471\\\" font-family=\\\"Times New Roman,serif\\\" font-size=\\\"8.00\\\">2 in1 </text>\\r\\n</g>\\r\\n<!-- 9400403980255537941 -->\\r\\n<g id=\\\"node9\\\" class=\\\"node\\\"><title>9400403980255537941</title>\\r\\n<polygon fill=\\\"lightgrey\\\" stroke=\\\"black\\\" points=\\\"641.5,-279 585.5,-279 585.5,-225 641.5,-225 641.5,-279\\\"/>\\r\\n<text text-anchor=\\\"middle\\\" x=\\\"613.5\\\" y=\\\"-249.8\\\" font-family=\\\"Times New Roman,serif\\\" font-size=\\\"9.00\\\">noise_z_m</text>\\r\\n</g>\\r\\n<!-- 12231684841601085031 -->\\r\\n<g id=\\\"node10\\\" class=\\\"node\\\"><title>12231684841601085031</title>\\r\\n<polygon fill=\\\"lightgrey\\\" stroke=\\\"black\\\" points=\\\"360.5,-162 306.5,-162 306.5,-108 360.5,-108 360.5,-162\\\"/>\\r\\n<text text-anchor=\\\"middle\\\" x=\\\"333.5\\\" y=\\\"-132.8\\\" font-family=\\\"Times New Roman,serif\\\" font-size=\\\"9.00\\\">A</text>\\r\\n</g>\\r\\n<!-- 14382197035184157863&#45;&#45;10098682789622638638 -->\\r\\n<g id=\\\"edge10\\\" class=\\\"edge\\\"><title>14382197035184157863&#45;&#45;10098682789622638638</title>\\r\\n<path fill=\\\"none\\\" stroke=\\\"black\\\" d=\\\"M439.239,-332.867C437.276,-327 435.577,-320.902 434.5,-315 432.353,-303.23 433.713,-290.127 435.962,-279.011\\\"/>\\r\\n<text text-anchor=\\\"start\\\" x=\\\"434.5\\\" y=\\\"-308.6\\\" font-family=\\\"Times New Roman,serif\\\" font-size=\\\"8.00\\\" fill=\\\"red\\\">noise_z_v</text>\\r\\n<text text-anchor=\\\"start\\\" x=\\\"414.962\\\" y=\\\"-281.611\\\" font-family=\\\"Times New Roman,serif\\\" font-size=\\\"8.00\\\">1 out </text>\\r\\n<text text-anchor=\\\"start\\\" x=\\\"425.239\\\" y=\\\"-326.467\\\" font-family=\\\"Times New Roman,serif\\\" font-size=\\\"8.00\\\">3 v </text>\\r\\n</g>\\r\\n<!-- 14382197035184157863&#45;&#45;9400403980255537941 -->\\r\\n<g id=\\\"edge9\\\" class=\\\"edge\\\"><title>14382197035184157863&#45;&#45;9400403980255537941</title>\\r\\n<path fill=\\\"none\\\" stroke=\\\"black\\\" d=\\\"M503.069,-332.871C529.919,-313.452 562.346,-289.998 585.091,-273.547\\\"/>\\r\\n<text text-anchor=\\\"start\\\" x=\\\"539.5\\\" y=\\\"-308.6\\\" font-family=\\\"Times New Roman,serif\\\" font-size=\\\"8.00\\\" fill=\\\"red\\\">noise_z_m</text>\\r\\n<text text-anchor=\\\"start\\\" x=\\\"564.091\\\" y=\\\"-276.147\\\" font-family=\\\"Times New Roman,serif\\\" font-size=\\\"8.00\\\">1 out </text>\\r\\n<text text-anchor=\\\"start\\\" x=\\\"487.069\\\" y=\\\"-326.471\\\" font-family=\\\"Times New Roman,serif\\\" font-size=\\\"8.00\\\">2 m </text>\\r\\n</g>\\r\\n<!-- 9547695080007273316&#45;&#45;1541610477257584085 -->\\r\\n<g id=\\\"edge5\\\" class=\\\"edge\\\"><title>9547695080007273316&#45;&#45;1541610477257584085</title>\\r\\n<path fill=\\\"none\\\" stroke=\\\"black\\\" d=\\\"M228.426,-215.871C215.52,-201.736 200.662,-185.463 187.739,-171.31\\\"/>\\r\\n<text text-anchor=\\\"start\\\" x=\\\"211.5\\\" y=\\\"-191.6\\\" font-family=\\\"Times New Roman,serif\\\" font-size=\\\"8.00\\\" fill=\\\"red\\\">z_prev</text>\\r\\n<text text-anchor=\\\"start\\\" x=\\\"166.739\\\" y=\\\"-173.91\\\" font-family=\\\"Times New Roman,serif\\\" font-size=\\\"8.00\\\">1 out </text>\\r\\n<text text-anchor=\\\"start\\\" x=\\\"207.426\\\" y=\\\"-209.471\\\" font-family=\\\"Times New Roman,serif\\\" font-size=\\\"8.00\\\">2 in1 </text>\\r\\n</g>\\r\\n<!-- 9547695080007273316&#45;&#45;12231684841601085031 -->\\r\\n<g id=\\\"edge7\\\" class=\\\"edge\\\"><title>9547695080007273316&#45;&#45;12231684841601085031</title>\\r\\n<path fill=\\\"none\\\" stroke=\\\"black\\\" d=\\\"M282.799,-215.871C293.785,-198.565 306.803,-178.056 316.898,-162.154\\\"/>\\r\\n<text text-anchor=\\\"start\\\" x=\\\"299.5\\\" y=\\\"-191.6\\\" font-family=\\\"Times New Roman,serif\\\" font-size=\\\"8.00\\\" fill=\\\"red\\\">A</text>\\r\\n<text text-anchor=\\\"start\\\" x=\\\"295.898\\\" y=\\\"-164.754\\\" font-family=\\\"Times New Roman,serif\\\" font-size=\\\"8.00\\\">1 out </text>\\r\\n<text text-anchor=\\\"start\\\" x=\\\"269.799\\\" y=\\\"-209.471\\\" font-family=\\\"Times New Roman,serif\\\" font-size=\\\"8.00\\\">3 a </text>\\r\\n</g>\\r\\n</g>\\r\\n</svg>\\r\\n\")"
      ]
     },
     "execution_count": 3,
     "metadata": {},
     "output_type": "execute_result"
    }
   ],
   "source": [
    "\n",
    "\n",
    "fg = FactorGraph()\n",
    "z_prev_m = Variable(id=:z_prev_m); placeholder(z_prev_m, :z_prev_m, dims=(2,))\n",
    "z_prev_v = Variable(id=:z_prev_v); placeholder(z_prev_v, :z_prev_v, dims=(2,2))\n",
    "bu = Variable(id=:bu); placeholder(bu, :bu, dims=(2,))\n",
    "\n",
    "@RV z_prev ~ GaussianMeanVariance(z_prev_m, z_prev_v, id=:z_prev) # p(z_prev)\n",
    "@RV noise_z ~ GaussianMeanVariance(constant(zeros(2), id=:noise_z_m), constant(Σz, id=:noise_z_v)) # process noise\n",
    "@RV z = constant(A, id=:A) * z_prev + bu + noise_z; z.id = :z # p(z|z_prev) (state transition model)\n",
    "@RV x ~ GaussianMeanVariance(z, constant(Σx, id=:Σx)) # p(x|z) (observation model)\n",
    "placeholder(x, :x, dims=(2,));\n",
    "ForneyLab.draw(fg)"
   ]
  },
  {
   "cell_type": "markdown",
   "metadata": {
    "slideshow": {
     "slide_type": "subslide"
    }
   },
   "source": [
    "Now that we've built the factor graph, we can perform Kalman filtering by inserting measurement data into the factor graph and performing message passing."
   ]
  },
  {
   "cell_type": "code",
   "execution_count": 5,
   "metadata": {
    "slideshow": {
     "slide_type": "fragment"
    }
   },
   "outputs": [
    {
     "data": {
      "image/png": "[encoded data removed]",
      "text/plain": [
       "Figure(PyObject <Figure size 1500x500 with 1 Axes>)"
      ]
     },
     "metadata": {},
     "output_type": "display_data"
    },
    {
     "name": "stdout",
     "output_type": "stream",
     "text": [
      "𝒩(m=[40.95, 1.39], v=[[1.00, 0.00][0.00, 2.00]])\n",
      "\n"
     ]
    }
   ],
   "source": [
    "include(\"scripts/cart_tracking_helpers.jl\")\n",
    "eval(Meta.parse(sumProductAlgorithm(z))) # build message passing algorithm\n",
    "marginals = Dict()\n",
    "messages = Array{Message}(undef,6)\n",
    "z_prev_m_0 = zeros(2)\n",
    "z_prev_v_0 = 1e8*Diagonal(I,2)\n",
    "for t=1:n\n",
    "    data = Dict(:x => noisy_x[t], :bu => b*u[t],:z_prev_m => z_prev_m_0, :z_prev_v => z_prev_v_0)\n",
    "    step!(data, marginals, messages) # perform msg passing (single timestep)\n",
    "    # Posterior of z becomes prior of z in the next timestep:\n",
    "#     ForneyLab.ensureParameters!(marginals[:z], (:m, :v))\n",
    "    \n",
    "    z_prev_m_0 = ForneyLab.unsafeMean(marginals[:z])\n",
    "    z_prev_v_0 = ForneyLab.unsafeCov(marginals[:z])\n",
    "end\n",
    "println(messages[6].dist)\n",
    "# Collect prediction p(z[n]|z[n-1]), measurement p(z[n]|x[n]), corrected prediction p(z[n]|z[n-1],x[n])\n",
    "prediction      = messages[5].dist # the message index is found by manual inspection of the schedule\n",
    "measurement     = messages[6].dist\n",
    "corr_prediction = convert(ProbabilityDistribution{Multivariate, GaussianMeanVariance}, marginals[:z])\n",
    "\n",
    "# Make a fancy plot of the prediction, noisy measurement, and corrected prediction after n timesteps\n",
    "plotCartPrediction(prediction, measurement, corr_prediction);\n",
    "\n"
   ]
  },
  {
   "cell_type": "markdown",
   "metadata": {
    "slideshow": {
     "slide_type": "slide"
    }
   },
   "source": [
    "### Recap: Inference in Linear Gaussian Models by Sum-Product Message Passing\n",
    "\n",
    "- The foregoing message update rules can be extended to all scenarios involving additions, fixed-gain multiplications and branching (equality nodes), thus creating a completely **automatable inference framework** for factorized linear Gaussian models."
   ]
  },
  {
   "cell_type": "markdown",
   "metadata": {
    "slideshow": {
     "slide_type": "fragment"
    }
   },
   "source": [
    "- The update rules for elementary and important node types can be put in a Table (see **Tables 1 through 6** in [Loeliger, 2007](./files/Loeliger-2007-The-factor-graph-approach-to-model-based-signal-processing.pdf))."
   ]
  },
  {
   "cell_type": "markdown",
   "metadata": {
    "slideshow": {
     "slide_type": "fragment"
    }
   },
   "source": [
    "- If the update rules for all node types in a graph have been tabulated, then inference by message passing comes down to a set of table-lookup operations. This also works for large graphs (where 'manual' inference becomes intractable)."
   ]
  },
  {
   "cell_type": "markdown",
   "metadata": {
    "slideshow": {
     "slide_type": "fragment"
    }
   },
   "source": [
    "- If the graph contains no cycles, the Sum-Product Algorithm computes **exact** marginals for all hidden variables."
   ]
  },
  {
   "cell_type": "markdown",
   "metadata": {
    "slideshow": {
     "slide_type": "fragment"
    }
   },
   "source": [
    "- If the graph contains cycles, we have in principle an infinite tree without terminals. In this case, the SP Algorithm is not guaranteed to find exact marginals. In practice, if we apply the SP algorithm for just a few iterations we often find satisfying approximate marginals.   "
   ]
  },
  {
   "cell_type": "code",
   "execution_count": 10,
   "metadata": {
    "slideshow": {
     "slide_type": "skip"
    }
   },
   "outputs": [
    {
     "data": {
      "text/html": [
       "<!--\n",
       "This HTML file contains custom styles and some javascript.\n",
       "Include it a Jupyter notebook for improved rendering.\n",
       "-->\n",
       "\n",
       "<!-- Fonts -->\n",
       "<link href='http://fonts.googleapis.com/css?family=Alegreya+Sans:100,300,400,500,700,800,900,100italic,300italic,400italic,500italic,700italic,800italic,900italic' rel='stylesheet' type='text/css'>\n",
       "<link href='http://fonts.googleapis.com/css?family=Arvo:400,700,400italic' rel='stylesheet' type='text/css'>\n",
       "<link href='http://fonts.googleapis.com/css?family=PT+Mono' rel='stylesheet' type='text/css'>\n",
       "<link href='http://fonts.googleapis.com/css?family=Shadows+Into+Light' rel='stylesheet' type='text/css'>\n",
       "<link href='http://fonts.googleapis.com/css?family=Nixie+One' rel='stylesheet' type='text/css'>\n",
       "\n",
       "<!-- Custom style -->\n",
       "<style>\n",
       "\n",
       "@font-face {\n",
       "    font-family: \"Computer Modern\";\n",
       "    src: url('http://mirrors.ctan.org/fonts/cm-unicode/fonts/otf/cmunss.otf');\n",
       "}\n",
       "\n",
       "#notebook_panel { /* main background */\n",
       "    background: rgb(245,245,245);\n",
       "}\n",
       "\n",
       "div.container {\n",
       "    min-width: 960px;\n",
       "}\n",
       "\n",
       "div #notebook { /* centre the content */\n",
       "    background: #fff; /* white background for content */\n",
       "    margin: auto;\n",
       "    padding-left: 0em;\n",
       "}\n",
       "\n",
       "#notebook li { /* More space between bullet points */\n",
       "    margin-top:0.8em;\n",
       "}\n",
       "\n",
       "/* draw border around running cells */\n",
       "div.cell.border-box-sizing.code_cell.running {\n",
       "    border: 1px solid #111;\n",
       "}\n",
       "\n",
       "/* Put a solid color box around each cell and its output, visually linking them*/\n",
       "div.cell.code_cell {\n",
       "    background-color: rgb(256,256,256);\n",
       "    border-radius: 0px;\n",
       "    padding: 0.5em;\n",
       "    margin-left:1em;\n",
       "    margin-top: 1em;\n",
       "}\n",
       "\n",
       "div.text_cell_render{\n",
       "    font-family: 'Alegreya Sans' sans-serif;\n",
       "    line-height: 140%;\n",
       "    font-size: 125%;\n",
       "    font-weight: 400;\n",
       "    width:800px;\n",
       "    margin-left:auto;\n",
       "    margin-right:auto;\n",
       "}\n",
       "\n",
       "\n",
       "/* Formatting for header cells */\n",
       ".text_cell_render h1 {\n",
       "    font-family: 'Nixie One', serif;\n",
       "    font-style:regular;\n",
       "    font-weight: 400;\n",
       "    font-size: 45pt;\n",
       "    line-height: 100%;\n",
       "    color: rgb(0,51,102);\n",
       "    margin-bottom: 0.5em;\n",
       "    margin-top: 0.5em;\n",
       "    display: block;\n",
       "}\n",
       "\n",
       ".text_cell_render h2 {\n",
       "    font-family: 'Nixie One', serif;\n",
       "    font-weight: 400;\n",
       "    font-size: 30pt;\n",
       "    line-height: 100%;\n",
       "    color: rgb(0,51,102);\n",
       "    margin-bottom: 0.1em;\n",
       "    margin-top: 0.3em;\n",
       "    display: block;\n",
       "}\n",
       "\n",
       ".text_cell_render h3 {\n",
       "    font-family: 'Nixie One', serif;\n",
       "    margin-top:16px;\n",
       "    font-size: 22pt;\n",
       "    font-weight: 600;\n",
       "    margin-bottom: 3px;\n",
       "    font-style: regular;\n",
       "    color: rgb(102,102,0);\n",
       "}\n",
       "\n",
       ".text_cell_render h4 {    /*Use this for captions*/\n",
       "    font-family: 'Nixie One', serif;\n",
       "    font-size: 14pt;\n",
       "    text-align: center;\n",
       "    margin-top: 0em;\n",
       "    margin-bottom: 2em;\n",
       "    font-style: regular;\n",
       "}\n",
       "\n",
       ".text_cell_render h5 {  /*Use this for small titles*/\n",
       "    font-family: 'Nixie One', sans-serif;\n",
       "    font-weight: 400;\n",
       "    font-size: 16pt;\n",
       "    color: rgb(163,0,0);\n",
       "    font-style: italic;\n",
       "    margin-bottom: .1em;\n",
       "    margin-top: 0.8em;\n",
       "    display: block;\n",
       "}\n",
       "\n",
       ".text_cell_render h6 { /*use this for copyright note*/\n",
       "    font-family: 'PT Mono', sans-serif;\n",
       "    font-weight: 300;\n",
       "    font-size: 9pt;\n",
       "    line-height: 100%;\n",
       "    color: grey;\n",
       "    margin-bottom: 1px;\n",
       "    margin-top: 1px;\n",
       "}\n",
       "\n",
       ".CodeMirror{\n",
       "    font-family: \"PT Mono\";\n",
       "    font-size: 90%;\n",
       "}\n",
       "\n",
       ".boxed { /* draw a border around a piece of text */\n",
       "  border: 1px solid blue ;\n",
       "}\n",
       "\n",
       "h4#CODE-EXAMPLE,\n",
       "h4#END-OF-CODE-EXAMPLE {\n",
       "    margin: 10px 0;\n",
       "    padding: 10px;\n",
       "    background-color: #d0f9ca !important;\n",
       "    border-top: #849f81 1px solid;\n",
       "    border-bottom: #849f81 1px solid;\n",
       "}\n",
       "\n",
       ".emphasis {\n",
       "    color: red;\n",
       "}\n",
       "\n",
       ".exercise {\n",
       "    color: green;\n",
       "}\n",
       "\n",
       ".proof {\n",
       "    color: blue;\n",
       "}\n",
       "\n",
       "code {\n",
       "  padding: 2px 4px !important;\n",
       "  font-size: 90% !important;\n",
       "  color: #222 !important;\n",
       "  background-color: #efefef !important;\n",
       "  border-radius: 2px !important;\n",
       "}\n",
       "\n",
       "/* This removes the actual style cells from the notebooks, but no in print mode\n",
       "   as they will be removed through some other method */\n",
       "@media not print {\n",
       "  .cell:nth-last-child(-n+2) {\n",
       "    display: none;\n",
       "  }\n",
       "}\n",
       "\n",
       "footer.hidden-print {\n",
       "    display: none !important;\n",
       "}\n",
       "    \n",
       "</style>\n",
       "\n",
       "<!-- MathJax styling -->\n",
       "<script>\n",
       "    MathJax.Hub.Config({\n",
       "                        TeX: {\n",
       "                           extensions: [\"AMSmath.js\"],\n",
       "                           equationNumbers: { autoNumber: \"AMS\", useLabelIds: true}\n",
       "                           },\n",
       "                tex2jax: {\n",
       "                    inlineMath: [ ['$','$'], [\"\\\\(\",\"\\\\)\"] ],\n",
       "                    displayMath: [ ['$$','$$'], [\"\\\\[\",\"\\\\]\"] ]\n",
       "                },\n",
       "                displayAlign: 'center', // Change this to 'center' to center equations.\n",
       "                \"HTML-CSS\": {\n",
       "                    styles: {'.MathJax_Display': {\"margin\": 4}}\n",
       "                }\n",
       "        });\n",
       "</script>\n"
      ]
     },
     "metadata": {},
     "output_type": "display_data"
    }
   ],
   "source": [
    "open(\"../../styles/aipstyle.html\") do f display(\"text/html\", read(f, String)) end\n"
   ]
  },
  {
   "cell_type": "code",
   "execution_count": null,
   "metadata": {},
   "outputs": [],
   "source": []
  }
 ],
 "metadata": {
  "celltoolbar": "Slideshow",
  "kernelspec": {
   "display_name": "Julia 1.1.0",
   "language": "julia",
   "name": "julia-1.1"
  },
  "language_info": {
   "file_extension": ".jl",
   "mimetype": "application/julia",
   "name": "julia",
   "version": "1.1.0"
  }
 },
 "nbformat": 4,
 "nbformat_minor": 1
}
