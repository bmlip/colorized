{
 "cells": [
  {
   "cell_type": "markdown",
   "metadata": {
    "slideshow": {
     "slide_type": "slide"
    }
   },
   "source": [
    "# Linear Regression"
   ]
  },
  {
   "cell_type": "markdown",
   "metadata": {
    "slideshow": {
     "slide_type": "slide"
    }
   },
   "source": [
    "### Preliminaries\n",
    "\n",
    "- Goal \n",
    "  - Maximum likelihood estimates for various linear regression variants\n",
    "- Materials        \n",
    "  - Mandatory\n",
    "    - These lecture notes\n",
    "  - Optional\n",
    "    - Bishop pp. 140-144 \n",
    "    - [G. Deng et al., _A model-based approach for the development of LMS algorithms_', ISCAS-05 symposium, 2005](./files/Deng-2005-A-model-based-approach-for-the-development-of-LMS-algorithms.pdf)."
   ]
  },
  {
   "cell_type": "markdown",
   "metadata": {
    "slideshow": {
     "slide_type": "slide"
    }
   },
   "source": [
    "### Regression - Illustration\n",
    "\n",
    "\n",
    "<img src=\"./figures/fig-bishop12.png\" width=\"300px\">\n",
    "\n",
    "Given a set of (noisy) data measurements, find the 'best' relation between an input variable $x \\in \\mathbb{R}^D$ and input-dependent outcomes $y \\in \\mathbb{R}$\n"
   ]
  },
  {
   "cell_type": "markdown",
   "metadata": {
    "slideshow": {
     "slide_type": "slide"
    }
   },
   "source": [
    "### Regression vs Density Estimation\n",
    "\n",
    "\n",
    "- Observe $N$ IID data **pairs** $D=\\{(x_1,y_1),\\dotsc,(x_N,y_N)\\}$ with $x_n \\in \\mathbb{R}^D$ and $y_n \\in \\mathbb{R}$.\n",
    "\n",
    "\n",
    "- <span style=\"color:blue\">[Q.]</span> We could try to build a model for the data by density estimation, $p(x,y)$, but what if we are interested only in (a model for) the responses $y_n$ for **given inputs** $x_n$?"
   ]
  },
  {
   "cell_type": "markdown",
   "metadata": {
    "slideshow": {
     "slide_type": "fragment"
    }
   },
   "source": [
    "- <span style=\"color:blue\">[A.]</span> We will build a model only for the conditional distribution $p(y|x)$. \n",
    "  - Note that, since $p(x,y)=p(y|x)\\, p(x)$, this is a building block for the joint data density.\n",
    "  - In a sense, this is density modeling with the assumption that $x$ is drawn from a uniform distribution.\n",
    " "
   ]
  },
  {
   "cell_type": "markdown",
   "metadata": {
    "slideshow": {
     "slide_type": "slide"
    }
   },
   "source": [
    "\n",
    "###  1. Model Specification for Linear Regression\n",
    "\n",
    "\n",
    "\n",
    "- In a _regression_ model, we try to 'explain the data' by a purely deterministic term $f(x,w)$, plus a purely random term $\\epsilon_n$ for 'unexplained noise',\n",
    "    $$\n",
    "    y_n  = f(x_n,w) + \\epsilon_n\n",
    "    $$\n",
    "\n",
    "-  In _linear regression_, we assume that \n",
    "$$f(x,w)=w^T x \\,.$$\n",
    "\n",
    "-  In _ordinary linear regression_, the noise process $\\epsilon_n$ is zero-mean Gaussian with constant variance $\\sigma^2$, i.e.\n",
    "$$\n",
    "y_n  = w^T x_n  + \\mathcal{N}(0,\\sigma^2) \\,,\n",
    "$$\n",
    "or equivalently, the likelihood model is \n",
    "$$\n",
    "p(y_n|\\,x_n,w) = \\mathcal{N}(y_n|\\,w^T x_n,\\sigma^2) \\,.\n",
    "$$\n",
    "\n",
    "- For full Bayesian learning we should also choose a prior $p(w)$; In ML estimation, the prior $p(w)$ is uniformly distributed (so it can be ignored).\n",
    "\n",
    "<!--- \n",
    "%$y_n$ is Gaussian around $\\theta^T x_n$ with `unexplained' noise $\\sigma^2$.\n",
    "% -   Note that 1st term RHS is purely deterministic; 2nd term is purely random and independent of $x_n$\n",
    "%-  Choose a prior over the parameters (possibly flat: $\\sigma\\rightarrow \\infty$)\n",
    "-->\n"
   ]
  },
  {
   "cell_type": "markdown",
   "metadata": {
    "slideshow": {
     "slide_type": "slide"
    }
   },
   "source": [
    "\n",
    "###  2. ML Estimation for Linear Regression Model\n",
    "\n",
    "- Let's work out the log-likelihood for multiple observations\n",
    "$$\\begin{align*}\n",
    "\\log p(D|w) &\\stackrel{\\text{IID}}{=} \\sum_n \\log \\mathcal{N}(y_n|\\,w^T x_n,\\sigma^2) \\propto -\\frac{1}{2\\sigma^2} \\sum_{n} {(y_n - w^T x_n)^2}\\\\\n",
    "    &= -\\frac{1}{2\\sigma^2}\\left( {y - \\mathbf{X}w } \\right)^T \\left( {y - \\mathbf{X} w } \\right)\n",
    "\\end{align*}$$\n",
    "where  we defined $N\\times 1$ vector $y  = \\left(y_1 ,y_2 , \\ldots ,y_N \\right)^T$ and $(N\\times D)$-dim matrix $\\mathbf{X}  = \\left( x_1 ,x_2 , \\ldots ,x_n \\right)^T$.\n",
    "\n",
    "\n",
    "-  Set the derivative $\\nabla_{w} \\log p(D|w) = \\frac{1}{\\sigma^2} \\mathbf{X}^T(y-\\mathbf{X} w)$ to zero for\n",
    "the maximum likelihood estimate\n",
    "$$\\begin{equation*}\n",
    "\\boxed{\\hat w_{\\text{ML}} = (\\mathbf{X}^T \\mathbf{X})^{-1} \\mathbf{X}^T y}\n",
    "\\end{equation*}$$\n",
    "\n",
    "\n",
    "-  The matrix $\\mathbf{X}^\\dagger \\equiv  (\\mathbf{X}^T \\mathbf{X})^{-1}\\mathbf{X}^T$ is also known as the **Moore-Penrose pseudo-inverse** (which is sort-of-an-inverse for non-square matrices).\n",
    "\n",
    "-  Note that size ($N\\times D$) of the data matrix $\\mathbf{X}$ grows with number of observations, but the size ($D\\times D$) of $\\mathbf{X}^T\\mathbf{X}$ is independent of training data set.\n"
   ]
  },
  {
   "cell_type": "markdown",
   "metadata": {
    "slideshow": {
     "slide_type": "slide"
    }
   },
   "source": [
    "### 3. Prediction of New Data Points \n",
    "\n",
    "- New data points can be prediction by\n",
    "$$\\begin{equation*}\n",
    "p(y_\\bullet \\,|\\, x_\\bullet,\\hat w_{\\text{ML}}) = \\mathcal{N}(y_\\bullet \\,|\\, \\hat w_{\\text{ML}}^T x_\\bullet, \\sigma^2 ) \n",
    "\\end{equation*}$$\n",
    "\n",
    "- Note that the expected value of a predicted new data point\n",
    "$$\n",
    "\\mathrm{E}[y_\\bullet] = \\hat w_{\\text{ML}}^T x_\\bullet = x_\\bullet^T \\hat{w}_{\\text{ML}} = \\left( x_\\bullet^T \\mathbf{X}^\\dagger \\right) y\n",
    "$$\n",
    "can also be expressed as a linear combination of the observed data points $y  = \\left( {y_1 ,y_1 , \\ldots ,y_N } \\right)^T$."
   ]
  },
  {
   "cell_type": "markdown",
   "metadata": {
    "slideshow": {
     "slide_type": "slide"
    }
   },
   "source": [
    "\n",
    "###  Deterministic Least-Squares Regression\n",
    "\n",
    "-  (You may say that) we don't need to work with probabilistic models. E.g., there's also the deterministic **least-squares** solution: minimize sum of squared errors,\n",
    "$$\\begin{align*} \\hat w_{\\text{LS}} &= \\arg\\min_{w} \\sum_n {\\left( {y_n  - w ^T x_n } \\right)} ^2 \n",
    "  = \\arg\\min_{w} \\left( {y - \\mathbf{X}w } \\right)^T \\left( {y - \\mathbf{X} w } \\right)\n",
    "\\end{align*}$$\n",
    "\n",
    "-  Setting the gradient \n",
    "$ \\frac{\\partial \\left( {y - \\mathbf{X}w } \\right)^T \\left( {y - \\mathbf{X}w } \\right)}{\\partial w} = -2 \\mathbf{X}^T \\left(y - \\mathbf{X} w  \\right)\n",
    "$ to zero yields the **normal equations** \n",
    "$\\mathbf{X}^T\\mathbf{X} \\hat w_{\\text{LS}} = \\mathbf{X}^T y$  and consequently\n",
    "$$\n",
    "\\boxed{\\hat w_{\\text{LS}} = (\\mathbf{X}^T \\mathbf{X})^{-1} \\mathbf{X}^T y} \n",
    "$$\n",
    "which is the same answer as we got for the maximum likelihood weights $\\hat w_{\\text{ML}}$.\n",
    "\n",
    "- $\\Rightarrow$ Least-squares regression ($\\hat w_{\\text{LS}}$) corresponds to (probabilistic) maximum likelihood ($\\hat w_{\\text{ML}}$) if \n",
    "  1. **IID samples** (determines how errors are combined), and\n",
    "  1.  Noise $\\epsilon_n \\sim \\mathcal{N}(0,\\,\\sigma^2)$ is **Gaussian** (determines error metric)      \n",
    "  \n"
   ]
  },
  {
   "cell_type": "markdown",
   "metadata": {
    "slideshow": {
     "slide_type": "slide"
    }
   },
   "source": [
    "\n",
    "\n",
    "###  Probabilistic vs. Deterministic Approach\n",
    "\n",
    "-  The (deterministic) least-squares approach assumed IID Gaussian distributed data, but these assumptions are not obvious from looking at the least-squares (LS) criterion.\n",
    "\n",
    "-  If the data were better modeled by non-Gaussian assumptions (or not IID), then LS might not be appropriate.\n",
    "\n",
    "-  The probabilistic approach makes all these issues completely transparent by focusing on the **model specification** rather than the error criterion.\n",
    "\n",
    "-  Next, we will show this by two examples: (1) samples not identically distributed, and (2) few data points.\n",
    "\n",
    "\n"
   ]
  },
  {
   "cell_type": "markdown",
   "metadata": {
    "slideshow": {
     "slide_type": "slide"
    }
   },
   "source": [
    "\n",
    "\n",
    "###  Not Identically Distributed Data\n",
    "\n",
    "-  What if we assume that the variance of the measurement error varies with the sampling index,  $\\epsilon_n \\sim \\mathcal{N}(0,\\sigma_n^2)$?\n",
    "\n",
    "- Let's make the log-likelihood again (use $\\Lambda \\triangleq \\mathrm{diag}[1/\\sigma_n^2]$): \n",
    "$$\\begin{align*}\n",
    "\\mathrm{L(w)} &\\triangleq \\log p(D|w) \n",
    "  \\propto -\\frac{1}{2} \\sum_n \\frac{(y_n-w^T x_n)^2}{\\sigma_n^2} = -\\frac{1}{2} (y- \\mathbf{X}w)^T \\Lambda (y- \\mathbf{X} w)\\,.\n",
    "\\end{align*}$$\n",
    "\n",
    "-  Set derivative $\\partial \\mathrm{L(w)} / \\partial w = -\\mathbf{X}^T\\Lambda (y-\\mathbf{X} w)$\n",
    "to zero to get the **normal equations** \n",
    "$\\mathbf{X}^T \\Lambda \\mathbf{X} \\hat{w}_{\\text{WLS}} = \\mathbf{X}^T \\Lambda y$ \n",
    "and consequently \n",
    "$$ \\boxed{\\hat{w}_{\\text{WLS}} = \\left(\\mathbf{X}^T \\Lambda \\mathbf{X}\\right)^{-1} \\mathbf{X}^T \\Lambda y}$$ \n",
    "\n",
    "-  This is also called the **Weighted Least Squares** (WLS) solution. (Note that we just stumbled upon it, the crucial aspect is appropriate model specification!)\n",
    "\n",
    "-  Note also that the dimension of $\\Lambda$ grows with the number of data points. In general, models for which the number of parameters grow as the number of observations increase are called **non-parametric models**.\n"
   ]
  },
  {
   "cell_type": "markdown",
   "metadata": {
    "slideshow": {
     "slide_type": "slide"
    }
   },
   "source": [
    "#### CODE EXAMPLE\n",
    "\n",
    "We'll compare the Least Squares and Weighted Least Squares solutions for a simple linear regression model with input-dependent noise:\n",
    "\n",
    "$$\\begin{align*}\n",
    "x &\\sim \\text{Unif}[0,1]\\\\\n",
    "y|x &\\sim \\mathcal{N}(f(x), v(x))\\\\\n",
    "f(x) &= 5x - 2\\\\\n",
    "v(x) &= 10e^{2x^2}-9.5\\\\\n",
    "\\mathcal{D} &= \\{(x_1,y_1),\\ldots,(x_N,y_N)\\}\n",
    "\\end{align*}$$"
   ]
  },
  {
   "cell_type": "code",
   "execution_count": 5,
   "metadata": {
    "scrolled": false,
    "slideshow": {
     "slide_type": "subslide"
    }
   },
   "outputs": [
    {
     "data": {
      "image/png": "[encoded data removed]",
      "text/plain": [
       "PyPlot.Figure(PyObject <matplotlib.figure.Figure object at 0x128489210>)"
      ]
     },
     "metadata": {},
     "output_type": "display_data"
    }
   ],
   "source": [
    "using PyPlot\n",
    "\n",
    "# Model specification: y|x ~ 𝒩(f(x), v(x))\n",
    "f(x) = 5*x - 2 \n",
    "v(x) = 10*exp.(2*x.^2) - 9.5 # input dependent noise variance\n",
    "x_test = [0.0, 1.0]\n",
    "plot(x_test, f(x_test), \"k--\") # plot f(x)\n",
    "\n",
    "# Generate N samples (x,y), where x ~ Unif[0,1]\n",
    "N = 50\n",
    "x = rand(N)\n",
    "y = f(x) + sqrt.(v(x)) .* randn(N)\n",
    "plot(x, y, \"kx\"); xlabel(\"x\"); ylabel(\"y\") # Plot samples\n",
    "\n",
    "# Add constant to input so we can estimate both the offset and the slope\n",
    "_x = [x ones(N)]\n",
    "_x_test = hcat(x_test, ones(2))\n",
    "\n",
    "# LS regression\n",
    "w_ls = pinv(_x) * y\n",
    "plot(x_test, _x_test*w_ls, \"b-\") # plot LS solution\n",
    "\n",
    "# Weighted LS regression\n",
    "W = diagm(1./v(x)) # weight matrix\n",
    "w_wls = inv(_x'*W*_x) * _x' * W * y\n",
    "plot(x_test, _x_test*w_wls, \"r-\") # plot WLS solution\n",
    "ylim([-5,8]); legend([\"f(x)\", \"D\", \"LS linear regr.\", \"WLS linear regr.\"],loc=2);"
   ]
  },
  {
   "cell_type": "markdown",
   "metadata": {
    "slideshow": {
     "slide_type": "slide"
    }
   },
   "source": [
    "###  Too Few Training Samples\n",
    "\n",
    "-  If we have fewer training samples than input dimensions, $\\mathbf{X}^T\\mathbf{X}$ will not be invertible. (Why?)\n",
    "\n",
    "-  As a general recipe, in case of (expected) problems, **go back to full Bayesian!** Do proper model specification, Bayesian inference etc. Let's do this next. \n",
    "\n",
    "-  **Model specification**. Let's try a Gaussian prior for $w$ (why is this reasonable?),\n",
    "$$\n",
    "p(w) = \\mathcal{N}(w|0,\\Sigma) = \\mathcal{N}(w|0,\\varepsilon I)\n",
    "$$\n",
    "\n",
    "-  **Learning**. Let's do Bayesian inference,\n",
    "$$\\begin{align*}\n",
    "\\log p(w|D) &\\propto \\log p(D|w)p(w) \\\\\n",
    "   &\\stackrel{IID}{=} \\log \\sum_n p(y_n|x_n,w) + \\log p(w)\\\\\n",
    "   &= \\log \\sum_n \\mathcal{N}(y_n|\\,w^Tx_n,\\sigma^2) + \\log \\mathcal{N}(w|0,\\varepsilon I)\\\\\n",
    "   &\\propto \\frac{1}{2\\sigma^2}\\left( {y - \\mathbf{X}w } \\right)^T \\left( {y - \\mathbf{X}w } \\right)  + \\frac{1}{2 \\epsilon}w^T w\n",
    "\\end{align*}$$\n",
    "\n",
    "-  **Done!** The posterior $p(w|D)$ specifies all we know about $w$ after seeing the data $D$."
   ]
  },
  {
   "cell_type": "markdown",
   "metadata": {
    "slideshow": {
     "slide_type": "slide"
    }
   },
   "source": [
    "###  Too Few Training Samples, cont'd: the MAP estimate\n",
    "\n",
    "- As discussed, for practical purposes, you often want a point estimate for $w$, rather than a posterior distribution.\n",
    "\n",
    "-  For instance, let's take a **Maximum A Posteriori (MAP) estimate**. Set derivative \n",
    "$$\\nabla_{w} \\log p(w|D) = -\\frac{1}{\\sigma^2}\\mathbf{X}^T(y-\\mathbf{X}w) + \\frac{1}{\\varepsilon} w\n",
    "$$ \n",
    "to zero, yielding\n",
    "$$\n",
    "\\boxed{ \\hat{w}_{\\text{MAP}} = \\left( \\mathbf{X}^T\\mathbf{X} + \\frac{\\sigma^2}{\\varepsilon} I \\right)^{-1}\\mathbf{X}^T y }\n",
    "$$\n",
    "\n",
    "- Note that, in contrast to $\\mathbf{X}^T\\mathbf{X}$, the matrix $\\left( \\mathbf{X}^T\\mathbf{X} + (\\sigma^2 / \\varepsilon) I \\right)$ is always invertible! (Why?)\n",
    "\n",
    "- Note also that $\\hat{w}_{\\text{LS}}$ is retrieved by letting $\\varepsilon  \\rightarrow \\infty$. Does that make sense?"
   ]
  },
  {
   "cell_type": "markdown",
   "metadata": {
    "slideshow": {
     "slide_type": "slide"
    }
   },
   "source": [
    "###  Adaptive Linear Regression\n",
    "\n",
    "-  What if the data arrives one point at a time?\n",
    "\n",
    "\n",
    "-  Two standard _adaptive_ linear regression approaches: RLS and LMS. Here we shortly recap the LMS approach.\n",
    "\n",
    "\n",
    "-  **Least Mean Squares** (LMS) is gradient-descent on a 'local-in-time' approximation of the square-error cost function.\n",
    "\n",
    "\n",
    "-  Define the cost-of-current-sample as  \n",
    "$$\\begin{equation*}\n",
    "E_n(w) = \\frac{1}{2}(y_n - w^Tx_n)^2\n",
    "\\end{equation*}$$ \n",
    "and track the optimum by gradient descent (at each sample index $n$):\n",
    "$$\\begin{equation*}\n",
    "w_{n+1} = w_n - \\eta \\, \\left. \\frac{\\partial E_n}{\\partial w} \\right|_{w_n}\n",
    "\\end{equation*}$$\n",
    "which leads to the LMS update:\n",
    "$$\n",
    "\\boxed{ w_{n+1} = w_n + \\eta \\, (y_n - w_n^T x_n) x_n }\n",
    "$$\n",
    "\n",
    "-  <span style=\"color:red\">(OPTIONAL)</span> This is not a probabilistic modelling derivation. Is there also a Bayesian treatment of LMS? Sure, e.g., have a look at [G. Deng et al., _A model-based approach for the development of LMS algorithms_', ISCAS-05 symposium, 2005](./files/Deng-2005-A-model-based-approach-for-the-development-of-LMS-algorithms.pdf).\n"
   ]
  },
  {
   "cell_type": "code",
   "execution_count": null,
   "metadata": {
    "collapsed": true,
    "slideshow": {
     "slide_type": "skip"
    }
   },
   "outputs": [],
   "source": [
    "open(\"../../styles/aipstyle.html\") do f\n",
    "    display(\"text/html\", readstring(f))\n",
    "end"
   ]
  }
 ],
 "metadata": {
  "anaconda-cloud": {},
  "celltoolbar": "Slideshow",
  "kernelspec": {
   "display_name": "Julia 0.6.1",
   "language": "julia",
   "name": "julia-0.6"
  },
  "language_info": {
   "file_extension": ".jl",
   "mimetype": "application/julia",
   "name": "julia",
   "version": "0.6.1"
  }
 },
 "nbformat": 4,
 "nbformat_minor": 1
}
