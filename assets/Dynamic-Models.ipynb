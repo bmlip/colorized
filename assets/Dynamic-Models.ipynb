{
 "cells": [
  {
   "cell_type": "markdown",
   "metadata": {
    "slideshow": {
     "slide_type": "slide"
    }
   },
   "source": [
    "# Dynamic Models\n"
   ]
  },
  {
   "cell_type": "markdown",
   "metadata": {
    "slideshow": {
     "slide_type": "slide"
    }
   },
   "source": [
    "\n",
    "### Preliminaries\n",
    "\n",
    "- Goal \n",
    "  - Introduction to dynamic (=temporal) Latent Variable Models, including the Hidden Markov Model and Kalman filter.   \n",
    "- Materials\n",
    "  - Mandatory\n",
    "    - These lecture notes\n",
    "  - Optional \n",
    "    - Bishop pp.605-615 on Hidden Markov Models\n",
    "    - Bishop pp.635-641 on Kalman filters\n",
    "    - Faragher (2012), [Understanding the Basis of the Kalman Filter](https://github.com/bertdv/BMLIP/blob/master/lessons/notebooks/files/Faragher-2012-Understanding-the-Basis-of-the-Kalman-Filter.pdf)\n",
    "    - Minka (1999), [From Hidden Markov Models to Linear Dynamical Systems](https://github.com/bertdv/BMLIP/blob/master/lessons/notebooks/files/Minka-1999-from-HMM-to-LDS.pdf)\n",
    "      "
   ]
  },
  {
   "cell_type": "markdown",
   "metadata": {
    "slideshow": {
     "slide_type": "slide"
    }
   },
   "source": [
    "### Example Problem\n",
    "\n",
    "- We consider a one-dimensional cart position tracking problem, see [Faragher 2012](https://github.com/bertdv/BMLIP/blob/master/lessons/notebooks/files/Faragher-2012-Understanding-the-Basis-of-the-Kalman-Filter.pdf).  \n",
    "\n",
    "- The hidden states are the position $z_t$ and velocity $\\dot z_t$. We can apply an external acceleration/breaking force $u_t$. (Noisy) observations are represented by $x_t$. \n",
    "\n",
    "- The equations of motions are given by\n",
    "\n",
    "$$\\begin{align}\n",
    "\\begin{bmatrix} z_t \\\\ \\dot{z_t}\\end{bmatrix} &=  \\begin{bmatrix} 1 & \\Delta t \\\\ 0 & 1\\end{bmatrix} \\begin{bmatrix} z_{t-1} \\\\ \\dot z_{t-1}\\end{bmatrix} + \\begin{bmatrix} (\\Delta t)^2/2 \\\\ \\Delta t\\end{bmatrix} u_t + \\mathcal{N}(0,\\Sigma_z) \\\\\n",
    "x_t &= \\begin{bmatrix} z_t \\\\ \\dot{z_t}\\end{bmatrix} + \\mathcal{N}(0,\\Sigma_x) \n",
    "\\end{align}$$\n",
    "\n",
    "- Task: Infer the position $z_t$ after 10 time steps. (Solution later in this lesson).\n",
    "\n",
    "<p style=\"text-align:center;\"><img src=\"./figures/Faragher-2012-cart-1.png\" width=\"600px\"><p style=\"text-align:center;\">\n"
   ]
  },
  {
   "cell_type": "markdown",
   "metadata": {
    "slideshow": {
     "slide_type": "slide"
    }
   },
   "source": [
    "### Dynamical Models\n",
    "\n",
    "- In this lesson, we consider models where the sequence order of observations matters. \n",
    "\n",
    "- Consider the _ordered_ observation sequence $x^T \\triangleq \\left(x_1,x_2,\\ldots,x_T\\right)$.\n",
    "  - (For brevity, in this lesson we use the notation $x_t^T$ to denote $(x_t,x_{t+1},\\ldots,x_T)$ and drop the subscript if $t=1$, so $x^T = x_1^T = \\left(x_1,x_2,\\ldots,x_T\\right)$)."
   ]
  },
  {
   "cell_type": "markdown",
   "metadata": {
    "slideshow": {
     "slide_type": "fragment"
    }
   },
   "source": [
    "- We wish to develop a generative model\n",
    "    $$ p( x^T )$$\n",
    "that 'explains' the time series $x^T$. "
   ]
  },
  {
   "cell_type": "markdown",
   "metadata": {
    "slideshow": {
     "slide_type": "fragment"
    }
   },
   "source": [
    "- We cannot use the IID assumption $p( x^T ) = \\prod_t p(x_t )$. In general, we _can_ use the [**chain rule**](https://en.wikipedia.org/wiki/Chain_rule_(probability)) (a.k.a. **the general product rule**)\n",
    "\n",
    "$$\\begin{align*}\n",
    "p(x^T) &= p(x_T|x^{T-1}) \\,p(x^{T-1}) \\\\\n",
    "  &=  p(x_T|x^{T-1}) \\,p(x_{T-1}|x^{T-2}) \\cdots p(x_2|x_1)\\,p(x_1) \\\\\n",
    "  &= p(x_1)\\prod_{t=2}^T p(x_t\\,|\\,x^{t-1})\n",
    "\\end{align*}$$"
   ]
  },
  {
   "cell_type": "markdown",
   "metadata": {
    "slideshow": {
     "slide_type": "fragment"
    }
   },
   "source": [
    "- Generally, we will want to limit the depth of dependencies on previous observations. For example, a $K$th-order linear **Auto-Regressive** (AR) model is given by\n",
    "    $$\\begin{align*}\n",
    "  p(x_t\\,|\\,x^{t-1}) = \\mathcal{N}\\left(x_t \\,\\middle|\\,  \\sum_{k=1}^K a_k x_{t-k}\\,,\\sigma^2\\,\\right)  \n",
    "    \\end{align*}$$\n",
    "    limits the dependencies to the past $K$ samples."
   ]
  },
  {
   "cell_type": "markdown",
   "metadata": {
    "slideshow": {
     "slide_type": "slide"
    }
   },
   "source": [
    "### State-space Models\n",
    "\n",
    "- A limitation of AR models is that they need a lot of parameters in order to create a flexible model. E.g., if $x_t$ is an $M$-dimensional discrete variable, then an $K$th-order AR model will have about $M^{K}$ parameters. "
   ]
  },
  {
   "cell_type": "markdown",
   "metadata": {
    "slideshow": {
     "slide_type": "fragment"
    }
   },
   "source": [
    "- Similar to our work on Gaussian Mixture models, we can create a flexible dynamic system by introducing _latent_ (unobserved) variables  $z^T \\triangleq \\left(z_1,z_2,\\dots,z_T\\right)$ (one $z_t$ for each observation $x_t$). In dynamic systems, $z_t$ are called _state variables_."
   ]
  },
  {
   "cell_type": "markdown",
   "metadata": {
    "slideshow": {
     "slide_type": "fragment"
    }
   },
   "source": [
    "- A **state space model** is a particular latent variable dynamical model defined by\n",
    "$$\\begin{align*}\n",
    " p(x^T,z^T) &= \\underbrace{p(z_1)}_{\\text{initial state}} \\prod_{t=2}^T \\underbrace{p(z_t\\,|\\,z_{t-1})}_{\\text{state transitions}}\\,\\prod_{t=1}^T \\underbrace{p(x_t\\,|\\,z_t)}_{\\text{observations}}\n",
    "\\end{align*}$$\n",
    "  - The condition $p(z_t\\,|\\,z^{t-1}) = p(z_t\\,|\\,z_{t-1})$ is called a $1$st-order Markov condition.\n",
    "\n",
    "<!--- - In a Markovian state-space model, the observation sequence $x^T$ is not a first-order Markov chain, i.e., for the state-space model\n",
    "    $$\\begin{align*}\n",
    " p(x^T,z^T) &= p(z_1) \\prod_{t=2}^T p(z_t\\,|\\,z_{t-1})\\,\\prod_{t=1}^T p(x_t\\,|\\,z_t)\n",
    "\\end{align*}$$\n",
    "the following statement holds: \n",
    "    $$p(x_t\\,|\\,x_{t-1},x_{t-2}) \\neq p(x_t\\,|\\,x_{t-1})\\,.$$\n",
    "In other words, the latent variables $z_t$ represent a memory bank for past observations beyond $t-1$. (Proof as exercise). \n",
    "--->"
   ]
  },
  {
   "cell_type": "markdown",
   "metadata": {
    "slideshow": {
     "slide_type": "fragment"
    }
   },
   "source": [
    "- The Forney-style factor graph for a state-space model:\n",
    "\n",
    "<p style=\"text-align:center;\"><img src=\"./figures/ffg-state-space.png\" width=\"600px\"></p>"
   ]
  },
  {
   "cell_type": "markdown",
   "metadata": {
    "slideshow": {
     "slide_type": "slide"
    }
   },
   "source": [
    "### Hidden Markov Models and Linear Dynamical Systems\n",
    "\n",
    "- A **Hidden Markov Model** (HMM) is a specific state-space model with <span class=\"emphasis\">discrete-valued</span> state variables $z_t$."
   ]
  },
  {
   "cell_type": "markdown",
   "metadata": {
    "slideshow": {
     "slide_type": "fragment"
    }
   },
   "source": [
    "- Typically, $z_t$ is a $K$-dimensional one-hot coded latent 'class indicator' with transition probabilities $a_{jk} \\triangleq p(z_{tk}=1\\,|\\,z_{t-1,j}=1)$, or equivalently,\n",
    "  $$p(z_t|z_{t-1}) = \\prod_{k=1}^K \\prod_{j=1}^K a_{jk}^{z_{t-1,j}\\cdot z_{tk}}$$\n",
    "which is usually accompanied by an initial state distribution $p(z_{1k}=1) = \\pi_k$."
   ]
  },
  {
   "cell_type": "markdown",
   "metadata": {
    "slideshow": {
     "slide_type": "fragment"
    }
   },
   "source": [
    "  \n",
    "- The classical HMM has also discrete-valued observations but in pratice any (probabilistic) observation model $p(x_t|z_t)$ may be coupled to the hidden Markov chain. \n",
    "\n",
    "<!---\n",
    "- The following figure shows the typical trellis structure of the many possible state transitions paths.   \n",
    "<img src=\"./figures/Figure13.7.png\" width=\"400px\">\n",
    "--->"
   ]
  },
  {
   "cell_type": "markdown",
   "metadata": {
    "slideshow": {
     "slide_type": "fragment"
    }
   },
   "source": [
    "- Another well-known state-space model with <span class=\"emphasis\">continuous-valued</span> state variables $z_t$ is the **(Linear) Gaussian Dynamical System** (LGDS), which is defined as\n",
    "\n",
    "$$\\begin{align*}\n",
    "p(z_t\\,|\\,z_{t-1}) &= \\mathcal{N}\\left(\\, A z_{t-1}\\,,\\,\\Sigma_z\\,\\right) \\\\ \n",
    "p(x_t\\,|\\,z_t) &= \\mathcal{N}\\left(\\, C z_t\\,,\\,\\Sigma_x\\,\\right) \\\\\n",
    "p(z_1) &= \\mathcal{N}\\left(\\, \\mu_1\\,,\\,\\Sigma_1\\,\\right)\n",
    "\\end{align*}$$\n",
    "<!---or, equivalently (in the usual state-space notation)\n",
    "$$\\begin{align*}\n",
    "z_k &= A z_{k-1} + \\mathcal{N}\\left(0,\\Sigma_z \\right) \\\\ \n",
    "x_k &= C z_k + \\mathcal{N}\\left( 0, \\Sigma_x \\right) \\\\\n",
    "z_1 &= \\mu_1 + \\mathcal{N}\\left( 0, \\Sigma_1\\right)\n",
    "\\end{align*}$$\n",
    "--->"
   ]
  },
  {
   "cell_type": "markdown",
   "metadata": {
    "slideshow": {
     "slide_type": "subslide"
    }
   },
   "source": [
    "- Note that the joint distribution over all states and observations $\\{(x_1,z_1),\\ldots,(x_t,z_t)\\}$ is a (large-dimensional) Gaussian distribution. This means that, in principle, every inference problem on the LGDS model also leads to a Gaussian distribution."
   ]
  },
  {
   "cell_type": "markdown",
   "metadata": {
    "slideshow": {
     "slide_type": "fragment"
    }
   },
   "source": [
    "- HMM's and LGDS's (and variants thereof) are at the basis of a wide range of complex information processing systems, such as speech and language recognition, robotics and automatic car navigation, and even processing of DNA sequences.  "
   ]
  },
  {
   "cell_type": "markdown",
   "metadata": {},
   "source": [
    "### Common Signal Processing Tasks as Message Passing-based Inference\n",
    "\n",
    "- As we have seen, inference tasks in linear Gaussian state space models can be analytically solved.\n",
    "\n",
    "- However, these derivations quickly become cumbersome and prone to errors.\n",
    "\n",
    "- Alternatively, we could specify the generative model in a (Forney-style) factor graph and use automated message passing to infer the posterior over the hidden variables. Here follows some examples.\n",
    "\n",
    "- **Filtering**, a.k.a. state estimation: estimation of a state (at time step $t$), based on past and current (at $t$) observations. \n",
    "<p style=\"text-align:center;\"><img src=\"./figures/ffg-state-space-filtering.png\" width=\"600px\"></p>\n",
    "\n",
    "- **Smoothing**: estimation of a state based on both past and future observations. Needs backward messages from the future.  \n",
    "\n",
    "<p style=\"text-align:center;\"><img src=\"./figures/ffg-state-space-smoothing.png\" width=\"600px\"></p>\n",
    "\n",
    "- **Prediction**: estimation of future state or observation based only on observations of the past.\n",
    "\n",
    "<p style=\"text-align:center;\"><img src=\"./figures/ffg-state-space-prediction.png\" width=\"600px\"></p>\n"
   ]
  },
  {
   "cell_type": "markdown",
   "metadata": {
    "slideshow": {
     "slide_type": "slide"
    }
   },
   "source": [
    "### Kalman Filtering\n",
    "\n",
    "- Technically, a [**Kalman filter**](https://en.wikipedia.org/wiki/Kalman_filter) is the solution to the recursive estimation (inference) of the hidden state $z_t$ based on past observations in an LGDS, i.e., Kalman filtering solves the problem $p(z_t\\,|\\,x^t)$ based on the previous estimate $p(z_{t-1}\\,|\\,x^{t-1})$ and a new observation $x_t$ (in the context of the given model specification of course). \n",
    " "
   ]
  },
  {
   "cell_type": "markdown",
   "metadata": {
    "slideshow": {
     "slide_type": "fragment"
    }
   },
   "source": [
    " \n",
    "- Let's infer the Kalman filter for a scalar linear Gaussian dynamical system:\n",
    "$$\\begin{align*}\n",
    "    p(z_t\\,|\\,z_{t-1}) &= \\mathcal{N}(z_t\\,|\\,a z_{t-1},\\sigma_z^2) \\tag{state transition}   \\\\\n",
    "    p(x_t\\,|\\,z_t) &= \\mathcal{N}(x_t\\,|\\,c z_t,\\sigma_x^2) \\tag{observation}     \n",
    "\\end{align*}$$"
   ]
  },
  {
   "cell_type": "markdown",
   "metadata": {
    "slideshow": {
     "slide_type": "fragment"
    }
   },
   "source": [
    "        \n",
    "- Kalman filtering comprises inferring $p(z_t\\,|\\,x^t)$ from a given prior estimate $p(z_{t-1}\\,|\\,x^{t-1})$ (available after the previous time step) and a new observation $x_t$. Let us assume that \n",
    "$$\\begin{align} \n",
    "p(z_{t-1}\\,|\\,x^{t-1}) = \\mathcal{N}(z_{t-1} \\,|\\, \\mu_{t-1}, \\sigma_{t-1}^2) \\tag{prior}\n",
    "\\end{align}$$ "
   ]
  },
  {
   "cell_type": "markdown",
   "metadata": {
    "slideshow": {
     "slide_type": "subslide"
    }
   },
   "source": [
    "- Note that everything is Gaussian, so this is _in principle_ possible to execute inference problems analytically and the result will be a Gaussian posterior:\n",
    "\n",
    "$$\\begin{align*}\n",
    "\\underbrace{p(z_t\\,|\\,x^t)}_{\\text{posterior}} &= p(z_t\\,|\\,x_t,x^{t-1}) \\propto p(x_t,z_t\\,|\\,x^{t-1}) \\\\\n",
    "  &\\propto p(x_t\\,|\\,z_t) \\,p(z_t\\,|\\,x^{t-1}) \\\\\n",
    "  &= p(x_t\\,|\\,z_t) \\, \\sum_{z_{t-1}} p(z_t,z_{t-1}\\,|\\,x^{t-1}) \\\\\n",
    "  &= \\underbrace{p(x_t\\,|\\,z_t)}_{\\text{observation}} \\, \\sum_{z_{t-1}} \\underbrace{p(z_t\\,|\\,z_{t-1})}_{\\text{state transition}} \\, \\underbrace{p(z_{t-1}\\,|\\,x^{t-1})}_{\\text{prior}} \\\\\n",
    "    &= \\mathcal{N}(x_t\\,|\\,c z_t,\\sigma_x^2) \\sum_{z_{t-1}} \\mathcal{N}(z_t\\,|\\,a z_{t-1},\\sigma_z^2) \\, \\mathcal{N}(z_{t-1} \\,|\\, \\mu_{t-1}, \\sigma_{t-1}^2) \\\\\n",
    "  &= \\frac{1}{c}\\mathcal{N}\\left(z_t\\bigm| \\frac{x_t}{c} ,\\left(\\frac{\\sigma_x}{c}\\right)^2\\right)  \\sum_{z_{t-1}} \\frac{1}{a}\\underbrace{\\mathcal{N}\\left(z_{t-1}\\bigm|  \\frac{z_t}{a},\\left(\\frac{\\sigma_z}{a}\\right)^2 \\right) \\, \\mathcal{N}(z_{t-1} \\,|\\, \\mu_{t-1}, \\sigma_{t-1}^2)}_{\\text{use Gaussian multiplication formula SRG-6}} \\\\\n",
    "  &\\propto \\underbrace{\\mathcal{N}\\left(z_t\\,\\bigm| \\,\\frac{x_t}{c} ,\\left(\\frac{\\sigma_x}{c}\\right)^2\\right) \\cdot \\mathcal{N}\\left(z_t\\, \\bigm|\\,a \\mu_{t-1},\\sigma_z^2 + \\left(a \\sigma_{t-1}\\right)^2 \\right)}_{\\text{use SRG-6 again}} \\\\\n",
    "  &\\propto \\mathcal{N}\\left( z_t \\,|\\, \\mu_t, \\sigma_t^2\\right)\n",
    "\\end{align*}$$\n",
    "with\n",
    "$$\\begin{align*}\n",
    "  \\rho_t^2 &= a^2 \\sigma_{t-1}^2 + \\sigma_z^2 \\tag{predicted variance}\\\\\n",
    "  K_t &= \\frac{c \\rho_t^2}{c^2 \\rho_t^2 + \\sigma_x^2} \\tag{Kalman gain} \\\\\n",
    "  \\mu_t &= \\underbrace{a \\mu_{t-1}}_{\\text{prior prediction}} + K_t \\cdot \\underbrace{\\left( x_t - c a \\mu_{t-1}\\right)}_{\\text{prediction error}} \\tag{posterior mean}\\\\\n",
    "  \\sigma_t^2 &= \\left( 1 - c\\cdot K_t \\right) \\rho_t^2 \\tag{posterior variance}\n",
    "\\end{align*}$$"
   ]
  },
  {
   "cell_type": "markdown",
   "metadata": {
    "slideshow": {
     "slide_type": "subslide"
    }
   },
   "source": [
    "- Kalman filtering consists of computing/updating these last four equations for each new observation ($x_t$). This is a very efficient recursive algorithm to estimate the state $z_t$ from all observations (until $t$).\n",
    "\n",
    "- It turns out that it's also possible to get an analytical result for $p(x_t|x^{t-1})$, which is the **model evidence** in a filtering context. See [optional slides](#kalman-proof) for details.  "
   ]
  },
  {
   "cell_type": "markdown",
   "metadata": {
    "slideshow": {
     "slide_type": "slide"
    }
   },
   "source": [
    "### Multi-dimensional Kalman Filtering\n",
    "\n",
    "- The Kalman filter equations can also be derived for multidimensional state-space models. In particular, for the model\n",
    "$$\\begin{align*}\n",
    "z_t &= A z_{t-1} + \\mathcal{N}(0,\\Gamma) \\\\\n",
    "x_t &= C z_t + \\mathcal{N}(0,\\Sigma)\n",
    "\\end{align*}$$\n",
    "the Kalman filter update equations for the posterior $p(z_t |x^t) = \\mathcal{N}\\left(z_t \\bigm| \\mu_t, V_t \\right)$ are given by (see Bishop, pg.639)\n",
    "$$\\begin{align*}\n",
    "P_t &= A V_{t-1} A^T + \\Gamma \\tag{predicted variance}\\\\\n",
    "K_t &= P_t C^T \\cdot \\left(C P_t C^T  + \\Sigma \\right)^{-1} \\tag{Kalman gain} \\\\\n",
    "\\mu_t &= A \\mu_{t-1} + K_t\\cdot\\left(x_t - C A \\mu_{t-1} \\right) \\tag{posterior state mean}\\\\\n",
    "V_t &= \\left(I-K_t C \\right) P_{t}  \\tag{posterior state variance}\n",
    "\\end{align*}$$\n",
    "\n"
   ]
  },
  {
   "cell_type": "markdown",
   "metadata": {
    "slideshow": {
     "slide_type": "slide"
    }
   },
   "source": [
    "### Kalman Filtering and the Cart Position Tracking Example Revisited\n",
    "\n",
    "#### CODE EXAMPLE\n",
    "\n",
    "- We can now solve the cart tracking problem of the introductory example by implementing the Kalman filter."
   ]
  },
  {
   "cell_type": "code",
   "execution_count": 1,
   "metadata": {
    "slideshow": {
     "slide_type": "slide"
    }
   },
   "outputs": [],
   "source": [
    "using Pkg;Pkg.activate(\"probprog/workspace/\");Pkg.instantiate()\n",
    "IJulia.clear_output();"
   ]
  },
  {
   "cell_type": "code",
   "execution_count": 3,
   "metadata": {
    "slideshow": {
     "slide_type": "slide"
    }
   },
   "outputs": [
    {
     "data": {
      "image/png": "[encoded data removed]",
      "text/plain": [
       "Figure(PyObject <Figure size 1500x500 with 1 Axes>)"
      ]
     },
     "metadata": {},
     "output_type": "display_data"
    },
    {
     "name": "stdout",
     "output_type": "stream",
     "text": [
      "Prediction: 𝒩(m=[43.14, 4.50], v=[[1.30, 0.39][0.39, 0.34]])\n",
      "\n",
      "Measurement: 𝒩(m=[41.30, 5.49], v=[[1.00, 0.00][0.00, 2.00]])\n",
      "\n",
      "Posterior: 𝒩(m=[42.20, 4.35], v=[[0.55, 0.15][0.15, 0.24]])\n",
      "\n"
     ]
    }
   ],
   "source": [
    "using LinearAlgebra, PyPlot\n",
    "include(\"scripts/cart_tracking_helpers.jl\")\n",
    "\n",
    "# Specify the model parameters\n",
    "Δt = 1.0                     # assume the time steps to be equal in size\n",
    "A = [1.0 Δt;\n",
    "     0.0 1.0]\n",
    "b = [0.5*Δt^2; Δt] \n",
    "Σz = convert(Matrix,Diagonal([0.2*Δt; 0.1*Δt])) # process noise covariance\n",
    "Σx = convert(Matrix,Diagonal([1.0; 2.0]))     # observation noise covariance;\n",
    "\n",
    "# Generate noisy observations\n",
    "n = 10                # perform 10 timesteps\n",
    "z_start = [10.0; 2.0] # initial state\n",
    "u = 0.2 * ones(n)     # constant input u\n",
    "noisy_x = generateNoisyMeasurements(z_start, u, A, b, Σz, Σx);\n",
    "\n",
    "m_z = noisy_x[1]                                    # initial predictive mean\n",
    "V_z = A * (1e8*Diagonal(I,2) * A') + Σz             # initial predictive covariance\n",
    "\n",
    "for t = 2:n\n",
    "    global m_z, V_z, m_pred_z, V_pred_z\n",
    "    #predict\n",
    "    m_pred_z = A * m_z + b * u[t]                   # predictive mean\n",
    "    V_pred_z = A * V_z * A' + Σz                    # predictive covariance\n",
    "    #update\n",
    "    gain = V_pred_z * inv(V_pred_z + Σx)            # Kalman gain\n",
    "    m_z = m_pred_z + gain * (noisy_x[t] - m_pred_z) # posterior mean update\n",
    "    V_z = (Diagonal(I,2)-gain)*V_pred_z             # posterior covariance update\n",
    "end\n",
    "println(\"Prediction: \",ProbabilityDistribution(Multivariate,GaussianMeanVariance,m=m_pred_z,v=V_pred_z))\n",
    "println(\"Measurement: \", ProbabilityDistribution(Multivariate,GaussianMeanVariance,m=noisy_x[n],v=Σx))\n",
    "println(\"Posterior: \", ProbabilityDistribution(Multivariate,GaussianMeanVariance,m=m_z,v=V_z))\n",
    "plotCartPrediction2(m_pred_z[1], V_pred_z[1], m_z[1], V_z[1], noisy_x[n][1], Σx[1][1]);"
   ]
  },
  {
   "cell_type": "markdown",
   "metadata": {
    "slideshow": {
     "slide_type": "slide"
    }
   },
   "source": [
    "### The Cart Tracking Problem Revisited: Inference by Message Passing\n",
    "\n",
    "- Let's solve the cart tracking problem by sum-product message passing in a factor graph like the one depicted above. All we have to do is create factor nodes for the state-transition model $p(z_t|z_{t-1})$ and the observation model $p(x_t|z_t)$. Then we just build the factor graph and let [ForneyLab](http://forneylab.org) execute the message passing schedule. "
   ]
  },
  {
   "cell_type": "markdown",
   "metadata": {
    "slideshow": {
     "slide_type": "slide"
    }
   },
   "source": [
    "- Since the factor graph is just a concatination of $n$ identical \"sections\" (one for each time step), we only have to specify a single section. When running the message passing algorithm we will explictly use the posterior of the previous timestep as prior in the next one. Let's build a section of the factor graph:"
   ]
  },
  {
   "cell_type": "code",
   "execution_count": 4,
   "metadata": {
    "slideshow": {
     "slide_type": "slide"
    }
   },
   "outputs": [
    {
     "data": {
      "text/html": [
       "<?xml version=\"1.0\" encoding=\"UTF-8\" standalone=\"no\"?>\n",
       "<!DOCTYPE svg PUBLIC \"-//W3C//DTD SVG 1.1//EN\"\n",
       " \"http://www.w3.org/Graphics/SVG/1.1/DTD/svg11.dtd\">\n",
       "<!-- Generated by graphviz version 2.44.1 (20200629.0846)\n",
       " -->\n",
       "<!-- Title: G Pages: 1 -->\n",
       "<svg width=\"825pt\" height=\"746pt\"\n",
       " viewBox=\"0.00 0.00 824.50 746.00\" xmlns=\"http://www.w3.org/2000/svg\" xmlns:xlink=\"http://www.w3.org/1999/xlink\">\n",
       "<g id=\"graph0\" class=\"graph\" transform=\"scale(1 1) rotate(0) translate(4 742)\">\n",
       "<title>G</title>\n",
       "<polygon fill=\"white\" stroke=\"transparent\" points=\"-4,4 -4,-742 820.5,-742 820.5,4 -4,4\"/>\n",
       "<!-- 13235346766328970715 -->\n",
       "<g id=\"node1\" class=\"node\">\n",
       "<title>13235346766328970715</title>\n",
       "<polygon fill=\"none\" stroke=\"black\" points=\"188.5,-171 116.5,-171 116.5,-99 188.5,-99 188.5,-171\"/>\n",
       "<text text-anchor=\"middle\" x=\"152.5\" y=\"-137.8\" font-family=\"Times,serif\" font-size=\"9.00\">𝒩</text>\n",
       "<text text-anchor=\"middle\" x=\"152.5\" y=\"-127.8\" font-family=\"Times,serif\" font-size=\"9.00\">z_prev</text>\n",
       "</g>\n",
       "<!-- 15118277415689920872 -->\n",
       "<g id=\"node5\" class=\"node\">\n",
       "<title>15118277415689920872</title>\n",
       "<polygon fill=\"lightgrey\" stroke=\"black\" points=\"95,-54 0,-54 0,0 95,0 95,-54\"/>\n",
       "<text text-anchor=\"middle\" x=\"47.5\" y=\"-24.8\" font-family=\"Times,serif\" font-size=\"9.00\">placeholder_z_prev_v</text>\n",
       "</g>\n",
       "<!-- 13235346766328970715&#45;&#45;15118277415689920872 -->\n",
       "<g id=\"edge11\" class=\"edge\">\n",
       "<title>13235346766328970715&#45;&#45;15118277415689920872</title>\n",
       "<path fill=\"none\" stroke=\"black\" d=\"M116.49,-108.5C105.97,-100.29 94.82,-90.77 85.5,-81 77.76,-72.89 70.33,-63.13 64.12,-54.2\"/>\n",
       "<text text-anchor=\"start\" x=\"85.5\" y=\"-74.6\" font-family=\"Times,serif\" font-size=\"8.00\" fill=\"red\">z_prev_v</text>\n",
       "<text text-anchor=\"start\" x=\"45.12\" y=\"-56.8\" font-family=\"Times,serif\" font-size=\"8.00\">1 out </text>\n",
       "<text text-anchor=\"start\" x=\"103.49\" y=\"-111.1\" font-family=\"Times,serif\" font-size=\"8.00\">3 v </text>\n",
       "</g>\n",
       "<!-- 5184965458699535697 -->\n",
       "<g id=\"node10\" class=\"node\">\n",
       "<title>5184965458699535697</title>\n",
       "<polygon fill=\"lightgrey\" stroke=\"black\" points=\"307,-54 210,-54 210,0 307,0 307,-54\"/>\n",
       "<text text-anchor=\"middle\" x=\"258.5\" y=\"-24.8\" font-family=\"Times,serif\" font-size=\"9.00\">placeholder_z_prev_m</text>\n",
       "</g>\n",
       "<!-- 13235346766328970715&#45;&#45;5184965458699535697 -->\n",
       "<g id=\"edge10\" class=\"edge\">\n",
       "<title>13235346766328970715&#45;&#45;5184965458699535697</title>\n",
       "<path fill=\"none\" stroke=\"black\" d=\"M187.5,-99C202.1,-84.4 218.75,-67.75 232.27,-54.23\"/>\n",
       "<text text-anchor=\"start\" x=\"212.5\" y=\"-74.6\" font-family=\"Times,serif\" font-size=\"8.00\" fill=\"red\">z_prev_m</text>\n",
       "<text text-anchor=\"start\" x=\"213.27\" y=\"-56.83\" font-family=\"Times,serif\" font-size=\"8.00\">1 out </text>\n",
       "<text text-anchor=\"start\" x=\"172.5\" y=\"-92.6\" font-family=\"Times,serif\" font-size=\"8.00\">2 m </text>\n",
       "</g>\n",
       "<!-- 12676757099848947320 -->\n",
       "<g id=\"node2\" class=\"node\">\n",
       "<title>12676757099848947320</title>\n",
       "<polygon fill=\"none\" stroke=\"black\" points=\"278.5,-288 204.5,-288 204.5,-216 278.5,-216 278.5,-288\"/>\n",
       "<text text-anchor=\"middle\" x=\"241.5\" y=\"-254.8\" font-family=\"Times,serif\" font-size=\"9.00\">×</text>\n",
       "<text text-anchor=\"middle\" x=\"241.5\" y=\"-244.8\" font-family=\"Times,serif\" font-size=\"9.00\">multiplication_1</text>\n",
       "</g>\n",
       "<!-- 12676757099848947320&#45;&#45;13235346766328970715 -->\n",
       "<g id=\"edge4\" class=\"edge\">\n",
       "<title>12676757099848947320&#45;&#45;13235346766328970715</title>\n",
       "<path fill=\"none\" stroke=\"black\" d=\"M214.31,-215.87C203.37,-201.74 190.78,-185.46 179.83,-171.31\"/>\n",
       "<text text-anchor=\"start\" x=\"200.5\" y=\"-191.6\" font-family=\"Times,serif\" font-size=\"8.00\" fill=\"red\">z_prev</text>\n",
       "<text text-anchor=\"start\" x=\"160.83\" y=\"-173.91\" font-family=\"Times,serif\" font-size=\"8.00\">1 out </text>\n",
       "<text text-anchor=\"start\" x=\"195.31\" y=\"-209.47\" font-family=\"Times,serif\" font-size=\"8.00\">2 in1 </text>\n",
       "</g>\n",
       "<!-- 15738765540858493471 -->\n",
       "<g id=\"node14\" class=\"node\">\n",
       "<title>15738765540858493471</title>\n",
       "<polygon fill=\"lightgrey\" stroke=\"black\" points=\"357.5,-162 303.5,-162 303.5,-108 357.5,-108 357.5,-162\"/>\n",
       "<text text-anchor=\"middle\" x=\"330.5\" y=\"-132.8\" font-family=\"Times,serif\" font-size=\"9.00\">A</text>\n",
       "</g>\n",
       "<!-- 12676757099848947320&#45;&#45;15738765540858493471 -->\n",
       "<g id=\"edge3\" class=\"edge\">\n",
       "<title>12676757099848947320&#45;&#45;15738765540858493471</title>\n",
       "<path fill=\"none\" stroke=\"black\" d=\"M268.69,-215.87C282.08,-198.57 297.95,-178.06 310.26,-162.15\"/>\n",
       "<text text-anchor=\"start\" x=\"289.5\" y=\"-191.6\" font-family=\"Times,serif\" font-size=\"8.00\" fill=\"red\">A</text>\n",
       "<text text-anchor=\"start\" x=\"291.26\" y=\"-164.75\" font-family=\"Times,serif\" font-size=\"8.00\">1 out </text>\n",
       "<text text-anchor=\"start\" x=\"255.69\" y=\"-209.47\" font-family=\"Times,serif\" font-size=\"8.00\">3 a </text>\n",
       "</g>\n",
       "<!-- 7828572802367217628 -->\n",
       "<g id=\"node3\" class=\"node\">\n",
       "<title>7828572802367217628</title>\n",
       "<polygon fill=\"none\" stroke=\"black\" points=\"664.5,-639 560.5,-639 560.5,-567 664.5,-567 664.5,-639\"/>\n",
       "<text text-anchor=\"middle\" x=\"612.5\" y=\"-605.8\" font-family=\"Times,serif\" font-size=\"9.00\">𝒩</text>\n",
       "<text text-anchor=\"middle\" x=\"612.5\" y=\"-595.8\" font-family=\"Times,serif\" font-size=\"9.00\">gaussianmeanvariance_2</text>\n",
       "</g>\n",
       "<!-- 15747576282443262369 -->\n",
       "<g id=\"node4\" class=\"node\">\n",
       "<title>15747576282443262369</title>\n",
       "<polygon fill=\"none\" stroke=\"black\" points=\"559.5,-522 487.5,-522 487.5,-450 559.5,-450 559.5,-522\"/>\n",
       "<text text-anchor=\"middle\" x=\"523.5\" y=\"-488.8\" font-family=\"Times,serif\" font-size=\"9.00\">+</text>\n",
       "<text text-anchor=\"middle\" x=\"523.5\" y=\"-478.8\" font-family=\"Times,serif\" font-size=\"9.00\">addition_2</text>\n",
       "</g>\n",
       "<!-- 7828572802367217628&#45;&#45;15747576282443262369 -->\n",
       "<g id=\"edge13\" class=\"edge\">\n",
       "<title>7828572802367217628&#45;&#45;15747576282443262369</title>\n",
       "<path fill=\"none\" stroke=\"black\" d=\"M585.31,-566.87C574.37,-552.74 561.78,-536.46 550.83,-522.31\"/>\n",
       "<text text-anchor=\"start\" x=\"571.5\" y=\"-542.6\" font-family=\"Times,serif\" font-size=\"8.00\" fill=\"red\">z</text>\n",
       "<text text-anchor=\"start\" x=\"531.83\" y=\"-524.91\" font-family=\"Times,serif\" font-size=\"8.00\">1 out </text>\n",
       "<text text-anchor=\"start\" x=\"570.31\" y=\"-560.47\" font-family=\"Times,serif\" font-size=\"8.00\">2 m </text>\n",
       "</g>\n",
       "<!-- 6344497154637349299 -->\n",
       "<g id=\"node12\" class=\"node\">\n",
       "<title>6344497154637349299</title>\n",
       "<polygon fill=\"lightgrey\" stroke=\"black\" points=\"728.5,-513 674.5,-513 674.5,-459 728.5,-459 728.5,-513\"/>\n",
       "<text text-anchor=\"middle\" x=\"701.5\" y=\"-483.8\" font-family=\"Times,serif\" font-size=\"9.00\">Σx</text>\n",
       "</g>\n",
       "<!-- 7828572802367217628&#45;&#45;6344497154637349299 -->\n",
       "<g id=\"edge6\" class=\"edge\">\n",
       "<title>7828572802367217628&#45;&#45;6344497154637349299</title>\n",
       "<path fill=\"none\" stroke=\"black\" d=\"M639.69,-566.87C653.08,-549.57 668.95,-529.06 681.26,-513.15\"/>\n",
       "<text text-anchor=\"start\" x=\"660.5\" y=\"-542.6\" font-family=\"Times,serif\" font-size=\"8.00\" fill=\"red\">Σx</text>\n",
       "<text text-anchor=\"start\" x=\"662.26\" y=\"-515.75\" font-family=\"Times,serif\" font-size=\"8.00\">1 out </text>\n",
       "<text text-anchor=\"start\" x=\"626.69\" y=\"-560.47\" font-family=\"Times,serif\" font-size=\"8.00\">3 v </text>\n",
       "</g>\n",
       "<!-- 2109550517680791862 -->\n",
       "<g id=\"node8\" class=\"node\">\n",
       "<title>2109550517680791862</title>\n",
       "<polygon fill=\"none\" stroke=\"black\" points=\"458.5,-405 386.5,-405 386.5,-333 458.5,-333 458.5,-405\"/>\n",
       "<text text-anchor=\"middle\" x=\"422.5\" y=\"-371.8\" font-family=\"Times,serif\" font-size=\"9.00\">+</text>\n",
       "<text text-anchor=\"middle\" x=\"422.5\" y=\"-361.8\" font-family=\"Times,serif\" font-size=\"9.00\">addition_1</text>\n",
       "</g>\n",
       "<!-- 15747576282443262369&#45;&#45;2109550517680791862 -->\n",
       "<g id=\"edge7\" class=\"edge\">\n",
       "<title>15747576282443262369&#45;&#45;2109550517680791862</title>\n",
       "<path fill=\"none\" stroke=\"black\" d=\"M487.21,-471.43C469.02,-462.82 448.2,-449.88 435.5,-432 429.96,-424.2 426.68,-414.54 424.77,-405.19\"/>\n",
       "<text text-anchor=\"start\" x=\"435.5\" y=\"-425.6\" font-family=\"Times,serif\" font-size=\"8.00\" fill=\"red\">variable_2</text>\n",
       "<text text-anchor=\"start\" x=\"405.77\" y=\"-407.79\" font-family=\"Times,serif\" font-size=\"8.00\">1 out </text>\n",
       "<text text-anchor=\"start\" x=\"468.21\" y=\"-474.03\" font-family=\"Times,serif\" font-size=\"8.00\">2 in1 </text>\n",
       "</g>\n",
       "<!-- 15660909859721940067 -->\n",
       "<g id=\"node11\" class=\"node\">\n",
       "<title>15660909859721940067</title>\n",
       "<polygon fill=\"none\" stroke=\"black\" points=\"677.5,-405 573.5,-405 573.5,-333 677.5,-333 677.5,-405\"/>\n",
       "<text text-anchor=\"middle\" x=\"625.5\" y=\"-371.8\" font-family=\"Times,serif\" font-size=\"9.00\">𝒩</text>\n",
       "<text text-anchor=\"middle\" x=\"625.5\" y=\"-361.8\" font-family=\"Times,serif\" font-size=\"9.00\">gaussianmeanvariance_1</text>\n",
       "</g>\n",
       "<!-- 15747576282443262369&#45;&#45;15660909859721940067 -->\n",
       "<g id=\"edge9\" class=\"edge\">\n",
       "<title>15747576282443262369&#45;&#45;15660909859721940067</title>\n",
       "<path fill=\"none\" stroke=\"black\" d=\"M554.66,-449.87C567.2,-435.74 581.63,-419.46 594.18,-405.31\"/>\n",
       "<text text-anchor=\"start\" x=\"578.5\" y=\"-425.6\" font-family=\"Times,serif\" font-size=\"8.00\" fill=\"red\">noise_z</text>\n",
       "<text text-anchor=\"start\" x=\"575.18\" y=\"-407.91\" font-family=\"Times,serif\" font-size=\"8.00\">1 out </text>\n",
       "<text text-anchor=\"start\" x=\"535.66\" y=\"-443.47\" font-family=\"Times,serif\" font-size=\"8.00\">3 in2 </text>\n",
       "</g>\n",
       "<!-- 4251336436720517037 -->\n",
       "<g id=\"node6\" class=\"node\">\n",
       "<title>4251336436720517037</title>\n",
       "<polygon fill=\"lightgrey\" stroke=\"black\" points=\"647,-279 592,-279 592,-225 647,-225 647,-279\"/>\n",
       "<text text-anchor=\"middle\" x=\"619.5\" y=\"-249.8\" font-family=\"Times,serif\" font-size=\"9.00\">noise_z_m</text>\n",
       "</g>\n",
       "<!-- 5625896894584665357 -->\n",
       "<g id=\"node7\" class=\"node\">\n",
       "<title>5625896894584665357</title>\n",
       "<polygon fill=\"lightgrey\" stroke=\"black\" points=\"645.5,-738 579.5,-738 579.5,-684 645.5,-684 645.5,-738\"/>\n",
       "<text text-anchor=\"middle\" x=\"612.5\" y=\"-708.8\" font-family=\"Times,serif\" font-size=\"9.00\">placeholder_x</text>\n",
       "</g>\n",
       "<!-- 5625896894584665357&#45;&#45;7828572802367217628 -->\n",
       "<g id=\"edge2\" class=\"edge\">\n",
       "<title>5625896894584665357&#45;&#45;7828572802367217628</title>\n",
       "<path fill=\"none\" stroke=\"black\" d=\"M612.5,-683.8C612.5,-670.31 612.5,-653.68 612.5,-639.1\"/>\n",
       "<text text-anchor=\"start\" x=\"612.5\" y=\"-659.6\" font-family=\"Times,serif\" font-size=\"8.00\" fill=\"red\">x</text>\n",
       "<text text-anchor=\"start\" x=\"593.5\" y=\"-641.7\" font-family=\"Times,serif\" font-size=\"8.00\">1 out </text>\n",
       "<text text-anchor=\"start\" x=\"593.5\" y=\"-677.4\" font-family=\"Times,serif\" font-size=\"8.00\">1 out </text>\n",
       "</g>\n",
       "<!-- 2109550517680791862&#45;&#45;12676757099848947320 -->\n",
       "<g id=\"edge12\" class=\"edge\">\n",
       "<title>2109550517680791862&#45;&#45;12676757099848947320</title>\n",
       "<path fill=\"none\" stroke=\"black\" d=\"M386.31,-345C355.05,-325.14 310.07,-296.57 278.56,-276.55\"/>\n",
       "<text text-anchor=\"start\" x=\"337.5\" y=\"-308.6\" font-family=\"Times,serif\" font-size=\"8.00\" fill=\"red\">variable_1</text>\n",
       "<text text-anchor=\"start\" x=\"278.56\" y=\"-279.15\" font-family=\"Times,serif\" font-size=\"8.00\">1 out </text>\n",
       "<text text-anchor=\"start\" x=\"367.31\" y=\"-347.6\" font-family=\"Times,serif\" font-size=\"8.00\">2 in1 </text>\n",
       "</g>\n",
       "<!-- 6936612298537014231 -->\n",
       "<g id=\"node9\" class=\"node\">\n",
       "<title>6936612298537014231</title>\n",
       "<polygon fill=\"lightgrey\" stroke=\"black\" points=\"465,-279 394,-279 394,-225 465,-225 465,-279\"/>\n",
       "<text text-anchor=\"middle\" x=\"429.5\" y=\"-249.8\" font-family=\"Times,serif\" font-size=\"9.00\">placeholder_bu</text>\n",
       "</g>\n",
       "<!-- 2109550517680791862&#45;&#45;6936612298537014231 -->\n",
       "<g id=\"edge1\" class=\"edge\">\n",
       "<title>2109550517680791862&#45;&#45;6936612298537014231</title>\n",
       "<path fill=\"none\" stroke=\"black\" d=\"M424.64,-332.87C425.69,-315.57 426.94,-295.06 427.91,-279.15\"/>\n",
       "<text text-anchor=\"start\" x=\"426.5\" y=\"-308.6\" font-family=\"Times,serif\" font-size=\"8.00\" fill=\"red\">bu</text>\n",
       "<text text-anchor=\"start\" x=\"408.91\" y=\"-281.75\" font-family=\"Times,serif\" font-size=\"8.00\">1 out </text>\n",
       "<text text-anchor=\"start\" x=\"405.64\" y=\"-326.47\" font-family=\"Times,serif\" font-size=\"8.00\">3 in2 </text>\n",
       "</g>\n",
       "<!-- 15660909859721940067&#45;&#45;4251336436720517037 -->\n",
       "<g id=\"edge5\" class=\"edge\">\n",
       "<title>15660909859721940067&#45;&#45;4251336436720517037</title>\n",
       "<path fill=\"none\" stroke=\"black\" d=\"M615.63,-332.87C614.33,-326.95 613.2,-320.83 612.5,-315 611.08,-303.28 612.14,-290.3 613.83,-279.26\"/>\n",
       "<text text-anchor=\"start\" x=\"612.5\" y=\"-308.6\" font-family=\"Times,serif\" font-size=\"8.00\" fill=\"red\">noise_z_m</text>\n",
       "<text text-anchor=\"start\" x=\"594.83\" y=\"-281.86\" font-family=\"Times,serif\" font-size=\"8.00\">1 out </text>\n",
       "<text text-anchor=\"start\" x=\"600.63\" y=\"-326.47\" font-family=\"Times,serif\" font-size=\"8.00\">2 m </text>\n",
       "</g>\n",
       "<!-- 4738659631263503351 -->\n",
       "<g id=\"node13\" class=\"node\">\n",
       "<title>4738659631263503351</title>\n",
       "<polygon fill=\"lightgrey\" stroke=\"black\" points=\"816.5,-279 762.5,-279 762.5,-225 816.5,-225 816.5,-279\"/>\n",
       "<text text-anchor=\"middle\" x=\"789.5\" y=\"-249.8\" font-family=\"Times,serif\" font-size=\"9.00\">noise_z_v</text>\n",
       "</g>\n",
       "<!-- 15660909859721940067&#45;&#45;4738659631263503351 -->\n",
       "<g id=\"edge8\" class=\"edge\">\n",
       "<title>15660909859721940067&#45;&#45;4738659631263503351</title>\n",
       "<path fill=\"none\" stroke=\"black\" d=\"M675.6,-332.87C704.04,-312.92 738.56,-288.72 762.09,-272.22\"/>\n",
       "<text text-anchor=\"start\" x=\"712.5\" y=\"-308.6\" font-family=\"Times,serif\" font-size=\"8.00\" fill=\"red\">noise_z_v</text>\n",
       "<text text-anchor=\"start\" x=\"743.09\" y=\"-274.82\" font-family=\"Times,serif\" font-size=\"8.00\">1 out </text>\n",
       "<text text-anchor=\"start\" x=\"662.6\" y=\"-326.47\" font-family=\"Times,serif\" font-size=\"8.00\">3 v </text>\n",
       "</g>\n",
       "</g>\n",
       "</svg>\n"
      ]
     },
     "metadata": {},
     "output_type": "display_data"
    }
   ],
   "source": [
    "fg = FactorGraph()\n",
    "z_prev_m = Variable(id=:z_prev_m); placeholder(z_prev_m, :z_prev_m, dims=(2,))\n",
    "z_prev_v = Variable(id=:z_prev_v); placeholder(z_prev_v, :z_prev_v, dims=(2,2))\n",
    "bu = Variable(id=:bu); placeholder(bu, :bu, dims=(2,))\n",
    "\n",
    "@RV z_prev ~ GaussianMeanVariance(z_prev_m, z_prev_v, id=:z_prev) # p(z_prev)\n",
    "@RV noise_z ~ GaussianMeanVariance(constant(zeros(2), id=:noise_z_m), constant(Σz, id=:noise_z_v)) # process noise\n",
    "@RV z = constant(A, id=:A) * z_prev + bu + noise_z; z.id = :z # p(z|z_prev) (state transition model)\n",
    "@RV x ~ GaussianMeanVariance(z, constant(Σx, id=:Σx)) # p(x|z) (observation model)\n",
    "placeholder(x, :x, dims=(2,));\n",
    "ForneyLab.draw(fg)"
   ]
  },
  {
   "cell_type": "markdown",
   "metadata": {
    "slideshow": {
     "slide_type": "slide"
    }
   },
   "source": [
    "Now that we've built the factor graph, we can perform Kalman filtering by inserting measurement data into the factor graph and performing message passing."
   ]
  },
  {
   "cell_type": "code",
   "execution_count": 5,
   "metadata": {
    "slideshow": {
     "slide_type": "slide"
    }
   },
   "outputs": [
    {
     "data": {
      "image/png": "[encoded data removed]",
      "text/plain": [
       "Figure(PyObject <Figure size 1500x500 with 1 Axes>)"
      ]
     },
     "metadata": {},
     "output_type": "display_data"
    },
    {
     "name": "stdout",
     "output_type": "stream",
     "text": [
      "Prediction: 𝒩(m=[43.14, 4.50], v=[[1.30, 0.39][0.39, 0.34]])\n",
      "\n",
      "Measurement: 𝒩(m=[41.30, 5.49], v=[[1.00, 0.00][0.00, 2.00]])\n",
      "\n",
      "Posterior: 𝒩(m=[42.20, 4.35], v=[[0.55, 0.15][0.15, 0.24]])\n",
      "\n"
     ]
    }
   ],
   "source": [
    "include(\"scripts/cart_tracking_helpers.jl\")\n",
    "algo = messagePassingAlgorithm(z)\n",
    "source_code = algorithmSourceCode(algo)\n",
    "eval(Meta.parse(source_code))\n",
    "marginals = Dict()\n",
    "messages = Array{Message}(undef,6)\n",
    "z_prev_m_0 = noisy_x[1]  \n",
    "z_prev_v_0 = A * (1e8*Diagonal(I,2) * A') + Σz \n",
    "for t=2:n\n",
    "    data = Dict(:x => noisy_x[t], :bu => b*u[t],:z_prev_m => z_prev_m_0, :z_prev_v => z_prev_v_0)\n",
    "    step!(data, marginals, messages) # perform msg passing (single timestep)\n",
    "    # Posterior of z becomes prior of z in the next timestep:\n",
    "    z_prev_m_0 = ForneyLab.unsafeMean(marginals[:z])\n",
    "    z_prev_v_0 = ForneyLab.unsafeCov(marginals[:z])\n",
    "end\n",
    "# Collect prediction p(z[n]|z[n-1]), measurement p(z[n]|x[n]), corrected prediction p(z[n]|z[n-1],x[n])\n",
    "prediction      = messages[5].dist # the message index is found by manual inspection of the schedule\n",
    "measurement     = messages[6].dist\n",
    "corr_prediction = convert(ProbabilityDistribution{Multivariate, GaussianMeanVariance}, marginals[:z])\n",
    "println(\"Prediction: \",prediction)\n",
    "println(\"Measurement: \",measurement)\n",
    "println(\"Posterior: \", corr_prediction)\n",
    "\n",
    "# Make a fancy plot of the prediction, noisy measurement, and corrected prediction after n timesteps\n",
    "plotCartPrediction(prediction, measurement, corr_prediction);"
   ]
  },
  {
   "cell_type": "markdown",
   "metadata": {
    "slideshow": {
     "slide_type": "slide"
    }
   },
   "source": [
    "- Note that both the analytical Kalman filtering solution and the message passing solution lead to the same results. The advantage of message passing-based inference with ForneyLab is that we did not need to derive any inference equations. ForneyLab took care of all that. "
   ]
  },
  {
   "cell_type": "markdown",
   "metadata": {
    "slideshow": {
     "slide_type": "slide"
    }
   },
   "source": [
    "### Recap Dynamical Models \n",
    "\n",
    "- Dynamical systems do not obey the sample-by-sample independence assumption, but still can be specified, and state and parameter estimation equations can be solved by similar tools as for static models."
   ]
  },
  {
   "cell_type": "markdown",
   "metadata": {
    "slideshow": {
     "slide_type": "slide"
    }
   },
   "source": [
    "- Two of the more famous and powerful models with latent states include the hidden Markov model (with discrete states) and the Linear Gaussian dynamical system (with continuous states)."
   ]
  },
  {
   "cell_type": "markdown",
   "metadata": {
    "slideshow": {
     "slide_type": "slide"
    }
   },
   "source": [
    "- For the LGDS, the Kalman filter is a well-known recursive state estimation procedure. The Kalman filter can be derived through Bayesian update rules on Gaussian distributions. "
   ]
  },
  {
   "cell_type": "markdown",
   "metadata": {
    "slideshow": {
     "slide_type": "fragment"
    }
   },
   "source": [
    "- If anything changes in the model, e.g., the state noise is not Gaussian, then you have to re-derive the inference equations again from scratch and it may not lead to an analytically pleasing answer. "
   ]
  },
  {
   "cell_type": "markdown",
   "metadata": {
    "slideshow": {
     "slide_type": "fragment"
    }
   },
   "source": [
    "- $\\Rightarrow$ Generally, we will want to automate the inference processes. As we discussed, message passing in a factor graph is a visually appealing method to automate inference processes. We showed how Kalman filtering emerged naturally by automated message passing. "
   ]
  },
  {
   "cell_type": "markdown",
   "metadata": {
    "slideshow": {
     "slide_type": "slide"
    }
   },
   "source": [
    "## <center> OPTIONAL SLIDES</center>"
   ]
  },
  {
   "cell_type": "markdown",
   "metadata": {
    "slideshow": {
     "slide_type": "subslide"
    }
   },
   "source": [
    "### <a id='kalman-proof'>Proof of Kalman filtering equations including evidence updating</a>\n",
    "\n",
    "- Now let's proof the Kalman filtering equations including evidence updating by probabilistic calculus:\n",
    "$$\\begin{align*}\n",
    "\\overbrace{p(z_t\\,|\\,x^t)}^{\\text{posterior}} &= p(z_t\\,|\\,x_t,x^{t-1}) \\\\\n",
    " &= \\frac{p(x_t,z_t\\,|\\,x^{t-1})}{p(x_t\\,|\\,x^{t-1})} \\\\\n",
    "  &= \\frac{p(x_t\\,|\\,z_t) \\,p(z_t\\,|\\,x^{t-1})}{p(x_t\\,|\\,x^{t-1})} \\\\\n",
    "    &= \\frac{p(x_t\\,|\\,z_t) \\, \\sum_{z_{t-1}} p(z_t,z_{t-1}\\,|\\,x^{t-1}) }{p(x_t\\,|\\,x^{t-1})} \\\\\n",
    "        &= \\frac{p(x_t\\,|\\,z_t) \\, \\sum_{z_{t-1}} p(z_t\\,|\\,z_{t-1}) \\, p(z_{t-1}\\,|\\,x^{t-1})}{p(x_t\\,|\\,x^{t-1})} \\\\\n",
    "           &= \\frac{\\overbrace{\\mathcal{N}(x_t|c z_t, \\sigma_x^2)}^{\\text{likelihood}} \\, \\sum_{z_{t-1}} \\overbrace{\\mathcal{N}(z_t\\,|\\,a z_{t-1},\\sigma_z^2)}^{\\text{state transition}} \\, \\overbrace{\\mathcal{N}(z_{t-1} \\,|\\, \\mu_{t-1}, \\sigma_{t-1}^2) }^{\\text{prior}} }{\\underbrace{p(x_t\\,|\\,x^{t-1})}_{\\text{evidence}}}\n",
    "\\end{align*}$$\n",
    " \n",
    "- The posterior  $p(z_t\\,|\\,x^t)$ is proportional to the numerator, which by making use of the renormalization equality \n",
    "$$\\begin{align}\n",
    "c \\cdot \\mathcal{N}(x\\,|\\,cz,\\sigma^2) = \\mathcal{N}\\left(z \\,\\big|\\,\\frac{x}{c},\\left(\\frac{\\sigma}{c}\\right)^2\\right) \\tag{renormalization}\\,,\n",
    "\\end{align}$$\n",
    "can be evaluated with Gaussian multiplication rules:\n",
    "\n",
    "$$\\begin{align*} \n",
    "\\mathcal{N}(x_t|c z_t, &\\sigma_x^2) \\, \\sum_{z_{t-1}} \\underbrace{\\mathcal{N}(z_t\\,|\\,a z_{t-1},\\sigma_z^2)}_{\\text{use renormalization}} \\mathcal{N}(z_{t-1} \\,|\\, \\mu_{t-1}, \\sigma_{t-1}^2) \\\\\n",
    "&= \\mathcal{N}(x_t|c z_t, \\sigma_x^2) \\, \\sum_{z_{t-1}} \\frac{1}{a}\\underbrace{\\mathcal{N}\\left(z_{t-1}\\bigm|  \\frac{z_t}{a},\\left(\\frac{\\sigma_z}{a}\\right)^2 \\right) \\mathcal{N}(z_{t-1} \\,|\\, \\mu_{t-1}, \\sigma_{t-1}^2)}_{\\text{use Gaussian multiplication formula SRG-6}}  \\\\\n",
    "&= \\frac{1}{a} \\mathcal{N}(x_t|c z_t, \\sigma_x^2) \\, \\sum_{z_{t-1}} \\underbrace{\\mathcal{N}\\left(\\mu_{t-1}\\bigm|  \\frac{z_t}{a},\\left(\\frac{\\sigma_z}{a}\\right)^2 + \\sigma_{t-1}^2 \\right)}_{\\text{not a function of }z_{t-1}} \\underbrace{\\mathcal{N}(z_{t-1} \\,|\\, \\cdot, \\cdot)}_{\\text{sums to }1} \\\\\n",
    "&= \\frac{1}{a} \\underbrace{\\mathcal{N}(x_t|c z_t, \\sigma_x^2)}_{\\text{use renormalization rule}} \\, \\underbrace{\\mathcal{N}\\left(\\mu_{t-1}\\bigm|  \\frac{z_t}{a},\\left(\\frac{\\sigma_z}{a}\\right)^2 + \\sigma_{t-1}^2 \\right)}_{\\text{use renormalization rule}} \\\\\n",
    "&= \\frac{1}{c} \\underbrace{\\mathcal{N}\\left(z_t \\bigm|  \\frac{x_t}{c}, \\left( \\frac{\\sigma_x}{c}\\right)^2 \\right) \\mathcal{N}\\left(z_t\\, \\bigm|\\,a \\mu_{t-1},\\sigma_z^2 + \\left(a \\sigma_{t-1}\\right)^2 \\right)}_{\\text{use SRG-6 again}} \\\\\n",
    "&= \\underbrace{\\frac{1}{c} \\mathcal{N}\\left( \\frac{x_t}{c} \\bigm| a \\mu_{t-1}, \\left( \\frac{\\sigma_x}{c}\\right)^2+ \\sigma_z^2 + \\left(a \\sigma_{t-1}\\right)^2\\right)}_{\\text{use renormalization}} \\, \\mathcal{N}\\left( z_t \\,|\\, \\mu_t, \\sigma_t^2\\right)\\\\\n",
    "  &= \\underbrace{\\mathcal{N}\\left(x_t \\,|\\, ca \\mu_{t-1}, \\sigma_x^2 + c^2(\\sigma_z^2+a^2\\sigma_{t-1}^2) \\right)}_{\\text{evidence } p(x_t|x^{t-1})} \\underbrace{\\mathcal{N}\\left( z_t \\,|\\, \\mu_t, \\sigma_t^2\\right)}_{\\text{posterior }p(z_t|x^t) }\n",
    "\\end{align*}$$\n",
    "with\n",
    "$$\\begin{align*}\n",
    "  \\rho_t^2 &= a^2 \\sigma_{t-1}^2 + \\sigma_z^2 \\tag{predicted variance}\\\\\n",
    "  K_t &= \\frac{c \\rho_t^2}{c^2 \\rho_t^2 + \\sigma_x^2} \\tag{Kalman gain} \\\\\n",
    "  \\mu_t &= \\underbrace{a \\mu_{t-1}}_{\\text{prior prediction}} + K_t \\cdot \\underbrace{\\left( x_t - c a \\mu_{t-1}\\right)}_{\\text{prediction error}} \\tag{posterior mean}\\\\\n",
    "  \\sigma_t^2 &= \\left( 1 - c\\cdot K_t \\right) \\rho_t^2 \\tag{posterior variance}\n",
    "\\end{align*}$$\n"
   ]
  },
  {
   "cell_type": "markdown",
   "metadata": {
    "slideshow": {
     "slide_type": "slide"
    }
   },
   "source": [
    "### Extensions of Generative Gaussian Models\n",
    "\n",
    "- Using the methods of the previous lessons, it is possible to create your own new models based on stacking Gaussian and categorical distributions in new ways: \n",
    "\n",
    "<img src=\"./figures/fig-generative-Gaussian-models.png\" width=\"600px\">"
   ]
  },
  {
   "cell_type": "code",
   "execution_count": 5,
   "metadata": {
    "slideshow": {
     "slide_type": "skip"
    }
   },
   "outputs": [
    {
     "data": {
      "text/html": [
       "<!--\n",
       "This HTML file contains custom styles and some javascript.\n",
       "Include it a Jupyter notebook for improved rendering.\n",
       "-->\n",
       "\n",
       "<!-- Fonts -->\n",
       "<link href='http://fonts.googleapis.com/css?family=Alegreya+Sans:100,300,400,500,700,800,900,100italic,300italic,400italic,500italic,700italic,800italic,900italic' rel='stylesheet' type='text/css'>\n",
       "<link href='http://fonts.googleapis.com/css?family=Arvo:400,700,400italic' rel='stylesheet' type='text/css'>\n",
       "<link href='http://fonts.googleapis.com/css?family=PT+Mono' rel='stylesheet' type='text/css'>\n",
       "<link href='http://fonts.googleapis.com/css?family=Shadows+Into+Light' rel='stylesheet' type='text/css'>\n",
       "<link href='http://fonts.googleapis.com/css?family=Nixie+One' rel='stylesheet' type='text/css'>\n",
       "\n",
       "<!-- Custom style -->\n",
       "<style>\n",
       "\n",
       "@font-face {\n",
       "    font-family: \"Computer Modern\";\n",
       "    src: url('http://mirrors.ctan.org/fonts/cm-unicode/fonts/otf/cmunss.otf');\n",
       "}\n",
       "\n",
       "#notebook_panel { /* main background */\n",
       "    background: rgb(245,245,245);\n",
       "}\n",
       "\n",
       "div.container {\n",
       "    min-width: 960px;\n",
       "}\n",
       "\n",
       "div #notebook { /* centre the content */\n",
       "    background: #fff; /* white background for content */\n",
       "    margin: auto;\n",
       "    padding-left: 0em;\n",
       "}\n",
       "\n",
       "#notebook li { /* More space between bullet points */\n",
       "    margin-top:0.8em;\n",
       "}\n",
       "\n",
       "/* draw border around running cells */\n",
       "div.cell.border-box-sizing.code_cell.running {\n",
       "    border: 1px solid #111;\n",
       "}\n",
       "\n",
       "/* Put a solid color box around each cell and its output, visually linking them*/\n",
       "div.cell.code_cell {\n",
       "    background-color: rgb(256,256,256);\n",
       "    border-radius: 0px;\n",
       "    padding: 0.5em;\n",
       "    margin-left:1em;\n",
       "    margin-top: 1em;\n",
       "}\n",
       "\n",
       "div.text_cell_render{\n",
       "    font-family: 'Alegreya Sans' sans-serif;\n",
       "    line-height: 140%;\n",
       "    font-size: 125%;\n",
       "    font-weight: 400;\n",
       "    width:800px;\n",
       "    margin-left:auto;\n",
       "    margin-right:auto;\n",
       "}\n",
       "\n",
       "\n",
       "/* Formatting for header cells */\n",
       ".text_cell_render h1 {\n",
       "    font-family: 'Nixie One', serif;\n",
       "    font-style:regular;\n",
       "    font-weight: 400;\n",
       "    font-size: 45pt;\n",
       "    line-height: 100%;\n",
       "    color: rgb(0,51,102);\n",
       "    margin-bottom: 0.5em;\n",
       "    margin-top: 0.5em;\n",
       "    display: block;\n",
       "}\n",
       "\n",
       ".text_cell_render h2 {\n",
       "    font-family: 'Nixie One', serif;\n",
       "    font-weight: 400;\n",
       "    font-size: 30pt;\n",
       "    line-height: 100%;\n",
       "    color: rgb(0,51,102);\n",
       "    margin-bottom: 0.1em;\n",
       "    margin-top: 0.3em;\n",
       "    display: block;\n",
       "}\n",
       "\n",
       ".text_cell_render h3 {\n",
       "    font-family: 'Nixie One', serif;\n",
       "    margin-top:16px;\n",
       "    font-size: 22pt;\n",
       "    font-weight: 600;\n",
       "    margin-bottom: 3px;\n",
       "    font-style: regular;\n",
       "    color: rgb(102,102,0);\n",
       "}\n",
       "\n",
       ".text_cell_render h4 {    /*Use this for captions*/\n",
       "    font-family: 'Nixie One', serif;\n",
       "    font-size: 14pt;\n",
       "    text-align: center;\n",
       "    margin-top: 0em;\n",
       "    margin-bottom: 2em;\n",
       "    font-style: regular;\n",
       "}\n",
       "\n",
       ".text_cell_render h5 {  /*Use this for small titles*/\n",
       "    font-family: 'Nixie One', sans-serif;\n",
       "    font-weight: 400;\n",
       "    font-size: 16pt;\n",
       "    color: rgb(163,0,0);\n",
       "    font-style: italic;\n",
       "    margin-bottom: .1em;\n",
       "    margin-top: 0.8em;\n",
       "    display: block;\n",
       "}\n",
       "\n",
       ".text_cell_render h6 { /*use this for copyright note*/\n",
       "    font-family: 'PT Mono', sans-serif;\n",
       "    font-weight: 300;\n",
       "    font-size: 9pt;\n",
       "    line-height: 100%;\n",
       "    color: grey;\n",
       "    margin-bottom: 1px;\n",
       "    margin-top: 1px;\n",
       "}\n",
       "\n",
       ".CodeMirror{\n",
       "    font-family: \"PT Mono\";\n",
       "    font-size: 90%;\n",
       "}\n",
       "\n",
       ".boxed { /* draw a border around a piece of text */\n",
       "  border: 1px solid blue ;\n",
       "}\n",
       "\n",
       "h4#CODE-EXAMPLE,\n",
       "h4#END-OF-CODE-EXAMPLE {\n",
       "    margin: 10px 0;\n",
       "    padding: 10px;\n",
       "    background-color: #d0f9ca !important;\n",
       "    border-top: #849f81 1px solid;\n",
       "    border-bottom: #849f81 1px solid;\n",
       "}\n",
       "\n",
       ".emphasis {\n",
       "    color: red;\n",
       "}\n",
       "\n",
       ".exercise {\n",
       "    color: green;\n",
       "}\n",
       "\n",
       ".proof {\n",
       "    color: blue;\n",
       "}\n",
       "\n",
       "code {\n",
       "  padding: 2px 4px !important;\n",
       "  font-size: 90% !important;\n",
       "  color: #222 !important;\n",
       "  background-color: #efefef !important;\n",
       "  border-radius: 2px !important;\n",
       "}\n",
       "\n",
       "/* This removes the actual style cells from the notebooks, but no in print mode\n",
       "   as they will be removed through some other method */\n",
       "@media not print {\n",
       "  .cell:nth-last-child(-n+2) {\n",
       "    display: none;\n",
       "  }\n",
       "}\n",
       "\n",
       "footer.hidden-print {\n",
       "    display: none !important;\n",
       "}\n",
       "    \n",
       "</style>\n",
       "\n",
       "<!-- MathJax styling -->\n",
       "<script>\n",
       "    MathJax.Hub.Config({\n",
       "                        TeX: {\n",
       "                           extensions: [\"AMSmath.js\"],\n",
       "                           equationNumbers: { autoNumber: \"AMS\", useLabelIds: true}\n",
       "                           },\n",
       "                tex2jax: {\n",
       "                    inlineMath: [ ['$','$'], [\"\\\\(\",\"\\\\)\"] ],\n",
       "                    displayMath: [ ['$$','$$'], [\"\\\\[\",\"\\\\]\"] ]\n",
       "                },\n",
       "                displayAlign: 'center', // Change this to 'center' to center equations.\n",
       "                \"HTML-CSS\": {\n",
       "                    styles: {'.MathJax_Display': {\"margin\": 4}}\n",
       "                }\n",
       "        });\n",
       "</script>\n"
      ]
     },
     "metadata": {},
     "output_type": "display_data"
    }
   ],
   "source": [
    "open(\"../../styles/aipstyle.html\") do f display(\"text/html\", read(f, String)) end"
   ]
  },
  {
   "cell_type": "code",
   "execution_count": null,
   "metadata": {},
   "outputs": [],
   "source": []
  }
 ],
 "metadata": {
  "@webio": {
   "lastCommId": null,
   "lastKernelId": null
  },
  "celltoolbar": "Slideshow",
  "kernelspec": {
   "display_name": "Julia 1.5.2",
   "language": "julia",
   "name": "julia-1.5"
  },
  "language_info": {
   "file_extension": ".jl",
   "mimetype": "application/julia",
   "name": "julia",
   "version": "1.5.2"
  }
 },
 "nbformat": 4,
 "nbformat_minor": 4
}
