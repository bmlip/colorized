{
 "cells": [
  {
   "cell_type": "markdown",
   "metadata": {
    "slideshow": {
     "slide_type": "slide"
    }
   },
   "source": [
    "Working with Gaussians\n",
    "======="
   ]
  },
  {
   "cell_type": "markdown",
   "metadata": {
    "slideshow": {
     "slide_type": "slide"
    }
   },
   "source": [
    "### Preliminaries\n",
    "\n",
    "- Goal \n",
    "  - Review of information processing with Gaussian distributions in linear systems\n",
    "- Materials        \n",
    "  - Mandatory\n",
    "    - These lecture notes\n",
    "  - Optional\n",
    "    - Bishop pp. 85-93       \n",
    "    - [MacKay - 2006 - The Humble Gaussian Distribution](./files/Mackay-2006-The-humble-Gaussian-distribution.pdf) (highly recommended!)\n",
    "    - [Ariel Caticha - 2012 - Entropic Inference and the Foundations of Physics](https://github.com/bertdv/BMLIP/blob/master/lessons/notebooks/files/Caticha-2012-Entropic-Inference-and-the-Foundations-of-Physics.pdf), pp.30-34, section 2.8, the Gaussian distribution\n"
   ]
  },
  {
   "cell_type": "markdown",
   "metadata": {
    "slideshow": {
     "slide_type": "slide"
    }
   },
   "source": [
    "### Challenge: Recursive Bayesian Estimation\n",
    "\n",
    "- Consider a signal\n",
    "$$\n",
    "  x_t = \\theta + \\epsilon_t, \\quad \\text{with } \\epsilon_t \\sim \\mathcal{N}(0,\\sigma^2)\n",
    "$$\n",
    "where $D_t= \\left\\{x_1,\\ldots,x_t\\right\\}$ is observed _sequentially_ (over time).\n",
    "\n",
    "- **Problem**: Derive a recursive algorithm for $p(\\theta|D_t)$, i.e., an update rule for (posterior) $p(\\theta|D_t)$ based on (prior) $p(\\theta|D_{t-1})$ and a new observation $x_t$.\n",
    " "
   ]
  },
  {
   "cell_type": "markdown",
   "metadata": {
    "slideshow": {
     "slide_type": "fragment"
    }
   },
   "source": [
    "- **Solution**: to be derived later in this lesson."
   ]
  },
  {
   "cell_type": "markdown",
   "metadata": {
    "slideshow": {
     "slide_type": "slide"
    }
   },
   "source": [
    "### The Gaussian Distribution \n",
    "\n",
    "- Consider a random (vector) variable $x \\in \\mathbb{R}^M$ that is \"normally\" (i.e., Gaussian) distributed. The _moment_ parameterization of the Gaussian distribution is completely specified by its _mean_ $\\mu$ and _variance_ $\\Sigma$ and given by\n",
    "$$\n",
    "p(x | \\mu, \\Sigma) = \\mathcal{N}(x|\\mu,\\Sigma) \\triangleq |2 \\pi \\Sigma |^{-\\frac{1}{2}} \\,\\exp\\left\\{-\\frac{1}{2}(x-\\mu)^T \\Sigma^{-1} (x-\\mu) \\right\\}\\,.\n",
    "$$\n",
    "\n",
    "- Alternatively, the _canonical_ (a.k.a. _natural_  or _information_ ) parameterization of the Gaussian distribution is given by\n",
    "$$\\begin{equation*}\n",
    "p(x | \\eta, \\Lambda) = \\mathcal{N}_c(x|\\eta,\\Lambda)  = \\exp\\left\\{ a + \\eta^T x - \\frac{1}{2}x^T \\Lambda x \\right\\}\\,.\n",
    "\\end{equation*}$$\n",
    "  - $a = -\\frac{1}{2} \\left( M \\log(2 \\pi) - \\log |\\Lambda| + \\eta^T \\Lambda \\eta\\right)$ is the normalizing constant that ensures that $\\int p(x)\\mathrm{d}x = 1$.\n",
    "  - $\\Lambda = \\Sigma^{-1}$ is called the *precision matrix*.\n",
    "  - $\\eta = \\Sigma^{-1} \\mu$ is the _natural_ mean or for clarity often called the *precision-weighted mean*."
   ]
  },
  {
   "cell_type": "markdown",
   "metadata": {
    "slideshow": {
     "slide_type": "slide"
    }
   },
   "source": [
    "### Why the Gaussian?\n",
    "\n",
    "- Why is the Gaussian distribution so ubiquitously used in science and engineering?\n",
    "\n",
    "<span style=color:red> INSERT MATERIALS from CATICHA and JAYNES</span>\n",
    "1. max entropy\n",
    "1. law of large numbers\n",
    "1. computational reasons"
   ]
  },
  {
   "cell_type": "markdown",
   "metadata": {
    "slideshow": {
     "slide_type": "fragment"
    }
   },
   "source": [
    "###  Transformations and Sums of Gaussian Variables\n",
    "\n",
    "- A **linear transformation** $z=Ax+b$ of a Gaussian variable $\\mathcal{N}(x|\\mu,\\Sigma)$ is Gaussian distributed as\n",
    "\n",
    "$$\n",
    "p(z) = \\mathcal{N} \\left(z \\,|\\, A\\mu+b, A\\Sigma A^T \\right) \\tag{SRG-4a}\n",
    "$$"
   ]
  },
  {
   "cell_type": "markdown",
   "metadata": {
    "slideshow": {
     "slide_type": "fragment"
    }
   },
   "source": [
    "- The **sum of two independent Gaussian variables** is also Gaussian distributed. Specifically, if $x \\sim \\mathcal{N} \\left(x|\\mu_x, \\Sigma_x \\right)$ and $y \\sim \\mathcal{N} \\left(y|\\mu_y, \\Sigma_y \\right)$, then the PDF for $z=x+y$ is given by\n",
    "$$\\begin{align}\n",
    "p(z) &= \\mathcal{N}(x\\,|\\,\\mu_x,\\Sigma_x) \\ast \\mathcal{N}(y\\,|\\,\\mu_y,\\Sigma_y) \\notag\\\\\n",
    "  &= \\mathcal{N} \\left(z\\,|\\,\\mu_x+\\mu_y, \\Sigma_x +\\Sigma_y \\right) \\tag{SRG-8}\n",
    "\\end{align}$$\n",
    " \n",
    "  - The sum of two Gaussian _distributions_ is NOT a Gaussian distribution. Why not?"
   ]
  },
  {
   "cell_type": "markdown",
   "metadata": {
    "slideshow": {
     "slide_type": "slide"
    }
   },
   "source": [
    "### Example: Gaussian Signals in a Linear System\n",
    "\n",
    "<img src=\"./figures/fig-linear-system.png\" width=\"350px\">\n",
    "\n",
    "- Given independent variables\n",
    "$x \\sim \\mathcal{N}(\\mu_x,\\sigma_y^2)$ and $y \\sim \\mathcal{N}(\\mu_y,\\sigma_y^2)$, what is the PDF for $z = A\\cdot(x -y) + b$ ? (see Exercises)"
   ]
  },
  {
   "cell_type": "markdown",
   "metadata": {
    "slideshow": {
     "slide_type": "fragment"
    }
   },
   "source": [
    "- Think about the role of the Gaussian distribution for stochastic linear systems in relation to what sinusoidals mean for deterministic linear system analysis."
   ]
  },
  {
   "cell_type": "markdown",
   "metadata": {
    "slideshow": {
     "slide_type": "slide"
    }
   },
   "source": [
    "### Bayesian Inference for the Gaussian\n",
    "\n",
    "\n",
    "- Let's estimate a constant $\\theta$ from one 'noisy' measurement $x$ about that constant. \n",
    "\n",
    "- We assume the following measurement equations (the tilde $\\sim$ means: 'is distributed as'):\n",
    "$$\\begin{align*}\n",
    "x &= \\theta + \\epsilon \\\\\n",
    "\\epsilon &\\sim \\mathcal{N}(0,\\sigma^2)\n",
    "\\end{align*}$$\n",
    "\n",
    "- Also, let's assume a Gaussian prior for $\\theta$\n",
    "$$\\begin{align*}\n",
    "\\theta &\\sim \\mathcal{N}(\\mu_0,\\sigma_0^2) \\\\\n",
    "\\end{align*}$$"
   ]
  },
  {
   "cell_type": "markdown",
   "metadata": {
    "slideshow": {
     "slide_type": "subslide"
    }
   },
   "source": [
    "\n",
    "##### Model specification\n",
    " \n",
    "- Note that you can rewrite these specifications in probabilistic notation as follows:\n",
    "\n",
    "$$\\begin{align}\n",
    "    p(x|\\theta) &=  \\mathcal{N}(x|\\theta,\\sigma^2) \\tag{likelihood}\\\\\n",
    "    p(\\theta) &=\\mathcal{N}(\\theta|\\mu_0,\\sigma_0^2) \\tag{prior}\n",
    "\\end{align}$$"
   ]
  },
  {
   "cell_type": "markdown",
   "metadata": {
    "slideshow": {
     "slide_type": "fragment"
    }
   },
   "source": [
    "##### Inference\n",
    "\n",
    "- For simplicity, we assume that the variance $\\sigma^2$ is given and will proceed to derive a Bayesian posterior for the mean $\\theta$. The case for Bayesian inference for $\\sigma^2$ with a given mean is [discussed later](#inference-for-precision).\n",
    "\n",
    "- Let's do Bayes rule for the posterior PDF $p(\\theta|x)$. \n",
    "$$\\begin{align*}\n",
    "p(\\theta|x)  &= \\frac{p(x|\\theta) p(\\theta)}{p(x)} \\propto p(x|\\theta) p(\\theta) \\notag \\\\\n",
    "    &= \\mathcal{N}(x|\\theta,\\sigma^2) \\mathcal{N}(\\theta|\\mu_0,\\sigma_0^2)   \\notag \\\\\n",
    "    &\\propto \\exp \\left\\{   -\\frac{(x-\\theta)^2}{2\\sigma^2} - \\frac{(\\theta-\\mu_0)^2}{2\\sigma_0^2} \\right\\} \\notag \\\\\n",
    "    &\\propto \\exp \\left\\{ \\theta^2 \\cdot \\left( -\\frac{1}{2 \\sigma_0^2} - \\frac{1}{2\\sigma^2}  \\right)  + \\theta \\cdot  \\left( \\frac{\\mu_0}{\\sigma_0^2} + \\frac{x}{\\sigma^2}\\right)   \\right\\} \\notag \\\\\n",
    "    &= \\exp\\left\\{ -\\frac{\\sigma_0^2 + \\sigma^2}{2 \\sigma_0^2 \\sigma^2} \\left( \\theta - \\frac{\\sigma_0^2 x +  \\sigma^2 \\mu_0}{\\sigma^2 + \\sigma_0^2}\\right)^2  \\right\\} \n",
    "\\end{align*}$$\n",
    "which we recognize as a Gaussian distribution w.r.t. $\\theta$.  \n",
    "- (Just as an aside,) this computational 'trick' for multiplying two Gaussians is called **completing the square**. The procedure makes use of the equality $$ax^2+bx+c_1 = a\\left(x+\\frac{b}{2a}\\right)^2+c_2$$"
   ]
  },
  {
   "cell_type": "markdown",
   "metadata": {
    "slideshow": {
     "slide_type": "fragment"
    }
   },
   "source": [
    "  \n",
    "- In particular, it follows that the posterior for $\\theta$ is\n",
    "$$\\begin{equation*}\n",
    "    p(\\theta|x) = \\mathcal{N} (\\theta |\\, \\mu_1, \\sigma_1^2)\n",
    "\\end{equation*}$$\n",
    "where\n",
    "$$\\begin{align*}\n",
    "  \\frac{1}{\\sigma_1^2}  &= \\frac{\\sigma_0^2 + \\sigma^2}{\\sigma^2 \\sigma_0^2} = \\frac{1}{\\sigma_0^2} + \\frac{1}{\\sigma^2} \\quad &&\\text{(precisions add)} \\\\\n",
    "  \\mu_1   &= \\frac{\\sigma_0^2 x +  \\sigma^2 \\mu_0}{\\sigma^2 + \\sigma_0^2} = \\sigma_1^2 \\, \\left(  \\frac{1}{\\sigma_0^2} \\mu_0 + \\frac{1}{\\sigma^2} x \\right)  \\quad &&\\text{(precision-weighted means add)}\n",
    "\\end{align*}$$"
   ]
  },
  {
   "cell_type": "markdown",
   "metadata": {
    "slideshow": {
     "slide_type": "slide"
    }
   },
   "source": [
    "### (Multivariate) Gaussian Multiplication\n",
    "\n",
    "- So, multiplication of two Gaussian distributions yields another (unnormalized) Gaussian with\n",
    "  - posterior precision equals **sum of prior precisions**\n",
    "  - posterior precision-weighted mean equals **sum of prior precision-weighted means**"
   ]
  },
  {
   "cell_type": "markdown",
   "metadata": {
    "slideshow": {
     "slide_type": "fragment"
    }
   },
   "source": [
    "- As we just saw, great application to Bayesian inference!\n",
    "\n",
    "$$\\begin{equation*}\n",
    "\\underbrace{\\text{Gaussian}}_{\\text{posterior}}\n",
    " \\propto \\underbrace{\\text{Gaussian}}_{\\text{likelihood}} \\times \\underbrace{\\text{Gaussian}}_{\\text{prior}}\n",
    "\\end{equation*}$$"
   ]
  },
  {
   "cell_type": "markdown",
   "metadata": {
    "slideshow": {
     "slide_type": "fragment"
    }
   },
   "source": [
    "- In general, the multiplication of two multi-variate Gaussians yields an (unnormalized) Gaussian:\n",
    "$$\\begin{equation*}\n",
    "\\boxed{\\mathcal{N}(x|\\mu_a,\\Sigma_a) \\cdot \\mathcal{N}(x|\\mu_b,\\Sigma_b) = \\alpha \\cdot \\mathcal{N}(x|\\mu_c,\\Sigma_c)} \\tag{SRG-6}\n",
    "\\end{equation*}$$\n",
    "where\n",
    "$$\\begin{align*}\n",
    "\\Sigma_c^{-1} &= \\Sigma_a^{-1} + \\Sigma_b^{-1} \\\\\n",
    "\\Sigma_c^{-1} \\mu_c &= \\Sigma_a^{-1}\\mu_a + \\Sigma_b^{-1}\\mu_b\n",
    "\\end{align*}$$\n",
    "and a (Gaussian!) normalization constant $\\alpha = \\mathcal{N}(\\mu_a|\\, \\mu_b, \\Sigma_a + \\Sigma_b)$.\n",
    "\n",
    "- $\\Rightarrow$ Note that Bayesian inference is trivial in the _canonical_ parameterization of the Gaussian, where we would get\n",
    "$$\\begin{align*}\n",
    " \\Lambda_c &= \\Lambda_a + \\Lambda_b  \\quad &&\\text{(precisions add)}\\\\\n",
    " \\eta_c &= \\eta_a + \\eta_b \\quad &&\\text{(precision-weighted means add)}\n",
    "\\end{align*}$$\n"
   ]
  },
  {
   "cell_type": "markdown",
   "metadata": {
    "slideshow": {
     "slide_type": "slide"
    }
   },
   "source": [
    "### Bayesian Inference with multiple Observations\n",
    "\n",
    "- Now consider that we measure a data set $D = \\{x_1, x_2, \\ldots, x_N\\}$, with measurements\n",
    "  $$\\begin{align*}\n",
    "x_n &= \\theta + \\epsilon_n \\\\\n",
    "\\epsilon_n &\\sim \\mathcal{N}(0,\\sigma^2)\n",
    "\\end{align*}$$\n",
    "and the same prior for $\\theta$:\n",
    "$$\\begin{align*}\n",
    "\\theta &\\sim \\mathcal{N}(\\mu_0,\\sigma_0^2) \\\\\n",
    "\\end{align*}$$\n",
    "\n",
    "- Let's derive a distribution for the next sample $x_{N+1}$. "
   ]
  },
  {
   "cell_type": "markdown",
   "metadata": {
    "slideshow": {
     "slide_type": "fragment"
    }
   },
   "source": [
    "##### inference \n",
    "\n",
    "- Clearly, the posterior for $\\theta$ is now \n",
    "$$\\begin{align*}\n",
    "p(\\theta|D) \\propto  \\underbrace{\\mathcal{N}(\\theta|\\mu_0,\\sigma_0^2)}_{\\text{prior}} \\cdot \\underbrace{\\prod_{n=1}^N \\mathcal{N}(x_n|\\theta,\\sigma^2)}_{\\text{likelihood}}\n",
    "\\end{align*}$$\n",
    "which is a multiplication of $N+1$ Gaussians and is therefore also Gaussian distributed."
   ]
  },
  {
   "cell_type": "markdown",
   "metadata": {
    "slideshow": {
     "slide_type": "fragment"
    }
   },
   "source": [
    "- Using the property that precisions and precision-weighted means add when Gaussians are multiplied, we can immediately write the posterior $$p(\\theta|D) = \\mathcal{N} (\\theta |\\, \\mu_N, \\sigma_N^2)$$ as \n",
    "$$\\begin{align*}\n",
    "  \\frac{1}{\\sigma_N^2}  &= \\frac{1}{\\sigma_0^2} + \\sum_n  \\frac{1}{\\sigma^2} \\tag{B-2.142}\\\\\n",
    "  \\mu_N   &= \\sigma_N^2 \\, \\left( \\frac{1}{\\sigma_0^2} \\mu_0 + \\sum_n \\frac{1}{\\sigma^2} x_n  \\right) \\tag{B-2.141}\n",
    "\\end{align*}$$"
   ]
  },
  {
   "cell_type": "markdown",
   "metadata": {
    "slideshow": {
     "slide_type": "slide"
    }
   },
   "source": [
    "##### application: prediction of future sample\n",
    "\n",
    "- We now have a posterior for the model parameters. Let's write down what we know about the next sample $x_{N+1}$.\n",
    "\n",
    "\n",
    "$$\\begin{align*}\n",
    "p(x_{N+1}|D_N) &= \\int p(x_{N+1}|\\theta) p(\\theta|D_{N})\\mathrm{d}\\theta \\\\\n",
    "  &= \\int \\mathcal{N}(x_{N+1}|\\theta,\\sigma^2) \\mathcal{N}(\\theta|\\mu_N,\\sigma^2_N) \\mathrm{d}\\theta \\\\\n",
    "  &= \\mathcal{N}(x_{N+1}|\\mu_N, \\sigma^2_N +\\sigma^2 ) \\tag{use SRG-6}\n",
    "\\end{align*}$$\n",
    "\n",
    "- Uncertainty about $x_{N+1}$ comprises both uncertainty about the parameter ($\\sigma_N^2$) and observation noise $\\sigma^2$."
   ]
  },
  {
   "cell_type": "markdown",
   "metadata": {
    "slideshow": {
     "slide_type": "slide"
    }
   },
   "source": [
    "### Maximum Likelihood Estimation for the Gaussian\n",
    "\n",
    "- In order to determine the _maximum likelihood_ estimate of $\\theta$, we let $\\sigma_0^2 \\rightarrow \\infty$ (leads to uniform prior for $\\theta$), yielding $ \\frac{1}{\\sigma_N^2} = \\frac{N}{\\sigma^2}$ and consequently\n",
    "$$\\begin{align*}\n",
    "  \\mu_{\\text{ML}}  = \\left.\\mu_N\\right\\vert_{\\sigma_0^2 \\rightarrow \\infty} = \\sigma_N^2 \\, \\left(   \\frac{1}{\\sigma^2}\\sum_n  x_n  \\right) = \\frac{1}{N} \\sum_{n=1}^N x_n\n",
    "  \\end{align*}$$\n",
    "  "
   ]
  },
  {
   "cell_type": "markdown",
   "metadata": {
    "slideshow": {
     "slide_type": "fragment"
    }
   },
   "source": [
    "- As expected, having an expression for the maximum likelihood estimate, it is now possible to rewrite the (Bayesian) posterior mean for $\\theta$ as (exercise)\n",
    "$$\\begin{align*}\n",
    "  \\underbrace{\\mu_N}_{\\text{posterior}}   &= \\frac{\\sigma^2}{N} \\, \\left( \\frac{1}{\\sigma_0^2} \\mu_0 + \\sum_n \\frac{1}{\\sigma^2} x_n  \\right) \\\\\n",
    "  &= \\underbrace{\\mu_0}_{\\text{prior}} + \\underbrace{\\frac{N \\sigma_0^2}{N \\sigma_0^2 + \\sigma^2}\\cdot \\underbrace{\\left(\\mu_{\\text{ML}} - \\mu_0 \\right)}_{\\text{prediction error}}}_{\\text{correction}}\\tag{B-2.141}\n",
    "\\end{align*}$$\n",
    "\n",
    "- Hence, the posterior mean always lies somewhere between the prior mean $\\mu_0$ and the maximum likelihood estimate (the \"data\" mean) $\\mu_{\\text{ML}}$."
   ]
  },
  {
   "cell_type": "markdown",
   "metadata": {
    "slideshow": {
     "slide_type": "slide"
    }
   },
   "source": [
    "<h3 color=red; align=center> (Optional Slide) </h3>\n",
    "\n",
    "### <a id='inference-for-precision'>Inference for the Precision Parameter of the Gaussian</a>\n",
    "\n",
    "- Again, we consider an observed data set $D = \\{x_1, x_2, \\ldots, x_N\\}$ and try to explain these data by a Gaussian distribution.\n",
    "\n",
    "- We discussed earlier Bayesian inference for the mean with a given variance. Now we will derive a posterior for the variance if the mean is given. (Technically, we will do the derivation for a precision parameter $\\lambda = \\sigma^{-2}$, since the discussion is a bit more straightforward for the precision parameter).\n",
    "\n",
    "##### model specification\n",
    "- The likelihood for the precision parameter is \n",
    "$$\\begin{align*}\n",
    "p(D|\\lambda) &= \\prod_{n=1}^N \\mathcal{N}\\left(x_n \\,|\\, \\mu, \\lambda^{-1} \\right) \\\\\n",
    "  &\\propto \\lambda^{N/2} \\exp\\left\\{ -\\frac{\\lambda}{2}\\sum_{n=1}^N \\left(x_n - \\mu \\right)^2\\right\\} \\tag{B-2.145}\n",
    "\\end{align*}$$\n",
    "\n",
    "- The conjugate distribution for this function of $\\lambda$ is the [_Gamma_ distribution](https://en.wikipedia.org/wiki/Gamma_distribution), given by\n",
    "$$\n",
    "p(\\lambda\\,|\\,a,b) = \\frac{1}{\\Gamma(a)} b^{a} \\lambda^{a-1} \\exp\\left\\{ -b \\lambda\\right\\}\\,, \\tag{B-2.146}\n",
    "$$\n",
    "where $a>0$ and $b>0$ are known as the _shape_ and _rate_ parameters, respectively. \n",
    "\n",
    "- The mean and variance of the Gamma distribution evaluate to $\\mathrm{E}\\left( \\lambda\\right) = \\frac{a}{b}$ and $\\mathrm{var}\\left[\\lambda\\right] = \\frac{a}{b^2}$. \n",
    "\n",
    "##### inference\n",
    "\n",
    "- We will consider a prior $p(\\lambda) = \\mathrm{Gam}\\left( \\lambda\\,|\\,a_0, b_0\\right)$, which leads by Bayes rule to the posterior\n",
    "$$\\begin{align*}\n",
    "p(\\lambda\\,|\\,D) &\\propto \\underbrace{\\lambda^{N/2} \\exp\\left\\{ -\\frac{\\lambda}{2}\\sum_{n=1}^N \\left(x_n - \\mu \\right)^2\\right\\} }_{\\text{likelihood}} \\cdot \\underbrace{\\frac{1}{\\Gamma(a_0)} b_0^{a_0} \\lambda^{a_0-1} \\exp\\left\\{ -b_0 \\lambda\\right\\}}_{\\text{prior}} \\\\\n",
    "  &\\propto \\mathrm{Gam}\\left( \\lambda\\,|\\,a_N,b_N \\right) \n",
    "\\end{align*}$$\n",
    "with\n",
    "$$\\begin{align*}\n",
    "a_N &= a_0 + \\frac{N}{2} \\tag{B-2.150} \\\\\n",
    "b_N &= b_0 + \\frac{1}{2}\\sum_n \\left( x_n-\\mu\\right)^2 \\tag{B-2.151}\n",
    "\\end{align*}$$\n",
    "\n",
    "- Hence the **posterior is again a Gamma distribution**. By inspection of B-2.150 and B-2.151, we deduce that we can interpret $2a_0$ as the number of a priori (pseudo-)observations. \n",
    "\n",
    "- Since the most uninformative prior is given by $a_0=b_0 \\rightarrow 0$ (<span style=color:red>insert REF</span>), we can derive the maximum likelihood estimate for the precision as\n",
    "$$\n",
    "\\lambda_{\\text{ML}} = \\left.\\mathrm{E}\\left[ \\lambda\\right]\\right\\vert_{a_0=b_0\\rightarrow 0} = \\left. \\frac{a_N}{b_N}\\right\\vert_{a_0=b_0\\rightarrow 0} = \\frac{N}{\\sum_{n=1}^N \\left(x_n-\\mu \\right)^2}\n",
    "$$"
   ]
  },
  {
   "cell_type": "markdown",
   "metadata": {
    "slideshow": {
     "slide_type": "slide"
    }
   },
   "source": [
    "- In short, if we do density estimation with a Gaussian distribution $\\mathcal{N}\\left(x_n\\,|\\,\\mu,\\sigma^2 \\right)$ for an observed data set $D = \\{x_1, x_2, \\ldots, x_N\\}$, the maximum likelihood estimates for $\\mu$ and $\\sigma^2$ are given by\n",
    "$$\\begin{align*}\n",
    "\\mu_{\\text{ML}} &= \\frac{1}{N} \\sum_{n=1}^N x_n \\tag{B-2.121} \\\\\n",
    "\\sigma^2_{\\text{ML}} &= \\frac{1}{N} \\sum_{n=1}^N \\left(x_n - \\mu_{\\text{ML}} \\right)^2 \\tag{B-2.122}\n",
    "\\end{align*}$$\n",
    "\n",
    "- These estimates are also known as the _sample mean_ and _sample variance_ respectively. "
   ]
  },
  {
   "cell_type": "markdown",
   "metadata": {
    "slideshow": {
     "slide_type": "slide"
    }
   },
   "source": [
    "### CODE EXAMPLE\n",
    "\n",
    "Let's plot the exact product of two Gaussian PDFs as well as the normalized product according to the above derivation."
   ]
  },
  {
   "cell_type": "code",
   "execution_count": 1,
   "metadata": {
    "slideshow": {
     "slide_type": "subslide"
    }
   },
   "outputs": [
    {
     "data": {
      "image/png": "[encoded data removed]",
      "text/plain": [
       "Figure(PyObject <Figure size 640x480 with 1 Axes>)"
      ]
     },
     "metadata": {},
     "output_type": "display_data"
    }
   ],
   "source": [
    "using PyPlot, Distributions\n",
    "d1 = Normal(0, 1) # μ=0, σ^2=1\n",
    "d2 = Normal(3, 2) # μ=3, σ^2=4\n",
    "\n",
    "# Calculate the parameters of the product d1*d2\n",
    "s2_prod = (d1.σ^-2 + d2.σ^-2)^-1\n",
    "m_prod = s2_prod * ((d1.σ^-2)*d1.μ + (d2.σ^-2)*d2.μ)\n",
    "d_prod = Normal(m_prod, sqrt(s2_prod)) # Note that we neglect the normalization constant.\n",
    "\n",
    "# Plot stuff\n",
    "x = range(-4, stop=8, length=100)\n",
    "plot(x, pdf.(d1,x), \"k\")\n",
    "plot(x, pdf.(d2,x), \"b\")\n",
    "plot(x, pdf.(d1,x) .* pdf.(d2,x), \"r-\") # Plot the exact product\n",
    "plot(x, pdf.(d_prod,x), \"r:\")          # Plot the normalized Gaussian product\n",
    "legend([L\"\\mathcal{N}(0,1)\", \n",
    "        L\"\\mathcal{N}(3,4)\", \n",
    "        L\"\\mathcal{N}(0,1) \\mathcal{N}(3,4)\", \n",
    "        L\"Z^{-1} \\mathcal{N}(0,1) \\mathcal{N}(3,4)\"]);"
   ]
  },
  {
   "cell_type": "markdown",
   "metadata": {
    "slideshow": {
     "slide_type": "fragment"
    }
   },
   "source": [
    "The solid and dotted red curves are identical up to a scaling factor $Z$.\n"
   ]
  },
  {
   "cell_type": "markdown",
   "metadata": {
    "slideshow": {
     "slide_type": "slide"
    }
   },
   "source": [
    "### Conditioning and Marginalization of a Gaussian\n",
    "\n",
    "- Let $z = \\begin{bmatrix} x \\\\ y \\end{bmatrix}$ be jointly normal distributed as\n",
    "\n",
    "$$\\begin{align*}\n",
    "p(z) &= \\mathcal{N}(z | \\mu, \\Sigma) \n",
    "  =\\mathcal{N} \\left( \\begin{bmatrix} x \\\\ y \\end{bmatrix} \\left| \\begin{bmatrix} \\mu_x \\\\ \\mu_y \\end{bmatrix}, \n",
    "  \\begin{bmatrix} \\Sigma_x & \\Sigma_{xy} \\\\ \\Sigma_{yx} & \\Sigma_y \\end{bmatrix} \\right. \\right)\n",
    "\\end{align*}$$"
   ]
  },
  {
   "cell_type": "markdown",
   "metadata": {
    "slideshow": {
     "slide_type": "fragment"
    }
   },
   "source": [
    "- Since covariance matrices are by definition symmetric, it follows that $\\Sigma_x$ and $\\Sigma_y$ are symmetric and $\\Sigma_{xy} = \\Sigma_{yx}^T$."
   ]
  },
  {
   "cell_type": "markdown",
   "metadata": {
    "slideshow": {
     "slide_type": "fragment"
    }
   },
   "source": [
    "- Let's factorize $p(x,y)$ into $p(y|x)\\cdot p(x)$ through conditioning and marginalization."
   ]
  },
  {
   "cell_type": "markdown",
   "metadata": {
    "slideshow": {
     "slide_type": "fragment"
    }
   },
   "source": [
    "##### Conditioning\n",
    "\n",
    "$$\\begin{align*}\n",
    "p(y|x) &\\triangleq \\frac{p(x,y)}{p(x)} \\\\\n",
    " &= \\mathcal{N}\\left(y\\,|\\,\\mu_y + \\Sigma_{yx}\\Sigma_x^{-1}(x-\\mu_x),\\, \\Sigma_y - \\Sigma_{yx}\\Sigma_x^{-1}\\Sigma_{xy} \\right)\\\\\n",
    "\\end{align*}$$\n",
    "\n",
    "##### Marginalization\n",
    "\n",
    "$$\\begin{align*}\n",
    "p(x) &\\triangleq \\int p(x,y)\\,\\mathrm{d}y \\\\\n",
    " &= \\mathcal{N}\\left( x|\\mu_x, \\Sigma_x \\right)\n",
    "\\end{align*}$$\n",
    "\n",
    "\n",
    "- **proof**: in Bishop pp.87-89"
   ]
  },
  {
   "cell_type": "markdown",
   "metadata": {
    "slideshow": {
     "slide_type": "fragment"
    }
   },
   "source": [
    "- Useful for applications to Bayesian inference in jointly Gaussian systems."
   ]
  },
  {
   "cell_type": "markdown",
   "metadata": {
    "slideshow": {
     "slide_type": "slide"
    }
   },
   "source": [
    "#### CODE EXAMPLE\n",
    "\n",
    "Plot of the joint, marginal, and conditional distributions."
   ]
  },
  {
   "cell_type": "code",
   "execution_count": 2,
   "metadata": {
    "scrolled": false,
    "slideshow": {
     "slide_type": "subslide"
    }
   },
   "outputs": [
    {
     "data": {
      "image/png": "[encoded data removed]",
      "text/plain": [
       "Figure(PyObject <Figure size 640x480 with 3 Axes>)"
      ]
     },
     "metadata": {},
     "output_type": "display_data"
    }
   ],
   "source": [
    "using PyPlot, Distributions\n",
    "\n",
    "μ = [1.0; 2.0]\n",
    "Σ = [0.3 0.7;\n",
    "     0.7 2.0]\n",
    "joint = MvNormal(μ,Σ)\n",
    "marginal_x = Normal(μ[1], sqrt(Σ[1,1]))\n",
    "\n",
    "#Plot p(x,y)\n",
    "subplot(221)\n",
    "x_range = y_range = range(-2,stop=5,length=1000)\n",
    "joint_pdf = [ pdf(joint, [x_range[i];y_range[j]]) for  j=1:length(y_range), i=1:length(x_range)]\n",
    "imshow(joint_pdf, origin=\"lower\", extent=[x_range[1], x_range[end], y_range[1], y_range[end]])\n",
    "grid(); xlabel(\"x\"); ylabel(\"y\"); title(\"p(x,y)\"); tight_layout()\n",
    "\n",
    "# Plot p(x)\n",
    "subplot(222)\n",
    "plot(range(-2,stop=5,length=1000), pdf.(marginal_x, range(-2,stop=5,length=1000)))\n",
    "grid(); xlabel(\"x\"); ylabel(\"p(x)\"); title(\"Marginal distribution p(x)\"); tight_layout()\n",
    "\n",
    "# Plot p(y|x)\n",
    "x = 0.1\n",
    "conditional_y_m = μ[2]+Σ[2,1]*inv(Σ[1,1])*(x-μ[1])\n",
    "conditional_y_s2 = Σ[2,2] - Σ[2,1]*inv(Σ[1,1])*Σ[1,2]\n",
    "conditional_y = Normal(conditional_y_m, sqrt.(conditional_y_s2))\n",
    "subplot(223)\n",
    "plot(range(-2,stop=5,length=1000), pdf.(conditional_y, range(-2,stop=5,length=1000)))\n",
    "grid(); xlabel(\"y\"); ylabel(\"p(y|x)\"); title(\"Conditional distribution p(y|x)\"); tight_layout()"
   ]
  },
  {
   "cell_type": "markdown",
   "metadata": {
    "slideshow": {
     "slide_type": "fragment"
    }
   },
   "source": [
    "As is clear from the plots, the conditional distribution is a renormalized slice from the joint distribution.\n"
   ]
  },
  {
   "cell_type": "markdown",
   "metadata": {
    "slideshow": {
     "slide_type": "slide"
    }
   },
   "source": [
    "### Example: Conditioning of Gaussian\n",
    "\n",
    "- Consider (again) the system \n",
    "$$\\begin{align*}\n",
    "p(x\\,|\\,\\theta) &= \\mathcal{N}(x\\,|\\,\\theta,\\sigma^2)\n",
    "\\end{align*}$$\n",
    "with a Gaussian prior for $\\theta$:\n",
    "$$\n",
    "p(\\theta) = \\mathcal{N}(\\theta\\,|\\,\\mu_0,\\sigma_0^2)\n",
    "$$"
   ]
  },
  {
   "cell_type": "markdown",
   "metadata": {
    "slideshow": {
     "slide_type": "fragment"
    }
   },
   "source": [
    "- This system is equivalent to (Exercise)\n",
    "\n",
    "$$\n",
    "p(x,\\theta) = \\mathcal{N} \\left( \\begin{bmatrix} x\\\\ \n",
    "  \\theta  \\end{bmatrix} \n",
    "  \\,\\left|\\, \\begin{bmatrix} \\mu_0\\\\ \n",
    "  \\mu_0\\end{bmatrix}, \n",
    "         \\begin{bmatrix} \\sigma_0^2+\\sigma^2  & \\sigma_0^2\\\\ \n",
    "         \\sigma_0^2 &\\sigma_0^2 \n",
    "  \\end{bmatrix} \n",
    "  \\right. \\right)\n",
    "$$"
   ]
  },
  {
   "cell_type": "markdown",
   "metadata": {
    "slideshow": {
     "slide_type": "fragment"
    }
   },
   "source": [
    "- Direct substitution of the rule for Gaussian conditioning leads to the posterior (derivation as an Exercise):\n",
    "$$\\begin{align*}\n",
    "p(\\theta|x) &= \\mathcal{N} \\left( \\theta\\,|\\,\\mu_1, \\sigma_1^2 \\right)\\,,\n",
    "\\end{align*}$$\n",
    "with\n",
    "$$\\begin{align*}\n",
    "K &= \\frac{\\sigma_0^2}{\\sigma_0^2+\\sigma^2} \\qquad \\text{($K$ is called: Kalman gain)}\\\\\n",
    "\\mu_1 &= \\mu_0 + K \\cdot (x-\\mu_0)\\\\\n",
    "\\sigma_1^2 &= \\left( 1-K \\right) \\sigma_0^2  \n",
    "\\end{align*}$$\n",
    " "
   ]
  },
  {
   "cell_type": "markdown",
   "metadata": {
    "slideshow": {
     "slide_type": "fragment"
    }
   },
   "source": [
    "\n",
    "- $\\Rightarrow$ Moral: For jointly Gaussian systems, we can do inference simply in one step by using the formulas for conditioning and marginalization."
   ]
  },
  {
   "cell_type": "markdown",
   "metadata": {
    "slideshow": {
     "slide_type": "slide"
    }
   },
   "source": [
    "### Challenge revisited: Recursive Bayesian Estimation\n",
    "\n",
    "- Now we will solve the challenge that was posed at the beginning of this lesson. Consider the signal $x_t=\\theta+\\epsilon_t$, where $D_t= \\left\\{x_1,\\ldots,x_t\\right\\}$ is observed _sequentially_ (over time).\n",
    "\n",
    "- **Problem**: Derive a recursive algorithm for $p(\\theta|D_t)$, i.e., an update rule for (posterior) $p(\\theta|D_t)$ based on (prior) $p(\\theta|D_{t-1})$ and (new observation) $x_t$.\n",
    " "
   ]
  },
  {
   "cell_type": "markdown",
   "metadata": {
    "slideshow": {
     "slide_type": "fragment"
    }
   },
   "source": [
    "##### Model specification \n",
    "- Let's define the estimate after $t$ observations (i.e., our _solution_ ) as $p(\\theta|D_t) = \\mathcal{N}(\\theta\\,|\\,\\mu_t,\\sigma_t^2)$.\n",
    "\n",
    "- We define the joint distribution for $\\theta$ and $x_t$, given background $D_{t-1}$, by\n",
    "$$\\begin{align*} p(x_t,\\theta \\,|\\, D_{t-1}) &= p(x_t|\\theta) \\, p(\\theta|D_{t-1}) \\\\\n",
    "  &= \\underbrace{\\mathcal{N}(x_t\\,|\\, \\theta,\\sigma^2)}_{\\text{likelihood}} \\, \\underbrace{\\mathcal{N}(\\theta\\,|\\,\\mu_{t-1},\\sigma_{t-1}^2)}_{\\text{prior}}\n",
    "\\end{align*}$$\n",
    " "
   ]
  },
  {
   "cell_type": "markdown",
   "metadata": {
    "slideshow": {
     "slide_type": "subslide"
    }
   },
   "source": [
    "       \n",
    "##### Inference\n",
    "\n",
    "- Use Bayes rule,\n",
    "$$\\begin{align*}\n",
    "p(\\theta|D_t) &= p(\\theta|x_t,D_{t-1}) \\\\\n",
    "  &\\propto p(x_t,\\theta | D_{t-1}) \\\\\n",
    "  &= p(x_t|\\theta) \\, p(\\theta|D_{t-1}) \\\\\n",
    "  &= \\mathcal{N}(x_t|\\theta,\\sigma^2) \\, \\mathcal{N}(\\theta\\,|\\,\\mu_{t-1},\\sigma_{t-1}^2) \\\\\n",
    "  &= \\mathcal{N}(\\theta|x_t,\\sigma^2) \\, \\mathcal{N}(\\theta\\,|\\,\\mu_{t-1},\\sigma_{t-1}^2) \\;\\;\\text{(note this trick)}\\\\\n",
    "  &= \\mathcal{N}(\\theta|\\mu_t,\\sigma_t^2) \\;\\;\\text{(use Gaussian multiplication formula)}\n",
    "\\end{align*}$$\n",
    "with\n",
    "$$\\begin{align*}\n",
    "K_t &= \\frac{\\sigma_{t-1}^2}{\\sigma_{t-1}^2+\\sigma^2} \\qquad \\text{(Kalman gain)}\\\\\n",
    "\\mu_t &= \\mu_{t-1} + K_t \\cdot (x_t-\\mu_{t-1})\\\\\n",
    "\\sigma_t^2 &= \\left( 1-K_t \\right) \\sigma_{t-1}^2 \n",
    "\\end{align*}$$\n"
   ]
  },
  {
   "cell_type": "markdown",
   "metadata": {
    "slideshow": {
     "slide_type": "fragment"
    }
   },
   "source": [
    "- This linear _sequential_ estimator of mean and variance in Gaussian observations is called a **Kalman Filter**.\n",
    "\n",
    "<!--- - The new observation $x_t$ 'updates' the old estimate $\\mu_{t-1}$ by a quantity that is proportional to the _innovation_ (or _residual_)  $\\left( x_t - \\mu_{t-1} \\right)$.\n",
    "---> "
   ]
  },
  {
   "cell_type": "markdown",
   "metadata": {
    "slideshow": {
     "slide_type": "fragment"
    }
   },
   "source": [
    "- Note that the uncertainty about $\\theta$ decreases over time (since $0<(1-K_t)<1$). Since we assume that the statistics of the system do not change (stationarity), each new sample provides new information. "
   ]
  },
  {
   "cell_type": "markdown",
   "metadata": {
    "slideshow": {
     "slide_type": "fragment"
    }
   },
   "source": [
    "- Recursive Bayesian estimation is the basis for **adaptive signal processing** algorithms such as Least Mean Squares (LMS) and Recursive Least Squares (RLS). "
   ]
  },
  {
   "cell_type": "markdown",
   "metadata": {
    "slideshow": {
     "slide_type": "slide"
    }
   },
   "source": [
    "#### CODE EXAMPLE\n",
    "\n",
    "Let's implement the Kalman filter described above. We'll use it to recursively estimate the value of $\\theta$ based on noisy observations."
   ]
  },
  {
   "cell_type": "code",
   "execution_count": 3,
   "metadata": {
    "slideshow": {
     "slide_type": "subslide"
    }
   },
   "outputs": [
    {
     "data": {
      "image/png": "[encoded data removed]",
      "text/plain": [
       "Figure(PyObject <Figure size 640x480 with 1 Axes>)"
      ]
     },
     "metadata": {},
     "output_type": "display_data"
    }
   ],
   "source": [
    "using PyPlot\n",
    "\n",
    "N = 50                         # Number of observations\n",
    "θ = 2.0                        # True value of the variable we want to estimate\n",
    "σ_ϵ2 = 0.25                    # Observation noise variance\n",
    "x = sqrt(σ_ϵ2) * randn(N) .+ θ # Generate N noisy observations of θ\n",
    "\n",
    "t = 0\n",
    "μ = fill!(Vector{Float64}(undef,N), NaN)    # Means of p(θ|D) over time\n",
    "σ_μ2 = fill!(Vector{Float64}(undef,N), NaN) # Variances of p(θ|D) over time\n",
    "\n",
    "function performKalmanStep()\n",
    "    # Perform a Kalman filter step, update t, μ, σ_μ2\n",
    "    global t += 1\n",
    "    if t>1 # Use posterior from prev. step as prior\n",
    "        K = σ_μ2[t-1] / (σ_ϵ2 + σ_μ2[t-1]) # Kalman gain\n",
    "        μ[t] = μ[t-1] + K*(x[t] - μ[t-1])  # Update mean using (1)\n",
    "        σ_μ2[t] = σ_μ2[t-1] * (1.0-K)      # Update variance using (2)\n",
    "    elseif t==1 # Use prior\n",
    "        # Prior p(θ) = N(0,1000)\n",
    "        K = 1000.0 / (σ_ϵ2 + 1000.0) # Kalman gain\n",
    "        μ[t] = 0 + K*(x[t] - 0)      # Update mean using (1)\n",
    "        σ_μ2[t] = 1000 * (1.0-K)     # Update variance using (2)\n",
    "    end\n",
    "end\n",
    "\n",
    "while t<N\n",
    "    performKalmanStep()\n",
    "end\n",
    "\n",
    "# Plot the 'true' value of θ, noisy observations x, and the recursively updated posterior p(θ|D)\n",
    "t = collect(1:N)\n",
    "plot(t, θ*ones(N), \"k--\")\n",
    "plot(t, x, \"rx\")\n",
    "plot(t, μ, \"b-\")\n",
    "fill_between(t, μ-sqrt.(σ_μ2), μ+sqrt.(σ_μ2), color=\"b\", alpha=0.3)\n",
    "legend([L\"\\theta\", L\"x[t]\", L\"\\mu[t]\"])\n",
    "xlim((1, N)); xlabel(L\"t\"); grid()"
   ]
  },
  {
   "cell_type": "markdown",
   "metadata": {
    "slideshow": {
     "slide_type": "fragment"
    }
   },
   "source": [
    "The shaded area represents 2 standard deviations of posterior $p(\\theta|D)$. The variance of the posterior is guaranteed to decrease monotonically for the standard Kalman filter.\n"
   ]
  },
  {
   "cell_type": "markdown",
   "metadata": {
    "slideshow": {
     "slide_type": "slide"
    }
   },
   "source": [
    "###  <a id='product-of-gaussians'>Product of Normally Distributed Variables</a>\n",
    "- (We've seen that) the sum of two Gausssian distributed variables is also Gaussian distributed."
   ]
  },
  {
   "cell_type": "markdown",
   "metadata": {
    "slideshow": {
     "slide_type": "fragment"
    }
   },
   "source": [
    "- Has the _product_ of two Gaussian distributed variables also a Gaussian distribution?"
   ]
  },
  {
   "cell_type": "markdown",
   "metadata": {
    "slideshow": {
     "slide_type": "fragment"
    }
   },
   "source": [
    "- **No**! In general this is a difficult computation. As an example, let's compute $p(z)$ for $Z=XY$ for the special case that $X\\sim \\mathcal{N}(0,1)$ and $Y\\sim \\mathcal{N}(0,1)$.\n",
    "$$\\begin{align*}\n",
    "p(z) &= \\int_{X,Y} p(z|x,y)\\,p(x,y)\\,\\mathrm{d}x\\mathrm{d}y \\\\\n",
    "  &= \\frac{1}{2 \\pi}\\int  \\delta(z-xy) \\, e^{-(x^2+y^2)/2} \\, \\mathrm{d}x\\mathrm{d}y \\\\\n",
    "  &=  \\frac{1}{\\pi} \\int_0^\\infty \\frac{1}{x} e^{-(x^2+z^2/x^2)/2} \\, \\mathrm{d}x \\\\\n",
    "  &= \\frac{1}{\\pi} \\mathrm{K}_0( \\lvert z\\rvert )\\,.\n",
    "\\end{align*}$$\n",
    "where  $\\mathrm{K}_n(z)$ is a [modified Bessel function of the second kind](http://mathworld.wolfram.com/ModifiedBesselFunctionoftheSecondKind.html)."
   ]
  },
  {
   "cell_type": "markdown",
   "metadata": {
    "slideshow": {
     "slide_type": "slide"
    }
   },
   "source": [
    "#### CODE EXAMPLE\n",
    "\n",
    "We plot $p(Z)$ to give an idea of what this distribution looks like."
   ]
  },
  {
   "cell_type": "code",
   "execution_count": 4,
   "metadata": {
    "slideshow": {
     "slide_type": "subslide"
    }
   },
   "outputs": [
    {
     "data": {
      "image/png": "[encoded data removed]",
      "text/plain": [
       "Figure(PyObject <Figure size 640x480 with 1 Axes>)"
      ]
     },
     "metadata": {},
     "output_type": "display_data"
    }
   ],
   "source": [
    "using PyPlot, Distributions, SpecialFunctions\n",
    "X = Normal(0,1)\n",
    "pdf_product_std_normals(z::Vector) = (besselk.(0, abs.(z))./π)\n",
    "range1 = collect(range(-4,stop=4,length=100))\n",
    "plot(range1, pdf.(X, range1))\n",
    "plot(range1, pdf_product_std_normals(range1))\n",
    "legend([L\"p(X)=p(Y)=\\mathcal{N}(0,1)\", L\"p(Z)\"]); grid()"
   ]
  },
  {
   "cell_type": "markdown",
   "metadata": {
    "slideshow": {
     "slide_type": "slide"
    }
   },
   "source": [
    "### Review Gaussians\n",
    "\n",
    "The success of Gaussian distributions in probabilistic modeling is large due to the following properties:"
   ]
  },
  {
   "cell_type": "markdown",
   "metadata": {
    "slideshow": {
     "slide_type": "fragment"
    }
   },
   "source": [
    "- Any smooth function with single rounded maximum, if raised to higher and higher powers, goes into a Gaussian function. "
   ]
  },
  {
   "cell_type": "markdown",
   "metadata": {
    "slideshow": {
     "slide_type": "fragment"
    }
   },
   "source": [
    "- The convolution of two Gaussian functions is another Gaussian function (use in sum of 2 variables)\n",
    "  - As a result, a linear transformation of a Gaussian distributed variable is also Gaussian distributed"
   ]
  },
  {
   "cell_type": "markdown",
   "metadata": {
    "slideshow": {
     "slide_type": "fragment"
    }
   },
   "source": [
    "- The product of two Gaussian functions is another Gaussian function (use in Bayes rule). "
   ]
  },
  {
   "cell_type": "markdown",
   "metadata": {
    "slideshow": {
     "slide_type": "fragment"
    }
   },
   "source": [
    "- Conditioning and marginalization of multivariate Gaussian distributions produce Gaussians again (use in working with observations and when doing Bayesian predictions)"
   ]
  },
  {
   "cell_type": "markdown",
   "metadata": {
    "slideshow": {
     "slide_type": "fragment"
    }
   },
   "source": [
    "- <span style=\"color:gray\">The Gaussian PDF has higher entropy than any other with the same variance. (Not discussed in this course).</span>\n",
    "\n"
   ]
  },
  {
   "cell_type": "markdown",
   "metadata": {
    "slideshow": {
     "slide_type": "slide"
    }
   },
   "source": [
    "### Some Useful Matrix Calculus\n",
    "\n",
    "Aside from working with Gaussians, it will be helpful for the next lessons to be familiar with some matrix calculus. We shortly recapitulate used formulas here. "
   ]
  },
  {
   "cell_type": "markdown",
   "metadata": {
    "slideshow": {
     "slide_type": "fragment"
    }
   },
   "source": [
    "- We define the **gradient** of a scalar function $f(A)$ w.r.t. an $n \\times k$ matrix $A$ as\n",
    "$$\n",
    "\\nabla_A f \\triangleq\n",
    "    \\begin{bmatrix}\n",
    "\\frac{\\partial{f}}{\\partial a_{11}} & \\frac{\\partial{f}}{\\partial a_{12}} & \\cdots & \\frac{\\partial{f}}{\\partial a_{1k}}\\\\\n",
    "\\frac{\\partial{f}}{\\partial a_{21}} & \\frac{\\partial{f}}{\\partial a_{22}} & \\cdots & \\frac{\\partial{f}}{\\partial a_{2k}}\\\\\n",
    "\\vdots & \\vdots & \\cdots & \\vdots\\\\\n",
    "\\frac{\\partial{f}}{\\partial a_{n1}} & \\frac{\\partial{f}}{\\partial a_{n2}} & \\cdots & \\frac{\\partial{f}}{\\partial a_{nk}}\n",
    "    \\end{bmatrix}\n",
    "$$\n",
    " "
   ]
  },
  {
   "cell_type": "markdown",
   "metadata": {
    "slideshow": {
     "slide_type": "fragment"
    }
   },
   "source": [
    "   \n",
    "- The following formulas are useful (see Bishop App.-C)\n",
    "$$\\begin{align*}\n",
    "|A^{-1}|&=|A|^{-1} \\tag{B-C.4} \\\\\n",
    "\\nabla_A \\log |A| &= (A^{T})^{-1} = (A^{-1})^T \\tag{B-C.28} \\\\\n",
    "\\mathrm{Tr}[ABC]&= \\mathrm{Tr}[CAB] = \\mathrm{Tr}[BCA] \\tag{B-C.9} \\\\\n",
    "\\nabla_A \\mathrm{Tr}[AB] &=\\nabla_A \\mathrm{Tr}[BA]= B^T \\tag{B-C.25} \\\\\n",
    "\\nabla_A \\mathrm{Tr}[ABA^T] &= A(B+B^T)  \\tag{B-C.27}\\\\\n",
    " \\nabla_x x^TAx &= (A+A^T)x \\tag{from B-C.27}\\\\\n",
    "\\nabla_X a^TXb &= \\nabla_X \\mathrm{Tr}[ba^TX] = ab^T \\notag\n",
    "\\end{align*}$$"
   ]
  },
  {
   "cell_type": "markdown",
   "metadata": {
    "slideshow": {
     "slide_type": "slide"
    }
   },
   "source": [
    "### Exercises\n",
    "\n",
    "- Show that Eq.SRG-8 is a special case of Eq.SRG-4a. \n",
    "\n",
    "<img src=\"./figures/fig-linear-system.png\" width=\"350px\">\n",
    "\n",
    "- Given independent variables\n",
    "$x \\sim \\mathcal{N}(\\mu_x,\\sigma_y^2)$ and $y \\sim \\mathcal{N}(\\mu_y,\\sigma_y^2)$, what is the PDF for $z = A\\cdot(x -y) + b$ ? (see Exercises)\n",
    "\n",
    "- (Answer): $z$ is also Gaussian with \n",
    "$$\n",
    "p_z(z) = \\mathcal{N}(z \\,|\\, A(\\mu_x-\\mu_y)+b, \\, A (\\sigma_x^2 + \\sigma_y^2) A^T)\n",
    "$$\n",
    "\n",
    "- Proof\n",
    "$$\n",
    "p(x,\\theta) = \\mathcal{N} \\left( \\begin{bmatrix} x\\\\ \n",
    "  \\theta  \\end{bmatrix} \n",
    "  \\,\\left|\\, \\begin{bmatrix} \\mu_0\\\\ \n",
    "  \\mu_0\\end{bmatrix}, \n",
    "         \\begin{bmatrix} \\sigma_0^2+\\sigma^2  & \\sigma_0^2\\\\ \n",
    "         \\sigma_0^2 &\\sigma_0^2 \n",
    "  \\end{bmatrix} \n",
    "  \\right. \\right)\n",
    "$$\n",
    "- Look up conditioning and marginalization in canonical coordinates and compare to the formulas for the moment parameterization of the Gaussian. Any conclusions?\n",
    "\n",
    "- Derive $$\\begin{align*}\n",
    "p(\\theta|x) &= \\mathcal{N} \\left( \\theta\\,|\\,\\mu_1, \\sigma_1^2 \\right)\\,,\n",
    "\\end{align*}$$\n",
    "with\n",
    "$$\\begin{align*}\n",
    "K &= \\frac{\\sigma_0^2}{\\sigma_0^2+\\sigma^2} \\qquad \\text{($K$ is called: Kalman gain)}\\\\\n",
    "\\mu_1 &= \\mu_0 + K \\cdot (x-\\mu_0)\\\\\n",
    "\\sigma_1^2 &= \\left( 1-K \\right) \\sigma_0^2  \n",
    "\\end{align*}$$\n",
    " "
   ]
  },
  {
   "cell_type": "code",
   "execution_count": 5,
   "metadata": {
    "slideshow": {
     "slide_type": "skip"
    }
   },
   "outputs": [
    {
     "data": {
      "text/html": [
       "<!--\n",
       "This HTML file contains custom styles and some javascript.\n",
       "Include it a Jupyter notebook for improved rendering.\n",
       "-->\n",
       "\n",
       "<!-- Fonts -->\n",
       "<link href='http://fonts.googleapis.com/css?family=Alegreya+Sans:100,300,400,500,700,800,900,100italic,300italic,400italic,500italic,700italic,800italic,900italic' rel='stylesheet' type='text/css'>\n",
       "<link href='http://fonts.googleapis.com/css?family=Arvo:400,700,400italic' rel='stylesheet' type='text/css'>\n",
       "<link href='http://fonts.googleapis.com/css?family=PT+Mono' rel='stylesheet' type='text/css'>\n",
       "<link href='http://fonts.googleapis.com/css?family=Shadows+Into+Light' rel='stylesheet' type='text/css'>\n",
       "<link href='http://fonts.googleapis.com/css?family=Nixie+One' rel='stylesheet' type='text/css'>\n",
       "\n",
       "<!-- Custom style -->\n",
       "<style>\n",
       "\n",
       "@font-face {\n",
       "    font-family: \"Computer Modern\";\n",
       "    src: url('http://mirrors.ctan.org/fonts/cm-unicode/fonts/otf/cmunss.otf');\n",
       "}\n",
       "\n",
       "#notebook_panel { /* main background */\n",
       "    background: rgb(245,245,245);\n",
       "}\n",
       "\n",
       "div.container {\n",
       "    min-width: 960px;\n",
       "}\n",
       "\n",
       "div #notebook { /* centre the content */\n",
       "    background: #fff; /* white background for content */\n",
       "    margin: auto;\n",
       "    padding-left: 0em;\n",
       "}\n",
       "\n",
       "#notebook li { /* More space between bullet points */\n",
       "    margin-top:0.8em;\n",
       "}\n",
       "\n",
       "/* draw border around running cells */\n",
       "div.cell.border-box-sizing.code_cell.running {\n",
       "    border: 1px solid #111;\n",
       "}\n",
       "\n",
       "/* Put a solid color box around each cell and its output, visually linking them*/\n",
       "div.cell.code_cell {\n",
       "    background-color: rgb(256,256,256);\n",
       "    border-radius: 0px;\n",
       "    padding: 0.5em;\n",
       "    margin-left:1em;\n",
       "    margin-top: 1em;\n",
       "}\n",
       "\n",
       "div.text_cell_render{\n",
       "    font-family: 'Alegreya Sans' sans-serif;\n",
       "    line-height: 140%;\n",
       "    font-size: 125%;\n",
       "    font-weight: 400;\n",
       "    width:800px;\n",
       "    margin-left:auto;\n",
       "    margin-right:auto;\n",
       "}\n",
       "\n",
       "\n",
       "/* Formatting for header cells */\n",
       ".text_cell_render h1 {\n",
       "    font-family: 'Nixie One', serif;\n",
       "    font-style:regular;\n",
       "    font-weight: 400;\n",
       "    font-size: 45pt;\n",
       "    line-height: 100%;\n",
       "    color: rgb(0,51,102);\n",
       "    margin-bottom: 0.5em;\n",
       "    margin-top: 0.5em;\n",
       "    display: block;\n",
       "}\n",
       "\n",
       ".text_cell_render h2 {\n",
       "    font-family: 'Nixie One', serif;\n",
       "    font-weight: 400;\n",
       "    font-size: 30pt;\n",
       "    line-height: 100%;\n",
       "    color: rgb(0,51,102);\n",
       "    margin-bottom: 0.1em;\n",
       "    margin-top: 0.3em;\n",
       "    display: block;\n",
       "}\n",
       "\n",
       ".text_cell_render h3 {\n",
       "    font-family: 'Nixie One', serif;\n",
       "    margin-top:16px;\n",
       "    font-size: 22pt;\n",
       "    font-weight: 600;\n",
       "    margin-bottom: 3px;\n",
       "    font-style: regular;\n",
       "    color: rgb(102,102,0);\n",
       "}\n",
       "\n",
       ".text_cell_render h4 {    /*Use this for captions*/\n",
       "    font-family: 'Nixie One', serif;\n",
       "    font-size: 14pt;\n",
       "    text-align: center;\n",
       "    margin-top: 0em;\n",
       "    margin-bottom: 2em;\n",
       "    font-style: regular;\n",
       "}\n",
       "\n",
       ".text_cell_render h5 {  /*Use this for small titles*/\n",
       "    font-family: 'Nixie One', sans-serif;\n",
       "    font-weight: 400;\n",
       "    font-size: 16pt;\n",
       "    color: rgb(163,0,0);\n",
       "    font-style: italic;\n",
       "    margin-bottom: .1em;\n",
       "    margin-top: 0.8em;\n",
       "    display: block;\n",
       "}\n",
       "\n",
       ".text_cell_render h6 { /*use this for copyright note*/\n",
       "    font-family: 'PT Mono', sans-serif;\n",
       "    font-weight: 300;\n",
       "    font-size: 9pt;\n",
       "    line-height: 100%;\n",
       "    color: grey;\n",
       "    margin-bottom: 1px;\n",
       "    margin-top: 1px;\n",
       "}\n",
       "\n",
       ".CodeMirror{\n",
       "    font-family: \"PT Mono\";\n",
       "    font-size: 90%;\n",
       "}\n",
       "\n",
       ".boxed { /* draw a border around a piece of text */\n",
       "  border: 1px solid blue ;\n",
       "}\n",
       "\n",
       "h4#CODE-EXAMPLE,\n",
       "h4#END-OF-CODE-EXAMPLE {\n",
       "    margin: 10px 0;\n",
       "    padding: 10px;\n",
       "    background-color: #d0f9ca !important;\n",
       "    border-top: #849f81 1px solid;\n",
       "    border-bottom: #849f81 1px solid;\n",
       "}\n",
       "\n",
       ".emphasis {\n",
       "    color: red;\n",
       "}\n",
       "\n",
       ".exercise {\n",
       "    color: green;\n",
       "}\n",
       "\n",
       ".proof {\n",
       "    color: blue;\n",
       "}\n",
       "\n",
       "code {\n",
       "  padding: 2px 4px !important;\n",
       "  font-size: 90% !important;\n",
       "  color: #222 !important;\n",
       "  background-color: #efefef !important;\n",
       "  border-radius: 2px !important;\n",
       "}\n",
       "\n",
       "/* This removes the actual style cells from the notebooks, but no in print mode\n",
       "   as they will be removed through some other method */\n",
       "@media not print {\n",
       "  .cell:nth-last-child(-n+2) {\n",
       "    display: none;\n",
       "  }\n",
       "}\n",
       "\n",
       "footer.hidden-print {\n",
       "    display: none !important;\n",
       "}\n",
       "    \n",
       "</style>\n",
       "\n",
       "<!-- MathJax styling -->\n",
       "<script>\n",
       "    MathJax.Hub.Config({\n",
       "                        TeX: {\n",
       "                           extensions: [\"AMSmath.js\"],\n",
       "                           equationNumbers: { autoNumber: \"AMS\", useLabelIds: true}\n",
       "                           },\n",
       "                tex2jax: {\n",
       "                    inlineMath: [ ['$','$'], [\"\\\\(\",\"\\\\)\"] ],\n",
       "                    displayMath: [ ['$$','$$'], [\"\\\\[\",\"\\\\]\"] ]\n",
       "                },\n",
       "                displayAlign: 'center', // Change this to 'center' to center equations.\n",
       "                \"HTML-CSS\": {\n",
       "                    styles: {'.MathJax_Display': {\"margin\": 4}}\n",
       "                }\n",
       "        });\n",
       "</script>\n"
      ]
     },
     "metadata": {},
     "output_type": "display_data"
    }
   ],
   "source": [
    "open(\"../../styles/aipstyle.html\") do f\n",
    "    display(\"text/html\", read(f, String))\n",
    "end"
   ]
  },
  {
   "cell_type": "code",
   "execution_count": null,
   "metadata": {},
   "outputs": [],
   "source": []
  },
  {
   "cell_type": "code",
   "execution_count": null,
   "metadata": {},
   "outputs": [],
   "source": []
  }
 ],
 "metadata": {
  "@webio": {
   "lastCommId": "28b2cce9fe2c4608810427288c6c6e0a",
   "lastKernelId": "11552e6c-9ed2-4354-8bae-4918120a66e2"
  },
  "anaconda-cloud": {},
  "celltoolbar": "Slideshow",
  "kernelspec": {
   "display_name": "Julia 1.2.0",
   "language": "julia",
   "name": "julia-1.2"
  },
  "language_info": {
   "file_extension": ".jl",
   "mimetype": "application/julia",
   "name": "julia",
   "version": "1.2.0"
  },
  "widgets": {
   "state": {
    "3e8b6f2f-6500-4ec7-963f-2db519e88817": {
     "views": [
      {
       "cell_index": 11
      }
     ]
    }
   },
   "version": "1.2.0"
  }
 },
 "nbformat": 4,
 "nbformat_minor": 1
}
