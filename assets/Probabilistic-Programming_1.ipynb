{
 "cells": [
  {
   "cell_type": "markdown",
   "metadata": {
    "slideshow": {
     "slide_type": "slide"
    }
   },
   "source": [
    "# Probabilistic Programming - 1"
   ]
  },
  {
   "cell_type": "markdown",
   "metadata": {
    "slideshow": {
     "slide_type": "slide"
    }
   },
   "source": [
    "### Preliminaries\n",
    "\n",
    "- Goal \n",
    "  - Learn to write basic probabilistic programs  \n",
    "- Materials        \n",
    "  - Mandatory\n",
    "    - These lecture notes.\n",
    "    - Intro to programming in Julia (https://youtu.be/8h8rQyEpiZA?t=233).\n",
    "  - Optional\n",
    "    - Cheatsheets: how does Julia differ from Matlab / Python (https://docs.julialang.org/en/v1/manual/noteworthy-differences/index.html).\n",
    "    - Getting started with ForneyLab (https://biaslab.github.io/forneylab/docs/getting-started/).\n",
    "    - Tutorials using Turing.jl (https://turing.ml/dev/tutorials/0-introduction/)"
   ]
  },
  {
   "cell_type": "markdown",
   "metadata": {},
   "source": [
    "You've been deriving results by hand, but now we are to going to automate some of the labour. In this module, we will introduce you to writing probabilistic programs. We will show how to specify models and inference procedures using probabilistic programming toolboxes. Firstly, we will go throught the problem set you've seen in a previous lecture; clustering with Gaussian mixture models. Secondly, we will give you two problem sets to complete in class where you will see the strengths and weaknesses of the two major approaches to probabilistic programming. Thirdly, we will give you a series of problem sets to complete in your own time which we will discuss with you in class. "
   ]
  },
  {
   "cell_type": "code",
   "execution_count": null,
   "metadata": {},
   "outputs": [],
   "source": []
  }
 ],
 "metadata": {
  "anaconda-cloud": {},
  "celltoolbar": "Slideshow",
  "kernelspec": {
   "display_name": "Julia 1.1.0",
   "language": "julia",
   "name": "julia-1.1"
  },
  "language_info": {
   "file_extension": ".jl",
   "mimetype": "application/julia",
   "name": "julia",
   "version": "1.1.0"
  }
 },
 "nbformat": 4,
 "nbformat_minor": 4
}
