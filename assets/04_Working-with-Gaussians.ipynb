{
 "cells": [
  {
   "cell_type": "markdown",
   "metadata": {
    "slideshow": {
     "slide_type": "slide"
    }
   },
   "source": [
    "Working with Gaussians\n",
    "======="
   ]
  },
  {
   "cell_type": "markdown",
   "metadata": {
    "slideshow": {
     "slide_type": "slide"
    }
   },
   "source": [
    "### Preliminaries\n",
    "\n",
    "- Goal \n",
    "  - Review of processing of Gaussian distributions in linear systems\n",
    "- Materials        \n",
    "  - Mandatory\n",
    "    - These lecture notes\n",
    "  - Optional\n",
    "    - Bishop pp. 85-93       \n",
    "    - [MacKay - 2006 - The Humble Gaussian Distribution](./files/Mackay-2006-The-humble-Gaussian-distribution.pdf) (highly recommended!)\n"
   ]
  },
  {
   "cell_type": "markdown",
   "metadata": {
    "slideshow": {
     "slide_type": "slide"
    }
   },
   "source": [
    "### Sums and Transformations of Gaussian Variables\n",
    "\n",
    "- The Gaussian distribution\n",
    "$$\n",
    "\\mathcal{N}(x|\\mu,\\Sigma) = |2 \\pi \\Sigma |^{-\\frac{1}{2}} \\,\\mathrm{exp}\\left\\{-\\frac{1}{2}(x-\\mu)^T \\Sigma^{-1} (x-\\mu) \\right\\}\n",
    "$$\n",
    "for variable $x$ is completely specified by its mean $\\mu$ and variance $\\Sigma$. \n",
    "  - $\\Lambda = \\Sigma^{-1}$ is called the **precision matrix**."
   ]
  },
  {
   "cell_type": "markdown",
   "metadata": {
    "slideshow": {
     "slide_type": "fragment"
    }
   },
   "source": [
    "- A **linear transformation** $z=Ax+b$ of a Gaussian variable $\\mathcal{N}(x|\\mu,\\Sigma)$ is Gaussian distributed as\n",
    "\n",
    "$$\n",
    "p(z) = \\mathcal{N} \\left(z \\,|\\, A\\mu+b, A\\Sigma A^T \\right) \\tag{SRG-4a}\n",
    "$$"
   ]
  },
  {
   "cell_type": "markdown",
   "metadata": {
    "slideshow": {
     "slide_type": "fragment"
    }
   },
   "source": [
    "- The **sum of two independent Gaussian variables** is also Gaussian distributed. Specifically, if $x \\sim \\mathcal{N} \\left(x|\\mu_x, \\Sigma_x \\right)$ and $y \\sim \\mathcal{N} \\left(y|\\mu_y, \\Sigma_y \\right)$, then the PDF for $z=x+y$ is given by\n",
    "$$\\begin{align}\n",
    "p(z) &= \\mathcal{N}(x\\,|\\,\\mu_x,\\Sigma_x) \\ast \\mathcal{N}(y\\,|\\,\\mu_y,\\Sigma_y) \\notag\\\\\n",
    "  &= \\mathcal{N} \\left(z\\,|\\,\\mu_x+\\mu_y, \\Sigma_x +\\Sigma_y \\right) \\tag{SRG-8}\n",
    "\\end{align}$$\n",
    "  - <span style=\"color:green\">[Exercise]</span>: Show that Eq.SRG-8 is really a special case of Eq.SRG-4a. \n",
    "  - The sum of two Gaussian _distributions_ is NOT a Gaussian distribution. Why not?"
   ]
  },
  {
   "cell_type": "markdown",
   "metadata": {
    "slideshow": {
     "slide_type": "slide"
    }
   },
   "source": [
    "### Example: Gaussian Signals in a Linear System\n",
    "\n",
    "<img src=\"./figures/fig-linear-system.png\" width=\"350px\">\n",
    "\n",
    "- <span style=\"color:blue\">[Q.]</span>: Given independent variables\n",
    "$x \\sim \\mathcal{N}(\\mu_x,\\sigma_y)$ and $y \\sim \\mathcal{N}(\\mu_y,\\sigma_y)$, what is the PDF for $z = A\\cdot(x -y) + b$ ?"
   ]
  },
  {
   "cell_type": "markdown",
   "metadata": {
    "slideshow": {
     "slide_type": "fragment"
    }
   },
   "source": [
    "- <span style=\"color:blue\">[A.]</span>: $z$ is also Gaussian with \n",
    "$$\n",
    "p_z(z) = \\mathcal{N}(z|A(\\mu_x-\\mu_y)+b, \\, A(\\sigma_x \\mathbf{+} \\sigma_y)A^T)\n",
    "$$"
   ]
  },
  {
   "cell_type": "markdown",
   "metadata": {
    "slideshow": {
     "slide_type": "fragment"
    }
   },
   "source": [
    "- Think about the role of the Gaussian distribution for stochastic linear systems in relation to what sinusoidals mean for deterministic linear system analysis."
   ]
  },
  {
   "cell_type": "markdown",
   "metadata": {
    "slideshow": {
     "slide_type": "slide"
    }
   },
   "source": [
    "### Example: Bayesian Estimation of a Constant\n",
    "\n",
    "\n",
    "- <span style=\"color:blue\">[Question]</span> Estimate a constant $\\theta$ from one 'noisy' measurement $x$ about that constant. Assume the following model specification (the tilde $\\sim$ means: 'is distributed as'):\n",
    "     \n",
    "$$\\begin{align*}\n",
    "x &= \\theta + \\epsilon \\\\\n",
    "\\theta &\\sim \\mathcal{N}(\\mu_\\theta,\\sigma_\\theta^2) \\\\\n",
    "\\epsilon &\\sim \\mathcal{N}(0,\\sigma^2_{\\epsilon})\n",
    "\\end{align*}$$"
   ]
  },
  {
   "cell_type": "markdown",
   "metadata": {
    "slideshow": {
     "slide_type": "subslide"
    }
   },
   "source": [
    "<span style=\"color:blue\">[Answer]</span>\n",
    "\n",
    "- **1. Model specification**\n",
    "Note that you can rewrite these specifications in probabilistic notation as follows:\n",
    "$$\\begin{align}\n",
    "    p(x|\\theta) &=\\mathcal{N}(x|\\theta,\\sigma^2_{\\epsilon}) \\tag{likelihood}\\\\\n",
    "    p(\\theta) &=\\mathcal{N}(\\theta|\\mu_\\theta,\\sigma_\\theta^2) \\tag{prior}\n",
    "\\end{align}$$"
   ]
  },
  {
   "cell_type": "markdown",
   "metadata": {
    "slideshow": {
     "slide_type": "fragment"
    }
   },
   "source": [
    "- **2. Inference** for the posterior PDF $p(\\theta|x)$\n",
    "$$\\begin{align*}\n",
    "p(\\theta|x)  &= \\frac{p(x|\\theta)p(\\theta)}{p(x)} = \\frac{p(x|\\theta)p(\\theta)} { \\int p(x|\\theta)p(\\theta) \\, \\mathrm{d}\\theta } \\notag \\\\\n",
    "    &= \\frac{1}{C} \\,\\mathcal{N}(x|\\theta,\\sigma^2_{\\epsilon})\\, \\mathcal{N}(\\theta|\\mu_\\theta,\\sigma_\\theta^2) \\notag \\\\\n",
    "    &= \\frac{1}{C_1} \\mathrm{exp} \\left\\{ -\\frac{(x-\\theta)^2}{2\\sigma^2_{\\epsilon}} - \\frac{(\\theta-\\mu_\\theta)^2}{2\\sigma_\\theta^2} \\right\\} \\notag \\\\\n",
    "    &= \\frac{1}{C_1} \\mathrm{exp} \\left\\{ \\theta^2\\left( -\\frac{1}{2\\sigma^2_{\\epsilon}} - \\frac{1}{2\\sigma_\\theta^2} \\right) + \\theta \\left( \\frac{x}{\\sigma^2_{\\epsilon}} + \\frac{\\mu_\\theta}{\\sigma_\\theta^2} \\right) +  C_2 \\right\\} \\notag \\\\\n",
    "    &= \\frac{1}{C_1} \\mathrm{exp} \\left\\{ -\\frac{\\sigma_\\theta^2 + \\sigma^2_{\\epsilon}}{2\\sigma_\\theta^2 \\sigma^2_{\\epsilon}} \\left( \\theta - \\frac{x\\sigma_\\theta^2 + \\mu_s\\sigma^2_{\\epsilon}}{\\sigma_\\theta^2 + \\sigma^2_{\\epsilon}} \\right)^2 + C_3  \\right\\}\n",
    "\\end{align*}$$\n",
    "which we recognize as a Gaussian distribution."
   ]
  },
  {
   "cell_type": "markdown",
   "metadata": {
    "slideshow": {
     "slide_type": "subslide"
    }
   },
   "source": [
    "  - This computational 'trick' for multiplying two Gaussians is called **completing the square**. The procedure makes use of the equality $$ax^2+bx+c_1 = a\\left(x+\\frac{b}{2a}\\right)^2+c_2$$\n",
    "    "
   ]
  },
  {
   "cell_type": "markdown",
   "metadata": {
    "slideshow": {
     "slide_type": "fragment"
    }
   },
   "source": [
    "  \n",
    "- Hence, it follows that the posterior for $\\theta$ is\n",
    "\n",
    "$$\\begin{equation*}\n",
    "    p(\\theta|x) = \\mathcal{N} (\\theta |\\, \\mu_{\\theta|x}, \\sigma_{\\theta|x}^2)\n",
    "\\end{equation*}$$\n",
    "\n",
    "where\n",
    "\n",
    "$$\\begin{align*}\n",
    "  \\frac{1}{\\sigma_{\\theta|x}^2}  &= \\frac{\\sigma^2_{\\epsilon} + \\sigma_\\theta^2}{\\sigma^2_{\\epsilon}\\sigma_\\theta^2} = \\frac{1}{\\sigma_\\theta^2} + \\frac{1}{\\sigma^2_{\\epsilon}}\\\\\n",
    "  \\mu_{\\theta|x}   &= \\sigma_{\\theta|x}^2 \\, \\left( \\frac{1}{\\sigma^2_{\\epsilon}}x + \\frac{1}{\\sigma_\\theta^2} \\mu_\\theta \\right) \n",
    "\\end{align*}$$"
   ]
  },
  {
   "cell_type": "markdown",
   "metadata": {
    "slideshow": {
     "slide_type": "fragment"
    }
   },
   "source": [
    "- So, multiplication of two Gaussian distributions yields another (unnormalized) Gaussian with\n",
    "  - posterior precision equals **sum of prior precsions**\n",
    "  - posterior precision-weighted mean equals **sum of prior precision-weighted means**\n",
    "- (This is worth remembering)"
   ]
  },
  {
   "cell_type": "markdown",
   "metadata": {
    "slideshow": {
     "slide_type": "slide"
    }
   },
   "source": [
    "### CODE EXAMPLE\n",
    "\n",
    "Let's plot the exact product of two Gaussian PDFs as well as the normalized product according to the above derivation."
   ]
  },
  {
   "cell_type": "code",
   "execution_count": 1,
   "metadata": {
    "slideshow": {
     "slide_type": "subslide"
    }
   },
   "outputs": [
    {
     "data": {
      "image/png": "[encoded data removed]",
      "text/plain": [
       "Figure(PyObject <Figure size 640x480 with 1 Axes>)"
      ]
     },
     "metadata": {},
     "output_type": "display_data"
    }
   ],
   "source": [
    "using PyPlot, Distributions\n",
    "d1 = Normal(0, 1) # μ=0, σ^2=1\n",
    "d2 = Normal(3, 2) # μ=3, σ^2=4\n",
    "\n",
    "# Calculate the parameters of the product d1*d2\n",
    "s2_prod = (d1.σ^-2 + d2.σ^-2)^-1\n",
    "m_prod = s2_prod * ((d1.σ^-2)*d1.μ + (d2.σ^-2)*d2.μ)\n",
    "d_prod = Normal(m_prod, sqrt(s2_prod)) # Note that we neglect the normalization constant.\n",
    "\n",
    "# Plot stuff\n",
    "x = range(-4, stop=8, length=100)\n",
    "plot(x, pdf.(d1,x), \"k\")\n",
    "plot(x, pdf.(d2,x), \"b\")\n",
    "plot(x, pdf.(d1,x) .* pdf.(d2,x), \"r-\") # Plot the exact product\n",
    "plot(x, pdf.(d_prod,x), \"r:\")          # Plot the normalized Gaussian product\n",
    "legend([L\"\\mathcal{N}(0,1)\", \n",
    "        L\"\\mathcal{N}(3,4)\", \n",
    "        L\"\\mathcal{N}(0,1) \\mathcal{N}(3,4)\", \n",
    "        L\"Z^{-1} \\mathcal{N}(0,1) \\mathcal{N}(3,4)\"]);"
   ]
  },
  {
   "cell_type": "markdown",
   "metadata": {
    "slideshow": {
     "slide_type": "fragment"
    }
   },
   "source": [
    "The solid and dotted red curves are identical up to a scaling factor $Z$.\n"
   ]
  },
  {
   "cell_type": "markdown",
   "metadata": {
    "slideshow": {
     "slide_type": "slide"
    }
   },
   "source": [
    "### Multivariate Gaussian Multiplication\n",
    "\n",
    "- In general, the multiplication of two multi-variate Gaussians yields an (unnormalized) Gaussian, see [SRG-6]:\n",
    "$$\\begin{equation*}\n",
    "\\mathcal{N}(x|\\mu_a,\\Sigma_a) \\cdot \\mathcal{N}(x|\\mu_b,\\Sigma_b) = \\alpha \\cdot \\mathcal{N}(x|\\mu_c,\\Sigma_c)\n",
    "\\end{equation*}$$\n",
    "where\n",
    "$$\\begin{align*}\n",
    "\\Sigma_c^{-1} &= \\Sigma_a^{-1} + \\Sigma_b^{-1} \\\\\n",
    "\\Sigma_c^{-1} \\mu_c &= \\Sigma_a^{-1}\\mu_a + \\Sigma_b^{-1}\\mu_b\n",
    "\\end{align*}$$\n",
    "and normalization constant $\\alpha = \\mathcal{N}(\\mu_a|\\, \\mu_b, \\Sigma_a + \\Sigma_b)$."
   ]
  },
  {
   "cell_type": "markdown",
   "metadata": {
    "slideshow": {
     "slide_type": "fragment"
    }
   },
   "source": [
    "- If we define the **precision** as $\\Lambda \\equiv \\Sigma^{-1}$, then we see that **precisions add** and **precision-weighted means add** too."
   ]
  },
  {
   "cell_type": "markdown",
   "metadata": {
    "slideshow": {
     "slide_type": "fragment"
    }
   },
   "source": [
    "- As we just saw, great application to Bayesian inference!\n",
    "\n",
    "$$\\begin{equation*}\n",
    "\\underbrace{\\text{Gaussian}}_{\\text{posterior}}\n",
    " \\propto \\underbrace{\\text{Gaussian}}_{\\text{likelihood}} \\times \\underbrace{\\text{Gaussian}}_{\\text{prior}}\n",
    "\\end{equation*}$$"
   ]
  },
  {
   "cell_type": "markdown",
   "metadata": {
    "slideshow": {
     "slide_type": "slide"
    }
   },
   "source": [
    "### Conditioning and Marginalization of a Gaussian\n",
    "\n",
    "- Let $z = \\begin{bmatrix} x \\\\ y \\end{bmatrix}$ be jointly normal distributed as\n",
    "\n",
    "$$\\begin{align*}\n",
    "p(z) &= \\mathcal{N}(z | \\mu, \\Sigma) \n",
    "  =\\mathcal{N} \\left( \\begin{bmatrix} x \\\\ y \\end{bmatrix} \\left| \\begin{bmatrix} \\mu_x \\\\ \\mu_y \\end{bmatrix}, \n",
    "  \\begin{bmatrix} \\Sigma_x & \\Sigma_{xy} \\\\ \\Sigma_{yx} & \\Sigma_y \\end{bmatrix} \\right. \\right)\n",
    "\\end{align*}$$"
   ]
  },
  {
   "cell_type": "markdown",
   "metadata": {
    "slideshow": {
     "slide_type": "fragment"
    }
   },
   "source": [
    "- Since covariance matrices are by definition symmetric, it follows that $\\Sigma_x$ and $\\Sigma_y$ are symmetric and $\\Sigma_{xy} = \\Sigma_{yx}^T$."
   ]
  },
  {
   "cell_type": "markdown",
   "metadata": {
    "slideshow": {
     "slide_type": "fragment"
    }
   },
   "source": [
    "- Let's factorize $p(x,y)$ into $p(y|x)\\, p(x)$ through conditioning and marginalization (proof in Bishop pp.87-89)"
   ]
  },
  {
   "cell_type": "markdown",
   "metadata": {
    "slideshow": {
     "slide_type": "fragment"
    }
   },
   "source": [
    "  - **Conditioning**\n",
    "\n",
    "$$\\begin{align*}\n",
    "p(y|x) &= p(x,y)/p(x) \\\\\n",
    " &= \\mathcal{N}\\left(y|\\mu_y + \\Sigma_{yx}\\Sigma_x^{-1}(x-\\mu_x),\\, \\Sigma_y - \\Sigma_{yx}\\Sigma_x^{-1}\\Sigma_{xy} \\right)\n",
    "\\end{align*}$$"
   ]
  },
  {
   "cell_type": "markdown",
   "metadata": {
    "slideshow": {
     "slide_type": "fragment"
    }
   },
   "source": [
    "  - **Marginalization**\n",
    "\n",
    "$$\n",
    "p(x) = \\int p(x,y)\\,\\mathrm{d}y = \\mathcal{N}\\left( x|\\mu_x, \\Sigma_x \\right)\n",
    "$$"
   ]
  },
  {
   "cell_type": "markdown",
   "metadata": {
    "slideshow": {
     "slide_type": "fragment"
    }
   },
   "source": [
    "- Useful for applications to Bayesian inference in jointly Gaussian systems."
   ]
  },
  {
   "cell_type": "markdown",
   "metadata": {
    "slideshow": {
     "slide_type": "slide"
    }
   },
   "source": [
    "#### CODE EXAMPLE\n",
    "\n",
    "Interactive plot of the joint, marginal, and conditional distributions."
   ]
  },
  {
   "cell_type": "code",
   "execution_count": 2,
   "metadata": {
    "scrolled": false,
    "slideshow": {
     "slide_type": "subslide"
    }
   },
   "outputs": [
    {
     "data": {
      "text/html": [
       "    <script class='js-collapse-script'>\n",
       "        var curMatch =\n",
       "            window.location.href\n",
       "            .match(/(.*?)\\/notebooks\\/.*\\.ipynb/);\n",
       "\n",
       "        curMatch = curMatch ||\n",
       "            window.location.href\n",
       "            .match(/(.*?)\\/apps\\/.*\\.ipynb/);\n",
       "\n",
       "        if ( curMatch ) {\n",
       "            $('head').append('<base href=\"' + curMatch[1] + '/\">');\n",
       "        }\n",
       "    </script>\n"
      ],
      "text/plain": [
       "HTML{String}(\"    <script class='js-collapse-script'>\\n        var curMatch =\\n            window.location.href\\n            .match(/(.*?)\\\\/notebooks\\\\/.*\\\\.ipynb/);\\n\\n        curMatch = curMatch ||\\n            window.location.href\\n            .match(/(.*?)\\\\/apps\\\\/.*\\\\.ipynb/);\\n\\n        if ( curMatch ) {\\n            \\$('head').append('<base href=\\\"' + curMatch[1] + '/\\\">');\\n        }\\n    </script>\\n\")"
      ]
     },
     "metadata": {},
     "output_type": "display_data"
    },
    {
     "data": {
      "text/html": [
       "<script class='js-collapse-script' src='/assetserver/dd91f3031364604158edbfeafbf7beddcd119b2c-assets/webio/dist/bundle.js'></script>"
      ],
      "text/plain": [
       "HTML{String}(\"<script class='js-collapse-script' src='/assetserver/dd91f3031364604158edbfeafbf7beddcd119b2c-assets/webio/dist/bundle.js'></script>\")"
      ]
     },
     "metadata": {},
     "output_type": "display_data"
    },
    {
     "data": {
      "text/html": [
       "<script class='js-collapse-script' src='/assetserver/dd91f3031364604158edbfeafbf7beddcd119b2c-assets/providers/ijulia_setup.js'></script>"
      ],
      "text/plain": [
       "HTML{String}(\"<script class='js-collapse-script' src='/assetserver/dd91f3031364604158edbfeafbf7beddcd119b2c-assets/providers/ijulia_setup.js'></script>\")"
      ]
     },
     "metadata": {},
     "output_type": "display_data"
    },
    {
     "data": {
      "text/html": [
       "  <script class='js-collapse-script'>\n",
       "    $('.js-collapse-script').parent('.output_subarea').css('padding', '0');\n",
       "  </script>\n"
      ],
      "text/plain": [
       "HTML{String}(\"  <script class='js-collapse-script'>\\n    \\$('.js-collapse-script').parent('.output_subarea').css('padding', '0');\\n  </script>\\n\")"
      ]
     },
     "metadata": {},
     "output_type": "display_data"
    },
    {
     "data": {
      "image/png": "[encoded data removed]",
      "text/plain": [
       "Figure(PyObject <Figure size 640x480 with 2 Axes>)"
      ]
     },
     "metadata": {},
     "output_type": "display_data"
    },
    {
     "data": {
      "text/html": [
       "<div class='tex2jax_ignore interactbulma'>\n",
       "<div class='display:none'></div><unsafe-script style='display:none'>\n",
       "WebIO.mount(this.previousSibling,{&quot;props&quot;:{},&quot;nodeType&quot;:&quot;DOM&quot;,&quot;type&quot;:&quot;node&quot;,&quot;instanceArgs&quot;:{&quot;namespace&quot;:&quot;html&quot;,&quot;tag&quot;:&quot;div&quot;},&quot;children&quot;:[{&quot;props&quot;:{&quot;className&quot;:&quot;field&quot;},&quot;nodeType&quot;:&quot;DOM&quot;,&quot;type&quot;:&quot;node&quot;,&quot;instanceArgs&quot;:{&quot;namespace&quot;:&quot;html&quot;,&quot;tag&quot;:&quot;div&quot;},&quot;children&quot;:[{&quot;props&quot;:{},&quot;nodeType&quot;:&quot;Scope&quot;,&quot;type&quot;:&quot;node&quot;,&quot;instanceArgs&quot;:{&quot;imports&quot;:{&quot;data&quot;:[{&quot;name&quot;:&quot;knockout&quot;,&quot;type&quot;:&quot;js&quot;,&quot;url&quot;:&quot;/assetserver/88bf0b823d344fcff0b77616d12840286b6c8fa3-knockout.js&quot;},{&quot;name&quot;:&quot;knockout_punches&quot;,&quot;type&quot;:&quot;js&quot;,&quot;url&quot;:&quot;/assetserver/2bd5b097e96d6b4fb8b3b86c01ec3eb6f00ba8bc-knockout_punches.js&quot;},{&quot;name&quot;:null,&quot;type&quot;:&quot;js&quot;,&quot;url&quot;:&quot;/assetserver/33fc17ead5d6c83c74b2449f7c19558c51387837-all.js&quot;},{&quot;name&quot;:null,&quot;type&quot;:&quot;css&quot;,&quot;url&quot;:&quot;/assetserver/f0f1a82ab037979b58e3919f91c0a1436c2b13ea-style.css&quot;},{&quot;name&quot;:null,&quot;type&quot;:&quot;css&quot;,&quot;url&quot;:&quot;/assetserver/84fa6bb423ab1a438691a358fbcb123d0820e96c-main.css&quot;}],&quot;type&quot;:&quot;async_block&quot;},&quot;id&quot;:&quot;knockout-component-30d8008c-bf56-4816-9cfe-cf113579ac33&quot;,&quot;handlers&quot;:{&quot;formatted_vals&quot;:[(function (val){return (val!=this.model[&quot;formatted_vals&quot;]()) ? (this.valueFromJulia[&quot;formatted_vals&quot;]=true, this.model[&quot;formatted_vals&quot;](val)) : undefined})],&quot;_promises&quot;:{&quot;importsLoaded&quot;:[function (ko, koPunches) {\n",
       "    ko.punches.enableAll();\n",
       "    ko.bindingHandlers.numericValue = {\n",
       "        init : function(element, valueAccessor, allBindings, data, context) {\n",
       "            var stringified = ko.observable(ko.unwrap(valueAccessor()));\n",
       "            stringified.subscribe(function(value) {\n",
       "                var val = parseFloat(value);\n",
       "                if (!isNaN(val)) {\n",
       "                    valueAccessor()(val);\n",
       "                }\n",
       "            })\n",
       "            valueAccessor().subscribe(function(value) {\n",
       "                var str = JSON.stringify(value);\n",
       "                if ((str == &quot;0&quot;) &amp;&amp; ([&quot;-0&quot;, &quot;-0.&quot;].indexOf(stringified()) &gt;= 0))\n",
       "                     return;\n",
       "                 if ([&quot;null&quot;, &quot;&quot;].indexOf(str) &gt;= 0)\n",
       "                     return;\n",
       "                stringified(str);\n",
       "            })\n",
       "            ko.applyBindingsToNode(element, { value: stringified, valueUpdate: allBindings.get(&#39;valueUpdate&#39;)}, context);\n",
       "        }\n",
       "    };\n",
       "    var json_data = JSON.parse(&quot;{\\&quot;formatted_vals\\&quot;:[\\&quot;-2.0\\&quot;,\\&quot;-1.9\\&quot;,\\&quot;-1.8\\&quot;,\\&quot;-1.7\\&quot;,\\&quot;-1.6\\&quot;,\\&quot;-1.5\\&quot;,\\&quot;-1.4\\&quot;,\\&quot;-1.3\\&quot;,\\&quot;-1.2\\&quot;,\\&quot;-1.1\\&quot;,\\&quot;-1.0\\&quot;,\\&quot;-0.9\\&quot;,\\&quot;-0.8\\&quot;,\\&quot;-0.7\\&quot;,\\&quot;-0.6\\&quot;,\\&quot;-0.5\\&quot;,\\&quot;-0.4\\&quot;,\\&quot;-0.3\\&quot;,\\&quot;-0.2\\&quot;,\\&quot;-0.1\\&quot;,\\&quot;0.0\\&quot;,\\&quot;0.1\\&quot;,\\&quot;0.2\\&quot;,\\&quot;0.3\\&quot;,\\&quot;0.4\\&quot;,\\&quot;0.5\\&quot;,\\&quot;0.6\\&quot;,\\&quot;0.7\\&quot;,\\&quot;0.8\\&quot;,\\&quot;0.9\\&quot;,\\&quot;1.0\\&quot;,\\&quot;1.1\\&quot;,\\&quot;1.2\\&quot;,\\&quot;1.3\\&quot;,\\&quot;1.4\\&quot;,\\&quot;1.5\\&quot;,\\&quot;1.6\\&quot;,\\&quot;1.7\\&quot;,\\&quot;1.8\\&quot;,\\&quot;1.9\\&quot;,\\&quot;2.0\\&quot;,\\&quot;2.1\\&quot;,\\&quot;2.2\\&quot;,\\&quot;2.3\\&quot;,\\&quot;2.4\\&quot;,\\&quot;2.5\\&quot;,\\&quot;2.6\\&quot;,\\&quot;2.7\\&quot;,\\&quot;2.8\\&quot;,\\&quot;2.9\\&quot;,\\&quot;3.0\\&quot;],\\&quot;changes\\&quot;:0,\\&quot;formatted_value\\&quot;:\\&quot;0.5\\&quot;,\\&quot;index\\&quot;:26}&quot;);\n",
       "    var self = this;\n",
       "    function AppViewModel() {\n",
       "        for (var key in json_data) {\n",
       "            var el = json_data[key];\n",
       "            this[key] = Array.isArray(el) ? ko.observableArray(el) : ko.observable(el);\n",
       "        }\n",
       "        \n",
       "        \n",
       "        [this[&quot;formatted_vals&quot;].subscribe((function (val){!(this.valueFromJulia[&quot;formatted_vals&quot;]) ? (WebIO.setval({&quot;name&quot;:&quot;formatted_vals&quot;,&quot;scope&quot;:&quot;knockout-component-30d8008c-bf56-4816-9cfe-cf113579ac33&quot;,&quot;id&quot;:&quot;ob_03&quot;,&quot;type&quot;:&quot;observable&quot;},val)) : undefined; return this.valueFromJulia[&quot;formatted_vals&quot;]=false}),self),this[&quot;changes&quot;].subscribe((function (val){!(this.valueFromJulia[&quot;changes&quot;]) ? (WebIO.setval({&quot;name&quot;:&quot;changes&quot;,&quot;scope&quot;:&quot;knockout-component-30d8008c-bf56-4816-9cfe-cf113579ac33&quot;,&quot;id&quot;:&quot;ob_05&quot;,&quot;type&quot;:&quot;observable&quot;},val)) : undefined; return this.valueFromJulia[&quot;changes&quot;]=false}),self),this[&quot;formatted_value&quot;].subscribe((function (val){!(this.valueFromJulia[&quot;formatted_value&quot;]) ? (WebIO.setval({&quot;name&quot;:&quot;formatted_value&quot;,&quot;scope&quot;:&quot;knockout-component-30d8008c-bf56-4816-9cfe-cf113579ac33&quot;,&quot;id&quot;:&quot;ob_04&quot;,&quot;type&quot;:&quot;observable&quot;},val)) : undefined; return this.valueFromJulia[&quot;formatted_value&quot;]=false}),self),this[&quot;index&quot;].subscribe((function (val){!(this.valueFromJulia[&quot;index&quot;]) ? (WebIO.setval({&quot;name&quot;:&quot;index&quot;,&quot;scope&quot;:&quot;knockout-component-30d8008c-bf56-4816-9cfe-cf113579ac33&quot;,&quot;id&quot;:&quot;ob_02&quot;,&quot;type&quot;:&quot;observable&quot;},val)) : undefined; return this.valueFromJulia[&quot;index&quot;]=false}),self)]\n",
       "        \n",
       "    }\n",
       "    self.model = new AppViewModel();\n",
       "    self.valueFromJulia = {};\n",
       "    for (var key in json_data) {\n",
       "        self.valueFromJulia[key] = false;\n",
       "    }\n",
       "    ko.applyBindings(self.model, self.dom);\n",
       "}\n",
       "]},&quot;changes&quot;:[(function (val){return (val!=this.model[&quot;changes&quot;]()) ? (this.valueFromJulia[&quot;changes&quot;]=true, this.model[&quot;changes&quot;](val)) : undefined})],&quot;formatted_value&quot;:[(function (val){return (val!=this.model[&quot;formatted_value&quot;]()) ? (this.valueFromJulia[&quot;formatted_value&quot;]=true, this.model[&quot;formatted_value&quot;](val)) : undefined})],&quot;index&quot;:[(function (val){return (val!=this.model[&quot;index&quot;]()) ? (this.valueFromJulia[&quot;index&quot;]=true, this.model[&quot;index&quot;](val)) : undefined}),(function (val){return WebIO.setval({&quot;name&quot;:&quot;formatted_value&quot;,&quot;scope&quot;:&quot;knockout-component-30d8008c-bf56-4816-9cfe-cf113579ac33&quot;,&quot;id&quot;:&quot;ob_04&quot;,&quot;type&quot;:&quot;observable&quot;},WebIO.getval({&quot;name&quot;:&quot;formatted_vals&quot;,&quot;scope&quot;:&quot;knockout-component-30d8008c-bf56-4816-9cfe-cf113579ac33&quot;,&quot;id&quot;:&quot;ob_03&quot;,&quot;type&quot;:&quot;observable&quot;})[(WebIO.getval({&quot;name&quot;:&quot;index&quot;,&quot;scope&quot;:&quot;knockout-component-30d8008c-bf56-4816-9cfe-cf113579ac33&quot;,&quot;id&quot;:&quot;ob_02&quot;,&quot;type&quot;:&quot;observable&quot;})-1)])})]},&quot;systemjs_options&quot;:null,&quot;observables&quot;:{&quot;formatted_vals&quot;:{&quot;sync&quot;:false,&quot;id&quot;:&quot;ob_03&quot;,&quot;value&quot;:[&quot;-2.0&quot;,&quot;-1.9&quot;,&quot;-1.8&quot;,&quot;-1.7&quot;,&quot;-1.6&quot;,&quot;-1.5&quot;,&quot;-1.4&quot;,&quot;-1.3&quot;,&quot;-1.2&quot;,&quot;-1.1&quot;,&quot;-1.0&quot;,&quot;-0.9&quot;,&quot;-0.8&quot;,&quot;-0.7&quot;,&quot;-0.6&quot;,&quot;-0.5&quot;,&quot;-0.4&quot;,&quot;-0.3&quot;,&quot;-0.2&quot;,&quot;-0.1&quot;,&quot;0.0&quot;,&quot;0.1&quot;,&quot;0.2&quot;,&quot;0.3&quot;,&quot;0.4&quot;,&quot;0.5&quot;,&quot;0.6&quot;,&quot;0.7&quot;,&quot;0.8&quot;,&quot;0.9&quot;,&quot;1.0&quot;,&quot;1.1&quot;,&quot;1.2&quot;,&quot;1.3&quot;,&quot;1.4&quot;,&quot;1.5&quot;,&quot;1.6&quot;,&quot;1.7&quot;,&quot;1.8&quot;,&quot;1.9&quot;,&quot;2.0&quot;,&quot;2.1&quot;,&quot;2.2&quot;,&quot;2.3&quot;,&quot;2.4&quot;,&quot;2.5&quot;,&quot;2.6&quot;,&quot;2.7&quot;,&quot;2.8&quot;,&quot;2.9&quot;,&quot;3.0&quot;]},&quot;changes&quot;:{&quot;sync&quot;:false,&quot;id&quot;:&quot;ob_05&quot;,&quot;value&quot;:0},&quot;formatted_value&quot;:{&quot;sync&quot;:false,&quot;id&quot;:&quot;ob_04&quot;,&quot;value&quot;:&quot;0.5&quot;},&quot;index&quot;:{&quot;sync&quot;:true,&quot;id&quot;:&quot;ob_02&quot;,&quot;value&quot;:26}}},&quot;children&quot;:[{&quot;props&quot;:{&quot;attributes&quot;:{&quot;class&quot;:&quot;interact-flex-row&quot;}},&quot;nodeType&quot;:&quot;DOM&quot;,&quot;type&quot;:&quot;node&quot;,&quot;instanceArgs&quot;:{&quot;namespace&quot;:&quot;html&quot;,&quot;tag&quot;:&quot;div&quot;},&quot;children&quot;:[{&quot;props&quot;:{&quot;attributes&quot;:{&quot;class&quot;:&quot;interact-flex-row-left&quot;}},&quot;nodeType&quot;:&quot;DOM&quot;,&quot;type&quot;:&quot;node&quot;,&quot;instanceArgs&quot;:{&quot;namespace&quot;:&quot;html&quot;,&quot;tag&quot;:&quot;div&quot;},&quot;children&quot;:[{&quot;props&quot;:{&quot;className&quot;:&quot;interact &quot;,&quot;style&quot;:{&quot;padding&quot;:&quot;5px 10px 0px 10px&quot;}},&quot;nodeType&quot;:&quot;DOM&quot;,&quot;type&quot;:&quot;node&quot;,&quot;instanceArgs&quot;:{&quot;namespace&quot;:&quot;html&quot;,&quot;tag&quot;:&quot;label&quot;},&quot;children&quot;:[&quot;x&quot;]}]},{&quot;props&quot;:{&quot;attributes&quot;:{&quot;class&quot;:&quot;interact-flex-row-center&quot;}},&quot;nodeType&quot;:&quot;DOM&quot;,&quot;type&quot;:&quot;node&quot;,&quot;instanceArgs&quot;:{&quot;namespace&quot;:&quot;html&quot;,&quot;tag&quot;:&quot;div&quot;},&quot;children&quot;:[{&quot;props&quot;:{&quot;max&quot;:51,&quot;min&quot;:1,&quot;attributes&quot;:{&quot;type&quot;:&quot;range&quot;,&quot;data-bind&quot;:&quot;numericValue: index, valueUpdate: &#39;input&#39;, event: {change : function () {this.changes(this.changes()+1)}}&quot;,&quot;orient&quot;:&quot;horizontal&quot;},&quot;step&quot;:1,&quot;className&quot;:&quot;slider slider is-fullwidth&quot;,&quot;style&quot;:{}},&quot;nodeType&quot;:&quot;DOM&quot;,&quot;type&quot;:&quot;node&quot;,&quot;instanceArgs&quot;:{&quot;namespace&quot;:&quot;html&quot;,&quot;tag&quot;:&quot;input&quot;},&quot;children&quot;:[]}]},{&quot;props&quot;:{&quot;attributes&quot;:{&quot;class&quot;:&quot;interact-flex-row-right&quot;}},&quot;nodeType&quot;:&quot;DOM&quot;,&quot;type&quot;:&quot;node&quot;,&quot;instanceArgs&quot;:{&quot;namespace&quot;:&quot;html&quot;,&quot;tag&quot;:&quot;div&quot;},&quot;children&quot;:[{&quot;props&quot;:{&quot;attributes&quot;:{&quot;data-bind&quot;:&quot;text: formatted_value&quot;}},&quot;nodeType&quot;:&quot;DOM&quot;,&quot;type&quot;:&quot;node&quot;,&quot;instanceArgs&quot;:{&quot;namespace&quot;:&quot;html&quot;,&quot;tag&quot;:&quot;p&quot;},&quot;children&quot;:[]}]}]}]}]},{&quot;props&quot;:{},&quot;nodeType&quot;:&quot;Scope&quot;,&quot;type&quot;:&quot;node&quot;,&quot;instanceArgs&quot;:{&quot;imports&quot;:{&quot;data&quot;:[],&quot;type&quot;:&quot;async_block&quot;},&quot;id&quot;:&quot;scope-d3f67043-9dd8-45a9-baa9-1c47877330d6&quot;,&quot;handlers&quot;:{&quot;obs-output&quot;:[function (updated_htmlstr) {\n",
       "    var el = this.dom.querySelector(&quot;#out&quot;);\n",
       "    WebIO.propUtils.setInnerHtml(el, updated_htmlstr);\n",
       "}]},&quot;systemjs_options&quot;:null,&quot;observables&quot;:{&quot;obs-output&quot;:{&quot;sync&quot;:false,&quot;id&quot;:&quot;ob_08&quot;,&quot;value&quot;:&quot;&lt;div class=&#39;display:none&#39;&gt;&lt;/div&gt;&lt;unsafe-script style=&#39;display:none&#39;&gt;\\nWebIO.mount(this.previousSibling,{&amp;quot;props&amp;quot;:{&amp;quot;attributes&amp;quot;:{&amp;quot;class&amp;quot;:&amp;quot;interact-flex-row&amp;quot;}},&amp;quot;nodeType&amp;quot;:&amp;quot;DOM&amp;quot;,&amp;quot;type&amp;quot;:&amp;quot;node&amp;quot;,&amp;quot;instanceArgs&amp;quot;:{&amp;quot;namespace&amp;quot;:&amp;quot;html&amp;quot;,&amp;quot;tag&amp;quot;:&amp;quot;div&amp;quot;},&amp;quot;children&amp;quot;:[{&amp;quot;props&amp;quot;:{&amp;quot;setInnerHtml&amp;quot;:&amp;quot;&amp;lt;img src=&amp;#39;data:image/png;base64,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&amp;#39;&amp;gt;&amp;lt;/img&amp;gt;&amp;quot;},&amp;quot;nodeType&amp;quot;:&amp;quot;DOM&amp;quot;,&amp;quot;type&amp;quot;:&amp;quot;node&amp;quot;,&amp;quot;instanceArgs&amp;quot;:{&amp;quot;namespace&amp;quot;:&amp;quot;html&amp;quot;,&amp;quot;tag&amp;quot;:&amp;quot;div&amp;quot;},&amp;quot;children&amp;quot;:[]}]})&lt;/unsafe-script&gt;&quot;}}},&quot;children&quot;:[{&quot;props&quot;:{&quot;id&quot;:&quot;out&quot;,&quot;setInnerHtml&quot;:&quot;&lt;div class=&#39;display:none&#39;&gt;&lt;/div&gt;&lt;unsafe-script style=&#39;display:none&#39;&gt;\\nWebIO.mount(this.previousSibling,{&amp;quot;props&amp;quot;:{&amp;quot;attributes&amp;quot;:{&amp;quot;class&amp;quot;:&amp;quot;interact-flex-row&amp;quot;}},&amp;quot;nodeType&amp;quot;:&amp;quot;DOM&amp;quot;,&amp;quot;type&amp;quot;:&amp;quot;node&amp;quot;,&amp;quot;instanceArgs&amp;quot;:{&amp;quot;namespace&amp;quot;:&amp;quot;html&amp;quot;,&amp;quot;tag&amp;quot;:&amp;quot;div&amp;quot;},&amp;quot;children&amp;quot;:[{&amp;quot;props&amp;quot;:{&amp;quot;setInnerHtml&amp;quot;:&amp;quot;&amp;lt;img src=&amp;#39;data:image/png;base64,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&amp;#39;&amp;gt;&amp;lt;/img&amp;gt;&amp;quot;},&amp;quot;nodeType&amp;quot;:&amp;quot;DOM&amp;quot;,&amp;quot;type&amp;quot;:&amp;quot;node&amp;quot;,&amp;quot;instanceArgs&amp;quot;:{&amp;quot;namespace&amp;quot;:&amp;quot;html&amp;quot;,&amp;quot;tag&amp;quot;:&amp;quot;div&amp;quot;},&amp;quot;children&amp;quot;:[]}]})&lt;/unsafe-script&gt;&quot;},&quot;nodeType&quot;:&quot;DOM&quot;,&quot;type&quot;:&quot;node&quot;,&quot;instanceArgs&quot;:{&quot;namespace&quot;:&quot;html&quot;,&quot;tag&quot;:&quot;div&quot;},&quot;children&quot;:[]}]}]})</unsafe-script>\n",
       "</div>"
      ],
      "text/plain": [
       "Widget{:manipulate,Any}(OrderedDict{Symbol,Any}(:x=>Widget{:slider,Float64}(OrderedDict{Symbol,Any}(:changes=>Observable{Int64} with 1 listeners. Value:\n",
       "0,:index=>Observable{Any} with 2 listeners. Value:\n",
       "26,:formatted_vals=>Observable{Any} with 1 listeners. Value:\n",
       "[\"-2.0\", \"-1.9\", \"-1.8\", \"-1.7\", \"-1.6\", \"-1.5\", \"-1.4\", \"-1.3\", \"-1.2\", \"-1.1\"  …  \"2.1\", \"2.2\", \"2.3\", \"2.4\", \"2.5\", \"2.6\", \"2.7\", \"2.8\", \"2.9\", \"3.0\"],:formatted_value=>Observable{String} with 1 listeners. Value:\n",
       "\"0.5\",:value=>Observable{Float64} with 2 listeners. Value:\n",
       "0.5), Observable{Float64} with 2 listeners. Value:\n",
       "0.5, Scope(\"knockout-component-30d8008c-bf56-4816-9cfe-cf113579ac33\", Node{DOM}(DOM(:html, :div), Any[Node{DOM}(DOM(:html, :div), Any[Node{DOM}(DOM(:html, :label), Any[\"x\"], Dict{Symbol,Any}(:className=>\"interact \",:style=>Dict{Any,Any}(:padding=>\"5px 10px 0px 10px\")), 1)], Dict{Symbol,Any}(:attributes=>Dict(\"class\"=>\"interact-flex-row-left\")), 2), Node{DOM}(DOM(:html, :div), Any[Node{DOM}(DOM(:html, :input), Any[], Dict{Symbol,Any}(:max=>51,:min=>1,:attributes=>Dict{Any,Any}(:type=>\"range\",Symbol(\"data-bind\")=>\"numericValue: index, valueUpdate: 'input', event: {change : function () {this.changes(this.changes()+1)}}\",\"orient\"=>\"horizontal\"),:step=>1,:className=>\"slider slider is-fullwidth\",:style=>Dict{Any,Any}()), 0)], Dict{Symbol,Any}(:attributes=>Dict(\"class\"=>\"interact-flex-row-center\")), 1), Node{DOM}(DOM(:html, :div), Any[Node{DOM}(DOM(:html, :p), Any[], Dict{Symbol,Any}(:attributes=>Dict(\"data-bind\"=>\"text: formatted_value\")), 0)], Dict{Symbol,Any}(:attributes=>Dict(\"class\"=>\"interact-flex-row-right\")), 1)], Dict{Symbol,Any}(:attributes=>Dict(\"class\"=>\"interact-flex-row\")), 7), Dict{String,Tuple{Observables.AbstractObservable,Union{Nothing, Bool}}}(\"formatted_vals\"=>(Observable{Any} with 1 listeners. Value:\n",
       "[\"-2.0\", \"-1.9\", \"-1.8\", \"-1.7\", \"-1.6\", \"-1.5\", \"-1.4\", \"-1.3\", \"-1.2\", \"-1.1\"  …  \"2.1\", \"2.2\", \"2.3\", \"2.4\", \"2.5\", \"2.6\", \"2.7\", \"2.8\", \"2.9\", \"3.0\"], nothing),\"changes\"=>(Observable{Int64} with 1 listeners. Value:\n",
       "0, nothing),\"formatted_value\"=>(Observable{String} with 1 listeners. Value:\n",
       "\"0.5\", nothing),\"index\"=>(Observable{Any} with 2 listeners. Value:\n",
       "26, nothing)), Set(String[]), nothing, Any[\"knockout\"=>\"/Users/bert/.julia/packages/Knockout/JIqpG/src/../assets/knockout.js\", \"knockout_punches\"=>\"/Users/bert/.julia/packages/Knockout/JIqpG/src/../assets/knockout_punches.js\", \"/Users/bert/.julia/packages/InteractBase/3SqBl/src/../assets/all.js\", \"/Users/bert/.julia/packages/InteractBase/3SqBl/src/../assets/style.css\", \"/Users/bert/.julia/packages/InteractBulma/Ohu5Y/src/../assets/main.css\"], Dict{Any,Any}(\"formatted_vals\"=>Any[JSString(\"(function (val){return (val!=this.model[\\\"formatted_vals\\\"]()) ? (this.valueFromJulia[\\\"formatted_vals\\\"]=true, this.model[\\\"formatted_vals\\\"](val)) : undefined})\")],\"_promises\"=>Dict{Any,Any}(\"importsLoaded\"=>Any[JSString(\"function (ko, koPunches) {\\n    ko.punches.enableAll();\\n    ko.bindingHandlers.numericValue = {\\n        init : function(element, valueAccessor, allBindings, data, context) {\\n            var stringified = ko.observable(ko.unwrap(valueAccessor()));\\n            stringified.subscribe(function(value) {\\n                var val = parseFloat(value);\\n                if (!isNaN(val)) {\\n                    valueAccessor()(val);\\n                }\\n            })\\n            valueAccessor().subscribe(function(value) {\\n                var str = JSON.stringify(value);\\n                if ((str == \\\"0\\\") && ([\\\"-0\\\", \\\"-0.\\\"].indexOf(stringified()) >= 0))\\n                     return;\\n                 if ([\\\"null\\\", \\\"\\\"].indexOf(str) >= 0)\\n                     return;\\n                stringified(str);\\n            })\\n            ko.applyBindingsToNode(element, { value: stringified, valueUpdate: allBindings.get('valueUpdate')}, context);\\n        }\\n    };\\n    var json_data = JSON.parse(\\\"{\\\\\\\"formatted_vals\\\\\\\":[\\\\\\\"-2.0\\\\\\\",\\\\\\\"-1.9\\\\\\\",\\\\\\\"-1.8\\\\\\\",\\\\\\\"-1.7\\\\\\\",\\\\\\\"-1.6\\\\\\\",\\\\\\\"-1.5\\\\\\\",\\\\\\\"-1.4\\\\\\\",\\\\\\\"-1.3\\\\\\\",\\\\\\\"-1.2\\\\\\\",\\\\\\\"-1.1\\\\\\\",\\\\\\\"-1.0\\\\\\\",\\\\\\\"-0.9\\\\\\\",\\\\\\\"-0.8\\\\\\\",\\\\\\\"-0.7\\\\\\\",\\\\\\\"-0.6\\\\\\\",\\\\\\\"-0.5\\\\\\\",\\\\\\\"-0.4\\\\\\\",\\\\\\\"-0.3\\\\\\\",\\\\\\\"-0.2\\\\\\\",\\\\\\\"-0.1\\\\\\\",\\\\\\\"0.0\\\\\\\",\\\\\\\"0.1\\\\\\\",\\\\\\\"0.2\\\\\\\",\\\\\\\"0.3\\\\\\\",\\\\\\\"0.4\\\\\\\",\\\\\\\"0.5\\\\\\\",\\\\\\\"0.6\\\\\\\",\\\\\\\"0.7\\\\\\\",\\\\\\\"0.8\\\\\\\",\\\\\\\"0.9\\\\\\\",\\\\\\\"1.0\\\\\\\",\\\\\\\"1.1\\\\\\\",\\\\\\\"1.2\\\\\\\",\\\\\\\"1.3\\\\\\\",\\\\\\\"1.4\\\\\\\",\\\\\\\"1.5\\\\\\\",\\\\\\\"1.6\\\\\\\",\\\\\\\"1.7\\\\\\\",\\\\\\\"1.8\\\\\\\",\\\\\\\"1.9\\\\\\\",\\\\\\\"2.0\\\\\\\",\\\\\\\"2.1\\\\\\\",\\\\\\\"2.2\\\\\\\",\\\\\\\"2.3\\\\\\\",\\\\\\\"2.4\\\\\\\",\\\\\\\"2.5\\\\\\\",\\\\\\\"2.6\\\\\\\",\\\\\\\"2.7\\\\\\\",\\\\\\\"2.8\\\\\\\",\\\\\\\"2.9\\\\\\\",\\\\\\\"3.0\\\\\\\"],\\\\\\\"changes\\\\\\\":0,\\\\\\\"formatted_value\\\\\\\":\\\\\\\"0.5\\\\\\\",\\\\\\\"index\\\\\\\":26}\\\");\\n    var self = this;\\n    function AppViewModel() {\\n        for (var key in json_data) {\\n            var el = json_data[key];\\n            this[key] = Array.isArray(el) ? ko.observableArray(el) : ko.observable(el);\\n        }\\n        \\n        \\n        [this[\\\"formatted_vals\\\"].subscribe((function (val){!(this.valueFromJulia[\\\"formatted_vals\\\"]) ? (WebIO.setval({\\\"name\\\":\\\"formatted_vals\\\",\\\"scope\\\":\\\"knockout-component-30d8008c-bf56-4816-9cfe-cf113579ac33\\\",\\\"id\\\":\\\"ob_03\\\",\\\"type\\\":\\\"observable\\\"},val)) : undefined; return this.valueFromJulia[\\\"formatted_vals\\\"]=false}),self),this[\\\"changes\\\"].subscribe((function (val){!(this.valueFromJulia[\\\"changes\\\"]) ? (WebIO.setval({\\\"name\\\":\\\"changes\\\",\\\"scope\\\":\\\"knockout-component-30d8008c-bf56-4816-9cfe-cf113579ac33\\\",\\\"id\\\":\\\"ob_05\\\",\\\"type\\\":\\\"observable\\\"},val)) : undefined; return this.valueFromJulia[\\\"changes\\\"]=false}),self),this[\\\"formatted_value\\\"].subscribe((function (val){!(this.valueFromJulia[\\\"formatted_value\\\"]) ? (WebIO.setval({\\\"name\\\":\\\"formatted_value\\\",\\\"scope\\\":\\\"knockout-component-30d8008c-bf56-4816-9cfe-cf113579ac33\\\",\\\"id\\\":\\\"ob_04\\\",\\\"type\\\":\\\"observable\\\"},val)) : undefined; return this.valueFromJulia[\\\"formatted_value\\\"]=false}),self),this[\\\"index\\\"].subscribe((function (val){!(this.valueFromJulia[\\\"index\\\"]) ? (WebIO.setval({\\\"name\\\":\\\"index\\\",\\\"scope\\\":\\\"knockout-component-30d8008c-bf56-4816-9cfe-cf113579ac33\\\",\\\"id\\\":\\\"ob_02\\\",\\\"type\\\":\\\"observable\\\"},val)) : undefined; return this.valueFromJulia[\\\"index\\\"]=false}),self)]\\n        \\n    }\\n    self.model = new AppViewModel();\\n    self.valueFromJulia = {};\\n    for (var key in json_data) {\\n        self.valueFromJulia[key] = false;\\n    }\\n    ko.applyBindings(self.model, self.dom);\\n}\\n\")]),\"changes\"=>Any[JSString(\"(function (val){return (val!=this.model[\\\"changes\\\"]()) ? (this.valueFromJulia[\\\"changes\\\"]=true, this.model[\\\"changes\\\"](val)) : undefined})\")],\"formatted_value\"=>Any[JSString(\"(function (val){return (val!=this.model[\\\"formatted_value\\\"]()) ? (this.valueFromJulia[\\\"formatted_value\\\"]=true, this.model[\\\"formatted_value\\\"](val)) : undefined})\")],\"index\"=>Any[JSString(\"(function (val){return (val!=this.model[\\\"index\\\"]()) ? (this.valueFromJulia[\\\"index\\\"]=true, this.model[\\\"index\\\"](val)) : undefined})\"), JSString(\"(function (val){return WebIO.setval({\\\"name\\\":\\\"formatted_value\\\",\\\"scope\\\":\\\"knockout-component-30d8008c-bf56-4816-9cfe-cf113579ac33\\\",\\\"id\\\":\\\"ob_04\\\",\\\"type\\\":\\\"observable\\\"},WebIO.getval({\\\"name\\\":\\\"formatted_vals\\\",\\\"scope\\\":\\\"knockout-component-30d8008c-bf56-4816-9cfe-cf113579ac33\\\",\\\"id\\\":\\\"ob_03\\\",\\\"type\\\":\\\"observable\\\"})[(WebIO.getval({\\\"name\\\":\\\"index\\\",\\\"scope\\\":\\\"knockout-component-30d8008c-bf56-4816-9cfe-cf113579ac33\\\",\\\"id\\\":\\\"ob_02\\\",\\\"type\\\":\\\"observable\\\"})-1)])})\")]), ConnectionPool(Channel{Any}(sz_max:9223372036854775807,sz_curr:4), Set(AbstractConnection[]), Channel{AbstractConnection}(sz_max:32,sz_curr:0))), ##52#53{#dom#15{##dom#13#14{Dict{Any,Any},DOM}},typeof(scope)}(#dom#15{##dom#13#14{Dict{Any,Any},DOM}}(##dom#13#14{Dict{Any,Any},DOM}(Dict{Any,Any}(:className=>\"field\"), DOM(:html, :div))), scope))), Observable{Any} with 0 listeners. Value:\n",
       "Figure(PyObject <Figure size 640x480 with 1 Axes>), nothing, getfield(Main, Symbol(\"##5#8\")){Observable{Any}}(Observable{Any} with 0 listeners. Value:\n",
       "Figure(PyObject <Figure size 640x480 with 1 Axes>)))"
      ]
     },
     "execution_count": 2,
     "metadata": {},
     "output_type": "execute_result"
    }
   ],
   "source": [
    "using Reactive, Interact, PyPlot, Distributions\n",
    "\n",
    "# z = [x; y]\n",
    "μ = [1.; 2.]\n",
    "Σ = [0.3 0.7;\n",
    "     0.7 2.0]\n",
    "joint = MvNormal(μ,Σ)\n",
    "marginal_x = Normal(μ[1], sqrt(Σ[1,1]))\n",
    "\n",
    "#Plot p(x,y)\n",
    "subplot(221)\n",
    "joint_pdf = Matrix{Float64}(undef, 100,100)\n",
    "x_range = range(-2,stop=5,length=100); y_range = range(-2,stop=5,length=100)\n",
    "for i=1:length(x_range)\n",
    "    for j=1:length(y_range)\n",
    "        joint_pdf[j,i] = pdf(joint, [x_range[i];y_range[j]])\n",
    "    end\n",
    "end\n",
    "\n",
    "imshow(joint_pdf, origin=\"lower\", extent=[x_range[1], x_range[end], y_range[1], y_range[end]])\n",
    "grid(); xlabel(\"x\"); ylabel(\"y\"); title(\"p(x,y)\"); tight_layout()\n",
    "\n",
    "# Plot p(x)\n",
    "subplot(222)\n",
    "plot(range(-2,stop=5,length=100), pdf.(marginal_x, range(-2,stop=5,length=100)))\n",
    "grid(); xlabel(\"x\"); ylabel(\"p(x)\"); title(\"Marginal distribution p(x)\"); tight_layout()\n",
    "\n",
    "f = figure()\n",
    "@manipulate for x=-2:0.1:3; withfig(f) do\n",
    "        conditional_y_m = μ[2]+Σ[2,1]*inv(Σ[1,1])*(x-μ[1])\n",
    "        conditional_y_s2 = Σ[2,2] - Σ[2,1]*inv(Σ[1,1])*Σ[1,2]\n",
    "        conditional_y = Normal(conditional_y_m, sqrt.(conditional_y_s2))\n",
    "\n",
    "        # Plot p(y|x)\n",
    "#         subplot(223)\n",
    "        plot(range(-2,stop=5,length=100), pdf.(conditional_y, range(-2,stop=5,length=100)))\n",
    "        grid(); xlabel(\"y\"); ylabel(\"p(y|x)\"); title(\"Conditional distribution p(y|x)\"); tight_layout()\n",
    "    end\n",
    "end"
   ]
  },
  {
   "cell_type": "markdown",
   "metadata": {
    "slideshow": {
     "slide_type": "fragment"
    }
   },
   "source": [
    "As is clear from the plots, the conditional distribution is a renormalized slice from the joint distribution.\n"
   ]
  },
  {
   "cell_type": "markdown",
   "metadata": {
    "slideshow": {
     "slide_type": "slide"
    }
   },
   "source": [
    "### Example: Conditioning of Gaussian\n",
    "\n",
    "- Consider (again) the system \n",
    "\n",
    "$$\\begin{align*}\n",
    "x &= \\theta + \\epsilon \\\\\n",
    "\\theta &\\sim \\mathcal{N}(\\theta|\\mu_\\theta,\\sigma_\\theta^2) \\\\\n",
    "\\epsilon &\\sim \\mathcal{N}(\\epsilon|0,\\sigma^2_{\\epsilon})\n",
    "\\end{align*}$$"
   ]
  },
  {
   "cell_type": "markdown",
   "metadata": {
    "slideshow": {
     "slide_type": "fragment"
    }
   },
   "source": [
    "- This system is equivalent to <span style=\"color:green\">(derive this!)</span>\n",
    "\n",
    "$$\n",
    "p(x,\\theta|\\,\\mu,\\sigma) = \\mathcal{N} \\left( \\begin{bmatrix} x\\\\ \n",
    "  \\theta  \\end{bmatrix} \n",
    "  \\left| \\begin{bmatrix} \\mu_\\theta\\\\ \n",
    "  \\mu_\\theta\\end{bmatrix}, \n",
    "         \\begin{bmatrix} \\sigma_\\theta^2+\\sigma_{\\epsilon}^2  & \\sigma_\\theta^2\\\\ \n",
    "         \\sigma_\\theta^2 &\\sigma_\\theta^2 \n",
    "  \\end{bmatrix} \n",
    "  \\right. \\right)\n",
    "$$"
   ]
  },
  {
   "cell_type": "markdown",
   "metadata": {
    "slideshow": {
     "slide_type": "fragment"
    }
   },
   "source": [
    "- Direct substitution of the rule for Gaussian conditioning leads to <span style=\"color:green\">(derive this yourself!)</span>\n",
    "$$\\begin{align*}\n",
    "p(\\theta|x) &= \\mathcal{N} \\left( \\theta\\,|\\,\\mu_{\\theta|x}, \\sigma_{\\theta|x}^2 \\right)\\,, \\quad\n",
    "\\text{with} \\\\\n",
    "K &= \\frac{\\sigma_\\theta^2}{\\sigma_\\theta^2+\\sigma_{\\epsilon}^2} \\qquad \\text{($K$ is called: Kalman gain)}\\\\\n",
    "\\mu_{\\theta|x} &= \\mu_\\theta + K \\cdot (x-\\mu_\\theta)\\\\\n",
    "\\sigma_{\\theta|x}^2 &= \\left( 1-K \\right) \\sigma_\\theta^2  \n",
    "\\end{align*}$$\n",
    " "
   ]
  },
  {
   "cell_type": "markdown",
   "metadata": {
    "slideshow": {
     "slide_type": "fragment"
    }
   },
   "source": [
    "\n",
    "$\\longrightarrow$ Moral: For jointly Gaussian systems, we can do inference simply in one step by using the formulas for conditioning and marginalization."
   ]
  },
  {
   "cell_type": "markdown",
   "metadata": {
    "slideshow": {
     "slide_type": "slide"
    }
   },
   "source": [
    "### Application: Recursive Bayesian Estimation\n",
    "\n",
    "Now consider the signal $x_t=\\theta+\\epsilon_t$, where $D_t= \\left\\{x_1,\\ldots,x_t\\right\\}$ is observed _sequentially_ (over time).\n",
    "\n",
    "<span style=\"color:blue\">[Question]</span>\n",
    "- Derive a recursive algorithm for $p(\\theta|D_t)$, i.e., an update rule for (posterior) $p(\\theta|D_t)$ based on (prior) $p(\\theta|D_{t-1})$ and (new observation) $x_t$.\n",
    " "
   ]
  },
  {
   "cell_type": "markdown",
   "metadata": {
    "slideshow": {
     "slide_type": "fragment"
    }
   },
   "source": [
    "<span style=\"color:blue\">[Answer]</span> \n",
    "\n",
    "- Let's define the estimate after $t$ observations (i.e., our solution) as $p(\\theta|D_t) = \\mathcal{N}(\\theta\\,|\\,\\mu_t,\\sigma_t^2)$."
   ]
  },
  {
   "cell_type": "markdown",
   "metadata": {
    "slideshow": {
     "slide_type": "fragment"
    }
   },
   "source": [
    "- **Model specification**. We define the joint distribution for $\\theta$ and $x_t$, given background $D_{t-1}$, by\n",
    "$$\\begin{align*} p(x_t,\\theta \\,|\\, D_{t-1}) &= p(x_t|\\theta) \\, p(\\theta|D_{t-1}) \\\\\n",
    "  &= \\underbrace{\\mathcal{N}(x_t\\,|\\, \\theta,\\sigma^2_{\\epsilon})}_{\\text{likelihood}} \\, \\underbrace{\\mathcal{N}(\\theta\\,|\\,\\mu_{t-1},\\sigma_{t-1}^2)}_{\\text{prior}}\n",
    "\\end{align*}$$\n",
    " "
   ]
  },
  {
   "cell_type": "markdown",
   "metadata": {
    "slideshow": {
     "slide_type": "subslide"
    }
   },
   "source": [
    "       \n",
    "- **Inference**. Use Bayes rule,\n",
    "$$\\begin{align*}\n",
    "p(\\theta|D_t) &\\propto p(x_t|\\theta) \\, p(\\theta|D_{t-1}) \\\\\n",
    " &= \\mathcal{N}(x_t|\\theta,\\sigma^2_{\\epsilon}) \\, \\mathcal{N}(\\theta\\,|\\,\\mu_{t-1},\\sigma_{t-1}^2) \\\\\n",
    " &= \\mathcal{N}(\\theta|x_t,\\sigma^2_{\\epsilon}) \\, \\mathcal{N}(\\theta\\,|\\,\\mu_{t-1},\\sigma_{t-1}^2) \\\\\n",
    " &= \\mathcal{N}(\\theta|\\mu_t,\\sigma_t^2)\n",
    "\\end{align*}$$\n",
    "with\n",
    "$$\\begin{align*}\n",
    "K_t &= \\frac{\\sigma_{t-1}^2}{\\sigma_{t-1}^2+\\sigma_{\\epsilon}^2} \\qquad \\text{(Kalman gain)}\\\\\n",
    "\\mu_t &= \\mu_{t-1} + K_t \\cdot (x_t-\\mu_{t-1})\\\\\n",
    "\\sigma_t^2 &= \\left( 1-K_t \\right) \\sigma_{t-1}^2 \n",
    "\\end{align*}$$\n",
    "(as before, we used the formulas for conditioning in a multivariate Gaussian system). "
   ]
  },
  {
   "cell_type": "markdown",
   "metadata": {
    "slideshow": {
     "slide_type": "fragment"
    }
   },
   "source": [
    "- This linear _sequential_ estimator of mean and variance in Gaussian observations is called a **Kalman Filter**.\n",
    "\n",
    "<!--- - The new observation $x_t$ 'updates' the old estimate $\\mu_{t-1}$ by a quantity that is proportional to the _innovation_ (or _residual_)  $\\left( x_t - \\mu_{t-1} \\right)$.\n",
    "---> "
   ]
  },
  {
   "cell_type": "markdown",
   "metadata": {
    "slideshow": {
     "slide_type": "fragment"
    }
   },
   "source": [
    "- Note that the uncertainty about $\\theta$ decreases over time (since $0<(1-K_t)<1$). This makes sense: since we assume that the statistics of the system do not change (stationarity), each new sample provides new information. "
   ]
  },
  {
   "cell_type": "markdown",
   "metadata": {
    "slideshow": {
     "slide_type": "fragment"
    }
   },
   "source": [
    "- Recursive Bayesian estimation is the basis for **adaptive signal processing** algorithms such as Least Mean Squares (LMS) and Recursive Least Squares (RLS). "
   ]
  },
  {
   "cell_type": "markdown",
   "metadata": {
    "slideshow": {
     "slide_type": "slide"
    }
   },
   "source": [
    "#### CODE EXAMPLE\n",
    "\n",
    "Let's implement the Kalman filter described above. We'll use it to recursively estimate the value of $\\theta$ based on noisy observations. Use the 'Step' button to see the recursive updates to the posterior $p(\\theta|D)$."
   ]
  },
  {
   "cell_type": "code",
   "execution_count": 3,
   "metadata": {
    "slideshow": {
     "slide_type": "subslide"
    }
   },
   "outputs": [
    {
     "data": {
      "image/png": "[encoded data removed]",
      "text/plain": [
       "Figure(PyObject <Figure size 640x480 with 1 Axes>)"
      ]
     },
     "metadata": {},
     "output_type": "display_data"
    }
   ],
   "source": [
    "using PyPlot, Reactive, Interact\n",
    "\n",
    "interactive_plot = false  # Set to true to generate an interactive plot with 'step' button\n",
    "N = 50                   # Number of observations\n",
    "θ = 2.0                  # True value of the variable we want to estimate\n",
    "σ_ϵ2 = 0.25              # Observation noise variance\n",
    "x = sqrt(σ_ϵ2) * randn(N) .+ θ # Generate N noisy observations of θ\n",
    "\n",
    "f = figure()\n",
    "global t = 0\n",
    "global μ = fill!(Vector{Float64}(undef,N), NaN)    # Means of p(θ|D) over time\n",
    "global σ_μ2 = fill!(Vector{Float64}(undef,N), NaN) # Variances of p(θ|D) over time\n",
    "\n",
    "function performKalmanStep()\n",
    "    # Perform a Kalman filter step, update t, μ, σ_μ2\n",
    "    global t += 1\n",
    "    if t>1 # Use posterior from prev. step as prior\n",
    "        K = σ_μ2[t-1] / (σ_ϵ2 + σ_μ2[t-1]) # Kalman gain\n",
    "        μ[t] = μ[t-1] + K*(x[t] - μ[t-1])  # Update mean using (1)\n",
    "        σ_μ2[t] = σ_μ2[t-1] * (1.0-K)      # Update variance using (2)\n",
    "    elseif t==1 # Use prior\n",
    "        # Prior p(θ) = N(0,1000)\n",
    "        K = 1000.0 / (σ_ϵ2 + 1000.0) # Kalman gain\n",
    "        μ[t] = 0 + K*(x[t] - 0)      # Update mean using (1)\n",
    "        σ_μ2[t] = 1000 * (1.0-K)     # Update variance using (2)\n",
    "    end\n",
    "end\n",
    "\n",
    "function plotStatus()\n",
    "    # Plot the 'true' value of θ, noisy observations x, and the recursively updated posterior p(θ|D)\n",
    "    t = collect(1:N)\n",
    "    plot(t, θ*ones(N), \"k--\")\n",
    "    plot(t, x, \"rx\")\n",
    "    plot(t, μ, \"b-\")\n",
    "    fill_between(t, μ-sqrt.(σ_μ2), μ+sqrt.(σ_μ2), color=\"b\", alpha=0.3)\n",
    "    legend([L\"\\theta\", L\"x[t]\", L\"\\mu[t]\"])\n",
    "    xlim((1, N)); xlabel(L\"t\"); grid()\n",
    "end\n",
    "\n",
    "if interactive_plot\n",
    "    @manipulate for \n",
    "        perform_step = button(\"Step\");\n",
    "        withfig(f) do\n",
    "            if t<=N\n",
    "                performKalmanStep()\n",
    "                plotStatus()\n",
    "            end\n",
    "        end\n",
    "    end \n",
    "else\n",
    "    while t<N\n",
    "        performKalmanStep()\n",
    "    end\n",
    "    plotStatus()\n",
    "end\n",
    "\n"
   ]
  },
  {
   "cell_type": "markdown",
   "metadata": {
    "slideshow": {
     "slide_type": "fragment"
    }
   },
   "source": [
    "The shaded area represents 2 standard deviations of posterior $p(\\theta|D)$. The variance of the posterior is guaranteed to decrease monotonically for the standard Kalman filter.\n"
   ]
  },
  {
   "cell_type": "markdown",
   "metadata": {
    "slideshow": {
     "slide_type": "slide"
    }
   },
   "source": [
    "### Product of Normally Distributed Variables\n",
    "\n",
    "- (We've seen that) the sum of two Gausssian distributed variables is also Gaussian distributed."
   ]
  },
  {
   "cell_type": "markdown",
   "metadata": {
    "slideshow": {
     "slide_type": "fragment"
    }
   },
   "source": [
    "- Has the _product_ of two Gaussian distributed variables also a Gaussian distribution?"
   ]
  },
  {
   "cell_type": "markdown",
   "metadata": {
    "slideshow": {
     "slide_type": "fragment"
    }
   },
   "source": [
    "- **No**! In general this is a difficult computation. As an example, let's compute $p(z)$ for $Z=XY$ for the special case that $X\\sim \\mathcal{N}(0,1)$ and $Y\\sim \\mathcal{N}(0,1)$.\n",
    "$$\\begin{align*}\n",
    "p(z) &= \\int_{X,Y} p(z|x,y)\\,p(x,y)\\,\\mathrm{d}x\\mathrm{d}y \\\\\n",
    "  &= \\frac{1}{2 \\pi}\\int  \\delta(z-xy) \\, e^{-(x^2+y^2)/2} \\, \\mathrm{d}x\\mathrm{d}y \\\\\n",
    "  &=  \\frac{1}{\\pi} \\int_0^\\infty \\frac{1}{x} e^{-(x^2+z^2/x^2)/2} \\, \\mathrm{d}x \\\\\n",
    "  &= \\frac{1}{\\pi} \\mathrm{K}_0( \\lvert z\\rvert )\\,.\n",
    "\\end{align*}$$\n",
    "where  $\\mathrm{K}_n(z)$ is a [modified Bessel function of the second kind](http://mathworld.wolfram.com/ModifiedBesselFunctionoftheSecondKind.html)."
   ]
  },
  {
   "cell_type": "markdown",
   "metadata": {
    "slideshow": {
     "slide_type": "slide"
    }
   },
   "source": [
    "#### CODE EXAMPLE\n",
    "\n",
    "We plot $p(Z)$ to give an idea of what this distribution looks like."
   ]
  },
  {
   "cell_type": "code",
   "execution_count": 4,
   "metadata": {
    "slideshow": {
     "slide_type": "subslide"
    }
   },
   "outputs": [
    {
     "data": {
      "image/png": "[encoded data removed]",
      "text/plain": [
       "Figure(PyObject <Figure size 640x480 with 1 Axes>)"
      ]
     },
     "metadata": {},
     "output_type": "display_data"
    }
   ],
   "source": [
    "using PyPlot, Distributions, SpecialFunctions\n",
    "X = Normal(0,1)\n",
    "pdf_product_std_normals(z::Vector) = (besselk.(0, abs.(z))./π)\n",
    "range1 = collect(range(-4,stop=4,length=100))\n",
    "plot(range1, pdf.(X, range1))\n",
    "plot(range1, pdf_product_std_normals(range1))\n",
    "legend([L\"p(X)=p(Y)=\\mathcal{N}(0,1)\", L\"p(Z)\"]);"
   ]
  },
  {
   "cell_type": "markdown",
   "metadata": {
    "slideshow": {
     "slide_type": "slide"
    }
   },
   "source": [
    "### Review Gaussians\n",
    "\n",
    "The success of Gaussian distributions in probabilistic modeling is large due to the following properties:"
   ]
  },
  {
   "cell_type": "markdown",
   "metadata": {
    "slideshow": {
     "slide_type": "fragment"
    }
   },
   "source": [
    "- A linear transformation of a Gaussian distributed variable is also Gaussian distributed"
   ]
  },
  {
   "cell_type": "markdown",
   "metadata": {
    "slideshow": {
     "slide_type": "fragment"
    }
   },
   "source": [
    "- The convolution of two Gaussian functions is another Gaussian function (use in sum of 2 variables)"
   ]
  },
  {
   "cell_type": "markdown",
   "metadata": {
    "slideshow": {
     "slide_type": "fragment"
    }
   },
   "source": [
    "- The product of two Gaussian functions is another Gaussian function (use in Bayes rule). "
   ]
  },
  {
   "cell_type": "markdown",
   "metadata": {
    "slideshow": {
     "slide_type": "fragment"
    }
   },
   "source": [
    "- Conditioning and marginalization of multivariate Gaussian distributions produce Gaussians again (use in working with observations and when doing Bayesian predictions)"
   ]
  },
  {
   "cell_type": "markdown",
   "metadata": {
    "slideshow": {
     "slide_type": "fragment"
    }
   },
   "source": [
    "- <span style=\"color:gray\">The Gaussian PDF has higher entropy than any other with the same variance. (Not discussed in this course).</span>\n",
    "\n",
    "- <span style=\"color:gray\">Any smooth function with single rounded maximum, if raised to higher and higher powers, goes into a Gaussian function. (Not discussed).</span>"
   ]
  },
  {
   "cell_type": "markdown",
   "metadata": {
    "slideshow": {
     "slide_type": "slide"
    }
   },
   "source": [
    "### Some Useful Matrix Calculus\n",
    "\n",
    "Aside from working with Gaussians, it will be helpful for the next lessons to be familiar with some matrix calculus. We shortly recapitulate used formulas here. "
   ]
  },
  {
   "cell_type": "markdown",
   "metadata": {
    "slideshow": {
     "slide_type": "fragment"
    }
   },
   "source": [
    "- We define the **gradient** of a scalar function $f(A)$ w.r.t. an $n \\times k$ matrix $A$ as\n",
    "$$\n",
    "\\nabla_A f \\triangleq\n",
    "    \\begin{bmatrix}\n",
    "\\frac{\\partial{f}}{\\partial a_{11}} & \\frac{\\partial{f}}{\\partial a_{12}} & \\cdots & \\frac{\\partial{f}}{\\partial a_{1k}}\\\\\n",
    "\\frac{\\partial{f}}{\\partial a_{21}} & \\frac{\\partial{f}}{\\partial a_{22}} & \\cdots & \\frac{\\partial{f}}{\\partial a_{2k}}\\\\\n",
    "\\vdots & \\vdots & \\cdots & \\vdots\\\\\n",
    "\\frac{\\partial{f}}{\\partial a_{n1}} & \\frac{\\partial{f}}{\\partial a_{n2}} & \\cdots & \\frac{\\partial{f}}{\\partial a_{nk}}\n",
    "    \\end{bmatrix}\n",
    "$$\n",
    " "
   ]
  },
  {
   "cell_type": "markdown",
   "metadata": {
    "slideshow": {
     "slide_type": "fragment"
    }
   },
   "source": [
    "   \n",
    "- The following formulas are useful (see Bishop App.-C)\n",
    "$$\\begin{align*}\n",
    "|A^{-1}|&=|A|^{-1} \\tag{B-C.4} \\\\\n",
    "\\nabla_A \\log |A| &= (A^{T})^{-1} = (A^{-1})^T \\tag{B-C.28} \\\\\n",
    "\\mathrm{Tr}[ABC]&= \\mathrm{Tr}[CAB] = \\mathrm{Tr}[BCA] \\tag{B-C.9} \\\\\n",
    "\\nabla_A \\mathrm{Tr}[AB] &=\\nabla_A \\mathrm{Tr}[BA]= B^T \\tag{B-C.25} \\\\\n",
    "\\nabla_A \\mathrm{Tr}[ABA^T] &= A(B+B^T)  \\tag{B-C.27}\\\\\n",
    " \\nabla_x x^TAx &= (A+A^T)x \\tag{from B-C.27}\\\\\n",
    "\\nabla_X a^TXb &= \\nabla_X \\mathrm{Tr}[ba^TX] = ab^T \\notag\n",
    "\\end{align*}$$"
   ]
  },
  {
   "cell_type": "markdown",
   "metadata": {
    "slideshow": {
     "slide_type": "slide"
    }
   },
   "source": [
    "### What's Next?\n",
    "\n",
    "- We discussed how Bayesian probability theory provides an integrated framework for making predictions based on observed data."
   ]
  },
  {
   "cell_type": "markdown",
   "metadata": {
    "slideshow": {
     "slide_type": "fragment"
    }
   },
   "source": [
    "- The process involves model specification (your main task!), inference and actual model-based prediction."
   ]
  },
  {
   "cell_type": "markdown",
   "metadata": {
    "slideshow": {
     "slide_type": "fragment"
    }
   },
   "source": [
    "- The latter two tasks are only difficult because of computational issues."
   ]
  },
  {
   "cell_type": "markdown",
   "metadata": {
    "slideshow": {
     "slide_type": "fragment"
    }
   },
   "source": [
    "- Maximum likelihood was introduced as a computationally simpler approximation to the Bayesian approach."
   ]
  },
  {
   "cell_type": "markdown",
   "metadata": {
    "slideshow": {
     "slide_type": "fragment"
    }
   },
   "source": [
    "- In particular under some linear Gaussian assumptions, a few interesting models can be designed."
   ]
  },
  {
   "cell_type": "markdown",
   "metadata": {
    "slideshow": {
     "slide_type": "fragment"
    }
   },
   "source": [
    "- The rest of this course (part-1) concerns introduction to these Linear Gaussian models."
   ]
  },
  {
   "cell_type": "code",
   "execution_count": 5,
   "metadata": {
    "slideshow": {
     "slide_type": "skip"
    }
   },
   "outputs": [
    {
     "data": {
      "text/html": [
       "<!--\n",
       "This HTML file contains custom styles and some javascript.\n",
       "Include it a Jupyter notebook for improved rendering.\n",
       "-->\n",
       "\n",
       "<!-- Fonts -->\n",
       "<link href='http://fonts.googleapis.com/css?family=Alegreya+Sans:100,300,400,500,700,800,900,100italic,300italic,400italic,500italic,700italic,800italic,900italic' rel='stylesheet' type='text/css'>\n",
       "<link href='http://fonts.googleapis.com/css?family=Arvo:400,700,400italic' rel='stylesheet' type='text/css'>\n",
       "<link href='http://fonts.googleapis.com/css?family=PT+Mono' rel='stylesheet' type='text/css'>\n",
       "<link href='http://fonts.googleapis.com/css?family=Shadows+Into+Light' rel='stylesheet' type='text/css'>\n",
       "<link href='http://fonts.googleapis.com/css?family=Nixie+One' rel='stylesheet' type='text/css'>\n",
       "\n",
       "<!-- Custom style -->\n",
       "<style>\n",
       "\n",
       "@font-face {\n",
       "    font-family: \"Computer Modern\";\n",
       "    src: url('http://mirrors.ctan.org/fonts/cm-unicode/fonts/otf/cmunss.otf');\n",
       "}\n",
       "\n",
       "#notebook_panel { /* main background */\n",
       "    background: rgb(245,245,245);\n",
       "}\n",
       "\n",
       "div.container {\n",
       "    min-width: 960px;\n",
       "}\n",
       "\n",
       "div #notebook { /* centre the content */\n",
       "    background: #fff; /* white background for content */\n",
       "    margin: auto;\n",
       "    padding-left: 0em;\n",
       "}\n",
       "\n",
       "#notebook li { /* More space between bullet points */\n",
       "    margin-top:0.8em;\n",
       "}\n",
       "\n",
       "/* draw border around running cells */\n",
       "div.cell.border-box-sizing.code_cell.running {\n",
       "    border: 1px solid #111;\n",
       "}\n",
       "\n",
       "/* Put a solid color box around each cell and its output, visually linking them*/\n",
       "div.cell.code_cell {\n",
       "    background-color: rgb(256,256,256);\n",
       "    border-radius: 0px;\n",
       "    padding: 0.5em;\n",
       "    margin-left:1em;\n",
       "    margin-top: 1em;\n",
       "}\n",
       "\n",
       "div.text_cell_render{\n",
       "    font-family: 'Alegreya Sans' sans-serif;\n",
       "    line-height: 140%;\n",
       "    font-size: 125%;\n",
       "    font-weight: 400;\n",
       "    width:800px;\n",
       "    margin-left:auto;\n",
       "    margin-right:auto;\n",
       "}\n",
       "\n",
       "\n",
       "/* Formatting for header cells */\n",
       ".text_cell_render h1 {\n",
       "    font-family: 'Nixie One', serif;\n",
       "    font-style:regular;\n",
       "    font-weight: 400;\n",
       "    font-size: 45pt;\n",
       "    line-height: 100%;\n",
       "    color: rgb(0,51,102);\n",
       "    margin-bottom: 0.5em;\n",
       "    margin-top: 0.5em;\n",
       "    display: block;\n",
       "}\n",
       "\n",
       ".text_cell_render h2 {\n",
       "    font-family: 'Nixie One', serif;\n",
       "    font-weight: 400;\n",
       "    font-size: 30pt;\n",
       "    line-height: 100%;\n",
       "    color: rgb(0,51,102);\n",
       "    margin-bottom: 0.1em;\n",
       "    margin-top: 0.3em;\n",
       "    display: block;\n",
       "}\n",
       "\n",
       ".text_cell_render h3 {\n",
       "    font-family: 'Nixie One', serif;\n",
       "    margin-top:16px;\n",
       "    font-size: 22pt;\n",
       "    font-weight: 600;\n",
       "    margin-bottom: 3px;\n",
       "    font-style: regular;\n",
       "    color: rgb(102,102,0);\n",
       "}\n",
       "\n",
       ".text_cell_render h4 {    /*Use this for captions*/\n",
       "    font-family: 'Nixie One', serif;\n",
       "    font-size: 14pt;\n",
       "    text-align: center;\n",
       "    margin-top: 0em;\n",
       "    margin-bottom: 2em;\n",
       "    font-style: regular;\n",
       "}\n",
       "\n",
       ".text_cell_render h5 {  /*Use this for small titles*/\n",
       "    font-family: 'Nixie One', sans-serif;\n",
       "    font-weight: 400;\n",
       "    font-size: 16pt;\n",
       "    color: rgb(163,0,0);\n",
       "    font-style: italic;\n",
       "    margin-bottom: .1em;\n",
       "    margin-top: 0.8em;\n",
       "    display: block;\n",
       "}\n",
       "\n",
       ".text_cell_render h6 { /*use this for copyright note*/\n",
       "    font-family: 'PT Mono', sans-serif;\n",
       "    font-weight: 300;\n",
       "    font-size: 9pt;\n",
       "    line-height: 100%;\n",
       "    color: grey;\n",
       "    margin-bottom: 1px;\n",
       "    margin-top: 1px;\n",
       "}\n",
       "\n",
       ".CodeMirror{\n",
       "    font-family: \"PT Mono\";\n",
       "    font-size: 90%;\n",
       "}\n",
       "\n",
       ".boxed { /* draw a border around a piece of text */\n",
       "  border: 1px solid blue ;\n",
       "}\n",
       "\n",
       "h4#CODE-EXAMPLE,\n",
       "h4#END-OF-CODE-EXAMPLE {\n",
       "    margin: 10px 0;\n",
       "    padding: 10px;\n",
       "    background-color: #d0f9ca !important;\n",
       "    border-top: #849f81 1px solid;\n",
       "    border-bottom: #849f81 1px solid;\n",
       "}\n",
       "\n",
       ".emphasis {\n",
       "    color: red;\n",
       "}\n",
       "\n",
       ".exercise {\n",
       "    color: green;\n",
       "}\n",
       "\n",
       ".proof {\n",
       "    color: blue;\n",
       "}\n",
       "\n",
       "code {\n",
       "  padding: 2px 4px !important;\n",
       "  font-size: 90% !important;\n",
       "  color: #222 !important;\n",
       "  background-color: #efefef !important;\n",
       "  border-radius: 2px !important;\n",
       "}\n",
       "\n",
       "/* This removes the actual style cells from the notebooks, but no in print mode\n",
       "   as they will be removed through some other method */\n",
       "@media not print {\n",
       "  .cell:nth-last-child(-n+2) {\n",
       "    display: none;\n",
       "  }\n",
       "}\n",
       "\n",
       "footer.hidden-print {\n",
       "    display: none !important;\n",
       "}\n",
       "    \n",
       "</style>\n",
       "\n",
       "<!-- MathJax styling -->\n",
       "<script>\n",
       "    MathJax.Hub.Config({\n",
       "                        TeX: {\n",
       "                           extensions: [\"AMSmath.js\"],\n",
       "                           equationNumbers: { autoNumber: \"AMS\", useLabelIds: true}\n",
       "                           },\n",
       "                tex2jax: {\n",
       "                    inlineMath: [ ['$','$'], [\"\\\\(\",\"\\\\)\"] ],\n",
       "                    displayMath: [ ['$$','$$'], [\"\\\\[\",\"\\\\]\"] ]\n",
       "                },\n",
       "                displayAlign: 'center', // Change this to 'center' to center equations.\n",
       "                \"HTML-CSS\": {\n",
       "                    styles: {'.MathJax_Display': {\"margin\": 4}}\n",
       "                }\n",
       "        });\n",
       "</script>\n"
      ]
     },
     "metadata": {},
     "output_type": "display_data"
    }
   ],
   "source": [
    "open(\"../../styles/aipstyle.html\") do f\n",
    "    display(\"text/html\", read(f, String))\n",
    "end"
   ]
  },
  {
   "cell_type": "code",
   "execution_count": null,
   "metadata": {},
   "outputs": [],
   "source": []
  }
 ],
 "metadata": {
  "@webio": {
   "lastCommId": "28b2cce9fe2c4608810427288c6c6e0a",
   "lastKernelId": "11552e6c-9ed2-4354-8bae-4918120a66e2"
  },
  "anaconda-cloud": {},
  "celltoolbar": "Slideshow",
  "kernelspec": {
   "display_name": "Julia 1.0.0",
   "language": "julia",
   "name": "julia-1.0"
  },
  "language_info": {
   "file_extension": ".jl",
   "mimetype": "application/julia",
   "name": "julia",
   "version": "1.0.2"
  },
  "widgets": {
   "state": {
    "3e8b6f2f-6500-4ec7-963f-2db519e88817": {
     "views": [
      {
       "cell_index": 11
      }
     ]
    }
   },
   "version": "1.2.0"
  }
 },
 "nbformat": 4,
 "nbformat_minor": 1
}
