{
 "cells": [
  {
   "cell_type": "markdown",
   "metadata": {
    "slideshow": {
     "slide_type": "slide"
    }
   },
   "source": [
    "Working with Gaussians\n",
    "======="
   ]
  },
  {
   "cell_type": "markdown",
   "metadata": {
    "slideshow": {
     "slide_type": "slide"
    }
   },
   "source": [
    "### Preliminaries\n",
    "\n",
    "- Goal \n",
    "  - Review of processing of Gaussian distributions in linear systems\n",
    "- Materials        \n",
    "  - Mandatory\n",
    "    - These lecture notes\n",
    "  - Optional\n",
    "    - Bishop pp. 85-93       \n",
    "    - [MacKay - 2006 - The Humble Gaussian Distribution](./files/Mackay-2006-The-humble-Gaussian-distribution.pdf) (highly recommended!)\n"
   ]
  },
  {
   "cell_type": "markdown",
   "metadata": {
    "slideshow": {
     "slide_type": "slide"
    }
   },
   "source": [
    "\n",
    "### Sums and Transformations of Gaussian Variables\n",
    "\n",
    "- The Gaussian distribution\n",
    "$$\n",
    "\\mathcal{N}(x|\\mu,\\Sigma) = |2 \\pi \\Sigma |^{-\\frac{1}{2}} \\,\\mathrm{exp}\\left\\{-\\frac{1}{2}(x-\\mu)^T \\Sigma^{-1} (x-\\mu) \\right\\}\n",
    "$$\n",
    "for variable $x$ is completely specified by its mean $\\mu$ and variance $\\Sigma$. \n",
    "  - $\\Lambda = \\Sigma^{-1}$ is called the **precision matrix**.\n",
    "\n",
    "- A **linear transformation** $z=Ax+b$ of a Gaussian variable $\\mathcal{N}(x|\\mu,\\Sigma)$ is Gaussian distributed as\n",
    "\n",
    "$$\n",
    "p(z) = \\mathcal{N} \\left(z \\,|\\, A\\mu+b, A\\Sigma A^T \\right) \\tag{SRG-4a}\n",
    "$$\n",
    "\n",
    "- The **sum of two independent Gaussian variables** is also Gaussian distributed. Specifically, if $x \\sim \\mathcal{N} \\left(x|\\mu_x, \\Sigma_x \\right)$ and $y \\sim \\mathcal{N} \\left(y|\\mu_y, \\Sigma_y \\right)$, then the PDF for $z=x+y$ is given by\n",
    "$$\\begin{align}\n",
    "p(z) &= \\mathcal{N}(x\\,|\\,\\mu_x,\\Sigma_x) \\ast \\mathcal{N}(y\\,|\\,\\mu_y,\\Sigma_y) \\notag\\\\\n",
    "  &= \\mathcal{N} \\left(z\\,|\\,\\mu_x+\\mu_y, \\Sigma_x +\\Sigma_y \\right) \\tag{SRG-8}\n",
    "\\end{align}$$\n",
    "  - <span style=\"color:green\">[Exercise]</span>: Show that Eq.SRG-8 is really a special case of Eq.SRG-4a. \n",
    "  - The sum of two Gaussian _distributions_ is NOT a Gaussian distribution. Why not?"
   ]
  },
  {
   "cell_type": "markdown",
   "metadata": {
    "slideshow": {
     "slide_type": "slide"
    }
   },
   "source": [
    "### Example: Gaussian Signals in a Linear System\n",
    "\n",
    "<img src=\"./figures/fig-linear-system.png\" width=\"300px\">\n",
    "\n",
    "- <span style=\"color:blue\">[Q.]</span>: Given independent variables\n",
    "$x \\sim \\mathcal{N}(\\mu_x,\\sigma_y)$ and $y \\sim \\mathcal{N}(\\mu_y,\\sigma_y)$, what is the PDF for $z = A\\cdot(x -y) + b$ ?\n",
    "\n",
    "- <span style=\"color:blue\">[A.]</span>: $z$ is also Gaussian with \n",
    "$$\n",
    "p_z(z) = \\mathcal{N}(z|A(\\mu_x-\\mu_y)+b, \\, A(\\sigma_x \\mathbf{+} \\sigma_y)A^T)\n",
    "$$\n",
    "\n",
    "\n",
    "- Think about the role of the Gaussian distribution for stochastic linear systems in relation to what sinusoidals mean for deterministic linear system analysis.\n"
   ]
  },
  {
   "cell_type": "markdown",
   "metadata": {
    "slideshow": {
     "slide_type": "slide"
    }
   },
   "source": [
    "### Example: Bayesian Estimation of a Constant\n",
    "\n",
    "<span style=\"color:blue\">[Question]</span>\n",
    "\n",
    "\n",
    "- Estimate a constant $\\theta$ from one 'noisy' measurement $x$ about that constant. Assume the following model specification (the tilde $\\sim$ means: 'is distributed as'):\n",
    "     \n",
    "$$\\begin{align*}\n",
    "x &= \\theta + \\epsilon \\\\\n",
    "\\theta &\\sim \\mathcal{N}(\\mu_\\theta,\\sigma_\\theta^2) \\\\\n",
    "\\epsilon &\\sim \\mathcal{N}(0,\\sigma^2_{\\epsilon})\n",
    "\\end{align*}$$\n",
    "\n",
    "  \n",
    "<span style=\"color:blue\">[Answer]</span>\n",
    "\n",
    "1. **Model specification**\n",
    "Note that you can rewrite these specifications in probabilistic notation as follows:\n",
    "$$\\begin{align}\n",
    "    p(x|\\theta) &=\\mathcal{N}(x|\\theta,\\sigma^2_{\\epsilon}) \\tag{likelihood}\\\\\n",
    "    p(\\theta) &=\\mathcal{N}(\\theta|\\mu_\\theta,\\sigma_\\theta^2) \\tag{prior}\n",
    "\\end{align}$$\n",
    "2. **Inference** for the posterior PDF $p(\\theta|x)$\n",
    "$$\\begin{align*}\n",
    "p(\\theta|x)  &= \\frac{p(x|\\theta)p(\\theta)}{p(x)} = \\frac{p(x|\\theta)p(\\theta)} { \\int p(x|\\theta)p(\\theta) \\, \\mathrm{d}\\theta } \\notag \\\\\n",
    "    &= \\frac{1}{C} \\,\\mathcal{N}(x|\\theta,\\sigma^2_{\\epsilon})\\, \\mathcal{N}(\\theta|\\mu_\\theta,\\sigma_\\theta^2) \\notag \\\\\n",
    "    &= \\frac{1}{C_1} \\mathrm{exp} \\left\\{ -\\frac{(x-\\theta)^2}{2\\sigma^2_{\\epsilon}} - \\frac{(\\theta-\\mu_\\theta)^2}{2\\sigma_\\theta^2} \\right\\} \\notag \\\\\n",
    "    &= \\frac{1}{C_1} \\mathrm{exp} \\left\\{ \\theta^2\\left( -\\frac{1}{2\\sigma^2_{\\epsilon}} - \\frac{1}{2\\sigma_\\theta^2} \\right) + \\theta \\left( \\frac{x}{\\sigma^2_{\\epsilon}} + \\frac{\\mu_\\theta}{\\sigma_\\theta^2} \\right) +  C_2 \\right\\} \\notag \\\\\n",
    "    &= \\frac{1}{C_1} \\mathrm{exp} \\left\\{ -\\frac{\\sigma_\\theta^2 + \\sigma^2_{\\epsilon}}{2\\sigma_\\theta^2 \\sigma^2_{\\epsilon}} \\left( \\theta - \\frac{x\\sigma_\\theta^2 + \\mu_s\\sigma^2_{\\epsilon}}{\\sigma_\\theta^2 + \\sigma^2_{\\epsilon}} \\right)^2 + C_3  \\right\\}\n",
    "\\end{align*}$$\n",
    "which we recognize as a Gaussian distribution.\n",
    "  - This computational 'trick' for multiplying two Gaussians is called **completing the square**. The procedure makes use of the equality $$ax^2+bx+c_1 = a\\left(x+\\frac{b}{2a}\\right)^2+c_2$$\n",
    "  \n",
    "  \n",
    "  \n",
    "- Hence, it follows that the posterior for $\\theta$ is\n",
    "$$\\begin{equation*}\n",
    "    p(\\theta|x) = \\mathcal{N} (\\theta |\\, \\mu_{\\theta|x}, \\sigma_{\\theta|x}^2)\n",
    "\\end{equation*}$$\n",
    "where\n",
    "$$\\begin{align*}\n",
    "  \\sigma_{\\theta|x}^2  &= \\frac{\\sigma^2_{\\epsilon}\\sigma_\\theta^2}{\\sigma^2_{\\epsilon} + \\sigma_\\theta^2} = \\left( \\frac{1}{\\sigma_\\theta^2} + \\frac{1}{\\sigma^2_{\\epsilon}}\\right)^{-1} \\\\\n",
    "  \\mu_{\\theta|x}   &= \\sigma_{\\theta|x}^2 \\, \\left( \\frac{1}{\\sigma^2_{\\epsilon}}x + \\frac{1}{\\sigma_\\theta^2} \\mu_\\theta \\right) \n",
    "\\end{align*}$$\n",
    "\n",
    "- So, multiplication of two Gaussians yields another (unnormalized) Gaussian."
   ]
  },
  {
   "cell_type": "markdown",
   "metadata": {
    "slideshow": {
     "slide_type": "slide"
    }
   },
   "source": [
    "#### CODE EXAMPLE\n",
    "\n",
    "Let's plot the exact product of two Gaussian PDFs as well as the normalized product according to the above derivation."
   ]
  },
  {
   "cell_type": "code",
   "execution_count": 25,
   "metadata": {
    "slideshow": {
     "slide_type": "subslide"
    }
   },
   "outputs": [
    {
     "data": {
      "image/png": "[encoded data removed]",
      "text/plain": [
       "PyPlot.Figure(PyObject <matplotlib.figure.Figure object at 0x136cdf610>)"
      ]
     },
     "metadata": {},
     "output_type": "display_data"
    }
   ],
   "source": [
    "using PyPlot, Distributions\n",
    "d1 = Normal(0, 1) # μ=0, σ^2=1\n",
    "d2 = Normal(3, 2) # μ=3, σ^2=4\n",
    "\n",
    "# Calculate the parameters of the product d1*d2\n",
    "s2_prod = (d1.σ^-2 + d2.σ^-2)^-1\n",
    "m_prod = s2_prod * ((d1.σ^-2)*d1.μ + (d2.σ^-2)*d2.μ)\n",
    "d_prod = Normal(m_prod, sqrt(s2_prod)) # Note that we neglect the normalization constant.\n",
    "\n",
    "# Plot stuff\n",
    "x = linspace(-4, 8, 100)\n",
    "plot(x, pdf.(d1,x), \"k\")\n",
    "plot(x, pdf.(d2,x), \"b\")\n",
    "plot(x, pdf.(d1,x) .* pdf.(d2,x), \"r-\") # Plot the exact product\n",
    "plot(x, pdf.(d_prod,x), \"r:\")          # Plot the normalized Gaussian product\n",
    "legend([L\"\\mathcal{N}(0,1)\", \n",
    "        L\"\\mathcal{N}(3,4)\", \n",
    "        L\"\\mathcal{N}(0,1) \\mathcal{N}(3,4)\", \n",
    "        L\"Z^{-1} \\mathcal{N}(0,1) \\mathcal{N}(3,4)\"]);"
   ]
  },
  {
   "cell_type": "markdown",
   "metadata": {
    "slideshow": {
     "slide_type": "subslide"
    }
   },
   "source": [
    "The solid and dotted red curves are identical up to a scaling factor $Z$.\n",
    "\n",
    "#### END OF CODE EXAMPLE"
   ]
  },
  {
   "cell_type": "markdown",
   "metadata": {
    "slideshow": {
     "slide_type": "slide"
    }
   },
   "source": [
    "### Multivariate Gaussian Multiplication\n",
    "\n",
    "- In general, the multiplication of two multi-variate Gaussians yields an (unnormalized) Gaussian, see [SRG-6]:\n",
    "$$\\begin{equation*}\n",
    "\\mathcal{N}(x|\\mu_a,\\Sigma_a) \\cdot \\mathcal{N}(x|\\mu_b,\\Sigma_b) = \\alpha \\cdot \\mathcal{N}(x|\\mu_c,\\Sigma_c)\n",
    "\\end{equation*}$$\n",
    "where\n",
    "$$\\begin{align*}\n",
    "\\Sigma_c &= \\left( \\Sigma_a^{-1} + \\Sigma_b^{-1} \\right)^{-1}\\\\\n",
    "\\mu_c &= \\Sigma_c \\left( \\Sigma_a^{-1}\\mu_a + \\Sigma_b^{-1}\\mu_b\\right)\n",
    "\\end{align*}$$\n",
    "and normalization constant $\\alpha = \\mathcal{N}(\\mu_a|\\, \\mu_b, \\Sigma_a + \\Sigma_b)$.\n",
    "\n",
    "- If we define the **precision** as $\\Lambda \\equiv \\Sigma^{-1}$, then we see that **precisions add** and **precision-weighted means add** too.\n",
    "\n",
    "- As we just saw, great application to Bayesian inference!\n",
    "\n",
    "$$\\begin{equation*}\n",
    "\\underbrace{\\text{Gaussian}}_{\\text{posterior}}\n",
    " \\propto \\underbrace{\\text{Gaussian}}_{\\text{likelihood}} \\times \\underbrace{\\text{Gaussian}}_{\\text{prior}}\n",
    "\\end{equation*}$$\n"
   ]
  },
  {
   "cell_type": "markdown",
   "metadata": {
    "slideshow": {
     "slide_type": "slide"
    }
   },
   "source": [
    "### Conditioning and Marginalization of a Gaussian\n",
    "\n",
    "Let $z = \\begin{bmatrix} x \\\\ y \\end{bmatrix}$ be jointly normal distributed as\n",
    "\n",
    "$$\\begin{align*}\n",
    "p(z) &= \\mathcal{N}(z | \\mu, \\Sigma) \\\\\n",
    "  &=\\mathcal{N} \\left( \\begin{bmatrix} x \\\\ y \\end{bmatrix} \\left| \\begin{bmatrix} \\mu_x \\\\ \\mu_y \\end{bmatrix}, \n",
    "  \\begin{bmatrix} \\Sigma_x & \\Sigma_{xy} \\\\ \\Sigma_{yx} & \\Sigma_y \\end{bmatrix} \\right. \\right)\n",
    "\\end{align*}$$\n",
    "\n",
    "- Since covariance matrices are by definition symmetric, it follows that $\\Sigma_x$ and $\\Sigma_y$ are symmetric and $\\Sigma_{xy} = \\Sigma_{yx}^T$.\n",
    "\n",
    "- Let's factorize $p(x,y)$ into $p(y|x)\\, p(x)$ through conditioning and marginalization (proof in Bishop pp.87-89)\n",
    "\n",
    "- **Marginalization**\n",
    "$$\n",
    "p(x) = \\int p(x,y)\\,\\mathrm{d}y = \\mathcal{N}\\left( x|\\mu_x, \\Sigma_x \\right)\n",
    "$$\n",
    "\n",
    "- **Conditioning**\n",
    "$$\\begin{align*}\n",
    "p(y|x) &= p(x,y)/p(x) \\\\\n",
    " &= \\mathcal{N}\\left(y|\\mu_y + \\Sigma_{yx}\\Sigma_x^{-1}(x-\\mu_x),\\, \\Sigma_y - \\Sigma_{yx}\\Sigma_x^{-1}\\Sigma_{xy} \\right)\n",
    "\\end{align*}$$\n",
    "\n",
    "- Useful for applications to Bayesian inference in jointly Gaussian systems.\n",
    "\n",
    "\n"
   ]
  },
  {
   "cell_type": "markdown",
   "metadata": {
    "slideshow": {
     "slide_type": "slide"
    }
   },
   "source": [
    "#### CODE EXAMPLE\n",
    "\n",
    "Interactive plot of the joint, marginal, and conditional distributions."
   ]
  },
  {
   "cell_type": "code",
   "execution_count": 26,
   "metadata": {
    "slideshow": {
     "slide_type": "subslide"
    }
   },
   "outputs": [
    {
     "ename": "LoadError",
     "evalue": "\u001b[91mMethodError: no method matching pdf(::Distributions.MvNormal{Float64,PDMats.PDMat{Float64,Array{Float64,2}},Array{Float64,1}}, ::Float64)\u001b[0m\nClosest candidates are:\n  pdf(\u001b[91m::Distributions.Kolmogorov\u001b[39m, ::Real) at /Users/bert/.julia/v0.6/Distributions/src/univariate/continuous/kolmogorov.jl:81\n  pdf(\u001b[91m::Distributions.EmpiricalUnivariateDistribution\u001b[39m, ::Float64) at /Users/bert/.julia/v0.6/Distributions/src/empirical.jl:57\n  pdf(\u001b[91m::Distributions.Arcsine\u001b[39m, ::Real) at /Users/bert/.julia/v0.6/Distributions/src/univariate/continuous/arcsine.jl:75\n  ...\u001b[39m",
     "output_type": "error",
     "traceback": [
      "\u001b[91mMethodError: no method matching pdf(::Distributions.MvNormal{Float64,PDMats.PDMat{Float64,Array{Float64,2}},Array{Float64,1}}, ::Float64)\u001b[0m\nClosest candidates are:\n  pdf(\u001b[91m::Distributions.Kolmogorov\u001b[39m, ::Real) at /Users/bert/.julia/v0.6/Distributions/src/univariate/continuous/kolmogorov.jl:81\n  pdf(\u001b[91m::Distributions.EmpiricalUnivariateDistribution\u001b[39m, ::Float64) at /Users/bert/.julia/v0.6/Distributions/src/empirical.jl:57\n  pdf(\u001b[91m::Distributions.Arcsine\u001b[39m, ::Real) at /Users/bert/.julia/v0.6/Distributions/src/univariate/continuous/arcsine.jl:75\n  ...\u001b[39m",
      "",
      "Stacktrace:",
      " [1] \u001b[1mbroadcast_t\u001b[22m\u001b[22m\u001b[1m(\u001b[22m\u001b[22m::Function, ::Type{Any}, ::Tuple{Base.OneTo{Int64}}, ::CartesianRange{CartesianIndex{1}}, ::Distributions.MvNormal{Float64,PDMats.PDMat{Float64,Array{Float64,2}},Array{Float64,1}}, ::Array{Float64,1}\u001b[1m)\u001b[22m\u001b[22m at \u001b[1m./broadcast.jl:256\u001b[22m\u001b[22m",
      " [2] \u001b[1mbroadcast_c\u001b[22m\u001b[22m at \u001b[1m./broadcast.jl:319\u001b[22m\u001b[22m [inlined]",
      " [3] \u001b[1mbroadcast\u001b[22m\u001b[22m\u001b[1m(\u001b[22m\u001b[22m::Function, ::Distributions.MvNormal{Float64,PDMats.PDMat{Float64,Array{Float64,2}},Array{Float64,1}}, ::Array{Float64,1}\u001b[1m)\u001b[22m\u001b[22m at \u001b[1m./broadcast.jl:434\u001b[22m\u001b[22m",
      " [4] \u001b[1mmacro expansion\u001b[22m\u001b[22m at \u001b[1m./In[26]:15\u001b[22m\u001b[22m [inlined]",
      " [5] \u001b[1manonymous\u001b[22m\u001b[22m at \u001b[1m./<missing>:?\u001b[22m\u001b[22m",
      " [6] \u001b[1minclude_string\u001b[22m\u001b[22m\u001b[1m(\u001b[22m\u001b[22m::String, ::String\u001b[1m)\u001b[22m\u001b[22m at \u001b[1m./loading.jl:522\u001b[22m\u001b[22m"
     ]
    }
   ],
   "source": [
    "using Reactive, Interact, PyPlot, Distributions\n",
    "# z = [x; y]\n",
    "μ = [1.; 2.]\n",
    "Σ = [0.3 0.7;\n",
    "     0.7 2.0]\n",
    "joint = MvNormal(μ,Σ)\n",
    "marginal_x = Normal(μ[1], sqrt(Σ[1,1]))\n",
    "\n",
    "# Plot p(x,y)\n",
    "subplot(221)\n",
    "joint_pdf = Matrix(100,100)\n",
    "x_range = linspace(-2,5,100); y_range = linspace(-2,5,100)\n",
    "for i=1:length(x_range)\n",
    "    for j=1:length(y_range)\n",
    "        joint_pdf[i,j] = pdf.(joint, [x_range[i];y_range[j]])\n",
    "    end\n",
    "end\n",
    "\n",
    "imshow(joint_pdf', origin=\"lower\", extent=[x_range[1], x_range[end], y_range[1], y_range[end]])\n",
    "grid(); xlabel(\"x\"); ylabel(\"y\"); title(\"p(x,y)\"); tight_layout()\n",
    "\n",
    "# Plot p(x)\n",
    "subplot(222)\n",
    "plot(linspace(-2,5,100), pdf.(marginal_x, linspace(-2,5,100)))\n",
    "grid(); xlabel(\"x\"); ylabel(\"p(x)\"); title(\"Marginal distribution p(x)\"); tight_layout()\n",
    "\n",
    "f = figure()\n",
    "@manipulate for x=-2:0.1:3; withfig(f) do\n",
    "        conditional_y_m = μ[2]+Σ[2,1]*inv(Σ[1,1])*(x-μ[1])\n",
    "        conditional_y_s2 = Σ[2,2] - Σ[2,1]*inv(Σ[1,1])*Σ[1,2]\n",
    "        conditional_y = Normal(conditional_y_m, sqrt.(conditional_y_s2))\n",
    "\n",
    "        # Plot p(y|x)\n",
    "        subplot(223)\n",
    "        plot(linspace(-2,5,100), pdf.(conditional_y, linspace(-2,5,100)))\n",
    "        grid(); xlabel(\"y\"); ylabel(\"p(y|x)\"); title(\"Conditional distribution p(y|x)\"); tight_layout()\n",
    "    end\n",
    "end"
   ]
  },
  {
   "cell_type": "markdown",
   "metadata": {
    "slideshow": {
     "slide_type": "subslide"
    }
   },
   "source": [
    "As is clear from the plots, the conditional distribution is a renormalized slice from the joint distribution.\n",
    "\n",
    "#### END OF CODE EXAMPLE"
   ]
  },
  {
   "cell_type": "markdown",
   "metadata": {
    "slideshow": {
     "slide_type": "slide"
    }
   },
   "source": [
    "\n",
    "### Example: Conditioning of Gaussian\n",
    "\n",
    "Consider (again) the system \n",
    "\n",
    "$$\\begin{align*}\n",
    "x &= \\theta + \\epsilon \\\\\n",
    "\\theta &\\sim \\mathcal{N}(\\theta|\\mu_\\theta,\\sigma_\\theta^2) \\\\\n",
    "\\epsilon &\\sim \\mathcal{N}(\\epsilon|0,\\sigma^2_{\\epsilon})\n",
    "\\end{align*}$$\n",
    "\n",
    "- This system is equivalent to <span style=\"color:green\">(derive this!)</span>\n",
    "\n",
    "$$\n",
    "p(x,\\theta|\\,\\mu,\\sigma) = \\mathcal{N} \\left( \\begin{bmatrix} x\\\\ \n",
    "  \\theta  \\end{bmatrix} \n",
    "  \\left| \\begin{bmatrix} \\mu_\\theta\\\\ \n",
    "  \\mu_\\theta\\end{bmatrix}, \n",
    "         \\begin{bmatrix} \\sigma_\\theta^2+\\sigma_{\\epsilon}^2  & \\sigma_\\theta^2\\\\ \n",
    "         \\sigma_\\theta^2 &\\sigma_\\theta^2 \n",
    "  \\end{bmatrix} \n",
    "  \\right. \\right)\n",
    "$$\n",
    "\n",
    "- Direct substitution of the rule for Gaussian conditioning leads to <span style=\"color:green\">(derive this yourself!)</span>\n",
    "$$\n",
    "p(\\theta|x) = \\mathcal{N} \\left( \\theta\\,|\\,\\mu_{\\theta|x}, \\sigma_{\\theta|x}^2 \\right)\n",
    "$$\n",
    "with\n",
    "$$\\begin{align*}\n",
    "K &= \\frac{\\sigma_\\theta^2}{\\sigma_\\theta^2+\\sigma_{\\epsilon}^2} \\qquad \\text{($K$ is called: Kalman gain)}\\\\\n",
    "\\mu_{\\theta|x} &= \\mu_\\theta + K \\cdot (x-\\mu_\\theta)\\\\\n",
    "\\sigma_{\\theta|x}^2 &= \\left( 1-K \\right) \\sigma_\\theta^2  \n",
    "\\end{align*}$$\n",
    "    \n",
    "\n",
    "$\\longrightarrow$ Moral: For jointly Gaussian systems, we can do inference simply in one step by using the formulas for conditioning and marginalization.\n",
    "\n"
   ]
  },
  {
   "cell_type": "markdown",
   "metadata": {
    "slideshow": {
     "slide_type": "slide"
    }
   },
   "source": [
    "### Application: Recursive Bayesian Estimation\n",
    "\n",
    "Now consider the signal $x_t=\\theta+\\epsilon_t$, where $D_t= \\left\\{x_1,\\ldots,x_t\\right\\}$ is observed _sequentially_ (over time).\n",
    "\n",
    "<span style=\"color:blue\">[Question]</span>\n",
    "- Derive a recursive algorithm for $p(\\theta|D_t)$, i.e., an update rule for (posterior) $p(\\theta|D_t)$ based on (prior) $p(\\theta|D_{t-1})$ and (new observation) $x_t$.\n",
    " \n",
    "<span style=\"color:blue\">[Answer]</span> \n",
    "\n",
    "- Let's define the estimate after $t$ observations (i.e., our solution) as $p(\\theta|D_t) = \\mathcal{N}(\\theta\\,|\\,\\mu_t,\\sigma_t^2)$.\n",
    "\n",
    "- **Model specification**. We define the joint distribution for $\\theta$ and $x_t$, given background $D_{t-1}$, by\n",
    "$$\\begin{align*} p(x_t,\\theta \\,|\\, D_{t-1}) &= p(x_t|\\theta) \\, p(\\theta|D_{t-1}) \\\\\n",
    "  &= \\underbrace{\\mathcal{N}(x_t\\,|\\, \\theta,\\sigma^2_{\\epsilon})}_{\\text{likelihood}} \\, \\underbrace{\\mathcal{N}(\\theta\\,|\\,\\mu_{t-1},\\sigma_{t-1}^2)}_{\\text{prior}}\n",
    "\\end{align*}$$\n",
    "        \n",
    "- **Inference**. Use Bayes rule,\n",
    "$$\\begin{align*}\n",
    "p(\\theta|D_t) &\\propto p(x_t|\\theta) \\, p(\\theta|D_{t-1}) \\\\\n",
    " &= \\mathcal{N}(x_t|\\theta,\\sigma^2_{\\epsilon}) \\, \\mathcal{N}(\\theta\\,|\\,\\mu_{t-1},\\sigma_{t-1}^2) \\\\\n",
    " &= \\mathcal{N}(\\theta|x_t,\\sigma^2_{\\epsilon}) \\, \\mathcal{N}(\\theta\\,|\\,\\mu_{t-1},\\sigma_{t-1}^2) \\\\\n",
    " &= \\mathcal{N}(\\theta|\\mu_t,\\sigma_t^2)\n",
    "\\end{align*}$$\n",
    "with\n",
    "$$\\begin{align*}\n",
    "K_t &= \\frac{\\sigma_{t-1}^2}{\\sigma_{t-1}^2+\\sigma_{\\epsilon}^2} \\qquad \\text{(Kalman gain)}\\\\\n",
    "\\mu_t &= \\mu_{t-1} + K_t \\cdot (x_t-\\mu_{t-1})\\\\\n",
    "\\sigma_t^2 &= \\left( 1-K_t \\right) \\sigma_{t-1}^2 \n",
    "\\end{align*}$$\n",
    "(as before, we used the formulas for conditioning in a multivariate Gaussian system). \n",
    "\n",
    "- This linear _sequential_ estimator of mean and variance in Gaussian observations is called a **Kalman Filter**.\n",
    "\n",
    "- The new observation $x_t$ 'updates' the old estimate $\\mu_{t-1}$ by a quantity that is proportional to the _innovation_ (or _residual_)  $\\left( x_t - \\mu_{t-1} \\right)$.\n",
    "\n",
    "- Note that the uncertainty about $\\theta$ decreases over time (since $0<(1-K_t)<1$). This makes sense: since we assume that the statistics of the system do not change (stationarity), each new sample provides new information. \n",
    "\n",
    "- Recursive Bayesian estimation is the basis for **adaptive signal processing** algorithms such as Least Mean Squares (LMS) and Recursive Least Squares (RLS). \n",
    "\n"
   ]
  },
  {
   "cell_type": "markdown",
   "metadata": {
    "slideshow": {
     "slide_type": "slide"
    }
   },
   "source": [
    "#### CODE EXAMPLE\n",
    "\n",
    "Let's implement the Kalman filter described above. We'll use it to recursively estimate the value of $\\theta$ based on noisy observations. Use the 'Step' button to see the recursive updates to the posterior $p(\\theta|D)$."
   ]
  },
  {
   "cell_type": "code",
   "execution_count": 27,
   "metadata": {
    "slideshow": {
     "slide_type": "subslide"
    }
   },
   "outputs": [
    {
     "data": {
      "image/png": "[encoded data removed]",
      "text/plain": [
       "PyPlot.Figure(PyObject <matplotlib.figure.Figure object at 0x136ace650>)"
      ]
     },
     "metadata": {},
     "output_type": "display_data"
    }
   ],
   "source": [
    "using PyPlot, Reactive, Interact\n",
    "\n",
    "interactive_plot = false # Set to true to generate an interactive plot with 'step' button\n",
    "N = 50                   # Number of observations\n",
    "θ = 2.0                  # True value of the variable we want to estimate\n",
    "σ_ϵ2 = 0.25              # Observation noise variance\n",
    "x = sqrt(σ_ϵ2) * randn(N) + θ # Generate N noisy observations of θ\n",
    "\n",
    "f = figure()\n",
    "global t = 0\n",
    "global μ = fill!(Vector{Float64}(N), NaN)    # Means of p(θ|D) over time\n",
    "global σ_μ2 = fill!(Vector{Float64}(N), NaN) # Variances of p(θ|D) over time\n",
    "\n",
    "function performKalmanStep()\n",
    "    # Perform a Kalman filter step, update t, μ, σ_μ2\n",
    "    global t += 1\n",
    "    if t>1 # Use posterior from prev. step as prior\n",
    "        K = σ_μ2[t-1] / (σ_ϵ2 + σ_μ2[t-1]) # Kalman gain\n",
    "        μ[t] = μ[t-1] + K*(x[t] - μ[t-1])  # Update mean using (1)\n",
    "        σ_μ2[t] = σ_μ2[t-1] * (1.0-K)      # Update variance using (2)\n",
    "    elseif t==1 # Use prior\n",
    "        # Prior p(θ) = N(0,1000)\n",
    "        K = 1000.0 / (σ_ϵ2 + 1000.0) # Kalman gain\n",
    "        μ[t] = 0 + K*(x[t] - 0)      # Update mean using (1)\n",
    "        σ_μ2[t] = 1000 * (1.0-K)     # Update variance using (2)\n",
    "    end\n",
    "end\n",
    "\n",
    "function plotStatus()\n",
    "    # Plot the 'true' value of θ, noisy observations x, and the recursively updated posterior p(θ|D)\n",
    "    t = collect(1:N)\n",
    "    plot(t, θ*ones(N), \"k--\")\n",
    "    plot(t, x, \"rx\")\n",
    "    plot(t, μ, \"b-\")\n",
    "    fill_between(t, μ-sqrt.(σ_μ2), μ+sqrt.(σ_μ2), color=\"b\", alpha=0.3)\n",
    "    legend([L\"\\theta\", L\"x[t]\", L\"\\mu[t]\"])\n",
    "    xlim((1, N)); xlabel(L\"t\"); grid()\n",
    "end\n",
    "\n",
    "if interactive_plot\n",
    "    @manipulate for \n",
    "        perform_step = button(\"Step\");\n",
    "        withfig(f) do\n",
    "            if t<=N\n",
    "                performKalmanStep()\n",
    "                plotStatus()\n",
    "            end\n",
    "        end\n",
    "    end \n",
    "else\n",
    "    while t<N\n",
    "        performKalmanStep()\n",
    "    end\n",
    "    plotStatus()\n",
    "end\n",
    "\n"
   ]
  },
  {
   "cell_type": "markdown",
   "metadata": {
    "slideshow": {
     "slide_type": "subslide"
    }
   },
   "source": [
    "The shaded area represents 2 standard deviations of posterior $p(\\theta|D)$. The variance of the posterior is guaranteed to decrease monotonically for the standard Kalman filter.\n",
    "\n",
    "#### END OF CODE EXAMPLE"
   ]
  },
  {
   "cell_type": "markdown",
   "metadata": {
    "slideshow": {
     "slide_type": "slide"
    }
   },
   "source": [
    "### Product of Normally Distributed Variables\n",
    "\n",
    "- (We've seen that) the sum of two Gausssian distributed variables is also Gaussian distributed.\n",
    "\n",
    "- Has the _product_ of two Gaussian distributed variables also a Gaussian distribution?\n",
    "\n",
    "- **No**! In general this is a difficult computation. As an example, let's compute $p(z)$ for $Z=XY$ for the special case that $X\\sim \\mathcal{N}(0,1)$ and $Y\\sim \\mathcal{N}(0,1)$.\n",
    "$$\\begin{align*}\n",
    "p(z) &= \\int_{X,Y} p(z|x,y)\\,p(x,y)\\,\\mathrm{d}x\\mathrm{d}y \\\\\n",
    "  &= \\frac{1}{2 \\pi}\\int  \\delta(z-xy) \\, e^{-(x^2+y^2)/2} \\, \\mathrm{d}x\\mathrm{d}y \\\\\n",
    "  &=  \\frac{1}{\\pi} \\int_0^\\infty \\frac{1}{x} e^{-(x^2+z^2/x^2)/2} \\, \\mathrm{d}x \\\\\n",
    "  &= \\frac{1}{\\pi} \\mathrm{K}_0( \\lvert z\\rvert )\\,.\n",
    "\\end{align*}$$\n",
    "where  $\\mathrm{K}_n(z)$ is a [modified Bessel function of the second kind](http://mathworld.wolfram.com/ModifiedBesselFunctionoftheSecondKind.html)."
   ]
  },
  {
   "cell_type": "markdown",
   "metadata": {
    "slideshow": {
     "slide_type": "slide"
    }
   },
   "source": [
    "#### CODE EXAMPLE\n",
    "\n",
    "We plot $p(Z)$ to give an idea of what this distribution looks like."
   ]
  },
  {
   "cell_type": "code",
   "execution_count": 28,
   "metadata": {
    "slideshow": {
     "slide_type": "subslide"
    }
   },
   "outputs": [
    {
     "data": {
      "image/png": "[encoded data removed]",
      "text/plain": [
       "PyPlot.Figure(PyObject <matplotlib.figure.Figure object at 0x13183e750>)"
      ]
     },
     "metadata": {},
     "output_type": "display_data"
    }
   ],
   "source": [
    "using PyPlot, Distributions, SpecialFunctions\n",
    "X = Normal(0,1)\n",
    "pdf_product_std_normals(z::Vector) = (besselk.(0, abs.(z))./π)\n",
    "range = collect(linspace(-4,4,100))\n",
    "plot(range, pdf.(X, range))\n",
    "plot(range, pdf_product_std_normals(range))\n",
    "legend([L\"p(X)=p(Y)=\\mathcal{N}(0,1)\", L\"p(Z)\"]);"
   ]
  },
  {
   "cell_type": "markdown",
   "metadata": {
    "slideshow": {
     "slide_type": "slide"
    }
   },
   "source": [
    "### Review Gaussians\n",
    "\n",
    "The success of Gaussian distributions in probabilistic modeling is large due to the following properties:\n",
    "\n",
    "- A linear transformation of a Gaussian distributed variable is also Gaussian distributed\n",
    "\n",
    "- The convolution of two Gaussian functions is another Gaussian function (use in sum of 2 variables)\n",
    "\n",
    "- The product of two Gaussian functions is another Gaussian function (use in Bayes rule). \n",
    "\n",
    "- Conditioning and marginalization of multivariate Gaussian distributions produce Gaussians again (use in working with observations and when doing Bayesian predictions)\n",
    "\n",
    "- <span style=\"color:gray\">The Gaussian PDF has higher entropy than any other with the same variance. (Not discussed in this course).</span>\n",
    "\n",
    "- <span style=\"color:gray\">Any smooth function with single rounded maximum, if raised to higher and higher powers, goes into a Gaussian function. (Not discussed).</span>"
   ]
  },
  {
   "cell_type": "markdown",
   "metadata": {
    "slideshow": {
     "slide_type": "slide"
    }
   },
   "source": [
    "### Some Useful Matrix Calculus\n",
    "\n",
    "Aside from working with Gaussians, it will be helpful for the next lessons to be familiar with some matrix calculus. We shortly recapitulate used formulas here. \n",
    "\n",
    "- We define the **gradient** of a scalar function $f(A)$ w.r.t. an $n \\times k$ matrix $A$ as\n",
    "$$\n",
    "\\nabla_A f \\triangleq\n",
    "    \\begin{bmatrix}\n",
    "\\frac{\\partial{f}}{\\partial a_{11}} & \\frac{\\partial{f}}{\\partial a_{12}} & \\cdots & \\frac{\\partial{f}}{\\partial a_{1k}}\\\\\n",
    "\\frac{\\partial{f}}{\\partial a_{21}} & \\frac{\\partial{f}}{\\partial a_{22}} & \\cdots & \\frac{\\partial{f}}{\\partial a_{2k}}\\\\\n",
    "\\vdots & \\vdots & \\cdots & \\vdots\\\\\n",
    "\\frac{\\partial{f}}{\\partial a_{n1}} & \\frac{\\partial{f}}{\\partial a_{n2}} & \\cdots & \\frac{\\partial{f}}{\\partial a_{nk}}\n",
    "    \\end{bmatrix}\n",
    "$$\n",
    "    \n",
    "- The following formulas are useful (see Bishop App.-C)\n",
    "$$\\begin{align*}\n",
    "|A^{-1}|&=|A|^{-1} \\tag{B-C.4} \\\\\n",
    "\\nabla_A \\log |A| &= (A^{T})^{-1} = (A^{-1})^T \\tag{B-C.28} \\\\\n",
    "\\mathrm{Tr}[ABC]&= \\mathrm{Tr}[CAB] = \\mathrm{Tr}[BCA] \\tag{B-C.9} \\\\\n",
    "\\nabla_A \\mathrm{Tr}[AB] &=\\nabla_A \\mathrm{Tr}[BA]= B^T \\tag{B-C.25} \\\\\n",
    "\\nabla_A \\mathrm{Tr}[ABA^T] &= A(B+B^T)  \\tag{B-C.27}\\\\\n",
    " \\nabla_x x^TAx &= (A+A^T)x \\tag{from B-C.27}\\\\\n",
    "\\nabla_X a^TXb &= \\nabla_X \\mathrm{Tr}[ba^TX] = ab^T \\notag\n",
    "\\end{align*}$$"
   ]
  },
  {
   "cell_type": "markdown",
   "metadata": {
    "slideshow": {
     "slide_type": "slide"
    }
   },
   "source": [
    "### What's Next?\n",
    "\n",
    "- We discussed how Bayesian probability theory provides an integrated framework for making predictions based on observed data.\n",
    "\n",
    "- The process involves model specification (your main task!), inference and actual model-based prediction.\n",
    "\n",
    "- The latter two tasks are only difficult because of computational issues.\n",
    "\n",
    "- Maximum likelihood was introduced as a computationally simpler approximation to the Bayesian approach.\n",
    "\n",
    "- In particular under some linear Gaussian assumptions, a few interesting models can be designed.\n",
    "\n",
    "- The rest of this course (part-1) concerns introduction to these Linear Gaussian models."
   ]
  },
  {
   "cell_type": "code",
   "execution_count": 29,
   "metadata": {
    "slideshow": {
     "slide_type": "skip"
    }
   },
   "outputs": [
    {
     "data": {
      "text/html": [
       "<!--\n",
       "This HTML file contains custom styles and some javascript.\n",
       "Include it a Jupyter notebook for improved rendering.\n",
       "-->\n",
       "\n",
       "<!-- Fonts -->\n",
       "<link href='http://fonts.googleapis.com/css?family=Alegreya+Sans:100,300,400,500,700,800,900,100italic,300italic,400italic,500italic,700italic,800italic,900italic' rel='stylesheet' type='text/css'>\n",
       "<link href='http://fonts.googleapis.com/css?family=Arvo:400,700,400italic' rel='stylesheet' type='text/css'>\n",
       "<link href='http://fonts.googleapis.com/css?family=PT+Mono' rel='stylesheet' type='text/css'>\n",
       "<link href='http://fonts.googleapis.com/css?family=Shadows+Into+Light' rel='stylesheet' type='text/css'>\n",
       "<link href='http://fonts.googleapis.com/css?family=Nixie+One' rel='stylesheet' type='text/css'>\n",
       "\n",
       "<!-- Custom style -->\n",
       "<style>\n",
       "\n",
       "@font-face {\n",
       "    font-family: \"Computer Modern\";\n",
       "    src: url('http://mirrors.ctan.org/fonts/cm-unicode/fonts/otf/cmunss.otf');\n",
       "}\n",
       "\n",
       "#notebook_panel { /* main background */\n",
       "    background: rgb(245,245,245);\n",
       "}\n",
       "\n",
       "div.container {\n",
       "    min-width: 960px;\n",
       "}\n",
       "\n",
       "div #notebook { /* centre the content */\n",
       "    background: #fff; /* white background for content */\n",
       "    margin: auto;\n",
       "    padding-left: 0em;\n",
       "}\n",
       "\n",
       "#notebook li { /* More space between bullet points */\n",
       "    margin-top:0.8em;\n",
       "}\n",
       "\n",
       "/* draw border around running cells */\n",
       "div.cell.border-box-sizing.code_cell.running {\n",
       "    border: 1px solid #111;\n",
       "}\n",
       "\n",
       "/* Put a solid color box around each cell and its output, visually linking them*/\n",
       "div.cell.code_cell {\n",
       "    background-color: rgb(256,256,256);\n",
       "    border-radius: 0px;\n",
       "    padding: 0.5em;\n",
       "    margin-left:1em;\n",
       "    margin-top: 1em;\n",
       "}\n",
       "\n",
       "div.text_cell_render{\n",
       "    font-family: 'Alegreya Sans' sans-serif;\n",
       "    line-height: 140%;\n",
       "    font-size: 125%;\n",
       "    font-weight: 400;\n",
       "    width:800px;\n",
       "    margin-left:auto;\n",
       "    margin-right:auto;\n",
       "}\n",
       "\n",
       "\n",
       "/* Formatting for header cells */\n",
       ".text_cell_render h1 {\n",
       "    font-family: 'Nixie One', serif;\n",
       "    font-style:regular;\n",
       "    font-weight: 400;\n",
       "    font-size: 45pt;\n",
       "    line-height: 100%;\n",
       "    color: rgb(0,51,102);\n",
       "    margin-bottom: 0.5em;\n",
       "    margin-top: 0.5em;\n",
       "    display: block;\n",
       "}\n",
       "\n",
       ".text_cell_render h2 {\n",
       "    font-family: 'Nixie One', serif;\n",
       "    font-weight: 400;\n",
       "    font-size: 30pt;\n",
       "    line-height: 100%;\n",
       "    color: rgb(0,51,102);\n",
       "    margin-bottom: 0.1em;\n",
       "    margin-top: 0.3em;\n",
       "    display: block;\n",
       "}\n",
       "\n",
       ".text_cell_render h3 {\n",
       "    font-family: 'Nixie One', serif;\n",
       "    margin-top:16px;\n",
       "    font-size: 22pt;\n",
       "    font-weight: 600;\n",
       "    margin-bottom: 3px;\n",
       "    font-style: regular;\n",
       "    color: rgb(102,102,0);\n",
       "}\n",
       "\n",
       ".text_cell_render h4 {    /*Use this for captions*/\n",
       "    font-family: 'Nixie One', serif;\n",
       "    font-size: 14pt;\n",
       "    text-align: center;\n",
       "    margin-top: 0em;\n",
       "    margin-bottom: 2em;\n",
       "    font-style: regular;\n",
       "}\n",
       "\n",
       ".text_cell_render h5 {  /*Use this for small titles*/\n",
       "    font-family: 'Nixie One', sans-serif;\n",
       "    font-weight: 400;\n",
       "    font-size: 16pt;\n",
       "    color: rgb(163,0,0);\n",
       "    font-style: italic;\n",
       "    margin-bottom: .1em;\n",
       "    margin-top: 0.8em;\n",
       "    display: block;\n",
       "}\n",
       "\n",
       ".text_cell_render h6 { /*use this for copyright note*/\n",
       "    font-family: 'PT Mono', sans-serif;\n",
       "    font-weight: 300;\n",
       "    font-size: 9pt;\n",
       "    line-height: 100%;\n",
       "    color: grey;\n",
       "    margin-bottom: 1px;\n",
       "    margin-top: 1px;\n",
       "}\n",
       "\n",
       ".CodeMirror{\n",
       "    font-family: \"PT Mono\";\n",
       "    font-size: 90%;\n",
       "}\n",
       "\n",
       ".boxed { /* draw a border around a piece of text */\n",
       "  border: 1px solid blue ;\n",
       "}\n",
       "\n",
       "h4#CODE-EXAMPLE,\n",
       "h4#END-OF-CODE-EXAMPLE {\n",
       "    margin: 10px 0;\n",
       "    padding: 10px;\n",
       "    background-color: #d0f9ca !important;\n",
       "    border-top: #849f81 1px solid;\n",
       "    border-bottom: #849f81 1px solid;\n",
       "}\n",
       "\n",
       ".emphasis {\n",
       "    color: red;\n",
       "}\n",
       "\n",
       ".exercise {\n",
       "    color: green;\n",
       "}\n",
       "\n",
       ".proof {\n",
       "    color: blue;\n",
       "}\n",
       "\n",
       "code {\n",
       "  padding: 2px 4px !important;\n",
       "  font-size: 90% !important;\n",
       "  color: #222 !important;\n",
       "  background-color: #efefef !important;\n",
       "  border-radius: 2px !important;\n",
       "}\n",
       "\n",
       "/* This removes the actual style cells from the notebooks, but no in print mode\n",
       "   as they will be removed through some other method */\n",
       "@media not print {\n",
       "  .cell:nth-last-child(-n+2) {\n",
       "    display: none;\n",
       "  }\n",
       "}\n",
       "\n",
       "</style>\n",
       "\n",
       "<!-- MathJax styling -->\n",
       "<script>\n",
       "    MathJax.Hub.Config({\n",
       "                        TeX: {\n",
       "                           extensions: [\"AMSmath.js\"],\n",
       "                           equationNumbers: { autoNumber: \"AMS\", useLabelIds: true}\n",
       "                           },\n",
       "                tex2jax: {\n",
       "                    inlineMath: [ ['$','$'], [\"\\\\(\",\"\\\\)\"] ],\n",
       "                    displayMath: [ ['$$','$$'], [\"\\\\[\",\"\\\\]\"] ]\n",
       "                },\n",
       "                displayAlign: 'center', // Change this to 'center' to center equations.\n",
       "                \"HTML-CSS\": {\n",
       "                    styles: {'.MathJax_Display': {\"margin\": 4}}\n",
       "                }\n",
       "        });\n",
       "</script>\n"
      ]
     },
     "metadata": {},
     "output_type": "display_data"
    }
   ],
   "source": [
    "open(\"../../styles/aipstyle.html\") do f\n",
    "    display(\"text/html\", readstring(f))\n",
    "end"
   ]
  },
  {
   "cell_type": "code",
   "execution_count": null,
   "metadata": {
    "collapsed": true
   },
   "outputs": [],
   "source": []
  }
 ],
 "metadata": {
  "anaconda-cloud": {},
  "celltoolbar": "Slideshow",
  "kernelspec": {
   "display_name": "Julia 0.6.1",
   "language": "julia",
   "name": "julia-0.6"
  },
  "language_info": {
   "file_extension": ".jl",
   "mimetype": "application/julia",
   "name": "julia",
   "version": "0.6.1"
  },
  "widgets": {
   "state": {
    "3e8b6f2f-6500-4ec7-963f-2db519e88817": {
     "views": [
      {
       "cell_index": 11
      }
     ]
    }
   },
   "version": "1.2.0"
  }
 },
 "nbformat": 4,
 "nbformat_minor": 1
}
