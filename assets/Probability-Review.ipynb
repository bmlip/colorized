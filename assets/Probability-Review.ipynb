{
 "cells": [
  {
   "cell_type": "markdown",
   "metadata": {
    "slideshow": {
     "slide_type": "slide"
    }
   },
   "source": [
    "# Probability Theory Review"
   ]
  },
  {
   "cell_type": "markdown",
   "metadata": {
    "slideshow": {
     "slide_type": "slide"
    }
   },
   "source": [
    "### Preliminaries\n",
    "\n",
    "- Goal \n",
    "  - Review of probability theory as a theory for rational/logical reasoning with uncertainties (i.e., a Bayesian interpretation)\n",
    "- Materials        \n",
    "  - Mandatory\n",
    "    - These lecture notes\n",
    "  - Optional\n",
    "    - Bishop pp. 12-20\n",
    "    - [Ariel Caticha - 2012 - Entropic Inference and the Foundations of Physics](https://github.com/bertdv/BMLIP/blob/master/lessons/notebooks/files/Caticha-2012-Entropic-Inference-and-the-Foundations-of-Physics.pdf), pp.7-56 (ch.2: probability)\n",
    "      - Fantastic introduction to probability theory, in particular to its interpretation.\n",
    "      - Absolutely worth your time to read this chapter!\n",
    "    - [Edwin Jaynes, Probability Theory -- The Logic of Science](https://www.amazon.com/Probability-Theory-Science-T-Jaynes/dp/0521592712). Cambridge University Press, 2003\n",
    "      - brilliant book on Bayesian view on probability theory.\n"
   ]
  },
  {
   "cell_type": "markdown",
   "metadata": {
    "slideshow": {
     "slide_type": "slide"
    }
   },
   "source": [
    "### Example Problem: Disease Diagnosis\n",
    "\n",
    "- **Problem**: Given a disease with prevalence of  1%  and a test procedure  with sensitivity ('true positive' rate) of  95%  and specificity ('true negative' rate) of  85% , what is the chance that somebody who tests positive actually has the disease?"
   ]
  },
  {
   "cell_type": "markdown",
   "metadata": {
    "slideshow": {
     "slide_type": "fragment"
    }
   },
   "source": [
    "- **Solution**: Use probabilistic inference, to be discussed in this lecture. "
   ]
  },
  {
   "cell_type": "markdown",
   "metadata": {
    "slideshow": {
     "slide_type": "slide"
    }
   },
   "source": [
    "### Why Probability Theory?\n",
    "\n",
    "- Probability theory (PT) provides a **theory of optimal processing of incomplete information** (see [Cox theorem](https://en.wikipedia.org/wiki/Cox%27s_theorem), and [Caticha](https://github.com/bertdv/BMLIP/blob/master/lessons/notebooks/files/Caticha-2012-Entropic-Inference-and-the-Foundations-of-Physics.pdf), pp.7-24), and as such provides a quantitative framework for drawing conclusions from a finite (read: incomplete) data set."
   ]
  },
  {
   "cell_type": "markdown",
   "metadata": {
    "slideshow": {
     "slide_type": "fragment"
    }
   },
   "source": [
    "- Machine learning concerns drawing conclusions from (a finite set of) data and therefore PT provides the _optimal calculus for machine learning_. "
   ]
  },
  {
   "cell_type": "markdown",
   "metadata": {
    "slideshow": {
     "slide_type": "fragment"
    }
   },
   "source": [
    "- In general, nearly all interesting questions in machine learning can be stated in the following form (a conditional probability):\n",
    "$$p(\\text{whatever-we-want-to-know}\\, | \\,\\text{whatever-we-do-know})$$\n",
    "- Examples\n",
    "  - Predictions\n",
    "  $$p(\\,\\text{future-observations}\\,|\\,\\text{past-observations}\\,)$$\n",
    "  - Classify a received data point $x$ \n",
    "  $$p(\\,x\\text{-belongs-to-class-}k \\,|\\,x\\,)$$"
   ]
  },
  {
   "cell_type": "markdown",
   "metadata": {
    "slideshow": {
     "slide_type": "slide"
    }
   },
   "source": [
    "### Probability Theory Notation\n",
    "\n",
    "##### events\n",
    "-  Define an **event** $A$ as a statement, whose truth can be contemplated by a person, e.g.,\n",
    "\n",
    "$$A = \\text{'it will rain tomorrow'}$$\n",
    " "
   ]
  },
  {
   "cell_type": "markdown",
   "metadata": {
    "slideshow": {
     "slide_type": "fragment"
    }
   },
   "source": [
    "- Note that, if $X$ is a variable, then an assignment $X=x$ (with $x$ a value, e.g., $X=5$) can be interpreted as an event. "
   ]
  },
  {
   "cell_type": "markdown",
   "metadata": {
    "slideshow": {
     "slide_type": "fragment"
    }
   },
   "source": [
    "- We write the denial of $A$, i.e. the event **not**-A, as $\\bar{A}$. "
   ]
  },
  {
   "cell_type": "markdown",
   "metadata": {
    "slideshow": {
     "slide_type": "fragment"
    }
   },
   "source": [
    "- Given two events $A$ and $B$, we write the **conjunction** \"$A \\wedge B$\" as \"$A,B$\" or \"$AB$\". The conjunction $AB$ is true only if both $A$ and $B$ are true. "
   ]
  },
  {
   "cell_type": "markdown",
   "metadata": {
    "collapsed": true,
    "slideshow": {
     "slide_type": "fragment"
    }
   },
   "source": [
    "- We will write the **disjunction** \"$A \\lor B$\" as \"$A + B$\", which is true if either $A$ or $B$ is true or both $A$ and $B$ are true. "
   ]
  },
  {
   "cell_type": "markdown",
   "metadata": {
    "slideshow": {
     "slide_type": "subslide"
    }
   },
   "source": [
    "##### probabilities\n",
    "\n",
    "- For any event $A$, with background knowledge $I$, the **conditional probability of $A$ given $I$**, is written as \n",
    "$$p(A|I)$$"
   ]
  },
  {
   "cell_type": "markdown",
   "metadata": {
    "collapsed": true,
    "slideshow": {
     "slide_type": "fragment"
    }
   },
   "source": [
    " \n",
    "- The value of a probability is limited to $0 \\le p(A|I) \\le 1$.  "
   ]
  },
  {
   "cell_type": "markdown",
   "metadata": {
    "slideshow": {
     "slide_type": "fragment"
    }
   },
   "source": [
    "- All probabilities are in principle conditional probabilities of the type $p(A|I)$, since there is always some background knowledge. "
   ]
  },
  {
   "cell_type": "markdown",
   "metadata": {
    "slideshow": {
     "slide_type": "subslide"
    }
   },
   "source": [
    "##### Unfortunately, PT notation is usually rather sloppy :(\n",
    "\n",
    "- We often write $p(A)$ rather than $p(A|I)$ if the background knowledge $I$ is assumed to be obviously present. E.g., $p(A)$ rather than $p(\\,A\\,|\\,\\text{the-sun-comes-up-tomorrow}\\,)$."
   ]
  },
  {
   "cell_type": "markdown",
   "metadata": {
    "slideshow": {
     "slide_type": "fragment"
    }
   },
   "source": [
    "- (In the context of random variable assignments) we often write $p(x)$ rather than $p(X=x)$, assuming that the reader understands the context.  "
   ]
  },
  {
   "cell_type": "markdown",
   "metadata": {
    "collapsed": true,
    "slideshow": {
     "slide_type": "fragment"
    }
   },
   "source": [
    "- In an apparent effort to further abuse notational conventions, $p(X)$ denotes the full distribution over random variable $X$, i.e., the distribution for all assignments for $X$. "
   ]
  },
  {
   "cell_type": "markdown",
   "metadata": {
    "slideshow": {
     "slide_type": "slide"
    }
   },
   "source": [
    "### Frequentist vs. Bayesian Interpretation of Probabilities\n",
    "\n",
    "- In the **frequentist** interpretation, $p(A)$ relates to the relative frequency that $A$ would occur under repeated execution of an experiment. "
   ]
  },
  {
   "cell_type": "markdown",
   "metadata": {
    "slideshow": {
     "slide_type": "fragment"
    }
   },
   "source": [
    "  - For instance, if the experiment is tossing a coin, then $p(\\texttt{tail}) = 0.4$ means that in the limit of a large number of coin tosses, 40% of outcomes turn up as $\\texttt{tail}$.     "
   ]
  },
  {
   "cell_type": "markdown",
   "metadata": {
    "slideshow": {
     "slide_type": "fragment"
    }
   },
   "source": [
    "- In the **Bayesian** interpretation, $p(A)$ reflects the **degree of belief** that event $A$ is true. I.o.w., the probability is associated with a **state-of-knowledge** (usually held by a person). \n",
    "  - For instance, for the coin tossing experiment, $p(\\texttt{tail}) = 0.4$ should be interpreted as the belief that there is a 40% chance that $\\texttt{tail}$ comes up if the coin were tossed.\n",
    "  - Under the Bayesian interpretation, PT calculus (sum and product rules) **extends boolean logic to rational reasoning with uncertainty**. "
   ]
  },
  {
   "cell_type": "markdown",
   "metadata": {
    "slideshow": {
     "slide_type": "fragment"
    }
   },
   "source": [
    "- The Bayesian viewpoint is more generally applicable than the frequentist viewpoint, e.g., it is hard to apply the frequentist viewpoint to the event '$\\texttt{it will rain tomorrow}$'. "
   ]
  },
  {
   "cell_type": "markdown",
   "metadata": {
    "slideshow": {
     "slide_type": "fragment"
    }
   },
   "source": [
    "- The Bayesian viewpoint is clearly favored in the machine learning community. (In this class, we also strongly favor the Bayesian interpretation). "
   ]
  },
  {
   "cell_type": "markdown",
   "metadata": {
    "slideshow": {
     "slide_type": "slide"
    }
   },
   "source": [
    "### Probability Theory Calculus\n",
    " \n",
    "- **Normalization**. If you know that event $A$ given $I$ is true, then $p(A|I)=1$."
   ]
  },
  {
   "cell_type": "markdown",
   "metadata": {
    "slideshow": {
     "slide_type": "fragment"
    }
   },
   "source": [
    "- The following product and sum rules are also known as the **axioms of probability theory**, but in fact, under some mild conditions, they can be derived as the unique rules for rational reasoning under uncertainty ([Cox theorem, 1946](https://en.wikipedia.org/wiki/Cox%27s_theorem))."
   ]
  },
  {
   "cell_type": "markdown",
   "metadata": {
    "slideshow": {
     "slide_type": "fragment"
    }
   },
   "source": [
    "- **Product rule**. The conjuction of two events $A$ and $B$ with given background $I$ is given by \n",
    "$$ \\boxed{p(A,B|I) = p(A|B,I)\\,p(B|I)}$$\n",
    "  \n",
    " "
   ]
  },
  {
   "cell_type": "markdown",
   "metadata": {
    "slideshow": {
     "slide_type": "fragment"
    }
   },
   "source": [
    "- **Sum rule**. The disjunction for two events $A$ and $B$ given background $I$ is given by\n",
    "$$ \\boxed{p(A+B|I) = p(A|I) + p(B|I) - p(A,B|I)}$$\n",
    "  "
   ]
  },
  {
   "cell_type": "markdown",
   "metadata": {
    "slideshow": {
     "slide_type": "fragment"
    }
   },
   "source": [
    "- **All legitimate probabilistic relations can be derived from the sum and product rules!**"
   ]
  },
  {
   "cell_type": "markdown",
   "metadata": {
    "slideshow": {
     "slide_type": "fragment"
    }
   },
   "source": [
    "- Note that the background information may not change for any of these relations, e.g., if $I^\\prime \\neq I$, then \n",
    "$$ p(A+B|I^\\prime) \\neq p(A|I) + p(B|I) - p(A,B|I)\\,.$$ "
   ]
  },
  {
   "cell_type": "markdown",
   "metadata": {
    "slideshow": {
     "slide_type": "slide"
    }
   },
   "source": [
    "### Independent and Mutually Exclusive Events\n",
    "\n",
    "- Two events $A$ and $B$ are said to be **independent** if the probability of one is not altered by information about the truth of the other, i.e., $p(A|B) = p(A)$\n",
    "  - $\\Rightarrow$ If $A$ and $B$ are independent, given $I$, then the product rule simplifies to $$p(A,B|I) = p(A|I) p(B|I)$$"
   ]
  },
  {
   "cell_type": "markdown",
   "metadata": {
    "slideshow": {
     "slide_type": "fragment"
    }
   },
   "source": [
    "- Two events $A_1$ and $A_2$ are said to be **mutually exclusive** if they cannot be true simultanously, i.e., if $p(A_1,A_2)=0$.\n",
    "  - $\\Rightarrow$ For mutually exclusive events, the sum rule simplifies to\n",
    "  $$p(A_1+A_2) = p(A_1) + p(A_2)$$\n",
    "        "
   ]
  },
  {
   "cell_type": "markdown",
   "metadata": {
    "slideshow": {
     "slide_type": "fragment"
    }
   },
   "source": [
    "- A set of events $A_1, A_2, \\ldots, A_N$ is said to be **exhaustive** if one of the statements is necessarily true, i.e., $A_1+A_2+\\cdots +A_N=\\mathrm{TRUE}$, or equivalently \n",
    "$$p(A_1+A_2+\\cdots +A_N)=1$$\n"
   ]
  },
  {
   "cell_type": "markdown",
   "metadata": {
    "slideshow": {
     "slide_type": "fragment"
    }
   },
   "source": [
    "- Note that, if $A_1, A_2, \\ldots, A_n$ are both **mutually exclusive** and **exhausitive**, then\n",
    "    $$\\sum_{n=1}^N p(A_n) = 1$$"
   ]
  },
  {
   "cell_type": "markdown",
   "metadata": {
    "slideshow": {
     "slide_type": "slide"
    }
   },
   "source": [
    "### The Sum Rule and Marginalization\n",
    "\n",
    "- We mentioned that every inference problem in PT can be evaluated through the sum and product rules. Next, we present two useful corollaries: (1) _Marginalization_ and (2) _Bayes rule_ "
   ]
  },
  {
   "cell_type": "markdown",
   "metadata": {
    "slideshow": {
     "slide_type": "fragment"
    }
   },
   "source": [
    "- If $X$ and $Y$ are random variables over finite domains, than it follows from the above considerations about mutually exclusive and exhaustive events that \n",
    "$$\n",
    "p(X) = \\sum_Y p(X,Y) = \\sum_Y p(X|Y) p(Y) \\,.\n",
    "$$"
   ]
  },
  {
   "cell_type": "markdown",
   "metadata": {
    "slideshow": {
     "slide_type": "fragment"
    }
   },
   "source": [
    "- Summing $Y$ out of a joint distribution is called **marginalization** and the result $p(X)$ is sometimes referred to as the **marginal probability**. "
   ]
  },
  {
   "cell_type": "markdown",
   "metadata": {
    "slideshow": {
     "slide_type": "fragment"
    }
   },
   "source": [
    "- Note that this is just a **generalized sum rule**. In fact, Bishop (p.14) (and some other authors as well) calls this the sum rule.\n"
   ]
  },
  {
   "cell_type": "markdown",
   "metadata": {
    "slideshow": {
     "slide_type": "fragment"
    }
   },
   "source": [
    "- Of course, in the continuous domain, the (generalized) sum rule becomes\n",
    "$$p(X)=\\int p(X,Y) \\,\\mathrm{d}Y$$"
   ]
  },
  {
   "cell_type": "markdown",
   "metadata": {
    "slideshow": {
     "slide_type": "slide"
    }
   },
   "source": [
    "### The Product Rule and Bayes Rule\n",
    "\n",
    "- Consider two variables $D$ and $\\theta$; it follows from symmetry arguments that \n",
    "$$p(D,\\theta)=p(D|\\theta)p(\\theta)=p(\\theta|D)p(D)$$ \n",
    "and hence that\n",
    "$$ p(\\theta|D) = \\frac{p(D|\\theta) }{p(D)}p(\\theta)\\,.$$ "
   ]
  },
  {
   "cell_type": "markdown",
   "metadata": {
    "slideshow": {
     "slide_type": "fragment"
    }
   },
   "source": [
    "- This formula is called **Bayes rule** (or Bayes theorem). While Bayes rule is always true, a particularly useful application occurs when $D$ refers to an observed data set and $\\theta$ is set of model parameters. In that case,\n",
    "\n",
    "  - the **prior** probability $p(\\theta)$ represents our **state-of-knowledge** about proper values for $\\theta$, before seeing the data $D$.\n",
    "  - the **posterior** probability $p(\\theta|D)$ represents our state-of-knowledge about $\\theta$ after we have seen the data."
   ]
  },
  {
   "cell_type": "markdown",
   "metadata": {
    "slideshow": {
     "slide_type": "fragment"
    }
   },
   "source": [
    "$\\Rightarrow$ Bayes rule tells us how to update our knowledge about model parameters when facing new data. Hence, \n",
    "\n",
    "<center>\n",
    "<div style=\"border:2px solid red; font-size:x-large; padding:0.5em; color:red\">\n",
    "Bayes rule is the fundamental rule for machine learning!\n",
    "</div>\n",
    "</center>"
   ]
  },
  {
   "cell_type": "markdown",
   "metadata": {
    "slideshow": {
     "slide_type": "slide"
    }
   },
   "source": [
    "### Bayes Rule Nomenclature\n",
    "- Some nomenclature associated with Bayes rule:\n",
    "$$\n",
    "\\underbrace{p(\\theta | D)}_{\\text{posterior}} = \\frac{\\overbrace{p(D|\\theta)}^{\\text{likelihood}} \\times \\overbrace{p(\\theta)}^{\\text{prior}}}{\\underbrace{p(D)}_{\\text{evidence}}}\n",
    "$$"
   ]
  },
  {
   "cell_type": "markdown",
   "metadata": {
    "slideshow": {
     "slide_type": "fragment"
    }
   },
   "source": [
    "- Note that the evidence (a.k.a. _marginal likelihood_ ) can be computed from the numerator through marginalization since\n",
    "$$ p(D) = \\int p(D,\\theta) \\,\\mathrm{d}\\theta = \\int p(D|\\theta)\\,p(\\theta) \\,\\mathrm{d}\\theta$$"
   ]
  },
  {
   "cell_type": "markdown",
   "metadata": {
    "slideshow": {
     "slide_type": "fragment"
    }
   },
   "source": [
    "- Hence, having access to likelihood and prior is in principle sufficient to compute both the evidence and the posterior. To emphasize that point, Bayes rule is sometimes written as a transformation:\n",
    "$$ \\underbrace{p(\\theta|D)\\,p(D)}_{\\text{this is what we want to compute}} = \\underbrace{p(D|\\theta)\\, p(\\theta)}_{\\text{this is available}}$$ \n"
   ]
  },
  {
   "cell_type": "markdown",
   "metadata": {
    "slideshow": {
     "slide_type": "fragment"
    }
   },
   "source": [
    "- For given $D$, the posterior probabilities of the parameters scale relatively against each other as\n",
    "$$\n",
    "p(\\theta|D) \\propto p(D|\\theta) p(\\theta)\n",
    "$$\n",
    "\n",
    "- $\\Rightarrow$ All that we can learn from the observed data is contained in the likelihood function $p(D|\\theta)$. This is called the **likelihood principle**."
   ]
  },
  {
   "cell_type": "markdown",
   "metadata": {
    "slideshow": {
     "slide_type": "slide"
    }
   },
   "source": [
    "### The Likelihood Function vs the Sampling Distribution\n",
    "\n",
    "- Consider a distribution $p(D|\\theta)$, where $D$ relates to variables that are observed (i.e., a \"data set\") and $\\theta$ are model parameters."
   ]
  },
  {
   "cell_type": "markdown",
   "metadata": {
    "slideshow": {
     "slide_type": "fragment"
    }
   },
   "source": [
    "- In general, $p(D|\\theta)$ is just a function of the two variables $D$ and $\\theta$. We distinguish two interpretations of this function, depending on which variable is observed (or given by other means). "
   ]
  },
  {
   "cell_type": "markdown",
   "metadata": {
    "slideshow": {
     "slide_type": "fragment"
    }
   },
   "source": [
    "-  The **sampling distribution** (a.k.a. the **data-generating** distribution) $$p(D|\\theta=\\theta_0)$$ (which is a function of $D$ only) describes a probability distribution for data $D$, assuming that it is generated by the given model with parameters fixed at $\\theta = \\theta_0$."
   ]
  },
  {
   "cell_type": "markdown",
   "metadata": {
    "slideshow": {
     "slide_type": "fragment"
    }
   },
   "source": [
    "- In a machine learning context, often the data is observed, and $\\theta$ is the free variable. In that case, for given observations $D=D_0$, the **likelihood function** (which is a function only of the model parameters $\\theta$) is defined as $$\\mathrm{L}(\\theta) \\triangleq p(D=D_0|\\theta)$$"
   ]
  },
  {
   "cell_type": "markdown",
   "metadata": {
    "slideshow": {
     "slide_type": "fragment"
    }
   },
   "source": [
    "- Note that $\\mathrm{L}(\\theta)$ is not a probability distribution for $\\theta$ since in general $\\sum_\\theta \\mathrm{L}(\\theta) \\neq 1$."
   ]
  },
  {
   "cell_type": "markdown",
   "metadata": {
    "slideshow": {
     "slide_type": "slide"
    }
   },
   "source": [
    "#### CODE EXAMPLE\n",
    "\n",
    "Consider the following simple model for the outcome (head or tail) of a biased coin toss with parameter $\\theta \\in [0,1]$:\n",
    "\n",
    "$$\\begin{align*}\n",
    "y &\\in \\{0,1\\} \\\\\n",
    "p(y|\\theta) &\\triangleq \\theta^y (1-\\theta)^{1-y}\\\\\n",
    "\\end{align*}$$\n",
    "\n",
    "We can plot both the sampling distribution (i.e. $p(y|\\theta=0.8)$) and the likelihood function (i.e. $L(\\theta) = p(y=0|\\theta)$)."
   ]
  },
  {
   "cell_type": "code",
   "execution_count": 1,
   "metadata": {
    "slideshow": {
     "slide_type": "subslide"
    }
   },
   "outputs": [
    {
     "data": {
      "text/html": [
       "<script>\n",
       "// Immediately-invoked-function-expression to avoid global variables.\n",
       "(function() {\n",
       "    var warning_div = document.getElementById(\"webio-warning-2054657318643400158\");\n",
       "    var hide = function () {\n",
       "        var script = document.getElementById(\"webio-setup-2410022827769619533\");\n",
       "        var parent = script && script.parentElement;\n",
       "        var grandparent = parent && parent.parentElement;\n",
       "        if (grandparent) {\n",
       "            grandparent.style.display = \"none\";\n",
       "        }\n",
       "        warning_div.style.display = \"none\";\n",
       "    };\n",
       "    if (typeof Jupyter !== \"undefined\") {\n",
       "        console.log(\"WebIO detected Jupyter notebook environment.\");\n",
       "        // Jupyter notebook.\n",
       "        var extensions = (\n",
       "            Jupyter\n",
       "            && Jupyter.notebook.config.data\n",
       "            && Jupyter.notebook.config.data.load_extensions\n",
       "        );\n",
       "        if (extensions && extensions[\"webio-jupyter-notebook\"]) {\n",
       "            // Extension already loaded.\n",
       "            console.log(\"Jupyter WebIO nbextension detected; not loading ad-hoc.\");\n",
       "            hide();\n",
       "            return;\n",
       "        }\n",
       "    } else if (window.location.pathname.includes(\"/lab\")) {\n",
       "        // Guessing JupyterLa\n",
       "        console.log(\"Jupyter Lab detected; make sure the @webio/jupyter-lab-provider labextension is installed.\");\n",
       "        hide();\n",
       "        return;\n",
       "    }\n",
       "})();\n",
       "\n",
       "</script>\n",
       "<p\n",
       "    id=\"webio-warning-2054657318643400158\"\n",
       "    class=\"output_text output_stderr\"\n",
       "    style=\"padding: 1em; font-weight: bold;\"\n",
       ">\n",
       "    Unable to load WebIO. Please make sure WebIO works for your Jupyter client.\n",
       "    For troubleshooting, please see <a href=\"https://juliagizmos.github.io/WebIO.jl/latest/providers/ijulia/\">\n",
       "    the WebIO/IJulia documentation</a>.\n",
       "    <!-- TODO: link to installation docs. -->\n",
       "</p>\n"
      ],
      "text/plain": [
       "HTML{String}(\"<script>\\n// Immediately-invoked-function-expression to avoid global variables.\\n(function() {\\n    var warning_div = document.getElementById(\\\"webio-warning-2054657318643400158\\\");\\n    var hide = function () {\\n        var script = document.getElementById(\\\"webio-setup-2410022827769619533\\\");\\n        var parent = script && script.parentElement;\\n        var grandparent = parent && parent.parentElement;\\n        if (grandparent) {\\n            grandparent.style.display = \\\"none\\\";\\n        }\\n        warning_div.style.display = \\\"none\\\";\\n    };\\n    if (typeof Jupyter !== \\\"undefined\\\") {\\n        console.log(\\\"WebIO detected Jupyter notebook environment.\\\");\\n        // Jupyter notebook.\\n        var extensions = (\\n            Jupyter\\n            && Jupyter.notebook.config.data\\n            && Jupyter.notebook.config.data.load_extensions\\n        );\\n        if (extensions && extensions[\\\"webio-jupyter-notebook\\\"]) {\\n            // Extension already loaded.\\n            console.log(\\\"Jupyter WebIO nbextension detected; not loading ad-hoc.\\\");\\n            hide();\\n            return;\\n        }\\n    } else if (window.location.pathname.includes(\\\"/lab\\\")) {\\n        // Guessing JupyterLa\\n        console.log(\\\"Jupyter Lab detected; make sure the @webio/jupyter-lab-provider labextension is installed.\\\");\\n        hide();\\n        return;\\n    }\\n})();\\n\\n</script>\\n<p\\n    id=\\\"webio-warning-2054657318643400158\\\"\\n    class=\\\"output_text output_stderr\\\"\\n    style=\\\"padding: 1em; font-weight: bold;\\\"\\n>\\n    Unable to load WebIO. Please make sure WebIO works for your Jupyter client.\\n    For troubleshooting, please see <a href=\\\"https://juliagizmos.github.io/WebIO.jl/latest/providers/ijulia/\\\">\\n    the WebIO/IJulia documentation</a>.\\n    <!-- TODO: link to installation docs. -->\\n</p>\\n\")"
      ]
     },
     "metadata": {},
     "output_type": "display_data"
    },
    {
     "data": {
      "application/vnd.webio.node+json": {
       "children": [
        {
         "children": [
          {
           "children": [
            {
             "children": [
              {
               "children": [
                {
                 "children": [],
                 "instanceArgs": {
                  "namespace": "html",
                  "tag": "input"
                 },
                 "nodeType": "DOM",
                 "props": {
                  "attributes": {
                   "data-bind": "checked: value, valueUpdate: 'change', event: {change: function (){this.changes(this.changes()+1)}}",
                   "type": "checkbox"
                  },
                  "className": "switch ",
                  "id": "##372",
                  "style": {}
                 },
                 "type": "node"
                },
                {
                 "children": [
                  "y"
                 ],
                 "instanceArgs": {
                  "namespace": "html",
                  "tag": "label"
                 },
                 "nodeType": "DOM",
                 "props": {
                  "attributes": {
                   "className": "",
                   "for": "##372"
                  }
                 },
                 "type": "node"
                }
               ],
               "instanceArgs": {
                "namespace": "html",
                "tag": "div"
               },
               "nodeType": "DOM",
               "props": {
                "className": "field interact-widget"
               },
               "type": "node"
              }
             ],
             "instanceArgs": {
              "handlers": {
               "changes": [
                "(function (val){return (val!=this.model[\"changes\"]()) ? (this.valueFromJulia[\"changes\"]=true, this.model[\"changes\"](val)) : undefined})"
               ],
               "value": [
                "(function (val){return (val!=this.model[\"value\"]()) ? (this.valueFromJulia[\"value\"]=true, this.model[\"value\"](val)) : undefined})"
               ]
              },
              "id": "4756053188366647917",
              "imports": {
               "data": [
                {
                 "name": "knockout",
                 "type": "js",
                 "url": "/assetserver/770a4105885e188380f0560e309f836e0282fbc9-knockout.js"
                },
                {
                 "name": "knockout_punches",
                 "type": "js",
                 "url": "/assetserver/20a2690722e74a76875c5ae3530aa6a4f9754d2c-knockout_punches.js"
                },
                {
                 "name": null,
                 "type": "js",
                 "url": "/assetserver/c7413e4ebee4c05e590578d485665977c12291d0-all.js"
                },
                {
                 "name": null,
                 "type": "css",
                 "url": "/assetserver/921df7af813895b8966b97e208f1dbefc3a11fcb-style.css"
                },
                {
                 "name": null,
                 "type": "css",
                 "url": "/assetserver/0547b079f97deda40879eacdc85d3fa8d53b4c58-bulma_confined.min.css"
                }
               ],
               "type": "async_block"
              },
              "mount_callbacks": [
               "function () {\n    var handler = (function (ko, koPunches) {\n    ko.punches.enableAll();\n    ko.bindingHandlers.numericValue = {\n        init: function(element, valueAccessor, allBindings, data, context) {\n            var stringified = ko.observable(ko.unwrap(valueAccessor()));\n            stringified.subscribe(function(value) {\n                var val = parseFloat(value);\n                if (!isNaN(val)) {\n                    valueAccessor()(val);\n                }\n            });\n            valueAccessor().subscribe(function(value) {\n                var str = JSON.stringify(value);\n                if ((str == \"0\") && ([\"-0\", \"-0.\"].indexOf(stringified()) >= 0))\n                     return;\n                 if ([\"null\", \"\"].indexOf(str) >= 0)\n                     return;\n                stringified(str);\n            });\n            ko.applyBindingsToNode(\n                element,\n                {\n                    value: stringified,\n                    valueUpdate: allBindings.get('valueUpdate'),\n                },\n                context,\n            );\n        }\n    };\n    var json_data = {\"changes\":WebIO.getval({\"name\":\"changes\",\"scope\":\"4756053188366647917\",\"id\":\"ob_02\",\"type\":\"observable\"}),\"value\":WebIO.getval({\"name\":\"value\",\"scope\":\"4756053188366647917\",\"id\":\"ob_01\",\"type\":\"observable\"})};\n    var self = this;\n    function AppViewModel() {\n        for (var key in json_data) {\n            var el = json_data[key];\n            this[key] = Array.isArray(el) ? ko.observableArray(el) : ko.observable(el);\n        }\n        \n        \n        [this[\"changes\"].subscribe((function (val){!(this.valueFromJulia[\"changes\"]) ? (WebIO.setval({\"name\":\"changes\",\"scope\":\"4756053188366647917\",\"id\":\"ob_02\",\"type\":\"observable\"},val)) : undefined; return this.valueFromJulia[\"changes\"]=false}),self),this[\"value\"].subscribe((function (val){!(this.valueFromJulia[\"value\"]) ? (WebIO.setval({\"name\":\"value\",\"scope\":\"4756053188366647917\",\"id\":\"ob_01\",\"type\":\"observable\"},val)) : undefined; return this.valueFromJulia[\"value\"]=false}),self)]\n        \n    }\n    self.model = new AppViewModel();\n    self.valueFromJulia = {};\n    for (var key in json_data) {\n        self.valueFromJulia[key] = false;\n    }\n    ko.applyBindings(self.model, self.dom);\n}\n);\n    (WebIO.importBlock({\"data\":[{\"name\":\"knockout\",\"type\":\"js\",\"url\":\"/assetserver/770a4105885e188380f0560e309f836e0282fbc9-knockout.js\"},{\"name\":\"knockout_punches\",\"type\":\"js\",\"url\":\"/assetserver/20a2690722e74a76875c5ae3530aa6a4f9754d2c-knockout_punches.js\"}],\"type\":\"async_block\"})).then((imports) => handler.apply(this, imports));\n}\n"
              ],
              "observables": {
               "changes": {
                "id": "ob_02",
                "sync": false,
                "value": 0
               },
               "value": {
                "id": "ob_01",
                "sync": true,
                "value": false
               }
              },
              "systemjs_options": null
             },
             "nodeType": "Scope",
             "props": {},
             "type": "node"
            }
           ],
           "instanceArgs": {
            "namespace": "html",
            "tag": "div"
           },
           "nodeType": "DOM",
           "props": {
            "className": "field interact-widget"
           },
           "type": "node"
          }
         ],
         "instanceArgs": {
          "namespace": "html",
          "tag": "div"
         },
         "nodeType": "DOM",
         "props": {
          "className": "interact-flex-row interact-widget"
         },
         "type": "node"
        },
        {
         "children": [
          {
           "children": [
            {
             "children": [
              {
               "children": [
                {
                 "children": [
                  "θ"
                 ],
                 "instanceArgs": {
                  "namespace": "html",
                  "tag": "label"
                 },
                 "nodeType": "DOM",
                 "props": {
                  "className": "interact ",
                  "style": {
                   "padding": "5px 10px 0px 10px"
                  }
                 },
                 "type": "node"
                }
               ],
               "instanceArgs": {
                "namespace": "html",
                "tag": "div"
               },
               "nodeType": "DOM",
               "props": {
                "className": "interact-flex-row-left"
               },
               "type": "node"
              },
              {
               "children": [
                {
                 "children": [],
                 "instanceArgs": {
                  "namespace": "html",
                  "tag": "input"
                 },
                 "nodeType": "DOM",
                 "props": {
                  "attributes": {
                   "data-bind": "numericValue: index, valueUpdate: 'input', event: {change: function (){this.changes(this.changes()+1)}}",
                   "orient": "horizontal",
                   "type": "range"
                  },
                  "className": "slider slider is-fullwidth",
                  "max": 11,
                  "min": 1,
                  "step": 1,
                  "style": {}
                 },
                 "type": "node"
                }
               ],
               "instanceArgs": {
                "namespace": "html",
                "tag": "div"
               },
               "nodeType": "DOM",
               "props": {
                "className": "interact-flex-row-center"
               },
               "type": "node"
              },
              {
               "children": [
                {
                 "children": [],
                 "instanceArgs": {
                  "namespace": "html",
                  "tag": "p"
                 },
                 "nodeType": "DOM",
                 "props": {
                  "attributes": {
                   "data-bind": "text: formatted_val"
                  }
                 },
                 "type": "node"
                }
               ],
               "instanceArgs": {
                "namespace": "html",
                "tag": "div"
               },
               "nodeType": "DOM",
               "props": {
                "className": "interact-flex-row-right"
               },
               "type": "node"
              }
             ],
             "instanceArgs": {
              "namespace": "html",
              "tag": "div"
             },
             "nodeType": "DOM",
             "props": {
              "className": "interact-flex-row interact-widget"
             },
             "type": "node"
            }
           ],
           "instanceArgs": {
            "handlers": {
             "changes": [
              "(function (val){return (val!=this.model[\"changes\"]()) ? (this.valueFromJulia[\"changes\"]=true, this.model[\"changes\"](val)) : undefined})"
             ],
             "index": [
              "(function (val){return (val!=this.model[\"index\"]()) ? (this.valueFromJulia[\"index\"]=true, this.model[\"index\"](val)) : undefined})"
             ]
            },
            "id": "6128110743222111748",
            "imports": {
             "data": [
              {
               "name": "knockout",
               "type": "js",
               "url": "/assetserver/770a4105885e188380f0560e309f836e0282fbc9-knockout.js"
              },
              {
               "name": "knockout_punches",
               "type": "js",
               "url": "/assetserver/20a2690722e74a76875c5ae3530aa6a4f9754d2c-knockout_punches.js"
              },
              {
               "name": null,
               "type": "js",
               "url": "/assetserver/c7413e4ebee4c05e590578d485665977c12291d0-all.js"
              },
              {
               "name": null,
               "type": "css",
               "url": "/assetserver/921df7af813895b8966b97e208f1dbefc3a11fcb-style.css"
              },
              {
               "name": null,
               "type": "css",
               "url": "/assetserver/0547b079f97deda40879eacdc85d3fa8d53b4c58-bulma_confined.min.css"
              }
             ],
             "type": "async_block"
            },
            "mount_callbacks": [
             "function () {\n    var handler = (function (ko, koPunches) {\n    ko.punches.enableAll();\n    ko.bindingHandlers.numericValue = {\n        init: function(element, valueAccessor, allBindings, data, context) {\n            var stringified = ko.observable(ko.unwrap(valueAccessor()));\n            stringified.subscribe(function(value) {\n                var val = parseFloat(value);\n                if (!isNaN(val)) {\n                    valueAccessor()(val);\n                }\n            });\n            valueAccessor().subscribe(function(value) {\n                var str = JSON.stringify(value);\n                if ((str == \"0\") && ([\"-0\", \"-0.\"].indexOf(stringified()) >= 0))\n                     return;\n                 if ([\"null\", \"\"].indexOf(str) >= 0)\n                     return;\n                stringified(str);\n            });\n            ko.applyBindingsToNode(\n                element,\n                {\n                    value: stringified,\n                    valueUpdate: allBindings.get('valueUpdate'),\n                },\n                context,\n            );\n        }\n    };\n    var json_data = {\"formatted_vals\":[\"0.0\",\"0.1\",\"0.2\",\"0.3\",\"0.4\",\"0.5\",\"0.6\",\"0.7\",\"0.8\",\"0.9\",\"1.0\"],\"changes\":WebIO.getval({\"name\":\"changes\",\"scope\":\"6128110743222111748\",\"id\":\"ob_05\",\"type\":\"observable\"}),\"index\":WebIO.getval({\"name\":\"index\",\"scope\":\"6128110743222111748\",\"id\":\"ob_04\",\"type\":\"observable\"})};\n    var self = this;\n    function AppViewModel() {\n        for (var key in json_data) {\n            var el = json_data[key];\n            this[key] = Array.isArray(el) ? ko.observableArray(el) : ko.observable(el);\n        }\n        \n        [this[\"formatted_val\"]=ko.computed(    function(){\n        return this.formatted_vals()[parseInt(this.index())-(1)];\n    }\n,this)]\n        [this[\"changes\"].subscribe((function (val){!(this.valueFromJulia[\"changes\"]) ? (WebIO.setval({\"name\":\"changes\",\"scope\":\"6128110743222111748\",\"id\":\"ob_05\",\"type\":\"observable\"},val)) : undefined; return this.valueFromJulia[\"changes\"]=false}),self),this[\"index\"].subscribe((function (val){!(this.valueFromJulia[\"index\"]) ? (WebIO.setval({\"name\":\"index\",\"scope\":\"6128110743222111748\",\"id\":\"ob_04\",\"type\":\"observable\"},val)) : undefined; return this.valueFromJulia[\"index\"]=false}),self)]\n        \n    }\n    self.model = new AppViewModel();\n    self.valueFromJulia = {};\n    for (var key in json_data) {\n        self.valueFromJulia[key] = false;\n    }\n    ko.applyBindings(self.model, self.dom);\n}\n);\n    (WebIO.importBlock({\"data\":[{\"name\":\"knockout\",\"type\":\"js\",\"url\":\"/assetserver/770a4105885e188380f0560e309f836e0282fbc9-knockout.js\"},{\"name\":\"knockout_punches\",\"type\":\"js\",\"url\":\"/assetserver/20a2690722e74a76875c5ae3530aa6a4f9754d2c-knockout_punches.js\"}],\"type\":\"async_block\"})).then((imports) => handler.apply(this, imports));\n}\n"
            ],
            "observables": {
             "changes": {
              "id": "ob_05",
              "sync": false,
              "value": 0
             },
             "index": {
              "id": "ob_04",
              "sync": true,
              "value": 6
             }
            },
            "systemjs_options": null
           },
           "nodeType": "Scope",
           "props": {},
           "type": "node"
          }
         ],
         "instanceArgs": {
          "namespace": "html",
          "tag": "div"
         },
         "nodeType": "DOM",
         "props": {
          "className": "field interact-widget"
         },
         "type": "node"
        },
        {
         "children": [
          {
           "children": [],
           "instanceArgs": {
            "id": "ob_11",
            "name": "obs-node"
           },
           "nodeType": "ObservableNode",
           "props": {},
           "type": "node"
          }
         ],
         "instanceArgs": {
          "handlers": {},
          "id": "4376363184721576083",
          "imports": {
           "data": [],
           "type": "async_block"
          },
          "mount_callbacks": [],
          "observables": {
           "obs-node": {
            "id": "ob_11",
            "sync": false,
            "value": {
             "children": [
              {
               "children": [],
               "instanceArgs": {
                "namespace": "html",
                "tag": "div"
               },
               "nodeType": "DOM",
               "props": {
                "setInnerHtml": "<img src='data:image/png;base64,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'></img>"
               },
               "type": "node"
              }
             ],
             "instanceArgs": {
              "namespace": "html",
              "tag": "div"
             },
             "nodeType": "DOM",
             "props": {
              "className": "interact-flex-row interact-widget"
             },
             "type": "node"
            }
           }
          },
          "systemjs_options": null
         },
         "nodeType": "Scope",
         "props": {},
         "type": "node"
        }
       ],
       "instanceArgs": {
        "namespace": "html",
        "tag": "div"
       },
       "nodeType": "DOM",
       "props": {},
       "type": "node"
      },
      "text/html": [
       "<div\n",
       "    class=\"webio-mountpoint\"\n",
       "    data-webio-mountpoint=\"14377266613310202351\"\n",
       ">\n",
       "    <script>\n",
       "    if (window.require && require.defined && require.defined(\"nbextensions/webio-jupyter-notebook\")) {\n",
       "        console.log(\"Jupyter WebIO extension detected, not mounting.\");\n",
       "    } else if (window.WebIO) {\n",
       "        WebIO.mount(\n",
       "            document.querySelector('[data-webio-mountpoint=\"14377266613310202351\"]'),\n",
       "            {\"props\":{},\"nodeType\":\"DOM\",\"type\":\"node\",\"instanceArgs\":{\"namespace\":\"html\",\"tag\":\"div\"},\"children\":[{\"props\":{\"className\":\"interact-flex-row interact-widget\"},\"nodeType\":\"DOM\",\"type\":\"node\",\"instanceArgs\":{\"namespace\":\"html\",\"tag\":\"div\"},\"children\":[{\"props\":{\"className\":\"field interact-widget\"},\"nodeType\":\"DOM\",\"type\":\"node\",\"instanceArgs\":{\"namespace\":\"html\",\"tag\":\"div\"},\"children\":[{\"props\":{},\"nodeType\":\"Scope\",\"type\":\"node\",\"instanceArgs\":{\"imports\":{\"data\":[{\"name\":\"knockout\",\"type\":\"js\",\"url\":\"\\/assetserver\\/770a4105885e188380f0560e309f836e0282fbc9-knockout.js\"},{\"name\":\"knockout_punches\",\"type\":\"js\",\"url\":\"\\/assetserver\\/20a2690722e74a76875c5ae3530aa6a4f9754d2c-knockout_punches.js\"},{\"name\":null,\"type\":\"js\",\"url\":\"\\/assetserver\\/c7413e4ebee4c05e590578d485665977c12291d0-all.js\"},{\"name\":null,\"type\":\"css\",\"url\":\"\\/assetserver\\/921df7af813895b8966b97e208f1dbefc3a11fcb-style.css\"},{\"name\":null,\"type\":\"css\",\"url\":\"\\/assetserver\\/0547b079f97deda40879eacdc85d3fa8d53b4c58-bulma_confined.min.css\"}],\"type\":\"async_block\"},\"id\":\"4756053188366647917\",\"handlers\":{\"changes\":[\"(function (val){return (val!=this.model[\\\"changes\\\"]()) ? (this.valueFromJulia[\\\"changes\\\"]=true, this.model[\\\"changes\\\"](val)) : undefined})\"],\"value\":[\"(function (val){return (val!=this.model[\\\"value\\\"]()) ? (this.valueFromJulia[\\\"value\\\"]=true, this.model[\\\"value\\\"](val)) : undefined})\"]},\"systemjs_options\":null,\"mount_callbacks\":[\"function () {\\n    var handler = (function (ko, koPunches) {\\n    ko.punches.enableAll();\\n    ko.bindingHandlers.numericValue = {\\n        init: function(element, valueAccessor, allBindings, data, context) {\\n            var stringified = ko.observable(ko.unwrap(valueAccessor()));\\n            stringified.subscribe(function(value) {\\n                var val = parseFloat(value);\\n                if (!isNaN(val)) {\\n                    valueAccessor()(val);\\n                }\\n            });\\n            valueAccessor().subscribe(function(value) {\\n                var str = JSON.stringify(value);\\n                if ((str == \\\"0\\\") && ([\\\"-0\\\", \\\"-0.\\\"].indexOf(stringified()) >= 0))\\n                     return;\\n                 if ([\\\"null\\\", \\\"\\\"].indexOf(str) >= 0)\\n                     return;\\n                stringified(str);\\n            });\\n            ko.applyBindingsToNode(\\n                element,\\n                {\\n                    value: stringified,\\n                    valueUpdate: allBindings.get('valueUpdate'),\\n                },\\n                context,\\n            );\\n        }\\n    };\\n    var json_data = {\\\"changes\\\":WebIO.getval({\\\"name\\\":\\\"changes\\\",\\\"scope\\\":\\\"4756053188366647917\\\",\\\"id\\\":\\\"ob_02\\\",\\\"type\\\":\\\"observable\\\"}),\\\"value\\\":WebIO.getval({\\\"name\\\":\\\"value\\\",\\\"scope\\\":\\\"4756053188366647917\\\",\\\"id\\\":\\\"ob_01\\\",\\\"type\\\":\\\"observable\\\"})};\\n    var self = this;\\n    function AppViewModel() {\\n        for (var key in json_data) {\\n            var el = json_data[key];\\n            this[key] = Array.isArray(el) ? ko.observableArray(el) : ko.observable(el);\\n        }\\n        \\n        \\n        [this[\\\"changes\\\"].subscribe((function (val){!(this.valueFromJulia[\\\"changes\\\"]) ? (WebIO.setval({\\\"name\\\":\\\"changes\\\",\\\"scope\\\":\\\"4756053188366647917\\\",\\\"id\\\":\\\"ob_02\\\",\\\"type\\\":\\\"observable\\\"},val)) : undefined; return this.valueFromJulia[\\\"changes\\\"]=false}),self),this[\\\"value\\\"].subscribe((function (val){!(this.valueFromJulia[\\\"value\\\"]) ? (WebIO.setval({\\\"name\\\":\\\"value\\\",\\\"scope\\\":\\\"4756053188366647917\\\",\\\"id\\\":\\\"ob_01\\\",\\\"type\\\":\\\"observable\\\"},val)) : undefined; return this.valueFromJulia[\\\"value\\\"]=false}),self)]\\n        \\n    }\\n    self.model = new AppViewModel();\\n    self.valueFromJulia = {};\\n    for (var key in json_data) {\\n        self.valueFromJulia[key] = false;\\n    }\\n    ko.applyBindings(self.model, self.dom);\\n}\\n);\\n    (WebIO.importBlock({\\\"data\\\":[{\\\"name\\\":\\\"knockout\\\",\\\"type\\\":\\\"js\\\",\\\"url\\\":\\\"\\/assetserver\\/770a4105885e188380f0560e309f836e0282fbc9-knockout.js\\\"},{\\\"name\\\":\\\"knockout_punches\\\",\\\"type\\\":\\\"js\\\",\\\"url\\\":\\\"\\/assetserver\\/20a2690722e74a76875c5ae3530aa6a4f9754d2c-knockout_punches.js\\\"}],\\\"type\\\":\\\"async_block\\\"})).then((imports) => handler.apply(this, imports));\\n}\\n\"],\"observables\":{\"changes\":{\"sync\":false,\"id\":\"ob_02\",\"value\":0},\"value\":{\"sync\":true,\"id\":\"ob_01\",\"value\":false}}},\"children\":[{\"props\":{\"className\":\"field interact-widget\"},\"nodeType\":\"DOM\",\"type\":\"node\",\"instanceArgs\":{\"namespace\":\"html\",\"tag\":\"div\"},\"children\":[{\"props\":{\"attributes\":{\"type\":\"checkbox\",\"data-bind\":\"checked: value, valueUpdate: 'change', event: {change: function (){this.changes(this.changes()+1)}}\"},\"id\":\"##372\",\"className\":\"switch \",\"style\":{}},\"nodeType\":\"DOM\",\"type\":\"node\",\"instanceArgs\":{\"namespace\":\"html\",\"tag\":\"input\"},\"children\":[]},{\"props\":{\"attributes\":{\"className\":\"\",\"for\":\"##372\"}},\"nodeType\":\"DOM\",\"type\":\"node\",\"instanceArgs\":{\"namespace\":\"html\",\"tag\":\"label\"},\"children\":[\"y\"]}]}]}]}]},{\"props\":{\"className\":\"field interact-widget\"},\"nodeType\":\"DOM\",\"type\":\"node\",\"instanceArgs\":{\"namespace\":\"html\",\"tag\":\"div\"},\"children\":[{\"props\":{},\"nodeType\":\"Scope\",\"type\":\"node\",\"instanceArgs\":{\"imports\":{\"data\":[{\"name\":\"knockout\",\"type\":\"js\",\"url\":\"\\/assetserver\\/770a4105885e188380f0560e309f836e0282fbc9-knockout.js\"},{\"name\":\"knockout_punches\",\"type\":\"js\",\"url\":\"\\/assetserver\\/20a2690722e74a76875c5ae3530aa6a4f9754d2c-knockout_punches.js\"},{\"name\":null,\"type\":\"js\",\"url\":\"\\/assetserver\\/c7413e4ebee4c05e590578d485665977c12291d0-all.js\"},{\"name\":null,\"type\":\"css\",\"url\":\"\\/assetserver\\/921df7af813895b8966b97e208f1dbefc3a11fcb-style.css\"},{\"name\":null,\"type\":\"css\",\"url\":\"\\/assetserver\\/0547b079f97deda40879eacdc85d3fa8d53b4c58-bulma_confined.min.css\"}],\"type\":\"async_block\"},\"id\":\"6128110743222111748\",\"handlers\":{\"changes\":[\"(function (val){return (val!=this.model[\\\"changes\\\"]()) ? (this.valueFromJulia[\\\"changes\\\"]=true, this.model[\\\"changes\\\"](val)) : undefined})\"],\"index\":[\"(function (val){return (val!=this.model[\\\"index\\\"]()) ? (this.valueFromJulia[\\\"index\\\"]=true, this.model[\\\"index\\\"](val)) : undefined})\"]},\"systemjs_options\":null,\"mount_callbacks\":[\"function () {\\n    var handler = (function (ko, koPunches) {\\n    ko.punches.enableAll();\\n    ko.bindingHandlers.numericValue = {\\n        init: function(element, valueAccessor, allBindings, data, context) {\\n            var stringified = ko.observable(ko.unwrap(valueAccessor()));\\n            stringified.subscribe(function(value) {\\n                var val = parseFloat(value);\\n                if (!isNaN(val)) {\\n                    valueAccessor()(val);\\n                }\\n            });\\n            valueAccessor().subscribe(function(value) {\\n                var str = JSON.stringify(value);\\n                if ((str == \\\"0\\\") && ([\\\"-0\\\", \\\"-0.\\\"].indexOf(stringified()) >= 0))\\n                     return;\\n                 if ([\\\"null\\\", \\\"\\\"].indexOf(str) >= 0)\\n                     return;\\n                stringified(str);\\n            });\\n            ko.applyBindingsToNode(\\n                element,\\n                {\\n                    value: stringified,\\n                    valueUpdate: allBindings.get('valueUpdate'),\\n                },\\n                context,\\n            );\\n        }\\n    };\\n    var json_data = {\\\"formatted_vals\\\":[\\\"0.0\\\",\\\"0.1\\\",\\\"0.2\\\",\\\"0.3\\\",\\\"0.4\\\",\\\"0.5\\\",\\\"0.6\\\",\\\"0.7\\\",\\\"0.8\\\",\\\"0.9\\\",\\\"1.0\\\"],\\\"changes\\\":WebIO.getval({\\\"name\\\":\\\"changes\\\",\\\"scope\\\":\\\"6128110743222111748\\\",\\\"id\\\":\\\"ob_05\\\",\\\"type\\\":\\\"observable\\\"}),\\\"index\\\":WebIO.getval({\\\"name\\\":\\\"index\\\",\\\"scope\\\":\\\"6128110743222111748\\\",\\\"id\\\":\\\"ob_04\\\",\\\"type\\\":\\\"observable\\\"})};\\n    var self = this;\\n    function AppViewModel() {\\n        for (var key in json_data) {\\n            var el = json_data[key];\\n            this[key] = Array.isArray(el) ? ko.observableArray(el) : ko.observable(el);\\n        }\\n        \\n        [this[\\\"formatted_val\\\"]=ko.computed(    function(){\\n        return this.formatted_vals()[parseInt(this.index())-(1)];\\n    }\\n,this)]\\n        [this[\\\"changes\\\"].subscribe((function (val){!(this.valueFromJulia[\\\"changes\\\"]) ? (WebIO.setval({\\\"name\\\":\\\"changes\\\",\\\"scope\\\":\\\"6128110743222111748\\\",\\\"id\\\":\\\"ob_05\\\",\\\"type\\\":\\\"observable\\\"},val)) : undefined; return this.valueFromJulia[\\\"changes\\\"]=false}),self),this[\\\"index\\\"].subscribe((function (val){!(this.valueFromJulia[\\\"index\\\"]) ? (WebIO.setval({\\\"name\\\":\\\"index\\\",\\\"scope\\\":\\\"6128110743222111748\\\",\\\"id\\\":\\\"ob_04\\\",\\\"type\\\":\\\"observable\\\"},val)) : undefined; return this.valueFromJulia[\\\"index\\\"]=false}),self)]\\n        \\n    }\\n    self.model = new AppViewModel();\\n    self.valueFromJulia = {};\\n    for (var key in json_data) {\\n        self.valueFromJulia[key] = false;\\n    }\\n    ko.applyBindings(self.model, self.dom);\\n}\\n);\\n    (WebIO.importBlock({\\\"data\\\":[{\\\"name\\\":\\\"knockout\\\",\\\"type\\\":\\\"js\\\",\\\"url\\\":\\\"\\/assetserver\\/770a4105885e188380f0560e309f836e0282fbc9-knockout.js\\\"},{\\\"name\\\":\\\"knockout_punches\\\",\\\"type\\\":\\\"js\\\",\\\"url\\\":\\\"\\/assetserver\\/20a2690722e74a76875c5ae3530aa6a4f9754d2c-knockout_punches.js\\\"}],\\\"type\\\":\\\"async_block\\\"})).then((imports) => handler.apply(this, imports));\\n}\\n\"],\"observables\":{\"changes\":{\"sync\":false,\"id\":\"ob_05\",\"value\":0},\"index\":{\"sync\":true,\"id\":\"ob_04\",\"value\":6}}},\"children\":[{\"props\":{\"className\":\"interact-flex-row interact-widget\"},\"nodeType\":\"DOM\",\"type\":\"node\",\"instanceArgs\":{\"namespace\":\"html\",\"tag\":\"div\"},\"children\":[{\"props\":{\"className\":\"interact-flex-row-left\"},\"nodeType\":\"DOM\",\"type\":\"node\",\"instanceArgs\":{\"namespace\":\"html\",\"tag\":\"div\"},\"children\":[{\"props\":{\"className\":\"interact \",\"style\":{\"padding\":\"5px 10px 0px 10px\"}},\"nodeType\":\"DOM\",\"type\":\"node\",\"instanceArgs\":{\"namespace\":\"html\",\"tag\":\"label\"},\"children\":[\"θ\"]}]},{\"props\":{\"className\":\"interact-flex-row-center\"},\"nodeType\":\"DOM\",\"type\":\"node\",\"instanceArgs\":{\"namespace\":\"html\",\"tag\":\"div\"},\"children\":[{\"props\":{\"max\":11,\"min\":1,\"attributes\":{\"type\":\"range\",\"data-bind\":\"numericValue: index, valueUpdate: 'input', event: {change: function (){this.changes(this.changes()+1)}}\",\"orient\":\"horizontal\"},\"step\":1,\"className\":\"slider slider is-fullwidth\",\"style\":{}},\"nodeType\":\"DOM\",\"type\":\"node\",\"instanceArgs\":{\"namespace\":\"html\",\"tag\":\"input\"},\"children\":[]}]},{\"props\":{\"className\":\"interact-flex-row-right\"},\"nodeType\":\"DOM\",\"type\":\"node\",\"instanceArgs\":{\"namespace\":\"html\",\"tag\":\"div\"},\"children\":[{\"props\":{\"attributes\":{\"data-bind\":\"text: formatted_val\"}},\"nodeType\":\"DOM\",\"type\":\"node\",\"instanceArgs\":{\"namespace\":\"html\",\"tag\":\"p\"},\"children\":[]}]}]}]}]},{\"props\":{},\"nodeType\":\"Scope\",\"type\":\"node\",\"instanceArgs\":{\"imports\":{\"data\":[],\"type\":\"async_block\"},\"id\":\"14829851124808627574\",\"handlers\":{},\"systemjs_options\":null,\"mount_callbacks\":[],\"observables\":{\"obs-node\":{\"sync\":false,\"id\":\"ob_09\",\"value\":{\"props\":{\"className\":\"interact-flex-row interact-widget\"},\"nodeType\":\"DOM\",\"type\":\"node\",\"instanceArgs\":{\"namespace\":\"html\",\"tag\":\"div\"},\"children\":[{\"props\":{\"setInnerHtml\":\"<img src='data:image\\/png;base64,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'><\\/img>\"},\"nodeType\":\"DOM\",\"type\":\"node\",\"instanceArgs\":{\"namespace\":\"html\",\"tag\":\"div\"},\"children\":[]}]}}}},\"children\":[{\"props\":{},\"nodeType\":\"ObservableNode\",\"type\":\"node\",\"instanceArgs\":{\"id\":\"ob_09\",\"name\":\"obs-node\"},\"children\":[]}]}]},\n",
       "            window,\n",
       "        );\n",
       "    } else {\n",
       "        document\n",
       "            .querySelector('[data-webio-mountpoint=\"14377266613310202351\"]')\n",
       "            .innerHTML = (\n",
       "                '<strong>WebIO not detected. Please read ' +\n",
       "                '<a href=\"https://juliagizmos.github.io/WebIO.jl/latest/troubleshooting/not-detected/\">the troubleshooting guide</a> ' +\n",
       "                'for more information on how to resolve this issue.' +\n",
       "                '</strong>'\n",
       "            );\n",
       "    }\n",
       "    </script>\n",
       "</div>\n"
      ],
      "text/plain": [
       "Node{WebIO.DOM}(WebIO.DOM(:html, :div), Any[Node{WebIO.DOM}(WebIO.DOM(:html, :div), Any[Node{WebIO.DOM}(WebIO.DOM(:html, :div), Any[Scope(Node{WebIO.DOM}(WebIO.DOM(:html, :div), Any[Node{WebIO.DOM}(WebIO.DOM(:html, :input), Any[], Dict{Symbol,Any}(:attributes => Dict{Any,Any}(:type => \"checkbox\",Symbol(\"data-bind\") => \"checked: value, valueUpdate: 'change', event: {change: function (){this.changes(this.changes()+1)}}\"),:id => \"##372\",:className => \"switch \",:style => Dict{Any,Any}())), Node{WebIO.DOM}(WebIO.DOM(:html, :label), Any[\"y\"], Dict{Symbol,Any}(:attributes => Dict(\"className\" => \"\",\"for\" => \"##372\")))], Dict{Symbol,Any}(:className => \"field interact-widget\")), Dict{String,Tuple{Observables.AbstractObservable,Union{Nothing, Bool}}}(\"changes\" => (Observable{Int64} with 1 listeners. Value:\n",
       "0, nothing),\"value\" => (Observable{Bool} with 2 listeners. Value:\n",
       "false, nothing)), Set(String[]), nothing, Asset[Asset(\"js\", \"knockout\", \"/Users/bert/.julia/packages/Knockout/1sDlc/src/../assets/knockout.js\"), Asset(\"js\", \"knockout_punches\", \"/Users/bert/.julia/packages/Knockout/1sDlc/src/../assets/knockout_punches.js\"), Asset(\"js\", nothing, \"/Users/bert/.julia/packages/InteractBase/9mFwe/src/../assets/all.js\"), Asset(\"css\", nothing, \"/Users/bert/.julia/packages/InteractBase/9mFwe/src/../assets/style.css\"), Asset(\"css\", nothing, \"/Users/bert/.julia/packages/Interact/SbgIk/src/../assets/bulma_confined.min.css\")], Dict{Any,Any}(\"changes\" => Any[WebIO.JSString(\"(function (val){return (val!=this.model[\\\"changes\\\"]()) ? (this.valueFromJulia[\\\"changes\\\"]=true, this.model[\\\"changes\\\"](val)) : undefined})\")],\"value\" => Any[WebIO.JSString(\"(function (val){return (val!=this.model[\\\"value\\\"]()) ? (this.valueFromJulia[\\\"value\\\"]=true, this.model[\\\"value\\\"](val)) : undefined})\")]), WebIO.ConnectionPool(Channel{Any}(sz_max:32,sz_curr:0), Set(AbstractConnection[]), Base.GenericCondition{Base.AlwaysLockedST}(Base.InvasiveLinkedList{Task}(Task (runnable) @0x00000001156f2d10, Task (runnable) @0x00000001156f2d10), Base.AlwaysLockedST(1))), WebIO.JSString[WebIO.JSString(\"function () {\\n    var handler = (function (ko, koPunches) {\\n    ko.punches.enableAll();\\n    ko.bindingHandlers.numericValue = {\\n        init: function(element, valueAccessor, allBindings, data, context) {\\n            var stringified = ko.observable(ko.unwrap(valueAccessor()));\\n            stringified.subscribe(function(value) {\\n                var val = parseFloat(value);\\n                if (!isNaN(val)) {\\n                    valueAccessor()(val);\\n                }\\n            });\\n            valueAccessor().subscribe(function(value) {\\n                var str = JSON.stringify(value);\\n                if ((str == \\\"0\\\") && ([\\\"-0\\\", \\\"-0.\\\"].indexOf(stringified()) >= 0))\\n                     return;\\n                 if ([\\\"null\\\", \\\"\\\"].indexOf(str) >= 0)\\n                     return;\\n                stringified(str);\\n            });\\n            ko.applyBindingsToNode(\\n                element,\\n                {\\n                    value: stringified,\\n                    valueUpdate: allBindings.get('valueUpdate'),\\n                },\\n                context,\\n            );\\n        }\\n    };\\n    var json_data = {\\\"changes\\\":WebIO.getval({\\\"name\\\":\\\"changes\\\",\\\"scope\\\":\\\"4756053188366647917\\\",\\\"id\\\":\\\"ob_02\\\",\\\"type\\\":\\\"observable\\\"}),\\\"value\\\":WebIO.getval({\\\"name\\\":\\\"value\\\",\\\"scope\\\":\\\"4756053188366647917\\\",\\\"id\\\":\\\"ob_01\\\",\\\"type\\\":\\\"observable\\\"})};\\n    var self = this;\\n    function AppViewModel() {\\n        for (var key in json_data) {\\n            var el = json_data[key];\\n            this[key] = Array.isArray(el) ? ko.observableArray(el) : ko.observable(el);\\n        }\\n        \\n        \\n        [this[\\\"changes\\\"].subscribe((function (val){!(this.valueFromJulia[\\\"changes\\\"]) ? (WebIO.setval({\\\"name\\\":\\\"changes\\\",\\\"scope\\\":\\\"4756053188366647917\\\",\\\"id\\\":\\\"ob_02\\\",\\\"type\\\":\\\"observable\\\"},val)) : undefined; return this.valueFromJulia[\\\"changes\\\"]=false}),self),this[\\\"value\\\"].subscribe((function (val){!(this.valueFromJulia[\\\"value\\\"]) ? (WebIO.setval({\\\"name\\\":\\\"value\\\",\\\"scope\\\":\\\"4756053188366647917\\\",\\\"id\\\":\\\"ob_01\\\",\\\"type\\\":\\\"observable\\\"},val)) : undefined; return this.valueFromJulia[\\\"value\\\"]=false}),self)]\\n        \\n    }\\n    self.model = new AppViewModel();\\n    self.valueFromJulia = {};\\n    for (var key in json_data) {\\n        self.valueFromJulia[key] = false;\\n    }\\n    ko.applyBindings(self.model, self.dom);\\n}\\n);\\n    (WebIO.importBlock({\\\"data\\\":[{\\\"name\\\":\\\"knockout\\\",\\\"type\\\":\\\"js\\\",\\\"url\\\":\\\"/assetserver/770a4105885e188380f0560e309f836e0282fbc9-knockout.js\\\"},{\\\"name\\\":\\\"knockout_punches\\\",\\\"type\\\":\\\"js\\\",\\\"url\\\":\\\"/assetserver/20a2690722e74a76875c5ae3530aa6a4f9754d2c-knockout_punches.js\\\"}],\\\"type\\\":\\\"async_block\\\"})).then((imports) => handler.apply(this, imports));\\n}\\n\")])], Dict{Symbol,Any}(:className => \"field interact-widget\"))], Dict{Symbol,Any}(:className => \"interact-flex-row interact-widget\")), Node{WebIO.DOM}(WebIO.DOM(:html, :div), Any[Scope(Node{WebIO.DOM}(WebIO.DOM(:html, :div), Any[Node{WebIO.DOM}(WebIO.DOM(:html, :div), Any[Node{WebIO.DOM}(WebIO.DOM(:html, :label), Any[\"θ\"], Dict{Symbol,Any}(:className => \"interact \",:style => Dict{Any,Any}(:padding => \"5px 10px 0px 10px\")))], Dict{Symbol,Any}(:className => \"interact-flex-row-left\")), Node{WebIO.DOM}(WebIO.DOM(:html, :div), Any[Node{WebIO.DOM}(WebIO.DOM(:html, :input), Any[], Dict{Symbol,Any}(:max => 11,:min => 1,:attributes => Dict{Any,Any}(:type => \"range\",Symbol(\"data-bind\") => \"numericValue: index, valueUpdate: 'input', event: {change: function (){this.changes(this.changes()+1)}}\",\"orient\" => \"horizontal\"),:step => 1,:className => \"slider slider is-fullwidth\",:style => Dict{Any,Any}()))], Dict{Symbol,Any}(:className => \"interact-flex-row-center\")), Node{WebIO.DOM}(WebIO.DOM(:html, :div), Any[Node{WebIO.DOM}(WebIO.DOM(:html, :p), Any[], Dict{Symbol,Any}(:attributes => Dict(\"data-bind\" => \"text: formatted_val\")))], Dict{Symbol,Any}(:className => \"interact-flex-row-right\"))], Dict{Symbol,Any}(:className => \"interact-flex-row interact-widget\")), Dict{String,Tuple{Observables.AbstractObservable,Union{Nothing, Bool}}}(\"changes\" => (Observable{Int64} with 1 listeners. Value:\n",
       "0, nothing),\"index\" => (Observable{Any} with 2 listeners. Value:\n",
       "6, nothing)), Set(String[]), nothing, Asset[Asset(\"js\", \"knockout\", \"/Users/bert/.julia/packages/Knockout/1sDlc/src/../assets/knockout.js\"), Asset(\"js\", \"knockout_punches\", \"/Users/bert/.julia/packages/Knockout/1sDlc/src/../assets/knockout_punches.js\"), Asset(\"js\", nothing, \"/Users/bert/.julia/packages/InteractBase/9mFwe/src/../assets/all.js\"), Asset(\"css\", nothing, \"/Users/bert/.julia/packages/InteractBase/9mFwe/src/../assets/style.css\"), Asset(\"css\", nothing, \"/Users/bert/.julia/packages/Interact/SbgIk/src/../assets/bulma_confined.min.css\")], Dict{Any,Any}(\"changes\" => Any[WebIO.JSString(\"(function (val){return (val!=this.model[\\\"changes\\\"]()) ? (this.valueFromJulia[\\\"changes\\\"]=true, this.model[\\\"changes\\\"](val)) : undefined})\")],\"index\" => Any[WebIO.JSString(\"(function (val){return (val!=this.model[\\\"index\\\"]()) ? (this.valueFromJulia[\\\"index\\\"]=true, this.model[\\\"index\\\"](val)) : undefined})\")]), WebIO.ConnectionPool(Channel{Any}(sz_max:32,sz_curr:0), Set(AbstractConnection[]), Base.GenericCondition{Base.AlwaysLockedST}(Base.InvasiveLinkedList{Task}(Task (runnable) @0x00000001160a2890, Task (runnable) @0x00000001160a2890), Base.AlwaysLockedST(1))), WebIO.JSString[WebIO.JSString(\"function () {\\n    var handler = (function (ko, koPunches) {\\n    ko.punches.enableAll();\\n    ko.bindingHandlers.numericValue = {\\n        init: function(element, valueAccessor, allBindings, data, context) {\\n            var stringified = ko.observable(ko.unwrap(valueAccessor()));\\n            stringified.subscribe(function(value) {\\n                var val = parseFloat(value);\\n                if (!isNaN(val)) {\\n                    valueAccessor()(val);\\n                }\\n            });\\n            valueAccessor().subscribe(function(value) {\\n                var str = JSON.stringify(value);\\n                if ((str == \\\"0\\\") && ([\\\"-0\\\", \\\"-0.\\\"].indexOf(stringified()) >= 0))\\n                     return;\\n                 if ([\\\"null\\\", \\\"\\\"].indexOf(str) >= 0)\\n                     return;\\n                stringified(str);\\n            });\\n            ko.applyBindingsToNode(\\n                element,\\n                {\\n                    value: stringified,\\n                    valueUpdate: allBindings.get('valueUpdate'),\\n                },\\n                context,\\n            );\\n        }\\n    };\\n    var json_data = {\\\"formatted_vals\\\":[\\\"0.0\\\",\\\"0.1\\\",\\\"0.2\\\",\\\"0.3\\\",\\\"0.4\\\",\\\"0.5\\\",\\\"0.6\\\",\\\"0.7\\\",\\\"0.8\\\",\\\"0.9\\\",\\\"1.0\\\"],\\\"changes\\\":WebIO.getval({\\\"name\\\":\\\"changes\\\",\\\"scope\\\":\\\"6128110743222111748\\\",\\\"id\\\":\\\"ob_05\\\",\\\"type\\\":\\\"observable\\\"}),\\\"index\\\":WebIO.getval({\\\"name\\\":\\\"index\\\",\\\"scope\\\":\\\"6128110743222111748\\\",\\\"id\\\":\\\"ob_04\\\",\\\"type\\\":\\\"observable\\\"})};\\n    var self = this;\\n    function AppViewModel() {\\n        for (var key in json_data) {\\n            var el = json_data[key];\\n            this[key] = Array.isArray(el) ? ko.observableArray(el) : ko.observable(el);\\n        }\\n        \\n        [this[\\\"formatted_val\\\"]=ko.computed(    function(){\\n        return this.formatted_vals()[parseInt(this.index())-(1)];\\n    }\\n,this)]\\n        [this[\\\"changes\\\"].subscribe((function (val){!(this.valueFromJulia[\\\"changes\\\"]) ? (WebIO.setval({\\\"name\\\":\\\"changes\\\",\\\"scope\\\":\\\"6128110743222111748\\\",\\\"id\\\":\\\"ob_05\\\",\\\"type\\\":\\\"observable\\\"},val)) : undefined; return this.valueFromJulia[\\\"changes\\\"]=false}),self),this[\\\"index\\\"].subscribe((function (val){!(this.valueFromJulia[\\\"index\\\"]) ? (WebIO.setval({\\\"name\\\":\\\"index\\\",\\\"scope\\\":\\\"6128110743222111748\\\",\\\"id\\\":\\\"ob_04\\\",\\\"type\\\":\\\"observable\\\"},val)) : undefined; return this.valueFromJulia[\\\"index\\\"]=false}),self)]\\n        \\n    }\\n    self.model = new AppViewModel();\\n    self.valueFromJulia = {};\\n    for (var key in json_data) {\\n        self.valueFromJulia[key] = false;\\n    }\\n    ko.applyBindings(self.model, self.dom);\\n}\\n);\\n    (WebIO.importBlock({\\\"data\\\":[{\\\"name\\\":\\\"knockout\\\",\\\"type\\\":\\\"js\\\",\\\"url\\\":\\\"/assetserver/770a4105885e188380f0560e309f836e0282fbc9-knockout.js\\\"},{\\\"name\\\":\\\"knockout_punches\\\",\\\"type\\\":\\\"js\\\",\\\"url\\\":\\\"/assetserver/20a2690722e74a76875c5ae3530aa6a4f9754d2c-knockout_punches.js\\\"}],\\\"type\\\":\\\"async_block\\\"})).then((imports) => handler.apply(this, imports));\\n}\\n\")])], Dict{Symbol,Any}(:className => \"field interact-widget\")), Observable{Any} with 0 listeners. Value:\n",
       "Node{WebIO.DOM}(WebIO.DOM(:html, :div), Any[Figure(PyObject <Figure size 640x480 with 2 Axes>)], Dict{Symbol,Any}(:className => \"interact-flex-row interact-widget\"))], Dict{Symbol,Any}())"
      ]
     },
     "execution_count": 1,
     "metadata": {},
     "output_type": "execute_result"
    }
   ],
   "source": [
    "using Reactive, Interact, PyPlot\n",
    "p(y,θ) = θ.^y .* (1 .- θ).^(1 .- y)\n",
    "f = figure()\n",
    "@manipulate for y=false, θ=0:0.1:1; withfig(f) do\n",
    "        # Plot the sampling distribution\n",
    "        subplot(221); stem([0,1], p([0,1],θ)); \n",
    "        title(\"Sampling distribution\"); \n",
    "        xlim([-0.5,1.5]); ylim([0,1]); xlabel(\"y\"); ylabel(\"p(y|θ=$(θ))\");\n",
    "        # Plot the likelihood function\n",
    "        _θ = range(0.0, stop=1.0, length=100)\n",
    "        subplot(222); plot(_θ, p(convert(Float64,y), _θ)); \n",
    "        title(\"Likelihood function\"); \n",
    "        xlabel(\"θ\"); \n",
    "        ylabel(\"L(θ) = p(y=$(convert(Float64,y))|θ)\");\n",
    "    end\n",
    "end"
   ]
  },
  {
   "cell_type": "markdown",
   "metadata": {
    "slideshow": {
     "slide_type": "fragment"
    }
   },
   "source": [
    "The (discrete) sampling distribution is a valid probability distribution. \n",
    "However, the likelihood function $L(\\theta)$ clearly isn't, since $\\int_0^1 L(\\theta) \\mathrm{d}\\theta \\neq 1$. \n"
   ]
  },
  {
   "cell_type": "markdown",
   "metadata": {
    "slideshow": {
     "slide_type": "slide"
    }
   },
   "source": [
    "### Probabilistic Inference\n",
    "\n",
    "- **Probabilistic inference** refers to computing\n",
    "$$\n",
    "p(\\,\\text{whatever-we-want-to-know}\\, | \\,\\text{whatever-we-already-know}\\,)\n",
    "$$\n",
    "  - For example: \n",
    "  $$\\begin{align*}\n",
    " p(\\,\\text{Mr.S.-killed-Mrs.S.} \\;&|\\; \\text{he-has-her-blood-on-his-shirt}\\,) \\\\\n",
    " p(\\,\\text{transmitted-codeword} \\;&|\\;\\text{received-codeword}\\,) \n",
    "  \\end{align*}$$"
   ]
  },
  {
   "cell_type": "markdown",
   "metadata": {
    "slideshow": {
     "slide_type": "fragment"
    }
   },
   "source": [
    "- This can be accomplished by repeated application of sum and product rules."
   ]
  },
  {
   "cell_type": "markdown",
   "metadata": {
    "slideshow": {
     "slide_type": "fragment"
    }
   },
   "source": [
    "- In particular, consider a joint distribution $p(X,Y,Z)$. Assume we are interested in $p(X|Z)$:\n",
    "$$\\begin{align*}\n",
    "p(X|Z) \\stackrel{p}{=} \\frac{p(X,Z)}{p(Z)} \\stackrel{s}{=} \\frac{\\sum_Y p(X,Y,Z)}{\\sum_{X,Y} p(X,Y,Z)} \\,,\n",
    "\\end{align*}$$\n",
    "where the 's' and 'p' above the equality sign indicate whether the sum or product rule was used. "
   ]
  },
  {
   "cell_type": "markdown",
   "metadata": {
    "slideshow": {
     "slide_type": "fragment"
    }
   },
   "source": [
    "- In the rest of this course, we'll encounter many long probabilistic derivations. For each manipulation, you should be able to associate an 's' (for sum rule), a 'p' (for product or Bayes rule) or an 'm' (for a simplifying model assumption) above any equality sign."
   ]
  },
  {
   "cell_type": "markdown",
   "metadata": {
    "slideshow": {
     "slide_type": "slide"
    }
   },
   "source": [
    "### Working out the example problem: Disease Diagnosis\n",
    "\n",
    "- **Problem**: Given a disease $D$ with prevalence of $1\\%$ and a test procedure $T$ with sensitivity ('true positive' rate) of $95\\%$ and specificity ('true negative' rate) of $85\\%$, what is the chance that somebody who tests positive actually has the disease?"
   ]
  },
  {
   "cell_type": "markdown",
   "metadata": {
    "slideshow": {
     "slide_type": "fragment"
    }
   },
   "source": [
    "- **Solution**: The given data are $p(D=1)=0.01$, $p(T=1|D=1)=0.95$ and $p(T=0|D=0)=0.85$. Then according to Bayes rule,\n",
    "\n",
    "$$\\begin{align*}\n",
    "p( D=1 &| T=1) \\\\\n",
    "&\\stackrel{p}{=} \\frac{p(T=1|D=1)p(D=1)}{p(T=1)} \\\\\n",
    "&\\stackrel{s}{=} \\frac{p(T=1|D=1)p(D=1)}{p(T=1|D=1)p(D=1)+p(T=1|D=0)p(D=0)} \\\\\n",
    "&= \\frac{0.95\\times0.01}{0.95\\times0.01 + 0.15\\times0.99} = 0.0601\n",
    "\\end{align*}$$"
   ]
  },
  {
   "cell_type": "markdown",
   "metadata": {
    "slideshow": {
     "slide_type": "slide"
    }
   },
   "source": [
    "### Inference Exercise: Bag Counter\n",
    "\n",
    "- **Problem**:  A bag contains one ball, known to be either white or black. A white ball is put in, the bag is shaken,\n",
    " and a ball is drawn out, which proves to be white. What is now the\n",
    " chance of drawing a white ball?\n",
    " "
   ]
  },
  {
   "cell_type": "markdown",
   "metadata": {
    "slideshow": {
     "slide_type": "fragment"
    }
   },
   "source": [
    "- **Solution**: Again, use Bayes and marginalization to arrive at $p(\\text{white}|\\text{data})=2/3$, see Exercises below.\n",
    "\n",
    "- $\\Rightarrow$ Note that probabilities describe **a person's state of knowledge** rather than a 'property of nature'."
   ]
  },
  {
   "cell_type": "markdown",
   "metadata": {
    "slideshow": {
     "slide_type": "slide"
    }
   },
   "source": [
    "### Inference Exercise: Causality?\n",
    "\n",
    "- **Problem**: A dark bag contains five red balls and seven green ones. (a) What is the probability of drawing a red ball on the first draw? Balls are not returned to the bag after each draw. (b) If you know that on the second draw the ball was a green one, what is now the probability of drawing a red ball on the first draw?"
   ]
  },
  {
   "cell_type": "markdown",
   "metadata": {
    "slideshow": {
     "slide_type": "fragment"
    }
   },
   "source": [
    "- **Solution**: (a) $5/12$. (b) $5/11$, see Exercises below.\n",
    "\n",
    "- $\\Rightarrow$ Again, we conclude that conditional probabilities reflect **implications for a state of knowledge** rather than temporal causality."
   ]
  },
  {
   "cell_type": "markdown",
   "metadata": {
    "slideshow": {
     "slide_type": "slide"
    }
   },
   "source": [
    "### PDF for the Sum of Two Variables\n",
    "\n",
    "- Given two random **independent** variables\n",
    "$X$ and $Y$, with PDF's $p_x(x)$ and $p_y(y)$. The PDF for $Z=X+Y$ is given by \n",
    "$$\n",
    "p_z (z) = \\int_{ - \\infty }^\\infty  {p_x (x)p_y (z - x)\\,\\mathrm{d}{x}}\n",
    "$$ \n"
   ]
  },
  {
   "cell_type": "markdown",
   "metadata": {
    "slideshow": {
     "slide_type": "fragment"
    }
   },
   "source": [
    "- **Proof**: Let $p_z(z)$ be the probability that $Z$ has value $z$. This occurs if $X$ has some value $x$ and at the same time $Y=z-x$, with joint probability $p_x(x)p_y(z-x)$. Since $x$ can be any value, we sum over all possible values for $x$ to get\n",
    "$\n",
    "p_z (z) = \\int_{ - \\infty }^\\infty  {p_x (x)p_y (z - x)\\,\\mathrm{d}{x}}\n",
    "$    \n",
    "  - I.o.w., $p_z(z)$ is the **convolution** of $p_x$ and $p_y$.\n",
    "  - Note that $p_z(z) \\neq p_x(x) + p_y(y)\\,$ !!\n",
    " "
   ]
  },
  {
   "cell_type": "markdown",
   "metadata": {
    "slideshow": {
     "slide_type": "fragment"
    }
   },
   "source": [
    "- [https://en.wikipedia.org/wiki/List_of_convolutions_of_probability_distributions](https://en.wikipedia.org/wiki/List_of_convolutions_of_probability_distributions) shows how these convolutions work out for a few common probability distributions. "
   ]
  },
  {
   "cell_type": "markdown",
   "metadata": {
    "slideshow": {
     "slide_type": "fragment"
    }
   },
   "source": [
    "- In linear stochastic systems theory, the Fourier Transform of a PDF (i.e., the characteristic function) plays an important computational role. Why?"
   ]
  },
  {
   "cell_type": "markdown",
   "metadata": {
    "slideshow": {
     "slide_type": "slide"
    }
   },
   "source": [
    "#### CODE EXAMPLE\n",
    "\n",
    "- Consider the PDF of the sum of two independent Gaussians $X$ and $Y$:\n",
    "\n",
    "$$\\begin{align*}\n",
    "p_X(x) &= \\mathcal{N}(\\,x\\,|\\,\\mu_X,\\sigma_X^2\\,) \\\\ \n",
    "p_Y(y) &= \\mathcal{N}(\\,y\\,|\\,\\mu_Y,\\sigma_Y^2\\,) \\\\\n",
    "Z &= X + Y\n",
    "\\end{align*}$$\n",
    "\n",
    "- Performing the convolution (nice exercise) yields a Gaussian PDF for $Z$: \n",
    "\n",
    "$$\n",
    "p_Z(z) = \\mathcal{N}(\\,z\\,|\\,\\mu_X+\\mu_Y,\\sigma_X^2+\\sigma_Y^2\\,).\n",
    "$$"
   ]
  },
  {
   "cell_type": "code",
   "execution_count": 2,
   "metadata": {
    "slideshow": {
     "slide_type": "subslide"
    }
   },
   "outputs": [
    {
     "data": {
      "application/vnd.webio.node+json": {
       "children": [
        {
         "children": [
          {
           "children": [
            {
             "children": [
              {
               "children": [
                {
                 "children": [
                  "μx"
                 ],
                 "instanceArgs": {
                  "namespace": "html",
                  "tag": "label"
                 },
                 "nodeType": "DOM",
                 "props": {
                  "className": "interact ",
                  "style": {
                   "padding": "5px 10px 0px 10px"
                  }
                 },
                 "type": "node"
                }
               ],
               "instanceArgs": {
                "namespace": "html",
                "tag": "div"
               },
               "nodeType": "DOM",
               "props": {
                "className": "interact-flex-row-left"
               },
               "type": "node"
              },
              {
               "children": [
                {
                 "children": [],
                 "instanceArgs": {
                  "namespace": "html",
                  "tag": "input"
                 },
                 "nodeType": "DOM",
                 "props": {
                  "attributes": {
                   "data-bind": "numericValue: index, valueUpdate: 'input', event: {change: function (){this.changes(this.changes()+1)}}",
                   "orient": "horizontal",
                   "type": "range"
                  },
                  "className": "slider slider is-fullwidth",
                  "max": 41,
                  "min": 1,
                  "step": 1,
                  "style": {}
                 },
                 "type": "node"
                }
               ],
               "instanceArgs": {
                "namespace": "html",
                "tag": "div"
               },
               "nodeType": "DOM",
               "props": {
                "className": "interact-flex-row-center"
               },
               "type": "node"
              },
              {
               "children": [
                {
                 "children": [],
                 "instanceArgs": {
                  "namespace": "html",
                  "tag": "p"
                 },
                 "nodeType": "DOM",
                 "props": {
                  "attributes": {
                   "data-bind": "text: formatted_val"
                  }
                 },
                 "type": "node"
                }
               ],
               "instanceArgs": {
                "namespace": "html",
                "tag": "div"
               },
               "nodeType": "DOM",
               "props": {
                "className": "interact-flex-row-right"
               },
               "type": "node"
              }
             ],
             "instanceArgs": {
              "namespace": "html",
              "tag": "div"
             },
             "nodeType": "DOM",
             "props": {
              "className": "interact-flex-row interact-widget"
             },
             "type": "node"
            }
           ],
           "instanceArgs": {
            "handlers": {
             "changes": [
              "(function (val){return (val!=this.model[\"changes\"]()) ? (this.valueFromJulia[\"changes\"]=true, this.model[\"changes\"](val)) : undefined})"
             ],
             "index": [
              "(function (val){return (val!=this.model[\"index\"]()) ? (this.valueFromJulia[\"index\"]=true, this.model[\"index\"](val)) : undefined})"
             ]
            },
            "id": "4103046549853447133",
            "imports": {
             "data": [
              {
               "name": "knockout",
               "type": "js",
               "url": "/assetserver/770a4105885e188380f0560e309f836e0282fbc9-knockout.js"
              },
              {
               "name": "knockout_punches",
               "type": "js",
               "url": "/assetserver/20a2690722e74a76875c5ae3530aa6a4f9754d2c-knockout_punches.js"
              },
              {
               "name": null,
               "type": "js",
               "url": "/assetserver/c7413e4ebee4c05e590578d485665977c12291d0-all.js"
              },
              {
               "name": null,
               "type": "css",
               "url": "/assetserver/921df7af813895b8966b97e208f1dbefc3a11fcb-style.css"
              },
              {
               "name": null,
               "type": "css",
               "url": "/assetserver/0547b079f97deda40879eacdc85d3fa8d53b4c58-bulma_confined.min.css"
              }
             ],
             "type": "async_block"
            },
            "mount_callbacks": [
             "function () {\n    var handler = (function (ko, koPunches) {\n    ko.punches.enableAll();\n    ko.bindingHandlers.numericValue = {\n        init: function(element, valueAccessor, allBindings, data, context) {\n            var stringified = ko.observable(ko.unwrap(valueAccessor()));\n            stringified.subscribe(function(value) {\n                var val = parseFloat(value);\n                if (!isNaN(val)) {\n                    valueAccessor()(val);\n                }\n            });\n            valueAccessor().subscribe(function(value) {\n                var str = JSON.stringify(value);\n                if ((str == \"0\") && ([\"-0\", \"-0.\"].indexOf(stringified()) >= 0))\n                     return;\n                 if ([\"null\", \"\"].indexOf(str) >= 0)\n                     return;\n                stringified(str);\n            });\n            ko.applyBindingsToNode(\n                element,\n                {\n                    value: stringified,\n                    valueUpdate: allBindings.get('valueUpdate'),\n                },\n                context,\n            );\n        }\n    };\n    var json_data = {\"formatted_vals\":[\"0.0\",\"0.1\",\"0.2\",\"0.3\",\"0.4\",\"0.5\",\"0.6\",\"0.7\",\"0.8\",\"0.9\",\"1.0\",\"1.1\",\"1.2\",\"1.3\",\"1.4\",\"1.5\",\"1.6\",\"1.7\",\"1.8\",\"1.9\",\"2.0\",\"2.1\",\"2.2\",\"2.3\",\"2.4\",\"2.5\",\"2.6\",\"2.7\",\"2.8\",\"2.9\",\"3.0\",\"3.1\",\"3.2\",\"3.3\",\"3.4\",\"3.5\",\"3.6\",\"3.7\",\"3.8\",\"3.9\",\"4.0\"],\"changes\":WebIO.getval({\"name\":\"changes\",\"scope\":\"4103046549853447133\",\"id\":\"ob_14\",\"type\":\"observable\"}),\"index\":WebIO.getval({\"name\":\"index\",\"scope\":\"4103046549853447133\",\"id\":\"ob_13\",\"type\":\"observable\"})};\n    var self = this;\n    function AppViewModel() {\n        for (var key in json_data) {\n            var el = json_data[key];\n            this[key] = Array.isArray(el) ? ko.observableArray(el) : ko.observable(el);\n        }\n        \n        [this[\"formatted_val\"]=ko.computed(    function(){\n        return this.formatted_vals()[parseInt(this.index())-(1)];\n    }\n,this)]\n        [this[\"changes\"].subscribe((function (val){!(this.valueFromJulia[\"changes\"]) ? (WebIO.setval({\"name\":\"changes\",\"scope\":\"4103046549853447133\",\"id\":\"ob_14\",\"type\":\"observable\"},val)) : undefined; return this.valueFromJulia[\"changes\"]=false}),self),this[\"index\"].subscribe((function (val){!(this.valueFromJulia[\"index\"]) ? (WebIO.setval({\"name\":\"index\",\"scope\":\"4103046549853447133\",\"id\":\"ob_13\",\"type\":\"observable\"},val)) : undefined; return this.valueFromJulia[\"index\"]=false}),self)]\n        \n    }\n    self.model = new AppViewModel();\n    self.valueFromJulia = {};\n    for (var key in json_data) {\n        self.valueFromJulia[key] = false;\n    }\n    ko.applyBindings(self.model, self.dom);\n}\n);\n    (WebIO.importBlock({\"data\":[{\"name\":\"knockout\",\"type\":\"js\",\"url\":\"/assetserver/770a4105885e188380f0560e309f836e0282fbc9-knockout.js\"},{\"name\":\"knockout_punches\",\"type\":\"js\",\"url\":\"/assetserver/20a2690722e74a76875c5ae3530aa6a4f9754d2c-knockout_punches.js\"}],\"type\":\"async_block\"})).then((imports) => handler.apply(this, imports));\n}\n"
            ],
            "observables": {
             "changes": {
              "id": "ob_14",
              "sync": false,
              "value": 0
             },
             "index": {
              "id": "ob_13",
              "sync": true,
              "value": 21
             }
            },
            "systemjs_options": null
           },
           "nodeType": "Scope",
           "props": {},
           "type": "node"
          }
         ],
         "instanceArgs": {
          "namespace": "html",
          "tag": "div"
         },
         "nodeType": "DOM",
         "props": {
          "className": "field interact-widget"
         },
         "type": "node"
        },
        {
         "children": [
          {
           "children": [
            {
             "children": [
              {
               "children": [
                {
                 "children": [
                  "σx"
                 ],
                 "instanceArgs": {
                  "namespace": "html",
                  "tag": "label"
                 },
                 "nodeType": "DOM",
                 "props": {
                  "className": "interact ",
                  "style": {
                   "padding": "5px 10px 0px 10px"
                  }
                 },
                 "type": "node"
                }
               ],
               "instanceArgs": {
                "namespace": "html",
                "tag": "div"
               },
               "nodeType": "DOM",
               "props": {
                "className": "interact-flex-row-left"
               },
               "type": "node"
              },
              {
               "children": [
                {
                 "children": [],
                 "instanceArgs": {
                  "namespace": "html",
                  "tag": "input"
                 },
                 "nodeType": "DOM",
                 "props": {
                  "attributes": {
                   "data-bind": "numericValue: index, valueUpdate: 'input', event: {change: function (){this.changes(this.changes()+1)}}",
                   "orient": "horizontal",
                   "type": "range"
                  },
                  "className": "slider slider is-fullwidth",
                  "max": 19,
                  "min": 1,
                  "step": 1,
                  "style": {}
                 },
                 "type": "node"
                }
               ],
               "instanceArgs": {
                "namespace": "html",
                "tag": "div"
               },
               "nodeType": "DOM",
               "props": {
                "className": "interact-flex-row-center"
               },
               "type": "node"
              },
              {
               "children": [
                {
                 "children": [],
                 "instanceArgs": {
                  "namespace": "html",
                  "tag": "p"
                 },
                 "nodeType": "DOM",
                 "props": {
                  "attributes": {
                   "data-bind": "text: formatted_val"
                  }
                 },
                 "type": "node"
                }
               ],
               "instanceArgs": {
                "namespace": "html",
                "tag": "div"
               },
               "nodeType": "DOM",
               "props": {
                "className": "interact-flex-row-right"
               },
               "type": "node"
              }
             ],
             "instanceArgs": {
              "namespace": "html",
              "tag": "div"
             },
             "nodeType": "DOM",
             "props": {
              "className": "interact-flex-row interact-widget"
             },
             "type": "node"
            }
           ],
           "instanceArgs": {
            "handlers": {
             "changes": [
              "(function (val){return (val!=this.model[\"changes\"]()) ? (this.valueFromJulia[\"changes\"]=true, this.model[\"changes\"](val)) : undefined})"
             ],
             "index": [
              "(function (val){return (val!=this.model[\"index\"]()) ? (this.valueFromJulia[\"index\"]=true, this.model[\"index\"](val)) : undefined})"
             ]
            },
            "id": "9980943316809371791",
            "imports": {
             "data": [
              {
               "name": "knockout",
               "type": "js",
               "url": "/assetserver/770a4105885e188380f0560e309f836e0282fbc9-knockout.js"
              },
              {
               "name": "knockout_punches",
               "type": "js",
               "url": "/assetserver/20a2690722e74a76875c5ae3530aa6a4f9754d2c-knockout_punches.js"
              },
              {
               "name": null,
               "type": "js",
               "url": "/assetserver/c7413e4ebee4c05e590578d485665977c12291d0-all.js"
              },
              {
               "name": null,
               "type": "css",
               "url": "/assetserver/921df7af813895b8966b97e208f1dbefc3a11fcb-style.css"
              },
              {
               "name": null,
               "type": "css",
               "url": "/assetserver/0547b079f97deda40879eacdc85d3fa8d53b4c58-bulma_confined.min.css"
              }
             ],
             "type": "async_block"
            },
            "mount_callbacks": [
             "function () {\n    var handler = (function (ko, koPunches) {\n    ko.punches.enableAll();\n    ko.bindingHandlers.numericValue = {\n        init: function(element, valueAccessor, allBindings, data, context) {\n            var stringified = ko.observable(ko.unwrap(valueAccessor()));\n            stringified.subscribe(function(value) {\n                var val = parseFloat(value);\n                if (!isNaN(val)) {\n                    valueAccessor()(val);\n                }\n            });\n            valueAccessor().subscribe(function(value) {\n                var str = JSON.stringify(value);\n                if ((str == \"0\") && ([\"-0\", \"-0.\"].indexOf(stringified()) >= 0))\n                     return;\n                 if ([\"null\", \"\"].indexOf(str) >= 0)\n                     return;\n                stringified(str);\n            });\n            ko.applyBindingsToNode(\n                element,\n                {\n                    value: stringified,\n                    valueUpdate: allBindings.get('valueUpdate'),\n                },\n                context,\n            );\n        }\n    };\n    var json_data = {\"formatted_vals\":[\"0.1\",\"0.2\",\"0.3\",\"0.4\",\"0.5\",\"0.6\",\"0.7\",\"0.8\",\"0.9\",\"1.0\",\"1.1\",\"1.2\",\"1.3\",\"1.4\",\"1.5\",\"1.6\",\"1.7\",\"1.8\",\"1.9\"],\"changes\":WebIO.getval({\"name\":\"changes\",\"scope\":\"9980943316809371791\",\"id\":\"ob_17\",\"type\":\"observable\"}),\"index\":WebIO.getval({\"name\":\"index\",\"scope\":\"9980943316809371791\",\"id\":\"ob_16\",\"type\":\"observable\"})};\n    var self = this;\n    function AppViewModel() {\n        for (var key in json_data) {\n            var el = json_data[key];\n            this[key] = Array.isArray(el) ? ko.observableArray(el) : ko.observable(el);\n        }\n        \n        [this[\"formatted_val\"]=ko.computed(    function(){\n        return this.formatted_vals()[parseInt(this.index())-(1)];\n    }\n,this)]\n        [this[\"changes\"].subscribe((function (val){!(this.valueFromJulia[\"changes\"]) ? (WebIO.setval({\"name\":\"changes\",\"scope\":\"9980943316809371791\",\"id\":\"ob_17\",\"type\":\"observable\"},val)) : undefined; return this.valueFromJulia[\"changes\"]=false}),self),this[\"index\"].subscribe((function (val){!(this.valueFromJulia[\"index\"]) ? (WebIO.setval({\"name\":\"index\",\"scope\":\"9980943316809371791\",\"id\":\"ob_16\",\"type\":\"observable\"},val)) : undefined; return this.valueFromJulia[\"index\"]=false}),self)]\n        \n    }\n    self.model = new AppViewModel();\n    self.valueFromJulia = {};\n    for (var key in json_data) {\n        self.valueFromJulia[key] = false;\n    }\n    ko.applyBindings(self.model, self.dom);\n}\n);\n    (WebIO.importBlock({\"data\":[{\"name\":\"knockout\",\"type\":\"js\",\"url\":\"/assetserver/770a4105885e188380f0560e309f836e0282fbc9-knockout.js\"},{\"name\":\"knockout_punches\",\"type\":\"js\",\"url\":\"/assetserver/20a2690722e74a76875c5ae3530aa6a4f9754d2c-knockout_punches.js\"}],\"type\":\"async_block\"})).then((imports) => handler.apply(this, imports));\n}\n"
            ],
            "observables": {
             "changes": {
              "id": "ob_17",
              "sync": false,
              "value": 0
             },
             "index": {
              "id": "ob_16",
              "sync": true,
              "value": 10
             }
            },
            "systemjs_options": null
           },
           "nodeType": "Scope",
           "props": {},
           "type": "node"
          }
         ],
         "instanceArgs": {
          "namespace": "html",
          "tag": "div"
         },
         "nodeType": "DOM",
         "props": {
          "className": "field interact-widget"
         },
         "type": "node"
        },
        {
         "children": [
          {
           "children": [
            {
             "children": [
              {
               "children": [
                {
                 "children": [
                  "μy"
                 ],
                 "instanceArgs": {
                  "namespace": "html",
                  "tag": "label"
                 },
                 "nodeType": "DOM",
                 "props": {
                  "className": "interact ",
                  "style": {
                   "padding": "5px 10px 0px 10px"
                  }
                 },
                 "type": "node"
                }
               ],
               "instanceArgs": {
                "namespace": "html",
                "tag": "div"
               },
               "nodeType": "DOM",
               "props": {
                "className": "interact-flex-row-left"
               },
               "type": "node"
              },
              {
               "children": [
                {
                 "children": [],
                 "instanceArgs": {
                  "namespace": "html",
                  "tag": "input"
                 },
                 "nodeType": "DOM",
                 "props": {
                  "attributes": {
                   "data-bind": "numericValue: index, valueUpdate: 'input', event: {change: function (){this.changes(this.changes()+1)}}",
                   "orient": "horizontal",
                   "type": "range"
                  },
                  "className": "slider slider is-fullwidth",
                  "max": 41,
                  "min": 1,
                  "step": 1,
                  "style": {}
                 },
                 "type": "node"
                }
               ],
               "instanceArgs": {
                "namespace": "html",
                "tag": "div"
               },
               "nodeType": "DOM",
               "props": {
                "className": "interact-flex-row-center"
               },
               "type": "node"
              },
              {
               "children": [
                {
                 "children": [],
                 "instanceArgs": {
                  "namespace": "html",
                  "tag": "p"
                 },
                 "nodeType": "DOM",
                 "props": {
                  "attributes": {
                   "data-bind": "text: formatted_val"
                  }
                 },
                 "type": "node"
                }
               ],
               "instanceArgs": {
                "namespace": "html",
                "tag": "div"
               },
               "nodeType": "DOM",
               "props": {
                "className": "interact-flex-row-right"
               },
               "type": "node"
              }
             ],
             "instanceArgs": {
              "namespace": "html",
              "tag": "div"
             },
             "nodeType": "DOM",
             "props": {
              "className": "interact-flex-row interact-widget"
             },
             "type": "node"
            }
           ],
           "instanceArgs": {
            "handlers": {
             "changes": [
              "(function (val){return (val!=this.model[\"changes\"]()) ? (this.valueFromJulia[\"changes\"]=true, this.model[\"changes\"](val)) : undefined})"
             ],
             "index": [
              "(function (val){return (val!=this.model[\"index\"]()) ? (this.valueFromJulia[\"index\"]=true, this.model[\"index\"](val)) : undefined})"
             ]
            },
            "id": "12545065424658554836",
            "imports": {
             "data": [
              {
               "name": "knockout",
               "type": "js",
               "url": "/assetserver/770a4105885e188380f0560e309f836e0282fbc9-knockout.js"
              },
              {
               "name": "knockout_punches",
               "type": "js",
               "url": "/assetserver/20a2690722e74a76875c5ae3530aa6a4f9754d2c-knockout_punches.js"
              },
              {
               "name": null,
               "type": "js",
               "url": "/assetserver/c7413e4ebee4c05e590578d485665977c12291d0-all.js"
              },
              {
               "name": null,
               "type": "css",
               "url": "/assetserver/921df7af813895b8966b97e208f1dbefc3a11fcb-style.css"
              },
              {
               "name": null,
               "type": "css",
               "url": "/assetserver/0547b079f97deda40879eacdc85d3fa8d53b4c58-bulma_confined.min.css"
              }
             ],
             "type": "async_block"
            },
            "mount_callbacks": [
             "function () {\n    var handler = (function (ko, koPunches) {\n    ko.punches.enableAll();\n    ko.bindingHandlers.numericValue = {\n        init: function(element, valueAccessor, allBindings, data, context) {\n            var stringified = ko.observable(ko.unwrap(valueAccessor()));\n            stringified.subscribe(function(value) {\n                var val = parseFloat(value);\n                if (!isNaN(val)) {\n                    valueAccessor()(val);\n                }\n            });\n            valueAccessor().subscribe(function(value) {\n                var str = JSON.stringify(value);\n                if ((str == \"0\") && ([\"-0\", \"-0.\"].indexOf(stringified()) >= 0))\n                     return;\n                 if ([\"null\", \"\"].indexOf(str) >= 0)\n                     return;\n                stringified(str);\n            });\n            ko.applyBindingsToNode(\n                element,\n                {\n                    value: stringified,\n                    valueUpdate: allBindings.get('valueUpdate'),\n                },\n                context,\n            );\n        }\n    };\n    var json_data = {\"formatted_vals\":[\"0.0\",\"0.1\",\"0.2\",\"0.3\",\"0.4\",\"0.5\",\"0.6\",\"0.7\",\"0.8\",\"0.9\",\"1.0\",\"1.1\",\"1.2\",\"1.3\",\"1.4\",\"1.5\",\"1.6\",\"1.7\",\"1.8\",\"1.9\",\"2.0\",\"2.1\",\"2.2\",\"2.3\",\"2.4\",\"2.5\",\"2.6\",\"2.7\",\"2.8\",\"2.9\",\"3.0\",\"3.1\",\"3.2\",\"3.3\",\"3.4\",\"3.5\",\"3.6\",\"3.7\",\"3.8\",\"3.9\",\"4.0\"],\"changes\":WebIO.getval({\"name\":\"changes\",\"scope\":\"12545065424658554836\",\"id\":\"ob_20\",\"type\":\"observable\"}),\"index\":WebIO.getval({\"name\":\"index\",\"scope\":\"12545065424658554836\",\"id\":\"ob_19\",\"type\":\"observable\"})};\n    var self = this;\n    function AppViewModel() {\n        for (var key in json_data) {\n            var el = json_data[key];\n            this[key] = Array.isArray(el) ? ko.observableArray(el) : ko.observable(el);\n        }\n        \n        [this[\"formatted_val\"]=ko.computed(    function(){\n        return this.formatted_vals()[parseInt(this.index())-(1)];\n    }\n,this)]\n        [this[\"changes\"].subscribe((function (val){!(this.valueFromJulia[\"changes\"]) ? (WebIO.setval({\"name\":\"changes\",\"scope\":\"12545065424658554836\",\"id\":\"ob_20\",\"type\":\"observable\"},val)) : undefined; return this.valueFromJulia[\"changes\"]=false}),self),this[\"index\"].subscribe((function (val){!(this.valueFromJulia[\"index\"]) ? (WebIO.setval({\"name\":\"index\",\"scope\":\"12545065424658554836\",\"id\":\"ob_19\",\"type\":\"observable\"},val)) : undefined; return this.valueFromJulia[\"index\"]=false}),self)]\n        \n    }\n    self.model = new AppViewModel();\n    self.valueFromJulia = {};\n    for (var key in json_data) {\n        self.valueFromJulia[key] = false;\n    }\n    ko.applyBindings(self.model, self.dom);\n}\n);\n    (WebIO.importBlock({\"data\":[{\"name\":\"knockout\",\"type\":\"js\",\"url\":\"/assetserver/770a4105885e188380f0560e309f836e0282fbc9-knockout.js\"},{\"name\":\"knockout_punches\",\"type\":\"js\",\"url\":\"/assetserver/20a2690722e74a76875c5ae3530aa6a4f9754d2c-knockout_punches.js\"}],\"type\":\"async_block\"})).then((imports) => handler.apply(this, imports));\n}\n"
            ],
            "observables": {
             "changes": {
              "id": "ob_20",
              "sync": false,
              "value": 0
             },
             "index": {
              "id": "ob_19",
              "sync": true,
              "value": 21
             }
            },
            "systemjs_options": null
           },
           "nodeType": "Scope",
           "props": {},
           "type": "node"
          }
         ],
         "instanceArgs": {
          "namespace": "html",
          "tag": "div"
         },
         "nodeType": "DOM",
         "props": {
          "className": "field interact-widget"
         },
         "type": "node"
        },
        {
         "children": [
          {
           "children": [
            {
             "children": [
              {
               "children": [
                {
                 "children": [
                  "σy"
                 ],
                 "instanceArgs": {
                  "namespace": "html",
                  "tag": "label"
                 },
                 "nodeType": "DOM",
                 "props": {
                  "className": "interact ",
                  "style": {
                   "padding": "5px 10px 0px 10px"
                  }
                 },
                 "type": "node"
                }
               ],
               "instanceArgs": {
                "namespace": "html",
                "tag": "div"
               },
               "nodeType": "DOM",
               "props": {
                "className": "interact-flex-row-left"
               },
               "type": "node"
              },
              {
               "children": [
                {
                 "children": [],
                 "instanceArgs": {
                  "namespace": "html",
                  "tag": "input"
                 },
                 "nodeType": "DOM",
                 "props": {
                  "attributes": {
                   "data-bind": "numericValue: index, valueUpdate: 'input', event: {change: function (){this.changes(this.changes()+1)}}",
                   "orient": "horizontal",
                   "type": "range"
                  },
                  "className": "slider slider is-fullwidth",
                  "max": 9,
                  "min": 1,
                  "step": 1,
                  "style": {}
                 },
                 "type": "node"
                }
               ],
               "instanceArgs": {
                "namespace": "html",
                "tag": "div"
               },
               "nodeType": "DOM",
               "props": {
                "className": "interact-flex-row-center"
               },
               "type": "node"
              },
              {
               "children": [
                {
                 "children": [],
                 "instanceArgs": {
                  "namespace": "html",
                  "tag": "p"
                 },
                 "nodeType": "DOM",
                 "props": {
                  "attributes": {
                   "data-bind": "text: formatted_val"
                  }
                 },
                 "type": "node"
                }
               ],
               "instanceArgs": {
                "namespace": "html",
                "tag": "div"
               },
               "nodeType": "DOM",
               "props": {
                "className": "interact-flex-row-right"
               },
               "type": "node"
              }
             ],
             "instanceArgs": {
              "namespace": "html",
              "tag": "div"
             },
             "nodeType": "DOM",
             "props": {
              "className": "interact-flex-row interact-widget"
             },
             "type": "node"
            }
           ],
           "instanceArgs": {
            "handlers": {
             "changes": [
              "(function (val){return (val!=this.model[\"changes\"]()) ? (this.valueFromJulia[\"changes\"]=true, this.model[\"changes\"](val)) : undefined})"
             ],
             "index": [
              "(function (val){return (val!=this.model[\"index\"]()) ? (this.valueFromJulia[\"index\"]=true, this.model[\"index\"](val)) : undefined})"
             ]
            },
            "id": "16099176966408466011",
            "imports": {
             "data": [
              {
               "name": "knockout",
               "type": "js",
               "url": "/assetserver/770a4105885e188380f0560e309f836e0282fbc9-knockout.js"
              },
              {
               "name": "knockout_punches",
               "type": "js",
               "url": "/assetserver/20a2690722e74a76875c5ae3530aa6a4f9754d2c-knockout_punches.js"
              },
              {
               "name": null,
               "type": "js",
               "url": "/assetserver/c7413e4ebee4c05e590578d485665977c12291d0-all.js"
              },
              {
               "name": null,
               "type": "css",
               "url": "/assetserver/921df7af813895b8966b97e208f1dbefc3a11fcb-style.css"
              },
              {
               "name": null,
               "type": "css",
               "url": "/assetserver/0547b079f97deda40879eacdc85d3fa8d53b4c58-bulma_confined.min.css"
              }
             ],
             "type": "async_block"
            },
            "mount_callbacks": [
             "function () {\n    var handler = (function (ko, koPunches) {\n    ko.punches.enableAll();\n    ko.bindingHandlers.numericValue = {\n        init: function(element, valueAccessor, allBindings, data, context) {\n            var stringified = ko.observable(ko.unwrap(valueAccessor()));\n            stringified.subscribe(function(value) {\n                var val = parseFloat(value);\n                if (!isNaN(val)) {\n                    valueAccessor()(val);\n                }\n            });\n            valueAccessor().subscribe(function(value) {\n                var str = JSON.stringify(value);\n                if ((str == \"0\") && ([\"-0\", \"-0.\"].indexOf(stringified()) >= 0))\n                     return;\n                 if ([\"null\", \"\"].indexOf(str) >= 0)\n                     return;\n                stringified(str);\n            });\n            ko.applyBindingsToNode(\n                element,\n                {\n                    value: stringified,\n                    valueUpdate: allBindings.get('valueUpdate'),\n                },\n                context,\n            );\n        }\n    };\n    var json_data = {\"formatted_vals\":[\"0.1\",\"0.2\",\"0.3\",\"0.4\",\"0.5\",\"0.6\",\"0.7\",\"0.8\",\"0.9\"],\"changes\":WebIO.getval({\"name\":\"changes\",\"scope\":\"16099176966408466011\",\"id\":\"ob_23\",\"type\":\"observable\"}),\"index\":WebIO.getval({\"name\":\"index\",\"scope\":\"16099176966408466011\",\"id\":\"ob_22\",\"type\":\"observable\"})};\n    var self = this;\n    function AppViewModel() {\n        for (var key in json_data) {\n            var el = json_data[key];\n            this[key] = Array.isArray(el) ? ko.observableArray(el) : ko.observable(el);\n        }\n        \n        [this[\"formatted_val\"]=ko.computed(    function(){\n        return this.formatted_vals()[parseInt(this.index())-(1)];\n    }\n,this)]\n        [this[\"changes\"].subscribe((function (val){!(this.valueFromJulia[\"changes\"]) ? (WebIO.setval({\"name\":\"changes\",\"scope\":\"16099176966408466011\",\"id\":\"ob_23\",\"type\":\"observable\"},val)) : undefined; return this.valueFromJulia[\"changes\"]=false}),self),this[\"index\"].subscribe((function (val){!(this.valueFromJulia[\"index\"]) ? (WebIO.setval({\"name\":\"index\",\"scope\":\"16099176966408466011\",\"id\":\"ob_22\",\"type\":\"observable\"},val)) : undefined; return this.valueFromJulia[\"index\"]=false}),self)]\n        \n    }\n    self.model = new AppViewModel();\n    self.valueFromJulia = {};\n    for (var key in json_data) {\n        self.valueFromJulia[key] = false;\n    }\n    ko.applyBindings(self.model, self.dom);\n}\n);\n    (WebIO.importBlock({\"data\":[{\"name\":\"knockout\",\"type\":\"js\",\"url\":\"/assetserver/770a4105885e188380f0560e309f836e0282fbc9-knockout.js\"},{\"name\":\"knockout_punches\",\"type\":\"js\",\"url\":\"/assetserver/20a2690722e74a76875c5ae3530aa6a4f9754d2c-knockout_punches.js\"}],\"type\":\"async_block\"})).then((imports) => handler.apply(this, imports));\n}\n"
            ],
            "observables": {
             "changes": {
              "id": "ob_23",
              "sync": false,
              "value": 0
             },
             "index": {
              "id": "ob_22",
              "sync": true,
              "value": 5
             }
            },
            "systemjs_options": null
           },
           "nodeType": "Scope",
           "props": {},
           "type": "node"
          }
         ],
         "instanceArgs": {
          "namespace": "html",
          "tag": "div"
         },
         "nodeType": "DOM",
         "props": {
          "className": "field interact-widget"
         },
         "type": "node"
        },
        {
         "children": [
          {
           "children": [],
           "instanceArgs": {
            "id": "ob_29",
            "name": "obs-node"
           },
           "nodeType": "ObservableNode",
           "props": {},
           "type": "node"
          }
         ],
         "instanceArgs": {
          "handlers": {},
          "id": "11439809485896003273",
          "imports": {
           "data": [],
           "type": "async_block"
          },
          "mount_callbacks": [],
          "observables": {
           "obs-node": {
            "id": "ob_29",
            "sync": false,
            "value": {
             "children": [
              {
               "children": [],
               "instanceArgs": {
                "namespace": "html",
                "tag": "div"
               },
               "nodeType": "DOM",
               "props": {
                "setInnerHtml": "<img src='data:image/png;base64,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'></img>"
               },
               "type": "node"
              }
             ],
             "instanceArgs": {
              "namespace": "html",
              "tag": "div"
             },
             "nodeType": "DOM",
             "props": {
              "className": "interact-flex-row interact-widget"
             },
             "type": "node"
            }
           }
          },
          "systemjs_options": null
         },
         "nodeType": "Scope",
         "props": {},
         "type": "node"
        }
       ],
       "instanceArgs": {
        "namespace": "html",
        "tag": "div"
       },
       "nodeType": "DOM",
       "props": {},
       "type": "node"
      },
      "text/html": [
       "<div\n",
       "    class=\"webio-mountpoint\"\n",
       "    data-webio-mountpoint=\"1853602513510952791\"\n",
       ">\n",
       "    <script>\n",
       "    if (window.require && require.defined && require.defined(\"nbextensions/webio-jupyter-notebook\")) {\n",
       "        console.log(\"Jupyter WebIO extension detected, not mounting.\");\n",
       "    } else if (window.WebIO) {\n",
       "        WebIO.mount(\n",
       "            document.querySelector('[data-webio-mountpoint=\"1853602513510952791\"]'),\n",
       "            {\"props\":{},\"nodeType\":\"DOM\",\"type\":\"node\",\"instanceArgs\":{\"namespace\":\"html\",\"tag\":\"div\"},\"children\":[{\"props\":{\"className\":\"field interact-widget\"},\"nodeType\":\"DOM\",\"type\":\"node\",\"instanceArgs\":{\"namespace\":\"html\",\"tag\":\"div\"},\"children\":[{\"props\":{},\"nodeType\":\"Scope\",\"type\":\"node\",\"instanceArgs\":{\"imports\":{\"data\":[{\"name\":\"knockout\",\"type\":\"js\",\"url\":\"\\/assetserver\\/770a4105885e188380f0560e309f836e0282fbc9-knockout.js\"},{\"name\":\"knockout_punches\",\"type\":\"js\",\"url\":\"\\/assetserver\\/20a2690722e74a76875c5ae3530aa6a4f9754d2c-knockout_punches.js\"},{\"name\":null,\"type\":\"js\",\"url\":\"\\/assetserver\\/c7413e4ebee4c05e590578d485665977c12291d0-all.js\"},{\"name\":null,\"type\":\"css\",\"url\":\"\\/assetserver\\/921df7af813895b8966b97e208f1dbefc3a11fcb-style.css\"},{\"name\":null,\"type\":\"css\",\"url\":\"\\/assetserver\\/0547b079f97deda40879eacdc85d3fa8d53b4c58-bulma_confined.min.css\"}],\"type\":\"async_block\"},\"id\":\"4103046549853447133\",\"handlers\":{\"changes\":[\"(function (val){return (val!=this.model[\\\"changes\\\"]()) ? (this.valueFromJulia[\\\"changes\\\"]=true, this.model[\\\"changes\\\"](val)) : undefined})\"],\"index\":[\"(function (val){return (val!=this.model[\\\"index\\\"]()) ? (this.valueFromJulia[\\\"index\\\"]=true, this.model[\\\"index\\\"](val)) : undefined})\"]},\"systemjs_options\":null,\"mount_callbacks\":[\"function () {\\n    var handler = (function (ko, koPunches) {\\n    ko.punches.enableAll();\\n    ko.bindingHandlers.numericValue = {\\n        init: function(element, valueAccessor, allBindings, data, context) {\\n            var stringified = ko.observable(ko.unwrap(valueAccessor()));\\n            stringified.subscribe(function(value) {\\n                var val = parseFloat(value);\\n                if (!isNaN(val)) {\\n                    valueAccessor()(val);\\n                }\\n            });\\n            valueAccessor().subscribe(function(value) {\\n                var str = JSON.stringify(value);\\n                if ((str == \\\"0\\\") && ([\\\"-0\\\", \\\"-0.\\\"].indexOf(stringified()) >= 0))\\n                     return;\\n                 if ([\\\"null\\\", \\\"\\\"].indexOf(str) >= 0)\\n                     return;\\n                stringified(str);\\n            });\\n            ko.applyBindingsToNode(\\n                element,\\n                {\\n                    value: stringified,\\n                    valueUpdate: allBindings.get('valueUpdate'),\\n                },\\n                context,\\n            );\\n        }\\n    };\\n    var json_data = {\\\"formatted_vals\\\":[\\\"0.0\\\",\\\"0.1\\\",\\\"0.2\\\",\\\"0.3\\\",\\\"0.4\\\",\\\"0.5\\\",\\\"0.6\\\",\\\"0.7\\\",\\\"0.8\\\",\\\"0.9\\\",\\\"1.0\\\",\\\"1.1\\\",\\\"1.2\\\",\\\"1.3\\\",\\\"1.4\\\",\\\"1.5\\\",\\\"1.6\\\",\\\"1.7\\\",\\\"1.8\\\",\\\"1.9\\\",\\\"2.0\\\",\\\"2.1\\\",\\\"2.2\\\",\\\"2.3\\\",\\\"2.4\\\",\\\"2.5\\\",\\\"2.6\\\",\\\"2.7\\\",\\\"2.8\\\",\\\"2.9\\\",\\\"3.0\\\",\\\"3.1\\\",\\\"3.2\\\",\\\"3.3\\\",\\\"3.4\\\",\\\"3.5\\\",\\\"3.6\\\",\\\"3.7\\\",\\\"3.8\\\",\\\"3.9\\\",\\\"4.0\\\"],\\\"changes\\\":WebIO.getval({\\\"name\\\":\\\"changes\\\",\\\"scope\\\":\\\"4103046549853447133\\\",\\\"id\\\":\\\"ob_14\\\",\\\"type\\\":\\\"observable\\\"}),\\\"index\\\":WebIO.getval({\\\"name\\\":\\\"index\\\",\\\"scope\\\":\\\"4103046549853447133\\\",\\\"id\\\":\\\"ob_13\\\",\\\"type\\\":\\\"observable\\\"})};\\n    var self = this;\\n    function AppViewModel() {\\n        for (var key in json_data) {\\n            var el = json_data[key];\\n            this[key] = Array.isArray(el) ? ko.observableArray(el) : ko.observable(el);\\n        }\\n        \\n        [this[\\\"formatted_val\\\"]=ko.computed(    function(){\\n        return this.formatted_vals()[parseInt(this.index())-(1)];\\n    }\\n,this)]\\n        [this[\\\"changes\\\"].subscribe((function (val){!(this.valueFromJulia[\\\"changes\\\"]) ? (WebIO.setval({\\\"name\\\":\\\"changes\\\",\\\"scope\\\":\\\"4103046549853447133\\\",\\\"id\\\":\\\"ob_14\\\",\\\"type\\\":\\\"observable\\\"},val)) : undefined; return this.valueFromJulia[\\\"changes\\\"]=false}),self),this[\\\"index\\\"].subscribe((function (val){!(this.valueFromJulia[\\\"index\\\"]) ? (WebIO.setval({\\\"name\\\":\\\"index\\\",\\\"scope\\\":\\\"4103046549853447133\\\",\\\"id\\\":\\\"ob_13\\\",\\\"type\\\":\\\"observable\\\"},val)) : undefined; return this.valueFromJulia[\\\"index\\\"]=false}),self)]\\n        \\n    }\\n    self.model = new AppViewModel();\\n    self.valueFromJulia = {};\\n    for (var key in json_data) {\\n        self.valueFromJulia[key] = false;\\n    }\\n    ko.applyBindings(self.model, self.dom);\\n}\\n);\\n    (WebIO.importBlock({\\\"data\\\":[{\\\"name\\\":\\\"knockout\\\",\\\"type\\\":\\\"js\\\",\\\"url\\\":\\\"\\/assetserver\\/770a4105885e188380f0560e309f836e0282fbc9-knockout.js\\\"},{\\\"name\\\":\\\"knockout_punches\\\",\\\"type\\\":\\\"js\\\",\\\"url\\\":\\\"\\/assetserver\\/20a2690722e74a76875c5ae3530aa6a4f9754d2c-knockout_punches.js\\\"}],\\\"type\\\":\\\"async_block\\\"})).then((imports) => handler.apply(this, imports));\\n}\\n\"],\"observables\":{\"changes\":{\"sync\":false,\"id\":\"ob_14\",\"value\":0},\"index\":{\"sync\":true,\"id\":\"ob_13\",\"value\":21}}},\"children\":[{\"props\":{\"className\":\"interact-flex-row interact-widget\"},\"nodeType\":\"DOM\",\"type\":\"node\",\"instanceArgs\":{\"namespace\":\"html\",\"tag\":\"div\"},\"children\":[{\"props\":{\"className\":\"interact-flex-row-left\"},\"nodeType\":\"DOM\",\"type\":\"node\",\"instanceArgs\":{\"namespace\":\"html\",\"tag\":\"div\"},\"children\":[{\"props\":{\"className\":\"interact \",\"style\":{\"padding\":\"5px 10px 0px 10px\"}},\"nodeType\":\"DOM\",\"type\":\"node\",\"instanceArgs\":{\"namespace\":\"html\",\"tag\":\"label\"},\"children\":[\"μx\"]}]},{\"props\":{\"className\":\"interact-flex-row-center\"},\"nodeType\":\"DOM\",\"type\":\"node\",\"instanceArgs\":{\"namespace\":\"html\",\"tag\":\"div\"},\"children\":[{\"props\":{\"max\":41,\"min\":1,\"attributes\":{\"type\":\"range\",\"data-bind\":\"numericValue: index, valueUpdate: 'input', event: {change: function (){this.changes(this.changes()+1)}}\",\"orient\":\"horizontal\"},\"step\":1,\"className\":\"slider slider is-fullwidth\",\"style\":{}},\"nodeType\":\"DOM\",\"type\":\"node\",\"instanceArgs\":{\"namespace\":\"html\",\"tag\":\"input\"},\"children\":[]}]},{\"props\":{\"className\":\"interact-flex-row-right\"},\"nodeType\":\"DOM\",\"type\":\"node\",\"instanceArgs\":{\"namespace\":\"html\",\"tag\":\"div\"},\"children\":[{\"props\":{\"attributes\":{\"data-bind\":\"text: formatted_val\"}},\"nodeType\":\"DOM\",\"type\":\"node\",\"instanceArgs\":{\"namespace\":\"html\",\"tag\":\"p\"},\"children\":[]}]}]}]}]},{\"props\":{\"className\":\"field interact-widget\"},\"nodeType\":\"DOM\",\"type\":\"node\",\"instanceArgs\":{\"namespace\":\"html\",\"tag\":\"div\"},\"children\":[{\"props\":{},\"nodeType\":\"Scope\",\"type\":\"node\",\"instanceArgs\":{\"imports\":{\"data\":[{\"name\":\"knockout\",\"type\":\"js\",\"url\":\"\\/assetserver\\/770a4105885e188380f0560e309f836e0282fbc9-knockout.js\"},{\"name\":\"knockout_punches\",\"type\":\"js\",\"url\":\"\\/assetserver\\/20a2690722e74a76875c5ae3530aa6a4f9754d2c-knockout_punches.js\"},{\"name\":null,\"type\":\"js\",\"url\":\"\\/assetserver\\/c7413e4ebee4c05e590578d485665977c12291d0-all.js\"},{\"name\":null,\"type\":\"css\",\"url\":\"\\/assetserver\\/921df7af813895b8966b97e208f1dbefc3a11fcb-style.css\"},{\"name\":null,\"type\":\"css\",\"url\":\"\\/assetserver\\/0547b079f97deda40879eacdc85d3fa8d53b4c58-bulma_confined.min.css\"}],\"type\":\"async_block\"},\"id\":\"9980943316809371791\",\"handlers\":{\"changes\":[\"(function (val){return (val!=this.model[\\\"changes\\\"]()) ? (this.valueFromJulia[\\\"changes\\\"]=true, this.model[\\\"changes\\\"](val)) : undefined})\"],\"index\":[\"(function (val){return (val!=this.model[\\\"index\\\"]()) ? (this.valueFromJulia[\\\"index\\\"]=true, this.model[\\\"index\\\"](val)) : undefined})\"]},\"systemjs_options\":null,\"mount_callbacks\":[\"function () {\\n    var handler = (function (ko, koPunches) {\\n    ko.punches.enableAll();\\n    ko.bindingHandlers.numericValue = {\\n        init: function(element, valueAccessor, allBindings, data, context) {\\n            var stringified = ko.observable(ko.unwrap(valueAccessor()));\\n            stringified.subscribe(function(value) {\\n                var val = parseFloat(value);\\n                if (!isNaN(val)) {\\n                    valueAccessor()(val);\\n                }\\n            });\\n            valueAccessor().subscribe(function(value) {\\n                var str = JSON.stringify(value);\\n                if ((str == \\\"0\\\") && ([\\\"-0\\\", \\\"-0.\\\"].indexOf(stringified()) >= 0))\\n                     return;\\n                 if ([\\\"null\\\", \\\"\\\"].indexOf(str) >= 0)\\n                     return;\\n                stringified(str);\\n            });\\n            ko.applyBindingsToNode(\\n                element,\\n                {\\n                    value: stringified,\\n                    valueUpdate: allBindings.get('valueUpdate'),\\n                },\\n                context,\\n            );\\n        }\\n    };\\n    var json_data = {\\\"formatted_vals\\\":[\\\"0.1\\\",\\\"0.2\\\",\\\"0.3\\\",\\\"0.4\\\",\\\"0.5\\\",\\\"0.6\\\",\\\"0.7\\\",\\\"0.8\\\",\\\"0.9\\\",\\\"1.0\\\",\\\"1.1\\\",\\\"1.2\\\",\\\"1.3\\\",\\\"1.4\\\",\\\"1.5\\\",\\\"1.6\\\",\\\"1.7\\\",\\\"1.8\\\",\\\"1.9\\\"],\\\"changes\\\":WebIO.getval({\\\"name\\\":\\\"changes\\\",\\\"scope\\\":\\\"9980943316809371791\\\",\\\"id\\\":\\\"ob_17\\\",\\\"type\\\":\\\"observable\\\"}),\\\"index\\\":WebIO.getval({\\\"name\\\":\\\"index\\\",\\\"scope\\\":\\\"9980943316809371791\\\",\\\"id\\\":\\\"ob_16\\\",\\\"type\\\":\\\"observable\\\"})};\\n    var self = this;\\n    function AppViewModel() {\\n        for (var key in json_data) {\\n            var el = json_data[key];\\n            this[key] = Array.isArray(el) ? ko.observableArray(el) : ko.observable(el);\\n        }\\n        \\n        [this[\\\"formatted_val\\\"]=ko.computed(    function(){\\n        return this.formatted_vals()[parseInt(this.index())-(1)];\\n    }\\n,this)]\\n        [this[\\\"changes\\\"].subscribe((function (val){!(this.valueFromJulia[\\\"changes\\\"]) ? (WebIO.setval({\\\"name\\\":\\\"changes\\\",\\\"scope\\\":\\\"9980943316809371791\\\",\\\"id\\\":\\\"ob_17\\\",\\\"type\\\":\\\"observable\\\"},val)) : undefined; return this.valueFromJulia[\\\"changes\\\"]=false}),self),this[\\\"index\\\"].subscribe((function (val){!(this.valueFromJulia[\\\"index\\\"]) ? (WebIO.setval({\\\"name\\\":\\\"index\\\",\\\"scope\\\":\\\"9980943316809371791\\\",\\\"id\\\":\\\"ob_16\\\",\\\"type\\\":\\\"observable\\\"},val)) : undefined; return this.valueFromJulia[\\\"index\\\"]=false}),self)]\\n        \\n    }\\n    self.model = new AppViewModel();\\n    self.valueFromJulia = {};\\n    for (var key in json_data) {\\n        self.valueFromJulia[key] = false;\\n    }\\n    ko.applyBindings(self.model, self.dom);\\n}\\n);\\n    (WebIO.importBlock({\\\"data\\\":[{\\\"name\\\":\\\"knockout\\\",\\\"type\\\":\\\"js\\\",\\\"url\\\":\\\"\\/assetserver\\/770a4105885e188380f0560e309f836e0282fbc9-knockout.js\\\"},{\\\"name\\\":\\\"knockout_punches\\\",\\\"type\\\":\\\"js\\\",\\\"url\\\":\\\"\\/assetserver\\/20a2690722e74a76875c5ae3530aa6a4f9754d2c-knockout_punches.js\\\"}],\\\"type\\\":\\\"async_block\\\"})).then((imports) => handler.apply(this, imports));\\n}\\n\"],\"observables\":{\"changes\":{\"sync\":false,\"id\":\"ob_17\",\"value\":0},\"index\":{\"sync\":true,\"id\":\"ob_16\",\"value\":10}}},\"children\":[{\"props\":{\"className\":\"interact-flex-row interact-widget\"},\"nodeType\":\"DOM\",\"type\":\"node\",\"instanceArgs\":{\"namespace\":\"html\",\"tag\":\"div\"},\"children\":[{\"props\":{\"className\":\"interact-flex-row-left\"},\"nodeType\":\"DOM\",\"type\":\"node\",\"instanceArgs\":{\"namespace\":\"html\",\"tag\":\"div\"},\"children\":[{\"props\":{\"className\":\"interact \",\"style\":{\"padding\":\"5px 10px 0px 10px\"}},\"nodeType\":\"DOM\",\"type\":\"node\",\"instanceArgs\":{\"namespace\":\"html\",\"tag\":\"label\"},\"children\":[\"σx\"]}]},{\"props\":{\"className\":\"interact-flex-row-center\"},\"nodeType\":\"DOM\",\"type\":\"node\",\"instanceArgs\":{\"namespace\":\"html\",\"tag\":\"div\"},\"children\":[{\"props\":{\"max\":19,\"min\":1,\"attributes\":{\"type\":\"range\",\"data-bind\":\"numericValue: index, valueUpdate: 'input', event: {change: function (){this.changes(this.changes()+1)}}\",\"orient\":\"horizontal\"},\"step\":1,\"className\":\"slider slider is-fullwidth\",\"style\":{}},\"nodeType\":\"DOM\",\"type\":\"node\",\"instanceArgs\":{\"namespace\":\"html\",\"tag\":\"input\"},\"children\":[]}]},{\"props\":{\"className\":\"interact-flex-row-right\"},\"nodeType\":\"DOM\",\"type\":\"node\",\"instanceArgs\":{\"namespace\":\"html\",\"tag\":\"div\"},\"children\":[{\"props\":{\"attributes\":{\"data-bind\":\"text: formatted_val\"}},\"nodeType\":\"DOM\",\"type\":\"node\",\"instanceArgs\":{\"namespace\":\"html\",\"tag\":\"p\"},\"children\":[]}]}]}]}]},{\"props\":{\"className\":\"field interact-widget\"},\"nodeType\":\"DOM\",\"type\":\"node\",\"instanceArgs\":{\"namespace\":\"html\",\"tag\":\"div\"},\"children\":[{\"props\":{},\"nodeType\":\"Scope\",\"type\":\"node\",\"instanceArgs\":{\"imports\":{\"data\":[{\"name\":\"knockout\",\"type\":\"js\",\"url\":\"\\/assetserver\\/770a4105885e188380f0560e309f836e0282fbc9-knockout.js\"},{\"name\":\"knockout_punches\",\"type\":\"js\",\"url\":\"\\/assetserver\\/20a2690722e74a76875c5ae3530aa6a4f9754d2c-knockout_punches.js\"},{\"name\":null,\"type\":\"js\",\"url\":\"\\/assetserver\\/c7413e4ebee4c05e590578d485665977c12291d0-all.js\"},{\"name\":null,\"type\":\"css\",\"url\":\"\\/assetserver\\/921df7af813895b8966b97e208f1dbefc3a11fcb-style.css\"},{\"name\":null,\"type\":\"css\",\"url\":\"\\/assetserver\\/0547b079f97deda40879eacdc85d3fa8d53b4c58-bulma_confined.min.css\"}],\"type\":\"async_block\"},\"id\":\"12545065424658554836\",\"handlers\":{\"changes\":[\"(function (val){return (val!=this.model[\\\"changes\\\"]()) ? (this.valueFromJulia[\\\"changes\\\"]=true, this.model[\\\"changes\\\"](val)) : undefined})\"],\"index\":[\"(function (val){return (val!=this.model[\\\"index\\\"]()) ? (this.valueFromJulia[\\\"index\\\"]=true, this.model[\\\"index\\\"](val)) : undefined})\"]},\"systemjs_options\":null,\"mount_callbacks\":[\"function () {\\n    var handler = (function (ko, koPunches) {\\n    ko.punches.enableAll();\\n    ko.bindingHandlers.numericValue = {\\n        init: function(element, valueAccessor, allBindings, data, context) {\\n            var stringified = ko.observable(ko.unwrap(valueAccessor()));\\n            stringified.subscribe(function(value) {\\n                var val = parseFloat(value);\\n                if (!isNaN(val)) {\\n                    valueAccessor()(val);\\n                }\\n            });\\n            valueAccessor().subscribe(function(value) {\\n                var str = JSON.stringify(value);\\n                if ((str == \\\"0\\\") && ([\\\"-0\\\", \\\"-0.\\\"].indexOf(stringified()) >= 0))\\n                     return;\\n                 if ([\\\"null\\\", \\\"\\\"].indexOf(str) >= 0)\\n                     return;\\n                stringified(str);\\n            });\\n            ko.applyBindingsToNode(\\n                element,\\n                {\\n                    value: stringified,\\n                    valueUpdate: allBindings.get('valueUpdate'),\\n                },\\n                context,\\n            );\\n        }\\n    };\\n    var json_data = {\\\"formatted_vals\\\":[\\\"0.0\\\",\\\"0.1\\\",\\\"0.2\\\",\\\"0.3\\\",\\\"0.4\\\",\\\"0.5\\\",\\\"0.6\\\",\\\"0.7\\\",\\\"0.8\\\",\\\"0.9\\\",\\\"1.0\\\",\\\"1.1\\\",\\\"1.2\\\",\\\"1.3\\\",\\\"1.4\\\",\\\"1.5\\\",\\\"1.6\\\",\\\"1.7\\\",\\\"1.8\\\",\\\"1.9\\\",\\\"2.0\\\",\\\"2.1\\\",\\\"2.2\\\",\\\"2.3\\\",\\\"2.4\\\",\\\"2.5\\\",\\\"2.6\\\",\\\"2.7\\\",\\\"2.8\\\",\\\"2.9\\\",\\\"3.0\\\",\\\"3.1\\\",\\\"3.2\\\",\\\"3.3\\\",\\\"3.4\\\",\\\"3.5\\\",\\\"3.6\\\",\\\"3.7\\\",\\\"3.8\\\",\\\"3.9\\\",\\\"4.0\\\"],\\\"changes\\\":WebIO.getval({\\\"name\\\":\\\"changes\\\",\\\"scope\\\":\\\"12545065424658554836\\\",\\\"id\\\":\\\"ob_20\\\",\\\"type\\\":\\\"observable\\\"}),\\\"index\\\":WebIO.getval({\\\"name\\\":\\\"index\\\",\\\"scope\\\":\\\"12545065424658554836\\\",\\\"id\\\":\\\"ob_19\\\",\\\"type\\\":\\\"observable\\\"})};\\n    var self = this;\\n    function AppViewModel() {\\n        for (var key in json_data) {\\n            var el = json_data[key];\\n            this[key] = Array.isArray(el) ? ko.observableArray(el) : ko.observable(el);\\n        }\\n        \\n        [this[\\\"formatted_val\\\"]=ko.computed(    function(){\\n        return this.formatted_vals()[parseInt(this.index())-(1)];\\n    }\\n,this)]\\n        [this[\\\"changes\\\"].subscribe((function (val){!(this.valueFromJulia[\\\"changes\\\"]) ? (WebIO.setval({\\\"name\\\":\\\"changes\\\",\\\"scope\\\":\\\"12545065424658554836\\\",\\\"id\\\":\\\"ob_20\\\",\\\"type\\\":\\\"observable\\\"},val)) : undefined; return this.valueFromJulia[\\\"changes\\\"]=false}),self),this[\\\"index\\\"].subscribe((function (val){!(this.valueFromJulia[\\\"index\\\"]) ? (WebIO.setval({\\\"name\\\":\\\"index\\\",\\\"scope\\\":\\\"12545065424658554836\\\",\\\"id\\\":\\\"ob_19\\\",\\\"type\\\":\\\"observable\\\"},val)) : undefined; return this.valueFromJulia[\\\"index\\\"]=false}),self)]\\n        \\n    }\\n    self.model = new AppViewModel();\\n    self.valueFromJulia = {};\\n    for (var key in json_data) {\\n        self.valueFromJulia[key] = false;\\n    }\\n    ko.applyBindings(self.model, self.dom);\\n}\\n);\\n    (WebIO.importBlock({\\\"data\\\":[{\\\"name\\\":\\\"knockout\\\",\\\"type\\\":\\\"js\\\",\\\"url\\\":\\\"\\/assetserver\\/770a4105885e188380f0560e309f836e0282fbc9-knockout.js\\\"},{\\\"name\\\":\\\"knockout_punches\\\",\\\"type\\\":\\\"js\\\",\\\"url\\\":\\\"\\/assetserver\\/20a2690722e74a76875c5ae3530aa6a4f9754d2c-knockout_punches.js\\\"}],\\\"type\\\":\\\"async_block\\\"})).then((imports) => handler.apply(this, imports));\\n}\\n\"],\"observables\":{\"changes\":{\"sync\":false,\"id\":\"ob_20\",\"value\":0},\"index\":{\"sync\":true,\"id\":\"ob_19\",\"value\":21}}},\"children\":[{\"props\":{\"className\":\"interact-flex-row interact-widget\"},\"nodeType\":\"DOM\",\"type\":\"node\",\"instanceArgs\":{\"namespace\":\"html\",\"tag\":\"div\"},\"children\":[{\"props\":{\"className\":\"interact-flex-row-left\"},\"nodeType\":\"DOM\",\"type\":\"node\",\"instanceArgs\":{\"namespace\":\"html\",\"tag\":\"div\"},\"children\":[{\"props\":{\"className\":\"interact \",\"style\":{\"padding\":\"5px 10px 0px 10px\"}},\"nodeType\":\"DOM\",\"type\":\"node\",\"instanceArgs\":{\"namespace\":\"html\",\"tag\":\"label\"},\"children\":[\"μy\"]}]},{\"props\":{\"className\":\"interact-flex-row-center\"},\"nodeType\":\"DOM\",\"type\":\"node\",\"instanceArgs\":{\"namespace\":\"html\",\"tag\":\"div\"},\"children\":[{\"props\":{\"max\":41,\"min\":1,\"attributes\":{\"type\":\"range\",\"data-bind\":\"numericValue: index, valueUpdate: 'input', event: {change: function (){this.changes(this.changes()+1)}}\",\"orient\":\"horizontal\"},\"step\":1,\"className\":\"slider slider is-fullwidth\",\"style\":{}},\"nodeType\":\"DOM\",\"type\":\"node\",\"instanceArgs\":{\"namespace\":\"html\",\"tag\":\"input\"},\"children\":[]}]},{\"props\":{\"className\":\"interact-flex-row-right\"},\"nodeType\":\"DOM\",\"type\":\"node\",\"instanceArgs\":{\"namespace\":\"html\",\"tag\":\"div\"},\"children\":[{\"props\":{\"attributes\":{\"data-bind\":\"text: formatted_val\"}},\"nodeType\":\"DOM\",\"type\":\"node\",\"instanceArgs\":{\"namespace\":\"html\",\"tag\":\"p\"},\"children\":[]}]}]}]}]},{\"props\":{\"className\":\"field interact-widget\"},\"nodeType\":\"DOM\",\"type\":\"node\",\"instanceArgs\":{\"namespace\":\"html\",\"tag\":\"div\"},\"children\":[{\"props\":{},\"nodeType\":\"Scope\",\"type\":\"node\",\"instanceArgs\":{\"imports\":{\"data\":[{\"name\":\"knockout\",\"type\":\"js\",\"url\":\"\\/assetserver\\/770a4105885e188380f0560e309f836e0282fbc9-knockout.js\"},{\"name\":\"knockout_punches\",\"type\":\"js\",\"url\":\"\\/assetserver\\/20a2690722e74a76875c5ae3530aa6a4f9754d2c-knockout_punches.js\"},{\"name\":null,\"type\":\"js\",\"url\":\"\\/assetserver\\/c7413e4ebee4c05e590578d485665977c12291d0-all.js\"},{\"name\":null,\"type\":\"css\",\"url\":\"\\/assetserver\\/921df7af813895b8966b97e208f1dbefc3a11fcb-style.css\"},{\"name\":null,\"type\":\"css\",\"url\":\"\\/assetserver\\/0547b079f97deda40879eacdc85d3fa8d53b4c58-bulma_confined.min.css\"}],\"type\":\"async_block\"},\"id\":\"16099176966408466011\",\"handlers\":{\"changes\":[\"(function (val){return (val!=this.model[\\\"changes\\\"]()) ? (this.valueFromJulia[\\\"changes\\\"]=true, this.model[\\\"changes\\\"](val)) : undefined})\"],\"index\":[\"(function (val){return (val!=this.model[\\\"index\\\"]()) ? (this.valueFromJulia[\\\"index\\\"]=true, this.model[\\\"index\\\"](val)) : undefined})\"]},\"systemjs_options\":null,\"mount_callbacks\":[\"function () {\\n    var handler = (function (ko, koPunches) {\\n    ko.punches.enableAll();\\n    ko.bindingHandlers.numericValue = {\\n        init: function(element, valueAccessor, allBindings, data, context) {\\n            var stringified = ko.observable(ko.unwrap(valueAccessor()));\\n            stringified.subscribe(function(value) {\\n                var val = parseFloat(value);\\n                if (!isNaN(val)) {\\n                    valueAccessor()(val);\\n                }\\n            });\\n            valueAccessor().subscribe(function(value) {\\n                var str = JSON.stringify(value);\\n                if ((str == \\\"0\\\") && ([\\\"-0\\\", \\\"-0.\\\"].indexOf(stringified()) >= 0))\\n                     return;\\n                 if ([\\\"null\\\", \\\"\\\"].indexOf(str) >= 0)\\n                     return;\\n                stringified(str);\\n            });\\n            ko.applyBindingsToNode(\\n                element,\\n                {\\n                    value: stringified,\\n                    valueUpdate: allBindings.get('valueUpdate'),\\n                },\\n                context,\\n            );\\n        }\\n    };\\n    var json_data = {\\\"formatted_vals\\\":[\\\"0.1\\\",\\\"0.2\\\",\\\"0.3\\\",\\\"0.4\\\",\\\"0.5\\\",\\\"0.6\\\",\\\"0.7\\\",\\\"0.8\\\",\\\"0.9\\\"],\\\"changes\\\":WebIO.getval({\\\"name\\\":\\\"changes\\\",\\\"scope\\\":\\\"16099176966408466011\\\",\\\"id\\\":\\\"ob_23\\\",\\\"type\\\":\\\"observable\\\"}),\\\"index\\\":WebIO.getval({\\\"name\\\":\\\"index\\\",\\\"scope\\\":\\\"16099176966408466011\\\",\\\"id\\\":\\\"ob_22\\\",\\\"type\\\":\\\"observable\\\"})};\\n    var self = this;\\n    function AppViewModel() {\\n        for (var key in json_data) {\\n            var el = json_data[key];\\n            this[key] = Array.isArray(el) ? ko.observableArray(el) : ko.observable(el);\\n        }\\n        \\n        [this[\\\"formatted_val\\\"]=ko.computed(    function(){\\n        return this.formatted_vals()[parseInt(this.index())-(1)];\\n    }\\n,this)]\\n        [this[\\\"changes\\\"].subscribe((function (val){!(this.valueFromJulia[\\\"changes\\\"]) ? (WebIO.setval({\\\"name\\\":\\\"changes\\\",\\\"scope\\\":\\\"16099176966408466011\\\",\\\"id\\\":\\\"ob_23\\\",\\\"type\\\":\\\"observable\\\"},val)) : undefined; return this.valueFromJulia[\\\"changes\\\"]=false}),self),this[\\\"index\\\"].subscribe((function (val){!(this.valueFromJulia[\\\"index\\\"]) ? (WebIO.setval({\\\"name\\\":\\\"index\\\",\\\"scope\\\":\\\"16099176966408466011\\\",\\\"id\\\":\\\"ob_22\\\",\\\"type\\\":\\\"observable\\\"},val)) : undefined; return this.valueFromJulia[\\\"index\\\"]=false}),self)]\\n        \\n    }\\n    self.model = new AppViewModel();\\n    self.valueFromJulia = {};\\n    for (var key in json_data) {\\n        self.valueFromJulia[key] = false;\\n    }\\n    ko.applyBindings(self.model, self.dom);\\n}\\n);\\n    (WebIO.importBlock({\\\"data\\\":[{\\\"name\\\":\\\"knockout\\\",\\\"type\\\":\\\"js\\\",\\\"url\\\":\\\"\\/assetserver\\/770a4105885e188380f0560e309f836e0282fbc9-knockout.js\\\"},{\\\"name\\\":\\\"knockout_punches\\\",\\\"type\\\":\\\"js\\\",\\\"url\\\":\\\"\\/assetserver\\/20a2690722e74a76875c5ae3530aa6a4f9754d2c-knockout_punches.js\\\"}],\\\"type\\\":\\\"async_block\\\"})).then((imports) => handler.apply(this, imports));\\n}\\n\"],\"observables\":{\"changes\":{\"sync\":false,\"id\":\"ob_23\",\"value\":0},\"index\":{\"sync\":true,\"id\":\"ob_22\",\"value\":5}}},\"children\":[{\"props\":{\"className\":\"interact-flex-row interact-widget\"},\"nodeType\":\"DOM\",\"type\":\"node\",\"instanceArgs\":{\"namespace\":\"html\",\"tag\":\"div\"},\"children\":[{\"props\":{\"className\":\"interact-flex-row-left\"},\"nodeType\":\"DOM\",\"type\":\"node\",\"instanceArgs\":{\"namespace\":\"html\",\"tag\":\"div\"},\"children\":[{\"props\":{\"className\":\"interact \",\"style\":{\"padding\":\"5px 10px 0px 10px\"}},\"nodeType\":\"DOM\",\"type\":\"node\",\"instanceArgs\":{\"namespace\":\"html\",\"tag\":\"label\"},\"children\":[\"σy\"]}]},{\"props\":{\"className\":\"interact-flex-row-center\"},\"nodeType\":\"DOM\",\"type\":\"node\",\"instanceArgs\":{\"namespace\":\"html\",\"tag\":\"div\"},\"children\":[{\"props\":{\"max\":9,\"min\":1,\"attributes\":{\"type\":\"range\",\"data-bind\":\"numericValue: index, valueUpdate: 'input', event: {change: function (){this.changes(this.changes()+1)}}\",\"orient\":\"horizontal\"},\"step\":1,\"className\":\"slider slider is-fullwidth\",\"style\":{}},\"nodeType\":\"DOM\",\"type\":\"node\",\"instanceArgs\":{\"namespace\":\"html\",\"tag\":\"input\"},\"children\":[]}]},{\"props\":{\"className\":\"interact-flex-row-right\"},\"nodeType\":\"DOM\",\"type\":\"node\",\"instanceArgs\":{\"namespace\":\"html\",\"tag\":\"div\"},\"children\":[{\"props\":{\"attributes\":{\"data-bind\":\"text: formatted_val\"}},\"nodeType\":\"DOM\",\"type\":\"node\",\"instanceArgs\":{\"namespace\":\"html\",\"tag\":\"p\"},\"children\":[]}]}]}]}]},{\"props\":{},\"nodeType\":\"Scope\",\"type\":\"node\",\"instanceArgs\":{\"imports\":{\"data\":[],\"type\":\"async_block\"},\"id\":\"12216031845651174696\",\"handlers\":{},\"systemjs_options\":null,\"mount_callbacks\":[],\"observables\":{\"obs-node\":{\"sync\":false,\"id\":\"ob_27\",\"value\":{\"props\":{\"className\":\"interact-flex-row interact-widget\"},\"nodeType\":\"DOM\",\"type\":\"node\",\"instanceArgs\":{\"namespace\":\"html\",\"tag\":\"div\"},\"children\":[{\"props\":{\"setInnerHtml\":\"<img src='data:image\\/png;base64,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'><\\/img>\"},\"nodeType\":\"DOM\",\"type\":\"node\",\"instanceArgs\":{\"namespace\":\"html\",\"tag\":\"div\"},\"children\":[]}]}}}},\"children\":[{\"props\":{},\"nodeType\":\"ObservableNode\",\"type\":\"node\",\"instanceArgs\":{\"id\":\"ob_27\",\"name\":\"obs-node\"},\"children\":[]}]}]},\n",
       "            window,\n",
       "        );\n",
       "    } else {\n",
       "        document\n",
       "            .querySelector('[data-webio-mountpoint=\"1853602513510952791\"]')\n",
       "            .innerHTML = (\n",
       "                '<strong>WebIO not detected. Please read ' +\n",
       "                '<a href=\"https://juliagizmos.github.io/WebIO.jl/latest/troubleshooting/not-detected/\">the troubleshooting guide</a> ' +\n",
       "                'for more information on how to resolve this issue.' +\n",
       "                '</strong>'\n",
       "            );\n",
       "    }\n",
       "    </script>\n",
       "</div>\n"
      ],
      "text/plain": [
       "Node{WebIO.DOM}(WebIO.DOM(:html, :div), Any[Node{WebIO.DOM}(WebIO.DOM(:html, :div), Any[Scope(Node{WebIO.DOM}(WebIO.DOM(:html, :div), Any[Node{WebIO.DOM}(WebIO.DOM(:html, :div), Any[Node{WebIO.DOM}(WebIO.DOM(:html, :label), Any[\"μx\"], Dict{Symbol,Any}(:className => \"interact \",:style => Dict{Any,Any}(:padding => \"5px 10px 0px 10px\")))], Dict{Symbol,Any}(:className => \"interact-flex-row-left\")), Node{WebIO.DOM}(WebIO.DOM(:html, :div), Any[Node{WebIO.DOM}(WebIO.DOM(:html, :input), Any[], Dict{Symbol,Any}(:max => 41,:min => 1,:attributes => Dict{Any,Any}(:type => \"range\",Symbol(\"data-bind\") => \"numericValue: index, valueUpdate: 'input', event: {change: function (){this.changes(this.changes()+1)}}\",\"orient\" => \"horizontal\"),:step => 1,:className => \"slider slider is-fullwidth\",:style => Dict{Any,Any}()))], Dict{Symbol,Any}(:className => \"interact-flex-row-center\")), Node{WebIO.DOM}(WebIO.DOM(:html, :div), Any[Node{WebIO.DOM}(WebIO.DOM(:html, :p), Any[], Dict{Symbol,Any}(:attributes => Dict(\"data-bind\" => \"text: formatted_val\")))], Dict{Symbol,Any}(:className => \"interact-flex-row-right\"))], Dict{Symbol,Any}(:className => \"interact-flex-row interact-widget\")), Dict{String,Tuple{Observables.AbstractObservable,Union{Nothing, Bool}}}(\"changes\" => (Observable{Int64} with 1 listeners. Value:\n",
       "0, nothing),\"index\" => (Observable{Any} with 2 listeners. Value:\n",
       "21, nothing)), Set(String[]), nothing, Asset[Asset(\"js\", \"knockout\", \"/Users/bert/.julia/packages/Knockout/1sDlc/src/../assets/knockout.js\"), Asset(\"js\", \"knockout_punches\", \"/Users/bert/.julia/packages/Knockout/1sDlc/src/../assets/knockout_punches.js\"), Asset(\"js\", nothing, \"/Users/bert/.julia/packages/InteractBase/9mFwe/src/../assets/all.js\"), Asset(\"css\", nothing, \"/Users/bert/.julia/packages/InteractBase/9mFwe/src/../assets/style.css\"), Asset(\"css\", nothing, \"/Users/bert/.julia/packages/Interact/SbgIk/src/../assets/bulma_confined.min.css\")], Dict{Any,Any}(\"changes\" => Any[WebIO.JSString(\"(function (val){return (val!=this.model[\\\"changes\\\"]()) ? (this.valueFromJulia[\\\"changes\\\"]=true, this.model[\\\"changes\\\"](val)) : undefined})\")],\"index\" => Any[WebIO.JSString(\"(function (val){return (val!=this.model[\\\"index\\\"]()) ? (this.valueFromJulia[\\\"index\\\"]=true, this.model[\\\"index\\\"](val)) : undefined})\")]), WebIO.ConnectionPool(Channel{Any}(sz_max:32,sz_curr:0), Set(AbstractConnection[]), Base.GenericCondition{Base.AlwaysLockedST}(Base.InvasiveLinkedList{Task}(Task (runnable) @0x000000011200a650, Task (runnable) @0x000000011200a650), Base.AlwaysLockedST(1))), WebIO.JSString[WebIO.JSString(\"function () {\\n    var handler = (function (ko, koPunches) {\\n    ko.punches.enableAll();\\n    ko.bindingHandlers.numericValue = {\\n        init: function(element, valueAccessor, allBindings, data, context) {\\n            var stringified = ko.observable(ko.unwrap(valueAccessor()));\\n            stringified.subscribe(function(value) {\\n                var val = parseFloat(value);\\n                if (!isNaN(val)) {\\n                    valueAccessor()(val);\\n                }\\n            });\\n            valueAccessor().subscribe(function(value) {\\n                var str = JSON.stringify(value);\\n                if ((str == \\\"0\\\") && ([\\\"-0\\\", \\\"-0.\\\"].indexOf(stringified()) >= 0))\\n                     return;\\n                 if ([\\\"null\\\", \\\"\\\"].indexOf(str) >= 0)\\n                     return;\\n                stringified(str);\\n            });\\n            ko.applyBindingsToNode(\\n                element,\\n                {\\n                    value: stringified,\\n                    valueUpdate: allBindings.get('valueUpdate'),\\n                },\\n                context,\\n            );\\n        }\\n    };\\n    var json_data = {\\\"formatted_vals\\\":[\\\"0.0\\\",\\\"0.1\\\",\\\"0.2\\\",\\\"0.3\\\",\\\"0.4\\\",\\\"0.5\\\",\\\"0.6\\\",\\\"0.7\\\",\\\"0.8\\\",\\\"0.9\\\",\\\"1.0\\\",\\\"1.1\\\",\\\"1.2\\\",\\\"1.3\\\",\\\"1.4\\\",\\\"1.5\\\",\\\"1.6\\\",\\\"1.7\\\",\\\"1.8\\\",\\\"1.9\\\",\\\"2.0\\\",\\\"2.1\\\",\\\"2.2\\\",\\\"2.3\\\",\\\"2.4\\\",\\\"2.5\\\",\\\"2.6\\\",\\\"2.7\\\",\\\"2.8\\\",\\\"2.9\\\",\\\"3.0\\\",\\\"3.1\\\",\\\"3.2\\\",\\\"3.3\\\",\\\"3.4\\\",\\\"3.5\\\",\\\"3.6\\\",\\\"3.7\\\",\\\"3.8\\\",\\\"3.9\\\",\\\"4.0\\\"],\\\"changes\\\":WebIO.getval({\\\"name\\\":\\\"changes\\\",\\\"scope\\\":\\\"4103046549853447133\\\",\\\"id\\\":\\\"ob_14\\\",\\\"type\\\":\\\"observable\\\"}),\\\"index\\\":WebIO.getval({\\\"name\\\":\\\"index\\\",\\\"scope\\\":\\\"4103046549853447133\\\",\\\"id\\\":\\\"ob_13\\\",\\\"type\\\":\\\"observable\\\"})};\\n    var self = this;\\n    function AppViewModel() {\\n        for (var key in json_data) {\\n            var el = json_data[key];\\n            this[key] = Array.isArray(el) ? ko.observableArray(el) : ko.observable(el);\\n        }\\n        \\n        [this[\\\"formatted_val\\\"]=ko.computed(    function(){\\n        return this.formatted_vals()[parseInt(this.index())-(1)];\\n    }\\n,this)]\\n        [this[\\\"changes\\\"].subscribe((function (val){!(this.valueFromJulia[\\\"changes\\\"]) ? (WebIO.setval({\\\"name\\\":\\\"changes\\\",\\\"scope\\\":\\\"4103046549853447133\\\",\\\"id\\\":\\\"ob_14\\\",\\\"type\\\":\\\"observable\\\"},val)) : undefined; return this.valueFromJulia[\\\"changes\\\"]=false}),self),this[\\\"index\\\"].subscribe((function (val){!(this.valueFromJulia[\\\"index\\\"]) ? (WebIO.setval({\\\"name\\\":\\\"index\\\",\\\"scope\\\":\\\"4103046549853447133\\\",\\\"id\\\":\\\"ob_13\\\",\\\"type\\\":\\\"observable\\\"},val)) : undefined; return this.valueFromJulia[\\\"index\\\"]=false}),self)]\\n        \\n    }\\n    self.model = new AppViewModel();\\n    self.valueFromJulia = {};\\n    for (var key in json_data) {\\n        self.valueFromJulia[key] = false;\\n    }\\n    ko.applyBindings(self.model, self.dom);\\n}\\n);\\n    (WebIO.importBlock({\\\"data\\\":[{\\\"name\\\":\\\"knockout\\\",\\\"type\\\":\\\"js\\\",\\\"url\\\":\\\"/assetserver/770a4105885e188380f0560e309f836e0282fbc9-knockout.js\\\"},{\\\"name\\\":\\\"knockout_punches\\\",\\\"type\\\":\\\"js\\\",\\\"url\\\":\\\"/assetserver/20a2690722e74a76875c5ae3530aa6a4f9754d2c-knockout_punches.js\\\"}],\\\"type\\\":\\\"async_block\\\"})).then((imports) => handler.apply(this, imports));\\n}\\n\")])], Dict{Symbol,Any}(:className => \"field interact-widget\")), Node{WebIO.DOM}(WebIO.DOM(:html, :div), Any[Scope(Node{WebIO.DOM}(WebIO.DOM(:html, :div), Any[Node{WebIO.DOM}(WebIO.DOM(:html, :div), Any[Node{WebIO.DOM}(WebIO.DOM(:html, :label), Any[\"σx\"], Dict{Symbol,Any}(:className => \"interact \",:style => Dict{Any,Any}(:padding => \"5px 10px 0px 10px\")))], Dict{Symbol,Any}(:className => \"interact-flex-row-left\")), Node{WebIO.DOM}(WebIO.DOM(:html, :div), Any[Node{WebIO.DOM}(WebIO.DOM(:html, :input), Any[], Dict{Symbol,Any}(:max => 19,:min => 1,:attributes => Dict{Any,Any}(:type => \"range\",Symbol(\"data-bind\") => \"numericValue: index, valueUpdate: 'input', event: {change: function (){this.changes(this.changes()+1)}}\",\"orient\" => \"horizontal\"),:step => 1,:className => \"slider slider is-fullwidth\",:style => Dict{Any,Any}()))], Dict{Symbol,Any}(:className => \"interact-flex-row-center\")), Node{WebIO.DOM}(WebIO.DOM(:html, :div), Any[Node{WebIO.DOM}(WebIO.DOM(:html, :p), Any[], Dict{Symbol,Any}(:attributes => Dict(\"data-bind\" => \"text: formatted_val\")))], Dict{Symbol,Any}(:className => \"interact-flex-row-right\"))], Dict{Symbol,Any}(:className => \"interact-flex-row interact-widget\")), Dict{String,Tuple{Observables.AbstractObservable,Union{Nothing, Bool}}}(\"changes\" => (Observable{Int64} with 1 listeners. Value:\n",
       "0, nothing),\"index\" => (Observable{Any} with 2 listeners. Value:\n",
       "10, nothing)), Set(String[]), nothing, Asset[Asset(\"js\", \"knockout\", \"/Users/bert/.julia/packages/Knockout/1sDlc/src/../assets/knockout.js\"), Asset(\"js\", \"knockout_punches\", \"/Users/bert/.julia/packages/Knockout/1sDlc/src/../assets/knockout_punches.js\"), Asset(\"js\", nothing, \"/Users/bert/.julia/packages/InteractBase/9mFwe/src/../assets/all.js\"), Asset(\"css\", nothing, \"/Users/bert/.julia/packages/InteractBase/9mFwe/src/../assets/style.css\"), Asset(\"css\", nothing, \"/Users/bert/.julia/packages/Interact/SbgIk/src/../assets/bulma_confined.min.css\")], Dict{Any,Any}(\"changes\" => Any[WebIO.JSString(\"(function (val){return (val!=this.model[\\\"changes\\\"]()) ? (this.valueFromJulia[\\\"changes\\\"]=true, this.model[\\\"changes\\\"](val)) : undefined})\")],\"index\" => Any[WebIO.JSString(\"(function (val){return (val!=this.model[\\\"index\\\"]()) ? (this.valueFromJulia[\\\"index\\\"]=true, this.model[\\\"index\\\"](val)) : undefined})\")]), WebIO.ConnectionPool(Channel{Any}(sz_max:32,sz_curr:0), Set(AbstractConnection[]), Base.GenericCondition{Base.AlwaysLockedST}(Base.InvasiveLinkedList{Task}(Task (runnable) @0x0000000113fc0b50, Task (runnable) @0x0000000113fc0b50), Base.AlwaysLockedST(1))), WebIO.JSString[WebIO.JSString(\"function () {\\n    var handler = (function (ko, koPunches) {\\n    ko.punches.enableAll();\\n    ko.bindingHandlers.numericValue = {\\n        init: function(element, valueAccessor, allBindings, data, context) {\\n            var stringified = ko.observable(ko.unwrap(valueAccessor()));\\n            stringified.subscribe(function(value) {\\n                var val = parseFloat(value);\\n                if (!isNaN(val)) {\\n                    valueAccessor()(val);\\n                }\\n            });\\n            valueAccessor().subscribe(function(value) {\\n                var str = JSON.stringify(value);\\n                if ((str == \\\"0\\\") && ([\\\"-0\\\", \\\"-0.\\\"].indexOf(stringified()) >= 0))\\n                     return;\\n                 if ([\\\"null\\\", \\\"\\\"].indexOf(str) >= 0)\\n                     return;\\n                stringified(str);\\n            });\\n            ko.applyBindingsToNode(\\n                element,\\n                {\\n                    value: stringified,\\n                    valueUpdate: allBindings.get('valueUpdate'),\\n                },\\n                context,\\n            );\\n        }\\n    };\\n    var json_data = {\\\"formatted_vals\\\":[\\\"0.1\\\",\\\"0.2\\\",\\\"0.3\\\",\\\"0.4\\\",\\\"0.5\\\",\\\"0.6\\\",\\\"0.7\\\",\\\"0.8\\\",\\\"0.9\\\",\\\"1.0\\\",\\\"1.1\\\",\\\"1.2\\\",\\\"1.3\\\",\\\"1.4\\\",\\\"1.5\\\",\\\"1.6\\\",\\\"1.7\\\",\\\"1.8\\\",\\\"1.9\\\"],\\\"changes\\\":WebIO.getval({\\\"name\\\":\\\"changes\\\",\\\"scope\\\":\\\"9980943316809371791\\\",\\\"id\\\":\\\"ob_17\\\",\\\"type\\\":\\\"observable\\\"}),\\\"index\\\":WebIO.getval({\\\"name\\\":\\\"index\\\",\\\"scope\\\":\\\"9980943316809371791\\\",\\\"id\\\":\\\"ob_16\\\",\\\"type\\\":\\\"observable\\\"})};\\n    var self = this;\\n    function AppViewModel() {\\n        for (var key in json_data) {\\n            var el = json_data[key];\\n            this[key] = Array.isArray(el) ? ko.observableArray(el) : ko.observable(el);\\n        }\\n        \\n        [this[\\\"formatted_val\\\"]=ko.computed(    function(){\\n        return this.formatted_vals()[parseInt(this.index())-(1)];\\n    }\\n,this)]\\n        [this[\\\"changes\\\"].subscribe((function (val){!(this.valueFromJulia[\\\"changes\\\"]) ? (WebIO.setval({\\\"name\\\":\\\"changes\\\",\\\"scope\\\":\\\"9980943316809371791\\\",\\\"id\\\":\\\"ob_17\\\",\\\"type\\\":\\\"observable\\\"},val)) : undefined; return this.valueFromJulia[\\\"changes\\\"]=false}),self),this[\\\"index\\\"].subscribe((function (val){!(this.valueFromJulia[\\\"index\\\"]) ? (WebIO.setval({\\\"name\\\":\\\"index\\\",\\\"scope\\\":\\\"9980943316809371791\\\",\\\"id\\\":\\\"ob_16\\\",\\\"type\\\":\\\"observable\\\"},val)) : undefined; return this.valueFromJulia[\\\"index\\\"]=false}),self)]\\n        \\n    }\\n    self.model = new AppViewModel();\\n    self.valueFromJulia = {};\\n    for (var key in json_data) {\\n        self.valueFromJulia[key] = false;\\n    }\\n    ko.applyBindings(self.model, self.dom);\\n}\\n);\\n    (WebIO.importBlock({\\\"data\\\":[{\\\"name\\\":\\\"knockout\\\",\\\"type\\\":\\\"js\\\",\\\"url\\\":\\\"/assetserver/770a4105885e188380f0560e309f836e0282fbc9-knockout.js\\\"},{\\\"name\\\":\\\"knockout_punches\\\",\\\"type\\\":\\\"js\\\",\\\"url\\\":\\\"/assetserver/20a2690722e74a76875c5ae3530aa6a4f9754d2c-knockout_punches.js\\\"}],\\\"type\\\":\\\"async_block\\\"})).then((imports) => handler.apply(this, imports));\\n}\\n\")])], Dict{Symbol,Any}(:className => \"field interact-widget\")), Node{WebIO.DOM}(WebIO.DOM(:html, :div), Any[Scope(Node{WebIO.DOM}(WebIO.DOM(:html, :div), Any[Node{WebIO.DOM}(WebIO.DOM(:html, :div), Any[Node{WebIO.DOM}(WebIO.DOM(:html, :label), Any[\"μy\"], Dict{Symbol,Any}(:className => \"interact \",:style => Dict{Any,Any}(:padding => \"5px 10px 0px 10px\")))], Dict{Symbol,Any}(:className => \"interact-flex-row-left\")), Node{WebIO.DOM}(WebIO.DOM(:html, :div), Any[Node{WebIO.DOM}(WebIO.DOM(:html, :input), Any[], Dict{Symbol,Any}(:max => 41,:min => 1,:attributes => Dict{Any,Any}(:type => \"range\",Symbol(\"data-bind\") => \"numericValue: index, valueUpdate: 'input', event: {change: function (){this.changes(this.changes()+1)}}\",\"orient\" => \"horizontal\"),:step => 1,:className => \"slider slider is-fullwidth\",:style => Dict{Any,Any}()))], Dict{Symbol,Any}(:className => \"interact-flex-row-center\")), Node{WebIO.DOM}(WebIO.DOM(:html, :div), Any[Node{WebIO.DOM}(WebIO.DOM(:html, :p), Any[], Dict{Symbol,Any}(:attributes => Dict(\"data-bind\" => \"text: formatted_val\")))], Dict{Symbol,Any}(:className => \"interact-flex-row-right\"))], Dict{Symbol,Any}(:className => \"interact-flex-row interact-widget\")), Dict{String,Tuple{Observables.AbstractObservable,Union{Nothing, Bool}}}(\"changes\" => (Observable{Int64} with 1 listeners. Value:\n",
       "0, nothing),\"index\" => (Observable{Any} with 2 listeners. Value:\n",
       "21, nothing)), Set(String[]), nothing, Asset[Asset(\"js\", \"knockout\", \"/Users/bert/.julia/packages/Knockout/1sDlc/src/../assets/knockout.js\"), Asset(\"js\", \"knockout_punches\", \"/Users/bert/.julia/packages/Knockout/1sDlc/src/../assets/knockout_punches.js\"), Asset(\"js\", nothing, \"/Users/bert/.julia/packages/InteractBase/9mFwe/src/../assets/all.js\"), Asset(\"css\", nothing, \"/Users/bert/.julia/packages/InteractBase/9mFwe/src/../assets/style.css\"), Asset(\"css\", nothing, \"/Users/bert/.julia/packages/Interact/SbgIk/src/../assets/bulma_confined.min.css\")], Dict{Any,Any}(\"changes\" => Any[WebIO.JSString(\"(function (val){return (val!=this.model[\\\"changes\\\"]()) ? (this.valueFromJulia[\\\"changes\\\"]=true, this.model[\\\"changes\\\"](val)) : undefined})\")],\"index\" => Any[WebIO.JSString(\"(function (val){return (val!=this.model[\\\"index\\\"]()) ? (this.valueFromJulia[\\\"index\\\"]=true, this.model[\\\"index\\\"](val)) : undefined})\")]), WebIO.ConnectionPool(Channel{Any}(sz_max:32,sz_curr:0), Set(AbstractConnection[]), Base.GenericCondition{Base.AlwaysLockedST}(Base.InvasiveLinkedList{Task}(Task (runnable) @0x0000000113fc0fd0, Task (runnable) @0x0000000113fc0fd0), Base.AlwaysLockedST(1))), WebIO.JSString[WebIO.JSString(\"function () {\\n    var handler = (function (ko, koPunches) {\\n    ko.punches.enableAll();\\n    ko.bindingHandlers.numericValue = {\\n        init: function(element, valueAccessor, allBindings, data, context) {\\n            var stringified = ko.observable(ko.unwrap(valueAccessor()));\\n            stringified.subscribe(function(value) {\\n                var val = parseFloat(value);\\n                if (!isNaN(val)) {\\n                    valueAccessor()(val);\\n                }\\n            });\\n            valueAccessor().subscribe(function(value) {\\n                var str = JSON.stringify(value);\\n                if ((str == \\\"0\\\") && ([\\\"-0\\\", \\\"-0.\\\"].indexOf(stringified()) >= 0))\\n                     return;\\n                 if ([\\\"null\\\", \\\"\\\"].indexOf(str) >= 0)\\n                     return;\\n                stringified(str);\\n            });\\n            ko.applyBindingsToNode(\\n                element,\\n                {\\n                    value: stringified,\\n                    valueUpdate: allBindings.get('valueUpdate'),\\n                },\\n                context,\\n            );\\n        }\\n    };\\n    var json_data = {\\\"formatted_vals\\\":[\\\"0.0\\\",\\\"0.1\\\",\\\"0.2\\\",\\\"0.3\\\",\\\"0.4\\\",\\\"0.5\\\",\\\"0.6\\\",\\\"0.7\\\",\\\"0.8\\\",\\\"0.9\\\",\\\"1.0\\\",\\\"1.1\\\",\\\"1.2\\\",\\\"1.3\\\",\\\"1.4\\\",\\\"1.5\\\",\\\"1.6\\\",\\\"1.7\\\",\\\"1.8\\\",\\\"1.9\\\",\\\"2.0\\\",\\\"2.1\\\",\\\"2.2\\\",\\\"2.3\\\",\\\"2.4\\\",\\\"2.5\\\",\\\"2.6\\\",\\\"2.7\\\",\\\"2.8\\\",\\\"2.9\\\",\\\"3.0\\\",\\\"3.1\\\",\\\"3.2\\\",\\\"3.3\\\",\\\"3.4\\\",\\\"3.5\\\",\\\"3.6\\\",\\\"3.7\\\",\\\"3.8\\\",\\\"3.9\\\",\\\"4.0\\\"],\\\"changes\\\":WebIO.getval({\\\"name\\\":\\\"changes\\\",\\\"scope\\\":\\\"12545065424658554836\\\",\\\"id\\\":\\\"ob_20\\\",\\\"type\\\":\\\"observable\\\"}),\\\"index\\\":WebIO.getval({\\\"name\\\":\\\"index\\\",\\\"scope\\\":\\\"12545065424658554836\\\",\\\"id\\\":\\\"ob_19\\\",\\\"type\\\":\\\"observable\\\"})};\\n    var self = this;\\n    function AppViewModel() {\\n        for (var key in json_data) {\\n            var el = json_data[key];\\n            this[key] = Array.isArray(el) ? ko.observableArray(el) : ko.observable(el);\\n        }\\n        \\n        [this[\\\"formatted_val\\\"]=ko.computed(    function(){\\n        return this.formatted_vals()[parseInt(this.index())-(1)];\\n    }\\n,this)]\\n        [this[\\\"changes\\\"].subscribe((function (val){!(this.valueFromJulia[\\\"changes\\\"]) ? (WebIO.setval({\\\"name\\\":\\\"changes\\\",\\\"scope\\\":\\\"12545065424658554836\\\",\\\"id\\\":\\\"ob_20\\\",\\\"type\\\":\\\"observable\\\"},val)) : undefined; return this.valueFromJulia[\\\"changes\\\"]=false}),self),this[\\\"index\\\"].subscribe((function (val){!(this.valueFromJulia[\\\"index\\\"]) ? (WebIO.setval({\\\"name\\\":\\\"index\\\",\\\"scope\\\":\\\"12545065424658554836\\\",\\\"id\\\":\\\"ob_19\\\",\\\"type\\\":\\\"observable\\\"},val)) : undefined; return this.valueFromJulia[\\\"index\\\"]=false}),self)]\\n        \\n    }\\n    self.model = new AppViewModel();\\n    self.valueFromJulia = {};\\n    for (var key in json_data) {\\n        self.valueFromJulia[key] = false;\\n    }\\n    ko.applyBindings(self.model, self.dom);\\n}\\n);\\n    (WebIO.importBlock({\\\"data\\\":[{\\\"name\\\":\\\"knockout\\\",\\\"type\\\":\\\"js\\\",\\\"url\\\":\\\"/assetserver/770a4105885e188380f0560e309f836e0282fbc9-knockout.js\\\"},{\\\"name\\\":\\\"knockout_punches\\\",\\\"type\\\":\\\"js\\\",\\\"url\\\":\\\"/assetserver/20a2690722e74a76875c5ae3530aa6a4f9754d2c-knockout_punches.js\\\"}],\\\"type\\\":\\\"async_block\\\"})).then((imports) => handler.apply(this, imports));\\n}\\n\")])], Dict{Symbol,Any}(:className => \"field interact-widget\")), Node{WebIO.DOM}(WebIO.DOM(:html, :div), Any[Scope(Node{WebIO.DOM}(WebIO.DOM(:html, :div), Any[Node{WebIO.DOM}(WebIO.DOM(:html, :div), Any[Node{WebIO.DOM}(WebIO.DOM(:html, :label), Any[\"σy\"], Dict{Symbol,Any}(:className => \"interact \",:style => Dict{Any,Any}(:padding => \"5px 10px 0px 10px\")))], Dict{Symbol,Any}(:className => \"interact-flex-row-left\")), Node{WebIO.DOM}(WebIO.DOM(:html, :div), Any[Node{WebIO.DOM}(WebIO.DOM(:html, :input), Any[], Dict{Symbol,Any}(:max => 9,:min => 1,:attributes => Dict{Any,Any}(:type => \"range\",Symbol(\"data-bind\") => \"numericValue: index, valueUpdate: 'input', event: {change: function (){this.changes(this.changes()+1)}}\",\"orient\" => \"horizontal\"),:step => 1,:className => \"slider slider is-fullwidth\",:style => Dict{Any,Any}()))], Dict{Symbol,Any}(:className => \"interact-flex-row-center\")), Node{WebIO.DOM}(WebIO.DOM(:html, :div), Any[Node{WebIO.DOM}(WebIO.DOM(:html, :p), Any[], Dict{Symbol,Any}(:attributes => Dict(\"data-bind\" => \"text: formatted_val\")))], Dict{Symbol,Any}(:className => \"interact-flex-row-right\"))], Dict{Symbol,Any}(:className => \"interact-flex-row interact-widget\")), Dict{String,Tuple{Observables.AbstractObservable,Union{Nothing, Bool}}}(\"changes\" => (Observable{Int64} with 1 listeners. Value:\n",
       "0, nothing),\"index\" => (Observable{Any} with 2 listeners. Value:\n",
       "5, nothing)), Set(String[]), nothing, Asset[Asset(\"js\", \"knockout\", \"/Users/bert/.julia/packages/Knockout/1sDlc/src/../assets/knockout.js\"), Asset(\"js\", \"knockout_punches\", \"/Users/bert/.julia/packages/Knockout/1sDlc/src/../assets/knockout_punches.js\"), Asset(\"js\", nothing, \"/Users/bert/.julia/packages/InteractBase/9mFwe/src/../assets/all.js\"), Asset(\"css\", nothing, \"/Users/bert/.julia/packages/InteractBase/9mFwe/src/../assets/style.css\"), Asset(\"css\", nothing, \"/Users/bert/.julia/packages/Interact/SbgIk/src/../assets/bulma_confined.min.css\")], Dict{Any,Any}(\"changes\" => Any[WebIO.JSString(\"(function (val){return (val!=this.model[\\\"changes\\\"]()) ? (this.valueFromJulia[\\\"changes\\\"]=true, this.model[\\\"changes\\\"](val)) : undefined})\")],\"index\" => Any[WebIO.JSString(\"(function (val){return (val!=this.model[\\\"index\\\"]()) ? (this.valueFromJulia[\\\"index\\\"]=true, this.model[\\\"index\\\"](val)) : undefined})\")]), WebIO.ConnectionPool(Channel{Any}(sz_max:32,sz_curr:0), Set(AbstractConnection[]), Base.GenericCondition{Base.AlwaysLockedST}(Base.InvasiveLinkedList{Task}(Task (runnable) @0x0000000113fc1450, Task (runnable) @0x0000000113fc1450), Base.AlwaysLockedST(1))), WebIO.JSString[WebIO.JSString(\"function () {\\n    var handler = (function (ko, koPunches) {\\n    ko.punches.enableAll();\\n    ko.bindingHandlers.numericValue = {\\n        init: function(element, valueAccessor, allBindings, data, context) {\\n            var stringified = ko.observable(ko.unwrap(valueAccessor()));\\n            stringified.subscribe(function(value) {\\n                var val = parseFloat(value);\\n                if (!isNaN(val)) {\\n                    valueAccessor()(val);\\n                }\\n            });\\n            valueAccessor().subscribe(function(value) {\\n                var str = JSON.stringify(value);\\n                if ((str == \\\"0\\\") && ([\\\"-0\\\", \\\"-0.\\\"].indexOf(stringified()) >= 0))\\n                     return;\\n                 if ([\\\"null\\\", \\\"\\\"].indexOf(str) >= 0)\\n                     return;\\n                stringified(str);\\n            });\\n            ko.applyBindingsToNode(\\n                element,\\n                {\\n                    value: stringified,\\n                    valueUpdate: allBindings.get('valueUpdate'),\\n                },\\n                context,\\n            );\\n        }\\n    };\\n    var json_data = {\\\"formatted_vals\\\":[\\\"0.1\\\",\\\"0.2\\\",\\\"0.3\\\",\\\"0.4\\\",\\\"0.5\\\",\\\"0.6\\\",\\\"0.7\\\",\\\"0.8\\\",\\\"0.9\\\"],\\\"changes\\\":WebIO.getval({\\\"name\\\":\\\"changes\\\",\\\"scope\\\":\\\"16099176966408466011\\\",\\\"id\\\":\\\"ob_23\\\",\\\"type\\\":\\\"observable\\\"}),\\\"index\\\":WebIO.getval({\\\"name\\\":\\\"index\\\",\\\"scope\\\":\\\"16099176966408466011\\\",\\\"id\\\":\\\"ob_22\\\",\\\"type\\\":\\\"observable\\\"})};\\n    var self = this;\\n    function AppViewModel() {\\n        for (var key in json_data) {\\n            var el = json_data[key];\\n            this[key] = Array.isArray(el) ? ko.observableArray(el) : ko.observable(el);\\n        }\\n        \\n        [this[\\\"formatted_val\\\"]=ko.computed(    function(){\\n        return this.formatted_vals()[parseInt(this.index())-(1)];\\n    }\\n,this)]\\n        [this[\\\"changes\\\"].subscribe((function (val){!(this.valueFromJulia[\\\"changes\\\"]) ? (WebIO.setval({\\\"name\\\":\\\"changes\\\",\\\"scope\\\":\\\"16099176966408466011\\\",\\\"id\\\":\\\"ob_23\\\",\\\"type\\\":\\\"observable\\\"},val)) : undefined; return this.valueFromJulia[\\\"changes\\\"]=false}),self),this[\\\"index\\\"].subscribe((function (val){!(this.valueFromJulia[\\\"index\\\"]) ? (WebIO.setval({\\\"name\\\":\\\"index\\\",\\\"scope\\\":\\\"16099176966408466011\\\",\\\"id\\\":\\\"ob_22\\\",\\\"type\\\":\\\"observable\\\"},val)) : undefined; return this.valueFromJulia[\\\"index\\\"]=false}),self)]\\n        \\n    }\\n    self.model = new AppViewModel();\\n    self.valueFromJulia = {};\\n    for (var key in json_data) {\\n        self.valueFromJulia[key] = false;\\n    }\\n    ko.applyBindings(self.model, self.dom);\\n}\\n);\\n    (WebIO.importBlock({\\\"data\\\":[{\\\"name\\\":\\\"knockout\\\",\\\"type\\\":\\\"js\\\",\\\"url\\\":\\\"/assetserver/770a4105885e188380f0560e309f836e0282fbc9-knockout.js\\\"},{\\\"name\\\":\\\"knockout_punches\\\",\\\"type\\\":\\\"js\\\",\\\"url\\\":\\\"/assetserver/20a2690722e74a76875c5ae3530aa6a4f9754d2c-knockout_punches.js\\\"}],\\\"type\\\":\\\"async_block\\\"})).then((imports) => handler.apply(this, imports));\\n}\\n\")])], Dict{Symbol,Any}(:className => \"field interact-widget\")), Observable{Any} with 0 listeners. Value:\n",
       "Node{WebIO.DOM}(WebIO.DOM(:html, :div), Any[Figure(PyObject <Figure size 640x480 with 1 Axes>)], Dict{Symbol,Any}(:className => \"interact-flex-row interact-widget\"))], Dict{Symbol,Any}())"
      ]
     },
     "execution_count": 2,
     "metadata": {},
     "output_type": "execute_result"
    }
   ],
   "source": [
    "using Reactive, Interact, PyPlot, Distributions\n",
    "f = figure()\n",
    "@manipulate for μx=0:0.1:4, σx=0.1:0.1:1.9,μy=0:0.1:4, σy=0.1:0.1:0.9; withfig(f) do\n",
    "        μz = μx+μy; σz = sqrt(σx^2 + σy^2)\n",
    "        x = Normal(μx, σx)\n",
    "        y = Normal(μy, σy)\n",
    "        z = Normal(μz, σz)\n",
    "        range_min = minimum([μx-2*σx, μy-2*σy, μz-2*σz])\n",
    "        range_max = maximum([μx+2*σx, μy+2*σy, μz+2*σz])\n",
    "        range_grid = range(range_min, stop=range_max, length=100)\n",
    "        plot(range_grid, pdf.(x,range_grid), \"k-\")\n",
    "        plot(range_grid, pdf.(y,range_grid), \"b-\")\n",
    "        plot(range_grid, pdf.(z,range_grid), \"r-\")\n",
    "        legend([L\"p_X\", L\"p_Y\", L\"p_Z\"])\n",
    "        grid()\n",
    "    end\n",
    "end\n"
   ]
  },
  {
   "cell_type": "markdown",
   "metadata": {
    "slideshow": {
     "slide_type": "slide"
    }
   },
   "source": [
    "### PDF for the Product of Two Variables\n",
    "\n",
    "- For two continuous random **independent** variables\n",
    "$X$ and $Y$, with PDF's $p_x(x)$ and $p_y(y)$, the PDF of \n",
    "$Z = X Y $ is given by \n",
    "$$\n",
    "p_z(z) = \\int_{-\\infty}^{\\infty} p_x(x) \\,p_y(z/x)\\, \\frac{1}{|x|}\\,\\mathrm{d}x\n",
    "$$\n",
    "\n",
    "- For proof, see [https://en.wikipedia.org/wiki/Product_distribution](https://en.wikipedia.org/wiki/Product_distribution)"
   ]
  },
  {
   "cell_type": "markdown",
   "metadata": {
    "slideshow": {
     "slide_type": "fragment"
    }
   },
   "source": [
    "- Generally, this integral does not lead to an analytical expression for $p_z(z)$. For example, **the product of two independent variables that are both normally (Gaussian) distributed does not lead to a normal distribution**.\n",
    "  - Exception: the distribution of the product of two variables that both have [log-normal distributions](https://en.wikipedia.org/wiki/Log-normal_distribution) is again a lognormal distribution.\n",
    "    - (If $X$ has a normal distribution, then $Y=\\exp(X)$ has a log-normal distribution.)"
   ]
  },
  {
   "cell_type": "markdown",
   "metadata": {
    "slideshow": {
     "slide_type": "slide"
    }
   },
   "source": [
    "### Moments of the PDF\n",
    "\n",
    "- Consider a distribution $p(x)$. The **expected value** or **mean** is defined as \n",
    "$$\\mathrm{E}[x] \\triangleq  \\int x \\,p(x) \\,\\mathrm{d}{x}$$ "
   ]
  },
  {
   "cell_type": "markdown",
   "metadata": {
    "slideshow": {
     "slide_type": "fragment"
    }
   },
   "source": [
    "- The **variance** is defined as \n",
    "$$\\mathrm{var}[x] \\triangleq \\mathrm{E} \\left[(x-\\mathrm{E}[x])(x-\\mathrm{E}[x])^T \\right]$$ "
   ]
  },
  {
   "cell_type": "markdown",
   "metadata": {
    "slideshow": {
     "slide_type": "fragment"
    }
   },
   "source": [
    "- The **covariance** matrix between _vectors_ $x$ and $y$ is defined as\n",
    "$$\\begin{align*}\n",
    "    \\mathrm{cov}[x,y] &\\triangleq \\mathrm{E}\\left[ (x-\\mathrm{E}[x]) (y-\\mathrm{E}[y])^T \\right]\\\\\n",
    "    &= \\mathrm{E}\\left[ (x-\\mathrm{E}[x]) (y^T-\\mathrm{E}[y^T]) \\right]\\\\\n",
    "    &= \\mathrm{E}[x y^T] - \\mathrm{E}[x]\\mathrm{E}[y^T]\n",
    "\\end{align*}$$\n"
   ]
  },
  {
   "cell_type": "markdown",
   "metadata": {
    "slideshow": {
     "slide_type": "slide"
    }
   },
   "source": [
    "\n",
    "### Linear Transformations\n",
    "\n",
    "- No matter how $x$ is distributed, we can derive that (Exercise below)\n",
    "\n",
    "$$\\begin{align}\n",
    "\\mathrm{E}[Ax +b] &= A\\mathrm{E}[x] + b \\tag{SRG-3a}\\\\\n",
    "\\mathrm{var}[Ax +b] &= A\\,\\mathrm{var}[x]\\,A^T \\tag{SRG-3b}\n",
    "\\end{align}$$\n",
    "\n",
    "-  (The tag (SRG-3a) refers to the corresponding eqn number in Sam Roweis [Gaussian identities](https://github.com/bertdv/BMLIP/blob/master/lessons/notebooks/files/Roweis-1999-gaussian-identities.pdf) notes.)\n",
    "\n"
   ]
  },
  {
   "cell_type": "markdown",
   "metadata": {
    "slideshow": {
     "slide_type": "slide"
    }
   },
   "source": [
    "### Example: Mean and Variance for the Sum of Two Variables\n",
    "\n",
    "- For any distribution of $x$ and $y$ and $z=x+y$ (proof by Exercise below)\n",
    "\n",
    "$$\\begin{align*}\n",
    "    \\mathrm{E}[z] &= \\mathrm{E}[x] + \\mathrm{E}[y] \\\\\n",
    "    \\mathrm{var}[z] &= \\mathrm{var}[x] + \\mathrm{var}[y] + 2\\mathrm{cov}[x,y] \n",
    "\\end{align*}$$\n",
    "\n",
    "- Clearly if $x$ and $y$ are **independent**, then\n",
    "\n",
    "$$\\mathrm{var}[z] = \\mathrm{var}[x] + \\mathrm{var}[y] \\quad \\text{(if X and Y are independent)}$$"
   ]
  },
  {
   "cell_type": "markdown",
   "metadata": {
    "slideshow": {
     "slide_type": "slide"
    }
   },
   "source": [
    "### Review Probability Theory\n",
    "\n",
    "- Interpretation as a degree of belief, i.e. a state-of-knowledge, not as a property of nature."
   ]
  },
  {
   "cell_type": "markdown",
   "metadata": {
    "slideshow": {
     "slide_type": "fragment"
    }
   },
   "source": [
    "- We can do everything with only the **sum rule** and the **product rule**. In practice, **Bayes rule** and **marginalization** are often very useful for inference, i.e., for computing\n",
    "\n",
    "$$p(\\,\\text{what-we-want-to-know}\\,|\\,\\text{what-we-already-know}\\,)\\,.$$"
   ]
  },
  {
   "cell_type": "markdown",
   "metadata": {
    "slideshow": {
     "slide_type": "fragment"
    }
   },
   "source": [
    "- Bayes rule $$ p(\\theta|D) = \\frac{p(D|\\theta)p(\\theta)} {p(D)} $$ is the fundamental rule for learning!"
   ]
  },
  {
   "cell_type": "markdown",
   "metadata": {
    "slideshow": {
     "slide_type": "fragment"
    }
   },
   "source": [
    "- That's really about all you need to know about probability theory, but you need to _really_ know it, so do the exercises."
   ]
  },
  {
   "cell_type": "markdown",
   "metadata": {
    "slideshow": {
     "slide_type": "slide"
    }
   },
   "source": [
    "### Exercises\n",
    "\n",
    "- Proof that $p(A|I) + p(\\bar{A}|I) = 1$ follows from the sum rule.\n",
    "\n",
    "- Proof that \n",
    "\n",
    "- Is it more correct to speak about the likelihood of a _model_ (or model parameters) than about the likelihood of an _observed data set_. And why? \n",
    "\n",
    "- Is a speech signal a 'probabilistic' (random) or a deterministic signal?\n",
    "\n",
    "- A dark bag contains five red balls and seven green ones. (a) What is the probability of drawing a red ball on the first draw? Balls are not returned to the bag after each draw. (b) If you know that on the second draw the ball was a green one, what is now the probability of drawing a red ball on the first draw?\n",
    "\n",
    "- A bag contains one ball, known to be either white or black. A white ball is put in, the bag is shaken,\n",
    " and a ball is drawn out, which proves to be white. What is now the\n",
    " chance of drawing a white ball?\n",
    " \n",
    "- Proof that, the mean and (co-)variance of any distribution $p(x)$ is processed by a linear tranformation as\n",
    " $$\\begin{align}\n",
    "\\mathrm{E}[Ax +b] &= A\\mathrm{E}[x] + b \\tag{SRG-3a}\\\\\n",
    "\\mathrm{cov}[Ax +b] &= A\\,\\mathrm{cov}[x]\\,A^T \\tag{SRG-3b}\n",
    "\\end{align}$$\n",
    "\n",
    "- Proof that, for any distribution of $x$ and $y$ and $z=x+y$\n",
    "$$\\begin{align*}\n",
    "    \\mathrm{E}[z] &= \\mathrm{E}[x] + \\mathrm{E}[y] \\\\\n",
    "    \\mathrm{var}[z] &= \\mathrm{var}[x] + \\mathrm{var}[y] + 2\\mathrm{cov}[x,y] \n",
    "\\end{align*}$$\n",
    "\n",
    "\n",
    "- $$\\begin{align*}\n",
    "    \\mathrm{E}[z] &= \\int_z z \\left[\\int_x p_x(x)p_y(z-x) \\,\\mathrm{d}{x} \\right] \\,\\mathrm{d}{z} \\\\\n",
    "&= \\int_x p_x(x) \\left[ \\int_z z p_y(z-x)\\,\\mathrm{d}{z} \\right] \\,\\mathrm{d}{x}  \\\\\n",
    "    &= \\int_x p_x(x) \\left[ \\int_{y^\\prime} (y^\\prime +x)p_y(y^\\prime)\\,\\mathrm{d}{y^\\prime} \\right] \\,\\mathrm{d}{x} \\notag\\\\\n",
    "&= \\int_x p_x(x) \\left( \\mathrm{E}[y]+x \\right) \\,\\mathrm{d}{x} \\notag\\\\\n",
    "    &= \\mathrm{E}[x] + \\mathrm{E}[y] \\qquad \\text{(always; follows from SRG-3a)}\n",
    "\\end{align*}$$"
   ]
  },
  {
   "cell_type": "code",
   "execution_count": 3,
   "metadata": {
    "slideshow": {
     "slide_type": "skip"
    }
   },
   "outputs": [
    {
     "data": {
      "text/html": [
       "<!--\n",
       "This HTML file contains custom styles and some javascript.\n",
       "Include it a Jupyter notebook for improved rendering.\n",
       "-->\n",
       "\n",
       "<!-- Fonts -->\n",
       "<link href='http://fonts.googleapis.com/css?family=Alegreya+Sans:100,300,400,500,700,800,900,100italic,300italic,400italic,500italic,700italic,800italic,900italic' rel='stylesheet' type='text/css'>\n",
       "<link href='http://fonts.googleapis.com/css?family=Arvo:400,700,400italic' rel='stylesheet' type='text/css'>\n",
       "<link href='http://fonts.googleapis.com/css?family=PT+Mono' rel='stylesheet' type='text/css'>\n",
       "<link href='http://fonts.googleapis.com/css?family=Shadows+Into+Light' rel='stylesheet' type='text/css'>\n",
       "<link href='http://fonts.googleapis.com/css?family=Nixie+One' rel='stylesheet' type='text/css'>\n",
       "\n",
       "<!-- Custom style -->\n",
       "<style>\n",
       "\n",
       "@font-face {\n",
       "    font-family: \"Computer Modern\";\n",
       "    src: url('http://mirrors.ctan.org/fonts/cm-unicode/fonts/otf/cmunss.otf');\n",
       "}\n",
       "\n",
       "#notebook_panel { /* main background */\n",
       "    background: rgb(245,245,245);\n",
       "}\n",
       "\n",
       "div.container {\n",
       "    min-width: 960px;\n",
       "}\n",
       "\n",
       "div #notebook { /* centre the content */\n",
       "    background: #fff; /* white background for content */\n",
       "    margin: auto;\n",
       "    padding-left: 0em;\n",
       "}\n",
       "\n",
       "#notebook li { /* More space between bullet points */\n",
       "    margin-top:0.8em;\n",
       "}\n",
       "\n",
       "/* draw border around running cells */\n",
       "div.cell.border-box-sizing.code_cell.running {\n",
       "    border: 1px solid #111;\n",
       "}\n",
       "\n",
       "/* Put a solid color box around each cell and its output, visually linking them*/\n",
       "div.cell.code_cell {\n",
       "    background-color: rgb(256,256,256);\n",
       "    border-radius: 0px;\n",
       "    padding: 0.5em;\n",
       "    margin-left:1em;\n",
       "    margin-top: 1em;\n",
       "}\n",
       "\n",
       "div.text_cell_render{\n",
       "    font-family: 'Alegreya Sans' sans-serif;\n",
       "    line-height: 140%;\n",
       "    font-size: 125%;\n",
       "    font-weight: 400;\n",
       "    width:800px;\n",
       "    margin-left:auto;\n",
       "    margin-right:auto;\n",
       "}\n",
       "\n",
       "\n",
       "/* Formatting for header cells */\n",
       ".text_cell_render h1 {\n",
       "    font-family: 'Nixie One', serif;\n",
       "    font-style:regular;\n",
       "    font-weight: 400;\n",
       "    font-size: 45pt;\n",
       "    line-height: 100%;\n",
       "    color: rgb(0,51,102);\n",
       "    margin-bottom: 0.5em;\n",
       "    margin-top: 0.5em;\n",
       "    display: block;\n",
       "}\n",
       "\n",
       ".text_cell_render h2 {\n",
       "    font-family: 'Nixie One', serif;\n",
       "    font-weight: 400;\n",
       "    font-size: 30pt;\n",
       "    line-height: 100%;\n",
       "    color: rgb(0,51,102);\n",
       "    margin-bottom: 0.1em;\n",
       "    margin-top: 0.3em;\n",
       "    display: block;\n",
       "}\n",
       "\n",
       ".text_cell_render h3 {\n",
       "    font-family: 'Nixie One', serif;\n",
       "    margin-top:16px;\n",
       "    font-size: 22pt;\n",
       "    font-weight: 600;\n",
       "    margin-bottom: 3px;\n",
       "    font-style: regular;\n",
       "    color: rgb(102,102,0);\n",
       "}\n",
       "\n",
       ".text_cell_render h4 {    /*Use this for captions*/\n",
       "    font-family: 'Nixie One', serif;\n",
       "    font-size: 14pt;\n",
       "    text-align: center;\n",
       "    margin-top: 0em;\n",
       "    margin-bottom: 2em;\n",
       "    font-style: regular;\n",
       "}\n",
       "\n",
       ".text_cell_render h5 {  /*Use this for small titles*/\n",
       "    font-family: 'Nixie One', sans-serif;\n",
       "    font-weight: 400;\n",
       "    font-size: 16pt;\n",
       "    color: rgb(163,0,0);\n",
       "    font-style: italic;\n",
       "    margin-bottom: .1em;\n",
       "    margin-top: 0.8em;\n",
       "    display: block;\n",
       "}\n",
       "\n",
       ".text_cell_render h6 { /*use this for copyright note*/\n",
       "    font-family: 'PT Mono', sans-serif;\n",
       "    font-weight: 300;\n",
       "    font-size: 9pt;\n",
       "    line-height: 100%;\n",
       "    color: grey;\n",
       "    margin-bottom: 1px;\n",
       "    margin-top: 1px;\n",
       "}\n",
       "\n",
       ".CodeMirror{\n",
       "    font-family: \"PT Mono\";\n",
       "    font-size: 90%;\n",
       "}\n",
       "\n",
       ".boxed { /* draw a border around a piece of text */\n",
       "  border: 1px solid blue ;\n",
       "}\n",
       "\n",
       "h4#CODE-EXAMPLE,\n",
       "h4#END-OF-CODE-EXAMPLE {\n",
       "    margin: 10px 0;\n",
       "    padding: 10px;\n",
       "    background-color: #d0f9ca !important;\n",
       "    border-top: #849f81 1px solid;\n",
       "    border-bottom: #849f81 1px solid;\n",
       "}\n",
       "\n",
       ".emphasis {\n",
       "    color: red;\n",
       "}\n",
       "\n",
       ".exercise {\n",
       "    color: green;\n",
       "}\n",
       "\n",
       ".proof {\n",
       "    color: blue;\n",
       "}\n",
       "\n",
       "code {\n",
       "  padding: 2px 4px !important;\n",
       "  font-size: 90% !important;\n",
       "  color: #222 !important;\n",
       "  background-color: #efefef !important;\n",
       "  border-radius: 2px !important;\n",
       "}\n",
       "\n",
       "/* This removes the actual style cells from the notebooks, but no in print mode\n",
       "   as they will be removed through some other method */\n",
       "@media not print {\n",
       "  .cell:nth-last-child(-n+2) {\n",
       "    display: none;\n",
       "  }\n",
       "}\n",
       "\n",
       "footer.hidden-print {\n",
       "    display: none !important;\n",
       "}\n",
       "    \n",
       "</style>\n",
       "\n",
       "<!-- MathJax styling -->\n",
       "<script>\n",
       "    MathJax.Hub.Config({\n",
       "                        TeX: {\n",
       "                           extensions: [\"AMSmath.js\"],\n",
       "                           equationNumbers: { autoNumber: \"AMS\", useLabelIds: true}\n",
       "                           },\n",
       "                tex2jax: {\n",
       "                    inlineMath: [ ['$','$'], [\"\\\\(\",\"\\\\)\"] ],\n",
       "                    displayMath: [ ['$$','$$'], [\"\\\\[\",\"\\\\]\"] ]\n",
       "                },\n",
       "                displayAlign: 'center', // Change this to 'center' to center equations.\n",
       "                \"HTML-CSS\": {\n",
       "                    styles: {'.MathJax_Display': {\"margin\": 4}}\n",
       "                }\n",
       "        });\n",
       "</script>\n"
      ]
     },
     "metadata": {},
     "output_type": "display_data"
    }
   ],
   "source": [
    "open(\"../../styles/aipstyle.html\") do f\n",
    "    display(\"text/html\", read(f,String))\n",
    "end"
   ]
  },
  {
   "cell_type": "code",
   "execution_count": null,
   "metadata": {},
   "outputs": [],
   "source": []
  }
 ],
 "metadata": {
  "anaconda-cloud": {},
  "celltoolbar": "Slideshow",
  "kernelspec": {
   "display_name": "Julia 1.2.0",
   "language": "julia",
   "name": "julia-1.2"
  },
  "language_info": {
   "file_extension": ".jl",
   "mimetype": "application/julia",
   "name": "julia",
   "version": "1.2.0"
  },
  "widgets": {
   "state": {
    "0c9c7079-a918-4ed4-ad45-8de3d7874019": {
     "views": [
      {
       "cell_index": 12
      }
     ]
    },
    "261fa34c-df0a-4604-a2ff-35a9cb4d9fb2": {
     "views": [
      {
       "cell_index": 20
      }
     ]
    },
    "42bb27af-6a2c-4a24-bcd3-1d8b8aec035c": {
     "views": [
      {
       "cell_index": 20
      }
     ]
    },
    "50e83b63-be9e-4e83-987a-8b3ee9bbabd6": {
     "views": [
      {
       "cell_index": 20
      }
     ]
    },
    "8053293d-ebc1-46b4-ac1c-afeb3a53d190": {
     "views": [
      {
       "cell_index": 20
      }
     ]
    },
    "f496660b-92e4-41a4-a67b-b3ca19795f03": {
     "views": [
      {
       "cell_index": 12
      }
     ]
    }
   },
   "version": "1.2.0"
  }
 },
 "nbformat": 4,
 "nbformat_minor": 1
}
