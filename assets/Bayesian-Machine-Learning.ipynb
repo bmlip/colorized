{
 "cells": [
  {
   "cell_type": "markdown",
   "metadata": {
    "slideshow": {
     "slide_type": "slide"
    }
   },
   "source": [
    "# Bayesian Machine Learning"
   ]
  },
  {
   "cell_type": "markdown",
   "metadata": {
    "slideshow": {
     "slide_type": "slide"
    }
   },
   "source": [
    "### Preliminaries\n",
    "\n",
    "- Goals\n",
    "  - Introduction to Bayesian (i.e., probabilistic) modeling\n",
    "- Materials\n",
    "  - Mandatory\n",
    "    - These lecture notes\n",
    "  - Optional\n",
    "    - Bishop pp. 68-74 (on the coin toss example)\n",
    "    - [Ariel Caticha - 2012 - Entropic Inference and the Foundations of Physics](https://github.com/bertdv/BMLIP/blob/master/lessons/notebooks/files/Caticha-2012-Entropic-Inference-and-the-Foundations-of-Physics.pdf), pp.35-44 (section 2.9, on deriving Bayes rule for updating probabilities)\n",
    "    - [David Blei - 2014 - Build, Compute, Critique, Repeat: Data Analysis with Latent Variable Models](https://github.com/bertdv/BMLIP/blob/master/lessons/notebooks/files/Blei-2014-Build-Compute-Critique-Repeat.pdf), on the _Build-Compute-Critique-Repeat_ design model."
   ]
  },
  {
   "cell_type": "markdown",
   "metadata": {
    "slideshow": {
     "slide_type": "slide"
    }
   },
   "source": [
    "### Challenge: Predicting a Coin Toss\n",
    "\n",
    "- **Problem**: We observe a the following sequence of heads (h) and tails (t) when tossing the same coin repeatedly $$D=\\{hthhtth\\}\\,.$$\n",
    "\n",
    "- What is the probability that heads comes up next?"
   ]
  },
  {
   "cell_type": "markdown",
   "metadata": {
    "slideshow": {
     "slide_type": "fragment"
    }
   },
   "source": [
    "- **Solution**: later in this lecture. "
   ]
  },
  {
   "cell_type": "markdown",
   "metadata": {
    "slideshow": {
     "slide_type": "slide"
    }
   },
   "source": [
    "### The Bayesian Machine Learning Framework\n",
    "\n",
    "- Suppose that your application is to predict a future observation $x$, based on $N$ past observations $D=\\{x_1,\\dotsc,x_N\\}$."
   ]
  },
  {
   "cell_type": "markdown",
   "metadata": {
    "slideshow": {
     "slide_type": "fragment"
    }
   },
   "source": [
    "- The Bayesian design approach to solving this task involves four (repeatable) stages: \n",
    "\n",
    "  1. Model specification\n",
    "  1. Parameter estimation (i.e., learning from an observed data set using Bayesian inference)\n",
    "  1. Apply the model (e.g., to a prediction or classification task)\n",
    "  1. Model evaluation (how well did we do?)\n",
    "  "
   ]
  },
  {
   "cell_type": "markdown",
   "metadata": {
    "slideshow": {
     "slide_type": "fragment"
    }
   },
   "source": [
    "- In principle, based on the model evaluation results, you may want to re-specify your model and _repeat_ the design process (a few times), until model performance is acceptable. "
   ]
  },
  {
   "cell_type": "markdown",
   "metadata": {
    "slideshow": {
     "slide_type": "fragment"
    }
   },
   "source": [
    "  \n",
    "- Next, we discuss these four stages in a bit more detail."
   ]
  },
  {
   "cell_type": "markdown",
   "metadata": {
    "slideshow": {
     "slide_type": "slide"
    }
   },
   "source": [
    "### (1) Model specification\n",
    "\n",
    "- Your first task is to propose a probabilistic model ($m$) for generating the observations $x$."
   ]
  },
  {
   "cell_type": "markdown",
   "metadata": {
    "slideshow": {
     "slide_type": "fragment"
    }
   },
   "source": [
    "- A probabilistic model $m$ consists of a joint distribution $p(x,\\theta|m)$ that relates observations $x$ to model parameters $\\theta$. Usually, the model is proposed in the form of a data generating  distribution $p(x|\\theta,m)$ and a prior $p(\\theta|m)$. "
   ]
  },
  {
   "cell_type": "markdown",
   "metadata": {
    "slideshow": {
     "slide_type": "fragment"
    }
   },
   "source": [
    "- _You_ are responsible to choose the data generating distribution $p(x|\\theta)$ based on your physical understanding of the data generating process. (For simplicity, we dropped the given dependency on $m$ from the notation).\n",
    " "
   ]
  },
  {
   "cell_type": "markdown",
   "metadata": {
    "slideshow": {
     "slide_type": "fragment"
    }
   },
   "source": [
    "- _You_ must also choose the prior $p(\\theta)$ to reflect what you know about the parameter values before you see the data $D$.\n",
    "  "
   ]
  },
  {
   "cell_type": "markdown",
   "metadata": {
    "slideshow": {
     "slide_type": "slide"
    }
   },
   "source": [
    "### (2) Parameter estimation\n",
    "\n",
    "- Note that, for a given data set $D=\\{x_1,x_2,\\dots,x_N\\}$ with _independent_ observations $x_n$, the likelihood is \n",
    "$$ p(D|\\theta) = \\prod_{n=1}^N p(x_n|\\theta)\\,,$$\n",
    "so usually you select a model for generating one observation $x_n$ and then use (in-)dependence assumptions to combine these models into a likelihood function for the model parameters."
   ]
  },
  {
   "cell_type": "markdown",
   "metadata": {
    "slideshow": {
     "slide_type": "fragment"
    }
   },
   "source": [
    "- The likelihood and prior both contain information about the model parameters. Next, you use Bayes rule to fuse these two information sources into a posterior distribution for the parameters,\n",
    "$$\n",
    "p(\\theta|D) = \\frac{p(D|\\theta) p(\\theta)}{p(D)} \\propto p(D|\\theta) p(\\theta)\n",
    "$$  "
   ]
  },
  {
   "cell_type": "markdown",
   "metadata": {
    "slideshow": {
     "slide_type": "fragment"
    }
   },
   "source": [
    "- Note that there's **no need for you to design some clever parameter estimation algorithm**. Bayes rule _is_ the parameter estimation algorithm. The only complexity lies in the computational issues! "
   ]
  },
  {
   "cell_type": "markdown",
   "metadata": {
    "slideshow": {
     "slide_type": "fragment"
    }
   },
   "source": [
    "- This \"recipe\" works only if the right-hand side (RHS) factors can be evaluated; the computational details can be quite challenging and this is what machine learning is about.     \n",
    "  \n",
    "- $\\Rightarrow$ **Machine learning is EASY, apart from computational details :)**\n",
    "  "
   ]
  },
  {
   "cell_type": "markdown",
   "metadata": {
    "slideshow": {
     "slide_type": "slide"
    }
   },
   "source": [
    "### (3) Prediction\n",
    "\n",
    "- Given the data $D$, our knowledge about the yet unobserved datum $x$ is captured by\n",
    "$$\\begin{align*}\n",
    "p(x|D) &\\stackrel{s}{=} \\int p(x,\\theta|D) \\,\\mathrm{d}\\theta\\\\\n",
    " &\\stackrel{p}{=} \\int p(x|\\theta,D) p(\\theta|D) \\,\\mathrm{d}\\theta\\\\\n",
    " &\\stackrel{m}{=} \\int \\underbrace{p(x|\\theta)}_{\\text{data generation dist.}} \\cdot \\underbrace{p(\\theta|D)}_{\\text{posterior}} \\,\\mathrm{d}\\theta\\\\\n",
    "\\end{align*}$$"
   ]
  },
  {
   "cell_type": "markdown",
   "metadata": {
    "slideshow": {
     "slide_type": "fragment"
    }
   },
   "source": [
    "- Again, **no need to invent a special prediction algorithm**. Probability theory takes care of all that. The complexity of prediction is just computational: how to carry out the marginalization over $\\theta$."
   ]
  },
  {
   "cell_type": "markdown",
   "metadata": {
    "slideshow": {
     "slide_type": "fragment"
    }
   },
   "source": [
    "- Note that the application of the learned posterior $p(\\theta|D)$ not necessarily has to be a prediction task. We use it here as an example, but other applications (e.g., classification, regression etc.) are of course also possible. \n",
    "  "
   ]
  },
  {
   "cell_type": "markdown",
   "metadata": {
    "slideshow": {
     "slide_type": "fragment"
    }
   },
   "source": [
    "- What did we learn from $D$? Without access to $D$, we would predict new observations through\n",
    "$$\n",
    "p(x) = \\int p(x,\\theta) \\,\\mathrm{d}\\theta = \\int p(x|\\theta) \\cdot \\underbrace{p(\\theta)}_{\\text{prior}} \\,\\mathrm{d}\\theta\n",
    "$$"
   ]
  },
  {
   "cell_type": "markdown",
   "metadata": {
    "slideshow": {
     "slide_type": "slide"
    }
   },
   "source": [
    "###  (4) Model Evaluation \n",
    "\n",
    "- In the framework above, both parameter estimation and the prediction task were executed by \"perfect\" Bayesian reasoning. So is everything settled now? "
   ]
  },
  {
   "cell_type": "markdown",
   "metadata": {
    "slideshow": {
     "slide_type": "fragment"
    }
   },
   "source": [
    "- No, there appears to be one remaining problem: how good really were our model assumptions $p(x|\\theta)$ and $p(\\theta)$? We want to \"score\" the model performance."
   ]
  },
  {
   "cell_type": "markdown",
   "metadata": {
    "slideshow": {
     "slide_type": "fragment"
    }
   },
   "source": [
    "- Note that this question is only interesting if we have alternative models to choose from. "
   ]
  },
  {
   "cell_type": "markdown",
   "metadata": {
    "slideshow": {
     "slide_type": "subslide"
    }
   },
   "source": [
    "- Let's assume that we have more candidate models, say $\\mathcal{M} = \\{m_1,\\ldots,m_K\\}$ where each model relates to specific prior $p(\\theta|m_k)$ and likelihood $p(D|\\theta,m_k)$? Can we evaluate the relative performance of a model against another model from the set?"
   ]
  },
  {
   "cell_type": "markdown",
   "metadata": {
    "slideshow": {
     "slide_type": "fragment"
    }
   },
   "source": [
    "- Start again with **model specification**. _You_ must now specify a prior $p(m_k)$ (next to the likelihood $p(D|\\theta,m_k)$ and prior $p(\\theta|m_k)$) for each of the models and then solve the desired inference problem:      \n",
    "$$\\begin{align*} \n",
    "\\underbrace{p(m_k|D)}_{\\substack{\\text{model}\\\\\\text{posterior}}} &= \\frac{p(D|m_k) p(m_k)}{p(D)} \\\\\n",
    "  &\\propto p(m_k) \\cdot p(D|m_k) \\\\\n",
    "  &= p(m_k)\\cdot \\int_\\theta p(D,\\theta|m_k) \\,\\mathrm{d}\\theta\\\\\n",
    "  &= \\underbrace{p(m_k)}_{\\substack{\\text{model}\\\\\\text{prior}}}\\cdot \\underbrace{\\int_\\theta \\underbrace{p(D|\\theta,m_k)}_{\\text{likelihood}} \\,\\underbrace{p(\\theta|m_k)}_{\\text{prior}}\\, \\mathrm{d}\\theta }_{\\substack{\\text{evidence }p(D|m_k)\\\\\\text{= model likelihood}}}\\\\\n",
    "\\end{align*}$$\n",
    "- This procedure is called **Bayesian model comparison**, which requires that you calculate the \"evidence\" (= model likelihood). "
   ]
  },
  {
   "cell_type": "markdown",
   "metadata": {
    "slideshow": {
     "slide_type": "subslide"
    }
   },
   "source": [
    "- $\\Rightarrow$ In a Bayesian framework, **model estimation** follows the same recipe as parameter estimation; it just works at one higher hierarchical level. Compare the required calulations:\n",
    "\n",
    "$$\\begin{align*}\n",
    "p(\\theta|D) &\\propto p(D|\\theta) p(\\theta) \\; &&\\text{(parameter estimation)} \\\\\n",
    "p(m_k|D) &\\propto p(D|m_k) p(m_k) \\; &&\\text{(model comparison)}\n",
    "\\end{align*}$$"
   ]
  },
  {
   "cell_type": "markdown",
   "metadata": {
    "slideshow": {
     "slide_type": "fragment"
    }
   },
   "source": [
    "- When you have a posterior $p(m_k|D)$ for the models, you don't need to choose one model for the prediction task. You can do prediction by **Bayesian model averaging** to utilitize the predictive power from all models:\n",
    "$$\\begin{align*}\n",
    "p(x|D) &= \\sum_k \\int p(x,\\theta,m_k|D)\\,\\mathrm{d}\\theta \\\\\n",
    " &= \\sum_k \\int  p(x|\\theta,m_k) \\,p(\\theta|m_k,D)\\, p(m_k|D) \\,\\mathrm{d}\\theta \\\\\n",
    "  &= \\sum_k \\underbrace{p(m_k|D)}_{\\substack{\\text{model}\\\\\\text{posterior}}} \\cdot \\int \\underbrace{p(\\theta|m_k,D)}_{\\substack{\\text{parameter}\\\\\\text{posterior}}} \\, \\underbrace{p(x|\\theta,m_k)}_{\\substack{\\text{data generating}\\\\\\text{distribution}}} \\,\\mathrm{d}\\theta\n",
    "\\end{align*}$$ "
   ]
  },
  {
   "cell_type": "markdown",
   "metadata": {
    "slideshow": {
     "slide_type": "subslide"
    }
   },
   "source": [
    "- If you need to work with one model (e.g. due to computational resource constraints), you can for instance select the model with largest posterior $p(m_k|D)$ and use that model for prediction. This is called **Bayesian model selection**."
   ]
  },
  {
   "cell_type": "markdown",
   "metadata": {
    "slideshow": {
     "slide_type": "fragment"
    }
   },
   "source": [
    "- In principle, you could proceed with asking how good your choice for the candidate model set $\\mathcal{M}$ was. You would have to provide a set of alternative model sets $\\{\\mathcal{M}_1,\\mathcal{M}_2,\\ldots,\\mathcal{M}_M\\}$ with priors $p(\\mathcal{M}_m)$ for each set and compute posteriors $p(\\mathcal{M}_m|D)$. And so forth ...  "
   ]
  },
  {
   "cell_type": "markdown",
   "metadata": {
    "slideshow": {
     "slide_type": "fragment"
    }
   },
   "source": [
    "- With the (relative) performance evaluation scores of your model in hand, you could now re-specify your model (hopefully an improved model) and _repeat_ the design process until the model performance score is acceptable. "
   ]
  },
  {
   "cell_type": "markdown",
   "metadata": {
    "slideshow": {
     "slide_type": "slide"
    }
   },
   "source": [
    "### Bayesian Machine Learning and the Scientific Method Revisited\n",
    "\n",
    "- The Bayesian design process provides a unified framework for the Scientific Inquiry method. (Trial design to be discussed in [Intelligent Agent lesson](https://nbviewer.jupyter.org/github/bertdv/BMLIP/blob/master/lessons/notebooks/Intelligent-Agents-and-Active-Inference.ipynb)). \n",
    "\n",
    "<img src=\"./figures/scientific-inquiry-loop-w-BML-eqs.png\" width=\"600px\">\n"
   ]
  },
  {
   "cell_type": "markdown",
   "metadata": {
    "slideshow": {
     "slide_type": "slide"
    }
   },
   "source": [
    "### Now Solve the Example Problem: Predicting a Coin Toss\n",
    "\n",
    "- We observe a the following sequence of heads ($h$) and tails ($t$) when tossing the same coin repeatedly $$D=\\{hthhtth\\}\\,.$$\n",
    "\n",
    "- What is the probability that heads comes up next? We solve this in the next slides ..."
   ]
  },
  {
   "cell_type": "markdown",
   "metadata": {
    "slideshow": {
     "slide_type": "slide"
    }
   },
   "source": [
    "### Coin toss example (1): Model Specification\n",
    "\n",
    "- We observe a sequence of $N$ coin tosses $D=\\{x_1,\\ldots,x_N\\}$ with $n$ heads. "
   ]
  },
  {
   "cell_type": "markdown",
   "metadata": {
    "slideshow": {
     "slide_type": "fragment"
    }
   },
   "source": [
    "- Let us denote outcomes by \n",
    "$$x_k = \\begin{cases} h & \\text{if heads comes up} \\\\\n",
    "  t & \\text{if tails} \\end{cases}\n",
    "  $$"
   ]
  },
  {
   "cell_type": "markdown",
   "metadata": {
    "slideshow": {
     "slide_type": "fragment"
    }
   },
   "source": [
    "##### Likelihood\n",
    "\n",
    "- Assume a [**Bernoulli** distributed](https://en.wikipedia.org/wiki/Bernoulli_distribution) variable $p(x_k=h|\\mu)=\\mu$, which leads to a [**binomial** distribution](https://en.wikipedia.org/wiki/Binomial_distribution) for the likelihood (assume $n$ times heads were thrown):\n",
    "$$   \n",
    "p(D|\\mu) = \\prod_{k=1}^N p(x_k|\\mu) = \\mu^n (1-\\mu)^{N-n}\n",
    "$$"
   ]
  },
  {
   "cell_type": "markdown",
   "metadata": {
    "slideshow": {
     "slide_type": "fragment"
    }
   },
   "source": [
    "##### <a id=\"beta-prior\">Prior</a>\n",
    "\n",
    "-  Assume the prior belief is governed by a [**beta distribution**](https://en.wikipedia.org/wiki/Beta_distribution)\n",
    "\n",
    "$$\n",
    "p(\\mu) = \\mathcal{B}(\\mu|\\alpha,\\beta) = \\frac{\\Gamma(\\alpha+\\beta)}{\\Gamma(\\alpha)\\Gamma(\\beta)} \\mu^{\\alpha-1}(1-\\mu)^{\\beta-1}\n",
    "$$\n",
    "<!---  - The Gamma function is sort of a generalized factorial function. If $\\alpha,\\beta$ are integers, then $\\frac{\\Gamma(\\alpha+\\beta)}{\\Gamma(\\alpha)(\\Gamma(\\beta)} = \\frac{(\\alpha+\\beta-1)!}{(\\alpha-1)!\\,(\\beta-1)!}$\n",
    "---> "
   ]
  },
  {
   "cell_type": "markdown",
   "metadata": {
    "slideshow": {
     "slide_type": "fragment"
    }
   },
   "source": [
    "- A _what_ distribution? Yes, the **beta distribution** is a **conjugate prior** for the binomial distribution, which means that \n",
    "$$\n",
    "\\underbrace{\\text{beta}}_{\\text{posterior}} \\propto \\underbrace{\\text{binomial}}_{\\text{likelihood}} \\times \\underbrace{\\text{beta}}_{\\text{prior}}\n",
    "$$\n",
    "so we get a closed-form posterior."
   ]
  },
  {
   "cell_type": "markdown",
   "metadata": {
    "slideshow": {
     "slide_type": "fragment"
    }
   },
   "source": [
    "- $\\alpha$ and $\\beta$ are called **hyperparameters**, since they parameterize the distribution for another parameter ($\\mu$). E.g., $\\alpha=\\beta=1$ (uniform).\n",
    "  "
   ]
  },
  {
   "cell_type": "markdown",
   "metadata": {
    "slideshow": {
     "slide_type": "subslide"
    }
   },
   "source": [
    "<img src=\"./figures/B-fig-2.2.png\" width=\"600px\">\n",
    "- (Bishop Fig.2.2). Plots of the beta distribution $\\mathcal{B}(μ|a, b)$ as a function of $μ$ for various values of the hyperparameters $a$ and $b$."
   ]
  },
  {
   "cell_type": "markdown",
   "metadata": {
    "slideshow": {
     "slide_type": "slide"
    }
   },
   "source": [
    "### Coin toss example (2): Parameter estimation\n",
    "\n",
    "- Infer posterior PDF over $\\mu$ through Bayes rule\n",
    "$$\\begin{align*}\n",
    "p(\\mu|D) &\\propto p(D|\\mu)\\,p(\\mu|\\alpha,\\beta)  \\\\ \n",
    "        &= \\mu^n (1-\\mu)^{N-n} \\times \\mu^{\\alpha-1} (1-\\mu)^{\\beta-1} \\\\\n",
    "        &= \\mu^{n+\\alpha-1} (1-\\mu)^{N-n+\\beta-1} \n",
    "\\end{align*}$$\n",
    "hence the posterior is also beta-distributed as\n",
    "\n",
    "$$\n",
    "p(\\mu|D) = \\mathcal{B}(\\mu|\\,n+\\alpha, N-n+\\beta)\n",
    "$$\n",
    "\n"
   ]
  },
  {
   "cell_type": "markdown",
   "metadata": {
    "slideshow": {
     "slide_type": "fragment"
    }
   },
   "source": [
    "- Essentially, **here ends the machine learning activity**."
   ]
  },
  {
   "cell_type": "markdown",
   "metadata": {
    "slideshow": {
     "slide_type": "slide"
    }
   },
   "source": [
    "### Coin Toss Example (3): Prediction\n",
    "\n",
    "- Next, we want to **apply** the trained model. Let's use it to predict future observations. "
   ]
  },
  {
   "cell_type": "markdown",
   "metadata": {
    "slideshow": {
     "slide_type": "fragment"
    }
   },
   "source": [
    "- Marginalize over the parameter posterior to get the predictive PDF for a new coin toss $x_\\bullet$, given the data $D$,\n",
    "\n",
    "$$\\begin{align*}\n",
    "p(x_\\bullet=h|D)  &= \\int_0^1 p(x_\\bullet=h|\\mu)\\,p(\\mu|D) \\,\\mathrm{d}\\mu \\\\\n",
    "  &= \\int_0^1 \\mu \\times  \\mathcal{B}(\\mu|\\,n+\\alpha, N-n+\\beta) \\,\\mathrm{d}\\mu  \\\\\n",
    "  &= \\frac{n+\\alpha}{N+\\alpha+\\beta}\n",
    "\\end{align*}$$\n",
    "\n",
    "- This result is known as [**Laplace's rule of succession**](https://en.wikipedia.org/wiki/Rule_of_succession)"
   ]
  },
  {
   "cell_type": "markdown",
   "metadata": {
    "slideshow": {
     "slide_type": "fragment"
    }
   },
   "source": [
    "- Finally, we're ready to solve our example problem: for $D=\\{hthhtth\\}$ and uniform prior ($\\alpha=\\beta=1$), we get\n",
    "\n",
    "$$ p(x_\\bullet=h|D)=\\frac{n+1}{N+2} = \\frac{4+1}{7+2} = \\frac{5}{9}$$\n",
    " "
   ]
  },
  {
   "cell_type": "markdown",
   "metadata": {
    "slideshow": {
     "slide_type": "slide"
    }
   },
   "source": [
    "### Coin Toss Example: What did we learn?\n",
    "\n",
    "- What did we learn from the data? Before seeing any data, we think that $$p(x_\\bullet=h)=\\left. p(x_\\bullet=h|D) \\right|_{n=N=0} = \\frac{\\alpha}{\\alpha + \\beta}\\,.$$ "
   ]
  },
  {
   "cell_type": "markdown",
   "metadata": {
    "slideshow": {
     "slide_type": "fragment"
    }
   },
   "source": [
    "- Hence, $\\alpha$ and $\\beta$ are prior pseudo-counts for heads and tails respectively. "
   ]
  },
  {
   "cell_type": "markdown",
   "metadata": {
    "slideshow": {
     "slide_type": "fragment"
    }
   },
   "source": [
    "- After the $N$ coin tosses, we think that $p(x_\\bullet=h|D) = \\frac{n+\\alpha}{N+\\alpha+\\beta}$."
   ]
  },
  {
   "cell_type": "markdown",
   "metadata": {
    "slideshow": {
     "slide_type": "subslide"
    }
   },
   "source": [
    "- Note the following decomposition\n",
    "\n",
    "$$\\begin{align*}\n",
    "    p(x_\\bullet=h|\\,D) &= \\frac{n+\\alpha}{N+\\alpha+\\beta} = \\frac{n}{N+\\alpha+\\beta} + \\frac{\\alpha}{N+\\alpha+\\beta} \\\\\n",
    "        &= \\frac{N}{N+\\alpha+\\beta}\\cdot \\frac{n}{N} + \\frac{\\alpha+\\beta}{N+\\alpha+\\beta} \\cdot \\frac{\\alpha}{\\alpha+\\beta} \\\\\n",
    "        &= \\underbrace{\\frac{\\alpha}{\\alpha+\\beta}}_{\\substack{\\text{prior}\\\\\\text{prediction}}} + \\underbrace{\\underbrace{\\frac{N}{N+\\alpha+\\beta}}_{\\text{gain}}\\cdot \\underbrace{\\big( \\underbrace{\\frac{n}{N}}_{\\substack{\\text{data-based}\\\\\\text{prediction}}} - \\underbrace{\\frac{\\alpha}{\\alpha+\\beta}}_{\\substack{\\text{prior}\\\\\\text{prediction}}} \\big)}_{\\text{\"sensory\" prediction error}}}_{\\text{correction}}\n",
    "\\end{align*}$$"
   ]
  },
  {
   "cell_type": "markdown",
   "metadata": {
    "slideshow": {
     "slide_type": "subslide"
    }
   },
   "source": [
    "- Note that, since $0\\leq \\underbrace{\\frac{N}{N+\\alpha+\\beta}}_{\\text{gain}} \\lt 1$, the Bayesian prediction lies between (fuses) the prior and data-based predictions. The data plays the role of \"correcting\" the prior prediction."
   ]
  },
  {
   "cell_type": "markdown",
   "metadata": {
    "slideshow": {
     "slide_type": "fragment"
    }
   },
   "source": [
    "- For large $N$, the gain goes to $1$ and $\\left. p(x_\\bullet=h|D)\\right|_{N\\rightarrow \\infty} \\rightarrow \\frac{n}{N}$ goes to the data-based prediction (the observed relative frequency)."
   ]
  },
  {
   "cell_type": "markdown",
   "metadata": {
    "slideshow": {
     "slide_type": "fragment"
    }
   },
   "source": [
    "- In principle, we can now continue with \"(4) Model appraisal\" where we compare the $\\texttt{bernoulli}+\\texttt{beta}$ model assumptions to alternative models. For simplicity, we will skip this stage here. "
   ]
  },
  {
   "cell_type": "markdown",
   "metadata": {
    "slideshow": {
     "slide_type": "slide"
    }
   },
   "source": [
    "#### CODE EXAMPLE\n",
    "\n",
    "**Bayesian evolution of $p(\\mu|D)$ for the coin toss**\n",
    "\n",
    "Let's see how $p(\\mu|D)$ evolves as we increase the number of coin tosses $N$. We'll use two different priors to demonstrate the effect of the prior on the posterior (set $N=0$ to inspect the prior)."
   ]
  },
  {
   "cell_type": "code",
   "execution_count": 1,
   "metadata": {
    "slideshow": {
     "slide_type": "subslide"
    }
   },
   "outputs": [
    {
     "name": "stdout",
     "output_type": "stream",
     "text": [
      "\u001b[32m\u001b[1mActivating\u001b[22m\u001b[39m environment at `~/github/bertdv/BMLIP/lessons/notebooks/probprog/workspace/Project.toml`\n"
     ]
    }
   ],
   "source": [
    "using Pkg; Pkg.activate(\"probprog/workspace\");Pkg.instantiate();"
   ]
  },
  {
   "cell_type": "code",
   "execution_count": 2,
   "metadata": {
    "slideshow": {
     "slide_type": "subslide"
    }
   },
   "outputs": [
    {
     "data": {
      "text/html": [
       "    <script class='js-collapse-script'>\n",
       "        var curMatch =\n",
       "            window.location.href\n",
       "            .match(/(.*?)\\/notebooks\\/.*\\.ipynb/);\n",
       "\n",
       "        curMatch = curMatch ||\n",
       "            window.location.href\n",
       "            .match(/(.*?)\\/apps\\/.*\\.ipynb/);\n",
       "\n",
       "        if ( curMatch ) {\n",
       "            $('head').append('<base href=\"' + curMatch[1] + '/\">');\n",
       "        }\n",
       "    </script>\n"
      ],
      "text/plain": [
       "HTML{String}(\"    <script class='js-collapse-script'>\\n        var curMatch =\\n            window.location.href\\n            .match(/(.*?)\\\\/notebooks\\\\/.*\\\\.ipynb/);\\n\\n        curMatch = curMatch ||\\n            window.location.href\\n            .match(/(.*?)\\\\/apps\\\\/.*\\\\.ipynb/);\\n\\n        if ( curMatch ) {\\n            \\$('head').append('<base href=\\\"' + curMatch[1] + '/\\\">');\\n        }\\n    </script>\\n\")"
      ]
     },
     "metadata": {},
     "output_type": "display_data"
    },
    {
     "data": {
      "text/html": [
       "<script class='js-collapse-script' src='/assetserver/dd91f3031364604158edbfeafbf7beddcd119b2c-assets/webio/dist/bundle.js'></script>"
      ],
      "text/plain": [
       "HTML{String}(\"<script class='js-collapse-script' src='/assetserver/dd91f3031364604158edbfeafbf7beddcd119b2c-assets/webio/dist/bundle.js'></script>\")"
      ]
     },
     "metadata": {},
     "output_type": "display_data"
    },
    {
     "data": {
      "text/html": [
       "<script class='js-collapse-script' src='/assetserver/dd91f3031364604158edbfeafbf7beddcd119b2c-assets/providers/ijulia_setup.js'></script>"
      ],
      "text/plain": [
       "HTML{String}(\"<script class='js-collapse-script' src='/assetserver/dd91f3031364604158edbfeafbf7beddcd119b2c-assets/providers/ijulia_setup.js'></script>\")"
      ]
     },
     "metadata": {},
     "output_type": "display_data"
    },
    {
     "data": {
      "text/html": [
       "  <script class='js-collapse-script'>\n",
       "    $('.js-collapse-script').parent('.output_subarea').css('padding', '0');\n",
       "  </script>\n"
      ],
      "text/plain": [
       "HTML{String}(\"  <script class='js-collapse-script'>\\n    \\$('.js-collapse-script').parent('.output_subarea').css('padding', '0');\\n  </script>\\n\")"
      ]
     },
     "metadata": {},
     "output_type": "display_data"
    },
    {
     "data": {
      "text/html": [
       "<div class='display:none'></div><unsafe-script style='display:none'>\n",
       "WebIO.mount(this.previousSibling,{&quot;props&quot;:{},&quot;nodeType&quot;:&quot;DOM&quot;,&quot;type&quot;:&quot;node&quot;,&quot;instanceArgs&quot;:{&quot;namespace&quot;:&quot;html&quot;,&quot;tag&quot;:&quot;div&quot;},&quot;children&quot;:[{&quot;props&quot;:{&quot;className&quot;:&quot;field interact-widget&quot;},&quot;nodeType&quot;:&quot;DOM&quot;,&quot;type&quot;:&quot;node&quot;,&quot;instanceArgs&quot;:{&quot;namespace&quot;:&quot;html&quot;,&quot;tag&quot;:&quot;div&quot;},&quot;children&quot;:[{&quot;props&quot;:{},&quot;nodeType&quot;:&quot;Scope&quot;,&quot;type&quot;:&quot;node&quot;,&quot;instanceArgs&quot;:{&quot;imports&quot;:{&quot;data&quot;:[{&quot;name&quot;:&quot;knockout&quot;,&quot;type&quot;:&quot;js&quot;,&quot;url&quot;:&quot;/assetserver/243ed4539bc47c8b13922390315e58452496dc42-knockout.js&quot;},{&quot;name&quot;:&quot;knockout_punches&quot;,&quot;type&quot;:&quot;js&quot;,&quot;url&quot;:&quot;/assetserver/ada3b8724db8b1830655d23d7c4bb783c308506a-knockout_punches.js&quot;},{&quot;name&quot;:null,&quot;type&quot;:&quot;js&quot;,&quot;url&quot;:&quot;/assetserver/c7413e4ebee4c05e590578d485665977c12291d0-all.js&quot;},{&quot;name&quot;:null,&quot;type&quot;:&quot;css&quot;,&quot;url&quot;:&quot;/assetserver/921df7af813895b8966b97e208f1dbefc3a11fcb-style.css&quot;},{&quot;name&quot;:null,&quot;type&quot;:&quot;css&quot;,&quot;url&quot;:&quot;/assetserver/0547b079f97deda40879eacdc85d3fa8d53b4c58-bulma_confined.min.css&quot;}],&quot;type&quot;:&quot;async_block&quot;},&quot;id&quot;:&quot;knockout-component-e2a80edd-5d6e-4aa0-a9e6-8e880fc2973b&quot;,&quot;handlers&quot;:{&quot;_promises&quot;:{&quot;importsLoaded&quot;:[function (ko, koPunches) {\n",
       "    ko.punches.enableAll();\n",
       "    ko.bindingHandlers.numericValue = {\n",
       "        init : function(element, valueAccessor, allBindings, data, context) {\n",
       "            var stringified = ko.observable(ko.unwrap(valueAccessor()));\n",
       "            stringified.subscribe(function(value) {\n",
       "                var val = parseFloat(value);\n",
       "                if (!isNaN(val)) {\n",
       "                    valueAccessor()(val);\n",
       "                }\n",
       "            })\n",
       "            valueAccessor().subscribe(function(value) {\n",
       "                var str = JSON.stringify(value);\n",
       "                if ((str == &quot;0&quot;) &amp;&amp; ([&quot;-0&quot;, &quot;-0.&quot;].indexOf(stringified()) &gt;= 0))\n",
       "                     return;\n",
       "                 if ([&quot;null&quot;, &quot;&quot;].indexOf(str) &gt;= 0)\n",
       "                     return;\n",
       "                stringified(str);\n",
       "            })\n",
       "            ko.applyBindingsToNode(element, { value: stringified, valueUpdate: allBindings.get(&#39;valueUpdate&#39;)}, context);\n",
       "        }\n",
       "    };\n",
       "    var json_data = {&quot;formatted_vals&quot;:[&quot;0&quot;,&quot;1&quot;,&quot;2&quot;,&quot;3&quot;,&quot;4&quot;,&quot;5&quot;,&quot;6&quot;,&quot;7&quot;,&quot;8&quot;,&quot;9&quot;,&quot;10&quot;,&quot;11&quot;,&quot;12&quot;,&quot;13&quot;,&quot;14&quot;,&quot;15&quot;,&quot;16&quot;,&quot;17&quot;,&quot;18&quot;,&quot;19&quot;,&quot;20&quot;,&quot;21&quot;,&quot;22&quot;,&quot;23&quot;,&quot;24&quot;,&quot;25&quot;,&quot;26&quot;,&quot;27&quot;,&quot;28&quot;,&quot;29&quot;,&quot;30&quot;,&quot;31&quot;,&quot;32&quot;,&quot;33&quot;,&quot;34&quot;,&quot;35&quot;,&quot;36&quot;,&quot;37&quot;,&quot;38&quot;,&quot;39&quot;,&quot;40&quot;,&quot;41&quot;,&quot;42&quot;,&quot;43&quot;,&quot;44&quot;,&quot;45&quot;,&quot;46&quot;,&quot;47&quot;,&quot;48&quot;,&quot;49&quot;,&quot;50&quot;,&quot;51&quot;,&quot;52&quot;,&quot;53&quot;,&quot;54&quot;,&quot;55&quot;,&quot;56&quot;,&quot;57&quot;,&quot;58&quot;,&quot;59&quot;,&quot;60&quot;,&quot;61&quot;,&quot;62&quot;,&quot;63&quot;,&quot;64&quot;,&quot;65&quot;,&quot;66&quot;,&quot;67&quot;,&quot;68&quot;,&quot;69&quot;,&quot;70&quot;,&quot;71&quot;,&quot;72&quot;,&quot;73&quot;,&quot;74&quot;,&quot;75&quot;,&quot;76&quot;,&quot;77&quot;,&quot;78&quot;,&quot;79&quot;,&quot;80&quot;,&quot;81&quot;,&quot;82&quot;,&quot;83&quot;,&quot;84&quot;,&quot;85&quot;,&quot;86&quot;,&quot;87&quot;,&quot;88&quot;,&quot;89&quot;,&quot;90&quot;,&quot;91&quot;,&quot;92&quot;,&quot;93&quot;,&quot;94&quot;,&quot;95&quot;,&quot;96&quot;,&quot;97&quot;,&quot;98&quot;,&quot;99&quot;,&quot;100&quot;,&quot;101&quot;,&quot;102&quot;,&quot;103&quot;,&quot;104&quot;,&quot;105&quot;,&quot;106&quot;,&quot;107&quot;,&quot;108&quot;,&quot;109&quot;,&quot;110&quot;,&quot;111&quot;,&quot;112&quot;,&quot;113&quot;,&quot;114&quot;,&quot;115&quot;,&quot;116&quot;,&quot;117&quot;,&quot;118&quot;,&quot;119&quot;,&quot;120&quot;,&quot;121&quot;,&quot;122&quot;,&quot;123&quot;,&quot;124&quot;,&quot;125&quot;,&quot;126&quot;,&quot;127&quot;,&quot;128&quot;,&quot;129&quot;,&quot;130&quot;,&quot;131&quot;,&quot;132&quot;,&quot;133&quot;,&quot;134&quot;,&quot;135&quot;,&quot;136&quot;,&quot;137&quot;,&quot;138&quot;,&quot;139&quot;,&quot;140&quot;,&quot;141&quot;,&quot;142&quot;,&quot;143&quot;,&quot;144&quot;,&quot;145&quot;,&quot;146&quot;,&quot;147&quot;,&quot;148&quot;,&quot;149&quot;,&quot;150&quot;,&quot;151&quot;,&quot;152&quot;,&quot;153&quot;,&quot;154&quot;,&quot;155&quot;,&quot;156&quot;,&quot;157&quot;,&quot;158&quot;,&quot;159&quot;,&quot;160&quot;,&quot;161&quot;,&quot;162&quot;,&quot;163&quot;,&quot;164&quot;,&quot;165&quot;,&quot;166&quot;,&quot;167&quot;,&quot;168&quot;,&quot;169&quot;,&quot;170&quot;,&quot;171&quot;,&quot;172&quot;,&quot;173&quot;,&quot;174&quot;,&quot;175&quot;,&quot;176&quot;,&quot;177&quot;,&quot;178&quot;,&quot;179&quot;,&quot;180&quot;,&quot;181&quot;,&quot;182&quot;,&quot;183&quot;,&quot;184&quot;,&quot;185&quot;,&quot;186&quot;,&quot;187&quot;,&quot;188&quot;,&quot;189&quot;,&quot;190&quot;,&quot;191&quot;,&quot;192&quot;],&quot;changes&quot;:WebIO.getval({&quot;name&quot;:&quot;changes&quot;,&quot;scope&quot;:&quot;knockout-component-e2a80edd-5d6e-4aa0-a9e6-8e880fc2973b&quot;,&quot;id&quot;:&quot;ob_03&quot;,&quot;type&quot;:&quot;observable&quot;}),&quot;index&quot;:WebIO.getval({&quot;name&quot;:&quot;index&quot;,&quot;scope&quot;:&quot;knockout-component-e2a80edd-5d6e-4aa0-a9e6-8e880fc2973b&quot;,&quot;id&quot;:&quot;ob_02&quot;,&quot;type&quot;:&quot;observable&quot;})};\n",
       "    var self = this;\n",
       "    function AppViewModel() {\n",
       "        for (var key in json_data) {\n",
       "            var el = json_data[key];\n",
       "            this[key] = Array.isArray(el) ? ko.observableArray(el) : ko.observable(el);\n",
       "        }\n",
       "        \n",
       "        [this[&quot;formatted_val&quot;]=ko.computed(    function(){\n",
       "        return this.formatted_vals()[parseInt(this.index())-(1)];\n",
       "    }\n",
       ",this)]\n",
       "        [this[&quot;changes&quot;].subscribe((function (val){!(this.valueFromJulia[&quot;changes&quot;]) ? (WebIO.setval({&quot;name&quot;:&quot;changes&quot;,&quot;scope&quot;:&quot;knockout-component-e2a80edd-5d6e-4aa0-a9e6-8e880fc2973b&quot;,&quot;id&quot;:&quot;ob_03&quot;,&quot;type&quot;:&quot;observable&quot;},val)) : undefined; return this.valueFromJulia[&quot;changes&quot;]=false}),self),this[&quot;index&quot;].subscribe((function (val){!(this.valueFromJulia[&quot;index&quot;]) ? (WebIO.setval({&quot;name&quot;:&quot;index&quot;,&quot;scope&quot;:&quot;knockout-component-e2a80edd-5d6e-4aa0-a9e6-8e880fc2973b&quot;,&quot;id&quot;:&quot;ob_02&quot;,&quot;type&quot;:&quot;observable&quot;},val)) : undefined; return this.valueFromJulia[&quot;index&quot;]=false}),self)]\n",
       "        \n",
       "    }\n",
       "    self.model = new AppViewModel();\n",
       "    self.valueFromJulia = {};\n",
       "    for (var key in json_data) {\n",
       "        self.valueFromJulia[key] = false;\n",
       "    }\n",
       "    ko.applyBindings(self.model, self.dom);\n",
       "}\n",
       "]},&quot;changes&quot;:[(function (val){return (val!=this.model[&quot;changes&quot;]()) ? (this.valueFromJulia[&quot;changes&quot;]=true, this.model[&quot;changes&quot;](val)) : undefined})],&quot;index&quot;:[(function (val){return (val!=this.model[&quot;index&quot;]()) ? (this.valueFromJulia[&quot;index&quot;]=true, this.model[&quot;index&quot;](val)) : undefined})]},&quot;systemjs_options&quot;:null,&quot;observables&quot;:{&quot;changes&quot;:{&quot;sync&quot;:false,&quot;id&quot;:&quot;ob_03&quot;,&quot;value&quot;:0},&quot;index&quot;:{&quot;sync&quot;:true,&quot;id&quot;:&quot;ob_02&quot;,&quot;value&quot;:97}}},&quot;children&quot;:[{&quot;props&quot;:{&quot;className&quot;:&quot;interact-flex-row interact-widget&quot;},&quot;nodeType&quot;:&quot;DOM&quot;,&quot;type&quot;:&quot;node&quot;,&quot;instanceArgs&quot;:{&quot;namespace&quot;:&quot;html&quot;,&quot;tag&quot;:&quot;div&quot;},&quot;children&quot;:[{&quot;props&quot;:{&quot;className&quot;:&quot;interact-flex-row-left&quot;},&quot;nodeType&quot;:&quot;DOM&quot;,&quot;type&quot;:&quot;node&quot;,&quot;instanceArgs&quot;:{&quot;namespace&quot;:&quot;html&quot;,&quot;tag&quot;:&quot;div&quot;},&quot;children&quot;:[{&quot;props&quot;:{&quot;className&quot;:&quot;interact &quot;,&quot;style&quot;:{&quot;padding&quot;:&quot;5px 10px 0px 10px&quot;}},&quot;nodeType&quot;:&quot;DOM&quot;,&quot;type&quot;:&quot;node&quot;,&quot;instanceArgs&quot;:{&quot;namespace&quot;:&quot;html&quot;,&quot;tag&quot;:&quot;label&quot;},&quot;children&quot;:[&quot;N&quot;]}]},{&quot;props&quot;:{&quot;className&quot;:&quot;interact-flex-row-center&quot;},&quot;nodeType&quot;:&quot;DOM&quot;,&quot;type&quot;:&quot;node&quot;,&quot;instanceArgs&quot;:{&quot;namespace&quot;:&quot;html&quot;,&quot;tag&quot;:&quot;div&quot;},&quot;children&quot;:[{&quot;props&quot;:{&quot;max&quot;:193,&quot;min&quot;:1,&quot;attributes&quot;:{&quot;type&quot;:&quot;range&quot;,&quot;data-bind&quot;:&quot;numericValue: index, valueUpdate: &#39;input&#39;, event: {change: function (){this.changes(this.changes()+1)}}&quot;,&quot;orient&quot;:&quot;horizontal&quot;},&quot;step&quot;:1,&quot;className&quot;:&quot;slider slider is-fullwidth&quot;,&quot;style&quot;:{}},&quot;nodeType&quot;:&quot;DOM&quot;,&quot;type&quot;:&quot;node&quot;,&quot;instanceArgs&quot;:{&quot;namespace&quot;:&quot;html&quot;,&quot;tag&quot;:&quot;input&quot;},&quot;children&quot;:[]}]},{&quot;props&quot;:{&quot;className&quot;:&quot;interact-flex-row-right&quot;},&quot;nodeType&quot;:&quot;DOM&quot;,&quot;type&quot;:&quot;node&quot;,&quot;instanceArgs&quot;:{&quot;namespace&quot;:&quot;html&quot;,&quot;tag&quot;:&quot;div&quot;},&quot;children&quot;:[{&quot;props&quot;:{&quot;attributes&quot;:{&quot;data-bind&quot;:&quot;text: formatted_val&quot;}},&quot;nodeType&quot;:&quot;DOM&quot;,&quot;type&quot;:&quot;node&quot;,&quot;instanceArgs&quot;:{&quot;namespace&quot;:&quot;html&quot;,&quot;tag&quot;:&quot;p&quot;},&quot;children&quot;:[]}]}]}]}]},{&quot;props&quot;:{},&quot;nodeType&quot;:&quot;Scope&quot;,&quot;type&quot;:&quot;node&quot;,&quot;instanceArgs&quot;:{&quot;imports&quot;:{&quot;data&quot;:[],&quot;type&quot;:&quot;async_block&quot;},&quot;id&quot;:&quot;scope-50fb9786-f322-4e4a-8c81-d9d534b772bc&quot;,&quot;handlers&quot;:{&quot;obs-output&quot;:[function (updated_htmlstr) {\n",
       "    var el = this.dom.querySelector(&quot;#out&quot;);\n",
       "    WebIO.propUtils.setInnerHtml(el, updated_htmlstr);\n",
       "}]},&quot;systemjs_options&quot;:null,&quot;observables&quot;:{&quot;obs-output&quot;:{&quot;sync&quot;:false,&quot;id&quot;:&quot;ob_07&quot;,&quot;value&quot;:&quot;&lt;div class=&#39;display:none&#39;&gt;&lt;/div&gt;&lt;unsafe-script style=&#39;display:none&#39;&gt;\\nWebIO.mount(this.previousSibling,{&amp;quot;props&amp;quot;:{&amp;quot;className&amp;quot;:&amp;quot;interact-flex-row interact-widget&amp;quot;},&amp;quot;nodeType&amp;quot;:&amp;quot;DOM&amp;quot;,&amp;quot;type&amp;quot;:&amp;quot;node&amp;quot;,&amp;quot;instanceArgs&amp;quot;:{&amp;quot;namespace&amp;quot;:&amp;quot;html&amp;quot;,&amp;quot;tag&amp;quot;:&amp;quot;div&amp;quot;},&amp;quot;children&amp;quot;:[{&amp;quot;props&amp;quot;:{&amp;quot;setInnerHtml&amp;quot;:&amp;quot;&amp;lt;img src=&amp;#39;data:image/png;base64,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&amp;#39;&amp;gt;&amp;lt;/img&amp;gt;&amp;quot;},&amp;quot;nodeType&amp;quot;:&amp;quot;DOM&amp;quot;,&amp;quot;type&amp;quot;:&amp;quot;node&amp;quot;,&amp;quot;instanceArgs&amp;quot;:{&amp;quot;namespace&amp;quot;:&amp;quot;html&amp;quot;,&amp;quot;tag&amp;quot;:&amp;quot;div&amp;quot;},&amp;quot;children&amp;quot;:[]}]})&lt;/unsafe-script&gt;&quot;}}},&quot;children&quot;:[{&quot;props&quot;:{&quot;id&quot;:&quot;out&quot;,&quot;setInnerHtml&quot;:&quot;&lt;div class=&#39;display:none&#39;&gt;&lt;/div&gt;&lt;unsafe-script style=&#39;display:none&#39;&gt;\\nWebIO.mount(this.previousSibling,{&amp;quot;props&amp;quot;:{&amp;quot;className&amp;quot;:&amp;quot;interact-flex-row interact-widget&amp;quot;},&amp;quot;nodeType&amp;quot;:&amp;quot;DOM&amp;quot;,&amp;quot;type&amp;quot;:&amp;quot;node&amp;quot;,&amp;quot;instanceArgs&amp;quot;:{&amp;quot;namespace&amp;quot;:&amp;quot;html&amp;quot;,&amp;quot;tag&amp;quot;:&amp;quot;div&amp;quot;},&amp;quot;children&amp;quot;:[{&amp;quot;props&amp;quot;:{&amp;quot;setInnerHtml&amp;quot;:&amp;quot;&amp;lt;img src=&amp;#39;data:image/png;base64,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&amp;#39;&amp;gt;&amp;lt;/img&amp;gt;&amp;quot;},&amp;quot;nodeType&amp;quot;:&amp;quot;DOM&amp;quot;,&amp;quot;type&amp;quot;:&amp;quot;node&amp;quot;,&amp;quot;instanceArgs&amp;quot;:{&amp;quot;namespace&amp;quot;:&amp;quot;html&amp;quot;,&amp;quot;tag&amp;quot;:&amp;quot;div&amp;quot;},&amp;quot;children&amp;quot;:[]}]})&lt;/unsafe-script&gt;&quot;},&quot;nodeType&quot;:&quot;DOM&quot;,&quot;type&quot;:&quot;node&quot;,&quot;instanceArgs&quot;:{&quot;namespace&quot;:&quot;html&quot;,&quot;tag&quot;:&quot;div&quot;},&quot;children&quot;:[]}]}]})</unsafe-script>"
      ],
      "text/plain": [
       "Node{WebIO.DOM}(WebIO.DOM(:html, :div), Any[Node{WebIO.DOM}(WebIO.DOM(:html, :div), Any[Scope(\"knockout-component-e2a80edd-5d6e-4aa0-a9e6-8e880fc2973b\", Node{WebIO.DOM}(WebIO.DOM(:html, :div), Any[Node{WebIO.DOM}(WebIO.DOM(:html, :div), Any[Node{WebIO.DOM}(WebIO.DOM(:html, :label), Any[\"N\"], Dict{Symbol,Any}(:className => \"interact \",:style => Dict{Any,Any}(:padding => \"5px 10px 0px 10px\")), 1)], Dict{Symbol,Any}(:className => \"interact-flex-row-left\"), 2), Node{WebIO.DOM}(WebIO.DOM(:html, :div), Any[Node{WebIO.DOM}(WebIO.DOM(:html, :input), Any[], Dict{Symbol,Any}(:max => 193,:min => 1,:attributes => Dict{Any,Any}(:type => \"range\",Symbol(\"data-bind\") => \"numericValue: index, valueUpdate: 'input', event: {change: function (){this.changes(this.changes()+1)}}\",\"orient\" => \"horizontal\"),:step => 1,:className => \"slider slider is-fullwidth\",:style => Dict{Any,Any}()), 0)], Dict{Symbol,Any}(:className => \"interact-flex-row-center\"), 1), Node{WebIO.DOM}(WebIO.DOM(:html, :div), Any[Node{WebIO.DOM}(WebIO.DOM(:html, :p), Any[], Dict{Symbol,Any}(:attributes => Dict(\"data-bind\" => \"text: formatted_val\")), 0)], Dict{Symbol,Any}(:className => \"interact-flex-row-right\"), 1)], Dict{Symbol,Any}(:className => \"interact-flex-row interact-widget\"), 7), Dict{String,Tuple{Observables.AbstractObservable,Union{Nothing, Bool}}}(\"changes\" => (Observable{Int64} with 1 listeners. Value:\n",
       "0, nothing),\"index\" => (Observable{Any} with 2 listeners. Value:\n",
       "97, nothing)), Set(String[]), nothing, Any[\"knockout\" => \"/Users/bert/.julia/packages/Knockout/JE2Yq/src/../assets/knockout.js\", \"knockout_punches\" => \"/Users/bert/.julia/packages/Knockout/JE2Yq/src/../assets/knockout_punches.js\", \"/Users/bert/.julia/packages/InteractBase/9mFwe/src/../assets/all.js\", \"/Users/bert/.julia/packages/InteractBase/9mFwe/src/../assets/style.css\", \"/Users/bert/.julia/packages/Interact/SbgIk/src/../assets/bulma_confined.min.css\"], Dict{Any,Any}(\"_promises\" => Dict{Any,Any}(\"importsLoaded\" => Any[WebIO.JSString(\"function (ko, koPunches) {\\n    ko.punches.enableAll();\\n    ko.bindingHandlers.numericValue = {\\n        init : function(element, valueAccessor, allBindings, data, context) {\\n            var stringified = ko.observable(ko.unwrap(valueAccessor()));\\n            stringified.subscribe(function(value) {\\n                var val = parseFloat(value);\\n                if (!isNaN(val)) {\\n                    valueAccessor()(val);\\n                }\\n            })\\n            valueAccessor().subscribe(function(value) {\\n                var str = JSON.stringify(value);\\n                if ((str == \\\"0\\\") && ([\\\"-0\\\", \\\"-0.\\\"].indexOf(stringified()) >= 0))\\n                     return;\\n                 if ([\\\"null\\\", \\\"\\\"].indexOf(str) >= 0)\\n                     return;\\n                stringified(str);\\n            })\\n            ko.applyBindingsToNode(element, { value: stringified, valueUpdate: allBindings.get('valueUpdate')}, context);\\n        }\\n    };\\n    var json_data = {\\\"formatted_vals\\\":[\\\"0\\\",\\\"1\\\",\\\"2\\\",\\\"3\\\",\\\"4\\\",\\\"5\\\",\\\"6\\\",\\\"7\\\",\\\"8\\\",\\\"9\\\",\\\"10\\\",\\\"11\\\",\\\"12\\\",\\\"13\\\",\\\"14\\\",\\\"15\\\",\\\"16\\\",\\\"17\\\",\\\"18\\\",\\\"19\\\",\\\"20\\\",\\\"21\\\",\\\"22\\\",\\\"23\\\",\\\"24\\\",\\\"25\\\",\\\"26\\\",\\\"27\\\",\\\"28\\\",\\\"29\\\",\\\"30\\\",\\\"31\\\",\\\"32\\\",\\\"33\\\",\\\"34\\\",\\\"35\\\",\\\"36\\\",\\\"37\\\",\\\"38\\\",\\\"39\\\",\\\"40\\\",\\\"41\\\",\\\"42\\\",\\\"43\\\",\\\"44\\\",\\\"45\\\",\\\"46\\\",\\\"47\\\",\\\"48\\\",\\\"49\\\",\\\"50\\\",\\\"51\\\",\\\"52\\\",\\\"53\\\",\\\"54\\\",\\\"55\\\",\\\"56\\\",\\\"57\\\",\\\"58\\\",\\\"59\\\",\\\"60\\\",\\\"61\\\",\\\"62\\\",\\\"63\\\",\\\"64\\\",\\\"65\\\",\\\"66\\\",\\\"67\\\",\\\"68\\\",\\\"69\\\",\\\"70\\\",\\\"71\\\",\\\"72\\\",\\\"73\\\",\\\"74\\\",\\\"75\\\",\\\"76\\\",\\\"77\\\",\\\"78\\\",\\\"79\\\",\\\"80\\\",\\\"81\\\",\\\"82\\\",\\\"83\\\",\\\"84\\\",\\\"85\\\",\\\"86\\\",\\\"87\\\",\\\"88\\\",\\\"89\\\",\\\"90\\\",\\\"91\\\",\\\"92\\\",\\\"93\\\",\\\"94\\\",\\\"95\\\",\\\"96\\\",\\\"97\\\",\\\"98\\\",\\\"99\\\",\\\"100\\\",\\\"101\\\",\\\"102\\\",\\\"103\\\",\\\"104\\\",\\\"105\\\",\\\"106\\\",\\\"107\\\",\\\"108\\\",\\\"109\\\",\\\"110\\\",\\\"111\\\",\\\"112\\\",\\\"113\\\",\\\"114\\\",\\\"115\\\",\\\"116\\\",\\\"117\\\",\\\"118\\\",\\\"119\\\",\\\"120\\\",\\\"121\\\",\\\"122\\\",\\\"123\\\",\\\"124\\\",\\\"125\\\",\\\"126\\\",\\\"127\\\",\\\"128\\\",\\\"129\\\",\\\"130\\\",\\\"131\\\",\\\"132\\\",\\\"133\\\",\\\"134\\\",\\\"135\\\",\\\"136\\\",\\\"137\\\",\\\"138\\\",\\\"139\\\",\\\"140\\\",\\\"141\\\",\\\"142\\\",\\\"143\\\",\\\"144\\\",\\\"145\\\",\\\"146\\\",\\\"147\\\",\\\"148\\\",\\\"149\\\",\\\"150\\\",\\\"151\\\",\\\"152\\\",\\\"153\\\",\\\"154\\\",\\\"155\\\",\\\"156\\\",\\\"157\\\",\\\"158\\\",\\\"159\\\",\\\"160\\\",\\\"161\\\",\\\"162\\\",\\\"163\\\",\\\"164\\\",\\\"165\\\",\\\"166\\\",\\\"167\\\",\\\"168\\\",\\\"169\\\",\\\"170\\\",\\\"171\\\",\\\"172\\\",\\\"173\\\",\\\"174\\\",\\\"175\\\",\\\"176\\\",\\\"177\\\",\\\"178\\\",\\\"179\\\",\\\"180\\\",\\\"181\\\",\\\"182\\\",\\\"183\\\",\\\"184\\\",\\\"185\\\",\\\"186\\\",\\\"187\\\",\\\"188\\\",\\\"189\\\",\\\"190\\\",\\\"191\\\",\\\"192\\\"],\\\"changes\\\":WebIO.getval({\\\"name\\\":\\\"changes\\\",\\\"scope\\\":\\\"knockout-component-e2a80edd-5d6e-4aa0-a9e6-8e880fc2973b\\\",\\\"id\\\":\\\"ob_03\\\",\\\"type\\\":\\\"observable\\\"}),\\\"index\\\":WebIO.getval({\\\"name\\\":\\\"index\\\",\\\"scope\\\":\\\"knockout-component-e2a80edd-5d6e-4aa0-a9e6-8e880fc2973b\\\",\\\"id\\\":\\\"ob_02\\\",\\\"type\\\":\\\"observable\\\"})};\\n    var self = this;\\n    function AppViewModel() {\\n        for (var key in json_data) {\\n            var el = json_data[key];\\n            this[key] = Array.isArray(el) ? ko.observableArray(el) : ko.observable(el);\\n        }\\n        \\n        [this[\\\"formatted_val\\\"]=ko.computed(    function(){\\n        return this.formatted_vals()[parseInt(this.index())-(1)];\\n    }\\n,this)]\\n        [this[\\\"changes\\\"].subscribe((function (val){!(this.valueFromJulia[\\\"changes\\\"]) ? (WebIO.setval({\\\"name\\\":\\\"changes\\\",\\\"scope\\\":\\\"knockout-component-e2a80edd-5d6e-4aa0-a9e6-8e880fc2973b\\\",\\\"id\\\":\\\"ob_03\\\",\\\"type\\\":\\\"observable\\\"},val)) : undefined; return this.valueFromJulia[\\\"changes\\\"]=false}),self),this[\\\"index\\\"].subscribe((function (val){!(this.valueFromJulia[\\\"index\\\"]) ? (WebIO.setval({\\\"name\\\":\\\"index\\\",\\\"scope\\\":\\\"knockout-component-e2a80edd-5d6e-4aa0-a9e6-8e880fc2973b\\\",\\\"id\\\":\\\"ob_02\\\",\\\"type\\\":\\\"observable\\\"},val)) : undefined; return this.valueFromJulia[\\\"index\\\"]=false}),self)]\\n        \\n    }\\n    self.model = new AppViewModel();\\n    self.valueFromJulia = {};\\n    for (var key in json_data) {\\n        self.valueFromJulia[key] = false;\\n    }\\n    ko.applyBindings(self.model, self.dom);\\n}\\n\")]),\"changes\" => Any[WebIO.JSString(\"(function (val){return (val!=this.model[\\\"changes\\\"]()) ? (this.valueFromJulia[\\\"changes\\\"]=true, this.model[\\\"changes\\\"](val)) : undefined})\")],\"index\" => Any[WebIO.JSString(\"(function (val){return (val!=this.model[\\\"index\\\"]()) ? (this.valueFromJulia[\\\"index\\\"]=true, this.model[\\\"index\\\"](val)) : undefined})\")]), WebIO.ConnectionPool(Channel{Any}(sz_max:9223372036854775807,sz_curr:2), Set(AbstractConnection[]), Channel{AbstractConnection}(sz_max:32,sz_curr:0)))], Dict{Symbol,Any}(:className => \"field interact-widget\"), 1), Observable{Any} with 0 listeners. Value:\n",
       "Node{WebIO.DOM}(WebIO.DOM(:html, :div), Any[Figure(PyObject <Figure size 640x480 with 1 Axes>)], Dict{Symbol,Any}(:className => \"interact-flex-row interact-widget\"), 1)], Dict{Symbol,Any}(), 2)"
      ]
     },
     "execution_count": 2,
     "metadata": {},
     "output_type": "execute_result"
    }
   ],
   "source": [
    "using Reactive, Interact, PyPlot, Distributions\n",
    "f = figure()\n",
    "range_grid = range(0.0, stop=1.0, length=100)\n",
    "μ = 0.4\n",
    "samples = rand(192) .<= μ # Flip 192 coins\n",
    "@manipulate for N=0:1:192; withfig(f) do\n",
    "        n = sum(samples[1:N]) # Count number of heads in first N flips\n",
    "        posterior1 = Beta(1+n, 1+(N-n))\n",
    "        posterior2 = Beta(5+n, 5+(N-n))\n",
    "        plot(range_grid, pdf.(posterior1,range_grid), \"k-\")\n",
    "        plot(range_grid, pdf.(posterior2,range_grid), \"k--\")\n",
    "        xlabel(L\"\\mu\"); ylabel(L\"p(\\mu|\\mathcal{D})\"); grid()\n",
    "        title(L\"p(\\mu|\\mathcal{D})\"*\" for N=$(N), n=$(n) (real \\$\\\\mu\\$=$(μ))\")\n",
    "        legend([\"Based on uniform prior \"*L\"B(1,1)\",\"Based on prior \"*L\"B(5,5)\"], loc=4)\n",
    "    end\n",
    "end"
   ]
  },
  {
   "cell_type": "markdown",
   "metadata": {
    "slideshow": {
     "slide_type": "fragment"
    }
   },
   "source": [
    "$\\Rightarrow$ With more data, the relevance of the prior diminishes!\n"
   ]
  },
  {
   "cell_type": "markdown",
   "metadata": {
    "slideshow": {
     "slide_type": "slide"
    }
   },
   "source": [
    "### From Posterior to Point-Estimate\n",
    "\n",
    "- In the example above, Bayesian parameter estimation and prediction were tractable in closed-form. This is often not the case. We will need to approximate some of the computations. \n"
   ]
  },
  {
   "cell_type": "markdown",
   "metadata": {
    "slideshow": {
     "slide_type": "fragment"
    }
   },
   "source": [
    "- Recall Bayesian prediction\n",
    "\n",
    "$$\n",
    "p(x|D) = \\int p(x|\\theta)p(\\theta|D)\\,\\mathrm{d}{\\theta}\n",
    "$$"
   ]
  },
  {
   "cell_type": "markdown",
   "metadata": {
    "slideshow": {
     "slide_type": "fragment"
    }
   },
   "source": [
    "- If we approximate posterior $p(\\theta|D)$ by a delta function for one 'best' value $\\hat\\theta$, then the predictive distribution collapses to\n",
    "\n",
    "$$\n",
    "p(x|D)= \\int p(x|\\theta)\\,\\delta(\\theta-\\hat\\theta)\\,\\mathrm{d}{\\theta} = p(x|\\hat\\theta)\n",
    "$$"
   ]
  },
  {
   "cell_type": "markdown",
   "metadata": {
    "slideshow": {
     "slide_type": "fragment"
    }
   },
   "source": [
    "- This is just the data generating distribution $p(x|\\theta)$ evaluated at $\\theta=\\hat\\theta$, which is easy to evaluate.\n"
   ]
  },
  {
   "cell_type": "markdown",
   "metadata": {
    "slideshow": {
     "slide_type": "fragment"
    }
   },
   "source": [
    "- The next question is how to get the parameter estimate $\\hat{\\theta}$? (See next slide)."
   ]
  },
  {
   "cell_type": "markdown",
   "metadata": {
    "slideshow": {
     "slide_type": "subslide"
    }
   },
   "source": [
    "### Some Well-known Point-Estimates\n",
    "\n",
    "- **Bayes estimate** (the mean of the posterior)\n",
    "\n",
    "$$\n",
    "\\hat \\theta_{bayes}  = \\int \\theta \\, p\\left( \\theta |D \\right)\n",
    "\\,\\mathrm{d}{\\theta}\n",
    "$$\n",
    " "
   ]
  },
  {
   "cell_type": "markdown",
   "metadata": {
    "slideshow": {
     "slide_type": "fragment"
    }
   },
   "source": [
    "- **Maximum A Posteriori** (MAP) estimate \n",
    "$$\n",
    "\\hat \\theta_{\\text{map}}=  \\arg\\max _{\\theta} p\\left( \\theta |D \\right) =\n",
    "\\arg \\max_{\\theta}  p\\left(D |\\theta \\right) \\, p\\left(\\theta \\right)\n",
    "$$"
   ]
  },
  {
   "cell_type": "markdown",
   "metadata": {
    "slideshow": {
     "slide_type": "fragment"
    }
   },
   "source": [
    "- **Maximum Likelihood** (ML) estimate\n",
    "$$\n",
    "\\hat \\theta_{ml}  = \\arg \\max_{\\theta}  p\\left(D |\\theta\\right)\n",
    "$$\n",
    "  - Note that Maximum Likelihood is MAP with uniform prior\n",
    "  - ML is the most common approximation to the full Bayesian posterior."
   ]
  },
  {
   "cell_type": "markdown",
   "metadata": {
    "slideshow": {
     "slide_type": "slide"
    }
   },
   "source": [
    "### Bayesian vs Maximum Likelihood Learning\n",
    "\n",
    "Consider the task: predict a datum $x$ from an observed data set $D$.\n",
    "\n",
    "<table>\n",
    "<tr><td></td><td style=\"text-align:center\"> <b>Bayesian</b></td><td style=\"text-align:center\"> <b>Maximum Likelihood </b></td></tr>\n",
    "<tr><td>1. <b>Model Specification</b></td><td>Choose a model $m$ with data generating distribution $p(x|\\theta,m)$ and parameter prior $p(\\theta|m)$</td><td>Choose a model $m$ with same data generating distribution $p(x|\\theta,m)$. No need for priors.</td></tr>\n",
    "<tr><td>2. <b>Learning</b></td><td>use Bayes rule to find the parameter posterior,\n",
    "$$\n",
    "p(\\theta|D) = \\propto p(D|\\theta) p(\\theta)\n",
    "$$  </td><td>By Maximum Likelihood (ML) optimization,\n",
    "$$ \n",
    "    \\hat \\theta  = \\arg \\max_{\\theta}  p(D |\\theta)\n",
    "$$</td></tr>\n",
    "<tr><td>3. <b>Prediction</b></td><td>$$\n",
    "p(x|D) = \\int p(x|\\theta) p(\\theta|D) \\,\\mathrm{d}\\theta\n",
    "$$</td><td>\n",
    "$$ \n",
    "    p(x|D) =  p(x|\\hat\\theta)\n",
    "$$</td></tr>\n",
    "</table>"
   ]
  },
  {
   "cell_type": "markdown",
   "metadata": {
    "slideshow": {
     "slide_type": "slide"
    }
   },
   "source": [
    "### Report Card on Maximum Likelihood Estimation\n",
    "\n",
    "- Maximum Likelihood (ML) is MAP with uniform prior. MAP is sometimes called a 'penalized' ML procedure:\n",
    "\n",
    "$$\n",
    "\\hat \\theta_{map}  = \\arg \\max _\\theta  \\{ \\underbrace{\\log\n",
    "p\\left( D|\\theta  \\right)}_{\\text{log-likelihood}} + \\underbrace{\\log\n",
    "p\\left( \\theta \\right)}_{\\text{penalty}} \\}\n",
    "$$"
   ]
  },
  {
   "cell_type": "markdown",
   "metadata": {
    "slideshow": {
     "slide_type": "fragment"
    }
   },
   "source": [
    "- (good!). ML works rather well if we have a lot of data because the influence of the prior diminishes with more data."
   ]
  },
  {
   "cell_type": "markdown",
   "metadata": {
    "slideshow": {
     "slide_type": "fragment"
    }
   },
   "source": [
    "- (good!). Computationally often do-able. Useful fact that makes the optimization easier (since $\\log$ is monotonously increasing):\n",
    "\n",
    "$$\\arg\\max_\\theta \\log p(D|\\theta) =  \\arg\\max_\\theta p(D|\\theta)$$"
   ]
  },
  {
   "cell_type": "markdown",
   "metadata": {
    "slideshow": {
     "slide_type": "fragment"
    }
   },
   "source": [
    "- (bad). Cannot be used for model comparison! The evidence for a model does not exist in the case of ML approximation:\n",
    "\n",
    "$$\\begin{align*}\n",
    "p(D|m) &= \\int p(D|\\theta) \\cdot p(\\theta|m)\\,\\mathrm{d}\\theta \\\\\n",
    "  &= \\int \\underbrace{\\delta(\\theta-\\hat{\\theta}_{ML})}_{\\substack{\\text{max.llh}\\\\\\text{approximation}}} \\cdot \\underbrace{\\text{Uniform}(\\theta)}_{\\text{improper distribution}}\\mathrm{d}\\theta \\\\\n",
    "  &= \\text{not computable}\n",
    "\\end{align*}$$"
   ]
  },
  {
   "cell_type": "markdown",
   "metadata": {
    "slideshow": {
     "slide_type": "fragment"
    }
   },
   "source": [
    "$\\Rightarrow$ **ML estimation is an approximation to Bayesian learning**, but for good reason a very popular learning method when faced with lots of available data."
   ]
  },
  {
   "cell_type": "code",
   "execution_count": 2,
   "metadata": {
    "slideshow": {
     "slide_type": "skip"
    }
   },
   "outputs": [
    {
     "data": {
      "text/html": [
       "<!--\n",
       "This HTML file contains custom styles and some javascript.\n",
       "Include it a Jupyter notebook for improved rendering.\n",
       "-->\n",
       "\n",
       "<!-- Fonts -->\n",
       "<link href='http://fonts.googleapis.com/css?family=Alegreya+Sans:100,300,400,500,700,800,900,100italic,300italic,400italic,500italic,700italic,800italic,900italic' rel='stylesheet' type='text/css'>\n",
       "<link href='http://fonts.googleapis.com/css?family=Arvo:400,700,400italic' rel='stylesheet' type='text/css'>\n",
       "<link href='http://fonts.googleapis.com/css?family=PT+Mono' rel='stylesheet' type='text/css'>\n",
       "<link href='http://fonts.googleapis.com/css?family=Shadows+Into+Light' rel='stylesheet' type='text/css'>\n",
       "<link href='http://fonts.googleapis.com/css?family=Nixie+One' rel='stylesheet' type='text/css'>\n",
       "\n",
       "<!-- Custom style -->\n",
       "<style>\n",
       "\n",
       "@font-face {\n",
       "    font-family: \"Computer Modern\";\n",
       "    src: url('http://mirrors.ctan.org/fonts/cm-unicode/fonts/otf/cmunss.otf');\n",
       "}\n",
       "\n",
       "#notebook_panel { /* main background */\n",
       "    background: rgb(245,245,245);\n",
       "}\n",
       "\n",
       "div.container {\n",
       "    min-width: 960px;\n",
       "}\n",
       "\n",
       "div #notebook { /* centre the content */\n",
       "    background: #fff; /* white background for content */\n",
       "    margin: auto;\n",
       "    padding-left: 0em;\n",
       "}\n",
       "\n",
       "#notebook li { /* More space between bullet points */\n",
       "    margin-top:0.8em;\n",
       "}\n",
       "\n",
       "/* draw border around running cells */\n",
       "div.cell.border-box-sizing.code_cell.running {\n",
       "    border: 1px solid #111;\n",
       "}\n",
       "\n",
       "/* Put a solid color box around each cell and its output, visually linking them*/\n",
       "div.cell.code_cell {\n",
       "    background-color: rgb(256,256,256);\n",
       "    border-radius: 0px;\n",
       "    padding: 0.5em;\n",
       "    margin-left:1em;\n",
       "    margin-top: 1em;\n",
       "}\n",
       "\n",
       "div.text_cell_render{\n",
       "    font-family: 'Alegreya Sans' sans-serif;\n",
       "    line-height: 140%;\n",
       "    font-size: 125%;\n",
       "    font-weight: 400;\n",
       "    width:800px;\n",
       "    margin-left:auto;\n",
       "    margin-right:auto;\n",
       "}\n",
       "\n",
       "\n",
       "/* Formatting for header cells */\n",
       ".text_cell_render h1 {\n",
       "    font-family: 'Nixie One', serif;\n",
       "    font-style:regular;\n",
       "    font-weight: 400;\n",
       "    font-size: 45pt;\n",
       "    line-height: 100%;\n",
       "    color: rgb(0,51,102);\n",
       "    margin-bottom: 0.5em;\n",
       "    margin-top: 0.5em;\n",
       "    display: block;\n",
       "}\n",
       "\n",
       ".text_cell_render h2 {\n",
       "    font-family: 'Nixie One', serif;\n",
       "    font-weight: 400;\n",
       "    font-size: 30pt;\n",
       "    line-height: 100%;\n",
       "    color: rgb(0,51,102);\n",
       "    margin-bottom: 0.1em;\n",
       "    margin-top: 0.3em;\n",
       "    display: block;\n",
       "}\n",
       "\n",
       ".text_cell_render h3 {\n",
       "    font-family: 'Nixie One', serif;\n",
       "    margin-top:16px;\n",
       "    font-size: 22pt;\n",
       "    font-weight: 600;\n",
       "    margin-bottom: 3px;\n",
       "    font-style: regular;\n",
       "    color: rgb(102,102,0);\n",
       "}\n",
       "\n",
       ".text_cell_render h4 {    /*Use this for captions*/\n",
       "    font-family: 'Nixie One', serif;\n",
       "    font-size: 14pt;\n",
       "    text-align: center;\n",
       "    margin-top: 0em;\n",
       "    margin-bottom: 2em;\n",
       "    font-style: regular;\n",
       "}\n",
       "\n",
       ".text_cell_render h5 {  /*Use this for small titles*/\n",
       "    font-family: 'Nixie One', sans-serif;\n",
       "    font-weight: 400;\n",
       "    font-size: 16pt;\n",
       "    color: rgb(163,0,0);\n",
       "    font-style: italic;\n",
       "    margin-bottom: .1em;\n",
       "    margin-top: 0.8em;\n",
       "    display: block;\n",
       "}\n",
       "\n",
       ".text_cell_render h6 { /*use this for copyright note*/\n",
       "    font-family: 'PT Mono', sans-serif;\n",
       "    font-weight: 300;\n",
       "    font-size: 9pt;\n",
       "    line-height: 100%;\n",
       "    color: grey;\n",
       "    margin-bottom: 1px;\n",
       "    margin-top: 1px;\n",
       "}\n",
       "\n",
       ".CodeMirror{\n",
       "    font-family: \"PT Mono\";\n",
       "    font-size: 90%;\n",
       "}\n",
       "\n",
       ".boxed { /* draw a border around a piece of text */\n",
       "  border: 1px solid blue ;\n",
       "}\n",
       "\n",
       "h4#CODE-EXAMPLE,\n",
       "h4#END-OF-CODE-EXAMPLE {\n",
       "    margin: 10px 0;\n",
       "    padding: 10px;\n",
       "    background-color: #d0f9ca !important;\n",
       "    border-top: #849f81 1px solid;\n",
       "    border-bottom: #849f81 1px solid;\n",
       "}\n",
       "\n",
       ".emphasis {\n",
       "    color: red;\n",
       "}\n",
       "\n",
       ".exercise {\n",
       "    color: green;\n",
       "}\n",
       "\n",
       ".proof {\n",
       "    color: blue;\n",
       "}\n",
       "\n",
       "code {\n",
       "  padding: 2px 4px !important;\n",
       "  font-size: 90% !important;\n",
       "  color: #222 !important;\n",
       "  background-color: #efefef !important;\n",
       "  border-radius: 2px !important;\n",
       "}\n",
       "\n",
       "/* This removes the actual style cells from the notebooks, but no in print mode\n",
       "   as they will be removed through some other method */\n",
       "@media not print {\n",
       "  .cell:nth-last-child(-n+2) {\n",
       "    display: none;\n",
       "  }\n",
       "}\n",
       "\n",
       "footer.hidden-print {\n",
       "    display: none !important;\n",
       "}\n",
       "    \n",
       "</style>\n",
       "\n",
       "<!-- MathJax styling -->\n",
       "<script>\n",
       "    MathJax.Hub.Config({\n",
       "                        TeX: {\n",
       "                           extensions: [\"AMSmath.js\"],\n",
       "                           equationNumbers: { autoNumber: \"AMS\", useLabelIds: true}\n",
       "                           },\n",
       "                tex2jax: {\n",
       "                    inlineMath: [ ['$','$'], [\"\\\\(\",\"\\\\)\"] ],\n",
       "                    displayMath: [ ['$$','$$'], [\"\\\\[\",\"\\\\]\"] ]\n",
       "                },\n",
       "                displayAlign: 'center', // Change this to 'center' to center equations.\n",
       "                \"HTML-CSS\": {\n",
       "                    styles: {'.MathJax_Display': {\"margin\": 4}}\n",
       "                }\n",
       "        });\n",
       "</script>\n"
      ]
     },
     "metadata": {},
     "output_type": "display_data"
    }
   ],
   "source": [
    "open(\"../../styles/aipstyle.html\") do f display(\"text/html\", read(f, String)) end"
   ]
  },
  {
   "cell_type": "code",
   "execution_count": null,
   "metadata": {},
   "outputs": [],
   "source": []
  }
 ],
 "metadata": {
  "@webio": {
   "lastCommId": "de86b317f5f242f6b7e7d652e0003eed",
   "lastKernelId": "a9486e91-3833-4282-b01e-35ee1a5937d4"
  },
  "anaconda-cloud": {},
  "celltoolbar": "Slideshow",
  "kernelspec": {
   "display_name": "Julia 1.3.1",
   "language": "julia",
   "name": "julia-1.3"
  },
  "language_info": {
   "file_extension": ".jl",
   "mimetype": "application/julia",
   "name": "julia",
   "version": "1.3.1"
  }
 },
 "nbformat": 4,
 "nbformat_minor": 1
}
