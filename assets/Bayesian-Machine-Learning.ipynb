{
 "cells": [
  {
   "cell_type": "markdown",
   "metadata": {
    "slideshow": {
     "slide_type": "slide"
    }
   },
   "source": [
    "# Bayesian Machine Learning"
   ]
  },
  {
   "cell_type": "markdown",
   "metadata": {
    "slideshow": {
     "slide_type": "slide"
    }
   },
   "source": [
    "### Preliminaries\n",
    "\n",
    "- Goals\n",
    "  - Introduction to Bayesian (i.e., probabilistic) modeling\n",
    "- Materials\n",
    "  - Mandatory\n",
    "    - These lecture notes\n",
    "  - Optional\n",
    "    - Bishop pp. 21-24   "
   ]
  },
  {
   "cell_type": "markdown",
   "metadata": {
    "slideshow": {
     "slide_type": "slide"
    }
   },
   "source": [
    "### Example Problem: Predicting a Coin Toss\n",
    "\n",
    "- **Question**. We observe a the following sequence of heads (h) and tails (t) when tossing the same coin repeatedly $$D=\\{hthhtth\\}\\,.$$\n",
    "\n",
    "- What is the probability that heads (h) comes up next?"
   ]
  },
  {
   "cell_type": "markdown",
   "metadata": {
    "slideshow": {
     "slide_type": "fragment"
    }
   },
   "source": [
    "- **Answer** later in this lecture. "
   ]
  },
  {
   "cell_type": "markdown",
   "metadata": {
    "slideshow": {
     "slide_type": "slide"
    }
   },
   "source": [
    "### The Bayesian Machine Learning Framework\n",
    "\n",
    "- Suppose that your task is to predict a future observation $x$, based on $N$ past observations $D=\\{x_1,\\dotsc,x_N\\}$."
   ]
  },
  {
   "cell_type": "markdown",
   "metadata": {
    "slideshow": {
     "slide_type": "fragment"
    }
   },
   "source": [
    "- The Bayesian approach for this task involves three stages: \n",
    "  1. Model specification\n",
    "  1. Parameter estimation (i.e., learning from observed data; using Bayesian inference)\n",
    "  1. Prediction (apply the model)"
   ]
  },
  {
   "cell_type": "markdown",
   "metadata": {
    "slideshow": {
     "slide_type": "fragment"
    }
   },
   "source": [
    "  \n",
    "- Next, we discuss these three stages in a bit more detail."
   ]
  },
  {
   "cell_type": "markdown",
   "metadata": {
    "slideshow": {
     "slide_type": "slide"
    }
   },
   "source": [
    "### (1) Model specification\n",
    "\n",
    "Your first task is to propose a model with tuning parameters $\\theta$ for generating the observations $x$."
   ]
  },
  {
   "cell_type": "markdown",
   "metadata": {
    "slideshow": {
     "slide_type": "fragment"
    }
   },
   "source": [
    "- This involves specification of $p(x|\\theta)$ and a prior for the parameters $p(\\theta)$."
   ]
  },
  {
   "cell_type": "markdown",
   "metadata": {
    "slideshow": {
     "slide_type": "fragment"
    }
   },
   "source": [
    "- _You_ choose the distribution $p(x|\\theta)$ based on your physical understanding of the data generating process.\n",
    "- Note that, for a given data set $D=\\{x_1,x_2,\\dots,x_N\\}$ with independent observations $x_n$,\n",
    "$$ p(D|\\theta) = \\prod_{n=1}^N p(x_n|\\theta)$$\n",
    "so usually you select a model for generating one observation $x_n$ and then use (in-)dependence assumptions to combine these models into a model for your observed data set $D$. "
   ]
  },
  {
   "cell_type": "markdown",
   "metadata": {
    "slideshow": {
     "slide_type": "fragment"
    }
   },
   "source": [
    "- _You_ choose the prior $p(\\theta)$ to reflect what you know about the parameter values before you see the data $D$.\n",
    "  "
   ]
  },
  {
   "cell_type": "markdown",
   "metadata": {
    "slideshow": {
     "slide_type": "slide"
    }
   },
   "source": [
    "### (2) Parameter estimation\n",
    "\n",
    "- After model specification, you need to measure/collect a data set $D$. Then, use Bayes rule to find the posterior distribution for the parameters,\n",
    "$$\n",
    "p(\\theta|D) = \\frac{p(D|\\theta) p(\\theta)}{p(D)} \\propto p(D|\\theta) p(\\theta)\n",
    "$$  \n",
    "  - The denominator is only a normalization factor."
   ]
  },
  {
   "cell_type": "markdown",
   "metadata": {
    "slideshow": {
     "slide_type": "fragment"
    }
   },
   "source": [
    "- Note that there's **no need for you to design a _smart_ parameter estimation algorithm**. The only complexity lies in the computational issues.  "
   ]
  },
  {
   "cell_type": "markdown",
   "metadata": {
    "slideshow": {
     "slide_type": "fragment"
    }
   },
   "source": [
    "- This \"recipe\" works only if the RHS factors can be evaluated; this is what machine learning is about     \n",
    "  $\\Rightarrow$ **Machine learning is EASY, apart from computational details :) **\n",
    "  "
   ]
  },
  {
   "cell_type": "markdown",
   "metadata": {
    "slideshow": {
     "slide_type": "slide"
    }
   },
   "source": [
    "### (3) Prediction\n",
    "\n",
    "- Given the data $D$, our knowledge about the yet unobserved datum $x$ is captured by\n",
    "$$\\begin{align*}\n",
    "p(x|D) &= \\int p(x,\\theta|D) \\,\\mathrm{d}\\theta\\\\\n",
    " &= \\int p(x|\\theta,D) p(\\theta|D) \\,\\mathrm{d}\\theta\\\\\n",
    " &= \\int p(x|\\theta) p(\\theta|D) \\,\\mathrm{d}\\theta\\\\\n",
    "\\end{align*}$$"
   ]
  },
  {
   "cell_type": "markdown",
   "metadata": {
    "slideshow": {
     "slide_type": "fragment"
    }
   },
   "source": [
    "- Again, **no need to invent a special prediction algorithm**. Probability theory takes care of all that. The complexity of prediction is just computational: how to carry out the marginalization over $\\theta$."
   ]
  },
  {
   "cell_type": "markdown",
   "metadata": {
    "slideshow": {
     "slide_type": "fragment"
    }
   },
   "source": [
    "- In order to execute prediction, you need to have access to the factors $p(x|\\theta)$ and $p(\\theta|D)$. Where do these factors come from? Are they available?\n",
    "  "
   ]
  },
  {
   "cell_type": "markdown",
   "metadata": {
    "slideshow": {
     "slide_type": "fragment"
    }
   },
   "source": [
    "- What did we learn from $D$? Without access to $D$, we would predict new observations through\n",
    "$$\n",
    "p(x) = \\int p(x,\\theta) \\,\\mathrm{d}\\theta = \\int p(x|\\theta) p(\\theta) \\,\\mathrm{d}\\theta\n",
    "$$"
   ]
  },
  {
   "cell_type": "markdown",
   "metadata": {
    "slideshow": {
     "slide_type": "fragment"
    }
   },
   "source": [
    "- NB The application of the learned posterior $p(\\theta|D)$ not necessarily has to be prediction. We use it here as an example, but other applications are of course also possible. \n",
    "  "
   ]
  },
  {
   "cell_type": "markdown",
   "metadata": {
    "slideshow": {
     "slide_type": "slide"
    }
   },
   "source": [
    "###  Bayesian Model Comparison \n",
    "\n",
    "- There appears to be a remaining problem: How good really were our model assumptions $p(x|\\theta)$ and $p(\\theta)$?  "
   ]
  },
  {
   "cell_type": "markdown",
   "metadata": {
    "slideshow": {
     "slide_type": "fragment"
    }
   },
   "source": [
    "- Technically, this is a **model comparison** problem"
   ]
  },
  {
   "cell_type": "markdown",
   "metadata": {
    "slideshow": {
     "slide_type": "fragment"
    }
   },
   "source": [
    "- [**Q**.] What if I have more candidate models, say $\\mathcal{M} = \\{m_1,\\ldots,m_K\\}$ where each model relates to specific prior $p(\\theta|m_k)$ and likelihood $p(D|\\theta,m_k)$? Can we evaluate the relative performance of a model against another model from the set?"
   ]
  },
  {
   "cell_type": "markdown",
   "metadata": {
    "slideshow": {
     "slide_type": "fragment"
    }
   },
   "source": [
    "- [**A**.]: Start again with **model specification**. Specify a prior $p(m_k)$ for each of the models and then solve the desired inference problem:      \n",
    "$$\\begin{align*} \n",
    "p(m_k|D) &= \\frac{p(D|m_k) p(m_k)}{p(D)} \\\\\n",
    "  &\\propto p(m_k) \\cdot p(D|m_k) \\\\\n",
    "  &= p(m_k)\\cdot \\int_\\theta p(D,\\theta|m_k) \\,\\mathrm{d}\\theta\\\\\n",
    "  &= \\underbrace{p(m_k)}_{\\substack{\\text{model}\\\\\\text{prior}}}\\cdot \\int_\\theta \\underbrace{p(D|\\theta,m_k)}_{\\text{likelihood}} \\,\\underbrace{p(\\theta|m_k)}_{\\text{prior}}\\, \\mathrm{d}\\theta\\\\\n",
    "\\end{align*}$$"
   ]
  },
  {
   "cell_type": "markdown",
   "metadata": {
    "slideshow": {
     "slide_type": "slide"
    }
   },
   "source": [
    "### Bayesian Model Comparison (continued) \n",
    "\n",
    "- You, the engineer, have to choose the factors $p(D|\\theta,m_k)$, $p(\\theta|m_k)$ and $p(m_k)$. After that, for a given data set $D$, the model posterior $p(m_k|D)$ can be computed. "
   ]
  },
  {
   "cell_type": "markdown",
   "metadata": {
    "slideshow": {
     "slide_type": "fragment"
    }
   },
   "source": [
    "- If you need to work with one model,select the model with largest posterior $p(m_k|D)$"
   ]
  },
  {
   "cell_type": "markdown",
   "metadata": {
    "slideshow": {
     "slide_type": "fragment"
    }
   },
   "source": [
    "- Alternatively, if you don't want to choose a model, you can do prediction by **Bayesian model averaging** to utilitize the predictive power from all models:\n",
    "$$\\begin{align*}\n",
    "p(x|D) &= \\sum_k \\int p(x,\\theta,m_k|D)\\,\\mathrm{d}\\theta \\\\\n",
    "  &= \\sum_k \\underbrace{p(m_k|D)}_{\\substack{\\text{model}\\\\\\text{posterior}}} \\cdot \\int \\underbrace{p(\\theta|D)}_{\\substack{\\text{parameter}\\\\\\text{posterior}}} \\, \\underbrace{p(x|\\theta,m_k)}_{\\text{likelihood}} \\,\\mathrm{d}\\theta\n",
    "\\end{align*}$$ "
   ]
  },
  {
   "cell_type": "markdown",
   "metadata": {
    "slideshow": {
     "slide_type": "fragment"
    }
   },
   "source": [
    "- $\\Rightarrow$ In a Bayesian framework, **model comparison** follows the same recipe as parameter estimation; it just works at one higher hierarchical level."
   ]
  },
  {
   "cell_type": "markdown",
   "metadata": {
    "slideshow": {
     "slide_type": "fragment"
    }
   },
   "source": [
    "- More on this in part 2 (Tjalkens).  "
   ]
  },
  {
   "cell_type": "markdown",
   "metadata": {
    "slideshow": {
     "slide_type": "slide"
    }
   },
   "source": [
    "### Machine Learning and the Scientific Method Revisited\n",
    "\n",
    "- Bayesian probability theory provides a unified framework for information processing (and even the Scientific Method).\n",
    "\n",
    "<img src=\"./figures/ml-and-scientific-loop-2.png\" width=\"450px\">"
   ]
  },
  {
   "cell_type": "markdown",
   "metadata": {
    "slideshow": {
     "slide_type": "slide"
    }
   },
   "source": [
    "### Now Solve the Example Problem: Predicting a Coin Toss\n",
    "\n",
    "- We observe a the following sequence of heads (h) and tails (t) when tossing the same coin repeatedly $$D=\\{hthhtth\\}\\,.$$\n",
    "\n",
    "- What is the probability that heads (h) comes up next? We solve this in the next slides ..."
   ]
  },
  {
   "cell_type": "markdown",
   "metadata": {
    "slideshow": {
     "slide_type": "slide"
    }
   },
   "source": [
    "### Coin toss example (1): Model Specification\n",
    "\n",
    "We observe a sequence of $N$ coin tosses $D=\\{x_1,\\ldots,x_N\\}$ with $n$ heads. "
   ]
  },
  {
   "cell_type": "markdown",
   "metadata": {
    "slideshow": {
     "slide_type": "fragment"
    }
   },
   "source": [
    "##### Likelihood\n",
    "- Assume a Bernoulli distributed variable $p(x_k=h|\\mu)=\\mu$, which leads to a **binomial** distribution for the likelihood (assume $n$ times heads were thrown):\n",
    "$$   \n",
    "p(D|\\mu) = \\prod_{k=1}^N p(x_k|\\mu) = \\mu^n (1-\\mu)^{N-n}\n",
    "$$"
   ]
  },
  {
   "cell_type": "markdown",
   "metadata": {
    "slideshow": {
     "slide_type": "fragment"
    }
   },
   "source": [
    "##### Prior\n",
    "-  Assume the prior belief is governed by a **beta distribution**\n",
    "$$\n",
    "p(\\mu) = \\mathcal{B}(\\mu|\\alpha,\\beta) = \\frac{\\Gamma(\\alpha+\\beta)}{\\Gamma(\\alpha)\\Gamma(\\beta)} \\mu^{\\alpha-1}(1-\\mu)^{\\beta-1}\n",
    "$$\n",
    "<!---  - The Gamma function is sort of a generalized factorial function. If $\\alpha,\\beta$ are integers, then $\\frac{\\Gamma(\\alpha+\\beta)}{\\Gamma(\\alpha)(\\Gamma(\\beta)} = \\frac{(\\alpha+\\beta-1)!}{(\\alpha-1)!\\,(\\beta-1)!}$\n",
    "---> "
   ]
  },
  {
   "cell_type": "markdown",
   "metadata": {
    "slideshow": {
     "slide_type": "fragment"
    }
   },
   "source": [
    "- The Beta distribution is a **conjugate prior** for the Binomial distribution, which means that \n",
    "$$\n",
    "\\text{beta} \\propto \\text{binomial} \\times \\text{beta}\n",
    "$$"
   ]
  },
  {
   "cell_type": "markdown",
   "metadata": {
    "slideshow": {
     "slide_type": "fragment"
    }
   },
   "source": [
    "- $\\alpha$ and $\\beta$ are called **hyperparameters**, since they parameterize the distribution for another parameter ($\\mu$). E.g., $\\alpha=\\beta=1$ (uniform).\n",
    "  "
   ]
  },
  {
   "cell_type": "markdown",
   "metadata": {
    "slideshow": {
     "slide_type": "slide"
    }
   },
   "source": [
    "### Coin toss example (2): Parameter estimation\n",
    "\n",
    "- Infer posterior PDF over $\\mu$ through Bayes rule\n",
    "\n",
    "$$\\begin{align*}\n",
    "p(\\mu|D) &\\propto p(D|\\mu)\\,p(\\mu|\\alpha,\\beta)  \\\\ \n",
    "        &= \\mu^n (1-\\mu)^{N-n} \\times \\mu^{\\alpha-1} (1-\\mu)^{\\beta-1} \\\\\n",
    "        &= \\mu^{n+\\alpha-1} (1-\\mu)^{N-n+\\beta-1} \n",
    "\\end{align*}$$\n",
    "\n",
    "hence the posterior is also beta distributed as\n",
    "\n",
    "$$\n",
    "p(\\mu|D) = \\mathcal{B}(\\mu|\\,n+\\alpha, N-n+\\beta)\n",
    "$$"
   ]
  },
  {
   "cell_type": "markdown",
   "metadata": {
    "slideshow": {
     "slide_type": "fragment"
    }
   },
   "source": [
    "- Essentially, **here ends the machine learning activity**"
   ]
  },
  {
   "cell_type": "markdown",
   "metadata": {
    "slideshow": {
     "slide_type": "slide"
    }
   },
   "source": [
    "### Coin Toss Example (3): Prediction\n",
    "\n",
    "- Now, we want to **use** the trained model. Let's use it to predict future observations. "
   ]
  },
  {
   "cell_type": "markdown",
   "metadata": {
    "slideshow": {
     "slide_type": "fragment"
    }
   },
   "source": [
    "- Marginalize over the parameter posterior to get the predictive PDF for a new coin toss $x_\\bullet$, given the data $D$,\n",
    "\n",
    "$$\\begin{align*}\n",
    "p(x_\\bullet=h|D)  &= \\int_0^1 p(x_\\bullet=h|\\mu)\\,p(\\mu|D) \\,\\mathrm{d}\\mu \\\\\n",
    "  &= \\int_0^1 \\mu \\times  \\mathcal{B}(\\mu|\\,n+\\alpha, N-n+\\beta) \\,\\mathrm{d}\\mu  \\\\\n",
    "  &= \\frac{n+\\alpha}{N+\\alpha+\\beta} \\qquad \\mbox{(a.k.a. Laplace rule)}\\hfill\n",
    "\\end{align*}$$"
   ]
  },
  {
   "cell_type": "markdown",
   "metadata": {
    "slideshow": {
     "slide_type": "fragment"
    }
   },
   "source": [
    "- Finally, we're ready to solve our example problem: for $D=\\{hthhtth\\}$ and uniform prior ($\\alpha=\\beta=1$), we get\n",
    "\n",
    "$$ p(x_\\bullet=h|D)=\\frac{n+1}{N+2} = \\frac{4+1}{7+2} = \\frac{5}{9}$$\n",
    " "
   ]
  },
  {
   "cell_type": "markdown",
   "metadata": {
    "slideshow": {
     "slide_type": "slide"
    }
   },
   "source": [
    "### Coin Toss Example: What did we learn?\n",
    "\n",
    "- What did we learn from the data? Before seeing any data, we think that $$p(x_\\bullet=h)=\\left. p(x_\\bullet=h|D) \\right|_{n=N=0} = \\frac{\\alpha}{\\alpha + \\beta}\\,.$$ "
   ]
  },
  {
   "cell_type": "markdown",
   "metadata": {
    "slideshow": {
     "slide_type": "fragment"
    }
   },
   "source": [
    "- After the $N$ coin tosses, we think that $p(x_\\bullet=h|D) = \\frac{n+\\alpha}{N+\\alpha+\\beta}$."
   ]
  },
  {
   "cell_type": "markdown",
   "metadata": {
    "slideshow": {
     "slide_type": "fragment"
    }
   },
   "source": [
    "- Note the following decomposition\n",
    "\n",
    "$$\\begin{align*}\n",
    "    p(x_\\bullet=h|\\,D) &= \\frac{n+\\alpha}{N+\\alpha+\\beta} = \\frac{n}{N+\\alpha+\\beta} + \\frac{\\alpha}{N+\\alpha+\\beta} \\\\\n",
    "        &= \\frac{N}{N+\\alpha+\\beta}\\cdot \\frac{n}{N} + \\frac{\\alpha+\\beta}{N+\\alpha+\\beta} \\cdot \\frac{\\alpha}{\\alpha+\\beta} \\\\\n",
    "        &= \\underbrace{\\frac{\\alpha}{\\alpha+\\beta}}_{prior} + \\underbrace{\\frac{N}{N+\\alpha+\\beta}}_{gain}\\cdot \\big( \\underbrace{\\frac{n}{N}}_{MLE} - \\underbrace{\\frac{\\alpha}{\\alpha+\\beta}}_{prior} \\big)\n",
    "\\end{align*}$$"
   ]
  },
  {
   "cell_type": "markdown",
   "metadata": {
    "slideshow": {
     "slide_type": "fragment"
    }
   },
   "source": [
    "- Note that, since $0\\leq\\text{gain}\\lt 1$, the Bayesian estimate lies between prior and maximum likelihood estimate."
   ]
  },
  {
   "cell_type": "markdown",
   "metadata": {
    "slideshow": {
     "slide_type": "fragment"
    }
   },
   "source": [
    "- For large $N$, the gain goes to $1$ and $p(x_\\bullet=h|D)$ goes to the maximum likelihood estimate (the relative frequency) $n/N$."
   ]
  },
  {
   "cell_type": "markdown",
   "metadata": {
    "slideshow": {
     "slide_type": "slide"
    }
   },
   "source": [
    "#### CODE EXAMPLE\n",
    "\n",
    "**Bayesian evolution of $p(\\mu|D)$ for the coin toss**\n",
    "\n",
    "Let's see how $p(\\mu|D)$ evolves as we increase the number of coin tosses $N$. We'll use two different priors to demonstrate the effect of the prior on the posterior (set $N=0$ to inspect the prior)."
   ]
  },
  {
   "cell_type": "code",
   "execution_count": 1,
   "metadata": {
    "slideshow": {
     "slide_type": "subslide"
    }
   },
   "outputs": [
    {
     "data": {
      "text/html": [
       "    <script class='js-collapse-script'>\n",
       "        var curMatch =\n",
       "            window.location.href\n",
       "            .match(/(.*?)\\/notebooks\\/.*\\.ipynb/);\n",
       "\n",
       "        curMatch = curMatch ||\n",
       "            window.location.href\n",
       "            .match(/(.*?)\\/apps\\/.*\\.ipynb/);\n",
       "\n",
       "        if ( curMatch ) {\n",
       "            $('head').append('<base href=\"' + curMatch[1] + '/\">');\n",
       "        }\n",
       "    </script>\n"
      ],
      "text/plain": [
       "HTML{String}(\"    <script class='js-collapse-script'>\\n        var curMatch =\\n            window.location.href\\n            .match(/(.*?)\\\\/notebooks\\\\/.*\\\\.ipynb/);\\n\\n        curMatch = curMatch ||\\n            window.location.href\\n            .match(/(.*?)\\\\/apps\\\\/.*\\\\.ipynb/);\\n\\n        if ( curMatch ) {\\n            \\$('head').append('<base href=\\\"' + curMatch[1] + '/\\\">');\\n        }\\n    </script>\\n\")"
      ]
     },
     "metadata": {},
     "output_type": "display_data"
    },
    {
     "data": {
      "text/html": [
       "<script class='js-collapse-script' src='/assetserver/dd91f3031364604158edbfeafbf7beddcd119b2c-assets/webio/dist/bundle.js'></script>"
      ],
      "text/plain": [
       "HTML{String}(\"<script class='js-collapse-script' src='/assetserver/dd91f3031364604158edbfeafbf7beddcd119b2c-assets/webio/dist/bundle.js'></script>\")"
      ]
     },
     "metadata": {},
     "output_type": "display_data"
    },
    {
     "data": {
      "text/html": [
       "<script class='js-collapse-script' src='/assetserver/dd91f3031364604158edbfeafbf7beddcd119b2c-assets/providers/ijulia_setup.js'></script>"
      ],
      "text/plain": [
       "HTML{String}(\"<script class='js-collapse-script' src='/assetserver/dd91f3031364604158edbfeafbf7beddcd119b2c-assets/providers/ijulia_setup.js'></script>\")"
      ]
     },
     "metadata": {},
     "output_type": "display_data"
    },
    {
     "data": {
      "text/html": [
       "  <script class='js-collapse-script'>\n",
       "    $('.js-collapse-script').parent('.output_subarea').css('padding', '0');\n",
       "  </script>\n"
      ],
      "text/plain": [
       "HTML{String}(\"  <script class='js-collapse-script'>\\n    \\$('.js-collapse-script').parent('.output_subarea').css('padding', '0');\\n  </script>\\n\")"
      ]
     },
     "metadata": {},
     "output_type": "display_data"
    },
    {
     "data": {
      "text/html": [
       "<div class='tex2jax_ignore interactbulma'>\n",
       "<div class='display:none'></div><unsafe-script style='display:none'>\n",
       "WebIO.mount(this.previousSibling,{&quot;props&quot;:{},&quot;nodeType&quot;:&quot;DOM&quot;,&quot;type&quot;:&quot;node&quot;,&quot;instanceArgs&quot;:{&quot;namespace&quot;:&quot;html&quot;,&quot;tag&quot;:&quot;div&quot;},&quot;children&quot;:[{&quot;props&quot;:{&quot;className&quot;:&quot;field&quot;},&quot;nodeType&quot;:&quot;DOM&quot;,&quot;type&quot;:&quot;node&quot;,&quot;instanceArgs&quot;:{&quot;namespace&quot;:&quot;html&quot;,&quot;tag&quot;:&quot;div&quot;},&quot;children&quot;:[{&quot;props&quot;:{},&quot;nodeType&quot;:&quot;Scope&quot;,&quot;type&quot;:&quot;node&quot;,&quot;instanceArgs&quot;:{&quot;imports&quot;:{&quot;data&quot;:[{&quot;name&quot;:&quot;knockout&quot;,&quot;type&quot;:&quot;js&quot;,&quot;url&quot;:&quot;/assetserver/88bf0b823d344fcff0b77616d12840286b6c8fa3-knockout.js&quot;},{&quot;name&quot;:&quot;knockout_punches&quot;,&quot;type&quot;:&quot;js&quot;,&quot;url&quot;:&quot;/assetserver/2bd5b097e96d6b4fb8b3b86c01ec3eb6f00ba8bc-knockout_punches.js&quot;},{&quot;name&quot;:null,&quot;type&quot;:&quot;js&quot;,&quot;url&quot;:&quot;/assetserver/33fc17ead5d6c83c74b2449f7c19558c51387837-all.js&quot;},{&quot;name&quot;:null,&quot;type&quot;:&quot;css&quot;,&quot;url&quot;:&quot;/assetserver/f0f1a82ab037979b58e3919f91c0a1436c2b13ea-style.css&quot;},{&quot;name&quot;:null,&quot;type&quot;:&quot;css&quot;,&quot;url&quot;:&quot;/assetserver/84fa6bb423ab1a438691a358fbcb123d0820e96c-main.css&quot;}],&quot;type&quot;:&quot;async_block&quot;},&quot;id&quot;:&quot;knockout-component-4ba54b13-d2c1-42a7-80b9-41e2e57dc0e1&quot;,&quot;handlers&quot;:{&quot;_promises&quot;:{&quot;importsLoaded&quot;:[function (ko, koPunches) {\n",
       "    ko.punches.enableAll();\n",
       "    ko.bindingHandlers.numericValue = {\n",
       "        init : function(element, valueAccessor, allBindings, data, context) {\n",
       "            var stringified = ko.observable(ko.unwrap(valueAccessor()));\n",
       "            stringified.subscribe(function(value) {\n",
       "                var val = parseFloat(value);\n",
       "                if (!isNaN(val)) {\n",
       "                    valueAccessor()(val);\n",
       "                }\n",
       "            })\n",
       "            valueAccessor().subscribe(function(value) {\n",
       "                var str = JSON.stringify(value);\n",
       "                if ((str == &quot;0&quot;) &amp;&amp; ([&quot;-0&quot;, &quot;-0.&quot;].indexOf(stringified()) &gt;= 0))\n",
       "                     return;\n",
       "                 if ([&quot;null&quot;, &quot;&quot;].indexOf(str) &gt;= 0)\n",
       "                     return;\n",
       "                stringified(str);\n",
       "            })\n",
       "            ko.applyBindingsToNode(element, { value: stringified, valueUpdate: allBindings.get(&#39;valueUpdate&#39;)}, context);\n",
       "        }\n",
       "    };\n",
       "    var json_data = JSON.parse(&quot;{\\&quot;changes\\&quot;:0,\\&quot;value\\&quot;:96}&quot;);\n",
       "    var self = this;\n",
       "    function AppViewModel() {\n",
       "        for (var key in json_data) {\n",
       "            var el = json_data[key];\n",
       "            this[key] = Array.isArray(el) ? ko.observableArray(el) : ko.observable(el);\n",
       "        }\n",
       "        \n",
       "        \n",
       "        [this[&quot;changes&quot;].subscribe((function (val){!(this.valueFromJulia[&quot;changes&quot;]) ? (WebIO.setval({&quot;name&quot;:&quot;changes&quot;,&quot;scope&quot;:&quot;knockout-component-4ba54b13-d2c1-42a7-80b9-41e2e57dc0e1&quot;,&quot;id&quot;:&quot;ob_02&quot;,&quot;type&quot;:&quot;observable&quot;},val)) : undefined; return this.valueFromJulia[&quot;changes&quot;]=false}),self),this[&quot;value&quot;].subscribe((function (val){!(this.valueFromJulia[&quot;value&quot;]) ? (WebIO.setval({&quot;name&quot;:&quot;value&quot;,&quot;scope&quot;:&quot;knockout-component-4ba54b13-d2c1-42a7-80b9-41e2e57dc0e1&quot;,&quot;id&quot;:&quot;ob_01&quot;,&quot;type&quot;:&quot;observable&quot;},val)) : undefined; return this.valueFromJulia[&quot;value&quot;]=false}),self)]\n",
       "        \n",
       "    }\n",
       "    self.model = new AppViewModel();\n",
       "    self.valueFromJulia = {};\n",
       "    for (var key in json_data) {\n",
       "        self.valueFromJulia[key] = false;\n",
       "    }\n",
       "    ko.applyBindings(self.model, self.dom);\n",
       "}\n",
       "]},&quot;changes&quot;:[(function (val){return (val!=this.model[&quot;changes&quot;]()) ? (this.valueFromJulia[&quot;changes&quot;]=true, this.model[&quot;changes&quot;](val)) : undefined})],&quot;value&quot;:[(function (val){return (val!=this.model[&quot;value&quot;]()) ? (this.valueFromJulia[&quot;value&quot;]=true, this.model[&quot;value&quot;](val)) : undefined})]},&quot;systemjs_options&quot;:null,&quot;observables&quot;:{&quot;changes&quot;:{&quot;sync&quot;:false,&quot;id&quot;:&quot;ob_02&quot;,&quot;value&quot;:0},&quot;value&quot;:{&quot;sync&quot;:true,&quot;id&quot;:&quot;ob_01&quot;,&quot;value&quot;:96}}},&quot;children&quot;:[{&quot;props&quot;:{&quot;attributes&quot;:{&quot;class&quot;:&quot;interact-flex-row&quot;}},&quot;nodeType&quot;:&quot;DOM&quot;,&quot;type&quot;:&quot;node&quot;,&quot;instanceArgs&quot;:{&quot;namespace&quot;:&quot;html&quot;,&quot;tag&quot;:&quot;div&quot;},&quot;children&quot;:[{&quot;props&quot;:{&quot;attributes&quot;:{&quot;class&quot;:&quot;interact-flex-row-left&quot;}},&quot;nodeType&quot;:&quot;DOM&quot;,&quot;type&quot;:&quot;node&quot;,&quot;instanceArgs&quot;:{&quot;namespace&quot;:&quot;html&quot;,&quot;tag&quot;:&quot;div&quot;},&quot;children&quot;:[{&quot;props&quot;:{&quot;className&quot;:&quot;interact &quot;,&quot;style&quot;:{&quot;padding&quot;:&quot;5px 10px 0px 10px&quot;}},&quot;nodeType&quot;:&quot;DOM&quot;,&quot;type&quot;:&quot;node&quot;,&quot;instanceArgs&quot;:{&quot;namespace&quot;:&quot;html&quot;,&quot;tag&quot;:&quot;label&quot;},&quot;children&quot;:[&quot;N&quot;]}]},{&quot;props&quot;:{&quot;attributes&quot;:{&quot;class&quot;:&quot;interact-flex-row-center&quot;}},&quot;nodeType&quot;:&quot;DOM&quot;,&quot;type&quot;:&quot;node&quot;,&quot;instanceArgs&quot;:{&quot;namespace&quot;:&quot;html&quot;,&quot;tag&quot;:&quot;div&quot;},&quot;children&quot;:[{&quot;props&quot;:{&quot;max&quot;:192,&quot;min&quot;:0,&quot;attributes&quot;:{&quot;type&quot;:&quot;range&quot;,&quot;data-bind&quot;:&quot;numericValue: value, valueUpdate: &#39;input&#39;, event: {change : function () {this.changes(this.changes()+1)}}&quot;,&quot;orient&quot;:&quot;horizontal&quot;},&quot;step&quot;:1,&quot;className&quot;:&quot;slider slider is-fullwidth&quot;,&quot;style&quot;:{}},&quot;nodeType&quot;:&quot;DOM&quot;,&quot;type&quot;:&quot;node&quot;,&quot;instanceArgs&quot;:{&quot;namespace&quot;:&quot;html&quot;,&quot;tag&quot;:&quot;input&quot;},&quot;children&quot;:[]}]},{&quot;props&quot;:{&quot;attributes&quot;:{&quot;class&quot;:&quot;interact-flex-row-right&quot;}},&quot;nodeType&quot;:&quot;DOM&quot;,&quot;type&quot;:&quot;node&quot;,&quot;instanceArgs&quot;:{&quot;namespace&quot;:&quot;html&quot;,&quot;tag&quot;:&quot;div&quot;},&quot;children&quot;:[{&quot;props&quot;:{&quot;attributes&quot;:{&quot;data-bind&quot;:&quot;text: value&quot;}},&quot;nodeType&quot;:&quot;DOM&quot;,&quot;type&quot;:&quot;node&quot;,&quot;instanceArgs&quot;:{&quot;namespace&quot;:&quot;html&quot;,&quot;tag&quot;:&quot;p&quot;},&quot;children&quot;:[]}]}]}]}]},{&quot;props&quot;:{},&quot;nodeType&quot;:&quot;Scope&quot;,&quot;type&quot;:&quot;node&quot;,&quot;instanceArgs&quot;:{&quot;imports&quot;:{&quot;data&quot;:[],&quot;type&quot;:&quot;async_block&quot;},&quot;id&quot;:&quot;scope-b2cdd369-f329-483a-82fb-04f269a831ce&quot;,&quot;handlers&quot;:{&quot;obs-output&quot;:[function (updated_htmlstr) {\n",
       "    var el = this.dom.querySelector(&quot;#out&quot;);\n",
       "    WebIO.propUtils.setInnerHtml(el, updated_htmlstr);\n",
       "}]},&quot;systemjs_options&quot;:null,&quot;observables&quot;:{&quot;obs-output&quot;:{&quot;sync&quot;:false,&quot;id&quot;:&quot;ob_05&quot;,&quot;value&quot;:&quot;&lt;div class=&#39;display:none&#39;&gt;&lt;/div&gt;&lt;unsafe-script style=&#39;display:none&#39;&gt;\\nWebIO.mount(this.previousSibling,{&amp;quot;props&amp;quot;:{&amp;quot;attributes&amp;quot;:{&amp;quot;class&amp;quot;:&amp;quot;interact-flex-row&amp;quot;}},&amp;quot;nodeType&amp;quot;:&amp;quot;DOM&amp;quot;,&amp;quot;type&amp;quot;:&amp;quot;node&amp;quot;,&amp;quot;instanceArgs&amp;quot;:{&amp;quot;namespace&amp;quot;:&amp;quot;html&amp;quot;,&amp;quot;tag&amp;quot;:&amp;quot;div&amp;quot;},&amp;quot;children&amp;quot;:[{&amp;quot;props&amp;quot;:{&amp;quot;setInnerHtml&amp;quot;:&amp;quot;&amp;lt;img src=&amp;#39;data:image/png;base64,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&amp;#39;&amp;gt;&amp;lt;/img&amp;gt;&amp;quot;},&amp;quot;nodeType&amp;quot;:&amp;quot;DOM&amp;quot;,&amp;quot;type&amp;quot;:&amp;quot;node&amp;quot;,&amp;quot;instanceArgs&amp;quot;:{&amp;quot;namespace&amp;quot;:&amp;quot;html&amp;quot;,&amp;quot;tag&amp;quot;:&amp;quot;div&amp;quot;},&amp;quot;children&amp;quot;:[]}]})&lt;/unsafe-script&gt;&quot;}}},&quot;children&quot;:[{&quot;props&quot;:{&quot;id&quot;:&quot;out&quot;,&quot;setInnerHtml&quot;:&quot;&lt;div class=&#39;display:none&#39;&gt;&lt;/div&gt;&lt;unsafe-script style=&#39;display:none&#39;&gt;\\nWebIO.mount(this.previousSibling,{&amp;quot;props&amp;quot;:{&amp;quot;attributes&amp;quot;:{&amp;quot;class&amp;quot;:&amp;quot;interact-flex-row&amp;quot;}},&amp;quot;nodeType&amp;quot;:&amp;quot;DOM&amp;quot;,&amp;quot;type&amp;quot;:&amp;quot;node&amp;quot;,&amp;quot;instanceArgs&amp;quot;:{&amp;quot;namespace&amp;quot;:&amp;quot;html&amp;quot;,&amp;quot;tag&amp;quot;:&amp;quot;div&amp;quot;},&amp;quot;children&amp;quot;:[{&amp;quot;props&amp;quot;:{&amp;quot;setInnerHtml&amp;quot;:&amp;quot;&amp;lt;img src=&amp;#39;data:image/png;base64,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&amp;#39;&amp;gt;&amp;lt;/img&amp;gt;&amp;quot;},&amp;quot;nodeType&amp;quot;:&amp;quot;DOM&amp;quot;,&amp;quot;type&amp;quot;:&amp;quot;node&amp;quot;,&amp;quot;instanceArgs&amp;quot;:{&amp;quot;namespace&amp;quot;:&amp;quot;html&amp;quot;,&amp;quot;tag&amp;quot;:&amp;quot;div&amp;quot;},&amp;quot;children&amp;quot;:[]}]})&lt;/unsafe-script&gt;&quot;},&quot;nodeType&quot;:&quot;DOM&quot;,&quot;type&quot;:&quot;node&quot;,&quot;instanceArgs&quot;:{&quot;namespace&quot;:&quot;html&quot;,&quot;tag&quot;:&quot;div&quot;},&quot;children&quot;:[]}]}]})</unsafe-script>\n",
       "</div>"
      ],
      "text/plain": [
       "Widget{:manipulate,Any}(OrderedDict{Symbol,Any}(:N=>Widget{:slider,Int64}(OrderedDict{Symbol,Any}(:changes=>Observable{Int64} with 1 listeners. Value:\n",
       "0,:value=>Observable{Int64} with 2 listeners. Value:\n",
       "96), Observable{Int64} with 2 listeners. Value:\n",
       "96, Scope(\"knockout-component-4ba54b13-d2c1-42a7-80b9-41e2e57dc0e1\", Node{DOM}(DOM(:html, :div), Any[Node{DOM}(DOM(:html, :div), Any[Node{DOM}(DOM(:html, :label), Any[\"N\"], Dict{Symbol,Any}(:className=>\"interact \",:style=>Dict{Any,Any}(:padding=>\"5px 10px 0px 10px\")), 1)], Dict{Symbol,Any}(:attributes=>Dict(\"class\"=>\"interact-flex-row-left\")), 2), Node{DOM}(DOM(:html, :div), Any[Node{DOM}(DOM(:html, :input), Any[], Dict{Symbol,Any}(:max=>192,:min=>0,:attributes=>Dict{Any,Any}(:type=>\"range\",Symbol(\"data-bind\")=>\"numericValue: value, valueUpdate: 'input', event: {change : function () {this.changes(this.changes()+1)}}\",\"orient\"=>\"horizontal\"),:step=>1,:className=>\"slider slider is-fullwidth\",:style=>Dict{Any,Any}()), 0)], Dict{Symbol,Any}(:attributes=>Dict(\"class\"=>\"interact-flex-row-center\")), 1), Node{DOM}(DOM(:html, :div), Any[Node{DOM}(DOM(:html, :p), Any[], Dict{Symbol,Any}(:attributes=>Dict(\"data-bind\"=>\"text: value\")), 0)], Dict{Symbol,Any}(:attributes=>Dict(\"class\"=>\"interact-flex-row-right\")), 1)], Dict{Symbol,Any}(:attributes=>Dict(\"class\"=>\"interact-flex-row\")), 7), Dict{String,Tuple{Observables.AbstractObservable,Union{Nothing, Bool}}}(\"changes\"=>(Observable{Int64} with 1 listeners. Value:\n",
       "0, nothing),\"value\"=>(Observable{Int64} with 2 listeners. Value:\n",
       "96, nothing)), Set(String[]), nothing, Any[\"knockout\"=>\"/Users/bert/.julia/packages/Knockout/JIqpG/src/../assets/knockout.js\", \"knockout_punches\"=>\"/Users/bert/.julia/packages/Knockout/JIqpG/src/../assets/knockout_punches.js\", \"/Users/bert/.julia/packages/InteractBase/3SqBl/src/../assets/all.js\", \"/Users/bert/.julia/packages/InteractBase/3SqBl/src/../assets/style.css\", \"/Users/bert/.julia/packages/InteractBulma/Ohu5Y/src/../assets/main.css\"], Dict{Any,Any}(\"_promises\"=>Dict{Any,Any}(\"importsLoaded\"=>Any[JSString(\"function (ko, koPunches) {\\n    ko.punches.enableAll();\\n    ko.bindingHandlers.numericValue = {\\n        init : function(element, valueAccessor, allBindings, data, context) {\\n            var stringified = ko.observable(ko.unwrap(valueAccessor()));\\n            stringified.subscribe(function(value) {\\n                var val = parseFloat(value);\\n                if (!isNaN(val)) {\\n                    valueAccessor()(val);\\n                }\\n            })\\n            valueAccessor().subscribe(function(value) {\\n                var str = JSON.stringify(value);\\n                if ((str == \\\"0\\\") && ([\\\"-0\\\", \\\"-0.\\\"].indexOf(stringified()) >= 0))\\n                     return;\\n                 if ([\\\"null\\\", \\\"\\\"].indexOf(str) >= 0)\\n                     return;\\n                stringified(str);\\n            })\\n            ko.applyBindingsToNode(element, { value: stringified, valueUpdate: allBindings.get('valueUpdate')}, context);\\n        }\\n    };\\n    var json_data = JSON.parse(\\\"{\\\\\\\"changes\\\\\\\":0,\\\\\\\"value\\\\\\\":96}\\\");\\n    var self = this;\\n    function AppViewModel() {\\n        for (var key in json_data) {\\n            var el = json_data[key];\\n            this[key] = Array.isArray(el) ? ko.observableArray(el) : ko.observable(el);\\n        }\\n        \\n        \\n        [this[\\\"changes\\\"].subscribe((function (val){!(this.valueFromJulia[\\\"changes\\\"]) ? (WebIO.setval({\\\"name\\\":\\\"changes\\\",\\\"scope\\\":\\\"knockout-component-4ba54b13-d2c1-42a7-80b9-41e2e57dc0e1\\\",\\\"id\\\":\\\"ob_02\\\",\\\"type\\\":\\\"observable\\\"},val)) : undefined; return this.valueFromJulia[\\\"changes\\\"]=false}),self),this[\\\"value\\\"].subscribe((function (val){!(this.valueFromJulia[\\\"value\\\"]) ? (WebIO.setval({\\\"name\\\":\\\"value\\\",\\\"scope\\\":\\\"knockout-component-4ba54b13-d2c1-42a7-80b9-41e2e57dc0e1\\\",\\\"id\\\":\\\"ob_01\\\",\\\"type\\\":\\\"observable\\\"},val)) : undefined; return this.valueFromJulia[\\\"value\\\"]=false}),self)]\\n        \\n    }\\n    self.model = new AppViewModel();\\n    self.valueFromJulia = {};\\n    for (var key in json_data) {\\n        self.valueFromJulia[key] = false;\\n    }\\n    ko.applyBindings(self.model, self.dom);\\n}\\n\")]),\"changes\"=>Any[JSString(\"(function (val){return (val!=this.model[\\\"changes\\\"]()) ? (this.valueFromJulia[\\\"changes\\\"]=true, this.model[\\\"changes\\\"](val)) : undefined})\")],\"value\"=>Any[JSString(\"(function (val){return (val!=this.model[\\\"value\\\"]()) ? (this.valueFromJulia[\\\"value\\\"]=true, this.model[\\\"value\\\"](val)) : undefined})\")]), ConnectionPool(Channel{Any}(sz_max:9223372036854775807,sz_curr:3), Set(AbstractConnection[]), Channel{AbstractConnection}(sz_max:32,sz_curr:0))), ##52#53{#dom#15{##dom#13#14{Dict{Any,Any},DOM}},typeof(scope)}(#dom#15{##dom#13#14{Dict{Any,Any},DOM}}(##dom#13#14{Dict{Any,Any},DOM}(Dict{Any,Any}(:className=>\"field\"), DOM(:html, :div))), scope))), Observable{Any} with 0 listeners. Value:\n",
       "Figure(PyObject <Figure size 640x480 with 1 Axes>), nothing, getfield(Main, Symbol(\"##5#8\")){Observable{Any}}(Observable{Any} with 0 listeners. Value:\n",
       "Figure(PyObject <Figure size 640x480 with 1 Axes>)))"
      ]
     },
     "execution_count": 1,
     "metadata": {},
     "output_type": "execute_result"
    }
   ],
   "source": [
    "using Reactive, Interact, PyPlot, Distributions\n",
    "f = figure()\n",
    "range_grid = range(0.0, stop=1.0, length=100)\n",
    "μ = 0.4\n",
    "samples = rand(192) .<= μ # Flip 192 coins\n",
    "@manipulate for N=0:1:192; withfig(f) do\n",
    "        n = sum(samples[1:N]) # Count number of heads in first N flips\n",
    "        posterior1 = Beta(1+n, 1+(N-n))\n",
    "        posterior2 = Beta(5+n, 5+(N-n))\n",
    "        plot(range_grid, pdf.(posterior1,range_grid), \"k-\")\n",
    "        plot(range_grid, pdf.(posterior2,range_grid), \"k--\")\n",
    "        xlabel(L\"\\mu\"); ylabel(L\"p(\\mu|\\mathcal{D})\"); grid()\n",
    "        title(L\"p(\\mu|\\mathcal{D})\"*\" for N=$(N), n=$(n) (real \\$\\\\mu\\$=$(μ))\")\n",
    "        legend([\"Based on uniform prior \"*L\"B(1,1)\",\"Based on prior \"*L\"B(5,5)\"], loc=4)\n",
    "    end\n",
    "end"
   ]
  },
  {
   "cell_type": "markdown",
   "metadata": {
    "slideshow": {
     "slide_type": "fragment"
    }
   },
   "source": [
    "$\\Rightarrow$ With more data, the relevance of the prior diminishes!\n"
   ]
  },
  {
   "cell_type": "markdown",
   "metadata": {
    "slideshow": {
     "slide_type": "slide"
    }
   },
   "source": [
    "### From Posterior to Point-Estimate\n",
    "\n",
    "- Sometimes we want just one 'best' parameter (vector), rather than a posterior distribution over parameters. Why?"
   ]
  },
  {
   "cell_type": "markdown",
   "metadata": {
    "slideshow": {
     "slide_type": "fragment"
    }
   },
   "source": [
    "- Recall Bayesian prediction\n",
    "\n",
    "$$\n",
    "p(x|D) = \\int p(x|\\theta)p(\\theta|D)\\,\\mathrm{d}{\\theta}\n",
    "$$"
   ]
  },
  {
   "cell_type": "markdown",
   "metadata": {
    "slideshow": {
     "slide_type": "fragment"
    }
   },
   "source": [
    "- If we approximate posterior $p(\\theta|D)$ by a delta function for one 'best' value $\\hat\\theta$, then the predictive distribution collapses to\n",
    "\n",
    "$$\n",
    "p(x|D)= \\int p(x|\\theta)\\,\\delta(\\theta-\\hat\\theta)\\,\\mathrm{d}{\\theta} = p(x|\\hat\\theta)\n",
    "$$"
   ]
  },
  {
   "cell_type": "markdown",
   "metadata": {
    "slideshow": {
     "slide_type": "fragment"
    }
   },
   "source": [
    "- This is the model $p(x|\\theta)$ evaluated at $\\theta=\\hat\\theta$."
   ]
  },
  {
   "cell_type": "markdown",
   "metadata": {
    "slideshow": {
     "slide_type": "fragment"
    }
   },
   "source": [
    "- Note that $p(x|\\hat\\theta)$ is much easier to evaluate than the integral for full Bayesian prediction."
   ]
  },
  {
   "cell_type": "markdown",
   "metadata": {
    "slideshow": {
     "slide_type": "subslide"
    }
   },
   "source": [
    "### Some Well-known Point-Estimates\n",
    "\n",
    "- **Bayes estimate**\n",
    "\n",
    "$$\n",
    "\\hat \\theta_{bayes}  = \\int \\theta \\, p\\left( \\theta |D \\right)\n",
    "\\,\\mathrm{d}{\\theta}\n",
    "$$\n",
    "  - (homework). Proof that the Bayes estimate minimizes the expected mean-square error, i.e., proof that\n",
    "\n",
    "$$\n",
    "\\hat \\theta_{bayes} = \\arg\\min_{\\hat \\theta} \\int_\\theta (\\hat \\theta -\\theta)^2 p \\left( \\theta |D \\right) \\,\\mathrm{d}{\\theta}\n",
    "$$"
   ]
  },
  {
   "cell_type": "markdown",
   "metadata": {
    "slideshow": {
     "slide_type": "fragment"
    }
   },
   "source": [
    "- **Maximum A Posteriori** (MAP) estimate \n",
    "$$\n",
    "\\hat \\theta_{\\text{map}}=  \\arg\\max _{\\theta} p\\left( \\theta |D \\right) =\n",
    "\\arg \\max_{\\theta}  p\\left(D |\\theta \\right) \\, p\\left(\\theta \\right)\n",
    "$$"
   ]
  },
  {
   "cell_type": "markdown",
   "metadata": {
    "slideshow": {
     "slide_type": "fragment"
    }
   },
   "source": [
    "- **Maximum Likelihood** (ML) estimate\n",
    "$$\n",
    "\\hat \\theta_{ml}  = \\arg \\max_{\\theta}  p\\left(D |\\theta\\right)\n",
    "$$\n",
    "  - Note that Maximum Likelihood is MAP with uniform prior"
   ]
  },
  {
   "cell_type": "markdown",
   "metadata": {
    "slideshow": {
     "slide_type": "slide"
    }
   },
   "source": [
    "### Bayesian vs Maximum Likelihood Learning\n",
    "\n",
    "Consider the task: predict a datum $x$ from an observed data set $D$.\n",
    "\n",
    "<table>\n",
    "<tr><td></td><td style=\"text-align:center\"> <b>Bayesian</b></td><td style=\"text-align:center\"> <b>Maximum Likelihood </b></td></tr>\n",
    "<tr><td>1. <b>Model Specification</b></td><td>Choose a model $m$ with data generating distribution $p(x|\\theta,m)$ and parameter prior $p(\\theta|m)$</td><td>Choose a model $m$ with same data generating distribution $p(x|\\theta,m)$. No need for priors.</td></tr>\n",
    "<tr><td>2. <b>Learning</b></td><td>use Bayes rule to find the parameter posterior,\n",
    "$$\n",
    "p(\\theta|D) = \\propto p(D|\\theta) p(\\theta)\n",
    "$$  </td><td>By Maximum Likelihood (ML) optimization,\n",
    "$$ \n",
    "    \\hat \\theta  = \\arg \\max_{\\theta}  p(D |\\theta)\n",
    "$$</td></tr>\n",
    "<tr><td>3. <b>Prediction</b></td><td>$$\n",
    "p(x|D) = \\int p(x|\\theta) p(\\theta|D) \\,\\mathrm{d}\\theta\n",
    "$$</td><td>\n",
    "$$ \n",
    "    p(x|D) =  p(x|\\hat\\theta)\n",
    "$$</td></tr>\n",
    "</table>"
   ]
  },
  {
   "cell_type": "markdown",
   "metadata": {
    "slideshow": {
     "slide_type": "slide"
    }
   },
   "source": [
    "### Report Card on Maximum Likelihood Estimation\n",
    "\n",
    "- Maximum Likelihood (ML) is MAP with uniform prior, or MAP is 'penalized' ML\n",
    "$$\n",
    "\\hat \\theta_{map}  = \\arg \\max _\\theta  \\{ \\overbrace{\\log\n",
    "p\\left( D|\\theta  \\right)}^{\\mbox{log-likelihood}} + \\overbrace{\\log\n",
    "p\\left( \\theta \\right)}^{\\mbox{penalty}} \\}\n",
    "$$"
   ]
  },
  {
   "cell_type": "markdown",
   "metadata": {
    "slideshow": {
     "slide_type": "fragment"
    }
   },
   "source": [
    "- (good!). Works rather well if we have a lot of data because the influence of the prior diminishes with more data."
   ]
  },
  {
   "cell_type": "markdown",
   "metadata": {
    "slideshow": {
     "slide_type": "fragment"
    }
   },
   "source": [
    "- (bad). Cannot be used for model comparison. E.g. best model does generally not correspond to largest likelihood (see part-2, Tjalkens)."
   ]
  },
  {
   "cell_type": "markdown",
   "metadata": {
    "slideshow": {
     "slide_type": "fragment"
    }
   },
   "source": [
    "- (good). Computationally often do-able. Useful fact (since $\\log$ is monotonously increasing):\n",
    "$$\\arg\\max_\\theta \\log p(D|\\theta) =  \\arg\\max_\\theta p(D|\\theta)$$"
   ]
  },
  {
   "cell_type": "markdown",
   "metadata": {
    "slideshow": {
     "slide_type": "fragment"
    }
   },
   "source": [
    "$\\Rightarrow$ **ML estimation is an approximation to Bayesian learning**, but for good reason a very popular learning method when faced with lots of available data."
   ]
  },
  {
   "cell_type": "code",
   "execution_count": 2,
   "metadata": {
    "slideshow": {
     "slide_type": "skip"
    }
   },
   "outputs": [
    {
     "data": {
      "text/html": [
       "<!--\n",
       "This HTML file contains custom styles and some javascript.\n",
       "Include it a Jupyter notebook for improved rendering.\n",
       "-->\n",
       "\n",
       "<!-- Fonts -->\n",
       "<link href='http://fonts.googleapis.com/css?family=Alegreya+Sans:100,300,400,500,700,800,900,100italic,300italic,400italic,500italic,700italic,800italic,900italic' rel='stylesheet' type='text/css'>\n",
       "<link href='http://fonts.googleapis.com/css?family=Arvo:400,700,400italic' rel='stylesheet' type='text/css'>\n",
       "<link href='http://fonts.googleapis.com/css?family=PT+Mono' rel='stylesheet' type='text/css'>\n",
       "<link href='http://fonts.googleapis.com/css?family=Shadows+Into+Light' rel='stylesheet' type='text/css'>\n",
       "<link href='http://fonts.googleapis.com/css?family=Nixie+One' rel='stylesheet' type='text/css'>\n",
       "\n",
       "<!-- Custom style -->\n",
       "<style>\n",
       "\n",
       "@font-face {\n",
       "    font-family: \"Computer Modern\";\n",
       "    src: url('http://mirrors.ctan.org/fonts/cm-unicode/fonts/otf/cmunss.otf');\n",
       "}\n",
       "\n",
       "#notebook_panel { /* main background */\n",
       "    background: rgb(245,245,245);\n",
       "}\n",
       "\n",
       "div.container {\n",
       "    min-width: 960px;\n",
       "}\n",
       "\n",
       "div #notebook { /* centre the content */\n",
       "    background: #fff; /* white background for content */\n",
       "    margin: auto;\n",
       "    padding-left: 0em;\n",
       "}\n",
       "\n",
       "#notebook li { /* More space between bullet points */\n",
       "    margin-top:0.8em;\n",
       "}\n",
       "\n",
       "/* draw border around running cells */\n",
       "div.cell.border-box-sizing.code_cell.running {\n",
       "    border: 1px solid #111;\n",
       "}\n",
       "\n",
       "/* Put a solid color box around each cell and its output, visually linking them*/\n",
       "div.cell.code_cell {\n",
       "    background-color: rgb(256,256,256);\n",
       "    border-radius: 0px;\n",
       "    padding: 0.5em;\n",
       "    margin-left:1em;\n",
       "    margin-top: 1em;\n",
       "}\n",
       "\n",
       "div.text_cell_render{\n",
       "    font-family: 'Alegreya Sans' sans-serif;\n",
       "    line-height: 140%;\n",
       "    font-size: 125%;\n",
       "    font-weight: 400;\n",
       "    width:800px;\n",
       "    margin-left:auto;\n",
       "    margin-right:auto;\n",
       "}\n",
       "\n",
       "\n",
       "/* Formatting for header cells */\n",
       ".text_cell_render h1 {\n",
       "    font-family: 'Nixie One', serif;\n",
       "    font-style:regular;\n",
       "    font-weight: 400;\n",
       "    font-size: 45pt;\n",
       "    line-height: 100%;\n",
       "    color: rgb(0,51,102);\n",
       "    margin-bottom: 0.5em;\n",
       "    margin-top: 0.5em;\n",
       "    display: block;\n",
       "}\n",
       "\n",
       ".text_cell_render h2 {\n",
       "    font-family: 'Nixie One', serif;\n",
       "    font-weight: 400;\n",
       "    font-size: 30pt;\n",
       "    line-height: 100%;\n",
       "    color: rgb(0,51,102);\n",
       "    margin-bottom: 0.1em;\n",
       "    margin-top: 0.3em;\n",
       "    display: block;\n",
       "}\n",
       "\n",
       ".text_cell_render h3 {\n",
       "    font-family: 'Nixie One', serif;\n",
       "    margin-top:16px;\n",
       "    font-size: 22pt;\n",
       "    font-weight: 600;\n",
       "    margin-bottom: 3px;\n",
       "    font-style: regular;\n",
       "    color: rgb(102,102,0);\n",
       "}\n",
       "\n",
       ".text_cell_render h4 {    /*Use this for captions*/\n",
       "    font-family: 'Nixie One', serif;\n",
       "    font-size: 14pt;\n",
       "    text-align: center;\n",
       "    margin-top: 0em;\n",
       "    margin-bottom: 2em;\n",
       "    font-style: regular;\n",
       "}\n",
       "\n",
       ".text_cell_render h5 {  /*Use this for small titles*/\n",
       "    font-family: 'Nixie One', sans-serif;\n",
       "    font-weight: 400;\n",
       "    font-size: 16pt;\n",
       "    color: rgb(163,0,0);\n",
       "    font-style: italic;\n",
       "    margin-bottom: .1em;\n",
       "    margin-top: 0.8em;\n",
       "    display: block;\n",
       "}\n",
       "\n",
       ".text_cell_render h6 { /*use this for copyright note*/\n",
       "    font-family: 'PT Mono', sans-serif;\n",
       "    font-weight: 300;\n",
       "    font-size: 9pt;\n",
       "    line-height: 100%;\n",
       "    color: grey;\n",
       "    margin-bottom: 1px;\n",
       "    margin-top: 1px;\n",
       "}\n",
       "\n",
       ".CodeMirror{\n",
       "    font-family: \"PT Mono\";\n",
       "    font-size: 90%;\n",
       "}\n",
       "\n",
       ".boxed { /* draw a border around a piece of text */\n",
       "  border: 1px solid blue ;\n",
       "}\n",
       "\n",
       "h4#CODE-EXAMPLE,\n",
       "h4#END-OF-CODE-EXAMPLE {\n",
       "    margin: 10px 0;\n",
       "    padding: 10px;\n",
       "    background-color: #d0f9ca !important;\n",
       "    border-top: #849f81 1px solid;\n",
       "    border-bottom: #849f81 1px solid;\n",
       "}\n",
       "\n",
       ".emphasis {\n",
       "    color: red;\n",
       "}\n",
       "\n",
       ".exercise {\n",
       "    color: green;\n",
       "}\n",
       "\n",
       ".proof {\n",
       "    color: blue;\n",
       "}\n",
       "\n",
       "code {\n",
       "  padding: 2px 4px !important;\n",
       "  font-size: 90% !important;\n",
       "  color: #222 !important;\n",
       "  background-color: #efefef !important;\n",
       "  border-radius: 2px !important;\n",
       "}\n",
       "\n",
       "/* This removes the actual style cells from the notebooks, but no in print mode\n",
       "   as they will be removed through some other method */\n",
       "@media not print {\n",
       "  .cell:nth-last-child(-n+2) {\n",
       "    display: none;\n",
       "  }\n",
       "}\n",
       "\n",
       "footer.hidden-print {\n",
       "    display: none !important;\n",
       "}\n",
       "    \n",
       "</style>\n",
       "\n",
       "<!-- MathJax styling -->\n",
       "<script>\n",
       "    MathJax.Hub.Config({\n",
       "                        TeX: {\n",
       "                           extensions: [\"AMSmath.js\"],\n",
       "                           equationNumbers: { autoNumber: \"AMS\", useLabelIds: true}\n",
       "                           },\n",
       "                tex2jax: {\n",
       "                    inlineMath: [ ['$','$'], [\"\\\\(\",\"\\\\)\"] ],\n",
       "                    displayMath: [ ['$$','$$'], [\"\\\\[\",\"\\\\]\"] ]\n",
       "                },\n",
       "                displayAlign: 'center', // Change this to 'center' to center equations.\n",
       "                \"HTML-CSS\": {\n",
       "                    styles: {'.MathJax_Display': {\"margin\": 4}}\n",
       "                }\n",
       "        });\n",
       "</script>\n"
      ]
     },
     "metadata": {},
     "output_type": "display_data"
    }
   ],
   "source": [
    "open(\"../../styles/aipstyle.html\") do f display(\"text/html\", read(f, String)) end"
   ]
  },
  {
   "cell_type": "code",
   "execution_count": null,
   "metadata": {},
   "outputs": [],
   "source": []
  }
 ],
 "metadata": {
  "@webio": {
   "lastCommId": "0edceeb5b5d748f5987d5e6719f15198",
   "lastKernelId": "1e91b343-4cbb-4e56-94bb-edf332d47cc6"
  },
  "anaconda-cloud": {},
  "celltoolbar": "Slideshow",
  "kernelspec": {
   "display_name": "Julia 1.2.0",
   "language": "julia",
   "name": "julia-1.2"
  },
  "language_info": {
   "file_extension": ".jl",
   "mimetype": "application/julia",
   "name": "julia",
   "version": "1.2.0"
  }
 },
 "nbformat": 4,
 "nbformat_minor": 1
}
