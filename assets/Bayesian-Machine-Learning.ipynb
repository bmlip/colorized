{
 "cells": [
  {
   "cell_type": "markdown",
   "metadata": {
    "slideshow": {
     "slide_type": "slide"
    }
   },
   "source": [
    "# Bayesian Machine Learning"
   ]
  },
  {
   "cell_type": "markdown",
   "metadata": {
    "slideshow": {
     "slide_type": "slide"
    }
   },
   "source": [
    "### Preliminaries\n",
    "\n",
    "- Goals\n",
    "  - Introduction to Bayesian (i.e., probabilistic) modeling\n",
    "- Materials\n",
    "  - Mandatory\n",
    "    - These lecture notes\n",
    "  - Optional\n",
    "    - Bishop pp. 68-74 (on the coin toss example)\n",
    "    - [Ariel Caticha - 2012 - Entropic Inference and the Foundations of Physics](https://github.com/bertdv/BMLIP/blob/master/lessons/notebooks/files/Caticha-2012-Entropic-Inference-and-the-Foundations-of-Physics.pdf), pp.35-44 (section 2.9, on deriving Bayes rule for updating probabilities)\n",
    "    - [David Blei - 2014 - Build, Compute, Critique, Repeat: Data Analysis with Latent Variable Models](https://github.com/bertdv/BMLIP/blob/master/lessons/notebooks/files/Blei-2014-Build-Compute-Critique-Repeat.pdf), on the _Build-Compute-Critique-Repeat_ design model."
   ]
  },
  {
   "cell_type": "markdown",
   "metadata": {
    "slideshow": {
     "slide_type": "slide"
    }
   },
   "source": [
    "### Challenge: Predicting a Coin Toss\n",
    "\n",
    "- **Problem**: We observe a the following sequence of heads (h) and tails (t) when tossing the same coin repeatedly $$D=\\{hthhtth\\}\\,.$$\n",
    "\n",
    "- What is the probability that heads comes up next?"
   ]
  },
  {
   "cell_type": "markdown",
   "metadata": {
    "slideshow": {
     "slide_type": "fragment"
    }
   },
   "source": [
    "- **Solution**: later in this lecture. "
   ]
  },
  {
   "cell_type": "markdown",
   "metadata": {
    "slideshow": {
     "slide_type": "slide"
    }
   },
   "source": [
    "### The Bayesian Machine Learning Framework\n",
    "\n",
    "- Suppose that your application is to predict a future observation $x$, based on $N$ past observations $D=\\{x_1,\\dotsc,x_N\\}$."
   ]
  },
  {
   "cell_type": "markdown",
   "metadata": {
    "slideshow": {
     "slide_type": "fragment"
    }
   },
   "source": [
    "- The Bayesian design approach to solving this task involves four (repeatable) stages: \n",
    "\n",
    "  1. Model specification\n",
    "  1. Parameter estimation (i.e., learning from an observed data set using Bayesian inference)\n",
    "  1. Apply the model (e.g., to a prediction or classification task)\n",
    "  1. Model evaluation (how well did we do?)\n",
    "  "
   ]
  },
  {
   "cell_type": "markdown",
   "metadata": {
    "slideshow": {
     "slide_type": "fragment"
    }
   },
   "source": [
    "- In principle, based on the model evaluation results, you may want to re-specify your model and _repeat_ the design process (a few times), until model performance is acceptable. "
   ]
  },
  {
   "cell_type": "markdown",
   "metadata": {
    "slideshow": {
     "slide_type": "fragment"
    }
   },
   "source": [
    "  \n",
    "- Next, we discuss these four stages in a bit more detail."
   ]
  },
  {
   "cell_type": "markdown",
   "metadata": {
    "slideshow": {
     "slide_type": "slide"
    }
   },
   "source": [
    "### (1) Model specification\n",
    "\n",
    "- Your first task is to propose a probabilistic model ($m$) for generating the observations $x$."
   ]
  },
  {
   "cell_type": "markdown",
   "metadata": {
    "slideshow": {
     "slide_type": "fragment"
    }
   },
   "source": [
    "- A probabilistic model $m$ consists of a joint distribution $p(x,\\theta|m)$ that relates observations $x$ to model parameters $\\theta$. Usually, the model is proposed in the form of a data generating  distribution $p(x|\\theta,m)$ and a prior $p(\\theta|m)$. "
   ]
  },
  {
   "cell_type": "markdown",
   "metadata": {
    "slideshow": {
     "slide_type": "fragment"
    }
   },
   "source": [
    "- _You_ are responsible to choose the data generating distribution $p(x|\\theta)$ based on your physical understanding of the data generating process. (For simplicity, we dropped the given dependency on $m$ from the notation).\n",
    " "
   ]
  },
  {
   "cell_type": "markdown",
   "metadata": {
    "slideshow": {
     "slide_type": "fragment"
    }
   },
   "source": [
    "- _You_ must also choose the prior $p(\\theta)$ to reflect what you know about the parameter values before you see the data $D$.\n",
    "  "
   ]
  },
  {
   "cell_type": "markdown",
   "metadata": {
    "slideshow": {
     "slide_type": "slide"
    }
   },
   "source": [
    "### (2) Parameter estimation\n",
    "\n",
    "- Note that, for a given data set $D=\\{x_1,x_2,\\dots,x_N\\}$ with _independent_ observations $x_n$, the likelihood is \n",
    "$$ p(D|\\theta) = \\prod_{n=1}^N p(x_n|\\theta)\\,,$$\n",
    "so usually you select a model for generating one observation $x_n$ and then use (in-)dependence assumptions to combine these models into a likelihood function for the model parameters.\n",
    "\n",
    "- The likelihood and prior both contain information about the model parameters. Next, you use Bayes rule to fuse these two information sources into a posterior distribution for the parameters,\n",
    "$$\n",
    "p(\\theta|D) = \\frac{p(D|\\theta) p(\\theta)}{p(D)} \\propto p(D|\\theta) p(\\theta)\n",
    "$$  \n"
   ]
  },
  {
   "cell_type": "markdown",
   "metadata": {
    "slideshow": {
     "slide_type": "fragment"
    }
   },
   "source": [
    "- Note that there's **no need for you to design some clever parameter estimation algorithm**. Bayes rule _is_ the parameter estimation algorithm. The only complexity lies in the computational issues! "
   ]
  },
  {
   "cell_type": "markdown",
   "metadata": {
    "slideshow": {
     "slide_type": "fragment"
    }
   },
   "source": [
    "- This \"recipe\" works only if the RHS factors can be evaluated; the computational details can be quite challenging and this is what machine learning is about.     \n",
    "  \n",
    "- $\\Rightarrow$ **Machine learning is EASY, apart from computational details :)**\n",
    "  "
   ]
  },
  {
   "cell_type": "markdown",
   "metadata": {
    "slideshow": {
     "slide_type": "slide"
    }
   },
   "source": [
    "### (3) Prediction\n",
    "\n",
    "- Given the data $D$, our knowledge about the yet unobserved datum $x$ is captured by\n",
    "$$\\begin{align*}\n",
    "p(x|D) &\\stackrel{s}{=} \\int p(x,\\theta|D) \\,\\mathrm{d}\\theta\\\\\n",
    " &\\stackrel{p}{=} \\int p(x|\\theta,D) p(\\theta|D) \\,\\mathrm{d}\\theta\\\\\n",
    " &\\stackrel{m}{=} \\int \\underbrace{p(x|\\theta)}_{\\text{data generation dist.}} \\cdot \\underbrace{p(\\theta|D)}_{\\text{posterior}} \\,\\mathrm{d}\\theta\\\\\n",
    "\\end{align*}$$"
   ]
  },
  {
   "cell_type": "markdown",
   "metadata": {
    "slideshow": {
     "slide_type": "fragment"
    }
   },
   "source": [
    "- Again, **no need to invent a special prediction algorithm**. Probability theory takes care of all that. The complexity of prediction is just computational: how to carry out the marginalization over $\\theta$."
   ]
  },
  {
   "cell_type": "markdown",
   "metadata": {
    "slideshow": {
     "slide_type": "fragment"
    }
   },
   "source": [
    "- Note that the application of the learned posterior $p(\\theta|D)$ not necessarily has to be a prediction task. We use it here as an example, but other applications (e.g., classification, regression etc.) are of course also possible. \n",
    "  "
   ]
  },
  {
   "cell_type": "markdown",
   "metadata": {
    "slideshow": {
     "slide_type": "skip"
    }
   },
   "source": [
    "- What did we learn from $D$? Without access to $D$, we would predict new observations through\n",
    "$$\n",
    "p(x) = \\int p(x,\\theta) \\,\\mathrm{d}\\theta = \\int p(x|\\theta) \\cdot \\underbrace{p(\\theta)}_{\\text{prior}} \\,\\mathrm{d}\\theta\n",
    "$$"
   ]
  },
  {
   "cell_type": "markdown",
   "metadata": {
    "slideshow": {
     "slide_type": "slide"
    }
   },
   "source": [
    "###  (4) Model Evaluation \n",
    "\n",
    "- In the framework above, both parameter estimation and the prediction task were executed by \"perfect\" Bayesian reasoning. So is everything settled now? "
   ]
  },
  {
   "cell_type": "markdown",
   "metadata": {
    "slideshow": {
     "slide_type": "fragment"
    }
   },
   "source": [
    "- No, there appears to be one remaining problem: how good really were our model assumptions $p(x|\\theta)$ and $p(\\theta)$? We want to \"score\" the model performance."
   ]
  },
  {
   "cell_type": "markdown",
   "metadata": {
    "slideshow": {
     "slide_type": "fragment"
    }
   },
   "source": [
    "- Note that this question is only interesting if we have alternative models to choose from. "
   ]
  },
  {
   "cell_type": "markdown",
   "metadata": {
    "slideshow": {
     "slide_type": "fragment"
    }
   },
   "source": [
    "- Let's assume that we have more candidate models, say $\\mathcal{M} = \\{m_1,\\ldots,m_K\\}$ where each model relates to specific prior $p(\\theta|m_k)$ and likelihood $p(D|\\theta,m_k)$? Can we evaluate the relative performance of a model against another model from the set?"
   ]
  },
  {
   "cell_type": "markdown",
   "metadata": {
    "slideshow": {
     "slide_type": "fragment"
    }
   },
   "source": [
    "- Start again with **model specification**. _You_ must now specify a prior $p(m_k)$ (next to the likelihood $p(D|\\theta,m_k)$ and prior $p(\\theta|m_k)$) for each of the models and then solve the desired inference problem:      \n",
    "$$\\begin{align*} \n",
    "p(m_k|D) &= \\frac{p(D|m_k) p(m_k)}{p(D)} \\\\\n",
    "  &\\propto p(m_k) \\cdot p(D|m_k) \\\\\n",
    "  &= p(m_k)\\cdot \\int_\\theta p(D,\\theta|m_k) \\,\\mathrm{d}\\theta\\\\\n",
    "  &= \\underbrace{p(m_k)}_{\\substack{\\text{model}\\\\\\text{prior}}}\\cdot \\underbrace{\\int_\\theta \\underbrace{p(D|\\theta,m_k)}_{\\text{likelihood}} \\,\\underbrace{p(\\theta|m_k)}_{\\text{prior}}\\, \\mathrm{d}\\theta }_{\\substack{\\text{evidence }p(D|m_k)\\\\\\text{= model likelihood}}}\\\\\n",
    "\\end{align*}$$\n",
    "- This procedure is called **Bayesian model comparison**, which requires that you calculate the \"evidence\" (= model likelihood). "
   ]
  },
  {
   "cell_type": "markdown",
   "metadata": {
    "slideshow": {
     "slide_type": "fragment"
    }
   },
   "source": [
    "- $\\Rightarrow$ In a Bayesian framework, **model estimation** follows the same recipe as parameter estimation; it just works at one higher hierarchical level. Compare the required calulations:\n",
    "\n",
    "$$\\begin{align*}\n",
    "p(\\theta|D) &\\propto p(D|\\theta) p(\\theta) \\; &&\\text{(parameter estimation)} \\\\\n",
    "p(m_k|D) &\\propto p(D|m_k) p(m_k) \\; &&\\text{(model comparison)}\n",
    "\\end{align*}$$"
   ]
  },
  {
   "cell_type": "markdown",
   "metadata": {
    "slideshow": {
     "slide_type": "fragment"
    }
   },
   "source": [
    "- When you have a posterior $p(m_k|D)$ for the models, you don't need to choose one model for the prediction task. You can do prediction by **Bayesian model averaging** to utilitize the predictive power from all models:\n",
    "$$\\begin{align*}\n",
    "p(x|D) &= \\sum_k \\int p(x,\\theta,m_k|D)\\,\\mathrm{d}\\theta \\\\\n",
    "  &= \\sum_k \\underbrace{p(m_k|D)}_{\\substack{\\text{model}\\\\\\text{posterior}}} \\cdot \\int \\underbrace{p(\\theta|D)}_{\\substack{\\text{parameter}\\\\\\text{posterior}}} \\, \\underbrace{p(x|\\theta,m_k)}_{\\text{likelihood}} \\,\\mathrm{d}\\theta\n",
    "\\end{align*}$$ "
   ]
  },
  {
   "cell_type": "markdown",
   "metadata": {
    "slideshow": {
     "slide_type": "fragment"
    }
   },
   "source": [
    "- If you need to work with one model (e.g. due to computational resource constraints), you can for instance select the model with largest posterior $p(m_k|D)$ and use that model for prediction. This is called **Bayesian model selection**."
   ]
  },
  {
   "cell_type": "markdown",
   "metadata": {
    "slideshow": {
     "slide_type": "fragment"
    }
   },
   "source": [
    "- In principle, you could proceed with asking how good your choice for the candidate model set $\\mathcal{M}$ was. You would have to provide a set of alternative model sets $\\{\\mathcal{M}_1,\\mathcal{M}_2,\\ldots,\\mathcal{M}_M\\}$ with priors $p(\\mathcal{M}_m)$ for each set and compute posteriors $p(\\mathcal{M}_m|D)$. And so forth ...  "
   ]
  },
  {
   "cell_type": "markdown",
   "metadata": {
    "slideshow": {
     "slide_type": "fragment"
    }
   },
   "source": [
    "- With the (relative) performance evaluation scores of your model in hand, you could now re-specify your model (hopefully an improved model) and _repeat_ the design process until the model performance score is acceptable. "
   ]
  },
  {
   "cell_type": "markdown",
   "metadata": {
    "slideshow": {
     "slide_type": "slide"
    }
   },
   "source": [
    "### Bayesian Machine Learning and the Scientific Method Revisited\n",
    "\n",
    "- The Bayesian design process provides a unified framework for the Scientific Inquiry method. (Trial design to be discussed in Intelligent Agent lesson). \n",
    "\n",
    "<img src=\"./figures/scientific-inquiry-loop-w-BML-eqs.png\" width=\"600px\">\n"
   ]
  },
  {
   "cell_type": "markdown",
   "metadata": {
    "slideshow": {
     "slide_type": "slide"
    }
   },
   "source": [
    "### Now Solve the Example Problem: Predicting a Coin Toss\n",
    "\n",
    "- We observe a the following sequence of heads ($h$) and tails ($t$) when tossing the same coin repeatedly $$D=\\{hthhtth\\}\\,.$$\n",
    "\n",
    "- What is the probability that heads comes up next? We solve this in the next slides ..."
   ]
  },
  {
   "cell_type": "markdown",
   "metadata": {
    "slideshow": {
     "slide_type": "slide"
    }
   },
   "source": [
    "### Coin toss example (1): Model Specification\n",
    "\n",
    "- We observe a sequence of $N$ coin tosses $D=\\{x_1,\\ldots,x_N\\}$ with $n$ heads. "
   ]
  },
  {
   "cell_type": "markdown",
   "metadata": {
    "slideshow": {
     "slide_type": "fragment"
    }
   },
   "source": [
    "- Let us denote outcomes by \n",
    "$$x_k = \\begin{cases} h & \\text{if heads comes up} \\\\\n",
    "  t & \\text{if tails} \\end{cases}\n",
    "  $$"
   ]
  },
  {
   "cell_type": "markdown",
   "metadata": {
    "slideshow": {
     "slide_type": "fragment"
    }
   },
   "source": [
    "##### Likelihood\n",
    "\n",
    "- Assume a [**Bernoulli** distributed](https://en.wikipedia.org/wiki/Bernoulli_distribution) variable $p(x_k=h|\\mu)=\\mu$, which leads to a [**binomial** distribution](https://en.wikipedia.org/wiki/Binomial_distribution) for the likelihood (assume $n$ times heads were thrown):\n",
    "$$   \n",
    "p(D|\\mu) = \\prod_{k=1}^N p(x_k|\\mu) = \\mu^n (1-\\mu)^{N-n}\n",
    "$$"
   ]
  },
  {
   "cell_type": "markdown",
   "metadata": {
    "slideshow": {
     "slide_type": "fragment"
    }
   },
   "source": [
    "##### Prior\n",
    "-  Assume the prior belief is governed by a [**beta distribution**](https://en.wikipedia.org/wiki/Beta_distribution)\n",
    "\n",
    "$$\n",
    "p(\\mu) = \\mathcal{B}(\\mu|\\alpha,\\beta) = \\frac{\\Gamma(\\alpha+\\beta)}{\\Gamma(\\alpha)\\Gamma(\\beta)} \\mu^{\\alpha-1}(1-\\mu)^{\\beta-1}\n",
    "$$\n",
    "<!---  - The Gamma function is sort of a generalized factorial function. If $\\alpha,\\beta$ are integers, then $\\frac{\\Gamma(\\alpha+\\beta)}{\\Gamma(\\alpha)(\\Gamma(\\beta)} = \\frac{(\\alpha+\\beta-1)!}{(\\alpha-1)!\\,(\\beta-1)!}$\n",
    "---> "
   ]
  },
  {
   "cell_type": "markdown",
   "metadata": {
    "slideshow": {
     "slide_type": "fragment"
    }
   },
   "source": [
    "- A _what_ distribution? Yes, the **beta distribution** is a **conjugate prior** for the binomial distribution, which means that \n",
    "$$\n",
    "\\underbrace{\\text{beta}}_{\\text{posterior}} \\propto \\underbrace{\\text{binomial}}_{\\text{likelihood}} \\times \\underbrace{\\text{beta}}_{\\text{prior}}\n",
    "$$\n",
    "so we get a closed-form posterior."
   ]
  },
  {
   "cell_type": "markdown",
   "metadata": {
    "slideshow": {
     "slide_type": "fragment"
    }
   },
   "source": [
    "- $\\alpha$ and $\\beta$ are called **hyperparameters**, since they parameterize the distribution for another parameter ($\\mu$). E.g., $\\alpha=\\beta=1$ (uniform).\n",
    "  "
   ]
  },
  {
   "cell_type": "markdown",
   "metadata": {
    "slideshow": {
     "slide_type": "fragment"
    }
   },
   "source": [
    "<span style=\"color:red\">INSERT PLOT FOR BETA</span>"
   ]
  },
  {
   "cell_type": "markdown",
   "metadata": {
    "slideshow": {
     "slide_type": "slide"
    }
   },
   "source": [
    "### Coin toss example (2): Parameter estimation\n",
    "\n",
    "- Infer posterior PDF over $\\mu$ through Bayes rule\n",
    "\n",
    "$$\\begin{align*}\n",
    "p(\\mu|D) &\\propto p(D|\\mu)\\,p(\\mu|\\alpha,\\beta)  \\\\ \n",
    "        &= \\mu^n (1-\\mu)^{N-n} \\times \\mu^{\\alpha-1} (1-\\mu)^{\\beta-1} \\\\\n",
    "        &= \\mu^{n+\\alpha-1} (1-\\mu)^{N-n+\\beta-1} \n",
    "\\end{align*}$$\n",
    "\n",
    "hence the posterior is also beta-distributed as\n",
    "\n",
    "$$\n",
    "p(\\mu|D) = \\mathcal{B}(\\mu|\\,n+\\alpha, N-n+\\beta)\n",
    "$$\n",
    "\n",
    "- Why don't we need to worry about the normalization factor? (Exercise)"
   ]
  },
  {
   "cell_type": "markdown",
   "metadata": {
    "slideshow": {
     "slide_type": "fragment"
    }
   },
   "source": [
    "- Essentially, **here ends the machine learning activity**"
   ]
  },
  {
   "cell_type": "markdown",
   "metadata": {
    "slideshow": {
     "slide_type": "slide"
    }
   },
   "source": [
    "### Coin Toss Example (3): Prediction\n",
    "\n",
    "- Next, we want to **apply** the trained model. Let's use it to predict future observations. "
   ]
  },
  {
   "cell_type": "markdown",
   "metadata": {
    "slideshow": {
     "slide_type": "fragment"
    }
   },
   "source": [
    "- Marginalize over the parameter posterior to get the predictive PDF for a new coin toss $x_\\bullet$, given the data $D$,\n",
    "\n",
    "$$\\begin{align*}\n",
    "p(x_\\bullet=h|D)  &= \\int_0^1 p(x_\\bullet=h|\\mu)\\,p(\\mu|D) \\,\\mathrm{d}\\mu \\\\\n",
    "  &= \\int_0^1 \\mu \\times  \\mathcal{B}(\\mu|\\,n+\\alpha, N-n+\\beta) \\,\\mathrm{d}\\mu  \\\\\n",
    "  &= \\frac{n+\\alpha}{N+\\alpha+\\beta}\n",
    "\\end{align*}$$\n",
    "\n",
    "- This result is known as [**Laplace's rule of succession**](https://en.wikipedia.org/wiki/Rule_of_succession)"
   ]
  },
  {
   "cell_type": "markdown",
   "metadata": {
    "slideshow": {
     "slide_type": "fragment"
    }
   },
   "source": [
    "- Finally, we're ready to solve our example problem: for $D=\\{hthhtth\\}$ and uniform prior ($\\alpha=\\beta=1$), we get\n",
    "\n",
    "$$ p(x_\\bullet=h|D)=\\frac{n+1}{N+2} = \\frac{4+1}{7+2} = \\frac{5}{9}$$\n",
    " "
   ]
  },
  {
   "cell_type": "markdown",
   "metadata": {
    "slideshow": {
     "slide_type": "slide"
    }
   },
   "source": [
    "### Coin Toss Example: What did we learn?\n",
    "\n",
    "- What did we learn from the data? Before seeing any data, we think that $$p(x_\\bullet=h)=\\left. p(x_\\bullet=h|D) \\right|_{n=N=0} = \\frac{\\alpha}{\\alpha + \\beta}\\,.$$ "
   ]
  },
  {
   "cell_type": "markdown",
   "metadata": {
    "slideshow": {
     "slide_type": "fragment"
    }
   },
   "source": [
    "- Hence, $\\alpha$ and $\\beta$ are prior pseudo-counts for heads and tails respectively. "
   ]
  },
  {
   "cell_type": "markdown",
   "metadata": {
    "slideshow": {
     "slide_type": "fragment"
    }
   },
   "source": [
    "- After the $N$ coin tosses, we think that $p(x_\\bullet=h|D) = \\frac{n+\\alpha}{N+\\alpha+\\beta}$."
   ]
  },
  {
   "cell_type": "markdown",
   "metadata": {
    "slideshow": {
     "slide_type": "fragment"
    }
   },
   "source": [
    "- Note the following decomposition\n",
    "\n",
    "$$\\begin{align*}\n",
    "    p(x_\\bullet=h|\\,D) &= \\frac{n+\\alpha}{N+\\alpha+\\beta} = \\frac{n}{N+\\alpha+\\beta} + \\frac{\\alpha}{N+\\alpha+\\beta} \\\\\n",
    "        &= \\frac{N}{N+\\alpha+\\beta}\\cdot \\frac{n}{N} + \\frac{\\alpha+\\beta}{N+\\alpha+\\beta} \\cdot \\frac{\\alpha}{\\alpha+\\beta} \\\\\n",
    "        &= \\underbrace{\\frac{\\alpha}{\\alpha+\\beta}}_{\\substack{\\text{prior}\\\\\\text{prediction}}} + \\underbrace{\\underbrace{\\frac{N}{N+\\alpha+\\beta}}_{\\text{gain}}\\cdot \\underbrace{\\big( \\underbrace{\\frac{n}{N}}_{\\substack{\\text{data-based}\\\\\\text{prediction}}} - \\underbrace{\\frac{\\alpha}{\\alpha+\\beta}}_{\\substack{\\text{prior}\\\\\\text{prediction}}} \\big)}_{\\text{\"sensory\" prediction error}}}_{\\text{correction}}\n",
    "\\end{align*}$$"
   ]
  },
  {
   "cell_type": "markdown",
   "metadata": {
    "slideshow": {
     "slide_type": "fragment"
    }
   },
   "source": [
    "- Note that, since $0\\leq\\text{gain}\\lt 1$, the Bayesian prediction lies between (fuses) the prior and data-based predictions. The data plays the role of \"correcting\" the prior prediction."
   ]
  },
  {
   "cell_type": "markdown",
   "metadata": {
    "slideshow": {
     "slide_type": "fragment"
    }
   },
   "source": [
    "- For large $N$, the gain goes to $1$ and $\\left. p(x_\\bullet=h|D)\\right|_{N\\rightarrow \\infty} \\rightarrow \\frac{n}{N}$ goes to the data-based prediction (the observed relative frequency)."
   ]
  },
  {
   "cell_type": "markdown",
   "metadata": {
    "slideshow": {
     "slide_type": "fragment"
    }
   },
   "source": [
    "- In principle, we can now continue with \"(4) Model appraisal\" where we compare the bernoulli+beta model assumptions to alternative models. For simplicity, we will skip this stage here. "
   ]
  },
  {
   "cell_type": "markdown",
   "metadata": {
    "slideshow": {
     "slide_type": "slide"
    }
   },
   "source": [
    "#### CODE EXAMPLE\n",
    "\n",
    "**Bayesian evolution of $p(\\mu|D)$ for the coin toss**\n",
    "\n",
    "Let's see how $p(\\mu|D)$ evolves as we increase the number of coin tosses $N$. We'll use two different priors to demonstrate the effect of the prior on the posterior (set $N=0$ to inspect the prior)."
   ]
  },
  {
   "cell_type": "code",
   "execution_count": 1,
   "metadata": {
    "slideshow": {
     "slide_type": "subslide"
    }
   },
   "outputs": [
    {
     "data": {
      "text/html": [
       "<script>\n",
       "// Immediately-invoked-function-expression to avoid global variables.\n",
       "(function() {\n",
       "    var warning_div = document.getElementById(\"webio-warning-12001642203689883838\");\n",
       "    var hide = function () {\n",
       "        var script = document.getElementById(\"webio-setup-7187510874479742868\");\n",
       "        var parent = script && script.parentElement;\n",
       "        var grandparent = parent && parent.parentElement;\n",
       "        if (grandparent) {\n",
       "            grandparent.style.display = \"none\";\n",
       "        }\n",
       "        warning_div.style.display = \"none\";\n",
       "    };\n",
       "    if (typeof Jupyter !== \"undefined\") {\n",
       "        console.log(\"WebIO detected Jupyter notebook environment.\");\n",
       "        // Jupyter notebook.\n",
       "        var extensions = (\n",
       "            Jupyter\n",
       "            && Jupyter.notebook.config.data\n",
       "            && Jupyter.notebook.config.data.load_extensions\n",
       "        );\n",
       "        if (extensions && extensions[\"webio-jupyter-notebook\"]) {\n",
       "            // Extension already loaded.\n",
       "            console.log(\"Jupyter WebIO nbextension detected; not loading ad-hoc.\");\n",
       "            hide();\n",
       "            return;\n",
       "        }\n",
       "    } else if (window.location.pathname.includes(\"/lab\")) {\n",
       "        // Guessing JupyterLa\n",
       "        console.log(\"Jupyter Lab detected; make sure the @webio/jupyter-lab-provider labextension is installed.\");\n",
       "        hide();\n",
       "        return;\n",
       "    }\n",
       "})();\n",
       "\n",
       "</script>\n",
       "<p\n",
       "    id=\"webio-warning-12001642203689883838\"\n",
       "    class=\"output_text output_stderr\"\n",
       "    style=\"padding: 1em; font-weight: bold;\"\n",
       ">\n",
       "    Unable to load WebIO. Please make sure WebIO works for your Jupyter client.\n",
       "    For troubleshooting, please see <a href=\"https://juliagizmos.github.io/WebIO.jl/latest/providers/ijulia/\">\n",
       "    the WebIO/IJulia documentation</a>.\n",
       "    <!-- TODO: link to installation docs. -->\n",
       "</p>\n"
      ],
      "text/plain": [
       "HTML{String}(\"<script>\\n// Immediately-invoked-function-expression to avoid global variables.\\n(function() {\\n    var warning_div = document.getElementById(\\\"webio-warning-12001642203689883838\\\");\\n    var hide = function () {\\n        var script = document.getElementById(\\\"webio-setup-7187510874479742868\\\");\\n        var parent = script && script.parentElement;\\n        var grandparent = parent && parent.parentElement;\\n        if (grandparent) {\\n            grandparent.style.display = \\\"none\\\";\\n        }\\n        warning_div.style.display = \\\"none\\\";\\n    };\\n    if (typeof Jupyter !== \\\"undefined\\\") {\\n        console.log(\\\"WebIO detected Jupyter notebook environment.\\\");\\n        // Jupyter notebook.\\n        var extensions = (\\n            Jupyter\\n            && Jupyter.notebook.config.data\\n            && Jupyter.notebook.config.data.load_extensions\\n        );\\n        if (extensions && extensions[\\\"webio-jupyter-notebook\\\"]) {\\n            // Extension already loaded.\\n            console.log(\\\"Jupyter WebIO nbextension detected; not loading ad-hoc.\\\");\\n            hide();\\n            return;\\n        }\\n    } else if (window.location.pathname.includes(\\\"/lab\\\")) {\\n        // Guessing JupyterLa\\n        console.log(\\\"Jupyter Lab detected; make sure the @webio/jupyter-lab-provider labextension is installed.\\\");\\n        hide();\\n        return;\\n    }\\n})();\\n\\n</script>\\n<p\\n    id=\\\"webio-warning-12001642203689883838\\\"\\n    class=\\\"output_text output_stderr\\\"\\n    style=\\\"padding: 1em; font-weight: bold;\\\"\\n>\\n    Unable to load WebIO. Please make sure WebIO works for your Jupyter client.\\n    For troubleshooting, please see <a href=\\\"https://juliagizmos.github.io/WebIO.jl/latest/providers/ijulia/\\\">\\n    the WebIO/IJulia documentation</a>.\\n    <!-- TODO: link to installation docs. -->\\n</p>\\n\")"
      ]
     },
     "metadata": {},
     "output_type": "display_data"
    },
    {
     "data": {
      "application/vnd.webio.node+json": {
       "children": [
        {
         "children": [
          {
           "children": [
            {
             "children": [
              {
               "children": [
                {
                 "children": [
                  "N"
                 ],
                 "instanceArgs": {
                  "namespace": "html",
                  "tag": "label"
                 },
                 "nodeType": "DOM",
                 "props": {
                  "className": "interact ",
                  "style": {
                   "padding": "5px 10px 0px 10px"
                  }
                 },
                 "type": "node"
                }
               ],
               "instanceArgs": {
                "namespace": "html",
                "tag": "div"
               },
               "nodeType": "DOM",
               "props": {
                "className": "interact-flex-row-left"
               },
               "type": "node"
              },
              {
               "children": [
                {
                 "children": [],
                 "instanceArgs": {
                  "namespace": "html",
                  "tag": "input"
                 },
                 "nodeType": "DOM",
                 "props": {
                  "attributes": {
                   "data-bind": "numericValue: index, valueUpdate: 'input', event: {change: function (){this.changes(this.changes()+1)}}",
                   "orient": "horizontal",
                   "type": "range"
                  },
                  "className": "slider slider is-fullwidth",
                  "max": 193,
                  "min": 1,
                  "step": 1,
                  "style": {}
                 },
                 "type": "node"
                }
               ],
               "instanceArgs": {
                "namespace": "html",
                "tag": "div"
               },
               "nodeType": "DOM",
               "props": {
                "className": "interact-flex-row-center"
               },
               "type": "node"
              },
              {
               "children": [
                {
                 "children": [],
                 "instanceArgs": {
                  "namespace": "html",
                  "tag": "p"
                 },
                 "nodeType": "DOM",
                 "props": {
                  "attributes": {
                   "data-bind": "text: formatted_val"
                  }
                 },
                 "type": "node"
                }
               ],
               "instanceArgs": {
                "namespace": "html",
                "tag": "div"
               },
               "nodeType": "DOM",
               "props": {
                "className": "interact-flex-row-right"
               },
               "type": "node"
              }
             ],
             "instanceArgs": {
              "namespace": "html",
              "tag": "div"
             },
             "nodeType": "DOM",
             "props": {
              "className": "interact-flex-row interact-widget"
             },
             "type": "node"
            }
           ],
           "instanceArgs": {
            "handlers": {
             "changes": [
              "(function (val){return (val!=this.model[\"changes\"]()) ? (this.valueFromJulia[\"changes\"]=true, this.model[\"changes\"](val)) : undefined})"
             ],
             "index": [
              "(function (val){return (val!=this.model[\"index\"]()) ? (this.valueFromJulia[\"index\"]=true, this.model[\"index\"](val)) : undefined})"
             ]
            },
            "id": "2411677339283376962",
            "imports": {
             "data": [
              {
               "name": "knockout",
               "type": "js",
               "url": "/assetserver/770a4105885e188380f0560e309f836e0282fbc9-knockout.js"
              },
              {
               "name": "knockout_punches",
               "type": "js",
               "url": "/assetserver/20a2690722e74a76875c5ae3530aa6a4f9754d2c-knockout_punches.js"
              },
              {
               "name": null,
               "type": "js",
               "url": "/assetserver/c7413e4ebee4c05e590578d485665977c12291d0-all.js"
              },
              {
               "name": null,
               "type": "css",
               "url": "/assetserver/921df7af813895b8966b97e208f1dbefc3a11fcb-style.css"
              },
              {
               "name": null,
               "type": "css",
               "url": "/assetserver/0547b079f97deda40879eacdc85d3fa8d53b4c58-bulma_confined.min.css"
              }
             ],
             "type": "async_block"
            },
            "mount_callbacks": [
             "function () {\n    var handler = (function (ko, koPunches) {\n    ko.punches.enableAll();\n    ko.bindingHandlers.numericValue = {\n        init: function(element, valueAccessor, allBindings, data, context) {\n            var stringified = ko.observable(ko.unwrap(valueAccessor()));\n            stringified.subscribe(function(value) {\n                var val = parseFloat(value);\n                if (!isNaN(val)) {\n                    valueAccessor()(val);\n                }\n            });\n            valueAccessor().subscribe(function(value) {\n                var str = JSON.stringify(value);\n                if ((str == \"0\") && ([\"-0\", \"-0.\"].indexOf(stringified()) >= 0))\n                     return;\n                 if ([\"null\", \"\"].indexOf(str) >= 0)\n                     return;\n                stringified(str);\n            });\n            ko.applyBindingsToNode(\n                element,\n                {\n                    value: stringified,\n                    valueUpdate: allBindings.get('valueUpdate'),\n                },\n                context,\n            );\n        }\n    };\n    var json_data = {\"formatted_vals\":[\"0\",\"1\",\"2\",\"3\",\"4\",\"5\",\"6\",\"7\",\"8\",\"9\",\"10\",\"11\",\"12\",\"13\",\"14\",\"15\",\"16\",\"17\",\"18\",\"19\",\"20\",\"21\",\"22\",\"23\",\"24\",\"25\",\"26\",\"27\",\"28\",\"29\",\"30\",\"31\",\"32\",\"33\",\"34\",\"35\",\"36\",\"37\",\"38\",\"39\",\"40\",\"41\",\"42\",\"43\",\"44\",\"45\",\"46\",\"47\",\"48\",\"49\",\"50\",\"51\",\"52\",\"53\",\"54\",\"55\",\"56\",\"57\",\"58\",\"59\",\"60\",\"61\",\"62\",\"63\",\"64\",\"65\",\"66\",\"67\",\"68\",\"69\",\"70\",\"71\",\"72\",\"73\",\"74\",\"75\",\"76\",\"77\",\"78\",\"79\",\"80\",\"81\",\"82\",\"83\",\"84\",\"85\",\"86\",\"87\",\"88\",\"89\",\"90\",\"91\",\"92\",\"93\",\"94\",\"95\",\"96\",\"97\",\"98\",\"99\",\"100\",\"101\",\"102\",\"103\",\"104\",\"105\",\"106\",\"107\",\"108\",\"109\",\"110\",\"111\",\"112\",\"113\",\"114\",\"115\",\"116\",\"117\",\"118\",\"119\",\"120\",\"121\",\"122\",\"123\",\"124\",\"125\",\"126\",\"127\",\"128\",\"129\",\"130\",\"131\",\"132\",\"133\",\"134\",\"135\",\"136\",\"137\",\"138\",\"139\",\"140\",\"141\",\"142\",\"143\",\"144\",\"145\",\"146\",\"147\",\"148\",\"149\",\"150\",\"151\",\"152\",\"153\",\"154\",\"155\",\"156\",\"157\",\"158\",\"159\",\"160\",\"161\",\"162\",\"163\",\"164\",\"165\",\"166\",\"167\",\"168\",\"169\",\"170\",\"171\",\"172\",\"173\",\"174\",\"175\",\"176\",\"177\",\"178\",\"179\",\"180\",\"181\",\"182\",\"183\",\"184\",\"185\",\"186\",\"187\",\"188\",\"189\",\"190\",\"191\",\"192\"],\"changes\":WebIO.getval({\"name\":\"changes\",\"scope\":\"2411677339283376962\",\"id\":\"ob_03\",\"type\":\"observable\"}),\"index\":WebIO.getval({\"name\":\"index\",\"scope\":\"2411677339283376962\",\"id\":\"ob_02\",\"type\":\"observable\"})};\n    var self = this;\n    function AppViewModel() {\n        for (var key in json_data) {\n            var el = json_data[key];\n            this[key] = Array.isArray(el) ? ko.observableArray(el) : ko.observable(el);\n        }\n        \n        [this[\"formatted_val\"]=ko.computed(    function(){\n        return this.formatted_vals()[parseInt(this.index())-(1)];\n    }\n,this)]\n        [this[\"changes\"].subscribe((function (val){!(this.valueFromJulia[\"changes\"]) ? (WebIO.setval({\"name\":\"changes\",\"scope\":\"2411677339283376962\",\"id\":\"ob_03\",\"type\":\"observable\"},val)) : undefined; return this.valueFromJulia[\"changes\"]=false}),self),this[\"index\"].subscribe((function (val){!(this.valueFromJulia[\"index\"]) ? (WebIO.setval({\"name\":\"index\",\"scope\":\"2411677339283376962\",\"id\":\"ob_02\",\"type\":\"observable\"},val)) : undefined; return this.valueFromJulia[\"index\"]=false}),self)]\n        \n    }\n    self.model = new AppViewModel();\n    self.valueFromJulia = {};\n    for (var key in json_data) {\n        self.valueFromJulia[key] = false;\n    }\n    ko.applyBindings(self.model, self.dom);\n}\n);\n    (WebIO.importBlock({\"data\":[{\"name\":\"knockout\",\"type\":\"js\",\"url\":\"/assetserver/770a4105885e188380f0560e309f836e0282fbc9-knockout.js\"},{\"name\":\"knockout_punches\",\"type\":\"js\",\"url\":\"/assetserver/20a2690722e74a76875c5ae3530aa6a4f9754d2c-knockout_punches.js\"}],\"type\":\"async_block\"})).then((imports) => handler.apply(this, imports));\n}\n"
            ],
            "observables": {
             "changes": {
              "id": "ob_03",
              "sync": false,
              "value": 0
             },
             "index": {
              "id": "ob_02",
              "sync": true,
              "value": 97
             }
            },
            "systemjs_options": null
           },
           "nodeType": "Scope",
           "props": {},
           "type": "node"
          }
         ],
         "instanceArgs": {
          "namespace": "html",
          "tag": "div"
         },
         "nodeType": "DOM",
         "props": {
          "className": "field interact-widget"
         },
         "type": "node"
        },
        {
         "children": [
          {
           "children": [],
           "instanceArgs": {
            "id": "ob_09",
            "name": "obs-node"
           },
           "nodeType": "ObservableNode",
           "props": {},
           "type": "node"
          }
         ],
         "instanceArgs": {
          "handlers": {},
          "id": "3222874747831657905",
          "imports": {
           "data": [],
           "type": "async_block"
          },
          "mount_callbacks": [],
          "observables": {
           "obs-node": {
            "id": "ob_09",
            "sync": false,
            "value": {
             "children": [
              {
               "children": [],
               "instanceArgs": {
                "namespace": "html",
                "tag": "div"
               },
               "nodeType": "DOM",
               "props": {
                "setInnerHtml": "<img src='data:image/png;base64,iVBORw0KGgoAAAANSUhEUgAAAi4AAAHICAYAAABpv2HdAAAABHNCSVQICAgIfAhkiAAAAAlwSFlzAAAPYQAAD2EBqD+naQAAADh0RVh0U29mdHdhcmUAbWF0cGxvdGxpYiB2ZXJzaW9uMy4xLjEsIGh0dHA6Ly9tYXRwbG90bGliLm9yZy8QZhcZAAAgAElEQVR4nOzdeVxU9f4/8NcAw74pIIuCqIgoaprgnmil5Nait26buZT1M8vUa9l2Na00tV3Lbt5Ky2vX+ppdNSu9apa55JK5piLiwiooIAgDw3x+f3DPkYEZlmFmzpmZ1/Px6PHIM8OZN8cZePlZ3kcjhBAgIiIicgBuShdARERE1FgMLkREROQwGFyIiIjIYTC4EBERkcNgcCEiIiKHweBCREREDoPBhYiIiBwGgwsRERE5DAYXIiIichgMLkREROQwGFyIiIjIYTC4kOrMnz8fXbp0gcFgsOjrY2Nj8corrzS7jk8++QStW7dGaWlpo79m7dq1SExMhI+PDzQaDQ4fPtzsOsxZuXIlNBoNvL29cf78+TqPDx48GF27drXa6/32229ITU1FQEAA/P39MWTIEPz6668mn7tr1y6MGDECLVq0gI+PDzp27IhXX33VarVY2+HDhzFy5EjExMTAx8cHLVu2RL9+/bB69eo6z92+fTsmTZqEhIQE+Pn5oXXr1rjrrrtw8ODBRr9ec9/jzSW9dzIyMhR5/dpKSkowffp0REVFwdvbGz169MC///1vi871z3/+ExqNBv7+/kbHLfk8kzoxuJCqZGVlYfHixZg/fz7c3Kz39tTpdFixYoX8yykgIADBwcEYMmQIBgwYgL59+2L69Ok4efKk/DXjx4+Hn58fFi9e3KjXuHz5MsaNG4cOHTrghx9+wJ49exAfH2+178EcnU6Hl19+2aavsX//fgwaNAhlZWX44osv8MUXX6C8vBy33XYb9uzZY/TcNWvWICUlBUFBQfj888+xefNmzJ49G2q+n2thYSGio6OxYMECbN68GZ9//jliY2Mxbtw4vPbaa0bPXb58OTIyMvDMM89g8+bNeO+995CXl4e+ffti+/btDb6Wrd7jjmzMmDFYtWoV5s6di++//x7Jycl44IEHsGbNmiadJzMzE7NmzUJUVFSdx5r6eSYVE0Qq8txzz4nWrVuLqqoqi8/Rtm1bMXfuXPnP6enp4m9/+5v4+eefRVFRkRg9erQAIL755hv5ORkZGWLQoEFCq9UaHX/zzTdFUFCQKC0tbfB1d+3aJQCItWvXWlx7bfW97meffSYAiDvuuEO4ubmJw4cPGz2ekpIiEhMTrVJHamqqCA8PN6qnuLhYhIaGiv79+8vHLl26JPz8/MSUKVOs8rpK69Onj4iOjjY6lpubW+d5165dE+Hh4eK2225r8JxNeY835n1nCem9c+7cOZucvym+++47AUCsWbPG6PjQoUNFVFSU0Ov1jT7XqFGjxOjRo8X48eOFn59fnceb8nkm9WJwIbsYNWqU6NWrl/j4449F9+7dhbe3t2jTpo2YM2eO/ANcp9OJkJAQ8eyzz5o8R2xsrHjkkUfqHB8yZIgYNGiQ/OfawaWsrMzo+b179xa+vr51jufk5AhfX18RGxsrH8vOzhYajUZ88skn9X5/48ePFwCM/ktJSZEf/+WXX8Stt94q/P39hY+Pj+jXr5/YtGmT0Tnmzp0rAIiDBw+KsWPHiuDgYBEREWH2NaVfPtu3bxdhYWEiNTXV6HFrBhd/f3/x17/+tc7xMWPGCAAiKytLCCHEK6+8IgCIjIwMq7yuEDeuy7Fjx8T9998vAgMDRatWrcTEiRNFYWGh1V7HlJEjR4p27do16rlDhgwR8fHx9T6nvvd4Q3//p0+fFg888IAICwsTnp6eIiEhQSxbtszoHGfOnBETJkwQcXFxwsfHR0RFRYlRo0aJI0eOGD2vKcGlsZ87Sz322GPC399fVFZWGh1fs2aNACB+/fXXRp3niy++EAEBAeLixYtmg0tjP8+kbhynJLs4ePAg/vzzT7zzzjt49tlnsWHDBgwcOBDz58/Hp59+CgDYt28fCgoKMGTIkDpfX1BQgIyMDCQlJRkdF0Lg0KFD6NWrl9nX9vb2lv8/MzMT+/fvx9ChQ42OA0B4eDi6dOmCjIwMXL16FQAQERGBhIQEfPfdd/V+f3//+9/xwQcfAAAWLFiAPXv24MMPPwQA7Ny5E7feeiuKiorwySef4Msvv0RAQABGjx6NtWvX1jnXmDFjEBcXh6+//hofffRRva8LAAEBAXj55Zfx448/NjhVIYSAXq9v1H81VVRUwMvLq875pGNHjx4FAPz8889o2bIl/vzzT/To0QMeHh5o1aoV/t//+38oLi5u8Hupz9ixYxEfH49169bh+eefx5o1azBjxgyrfH8Sg8EAvV6Py5cv48MPP8SPP/6I2bNnN1hbUVERDh06hMTExHqfV997XGLq7//EiRNITk7GsWPH8NZbb2HTpk0YOXIkpk2bhnnz5slfm5WVhZCQELzxxhv44Ycf8MEHH8DDwwN9+vTBqVOnGvw+amvK587Sa3/s2DF07twZHh4eRse7d+8uP96QvLw8TJ8+HW+88QbatGlj9nmN/TyTyikam8glXLp0SQAQ7du3N/oXckVFhYiIiBCjRo0SQgixaNEiAUDk5OTUOccPP/wgAIjdu3cbHT916pQAIFavXi0fqz3iUtPy5csFAPHPf/7T5OODBw8WAERRUZF87KGHHhLh4eENfp87duwQAMTXX39tdLxv376iVatW4tq1a/IxvV4vunbtKtq0aSMMBoMQ4sa/uOfMmdPgawlx41/N+/fvFzqdTrRv314kJSXJ5zM14iLV2Jj/av5rvEePHiI+Pt5oeqOyslK0b9/eaJi/U6dOwtvbWwQEBIgFCxaIHTt2iMWLFwsfHx8xYMAAubamkK7L4sWLjY4/+eSTwtvb2+icln5/kieeeEJ+3NPTU3z44YeNqvGhhx4SHh4e4sCBA/U+r773eH1//6mpqaJNmzZG70shhHjqqaeEt7e3uHLlisnX0+v1oqKiQnTs2FHMmDFDPt7YEZemfO4svfYdO3asM1oohBBZWVkCgFiwYEG9NQohxNixY0X//v3l94K5ERchGv95JvUyjrhENrB//34AwCuvvIKgoCD5uFarRVxcHPLz8wFU/2tRo9EgNDTU5Dk8PDzQo0cPo+PSTo76Rlxq2rRpEzQaDUaOHGny8YyMDISFhSEwMFA+1qpVK+Tl5UGv19f5V2FDSktLsW/fPkyZMsVol4O7uzvGjRuH2bNn49SpU0hISJAfGzt2bJNeAwA8PT3x2muv4cEHH8RXX32Fv/71ryaf16tXL/nvoyE1Fzg+/fTTePTRR/HUU0/hpZdegsFgwLx58+TdTNIiU4PBgPLycsydOxfPP/88gOrdTZ6enpg+fTq2bduG22+/vcnfHwDceeedRn/u3r07ysvLkZeXh/Dw8GZ9f5IXX3wRjz32GPLy8rBx40Y89dRTKC0txaxZs8ye5+9//zv+9a9/YenSpQ2+D+t7j0tq//2Xl5dj27ZtmDJlCnx9fY1GLEaMGIFly5Zh7969GD58OPR6PRYvXozVq1cjLS0NlZWV8nNrLjxvrKZ87ppz7TUajdnn1vcYAKxbtw4bN27E77//3uBzgeZ9nkkd+LdGNnfgwAFotVrce++9dR7LysqSf/iVlZVBq9XC3d3d5Dm6dOkCHx+fOsf9/f0btXunrKwM27dvR+/evREREVHn8aNHjyIjIwOPPPKI0XFvb28IIVBeXl5ni2VDrl69CiEEIiMj6zwm/fAuKCgwOm7quY1x//33480338RLL72EMWPGmHyOv79/nV9C5tT8oT5p0iRcvnwZr732GpYvXw4A6NevH2bNmoVFixahdevWAICQkBCcOXMGqampRucaPnw4pk+fjkOHDlkcXEJCQoz+LE1TlZWVyccs/f4kMTExiImJAVAdCgDghRdewPjx4xEWFlbn+fPmzcNrr72G119/HU899VSDr1nfe1xS+++/oKAAer0eS5cuxdKlS01+jRT+Z86ciQ8++ACzZ89GSkoKWrRoATc3Nzz22GNG16mxmvK5s/Tah4SE1PkMAMCVK1cAAC1btjR7npKSEkydOhVPP/00oqKiUFhYCKB6ahOo3i2m1Wrh5+cnf01zPs+kDlzjQjZ34MABhIaG1llTsm/fPqSnp8u/IEJDQ1FRUWGyz8KBAwdw88031zn+008/oWfPno3aVrpt2zaUlZVh9OjRJh+fM2cOtFotXnjhBaPjV65cgZeXl0U/5KRfHNnZ2XUey8rKAoA6//puzL8aTdFoNFi0aBHOnj2Ljz/+2ORzdu7cCa1W26j/avf4mD17NvLz8+WAt3v3bly9ehV+fn5y+JTWJdQm/rcV2tbbf5vz/ZnSu3dv6PV6pKen13ls3rx5eOWVV/DKK6/gxRdfbFR99b3HJbX//lu0aAF3d3dMmDAB+/fvN/mf9BlavXo1HnnkESxYsACpqano3bs3kpKS5GDTVE353Fl67bt164aTJ0/WWfsirZuqrxdRfn4+cnNz8dZbb6FFixbyf19++SVKS0vRokULPPTQQ0Zf05zPM6kDR1zI5g4cOICioiIUFhYiODgYAFBVVYXZs2cjNjYWDz74IADI0yVnz541+gWYk5ODzMzMOv9C3rlzJw4dOoTp06c3qg5pQV7t4KLT6fDSSy/h22+/xbJly4ymbQAgPT0dXbp0acJ3fIOfnx/69OmDb775Bm+++ab8L1eDwYDVq1ejTZs2Vu31cvvtt2Po0KGYP38+oqOj6zze3KkULy8v+RfJhQsXsHbtWkyePFn+vsaOHYuPP/4Y33//PXr27Cl/3ebNmwEAffv2bfL31BTN/f5q27FjB9zc3NC+fXuj46+++ipeeeUVvPzyy5g7d26j6zP3Hq+Pr68vhgwZgt9//x3du3eHp6en2edqNJo6i6i/++47ZGZmIi4urtF1Ak3/3Fl67e+55x6sWLEC69atM5riXLVqFaKiotCnTx+z54mIiMCOHTvqHH/jjTewc+dOfP/993X+YdCczzOpA4ML2dS5c+dQUFCAmJgY3Hvvvfjb3/6G8vJyvP/++zh48CB++ukn+Qfx4MGDAQB79+41+qEu/TD8+uuv0aVLF8TFxeHw4cPyLp68vDwcO3as3n+Z6XQ6rF+/Hi1btpTPnZeXhw0bNmDBggXIz8/HJ598gkmTJhl9ncFgwG+//YZHH33U4muwcOFCDB06FEOGDMGsWbPg6emJDz/8EMeOHcOXX35p8QiLOYsWLUKvXr2Ql5dXZ5dLQEBAnR0ijXHs2DGsW7cOSUlJ8PLywh9//IE33nijTkfcYcOGYfTo0Zg/fz4MBgP69u2LAwcOYN68eRg1ahQGDhxodF6NRoOUlBT89NNPFn2vtVn6/T3++OMIDAxE7969ER4ejvz8fHz99ddYu3Ytnn32WaNporfeegtz5szBHXfcgZEjR2Lv3r1G56ovnJl7jzfkvffew8CBA3HLLbdgypQpiI2NxbVr15CWloaNGzfKu8lGjRqFlStXIiEhAd27d8fBgwexZMmSenfamNPUz52l13748OEYOnQopkyZguLiYsTFxeHLL7/EDz/8gNWrV8vTajt37sRtt92GOXPmYM6cOQCqp32ka1rTypUr4e7uXucxa3yeSQWUXRtMzu6rr76SdyWMGzdOBAYGioCAAHHXXXeJEydO1Hn+LbfcIkaMGGF0bM6cOcLDw0N8/fXXIjY2Vnh7e4vBgweLffv2ibi4OBEZGWm066H2rqLi4mKRnJws72gICwsToaGhIiIiQtx+++1iyZIlIj8/32T927Ztk3trNMTcriIhbvRx8fPzEz4+PqJv375i48aNRs+RdpVcvny5wdcSwnhXUW0PPvigAGC1Pi6nTp0SgwYNEi1bthSenp4iLi5OvPzyy6KkpKTOc69fvy5mz54toqOjhYeHh4iJiREvvPCCKC8vN3retWvXBABx//331/va5q6LNZuoffrpp+KWW24RoaGhwsPDQwQHB4uUlBTxxRdf1HluSkpKvTtmGmLqPS5Ew3//586dE5MmTRKtW7cWWq1WhIWFif79+4vXXntNfs7Vq1fFo48+Klq1aiV8fX3FwIEDxS+//CJSUlKM+go15to19XPXHNeuXRPTpk0TERERwtPTU3Tv3l18+eWXRs+RPl/mdgzWZG5XUVM+z6ReGiFU3IebHN5zzz2HDz/8EEVFRfUuSJRIw8Xnz5+XF3yOGDECOTk5OHToUKNeMzY2FhMmTLDK/YrGjRuH9PR0s/fkIctt3rwZo0aNwh9//IFu3bopXY7dmHqPq1FTP3eOgJ9n58DFuWRT0uK+xoQWoLr5VnJyMhYuXCgfO3jwIHr37m2rEs06e/Ys1q5di0WLFtn9tV3Bjh07cP/997tUaAFMv8fVSKnPna3w8+w8GFzIZsT/ums2Zd5bo9FgxYoViIqKgsFgwIULF5CXl6fID9ALFy5g2bJlddZlkHUsWbKkyTfRcwa13+NqpOTnzlb4eXYenCoip2PNqSIiIlIXBhciIiJyGJwqIiIiIofB4EJEREQOw6ka0BkMBmRlZSEgIMDqTb2IiIjINoQQuHbtGqKiohq8NYhTBZesrCyTbc6JiIhI/S5evNhgp2enCi4BAQEAqr/xwMBAq567srISW7ZswbBhw6DVaq16brqB19k+eJ3tg9fZPnid7cdW17q4uBjR0dHy7/H6OFVwkaaHAgMDbRJcfH19ERgYyA+GDfE62wevs33wOtsHr7P92PpaN2aZBxfnEhERkcNgcCEiIiKHweBCREREDoPBhYiIiBwGgwsRERE5DAYXIiIichgMLkREROQwGFyIiIjIYTC4EBERkcNgcCEiIiKHweBCREREDoPBhYiIiBwGgwsRERE5DAYXIhW5fv260iUQEakagwuRitx2223o378/jhw5AgAQQihcERGRujC4EKnEyZMnsXfvXvz2229o1aoVysrKcNttt2HDhg1Kl0ZEpBoMLkQqsXLlSgDAiBEjEBERgXfffRc7duzAXXfdhVdffVXZ4oiIVILBhUgF9Ho9Pv/8cwDAxIkTAQCzZs3CtGnTAABz5szBsWPHFKuPiEgtGFyIVODHH39ETk4OQkNDMXLkSACAVqvFe++9h2HDhgEAtm/frmSJRESqwOBCpAKfffYZAODhhx+Gp6en0WNDhgwBAOzcudPudRERqQ2DC5HC8vPz5QW4EyZMqPN4SkoKgOrgYjAY7FkaEZHqeChdAJGrCwgIwOrVq/HLL7/gpptuqvN4UlISfH19UVBQgOPHj6Nbt24KVElEpA4MLkQKWrFiBQBg8uTJuO+++0w+R6vVYvny5YiJiUF8fLw9yyMiUh0GFyKFbN68GY8//jgAIDIyEqNGjTL73EceecReZRERqRrXuBApoKSkBFOmTJH//Pjjj6O4uFjBioiIHAODC5EC5syZgwsXLsDNrfojmJ2djeeff77er/nuu+/wzDPP4PTp0/YokYhIlRhciOzswIEDeO+99wAABoMBXl5eAIDly5fjl19+Mft17777Lt5//31s3brVLnUSEakRgwuRHen1ekyePBkGgwEDBw4EAHTr1g2TJ08GADz22GMoLy83+bU1t0UTEbkqBhciO3r33Xdx+PBhtGjRAv379wcAdO3aFYsXL0ZkZCROnz6N+fPnm/zawYMHA6gOLrxrNBG5KgYXIjs5d+4c5syZAwB46623cO7cOQDVwSU4OBjLly8HACxevBi///57na9PTk6Gj48P8vLy8Oeff9qvcCIiFWFwIbKTN998E2VlZRg8eDAmTJiAo0ePAqgOLgBw11134d5770VVVZW8BqYmLy8v9OvXDwDw008/2a1uIiI1YXAhspNdu3YBAJ5++mno9XpcvHgRwI3gAgCPPvooAODXX381eY6a00VERK6IwYXIDkpKSnDs2DEAQN++faHValFYWIg///wTUVFR8vP69OkDjUaDtLQ05Obm1jmPFFzS09PtUjcRkdqoKrjo9Xq8/PLLaNeuHXx8fNC+fXvMnz+fN5Yjh3fgwAEYDAZER0fLQcXDwwOdOnWCRqORnxccHIzExEQAwJ49e+qcp0+fPkhPT8e+ffvsUzgRkcqoKrgsWrQIH330EZYtW4aTJ09i8eLFWLJkCZYuXap0aUTNsnfvXgDVoy0NGTBgAABg9+7ddR7z9PREu3btjMIOEZErUVVw2bNnD+666y6MHDkSsbGx+Mtf/oJhw4bhwIEDSpdG1Cy1g8uMGTPw8MMP49ChQ3WeK22TNrfOhYjIlanqJosDBw7ERx99hNOnTyM+Ph5//PEHdu3ahXfffdfk83U6HXQ6nfxn6V4vlZWVqKystGpt0vmsfV4y5ozXWQghT+306tULlZWV+M9//oNz585h0qRJdb7X5ORkANXTSyUlJXJnXcnJkyfx/PPPw83NDevXr7eoJme8zmrE62wfvM72Y6tr3ZTzqSq4zJ49G0VFRUhISIC7uzuqqqrw+uuv44EHHjD5/IULF2LevHl1jm/ZsgW+vr42qZHt1u3Dma5zXl4ecnJy4O7ujtzcXKxbt07u4ZKZmYnNmzcbPV8IgaCgIBQVFeGDDz5AQkKC0ePZ2dn4/vvv4enpiU2bNsn3O7KEM11nNeN1tg9eZ/ux9rW+fv16o5+rquCydu1arF69GmvWrEFiYiIOHz6M6dOnIyoqCuPHj6/z/BdeeAEzZ86U/1xcXIzo6GgMGzYMgYGBVq2tsrISW7duxdChQ6HVaq16brrBGa/zV199BQDo0aMH7rnnHvz2228AgMjISNx///0mvyYlJQUbNmwAAIwYMcLoMb1ej2nTpqGiogLdu3dHTExMk2tyxuusRrzO9sHrbD+2utbSjEljqCq4PPvss3j++eflH+bdunXD+fPnsXDhQpPBxcvLq84wOgBotVqbvXlteW66wZmu88GDBwEA/fr1g1arlbvedu3a1ez3OHDgQGzYsAH79u2r8xytVosOHTrgzz//xLlz59ChQweLa3Om66xmvM72wetsP9a+1k05l6oW516/fr3OsLe7uzu3Q5NDkxbm9unTBwDkfi41G8/VJi3Q3b17t8n7EsXHxwMATp06ZdVaiYjUTlUjLqNHj8brr7+OmJgYJCYm4vfff8fbb7+NSZMmKV0akUV0Op28c0jaUdSY4NKrVy94enoiNzcX6enpdUZVpOBy+vRpW5RNRKRaqhpxWbp0Kf7yl7/gySefROfOnTFr1iw88cQTePXVV5Uujcgif/zxB3Q6HUJCQuTwUVlZCXd393qDi7e3N3r16gXAdD+XTp06AeCICxG5HlUFl4CAALz77rs4f/48ysrKcPbsWbz22mvw9PRUujQii0jboKVW/kD1DRJLSkpw88031/u1NaeLaouPj0dQUJDNds8REamVqoILkbMx1zHX29sbHh71z9TW14julltuwdWrV/HNN99YqVIiIsfA4EJkQ01p9V+bFFyOHTuGoqIio8c0Gg3b/hORS2JwIbKRy5cvIz09HRqNBr179wYAzJo1C3379m3USElERATat29v1HmXiMjVMbgQ2YgUNhISEhAUFASgegRm3759KC8vb9Q56psuevvtt5GQkIC3337bShUTEakfgwuRjdSeJhJCNGordE31LdAtKSnBqVOncPz4cWuUS0TkEBhciGxEGnGRgktmZiaKiorg7u4ub2duyIABAwBUh6Cqqiqjx7glmohcEYMLkQ1UVVUZbYUGbjSei4+PN3mrClMSExPh7++PkpIS+VYBEjahIyJXxOBCZANpaWm4du0afH19kZiYCOBGcOnWrVujz+Pu7i7fHbr2yErHjh0BVC8Cvnr1qjXKJiJSPQYXIhs4c+YMgOrpHKlfy8mTJwEAXbp0adK5zE0J+fv7o3Xr1gA46kJEroPBhcgG0tLSAABxcXHysZYtW6JDhw7yFE9jScHFVDjhzRaJyNWo6iaLRM7CVHBZsmQJlixZ0uRz1RdObr75ZhQWFjZ6zQwRkaNjcCGyAVPBxVL1jbi8+eabzT4/EZEj4VQRkQ1YM7hIi3ALCgpQUFDQ7PMRETkyBhciK6usrERGRgYAoEOHDgCqe7qEh4fj7rvvbvL5/Pz80KZNGwDmF+FWVVVBCGFZwUREDoTBhcjKzp8/j6qqKvj4+CAyMhIAkJGRgby8PItHTMytcxFCoGfPnvDz88PFixebVzgRkQNgcCGyMmmaqEOHDnBzq/6InT9/HgDQtm1bi85pbku0RqNBWVkZdDodt0QTkUtgcCGyMlPrW6wVXEyFE7b+JyJXwuBCZGW2CC71bYlm638iciUMLkRWZssRl7S0NLM3W2RwISJXwOBCZGW1g4sQQg4uMTExFp2zbdu28PT0hE6nw4ULF4we44gLEbkSBhciK6qqqkJ6ejqAG8FFp9MhOTkZHTp0sDi4uLu7y+erHVCk4JKRkQGdTmdp6UREDoHBhciKLl68iMrKSnh6esq9V7y9vbFt2zakpaXBz8/P4nObW+cSHh6Ofv36YcyYMbh27ZrlxRMROQC2/CeyImmaqH379nB3d7fquevbEr17926rvhYRkVpxxIXIikwtzLVWR1suwiUiYnAhsipTweW5555DeHg43nnnnWadu74t0UB1QLp+/XqzXoOISO0YXIisyFRwkdr9S110LSWNuFy8eLFOQPn000/h6+uLiRMnNus1iIjUjsGFyIps0cNFEhISghYtWgAAzpw5Y/RYUFAQysvL62yVJiJyNgwuRFZiMBhw9uxZALYJLhqNxuw6F+ncDC5E5OwYXIisJCsrC+Xl5fDw8JCDRFlZGfLy8gA0P7gA5te5SP1hsrOzUVFR0ezXISJSKwYXIiuRpoliY2Ph4VHdaUAaAfH395eneZrD3JbosLAweHl5QQiBS5cuNft1iIjUisGFyEoaWt+i0Wia/Rrmpoo0Go086sLpIiJyZgwuRFZiKrh4e3vj1ltvRb9+/azyGjWnimr3h+E6FyJyBeycS2QlphbmDho0CNu2bbPaa8TFxUGj0aCoqAiXL19Gq1at5MdSUlIQGBiIiMImHpoAACAASURBVIgIq70eEZHaMLgQWYmpERdr8/HxQUxMDM6fP49Tp04ZBZeXX37ZZq9LRKQWnCoisgIhhMngotfrrf5abP1PRK6MwYXICvLy8lBSUgI3NzfExsbKx+Pj4xEZGYkjR45Y7bXqa/0vhMCVK1es9lpERGrDqSIiK5BGW2JiYuDl5QWgerTlwoULqKqqQkhIiNVey9yIy4ULF9CpUydoNBqUlpZaZRcTEZHacMSFyApMTRNlZWWhqqoKWq0WkZGRVnut9u3bA6i+B1JN4eHhKC8vR1lZGQoKCqz2ekREasLgQmQF9fVwiY6ObvYNFmuSpqJqBxcvLy85IHFLNBE5KwYXIiuw5c0Va5POV1RUhMLCQqPHpCZ00msTETkbBhciK5BGP2ouzLVVcPHz80NoaKjRa0jYPZeInB2DC5EVXLx4EUD1tJDEVsEFMD9dxOBCRM6OwYWomfR6PbKzswEYB5eEhAQMGTIE3bp1s/prSmGodnCRjnOqiIicFbdDEzVTVlYWDAYDtFotwsPD5eMzZ87EzJkzbfKa0ohL7YDSvXt33HPPPRgwYIBNXpeISGkMLkTNJE0TtW7d2qq7h+pjbsQlJSUFKSkpdqmBiEgJnCoiaiZT61v0ej3Ky8tt9prmRlyIiJwdgwtRM5kKLkeOHIGPjw969Ohhk9c0tzgXqG77n5eXZ9PgRESkFAYXomYyFVyysrIAAB4etpmNlaaKrly5gmvXrhk9dvPNNyM8PBy7du2yyWsTESmJwYWomeoLLlFRUTZ5zcDAQLRo0QJA3ekiaYEwt0QTkTNicCFqJlPBJTMzE0D1gl1bMTddJI3GMLgQkTNicCFqJiVGXADzPVvY9p+InBmDC1Ez6HQ65OXlAbB/cGH3XCJyRQwuRM1w6dIlAIC3tzdCQkLk4/YcceFUERG5EjagI2qGmtNEGo1GPj5o0CCEhISgffv2Nnttc71cao64GAwGuzXFIyKyBwYXomYwtb4FAN577z2bv7a5qaLWrVvjnnvuQUxMDHQ6HXx8fGxeCxGRvTC4EDWDueBiD9KU0OXLl1FaWgo/Pz8AgFarxTfffGP3eoiI7IFjyETNYCq4VFRUoKKiwuavHRwcjMDAQABcz0JEroPBhagZTAWXTZs2wcvLCyNGjLDpa2s0GrMLdKW2/9KOJyIiZ8HgQtQM9fVwkaZubMncAt0XX3wR4eHheP31121eAxGRPTG4EDVDfV1zbbkVWmJugW6bNm0AcAqJiJwPgwuRhUpLS3H16lUA9m8+J2molwu75xKRs2FwIbKQNNoSEBCAoKAg+bg9g4u5qSJpxEUa/SEichYMLkQWMrcVWongYm6qKC8vDzqdzuZ1EBHZC4MLkYUaCi62vDO0RJoSysnJQXl5uXw8JCQEXl5eAIDs7Gyb10FEZC8MLkQWMhVcqqqqcOedd+L222+3y4hLSEiIvHup5kJcjUYjByfpfkpERM6AnXOJLGQquLi7u2PVqlV2q0Hq5XLixAlkZGQgPj5efuyhhx5CcXExQkND7VYPEZGtMbgQWUjJdv81xcbG4sSJE3UW6M6fP1+hioiIbEd1U0WZmZl4+OGHERISAl9fX/To0QMHDx5UuiyiOkwFl7KyMrsvhjW3QJeIyBmpKrhcvXoVAwYMgFarxffff48TJ07grbfeQnBwsNKlERkRQpgMLh9++CG8vb3x+OOP260Wcz1bDAYD8vLyGGiIyKmoaqpo0aJFiI6OxmeffSYfk/41SaQmRUVFKCkpAWC6+VzNvi62Zm7E5dtvv8XYsWPRr18/7N692271EBHZkqqCy4YNG5Camop7770XO3fuROvWrfHkk09i8uTJJp+v0+mMhuWLi4sBAJWVlaisrLRqbdL5rH1eMuYo1zk9PR0A0LJlS2i1WrleaQdPeHi43b4HqWdLRkaG0WuGh4fLNdWuxVGus6PjdbYPXmf7sdW1bsr5VBVc0tPTsXz5csycORMvvvgifvvtN0ybNg1eXl545JFH6jx/4cKFmDdvXp3jW7Zsga+vr01q3Lp1q03OS8bUfp0PHDgAAAgMDMTmzZvl48ePHwcA5ObmGh23pcLCQgDVoz3/+c9/oNVqAQAFBQUAqteNbdy4Ee7u7nW+Vu3X2VnwOtsHr7P9WPtaX79+vdHP1QghhFVfvRk8PT2RlJRkNKw9bdo07N+/H3v27KnzfFMjLtHR0cjPz0dgYKBVa6usrMTWrVsxdOhQ+RcDWZ+jXOcVK1Zg6tSpGDFiBL799lv5eJcuXZCWloYdO3ZgwIABdqlFCIGgoCCUl5fj5MmT6NChAwBAr9fD398fBoMB58+fR2RkpPw1jnKdHR2vs33wOtuPra611LqhqKiowd/fqhpxiYyMRJcuXYyOde7cGevWrTP5fC8vL7k7aE1ardZmb15bnptuUPt1ltaytG3bVq5TCCHfGygmJsau9bdt2xanTp1CZmYmEhISAFRfw8jISGRmZiI3NxcxMTF1vk7t19lZ8DrbB6+z/Vj7WjflXKraVTRgwACcOnXK6Njp06flXRNEamFqR1FRURHKysoAwGh0wx6kUCLVJWH3XCJyNqoKLjNmzMDevXuxYMECpKWlYc2aNfj4448xdepUpUsjMmIquFRWVmL8+PG4++674ePjY9d6pDpqBxfeJZqInI2qpoqSk5Oxfv16vPDCC5g/fz7atWuHd999Fw899JDSpREZMRVcwsLCsHLlSkXqkUZcat6vCABGjRqF6OhodO/eXYmyiIisTlXBBaj+QTtq1CilyyAySwghT70o3e5fYm7EZeLEiUqUQ0RkM6qaKiJyBPn5+SgvLwdwYw0JUL0qXjpub+bWuBARORsGF6ImksJBeHi40a62l156CT4+Pnj11VftXpM04nLhwgXU7HBgMBiQm5uLY8eO2b0mIiJbUN1UEZHamZsmkrZIt2zZ0u41SbWUlJSgqKhIvr/XuXPnEBcXBx8fH5SWlkKj0di9NiIia+KIC1ETSTt0ak4TATeCS+3j9uDr64uQkBAAxgt0pVrKyspw9epVu9dFRGRtDC5ETSQFlKioKKPjUqCpfdxeTC3Q9fb2RmhoKABuiSYi58DgQtREpkZcDAYDsrOzASgXXNiEjohcAYMLUROZCi75+fnQ6/XQaDTyXZntreYC3ZqkJnQMLkTkDBhciJrI1FSRdCw8PFyxe6Wwey4RuQLuKiJqIlMjLr6+vpgwYYLdW/3XxKkiInIFDC5ETVBzd07N4BIfH4/PPvtMqbIAmJ8qGjhwIKZPn46BAwcqURYRkVUxuBA1gTQl5OPjg6CgIIWrMSYFl0uXLsFgMMDNrXomeMiQIRgyZIiSpRERWQ3XuBA1Qc1poprN3AoKChRr9y+JioqCm5sbKisrkZubq2gtRES2wuBC1ATmms+NHz8ePj4+it0dGgC0Wi0iIyMBGK9zEUIgJycHBw8eREVFhVLlERFZBYMLUROYaz4n9XCRmr0pxdwC3Y4dOyIpKQkZGRkKVEVEZD0MLkRNYG7ERenmcxJTC3Q1Gg23RBOR02BwIWoCU8GlqqpKXlMiTdUoxVwvF26JJiJnweBC1ASmpory8vLkXTytWrVSqjQA5qeK2D2XiJwFgwtRE5gacZGmicLDw+Hu7q5IXZKG2v5zqoiIHB2DC1EjCSHkERdTwUXpaSKAU0VE5PzYgI6oka5cuQKdTgfAOKSEh4dj4sSJcmhQkjRVlJOTg4qKCnh6egLgVBEROQ8GF6JGkqZZQkND4eXlJR9PSkrCp59+qlRZRsLCwuDl5QWdTofMzEy0a9cOAJCYmIgZM2YgISFB4QqJiJqHwYWokcxthVYTjUaD6OhopKWl4eLFi3Jwad++Pd5++22FqyMiaj6ucSFqJHPN5/Ly8lBWVqZESSaZW6BLROQMGFyIGsnciMvo0aPh6+uLjRs3KlFWHeYW6F6+fBkHDx5EQUGBEmUREVkFgwtRIzXUNVfpHi4Sc71cxowZg6SkJGzbtk2JsoiIrILBhaiRpOBSc6rIYDCopt2/hL1ciMiZMbgQNZKpHi4FBQXQ6/UAqrdFq4G5ERf2ciEiZ8DgQtRI9XXNDQ0NlXumKK2hERcGFyJyZAwuRI1QUVGBvLw8AMZTQmrqmiuRgkthYSFKSkrk45wqIiJnwOBC1Ag5OTkAAK1Wi9DQUPm4GoNLYGAggoKCABhPF3HEhYicAYMLUSPUXJjr5nbjY9OuXTtMnDgRqampSpVmkqnpopojLgaDQZG6iIiai51ziRrB1I4iAEhJSUFKSooSJdUrOjoax44dMxpxiYiIwIwZM9CmTRtUVlYqWB0RkeUYXIgawdSOIjUztbPIw8NDbvvP4EJEjopTRUSNYK75XFZWlqra/UvY9p+InBWDC1EjmJsqGjBgAHx9fbF3714lyjLLXC+XgoICHDhwAOfOnVOiLCKiZmNwIWoEU1NFQgh5V5Fams9JzI24zJs3D8nJyVixYoUSZRERNRuDC1EjmJoqKiwshE6nA6Cu7dCA8YiLEEI+zl4uROToGFyIGiCEMDlVJI22BAcHw9vbW5HazGndujU0Gg3Ky8uRn58vH5eCizSCRETkaBhciBpw7do1lJaWAjDd7l9toy0A4OXlhYiICADme7kQETkiBheiBki/5IOCguDn5ycfV3NwAW5MF5kKLpcuXTKaQiIichTNCi6VlZW4ePEiTp06hStXrlirJiJVMbejSJpuqX1cLUwFF6nW8vJyXLt2TZG6iIiao8nBpaSkBP/4xz8wePBgBAUFITY2Fl26dEFYWBjatm2LyZMnY//+/baolUgR5prPdevWDZMmTcKQIUOUKKtBpnYWeXt7y/daKigoUKQuIqLmaFLn3HfeeQevv/46YmNjceedd+L5559H69at4ePjgytXruDYsWP45ZdfMHToUPTt2xdLly5Fx44dbVU7kV2Yaz43fPhwDB8+XImSGsVcL5fZs2cDgHwjRiIiR9Kk4LJ7927s2LED3bp1M/l47969MWnSJHz00Uf45JNPsHPnTgYXcnjmporUztRUEQDMmjULlZWV2Lx5sxJlERE1S5OCy9dff92o53l5eeHJJ5+0qCAitTE3VXThwgWEhobC19dXibIaZC64EBE5MosX53700Ufo1asXOnbsiNTUVPzjH//gjdvIKZkbcUlMTISfnx/S0tKUKKtBUnDJzs6WG+UBQFFREQ4cOID09HSlSiMisphFwWXDhg148skn4e3tjaSkJJSWlmLq1KkYNGiQUbMrImcgBRdpKzFQvUi9pKQEAOR+KWoTGhoqN8ar2bdl/fr16N+/P1atWqVUaUREFrMouKxatQqrVq3Cr7/+ii+//BK7du3C2bNnERgYiKFDh6KqqsradRIpQq/XIycnB4Dp5nP+/v7w9/dXpLaGaDSaenu5sIUBETkii4JLYWEhxo0bZ3Ssbdu22LRpE3Q6HdasWWOV4oiUlpubi6qqKri7uxvdSFFa96LW5nMSU1uipeDC7dBE5IgsCi4tWrQweVyr1eLVV1/FV1991ayiiNRCmmKJiIiAu7u7fFztXXMlprZESyNH169fR3FxsSJ1ERFZyqLgcuTIEbMLEkeOHInjx483qygitTDXw0UKLmrfIm1qqiggIACBgYEAeM8iInI8FgWX7OxsdOrUCd26dcPcuXNx6NAh+TFvb2+j+7kQOTJTC3MBx5kqMrclWgpivEs0ETkai4JL69atsWzZMnTv3h3vv/8+kpOT0bZtW0yfPh3//e9/eQ8UchrmRlz69u2LRx99FAMGDFCirEYzF1x4l2giclRNakAn6d+/PyZOnIgpU6ZAr9dj27ZtWL9+Pb7++mu8//770Gg01q6TSBGXLl0CUDe4jB07FmPHjlWipCapGVyEEPJnc/z48YiOjkZSUpKS5RERNZlFIy5PP/001q9fDwDw8PBAamoqPvroI2RmZmLnzp3yTgYiR2duxMVRSJ/FkpISFBYWysfvu+8+3HnnnejSpYtSpRERWcSi4NKzZ0/ExcWZfOyWW27BDz/80KyiiNTCXHA5e/YsSktLlSipSXx8fOS7Qde+2SIRkSOyuOV/cnKy2ccSEhIsPS2RagghTC7OLSsrQ1xcHPz9/Y1GMdTK1DqXsrIynDlzBtu3b1eqLCIiizRpjUu7du0sWr8yffp0TJs2rclfR6Sk4uJieVSl5oiL1EnX29sbQUFBitTWFDExMTh06JBRcDlz5gyeffZZhIaG4vLlywpWR0TUNE0KLitXrrToRWJjYy36OiIlSQtzg4ODje4AXXMrtCMsRK+v7X9+fj7Ky8vlexoREaldk4JLSkqKreogUh1z61uk4KL25nMSU8GlRYsW8PT0REVFBTIzM9GhQwelyiMiahKL17hwoR85O3PBxdF2GpkKLhqNBiEhIQBujCwRETkCi/q4ANU3VWzRogVuuukm3HTTTejRowduuukm6HQ6fPDBB/j888+tWSeR3TXUNdeRR1wAICQkBNnZ2WxCR0QOxeLgkp6ejsOHD+Pw4cP4/fff8X//93/yD3TpPihEjszZRlyysrKg1+vh4VH9seeICxE5IouDS2xsLGJjY3H33XfLx/bs2YPx48dj0aJFVimOSEnmuuYOHToUPj4+DtN1Njw8HFqtFpWVlcjOzpab0kn9XRhciMiRWBxcTOnXrx/ee+89vPzyy7jnnnuseWoiuzM3sjJhwgRMmDBBgYos4+bmhjZt2uDcuXO4cOGCHFySkpLQt29f9O/fX+EKiYgaz+LFuZWVlSaPd+zYEcePH7e4ICK1cLQpofqYWufSuXNnPPPMMwwuRORQLB5x8fPzQ5cuXdCzZ0/06NEDPXv2RFRUFJYuXYphw4ZZs0Yiu6uoqEBeXh4A48W5FRUVyMjIQFRUFPz9/ZUqr8nMLdAlInI0Fo+4bN++HZMnT4ZWq8W//vUvDB8+HPHx8Vi6dCkqKirw0ksvYe3atTh58qRF51+4cCE0Gg2mT59uaYlEFsvOzgYAeHp6ymtBgOqOs506dZKDgKMwFVwMBgMOHjyIdevWmR1BJSJSG4tHXAYOHIiBAwfKfzYYDDh16pS80+jgwYP49NNPkZeXh6qqqiade//+/fj444/RvXt3S8sjahZpmigqKsqoO66jTh9JwaVm/yWNRoPBgwdDp9MhPT0d7dq1U6o8IqJGs9riXDc3N3Tu3BmdO3fGAw88IB/Pzc1t0nlKSkrw0EMPYcWKFXjttdesVR5Rk5jbUSRt+XfU4FK7CV10dDTS0tJw4cIFBhcicghNmipq6vx4ZmYmwsPDm/Q1U6dOxciRI3H77bc36euIrKmhHi6O0nxOIu0kqv0ZlgLN+fPn7V4TEZElmjTikpycjDvvvBOTJ09G7969TT6nqKgIX331Fd577z088cQTePrppxt9/n//+984dOgQ9u/f36jn63Q66HQ6+c/FxcUAqnc8WXvOXjof1wLYllquszSlEhUVZVSLdDwiIkLxGpsiIiICAHD16lVcuXJFvqmitPD43LlzDvX9OAq1vJ+dHa+z/djqWjflfE0KLidPnsSCBQtwxx13QKvVIikpCVFRUfD29sbVq1dx4sQJHD9+HElJSViyZAmGDx/e6HNfvHgRzzzzDLZs2dLoO9UuXLgQ8+bNq3N8y5YtRnfztaatW7fa5LxkTOnrfODAAQDVQXzz5s3y8d9//x0AcOXKFaPjjsDPzw+lpaVYs2aNPAJTUVEBAPj1118d7vtxJEq/n10Fr7P9WPtaX79+vdHP1QghRFNfoLy8HJs3b8Yvv/yCjIwMlJWVITQ0FD179kRqaiq6du3a1FPi22+/xT333AN3d3f5WFVVFTQaDdzc3KDT6YweA0yPuERHRyM/P9/qtx2orKzE1q1bMXToUGi1Wquem25Qy3W+9dZbsWvXLqxevRr33XeffLxfv37yTpzRo0crVp8levXqhaNHj2Ljxo249dZbsXXrVmRnZ2PKlCkYNmwYNm3apHSJTkct72dnx+tsP7a61sXFxQgNDUVRUVGDv78tWpzr7e2NMWPGYMyYMVbbZXHbbbfh6NGjRscmTpyIhIQEzJ49u05oAQAvLy94eXnVOa7Vam325rXluekGpa+z9L5u27atUR0PPfQQevbsia5duzrc+6Bt27Y4evQoMjMz5dqlBbkXL150uO/HkSj9fnYVvM72Y+1r3ZRzWbyr6Ndff8XDDz8sL/YLDQ3FhAkT8NJLL1k02hEQEFBnpMbPzw8hISEWjeAQWUoIYXb30IwZM5QoySpiY2MBABkZGfKxrl274u2330ZcXJwyRRERNZHFweWJJ55AYmIi1q1bBy8vLxw8eBDvv/8+vvnmG+zZs8eoaReRIykoKJCnIB1t91B9pNGVc+fOycdatWrl0GGMiFyPxcHl7NmzWL9+PTp27AgASExMxLhx43Dfffdh2rRpWLNmTbOL++mnn5p9DqKmkqaJwsLCjKYii4uLkZ2djdatWztUu3+JqREXIiJHY3HL/86dOyMnJ8fomEajwfz587Fx48ZmF0akFHPrtrZv346EhASH7TFkasQFqN4tuG7dOqSlpSlRFhFRk1gcXCZMmIDHH3+8TkOroqIiBAUFNbswIqWY65rrqM3nJNKIS15entHWwzlz5uAvf/kLvv/+e4UqIyJqPIuniqSbH8bHx2PMmDHo0aMHqqqqsHr1aixZssRqBRLZW0Ndcx2t3b+kRYsWCAoKQlFRkdF0EbvnEpEjsTi45OTk4Pfff8cff/yBw4cPY+XKlThz5gw0Gg3eeOMNfPfdd+jevTu6d++OO+64w5o1E9mUFFCkrrISR71PUU3t2rXD4cOHjUKKqfsYERGplcXBpVWrVkhNTUVqaqp8rLy8HEePHsXhw4fxxx9/YMOGDViwYAEKCwutUiyRPTjriAtQPV10+PBhZGRkoG3btgAYXIjIsVjt7tBAdWO65ORkJCcnW/O0RHblbDdYrElaoHv+/Pk6wYVTRUTkCCxenEvkrBpanOvoIy6A8c4iKcDk5OQY3UKDiEiNrDriQuToysrKcPXqVQDGa1wMBgNmzpyJzMzMOmtfHIk04lJzcW5ISAh8fHxQVlaGS5cuoUOHDgpVR0TUMAYXohqkURVfX1+jbf1ubm6YO3euUmVZjTTiUnNaSKPRYNmyZQgKCkJYWJhClRERNQ6DC1ENNaeDNBqNwtVYnxRcrly5YtTLZdKkSQpVRETUNFzjQlSDuXUsubm5OHXqFEpKSpQoy2oCAgIQEhICoLoRHRGRo2FwIapB2hIs7bSRrFy5EgkJCZgyZYoSZVmVtM4lNzdXPpaZmYlvvvkGW7duVaosIqJGYXAhqsFccHGG5nOSmq3/Jf/9738xduxYdr0mItVjcCGqwVxwcYat0BJTIy7s5UJEjoLBhaiGhkZcHLn5nEQKLjVHXGp2zxVCKFIXEVFjMLgQ1SCNODjziIupqaI2bdpAo9GgvLwc+fn5ClVGRNQwBhei/ykqKkJxcTEA4+BiMBicao1LzREXaXTFy8sLERERADhdRETqxuBC9D/SNFFISAj8/Pzk4/n5+dDr9dBoNPIvd0cmtfi/fv263CUY4M0WicgxMLgQ/Y+59S0eHh545ZVXMGPGDGi1WiVKsyofHx85gNVs/S8FGgYXIlIzds4l+h9zwaVly5ZO0e6/prZt2yInJwcZGRno06cPAGDq1Km47777kJSUpHB1RETmMbgQ/Y+54OKMYmNjsW/fPqMRl0GDBilXEBFRIzG4EP2PuR1F586dg06nQ3R0tNHaF0cmTQtxIS4RORqucSH6H2nERfqlLnn99dfRuXNnvPPOO0qUZRPSzqKaIy7Xr1/HN998g+XLlytUFRFRwzjiQvQ/DXXNdYbmcxIpnNUMLuXl5Rg7diwAYMKECfDx8VGiNCKienHEhQiAXq+XA4ozN5+TSE3ozp8/L/dyadGihTwVdvHiRaVKIyKqF4MLEapb+hsMBmi1WoSHhxs9Zm7tiyOLiYmBRqPB9evXcfnyZQCARqPhlmgiUj0GFyLcCCfR0dFwc7vxsSgsLDTZTdfReXp6omXLlgCqFx9L2ISOiNSOwYUI5hfmSoEmNDTUaXYUSaSRJVNN6GoeIyJSEwYXIphfmOuM00SSVq1aATAecWnfvj0A4OzZs4rURETUEO4qIoL54BIfH4/58+cjJCREibJsShpxqRlcOnToAIDBhYjUi8GFCOaDS0JCAv7+978rUZLNSSMuNaeFBgwYgK+++goJCQkKVUVEVD8GFyI495SQOaamiiIiInDvvfcqVRIRUYO4xoVcnhDCbHDZu3cv/vzzT1RUVChRmk3VvEO0Xq9XuBoiosZhcCGXV1RUhJKSEgB1g8vdd9+Nzp0749ixY0qUZlMhISHw9vZGZWWl0fbnXbt24e2338ahQ4cUrI6IyDQGF3J50i/t0NBQ+Pr6ysfLy8uRm5sLoO42aWfg5uYmL8Y9ffq0fPwf//gH/va3v2HLli1KlUZEZBaDC7k8cwtzpeN+fn5yszZn07FjRwDGwYU7i4hIzRhcyOWZW99SsymdRqOxe132YCq4xMXFAWBwISJ1YnAhl9dQ8zlnnCaSxMfHAzA94pKWlqZITURE9WFwIZfXULt/Zw4u0ujKmTNn5GNScLl06RJ0Op0idRERmcPgQi7PFdv9S6SpovPnz6O8vBwAEBYWBn9/fwghjHq8EBGpAYMLuTxzweXBBx/EvHnzMGTIECXKsouwsDAEBQVBCCGvadFoNFznQkSqxc655NIqKyuRlZUFoG5wSU1NRWpqqhJl2Y1Go0F8fDz279+P06dPIzExEQCwbNkyeHl5oXPnzgpXSERkjMGFXFpmZiYMBgM8PT3lFviupmPHjti/f7/ROpcBAwYoWBERkXmcKiKXVnOayM3txsehuLgYP/74o9FuG2dlamcREZFaccSFXJq59S1HjhzBDXLMqAAAIABJREFUHXfcgXbt2iE9PV2J0uzGVHDJz8/H6tWrUVxcjDlz5ihVGhFRHRxxIZfmyjuKJKaCS0lJCWbMmIHXX38dVVVVSpVGRFQHgwu5NFduPieRtkTn5uaiuLgYABAdHQ2tVouKigpkZmYqWR4RkREGF3Jp5kZWXCm4BAYGIjw8HMCNRnTu7u5o164dAHbQJSJ1YXAhl9bQDRZdIbgA9bf+Zy8XIlITBhdyWUIIsyMrrjTiAjC4EJHjYHAhl5WTk4PS0lK4ubkhNjZWPl5foHFWpoILu+cSkRpxOzS5LGntRtu2beHp6SkfNxgM+PDDD3H+/HmX2FUE3Figa+pmi1zjQkRqwuBCLkv6JS390pa4u7tj/PjxSpSkmJojLkIIaDQaDBw4EPv27ZMDDBGRGnCqiFyWNJIgTYm4sg4dOkCj0aCoqAiXL18GAAQHB6N3794ICQlRuDoiohsYXMhlmQsux44dw48//ohLly4pUZYivL295fU8bP1PRGrG4EIuy9xU0SeffII77rgD77//vhJlKUaaLqq5zmX9+vV45pln8NNPPylUFRGRMQYXcklCCLMjLq62o0giBbiaIy7fffcd3n//ffz8889KlUVEZITBhVxSbm4uSkpK4ObmJneIlbjSfYpqqq+XC3cWEZFaMLiQS5J+EcfExMDLy8voMVcdcWETOiJyBAwu5JLMTROVlpaioKAAgOsGl7S0NBgMBgAMLkSkPgwu5JKkBajm1rcEBQUhKCjI7nUpKSYmBlqtFuXl5fKOKun61LxzNBGRkhhcyCVJIy61dxS56jQRAHh4eMgjLNJ0UVBQEKKiogAAJ06cUKw2IiIJgwu5JHNTRT169MCqVaswa9YsJcpSnDRddOrUKflYYmIiAPZ3ISJ1YMt/cjlCCLNTRZGRkXjkkUeUKEsVOnfujA0bNhiNrnz00UcIDAxEaGiogpUREVVjcCGXc/nyZVy7dg0ajQbt27dXuhxV6d69OwDgjz/+kI/xGhGRmnCqiFyONE0UHR0Nb29vo8dWrVqF//73vygvL1eiNMVJweXIkSMQQihcDRFRXQwu5HLMTROVl5dj4sSJGDp0qMvuoOnUqRM8PT1x7do1eaGyEALPPfcchg8fjitXrihcIRG5OlUFl4ULFyI5ORkBAQFo1aoV7r77bqNFgkTWYG5HUVpaGoQQCAoKQlhYmBKlKU6r1aJLly4AbkwXaTQarF27Fj/88AOOHz+uZHlEROoKLjt37sTUqVOxd+9ebN26FXq9HsOGDUNpaanSpZETMbejSArJnTp1gkajsXtdalFzukjStWtXANV3ziYiUpKqFuf+8MMPRn/+7LPP0KpVKxw8eBCDBg1SqCpyNuamiqTtvp06dbJ7TWpiKrgkJiZi8+bNHHEhIsWpasSltqKiIgBAy5YtFa6EnEXNu0LXniqSRlykXiau6qabbgJgvLOIIy5EpBaqGnGpSQiBmTNnYuDAgfIPzdp0Oh10Op38Z2lBZWVlJSorK61aj3Q+a5+XjNn6Oufn58uBODo62uh1/vzzTwDV9+dx9r/n+q5z586dAVRPqRUWFsLPz08ehTp+/LjTXxtr4s8N++B1th9bXeumnE+1weWpp57CkSNHsGvXLrPPWbhwIebNm1fn+JYtW+Dr62uTurZu3WqT85IxW11nKZyEhIRgx44d8nEhhDwNkpeXh82bN9vk9dXG3HUODg5GYWEhVqxYgfj4eOh0Omg0GuTn52PNmjUIDg62c6WOjT837IPX2X6sfa2vX7/e6OeqMrg8/fTT2LBhA37++We0adPG7PNeeOEFzJw5U/5zcXExoqOjMWzYMAQGBlq1psrKSmzduhVDhw6FVqu16rnpBltfZ2k7b7du3TBixAj5uBACmzZtwunTp/HXv/4VPj4+Vn9tNWnoOicnJ2Pr1q0ICAiQr1P79u2Rn5+PTp06oVevXvYu2SHx54Z98Drbj62udVNaUKgquAgh8PTTT2P9+vX46aef0K5du3qf7+XlBS8vrzrHtVqtzd68tjw33WCr65yRkQGgen1L7fOnpKQgJSXF6q+pZuau80033YStW7fi+PHj8uP79+9HcHCwS++4shR/btgHr7P9WPtaN+VcqgouU6dOxZo1a/Cf//wHAQEByMnJAVB9h1pn/xcw2Ye5HUVkzNTOohYtWihVDhGRTFW7ipYvX46ioiIMHjwYkZGR8n9r165VujRyEuZ2FH333Xf4+OOPeQfk/6m5s4it/4lITVQVXIQQJv+bMGGC0qWRkzDXfG7FihV44oknsGXLFiXKUp2EhAR4eHigqKgIFy9eBFC9aPnuu+9Gr169GGaISDGqCi5EtlRQUICrV68CqN7yXJM00uLqPVwknp6e8rZoabooKCgImzZtwqFDh5CVlaVkeUTkwhhcyGVIoy2tW7c22i6v1+vlx1y9a25NtRvReXl5yVNsbERHREphcCGXYW6aKCMjA5WVlfDx8UF0dLQSpalSffcsYut/IlIKgwu5DKn5nLl7FHXs2BFubvxISMzdswjgiAsRKYc/pcllSFMe0i9kCe9RZJo0VXT69GmUlZUB4IgLESmPwYVchhRcpF/IEim4cH2LsfDwcISFhcFgMMhBRRpxOXHiBAwGg5LlEZGLYnAhl3D16lVcuHABQN0Rl1dffRU7duzAI488okRpqqXRaOpMF8XFxSE4OBgJCQkoLCxUsjwiclGq6pxLZCvSL962bdvW6QAbFhaGwYMHK1CV+t10003Ytm2bfP20Wi2uXLnCtv9EpBiOuJBLMDdNRPWTRlyk6weAoYWIFMXgQi7h8OHDAOoGl7S0NMyePZu3lTCjZnCp3S23srJSiZKIyMUxuJBLMDfi8ttvv2Hx4sX44IMPlChL9bp06QJPT09cvXoV6enpAKp3GfXo0UPurEtEZE8MLuT09Hq9vCumR48eRo9JPVy4o8g0Ly8vJCUlAQB+/fVXAEBkZCSOHj2Ks2fPIjs7W8nyiMgFMbiQ0zt16hR0Oh38/f3Rrl27Oo8B7OFSn4EDBwIAdu3aBQAICAiQ+7ns2bNHsbqIyDUxuJDTq9l4rnZnXPZwadiAAQMA3AguANCvXz8ADC5EZH8MLuT0zC3M1ev18m0AEhIS7F6Xo+jfvz8A4OTJk8jPzwfA4EJEymFwIacnjbjUXt9y4sQJlJWVISAgoM79i+iG0NBQeSHu7t27AdwILgcOHEBFRYVitRGR62FwIadnbkeRdLxXr168uWIDpHUu0gLdjh07omXLltDpdPKIFhGRPbBzLjm13Nxc5ObmQqPRyAtKJePGjcOtt97K1vWNMGDAAKxYsUJe56LRaP5/e/cd1uS5/gH8GzIAwwaFoFRFrOJRQbHWgcWNWqHqaa31FHH9HHVTV9WqdVRLW7XOKsdWe+qlrVo63Ks4UFEZWgVHQUYryBAhgQAheX5/cPIewg6QhIT7c135gzfv8+TOk5DcedaLt99+GwUFBTA3NzdwdISQ5oQSF2LS1L0qHTt2hFgsrnR/69at0bp1a32HZXTUPS63b9+GXC6HpaUl9u7da+CoCCHNEfWPE5NW3cRcoh13d3e4uLhAoVDgzp07hg6HENKMUeJCTFp1E3Pv3buHgIAAbNu2zRBhGR0ej1dpPxcAUKlUuH//PqRSqaFCI4Q0M5S4EJNW3cTcyMhInDhxAmfOnDFEWEap4gRdABgwYAC6deuGCxcuGCosQkgzQ4kLMVlFRUXcPi0VExf1cId6O3tSO/VGdJGRkVCpVADATXi+efOmweIihDQvlLgQk/XgwQMolUo4ODhUmoB7+/ZtAMBrr71miNCMkre3N8RiMV6+fIn4+HgAtBEdIUT/KHEhJqv8/BYej8cdLyws5C66SIlL3QkEAvTp0wfA/+a5lN+ITqFQGCw2QkjzQYkLMVnVzW+JjY2FSqWCRCKBq6urIUIzWhUn6Hbs2BH29vaQy+VcexNCiC5R4kJMVnWJCw0T1V/5eS4AYGZmxvXC0DwXQog+0AZ0xCQxxqpNXPLz89GiRQuamFsPffr0gZmZGZKTk/HXX3+hTZs26Nu3L06fPo0bN25g7ty51ZZVKpXNbjhJoVBAIBCgqKgISqXS0OGYLGpn/alvWwuFQvD5/EaJgRIXYpIePnyIly9fwsLCAl26dNG4b/Xq1VixYgWKi4sNFJ3xsra2hre3N2JiYhAZGYl3330Xb775JhQKBYYOHVplGcYYMjIymuWlFRhjcHFxQVpamsY8K9K4qJ31pyFtbWdnBxcXlwa/RpS4EJN08eJFAGVzMkQiUaX7BQIBBAJ6+9eHr68vYmJiEBERgXfffRc9e/ZEz549qz1fnbS0atUKLVq0aFZfLCqVCjKZDFZWVnQhTx2idtaf+rQ1YwyFhYXIzMwEAEgkkgbFQJ/cxCRdunQJADB48GCN44yxZvXFqQvDhw/H9u3b8euvv2LXrl01fngplUouaXF0dNRjlE2DSqVCSUkJLCws6AtVh6id9ae+bW1paQkAyMzMRKtWrRo0bESvMDE5SqUSERERAConLl988QU8PT2xa9cuA0RmGoYMGQIrKys8e/aMm+hcVFSEEydOVGpX9ZyWFi1a6D1OQkjTov4caOhcN0pciMmJi4tDbm4ubGxs4OPjo3HfrVu38PDhQxQWFhooOuNnYWGBUaNGAQB+/vlnAMCjR48QEBCAJUuWVNm21MtFCGmszwFKXIjJUQ8T+fn5VZrHou4hoBVFDTN27FgAQHh4OACge/fuaNu2LeRyOTe/iBBCdIESF2JyqpvfkpWVhZSUFACocTIpqd2oUaMgEonw6NEjJCQkgMfjITAwEADw66+/Gjg6Qogpo8SFmJSSkhJcvXoVQOXERX1hxU6dOsHW1lbvsZkSGxsbDBkyBMD/el3Uictvv/3GXYSRNL6BAwdi4cKFhg6j3irGzxjDjBkz4ODgAB6Ph7i4OANG1zBN4bXJyclBq1atkJycrNfHffvtt7Flyxa9PBYlLsSk3Lp1CwUFBXBycuKuXKx2/fp1ADRM1FgqDhe98cYbsLGxwfPnz7khOWM2efJk8Hg87ubo6IgRI0bg3r17hg7NqP30009Yv3499/eZM2dw4MABnDhxAunp6ZX+b41JxefW2N544w2N96SDgwPGjBmDrKws7pxNmzYhICAA7dq1445duXIFAQEBcHV1BY/H4+am1VX58nw+HydPnqx0zurVq7Fx40bk5+fX+/nVFSUuxKSoh4kGDRpUaaneiRMnAJQt5yUNFxgYCB6Phzt37iAtLQ0ikQgjR44EYDrDRSNGjEB6ejrS09Nx8eJFCAQCjB492tBhGTUHBwdYW1tzfycmJkIikaBfv35wcXGp1/5KJSUljRlivZSUlFR6bvWtpyqMMcTFxeGLL75Aeno6/v77bxw+fBiXLl3Chg0bAAByuRz79+/H9OnTNcoWFBTAy8sLO3furFdMdSnfvXt3tGvXDocOHarXY2iDEhdiUtSJi3oYQ02pVGLAgAFwd3fnVsSQhnF2dka/fv0A/G91kXq4yFR6JczNzeHi4gIXFxd4e3tj2bJlSEtL437hnjlzBr6+vrCzs4OjoyNGjx6NxMREjTp++eUXeHl5wdLSEo6Ojhg6dCgKCgoAlH0ZhYaGwt3dHZaWlvDy8sKxY8e4sgUFBZg0aRKsrKwgkUjw5Zdf1inu4uJizJ8/H61atYKFhQV8fX01esEGDhyI+fPnY+nSpXBwcICLiwvWrl1bY53t2rXDtm3bNI55e3trlKtLveWHUyZPnox58+YhNTUVPB6P6yWoS/xz585FSEgInJyc4O/vD6BseHjevHlYuHAh7O3t4ezsjH379qGgoABTpkyBtbU1OnTogNOnT9f4XNX1z507l3ttV61aBcZYtTEMGzas0lBRbc+junqq8uTJE0ilUgwcOBAuLi5wdXWFv78/OnTowL2fTp8+DYFAwF21XW3kyJHYsGEDxo0bV+Pzrk5dywcGBuLw4cP1egxtUOJCTEZhYSFu3LgBoPL8Fj6fj+3btyMxMRFOTk6GCM8kVRwuCggIwMOHD/Hbb79VW4YxhoKCAr3fyn/p1IdMJsOhQ4fg4eHBbaZXUFCAkJAQ3L59GxcvXoSZmRnGjh3LzfFJT0/H9OnTMWXKFCQkJCAiIgLjxo3jYlm1ahW+/fZb7NmzBw8ePMCiRYvw/vvv4/LlywCAJUuW4Pfff0d4eDjOnTuHiIgIREdH1xrr0qVLcfz4cRw8eBAxMTHw8PCAv78/Xrx4wZ1z8OBBiMViREVFITQ0FOvWrcP58+cb1Eba1vvVV19h3bp1aNOmDdLT07kv9brGLxAIEBkZiT179mgcd3Jywq1btzBv3jzMnj0b77zzDvr164eYmBj4+/sjKCio1i0R1PVHRUVh+/bt2Lp1K/79739XeU5kZCT27t1bqY66PI+61AMA0dHREIlE6NatG4CypCgsLAxPnjzBrFmzAJQN6RhyKLx37964deuW7i+nwkxIXl4eA8Dy8vIave6SkhL2888/s5KSkkavm/xPQ9r53LlzDABr06YNU6lUOojOdDTW+zkxMZEBYHw+n2VnZ1e6Xy6Xs/j4eCaXy7ljMpmMAdD7TSaTafXcgoODGZ/PZ2KxmInFYgaASSQSFh0dXW2ZzMxMBoD98ccfjDHGbt++zQCwpKSkSufKZDJmYWHBrl+/rnF82rRp7L333mNSqZSJRCJ25MgR7r6cnBxmaWnJFixYUG0MMpmMCYVCdujQIe5YSUkJc3V1ZaGhoYwxxvz8/Jivr69Guddee40tW7as2nrbtm3Ltm7dqnHMy8uLrVmzhvu7LvX6+flpxL9161bWtm1breP39vbm7lcqlSw3N7fS45eWljKxWMyCgoK4Y+np6QwAu3HjRrXP1c/Pj3l6emp8jixbtox5enpqnFM+horPrS7Po7p6qrJ48WLG4/G49yOPx2POzs7s2rVr3DlvvfUWmzp1ao31AGDh4eG1Pl5N5b///numVCor3Xf37l0GgCUnJ1dZtqrPAzVtvr+px4WYjPLLoMtvdCSTyRAREYHS0lJDhWay3N3d0b17dyiVSm4OkZoptPegQYMQFxeHuLg4REVFYfjw4Rg5ciS3rD4xMRETJ06Eu7s7bGxs0L59ewBAamoqgLIrk/v5+cHLywvvvPMOwsLCkJubCwCIj49HUVERhg0bBisrK+723XffITExEYmJiSgpKdHo9ndwcECnTp1qjDkxMREKhQL9+/fnjgmFQvTu3RsJCQncse7du2uUk0gk3LVkGqKh9dY1/up6Fso/Pp/Ph6OjI9dLAZQNcQKoNaY+ffpofI707dsXT5480bgick29G3V9HrXVoxYdHY3x48dz78fIyEh07twZM2fO5GKSy+WwsLCotS5dUW/rr+sNPulaRcRkVDe/5dy5c/jnP/+JXr16mcRql6Zm7NixuHfvHsLDwxEcHIyioiJMmjQJFy5cqPQBDZRt+y2TyfQeZ30uOyAWi+Hh4cH97ePjA1tbW4SFhWHDhg0ICAiAm5sbwsLC4OrqCpVKha5du3ITLPl8PsLDw3H//n1cuHABO3bswMqVKxEVFcUNJ508eRKtW7fWeFxzc3Pk5OTU63my/w5DVdyllFW4TpdQKNS4n8fj1biM3czMrNJwW1Vbt2tbb0V1jV8sFldZvqrHL39MXUdjLNmvLgag7s+jtnrUYmNjsX79eu796OHhgcWLFyMgIAApKSlwd3eHk5MTlxgbgnoIrGXLljp9HOpxISbh5cuX3D4tgwYN0rhPPd/C19dX73E1B+p5LmfPnoVMJoOFhQUePHiA3Nxcbk+d8ng8HsRisd5vjbHdOI/Hg5mZGeRyOXJycpCQkIBVq1ZhyJAh8PT0rPJLg8fjoX///vjkk08QGxsLkUiE8PBwdOnSBebm5khNTYWHh4fGzc3NDR4eHhAKhbh58yZXV25uLh4/flxjjB4eHhCJRLh27Rp3TKFQ4M6dO/D09Kz3c2/ZsiXS09O5v/Pz8/H06dN611cdXcWvrfLtrv67Y8eOdb44YGM+j6SkJLx8+bLSxplJSUng8/lwcHAAAPTo0QPx8fFa1d2Y7t+/jzZt2uh8HiH1uBCTcOXKFahUKnTs2BFubm7c8fJDGAEBAYYKz6R1794dr776Kh4/fowDBw5g7ty5eOuttxAfH4+zZ8/iH//4h6FDrLfi4mJkZGQAKEsadu7cCZlMhoCAANjb28PR0RH79u2DRCJBamoqli9frlE+KioKp06dQkBAAFxcXBAVFYWsrCx4enrC2toaixcvxqJFi6BSqeDr64v8/Hxcv34dVlZWCA4OxrRp07BkyRI4OjrC2dkZK1eurPWKvGKxGLNnz8aSJUvg4OCAV155BaGhoSgsLMS0adPq3RaDBw/GgQMHuOf+8ccfN+gKv9XRVfzaSktLQ0hICGbOnImYmBjs2LGjzqu6gMZ9HtHR0eDxeHB2dkZGRgYKCgpw9epVrFmzBrNmzYKdnR0AwN/fHx999BFyc3Nhb2/PlZfJZPjzzz+5v58+fYq4uDgurtpULJ+SkoK4uDg4OTlplL969apetpugxIWYhDNnzgCovJooKioK2dnZsLW1xYABAwwRmsnj8XiYP38+5s6di23btmH27Nl47733sGnTJly8eBHz5883dIj1dubMGUgkEgCAtbU1OnfujKNHj2LgwIEAgCNHjmD+/Pno2rUrOnXqhO3bt3P3AWU7DN+4cQN79+5Ffn4+2rZtiy+//JLb72b9+vVo1aoVNm3ahKSkJNjZ2aFnz55YsWIFAODzzz+HTCZDYGAgrK2t8eGHHyIvL6/WuDdv3gyVSoWgoCBIpVL06tULZ8+e1fgy09ZHH32EpKQkjB49Gra2tli/fr1OelwA3cSvrUmTJkEul6N3797g8/mYN28eZsyYoVUdjfU8YmJiwBjjhons7e3RsWNHbNmyBcHBwdx53bp1Q69evfDjjz9i5syZ3PE7d+5o9ESHhIQAAIKDg3HgwAEAwIEDBzBlypQqV99VLL9y5UqsXLlSo3xRURHCw8Nx9uxZrZ5bvdR5KrERoFVFxq8+7VxYWMjs7OwYAHbmzBmN+5YvX84AsAkTJjR2qEatsd/PMpmM2dvbMwDsp59+YowxNmTIENa2bVsWGRlZ5SqC5kC92qWqFRik8TR2O1dc+WRMTp48yTw9PbVuizVr1jA/P79az6uurXfu3MmGDRtWY1laVUTIfx0/fhwvX75E27ZtK23epJ7fQsNEuiUWi7m9JNTd6YsWLQIASKVSjZUYhBDdGTVqFGbOnIm///5bq3Jnz55FaGhovR9XKBRix44d9S6vDUpciNFTbwo1depUjfH/pKQkPHjwAHw+n+uaJ7ozd+5cCIVCREZGIioqCiNHjkT79u3BGDPoSgdCmpsFCxZozPWrixs3bqB37971fswZM2bUulS/sVDiQoza48ePcfnyZZiZmWHKlCka97Vr1w537tzB3r179To23ly5urpi4sSJAIAtW7bAzMwMc+bMgZ2dHTd5kBBjEBERUenyBqTpoMSFGLX9+/cDKLsYXsVfGGZmZvDx8dHrSoTmTj08dOzYMSQnJ3MTOetz4TxCCKkKJS7EaCkUCm5G+//93/9p3McaeF0aUj9eXl4YOnQoVCoVtm/fbuhwCCEmiBIXYrR+++03ZGZmwtnZGW+++abGfUuXLsWECRPw8OFDA0XXfH344YcAyuYeSaVSAEBeXh4SEhJ0vhU4IcT0UeJCjJZ6Uu7kyZM1tvTOzs7G7t278cMPPyA5OdlA0TVf/v7+6NKlC6RSKX788UcAZbusFhQU4Pnz5waOjhBi7ChxIUYpNTWV23Su4hyWr776CoWFhfDx8YG/v78hwmvWeDweFi9eDADYvXs3SktL4ejoCKDsWibq6/gQQkh9UOJCjNK3334LxhgGDhyIjh07csfz8vK4vQRWrFjRKNenIdqbNGkS+vbti4KCAuTk5MDS0hJWVlZgjCElJYXmIBFC6o0SF2J0lEolvvnmGwCVJ+Xu3r0beXl58PT0xJgxYwwRHkHZVZG/+eYbiEQiFBUVcRsE8ng85OXl1fvKx4QQQokLMTrbt29HamoqHBwcMG7cOO54YWEhtm7dCqDsuiq1XYyO6Fbnzp2xYMECAEB6ejr4fD5cXV0BlF3AjoaMCCH1QZ/sxKg8ffoUq1atAgBs2rQJFhYW3H3ffPMNsrKy0L59e7z33nuGCpGUM3nyZIhEIqhUKqSkpMDZ2RlisRhKpRIvXrwwdHiEECNEu0IRo8EYw4wZM1BYWAg/Pz9Mnz5d4/7g4GDI5XK0bt2aNjxrIvh8PpycnKBQKJCXl4cXL16gXbt2kMvlcHBwMHR4hBAjRD0uxGgcPHgQFy5cgIWFBcLCwioNBVlbW2PJkiXctvOkaRAKhWjZsiWAsiEiHo9HSUsDDBw4EAsXLjR0GFppCjHn5OSgVatWet0i4e2338aWLVv09njNBSUuxCg8f/4cISEhAIC1a9dqrCS6d+8e8vPzDRUaqYOWLVtyQ0SPHj2CXC4HULb78V9//dUkrx49efJk8Hg87ubo6IgRI0bg3r17hg7N6Pz0009Yv369Tup+4403wOfzYW9vDz6fDwcHB4wZMwZZWVka523atAkBAQFo164dgLLPkfKvL4/Hg4uLS50fty7lV69ejY0bN9LnUyOjxIUYhXnz5iE3Nxc9evTgdmYFgJSUFAwbNgx9+/ZFWlqaASMkNeHxePDw8IClpSUUCgUePXqEgoICPHz4EBkZGXj06BEUCoWhw6xkxIgRSE9PR3p6Oi5evAiBQIDRo0cbOiyjoZ6A7eDgAGtr6wbXUxFjDHFxcfj888/x8OFDpKWl4fDhw7h06RI2bNjAnSeXy7F///5Kw8v/+Mc/uNc3PT0df/zxh1Zx1Va+e/fuaNeuHQ4dOqRVvaTecSNPAAAZvklEQVRmlLiQJu/YsWM4evQo+Hw+9u/fz81fkclkCAwMRGZmJkQiEQ0/NHFCoRCdOnVCixYtUFpaiidPnsDV1RUCgQCFhYV49OhRk1tpZG5uDhcXF7i4uMDb2xvLli1DWloa92v+zJkz8PX1hZ2dHRwdHTF69GgkJiZq1PHLL7/Ay8sLlpaWcHR0xNChQ1FQUACg7Is3NDQU7u7usLS0hJeXF44dO8aVLSgowKRJk2BlZQWJRIIvv/yyTnEXFxdj/vz5aNWqFSwsLODr64vbt29z9w8cOBDz58/H0qVL4eDgABcXF6xdu7bGOgcOHIi5c+di7ty53PNdtWqVxp486nNCQkLg5OSEYcOGccfLDxXVJb6q6qnoyZMnkEql8PPzg7OzM1xdXeHv748OHTpwbQwAp0+fhkAgQN++fTXKCwQC7vV1cXHhhjTrqi7lAwMDcfjwYa3qJTWjxIU0aQcPHuRWCC1evBg9evQAAKhUKgQFBeHevXtwdnbGL7/8ArFYbMhQSR0IBAK8+uqrEIvFkEqlePToERwcHFBaWorc3FzExsbixYsXKCoq0ihXUFBQ7U097FTTuY1BJpPh0KFD8PDw4HYCLigoQEhICG7fvo2LFy/CzMwMY8eOhUqlAlC2DHz69OmYMmUKEhISEBERgXHjxnFf9qtWrcK3336LPXv24MGDB1i0aBHef/99XL58GQCwZMkS/P777wgPD8e5c+cQERGB6OjoWmNdunQpjh8/joMHDyImJgYeHh7w9/fXWMl18OBBiMViREVFITQ0FOvWrcP58+drrPfgwYMQCASIiorC9u3bsXXrVu7SGxXPiYyMxN69exsUX231REdHQyQSoVu3bgDKEqKwsDA8efIEs2bN4s67cuUKevXqVam8Onlu3749JkyYgKSkpBqff33K9+7dG7du3UJxcbFWdZMaMBOSl5fHALC8vLxGr7ukpIT9/PPPrKSkpNHrJv+jbufi4mK2evVqBoABYBMmTGDFxcWMMcZUKhVbvnw5A8BEIhG7fv26gaM2Pvp6P8vlchYfH8/kcrnG8dLSUu61reo2bNgwplKpuPNbtGhR7bl+fn4adTs5OVU6pz6Cg4MZn89nYrGYicViBoBJJBIWHR1dbZnMzEwGgP3xxx+MMcZu377NALCkpKRK58pkMmZhYVHp/Ttt2jT23nvvMalUykQiETty5Ah3X05ODrO0tGQLFiyoNgaZTMaEQiE7dOgQd6ykpIS5urqy0NBQxhhjfn5+zNfXV6Pca6+9xpYtW1ZtvX5+fszT01PjdVm2bBnz9PTUOMfb27vKsuqY6xpfVfVUtHjxYsbj8bjXiMfjMWdnZ3bt2jWN89566y02depUjWOnTp1ix44dY/fu3WPnz59nfn5+zNnZmWVnZ9f6uNqUv3v3LgPAkpOT61RvU6dUKllubi5TKpVal63u84Ax7b6/qceFNDkKhQJTp07FunXrAJRt3X/o0CGIRCJkZ2dj1KhR2Lx5MwAgLCysUvcvafr4fH6N9zeVIaNBgwYhLi4OcXFxiIqKwvDhwzFy5EikpKQAABITEzFx4kS4u7vDxsYG7du3B1B2LS0A8PLygp+fH7y8vPDOO+8gLCwMubm5AID4+HgUFRVh2LBhsLKy4m7fffcdEhMTkZiYiJKSEo33t4ODAzp16lRjzImJiVAoFOjfvz93TCgUonfv3khISOCOde/eXaOcRCJBZmZmjXX36dNH4zIaffv2xZMnTzQmV1fVs1Gf+GqrByjrcRk/fjxiYmJw5coVXL16FZ07d8bMmTM1YpLL5Rp7PgHAyJEj8c9//hPdunXD0KFDcfLkSQBlPT11UdfylpaWAEBXRm9EtNkFaVJu376NtWvX4sGDB+Dz+fj66681JtTZ2Njgr7/+gkgkwmeffYZJkyYZMFrSEDKZDAAglUqRmprKdaULhUI4OztDpVKBz+ejtLSUe82rUnFZfGMudxWLxfDw8OD+9vHxga2tLcLCwrBhwwYEBATAzc0NYWFhcHV1hUqlQteuXbnEi8/nIzw8HPfv38eFCxewY8cOrFy5ElFRUdxw0smTJ9G6dWuNxzU3N6/3ZRHYf4ehKl6nizGmcaz8FdXV56tjaojahmzrGl9dhn5jY2Oxfv16eHh4ID8/HzY2Nli8eDECAgKQkpICd3d3AICTkxOXMNYUd7du3fDkyZNaH1eb8urhL23nz5DqNckel927d6N9+/awsLCAj48Prl69auiQiA4plUr89NNP8PX1Rf/+/fHgwQNYW1vj5MmT+Ne//oXTp09zXwQikQjff/897t27Z/B9IUjDiMViiMViuLi4oFevXujYsSPEYjEEAgFycnJw9+5dPH36FE+fPkViYiLS0tIgk8kgFAq5smKxmPtFW7He8rfGwuPxYGZmBrlcjpycHCQkJGDVqlUYMmQIPD09q/xy5PF46N+/Pz755BPExsZCJBIhPDwcXbp0gbm5OVJTU+Hh4aFxc3Nzg4eHB4RCIW7evMnVlZubi8ePH9cYo4eHB0QiEa5du8YdUygUuHPnDjw9PRv0/MvHov67Y8eOtfag6SK+pKQkvHz5Ej179qx0XL0sWq1Hjx6Ij4+vsb7i4mIkJCRAIpHUOYa6lL9//z7atGkDJyenetVLKmtyPS4//PADFi5ciN27d6N///7Yu3cvRo4cifj4eLzyyiuGDo80AvbfKwTfuXMHt2/fxtGjR/H06VMAZZM3X3/9dYwcORJ79+7FuHHjUFhYiA0bNmDlypUAyrrfiWkxMzODi4sLHBwckJWVhRcvXqC4uFij10Emk0EmkyEtLY272rRYLNbpF0JxcTEyMjIAlCUNO3fuhEwmQ0BAAOzt7eHo6Ih9+/ZBIpEgNTUVy5cv1ygfFRWFU6dOISAgAC4uLoiKikJWVhY8PT1hbW2NxYsXY9GiRVCpVPD19UV+fj6uX78OKysrBAcHY9q0aViyZAkcHR3h7OyMlStX1noNLrFYjNmzZ2PJkiVwcHDAK6+8gtDQUBQWFmLatGkNao+0tDSEhIRg5syZiImJwY4dO+q80qmx44uOjgaPx4OzszMyMjLw/PlzxMbGYs2aNZg1axbs7Oy4c/39/fHRRx8hNzcX9vb2AMD1zLzyyivIzMzEhg0bkJ+fj+Dg4Do9fl3LX716FcOHD6/z8yK1a3KJy5YtWzBt2jRueGDbtm04e/Ys9uzZg02bNhkkpoKCAiQlJSEhIQF2dnZVbidvZ2cHKysrAEBRURGys7Orrc/W1pbb06C4uLjSRknlWVtbw9bWFkDZuH9NY9Dlz1UoFHj+/Hm151pZWXH/2EqlEunp6dx9rNzyRgBo0aIF7O3twRiDSqXCs2fPuHIqlQqlpaVQKpVQKpXg8/mwtLREUVER5HI5Hj58iKysLGRnZyMnJwdZWVl4/PhxpQ2Z7O3tYW5ujsLCQkRGRiIyMpK7r02bNnj58mWlrmRiekQiEVq3bg1XV1cUFBQgJycHubm5KC0t1ThPLpdDLpcjKysLz58/h0gkglAohFQqBVCWAAsEAvD5fJiZmYHP50MoFHL/ozwej1u5VHETMaAskVIqlThz5gz3C9ra2hodO3bEd999Bx8fHxQUFOCbb77B0qVL0bVrV7z66qv48ssvMXz4cMjlcq536Nq1a/j6668hlUrh5uaGzz77DIMHD0ZxcTGWL18OW1tbbNy4EcnJybC1tYW3tzc+/PBDyGQybNiwAXl5eQgMDISVlRXmzZuHFy9eQKFQcENtauWHfj7++GMUFxfj/fffh0wmQ48ePRAeHg6hUAiZTAaVSgWlUoni4mKUlpaCMYbS0tIa61WpVJg4cSLy8/PRu3dv8Pl8zJw5ExMnTuTKlK9X/fkAlH1WlK971apVKCkpQVBQEKRSKXr27KkRX8XzBQIB99qo67158yYYY9xQnp2dHTp06IDPPvsMQUFBGjG0b98ePXr0wH/+8x9MnToVQNmQ4oQJE5CTk4OWLVvitddew6VLl+Do6Mg97vfff4/Zs2dDKpVqxKBSqTTKOzk5aZSXy+UwMzNDUVERwsPDER4eXqld1dTv0fLtV53y56pfs+qo3/eNfS6Px6vxfn3gsYrfUgZUUlKCFi1a4OjRoxg7dix3fMGCBYiLi+OWCKoVFxdrLDHLz8+Hm5sbsrOzYWNj02hx/fDDDwgKCmq0+kgZW1tbjB8/Hn379sWYMWMgkUi417Nbt24IDAxEYGAgvL29KWFpZAqFAufPn8ewYcMqzXVoTEVFRUhLS0O7du0qTY7Utp7CwkIUFhZCJpNBLpdXSrCJbs2cOROvvvqqxgaQxiQyMhJfffUVjhw5Uucrx+/btw/R0dHVLseuzY8//ogrV65g586d9SrfVFlZWaFjx45afy4XFRUhOTkZbm5ulT4P8vPz4eTkhLy8vFq/v5tUj0t2djaUSiWcnZ01jqu7AivatGkTPvnkk0rHz507hxYtWjRaXPfu3YNAIKgxy+Tz+VzGqu6F0Pe5ZmZmXG8QY6zGnUjrc676TVrTfgQWFhZwcnLifgH/+eef3K8E9a9gsVgMOzs7dOnSBW+++SaAsn0WVqxYAXt7ezg7O8Pc3BwAuB0piW7Utm9HQ6k36JLJZA1eKSQQCGBjYwMbGxuu96+0tJS7qX/pq3+1qlQqMMY0Epy6/qoEyt736rK1JUnlP8BN+dzaNLV4y5/bv39/pKamIjMzk9uav7Z6b968ySVq9YlBKBRiyZIlNZ5b37oNfa66d1MbJSUlkMvluHLlSqX/P21WXTWpHpdnz56hdevWuH79usYSwI0bN+I///kPHj58qHG+vnpcAP39Qm3uqJ31w9h6XIwVYwxSqRTW1tZG32s4ePBgeHl5YevWrYYOpRJTauemriFtbZI9Lk5OTuDz+ZV6VzIzMyv1wgBlSwbVv8zLEwqFOvsw1mXd5H+onfVD1+2sVCq5lTh17Z43Jeo5Huo2MGYRERGGDqFaptTOTV1D2trMzAw8Hq/Kzx1tPoea1CssEong4+NTqfv6/Pnz6Nevn4GiIoQQQkhT0aR6XAAgJCQEQUFB6NWrF/r27Yt9+/YhNTVV47oThBBCCGmemlzi8u677yInJwfr1q1Deno6unbtilOnTqFt27aGDo0QQgghBtbkEhcA+OCDD/DBBx8YOgxCCCGENDFNao4LIcQ0NaHFi4QQA2mszwFKXAghOqNeKUBXxiWEqD8HGrqSsUkOFRFCTAOfz4ednR13qYoWLVo0q302VCoVSkpKUFRURMt0dYjaWX/q09aMMRQWFiIzMxN2dnZaXZSzKpS4EEJ0Sr1LaU3X2TJVjDHI5XJYWlo2q4RN36id9achbW1nZ8d9HjQEJS6EEJ3i8XiQSCRo1apVjZeWMEUKhQJXrlzBG2+8QRsq6hC1s/7Ut62FQmGDe1rUKHEhhOhF+etuNRd8Ph+lpaWwsLCgL1QdonbWn6bQ1jQYSAghhBCjQYkLIYQQQowGJS6EEEIIMRomNcdFvblNfn5+o9etUChQWFiI/Px8GkPVIWpn/aB21g9qZ/2gdtYfXbW1+nu7LpvUmVTiIpVKAQBubm4GjoQQQggh2pJKpbC1ta3xHB4zob24VSoVnj17Bmtr60Zfy5+fnw83NzekpaXBxsamUesm/0PtrB/UzvpB7awf1M76o6u2ZoxBKpXC1dW11o3tTKrHxczMDG3atNHpY9jY2NA/hh5QO+sHtbN+UDvrB7Wz/uiirWvraVGjybmEEEIIMRqUuBBCCCHEaPDXrl271tBBGAs+n4+BAwdCIDCpEbYmh9pZP6id9YPaWT+onfXH0G1tUpNzCSGEEGLaaKiIEEIIIUaDEhdCCCGEGA1KXAghhBBiNChxIYQQQojRoMSlnN27d6N9+/awsLCAj48Prl69WuP5x48fR5cuXWBubo4uXbogPDxcT5EaN23aOSwsDAMGDIC9vT3s7e0xdOhQ3Lp1S4/RGi9t389qR44cAY/Hw5gxY3QcoWnQtp1fvnyJOXPmQCKRwMLCAp6enjh16pSeojVe2rbztm3b0KlTJ1haWsLNzQ2LFi1CUVGRnqI1TleuXEFAQABcXV3B4/Hw888/11rm8uXL8PHxgYWFBdzd3fH111/rPlBGGGOMHTlyhAmFQhYWFsbi4+PZggULmFgsZikpKVWef/36dcbn89mnn37KEhIS2KeffsoEAgG7efOmniM3Ltq288SJE9muXbtYbGwsS0hIYFOmTGG2trbsr7/+0nPkxkXbdlZLTk5mrVu3ZgMGDGBvvfWWnqI1Xtq2c3FxMevVqxcbNWoUu3btGktOTmZXr15lcXFxeo7cuGjbzt9//z0zNzdnhw4dYk+fPmVnz55lEomELVy4UM+RG5dTp06xlStXsuPHjzMALDw8vMbzk5KSWIsWLdiCBQtYfHw8CwsLY0KhkB07dkyncVLi8l+9e/dms2bN0jjWuXNntnz58irPHz9+PBsxYoTGMX9/fzZhwgSdxWgKtG3nikpLS5m1tTU7ePCgLsIzGfVp59LSUta/f3/273//mwUHB1PiUgfatvOePXuYu7s7Kykp0Ud4JkPbdp4zZw4bPHiwxrGQkBDm6+ursxhNTV0Sl6VLl7LOnTtrHJs5cybr06ePLkNjNFQEoKSkBNHR0Rg+fLjG8eHDh+P69etVlrlx40al8/39/as9n9SvnSsqLCyEQqGAg4ODLkI0CfVt53Xr1qFly5aYNm2arkM0CfVp519//RV9+/bFnDlz4OzsjK5du+LTTz+FUqnUR8hGqT7t7Ovri+joaG5YOSkpCadOncKbb76p83ibk+q+B+/cuQOFQqGzx6UtBgFkZ2dDqVTC2dlZ47izszMyMjKqLJORkaHV+aR+7VzR8uXL0bp1awwdOlQXIZqE+rRzZGQk9u/fj7i4OH2EaBLq085JSUm4dOkS/vWvf+HUqVN48uQJ5syZg9LSUqxevVofYRud+rTzhAkTkJWVBV9fXzDGUFpaitmzZ2P58uX6CLnZqO57sLS0FNnZ2ZBIJDp5XEpcyuHxeBp/M8YqHWvI+aRMfdstNDQUhw8fRkREBCwsLHQVnsmoaztLpVK8//77CAsLg5OTk77CMxnavJ9VKhVatWqFffv2gc/nw8fHB8+ePcPnn39OiUsttGnniIgIbNy4Ebt378brr7+OP//8EwsWLIBEIsHHH3+sj3Cbjapel6qONyZKXAA4OTmBz+dXyt4zMzMrZZNqLi4uWp1P6tfOal988QU+/fRTXLhwAd27d9dlmEZP23ZOTExEcnIyAgICuGMqlQoAIBAI8OjRI3To0EG3QRuh+ryfJRIJhEIh+Hw+d8zT0xMZGRkoKSmBSCTSaczGqD7t/PHHHyMoKAjTp08HAHTr1g0FBQWYMWMGVq5cCTMzmiXRGKr7HhQIBHB0dNTZ49KrB0AkEsHHxwfnz5/XOH7+/Hn069evyjJ9+/atdP65c+eqPZ/Ur50B4PPPP8f69etx5swZ9OrVS9dhGj1t27lz5874448/EBcXx90CAwMxaNAgxMXFwc3NTV+hG5X6vJ/79++PP//8k0sMAeDx48eQSCSUtFSjPu1cWFhYKTnh8/lgZQtSdBZrc1Pd92CvXr0gFAp198A6nfprRNTL7fbv38/i4+PZwoULmVgsZsnJyYwxxoKCgjRmsEdGRjI+n882b97MEhIS2ObNm2k5dB1o286fffYZE4lE7NixYyw9PZ27SaVSQz0Fo6BtO1dEq4rqRtt2Tk1NZVZWVmzu3Lns0aNH7MSJE6xVq1Zsw4YNhnoKRkHbdl6zZg2ztrZmhw8fZklJSezcuXOsQ4cObPz48YZ6CkZBKpWy2NhYFhsbywCwLVu2sNjYWG7Z+fLly1lQUBB3vno59KJFi1h8fDzbv38/LYfWt127drG2bdsykUjEevbsyS5fvszd5+fnx4KDgzXOP3r0KOvUqRMTCoWsc+fO7Pjx43qO2Dhp085t27ZlACrd1qxZo//AjYy27+fyKHGpO23b+fr16+z1119n5ubmzN3dnW3cuJGVlpbqOWrjo007KxQKtnbtWtahQwdmYWHB3Nzc2AcffMByc3MNELnx+P3336v8vFW3bXBwMPPz89MoExERwXr06MFEIhFr164d27Nnj87j5DFG/WaEEEIIMQ40x4UQQgghRoMSF0IIIYQYDUpcCCGEEGI0KHEhhBBCiNGgxIUQQgghRoMSF0IIIYQYDUpcCCGEEGI0KHEhhBBCiNGgxIUQQgghRoMSF0JIk3bt2jUIhUIUFxdzx54+fQoej4eUlBQDRkYIMQRKXAghTVpcXBw8PT1hbm6ucczOzg5t27Y1YGSEEEOgxIUQ0qTdvXsXPXr00DgWFxcHLy8vA0VECDEkSlwIIU1aXFwcvL29NY7FxsZS4kJIM0WJCyGkyVIqlXjw4EGlHpeYmJhKyQwhpHmgxIUQ0mQ9evQIcrkcrq6u3LEbN27g77//ph4XQpopSlwIIU1WXFwcAGDHjh148uQJTp8+jUmTJgGAxiojQkjzQYkLIaTJiouLw7Bhw/D06VN07doVK1aswObNm2FjY4Ndu3YZOjxCiAHwGGPM0EEQQkhV/P390bNnT2zatMnQoRBCmgjqcSGENFl3795F9+7dDR0GIaQJocSFENIkZWRk4Pnz55S4EEI00FARIYQQQowG9bgQQgghxGhQ4kIIIYQQo0GJCyGEEEKMBiUuhBBCCDEalLgQQgghxGhQ4kIIIYQQo0GJCyGEEEKMBiUuhBBCCDEalLgQQgghxGhQ4kIIIYQQo0GJCyGEEEKMxv8DqrGh8uuvitgAAAAASUVORK5CYII='></img>"
               },
               "type": "node"
              }
             ],
             "instanceArgs": {
              "namespace": "html",
              "tag": "div"
             },
             "nodeType": "DOM",
             "props": {
              "className": "interact-flex-row interact-widget"
             },
             "type": "node"
            }
           }
          },
          "systemjs_options": null
         },
         "nodeType": "Scope",
         "props": {},
         "type": "node"
        }
       ],
       "instanceArgs": {
        "namespace": "html",
        "tag": "div"
       },
       "nodeType": "DOM",
       "props": {},
       "type": "node"
      },
      "text/html": [
       "<div\n",
       "    class=\"webio-mountpoint\"\n",
       "    data-webio-mountpoint=\"16985628134298901014\"\n",
       ">\n",
       "    <script>\n",
       "    if (window.require && require.defined && require.defined(\"nbextensions/webio-jupyter-notebook\")) {\n",
       "        console.log(\"Jupyter WebIO extension detected, not mounting.\");\n",
       "    } else if (window.WebIO) {\n",
       "        WebIO.mount(\n",
       "            document.querySelector('[data-webio-mountpoint=\"16985628134298901014\"]'),\n",
       "            {\"props\":{},\"nodeType\":\"DOM\",\"type\":\"node\",\"instanceArgs\":{\"namespace\":\"html\",\"tag\":\"div\"},\"children\":[{\"props\":{\"className\":\"field interact-widget\"},\"nodeType\":\"DOM\",\"type\":\"node\",\"instanceArgs\":{\"namespace\":\"html\",\"tag\":\"div\"},\"children\":[{\"props\":{},\"nodeType\":\"Scope\",\"type\":\"node\",\"instanceArgs\":{\"imports\":{\"data\":[{\"name\":\"knockout\",\"type\":\"js\",\"url\":\"\\/assetserver\\/770a4105885e188380f0560e309f836e0282fbc9-knockout.js\"},{\"name\":\"knockout_punches\",\"type\":\"js\",\"url\":\"\\/assetserver\\/20a2690722e74a76875c5ae3530aa6a4f9754d2c-knockout_punches.js\"},{\"name\":null,\"type\":\"js\",\"url\":\"\\/assetserver\\/c7413e4ebee4c05e590578d485665977c12291d0-all.js\"},{\"name\":null,\"type\":\"css\",\"url\":\"\\/assetserver\\/921df7af813895b8966b97e208f1dbefc3a11fcb-style.css\"},{\"name\":null,\"type\":\"css\",\"url\":\"\\/assetserver\\/0547b079f97deda40879eacdc85d3fa8d53b4c58-bulma_confined.min.css\"}],\"type\":\"async_block\"},\"id\":\"2411677339283376962\",\"handlers\":{\"changes\":[\"(function (val){return (val!=this.model[\\\"changes\\\"]()) ? (this.valueFromJulia[\\\"changes\\\"]=true, this.model[\\\"changes\\\"](val)) : undefined})\"],\"index\":[\"(function (val){return (val!=this.model[\\\"index\\\"]()) ? (this.valueFromJulia[\\\"index\\\"]=true, this.model[\\\"index\\\"](val)) : undefined})\"]},\"systemjs_options\":null,\"mount_callbacks\":[\"function () {\\n    var handler = (function (ko, koPunches) {\\n    ko.punches.enableAll();\\n    ko.bindingHandlers.numericValue = {\\n        init: function(element, valueAccessor, allBindings, data, context) {\\n            var stringified = ko.observable(ko.unwrap(valueAccessor()));\\n            stringified.subscribe(function(value) {\\n                var val = parseFloat(value);\\n                if (!isNaN(val)) {\\n                    valueAccessor()(val);\\n                }\\n            });\\n            valueAccessor().subscribe(function(value) {\\n                var str = JSON.stringify(value);\\n                if ((str == \\\"0\\\") && ([\\\"-0\\\", \\\"-0.\\\"].indexOf(stringified()) >= 0))\\n                     return;\\n                 if ([\\\"null\\\", \\\"\\\"].indexOf(str) >= 0)\\n                     return;\\n                stringified(str);\\n            });\\n            ko.applyBindingsToNode(\\n                element,\\n                {\\n                    value: stringified,\\n                    valueUpdate: allBindings.get('valueUpdate'),\\n                },\\n                context,\\n            );\\n        }\\n    };\\n    var json_data = {\\\"formatted_vals\\\":[\\\"0\\\",\\\"1\\\",\\\"2\\\",\\\"3\\\",\\\"4\\\",\\\"5\\\",\\\"6\\\",\\\"7\\\",\\\"8\\\",\\\"9\\\",\\\"10\\\",\\\"11\\\",\\\"12\\\",\\\"13\\\",\\\"14\\\",\\\"15\\\",\\\"16\\\",\\\"17\\\",\\\"18\\\",\\\"19\\\",\\\"20\\\",\\\"21\\\",\\\"22\\\",\\\"23\\\",\\\"24\\\",\\\"25\\\",\\\"26\\\",\\\"27\\\",\\\"28\\\",\\\"29\\\",\\\"30\\\",\\\"31\\\",\\\"32\\\",\\\"33\\\",\\\"34\\\",\\\"35\\\",\\\"36\\\",\\\"37\\\",\\\"38\\\",\\\"39\\\",\\\"40\\\",\\\"41\\\",\\\"42\\\",\\\"43\\\",\\\"44\\\",\\\"45\\\",\\\"46\\\",\\\"47\\\",\\\"48\\\",\\\"49\\\",\\\"50\\\",\\\"51\\\",\\\"52\\\",\\\"53\\\",\\\"54\\\",\\\"55\\\",\\\"56\\\",\\\"57\\\",\\\"58\\\",\\\"59\\\",\\\"60\\\",\\\"61\\\",\\\"62\\\",\\\"63\\\",\\\"64\\\",\\\"65\\\",\\\"66\\\",\\\"67\\\",\\\"68\\\",\\\"69\\\",\\\"70\\\",\\\"71\\\",\\\"72\\\",\\\"73\\\",\\\"74\\\",\\\"75\\\",\\\"76\\\",\\\"77\\\",\\\"78\\\",\\\"79\\\",\\\"80\\\",\\\"81\\\",\\\"82\\\",\\\"83\\\",\\\"84\\\",\\\"85\\\",\\\"86\\\",\\\"87\\\",\\\"88\\\",\\\"89\\\",\\\"90\\\",\\\"91\\\",\\\"92\\\",\\\"93\\\",\\\"94\\\",\\\"95\\\",\\\"96\\\",\\\"97\\\",\\\"98\\\",\\\"99\\\",\\\"100\\\",\\\"101\\\",\\\"102\\\",\\\"103\\\",\\\"104\\\",\\\"105\\\",\\\"106\\\",\\\"107\\\",\\\"108\\\",\\\"109\\\",\\\"110\\\",\\\"111\\\",\\\"112\\\",\\\"113\\\",\\\"114\\\",\\\"115\\\",\\\"116\\\",\\\"117\\\",\\\"118\\\",\\\"119\\\",\\\"120\\\",\\\"121\\\",\\\"122\\\",\\\"123\\\",\\\"124\\\",\\\"125\\\",\\\"126\\\",\\\"127\\\",\\\"128\\\",\\\"129\\\",\\\"130\\\",\\\"131\\\",\\\"132\\\",\\\"133\\\",\\\"134\\\",\\\"135\\\",\\\"136\\\",\\\"137\\\",\\\"138\\\",\\\"139\\\",\\\"140\\\",\\\"141\\\",\\\"142\\\",\\\"143\\\",\\\"144\\\",\\\"145\\\",\\\"146\\\",\\\"147\\\",\\\"148\\\",\\\"149\\\",\\\"150\\\",\\\"151\\\",\\\"152\\\",\\\"153\\\",\\\"154\\\",\\\"155\\\",\\\"156\\\",\\\"157\\\",\\\"158\\\",\\\"159\\\",\\\"160\\\",\\\"161\\\",\\\"162\\\",\\\"163\\\",\\\"164\\\",\\\"165\\\",\\\"166\\\",\\\"167\\\",\\\"168\\\",\\\"169\\\",\\\"170\\\",\\\"171\\\",\\\"172\\\",\\\"173\\\",\\\"174\\\",\\\"175\\\",\\\"176\\\",\\\"177\\\",\\\"178\\\",\\\"179\\\",\\\"180\\\",\\\"181\\\",\\\"182\\\",\\\"183\\\",\\\"184\\\",\\\"185\\\",\\\"186\\\",\\\"187\\\",\\\"188\\\",\\\"189\\\",\\\"190\\\",\\\"191\\\",\\\"192\\\"],\\\"changes\\\":WebIO.getval({\\\"name\\\":\\\"changes\\\",\\\"scope\\\":\\\"2411677339283376962\\\",\\\"id\\\":\\\"ob_03\\\",\\\"type\\\":\\\"observable\\\"}),\\\"index\\\":WebIO.getval({\\\"name\\\":\\\"index\\\",\\\"scope\\\":\\\"2411677339283376962\\\",\\\"id\\\":\\\"ob_02\\\",\\\"type\\\":\\\"observable\\\"})};\\n    var self = this;\\n    function AppViewModel() {\\n        for (var key in json_data) {\\n            var el = json_data[key];\\n            this[key] = Array.isArray(el) ? ko.observableArray(el) : ko.observable(el);\\n        }\\n        \\n        [this[\\\"formatted_val\\\"]=ko.computed(    function(){\\n        return this.formatted_vals()[parseInt(this.index())-(1)];\\n    }\\n,this)]\\n        [this[\\\"changes\\\"].subscribe((function (val){!(this.valueFromJulia[\\\"changes\\\"]) ? (WebIO.setval({\\\"name\\\":\\\"changes\\\",\\\"scope\\\":\\\"2411677339283376962\\\",\\\"id\\\":\\\"ob_03\\\",\\\"type\\\":\\\"observable\\\"},val)) : undefined; return this.valueFromJulia[\\\"changes\\\"]=false}),self),this[\\\"index\\\"].subscribe((function (val){!(this.valueFromJulia[\\\"index\\\"]) ? (WebIO.setval({\\\"name\\\":\\\"index\\\",\\\"scope\\\":\\\"2411677339283376962\\\",\\\"id\\\":\\\"ob_02\\\",\\\"type\\\":\\\"observable\\\"},val)) : undefined; return this.valueFromJulia[\\\"index\\\"]=false}),self)]\\n        \\n    }\\n    self.model = new AppViewModel();\\n    self.valueFromJulia = {};\\n    for (var key in json_data) {\\n        self.valueFromJulia[key] = false;\\n    }\\n    ko.applyBindings(self.model, self.dom);\\n}\\n);\\n    (WebIO.importBlock({\\\"data\\\":[{\\\"name\\\":\\\"knockout\\\",\\\"type\\\":\\\"js\\\",\\\"url\\\":\\\"\\/assetserver\\/770a4105885e188380f0560e309f836e0282fbc9-knockout.js\\\"},{\\\"name\\\":\\\"knockout_punches\\\",\\\"type\\\":\\\"js\\\",\\\"url\\\":\\\"\\/assetserver\\/20a2690722e74a76875c5ae3530aa6a4f9754d2c-knockout_punches.js\\\"}],\\\"type\\\":\\\"async_block\\\"})).then((imports) => handler.apply(this, imports));\\n}\\n\"],\"observables\":{\"changes\":{\"sync\":false,\"id\":\"ob_03\",\"value\":0},\"index\":{\"sync\":true,\"id\":\"ob_02\",\"value\":97}}},\"children\":[{\"props\":{\"className\":\"interact-flex-row interact-widget\"},\"nodeType\":\"DOM\",\"type\":\"node\",\"instanceArgs\":{\"namespace\":\"html\",\"tag\":\"div\"},\"children\":[{\"props\":{\"className\":\"interact-flex-row-left\"},\"nodeType\":\"DOM\",\"type\":\"node\",\"instanceArgs\":{\"namespace\":\"html\",\"tag\":\"div\"},\"children\":[{\"props\":{\"className\":\"interact \",\"style\":{\"padding\":\"5px 10px 0px 10px\"}},\"nodeType\":\"DOM\",\"type\":\"node\",\"instanceArgs\":{\"namespace\":\"html\",\"tag\":\"label\"},\"children\":[\"N\"]}]},{\"props\":{\"className\":\"interact-flex-row-center\"},\"nodeType\":\"DOM\",\"type\":\"node\",\"instanceArgs\":{\"namespace\":\"html\",\"tag\":\"div\"},\"children\":[{\"props\":{\"max\":193,\"min\":1,\"attributes\":{\"type\":\"range\",\"data-bind\":\"numericValue: index, valueUpdate: 'input', event: {change: function (){this.changes(this.changes()+1)}}\",\"orient\":\"horizontal\"},\"step\":1,\"className\":\"slider slider is-fullwidth\",\"style\":{}},\"nodeType\":\"DOM\",\"type\":\"node\",\"instanceArgs\":{\"namespace\":\"html\",\"tag\":\"input\"},\"children\":[]}]},{\"props\":{\"className\":\"interact-flex-row-right\"},\"nodeType\":\"DOM\",\"type\":\"node\",\"instanceArgs\":{\"namespace\":\"html\",\"tag\":\"div\"},\"children\":[{\"props\":{\"attributes\":{\"data-bind\":\"text: formatted_val\"}},\"nodeType\":\"DOM\",\"type\":\"node\",\"instanceArgs\":{\"namespace\":\"html\",\"tag\":\"p\"},\"children\":[]}]}]}]}]},{\"props\":{},\"nodeType\":\"Scope\",\"type\":\"node\",\"instanceArgs\":{\"imports\":{\"data\":[],\"type\":\"async_block\"},\"id\":\"2258752790995205388\",\"handlers\":{},\"systemjs_options\":null,\"mount_callbacks\":[],\"observables\":{\"obs-node\":{\"sync\":false,\"id\":\"ob_07\",\"value\":{\"props\":{\"className\":\"interact-flex-row interact-widget\"},\"nodeType\":\"DOM\",\"type\":\"node\",\"instanceArgs\":{\"namespace\":\"html\",\"tag\":\"div\"},\"children\":[{\"props\":{\"setInnerHtml\":\"<img src='data:image\\/png;base64,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'><\\/img>\"},\"nodeType\":\"DOM\",\"type\":\"node\",\"instanceArgs\":{\"namespace\":\"html\",\"tag\":\"div\"},\"children\":[]}]}}}},\"children\":[{\"props\":{},\"nodeType\":\"ObservableNode\",\"type\":\"node\",\"instanceArgs\":{\"id\":\"ob_07\",\"name\":\"obs-node\"},\"children\":[]}]}]},\n",
       "            window,\n",
       "        );\n",
       "    } else {\n",
       "        document\n",
       "            .querySelector('[data-webio-mountpoint=\"16985628134298901014\"]')\n",
       "            .innerHTML = (\n",
       "                '<strong>WebIO not detected. Please read ' +\n",
       "                '<a href=\"https://juliagizmos.github.io/WebIO.jl/latest/troubleshooting/not-detected/\">the troubleshooting guide</a> ' +\n",
       "                'for more information on how to resolve this issue.' +\n",
       "                '</strong>'\n",
       "            );\n",
       "    }\n",
       "    </script>\n",
       "</div>\n"
      ],
      "text/plain": [
       "Node{WebIO.DOM}(WebIO.DOM(:html, :div), Any[Node{WebIO.DOM}(WebIO.DOM(:html, :div), Any[Scope(Node{WebIO.DOM}(WebIO.DOM(:html, :div), Any[Node{WebIO.DOM}(WebIO.DOM(:html, :div), Any[Node{WebIO.DOM}(WebIO.DOM(:html, :label), Any[\"N\"], Dict{Symbol,Any}(:className => \"interact \",:style => Dict{Any,Any}(:padding => \"5px 10px 0px 10px\")))], Dict{Symbol,Any}(:className => \"interact-flex-row-left\")), Node{WebIO.DOM}(WebIO.DOM(:html, :div), Any[Node{WebIO.DOM}(WebIO.DOM(:html, :input), Any[], Dict{Symbol,Any}(:max => 193,:min => 1,:attributes => Dict{Any,Any}(:type => \"range\",Symbol(\"data-bind\") => \"numericValue: index, valueUpdate: 'input', event: {change: function (){this.changes(this.changes()+1)}}\",\"orient\" => \"horizontal\"),:step => 1,:className => \"slider slider is-fullwidth\",:style => Dict{Any,Any}()))], Dict{Symbol,Any}(:className => \"interact-flex-row-center\")), Node{WebIO.DOM}(WebIO.DOM(:html, :div), Any[Node{WebIO.DOM}(WebIO.DOM(:html, :p), Any[], Dict{Symbol,Any}(:attributes => Dict(\"data-bind\" => \"text: formatted_val\")))], Dict{Symbol,Any}(:className => \"interact-flex-row-right\"))], Dict{Symbol,Any}(:className => \"interact-flex-row interact-widget\")), Dict{String,Tuple{Observables.AbstractObservable,Union{Nothing, Bool}}}(\"changes\" => (Observable{Int64} with 1 listeners. Value:\n",
       "0, nothing),\"index\" => (Observable{Any} with 2 listeners. Value:\n",
       "97, nothing)), Set(String[]), nothing, Asset[Asset(\"js\", \"knockout\", \"/Users/bert/.julia/packages/Knockout/1sDlc/src/../assets/knockout.js\"), Asset(\"js\", \"knockout_punches\", \"/Users/bert/.julia/packages/Knockout/1sDlc/src/../assets/knockout_punches.js\"), Asset(\"js\", nothing, \"/Users/bert/.julia/packages/InteractBase/9mFwe/src/../assets/all.js\"), Asset(\"css\", nothing, \"/Users/bert/.julia/packages/InteractBase/9mFwe/src/../assets/style.css\"), Asset(\"css\", nothing, \"/Users/bert/.julia/packages/Interact/SbgIk/src/../assets/bulma_confined.min.css\")], Dict{Any,Any}(\"changes\" => Any[WebIO.JSString(\"(function (val){return (val!=this.model[\\\"changes\\\"]()) ? (this.valueFromJulia[\\\"changes\\\"]=true, this.model[\\\"changes\\\"](val)) : undefined})\")],\"index\" => Any[WebIO.JSString(\"(function (val){return (val!=this.model[\\\"index\\\"]()) ? (this.valueFromJulia[\\\"index\\\"]=true, this.model[\\\"index\\\"](val)) : undefined})\")]), WebIO.ConnectionPool(Channel{Any}(sz_max:32,sz_curr:0), Set(AbstractConnection[]), Base.GenericCondition{Base.AlwaysLockedST}(Base.InvasiveLinkedList{Task}(Task (runnable) @0x000000011bf88b50, Task (runnable) @0x000000011bf88b50), Base.AlwaysLockedST(1))), WebIO.JSString[WebIO.JSString(\"function () {\\n    var handler = (function (ko, koPunches) {\\n    ko.punches.enableAll();\\n    ko.bindingHandlers.numericValue = {\\n        init: function(element, valueAccessor, allBindings, data, context) {\\n            var stringified = ko.observable(ko.unwrap(valueAccessor()));\\n            stringified.subscribe(function(value) {\\n                var val = parseFloat(value);\\n                if (!isNaN(val)) {\\n                    valueAccessor()(val);\\n                }\\n            });\\n            valueAccessor().subscribe(function(value) {\\n                var str = JSON.stringify(value);\\n                if ((str == \\\"0\\\") && ([\\\"-0\\\", \\\"-0.\\\"].indexOf(stringified()) >= 0))\\n                     return;\\n                 if ([\\\"null\\\", \\\"\\\"].indexOf(str) >= 0)\\n                     return;\\n                stringified(str);\\n            });\\n            ko.applyBindingsToNode(\\n                element,\\n                {\\n                    value: stringified,\\n                    valueUpdate: allBindings.get('valueUpdate'),\\n                },\\n                context,\\n            );\\n        }\\n    };\\n    var json_data = {\\\"formatted_vals\\\":[\\\"0\\\",\\\"1\\\",\\\"2\\\",\\\"3\\\",\\\"4\\\",\\\"5\\\",\\\"6\\\",\\\"7\\\",\\\"8\\\",\\\"9\\\",\\\"10\\\",\\\"11\\\",\\\"12\\\",\\\"13\\\",\\\"14\\\",\\\"15\\\",\\\"16\\\",\\\"17\\\",\\\"18\\\",\\\"19\\\",\\\"20\\\",\\\"21\\\",\\\"22\\\",\\\"23\\\",\\\"24\\\",\\\"25\\\",\\\"26\\\",\\\"27\\\",\\\"28\\\",\\\"29\\\",\\\"30\\\",\\\"31\\\",\\\"32\\\",\\\"33\\\",\\\"34\\\",\\\"35\\\",\\\"36\\\",\\\"37\\\",\\\"38\\\",\\\"39\\\",\\\"40\\\",\\\"41\\\",\\\"42\\\",\\\"43\\\",\\\"44\\\",\\\"45\\\",\\\"46\\\",\\\"47\\\",\\\"48\\\",\\\"49\\\",\\\"50\\\",\\\"51\\\",\\\"52\\\",\\\"53\\\",\\\"54\\\",\\\"55\\\",\\\"56\\\",\\\"57\\\",\\\"58\\\",\\\"59\\\",\\\"60\\\",\\\"61\\\",\\\"62\\\",\\\"63\\\",\\\"64\\\",\\\"65\\\",\\\"66\\\",\\\"67\\\",\\\"68\\\",\\\"69\\\",\\\"70\\\",\\\"71\\\",\\\"72\\\",\\\"73\\\",\\\"74\\\",\\\"75\\\",\\\"76\\\",\\\"77\\\",\\\"78\\\",\\\"79\\\",\\\"80\\\",\\\"81\\\",\\\"82\\\",\\\"83\\\",\\\"84\\\",\\\"85\\\",\\\"86\\\",\\\"87\\\",\\\"88\\\",\\\"89\\\",\\\"90\\\",\\\"91\\\",\\\"92\\\",\\\"93\\\",\\\"94\\\",\\\"95\\\",\\\"96\\\",\\\"97\\\",\\\"98\\\",\\\"99\\\",\\\"100\\\",\\\"101\\\",\\\"102\\\",\\\"103\\\",\\\"104\\\",\\\"105\\\",\\\"106\\\",\\\"107\\\",\\\"108\\\",\\\"109\\\",\\\"110\\\",\\\"111\\\",\\\"112\\\",\\\"113\\\",\\\"114\\\",\\\"115\\\",\\\"116\\\",\\\"117\\\",\\\"118\\\",\\\"119\\\",\\\"120\\\",\\\"121\\\",\\\"122\\\",\\\"123\\\",\\\"124\\\",\\\"125\\\",\\\"126\\\",\\\"127\\\",\\\"128\\\",\\\"129\\\",\\\"130\\\",\\\"131\\\",\\\"132\\\",\\\"133\\\",\\\"134\\\",\\\"135\\\",\\\"136\\\",\\\"137\\\",\\\"138\\\",\\\"139\\\",\\\"140\\\",\\\"141\\\",\\\"142\\\",\\\"143\\\",\\\"144\\\",\\\"145\\\",\\\"146\\\",\\\"147\\\",\\\"148\\\",\\\"149\\\",\\\"150\\\",\\\"151\\\",\\\"152\\\",\\\"153\\\",\\\"154\\\",\\\"155\\\",\\\"156\\\",\\\"157\\\",\\\"158\\\",\\\"159\\\",\\\"160\\\",\\\"161\\\",\\\"162\\\",\\\"163\\\",\\\"164\\\",\\\"165\\\",\\\"166\\\",\\\"167\\\",\\\"168\\\",\\\"169\\\",\\\"170\\\",\\\"171\\\",\\\"172\\\",\\\"173\\\",\\\"174\\\",\\\"175\\\",\\\"176\\\",\\\"177\\\",\\\"178\\\",\\\"179\\\",\\\"180\\\",\\\"181\\\",\\\"182\\\",\\\"183\\\",\\\"184\\\",\\\"185\\\",\\\"186\\\",\\\"187\\\",\\\"188\\\",\\\"189\\\",\\\"190\\\",\\\"191\\\",\\\"192\\\"],\\\"changes\\\":WebIO.getval({\\\"name\\\":\\\"changes\\\",\\\"scope\\\":\\\"2411677339283376962\\\",\\\"id\\\":\\\"ob_03\\\",\\\"type\\\":\\\"observable\\\"}),\\\"index\\\":WebIO.getval({\\\"name\\\":\\\"index\\\",\\\"scope\\\":\\\"2411677339283376962\\\",\\\"id\\\":\\\"ob_02\\\",\\\"type\\\":\\\"observable\\\"})};\\n    var self = this;\\n    function AppViewModel() {\\n        for (var key in json_data) {\\n            var el = json_data[key];\\n            this[key] = Array.isArray(el) ? ko.observableArray(el) : ko.observable(el);\\n        }\\n        \\n        [this[\\\"formatted_val\\\"]=ko.computed(    function(){\\n        return this.formatted_vals()[parseInt(this.index())-(1)];\\n    }\\n,this)]\\n        [this[\\\"changes\\\"].subscribe((function (val){!(this.valueFromJulia[\\\"changes\\\"]) ? (WebIO.setval({\\\"name\\\":\\\"changes\\\",\\\"scope\\\":\\\"2411677339283376962\\\",\\\"id\\\":\\\"ob_03\\\",\\\"type\\\":\\\"observable\\\"},val)) : undefined; return this.valueFromJulia[\\\"changes\\\"]=false}),self),this[\\\"index\\\"].subscribe((function (val){!(this.valueFromJulia[\\\"index\\\"]) ? (WebIO.setval({\\\"name\\\":\\\"index\\\",\\\"scope\\\":\\\"2411677339283376962\\\",\\\"id\\\":\\\"ob_02\\\",\\\"type\\\":\\\"observable\\\"},val)) : undefined; return this.valueFromJulia[\\\"index\\\"]=false}),self)]\\n        \\n    }\\n    self.model = new AppViewModel();\\n    self.valueFromJulia = {};\\n    for (var key in json_data) {\\n        self.valueFromJulia[key] = false;\\n    }\\n    ko.applyBindings(self.model, self.dom);\\n}\\n);\\n    (WebIO.importBlock({\\\"data\\\":[{\\\"name\\\":\\\"knockout\\\",\\\"type\\\":\\\"js\\\",\\\"url\\\":\\\"/assetserver/770a4105885e188380f0560e309f836e0282fbc9-knockout.js\\\"},{\\\"name\\\":\\\"knockout_punches\\\",\\\"type\\\":\\\"js\\\",\\\"url\\\":\\\"/assetserver/20a2690722e74a76875c5ae3530aa6a4f9754d2c-knockout_punches.js\\\"}],\\\"type\\\":\\\"async_block\\\"})).then((imports) => handler.apply(this, imports));\\n}\\n\")])], Dict{Symbol,Any}(:className => \"field interact-widget\")), Observable{Any} with 0 listeners. Value:\n",
       "Node{WebIO.DOM}(WebIO.DOM(:html, :div), Any[Figure(PyObject <Figure size 640x480 with 1 Axes>)], Dict{Symbol,Any}(:className => \"interact-flex-row interact-widget\"))], Dict{Symbol,Any}())"
      ]
     },
     "execution_count": 1,
     "metadata": {},
     "output_type": "execute_result"
    }
   ],
   "source": [
    "using Reactive, Interact, PyPlot, Distributions\n",
    "f = figure()\n",
    "range_grid = range(0.0, stop=1.0, length=100)\n",
    "μ = 0.4\n",
    "samples = rand(192) .<= μ # Flip 192 coins\n",
    "@manipulate for N=0:1:192; withfig(f) do\n",
    "        n = sum(samples[1:N]) # Count number of heads in first N flips\n",
    "        posterior1 = Beta(1+n, 1+(N-n))\n",
    "        posterior2 = Beta(5+n, 5+(N-n))\n",
    "        plot(range_grid, pdf.(posterior1,range_grid), \"k-\")\n",
    "        plot(range_grid, pdf.(posterior2,range_grid), \"k--\")\n",
    "        xlabel(L\"\\mu\"); ylabel(L\"p(\\mu|\\mathcal{D})\"); grid()\n",
    "        title(L\"p(\\mu|\\mathcal{D})\"*\" for N=$(N), n=$(n) (real \\$\\\\mu\\$=$(μ))\")\n",
    "        legend([\"Based on uniform prior \"*L\"B(1,1)\",\"Based on prior \"*L\"B(5,5)\"], loc=4)\n",
    "    end\n",
    "end"
   ]
  },
  {
   "cell_type": "markdown",
   "metadata": {
    "slideshow": {
     "slide_type": "fragment"
    }
   },
   "source": [
    "$\\Rightarrow$ With more data, the relevance of the prior diminishes!\n"
   ]
  },
  {
   "cell_type": "markdown",
   "metadata": {
    "slideshow": {
     "slide_type": "slide"
    }
   },
   "source": [
    "### From Posterior to Point-Estimate\n",
    "\n",
    "- In the example above, Bayesian parameter estimation and prediction were tractable in closed-form. This is often not the case. We will need to approximate some of the computations. \n"
   ]
  },
  {
   "cell_type": "markdown",
   "metadata": {
    "slideshow": {
     "slide_type": "fragment"
    }
   },
   "source": [
    "- Recall Bayesian prediction\n",
    "\n",
    "$$\n",
    "p(x|D) = \\int p(x|\\theta)p(\\theta|D)\\,\\mathrm{d}{\\theta}\n",
    "$$"
   ]
  },
  {
   "cell_type": "markdown",
   "metadata": {
    "slideshow": {
     "slide_type": "fragment"
    }
   },
   "source": [
    "- If we approximate posterior $p(\\theta|D)$ by a delta function for one 'best' value $\\hat\\theta$, then the predictive distribution collapses to\n",
    "\n",
    "$$\n",
    "p(x|D)= \\int p(x|\\theta)\\,\\delta(\\theta-\\hat\\theta)\\,\\mathrm{d}{\\theta} = p(x|\\hat\\theta)\n",
    "$$"
   ]
  },
  {
   "cell_type": "markdown",
   "metadata": {
    "slideshow": {
     "slide_type": "fragment"
    }
   },
   "source": [
    "- This is just the data generating distribution $p(x|\\theta)$ evaluated at $\\theta=\\hat\\theta$, which is easy to evaluate.\n"
   ]
  },
  {
   "cell_type": "markdown",
   "metadata": {
    "slideshow": {
     "slide_type": "fragment"
    }
   },
   "source": [
    "- The next question is how to get the parameter estimate $\\hat{\\theta}$? (See next slide)."
   ]
  },
  {
   "cell_type": "markdown",
   "metadata": {
    "slideshow": {
     "slide_type": "subslide"
    }
   },
   "source": [
    "### Some Well-known Point-Estimates\n",
    "\n",
    "- **Bayes estimate** (the mean of the posterior)\n",
    "\n",
    "$$\n",
    "\\hat \\theta_{bayes}  = \\int \\theta \\, p\\left( \\theta |D \\right)\n",
    "\\,\\mathrm{d}{\\theta}\n",
    "$$\n",
    " "
   ]
  },
  {
   "cell_type": "markdown",
   "metadata": {
    "slideshow": {
     "slide_type": "fragment"
    }
   },
   "source": [
    "- **Maximum A Posteriori** (MAP) estimate \n",
    "$$\n",
    "\\hat \\theta_{\\text{map}}=  \\arg\\max _{\\theta} p\\left( \\theta |D \\right) =\n",
    "\\arg \\max_{\\theta}  p\\left(D |\\theta \\right) \\, p\\left(\\theta \\right)\n",
    "$$"
   ]
  },
  {
   "cell_type": "markdown",
   "metadata": {
    "slideshow": {
     "slide_type": "fragment"
    }
   },
   "source": [
    "- **Maximum Likelihood** (ML) estimate\n",
    "$$\n",
    "\\hat \\theta_{ml}  = \\arg \\max_{\\theta}  p\\left(D |\\theta\\right)\n",
    "$$\n",
    "  - Note that Maximum Likelihood is MAP with uniform prior\n",
    "  - ML is the most common approximation to the full Bayesian posterior."
   ]
  },
  {
   "cell_type": "markdown",
   "metadata": {
    "slideshow": {
     "slide_type": "slide"
    }
   },
   "source": [
    "### Bayesian vs Maximum Likelihood Learning\n",
    "\n",
    "Consider the task: predict a datum $x$ from an observed data set $D$.\n",
    "\n",
    "<table>\n",
    "<tr><td></td><td style=\"text-align:center\"> <b>Bayesian</b></td><td style=\"text-align:center\"> <b>Maximum Likelihood </b></td></tr>\n",
    "<tr><td>1. <b>Model Specification</b></td><td>Choose a model $m$ with data generating distribution $p(x|\\theta,m)$ and parameter prior $p(\\theta|m)$</td><td>Choose a model $m$ with same data generating distribution $p(x|\\theta,m)$. No need for priors.</td></tr>\n",
    "<tr><td>2. <b>Learning</b></td><td>use Bayes rule to find the parameter posterior,\n",
    "$$\n",
    "p(\\theta|D) = \\propto p(D|\\theta) p(\\theta)\n",
    "$$  </td><td>By Maximum Likelihood (ML) optimization,\n",
    "$$ \n",
    "    \\hat \\theta  = \\arg \\max_{\\theta}  p(D |\\theta)\n",
    "$$</td></tr>\n",
    "<tr><td>3. <b>Prediction</b></td><td>$$\n",
    "p(x|D) = \\int p(x|\\theta) p(\\theta|D) \\,\\mathrm{d}\\theta\n",
    "$$</td><td>\n",
    "$$ \n",
    "    p(x|D) =  p(x|\\hat\\theta)\n",
    "$$</td></tr>\n",
    "</table>"
   ]
  },
  {
   "cell_type": "markdown",
   "metadata": {
    "slideshow": {
     "slide_type": "slide"
    }
   },
   "source": [
    "### Report Card on Maximum Likelihood Estimation\n",
    "\n",
    "- Maximum Likelihood (ML) is MAP with uniform prior. MAP is sometimes called a 'penalized' ML procedure:\n",
    "\n",
    "$$\n",
    "\\hat \\theta_{map}  = \\arg \\max _\\theta  \\{ \\underbrace{\\log\n",
    "p\\left( D|\\theta  \\right)}_{\\text{log-likelihood}} + \\underbrace{\\log\n",
    "p\\left( \\theta \\right)}_{\\text{penalty}} \\}\n",
    "$$"
   ]
  },
  {
   "cell_type": "markdown",
   "metadata": {
    "slideshow": {
     "slide_type": "fragment"
    }
   },
   "source": [
    "- (good!). ML works rather well if we have a lot of data because the influence of the prior diminishes with more data."
   ]
  },
  {
   "cell_type": "markdown",
   "metadata": {
    "slideshow": {
     "slide_type": "fragment"
    }
   },
   "source": [
    "- (good!). Computationally often do-able. Useful fact that makes the optimization easier (since $\\log$ is monotonously increasing):\n",
    "\n",
    "$$\\arg\\max_\\theta \\log p(D|\\theta) =  \\arg\\max_\\theta p(D|\\theta)$$"
   ]
  },
  {
   "cell_type": "markdown",
   "metadata": {
    "slideshow": {
     "slide_type": "fragment"
    }
   },
   "source": [
    "- (bad). Cannot be used for model comparison! The evidence for a model does not exist in the case of ML approximation:\n",
    "\n",
    "$$\\begin{align*}\n",
    "p(D|m) &= \\int p(D|\\theta) p(\\theta|m)\\mathrm{d}\\theta \\\\\n",
    "  &= \\int \\delta(\\theta-\\hat{\\theta}) \\underbrace{\\text{Uniform}(\\theta)}_{\\text{improper distribution}}\\mathrm{d}\\theta\n",
    "\\end{align*}$$\n",
    "\n",
    "- <span style=color:red>ISMAIL: how do I show this properly? </span>"
   ]
  },
  {
   "cell_type": "markdown",
   "metadata": {
    "slideshow": {
     "slide_type": "fragment"
    }
   },
   "source": [
    "$\\Rightarrow$ **ML estimation is an approximation to Bayesian learning**, but for good reason a very popular learning method when faced with lots of available data."
   ]
  },
  {
   "cell_type": "markdown",
   "metadata": {
    "slideshow": {
     "slide_type": "slide"
    }
   },
   "source": [
    "### Exercises\n",
    "\n",
    "- Proof that the Bayes estimate minimizes the expected mean-square error, i.e., proof that\n",
    "\n",
    "$$\n",
    "\\hat \\theta_{bayes} = \\arg\\min_{\\hat \\theta} \\int_\\theta (\\hat \\theta -\\theta)^2 p \\left( \\theta |D \\right) \\,\\mathrm{d}{\\theta}\n",
    "$$\n",
    "\n",
    "- on the Bayes factor ..."
   ]
  },
  {
   "cell_type": "code",
   "execution_count": 2,
   "metadata": {
    "slideshow": {
     "slide_type": "skip"
    }
   },
   "outputs": [
    {
     "data": {
      "text/html": [
       "<!--\n",
       "This HTML file contains custom styles and some javascript.\n",
       "Include it a Jupyter notebook for improved rendering.\n",
       "-->\n",
       "\n",
       "<!-- Fonts -->\n",
       "<link href='http://fonts.googleapis.com/css?family=Alegreya+Sans:100,300,400,500,700,800,900,100italic,300italic,400italic,500italic,700italic,800italic,900italic' rel='stylesheet' type='text/css'>\n",
       "<link href='http://fonts.googleapis.com/css?family=Arvo:400,700,400italic' rel='stylesheet' type='text/css'>\n",
       "<link href='http://fonts.googleapis.com/css?family=PT+Mono' rel='stylesheet' type='text/css'>\n",
       "<link href='http://fonts.googleapis.com/css?family=Shadows+Into+Light' rel='stylesheet' type='text/css'>\n",
       "<link href='http://fonts.googleapis.com/css?family=Nixie+One' rel='stylesheet' type='text/css'>\n",
       "\n",
       "<!-- Custom style -->\n",
       "<style>\n",
       "\n",
       "@font-face {\n",
       "    font-family: \"Computer Modern\";\n",
       "    src: url('http://mirrors.ctan.org/fonts/cm-unicode/fonts/otf/cmunss.otf');\n",
       "}\n",
       "\n",
       "#notebook_panel { /* main background */\n",
       "    background: rgb(245,245,245);\n",
       "}\n",
       "\n",
       "div.container {\n",
       "    min-width: 960px;\n",
       "}\n",
       "\n",
       "div #notebook { /* centre the content */\n",
       "    background: #fff; /* white background for content */\n",
       "    margin: auto;\n",
       "    padding-left: 0em;\n",
       "}\n",
       "\n",
       "#notebook li { /* More space between bullet points */\n",
       "    margin-top:0.8em;\n",
       "}\n",
       "\n",
       "/* draw border around running cells */\n",
       "div.cell.border-box-sizing.code_cell.running {\n",
       "    border: 1px solid #111;\n",
       "}\n",
       "\n",
       "/* Put a solid color box around each cell and its output, visually linking them*/\n",
       "div.cell.code_cell {\n",
       "    background-color: rgb(256,256,256);\n",
       "    border-radius: 0px;\n",
       "    padding: 0.5em;\n",
       "    margin-left:1em;\n",
       "    margin-top: 1em;\n",
       "}\n",
       "\n",
       "div.text_cell_render{\n",
       "    font-family: 'Alegreya Sans' sans-serif;\n",
       "    line-height: 140%;\n",
       "    font-size: 125%;\n",
       "    font-weight: 400;\n",
       "    width:800px;\n",
       "    margin-left:auto;\n",
       "    margin-right:auto;\n",
       "}\n",
       "\n",
       "\n",
       "/* Formatting for header cells */\n",
       ".text_cell_render h1 {\n",
       "    font-family: 'Nixie One', serif;\n",
       "    font-style:regular;\n",
       "    font-weight: 400;\n",
       "    font-size: 45pt;\n",
       "    line-height: 100%;\n",
       "    color: rgb(0,51,102);\n",
       "    margin-bottom: 0.5em;\n",
       "    margin-top: 0.5em;\n",
       "    display: block;\n",
       "}\n",
       "\n",
       ".text_cell_render h2 {\n",
       "    font-family: 'Nixie One', serif;\n",
       "    font-weight: 400;\n",
       "    font-size: 30pt;\n",
       "    line-height: 100%;\n",
       "    color: rgb(0,51,102);\n",
       "    margin-bottom: 0.1em;\n",
       "    margin-top: 0.3em;\n",
       "    display: block;\n",
       "}\n",
       "\n",
       ".text_cell_render h3 {\n",
       "    font-family: 'Nixie One', serif;\n",
       "    margin-top:16px;\n",
       "    font-size: 22pt;\n",
       "    font-weight: 600;\n",
       "    margin-bottom: 3px;\n",
       "    font-style: regular;\n",
       "    color: rgb(102,102,0);\n",
       "}\n",
       "\n",
       ".text_cell_render h4 {    /*Use this for captions*/\n",
       "    font-family: 'Nixie One', serif;\n",
       "    font-size: 14pt;\n",
       "    text-align: center;\n",
       "    margin-top: 0em;\n",
       "    margin-bottom: 2em;\n",
       "    font-style: regular;\n",
       "}\n",
       "\n",
       ".text_cell_render h5 {  /*Use this for small titles*/\n",
       "    font-family: 'Nixie One', sans-serif;\n",
       "    font-weight: 400;\n",
       "    font-size: 16pt;\n",
       "    color: rgb(163,0,0);\n",
       "    font-style: italic;\n",
       "    margin-bottom: .1em;\n",
       "    margin-top: 0.8em;\n",
       "    display: block;\n",
       "}\n",
       "\n",
       ".text_cell_render h6 { /*use this for copyright note*/\n",
       "    font-family: 'PT Mono', sans-serif;\n",
       "    font-weight: 300;\n",
       "    font-size: 9pt;\n",
       "    line-height: 100%;\n",
       "    color: grey;\n",
       "    margin-bottom: 1px;\n",
       "    margin-top: 1px;\n",
       "}\n",
       "\n",
       ".CodeMirror{\n",
       "    font-family: \"PT Mono\";\n",
       "    font-size: 90%;\n",
       "}\n",
       "\n",
       ".boxed { /* draw a border around a piece of text */\n",
       "  border: 1px solid blue ;\n",
       "}\n",
       "\n",
       "h4#CODE-EXAMPLE,\n",
       "h4#END-OF-CODE-EXAMPLE {\n",
       "    margin: 10px 0;\n",
       "    padding: 10px;\n",
       "    background-color: #d0f9ca !important;\n",
       "    border-top: #849f81 1px solid;\n",
       "    border-bottom: #849f81 1px solid;\n",
       "}\n",
       "\n",
       ".emphasis {\n",
       "    color: red;\n",
       "}\n",
       "\n",
       ".exercise {\n",
       "    color: green;\n",
       "}\n",
       "\n",
       ".proof {\n",
       "    color: blue;\n",
       "}\n",
       "\n",
       "code {\n",
       "  padding: 2px 4px !important;\n",
       "  font-size: 90% !important;\n",
       "  color: #222 !important;\n",
       "  background-color: #efefef !important;\n",
       "  border-radius: 2px !important;\n",
       "}\n",
       "\n",
       "/* This removes the actual style cells from the notebooks, but no in print mode\n",
       "   as they will be removed through some other method */\n",
       "@media not print {\n",
       "  .cell:nth-last-child(-n+2) {\n",
       "    display: none;\n",
       "  }\n",
       "}\n",
       "\n",
       "footer.hidden-print {\n",
       "    display: none !important;\n",
       "}\n",
       "    \n",
       "</style>\n",
       "\n",
       "<!-- MathJax styling -->\n",
       "<script>\n",
       "    MathJax.Hub.Config({\n",
       "                        TeX: {\n",
       "                           extensions: [\"AMSmath.js\"],\n",
       "                           equationNumbers: { autoNumber: \"AMS\", useLabelIds: true}\n",
       "                           },\n",
       "                tex2jax: {\n",
       "                    inlineMath: [ ['$','$'], [\"\\\\(\",\"\\\\)\"] ],\n",
       "                    displayMath: [ ['$$','$$'], [\"\\\\[\",\"\\\\]\"] ]\n",
       "                },\n",
       "                displayAlign: 'center', // Change this to 'center' to center equations.\n",
       "                \"HTML-CSS\": {\n",
       "                    styles: {'.MathJax_Display': {\"margin\": 4}}\n",
       "                }\n",
       "        });\n",
       "</script>\n"
      ]
     },
     "metadata": {},
     "output_type": "display_data"
    }
   ],
   "source": [
    "open(\"../../styles/aipstyle.html\") do f display(\"text/html\", read(f, String)) end"
   ]
  },
  {
   "cell_type": "code",
   "execution_count": null,
   "metadata": {},
   "outputs": [],
   "source": []
  }
 ],
 "metadata": {
  "@webio": {
   "lastCommId": "0edceeb5b5d748f5987d5e6719f15198",
   "lastKernelId": "1e91b343-4cbb-4e56-94bb-edf332d47cc6"
  },
  "anaconda-cloud": {},
  "celltoolbar": "Slideshow",
  "kernelspec": {
   "display_name": "Julia 1.2.0",
   "language": "julia",
   "name": "julia-1.2"
  },
  "language_info": {
   "file_extension": ".jl",
   "mimetype": "application/julia",
   "name": "julia",
   "version": "1.2.0"
  }
 },
 "nbformat": 4,
 "nbformat_minor": 1
}
