{
 "cells": [
  {
   "cell_type": "markdown",
   "metadata": {
    "slideshow": {
     "slide_type": "slide"
    }
   },
   "source": [
    "# Bayesian Machine Learning"
   ]
  },
  {
   "cell_type": "markdown",
   "metadata": {
    "slideshow": {
     "slide_type": "slide"
    }
   },
   "source": [
    "### Preliminaries\n",
    "\n",
    "- Goals\n",
    "  - Introduction to Bayesian (i.e., probabilistic) modeling\n",
    "- Materials\n",
    "  - Mandatory\n",
    "    - These lecture notes\n",
    "  - Optional\n",
    "    - Bishop pp. 21-24   "
   ]
  },
  {
   "cell_type": "markdown",
   "metadata": {
    "slideshow": {
     "slide_type": "slide"
    }
   },
   "source": [
    "### Example Problem: Predicting a Coin Toss\n",
    "\n",
    "- **Question**. We observe a the following sequence of heads (h) and tails (t) when tossing the same coin repeatedly $$D=\\{hthhtth\\}\\,.$$\n",
    "\n",
    "- What is the probability that heads (h) comes up next?"
   ]
  },
  {
   "cell_type": "markdown",
   "metadata": {
    "slideshow": {
     "slide_type": "fragment"
    }
   },
   "source": [
    "- **Answer** later in this lecture. "
   ]
  },
  {
   "cell_type": "markdown",
   "metadata": {
    "slideshow": {
     "slide_type": "slide"
    }
   },
   "source": [
    "### The Bayesian Machine Learning Framework\n",
    "\n",
    "- Suppose that your task is to predict a future observation $x$, based on $N$ past observations $D=\\{x_1,\\dotsc,x_N\\}$."
   ]
  },
  {
   "cell_type": "markdown",
   "metadata": {
    "slideshow": {
     "slide_type": "fragment"
    }
   },
   "source": [
    "- The Bayesian approach for this task involves three stages: \n",
    "  1. Model specification\n",
    "  1. Parameter estimation (i.e., learning from observed data; using Bayesian inference)\n",
    "  1. Prediction (apply the model)"
   ]
  },
  {
   "cell_type": "markdown",
   "metadata": {
    "slideshow": {
     "slide_type": "fragment"
    }
   },
   "source": [
    "  \n",
    "- Next, we discuss these three stages in a bit more detail."
   ]
  },
  {
   "cell_type": "markdown",
   "metadata": {
    "slideshow": {
     "slide_type": "slide"
    }
   },
   "source": [
    "### (1) Model specification\n",
    "\n",
    "Your first task is to propose a model with tuning parameters $\\theta$ for generating the observations $x$."
   ]
  },
  {
   "cell_type": "markdown",
   "metadata": {
    "slideshow": {
     "slide_type": "fragment"
    }
   },
   "source": [
    "- This involves specification of $p(x|\\theta)$ and a prior for the parameters $p(\\theta)$."
   ]
  },
  {
   "cell_type": "markdown",
   "metadata": {
    "slideshow": {
     "slide_type": "fragment"
    }
   },
   "source": [
    "- _You_ choose the distribution $p(x|\\theta)$ based on your physical understanding of the data generating process.\n",
    "- Note that, for a given data set $D=\\{x_1,x_2,\\dots,x_N\\}$ with independent observations $x_n$,\n",
    "$$ p(D|\\theta) = \\prod_{n=1}^N p(x_n|\\theta)$$\n",
    "so usually you select a model for generating one observation $x_n$ and then use (in-)dependence assumptions to combine these models into a model for your observed data set $D$. "
   ]
  },
  {
   "cell_type": "markdown",
   "metadata": {
    "slideshow": {
     "slide_type": "fragment"
    }
   },
   "source": [
    "- _You_ choose the prior $p(\\theta)$ to reflect what you know about the parameter values before you see the data $D$.\n",
    "  "
   ]
  },
  {
   "cell_type": "markdown",
   "metadata": {
    "slideshow": {
     "slide_type": "slide"
    }
   },
   "source": [
    "### (2) Parameter estimation\n",
    "\n",
    "- After model specification, you need to measure/collect a data set $D$. Then, use Bayes rule to find the posterior distribution for the parameters,\n",
    "$$\n",
    "p(\\theta|D) = \\frac{p(D|\\theta) p(\\theta)}{p(D)} \\propto p(D|\\theta) p(\\theta)\n",
    "$$  \n",
    "  - The denominator is only a normalization factor."
   ]
  },
  {
   "cell_type": "markdown",
   "metadata": {
    "slideshow": {
     "slide_type": "fragment"
    }
   },
   "source": [
    "- Note that there's **no need for you to design a _smart_ parameter estimation algorithm**. The only complexity lies in the computational issues.  "
   ]
  },
  {
   "cell_type": "markdown",
   "metadata": {
    "slideshow": {
     "slide_type": "fragment"
    }
   },
   "source": [
    "- This \"recipe\" works only if the RHS factors can be evaluated; this is what machine learning is about     \n",
    "  $\\Rightarrow$ **Machine learning is EASY, apart from computational details :) **\n",
    "  "
   ]
  },
  {
   "cell_type": "markdown",
   "metadata": {
    "slideshow": {
     "slide_type": "slide"
    }
   },
   "source": [
    "### (3) Prediction\n",
    "\n",
    "- Given the data $D$, our knowledge about the yet unobserved datum $x$ is captured by\n",
    "$$\\begin{align*}\n",
    "p(x|D) &= \\int p(x,\\theta|D) \\,\\mathrm{d}\\theta\\\\\n",
    " &= \\int p(x|\\theta,D) p(\\theta|D) \\,\\mathrm{d}\\theta\\\\\n",
    " &= \\int p(x|\\theta) p(\\theta|D) \\,\\mathrm{d}\\theta\\\\\n",
    "\\end{align*}$$"
   ]
  },
  {
   "cell_type": "markdown",
   "metadata": {
    "slideshow": {
     "slide_type": "fragment"
    }
   },
   "source": [
    "- Again, **no need to invent a special prediction algorithm**. Probability theory takes care of all that. The complexity of prediction is just computational: how to carry out the marginalization over $\\theta$."
   ]
  },
  {
   "cell_type": "markdown",
   "metadata": {
    "slideshow": {
     "slide_type": "fragment"
    }
   },
   "source": [
    "- In order to execute prediction, you need to have access to the factors $p(x|\\theta)$ and $p(\\theta|D)$. Where do these factors come from? Are they available?\n",
    "  "
   ]
  },
  {
   "cell_type": "markdown",
   "metadata": {
    "slideshow": {
     "slide_type": "fragment"
    }
   },
   "source": [
    "- What did we learn from $D$? Without access to $D$, we would predict new observations through\n",
    "$$\n",
    "p(x) = \\int p(x,\\theta) \\,\\mathrm{d}\\theta = \\int p(x|\\theta) p(\\theta) \\,\\mathrm{d}\\theta\n",
    "$$"
   ]
  },
  {
   "cell_type": "markdown",
   "metadata": {
    "slideshow": {
     "slide_type": "fragment"
    }
   },
   "source": [
    "- NB The application of the learned posterior $p(\\theta|D)$ not necessarily has to be prediction. We use it here as an example, but other applications are of course also possible. \n",
    "  "
   ]
  },
  {
   "cell_type": "markdown",
   "metadata": {
    "slideshow": {
     "slide_type": "slide"
    }
   },
   "source": [
    "###  Bayesian Model Comparison \n",
    "\n",
    "- There appears to be a remaining problem: How good really were our model assumptions $p(x|\\theta)$ and $p(\\theta)$?  "
   ]
  },
  {
   "cell_type": "markdown",
   "metadata": {
    "slideshow": {
     "slide_type": "fragment"
    }
   },
   "source": [
    "- Technically, this is a **model comparison** problem"
   ]
  },
  {
   "cell_type": "markdown",
   "metadata": {
    "slideshow": {
     "slide_type": "fragment"
    }
   },
   "source": [
    "- [**Q**.] What if I have more candidate models, say $\\mathcal{M} = \\{m_1,\\ldots,m_K\\}$ where each model relates to specific prior $p(\\theta|m_k)$ and likelihood $p(D|\\theta,m_k)$? Can we evaluate the relative performance of a model against another model from the set?"
   ]
  },
  {
   "cell_type": "markdown",
   "metadata": {
    "slideshow": {
     "slide_type": "fragment"
    }
   },
   "source": [
    "- [**A**.]: Start again with **model specification**. Specify a prior $p(m_k)$ for each of the models and then solve the desired inference problem:      \n",
    "$$\\begin{align*} \n",
    "p(m_k|D) &= \\frac{p(D|m_k) p(m_k)}{p(D)} \\\\\n",
    "  &\\propto p(m_k) \\cdot p(D|m_k) \\\\\n",
    "  &= p(m_k)\\cdot \\int_\\theta p(D,\\theta|m_k) \\,\\mathrm{d}\\theta\\\\\n",
    "  &= \\underbrace{p(m_k)}_{\\substack{\\text{model}\\\\\\text{prior}}}\\cdot \\int_\\theta \\underbrace{p(D|\\theta,m_k)}_{\\text{likelihood}} \\,\\underbrace{p(\\theta|m_k)}_{\\text{prior}}\\, \\mathrm{d}\\theta\\\\\n",
    "\\end{align*}$$"
   ]
  },
  {
   "cell_type": "markdown",
   "metadata": {
    "slideshow": {
     "slide_type": "slide"
    }
   },
   "source": [
    "### Bayesian Model Comparison (continued) \n",
    "\n",
    "- You, the engineer, have to choose the factors $p(D|\\theta,m_k)$, $p(\\theta|m_k)$ and $p(m_k)$. After that, for a given data set $D$, the model posterior $p(m_k|D)$ can be computed. "
   ]
  },
  {
   "cell_type": "markdown",
   "metadata": {
    "slideshow": {
     "slide_type": "fragment"
    }
   },
   "source": [
    "- If you need to work with one model,select the model with largest posterior $p(m_k|D)$"
   ]
  },
  {
   "cell_type": "markdown",
   "metadata": {
    "slideshow": {
     "slide_type": "fragment"
    }
   },
   "source": [
    "- Alternatively, if you don't want to choose a model, you can do prediction by **Bayesian model averaging** to utilitize the predictive power from all models:\n",
    "$$\\begin{align*}\n",
    "p(x|D) &= \\sum_k \\int p(x,\\theta,m_k|D)\\,\\mathrm{d}\\theta \\\\\n",
    "  &= \\sum_k \\underbrace{p(m_k|D)}_{\\substack{\\text{model}\\\\\\text{posterior}}} \\cdot \\int \\underbrace{p(\\theta|D)}_{\\substack{\\text{parameter}\\\\\\text{posterior}}} \\, \\underbrace{p(x|\\theta,m_k)}_{\\text{likelihood}} \\,\\mathrm{d}\\theta\n",
    "\\end{align*}$$ "
   ]
  },
  {
   "cell_type": "markdown",
   "metadata": {
    "slideshow": {
     "slide_type": "fragment"
    }
   },
   "source": [
    "- $\\Rightarrow$ In a Bayesian framework, **model comparison** follows the same recipe as parameter estimation; it just works at one higher hierarchical level."
   ]
  },
  {
   "cell_type": "markdown",
   "metadata": {
    "slideshow": {
     "slide_type": "fragment"
    }
   },
   "source": [
    "- More on this in part 2 (Tjalkens).  "
   ]
  },
  {
   "cell_type": "markdown",
   "metadata": {
    "slideshow": {
     "slide_type": "slide"
    }
   },
   "source": [
    "### Machine Learning and the Scientific Method Revisited\n",
    "\n",
    "- Bayesian probability theory provides a unified framework for information processing (and even the Scientific Method).\n",
    "\n",
    "<img src=\"./figures/ml-and-scientific-loop-2.png\" width=\"450px\">"
   ]
  },
  {
   "cell_type": "markdown",
   "metadata": {
    "slideshow": {
     "slide_type": "slide"
    }
   },
   "source": [
    "### Now Solve the Example Problem: Predicting a Coin Toss\n",
    "\n",
    "- We observe a the following sequence of heads (h) and tails (t) when tossing the same coin repeatedly $$D=\\{hthhtth\\}\\,.$$\n",
    "\n",
    "- What is the probability that heads (h) comes up next? We solve this in the next slides ..."
   ]
  },
  {
   "cell_type": "markdown",
   "metadata": {
    "slideshow": {
     "slide_type": "slide"
    }
   },
   "source": [
    "### Coin toss example (1): Model Specification\n",
    "\n",
    "We observe a sequence of $N$ coin tosses $D=\\{x_1,\\ldots,x_N\\}$ with $n$ heads. "
   ]
  },
  {
   "cell_type": "markdown",
   "metadata": {
    "slideshow": {
     "slide_type": "fragment"
    }
   },
   "source": [
    "##### Likelihood\n",
    "- Assume a Bernoulli distributed variable $p(x_k=h|\\mu)=\\mu$, which leads to a **binomial** distribution for the likelihood (assume $n$ times heads were thrown):\n",
    "$$   \n",
    "p(D|\\mu) = \\prod_{k=1}^N p(x_k|\\mu) = \\mu^n (1-\\mu)^{N-n}\n",
    "$$"
   ]
  },
  {
   "cell_type": "markdown",
   "metadata": {
    "slideshow": {
     "slide_type": "fragment"
    }
   },
   "source": [
    "##### Prior\n",
    "-  Assume the prior belief is governed by a **beta distribution**\n",
    "$$\n",
    "p(\\mu) = \\mathcal{B}(\\mu|\\alpha,\\beta) = \\frac{\\Gamma(\\alpha+\\beta)}{\\Gamma(\\alpha)\\Gamma(\\beta)} \\mu^{\\alpha-1}(1-\\mu)^{\\beta-1}\n",
    "$$\n",
    "<!---  - The Gamma function is sort of a generalized factorial function. If $\\alpha,\\beta$ are integers, then $\\frac{\\Gamma(\\alpha+\\beta)}{\\Gamma(\\alpha)(\\Gamma(\\beta)} = \\frac{(\\alpha+\\beta-1)!}{(\\alpha-1)!\\,(\\beta-1)!}$\n",
    "---> "
   ]
  },
  {
   "cell_type": "markdown",
   "metadata": {
    "slideshow": {
     "slide_type": "fragment"
    }
   },
   "source": [
    "- The Beta distribution is a **conjugate prior** for the Binomial distribution, which means that \n",
    "$$\n",
    "\\text{beta} \\propto \\text{binomial} \\times \\text{beta}\n",
    "$$"
   ]
  },
  {
   "cell_type": "markdown",
   "metadata": {
    "slideshow": {
     "slide_type": "fragment"
    }
   },
   "source": [
    "- $\\alpha$ and $\\beta$ are called **hyperparameters**, since they parameterize the distribution for another parameter ($\\mu$). E.g., $\\alpha=\\beta=1$ (uniform).\n",
    "  "
   ]
  },
  {
   "cell_type": "markdown",
   "metadata": {
    "slideshow": {
     "slide_type": "slide"
    }
   },
   "source": [
    "### Coin toss example (2): Parameter estimation\n",
    "\n",
    "- Infer posterior PDF over $\\mu$ through Bayes rule\n",
    "\n",
    "$$\\begin{align*}\n",
    "p(\\mu|D) &\\propto p(D|\\mu)\\,p(\\mu|\\alpha,\\beta)  \\\\ \n",
    "        &= \\mu^n (1-\\mu)^{N-n} \\times \\mu^{\\alpha-1} (1-\\mu)^{\\beta-1} \\\\\n",
    "        &= \\mu^{n+\\alpha-1} (1-\\mu)^{N-n+\\beta-1} \n",
    "\\end{align*}$$\n",
    "\n",
    "hence the posterior is also beta distributed as\n",
    "\n",
    "$$\n",
    "p(\\mu|D) = \\mathcal{B}(\\mu|\\,n+\\alpha, N-n+\\beta)\n",
    "$$"
   ]
  },
  {
   "cell_type": "markdown",
   "metadata": {
    "slideshow": {
     "slide_type": "fragment"
    }
   },
   "source": [
    "- Essentially, **here ends the machine learning activity**"
   ]
  },
  {
   "cell_type": "markdown",
   "metadata": {
    "slideshow": {
     "slide_type": "slide"
    }
   },
   "source": [
    "### Coin Toss Example (3): Prediction\n",
    "\n",
    "- Now, we want to **use** the trained model. Let's use it to predict future observations. "
   ]
  },
  {
   "cell_type": "markdown",
   "metadata": {
    "slideshow": {
     "slide_type": "fragment"
    }
   },
   "source": [
    "- Marginalize over the parameter posterior to get the predictive PDF for a new coin toss $x_\\bullet$, given the data $D$,\n",
    "\n",
    "$$\\begin{align*}\n",
    "p(x_\\bullet=h|D)  &= \\int_0^1 p(x_\\bullet=h|\\mu)\\,p(\\mu|D) \\,\\mathrm{d}\\mu \\\\\n",
    "  &= \\int_0^1 \\mu \\times  \\mathcal{B}(\\mu|\\,n+\\alpha, N-n+\\beta) \\,\\mathrm{d}\\mu  \\\\\n",
    "  &= \\frac{n+\\alpha}{N+\\alpha+\\beta} \\qquad \\mbox{(a.k.a. Laplace rule)}\\hfill\n",
    "\\end{align*}$$"
   ]
  },
  {
   "cell_type": "markdown",
   "metadata": {
    "slideshow": {
     "slide_type": "fragment"
    }
   },
   "source": [
    "- Finally, we're ready to solve our example problem: for $D=\\{hthhtth\\}$ and uniform prior ($\\alpha=\\beta=1$), we get\n",
    "\n",
    "$$ p(x_\\bullet=h|D)=\\frac{n+1}{N+2} = \\frac{4+1}{7+2} = \\frac{5}{9}$$\n",
    " "
   ]
  },
  {
   "cell_type": "markdown",
   "metadata": {
    "slideshow": {
     "slide_type": "slide"
    }
   },
   "source": [
    "### Coin Toss Example: What did we learn?\n",
    "\n",
    "- What did we learn from the data? Before seeing any data, we think that $$p(x_\\bullet=h)=\\left. p(x_\\bullet=h|D) \\right|_{n=N=0} = \\frac{\\alpha}{\\alpha + \\beta}\\,.$$ "
   ]
  },
  {
   "cell_type": "markdown",
   "metadata": {
    "slideshow": {
     "slide_type": "fragment"
    }
   },
   "source": [
    "- After the $N$ coin tosses, we think that $p(x_\\bullet=h|D) = \\frac{n+\\alpha}{N+\\alpha+\\beta}$."
   ]
  },
  {
   "cell_type": "markdown",
   "metadata": {
    "slideshow": {
     "slide_type": "fragment"
    }
   },
   "source": [
    "- Note the following decomposition\n",
    "\n",
    "$$\\begin{align*}\n",
    "    p(x_\\bullet=h|\\,D) &= \\frac{n+\\alpha}{N+\\alpha+\\beta} = \\frac{n}{N+\\alpha+\\beta} + \\frac{\\alpha}{N+\\alpha+\\beta} \\\\\n",
    "        &= \\frac{N}{N+\\alpha+\\beta}\\cdot \\frac{n}{N} + \\frac{\\alpha+\\beta}{N+\\alpha+\\beta} \\cdot \\frac{\\alpha}{\\alpha+\\beta} \\\\\n",
    "        &= \\underbrace{\\frac{\\alpha}{\\alpha+\\beta}}_{prior} + \\underbrace{\\frac{N}{N+\\alpha+\\beta}}_{gain}\\cdot \\big( \\underbrace{\\frac{n}{N}}_{MLE} - \\underbrace{\\frac{\\alpha}{\\alpha+\\beta}}_{prior} \\big)\n",
    "\\end{align*}$$"
   ]
  },
  {
   "cell_type": "markdown",
   "metadata": {
    "slideshow": {
     "slide_type": "fragment"
    }
   },
   "source": [
    "- Note that, since $0\\leq\\text{gain}\\lt 1$, the Bayesian estimate lies between prior and maximum likelihood estimate."
   ]
  },
  {
   "cell_type": "markdown",
   "metadata": {
    "slideshow": {
     "slide_type": "fragment"
    }
   },
   "source": [
    "- For large $N$, the gain goes to $1$ and $p(x_\\bullet=h|D)$ goes to the maximum likelihood estimate (the relative frequency) $n/N$."
   ]
  },
  {
   "cell_type": "markdown",
   "metadata": {
    "slideshow": {
     "slide_type": "slide"
    }
   },
   "source": [
    "#### CODE EXAMPLE\n",
    "\n",
    "**Bayesian evolution of $p(\\mu|D)$ for the coin toss**\n",
    "\n",
    "Let's see how $p(\\mu|D)$ evolves as we increase the number of coin tosses $N$. We'll use two different priors to demonstrate the effect of the prior on the posterior (set $N=0$ to inspect the prior)."
   ]
  },
  {
   "cell_type": "code",
   "execution_count": 1,
   "metadata": {
    "slideshow": {
     "slide_type": "subslide"
    }
   },
   "outputs": [
    {
     "data": {
      "text/html": [
       "    <script class='js-collapse-script'>\n",
       "        var curMatch =\n",
       "            window.location.href\n",
       "            .match(/(.*?)\\/notebooks\\/.*\\.ipynb/);\n",
       "\n",
       "        curMatch = curMatch ||\n",
       "            window.location.href\n",
       "            .match(/(.*?)\\/apps\\/.*\\.ipynb/);\n",
       "\n",
       "        if ( curMatch ) {\n",
       "            $('head').append('<base href=\"' + curMatch[1] + '/\">');\n",
       "        }\n",
       "    </script>\n"
      ],
      "text/plain": [
       "HTML{String}(\"    <script class='js-collapse-script'>\\n        var curMatch =\\n            window.location.href\\n            .match(/(.*?)\\\\/notebooks\\\\/.*\\\\.ipynb/);\\n\\n        curMatch = curMatch ||\\n            window.location.href\\n            .match(/(.*?)\\\\/apps\\\\/.*\\\\.ipynb/);\\n\\n        if ( curMatch ) {\\n            \\$('head').append('<base href=\\\"' + curMatch[1] + '/\\\">');\\n        }\\n    </script>\\n\")"
      ]
     },
     "metadata": {},
     "output_type": "display_data"
    },
    {
     "data": {
      "text/html": [
       "<script class='js-collapse-script' src='/assetserver/dd91f3031364604158edbfeafbf7beddcd119b2c-assets/webio/dist/bundle.js'></script>"
      ],
      "text/plain": [
       "HTML{String}(\"<script class='js-collapse-script' src='/assetserver/dd91f3031364604158edbfeafbf7beddcd119b2c-assets/webio/dist/bundle.js'></script>\")"
      ]
     },
     "metadata": {},
     "output_type": "display_data"
    },
    {
     "data": {
      "text/html": [
       "<script class='js-collapse-script' src='/assetserver/dd91f3031364604158edbfeafbf7beddcd119b2c-assets/providers/ijulia_setup.js'></script>"
      ],
      "text/plain": [
       "HTML{String}(\"<script class='js-collapse-script' src='/assetserver/dd91f3031364604158edbfeafbf7beddcd119b2c-assets/providers/ijulia_setup.js'></script>\")"
      ]
     },
     "metadata": {},
     "output_type": "display_data"
    },
    {
     "data": {
      "text/html": [
       "  <script class='js-collapse-script'>\n",
       "    $('.js-collapse-script').parent('.output_subarea').css('padding', '0');\n",
       "  </script>\n"
      ],
      "text/plain": [
       "HTML{String}(\"  <script class='js-collapse-script'>\\n    \\$('.js-collapse-script').parent('.output_subarea').css('padding', '0');\\n  </script>\\n\")"
      ]
     },
     "metadata": {},
     "output_type": "display_data"
    },
    {
     "data": {
      "text/html": [
       "<div class='tex2jax_ignore interactbulma'>\n",
       "<div class='display:none'></div><unsafe-script style='display:none'>\n",
       "WebIO.mount(this.previousSibling,{&quot;props&quot;:{},&quot;nodeType&quot;:&quot;DOM&quot;,&quot;type&quot;:&quot;node&quot;,&quot;instanceArgs&quot;:{&quot;namespace&quot;:&quot;html&quot;,&quot;tag&quot;:&quot;div&quot;},&quot;children&quot;:[{&quot;props&quot;:{&quot;className&quot;:&quot;field&quot;},&quot;nodeType&quot;:&quot;DOM&quot;,&quot;type&quot;:&quot;node&quot;,&quot;instanceArgs&quot;:{&quot;namespace&quot;:&quot;html&quot;,&quot;tag&quot;:&quot;div&quot;},&quot;children&quot;:[{&quot;props&quot;:{},&quot;nodeType&quot;:&quot;Scope&quot;,&quot;type&quot;:&quot;node&quot;,&quot;instanceArgs&quot;:{&quot;imports&quot;:{&quot;data&quot;:[{&quot;name&quot;:&quot;knockout&quot;,&quot;type&quot;:&quot;js&quot;,&quot;url&quot;:&quot;/assetserver/88bf0b823d344fcff0b77616d12840286b6c8fa3-knockout.js&quot;},{&quot;name&quot;:&quot;knockout_punches&quot;,&quot;type&quot;:&quot;js&quot;,&quot;url&quot;:&quot;/assetserver/2bd5b097e96d6b4fb8b3b86c01ec3eb6f00ba8bc-knockout_punches.js&quot;},{&quot;name&quot;:null,&quot;type&quot;:&quot;js&quot;,&quot;url&quot;:&quot;/assetserver/33fc17ead5d6c83c74b2449f7c19558c51387837-all.js&quot;},{&quot;name&quot;:null,&quot;type&quot;:&quot;css&quot;,&quot;url&quot;:&quot;/assetserver/f0f1a82ab037979b58e3919f91c0a1436c2b13ea-style.css&quot;},{&quot;name&quot;:null,&quot;type&quot;:&quot;css&quot;,&quot;url&quot;:&quot;/assetserver/84fa6bb423ab1a438691a358fbcb123d0820e96c-main.css&quot;}],&quot;type&quot;:&quot;async_block&quot;},&quot;id&quot;:&quot;knockout-component-30d8008c-bf56-4816-9cfe-cf113579ac33&quot;,&quot;handlers&quot;:{&quot;_promises&quot;:{&quot;importsLoaded&quot;:[function (ko, koPunches) {\n",
       "    ko.punches.enableAll();\n",
       "    ko.bindingHandlers.numericValue = {\n",
       "        init : function(element, valueAccessor, allBindings, data, context) {\n",
       "            var stringified = ko.observable(ko.unwrap(valueAccessor()));\n",
       "            stringified.subscribe(function(value) {\n",
       "                var val = parseFloat(value);\n",
       "                if (!isNaN(val)) {\n",
       "                    valueAccessor()(val);\n",
       "                }\n",
       "            })\n",
       "            valueAccessor().subscribe(function(value) {\n",
       "                var str = JSON.stringify(value);\n",
       "                if ((str == &quot;0&quot;) &amp;&amp; ([&quot;-0&quot;, &quot;-0.&quot;].indexOf(stringified()) &gt;= 0))\n",
       "                     return;\n",
       "                 if ([&quot;null&quot;, &quot;&quot;].indexOf(str) &gt;= 0)\n",
       "                     return;\n",
       "                stringified(str);\n",
       "            })\n",
       "            ko.applyBindingsToNode(element, { value: stringified, valueUpdate: allBindings.get(&#39;valueUpdate&#39;)}, context);\n",
       "        }\n",
       "    };\n",
       "    var json_data = JSON.parse(&quot;{\\&quot;changes\\&quot;:0,\\&quot;value\\&quot;:96}&quot;);\n",
       "    var self = this;\n",
       "    function AppViewModel() {\n",
       "        for (var key in json_data) {\n",
       "            var el = json_data[key];\n",
       "            this[key] = Array.isArray(el) ? ko.observableArray(el) : ko.observable(el);\n",
       "        }\n",
       "        \n",
       "        \n",
       "        [this[&quot;changes&quot;].subscribe((function (val){!(this.valueFromJulia[&quot;changes&quot;]) ? (WebIO.setval({&quot;name&quot;:&quot;changes&quot;,&quot;scope&quot;:&quot;knockout-component-30d8008c-bf56-4816-9cfe-cf113579ac33&quot;,&quot;id&quot;:&quot;ob_02&quot;,&quot;type&quot;:&quot;observable&quot;},val)) : undefined; return this.valueFromJulia[&quot;changes&quot;]=false}),self),this[&quot;value&quot;].subscribe((function (val){!(this.valueFromJulia[&quot;value&quot;]) ? (WebIO.setval({&quot;name&quot;:&quot;value&quot;,&quot;scope&quot;:&quot;knockout-component-30d8008c-bf56-4816-9cfe-cf113579ac33&quot;,&quot;id&quot;:&quot;ob_01&quot;,&quot;type&quot;:&quot;observable&quot;},val)) : undefined; return this.valueFromJulia[&quot;value&quot;]=false}),self)]\n",
       "        \n",
       "    }\n",
       "    self.model = new AppViewModel();\n",
       "    self.valueFromJulia = {};\n",
       "    for (var key in json_data) {\n",
       "        self.valueFromJulia[key] = false;\n",
       "    }\n",
       "    ko.applyBindings(self.model, self.dom);\n",
       "}\n",
       "]},&quot;changes&quot;:[(function (val){return (val!=this.model[&quot;changes&quot;]()) ? (this.valueFromJulia[&quot;changes&quot;]=true, this.model[&quot;changes&quot;](val)) : undefined})],&quot;value&quot;:[(function (val){return (val!=this.model[&quot;value&quot;]()) ? (this.valueFromJulia[&quot;value&quot;]=true, this.model[&quot;value&quot;](val)) : undefined})]},&quot;systemjs_options&quot;:null,&quot;observables&quot;:{&quot;changes&quot;:{&quot;sync&quot;:false,&quot;id&quot;:&quot;ob_02&quot;,&quot;value&quot;:0},&quot;value&quot;:{&quot;sync&quot;:true,&quot;id&quot;:&quot;ob_01&quot;,&quot;value&quot;:96}}},&quot;children&quot;:[{&quot;props&quot;:{&quot;attributes&quot;:{&quot;class&quot;:&quot;interact-flex-row&quot;}},&quot;nodeType&quot;:&quot;DOM&quot;,&quot;type&quot;:&quot;node&quot;,&quot;instanceArgs&quot;:{&quot;namespace&quot;:&quot;html&quot;,&quot;tag&quot;:&quot;div&quot;},&quot;children&quot;:[{&quot;props&quot;:{&quot;attributes&quot;:{&quot;class&quot;:&quot;interact-flex-row-left&quot;}},&quot;nodeType&quot;:&quot;DOM&quot;,&quot;type&quot;:&quot;node&quot;,&quot;instanceArgs&quot;:{&quot;namespace&quot;:&quot;html&quot;,&quot;tag&quot;:&quot;div&quot;},&quot;children&quot;:[{&quot;props&quot;:{&quot;className&quot;:&quot;interact &quot;,&quot;style&quot;:{&quot;padding&quot;:&quot;5px 10px 0px 10px&quot;}},&quot;nodeType&quot;:&quot;DOM&quot;,&quot;type&quot;:&quot;node&quot;,&quot;instanceArgs&quot;:{&quot;namespace&quot;:&quot;html&quot;,&quot;tag&quot;:&quot;label&quot;},&quot;children&quot;:[&quot;N&quot;]}]},{&quot;props&quot;:{&quot;attributes&quot;:{&quot;class&quot;:&quot;interact-flex-row-center&quot;}},&quot;nodeType&quot;:&quot;DOM&quot;,&quot;type&quot;:&quot;node&quot;,&quot;instanceArgs&quot;:{&quot;namespace&quot;:&quot;html&quot;,&quot;tag&quot;:&quot;div&quot;},&quot;children&quot;:[{&quot;props&quot;:{&quot;max&quot;:192,&quot;min&quot;:0,&quot;attributes&quot;:{&quot;type&quot;:&quot;range&quot;,&quot;data-bind&quot;:&quot;numericValue: value, valueUpdate: &#39;input&#39;, event: {change : function () {this.changes(this.changes()+1)}}&quot;,&quot;orient&quot;:&quot;horizontal&quot;},&quot;step&quot;:1,&quot;className&quot;:&quot;slider slider is-fullwidth&quot;,&quot;style&quot;:{}},&quot;nodeType&quot;:&quot;DOM&quot;,&quot;type&quot;:&quot;node&quot;,&quot;instanceArgs&quot;:{&quot;namespace&quot;:&quot;html&quot;,&quot;tag&quot;:&quot;input&quot;},&quot;children&quot;:[]}]},{&quot;props&quot;:{&quot;attributes&quot;:{&quot;class&quot;:&quot;interact-flex-row-right&quot;}},&quot;nodeType&quot;:&quot;DOM&quot;,&quot;type&quot;:&quot;node&quot;,&quot;instanceArgs&quot;:{&quot;namespace&quot;:&quot;html&quot;,&quot;tag&quot;:&quot;div&quot;},&quot;children&quot;:[{&quot;props&quot;:{&quot;attributes&quot;:{&quot;data-bind&quot;:&quot;text: value&quot;}},&quot;nodeType&quot;:&quot;DOM&quot;,&quot;type&quot;:&quot;node&quot;,&quot;instanceArgs&quot;:{&quot;namespace&quot;:&quot;html&quot;,&quot;tag&quot;:&quot;p&quot;},&quot;children&quot;:[]}]}]}]}]},{&quot;props&quot;:{},&quot;nodeType&quot;:&quot;Scope&quot;,&quot;type&quot;:&quot;node&quot;,&quot;instanceArgs&quot;:{&quot;imports&quot;:{&quot;data&quot;:[],&quot;type&quot;:&quot;async_block&quot;},&quot;id&quot;:&quot;scope-d3f67043-9dd8-45a9-baa9-1c47877330d6&quot;,&quot;handlers&quot;:{&quot;obs-output&quot;:[function (updated_htmlstr) {\n",
       "    var el = this.dom.querySelector(&quot;#out&quot;);\n",
       "    WebIO.propUtils.setInnerHtml(el, updated_htmlstr);\n",
       "}]},&quot;systemjs_options&quot;:null,&quot;observables&quot;:{&quot;obs-output&quot;:{&quot;sync&quot;:false,&quot;id&quot;:&quot;ob_05&quot;,&quot;value&quot;:&quot;&lt;div class=&#39;display:none&#39;&gt;&lt;/div&gt;&lt;unsafe-script style=&#39;display:none&#39;&gt;\\nWebIO.mount(this.previousSibling,{&amp;quot;props&amp;quot;:{&amp;quot;attributes&amp;quot;:{&amp;quot;class&amp;quot;:&amp;quot;interact-flex-row&amp;quot;}},&amp;quot;nodeType&amp;quot;:&amp;quot;DOM&amp;quot;,&amp;quot;type&amp;quot;:&amp;quot;node&amp;quot;,&amp;quot;instanceArgs&amp;quot;:{&amp;quot;namespace&amp;quot;:&amp;quot;html&amp;quot;,&amp;quot;tag&amp;quot;:&amp;quot;div&amp;quot;},&amp;quot;children&amp;quot;:[{&amp;quot;props&amp;quot;:{&amp;quot;setInnerHtml&amp;quot;:&amp;quot;&amp;lt;img src=&amp;#39;data:image/png;base64,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&amp;#39;&amp;gt;&amp;lt;/img&amp;gt;&amp;quot;},&amp;quot;nodeType&amp;quot;:&amp;quot;DOM&amp;quot;,&amp;quot;type&amp;quot;:&amp;quot;node&amp;quot;,&amp;quot;instanceArgs&amp;quot;:{&amp;quot;namespace&amp;quot;:&amp;quot;html&amp;quot;,&amp;quot;tag&amp;quot;:&amp;quot;div&amp;quot;},&amp;quot;children&amp;quot;:[]}]})&lt;/unsafe-script&gt;&quot;}}},&quot;children&quot;:[{&quot;props&quot;:{&quot;id&quot;:&quot;out&quot;,&quot;setInnerHtml&quot;:&quot;&lt;div class=&#39;display:none&#39;&gt;&lt;/div&gt;&lt;unsafe-script style=&#39;display:none&#39;&gt;\\nWebIO.mount(this.previousSibling,{&amp;quot;props&amp;quot;:{&amp;quot;attributes&amp;quot;:{&amp;quot;class&amp;quot;:&amp;quot;interact-flex-row&amp;quot;}},&amp;quot;nodeType&amp;quot;:&amp;quot;DOM&amp;quot;,&amp;quot;type&amp;quot;:&amp;quot;node&amp;quot;,&amp;quot;instanceArgs&amp;quot;:{&amp;quot;namespace&amp;quot;:&amp;quot;html&amp;quot;,&amp;quot;tag&amp;quot;:&amp;quot;div&amp;quot;},&amp;quot;children&amp;quot;:[{&amp;quot;props&amp;quot;:{&amp;quot;setInnerHtml&amp;quot;:&amp;quot;&amp;lt;img src=&amp;#39;data:image/png;base64,iVBORw0KGgoAAAANSUhEUgAAAjEAAAHICAYAAAC/Gru4AAAABHNCSVQICAgIfAhkiAAAAAlwSFlzAAAPYQAAD2EBqD+naQAAADl0RVh0U29mdHdhcmUAbWF0cGxvdGxpYiB2ZXJzaW9uIDMuMC4yLCBodHRwOi8vbWF0cGxvdGxpYi5vcmcvOIA7rQAAIABJREFUeJzs3Xl8FPXdB/DPJtlsbshBLnJCQO47gBAOD0AuW7U+VfAAK1JFfKhV0apQkHLaVqoCiiJWhAL1eEQQoQrIbQDBBCFAQg4SkpAASQjJZo95/qAz7CazIdns7sxuPu/Xy9dLZiez353sJp/8To0gCAKIiIiI3IyX0gUQERER2YMhhoiIiNwSQwwRERG5JYYYIiIicksMMUREROSWGGKIiIjILTHEEBERkVtiiCEiIiK3xBBDREREbokhhoiIiNwSQwwRERG5JYYYUp358+ejW7duMJvNdn19UlIS/vznP7e4jg8//BDt27dHdXV1k79m48aN6N69O/z9/aHRaHD8+PEW12HL2rVrodFo4Ofnh7y8vAaPjxw5Ej169HDY8/34448YM2YMgoODERQUhDvuuAP79++XPXffvn0YN24cQkND4e/vj06dOuGNN95wWC2Odvz4cYwfPx4JCQnw9/dHWFgYbr/9dqxbt65F59rS0vd4S4nvndzcXEWev75r165h1qxZiI2NhZ+fH/r06YN//etfdl3rgw8+gEajQVBQkNVxez7PpH4MMaQqRUVFWLp0KebPnw8vL8e9PfV6PVavXi398gkODkbbtm1xxx13YOjQoRg8eDBmzZqFU6dOSV/z+OOPIzAwEEuXLm3Sc1y6dAmPPvooOnbsiO3bt+PgwYPo3Lmzw16DLXq9Hq+99ppTnyM9PR3Dhw9HTU0NPvnkE3zyySeora3FXXfdhYMHD1qdu379eowYMQJt2rTBP//5T2zbtg2zZ8+GmveavXr1KuLj47Fw4UJs27YN//znP5GUlIRHH30UCxYssPtcOc56j7uz+++/Hx9//DHmzp2Lb775BqmpqXj44Yexfv36Zl2nsLAQL7zwAmJjYxs81tzPM7kJgUhFXnrpJaF9+/aCyWSy+xqJiYnC3LlzpX/n5OQIf/zjH4UffvhBqKioECZOnCgAED7//HPpnNzcXGH48OGCVqu1Ov7mm28Kbdq0Eaqrq2/5vPv27RMACBs3brS79voae96PPvpIACDcc889gpeXl3D8+HGrx0eMGCF0797dIXWMGTNGiIqKsqqnsrJSiIiIEIYMGSIdu3DhghAYGCg8/fTTDnlepQ0aNEiIj4936LnNeY835X1nD/G9c/78eadcvzm2bt0qABDWr19vdXzUqFFCbGysYDQam3ytCRMmCBMnThQef/xxITAwsMHjzfk8k3vgnwHkEhMnTsSAAQOwevVq9O7dG/7+/oiPj8fcuXOlJvW6ujp8+OGHmDRpkuxfqMnJyXj88ccbHL/zzjsxYsQIm88dExODN998E8OGDUNISAhKSkoQEBCAsWPHSuckJiZi06ZN0Gq1eP7556XjkydPRmVl5S2btqdMmYK0tDQAwG9/+1toNBqMHDlSenzfvn246667EBwcjICAAAwZMgRbt261usaf//xnaDQaHDt2DL/5zW8QGhqKjh07Nvq8APDSSy8hPDwcs2fPvuW59tq/fz9GjhyJgIAA6VhwcDCGDx+OAwcO4OLFiwBuNOVXV1c7tBbxvpw8eRIPP/ww2rRpg6ioKDzxxBOoqKhw2PPIiYiIgI+Pj8PObew9fqvv/9mzZzFp0iRERkZCp9Oha9euePfdd62uce7cOUydOhWdOnVCQEAA2rdvj4kTJyIjI6OJr7ghez93TfXFF18gKCgIDz74oNXxqVOnoqioCIcPH27SddatW4c9e/ZgxYoVNs9p6ueZ3AdDDLnE0aNHcfr0afz973/Hiy++iK+++gppaWmYP38+1qxZAwA4fPgwysvLcccddzT4+vLycuTm5mLAgAFWxwVBwLFjx9C/f3+bz+3n5yf9f2FhIdLT0zFq1Cir4wAQFRWFbt26ITc3F1euXAEAREdHo0uXLg0CR32vv/669Atl4cKFOHjwoPTDdM+ePbjzzjtRUVGBDz/8EBs2bEBwcDAmTpyIjRs3NrjW/fffj5SUFGzevBmrVq1q9HmBG2Hitddew7fffovvv/++0XMFQYDRaGzSf5bq6uqg0+kaXE88Jv6S/OGHHxAWFobTp0+jT58+8PHxQWRkJH7/+9+jsrLylq+lMQ888AA6d+6Mzz77DC+//DLWr1+PP/zhDw55fSKz2Qyj0YhLly5hxYoV+Pbbb20GsuacK2rsPS6S+/7/8ssvSE1NRWZmJv7617/i66+/xvjx4/Hcc89h3rx50tcWFRUhPDwcixcvxvbt2/Huu+/Cx8cHgwYNQlZWVqO1yWnO587ee5+ZmYmuXbs2CIC9evWSHr+V0tJSzJo1C4sXL0ZcXJzN85r6eSY3omg7ELUKFy5cEAAIHTp0EK5evSodr6urE6Kjo4UJEyYIgiAIS5YsEQAIxcXFDa6xfft2AYBw4MABq+NZWVkCAGHdunXSsfrdSZZWrlwpABA++OAD2cdHjhwpABAqKiqkY5MnTxaioqJu+Tp37dolABA2b95sdXzw4MFCZGSkUFVVJR0zGo1Cjx49hLi4OMFsNguCIAhz584VAAhz5sy55XMJws0ugfT0dEGv1wsdOnQQBgwYIF1PrjtJrLEp/1l2NfTp00fo3LmzVReIwWAQOnToYNUVcNtttwl+fn5CcHCwsHDhQmHXrl3C0qVLBX9/f2Ho0KFSbc0h3pelS5daHX/mmWcEPz8/q2va+/pE06dPlx739fUVVqxYYbOu5pwrauw93tj3f8yYMUJcXJzV+1IQBOHZZ58V/Pz8hMuXL8s+n9FoFOrq6oROnToJf/jDH6TjTe1Oas7nzt5736lTJ2HMmDENnruoqEgAICxcuLDRGgVBEB544AFhyJAh0nvBVneSIDT980zuoWntpEQtkJ6eDuBGc3mbNm2k41qtFikpKSgrKwNw469IjUaDiIgI2Wv4+PigT58+VsePHj0KAI22xFj6+uuvodFoMH78eNnHc3Nz0a5dO4SEhEjHIiMjUVpaCqPR2OSuBVF1dTUOHz6Mp59+2mq2hLe3Nx599FHMnj0bWVlZ6NKli/TYAw880KznAABfX18sWLAAkyZNwqZNm/Db3/5W9rz+/ftL349bsRwcOXPmTPzud7/Ds88+i1dffRVmsxnz5s2TZkWJXSNmsxm1tbWYO3cuXn75ZQA3Zkn5+vpi1qxZ+O6773D33Xc3+/UBwL333mv17169eqG2thalpaWIiopq0esT/elPf8KTTz6J0tJSbNmyBc8++yyqq6vxwgsvtOhcUWPvcVH9739tbS2+++47PP300wgICLBqyRg3bhzeeecdHDp0CGPHjoXRaMTSpUuxbt06nDt3DgaDQTrXctB6UzXnc9eSe6/RaGye29hjAPDZZ59hy5Yt+Omnn255LtCyzzOpD7+D5HRHjhyBVqtt0OcN3PihLv4grKmpgVarhbe3t+w1unXrBn9//wbHg4KCmjQLqKamBt9//z0GDhyI6OjoBo9nZGQgNzcXjz32mNVxPz8/CIKA2traBtM2b+XKlSsQBAExMTENHhN/kJeXl1sdlzu3KR566CG8+eabePXVV3H//ffLnhMUFNTgF5Itlj/gn3jiCVy6dAkLFizAypUrAQC33347XnjhBSxZsgTt27cHAISHh+Ps2bMYM2aM1bXGjh2LWbNm4dixY3aHmPDwcKt/i11ZNTU10jF7X58oISEBCQkJAG4EBAB45ZVX8Pjjj6Ndu3Z2nytq7D0uqv/9Ly8vh9FoxNtvv423335b9mvEPwSef/55vPvuu5g9ezZGjBiB0NBQeHl54cknn7S6T03VnM+dvfc+PDy8wWcAAC5fvgwACAsLs3mda9euYcaMGZg5cyZiY2Nx9epVADe6P4EbM8m0Wi0CAwOlr2nJ55nUh2NiyOmOHDmCiIiIBmNQDh8+jJycHOkXQEREBOrq6mTXcThy5Aj69evX4Pju3bvRt2/fJk1V/e6771BTU4OJEyfKPj5nzhxotVq88sorVscvX74MnU5n1w888ZeIOPDVUlFREQA0+Ku8KX9NytFoNFiyZAmys7Px/vvvy56zZ88eaLXaJv1Xfw2R2bNno6ysTAp7Bw4cwJUrVxAYGCgFUXEcQ33Cf6dXO3tKcUten5yBAwfCaDQiJyfHIec29h4X1f/+h4aGwtvbG1OmTEF6errsf+JnaN26dXjsscewcOFCjBkzBgMHDsSAAQOkkNNczfnc2Xvve/bsiVOnTjUYKyOOs2psraOysjKUlJTgr3/9K0JDQ6X/NmzYgOrqaoSGhmLy5MlWX9OSzzOpD1tiyOmOHDmCiooKXL16FW3btgUAmEwmzJ49G0lJSZg0aRIASF0q2dnZVr8Mi4uLUVhY2OAv5z179uDYsWOYNWtWk+oQB/PVDzF6vR6vvvoqvvzyS7zzzjtWXTsAkJOTg27dujXjFd8UGBiIQYMG4fPPP8ebb74p/UVrNpuxbt06xMXFOXQtmbvvvhujRo3C/PnzER8f3+Dxlna36HQ66ZdKfn4+Nm7ciGnTpkmv64EHHsD777+Pb775Bn379pW+btu2bQCAwYMHN/s1NUdLX199u3btgpeXFzp06OCQc229xxsTEBCAO+64Az/99BN69eoFX19fm+dqNJoGA7C3bt2KwsJCpKSkNOn5RM393Nl77++77z6sXr0an332mVU36Mcff4zY2FgMGjTI5nWio6Oxa9euBscXL16MPXv24JtvvmnwR0JLPs+kPgwx5FTnz59HeXk5EhIS8OCDD+KPf/wjamtr8Y9//ANHjx7F7t27pR/K4pTkQ4cOWf2AF38wbt68Gd26dUNKSgqOHz8uzQYqLS1FZmZmo3+x6fV6fPHFFwgLC5OuXVpaiq+++goLFy5EWVkZPvzwQzzxxBNWX2c2m/Hjjz/id7/7nd33YNGiRRg1ahTuuOMOvPDCC/D19cWKFSuQmZmJDRs22N3yYsuSJUvQv39/lJaWonv37laPBQcHN5hp0hSZmZn47LPPMGDAAOh0Opw4cQKLFy9usBLv6NGjMXHiRMyfPx9msxmDBw/GkSNHMG/ePEyYMEGahi7SaDQYMWIEdu/ebddrrc/e1/fUU08hJCQEAwcORFRUFMrKyrB582Zs3LgRL774olX3UHPOrc/We/xWli9fjrS0NAwbNgxPP/00kpKSUFVVhXPnzmHLli3SrLQJEyZg7dq16NKlC3r16oWjR49i2bJljc7YsaW5nzt77/3YsWMxatQoPP3006isrERKSgo2bNiA7du3Y926dVLX2549e3DXXXdhzpw5mDNnDoAbXUOWSxmI1q5dC29v7waPOeLzTCqj7Lhi8nSbNm2SZjc8+uijQkhIiBAcHCz86le/En755ZcG5w8bNkwYN26c1bE5c+YIPj4+wubNm4WkpCTBz89PGDlypHD48GEhJSVFiImJsZo9UX92UmVlpZCamirNjGjXrp0QEREhREdHC3fffbewbNkyoaysTLb+7777TgAgHD169Jav1dbsJEEQhL179wp33nmnEBgYKPj7+wuDBw8WtmzZYnWOODvl0qVLt3wuQbCenVTfpEmTBAAOW+wuKytLGD58uBAWFib4+voKKSkpwmuvvSZcu3atwbnXr18XZs+eLcTHxws+Pj5CQkKC8Morrwi1tbVW51VVVQkAhIceeqjR57Z1Xxy5YNuaNWuEYcOGCREREYKPj4/Qtm1bYcSIEcInn3zSonPlyL3HBeHW3//z588LTzzxhNC+fXtBq9UK7dq1E4YMGSIsWLBAOufKlSvC7373OyEyMlIICAgQ0tLShL179wojRowQRowYIZ3XlHvX3M9dS1RVVQnPPfecEB0dLfj6+gq9evUSNmzYYHWO+PmyNfPQkq3ZSc35PJN70AiCitcCJ7f30ksvYcWKFaioqGh0MKNIbFLOy8uTBouOGzcOxcXFOHbsWJOeMykpCVOmTHHI/kmPPvoocnJybO4RRPbbtm0bJkyYgBMnTqBnz55Kl+Mycu9xNWru584d8PPseTiwl5xKHBjYlAAD3FjoKzU1FYsWLZKOHT16FAMHDnRWiTZlZ2dj48aNWLJkicufuzXYtWsXHnrooVYVYAD597gaKfW5cxZ+nj0TQww5jfDfVT2b00+u0WiwevVqxMbGwmw2Iz8/H6WlpYr8MM3Pz8c777zTYBwHOcayZcuavcGfJ6j/HlcjJT93zsLPs2didxJ5HEd2JxERkXoxxBAREZFbYncSERERuSWGGCIiInJLHrXYndlsRlFREYKDgx2+gBgRERE5hyAIqKqqQmxsbLO2J/GoEFNUVCS71DoRERGpX0FBQbNWmPaoEBMcHAzgxk0ICQlx6LUNBgN27NiB0aNHQ6vVOvTadBPvs2vwPrsG77Nr8D67jrPudWVlJeLj46Xf403lUSFG7EIKCQlxSogJCAhASEgIPyROxPvsGrzPrsH77Bq8z67j7Hvd3KEgHNhLREREbokhhoiIiNwSQwwRERG5JYYYIiIicksMMUREROSWGGKIiIjILTHEEBERkVtiiCEiIiK3xBBDREREbokhhoiIiNwSQwwRERG5JYYYIiIicksMMUQqZzKZUFNTo3QZRESqwxBDpGKCICAtLQ3t27fHDz/8oHQ5RESqwhBDpGIVFRUoKSnBlStXMHr0aHzzzTdKl0REpBoMMUQq1rZtW5w8eRIjRoyAXq/Hvffei02bNildFhGRKjDEEKmcv78/du7ciYceeghGoxEPPfQQPvjgA6XLIiJSHEMMkUrt2rULOTk5AACtVot169Zh+vTpEAQB06ZNw8cff6xwhUREyvJRugAiashkMmHKlCkoKCjA9u3bMXr0aHh7e2PlypXw9fVFeno6qqqqlC6TiEhRDDFEKrR9+3bk5+cjLCwMw4YNk45rNBr84x//ULAyIiL1YHcSkQqtXLkSADBlyhT4+/srXA0RkToxxBCpTG5uLrZt2wYAmD59us3zKisrcebMGVeVRUSkOgwxRCqzevVqCIKAu+66C507d5Y9Z8uWLQgNDcXjjz/u4uqIiNSDIYZIRTZu3IiFCxcCAJ5++mmb5/Xq1QtmsxlHjhxBdXW1q8ojIlIVhhgilbh69apVcImLi7N5bmJiIhISEmA0GnHo0CFXlEdEpDoMMUQq8dprr+HKlSvSv6dMmYLr16/bPH/48OEAwD2ViKjVYoghUoFjx45JM5I2bdqEmJgYnD59GrNnz7b5NQwxRNTaMcQQKcxsNuOZZ56B2WzGww8/jAcffBAfffQRAOCdd97B9u3bZb9ODDGHDh2CXq93Wb1ERGrBEEOksA8//BCHDx9GYGAgMjMz8dRTT2H06NF49tlnAQBTp05FWVlZg6/r3LkzIiMjUVtbi/T0dFeXTUSkOIYYIgWVlZXh5ZdfBgBMmjQJGRkZOHToEDQaDZYsWYIuXbqguLhYdr0YjUaDV155BStWrEBKSoqrSyciUhy3HSBS0Msvv4zLly+jd+/eSExMBAD07NkTABAQEIBPP/0UgwYNwueff47MzEz06NHD6utnzZrl8pqJiNRCVS0xRqMRr732GpKTk+Hv748OHTpg/vz5MJvNSpdG5HCXL1/GmjVrAAArVqxAZmYmgBtrwIj69euHkSNHAgD27t3r8hqJiNRMVSFmyZIlWLVqFd555x2cOnUKS5cuxbJly/D2228rXRqRw/34448QBAGdO3fGkCFD8PPPPwOwDjEAkJaWBsB2iMnKysKqVatw9uxZ5xZMRKQyqgoxBw8exK9+9SuMHz8eSUlJ+M1vfoPRo0fjyJEjSpdG5HDiInWDBg1CbW0tsrKyANgOMfv27ZO9zgsvvICnn34aW7ZscWK1RETqo6oxMWlpaVi1ahXOnDmDzp0748SJE9i3bx/eeust2fP1er3V1NLKykoAgMFggMFgcGht4vUcfV2y1pru88GDBwEAqamp+Pnnn2EymRAWFoZ27dpZvf7+/fvD29sbBQUFyM7ORkJCgtV1hg4diq+//hq7d+/GzJkzm/Tcrek+K4n32TV4n13HWffa3uupKsTMnj0bFRUV6NKlC7y9vWEymfCXv/wFDz/8sOz5ixYtwrx58xoc37FjBwICApxS486dO51yXbLm6ffZbDbjwIEDAG58eHfs2IGYmBhERETgm2++aXB+hw4dcPbsWbz77rsYMWKE1WPe3t4AgN27d+Prr7+Gl1fTG1g9/T6rBe+za/A+u46j73Vjq5M3RiMIguDQSlrgX//6F1588UUsW7YM3bt3x/HjxzFr1iz87W9/k92tV64lJj4+HmVlZQgJCXFobQaDATt37sSoUaOg1Wodem26qbXc56ysLPTs2RN+fn4oLy+XXqvJZJJCiaUXX3wRy5cvx1NPPYV33nnH6jGDwYDIyEhUV1fj2LFjDWYwyWkt91lpvM+uwfvsOs6615WVlYiIiEBFRUWzfn+rqiXmxRdfxMsvv4yHHnoIwI2ppnl5eVi0aJFsiNHpdNDpdA2Oa7Vap72RnXltusnT7/OxY8cAAAMGDLBqNbT1mocPH47ly5fjwIEDDc7RarXo27cv9u3bh1OnTqFv375NrsPT77Na8D67Bu+z6zj6Xtt7LVUN7L1+/XqDpnBvb29OsSaPYzmoFwBu1SAqDu7NzMy02iRSdNtttwEAzpw548gyiYhUTVUhZuLEifjLX/6CrVu3Ijc3F1988QX+9re/4b777lO6NCKHEkPM4MGDUVpaitDQUIwcORImk0n2/MjISHTu3BkApLE0lhhiiKg1UlV30ttvv43XX38dzzzzDEpLSxEbG4vp06djzpw5SpdG5DDXr1+X1oQZPHgwMjIyUFFRgcLCQtnxMKK0tDScOXMG+/btw/jx460e+81vfoMBAwaga9euTq2diEhNVBVigoOD8dZbb9mcUk3kCY4ePQqTyYTY2FjExcVh8+bNABquD1NfWloa1qxZI7voXXJyMpKTk51SLxGRWqmqO4moNbDsSgJgc6Xe+oYNGwYASE9PR21trRMrJCJyDwwxRC52+PBhAA1DjLjxoy0dO3ZEVFQU6urqZFex/vzzz/HKK69IezAREXk6hhgiF7OcmWQ0GvHLL78AuHVLjEajaXQLgtWrV2Px4sXSSsBERJ6OIYbIhS5cuCAN4O3fvz/OnTuH2tpaBAQEoEOHDrf8+sY2gxRnL3GGEhG1Fqoa2Evk6cSupJ49eyIwMBB1dXUYO3YstFptk7YLEMfF7N+/H2az2eprGGKIqLVhiCFyofqDenv16oVt27Y1+et79+6NwMBAVFRU4OTJk1bjaBhiiKi1YXcSkQvVDzHN5ePjg9tvvx1Aw3Ex4oJ32dnZMBqNLaiSiMg9MMQQuYjBYMDRo0cB3Nxu4PLly82+jq3BvXFxcfDz84PBYEBubm7LiiUicgMMMUQukpGRgZqaGrRt2xadO3dGdXU1wsPDERMTg+rq6iZfp3///gDQYCq1l5cXOnXqBODGLtlERJ6OY2KIXEQc1Dtw4EB4eXlJrSV6vR6BgYFNvk6XLl0AAGfPnm0wuPeTTz5B27ZtER8f77jCiYhUiiGGyEXErqSBAwcCgBRiEhMTm3WdpKQkaLVa1NTUoKCgwOrre/fu7ZhiiYjcALuTiFzk7NmzACBt0iiGmKSkpGZdx8fHBykpKQCA06dPO6w+IiJ3wxBD5CLnzp0DAGncir0hBrjZpVR/7EtZWRlef/11/P73v7e/UCIiN8EQQ+QC1dXVKCoqAgCpFSUvLw9A87uTgJvTqeu3xGg0GixYsADvvfdeswYLExG5I4YYIhfIzs4GAISFhSE0NBSAc1piwsPDERYWBuBmyw8RkadiiCFyATFQiK0wADBy5EiMHj1aWmm3OcSWGLmp1Fy5l4haC85OInKB+uNhAGDp0qV2X08MMYWFhaiqqkJwcLD0WOfOnXHo0CGGGCLyeGyJIXIBcWaSZUtMS4SGhiIyMhJAwxYXMeAwxBCRp2OIIXKB+t1J1dXVuHbtWouuaatLSexO4qq9ROTpGGKIXKB+iPnkk08QHByMSZMm2X1NcXBv/RlKYojh/klE5OkYYoic7Pr167hw4QKAhmvEtGvXzu7r2mqJ6dq1K7Kzs6XnJCLyVBzYS+RkOTk5AIC2bdtK05/t3XLAkq21YrRaLTp06GD3dYmI3AVbYoiczLIrSaPRALi50J09a8SI6m8ESUTU2jDEEDmZ3PTqlix0J6q/EaSlbdu2YfLkyVi5cqXd1yciUjuGGCInqz+9uqamBsXFxQBaFmJ8fHykYFS/S+ns2bNYv349vvvuO7uvT0SkdgwxRE5Wf2ZSfn4+ACAoKEjagsBetgb3iuGGa8UQkSfjwF4iJ6sfYnx9ffHUU09BEARpjIy9bA3uTU5OBnAzMBEReSKGGCInqq2tlcariK0jycnJeO+99xxyfVsbQcbHxwMAKioqUFFRgTZt2jjk+YiI1ITdSUROlJOTA0EQEBISgoiICIdf31Z3UlBQkDSdm60xROSpGGKInEhuenVhYWGLtxwQ1d8I0pK4Bg1DDBF5KoYYIieqPx4GAP7nf/4HwcHB+PLLL1t8/cY2gkxISICXlxfKyspa/DxERGrEMTFETiROr5ZbIyYuLs4hz3HbbbehtLQUp0+fRv/+/aXja9euRVBQEHx8+DEnIs/ElhgiJ6rfEqPX61FUVASgZVsOWLI1uLdt27YMMETk0RhiiJzI1hoxAQEBDhvoa2twLxGRp2OIIXISvV4vhZb6u1cnJia2eI0YkdgSU3+tmAsXLmDSpEm47777HPI8RERqw7ZmIic5f/48zGYzgoKCpMG3jtj4sT6xJUbcCNLL68bfJt7e3tiwYQO8vLxgMBig1Wod9pxERGrAlhgiJ5GbXu2IjR/rs7URZFRUFHx9fWE2m6VxOEREnoQhhshJ5KZXDxw4ENOmTcPIkSMd9jw+Pj7Sc1iOi/Hy8pJW7hVbgIiIPAm7k4icRG569b333ot7773X4c+UYUmQAAAgAElEQVTVoUMHnDp1qkFYSUhIQHZ2Nhe8IyKPxJYYIieRa4lxFrF7SuyuEnHVXiLyZAwxRE5SP8QYjUb88ssvqK6udvhziSHm/PnzVscTEhIAsDuJiDwTu5OInKCurk5qFRFDTF5eHrp37w4/Pz9cv37dYVOsAdstMeLWA9evX3fYcxERqQVDDJET5OXlwWw2IyAgADExMdIxwLFrxIhshZhHHnkEjz/+OFfuJSKPxO4kIicQx6BYBhZnTK8Wide8ePEiamtrpeM6nY4Bhog8FkMMkROI67WIU5wB54aY8PBwBAUFAeAgXiJqPRhiiJxADBKWIUY8Jg62dSSNRmOzS+nZZ59FWloaTp486fDnJSJSEkMMkROILTGWgaWwsBAAEBcX55TntBViDh8+jP379yM7O9spz0tEpBSGGCInkOtOEkNMbGysU57zVmvFcJo1EXkajvgjcgK57qQnnngCZ8+eRefOnZ3ynI1Ns7asiYjIUzDEEDmYIAiy3UkvvPCCU5+XIYaIWht2JxE5WEVFBa5duwbAeeNf5HDrASJqbRhiiBxMDAvh4eEICAgAAFy5cgWnTp1CVVWV057X1lox3HqAiDwVQwyRg8l1JW3btg3dunXDr371K6c9b1hYmLRWjGVgEbce8PX1hdFodNrzExG5GkMMkYPJzUwqKioCALRv395pz2trrZiIiAjo9Xrk5uZy9V4i8igMMUQOJjczydnTq0VyIUaj0TC8EJFHYoghcrDGFrpzZksMACQnJwNoOLiXiMgTMcQQOZgSC92JbM1Q+uCDDzBs2DC8/fbbTn1+IiJXYhszkYPJdSe5YkwMYDvEXLx4Efv27cNtt93m1OcnInIltsQQOZDZbMaFCxcA3OxOMpvNiocYTrMmIk/ElhgiByotLYXBYICXl5fUdWQ0GvH666+jsLAQ0dHRTn1+McQUFxejpqYG/v7+ALhqLxF5JoYYIgcSQ0JMTIw0I8jX1xevv/66S54/NDQUwcHBqKqqQn5+vtR9ZBliBEFwSS1ERM7G7iQiB5KbmeRKttaKiYuLg0ajQW1tLcrKyhSpjYjI0RhiiBzI1kJ3zt5ywJJciNHpdFJXFsfFEJGnYIghciC5mUnvv/8+unXr5vRdrEW2Bvd26NAB8fHx0uaURETujmNiiBxIrjtJnJnk7DViRGKIOX/+vNXxvXv3QqPRAAAMBoNLaiEicia2xBA5UGML3Tl7erXIVkuMGGCIiDwFQwyRAzW2b5KrQgy3HiCi1oIhhshB6urqUFxcDEAd3UklJSWoqamRjh88eBDDhg3DQw895JI6iIicTXUhprCwEI888gjCw8MREBCAPn364OjRo0qXRXRLRUVFEAQBOp0O7dq1AwDo9XpcunQJgOtaYtq2bYuQkBAA1jORzGYz9u3bh/T0dJfUQUTkbKoKMVeuXMHQoUOh1WrxzTff4JdffsFf//pXtG3bVunSiG5J7EoS12QBILXM6HQ6hIeHu6QOW2vFiCHqwoULXPCOiDyCqmYnLVmyBPHx8fjoo4+kY+IPYyK1k5uZ5O/vj/nz56O2ttalA2uTkpLw888/W4UYsTurrq6OC94RkUdQVYj56quvMGbMGDz44IPYs2cP2rdvj2eeeQbTpk2TPV+v10Ov10v/rqysBHBj+qijp5CK1+PUVOdy5/ssBob27dtL9YeGhuLll18G4NrXJAap7Oxs6Xk1Gg2ioqJQUlIidTO54312J+78fnYnvM+u46x7be/1VBVicnJysHLlSjz//PP405/+hB9//BHPPfccdDodHnvssQbnL1q0CPPmzWtwfMeOHQgICHBKjTt37nTKdcmaO97nffv2AbgRrrdt26ZoLdevXwcAHDp0yKqWwMBAAMDWrVuRmprqlvfZHfE+uwbvs+s4+l6LP7OaS1Uhxmw2Y8CAAVi4cCEAoG/fvjh58iRWrlwpG2JeeeUVPP/889K/KysrER8fj9GjR0sDGx3FYDBg586dGDVqFLRarUOvTTe5831+//33AQB33HEHxo0bBwA4e/YsDAYDEhMTpQDhCnV1dVizZg30er1UCwB88MEHyMnJQWRkJAC45X12J+78fnYnvM+u46x7LfakNJeqQkxMTAy6detmdaxr16747LPPZM/X6XTQ6XQNjmu1Wqe9kZ15bbrJHe+zuB5MUlKSVPtf/vIXrF+/HsuWLXPZtgMA0LFjRwA3xulY3seOHTsiISFB2mHbHe+zO+J9dg3eZ9dx9L2291qqmp00dOhQZGVlWR07c+YMEhMTFaqIqOnUsNCdSKyhuLjYatzYW2+9hby8PJvjzIiI3ImqQswf/vAHHDp0CAsXLsS5c+ewfv16vP/++5gxY4bSpRE1qrq6GleuXAFgPTtJDDGuWuhOFBERAT8/P6saiIg8japCTGpqKr744gts2LABPXr0wBtvvIG33noLkydPVro0okaJ06tDQkKk8ViCIEir9bq6JUaj0UitMWJtRESeRlUhBgAmTJiAjIwM1NbW4tSpU2z2Jrcg15VUUVEhjbh3dYgBbrYIibUBN7qX0tLS0Lt3b5fXQ0TkaKoa2EvkruQWuhNbYUJDQ+Hv7+/ymuRCTHBwMPbv3w/A/imNRERqobqWGCJ3JIYYuUG9rh4PI5LrTgoMDJS28SgvL1ekLiIiR2FLDJEDiK0dli0xycnJeOONNxy+ZlFTybXEADf2drp69Sq3HiAit8cQQ+QAFy5cAHAjIIhSUlLw2muvKVWSzYG97du3R2ZmJi5fvqxEWUREDsPuJCIHkAsxSmusJQYAW2KIyO0xxBA5gNyidsePH8fJkydRU1OjSE1iS0xlZSUqKiqk42KI4ZgYInJ3DDFELXTt2jVp3w/LEDNt2jT06NEDO3bsUKSuwMBAhIWFAbDuUkpMTERCQoIiM6aIiByJIYaohcRWmODgYAQHB0vHlVrozpJcl9LUqVNx7tw5TJ06VamyiIgcgiGGqIXkupKMRiOKi4sbHHc1rtpLRJ6MIYaoheRCTElJCcxmM7y9vREZGalUaTYH9xIReQKGGKIWkgsxYldSVFQUvL29FakLsB1ixo0bh2nTpiE7O1uJsoiIHIIhhqiF5ELMxYsXASi3Wq/IVndSbm4uLl26xB2uicitMcQQtZCaQ8yt1ooR17chInJHXLGXqIXkQkxqaioWLFiADh06KFUWgJstMRcuXIDZbIaX142/W8Ra2RJDRO6MIYaoheRCTL9+/dCvXz+lSpLExsbCy8sLBoMBJSUliImJAXCzVnHsDhGRO2J3ElELmEwmVUyltsXHx0eqy7JLSTzG7iQicmcMMUQtUFJSApPJBG9vb0RFRUnHDx06hMzMTOj1egWru0FucC+7k4jIEzDEELWAGAKio6OtplLff//96NmzJ06ePKlUaRK5wb3x8fFo166d1L1EROSOOCaGqAXkxsOYTCaUlJQAUH52EnCzJcYyxPTt2xerV6/GuHHjlCqLiKjF2BJD1AJyIaa0tFSaCdSuXTulSpOILTHceoCIPA1DDFELNLZGTP0uJqXItcQQEXkChhiiFmhsywG1jDex1RKzatUqpKSk4IsvvlCiLCKiFmOIIWqBxlpi1BZiSkpKUFtbKx2vqqpCfn4+8vLylCqNiKhFGGKIWqCxlhg1DOoFgLCwMPj7+wOwXhcmPDy8wTEiInfC2UlELSAXYkaNGgWtVos+ffooVZYVjUaDhIQEZGVloaCgACkpKQCAiIgIAFwrhojcF0MMkZ2qqqpQVVUFwDrEDBkyBEOGDFGqLFnx8fHIysqyGtwbFhYGgC0xROS+2J1EZCexBSMkJARBQUEKV9M4ucG9YksMQwwRuSuGGCI7yXUlAcDu3buRkZEBg8GgRFmy5FbtFcfEFBUVwWw2K1IXEVFLsDuJyE62Vuu9++67YTKZUFhYqJrBvXJrxYSGhiIpKQmxsbGorq5GcHCwUuUREdmFIYbITnIh5tKlSzCZTNBoNIiMjFSqtAbkupN8fHxw5swZaLVapcoiImoRdicR2amxNWIiIyPh46OevxEsW2IEQVC4GiIix2CIIbKTOCBWzWvEiMQQc+3aNVRUVChcDRGRYzDEENnJHVbrFQUEBEizkSzHxbz11ltITEzEnDlzlCqNiMhuDDFEdnKH1XotyQ3uNRqNyM/PR25urkJVERHZjyGGyA5GoxElJSUA3KMlBpCfZi3WzrViiMgdqWfkIZEbKS4uhtlshre3t9UspAcffBAJCQkYNmyYgtXJk5uhxBBDRO6MIYbIDmJXUkxMDLy9vaXjd955J+68806lymrUrVpiBEGARqNRpDYiInuwO4nIDrZW61WzxkJMTU0Nrly5okhdRET2YoghsoNciDGbzfj222+RkZEBk8mkVGk2yYUYPz8/7qFERG6L3UlEdpALMWVlZbjnnnsAAHV1dVbdTGoghpjCwkIYjUbp+KBBg3D16lVVBi8iosYwxBDZobE1Ytq1a6fKpfyjo6Oh1WphMBikWgHg66+/VrAqIiL7tag7yWAwoKCgAFlZWbh8+bKjaiJSPXdbIwYAvLy8EBcXB8B6hhIRkbtqdoi5du0a3nvvPYwcORJt2rRBUlISunXrhnbt2iExMRHTpk1Denq6M2olUg13Wq3XktyCdyLuqURE7qZZIebvf/87kpKSsHr1atx55534/PPPcfz4cWRlZeHgwYOYO3cujEYjRo0ahXvuuQdnz551Vt1EihEEodEQo9aWGEB+rZitW7ciISEB48ePV6osIiK7NGtMzIEDB7Br1y707NlT9vGBAwfiiSeewKpVq/Dhhx9iz5496NSpk0MKJVKLyspKVFdXA5DvTlJzS4wYYi5cuIDu3bsDAHQ6HQoKChAUFKRkaUREzdasELN58+YmnafT6fDMM8/YVRCR2omtMG3atEFgYKB03B26k+SmWYvjZDjFmojcjd0De1etWoX+/fujU6dOGDNmDN577z0YDAZH1kakSrYWunvyySexcOFCpKWlKVFWkzS29UBVVRUqKysVqYuIyB52hZivvvoKzzzzDPz8/DBgwABUV1djxowZGD58OMrKyhxdI5GqiCFGbMEQjRs3Dq+88gp69+6tRFlNIhdigoOD0aZNGwA3XxsRkTuwK8R8/PHH+Pjjj7F//35s2LAB+/btQ3Z2NkJCQjBq1CgumkUeTex2cactB0Ti7KQrV66gpqZGOs4uJSJyR3aFmKtXr+LRRx+1OpaYmIivv/4aer0e69evd0hxRGok1xJz/fp1bN++HT///LNSZTVJSEgI2rZtCwBWraYMMUTkjuwKMaGhobLHtVot3njjDWzatKlFRRGpmVxLTHZ2NsaOHYu77rpLqbKaTOxSunTpknSsX79+SEtLQ0hIiFJlERE1m10h5ueff8a5c+dkHxs/fjxOnjzZoqKI1EyuJcYdpleL5ELMwoULsXfvXjzwwANKlUVE1Gx2hZiLFy/itttuQ8+ePTF37lwcO3ZMeszPz89q2imRp5FriXGHhe5EYojhIHwicnd2hZj27dvjnXfeQa9evfCPf/wDqampSExMxKxZs/Cf//wHVVVVjq6TSBX0er3UguFJLTEis9ns6nKIiOxmV4gZMmQIpk6dik8//RSXLl3Ctm3bMHbsWGzevBmjR4/m5nLkscSwotPpEB4eLh13h4XuRHIhJicnBwkJCW7RkkREJLIrxMycORNffPEFAMDHxwdjxozBqlWrUFhYiD179kjTOIk8jeVCdxqNRjruji0xlt1JYWFhKCgoQElJidXUayIiNbMrxPTt2xcpKSmyjw0bNgzbt29vUVFEaiWOh6m/0J0YYtxh7RgxxJSXl0vdR5ZbKHDBOyJyF3ZvO5CammrzsS5duth7WSJVs7XlwEsvvYRFixahb9++SpTVLDExMfDy8oLRaERJSQkAQKPRcK0YInI7zdoAMjk52aoJvalmzZqF5557rtlfR6Q2tlpi7rvvPiXKsYuPjw/at2+PgoICFBQUSC0zcXFxyMrKYoghIrfRrBCzdu1au54kKSnJrq8jUhtbLTHuJj4+HgUFBcjPz8fQoUMBcNVeInI/zQoxI0aMcFYdRG5BriXm0qVLOHLkCJKSktC1a1elSmsWcfC95UxChhgicjd2j4nhNGpqjeQWujt06BDGjRvXYD8xNZMLMd27d0daWhqSk5OVKouIqFma1RJjKTExEaGhoejduzd69+6NPn36oHfv3tDr9Xj33Xfxz3/+05F1EinOZDJJ68FYtsS4YxeTOA4mPz9fOvbwww/j4YcfVqokIqJmszvE5OTk4Pjx4zh+/Dh++ukn/Pvf/5ammXITOfJEpaWlMBqN8PLyQnR0tHTcnaZXi+RaYoiI3I3dISYpKQlJSUn49a9/LR07ePAgHn/8cSxZssQhxRGpidjiEh0dDR8fnwbH3Wm128ZCjMlkgpeXl10zEYmIXMnuMTFybr/9dixfvhwLFixw5GWJVEFuPAzg3t1JZWVluH79OgBAEAR06tQJOp0OeXl5SpZHRNQkdocYg8Ege7xTp044efKk3QURqZUYVtx5tV5RmzZt4O/vD+Bma4xGo4HZbIbJZOIMJSJyC3aHmMDAQPTp0wdTp07F8uXL8cMPP+DcuXN4++23MXr06BYXtmjRImg0GsyaNavF1yJyBE9qidFoNGjXrh0A68G9nGZNRO7E7jEx33//PU6cOIETJ07g008/xZ/+9Cdp47jRo0fj1VdfRa9evdCrV69mr52Rnp6O999/H7169bK3PCKHk2uJEQQBy5cvx4ULF6QuGncRERGB/Px8hhgiclt2h5i0tDSkpaVJ/zabzcjKypJmLB09ehRr1qxBaWkpTCZTk6977do1TJ48GatXr+bYGlIVuZYYjUaDRx55RKmSWkRsibEc3MtZS0TkTuwOMfV5eXmha9eu6Nq1q9VaE+IGc001Y8YMjB8/HnfffTdDDKmKrTEx7ioiIgKAdXeS2JrEgb1E5A6aFWLy8/Ob1WReWFjYrHEC//rXv3Ds2DGkp6c36Xy9Xg+9Xi/9u7KyEsCNQce2Bh7bS7yeo69L1tR6nwVBkFpioqKipPqys7Nx5swZpKSkoFOnTkqW2CwGg0FqicnLy5Nej/h5tTxG9lPr+9nT8D67jrPutb3Xa1aISU1Nxb333otp06Zh4MCBsudUVFRg06ZNWL58OaZPn46ZM2c26doFBQX43//9X+zYsQN+fn5N+ppFixZh3rx5DY7v2LEDAQEBTbpGc+3cudMp1yVrarvP165dk6YiZ2Rk4MyZMwCAL7/8EmvXrsWwYcPwxz/+UckSm01siTl9+jS2bdsG4EaXWdeuXREdHS0do5ZT2/vZU/E+u46j77X487W5NIIgCE09+fLly1i4cCHWrFkDrVaLAQMGIDY2Fn5+frhy5Qp++eUXnDx5EgMGDMBrr72GsWPHNrmQL7/8Evfddx+8vb2lYyaTCRqNBl5eXtDr9VaPAfItMfHx8SgrK3P4qsEGgwE7d+7EqFGjoNVqHXptukmt9zkzMxP9+vVDWFgYiouLpeMvvvgili9fjueffx6LFy9WsMLmMRgMWLduHaZPnw6dToeKigp4eTl02SiCet/Pnob32XWcda8rKysRERGBioqKZv3+blZLTFhYGN58800sWLAA27Ztw969e5Gbm4uamhpERERg8uTJGDNmDHr06NHsF3DXXXchIyPD6tjUqVPRpUsXzJ49u0GAAQCdTgedTtfguFarddob2ZnXppvUdp9LS0sB3OhusazLci8lNdXbFBEREfD29oZer0d5eblbrTjsbtT2fvZUvM+u4+h7be+17BrY6+fnh/vvvx/333+/w9bICA4ObhB+AgMDER4eblcoInIkcTyMJyx0J/L29kZ8fDxyc3ORm5trFWKMRiNMJpPsHwlERGphd/vx/v37kZycjISEBCQkJCAqKgqzZ8+WBtcSeRJbYd0dF7qzlJiYCAA4f/68dGzq1KnQ6XRYu3atQlURETWN3SFm+vTp6N69O9LT0/Hzzz9j2bJl+O6779C/f3+UlZU5pLjdu3fjrbfecsi1iFpCriVGEASpJcZdu2KSkpIAALm5udKxgIAAmM1mq6nXRERqZHeIyc7Oxt///nf069cP3bt3x2OPPYb09HT06dMHzz33nCNrJFKcXItLeXm5NLDcXUOMXEuMeIxrxRCR2tm92F3Xrl1RXFxstTaGRqPB/PnzbU6/JnJXci0xfn5++OSTT1BWVua2Y0fEwGLZEiOuBcWWGCJSO7tDzJQpU/DUU0/h22+/tVoAr6KiAm3atHFIcURqIdcSExQU5LZbDoiSk5MBsCWGiNyT3SFG3F26c+fOuP/++9GnTx+YTCasW7cOy5Ytc1iBREqrqalBeXk5AM/ZckAkBpb8/HyYTCZ4e3tLf5QUFhbCaDTCx8dhu5MQETmU3T+diouL8dNPP+HEiRM4fvw41q5di7Nnz0Kj0WDx4sXYunWrtIv1Pffc48iaiVxKHLzr7++Ptm3bSsePHTuGixcvomfPnm63g7UoNjYWWq0WBoMBhYWFSEhIQExMjHSsqKjIbV8bEXk+u0NMZGQkxowZgzFjxkjHamtrkZGRgePHj+PEiRP46quvsHDhQly9etUhxRIpwXI8jEajkY6/9957eP/99zF37lz8+c9/Vqi6lhFbXrKzs5Gbm4uEhAR4eXnh17/+NbRaLZqxoDcRkcs5tJ3Yz88PqampSE1NdeRliRTlqWvEiJKTk6UQM3z4cADApk2bFK6KiOjWuFkK0S144mq9lsS1YiwH9xIRuQOGGKJbsBVixJYYd10jRiTOULKcZg3c2HqAXcFEpGYMMUS3INdtVFdXZ7UppDuTa4lZv349dDodJk+erFBVRES3xhBDdAtiS4xlWCkuLgYA+Pr6IiIiQpG6HEWuJSYiIoJbDxCR6jHEEN1CQUEBAFhNNbbsSrKcseSOxJaYgoICGAwGANYL3nGGEhGpFVexImqEXq/HxYsXAViHmI4dO2LdunUe8Qs+KioKOp0Oer0eFy5cQHJyMuLj4wEAVVVVqKiosFofh4hILdgSQ9QIsSvJ39/fqtsoMjISkydPdvttBwDAy8urwbiYgIAA6fVy+wEiUiuGGKJGiL/AExIS3L7bqDFiiLEcF2O5JQERkRoxxBA1QvwFXn/p/V27dmHr1q3SAF93J7cRpPia2RJDRGrFEEPUCPEXuNgqIZo/fz4mTJiAXbt2KVGWw8m1xNxxxx2YNGkSOnbsqExRRES3wIG9RI2w1RLjKQvdieSmWc+cORMzZ85UqCIioltjSwxRI+RaYgRB8Jh9k0TceoCI3BFDDFEj5FpiKioqcP36dQCeE2LElpiioiLo9XrpuNFolGZoERGpDUMMkQ2CIEghxrIlRmyFCQ0Nhb+/vyK1OVpERAQCAgKsXnN5eTl0Oh3i4+Otgg0RkVowxBDZUFpaCr1eD41GY9Xi4mnjYQBAo9E0GBcTFhYGX19fADdfMxGRmjDEENkgtkjExsZKv8wtj9efseTu6o+L0Wg0nGZNRKrG2UlENlgudGfp7rvvxqeffoqwsDAlynIauRlKCQkJOHPmDBe8IyJVYoghssFWi0tSUpLUauFJ5GYoWW4ESUSkNuxOIrLBVkuMp5Jb8E587WyJISI1YoghssFWS8wnn3yCrVu3orq6WomynEZu6wG2xBCRmrE7icgGuZYYk8mEJ554AkajEQUFBQgMDFSqPIcTW2JKSkpQU1MDf39/9OzZEw8//DBSU1OVLY6ISAZDDJENci0xFy9ehNFohI+PD2JiYpQqzSlCQ0MREhKCyspK5OXloUuXLujXrx/Wr1+vdGlERLLYnUQko7q6GuXl5QCsW2LE1pm4uDh4e3srUpuzaDQabj9ARG6FIYZIhtgK06ZNG7Rp06bBcU9bI0YkNy7GZDIhNzcXV69eVaosIiJZDDFEMmzNTPL0GUtiiMnOzpaOjRs3DsnJyfi///s/pcoiIpLFEEMkQ27jR0B+V2tP0rlzZwDA2bNnpWNiF5NlsCEiUgOGGCIZtsKKrXDjKTp16gQAOHPmjHSsY8eOAIBz584pUhMRkS2cnUQkw1ZYeeONNzBp0iTcfvvtSpTldGJLTE5OjjQLKyUlBQBbYohIfRhiiGTYaonp168f+vXrp0RJLhEXFwc/Pz/U1tYiLy8PHTt2lFpiGGKISG3YnUQkw9O7jWzx8vKSWl7EcTFiiCkvL+cMJSJSFYYYonpMJhMuXLgAwLolprCwECtWrMB3332nVGkuUX9cTFBQEKKiogCwNYaI1IXdSUT1FBUVwWQywcfHB9HR0dLxo0ePYsaMGRgwYADS09MVrNC55GYoTZs2DSaTCaGhoUqVRUTUAEMMUT1iV1J8fLzVqryevkaMSG6G0htvvKFUOURENrE7iaieWy1056lrxIjkWmKIiNSIIYaoHltbC3j6lgMisSUmLy8Per0eAGA2m1FQUICffvpJydKIiKwwxBDV01q3HBBFRUUhODgYZrMZOTk5AID09HQkJCRgwoQJCldHRHQTQwxRPbZaXFpLd5JGo2kwLkacdl1UVISamhrFaiMissQQQ1SPXItLbW0tSkpKGhz3VPXHxYSFhUm7eYutM0RESmOIIbIgCIJsi4u3tzf27t2LTz/9FOHh4UqV5zL1W2I0Go3UGsM9lIhILTjFmsjC1atXce3aNQA3pliLtFot0tLSlCrL5eRmKHXs2BFHjx7lgndEpBpsiSGyII6HiYiIQEBAgMLVKEdurRhuBElEasMQQ2TB1uDd//znP1i5ciUyMjKUKMvlxBBTVFQktUyJeyixO4mI1IIhhsjC+fPnATQMMZ9++imeeeYZbNmyRYmyXC4sLEwa+yOGlkGDBmH27Nl48sknlSyNiEjCEENkQRwDIrZEiFrL9GpL9cfFdO/eHYsXL8aDDz6oZFlERBKGGEZrxCoAACAASURBVCILYquDrRDTGqZXi+TGxRARqQlDDJEFsdVBHMQK3FxyH2jdLTEAUFxcjD179uDChQtKlUVEJGGIIfqvuro65ObmArBuiSkuLobBYIC3tzdiY2MVqs71xHtgGWKmT5+OkSNH4quvvlKqLCIiCUMM0X/l5ubCbDYjICAAMTEx0nGxK6l9+/bw8Wk9SyuJLTGcZk1EasUQQ/Rf4niYlJQUaDQa6XhrHA8D3AwsZWVluHLlCgBOsyYidWk9f1YS3YLceBgAuOeee7B3716rYNMaBAUFITY2FkVFRTh79iwGDhwohRi2xBCRGrAlhui/bM1Matu2LdLS0jB06FAlylJU/XExYsDLycmB2WxWrC4iIoAhhkhiqyWmNas/LiYhIQHe3t6oqanBxYsXlSyNiIghhkhkqyVm6dKleO+991BeXq5EWYqq3xKj1WqlaebsUiIipXFMDBEAg8EgTa+uv0bMnDlzoNfrcffdd0tL8bcWcjOUXn75ZZjNZml8DBGRUhhiiHBjerXJZIK/v7/VWjAFBQXQ6/VWLRCtiWVLjCAI0Gg0mDZtmsJVERHdwO4kIliPh7GchSS2QHTs2LFVrREj6tixI7y9vVFZWYnCwkKlyyEissIQQwTb42HEEHPbbbe5vCY10Ol00mvPyMgAcGNl4wMHDmDDhg1KlkZExBBDBNiemSSGGHFsSGvUq1cvADdDzOXLlzF06FA88sgjqK2tVbI0ImrlGGKIcDPE2GqJac0hpmfPngCAn3/+GQAQFRWF8PBwmM1mnD59WsnSiKiVY4ghgvWWA5YYYm62xIghRqPRoHv37gCAzMxMxeoiImKIoVbPcnp1/ZaY/fv3Y8+ePejbt68ClamDGGJOnTqFuro6AECPHj0AMMQQkbJUFWIWLVqE1NRUBAcHIzIyEr/+9a+RlZWldFnk4SynV1vuXg0A0dHRGD58OIKDgxWqTnnx8fFo06YNjEaj9HlkiCEiNVBViNmzZw9mzJiBQ4cOYefOnTAajRg9ejSqq6uVLo08mOWgXi8vVX0kVEGj0TQYF8PuJCJSA1X9xN6+fTumTJmC7t27o3fv3vjoo4+Qn5+Po0ePKl0aeTBb42G+/PJLzJ49G7t371agKnWpPy5GDDF5eXmoqqpSrC4iat1UvXpXRUUFACAsLEz2cb1eD71eL/27srISwI0xDgaDwaG1iNdz9HXJmhL3Wewi6dChg9XzbtmyBWvWrIGvr6/H7WDd3PsshpYTJ07AYDAgJCQEK1askFqv+LmQx58brsH77DrOutf2Xk+1IUYQBDz//PNIS0uT+t/rW7RoEebNm9fg+I4dOxAQEOCUunbu3OmU65I1V97nQ4cOAQBqa2uxbds26fjhw4cBANXV1VbHPUlT77PY2pKeni7di9jYWFy/fh3/+c9/nFafp+DPDdfgfXYdR9/r69ev2/V1GkEQBIdW4iAzZszA1q1bsW/fPsTFxcmeI9cSEx8fj7KyMoSEhDi0HoPBgJ07d2LUqFHQarUOvTbdpMR97tq1K7Kzs7Fz506MGDFCOp6QkIDi4mIcPHgQ/fv3d0ktrtLc+1xVVSVtfnnx4sVWtxGmvfhzwzV4n13HWfe6srISERERqKioaNbvb1W2xMycORNfffUVfvjhB5sBBrixJLpOp2twXKvVOu2N7Mxr002uus+W06u7du0qPWdlZSWKi4sBAN26dfPY73lT73NYWBiSk5Nx/vx5nD59GiNHjsSlS5ewfft21NbWclPIW+DPDdfgfXYdR99re6+lqoG9giDg2Wefxeeff47vv/8eycnJSpdEHs7W9GpxxlJ0dLTDW/XcVf3BvTk5OXjssccwd+5cJcsiolZMVSFmxowZWLduHdavX4/g4GAUFxejuLgYNTU1SpdGHspyZpLl9Gqu1NtQ/RDTrVs3ADe6l8rLyxWri4haL1WFmJUrV6KiogIjR45ETEyM9N/GjRuVLo08lK2NH8VwwxBzU/21YoKDg5GYmAgAOHnypGJ1EVHrpaoxMSodY0weTAwr9bcbePXVVzF16lSYzWYlylIlsSXm5MmTMJlM8Pb2Ro8ePZCXl4fMzEwMHz5c4QqJqLVRVUsMkavZaonx8vJCXFwcEhISlChLlVJSUuDn54fr168jJycHwM3tB9gSQ0RKYIihVs1WSww1JLa8ANx+gIjUgSGGWi3LFoXbbrtNOl5aWooHH3wQr7/+Ors466k/uNdyI0jeKyJyNYYYarUyMzNhNpvRrl07REdHS8dPnz6Nf//73/j000+h0WgUrFB9xMG9GRkZAG7MUNq2bRuOHz+uZFlE1EqpamAvkSudOHECANC7d2+rsMLp1bbVb4nR6XQYO3askiURUSvGlhhqtSxDjCWGGNvElpjs7Gxcu3ZN4WqIqLVjiKFWiyGm+dq1ayetbCwO5s3MzMTcuXOxcuVKJUsjolaIIYZaJUEQpC6RPn36WD0mhhjLwb50U/1F73755RfMnz8fH3/8sZJlEVErxBBDrVJubi4qKyvh6+uLLl26SMdNJhNX670FcVyMOJhXnGZ98uRJzlAiIpdiiKFWSexKqr9DdVFREby8vKDT6RAfH69Ueao2cOBAAMDBgwcB3Ah7Wq0W165dk3YEJyJyBYYYapVsjYeJj49HdXU1cnJyrDaEpJuGDBkC4EZ3UlVVFbRardQ6c/jwYSVLI6JWhj+lqVUSu0Lqhxjgxsq0sbGxri7JbbRv3x6JiYkwm81SaBGDjdg6Q0TkCgwx1CrZaomhphk6dCgAYP/+/QCA22+/HQBDDBG5FkMMtTqVlZU4f/48gIYhZuzYsZg8eTLy8/OVKM1t2Aox58+fh8FgUKwuImpdGGKo1RGnBsfFxSE8PFw6XlFRge3bt2P9+vUIDAxUqjy3IHYfHTp0CCaTCYmJiTh58iRKSkqsBkoTETkTQwy1Ora6ko4dOwYASExMtAo31FDPnj0RHByMqqoqZGZmQqPRoFu3bhwMTUQuxZ841OrYCjFHjx4FAPTv39/lNbkbb29vDB48GMDNLiUiIldjiKFWhyHGMcQuJTHElJSU4JFHHsHtt9/ORe+IyCW4izW1KiaTCRkZGQAYYlpKHNx74MABAECbNm2wadMmGAwG5ObmIjk5WcnyiKgVYEsMtSrnzp1DTU0N/P39kZKSIh2vqKjA2bNnATDENNXgwYPh5eWF3NxcFBUV/X97dx7W1JX/D/wdsrDvCARBFHEUCyJqaa20qFXRVtQuOo6K1OpT97VuHW21rq222latVepUOnW0Ux20z4hbte6KikSrUIts+qsggixJCGQ7vz+Y3K9hT4CEhM/refK03Nxz8rmHmHw49yyws7NDREQEAJpqTQgxDUpiSLuiW+QuLCwMfD6fO15QUICwsDAEBQXBy8vLXOFZFGdnZ26lXlovhhBiDpTEkHZFNx6m5s7V3bt3x+3bt3Hv3j1zhGWxao6LoSSGEGJKlMSQdqWxlXoFAhomZoia42J0ScytW7dQUVFhtrgIIe0DJTGkXakvidFoNOYIx+Lpkpi0tDRUVFQgICAAfn5+UKvVuHHjhpmjI4RYO0piSLtRXFyMP//8EwC4sRxA9TYEzs7OeOGFF6BQKMwVnkXq1KkTl7Rcu3YNPB4PUVFRCA8Pp7YkhLQ6SmJIu6HrhQkKCoKzszN3PC0tDQqFAvn5+bC3tzdXeBaJx+PV2kdp//79kEgkiImJMWdohJB2gJIY0m6kpaUBoPVhWlrNcTG09QAhxFRoFCNpN86fPw8A3HL5OpTENM+zSYxWq+WSmKqqKjDGYGdnB6B63FF72+FapVJBIBCgsrKSxl21Impn0zG2rYVCod6yFi2FkhjSLmg0Gpw7dw4AMHjwYL3nKIlpnvDwcDg4OKC0tBS3bt1CREQEpk+fjr1792LPnj2YOHEiCgoKUFpaau5QTY4xBl9fXzx8+BA8Hs/c4VgtamfTaU5bu7m5wdfXt0V/R5TEkHYhLS0NZWVlcHV15VaVBQCpVIo//vgDACUxxhIKhRg6dCiOHDmCn3/+GREREXBwcIBSqcSVK1fw6quvorS0FN7e3nBwcGhXXzJarRYymQxOTk50m60VUTubjjFtzRhDRUUFCgsLAQBisbjF4qEkhrQLZ86cAQBER0frdWlKJBIwxuDv7w9vb29zhWfxRo8ejSNHjuDIkSNYtWoVXn75ZXzxxRc4f/48l8B4enqaO0yT02q1UCqVsLOzoy/XVkTtbDrGtrVu0kRhYSG8vb1b7NYSJTGkXfj1118B1L6VZGtrizfffJMSmGYaOXIkbGxskJaWhry8PAwdOhQikQjl5eVQqVRwcHAwd4iEEDPTfQ6oVKoWS2IoZSVWT6VS4cKFCwCAQYMG6T0XGRmJQ4cOYefOneYIzWp06NCB24Lg559/hrOzM1599VXweDxUVFS0q1tIhJC6tcbnACUxxOpdv34dcrkcXl5eCA0NNXc4Vmv06NEAgCNHjgAARo0aBQC06B0hpNVQEkOsnm48zMCBA/Xu4ZaUlCAjIwOMMXOFZlV0Scy5c+dQWlqK2NhYANVTrdvb1GpCiGlQEkOsXn3jYQ4dOoSePXvirbfeMkdYVqdbt27o2bMn1Go1kpOT0bFjR0yaNAkeHh50O6kFDRw4EAsWLDB3GEarGT9jDO+99x73PpFIJGaMrnnawu+muLgY3t7eyM3NNenrvv3229iyZYtJXxOgJIZYucrKSm45/JrjYZKTkwEAvXv3Nnlc1krXG3P48GEAwMqVK+Hs7GyRu4O/88474PF43MPT0xPDhw/H7du3zR2aRfvPf/6DtWvXcj8fP34ce/fuxX//+1/k5+db9C3fmtfW0l555RW996SHhwfGjBmDJ0+ecOds3LgRsbGx6Ny5M3fs/PnziI2NhZ+fH3g8Hvfvs6meLc/n83H06NFa53z00UdYv349ysvLjb4+Y1ASQ6zalStXUFVVBbFYjO7du3PHlUolfvnlFwDAa6+9Zq7wrI4uiTl27BiqqqrMHE3zDR8+HPn5+cjPz8fp06chEAgwcuRIc4dl0Tw8PPT2LsvKyoJYLMZLL70EX19foxJepVLZkiEaRalU1ro2Y+upC2MMEokEn332GfLz8/Hnn39i//79OHPmDNatWwegevzZnj17MG3aNL2ycrkc4eHh2L59u1ExNaV8r1690LlzZ+zbt8+o1zAWJTHEquluJQ0aNEjvlsalS5cglUrh7e2NPn36mCs8q/P8889DLBZDJpNxba/RaPD06VPIZDIzR2c4W1tb+Pr6wtfXF71798ayZcvw8OFD7i/f48ePIyoqCm5ubvD09MTIkSORlZWlV8eRI0cQHh4Oe3t7eHp6YsiQIZDL5QCqv5g2bdqEoKAg2NvbIzw8HAcPHuTKyuVyTJ48GU5OThCLxfj888+bFHdVVRXmzZsHb29v2NnZISoqCtevX+eeHzhwIObNm4elS5fCw8MDvr6+WL16dYN1du7cGV988YXesd69e+uVa0q9z95yeeeddzB37lw8ePAAPB6P6z1oSvxz5szBokWL4OXlxW02OnjwYMydOxcLFiyAu7s7fHx8sHv3bsjlckyZMgXOzs7o2rUrjh071uC16uqfM2cO97tduXKl3vi5mjEMHTq01u2kxq6jvnrqkpmZCalUioEDB8LX1xd+fn6IiYlB165duffTsWPHIBAI0L9/f72yI0aMwLp16/Dmm282eN31aWr5UaNGYf/+/Ua9hrEoiSFWTTeot+Z4GN2tpOHDh9PiWC3IxsaGG9Crm6VUVlaGR48eoaioCED1F7dcLjf5o7kDuGUyGfbt24fg4GBu4T65XI5Fixbh+vXrOH36NGxsbPDGG29Aq9UCAPLz8zFt2jRMmTIFGRkZOHv2LN58800ulpUrV+K7777Dzp07cffuXSxcuBCTJk3itshYsmQJfv31VyQlJeHkyZM4e/Yst01GQ5YuXYpDhw4hMTERN2/eRHBwMGJiYvD06VPunMTERDg6OiIlJQWbNm3CmjVrcOrUqWa1kaH1fvnll1izZg38/f2Rn5/PfcE3NX6BQIBLly7pLZGQmJgILy8vXLt2DXPnzsXMmTMxduxYvPTSS7h58yZiYmIQFxeHioqKRq9DIBAgJSUFX331FbZu3Ypvv/22znMuXbqEXbt21aqjKdfRlHqA6u1RRCIRwsLCAFQnSAkJCcjMzMSMGTMAVN/26devX4PX1ZoiIyNx7do10/bCMitSVlbGALCysrIWr1upVLLDhw8zpVLZ4nWT/9OS7SyTyZhAIGAAWFZWlt5zzz33HAPADhw40OzXsUSt+X5OTk5mAJifnx+Ty+Xs5s2b7Pr16ywtLY1ptVomk8kYAJM/ZDKZQdcRHx/P+Hw+c3R0ZI6OjgwAE4vFLDU1td4yhYWFDAD77bffGGOMXb9+nQFg2dnZtc6VyWTMzs6OXb58We/41KlT2d/+9jcmlUqZSCTSe48WFxcze3t7Nn/+/HpjkMlkTCgUsn379nHHlEol8/PzY5s2bWKMMRYdHc2ioqL0yj3//PNs2bJl9dYbGBjItm7dqncsPDycrVq1ivu5KfVGR0frxb9161YWGBhocPy9e/fmntdoNKykpKTW66vVaubo6Mji4uK4Y/n5+QwAu3LlSr3XGh0dzUJCQphWq+WOLVu2jIWEhOid82wMNa+tKddRXz11Wbx4MePxeNz7kcfjMR8fH3bx4kXunNGjR7N33323wXoAsKSkpEZfr6HyP/zwA9NoNLWeu3XrFgPAcnNz6yyrUChYeno6UygUtZ4z9vub/gQlVuvixYtQq9UIDAxEly5duON5eXm4e/cubGxsMGzYMDNGaJ0GDx4MJycnPHr0CHfu3IGtrS1sbGygVqu5bm9LMWjQIEgkEkgkEqSkpGDYsGEYMWIE8vLyAFSP55gwYQKCgoLg4uLCvc8ePHgAoHpzzOjoaISHh2Ps2LFISEhASUkJACA9PR2VlZUYOnQonJycuMf333+PrKwsZGVlQalU6t0a8PDw0BvbVZesrCyoVCpud3Ggen+ryMhIZGRkcMd69eqlV04sFnN72zRHc+ttavz19Tg8+/p8Ph+enp5c7wUA+Pj4AECjMb344ot6t6D79++PzMxMvZ2bG+r1aOp1NFaPTmpqKsaNG8e9Hy9duoQePXpg+vTpXEwKhYLbNd4cdFsLNNbL1ZIsb8oAIU1U33gYHx8fJCcnIz09He7u7uYKz2rZ2tpi+PDhOHjwIE6fPo0xY8bA2dkZZWVlKC0tRceOHc0yPsaYrQ8cHR0RHBzM/dy3b1+4uroiISEB69atQ2xsLAICApCQkAA/Pz9otVqEhoZygzP5fD6SkpJw584d/PLLL9i2bRtWrFiBlJQU7pbT0aNH0bFjR73XtbW1RXFxsVHXyf53q6rmtHbGmN4xoVCo9zyPx+NiqouNjU2tW3J1rf9jaL01NTV+R0fHOsvX9frPHtPVYUhM9akvBqDp19FYPTppaWlYu3Yt934MDg7G4sWLERsbi7y8PAQFBcHLy4tLks1Bd5usQ4cOJntN6okhVqu+8TB2dnYYMWIE3n//fXOE1S7oBgAePnwYjDFuxkZpaSl4PB4cHR1N/miJtWp4PB5sbGygUChQXFyMjIwMrFy5Eq+++ipCQkLq/ALh8XgYMGAAPv74Y6SlpUEkEiEpKQk9e/aEra0tHjx4gODgYL1HQEAAgoODIRQKcfXqVa6ukpISbtf1+gQHB0MkEuHixYvcMZVKhRs3biAkJMToa+/QoQPy8/O5n8vLy5GTk2N0ffVprfgN9Wy7637u1q1bk/f8acnryM7ORmlpaa1JCNnZ2eDz+fDw8AAAREREID093aC6W9KdO3fg7+8PLy8vk70m9cQQq/T48WNuAGTN9WFI69Ntqvn48WNUVFSgU6dO4PF4qKyshEKh4Lqd27qqqioUFBQAqE4gtm/fDplMhtjYWLi7u8PT0xO7d++GWCzGgwcPsHz5cr3yKSkpSE5ORmxsLHx9fZGSkoInT54gJCQEzs7OWLx4MRYuXAitVouoqCiUl5fj8uXLcHJyQnx8PKZOnYolS5bA09MTPj4+WLFiRaMD0R0dHTFz5kwsWbIEHh4e6NSpEzZt2oSKigpMnTrV6LYYPHgw9u7dy137hx9+2GKb+D2rteI31MOHD7Fo0SJMnz4dN2/exLZt25o8Owxo2etITU0Fj8eDj48PCgoKIJfLceHCBaxatQozZsyAm5sbACAmJgYffPABSkpK9HqZZTIZ7t+/z/2ck5MDiUTCxdWYmuXz8vIgkUjg5eWlV/7ChQsmv0VPSQyxSt9//z20Wi369+8Pf39/7viVK1dw+PBhvPHGG3jxxRfNGKF1s7W1xaxZs/Ddd99BKpVCIBDAxcUF5eXlqKiosJgk5vjx4xCLxQAAZ2dn9OjRAz/99BMGDhwIADhw4ADmzZuH0NBQdO/eHV999RX3HAC4uLjgypUr2LVrF8rLyxEYGIjPP/8cI0aMAACsXbsW3t7e2LhxI7Kzs+Hm5oY+ffrg73//OwBg8+bNkMlkGDVqFJydnfH++++jrKys0bg/+eQTaLVaxMXFQSqVol+/fjhx4kSzbp9+8MEHyM7OxsiRI+Hq6oq1a9e2Sk8M0DrxG2ry5MlQKBSIjIwEn8/H3Llz8d577xlUR0tdx82bN8EY424lubu7o1u3btiyZQvi4+O588LCwtCvXz/8+9//xvTp07njN27c0PtjbtGiRQCA+Ph47N27FwCwd+9eTJkypc5ZfDXLr1ixAitWrNArX1lZiaSkJJw4ccKga2s2g4YBt3E0O8nytUQ7a7Va1qNHDwaAJSQk6D03f/58BoBNnTq1uaFaNFO8nwsKCli3bt3YsWPHWFFREVMoFO3u349u1kxdMzlIy2npdq45g8qSHD16lIWEhBjcFqtWrWLR0dGNnldfW2/fvp0NHTq0wbKtMTuJemKI1bl69Sp+//13ODg4YNy4cXrP6daHoVV6W5+Pjw9ef/11ANUD/nRrqxBCWs9rr72GzMxM/PnnnwgICGhyuRMnTuDLL780+nWFQiG2bdtmdHljURJDrM4//vEPAMDYsWPh4uLCHb9//z4yMzMhEAgwZMgQc4XXrsTFxaGwsBBlZWVQKpUQiUQAqqdg2tnZ0UKDhLSC+fPnG1zmypUrzXpNQ2+1tRRKYohVkcvlOHDgAADg3Xff1XtOt4JsVFSUXnJDWk/Pnj25MRyFhYXw9/dHdnY2nj59ii5dulDvDGmTzp49a+4QSBPRn0HEqhw8eBAymQzBwcF4+eWXueNqtZrbvOyvf/2rucJrl3QJY1FRETQaDbcY1+PHj5u9FQAhpH2jJIZYlT179gCo7oV5dl2QpKQk5ObmwtPTE5MnTzZXeO2Svb09RCIR1Go1nj59ig4dOoDH46GiosIiN4UkhLQdlMQQq/HHH3/gwoULsLGxqZWoVFVVwdfXF7NnzzZq5VZiPB6Pxy3G9fjxYwgEAu420uPHj80ZGiHEwtGYGGI1dOsVDB8+vNYy7pMmTcLYsWPrXCadtD43NzcUFhaisrISJSUl8PHxQVFREUpLS1FZWWnW/V4IIZaLemKIVVCr1UhMTASAelfDtLW1hZOTkynDIv8jEAjg6+sLoHpzRKFQyI2VaYlNBwkh7RMlMcQqnDx5Eo8ePYKXlxdGjhzJHc/KysKhQ4f0dp4l5uHr6ws7Ozuo1Wo8fPiQS2qkUmmLbMZHCGl/KIkhFk+j0eDjjz8GUL0uiW4tEgD47LPP8Pbbb2PGjBnmCo/8j42NDTp37gwAKC4uBmMMXbp0QUhICK0XQwgxCn1yEIu3a9cuXLt2DS4uLli8eDF3vKioiBsnM3HiRDNFR57l5OQEb29vANWbyLm5uVECQwgxGn16EIuWn5+PDz74AACwfv16+Pn5cc/t3LkTlZWV6NOnD6Kjo80VIqmhY8eOEIlEUCqVePToEQCAMYb8/HzI5XIzR0cIsSSUxBCLtnDhQpSXl6Nfv36YOXMmd/zJkyfcPh6LFy/WWzOGmBefz0dgYCCA6inWcrkcjx49wp9//omcnBwaH0MIaTJKYojFOn78OH788UfY2Nhg9+7d4PP5AKrHyEycOBFPnjxBSEgI3n77bTNHSmpydXXl1o7JysqCu7s7hEIhKisrud4ZUreBAwdiwYIF5g7DIG0h5uLiYnh7eyM3N9dkr/n2229jy5YtJnu99oiSGGKRKioqMGvWLADVm51FRERwz3366ac4deoUHBwc8NNPP0EoFJorTNKATp06wdbWFkqlEllZWdzaPgUFBSgtLTVzdMA777wDHo/HPTw9PTF8+HDcvn3b3KFZnP/85z9Yu3Ztq9T9yiuvgM/nw93dHXw+Hx4eHhgzZgyePHmid97GjRsRGxvLDS5fvXq13u+Xx+NxM+aaoinlP/roI6xfvx7l5eXNvk5SN0piiEVat24dcnJy4O/vjzVr1ug9N378ePTp0wfffPMNnnvuOTNFSBojEAjQvXt32NraoqqqCvn5+VzvzP3791FcXGzmCKsXTszPz0d+fj5Onz4NgUCgN4WfNEypVAIAPDw84Ozs3Ox6amKMQSKRYPPmzfj999/x8OFD7N+/H2fOnMG6deu48xQKBfbs2YNp06bplX/uuee4329+fj5+++03g+JqrHyvXr3QuXNn7Nu3z6B6SdNREkMszoEDB7B582YAwLZt22otYBcUFISrV68iLi7OHOERA4hEIr1ERi6Xw93dHQCQk5NT669pU7O1tYWvry98fX3Ru3dvLFu2DA8fPuTiOn78OKKiouDm5gZPT0+MHDkSWVlZenUcOXIE4eHhsLe3h6enJ4YMGcINYGaMYdOmTQgKCoK9vT3Cw8Nx8OBBrqxcLsfkyZPh5OQEsViMzz//vElxV1VVYd68efD29oadnR2ioqJw/fp17vmBAwdi3rx5Vz1TjAAAGJVJREFUWLp0KTw8PODr64vVq1c3WOfAgQMxZ84czJkzh7velStX6m3iqTtn0aJF8PLywtChQ7njz95Oakp8ddVTU2ZmJqRSKaKjo+Hj4wM/Pz/ExMSga9eueoPEjx07BoFAgP79++uV1y3CqHt06NCh8cY1sPyoUaOwf/9+g+olTUdJDLEoO3bswIQJE6BWqzF58mSMGTMGAKBSqXDx4kXuPLqF1PbJ5XLI5XKoVCr4+/tDo9GgtLQURUVFcHR0hI2NDbcdge7cuh4KhaLOep99tASZTIZ9+/YhODiY2/tJLpdj0aJFuH79Ok6fPg0bGxu88cYb3ODk/Px8TJs2DVOmTEFGRgbOnj2LN998k/viX7lyJb777jvs3LkTd+/excKFCzFp0iScO3cOALBkyRL8+uuvSEpKwsmTJ3H27FmkpqY2GuvSpUtx6NAhJCYm4ubNmwgODkZMTAyePn3KnZOYmAhHR0ekpKRg06ZNWLNmDU6dOtVgvYmJiRAIBEhJScFXX32FrVu34ttvv63znEuXLmHXrl3Niq+xelJTUyESiRAWFgagOjlKSEhAZmam3tpQ58+fR79+/WqVz8zMhJ+fH7p06YLx48cjOzu7wes3pnxkZCSuXbuGqqoqg+omTcSsSFlZGQPAysrKWrxupVLJDh8+zJRKZYvXTf5Pfe2s1WrZqlWrGAAGgM2aNYup1WrGGGMFBQUsJiaG8Xg89umnn5ojbItjqvezQqFg6enpTKFQ1HpO97us6zFgwACWk5PD/Y4dHBzqPTc6OlqvXi8vr1rnGCM+Pp7x+Xzm6OjIHB0dGQAmFotZampqvWUKCwsZAPbbb78xxhi7fv06A8Cys7NrnSuTyZidnR27fPmy3vGpU6eyv/3tb0wqlTKRSMQOHDjAPVdcXMzs7e3Z/Pnz641BJpMxoVDI9u3bxx1TKpXMz8+Pbdq0iTHGWHR0NIuKitIr9/zzz7Nly5bVW290dDQLCQlhWq2WO7Zs2TIWEhKid07v3r3rLKuLuanx1VVPTYsXL2Y8Ho/7HfF4PObj48MuXryod97o0aPZu+++q3csOTmZHTx4kN2+fZudOnWKRUdHMx8fH1ZUVNTo6xpS/tatWwwAy83NbVK9bZ1Go2ElJSVMo9EYXLahzwNjv7+pJ4a0eRqNBnPmzOFW5V29ejW2b98OPp+Po0ePIiwsDCdOnIBIJKIxMFakqKgId+/eRVlZmdliGDRoECQSCSQSCVJSUjBs2DCMGDECeXl5AKpnVk2YMAFBQUFwcXFBly5dAFTvDwUA4eHhiI6ORnh4OMaOHYuEhASUlJQAANLT01FZWYmhQ4fCycmJe3z//ffIyspCVlYWlEql3i0QDw8PdO/evcGYs7KyoFKpMGDAAO6YUChEZGQkMjIyuGO9evXSKycWixvdx+rFF1/UW66gf//+yMzM1NvWo64eD2Pia6weoLonZty4cbh58ybOnz+PCxcuoEePHpg+fbpeTAqFotYmoyNGjMBbb72FsLAwDBkyBEePHgUAbg+2xjS1vL29PYDqyQik5dEu1qTNYozh6NGjWLduHVJSUsDj8bBt2zbMnj0bCoUCS5YswY4dOwAAYWFh+Ne//oXQ0FAzR02aSiaT1fucVCpFYWEhlEolMjMzcfr0aW4HcltbW3Ts2BGurq7g8Xi1VvxtySm0jo6OCA4O5n7u27cvXF1dkZCQgHXr1iE2NhYBAQFISEiAn58ftFotQkNDuYGofD4fSUlJuHPnDn755Rds27YNK1asQEpKCnfL6ejRo7V2Xbe1tTV6YDP7362qmmsjMcb0jtW85crj8VpkjR5HR8cWia+xegAgLS0Na9euRXBwMMrLy7lVu2NjY5GXl4egoCAAgJeXF5c8NhR3WFgYMjMzG31dQ8rrbpEZOt6GNE2b7In5+uuv0aVLF9jZ2aFv3764cOGCuUMiJqTRaPDTTz8hIiICsbGxSElJgZ2dHf71r39h9uzZOHnyJEJDQ7kEZuHChbh27RolMBbG0dGx3oevry+ee+45+Pj4AKgeQGlvbw97e3vY2NggPz8fWVlZKC4uhlqtbrTelqJLmhQKBYqLi5GRkYGVK1fi1VdfRUhISJ1flDweDwMGDMDHH3+MtLQ0iEQiJCUloWfPnrC1tcWDBw8QHBys9wgICEBwcDCEQiGuXr3K1VVSUoI//vijwRiDg4MhEon0xoipVCrcuHEDISEhzbr+Z2PR/dytWzdujaamaKn4srOzUVpaij59+tQ6rptqrRMREYH09PQG66uqqkJGRgbEYnGTY2hK+Tt37sDf3x9eXl5G1Usa1uZ6Yn788UcsWLAAX3/9NQYMGIBdu3ZhxIgRSE9PR6dOncwdHmkFjDHcu3cPly9fxsWLF5GcnIzHjx8DqP5CeuuttzB37lyue9nV1RXZ2dnw9fVFYmIihg0bZs7wSSvh8/kICAhAhw4dUFRUhOLiYq43Bqj+4issLERpaSkCAgJgb28PkUiE8vJy7v+bu1JzVVUVCgoKAFQnENu3b4dMJkNsbCzc3d3h6emJ3bt3QywW48GDB1i+fLle+ZSUFCQnJyM2Nha+vr5ISUnhFmF0dnbG4sWLsXDhQmi1WkRFRaG8vByXL1+Gk5MT4uPjMXXqVCxZsgSenp7w8fHBihUrGt1rytHRETNnzsSSJUvg4eGBTp06YdOmTaioqMDUqVOb1R4PHz7EokWLMH36dNy8eRPbtm1r8oyplo4vNTUVPB4PPj4+KCgowOPHj5GWloZVq1ZhxowZcHNz486NiYnBBx98gJKSEm72m67HplOnTigsLMS6detQXl6O+Pj4Jr1+U8tfuHCBPqNaUZtLYrZs2YKpU6dy8/m/+OILnDhxAjt37sTGjRvNEpNcLkd2djYyMjLg5uYGgaB2s7m5uXFTfSsrK1FUVFRvfa6urtyaCVVVVQ1OI3V2doarqyuA6rUSGrpn/ey5KpWKSwTq4uTkxP0j12g0yM/Pr/dcBwcH7h++VqvVW1FVq9WCMQbGGLRaLWxtbeHi4gKNRgOVSoWcnBwoFApUVFRAoVBAJpOhqKiIW9BMLpfj3r17tbrOBQIBnJycUFZWhu+//x4ikYhLYiIjI7F//368/vrrzVp7glgGOzs7+Pv7o2PHjigvL0dxcTFKS0u5Wx+6xfJq0vWa8Pl88Pl8CAQCODg4cDOfgOqxErrznv0vj8eDSqXC8ePHub+snZ2d0a1bNyQmJqJPnz6Qy+X4xz/+gaVLlyI0NBR/+ctf8Pnnn2PYsGFQKBSQSqUQCoW4ePEivvnmG0ilUgQEBGDjxo0YPHgwqqqqsHLlSri6umL9+vXIzc2Fq6srevfujffffx8ymQyrV69GWVkZRo0aBWdnZ8yZMwdPnz6FSqWqdTuOx+Nxn00ff/wxqqqqMGnSJMhkMkRERCApKQlCoRAymQwajQYajYabMaNSqaBWqxusV6vVYuLEiSgvL0dkZCT4fD6mT5+OCRMmcGVq1qtWq8EY4z4PdOetXLkSVVVViIuLg1QqRZ8+fXD48GG9+GrG8uztL7VajatXr4Ixxt3uc3NzQ9euXbFhwwa88847ejF06dIFERER+Oc//4l3330XQPVtx/Hjx6O4uBgdOnRAZGQkzpw5A09PT+51f/jhB8ycORNSqbRWDHl5eVx5Ly8vPP/883rldStQJyUl4ciRIw3ePhUIBFzCrdFoGrytZ+y5Wq1Wb5yQsefyeLxavZ/mxGPsmUn+ZqZUKrlVVt944w3u+Pz58yGRSLhphzpVVVV609bKy8sREBCAoqIiuLi4tFhcP/74I6050sp064TUxcPDA1FRUXrrZ5DmUalUOHXqFIYOHdqq09ErKyvx8OFDdO7cudbAyubSJce6adRVVVW071Irmj59Ov7yl7/g/fffN3coRrl06RK+/PJLHDhwoMk7p+/evRupqan1TvFuzL///W+cP38e27dvN6p8W+Xk5IRu3boZ3NNZWVmJ3NxcBAQE1Po8KC8vh5eXF8rKygz6/m5TPTFFRUXQaDTcfXAdXXdhTRs3buRmrDzr5MmTcHBwaLG4bt++DYFA0GD2qftrD6jOYs1xro2NDfeXGGNMr+u9Jc7l8XhgjNW7eiZQnc3r/tLl8XjcGIFnl+bW1RcQEIDRo0fD29sbgYGB2LVrF1e+Q4cO8Pf3h7+/PzeAMzk5ud7XJcZpbF2Q5tItBiaTyRp83xhLKBTCzc0Nbm5uXG+grkehqqoKarWa+2tVo9HAxsYGNjY23Lm6931df8vp3q+65xv7e+/ZD3RrPbcpX1ptKd5nzx0wYAAePHiAwsJCve0BGqr36tWrekmboTEIhUIsWbKkwfOMqbctnKvrnTKEUqmEQqHA+fPna32XGTt7q031xDx69AgdO3bE5cuX9aYVrl+/Hv/85z/x+++/651vqp4YwHR/ubZ31M6mYQ09MZaAMQapVApnZ2eL30l98ODBCA8Px9atW80dSi3W1M5tXXPa2up7Yry8vMDn82v1uhQWFtbqnQGqb0HY2trWOi4UClvtg7k16yb/h9rZNFq7nTUaDdf71tQufGuiu71V11RwS3P27Flzh1Ava2rntq45ba3roa/rc8fYz6E29dsWiUTo27dvrS7uU6dO4aWXXjJTVIQQQghpi9pUTwwALFq0CHFxcejXrx/69++P3bt348GDB3r7YBBCCCGEtLkk5q9//SuKi4uxZs0a5OfnIzQ0FMnJyQgMDDR3aIQQQghpQ9pcEgMAs2bNwqxZs8wdBiGEEELasDY1JoYQYp3a0CRIQoiZtMbnACUxhJBWo5txQDv4EkJ0nwMtOSOyTd5OIoRYBz6fDzc3N267DAcHh3a1jodWq4VSqURlZSVN/W1F1M6mY0xbM8ZQUVGBwsJCuLm5GbRhaGMoiSGEtCrd6qgN7ftlrRhjUCgUsLe3b1fJm6lRO5tOc9razc1Nb7XklkBJDCGkVfF4PIjFYnh7eze4vYU1UqlUOH/+PF555RVavLEVUTubjrFtLRQKW7QHRoeSGEKISTy7D1h7wefzoVarYWdnR1+urYja2XTaWlvTzUNCCCGEWCRKYgghhBBikSiJIYQQQohFsqoxMbqFdMrLy1u8bpVKhYqKCpSXl7eJ+4DWitrZNKidTYPa2TSonU2ntdpa971t6IJ4VpXESKVSAEBAQICZIyGEEEKIoaRSKVxdXZt8Po9Z0XrgWq0Wjx49grOzc4uvFVBeXo6AgAA8fPgQLi4uLVo3+T/UzqZB7Wwa1M6mQe1sOq3V1owxSKVS+Pn5GbRgoVX1xNjY2MDf379VX8PFxYX+kZgAtbNpUDubBrWzaVA7m05rtLUhPTA6NLCXEEIIIRaJkhhCCCGEWCT+6tWrV5s7CEvB5/MxcOBACARWdReuzaF2Ng1qZ9OgdjYNamfTaUttbVUDewkhhBDSftDtJEIIIYRYJEpiCCGEEGKRKIkhhBBCiEWiJIYQQgghFomSmGd8/fXX6NKlC+zs7NC3b19cuHChwfMPHTqEnj17wtbWFj179kRSUpKJIrVshrRzQkICXn75Zbi7u8Pd3R1DhgzBtWvXTBit5TL0/axz4MAB8Hg8jBkzppUjtA6GtnNpaSlmz54NsVgMOzs7hISEIDk52UTRWi5D2/mLL75A9+7dYW9vj4CAACxcuBCVlZUmitYynT9/HrGxsfDz8wOPx8Phw4cbLXPu3Dn07dsXdnZ2CAoKwjfffGOCSJ/BCGOMsQMHDjChUMgSEhJYeno6mz9/PnN0dGR5eXl1nn/58mXG5/PZhg0bWEZGBtuwYQMTCATs6tWrJo7cshjazhMmTGA7duxgaWlpLCMjg02ZMoW5urqy//f//p+JI7cshrazTm5uLuvYsSN7+eWX2ejRo00UreUytJ2rqqpYv3792GuvvcYuXrzIcnNz2YULF5hEIjFx5JbF0Hb+4YcfmK2tLdu3bx/LyclhJ06cYGKxmC1YsMDEkVuW5ORktmLFCnbo0CEGgCUlJTV4fnZ2NnNwcGDz589n6enpLCEhgQmFQnbw4EETRcwYJTH/ExkZyWbMmKF3rEePHmz58uV1nj9u3Dg2fPhwvWMxMTFs/PjxrRajNTC0nWtSq9XM2dmZJSYmtkZ4VsOYdlar1WzAgAHs22+/ZfHx8ZTENIGh7bxz504WFBTElEqlKcKzGoa28+zZs9ngwYP1ji1atIhFRUW1WozWpilJzNKlS1mPHj30jk2fPp29+OKLrRmaHrqdBECpVCI1NRXDhg3TOz5s2DBcvny5zjJXrlypdX5MTEy95xPj2rmmiooKqFQqeHh4tEaIVsHYdl6zZg06dOiAqVOntnaIVsGYdv7555/Rv39/zJ49Gz4+PggNDcWGDRug0WhMEbJFMqado6KikJqayt16zs7ORnJyMl5//fVWj7c9qe978MaNG1CpVCaJwfzL7bUBRUVF0Gg08PHx0Tvu4+ODgoKCOssUFBQYdD4xrp1rWr58OTp27IghQ4a0RohWwZh2vnTpEvbs2QOJRGKKEK2CMe2cnZ2NM2fOYOLEiUhOTkZmZiZmz54NtVqNjz76yBRhWxxj2nn8+PF48uQJoqKiwBiDWq3GzJkzsXz5clOE3G7U9z2oVqtRVFQEsVjc6jFQEvMMHo+n9zNjrNax5pxPqhnbbps2bcL+/ftx9uxZ2NnZtVZ4VqOp7SyVSjFp0iQkJCTAy8vLVOFZDUPez1qtFt7e3ti9ezf4fD769u2LR48eYfPmzZTENMKQdj579izWr1+Pr7/+Gi+88ALu37+P+fPnQywW48MPPzRFuO1GXb+Xuo63FkpiAHh5eYHP59fK6gsLC2tlmTq+vr4GnU+Ma2edzz77DBs2bMAvv/yCXr16tWaYFs/Qds7KykJubi5iY2O5Y1qtFgAgEAhw7949dO3atXWDtkDGvJ/FYjGEQiH4fD53LCQkBAUFBVAqlRCJRK0asyUypp0//PBDxMXFYdq0aQCAsLAwyOVyvPfee1ixYgVsbGgkRUuo73tQIBDA09PTJDHQbxKASCRC3759cerUKb3jp06dwksvvVRnmf79+9c6/+TJk/WeT4xrZwDYvHkz1q5di+PHj6Nfv36tHabFM7Sde/Togd9++w0SiYR7jBo1CoMGDYJEIkFAQICpQrcoxryfBwwYgPv373NJIgD88ccfEIvFlMDUw5h2rqioqJWo8Pl8sOrJLK0Wa3tT3/dgv379IBQKTROEyYYQt3G6KXx79uxh6enpbMGCBczR0ZHl5uYyxhiLi4vTGwl/6dIlxufz2SeffMIyMjLYJ598QlOsm8DQdv7000+ZSCRiBw8eZPn5+dxDKpWa6xIsgqHtXBPNTmoaQ9v5wYMHzMnJic2ZM4fdu3eP/fe//2Xe3t5s3bp15roEi2BoO69atYo5Ozuz/fv3s+zsbHby5EnWtWtXNm7cOHNdgkWQSqUsLS2NpaWlMQBsy5YtLC0tjZvKvnz5chYXF8edr5tivXDhQpaens727NlDU6zNaceOHSwwMJCJRCLWp08fdu7cOe656OhoFh8fr3f+Tz/9xLp3786EQiHr0aMHO3TokIkjtkyGtHNgYCADUOuxatUq0wduYQx9Pz+LkpimM7SdL1++zF544QVma2vLgoKC2Pr165larTZx1JbHkHZWqVRs9erVrGvXrszOzo4FBASwWbNmsZKSEjNEbjl+/fXXOj9vdW0bHx/PoqOj9cqcPXuWRUREMJFIxDp37sx27txp0ph5jFHfGiGEEEIsD42JIYQQQohFoiSGEEIIIRaJkhhCCCGEWCRKYgghhBBikSiJIYQQQohFoiSGEEIIIRaJkhhCCCGEWCRKYgghhBBikSiJIYQQQohFoiSGENKmXbx4EUKhEFVVVdyxnJwc8Hg85OXlmTEyQoi5URJDCGnTJBIJQkJCYGtrq3fMzc0NgYGBZoyMEGJulMQQQtq0W7duISIiQu+YRCJBeHi4mSIihLQVlMQQQto0iUSC3r176x1LS0ujJIYQQkkMIaTt0mg0uHv3bq2emJs3b9ZKbAgh7Q8lMYSQNuvevXtQKBTw8/Pjjl25cgV//vkn9cQQQiiJIYS0XRKJBACwbds2ZGZm4tixY5g8eTIA6M1WIoS0T5TEEELaLIlEgqFDhyInJwehoaH4+9//jk8++QQuLi7YsWOHucMjhJgZjzHGzB0EIYTUJSYmBn369MHGjRvNHQohpA2inhhCSJt169Yt9OrVy9xhEELaKEpiCCFtUkFBAR4/fkxJDCGkXnQ7iRBCCCEWiXpiCCGEEGKRKIkhhBBCiEWiJIYQQgghFomSGEIIIYRYJEpiCCGEEGKRKIkhhBBCiEWiJIYQQgghFomSGEIIIYRYJEpiCCGEEGKRKIkhhBBCiEWiJIYQQgghFun/A/zdsCBFpjr1AAAAAElFTkSuQmCC&amp;#39;&amp;gt;&amp;lt;/img&amp;gt;&amp;quot;},&amp;quot;nodeType&amp;quot;:&amp;quot;DOM&amp;quot;,&amp;quot;type&amp;quot;:&amp;quot;node&amp;quot;,&amp;quot;instanceArgs&amp;quot;:{&amp;quot;namespace&amp;quot;:&amp;quot;html&amp;quot;,&amp;quot;tag&amp;quot;:&amp;quot;div&amp;quot;},&amp;quot;children&amp;quot;:[]}]})&lt;/unsafe-script&gt;&quot;},&quot;nodeType&quot;:&quot;DOM&quot;,&quot;type&quot;:&quot;node&quot;,&quot;instanceArgs&quot;:{&quot;namespace&quot;:&quot;html&quot;,&quot;tag&quot;:&quot;div&quot;},&quot;children&quot;:[]}]}]})</unsafe-script>\n",
       "</div>"
      ],
      "text/plain": [
       "Widget{:manipulate,Any}(OrderedDict{Symbol,Any}(:N=>Widget{:slider,Int64}(OrderedDict{Symbol,Any}(:changes=>Observable{Int64} with 1 listeners. Value:\n",
       "0,:value=>Observable{Int64} with 2 listeners. Value:\n",
       "96), Observable{Int64} with 2 listeners. Value:\n",
       "96, Scope(\"knockout-component-30d8008c-bf56-4816-9cfe-cf113579ac33\", Node{DOM}(DOM(:html, :div), Any[Node{DOM}(DOM(:html, :div), Any[Node{DOM}(DOM(:html, :label), Any[\"N\"], Dict{Symbol,Any}(:className=>\"interact \",:style=>Dict{Any,Any}(:padding=>\"5px 10px 0px 10px\")), 1)], Dict{Symbol,Any}(:attributes=>Dict(\"class\"=>\"interact-flex-row-left\")), 2), Node{DOM}(DOM(:html, :div), Any[Node{DOM}(DOM(:html, :input), Any[], Dict{Symbol,Any}(:max=>192,:min=>0,:attributes=>Dict{Any,Any}(:type=>\"range\",Symbol(\"data-bind\")=>\"numericValue: value, valueUpdate: 'input', event: {change : function () {this.changes(this.changes()+1)}}\",\"orient\"=>\"horizontal\"),:step=>1,:className=>\"slider slider is-fullwidth\",:style=>Dict{Any,Any}()), 0)], Dict{Symbol,Any}(:attributes=>Dict(\"class\"=>\"interact-flex-row-center\")), 1), Node{DOM}(DOM(:html, :div), Any[Node{DOM}(DOM(:html, :p), Any[], Dict{Symbol,Any}(:attributes=>Dict(\"data-bind\"=>\"text: value\")), 0)], Dict{Symbol,Any}(:attributes=>Dict(\"class\"=>\"interact-flex-row-right\")), 1)], Dict{Symbol,Any}(:attributes=>Dict(\"class\"=>\"interact-flex-row\")), 7), Dict{String,Tuple{Observables.AbstractObservable,Union{Nothing, Bool}}}(\"changes\"=>(Observable{Int64} with 1 listeners. Value:\n",
       "0, nothing),\"value\"=>(Observable{Int64} with 2 listeners. Value:\n",
       "96, nothing)), Set(String[]), nothing, Any[\"knockout\"=>\"/Users/bert/.julia/packages/Knockout/JIqpG/src/../assets/knockout.js\", \"knockout_punches\"=>\"/Users/bert/.julia/packages/Knockout/JIqpG/src/../assets/knockout_punches.js\", \"/Users/bert/.julia/packages/InteractBase/3SqBl/src/../assets/all.js\", \"/Users/bert/.julia/packages/InteractBase/3SqBl/src/../assets/style.css\", \"/Users/bert/.julia/packages/InteractBulma/Ohu5Y/src/../assets/main.css\"], Dict{Any,Any}(\"_promises\"=>Dict{Any,Any}(\"importsLoaded\"=>Any[JSString(\"function (ko, koPunches) {\\n    ko.punches.enableAll();\\n    ko.bindingHandlers.numericValue = {\\n        init : function(element, valueAccessor, allBindings, data, context) {\\n            var stringified = ko.observable(ko.unwrap(valueAccessor()));\\n            stringified.subscribe(function(value) {\\n                var val = parseFloat(value);\\n                if (!isNaN(val)) {\\n                    valueAccessor()(val);\\n                }\\n            })\\n            valueAccessor().subscribe(function(value) {\\n                var str = JSON.stringify(value);\\n                if ((str == \\\"0\\\") && ([\\\"-0\\\", \\\"-0.\\\"].indexOf(stringified()) >= 0))\\n                     return;\\n                 if ([\\\"null\\\", \\\"\\\"].indexOf(str) >= 0)\\n                     return;\\n                stringified(str);\\n            })\\n            ko.applyBindingsToNode(element, { value: stringified, valueUpdate: allBindings.get('valueUpdate')}, context);\\n        }\\n    };\\n    var json_data = JSON.parse(\\\"{\\\\\\\"changes\\\\\\\":0,\\\\\\\"value\\\\\\\":96}\\\");\\n    var self = this;\\n    function AppViewModel() {\\n        for (var key in json_data) {\\n            var el = json_data[key];\\n            this[key] = Array.isArray(el) ? ko.observableArray(el) : ko.observable(el);\\n        }\\n        \\n        \\n        [this[\\\"changes\\\"].subscribe((function (val){!(this.valueFromJulia[\\\"changes\\\"]) ? (WebIO.setval({\\\"name\\\":\\\"changes\\\",\\\"scope\\\":\\\"knockout-component-30d8008c-bf56-4816-9cfe-cf113579ac33\\\",\\\"id\\\":\\\"ob_02\\\",\\\"type\\\":\\\"observable\\\"},val)) : undefined; return this.valueFromJulia[\\\"changes\\\"]=false}),self),this[\\\"value\\\"].subscribe((function (val){!(this.valueFromJulia[\\\"value\\\"]) ? (WebIO.setval({\\\"name\\\":\\\"value\\\",\\\"scope\\\":\\\"knockout-component-30d8008c-bf56-4816-9cfe-cf113579ac33\\\",\\\"id\\\":\\\"ob_01\\\",\\\"type\\\":\\\"observable\\\"},val)) : undefined; return this.valueFromJulia[\\\"value\\\"]=false}),self)]\\n        \\n    }\\n    self.model = new AppViewModel();\\n    self.valueFromJulia = {};\\n    for (var key in json_data) {\\n        self.valueFromJulia[key] = false;\\n    }\\n    ko.applyBindings(self.model, self.dom);\\n}\\n\")]),\"changes\"=>Any[JSString(\"(function (val){return (val!=this.model[\\\"changes\\\"]()) ? (this.valueFromJulia[\\\"changes\\\"]=true, this.model[\\\"changes\\\"](val)) : undefined})\")],\"value\"=>Any[JSString(\"(function (val){return (val!=this.model[\\\"value\\\"]()) ? (this.valueFromJulia[\\\"value\\\"]=true, this.model[\\\"value\\\"](val)) : undefined})\")]), ConnectionPool(Channel{Any}(sz_max:9223372036854775807,sz_curr:3), Set(AbstractConnection[]), Channel{AbstractConnection}(sz_max:32,sz_curr:0))), ##52#53{#dom#15{##dom#13#14{Dict{Any,Any},DOM}},typeof(scope)}(#dom#15{##dom#13#14{Dict{Any,Any},DOM}}(##dom#13#14{Dict{Any,Any},DOM}(Dict{Any,Any}(:className=>\"field\"), DOM(:html, :div))), scope))), Observable{Any} with 0 listeners. Value:\n",
       "Figure(PyObject <Figure size 640x480 with 1 Axes>), nothing, getfield(Main, Symbol(\"##5#8\")){Observable{Any}}(Observable{Any} with 0 listeners. Value:\n",
       "Figure(PyObject <Figure size 640x480 with 1 Axes>)))"
      ]
     },
     "execution_count": 1,
     "metadata": {},
     "output_type": "execute_result"
    }
   ],
   "source": [
    "using Reactive, Interact, PyPlot, Distributions\n",
    "f = figure()\n",
    "range_grid = range(0.0, stop=1.0, length=100)\n",
    "μ = 0.4\n",
    "samples = rand(192) .<= μ # Flip 192 coins\n",
    "@manipulate for N=0:1:192; withfig(f) do\n",
    "        n = sum(samples[1:N]) # Count number of heads in first N flips\n",
    "        posterior1 = Beta(1+n, 1+(N-n))\n",
    "        posterior2 = Beta(5+n, 5+(N-n))\n",
    "        plot(range_grid, pdf.(posterior1,range_grid), \"k-\")\n",
    "        plot(range_grid, pdf.(posterior2,range_grid), \"k--\")\n",
    "        xlabel(L\"\\mu\"); ylabel(L\"p(\\mu|\\mathcal{D})\"); grid()\n",
    "        title(L\"p(\\mu|\\mathcal{D})\"*\" for N=$(N), n=$(n) (real \\$\\\\mu\\$=$(μ))\")\n",
    "        legend([\"Based on uniform prior \"*L\"B(1,1)\",\"Based on prior \"*L\"B(5,5)\"], loc=4)\n",
    "    end\n",
    "end"
   ]
  },
  {
   "cell_type": "markdown",
   "metadata": {
    "slideshow": {
     "slide_type": "fragment"
    }
   },
   "source": [
    "$\\Rightarrow$ With more data, the relevance of the prior diminishes!\n"
   ]
  },
  {
   "cell_type": "markdown",
   "metadata": {
    "slideshow": {
     "slide_type": "slide"
    }
   },
   "source": [
    "### From Posterior to Point-Estimate\n",
    "\n",
    "- Sometimes we want just one 'best' parameter (vector), rather than a posterior distribution over parameters. Why?"
   ]
  },
  {
   "cell_type": "markdown",
   "metadata": {
    "slideshow": {
     "slide_type": "fragment"
    }
   },
   "source": [
    "- Recall Bayesian prediction\n",
    "\n",
    "$$\n",
    "p(x|D) = \\int p(x|\\theta)p(\\theta|D)\\,\\mathrm{d}{\\theta}\n",
    "$$"
   ]
  },
  {
   "cell_type": "markdown",
   "metadata": {
    "slideshow": {
     "slide_type": "fragment"
    }
   },
   "source": [
    "- If we approximate posterior $p(\\theta|D)$ by a delta function for one 'best' value $\\hat\\theta$, then the predictive distribution collapses to\n",
    "\n",
    "$$\n",
    "p(x|D)= \\int p(x|\\theta)\\,\\delta(\\theta-\\hat\\theta)\\,\\mathrm{d}{\\theta} = p(x|\\hat\\theta)\n",
    "$$"
   ]
  },
  {
   "cell_type": "markdown",
   "metadata": {
    "slideshow": {
     "slide_type": "fragment"
    }
   },
   "source": [
    "- This is the model $p(x|\\theta)$ evaluated at $\\theta=\\hat\\theta$."
   ]
  },
  {
   "cell_type": "markdown",
   "metadata": {
    "slideshow": {
     "slide_type": "fragment"
    }
   },
   "source": [
    "- Note that $p(x|\\hat\\theta)$ is much easier to evaluate than the integral for full Bayesian prediction."
   ]
  },
  {
   "cell_type": "markdown",
   "metadata": {
    "slideshow": {
     "slide_type": "subslide"
    }
   },
   "source": [
    "### Some Well-known Point-Estimates\n",
    "\n",
    "- **Bayes estimate**\n",
    "\n",
    "$$\n",
    "\\hat \\theta_{bayes}  = \\int \\theta \\, p\\left( \\theta |D \\right)\n",
    "\\,\\mathrm{d}{\\theta}\n",
    "$$\n",
    "  - (homework). Proof that the Bayes estimate minimizes the expected mean-square error, i.e., proof that\n",
    "\n",
    "$$\n",
    "\\hat \\theta_{bayes} = \\arg\\min_{\\hat \\theta} \\int_\\theta (\\hat \\theta -\\theta)^2 p \\left( \\theta |D \\right) \\,\\mathrm{d}{\\theta}\n",
    "$$"
   ]
  },
  {
   "cell_type": "markdown",
   "metadata": {
    "slideshow": {
     "slide_type": "fragment"
    }
   },
   "source": [
    "- **Maximum A Posteriori** (MAP) estimate \n",
    "$$\n",
    "\\hat \\theta_{\\text{map}}=  \\arg\\max _{\\theta} p\\left( \\theta |D \\right) =\n",
    "\\arg \\max_{\\theta}  p\\left(D |\\theta \\right) \\, p\\left(\\theta \\right)\n",
    "$$"
   ]
  },
  {
   "cell_type": "markdown",
   "metadata": {
    "slideshow": {
     "slide_type": "fragment"
    }
   },
   "source": [
    "- **Maximum Likelihood** (ML) estimate\n",
    "$$\n",
    "\\hat \\theta_{ml}  = \\arg \\max_{\\theta}  p\\left(D |\\theta\\right)\n",
    "$$\n",
    "  - Note that Maximum Likelihood is MAP with uniform prior"
   ]
  },
  {
   "cell_type": "markdown",
   "metadata": {
    "slideshow": {
     "slide_type": "slide"
    }
   },
   "source": [
    "### Bayesian vs Maximum Likelihood Learning\n",
    "\n",
    "Consider the task: predict a datum $x$ from an observed data set $D$.\n",
    "\n",
    "<table>\n",
    "<tr><td></td><td style=\"text-align:center\"> <b>Bayesian</b></td><td style=\"text-align:center\"> <b>Maximum Likelihood </b></td></tr>\n",
    "<tr><td>1. <b>Model Specification</b></td><td>Choose a model $m$ with data generating distribution $p(x|\\theta,m)$ and parameter prior $p(\\theta|m)$</td><td>Choose a model $m$ with same data generating distribution $p(x|\\theta,m)$. No need for priors.</td></tr>\n",
    "<tr><td>2. <b>Learning</b></td><td>use Bayes rule to find the parameter posterior,\n",
    "$$\n",
    "p(\\theta|D) = \\propto p(D|\\theta) p(\\theta)\n",
    "$$  </td><td>By Maximum Likelihood (ML) optimization,\n",
    "$$ \n",
    "    \\hat \\theta  = \\arg \\max_{\\theta}  p(D |\\theta)\n",
    "$$</td></tr>\n",
    "<tr><td>3. <b>Prediction</b></td><td>$$\n",
    "p(x|D) = \\int p(x|\\theta) p(\\theta|D) \\,\\mathrm{d}\\theta\n",
    "$$</td><td>\n",
    "$$ \n",
    "    p(x|D) =  p(x|\\hat\\theta)\n",
    "$$</td></tr>\n",
    "</table>"
   ]
  },
  {
   "cell_type": "markdown",
   "metadata": {
    "slideshow": {
     "slide_type": "slide"
    }
   },
   "source": [
    "### Report Card on Maximum Likelihood Estimation\n",
    "\n",
    "- Maximum Likelihood (ML) is MAP with uniform prior, or MAP is 'penalized' ML\n",
    "$$\n",
    "\\hat \\theta_{map}  = \\arg \\max _\\theta  \\{ \\overbrace{\\log\n",
    "p\\left( D|\\theta  \\right)}^{\\mbox{log-likelihood}} + \\overbrace{\\log\n",
    "p\\left( \\theta \\right)}^{\\mbox{penalty}} \\}\n",
    "$$"
   ]
  },
  {
   "cell_type": "markdown",
   "metadata": {
    "slideshow": {
     "slide_type": "fragment"
    }
   },
   "source": [
    "- (good!). Works rather well if we have a lot of data because the influence of the prior diminishes with more data."
   ]
  },
  {
   "cell_type": "markdown",
   "metadata": {
    "slideshow": {
     "slide_type": "fragment"
    }
   },
   "source": [
    "- (bad). Cannot be used for model comparison. E.g. best model does generally not correspond to largest likelihood (see part-2, Tjalkens)."
   ]
  },
  {
   "cell_type": "markdown",
   "metadata": {
    "slideshow": {
     "slide_type": "fragment"
    }
   },
   "source": [
    "- (good). Computationally often do-able. Useful fact (since $\\log$ is monotonously increasing):\n",
    "$$\\arg\\max_\\theta \\log p(D|\\theta) =  \\arg\\max_\\theta p(D|\\theta)$$"
   ]
  },
  {
   "cell_type": "markdown",
   "metadata": {
    "slideshow": {
     "slide_type": "fragment"
    }
   },
   "source": [
    "$\\Rightarrow$ **ML estimation is an approximation to Bayesian learning**, but for good reason a very popular learning method when faced with lots of available data."
   ]
  },
  {
   "cell_type": "code",
   "execution_count": 2,
   "metadata": {
    "slideshow": {
     "slide_type": "skip"
    }
   },
   "outputs": [
    {
     "data": {
      "text/html": [
       "<!--\n",
       "This HTML file contains custom styles and some javascript.\n",
       "Include it a Jupyter notebook for improved rendering.\n",
       "-->\n",
       "\n",
       "<!-- Fonts -->\n",
       "<link href='http://fonts.googleapis.com/css?family=Alegreya+Sans:100,300,400,500,700,800,900,100italic,300italic,400italic,500italic,700italic,800italic,900italic' rel='stylesheet' type='text/css'>\n",
       "<link href='http://fonts.googleapis.com/css?family=Arvo:400,700,400italic' rel='stylesheet' type='text/css'>\n",
       "<link href='http://fonts.googleapis.com/css?family=PT+Mono' rel='stylesheet' type='text/css'>\n",
       "<link href='http://fonts.googleapis.com/css?family=Shadows+Into+Light' rel='stylesheet' type='text/css'>\n",
       "<link href='http://fonts.googleapis.com/css?family=Nixie+One' rel='stylesheet' type='text/css'>\n",
       "\n",
       "<!-- Custom style -->\n",
       "<style>\n",
       "\n",
       "@font-face {\n",
       "    font-family: \"Computer Modern\";\n",
       "    src: url('http://mirrors.ctan.org/fonts/cm-unicode/fonts/otf/cmunss.otf');\n",
       "}\n",
       "\n",
       "#notebook_panel { /* main background */\n",
       "    background: rgb(245,245,245);\n",
       "}\n",
       "\n",
       "div.container {\n",
       "    min-width: 960px;\n",
       "}\n",
       "\n",
       "div #notebook { /* centre the content */\n",
       "    background: #fff; /* white background for content */\n",
       "    margin: auto;\n",
       "    padding-left: 0em;\n",
       "}\n",
       "\n",
       "#notebook li { /* More space between bullet points */\n",
       "    margin-top:0.8em;\n",
       "}\n",
       "\n",
       "/* draw border around running cells */\n",
       "div.cell.border-box-sizing.code_cell.running {\n",
       "    border: 1px solid #111;\n",
       "}\n",
       "\n",
       "/* Put a solid color box around each cell and its output, visually linking them*/\n",
       "div.cell.code_cell {\n",
       "    background-color: rgb(256,256,256);\n",
       "    border-radius: 0px;\n",
       "    padding: 0.5em;\n",
       "    margin-left:1em;\n",
       "    margin-top: 1em;\n",
       "}\n",
       "\n",
       "div.text_cell_render{\n",
       "    font-family: 'Alegreya Sans' sans-serif;\n",
       "    line-height: 140%;\n",
       "    font-size: 125%;\n",
       "    font-weight: 400;\n",
       "    width:800px;\n",
       "    margin-left:auto;\n",
       "    margin-right:auto;\n",
       "}\n",
       "\n",
       "\n",
       "/* Formatting for header cells */\n",
       ".text_cell_render h1 {\n",
       "    font-family: 'Nixie One', serif;\n",
       "    font-style:regular;\n",
       "    font-weight: 400;\n",
       "    font-size: 45pt;\n",
       "    line-height: 100%;\n",
       "    color: rgb(0,51,102);\n",
       "    margin-bottom: 0.5em;\n",
       "    margin-top: 0.5em;\n",
       "    display: block;\n",
       "}\n",
       "\n",
       ".text_cell_render h2 {\n",
       "    font-family: 'Nixie One', serif;\n",
       "    font-weight: 400;\n",
       "    font-size: 30pt;\n",
       "    line-height: 100%;\n",
       "    color: rgb(0,51,102);\n",
       "    margin-bottom: 0.1em;\n",
       "    margin-top: 0.3em;\n",
       "    display: block;\n",
       "}\n",
       "\n",
       ".text_cell_render h3 {\n",
       "    font-family: 'Nixie One', serif;\n",
       "    margin-top:16px;\n",
       "    font-size: 22pt;\n",
       "    font-weight: 600;\n",
       "    margin-bottom: 3px;\n",
       "    font-style: regular;\n",
       "    color: rgb(102,102,0);\n",
       "}\n",
       "\n",
       ".text_cell_render h4 {    /*Use this for captions*/\n",
       "    font-family: 'Nixie One', serif;\n",
       "    font-size: 14pt;\n",
       "    text-align: center;\n",
       "    margin-top: 0em;\n",
       "    margin-bottom: 2em;\n",
       "    font-style: regular;\n",
       "}\n",
       "\n",
       ".text_cell_render h5 {  /*Use this for small titles*/\n",
       "    font-family: 'Nixie One', sans-serif;\n",
       "    font-weight: 400;\n",
       "    font-size: 16pt;\n",
       "    color: rgb(163,0,0);\n",
       "    font-style: italic;\n",
       "    margin-bottom: .1em;\n",
       "    margin-top: 0.8em;\n",
       "    display: block;\n",
       "}\n",
       "\n",
       ".text_cell_render h6 { /*use this for copyright note*/\n",
       "    font-family: 'PT Mono', sans-serif;\n",
       "    font-weight: 300;\n",
       "    font-size: 9pt;\n",
       "    line-height: 100%;\n",
       "    color: grey;\n",
       "    margin-bottom: 1px;\n",
       "    margin-top: 1px;\n",
       "}\n",
       "\n",
       ".CodeMirror{\n",
       "    font-family: \"PT Mono\";\n",
       "    font-size: 90%;\n",
       "}\n",
       "\n",
       ".boxed { /* draw a border around a piece of text */\n",
       "  border: 1px solid blue ;\n",
       "}\n",
       "\n",
       "h4#CODE-EXAMPLE,\n",
       "h4#END-OF-CODE-EXAMPLE {\n",
       "    margin: 10px 0;\n",
       "    padding: 10px;\n",
       "    background-color: #d0f9ca !important;\n",
       "    border-top: #849f81 1px solid;\n",
       "    border-bottom: #849f81 1px solid;\n",
       "}\n",
       "\n",
       ".emphasis {\n",
       "    color: red;\n",
       "}\n",
       "\n",
       ".exercise {\n",
       "    color: green;\n",
       "}\n",
       "\n",
       ".proof {\n",
       "    color: blue;\n",
       "}\n",
       "\n",
       "code {\n",
       "  padding: 2px 4px !important;\n",
       "  font-size: 90% !important;\n",
       "  color: #222 !important;\n",
       "  background-color: #efefef !important;\n",
       "  border-radius: 2px !important;\n",
       "}\n",
       "\n",
       "/* This removes the actual style cells from the notebooks, but no in print mode\n",
       "   as they will be removed through some other method */\n",
       "@media not print {\n",
       "  .cell:nth-last-child(-n+2) {\n",
       "    display: none;\n",
       "  }\n",
       "}\n",
       "\n",
       "footer.hidden-print {\n",
       "    display: none !important;\n",
       "}\n",
       "    \n",
       "</style>\n",
       "\n",
       "<!-- MathJax styling -->\n",
       "<script>\n",
       "    MathJax.Hub.Config({\n",
       "                        TeX: {\n",
       "                           extensions: [\"AMSmath.js\"],\n",
       "                           equationNumbers: { autoNumber: \"AMS\", useLabelIds: true}\n",
       "                           },\n",
       "                tex2jax: {\n",
       "                    inlineMath: [ ['$','$'], [\"\\\\(\",\"\\\\)\"] ],\n",
       "                    displayMath: [ ['$$','$$'], [\"\\\\[\",\"\\\\]\"] ]\n",
       "                },\n",
       "                displayAlign: 'center', // Change this to 'center' to center equations.\n",
       "                \"HTML-CSS\": {\n",
       "                    styles: {'.MathJax_Display': {\"margin\": 4}}\n",
       "                }\n",
       "        });\n",
       "</script>\n"
      ]
     },
     "metadata": {},
     "output_type": "display_data"
    }
   ],
   "source": [
    "open(\"../../styles/aipstyle.html\") do f display(\"text/html\", read(f, String)) end"
   ]
  },
  {
   "cell_type": "code",
   "execution_count": null,
   "metadata": {},
   "outputs": [],
   "source": []
  }
 ],
 "metadata": {
  "@webio": {
   "lastCommId": "0edceeb5b5d748f5987d5e6719f15198",
   "lastKernelId": "1e91b343-4cbb-4e56-94bb-edf332d47cc6"
  },
  "anaconda-cloud": {},
  "celltoolbar": "Slideshow",
  "kernelspec": {
   "display_name": "Julia 1.0.0",
   "language": "julia",
   "name": "julia-1.0"
  },
  "language_info": {
   "file_extension": ".jl",
   "mimetype": "application/julia",
   "name": "julia",
   "version": "1.0.2"
  }
 },
 "nbformat": 4,
 "nbformat_minor": 1
}
