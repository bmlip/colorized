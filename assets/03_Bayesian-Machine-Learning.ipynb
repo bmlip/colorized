{
 "cells": [
  {
   "cell_type": "markdown",
   "metadata": {
    "slideshow": {
     "slide_type": "slide"
    }
   },
   "source": [
    "# Bayesian Machine Learning"
   ]
  },
  {
   "cell_type": "markdown",
   "metadata": {
    "slideshow": {
     "slide_type": "slide"
    }
   },
   "source": [
    "### Preliminaries\n",
    "\n",
    "- Goals\n",
    "  - Introduction to Bayesian (i.e., probabilistic) modeling\n",
    "- Materials\n",
    "  - Mandatory\n",
    "    - These lecture notes\n",
    "  - Optional\n",
    "    - Bishop pp. 21-24   "
   ]
  },
  {
   "cell_type": "markdown",
   "metadata": {
    "slideshow": {
     "slide_type": "slide"
    }
   },
   "source": [
    "### Example Problem: Predicting a Coin Toss\n",
    "\n",
    "- **Question**. We observe a the following sequence of heads (h) and tails (t) when tossing the same coin repeatedly $$D=\\{hthhtth\\}\\,.$$\n",
    "\n",
    "- What is the probability that heads (h) comes up next?"
   ]
  },
  {
   "cell_type": "markdown",
   "metadata": {
    "slideshow": {
     "slide_type": "fragment"
    }
   },
   "source": [
    "- **Answer** later in this lecture. "
   ]
  },
  {
   "cell_type": "markdown",
   "metadata": {
    "slideshow": {
     "slide_type": "slide"
    }
   },
   "source": [
    "### The Bayesian Machine Learning Framework\n",
    "\n",
    "- Suppose that your task is to predict a 'new' datum $x$, based on $N$  observations $D=\\{x_1,\\dotsc,x_N\\}$."
   ]
  },
  {
   "cell_type": "markdown",
   "metadata": {
    "slideshow": {
     "slide_type": "fragment"
    }
   },
   "source": [
    "- The Bayesian approach for this task involves three stages: \n",
    "  1. Model specification\n",
    "  1. parameter estimation (inference, learning)\n",
    "  1. Prediction (apply the model)"
   ]
  },
  {
   "cell_type": "markdown",
   "metadata": {
    "slideshow": {
     "slide_type": "fragment"
    }
   },
   "source": [
    "  \n",
    "- Next, we discuss these three stages in a bit more detail."
   ]
  },
  {
   "cell_type": "markdown",
   "metadata": {
    "slideshow": {
     "slide_type": "slide"
    }
   },
   "source": [
    "### (1) Model specification\n",
    "\n",
    "Your first task is to propose a model with tuning parameters $\\theta$ for generating the data $D$."
   ]
  },
  {
   "cell_type": "markdown",
   "metadata": {
    "slideshow": {
     "slide_type": "fragment"
    }
   },
   "source": [
    "- This involves specification of $p(D|\\theta)$ and a prior for the parameters $p(\\theta)$."
   ]
  },
  {
   "cell_type": "markdown",
   "metadata": {
    "slideshow": {
     "slide_type": "fragment"
    }
   },
   "source": [
    "- _You_ choose the distribution $p(D|\\theta)$ based on your physical understanding of the data generating process.\n",
    "    - Note that, for independent observations $x_n$,\n",
    "$$ p(D|\\theta) = \\prod_{n=1}^N p(x_n|\\theta)$$\n",
    "so usually you select a model for generating one observation $x_n$ and then use (in-)dependence assumptions to combine these models into a model for $D$. "
   ]
  },
  {
   "cell_type": "markdown",
   "metadata": {
    "slideshow": {
     "slide_type": "fragment"
    }
   },
   "source": [
    "- _You_ choose the prior $p(\\theta)$ to reflect what you know about the parameter values before you see the data $D$.\n",
    "  "
   ]
  },
  {
   "cell_type": "markdown",
   "metadata": {
    "slideshow": {
     "slide_type": "slide"
    }
   },
   "source": [
    "### (2) Parameter estimation\n",
    "\n",
    "- After model specification, you need to measure/collect a data set $D$. Then, use Bayes rule to find the posterior distribution for the parameters,\n",
    "$$\n",
    "p(\\theta|D) = \\frac{p(D|\\theta) p(\\theta)}{p(D)} \\propto p(D|\\theta) p(\\theta)\n",
    "$$  "
   ]
  },
  {
   "cell_type": "markdown",
   "metadata": {
    "slideshow": {
     "slide_type": "fragment"
    }
   },
   "source": [
    "- Note that there's **no need for you to design a _smart_ parameter estimation algorithm**. The only complexity lies in the computational issues.  "
   ]
  },
  {
   "cell_type": "markdown",
   "metadata": {
    "slideshow": {
     "slide_type": "fragment"
    }
   },
   "source": [
    "- This \"recipe\" works only if the RHS factors can be evaluated; this is what machine learning is about     \n",
    "  $\\Rightarrow$ **Machine learning is easy, apart from computational details:)**\n",
    "  "
   ]
  },
  {
   "cell_type": "markdown",
   "metadata": {
    "slideshow": {
     "slide_type": "slide"
    }
   },
   "source": [
    "### (3) Prediction\n",
    "\n",
    "- Given the data $D$, our knowledge about the yet unobserved datum $x$ is captured by\n",
    "$$\\begin{align*}\n",
    "p(x|D) &= \\int p(x,\\theta|D) \\,\\mathrm{d}\\theta\\\\\n",
    " &= \\int p(x|\\theta,D) p(\\theta|D) \\,\\mathrm{d}\\theta\\\\\n",
    " &= \\int p(x|\\theta) p(\\theta|D) \\,\\mathrm{d}\\theta\\\\\n",
    "\\end{align*}$$"
   ]
  },
  {
   "cell_type": "markdown",
   "metadata": {
    "slideshow": {
     "slide_type": "fragment"
    }
   },
   "source": [
    "- Again, **no need to invent a special prediction algorithm**. Probability theory takes care of all that. The complexity of prediction is just computational: how to carry out the marginalization over $\\theta$."
   ]
  },
  {
   "cell_type": "markdown",
   "metadata": {
    "slideshow": {
     "slide_type": "fragment"
    }
   },
   "source": [
    "- In order to execute prediction, you need to have access to the factors $p(x|\\theta)$ and $p(\\theta|D)$. Where do these factors come from? Are they available?\n",
    "  "
   ]
  },
  {
   "cell_type": "markdown",
   "metadata": {
    "slideshow": {
     "slide_type": "fragment"
    }
   },
   "source": [
    "- What did we learn from $D$? Without access to $D$, we would predict new observations through\n",
    "$$\n",
    "p(x) = \\int p(x,\\theta) \\,\\mathrm{d}\\theta = \\int p(x|\\theta) p(\\theta) \\,\\mathrm{d}\\theta\n",
    "$$"
   ]
  },
  {
   "cell_type": "markdown",
   "metadata": {
    "slideshow": {
     "slide_type": "fragment"
    }
   },
   "source": [
    "- NB The application of the learned posterior $p(\\theta|D)$ not necessarily has to be prediction. We use it here as an example, but other applications are of course also possible. \n",
    "  "
   ]
  },
  {
   "cell_type": "markdown",
   "metadata": {
    "slideshow": {
     "slide_type": "slide"
    }
   },
   "source": [
    "###  Bayesian Model Comparison \n",
    "\n",
    "- There appears to be a remaining problem: How good really were our model assumptions $p(x|\\theta)$ and $p(\\theta)$?  "
   ]
  },
  {
   "cell_type": "markdown",
   "metadata": {
    "slideshow": {
     "slide_type": "fragment"
    }
   },
   "source": [
    "- Technically, this is a **model comparison** problem"
   ]
  },
  {
   "cell_type": "markdown",
   "metadata": {
    "slideshow": {
     "slide_type": "fragment"
    }
   },
   "source": [
    "- [**Q**.] What if I have more candidate models, say $\\mathcal{M} = \\{m_1,\\ldots,m_K\\}$ where each model relates to specific prior $p(\\theta|m_k)$ and likelihood $p(D|\\theta,m_k)$? Can we evaluate the relative performance of a model against another model from the set?"
   ]
  },
  {
   "cell_type": "markdown",
   "metadata": {
    "slideshow": {
     "slide_type": "fragment"
    }
   },
   "source": [
    "- [**A**.]: Start again with **model specification**. Specify a prior $p(m_k)$ for each of the models and then solve the desired inference problem:      \n",
    "$$\\begin{align*} \n",
    "p(m_k|D) &= \\frac{p(D|m_k) p(m_k)}{p(D)} \\\\\n",
    "  &\\propto p(m_k) \\cdot p(D|m_k) \\\\\n",
    "  &= p(m_k)\\cdot \\int_\\theta p(D,\\theta|m_k) \\,\\mathrm{d}\\theta\\\\\n",
    "  &= \\underbrace{p(m_k)}_{\\substack{\\text{model}\\\\\\text{prior}}}\\cdot \\int_\\theta \\underbrace{p(D|\\theta,m_k)}_{\\text{likelihood}} \\,\\underbrace{p(\\theta|m_k)}_{\\text{prior}}\\, \\mathrm{d}\\theta\\\\\n",
    "\\end{align*}$$"
   ]
  },
  {
   "cell_type": "markdown",
   "metadata": {
    "slideshow": {
     "slide_type": "slide"
    }
   },
   "source": [
    "### Bayesian Model Comparison (continued) \n",
    "\n",
    "- You, the engineer, have to choose the factors $p(D|\\theta,m_k)$, $p(\\theta|m_k)$ and $p(m_k)$. After that, for a given data set $D$, the model posterior $p(m_k|D)$ can be computed. "
   ]
  },
  {
   "cell_type": "markdown",
   "metadata": {
    "slideshow": {
     "slide_type": "fragment"
    }
   },
   "source": [
    "- If you need to work with one model,select the model with largest posterior $p(m_k|D)$"
   ]
  },
  {
   "cell_type": "markdown",
   "metadata": {
    "slideshow": {
     "slide_type": "fragment"
    }
   },
   "source": [
    "- Alternatively, if you don't want to choose a model, you can do prediction by **Bayesian model averaging** to utilitize the predictive power from all models:\n",
    "$$\\begin{align*}\n",
    "p(x|D) &= \\sum_k \\int p(x,\\theta,m_k|D)\\,\\mathrm{d}\\theta \\\\\n",
    "  &= \\sum_k \\underbrace{p(m_k|D)}_{\\substack{\\text{model}\\\\\\text{posterior}}} \\cdot \\int \\underbrace{p(\\theta|D)}_{\\substack{\\text{parameter}\\\\\\text{posterior}}} \\, \\underbrace{p(x|\\theta,m_k)}_{\\text{likelihood}} \\,\\mathrm{d}\\theta\n",
    "\\end{align*}$$ "
   ]
  },
  {
   "cell_type": "markdown",
   "metadata": {
    "slideshow": {
     "slide_type": "fragment"
    }
   },
   "source": [
    "- $\\Rightarrow$ In a Bayesian framework, **model comparison** follows the same recipe as parameter estimation; it just works at one higher hierarchical level."
   ]
  },
  {
   "cell_type": "markdown",
   "metadata": {
    "slideshow": {
     "slide_type": "fragment"
    }
   },
   "source": [
    "- More on this in part 2 (Tjalkens).  "
   ]
  },
  {
   "cell_type": "markdown",
   "metadata": {
    "slideshow": {
     "slide_type": "slide"
    }
   },
   "source": [
    "### Machine Learning and the Scientific Method Revisited\n",
    "\n",
    "- Bayesian probability theory provides a unified framework for information processing (and even the Scientific Method).\n",
    "\n",
    "<img src=\"./figures/ml-and-scientific-loop-2.png\" width=\"450px\">"
   ]
  },
  {
   "cell_type": "markdown",
   "metadata": {
    "slideshow": {
     "slide_type": "slide"
    }
   },
   "source": [
    "### Now Solve the Example Problem: Predicting a Coin Toss\n",
    "\n",
    "- We observe a the following sequence of heads (h) and tails (t) when tossing the same coin repeatedly $$D=\\{hthhtth\\}\\,.$$\n",
    "\n",
    "- What is the probability that heads (h) comes up next? We solve this in the next slides ..."
   ]
  },
  {
   "cell_type": "markdown",
   "metadata": {
    "slideshow": {
     "slide_type": "slide"
    }
   },
   "source": [
    "### Coin toss example (1): Model Specification\n",
    "\n",
    "We observe a sequence of $N$ coin tosses $D=\\{x_1,\\ldots,x_N\\}$ with $n$ heads. "
   ]
  },
  {
   "cell_type": "markdown",
   "metadata": {
    "slideshow": {
     "slide_type": "fragment"
    }
   },
   "source": [
    "##### Likelihood\n",
    "- Assume a Bernoulli distributed variable $p(x_k=h|\\mu)=\\mu$, which leads to a **binomial** distribution for the likelihood (assume $n$ times heads were thrown):\n",
    "$$   \n",
    "p(D|\\mu) = \\prod_{k=1}^N p(x_k|\\mu) = \\mu^n (1-\\mu)^{N-n}\n",
    "$$"
   ]
  },
  {
   "cell_type": "markdown",
   "metadata": {
    "slideshow": {
     "slide_type": "fragment"
    }
   },
   "source": [
    "##### Prior\n",
    "-  Assume the prior belief is governed by a **beta distribution**\n",
    "$$\n",
    "p(\\mu) = \\mathcal{B}(\\mu|\\alpha,\\beta) = \\frac{\\Gamma(\\alpha+\\beta)}{\\Gamma(\\alpha)\\Gamma(\\beta)} \\mu^{\\alpha-1}(1-\\mu)^{\\beta-1}\n",
    "$$\n",
    "<!---  - The Gamma function is sort of a generalized factorial function. If $\\alpha,\\beta$ are integers, then $\\frac{\\Gamma(\\alpha+\\beta)}{\\Gamma(\\alpha)(\\Gamma(\\beta)} = \\frac{(\\alpha+\\beta-1)!}{(\\alpha-1)!\\,(\\beta-1)!}$\n",
    "---> "
   ]
  },
  {
   "cell_type": "markdown",
   "metadata": {
    "slideshow": {
     "slide_type": "fragment"
    }
   },
   "source": [
    "- The Beta distribution is a **conjugate prior** for the Binomial distribution, which means that \n",
    "$$\n",
    "\\text{beta} \\propto \\text{binomial} \\times \\text{beta}\n",
    "$$"
   ]
  },
  {
   "cell_type": "markdown",
   "metadata": {
    "slideshow": {
     "slide_type": "fragment"
    }
   },
   "source": [
    "- $\\alpha$ and $\\beta$ are called **hyperparameters**, since they parameterize the distribution for another parameter ($\\mu$). E.g., $\\alpha=\\beta=1$ (uniform).\n",
    "  "
   ]
  },
  {
   "cell_type": "markdown",
   "metadata": {
    "slideshow": {
     "slide_type": "slide"
    }
   },
   "source": [
    "### Coin toss example (2): Parameter estimation\n",
    "\n",
    "- Infer posterior PDF over $\\mu$ through Bayes rule\n",
    "\n",
    "$$\\begin{align*}\n",
    "p(\\mu|D) &\\propto p(D|\\mu)\\,p(\\mu|\\alpha,\\beta)  \\\\ \n",
    "        &= \\mu^n (1-\\mu)^{N-n} \\times \\mu^{\\alpha-1} (1-\\mu)^{\\beta-1} \\\\\n",
    "        &= \\mu^{n+\\alpha-1} (1-\\mu)^{N-n+\\beta-1} \n",
    "\\end{align*}$$\n",
    "\n",
    "hence the posterior is also beta distributed as\n",
    "\n",
    "$$\n",
    "p(\\mu|D) = \\mathcal{B}(\\mu|\\,n+\\alpha, N-n+\\beta)\n",
    "$$"
   ]
  },
  {
   "cell_type": "markdown",
   "metadata": {
    "slideshow": {
     "slide_type": "fragment"
    }
   },
   "source": [
    "- Essentially, **here ends the machine learning activity**"
   ]
  },
  {
   "cell_type": "markdown",
   "metadata": {
    "slideshow": {
     "slide_type": "slide"
    }
   },
   "source": [
    "### Coin Toss Example (3): Prediction\n",
    "\n",
    "- Now, we want to **use** the trained model. Let's use it to predict future observations. "
   ]
  },
  {
   "cell_type": "markdown",
   "metadata": {
    "slideshow": {
     "slide_type": "fragment"
    }
   },
   "source": [
    "- Marginalize over the parameter posterior to get the predictive PDF for a new coin toss $x_\\bullet$, given the data $D$,\n",
    "\n",
    "$$\\begin{align*}\n",
    "p(x_\\bullet=h|D)  &= \\int_0^1 p(x_\\bullet=h|\\mu)\\,p(\\mu|D) \\,\\mathrm{d}\\mu \\\\\n",
    "  &= \\int_0^1 \\mu \\times  \\mathcal{B}(\\mu|\\,n+\\alpha, N-n+\\beta) \\,\\mathrm{d}\\mu  \\\\\n",
    "  &= \\frac{n+\\alpha}{N+\\alpha+\\beta} \\qquad \\mbox{(a.k.a. Laplace rule)}\\hfill\n",
    "\\end{align*}$$"
   ]
  },
  {
   "cell_type": "markdown",
   "metadata": {
    "slideshow": {
     "slide_type": "fragment"
    }
   },
   "source": [
    "- Finally, we're ready to solve our example problem: for $D=\\{hthhtth\\}$ and uniform prior ($\\alpha=\\beta=1$), we get\n",
    "\n",
    "$$ p(x_\\bullet=h|D)=\\frac{n+1}{N+2} = \\frac{4+1}{7+2} = \\frac{5}{9}$$\n",
    " "
   ]
  },
  {
   "cell_type": "markdown",
   "metadata": {
    "slideshow": {
     "slide_type": "slide"
    }
   },
   "source": [
    "### Coin Toss Example: What did we learn?\n",
    "\n",
    "- What did we learn from the data? Before seeing any data, we think that $$p(x_\\bullet=h)=\\left. p(x_\\bullet=h|D) \\right|_{n=N=0} = \\frac{\\alpha}{\\alpha + \\beta}\\,.$$ "
   ]
  },
  {
   "cell_type": "markdown",
   "metadata": {
    "slideshow": {
     "slide_type": "fragment"
    }
   },
   "source": [
    "- After the $N$ coin tosses, we think that $p(x_\\bullet=h|D) = \\frac{n+\\alpha}{N+\\alpha+\\beta}$."
   ]
  },
  {
   "cell_type": "markdown",
   "metadata": {
    "slideshow": {
     "slide_type": "fragment"
    }
   },
   "source": [
    "- Note the following decomposition\n",
    "\n",
    "$$\\begin{align*}\n",
    "    p(x_\\bullet=h|\\,D) &= \\frac{n+\\alpha}{N+\\alpha+\\beta} = \\frac{n}{N+\\alpha+\\beta} + \\frac{\\alpha}{N+\\alpha+\\beta} \\\\\n",
    "        &= \\frac{N}{N+\\alpha+\\beta}\\cdot \\frac{n}{N} + \\frac{\\alpha+\\beta}{N+\\alpha+\\beta} \\cdot \\frac{\\alpha}{\\alpha+\\beta} \\\\\n",
    "        &= \\underbrace{\\frac{\\alpha}{\\alpha+\\beta}}_{prior} + \\underbrace{\\frac{N}{N+\\alpha+\\beta}}_{gain}\\cdot \\big( \\underbrace{\\frac{n}{N}}_{MLE} - \\underbrace{\\frac{\\alpha}{\\alpha+\\beta}}_{prior} \\big)\n",
    "\\end{align*}$$"
   ]
  },
  {
   "cell_type": "markdown",
   "metadata": {
    "slideshow": {
     "slide_type": "fragment"
    }
   },
   "source": [
    "- Note that, since $0\\leq\\text{gain}\\lt 1$, the Bayesian estimate lies between prior and maximum likelihood estimate."
   ]
  },
  {
   "cell_type": "markdown",
   "metadata": {
    "slideshow": {
     "slide_type": "fragment"
    }
   },
   "source": [
    "- For large $N$, the gain goes to $1$ and $p(x_\\bullet=h|D)$ goes to the maximum likelihood estimate (the relative frequency) $n/N$."
   ]
  },
  {
   "cell_type": "markdown",
   "metadata": {
    "slideshow": {
     "slide_type": "slide"
    }
   },
   "source": [
    "#### CODE EXAMPLE\n",
    "\n",
    "**Bayesian evolution of $p(\\mu|D)$ for the coin toss**\n",
    "\n",
    "Let's see how $p(\\mu|D)$ evolves as we increase the number of coin tosses $N$. We'll use two different priors to demonstrate the effect of the prior on the posterior (set $N=0$ to inspect the prior)."
   ]
  },
  {
   "cell_type": "code",
   "execution_count": 9,
   "metadata": {
    "slideshow": {
     "slide_type": "subslide"
    }
   },
   "outputs": [
    {
     "data": {
      "text/html": [
       "<div class='tex2jax_ignore interactbulma'>\n",
       "<div class='display:none'></div><unsafe-script style='display:none'>\n",
       "WebIO.mount(this.previousSibling,{&quot;props&quot;:{},&quot;nodeType&quot;:&quot;DOM&quot;,&quot;type&quot;:&quot;node&quot;,&quot;instanceArgs&quot;:{&quot;namespace&quot;:&quot;html&quot;,&quot;tag&quot;:&quot;div&quot;},&quot;children&quot;:[{&quot;props&quot;:{&quot;className&quot;:&quot;field&quot;},&quot;nodeType&quot;:&quot;DOM&quot;,&quot;type&quot;:&quot;node&quot;,&quot;instanceArgs&quot;:{&quot;namespace&quot;:&quot;html&quot;,&quot;tag&quot;:&quot;div&quot;},&quot;children&quot;:[{&quot;props&quot;:{},&quot;nodeType&quot;:&quot;Scope&quot;,&quot;type&quot;:&quot;node&quot;,&quot;instanceArgs&quot;:{&quot;imports&quot;:{&quot;data&quot;:[{&quot;name&quot;:&quot;knockout&quot;,&quot;type&quot;:&quot;js&quot;,&quot;url&quot;:&quot;/assetserver/c68ce9bb1dba6b24f4e1a465402329128301c1a9-knockout.js&quot;},{&quot;name&quot;:&quot;knockout_punches&quot;,&quot;type&quot;:&quot;js&quot;,&quot;url&quot;:&quot;/assetserver/201848a8f7ae564eabe9b546303243fd1726beca-knockout_punches.js&quot;},{&quot;name&quot;:null,&quot;type&quot;:&quot;js&quot;,&quot;url&quot;:&quot;/assetserver/a372eccd6dcb4c9a4827b517f3a317fc5597adc1-all.js&quot;},{&quot;name&quot;:null,&quot;type&quot;:&quot;css&quot;,&quot;url&quot;:&quot;/assetserver/ea88b368fafadd977842b61d2d12c9488f00e4c6-style.css&quot;},{&quot;name&quot;:null,&quot;type&quot;:&quot;css&quot;,&quot;url&quot;:&quot;/assetserver/482d5390c5f9d7f9cc6fee5c1ba4849d05fc07ba-main.css&quot;}],&quot;type&quot;:&quot;async_block&quot;},&quot;id&quot;:&quot;knockout-component-6b4fbbc1-17a1-4e24-8837-be967f2f17fb&quot;,&quot;handlers&quot;:{&quot;_promises&quot;:{&quot;importsLoaded&quot;:[function (ko, koPunches) {\n",
       "    ko.punches.enableAll();\n",
       "    ko.bindingHandlers.numericValue = {\n",
       "        init : function(element, valueAccessor, allBindings, data, context) {\n",
       "            var stringified = ko.observable(ko.unwrap(valueAccessor()));\n",
       "            stringified.subscribe(function(value) {\n",
       "                var val = parseFloat(value);\n",
       "                if (!isNaN(val)) {\n",
       "                    valueAccessor()(val);\n",
       "                }\n",
       "            })\n",
       "            valueAccessor().subscribe(function(value) {\n",
       "                var str = JSON.stringify(value);\n",
       "                if ((str == &quot;0&quot;) &amp;&amp; ([&quot;-0&quot;, &quot;-0.&quot;].indexOf(stringified()) &gt;= 0))\n",
       "                     return;\n",
       "                 if ([&quot;null&quot;, &quot;&quot;].indexOf(str) &gt;= 0)\n",
       "                     return;\n",
       "                stringified(str);\n",
       "            })\n",
       "            ko.applyBindingsToNode(element, { value: stringified, valueUpdate: allBindings.get(&#39;valueUpdate&#39;)}, context);\n",
       "        }\n",
       "    };\n",
       "    var json_data = JSON.parse(&quot;{\\&quot;changes\\&quot;:0,\\&quot;value\\&quot;:96}&quot;);\n",
       "    var self = this;\n",
       "    function AppViewModel() {\n",
       "        for (var key in json_data) {\n",
       "            var el = json_data[key];\n",
       "            this[key] = Array.isArray(el) ? ko.observableArray(el) : ko.observable(el);\n",
       "        }\n",
       "        \n",
       "        \n",
       "        [this[&quot;changes&quot;].subscribe((function (val){!(this.valueFromJulia[&quot;changes&quot;]) ? (WebIO.setval({&quot;name&quot;:&quot;changes&quot;,&quot;scope&quot;:&quot;knockout-component-6b4fbbc1-17a1-4e24-8837-be967f2f17fb&quot;,&quot;id&quot;:&quot;ob_14&quot;,&quot;type&quot;:&quot;observable&quot;},val)) : undefined; return this.valueFromJulia[&quot;changes&quot;]=false}),self),this[&quot;value&quot;].subscribe((function (val){!(this.valueFromJulia[&quot;value&quot;]) ? (WebIO.setval({&quot;name&quot;:&quot;value&quot;,&quot;scope&quot;:&quot;knockout-component-6b4fbbc1-17a1-4e24-8837-be967f2f17fb&quot;,&quot;id&quot;:&quot;ob_13&quot;,&quot;type&quot;:&quot;observable&quot;},val)) : undefined; return this.valueFromJulia[&quot;value&quot;]=false}),self)]\n",
       "        \n",
       "    }\n",
       "    self.model = new AppViewModel();\n",
       "    self.valueFromJulia = {};\n",
       "    for (var key in json_data) {\n",
       "        self.valueFromJulia[key] = false;\n",
       "    }\n",
       "    ko.applyBindings(self.model, self.dom);\n",
       "}\n",
       "]},&quot;changes&quot;:[(function (val){return (val!=this.model[&quot;changes&quot;]()) ? (this.valueFromJulia[&quot;changes&quot;]=true, this.model[&quot;changes&quot;](val)) : undefined})],&quot;value&quot;:[(function (val){return (val!=this.model[&quot;value&quot;]()) ? (this.valueFromJulia[&quot;value&quot;]=true, this.model[&quot;value&quot;](val)) : undefined})]},&quot;systemjs_options&quot;:null,&quot;observables&quot;:{&quot;changes&quot;:{&quot;sync&quot;:false,&quot;id&quot;:&quot;ob_14&quot;,&quot;value&quot;:0},&quot;value&quot;:{&quot;sync&quot;:true,&quot;id&quot;:&quot;ob_13&quot;,&quot;value&quot;:96}}},&quot;children&quot;:[{&quot;props&quot;:{&quot;attributes&quot;:{&quot;style&quot;:&quot;display:flex; justify-content:center; align-items:center;&quot;}},&quot;nodeType&quot;:&quot;DOM&quot;,&quot;type&quot;:&quot;node&quot;,&quot;instanceArgs&quot;:{&quot;namespace&quot;:&quot;html&quot;,&quot;tag&quot;:&quot;div&quot;},&quot;children&quot;:[{&quot;props&quot;:{&quot;attributes&quot;:{&quot;style&quot;:&quot;text-align:right;width:18%&quot;}},&quot;nodeType&quot;:&quot;DOM&quot;,&quot;type&quot;:&quot;node&quot;,&quot;instanceArgs&quot;:{&quot;namespace&quot;:&quot;html&quot;,&quot;tag&quot;:&quot;div&quot;},&quot;children&quot;:[{&quot;props&quot;:{&quot;className&quot;:&quot;interact &quot;,&quot;style&quot;:{&quot;padding&quot;:&quot;5px 10px 0px 10px&quot;}},&quot;nodeType&quot;:&quot;DOM&quot;,&quot;type&quot;:&quot;node&quot;,&quot;instanceArgs&quot;:{&quot;namespace&quot;:&quot;html&quot;,&quot;tag&quot;:&quot;label&quot;},&quot;children&quot;:[&quot;N&quot;]}]},{&quot;props&quot;:{&quot;attributes&quot;:{&quot;style&quot;:&quot;flex-grow:1; margin: 0 2%&quot;}},&quot;nodeType&quot;:&quot;DOM&quot;,&quot;type&quot;:&quot;node&quot;,&quot;instanceArgs&quot;:{&quot;namespace&quot;:&quot;html&quot;,&quot;tag&quot;:&quot;div&quot;},&quot;children&quot;:[{&quot;props&quot;:{&quot;max&quot;:192,&quot;min&quot;:0,&quot;attributes&quot;:{&quot;type&quot;:&quot;range&quot;,&quot;data-bind&quot;:&quot;numericValue: value, valueUpdate: &#39;input&#39;, event: {change : function () {this.changes(this.changes()+1)}}&quot;,&quot;orient&quot;:&quot;horizontal&quot;},&quot;step&quot;:1,&quot;className&quot;:&quot;slider slider is-fullwidth&quot;,&quot;style&quot;:{}},&quot;nodeType&quot;:&quot;DOM&quot;,&quot;type&quot;:&quot;node&quot;,&quot;instanceArgs&quot;:{&quot;namespace&quot;:&quot;html&quot;,&quot;tag&quot;:&quot;input&quot;},&quot;children&quot;:[]}]},{&quot;props&quot;:{&quot;attributes&quot;:{&quot;style&quot;:&quot;width:18%&quot;}},&quot;nodeType&quot;:&quot;DOM&quot;,&quot;type&quot;:&quot;node&quot;,&quot;instanceArgs&quot;:{&quot;namespace&quot;:&quot;html&quot;,&quot;tag&quot;:&quot;div&quot;},&quot;children&quot;:[{&quot;props&quot;:{&quot;attributes&quot;:{&quot;data-bind&quot;:&quot;text: value&quot;}},&quot;nodeType&quot;:&quot;DOM&quot;,&quot;type&quot;:&quot;node&quot;,&quot;instanceArgs&quot;:{&quot;namespace&quot;:&quot;html&quot;,&quot;tag&quot;:&quot;p&quot;},&quot;children&quot;:[]}]}]}]}]},{&quot;props&quot;:{},&quot;nodeType&quot;:&quot;Scope&quot;,&quot;type&quot;:&quot;node&quot;,&quot;instanceArgs&quot;:{&quot;imports&quot;:{&quot;data&quot;:[],&quot;type&quot;:&quot;async_block&quot;},&quot;id&quot;:&quot;scope-05783b8e-d2d9-4500-b1dc-88b1152cd137&quot;,&quot;handlers&quot;:{&quot;obs-output&quot;:[function (updated_htmlstr) {\n",
       "    var el = this.dom.querySelector(&quot;#out&quot;);\n",
       "    WebIO.propUtils.setInnerHtml(el, updated_htmlstr);\n",
       "}]},&quot;systemjs_options&quot;:null,&quot;observables&quot;:{&quot;obs-output&quot;:{&quot;sync&quot;:false,&quot;id&quot;:&quot;ob_17&quot;,&quot;value&quot;:&quot;&lt;div class=&#39;display:none&#39;&gt;&lt;/div&gt;&lt;unsafe-script style=&#39;display:none&#39;&gt;\\nWebIO.mount(this.previousSibling,{&amp;quot;props&amp;quot;:{&amp;quot;attributes&amp;quot;:{&amp;quot;style&amp;quot;:&amp;quot;display:flex; justify-content:center; align-items:center;&amp;quot;}},&amp;quot;nodeType&amp;quot;:&amp;quot;DOM&amp;quot;,&amp;quot;type&amp;quot;:&amp;quot;node&amp;quot;,&amp;quot;instanceArgs&amp;quot;:{&amp;quot;namespace&amp;quot;:&amp;quot;html&amp;quot;,&amp;quot;tag&amp;quot;:&amp;quot;div&amp;quot;},&amp;quot;children&amp;quot;:[{&amp;quot;props&amp;quot;:{&amp;quot;setInnerHtml&amp;quot;:&amp;quot;&amp;lt;img src=&amp;#39;data:image/png;base64,iVBORw0KGgoAAAANSUhEUgAAAjEAAAHICAYAAAC/Gru4AAAABHNCSVQICAgIfAhkiAAAAAlwSFlzAAAPYQAAD2EBqD+naQAAADl0RVh0U29mdHdhcmUAbWF0cGxvdGxpYiB2ZXJzaW9uIDMuMC4wLCBodHRwOi8vbWF0cGxvdGxpYi5vcmcvqOYd8AAAIABJREFUeJzs3Xd8FHX+P/DXJtn0QnojIQQSQjVIAEEgoIYo5bCcJ+Apiud5iPBFVDjL0US6Z0PlFBHvEAQOORERRaRKL0FqCASSkJDee9n5/ZHfTLKbTUg2uzuzm9fz8fBxl9ndmfcOu+TFp6oEQRBAREREZGFs5C6AiIiIyBAMMURERGSRGGKIiIjIIjHEEBERkUViiCEiIiKLxBBDREREFokhhoiIiCwSQwwRERFZJIYYIiIiskgMMURERGSRGGKIiIjIIjHEkOIsWrQIvXr1gkajMej1YWFhWLBgQbvr+OKLLxAcHIyysrJWv2bz5s3o3bs3nJycoFKpkJCQ0O46mrN+/XqoVCo4OjoiJSWlyeMjR45Enz59jHa9EydOID4+Hm5ubnB1dcWoUaPw22+/6X3u4cOHMWbMGHh6esLJyQkRERF4++23jVaLsSUkJGDs2LEIDQ2Fk5MTvLy8MGTIEGzYsKHJc/fv3w+VSqX3v2PHjrXqeu39jLeX+Nm5efOmLNfXVVpailmzZiEoKAiOjo6Ijo7GN998Y9C51q5dC5VKBVdXV63jhnyfSfkYYkhRMjIysGLFCixatAg2Nsb7eFZVVeHzzz+XflG5ubmhU6dOGDVqFO69917cc889mDVrFi5fviy9ZsqUKXBxccGKFStadY2cnBw89dRT6NatG3bv3o2jR48iMjLSaO+hOVVVVXjrrbdMeo2TJ09ixIgRqKiowH/+8x/85z//QWVlJe6//34cPXpU67kbN25EbGwsPDw88O9//xu7du3C3LlzoeS9ZgsLCxESEoIlS5Zg165d+Pe//42wsDA89dRTWLx4sd7XLFmyBEePHtX6rzWh0VSfcUv26KOP4quvvsL8+fPx448/YuDAgZg0aRI2btzYpvOkp6fj1VdfRVBQUJPH2vp9JgshECnInDlzhODgYKGurs7gc3Tp0kWYP3++9HNycrLwyiuvCAcPHhSKioqE8ePHCwCEb7/9VnrOzZs3hREjRghqtVrr+KpVqwQPDw+hrKzsjtc9fPiwAEDYvHmzwbXraum6X375pQBAePDBBwUbGxshISFB6/HY2Fihd+/eRqkjPj5e8Pf316qnuLhY8PHxEYYOHSodu3XrluDi4iJMmzbNKNeV2+DBg4WQkBCtY/v27RMACFu3bjXonG35jLfmc2cI8bNz48YNk5y/LX744QcBgLBx40at43FxcUJQUJBQW1vb6nONGzdOGD9+vDBlyhTBxcWlyeNt+T6TZeA/A8gsxo8fj5iYGHz++ee466674OTkhJCQEMyfP19qUq+ursYXX3yByZMn6/0XateuXTFlypQmx++77z7ExsY2e+3AwECsWrUKw4cPh7u7O7KysuDs7IyHHnpIek6XLl2wZcsWqNVqzJ49Wzr+5JNPori4+I5N28888wyGDRsGAHjiiSegUqkwcuRI6fHDhw/j/vvvh5ubG5ydnTF06FD88MMPWudYsGABVCoVzpw5gz/+8Y/w9PREt27dWrwuAMyZMwfe3t6YO3fuHZ9rqN9++w0jR46Es7OzdMzNzQ0jRozAkSNHcPv2bQD1TfllZWVGrUW8LxcvXsSkSZPg4eEBf39/TJ06FUVFRUa7jj4+Pj6ws7Mz2vla+ozf6c8/KSkJkydPhp+fHxwcHNCzZ098/PHHWue4du0ann32WURERMDZ2RnBwcEYP348zp8/b3DNhn7vWmv79u1wdXXF448/rnX82WefRUZGBo4fP96q82zYsAEHDhzAJ5980uxzWvt9JsvBEENmcfr0aVy5cgXvvfceXnvtNezYsQPDhg3DokWLsG7dOgDA8ePHkZeXh1GjRjV5fV5eHm7evImYmBit44Ig4MyZMxgwYECz13Z0dJT+f3p6Ok6ePIm4uDit4wDg7++PXr164ebNmygoKAAABAQEICoqqkng0PWPf/xD+oUidjOIf5keOHAA9913H4qKivDFF19g06ZNcHNzw/jx47F58+Ym53r00UfRvXt3bN26FWvWrGnxukB9mHjrrbfw008/4ddff23xuYIgoLa2tlX/NVZdXQ0HB4cm5xOPib8kDx48CC8vL1y5cgXR0dGws7ODn58f/va3v6G4uPiO76Uljz32GCIjI7Ft2zb8/e9/x8aNG/Hyyy8b5f2JNBoNamtrkZOTg08++QQ//fRTs4Fs+vTpsLOzg7u7O+Lj43H48OE7voeWPuMifX/+ly5dwsCBA3HhwgW8++672LlzJ8aOHYuZM2di4cKF0mszMjLg7e2NZcuWYffu3fj4449hZ2eHwYMHIzEx8Y716WrL987Qe3/hwgX07NmzSVjs16+f9PidZGdnY9asWVi2bBk6d+7c7PNa+30mCyJrOxB1CLdu3RIACOHh4UJhYaF0vLq6WggICBDGjRsnCIIgLF++XAAgZGZmNjnH7t27BQDCkSNHtI4nJiYKAIQNGzZIx3S7kxr79NNPBQDC2rVr9T4+cuRIAYBQVFQkHXvyyScFf3//O77P5roZ7rnnHsHPz08oKSmRjtXW1gp9+vQROnfuLGg0GkEQBGH+/PkCAGHevHl3vJYgNHQJnDx5UqiqqhLCw8OFmJgY6Xz6upPEGlvzX+OuhujoaCEyMlKrC6SmpkYIDw/X6gro0aOH4OjoKLi5uQlLliwR9u3bJ6xYsUJwcnIS7r33Xqm2thDvy4oVK7SOv/jii4Kjo6PWOQ19f6IXXnhBetze3l745JNPmjznzJkzwv/93/8J27dvFw4ePCisW7dO6Nmzp2Brayvs3r27xffS0me8pT//+Ph4oXPnzlqfS0EQhJdeeklwdHQU8vPz9V6vtrZWqK6uFiIiIoSXX35ZOt7a7qS2fO8MvfcRERFCfHx8k2tnZGQIAIQlS5a0WKMgCMJjjz0mDB06VPosNNedJAit/z6TZTBeOylRM06ePAmgvrncw8NDOq5Wq9G9e3fk5uYCqP9XpEqlgo+Pj95z2NnZITo6Wuv46dOnAaDFlpjGdu7cCZVKhbFjx+p9/ObNm/D19YW7u7t0zM/PD9nZ2aitrW1z10JZWRmOHz+OadOmac2WsLW1xVNPPYW5c+ciMTERUVFR0mOPPfZYm64BAPb29li8eDEmT56MLVu24IknntD7vAEDBkh/HnfSeHDkjBkz8Nxzz+Gll17Cm2++CY1Gg4ULF0qzosSuEY1Gg8rKSsyfPx9///vfAdTPkrK3t8esWbOwd+9ePPDAA21+fwDwhz/8Qevnfv36obKyEtnZ2fD392/X+xO98cYb+Mtf/oLs7Gx8//33eOmll1BWVoZXX31Vek7//v3Rv39/6efhw4fjkUceQd++fTFnzhzEx8c3e82WPuMi3T//yspK7N27F9OmTYOzs7NWS8aYMWOwevVqHDt2DA899BBqa2uxYsUKbNiwAdeuXUNNTY303MaD1lurLd+79tx7lUrV7HNbegwAtm3bhu+//x5nz56943OB9n2fSXn4J0gmd+rUKajV6iZ93kD9X+riX4QVFRVQq9WwtbXVe45evXrBycmpyXFXV9dWzQKqqKjAr7/+ikGDBiEgIKDJ4+fPn8fNmzfx9NNPax13dHSEIAiorKxsMm3zTgoKCiAIAgIDA5s8Jv5FnpeXp3Vc33NbY+LEiVi1ahXefPNNPProo3qf4+rq2uQXUnMa/wU/depU5OTkYPHixfj0008BAEOGDMGrr76K5cuXIzg4GADg7e2NpKSkJr/IH3roIcyaNQtnzpwxOMR4e3tr/Sx2ZVVUVEjHDH1/otDQUISGhgKoDwgA8Prrr2PKlCnw9fVt9lydOnXCuHHjsGbNGlRUVDT5nIpa+oyLdP/88/LyUFtbi48++ggfffSR3teI/xCYPXs2Pv74Y8ydOxexsbHw9PSEjY0N/vKXv2jdp9Zqy/fO0Hvv7e3d5DsAAPn5+QAALy+vZs9TWlqK6dOnY8aMGQgKCkJhYSGA+u5PoH7WmVqthouLi/Sa9nyfSXk4JoZM7tSpU/Dx8WkyBuX48eNITk6Wfln4+Pigurpa7zoOp06dwt13393k+P79+9G/f/9WTVXdu3cvKioqMH78eL2Pz5s3D2q1Gq+//rrW8fz8fDg4OBj0F574S0Qc+NpYRkYGADT5V3lr/jWpj0qlwvLly3H9+nV89tlnep9z4MABqNXqVv2nu4bI3LlzkZubK4W9I0eOoKCgAC4uLlIQFccx6BL+//RqU08pbs/702fQoEGora1FcnLyHZ8rvseW/vxa+oyLdF/v6ekJW1tbPPPMMzh58qTe/8Tv0IYNG/D0009jyZIliI+Px6BBgxATEyOFnLZqy/fO0Hvft29fXL58uclYGXGcVUvT1nNzc5GVlYV3330Xnp6e0n+bNm1CWVkZPD098eSTT2q9pj3fZ1IetsSQyZ06dQpFRUUoLCxEp06dAAB1dXWYO3cuwsLCMHnyZACQulSuX7+u9cswMzMT6enpTf7lfODAAZw5cwazZs1qVR3iYD7dEFNVVYU333wT//vf/7B69Wqtrh0ASE5ORq9evdrwjhu4uLhg8ODB+Pbbb7Fq1SrpX7QajQYbNmxA586djbqWzAMPPIC4uDgsWrQIISEhTR5vb3eLg4OD9EslNTUVmzdvxvPPPy+9r8ceewyfffYZfvzxR60ul127dgEA7rnnnja/p7Zo7/vTtW/fPtjY2CA8PLzF5xUUFGDnzp2Ijo5uEtYba+4z3hJnZ2eMGjUKZ8+eRb9+/WBvb9/sc1UqVZMB2D/88APS09PRvXv3Vl1P1NbvnaH3/pFHHsHnn3+Obdu2aXWDfvXVVwgKCsLgwYObPU9AQAD27dvX5PiyZctw4MAB/Pjjj03+kdCe7zMpD0MMmdSNGzeQl5eH0NBQPP7443jllVdQWVmJDz/8EKdPn8b+/fulv5TFKcnHjh3T+gte/Itx69at6NWrF7p3746EhARpNlB2djYuXLjQ4r/YqqqqsH37dnh5eUnnzs7Oxo4dO7BkyRLk5ubiiy++wNSpU7Vep9FocOLECTz33HMG34OlS5ciLi4Oo0aNwquvvgp7e3t88sknuHDhAjZt2mRwy0tzli9fjgEDBiA7Oxu9e/fWeszNza3JTJPWuHDhArZt24aYmBg4ODjg3LlzWLZsWZOVeEePHo3x48dj0aJF0Gg0uOeee3Dq1CksXLgQ48aNk6ahi1QqFWJjY7F//36D3qsuQ9/fX//6V7i7u2PQoEHw9/dHbm4utm7dis2bN+O1117T6kqaPHkyQkNDERMTAx8fHyQlJeHdd99FVlYW1q9f3+J1mvuM38kHH3yAYcOGYfjw4Zg2bRrCwsJQUlKCa9eu4fvvv5dmpY0bNw7r169HVFQU+vXrh9OnT2PlypUtzthpTlu/d4be+4ceeghxcXGYNm0aiouL0b17d2zatAm7d+/Ghg0bpK63AwcO4P7778e8efMwb948APVdQ42XMhCtX78etra2TR4zxveZFEbWYcVk9bZs2SLNbnjqqacEd3d3wc3NTZgwYYJw6dKlJs8fPny4MGbMGK1j8+bNE+zs7IStW7cKYWFhgqOjozBy5Ejh+PHjQvfu3YXAwECt2RO6s5OKi4uFgQMHSjMjfH19BR8fHyEgIEB44IEHhJUrVwq5ubl669+7d68AQDh9+vQd32tLi6AdOnRIuO+++wQXFxfByclJuOeee4Tvv/9e6zni7JScnJw7XksQtGcn6Zo8ebIAwGiL3SUmJgojRowQvLy8BHt7e6F79+7CW2+9JZSWljZ5bnl5uTB37lwhJCREsLOzE0JDQ4XXX39dqKys1HpeSUmJAECYOHFii9du7r4Yc8G2devWCcOHDxd8fHwEOzs7oVOnTkJsbKzwn//8p8lzly5dKkRHRwseHh6Cra2t4OvrKzzyyCPCiRMnWnUtfZ9xQbjzn/+NGzeEqVOnCsHBwYJarRZ8fX2FoUOHCosXL5aeU1BQIDz33HOCn5+f4OzsLAwbNkw4dOiQEBsbK8TGxkrPa829a+v3rj1KSkqEmTNnCgEBAYK9vb3Qr18/YdOmTVrPEb9fzc08bKy52Ult+T6TZVAJgoLXAieLN2fOHHzyyScoKipqcTCjSGxSTklJkQaLjhkzBpmZmThz5kyrrhkWFoZnnnnGKPsnPfXUU0hOTm52jyAy3K5duzBu3DicO3cOffv2lbscs9H3GVeitn7vLAG/z9aHA3vJpMSBga0JMED9Ql8DBw7E0qVLpWOnT5/GoEGDTFVis65fv47Nmzdj+fLlZr92R7Bv3z5MnDixQwUYQP9nXInk+t6ZCr/P1okhhkxG+P+reraln1ylUuHzzz9HUFAQNBoNUlNTkZ2dLctfpqmpqVi9enWTcRxkHCtXrmzzBn/WQPczrkRyfu9Mhd9n68TuJLI6xuxOIiIi5WKIISIiIovE7iQiIiKySAwxREREZJGsarE7jUaDjIwMuLm5GX0BMSIiIjINQRBQUlKCoKCgNm1PYlUhJiMjQ+9S60RERKR8aWlpbVph2qpCjJubG4D6m+Du7m7Uc9fU1ODnn3/G6NGjoVarjXpuasD7bB68z+bB+2wevM/mY6p7XVxcjJCQEOn3eGtZVYgRu5Dc3d1NEmKcnZ3h7u7OL4kJ8T6bB++zefA+mwfvs/mY+l63dSgIB/YSERGRRWKIISIiIovEEENEREQWiSGGiIiILBJDDBEREVkkhhgiIiKySAwxREREZJEYYoiIiMgiMcQQERGRRWKIISIiIovEEENEREQWiSGGiIiILBJDDBEREVkkhhgiIiKySAwxRBbuxo0byMnJkX6ura2VsRoiIvNhiCGycDNnzkRYWBi++eYbvP/++7j33ntRXl4ud1lERCbHEENkwRISErBz505UVlYiNDQU77zzDk6cOIG//OUvEARB7vKIiEyKIYbIgi1ZsgQA8Kc//QlDhw7Ff//7X9jZ2WHTpk1YtWqVzNUREZkWQwyRhbpy5Qr++9//AgDeeOMNAEBsbCw++OADAMDcuXOxe/du2eojIjI1hhgiC7Vs2TIIgoAJEyagb9++0vFp06ZJ3UmvvfaajBUSEZkWQwyRBbpx4wY2bNgAAHjzzTe1HlOpVFI304ULF5Cfn2/2+oiIzIEhhsgCHTt2DLa2thg9ejQGDhzY5HFfX1/06NED9vb2uHTpkgwVEhGZnp3cBRBR202aNAkjRoxAaWlps8/54YcfEBwcDEdHRzNWRkRkPgwxRBZIEAQEBwe3+Jxu3bqZqRoiInmwO4nIwhw6dAiurq6YMWMG14Ihog6NIYbIgtTV1SE+Ph7l5eVYvXq1NJ26Of/4xz8QHR2N48ePm6lCIiLzYYghsiDr1q1DRUWF9PMrr7zS4low58+fx7lz53Do0CFzlEdEZFYMMUQWoqysTFrUzsnJCVOnToVGo8ETTzyBK1eu6H3NsGHDAACHDx82W51EROaiqBBTW1uLt956C127doWTkxPCw8OxaNEiaDQauUsjkt2qVauQm5sLABg8eDA+/fRTDB8+HMXFxRg/frze9WDuvfdeAMCRI0c4foaIrI6iQszy5cuxZs0arF69GpcvX8aKFSuwcuVKfPTRR3KXRiSrjIwMrFixQvo5JiYG9vb22LZtG7p06YJr167h8ccfR21trdbr7r77bjg4OCAnJwdJSUnmLpuIyKQUFWKOHj2KCRMmYOzYsQgLC8Mf//hHjB49GqdOnZK7NCJZvfXWWygvL4ebmxsAoH///gDqF7X7/vvv4erqil9//RU//fST1uscHBykxfDYpURE1kZR68QMGzYMa9aswdWrVxEZGYlz587h8OHDeP/99/U+v6qqClVVVdLPxcXFAICamhrU1NQYtTbxfMY+L2njfW4qISEB69evB9BwX/r27Sv9/6ioKDzxxBP44osvsHfvXowePVrr9UOGDMHhw4dx6NAhPPXUU1rn4X02Ld5n8+B9Nh9T3WtDz6eoEDN37lwUFRUhKioKtra2qKurwzvvvINJkybpff7SpUuxcOHCJsd//vlnODs7m6TGPXv2mOS8pI33ucGCBQsgCAKGDBkCe3t73Lp1C0lJSUhOTpae4+7uDgDYsWMHYmNjtV5vb28PPz8/lJSUYNeuXVqP8T6bB++zefA+m4+x73V5eblBr1MJChrt98033+C1117DypUr0bt3byQkJGDWrFn45z//iSlTpjR5vr6WmJCQEOTm5kp/qRtLTU0N9uzZg7i4OKjVaqOemxrwPmsrKSmBj48PBEHA5cuXm12FNz09HV27doWNjQ0yMzPRqVMn6TFBEKBSqbSez/tsHrzP5sH7bD6mutfFxcXw8fFBUVFRm35/K6ol5rXXXsPf//53TJw4EUB9k3lKSgqWLl2qN8Q4ODjAwcGhyXG1Wm2yD7Ipz00NeJ/rnTt3DoIgoEuXLoiKimr2eWFhYYiIiEBSUhKOHTuG8ePHt+r8vM/mwftsHrzP5mPse23ouRQ1sLe8vBw2Ntol2dracoo1dVjHjh0DUD+lOjU1FXV1dc0+d9SoUQCA/fv3631co9EgJyfH6DUSEclFUSFm/PjxeOedd/DDDz/g5s2b2L59O/75z3/ikUcekbs0IlmI2wUMHjwY0dHRcHd3R2Jiot7njhw5EoD+EPPLL7/A29sbDz/8sKlKJSIyO0V1J3300Uf4xz/+gRdffBHZ2dkICgrCCy+8gHnz5sldGpHZCYIgtcR06dIFBQUFUKvV6Nq1q97niwN6z549i8LCQq1xMV27dkVhYSFOnTqFyspK2Nramv4NEBGZmKJaYtzc3PD+++8jJSUFFRUVuH79OhYvXgx7e3u5SyMyu9TUVGRlZcHOzk6aftinT59mvw9BQUGIjIyEIAg4ePCg1mPh4eHw9/dHdXU1110iIquhqBBDRA3ErqTo6GhcunQJQMMid81pblyMSqXC4MGDAdS31BARWQOGGCKFajyo98yZMwDqtxFoSUvjYsTZTdx+gIisBUMMkUI1HtQrtp7cqSVGHBeTkJCAgoICrcciIiIAAFevXjV2qUREsmCIIVKg6upqqfWlW7duyMjIgEqlQr9+/Vp8XWBgIHr06KF3XExkZCQAtsQQkfVQ1OwkIqr3+++/o7KyEp6enujWrRvmz5+PrKwsuLq63vG1o0aNQmJiIvbv348JEyZIx6OiovDwww8jKioKClqom4jIYAwxRArUuCvJ398fCxYsaPVrR44ciTVr1jQZF+Pn54ft27cD4EZ5RGQd2J1EpECNQ0xbieNizp07h/z8fKPWRUSkJAwxRAokzky65557sGfPHty6davVXUABAQFSl5HuuBhBEJCZmYn09HSj10xEZG4MMUQKk5+fLw2+jY6ORnx8PEJCQpCVldXqczS3Xszbb7+NwMBAvPPOO0arl4hILgwxRApz4sQJAPVToktLSyEIApycnODv79/qc4jrxRw6dEjruLhlAWcoEZE1YIghUpjGXUnJyckA6sOHSqVq9TnE9WQuX76stQs8p1kTkTVhiCFSmMaDem/cuAEAzW762JyuXbvC3t4eFRUVSElJkY6LC95lZGSgoqLCSBUTEcmDIYZIQQRB0BtiwsPD23QeOzs7qdXl8uXL0nEvLy94e3sDAG7fvm2MkomIZMMQQ6QgSUlJKCgogKOjI/r166fVndRWPXv2BKAdYoCGLqWMjIx2VktEJC+GGCIFEVth7r77btjb2xvcnQQ0H2LELiW2xBCRpeOKvUQK8vvvvwMABgwYAACYPXs2Ll68iOjo6Dafq7kQM3bsWHh5ecHLy6ud1RIRyYshhkhBxFlDPXr0AABMmjTJ4HM1DjGCIEizm/70pz/hkUcewa5du9pZLRGRvNidRKQgYojp3r17u88VGRkJlUqFgoICZGdnt/t8RERKwxBDpBAajQbXr18HUD9u5ebNm/j1118N3iLAyclJGkuj26WUk5ODy5cvo7y8vH1FExHJiCGGSCFu3bqFqqoqqNVqhIaG4ttvv8X999+P2bNnG3zO5sbFDBo0CK+//jouXLjQrpqJiOTEEEOkEGJXUnh4OOzs7No1M0nUXIgRu6uuXr1q8LmJiOTGEEOkELrjYQxd6K6xO02z5vYDRGTJGGKIFOLatWsAGgJGexa6E92pJUa8JhGRJWKIIVIIsVUkIiICgiDg5s2bANoXYqKiogAA6enpKC4ulo6zJYaIrAFDDJFCNO5OysrKQkVFBWxsbBAaGmrwOT09PeHv7w8AuHLlinRcDDHXrl2DIAjtqJqISD4MMUQKUFdXpzW9WuxK6ty5M+zt7dt1bn1dSuHh4bCxsUFpaSkyMzPbdX4iIrlwxV4iBbh16xaqq6thb2+P0NBQODk5Ye3atdBoNO0+d8+ePbF//36tEGNvb4/HH38cQ4cOhaOjY7uvQUQkB4YYIgVoPL3a1tYWAQEBeO6554xy7uYG906aNAljxoyBWq02ynWIiMyN3UlECmDM7QZ0NRdiiIgsHUMMkQI0npkEALt27cK+fftQUlLS7nOLIeb69euoqqqSjldWVuLEiRPYv39/u69BRCQHhhgiBdBdI+bFF1/Efffdh/Pnz7f73EFBQXBzc4NGo9GaUn358mUMGzYM06dPb/c1iIjkwBBDpACNW2JqamqQlpYGoH1rxIhUKpXUGtN4mnVgYCCA+hYaTrMmIkvEEEMks7q6OmlKdffu3ZGamgqNRgNHR0cEBAQY5Rr6xsV4e3tDpVKhqqoKOTk5RrkOEZE5McQQySw1NVWaXh0SEqK18aNKpTLKNfSFGLVaLbXGpKamGuU6RETmxBBDJDNxPEy3bt1ga2trlN2rdTU3QykkJAQAQwwRWSaGGCKZNbd7tSlCTGJiotYCeuKWBikpKUa7FhGRuTDEEMlMd3q1OD4mPDzcaNfo2rUr7O3tUVFRoRVY2BJDRJaMK/YSyUx3evUrr7yCBx54AEOGDDHaNezs7BBn7dPPAAAgAElEQVQZGYkLFy7g8uXL6Ny5MwDgD3/4A8LCwjB48GCjXYuIyFwYYohkptsSM3DgQAwcONDo1+nRowcuXLiApKQkxMXFAQCGDh2K2NhYo1+LiMgc2J1EJKPa2lqt6dWmJI6xEcfcEBFZOoYYIhmlpqaipqYGDg4OCAkJwe3bt/Hll1/i6NGjRr+WvhAjCAKOHTuGLVu2aG1JQERkCdidRCSjxtOrbWxscOLECUydOhUDBgzAqVOnjHotMcTcvHlT63hcXBxKS0uRmJiIyMhIo16TiMiU2BJDJCPd8TCmmF4tatwSI24zoFKp0KVLFwCcoURElochhkhGumvEiEFCDBbGFBYWBgAoKSlBfn6+dJxrxRCRpWKIIZKRbktMeno6AEhToI3J0dFR2magcZeSGGLYEkNEloYhhkhGumvEiCEmODjYJNfTN7iXIYaILBVDDJFMamtrpTAhdifdunULgGlaYoCGLqXGLTEcE0NEloohhkgmGRkZqKmpgVqtRufOnaHRaJCRkQHA9C0x+rqTOCaGiCwNp1gTyURs+QgJCYGNjQ3q6urw/fff49atW9LYFWPTF2J69eqFDz/8EN26dTPJNYmITIUhhkgmjUMMANja2iI+Pt6k19Q3Jsbb2xszZsww6XWJiEyB3UlEMhFDjNidYw5iiElJSYFGozHbdYmITIEhhkgmaWlpABpCzOnTp7F+/XqcO3fOZNcMCQmBra0tqqurUVBQIB2/cOECtmzZgsTERJNdm4jI2BhiiGSi2xLz7bff4tlnn8XatWtNdk07Ozup+yorK0s6vmTJEjzxxBPYuXOnya5NRGRsDDFEMtENMeL0alPNTBKJXUrZ2dnSMU6zJiJLxBBDJBPdEGPK1XobE0NM45YYTrMmIkvEEEMkg+LiYhQWFgJomJ0kZ0sMV+0lIkvEEEMkA3FQr6enJ9zc3CAIgslX6xXpa4lhdxIRWSKGGCIZ6HYlFRcXo6ysDID5WmL0dSfl5eVJdRARKR1DDJEMmhvU6+npCWdnZ5NeWwwxeXl5qKmpAQC4u7vDw8NDqzYiIqXjir1EMtANMaGhofjpp59QWlpq8msHBATA0dERlZWVSEtLQ48ePQAAH3/8Mdzc3EzeEkREZCwMMUQy0A0xbm5uGD16tFmurVKpEBoaiqtXr+LmzZtSiHnyySfNcn0iImNhdxKRDOTYcqAxfRtBEhFZGrbEEMlAN8Ts2rUL2dnZGD58uFl2kw4LCwOgvRHkrVu3cOTIEbi6umLMmDEmr4GIqL3YEkNkZnV1ddJAXjHEfPLJJ3j22Wfx66+/mqUGMcQ0bok5dOgQnnjiCaxYscIsNRARtRdDDJGZZWZmora2Fra2tggMDAQAs60RI9IXYrhWDBFZGoYYIjMTQ0JwcDBsbW0BNGw5YK6ZQeKYmMbbDIitQmlpaairqzNLHURE7cEQQ2RmuuNhKisrkZubC8D8LTGZmZmoqKgAAAQGBsLW1ha1tbXIzMw0Sx1ERO3BEENkZuKWA7obPzo6OsLT09MsNTReVE/sUrK1tZVCFLuUiMgSKC7EpKen489//jO8vb3h7OyM6OhonD59Wu6yiIympd2rVSqVWWpQqVTw8/MDoD1DibtZE5ElUVSIKSgowL333gu1Wo0ff/wRly5dwrvvvotOnTrJXRqR0TS35YC5upJE/v7+ALRDDAf3EpElUdQ6McuXL0dISAi+/PJL6ZjYd09kLXRDTFxcHH7++WfY29ubtQ59IWb69On44x//iOjoaLPWQkRkCEWFmB07diA+Ph6PP/44Dhw4gODgYLz44ot4/vnn5S6NyGh0Q4yvry/i4uLMXoe+7qR77rnH7HUQERlKUSEmOTkZn376KWbPno033ngDJ06cwMyZM+Hg4ICnn366yfOrqqpQVVUl/VxcXAwAqKmpkXbnNRbxfMY+L2mz9vtcVlaGvLw8APWzgeR6nzU1NVJLTHJystXeb7lZ++dZKXifzcdU99rQ86kEQRCMWkk72NvbIyYmBkeOHJGOzZw5EydPnsTRo0ebPH/BggVYuHBhk+MbN26UZl4QKcmtW7fw0ksvwdnZGRs3bgQA/PLLL1CpVBgwYIBZx3+lpqZi5syZcHFxwddffw0AqKiowOnTp1FcXMytB4jIbMrLyzF58mQUFRXB3d291a9TVIjp0qUL4uLisHbtWunYp59+isWLF0szOBrT1xITEhKC3NzcNt2E1qipqcGePXsQFxcHtVpt1HNTA2u/z3v27MHYsWPRu3dvnD17FkD9wnPp6ek4cuQIYmJizFJHTU0NvvvuO0yePBkAkJeXBzc3N2RlZSEkJAQqlQqlpaVW+WdgTtb+eVYK3mfzMdW9Li4uho+PT5tDjKK6k+69914kJiZqHbt69ao0Y0KXg4MDHBwcmhxXq9Um+yCb8tzUwFrvc0ZGBoD6wK5Wq7UWlgsLCzPre3Z2dkanTp1QWFiIzMxMeHl5ISgoCGq1GjU1NcjLy0NISIjZ6rFm1vp5VhreZ/Mx9r029FyKmmL98ssv49ixY1iyZAmuXbuGjRs34rPPPsP06dPlLo3IKHQH9WZlZaGurg62trbSQFtzEkOKWJeNjY209YE49ZuISKkUFWIGDhyI7du3Y9OmTejTpw/efvttvP/++3jyySflLo3IKJpb6C4oKEjaR8mcdEMM0LBeDUMMESmdorqTAGDcuHEYN26c3GUQmURzC92Za+NHXWIdDDFEZIkU1RJDZO1a2nJADvpCDLuTiMhSMMQQmYlGo2my+aPcLTHsTiIiS6a47iQia5WdnY3q6mrY2NggKCgIADBjxgw88MADCAwMlKUmfS0x48ePR3h4OCIjI2WpiYiotRhiiMxEDAqBgYHSdMLOnTvL1pUENLTE3Lp1S5ol1a1bN3Tr1k22moiIWovdSURmotuVpASBgYGwtbVFTU0NsrKy5C6HiKhNGGKIzER3UK8gCHjnnXewbt06VFZWylKTra2t1BLUuEtp69atePfdd1FYWChLXURErcEQQ2QmuiGmoKAAb731Fp577jk5y9I7LmbWrFl49dVXce3aNbnKIiK6I4YYIjMRu5PElg9xCwIvLy84OjrKVpcYYlJSUqRjnKFERJaAIYbITMQ1YcTBtGKIEWcqyaWlBe/0bbxKRKQUDDFEZqK7Jszt27cBKDvEsCWGiJSMIYbIDOrq6qTQotudpMQQw1V7icgSMMQQmUHj3ar9/f0BKDvEsCWGiCwBQwyRGYhhQFyXBVBeiMnPz0dpaSkAhhgisgxcsZfIDMQw0Hh13pUrV2LatGmyL+/v7u4ODw8PFBUVIS0tDT179kS/fv2wY8cORS3MR0SkiyGGyAz07VYdHh6O8PBwuUrSEhoaivPnzyM1NRU9e/ZEp06dMH78eLnLIiJqEbuTiMxA7t2q70TfuBgiIqVjiCEyA93upKKiIrz99ttYt26dnGVJ9IWYn376CatWrcLFixflKouIqEXsTiIyA93upJs3b2LevHnw9fXF1KlT5SwNgP4Qs3r1auzcuRPu7u7o3bu3XKURETWLLTFEZqDbnaSUmUkiTrMmIkvEEENkYoIgNOlOUspqvSKGGCKyRAwxRCaWn5+PqqoqAA2hRaktMWlpadBoNAAYYohI+RhiiExMDAG+vr5wcHAAoLwQExQUBBsbG9TU1CArKwsAQwwRKR9DDJGJ6VsjRmkhxs7OThqvI3YpcSdrIlI6hhgiE9O3RozSQgzQdFyMWG9xcTGKi4tlq4uIqDmcYk1kYvq2HPj666+RmpqKu+66S66ymggNDcVvv/0mhRhXV1fs3LkTQUFBcHZ2lrk6IqKmGGKITExfd1JERAQiIiLkKkkvfTOUxo4dK1c5RER3xO4kIhNT+pYDIm49QESWhi0xRCam252UkpKCf//734iIiMDEiRPlLE2LvhBz/PhxHDx4EHfddRdGjx4tV2lERHqxJYbIxHS7k86fP4958+Zh5cqVcpbVhL4Q8+OPP2LOnDn49ttv5SqLiKhZDDFEJlRSUoKioiIAyt1yQCSGmNzcXJSXlwPgWjFEpGwMMUQmJLbCuLu7w83NDYDythwQeXh4SDWmpaUBaAheDDFEpEQMMUQmZAkL3YlUKlWTLiW2xBCRkjHEEJmQpSx0J2ouxOTl5aGiokK2uoiI9GGIITIhfQvdiSEmMDBQlppaIoaYlJQUAECnTp2khe64/QARKQ1DDJEJWVJ3EqC9mzVQ38Uk1i4eIyJSCq4TQ2RC+rqT9u3bh/T0dPTo0UOuspql2xIDAOvXr4eTkxMiIyPlKouISC+GGCIT0tedFBUVhaioKLlKapG+tWKGDBkiVzlERC1idxKRCenrTlKyxt1JGo1G5mqIiFrGEENkIlVVVcjOzgbQ0J107tw5LFq0CDt27JCztGYFBwdDpVKhurpaqv3atWtYuXIlPv/8c5mrIyLSxhBDZCLiAF4HBwd4e3sDAI4ePYr58+dj3bp1cpbWLLVaLQ04FruUEhMTMWfOHKxZs0bO0oiImmCIITKRxl1JKpUKgLJnJom44B0RWQqGGCITsbSF7kTNhZjs7GxUVVXJVhcRkS6GGCITsbQ1YkS6IcbLywuOjo4AuOAdESkLQwyRibS0Wq8lhZjGC96xS4mIlKRdIaampgZpaWlITExEfn6+sWoisgrW0p0EACEhIQAYYohIWdocYkpLS/Gvf/0LI0eOhIeHB8LCwtCrVy/4+vqiS5cueP7553Hy5ElT1EpkUXS7k6qrq5GTkwNAmfsmibp06QJAO8SwJYaIlKhNIea9995DWFgYPv/8c9x333349ttvkZCQgMTERGnqaG1tLeLi4vDggw8iKSnJVHUTKZ5ud5KdnR2uXLmCvXv3SlOulUhsicnJyZF2rn7jjTdw9uxZvPDCC3KWRkSkpU3bDhw5cgT79u1D37599T4+aNAgTJ06FWvWrMEXX3yBAwcOICIiwiiFElmSuro6qetI7E6ysbFBjx49FLlnUmOdOnWCq6srSktLkZaWhsjISMVuk0BEHVubQszWrVtb9TwHBwe8+OKLBhVEZA2ys7NRV1cHW1tbBAQEyF1Om6hUKoSGhuLSpUtITU3lxo9EpFgGD+xds2YNBgwYgIiICMTHx+Nf//oXampqjFkbkcUSu5ICAgJga2sLANi/fz8WLlyIX375Rc7SWkV3cG9BQQFWrFiBN954Q86yiIi0GBRiduzYgRdffBGOjo6IiYlBWVkZpk+fjhEjRiA3N9fYNRJZHDHEiLN6AGDPnj1YsGABvvvuO7nKajXdEFNTU4O5c+di2bJlqK6ulrM0IiKJQSHmq6++wldffYXffvsNmzZtwuHDh3H9+nW4u7sjLi4OdXV1xq6TyKLoWyNGnK2k5JlJIt0Q4+PjA3t7ewiCgNu3b8tZGhGRxKAQU1hYiKeeekrrWJcuXbBz505UVVVh48aNRimOyFKlpaUB0L/QXeN1Y5RKN8TY2NhwmjURKY5BIcbT01PvcbVajbfffhtbtmxpV1FElq6llhhLDDEA14ohIuUxKMT8/vvvuHbtmt7Hxo4di4sXL7arKCJLZ00hRhAEAA3vRWxlIiKSm0Eh5vbt2+jRowf69u2L+fPn48yZM9Jjjo6OcHFxMVqBRJZIN8SUlZWhqKgIgGWEmODgYKhUKlRVVUmrDLMlhoiUxqAQExwcjNWrV6Nfv3748MMPMXDgQHTp0gWzZs3CL7/8gpKSEmPXSWQxNBqN1Ooizk4Sx8O4urrC3d1dttpay97eXhqALHYpMcQQkdK0abE70dChQ/Hss89i2rRpqK2txd69e7F9+3Zs3boVH374IVQqlbHrJLIYubm5qK6uhkqlkoJAWFgYrly5YlEbpYaGhiIjIwOpqamIiYnB448/juHDh0tdTUREcjOoJWbGjBnYvn07gPr9YOLj47FmzRqkp6fjwIEDWmtjEHU0jRe6U6vVAOoHvffo0QNDhgyRs7Q20R3cGxAQgOjoaHh5eclZFhGRxKCWmP79+6O2tlbvY8OHD8fu3bvbVRSRJdM3qNcSiSEmJSVF5kqIiPQzeNuBgQMHNvsYN4ujjkzfGjGbN2/GggULcOLECbnKajN906zfe+89zJw5E9nZ2XKVRUQkaVNLTNeuXQ0a7zJr1izMnDmzza8jskT6WmK2bt2Kbdu2wdvbG4MGDZKrtDbRF2I++OADpKSkYNKkSfDz85OrNCIiAG0MMevXrzfoImFhYQa9jsgSWfoaMaLmFrxLSUnhDCUiUoQ2hZjY2FhT1UFkNfSFGEvackAkhpjs7GxUVFTAycmJ06yJSFEMHhPDVTuJ9NPdwVqj0VhkiPHy8oKzszOApu+JIYaIlMDgENOlSxd4e3vjvvvuw8svv4yvvvoKCQkJOH78OJ5++mlj1khkMQRBaNISk5OTg9raWqhUKvj7+8tZXpuoVKomXUpsiSEiJTFoijUAJCcnIyEhAQkJCTh79iz++9//Sv/atIQVSYlMIT8/H5WVlQCAoKAgAA3jYfz9/aV1YyxFaGgorly50iTEsCWWiJTA4BATFhaGsLAwPPzww9Kxo0ePYsqUKVi+fLlRiiOyNGILhZ+fHxwcHABY5qBeEVtiiEjJDA4x+gwZMgQffPAB3nrrLTzyyCPGPDWRRdC3Rszo0aORmJiIqqoqucoymG6I6du3L86ePctVuYlIEQweE1NTU6P3eEREBC5evGhwQaKlS5dCpVJh1qxZ7T4Xkbnom5nk4OCAyMhI9O3bV66yDKYbYpydnREdHQ1vb285yyIiAtCOlhgXFxf06tUL/fv3R3R0NPr374+goCB89NFHGD16dLuKOnnyJD777DP069evXechMjdr2XJApG+tGCIipTC4JebXX3/F888/D7Vaja+//hoPPfQQIiMj8dFHH6G6uhpvvvkmNm/ejMuXL7fpvKWlpXjyySfx+eefw9PT09DyiGShL8S8//77WLBgAa5evSpXWQZrHGIEQQAAfP3115gxYwaOHj0qZ2lERIa3xAwbNgzDhg2TftZoNEhMTJRmLJ0+fRrr1q1DdnY26urqWn3e6dOnY+zYsXjggQewePHiFp9bVVWlNc6guLgYQH1XV3PdXYYSz2fs85I2S7/P4piYgIAA6T2sXbsWFy9exKBBg9C1a1c5y5O09j77+/tDpVKhsrIS6enp8Pf3x/bt27Ft2zaEh4cjJibGHOVaLEv/PFsK3mfzMdW9NvR8RhvYa2Njg549e6Jnz56YNGmSdDwrK6vV5/jmm29w5swZnDx5slXPX7p0KRYuXNjk+M8//ywt0mVse/bsMcl5SZul3ufExEQA9TOSdu3aBaBhF+jr168r7i/Z1txnLy8v5OXlYdOmTYiMjJTew8GDBxEeHm7qEq2CpX6eLQ3vs/kY+16Xl5cb9Lo2hZjU1FSpebk10tPTWz2tNC0tDf/3f/+Hn3/+GY6Ojq16zeuvv47Zs2dLPxcXFyMkJASjR482+lo1NTU12LNnD+Li4ixurQ9LYsn3WRAEFBYWAgAee+wxdO/eHRUVFSgtLQUATJw4EZ06dZKzRElb7nOPHj1w5MgRBAUFYcyYMUhKSsKOHTtgZ2eHMWPGmKliy2TJn2dLwvtsPqa612JPSlu1KcQMHDgQf/jDH/D88883uxNvUVERtmzZgg8++AAvvPACZsyY0apznz59GtnZ2RgwYIB0rK6uDgcPHsTq1atRVVUFW1tbrdc4ODhIa3E0plarTfZBNuW5qYEl3ufCwkKUlZUBqF9HSa1WS60wzs7O8PHxMWgXeFNqzX0ODw/HkSNHcOvWLajVaqlLTPyZ7swSP8+WiPfZfIx9rw09V5tCzOXLl7FkyRI8+OCDUKvViImJQVBQEBwdHVFQUIBLly7h4sWLiImJwcqVK/HQQw+1+tz3338/zp8/r3Xs2WefRVRUFObOndskwBApjTgextvbG05OTgAaFroLCgpSXIBpLXEX+ps3bwKo33IEaOgmIyKSS5tCjJeXF1atWoXFixdj165dOHToEG7evImKigr4+PjgySefRHx8PPr06dPmQtzc3Jq8zsXFBd7e3gadj8jcrGX3al1iiLlx4waAhhBz+/ZtVFVV6W0NJSIyB4MG9jo6OuLRRx/Fo48+atFLqhMZk74QYw3fD7H7SGyJ8fHxgZOTEyoqKpCWlobu3bvLWB0RdWQGz0767bff8Oc//1laBMvHxwfPPPMM3nzzTaMNqt2/f79RzkNkDvpCzPTp0zFhwgSL7g4VW2JSUlIgCAJUKhVOnTqFgIAAruVERLIyeLG7F154Ab1798bJkyfx+++/Y+XKldi7dy8GDBiA3NxcY9ZIZBH0hRgnJydERERY9FTkkJAQ2NjYoLKyEpmZmQCAXr16wcvLy2LH+RCRdTA4xFy/fh3vvfce7r77bvTu3RtPP/00Tp48iejoaMycOdOYNRJZBDHEWNvmiGq1WgpmYpcSEZESGBxievbsKf2rTKRSqbBo0SJ8//337S6MyNLoa4mZM2cO5s+fj+zsbLnKMgrdGUrHjh3DjBkz8OGHH8pXFBF1eAaHmGeeeQZ//etfm2wMV1RUBA8Pj3YXRmRpxCnWYogRBAHvv/8+Fi1ahIqKCjlLazfdEJOUlITVq1fjf//7n3xFEVGHZ/DA3lmzZgEAIiMj8eijjyI6Ohp1dXXYsGEDVq5cabQCiSxBcXExSkpKADTMRMrNzZWW6A8MDJStNmMQZyjpTrPmWjFEJCeDQ0xmZibOnj2Lc+fOISEhAevXr0dSUhJUKhWWLVuGH374Af369UO/fv3w4IMPGrNmIsURu5I6deoEV1dXAA3Tq/38/GBvby9bbcbQ3IJ3aWlp0Gg0sLExuFGXiMhgBocYPz8/xMfHIz4+XjpWWVmJ8+fPIyEhAefOncOOHTuwZMkSaT8ZImtlrWvEiHRDTHBwMGxsbFBTU4PMzEwEBQXJVxwRdVhG28UaqF8Eb+DAgRg4cKAxT0ukeC2t1msNv+DF7qSUlBRoNBrY2dkhODgYaWlpSElJsYr3SESWh23AREZg7S0xwcHBsLW1RXV1NW7fvg2goUtJd3A/EZG5MMQQGYG1hxg7Oztp/Rt942KIiOTAEENkBLrTqwHggw8+wNWrV/HXv/5VrrKMSndczKpVq5CXl4dXXnlFvqKIqENjiCEyAnGqsdg6AQDOzs6IiIhAQECAXGUZle4064CAAG49QESyYoghaidBEPSGGGuj2xJDRCQ3hhiidsrLy0N5eTmAhn2Tqqqq8Nxzz2HevHnSgneWTjfEFBQUYMaMGXjiiSfkK4qIOjSGGKJ2ElthAgIC4OjoCKB+UO+6deuwcuVK2NkZdSUD2YjdSWKIsbe3x+rVq7FlyxauBUVEsmCIIWonfV1J4kDfkJAQqxkzIrbEpKamoq6uDi4uLvD29gbA7QeISB4MMUTtpC/EiGunhIaGylKTKQQFBUGtVqOmpkZayI9rxRCRnBhiiNqpo4QYW1tb6f3orhXDlhgikgNDDFE76Qsx4jFrCjFAQ5eSOM1afH8MMUQkB4YYonbqKC0xQPO7WbM7iYjkwBBD1E4thRhrWzdGd4aS+P6ysrLkKomIOjDrmPtJJJPS0lLk5+cD0A4sZ86cQVpamtXt7qzbEvPggw8iLy8Pnp6e8hVFRB0WQwxRO4itMJ06dYK7u7t03NHREREREXKVZTK6Y2KcnZ3h7OwsY0VE1JGxO4moHTrCdgONid1JaWlpqK2tlbkaIuroGGKI2kFfiDly5AimTp2KtWvXylWWyQQEBMDe3h51dXVIT08HACxduhQTJkzAiRMnZK6OiDoahhiidtAXYk6fPo0vv/wSP/30k1xlmYyNjY30XsUupQMHDmDHjh24cOGCnKURUQfEEEPUDh1pjRhRc9OsuVYMEZkbQwxRO+j+Igesd40Yke40ay54R0RyYYghaoeOtNCdSAwx169fB8AF74hIPgwxRAaqqqrC7du3AXSs7qTu3bsDAJKSkgCwO4mI5MMQQ2SgtLQ0AICTkxN8fX0B1AebzMxMANYbYsT1b3RDTFpaGjQajWx1EVHHwxBDZKDGLS4qlQoAkJGRAaA+2Pj4+MhWmymJLTH5+fnIz89HUFAQbG1t4ejoiNzcXJmrI6KOhCGGyED6xsN07doV5eXluHTpkhRsrI2Li4u0nUJSUhLs7OyQmZmJoqIi+Pn5yVwdEXUkDDFEBmputV4nJydpGrK10u1S8vHxsdrQRkTKxRBDZKCOtuVAY7ohhohIDgwxRAbSF2L++c9/YurUqThw4IBcZZmFbog5cOAAJkyYgDlz5shZFhF1MAwxRAbSF2J2796NL7/8UloIzlqJIebatWsAgMLCQuzYsQO//vqrnGURUQfDEENkgLq6OmmKdUdaI0bUuCVGEARpxtK1a9cgCIKcpRFRB8IQQ2SA27dvo7a2Fra2ttJMHUEQrH61XlG3bt0A1LfA5OXlITw8HABQVFSEvLw8OUsjog6EIYbIAGKLS+fOnWFnZwcAyM3NRWVlJVQqFTp37ixneSbn5OSEkJAQAPWtMU5OTggODgbQsB0BEZGpMcQQGaCl3asDAgLg4OAgS13mpDu4t3GXEhGROTDEEBmgI278qIshhojkxhBDZAB9ISY7OxtAxw4xLi4uqKyslLMsIupA7OQugMgS6Qsxf/vb3zBlyhSUl5fLVZZZ6YaY2bNnY+7cuVy5l4jMhiGGyAAtbTng5OQkR0lmpzvN2t7eXuaKiKijYXcSURsJgtChtxwQhYeHw8bGBiUlJVJXGhGROTHEELVRXl6e1GXUePzLY489hqlTpyIrK0uu0szKwcFBev9il9Lzzz+Pfv364dy5c3KWRkQdBEMMURuJrTD+/v5wdHQEAFRUVODbb7/Fl19+CbVaLWd5ZqU7LubSpUs4f/48EhMT5SyLiDoIhhiiNkpOTgYAdO3aVTp263Gq7m0AACAASURBVNYtAICLiws8PT1lqUsOnGZNRHJiiCFqI/EXtvgLHNDeM6kjzc5pLsRw1V4iMgeGGKI20hdiOtpCdyIxtLAlhojkwBBD1EYthZiONltJvAfi7tXixpAMMURkDgwxRG3ElpgGXbt2hY2NDcrKynD79m2pJSYjIwNlZWUyV0dE1o4hhqgNiouLpTVRxF/YAFBSUgKg44UYe3t7hIWFAagPd15eXggODkafPn2Ql5cnb3FEZPW4Yi9RG4itML6+vvDw8JCOb926FeXl5R1qUK8oIiICycnJSEpKQmxsLNLS0jrkfSAi82NLDFEbiGM9GncliZydnTvMlgON6c5QYoAhInNhiCFqA33jYTo63RBDRGQuDDFEbaAvxOzevRujRo3C8uXL5SpLVrohZv/+/YiOjsbDDz8sZ1lE1AFwTAxRG+gLMQkJCdi/fz+Cg4PlKktWjadZazQaqNVqnDt3DoWFhTJXRkTWji0xRG2gL8R09C6msLAw2NnZobKyErdu3ZJmbaWmpqKqqkrm6ojImjHEELVSYWEhcnNzAWhPr25psG9HYGdnJ733ixcvws/PD66urhAEATdu3JC5OiKyZgwxRK0ktrgEBATAzc2tyfHGwaaj6du3LwDgwoULUKlU3H6AiMyCIYaolfR1G5WWluL27dtNjnc0Yog5f/48AO6hRETmwRBD1Er6Qoz4S9rb2xuenp6y1KUEzYUY7mZNRKbE2UlEraSv26igoAABAQHo2rWrXGUpQp8+fQAAly9fRm1tLaKiohAVFQV/f3+ZKyMia8YQQ9RK+gbwjho1Crdv30ZNTY1cZSlC165d4eLigrKyMly7dg1TpkzBlClT5C6LiKwcu5OIWqmlqdRqtdrc5SiKjY0NevfuDaChS4mIyNQYYohaIT8/H/n5+QA69iyklohdSo1DjEajQXV1tVwlEZGVU1SIWbp0KQYOHAg3Nzf4+fnh4YcfRmJiotxlEUmtMEFBQXBxcZGODxo0CA888ABSU1PlKk0xGk+zBoBXX30VHh4eWLt2rZxlEZEVU1SIOXDgAKZPn45jx45hz549qK2txejRo1FWViZ3adTB6etKKikpwcmTJ7F37154eHjIVZpi6M5QUqvVKC0tlUINEZGxKWpg7+7du7V+/vLLL+Hn54fTp09jxIgRMlVF1PL0al9fX4YYNISY69evo6ysTG/3EhGRMSkqxOgqKioCAHh5eel9vKqqSmtvluLiYgBATU2N0WeLiOfr6LNQTE2p91ns1gwPD5dqu3z5MoD6MTJKq/dOTHGfPT094evri5ycHPz+++/o0aMHgPruperqaqhUKqNdy1Io9fNsbXifzcdU99rQ8yk2xAiCgNmzZ2PYsGHSv+h0LV26FAsXLmxy/Oeff4azs7NJ6tqzZ49JzkvalHafT58+DaA+KO/atQsApP91dHSU/r+lMfZ9DggIQE5ODjZt2oQRI0bAxsYGhYWF2LBhA7y9vY16LUuitM+zteJ9Nh9j3+vy8nKDXqfYEPPSSy/h999/x+HDh5t9zuuvv47Zs2dLPxcXFyMkJASjR4+Gu7u7UeupqanBnj17EBcX1+Gn05qSEu+zIAjSmiePP/641G2ybds2AEBsbCzGjBkjW32GMNV93rt3L86fPw8bGxtMmDABkZGRuHLlCvz8/BAfH2+061gKJX6erRHvs/mY6l6LPSltpcgQM2PGDOzYsQMHDx5E586dm32eg4MDHBwcmhxXq9Um+yCb8tzUQEn3OScnR+rajIqKkupKTk5ucszSGPs+33XXXQDqd7NWq9Xo27cvrly5gitXrmDcuHFGu46lUdLn2ZrxPpuPse+1oedSVIgRBAEzZszA9u3bsX///g6/lDspgziAt3PnzlrdlN7e3vD19e3QGz/qErt+xRlJsbGxqKioQFhYmIxVEZG1UlSImT59OjZu3IjvvvsObm5uyMzMBAB4eHjAyclJ5uqoo2pupd7vvvsOQH34pnriqr2ZmZnIzc3F9OnTMX36dJmrIiJrpah1Yj799FMUFRVh5MiRCAwMlP7bvHmz3KVRB9bSdgMAOuSsm+a4uroiPDwcAKdWE5HpKSrECIKg979nnnlG7tKoA7tTiCFtul1KgiAgMzOTi1YSkdEpKsQQKdHVq1cBaIeYpUuXolu3bnj33XflKkuxdFfujYuLQ2BgIH7++Wc5yyIiK8QQQ9SC2tpaXLp0CUDDeA+gfqG75ORkrcUWqZ5uiBFnGLJ7iYiMjSGGqAWJiYmoqqrSGusBsIupJY03gtRoNE02hiQiMhaGGKIWnDt3DkD9L2Ybm4avC0NM8yIiIqTNH1NTU5uMkSEiMhaGGKIWiCEmOjpaOlZQUIC8vDwA9fsmkTa1Wo2ePXsCqO9CEltirl69yu43IjIqhhiiFoghRlyJFmhohQkMDISrq6ssdSld43ExgYGB8PT0RF1dHa5cuSJzZURkTRhiiFqgL8SIA1TF1gZqSuxCOn/+PFQqFbuUiMgkFLViL5GSZGdnIzMzEyqVSmpZAAAXFxcMHjwYQ4cOlbE6Zbv77rsBACdOnABQv3Hm3XffjcjISDnLIiIrwxBD1AyxFaZ79+5wcXGRjk+cOBETJ06UqyyLMHjwYKhUKiQnJyM7OxszZsyQuyQiskLsTiJqRkJCAgDtriRqHQ8PD/Tq1QsAcPToUZmrISJrxRBD1Ax942EqKytRUVEhV0kWZciQIQAaQkxhYSF+++03lJeXy1kWEVkRhhiiZugLMTt37oSbmxu7k1pBN8T06dMHw4YNw9mzZ+Usi4isCEMMkR5VVVXSdODGISYhIQF1dXVwc3OTqzSLIYaYkydPoqamBjExMQCA48ePy1kWEVkRhhgiPS5duoTa2lp4enoiJCREOi62IvTv31+u0ixGjx490KlTJ1RUVOD333+XQs2RI0dkroyIrAVDDJEejbuSVCqVdFwc7Nt4BV/Sz+b/tXfnYU1d6R/Av5csEMIOsilVWUaxKi64goVaFW3FWme0bkitTtXWutWtaqt1r221rbaOojPa0UenatHfuFst7qIiuEEtZRGrIIIsCVtCcn5/0Nwh7IkkIfB+nid/cLj33PceIHk527WwQN++fQFUDClplqRfvnwZjDFThkYIaSYoiSGkBjXNh8nOzsaTJ0/AcRy6du1qqtDMSuV5MYGBgRAKhcjKysLDhw9NHBkhpDmgJIaQGtSUxGh6Yfz8/OhxAw1UOYmRSCT8Jng0pEQIaQyUxBBSBWOsziSGhpIaTrPpXVpaGp4+fcoPKdHeMYSQxkA79hJSxePHj/H8+XMIBAJ+wzYAePnllzFx4kS8+uqrJozOvNjZ2eHll1/GvXv3cPXqVbz99tvw8fHBa6+9ZurQCCHNACUxhFSh6YXp2LEjrKys+PI33ngDb7zxhqnCMlv9+vXjk5jPP/+cn+xLCCEvioaTCKmipqEkoj/NvJhr166ZOBJCSHNDSQwhVdQ09yUnJwe//vorVCqVqcIyW1U3vXv48CF27NiBo0ePmjgyQoi5oySGkCpq6ok5ePAg/P39MXLkSFOFZbb+8pe/aG16d+TIEfz973/H1q1bTR0aIcTMURJDSCVFRUVITk4GUPPKpM6dO5skLnNW26Z3V69ehVqtNmVohBAzR0kMIZXcu3cPjDG4ubnBzc2NL9c8boCWV+un8n4xAQEBkEgkyMvLw4MHD0wcGSHEnFESQ0glN2/eBKCdrJSXl+POnTsA6JlJ+qqcxIhEIvTu3RsAbXpHCHkxlMQQUklMTAwAYMCAAXxZcnIySktLIZVK4ePjY6LIzFttm95REkMIeRGUxBDyJ8YYn8SEhoby5ZqhpK5du0IgEJggMvNnZ2eHLl26AADOnTtHSQwhpFHQZneE/On+/fvIycmBtbU1evXqxZdrJvXSUNKLCQ8PR35+Pq5cuYIlS5agbdu2KC0tRXZ2Nuzs7EwdnkEolUoIhUKUlpbS8nwDonY2Hn3bWiQSGeSfQEpiCPmTphcmKCgIYrGYL3/zzTdhbW3N9x4Q3TDGkJWVhVGjRiEoKAgCgQB5eXmIjo6GWCxGbm4ucnNzTR2mQTDG4O7ujkePHoHjOFOH02xROxvPi7S1g4MD3N3dG/VnREkMIX/65ZdfAKDas5GCgoIQFBRkipCahaysLOTn5+Oll14Cx3FQqVRwc3ODVCo1dWgGp1arIZfLYWNjAwsLGr03FGpn49GnrRljKC4uRnZ2NgDAw8Oj0eKhJIYQVPxhnj9/HoD2fBjyYlQqFfLz8+Hq6gpnZ2cUFhbi+fPnKCkpgbOzs6nDMzi1Wg2FQgErKyv6cDUgamfj0betJRIJACA7Oxuurq6NNrREP21CULE/TG5uLqRSKQIDA/ny48eP48iRIygoKDBhdOZLqVQCAKytrQFUdCcDQH5+PhhjePLkCZKSklBeXm6yGAkhxqF5H9C8LzQGSmIIwf+GkoKDgyESifjytWvXYuTIkThw4ICpQmsWNGPgmgm8paWlUCgUyMvLQ1FRESWJhLQAhpivREkMIUCNS6sLCwv5Jy8PGjTIBFE1P0KhELa2tgAqemMq98wQQoiuKIkhLV7l+TCVJ/WeP38eKpUKPj4+aNeunYmia37s7e0BAAUFBXwSU1BQQM9RIoTojJIY0uLduXMHeXl5sLGxQY8ePfjyn3/+GQD1wjQ2TeIik8lgaWkJkUgEtVoNmUxm4sjMQ2hoKObMmWPqMPRWNX7GGN577z04OTmB4zh+XyZz1BR+Nrm5uXB1dUV6erpRr/u3v/0NGzduNOo1AUpiCOHnwwwYMEBrPgwlMYZhZWUFS0tLMMYgk8ma7JDSO++8A47j+JezszOGDh3KP0eL6Oenn37CqlWr+K9PnjyJXbt24ejRo8jMzDTrJ8VXvbfG9sorr2j9Tjo5OWHkyJF49uwZf8y6desQHh6u1Xt84cIFhIeHw9PTExzH4fDhwzpdt/L5AoEAx44dq3bMp59+ijVr1qCwsFDv+9MHJTGkxatpPsyTJ0+QmJgIjuMwcOBA0wTWjFUeRqq6YqkpGTp0KDIzM5GZmYmzZ89CKBRi+PDhpg7LrDk5OfHzogAgJSUFHh4e6N+/P9zd3SEU6r7zh0KhaMwQ9aJQKKrdm7711IQxhoSEBHz55ZfIzMzE48ePsW/fPpw7dw6rV68GAJSUlGDnzp2YOnWq1rlFRUUICAjAli1b9IqpIed37doV7dq1w969e/W6hr4oiSEtmkqlqnE+zKVLlwAAPXv2hJOTk0lia84082Ly8/Nha2sLsVgMGxubJrdlvKWlJdzd3eHu7o5u3bph0aJFePToEf+f78mTJxEcHAwHBwc4Oztj+PDhSElJ0arjyJEjCAgIgEQigbOzMwYNGoSioiIAFR9MGzZsgLe3NyQSCQICAnDw4EH+3KKiIkyaNAk2Njbw8PDAV1991aC4y8rKMGvWLLi6usLKygrBwcG4ceMG//3Q0FDMmjULCxcuhJOTE9zd3bFixYo662zXrh2+/vprrbJu3bppndeQeisPubzzzjv48MMPkZGRAY7j+N6DhsQ/c+ZMzJs3Dy4uLggLCwMADBw4EB9++CHmzJkDR0dHuLm5Yfv27SgqKsLkyZNha2sLHx8fnDhxos571dQ/c+ZM/me7bNkyrSS7agyDBw+uNpxU333UVk9NkpOTIZPJEBoaCnd3d3h6eiIsLAw+Pj7879OJEycgFAr5p8ZrDBs2DKtXr8aoUaPqvO/aNPT8ESNGYN++fXpdQ1+UxJAW7fbt2ygoKICtra3Ws5FGjx6N33//Xe//XEjtGGPgOA4KhQIymQw5OTnw9vaGu7s7ysrKUFRUZJDXi/byyOVy7N27F76+vvxGfUVFRZg3bx5u3LiBs2fPwsLCAm+99RY/STkzMxNTp07F5MmTkZSUhJiYGIwaNYqPZdmyZfjXv/6FrVu34v79+5g7dy4mTpzIJ9YLFizAL7/8gujoaJw+fRoxMTGIi4urN9aFCxfi0KFD2L17N27dugVfX1+EhYXh+fPn/DG7d++GVCpFbGwsNmzYgJUrV+LMmTMv1Ea61vvNN99g5cqVaNOmDTIzM/kP+IbGLxQKcfnyZWzdulWr3MXFBdevX8eHH36IGTNmYPTo0ejfvz9u3bqFsLAwREREoLi4uN77EAqFiI2NxbfffotNmzZhx44dNR5z+fJlbNu2rVodDbmPhtQDAHFxcRCLxfyDVMvKyhAVFYXk5GRMnz4dQMWwT+V9roytd+/euH79OsrKyox3UdaMFBQUMACsoKCg0etWKBTs8OHDTKFQNHrd5H+M3c5ffvklA8DeeOMNo1yvqTBWO5eUlLDExERWUlLCl8nlcgbA6C+5XK5T7JGRkUwgEDCpVMqkUikDwDw8PFhcXFyt52RnZzMA7O7du4wxxm7cuMEAsNTU1GrHyuVyZmVlxa5cuaJVPmXKFDZu3Dgmk8mYWCxm+/fv57+Xm5vLJBIJmz17dq0xyOVyJhKJ2N69e/kyhULBPD092YYNGxhjjIWEhLDg4GCt83r16sUWLVpUa71t27ZlmzZt0ioLCAhgy5cv579uSL0hISFa8W/atIm1bdtW5/i7devGf1+lUrG8vLxq1y8vL2dSqZRFRETwZZmZmQwAu3r1aq33GhISwvz9/ZlarebLFi1axPz9/bWOqRxD1XtryH3UVk9N5s+fzziO438fOY5jbm5u7NKlS/wxb775Jnv33XfrrAcAi46Orvd6dZ2/Z88eplKpqn3v9u3bDABLT0+v8dya3g809P38pp4Y0qLVNB+GEI1XX30VCQkJSEhIQGxsLIYMGYJhw4bh4cOHACrmc4wfPx7e3t6ws7ND+/btAQAZGRkAgICAAISEhCAgIACjR49GVFQU8vLyAACJiYkoLS3F4MGDYWNjw79++OEHpKSkICUlBQqFQmtowMnJCR06dKgz5pSUFCiVSq3nfYlEIvTu3RtJSUl8WdeuXbXO8/Dw4J9t8yJetN6Gxl9bj0Pl6wsEAjg7O/O9FwDg5uYGAPXG1LdvX63N2fr164fk5GStIc+6ej0aeh/11aMRFxeHMWPG8L+Ply9fRseOHTFt2jQ+ppKSElhZWdVbl6FoHi1QXy9XY6JnJ5EWq7i4mE9iKs+H2blzJ44ePYopU6bQJE4DsLa2hlwuR3l5Oe7duwe1Wg0/Pz88f/4cubm58PT0hLu7u0GuqyupVApfX1/+6549e8Le3h5RUVFYvXo1wsPD4eXlhaioKHh6ekKtVqNz58785EyBQIDo6Gjcu3cPP//8MzZv3oylS5ciNjaWH3I6duwYWrdurXVdS0tLvZ/szf4cqqq6Oyr7cxhPo/JKPM3xde3VY2FhUW1Irqbt43Wtt6qGxl/bA0Rrun7lMk0djbEvUV0PMW3ofdRXj0Z8fDxWrVrF/z76+vpi/vz5CA8Px8OHD+Ht7Q0XFxc+STYFzTBZq1atjHZN6okhLVZ0dDTkcjnatWunNR/myJEjOHz4MBITE00YXfPFcRykUins7e3Rpk0bSCQSFBUVoVWrVpBIJFAoFJBKpY3+aowtzzmOg4WFBUpKSpCbm4ukpCQsW7YMr732Gvz9/Wv8AOE4DkFBQfjss88QHx8PsViM6OhodOrUCZaWlsjIyICvr6/Wy8vLC76+vhCJRPyu0QCQl5eH3377rc4YfX19IRaL+cnpQEWycfPmTfj7++t9761atUJmZib/dWFhIdLS0vSurzaGil9Xldtd87Wfn1+DH1zYmPeRmpqK/Px8rX2sNOUCgYBffNC9e3eTvm/du3cPbdq0gYuLi9GuST0xpMXavXs3AGDSpEn801iVSiXfO0P7wxheq1at8OzZM+Tl5cHDwwNAxWRZhUIBsVhs4ugqJk9mZWUBqEggtmzZArlcjvDwcDg6OsLZ2Rnbt2+Hh4cHMjIysHjxYq3zY2Njcfz4cYSHh8Pd3R2xsbF49uwZ/P39YWtri/nz52Pu3LlQq9UIDg5GYWEhrly5AhsbG0RGRmLKlClYsGABnJ2d4ebmhqVLl9b75GCpVIoZM2ZgwYIFcHJywksvvYQNGzaguLgYU6ZM0bstBg4ciF27dvH3/sknnzTak4grM1T8unr06BHmzZuHadOm4datW9i8eXODV4cBjXsfcXFx4DgObm5uyMrKQlFRES5evIjly5dj+vTp/DYFYWFh+Pjjj5GXlwdHR0f+fLlcjt9//53/Oi0tDQkJCXxc9al6/sOHD5GQkAAXFxet8y9evIghQ4bodG8vipIY0iI9fvyY38xu0qRJfPn169chk8ng7OyMbt26mSq8FsPa2ho2NjaQy+XIz8+HVCpFUVERnj9/bpAhJV2dPHmST65sbW3RsWNHHDhwgJ9DtX//fsyaNQudO3dGhw4d8O2332rNr7Kzs8PVq1exbds2FBYWom3btvjqq68wbNgwAMCqVavg6uqKdevWITU1FQ4ODujRoweWLFkCAPjiiy8gl8sxYsQI2Nra4qOPPmrQwzLXr18PtVqNiIgIyGQyBAYG4tSpU1ofbLr6+OOPkZqaiuHDh8Pe3h6rVq0ySE8MYJj4dTVp0iSUlJSgd+/eEAgE+PDDD/Hee+/pVEdj3cetW7fAGOOHkhwdHeHn54eNGzciMjKSP65Lly4IDAzEjz/+iGnTpvHlN2/e1BoynzdvHgAgMjISu3btAgDs2rULkydPrnEVX9Xzly5diqVLl2qdX1paiujoaJw6dUqne3thOk0DbuJodZL5M1Y7r1+/ngGotpJixowZDAAbN26cQa9vaqZcnVRVbm4uu3HjBktISGDZ2dnsxo0b7Pbt2zWufjA3mlUzzeFemrLGbueqK6jMybFjx5i/v7/ObbF8+XIWEhJS73G1tfWWLVvY4MGD6zzXEKuTqCeGtDiMMa2hJA25XI49e/YAQLUdL4nhODg4QCQSQalUwsLCAkKhEAqFAnl5efx+LISQhnn99deRnJyMx48fw8vLq8HnnTp1Ct98843e1xWJRNi8ebPe5+uLkhjS4sTFxSEpKQlWVlYYM2YMX75v3z7IZDL4+flpdZ0Sw7KwsICLiwsyMzORk5MDV1dXPHnyhJIYQvQ0e/Zsnc+5evXqC11T16G2xkJJDGlxNL0wI0eO5Le/B4A2bdqgf//+GDVqVKOsZCENp1n5IpPJ4OnpCR8fH36yIiHGppncT5o+SmJIi6JQKPhne1SeEAdUPB9k2LBhjbJ/BNGNWCyGg4MD8vPz8fz5c7Rt29bUIRFCzADtE0NalGPHjiE3Nxfu7u61LqGubwkrMQxXV1cAQG5uLr8DqVqtRnl5uSnDIoQ0YfRuTVqUH374AQAwceJECIUVHZEFBQXYuHGj3jukksZha2sLKysrqNVqPH36FHl5ebh79y7++OMPU4dGCGmiKIkhLUZOTg6OHTsGQHsoac+ePfjoo4+MvkkT0cZxHDw9PQFUPP2ZMQalUonc3Nwat7cnhBBKYkiLsXPnTiiVSvTo0QOdO3cGULHcetu2bQCqz5Ehxufo6Ag7OzswxpCTkwOpVArGWKM8mJAQ0vxQEkNahKdPn2Lt2rUAgJkzZ/LlV69exd27dyGRSBAREWGq8MifOI7DSy+9BI7jUFhYCBsbGwAVTxzWPFSREEI0KIkhLcKSJUtQWFiIwMBArR4XTS/M22+/bdQtzUntrKys+K3+nz9/Dmtra6hUKqSnp9e4JTohpOWiJIY0ezdu3MA///lPAMC3337Lrz66desW9u7dCwBazxkhpufu7g5LS0solUpIJBK+Z+bZs2emDo0Q0oRQEkOaNbVajVmzZgEAIiIi0K9fPwAV+8W88847UKlUGD16NPr27WvKMEkVFhYW/NNxc3Nz4ebmBgA0wZcQooWSGNKs7dmzB9euXYNUKsX69ev5cpVKhYEDB8LV1RVbtmwxYYSkNvb29vwQX2FhITp06IDWrVubOCpCSFNCSQxptmQyGRYtWgQAWLZsGb98FwAkEgm+/vprPHjwgN9kjTQ9Xl5eEAgEKC4uRmZmJu2mDCA0NBRz5swxdRg6aQox5+bmwtXVFenp6Ua75t/+9jds3LjRaNdriSiJIc3WmjVrkJWVBR8fH8ydOxcAUF5ervVBSM/nadrEYjH8/PxgYWGBwsJCpKWlobS0FA8ePEBRUZFBr/3OO++A4zj+5ezsjKFDh+LOnTsGvW5z9NNPP2HVqlUGqfuVV16BQCCAo6MjBAIBnJycMHLkyGrzp9atW4fw8HC0a9cOALBixQqtny/HcXB3d2/wdRty/qeffoo1a9agsLDwhe+T1IySGNIs/fjjj/jyyy8BAJs2bYKlpSUA4PPPP0doaCiSk5NNGR7RgY2NDXx9fcFxHPLy8pCcnAyZTIYHDx4Y/MNh6NChyMzMRGZmJs6ePQuhUIjhw4cb9JrNiWZZvJOTE2xtbV+4nqoYY0hISMAXX3yBX3/9FY8ePcK+fftw7tw5rF69mj+upKQEO3fuxNSpU7XOf/nll/mfb2ZmJu7evatTXPWd37VrV7Rr145fQEAaHyUxpNk5cOAAxo8fD5VKhSlTpvAfOjdv3sTKlStx8eJFxMbGmjhKogs7Ozt4e3sDAMrKyiAWi6FWq5GcnIy8vDyDXdfS0hLu7u5wd3dHt27dsGjRIjx69Ij/L//kyZMIDg6Gg4MDnJ2dMXz4cKSkpGjVceTIEQQEBEAikcDZ2RmDBg3ie5EYY9iwYQO8vb0hkUgQEBCAgwcP8ucWFRVh0qRJsLGxgYeHB7766qsGxV1WVoZZs2bB1dUVVlZWCA4Oxo0bN/jvh4aGYtasWVi4cCGcnJzg7u6OFStW1FlnaGgoZs6ciZkzZ/L3u2zZMq1l75pj5s2bBxcXFwwePJgvrzyc1JD4aqqnKk1CGxISAjc3N3h6eiIsLAw+Pj5aPXUnTpyAUCjkJ/ZrCIVC/ufr7u6OVq1a1d+4Op4/o3cw3gAAGGNJREFUYsQI/qGzpPFREkOalYMHD2LcuHFQqVSIjIzEtm3bwHEcjh49itDQUCgUCoSHh2PChAmmDrXFKyoqqvVVWlpa7VixWIxWrVqhpKQEBQUFKC8vR3FxMe7fv681dFBTfY1BLpdj79698PX1hbOzM3+tefPm4caNGzh79iwsLCzw1ltv8UOWmZmZmDp1KiZPnoykpCTExMRg1KhR/Af/smXL8K9//Qtbt27F/fv3MXfuXEycOBHnz58HACxYsAC//PILoqOjcfr0acTExCAuLq7eWBcuXIhDhw5h9+7duHXrFnx9fREWFobnz5/zx+zevRtSqRSxsbHYsGEDVq5ciTNnztRZ7+7duyEUChEbG4tvv/0WmzZtwo4dO2o85vLly/w+TPrGV189cXFxEIvF6NKlC4CK5CgqKgrJycmYPn06f9yFCxcQGBhY7fzk5GR4enqiffv2GDt2LFJTU+u8f33O7927N65fv46ysjKd6iYNxJqRgoICBoAVFBQ0et0KhYIdPnyYKRSKRq+b/M+LtPPBgweZQCBgANikSZNYeXk5Y4yxb775hllYWDAA7LXXXmP5+fmNHbbZMdbvc0lJCUtMTGQlJSXVvgeg1tfrr7+uday1tXWtx/bo0YPduHGD/fHHH0ytVjMXF5dqx+gjMjKSCQQCJpVKmVQqZQCYh4cHi4uLq/Wc7OxsBoDdvXuXMcbYjRs3GACWmppa7Vi5XM6srKzYlStXtMqnTJnCxo0bx2QyGROLxWz//v3893Jzc5lEImGzZ8+uNQa5XM5EIhHbu3cvX6ZQKJinpyfbsGEDY4yxkJAQFhwcrHVer1692KJFi2qtNyQkhPn7+zO1Ws2XLVq0iPn7+2sd061btxrP1cTc0Phqqqeq+fPnM47j+J8Rx3HMzc2NXbp0Seu4N998k7377rtaZcePH2cHDx5kd+7cYWfOnGEhISHMzc2N5eTk1HtdXc6/ffs2A8DS09MbVG9Tp1KpWF5eHlOpVDqfW9f7gb6f39QTQ8xeWVkZvvrqK4wdOxYqlQoTJ07kN7ebNWsWZs+eDbVajalTp+LEiROwt7c3ccTEEGQyWaPX+eqrryIhIQEJCQmIjY3FkCFDMGzYMDx8+BAAkJKSgvHjx8Pb2xt2dnZo3749ACAjIwMAEBAQgJCQEAQEBGD06NGIiorih78SExNRWlqKwYMHw8bGhn/98MMPSElJQUpKChQKhdYQiJOTEzp06FBnzCkpKVAqlQgKCuLLRCIRevfujaSkJL6sa9euWud5eHjU+4yqvn37guM4/ut+/fohOTkZKpWKL6upx0Of+OqrB6joiRkzZgxu3bqFCxcu4OLFi+jYsSOmTZumFVNJSQmsrKy0zh02bBj++te/okuXLhg0aBD/cNjdu3fXe11dzpdIJACA4uLiBtVLdCM0dQCE6EutVuPHH3/EkiVLkJaWBgCYMGECdu3aBYFAgMLCQpw9exZAxYTeBQsWaL0BE9OSy+W1fk8gEGh9XdOHq1qtRlZWFp4+fQqg4kMiIyMD9+/fh6WlJYqLi2FnZ/dCMUqlUvj6+vJf9+zZE/b29oiKisLq1asRHh4OLy8vREVFwdPTE2q1Gp07d+YnogoEAkRHR+PevXv4+eefsXnzZixduhSxsbH8kNOxY8eq7X9jaWmJ3NxcvWJmfw5VVf1dZ4xplYlEIq3vcxzXKEvYpVJpo8RXXz0AEB8fj1WrVsHX1xeFhYWws7PD/PnzER4ejocPH/LzqFxcXOqdOyWVStGlSxe9J/3Xdr5miEzX+TakYZpkT8z333+P9u3bw8rKCj179sTFixdNHRJpQhQKBU6cOIE+ffpg3LhxSEtLg4eHB7Zu3YqhQ4fyH2p2dnY4evQofvrpJyxcuJASmCZGKpXW+qr6X3NNx9ja2sLPzw/du3eHRCKBWq3Gs2fPkJGRgbS0NDx+/BipqanIz89HUVFRozx3ieM4WFhYoKSkBLm5uUhKSsKyZcvw2muvwd/fv8YPSo7jEBQUhM8++wzx8fEQi8WIjo5Gp06dYGlpiYyMDPj6+mq9vLy84OvrC5FIhGvXrvF15eXl4bfffqszRl9fX4jFYly6dIkvUyqVuHnzJvz9/V/o/ivHovnaz8+vWtJpjPg0P9sePXpUK9cstdbo3r07EhMT66yvrKwMSUlJ/HO7dFXb+ffu3UObNm3g4uKiV72kbk2uJ+Y///kP5syZg++//x5BQUHYtm0bhg0bhsTERH4bctKyaFahnD59GqdOnUJMTAw/WVMikWDIkCFwdHTE6tWr8fjxY3z88cf8E6vbt2/Pd/GT5kkqlaJTp06Qy+V49uwZ8vLyUF5eDqDig0Wz/FUgEMDGxgZSqRQeHh4NSmrLysqQlZUFoCKB2LJlC+RyOcLDw+Ho6AhnZ2ds374dHh4eyMjIwOLFi7XOj42NxfHjxxEeHg53d3fExsbi2bNn8Pf3h62tLebPn4+5c+dCrVYjODgYhYWFuHLlCmxsbBAZGYkpU6ZgwYIFcHZ2hpubG5YuXco/+6uu9pgxYwYWLFgAJycnvPTSS9iwYQOKi4sxZcoUPVu5wqNHjzBv3jxMmzYNt27dwubNmxu8Yqqx44uLiwPHcXBzc+N75OLj47F8+XJMnz5daw+osLAwfPzxx8jLy+N3gdb02Lz00kvIzs7G6tWrUVhYqPWA2Lo09PyLFy9iyJAhDb4vopsml8Rs3LgRU6ZM4dfzf/311zh16hS2bt2KdevWmSSmoqIipKamIikpCQ4ODhAKqzebg4MDbGxsAAClpaXIycmptT57e3t+z4SysrI6H2pna2vLz+FQKBR1jllXPlapVPI9EjWxsbHh/8hVKhUyMzNrPdba2pr/r0atVuPJkyc1HscYg0QigZOTExhjYIzhjz/+gFqthlqtBmMMarUaSqUSSqUSFhYWcHBwQGlpKWQyGe7fv4+CggLcv38fO3bs4D98srOz+Q8lDaFQCI7jUFJSgiNHjvDlmqWOpGXhOA62trawtbWFUqnE8+fPkZubqzUPQaVSoaCgAAUFBcjMzISlpSXEYjG/EkogEEAgEEAoFMLCwgJyuRwnT57k/7O2tbWFr68v/vnPf6Jr164oKCjAjh07sHjxYnTu3Bl+fn7YuHEjhgwZAoVCAblcDqFQiEuXLuEf//gHZDIZvLy8sGbNGgwYMABlZWVYtmwZnJycsGbNGqSnp8Pe3h7dunXDRx99BLlcjuXLlyM/Px8jRoyAra0tZs+ejefPn0OpVNY6HCcSifDZZ59BqVRi4sSJkMvl6N69O6KjoyESiSCXy6FSqaBUKrVWzGjKaqtXrVZjwoQJkMvl6N27NwQCAaZNm4bx48fz52jqKC0t5ZNElUpVre5ly5ahrKyMj69Hjx7473//C0tLS634qsai+bsHKhJExhg/3Ofg4AAfHx+sXbsWEyZM0IrB19cX3bt3x7///W+8++67AID09HSMHTsWubm5cHFxQZ8+fXDhwgW4urry192zZw9mzJihNd9KIBDAwsICGRkZWuf36tUL586dg7OzM3++UqlEdHQ0/vvf/6KkpERrnk5VmnqBivfSqu95+h5rYWHB95Q1xrEcx9VZh7FxrDH6WBuJQqGAtbU1Dhw4gLfeeosvnz17NhISEvhlhxplZWVaf4SFhYXw8vJCTk7OC4+FV/af//wHERERjVYf0R3HcQgNDcXgwYMxaNAghIWFIS8vDzY2NggMDESvXr3Qp08fhIWF8RvbkdoplUqcOXMGgwcPrjY3ojGVlpbi0aNHaNeuXbUhImNQq9UoLi6GTCZDQUEBysrK6vwgIbWbNm0a/vKXv+Cjjz4ydSh6uXz5Mr755hvs37+/3t4sje3btyMuLq7WJd71+fHHH3HhwoVm93w2Gxsb+Pn56TxEX1paivT0dHh5eVV7PygsLISLiwsKCgp0+vxuUj0xOTk5UKlU/BNrNTTdhVWtW7cOn332WbXy06dPw9rautHiunPnDoRCYb2ZsSaDVavVJjnWwsKC7yVijNX5xF9DHisSicBxHBhjte6NwHEcxGIxXFxcIBKJIJFI+E3CNHVYWlpCIpFAKpXCx8cHf//73wEAT548waxZs+Dk5IQ2bdpojcdrJvKShqlvX5AXpdkMTC6X17rrqjFo5tEA//sPU6lUory8HKWlpXxvQeVeQ81EU4FAwM+nKS8vr3NujYWFBf/9+v4/rPwBYA7Hao7X/G2bIoYXOTYoKAgZGRnIzs6u1ltbW73Xrl2rlrTpEoNQKNRaUNBU2uJFj+U4Tq/VgAqFAiUlJbhw4UK1zzJ9V281qZ6YJ0+eoHXr1rhy5YrWssI1a9bg3//+N3799Vet443VEwMY7z/Xlo7a2ThaSk+MqTHGIJPJYGtra/YTywcOHIiAgABs2rTJ1KFU05zaual7kbZu9j0xLi4uEAgE1XpdsrOzq/XOABXLEGsaOhCJRAZ7YzZk3eR/qJ2Nw9DtrFKp+BU9De3Cb040S5Y1bWDOYmJiTB1CrZpTOzd1L9LWFhYW4Diuxvcdfd+HmtRPWywWo2fPntW6uM+cOYP+/fubKCpCCCGENEVNqicGAObNm4eIiAgEBgaiX79+2L59OzIyMrSeg0EIIYQQ0uSSmLfffhu5ublYuXIlMjMz0blzZxw/fhxt27Y1dWiEEEIIaUKaXBIDAO+//z7ef/99U4dBCCGEkCasSc2JIYQ0T01oESQhxEQM8T5ASQwhxGA0Kw7oCb6EEM37QGOuiGySw0mEkOZBIBDAwcGBf1yGtbV1i9rHQ61WQ6FQoLS0lJb+GhC1s/Ho09aMMRQXFyM7OxsODg46PTC0PpTEEEIMSrM7al3P/WquGGMoKSmBRCJpUcmbsVE7G8+LtLWDg0OjP9uOkhhCiEFxHAcPDw+4urrW+ciK5kipVOLChQt45ZVXaPNGA6J2Nh5921okEjVqD4wGJTGEEKOo/BywlkIgEKC8vBxWVlb04WpA1M7G09TamgYPCSGEEGKWKIkhhBBCiFmiJIYQQgghZqlZzYnRbKRTWFjY6HUrlUoUFxejsLCwSYwDNlfUzsZB7Wwc1M7GQe1sPIZqa83ntq4b4jWrJEYmkwEAvLy8TBwJIYQQQnQlk8lgb2/f4OM51oz2A1er1Xjy5AlsbW0bfa+AwsJCeHl54dGjR7Czs2vUusn/UDsbB7WzcVA7Gwe1s/EYqq0ZY5DJZPD09NRpw8Jm1RNjYWGBNm3aGPQadnZ29EdiBNTOxkHtbBzUzsZB7Ww8hmhrXXpgNGhiLyGEEELMEiUxhBBCCDFLghUrVqwwdRDmQiAQIDQ0FEJhsxqFa3KonY2D2tk4qJ2Ng9rZeJpSWzerib2EEEIIaTloOIkQQgghZomSGEIIIYSYJUpiCCGEEGKWKIkhhBBCiFmiJKaS77//Hu3bt4eVlRV69uyJixcv1nn8oUOH0KlTJ1haWqJTp06Ijo42UqTmTZd2joqKwoABA+Do6AhHR0cMGjQI169fN2K05kvX32eN/fv3g+M4jBw50sARNg+6tnN+fj4++OADeHh4wMrKCv7+/jh+/LiRojVfurbz119/jQ4dOkAikcDLywtz585FaWmpkaI1TxcuXEB4eDg8PT3BcRwOHz5c7znnz59Hz549YWVlBW9vb/zjH/8wQqSVMMIYY2z//v1MJBKxqKgolpiYyGbPns2kUil7+PBhjcdfuXKFCQQCtnbtWpaUlMTWrl3LhEIhu3btmpEjNy+6tvP48ePZd999x+Lj41lSUhKbPHkys7e3Z3/88YeRIzcvurazRnp6OmvdujUbMGAAe/PNN40UrfnStZ3LyspYYGAge/3119mlS5dYeno6u3jxIktISDBy5OZF13bes2cPs7S0ZHv37mVpaWns1KlTzMPDg82ZM8fIkZuX48ePs6VLl7JDhw4xACw6OrrO41NTU5m1tTWbPXs2S0xMZFFRUUwkErGDBw8aKWLGKIn5U+/evdn06dO1yjp27MgWL15c4/FjxoxhQ4cO1SoLCwtjY8eONViMzYGu7VxVeXk5s7W1Zbt37zZEeM2GPu1cXl7OgoKC2I4dO1hkZCQlMQ2gaztv3bqVeXt7M4VCYYzwmg1d2/mDDz5gAwcO1CqbN28eCw4ONliMzU1DkpiFCxeyjh07apVNmzaN9e3b15ChaaHhJAAKhQJxcXEYMmSIVvmQIUNw5cqVGs+5evVqtePDwsJqPZ7o185VFRcXQ6lUwsnJyRAhNgv6tvPKlSvRqlUrTJkyxdAhNgv6tPP//d//oV+/fvjggw/g5uaGzp07Y+3atVCpVMYI2Szp087BwcGIi4vjh55TU1Nx/PhxvPHGGwaPtyWp7XPw5s2bUCqVRonB9NvtNQE5OTlQqVRwc3PTKndzc0NWVlaN52RlZel0PNGvnatavHgxWrdujUGDBhkixGZBn3a+fPkydu7ciYSEBGOE2Czo086pqak4d+4cJkyYgOPHjyM5ORkffPABysvL8emnnxojbLOjTzuPHTsWz549Q3BwMBhjKC8vx4wZM7B48WJjhNxi1PY5WF5ejpycHHh4eBg8BkpiKuE4Tutrxli1shc5nlTQt902bNiAffv2ISYmBlZWVoYKr9loaDvLZDJMnDgRUVFRcHFxMVZ4zYYuv89qtRqurq7Yvn07BAIBevbsiSdPnuCLL76gJKYeurRzTEwM1qxZg++//x59+vTB77//jtmzZ8PDwwOffPKJMcJtMWr6udRUbiiUxABwcXGBQCColtVnZ2dXyzI13N3ddTqe6NfOGl9++SXWrl2Ln3/+GV27djVkmGZP13ZOSUlBeno6wsPD+TK1Wg0AEAqFePDgAXx8fAwbtBnS5/fZw8MDIpEIAoGAL/P390dWVhYUCgXEYrFBYzZH+rTzJ598goiICEydOhUA0KVLFxQVFeG9997D0qVLYWFBMykaQ22fg0KhEM7OzkaJgX6SAMRiMXr27IkzZ85olZ85cwb9+/ev8Zx+/fpVO/706dO1Hk/0a2cA+OKLL7Bq1SqcPHkSgYGBhg7T7Onazh07dsTdu3eRkJDAv0aMGIFXX30VCQkJ8PLyMlboZkWf3+egoCD8/vvvfJIIAL/99hs8PDwogamFPu1cXFxcLVERCARgFYtZDBZrS1Pb52BgYCBEIpFxgjDaFOImTrOEb+fOnSwxMZHNmTOHSaVSlp6ezhhjLCIiQmsm/OXLl5lAIGDr169nSUlJbP369bTEugF0befPP/+cicVidvDgQZaZmcm/ZDKZqW7BLOjazlXR6qSG0bWdMzIymI2NDZs5cyZ78OABO3r0KHN1dWWrV6821S2YBV3befny5czW1pbt27ePpaamstOnTzMfHx82ZswYU92CWZDJZCw+Pp7Fx8czAGzjxo0sPj6eX8q+ePFiFhERwR+vWWI9d+5clpiYyHbu3ElLrE3pu+++Y23btmVisZj16NGDnT9/nv9eSEgIi4yM1Dr+wIEDrEOHDkwkErGOHTuyQ4cOGTli86RLO7dt25YBqPZavny58QM3M7r+PldGSUzD6drOV65cYX369GGWlpbM29ubrVmzhpWXlxs5avOjSzsrlUq2YsUK5uPjw6ysrJiXlxd7//33WV5engkiNx+//PJLje+3mraNjIxkISEhWufExMSw7t27M7FYzNq1a8e2bt1q1Jg5xqhvjRBCCCHmh+bEEEIIIcQsURJDCCGEELNESQwhhBBCzBIlMYQQQggxS5TEEEIIIcQsURJDCCGEELNESQwhhBBCzBIlMYQQQggxS5TEEEIIIcQsURJDCGnSLl26BJFIhLKyMr4sLS0NHMfh4cOHJoyMEGJqlMQQQpq0hIQE+Pv7w9LSUqvMwcEBbdu2NWFkhBBToySGENKk3b59G927d9cqS0hIQEBAgIkiIoQ0FZTEEEKatISEBHTr1k2rLD4+npIYQgglMYSQpkulUuH+/fvVemJu3bpVLbEhhLQ8lMQQQpqsBw8eoKSkBJ6ennzZ1atX8fjxY+qJIYRQEkMIaboSEhIAAJs3b0ZycjJOnDiBSZMmAYDWaiVCSMtESQwhpMlKSEjA4MGDkZaWhs6dO2PJkiVYv3497Ozs8N1335k6PEKIiXGMMWbqIAghpCZhYWHo0aMH1q1bZ+pQCCFNEPXEEEKarNu3b6Nr166mDoMQ0kRREkMIaZKysrLw9OlTSmIIIbWi4SRCCCGEmCXqiSGEEEKIWaIkhhBCCCFmiZIYQgghhJglSmIIIYQQYpYoiSGEEEKIWaIkhhBCCCFmiZIYQgghhJglSmIIIYQQYpYoiSGEEEKIWaIkhhBCCCFmiZIYQgghhJil/wezkHcl9L617wAAAABJRU5ErkJggg==&amp;#39;&amp;gt;&amp;lt;/img&amp;gt;&amp;quot;},&amp;quot;nodeType&amp;quot;:&amp;quot;DOM&amp;quot;,&amp;quot;type&amp;quot;:&amp;quot;node&amp;quot;,&amp;quot;instanceArgs&amp;quot;:{&amp;quot;namespace&amp;quot;:&amp;quot;html&amp;quot;,&amp;quot;tag&amp;quot;:&amp;quot;div&amp;quot;},&amp;quot;children&amp;quot;:[]}]})&lt;/unsafe-script&gt;&quot;}}},&quot;children&quot;:[{&quot;props&quot;:{&quot;id&quot;:&quot;out&quot;,&quot;setInnerHtml&quot;:&quot;&lt;div class=&#39;display:none&#39;&gt;&lt;/div&gt;&lt;unsafe-script style=&#39;display:none&#39;&gt;\\nWebIO.mount(this.previousSibling,{&amp;quot;props&amp;quot;:{&amp;quot;attributes&amp;quot;:{&amp;quot;style&amp;quot;:&amp;quot;display:flex; justify-content:center; align-items:center;&amp;quot;}},&amp;quot;nodeType&amp;quot;:&amp;quot;DOM&amp;quot;,&amp;quot;type&amp;quot;:&amp;quot;node&amp;quot;,&amp;quot;instanceArgs&amp;quot;:{&amp;quot;namespace&amp;quot;:&amp;quot;html&amp;quot;,&amp;quot;tag&amp;quot;:&amp;quot;div&amp;quot;},&amp;quot;children&amp;quot;:[{&amp;quot;props&amp;quot;:{&amp;quot;setInnerHtml&amp;quot;:&amp;quot;&amp;lt;img src=&amp;#39;data:image/png;base64,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&amp;#39;&amp;gt;&amp;lt;/img&amp;gt;&amp;quot;},&amp;quot;nodeType&amp;quot;:&amp;quot;DOM&amp;quot;,&amp;quot;type&amp;quot;:&amp;quot;node&amp;quot;,&amp;quot;instanceArgs&amp;quot;:{&amp;quot;namespace&amp;quot;:&amp;quot;html&amp;quot;,&amp;quot;tag&amp;quot;:&amp;quot;div&amp;quot;},&amp;quot;children&amp;quot;:[]}]})&lt;/unsafe-script&gt;&quot;},&quot;nodeType&quot;:&quot;DOM&quot;,&quot;type&quot;:&quot;node&quot;,&quot;instanceArgs&quot;:{&quot;namespace&quot;:&quot;html&quot;,&quot;tag&quot;:&quot;div&quot;},&quot;children&quot;:[]}]}]})</unsafe-script>\n",
       "</div>"
      ],
      "text/plain": [
       "Widget{:manipulate,Any}(OrderedDict{Symbol,Any}(:N=>Widget{:slider,Int64}(OrderedDict{Symbol,Any}(:changes=>Observable{Int64}(\"ob_14\", 0, Any[SyncCallback(Scope(\"knockout-component-6b4fbbc1-17a1-4e24-8837-be967f2f17fb\", Node{DOM}(DOM(:html, :div), Any[Node{DOM}(DOM(:html, :div), Any[Node{DOM}(DOM(:html, :label), Any[\"N\"], Dict{Symbol,Any}(:className=>\"interact \",:style=>Dict{Any,Any}(:padding=>\"5px 10px 0px 10px\")), 1)], Dict{Symbol,Any}(:attributes=>Dict(\"style\"=>\"text-align:right;width:18%\")), 2), Node{DOM}(DOM(:html, :div), Any[Node{DOM}(DOM(:html, :input), Any[], Dict{Symbol,Any}(:max=>192,:min=>0,:attributes=>Dict{Any,Any}(:type=>\"range\",Symbol(\"data-bind\")=>\"numericValue: value, valueUpdate: 'input', event: {change : function () {this.changes(this.changes()+1)}}\",\"orient\"=>\"horizontal\"),:step=>1,:className=>\"slider slider is-fullwidth\",:style=>Dict{Any,Any}()), 0)], Dict{Symbol,Any}(:attributes=>Dict(\"style\"=>\"flex-grow:1; margin: 0 2%\")), 1), Node{DOM}(DOM(:html, :div), Any[Node{DOM}(DOM(:html, :p), Any[], Dict{Symbol,Any}(:attributes=>Dict(\"data-bind\"=>\"text: value\")), 0)], Dict{Symbol,Any}(:attributes=>Dict(\"style\"=>\"width:18%\")), 1)], Dict{Symbol,Any}(:attributes=>Dict(\"style\"=>\"display:flex; justify-content:center; align-items:center;\")), 7), Dict{String,Tuple{Observables.AbstractObservable,Union{Nothing, Bool}}}(\"changes\"=>(Observable{Int64}(#= circular reference @-6 =#), nothing),\"value\"=>(Observable{Int64}(\"ob_13\", 96, Any[SyncCallback(Scope(#= circular reference @-6 =#), SyncCallback(Scope(#= circular reference @-7 =#), ##40#42{Scope,String}(Scope(#= circular reference @-8 =#), \"value\"))), #g#15{##16#17{##23#26,Observable{Any}},Tuple{Observable{Int64}}}(##16#17{##23#26,Observable{Any}}(##23#26(), Observable{Any}(\"ob_15\", Figure(PyObject <Figure size 640x480 with 1 Axes>), Any[])), (Observable{Int64}(#= circular reference @-4 =#),))]), nothing)), Set(String[]), nothing, Any[\"knockout\"=>\"/Users/isenoz/.julia/packages/Knockout/JIqpG/src/../assets/knockout.js\", \"knockout_punches\"=>\"/Users/isenoz/.julia/packages/Knockout/JIqpG/src/../assets/knockout_punches.js\", \"/Users/isenoz/.julia/packages/InteractBase/Q4IkI/src/../assets/all.js\", \"/Users/isenoz/.julia/packages/InteractBase/Q4IkI/src/../assets/style.css\", \"/Users/isenoz/.julia/packages/InteractBulma/Ohu5Y/src/../assets/main.css\"], Dict{Any,Any}(\"_promises\"=>Dict{Any,Any}(\"importsLoaded\"=>Any[JSString(\"function (ko, koPunches) {\\n    ko.punches.enableAll();\\n    ko.bindingHandlers.numericValue = {\\n        init : function(element, valueAccessor, allBindings, data, context) {\\n            var stringified = ko.observable(ko.unwrap(valueAccessor()));\\n            stringified.subscribe(function(value) {\\n                var val = parseFloat(value);\\n                if (!isNaN(val)) {\\n                    valueAccessor()(val);\\n                }\\n            })\\n            valueAccessor().subscribe(function(value) {\\n                var str = JSON.stringify(value);\\n                if ((str == \\\"0\\\") && ([\\\"-0\\\", \\\"-0.\\\"].indexOf(stringified()) >= 0))\\n                     return;\\n                 if ([\\\"null\\\", \\\"\\\"].indexOf(str) >= 0)\\n                     return;\\n                stringified(str);\\n            })\\n            ko.applyBindingsToNode(element, { value: stringified, valueUpdate: allBindings.get('valueUpdate')}, context);\\n        }\\n    };\\n    var json_data = JSON.parse(\\\"{\\\\\\\"changes\\\\\\\":0,\\\\\\\"value\\\\\\\":96}\\\");\\n    var self = this;\\n    function AppViewModel() {\\n        for (var key in json_data) {\\n            var el = json_data[key];\\n            this[key] = Array.isArray(el) ? ko.observableArray(el) : ko.observable(el);\\n        }\\n        \\n        \\n        [this[\\\"changes\\\"].subscribe((function (val){!(this.valueFromJulia[\\\"changes\\\"]) ? (WebIO.setval({\\\"name\\\":\\\"changes\\\",\\\"scope\\\":\\\"knockout-component-6b4fbbc1-17a1-4e24-8837-be967f2f17fb\\\",\\\"id\\\":\\\"ob_14\\\",\\\"type\\\":\\\"observable\\\"},val)) : undefined; return this.valueFromJulia[\\\"changes\\\"]=false}),self),this[\\\"value\\\"].subscribe((function (val){!(this.valueFromJulia[\\\"value\\\"]) ? (WebIO.setval({\\\"name\\\":\\\"value\\\",\\\"scope\\\":\\\"knockout-component-6b4fbbc1-17a1-4e24-8837-be967f2f17fb\\\",\\\"id\\\":\\\"ob_13\\\",\\\"type\\\":\\\"observable\\\"},val)) : undefined; return this.valueFromJulia[\\\"value\\\"]=false}),self)]\\n        \\n    }\\n    self.model = new AppViewModel();\\n    self.valueFromJulia = {};\\n    for (var key in json_data) {\\n        self.valueFromJulia[key] = false;\\n    }\\n    ko.applyBindings(self.model, self.dom);\\n}\\n\")]),\"changes\"=>Any[JSString(\"(function (val){return (val!=this.model[\\\"changes\\\"]()) ? (this.valueFromJulia[\\\"changes\\\"]=true, this.model[\\\"changes\\\"](val)) : undefined})\")],\"value\"=>Any[JSString(\"(function (val){return (val!=this.model[\\\"value\\\"]()) ? (this.valueFromJulia[\\\"value\\\"]=true, this.model[\\\"value\\\"](val)) : undefined})\")]), ConnectionPool(Channel{Any}(sz_max:9223372036854775807,sz_curr:3), Set(AbstractConnection[]), Channel{AbstractConnection}(sz_max:32,sz_curr:0))), SyncCallback(Scope(\"knockout-component-6b4fbbc1-17a1-4e24-8837-be967f2f17fb\", Node{DOM}(DOM(:html, :div), Any[Node{DOM}(DOM(:html, :div), Any[Node{DOM}(DOM(:html, :label), Any[\"N\"], Dict{Symbol,Any}(:className=>\"interact \",:style=>Dict{Any,Any}(:padding=>\"5px 10px 0px 10px\")), 1)], Dict{Symbol,Any}(:attributes=>Dict(\"style\"=>\"text-align:right;width:18%\")), 2), Node{DOM}(DOM(:html, :div), Any[Node{DOM}(DOM(:html, :input), Any[], Dict{Symbol,Any}(:max=>192,:min=>0,:attributes=>Dict{Any,Any}(:type=>\"range\",Symbol(\"data-bind\")=>\"numericValue: value, valueUpdate: 'input', event: {change : function () {this.changes(this.changes()+1)}}\",\"orient\"=>\"horizontal\"),:step=>1,:className=>\"slider slider is-fullwidth\",:style=>Dict{Any,Any}()), 0)], Dict{Symbol,Any}(:attributes=>Dict(\"style\"=>\"flex-grow:1; margin: 0 2%\")), 1), Node{DOM}(DOM(:html, :div), Any[Node{DOM}(DOM(:html, :p), Any[], Dict{Symbol,Any}(:attributes=>Dict(\"data-bind\"=>\"text: value\")), 0)], Dict{Symbol,Any}(:attributes=>Dict(\"style\"=>\"width:18%\")), 1)], Dict{Symbol,Any}(:attributes=>Dict(\"style\"=>\"display:flex; justify-content:center; align-items:center;\")), 7), Dict{String,Tuple{Observables.AbstractObservable,Union{Nothing, Bool}}}(\"changes\"=>(Observable{Int64}(#= circular reference @-7 =#), nothing),\"value\"=>(Observable{Int64}(\"ob_13\", 96, Any[SyncCallback(Scope(#= circular reference @-6 =#), SyncCallback(Scope(#= circular reference @-7 =#), ##40#42{Scope,String}(Scope(#= circular reference @-8 =#), \"value\"))), #g#15{##16#17{##23#26,Observable{Any}},Tuple{Observable{Int64}}}(##16#17{##23#26,Observable{Any}}(##23#26(), Observable{Any}(\"ob_15\", Figure(PyObject <Figure size 640x480 with 1 Axes>), Any[])), (Observable{Int64}(#= circular reference @-4 =#),))]), nothing)), Set(String[]), nothing, Any[\"knockout\"=>\"/Users/isenoz/.julia/packages/Knockout/JIqpG/src/../assets/knockout.js\", \"knockout_punches\"=>\"/Users/isenoz/.julia/packages/Knockout/JIqpG/src/../assets/knockout_punches.js\", \"/Users/isenoz/.julia/packages/InteractBase/Q4IkI/src/../assets/all.js\", \"/Users/isenoz/.julia/packages/InteractBase/Q4IkI/src/../assets/style.css\", \"/Users/isenoz/.julia/packages/InteractBulma/Ohu5Y/src/../assets/main.css\"], Dict{Any,Any}(\"_promises\"=>Dict{Any,Any}(\"importsLoaded\"=>Any[JSString(\"function (ko, koPunches) {\\n    ko.punches.enableAll();\\n    ko.bindingHandlers.numericValue = {\\n        init : function(element, valueAccessor, allBindings, data, context) {\\n            var stringified = ko.observable(ko.unwrap(valueAccessor()));\\n            stringified.subscribe(function(value) {\\n                var val = parseFloat(value);\\n                if (!isNaN(val)) {\\n                    valueAccessor()(val);\\n                }\\n            })\\n            valueAccessor().subscribe(function(value) {\\n                var str = JSON.stringify(value);\\n                if ((str == \\\"0\\\") && ([\\\"-0\\\", \\\"-0.\\\"].indexOf(stringified()) >= 0))\\n                     return;\\n                 if ([\\\"null\\\", \\\"\\\"].indexOf(str) >= 0)\\n                     return;\\n                stringified(str);\\n            })\\n            ko.applyBindingsToNode(element, { value: stringified, valueUpdate: allBindings.get('valueUpdate')}, context);\\n        }\\n    };\\n    var json_data = JSON.parse(\\\"{\\\\\\\"changes\\\\\\\":0,\\\\\\\"value\\\\\\\":96}\\\");\\n    var self = this;\\n    function AppViewModel() {\\n        for (var key in json_data) {\\n            var el = json_data[key];\\n            this[key] = Array.isArray(el) ? ko.observableArray(el) : ko.observable(el);\\n        }\\n        \\n        \\n        [this[\\\"changes\\\"].subscribe((function (val){!(this.valueFromJulia[\\\"changes\\\"]) ? (WebIO.setval({\\\"name\\\":\\\"changes\\\",\\\"scope\\\":\\\"knockout-component-6b4fbbc1-17a1-4e24-8837-be967f2f17fb\\\",\\\"id\\\":\\\"ob_14\\\",\\\"type\\\":\\\"observable\\\"},val)) : undefined; return this.valueFromJulia[\\\"changes\\\"]=false}),self),this[\\\"value\\\"].subscribe((function (val){!(this.valueFromJulia[\\\"value\\\"]) ? (WebIO.setval({\\\"name\\\":\\\"value\\\",\\\"scope\\\":\\\"knockout-component-6b4fbbc1-17a1-4e24-8837-be967f2f17fb\\\",\\\"id\\\":\\\"ob_13\\\",\\\"type\\\":\\\"observable\\\"},val)) : undefined; return this.valueFromJulia[\\\"value\\\"]=false}),self)]\\n        \\n    }\\n    self.model = new AppViewModel();\\n    self.valueFromJulia = {};\\n    for (var key in json_data) {\\n        self.valueFromJulia[key] = false;\\n    }\\n    ko.applyBindings(self.model, self.dom);\\n}\\n\")]),\"changes\"=>Any[JSString(\"(function (val){return (val!=this.model[\\\"changes\\\"]()) ? (this.valueFromJulia[\\\"changes\\\"]=true, this.model[\\\"changes\\\"](val)) : undefined})\")],\"value\"=>Any[JSString(\"(function (val){return (val!=this.model[\\\"value\\\"]()) ? (this.valueFromJulia[\\\"value\\\"]=true, this.model[\\\"value\\\"](val)) : undefined})\")]), ConnectionPool(Channel{Any}(sz_max:9223372036854775807,sz_curr:3), Set(AbstractConnection[]), Channel{AbstractConnection}(sz_max:32,sz_curr:0))), ##40#42{Scope,String}(Scope(\"knockout-component-6b4fbbc1-17a1-4e24-8837-be967f2f17fb\", Node{DOM}(DOM(:html, :div), Any[Node{DOM}(DOM(:html, :div), Any[Node{DOM}(DOM(:html, :label), Any[\"N\"], Dict{Symbol,Any}(:className=>\"interact \",:style=>Dict{Any,Any}(:padding=>\"5px 10px 0px 10px\")), 1)], Dict{Symbol,Any}(:attributes=>Dict(\"style\"=>\"text-align:right;width:18%\")), 2), Node{DOM}(DOM(:html, :div), Any[Node{DOM}(DOM(:html, :input), Any[], Dict{Symbol,Any}(:max=>192,:min=>0,:attributes=>Dict{Any,Any}(:type=>\"range\",Symbol(\"data-bind\")=>\"numericValue: value, valueUpdate: 'input', event: {change : function () {this.changes(this.changes()+1)}}\",\"orient\"=>\"horizontal\"),:step=>1,:className=>\"slider slider is-fullwidth\",:style=>Dict{Any,Any}()), 0)], Dict{Symbol,Any}(:attributes=>Dict(\"style\"=>\"flex-grow:1; margin: 0 2%\")), 1), Node{DOM}(DOM(:html, :div), Any[Node{DOM}(DOM(:html, :p), Any[], Dict{Symbol,Any}(:attributes=>Dict(\"data-bind\"=>\"text: value\")), 0)], Dict{Symbol,Any}(:attributes=>Dict(\"style\"=>\"width:18%\")), 1)], Dict{Symbol,Any}(:attributes=>Dict(\"style\"=>\"display:flex; justify-content:center; align-items:center;\")), 7), Dict{String,Tuple{Observables.AbstractObservable,Union{Nothing, Bool}}}(\"changes\"=>(Observable{Int64}(#= circular reference @-8 =#), nothing),\"value\"=>(Observable{Int64}(\"ob_13\", 96, Any[SyncCallback(Scope(#= circular reference @-6 =#), SyncCallback(Scope(#= circular reference @-7 =#), ##40#42{Scope,String}(Scope(#= circular reference @-8 =#), \"value\"))), #g#15{##16#17{##23#26,Observable{Any}},Tuple{Observable{Int64}}}(##16#17{##23#26,Observable{Any}}(##23#26(), Observable{Any}(\"ob_15\", Figure(PyObject <Figure size 640x480 with 1 Axes>), Any[])), (Observable{Int64}(#= circular reference @-4 =#),))]), nothing)), Set(String[]), nothing, Any[\"knockout\"=>\"/Users/isenoz/.julia/packages/Knockout/JIqpG/src/../assets/knockout.js\", \"knockout_punches\"=>\"/Users/isenoz/.julia/packages/Knockout/JIqpG/src/../assets/knockout_punches.js\", \"/Users/isenoz/.julia/packages/InteractBase/Q4IkI/src/../assets/all.js\", \"/Users/isenoz/.julia/packages/InteractBase/Q4IkI/src/../assets/style.css\", \"/Users/isenoz/.julia/packages/InteractBulma/Ohu5Y/src/../assets/main.css\"], Dict{Any,Any}(\"_promises\"=>Dict{Any,Any}(\"importsLoaded\"=>Any[JSString(\"function (ko, koPunches) {\\n    ko.punches.enableAll();\\n    ko.bindingHandlers.numericValue = {\\n        init : function(element, valueAccessor, allBindings, data, context) {\\n            var stringified = ko.observable(ko.unwrap(valueAccessor()));\\n            stringified.subscribe(function(value) {\\n                var val = parseFloat(value);\\n                if (!isNaN(val)) {\\n                    valueAccessor()(val);\\n                }\\n            })\\n            valueAccessor().subscribe(function(value) {\\n                var str = JSON.stringify(value);\\n                if ((str == \\\"0\\\") && ([\\\"-0\\\", \\\"-0.\\\"].indexOf(stringified()) >= 0))\\n                     return;\\n                 if ([\\\"null\\\", \\\"\\\"].indexOf(str) >= 0)\\n                     return;\\n                stringified(str);\\n            })\\n            ko.applyBindingsToNode(element, { value: stringified, valueUpdate: allBindings.get('valueUpdate')}, context);\\n        }\\n    };\\n    var json_data = JSON.parse(\\\"{\\\\\\\"changes\\\\\\\":0,\\\\\\\"value\\\\\\\":96}\\\");\\n    var self = this;\\n    function AppViewModel() {\\n        for (var key in json_data) {\\n            var el = json_data[key];\\n            this[key] = Array.isArray(el) ? ko.observableArray(el) : ko.observable(el);\\n        }\\n        \\n        \\n        [this[\\\"changes\\\"].subscribe((function (val){!(this.valueFromJulia[\\\"changes\\\"]) ? (WebIO.setval({\\\"name\\\":\\\"changes\\\",\\\"scope\\\":\\\"knockout-component-6b4fbbc1-17a1-4e24-8837-be967f2f17fb\\\",\\\"id\\\":\\\"ob_14\\\",\\\"type\\\":\\\"observable\\\"},val)) : undefined; return this.valueFromJulia[\\\"changes\\\"]=false}),self),this[\\\"value\\\"].subscribe((function (val){!(this.valueFromJulia[\\\"value\\\"]) ? (WebIO.setval({\\\"name\\\":\\\"value\\\",\\\"scope\\\":\\\"knockout-component-6b4fbbc1-17a1-4e24-8837-be967f2f17fb\\\",\\\"id\\\":\\\"ob_13\\\",\\\"type\\\":\\\"observable\\\"},val)) : undefined; return this.valueFromJulia[\\\"value\\\"]=false}),self)]\\n        \\n    }\\n    self.model = new AppViewModel();\\n    self.valueFromJulia = {};\\n    for (var key in json_data) {\\n        self.valueFromJulia[key] = false;\\n    }\\n    ko.applyBindings(self.model, self.dom);\\n}\\n\")]),\"changes\"=>Any[JSString(\"(function (val){return (val!=this.model[\\\"changes\\\"]()) ? (this.valueFromJulia[\\\"changes\\\"]=true, this.model[\\\"changes\\\"](val)) : undefined})\")],\"value\"=>Any[JSString(\"(function (val){return (val!=this.model[\\\"value\\\"]()) ? (this.valueFromJulia[\\\"value\\\"]=true, this.model[\\\"value\\\"](val)) : undefined})\")]), ConnectionPool(Channel{Any}(sz_max:9223372036854775807,sz_curr:3), Set(AbstractConnection[]), Channel{AbstractConnection}(sz_max:32,sz_curr:0))), \"changes\")))]),:value=>Observable{Int64}(\"ob_13\", 96, Any[SyncCallback(Scope(\"knockout-component-6b4fbbc1-17a1-4e24-8837-be967f2f17fb\", Node{DOM}(DOM(:html, :div), Any[Node{DOM}(DOM(:html, :div), Any[Node{DOM}(DOM(:html, :label), Any[\"N\"], Dict{Symbol,Any}(:className=>\"interact \",:style=>Dict{Any,Any}(:padding=>\"5px 10px 0px 10px\")), 1)], Dict{Symbol,Any}(:attributes=>Dict(\"style\"=>\"text-align:right;width:18%\")), 2), Node{DOM}(DOM(:html, :div), Any[Node{DOM}(DOM(:html, :input), Any[], Dict{Symbol,Any}(:max=>192,:min=>0,:attributes=>Dict{Any,Any}(:type=>\"range\",Symbol(\"data-bind\")=>\"numericValue: value, valueUpdate: 'input', event: {change : function () {this.changes(this.changes()+1)}}\",\"orient\"=>\"horizontal\"),:step=>1,:className=>\"slider slider is-fullwidth\",:style=>Dict{Any,Any}()), 0)], Dict{Symbol,Any}(:attributes=>Dict(\"style\"=>\"flex-grow:1; margin: 0 2%\")), 1), Node{DOM}(DOM(:html, :div), Any[Node{DOM}(DOM(:html, :p), Any[], Dict{Symbol,Any}(:attributes=>Dict(\"data-bind\"=>\"text: value\")), 0)], Dict{Symbol,Any}(:attributes=>Dict(\"style\"=>\"width:18%\")), 1)], Dict{Symbol,Any}(:attributes=>Dict(\"style\"=>\"display:flex; justify-content:center; align-items:center;\")), 7), Dict{String,Tuple{Observables.AbstractObservable,Union{Nothing, Bool}}}(\"changes\"=>(Observable{Int64}(\"ob_14\", 0, Any[SyncCallback(Scope(#= circular reference @-6 =#), SyncCallback(Scope(#= circular reference @-7 =#), ##40#42{Scope,String}(Scope(#= circular reference @-8 =#), \"changes\")))]), nothing),\"value\"=>(Observable{Int64}(#= circular reference @-6 =#), nothing)), Set(String[]), nothing, Any[\"knockout\"=>\"/Users/isenoz/.julia/packages/Knockout/JIqpG/src/../assets/knockout.js\", \"knockout_punches\"=>\"/Users/isenoz/.julia/packages/Knockout/JIqpG/src/../assets/knockout_punches.js\", \"/Users/isenoz/.julia/packages/InteractBase/Q4IkI/src/../assets/all.js\", \"/Users/isenoz/.julia/packages/InteractBase/Q4IkI/src/../assets/style.css\", \"/Users/isenoz/.julia/packages/InteractBulma/Ohu5Y/src/../assets/main.css\"], Dict{Any,Any}(\"_promises\"=>Dict{Any,Any}(\"importsLoaded\"=>Any[JSString(\"function (ko, koPunches) {\\n    ko.punches.enableAll();\\n    ko.bindingHandlers.numericValue = {\\n        init : function(element, valueAccessor, allBindings, data, context) {\\n            var stringified = ko.observable(ko.unwrap(valueAccessor()));\\n            stringified.subscribe(function(value) {\\n                var val = parseFloat(value);\\n                if (!isNaN(val)) {\\n                    valueAccessor()(val);\\n                }\\n            })\\n            valueAccessor().subscribe(function(value) {\\n                var str = JSON.stringify(value);\\n                if ((str == \\\"0\\\") && ([\\\"-0\\\", \\\"-0.\\\"].indexOf(stringified()) >= 0))\\n                     return;\\n                 if ([\\\"null\\\", \\\"\\\"].indexOf(str) >= 0)\\n                     return;\\n                stringified(str);\\n            })\\n            ko.applyBindingsToNode(element, { value: stringified, valueUpdate: allBindings.get('valueUpdate')}, context);\\n        }\\n    };\\n    var json_data = JSON.parse(\\\"{\\\\\\\"changes\\\\\\\":0,\\\\\\\"value\\\\\\\":96}\\\");\\n    var self = this;\\n    function AppViewModel() {\\n        for (var key in json_data) {\\n            var el = json_data[key];\\n            this[key] = Array.isArray(el) ? ko.observableArray(el) : ko.observable(el);\\n        }\\n        \\n        \\n        [this[\\\"changes\\\"].subscribe((function (val){!(this.valueFromJulia[\\\"changes\\\"]) ? (WebIO.setval({\\\"name\\\":\\\"changes\\\",\\\"scope\\\":\\\"knockout-component-6b4fbbc1-17a1-4e24-8837-be967f2f17fb\\\",\\\"id\\\":\\\"ob_14\\\",\\\"type\\\":\\\"observable\\\"},val)) : undefined; return this.valueFromJulia[\\\"changes\\\"]=false}),self),this[\\\"value\\\"].subscribe((function (val){!(this.valueFromJulia[\\\"value\\\"]) ? (WebIO.setval({\\\"name\\\":\\\"value\\\",\\\"scope\\\":\\\"knockout-component-6b4fbbc1-17a1-4e24-8837-be967f2f17fb\\\",\\\"id\\\":\\\"ob_13\\\",\\\"type\\\":\\\"observable\\\"},val)) : undefined; return this.valueFromJulia[\\\"value\\\"]=false}),self)]\\n        \\n    }\\n    self.model = new AppViewModel();\\n    self.valueFromJulia = {};\\n    for (var key in json_data) {\\n        self.valueFromJulia[key] = false;\\n    }\\n    ko.applyBindings(self.model, self.dom);\\n}\\n\")]),\"changes\"=>Any[JSString(\"(function (val){return (val!=this.model[\\\"changes\\\"]()) ? (this.valueFromJulia[\\\"changes\\\"]=true, this.model[\\\"changes\\\"](val)) : undefined})\")],\"value\"=>Any[JSString(\"(function (val){return (val!=this.model[\\\"value\\\"]()) ? (this.valueFromJulia[\\\"value\\\"]=true, this.model[\\\"value\\\"](val)) : undefined})\")]), ConnectionPool(Channel{Any}(sz_max:9223372036854775807,sz_curr:3), Set(AbstractConnection[]), Channel{AbstractConnection}(sz_max:32,sz_curr:0))), SyncCallback(Scope(\"knockout-component-6b4fbbc1-17a1-4e24-8837-be967f2f17fb\", Node{DOM}(DOM(:html, :div), Any[Node{DOM}(DOM(:html, :div), Any[Node{DOM}(DOM(:html, :label), Any[\"N\"], Dict{Symbol,Any}(:className=>\"interact \",:style=>Dict{Any,Any}(:padding=>\"5px 10px 0px 10px\")), 1)], Dict{Symbol,Any}(:attributes=>Dict(\"style\"=>\"text-align:right;width:18%\")), 2), Node{DOM}(DOM(:html, :div), Any[Node{DOM}(DOM(:html, :input), Any[], Dict{Symbol,Any}(:max=>192,:min=>0,:attributes=>Dict{Any,Any}(:type=>\"range\",Symbol(\"data-bind\")=>\"numericValue: value, valueUpdate: 'input', event: {change : function () {this.changes(this.changes()+1)}}\",\"orient\"=>\"horizontal\"),:step=>1,:className=>\"slider slider is-fullwidth\",:style=>Dict{Any,Any}()), 0)], Dict{Symbol,Any}(:attributes=>Dict(\"style\"=>\"flex-grow:1; margin: 0 2%\")), 1), Node{DOM}(DOM(:html, :div), Any[Node{DOM}(DOM(:html, :p), Any[], Dict{Symbol,Any}(:attributes=>Dict(\"data-bind\"=>\"text: value\")), 0)], Dict{Symbol,Any}(:attributes=>Dict(\"style\"=>\"width:18%\")), 1)], Dict{Symbol,Any}(:attributes=>Dict(\"style\"=>\"display:flex; justify-content:center; align-items:center;\")), 7), Dict{String,Tuple{Observables.AbstractObservable,Union{Nothing, Bool}}}(\"changes\"=>(Observable{Int64}(\"ob_14\", 0, Any[SyncCallback(Scope(#= circular reference @-6 =#), SyncCallback(Scope(#= circular reference @-7 =#), ##40#42{Scope,String}(Scope(#= circular reference @-8 =#), \"changes\")))]), nothing),\"value\"=>(Observable{Int64}(#= circular reference @-7 =#), nothing)), Set(String[]), nothing, Any[\"knockout\"=>\"/Users/isenoz/.julia/packages/Knockout/JIqpG/src/../assets/knockout.js\", \"knockout_punches\"=>\"/Users/isenoz/.julia/packages/Knockout/JIqpG/src/../assets/knockout_punches.js\", \"/Users/isenoz/.julia/packages/InteractBase/Q4IkI/src/../assets/all.js\", \"/Users/isenoz/.julia/packages/InteractBase/Q4IkI/src/../assets/style.css\", \"/Users/isenoz/.julia/packages/InteractBulma/Ohu5Y/src/../assets/main.css\"], Dict{Any,Any}(\"_promises\"=>Dict{Any,Any}(\"importsLoaded\"=>Any[JSString(\"function (ko, koPunches) {\\n    ko.punches.enableAll();\\n    ko.bindingHandlers.numericValue = {\\n        init : function(element, valueAccessor, allBindings, data, context) {\\n            var stringified = ko.observable(ko.unwrap(valueAccessor()));\\n            stringified.subscribe(function(value) {\\n                var val = parseFloat(value);\\n                if (!isNaN(val)) {\\n                    valueAccessor()(val);\\n                }\\n            })\\n            valueAccessor().subscribe(function(value) {\\n                var str = JSON.stringify(value);\\n                if ((str == \\\"0\\\") && ([\\\"-0\\\", \\\"-0.\\\"].indexOf(stringified()) >= 0))\\n                     return;\\n                 if ([\\\"null\\\", \\\"\\\"].indexOf(str) >= 0)\\n                     return;\\n                stringified(str);\\n            })\\n            ko.applyBindingsToNode(element, { value: stringified, valueUpdate: allBindings.get('valueUpdate')}, context);\\n        }\\n    };\\n    var json_data = JSON.parse(\\\"{\\\\\\\"changes\\\\\\\":0,\\\\\\\"value\\\\\\\":96}\\\");\\n    var self = this;\\n    function AppViewModel() {\\n        for (var key in json_data) {\\n            var el = json_data[key];\\n            this[key] = Array.isArray(el) ? ko.observableArray(el) : ko.observable(el);\\n        }\\n        \\n        \\n        [this[\\\"changes\\\"].subscribe((function (val){!(this.valueFromJulia[\\\"changes\\\"]) ? (WebIO.setval({\\\"name\\\":\\\"changes\\\",\\\"scope\\\":\\\"knockout-component-6b4fbbc1-17a1-4e24-8837-be967f2f17fb\\\",\\\"id\\\":\\\"ob_14\\\",\\\"type\\\":\\\"observable\\\"},val)) : undefined; return this.valueFromJulia[\\\"changes\\\"]=false}),self),this[\\\"value\\\"].subscribe((function (val){!(this.valueFromJulia[\\\"value\\\"]) ? (WebIO.setval({\\\"name\\\":\\\"value\\\",\\\"scope\\\":\\\"knockout-component-6b4fbbc1-17a1-4e24-8837-be967f2f17fb\\\",\\\"id\\\":\\\"ob_13\\\",\\\"type\\\":\\\"observable\\\"},val)) : undefined; return this.valueFromJulia[\\\"value\\\"]=false}),self)]\\n        \\n    }\\n    self.model = new AppViewModel();\\n    self.valueFromJulia = {};\\n    for (var key in json_data) {\\n        self.valueFromJulia[key] = false;\\n    }\\n    ko.applyBindings(self.model, self.dom);\\n}\\n\")]),\"changes\"=>Any[JSString(\"(function (val){return (val!=this.model[\\\"changes\\\"]()) ? (this.valueFromJulia[\\\"changes\\\"]=true, this.model[\\\"changes\\\"](val)) : undefined})\")],\"value\"=>Any[JSString(\"(function (val){return (val!=this.model[\\\"value\\\"]()) ? (this.valueFromJulia[\\\"value\\\"]=true, this.model[\\\"value\\\"](val)) : undefined})\")]), ConnectionPool(Channel{Any}(sz_max:9223372036854775807,sz_curr:3), Set(AbstractConnection[]), Channel{AbstractConnection}(sz_max:32,sz_curr:0))), ##40#42{Scope,String}(Scope(\"knockout-component-6b4fbbc1-17a1-4e24-8837-be967f2f17fb\", Node{DOM}(DOM(:html, :div), Any[Node{DOM}(DOM(:html, :div), Any[Node{DOM}(DOM(:html, :label), Any[\"N\"], Dict{Symbol,Any}(:className=>\"interact \",:style=>Dict{Any,Any}(:padding=>\"5px 10px 0px 10px\")), 1)], Dict{Symbol,Any}(:attributes=>Dict(\"style\"=>\"text-align:right;width:18%\")), 2), Node{DOM}(DOM(:html, :div), Any[Node{DOM}(DOM(:html, :input), Any[], Dict{Symbol,Any}(:max=>192,:min=>0,:attributes=>Dict{Any,Any}(:type=>\"range\",Symbol(\"data-bind\")=>\"numericValue: value, valueUpdate: 'input', event: {change : function () {this.changes(this.changes()+1)}}\",\"orient\"=>\"horizontal\"),:step=>1,:className=>\"slider slider is-fullwidth\",:style=>Dict{Any,Any}()), 0)], Dict{Symbol,Any}(:attributes=>Dict(\"style\"=>\"flex-grow:1; margin: 0 2%\")), 1), Node{DOM}(DOM(:html, :div), Any[Node{DOM}(DOM(:html, :p), Any[], Dict{Symbol,Any}(:attributes=>Dict(\"data-bind\"=>\"text: value\")), 0)], Dict{Symbol,Any}(:attributes=>Dict(\"style\"=>\"width:18%\")), 1)], Dict{Symbol,Any}(:attributes=>Dict(\"style\"=>\"display:flex; justify-content:center; align-items:center;\")), 7), Dict{String,Tuple{Observables.AbstractObservable,Union{Nothing, Bool}}}(\"changes\"=>(Observable{Int64}(\"ob_14\", 0, Any[SyncCallback(Scope(#= circular reference @-6 =#), SyncCallback(Scope(#= circular reference @-7 =#), ##40#42{Scope,String}(Scope(#= circular reference @-8 =#), \"changes\")))]), nothing),\"value\"=>(Observable{Int64}(#= circular reference @-8 =#), nothing)), Set(String[]), nothing, Any[\"knockout\"=>\"/Users/isenoz/.julia/packages/Knockout/JIqpG/src/../assets/knockout.js\", \"knockout_punches\"=>\"/Users/isenoz/.julia/packages/Knockout/JIqpG/src/../assets/knockout_punches.js\", \"/Users/isenoz/.julia/packages/InteractBase/Q4IkI/src/../assets/all.js\", \"/Users/isenoz/.julia/packages/InteractBase/Q4IkI/src/../assets/style.css\", \"/Users/isenoz/.julia/packages/InteractBulma/Ohu5Y/src/../assets/main.css\"], Dict{Any,Any}(\"_promises\"=>Dict{Any,Any}(\"importsLoaded\"=>Any[JSString(\"function (ko, koPunches) {\\n    ko.punches.enableAll();\\n    ko.bindingHandlers.numericValue = {\\n        init : function(element, valueAccessor, allBindings, data, context) {\\n            var stringified = ko.observable(ko.unwrap(valueAccessor()));\\n            stringified.subscribe(function(value) {\\n                var val = parseFloat(value);\\n                if (!isNaN(val)) {\\n                    valueAccessor()(val);\\n                }\\n            })\\n            valueAccessor().subscribe(function(value) {\\n                var str = JSON.stringify(value);\\n                if ((str == \\\"0\\\") && ([\\\"-0\\\", \\\"-0.\\\"].indexOf(stringified()) >= 0))\\n                     return;\\n                 if ([\\\"null\\\", \\\"\\\"].indexOf(str) >= 0)\\n                     return;\\n                stringified(str);\\n            })\\n            ko.applyBindingsToNode(element, { value: stringified, valueUpdate: allBindings.get('valueUpdate')}, context);\\n        }\\n    };\\n    var json_data = JSON.parse(\\\"{\\\\\\\"changes\\\\\\\":0,\\\\\\\"value\\\\\\\":96}\\\");\\n    var self = this;\\n    function AppViewModel() {\\n        for (var key in json_data) {\\n            var el = json_data[key];\\n            this[key] = Array.isArray(el) ? ko.observableArray(el) : ko.observable(el);\\n        }\\n        \\n        \\n        [this[\\\"changes\\\"].subscribe((function (val){!(this.valueFromJulia[\\\"changes\\\"]) ? (WebIO.setval({\\\"name\\\":\\\"changes\\\",\\\"scope\\\":\\\"knockout-component-6b4fbbc1-17a1-4e24-8837-be967f2f17fb\\\",\\\"id\\\":\\\"ob_14\\\",\\\"type\\\":\\\"observable\\\"},val)) : undefined; return this.valueFromJulia[\\\"changes\\\"]=false}),self),this[\\\"value\\\"].subscribe((function (val){!(this.valueFromJulia[\\\"value\\\"]) ? (WebIO.setval({\\\"name\\\":\\\"value\\\",\\\"scope\\\":\\\"knockout-component-6b4fbbc1-17a1-4e24-8837-be967f2f17fb\\\",\\\"id\\\":\\\"ob_13\\\",\\\"type\\\":\\\"observable\\\"},val)) : undefined; return this.valueFromJulia[\\\"value\\\"]=false}),self)]\\n        \\n    }\\n    self.model = new AppViewModel();\\n    self.valueFromJulia = {};\\n    for (var key in json_data) {\\n        self.valueFromJulia[key] = false;\\n    }\\n    ko.applyBindings(self.model, self.dom);\\n}\\n\")]),\"changes\"=>Any[JSString(\"(function (val){return (val!=this.model[\\\"changes\\\"]()) ? (this.valueFromJulia[\\\"changes\\\"]=true, this.model[\\\"changes\\\"](val)) : undefined})\")],\"value\"=>Any[JSString(\"(function (val){return (val!=this.model[\\\"value\\\"]()) ? (this.valueFromJulia[\\\"value\\\"]=true, this.model[\\\"value\\\"](val)) : undefined})\")]), ConnectionPool(Channel{Any}(sz_max:9223372036854775807,sz_curr:3), Set(AbstractConnection[]), Channel{AbstractConnection}(sz_max:32,sz_curr:0))), \"value\"))), #g#15{##16#17{##23#26,Observable{Any}},Tuple{Observable{Int64}}}(##16#17{##23#26,Observable{Any}}(##23#26(), Observable{Any}(\"ob_15\", Figure(PyObject <Figure size 640x480 with 1 Axes>), Any[])), (Observable{Int64}(#= circular reference @-4 =#),))])), Observable{Int64}(\"ob_13\", 96, Any[SyncCallback(Scope(\"knockout-component-6b4fbbc1-17a1-4e24-8837-be967f2f17fb\", Node{DOM}(DOM(:html, :div), Any[Node{DOM}(DOM(:html, :div), Any[Node{DOM}(DOM(:html, :label), Any[\"N\"], Dict{Symbol,Any}(:className=>\"interact \",:style=>Dict{Any,Any}(:padding=>\"5px 10px 0px 10px\")), 1)], Dict{Symbol,Any}(:attributes=>Dict(\"style\"=>\"text-align:right;width:18%\")), 2), Node{DOM}(DOM(:html, :div), Any[Node{DOM}(DOM(:html, :input), Any[], Dict{Symbol,Any}(:max=>192,:min=>0,:attributes=>Dict{Any,Any}(:type=>\"range\",Symbol(\"data-bind\")=>\"numericValue: value, valueUpdate: 'input', event: {change : function () {this.changes(this.changes()+1)}}\",\"orient\"=>\"horizontal\"),:step=>1,:className=>\"slider slider is-fullwidth\",:style=>Dict{Any,Any}()), 0)], Dict{Symbol,Any}(:attributes=>Dict(\"style\"=>\"flex-grow:1; margin: 0 2%\")), 1), Node{DOM}(DOM(:html, :div), Any[Node{DOM}(DOM(:html, :p), Any[], Dict{Symbol,Any}(:attributes=>Dict(\"data-bind\"=>\"text: value\")), 0)], Dict{Symbol,Any}(:attributes=>Dict(\"style\"=>\"width:18%\")), 1)], Dict{Symbol,Any}(:attributes=>Dict(\"style\"=>\"display:flex; justify-content:center; align-items:center;\")), 7), Dict{String,Tuple{Observables.AbstractObservable,Union{Nothing, Bool}}}(\"changes\"=>(Observable{Int64}(\"ob_14\", 0, Any[SyncCallback(Scope(#= circular reference @-6 =#), SyncCallback(Scope(#= circular reference @-7 =#), ##40#42{Scope,String}(Scope(#= circular reference @-8 =#), \"changes\")))]), nothing),\"value\"=>(Observable{Int64}(#= circular reference @-6 =#), nothing)), Set(String[]), nothing, Any[\"knockout\"=>\"/Users/isenoz/.julia/packages/Knockout/JIqpG/src/../assets/knockout.js\", \"knockout_punches\"=>\"/Users/isenoz/.julia/packages/Knockout/JIqpG/src/../assets/knockout_punches.js\", \"/Users/isenoz/.julia/packages/InteractBase/Q4IkI/src/../assets/all.js\", \"/Users/isenoz/.julia/packages/InteractBase/Q4IkI/src/../assets/style.css\", \"/Users/isenoz/.julia/packages/InteractBulma/Ohu5Y/src/../assets/main.css\"], Dict{Any,Any}(\"_promises\"=>Dict{Any,Any}(\"importsLoaded\"=>Any[JSString(\"function (ko, koPunches) {\\n    ko.punches.enableAll();\\n    ko.bindingHandlers.numericValue = {\\n        init : function(element, valueAccessor, allBindings, data, context) {\\n            var stringified = ko.observable(ko.unwrap(valueAccessor()));\\n            stringified.subscribe(function(value) {\\n                var val = parseFloat(value);\\n                if (!isNaN(val)) {\\n                    valueAccessor()(val);\\n                }\\n            })\\n            valueAccessor().subscribe(function(value) {\\n                var str = JSON.stringify(value);\\n                if ((str == \\\"0\\\") && ([\\\"-0\\\", \\\"-0.\\\"].indexOf(stringified()) >= 0))\\n                     return;\\n                 if ([\\\"null\\\", \\\"\\\"].indexOf(str) >= 0)\\n                     return;\\n                stringified(str);\\n            })\\n            ko.applyBindingsToNode(element, { value: stringified, valueUpdate: allBindings.get('valueUpdate')}, context);\\n        }\\n    };\\n    var json_data = JSON.parse(\\\"{\\\\\\\"changes\\\\\\\":0,\\\\\\\"value\\\\\\\":96}\\\");\\n    var self = this;\\n    function AppViewModel() {\\n        for (var key in json_data) {\\n            var el = json_data[key];\\n            this[key] = Array.isArray(el) ? ko.observableArray(el) : ko.observable(el);\\n        }\\n        \\n        \\n        [this[\\\"changes\\\"].subscribe((function (val){!(this.valueFromJulia[\\\"changes\\\"]) ? (WebIO.setval({\\\"name\\\":\\\"changes\\\",\\\"scope\\\":\\\"knockout-component-6b4fbbc1-17a1-4e24-8837-be967f2f17fb\\\",\\\"id\\\":\\\"ob_14\\\",\\\"type\\\":\\\"observable\\\"},val)) : undefined; return this.valueFromJulia[\\\"changes\\\"]=false}),self),this[\\\"value\\\"].subscribe((function (val){!(this.valueFromJulia[\\\"value\\\"]) ? (WebIO.setval({\\\"name\\\":\\\"value\\\",\\\"scope\\\":\\\"knockout-component-6b4fbbc1-17a1-4e24-8837-be967f2f17fb\\\",\\\"id\\\":\\\"ob_13\\\",\\\"type\\\":\\\"observable\\\"},val)) : undefined; return this.valueFromJulia[\\\"value\\\"]=false}),self)]\\n        \\n    }\\n    self.model = new AppViewModel();\\n    self.valueFromJulia = {};\\n    for (var key in json_data) {\\n        self.valueFromJulia[key] = false;\\n    }\\n    ko.applyBindings(self.model, self.dom);\\n}\\n\")]),\"changes\"=>Any[JSString(\"(function (val){return (val!=this.model[\\\"changes\\\"]()) ? (this.valueFromJulia[\\\"changes\\\"]=true, this.model[\\\"changes\\\"](val)) : undefined})\")],\"value\"=>Any[JSString(\"(function (val){return (val!=this.model[\\\"value\\\"]()) ? (this.valueFromJulia[\\\"value\\\"]=true, this.model[\\\"value\\\"](val)) : undefined})\")]), ConnectionPool(Channel{Any}(sz_max:9223372036854775807,sz_curr:3), Set(AbstractConnection[]), Channel{AbstractConnection}(sz_max:32,sz_curr:0))), SyncCallback(Scope(\"knockout-component-6b4fbbc1-17a1-4e24-8837-be967f2f17fb\", Node{DOM}(DOM(:html, :div), Any[Node{DOM}(DOM(:html, :div), Any[Node{DOM}(DOM(:html, :label), Any[\"N\"], Dict{Symbol,Any}(:className=>\"interact \",:style=>Dict{Any,Any}(:padding=>\"5px 10px 0px 10px\")), 1)], Dict{Symbol,Any}(:attributes=>Dict(\"style\"=>\"text-align:right;width:18%\")), 2), Node{DOM}(DOM(:html, :div), Any[Node{DOM}(DOM(:html, :input), Any[], Dict{Symbol,Any}(:max=>192,:min=>0,:attributes=>Dict{Any,Any}(:type=>\"range\",Symbol(\"data-bind\")=>\"numericValue: value, valueUpdate: 'input', event: {change : function () {this.changes(this.changes()+1)}}\",\"orient\"=>\"horizontal\"),:step=>1,:className=>\"slider slider is-fullwidth\",:style=>Dict{Any,Any}()), 0)], Dict{Symbol,Any}(:attributes=>Dict(\"style\"=>\"flex-grow:1; margin: 0 2%\")), 1), Node{DOM}(DOM(:html, :div), Any[Node{DOM}(DOM(:html, :p), Any[], Dict{Symbol,Any}(:attributes=>Dict(\"data-bind\"=>\"text: value\")), 0)], Dict{Symbol,Any}(:attributes=>Dict(\"style\"=>\"width:18%\")), 1)], Dict{Symbol,Any}(:attributes=>Dict(\"style\"=>\"display:flex; justify-content:center; align-items:center;\")), 7), Dict{String,Tuple{Observables.AbstractObservable,Union{Nothing, Bool}}}(\"changes\"=>(Observable{Int64}(\"ob_14\", 0, Any[SyncCallback(Scope(#= circular reference @-6 =#), SyncCallback(Scope(#= circular reference @-7 =#), ##40#42{Scope,String}(Scope(#= circular reference @-8 =#), \"changes\")))]), nothing),\"value\"=>(Observable{Int64}(#= circular reference @-7 =#), nothing)), Set(String[]), nothing, Any[\"knockout\"=>\"/Users/isenoz/.julia/packages/Knockout/JIqpG/src/../assets/knockout.js\", \"knockout_punches\"=>\"/Users/isenoz/.julia/packages/Knockout/JIqpG/src/../assets/knockout_punches.js\", \"/Users/isenoz/.julia/packages/InteractBase/Q4IkI/src/../assets/all.js\", \"/Users/isenoz/.julia/packages/InteractBase/Q4IkI/src/../assets/style.css\", \"/Users/isenoz/.julia/packages/InteractBulma/Ohu5Y/src/../assets/main.css\"], Dict{Any,Any}(\"_promises\"=>Dict{Any,Any}(\"importsLoaded\"=>Any[JSString(\"function (ko, koPunches) {\\n    ko.punches.enableAll();\\n    ko.bindingHandlers.numericValue = {\\n        init : function(element, valueAccessor, allBindings, data, context) {\\n            var stringified = ko.observable(ko.unwrap(valueAccessor()));\\n            stringified.subscribe(function(value) {\\n                var val = parseFloat(value);\\n                if (!isNaN(val)) {\\n                    valueAccessor()(val);\\n                }\\n            })\\n            valueAccessor().subscribe(function(value) {\\n                var str = JSON.stringify(value);\\n                if ((str == \\\"0\\\") && ([\\\"-0\\\", \\\"-0.\\\"].indexOf(stringified()) >= 0))\\n                     return;\\n                 if ([\\\"null\\\", \\\"\\\"].indexOf(str) >= 0)\\n                     return;\\n                stringified(str);\\n            })\\n            ko.applyBindingsToNode(element, { value: stringified, valueUpdate: allBindings.get('valueUpdate')}, context);\\n        }\\n    };\\n    var json_data = JSON.parse(\\\"{\\\\\\\"changes\\\\\\\":0,\\\\\\\"value\\\\\\\":96}\\\");\\n    var self = this;\\n    function AppViewModel() {\\n        for (var key in json_data) {\\n            var el = json_data[key];\\n            this[key] = Array.isArray(el) ? ko.observableArray(el) : ko.observable(el);\\n        }\\n        \\n        \\n        [this[\\\"changes\\\"].subscribe((function (val){!(this.valueFromJulia[\\\"changes\\\"]) ? (WebIO.setval({\\\"name\\\":\\\"changes\\\",\\\"scope\\\":\\\"knockout-component-6b4fbbc1-17a1-4e24-8837-be967f2f17fb\\\",\\\"id\\\":\\\"ob_14\\\",\\\"type\\\":\\\"observable\\\"},val)) : undefined; return this.valueFromJulia[\\\"changes\\\"]=false}),self),this[\\\"value\\\"].subscribe((function (val){!(this.valueFromJulia[\\\"value\\\"]) ? (WebIO.setval({\\\"name\\\":\\\"value\\\",\\\"scope\\\":\\\"knockout-component-6b4fbbc1-17a1-4e24-8837-be967f2f17fb\\\",\\\"id\\\":\\\"ob_13\\\",\\\"type\\\":\\\"observable\\\"},val)) : undefined; return this.valueFromJulia[\\\"value\\\"]=false}),self)]\\n        \\n    }\\n    self.model = new AppViewModel();\\n    self.valueFromJulia = {};\\n    for (var key in json_data) {\\n        self.valueFromJulia[key] = false;\\n    }\\n    ko.applyBindings(self.model, self.dom);\\n}\\n\")]),\"changes\"=>Any[JSString(\"(function (val){return (val!=this.model[\\\"changes\\\"]()) ? (this.valueFromJulia[\\\"changes\\\"]=true, this.model[\\\"changes\\\"](val)) : undefined})\")],\"value\"=>Any[JSString(\"(function (val){return (val!=this.model[\\\"value\\\"]()) ? (this.valueFromJulia[\\\"value\\\"]=true, this.model[\\\"value\\\"](val)) : undefined})\")]), ConnectionPool(Channel{Any}(sz_max:9223372036854775807,sz_curr:3), Set(AbstractConnection[]), Channel{AbstractConnection}(sz_max:32,sz_curr:0))), ##40#42{Scope,String}(Scope(\"knockout-component-6b4fbbc1-17a1-4e24-8837-be967f2f17fb\", Node{DOM}(DOM(:html, :div), Any[Node{DOM}(DOM(:html, :div), Any[Node{DOM}(DOM(:html, :label), Any[\"N\"], Dict{Symbol,Any}(:className=>\"interact \",:style=>Dict{Any,Any}(:padding=>\"5px 10px 0px 10px\")), 1)], Dict{Symbol,Any}(:attributes=>Dict(\"style\"=>\"text-align:right;width:18%\")), 2), Node{DOM}(DOM(:html, :div), Any[Node{DOM}(DOM(:html, :input), Any[], Dict{Symbol,Any}(:max=>192,:min=>0,:attributes=>Dict{Any,Any}(:type=>\"range\",Symbol(\"data-bind\")=>\"numericValue: value, valueUpdate: 'input', event: {change : function () {this.changes(this.changes()+1)}}\",\"orient\"=>\"horizontal\"),:step=>1,:className=>\"slider slider is-fullwidth\",:style=>Dict{Any,Any}()), 0)], Dict{Symbol,Any}(:attributes=>Dict(\"style\"=>\"flex-grow:1; margin: 0 2%\")), 1), Node{DOM}(DOM(:html, :div), Any[Node{DOM}(DOM(:html, :p), Any[], Dict{Symbol,Any}(:attributes=>Dict(\"data-bind\"=>\"text: value\")), 0)], Dict{Symbol,Any}(:attributes=>Dict(\"style\"=>\"width:18%\")), 1)], Dict{Symbol,Any}(:attributes=>Dict(\"style\"=>\"display:flex; justify-content:center; align-items:center;\")), 7), Dict{String,Tuple{Observables.AbstractObservable,Union{Nothing, Bool}}}(\"changes\"=>(Observable{Int64}(\"ob_14\", 0, Any[SyncCallback(Scope(#= circular reference @-6 =#), SyncCallback(Scope(#= circular reference @-7 =#), ##40#42{Scope,String}(Scope(#= circular reference @-8 =#), \"changes\")))]), nothing),\"value\"=>(Observable{Int64}(#= circular reference @-8 =#), nothing)), Set(String[]), nothing, Any[\"knockout\"=>\"/Users/isenoz/.julia/packages/Knockout/JIqpG/src/../assets/knockout.js\", \"knockout_punches\"=>\"/Users/isenoz/.julia/packages/Knockout/JIqpG/src/../assets/knockout_punches.js\", \"/Users/isenoz/.julia/packages/InteractBase/Q4IkI/src/../assets/all.js\", \"/Users/isenoz/.julia/packages/InteractBase/Q4IkI/src/../assets/style.css\", \"/Users/isenoz/.julia/packages/InteractBulma/Ohu5Y/src/../assets/main.css\"], Dict{Any,Any}(\"_promises\"=>Dict{Any,Any}(\"importsLoaded\"=>Any[JSString(\"function (ko, koPunches) {\\n    ko.punches.enableAll();\\n    ko.bindingHandlers.numericValue = {\\n        init : function(element, valueAccessor, allBindings, data, context) {\\n            var stringified = ko.observable(ko.unwrap(valueAccessor()));\\n            stringified.subscribe(function(value) {\\n                var val = parseFloat(value);\\n                if (!isNaN(val)) {\\n                    valueAccessor()(val);\\n                }\\n            })\\n            valueAccessor().subscribe(function(value) {\\n                var str = JSON.stringify(value);\\n                if ((str == \\\"0\\\") && ([\\\"-0\\\", \\\"-0.\\\"].indexOf(stringified()) >= 0))\\n                     return;\\n                 if ([\\\"null\\\", \\\"\\\"].indexOf(str) >= 0)\\n                     return;\\n                stringified(str);\\n            })\\n            ko.applyBindingsToNode(element, { value: stringified, valueUpdate: allBindings.get('valueUpdate')}, context);\\n        }\\n    };\\n    var json_data = JSON.parse(\\\"{\\\\\\\"changes\\\\\\\":0,\\\\\\\"value\\\\\\\":96}\\\");\\n    var self = this;\\n    function AppViewModel() {\\n        for (var key in json_data) {\\n            var el = json_data[key];\\n            this[key] = Array.isArray(el) ? ko.observableArray(el) : ko.observable(el);\\n        }\\n        \\n        \\n        [this[\\\"changes\\\"].subscribe((function (val){!(this.valueFromJulia[\\\"changes\\\"]) ? (WebIO.setval({\\\"name\\\":\\\"changes\\\",\\\"scope\\\":\\\"knockout-component-6b4fbbc1-17a1-4e24-8837-be967f2f17fb\\\",\\\"id\\\":\\\"ob_14\\\",\\\"type\\\":\\\"observable\\\"},val)) : undefined; return this.valueFromJulia[\\\"changes\\\"]=false}),self),this[\\\"value\\\"].subscribe((function (val){!(this.valueFromJulia[\\\"value\\\"]) ? (WebIO.setval({\\\"name\\\":\\\"value\\\",\\\"scope\\\":\\\"knockout-component-6b4fbbc1-17a1-4e24-8837-be967f2f17fb\\\",\\\"id\\\":\\\"ob_13\\\",\\\"type\\\":\\\"observable\\\"},val)) : undefined; return this.valueFromJulia[\\\"value\\\"]=false}),self)]\\n        \\n    }\\n    self.model = new AppViewModel();\\n    self.valueFromJulia = {};\\n    for (var key in json_data) {\\n        self.valueFromJulia[key] = false;\\n    }\\n    ko.applyBindings(self.model, self.dom);\\n}\\n\")]),\"changes\"=>Any[JSString(\"(function (val){return (val!=this.model[\\\"changes\\\"]()) ? (this.valueFromJulia[\\\"changes\\\"]=true, this.model[\\\"changes\\\"](val)) : undefined})\")],\"value\"=>Any[JSString(\"(function (val){return (val!=this.model[\\\"value\\\"]()) ? (this.valueFromJulia[\\\"value\\\"]=true, this.model[\\\"value\\\"](val)) : undefined})\")]), ConnectionPool(Channel{Any}(sz_max:9223372036854775807,sz_curr:3), Set(AbstractConnection[]), Channel{AbstractConnection}(sz_max:32,sz_curr:0))), \"value\"))), #g#15{##16#17{##23#26,Observable{Any}},Tuple{Observable{Int64}}}(##16#17{##23#26,Observable{Any}}(##23#26(), Observable{Any}(\"ob_15\", Figure(PyObject <Figure size 640x480 with 1 Axes>), Any[])), (Observable{Int64}(#= circular reference @-4 =#),))]), Scope(\"knockout-component-6b4fbbc1-17a1-4e24-8837-be967f2f17fb\", Node{DOM}(DOM(:html, :div), Any[Node{DOM}(DOM(:html, :div), Any[Node{DOM}(DOM(:html, :label), Any[\"N\"], Dict{Symbol,Any}(:className=>\"interact \",:style=>Dict{Any,Any}(:padding=>\"5px 10px 0px 10px\")), 1)], Dict{Symbol,Any}(:attributes=>Dict(\"style\"=>\"text-align:right;width:18%\")), 2), Node{DOM}(DOM(:html, :div), Any[Node{DOM}(DOM(:html, :input), Any[], Dict{Symbol,Any}(:max=>192,:min=>0,:attributes=>Dict{Any,Any}(:type=>\"range\",Symbol(\"data-bind\")=>\"numericValue: value, valueUpdate: 'input', event: {change : function () {this.changes(this.changes()+1)}}\",\"orient\"=>\"horizontal\"),:step=>1,:className=>\"slider slider is-fullwidth\",:style=>Dict{Any,Any}()), 0)], Dict{Symbol,Any}(:attributes=>Dict(\"style\"=>\"flex-grow:1; margin: 0 2%\")), 1), Node{DOM}(DOM(:html, :div), Any[Node{DOM}(DOM(:html, :p), Any[], Dict{Symbol,Any}(:attributes=>Dict(\"data-bind\"=>\"text: value\")), 0)], Dict{Symbol,Any}(:attributes=>Dict(\"style\"=>\"width:18%\")), 1)], Dict{Symbol,Any}(:attributes=>Dict(\"style\"=>\"display:flex; justify-content:center; align-items:center;\")), 7), Dict{String,Tuple{Observables.AbstractObservable,Union{Nothing, Bool}}}(\"changes\"=>(Observable{Int64}(\"ob_14\", 0, Any[SyncCallback(Scope(#= circular reference @-6 =#), SyncCallback(Scope(#= circular reference @-7 =#), ##40#42{Scope,String}(Scope(#= circular reference @-8 =#), \"changes\")))]), nothing),\"value\"=>(Observable{Int64}(\"ob_13\", 96, Any[SyncCallback(Scope(#= circular reference @-6 =#), SyncCallback(Scope(#= circular reference @-7 =#), ##40#42{Scope,String}(Scope(#= circular reference @-8 =#), \"value\"))), #g#15{##16#17{##23#26,Observable{Any}},Tuple{Observable{Int64}}}(##16#17{##23#26,Observable{Any}}(##23#26(), Observable{Any}(\"ob_15\", Figure(PyObject <Figure size 640x480 with 1 Axes>), Any[])), (Observable{Int64}(#= circular reference @-4 =#),))]), nothing)), Set(String[]), nothing, Any[\"knockout\"=>\"/Users/isenoz/.julia/packages/Knockout/JIqpG/src/../assets/knockout.js\", \"knockout_punches\"=>\"/Users/isenoz/.julia/packages/Knockout/JIqpG/src/../assets/knockout_punches.js\", \"/Users/isenoz/.julia/packages/InteractBase/Q4IkI/src/../assets/all.js\", \"/Users/isenoz/.julia/packages/InteractBase/Q4IkI/src/../assets/style.css\", \"/Users/isenoz/.julia/packages/InteractBulma/Ohu5Y/src/../assets/main.css\"], Dict{Any,Any}(\"_promises\"=>Dict{Any,Any}(\"importsLoaded\"=>Any[JSString(\"function (ko, koPunches) {\\n    ko.punches.enableAll();\\n    ko.bindingHandlers.numericValue = {\\n        init : function(element, valueAccessor, allBindings, data, context) {\\n            var stringified = ko.observable(ko.unwrap(valueAccessor()));\\n            stringified.subscribe(function(value) {\\n                var val = parseFloat(value);\\n                if (!isNaN(val)) {\\n                    valueAccessor()(val);\\n                }\\n            })\\n            valueAccessor().subscribe(function(value) {\\n                var str = JSON.stringify(value);\\n                if ((str == \\\"0\\\") && ([\\\"-0\\\", \\\"-0.\\\"].indexOf(stringified()) >= 0))\\n                     return;\\n                 if ([\\\"null\\\", \\\"\\\"].indexOf(str) >= 0)\\n                     return;\\n                stringified(str);\\n            })\\n            ko.applyBindingsToNode(element, { value: stringified, valueUpdate: allBindings.get('valueUpdate')}, context);\\n        }\\n    };\\n    var json_data = JSON.parse(\\\"{\\\\\\\"changes\\\\\\\":0,\\\\\\\"value\\\\\\\":96}\\\");\\n    var self = this;\\n    function AppViewModel() {\\n        for (var key in json_data) {\\n            var el = json_data[key];\\n            this[key] = Array.isArray(el) ? ko.observableArray(el) : ko.observable(el);\\n        }\\n        \\n        \\n        [this[\\\"changes\\\"].subscribe((function (val){!(this.valueFromJulia[\\\"changes\\\"]) ? (WebIO.setval({\\\"name\\\":\\\"changes\\\",\\\"scope\\\":\\\"knockout-component-6b4fbbc1-17a1-4e24-8837-be967f2f17fb\\\",\\\"id\\\":\\\"ob_14\\\",\\\"type\\\":\\\"observable\\\"},val)) : undefined; return this.valueFromJulia[\\\"changes\\\"]=false}),self),this[\\\"value\\\"].subscribe((function (val){!(this.valueFromJulia[\\\"value\\\"]) ? (WebIO.setval({\\\"name\\\":\\\"value\\\",\\\"scope\\\":\\\"knockout-component-6b4fbbc1-17a1-4e24-8837-be967f2f17fb\\\",\\\"id\\\":\\\"ob_13\\\",\\\"type\\\":\\\"observable\\\"},val)) : undefined; return this.valueFromJulia[\\\"value\\\"]=false}),self)]\\n        \\n    }\\n    self.model = new AppViewModel();\\n    self.valueFromJulia = {};\\n    for (var key in json_data) {\\n        self.valueFromJulia[key] = false;\\n    }\\n    ko.applyBindings(self.model, self.dom);\\n}\\n\")]),\"changes\"=>Any[JSString(\"(function (val){return (val!=this.model[\\\"changes\\\"]()) ? (this.valueFromJulia[\\\"changes\\\"]=true, this.model[\\\"changes\\\"](val)) : undefined})\")],\"value\"=>Any[JSString(\"(function (val){return (val!=this.model[\\\"value\\\"]()) ? (this.valueFromJulia[\\\"value\\\"]=true, this.model[\\\"value\\\"](val)) : undefined})\")]), ConnectionPool(Channel{Any}(sz_max:9223372036854775807,sz_curr:3), Set(AbstractConnection[]), Channel{AbstractConnection}(sz_max:32,sz_curr:0))), ##52#53{#dom#15{##dom#13#14{Dict{Any,Any},DOM}},typeof(scope)}(#dom#15{##dom#13#14{Dict{Any,Any},DOM}}(##dom#13#14{Dict{Any,Any},DOM}(Dict{Any,Any}(:className=>\"field\"), DOM(:html, :div))), scope))), Observable{Any}(\"ob_15\", Figure(PyObject <Figure size 640x480 with 1 Axes>), Any[]), nothing, getfield(Main, Symbol(\"##25#28\")){Observable{Any}}(Observable{Any}(\"ob_15\", Figure(PyObject <Figure size 640x480 with 1 Axes>), Any[])))"
      ]
     },
     "execution_count": 9,
     "metadata": {},
     "output_type": "execute_result"
    }
   ],
   "source": [
    "using Reactive, Interact, PyPlot, Distributions\n",
    "f = figure()\n",
    "range_grid = range(0.0, stop=1.0, length=100)\n",
    "μ = 0.4\n",
    "samples = rand(192) .<= μ # Flip 192 coins\n",
    "@manipulate for N=0:1:192; withfig(f) do\n",
    "        n = sum(samples[1:N]) # Count number of heads in first N flips\n",
    "        posterior1 = Beta(1+n, 1+(N-n))\n",
    "        posterior2 = Beta(5+n, 5+(N-n))\n",
    "        plot(range_grid, pdf.(posterior1,range_grid), \"k-\")\n",
    "        plot(range_grid, pdf.(posterior2,range_grid), \"k--\")\n",
    "        xlabel(L\"\\mu\"); ylabel(L\"p(\\mu|\\mathcal{D})\"); grid()\n",
    "        title(L\"p(\\mu|\\mathcal{D})\"*\" for N=$(N), n=$(n) (real \\$\\\\mu\\$=$(μ))\")\n",
    "        legend([\"Based on uniform prior \"*L\"B(1,1)\",\"Based on prior \"*L\"B(5,5)\"], loc=4)\n",
    "    end\n",
    "end"
   ]
  },
  {
   "cell_type": "markdown",
   "metadata": {
    "slideshow": {
     "slide_type": "fragment"
    }
   },
   "source": [
    "$\\Rightarrow$ With more data, the relevance of the prior diminishes!\n"
   ]
  },
  {
   "cell_type": "markdown",
   "metadata": {
    "slideshow": {
     "slide_type": "slide"
    }
   },
   "source": [
    "### From Posterior to Point-Estimate\n",
    "\n",
    "- Sometimes we want just one 'best' parameter (vector), rather than a posterior distribution over parameters. Why?"
   ]
  },
  {
   "cell_type": "markdown",
   "metadata": {
    "slideshow": {
     "slide_type": "fragment"
    }
   },
   "source": [
    "- Recall Bayesian prediction\n",
    "\n",
    "$$\n",
    "p(x|D) = \\int p(x|\\theta)p(\\theta|D)\\,\\mathrm{d}{\\theta}\n",
    "$$"
   ]
  },
  {
   "cell_type": "markdown",
   "metadata": {
    "slideshow": {
     "slide_type": "fragment"
    }
   },
   "source": [
    "- If we approximate posterior $p(\\theta|D)$ by a delta function for one 'best' value $\\hat\\theta$, then the predictive distribution collapses to\n",
    "\n",
    "$$\n",
    "p(x|D)= \\int p(x|\\theta)\\,\\delta(\\theta-\\hat\\theta)\\,\\mathrm{d}{\\theta} = p(x|\\hat\\theta)\n",
    "$$"
   ]
  },
  {
   "cell_type": "markdown",
   "metadata": {
    "slideshow": {
     "slide_type": "fragment"
    }
   },
   "source": [
    "- This is the model $p(x|\\theta)$ evaluated at $\\theta=\\hat\\theta$."
   ]
  },
  {
   "cell_type": "markdown",
   "metadata": {
    "slideshow": {
     "slide_type": "fragment"
    }
   },
   "source": [
    "- Note that $p(x|\\hat\\theta)$ is much easier to evaluate than the integral for full Bayesian prediction."
   ]
  },
  {
   "cell_type": "markdown",
   "metadata": {
    "slideshow": {
     "slide_type": "subslide"
    }
   },
   "source": [
    "### Some Well-known Point-Estimates\n",
    "\n",
    "- **Bayes estimate**\n",
    "\n",
    "$$\n",
    "\\hat \\theta_{bayes}  = \\int \\theta \\, p\\left( \\theta |D \\right)\n",
    "\\,\\mathrm{d}{\\theta}\n",
    "$$\n",
    "  - (homework). Proof that the Bayes estimate minimizes the expected mean-square error, i.e., proof that\n",
    "\n",
    "$$\n",
    "\\hat \\theta_{bayes} = \\arg\\min_{\\hat \\theta} \\int_\\theta (\\hat \\theta -\\theta)^2 p \\left( \\theta |D \\right) \\,\\mathrm{d}{\\theta}\n",
    "$$"
   ]
  },
  {
   "cell_type": "markdown",
   "metadata": {
    "slideshow": {
     "slide_type": "fragment"
    }
   },
   "source": [
    "- **Maximum A Posteriori** (MAP) estimate \n",
    "$$\n",
    "\\hat \\theta_{\\text{map}}=  \\arg\\max _{\\theta} p\\left( \\theta |D \\right) =\n",
    "\\arg \\max_{\\theta}  p\\left(D |\\theta \\right) \\, p\\left(\\theta \\right)\n",
    "$$"
   ]
  },
  {
   "cell_type": "markdown",
   "metadata": {
    "slideshow": {
     "slide_type": "fragment"
    }
   },
   "source": [
    "- **Maximum Likelihood** (ML) estimate\n",
    "$$\n",
    "\\hat \\theta_{ml}  = \\arg \\max_{\\theta}  p\\left(D |\\theta\\right)\n",
    "$$\n",
    "  - Note that Maximum Likelihood is MAP with uniform prior"
   ]
  },
  {
   "cell_type": "markdown",
   "metadata": {
    "slideshow": {
     "slide_type": "slide"
    }
   },
   "source": [
    "### Bayesian vs Maximum Likelihood Learning\n",
    "\n",
    "Consider the task: predict a datum $x$ from an observed data set $D$.\n",
    "\n",
    "<table>\n",
    "<tr><td></td><td style=\"text-align:center\"> <b>Bayesian</b></td><td style=\"text-align:center\"> <b>Maximum Likelihood </b></td></tr>\n",
    "<tr><td>1. <b>Model Specification</b></td><td>Choose a model $m$ with data generating distribution $p(x|\\theta,m)$ and parameter prior $p(\\theta|m)$</td><td>Choose a model $m$ with same data generating distribution $p(x|\\theta,m)$. No need for priors.</td></tr>\n",
    "<tr><td>2. <b>Learning</b></td><td>use Bayes rule to find the parameter posterior,\n",
    "$$\n",
    "p(\\theta|D) = \\propto p(D|\\theta) p(\\theta)\n",
    "$$  </td><td>By Maximum Likelihood (ML) optimization,\n",
    "$$ \n",
    "    \\hat \\theta  = \\arg \\max_{\\theta}  p(D |\\theta)\n",
    "$$</td></tr>\n",
    "<tr><td>3. <b>Prediction</b></td><td>$$\n",
    "p(x|D) = \\int p(x|\\theta) p(\\theta|D) \\,\\mathrm{d}\\theta\n",
    "$$</td><td>\n",
    "$$ \n",
    "    p(x|D) =  p(x|\\hat\\theta)\n",
    "$$</td></tr>\n",
    "</table>"
   ]
  },
  {
   "cell_type": "markdown",
   "metadata": {
    "slideshow": {
     "slide_type": "slide"
    }
   },
   "source": [
    "### Report Card on Maximum Likelihood Estimation\n",
    "\n",
    "- Maximum Likelihood (ML) is MAP with uniform prior, or MAP is 'penalized' ML\n",
    "$$\n",
    "\\hat \\theta_{map}  = \\arg \\max _\\theta  \\{ \\overbrace{\\log\n",
    "p\\left( D|\\theta  \\right)}^{\\mbox{log-likelihood}} + \\overbrace{\\log\n",
    "p\\left( \\theta \\right)}^{\\mbox{penalty}} \\}\n",
    "$$"
   ]
  },
  {
   "cell_type": "markdown",
   "metadata": {
    "slideshow": {
     "slide_type": "fragment"
    }
   },
   "source": [
    "- (good!). Works rather well if we have a lot of data because the influence of the prior diminishes with more data."
   ]
  },
  {
   "cell_type": "markdown",
   "metadata": {
    "slideshow": {
     "slide_type": "fragment"
    }
   },
   "source": [
    "- (bad). Cannot be used for model comparison. E.g. best model does generally not correspond to largest likelihood (see part-2, Tjalkens)."
   ]
  },
  {
   "cell_type": "markdown",
   "metadata": {
    "slideshow": {
     "slide_type": "fragment"
    }
   },
   "source": [
    "- (good). Computationally often do-able. Useful fact (since $\\log$ is monotonously increasing):\n",
    "$$\\arg\\max_\\theta \\log p(D|\\theta) =  \\arg\\max_\\theta p(D|\\theta)$$"
   ]
  },
  {
   "cell_type": "markdown",
   "metadata": {
    "slideshow": {
     "slide_type": "fragment"
    }
   },
   "source": [
    "$\\Rightarrow$ **ML estimation is an approximation to Bayesian learning**, but for good reason a very popular learning method when faced with lots of available data."
   ]
  },
  {
   "cell_type": "markdown",
   "metadata": {
    "slideshow": {
     "slide_type": "skip"
    }
   },
   "source": [
    "---\n",
    "The cell below loads the style file"
   ]
  },
  {
   "cell_type": "code",
   "execution_count": 2,
   "metadata": {
    "slideshow": {
     "slide_type": "skip"
    }
   },
   "outputs": [
    {
     "data": {
      "text/html": [
       "<!--\n",
       "This HTML file contains custom styles and some javascript.\n",
       "Include it a Jupyter notebook for improved rendering.\n",
       "-->\n",
       "\n",
       "<!-- Fonts -->\n",
       "<link href='http://fonts.googleapis.com/css?family=Alegreya+Sans:100,300,400,500,700,800,900,100italic,300italic,400italic,500italic,700italic,800italic,900italic' rel='stylesheet' type='text/css'>\n",
       "<link href='http://fonts.googleapis.com/css?family=Arvo:400,700,400italic' rel='stylesheet' type='text/css'>\n",
       "<link href='http://fonts.googleapis.com/css?family=PT+Mono' rel='stylesheet' type='text/css'>\n",
       "<link href='http://fonts.googleapis.com/css?family=Shadows+Into+Light' rel='stylesheet' type='text/css'>\n",
       "<link href='http://fonts.googleapis.com/css?family=Nixie+One' rel='stylesheet' type='text/css'>\n",
       "\n",
       "<!-- Custom style -->\n",
       "<style>\n",
       "\n",
       "@font-face {\n",
       "    font-family: \"Computer Modern\";\n",
       "    src: url('http://mirrors.ctan.org/fonts/cm-unicode/fonts/otf/cmunss.otf');\n",
       "}\n",
       "\n",
       "#notebook_panel { /* main background */\n",
       "    background: rgb(245,245,245);\n",
       "}\n",
       "\n",
       "div.container {\n",
       "    min-width: 960px;\n",
       "}\n",
       "\n",
       "div #notebook { /* centre the content */\n",
       "    background: #fff; /* white background for content */\n",
       "    margin: auto;\n",
       "    padding-left: 0em;\n",
       "}\n",
       "\n",
       "#notebook li { /* More space between bullet points */\n",
       "    margin-top:0.8em;\n",
       "}\n",
       "\n",
       "/* draw border around running cells */\n",
       "div.cell.border-box-sizing.code_cell.running {\n",
       "    border: 1px solid #111;\n",
       "}\n",
       "\n",
       "/* Put a solid color box around each cell and its output, visually linking them*/\n",
       "div.cell.code_cell {\n",
       "    background-color: rgb(256,256,256);\n",
       "    border-radius: 0px;\n",
       "    padding: 0.5em;\n",
       "    margin-left:1em;\n",
       "    margin-top: 1em;\n",
       "}\n",
       "\n",
       "div.text_cell_render{\n",
       "    font-family: 'Alegreya Sans' sans-serif;\n",
       "    line-height: 140%;\n",
       "    font-size: 125%;\n",
       "    font-weight: 400;\n",
       "    width:800px;\n",
       "    margin-left:auto;\n",
       "    margin-right:auto;\n",
       "}\n",
       "\n",
       "\n",
       "/* Formatting for header cells */\n",
       ".text_cell_render h1 {\n",
       "    font-family: 'Nixie One', serif;\n",
       "    font-style:regular;\n",
       "    font-weight: 400;\n",
       "    font-size: 45pt;\n",
       "    line-height: 100%;\n",
       "    color: rgb(0,51,102);\n",
       "    margin-bottom: 0.5em;\n",
       "    margin-top: 0.5em;\n",
       "    display: block;\n",
       "}\n",
       "\n",
       ".text_cell_render h2 {\n",
       "    font-family: 'Nixie One', serif;\n",
       "    font-weight: 400;\n",
       "    font-size: 30pt;\n",
       "    line-height: 100%;\n",
       "    color: rgb(0,51,102);\n",
       "    margin-bottom: 0.1em;\n",
       "    margin-top: 0.3em;\n",
       "    display: block;\n",
       "}\n",
       "\n",
       ".text_cell_render h3 {\n",
       "    font-family: 'Nixie One', serif;\n",
       "    margin-top:16px;\n",
       "    font-size: 22pt;\n",
       "    font-weight: 600;\n",
       "    margin-bottom: 3px;\n",
       "    font-style: regular;\n",
       "    color: rgb(102,102,0);\n",
       "}\n",
       "\n",
       ".text_cell_render h4 {    /*Use this for captions*/\n",
       "    font-family: 'Nixie One', serif;\n",
       "    font-size: 14pt;\n",
       "    text-align: center;\n",
       "    margin-top: 0em;\n",
       "    margin-bottom: 2em;\n",
       "    font-style: regular;\n",
       "}\n",
       "\n",
       ".text_cell_render h5 {  /*Use this for small titles*/\n",
       "    font-family: 'Nixie One', sans-serif;\n",
       "    font-weight: 400;\n",
       "    font-size: 16pt;\n",
       "    color: rgb(163,0,0);\n",
       "    font-style: italic;\n",
       "    margin-bottom: .1em;\n",
       "    margin-top: 0.8em;\n",
       "    display: block;\n",
       "}\n",
       "\n",
       ".text_cell_render h6 { /*use this for copyright note*/\n",
       "    font-family: 'PT Mono', sans-serif;\n",
       "    font-weight: 300;\n",
       "    font-size: 9pt;\n",
       "    line-height: 100%;\n",
       "    color: grey;\n",
       "    margin-bottom: 1px;\n",
       "    margin-top: 1px;\n",
       "}\n",
       "\n",
       ".CodeMirror{\n",
       "    font-family: \"PT Mono\";\n",
       "    font-size: 90%;\n",
       "}\n",
       "\n",
       ".boxed { /* draw a border around a piece of text */\n",
       "  border: 1px solid blue ;\n",
       "}\n",
       "\n",
       "h4#CODE-EXAMPLE,\n",
       "h4#END-OF-CODE-EXAMPLE {\n",
       "    margin: 10px 0;\n",
       "    padding: 10px;\n",
       "    background-color: #d0f9ca !important;\n",
       "    border-top: #849f81 1px solid;\n",
       "    border-bottom: #849f81 1px solid;\n",
       "}\n",
       "\n",
       ".emphasis {\n",
       "    color: red;\n",
       "}\n",
       "\n",
       ".exercise {\n",
       "    color: green;\n",
       "}\n",
       "\n",
       ".proof {\n",
       "    color: blue;\n",
       "}\n",
       "\n",
       "code {\n",
       "  padding: 2px 4px !important;\n",
       "  font-size: 90% !important;\n",
       "  color: #222 !important;\n",
       "  background-color: #efefef !important;\n",
       "  border-radius: 2px !important;\n",
       "}\n",
       "\n",
       "/* This removes the actual style cells from the notebooks, but no in print mode\n",
       "   as they will be removed through some other method */\n",
       "@media not print {\n",
       "  .cell:nth-last-child(-n+2) {\n",
       "    display: none;\n",
       "  }\n",
       "}\n",
       "\n",
       "</style>\n",
       "\n",
       "<!-- MathJax styling -->\n",
       "<script>\n",
       "    MathJax.Hub.Config({\n",
       "                        TeX: {\n",
       "                           extensions: [\"AMSmath.js\"],\n",
       "                           equationNumbers: { autoNumber: \"AMS\", useLabelIds: true}\n",
       "                           },\n",
       "                tex2jax: {\n",
       "                    inlineMath: [ ['$','$'], [\"\\\\(\",\"\\\\)\"] ],\n",
       "                    displayMath: [ ['$$','$$'], [\"\\\\[\",\"\\\\]\"] ]\n",
       "                },\n",
       "                displayAlign: 'center', // Change this to 'center' to center equations.\n",
       "                \"HTML-CSS\": {\n",
       "                    styles: {'.MathJax_Display': {\"margin\": 4}}\n",
       "                }\n",
       "        });\n",
       "</script>\n"
      ]
     },
     "metadata": {},
     "output_type": "display_data"
    },
    {
     "name": "stderr",
     "output_type": "stream",
     "text": [
      "┌ Warning: `readstring(s::IO)` is deprecated, use `read(s, String)` instead.\n",
      "│   caller = #3 at In[2]:1 [inlined]\n",
      "└ @ Core ./In[2]:1\n"
     ]
    }
   ],
   "source": [
    "open(\"../../styles/aipstyle.html\") do f display(\"text/html\", readstring(f)) end"
   ]
  },
  {
   "cell_type": "code",
   "execution_count": null,
   "metadata": {},
   "outputs": [],
   "source": []
  }
 ],
 "metadata": {
  "anaconda-cloud": {},
  "celltoolbar": "Slideshow",
  "kernelspec": {
   "display_name": "Julia 0.7.0",
   "language": "julia",
   "name": "julia-0.7"
  },
  "language_info": {
   "file_extension": ".jl",
   "mimetype": "application/julia",
   "name": "julia",
   "version": "0.7.0"
  }
 },
 "nbformat": 4,
 "nbformat_minor": 1
}
