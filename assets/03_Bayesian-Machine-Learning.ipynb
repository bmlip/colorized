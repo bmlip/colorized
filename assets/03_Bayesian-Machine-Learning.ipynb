{
 "cells": [
  {
   "cell_type": "markdown",
   "metadata": {
    "slideshow": {
     "slide_type": "slide"
    }
   },
   "source": [
    "# Bayesian Machine Learning"
   ]
  },
  {
   "cell_type": "markdown",
   "metadata": {
    "slideshow": {
     "slide_type": "slide"
    }
   },
   "source": [
    "### Preliminaries\n",
    "\n",
    "- Goals\n",
    "  - Introduction to Bayesian (i.e., probabilistic) modeling\n",
    "- Materials\n",
    "  - Mandatory\n",
    "    - These lecture notes\n",
    "  - Optional\n",
    "    - Bishop pp. 21-24   "
   ]
  },
  {
   "cell_type": "markdown",
   "metadata": {
    "slideshow": {
     "slide_type": "slide"
    }
   },
   "source": [
    "### Example Problem: Predicting a Coin Toss\n",
    "\n",
    "- **Question**. We observe a the following sequence of heads (h) and tails (t) when tossing the same coin repeatedly $$D=\\{hthhtth\\}\\,.$$\n",
    "\n",
    "- What is the probability that heads (h) comes up next?"
   ]
  },
  {
   "cell_type": "markdown",
   "metadata": {
    "slideshow": {
     "slide_type": "fragment"
    }
   },
   "source": [
    "- **Answer** later in this lecture. "
   ]
  },
  {
   "cell_type": "markdown",
   "metadata": {
    "slideshow": {
     "slide_type": "slide"
    }
   },
   "source": [
    "### The Bayesian Machine Learning Framework\n",
    "\n",
    "- Suppose that your task is to predict a 'new' datum $x$, based on $N$  observations $D=\\{x_1,\\dotsc,x_N\\}$."
   ]
  },
  {
   "cell_type": "markdown",
   "metadata": {
    "slideshow": {
     "slide_type": "fragment"
    }
   },
   "source": [
    "- The Bayesian approach for this task involves three stages: \n",
    "  1. Model specification\n",
    "  1. parameter estimation (inference, learning)\n",
    "  1. Prediction (apply the model)"
   ]
  },
  {
   "cell_type": "markdown",
   "metadata": {
    "slideshow": {
     "slide_type": "fragment"
    }
   },
   "source": [
    "  \n",
    "- Next, we discuss these three stages in a bit more detail."
   ]
  },
  {
   "cell_type": "markdown",
   "metadata": {
    "slideshow": {
     "slide_type": "slide"
    }
   },
   "source": [
    "### (1) Model specification\n",
    "\n",
    "Your first task is to propose a model with tuning parameters $\\theta$ for generating the data $D$."
   ]
  },
  {
   "cell_type": "markdown",
   "metadata": {
    "slideshow": {
     "slide_type": "fragment"
    }
   },
   "source": [
    "- This involves specification of $p(D|\\theta)$ and a prior for the parameters $p(\\theta)$."
   ]
  },
  {
   "cell_type": "markdown",
   "metadata": {
    "slideshow": {
     "slide_type": "fragment"
    }
   },
   "source": [
    "- _You_ choose the distribution $p(D|\\theta)$ based on your physical understanding of the data generating process.\n",
    "    - Note that, for independent observations $x_n$,\n",
    "$$ p(D|\\theta) = \\prod_{n=1}^N p(x_n|\\theta)$$\n",
    "so usually you select a model for generating one observation $x_n$ and then use (in-)dependence assumptions to combine these models into a model for $D$. "
   ]
  },
  {
   "cell_type": "markdown",
   "metadata": {
    "slideshow": {
     "slide_type": "fragment"
    }
   },
   "source": [
    "- _You_ choose the prior $p(\\theta)$ to reflect what you know about the parameter values before you see the data $D$.\n",
    "  "
   ]
  },
  {
   "cell_type": "markdown",
   "metadata": {
    "slideshow": {
     "slide_type": "slide"
    }
   },
   "source": [
    "### (2) Parameter estimation\n",
    "\n",
    "- After model specification, you need to measure/collect a data set $D$. Then, use Bayes rule to find the posterior distribution for the parameters,\n",
    "$$\n",
    "p(\\theta|D) = \\frac{p(D|\\theta) p(\\theta)}{p(D)} \\propto p(D|\\theta) p(\\theta)\n",
    "$$  "
   ]
  },
  {
   "cell_type": "markdown",
   "metadata": {
    "slideshow": {
     "slide_type": "fragment"
    }
   },
   "source": [
    "- Note that there's **no need for you to design a _smart_ parameter estimation algorithm**. The only complexity lies in the computational issues.  "
   ]
  },
  {
   "cell_type": "markdown",
   "metadata": {
    "slideshow": {
     "slide_type": "fragment"
    }
   },
   "source": [
    "- This \"recipe\" works only if the RHS factors can be evaluated; this is what machine learning is about     \n",
    "  $\\Rightarrow$ **Machine learning is easy, apart from computational details:)**\n",
    "  "
   ]
  },
  {
   "cell_type": "markdown",
   "metadata": {
    "slideshow": {
     "slide_type": "slide"
    }
   },
   "source": [
    "### (3) Prediction\n",
    "\n",
    "- Given the data $D$, our knowledge about the yet unobserved datum $x$ is captured by\n",
    "$$\\begin{align*}\n",
    "p(x|D) &= \\int p(x,\\theta|D) \\,\\mathrm{d}\\theta\\\\\n",
    " &= \\int p(x|\\theta,D) p(\\theta|D) \\,\\mathrm{d}\\theta\\\\\n",
    " &= \\int p(x|\\theta) p(\\theta|D) \\,\\mathrm{d}\\theta\\\\\n",
    "\\end{align*}$$"
   ]
  },
  {
   "cell_type": "markdown",
   "metadata": {
    "slideshow": {
     "slide_type": "fragment"
    }
   },
   "source": [
    "- Again, **no need to invent a special prediction algorithm**. Probability theory takes care of all that. The complexity of prediction is just computational: how to carry out the marginalization over $\\theta$."
   ]
  },
  {
   "cell_type": "markdown",
   "metadata": {
    "slideshow": {
     "slide_type": "fragment"
    }
   },
   "source": [
    "- In order to execute prediction, you need to have access to the factors $p(x|\\theta)$ and $p(\\theta|D)$. Where do these factors come from? Are they available?\n",
    "  "
   ]
  },
  {
   "cell_type": "markdown",
   "metadata": {
    "slideshow": {
     "slide_type": "fragment"
    }
   },
   "source": [
    "- What did we learn from $D$? Without access to $D$, we would predict new observations through\n",
    "$$\n",
    "p(x) = \\int p(x,\\theta) \\,\\mathrm{d}\\theta = \\int p(x|\\theta) p(\\theta) \\,\\mathrm{d}\\theta\n",
    "$$"
   ]
  },
  {
   "cell_type": "markdown",
   "metadata": {
    "slideshow": {
     "slide_type": "fragment"
    }
   },
   "source": [
    "- NB The application of the learned posterior $p(\\theta|D)$ not necessarily has to be prediction. We use it here as an example, but other applications are of course also possible. \n",
    "  "
   ]
  },
  {
   "cell_type": "markdown",
   "metadata": {
    "slideshow": {
     "slide_type": "slide"
    }
   },
   "source": [
    "###  Bayesian Model Comparison \n",
    "\n",
    "- There appears to be a remaining problem: How good really were our model assumptions $p(x|\\theta)$ and $p(\\theta)$?  "
   ]
  },
  {
   "cell_type": "markdown",
   "metadata": {
    "slideshow": {
     "slide_type": "fragment"
    }
   },
   "source": [
    "- Technically, this is a **model comparison** problem"
   ]
  },
  {
   "cell_type": "markdown",
   "metadata": {
    "slideshow": {
     "slide_type": "fragment"
    }
   },
   "source": [
    "- [**Q**.] What if I have more candidate models, say $\\mathcal{M} = \\{m_1,\\ldots,m_K\\}$ where each model relates to specific prior $p(\\theta|m_k)$ and likelihood $p(D|\\theta,m_k)$? Can we evaluate the relative performance of a model against another model from the set?"
   ]
  },
  {
   "cell_type": "markdown",
   "metadata": {
    "slideshow": {
     "slide_type": "fragment"
    }
   },
   "source": [
    "- [**A**.]: Start again with **model specification**. Specify a prior $p(m_k)$ for each of the models and then solve the desired inference problem:      \n",
    "$$\\begin{align*} \n",
    "p(m_k|D) &= \\frac{p(D|m_k) p(m_k)}{p(D)} \\\\\n",
    "  &\\propto p(m_k) \\cdot p(D|m_k) \\\\\n",
    "  &= p(m_k)\\cdot \\int_\\theta p(D,\\theta|m_k) \\,\\mathrm{d}\\theta\\\\\n",
    "  &= \\underbrace{p(m_k)}_{\\substack{\\text{model}\\\\\\text{prior}}}\\cdot \\int_\\theta \\underbrace{p(D|\\theta,m_k)}_{\\text{likelihood}} \\,\\underbrace{p(\\theta|m_k)}_{\\text{prior}}\\, \\mathrm{d}\\theta\\\\\n",
    "\\end{align*}$$"
   ]
  },
  {
   "cell_type": "markdown",
   "metadata": {
    "slideshow": {
     "slide_type": "slide"
    }
   },
   "source": [
    "### Bayesian Model Comparison (continued) \n",
    "\n",
    "- You, the engineer, have to choose the factors $p(D|\\theta,m_k)$, $p(\\theta|m_k)$ and $p(m_k)$. After that, for a given data set $D$, the model posterior $p(m_k|D)$ can be computed. "
   ]
  },
  {
   "cell_type": "markdown",
   "metadata": {
    "slideshow": {
     "slide_type": "fragment"
    }
   },
   "source": [
    "- If you need to work with one model,select the model with largest posterior $p(m_k|D)$"
   ]
  },
  {
   "cell_type": "markdown",
   "metadata": {
    "slideshow": {
     "slide_type": "fragment"
    }
   },
   "source": [
    "- Alternatively, if you don't want to choose a model, you can do prediction by **Bayesian model averaging** to utilitize the predictive power from all models:\n",
    "$$\\begin{align*}\n",
    "p(x|D) &= \\sum_k \\int p(x,\\theta,m_k|D)\\,\\mathrm{d}\\theta \\\\\n",
    "  &= \\sum_k \\underbrace{p(m_k|D)}_{\\substack{\\text{model}\\\\\\text{posterior}}} \\cdot \\int \\underbrace{p(\\theta|D)}_{\\substack{\\text{parameter}\\\\\\text{posterior}}} \\, \\underbrace{p(x|\\theta,m_k)}_{\\text{likelihood}} \\,\\mathrm{d}\\theta\n",
    "\\end{align*}$$ "
   ]
  },
  {
   "cell_type": "markdown",
   "metadata": {
    "slideshow": {
     "slide_type": "fragment"
    }
   },
   "source": [
    "- $\\Rightarrow$ In a Bayesian framework, **model comparison** follows the same recipe as parameter estimation; it just works at one higher hierarchical level."
   ]
  },
  {
   "cell_type": "markdown",
   "metadata": {
    "slideshow": {
     "slide_type": "fragment"
    }
   },
   "source": [
    "- More on this in part 2 (Tjalkens).  "
   ]
  },
  {
   "cell_type": "markdown",
   "metadata": {
    "slideshow": {
     "slide_type": "slide"
    }
   },
   "source": [
    "### Machine Learning and the Scientific Method Revisited\n",
    "\n",
    "- Bayesian probability theory provides a unified framework for information processing (and even the Scientific Method).\n",
    "\n",
    "<img src=\"./figures/ml-and-scientific-loop-2.png\" width=\"450px\">"
   ]
  },
  {
   "cell_type": "markdown",
   "metadata": {
    "slideshow": {
     "slide_type": "slide"
    }
   },
   "source": [
    "### Now Solve the Example Problem: Predicting a Coin Toss\n",
    "\n",
    "- We observe a the following sequence of heads (h) and tails (t) when tossing the same coin repeatedly $$D=\\{hthhtth\\}\\,.$$\n",
    "\n",
    "- What is the probability that heads (h) comes up next? We solve this in the next slides ..."
   ]
  },
  {
   "cell_type": "markdown",
   "metadata": {
    "slideshow": {
     "slide_type": "slide"
    }
   },
   "source": [
    "### Coin toss example (1): Model Specification\n",
    "\n",
    "We observe a sequence of $N$ coin tosses $D=\\{x_1,\\ldots,x_N\\}$ with $n$ heads. "
   ]
  },
  {
   "cell_type": "markdown",
   "metadata": {
    "slideshow": {
     "slide_type": "fragment"
    }
   },
   "source": [
    "##### Likelihood\n",
    "- Assume a Bernoulli distributed variable $p(x_k=h|\\mu)=\\mu$, which leads to a **binomial** distribution for the likelihood (assume $n$ times heads were thrown):\n",
    "$$   \n",
    "p(D|\\mu) = \\prod_{k=1}^N p(x_k|\\mu) = \\mu^n (1-\\mu)^{N-n}\n",
    "$$"
   ]
  },
  {
   "cell_type": "markdown",
   "metadata": {
    "slideshow": {
     "slide_type": "fragment"
    }
   },
   "source": [
    "##### Prior\n",
    "-  Assume the prior belief is governed by a **beta distribution**\n",
    "$$\n",
    "p(\\mu) = \\mathcal{B}(\\mu|\\alpha,\\beta) = \\frac{\\Gamma(\\alpha+\\beta)}{\\Gamma(\\alpha)\\Gamma(\\beta)} \\mu^{\\alpha-1}(1-\\mu)^{\\beta-1}\n",
    "$$\n",
    "<!---  - The Gamma function is sort of a generalized factorial function. If $\\alpha,\\beta$ are integers, then $\\frac{\\Gamma(\\alpha+\\beta)}{\\Gamma(\\alpha)(\\Gamma(\\beta)} = \\frac{(\\alpha+\\beta-1)!}{(\\alpha-1)!\\,(\\beta-1)!}$\n",
    "---> "
   ]
  },
  {
   "cell_type": "markdown",
   "metadata": {
    "slideshow": {
     "slide_type": "fragment"
    }
   },
   "source": [
    "- The Beta distribution is a **conjugate prior** for the Binomial distribution, which means that \n",
    "$$\n",
    "\\text{beta} \\propto \\text{binomial} \\times \\text{beta}\n",
    "$$"
   ]
  },
  {
   "cell_type": "markdown",
   "metadata": {
    "slideshow": {
     "slide_type": "fragment"
    }
   },
   "source": [
    "- $\\alpha$ and $\\beta$ are called **hyperparameters**, since they parameterize the distribution for another parameter ($\\mu$). E.g., $\\alpha=\\beta=1$ (uniform).\n",
    "  "
   ]
  },
  {
   "cell_type": "markdown",
   "metadata": {
    "slideshow": {
     "slide_type": "slide"
    }
   },
   "source": [
    "### Coin toss example (2): Parameter estimation\n",
    "\n",
    "- Infer posterior PDF over $\\mu$ through Bayes rule\n",
    "\n",
    "$$\\begin{align*}\n",
    "p(\\mu|D) &\\propto p(D|\\mu)\\,p(\\mu|\\alpha,\\beta)  \\\\ \n",
    "        &= \\mu^n (1-\\mu)^{N-n} \\times \\mu^{\\alpha-1} (1-\\mu)^{\\beta-1} \\\\\n",
    "        &= \\mu^{n+\\alpha-1} (1-\\mu)^{N-n+\\beta-1} \n",
    "\\end{align*}$$\n",
    "\n",
    "hence the posterior is also beta distributed as\n",
    "\n",
    "$$\n",
    "p(\\mu|D) = \\mathcal{B}(\\mu|\\,n+\\alpha, N-n+\\beta)\n",
    "$$"
   ]
  },
  {
   "cell_type": "markdown",
   "metadata": {
    "slideshow": {
     "slide_type": "fragment"
    }
   },
   "source": [
    "- Essentially, **here ends the machine learning activity**"
   ]
  },
  {
   "cell_type": "markdown",
   "metadata": {
    "slideshow": {
     "slide_type": "slide"
    }
   },
   "source": [
    "### Coin Toss Example (3): Prediction\n",
    "\n",
    "- Now, we want to **use** the trained model. Let's use it to predict future observations. "
   ]
  },
  {
   "cell_type": "markdown",
   "metadata": {
    "slideshow": {
     "slide_type": "fragment"
    }
   },
   "source": [
    "- Marginalize over the parameter posterior to get the predictive PDF for a new coin toss $x_\\bullet$, given the data $D$,\n",
    "\n",
    "$$\\begin{align*}\n",
    "p(x_\\bullet=h|D)  &= \\int_0^1 p(x_\\bullet=h|\\mu)\\,p(\\mu|D) \\,\\mathrm{d}\\mu \\\\\n",
    "  &= \\int_0^1 \\mu \\times  \\mathcal{B}(\\mu|\\,n+\\alpha, N-n+\\beta) \\,\\mathrm{d}\\mu  \\\\\n",
    "  &= \\frac{n+\\alpha}{N+\\alpha+\\beta} \\qquad \\mbox{(a.k.a. Laplace rule)}\\hfill\n",
    "\\end{align*}$$"
   ]
  },
  {
   "cell_type": "markdown",
   "metadata": {
    "slideshow": {
     "slide_type": "fragment"
    }
   },
   "source": [
    "- Finally, we're ready to solve our example problem: for $D=\\{hthhtth\\}$ and uniform prior ($\\alpha=\\beta=1$), we get\n",
    "\n",
    "$$ p(x_\\bullet=h|D)=\\frac{n+1}{N+2} = \\frac{4+1}{7+2} = \\frac{5}{9}$$\n",
    " "
   ]
  },
  {
   "cell_type": "markdown",
   "metadata": {
    "slideshow": {
     "slide_type": "slide"
    }
   },
   "source": [
    "### Coin Toss Example: What did we learn?\n",
    "\n",
    "- What did we learn from the data? Before seeing any data, we think that $$p(x_\\bullet=h)=\\left. p(x_\\bullet=h|D) \\right|_{n=N=0} = \\frac{\\alpha}{\\alpha + \\beta}\\,.$$ "
   ]
  },
  {
   "cell_type": "markdown",
   "metadata": {
    "slideshow": {
     "slide_type": "fragment"
    }
   },
   "source": [
    "- After the $N$ coin tosses, we think that $p(x_\\bullet=h|D) = \\frac{n+\\alpha}{N+\\alpha+\\beta}$."
   ]
  },
  {
   "cell_type": "markdown",
   "metadata": {
    "slideshow": {
     "slide_type": "fragment"
    }
   },
   "source": [
    "- Note the following decomposition\n",
    "\n",
    "$$\\begin{align*}\n",
    "    p(x_\\bullet=h|\\,D) &= \\frac{n+\\alpha}{N+\\alpha+\\beta} = \\frac{n}{N+\\alpha+\\beta} + \\frac{\\alpha}{N+\\alpha+\\beta} \\\\\n",
    "        &= \\frac{N}{N+\\alpha+\\beta}\\cdot \\frac{n}{N} + \\frac{\\alpha+\\beta}{N+\\alpha+\\beta} \\cdot \\frac{\\alpha}{\\alpha+\\beta} \\\\\n",
    "        &= \\underbrace{\\frac{\\alpha}{\\alpha+\\beta}}_{prior} + \\underbrace{\\frac{N}{N+\\alpha+\\beta}}_{gain}\\cdot \\big( \\underbrace{\\frac{n}{N}}_{MLE} - \\underbrace{\\frac{\\alpha}{\\alpha+\\beta}}_{prior} \\big)\n",
    "\\end{align*}$$"
   ]
  },
  {
   "cell_type": "markdown",
   "metadata": {
    "slideshow": {
     "slide_type": "fragment"
    }
   },
   "source": [
    "- Note that, since $0\\leq\\text{gain}\\lt 1$, the Bayesian estimate lies between prior and maximum likelihood estimate."
   ]
  },
  {
   "cell_type": "markdown",
   "metadata": {
    "slideshow": {
     "slide_type": "fragment"
    }
   },
   "source": [
    "- For large $N$, the gain goes to $1$ and $p(x_\\bullet=h|D)$ goes to the maximum likelihood estimate (the relative frequency) $n/N$."
   ]
  },
  {
   "cell_type": "markdown",
   "metadata": {
    "slideshow": {
     "slide_type": "slide"
    }
   },
   "source": [
    "#### CODE EXAMPLE\n",
    "\n",
    "**Bayesian evolution of $p(\\mu|D)$ for the coin toss**\n",
    "\n",
    "Let's see how $p(\\mu|D)$ evolves as we increase the number of coin tosses $N$. We'll use two different priors to demonstrate the effect of the prior on the posterior (set $N=0$ to inspect the prior)."
   ]
  },
  {
   "cell_type": "code",
   "execution_count": 7,
   "metadata": {
    "slideshow": {
     "slide_type": "subslide"
    }
   },
   "outputs": [
    {
     "name": "stderr",
     "output_type": "stream",
     "text": [
      "┌ Info: Precompiling Distributions [31c24e10-a181-5473-b8eb-7969acd0382f]\n",
      "└ @ Base loading.jl:1189\n"
     ]
    },
    {
     "data": {
      "application/vnd.webio.node+json": {
       "children": [
        {
         "children": [
          {
           "children": [
            {
             "children": [
              {
               "children": [
                {
                 "children": [
                  "N"
                 ],
                 "instanceArgs": {
                  "namespace": "html",
                  "tag": "label"
                 },
                 "nodeType": "DOM",
                 "props": {
                  "className": "interact ",
                  "style": {
                   "padding": "5px 10px 0px 10px"
                  }
                 },
                 "type": "node"
                }
               ],
               "instanceArgs": {
                "namespace": "html",
                "tag": "div"
               },
               "nodeType": "DOM",
               "props": {
                "attributes": {
                 "style": "text-align:right;width:18%"
                }
               },
               "type": "node"
              },
              {
               "children": [
                {
                 "children": [],
                 "instanceArgs": {
                  "namespace": "html",
                  "tag": "input"
                 },
                 "nodeType": "DOM",
                 "props": {
                  "attributes": {
                   "data-bind": "numericValue: value, valueUpdate: 'input', event: {change : function () {this.changes(this.changes()+1)}}",
                   "orient": "horizontal",
                   "type": "range"
                  },
                  "className": "slider slider is-fullwidth",
                  "max": 192,
                  "min": 0,
                  "step": 1,
                  "style": {}
                 },
                 "type": "node"
                }
               ],
               "instanceArgs": {
                "namespace": "html",
                "tag": "div"
               },
               "nodeType": "DOM",
               "props": {
                "attributes": {
                 "style": "flex-grow:1; margin: 0 2%"
                }
               },
               "type": "node"
              },
              {
               "children": [
                {
                 "children": [],
                 "instanceArgs": {
                  "namespace": "html",
                  "tag": "p"
                 },
                 "nodeType": "DOM",
                 "props": {
                  "attributes": {
                   "data-bind": "text: value"
                  }
                 },
                 "type": "node"
                }
               ],
               "instanceArgs": {
                "namespace": "html",
                "tag": "div"
               },
               "nodeType": "DOM",
               "props": {
                "attributes": {
                 "style": "width:18%"
                }
               },
               "type": "node"
              }
             ],
             "instanceArgs": {
              "namespace": "html",
              "tag": "div"
             },
             "nodeType": "DOM",
             "props": {
              "attributes": {
               "style": "display:flex; justify-content:center; align-items:center;"
              }
             },
             "type": "node"
            }
           ],
           "instanceArgs": {
            "handlers": {
             "_promises": {
              "importsLoaded": [
               "function (ko, koPunches) {\n    ko.punches.enableAll();\n    ko.bindingHandlers.numericValue = {\n        init : function(element, valueAccessor, allBindings, data, context) {\n            var stringified = ko.observable(ko.unwrap(valueAccessor()));\n            stringified.subscribe(function(value) {\n                var val = parseFloat(value);\n                if (!isNaN(val)) {\n                    valueAccessor()(val);\n                }\n            })\n            valueAccessor().subscribe(function(value) {\n                var str = JSON.stringify(value);\n                if ((str == \"0\") && ([\"-0\", \"-0.\"].indexOf(stringified()) >= 0))\n                     return;\n                 if ([\"null\", \"\"].indexOf(str) >= 0)\n                     return;\n                stringified(str);\n            })\n            ko.applyBindingsToNode(element, { value: stringified, valueUpdate: allBindings.get('valueUpdate')}, context);\n        }\n    };\n    var json_data = JSON.parse(\"{\\\"changes\\\":0,\\\"value\\\":96}\");\n    var self = this;\n    function AppViewModel() {\n        for (var key in json_data) {\n            var el = json_data[key];\n            this[key] = Array.isArray(el) ? ko.observableArray(el) : ko.observable(el);\n        }\n        \n        \n        [this[\"changes\"].subscribe((function (val){!(this.valueFromJulia[\"changes\"]) ? (_webIOScope.setObservableValue({\"name\":\"changes\",\"scope\":\"knockout-component-d708ef43-378d-489e-9e4c-4c169610b97d\",\"id\":\"ob_02\",\"type\":\"observable\"},val)) : undefined; return this.valueFromJulia[\"changes\"]=false}),self),this[\"value\"].subscribe((function (val){!(this.valueFromJulia[\"value\"]) ? (_webIOScope.setObservableValue({\"name\":\"value\",\"scope\":\"knockout-component-d708ef43-378d-489e-9e4c-4c169610b97d\",\"id\":\"ob_01\",\"type\":\"observable\"},val)) : undefined; return this.valueFromJulia[\"value\"]=false}),self)]\n        \n    }\n    self.model = new AppViewModel();\n    self.valueFromJulia = {};\n    for (var key in json_data) {\n        self.valueFromJulia[key] = false;\n    }\n    ko.applyBindings(self.model, self.dom);\n}\n"
              ]
             },
             "changes": [
              "(function (val){return (val!=this.model[\"changes\"]()) ? (this.valueFromJulia[\"changes\"]=true, this.model[\"changes\"](val)) : undefined})"
             ],
             "value": [
              "(function (val){return (val!=this.model[\"value\"]()) ? (this.valueFromJulia[\"value\"]=true, this.model[\"value\"](val)) : undefined})"
             ]
            },
            "id": "knockout-component-d708ef43-378d-489e-9e4c-4c169610b97d",
            "imports": {
             "data": [
              {
               "name": "knockout",
               "type": "js",
               "url": "/assetserver/c68ce9bb1dba6b24f4e1a465402329128301c1a9-knockout.js"
              },
              {
               "name": "knockout_punches",
               "type": "js",
               "url": "/assetserver/201848a8f7ae564eabe9b546303243fd1726beca-knockout_punches.js"
              },
              {
               "name": null,
               "type": "js",
               "url": "/assetserver/a372eccd6dcb4c9a4827b517f3a317fc5597adc1-all.js"
              },
              {
               "name": null,
               "type": "css",
               "url": "/assetserver/ea88b368fafadd977842b61d2d12c9488f00e4c6-style.css"
              },
              {
               "name": null,
               "type": "css",
               "url": "/assetserver/482d5390c5f9d7f9cc6fee5c1ba4849d05fc07ba-main.css"
              }
             ],
             "type": "async_block"
            },
            "observables": {
             "changes": {
              "id": "ob_02",
              "sync": false,
              "value": 0
             },
             "value": {
              "id": "ob_01",
              "sync": true,
              "value": 96
             }
            },
            "systemjs_options": null
           },
           "nodeType": "Scope",
           "props": {},
           "type": "node"
          }
         ],
         "instanceArgs": {
          "namespace": "html",
          "tag": "div"
         },
         "nodeType": "DOM",
         "props": {
          "className": "field"
         },
         "type": "node"
        },
        {
         "children": [
          {
           "children": [],
           "instanceArgs": {
            "id": "ob_07",
            "name": "obs-node"
           },
           "nodeType": "ObservableNode",
           "props": {},
           "type": "node"
          }
         ],
         "instanceArgs": {
          "handlers": {},
          "id": "scope-0f67b21b-d35f-436d-97f6-97e65a225514",
          "imports": {
           "data": [],
           "type": "async_block"
          },
          "observables": {
           "obs-node": {
            "id": "ob_07",
            "sync": false,
            "value": {
             "children": [
              {
               "children": [],
               "instanceArgs": {
                "namespace": "html",
                "tag": "div"
               },
               "nodeType": "DOM",
               "props": {
                "setInnerHtml": "<img src='data:image/png;base64,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'></img>"
               },
               "type": "node"
              }
             ],
             "instanceArgs": {
              "namespace": "html",
              "tag": "div"
             },
             "nodeType": "DOM",
             "props": {
              "attributes": {
               "style": "display:flex; justify-content:center; align-items:center;"
              }
             },
             "type": "node"
            }
           }
          },
          "systemjs_options": null
         },
         "nodeType": "Scope",
         "props": {},
         "type": "node"
        }
       ],
       "instanceArgs": {
        "namespace": "html",
        "tag": "div"
       },
       "nodeType": "DOM",
       "props": {},
       "type": "node"
      },
      "text/html": [
       "<div\n",
       "    class=\"webio-mountpoint\"\n",
       "    data-webio-mountpoint=\"7563313722055222629\"\n",
       ">\n",
       "    <script>\n",
       "    if (window.require && require.defined && require.defined(\"nbextensions/webio/main\")) {\n",
       "        console.log(\"Jupyter WebIO extension detected, not mounting.\");\n",
       "    } else if (window.WebIO) {\n",
       "        WebIO.mount(\n",
       "            document.querySelector('[data-webio-mountpoint=\"7563313722055222629\"]'),\n",
       "            {\"props\":{},\"nodeType\":\"DOM\",\"type\":\"node\",\"instanceArgs\":{\"namespace\":\"html\",\"tag\":\"div\"},\"children\":[{\"props\":{\"className\":\"field\"},\"nodeType\":\"DOM\",\"type\":\"node\",\"instanceArgs\":{\"namespace\":\"html\",\"tag\":\"div\"},\"children\":[{\"props\":{},\"nodeType\":\"Scope\",\"type\":\"node\",\"instanceArgs\":{\"imports\":{\"data\":[{\"name\":\"knockout\",\"type\":\"js\",\"url\":\"\\/assetserver\\/c68ce9bb1dba6b24f4e1a465402329128301c1a9-knockout.js\"},{\"name\":\"knockout_punches\",\"type\":\"js\",\"url\":\"\\/assetserver\\/201848a8f7ae564eabe9b546303243fd1726beca-knockout_punches.js\"},{\"name\":null,\"type\":\"js\",\"url\":\"\\/assetserver\\/a372eccd6dcb4c9a4827b517f3a317fc5597adc1-all.js\"},{\"name\":null,\"type\":\"css\",\"url\":\"\\/assetserver\\/ea88b368fafadd977842b61d2d12c9488f00e4c6-style.css\"},{\"name\":null,\"type\":\"css\",\"url\":\"\\/assetserver\\/482d5390c5f9d7f9cc6fee5c1ba4849d05fc07ba-main.css\"}],\"type\":\"async_block\"},\"id\":\"knockout-component-d708ef43-378d-489e-9e4c-4c169610b97d\",\"handlers\":{\"_promises\":{\"importsLoaded\":[\"function (ko, koPunches) {\\n    ko.punches.enableAll();\\n    ko.bindingHandlers.numericValue = {\\n        init : function(element, valueAccessor, allBindings, data, context) {\\n            var stringified = ko.observable(ko.unwrap(valueAccessor()));\\n            stringified.subscribe(function(value) {\\n                var val = parseFloat(value);\\n                if (!isNaN(val)) {\\n                    valueAccessor()(val);\\n                }\\n            })\\n            valueAccessor().subscribe(function(value) {\\n                var str = JSON.stringify(value);\\n                if ((str == \\\"0\\\") && ([\\\"-0\\\", \\\"-0.\\\"].indexOf(stringified()) >= 0))\\n                     return;\\n                 if ([\\\"null\\\", \\\"\\\"].indexOf(str) >= 0)\\n                     return;\\n                stringified(str);\\n            })\\n            ko.applyBindingsToNode(element, { value: stringified, valueUpdate: allBindings.get('valueUpdate')}, context);\\n        }\\n    };\\n    var json_data = JSON.parse(\\\"{\\\\\\\"changes\\\\\\\":0,\\\\\\\"value\\\\\\\":96}\\\");\\n    var self = this;\\n    function AppViewModel() {\\n        for (var key in json_data) {\\n            var el = json_data[key];\\n            this[key] = Array.isArray(el) ? ko.observableArray(el) : ko.observable(el);\\n        }\\n        \\n        \\n        [this[\\\"changes\\\"].subscribe((function (val){!(this.valueFromJulia[\\\"changes\\\"]) ? (_webIOScope.setObservableValue({\\\"name\\\":\\\"changes\\\",\\\"scope\\\":\\\"knockout-component-d708ef43-378d-489e-9e4c-4c169610b97d\\\",\\\"id\\\":\\\"ob_02\\\",\\\"type\\\":\\\"observable\\\"},val)) : undefined; return this.valueFromJulia[\\\"changes\\\"]=false}),self),this[\\\"value\\\"].subscribe((function (val){!(this.valueFromJulia[\\\"value\\\"]) ? (_webIOScope.setObservableValue({\\\"name\\\":\\\"value\\\",\\\"scope\\\":\\\"knockout-component-d708ef43-378d-489e-9e4c-4c169610b97d\\\",\\\"id\\\":\\\"ob_01\\\",\\\"type\\\":\\\"observable\\\"},val)) : undefined; return this.valueFromJulia[\\\"value\\\"]=false}),self)]\\n        \\n    }\\n    self.model = new AppViewModel();\\n    self.valueFromJulia = {};\\n    for (var key in json_data) {\\n        self.valueFromJulia[key] = false;\\n    }\\n    ko.applyBindings(self.model, self.dom);\\n}\\n\"]},\"changes\":[\"(function (val){return (val!=this.model[\\\"changes\\\"]()) ? (this.valueFromJulia[\\\"changes\\\"]=true, this.model[\\\"changes\\\"](val)) : undefined})\"],\"value\":[\"(function (val){return (val!=this.model[\\\"value\\\"]()) ? (this.valueFromJulia[\\\"value\\\"]=true, this.model[\\\"value\\\"](val)) : undefined})\"]},\"systemjs_options\":null,\"observables\":{\"changes\":{\"sync\":false,\"id\":\"ob_02\",\"value\":0},\"value\":{\"sync\":true,\"id\":\"ob_01\",\"value\":96}}},\"children\":[{\"props\":{\"attributes\":{\"style\":\"display:flex; justify-content:center; align-items:center;\"}},\"nodeType\":\"DOM\",\"type\":\"node\",\"instanceArgs\":{\"namespace\":\"html\",\"tag\":\"div\"},\"children\":[{\"props\":{\"attributes\":{\"style\":\"text-align:right;width:18%\"}},\"nodeType\":\"DOM\",\"type\":\"node\",\"instanceArgs\":{\"namespace\":\"html\",\"tag\":\"div\"},\"children\":[{\"props\":{\"className\":\"interact \",\"style\":{\"padding\":\"5px 10px 0px 10px\"}},\"nodeType\":\"DOM\",\"type\":\"node\",\"instanceArgs\":{\"namespace\":\"html\",\"tag\":\"label\"},\"children\":[\"N\"]}]},{\"props\":{\"attributes\":{\"style\":\"flex-grow:1; margin: 0 2%\"}},\"nodeType\":\"DOM\",\"type\":\"node\",\"instanceArgs\":{\"namespace\":\"html\",\"tag\":\"div\"},\"children\":[{\"props\":{\"max\":192,\"min\":0,\"attributes\":{\"type\":\"range\",\"data-bind\":\"numericValue: value, valueUpdate: 'input', event: {change : function () {this.changes(this.changes()+1)}}\",\"orient\":\"horizontal\"},\"step\":1,\"className\":\"slider slider is-fullwidth\",\"style\":{}},\"nodeType\":\"DOM\",\"type\":\"node\",\"instanceArgs\":{\"namespace\":\"html\",\"tag\":\"input\"},\"children\":[]}]},{\"props\":{\"attributes\":{\"style\":\"width:18%\"}},\"nodeType\":\"DOM\",\"type\":\"node\",\"instanceArgs\":{\"namespace\":\"html\",\"tag\":\"div\"},\"children\":[{\"props\":{\"attributes\":{\"data-bind\":\"text: value\"}},\"nodeType\":\"DOM\",\"type\":\"node\",\"instanceArgs\":{\"namespace\":\"html\",\"tag\":\"p\"},\"children\":[]}]}]}]}]},{\"props\":{},\"nodeType\":\"Scope\",\"type\":\"node\",\"instanceArgs\":{\"imports\":{\"data\":[],\"type\":\"async_block\"},\"id\":\"scope-8afda7eb-639f-4c48-ac97-9f2e2bd1242f\",\"handlers\":{},\"systemjs_options\":null,\"observables\":{\"obs-node\":{\"sync\":false,\"id\":\"ob_05\",\"value\":{\"props\":{\"attributes\":{\"style\":\"display:flex; justify-content:center; align-items:center;\"}},\"nodeType\":\"DOM\",\"type\":\"node\",\"instanceArgs\":{\"namespace\":\"html\",\"tag\":\"div\"},\"children\":[{\"props\":{\"setInnerHtml\":\"<img src='data:image\\/png;base64,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'><\\/img>\"},\"nodeType\":\"DOM\",\"type\":\"node\",\"instanceArgs\":{\"namespace\":\"html\",\"tag\":\"div\"},\"children\":[]}]}}}},\"children\":[{\"props\":{},\"nodeType\":\"ObservableNode\",\"type\":\"node\",\"instanceArgs\":{\"id\":\"ob_05\",\"name\":\"obs-node\"},\"children\":[]}]}]},\n",
       "        );\n",
       "    } else {\n",
       "        document\n",
       "            .querySelector('[data-webio-mountpoint=\"7563313722055222629\"]')\n",
       "            .innerHTML = '<strong>WebIO not detected.</strong>';\n",
       "    }\n",
       "    </script>\n",
       "</div>\n"
      ],
      "text/plain": [
       "Widget{:manipulate,Any}(OrderedDict{Symbol,Any}(:N=>Widget{:slider,Int64}(OrderedDict{Symbol,Any}(:changes=>Observable{Int64} with 1 listeners. Value:\n",
       "0,:value=>Observable{Int64} with 2 listeners. Value:\n",
       "96), Observable{Int64} with 2 listeners. Value:\n",
       "96, Scope(\"knockout-component-d708ef43-378d-489e-9e4c-4c169610b97d\", Node{DOM}(DOM(:html, :div), Any[Node{DOM}(DOM(:html, :div), Any[Node{DOM}(DOM(:html, :label), Any[\"N\"], Dict{Symbol,Any}(:className=>\"interact \",:style=>Dict{Any,Any}(:padding=>\"5px 10px 0px 10px\")), 1)], Dict{Symbol,Any}(:attributes=>Dict(\"style\"=>\"text-align:right;width:18%\")), 2), Node{DOM}(DOM(:html, :div), Any[Node{DOM}(DOM(:html, :input), Any[], Dict{Symbol,Any}(:max=>192,:min=>0,:attributes=>Dict{Any,Any}(:type=>\"range\",Symbol(\"data-bind\")=>\"numericValue: value, valueUpdate: 'input', event: {change : function () {this.changes(this.changes()+1)}}\",\"orient\"=>\"horizontal\"),:step=>1,:className=>\"slider slider is-fullwidth\",:style=>Dict{Any,Any}()), 0)], Dict{Symbol,Any}(:attributes=>Dict(\"style\"=>\"flex-grow:1; margin: 0 2%\")), 1), Node{DOM}(DOM(:html, :div), Any[Node{DOM}(DOM(:html, :p), Any[], Dict{Symbol,Any}(:attributes=>Dict(\"data-bind\"=>\"text: value\")), 0)], Dict{Symbol,Any}(:attributes=>Dict(\"style\"=>\"width:18%\")), 1)], Dict{Symbol,Any}(:attributes=>Dict(\"style\"=>\"display:flex; justify-content:center; align-items:center;\")), 7), Dict{String,Tuple{Observables.AbstractObservable,Union{Nothing, Bool}}}(\"changes\"=>(Observable{Int64} with 1 listeners. Value:\n",
       "0, nothing),\"value\"=>(Observable{Int64} with 2 listeners. Value:\n",
       "96, nothing)), Set(String[]), nothing, Any[\"knockout\"=>\"/Users/isenoz/.julia/packages/Knockout/JIqpG/src/../assets/knockout.js\", \"knockout_punches\"=>\"/Users/isenoz/.julia/packages/Knockout/JIqpG/src/../assets/knockout_punches.js\", \"/Users/isenoz/.julia/packages/InteractBase/Q4IkI/src/../assets/all.js\", \"/Users/isenoz/.julia/packages/InteractBase/Q4IkI/src/../assets/style.css\", \"/Users/isenoz/.julia/packages/InteractBulma/Ohu5Y/src/../assets/main.css\"], Dict{Any,Any}(\"_promises\"=>Dict{Any,Any}(\"importsLoaded\"=>Any[JSString(\"function (ko, koPunches) {\\n    ko.punches.enableAll();\\n    ko.bindingHandlers.numericValue = {\\n        init : function(element, valueAccessor, allBindings, data, context) {\\n            var stringified = ko.observable(ko.unwrap(valueAccessor()));\\n            stringified.subscribe(function(value) {\\n                var val = parseFloat(value);\\n                if (!isNaN(val)) {\\n                    valueAccessor()(val);\\n                }\\n            })\\n            valueAccessor().subscribe(function(value) {\\n                var str = JSON.stringify(value);\\n                if ((str == \\\"0\\\") && ([\\\"-0\\\", \\\"-0.\\\"].indexOf(stringified()) >= 0))\\n                     return;\\n                 if ([\\\"null\\\", \\\"\\\"].indexOf(str) >= 0)\\n                     return;\\n                stringified(str);\\n            })\\n            ko.applyBindingsToNode(element, { value: stringified, valueUpdate: allBindings.get('valueUpdate')}, context);\\n        }\\n    };\\n    var json_data = JSON.parse(\\\"{\\\\\\\"changes\\\\\\\":0,\\\\\\\"value\\\\\\\":96}\\\");\\n    var self = this;\\n    function AppViewModel() {\\n        for (var key in json_data) {\\n            var el = json_data[key];\\n            this[key] = Array.isArray(el) ? ko.observableArray(el) : ko.observable(el);\\n        }\\n        \\n        \\n        [this[\\\"changes\\\"].subscribe((function (val){!(this.valueFromJulia[\\\"changes\\\"]) ? (_webIOScope.setObservableValue({\\\"name\\\":\\\"changes\\\",\\\"scope\\\":\\\"knockout-component-d708ef43-378d-489e-9e4c-4c169610b97d\\\",\\\"id\\\":\\\"ob_02\\\",\\\"type\\\":\\\"observable\\\"},val)) : undefined; return this.valueFromJulia[\\\"changes\\\"]=false}),self),this[\\\"value\\\"].subscribe((function (val){!(this.valueFromJulia[\\\"value\\\"]) ? (_webIOScope.setObservableValue({\\\"name\\\":\\\"value\\\",\\\"scope\\\":\\\"knockout-component-d708ef43-378d-489e-9e4c-4c169610b97d\\\",\\\"id\\\":\\\"ob_01\\\",\\\"type\\\":\\\"observable\\\"},val)) : undefined; return this.valueFromJulia[\\\"value\\\"]=false}),self)]\\n        \\n    }\\n    self.model = new AppViewModel();\\n    self.valueFromJulia = {};\\n    for (var key in json_data) {\\n        self.valueFromJulia[key] = false;\\n    }\\n    ko.applyBindings(self.model, self.dom);\\n}\\n\")]),\"changes\"=>Any[JSString(\"(function (val){return (val!=this.model[\\\"changes\\\"]()) ? (this.valueFromJulia[\\\"changes\\\"]=true, this.model[\\\"changes\\\"](val)) : undefined})\")],\"value\"=>Any[JSString(\"(function (val){return (val!=this.model[\\\"value\\\"]()) ? (this.valueFromJulia[\\\"value\\\"]=true, this.model[\\\"value\\\"](val)) : undefined})\")]), ConnectionPool(Channel{Any}(sz_max:9223372036854775807,sz_curr:0), Set(AbstractConnection[]), Channel{AbstractConnection}(sz_max:32,sz_curr:0))), ##52#53{#dom#13{##dom#11#12{Dict{Any,Any},DOM}},typeof(scope)}(#dom#13{##dom#11#12{Dict{Any,Any},DOM}}(##dom#11#12{Dict{Any,Any},DOM}(Dict{Any,Any}(:className=>\"field\"), DOM(:html, :div))), scope))), Observable{Any} with 0 listeners. Value:\n",
       "Figure(PyObject <Figure size 640x480 with 1 Axes>), nothing, getfield(Main, Symbol(\"##11#14\")){Observable{Any}}(Observable{Any} with 0 listeners. Value:\n",
       "Figure(PyObject <Figure size 640x480 with 1 Axes>)))"
      ]
     },
     "execution_count": 7,
     "metadata": {
      "application/vnd.webio.node+json": {
       "kernelId": "1e91b343-4cbb-4e56-94bb-edf332d47cc6"
      }
     },
     "output_type": "execute_result"
    }
   ],
   "source": [
    "using Reactive, Interact, PyPlot, Distributions\n",
    "f = figure()\n",
    "range_grid = range(0.0, stop=1.0, length=100)\n",
    "μ = 0.4\n",
    "samples = rand(192) .<= μ # Flip 192 coins\n",
    "@manipulate for N=0:1:192; withfig(f) do\n",
    "        n = sum(samples[1:N]) # Count number of heads in first N flips\n",
    "        posterior1 = Beta(1+n, 1+(N-n))\n",
    "        posterior2 = Beta(5+n, 5+(N-n))\n",
    "        plot(range_grid, pdf.(posterior1,range_grid), \"k-\")\n",
    "        plot(range_grid, pdf.(posterior2,range_grid), \"k--\")\n",
    "        xlabel(L\"\\mu\"); ylabel(L\"p(\\mu|\\mathcal{D})\"); grid()\n",
    "        title(L\"p(\\mu|\\mathcal{D})\"*\" for N=$(N), n=$(n) (real \\$\\\\mu\\$=$(μ))\")\n",
    "        legend([\"Based on uniform prior \"*L\"B(1,1)\",\"Based on prior \"*L\"B(5,5)\"], loc=4)\n",
    "    end\n",
    "end"
   ]
  },
  {
   "cell_type": "markdown",
   "metadata": {
    "slideshow": {
     "slide_type": "fragment"
    }
   },
   "source": [
    "$\\Rightarrow$ With more data, the relevance of the prior diminishes!\n"
   ]
  },
  {
   "cell_type": "markdown",
   "metadata": {
    "slideshow": {
     "slide_type": "slide"
    }
   },
   "source": [
    "### From Posterior to Point-Estimate\n",
    "\n",
    "- Sometimes we want just one 'best' parameter (vector), rather than a posterior distribution over parameters. Why?"
   ]
  },
  {
   "cell_type": "markdown",
   "metadata": {
    "slideshow": {
     "slide_type": "fragment"
    }
   },
   "source": [
    "- Recall Bayesian prediction\n",
    "\n",
    "$$\n",
    "p(x|D) = \\int p(x|\\theta)p(\\theta|D)\\,\\mathrm{d}{\\theta}\n",
    "$$"
   ]
  },
  {
   "cell_type": "markdown",
   "metadata": {
    "slideshow": {
     "slide_type": "fragment"
    }
   },
   "source": [
    "- If we approximate posterior $p(\\theta|D)$ by a delta function for one 'best' value $\\hat\\theta$, then the predictive distribution collapses to\n",
    "\n",
    "$$\n",
    "p(x|D)= \\int p(x|\\theta)\\,\\delta(\\theta-\\hat\\theta)\\,\\mathrm{d}{\\theta} = p(x|\\hat\\theta)\n",
    "$$"
   ]
  },
  {
   "cell_type": "markdown",
   "metadata": {
    "slideshow": {
     "slide_type": "fragment"
    }
   },
   "source": [
    "- This is the model $p(x|\\theta)$ evaluated at $\\theta=\\hat\\theta$."
   ]
  },
  {
   "cell_type": "markdown",
   "metadata": {
    "slideshow": {
     "slide_type": "fragment"
    }
   },
   "source": [
    "- Note that $p(x|\\hat\\theta)$ is much easier to evaluate than the integral for full Bayesian prediction."
   ]
  },
  {
   "cell_type": "markdown",
   "metadata": {
    "slideshow": {
     "slide_type": "subslide"
    }
   },
   "source": [
    "### Some Well-known Point-Estimates\n",
    "\n",
    "- **Bayes estimate**\n",
    "\n",
    "$$\n",
    "\\hat \\theta_{bayes}  = \\int \\theta \\, p\\left( \\theta |D \\right)\n",
    "\\,\\mathrm{d}{\\theta}\n",
    "$$\n",
    "  - (homework). Proof that the Bayes estimate minimizes the expected mean-square error, i.e., proof that\n",
    "\n",
    "$$\n",
    "\\hat \\theta_{bayes} = \\arg\\min_{\\hat \\theta} \\int_\\theta (\\hat \\theta -\\theta)^2 p \\left( \\theta |D \\right) \\,\\mathrm{d}{\\theta}\n",
    "$$"
   ]
  },
  {
   "cell_type": "markdown",
   "metadata": {
    "slideshow": {
     "slide_type": "fragment"
    }
   },
   "source": [
    "- **Maximum A Posteriori** (MAP) estimate \n",
    "$$\n",
    "\\hat \\theta_{\\text{map}}=  \\arg\\max _{\\theta} p\\left( \\theta |D \\right) =\n",
    "\\arg \\max_{\\theta}  p\\left(D |\\theta \\right) \\, p\\left(\\theta \\right)\n",
    "$$"
   ]
  },
  {
   "cell_type": "markdown",
   "metadata": {
    "slideshow": {
     "slide_type": "fragment"
    }
   },
   "source": [
    "- **Maximum Likelihood** (ML) estimate\n",
    "$$\n",
    "\\hat \\theta_{ml}  = \\arg \\max_{\\theta}  p\\left(D |\\theta\\right)\n",
    "$$\n",
    "  - Note that Maximum Likelihood is MAP with uniform prior"
   ]
  },
  {
   "cell_type": "markdown",
   "metadata": {
    "slideshow": {
     "slide_type": "slide"
    }
   },
   "source": [
    "### Bayesian vs Maximum Likelihood Learning\n",
    "\n",
    "Consider the task: predict a datum $x$ from an observed data set $D$.\n",
    "\n",
    "<table>\n",
    "<tr><td></td><td style=\"text-align:center\"> <b>Bayesian</b></td><td style=\"text-align:center\"> <b>Maximum Likelihood </b></td></tr>\n",
    "<tr><td>1. <b>Model Specification</b></td><td>Choose a model $m$ with data generating distribution $p(x|\\theta,m)$ and parameter prior $p(\\theta|m)$</td><td>Choose a model $m$ with same data generating distribution $p(x|\\theta,m)$. No need for priors.</td></tr>\n",
    "<tr><td>2. <b>Learning</b></td><td>use Bayes rule to find the parameter posterior,\n",
    "$$\n",
    "p(\\theta|D) = \\propto p(D|\\theta) p(\\theta)\n",
    "$$  </td><td>By Maximum Likelihood (ML) optimization,\n",
    "$$ \n",
    "    \\hat \\theta  = \\arg \\max_{\\theta}  p(D |\\theta)\n",
    "$$</td></tr>\n",
    "<tr><td>3. <b>Prediction</b></td><td>$$\n",
    "p(x|D) = \\int p(x|\\theta) p(\\theta|D) \\,\\mathrm{d}\\theta\n",
    "$$</td><td>\n",
    "$$ \n",
    "    p(x|D) =  p(x|\\hat\\theta)\n",
    "$$</td></tr>\n",
    "</table>"
   ]
  },
  {
   "cell_type": "markdown",
   "metadata": {
    "slideshow": {
     "slide_type": "slide"
    }
   },
   "source": [
    "### Report Card on Maximum Likelihood Estimation\n",
    "\n",
    "- Maximum Likelihood (ML) is MAP with uniform prior, or MAP is 'penalized' ML\n",
    "$$\n",
    "\\hat \\theta_{map}  = \\arg \\max _\\theta  \\{ \\overbrace{\\log\n",
    "p\\left( D|\\theta  \\right)}^{\\mbox{log-likelihood}} + \\overbrace{\\log\n",
    "p\\left( \\theta \\right)}^{\\mbox{penalty}} \\}\n",
    "$$"
   ]
  },
  {
   "cell_type": "markdown",
   "metadata": {
    "slideshow": {
     "slide_type": "fragment"
    }
   },
   "source": [
    "- (good!). Works rather well if we have a lot of data because the influence of the prior diminishes with more data."
   ]
  },
  {
   "cell_type": "markdown",
   "metadata": {
    "slideshow": {
     "slide_type": "fragment"
    }
   },
   "source": [
    "- (bad). Cannot be used for model comparison. E.g. best model does generally not correspond to largest likelihood (see part-2, Tjalkens)."
   ]
  },
  {
   "cell_type": "markdown",
   "metadata": {
    "slideshow": {
     "slide_type": "fragment"
    }
   },
   "source": [
    "- (good). Computationally often do-able. Useful fact (since $\\log$ is monotonously increasing):\n",
    "$$\\arg\\max_\\theta \\log p(D|\\theta) =  \\arg\\max_\\theta p(D|\\theta)$$"
   ]
  },
  {
   "cell_type": "markdown",
   "metadata": {
    "slideshow": {
     "slide_type": "fragment"
    }
   },
   "source": [
    "$\\Rightarrow$ **ML estimation is an approximation to Bayesian learning**, but for good reason a very popular learning method when faced with lots of available data."
   ]
  },
  {
   "cell_type": "markdown",
   "metadata": {
    "slideshow": {
     "slide_type": "skip"
    }
   },
   "source": [
    "---\n",
    "The cell below loads the style file"
   ]
  },
  {
   "cell_type": "code",
   "execution_count": 8,
   "metadata": {
    "slideshow": {
     "slide_type": "skip"
    }
   },
   "outputs": [
    {
     "data": {
      "text/html": [
       "<!--\n",
       "This HTML file contains custom styles and some javascript.\n",
       "Include it a Jupyter notebook for improved rendering.\n",
       "-->\n",
       "\n",
       "<!-- Fonts -->\n",
       "<link href='http://fonts.googleapis.com/css?family=Alegreya+Sans:100,300,400,500,700,800,900,100italic,300italic,400italic,500italic,700italic,800italic,900italic' rel='stylesheet' type='text/css'>\n",
       "<link href='http://fonts.googleapis.com/css?family=Arvo:400,700,400italic' rel='stylesheet' type='text/css'>\n",
       "<link href='http://fonts.googleapis.com/css?family=PT+Mono' rel='stylesheet' type='text/css'>\n",
       "<link href='http://fonts.googleapis.com/css?family=Shadows+Into+Light' rel='stylesheet' type='text/css'>\n",
       "<link href='http://fonts.googleapis.com/css?family=Nixie+One' rel='stylesheet' type='text/css'>\n",
       "\n",
       "<!-- Custom style -->\n",
       "<style>\n",
       "\n",
       "@font-face {\n",
       "    font-family: \"Computer Modern\";\n",
       "    src: url('http://mirrors.ctan.org/fonts/cm-unicode/fonts/otf/cmunss.otf');\n",
       "}\n",
       "\n",
       "#notebook_panel { /* main background */\n",
       "    background: rgb(245,245,245);\n",
       "}\n",
       "\n",
       "div.container {\n",
       "    min-width: 960px;\n",
       "}\n",
       "\n",
       "div #notebook { /* centre the content */\n",
       "    background: #fff; /* white background for content */\n",
       "    margin: auto;\n",
       "    padding-left: 0em;\n",
       "}\n",
       "\n",
       "#notebook li { /* More space between bullet points */\n",
       "    margin-top:0.8em;\n",
       "}\n",
       "\n",
       "/* draw border around running cells */\n",
       "div.cell.border-box-sizing.code_cell.running {\n",
       "    border: 1px solid #111;\n",
       "}\n",
       "\n",
       "/* Put a solid color box around each cell and its output, visually linking them*/\n",
       "div.cell.code_cell {\n",
       "    background-color: rgb(256,256,256);\n",
       "    border-radius: 0px;\n",
       "    padding: 0.5em;\n",
       "    margin-left:1em;\n",
       "    margin-top: 1em;\n",
       "}\n",
       "\n",
       "div.text_cell_render{\n",
       "    font-family: 'Alegreya Sans' sans-serif;\n",
       "    line-height: 140%;\n",
       "    font-size: 125%;\n",
       "    font-weight: 400;\n",
       "    width:800px;\n",
       "    margin-left:auto;\n",
       "    margin-right:auto;\n",
       "}\n",
       "\n",
       "\n",
       "/* Formatting for header cells */\n",
       ".text_cell_render h1 {\n",
       "    font-family: 'Nixie One', serif;\n",
       "    font-style:regular;\n",
       "    font-weight: 400;\n",
       "    font-size: 45pt;\n",
       "    line-height: 100%;\n",
       "    color: rgb(0,51,102);\n",
       "    margin-bottom: 0.5em;\n",
       "    margin-top: 0.5em;\n",
       "    display: block;\n",
       "}\n",
       "\n",
       ".text_cell_render h2 {\n",
       "    font-family: 'Nixie One', serif;\n",
       "    font-weight: 400;\n",
       "    font-size: 30pt;\n",
       "    line-height: 100%;\n",
       "    color: rgb(0,51,102);\n",
       "    margin-bottom: 0.1em;\n",
       "    margin-top: 0.3em;\n",
       "    display: block;\n",
       "}\n",
       "\n",
       ".text_cell_render h3 {\n",
       "    font-family: 'Nixie One', serif;\n",
       "    margin-top:16px;\n",
       "    font-size: 22pt;\n",
       "    font-weight: 600;\n",
       "    margin-bottom: 3px;\n",
       "    font-style: regular;\n",
       "    color: rgb(102,102,0);\n",
       "}\n",
       "\n",
       ".text_cell_render h4 {    /*Use this for captions*/\n",
       "    font-family: 'Nixie One', serif;\n",
       "    font-size: 14pt;\n",
       "    text-align: center;\n",
       "    margin-top: 0em;\n",
       "    margin-bottom: 2em;\n",
       "    font-style: regular;\n",
       "}\n",
       "\n",
       ".text_cell_render h5 {  /*Use this for small titles*/\n",
       "    font-family: 'Nixie One', sans-serif;\n",
       "    font-weight: 400;\n",
       "    font-size: 16pt;\n",
       "    color: rgb(163,0,0);\n",
       "    font-style: italic;\n",
       "    margin-bottom: .1em;\n",
       "    margin-top: 0.8em;\n",
       "    display: block;\n",
       "}\n",
       "\n",
       ".text_cell_render h6 { /*use this for copyright note*/\n",
       "    font-family: 'PT Mono', sans-serif;\n",
       "    font-weight: 300;\n",
       "    font-size: 9pt;\n",
       "    line-height: 100%;\n",
       "    color: grey;\n",
       "    margin-bottom: 1px;\n",
       "    margin-top: 1px;\n",
       "}\n",
       "\n",
       ".CodeMirror{\n",
       "    font-family: \"PT Mono\";\n",
       "    font-size: 90%;\n",
       "}\n",
       "\n",
       ".boxed { /* draw a border around a piece of text */\n",
       "  border: 1px solid blue ;\n",
       "}\n",
       "\n",
       "h4#CODE-EXAMPLE,\n",
       "h4#END-OF-CODE-EXAMPLE {\n",
       "    margin: 10px 0;\n",
       "    padding: 10px;\n",
       "    background-color: #d0f9ca !important;\n",
       "    border-top: #849f81 1px solid;\n",
       "    border-bottom: #849f81 1px solid;\n",
       "}\n",
       "\n",
       ".emphasis {\n",
       "    color: red;\n",
       "}\n",
       "\n",
       ".exercise {\n",
       "    color: green;\n",
       "}\n",
       "\n",
       ".proof {\n",
       "    color: blue;\n",
       "}\n",
       "\n",
       "code {\n",
       "  padding: 2px 4px !important;\n",
       "  font-size: 90% !important;\n",
       "  color: #222 !important;\n",
       "  background-color: #efefef !important;\n",
       "  border-radius: 2px !important;\n",
       "}\n",
       "\n",
       "/* This removes the actual style cells from the notebooks, but no in print mode\n",
       "   as they will be removed through some other method */\n",
       "@media not print {\n",
       "  .cell:nth-last-child(-n+2) {\n",
       "    display: none;\n",
       "  }\n",
       "}\n",
       "\n",
       "</style>\n",
       "\n",
       "<!-- MathJax styling -->\n",
       "<script>\n",
       "    MathJax.Hub.Config({\n",
       "                        TeX: {\n",
       "                           extensions: [\"AMSmath.js\"],\n",
       "                           equationNumbers: { autoNumber: \"AMS\", useLabelIds: true}\n",
       "                           },\n",
       "                tex2jax: {\n",
       "                    inlineMath: [ ['$','$'], [\"\\\\(\",\"\\\\)\"] ],\n",
       "                    displayMath: [ ['$$','$$'], [\"\\\\[\",\"\\\\]\"] ]\n",
       "                },\n",
       "                displayAlign: 'center', // Change this to 'center' to center equations.\n",
       "                \"HTML-CSS\": {\n",
       "                    styles: {'.MathJax_Display': {\"margin\": 4}}\n",
       "                }\n",
       "        });\n",
       "</script>\n"
      ]
     },
     "metadata": {},
     "output_type": "display_data"
    }
   ],
   "source": [
    "open(\"../../styles/aipstyle.html\") do f display(\"text/html\", read(f, String)) end"
   ]
  },
  {
   "cell_type": "code",
   "execution_count": null,
   "metadata": {},
   "outputs": [],
   "source": []
  }
 ],
 "metadata": {
  "@webio": {
   "lastCommId": "0edceeb5b5d748f5987d5e6719f15198",
   "lastKernelId": "1e91b343-4cbb-4e56-94bb-edf332d47cc6"
  },
  "anaconda-cloud": {},
  "celltoolbar": "Slideshow",
  "kernelspec": {
   "display_name": "Julia 1.0.1",
   "language": "julia",
   "name": "julia-1.0"
  },
  "language_info": {
   "file_extension": ".jl",
   "mimetype": "application/julia",
   "name": "julia",
   "version": "1.0.1"
  }
 },
 "nbformat": 4,
 "nbformat_minor": 1
}
