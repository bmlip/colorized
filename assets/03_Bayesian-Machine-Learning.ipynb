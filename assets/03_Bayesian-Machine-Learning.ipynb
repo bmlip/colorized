{
 "cells": [
  {
   "cell_type": "markdown",
   "metadata": {
    "slideshow": {
     "slide_type": "slide"
    }
   },
   "source": [
    "# Bayesian Machine Learning"
   ]
  },
  {
   "cell_type": "markdown",
   "metadata": {
    "slideshow": {
     "slide_type": "slide"
    }
   },
   "source": [
    "### Preliminaries\n",
    "\n",
    "- Goals\n",
    "  - Introduction to Bayesian (i.e., probabilistic) modeling\n",
    "- Materials\n",
    "  - Mandatory\n",
    "    - These lecture notes\n",
    "  - Optional\n",
    "    - Bishop pp. 21-24   "
   ]
  },
  {
   "cell_type": "markdown",
   "metadata": {
    "slideshow": {
     "slide_type": "slide"
    }
   },
   "source": [
    "### Example Problem: Predicting a Coin Toss\n",
    "\n",
    "- **Question**. We observe a the following sequence of heads (h) and tails (t) when tossing the same coin repeatedly $$D=\\{hthhtth\\}\\,.$$\n",
    "\n",
    "- What is the probability that heads (h) comes up next?"
   ]
  },
  {
   "cell_type": "markdown",
   "metadata": {
    "slideshow": {
     "slide_type": "fragment"
    }
   },
   "source": [
    "- **Answer** later in this lecture. "
   ]
  },
  {
   "cell_type": "markdown",
   "metadata": {
    "slideshow": {
     "slide_type": "slide"
    }
   },
   "source": [
    "### The Bayesian Machine Learning Framework\n",
    "\n",
    "- Suppose that your task is to predict a future observation $x$, based on $N$ past observations $D=\\{x_1,\\dotsc,x_N\\}$."
   ]
  },
  {
   "cell_type": "markdown",
   "metadata": {
    "slideshow": {
     "slide_type": "fragment"
    }
   },
   "source": [
    "- The Bayesian approach for this task involves three stages: \n",
    "  1. Model specification\n",
    "  1. Parameter estimation (i.e., learning from observed data; using Bayesian inference)\n",
    "  1. Prediction (apply the model)"
   ]
  },
  {
   "cell_type": "markdown",
   "metadata": {
    "slideshow": {
     "slide_type": "fragment"
    }
   },
   "source": [
    "  \n",
    "- Next, we discuss these three stages in a bit more detail."
   ]
  },
  {
   "cell_type": "markdown",
   "metadata": {
    "slideshow": {
     "slide_type": "slide"
    }
   },
   "source": [
    "### (1) Model specification\n",
    "\n",
    "Your first task is to propose a model with tuning parameters $\\theta$ for generating the observations $x$."
   ]
  },
  {
   "cell_type": "markdown",
   "metadata": {
    "slideshow": {
     "slide_type": "fragment"
    }
   },
   "source": [
    "- This involves specification of $p(x|\\theta)$ and a prior for the parameters $p(\\theta)$."
   ]
  },
  {
   "cell_type": "markdown",
   "metadata": {
    "slideshow": {
     "slide_type": "fragment"
    }
   },
   "source": [
    "- _You_ choose the distribution $p(x|\\theta)$ based on your physical understanding of the data generating process.\n",
    "- Note that, for a given data set $D=\\{x_1,x_2,\\dots,x_N\\}$ with independent observations $x_n$,\n",
    "$$ p(D|\\theta) = \\prod_{n=1}^N p(x_n|\\theta)$$\n",
    "so usually you select a model for generating one observation $x_n$ and then use (in-)dependence assumptions to combine these models into a model for your observed data set $D$. "
   ]
  },
  {
   "cell_type": "markdown",
   "metadata": {
    "slideshow": {
     "slide_type": "fragment"
    }
   },
   "source": [
    "- _You_ choose the prior $p(\\theta)$ to reflect what you know about the parameter values before you see the data $D$.\n",
    "  "
   ]
  },
  {
   "cell_type": "markdown",
   "metadata": {
    "slideshow": {
     "slide_type": "slide"
    }
   },
   "source": [
    "### (2) Parameter estimation\n",
    "\n",
    "- After model specification, you need to measure/collect a data set $D$. Then, use Bayes rule to find the posterior distribution for the parameters,\n",
    "$$\n",
    "p(\\theta|D) = \\frac{p(D|\\theta) p(\\theta)}{p(D)} \\propto p(D|\\theta) p(\\theta)\n",
    "$$  \n",
    "  - The denominator is only a normalization factor."
   ]
  },
  {
   "cell_type": "markdown",
   "metadata": {
    "slideshow": {
     "slide_type": "fragment"
    }
   },
   "source": [
    "- Note that there's **no need for you to design a _smart_ parameter estimation algorithm**. The only complexity lies in the computational issues.  "
   ]
  },
  {
   "cell_type": "markdown",
   "metadata": {
    "slideshow": {
     "slide_type": "fragment"
    }
   },
   "source": [
    "- This \"recipe\" works only if the RHS factors can be evaluated; this is what machine learning is about     \n",
    "  $\\Rightarrow$ **Machine learning is EASY, apart from computational details :) **\n",
    "  "
   ]
  },
  {
   "cell_type": "markdown",
   "metadata": {
    "slideshow": {
     "slide_type": "slide"
    }
   },
   "source": [
    "### (3) Prediction\n",
    "\n",
    "- Given the data $D$, our knowledge about the yet unobserved datum $x$ is captured by\n",
    "$$\\begin{align*}\n",
    "p(x|D) &= \\int p(x,\\theta|D) \\,\\mathrm{d}\\theta\\\\\n",
    " &= \\int p(x|\\theta,D) p(\\theta|D) \\,\\mathrm{d}\\theta\\\\\n",
    " &= \\int p(x|\\theta) p(\\theta|D) \\,\\mathrm{d}\\theta\\\\\n",
    "\\end{align*}$$"
   ]
  },
  {
   "cell_type": "markdown",
   "metadata": {
    "slideshow": {
     "slide_type": "fragment"
    }
   },
   "source": [
    "- Again, **no need to invent a special prediction algorithm**. Probability theory takes care of all that. The complexity of prediction is just computational: how to carry out the marginalization over $\\theta$."
   ]
  },
  {
   "cell_type": "markdown",
   "metadata": {
    "slideshow": {
     "slide_type": "fragment"
    }
   },
   "source": [
    "- In order to execute prediction, you need to have access to the factors $p(x|\\theta)$ and $p(\\theta|D)$. Where do these factors come from? Are they available?\n",
    "  "
   ]
  },
  {
   "cell_type": "markdown",
   "metadata": {
    "slideshow": {
     "slide_type": "fragment"
    }
   },
   "source": [
    "- What did we learn from $D$? Without access to $D$, we would predict new observations through\n",
    "$$\n",
    "p(x) = \\int p(x,\\theta) \\,\\mathrm{d}\\theta = \\int p(x|\\theta) p(\\theta) \\,\\mathrm{d}\\theta\n",
    "$$"
   ]
  },
  {
   "cell_type": "markdown",
   "metadata": {
    "slideshow": {
     "slide_type": "fragment"
    }
   },
   "source": [
    "- NB The application of the learned posterior $p(\\theta|D)$ not necessarily has to be prediction. We use it here as an example, but other applications are of course also possible. \n",
    "  "
   ]
  },
  {
   "cell_type": "markdown",
   "metadata": {
    "slideshow": {
     "slide_type": "slide"
    }
   },
   "source": [
    "###  Bayesian Model Comparison \n",
    "\n",
    "- There appears to be a remaining problem: How good really were our model assumptions $p(x|\\theta)$ and $p(\\theta)$?  "
   ]
  },
  {
   "cell_type": "markdown",
   "metadata": {
    "slideshow": {
     "slide_type": "fragment"
    }
   },
   "source": [
    "- Technically, this is a **model comparison** problem"
   ]
  },
  {
   "cell_type": "markdown",
   "metadata": {
    "slideshow": {
     "slide_type": "fragment"
    }
   },
   "source": [
    "- [**Q**.] What if I have more candidate models, say $\\mathcal{M} = \\{m_1,\\ldots,m_K\\}$ where each model relates to specific prior $p(\\theta|m_k)$ and likelihood $p(D|\\theta,m_k)$? Can we evaluate the relative performance of a model against another model from the set?"
   ]
  },
  {
   "cell_type": "markdown",
   "metadata": {
    "slideshow": {
     "slide_type": "fragment"
    }
   },
   "source": [
    "- [**A**.]: Start again with **model specification**. Specify a prior $p(m_k)$ for each of the models and then solve the desired inference problem:      \n",
    "$$\\begin{align*} \n",
    "p(m_k|D) &= \\frac{p(D|m_k) p(m_k)}{p(D)} \\\\\n",
    "  &\\propto p(m_k) \\cdot p(D|m_k) \\\\\n",
    "  &= p(m_k)\\cdot \\int_\\theta p(D,\\theta|m_k) \\,\\mathrm{d}\\theta\\\\\n",
    "  &= \\underbrace{p(m_k)}_{\\substack{\\text{model}\\\\\\text{prior}}}\\cdot \\int_\\theta \\underbrace{p(D|\\theta,m_k)}_{\\text{likelihood}} \\,\\underbrace{p(\\theta|m_k)}_{\\text{prior}}\\, \\mathrm{d}\\theta\\\\\n",
    "\\end{align*}$$"
   ]
  },
  {
   "cell_type": "markdown",
   "metadata": {
    "slideshow": {
     "slide_type": "slide"
    }
   },
   "source": [
    "### Bayesian Model Comparison (continued) \n",
    "\n",
    "- You, the engineer, have to choose the factors $p(D|\\theta,m_k)$, $p(\\theta|m_k)$ and $p(m_k)$. After that, for a given data set $D$, the model posterior $p(m_k|D)$ can be computed. "
   ]
  },
  {
   "cell_type": "markdown",
   "metadata": {
    "slideshow": {
     "slide_type": "fragment"
    }
   },
   "source": [
    "- If you need to work with one model,select the model with largest posterior $p(m_k|D)$"
   ]
  },
  {
   "cell_type": "markdown",
   "metadata": {
    "slideshow": {
     "slide_type": "fragment"
    }
   },
   "source": [
    "- Alternatively, if you don't want to choose a model, you can do prediction by **Bayesian model averaging** to utilitize the predictive power from all models:\n",
    "$$\\begin{align*}\n",
    "p(x|D) &= \\sum_k \\int p(x,\\theta,m_k|D)\\,\\mathrm{d}\\theta \\\\\n",
    "  &= \\sum_k \\underbrace{p(m_k|D)}_{\\substack{\\text{model}\\\\\\text{posterior}}} \\cdot \\int \\underbrace{p(\\theta|D)}_{\\substack{\\text{parameter}\\\\\\text{posterior}}} \\, \\underbrace{p(x|\\theta,m_k)}_{\\text{likelihood}} \\,\\mathrm{d}\\theta\n",
    "\\end{align*}$$ "
   ]
  },
  {
   "cell_type": "markdown",
   "metadata": {
    "slideshow": {
     "slide_type": "fragment"
    }
   },
   "source": [
    "- $\\Rightarrow$ In a Bayesian framework, **model comparison** follows the same recipe as parameter estimation; it just works at one higher hierarchical level."
   ]
  },
  {
   "cell_type": "markdown",
   "metadata": {
    "slideshow": {
     "slide_type": "fragment"
    }
   },
   "source": [
    "- More on this in part 2 (Tjalkens).  "
   ]
  },
  {
   "cell_type": "markdown",
   "metadata": {
    "slideshow": {
     "slide_type": "slide"
    }
   },
   "source": [
    "### Machine Learning and the Scientific Method Revisited\n",
    "\n",
    "- Bayesian probability theory provides a unified framework for information processing (and even the Scientific Method).\n",
    "\n",
    "<img src=\"./figures/ml-and-scientific-loop-2.png\" width=\"450px\">"
   ]
  },
  {
   "cell_type": "markdown",
   "metadata": {
    "slideshow": {
     "slide_type": "slide"
    }
   },
   "source": [
    "### Now Solve the Example Problem: Predicting a Coin Toss\n",
    "\n",
    "- We observe a the following sequence of heads (h) and tails (t) when tossing the same coin repeatedly $$D=\\{hthhtth\\}\\,.$$\n",
    "\n",
    "- What is the probability that heads (h) comes up next? We solve this in the next slides ..."
   ]
  },
  {
   "cell_type": "markdown",
   "metadata": {
    "slideshow": {
     "slide_type": "slide"
    }
   },
   "source": [
    "### Coin toss example (1): Model Specification\n",
    "\n",
    "We observe a sequence of $N$ coin tosses $D=\\{x_1,\\ldots,x_N\\}$ with $n$ heads. "
   ]
  },
  {
   "cell_type": "markdown",
   "metadata": {
    "slideshow": {
     "slide_type": "fragment"
    }
   },
   "source": [
    "##### Likelihood\n",
    "- Assume a Bernoulli distributed variable $p(x_k=h|\\mu)=\\mu$, which leads to a **binomial** distribution for the likelihood (assume $n$ times heads were thrown):\n",
    "$$   \n",
    "p(D|\\mu) = \\prod_{k=1}^N p(x_k|\\mu) = \\mu^n (1-\\mu)^{N-n}\n",
    "$$"
   ]
  },
  {
   "cell_type": "markdown",
   "metadata": {
    "slideshow": {
     "slide_type": "fragment"
    }
   },
   "source": [
    "##### Prior\n",
    "-  Assume the prior belief is governed by a **beta distribution**\n",
    "$$\n",
    "p(\\mu) = \\mathcal{B}(\\mu|\\alpha,\\beta) = \\frac{\\Gamma(\\alpha+\\beta)}{\\Gamma(\\alpha)\\Gamma(\\beta)} \\mu^{\\alpha-1}(1-\\mu)^{\\beta-1}\n",
    "$$\n",
    "<!---  - The Gamma function is sort of a generalized factorial function. If $\\alpha,\\beta$ are integers, then $\\frac{\\Gamma(\\alpha+\\beta)}{\\Gamma(\\alpha)(\\Gamma(\\beta)} = \\frac{(\\alpha+\\beta-1)!}{(\\alpha-1)!\\,(\\beta-1)!}$\n",
    "---> "
   ]
  },
  {
   "cell_type": "markdown",
   "metadata": {
    "slideshow": {
     "slide_type": "fragment"
    }
   },
   "source": [
    "- The Beta distribution is a **conjugate prior** for the Binomial distribution, which means that \n",
    "$$\n",
    "\\text{beta} \\propto \\text{binomial} \\times \\text{beta}\n",
    "$$"
   ]
  },
  {
   "cell_type": "markdown",
   "metadata": {
    "slideshow": {
     "slide_type": "fragment"
    }
   },
   "source": [
    "- $\\alpha$ and $\\beta$ are called **hyperparameters**, since they parameterize the distribution for another parameter ($\\mu$). E.g., $\\alpha=\\beta=1$ (uniform).\n",
    "  "
   ]
  },
  {
   "cell_type": "markdown",
   "metadata": {
    "slideshow": {
     "slide_type": "slide"
    }
   },
   "source": [
    "### Coin toss example (2): Parameter estimation\n",
    "\n",
    "- Infer posterior PDF over $\\mu$ through Bayes rule\n",
    "\n",
    "$$\\begin{align*}\n",
    "p(\\mu|D) &\\propto p(D|\\mu)\\,p(\\mu|\\alpha,\\beta)  \\\\ \n",
    "        &= \\mu^n (1-\\mu)^{N-n} \\times \\mu^{\\alpha-1} (1-\\mu)^{\\beta-1} \\\\\n",
    "        &= \\mu^{n+\\alpha-1} (1-\\mu)^{N-n+\\beta-1} \n",
    "\\end{align*}$$\n",
    "\n",
    "hence the posterior is also beta distributed as\n",
    "\n",
    "$$\n",
    "p(\\mu|D) = \\mathcal{B}(\\mu|\\,n+\\alpha, N-n+\\beta)\n",
    "$$"
   ]
  },
  {
   "cell_type": "markdown",
   "metadata": {
    "slideshow": {
     "slide_type": "fragment"
    }
   },
   "source": [
    "- Essentially, **here ends the machine learning activity**"
   ]
  },
  {
   "cell_type": "markdown",
   "metadata": {
    "slideshow": {
     "slide_type": "slide"
    }
   },
   "source": [
    "### Coin Toss Example (3): Prediction\n",
    "\n",
    "- Now, we want to **use** the trained model. Let's use it to predict future observations. "
   ]
  },
  {
   "cell_type": "markdown",
   "metadata": {
    "slideshow": {
     "slide_type": "fragment"
    }
   },
   "source": [
    "- Marginalize over the parameter posterior to get the predictive PDF for a new coin toss $x_\\bullet$, given the data $D$,\n",
    "\n",
    "$$\\begin{align*}\n",
    "p(x_\\bullet=h|D)  &= \\int_0^1 p(x_\\bullet=h|\\mu)\\,p(\\mu|D) \\,\\mathrm{d}\\mu \\\\\n",
    "  &= \\int_0^1 \\mu \\times  \\mathcal{B}(\\mu|\\,n+\\alpha, N-n+\\beta) \\,\\mathrm{d}\\mu  \\\\\n",
    "  &= \\frac{n+\\alpha}{N+\\alpha+\\beta} \\qquad \\mbox{(a.k.a. Laplace rule)}\\hfill\n",
    "\\end{align*}$$"
   ]
  },
  {
   "cell_type": "markdown",
   "metadata": {
    "slideshow": {
     "slide_type": "fragment"
    }
   },
   "source": [
    "- Finally, we're ready to solve our example problem: for $D=\\{hthhtth\\}$ and uniform prior ($\\alpha=\\beta=1$), we get\n",
    "\n",
    "$$ p(x_\\bullet=h|D)=\\frac{n+1}{N+2} = \\frac{4+1}{7+2} = \\frac{5}{9}$$\n",
    " "
   ]
  },
  {
   "cell_type": "markdown",
   "metadata": {
    "slideshow": {
     "slide_type": "slide"
    }
   },
   "source": [
    "### Coin Toss Example: What did we learn?\n",
    "\n",
    "- What did we learn from the data? Before seeing any data, we think that $$p(x_\\bullet=h)=\\left. p(x_\\bullet=h|D) \\right|_{n=N=0} = \\frac{\\alpha}{\\alpha + \\beta}\\,.$$ "
   ]
  },
  {
   "cell_type": "markdown",
   "metadata": {
    "slideshow": {
     "slide_type": "fragment"
    }
   },
   "source": [
    "- After the $N$ coin tosses, we think that $p(x_\\bullet=h|D) = \\frac{n+\\alpha}{N+\\alpha+\\beta}$."
   ]
  },
  {
   "cell_type": "markdown",
   "metadata": {
    "slideshow": {
     "slide_type": "fragment"
    }
   },
   "source": [
    "- Note the following decomposition\n",
    "\n",
    "$$\\begin{align*}\n",
    "    p(x_\\bullet=h|\\,D) &= \\frac{n+\\alpha}{N+\\alpha+\\beta} = \\frac{n}{N+\\alpha+\\beta} + \\frac{\\alpha}{N+\\alpha+\\beta} \\\\\n",
    "        &= \\frac{N}{N+\\alpha+\\beta}\\cdot \\frac{n}{N} + \\frac{\\alpha+\\beta}{N+\\alpha+\\beta} \\cdot \\frac{\\alpha}{\\alpha+\\beta} \\\\\n",
    "        &= \\underbrace{\\frac{\\alpha}{\\alpha+\\beta}}_{prior} + \\underbrace{\\frac{N}{N+\\alpha+\\beta}}_{gain}\\cdot \\big( \\underbrace{\\frac{n}{N}}_{MLE} - \\underbrace{\\frac{\\alpha}{\\alpha+\\beta}}_{prior} \\big)\n",
    "\\end{align*}$$"
   ]
  },
  {
   "cell_type": "markdown",
   "metadata": {
    "slideshow": {
     "slide_type": "fragment"
    }
   },
   "source": [
    "- Note that, since $0\\leq\\text{gain}\\lt 1$, the Bayesian estimate lies between prior and maximum likelihood estimate."
   ]
  },
  {
   "cell_type": "markdown",
   "metadata": {
    "slideshow": {
     "slide_type": "fragment"
    }
   },
   "source": [
    "- For large $N$, the gain goes to $1$ and $p(x_\\bullet=h|D)$ goes to the maximum likelihood estimate (the relative frequency) $n/N$."
   ]
  },
  {
   "cell_type": "markdown",
   "metadata": {
    "slideshow": {
     "slide_type": "slide"
    }
   },
   "source": [
    "#### CODE EXAMPLE\n",
    "\n",
    "**Bayesian evolution of $p(\\mu|D)$ for the coin toss**\n",
    "\n",
    "Let's see how $p(\\mu|D)$ evolves as we increase the number of coin tosses $N$. We'll use two different priors to demonstrate the effect of the prior on the posterior (set $N=0$ to inspect the prior)."
   ]
  },
  {
   "cell_type": "code",
   "execution_count": 1,
   "metadata": {
    "slideshow": {
     "slide_type": "subslide"
    }
   },
   "outputs": [
    {
     "data": {
      "text/html": [
       "    <script class='js-collapse-script'>\n",
       "        var curMatch =\n",
       "            window.location.href\n",
       "            .match(/(.*?)\\/notebooks\\/.*\\.ipynb/);\n",
       "\n",
       "        curMatch = curMatch ||\n",
       "            window.location.href\n",
       "            .match(/(.*?)\\/apps\\/.*\\.ipynb/);\n",
       "\n",
       "        if ( curMatch ) {\n",
       "            $('head').append('<base href=\"' + curMatch[1] + '/\">');\n",
       "        }\n",
       "    </script>\n"
      ],
      "text/plain": [
       "HTML{String}(\"    <script class='js-collapse-script'>\\n        var curMatch =\\n            window.location.href\\n            .match(/(.*?)\\\\/notebooks\\\\/.*\\\\.ipynb/);\\n\\n        curMatch = curMatch ||\\n            window.location.href\\n            .match(/(.*?)\\\\/apps\\\\/.*\\\\.ipynb/);\\n\\n        if ( curMatch ) {\\n            \\$('head').append('<base href=\\\"' + curMatch[1] + '/\\\">');\\n        }\\n    </script>\\n\")"
      ]
     },
     "metadata": {},
     "output_type": "display_data"
    },
    {
     "data": {
      "text/html": [
       "<script class='js-collapse-script' src='/assetserver/dd91f3031364604158edbfeafbf7beddcd119b2c-assets/webio/dist/bundle.js'></script>"
      ],
      "text/plain": [
       "HTML{String}(\"<script class='js-collapse-script' src='/assetserver/dd91f3031364604158edbfeafbf7beddcd119b2c-assets/webio/dist/bundle.js'></script>\")"
      ]
     },
     "metadata": {},
     "output_type": "display_data"
    },
    {
     "data": {
      "text/html": [
       "<script class='js-collapse-script' src='/assetserver/dd91f3031364604158edbfeafbf7beddcd119b2c-assets/providers/ijulia_setup.js'></script>"
      ],
      "text/plain": [
       "HTML{String}(\"<script class='js-collapse-script' src='/assetserver/dd91f3031364604158edbfeafbf7beddcd119b2c-assets/providers/ijulia_setup.js'></script>\")"
      ]
     },
     "metadata": {},
     "output_type": "display_data"
    },
    {
     "data": {
      "text/html": [
       "  <script class='js-collapse-script'>\n",
       "    $('.js-collapse-script').parent('.output_subarea').css('padding', '0');\n",
       "  </script>\n"
      ],
      "text/plain": [
       "HTML{String}(\"  <script class='js-collapse-script'>\\n    \\$('.js-collapse-script').parent('.output_subarea').css('padding', '0');\\n  </script>\\n\")"
      ]
     },
     "metadata": {},
     "output_type": "display_data"
    },
    {
     "data": {
      "text/html": [
       "<div class='tex2jax_ignore interactbulma'>\n",
       "<div class='display:none'></div><unsafe-script style='display:none'>\n",
       "WebIO.mount(this.previousSibling,{&quot;props&quot;:{},&quot;nodeType&quot;:&quot;DOM&quot;,&quot;type&quot;:&quot;node&quot;,&quot;instanceArgs&quot;:{&quot;namespace&quot;:&quot;html&quot;,&quot;tag&quot;:&quot;div&quot;},&quot;children&quot;:[{&quot;props&quot;:{&quot;className&quot;:&quot;field&quot;},&quot;nodeType&quot;:&quot;DOM&quot;,&quot;type&quot;:&quot;node&quot;,&quot;instanceArgs&quot;:{&quot;namespace&quot;:&quot;html&quot;,&quot;tag&quot;:&quot;div&quot;},&quot;children&quot;:[{&quot;props&quot;:{},&quot;nodeType&quot;:&quot;Scope&quot;,&quot;type&quot;:&quot;node&quot;,&quot;instanceArgs&quot;:{&quot;imports&quot;:{&quot;data&quot;:[{&quot;name&quot;:&quot;knockout&quot;,&quot;type&quot;:&quot;js&quot;,&quot;url&quot;:&quot;/assetserver/88bf0b823d344fcff0b77616d12840286b6c8fa3-knockout.js&quot;},{&quot;name&quot;:&quot;knockout_punches&quot;,&quot;type&quot;:&quot;js&quot;,&quot;url&quot;:&quot;/assetserver/2bd5b097e96d6b4fb8b3b86c01ec3eb6f00ba8bc-knockout_punches.js&quot;},{&quot;name&quot;:null,&quot;type&quot;:&quot;js&quot;,&quot;url&quot;:&quot;/assetserver/b99cafbdfef92f3ee953fb526735a1dc859a3cb8-all.js&quot;},{&quot;name&quot;:null,&quot;type&quot;:&quot;css&quot;,&quot;url&quot;:&quot;/assetserver/7cf3e66f9d9a3ecda0c31b46ccb0a0fbd86a9753-style.css&quot;},{&quot;name&quot;:null,&quot;type&quot;:&quot;css&quot;,&quot;url&quot;:&quot;/assetserver/84fa6bb423ab1a438691a358fbcb123d0820e96c-main.css&quot;}],&quot;type&quot;:&quot;async_block&quot;},&quot;id&quot;:&quot;knockout-component-30d8008c-bf56-4816-9cfe-cf113579ac33&quot;,&quot;handlers&quot;:{&quot;_promises&quot;:{&quot;importsLoaded&quot;:[function (ko, koPunches) {\n",
       "    ko.punches.enableAll();\n",
       "    ko.bindingHandlers.numericValue = {\n",
       "        init : function(element, valueAccessor, allBindings, data, context) {\n",
       "            var stringified = ko.observable(ko.unwrap(valueAccessor()));\n",
       "            stringified.subscribe(function(value) {\n",
       "                var val = parseFloat(value);\n",
       "                if (!isNaN(val)) {\n",
       "                    valueAccessor()(val);\n",
       "                }\n",
       "            })\n",
       "            valueAccessor().subscribe(function(value) {\n",
       "                var str = JSON.stringify(value);\n",
       "                if ((str == &quot;0&quot;) &amp;&amp; ([&quot;-0&quot;, &quot;-0.&quot;].indexOf(stringified()) &gt;= 0))\n",
       "                     return;\n",
       "                 if ([&quot;null&quot;, &quot;&quot;].indexOf(str) &gt;= 0)\n",
       "                     return;\n",
       "                stringified(str);\n",
       "            })\n",
       "            ko.applyBindingsToNode(element, { value: stringified, valueUpdate: allBindings.get(&#39;valueUpdate&#39;)}, context);\n",
       "        }\n",
       "    };\n",
       "    var json_data = JSON.parse(&quot;{\\&quot;changes\\&quot;:0,\\&quot;value\\&quot;:96}&quot;);\n",
       "    var self = this;\n",
       "    function AppViewModel() {\n",
       "        for (var key in json_data) {\n",
       "            var el = json_data[key];\n",
       "            this[key] = Array.isArray(el) ? ko.observableArray(el) : ko.observable(el);\n",
       "        }\n",
       "        \n",
       "        \n",
       "        [this[&quot;changes&quot;].subscribe((function (val){!(this.valueFromJulia[&quot;changes&quot;]) ? (WebIO.setval({&quot;name&quot;:&quot;changes&quot;,&quot;scope&quot;:&quot;knockout-component-30d8008c-bf56-4816-9cfe-cf113579ac33&quot;,&quot;id&quot;:&quot;ob_02&quot;,&quot;type&quot;:&quot;observable&quot;},val)) : undefined; return this.valueFromJulia[&quot;changes&quot;]=false}),self),this[&quot;value&quot;].subscribe((function (val){!(this.valueFromJulia[&quot;value&quot;]) ? (WebIO.setval({&quot;name&quot;:&quot;value&quot;,&quot;scope&quot;:&quot;knockout-component-30d8008c-bf56-4816-9cfe-cf113579ac33&quot;,&quot;id&quot;:&quot;ob_01&quot;,&quot;type&quot;:&quot;observable&quot;},val)) : undefined; return this.valueFromJulia[&quot;value&quot;]=false}),self)]\n",
       "        \n",
       "    }\n",
       "    self.model = new AppViewModel();\n",
       "    self.valueFromJulia = {};\n",
       "    for (var key in json_data) {\n",
       "        self.valueFromJulia[key] = false;\n",
       "    }\n",
       "    ko.applyBindings(self.model, self.dom);\n",
       "}\n",
       "]},&quot;changes&quot;:[(function (val){return (val!=this.model[&quot;changes&quot;]()) ? (this.valueFromJulia[&quot;changes&quot;]=true, this.model[&quot;changes&quot;](val)) : undefined})],&quot;value&quot;:[(function (val){return (val!=this.model[&quot;value&quot;]()) ? (this.valueFromJulia[&quot;value&quot;]=true, this.model[&quot;value&quot;](val)) : undefined})]},&quot;systemjs_options&quot;:null,&quot;observables&quot;:{&quot;changes&quot;:{&quot;sync&quot;:false,&quot;id&quot;:&quot;ob_02&quot;,&quot;value&quot;:0},&quot;value&quot;:{&quot;sync&quot;:true,&quot;id&quot;:&quot;ob_01&quot;,&quot;value&quot;:96}}},&quot;children&quot;:[{&quot;props&quot;:{&quot;attributes&quot;:{&quot;style&quot;:&quot;display:flex; justify-content:center; align-items:center;&quot;}},&quot;nodeType&quot;:&quot;DOM&quot;,&quot;type&quot;:&quot;node&quot;,&quot;instanceArgs&quot;:{&quot;namespace&quot;:&quot;html&quot;,&quot;tag&quot;:&quot;div&quot;},&quot;children&quot;:[{&quot;props&quot;:{&quot;attributes&quot;:{&quot;style&quot;:&quot;text-align:right;width:18%&quot;}},&quot;nodeType&quot;:&quot;DOM&quot;,&quot;type&quot;:&quot;node&quot;,&quot;instanceArgs&quot;:{&quot;namespace&quot;:&quot;html&quot;,&quot;tag&quot;:&quot;div&quot;},&quot;children&quot;:[{&quot;props&quot;:{&quot;className&quot;:&quot;interact &quot;,&quot;style&quot;:{&quot;padding&quot;:&quot;5px 10px 0px 10px&quot;}},&quot;nodeType&quot;:&quot;DOM&quot;,&quot;type&quot;:&quot;node&quot;,&quot;instanceArgs&quot;:{&quot;namespace&quot;:&quot;html&quot;,&quot;tag&quot;:&quot;label&quot;},&quot;children&quot;:[&quot;N&quot;]}]},{&quot;props&quot;:{&quot;attributes&quot;:{&quot;style&quot;:&quot;flex-grow:1; margin: 0 2%&quot;}},&quot;nodeType&quot;:&quot;DOM&quot;,&quot;type&quot;:&quot;node&quot;,&quot;instanceArgs&quot;:{&quot;namespace&quot;:&quot;html&quot;,&quot;tag&quot;:&quot;div&quot;},&quot;children&quot;:[{&quot;props&quot;:{&quot;max&quot;:192,&quot;min&quot;:0,&quot;attributes&quot;:{&quot;type&quot;:&quot;range&quot;,&quot;data-bind&quot;:&quot;numericValue: value, valueUpdate: &#39;input&#39;, event: {change : function () {this.changes(this.changes()+1)}}&quot;,&quot;orient&quot;:&quot;horizontal&quot;},&quot;step&quot;:1,&quot;className&quot;:&quot;slider slider is-fullwidth&quot;,&quot;style&quot;:{}},&quot;nodeType&quot;:&quot;DOM&quot;,&quot;type&quot;:&quot;node&quot;,&quot;instanceArgs&quot;:{&quot;namespace&quot;:&quot;html&quot;,&quot;tag&quot;:&quot;input&quot;},&quot;children&quot;:[]}]},{&quot;props&quot;:{&quot;attributes&quot;:{&quot;style&quot;:&quot;width:18%&quot;}},&quot;nodeType&quot;:&quot;DOM&quot;,&quot;type&quot;:&quot;node&quot;,&quot;instanceArgs&quot;:{&quot;namespace&quot;:&quot;html&quot;,&quot;tag&quot;:&quot;div&quot;},&quot;children&quot;:[{&quot;props&quot;:{&quot;attributes&quot;:{&quot;data-bind&quot;:&quot;text: value&quot;}},&quot;nodeType&quot;:&quot;DOM&quot;,&quot;type&quot;:&quot;node&quot;,&quot;instanceArgs&quot;:{&quot;namespace&quot;:&quot;html&quot;,&quot;tag&quot;:&quot;p&quot;},&quot;children&quot;:[]}]}]}]}]},{&quot;props&quot;:{},&quot;nodeType&quot;:&quot;Scope&quot;,&quot;type&quot;:&quot;node&quot;,&quot;instanceArgs&quot;:{&quot;imports&quot;:{&quot;data&quot;:[],&quot;type&quot;:&quot;async_block&quot;},&quot;id&quot;:&quot;scope-d3f67043-9dd8-45a9-baa9-1c47877330d6&quot;,&quot;handlers&quot;:{&quot;obs-output&quot;:[function (updated_htmlstr) {\n",
       "    var el = this.dom.querySelector(&quot;#out&quot;);\n",
       "    WebIO.propUtils.setInnerHtml(el, updated_htmlstr);\n",
       "}]},&quot;systemjs_options&quot;:null,&quot;observables&quot;:{&quot;obs-output&quot;:{&quot;sync&quot;:false,&quot;id&quot;:&quot;ob_05&quot;,&quot;value&quot;:&quot;&lt;div class=&#39;display:none&#39;&gt;&lt;/div&gt;&lt;unsafe-script style=&#39;display:none&#39;&gt;\\nWebIO.mount(this.previousSibling,{&amp;quot;props&amp;quot;:{&amp;quot;attributes&amp;quot;:{&amp;quot;style&amp;quot;:&amp;quot;display:flex; justify-content:center; align-items:center;&amp;quot;}},&amp;quot;nodeType&amp;quot;:&amp;quot;DOM&amp;quot;,&amp;quot;type&amp;quot;:&amp;quot;node&amp;quot;,&amp;quot;instanceArgs&amp;quot;:{&amp;quot;namespace&amp;quot;:&amp;quot;html&amp;quot;,&amp;quot;tag&amp;quot;:&amp;quot;div&amp;quot;},&amp;quot;children&amp;quot;:[{&amp;quot;props&amp;quot;:{&amp;quot;setInnerHtml&amp;quot;:&amp;quot;&amp;lt;img src=&amp;#39;data:image/png;base64,iVBORw0KGgoAAAANSUhEUgAAAjEAAAHICAYAAAC/Gru4AAAABHNCSVQICAgIfAhkiAAAAAlwSFlzAAAPYQAAD2EBqD+naQAAADl0RVh0U29mdHdhcmUAbWF0cGxvdGxpYiB2ZXJzaW9uIDMuMC4yLCBodHRwOi8vbWF0cGxvdGxpYi5vcmcvOIA7rQAAIABJREFUeJzs3XlcVPX+P/DXAMO+y44gIm6ohCmZ+4qWS90svS23Mqt7K29lZde6dTXNTLO6LVZeraybFzNvda+l9dWraZlLuO+iCKiMyCKrwDAwn98f/M5xhk1mmJkzy+v5ePh4yJnhnDcfZuDFZzsqIYQAERERkYNxU7oAIiIiInMwxBAREZFDYoghIiIih8QQQ0RERA6JIYaIiIgcEkMMEREROSSGGCIiInJIDDFERETkkBhiiIiIyCExxBAREZFDYoghIiIih8QQQ3Zn4cKFSE5Ohl6vN+vzExIS8Morr3S4jk8++QSxsbG4evVquz9n3bp16NOnD3x8fKBSqXDo0KEO19Gazz77DCqVCt7e3sjLy2v2+KhRo9C3b1+LXe+3337DhAkTEBAQAH9/f4wePRq//vpri8/duXMnJk6ciJCQEPj4+KB79+549dVXLVaLtX388cdQqVTw9/dv8fGqqirMnj0bMTEx8Pb2RmpqKr788st2n7+jr/GOkl47ubm5ily/qY62p6HWvnfmvJ/J/jHEkF3RaDR44403sHDhQri5We7lqdVqsWrVKkyaNAnx8fEICAhAcHAwRo8ejaFDh+Lmm2/G7NmzcfLkSflzHnzwQfj5+eGNN95o1zWKiopw//33o1u3bvjxxx+xe/du9OjRw2JfQ2u0Wi1efvllq14jMzMTI0aMQE1NDb744gt88cUXqK2txdixY7F7926j52ZkZGDkyJEICgrCP//5T2zatAlz586Fo9xrNj8/H3PmzEFMTEyrz5k6dSo+//xzzJ8/Hz/88APS0tJwzz33ICMj47rnt9Zr3JF1pD0NtfW9M/X9TA5CENmRv/zlLyI2NlY0NDSYfY4uXbqI+fPnyx+fO3dOPPfcc+Lnn38W5eXlYsqUKQKA+Oabb+Tn5ObmihEjRgi1Wm10/M033xRBQUHi6tWr173uzp07BQCxbt06s2tvqq3rrl69WgAQt9xyi3BzcxOHDh0yenzkyJGiT58+FqljwoQJIjIy0qieiooKERYWJoYMGSIfu3jxovDz8xOPP/64Ra6rhMmTJ4spU6aIBx98UPj5+TV7fOPGjQKAyMjIMDqenp4uYmJiRH19fZvnN+U13p7XnTmk105OTo5Vzm+Kjranoet970x5P5NjYIghm5g8ebIYMGCAWLlypUhJSRHe3t6ic+fOYt68efIPc61WKzp16iSef/75Fs+RkJAgHnjggWbHR48eLUaMGCF/3DTE1NTUGD3/pptuEr6+vs2OFxQUCF9fX5GQkCAfu3TpklCpVOKTTz5p8+t78MEHBQCjfyNHjpQf/+WXX8SYMWOEv7+/8PHxEYMHDxbff/+90Tnmz58vAIj9+/eLO++8UwQHB4uoqKhWryn9Itq2bZsIDw8XEyZMMHrckiHG399f/P73v292fOrUqQKA0Gg0QgghXnnlFQFA5ObmWuS6Qlxrl2PHjom7775bBAYGioiICPHQQw+JsrIyi11HCCG++OILERAQIC5cuNDqL8JHHnlE+Pv7C51OZ3Q8IyNDABC//vprq+dv6zV+ve9/VlaWuOeee0R4eLjw9PQUvXr1EsuXLzc6x5kzZ8SMGTNEUlKS8PHxETExMWLy5MniyJEjRs8zJcS0931nro60p6H2fO/a+34mx8G+TLKJ/fv349SpU/j73/+O559/Hhs2bMCwYcOwcOFCfPrppwCAvXv3oqSkBKNHj272+SUlJcjNzcXAgQONjgshcODAAQwYMKDVa3t7e8v/z8/PR2ZmJtLT042OA0BkZCSSk5ORm5uL0tJSAEBUVBR69eqFjRs3tvn1/e1vf8MHH3wAAFi8eDF2796NDz/8EACwY8cOjBkzBuXl5fjkk0+wdu1aBAQEYMqUKVi3bl2zc02dOhVJSUlYv349VqxY0eZ1ASAgIAAvv/wy/u///g/btm1r87lCCNTX17frn6G6ujp4eXk1O5907OjRowCAn3/+GaGhoTh16hRSU1Ph4eGBiIgIPPbYY6ioqLju19KWO++8Ez169MDXX3+NF154ARkZGXjmmWcs8vUBQGFhIWbPno0lS5agc+fOrdZx7Ngx9O7dGx4eHkbHU1JS5Mdb09ZrXNLS9//EiRNIS0vDsWPH8NZbb+H777/HpEmT8NRTT2HBggXy52o0GnTq1AlLlizBjz/+iA8++AAeHh4YNGgQTp8+3eo1W2PK+87ctu9Ie0ra+71r7/uZHIiiEYpcwsWLFwUAkZiYaPSXc11dnYiKihKTJ08WQgixdOlSAUAUFBQ0O8ePP/4oAIhdu3YZHT99+rQAINasWSMfa9oTY+ijjz4SAMTHH3/c4uOjRo0SAER5ebl87L777hORkZHX/Tp/+uknAUCsX7/e6PjNN98sIiIiRGVlpXysvr5e9O3bV3Tu3Fno9XohxLW/xOfNm3fdawlx7a/pzMxModVqRWJiohg4cKB8vpZ6YqQa2/PP8K/01NRU0aNHD6MhEJ1OJxITE42GAnr27Cm8vb1FQECAWLx4sfjpp5/EG2+8IXx8fMTQoUPl2kwhtcsbb7xhdPyJJ54Q3t7eRuc09+sTQog777xTDBkyRD5fa3/Nd+/evVmvlxBCaDQaAUAsXry41a+lrdd4W9//CRMmiM6dOxu9LoUQ4s9//rPw9vYWV65cafF69fX1oq6uTnTv3l0888wz8vH29sSY8r4zt+070p6S9n7vhGj/+5kcg3H0JbKCzMxMAMArr7yCoKAg+bharUZSUhKKi4sBNP4VqVKpEBYW1uI5PDw8kJqaanR8//79ANBmT4yh77//HiqVCpMmTWrx8dzcXISHhyMwMFA+FhERgcLCQtTX1zf7a/F6rl69ir179+Lxxx83Wi3h7u6O+++/H3PnzsXp06fRq1cv+bE777zTpGsAgKenJxYtWoR7770XX331FX7/+9+3+LwBAwbI34/rMZwc+eSTT+Lhhx/Gn//8Z7z00kvQ6/VYsGCBvCpKmqCq1+tRW1uL+fPn44UXXgDQuErK09MTs2fPxtatWzFu3DiTvz4AuO2224w+TklJQW1tLQoLCxEZGdmhr+/rr7/Gd999h4MHD0KlUl33c9t6TluPtfUalzT9/tfW1mLr1q14/PHH4evra9STMXHiRCxfvhx79uzBrbfeivr6erzxxhtYs2YNzp49C51OJz/XcNJ6e5nyvjO37QHz2xMw/XvXkfcz2R9+B8nq9u3bB7VajWnTpjV7TKPRyD8Ia2pqoFar4e7u3uI5kpOT4ePj0+y4v79/u1YB1dTUYNu2bbjpppsQFRXV7PGjR48iNzcXDzzwgNFxb29vCCFQW1vb6pLb1pSWlkIIgejo6GaPST/IS0pKjI639Nz2uPvuu/Hmm2/ipZdewtSpU1t8jr+/f7NfSK0x/AE/c+ZMFBUVYdGiRfjoo48AAIMHD8acOXOwdOlSxMbGAgA6deqEM2fOYMKECUbnuvXWWzF79mwcOHDA7BDTqVMno4+loayamhr5mDlfX1VVFWbNmoUnn3wSMTExKCsrA9A4hAYAZWVlUKvV8PPzk+to+j0DgCtXrgAAQkNDW71mW69xSdPvf0lJCerr6/H+++/j/fffb/FzpD8Enn32WXzwwQeYO3cuRo4ciZCQELi5ueGRRx4xaqf2MuV9Z+5rqyPtaer3DujY+5nsD+fEkNXt27cPYWFhzeag7N27F+fOncPEiRMBAGFhYairq2txH4d9+/bhxhtvbHZ8+/bt6N+/f7uWqm7duhU1NTWYMmVKi4/PmzcParUaL774otHxK1euwMvLy6wfeNIvkUuXLjV7TKPRAECzv8rb89dkS1QqFZYuXYrs7GysXLmyxefs2LEDarW6Xf+a7iEyd+5cFBcXy2Fv165dKC0thZ+fnxxEpXkMTYn/v7za2kuKzfn6iouLcfnyZbz11lsICQmR/61duxZXr15FSEgI7rvvPvka/fr1w8mTJ5vN7ZDmBbW1N09br3FJ0+9/SEgI3N3dMWPGDGRmZrb4T3oPrVmzBg888AAWL16MCRMm4KabbsLAgQPlkGMqU9535r62OtKepn7vgI69n8n+sCeGrG7fvn0oLy9HWVkZgoODAQANDQ2YO3cuEhIScO+99wKAPKSSnZ1t9MuwoKAA+fn5zbp+d+zYgQMHDmD27NntqkOazNc0xGi1Wrz00kv4z3/+g+XLlxsN7QDAuXPnkJycbMJXfI2fnx8GDRqEb775Bm+++ab8F61er8eaNWvQuXNni+4lM27cOKSnp2PhwoWIi4tr9nhHuvyBxt4P6ZfK+fPnsW7dOjz66KPy13XnnXdi5cqV+OGHH9C/f3/58zZt2gQAuPnmm03+mkxhztcXFRWFn376qdnjS5YswY4dO/DDDz8YBc077rgDq1atwtdff200bPf5558jJiYGgwYNavWarb3G2+Lr64vRo0fj4MGDSElJgaenZ6vPValUzSZgb9y4Efn5+UhKSmrX9SSmvu/MfW11pD1N/d4BHXs/k/1hiCGrysnJQUlJCeLj4zFt2jQ899xzqK2txXvvvYf9+/dj+/bt8g/lUaNGAQD27Nlj9ANe+sG4fv16JCcnIykpCYcOHZJXAxUWFuLYsWNt/sWm1Wrx7bffIjQ0VD53YWEhNmzYgMWLF6O4uBiffPIJZs6cafR5er0ev/32Gx5++GGz2+D1119Heno6Ro8ejTlz5sDT0xMffvghjh07hrVr15rd89KapUuXYsCAASgsLESfPn2MHgsICGi20qQ9jh07hq+//hoDBw6El5cXDh8+jCVLljTbiXf8+PGYMmUKFi5cCL1ej5tvvhn79u3DggULMHnyZAwbNszovCqVCiNHjsT27dvN+lqbMufr8/b2ll97hj777DO4u7s3e+zWW29Feno6Hn/8cVRUVCApKQlr167Fjz/+iDVr1rQ5VNTaa/x63n33XQwbNgzDhw/H448/joSEBFRWVuLs2bP47rvv5FVpkydPxmeffYZevXohJSUF+/fvx7Jly9pcsdMaU9935r622tueO3bswNixYzFv3jzMmzcPgOnfO0u8n8nOKDuvmJzdV199Ja9uuP/++0VgYKAICAgQt99+uzhx4kSz5w8fPlxMnDjR6Ni8efOEh4eHWL9+vUhISBDe3t5i1KhRYu/evSIpKUlER0cbrZ5oujqpoqJCpKWlySsjwsPDRVhYmIiKihLjxo0Ty5YtE8XFxS3Wv3XrVnnvjutpbXWSENf2ifHz8xM+Pj7i5ptvFt99953Rc6TVKUVFRde9lhDGq5OauvfeewUAi+0Tc/r0aTFixAgRGhoqPD09RVJSknj55ZdFVVVVs+dWV1eLuXPniri4OOHh4SHi4+PFiy++KGpra42eV1lZKQCIu+++u81rt9Yu1t6wra0VLpWVleKpp54SUVFRwtPTU6SkpIi1a9e267wtvcaFuP73PycnR8ycOVPExsYKtVotwsPDxZAhQ8SiRYvk55SWloqHH35YRERECF9fXzFs2DDxyy+/iJEjRxrtW9SetjP1fdcR7WlP6f3V2spDQ61970x5P5NjUAnhIHuBk0P6y1/+gg8//BDl5eVt/oUqkbqU8/Ly5MmiEydOREFBAQ4cONCuayYkJGDGjBkWuX/S/fffj3PnzrV6jyAy36ZNmzB58mQcPnwY/fr1U7ocm2npNW6PTH3fOQK+n50PJ/aSVUkTA9sTYIDGjb7S0tLw+uuvy8f279+Pm266yVoltio7Oxvr1q3D0qVLbX5tV/DTTz/h7rvvdqkAA7T8GrdHSr3vrIXvZ+fEEENWI/7/rp6mjJOrVCqsWrUKMTEx0Ov1OH/+PAoLCxX5YXr+/HksX7682TwOsoxly5aZfIM/Z9D0NW6PlHzfWQvfz86Jw0nkdCw5nERERPaLIYaIiIgcEoeTiIiIyCExxBAREZFDcqrN7vR6PTQaDQICAiy+gRgRERFZhxAClZWViImJMen2JE4VYjQaTYtbrRMREZH9u3Dhgkk7TDtViAkICADQ2AiBgYEWPbdOp8PmzZsxfvx4qNVqi56brmE72wbb2TbYzrbBdrYda7V1RUUF4uLi5N/j7eVUIUYaQgoMDLRKiPH19UVgYCDfJFbEdrYNtrNtsJ1tg+1sO9Zua1OngnBiLxERETkkhhgiIiJySAwxRERE5JAYYoiIiMghMcQQERGRQ2KIISIiIofEEENEREQOiSGGiIiIHBJDDBERETkkhhgiIiJySAwxRERE5JAYYoiIiMghMcQQUZu0Wi3q6uqULoOIqBmGGCJq1cWLF9GzZ0/cfvvtEEIoXQ4RkRGGGCJqUU1NDe644w5UVlbi0UcfhUqlUrokIiIjDDFE1IwQAn/84x+xb98+qFQq9O/fX+mSiIiaYYghombeeustrFmzBu7u7li/fj26du2Kuro67N+/X+nSiIhkDDFEZOTHH3/E3LlzAQDvvPMORo8ejby8PPTq1QtjxozBlStXFK6QiKgRQwwRyc6cOYO7774ber0ejzzyCGbNmgUAiIuLQ0BAACoqKvDmm28qXCURUSOGGCKS7dq1C9HR0Rg8eDCWL18uT+Z1c3PDq6++CgB49913UVhYqGSZREQAGGKIyMCDDz6IkydP4pdffoGXl5fRY1OmTEFaWhqqq6uxZMkShSokIrrGrkJMfX09Xn75ZXTt2hU+Pj5ITEzEwoULodfrlS6NyKW4u7s3O6ZSqbBo0SIAwIcffoj8/Hxbl0VEZMSuQszSpUuxYsUKLF++HCdPnsQbb7yBZcuW4f3331e6NCKnV15eDp1O1+Zz0tPTMXz4cGi1Wr4viUhxdhVidu/ejdtvvx2TJk1CQkIC7rrrLowfPx779u1TujQipzd//nwEBwfjvffea/U5KpUKjzzyCAAgKyvLVqUREbXIrkLMsGHDsHXrVvmH4+HDh7Fz505MnDhR4cqInN/OnTtRXV2NyMjINp93xx13oKCgAN98842NKiMiapmH0gUYmjt3LsrLy9GrVy+4u7ujoaEBr732Gu65554Wn6/VaqHVauWPKyoqAAA6ne663eKmks5n6fOSMbazbTRt58rKShw8eBAAkJeXh4KCAnTq1KnFz/X29oa3tze/R+3A17NtsJ1tx1ptbe75VMKO7ur25Zdf4vnnn8eyZcvQp08fHDp0CLNnz8bbb7+NBx98sNnzX3nlFSxYsKDZ8YyMDPj6+tqiZCKncPjwYcyfPx+enp6oq6tDSEgInn76aaSmpipdGhG5gOrqatx7770oLy9HYGBguz/PrkJMXFwcXnjhBXmDLQBYtGgR1qxZg1OnTjV7fks9MXFxcSguLjapEdpDp9Nhy5YtSE9Ph1qttui56Rq2s200beeFCxfKK48MPf3003j11Vfh7e1tdHzLli149913kZKSgsWLF9uqbIfD17NtsJ1tx1ptXVFRgbCwMJNDjF0NJ1VXV8PNzXiajru7e6tLrL28vJrtZQEAarXaai9ka56brmE724bUznv27JGPTZkyBfHx8fjggw/w7rvvYtu2bcjIyEDfvn3l51RXV2Pz5s0oLi7m96kd+Hq2Dbaz7Vi6rc09l11N7J0yZQpee+01bNy4Ebm5ufj222/x9ttv44477lC6NCKnVV9fj127dskfz5s3D8uXL8d3332H8PBwHD16FGPGjEFNTY38nLS0NADAkSNHUFtba/OaiYgAOwsx77//Pu666y488cQT6N27N+bMmYM//elP8nbnRGR5Wq0WKSkpAICxY8di4MCBAIDJkyfj6NGjiImJQVFREbZv3y5/Tnx8PMLDw1FfX4/Dhw8rUTYRkX2FmICAALzzzjvIy8tDTU0NsrOzsWjRInh6eipdGpHTqq6uloPIiy++aPRYZGQkpkyZAgDYuHGjfFylUsm9MZmZmTaqlIjImF2FGCKyvffeew81NTUYOHAgxowZ0+xxaZ+mjRs3wnAdAEMMESmNIYbIhVVUVODtt98GALzwwgvyXasNjR07Fl5eXsjNzcXJkyfl4wwxRKQ0hhgiF7Z06VJUV1dDpVLh1ltvbfE5fn5+GDVqFABg06ZN8vG0tDQEBgYiJiYG9fX1tiiXiMgIQwyRi9LpdFi5ciUAoFu3bm1uEDlp0iQAxvNiIiIiUFpaiv/973/w8LCr3RqIyEUwxBC5qKysLJSXlwMAbr/99jafK4WYnTt3yp8DoNm+TkREtsSfQEQu6syZM/L/R4wY0eZzExMT0bNnT9TX12Pz5s3NHudeMUSkBIYYIhd14sQJ+f9Dhgy57vOl3hjDeTEnTpxA9+7dkZycbPkCiYiugyGGyEVlZWUBAKKiohAWFnbd5xuGGOlWILGxsTh79ixycnJQVFRkvWKJiFrAEEPkgoqKilBWVgYARvdEasuwYcMQEBCAwsJC7N+/HwAQFBSEnj17AgD27dtnnWKJiFrBEEPkgqTAER0djeeee65dn+Pp6Yn09HQAxquUuF8MESmFIYbIBUmBY+zYsbjlllva/XktzYuRQsxvv/1mwQqJiK6PIYbIBUk9MVIAaS/pFgSZmZm4fPmy0TkyMzONbktARGRtDDFELkYIIfea1NXVmbTbblRUFAYMGAAA+OGHHwAAqamp8PDwQGFhIfLz8y1fMBFRKxhiiFxMTk4Orly5AgD461//avLnS8NP27dvBwD4+Phg2rRpmDFjBhoaGixWJxHR9XCvcCIXYzgBNzEx0eRbBkg9MUePHpWPZWRkWKY4IiITsCeGyMUYTsBNSkoy+fOlJdknTpxgzwsRKYohhsjFGIaYHj16mPz5iYmJ8PHxQW1tLbKzs+XjWq0WGo3GIjUSEbUHQwyRC6mvr5c3qgOA7t27m3wOd3d39OnTB8C1IaWffvoJPj4+Ji3XJiLqKIYYIhdy/Phx1NTUyHefNmc4CQD69esH4FqIiYuLgxACZ8+e5TJrIrIZhhgiFyINJUlBw5yeGODavBgpxHTp0gXu7u6oqanBpUuXLFApEdH1cXUSkQuRVibdd999CA8PR0xMjFnnkXpijh07BgBQq9VISEhAdnY2zp49a/Z5iYhMwZ4YIhci9cTcdtttGDlyJFQqlVnnkULM2bNnUVNTA+Da0NTZs2ctUCkR0fUxxBC5iKtXr8o9J6bebqCpyMhIhIWFQa/X48SJEwAYYojI9hhiiFzEwYMH0dDQgJCQEPz3v//t0C0CVCpVs3kxDDFEZGsMMUQuQhpK8vDwwOzZs3Hq1KkOna/pvJi0tDQ88MADGD9+fMcKJSJqJ07sJXIR0qRenU4HAB2efNt0mfXQoUMxdOjQDp2TiMgU7IkhchEnT54EAJSXlwMAoqOjO3S+piGGiMjWGGKIXIAQAmfOnJH/HxQUhKCgoA6dU9q199KlSygpKQHQ2Mtz5swZlJaWdqxgIqJ2YIghcgEajQbV1dVGO/Wau7xaEhAQgISEBADX5sVMnDgRPXr0wIYNGzp0biKi9mCIIXIBUi9MSEgIAPN36m2q6ZBSt27dAHCFEhHZBkMMkQuQQoyPjw8A8++Z1FTTEMNl1kRkSwwxRC4gKysLQONwz65du/CHP/zBIudliCEiJTHEELkAqScmJSUFgwcPRmJiokXOK214d+zYMQgh5BBz5swZ3s2aiKyOIYbIBUghxlJzYSQ9e/aEWq1GZWUlzp8/L4ej8vJyXLlyxaLXIiJqiiGGyMk1NDQgOzsbALBu3Tp88cUXFju3Wq1Gr169ADQOKfn6+iI2NhYAh5SIyPoYYoic3IULF6DVauHu7o5PP/0UK1assOj5m86LeeyxxzB//nxERERY9DpERE3xtgNETk4aSgoNDUVRUZHFh5QM58UAwMsvv2zR8xMRtYY9MUROTgoxXl5eAIAePXpY9Py8/QARKYUhhsjJScurpdVC0oZ0liKFmFOnTkGn06G+vh7Z2dnYs2ePRa9DRNQUh5OInJzUE1NTUwMAiI+Pt+j54+PjERAQgMrKSpw9exZarRb9+/dHWFgYioqKLHotIiJD7IkhcnJSiCkrKwNg+RCjUqnk3p3s7Gz5/8XFxfI1iYisgSGGyInpdDrk5OQAAPR6PTw8PBAVFWXx6xiGmICAAERGRsofExFZC0MMkRPLzc1FfX09vL29cfHiRezduxfu7u4Wv45hiAF4+wEisg2GGCInZrhTb2xsLG688UarXEfaqffcuXMAGGKIyDYYYoicmLVuN9BUaz0x0vWJiKyBIYbIiUkhora2FnPmzMGuXbusch0pxOTk5ECv18sf5+bmWuV6REQAl1gTOTVpjxiNRoNNmzYhKSkJQ4YMsfh14uLi4OHhAa1WC41GgwEDBmD+/Pnybr5ERNbAEEPkxKSemKtXrwJoDBvW4OHhgS5duiA7OxvZ2dkYOXIkXnnlFatci4hIwuEkIiel1Wpx/vx5AI17tgCW3yPGUNN5MURE1sYQQ+Skzp07B71eD39/f5SWlgKwTYiRVijl5ORg69atKCwstNo1ici1McQQOSlpPowUXAICAhAUFGS160nLrKWemD/84Q8YN24cduzYYbVrEpFrY4ghclLSfJjw8HAA1u2FAZoPJ0nXk4a0iIgsjSGGyElJIcbf3x+A7UKMNJzEEENE1sbVSUROSgox06ZNw8qVK1FXV2fV63Xt2hUAUFJSgvLycoYYIrI6hhgiJyXNienZsydiYmKsfr2AgABERESgsLAQ2dnZcoi5cOGC1a9NRK6Jw0lETqi6uhr5+fkArH/LAUOGQ0rsiSEia2OIIXJC0o0XQ0JCsHDhQsyZM0cONdZkuEJJCjFFRUWoqamx+rWJyPVwOInICUkrhLp164aVK1eitrYWs2bNsvp1DVcoBQcHY+HChYiNjbX6dYnINTHEEDmhvLw8AEB0dDT27dsHlUplkzBhGGJUKhX+9re/Wf2aROS6OJxE5ISkECNtbhcVFQVPT0+rX1caTpKWWRMRWRN7YoickBRivLy8AFiFgxx7AAAgAElEQVR/jxiJ1BNz/vx51NXV4cqVKzh+/DhCQ0PRv39/m9RARK6DPTFETkgKMSqVCoD17l7dVFRUFHx8fKDX65GXl4ePP/4Y48aNw/vvv2+T6xORa2GIIXJCUoiRNrizVU+MSqUyGlLiMmsisiaGGCInc/XqVZSUlAAAKisrAdguxADGk3u54R0RWRPnxBA5GanXIzAwEP/+979x+fJleHt72+z6hiHmlltukWsSQsjDW0RElsCeGCInIw0ldenSBW5uboiOjkZISIjNrm84nBQbGwuVSoXa2loUFxfbrAYicg0MMUROxjDEKMGwJ8bLywtRUVEAOC+GiCyPIYbIyUghplOnTpg+fTpeeuklm17f8P5JQgjOiyEiq+GcGCInI4UYHx8ffP7550hKSsJrr71ms+snJCRApVLh6tWrKCwsxLPPPouqqiruE0NEFscQQ+RkpBDj4dH49rblyiQA8PT0RFxcHM6fP4/s7GxMnz7dptcnItdhd8NJ+fn5+MMf/oBOnTrB19cXqamp2L9/v9JlETkMKcTU19cDsN1Gd4YM58UQEVmLXYWY0tJSDB06FGq1Gj/88ANOnDiBt956C8HBwUqXRuQQdDodNBoNgMb9YgDb98QAxiGmsrISW7duxXfffWfzOojIudnVcNLSpUsRFxeH1atXy8cSEhKUK4jIwVy8eBF6vR5eXl7ykmYlQoy0zDo7OxtZWVkYN24coqOjMWXKFJvXQkTOy656YjZs2ICBAwdi2rRpiIiIQP/+/bFq1SqlyyJyGNJQUnx8vLwaSMkQk5ubK1//0qVL0Gq1Nq+FiJyXXfXEnDt3Dh999BGeffZZ/PWvf8Vvv/2Gp556Cl5eXnjggQeaPV+r1Rr9UKyoqADQ2KWu0+ksWpt0Pkufl4yxnTtGmoMSFxeHI0eOAGi8KWPT9rR2O8fGxgJoDFVBQUHw9vZGbW0tcnNz5YDjCvh6tg22s+1Yq63NPZ9KCCEsWkkHeHp6YuDAgdi1a5d87KmnnkJmZiZ2797d7PmvvPIKFixY0Ox4RkYGfH19rVorkT1at24d1q5di7Fjx2LWrFkoKytDUFAQ3N3dbVrHlStXMHPmTLi5uWH9+vV48sknodFosGjRIvTt29emtRCR/auursa9996L8vJyBAYGtvvz7KonJjo6GsnJyUbHevfuja+//rrF57/44ot49tln5Y8rKioQFxeH8ePHm9QI7aHT6bBlyxakp6dDrVZb9Nx0Ddu5Y/7zn/8AAIYOHYrJkye3+jxrt7Ner8djjz2Guro6pKSkoFevXtBoNIiJicHEiRMtfj17xdezbbCdbcdabS2NpJjKrkLM0KFDcfr0aaNjWVlZrW6f7uXlBS8vr2bH1Wq11V7I1jw3XcN2No80DyYxMbFd7WfNdo6Li0N2djY0Go38HtZoNC75feXr2TbYzrZj6bY291x2NbH3mWeewZ49e7B48WKcPXsWGRkZWLlyJWbNmqV0aUQOQZrYq9FoMH36dHz88ceK1SIFl7y8PHlyL++fRESWZFc9MWlpafj222/x4osvYuHChejatSveeecd3HfffUqXRmT39Hq9HBIKCgqwfv16BAcH45FHHlGkHsMQc9tttyE+Ph6pqamK1EJEzsmuQgwATJ48uc2xfCJq2eXLl1FXVwc3NzdUVVUBuLZKSAmGIebGG2/EjTfeqFgtROSc7Go4iYjMJw0lxcTE4NKlSwCUDTHSEJJUFxGRpTHEEDkJaSipS5cuyM/PB2AfPTFSXVu3bsXq1avlXiIioo5iiCFyElKPhz2GGCEE7r77bsycOZM3hSQii2GIIXISUoiJjY1FSUmJ/H+lxMXFQaVSoaamBkVFRfLdtKVl4EREHcUQQ+QkpBATEhICDw8PeHl5ITQ0VLF6PD09ER0dLdcmhRipl4iIqKMYYoichBRi+vfvD61Wi4sXL0KlUilak+EKpc6dOwNovNM2EZElMMQQOQnDOTFubm4ICwtTuCLjFUoMMURkaQwxRE6grKxMvveIFBzsgeHkXoYYIrI0hhgiJyD1woSFheGzzz7D9OnTsWHDBoWr4nASEVmX3e3YS0SmMxxK+uWXX7B+/XoMHjxY4aqMQ0y/fv3w6aefIiEhQdmiiMhpMMQQOQF72yNGYhhiwsLC8NBDDylcERE5Ew4nETkBew0x0vyc0tJSVFZWKlwNETkb9sQQOQEpxMTFxUGj0QCwjxATGBiI4OBglJWVIS8vD1VVVTh58iSGDx+OpKQkpcsjIgfHnhgiJyCFmNDQUGi1WgCNN4K0B4ZDSgsXLsTMmTOxY8cOhasiImfAEEPkBKSt/D09PQEA4eHh8v+VxmXWRGQtDDFEDq6urg6XL18G0Bhi1Gq1XQwlSbjMmoishXNiiBxcfn4+hBDw8vLC1KlTUVtbi6qqKqXLkhmGmPT0dAAMMURkGQwxRA5OGkrq3LkzVCoVVCoVAgMDFa7qGvbEEJG1cDiJyMFJIUa6S7S9YYghImthiCFycFIgiIuLw5w5czBt2jTs3btX4aqukfaKuXTpEiIiIgA03uvJnoa8iMgxMcQQOTjD4aTNmzfj3//+N8rKyhSu6pqIiAh4e3tDCIHy8nJ89tln2Lx5s92sniIix8U5MUQOznA4yZ5265WoVCrEx8cjKysL58+fx4MPPqh0SUTkJNgTQ+TgpBATERGBK1euALCvEAMYz4shIrIU9sQQOTgpxHh5eQEAfHx8EBwcrGRJzRiGmGPHjiEzMxPdu3fHsGHDFK6MiBwZe2KIHFhNTQ2Ki4uNjsXGxkKlUilUUcsMQ8xXX32FmTNnIiMjQ+GqiMjRMcQQOTBpZZKvry8qKioA2N9QEnBthRKXWRORJTHEEDkww+XVlZWVdnfLAYlhT4xUH0MMEXUUQwyRAzNcXv2nP/0JtbW1WLVqlcJVNSeFmAsXLsh312aIIaKOYoghcmBNd+t1c3ODr6+vkiW1KDY2Fm5ubqirq5P3hykqKkJtba3ClRGRI2OIIXJg9n7LAYnhMFdFRQW8vb0BABqNRsmyiMjBMcQQOTDDEDN16lTcddddyM3NVbaoVhgOKXFyLxFZAveJIXJgUoiJjY3F999/D51Oh7feekvhqlomrVA6f/483nvvPajVaqSkpChcFRE5MoYYIgcm9WT4+/tDp9MBAKKjo5UsqVWGy6znzJmjcDVE5Aw4nETkoK5evYrS0lIAkDe3i4iIsNsbKxr2xBARWQJ7YogclDSUFBAQgPLycgD2udGdxDDEnD9/Hlu3boWfnx+mT5+ucGVE5KjYE0PkoOz97tVNGYaYgwcPYubMmXjzzTcVroqIHBlDDJGDcrQQI61OunLlCkJDQwFwdRIRdQxDDJGDMgwxNTU1dnvLAUlgYCCCgoKMjhUUFMgTkomITMUQQ+SgDEPMsmXLUFtbi7/85S8KV9U2aUhJus+TEAIFBQUKV0VEjoohhshBGd78EWi85YCXl5eSJV2XFGIuXrzIG0ESUYcxxBA5KEe55YAhw8m93LWXiDqKIYbIQUkhplOnThg8eDDuvPNOaLVahatqmzS5lyGGiCyB+8QQOaDy8nJUVlYCaBxG2rNnD3x9fe12ozuJYU/MsmXL8PDDD6Nv374KV0VEjoohhsgBSb0wISEh8q69sbGx8s699srw1gNpaWkKV0NEjo7DSUQOyNH2iJEYTuxtaGhQuBoicnTsiSFyQIYrk6QQI80xsWfR0dFwd3dHfX09srKysGfPHpSVleGZZ55RujQickDsiSFyQIY9MVKgcYSeGA8PDzlsnTlzBjNnzsTzzz/PXhkiMgtDDJEDkkJM586dHWo4Cbg2pHT16lW4u7ujoaGBG94RkVkYYogckGFPjBACnp6eDhdiLly4gJiYGABcZk1E5unQnBidToeCggJUV1cjPDxcvqkbEVmXYYj55ptvIISAXq9XuKr2MVxmHRcXhwsXLuDChQsYNGiQwpURkaMxuSemqqoK//jHPzBq1CgEBQUhISEBycnJCA8PR5cuXfDoo48iMzPTGrUSEQAhRLPdelUqFdzd3ZUsq91a2rVX+nqIiExhUoj5+9//joSEBKxatQpjxozBN998g0OHDuH06dPYvXs35s+fj/r6eqSnp+OWW27BmTNnrFU3kcu6cuUKampqADjGiqSmmvbEABxOIiLzmDSctGvXLvz000/o169fi4/fdNNNmDlzJlasWIFPPvkEO3bsQPfu3S1SKBE1kn7hh4eHIysrC3/84x9xww034B//+IfClbWP4a0HpBDDnhgiModJIWb9+vXtep6XlxeeeOIJswoiorYZDiWdO3cOe/fudZj5MMC1IbDS0lKMHTsWW7ZsQVJSksJVEZEjMnt10ooVKzBgwAB0794dEyZMwD/+8Q/odDpL1kZELXDk5dUAEBgYiODgYACNc3nGjRuHhIQEZYsiIodkVojZsGEDnnjiCXh7e2PgwIG4evUqZs2ahREjRqC4uNjSNRKRASnExMfHO2SIAYznxRARmcusEPP555/j888/x6+//oq1a9di586dyM7ORmBgINLT07n7JpEVSb/4He2+SYYMQ8w///lPLFy4kH8AEZHJzAoxZWVluP/++42OdenSBd9//z20Wi0yMjIsUhwRNecMPTGGk3vnzZuH+fPnczUjEZnMrBATEhLS4nG1Wo1XX30VX331VYeKIqLWOVtPDPeKISJzmRVijhw5grNnz7b42KRJk3D8+PEOFUVELdPr9XJwiY+Ph5eXl0PdckAihZi8vDzuFUNEZjMrxFy6dAk9e/ZEv379MH/+fBw4cEB+zNvbG35+fhYrkIiuuXz5MnQ6Hdzc3BAdHY1Dhw6htrYWPXv2VLo0k7S04R17YojIVGaFmNjYWCxfvhwpKSl47733kJaWhi5dumD27Nn43//+h8rKSkvXSUS4NpQUExMDD4/GbZ5UKhVUKpWSZZlMCjEXL17kTSCJyGxmhZghQ4bgoYcewr/+9S8UFRVh06ZNuPXWW7F+/XqMHz+ef1ERWYnhpF5HFh0dDQ8PDzQ0NMg9t/y5QUSmMivEPPnkk/j2228BAB4eHpgwYQJWrFiB/Px87NixQ+4eJiLLanr36kGDBmHhwoUKV2U6d3d3eUKvm1vjjyGGGCIylUm3HZD0798f9fX1LT42fPhw/Pjjjx0qiohaZrgy6fTp0/jtt9/Qu3dvhasyT3x8PHJzc+Hm5ob//e9//OOHiExm9m0H0tLSWn2sV69e5p6WiNrgDHvESKQhscLCQowdOxY9evRQuCIicjQm9cR07drVrAmEs2fPxlNPPWXy5xGRMcOemG3btgGAPCzjaHjrASLqKJNCzGeffWbWRXhzNyLLcMaemPPnz2PTpk3IzMzExIkT2+zlJSIyZFKIGTlypLXqIKLr0Gq1KCgoANDYEyMtSXbUECPdeiAvLw//+te/kJGRAT8/P4YYImo3s+fEcCUBkW1JPS/e3t4IDg7G5cuXAThHiJG+Bu4VQ0SmMGt1EtD4AygkJAQ33HADbrjhBqSmpuKGG26AVqvFBx98gH/+85+WrJPI5Rkury4vL0dCQgKKiooQERGhcGXmkUJMRUUFwsLCAPCPIyIyjdk9MefOncMnn3yCESNG4Ny5c3j55ZcxYMAADBkyBN99912HC3v99dehUqkwe/bsDp+LyBkYhpiwsDBkZ2ejvLxc3mfF0fj6+soBTNp9mCGGiExhdk9MQkICEhIS8Lvf/U4+tnv3bjz44INYunRph4rKzMzEypUrkZKS0qHzEDkTaRWP4W69jna7gaYSEhJQWFgIvV4PgMNJRGQai/4JN3jwYLz77rtYtGiR2eeoqqrCfffdh1WrViEkJMSC1RE5NsOeGGchrVysrq4GABQUFKCurk7BiojIkZjdE6PT6aBWq5sd7969O44fP252QbNmzcKkSZMwbty464YhrVYLrVYrf1xRUSHXptPpzK6hJdL5LH1eMsZ2bl1eXh6Axps/Ll68GP/5z3/w6KOPYsaMGSafy17aWdrjprCwEJ6enqirq8P58+fl+TKOzl7a2dmxnW3HWm1t7vnMDjF+fn5ITk5G//79kZqaiv79+yMmJgbvv/8+xo8fb9Y5v/zySxw4cACZmZntev7rr7+OBQsWNDu+efNm+Pr6mlXD9WzZssUq5yVjbOfmTpw4AaCxt2L79u3IzMxEcnJyhyb2Kt3OVVVVABqHkBcsWIDAwEAcOXKkQ38I2SOl29lVsJ1tx9JtLfXGmkolhBDmfOLOnTtx+PBhHD58GIcOHcLx48dRU1MDABg/fjwGDBiAlJQUpKSktOveLhcuXMDAgQOxefNm3HDDDQCAUaNGITU1Fe+8806Ln9NST0xcXByKi4sRGBhozpfVKp1Ohy1btiA9Pb3FHiiyDLZz6yIiIlBWVoZDhw7h6aefxo4dO/D555/jnnvuMflc9tLOP/zwA26//XakpKRg3759itVhLfbSzs6O7Ww71mpraZVieXm5Sb+/ze6JGTZsGIYNGyZ/rNfrcfr0aRw6dAiHDh3C/v378emnn6KwsBANDQ3XPd/+/ftRWFiIAQMGyMcaGhrw888/Y/ny5dBqtXB3dzf6HC8vL3h5eTU7l1qtttoL2ZrnpmvYzsYqKytRVlYGAEhMTIRGowHQuEy5I+2kdDsnJSUBaBwqc+bvt9Lt7CrYzrZj6bY291xmh5im3Nzc0Lt3b/Tu3dvoL0NpQ67rGTt2LI4ePWp07KGHHkKvXr0wd+7cZgGGyJVIk3qDg4Ph7+/v8LcckEhzX8rLy7Ft2zb8/PPP6Nmzp1m9S0TkekxanWTqjdry8/MRGRnZrucGBASgb9++Rv/8/PzQqVMn9O3b16TrEjmbphvdSePHjh5i/Pz8EB4eDqBxLtuCBQuwfv16hasiIkdhUohJS0vDo48+it9++63V55SXl2PVqlXo27cvvvnmmw4XSETGe8RIvTAhISHw8fFRsiyLkJZZS3vecK8YImovk4aTTp48icWLF+OWW26BWq3GwIEDERMTA29vb5SWluLEiRM4fvw4Bg4ciGXLluHWW2/tUHHbt2/v0OcTOQvDnpjq6mokJiaiU6dOCldlGV26dEFmZqa8xJK79hJRe5kUYkJDQ/Hmm29i0aJF2LRpE3755Rfk5uaipqYGYWFhuO+++zBhwgQO/xBZmNQTExcXh7S0NGRnZytckeVIPTGVlZUAGufR1dXVwdPTU8GqiMgRmDWx19vbG1OnTsXUqVOdZoIhkT2TeicMbzngLKQQc/nyZXnDO41GIx8nImqN2bcd+PXXX9G1a1fEx8cjPj4ekZGRmDt3rrxrLhFZjjPeckAihZW8vDx5B18OKRFRe5gdYv70pz+hT58+yMzMxJEjR7Bs2TJs3boVAwYMQHFxsSVrJHJpQgijnph77rkHgwYNcpo5Y1KIyc3NlUMaQwwRtYfZ+8RkZ2fj22+/Rffu3QEAffr0wf3334/p06fjqaeeQkZGhsWKJHJlxcXFqK2thUqlQmxsLA4cOICsrCyYudm23ZH2iikrK8OSJUsQGhrqNPdOIiLrMrsnpnfv3igoKDA6plKpsHDhQnz33XcdLoyIGkm9EpGRkVCr1U43P8bf319eaeXr64sePXq0uBM3EVFTZoeYGTNm4I9//GOzDfDKy8sRFBTU4cKIqJHhHjElJSXyPcqk+SPOwHBIiYiovcweTpo9ezYAoEePHpg6dSpSU1PR0NCANWvWYNmyZRYrkMjVGU7qNeyVcabeioSEBOzfvx9HjhzBwYMHUVtbi9dff13psojIzpkdYgoKCnDw4EH5LtafffYZzpw5A5VKhSVLlmDjxo3yXaxvueUWS9ZM5FIMQ4zhfjHOROqJOXfuHFavXg0fHx8sXrxY3sWXiKglZoeYiIgITJgwARMmTJCP1dbW4ujRozh06BAOHz6MDRs2YPHixfLdd4nIdIbDSc42H0YihZgrV65ApVKhpqYGRUVFiIiIULYwIrJrFruLNdC4CV5aWhrS0tIseVoil2bYE1NcXIxu3bohKSlJ4aosSwox58+fR0xMDPLz85GXl8cQQ0RtMntiLxHZhmFPzGOPPYazZ89i6dKlCldlWdKS6ry8PPn/nORLRNfDEENkx3Q6HTQaDQDnG0IyJAWXK1euyLcwycvLU7IkInIADDFEduzChQvQ6/Xw9vZGZGSk0uVYTWBgIEJDQ+X/A+yJIaLrY4ghsmPSL/KEhAQ0NDSgc+fOGDRokFNOlpfmxUhLxxliiOh6LDqxl4gsKycnB0DjL3iNRoP8/HwUFhbKvRXOJCEhAQcOHEBcXBxOnz7t1MNnRGQZDDFEdsywJ0ZapdS5c2e4uTlfJ6rUE1NUVIQePXooWwwROQTn+0lI5ESkENO1a1ejVUrOyHCFEhFRezDEENkxw54YZ92tV2J4/6R33nkHM2fOxJkzZ5QtiojsGkMMkR0znBPjrLv1SgxDzNq1a7F69WocP35c2aKIyK4xxBDZKa1WK+8R4wo9MdJwUklJibxXDFcoEVFbGGKI7NSFCxcghICvry/Cw8MRFRWFbt26ITExUenSrCIoKAghISEAgODgYACcH0NEbePqJCI7ZTiUpFKpsHLlSoUrsr6EhASUlpZyrxgiahf2xBDZKcNJva5C+lqFEADYE0NEbWOIIbJThsurXYV0d+6qqioA7IkhorYxxBDZKcPhpC1btiA6Ohr33nuvwlVZlxRiioqKAAClpaWorKxUsiQismMMMUR2ynA4KS8vDwUFBU55zyRDUojJzc1FVlYWampqEBAQoHBVRGSvGGKI7FRLtxxw1j1iJN26dQPQ2AuVmJgIb29vhSsiInvGEENkh2pra3Hp0iUAxrcccNY9YiSdO3eGp6cndDqdHNyIiFrDEENkh6RVOf7+/ggNDXWZnhh3d3d5H5wvv/wSM2fOdIml5URkHoYYIjtkOJSkUqmc/uaPhqR5MQcOHMDq1auxZcsWhSsiInvFEENkhwxDjBBC7olx9uEk4Nq8GJ1OB4B7xRBR67hjL5EdkpZXd+3aFdXV1Rg8eDAuXLgg31PImUk9MdJKLO4VQ0StYYghskOGPTF+fn7Ytm2bsgXZkBRiLl++DKBxz5jq6mr4+voqWRYR2SEOJxHZIVe85YDEcK+YwMBAABxSIqKWMcQQ2aGmc2JcSZcuXeDu7o6amhp5+IwhhohawhBDZGeqq6vloZSuXbti7ty5iI6Oxt///neFK7MNtVqNLl26AABCQkIAQN4zh4jIEEMMkZ2Reh0CAwMRHBws33JApVIpXJntSENK06dPR3V1NR566CGFKyIie8QQQ2Rnmu4R40rLqyWGk3t9fHwUroaI7BVDDJGdMVxeDcClNrqTSHvFnD17VuFKiMieMcQQ2RnDnhitVguNRgMA8jwRVyD1xJw6dQoPP/wwpk+frnBFRGSPuE8MkZ0xDDE5OTkQQsDf3x/h4eHKFmZDhsusjx49CgC4evUq/Pz8lCyLiOwMe2KI7Iw0nJSQkIDs7GwAjcMrrjSxVxpKq6ysRGhoKAAOLRFRcwwxRHZG6onp2rUrvL29MXr0aAwePFjZomzMx8cHnTt3BgBER0cDAM6cOaNkSURkhzicRGRHqqqqUFxcDKBxDswNN9yAsWPHKlyVMpKSknDx4kUEBwcDYIghoubYE0NkR6Q9YoKDg+Vf3q5KmhejVqsBAFlZWUqWQ0R2iCGGyI4YzocBAK1Wq2A1ypKWWet0OgDsiSGi5hhiiOyI4XwYvV6PkJAQxMTEyMusXYnUE1NeXg6gcaiNiMgQ58QQ2RFpNVLXrl2h0WhQU1ODuro6l1peLZFCzKVLl1BZWQl/f3+FKyIie8OeGCI7Is376NmzJ86dOwegcYKvNC/ElUjDSSUlJaivr1e4GiKyRwwxRHZECjE9evQw2iPGFQUEBCAiIgLAtR4qIiJDDDFEdqKurk6e2Nu9e3f5F3diYqKSZSlKGlL69NNPMWbMGCxfvlzhiojInjDEENmJnJwcNDQ0wNfXFzExMS7fEwNcCzFnzpzBTz/9hN9++03hiojInjDEENkJw6EklUolz4lhiOEyayJqGVcnEdkJwxADAEOHDoWPjw969eqlZFmKkgKctMyaIYaIDDHEENmJpiHm7bffVrIcuyD1xOTn5wNoXKlUWlqKkJAQJcsiIjvB4SQiO9E0xFDjUnMAKCwsRFRUFAD2xhDRNQwxRHbCMMRUVVWhpqZG4YqUFxQUJN/NWgoxZ8+eVbIkIrIjDDFEdqCqqkq+tUD37t3xwQcfwNfXF7NmzVK4MuUlJycDAPz9/REZGYna2lqFKyIie8EQQ2QHpCGSsLAwhIaGysurO3XqpGRZdqFPnz4AgBtvvBEFBQWYOXOmwhURkb1giCGyA03nw3B59TVST8zJkycVroSI7A1DDJEdaBpiuNHdNVJPzIkTJxSuhIjsDUMMkR0wDDF1dXU4f/48ANe+5YCkd+/eABqXWY8dOxZdu3ZFSUmJwlURkT1giCGyA4YhJi8vD3q9Hj4+PoiOjla4MuUFBwcjNjYWAHD06FHk5uZymTURAWCIIVKcEMIoxEjzYRITE6FSqZQszW5IQ0qhoaEAuFcMETViiCFSWElJCcrKygA07lAbFhaGGTNm4LbbblO4MvshTe5Vq9UAGGKIqBFvO0CkMKkXJj4+Hj4+PhgwYABWr16tcFX2ReqJ0Wq1ABhiiKgRe2KIFMbbDVyf1BMjTehliCEigCGGSHFNQ0xOTo7c40CNpBBz5coVAI0hRgihZElEZAcYYogUZhhihBDo168ffHx85L1iqHGFUkxMjPz/5ORkXL16VeGqiEhpdhViXn/9daSlpSEgIAARERH43e9+h9OnTytdFpFVGYaYy5cvy7+c4+LilCzL7kjzYt58803s3r0b/v7+CldEREqzqxCzY8cOzJo1C3v27MGWLVtQX7FVTkwAACAASURBVF+P8ePH8y8uclp6vV6e32G4vDouLg6enp5KlmZ3pBBz/PhxhSshInthV6uTfvzxR6OPV69ejYiICOzfvx8jRoxQqCoi67l48SJqa2uhVqvRpUsX7Nq1CwBvN9ASaV6MdPuBhoYGuLu7K1kSESnMrkJMU+Xl5QCubXDVlFarNZoAWVFRAQDQ6XTQ6XQWrUU6n6XPS8ZcrZ2lX8iJiYkQQsjDp127drVqGzhiO/fs2RMAsH//fiQlJaFHjx7473//q3BVbXPEdnZEbGfbsVZbm3s+uw0xQgg8++yzGDZsGPr27dvic15//XUsWLCg2fHNmzfD19fXKnVt2bLFKuclY67Szps2bQIABAUFYdOmTdi2bVuzx6zJkdq5qqoKAFBcXIzi4mKUlZXZpI0swZHa2ZGxnW3H0m1dXV1t1uephJ2uU5w1axY2btyInTt3onPnzi0+p6WemLi4OBQXFyMwMNCi9eh0OmzZsgXp6enyrqFkea7Wzs899xzef/99PPvss1iyZAn69u2LrKwsbNq0CePGjbPadR21nRMSEqDRaOSPL126hE6dOilYUdsctZ0dDdvZdqzV1hUVFQgLC0N5eblJv7/tsifmySefxIYNG/Dzzz+3GmAAwMvLC15eXs2Oq9Vqq72QrXluusZV2vns2bMAgF69ekGtVuORRx7B4cOHceONN9rk63e0dk5OToZGo0FYWBiKi4tx6tQpjBo1SumyrsvR2tlRsZ1tx9Jtbe657Gp1khACf/7zn/HNN99g27Zt6Nq1q9IlEVlV043unn/+eaxZswaRkZFKlmW3pBVKQUFBAIAjR44oWQ4RKcyuemJmzZqFjIwM/Pe//0VAQAAKCgoANP7A8vHxUbg6IsvSarXIyckBAHTv3l3hahyDFGKkUXCGGCLXZlc9MR999BHKy8sxatQoREdHy//WrVundGlEFnfy5Eno9XoEBwcjOjoax48fR1ZWFhoaGpQuzW5Jy6yllYsMMUSuza5CjBCixX8zZsxQujQiizt06BAAIDU1FSqVCi+88AJ69uyJFStWKFyZ/TK8EWRqairS0tIUroiIlGRXw0lEruTw4cMAGkMMABw7dgwAWt1SgICQkBBER0fj0qVLWLFiBQYNGqR0SUSkILvqiSFyJVJPzA033ICqqirk5uYCuDbvg1rG2w8QkYQhhkgBQgijnhhp597IyEiEhYUpWZrd69evH4DGEFhXV4eioiKFKyIipTDEECngwoULKC0thYeHB3r37s2hJBNI82A2btwIPz8/PProowpXRERKYYghUoDUC5OcnAwvLy95aIQh5vqkEHPhwgXU19dzhRKRC2OIIVKA4XwY4NqkXs6Hub5u3bohJCREvmFcTk6OfPNXInItDDFECjBcXg0ATz/9NObPn4/hw4crWZZDUKlUcm9McHAwgGshkIhcC0MMkQKk4SSpJ2bixIl45ZVX0KtXLyXLchhSiPH39wfATe+IXBVDDJGNVVRUIDs7G8C1EEOmuemmmwAAtbW1ABhiiFwVQwyRjR09ehQAEBsbi7CwMBw6dAibNm3CpUuXFK7McUg9MSUlJQAYYohcFUMMkY01nQ/zySefYNKkSXj77beVLMuhREdHo3PnzhBCYMyYMbjrrruULomIFMAQQ2RjTW83wOXV5pF6YyZOnIjZs2crXA0RKYEhhsjGWltezRBjGinEZGZmKlwJESmFIYbIhurr6+U5MampqSgsLERRURFUKhV69+6tcHWORZrcu3fvXmRnZ+P06dMKV0REtsYQQ2RDZ86cQW1tLfz8/NCtWze5FyYxMRG+vr4KV+dYBgwYAADIzc1FUlIS/va3vylcERHZGkMMkQ1J82FSUlLg5ubG+TAdEBwcjJ49e8ofc4USkethiCGyId5uwLKkeTEAkJWVhcrKSgWrISJbY4ghsqGmK5OeffZZfPHFF5g2bZqSZTksKcT4+PhACIE9e/YoXBER2ZKH0gUQuZKmPTE9e/Y0GhIh00iTe/V6PQDgl19+QXp6upIlEZENsSeGyEYuX76MgoICqFQq9OvXT+lynEJqaio8PDyg1WoBADt37lS4IiKyJYYYIhuRhpJ69OgBPz8/7NixA2+//TbvwNwB3t7eSElJkT/es2cP6urqFKyIiGyJIYbIRpoOJa1duxbPPfccPv/8cyXLcnjSvJibb74ZX375pcLVEJEtMcQQ2Yi0s2z//v0BAL/++isAYOjQoYrV5AwMJ/fedttt8PT0VLgiIrIVhhgiGxBCYMeOHQCA4cOHo6ysTN4jZvDgwUqW5vCkyb379u1DQ0ODwtUQkS0xxBDZwMmTJ1FUVAQfHx+kpaVhz549EEIgKSkJkZGRSpfn0JKTkxEcHIzKykp88MEHePXVV+XVSkTk3BhiiGxg+/btAIAhQ4bA09OTQ0kW5O7ujrFjxwIA5syZg3nz5uHUqVMKV0VEtsAQQ2QD0lDSqFGjAFybDzNkyBClSnIq48ePBwD5/lO//PKLkuUQkY0wxBBZmRBC7okZOXIk9Ho9Dh48CIA9MZYihZiKigoA3C+GyFUwxBBZ2enTp1FYWAhvb2/cdNNNcHNzg0ajwc8//4zevXsrXZ5TSEhIQI8ePSCEAMCeGCJXwdsOEFmZ1AszePBgeHl5AWhcDjx8+HAFq7K9hoYG6HQ6q51/2rRpWLNmDVQqFYQQyMnJQXR0tNWu1x46nQ4eHh6ora3lyikrYjvbjrltrVar4e7ubvF6GGKI/l97dx7W1JX+AfwbshAImwGBoCgCrdIfiltdGdGOijqirdM6aovU4lO17tS14FL3wam21epU6lg7dXRaHWxnxK1aVyxaBDdoS0GEKoggQgKBhOT8/mByx7AnkA3fz/Pkj9yce+57DyF5c84955pY3ethnjWMMRQWFuLJkycmPc6kSZMQGhrKPS8pKUFVVZVJj9kcxhi8vb2Rn58PHo9n0VjaM2pn82lNW7u5ucHb27tN/0aUxBBiQnWvhwGAcePGISAgAKtXr0bHjh0tGJ156BIYT09PODo6muxLRqPRgDHGDSlJpVL4+PiY5FgtpdVqoVAo4OTkBDs7Gr03FWpn8zGmrRljqKysRFFREQC0aQ8pJTGEmFBWVhYKCwthb2+PgQMHIi8vD8ePHwefz8eWLVssHZ7JaTQaLoFxd3c3+fGcnJwgl8shk8ng4+Nj8V/lWq0WKpUKYrGYvlxNiNrZfIxtawcHBwBAUVERPD0922xoif7ahJiQbihp0KBBEIvFSE5OBlB76wGJRGLJ0MxCdw2Mbuqzqbm4uAAAlEqlxRMYQog+3edAW14bR0kMISZUdyjpWV0fxlwJhS6JKS8vp1V7CbEypvgcoCSGEBN5+n5JdRe5o/VhTMPR0RECgQBarRa//vorCgsLLR0SIcSEKIkhxESys7Nx//59iEQiDBo0CAqFAjdu3ADw7PXEmAuPx9PrjXn06BF3oS8hpP2hJIYQE9H1wgwcOBAODg5ISUmBVqtFly5d0LlzZwtH137pkhgAqK6uhlKptGA0bW/48OFYtGiRpcMwWt34GWN4++23IZVKwePxkJ6ebsHoWsca/jYlJSXw9PREbm6uWY/76quvYtu2bWY9JkBJDCEmU/d6mLKyMnTp0oWGkkzs6SQGAEpLS42q58033wSPx+Me7u7uGDNmDG7evNkWYT6z/vWvf2H9+vXc8xMnTuDzzz/Hf/7zHxQUFCA4ONiC0bVO3XNra8OGDdN7T0qlUrz88st49OgRV2bz5s2IiIiAn58ft+3ChQuIiIjgZuwdPXrUoOM+vT+fz8exY8fqlVm9ejU2btzI3frDXCiJIcQEGroeZtKkSbh37x7+9re/WTCy9k8kEnHTOYHaJMbYIaUxY8agoKAABQUFOHPmDAQCAcaPH99WoT6TpFIpnJ2duefZ2dmQyWQYMmQIvL29IRAYvvKHSqVqyxCNolKp6p2bsfU0hDGG9PR0/OUvf0FBQQHu37+PgwcP4uzZs9iwYQOA2ll5e/fuxcyZM/X2raioQEhICHbu3GlUTC3Zv1evXvDz88OBAweMOoaxKIkhxASysrKQn58PoVCIwYMH670mFostFNWz4+nemKqqKqNX7rW3t4e3tze8vb3Ru3dvLF++HPn5+dwv3xMnTiA0NBRubm5wd3fH+PHjkZ2drVfHN998g5CQEDg4OMDd3R0jR45ERUUFgNovpvj4ePj7+8PBwQEhISE4fPgwt29FRQWmT58OJycnyGQyfPDBBy2Ku7q6GgsWLICnpyfEYjFCQ0Nx7do17vXhw4djwYIFWLZsGaRSKby9vbF27dom6/Tz88OHH36ot6137956+7Wk3qeHXN58803Mnz8feXl54PF4XO9BS+KfN28eYmJi4OHhgfDwcADASy+9hPnz52PRokXo0KEDvLy8sGfPHlRUVGDGjBlwdnZGQEAAjh8/3uS56uqfN28e97eNi4vTS4brxjBq1Kh6w0nNnUdj9TQkKysLcrkcw4cPh7e3N3x8fBAeHo6AgADu/XT8+HEIBIJ6nzljx47Fhg0bMGnSpCbPuzEt3X/ChAk4ePCgUccwFiUxhJjAoUOHANR+qDo6OiI/P9+k9w2yJYwxVFRUmPRhb28PpVLJPe7fv9/qC3wVCgUOHDiAwMBAbuG+iooKxMTE4Nq1azhz5gzs7OzwyiuvcNO7CwoKMHPmTMyYMQOZmZk4d+4cJk2axMUSFxeHffv2Yffu3bhz5w4WL16MN954g+vFW7p0Kb7//nskJibi1KlTOHfuHFJTU5uNddmyZThy5Aj279+P69evIzAwEOHh4Xj8+DFXZv/+/ZBIJEhJSUF8fDzWrVuH06dPt6qNDK33o48+wrp169C5c2cUFBRwX/AtjV8gEODy5cvYvXu33nYPDw9cvXoV8+fPx5w5c/Daa69hyJAhuH79OsLDwxEZGYnKyspmz0MgECAlJQUff/wxtm/fjs8++6zBMpcvX8ann35ar46WnEdL6gGA1NRUiEQi9OzZE0BtgpSQkICsrCzMnj0bQO2wT//+/Zs8L1MaMGAArl69iurqavMdlLUjZWVlDAArKytr87pVKhU7evQoU6lUbV43+Z/20M5arZZ1796dAWBffPEFY4yxIUOGMKlUyr777jsLR1fLXO2sVCpZRkYGUyqV3DaFQsEAmP2hUCgMij0qKorx+XwmkUiYRCJhAJhMJmOpqamN7lNUVMQAsFu3bjHGGLt27RoDwHJycuqVVSgUTCwWs+TkZL3t0dHRbOrUqUwulzORSMQOHTrEvVZSUsIcHBzYwoULG41BoVAwoVDIDhw4wG1TqVTMx8eHxcfHM8YYCwsLY6GhoXr7vfjii2z58uWN1tu1a1e2fft2vW0hISFszZo13POW1BsWFqYX//bt21nXrl0Njr93797c6xqNhpWWltY7fk1NDZNIJCwyMpLbVlBQwACwK1euNHquYWFhLCgoiGm1Wm7b8uXLWVBQkF6Zp2Ooe24tOY/G6mnIkiVLGI/H496PPB6PeXl5sUuXLnFlJk6cyN56660m6wHAEhMTmz1eU/t/+eWXTKPR1Hvtxo0bDADLzc1tcN+GPg90jP3+pp4YQtpYWloafv75Z4jFYrz88su4f/8+kpOT8fjxYwQFBVk6PGKAESNGID09Henp6UhJScHo0aMxduxY3Lt3D0Dt9RzTpk2Dv78/XFxc0K1bNwBAXl4eACAkJARhYWEICQnBa6+9hoSEBO5C44yMDFRVVWHUqFFwcnLiHl988QWys7ORnZ0NlUqlNzQglUrRvXv3JmPOzs6GWq3Wu4BcKBRiwIAByMzM5Lb16tVLbz+ZTMbd26Y1WltvS+NvrMfh6ePz+Xy4u7tzvRcA4OXlBQDNxjRo0CC9xdkGDx6MrKwsvTs3N9Xr0dLzaK4endTUVEyePJl7P16+fBk9evTArFmzuJiUSqVFh6t116I118vVlujeSYS0sX/84x8AaseHnZ2dsW/fPgC1C9xZ+oaE1sDR0REKhcLkx1Gr1bh9+zYYY+jRo4dRtz6QSCQIDAzknvfr1w+urq5ISEjAhg0bEBERAV9fXyQkJMDHxwdarRbBwcHcxZl8Ph+JiYm4ffs2vvvuO+zYsQOxsbHcdHsAOHbsGDp16qR3XHt7e5SUlBh13uy/Q1V1V0dljOltEwqFeq/zeLwmVzm2s7OrNyTX0BCpofXW1dL4G7ttR0PHf3qbro62WNG5qVuHtPQ8mqtHJy0tDevXr+fej4GBgViyZAkiIiJw7949+Pv7w8PDw+jZeG1BN0xmzhvbUk8MIW1Io9FwF7ZNmzYNALgLNV999VWLxWVNeDweJBKJyR9ubm6QyWRwcHCAUqlsk6mfPB4PdnZ2UCqVKCkpQWZmJuLi4vD73/8eQUFBDX6B8Hg8DB06FO+//z7S0tIgEomQmJiIF154Afb29sjLy0NgYKDew9fXF4GBgRAKhfjhhx+4ukpLS/HLL780GWNgYCBEIhEuXbrEbVOr1fjxxx9b1RPYsWNHFBQUcM/Ly8tx9+5do+trjKniN9TT7a57/txzz7X4xoVteR45OTl48uQJ+vbtW287n8+HVCoFUHtPtoyMDIPqbku3b99G586d4eHhYbZjUk8MIW3owoULePDgAdzc3LjpuboPMWNnBhDjubu7o7S0FEVFRSgqKkJwcLBB3e3V1dXcrQtKS0uxc+dOKBQKREREoEOHDnB3d8eePXsgk8mQl5eHFStW6O2fkpKCpKQkREREwNvbGykpKXj06BGCgoLg7OyMJUuWYPHixdBqtQgNDUV5eTmSk5Ph5OSEqKgoREdHY+nSpXB3d4eXlxdiY2ObvXOwRCLBnDlzsHTpUkilUnTp0gXx8fGorKxEdHS04Y34Xy+99BI+//xz7txXrVrVZncifpqp4jdUfn4+YmJiMGvWLFy/fh07duxo8ewwoG3PIzU1FTweD15eXigsLERFRQUuXryINWvWYPbs2XBzcwMAhIeHY+XKlSgtLUWHDh24/RUKBX799Vfu+d27d5Gens7F1Zy6+9+7dw/p6enw8PDQ2//ixYsYPXq0QefWWpTEENKGdENJr776Kuzt7ZGYmAjGGAYOHNiiDwvStlxdXSEUCrlhj9LSUshkshbvf+LECa68s7MzevToga+//ppb++fQoUNYsGABgoOD0b17d3z88cfca0DtVO8rV67g008/RXl5Obp27YoPPvgAY8eOBQCsX78enp6e2Lx5M3JycuDm5oa+ffvivffeAwBs3boVCoWCG5p89913UVZW1mzcW7ZsgVarRWRkJORyOfr374+TJ0/qfbEZauXKlcjJycH48ePh6uqK9evXm6QnBjBN/IaaPn06lEolBgwYAD6fj/nz5+Ptt982qI62Oo/r16+DMcYNJXXo0AHPPfcctm3bhqioKK5cz5490b9/f3z11VeYNWsWt/3HH3/EiBEjuOcxMTEAgKioKHz++ecAgM8//xwzZsxocBZf3f1jY2MRGxurt39VVRUSExNx8uRJg86t1Qy6DNjK0ewk22fL7VxVVcXc3NwYAHb27FnGGGMjRoxgANjWrVstHJ0+S85OMrf8/Hx27do1du3aNXbnzh2zHls3a6ahmRyk7bR1O9edQWVLjh07xoKCggxuizVr1rCwsLBmyzXW1jt37mSjRo1qcl9TzE6inhhC2siJEyfw5MkT+Pj4YNiwYQCA7du34/Dhw3Q9jAV5eHhwQ0KVlZVQKpV6K/oS0p6MGzcOWVlZuH//Pnx9fVu838mTJ/HRRx8ZfVyhUIgdO3YYvb+xKIkhpI3ohpKmTJnCXSsQEhKCkJAQS4b1zBOLxXBycuJmRBUUFMDf39/CURFiOgsXLjR4nytXrrTqmIYOtbUVSmIIaQNyuRzffvstgP/NSiLWw93dnUtiHj9+DB8fH7r9A2mU7uatxPrRFGtC2sDRo0dRVVWF559/Hn379sXDhw8RGRmJb775ptXL3ZPWk0qlerN65HK5BaMhhLQVSmIIaSXGGP76178CqO2F4fF42Lp1K7788kts3ry53sJWxPz4fD63UqtIJOLufUQIsW2UxBDSSklJSUhOToZYLMbMmTPx8OFD7Nq1CwCwevVqC0dHdLy9vSEQCKBSqVBcXGzpcAghbYCSGEJaQavVYuXKlQCABQsWoFOnToiPj4dSqcTAgQO59UCI5fH5fO62Dw8ePEBFRQXdWZwQG0dJDCGtcPDgQdy6dQuurq5Yvnw5CgsLsXv3bgDA2rVraSjJynh4eEAsFqOmpgaZmZl4+PChpUMihLQCJTGEGEmlUmHVqlUAgOXLl0Mqler1woSHh1s4QlKXnZ0dOnfuzD0vKipCTU2NBSMihLQGJTGEGOmzzz7D3bt34eXlhQULFuj1wrz//vvUC2OlXF1d4eTkBKB2OJB6YwixXZTEEGKEiooKrFu3DkDtxbsSiQTu7u7YuXMnpkyZYvaboJGW4/F4eiuZFhQUcGvIEEJsCyUxhBjho48+wsOHD+Hv74+ZM2cCqF12Ozo6GgcPHqReGCsnkUgglUq55zk5OTSsRIgNoiSGEAM9fPgQ8fHxAGrvQiwSifDo0SMLR0UM1blzZwgEtYuWq1Qq3Lt3z8IREUIMRUkMIQZQKpWYOHEiysrK0Lt3b0yZMgV79uzB888/j9OnT1s6PGIAkUiEwMBArtfMVlZWHj58OBYtWmTpMAxiDTGXlJTA09MTubm5Zjvmq6++im3btpnteM8iSmIIaSGtVovp06cjJSUFUqkUX331FS5duoS5c+fiyZMnuHr1qqVDJAZycnJCt27dAABPnjzR61F78803wePxuIe7uzvGjBmDmzdvWipcm/Wvf/0L69evN0ndw4YNA5/PR4cOHcDn8yGVSvHyyy/X6x3dvHkzIiIi4OfnB+B/SyA8/fD29m7xcVuy/+rVq7Fx40aUl5e3+jxJwyiJIaSF4uLicPjwYQiFQiQmJkIkEuGPf/wjampq8Kc//QnvvfeepUMkRpBKpdwieHl5eXj8+DG3CN6YMWNQUFCAgoICnDlzBgKBAOPHj7dkuDZFpVIBqG1jZ2fnVtdTF2MM6enp2Lp1K3766Sfk5+fj4MGDOHv2LDZs2MCVUyqV2Lt3L3f9ms7//d//cX/fgoIC3Lp1y6C4mtu/V69e8PPzw4EDBwyql7QcJTGEtMC+ffuwefNmAMDevXvRt29fTJgwAcXFxejbty/+9re/0cW8Nkwmk0EqlYIxhpycHGRkZECj0cDe3h7e3t7w9vZG7969sXz5cuTn53O/8k+cOIHQ0FC4ubnB3d0d48ePR3Z2tl7d33zzDUJCQuDg4AB3d3eMHDkSFRUVAGq/hOPj4+Hv7w8HBweEhITg8OHD3L4VFRWYPn06nJycIJPJ8MEHH7TofKqrq7FgwQJ4enpCLBYjNDQU165d414fPnw4FixYgGXLlkEqlcLb2xtr165tss7hw4dj3rx5mDdvHne+cXFxesNwujIxMTHw8PDAqFGjuO1PDye1JL6G6qkrKysLcrkcYWFh8PLygo+PD8LDwxEQEMC1MQAcP34cAoEAgwcP1ttfIBBwf19vb2907Nix+cY1cP8JEybg4MGDBtVLWo6SGEKacfr0abz99tsAgFWrVmHq1KmIiorCzZs34eXlhaNHj8LR0dHCUdqeioqKRh9VVVUtLqtUKpst2xwejwc/Pz/u76hWq/HkyRO92xIoFAocOHAAgYGB3A0kKyoqEBMTg2vXruHMmTOws7PDK6+8Aq1WC6B2+vbMmTMxY8YMZGZm4ty5c5g0aRL3xR8XF4d9+/Zh9+7duHPnDhYvXow33ngD58+fBwAsXboU33//PRITE3Hq1CmcO3cOqampzZ7PsmXLcOTIEezfvx/Xr19HYGAgwsPD8fjxY67M/v37IZFIkJKSgvj4eKxbt67Z67r2798PgUCAlJQUfPzxx9i+fTs+++yzBstcvnwZn376aavia66e1NRUiEQi9OzZE0BtcpSQkICsrCzMnj2bK3fhwgX079+/3v5ZWVnw8fFBt27dMGXKFOTk5DR5/sbsP2DAAFy9ehXV1dUG1U1aiLUjZWVlDAArKytr87pVKhU7evQoU6lUbV43+R9raufq6mr23nvvMTs7OwaATZ06lWm1WrZ3714GgIlEIpacnGzpMI1irnZWKpUsIyODKZXKeq8BaPQxbtw4vbKOjo6Nlg0LC9Mr6+HhUa9MS2k0GpaTk8OuXbvG/vCHPzA+n88cHR2ZRCJhAJhMJmOpqamN7l9UVMQAsFu3bjHGGLt27RoDwHJycuqVVSgUTCwW13sPRUdHs6lTpzK5XM5EIhE7dOgQ91pJSQlzcHBgCxcubDQGhULBhEIhO3DgALdNpVIxHx8fFh8fzxhjLCwsjIWGhurt9+KLL7Lly5c3Wm9YWBgLCgpiWq2W27Z8+XIWFBSkV6Z3794N7quLuaXxNVRPXUuWLGE8Ho9JJBImkUgYj8djXl5e7NKlS3rlJk6cyN566y29bUlJSezw4cPs5s2b7PTp0ywsLIx5eXmx4uLiZo9ryP43btxgAFhubm6L6rV2Go2GlZaWMo1GY/C+TX0eGPv9TT0xhDTg5s2bePHFF7Fp0yZotVq8/vrr3JBRVFQUIiIi8NVXX9Xrnia2zc7ODt26dUO3bt3A4/HQr18/fPnllzh8+DDOnz+P0aNHY+zYsdx07OzsbEybNg3+/v5wcXHhLhLOy8sDAISEhCAsLAwhISF47bXXkJCQgNLSUgBARkYGqqqqMGrUKDg5OXGPL774AtnZ2cjOzoZKpdJ7j0mlUnTv3r3Jc8jOzoZarcbQoUO5bUKhEAMGDEBmZia3rVevXnr7yWQyFBUVNVn3oEGD9IZNBw8ejKysLGg0Gm5bQz0exsTXXD1AbU/M5MmTcf36dVy4cAEXL15Ejx49MGvWLL2YlEolxGKx1ZoU+QAAFClJREFU3r5jx47FH//4R/Ts2RMjR47EsWPHANT2ALVES/d3cHAAAFRWVraoXmIYgaUDIMSayOVy7NixA2vXroVarYaHhwfWr1+P27dvc0MAfD4f3377rYUjtX1NrZLL5/P1njf15Wpnp/9brC2m0Lq7u8PNzQ0KhYJb3ZfP52Pjxo04fPgwEhISsGHDBkRERMDX1xcJCQnw8fGBVqtFcHAwdyEqn89HYmIibt++je+++w47duxAbGwsUlJSuCGnY8eOoVOnTnrHt7e3R0lJiVGx696nda/RYozpbRMKhXqv83g8LqbWkEgkbRJfc/UAQFpaGtavX4/AwECUl5fDxcUFS5YsQUREBO7duwd/f38AtTf+1CWPTcXds2dPZGVlNXtcQ/bXDZEZer0NaRmr7InZtWsXunXrBrFYjH79+uHixYuWDom0Y1qtFmfOnMH06dPh7e2N2NhYqNVq9OvXD8HBwZg7dy4++eQTxMXFWTrUdkUikTT6qPuruamyul+6TZU1Bp/Ph4uLCzp27AgejweNRoP79+8DqL3W5ebNm8jMzERcXBx+//vfIygoqMEvSh6Ph6FDh+L9999HWloaRCIREhMT8cILL8De3h55eXkIDAzUe/j6+iIwMBBCoRA//PADV1dpaSl++eWXJuMODAyESCTCpUuXuG1qtRo//vgjgoKCjGoLnadj0T1/7rnn6iWd5ogvJycHT548Qd++fett10211unTpw8yMjKarK+6uhqZmZmQyWQtjqEl+9++fRudO3eGh4eHUfWSplldT8w///lPLFq0CLt27cLQoUPx6aefYuzYscjIyECXLl0sHR5pB6qqqnDnzh2kpaUhLS0N//73v5Gfn8+97uzsDLVarXcB5fDhw/HWW29ZIlxiQSqVCvb29pDJZLh79y527NiByspKDBgwAFVVVXB1dcWWLVtQUVGBsrIybiVnnZSUFCQlJSEiIgLe3t5ISUnBo0ePEBQUBGdnZyxZsgSLFy+GVqtFaGgoysvLkZycDCcnJ0RFRSE6OhpLly6Fu7s7vLy8EBsbW6/nqS6JRII5c+Zg6dKlkEql6NKlC+Lj41FZWYno6OhWtUd+fj5iYmIwa9YsXL9+HTt27GjxjKm2ji81NRU8Hg9eXl4oLCzEw4cPkZaWhjVr1mD27Nlwc3PjyoaHh2PlypUoLS1Fhw4dAIDrsenSpQuKioqwYcMGlJeXIyoqqkXHb+n+Fy9epHupmZDVJTHbtm1DdHQ0N5//ww8/xMmTJ7F7925uiqu5VVRUICcnB5mZmXBzc+OWKn+am5sbd2fcqqoqFBcXN1qfq6srt2ZCdXV1k0vWOzs7w9XVFUDtB2pT3epPl1Wr1U3endfJyYn7J9doNCgoKGi0rKOjI/erRqvV4sGDB42W1U0jBWq7h3W/XBsiFov1fp389ttvqKmpQUZGBlxdXSEQCLiuZ5FIBHd3d2i1WjDG8Ntvv0GlUqGmpgZqtZp7VFZWQqPRwNXVFZWVlXj8+DFSU1Px8OFDPH78GMXFxSgsLKy3OqubmxsmT56Mv//975DL5QAAPz8/REVFITIyEgEBAY2eB2m/Tpw4wf2ydnZ2Ro8ePbBv3z70798fVVVV2LhxIz744ANMnDgRXbt2xbvvvovZs2cjNzcXP/30E8rKynD27Fns2rULCoUCnTp1QmxsLIKDg/HgwQPMnz8fLi4u2LhxI3Jzc+Hq6opevXohJiYGT548QVxcHB4/fowJEybAyckJCxcuRGlpKTQaDRQKhd77+OmhmFWrVkGtViMyMhJyuRx9+/ZFYmIihEIhFAoFNBoN1Go1N6QnFAqh1Wqh0WhQUVHR4OrFGo0GU6dOhUKhwIABA8Dn8zF79mxMmzaNq6eheoHaz42nt8fFxaG6uhpvvPEGFAoF+vTpg3//+99wdHREdXV1vXrqEgqFuHr1KhhjCAwMBFD7PxwQEIBNmzbh9ddf14vh+eef565vmjFjBoDaYccpU6agpKQEHh4eePHFF3H+/Hl4e3tzMXzxxReYM2cO95nwtHv37mHq1KkoLi7m9j979izc3d25Y1dVVSExMRHffvstNztJo9E0OWwnEAi4v6Xub9IYPp/PJbWmKssY07uvGI/Hs6r7jPFYQ+9WC1GpVHB0dMTXX3+NV155hdu+cOFCpKenc9MOdaqrq/WmrZWXl8PX1xfFxcVwcXFps7j++c9/IjIyss3qI9bDw8MDO3fuxLhx4yAWi7F06VIIhUKMGTMGoaGhzf7qtVVqtRqnT5/GqFGj6l0b0ZaqqqqQn58PPz+/ekNE7UFlZSWKi4shl8uhVqvb5JoSazVr1iw8//zzePfddy0dilEuX76Mjz76CIcOHWrx//WePXuQmpra6BTv5nz11Ve4cOECdu7cadT+1srJyQnPPfecwWtjVVVVITc3F76+vvU+D8rLy+Hh4YGysjKDvr+tqiemuLgYGo0GXl5eett13YV1bd68Ge+//3697adOnWrTdTtu3rwJgUDQZPbJ5/O5cWGtVmuRsnZ2dlwvEWNMb40LayzL4/H0vkAbW5VTV6+9vT23vHdlZWWDFwjyeDw4ODggICAA9vb2cHR0xE8//QStVgt7e3s4ODjAw8MDnp6ecHV15RbbOnv2LABgxIgRAGovOj1x4kSj8bQXpr7fk24xMIVC0eTf15a5ublxvZq6X626ngRdz4bu1zdjjHvf6i5k1f1/1/3F25Cn3+vN/f6ksvplQ0NDkZeXh6KiokZvL1C33h9++KHRpK0lMQgEAixZssSq2qEt6ubxeA32TjVHpVJBqVTiwoUL9d7rxs7esqokRqe5q9Z1Vq5ciZiYGO65ridm9OjRbdoTM27cOKxdu9Ysv1yfdebqIXjWmbsnxsnJqV32xDSHMQa5XA5nZ2ebX9HZ2dkZnp6e6NOnj6VDqael7Wxo7Onp6a2Kq+5Fx+1Ba97TVVVVcHBwwLBhwxrsiTGGVSUxHh4e4PP59XpdioqK6vXOALXTEO3t7ettFwqFJvtgNmXd5H+onc3D1O2s0WjA4/FgZ2fXbofmmqIbXtK1gS07d+6cpUNoVHtqZ2vXmra2s7PjeuDrfu4Y+zlkVX9tkUiEfv361eviPn36NIYMGWKhqAghhBBijayqJwYAYmJiEBkZif79+2Pw4MHYs2cP8vLy9O6DQQghhBBidUnMn/70J5SUlGDdunUoKChAcHAwkpKS0LVrV0uHRgghhBArYnVJDAC88847eOeddywdBiGEEEKsmFVdE0MIaZ+saDkqQoiFmOJzgJIYQojJ6GYc0B18CSG6z4G2nBFplcNJhJD2gc/nw83NjbtdhqOjo82vl2IIrVYLlUqFqqoqmvprQtTO5mNMWzPGUFlZiaKiIri5uRl0w9DmUBJDCDEp3eqoTd33q71ijEGpVMLBweGZSt7MjdrZfFrT1m5ubo2ulmwsSmIIISbF4/Egk8ng6enZ5G0o2iO1Wo0LFy5g2LBhtHijCVE7m4+xbS0UCtu0B0aHkhhCiFk8fR+wZwWfz0dNTQ3EYjF9uZoQtbP5WFtb0+AhIYQQQmwSJTGEEEIIsUmUxBBCCCHEJrWra2J0C+kYe0vvpqjValRWVqK8vNwqxgHbK2pn86B2Ng9qZ/OgdjYfU7W17nvb0AXx2lUSI5fLAQC+vr4WjoQQQgghhpLL5XB1dW1xeR5rR+uBa7VaPHjwAM7Ozm2+VkB5eTl8fX2Rn58PFxeXNq2b/A+1s3lQO5sHtbN5UDubj6namjEGuVwOHx8fgxYsbFc9MXZ2dujcubNJj+Hi4kL/JGZA7Wwe1M7mQe1sHtTO5mOKtjakB0aHLuwlhBBCiE2iJIYQQgghNom/du3atZYOwlbw+XwMHz4cAkG7GoWzOtTO5kHtbB7UzuZB7Ww+1tTW7erCXkIIIYQ8O2g4iRBCCCE2iZIYQgghhNgkSmIIIYQQYpMoiSGEEEKITaIk5im7du1Ct27dIBaL0a9fP1y8eLHJ8keOHMELL7wAe3t7vPDCC0hMTDRTpLbNkHZOSEjA7373O3To0AEdOnTAyJEjcfXqVTNGa7sMfT/rHDp0CDweDy+//LKJI2wfDG3nJ0+eYO7cuZDJZBCLxQgKCkJSUpKZorVdhrbzhx9+iO7du8PBwQG+vr5YvHgxqqqqzBStbbpw4QIiIiLg4+MDHo+Ho0ePNrvP+fPn0a9fP4jFYvj7++Ovf/2rGSJ9CiOMMcYOHTrEhEIhS0hIYBkZGWzhwoVMIpGwe/fuNVg+OTmZ8fl8tmnTJpaZmck2bdrEBAIB++GHH8wcuW0xtJ2nTZvGPvnkE5aWlsYyMzPZjBkzmKurK/vtt9/MHLltMbSddXJzc1mnTp3Y7373OzZx4kQzRWu7DG3n6upq1r9/fzZu3Dh26dIllpubyy5evMjS09PNHLltMbSdv/zyS2Zvb88OHDjA7t69y06ePMlkMhlbtGiRmSO3LUlJSSw2NpYdOXKEAWCJiYlNls/JyWGOjo5s4cKFLCMjgyUkJDChUMgOHz5spogZoyTmvwYMGMBmz56tt61Hjx5sxYoVDZafPHkyGzNmjN628PBwNmXKFJPF2B4Y2s511dTUMGdnZ7Z//35ThNduGNPONTU1bOjQoeyzzz5jUVFRlMS0gKHtvHv3bubv789UKpU5wms3DG3nuXPnspdeeklvW0xMDAsNDTVZjO1NS5KYZcuWsR49euhtmzVrFhs0aJApQ9NDw0kAVCoVUlNTMXr0aL3to0ePRnJycoP7XLlypV758PDwRssT49q5rsrKSqjVakilUlOE2C4Y287r1q1Dx44dER0dbeoQ2wVj2vnbb7/F4MGDMXfuXHh5eSE4OBibNm2CRqMxR8g2yZh2Dg0NRWpqKjf0nJOTg6SkJPzhD38webzPksa+B3/88Ueo1WqzxGD55fasQHFxMTQaDby8vPS2e3l5obCwsMF9CgsLDSpPjGvnulasWIFOnTph5MiRpgixXTCmnS9fvoy9e/ciPT3dHCG2C8a0c05ODs6ePYvXX38dSUlJyMrKwty5c1FTU4PVq1ebI2ybY0w7T5kyBY8ePUJoaCgYY6ipqcGcOXOwYsUKc4T8zGjse7CmpgbFxcWQyWQmj4GSmKfweDy954yxettaU57UMrbd4uPjcfDgQZw7dw5isdhU4bUbLW1nuVyON954AwkJCfDw8DBXeO2GIe9nrVYLT09P7NmzB3w+H/369cODBw+wdetWSmKaYUg7nzt3Dhs3bsSuXbswcOBA/Prrr1i4cCFkMhlWrVpljnCfGQ39XRrabiqUxADw8PAAn8+vl9UXFRXVyzJ1vL29DSpPjGtnnb/85S/YtGkTvvvuO/Tq1cuUYdo8Q9s5Ozsbubm5iIiI4LZptVoAgEAgwM8//4yAgADTBm2DjHk/y2QyCIVC8Pl8bltQUBAKCwuhUqkgEolMGrMtMqadV61ahcjISMycORMA0LNnT1RUVODtt99GbGws7OzoSoq20Nj3oEAggLu7u1lioL8kAJFIhH79+uH06dN620+fPo0hQ4Y0uM/gwYPrlT916lSj5Ylx7QwAW7duxfr163HixAn079/f1GHaPEPbuUePHrh16xbS09O5x4QJEzBixAikp6fD19fXXKHbFGPez0OHDsWvv/7KJYkA8Msvv0Amk1EC0whj2rmysrJeosLn88FqJ7OYLNZnTWPfg/3794dQKDRPEGa7hNjK6abw7d27l2VkZLBFixYxiUTCcnNzGWOMRUZG6l0Jf/nyZcbn89mWLVtYZmYm27JlC02xbgFD2/nPf/4zE4lE7PDhw6ygoIB7yOVyS52CTTC0neui2UktY2g75+XlMScnJzZv3jz2888/s//85z/M09OTbdiwwVKnYBMMbec1a9YwZ2dndvDgQZaTk8NOnTrFAgIC2OTJky11CjZBLpeztLQ0lpaWxgCwbdu2sbS0NG4q+4oVK1hkZCRXXjfFevHixSwjI4Pt3buXplhb0ieffMK6du3KRCIR69u3Lzt//jz3WlhYGIuKitIr//XXX7Pu3bszoVDIevTowY4cOWLmiG2TIe3ctWtXBqDeY82aNeYP3MYY+n5+GiUxLWdoOycnJ7OBAwcye3t75u/vzzZu3MhqamrMHLXtMaSd1Wo1W7t2LQsICGBisZj5+vqyd955h5WWllogctvx/fffN/h5q2vbqKgoFhYWprfPuXPnWJ8+fZhIJGJ+fn5s9+7dZo2Zxxj1rRFCCCHE9tA1MYQQQgixSZTEEEIIIcQmURJDCCGEEJtESQwhhBBCbBIlMYQQQgixSZTEEEIIIcQmURJDCCGEEJtESQwhhBBCbBIlMYQQQgixSZTEEEKs2qVLlyAUClFdXc1tu3v3Lng8Hu7du2fByAghlkZJDCHEqqWnpyMoKAj29vZ629zc3NC1a1cLRkYIsTRKYgghVu3GjRvo06eP3rb09HSEhIRYKCJCiLWgJIYQYtXS09PRu3dvvW1paWmUxBBCKIkhhFgvjUaDO3fu1OuJuX79er3EhhDy7KEkhhBitX7++WcolUr4+Phw265cuYL79+9TTwwhhJIYQoj1Sk9PBwDs2LEDWVlZOH78OKZPnw4AerOVCCHPJkpiCCFWKz09HaNGjcLdu3cRHByM9957D1u2bIGLiws++eQTS4dHCLEwHmOMWToIQghpSHh4OPr27YvNmzdbOhRCiBWinhhCiNW6ceMGevXqZekwCCFWipIYQohVKiwsxMOHDymJIYQ0ioaTCCGEEGKTqCeGEEIIITaJkhhCCCGE2CRKYgghhBBikyiJIYQQQohNoiSGEEIIITaJkhhCCCGE2CRKYgghhBBikyiJIYQQQohNoiSGEEIIITaJkhhCCCGE2CRKYgghhBBik/4fChxW3BAPATYAAAAASUVORK5CYII=&amp;#39;&amp;gt;&amp;lt;/img&amp;gt;&amp;quot;},&amp;quot;nodeType&amp;quot;:&amp;quot;DOM&amp;quot;,&amp;quot;type&amp;quot;:&amp;quot;node&amp;quot;,&amp;quot;instanceArgs&amp;quot;:{&amp;quot;namespace&amp;quot;:&amp;quot;html&amp;quot;,&amp;quot;tag&amp;quot;:&amp;quot;div&amp;quot;},&amp;quot;children&amp;quot;:[]}]})&lt;/unsafe-script&gt;&quot;}}},&quot;children&quot;:[{&quot;props&quot;:{&quot;id&quot;:&quot;out&quot;,&quot;setInnerHtml&quot;:&quot;&lt;div class=&#39;display:none&#39;&gt;&lt;/div&gt;&lt;unsafe-script style=&#39;display:none&#39;&gt;\\nWebIO.mount(this.previousSibling,{&amp;quot;props&amp;quot;:{&amp;quot;attributes&amp;quot;:{&amp;quot;style&amp;quot;:&amp;quot;display:flex; justify-content:center; align-items:center;&amp;quot;}},&amp;quot;nodeType&amp;quot;:&amp;quot;DOM&amp;quot;,&amp;quot;type&amp;quot;:&amp;quot;node&amp;quot;,&amp;quot;instanceArgs&amp;quot;:{&amp;quot;namespace&amp;quot;:&amp;quot;html&amp;quot;,&amp;quot;tag&amp;quot;:&amp;quot;div&amp;quot;},&amp;quot;children&amp;quot;:[{&amp;quot;props&amp;quot;:{&amp;quot;setInnerHtml&amp;quot;:&amp;quot;&amp;lt;img src=&amp;#39;data:image/png;base64,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&amp;#39;&amp;gt;&amp;lt;/img&amp;gt;&amp;quot;},&amp;quot;nodeType&amp;quot;:&amp;quot;DOM&amp;quot;,&amp;quot;type&amp;quot;:&amp;quot;node&amp;quot;,&amp;quot;instanceArgs&amp;quot;:{&amp;quot;namespace&amp;quot;:&amp;quot;html&amp;quot;,&amp;quot;tag&amp;quot;:&amp;quot;div&amp;quot;},&amp;quot;children&amp;quot;:[]}]})&lt;/unsafe-script&gt;&quot;},&quot;nodeType&quot;:&quot;DOM&quot;,&quot;type&quot;:&quot;node&quot;,&quot;instanceArgs&quot;:{&quot;namespace&quot;:&quot;html&quot;,&quot;tag&quot;:&quot;div&quot;},&quot;children&quot;:[]}]}]})</unsafe-script>\n",
       "</div>"
      ],
      "text/plain": [
       "Widget{:manipulate,Any}(OrderedDict{Symbol,Any}(:N=>Widget{:slider,Int64}(OrderedDict{Symbol,Any}(:changes=>Observable{Int64} with 1 listeners. Value:\n",
       "0,:value=>Observable{Int64} with 2 listeners. Value:\n",
       "96), Observable{Int64} with 2 listeners. Value:\n",
       "96, Scope(\"knockout-component-30d8008c-bf56-4816-9cfe-cf113579ac33\", Node{DOM}(DOM(:html, :div), Any[Node{DOM}(DOM(:html, :div), Any[Node{DOM}(DOM(:html, :label), Any[\"N\"], Dict{Symbol,Any}(:className=>\"interact \",:style=>Dict{Any,Any}(:padding=>\"5px 10px 0px 10px\")), 1)], Dict{Symbol,Any}(:attributes=>Dict(\"style\"=>\"text-align:right;width:18%\")), 2), Node{DOM}(DOM(:html, :div), Any[Node{DOM}(DOM(:html, :input), Any[], Dict{Symbol,Any}(:max=>192,:min=>0,:attributes=>Dict{Any,Any}(:type=>\"range\",Symbol(\"data-bind\")=>\"numericValue: value, valueUpdate: 'input', event: {change : function () {this.changes(this.changes()+1)}}\",\"orient\"=>\"horizontal\"),:step=>1,:className=>\"slider slider is-fullwidth\",:style=>Dict{Any,Any}()), 0)], Dict{Symbol,Any}(:attributes=>Dict(\"style\"=>\"flex-grow:1; margin: 0 2%\")), 1), Node{DOM}(DOM(:html, :div), Any[Node{DOM}(DOM(:html, :p), Any[], Dict{Symbol,Any}(:attributes=>Dict(\"data-bind\"=>\"text: value\")), 0)], Dict{Symbol,Any}(:attributes=>Dict(\"style\"=>\"width:18%\")), 1)], Dict{Symbol,Any}(:attributes=>Dict(\"style\"=>\"display:flex; justify-content:center; align-items:center;\")), 7), Dict{String,Tuple{Observables.AbstractObservable,Union{Nothing, Bool}}}(\"changes\"=>(Observable{Int64} with 1 listeners. Value:\n",
       "0, nothing),\"value\"=>(Observable{Int64} with 2 listeners. Value:\n",
       "96, nothing)), Set(String[]), nothing, Any[\"knockout\"=>\"/Users/bert/.julia/packages/Knockout/JIqpG/src/../assets/knockout.js\", \"knockout_punches\"=>\"/Users/bert/.julia/packages/Knockout/JIqpG/src/../assets/knockout_punches.js\", \"/Users/bert/.julia/packages/InteractBase/Q4IkI/src/../assets/all.js\", \"/Users/bert/.julia/packages/InteractBase/Q4IkI/src/../assets/style.css\", \"/Users/bert/.julia/packages/InteractBulma/Ohu5Y/src/../assets/main.css\"], Dict{Any,Any}(\"_promises\"=>Dict{Any,Any}(\"importsLoaded\"=>Any[JSString(\"function (ko, koPunches) {\\n    ko.punches.enableAll();\\n    ko.bindingHandlers.numericValue = {\\n        init : function(element, valueAccessor, allBindings, data, context) {\\n            var stringified = ko.observable(ko.unwrap(valueAccessor()));\\n            stringified.subscribe(function(value) {\\n                var val = parseFloat(value);\\n                if (!isNaN(val)) {\\n                    valueAccessor()(val);\\n                }\\n            })\\n            valueAccessor().subscribe(function(value) {\\n                var str = JSON.stringify(value);\\n                if ((str == \\\"0\\\") && ([\\\"-0\\\", \\\"-0.\\\"].indexOf(stringified()) >= 0))\\n                     return;\\n                 if ([\\\"null\\\", \\\"\\\"].indexOf(str) >= 0)\\n                     return;\\n                stringified(str);\\n            })\\n            ko.applyBindingsToNode(element, { value: stringified, valueUpdate: allBindings.get('valueUpdate')}, context);\\n        }\\n    };\\n    var json_data = JSON.parse(\\\"{\\\\\\\"changes\\\\\\\":0,\\\\\\\"value\\\\\\\":96}\\\");\\n    var self = this;\\n    function AppViewModel() {\\n        for (var key in json_data) {\\n            var el = json_data[key];\\n            this[key] = Array.isArray(el) ? ko.observableArray(el) : ko.observable(el);\\n        }\\n        \\n        \\n        [this[\\\"changes\\\"].subscribe((function (val){!(this.valueFromJulia[\\\"changes\\\"]) ? (WebIO.setval({\\\"name\\\":\\\"changes\\\",\\\"scope\\\":\\\"knockout-component-30d8008c-bf56-4816-9cfe-cf113579ac33\\\",\\\"id\\\":\\\"ob_02\\\",\\\"type\\\":\\\"observable\\\"},val)) : undefined; return this.valueFromJulia[\\\"changes\\\"]=false}),self),this[\\\"value\\\"].subscribe((function (val){!(this.valueFromJulia[\\\"value\\\"]) ? (WebIO.setval({\\\"name\\\":\\\"value\\\",\\\"scope\\\":\\\"knockout-component-30d8008c-bf56-4816-9cfe-cf113579ac33\\\",\\\"id\\\":\\\"ob_01\\\",\\\"type\\\":\\\"observable\\\"},val)) : undefined; return this.valueFromJulia[\\\"value\\\"]=false}),self)]\\n        \\n    }\\n    self.model = new AppViewModel();\\n    self.valueFromJulia = {};\\n    for (var key in json_data) {\\n        self.valueFromJulia[key] = false;\\n    }\\n    ko.applyBindings(self.model, self.dom);\\n}\\n\")]),\"changes\"=>Any[JSString(\"(function (val){return (val!=this.model[\\\"changes\\\"]()) ? (this.valueFromJulia[\\\"changes\\\"]=true, this.model[\\\"changes\\\"](val)) : undefined})\")],\"value\"=>Any[JSString(\"(function (val){return (val!=this.model[\\\"value\\\"]()) ? (this.valueFromJulia[\\\"value\\\"]=true, this.model[\\\"value\\\"](val)) : undefined})\")]), ConnectionPool(Channel{Any}(sz_max:9223372036854775807,sz_curr:3), Set(AbstractConnection[]), Channel{AbstractConnection}(sz_max:32,sz_curr:0))), ##52#53{#dom#15{##dom#13#14{Dict{Any,Any},DOM}},typeof(scope)}(#dom#15{##dom#13#14{Dict{Any,Any},DOM}}(##dom#13#14{Dict{Any,Any},DOM}(Dict{Any,Any}(:className=>\"field\"), DOM(:html, :div))), scope))), Observable{Any} with 0 listeners. Value:\n",
       "Figure(PyObject <Figure size 640x480 with 1 Axes>), nothing, getfield(Main, Symbol(\"##5#8\")){Observable{Any}}(Observable{Any} with 0 listeners. Value:\n",
       "Figure(PyObject <Figure size 640x480 with 1 Axes>)))"
      ]
     },
     "execution_count": 1,
     "metadata": {},
     "output_type": "execute_result"
    }
   ],
   "source": [
    "using Reactive, Interact, PyPlot, Distributions\n",
    "f = figure()\n",
    "range_grid = range(0.0, stop=1.0, length=100)\n",
    "μ = 0.4\n",
    "samples = rand(192) .<= μ # Flip 192 coins\n",
    "@manipulate for N=0:1:192; withfig(f) do\n",
    "        n = sum(samples[1:N]) # Count number of heads in first N flips\n",
    "        posterior1 = Beta(1+n, 1+(N-n))\n",
    "        posterior2 = Beta(5+n, 5+(N-n))\n",
    "        plot(range_grid, pdf.(posterior1,range_grid), \"k-\")\n",
    "        plot(range_grid, pdf.(posterior2,range_grid), \"k--\")\n",
    "        xlabel(L\"\\mu\"); ylabel(L\"p(\\mu|\\mathcal{D})\"); grid()\n",
    "        title(L\"p(\\mu|\\mathcal{D})\"*\" for N=$(N), n=$(n) (real \\$\\\\mu\\$=$(μ))\")\n",
    "        legend([\"Based on uniform prior \"*L\"B(1,1)\",\"Based on prior \"*L\"B(5,5)\"], loc=4)\n",
    "    end\n",
    "end"
   ]
  },
  {
   "cell_type": "markdown",
   "metadata": {
    "slideshow": {
     "slide_type": "fragment"
    }
   },
   "source": [
    "$\\Rightarrow$ With more data, the relevance of the prior diminishes!\n"
   ]
  },
  {
   "cell_type": "markdown",
   "metadata": {
    "slideshow": {
     "slide_type": "slide"
    }
   },
   "source": [
    "### From Posterior to Point-Estimate\n",
    "\n",
    "- Sometimes we want just one 'best' parameter (vector), rather than a posterior distribution over parameters. Why?"
   ]
  },
  {
   "cell_type": "markdown",
   "metadata": {
    "slideshow": {
     "slide_type": "fragment"
    }
   },
   "source": [
    "- Recall Bayesian prediction\n",
    "\n",
    "$$\n",
    "p(x|D) = \\int p(x|\\theta)p(\\theta|D)\\,\\mathrm{d}{\\theta}\n",
    "$$"
   ]
  },
  {
   "cell_type": "markdown",
   "metadata": {
    "slideshow": {
     "slide_type": "fragment"
    }
   },
   "source": [
    "- If we approximate posterior $p(\\theta|D)$ by a delta function for one 'best' value $\\hat\\theta$, then the predictive distribution collapses to\n",
    "\n",
    "$$\n",
    "p(x|D)= \\int p(x|\\theta)\\,\\delta(\\theta-\\hat\\theta)\\,\\mathrm{d}{\\theta} = p(x|\\hat\\theta)\n",
    "$$"
   ]
  },
  {
   "cell_type": "markdown",
   "metadata": {
    "slideshow": {
     "slide_type": "fragment"
    }
   },
   "source": [
    "- This is the model $p(x|\\theta)$ evaluated at $\\theta=\\hat\\theta$."
   ]
  },
  {
   "cell_type": "markdown",
   "metadata": {
    "slideshow": {
     "slide_type": "fragment"
    }
   },
   "source": [
    "- Note that $p(x|\\hat\\theta)$ is much easier to evaluate than the integral for full Bayesian prediction."
   ]
  },
  {
   "cell_type": "markdown",
   "metadata": {
    "slideshow": {
     "slide_type": "subslide"
    }
   },
   "source": [
    "### Some Well-known Point-Estimates\n",
    "\n",
    "- **Bayes estimate**\n",
    "\n",
    "$$\n",
    "\\hat \\theta_{bayes}  = \\int \\theta \\, p\\left( \\theta |D \\right)\n",
    "\\,\\mathrm{d}{\\theta}\n",
    "$$\n",
    "  - (homework). Proof that the Bayes estimate minimizes the expected mean-square error, i.e., proof that\n",
    "\n",
    "$$\n",
    "\\hat \\theta_{bayes} = \\arg\\min_{\\hat \\theta} \\int_\\theta (\\hat \\theta -\\theta)^2 p \\left( \\theta |D \\right) \\,\\mathrm{d}{\\theta}\n",
    "$$"
   ]
  },
  {
   "cell_type": "markdown",
   "metadata": {
    "slideshow": {
     "slide_type": "fragment"
    }
   },
   "source": [
    "- **Maximum A Posteriori** (MAP) estimate \n",
    "$$\n",
    "\\hat \\theta_{\\text{map}}=  \\arg\\max _{\\theta} p\\left( \\theta |D \\right) =\n",
    "\\arg \\max_{\\theta}  p\\left(D |\\theta \\right) \\, p\\left(\\theta \\right)\n",
    "$$"
   ]
  },
  {
   "cell_type": "markdown",
   "metadata": {
    "slideshow": {
     "slide_type": "fragment"
    }
   },
   "source": [
    "- **Maximum Likelihood** (ML) estimate\n",
    "$$\n",
    "\\hat \\theta_{ml}  = \\arg \\max_{\\theta}  p\\left(D |\\theta\\right)\n",
    "$$\n",
    "  - Note that Maximum Likelihood is MAP with uniform prior"
   ]
  },
  {
   "cell_type": "markdown",
   "metadata": {
    "slideshow": {
     "slide_type": "slide"
    }
   },
   "source": [
    "### Bayesian vs Maximum Likelihood Learning\n",
    "\n",
    "Consider the task: predict a datum $x$ from an observed data set $D$.\n",
    "\n",
    "<table>\n",
    "<tr><td></td><td style=\"text-align:center\"> <b>Bayesian</b></td><td style=\"text-align:center\"> <b>Maximum Likelihood </b></td></tr>\n",
    "<tr><td>1. <b>Model Specification</b></td><td>Choose a model $m$ with data generating distribution $p(x|\\theta,m)$ and parameter prior $p(\\theta|m)$</td><td>Choose a model $m$ with same data generating distribution $p(x|\\theta,m)$. No need for priors.</td></tr>\n",
    "<tr><td>2. <b>Learning</b></td><td>use Bayes rule to find the parameter posterior,\n",
    "$$\n",
    "p(\\theta|D) = \\propto p(D|\\theta) p(\\theta)\n",
    "$$  </td><td>By Maximum Likelihood (ML) optimization,\n",
    "$$ \n",
    "    \\hat \\theta  = \\arg \\max_{\\theta}  p(D |\\theta)\n",
    "$$</td></tr>\n",
    "<tr><td>3. <b>Prediction</b></td><td>$$\n",
    "p(x|D) = \\int p(x|\\theta) p(\\theta|D) \\,\\mathrm{d}\\theta\n",
    "$$</td><td>\n",
    "$$ \n",
    "    p(x|D) =  p(x|\\hat\\theta)\n",
    "$$</td></tr>\n",
    "</table>"
   ]
  },
  {
   "cell_type": "markdown",
   "metadata": {
    "slideshow": {
     "slide_type": "slide"
    }
   },
   "source": [
    "### Report Card on Maximum Likelihood Estimation\n",
    "\n",
    "- Maximum Likelihood (ML) is MAP with uniform prior, or MAP is 'penalized' ML\n",
    "$$\n",
    "\\hat \\theta_{map}  = \\arg \\max _\\theta  \\{ \\overbrace{\\log\n",
    "p\\left( D|\\theta  \\right)}^{\\mbox{log-likelihood}} + \\overbrace{\\log\n",
    "p\\left( \\theta \\right)}^{\\mbox{penalty}} \\}\n",
    "$$"
   ]
  },
  {
   "cell_type": "markdown",
   "metadata": {
    "slideshow": {
     "slide_type": "fragment"
    }
   },
   "source": [
    "- (good!). Works rather well if we have a lot of data because the influence of the prior diminishes with more data."
   ]
  },
  {
   "cell_type": "markdown",
   "metadata": {
    "slideshow": {
     "slide_type": "fragment"
    }
   },
   "source": [
    "- (bad). Cannot be used for model comparison. E.g. best model does generally not correspond to largest likelihood (see part-2, Tjalkens)."
   ]
  },
  {
   "cell_type": "markdown",
   "metadata": {
    "slideshow": {
     "slide_type": "fragment"
    }
   },
   "source": [
    "- (good). Computationally often do-able. Useful fact (since $\\log$ is monotonously increasing):\n",
    "$$\\arg\\max_\\theta \\log p(D|\\theta) =  \\arg\\max_\\theta p(D|\\theta)$$"
   ]
  },
  {
   "cell_type": "markdown",
   "metadata": {
    "slideshow": {
     "slide_type": "fragment"
    }
   },
   "source": [
    "$\\Rightarrow$ **ML estimation is an approximation to Bayesian learning**, but for good reason a very popular learning method when faced with lots of available data."
   ]
  },
  {
   "cell_type": "code",
   "execution_count": 2,
   "metadata": {
    "slideshow": {
     "slide_type": "skip"
    }
   },
   "outputs": [
    {
     "data": {
      "text/html": [
       "<!--\n",
       "This HTML file contains custom styles and some javascript.\n",
       "Include it a Jupyter notebook for improved rendering.\n",
       "-->\n",
       "\n",
       "<!-- Fonts -->\n",
       "<link href='http://fonts.googleapis.com/css?family=Alegreya+Sans:100,300,400,500,700,800,900,100italic,300italic,400italic,500italic,700italic,800italic,900italic' rel='stylesheet' type='text/css'>\n",
       "<link href='http://fonts.googleapis.com/css?family=Arvo:400,700,400italic' rel='stylesheet' type='text/css'>\n",
       "<link href='http://fonts.googleapis.com/css?family=PT+Mono' rel='stylesheet' type='text/css'>\n",
       "<link href='http://fonts.googleapis.com/css?family=Shadows+Into+Light' rel='stylesheet' type='text/css'>\n",
       "<link href='http://fonts.googleapis.com/css?family=Nixie+One' rel='stylesheet' type='text/css'>\n",
       "\n",
       "<!-- Custom style -->\n",
       "<style>\n",
       "\n",
       "@font-face {\n",
       "    font-family: \"Computer Modern\";\n",
       "    src: url('http://mirrors.ctan.org/fonts/cm-unicode/fonts/otf/cmunss.otf');\n",
       "}\n",
       "\n",
       "#notebook_panel { /* main background */\n",
       "    background: rgb(245,245,245);\n",
       "}\n",
       "\n",
       "div.container {\n",
       "    min-width: 960px;\n",
       "}\n",
       "\n",
       "div #notebook { /* centre the content */\n",
       "    background: #fff; /* white background for content */\n",
       "    margin: auto;\n",
       "    padding-left: 0em;\n",
       "}\n",
       "\n",
       "#notebook li { /* More space between bullet points */\n",
       "    margin-top:0.8em;\n",
       "}\n",
       "\n",
       "/* draw border around running cells */\n",
       "div.cell.border-box-sizing.code_cell.running {\n",
       "    border: 1px solid #111;\n",
       "}\n",
       "\n",
       "/* Put a solid color box around each cell and its output, visually linking them*/\n",
       "div.cell.code_cell {\n",
       "    background-color: rgb(256,256,256);\n",
       "    border-radius: 0px;\n",
       "    padding: 0.5em;\n",
       "    margin-left:1em;\n",
       "    margin-top: 1em;\n",
       "}\n",
       "\n",
       "div.text_cell_render{\n",
       "    font-family: 'Alegreya Sans' sans-serif;\n",
       "    line-height: 140%;\n",
       "    font-size: 125%;\n",
       "    font-weight: 400;\n",
       "    width:800px;\n",
       "    margin-left:auto;\n",
       "    margin-right:auto;\n",
       "}\n",
       "\n",
       "\n",
       "/* Formatting for header cells */\n",
       ".text_cell_render h1 {\n",
       "    font-family: 'Nixie One', serif;\n",
       "    font-style:regular;\n",
       "    font-weight: 400;\n",
       "    font-size: 45pt;\n",
       "    line-height: 100%;\n",
       "    color: rgb(0,51,102);\n",
       "    margin-bottom: 0.5em;\n",
       "    margin-top: 0.5em;\n",
       "    display: block;\n",
       "}\n",
       "\n",
       ".text_cell_render h2 {\n",
       "    font-family: 'Nixie One', serif;\n",
       "    font-weight: 400;\n",
       "    font-size: 30pt;\n",
       "    line-height: 100%;\n",
       "    color: rgb(0,51,102);\n",
       "    margin-bottom: 0.1em;\n",
       "    margin-top: 0.3em;\n",
       "    display: block;\n",
       "}\n",
       "\n",
       ".text_cell_render h3 {\n",
       "    font-family: 'Nixie One', serif;\n",
       "    margin-top:16px;\n",
       "    font-size: 22pt;\n",
       "    font-weight: 600;\n",
       "    margin-bottom: 3px;\n",
       "    font-style: regular;\n",
       "    color: rgb(102,102,0);\n",
       "}\n",
       "\n",
       ".text_cell_render h4 {    /*Use this for captions*/\n",
       "    font-family: 'Nixie One', serif;\n",
       "    font-size: 14pt;\n",
       "    text-align: center;\n",
       "    margin-top: 0em;\n",
       "    margin-bottom: 2em;\n",
       "    font-style: regular;\n",
       "}\n",
       "\n",
       ".text_cell_render h5 {  /*Use this for small titles*/\n",
       "    font-family: 'Nixie One', sans-serif;\n",
       "    font-weight: 400;\n",
       "    font-size: 16pt;\n",
       "    color: rgb(163,0,0);\n",
       "    font-style: italic;\n",
       "    margin-bottom: .1em;\n",
       "    margin-top: 0.8em;\n",
       "    display: block;\n",
       "}\n",
       "\n",
       ".text_cell_render h6 { /*use this for copyright note*/\n",
       "    font-family: 'PT Mono', sans-serif;\n",
       "    font-weight: 300;\n",
       "    font-size: 9pt;\n",
       "    line-height: 100%;\n",
       "    color: grey;\n",
       "    margin-bottom: 1px;\n",
       "    margin-top: 1px;\n",
       "}\n",
       "\n",
       ".CodeMirror{\n",
       "    font-family: \"PT Mono\";\n",
       "    font-size: 90%;\n",
       "}\n",
       "\n",
       ".boxed { /* draw a border around a piece of text */\n",
       "  border: 1px solid blue ;\n",
       "}\n",
       "\n",
       "h4#CODE-EXAMPLE,\n",
       "h4#END-OF-CODE-EXAMPLE {\n",
       "    margin: 10px 0;\n",
       "    padding: 10px;\n",
       "    background-color: #d0f9ca !important;\n",
       "    border-top: #849f81 1px solid;\n",
       "    border-bottom: #849f81 1px solid;\n",
       "}\n",
       "\n",
       ".emphasis {\n",
       "    color: red;\n",
       "}\n",
       "\n",
       ".exercise {\n",
       "    color: green;\n",
       "}\n",
       "\n",
       ".proof {\n",
       "    color: blue;\n",
       "}\n",
       "\n",
       "code {\n",
       "  padding: 2px 4px !important;\n",
       "  font-size: 90% !important;\n",
       "  color: #222 !important;\n",
       "  background-color: #efefef !important;\n",
       "  border-radius: 2px !important;\n",
       "}\n",
       "\n",
       "/* This removes the actual style cells from the notebooks, but no in print mode\n",
       "   as they will be removed through some other method */\n",
       "@media not print {\n",
       "  .cell:nth-last-child(-n+2) {\n",
       "    display: none;\n",
       "  }\n",
       "}\n",
       "\n",
       "</style>\n",
       "\n",
       "<!-- MathJax styling -->\n",
       "<script>\n",
       "    MathJax.Hub.Config({\n",
       "                        TeX: {\n",
       "                           extensions: [\"AMSmath.js\"],\n",
       "                           equationNumbers: { autoNumber: \"AMS\", useLabelIds: true}\n",
       "                           },\n",
       "                tex2jax: {\n",
       "                    inlineMath: [ ['$','$'], [\"\\\\(\",\"\\\\)\"] ],\n",
       "                    displayMath: [ ['$$','$$'], [\"\\\\[\",\"\\\\]\"] ]\n",
       "                },\n",
       "                displayAlign: 'center', // Change this to 'center' to center equations.\n",
       "                \"HTML-CSS\": {\n",
       "                    styles: {'.MathJax_Display': {\"margin\": 4}}\n",
       "                }\n",
       "        });\n",
       "</script>\n"
      ]
     },
     "metadata": {},
     "output_type": "display_data"
    }
   ],
   "source": [
    "open(\"../../styles/aipstyle.html\") do f display(\"text/html\", read(f, String)) end"
   ]
  },
  {
   "cell_type": "code",
   "execution_count": null,
   "metadata": {},
   "outputs": [],
   "source": []
  }
 ],
 "metadata": {
  "@webio": {
   "lastCommId": "0edceeb5b5d748f5987d5e6719f15198",
   "lastKernelId": "1e91b343-4cbb-4e56-94bb-edf332d47cc6"
  },
  "anaconda-cloud": {},
  "celltoolbar": "Slideshow",
  "kernelspec": {
   "display_name": "Julia 1.0.1",
   "language": "julia",
   "name": "julia-1.0"
  },
  "language_info": {
   "file_extension": ".jl",
   "mimetype": "application/julia",
   "name": "julia",
   "version": "1.0.1"
  }
 },
 "nbformat": 4,
 "nbformat_minor": 1
}
