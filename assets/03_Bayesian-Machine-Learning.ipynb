{
 "cells": [
  {
   "cell_type": "markdown",
   "metadata": {
    "slideshow": {
     "slide_type": "slide"
    }
   },
   "source": [
    "# Bayesian Machine Learning"
   ]
  },
  {
   "cell_type": "markdown",
   "metadata": {
    "slideshow": {
     "slide_type": "slide"
    }
   },
   "source": [
    "### Preliminaries\n",
    "\n",
    "- Goals\n",
    "  - Introduction to Bayesian (i.e., probabilistic) modeling\n",
    "- Materials\n",
    "  - Mandatory\n",
    "    - These lecture notes\n",
    "  - Optional\n",
    "    - Bishop pp. 21-24   "
   ]
  },
  {
   "cell_type": "markdown",
   "metadata": {
    "slideshow": {
     "slide_type": "slide"
    }
   },
   "source": [
    "### Example Problem: Predicting a Coin Toss\n",
    "\n",
    "- **Question**. We observe a the following sequence of heads (h) and tails (t) when tossing the same coin repeatedly $$D=\\{hthhtth\\}\\,.$$\n",
    "\n",
    "- What is the probability that heads (h) comes up next?"
   ]
  },
  {
   "cell_type": "markdown",
   "metadata": {
    "slideshow": {
     "slide_type": "fragment"
    }
   },
   "source": [
    "- **Answer** later in this lecture. "
   ]
  },
  {
   "cell_type": "markdown",
   "metadata": {
    "slideshow": {
     "slide_type": "slide"
    }
   },
   "source": [
    "### The Bayesian Machine Learning Framework\n",
    "\n",
    "- Suppose that your task is to predict a future observation $x$, based on $N$ past observations $D=\\{x_1,\\dotsc,x_N\\}$."
   ]
  },
  {
   "cell_type": "markdown",
   "metadata": {
    "slideshow": {
     "slide_type": "fragment"
    }
   },
   "source": [
    "- The Bayesian approach for this task involves three stages: \n",
    "  1. Model specification\n",
    "  1. Parameter estimation (i.e., learning from observed data; using Bayesian inference)\n",
    "  1. Prediction (apply the model)"
   ]
  },
  {
   "cell_type": "markdown",
   "metadata": {
    "slideshow": {
     "slide_type": "fragment"
    }
   },
   "source": [
    "  \n",
    "- Next, we discuss these three stages in a bit more detail."
   ]
  },
  {
   "cell_type": "markdown",
   "metadata": {
    "slideshow": {
     "slide_type": "slide"
    }
   },
   "source": [
    "### (1) Model specification\n",
    "\n",
    "Your first task is to propose a model with tuning parameters $\\theta$ for generating the observations $x$."
   ]
  },
  {
   "cell_type": "markdown",
   "metadata": {
    "slideshow": {
     "slide_type": "fragment"
    }
   },
   "source": [
    "- This involves specification of $p(x|\\theta)$ and a prior for the parameters $p(\\theta)$."
   ]
  },
  {
   "cell_type": "markdown",
   "metadata": {
    "slideshow": {
     "slide_type": "fragment"
    }
   },
   "source": [
    "- _You_ choose the distribution $p(x|\\theta)$ based on your physical understanding of the data generating process.\n",
    "- Note that, for a given data set $D=\\{x_1,x_2,\\dots,x_N\\}$ with independent observations $x_n$,\n",
    "$$ p(D|\\theta) = \\prod_{n=1}^N p(x_n|\\theta)$$\n",
    "so usually you select a model for generating one observation $x_n$ and then use (in-)dependence assumptions to combine these models into a model for your observed data set $D$. "
   ]
  },
  {
   "cell_type": "markdown",
   "metadata": {
    "slideshow": {
     "slide_type": "fragment"
    }
   },
   "source": [
    "- _You_ choose the prior $p(\\theta)$ to reflect what you know about the parameter values before you see the data $D$.\n",
    "  "
   ]
  },
  {
   "cell_type": "markdown",
   "metadata": {
    "slideshow": {
     "slide_type": "slide"
    }
   },
   "source": [
    "### (2) Parameter estimation\n",
    "\n",
    "- After model specification, you need to measure/collect a data set $D$. Then, use Bayes rule to find the posterior distribution for the parameters,\n",
    "$$\n",
    "p(\\theta|D) = \\frac{p(D|\\theta) p(\\theta)}{p(D)} \\propto p(D|\\theta) p(\\theta)\n",
    "$$  \n",
    "  - The denominator is only a normalization factor."
   ]
  },
  {
   "cell_type": "markdown",
   "metadata": {
    "slideshow": {
     "slide_type": "fragment"
    }
   },
   "source": [
    "- Note that there's **no need for you to design a _smart_ parameter estimation algorithm**. The only complexity lies in the computational issues.  "
   ]
  },
  {
   "cell_type": "markdown",
   "metadata": {
    "slideshow": {
     "slide_type": "fragment"
    }
   },
   "source": [
    "- This \"recipe\" works only if the RHS factors can be evaluated; this is what machine learning is about     \n",
    "  $\\Rightarrow$ **Machine learning is EASY, apart from computational details :) **\n",
    "  "
   ]
  },
  {
   "cell_type": "markdown",
   "metadata": {
    "slideshow": {
     "slide_type": "slide"
    }
   },
   "source": [
    "### (3) Prediction\n",
    "\n",
    "- Given the data $D$, our knowledge about the yet unobserved datum $x$ is captured by\n",
    "$$\\begin{align*}\n",
    "p(x|D) &= \\int p(x,\\theta|D) \\,\\mathrm{d}\\theta\\\\\n",
    " &= \\int p(x|\\theta,D) p(\\theta|D) \\,\\mathrm{d}\\theta\\\\\n",
    " &= \\int p(x|\\theta) p(\\theta|D) \\,\\mathrm{d}\\theta\\\\\n",
    "\\end{align*}$$"
   ]
  },
  {
   "cell_type": "markdown",
   "metadata": {
    "slideshow": {
     "slide_type": "fragment"
    }
   },
   "source": [
    "- Again, **no need to invent a special prediction algorithm**. Probability theory takes care of all that. The complexity of prediction is just computational: how to carry out the marginalization over $\\theta$."
   ]
  },
  {
   "cell_type": "markdown",
   "metadata": {
    "slideshow": {
     "slide_type": "fragment"
    }
   },
   "source": [
    "- In order to execute prediction, you need to have access to the factors $p(x|\\theta)$ and $p(\\theta|D)$. Where do these factors come from? Are they available?\n",
    "  "
   ]
  },
  {
   "cell_type": "markdown",
   "metadata": {
    "slideshow": {
     "slide_type": "fragment"
    }
   },
   "source": [
    "- What did we learn from $D$? Without access to $D$, we would predict new observations through\n",
    "$$\n",
    "p(x) = \\int p(x,\\theta) \\,\\mathrm{d}\\theta = \\int p(x|\\theta) p(\\theta) \\,\\mathrm{d}\\theta\n",
    "$$"
   ]
  },
  {
   "cell_type": "markdown",
   "metadata": {
    "slideshow": {
     "slide_type": "fragment"
    }
   },
   "source": [
    "- NB The application of the learned posterior $p(\\theta|D)$ not necessarily has to be prediction. We use it here as an example, but other applications are of course also possible. \n",
    "  "
   ]
  },
  {
   "cell_type": "markdown",
   "metadata": {
    "slideshow": {
     "slide_type": "slide"
    }
   },
   "source": [
    "###  Bayesian Model Comparison \n",
    "\n",
    "- There appears to be a remaining problem: How good really were our model assumptions $p(x|\\theta)$ and $p(\\theta)$?  "
   ]
  },
  {
   "cell_type": "markdown",
   "metadata": {
    "slideshow": {
     "slide_type": "fragment"
    }
   },
   "source": [
    "- Technically, this is a **model comparison** problem"
   ]
  },
  {
   "cell_type": "markdown",
   "metadata": {
    "slideshow": {
     "slide_type": "fragment"
    }
   },
   "source": [
    "- [**Q**.] What if I have more candidate models, say $\\mathcal{M} = \\{m_1,\\ldots,m_K\\}$ where each model relates to specific prior $p(\\theta|m_k)$ and likelihood $p(D|\\theta,m_k)$? Can we evaluate the relative performance of a model against another model from the set?"
   ]
  },
  {
   "cell_type": "markdown",
   "metadata": {
    "slideshow": {
     "slide_type": "fragment"
    }
   },
   "source": [
    "- [**A**.]: Start again with **model specification**. Specify a prior $p(m_k)$ for each of the models and then solve the desired inference problem:      \n",
    "$$\\begin{align*} \n",
    "p(m_k|D) &= \\frac{p(D|m_k) p(m_k)}{p(D)} \\\\\n",
    "  &\\propto p(m_k) \\cdot p(D|m_k) \\\\\n",
    "  &= p(m_k)\\cdot \\int_\\theta p(D,\\theta|m_k) \\,\\mathrm{d}\\theta\\\\\n",
    "  &= \\underbrace{p(m_k)}_{\\substack{\\text{model}\\\\\\text{prior}}}\\cdot \\int_\\theta \\underbrace{p(D|\\theta,m_k)}_{\\text{likelihood}} \\,\\underbrace{p(\\theta|m_k)}_{\\text{prior}}\\, \\mathrm{d}\\theta\\\\\n",
    "\\end{align*}$$"
   ]
  },
  {
   "cell_type": "markdown",
   "metadata": {
    "slideshow": {
     "slide_type": "slide"
    }
   },
   "source": [
    "### Bayesian Model Comparison (continued) \n",
    "\n",
    "- You, the engineer, have to choose the factors $p(D|\\theta,m_k)$, $p(\\theta|m_k)$ and $p(m_k)$. After that, for a given data set $D$, the model posterior $p(m_k|D)$ can be computed. "
   ]
  },
  {
   "cell_type": "markdown",
   "metadata": {
    "slideshow": {
     "slide_type": "fragment"
    }
   },
   "source": [
    "- If you need to work with one model,select the model with largest posterior $p(m_k|D)$"
   ]
  },
  {
   "cell_type": "markdown",
   "metadata": {
    "slideshow": {
     "slide_type": "fragment"
    }
   },
   "source": [
    "- Alternatively, if you don't want to choose a model, you can do prediction by **Bayesian model averaging** to utilitize the predictive power from all models:\n",
    "$$\\begin{align*}\n",
    "p(x|D) &= \\sum_k \\int p(x,\\theta,m_k|D)\\,\\mathrm{d}\\theta \\\\\n",
    "  &= \\sum_k \\underbrace{p(m_k|D)}_{\\substack{\\text{model}\\\\\\text{posterior}}} \\cdot \\int \\underbrace{p(\\theta|D)}_{\\substack{\\text{parameter}\\\\\\text{posterior}}} \\, \\underbrace{p(x|\\theta,m_k)}_{\\text{likelihood}} \\,\\mathrm{d}\\theta\n",
    "\\end{align*}$$ "
   ]
  },
  {
   "cell_type": "markdown",
   "metadata": {
    "slideshow": {
     "slide_type": "fragment"
    }
   },
   "source": [
    "- $\\Rightarrow$ In a Bayesian framework, **model comparison** follows the same recipe as parameter estimation; it just works at one higher hierarchical level."
   ]
  },
  {
   "cell_type": "markdown",
   "metadata": {
    "slideshow": {
     "slide_type": "fragment"
    }
   },
   "source": [
    "- More on this in part 2 (Tjalkens).  "
   ]
  },
  {
   "cell_type": "markdown",
   "metadata": {
    "slideshow": {
     "slide_type": "slide"
    }
   },
   "source": [
    "### Machine Learning and the Scientific Method Revisited\n",
    "\n",
    "- Bayesian probability theory provides a unified framework for information processing (and even the Scientific Method).\n",
    "\n",
    "<img src=\"./figures/ml-and-scientific-loop-2.png\" width=\"450px\">"
   ]
  },
  {
   "cell_type": "markdown",
   "metadata": {
    "slideshow": {
     "slide_type": "slide"
    }
   },
   "source": [
    "### Now Solve the Example Problem: Predicting a Coin Toss\n",
    "\n",
    "- We observe a the following sequence of heads (h) and tails (t) when tossing the same coin repeatedly $$D=\\{hthhtth\\}\\,.$$\n",
    "\n",
    "- What is the probability that heads (h) comes up next? We solve this in the next slides ..."
   ]
  },
  {
   "cell_type": "markdown",
   "metadata": {
    "slideshow": {
     "slide_type": "slide"
    }
   },
   "source": [
    "### Coin toss example (1): Model Specification\n",
    "\n",
    "We observe a sequence of $N$ coin tosses $D=\\{x_1,\\ldots,x_N\\}$ with $n$ heads. "
   ]
  },
  {
   "cell_type": "markdown",
   "metadata": {
    "slideshow": {
     "slide_type": "fragment"
    }
   },
   "source": [
    "##### Likelihood\n",
    "- Assume a Bernoulli distributed variable $p(x_k=h|\\mu)=\\mu$, which leads to a **binomial** distribution for the likelihood (assume $n$ times heads were thrown):\n",
    "$$   \n",
    "p(D|\\mu) = \\prod_{k=1}^N p(x_k|\\mu) = \\mu^n (1-\\mu)^{N-n}\n",
    "$$"
   ]
  },
  {
   "cell_type": "markdown",
   "metadata": {
    "slideshow": {
     "slide_type": "fragment"
    }
   },
   "source": [
    "##### Prior\n",
    "-  Assume the prior belief is governed by a **beta distribution**\n",
    "$$\n",
    "p(\\mu) = \\mathcal{B}(\\mu|\\alpha,\\beta) = \\frac{\\Gamma(\\alpha+\\beta)}{\\Gamma(\\alpha)\\Gamma(\\beta)} \\mu^{\\alpha-1}(1-\\mu)^{\\beta-1}\n",
    "$$\n",
    "<!---  - The Gamma function is sort of a generalized factorial function. If $\\alpha,\\beta$ are integers, then $\\frac{\\Gamma(\\alpha+\\beta)}{\\Gamma(\\alpha)(\\Gamma(\\beta)} = \\frac{(\\alpha+\\beta-1)!}{(\\alpha-1)!\\,(\\beta-1)!}$\n",
    "---> "
   ]
  },
  {
   "cell_type": "markdown",
   "metadata": {
    "slideshow": {
     "slide_type": "fragment"
    }
   },
   "source": [
    "- The Beta distribution is a **conjugate prior** for the Binomial distribution, which means that \n",
    "$$\n",
    "\\text{beta} \\propto \\text{binomial} \\times \\text{beta}\n",
    "$$"
   ]
  },
  {
   "cell_type": "markdown",
   "metadata": {
    "slideshow": {
     "slide_type": "fragment"
    }
   },
   "source": [
    "- $\\alpha$ and $\\beta$ are called **hyperparameters**, since they parameterize the distribution for another parameter ($\\mu$). E.g., $\\alpha=\\beta=1$ (uniform).\n",
    "  "
   ]
  },
  {
   "cell_type": "markdown",
   "metadata": {
    "slideshow": {
     "slide_type": "slide"
    }
   },
   "source": [
    "### Coin toss example (2): Parameter estimation\n",
    "\n",
    "- Infer posterior PDF over $\\mu$ through Bayes rule\n",
    "\n",
    "$$\\begin{align*}\n",
    "p(\\mu|D) &\\propto p(D|\\mu)\\,p(\\mu|\\alpha,\\beta)  \\\\ \n",
    "        &= \\mu^n (1-\\mu)^{N-n} \\times \\mu^{\\alpha-1} (1-\\mu)^{\\beta-1} \\\\\n",
    "        &= \\mu^{n+\\alpha-1} (1-\\mu)^{N-n+\\beta-1} \n",
    "\\end{align*}$$\n",
    "\n",
    "hence the posterior is also beta distributed as\n",
    "\n",
    "$$\n",
    "p(\\mu|D) = \\mathcal{B}(\\mu|\\,n+\\alpha, N-n+\\beta)\n",
    "$$"
   ]
  },
  {
   "cell_type": "markdown",
   "metadata": {
    "slideshow": {
     "slide_type": "fragment"
    }
   },
   "source": [
    "- Essentially, **here ends the machine learning activity**"
   ]
  },
  {
   "cell_type": "markdown",
   "metadata": {
    "slideshow": {
     "slide_type": "slide"
    }
   },
   "source": [
    "### Coin Toss Example (3): Prediction\n",
    "\n",
    "- Now, we want to **use** the trained model. Let's use it to predict future observations. "
   ]
  },
  {
   "cell_type": "markdown",
   "metadata": {
    "slideshow": {
     "slide_type": "fragment"
    }
   },
   "source": [
    "- Marginalize over the parameter posterior to get the predictive PDF for a new coin toss $x_\\bullet$, given the data $D$,\n",
    "\n",
    "$$\\begin{align*}\n",
    "p(x_\\bullet=h|D)  &= \\int_0^1 p(x_\\bullet=h|\\mu)\\,p(\\mu|D) \\,\\mathrm{d}\\mu \\\\\n",
    "  &= \\int_0^1 \\mu \\times  \\mathcal{B}(\\mu|\\,n+\\alpha, N-n+\\beta) \\,\\mathrm{d}\\mu  \\\\\n",
    "  &= \\frac{n+\\alpha}{N+\\alpha+\\beta} \\qquad \\mbox{(a.k.a. Laplace rule)}\\hfill\n",
    "\\end{align*}$$"
   ]
  },
  {
   "cell_type": "markdown",
   "metadata": {
    "slideshow": {
     "slide_type": "fragment"
    }
   },
   "source": [
    "- Finally, we're ready to solve our example problem: for $D=\\{hthhtth\\}$ and uniform prior ($\\alpha=\\beta=1$), we get\n",
    "\n",
    "$$ p(x_\\bullet=h|D)=\\frac{n+1}{N+2} = \\frac{4+1}{7+2} = \\frac{5}{9}$$\n",
    " "
   ]
  },
  {
   "cell_type": "markdown",
   "metadata": {
    "slideshow": {
     "slide_type": "slide"
    }
   },
   "source": [
    "### Coin Toss Example: What did we learn?\n",
    "\n",
    "- What did we learn from the data? Before seeing any data, we think that $$p(x_\\bullet=h)=\\left. p(x_\\bullet=h|D) \\right|_{n=N=0} = \\frac{\\alpha}{\\alpha + \\beta}\\,.$$ "
   ]
  },
  {
   "cell_type": "markdown",
   "metadata": {
    "slideshow": {
     "slide_type": "fragment"
    }
   },
   "source": [
    "- After the $N$ coin tosses, we think that $p(x_\\bullet=h|D) = \\frac{n+\\alpha}{N+\\alpha+\\beta}$."
   ]
  },
  {
   "cell_type": "markdown",
   "metadata": {
    "slideshow": {
     "slide_type": "fragment"
    }
   },
   "source": [
    "- Note the following decomposition\n",
    "\n",
    "$$\\begin{align*}\n",
    "    p(x_\\bullet=h|\\,D) &= \\frac{n+\\alpha}{N+\\alpha+\\beta} = \\frac{n}{N+\\alpha+\\beta} + \\frac{\\alpha}{N+\\alpha+\\beta} \\\\\n",
    "        &= \\frac{N}{N+\\alpha+\\beta}\\cdot \\frac{n}{N} + \\frac{\\alpha+\\beta}{N+\\alpha+\\beta} \\cdot \\frac{\\alpha}{\\alpha+\\beta} \\\\\n",
    "        &= \\underbrace{\\frac{\\alpha}{\\alpha+\\beta}}_{prior} + \\underbrace{\\frac{N}{N+\\alpha+\\beta}}_{gain}\\cdot \\big( \\underbrace{\\frac{n}{N}}_{MLE} - \\underbrace{\\frac{\\alpha}{\\alpha+\\beta}}_{prior} \\big)\n",
    "\\end{align*}$$"
   ]
  },
  {
   "cell_type": "markdown",
   "metadata": {
    "slideshow": {
     "slide_type": "fragment"
    }
   },
   "source": [
    "- Note that, since $0\\leq\\text{gain}\\lt 1$, the Bayesian estimate lies between prior and maximum likelihood estimate."
   ]
  },
  {
   "cell_type": "markdown",
   "metadata": {
    "slideshow": {
     "slide_type": "fragment"
    }
   },
   "source": [
    "- For large $N$, the gain goes to $1$ and $p(x_\\bullet=h|D)$ goes to the maximum likelihood estimate (the relative frequency) $n/N$."
   ]
  },
  {
   "cell_type": "markdown",
   "metadata": {
    "slideshow": {
     "slide_type": "slide"
    }
   },
   "source": [
    "#### CODE EXAMPLE\n",
    "\n",
    "**Bayesian evolution of $p(\\mu|D)$ for the coin toss**\n",
    "\n",
    "Let's see how $p(\\mu|D)$ evolves as we increase the number of coin tosses $N$. We'll use two different priors to demonstrate the effect of the prior on the posterior (set $N=0$ to inspect the prior)."
   ]
  },
  {
   "cell_type": "code",
   "execution_count": 1,
   "metadata": {
    "slideshow": {
     "slide_type": "subslide"
    }
   },
   "outputs": [
    {
     "data": {
      "text/html": [
       "    <script class='js-collapse-script'>\n",
       "        var curMatch =\n",
       "            window.location.href\n",
       "            .match(/(.*?)\\/notebooks\\/.*\\.ipynb/);\n",
       "\n",
       "        curMatch = curMatch ||\n",
       "            window.location.href\n",
       "            .match(/(.*?)\\/apps\\/.*\\.ipynb/);\n",
       "\n",
       "        if ( curMatch ) {\n",
       "            $('head').append('<base href=\"' + curMatch[1] + '/\">');\n",
       "        }\n",
       "    </script>\n"
      ],
      "text/plain": [
       "HTML{String}(\"    <script class='js-collapse-script'>\\n        var curMatch =\\n            window.location.href\\n            .match(/(.*?)\\\\/notebooks\\\\/.*\\\\.ipynb/);\\n\\n        curMatch = curMatch ||\\n            window.location.href\\n            .match(/(.*?)\\\\/apps\\\\/.*\\\\.ipynb/);\\n\\n        if ( curMatch ) {\\n            \\$('head').append('<base href=\\\"' + curMatch[1] + '/\\\">');\\n        }\\n    </script>\\n\")"
      ]
     },
     "metadata": {},
     "output_type": "display_data"
    },
    {
     "data": {
      "text/html": [
       "<script class='js-collapse-script' src='/assetserver/dd91f3031364604158edbfeafbf7beddcd119b2c-assets/webio/dist/bundle.js'></script>"
      ],
      "text/plain": [
       "HTML{String}(\"<script class='js-collapse-script' src='/assetserver/dd91f3031364604158edbfeafbf7beddcd119b2c-assets/webio/dist/bundle.js'></script>\")"
      ]
     },
     "metadata": {},
     "output_type": "display_data"
    },
    {
     "data": {
      "text/html": [
       "<script class='js-collapse-script' src='/assetserver/dd91f3031364604158edbfeafbf7beddcd119b2c-assets/providers/ijulia_setup.js'></script>"
      ],
      "text/plain": [
       "HTML{String}(\"<script class='js-collapse-script' src='/assetserver/dd91f3031364604158edbfeafbf7beddcd119b2c-assets/providers/ijulia_setup.js'></script>\")"
      ]
     },
     "metadata": {},
     "output_type": "display_data"
    },
    {
     "data": {
      "text/html": [
       "  <script class='js-collapse-script'>\n",
       "    $('.js-collapse-script').parent('.output_subarea').css('padding', '0');\n",
       "  </script>\n"
      ],
      "text/plain": [
       "HTML{String}(\"  <script class='js-collapse-script'>\\n    \\$('.js-collapse-script').parent('.output_subarea').css('padding', '0');\\n  </script>\\n\")"
      ]
     },
     "metadata": {},
     "output_type": "display_data"
    },
    {
     "data": {
      "text/html": [
       "<div class='tex2jax_ignore interactbulma'>\n",
       "<div class='display:none'></div><unsafe-script style='display:none'>\n",
       "WebIO.mount(this.previousSibling,{&quot;props&quot;:{},&quot;nodeType&quot;:&quot;DOM&quot;,&quot;type&quot;:&quot;node&quot;,&quot;instanceArgs&quot;:{&quot;namespace&quot;:&quot;html&quot;,&quot;tag&quot;:&quot;div&quot;},&quot;children&quot;:[{&quot;props&quot;:{&quot;className&quot;:&quot;field&quot;},&quot;nodeType&quot;:&quot;DOM&quot;,&quot;type&quot;:&quot;node&quot;,&quot;instanceArgs&quot;:{&quot;namespace&quot;:&quot;html&quot;,&quot;tag&quot;:&quot;div&quot;},&quot;children&quot;:[{&quot;props&quot;:{},&quot;nodeType&quot;:&quot;Scope&quot;,&quot;type&quot;:&quot;node&quot;,&quot;instanceArgs&quot;:{&quot;imports&quot;:{&quot;data&quot;:[{&quot;name&quot;:&quot;knockout&quot;,&quot;type&quot;:&quot;js&quot;,&quot;url&quot;:&quot;/assetserver/88bf0b823d344fcff0b77616d12840286b6c8fa3-knockout.js&quot;},{&quot;name&quot;:&quot;knockout_punches&quot;,&quot;type&quot;:&quot;js&quot;,&quot;url&quot;:&quot;/assetserver/2bd5b097e96d6b4fb8b3b86c01ec3eb6f00ba8bc-knockout_punches.js&quot;},{&quot;name&quot;:null,&quot;type&quot;:&quot;js&quot;,&quot;url&quot;:&quot;/assetserver/33fc17ead5d6c83c74b2449f7c19558c51387837-all.js&quot;},{&quot;name&quot;:null,&quot;type&quot;:&quot;css&quot;,&quot;url&quot;:&quot;/assetserver/f0f1a82ab037979b58e3919f91c0a1436c2b13ea-style.css&quot;},{&quot;name&quot;:null,&quot;type&quot;:&quot;css&quot;,&quot;url&quot;:&quot;/assetserver/84fa6bb423ab1a438691a358fbcb123d0820e96c-main.css&quot;}],&quot;type&quot;:&quot;async_block&quot;},&quot;id&quot;:&quot;knockout-component-30d8008c-bf56-4816-9cfe-cf113579ac33&quot;,&quot;handlers&quot;:{&quot;_promises&quot;:{&quot;importsLoaded&quot;:[function (ko, koPunches) {\n",
       "    ko.punches.enableAll();\n",
       "    ko.bindingHandlers.numericValue = {\n",
       "        init : function(element, valueAccessor, allBindings, data, context) {\n",
       "            var stringified = ko.observable(ko.unwrap(valueAccessor()));\n",
       "            stringified.subscribe(function(value) {\n",
       "                var val = parseFloat(value);\n",
       "                if (!isNaN(val)) {\n",
       "                    valueAccessor()(val);\n",
       "                }\n",
       "            })\n",
       "            valueAccessor().subscribe(function(value) {\n",
       "                var str = JSON.stringify(value);\n",
       "                if ((str == &quot;0&quot;) &amp;&amp; ([&quot;-0&quot;, &quot;-0.&quot;].indexOf(stringified()) &gt;= 0))\n",
       "                     return;\n",
       "                 if ([&quot;null&quot;, &quot;&quot;].indexOf(str) &gt;= 0)\n",
       "                     return;\n",
       "                stringified(str);\n",
       "            })\n",
       "            ko.applyBindingsToNode(element, { value: stringified, valueUpdate: allBindings.get(&#39;valueUpdate&#39;)}, context);\n",
       "        }\n",
       "    };\n",
       "    var json_data = JSON.parse(&quot;{\\&quot;changes\\&quot;:0,\\&quot;value\\&quot;:96}&quot;);\n",
       "    var self = this;\n",
       "    function AppViewModel() {\n",
       "        for (var key in json_data) {\n",
       "            var el = json_data[key];\n",
       "            this[key] = Array.isArray(el) ? ko.observableArray(el) : ko.observable(el);\n",
       "        }\n",
       "        \n",
       "        \n",
       "        [this[&quot;changes&quot;].subscribe((function (val){!(this.valueFromJulia[&quot;changes&quot;]) ? (WebIO.setval({&quot;name&quot;:&quot;changes&quot;,&quot;scope&quot;:&quot;knockout-component-30d8008c-bf56-4816-9cfe-cf113579ac33&quot;,&quot;id&quot;:&quot;ob_02&quot;,&quot;type&quot;:&quot;observable&quot;},val)) : undefined; return this.valueFromJulia[&quot;changes&quot;]=false}),self),this[&quot;value&quot;].subscribe((function (val){!(this.valueFromJulia[&quot;value&quot;]) ? (WebIO.setval({&quot;name&quot;:&quot;value&quot;,&quot;scope&quot;:&quot;knockout-component-30d8008c-bf56-4816-9cfe-cf113579ac33&quot;,&quot;id&quot;:&quot;ob_01&quot;,&quot;type&quot;:&quot;observable&quot;},val)) : undefined; return this.valueFromJulia[&quot;value&quot;]=false}),self)]\n",
       "        \n",
       "    }\n",
       "    self.model = new AppViewModel();\n",
       "    self.valueFromJulia = {};\n",
       "    for (var key in json_data) {\n",
       "        self.valueFromJulia[key] = false;\n",
       "    }\n",
       "    ko.applyBindings(self.model, self.dom);\n",
       "}\n",
       "]},&quot;changes&quot;:[(function (val){return (val!=this.model[&quot;changes&quot;]()) ? (this.valueFromJulia[&quot;changes&quot;]=true, this.model[&quot;changes&quot;](val)) : undefined})],&quot;value&quot;:[(function (val){return (val!=this.model[&quot;value&quot;]()) ? (this.valueFromJulia[&quot;value&quot;]=true, this.model[&quot;value&quot;](val)) : undefined})]},&quot;systemjs_options&quot;:null,&quot;observables&quot;:{&quot;changes&quot;:{&quot;sync&quot;:false,&quot;id&quot;:&quot;ob_02&quot;,&quot;value&quot;:0},&quot;value&quot;:{&quot;sync&quot;:true,&quot;id&quot;:&quot;ob_01&quot;,&quot;value&quot;:96}}},&quot;children&quot;:[{&quot;props&quot;:{&quot;attributes&quot;:{&quot;class&quot;:&quot;interact-flex-row&quot;}},&quot;nodeType&quot;:&quot;DOM&quot;,&quot;type&quot;:&quot;node&quot;,&quot;instanceArgs&quot;:{&quot;namespace&quot;:&quot;html&quot;,&quot;tag&quot;:&quot;div&quot;},&quot;children&quot;:[{&quot;props&quot;:{&quot;attributes&quot;:{&quot;class&quot;:&quot;interact-flex-row-left&quot;}},&quot;nodeType&quot;:&quot;DOM&quot;,&quot;type&quot;:&quot;node&quot;,&quot;instanceArgs&quot;:{&quot;namespace&quot;:&quot;html&quot;,&quot;tag&quot;:&quot;div&quot;},&quot;children&quot;:[{&quot;props&quot;:{&quot;className&quot;:&quot;interact &quot;,&quot;style&quot;:{&quot;padding&quot;:&quot;5px 10px 0px 10px&quot;}},&quot;nodeType&quot;:&quot;DOM&quot;,&quot;type&quot;:&quot;node&quot;,&quot;instanceArgs&quot;:{&quot;namespace&quot;:&quot;html&quot;,&quot;tag&quot;:&quot;label&quot;},&quot;children&quot;:[&quot;N&quot;]}]},{&quot;props&quot;:{&quot;attributes&quot;:{&quot;class&quot;:&quot;interact-flex-row-center&quot;}},&quot;nodeType&quot;:&quot;DOM&quot;,&quot;type&quot;:&quot;node&quot;,&quot;instanceArgs&quot;:{&quot;namespace&quot;:&quot;html&quot;,&quot;tag&quot;:&quot;div&quot;},&quot;children&quot;:[{&quot;props&quot;:{&quot;max&quot;:192,&quot;min&quot;:0,&quot;attributes&quot;:{&quot;type&quot;:&quot;range&quot;,&quot;data-bind&quot;:&quot;numericValue: value, valueUpdate: &#39;input&#39;, event: {change : function () {this.changes(this.changes()+1)}}&quot;,&quot;orient&quot;:&quot;horizontal&quot;},&quot;step&quot;:1,&quot;className&quot;:&quot;slider slider is-fullwidth&quot;,&quot;style&quot;:{}},&quot;nodeType&quot;:&quot;DOM&quot;,&quot;type&quot;:&quot;node&quot;,&quot;instanceArgs&quot;:{&quot;namespace&quot;:&quot;html&quot;,&quot;tag&quot;:&quot;input&quot;},&quot;children&quot;:[]}]},{&quot;props&quot;:{&quot;attributes&quot;:{&quot;class&quot;:&quot;interact-flex-row-right&quot;}},&quot;nodeType&quot;:&quot;DOM&quot;,&quot;type&quot;:&quot;node&quot;,&quot;instanceArgs&quot;:{&quot;namespace&quot;:&quot;html&quot;,&quot;tag&quot;:&quot;div&quot;},&quot;children&quot;:[{&quot;props&quot;:{&quot;attributes&quot;:{&quot;data-bind&quot;:&quot;text: value&quot;}},&quot;nodeType&quot;:&quot;DOM&quot;,&quot;type&quot;:&quot;node&quot;,&quot;instanceArgs&quot;:{&quot;namespace&quot;:&quot;html&quot;,&quot;tag&quot;:&quot;p&quot;},&quot;children&quot;:[]}]}]}]}]},{&quot;props&quot;:{},&quot;nodeType&quot;:&quot;Scope&quot;,&quot;type&quot;:&quot;node&quot;,&quot;instanceArgs&quot;:{&quot;imports&quot;:{&quot;data&quot;:[],&quot;type&quot;:&quot;async_block&quot;},&quot;id&quot;:&quot;scope-d3f67043-9dd8-45a9-baa9-1c47877330d6&quot;,&quot;handlers&quot;:{&quot;obs-output&quot;:[function (updated_htmlstr) {\n",
       "    var el = this.dom.querySelector(&quot;#out&quot;);\n",
       "    WebIO.propUtils.setInnerHtml(el, updated_htmlstr);\n",
       "}]},&quot;systemjs_options&quot;:null,&quot;observables&quot;:{&quot;obs-output&quot;:{&quot;sync&quot;:false,&quot;id&quot;:&quot;ob_05&quot;,&quot;value&quot;:&quot;&lt;div class=&#39;display:none&#39;&gt;&lt;/div&gt;&lt;unsafe-script style=&#39;display:none&#39;&gt;\\nWebIO.mount(this.previousSibling,{&amp;quot;props&amp;quot;:{&amp;quot;attributes&amp;quot;:{&amp;quot;class&amp;quot;:&amp;quot;interact-flex-row&amp;quot;}},&amp;quot;nodeType&amp;quot;:&amp;quot;DOM&amp;quot;,&amp;quot;type&amp;quot;:&amp;quot;node&amp;quot;,&amp;quot;instanceArgs&amp;quot;:{&amp;quot;namespace&amp;quot;:&amp;quot;html&amp;quot;,&amp;quot;tag&amp;quot;:&amp;quot;div&amp;quot;},&amp;quot;children&amp;quot;:[{&amp;quot;props&amp;quot;:{&amp;quot;setInnerHtml&amp;quot;:&amp;quot;&amp;lt;img src=&amp;#39;data:image/png;base64,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&amp;#39;&amp;gt;&amp;lt;/img&amp;gt;&amp;quot;},&amp;quot;nodeType&amp;quot;:&amp;quot;DOM&amp;quot;,&amp;quot;type&amp;quot;:&amp;quot;node&amp;quot;,&amp;quot;instanceArgs&amp;quot;:{&amp;quot;namespace&amp;quot;:&amp;quot;html&amp;quot;,&amp;quot;tag&amp;quot;:&amp;quot;div&amp;quot;},&amp;quot;children&amp;quot;:[]}]})&lt;/unsafe-script&gt;&quot;}}},&quot;children&quot;:[{&quot;props&quot;:{&quot;id&quot;:&quot;out&quot;,&quot;setInnerHtml&quot;:&quot;&lt;div class=&#39;display:none&#39;&gt;&lt;/div&gt;&lt;unsafe-script style=&#39;display:none&#39;&gt;\\nWebIO.mount(this.previousSibling,{&amp;quot;props&amp;quot;:{&amp;quot;attributes&amp;quot;:{&amp;quot;class&amp;quot;:&amp;quot;interact-flex-row&amp;quot;}},&amp;quot;nodeType&amp;quot;:&amp;quot;DOM&amp;quot;,&amp;quot;type&amp;quot;:&amp;quot;node&amp;quot;,&amp;quot;instanceArgs&amp;quot;:{&amp;quot;namespace&amp;quot;:&amp;quot;html&amp;quot;,&amp;quot;tag&amp;quot;:&amp;quot;div&amp;quot;},&amp;quot;children&amp;quot;:[{&amp;quot;props&amp;quot;:{&amp;quot;setInnerHtml&amp;quot;:&amp;quot;&amp;lt;img src=&amp;#39;data:image/png;base64,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&amp;#39;&amp;gt;&amp;lt;/img&amp;gt;&amp;quot;},&amp;quot;nodeType&amp;quot;:&amp;quot;DOM&amp;quot;,&amp;quot;type&amp;quot;:&amp;quot;node&amp;quot;,&amp;quot;instanceArgs&amp;quot;:{&amp;quot;namespace&amp;quot;:&amp;quot;html&amp;quot;,&amp;quot;tag&amp;quot;:&amp;quot;div&amp;quot;},&amp;quot;children&amp;quot;:[]}]})&lt;/unsafe-script&gt;&quot;},&quot;nodeType&quot;:&quot;DOM&quot;,&quot;type&quot;:&quot;node&quot;,&quot;instanceArgs&quot;:{&quot;namespace&quot;:&quot;html&quot;,&quot;tag&quot;:&quot;div&quot;},&quot;children&quot;:[]}]}]})</unsafe-script>\n",
       "</div>"
      ],
      "text/plain": [
       "Widget{:manipulate,Any}(OrderedDict{Symbol,Any}(:N=>Widget{:slider,Int64}(OrderedDict{Symbol,Any}(:changes=>Observable{Int64} with 1 listeners. Value:\n",
       "0,:value=>Observable{Int64} with 2 listeners. Value:\n",
       "96), Observable{Int64} with 2 listeners. Value:\n",
       "96, Scope(\"knockout-component-30d8008c-bf56-4816-9cfe-cf113579ac33\", Node{DOM}(DOM(:html, :div), Any[Node{DOM}(DOM(:html, :div), Any[Node{DOM}(DOM(:html, :label), Any[\"N\"], Dict{Symbol,Any}(:className=>\"interact \",:style=>Dict{Any,Any}(:padding=>\"5px 10px 0px 10px\")), 1)], Dict{Symbol,Any}(:attributes=>Dict(\"class\"=>\"interact-flex-row-left\")), 2), Node{DOM}(DOM(:html, :div), Any[Node{DOM}(DOM(:html, :input), Any[], Dict{Symbol,Any}(:max=>192,:min=>0,:attributes=>Dict{Any,Any}(:type=>\"range\",Symbol(\"data-bind\")=>\"numericValue: value, valueUpdate: 'input', event: {change : function () {this.changes(this.changes()+1)}}\",\"orient\"=>\"horizontal\"),:step=>1,:className=>\"slider slider is-fullwidth\",:style=>Dict{Any,Any}()), 0)], Dict{Symbol,Any}(:attributes=>Dict(\"class\"=>\"interact-flex-row-center\")), 1), Node{DOM}(DOM(:html, :div), Any[Node{DOM}(DOM(:html, :p), Any[], Dict{Symbol,Any}(:attributes=>Dict(\"data-bind\"=>\"text: value\")), 0)], Dict{Symbol,Any}(:attributes=>Dict(\"class\"=>\"interact-flex-row-right\")), 1)], Dict{Symbol,Any}(:attributes=>Dict(\"class\"=>\"interact-flex-row\")), 7), Dict{String,Tuple{Observables.AbstractObservable,Union{Nothing, Bool}}}(\"changes\"=>(Observable{Int64} with 1 listeners. Value:\n",
       "0, nothing),\"value\"=>(Observable{Int64} with 2 listeners. Value:\n",
       "96, nothing)), Set(String[]), nothing, Any[\"knockout\"=>\"/Users/bert/.julia/packages/Knockout/JIqpG/src/../assets/knockout.js\", \"knockout_punches\"=>\"/Users/bert/.julia/packages/Knockout/JIqpG/src/../assets/knockout_punches.js\", \"/Users/bert/.julia/packages/InteractBase/3SqBl/src/../assets/all.js\", \"/Users/bert/.julia/packages/InteractBase/3SqBl/src/../assets/style.css\", \"/Users/bert/.julia/packages/InteractBulma/Ohu5Y/src/../assets/main.css\"], Dict{Any,Any}(\"_promises\"=>Dict{Any,Any}(\"importsLoaded\"=>Any[JSString(\"function (ko, koPunches) {\\n    ko.punches.enableAll();\\n    ko.bindingHandlers.numericValue = {\\n        init : function(element, valueAccessor, allBindings, data, context) {\\n            var stringified = ko.observable(ko.unwrap(valueAccessor()));\\n            stringified.subscribe(function(value) {\\n                var val = parseFloat(value);\\n                if (!isNaN(val)) {\\n                    valueAccessor()(val);\\n                }\\n            })\\n            valueAccessor().subscribe(function(value) {\\n                var str = JSON.stringify(value);\\n                if ((str == \\\"0\\\") && ([\\\"-0\\\", \\\"-0.\\\"].indexOf(stringified()) >= 0))\\n                     return;\\n                 if ([\\\"null\\\", \\\"\\\"].indexOf(str) >= 0)\\n                     return;\\n                stringified(str);\\n            })\\n            ko.applyBindingsToNode(element, { value: stringified, valueUpdate: allBindings.get('valueUpdate')}, context);\\n        }\\n    };\\n    var json_data = JSON.parse(\\\"{\\\\\\\"changes\\\\\\\":0,\\\\\\\"value\\\\\\\":96}\\\");\\n    var self = this;\\n    function AppViewModel() {\\n        for (var key in json_data) {\\n            var el = json_data[key];\\n            this[key] = Array.isArray(el) ? ko.observableArray(el) : ko.observable(el);\\n        }\\n        \\n        \\n        [this[\\\"changes\\\"].subscribe((function (val){!(this.valueFromJulia[\\\"changes\\\"]) ? (WebIO.setval({\\\"name\\\":\\\"changes\\\",\\\"scope\\\":\\\"knockout-component-30d8008c-bf56-4816-9cfe-cf113579ac33\\\",\\\"id\\\":\\\"ob_02\\\",\\\"type\\\":\\\"observable\\\"},val)) : undefined; return this.valueFromJulia[\\\"changes\\\"]=false}),self),this[\\\"value\\\"].subscribe((function (val){!(this.valueFromJulia[\\\"value\\\"]) ? (WebIO.setval({\\\"name\\\":\\\"value\\\",\\\"scope\\\":\\\"knockout-component-30d8008c-bf56-4816-9cfe-cf113579ac33\\\",\\\"id\\\":\\\"ob_01\\\",\\\"type\\\":\\\"observable\\\"},val)) : undefined; return this.valueFromJulia[\\\"value\\\"]=false}),self)]\\n        \\n    }\\n    self.model = new AppViewModel();\\n    self.valueFromJulia = {};\\n    for (var key in json_data) {\\n        self.valueFromJulia[key] = false;\\n    }\\n    ko.applyBindings(self.model, self.dom);\\n}\\n\")]),\"changes\"=>Any[JSString(\"(function (val){return (val!=this.model[\\\"changes\\\"]()) ? (this.valueFromJulia[\\\"changes\\\"]=true, this.model[\\\"changes\\\"](val)) : undefined})\")],\"value\"=>Any[JSString(\"(function (val){return (val!=this.model[\\\"value\\\"]()) ? (this.valueFromJulia[\\\"value\\\"]=true, this.model[\\\"value\\\"](val)) : undefined})\")]), ConnectionPool(Channel{Any}(sz_max:9223372036854775807,sz_curr:3), Set(AbstractConnection[]), Channel{AbstractConnection}(sz_max:32,sz_curr:0))), ##52#53{#dom#15{##dom#13#14{Dict{Any,Any},DOM}},typeof(scope)}(#dom#15{##dom#13#14{Dict{Any,Any},DOM}}(##dom#13#14{Dict{Any,Any},DOM}(Dict{Any,Any}(:className=>\"field\"), DOM(:html, :div))), scope))), Observable{Any} with 0 listeners. Value:\n",
       "Figure(PyObject <Figure size 640x480 with 1 Axes>), nothing, getfield(Main, Symbol(\"##5#8\")){Observable{Any}}(Observable{Any} with 0 listeners. Value:\n",
       "Figure(PyObject <Figure size 640x480 with 1 Axes>)))"
      ]
     },
     "execution_count": 1,
     "metadata": {},
     "output_type": "execute_result"
    }
   ],
   "source": [
    "using Reactive, Interact, PyPlot, Distributions\n",
    "f = figure()\n",
    "range_grid = range(0.0, stop=1.0, length=100)\n",
    "μ = 0.4\n",
    "samples = rand(192) .<= μ # Flip 192 coins\n",
    "@manipulate for N=0:1:192; withfig(f) do\n",
    "        n = sum(samples[1:N]) # Count number of heads in first N flips\n",
    "        posterior1 = Beta(1+n, 1+(N-n))\n",
    "        posterior2 = Beta(5+n, 5+(N-n))\n",
    "        plot(range_grid, pdf.(posterior1,range_grid), \"k-\")\n",
    "        plot(range_grid, pdf.(posterior2,range_grid), \"k--\")\n",
    "        xlabel(L\"\\mu\"); ylabel(L\"p(\\mu|\\mathcal{D})\"); grid()\n",
    "        title(L\"p(\\mu|\\mathcal{D})\"*\" for N=$(N), n=$(n) (real \\$\\\\mu\\$=$(μ))\")\n",
    "        legend([\"Based on uniform prior \"*L\"B(1,1)\",\"Based on prior \"*L\"B(5,5)\"], loc=4)\n",
    "    end\n",
    "end"
   ]
  },
  {
   "cell_type": "markdown",
   "metadata": {
    "slideshow": {
     "slide_type": "fragment"
    }
   },
   "source": [
    "$\\Rightarrow$ With more data, the relevance of the prior diminishes!\n"
   ]
  },
  {
   "cell_type": "markdown",
   "metadata": {
    "slideshow": {
     "slide_type": "slide"
    }
   },
   "source": [
    "### From Posterior to Point-Estimate\n",
    "\n",
    "- Sometimes we want just one 'best' parameter (vector), rather than a posterior distribution over parameters. Why?"
   ]
  },
  {
   "cell_type": "markdown",
   "metadata": {
    "slideshow": {
     "slide_type": "fragment"
    }
   },
   "source": [
    "- Recall Bayesian prediction\n",
    "\n",
    "$$\n",
    "p(x|D) = \\int p(x|\\theta)p(\\theta|D)\\,\\mathrm{d}{\\theta}\n",
    "$$"
   ]
  },
  {
   "cell_type": "markdown",
   "metadata": {
    "slideshow": {
     "slide_type": "fragment"
    }
   },
   "source": [
    "- If we approximate posterior $p(\\theta|D)$ by a delta function for one 'best' value $\\hat\\theta$, then the predictive distribution collapses to\n",
    "\n",
    "$$\n",
    "p(x|D)= \\int p(x|\\theta)\\,\\delta(\\theta-\\hat\\theta)\\,\\mathrm{d}{\\theta} = p(x|\\hat\\theta)\n",
    "$$"
   ]
  },
  {
   "cell_type": "markdown",
   "metadata": {
    "slideshow": {
     "slide_type": "fragment"
    }
   },
   "source": [
    "- This is the model $p(x|\\theta)$ evaluated at $\\theta=\\hat\\theta$."
   ]
  },
  {
   "cell_type": "markdown",
   "metadata": {
    "slideshow": {
     "slide_type": "fragment"
    }
   },
   "source": [
    "- Note that $p(x|\\hat\\theta)$ is much easier to evaluate than the integral for full Bayesian prediction."
   ]
  },
  {
   "cell_type": "markdown",
   "metadata": {
    "slideshow": {
     "slide_type": "subslide"
    }
   },
   "source": [
    "### Some Well-known Point-Estimates\n",
    "\n",
    "- **Bayes estimate**\n",
    "\n",
    "$$\n",
    "\\hat \\theta_{bayes}  = \\int \\theta \\, p\\left( \\theta |D \\right)\n",
    "\\,\\mathrm{d}{\\theta}\n",
    "$$\n",
    "  - (homework). Proof that the Bayes estimate minimizes the expected mean-square error, i.e., proof that\n",
    "\n",
    "$$\n",
    "\\hat \\theta_{bayes} = \\arg\\min_{\\hat \\theta} \\int_\\theta (\\hat \\theta -\\theta)^2 p \\left( \\theta |D \\right) \\,\\mathrm{d}{\\theta}\n",
    "$$"
   ]
  },
  {
   "cell_type": "markdown",
   "metadata": {
    "slideshow": {
     "slide_type": "fragment"
    }
   },
   "source": [
    "- **Maximum A Posteriori** (MAP) estimate \n",
    "$$\n",
    "\\hat \\theta_{\\text{map}}=  \\arg\\max _{\\theta} p\\left( \\theta |D \\right) =\n",
    "\\arg \\max_{\\theta}  p\\left(D |\\theta \\right) \\, p\\left(\\theta \\right)\n",
    "$$"
   ]
  },
  {
   "cell_type": "markdown",
   "metadata": {
    "slideshow": {
     "slide_type": "fragment"
    }
   },
   "source": [
    "- **Maximum Likelihood** (ML) estimate\n",
    "$$\n",
    "\\hat \\theta_{ml}  = \\arg \\max_{\\theta}  p\\left(D |\\theta\\right)\n",
    "$$\n",
    "  - Note that Maximum Likelihood is MAP with uniform prior"
   ]
  },
  {
   "cell_type": "markdown",
   "metadata": {
    "slideshow": {
     "slide_type": "slide"
    }
   },
   "source": [
    "### Bayesian vs Maximum Likelihood Learning\n",
    "\n",
    "Consider the task: predict a datum $x$ from an observed data set $D$.\n",
    "\n",
    "<table>\n",
    "<tr><td></td><td style=\"text-align:center\"> <b>Bayesian</b></td><td style=\"text-align:center\"> <b>Maximum Likelihood </b></td></tr>\n",
    "<tr><td>1. <b>Model Specification</b></td><td>Choose a model $m$ with data generating distribution $p(x|\\theta,m)$ and parameter prior $p(\\theta|m)$</td><td>Choose a model $m$ with same data generating distribution $p(x|\\theta,m)$. No need for priors.</td></tr>\n",
    "<tr><td>2. <b>Learning</b></td><td>use Bayes rule to find the parameter posterior,\n",
    "$$\n",
    "p(\\theta|D) = \\propto p(D|\\theta) p(\\theta)\n",
    "$$  </td><td>By Maximum Likelihood (ML) optimization,\n",
    "$$ \n",
    "    \\hat \\theta  = \\arg \\max_{\\theta}  p(D |\\theta)\n",
    "$$</td></tr>\n",
    "<tr><td>3. <b>Prediction</b></td><td>$$\n",
    "p(x|D) = \\int p(x|\\theta) p(\\theta|D) \\,\\mathrm{d}\\theta\n",
    "$$</td><td>\n",
    "$$ \n",
    "    p(x|D) =  p(x|\\hat\\theta)\n",
    "$$</td></tr>\n",
    "</table>"
   ]
  },
  {
   "cell_type": "markdown",
   "metadata": {
    "slideshow": {
     "slide_type": "slide"
    }
   },
   "source": [
    "### Report Card on Maximum Likelihood Estimation\n",
    "\n",
    "- Maximum Likelihood (ML) is MAP with uniform prior, or MAP is 'penalized' ML\n",
    "$$\n",
    "\\hat \\theta_{map}  = \\arg \\max _\\theta  \\{ \\overbrace{\\log\n",
    "p\\left( D|\\theta  \\right)}^{\\mbox{log-likelihood}} + \\overbrace{\\log\n",
    "p\\left( \\theta \\right)}^{\\mbox{penalty}} \\}\n",
    "$$"
   ]
  },
  {
   "cell_type": "markdown",
   "metadata": {
    "slideshow": {
     "slide_type": "fragment"
    }
   },
   "source": [
    "- (good!). Works rather well if we have a lot of data because the influence of the prior diminishes with more data."
   ]
  },
  {
   "cell_type": "markdown",
   "metadata": {
    "slideshow": {
     "slide_type": "fragment"
    }
   },
   "source": [
    "- (bad). Cannot be used for model comparison. E.g. best model does generally not correspond to largest likelihood (see part-2, Tjalkens)."
   ]
  },
  {
   "cell_type": "markdown",
   "metadata": {
    "slideshow": {
     "slide_type": "fragment"
    }
   },
   "source": [
    "- (good). Computationally often do-able. Useful fact (since $\\log$ is monotonously increasing):\n",
    "$$\\arg\\max_\\theta \\log p(D|\\theta) =  \\arg\\max_\\theta p(D|\\theta)$$"
   ]
  },
  {
   "cell_type": "markdown",
   "metadata": {
    "slideshow": {
     "slide_type": "fragment"
    }
   },
   "source": [
    "$\\Rightarrow$ **ML estimation is an approximation to Bayesian learning**, but for good reason a very popular learning method when faced with lots of available data."
   ]
  },
  {
   "cell_type": "code",
   "execution_count": 2,
   "metadata": {
    "slideshow": {
     "slide_type": "skip"
    }
   },
   "outputs": [
    {
     "data": {
      "text/html": [
       "<!--\n",
       "This HTML file contains custom styles and some javascript.\n",
       "Include it a Jupyter notebook for improved rendering.\n",
       "-->\n",
       "\n",
       "<!-- Fonts -->\n",
       "<link href='http://fonts.googleapis.com/css?family=Alegreya+Sans:100,300,400,500,700,800,900,100italic,300italic,400italic,500italic,700italic,800italic,900italic' rel='stylesheet' type='text/css'>\n",
       "<link href='http://fonts.googleapis.com/css?family=Arvo:400,700,400italic' rel='stylesheet' type='text/css'>\n",
       "<link href='http://fonts.googleapis.com/css?family=PT+Mono' rel='stylesheet' type='text/css'>\n",
       "<link href='http://fonts.googleapis.com/css?family=Shadows+Into+Light' rel='stylesheet' type='text/css'>\n",
       "<link href='http://fonts.googleapis.com/css?family=Nixie+One' rel='stylesheet' type='text/css'>\n",
       "\n",
       "<!-- Custom style -->\n",
       "<style>\n",
       "\n",
       "@font-face {\n",
       "    font-family: \"Computer Modern\";\n",
       "    src: url('http://mirrors.ctan.org/fonts/cm-unicode/fonts/otf/cmunss.otf');\n",
       "}\n",
       "\n",
       "#notebook_panel { /* main background */\n",
       "    background: rgb(245,245,245);\n",
       "}\n",
       "\n",
       "div.container {\n",
       "    min-width: 960px;\n",
       "}\n",
       "\n",
       "div #notebook { /* centre the content */\n",
       "    background: #fff; /* white background for content */\n",
       "    margin: auto;\n",
       "    padding-left: 0em;\n",
       "}\n",
       "\n",
       "#notebook li { /* More space between bullet points */\n",
       "    margin-top:0.8em;\n",
       "}\n",
       "\n",
       "/* draw border around running cells */\n",
       "div.cell.border-box-sizing.code_cell.running {\n",
       "    border: 1px solid #111;\n",
       "}\n",
       "\n",
       "/* Put a solid color box around each cell and its output, visually linking them*/\n",
       "div.cell.code_cell {\n",
       "    background-color: rgb(256,256,256);\n",
       "    border-radius: 0px;\n",
       "    padding: 0.5em;\n",
       "    margin-left:1em;\n",
       "    margin-top: 1em;\n",
       "}\n",
       "\n",
       "div.text_cell_render{\n",
       "    font-family: 'Alegreya Sans' sans-serif;\n",
       "    line-height: 140%;\n",
       "    font-size: 125%;\n",
       "    font-weight: 400;\n",
       "    width:800px;\n",
       "    margin-left:auto;\n",
       "    margin-right:auto;\n",
       "}\n",
       "\n",
       "\n",
       "/* Formatting for header cells */\n",
       ".text_cell_render h1 {\n",
       "    font-family: 'Nixie One', serif;\n",
       "    font-style:regular;\n",
       "    font-weight: 400;\n",
       "    font-size: 45pt;\n",
       "    line-height: 100%;\n",
       "    color: rgb(0,51,102);\n",
       "    margin-bottom: 0.5em;\n",
       "    margin-top: 0.5em;\n",
       "    display: block;\n",
       "}\n",
       "\n",
       ".text_cell_render h2 {\n",
       "    font-family: 'Nixie One', serif;\n",
       "    font-weight: 400;\n",
       "    font-size: 30pt;\n",
       "    line-height: 100%;\n",
       "    color: rgb(0,51,102);\n",
       "    margin-bottom: 0.1em;\n",
       "    margin-top: 0.3em;\n",
       "    display: block;\n",
       "}\n",
       "\n",
       ".text_cell_render h3 {\n",
       "    font-family: 'Nixie One', serif;\n",
       "    margin-top:16px;\n",
       "    font-size: 22pt;\n",
       "    font-weight: 600;\n",
       "    margin-bottom: 3px;\n",
       "    font-style: regular;\n",
       "    color: rgb(102,102,0);\n",
       "}\n",
       "\n",
       ".text_cell_render h4 {    /*Use this for captions*/\n",
       "    font-family: 'Nixie One', serif;\n",
       "    font-size: 14pt;\n",
       "    text-align: center;\n",
       "    margin-top: 0em;\n",
       "    margin-bottom: 2em;\n",
       "    font-style: regular;\n",
       "}\n",
       "\n",
       ".text_cell_render h5 {  /*Use this for small titles*/\n",
       "    font-family: 'Nixie One', sans-serif;\n",
       "    font-weight: 400;\n",
       "    font-size: 16pt;\n",
       "    color: rgb(163,0,0);\n",
       "    font-style: italic;\n",
       "    margin-bottom: .1em;\n",
       "    margin-top: 0.8em;\n",
       "    display: block;\n",
       "}\n",
       "\n",
       ".text_cell_render h6 { /*use this for copyright note*/\n",
       "    font-family: 'PT Mono', sans-serif;\n",
       "    font-weight: 300;\n",
       "    font-size: 9pt;\n",
       "    line-height: 100%;\n",
       "    color: grey;\n",
       "    margin-bottom: 1px;\n",
       "    margin-top: 1px;\n",
       "}\n",
       "\n",
       ".CodeMirror{\n",
       "    font-family: \"PT Mono\";\n",
       "    font-size: 90%;\n",
       "}\n",
       "\n",
       ".boxed { /* draw a border around a piece of text */\n",
       "  border: 1px solid blue ;\n",
       "}\n",
       "\n",
       "h4#CODE-EXAMPLE,\n",
       "h4#END-OF-CODE-EXAMPLE {\n",
       "    margin: 10px 0;\n",
       "    padding: 10px;\n",
       "    background-color: #d0f9ca !important;\n",
       "    border-top: #849f81 1px solid;\n",
       "    border-bottom: #849f81 1px solid;\n",
       "}\n",
       "\n",
       ".emphasis {\n",
       "    color: red;\n",
       "}\n",
       "\n",
       ".exercise {\n",
       "    color: green;\n",
       "}\n",
       "\n",
       ".proof {\n",
       "    color: blue;\n",
       "}\n",
       "\n",
       "code {\n",
       "  padding: 2px 4px !important;\n",
       "  font-size: 90% !important;\n",
       "  color: #222 !important;\n",
       "  background-color: #efefef !important;\n",
       "  border-radius: 2px !important;\n",
       "}\n",
       "\n",
       "/* This removes the actual style cells from the notebooks, but no in print mode\n",
       "   as they will be removed through some other method */\n",
       "@media not print {\n",
       "  .cell:nth-last-child(-n+2) {\n",
       "    display: none;\n",
       "  }\n",
       "}\n",
       "\n",
       "footer.hidden-print {\n",
       "    display: none !important;\n",
       "}\n",
       "    \n",
       "</style>\n",
       "\n",
       "<!-- MathJax styling -->\n",
       "<script>\n",
       "    MathJax.Hub.Config({\n",
       "                        TeX: {\n",
       "                           extensions: [\"AMSmath.js\"],\n",
       "                           equationNumbers: { autoNumber: \"AMS\", useLabelIds: true}\n",
       "                           },\n",
       "                tex2jax: {\n",
       "                    inlineMath: [ ['$','$'], [\"\\\\(\",\"\\\\)\"] ],\n",
       "                    displayMath: [ ['$$','$$'], [\"\\\\[\",\"\\\\]\"] ]\n",
       "                },\n",
       "                displayAlign: 'center', // Change this to 'center' to center equations.\n",
       "                \"HTML-CSS\": {\n",
       "                    styles: {'.MathJax_Display': {\"margin\": 4}}\n",
       "                }\n",
       "        });\n",
       "</script>\n"
      ]
     },
     "metadata": {},
     "output_type": "display_data"
    }
   ],
   "source": [
    "open(\"../../styles/aipstyle.html\") do f display(\"text/html\", read(f, String)) end"
   ]
  },
  {
   "cell_type": "code",
   "execution_count": null,
   "metadata": {},
   "outputs": [],
   "source": []
  }
 ],
 "metadata": {
  "@webio": {
   "lastCommId": "0edceeb5b5d748f5987d5e6719f15198",
   "lastKernelId": "1e91b343-4cbb-4e56-94bb-edf332d47cc6"
  },
  "anaconda-cloud": {},
  "celltoolbar": "Slideshow",
  "kernelspec": {
   "display_name": "Julia 1.0.2",
   "language": "julia",
   "name": "julia-1.0"
  },
  "language_info": {
   "file_extension": ".jl",
   "mimetype": "application/julia",
   "name": "julia",
   "version": "1.0.2"
  }
 },
 "nbformat": 4,
 "nbformat_minor": 1
}
