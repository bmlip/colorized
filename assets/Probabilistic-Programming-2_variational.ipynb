{
 "cells": [
  {
   "cell_type": "markdown",
   "metadata": {
    "slideshow": {
     "slide_type": "slide"
    }
   },
   "source": [
    "# Probabilistic Programming - 2\n",
    "## Variational inference\n",
    "\n",
    "In this notebook, we are exploring a more complex problem set using variational inference. We will look at how to specify a model and a variational inference procedure for a mixture model. "
   ]
  },
  {
   "cell_type": "markdown",
   "metadata": {
    "slideshow": {
     "slide_type": "slide"
    }
   },
   "source": [
    "### Preliminaries\n",
    "\n",
    "- Goal \n",
    "  - Write a probabilistic program for a mixture model\n",
    "- Materials        \n",
    "  - Mandatory\n",
    "    - These lecture notes.\n",
    "  - Optional\n",
    "    - Cheatsheets: how does Julia differ from Matlab / Python (https://docs.julialang.org/en/v1/manual/noteworthy-differences/index.html).\n",
    "    - Getting started with ForneyLab (https://biaslab.github.io/forneylab/docs/getting-started/)."
   ]
  },
  {
   "cell_type": "markdown",
   "metadata": {},
   "source": [
    "## Mixture modeling\n",
    "\n",
    "We will first generate a synthetic data set to play around. This will let us focus on the data-generating process and on the point that a good model should follow the data-generating process."
   ]
  },
  {
   "cell_type": "code",
   "execution_count": 1,
   "metadata": {},
   "outputs": [
    {
     "data": {
      "image/png": "[encoded data removed]"
     },
     "execution_count": 1,
     "metadata": {},
     "output_type": "execute_result"
    }
   ],
   "source": [
    "using Random\n",
    "import Distributions: MvNormal, Normal, pdf\n",
    "using Plots\n",
    "pyplot()\n",
    "\n",
    "# Set a random seed.\n",
    "Random.seed!(3)\n",
    "\n",
    "# Construct 10 data points for each cluster.\n",
    "N = 10\n",
    "\n",
    "# Means for each cluster, assuming each cluster is Gaussian distributed\n",
    "μ1 = [-1, -1]\n",
    "μ2 = [+1, +1]\n",
    "\n",
    "# Concatenate means\n",
    "μs = [μ1 μ2]\n",
    "\n",
    "# Construct the data points.\n",
    "X = mapreduce(c -> rand(MvNormal(μs[:, c], 1.), N), hcat, 1:2)'\n",
    "\n",
    "# Visualization.\n",
    "scatter(X[:,1], X[:,2], legend = false, title = \"Synthetic Dataset\")"
   ]
  },
  {
   "cell_type": "markdown",
   "metadata": {},
   "source": [
    "### Variational inference"
   ]
  },
  {
   "cell_type": "code",
   "execution_count": 52,
   "metadata": {},
   "outputs": [],
   "source": [
    "using ForneyLab\n",
    "\n",
    "g = FactorGraph()\n",
    "\n",
    "# Specify generative model\n",
    "@RV _pi ~ Dirichlet([1.0, 1.0])\n",
    "@RV m_1 ~ GaussianMeanVariance([0.0, 0.0], 100*[1. 0.; 0. 1.])\n",
    "@RV w_1 ~ Wishart([1. 0.; 0. 1.], 2.)\n",
    "@RV m_2 ~ GaussianMeanVariance([0.0, 0.0], 100*[1. 0.; 0. 1.])\n",
    "@RV w_2 ~ Wishart([1. 0.; 0. 1.], 2.)\n",
    "\n",
    "z = Vector{Variable}(undef, N)\n",
    "y = Vector{Variable}(undef, N)\n",
    "for i = 1:N\n",
    "    @RV z[i] ~ Categorical(_pi)\n",
    "    @RV y[i] ~ GaussianMixture(z[i], m_1, w_1, m_2, w_2)\n",
    "    \n",
    "    placeholder(y[i], :y, dims=(2,), index=i)\n",
    "end"
   ]
  },
  {
   "cell_type": "markdown",
   "metadata": {},
   "source": [
    "Now, you need to specify a distribution with which you will approximate the posterior distribution that you would normally obtain through exact Bayesian inference."
   ]
  },
  {
   "cell_type": "code",
   "execution_count": 53,
   "metadata": {},
   "outputs": [
    {
     "data": {
      "text/plain": [
       "freeEnergy (generic function with 1 method)"
      ]
     },
     "execution_count": 53,
     "metadata": {},
     "output_type": "execute_result"
    }
   ],
   "source": [
    "# Specify recognition factorization (mean-field)\n",
    "q = RecognitionFactorization(_pi, m_1, w_1, m_2, w_2, z, ids=[:PI, :M1, :W1, :M2, :W2, :Z])\n",
    "\n",
    "# Generate the algorithm\n",
    "algo = variationalAlgorithm(q)\n",
    "algo_F = freeEnergyAlgorithm(q);\n",
    "\n",
    "# Load algorithms\n",
    "eval(Meta.parse(algo))\n",
    "eval(Meta.parse(algo_F))"
   ]
  },
  {
   "cell_type": "markdown",
   "metadata": {},
   "source": [
    "Now, we execute the algorithm"
   ]
  },
  {
   "cell_type": "code",
   "execution_count": 54,
   "metadata": {},
   "outputs": [
    {
     "ename": "TypeError",
     "evalue": "TypeError: in keyword argument m, expected Array{T,1} where T, got Float64",
     "output_type": "error",
     "traceback": [
      "TypeError: in keyword argument m, expected Array{T,1} where T, got Float64",
      "",
      "Stacktrace:",
      " [1] (::getfield(Core, Symbol(\"#kw#Type\")))(::NamedTuple{(:m,),Tuple{Float64}}, ::Type{ProbabilityDistribution}, ::Type{Multivariate}, ::Type{PointMass}) at ./none:0",
      " [2] stepZ!(::Dict{Symbol,LinearAlgebra.Adjoint{Float64,Array{Float64,2}}}, ::Dict{Symbol,ProbabilityDistribution}, ::Array{Message,1}) at ./none:6",
      " [3] stepZ!(::Dict{Symbol,LinearAlgebra.Adjoint{Float64,Array{Float64,2}}}, ::Dict{Symbol,ProbabilityDistribution}) at ./none:5",
      " [4] top-level scope at ./In[54]:17"
     ]
    }
   ],
   "source": [
    "data = Dict(:y => X)\n",
    "\n",
    "# Prepare recognition distributions\n",
    "marginals = Dict(:_pi => ProbabilityDistribution(Dirichlet, a=[1.0, 1.0]),\n",
    "                 :m_1 => ProbabilityDistribution(Multivariate, GaussianMeanVariance, m=[-1.0, -1.0], v=1e4*[1. 0.;0. 1.]),\n",
    "                 :w_1 => ProbabilityDistribution(MatrixVariate, Wishart, v=[1. 0.;0. 1.], nu=2.),\n",
    "                 :m_2 => ProbabilityDistribution(Multivariate, GaussianMeanVariance, m=[1.0, 1.0], v=1e4*[1. 0.;0. 1.]),\n",
    "                 :w_2 => ProbabilityDistribution(MatrixVariate, Wishart, v=[1. 0.;0. 1.], nu=2.))\n",
    "for i = 1:N\n",
    "    marginals[:z_*i] = ProbabilityDistribution(Categorical, p=[1/2., 1/2.])\n",
    "end\n",
    "\n",
    "# Execute algorithm\n",
    "num_iterations = 10\n",
    "F = Float64[]\n",
    "for i = 1:num_iterations\n",
    "    stepZ!(data, marginals)\n",
    "    stepPI!(data, marginals)\n",
    "    stepM1!(data, marginals)\n",
    "    stepW1!(data, marginals)\n",
    "    stepM2!(data, marginals)\n",
    "    stepW2!(data, marginals)\n",
    "    \n",
    "        \n",
    "    # Store variational free energy for visualization\n",
    "    push!(F, freeEnergy(data, marginals))\n",
    "end"
   ]
  },
  {
   "cell_type": "code",
   "execution_count": 48,
   "metadata": {},
   "outputs": [
    {
     "name": "stdout",
     "output_type": "stream",
     "text": [
      "begin\n",
      "\n",
      "function stepZ!(data::Dict, marginals::Dict=Dict(), messages::Vector{Message}=Array{Message}(undef, 20))\n",
      "\n",
      "messages[1] = ruleVBCategoricalOut(nothing, marginals[:_pi])\n",
      "messages[2] = ruleVBGaussianMixtureZBer(ProbabilityDistribution(Multivariate, PointMass, m=data[:y][9]), nothing, marginals[:m_1], marginals[:w_1], marginals[:m_2], marginals[:w_2])\n",
      "messages[3] = ruleVBCategoricalOut(nothing, marginals[:_pi])\n",
      "messages[4] = ruleVBGaussianMixtureZBer(ProbabilityDistribution(Multivariate, PointMass, m=data[:y][8]), nothing, marginals[:m_1], marginals[:w_1], marginals[:m_2], marginals[:w_2])\n",
      "messages[5] = ruleVBCategoricalOut(nothing, marginals[:_pi])\n",
      "messages[6] = ruleVBGaussianMixtureZBer(ProbabilityDistribution(Multivariate, PointMass, m=data[:y][7]), nothing, marginals[:m_1], marginals[:w_1], marginals[:m_2], marginals[:w_2])\n",
      "messages[7] = ruleVBCategoricalOut(nothing, marginals[:_pi])\n",
      "messages[8] = ruleVBGaussianMixtureZBer(ProbabilityDistribution(Multivariate, PointMass, m=data[:y][6]), nothing, marginals[:m_1], marginals[:w_1], marginals[:m_2], marginals[:w_2])\n",
      "messages[9] = ruleVBCategoricalOut(nothing, marginals[:_pi])\n",
      "messages[10] = ruleVBGaussianMixtureZBer(ProbabilityDistribution(Multivariate, PointMass, m=data[:y][5]), nothing, marginals[:m_1], marginals[:w_1], marginals[:m_2], marginals[:w_2])\n",
      "messages[11] = ruleVBCategoricalOut(nothing, marginals[:_pi])\n",
      "messages[12] = ruleVBGaussianMixtureZBer(ProbabilityDistribution(Multivariate, PointMass, m=data[:y][4]), nothing, marginals[:m_1], marginals[:w_1], marginals[:m_2], marginals[:w_2])\n",
      "messages[13] = ruleVBCategoricalOut(nothing, marginals[:_pi])\n",
      "messages[14] = ruleVBGaussianMixtureZBer(ProbabilityDistribution(Multivariate, PointMass, m=data[:y][3]), nothing, marginals[:m_1], marginals[:w_1], marginals[:m_2], marginals[:w_2])\n",
      "messages[15] = ruleVBCategoricalOut(nothing, marginals[:_pi])\n",
      "messages[16] = ruleVBGaussianMixtureZBer(ProbabilityDistribution(Multivariate, PointMass, m=data[:y][2]), nothing, marginals[:m_1], marginals[:w_1], marginals[:m_2], marginals[:w_2])\n",
      "messages[17] = ruleVBCategoricalOut(nothing, marginals[:_pi])\n",
      "messages[18] = ruleVBGaussianMixtureZBer(ProbabilityDistribution(Multivariate, PointMass, m=data[:y][10]), nothing, marginals[:m_1], marginals[:w_1], marginals[:m_2], marginals[:w_2])\n",
      "messages[19] = ruleVBCategoricalOut(nothing, marginals[:_pi])\n",
      "messages[20] = ruleVBGaussianMixtureZBer(ProbabilityDistribution(Multivariate, PointMass, m=data[:y][1]), nothing, marginals[:m_1], marginals[:w_1], marginals[:m_2], marginals[:w_2])\n",
      "\n",
      "marginals[:z_1] = messages[19].dist * messages[20].dist\n",
      "marginals[:z_10] = messages[17].dist * messages[18].dist\n",
      "marginals[:z_2] = messages[15].dist * messages[16].dist\n",
      "marginals[:z_3] = messages[13].dist * messages[14].dist\n",
      "marginals[:z_4] = messages[11].dist * messages[12].dist\n",
      "marginals[:z_5] = messages[9].dist * messages[10].dist\n",
      "marginals[:z_6] = messages[7].dist * messages[8].dist\n",
      "marginals[:z_7] = messages[5].dist * messages[6].dist\n",
      "marginals[:z_8] = messages[3].dist * messages[4].dist\n",
      "marginals[:z_9] = messages[1].dist * messages[2].dist\n",
      "\n",
      "return marginals\n",
      "\n",
      "end\n",
      "\n",
      "function stepM1!(data::Dict, marginals::Dict=Dict(), messages::Vector{Message}=Array{Message}(undef, 20))\n",
      "\n",
      "messages[1] = ruleVBGaussianMeanVarianceOut(nothing, ProbabilityDistribution(Multivariate, PointMass, m=[0.0, 0.0]), ProbabilityDistribution(MatrixVariate, PointMass, m=[100.0 0.0; 0.0 100.0]))\n",
      "messages[2] = ruleVBGaussianMixtureM(ProbabilityDistribution(Multivariate, PointMass, m=data[:y][10]), marginals[:z_10], nothing, marginals[:w_1], marginals[:m_2], marginals[:w_2])\n",
      "messages[3] = ruleVBGaussianMixtureM(ProbabilityDistribution(Multivariate, PointMass, m=data[:y][9]), marginals[:z_9], nothing, marginals[:w_1], marginals[:m_2], marginals[:w_2])\n",
      "messages[4] = ruleSPEqualityGaussian(messages[3], nothing, messages[2])\n",
      "messages[5] = ruleVBGaussianMixtureM(ProbabilityDistribution(Multivariate, PointMass, m=data[:y][8]), marginals[:z_8], nothing, marginals[:w_1], marginals[:m_2], marginals[:w_2])\n",
      "messages[6] = ruleSPEqualityGaussian(messages[5], nothing, messages[4])\n",
      "messages[7] = ruleVBGaussianMixtureM(ProbabilityDistribution(Multivariate, PointMass, m=data[:y][7]), marginals[:z_7], nothing, marginals[:w_1], marginals[:m_2], marginals[:w_2])\n",
      "messages[8] = ruleSPEqualityGaussian(messages[7], nothing, messages[6])\n",
      "messages[9] = ruleVBGaussianMixtureM(ProbabilityDistribution(Multivariate, PointMass, m=data[:y][6]), marginals[:z_6], nothing, marginals[:w_1], marginals[:m_2], marginals[:w_2])\n",
      "messages[10] = ruleSPEqualityGaussian(messages[9], nothing, messages[8])\n",
      "messages[11] = ruleVBGaussianMixtureM(ProbabilityDistribution(Multivariate, PointMass, m=data[:y][5]), marginals[:z_5], nothing, marginals[:w_1], marginals[:m_2], marginals[:w_2])\n",
      "messages[12] = ruleSPEqualityGaussian(messages[11], nothing, messages[10])\n",
      "messages[13] = ruleVBGaussianMixtureM(ProbabilityDistribution(Multivariate, PointMass, m=data[:y][4]), marginals[:z_4], nothing, marginals[:w_1], marginals[:m_2], marginals[:w_2])\n",
      "messages[14] = ruleSPEqualityGaussian(messages[13], nothing, messages[12])\n",
      "messages[15] = ruleVBGaussianMixtureM(ProbabilityDistribution(Multivariate, PointMass, m=data[:y][3]), marginals[:z_3], nothing, marginals[:w_1], marginals[:m_2], marginals[:w_2])\n",
      "messages[16] = ruleSPEqualityGaussian(messages[15], nothing, messages[14])\n",
      "messages[17] = ruleVBGaussianMixtureM(ProbabilityDistribution(Multivariate, PointMass, m=data[:y][2]), marginals[:z_2], nothing, marginals[:w_1], marginals[:m_2], marginals[:w_2])\n",
      "messages[18] = ruleSPEqualityGaussian(messages[17], nothing, messages[16])\n",
      "messages[19] = ruleVBGaussianMixtureM(ProbabilityDistribution(Multivariate, PointMass, m=data[:y][1]), marginals[:z_1], nothing, marginals[:w_1], marginals[:m_2], marginals[:w_2])\n",
      "messages[20] = ruleSPEqualityGaussian(nothing, messages[19], messages[18])\n",
      "\n",
      "marginals[:m_1] = messages[1].dist * messages[20].dist\n",
      "\n",
      "return marginals\n",
      "\n",
      "end\n",
      "\n",
      "function stepW1!(data::Dict, marginals::Dict=Dict(), messages::Vector{Message}=Array{Message}(undef, 20))\n",
      "\n",
      "messages[1] = ruleVBWishartOut(nothing, ProbabilityDistribution(MatrixVariate, PointMass, m=[1.0 0.0; 0.0 1.0]), ProbabilityDistribution(Univariate, PointMass, m=2.0))\n",
      "messages[2] = ruleVBGaussianMixtureW(ProbabilityDistribution(Multivariate, PointMass, m=data[:y][10]), marginals[:z_10], marginals[:m_1], nothing, marginals[:m_2], marginals[:w_2])\n",
      "messages[3] = ruleVBGaussianMixtureW(ProbabilityDistribution(Multivariate, PointMass, m=data[:y][9]), marginals[:z_9], marginals[:m_1], nothing, marginals[:m_2], marginals[:w_2])\n",
      "messages[4] = ruleSPEqualityGammaWishart(messages[3], nothing, messages[2])\n",
      "messages[5] = ruleVBGaussianMixtureW(ProbabilityDistribution(Multivariate, PointMass, m=data[:y][8]), marginals[:z_8], marginals[:m_1], nothing, marginals[:m_2], marginals[:w_2])\n",
      "messages[6] = ruleSPEqualityGammaWishart(messages[5], nothing, messages[4])\n",
      "messages[7] = ruleVBGaussianMixtureW(ProbabilityDistribution(Multivariate, PointMass, m=data[:y][7]), marginals[:z_7], marginals[:m_1], nothing, marginals[:m_2], marginals[:w_2])\n",
      "messages[8] = ruleSPEqualityGammaWishart(messages[7], nothing, messages[6])\n",
      "messages[9] = ruleVBGaussianMixtureW(ProbabilityDistribution(Multivariate, PointMass, m=data[:y][6]), marginals[:z_6], marginals[:m_1], nothing, marginals[:m_2], marginals[:w_2])\n",
      "messages[10] = ruleSPEqualityGammaWishart(messages[9], nothing, messages[8])\n",
      "messages[11] = ruleVBGaussianMixtureW(ProbabilityDistribution(Multivariate, PointMass, m=data[:y][5]), marginals[:z_5], marginals[:m_1], nothing, marginals[:m_2], marginals[:w_2])\n",
      "messages[12] = ruleSPEqualityGammaWishart(messages[11], nothing, messages[10])\n",
      "messages[13] = ruleVBGaussianMixtureW(ProbabilityDistribution(Multivariate, PointMass, m=data[:y][4]), marginals[:z_4], marginals[:m_1], nothing, marginals[:m_2], marginals[:w_2])\n",
      "messages[14] = ruleSPEqualityGammaWishart(messages[13], nothing, messages[12])\n",
      "messages[15] = ruleVBGaussianMixtureW(ProbabilityDistribution(Multivariate, PointMass, m=data[:y][3]), marginals[:z_3], marginals[:m_1], nothing, marginals[:m_2], marginals[:w_2])\n",
      "messages[16] = ruleSPEqualityGammaWishart(messages[15], nothing, messages[14])\n",
      "messages[17] = ruleVBGaussianMixtureW(ProbabilityDistribution(Multivariate, PointMass, m=data[:y][2]), marginals[:z_2], marginals[:m_1], nothing, marginals[:m_2], marginals[:w_2])\n",
      "messages[18] = ruleSPEqualityGammaWishart(messages[17], nothing, messages[16])\n",
      "messages[19] = ruleVBGaussianMixtureW(ProbabilityDistribution(Multivariate, PointMass, m=data[:y][1]), marginals[:z_1], marginals[:m_1], nothing, marginals[:m_2], marginals[:w_2])\n",
      "messages[20] = ruleSPEqualityGammaWishart(nothing, messages[19], messages[18])\n",
      "\n",
      "marginals[:w_1] = messages[1].dist * messages[20].dist\n",
      "\n",
      "return marginals\n",
      "\n",
      "end\n",
      "\n",
      "function stepM2!(data::Dict, marginals::Dict=Dict(), messages::Vector{Message}=Array{Message}(undef, 20))\n",
      "\n",
      "messages[1] = ruleVBGaussianMeanVarianceOut(nothing, ProbabilityDistribution(Multivariate, PointMass, m=[0.0, 0.0]), ProbabilityDistribution(MatrixVariate, PointMass, m=[100.0 0.0; 0.0 100.0]))\n",
      "messages[2] = ruleVBGaussianMixtureM(ProbabilityDistribution(Multivariate, PointMass, m=data[:y][10]), marginals[:z_10], marginals[:m_1], marginals[:w_1], nothing, marginals[:w_2])\n",
      "messages[3] = ruleVBGaussianMixtureM(ProbabilityDistribution(Multivariate, PointMass, m=data[:y][9]), marginals[:z_9], marginals[:m_1], marginals[:w_1], nothing, marginals[:w_2])\n",
      "messages[4] = ruleSPEqualityGaussian(messages[3], nothing, messages[2])\n",
      "messages[5] = ruleVBGaussianMixtureM(ProbabilityDistribution(Multivariate, PointMass, m=data[:y][8]), marginals[:z_8], marginals[:m_1], marginals[:w_1], nothing, marginals[:w_2])\n",
      "messages[6] = ruleSPEqualityGaussian(messages[5], nothing, messages[4])\n",
      "messages[7] = ruleVBGaussianMixtureM(ProbabilityDistribution(Multivariate, PointMass, m=data[:y][7]), marginals[:z_7], marginals[:m_1], marginals[:w_1], nothing, marginals[:w_2])\n",
      "messages[8] = ruleSPEqualityGaussian(messages[7], nothing, messages[6])\n",
      "messages[9] = ruleVBGaussianMixtureM(ProbabilityDistribution(Multivariate, PointMass, m=data[:y][6]), marginals[:z_6], marginals[:m_1], marginals[:w_1], nothing, marginals[:w_2])\n",
      "messages[10] = ruleSPEqualityGaussian(messages[9], nothing, messages[8])\n",
      "messages[11] = ruleVBGaussianMixtureM(ProbabilityDistribution(Multivariate, PointMass, m=data[:y][5]), marginals[:z_5], marginals[:m_1], marginals[:w_1], nothing, marginals[:w_2])\n",
      "messages[12] = ruleSPEqualityGaussian(messages[11], nothing, messages[10])\n",
      "messages[13] = ruleVBGaussianMixtureM(ProbabilityDistribution(Multivariate, PointMass, m=data[:y][4]), marginals[:z_4], marginals[:m_1], marginals[:w_1], nothing, marginals[:w_2])\n",
      "messages[14] = ruleSPEqualityGaussian(messages[13], nothing, messages[12])\n",
      "messages[15] = ruleVBGaussianMixtureM(ProbabilityDistribution(Multivariate, PointMass, m=data[:y][3]), marginals[:z_3], marginals[:m_1], marginals[:w_1], nothing, marginals[:w_2])\n",
      "messages[16] = ruleSPEqualityGaussian(messages[15], nothing, messages[14])\n",
      "messages[17] = ruleVBGaussianMixtureM(ProbabilityDistribution(Multivariate, PointMass, m=data[:y][2]), marginals[:z_2], marginals[:m_1], marginals[:w_1], nothing, marginals[:w_2])\n",
      "messages[18] = ruleSPEqualityGaussian(messages[17], nothing, messages[16])\n",
      "messages[19] = ruleVBGaussianMixtureM(ProbabilityDistribution(Multivariate, PointMass, m=data[:y][1]), marginals[:z_1], marginals[:m_1], marginals[:w_1], nothing, marginals[:w_2])\n",
      "messages[20] = ruleSPEqualityGaussian(nothing, messages[19], messages[18])\n",
      "\n",
      "marginals[:m_2] = messages[1].dist * messages[20].dist\n",
      "\n",
      "return marginals\n",
      "\n",
      "end\n",
      "\n",
      "function stepPI!(data::Dict, marginals::Dict=Dict(), messages::Vector{Message}=Array{Message}(undef, 20))\n",
      "\n",
      "messages[1] = ruleVBDirichletOut(nothing, ProbabilityDistribution(Multivariate, PointMass, m=[1.0, 1.0, 1.0]))\n",
      "messages[2] = ruleVBCategoricalIn1(marginals[:z_1], nothing)\n",
      "messages[3] = ruleVBCategoricalIn1(marginals[:z_2], nothing)\n",
      "messages[4] = ruleVBCategoricalIn1(marginals[:z_3], nothing)\n",
      "messages[5] = ruleVBCategoricalIn1(marginals[:z_4], nothing)\n",
      "messages[6] = ruleVBCategoricalIn1(marginals[:z_5], nothing)\n",
      "messages[7] = ruleVBCategoricalIn1(marginals[:z_6], nothing)\n",
      "messages[8] = ruleVBCategoricalIn1(marginals[:z_7], nothing)\n",
      "messages[9] = ruleVBCategoricalIn1(marginals[:z_8], nothing)\n",
      "messages[10] = ruleVBCategoricalIn1(marginals[:z_10], nothing)\n",
      "messages[11] = ruleVBCategoricalIn1(marginals[:z_9], nothing)\n",
      "messages[12] = ruleSPEqualityDirichlet(messages[11], nothing, messages[10])\n",
      "messages[13] = ruleSPEqualityDirichlet(messages[9], nothing, messages[12])\n",
      "messages[14] = ruleSPEqualityDirichlet(messages[8], nothing, messages[13])\n",
      "messages[15] = ruleSPEqualityDirichlet(messages[7], nothing, messages[14])\n",
      "messages[16] = ruleSPEqualityDirichlet(messages[6], nothing, messages[15])\n",
      "messages[17] = ruleSPEqualityDirichlet(messages[5], nothing, messages[16])\n",
      "messages[18] = ruleSPEqualityDirichlet(messages[4], nothing, messages[17])\n",
      "messages[19] = ruleSPEqualityDirichlet(messages[3], nothing, messages[18])\n",
      "messages[20] = ruleSPEqualityDirichlet(nothing, messages[2], messages[19])\n",
      "\n",
      "marginals[:_pi] = messages[1].dist * messages[20].dist\n",
      "\n",
      "return marginals\n",
      "\n",
      "end\n",
      "\n",
      "function stepW2!(data::Dict, marginals::Dict=Dict(), messages::Vector{Message}=Array{Message}(undef, 20))\n",
      "\n",
      "messages[1] = ruleVBWishartOut(nothing, ProbabilityDistribution(MatrixVariate, PointMass, m=[1.0 0.0; 0.0 1.0]), ProbabilityDistribution(Univariate, PointMass, m=2.0))\n",
      "messages[2] = ruleVBGaussianMixtureW(ProbabilityDistribution(Multivariate, PointMass, m=data[:y][10]), marginals[:z_10], marginals[:m_1], marginals[:w_1], marginals[:m_2], nothing)\n",
      "messages[3] = ruleVBGaussianMixtureW(ProbabilityDistribution(Multivariate, PointMass, m=data[:y][9]), marginals[:z_9], marginals[:m_1], marginals[:w_1], marginals[:m_2], nothing)\n",
      "messages[4] = ruleSPEqualityGammaWishart(messages[3], nothing, messages[2])\n",
      "messages[5] = ruleVBGaussianMixtureW(ProbabilityDistribution(Multivariate, PointMass, m=data[:y][8]), marginals[:z_8], marginals[:m_1], marginals[:w_1], marginals[:m_2], nothing)\n",
      "messages[6] = ruleSPEqualityGammaWishart(messages[5], nothing, messages[4])\n",
      "messages[7] = ruleVBGaussianMixtureW(ProbabilityDistribution(Multivariate, PointMass, m=data[:y][7]), marginals[:z_7], marginals[:m_1], marginals[:w_1], marginals[:m_2], nothing)\n",
      "messages[8] = ruleSPEqualityGammaWishart(messages[7], nothing, messages[6])\n",
      "messages[9] = ruleVBGaussianMixtureW(ProbabilityDistribution(Multivariate, PointMass, m=data[:y][6]), marginals[:z_6], marginals[:m_1], marginals[:w_1], marginals[:m_2], nothing)\n",
      "messages[10] = ruleSPEqualityGammaWishart(messages[9], nothing, messages[8])\n",
      "messages[11] = ruleVBGaussianMixtureW(ProbabilityDistribution(Multivariate, PointMass, m=data[:y][5]), marginals[:z_5], marginals[:m_1], marginals[:w_1], marginals[:m_2], nothing)\n",
      "messages[12] = ruleSPEqualityGammaWishart(messages[11], nothing, messages[10])\n",
      "messages[13] = ruleVBGaussianMixtureW(ProbabilityDistribution(Multivariate, PointMass, m=data[:y][4]), marginals[:z_4], marginals[:m_1], marginals[:w_1], marginals[:m_2], nothing)\n",
      "messages[14] = ruleSPEqualityGammaWishart(messages[13], nothing, messages[12])\n",
      "messages[15] = ruleVBGaussianMixtureW(ProbabilityDistribution(Multivariate, PointMass, m=data[:y][3]), marginals[:z_3], marginals[:m_1], marginals[:w_1], marginals[:m_2], nothing)\n",
      "messages[16] = ruleSPEqualityGammaWishart(messages[15], nothing, messages[14])\n",
      "messages[17] = ruleVBGaussianMixtureW(ProbabilityDistribution(Multivariate, PointMass, m=data[:y][2]), marginals[:z_2], marginals[:m_1], marginals[:w_1], marginals[:m_2], nothing)\n",
      "messages[18] = ruleSPEqualityGammaWishart(messages[17], nothing, messages[16])\n",
      "messages[19] = ruleVBGaussianMixtureW(ProbabilityDistribution(Multivariate, PointMass, m=data[:y][1]), marginals[:z_1], marginals[:m_1], marginals[:w_1], marginals[:m_2], nothing)\n",
      "messages[20] = ruleSPEqualityGammaWishart(nothing, messages[19], messages[18])\n",
      "\n",
      "marginals[:w_2] = messages[1].dist * messages[20].dist\n",
      "\n",
      "return marginals\n",
      "\n",
      "end\n",
      "\n",
      "\n",
      "end # block\n"
     ]
    }
   ],
   "source": [
    "println(algo)"
   ]
  },
  {
   "cell_type": "code",
   "execution_count": 5,
   "metadata": {},
   "outputs": [
    {
     "data": {
      "image/png": "[encoded data removed]"
     },
     "execution_count": 5,
     "metadata": {},
     "output_type": "execute_result"
    }
   ],
   "source": [
    "# Plot free energy to check for convergence\n",
    "plot(1:num_iterations, F, color=\"black\", label=\"\")\n",
    "xlabel!(\"VMP iteration\")\n",
    "ylabel!(\"Variational free energy\")"
   ]
  },
  {
   "cell_type": "markdown",
   "metadata": {},
   "source": [
    "Visualize the results."
   ]
  },
  {
   "cell_type": "code",
   "execution_count": 12,
   "metadata": {},
   "outputs": [
    {
     "ename": "MethodError",
     "evalue": "MethodError: no method matching MvNormal(::Float64, ::Float64)\nClosest candidates are:\n  MvNormal(!Matched::Tracker.TrackedArray{#s58,1,A} where A where #s58<:Real, ::Real) at /home/wmkouw/.julia/packages/DistributionsAD/7Met8/src/multivariate.jl:91\n  MvNormal(!Matched::AbstractArray{#s171,1} where #s171<:Real, ::Real) at /home/wmkouw/.julia/packages/Distributions/2i7UF/src/multivariate/mvnormal.jl:207\n  MvNormal(!Matched::Int64, ::Real) at /home/wmkouw/.julia/packages/Distributions/2i7UF/src/multivariate/mvnormal.jl:220",
     "output_type": "error",
     "traceback": [
      "MethodError: no method matching MvNormal(::Float64, ::Float64)\nClosest candidates are:\n  MvNormal(!Matched::Tracker.TrackedArray{#s58,1,A} where A where #s58<:Real, ::Real) at /home/wmkouw/.julia/packages/DistributionsAD/7Met8/src/multivariate.jl:91\n  MvNormal(!Matched::AbstractArray{#s171,1} where #s171<:Real, ::Real) at /home/wmkouw/.julia/packages/Distributions/2i7UF/src/multivariate/mvnormal.jl:207\n  MvNormal(!Matched::Int64, ::Real) at /home/wmkouw/.julia/packages/Distributions/2i7UF/src/multivariate/mvnormal.jl:220",
      "",
      "Stacktrace:",
      " [1] predict(::Int64, ::Int64, ::Array{Float64,1}, ::Float64, ::Float64) at /home/wmkouw/Dropbox/Courses/tueindhoven/5SSD0 - Bayesian Machine Learning & Information Processing/BMLIP/lessons/notebooks/scripts/ppl-2.jl:10",
      " [2] (::getfield(Main, Symbol(\"##9#10\")){Float64,Float64})(::Int64, ::Int64) at /home/wmkouw/Dropbox/Courses/tueindhoven/5SSD0 - Bayesian Machine Learning & Information Processing/BMLIP/lessons/notebooks/scripts/ppl-2.jl:27",
      " [3] Surface(::getfield(Main, Symbol(\"##9#10\")){Float64,Float64}, ::UnitRange{Int64}, ::UnitRange{Int64}) at /home/wmkouw/.julia/packages/Plots/Iuc9S/src/components.jl:658",
      " [4] macro expansion at /home/wmkouw/.julia/packages/Plots/Iuc9S/src/series.jl:462 [inlined]",
      " [5] apply_recipe(::Dict{Symbol,Any}, ::UnitRange{Int64}, ::UnitRange{Int64}, ::Function) at /home/wmkouw/.julia/packages/RecipesBase/zBoFG/src/RecipesBase.jl:275",
      " [6] _process_userrecipes(::Plots.Plot{Plots.PyPlotBackend}, ::Dict{Symbol,Any}, ::Tuple{UnitRange{Int64},UnitRange{Int64},getfield(Main, Symbol(\"##9#10\")){Float64,Float64}}) at /home/wmkouw/.julia/packages/Plots/Iuc9S/src/pipeline.jl:83",
      " [7] _plot!(::Plots.Plot{Plots.PyPlotBackend}, ::Dict{Symbol,Any}, ::Tuple{UnitRange{Int64},UnitRange{Int64},getfield(Main, Symbol(\"##9#10\")){Float64,Float64}}) at /home/wmkouw/.julia/packages/Plots/Iuc9S/src/plot.jl:178",
      " [8] #plot!#142(::Base.Iterators.Pairs{Symbol,Symbol,Tuple{Symbol},NamedTuple{(:seriestype,),Tuple{Symbol}}}, ::Function, ::Plots.Plot{Plots.PyPlotBackend}, ::UnitRange{Int64}, ::Vararg{Any,N} where N) at /home/wmkouw/.julia/packages/Plots/Iuc9S/src/plot.jl:158",
      " [9] (::getfield(RecipesBase, Symbol(\"#kw##plot!\")))(::NamedTuple{(:seriestype,),Tuple{Symbol}}, ::typeof(plot!), ::Plots.Plot{Plots.PyPlotBackend}, ::UnitRange{Int64}, ::Vararg{Any,N} where N) at ./none:0",
      " [10] #plot!#141(::Base.Iterators.Pairs{Symbol,Symbol,Tuple{Symbol},NamedTuple{(:seriestype,),Tuple{Symbol}}}, ::Function, ::UnitRange{Int64}, ::Vararg{Any,N} where N) at /home/wmkouw/.julia/packages/Plots/Iuc9S/src/plot.jl:150",
      " [11] #plot! at ./none:0 [inlined]",
      " [12] #contour!#419 at /home/wmkouw/.julia/packages/RecipesBase/zBoFG/src/RecipesBase.jl:370 [inlined]",
      " [13] contour! at /home/wmkouw/.julia/packages/RecipesBase/zBoFG/src/RecipesBase.jl:370 [inlined]",
      " [14] plot_posteriors(::Array{Float64,2}, ::Float64, ::Float64) at /home/wmkouw/Dropbox/Courses/tueindhoven/5SSD0 - Bayesian Machine Learning & Information Processing/BMLIP/lessons/notebooks/scripts/ppl-2.jl:27",
      " [15] top-level scope at In[12]:6"
     ]
    }
   ],
   "source": [
    "include(\"scripts/ppl-2.jl\")\n",
    "\n",
    "# Estimated means\n",
    "μ1_estimated = mean(marginals[:m_1])\n",
    "μ2_estimated = mean(marginals[:m_2])\n",
    "\n",
    "# Plot data and overlay estimated posterior probabilities\n",
    "plot_posteriors(X, μ1_estimated, μ2_estimated)"
   ]
  },
  {
   "cell_type": "code",
   "execution_count": 7,
   "metadata": {},
   "outputs": [
    {
     "ename": "UndefVarError",
     "evalue": "UndefVarError: p1 not defined",
     "output_type": "error",
     "traceback": [
      "UndefVarError: p1 not defined",
      "",
      "Stacktrace:",
      " [1] top-level scope at In[7]:15"
     ]
    }
   ],
   "source": [
    "l = @layout [a; b; c]\n",
    "\n",
    "# Plot data\n",
    "p2 = scatter(X[:, 1], X[:, 2], color=\"blue\", linewidth=2)\n",
    "\n",
    "# Plot estimated distribution\n",
    "x_test = range(-4, stop=4, length=200)\n",
    "d1_est = Normal(mean(marginals[:m_1]), sqrt(var(marginals[:m_1])))\n",
    "d2_est = Normal(mean(marginals[:m_2]), sqrt(var(marginals[:m_2])))\n",
    "pi_est = mean(marginals[:_pi])\n",
    "gmm_pdf = pi_est * pdf.(Ref(d1_est), x_test) + (1-pi_est) * pdf.(Ref(d2_est), x_test)\n",
    "p3 = plot(x_test, gmm_pdf, color=\"black\", xlims=[-4,4])\n",
    "xlabel!(\"X\")\n",
    "ylabel!(\"p(X|θ)\")\n",
    "\n",
    "# Combined plot\n",
    "plot(p1, p2, p3, layout = l)"
   ]
  },
  {
   "cell_type": "markdown",
   "metadata": {},
   "source": [
    "### A real-world problem\n",
    "\n",
    "Let's have another look at the Old Faithful data set. Can we model it using our PPL's?"
   ]
  },
  {
   "cell_type": "code",
   "execution_count": 8,
   "metadata": {},
   "outputs": [
    {
     "name": "stderr",
     "output_type": "stream",
     "text": [
      "┌ Warning: `getindex(df::DataFrame, col_ind::ColumnIndex)` is deprecated, use `df[!, col_ind]` instead.\n",
      "│   caller = top-level scope at In[8]:7\n",
      "└ @ Core In[8]:7\n",
      "┌ Warning: `getindex(df::DataFrame, col_ind::ColumnIndex)` is deprecated, use `df[!, col_ind]` instead.\n",
      "│   caller = top-level scope at In[8]:7\n",
      "└ @ Core In[8]:7\n"
     ]
    },
    {
     "ename": "UndefVarError",
     "evalue": "UndefVarError: std not defined",
     "output_type": "error",
     "traceback": [
      "UndefVarError: std not defined",
      "",
      "Stacktrace:",
      " [1] top-level scope at In[8]:13"
     ]
    }
   ],
   "source": [
    "using DataFrames\n",
    "using CSV\n",
    "using LinearAlgebra\n",
    "\n",
    "# Read file\n",
    "old_faithful = CSV.read(\"datasets/old_faithful.csv\")\n",
    "\n",
    "# Convert file to matrix\n",
    "X = convert(Matrix{Float64}, [old_faithful[1] old_faithful[2]])\n",
    "\n",
    "# Center the data\n",
    "X = X .- mean(X, dims=1)\n",
    "\n",
    "# Normalize by standard deviation\n",
    "X = X ./ std(X, dims=1)\n",
    "\n",
    "# Scatter data points\n",
    "scatter(X[:,1], X[:,2], legend=false, title=\"Old Faithful\")"
   ]
  },
  {
   "cell_type": "markdown",
   "metadata": {},
   "source": [
    "First of all, we should specify the model that we believe generated the data. "
   ]
  },
  {
   "cell_type": "code",
   "execution_count": 9,
   "metadata": {},
   "outputs": [
    {
     "ename": "UndefVarError",
     "evalue": "UndefVarError: GaussianMixtureModel not defined",
     "output_type": "error",
     "traceback": [
      "UndefVarError: GaussianMixtureModel not defined",
      "",
      "Stacktrace:",
      " [1] top-level scope at In[9]:4"
     ]
    }
   ],
   "source": [
    "# Set priors\n",
    "m1 = [-1, -1]\n",
    "m2 = [+1, +1]\n",
    "\n",
    "# Call another instance of the model for this data set\n",
    "gmm_model = GaussianMixtureModel(X', m1, m2);\n",
    "\n",
    "# Construct Gibbs sampler\n",
    "gmm_sampler = Gibbs(PG(100, :k), HMC(0.05, 10, :μ1, :μ2))\n",
    "\n",
    "# Start sampling\n",
    "tchain = mapreduce(c -> sample(gmm_model, gmm_sampler, 100), chainscat, 1);"
   ]
  },
  {
   "cell_type": "markdown",
   "metadata": {},
   "source": [
    "As you may start to realize, sampling is slow."
   ]
  },
  {
   "cell_type": "code",
   "execution_count": 10,
   "metadata": {},
   "outputs": [
    {
     "ename": "UndefVarError",
     "evalue": "UndefVarError: tchain not defined",
     "output_type": "error",
     "traceback": [
      "UndefVarError: tchain not defined",
      "",
      "Stacktrace:",
      " [1] top-level scope at In[10]:1"
     ]
    }
   ],
   "source": [
    "# Means of distributions\n",
    "μ1_estimated = vec(convert(Array{Float64,2}, mean(tchain[:μ1].value.data[:,:,1]; dims=1)));\n",
    "μ2_estimated = vec(convert(Array{Float64,2}, mean(tchain[:μ2].value.data[:,:,1]; dims=1)));\n",
    "\n",
    "# Report estimated mean for each cluster\n",
    "println(\"μ1_estimated = \"*string(μ1_estimated))\n",
    "println(\"μ2_estimated = \"*string(μ2_estimated))"
   ]
  },
  {
   "cell_type": "code",
   "execution_count": 11,
   "metadata": {},
   "outputs": [
    {
     "ename": "MethodError",
     "evalue": "MethodError: no method matching MvNormal(::Float64, ::Float64)\nClosest candidates are:\n  MvNormal(!Matched::Tracker.TrackedArray{#s58,1,A} where A where #s58<:Real, ::Real) at /home/wmkouw/.julia/packages/DistributionsAD/7Met8/src/multivariate.jl:91\n  MvNormal(!Matched::AbstractArray{#s171,1} where #s171<:Real, ::Real) at /home/wmkouw/.julia/packages/Distributions/2i7UF/src/multivariate/mvnormal.jl:207\n  MvNormal(!Matched::Int64, ::Real) at /home/wmkouw/.julia/packages/Distributions/2i7UF/src/multivariate/mvnormal.jl:220",
     "output_type": "error",
     "traceback": [
      "MethodError: no method matching MvNormal(::Float64, ::Float64)\nClosest candidates are:\n  MvNormal(!Matched::Tracker.TrackedArray{#s58,1,A} where A where #s58<:Real, ::Real) at /home/wmkouw/.julia/packages/DistributionsAD/7Met8/src/multivariate.jl:91\n  MvNormal(!Matched::AbstractArray{#s171,1} where #s171<:Real, ::Real) at /home/wmkouw/.julia/packages/Distributions/2i7UF/src/multivariate/mvnormal.jl:207\n  MvNormal(!Matched::Int64, ::Real) at /home/wmkouw/.julia/packages/Distributions/2i7UF/src/multivariate/mvnormal.jl:220",
      "",
      "Stacktrace:",
      " [1] predict(::Int64, ::Int64, ::Array{Float64,1}, ::Float64, ::Float64) at /home/wmkouw/Dropbox/Courses/tueindhoven/5SSD0 - Bayesian Machine Learning & Information Processing/BMLIP/lessons/notebooks/scripts/ppl-2.jl:10",
      " [2] (::getfield(Main, Symbol(\"##7#8\")))(::Int64, ::Int64) at ./In[11]:7",
      " [3] Surface(::getfield(Main, Symbol(\"##7#8\")), ::UnitRange{Int64}, ::UnitRange{Int64}) at /home/wmkouw/.julia/packages/Plots/Iuc9S/src/components.jl:658",
      " [4] macro expansion at /home/wmkouw/.julia/packages/Plots/Iuc9S/src/series.jl:462 [inlined]",
      " [5] apply_recipe(::Dict{Symbol,Any}, ::UnitRange{Int64}, ::UnitRange{Int64}, ::Function) at /home/wmkouw/.julia/packages/RecipesBase/zBoFG/src/RecipesBase.jl:275",
      " [6] _process_userrecipes(::Plots.Plot{Plots.PyPlotBackend}, ::Dict{Symbol,Any}, ::Tuple{UnitRange{Int64},UnitRange{Int64},getfield(Main, Symbol(\"##7#8\"))}) at /home/wmkouw/.julia/packages/Plots/Iuc9S/src/pipeline.jl:83",
      " [7] _plot!(::Plots.Plot{Plots.PyPlotBackend}, ::Dict{Symbol,Any}, ::Tuple{UnitRange{Int64},UnitRange{Int64},getfield(Main, Symbol(\"##7#8\"))}) at /home/wmkouw/.julia/packages/Plots/Iuc9S/src/plot.jl:178",
      " [8] #plot!#142(::Base.Iterators.Pairs{Symbol,Symbol,Tuple{Symbol},NamedTuple{(:seriestype,),Tuple{Symbol}}}, ::Function, ::Plots.Plot{Plots.PyPlotBackend}, ::UnitRange{Int64}, ::Vararg{Any,N} where N) at /home/wmkouw/.julia/packages/Plots/Iuc9S/src/plot.jl:158",
      " [9] (::getfield(RecipesBase, Symbol(\"#kw##plot!\")))(::NamedTuple{(:seriestype,),Tuple{Symbol}}, ::typeof(plot!), ::Plots.Plot{Plots.PyPlotBackend}, ::UnitRange{Int64}, ::Vararg{Any,N} where N) at ./none:0",
      " [10] #plot!#141(::Base.Iterators.Pairs{Symbol,Symbol,Tuple{Symbol},NamedTuple{(:seriestype,),Tuple{Symbol}}}, ::Function, ::UnitRange{Int64}, ::Vararg{Any,N} where N) at /home/wmkouw/.julia/packages/Plots/Iuc9S/src/plot.jl:150",
      " [11] (::getfield(RecipesBase, Symbol(\"#kw##plot!\")))(::NamedTuple{(:seriestype,),Tuple{Symbol}}, ::typeof(plot!), ::UnitRange{Int64}, ::UnitRange{Int64}, ::Vararg{Any,N} where N) at ./none:0",
      " [12] #contour!#419(::Base.Iterators.Pairs{Union{},Union{},Tuple{},NamedTuple{(),Tuple{}}}, ::Function, ::UnitRange{Int64}, ::Vararg{Any,N} where N) at /home/wmkouw/.julia/packages/RecipesBase/zBoFG/src/RecipesBase.jl:370",
      " [13] contour!(::UnitRange{Int64}, ::Vararg{Any,N} where N) at /home/wmkouw/.julia/packages/RecipesBase/zBoFG/src/RecipesBase.jl:370",
      " [14] top-level scope at In[11]:7"
     ]
    }
   ],
   "source": [
    "# Plot iso-probability lines\n",
    "x1 = range(-3, stop = 3)\n",
    "x2 = range(-3, stop = 3)\n",
    "\n",
    "# Scatter points\n",
    "scatter(X[:, 1], X[:,2], legend=false, title=\"Fit of model on Old Faithful\")\n",
    "contour!(x1, x2, (x, y) -> predict(x, y, [0.5, 0.5], μ1_estimated, μ2_estimated))"
   ]
  }
 ],
 "metadata": {
  "anaconda-cloud": {},
  "celltoolbar": "Slideshow",
  "kernelspec": {
   "display_name": "Julia 1.1.0",
   "language": "julia",
   "name": "julia-1.1"
  },
  "language_info": {
   "file_extension": ".jl",
   "mimetype": "application/julia",
   "name": "julia",
   "version": "1.1.0"
  }
 },
 "nbformat": 4,
 "nbformat_minor": 4
}
