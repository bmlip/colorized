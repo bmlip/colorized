{
 "cells": [
  {
   "cell_type": "markdown",
   "metadata": {
    "slideshow": {
     "slide_type": "slide"
    }
   },
   "source": [
    "# Factor Graphs"
   ]
  },
  {
   "cell_type": "markdown",
   "metadata": {
    "slideshow": {
     "slide_type": "slide"
    }
   },
   "source": [
    "\n",
    "### Preliminaries\n",
    "\n",
    "- Goal \n",
    "  - Introduction to Forney-style factor graphs and message passing-based inference \n",
    "- Materials        \n",
    "  - Mandatory\n",
    "    - These lecture notes   \n",
    "    - Loeliger (2007), [The factor graph approach to model based signal processing](https://github.com/bertdv/BMLIP/blob/master/lessons/notebooks/files/Loeliger-2007-The-factor-graph-approach-to-model-based-signal-processing.pdf), pp. 1295-1302 (until section V)\n",
    "  - Optional\n",
    "    - Frederico Wadehn (2015), [Probabilistic graphical models: Factor graphs and more](https://www.youtube.com/watch?v=Fv2YbVg9Frc&t=31) video lecture (**recommended**)\n",
    "  - References\n",
    "    - Forney (2001), [Codes on graphs: normal realizations](https://github.com/bertdv/BMLIP/blob/master/lessons/notebooks/files/Forney-2001-Codes-on-graphs-normal-realizations.pdf)\n",
    "   "
   ]
  },
  {
   "cell_type": "markdown",
   "metadata": {
    "slideshow": {
     "slide_type": "slide"
    }
   },
   "source": [
    "### Why Factor Graphs?\n",
    "\n",
    "- A probabilistic inference task gets its computational load mainly through the need for marginalization (i.e., computing integrals). E.g., for a model $p(x_1,x_2,x_3,x_4,x_5)$, the inference task $p(x_2|x_3)$ is given by \n",
    "$$\n",
    "p(x_2|x_3) = \\frac{p(x_2,x_3)}{p(x_3)} = \\frac{\\int \\cdots \\int p(x_1,x_2,x_3,x_4,x_5) \\, \\mathrm{d}x_1  \\mathrm{d}x_4 \\mathrm{d}x_5}{\\int \\cdots \\int p(x_1,x_2,x_3,x_4,x_5) \\, \\mathrm{d}x_1  \\mathrm{d}x_2 \\mathrm{d}x_4 \\mathrm{d}x_5}$$"
   ]
  },
  {
   "cell_type": "markdown",
   "metadata": {
    "slideshow": {
     "slide_type": "fragment"
    }
   },
   "source": [
    "- Since these computations (integrals or sums) suffer from the \"curse of dimensionality\", we often need to solve a simpler problem in order to get an answer. "
   ]
  },
  {
   "cell_type": "markdown",
   "metadata": {
    "slideshow": {
     "slide_type": "fragment"
    }
   },
   "source": [
    "- Factor graphs provide a computationally efficient approach to solving inference problems **if the probabilistic model can be factorized**. "
   ]
  },
  {
   "cell_type": "markdown",
   "metadata": {
    "slideshow": {
     "slide_type": "fragment"
    }
   },
   "source": [
    "- <a id='factorization-helps'>Factorization helps</a>. For instance, if $p(x_1,x_2,x_3,x_4,x_5) = p(x_1)p(x_2,x_3)p(x_4)p(x_5|x_4)$, then\n",
    "\n",
    "$$\n",
    "p(x_2|x_3) = \\frac{\\int \\cdots \\int p(x_1)p(x_2,x_3)p(x_4)p(x_5|x_4) \\, \\mathrm{d}x_1  \\mathrm{d}x_4 \\mathrm{d}x_5}{\\int \\cdots \\int p(x_1)p(x_2,x_3)p(x_4)p(x_5|x_4) \\, \\mathrm{d}x_1  \\mathrm{d}x_2 \\mathrm{d}x_4 \\mathrm{d}x_5} \n",
    "  = \\frac{p(x_2,x_3)}{\\int p(x_2,x_3) \\mathrm{d}x_2}\n",
    "$$\n",
    "\n",
    "which is computationally much cheaper than the general case above."
   ]
  },
  {
   "cell_type": "markdown",
   "metadata": {
    "slideshow": {
     "slide_type": "fragment"
    }
   },
   "source": [
    "- In this lesson, we discuss how computationally efficient inference in *factorized* probability distributions can be automated by message passing-based inference in factor graphs."
   ]
  },
  {
   "cell_type": "markdown",
   "metadata": {
    "slideshow": {
     "slide_type": "slide"
    }
   },
   "source": [
    "###  Factor Graph Construction Rules\n",
    "\n",
    "- Consider a function \n",
    "$$\n",
    "f(x_1,x_2,x_3,x_4,x_5) = f_a(x_1,x_2,x_3) \\cdot f_b(x_3,x_4,x_5) \\cdot f_c(x_4)\n",
    "$$"
   ]
  },
  {
   "cell_type": "markdown",
   "metadata": {
    "slideshow": {
     "slide_type": "fragment"
    }
   },
   "source": [
    "- The factorization of this function can be graphically represented by a **Forney-style Factor Graph** (FFG):\n",
    "\n",
    "<p style=\"text-align:center;\"><img src=\"./figures/ffg-example-1.png\" width=\"400px\"></p>"
   ]
  },
  {
   "cell_type": "markdown",
   "metadata": {
    "slideshow": {
     "slide_type": "fragment"
    }
   },
   "source": [
    "- An FFG is an **undirected** graph subject to the following construction rules ([Forney, 2001](https://github.com/bertdv/BMLIP/blob/master/lessons/notebooks/files/Forney-2001-Codes-on-graphs-normal-realizations.pdf))\n",
    "\n",
    "  1. A **node** for every factor;\n",
    "  1. An **edge** (or **half-edge**) for every variable;\n",
    "  1. Node $f_\\bullet$ is connected to edge $x$ **iff** variable $x$ appears in factor $f_\\bullet$."
   ]
  },
  {
   "cell_type": "markdown",
   "metadata": {
    "slideshow": {
     "slide_type": "fragment"
    }
   },
   "source": [
    "- A **configuration** is an assigment of values to all variables.\n",
    "\n",
    "- A configuration $\\omega=(x_1,x_2,x_3,x_4,x_5)$ is said to be **valid** iff $f(\\omega) \\neq 0$\n",
    "  "
   ]
  },
  {
   "cell_type": "markdown",
   "metadata": {
    "slideshow": {
     "slide_type": "slide"
    }
   },
   "source": [
    "###  Equality Nodes for Branching Points\n",
    "\n",
    "\n",
    "- Note that a variable can appear in maximally two factors in an FFG (since an edge has only two end points)."
   ]
  },
  {
   "cell_type": "markdown",
   "metadata": {
    "slideshow": {
     "slide_type": "fragment"
    }
   },
   "source": [
    "- Consider the factorization (where $x_2$ appears in three factors) \n",
    "\n",
    "$$\n",
    " f(x_1,x_2,x_3,x_4) = f_a(x_1,x_2)\\cdot f_b(x_2,x_3) \\cdot f_c(x_2,x_4)\n",
    "$$"
   ]
  },
  {
   "cell_type": "markdown",
   "metadata": {
    "slideshow": {
     "slide_type": "fragment"
    }
   },
   "source": [
    "- For the factor graph representation, we will instead consider the function $g$, defined as\n",
    "$$\\begin{align*}\n",
    " g(x_1,x_2&,x_2^\\prime,x_2^{\\prime\\prime},x_3,x_4) \n",
    "  = f_a(x_1,x_2)\\cdot f_b(x_2^\\prime,x_3) \\cdot f_c(x_2^{\\prime\\prime},x_4) \\cdot f_=(x_2,x_2^\\prime,x_2^{\\prime\\prime})\n",
    "\\end{align*}$$\n",
    "  where \n",
    "$$\n",
    "f_=(x_2,x_2^\\prime,x_2^{\\prime\\prime}) \\triangleq \\delta(x_2-x_2^\\prime)\\, \\delta(x_2-x_2^{\\prime\\prime})\n",
    "$$\n",
    "\n",
    " <p style=\"text-align:center;\"><img src=\"./figures/ffg-wEquality-node.png\" width=\"450px\"></p>\n",
    "  "
   ]
  },
  {
   "cell_type": "markdown",
   "metadata": {
    "slideshow": {
     "slide_type": "subslide"
    }
   },
   "source": [
    "- Note that through introduction of auxiliary variables $X_2^{\\prime}$ and $X_2^{\\prime\\prime}$ and a factor $f_=(x_2,x_2^\\prime,x_2^{\\prime\\prime})$, each variable in $g$ appears in maximally two factors."
   ]
  },
  {
   "cell_type": "markdown",
   "metadata": {
    "slideshow": {
     "slide_type": "fragment"
    }
   },
   "source": [
    "- The constraint $f_=(x,x^\\prime,x^{\\prime\\prime})$ enforces that $X=X^\\prime=X^{\\prime\\prime}$ **for every valid configuration**."
   ]
  },
  {
   "cell_type": "markdown",
   "metadata": {
    "slideshow": {
     "slide_type": "fragment"
    }
   },
   "source": [
    "- Since $f$ is a marginal of $g$, i.e., \n",
    "$$\n",
    "f(x_1,x_2,x_3,x_4) = \\iint g(x_1,x_2,x_2^\\prime,x_2^{\\prime\\prime},x_3,x_4)\\, \\mathrm{d}x_2^\\prime \\mathrm{d}x_2^{\\prime\\prime}\n",
    "$$\n",
    "it follows that any inference problem on $f$ can be executed by a corresponding inference problem on $g$, e.g.,\n",
    "$$\\begin{align*}\n",
    "f(x_1 \\mid x_2) &\\triangleq \\frac{\\iint f(x_1,x_2,x_3,x_4) \\,\\mathrm{d}x_3 \\mathrm{d}x_4 }{ \\int\\cdots\\int f(x_1,x_2,x_3,x_4) \\,\\mathrm{d}x_1 \\mathrm{d}x_3 \\mathrm{d}x_4} \\\\\n",
    "  &= \\frac{\\int\\cdots\\int g(x_1,x_2,x_2^\\prime,x_2^{\\prime\\prime},x_3,x_4) \\,\\mathrm{d}x_2^\\prime \\mathrm{d}x_2^{\\prime\\prime} \\mathrm{d}x_3 \\mathrm{d}x_4 }{ \\int\\cdots\\int g(x_1,x_2,x_2^\\prime,x_2^{\\prime\\prime},x_3,x_4) \\,\\mathrm{d}x_1 \\mathrm{d}x_2^\\prime \\mathrm{d}x_2^{\\prime\\prime} \\mathrm{d}x_3 \\mathrm{d}x_4} \\\\\n",
    "  &= g(x_1 \\mid x_2)\n",
    "\\end{align*}$$"
   ]
  },
  {
   "cell_type": "markdown",
   "metadata": {},
   "source": [
    "- $\\Rightarrow$ **Any factorization of a global function $f$ can be represented by a Forney-style Factor Graph**."
   ]
  },
  {
   "cell_type": "markdown",
   "metadata": {
    "slideshow": {
     "slide_type": "slide"
    }
   },
   "source": [
    "### Probabilistic Models as Factor Graphs\n",
    "\n",
    "- FFGs can be used to express conditional independence (factorization) in probabilistic models. "
   ]
  },
  {
   "cell_type": "markdown",
   "metadata": {
    "slideshow": {
     "slide_type": "fragment"
    }
   },
   "source": [
    "- For example, the (previously shown) graph for \n",
    "$f_a(x_1,x_2,x_3) \\cdot f_b(x_3,x_4,x_5) \\cdot f_c(x_4)$ \n",
    "could represent the probabilistic model\n",
    "$$\n",
    "p(x_1,x_2,x_3,x_4,x_5) = p(x_1,x_2|x_3) \\cdot p(x_3,x_5|x_4) \\cdot p(x_4)\n",
    "$$\n",
    "where we identify \n",
    "$$\\begin{align*}\n",
    "f_a(x_1,x_2,x_3) &= p(x_1,x_2|x_3) \\\\\n",
    "f_b(x_3,x_4,x_5) &= p(x_3,x_5|x_4) \\\\\n",
    "f_c(x_4) &= p(x_4)\n",
    "\\end{align*}$$"
   ]
  },
  {
   "cell_type": "markdown",
   "metadata": {
    "slideshow": {
     "slide_type": "fragment"
    }
   },
   "source": [
    "- This is the graph\n",
    "\n",
    "<p style=\"text-align:center;\"><img src=\"./figures/ffg-example-prob-model.png\" width=\"400px\"></p>"
   ]
  },
  {
   "cell_type": "markdown",
   "metadata": {
    "slideshow": {
     "slide_type": "slide"
    }
   },
   "source": [
    "### Inference by Closing Boxes\n",
    "\n",
    "- Factorizations provide opportunities to cut on the amount of needed computations when doing inference. In what follows, we will use FFGs to process these opportunities in an automatic way by message passing between the nodes of the graph. "
   ]
  },
  {
   "cell_type": "markdown",
   "metadata": {
    "slideshow": {
     "slide_type": "fragment"
    }
   },
   "source": [
    "- Assume we wish to compute the marginal\n",
    "$$\n",
    "\\bar{f}(x_3) \\triangleq \\sum\\limits_{x_1,x_2,x_4,x_5,x_6,x_7}f(x_1,x_2,\\ldots,x_7) \n",
    "$$\n",
    "for a model $f$ with given factorization \n",
    "$$\n",
    "f(x_1,x_2,\\ldots,x_7) = f_a(x_1) f_b(x_2) f_c(x_1,x_2,x_3) f_d(x_4) f_e(x_3,x_4,x_5) f_f(x_5,x_6,x_7) f_g(x_7)\n",
    "$$ "
   ]
  },
  {
   "cell_type": "markdown",
   "metadata": {},
   "source": [
    "- Note that, if each variable $x_i$ can take on $10$ values, then the computing the marginal $\\bar{f}(x_3)$ takes about $10^6$ (1 million) additions. "
   ]
  },
  {
   "cell_type": "markdown",
   "metadata": {
    "slideshow": {
     "slide_type": "subslide"
    }
   },
   "source": [
    "- Due to the factorization and the [Generalized Distributive Law](https://en.wikipedia.org/wiki/Generalized_distributive_law), we can decompose this sum-of-products to the following product-of-sums:\n",
    "$$\\begin{align*}\\bar{f}&(x_3) = \\\\\n",
    "  &\\underbrace{ \\Bigg( \\sum_{x_1,x_2} \\underbrace{f_a(x_1)}_{\\overrightarrow{\\mu}_{X_1}(x_1)}\\, \\underbrace{f_b(x_2)}_{\\overrightarrow{\\mu}_{X_2}(x_2)}\\,f_c(x_1,x_2,x_3)\\Bigg) }_{\\overrightarrow{\\mu}_{X_3}(x_3)} \n",
    "  \\underbrace{ \\cdot\\Bigg( \\sum_{x_4,x_5} \\underbrace{f_d(x_4)}_{\\overrightarrow{\\mu}_{X_4}(x_4)}\\,f_e(x_3,x_4,x_5) \\cdot \\underbrace{ \\big( \\sum_{x_6,x_7} f_f(x_5,x_6,x_7)\\,\\underbrace{f_g(x_7)}_{\\overleftarrow{\\mu}_{X_7}(x_7)}\\big) }_{\\overleftarrow{\\mu}_{X_5}(x_5)} \\Bigg) }_{\\overleftarrow{\\mu}_{X_3}(x_3)}\n",
    "\\end{align*}$$\n",
    "which, in case $x_i$ has $10$ values, requires a few hundred additions and is therefore computationally (much!) lighter than executing the full sum $\\sum_{x_1,\\ldots,x_7}f(x_1,x_2,\\ldots,x_7)$\n",
    "\n",
    "<p style=\"text-align:center;\"><img src=\"./figures/ffg-message-passing.png\" width=\"700px\"></p>"
   ]
  },
  {
   "cell_type": "markdown",
   "metadata": {
    "slideshow": {
     "slide_type": "fragment"
    }
   },
   "source": [
    "- Note that the auxiliary factor $\\overrightarrow{\\mu}_{X_3}(x_3)$ is obtained by multiplying all enclosed factors ($f_a$, $f_b, f_c$) by the red dashed box, followed by marginalization (summing) over all enclosed variables ($x_1$, $x_2$).\n",
    "  "
   ]
  },
  {
   "cell_type": "markdown",
   "metadata": {
    "slideshow": {
     "slide_type": "fragment"
    }
   },
   "source": [
    "- This is the **Closing the Box**-rule, which is a general recipe for marginalization of latent variables (inside the box) and leads to a new factor that has the variables (edges) that cross the box as arguments. For instance, the argument of the remaining factor $\\overrightarrow{\\mu}_{X_3}(x_3)$ is the variable on the edge that crosses the red box ($x_3$).\n"
   ]
  },
  {
   "cell_type": "markdown",
   "metadata": {},
   "source": [
    "- Hence, $\\overrightarrow{\\mu}_{X_3}(x_3)$ can be interpreted as a **message from the red box toward variable** $x_3$."
   ]
  },
  {
   "cell_type": "markdown",
   "metadata": {
    "slideshow": {
     "slide_type": "fragment"
    }
   },
   "source": [
    "- We drew _directed edges_ in the FFG in order to distinguish forward messages $\\overrightarrow{\\mu}_\\bullet(\\cdot)$ (in the same direction as the arrow of the edge) from backward messages $\\overleftarrow{\\mu}_\\bullet(\\cdot)$ (in opposite direction). This is just a notational convenience since an FFG is computationally an undirected graph. "
   ]
  },
  {
   "cell_type": "markdown",
   "metadata": {
    "slideshow": {
     "slide_type": "slide"
    }
   },
   "source": [
    "### Sum-Product Algorithm\n",
    "\n",
    "- Closing-the-box can also be interpreted as a **message update rule** for an outgoing message from a node. For a node $f(y,x_1,\\ldots,x_n)$ with incoming messages $\\overrightarrow{\\mu}_{X_1}(x_1), \\overrightarrow{\\mu}_{X_1}(x_1), \\ldots,\\overrightarrow{\\mu}_{X_n}(x_n)$, the outgoing message is given by ([Loeliger (2007), pg.1299](https://github.com/bertdv/BMLIP/blob/master/lessons/notebooks/files/Loeliger-2007-The-factor-graph-approach-to-model-based-signal-processing.pdf)): \n",
    "\n",
    "$$ \\boxed{\n",
    "\\underbrace{\\overrightarrow{\\mu}_{Y}(y)}_{\\substack{ \\text{outgoing}\\\\ \\text{message}}} = \\sum_{x_1,\\ldots,x_n} \\underbrace{\\overrightarrow{\\mu}_{X_1}(x_1)\\cdots \\overrightarrow{\\mu}_{X_n}(x_n)}_{\\substack{\\text{incoming} \\\\ \\text{messages}}} \\cdot \\underbrace{f(y,x_1,\\ldots,x_n)}_{\\substack{\\text{node}\\\\ \\text{function}}} }\n",
    "$$\n",
    "\n",
    "<p style=\"text-align:center;\"><img src=\"./figures/ffg-sum-product.png\" width=\"500px\"></p>\n",
    "\n",
    "- This is called the **Sum-Product Message** (SPM) update rule. (Look at the formula to understand why it's called the SPM update rule)."
   ]
  },
  {
   "cell_type": "markdown",
   "metadata": {
    "slideshow": {
     "slide_type": "fragment"
    }
   },
   "source": [
    "- Note that all SPM update rules can be computed from information that is **locally available** at each node."
   ]
  },
  {
   "cell_type": "markdown",
   "metadata": {
    "slideshow": {
     "slide_type": "fragment"
    }
   },
   "source": [
    "- If the factor graph for a function $f$ has **no cycles** (i.e., the graph is a tree), then the marginal $\\bar{f}(x_3) = \\sum_{x_1,x_2,x_4,x_5,x_6,x_7}f(x_1,x_2,\\ldots,x_7)$ is given by multiplying the forward and backward messages on that edge:\n",
    "\n",
    "$$ \\boxed{\n",
    "\\bar{f}(x_3) = \\overrightarrow{\\mu}_{X_3}(x_3)\\cdot \\overleftarrow{\\mu}_{X_3}(x_3)}\n",
    "$$"
   ]
  },
  {
   "cell_type": "markdown",
   "metadata": {
    "slideshow": {
     "slide_type": "fragment"
    }
   },
   "source": [
    "- It follows that the marginal $\\bar{f}(x_3) = \\sum_{x_1,x_2,x_4,x_5,x_6,x_7}f(x_1,x_2,\\ldots,x_7)$ can be efficiently computed through sum-product messages. Executing inference through SP message passing is called the **Sum-Product Algorithm** (or alternatively, the **belief propagation** algorithm)."
   ]
  },
  {
   "cell_type": "markdown",
   "metadata": {},
   "source": [
    "- Just as a final note, inference by sum-product message passing is much like replacing the sum-of-products\n",
    "$$\n",
    "ac + ad + bc + bd$$\n",
    "by the following product-of-sums:\n",
    "$$\n",
    "(a + b)(c + d) \\,.$$\n",
    "- Which of these two computations is cheaper to execute?"
   ]
  },
  {
   "cell_type": "markdown",
   "metadata": {},
   "source": [
    "### <a id=\"sp-for-equality-node\">Sum-Product Messages for the Equality Node</a>\n",
    "\n",
    "- As an example, let´s evaluate the SP messages for the **equality node** $f_=(x,y,z) = \\delta(z-x)\\delta(z-y)$: \n",
    "\n",
    "<p style=\"text-align:center;\"><img src=\"./figures/ffg-equality-node.png\" width=\"250px\"></p>\n",
    "\n",
    "$$\\begin{align*}\n",
    "\\overrightarrow{\\mu}_{Z}(z) &= \\iint  \\overrightarrow{\\mu}_{X}(x) \\overrightarrow{\\mu}_{Y}(y) \\,\\delta(z-x)\\delta(z-y) \\,\\mathrm{d}x \\mathrm{d}y \\\\\n",
    "   &=  \\overrightarrow{\\mu}_{X}(z)  \\int  \\overrightarrow{\\mu}_{Y}(y) \\,\\delta(z-y) \\,\\mathrm{d}y \\\\\n",
    "   &=  \\overrightarrow{\\mu}_{X}(z) \\overrightarrow{\\mu}_{Y}(z) \n",
    "\\end{align*}$$\n",
    "\n",
    "- By symmetry, this also implies (for the same equality node) that\n",
    "$$\\begin{align*}\n",
    "\\overleftarrow{\\mu}_{X}(x) &= \\overrightarrow{\\mu}_{Y}(x) \\overleftarrow{\\mu}_{Z}(x) \\quad \\text{and} \\\\\n",
    "\\overleftarrow{\\mu}_{Y}(y) &= \\overrightarrow{\\mu}_{X}(y) \\overleftarrow{\\mu}_{Z}(y)\\,.\n",
    "\\end{align*}$$\n",
    "\n",
    "- Let us now consider the case of Gaussian messages $\\overrightarrow{\\mu}_{X}(x) = \\mathcal{N}(x|\\overrightarrow{m}_X,\\overrightarrow{V}_X)$, $\\overrightarrow{\\mu}_{Y}(y) = \\mathcal{N}(y| \\overrightarrow{m}_Y,\\overrightarrow{V}_Y)$ and $\\overrightarrow{\\mu}_{Z}(z) = \\mathcal{N}(z|\\overrightarrow{m}_Z,\\overrightarrow{V}_Z)$. Let´s also define the precision matrices $\\overrightarrow{W}_X \\triangleq \\overrightarrow{V}_X^{-1}$ and similarly for $Y$ and $Z$. Then applying the SP update rule leads to multiplication of two Gaussian distributions (see [Roweis notes](https://github.com/bertdv/BMLIP/blob/master/lessons/notebooks/files/Roweis-1999-gaussian-identities.pdf)), resulting in \n",
    "\n",
    "$$\\begin{align*}\n",
    "\\overrightarrow{W}_Z &= \\overrightarrow{W}_X + \\overrightarrow{W}_Y \\qquad &\\text{(precisions add)}\\\\ \n",
    "\\overrightarrow{W}_Z \\overrightarrow{m}_z &= \\overrightarrow{W}_X \\overrightarrow{m}_X + \\overrightarrow{W}_Y \\overrightarrow{m}_Y \\qquad &\\text{(natural means add)}\n",
    "\\end{align*}$$\n",
    "\n",
    "- It follows that **message passing through an equality node is similar to applying Bayes rule**, i.e., fusion of two information sources. Does this make sense?"
   ]
  },
  {
   "cell_type": "markdown",
   "metadata": {
    "slideshow": {
     "slide_type": "slide"
    }
   },
   "source": [
    "### Message Passing Schedules\n",
    "\n",
    "- In a non-cyclic (ie, tree) graph, start with messages from the terminals and keep passing messages through the internal nodes towards the \"target\" variable ($x_3$ in above problem) until you have both the forward and backward message for the target variable. "
   ]
  },
  {
   "cell_type": "markdown",
   "metadata": {
    "slideshow": {
     "slide_type": "fragment"
    }
   },
   "source": [
    "- In a tree graph, if you continue to pass messages throughout the graph, the Sum-Product Algorithm computes **exact** marginals for all hidden variables."
   ]
  },
  {
   "cell_type": "markdown",
   "metadata": {
    "slideshow": {
     "slide_type": "fragment"
    }
   },
   "source": [
    "- If the graph contains cycles, we have in principle an infinite tree by \"unrolling\" the graph. In this case, the SP Algorithm is not guaranteed to find exact marginals. In practice, if we apply the SP algorithm for just a few iterations (\"unrolls\"), then we often find satisfying approximate marginals.   "
   ]
  },
  {
   "cell_type": "markdown",
   "metadata": {
    "slideshow": {
     "slide_type": "slide"
    }
   },
   "source": [
    "### Terminal Nodes and Processing Observations \n",
    "\n",
    "- We can use terminal nodes to represent observations, e.g., add a factor $f(y)=\\delta(y−3)$ to terminate the half-edge for variable $Y$  if  $y=3$  is observed.\n",
    "\n",
    "<p style=\"text-align:center;\"><img src=\"./figures/ffg-observation-y-3.png\" width=\"600px\"></p>\n",
    "\n",
    "- Terminal nodes that carry observations are denoted by small black boxes."
   ]
  },
  {
   "cell_type": "markdown",
   "metadata": {
    "slideshow": {
     "slide_type": "fragment"
    }
   },
   "source": [
    "\n",
    "  \n",
    "- The message out of a **terminal node** (attached to only 1 edge) is the factor itself. For instance, closing a box around terminal node $f_a(x_1)$ would lead to $$\\overrightarrow{\\mu}_{X_1}(x_1) \\triangleq \\sum_{ \\stackrel{ \\textrm{enclosed} }{ \\textrm{variables} } } \\;\\prod_{\\stackrel{ \\textrm{enclosed} }{ \\textrm{factors} }} f_a(x_1) = f_a(x_1)\\,$$\n",
    "since there are no enclosed variables. \n",
    "\n",
    "<p style=\"text-align:center;\"><img src=\"./figures/ffg-terminal-node-message.png\" width=\"250px\"></p>\n",
    " "
   ]
  },
  {
   "cell_type": "markdown",
   "metadata": {
    "slideshow": {
     "slide_type": "fragment"
    }
   },
   "source": [
    "- The message from a half-edge is $1$ (one). You can verify this by imagining that a half-edge $x$ can be terminated by a node function $f(x)=1$ without affecting any inference issue."
   ]
  },
  {
   "cell_type": "markdown",
   "metadata": {
    "slideshow": {
     "slide_type": "slide"
    }
   },
   "source": [
    "### Automating Bayesian Inference by Message Passing\n",
    "\n",
    "- The foregoing message update rules can be worked out in closed-form and put into tables (e.g., see Tables 1 through 6 in [Loeliger (2007)](./files/Loeliger-2007-The-factor-graph-approach-to-model-based-signal-processing.pdf) for many standard factors such as essential probability distributions and operations such as additions, fixed-gain multiplications and branching (equality nodes).\n",
    "\n",
    "- In the optional slides below, we have worked out a few more update rules for the [addition node](#sp-for-addition-node) and the [multiplication node](#sp-for-multiplication-node).\n",
    "\n",
    "- If the update rules for all node types in a graph have been tabulated, then inference by message passing comes down to executing a set of table-lookup operations, thus creating a completely **automatable Bayesian inference framework**. \n",
    "\n",
    "- In our research lab [BIASlab](http://biaslab.org) (FLUX 7.060), we are developing [RxInfer](http://rxinfer.ml), which is a (Julia) toolbox for automating Bayesian inference by message passing in a factor graph.\n"
   ]
  },
  {
   "cell_type": "markdown",
   "metadata": {
    "slideshow": {
     "slide_type": "slide"
    }
   },
   "source": [
    "### Example: Bayesian Linear Regression by Message Passing\n"
   ]
  },
  {
   "cell_type": "markdown",
   "metadata": {
    "slideshow": {
     "slide_type": "fragment"
    }
   },
   "source": [
    "- Assume we want to estimate some function $f: \\mathbb{R}^D \\rightarrow \\mathbb{R}$ from a given data set $D = \\{(x_1,y_1), \\ldots, (x_N,y_N)\\}$, with model assumption $y_i = f(x_i) + \\epsilon_i$."
   ]
  },
  {
   "cell_type": "markdown",
   "metadata": {
    "slideshow": {
     "slide_type": "fragment"
    }
   },
   "source": [
    "#### model specification \n",
    "\n",
    "- We will assume a linear model with white Gaussian noise and a Gaussian prior on the coefficients $w$:\n",
    "$$\\begin{align*}\n",
    "  y_i &= w^T x_i  + \\epsilon_i \\\\\n",
    "  \\epsilon_i &\\sim \\mathcal{N}(0, \\sigma^2) \\\\ \n",
    "  w &\\sim \\mathcal{N}(0,\\Sigma)\n",
    "\\end{align*}$$\n",
    "or equivalently\n",
    "$$\\begin{align*}\n",
    "p(w,\\epsilon,D) &= \\overbrace{p(w)}^{\\text{weight prior}} \\prod_{i=1}^N  \\overbrace{p(y_i\\,|\\,x_i,w,\\epsilon_i)}^{\\text{regression model}} \\overbrace{p(\\epsilon_i)}^{\\text{noise model}} \\\\\n",
    "  &= \\mathcal{N}(w\\,|\\,0,\\Sigma) \\prod_{i=1}^N \\delta(y_i - w^T x_i - \\epsilon_i) \\mathcal{N}(\\epsilon_i\\,|\\,0,\\sigma^2) \n",
    "\\end{align*}$$"
   ]
  },
  {
   "cell_type": "markdown",
   "metadata": {
    "slideshow": {
     "slide_type": "fragment"
    }
   },
   "source": [
    "#### Inference (parameter estimation)\n",
    "\n",
    "- We are interested in inferring the posterior $p(w|D)$. We will execute inference by message passing on the FFG for the model."
   ]
  },
  {
   "cell_type": "markdown",
   "metadata": {
    "slideshow": {
     "slide_type": "subslide"
    }
   },
   "source": [
    "- The left figure shows the factor graph for this model. \n",
    "- The right figure shows the message passing scheme. \n",
    "  \n",
    "<p style=\"text-align:center;\"><img src=\"./figures/ffg-bayesian-linear-regression.png\" width=\"500px\"></p>\n"
   ]
  },
  {
   "cell_type": "markdown",
   "metadata": {
    "slideshow": {
     "slide_type": "slide"
    }
   },
   "source": [
    "#### CODE EXAMPLE\n",
    "\n",
    "Let's solve this problem by message passing-based inference with Julia's FFG toolbox [RxInfer](https://biaslab.github.io/rxinfer-website/)."
   ]
  },
  {
   "cell_type": "code",
   "execution_count": 15,
   "metadata": {},
   "outputs": [
    {
     "name": "stderr",
     "output_type": "stream",
     "text": [
      "\u001b[32m\u001b[1m  Activating\u001b[22m\u001b[39m project at `~/github/bertdv/BMLIP/lessons`\n"
     ]
    }
   ],
   "source": [
    "using Pkg; Pkg.activate(\"../.\"); Pkg.instantiate();\n",
    "using IJulia; try IJulia.clear_output(); catch _ end"
   ]
  },
  {
   "cell_type": "code",
   "execution_count": 16,
   "metadata": {},
   "outputs": [
    {
     "data": {
      "image/png": "[encoded data removed]",
      "image/svg+xml": [
       "<?xml version=\"1.0\" encoding=\"utf-8\"?>\n",
       "<svg xmlns=\"http://www.w3.org/2000/svg\" xmlns:xlink=\"http://www.w3.org/1999/xlink\" width=\"600\" height=\"400\" viewBox=\"0 0 2400 1600\">\n",
       "<defs>\n",
       "  <clipPath id=\"clip530\">\n",
       "    <rect x=\"0\" y=\"0\" width=\"2400\" height=\"1600\"/>\n",
       "  </clipPath>\n",
       "</defs>\n",
       "<path clip-path=\"url(#clip530)\" d=\"M0 1600 L2400 1600 L2400 0 L0 0  Z\" fill=\"#ffffff\" fill-rule=\"evenodd\" fill-opacity=\"1\"/>\n",
       "<defs>\n",
       "  <clipPath id=\"clip531\">\n",
       "    <rect x=\"480\" y=\"0\" width=\"1681\" height=\"1600\"/>\n",
       "  </clipPath>\n",
       "</defs>\n",
       "<path clip-path=\"url(#clip530)\" d=\"M205.121 1423.18 L2352.76 1423.18 L2352.76 47.2441 L205.121 47.2441  Z\" fill=\"#ffffff\" fill-rule=\"evenodd\" fill-opacity=\"1\"/>\n",
       "<defs>\n",
       "  <clipPath id=\"clip532\">\n",
       "    <rect x=\"205\" y=\"47\" width=\"2149\" height=\"1377\"/>\n",
       "  </clipPath>\n",
       "</defs>\n",
       "<polyline clip-path=\"url(#clip532)\" style=\"stroke:#000000; stroke-linecap:round; stroke-linejoin:round; stroke-width:2; stroke-opacity:0.1; fill:none\" points=\"256.81,1423.18 256.81,47.2441 \"/>\n",
       "<polyline clip-path=\"url(#clip532)\" style=\"stroke:#000000; stroke-linecap:round; stroke-linejoin:round; stroke-width:2; stroke-opacity:0.1; fill:none\" points=\"701.188,1423.18 701.188,47.2441 \"/>\n",
       "<polyline clip-path=\"url(#clip532)\" style=\"stroke:#000000; stroke-linecap:round; stroke-linejoin:round; stroke-width:2; stroke-opacity:0.1; fill:none\" points=\"1145.57,1423.18 1145.57,47.2441 \"/>\n",
       "<polyline clip-path=\"url(#clip532)\" style=\"stroke:#000000; stroke-linecap:round; stroke-linejoin:round; stroke-width:2; stroke-opacity:0.1; fill:none\" points=\"1589.94,1423.18 1589.94,47.2441 \"/>\n",
       "<polyline clip-path=\"url(#clip532)\" style=\"stroke:#000000; stroke-linecap:round; stroke-linejoin:round; stroke-width:2; stroke-opacity:0.1; fill:none\" points=\"2034.32,1423.18 2034.32,47.2441 \"/>\n",
       "<polyline clip-path=\"url(#clip530)\" style=\"stroke:#000000; stroke-linecap:round; stroke-linejoin:round; stroke-width:4; stroke-opacity:1; fill:none\" points=\"205.121,1423.18 2352.76,1423.18 \"/>\n",
       "<polyline clip-path=\"url(#clip530)\" style=\"stroke:#000000; stroke-linecap:round; stroke-linejoin:round; stroke-width:4; stroke-opacity:1; fill:none\" points=\"256.81,1423.18 256.81,1404.28 \"/>\n",
       "<polyline clip-path=\"url(#clip530)\" style=\"stroke:#000000; stroke-linecap:round; stroke-linejoin:round; stroke-width:4; stroke-opacity:1; fill:none\" points=\"701.188,1423.18 701.188,1404.28 \"/>\n",
       "<polyline clip-path=\"url(#clip530)\" style=\"stroke:#000000; stroke-linecap:round; stroke-linejoin:round; stroke-width:4; stroke-opacity:1; fill:none\" points=\"1145.57,1423.18 1145.57,1404.28 \"/>\n",
       "<polyline clip-path=\"url(#clip530)\" style=\"stroke:#000000; stroke-linecap:round; stroke-linejoin:round; stroke-width:4; stroke-opacity:1; fill:none\" points=\"1589.94,1423.18 1589.94,1404.28 \"/>\n",
       "<polyline clip-path=\"url(#clip530)\" style=\"stroke:#000000; stroke-linecap:round; stroke-linejoin:round; stroke-width:4; stroke-opacity:1; fill:none\" points=\"2034.32,1423.18 2034.32,1404.28 \"/>\n",
       "<path clip-path=\"url(#clip530)\" d=\"M256.81 1454.1 Q253.199 1454.1 251.371 1457.66 Q249.565 1461.2 249.565 1468.33 Q249.565 1475.44 251.371 1479.01 Q253.199 1482.55 256.81 1482.55 Q260.445 1482.55 262.25 1479.01 Q264.079 1475.44 264.079 1468.33 Q264.079 1461.2 262.25 1457.66 Q260.445 1454.1 256.81 1454.1 M256.81 1450.39 Q262.621 1450.39 265.676 1455 Q268.755 1459.58 268.755 1468.33 Q268.755 1477.06 265.676 1481.67 Q262.621 1486.25 256.81 1486.25 Q251 1486.25 247.922 1481.67 Q244.866 1477.06 244.866 1468.33 Q244.866 1459.58 247.922 1455 Q251 1450.39 256.81 1450.39 Z\" fill=\"#000000\" fill-rule=\"nonzero\" fill-opacity=\"1\" /><path clip-path=\"url(#clip530)\" d=\"M695.841 1481.64 L712.16 1481.64 L712.16 1485.58 L690.216 1485.58 L690.216 1481.64 Q692.878 1478.89 697.461 1474.26 Q702.068 1469.61 703.248 1468.27 Q705.494 1465.74 706.373 1464.01 Q707.276 1462.25 707.276 1460.56 Q707.276 1457.8 705.332 1456.07 Q703.41 1454.33 700.308 1454.33 Q698.109 1454.33 695.656 1455.09 Q693.225 1455.86 690.447 1457.41 L690.447 1452.69 Q693.271 1451.55 695.725 1450.97 Q698.179 1450.39 700.216 1450.39 Q705.586 1450.39 708.781 1453.08 Q711.975 1455.77 711.975 1460.26 Q711.975 1462.39 711.165 1464.31 Q710.378 1466.2 708.271 1468.8 Q707.693 1469.47 704.591 1472.69 Q701.489 1475.88 695.841 1481.64 Z\" fill=\"#000000\" fill-rule=\"nonzero\" fill-opacity=\"1\" /><path clip-path=\"url(#clip530)\" d=\"M1148.57 1455.09 L1136.77 1473.54 L1148.57 1473.54 L1148.57 1455.09 M1147.35 1451.02 L1153.23 1451.02 L1153.23 1473.54 L1158.16 1473.54 L1158.16 1477.43 L1153.23 1477.43 L1153.23 1485.58 L1148.57 1485.58 L1148.57 1477.43 L1132.97 1477.43 L1132.97 1472.92 L1147.35 1451.02 Z\" fill=\"#000000\" fill-rule=\"nonzero\" fill-opacity=\"1\" /><path clip-path=\"url(#clip530)\" d=\"M1590.35 1466.44 Q1587.2 1466.44 1585.35 1468.59 Q1583.52 1470.74 1583.52 1474.49 Q1583.52 1478.22 1585.35 1480.39 Q1587.2 1482.55 1590.35 1482.55 Q1593.5 1482.55 1595.33 1480.39 Q1597.18 1478.22 1597.18 1474.49 Q1597.18 1470.74 1595.33 1468.59 Q1593.5 1466.44 1590.35 1466.44 M1599.63 1451.78 L1599.63 1456.04 Q1597.87 1455.21 1596.07 1454.77 Q1594.28 1454.33 1592.52 1454.33 Q1587.89 1454.33 1585.44 1457.45 Q1583.01 1460.58 1582.66 1466.9 Q1584.03 1464.89 1586.09 1463.82 Q1588.15 1462.73 1590.63 1462.73 Q1595.83 1462.73 1598.84 1465.9 Q1601.88 1469.05 1601.88 1474.49 Q1601.88 1479.82 1598.73 1483.03 Q1595.58 1486.25 1590.35 1486.25 Q1584.35 1486.25 1581.18 1481.67 Q1578.01 1477.06 1578.01 1468.33 Q1578.01 1460.14 1581.9 1455.28 Q1585.79 1450.39 1592.34 1450.39 Q1594.1 1450.39 1595.88 1450.74 Q1597.69 1451.09 1599.63 1451.78 Z\" fill=\"#000000\" fill-rule=\"nonzero\" fill-opacity=\"1\" /><path clip-path=\"url(#clip530)\" d=\"M2034.32 1469.17 Q2030.99 1469.17 2029.07 1470.95 Q2027.17 1472.73 2027.17 1475.86 Q2027.17 1478.98 2029.07 1480.77 Q2030.99 1482.55 2034.32 1482.55 Q2037.65 1482.55 2039.58 1480.77 Q2041.5 1478.96 2041.5 1475.86 Q2041.5 1472.73 2039.58 1470.95 Q2037.68 1469.17 2034.32 1469.17 M2029.65 1467.18 Q2026.64 1466.44 2024.95 1464.38 Q2023.28 1462.32 2023.28 1459.35 Q2023.28 1455.21 2026.22 1452.8 Q2029.18 1450.39 2034.32 1450.39 Q2039.48 1450.39 2042.42 1452.8 Q2045.36 1455.21 2045.36 1459.35 Q2045.36 1462.32 2043.67 1464.38 Q2042.01 1466.44 2039.02 1467.18 Q2042.4 1467.96 2044.27 1470.26 Q2046.17 1472.55 2046.17 1475.86 Q2046.17 1480.88 2043.09 1483.57 Q2040.04 1486.25 2034.32 1486.25 Q2028.6 1486.25 2025.52 1483.57 Q2022.47 1480.88 2022.47 1475.86 Q2022.47 1472.55 2024.37 1470.26 Q2026.27 1467.96 2029.65 1467.18 M2027.93 1459.79 Q2027.93 1462.48 2029.6 1463.98 Q2031.29 1465.49 2034.32 1465.49 Q2037.33 1465.49 2039.02 1463.98 Q2040.73 1462.48 2040.73 1459.79 Q2040.73 1457.11 2039.02 1455.6 Q2037.33 1454.1 2034.32 1454.1 Q2031.29 1454.1 2029.6 1455.6 Q2027.93 1457.11 2027.93 1459.79 Z\" fill=\"#000000\" fill-rule=\"nonzero\" fill-opacity=\"1\" /><path clip-path=\"url(#clip530)\" d=\"M1291.71 1525.1 Q1291.71 1525.33 1291.16 1526.29 Q1290.65 1527.23 1288.75 1529.58 Q1286.85 1531.93 1284.01 1534.67 Q1282.95 1535.73 1281.34 1537.21 Q1279.73 1538.69 1278.63 1539.66 L1277.54 1540.62 Q1273.35 1544.17 1269.68 1548.13 Q1269.94 1548.03 1270.39 1548 Q1270.84 1547.93 1271.16 1547.93 L1271.48 1547.93 Q1273.16 1547.93 1276.09 1549.06 Q1278.67 1549.9 1279.99 1549.9 Q1281.27 1549.9 1282.69 1549.45 Q1284.11 1549 1285.65 1547.68 Q1287.2 1546.36 1287.91 1544.36 Q1288.04 1544.04 1288.1 1543.94 Q1288.17 1543.81 1288.36 1543.68 Q1288.55 1543.52 1288.81 1543.52 Q1289.17 1543.52 1289.39 1543.71 Q1289.62 1543.91 1289.62 1544.17 Q1289.62 1544.75 1289.17 1545.9 Q1288.75 1547.06 1287.81 1548.51 Q1286.91 1549.96 1285.72 1551.28 Q1284.56 1552.57 1282.82 1553.47 Q1281.08 1554.34 1279.25 1554.34 Q1277.93 1554.34 1276.96 1553.7 Q1275.99 1553.09 1275.03 1551.9 Q1273.71 1550.38 1273 1549.9 Q1272.29 1549.38 1271.19 1549.38 Q1268.26 1549.38 1265.59 1553.47 Q1265.3 1554.05 1265.11 1554.18 Q1264.95 1554.34 1264.56 1554.34 Q1263.75 1554.31 1263.75 1553.67 Q1263.75 1553.41 1264.46 1552.28 Q1265.2 1551.12 1266.85 1549.09 Q1268.52 1547.06 1270.55 1545.04 L1276.48 1539.5 Q1283.05 1533.96 1285.65 1530.83 Q1284.56 1530.83 1284.08 1530.8 Q1283.63 1530.77 1282.72 1530.57 Q1281.82 1530.35 1280.57 1529.87 Q1277.64 1528.87 1276.41 1528.87 Q1276.09 1528.87 1275.74 1528.9 Q1275.38 1528.93 1274.58 1529.09 Q1273.8 1529.25 1273.16 1529.58 Q1272.51 1529.87 1271.84 1530.51 Q1271.16 1531.12 1270.81 1531.96 Q1270.71 1532.22 1270.65 1532.35 Q1270.58 1532.48 1270.39 1532.6 Q1270.23 1532.7 1269.97 1532.7 Q1269.58 1532.7 1269.36 1532.48 Q1269.17 1532.25 1269.17 1531.96 Q1269.17 1531.38 1269.75 1530.19 Q1270.32 1529 1271.29 1527.71 Q1272.26 1526.39 1273.84 1525.42 Q1275.41 1524.46 1277.15 1524.46 Q1278.18 1524.46 1279.05 1524.91 Q1279.95 1525.36 1280.41 1525.84 Q1280.89 1526.29 1281.69 1527.29 Q1282.37 1528.06 1282.69 1528.38 Q1283.01 1528.71 1283.66 1529.06 Q1284.33 1529.38 1285.08 1529.38 Q1286.3 1529.38 1287.43 1528.45 Q1288.55 1527.48 1290 1525.16 Q1290.39 1524.46 1291 1524.46 Q1291.71 1524.46 1291.71 1525.1 Z\" fill=\"#000000\" fill-rule=\"nonzero\" fill-opacity=\"1\" /><polyline clip-path=\"url(#clip532)\" style=\"stroke:#000000; stroke-linecap:round; stroke-linejoin:round; stroke-width:2; stroke-opacity:0.1; fill:none\" points=\"205.121,1393.5 2352.76,1393.5 \"/>\n",
       "<polyline clip-path=\"url(#clip532)\" style=\"stroke:#000000; stroke-linecap:round; stroke-linejoin:round; stroke-width:2; stroke-opacity:0.1; fill:none\" points=\"205.121,1093.41 2352.76,1093.41 \"/>\n",
       "<polyline clip-path=\"url(#clip532)\" style=\"stroke:#000000; stroke-linecap:round; stroke-linejoin:round; stroke-width:2; stroke-opacity:0.1; fill:none\" points=\"205.121,793.323 2352.76,793.323 \"/>\n",
       "<polyline clip-path=\"url(#clip532)\" style=\"stroke:#000000; stroke-linecap:round; stroke-linejoin:round; stroke-width:2; stroke-opacity:0.1; fill:none\" points=\"205.121,493.233 2352.76,493.233 \"/>\n",
       "<polyline clip-path=\"url(#clip532)\" style=\"stroke:#000000; stroke-linecap:round; stroke-linejoin:round; stroke-width:2; stroke-opacity:0.1; fill:none\" points=\"205.121,193.144 2352.76,193.144 \"/>\n",
       "<polyline clip-path=\"url(#clip530)\" style=\"stroke:#000000; stroke-linecap:round; stroke-linejoin:round; stroke-width:4; stroke-opacity:1; fill:none\" points=\"205.121,1423.18 205.121,47.2441 \"/>\n",
       "<polyline clip-path=\"url(#clip530)\" style=\"stroke:#000000; stroke-linecap:round; stroke-linejoin:round; stroke-width:4; stroke-opacity:1; fill:none\" points=\"205.121,1393.5 224.019,1393.5 \"/>\n",
       "<polyline clip-path=\"url(#clip530)\" style=\"stroke:#000000; stroke-linecap:round; stroke-linejoin:round; stroke-width:4; stroke-opacity:1; fill:none\" points=\"205.121,1093.41 224.019,1093.41 \"/>\n",
       "<polyline clip-path=\"url(#clip530)\" style=\"stroke:#000000; stroke-linecap:round; stroke-linejoin:round; stroke-width:4; stroke-opacity:1; fill:none\" points=\"205.121,793.323 224.019,793.323 \"/>\n",
       "<polyline clip-path=\"url(#clip530)\" style=\"stroke:#000000; stroke-linecap:round; stroke-linejoin:round; stroke-width:4; stroke-opacity:1; fill:none\" points=\"205.121,493.233 224.019,493.233 \"/>\n",
       "<polyline clip-path=\"url(#clip530)\" style=\"stroke:#000000; stroke-linecap:round; stroke-linejoin:round; stroke-width:4; stroke-opacity:1; fill:none\" points=\"205.121,193.144 224.019,193.144 \"/>\n",
       "<path clip-path=\"url(#clip530)\" d=\"M157.177 1379.3 Q153.566 1379.3 151.737 1382.87 Q149.931 1386.41 149.931 1393.54 Q149.931 1400.64 151.737 1404.21 Q153.566 1407.75 157.177 1407.75 Q160.811 1407.75 162.616 1404.21 Q164.445 1400.64 164.445 1393.54 Q164.445 1386.41 162.616 1382.87 Q160.811 1379.3 157.177 1379.3 M157.177 1375.6 Q162.987 1375.6 166.042 1380.2 Q169.121 1384.79 169.121 1393.54 Q169.121 1402.26 166.042 1406.87 Q162.987 1411.45 157.177 1411.45 Q151.366 1411.45 148.288 1406.87 Q145.232 1402.26 145.232 1393.54 Q145.232 1384.79 148.288 1380.2 Q151.366 1375.6 157.177 1375.6 Z\" fill=\"#000000\" fill-rule=\"nonzero\" fill-opacity=\"1\" /><path clip-path=\"url(#clip530)\" d=\"M117.825 1106.76 L125.464 1106.76 L125.464 1080.39 L117.154 1082.06 L117.154 1077.8 L125.418 1076.13 L130.093 1076.13 L130.093 1106.76 L137.732 1106.76 L137.732 1110.69 L117.825 1110.69 L117.825 1106.76 Z\" fill=\"#000000\" fill-rule=\"nonzero\" fill-opacity=\"1\" /><path clip-path=\"url(#clip530)\" d=\"M157.177 1079.21 Q153.566 1079.21 151.737 1082.78 Q149.931 1086.32 149.931 1093.45 Q149.931 1100.55 151.737 1104.12 Q153.566 1107.66 157.177 1107.66 Q160.811 1107.66 162.616 1104.12 Q164.445 1100.55 164.445 1093.45 Q164.445 1086.32 162.616 1082.78 Q160.811 1079.21 157.177 1079.21 M157.177 1075.51 Q162.987 1075.51 166.042 1080.11 Q169.121 1084.7 169.121 1093.45 Q169.121 1102.17 166.042 1106.78 Q162.987 1111.36 157.177 1111.36 Q151.366 1111.36 148.288 1106.78 Q145.232 1102.17 145.232 1093.45 Q145.232 1084.7 148.288 1080.11 Q151.366 1075.51 157.177 1075.51 Z\" fill=\"#000000\" fill-rule=\"nonzero\" fill-opacity=\"1\" /><path clip-path=\"url(#clip530)\" d=\"M121.043 806.668 L137.362 806.668 L137.362 810.603 L115.418 810.603 L115.418 806.668 Q118.08 803.913 122.663 799.284 Q127.269 794.631 128.45 793.289 Q130.695 790.765 131.575 789.029 Q132.478 787.27 132.478 785.58 Q132.478 782.826 130.533 781.09 Q128.612 779.353 125.51 779.353 Q123.311 779.353 120.857 780.117 Q118.427 780.881 115.649 782.432 L115.649 777.71 Q118.473 776.576 120.927 775.997 Q123.38 775.418 125.418 775.418 Q130.788 775.418 133.982 778.103 Q137.177 780.789 137.177 785.279 Q137.177 787.409 136.367 789.33 Q135.579 791.228 133.473 793.821 Q132.894 794.492 129.792 797.71 Q126.691 800.904 121.043 806.668 Z\" fill=\"#000000\" fill-rule=\"nonzero\" fill-opacity=\"1\" /><path clip-path=\"url(#clip530)\" d=\"M157.177 779.122 Q153.566 779.122 151.737 782.687 Q149.931 786.228 149.931 793.358 Q149.931 800.464 151.737 804.029 Q153.566 807.571 157.177 807.571 Q160.811 807.571 162.616 804.029 Q164.445 800.464 164.445 793.358 Q164.445 786.228 162.616 782.687 Q160.811 779.122 157.177 779.122 M157.177 775.418 Q162.987 775.418 166.042 780.025 Q169.121 784.608 169.121 793.358 Q169.121 802.085 166.042 806.691 Q162.987 811.275 157.177 811.275 Q151.366 811.275 148.288 806.691 Q145.232 802.085 145.232 793.358 Q145.232 784.608 148.288 780.025 Q151.366 775.418 157.177 775.418 Z\" fill=\"#000000\" fill-rule=\"nonzero\" fill-opacity=\"1\" /><path clip-path=\"url(#clip530)\" d=\"M131.181 491.879 Q134.538 492.597 136.413 494.865 Q138.311 497.134 138.311 500.467 Q138.311 505.583 134.792 508.384 Q131.274 511.185 124.793 511.185 Q122.617 511.185 120.302 510.745 Q118.01 510.328 115.556 509.472 L115.556 504.958 Q117.501 506.092 119.816 506.671 Q122.13 507.25 124.654 507.25 Q129.052 507.25 131.343 505.514 Q133.658 503.777 133.658 500.467 Q133.658 497.412 131.505 495.699 Q129.376 493.963 125.556 493.963 L121.529 493.963 L121.529 490.12 L125.742 490.12 Q129.191 490.12 131.019 488.754 Q132.848 487.365 132.848 484.773 Q132.848 482.111 130.95 480.699 Q129.075 479.264 125.556 479.264 Q123.635 479.264 121.436 479.68 Q119.237 480.097 116.598 480.977 L116.598 476.81 Q119.26 476.069 121.575 475.699 Q123.913 475.328 125.973 475.328 Q131.297 475.328 134.399 477.759 Q137.501 480.166 137.501 484.287 Q137.501 487.157 135.857 489.148 Q134.214 491.115 131.181 491.879 Z\" fill=\"#000000\" fill-rule=\"nonzero\" fill-opacity=\"1\" /><path clip-path=\"url(#clip530)\" d=\"M157.177 479.032 Q153.566 479.032 151.737 482.597 Q149.931 486.139 149.931 493.268 Q149.931 500.375 151.737 503.939 Q153.566 507.481 157.177 507.481 Q160.811 507.481 162.616 503.939 Q164.445 500.375 164.445 493.268 Q164.445 486.139 162.616 482.597 Q160.811 479.032 157.177 479.032 M157.177 475.328 Q162.987 475.328 166.042 479.935 Q169.121 484.518 169.121 493.268 Q169.121 501.995 166.042 506.601 Q162.987 511.185 157.177 511.185 Q151.366 511.185 148.288 506.601 Q145.232 501.995 145.232 493.268 Q145.232 484.518 148.288 479.935 Q151.366 475.328 157.177 475.328 Z\" fill=\"#000000\" fill-rule=\"nonzero\" fill-opacity=\"1\" /><path clip-path=\"url(#clip530)\" d=\"M129.862 179.938 L118.056 198.387 L129.862 198.387 L129.862 179.938 M128.635 175.864 L134.515 175.864 L134.515 198.387 L139.445 198.387 L139.445 202.276 L134.515 202.276 L134.515 210.424 L129.862 210.424 L129.862 202.276 L114.26 202.276 L114.26 197.762 L128.635 175.864 Z\" fill=\"#000000\" fill-rule=\"nonzero\" fill-opacity=\"1\" /><path clip-path=\"url(#clip530)\" d=\"M157.177 178.942 Q153.566 178.942 151.737 182.507 Q149.931 186.049 149.931 193.178 Q149.931 200.285 151.737 203.85 Q153.566 207.391 157.177 207.391 Q160.811 207.391 162.616 203.85 Q164.445 200.285 164.445 193.178 Q164.445 186.049 162.616 182.507 Q160.811 178.942 157.177 178.942 M157.177 175.239 Q162.987 175.239 166.042 179.845 Q169.121 184.428 169.121 193.178 Q169.121 201.905 166.042 206.512 Q162.987 211.095 157.177 211.095 Q151.366 211.095 148.288 206.512 Q145.232 201.905 145.232 193.178 Q145.232 184.428 148.288 179.845 Q151.366 175.239 157.177 175.239 Z\" fill=\"#000000\" fill-rule=\"nonzero\" fill-opacity=\"1\" /><path clip-path=\"url(#clip530)\" d=\"M24.7187 937.85 Q26.49 937.85 27.585 938.977 Q28.68 940.072 28.68 941.457 Q28.68 942.455 28.0681 943.196 Q27.4562 943.905 26.3934 943.905 Q25.2984 943.905 24.139 943.067 Q22.9796 942.23 22.8185 940.33 Q21.6269 941.586 21.6269 943.583 Q21.6269 944.581 22.271 945.418 Q22.883 946.223 23.8813 946.674 Q24.9119 947.157 30.7412 948.252 Q32.6413 948.607 34.4771 948.929 Q36.3128 949.251 38.2451 949.637 L38.2451 944.162 Q38.2451 943.454 38.2774 943.164 Q38.3096 942.874 38.4706 942.649 Q38.6316 942.391 38.9859 942.391 Q39.8876 942.391 40.1131 942.81 Q40.3063 943.196 40.3063 944.355 L40.3063 950.024 L61.2079 953.985 Q61.8198 954.082 63.7522 954.5 Q65.6523 954.887 68.7763 955.821 Q71.9325 956.755 73.8004 957.689 Q74.8632 958.204 75.8616 958.88 Q76.8922 959.524 77.9228 960.458 Q78.9534 961.392 79.5653 962.616 Q80.2094 963.84 80.2094 965.128 Q80.2094 967.318 78.9856 969.025 Q77.7617 970.732 75.6684 970.732 Q73.897 970.732 72.802 969.637 Q71.707 968.51 71.707 967.125 Q71.707 966.127 72.3189 965.418 Q72.9309 964.677 73.9937 964.677 Q74.4445 964.677 74.9598 964.838 Q75.4751 964.999 76.0548 965.354 Q76.6667 965.708 77.0854 966.481 Q77.5041 967.254 77.5685 968.317 Q78.7601 967.061 78.7601 965.128 Q78.7601 964.516 78.5025 963.969 Q78.277 963.421 77.6973 962.97 Q77.1176 962.487 76.5379 962.133 Q75.9904 961.779 74.9276 961.425 Q73.897 961.07 73.1241 960.845 Q72.3512 960.619 70.9663 960.33 Q69.5815 960.008 68.7441 959.847 Q67.939 959.685 66.3609 959.396 L40.3063 954.468 L40.3063 958.816 Q40.3063 959.589 40.2741 959.911 Q40.2419 960.201 40.0809 960.426 Q39.8876 960.652 39.5012 960.652 Q38.8893 960.652 38.6316 960.394 Q38.3418 960.104 38.3096 959.782 Q38.2451 959.46 38.2451 958.687 L38.2451 954.114 Q30.0971 952.568 27.9071 951.956 Q25.5882 951.248 23.978 950.153 Q22.3355 949.058 21.5625 947.834 Q20.7896 946.61 20.4997 945.612 Q20.1777 944.581 20.1777 943.583 Q20.1777 941.328 21.4015 939.589 Q22.5931 937.85 24.7187 937.85 Z\" fill=\"#000000\" fill-rule=\"nonzero\" fill-opacity=\"1\" /><path clip-path=\"url(#clip530)\" d=\"M50.1935 928.97 Q39.0503 928.97 30.0649 924.815 Q26.2968 923.044 23.1406 920.564 Q19.9844 918.084 18.5996 916.442 Q17.2147 914.799 17.2147 914.348 Q17.2147 913.704 17.8588 913.672 Q18.1809 913.672 18.986 914.542 Q29.8072 925.17 50.1935 925.137 Q70.6442 925.137 81.0467 914.799 Q82.1739 913.672 82.5282 913.672 Q83.1723 913.672 83.1723 914.348 Q83.1723 914.799 81.8519 916.377 Q80.5314 917.956 77.5041 920.403 Q74.4767 922.851 70.7731 924.622 Q61.7876 928.97 50.1935 928.97 Z\" fill=\"#000000\" fill-rule=\"nonzero\" fill-opacity=\"1\" /><path clip-path=\"url(#clip530)\" d=\"M83.1723 902.322 L17.2147 902.322 L17.2147 892.371 L18.7284 892.371 L18.7284 897.91 L81.6586 897.91 L81.6586 892.371 L83.1723 892.371 L83.1723 902.322 Z\" fill=\"#000000\" fill-rule=\"nonzero\" fill-opacity=\"1\" /><path clip-path=\"url(#clip530)\" d=\"M29.0343 887.34 L26.9731 887.34 Q26.9731 879.418 22.7541 875.327 Q22.7541 874.2 23.0118 874.007 Q23.2694 873.814 24.461 873.814 L61.4656 873.814 Q63.4301 873.814 64.042 872.848 Q64.654 871.881 64.654 867.662 L64.654 865.569 L66.6829 865.569 Q66.4897 867.888 66.4897 876.261 Q66.4897 884.635 66.6829 886.922 L64.654 886.922 L64.654 884.828 Q64.654 880.674 64.0742 879.675 Q63.4623 878.677 61.4656 878.677 L27.2952 878.677 Q29.0343 882.123 29.0343 887.34 Z\" fill=\"#000000\" fill-rule=\"nonzero\" fill-opacity=\"1\" /><path clip-path=\"url(#clip530)\" d=\"M65.6201 860.428 Q64.5573 861.426 63.1725 861.426 Q61.7876 861.426 60.7893 860.428 Q59.7587 859.429 59.7587 857.916 Q59.7587 856.466 60.7248 855.5 Q61.6588 854.502 63.2047 854.502 Q64.7184 854.502 65.7167 855.565 Q66.6829 856.595 66.6829 857.916 Q66.6829 859.429 65.6201 860.428 Z\" fill=\"#000000\" fill-rule=\"nonzero\" fill-opacity=\"1\" /><path clip-path=\"url(#clip530)\" d=\"M45.5881 843.276 Q35.8941 843.276 30.6124 840.828 Q22.7541 837.414 22.7541 829.363 Q22.7541 827.656 23.2372 825.885 Q23.6881 824.081 25.4594 821.827 Q27.2307 819.54 30.1293 818.155 Q35.7331 815.515 45.5881 815.515 Q55.2176 815.515 60.4672 817.962 Q68.1322 821.537 68.1322 829.427 Q68.1322 832.39 66.6185 835.418 Q65.1048 838.413 61.4656 840.313 Q56.0228 843.276 45.5881 843.276 M44.7829 837.801 Q54.7345 837.801 58.6959 837.092 Q62.9792 836.287 64.8472 834.097 Q66.6829 831.875 66.6829 829.427 Q66.6829 826.787 64.7184 824.597 Q62.7216 822.374 58.4382 821.698 Q54.2193 820.957 44.7829 820.99 Q35.6043 820.99 31.9328 821.634 Q27.6494 822.503 25.9425 824.822 Q24.2034 827.109 24.2034 829.427 Q24.2034 830.297 24.461 831.231 Q24.7187 832.133 25.4594 833.453 Q26.2002 834.774 28.0359 835.804 Q29.8716 836.803 32.6413 837.286 Q36.2162 837.801 44.7829 837.801 Z\" fill=\"#000000\" fill-rule=\"nonzero\" fill-opacity=\"1\" /><path clip-path=\"url(#clip530)\" d=\"M65.6201 809.678 Q64.5573 810.612 63.1725 810.612 Q61.7876 810.612 60.757 809.71 Q59.6943 808.776 59.6943 807.101 Q59.6943 805.137 61.5944 804.01 Q63.4623 802.882 66.6185 802.882 Q70.0323 802.882 73.1885 804.267 Q76.3769 805.652 77.8906 807.005 Q79.4042 808.357 79.4042 808.905 Q79.4042 809.549 78.6957 809.549 Q78.4381 809.549 77.955 809.098 Q72.8664 804.364 66.6185 804.332 Q65.6201 804.332 65.6201 804.461 L65.749 804.622 Q66.6829 805.749 66.6829 807.101 Q66.6829 808.744 65.6201 809.678 Z\" fill=\"#000000\" fill-rule=\"nonzero\" fill-opacity=\"1\" /><path clip-path=\"url(#clip530)\" d=\"M38.1807 754.112 Q38.4062 754.112 39.3724 754.66 Q40.3063 755.175 42.6574 757.075 Q45.0084 758.975 47.7459 761.809 Q48.8087 762.872 50.2901 764.482 Q51.7716 766.093 52.7378 767.188 L53.704 768.283 Q57.2466 772.469 61.2079 776.141 Q61.1113 775.883 61.0791 775.432 Q61.0147 774.982 61.0147 774.659 L61.0147 774.337 Q61.0147 772.663 62.1419 769.732 Q62.9792 767.156 62.9792 765.835 Q62.9792 764.547 62.5284 763.13 Q62.0775 761.713 60.757 760.167 Q59.4366 758.621 57.4398 757.912 Q57.1178 757.784 57.0212 757.719 Q56.8923 757.655 56.7635 757.462 Q56.6025 757.268 56.6025 757.011 Q56.6025 756.656 56.7957 756.431 Q56.989 756.206 57.2466 756.206 Q57.8263 756.206 58.9857 756.656 Q60.1451 757.075 61.5944 758.009 Q63.0437 758.911 64.3641 760.102 Q65.6523 761.262 66.5541 763.001 Q67.4237 764.74 67.4237 766.576 Q67.4237 767.896 66.7795 768.862 Q66.1676 769.829 64.976 770.795 Q63.4623 772.115 62.9792 772.824 Q62.464 773.532 62.464 774.627 Q62.464 777.558 66.5541 780.231 Q67.1338 780.521 67.2626 780.714 Q67.4237 780.875 67.4237 781.262 Q67.3915 782.067 66.7473 782.067 Q66.4897 782.067 65.3625 781.358 Q64.2031 780.618 62.1741 778.975 Q60.1451 777.3 58.1162 775.271 L52.5768 769.346 Q47.0373 762.776 43.9134 760.167 Q43.9134 761.262 43.8812 761.745 Q43.849 762.196 43.6557 763.098 Q43.4303 763.999 42.9472 765.255 Q41.9488 768.186 41.9488 769.41 Q41.9488 769.732 41.981 770.086 Q42.0132 770.441 42.1743 771.246 Q42.3353 772.019 42.6574 772.663 Q42.9472 773.307 43.5913 773.983 Q44.2032 774.659 45.0406 775.014 Q45.2982 775.11 45.4271 775.175 Q45.5559 775.239 45.6847 775.432 Q45.7813 775.593 45.7813 775.851 Q45.7813 776.238 45.5559 776.463 Q45.3304 776.656 45.0406 776.656 Q44.4609 776.656 43.2693 776.077 Q42.0776 775.497 40.7894 774.531 Q39.469 773.564 38.5028 771.986 Q37.5366 770.408 37.5366 768.669 Q37.5366 767.639 37.9875 766.769 Q38.4384 765.867 38.9215 765.416 Q39.3724 764.933 40.3707 764.128 Q41.1437 763.452 41.4657 763.13 Q41.7878 762.808 42.1421 762.164 Q42.4641 761.487 42.4641 760.747 Q42.4641 759.523 41.5301 758.396 Q40.564 757.268 38.2451 755.819 Q37.5366 755.433 37.5366 754.821 Q37.5366 754.112 38.1807 754.112 Z\" fill=\"#000000\" fill-rule=\"nonzero\" fill-opacity=\"1\" /><path clip-path=\"url(#clip530)\" d=\"M65.6201 750.765 Q64.5573 751.699 63.1725 751.699 Q61.7876 751.699 60.757 750.798 Q59.6943 749.864 59.6943 748.189 Q59.6943 746.224 61.5944 745.097 Q63.4623 743.97 66.6185 743.97 Q70.0323 743.97 73.1885 745.355 Q76.3769 746.74 77.8906 748.092 Q79.4042 749.445 79.4042 749.993 Q79.4042 750.637 78.6957 750.637 Q78.4381 750.637 77.955 750.186 Q72.8664 745.452 66.6185 745.419 Q65.6201 745.419 65.6201 745.548 L65.749 745.709 Q66.6829 746.836 66.6829 748.189 Q66.6829 749.832 65.6201 750.765 Z\" fill=\"#000000\" fill-rule=\"nonzero\" fill-opacity=\"1\" /><path clip-path=\"url(#clip530)\" d=\"M38.1807 695.2 Q38.4062 695.2 39.3724 695.747 Q40.3063 696.262 42.6574 698.163 Q45.0084 700.063 47.7459 702.897 Q48.8087 703.96 50.2901 705.57 Q51.7716 707.18 52.7378 708.275 L53.704 709.37 Q57.2466 713.557 61.2079 717.228 Q61.1113 716.971 61.0791 716.52 Q61.0147 716.069 61.0147 715.747 L61.0147 715.425 Q61.0147 713.75 62.1419 710.82 Q62.9792 708.243 62.9792 706.923 Q62.9792 705.634 62.5284 704.217 Q62.0775 702.8 60.757 701.254 Q59.4366 699.709 57.4398 699 Q57.1178 698.871 57.0212 698.807 Q56.8923 698.742 56.7635 698.549 Q56.6025 698.356 56.6025 698.098 Q56.6025 697.744 56.7957 697.519 Q56.989 697.293 57.2466 697.293 Q57.8263 697.293 58.9857 697.744 Q60.1451 698.163 61.5944 699.097 Q63.0437 699.998 64.3641 701.19 Q65.6523 702.349 66.5541 704.089 Q67.4237 705.828 67.4237 707.663 Q67.4237 708.984 66.7795 709.95 Q66.1676 710.916 64.976 711.882 Q63.4623 713.203 62.9792 713.911 Q62.464 714.62 62.464 715.715 Q62.464 718.646 66.5541 721.319 Q67.1338 721.608 67.2626 721.802 Q67.4237 721.963 67.4237 722.349 Q67.3915 723.154 66.7473 723.154 Q66.4897 723.154 65.3625 722.446 Q64.2031 721.705 62.1741 720.063 Q60.1451 718.388 58.1162 716.359 L52.5768 710.433 Q47.0373 703.863 43.9134 701.254 Q43.9134 702.349 43.8812 702.832 Q43.849 703.283 43.6557 704.185 Q43.4303 705.087 42.9472 706.343 Q41.9488 709.274 41.9488 710.497 Q41.9488 710.82 41.981 711.174 Q42.0132 711.528 42.1743 712.333 Q42.3353 713.106 42.6574 713.75 Q42.9472 714.394 43.5913 715.071 Q44.2032 715.747 45.0406 716.101 Q45.2982 716.198 45.4271 716.262 Q45.5559 716.327 45.6847 716.52 Q45.7813 716.681 45.7813 716.939 Q45.7813 717.325 45.5559 717.551 Q45.3304 717.744 45.0406 717.744 Q44.4609 717.744 43.2693 717.164 Q42.0776 716.584 40.7894 715.618 Q39.469 714.652 38.5028 713.074 Q37.5366 711.496 37.5366 709.757 Q37.5366 708.726 37.9875 707.857 Q38.4384 706.955 38.9215 706.504 Q39.3724 706.021 40.3707 705.216 Q41.1437 704.539 41.4657 704.217 Q41.7878 703.895 42.1421 703.251 Q42.4641 702.575 42.4641 701.834 Q42.4641 700.61 41.5301 699.483 Q40.564 698.356 38.2451 696.907 Q37.5366 696.52 37.5366 695.908 Q37.5366 695.2 38.1807 695.2 Z\" fill=\"#000000\" fill-rule=\"nonzero\" fill-opacity=\"1\" /><path clip-path=\"url(#clip530)\" d=\"M46.9462 688.427 Q46.1121 688.427 45.8641 688.359 Q45.6161 688.269 45.2329 687.908 L35.3585 679.049 Q29.9029 674.202 25.1461 674.202 Q22.0575 674.202 19.8482 675.825 Q17.6389 677.425 17.6389 680.379 Q17.6389 682.408 18.8788 684.121 Q20.1187 685.834 22.328 686.623 Q22.283 686.488 22.283 686.015 Q22.283 684.865 23.0044 684.234 Q23.7258 683.58 24.6952 683.58 Q25.9351 683.58 26.5438 684.391 Q27.1299 685.181 27.1299 685.97 Q27.1299 686.285 27.0623 686.714 Q26.9947 687.119 26.3634 687.773 Q25.7097 688.427 24.5599 688.427 Q21.3361 688.427 18.7661 685.992 Q16.196 683.535 16.196 679.792 Q16.196 675.554 18.721 672.781 Q21.2234 669.986 25.1461 669.986 Q26.5212 669.986 27.7837 670.414 Q29.0236 670.82 29.993 671.384 Q30.9624 671.925 32.518 673.412 Q34.0735 674.9 35.1782 676.095 Q36.2828 677.29 38.6274 679.973 L43.3842 684.865 L43.3842 676.546 Q43.3842 672.488 43.0235 672.173 Q42.3698 671.722 38.9205 671.158 L38.9205 669.986 L46.9462 671.293 L46.9462 688.427 Z\" fill=\"#000000\" fill-rule=\"nonzero\" fill-opacity=\"1\" /><path clip-path=\"url(#clip530)\" d=\"M81.6586 663.132 L81.6586 657.593 L18.7284 657.593 L18.7284 663.132 L17.2147 663.132 L17.2147 653.181 L83.1723 653.181 L83.1723 663.132 L81.6586 663.132 Z\" fill=\"#000000\" fill-rule=\"nonzero\" fill-opacity=\"1\" /><path clip-path=\"url(#clip530)\" d=\"M82.5282 642.87 Q82.2061 642.87 81.401 642.033 Q70.5798 631.405 50.1935 631.405 Q29.7428 631.405 19.4047 641.614 Q18.2131 642.87 17.8588 642.87 Q17.2147 642.87 17.2147 642.226 Q17.2147 641.775 18.5352 640.197 Q19.8556 638.587 22.883 636.171 Q25.9103 633.723 29.614 631.92 Q38.5994 627.572 50.1935 627.572 Q61.3368 627.572 70.3222 631.727 Q74.0903 633.498 77.2464 635.978 Q80.4026 638.458 81.7875 640.1 Q83.1723 641.743 83.1723 642.226 Q83.1723 642.87 82.5282 642.87 Z\" fill=\"#000000\" fill-rule=\"nonzero\" fill-opacity=\"1\" /><path clip-path=\"url(#clip530)\" d=\"M50.9987 597.726 Q50.9987 599.24 50.1935 599.24 Q49.3884 599.24 49.3884 597.662 Q49.3884 597.469 49.4206 597.147 Q49.4528 596.792 49.4528 596.728 L49.4528 578.145 L30.8056 578.145 Q30.7412 578.145 30.4513 578.177 Q30.1293 578.209 29.936 578.209 Q28.3579 578.209 28.3579 577.437 Q28.3579 576.631 29.936 576.631 L49.4528 576.631 L49.4528 558.016 Q49.4528 557.952 49.4206 557.63 Q49.3884 557.308 49.3884 557.115 Q49.3884 555.601 50.1935 555.601 Q50.9987 555.569 50.9987 557.179 Q50.9987 557.372 50.9665 557.662 Q50.9343 557.952 50.9343 558.016 L50.9343 576.631 L70.5154 576.631 Q72.0291 576.631 72.0291 577.437 Q72.0291 578.209 70.451 578.209 Q70.2578 578.209 69.9357 578.177 Q69.6459 578.145 69.5815 578.145 L50.9343 578.145 L50.9343 596.728 Q50.9343 596.792 50.9665 597.179 Q50.9987 597.533 50.9987 597.726 Z\" fill=\"#000000\" fill-rule=\"nonzero\" fill-opacity=\"1\" /><path clip-path=\"url(#clip530)\" d=\"M40.564 503.521 Q41.2403 503.521 41.7878 504.101 Q42.3353 504.648 42.3353 505.324 Q42.3353 505.711 41.6912 506.645 Q39.8232 509.318 39.8232 512.7 Q39.8232 515.727 40.564 518.529 Q41.3047 521.331 42.8184 523.231 Q44.2998 525.099 46.2322 525.099 Q48.6476 525.099 50.0647 522.458 Q48.8087 519.721 48.8087 516.339 Q48.8087 515.244 48.8731 514.503 Q48.9375 513.73 49.0985 512.989 Q49.2596 512.249 49.646 511.894 Q50.0003 511.508 50.58 511.508 Q52.6412 511.508 52.6412 516.854 Q52.6412 520.332 51.7072 522.522 Q53.092 525.324 55.3143 526.87 Q57.5365 528.416 59.4366 528.416 Q61.0791 528.416 62.2707 527.514 Q63.4623 526.58 64.042 525.067 Q64.6217 523.521 64.8794 522.007 Q65.1048 520.461 65.1048 518.754 Q65.1048 515.952 64.7506 513.988 Q64.3641 511.991 63.6556 510.896 Q62.947 509.769 62.464 509.318 Q61.9487 508.835 61.1435 508.352 Q60.6926 508.062 60.6926 507.676 Q60.6926 507.386 60.8859 507.192 Q61.0469 506.967 61.3368 506.967 Q61.691 506.967 62.4317 507.418 Q63.1725 507.837 64.1709 508.867 Q65.137 509.866 66.0388 511.25 Q66.9084 512.603 67.5203 514.761 Q68.1322 516.919 68.1322 519.366 Q68.1322 524.358 65.6845 527.257 Q63.2369 530.123 59.8231 530.123 Q57.4398 530.123 54.9922 528.545 Q52.5123 526.935 50.9343 524.101 Q48.9697 526.741 46.2322 526.741 Q43.7846 526.741 41.5946 524.68 Q39.4046 522.587 38.1163 519.205 Q36.7959 515.791 36.7959 512.056 Q36.7959 509.962 37.5044 507.901 Q38.1807 505.84 39.0503 504.68 Q39.9199 503.521 40.564 503.521 M50.6444 513.215 Q50.2579 514.632 50.2579 516.339 Q50.2579 518.658 50.8376 520.365 Q51.1919 518.98 51.1919 516.854 Q51.1919 515.083 51.0953 514.568 Q50.9987 514.02 50.6444 513.215 Z\" fill=\"#000000\" fill-rule=\"nonzero\" fill-opacity=\"1\" /><circle clip-path=\"url(#clip532)\" cx=\"2282.17\" cy=\"172.816\" r=\"14.4\" fill=\"#009af9\" fill-rule=\"evenodd\" fill-opacity=\"1\" stroke=\"#000000\" stroke-opacity=\"1\" stroke-width=\"3.2\"/>\n",
       "<circle clip-path=\"url(#clip532)\" cx=\"886.183\" cy=\"1056.04\" r=\"14.4\" fill=\"#009af9\" fill-rule=\"evenodd\" fill-opacity=\"1\" stroke=\"#000000\" stroke-opacity=\"1\" stroke-width=\"3.2\"/>\n",
       "<circle clip-path=\"url(#clip532)\" cx=\"916.769\" cy=\"1160.98\" r=\"14.4\" fill=\"#009af9\" fill-rule=\"evenodd\" fill-opacity=\"1\" stroke=\"#000000\" stroke-opacity=\"1\" stroke-width=\"3.2\"/>\n",
       "<circle clip-path=\"url(#clip532)\" cx=\"368.879\" cy=\"1319.96\" r=\"14.4\" fill=\"#009af9\" fill-rule=\"evenodd\" fill-opacity=\"1\" stroke=\"#000000\" stroke-opacity=\"1\" stroke-width=\"3.2\"/>\n",
       "<circle clip-path=\"url(#clip532)\" cx=\"2000.36\" cy=\"462.163\" r=\"14.4\" fill=\"#009af9\" fill-rule=\"evenodd\" fill-opacity=\"1\" stroke=\"#000000\" stroke-opacity=\"1\" stroke-width=\"3.2\"/>\n",
       "<circle clip-path=\"url(#clip532)\" cx=\"265.903\" cy=\"1363.03\" r=\"14.4\" fill=\"#009af9\" fill-rule=\"evenodd\" fill-opacity=\"1\" stroke=\"#000000\" stroke-opacity=\"1\" stroke-width=\"3.2\"/>\n",
       "<circle clip-path=\"url(#clip532)\" cx=\"697.133\" cy=\"1216.61\" r=\"14.4\" fill=\"#009af9\" fill-rule=\"evenodd\" fill-opacity=\"1\" stroke=\"#000000\" stroke-opacity=\"1\" stroke-width=\"3.2\"/>\n",
       "<circle clip-path=\"url(#clip532)\" cx=\"270.962\" cy=\"1285.46\" r=\"14.4\" fill=\"#009af9\" fill-rule=\"evenodd\" fill-opacity=\"1\" stroke=\"#000000\" stroke-opacity=\"1\" stroke-width=\"3.2\"/>\n",
       "<circle clip-path=\"url(#clip532)\" cx=\"1303.94\" cy=\"858.606\" r=\"14.4\" fill=\"#009af9\" fill-rule=\"evenodd\" fill-opacity=\"1\" stroke=\"#000000\" stroke-opacity=\"1\" stroke-width=\"3.2\"/>\n",
       "<circle clip-path=\"url(#clip532)\" cx=\"1455.29\" cy=\"870.741\" r=\"14.4\" fill=\"#009af9\" fill-rule=\"evenodd\" fill-opacity=\"1\" stroke=\"#000000\" stroke-opacity=\"1\" stroke-width=\"3.2\"/>\n",
       "<circle clip-path=\"url(#clip532)\" cx=\"1523.03\" cy=\"720.305\" r=\"14.4\" fill=\"#009af9\" fill-rule=\"evenodd\" fill-opacity=\"1\" stroke=\"#000000\" stroke-opacity=\"1\" stroke-width=\"3.2\"/>\n",
       "<circle clip-path=\"url(#clip532)\" cx=\"316.431\" cy=\"1335.64\" r=\"14.4\" fill=\"#009af9\" fill-rule=\"evenodd\" fill-opacity=\"1\" stroke=\"#000000\" stroke-opacity=\"1\" stroke-width=\"3.2\"/>\n",
       "<circle clip-path=\"url(#clip532)\" cx=\"624.582\" cy=\"1170.22\" r=\"14.4\" fill=\"#009af9\" fill-rule=\"evenodd\" fill-opacity=\"1\" stroke=\"#000000\" stroke-opacity=\"1\" stroke-width=\"3.2\"/>\n",
       "<circle clip-path=\"url(#clip532)\" cx=\"2291.97\" cy=\"86.1857\" r=\"14.4\" fill=\"#009af9\" fill-rule=\"evenodd\" fill-opacity=\"1\" stroke=\"#000000\" stroke-opacity=\"1\" stroke-width=\"3.2\"/>\n",
       "<circle clip-path=\"url(#clip532)\" cx=\"1341.16\" cy=\"919.979\" r=\"14.4\" fill=\"#009af9\" fill-rule=\"evenodd\" fill-opacity=\"1\" stroke=\"#000000\" stroke-opacity=\"1\" stroke-width=\"3.2\"/>\n",
       "<circle clip-path=\"url(#clip532)\" cx=\"432.492\" cy=\"1263.68\" r=\"14.4\" fill=\"#009af9\" fill-rule=\"evenodd\" fill-opacity=\"1\" stroke=\"#000000\" stroke-opacity=\"1\" stroke-width=\"3.2\"/>\n",
       "<circle clip-path=\"url(#clip532)\" cx=\"1951.49\" cy=\"494.552\" r=\"14.4\" fill=\"#009af9\" fill-rule=\"evenodd\" fill-opacity=\"1\" stroke=\"#000000\" stroke-opacity=\"1\" stroke-width=\"3.2\"/>\n",
       "<circle clip-path=\"url(#clip532)\" cx=\"343.518\" cy=\"1384.24\" r=\"14.4\" fill=\"#009af9\" fill-rule=\"evenodd\" fill-opacity=\"1\" stroke=\"#000000\" stroke-opacity=\"1\" stroke-width=\"3.2\"/>\n",
       "<circle clip-path=\"url(#clip532)\" cx=\"2022.8\" cy=\"381.795\" r=\"14.4\" fill=\"#009af9\" fill-rule=\"evenodd\" fill-opacity=\"1\" stroke=\"#000000\" stroke-opacity=\"1\" stroke-width=\"3.2\"/>\n",
       "<circle clip-path=\"url(#clip532)\" cx=\"1610.69\" cy=\"719.829\" r=\"14.4\" fill=\"#009af9\" fill-rule=\"evenodd\" fill-opacity=\"1\" stroke=\"#000000\" stroke-opacity=\"1\" stroke-width=\"3.2\"/>\n",
       "<circle clip-path=\"url(#clip532)\" cx=\"2274.85\" cy=\"182.267\" r=\"14.4\" fill=\"#009af9\" fill-rule=\"evenodd\" fill-opacity=\"1\" stroke=\"#000000\" stroke-opacity=\"1\" stroke-width=\"3.2\"/>\n",
       "<circle clip-path=\"url(#clip532)\" cx=\"862.212\" cy=\"1133.82\" r=\"14.4\" fill=\"#009af9\" fill-rule=\"evenodd\" fill-opacity=\"1\" stroke=\"#000000\" stroke-opacity=\"1\" stroke-width=\"3.2\"/>\n",
       "<circle clip-path=\"url(#clip532)\" cx=\"681.243\" cy=\"1202.62\" r=\"14.4\" fill=\"#009af9\" fill-rule=\"evenodd\" fill-opacity=\"1\" stroke=\"#000000\" stroke-opacity=\"1\" stroke-width=\"3.2\"/>\n",
       "<circle clip-path=\"url(#clip532)\" cx=\"1756.58\" cy=\"662.854\" r=\"14.4\" fill=\"#009af9\" fill-rule=\"evenodd\" fill-opacity=\"1\" stroke=\"#000000\" stroke-opacity=\"1\" stroke-width=\"3.2\"/>\n",
       "<circle clip-path=\"url(#clip532)\" cx=\"572.098\" cy=\"1232.69\" r=\"14.4\" fill=\"#009af9\" fill-rule=\"evenodd\" fill-opacity=\"1\" stroke=\"#000000\" stroke-opacity=\"1\" stroke-width=\"3.2\"/>\n",
       "<circle clip-path=\"url(#clip532)\" cx=\"387.607\" cy=\"1274.25\" r=\"14.4\" fill=\"#009af9\" fill-rule=\"evenodd\" fill-opacity=\"1\" stroke=\"#000000\" stroke-opacity=\"1\" stroke-width=\"3.2\"/>\n",
       "<circle clip-path=\"url(#clip532)\" cx=\"960.803\" cy=\"1120.09\" r=\"14.4\" fill=\"#009af9\" fill-rule=\"evenodd\" fill-opacity=\"1\" stroke=\"#000000\" stroke-opacity=\"1\" stroke-width=\"3.2\"/>\n",
       "<circle clip-path=\"url(#clip532)\" cx=\"869.939\" cy=\"1073.23\" r=\"14.4\" fill=\"#009af9\" fill-rule=\"evenodd\" fill-opacity=\"1\" stroke=\"#000000\" stroke-opacity=\"1\" stroke-width=\"3.2\"/>\n",
       "<circle clip-path=\"url(#clip532)\" cx=\"844.201\" cy=\"1167.31\" r=\"14.4\" fill=\"#009af9\" fill-rule=\"evenodd\" fill-opacity=\"1\" stroke=\"#000000\" stroke-opacity=\"1\" stroke-width=\"3.2\"/>\n",
       "<circle clip-path=\"url(#clip532)\" cx=\"1526.22\" cy=\"714.519\" r=\"14.4\" fill=\"#009af9\" fill-rule=\"evenodd\" fill-opacity=\"1\" stroke=\"#000000\" stroke-opacity=\"1\" stroke-width=\"3.2\"/>\n",
       "<path clip-path=\"url(#clip530)\" d=\"M276.709 196.789 L591.333 196.789 L591.333 93.1086 L276.709 93.1086  Z\" fill=\"#ffffff\" fill-rule=\"evenodd\" fill-opacity=\"1\"/>\n",
       "<polyline clip-path=\"url(#clip530)\" style=\"stroke:#000000; stroke-linecap:round; stroke-linejoin:round; stroke-width:4; stroke-opacity:1; fill:none\" points=\"276.709,196.789 591.333,196.789 591.333,93.1086 276.709,93.1086 276.709,196.789 \"/>\n",
       "<circle clip-path=\"url(#clip530)\" cx=\"372.159\" cy=\"144.949\" r=\"20.48\" fill=\"#009af9\" fill-rule=\"evenodd\" fill-opacity=\"1\" stroke=\"#000000\" stroke-opacity=\"1\" stroke-width=\"4.55111\"/>\n",
       "<path clip-path=\"url(#clip530)\" d=\"M486.522 140.238 L486.522 126.21 L490.781 126.21 L490.781 162.229 L486.522 162.229 L486.522 158.34 Q485.179 160.655 483.119 161.789 Q481.082 162.9 478.211 162.9 Q473.512 162.9 470.549 159.15 Q467.61 155.4 467.61 149.289 Q467.61 143.178 470.549 139.428 Q473.512 135.678 478.211 135.678 Q481.082 135.678 483.119 136.812 Q485.179 137.923 486.522 140.238 M472.008 149.289 Q472.008 153.988 473.929 156.673 Q475.874 159.335 479.253 159.335 Q482.633 159.335 484.577 156.673 Q486.522 153.988 486.522 149.289 Q486.522 144.59 484.577 141.928 Q482.633 139.243 479.253 139.243 Q475.874 139.243 473.929 141.928 Q472.008 144.59 472.008 149.289 Z\" fill=\"#000000\" fill-rule=\"nonzero\" fill-opacity=\"1\" /><path clip-path=\"url(#clip530)\" d=\"M511.336 149.196 Q506.174 149.196 504.184 150.377 Q502.193 151.557 502.193 154.405 Q502.193 156.673 503.674 158.016 Q505.179 159.335 507.748 159.335 Q511.29 159.335 513.42 156.835 Q515.572 154.312 515.572 150.145 L515.572 149.196 L511.336 149.196 M519.832 147.437 L519.832 162.229 L515.572 162.229 L515.572 158.293 Q514.114 160.655 511.938 161.789 Q509.762 162.9 506.614 162.9 Q502.633 162.9 500.272 160.678 Q497.934 158.432 497.934 154.682 Q497.934 150.307 500.85 148.085 Q503.79 145.863 509.6 145.863 L515.572 145.863 L515.572 145.446 Q515.572 142.507 513.628 140.909 Q511.707 139.289 508.211 139.289 Q505.989 139.289 503.883 139.821 Q501.776 140.354 499.832 141.419 L499.832 137.483 Q502.17 136.581 504.369 136.141 Q506.568 135.678 508.651 135.678 Q514.276 135.678 517.054 138.594 Q519.832 141.511 519.832 147.437 Z\" fill=\"#000000\" fill-rule=\"nonzero\" fill-opacity=\"1\" /><path clip-path=\"url(#clip530)\" d=\"M532.818 128.942 L532.818 136.303 L541.591 136.303 L541.591 139.613 L532.818 139.613 L532.818 153.687 Q532.818 156.858 533.674 157.761 Q534.554 158.664 537.216 158.664 L541.591 158.664 L541.591 162.229 L537.216 162.229 Q532.285 162.229 530.41 160.4 Q528.535 158.548 528.535 153.687 L528.535 139.613 L525.41 139.613 L525.41 136.303 L528.535 136.303 L528.535 128.942 L532.818 128.942 Z\" fill=\"#000000\" fill-rule=\"nonzero\" fill-opacity=\"1\" /><path clip-path=\"url(#clip530)\" d=\"M558.975 149.196 Q553.813 149.196 551.822 150.377 Q549.831 151.557 549.831 154.405 Q549.831 156.673 551.313 158.016 Q552.818 159.335 555.387 159.335 Q558.929 159.335 561.058 156.835 Q563.211 154.312 563.211 150.145 L563.211 149.196 L558.975 149.196 M567.47 147.437 L567.47 162.229 L563.211 162.229 L563.211 158.293 Q561.753 160.655 559.577 161.789 Q557.401 162.9 554.253 162.9 Q550.271 162.9 547.91 160.678 Q545.572 158.432 545.572 154.682 Q545.572 150.307 548.489 148.085 Q551.429 145.863 557.239 145.863 L563.211 145.863 L563.211 145.446 Q563.211 142.507 561.267 140.909 Q559.345 139.289 555.85 139.289 Q553.628 139.289 551.521 139.821 Q549.415 140.354 547.47 141.419 L547.47 137.483 Q549.808 136.581 552.007 136.141 Q554.206 135.678 556.29 135.678 Q561.915 135.678 564.693 138.594 Q567.47 141.511 567.47 147.437 Z\" fill=\"#000000\" fill-rule=\"nonzero\" fill-opacity=\"1\" /></svg>\n"
      ],
      "text/html": [
       "<?xml version=\"1.0\" encoding=\"utf-8\"?>\n",
       "<svg xmlns=\"http://www.w3.org/2000/svg\" xmlns:xlink=\"http://www.w3.org/1999/xlink\" width=\"600\" height=\"400\" viewBox=\"0 0 2400 1600\">\n",
       "<defs>\n",
       "  <clipPath id=\"clip580\">\n",
       "    <rect x=\"0\" y=\"0\" width=\"2400\" height=\"1600\"/>\n",
       "  </clipPath>\n",
       "</defs>\n",
       "<path clip-path=\"url(#clip580)\" d=\"M0 1600 L2400 1600 L2400 0 L0 0  Z\" fill=\"#ffffff\" fill-rule=\"evenodd\" fill-opacity=\"1\"/>\n",
       "<defs>\n",
       "  <clipPath id=\"clip581\">\n",
       "    <rect x=\"480\" y=\"0\" width=\"1681\" height=\"1600\"/>\n",
       "  </clipPath>\n",
       "</defs>\n",
       "<path clip-path=\"url(#clip580)\" d=\"M205.121 1423.18 L2352.76 1423.18 L2352.76 47.2441 L205.121 47.2441  Z\" fill=\"#ffffff\" fill-rule=\"evenodd\" fill-opacity=\"1\"/>\n",
       "<defs>\n",
       "  <clipPath id=\"clip582\">\n",
       "    <rect x=\"205\" y=\"47\" width=\"2149\" height=\"1377\"/>\n",
       "  </clipPath>\n",
       "</defs>\n",
       "<polyline clip-path=\"url(#clip582)\" style=\"stroke:#000000; stroke-linecap:round; stroke-linejoin:round; stroke-width:2; stroke-opacity:0.1; fill:none\" points=\"256.81,1423.18 256.81,47.2441 \"/>\n",
       "<polyline clip-path=\"url(#clip582)\" style=\"stroke:#000000; stroke-linecap:round; stroke-linejoin:round; stroke-width:2; stroke-opacity:0.1; fill:none\" points=\"701.188,1423.18 701.188,47.2441 \"/>\n",
       "<polyline clip-path=\"url(#clip582)\" style=\"stroke:#000000; stroke-linecap:round; stroke-linejoin:round; stroke-width:2; stroke-opacity:0.1; fill:none\" points=\"1145.57,1423.18 1145.57,47.2441 \"/>\n",
       "<polyline clip-path=\"url(#clip582)\" style=\"stroke:#000000; stroke-linecap:round; stroke-linejoin:round; stroke-width:2; stroke-opacity:0.1; fill:none\" points=\"1589.94,1423.18 1589.94,47.2441 \"/>\n",
       "<polyline clip-path=\"url(#clip582)\" style=\"stroke:#000000; stroke-linecap:round; stroke-linejoin:round; stroke-width:2; stroke-opacity:0.1; fill:none\" points=\"2034.32,1423.18 2034.32,47.2441 \"/>\n",
       "<polyline clip-path=\"url(#clip580)\" style=\"stroke:#000000; stroke-linecap:round; stroke-linejoin:round; stroke-width:4; stroke-opacity:1; fill:none\" points=\"205.121,1423.18 2352.76,1423.18 \"/>\n",
       "<polyline clip-path=\"url(#clip580)\" style=\"stroke:#000000; stroke-linecap:round; stroke-linejoin:round; stroke-width:4; stroke-opacity:1; fill:none\" points=\"256.81,1423.18 256.81,1404.28 \"/>\n",
       "<polyline clip-path=\"url(#clip580)\" style=\"stroke:#000000; stroke-linecap:round; stroke-linejoin:round; stroke-width:4; stroke-opacity:1; fill:none\" points=\"701.188,1423.18 701.188,1404.28 \"/>\n",
       "<polyline clip-path=\"url(#clip580)\" style=\"stroke:#000000; stroke-linecap:round; stroke-linejoin:round; stroke-width:4; stroke-opacity:1; fill:none\" points=\"1145.57,1423.18 1145.57,1404.28 \"/>\n",
       "<polyline clip-path=\"url(#clip580)\" style=\"stroke:#000000; stroke-linecap:round; stroke-linejoin:round; stroke-width:4; stroke-opacity:1; fill:none\" points=\"1589.94,1423.18 1589.94,1404.28 \"/>\n",
       "<polyline clip-path=\"url(#clip580)\" style=\"stroke:#000000; stroke-linecap:round; stroke-linejoin:round; stroke-width:4; stroke-opacity:1; fill:none\" points=\"2034.32,1423.18 2034.32,1404.28 \"/>\n",
       "<path clip-path=\"url(#clip580)\" d=\"M256.81 1454.1 Q253.199 1454.1 251.371 1457.66 Q249.565 1461.2 249.565 1468.33 Q249.565 1475.44 251.371 1479.01 Q253.199 1482.55 256.81 1482.55 Q260.445 1482.55 262.25 1479.01 Q264.079 1475.44 264.079 1468.33 Q264.079 1461.2 262.25 1457.66 Q260.445 1454.1 256.81 1454.1 M256.81 1450.39 Q262.621 1450.39 265.676 1455 Q268.755 1459.58 268.755 1468.33 Q268.755 1477.06 265.676 1481.67 Q262.621 1486.25 256.81 1486.25 Q251 1486.25 247.922 1481.67 Q244.866 1477.06 244.866 1468.33 Q244.866 1459.58 247.922 1455 Q251 1450.39 256.81 1450.39 Z\" fill=\"#000000\" fill-rule=\"nonzero\" fill-opacity=\"1\" /><path clip-path=\"url(#clip580)\" d=\"M695.841 1481.64 L712.16 1481.64 L712.16 1485.58 L690.216 1485.58 L690.216 1481.64 Q692.878 1478.89 697.461 1474.26 Q702.068 1469.61 703.248 1468.27 Q705.494 1465.74 706.373 1464.01 Q707.276 1462.25 707.276 1460.56 Q707.276 1457.8 705.332 1456.07 Q703.41 1454.33 700.308 1454.33 Q698.109 1454.33 695.656 1455.09 Q693.225 1455.86 690.447 1457.41 L690.447 1452.69 Q693.271 1451.55 695.725 1450.97 Q698.179 1450.39 700.216 1450.39 Q705.586 1450.39 708.781 1453.08 Q711.975 1455.77 711.975 1460.26 Q711.975 1462.39 711.165 1464.31 Q710.378 1466.2 708.271 1468.8 Q707.693 1469.47 704.591 1472.69 Q701.489 1475.88 695.841 1481.64 Z\" fill=\"#000000\" fill-rule=\"nonzero\" fill-opacity=\"1\" /><path clip-path=\"url(#clip580)\" d=\"M1148.57 1455.09 L1136.77 1473.54 L1148.57 1473.54 L1148.57 1455.09 M1147.35 1451.02 L1153.23 1451.02 L1153.23 1473.54 L1158.16 1473.54 L1158.16 1477.43 L1153.23 1477.43 L1153.23 1485.58 L1148.57 1485.58 L1148.57 1477.43 L1132.97 1477.43 L1132.97 1472.92 L1147.35 1451.02 Z\" fill=\"#000000\" fill-rule=\"nonzero\" fill-opacity=\"1\" /><path clip-path=\"url(#clip580)\" d=\"M1590.35 1466.44 Q1587.2 1466.44 1585.35 1468.59 Q1583.52 1470.74 1583.52 1474.49 Q1583.52 1478.22 1585.35 1480.39 Q1587.2 1482.55 1590.35 1482.55 Q1593.5 1482.55 1595.33 1480.39 Q1597.18 1478.22 1597.18 1474.49 Q1597.18 1470.74 1595.33 1468.59 Q1593.5 1466.44 1590.35 1466.44 M1599.63 1451.78 L1599.63 1456.04 Q1597.87 1455.21 1596.07 1454.77 Q1594.28 1454.33 1592.52 1454.33 Q1587.89 1454.33 1585.44 1457.45 Q1583.01 1460.58 1582.66 1466.9 Q1584.03 1464.89 1586.09 1463.82 Q1588.15 1462.73 1590.63 1462.73 Q1595.83 1462.73 1598.84 1465.9 Q1601.88 1469.05 1601.88 1474.49 Q1601.88 1479.82 1598.73 1483.03 Q1595.58 1486.25 1590.35 1486.25 Q1584.35 1486.25 1581.18 1481.67 Q1578.01 1477.06 1578.01 1468.33 Q1578.01 1460.14 1581.9 1455.28 Q1585.79 1450.39 1592.34 1450.39 Q1594.1 1450.39 1595.88 1450.74 Q1597.69 1451.09 1599.63 1451.78 Z\" fill=\"#000000\" fill-rule=\"nonzero\" fill-opacity=\"1\" /><path clip-path=\"url(#clip580)\" d=\"M2034.32 1469.17 Q2030.99 1469.17 2029.07 1470.95 Q2027.17 1472.73 2027.17 1475.86 Q2027.17 1478.98 2029.07 1480.77 Q2030.99 1482.55 2034.32 1482.55 Q2037.65 1482.55 2039.58 1480.77 Q2041.5 1478.96 2041.5 1475.86 Q2041.5 1472.73 2039.58 1470.95 Q2037.68 1469.17 2034.32 1469.17 M2029.65 1467.18 Q2026.64 1466.44 2024.95 1464.38 Q2023.28 1462.32 2023.28 1459.35 Q2023.28 1455.21 2026.22 1452.8 Q2029.18 1450.39 2034.32 1450.39 Q2039.48 1450.39 2042.42 1452.8 Q2045.36 1455.21 2045.36 1459.35 Q2045.36 1462.32 2043.67 1464.38 Q2042.01 1466.44 2039.02 1467.18 Q2042.4 1467.96 2044.27 1470.26 Q2046.17 1472.55 2046.17 1475.86 Q2046.17 1480.88 2043.09 1483.57 Q2040.04 1486.25 2034.32 1486.25 Q2028.6 1486.25 2025.52 1483.57 Q2022.47 1480.88 2022.47 1475.86 Q2022.47 1472.55 2024.37 1470.26 Q2026.27 1467.96 2029.65 1467.18 M2027.93 1459.79 Q2027.93 1462.48 2029.6 1463.98 Q2031.29 1465.49 2034.32 1465.49 Q2037.33 1465.49 2039.02 1463.98 Q2040.73 1462.48 2040.73 1459.79 Q2040.73 1457.11 2039.02 1455.6 Q2037.33 1454.1 2034.32 1454.1 Q2031.29 1454.1 2029.6 1455.6 Q2027.93 1457.11 2027.93 1459.79 Z\" fill=\"#000000\" fill-rule=\"nonzero\" fill-opacity=\"1\" /><path clip-path=\"url(#clip580)\" d=\"M1291.71 1525.1 Q1291.71 1525.33 1291.16 1526.29 Q1290.65 1527.23 1288.75 1529.58 Q1286.85 1531.93 1284.01 1534.67 Q1282.95 1535.73 1281.34 1537.21 Q1279.73 1538.69 1278.63 1539.66 L1277.54 1540.62 Q1273.35 1544.17 1269.68 1548.13 Q1269.94 1548.03 1270.39 1548 Q1270.84 1547.93 1271.16 1547.93 L1271.48 1547.93 Q1273.16 1547.93 1276.09 1549.06 Q1278.67 1549.9 1279.99 1549.9 Q1281.27 1549.9 1282.69 1549.45 Q1284.11 1549 1285.65 1547.68 Q1287.2 1546.36 1287.91 1544.36 Q1288.04 1544.04 1288.1 1543.94 Q1288.17 1543.81 1288.36 1543.68 Q1288.55 1543.52 1288.81 1543.52 Q1289.17 1543.52 1289.39 1543.71 Q1289.62 1543.91 1289.62 1544.17 Q1289.62 1544.75 1289.17 1545.9 Q1288.75 1547.06 1287.81 1548.51 Q1286.91 1549.96 1285.72 1551.28 Q1284.56 1552.57 1282.82 1553.47 Q1281.08 1554.34 1279.25 1554.34 Q1277.93 1554.34 1276.96 1553.7 Q1275.99 1553.09 1275.03 1551.9 Q1273.71 1550.38 1273 1549.9 Q1272.29 1549.38 1271.19 1549.38 Q1268.26 1549.38 1265.59 1553.47 Q1265.3 1554.05 1265.11 1554.18 Q1264.95 1554.34 1264.56 1554.34 Q1263.75 1554.31 1263.75 1553.67 Q1263.75 1553.41 1264.46 1552.28 Q1265.2 1551.12 1266.85 1549.09 Q1268.52 1547.06 1270.55 1545.04 L1276.48 1539.5 Q1283.05 1533.96 1285.65 1530.83 Q1284.56 1530.83 1284.08 1530.8 Q1283.63 1530.77 1282.72 1530.57 Q1281.82 1530.35 1280.57 1529.87 Q1277.64 1528.87 1276.41 1528.87 Q1276.09 1528.87 1275.74 1528.9 Q1275.38 1528.93 1274.58 1529.09 Q1273.8 1529.25 1273.16 1529.58 Q1272.51 1529.87 1271.84 1530.51 Q1271.16 1531.12 1270.81 1531.96 Q1270.71 1532.22 1270.65 1532.35 Q1270.58 1532.48 1270.39 1532.6 Q1270.23 1532.7 1269.97 1532.7 Q1269.58 1532.7 1269.36 1532.48 Q1269.17 1532.25 1269.17 1531.96 Q1269.17 1531.38 1269.75 1530.19 Q1270.32 1529 1271.29 1527.71 Q1272.26 1526.39 1273.84 1525.42 Q1275.41 1524.46 1277.15 1524.46 Q1278.18 1524.46 1279.05 1524.91 Q1279.95 1525.36 1280.41 1525.84 Q1280.89 1526.29 1281.69 1527.29 Q1282.37 1528.06 1282.69 1528.38 Q1283.01 1528.71 1283.66 1529.06 Q1284.33 1529.38 1285.08 1529.38 Q1286.3 1529.38 1287.43 1528.45 Q1288.55 1527.48 1290 1525.16 Q1290.39 1524.46 1291 1524.46 Q1291.71 1524.46 1291.71 1525.1 Z\" fill=\"#000000\" fill-rule=\"nonzero\" fill-opacity=\"1\" /><polyline clip-path=\"url(#clip582)\" style=\"stroke:#000000; stroke-linecap:round; stroke-linejoin:round; stroke-width:2; stroke-opacity:0.1; fill:none\" points=\"205.121,1393.5 2352.76,1393.5 \"/>\n",
       "<polyline clip-path=\"url(#clip582)\" style=\"stroke:#000000; stroke-linecap:round; stroke-linejoin:round; stroke-width:2; stroke-opacity:0.1; fill:none\" points=\"205.121,1093.41 2352.76,1093.41 \"/>\n",
       "<polyline clip-path=\"url(#clip582)\" style=\"stroke:#000000; stroke-linecap:round; stroke-linejoin:round; stroke-width:2; stroke-opacity:0.1; fill:none\" points=\"205.121,793.323 2352.76,793.323 \"/>\n",
       "<polyline clip-path=\"url(#clip582)\" style=\"stroke:#000000; stroke-linecap:round; stroke-linejoin:round; stroke-width:2; stroke-opacity:0.1; fill:none\" points=\"205.121,493.233 2352.76,493.233 \"/>\n",
       "<polyline clip-path=\"url(#clip582)\" style=\"stroke:#000000; stroke-linecap:round; stroke-linejoin:round; stroke-width:2; stroke-opacity:0.1; fill:none\" points=\"205.121,193.144 2352.76,193.144 \"/>\n",
       "<polyline clip-path=\"url(#clip580)\" style=\"stroke:#000000; stroke-linecap:round; stroke-linejoin:round; stroke-width:4; stroke-opacity:1; fill:none\" points=\"205.121,1423.18 205.121,47.2441 \"/>\n",
       "<polyline clip-path=\"url(#clip580)\" style=\"stroke:#000000; stroke-linecap:round; stroke-linejoin:round; stroke-width:4; stroke-opacity:1; fill:none\" points=\"205.121,1393.5 224.019,1393.5 \"/>\n",
       "<polyline clip-path=\"url(#clip580)\" style=\"stroke:#000000; stroke-linecap:round; stroke-linejoin:round; stroke-width:4; stroke-opacity:1; fill:none\" points=\"205.121,1093.41 224.019,1093.41 \"/>\n",
       "<polyline clip-path=\"url(#clip580)\" style=\"stroke:#000000; stroke-linecap:round; stroke-linejoin:round; stroke-width:4; stroke-opacity:1; fill:none\" points=\"205.121,793.323 224.019,793.323 \"/>\n",
       "<polyline clip-path=\"url(#clip580)\" style=\"stroke:#000000; stroke-linecap:round; stroke-linejoin:round; stroke-width:4; stroke-opacity:1; fill:none\" points=\"205.121,493.233 224.019,493.233 \"/>\n",
       "<polyline clip-path=\"url(#clip580)\" style=\"stroke:#000000; stroke-linecap:round; stroke-linejoin:round; stroke-width:4; stroke-opacity:1; fill:none\" points=\"205.121,193.144 224.019,193.144 \"/>\n",
       "<path clip-path=\"url(#clip580)\" d=\"M157.177 1379.3 Q153.566 1379.3 151.737 1382.87 Q149.931 1386.41 149.931 1393.54 Q149.931 1400.64 151.737 1404.21 Q153.566 1407.75 157.177 1407.75 Q160.811 1407.75 162.616 1404.21 Q164.445 1400.64 164.445 1393.54 Q164.445 1386.41 162.616 1382.87 Q160.811 1379.3 157.177 1379.3 M157.177 1375.6 Q162.987 1375.6 166.042 1380.2 Q169.121 1384.79 169.121 1393.54 Q169.121 1402.26 166.042 1406.87 Q162.987 1411.45 157.177 1411.45 Q151.366 1411.45 148.288 1406.87 Q145.232 1402.26 145.232 1393.54 Q145.232 1384.79 148.288 1380.2 Q151.366 1375.6 157.177 1375.6 Z\" fill=\"#000000\" fill-rule=\"nonzero\" fill-opacity=\"1\" /><path clip-path=\"url(#clip580)\" d=\"M117.825 1106.76 L125.464 1106.76 L125.464 1080.39 L117.154 1082.06 L117.154 1077.8 L125.418 1076.13 L130.093 1076.13 L130.093 1106.76 L137.732 1106.76 L137.732 1110.69 L117.825 1110.69 L117.825 1106.76 Z\" fill=\"#000000\" fill-rule=\"nonzero\" fill-opacity=\"1\" /><path clip-path=\"url(#clip580)\" d=\"M157.177 1079.21 Q153.566 1079.21 151.737 1082.78 Q149.931 1086.32 149.931 1093.45 Q149.931 1100.55 151.737 1104.12 Q153.566 1107.66 157.177 1107.66 Q160.811 1107.66 162.616 1104.12 Q164.445 1100.55 164.445 1093.45 Q164.445 1086.32 162.616 1082.78 Q160.811 1079.21 157.177 1079.21 M157.177 1075.51 Q162.987 1075.51 166.042 1080.11 Q169.121 1084.7 169.121 1093.45 Q169.121 1102.17 166.042 1106.78 Q162.987 1111.36 157.177 1111.36 Q151.366 1111.36 148.288 1106.78 Q145.232 1102.17 145.232 1093.45 Q145.232 1084.7 148.288 1080.11 Q151.366 1075.51 157.177 1075.51 Z\" fill=\"#000000\" fill-rule=\"nonzero\" fill-opacity=\"1\" /><path clip-path=\"url(#clip580)\" d=\"M121.043 806.668 L137.362 806.668 L137.362 810.603 L115.418 810.603 L115.418 806.668 Q118.08 803.913 122.663 799.284 Q127.269 794.631 128.45 793.289 Q130.695 790.765 131.575 789.029 Q132.478 787.27 132.478 785.58 Q132.478 782.826 130.533 781.09 Q128.612 779.353 125.51 779.353 Q123.311 779.353 120.857 780.117 Q118.427 780.881 115.649 782.432 L115.649 777.71 Q118.473 776.576 120.927 775.997 Q123.38 775.418 125.418 775.418 Q130.788 775.418 133.982 778.103 Q137.177 780.789 137.177 785.279 Q137.177 787.409 136.367 789.33 Q135.579 791.228 133.473 793.821 Q132.894 794.492 129.792 797.71 Q126.691 800.904 121.043 806.668 Z\" fill=\"#000000\" fill-rule=\"nonzero\" fill-opacity=\"1\" /><path clip-path=\"url(#clip580)\" d=\"M157.177 779.122 Q153.566 779.122 151.737 782.687 Q149.931 786.228 149.931 793.358 Q149.931 800.464 151.737 804.029 Q153.566 807.571 157.177 807.571 Q160.811 807.571 162.616 804.029 Q164.445 800.464 164.445 793.358 Q164.445 786.228 162.616 782.687 Q160.811 779.122 157.177 779.122 M157.177 775.418 Q162.987 775.418 166.042 780.025 Q169.121 784.608 169.121 793.358 Q169.121 802.085 166.042 806.691 Q162.987 811.275 157.177 811.275 Q151.366 811.275 148.288 806.691 Q145.232 802.085 145.232 793.358 Q145.232 784.608 148.288 780.025 Q151.366 775.418 157.177 775.418 Z\" fill=\"#000000\" fill-rule=\"nonzero\" fill-opacity=\"1\" /><path clip-path=\"url(#clip580)\" d=\"M131.181 491.879 Q134.538 492.597 136.413 494.865 Q138.311 497.134 138.311 500.467 Q138.311 505.583 134.792 508.384 Q131.274 511.185 124.793 511.185 Q122.617 511.185 120.302 510.745 Q118.01 510.328 115.556 509.472 L115.556 504.958 Q117.501 506.092 119.816 506.671 Q122.13 507.25 124.654 507.25 Q129.052 507.25 131.343 505.514 Q133.658 503.777 133.658 500.467 Q133.658 497.412 131.505 495.699 Q129.376 493.963 125.556 493.963 L121.529 493.963 L121.529 490.12 L125.742 490.12 Q129.191 490.12 131.019 488.754 Q132.848 487.365 132.848 484.773 Q132.848 482.111 130.95 480.699 Q129.075 479.264 125.556 479.264 Q123.635 479.264 121.436 479.68 Q119.237 480.097 116.598 480.977 L116.598 476.81 Q119.26 476.069 121.575 475.699 Q123.913 475.328 125.973 475.328 Q131.297 475.328 134.399 477.759 Q137.501 480.166 137.501 484.287 Q137.501 487.157 135.857 489.148 Q134.214 491.115 131.181 491.879 Z\" fill=\"#000000\" fill-rule=\"nonzero\" fill-opacity=\"1\" /><path clip-path=\"url(#clip580)\" d=\"M157.177 479.032 Q153.566 479.032 151.737 482.597 Q149.931 486.139 149.931 493.268 Q149.931 500.375 151.737 503.939 Q153.566 507.481 157.177 507.481 Q160.811 507.481 162.616 503.939 Q164.445 500.375 164.445 493.268 Q164.445 486.139 162.616 482.597 Q160.811 479.032 157.177 479.032 M157.177 475.328 Q162.987 475.328 166.042 479.935 Q169.121 484.518 169.121 493.268 Q169.121 501.995 166.042 506.601 Q162.987 511.185 157.177 511.185 Q151.366 511.185 148.288 506.601 Q145.232 501.995 145.232 493.268 Q145.232 484.518 148.288 479.935 Q151.366 475.328 157.177 475.328 Z\" fill=\"#000000\" fill-rule=\"nonzero\" fill-opacity=\"1\" /><path clip-path=\"url(#clip580)\" d=\"M129.862 179.938 L118.056 198.387 L129.862 198.387 L129.862 179.938 M128.635 175.864 L134.515 175.864 L134.515 198.387 L139.445 198.387 L139.445 202.276 L134.515 202.276 L134.515 210.424 L129.862 210.424 L129.862 202.276 L114.26 202.276 L114.26 197.762 L128.635 175.864 Z\" fill=\"#000000\" fill-rule=\"nonzero\" fill-opacity=\"1\" /><path clip-path=\"url(#clip580)\" d=\"M157.177 178.942 Q153.566 178.942 151.737 182.507 Q149.931 186.049 149.931 193.178 Q149.931 200.285 151.737 203.85 Q153.566 207.391 157.177 207.391 Q160.811 207.391 162.616 203.85 Q164.445 200.285 164.445 193.178 Q164.445 186.049 162.616 182.507 Q160.811 178.942 157.177 178.942 M157.177 175.239 Q162.987 175.239 166.042 179.845 Q169.121 184.428 169.121 193.178 Q169.121 201.905 166.042 206.512 Q162.987 211.095 157.177 211.095 Q151.366 211.095 148.288 206.512 Q145.232 201.905 145.232 193.178 Q145.232 184.428 148.288 179.845 Q151.366 175.239 157.177 175.239 Z\" fill=\"#000000\" fill-rule=\"nonzero\" fill-opacity=\"1\" /><path clip-path=\"url(#clip580)\" d=\"M24.7187 937.85 Q26.49 937.85 27.585 938.977 Q28.68 940.072 28.68 941.457 Q28.68 942.455 28.0681 943.196 Q27.4562 943.905 26.3934 943.905 Q25.2984 943.905 24.139 943.067 Q22.9796 942.23 22.8185 940.33 Q21.6269 941.586 21.6269 943.583 Q21.6269 944.581 22.271 945.418 Q22.883 946.223 23.8813 946.674 Q24.9119 947.157 30.7412 948.252 Q32.6413 948.607 34.4771 948.929 Q36.3128 949.251 38.2451 949.637 L38.2451 944.162 Q38.2451 943.454 38.2774 943.164 Q38.3096 942.874 38.4706 942.649 Q38.6316 942.391 38.9859 942.391 Q39.8876 942.391 40.1131 942.81 Q40.3063 943.196 40.3063 944.355 L40.3063 950.024 L61.2079 953.985 Q61.8198 954.082 63.7522 954.5 Q65.6523 954.887 68.7763 955.821 Q71.9325 956.755 73.8004 957.689 Q74.8632 958.204 75.8616 958.88 Q76.8922 959.524 77.9228 960.458 Q78.9534 961.392 79.5653 962.616 Q80.2094 963.84 80.2094 965.128 Q80.2094 967.318 78.9856 969.025 Q77.7617 970.732 75.6684 970.732 Q73.897 970.732 72.802 969.637 Q71.707 968.51 71.707 967.125 Q71.707 966.127 72.3189 965.418 Q72.9309 964.677 73.9937 964.677 Q74.4445 964.677 74.9598 964.838 Q75.4751 964.999 76.0548 965.354 Q76.6667 965.708 77.0854 966.481 Q77.5041 967.254 77.5685 968.317 Q78.7601 967.061 78.7601 965.128 Q78.7601 964.516 78.5025 963.969 Q78.277 963.421 77.6973 962.97 Q77.1176 962.487 76.5379 962.133 Q75.9904 961.779 74.9276 961.425 Q73.897 961.07 73.1241 960.845 Q72.3512 960.619 70.9663 960.33 Q69.5815 960.008 68.7441 959.847 Q67.939 959.685 66.3609 959.396 L40.3063 954.468 L40.3063 958.816 Q40.3063 959.589 40.2741 959.911 Q40.2419 960.201 40.0809 960.426 Q39.8876 960.652 39.5012 960.652 Q38.8893 960.652 38.6316 960.394 Q38.3418 960.104 38.3096 959.782 Q38.2451 959.46 38.2451 958.687 L38.2451 954.114 Q30.0971 952.568 27.9071 951.956 Q25.5882 951.248 23.978 950.153 Q22.3355 949.058 21.5625 947.834 Q20.7896 946.61 20.4997 945.612 Q20.1777 944.581 20.1777 943.583 Q20.1777 941.328 21.4015 939.589 Q22.5931 937.85 24.7187 937.85 Z\" fill=\"#000000\" fill-rule=\"nonzero\" fill-opacity=\"1\" /><path clip-path=\"url(#clip580)\" d=\"M50.1935 928.97 Q39.0503 928.97 30.0649 924.815 Q26.2968 923.044 23.1406 920.564 Q19.9844 918.084 18.5996 916.442 Q17.2147 914.799 17.2147 914.348 Q17.2147 913.704 17.8588 913.672 Q18.1809 913.672 18.986 914.542 Q29.8072 925.17 50.1935 925.137 Q70.6442 925.137 81.0467 914.799 Q82.1739 913.672 82.5282 913.672 Q83.1723 913.672 83.1723 914.348 Q83.1723 914.799 81.8519 916.377 Q80.5314 917.956 77.5041 920.403 Q74.4767 922.851 70.7731 924.622 Q61.7876 928.97 50.1935 928.97 Z\" fill=\"#000000\" fill-rule=\"nonzero\" fill-opacity=\"1\" /><path clip-path=\"url(#clip580)\" d=\"M83.1723 902.322 L17.2147 902.322 L17.2147 892.371 L18.7284 892.371 L18.7284 897.91 L81.6586 897.91 L81.6586 892.371 L83.1723 892.371 L83.1723 902.322 Z\" fill=\"#000000\" fill-rule=\"nonzero\" fill-opacity=\"1\" /><path clip-path=\"url(#clip580)\" d=\"M29.0343 887.34 L26.9731 887.34 Q26.9731 879.418 22.7541 875.327 Q22.7541 874.2 23.0118 874.007 Q23.2694 873.814 24.461 873.814 L61.4656 873.814 Q63.4301 873.814 64.042 872.848 Q64.654 871.881 64.654 867.662 L64.654 865.569 L66.6829 865.569 Q66.4897 867.888 66.4897 876.261 Q66.4897 884.635 66.6829 886.922 L64.654 886.922 L64.654 884.828 Q64.654 880.674 64.0742 879.675 Q63.4623 878.677 61.4656 878.677 L27.2952 878.677 Q29.0343 882.123 29.0343 887.34 Z\" fill=\"#000000\" fill-rule=\"nonzero\" fill-opacity=\"1\" /><path clip-path=\"url(#clip580)\" d=\"M65.6201 860.428 Q64.5573 861.426 63.1725 861.426 Q61.7876 861.426 60.7893 860.428 Q59.7587 859.429 59.7587 857.916 Q59.7587 856.466 60.7248 855.5 Q61.6588 854.502 63.2047 854.502 Q64.7184 854.502 65.7167 855.565 Q66.6829 856.595 66.6829 857.916 Q66.6829 859.429 65.6201 860.428 Z\" fill=\"#000000\" fill-rule=\"nonzero\" fill-opacity=\"1\" /><path clip-path=\"url(#clip580)\" d=\"M45.5881 843.276 Q35.8941 843.276 30.6124 840.828 Q22.7541 837.414 22.7541 829.363 Q22.7541 827.656 23.2372 825.885 Q23.6881 824.081 25.4594 821.827 Q27.2307 819.54 30.1293 818.155 Q35.7331 815.515 45.5881 815.515 Q55.2176 815.515 60.4672 817.962 Q68.1322 821.537 68.1322 829.427 Q68.1322 832.39 66.6185 835.418 Q65.1048 838.413 61.4656 840.313 Q56.0228 843.276 45.5881 843.276 M44.7829 837.801 Q54.7345 837.801 58.6959 837.092 Q62.9792 836.287 64.8472 834.097 Q66.6829 831.875 66.6829 829.427 Q66.6829 826.787 64.7184 824.597 Q62.7216 822.374 58.4382 821.698 Q54.2193 820.957 44.7829 820.99 Q35.6043 820.99 31.9328 821.634 Q27.6494 822.503 25.9425 824.822 Q24.2034 827.109 24.2034 829.427 Q24.2034 830.297 24.461 831.231 Q24.7187 832.133 25.4594 833.453 Q26.2002 834.774 28.0359 835.804 Q29.8716 836.803 32.6413 837.286 Q36.2162 837.801 44.7829 837.801 Z\" fill=\"#000000\" fill-rule=\"nonzero\" fill-opacity=\"1\" /><path clip-path=\"url(#clip580)\" d=\"M65.6201 809.678 Q64.5573 810.612 63.1725 810.612 Q61.7876 810.612 60.757 809.71 Q59.6943 808.776 59.6943 807.101 Q59.6943 805.137 61.5944 804.01 Q63.4623 802.882 66.6185 802.882 Q70.0323 802.882 73.1885 804.267 Q76.3769 805.652 77.8906 807.005 Q79.4042 808.357 79.4042 808.905 Q79.4042 809.549 78.6957 809.549 Q78.4381 809.549 77.955 809.098 Q72.8664 804.364 66.6185 804.332 Q65.6201 804.332 65.6201 804.461 L65.749 804.622 Q66.6829 805.749 66.6829 807.101 Q66.6829 808.744 65.6201 809.678 Z\" fill=\"#000000\" fill-rule=\"nonzero\" fill-opacity=\"1\" /><path clip-path=\"url(#clip580)\" d=\"M38.1807 754.112 Q38.4062 754.112 39.3724 754.66 Q40.3063 755.175 42.6574 757.075 Q45.0084 758.975 47.7459 761.809 Q48.8087 762.872 50.2901 764.482 Q51.7716 766.093 52.7378 767.188 L53.704 768.283 Q57.2466 772.469 61.2079 776.141 Q61.1113 775.883 61.0791 775.432 Q61.0147 774.982 61.0147 774.659 L61.0147 774.337 Q61.0147 772.663 62.1419 769.732 Q62.9792 767.156 62.9792 765.835 Q62.9792 764.547 62.5284 763.13 Q62.0775 761.713 60.757 760.167 Q59.4366 758.621 57.4398 757.912 Q57.1178 757.784 57.0212 757.719 Q56.8923 757.655 56.7635 757.462 Q56.6025 757.268 56.6025 757.011 Q56.6025 756.656 56.7957 756.431 Q56.989 756.206 57.2466 756.206 Q57.8263 756.206 58.9857 756.656 Q60.1451 757.075 61.5944 758.009 Q63.0437 758.911 64.3641 760.102 Q65.6523 761.262 66.5541 763.001 Q67.4237 764.74 67.4237 766.576 Q67.4237 767.896 66.7795 768.862 Q66.1676 769.829 64.976 770.795 Q63.4623 772.115 62.9792 772.824 Q62.464 773.532 62.464 774.627 Q62.464 777.558 66.5541 780.231 Q67.1338 780.521 67.2626 780.714 Q67.4237 780.875 67.4237 781.262 Q67.3915 782.067 66.7473 782.067 Q66.4897 782.067 65.3625 781.358 Q64.2031 780.618 62.1741 778.975 Q60.1451 777.3 58.1162 775.271 L52.5768 769.346 Q47.0373 762.776 43.9134 760.167 Q43.9134 761.262 43.8812 761.745 Q43.849 762.196 43.6557 763.098 Q43.4303 763.999 42.9472 765.255 Q41.9488 768.186 41.9488 769.41 Q41.9488 769.732 41.981 770.086 Q42.0132 770.441 42.1743 771.246 Q42.3353 772.019 42.6574 772.663 Q42.9472 773.307 43.5913 773.983 Q44.2032 774.659 45.0406 775.014 Q45.2982 775.11 45.4271 775.175 Q45.5559 775.239 45.6847 775.432 Q45.7813 775.593 45.7813 775.851 Q45.7813 776.238 45.5559 776.463 Q45.3304 776.656 45.0406 776.656 Q44.4609 776.656 43.2693 776.077 Q42.0776 775.497 40.7894 774.531 Q39.469 773.564 38.5028 771.986 Q37.5366 770.408 37.5366 768.669 Q37.5366 767.639 37.9875 766.769 Q38.4384 765.867 38.9215 765.416 Q39.3724 764.933 40.3707 764.128 Q41.1437 763.452 41.4657 763.13 Q41.7878 762.808 42.1421 762.164 Q42.4641 761.487 42.4641 760.747 Q42.4641 759.523 41.5301 758.396 Q40.564 757.268 38.2451 755.819 Q37.5366 755.433 37.5366 754.821 Q37.5366 754.112 38.1807 754.112 Z\" fill=\"#000000\" fill-rule=\"nonzero\" fill-opacity=\"1\" /><path clip-path=\"url(#clip580)\" d=\"M65.6201 750.765 Q64.5573 751.699 63.1725 751.699 Q61.7876 751.699 60.757 750.798 Q59.6943 749.864 59.6943 748.189 Q59.6943 746.224 61.5944 745.097 Q63.4623 743.97 66.6185 743.97 Q70.0323 743.97 73.1885 745.355 Q76.3769 746.74 77.8906 748.092 Q79.4042 749.445 79.4042 749.993 Q79.4042 750.637 78.6957 750.637 Q78.4381 750.637 77.955 750.186 Q72.8664 745.452 66.6185 745.419 Q65.6201 745.419 65.6201 745.548 L65.749 745.709 Q66.6829 746.836 66.6829 748.189 Q66.6829 749.832 65.6201 750.765 Z\" fill=\"#000000\" fill-rule=\"nonzero\" fill-opacity=\"1\" /><path clip-path=\"url(#clip580)\" d=\"M38.1807 695.2 Q38.4062 695.2 39.3724 695.747 Q40.3063 696.262 42.6574 698.163 Q45.0084 700.063 47.7459 702.897 Q48.8087 703.96 50.2901 705.57 Q51.7716 707.18 52.7378 708.275 L53.704 709.37 Q57.2466 713.557 61.2079 717.228 Q61.1113 716.971 61.0791 716.52 Q61.0147 716.069 61.0147 715.747 L61.0147 715.425 Q61.0147 713.75 62.1419 710.82 Q62.9792 708.243 62.9792 706.923 Q62.9792 705.634 62.5284 704.217 Q62.0775 702.8 60.757 701.254 Q59.4366 699.709 57.4398 699 Q57.1178 698.871 57.0212 698.807 Q56.8923 698.742 56.7635 698.549 Q56.6025 698.356 56.6025 698.098 Q56.6025 697.744 56.7957 697.519 Q56.989 697.293 57.2466 697.293 Q57.8263 697.293 58.9857 697.744 Q60.1451 698.163 61.5944 699.097 Q63.0437 699.998 64.3641 701.19 Q65.6523 702.349 66.5541 704.089 Q67.4237 705.828 67.4237 707.663 Q67.4237 708.984 66.7795 709.95 Q66.1676 710.916 64.976 711.882 Q63.4623 713.203 62.9792 713.911 Q62.464 714.62 62.464 715.715 Q62.464 718.646 66.5541 721.319 Q67.1338 721.608 67.2626 721.802 Q67.4237 721.963 67.4237 722.349 Q67.3915 723.154 66.7473 723.154 Q66.4897 723.154 65.3625 722.446 Q64.2031 721.705 62.1741 720.063 Q60.1451 718.388 58.1162 716.359 L52.5768 710.433 Q47.0373 703.863 43.9134 701.254 Q43.9134 702.349 43.8812 702.832 Q43.849 703.283 43.6557 704.185 Q43.4303 705.087 42.9472 706.343 Q41.9488 709.274 41.9488 710.497 Q41.9488 710.82 41.981 711.174 Q42.0132 711.528 42.1743 712.333 Q42.3353 713.106 42.6574 713.75 Q42.9472 714.394 43.5913 715.071 Q44.2032 715.747 45.0406 716.101 Q45.2982 716.198 45.4271 716.262 Q45.5559 716.327 45.6847 716.52 Q45.7813 716.681 45.7813 716.939 Q45.7813 717.325 45.5559 717.551 Q45.3304 717.744 45.0406 717.744 Q44.4609 717.744 43.2693 717.164 Q42.0776 716.584 40.7894 715.618 Q39.469 714.652 38.5028 713.074 Q37.5366 711.496 37.5366 709.757 Q37.5366 708.726 37.9875 707.857 Q38.4384 706.955 38.9215 706.504 Q39.3724 706.021 40.3707 705.216 Q41.1437 704.539 41.4657 704.217 Q41.7878 703.895 42.1421 703.251 Q42.4641 702.575 42.4641 701.834 Q42.4641 700.61 41.5301 699.483 Q40.564 698.356 38.2451 696.907 Q37.5366 696.52 37.5366 695.908 Q37.5366 695.2 38.1807 695.2 Z\" fill=\"#000000\" fill-rule=\"nonzero\" fill-opacity=\"1\" /><path clip-path=\"url(#clip580)\" d=\"M46.9462 688.427 Q46.1121 688.427 45.8641 688.359 Q45.6161 688.269 45.2329 687.908 L35.3585 679.049 Q29.9029 674.202 25.1461 674.202 Q22.0575 674.202 19.8482 675.825 Q17.6389 677.425 17.6389 680.379 Q17.6389 682.408 18.8788 684.121 Q20.1187 685.834 22.328 686.623 Q22.283 686.488 22.283 686.015 Q22.283 684.865 23.0044 684.234 Q23.7258 683.58 24.6952 683.58 Q25.9351 683.58 26.5438 684.391 Q27.1299 685.181 27.1299 685.97 Q27.1299 686.285 27.0623 686.714 Q26.9947 687.119 26.3634 687.773 Q25.7097 688.427 24.5599 688.427 Q21.3361 688.427 18.7661 685.992 Q16.196 683.535 16.196 679.792 Q16.196 675.554 18.721 672.781 Q21.2234 669.986 25.1461 669.986 Q26.5212 669.986 27.7837 670.414 Q29.0236 670.82 29.993 671.384 Q30.9624 671.925 32.518 673.412 Q34.0735 674.9 35.1782 676.095 Q36.2828 677.29 38.6274 679.973 L43.3842 684.865 L43.3842 676.546 Q43.3842 672.488 43.0235 672.173 Q42.3698 671.722 38.9205 671.158 L38.9205 669.986 L46.9462 671.293 L46.9462 688.427 Z\" fill=\"#000000\" fill-rule=\"nonzero\" fill-opacity=\"1\" /><path clip-path=\"url(#clip580)\" d=\"M81.6586 663.132 L81.6586 657.593 L18.7284 657.593 L18.7284 663.132 L17.2147 663.132 L17.2147 653.181 L83.1723 653.181 L83.1723 663.132 L81.6586 663.132 Z\" fill=\"#000000\" fill-rule=\"nonzero\" fill-opacity=\"1\" /><path clip-path=\"url(#clip580)\" d=\"M82.5282 642.87 Q82.2061 642.87 81.401 642.033 Q70.5798 631.405 50.1935 631.405 Q29.7428 631.405 19.4047 641.614 Q18.2131 642.87 17.8588 642.87 Q17.2147 642.87 17.2147 642.226 Q17.2147 641.775 18.5352 640.197 Q19.8556 638.587 22.883 636.171 Q25.9103 633.723 29.614 631.92 Q38.5994 627.572 50.1935 627.572 Q61.3368 627.572 70.3222 631.727 Q74.0903 633.498 77.2464 635.978 Q80.4026 638.458 81.7875 640.1 Q83.1723 641.743 83.1723 642.226 Q83.1723 642.87 82.5282 642.87 Z\" fill=\"#000000\" fill-rule=\"nonzero\" fill-opacity=\"1\" /><path clip-path=\"url(#clip580)\" d=\"M50.9987 597.726 Q50.9987 599.24 50.1935 599.24 Q49.3884 599.24 49.3884 597.662 Q49.3884 597.469 49.4206 597.147 Q49.4528 596.792 49.4528 596.728 L49.4528 578.145 L30.8056 578.145 Q30.7412 578.145 30.4513 578.177 Q30.1293 578.209 29.936 578.209 Q28.3579 578.209 28.3579 577.437 Q28.3579 576.631 29.936 576.631 L49.4528 576.631 L49.4528 558.016 Q49.4528 557.952 49.4206 557.63 Q49.3884 557.308 49.3884 557.115 Q49.3884 555.601 50.1935 555.601 Q50.9987 555.569 50.9987 557.179 Q50.9987 557.372 50.9665 557.662 Q50.9343 557.952 50.9343 558.016 L50.9343 576.631 L70.5154 576.631 Q72.0291 576.631 72.0291 577.437 Q72.0291 578.209 70.451 578.209 Q70.2578 578.209 69.9357 578.177 Q69.6459 578.145 69.5815 578.145 L50.9343 578.145 L50.9343 596.728 Q50.9343 596.792 50.9665 597.179 Q50.9987 597.533 50.9987 597.726 Z\" fill=\"#000000\" fill-rule=\"nonzero\" fill-opacity=\"1\" /><path clip-path=\"url(#clip580)\" d=\"M40.564 503.521 Q41.2403 503.521 41.7878 504.101 Q42.3353 504.648 42.3353 505.324 Q42.3353 505.711 41.6912 506.645 Q39.8232 509.318 39.8232 512.7 Q39.8232 515.727 40.564 518.529 Q41.3047 521.331 42.8184 523.231 Q44.2998 525.099 46.2322 525.099 Q48.6476 525.099 50.0647 522.458 Q48.8087 519.721 48.8087 516.339 Q48.8087 515.244 48.8731 514.503 Q48.9375 513.73 49.0985 512.989 Q49.2596 512.249 49.646 511.894 Q50.0003 511.508 50.58 511.508 Q52.6412 511.508 52.6412 516.854 Q52.6412 520.332 51.7072 522.522 Q53.092 525.324 55.3143 526.87 Q57.5365 528.416 59.4366 528.416 Q61.0791 528.416 62.2707 527.514 Q63.4623 526.58 64.042 525.067 Q64.6217 523.521 64.8794 522.007 Q65.1048 520.461 65.1048 518.754 Q65.1048 515.952 64.7506 513.988 Q64.3641 511.991 63.6556 510.896 Q62.947 509.769 62.464 509.318 Q61.9487 508.835 61.1435 508.352 Q60.6926 508.062 60.6926 507.676 Q60.6926 507.386 60.8859 507.192 Q61.0469 506.967 61.3368 506.967 Q61.691 506.967 62.4317 507.418 Q63.1725 507.837 64.1709 508.867 Q65.137 509.866 66.0388 511.25 Q66.9084 512.603 67.5203 514.761 Q68.1322 516.919 68.1322 519.366 Q68.1322 524.358 65.6845 527.257 Q63.2369 530.123 59.8231 530.123 Q57.4398 530.123 54.9922 528.545 Q52.5123 526.935 50.9343 524.101 Q48.9697 526.741 46.2322 526.741 Q43.7846 526.741 41.5946 524.68 Q39.4046 522.587 38.1163 519.205 Q36.7959 515.791 36.7959 512.056 Q36.7959 509.962 37.5044 507.901 Q38.1807 505.84 39.0503 504.68 Q39.9199 503.521 40.564 503.521 M50.6444 513.215 Q50.2579 514.632 50.2579 516.339 Q50.2579 518.658 50.8376 520.365 Q51.1919 518.98 51.1919 516.854 Q51.1919 515.083 51.0953 514.568 Q50.9987 514.02 50.6444 513.215 Z\" fill=\"#000000\" fill-rule=\"nonzero\" fill-opacity=\"1\" /><circle clip-path=\"url(#clip582)\" cx=\"2282.17\" cy=\"172.816\" r=\"14.4\" fill=\"#009af9\" fill-rule=\"evenodd\" fill-opacity=\"1\" stroke=\"#000000\" stroke-opacity=\"1\" stroke-width=\"3.2\"/>\n",
       "<circle clip-path=\"url(#clip582)\" cx=\"886.183\" cy=\"1056.04\" r=\"14.4\" fill=\"#009af9\" fill-rule=\"evenodd\" fill-opacity=\"1\" stroke=\"#000000\" stroke-opacity=\"1\" stroke-width=\"3.2\"/>\n",
       "<circle clip-path=\"url(#clip582)\" cx=\"916.769\" cy=\"1160.98\" r=\"14.4\" fill=\"#009af9\" fill-rule=\"evenodd\" fill-opacity=\"1\" stroke=\"#000000\" stroke-opacity=\"1\" stroke-width=\"3.2\"/>\n",
       "<circle clip-path=\"url(#clip582)\" cx=\"368.879\" cy=\"1319.96\" r=\"14.4\" fill=\"#009af9\" fill-rule=\"evenodd\" fill-opacity=\"1\" stroke=\"#000000\" stroke-opacity=\"1\" stroke-width=\"3.2\"/>\n",
       "<circle clip-path=\"url(#clip582)\" cx=\"2000.36\" cy=\"462.163\" r=\"14.4\" fill=\"#009af9\" fill-rule=\"evenodd\" fill-opacity=\"1\" stroke=\"#000000\" stroke-opacity=\"1\" stroke-width=\"3.2\"/>\n",
       "<circle clip-path=\"url(#clip582)\" cx=\"265.903\" cy=\"1363.03\" r=\"14.4\" fill=\"#009af9\" fill-rule=\"evenodd\" fill-opacity=\"1\" stroke=\"#000000\" stroke-opacity=\"1\" stroke-width=\"3.2\"/>\n",
       "<circle clip-path=\"url(#clip582)\" cx=\"697.133\" cy=\"1216.61\" r=\"14.4\" fill=\"#009af9\" fill-rule=\"evenodd\" fill-opacity=\"1\" stroke=\"#000000\" stroke-opacity=\"1\" stroke-width=\"3.2\"/>\n",
       "<circle clip-path=\"url(#clip582)\" cx=\"270.962\" cy=\"1285.46\" r=\"14.4\" fill=\"#009af9\" fill-rule=\"evenodd\" fill-opacity=\"1\" stroke=\"#000000\" stroke-opacity=\"1\" stroke-width=\"3.2\"/>\n",
       "<circle clip-path=\"url(#clip582)\" cx=\"1303.94\" cy=\"858.606\" r=\"14.4\" fill=\"#009af9\" fill-rule=\"evenodd\" fill-opacity=\"1\" stroke=\"#000000\" stroke-opacity=\"1\" stroke-width=\"3.2\"/>\n",
       "<circle clip-path=\"url(#clip582)\" cx=\"1455.29\" cy=\"870.741\" r=\"14.4\" fill=\"#009af9\" fill-rule=\"evenodd\" fill-opacity=\"1\" stroke=\"#000000\" stroke-opacity=\"1\" stroke-width=\"3.2\"/>\n",
       "<circle clip-path=\"url(#clip582)\" cx=\"1523.03\" cy=\"720.305\" r=\"14.4\" fill=\"#009af9\" fill-rule=\"evenodd\" fill-opacity=\"1\" stroke=\"#000000\" stroke-opacity=\"1\" stroke-width=\"3.2\"/>\n",
       "<circle clip-path=\"url(#clip582)\" cx=\"316.431\" cy=\"1335.64\" r=\"14.4\" fill=\"#009af9\" fill-rule=\"evenodd\" fill-opacity=\"1\" stroke=\"#000000\" stroke-opacity=\"1\" stroke-width=\"3.2\"/>\n",
       "<circle clip-path=\"url(#clip582)\" cx=\"624.582\" cy=\"1170.22\" r=\"14.4\" fill=\"#009af9\" fill-rule=\"evenodd\" fill-opacity=\"1\" stroke=\"#000000\" stroke-opacity=\"1\" stroke-width=\"3.2\"/>\n",
       "<circle clip-path=\"url(#clip582)\" cx=\"2291.97\" cy=\"86.1857\" r=\"14.4\" fill=\"#009af9\" fill-rule=\"evenodd\" fill-opacity=\"1\" stroke=\"#000000\" stroke-opacity=\"1\" stroke-width=\"3.2\"/>\n",
       "<circle clip-path=\"url(#clip582)\" cx=\"1341.16\" cy=\"919.979\" r=\"14.4\" fill=\"#009af9\" fill-rule=\"evenodd\" fill-opacity=\"1\" stroke=\"#000000\" stroke-opacity=\"1\" stroke-width=\"3.2\"/>\n",
       "<circle clip-path=\"url(#clip582)\" cx=\"432.492\" cy=\"1263.68\" r=\"14.4\" fill=\"#009af9\" fill-rule=\"evenodd\" fill-opacity=\"1\" stroke=\"#000000\" stroke-opacity=\"1\" stroke-width=\"3.2\"/>\n",
       "<circle clip-path=\"url(#clip582)\" cx=\"1951.49\" cy=\"494.552\" r=\"14.4\" fill=\"#009af9\" fill-rule=\"evenodd\" fill-opacity=\"1\" stroke=\"#000000\" stroke-opacity=\"1\" stroke-width=\"3.2\"/>\n",
       "<circle clip-path=\"url(#clip582)\" cx=\"343.518\" cy=\"1384.24\" r=\"14.4\" fill=\"#009af9\" fill-rule=\"evenodd\" fill-opacity=\"1\" stroke=\"#000000\" stroke-opacity=\"1\" stroke-width=\"3.2\"/>\n",
       "<circle clip-path=\"url(#clip582)\" cx=\"2022.8\" cy=\"381.795\" r=\"14.4\" fill=\"#009af9\" fill-rule=\"evenodd\" fill-opacity=\"1\" stroke=\"#000000\" stroke-opacity=\"1\" stroke-width=\"3.2\"/>\n",
       "<circle clip-path=\"url(#clip582)\" cx=\"1610.69\" cy=\"719.829\" r=\"14.4\" fill=\"#009af9\" fill-rule=\"evenodd\" fill-opacity=\"1\" stroke=\"#000000\" stroke-opacity=\"1\" stroke-width=\"3.2\"/>\n",
       "<circle clip-path=\"url(#clip582)\" cx=\"2274.85\" cy=\"182.267\" r=\"14.4\" fill=\"#009af9\" fill-rule=\"evenodd\" fill-opacity=\"1\" stroke=\"#000000\" stroke-opacity=\"1\" stroke-width=\"3.2\"/>\n",
       "<circle clip-path=\"url(#clip582)\" cx=\"862.212\" cy=\"1133.82\" r=\"14.4\" fill=\"#009af9\" fill-rule=\"evenodd\" fill-opacity=\"1\" stroke=\"#000000\" stroke-opacity=\"1\" stroke-width=\"3.2\"/>\n",
       "<circle clip-path=\"url(#clip582)\" cx=\"681.243\" cy=\"1202.62\" r=\"14.4\" fill=\"#009af9\" fill-rule=\"evenodd\" fill-opacity=\"1\" stroke=\"#000000\" stroke-opacity=\"1\" stroke-width=\"3.2\"/>\n",
       "<circle clip-path=\"url(#clip582)\" cx=\"1756.58\" cy=\"662.854\" r=\"14.4\" fill=\"#009af9\" fill-rule=\"evenodd\" fill-opacity=\"1\" stroke=\"#000000\" stroke-opacity=\"1\" stroke-width=\"3.2\"/>\n",
       "<circle clip-path=\"url(#clip582)\" cx=\"572.098\" cy=\"1232.69\" r=\"14.4\" fill=\"#009af9\" fill-rule=\"evenodd\" fill-opacity=\"1\" stroke=\"#000000\" stroke-opacity=\"1\" stroke-width=\"3.2\"/>\n",
       "<circle clip-path=\"url(#clip582)\" cx=\"387.607\" cy=\"1274.25\" r=\"14.4\" fill=\"#009af9\" fill-rule=\"evenodd\" fill-opacity=\"1\" stroke=\"#000000\" stroke-opacity=\"1\" stroke-width=\"3.2\"/>\n",
       "<circle clip-path=\"url(#clip582)\" cx=\"960.803\" cy=\"1120.09\" r=\"14.4\" fill=\"#009af9\" fill-rule=\"evenodd\" fill-opacity=\"1\" stroke=\"#000000\" stroke-opacity=\"1\" stroke-width=\"3.2\"/>\n",
       "<circle clip-path=\"url(#clip582)\" cx=\"869.939\" cy=\"1073.23\" r=\"14.4\" fill=\"#009af9\" fill-rule=\"evenodd\" fill-opacity=\"1\" stroke=\"#000000\" stroke-opacity=\"1\" stroke-width=\"3.2\"/>\n",
       "<circle clip-path=\"url(#clip582)\" cx=\"844.201\" cy=\"1167.31\" r=\"14.4\" fill=\"#009af9\" fill-rule=\"evenodd\" fill-opacity=\"1\" stroke=\"#000000\" stroke-opacity=\"1\" stroke-width=\"3.2\"/>\n",
       "<circle clip-path=\"url(#clip582)\" cx=\"1526.22\" cy=\"714.519\" r=\"14.4\" fill=\"#009af9\" fill-rule=\"evenodd\" fill-opacity=\"1\" stroke=\"#000000\" stroke-opacity=\"1\" stroke-width=\"3.2\"/>\n",
       "<path clip-path=\"url(#clip580)\" d=\"M276.709 196.789 L591.333 196.789 L591.333 93.1086 L276.709 93.1086  Z\" fill=\"#ffffff\" fill-rule=\"evenodd\" fill-opacity=\"1\"/>\n",
       "<polyline clip-path=\"url(#clip580)\" style=\"stroke:#000000; stroke-linecap:round; stroke-linejoin:round; stroke-width:4; stroke-opacity:1; fill:none\" points=\"276.709,196.789 591.333,196.789 591.333,93.1086 276.709,93.1086 276.709,196.789 \"/>\n",
       "<circle clip-path=\"url(#clip580)\" cx=\"372.159\" cy=\"144.949\" r=\"20.48\" fill=\"#009af9\" fill-rule=\"evenodd\" fill-opacity=\"1\" stroke=\"#000000\" stroke-opacity=\"1\" stroke-width=\"4.55111\"/>\n",
       "<path clip-path=\"url(#clip580)\" d=\"M486.522 140.238 L486.522 126.21 L490.781 126.21 L490.781 162.229 L486.522 162.229 L486.522 158.34 Q485.179 160.655 483.119 161.789 Q481.082 162.9 478.211 162.9 Q473.512 162.9 470.549 159.15 Q467.61 155.4 467.61 149.289 Q467.61 143.178 470.549 139.428 Q473.512 135.678 478.211 135.678 Q481.082 135.678 483.119 136.812 Q485.179 137.923 486.522 140.238 M472.008 149.289 Q472.008 153.988 473.929 156.673 Q475.874 159.335 479.253 159.335 Q482.633 159.335 484.577 156.673 Q486.522 153.988 486.522 149.289 Q486.522 144.59 484.577 141.928 Q482.633 139.243 479.253 139.243 Q475.874 139.243 473.929 141.928 Q472.008 144.59 472.008 149.289 Z\" fill=\"#000000\" fill-rule=\"nonzero\" fill-opacity=\"1\" /><path clip-path=\"url(#clip580)\" d=\"M511.336 149.196 Q506.174 149.196 504.184 150.377 Q502.193 151.557 502.193 154.405 Q502.193 156.673 503.674 158.016 Q505.179 159.335 507.748 159.335 Q511.29 159.335 513.42 156.835 Q515.572 154.312 515.572 150.145 L515.572 149.196 L511.336 149.196 M519.832 147.437 L519.832 162.229 L515.572 162.229 L515.572 158.293 Q514.114 160.655 511.938 161.789 Q509.762 162.9 506.614 162.9 Q502.633 162.9 500.272 160.678 Q497.934 158.432 497.934 154.682 Q497.934 150.307 500.85 148.085 Q503.79 145.863 509.6 145.863 L515.572 145.863 L515.572 145.446 Q515.572 142.507 513.628 140.909 Q511.707 139.289 508.211 139.289 Q505.989 139.289 503.883 139.821 Q501.776 140.354 499.832 141.419 L499.832 137.483 Q502.17 136.581 504.369 136.141 Q506.568 135.678 508.651 135.678 Q514.276 135.678 517.054 138.594 Q519.832 141.511 519.832 147.437 Z\" fill=\"#000000\" fill-rule=\"nonzero\" fill-opacity=\"1\" /><path clip-path=\"url(#clip580)\" d=\"M532.818 128.942 L532.818 136.303 L541.591 136.303 L541.591 139.613 L532.818 139.613 L532.818 153.687 Q532.818 156.858 533.674 157.761 Q534.554 158.664 537.216 158.664 L541.591 158.664 L541.591 162.229 L537.216 162.229 Q532.285 162.229 530.41 160.4 Q528.535 158.548 528.535 153.687 L528.535 139.613 L525.41 139.613 L525.41 136.303 L528.535 136.303 L528.535 128.942 L532.818 128.942 Z\" fill=\"#000000\" fill-rule=\"nonzero\" fill-opacity=\"1\" /><path clip-path=\"url(#clip580)\" d=\"M558.975 149.196 Q553.813 149.196 551.822 150.377 Q549.831 151.557 549.831 154.405 Q549.831 156.673 551.313 158.016 Q552.818 159.335 555.387 159.335 Q558.929 159.335 561.058 156.835 Q563.211 154.312 563.211 150.145 L563.211 149.196 L558.975 149.196 M567.47 147.437 L567.47 162.229 L563.211 162.229 L563.211 158.293 Q561.753 160.655 559.577 161.789 Q557.401 162.9 554.253 162.9 Q550.271 162.9 547.91 160.678 Q545.572 158.432 545.572 154.682 Q545.572 150.307 548.489 148.085 Q551.429 145.863 557.239 145.863 L563.211 145.863 L563.211 145.446 Q563.211 142.507 561.267 140.909 Q559.345 139.289 555.85 139.289 Q553.628 139.289 551.521 139.821 Q549.415 140.354 547.47 141.419 L547.47 137.483 Q549.808 136.581 552.007 136.141 Q554.206 135.678 556.29 135.678 Q561.915 135.678 564.693 138.594 Q567.47 141.511 567.47 147.437 Z\" fill=\"#000000\" fill-rule=\"nonzero\" fill-opacity=\"1\" /></svg>\n"
      ]
     },
     "metadata": {},
     "output_type": "display_data"
    }
   ],
   "source": [
    "using Plots, LinearAlgebra, LaTeXStrings\n",
    "\n",
    "# Parameters\n",
    "Σ = 1e5 * Diagonal(I,3) # Covariance matrix of prior on w\n",
    "σ2 = 2.0                # Noise variance\n",
    "\n",
    "# Generate data set\n",
    "w = [1.0; 2.0; 0.25]\n",
    "N = 30\n",
    "z = 10.0*rand(N)\n",
    "x_train = [[1.0; z; z^2] for z in z] # Feature vector x = [1.0; z; z^2]\n",
    "f(x) = (w'*x)[1]\n",
    "y_train = map(f, x_train) + sqrt(σ2)*randn(N) # y[i] = w' * x[i] + ϵ\n",
    "scatter(z, y_train, label=\"data\", xlabel=L\"z\", ylabel=L\"f([1.0, z, z^2]) + \\epsilon\")"
   ]
  },
  {
   "cell_type": "markdown",
   "metadata": {
    "slideshow": {
     "slide_type": "slide"
    }
   },
   "source": [
    "Now build the factor graph in RxInfer, perform sum-product message passing and plot results (mean of posterior)."
   ]
  },
  {
   "cell_type": "code",
   "execution_count": 17,
   "metadata": {},
   "outputs": [
    {
     "data": {
      "image/png": "[encoded data removed]",
      "image/svg+xml": [
       "<?xml version=\"1.0\" encoding=\"utf-8\"?>\n",
       "<svg xmlns=\"http://www.w3.org/2000/svg\" xmlns:xlink=\"http://www.w3.org/1999/xlink\" width=\"600\" height=\"400\" viewBox=\"0 0 2400 1600\">\n",
       "<defs>\n",
       "  <clipPath id=\"clip620\">\n",
       "    <rect x=\"0\" y=\"0\" width=\"2400\" height=\"1600\"/>\n",
       "  </clipPath>\n",
       "</defs>\n",
       "<path clip-path=\"url(#clip620)\" d=\"M0 1600 L2400 1600 L2400 0 L0 0  Z\" fill=\"#ffffff\" fill-rule=\"evenodd\" fill-opacity=\"1\"/>\n",
       "<defs>\n",
       "  <clipPath id=\"clip621\">\n",
       "    <rect x=\"480\" y=\"0\" width=\"1681\" height=\"1600\"/>\n",
       "  </clipPath>\n",
       "</defs>\n",
       "<path clip-path=\"url(#clip620)\" d=\"M205.121 1423.18 L2352.76 1423.18 L2352.76 47.2441 L205.121 47.2441  Z\" fill=\"#ffffff\" fill-rule=\"evenodd\" fill-opacity=\"1\"/>\n",
       "<defs>\n",
       "  <clipPath id=\"clip622\">\n",
       "    <rect x=\"205\" y=\"47\" width=\"2149\" height=\"1377\"/>\n",
       "  </clipPath>\n",
       "</defs>\n",
       "<polyline clip-path=\"url(#clip622)\" style=\"stroke:#000000; stroke-linecap:round; stroke-linejoin:round; stroke-width:2; stroke-opacity:0.1; fill:none\" points=\"265.903,1423.18 265.903,47.2441 \"/>\n",
       "<polyline clip-path=\"url(#clip622)\" style=\"stroke:#000000; stroke-linecap:round; stroke-linejoin:round; stroke-width:2; stroke-opacity:0.1; fill:none\" points=\"688.001,1423.18 688.001,47.2441 \"/>\n",
       "<polyline clip-path=\"url(#clip622)\" style=\"stroke:#000000; stroke-linecap:round; stroke-linejoin:round; stroke-width:2; stroke-opacity:0.1; fill:none\" points=\"1110.1,1423.18 1110.1,47.2441 \"/>\n",
       "<polyline clip-path=\"url(#clip622)\" style=\"stroke:#000000; stroke-linecap:round; stroke-linejoin:round; stroke-width:2; stroke-opacity:0.1; fill:none\" points=\"1532.2,1423.18 1532.2,47.2441 \"/>\n",
       "<polyline clip-path=\"url(#clip622)\" style=\"stroke:#000000; stroke-linecap:round; stroke-linejoin:round; stroke-width:2; stroke-opacity:0.1; fill:none\" points=\"1954.3,1423.18 1954.3,47.2441 \"/>\n",
       "<polyline clip-path=\"url(#clip620)\" style=\"stroke:#000000; stroke-linecap:round; stroke-linejoin:round; stroke-width:4; stroke-opacity:1; fill:none\" points=\"205.121,1423.18 2352.76,1423.18 \"/>\n",
       "<polyline clip-path=\"url(#clip620)\" style=\"stroke:#000000; stroke-linecap:round; stroke-linejoin:round; stroke-width:4; stroke-opacity:1; fill:none\" points=\"265.903,1423.18 265.903,1404.28 \"/>\n",
       "<polyline clip-path=\"url(#clip620)\" style=\"stroke:#000000; stroke-linecap:round; stroke-linejoin:round; stroke-width:4; stroke-opacity:1; fill:none\" points=\"688.001,1423.18 688.001,1404.28 \"/>\n",
       "<polyline clip-path=\"url(#clip620)\" style=\"stroke:#000000; stroke-linecap:round; stroke-linejoin:round; stroke-width:4; stroke-opacity:1; fill:none\" points=\"1110.1,1423.18 1110.1,1404.28 \"/>\n",
       "<polyline clip-path=\"url(#clip620)\" style=\"stroke:#000000; stroke-linecap:round; stroke-linejoin:round; stroke-width:4; stroke-opacity:1; fill:none\" points=\"1532.2,1423.18 1532.2,1404.28 \"/>\n",
       "<polyline clip-path=\"url(#clip620)\" style=\"stroke:#000000; stroke-linecap:round; stroke-linejoin:round; stroke-width:4; stroke-opacity:1; fill:none\" points=\"1954.3,1423.18 1954.3,1404.28 \"/>\n",
       "<path clip-path=\"url(#clip620)\" d=\"M243.287 1454.1 Q239.676 1454.1 237.848 1457.66 Q236.042 1461.2 236.042 1468.33 Q236.042 1475.44 237.848 1479.01 Q239.676 1482.55 243.287 1482.55 Q246.922 1482.55 248.727 1479.01 Q250.556 1475.44 250.556 1468.33 Q250.556 1461.2 248.727 1457.66 Q246.922 1454.1 243.287 1454.1 M243.287 1450.39 Q249.098 1450.39 252.153 1455 Q255.232 1459.58 255.232 1468.33 Q255.232 1477.06 252.153 1481.67 Q249.098 1486.25 243.287 1486.25 Q237.477 1486.25 234.399 1481.67 Q231.343 1477.06 231.343 1468.33 Q231.343 1459.58 234.399 1455 Q237.477 1450.39 243.287 1450.39 Z\" fill=\"#000000\" fill-rule=\"nonzero\" fill-opacity=\"1\" /><path clip-path=\"url(#clip620)\" d=\"M263.449 1479.7 L268.334 1479.7 L268.334 1485.58 L263.449 1485.58 L263.449 1479.7 Z\" fill=\"#000000\" fill-rule=\"nonzero\" fill-opacity=\"1\" /><path clip-path=\"url(#clip620)\" d=\"M288.519 1454.1 Q284.908 1454.1 283.079 1457.66 Q281.273 1461.2 281.273 1468.33 Q281.273 1475.44 283.079 1479.01 Q284.908 1482.55 288.519 1482.55 Q292.153 1482.55 293.959 1479.01 Q295.787 1475.44 295.787 1468.33 Q295.787 1461.2 293.959 1457.66 Q292.153 1454.1 288.519 1454.1 M288.519 1450.39 Q294.329 1450.39 297.384 1455 Q300.463 1459.58 300.463 1468.33 Q300.463 1477.06 297.384 1481.67 Q294.329 1486.25 288.519 1486.25 Q282.709 1486.25 279.63 1481.67 Q276.574 1477.06 276.574 1468.33 Q276.574 1459.58 279.63 1455 Q282.709 1450.39 288.519 1450.39 Z\" fill=\"#000000\" fill-rule=\"nonzero\" fill-opacity=\"1\" /><path clip-path=\"url(#clip620)\" d=\"M659.737 1481.64 L676.057 1481.64 L676.057 1485.58 L654.112 1485.58 L654.112 1481.64 Q656.774 1478.89 661.358 1474.26 Q665.964 1469.61 667.145 1468.27 Q669.39 1465.74 670.27 1464.01 Q671.173 1462.25 671.173 1460.56 Q671.173 1457.8 669.228 1456.07 Q667.307 1454.33 664.205 1454.33 Q662.006 1454.33 659.552 1455.09 Q657.122 1455.86 654.344 1457.41 L654.344 1452.69 Q657.168 1451.55 659.622 1450.97 Q662.075 1450.39 664.112 1450.39 Q669.483 1450.39 672.677 1453.08 Q675.872 1455.77 675.872 1460.26 Q675.872 1462.39 675.061 1464.31 Q674.274 1466.2 672.168 1468.8 Q671.589 1469.47 668.487 1472.69 Q665.386 1475.88 659.737 1481.64 Z\" fill=\"#000000\" fill-rule=\"nonzero\" fill-opacity=\"1\" /><path clip-path=\"url(#clip620)\" d=\"M685.872 1479.7 L690.756 1479.7 L690.756 1485.58 L685.872 1485.58 L685.872 1479.7 Z\" fill=\"#000000\" fill-rule=\"nonzero\" fill-opacity=\"1\" /><path clip-path=\"url(#clip620)\" d=\"M700.987 1451.02 L719.344 1451.02 L719.344 1454.96 L705.27 1454.96 L705.27 1463.43 Q706.288 1463.08 707.307 1462.92 Q708.325 1462.73 709.344 1462.73 Q715.131 1462.73 718.51 1465.9 Q721.89 1469.08 721.89 1474.49 Q721.89 1480.07 718.418 1483.17 Q714.945 1486.25 708.626 1486.25 Q706.45 1486.25 704.182 1485.88 Q701.936 1485.51 699.529 1484.77 L699.529 1480.07 Q701.612 1481.2 703.834 1481.76 Q706.057 1482.32 708.533 1482.32 Q712.538 1482.32 714.876 1480.21 Q717.214 1478.1 717.214 1474.49 Q717.214 1470.88 714.876 1468.77 Q712.538 1466.67 708.533 1466.67 Q706.658 1466.67 704.783 1467.08 Q702.932 1467.5 700.987 1468.38 L700.987 1451.02 Z\" fill=\"#000000\" fill-rule=\"nonzero\" fill-opacity=\"1\" /><path clip-path=\"url(#clip620)\" d=\"M1077.26 1451.02 L1095.62 1451.02 L1095.62 1454.96 L1081.55 1454.96 L1081.55 1463.43 Q1082.56 1463.08 1083.58 1462.92 Q1084.6 1462.73 1085.62 1462.73 Q1091.41 1462.73 1094.79 1465.9 Q1098.17 1469.08 1098.17 1474.49 Q1098.17 1480.07 1094.69 1483.17 Q1091.22 1486.25 1084.9 1486.25 Q1082.73 1486.25 1080.46 1485.88 Q1078.21 1485.51 1075.81 1484.77 L1075.81 1480.07 Q1077.89 1481.2 1080.11 1481.76 Q1082.33 1482.32 1084.81 1482.32 Q1088.81 1482.32 1091.15 1480.21 Q1093.49 1478.1 1093.49 1474.49 Q1093.49 1470.88 1091.15 1468.77 Q1088.81 1466.67 1084.81 1466.67 Q1082.94 1466.67 1081.06 1467.08 Q1079.21 1467.5 1077.26 1468.38 L1077.26 1451.02 Z\" fill=\"#000000\" fill-rule=\"nonzero\" fill-opacity=\"1\" /><path clip-path=\"url(#clip620)\" d=\"M1107.38 1479.7 L1112.26 1479.7 L1112.26 1485.58 L1107.38 1485.58 L1107.38 1479.7 Z\" fill=\"#000000\" fill-rule=\"nonzero\" fill-opacity=\"1\" /><path clip-path=\"url(#clip620)\" d=\"M1132.45 1454.1 Q1128.84 1454.1 1127.01 1457.66 Q1125.2 1461.2 1125.2 1468.33 Q1125.2 1475.44 1127.01 1479.01 Q1128.84 1482.55 1132.45 1482.55 Q1136.08 1482.55 1137.89 1479.01 Q1139.72 1475.44 1139.72 1468.33 Q1139.72 1461.2 1137.89 1457.66 Q1136.08 1454.1 1132.45 1454.1 M1132.45 1450.39 Q1138.26 1450.39 1141.31 1455 Q1144.39 1459.58 1144.39 1468.33 Q1144.39 1477.06 1141.31 1481.67 Q1138.26 1486.25 1132.45 1486.25 Q1126.64 1486.25 1123.56 1481.67 Q1120.5 1477.06 1120.5 1468.33 Q1120.5 1459.58 1123.56 1455 Q1126.64 1450.39 1132.45 1450.39 Z\" fill=\"#000000\" fill-rule=\"nonzero\" fill-opacity=\"1\" /><path clip-path=\"url(#clip620)\" d=\"M1498.52 1451.02 L1520.74 1451.02 L1520.74 1453.01 L1508.19 1485.58 L1503.31 1485.58 L1515.11 1454.96 L1498.52 1454.96 L1498.52 1451.02 Z\" fill=\"#000000\" fill-rule=\"nonzero\" fill-opacity=\"1\" /><path clip-path=\"url(#clip620)\" d=\"M1529.86 1479.7 L1534.74 1479.7 L1534.74 1485.58 L1529.86 1485.58 L1529.86 1479.7 Z\" fill=\"#000000\" fill-rule=\"nonzero\" fill-opacity=\"1\" /><path clip-path=\"url(#clip620)\" d=\"M1544.97 1451.02 L1563.33 1451.02 L1563.33 1454.96 L1549.26 1454.96 L1549.26 1463.43 Q1550.28 1463.08 1551.29 1462.92 Q1552.31 1462.73 1553.33 1462.73 Q1559.12 1462.73 1562.5 1465.9 Q1565.88 1469.08 1565.88 1474.49 Q1565.88 1480.07 1562.41 1483.17 Q1558.93 1486.25 1552.61 1486.25 Q1550.44 1486.25 1548.17 1485.88 Q1545.92 1485.51 1543.52 1484.77 L1543.52 1480.07 Q1545.6 1481.2 1547.82 1481.76 Q1550.04 1482.32 1552.52 1482.32 Q1556.53 1482.32 1558.86 1480.21 Q1561.2 1478.1 1561.2 1474.49 Q1561.2 1470.88 1558.86 1468.77 Q1556.53 1466.67 1552.52 1466.67 Q1550.65 1466.67 1548.77 1467.08 Q1546.92 1467.5 1544.97 1468.38 L1544.97 1451.02 Z\" fill=\"#000000\" fill-rule=\"nonzero\" fill-opacity=\"1\" /><path clip-path=\"url(#clip620)\" d=\"M1906.37 1481.64 L1914.01 1481.64 L1914.01 1455.28 L1905.7 1456.95 L1905.7 1452.69 L1913.96 1451.02 L1918.64 1451.02 L1918.64 1481.64 L1926.27 1481.64 L1926.27 1485.58 L1906.37 1485.58 L1906.37 1481.64 Z\" fill=\"#000000\" fill-rule=\"nonzero\" fill-opacity=\"1\" /><path clip-path=\"url(#clip620)\" d=\"M1945.72 1454.1 Q1942.11 1454.1 1940.28 1457.66 Q1938.47 1461.2 1938.47 1468.33 Q1938.47 1475.44 1940.28 1479.01 Q1942.11 1482.55 1945.72 1482.55 Q1949.35 1482.55 1951.16 1479.01 Q1952.99 1475.44 1952.99 1468.33 Q1952.99 1461.2 1951.16 1457.66 Q1949.35 1454.1 1945.72 1454.1 M1945.72 1450.39 Q1951.53 1450.39 1954.58 1455 Q1957.66 1459.58 1957.66 1468.33 Q1957.66 1477.06 1954.58 1481.67 Q1951.53 1486.25 1945.72 1486.25 Q1939.91 1486.25 1936.83 1481.67 Q1933.77 1477.06 1933.77 1468.33 Q1933.77 1459.58 1936.83 1455 Q1939.91 1450.39 1945.72 1450.39 Z\" fill=\"#000000\" fill-rule=\"nonzero\" fill-opacity=\"1\" /><path clip-path=\"url(#clip620)\" d=\"M1965.88 1479.7 L1970.77 1479.7 L1970.77 1485.58 L1965.88 1485.58 L1965.88 1479.7 Z\" fill=\"#000000\" fill-rule=\"nonzero\" fill-opacity=\"1\" /><path clip-path=\"url(#clip620)\" d=\"M1990.95 1454.1 Q1987.34 1454.1 1985.51 1457.66 Q1983.7 1461.2 1983.7 1468.33 Q1983.7 1475.44 1985.51 1479.01 Q1987.34 1482.55 1990.95 1482.55 Q1994.58 1482.55 1996.39 1479.01 Q1998.22 1475.44 1998.22 1468.33 Q1998.22 1461.2 1996.39 1457.66 Q1994.58 1454.1 1990.95 1454.1 M1990.95 1450.39 Q1996.76 1450.39 1999.82 1455 Q2002.89 1459.58 2002.89 1468.33 Q2002.89 1477.06 1999.82 1481.67 Q1996.76 1486.25 1990.95 1486.25 Q1985.14 1486.25 1982.06 1481.67 Q1979.01 1477.06 1979.01 1468.33 Q1979.01 1459.58 1982.06 1455 Q1985.14 1450.39 1990.95 1450.39 Z\" fill=\"#000000\" fill-rule=\"nonzero\" fill-opacity=\"1\" /><path clip-path=\"url(#clip620)\" d=\"M1291.71 1525.1 Q1291.71 1525.33 1291.16 1526.29 Q1290.65 1527.23 1288.75 1529.58 Q1286.85 1531.93 1284.01 1534.67 Q1282.95 1535.73 1281.34 1537.21 Q1279.73 1538.69 1278.63 1539.66 L1277.54 1540.62 Q1273.35 1544.17 1269.68 1548.13 Q1269.94 1548.03 1270.39 1548 Q1270.84 1547.93 1271.16 1547.93 L1271.48 1547.93 Q1273.16 1547.93 1276.09 1549.06 Q1278.67 1549.9 1279.99 1549.9 Q1281.27 1549.9 1282.69 1549.45 Q1284.11 1549 1285.65 1547.68 Q1287.2 1546.36 1287.91 1544.36 Q1288.04 1544.04 1288.1 1543.94 Q1288.17 1543.81 1288.36 1543.68 Q1288.55 1543.52 1288.81 1543.52 Q1289.17 1543.52 1289.39 1543.71 Q1289.62 1543.91 1289.62 1544.17 Q1289.62 1544.75 1289.17 1545.9 Q1288.75 1547.06 1287.81 1548.51 Q1286.91 1549.96 1285.72 1551.28 Q1284.56 1552.57 1282.82 1553.47 Q1281.08 1554.34 1279.25 1554.34 Q1277.93 1554.34 1276.96 1553.7 Q1275.99 1553.09 1275.03 1551.9 Q1273.71 1550.38 1273 1549.9 Q1272.29 1549.38 1271.19 1549.38 Q1268.26 1549.38 1265.59 1553.47 Q1265.3 1554.05 1265.11 1554.18 Q1264.95 1554.34 1264.56 1554.34 Q1263.75 1554.31 1263.75 1553.67 Q1263.75 1553.41 1264.46 1552.28 Q1265.2 1551.12 1266.85 1549.09 Q1268.52 1547.06 1270.55 1545.04 L1276.48 1539.5 Q1283.05 1533.96 1285.65 1530.83 Q1284.56 1530.83 1284.08 1530.8 Q1283.63 1530.77 1282.72 1530.57 Q1281.82 1530.35 1280.57 1529.87 Q1277.64 1528.87 1276.41 1528.87 Q1276.09 1528.87 1275.74 1528.9 Q1275.38 1528.93 1274.58 1529.09 Q1273.8 1529.25 1273.16 1529.58 Q1272.51 1529.87 1271.84 1530.51 Q1271.16 1531.12 1270.81 1531.96 Q1270.71 1532.22 1270.65 1532.35 Q1270.58 1532.48 1270.39 1532.6 Q1270.23 1532.7 1269.97 1532.7 Q1269.58 1532.7 1269.36 1532.48 Q1269.17 1532.25 1269.17 1531.96 Q1269.17 1531.38 1269.75 1530.19 Q1270.32 1529 1271.29 1527.71 Q1272.26 1526.39 1273.84 1525.42 Q1275.41 1524.46 1277.15 1524.46 Q1278.18 1524.46 1279.05 1524.91 Q1279.95 1525.36 1280.41 1525.84 Q1280.89 1526.29 1281.69 1527.29 Q1282.37 1528.06 1282.69 1528.38 Q1283.01 1528.71 1283.66 1529.06 Q1284.33 1529.38 1285.08 1529.38 Q1286.3 1529.38 1287.43 1528.45 Q1288.55 1527.48 1290 1525.16 Q1290.39 1524.46 1291 1524.46 Q1291.71 1524.46 1291.71 1525.1 Z\" fill=\"#000000\" fill-rule=\"nonzero\" fill-opacity=\"1\" /><polyline clip-path=\"url(#clip622)\" style=\"stroke:#000000; stroke-linecap:round; stroke-linejoin:round; stroke-width:2; stroke-opacity:0.1; fill:none\" points=\"205.121,1390.63 2352.76,1390.63 \"/>\n",
       "<polyline clip-path=\"url(#clip622)\" style=\"stroke:#000000; stroke-linecap:round; stroke-linejoin:round; stroke-width:2; stroke-opacity:0.1; fill:none\" points=\"205.121,1183.58 2352.76,1183.58 \"/>\n",
       "<polyline clip-path=\"url(#clip622)\" style=\"stroke:#000000; stroke-linecap:round; stroke-linejoin:round; stroke-width:2; stroke-opacity:0.1; fill:none\" points=\"205.121,976.539 2352.76,976.539 \"/>\n",
       "<polyline clip-path=\"url(#clip622)\" style=\"stroke:#000000; stroke-linecap:round; stroke-linejoin:round; stroke-width:2; stroke-opacity:0.1; fill:none\" points=\"205.121,769.493 2352.76,769.493 \"/>\n",
       "<polyline clip-path=\"url(#clip622)\" style=\"stroke:#000000; stroke-linecap:round; stroke-linejoin:round; stroke-width:2; stroke-opacity:0.1; fill:none\" points=\"205.121,562.447 2352.76,562.447 \"/>\n",
       "<polyline clip-path=\"url(#clip622)\" style=\"stroke:#000000; stroke-linecap:round; stroke-linejoin:round; stroke-width:2; stroke-opacity:0.1; fill:none\" points=\"205.121,355.401 2352.76,355.401 \"/>\n",
       "<polyline clip-path=\"url(#clip622)\" style=\"stroke:#000000; stroke-linecap:round; stroke-linejoin:round; stroke-width:2; stroke-opacity:0.1; fill:none\" points=\"205.121,148.356 2352.76,148.356 \"/>\n",
       "<polyline clip-path=\"url(#clip620)\" style=\"stroke:#000000; stroke-linecap:round; stroke-linejoin:round; stroke-width:4; stroke-opacity:1; fill:none\" points=\"205.121,1423.18 205.121,47.2441 \"/>\n",
       "<polyline clip-path=\"url(#clip620)\" style=\"stroke:#000000; stroke-linecap:round; stroke-linejoin:round; stroke-width:4; stroke-opacity:1; fill:none\" points=\"205.121,1390.63 224.019,1390.63 \"/>\n",
       "<polyline clip-path=\"url(#clip620)\" style=\"stroke:#000000; stroke-linecap:round; stroke-linejoin:round; stroke-width:4; stroke-opacity:1; fill:none\" points=\"205.121,1183.58 224.019,1183.58 \"/>\n",
       "<polyline clip-path=\"url(#clip620)\" style=\"stroke:#000000; stroke-linecap:round; stroke-linejoin:round; stroke-width:4; stroke-opacity:1; fill:none\" points=\"205.121,976.539 224.019,976.539 \"/>\n",
       "<polyline clip-path=\"url(#clip620)\" style=\"stroke:#000000; stroke-linecap:round; stroke-linejoin:round; stroke-width:4; stroke-opacity:1; fill:none\" points=\"205.121,769.493 224.019,769.493 \"/>\n",
       "<polyline clip-path=\"url(#clip620)\" style=\"stroke:#000000; stroke-linecap:round; stroke-linejoin:round; stroke-width:4; stroke-opacity:1; fill:none\" points=\"205.121,562.447 224.019,562.447 \"/>\n",
       "<polyline clip-path=\"url(#clip620)\" style=\"stroke:#000000; stroke-linecap:round; stroke-linejoin:round; stroke-width:4; stroke-opacity:1; fill:none\" points=\"205.121,355.401 224.019,355.401 \"/>\n",
       "<polyline clip-path=\"url(#clip620)\" style=\"stroke:#000000; stroke-linecap:round; stroke-linejoin:round; stroke-width:4; stroke-opacity:1; fill:none\" points=\"205.121,148.356 224.019,148.356 \"/>\n",
       "<path clip-path=\"url(#clip620)\" d=\"M157.177 1376.43 Q153.566 1376.43 151.737 1379.99 Q149.931 1383.54 149.931 1390.67 Q149.931 1397.77 151.737 1401.34 Q153.566 1404.88 157.177 1404.88 Q160.811 1404.88 162.616 1401.34 Q164.445 1397.77 164.445 1390.67 Q164.445 1383.54 162.616 1379.99 Q160.811 1376.43 157.177 1376.43 M157.177 1372.73 Q162.987 1372.73 166.042 1377.33 Q169.121 1381.92 169.121 1390.67 Q169.121 1399.39 166.042 1404 Q162.987 1408.58 157.177 1408.58 Q151.366 1408.58 148.288 1404 Q145.232 1399.39 145.232 1390.67 Q145.232 1381.92 148.288 1377.33 Q151.366 1372.73 157.177 1372.73 Z\" fill=\"#000000\" fill-rule=\"nonzero\" fill-opacity=\"1\" /><path clip-path=\"url(#clip620)\" d=\"M117.825 1196.93 L125.464 1196.93 L125.464 1170.56 L117.154 1172.23 L117.154 1167.97 L125.418 1166.3 L130.093 1166.3 L130.093 1196.93 L137.732 1196.93 L137.732 1200.86 L117.825 1200.86 L117.825 1196.93 Z\" fill=\"#000000\" fill-rule=\"nonzero\" fill-opacity=\"1\" /><path clip-path=\"url(#clip620)\" d=\"M157.177 1169.38 Q153.566 1169.38 151.737 1172.95 Q149.931 1176.49 149.931 1183.62 Q149.931 1190.73 151.737 1194.29 Q153.566 1197.83 157.177 1197.83 Q160.811 1197.83 162.616 1194.29 Q164.445 1190.73 164.445 1183.62 Q164.445 1176.49 162.616 1172.95 Q160.811 1169.38 157.177 1169.38 M157.177 1165.68 Q162.987 1165.68 166.042 1170.29 Q169.121 1174.87 169.121 1183.62 Q169.121 1192.35 166.042 1196.95 Q162.987 1201.54 157.177 1201.54 Q151.366 1201.54 148.288 1196.95 Q145.232 1192.35 145.232 1183.62 Q145.232 1174.87 148.288 1170.29 Q151.366 1165.68 157.177 1165.68 Z\" fill=\"#000000\" fill-rule=\"nonzero\" fill-opacity=\"1\" /><path clip-path=\"url(#clip620)\" d=\"M121.043 989.884 L137.362 989.884 L137.362 993.819 L115.418 993.819 L115.418 989.884 Q118.08 987.129 122.663 982.499 Q127.269 977.847 128.45 976.504 Q130.695 973.981 131.575 972.245 Q132.478 970.486 132.478 968.796 Q132.478 966.041 130.533 964.305 Q128.612 962.569 125.51 962.569 Q123.311 962.569 120.857 963.333 Q118.427 964.097 115.649 965.648 L115.649 960.925 Q118.473 959.791 120.927 959.212 Q123.38 958.634 125.418 958.634 Q130.788 958.634 133.982 961.319 Q137.177 964.004 137.177 968.495 Q137.177 970.624 136.367 972.546 Q135.579 974.444 133.473 977.036 Q132.894 977.708 129.792 980.925 Q126.691 984.12 121.043 989.884 Z\" fill=\"#000000\" fill-rule=\"nonzero\" fill-opacity=\"1\" /><path clip-path=\"url(#clip620)\" d=\"M157.177 962.337 Q153.566 962.337 151.737 965.902 Q149.931 969.444 149.931 976.573 Q149.931 983.68 151.737 987.245 Q153.566 990.786 157.177 990.786 Q160.811 990.786 162.616 987.245 Q164.445 983.68 164.445 976.573 Q164.445 969.444 162.616 965.902 Q160.811 962.337 157.177 962.337 M157.177 958.634 Q162.987 958.634 166.042 963.24 Q169.121 967.824 169.121 976.573 Q169.121 985.3 166.042 989.907 Q162.987 994.49 157.177 994.49 Q151.366 994.49 148.288 989.907 Q145.232 985.3 145.232 976.573 Q145.232 967.824 148.288 963.24 Q151.366 958.634 157.177 958.634 Z\" fill=\"#000000\" fill-rule=\"nonzero\" fill-opacity=\"1\" /><path clip-path=\"url(#clip620)\" d=\"M131.181 768.139 Q134.538 768.856 136.413 771.125 Q138.311 773.393 138.311 776.727 Q138.311 781.842 134.792 784.643 Q131.274 787.444 124.793 787.444 Q122.617 787.444 120.302 787.004 Q118.01 786.588 115.556 785.731 L115.556 781.217 Q117.501 782.352 119.816 782.93 Q122.13 783.509 124.654 783.509 Q129.052 783.509 131.343 781.773 Q133.658 780.037 133.658 776.727 Q133.658 773.671 131.505 771.958 Q129.376 770.222 125.556 770.222 L121.529 770.222 L121.529 766.38 L125.742 766.38 Q129.191 766.38 131.019 765.014 Q132.848 763.625 132.848 761.032 Q132.848 758.37 130.95 756.958 Q129.075 755.523 125.556 755.523 Q123.635 755.523 121.436 755.94 Q119.237 756.356 116.598 757.236 L116.598 753.069 Q119.26 752.329 121.575 751.958 Q123.913 751.588 125.973 751.588 Q131.297 751.588 134.399 754.019 Q137.501 756.426 137.501 760.546 Q137.501 763.417 135.857 765.407 Q134.214 767.375 131.181 768.139 Z\" fill=\"#000000\" fill-rule=\"nonzero\" fill-opacity=\"1\" /><path clip-path=\"url(#clip620)\" d=\"M157.177 755.292 Q153.566 755.292 151.737 758.856 Q149.931 762.398 149.931 769.528 Q149.931 776.634 151.737 780.199 Q153.566 783.741 157.177 783.741 Q160.811 783.741 162.616 780.199 Q164.445 776.634 164.445 769.528 Q164.445 762.398 162.616 758.856 Q160.811 755.292 157.177 755.292 M157.177 751.588 Q162.987 751.588 166.042 756.194 Q169.121 760.778 169.121 769.528 Q169.121 778.254 166.042 782.861 Q162.987 787.444 157.177 787.444 Q151.366 787.444 148.288 782.861 Q145.232 778.254 145.232 769.528 Q145.232 760.778 148.288 756.194 Q151.366 751.588 157.177 751.588 Z\" fill=\"#000000\" fill-rule=\"nonzero\" fill-opacity=\"1\" /><path clip-path=\"url(#clip620)\" d=\"M129.862 549.241 L118.056 567.69 L129.862 567.69 L129.862 549.241 M128.635 545.167 L134.515 545.167 L134.515 567.69 L139.445 567.69 L139.445 571.579 L134.515 571.579 L134.515 579.727 L129.862 579.727 L129.862 571.579 L114.26 571.579 L114.26 567.065 L128.635 545.167 Z\" fill=\"#000000\" fill-rule=\"nonzero\" fill-opacity=\"1\" /><path clip-path=\"url(#clip620)\" d=\"M157.177 548.246 Q153.566 548.246 151.737 551.811 Q149.931 555.352 149.931 562.482 Q149.931 569.588 151.737 573.153 Q153.566 576.695 157.177 576.695 Q160.811 576.695 162.616 573.153 Q164.445 569.588 164.445 562.482 Q164.445 555.352 162.616 551.811 Q160.811 548.246 157.177 548.246 M157.177 544.542 Q162.987 544.542 166.042 549.149 Q169.121 553.732 169.121 562.482 Q169.121 571.209 166.042 575.815 Q162.987 580.398 157.177 580.398 Q151.366 580.398 148.288 575.815 Q145.232 571.209 145.232 562.482 Q145.232 553.732 148.288 549.149 Q151.366 544.542 157.177 544.542 Z\" fill=\"#000000\" fill-rule=\"nonzero\" fill-opacity=\"1\" /><path clip-path=\"url(#clip620)\" d=\"M117.061 338.121 L135.417 338.121 L135.417 342.057 L121.343 342.057 L121.343 350.529 Q122.362 350.182 123.38 350.019 Q124.399 349.834 125.418 349.834 Q131.205 349.834 134.584 353.006 Q137.964 356.177 137.964 361.593 Q137.964 367.172 134.492 370.274 Q131.019 373.353 124.7 373.353 Q122.524 373.353 120.255 372.982 Q118.01 372.612 115.603 371.871 L115.603 367.172 Q117.686 368.306 119.908 368.862 Q122.13 369.418 124.607 369.418 Q128.612 369.418 130.95 367.311 Q133.288 365.205 133.288 361.593 Q133.288 357.982 130.95 355.876 Q128.612 353.769 124.607 353.769 Q122.732 353.769 120.857 354.186 Q119.006 354.603 117.061 355.482 L117.061 338.121 Z\" fill=\"#000000\" fill-rule=\"nonzero\" fill-opacity=\"1\" /><path clip-path=\"url(#clip620)\" d=\"M157.177 341.2 Q153.566 341.2 151.737 344.765 Q149.931 348.307 149.931 355.436 Q149.931 362.543 151.737 366.107 Q153.566 369.649 157.177 369.649 Q160.811 369.649 162.616 366.107 Q164.445 362.543 164.445 355.436 Q164.445 348.307 162.616 344.765 Q160.811 341.2 157.177 341.2 M157.177 337.496 Q162.987 337.496 166.042 342.103 Q169.121 346.686 169.121 355.436 Q169.121 364.163 166.042 368.769 Q162.987 373.353 157.177 373.353 Q151.366 373.353 148.288 368.769 Q145.232 364.163 145.232 355.436 Q145.232 346.686 148.288 342.103 Q151.366 337.496 157.177 337.496 Z\" fill=\"#000000\" fill-rule=\"nonzero\" fill-opacity=\"1\" /><path clip-path=\"url(#clip620)\" d=\"M127.593 146.492 Q124.445 146.492 122.593 148.645 Q120.765 150.798 120.765 154.548 Q120.765 158.275 122.593 160.45 Q124.445 162.603 127.593 162.603 Q130.742 162.603 132.57 160.45 Q134.422 158.275 134.422 154.548 Q134.422 150.798 132.57 148.645 Q130.742 146.492 127.593 146.492 M136.876 131.84 L136.876 136.099 Q135.117 135.265 133.311 134.826 Q131.529 134.386 129.769 134.386 Q125.14 134.386 122.686 137.511 Q120.255 140.636 119.908 146.955 Q121.274 144.941 123.334 143.876 Q125.394 142.789 127.871 142.789 Q133.08 142.789 136.089 145.96 Q139.121 149.108 139.121 154.548 Q139.121 159.872 135.973 163.089 Q132.825 166.307 127.593 166.307 Q121.598 166.307 118.427 161.724 Q115.256 157.117 115.256 148.39 Q115.256 140.196 119.144 135.335 Q123.033 130.451 129.584 130.451 Q131.343 130.451 133.126 130.798 Q134.931 131.145 136.876 131.84 Z\" fill=\"#000000\" fill-rule=\"nonzero\" fill-opacity=\"1\" /><path clip-path=\"url(#clip620)\" d=\"M157.177 134.154 Q153.566 134.154 151.737 137.719 Q149.931 141.261 149.931 148.39 Q149.931 155.497 151.737 159.062 Q153.566 162.603 157.177 162.603 Q160.811 162.603 162.616 159.062 Q164.445 155.497 164.445 148.39 Q164.445 141.261 162.616 137.719 Q160.811 134.154 157.177 134.154 M157.177 130.451 Q162.987 130.451 166.042 135.057 Q169.121 139.64 169.121 148.39 Q169.121 157.117 166.042 161.724 Q162.987 166.307 157.177 166.307 Q151.366 166.307 148.288 161.724 Q145.232 157.117 145.232 148.39 Q145.232 139.64 148.288 135.057 Q151.366 130.451 157.177 130.451 Z\" fill=\"#000000\" fill-rule=\"nonzero\" fill-opacity=\"1\" /><path clip-path=\"url(#clip620)\" d=\"M24.7187 937.85 Q26.49 937.85 27.585 938.977 Q28.68 940.072 28.68 941.457 Q28.68 942.455 28.0681 943.196 Q27.4562 943.905 26.3934 943.905 Q25.2984 943.905 24.139 943.067 Q22.9796 942.23 22.8185 940.33 Q21.6269 941.586 21.6269 943.583 Q21.6269 944.581 22.271 945.418 Q22.883 946.223 23.8813 946.674 Q24.9119 947.157 30.7412 948.252 Q32.6413 948.607 34.4771 948.929 Q36.3128 949.251 38.2451 949.637 L38.2451 944.162 Q38.2451 943.454 38.2774 943.164 Q38.3096 942.874 38.4706 942.649 Q38.6316 942.391 38.9859 942.391 Q39.8876 942.391 40.1131 942.81 Q40.3063 943.196 40.3063 944.355 L40.3063 950.024 L61.2079 953.985 Q61.8198 954.082 63.7522 954.5 Q65.6523 954.887 68.7763 955.821 Q71.9325 956.755 73.8004 957.689 Q74.8632 958.204 75.8616 958.88 Q76.8922 959.524 77.9228 960.458 Q78.9534 961.392 79.5653 962.616 Q80.2094 963.84 80.2094 965.128 Q80.2094 967.318 78.9856 969.025 Q77.7617 970.732 75.6684 970.732 Q73.897 970.732 72.802 969.637 Q71.707 968.51 71.707 967.125 Q71.707 966.127 72.3189 965.418 Q72.9309 964.677 73.9937 964.677 Q74.4445 964.677 74.9598 964.838 Q75.4751 964.999 76.0548 965.354 Q76.6667 965.708 77.0854 966.481 Q77.5041 967.254 77.5685 968.317 Q78.7601 967.061 78.7601 965.128 Q78.7601 964.516 78.5025 963.969 Q78.277 963.421 77.6973 962.97 Q77.1176 962.487 76.5379 962.133 Q75.9904 961.779 74.9276 961.425 Q73.897 961.07 73.1241 960.845 Q72.3512 960.619 70.9663 960.33 Q69.5815 960.008 68.7441 959.847 Q67.939 959.685 66.3609 959.396 L40.3063 954.468 L40.3063 958.816 Q40.3063 959.589 40.2741 959.911 Q40.2419 960.201 40.0809 960.426 Q39.8876 960.652 39.5012 960.652 Q38.8893 960.652 38.6316 960.394 Q38.3418 960.104 38.3096 959.782 Q38.2451 959.46 38.2451 958.687 L38.2451 954.114 Q30.0971 952.568 27.9071 951.956 Q25.5882 951.248 23.978 950.153 Q22.3355 949.058 21.5625 947.834 Q20.7896 946.61 20.4997 945.612 Q20.1777 944.581 20.1777 943.583 Q20.1777 941.328 21.4015 939.589 Q22.5931 937.85 24.7187 937.85 Z\" fill=\"#000000\" fill-rule=\"nonzero\" fill-opacity=\"1\" /><path clip-path=\"url(#clip620)\" d=\"M50.1935 928.97 Q39.0503 928.97 30.0649 924.815 Q26.2968 923.044 23.1406 920.564 Q19.9844 918.084 18.5996 916.442 Q17.2147 914.799 17.2147 914.348 Q17.2147 913.704 17.8588 913.672 Q18.1809 913.672 18.986 914.542 Q29.8072 925.17 50.1935 925.137 Q70.6442 925.137 81.0467 914.799 Q82.1739 913.672 82.5282 913.672 Q83.1723 913.672 83.1723 914.348 Q83.1723 914.799 81.8519 916.377 Q80.5314 917.956 77.5041 920.403 Q74.4767 922.851 70.7731 924.622 Q61.7876 928.97 50.1935 928.97 Z\" fill=\"#000000\" fill-rule=\"nonzero\" fill-opacity=\"1\" /><path clip-path=\"url(#clip620)\" d=\"M83.1723 902.322 L17.2147 902.322 L17.2147 892.371 L18.7284 892.371 L18.7284 897.91 L81.6586 897.91 L81.6586 892.371 L83.1723 892.371 L83.1723 902.322 Z\" fill=\"#000000\" fill-rule=\"nonzero\" fill-opacity=\"1\" /><path clip-path=\"url(#clip620)\" d=\"M29.0343 887.34 L26.9731 887.34 Q26.9731 879.418 22.7541 875.327 Q22.7541 874.2 23.0118 874.007 Q23.2694 873.814 24.461 873.814 L61.4656 873.814 Q63.4301 873.814 64.042 872.848 Q64.654 871.881 64.654 867.662 L64.654 865.569 L66.6829 865.569 Q66.4897 867.888 66.4897 876.261 Q66.4897 884.635 66.6829 886.922 L64.654 886.922 L64.654 884.828 Q64.654 880.674 64.0742 879.675 Q63.4623 878.677 61.4656 878.677 L27.2952 878.677 Q29.0343 882.123 29.0343 887.34 Z\" fill=\"#000000\" fill-rule=\"nonzero\" fill-opacity=\"1\" /><path clip-path=\"url(#clip620)\" d=\"M65.6201 860.428 Q64.5573 861.426 63.1725 861.426 Q61.7876 861.426 60.7893 860.428 Q59.7587 859.429 59.7587 857.916 Q59.7587 856.466 60.7248 855.5 Q61.6588 854.502 63.2047 854.502 Q64.7184 854.502 65.7167 855.565 Q66.6829 856.595 66.6829 857.916 Q66.6829 859.429 65.6201 860.428 Z\" fill=\"#000000\" fill-rule=\"nonzero\" fill-opacity=\"1\" /><path clip-path=\"url(#clip620)\" d=\"M45.5881 843.276 Q35.8941 843.276 30.6124 840.828 Q22.7541 837.414 22.7541 829.363 Q22.7541 827.656 23.2372 825.885 Q23.6881 824.081 25.4594 821.827 Q27.2307 819.54 30.1293 818.155 Q35.7331 815.515 45.5881 815.515 Q55.2176 815.515 60.4672 817.962 Q68.1322 821.537 68.1322 829.427 Q68.1322 832.39 66.6185 835.418 Q65.1048 838.413 61.4656 840.313 Q56.0228 843.276 45.5881 843.276 M44.7829 837.801 Q54.7345 837.801 58.6959 837.092 Q62.9792 836.287 64.8472 834.097 Q66.6829 831.875 66.6829 829.427 Q66.6829 826.787 64.7184 824.597 Q62.7216 822.374 58.4382 821.698 Q54.2193 820.957 44.7829 820.99 Q35.6043 820.99 31.9328 821.634 Q27.6494 822.503 25.9425 824.822 Q24.2034 827.109 24.2034 829.427 Q24.2034 830.297 24.461 831.231 Q24.7187 832.133 25.4594 833.453 Q26.2002 834.774 28.0359 835.804 Q29.8716 836.803 32.6413 837.286 Q36.2162 837.801 44.7829 837.801 Z\" fill=\"#000000\" fill-rule=\"nonzero\" fill-opacity=\"1\" /><path clip-path=\"url(#clip620)\" d=\"M65.6201 809.678 Q64.5573 810.612 63.1725 810.612 Q61.7876 810.612 60.757 809.71 Q59.6943 808.776 59.6943 807.101 Q59.6943 805.137 61.5944 804.01 Q63.4623 802.882 66.6185 802.882 Q70.0323 802.882 73.1885 804.267 Q76.3769 805.652 77.8906 807.005 Q79.4042 808.357 79.4042 808.905 Q79.4042 809.549 78.6957 809.549 Q78.4381 809.549 77.955 809.098 Q72.8664 804.364 66.6185 804.332 Q65.6201 804.332 65.6201 804.461 L65.749 804.622 Q66.6829 805.749 66.6829 807.101 Q66.6829 808.744 65.6201 809.678 Z\" fill=\"#000000\" fill-rule=\"nonzero\" fill-opacity=\"1\" /><path clip-path=\"url(#clip620)\" d=\"M38.1807 754.112 Q38.4062 754.112 39.3724 754.66 Q40.3063 755.175 42.6574 757.075 Q45.0084 758.975 47.7459 761.809 Q48.8087 762.872 50.2901 764.482 Q51.7716 766.093 52.7378 767.188 L53.704 768.283 Q57.2466 772.469 61.2079 776.141 Q61.1113 775.883 61.0791 775.432 Q61.0147 774.982 61.0147 774.659 L61.0147 774.337 Q61.0147 772.663 62.1419 769.732 Q62.9792 767.156 62.9792 765.835 Q62.9792 764.547 62.5284 763.13 Q62.0775 761.713 60.757 760.167 Q59.4366 758.621 57.4398 757.912 Q57.1178 757.784 57.0212 757.719 Q56.8923 757.655 56.7635 757.462 Q56.6025 757.268 56.6025 757.011 Q56.6025 756.656 56.7957 756.431 Q56.989 756.206 57.2466 756.206 Q57.8263 756.206 58.9857 756.656 Q60.1451 757.075 61.5944 758.009 Q63.0437 758.911 64.3641 760.102 Q65.6523 761.262 66.5541 763.001 Q67.4237 764.74 67.4237 766.576 Q67.4237 767.896 66.7795 768.862 Q66.1676 769.829 64.976 770.795 Q63.4623 772.115 62.9792 772.824 Q62.464 773.532 62.464 774.627 Q62.464 777.558 66.5541 780.231 Q67.1338 780.521 67.2626 780.714 Q67.4237 780.875 67.4237 781.262 Q67.3915 782.067 66.7473 782.067 Q66.4897 782.067 65.3625 781.358 Q64.2031 780.618 62.1741 778.975 Q60.1451 777.3 58.1162 775.271 L52.5768 769.346 Q47.0373 762.776 43.9134 760.167 Q43.9134 761.262 43.8812 761.745 Q43.849 762.196 43.6557 763.098 Q43.4303 763.999 42.9472 765.255 Q41.9488 768.186 41.9488 769.41 Q41.9488 769.732 41.981 770.086 Q42.0132 770.441 42.1743 771.246 Q42.3353 772.019 42.6574 772.663 Q42.9472 773.307 43.5913 773.983 Q44.2032 774.659 45.0406 775.014 Q45.2982 775.11 45.4271 775.175 Q45.5559 775.239 45.6847 775.432 Q45.7813 775.593 45.7813 775.851 Q45.7813 776.238 45.5559 776.463 Q45.3304 776.656 45.0406 776.656 Q44.4609 776.656 43.2693 776.077 Q42.0776 775.497 40.7894 774.531 Q39.469 773.564 38.5028 771.986 Q37.5366 770.408 37.5366 768.669 Q37.5366 767.639 37.9875 766.769 Q38.4384 765.867 38.9215 765.416 Q39.3724 764.933 40.3707 764.128 Q41.1437 763.452 41.4657 763.13 Q41.7878 762.808 42.1421 762.164 Q42.4641 761.487 42.4641 760.747 Q42.4641 759.523 41.5301 758.396 Q40.564 757.268 38.2451 755.819 Q37.5366 755.433 37.5366 754.821 Q37.5366 754.112 38.1807 754.112 Z\" fill=\"#000000\" fill-rule=\"nonzero\" fill-opacity=\"1\" /><path clip-path=\"url(#clip620)\" d=\"M65.6201 750.765 Q64.5573 751.699 63.1725 751.699 Q61.7876 751.699 60.757 750.798 Q59.6943 749.864 59.6943 748.189 Q59.6943 746.224 61.5944 745.097 Q63.4623 743.97 66.6185 743.97 Q70.0323 743.97 73.1885 745.355 Q76.3769 746.74 77.8906 748.092 Q79.4042 749.445 79.4042 749.993 Q79.4042 750.637 78.6957 750.637 Q78.4381 750.637 77.955 750.186 Q72.8664 745.452 66.6185 745.419 Q65.6201 745.419 65.6201 745.548 L65.749 745.709 Q66.6829 746.836 66.6829 748.189 Q66.6829 749.832 65.6201 750.765 Z\" fill=\"#000000\" fill-rule=\"nonzero\" fill-opacity=\"1\" /><path clip-path=\"url(#clip620)\" d=\"M38.1807 695.2 Q38.4062 695.2 39.3724 695.747 Q40.3063 696.262 42.6574 698.163 Q45.0084 700.063 47.7459 702.897 Q48.8087 703.96 50.2901 705.57 Q51.7716 707.18 52.7378 708.275 L53.704 709.37 Q57.2466 713.557 61.2079 717.228 Q61.1113 716.971 61.0791 716.52 Q61.0147 716.069 61.0147 715.747 L61.0147 715.425 Q61.0147 713.75 62.1419 710.82 Q62.9792 708.243 62.9792 706.923 Q62.9792 705.634 62.5284 704.217 Q62.0775 702.8 60.757 701.254 Q59.4366 699.709 57.4398 699 Q57.1178 698.871 57.0212 698.807 Q56.8923 698.742 56.7635 698.549 Q56.6025 698.356 56.6025 698.098 Q56.6025 697.744 56.7957 697.519 Q56.989 697.293 57.2466 697.293 Q57.8263 697.293 58.9857 697.744 Q60.1451 698.163 61.5944 699.097 Q63.0437 699.998 64.3641 701.19 Q65.6523 702.349 66.5541 704.089 Q67.4237 705.828 67.4237 707.663 Q67.4237 708.984 66.7795 709.95 Q66.1676 710.916 64.976 711.882 Q63.4623 713.203 62.9792 713.911 Q62.464 714.62 62.464 715.715 Q62.464 718.646 66.5541 721.319 Q67.1338 721.608 67.2626 721.802 Q67.4237 721.963 67.4237 722.349 Q67.3915 723.154 66.7473 723.154 Q66.4897 723.154 65.3625 722.446 Q64.2031 721.705 62.1741 720.063 Q60.1451 718.388 58.1162 716.359 L52.5768 710.433 Q47.0373 703.863 43.9134 701.254 Q43.9134 702.349 43.8812 702.832 Q43.849 703.283 43.6557 704.185 Q43.4303 705.087 42.9472 706.343 Q41.9488 709.274 41.9488 710.497 Q41.9488 710.82 41.981 711.174 Q42.0132 711.528 42.1743 712.333 Q42.3353 713.106 42.6574 713.75 Q42.9472 714.394 43.5913 715.071 Q44.2032 715.747 45.0406 716.101 Q45.2982 716.198 45.4271 716.262 Q45.5559 716.327 45.6847 716.52 Q45.7813 716.681 45.7813 716.939 Q45.7813 717.325 45.5559 717.551 Q45.3304 717.744 45.0406 717.744 Q44.4609 717.744 43.2693 717.164 Q42.0776 716.584 40.7894 715.618 Q39.469 714.652 38.5028 713.074 Q37.5366 711.496 37.5366 709.757 Q37.5366 708.726 37.9875 707.857 Q38.4384 706.955 38.9215 706.504 Q39.3724 706.021 40.3707 705.216 Q41.1437 704.539 41.4657 704.217 Q41.7878 703.895 42.1421 703.251 Q42.4641 702.575 42.4641 701.834 Q42.4641 700.61 41.5301 699.483 Q40.564 698.356 38.2451 696.907 Q37.5366 696.52 37.5366 695.908 Q37.5366 695.2 38.1807 695.2 Z\" fill=\"#000000\" fill-rule=\"nonzero\" fill-opacity=\"1\" /><path clip-path=\"url(#clip620)\" d=\"M46.9462 688.427 Q46.1121 688.427 45.8641 688.359 Q45.6161 688.269 45.2329 687.908 L35.3585 679.049 Q29.9029 674.202 25.1461 674.202 Q22.0575 674.202 19.8482 675.825 Q17.6389 677.425 17.6389 680.379 Q17.6389 682.408 18.8788 684.121 Q20.1187 685.834 22.328 686.623 Q22.283 686.488 22.283 686.015 Q22.283 684.865 23.0044 684.234 Q23.7258 683.58 24.6952 683.58 Q25.9351 683.58 26.5438 684.391 Q27.1299 685.181 27.1299 685.97 Q27.1299 686.285 27.0623 686.714 Q26.9947 687.119 26.3634 687.773 Q25.7097 688.427 24.5599 688.427 Q21.3361 688.427 18.7661 685.992 Q16.196 683.535 16.196 679.792 Q16.196 675.554 18.721 672.781 Q21.2234 669.986 25.1461 669.986 Q26.5212 669.986 27.7837 670.414 Q29.0236 670.82 29.993 671.384 Q30.9624 671.925 32.518 673.412 Q34.0735 674.9 35.1782 676.095 Q36.2828 677.29 38.6274 679.973 L43.3842 684.865 L43.3842 676.546 Q43.3842 672.488 43.0235 672.173 Q42.3698 671.722 38.9205 671.158 L38.9205 669.986 L46.9462 671.293 L46.9462 688.427 Z\" fill=\"#000000\" fill-rule=\"nonzero\" fill-opacity=\"1\" /><path clip-path=\"url(#clip620)\" d=\"M81.6586 663.132 L81.6586 657.593 L18.7284 657.593 L18.7284 663.132 L17.2147 663.132 L17.2147 653.181 L83.1723 653.181 L83.1723 663.132 L81.6586 663.132 Z\" fill=\"#000000\" fill-rule=\"nonzero\" fill-opacity=\"1\" /><path clip-path=\"url(#clip620)\" d=\"M82.5282 642.87 Q82.2061 642.87 81.401 642.033 Q70.5798 631.405 50.1935 631.405 Q29.7428 631.405 19.4047 641.614 Q18.2131 642.87 17.8588 642.87 Q17.2147 642.87 17.2147 642.226 Q17.2147 641.775 18.5352 640.197 Q19.8556 638.587 22.883 636.171 Q25.9103 633.723 29.614 631.92 Q38.5994 627.572 50.1935 627.572 Q61.3368 627.572 70.3222 631.727 Q74.0903 633.498 77.2464 635.978 Q80.4026 638.458 81.7875 640.1 Q83.1723 641.743 83.1723 642.226 Q83.1723 642.87 82.5282 642.87 Z\" fill=\"#000000\" fill-rule=\"nonzero\" fill-opacity=\"1\" /><path clip-path=\"url(#clip620)\" d=\"M50.9987 597.726 Q50.9987 599.24 50.1935 599.24 Q49.3884 599.24 49.3884 597.662 Q49.3884 597.469 49.4206 597.147 Q49.4528 596.792 49.4528 596.728 L49.4528 578.145 L30.8056 578.145 Q30.7412 578.145 30.4513 578.177 Q30.1293 578.209 29.936 578.209 Q28.3579 578.209 28.3579 577.437 Q28.3579 576.631 29.936 576.631 L49.4528 576.631 L49.4528 558.016 Q49.4528 557.952 49.4206 557.63 Q49.3884 557.308 49.3884 557.115 Q49.3884 555.601 50.1935 555.601 Q50.9987 555.569 50.9987 557.179 Q50.9987 557.372 50.9665 557.662 Q50.9343 557.952 50.9343 558.016 L50.9343 576.631 L70.5154 576.631 Q72.0291 576.631 72.0291 577.437 Q72.0291 578.209 70.451 578.209 Q70.2578 578.209 69.9357 578.177 Q69.6459 578.145 69.5815 578.145 L50.9343 578.145 L50.9343 596.728 Q50.9343 596.792 50.9665 597.179 Q50.9987 597.533 50.9987 597.726 Z\" fill=\"#000000\" fill-rule=\"nonzero\" fill-opacity=\"1\" /><path clip-path=\"url(#clip620)\" d=\"M40.564 503.521 Q41.2403 503.521 41.7878 504.101 Q42.3353 504.648 42.3353 505.324 Q42.3353 505.711 41.6912 506.645 Q39.8232 509.318 39.8232 512.7 Q39.8232 515.727 40.564 518.529 Q41.3047 521.331 42.8184 523.231 Q44.2998 525.099 46.2322 525.099 Q48.6476 525.099 50.0647 522.458 Q48.8087 519.721 48.8087 516.339 Q48.8087 515.244 48.8731 514.503 Q48.9375 513.73 49.0985 512.989 Q49.2596 512.249 49.646 511.894 Q50.0003 511.508 50.58 511.508 Q52.6412 511.508 52.6412 516.854 Q52.6412 520.332 51.7072 522.522 Q53.092 525.324 55.3143 526.87 Q57.5365 528.416 59.4366 528.416 Q61.0791 528.416 62.2707 527.514 Q63.4623 526.58 64.042 525.067 Q64.6217 523.521 64.8794 522.007 Q65.1048 520.461 65.1048 518.754 Q65.1048 515.952 64.7506 513.988 Q64.3641 511.991 63.6556 510.896 Q62.947 509.769 62.464 509.318 Q61.9487 508.835 61.1435 508.352 Q60.6926 508.062 60.6926 507.676 Q60.6926 507.386 60.8859 507.192 Q61.0469 506.967 61.3368 506.967 Q61.691 506.967 62.4317 507.418 Q63.1725 507.837 64.1709 508.867 Q65.137 509.866 66.0388 511.25 Q66.9084 512.603 67.5203 514.761 Q68.1322 516.919 68.1322 519.366 Q68.1322 524.358 65.6845 527.257 Q63.2369 530.123 59.8231 530.123 Q57.4398 530.123 54.9922 528.545 Q52.5123 526.935 50.9343 524.101 Q48.9697 526.741 46.2322 526.741 Q43.7846 526.741 41.5946 524.68 Q39.4046 522.587 38.1163 519.205 Q36.7959 515.791 36.7959 512.056 Q36.7959 509.962 37.5044 507.901 Q38.1807 505.84 39.0503 504.68 Q39.9199 503.521 40.564 503.521 M50.6444 513.215 Q50.2579 514.632 50.2579 516.339 Q50.2579 518.658 50.8376 520.365 Q51.1919 518.98 51.1919 516.854 Q51.1919 515.083 51.0953 514.568 Q50.9987 514.02 50.6444 513.215 Z\" fill=\"#000000\" fill-rule=\"nonzero\" fill-opacity=\"1\" /><circle clip-path=\"url(#clip622)\" cx=\"1804.95\" cy=\"548.422\" r=\"14.4\" fill=\"#009af9\" fill-rule=\"evenodd\" fill-opacity=\"1\" stroke=\"#000000\" stroke-opacity=\"1\" stroke-width=\"3.2\"/>\n",
       "<circle clip-path=\"url(#clip622)\" cx=\"744.158\" cy=\"1157.8\" r=\"14.4\" fill=\"#009af9\" fill-rule=\"evenodd\" fill-opacity=\"1\" stroke=\"#000000\" stroke-opacity=\"1\" stroke-width=\"3.2\"/>\n",
       "<circle clip-path=\"url(#clip622)\" cx=\"767.4\" cy=\"1230.2\" r=\"14.4\" fill=\"#009af9\" fill-rule=\"evenodd\" fill-opacity=\"1\" stroke=\"#000000\" stroke-opacity=\"1\" stroke-width=\"3.2\"/>\n",
       "<circle clip-path=\"url(#clip622)\" cx=\"351.063\" cy=\"1339.89\" r=\"14.4\" fill=\"#009af9\" fill-rule=\"evenodd\" fill-opacity=\"1\" stroke=\"#000000\" stroke-opacity=\"1\" stroke-width=\"3.2\"/>\n",
       "<circle clip-path=\"url(#clip622)\" cx=\"1590.81\" cy=\"748.056\" r=\"14.4\" fill=\"#009af9\" fill-rule=\"evenodd\" fill-opacity=\"1\" stroke=\"#000000\" stroke-opacity=\"1\" stroke-width=\"3.2\"/>\n",
       "<circle clip-path=\"url(#clip622)\" cx=\"272.813\" cy=\"1369.6\" r=\"14.4\" fill=\"#009af9\" fill-rule=\"evenodd\" fill-opacity=\"1\" stroke=\"#000000\" stroke-opacity=\"1\" stroke-width=\"3.2\"/>\n",
       "<circle clip-path=\"url(#clip622)\" cx=\"600.5\" cy=\"1268.59\" r=\"14.4\" fill=\"#009af9\" fill-rule=\"evenodd\" fill-opacity=\"1\" stroke=\"#000000\" stroke-opacity=\"1\" stroke-width=\"3.2\"/>\n",
       "<circle clip-path=\"url(#clip622)\" cx=\"276.657\" cy=\"1316.09\" r=\"14.4\" fill=\"#009af9\" fill-rule=\"evenodd\" fill-opacity=\"1\" stroke=\"#000000\" stroke-opacity=\"1\" stroke-width=\"3.2\"/>\n",
       "<circle clip-path=\"url(#clip622)\" cx=\"1061.61\" cy=\"1021.58\" r=\"14.4\" fill=\"#009af9\" fill-rule=\"evenodd\" fill-opacity=\"1\" stroke=\"#000000\" stroke-opacity=\"1\" stroke-width=\"3.2\"/>\n",
       "<circle clip-path=\"url(#clip622)\" cx=\"1176.62\" cy=\"1029.95\" r=\"14.4\" fill=\"#009af9\" fill-rule=\"evenodd\" fill-opacity=\"1\" stroke=\"#000000\" stroke-opacity=\"1\" stroke-width=\"3.2\"/>\n",
       "<circle clip-path=\"url(#clip622)\" cx=\"1228.09\" cy=\"926.16\" r=\"14.4\" fill=\"#009af9\" fill-rule=\"evenodd\" fill-opacity=\"1\" stroke=\"#000000\" stroke-opacity=\"1\" stroke-width=\"3.2\"/>\n",
       "<circle clip-path=\"url(#clip622)\" cx=\"311.208\" cy=\"1350.71\" r=\"14.4\" fill=\"#009af9\" fill-rule=\"evenodd\" fill-opacity=\"1\" stroke=\"#000000\" stroke-opacity=\"1\" stroke-width=\"3.2\"/>\n",
       "<circle clip-path=\"url(#clip622)\" cx=\"545.369\" cy=\"1236.58\" r=\"14.4\" fill=\"#009af9\" fill-rule=\"evenodd\" fill-opacity=\"1\" stroke=\"#000000\" stroke-opacity=\"1\" stroke-width=\"3.2\"/>\n",
       "<circle clip-path=\"url(#clip622)\" cx=\"1812.4\" cy=\"488.652\" r=\"14.4\" fill=\"#009af9\" fill-rule=\"evenodd\" fill-opacity=\"1\" stroke=\"#000000\" stroke-opacity=\"1\" stroke-width=\"3.2\"/>\n",
       "<circle clip-path=\"url(#clip622)\" cx=\"1089.89\" cy=\"1063.92\" r=\"14.4\" fill=\"#009af9\" fill-rule=\"evenodd\" fill-opacity=\"1\" stroke=\"#000000\" stroke-opacity=\"1\" stroke-width=\"3.2\"/>\n",
       "<circle clip-path=\"url(#clip622)\" cx=\"399.402\" cy=\"1301.06\" r=\"14.4\" fill=\"#009af9\" fill-rule=\"evenodd\" fill-opacity=\"1\" stroke=\"#000000\" stroke-opacity=\"1\" stroke-width=\"3.2\"/>\n",
       "<circle clip-path=\"url(#clip622)\" cx=\"1553.68\" cy=\"770.403\" r=\"14.4\" fill=\"#009af9\" fill-rule=\"evenodd\" fill-opacity=\"1\" stroke=\"#000000\" stroke-opacity=\"1\" stroke-width=\"3.2\"/>\n",
       "<circle clip-path=\"url(#clip622)\" cx=\"331.792\" cy=\"1384.24\" r=\"14.4\" fill=\"#009af9\" fill-rule=\"evenodd\" fill-opacity=\"1\" stroke=\"#000000\" stroke-opacity=\"1\" stroke-width=\"3.2\"/>\n",
       "<circle clip-path=\"url(#clip622)\" cx=\"1607.86\" cy=\"692.607\" r=\"14.4\" fill=\"#009af9\" fill-rule=\"evenodd\" fill-opacity=\"1\" stroke=\"#000000\" stroke-opacity=\"1\" stroke-width=\"3.2\"/>\n",
       "<circle clip-path=\"url(#clip622)\" cx=\"1294.7\" cy=\"925.832\" r=\"14.4\" fill=\"#009af9\" fill-rule=\"evenodd\" fill-opacity=\"1\" stroke=\"#000000\" stroke-opacity=\"1\" stroke-width=\"3.2\"/>\n",
       "<circle clip-path=\"url(#clip622)\" cx=\"1799.39\" cy=\"554.943\" r=\"14.4\" fill=\"#009af9\" fill-rule=\"evenodd\" fill-opacity=\"1\" stroke=\"#000000\" stroke-opacity=\"1\" stroke-width=\"3.2\"/>\n",
       "<circle clip-path=\"url(#clip622)\" cx=\"725.942\" cy=\"1211.47\" r=\"14.4\" fill=\"#009af9\" fill-rule=\"evenodd\" fill-opacity=\"1\" stroke=\"#000000\" stroke-opacity=\"1\" stroke-width=\"3.2\"/>\n",
       "<circle clip-path=\"url(#clip622)\" cx=\"588.425\" cy=\"1258.93\" r=\"14.4\" fill=\"#009af9\" fill-rule=\"evenodd\" fill-opacity=\"1\" stroke=\"#000000\" stroke-opacity=\"1\" stroke-width=\"3.2\"/>\n",
       "<circle clip-path=\"url(#clip622)\" cx=\"1405.56\" cy=\"886.522\" r=\"14.4\" fill=\"#009af9\" fill-rule=\"evenodd\" fill-opacity=\"1\" stroke=\"#000000\" stroke-opacity=\"1\" stroke-width=\"3.2\"/>\n",
       "<circle clip-path=\"url(#clip622)\" cx=\"505.487\" cy=\"1279.68\" r=\"14.4\" fill=\"#009af9\" fill-rule=\"evenodd\" fill-opacity=\"1\" stroke=\"#000000\" stroke-opacity=\"1\" stroke-width=\"3.2\"/>\n",
       "<circle clip-path=\"url(#clip622)\" cx=\"365.294\" cy=\"1308.35\" r=\"14.4\" fill=\"#009af9\" fill-rule=\"evenodd\" fill-opacity=\"1\" stroke=\"#000000\" stroke-opacity=\"1\" stroke-width=\"3.2\"/>\n",
       "<circle clip-path=\"url(#clip622)\" cx=\"800.86\" cy=\"1201.99\" r=\"14.4\" fill=\"#009af9\" fill-rule=\"evenodd\" fill-opacity=\"1\" stroke=\"#000000\" stroke-opacity=\"1\" stroke-width=\"3.2\"/>\n",
       "<circle clip-path=\"url(#clip622)\" cx=\"731.814\" cy=\"1169.66\" r=\"14.4\" fill=\"#009af9\" fill-rule=\"evenodd\" fill-opacity=\"1\" stroke=\"#000000\" stroke-opacity=\"1\" stroke-width=\"3.2\"/>\n",
       "<circle clip-path=\"url(#clip622)\" cx=\"712.256\" cy=\"1234.57\" r=\"14.4\" fill=\"#009af9\" fill-rule=\"evenodd\" fill-opacity=\"1\" stroke=\"#000000\" stroke-opacity=\"1\" stroke-width=\"3.2\"/>\n",
       "<circle clip-path=\"url(#clip622)\" cx=\"1230.51\" cy=\"922.168\" r=\"14.4\" fill=\"#009af9\" fill-rule=\"evenodd\" fill-opacity=\"1\" stroke=\"#000000\" stroke-opacity=\"1\" stroke-width=\"3.2\"/>\n",
       "<polyline clip-path=\"url(#clip622)\" style=\"stroke:#e26f46; stroke-linecap:round; stroke-linejoin:round; stroke-width:4; stroke-opacity:0.3; fill:none\" points=\"265.903,1352.7 299.671,1345.2 333.439,1337.25 367.207,1328.85 400.974,1320 434.742,1310.7 468.51,1300.94 502.278,1290.74 536.046,1280.08 569.814,1268.97 603.582,1257.41 637.349,1245.39 671.117,1232.93 704.885,1220.01 738.653,1206.64 772.421,1192.82 806.189,1178.55 839.956,1163.83 873.724,1148.65 907.492,1133.03 941.26,1116.95 975.028,1100.42 1008.8,1083.44 1042.56,1066.01 1076.33,1048.13 1110.1,1029.79 1143.87,1011 1177.63,991.764 1211.4,972.074 1245.17,951.932 1278.94,931.339 1312.71,910.294 1346.47,888.797 1380.24,866.849 1414.01,844.45 1447.78,821.598 1481.55,798.296 1515.31,774.541 1549.08,750.335 1582.85,725.678 1616.62,700.568 1650.38,675.008 1684.15,648.995 1717.92,622.532 1751.69,595.616 1785.46,568.249 1819.22,540.43 1852.99,512.16 1886.76,483.438 1920.53,454.265 1954.3,424.64 1988.06,394.564 2021.83,364.036 2055.6,333.056 2089.37,301.625 2123.13,269.742 2156.9,237.407 2190.67,204.621 2224.44,171.384 2258.21,137.695 2291.97,103.554 \"/>\n",
       "<polyline clip-path=\"url(#clip622)\" style=\"stroke:#3da44d; stroke-linecap:round; stroke-linejoin:round; stroke-width:4; stroke-opacity:0.3; fill:none\" points=\"265.903,1358.78 299.671,1349.5 333.439,1339.87 367.207,1329.89 400.974,1319.57 434.742,1308.89 468.51,1297.87 502.278,1286.5 536.046,1274.78 569.814,1262.71 603.582,1250.3 637.349,1237.54 671.117,1224.43 704.885,1210.97 738.653,1197.16 772.421,1183.01 806.189,1168.51 839.956,1153.66 873.724,1138.46 907.492,1122.91 941.26,1107.02 975.028,1090.77 1008.8,1074.18 1042.56,1057.24 1076.33,1039.96 1110.1,1022.32 1143.87,1004.34 1177.63,986.006 1211.4,967.327 1245.17,948.3 1278.94,928.925 1312.71,909.202 1346.47,889.13 1380.24,868.711 1414.01,847.943 1447.78,826.828 1481.55,805.364 1515.31,783.553 1549.08,761.393 1582.85,738.886 1616.62,716.03 1650.38,692.826 1684.15,669.274 1717.92,645.374 1751.69,621.126 1785.46,596.53 1819.22,571.586 1852.99,546.294 1886.76,520.654 1920.53,494.666 1954.3,468.33 1988.06,441.645 2021.83,414.613 2055.6,387.233 2089.37,359.504 2123.13,331.428 2156.9,303.003 2190.67,274.231 2224.44,245.11 2258.21,215.641 2291.97,185.825 \"/>\n",
       "<polyline clip-path=\"url(#clip622)\" style=\"stroke:#c271d2; stroke-linecap:round; stroke-linejoin:round; stroke-width:4; stroke-opacity:0.3; fill:none\" points=\"265.903,1343.37 299.671,1336.67 333.439,1329.5 367.207,1321.86 400.974,1313.75 434.742,1305.18 468.51,1296.14 502.278,1286.63 536.046,1276.65 569.814,1266.21 603.582,1255.29 637.349,1243.91 671.117,1232.06 704.885,1219.75 738.653,1206.96 772.421,1193.71 806.189,1179.99 839.956,1165.81 873.724,1151.15 907.492,1136.03 941.26,1120.44 975.028,1104.38 1008.8,1087.86 1042.56,1070.86 1076.33,1053.4 1110.1,1035.47 1143.87,1017.07 1177.63,998.209 1211.4,978.876 1245.17,959.076 1278.94,938.808 1312.71,918.072 1346.47,896.869 1380.24,875.197 1414.01,853.058 1447.78,830.451 1481.55,807.376 1515.31,783.834 1549.08,759.823 1582.85,735.345 1616.62,710.4 1650.38,684.986 1684.15,659.105 1717.92,632.755 1751.69,605.939 1785.46,578.654 1819.22,550.901 1852.99,522.681 1886.76,493.993 1920.53,464.837 1954.3,435.214 1988.06,405.122 2021.83,374.563 2055.6,343.536 2089.37,312.042 2123.13,280.079 2156.9,247.649 2190.67,214.751 2224.44,181.385 2258.21,147.552 2291.97,113.25 \"/>\n",
       "<polyline clip-path=\"url(#clip622)\" style=\"stroke:#ac8d18; stroke-linecap:round; stroke-linejoin:round; stroke-width:4; stroke-opacity:0.3; fill:none\" points=\"265.903,1348.22 299.671,1340.75 333.439,1332.83 367.207,1324.46 400.974,1315.65 434.742,1306.38 468.51,1296.67 502.278,1286.51 536.046,1275.91 569.814,1264.85 603.582,1253.35 637.349,1241.4 671.117,1229 704.885,1216.16 738.653,1202.86 772.421,1189.12 806.189,1174.94 839.956,1160.3 873.724,1145.22 907.492,1129.68 941.26,1113.71 975.028,1097.28 1008.8,1080.4 1042.56,1063.08 1076.33,1045.31 1110.1,1027.1 1143.87,1008.43 1177.63,989.318 1211.4,969.758 1245.17,949.75 1278.94,929.294 1312.71,908.391 1346.47,887.04 1380.24,865.241 1414.01,842.994 1447.78,820.3 1481.55,797.158 1515.31,773.569 1549.08,749.532 1582.85,725.047 1616.62,700.114 1650.38,674.734 1684.15,648.906 1717.92,622.63 1751.69,595.907 1785.46,568.736 1819.22,541.117 1852.99,513.051 1886.76,484.537 1920.53,455.575 1954.3,426.165 1988.06,396.308 2021.83,366.004 2055.6,335.251 2089.37,304.051 2123.13,272.403 2156.9,240.308 2190.67,207.764 2224.44,174.773 2258.21,141.335 2291.97,107.448 \"/>\n",
       "<polyline clip-path=\"url(#clip622)\" style=\"stroke:#00a9ad; stroke-linecap:round; stroke-linejoin:round; stroke-width:4; stroke-opacity:0.3; fill:none\" points=\"265.903,1349.78 299.671,1342.09 333.439,1333.94 367.207,1325.36 400.974,1316.33 434.742,1306.86 468.51,1296.94 502.278,1286.59 536.046,1275.78 569.814,1264.54 603.582,1252.85 637.349,1240.72 671.117,1228.14 704.885,1215.12 738.653,1201.66 772.421,1187.75 806.189,1173.4 839.956,1158.61 873.724,1143.37 907.492,1127.69 941.26,1111.57 975.028,1095 1008.8,1077.99 1042.56,1060.53 1076.33,1042.63 1110.1,1024.29 1143.87,1005.51 1177.63,986.281 1211.4,966.609 1245.17,946.494 1278.94,925.936 1312.71,904.934 1346.47,883.488 1380.24,861.6 1414.01,839.267 1447.78,816.491 1481.55,793.272 1515.31,769.609 1549.08,745.503 1582.85,720.953 1616.62,695.96 1650.38,670.524 1684.15,644.643 1717.92,618.32 1751.69,591.553 1785.46,564.342 1819.22,536.688 1852.99,508.591 1886.76,480.05 1920.53,451.066 1954.3,421.638 1988.06,391.767 2021.83,361.452 2055.6,330.694 2089.37,299.492 2123.13,267.847 2156.9,235.758 2190.67,203.226 2224.44,170.251 2258.21,136.832 2291.97,102.969 \"/>\n",
       "<polyline clip-path=\"url(#clip622)\" style=\"stroke:#ed5d92; stroke-linecap:round; stroke-linejoin:round; stroke-width:4; stroke-opacity:0.3; fill:none\" points=\"265.903,1350.86 299.671,1343.22 333.439,1335.14 367.207,1326.6 400.974,1317.61 434.742,1308.16 468.51,1298.27 502.278,1287.92 536.046,1277.12 569.814,1265.87 603.582,1254.17 637.349,1242.01 671.117,1229.41 704.885,1216.35 738.653,1202.84 772.421,1188.87 806.189,1174.46 839.956,1159.59 873.724,1144.27 907.492,1128.5 941.26,1112.28 975.028,1095.6 1008.8,1078.47 1042.56,1060.89 1076.33,1042.86 1110.1,1024.38 1143.87,1005.44 1177.63,986.052 1211.4,966.212 1245.17,945.92 1278.94,925.175 1312.71,903.979 1346.47,882.331 1380.24,860.23 1414.01,837.678 1447.78,814.673 1481.55,791.216 1515.31,767.307 1549.08,742.947 1582.85,718.134 1616.62,692.869 1650.38,667.152 1684.15,640.983 1717.92,614.362 1751.69,587.288 1785.46,559.763 1819.22,531.786 1852.99,503.356 1886.76,474.475 1920.53,445.141 1954.3,415.356 1988.06,385.118 2021.83,354.428 2055.6,323.286 2089.37,291.693 2123.13,259.647 2156.9,227.149 2190.67,194.199 2224.44,160.797 2258.21,126.942 2291.97,92.6361 \"/>\n",
       "<polyline clip-path=\"url(#clip622)\" style=\"stroke:#c68125; stroke-linecap:round; stroke-linejoin:round; stroke-width:4; stroke-opacity:0.3; fill:none\" points=\"265.903,1353.53 299.671,1345.93 333.439,1337.88 367.207,1329.37 400.974,1320.41 434.742,1311 468.51,1301.13 502.278,1290.81 536.046,1280.03 569.814,1268.8 603.582,1257.12 637.349,1244.98 671.117,1232.39 704.885,1219.34 738.653,1205.84 772.421,1191.89 806.189,1177.48 839.956,1162.62 873.724,1147.31 907.492,1131.54 941.26,1115.32 975.028,1098.64 1008.8,1081.51 1042.56,1063.92 1076.33,1045.89 1110.1,1027.39 1143.87,1008.45 1177.63,989.048 1211.4,969.195 1245.17,948.887 1278.94,928.126 1312.71,906.911 1346.47,885.242 1380.24,863.119 1414.01,840.542 1447.78,817.511 1481.55,794.026 1515.31,770.088 1549.08,745.695 1582.85,720.849 1616.62,695.549 1650.38,669.795 1684.15,643.587 1717.92,616.925 1751.69,589.81 1785.46,562.24 1819.22,534.217 1852.99,505.74 1886.76,476.809 1920.53,447.424 1954.3,417.585 1988.06,387.292 2021.83,356.546 2055.6,325.345 2089.37,293.691 2123.13,261.583 2156.9,229.02 2190.67,196.005 2224.44,162.535 2258.21,128.611 2291.97,94.2334 \"/>\n",
       "<polyline clip-path=\"url(#clip622)\" style=\"stroke:#00a98d; stroke-linecap:round; stroke-linejoin:round; stroke-width:4; stroke-opacity:0.3; fill:none\" points=\"265.903,1363.14 299.671,1353.69 333.439,1343.89 367.207,1333.74 400.974,1323.24 434.742,1312.4 468.51,1301.2 502.278,1289.66 536.046,1277.77 569.814,1265.53 603.582,1252.94 637.349,1240 671.117,1226.71 704.885,1213.08 738.653,1199.1 772.421,1184.76 806.189,1170.08 839.956,1155.05 873.724,1139.67 907.492,1123.95 941.26,1107.87 975.028,1091.45 1008.8,1074.68 1042.56,1057.56 1076.33,1040.09 1110.1,1022.27 1143.87,1004.1 1177.63,985.584 1211.4,966.72 1245.17,947.507 1278.94,927.945 1312.71,908.035 1346.47,887.776 1380.24,867.169 1414.01,846.212 1447.78,824.908 1481.55,803.254 1515.31,781.252 1549.08,758.901 1582.85,736.202 1616.62,713.154 1650.38,689.757 1684.15,666.012 1717.92,641.918 1751.69,617.476 1785.46,592.685 1819.22,567.545 1852.99,542.056 1886.76,516.219 1920.53,490.034 1954.3,463.499 1988.06,436.617 2021.83,409.385 2055.6,381.805 2089.37,353.876 2123.13,325.598 2156.9,296.972 2190.67,267.998 2224.44,238.674 2258.21,209.002 2291.97,178.981 \"/>\n",
       "<polyline clip-path=\"url(#clip622)\" style=\"stroke:#8e971d; stroke-linecap:round; stroke-linejoin:round; stroke-width:4; stroke-opacity:0.3; fill:none\" points=\"265.903,1370.59 299.671,1360.24 333.439,1349.56 367.207,1338.54 400.974,1327.18 434.742,1315.49 468.51,1303.46 502.278,1291.1 536.046,1278.4 569.814,1265.36 603.582,1251.99 637.349,1238.28 671.117,1224.24 704.885,1209.86 738.653,1195.15 772.421,1180.1 806.189,1164.71 839.956,1148.99 873.724,1132.93 907.492,1116.53 941.26,1099.8 975.028,1082.74 1008.8,1065.33 1042.56,1047.6 1076.33,1029.52 1110.1,1011.11 1143.87,992.365 1177.63,973.283 1211.4,953.865 1245.17,934.111 1278.94,914.022 1312.71,893.596 1346.47,872.834 1380.24,851.736 1414.01,830.303 1447.78,808.533 1481.55,786.428 1515.31,763.986 1549.08,741.209 1582.85,718.096 1616.62,694.646 1650.38,670.861 1684.15,646.74 1717.92,622.283 1751.69,597.49 1785.46,572.361 1819.22,546.897 1852.99,521.096 1886.76,494.959 1920.53,468.487 1954.3,441.678 1988.06,414.534 2021.83,387.053 2055.6,359.237 2089.37,331.084 2123.13,302.596 2156.9,273.772 2190.67,244.612 2224.44,215.116 2258.21,185.284 2291.97,155.116 \"/>\n",
       "<polyline clip-path=\"url(#clip622)\" style=\"stroke:#00a8cb; stroke-linecap:round; stroke-linejoin:round; stroke-width:4; stroke-opacity:0.3; fill:none\" points=\"265.903,1343.84 299.671,1337.1 333.439,1329.89 367.207,1322.19 400.974,1314.01 434.742,1305.35 468.51,1296.21 502.278,1286.58 536.046,1276.48 569.814,1265.89 603.582,1254.81 637.349,1243.26 671.117,1231.22 704.885,1218.7 738.653,1205.7 772.421,1192.21 806.189,1178.25 839.956,1163.8 873.724,1148.87 907.492,1133.45 941.26,1117.55 975.028,1101.18 1008.8,1084.32 1042.56,1066.97 1076.33,1049.15 1110.1,1030.84 1143.87,1012.05 1177.63,992.775 1211.4,973.02 1245.17,952.783 1278.94,932.063 1312.71,910.861 1346.47,889.177 1380.24,867.01 1414.01,844.361 1447.78,821.23 1481.55,797.616 1515.31,773.52 1549.08,748.942 1582.85,723.881 1616.62,698.338 1650.38,672.313 1684.15,645.805 1717.92,618.815 1751.69,591.342 1785.46,563.388 1819.22,534.951 1852.99,506.031 1886.76,476.629 1920.53,446.745 1954.3,416.379 1988.06,385.53 2021.83,354.199 2055.6,322.385 2089.37,290.09 2123.13,257.311 2156.9,224.051 2190.67,190.308 2224.44,156.083 2258.21,121.376 2291.97,86.1857 \"/>\n",
       "<path clip-path=\"url(#clip620)\" d=\"M276.709 196.789 L591.333 196.789 L591.333 93.1086 L276.709 93.1086  Z\" fill=\"#ffffff\" fill-rule=\"evenodd\" fill-opacity=\"1\"/>\n",
       "<polyline clip-path=\"url(#clip620)\" style=\"stroke:#000000; stroke-linecap:round; stroke-linejoin:round; stroke-width:4; stroke-opacity:1; fill:none\" points=\"276.709,196.789 591.333,196.789 591.333,93.1086 276.709,93.1086 276.709,196.789 \"/>\n",
       "<circle clip-path=\"url(#clip620)\" cx=\"372.159\" cy=\"144.949\" r=\"20.48\" fill=\"#009af9\" fill-rule=\"evenodd\" fill-opacity=\"1\" stroke=\"#000000\" stroke-opacity=\"1\" stroke-width=\"4.55111\"/>\n",
       "<path clip-path=\"url(#clip620)\" d=\"M486.522 140.238 L486.522 126.21 L490.781 126.21 L490.781 162.229 L486.522 162.229 L486.522 158.34 Q485.179 160.655 483.119 161.789 Q481.082 162.9 478.211 162.9 Q473.512 162.9 470.549 159.15 Q467.61 155.4 467.61 149.289 Q467.61 143.178 470.549 139.428 Q473.512 135.678 478.211 135.678 Q481.082 135.678 483.119 136.812 Q485.179 137.923 486.522 140.238 M472.008 149.289 Q472.008 153.988 473.929 156.673 Q475.874 159.335 479.253 159.335 Q482.633 159.335 484.577 156.673 Q486.522 153.988 486.522 149.289 Q486.522 144.59 484.577 141.928 Q482.633 139.243 479.253 139.243 Q475.874 139.243 473.929 141.928 Q472.008 144.59 472.008 149.289 Z\" fill=\"#000000\" fill-rule=\"nonzero\" fill-opacity=\"1\" /><path clip-path=\"url(#clip620)\" d=\"M511.336 149.196 Q506.174 149.196 504.184 150.377 Q502.193 151.557 502.193 154.405 Q502.193 156.673 503.674 158.016 Q505.179 159.335 507.748 159.335 Q511.29 159.335 513.42 156.835 Q515.572 154.312 515.572 150.145 L515.572 149.196 L511.336 149.196 M519.832 147.437 L519.832 162.229 L515.572 162.229 L515.572 158.293 Q514.114 160.655 511.938 161.789 Q509.762 162.9 506.614 162.9 Q502.633 162.9 500.272 160.678 Q497.934 158.432 497.934 154.682 Q497.934 150.307 500.85 148.085 Q503.79 145.863 509.6 145.863 L515.572 145.863 L515.572 145.446 Q515.572 142.507 513.628 140.909 Q511.707 139.289 508.211 139.289 Q505.989 139.289 503.883 139.821 Q501.776 140.354 499.832 141.419 L499.832 137.483 Q502.17 136.581 504.369 136.141 Q506.568 135.678 508.651 135.678 Q514.276 135.678 517.054 138.594 Q519.832 141.511 519.832 147.437 Z\" fill=\"#000000\" fill-rule=\"nonzero\" fill-opacity=\"1\" /><path clip-path=\"url(#clip620)\" d=\"M532.818 128.942 L532.818 136.303 L541.591 136.303 L541.591 139.613 L532.818 139.613 L532.818 153.687 Q532.818 156.858 533.674 157.761 Q534.554 158.664 537.216 158.664 L541.591 158.664 L541.591 162.229 L537.216 162.229 Q532.285 162.229 530.41 160.4 Q528.535 158.548 528.535 153.687 L528.535 139.613 L525.41 139.613 L525.41 136.303 L528.535 136.303 L528.535 128.942 L532.818 128.942 Z\" fill=\"#000000\" fill-rule=\"nonzero\" fill-opacity=\"1\" /><path clip-path=\"url(#clip620)\" d=\"M558.975 149.196 Q553.813 149.196 551.822 150.377 Q549.831 151.557 549.831 154.405 Q549.831 156.673 551.313 158.016 Q552.818 159.335 555.387 159.335 Q558.929 159.335 561.058 156.835 Q563.211 154.312 563.211 150.145 L563.211 149.196 L558.975 149.196 M567.47 147.437 L567.47 162.229 L563.211 162.229 L563.211 158.293 Q561.753 160.655 559.577 161.789 Q557.401 162.9 554.253 162.9 Q550.271 162.9 547.91 160.678 Q545.572 158.432 545.572 154.682 Q545.572 150.307 548.489 148.085 Q551.429 145.863 557.239 145.863 L563.211 145.863 L563.211 145.446 Q563.211 142.507 561.267 140.909 Q559.345 139.289 555.85 139.289 Q553.628 139.289 551.521 139.821 Q549.415 140.354 547.47 141.419 L547.47 137.483 Q549.808 136.581 552.007 136.141 Q554.206 135.678 556.29 135.678 Q561.915 135.678 564.693 138.594 Q567.47 141.511 567.47 147.437 Z\" fill=\"#000000\" fill-rule=\"nonzero\" fill-opacity=\"1\" /></svg>\n"
      ],
      "text/html": [
       "<?xml version=\"1.0\" encoding=\"utf-8\"?>\n",
       "<svg xmlns=\"http://www.w3.org/2000/svg\" xmlns:xlink=\"http://www.w3.org/1999/xlink\" width=\"600\" height=\"400\" viewBox=\"0 0 2400 1600\">\n",
       "<defs>\n",
       "  <clipPath id=\"clip670\">\n",
       "    <rect x=\"0\" y=\"0\" width=\"2400\" height=\"1600\"/>\n",
       "  </clipPath>\n",
       "</defs>\n",
       "<path clip-path=\"url(#clip670)\" d=\"M0 1600 L2400 1600 L2400 0 L0 0  Z\" fill=\"#ffffff\" fill-rule=\"evenodd\" fill-opacity=\"1\"/>\n",
       "<defs>\n",
       "  <clipPath id=\"clip671\">\n",
       "    <rect x=\"480\" y=\"0\" width=\"1681\" height=\"1600\"/>\n",
       "  </clipPath>\n",
       "</defs>\n",
       "<path clip-path=\"url(#clip670)\" d=\"M205.121 1423.18 L2352.76 1423.18 L2352.76 47.2441 L205.121 47.2441  Z\" fill=\"#ffffff\" fill-rule=\"evenodd\" fill-opacity=\"1\"/>\n",
       "<defs>\n",
       "  <clipPath id=\"clip672\">\n",
       "    <rect x=\"205\" y=\"47\" width=\"2149\" height=\"1377\"/>\n",
       "  </clipPath>\n",
       "</defs>\n",
       "<polyline clip-path=\"url(#clip672)\" style=\"stroke:#000000; stroke-linecap:round; stroke-linejoin:round; stroke-width:2; stroke-opacity:0.1; fill:none\" points=\"265.903,1423.18 265.903,47.2441 \"/>\n",
       "<polyline clip-path=\"url(#clip672)\" style=\"stroke:#000000; stroke-linecap:round; stroke-linejoin:round; stroke-width:2; stroke-opacity:0.1; fill:none\" points=\"688.001,1423.18 688.001,47.2441 \"/>\n",
       "<polyline clip-path=\"url(#clip672)\" style=\"stroke:#000000; stroke-linecap:round; stroke-linejoin:round; stroke-width:2; stroke-opacity:0.1; fill:none\" points=\"1110.1,1423.18 1110.1,47.2441 \"/>\n",
       "<polyline clip-path=\"url(#clip672)\" style=\"stroke:#000000; stroke-linecap:round; stroke-linejoin:round; stroke-width:2; stroke-opacity:0.1; fill:none\" points=\"1532.2,1423.18 1532.2,47.2441 \"/>\n",
       "<polyline clip-path=\"url(#clip672)\" style=\"stroke:#000000; stroke-linecap:round; stroke-linejoin:round; stroke-width:2; stroke-opacity:0.1; fill:none\" points=\"1954.3,1423.18 1954.3,47.2441 \"/>\n",
       "<polyline clip-path=\"url(#clip670)\" style=\"stroke:#000000; stroke-linecap:round; stroke-linejoin:round; stroke-width:4; stroke-opacity:1; fill:none\" points=\"205.121,1423.18 2352.76,1423.18 \"/>\n",
       "<polyline clip-path=\"url(#clip670)\" style=\"stroke:#000000; stroke-linecap:round; stroke-linejoin:round; stroke-width:4; stroke-opacity:1; fill:none\" points=\"265.903,1423.18 265.903,1404.28 \"/>\n",
       "<polyline clip-path=\"url(#clip670)\" style=\"stroke:#000000; stroke-linecap:round; stroke-linejoin:round; stroke-width:4; stroke-opacity:1; fill:none\" points=\"688.001,1423.18 688.001,1404.28 \"/>\n",
       "<polyline clip-path=\"url(#clip670)\" style=\"stroke:#000000; stroke-linecap:round; stroke-linejoin:round; stroke-width:4; stroke-opacity:1; fill:none\" points=\"1110.1,1423.18 1110.1,1404.28 \"/>\n",
       "<polyline clip-path=\"url(#clip670)\" style=\"stroke:#000000; stroke-linecap:round; stroke-linejoin:round; stroke-width:4; stroke-opacity:1; fill:none\" points=\"1532.2,1423.18 1532.2,1404.28 \"/>\n",
       "<polyline clip-path=\"url(#clip670)\" style=\"stroke:#000000; stroke-linecap:round; stroke-linejoin:round; stroke-width:4; stroke-opacity:1; fill:none\" points=\"1954.3,1423.18 1954.3,1404.28 \"/>\n",
       "<path clip-path=\"url(#clip670)\" d=\"M243.287 1454.1 Q239.676 1454.1 237.848 1457.66 Q236.042 1461.2 236.042 1468.33 Q236.042 1475.44 237.848 1479.01 Q239.676 1482.55 243.287 1482.55 Q246.922 1482.55 248.727 1479.01 Q250.556 1475.44 250.556 1468.33 Q250.556 1461.2 248.727 1457.66 Q246.922 1454.1 243.287 1454.1 M243.287 1450.39 Q249.098 1450.39 252.153 1455 Q255.232 1459.58 255.232 1468.33 Q255.232 1477.06 252.153 1481.67 Q249.098 1486.25 243.287 1486.25 Q237.477 1486.25 234.399 1481.67 Q231.343 1477.06 231.343 1468.33 Q231.343 1459.58 234.399 1455 Q237.477 1450.39 243.287 1450.39 Z\" fill=\"#000000\" fill-rule=\"nonzero\" fill-opacity=\"1\" /><path clip-path=\"url(#clip670)\" d=\"M263.449 1479.7 L268.334 1479.7 L268.334 1485.58 L263.449 1485.58 L263.449 1479.7 Z\" fill=\"#000000\" fill-rule=\"nonzero\" fill-opacity=\"1\" /><path clip-path=\"url(#clip670)\" d=\"M288.519 1454.1 Q284.908 1454.1 283.079 1457.66 Q281.273 1461.2 281.273 1468.33 Q281.273 1475.44 283.079 1479.01 Q284.908 1482.55 288.519 1482.55 Q292.153 1482.55 293.959 1479.01 Q295.787 1475.44 295.787 1468.33 Q295.787 1461.2 293.959 1457.66 Q292.153 1454.1 288.519 1454.1 M288.519 1450.39 Q294.329 1450.39 297.384 1455 Q300.463 1459.58 300.463 1468.33 Q300.463 1477.06 297.384 1481.67 Q294.329 1486.25 288.519 1486.25 Q282.709 1486.25 279.63 1481.67 Q276.574 1477.06 276.574 1468.33 Q276.574 1459.58 279.63 1455 Q282.709 1450.39 288.519 1450.39 Z\" fill=\"#000000\" fill-rule=\"nonzero\" fill-opacity=\"1\" /><path clip-path=\"url(#clip670)\" d=\"M659.737 1481.64 L676.057 1481.64 L676.057 1485.58 L654.112 1485.58 L654.112 1481.64 Q656.774 1478.89 661.358 1474.26 Q665.964 1469.61 667.145 1468.27 Q669.39 1465.74 670.27 1464.01 Q671.173 1462.25 671.173 1460.56 Q671.173 1457.8 669.228 1456.07 Q667.307 1454.33 664.205 1454.33 Q662.006 1454.33 659.552 1455.09 Q657.122 1455.86 654.344 1457.41 L654.344 1452.69 Q657.168 1451.55 659.622 1450.97 Q662.075 1450.39 664.112 1450.39 Q669.483 1450.39 672.677 1453.08 Q675.872 1455.77 675.872 1460.26 Q675.872 1462.39 675.061 1464.31 Q674.274 1466.2 672.168 1468.8 Q671.589 1469.47 668.487 1472.69 Q665.386 1475.88 659.737 1481.64 Z\" fill=\"#000000\" fill-rule=\"nonzero\" fill-opacity=\"1\" /><path clip-path=\"url(#clip670)\" d=\"M685.872 1479.7 L690.756 1479.7 L690.756 1485.58 L685.872 1485.58 L685.872 1479.7 Z\" fill=\"#000000\" fill-rule=\"nonzero\" fill-opacity=\"1\" /><path clip-path=\"url(#clip670)\" d=\"M700.987 1451.02 L719.344 1451.02 L719.344 1454.96 L705.27 1454.96 L705.27 1463.43 Q706.288 1463.08 707.307 1462.92 Q708.325 1462.73 709.344 1462.73 Q715.131 1462.73 718.51 1465.9 Q721.89 1469.08 721.89 1474.49 Q721.89 1480.07 718.418 1483.17 Q714.945 1486.25 708.626 1486.25 Q706.45 1486.25 704.182 1485.88 Q701.936 1485.51 699.529 1484.77 L699.529 1480.07 Q701.612 1481.2 703.834 1481.76 Q706.057 1482.32 708.533 1482.32 Q712.538 1482.32 714.876 1480.21 Q717.214 1478.1 717.214 1474.49 Q717.214 1470.88 714.876 1468.77 Q712.538 1466.67 708.533 1466.67 Q706.658 1466.67 704.783 1467.08 Q702.932 1467.5 700.987 1468.38 L700.987 1451.02 Z\" fill=\"#000000\" fill-rule=\"nonzero\" fill-opacity=\"1\" /><path clip-path=\"url(#clip670)\" d=\"M1077.26 1451.02 L1095.62 1451.02 L1095.62 1454.96 L1081.55 1454.96 L1081.55 1463.43 Q1082.56 1463.08 1083.58 1462.92 Q1084.6 1462.73 1085.62 1462.73 Q1091.41 1462.73 1094.79 1465.9 Q1098.17 1469.08 1098.17 1474.49 Q1098.17 1480.07 1094.69 1483.17 Q1091.22 1486.25 1084.9 1486.25 Q1082.73 1486.25 1080.46 1485.88 Q1078.21 1485.51 1075.81 1484.77 L1075.81 1480.07 Q1077.89 1481.2 1080.11 1481.76 Q1082.33 1482.32 1084.81 1482.32 Q1088.81 1482.32 1091.15 1480.21 Q1093.49 1478.1 1093.49 1474.49 Q1093.49 1470.88 1091.15 1468.77 Q1088.81 1466.67 1084.81 1466.67 Q1082.94 1466.67 1081.06 1467.08 Q1079.21 1467.5 1077.26 1468.38 L1077.26 1451.02 Z\" fill=\"#000000\" fill-rule=\"nonzero\" fill-opacity=\"1\" /><path clip-path=\"url(#clip670)\" d=\"M1107.38 1479.7 L1112.26 1479.7 L1112.26 1485.58 L1107.38 1485.58 L1107.38 1479.7 Z\" fill=\"#000000\" fill-rule=\"nonzero\" fill-opacity=\"1\" /><path clip-path=\"url(#clip670)\" d=\"M1132.45 1454.1 Q1128.84 1454.1 1127.01 1457.66 Q1125.2 1461.2 1125.2 1468.33 Q1125.2 1475.44 1127.01 1479.01 Q1128.84 1482.55 1132.45 1482.55 Q1136.08 1482.55 1137.89 1479.01 Q1139.72 1475.44 1139.72 1468.33 Q1139.72 1461.2 1137.89 1457.66 Q1136.08 1454.1 1132.45 1454.1 M1132.45 1450.39 Q1138.26 1450.39 1141.31 1455 Q1144.39 1459.58 1144.39 1468.33 Q1144.39 1477.06 1141.31 1481.67 Q1138.26 1486.25 1132.45 1486.25 Q1126.64 1486.25 1123.56 1481.67 Q1120.5 1477.06 1120.5 1468.33 Q1120.5 1459.58 1123.56 1455 Q1126.64 1450.39 1132.45 1450.39 Z\" fill=\"#000000\" fill-rule=\"nonzero\" fill-opacity=\"1\" /><path clip-path=\"url(#clip670)\" d=\"M1498.52 1451.02 L1520.74 1451.02 L1520.74 1453.01 L1508.19 1485.58 L1503.31 1485.58 L1515.11 1454.96 L1498.52 1454.96 L1498.52 1451.02 Z\" fill=\"#000000\" fill-rule=\"nonzero\" fill-opacity=\"1\" /><path clip-path=\"url(#clip670)\" d=\"M1529.86 1479.7 L1534.74 1479.7 L1534.74 1485.58 L1529.86 1485.58 L1529.86 1479.7 Z\" fill=\"#000000\" fill-rule=\"nonzero\" fill-opacity=\"1\" /><path clip-path=\"url(#clip670)\" d=\"M1544.97 1451.02 L1563.33 1451.02 L1563.33 1454.96 L1549.26 1454.96 L1549.26 1463.43 Q1550.28 1463.08 1551.29 1462.92 Q1552.31 1462.73 1553.33 1462.73 Q1559.12 1462.73 1562.5 1465.9 Q1565.88 1469.08 1565.88 1474.49 Q1565.88 1480.07 1562.41 1483.17 Q1558.93 1486.25 1552.61 1486.25 Q1550.44 1486.25 1548.17 1485.88 Q1545.92 1485.51 1543.52 1484.77 L1543.52 1480.07 Q1545.6 1481.2 1547.82 1481.76 Q1550.04 1482.32 1552.52 1482.32 Q1556.53 1482.32 1558.86 1480.21 Q1561.2 1478.1 1561.2 1474.49 Q1561.2 1470.88 1558.86 1468.77 Q1556.53 1466.67 1552.52 1466.67 Q1550.65 1466.67 1548.77 1467.08 Q1546.92 1467.5 1544.97 1468.38 L1544.97 1451.02 Z\" fill=\"#000000\" fill-rule=\"nonzero\" fill-opacity=\"1\" /><path clip-path=\"url(#clip670)\" d=\"M1906.37 1481.64 L1914.01 1481.64 L1914.01 1455.28 L1905.7 1456.95 L1905.7 1452.69 L1913.96 1451.02 L1918.64 1451.02 L1918.64 1481.64 L1926.27 1481.64 L1926.27 1485.58 L1906.37 1485.58 L1906.37 1481.64 Z\" fill=\"#000000\" fill-rule=\"nonzero\" fill-opacity=\"1\" /><path clip-path=\"url(#clip670)\" d=\"M1945.72 1454.1 Q1942.11 1454.1 1940.28 1457.66 Q1938.47 1461.2 1938.47 1468.33 Q1938.47 1475.44 1940.28 1479.01 Q1942.11 1482.55 1945.72 1482.55 Q1949.35 1482.55 1951.16 1479.01 Q1952.99 1475.44 1952.99 1468.33 Q1952.99 1461.2 1951.16 1457.66 Q1949.35 1454.1 1945.72 1454.1 M1945.72 1450.39 Q1951.53 1450.39 1954.58 1455 Q1957.66 1459.58 1957.66 1468.33 Q1957.66 1477.06 1954.58 1481.67 Q1951.53 1486.25 1945.72 1486.25 Q1939.91 1486.25 1936.83 1481.67 Q1933.77 1477.06 1933.77 1468.33 Q1933.77 1459.58 1936.83 1455 Q1939.91 1450.39 1945.72 1450.39 Z\" fill=\"#000000\" fill-rule=\"nonzero\" fill-opacity=\"1\" /><path clip-path=\"url(#clip670)\" d=\"M1965.88 1479.7 L1970.77 1479.7 L1970.77 1485.58 L1965.88 1485.58 L1965.88 1479.7 Z\" fill=\"#000000\" fill-rule=\"nonzero\" fill-opacity=\"1\" /><path clip-path=\"url(#clip670)\" d=\"M1990.95 1454.1 Q1987.34 1454.1 1985.51 1457.66 Q1983.7 1461.2 1983.7 1468.33 Q1983.7 1475.44 1985.51 1479.01 Q1987.34 1482.55 1990.95 1482.55 Q1994.58 1482.55 1996.39 1479.01 Q1998.22 1475.44 1998.22 1468.33 Q1998.22 1461.2 1996.39 1457.66 Q1994.58 1454.1 1990.95 1454.1 M1990.95 1450.39 Q1996.76 1450.39 1999.82 1455 Q2002.89 1459.58 2002.89 1468.33 Q2002.89 1477.06 1999.82 1481.67 Q1996.76 1486.25 1990.95 1486.25 Q1985.14 1486.25 1982.06 1481.67 Q1979.01 1477.06 1979.01 1468.33 Q1979.01 1459.58 1982.06 1455 Q1985.14 1450.39 1990.95 1450.39 Z\" fill=\"#000000\" fill-rule=\"nonzero\" fill-opacity=\"1\" /><path clip-path=\"url(#clip670)\" d=\"M1291.71 1525.1 Q1291.71 1525.33 1291.16 1526.29 Q1290.65 1527.23 1288.75 1529.58 Q1286.85 1531.93 1284.01 1534.67 Q1282.95 1535.73 1281.34 1537.21 Q1279.73 1538.69 1278.63 1539.66 L1277.54 1540.62 Q1273.35 1544.17 1269.68 1548.13 Q1269.94 1548.03 1270.39 1548 Q1270.84 1547.93 1271.16 1547.93 L1271.48 1547.93 Q1273.16 1547.93 1276.09 1549.06 Q1278.67 1549.9 1279.99 1549.9 Q1281.27 1549.9 1282.69 1549.45 Q1284.11 1549 1285.65 1547.68 Q1287.2 1546.36 1287.91 1544.36 Q1288.04 1544.04 1288.1 1543.94 Q1288.17 1543.81 1288.36 1543.68 Q1288.55 1543.52 1288.81 1543.52 Q1289.17 1543.52 1289.39 1543.71 Q1289.62 1543.91 1289.62 1544.17 Q1289.62 1544.75 1289.17 1545.9 Q1288.75 1547.06 1287.81 1548.51 Q1286.91 1549.96 1285.72 1551.28 Q1284.56 1552.57 1282.82 1553.47 Q1281.08 1554.34 1279.25 1554.34 Q1277.93 1554.34 1276.96 1553.7 Q1275.99 1553.09 1275.03 1551.9 Q1273.71 1550.38 1273 1549.9 Q1272.29 1549.38 1271.19 1549.38 Q1268.26 1549.38 1265.59 1553.47 Q1265.3 1554.05 1265.11 1554.18 Q1264.95 1554.34 1264.56 1554.34 Q1263.75 1554.31 1263.75 1553.67 Q1263.75 1553.41 1264.46 1552.28 Q1265.2 1551.12 1266.85 1549.09 Q1268.52 1547.06 1270.55 1545.04 L1276.48 1539.5 Q1283.05 1533.96 1285.65 1530.83 Q1284.56 1530.83 1284.08 1530.8 Q1283.63 1530.77 1282.72 1530.57 Q1281.82 1530.35 1280.57 1529.87 Q1277.64 1528.87 1276.41 1528.87 Q1276.09 1528.87 1275.74 1528.9 Q1275.38 1528.93 1274.58 1529.09 Q1273.8 1529.25 1273.16 1529.58 Q1272.51 1529.87 1271.84 1530.51 Q1271.16 1531.12 1270.81 1531.96 Q1270.71 1532.22 1270.65 1532.35 Q1270.58 1532.48 1270.39 1532.6 Q1270.23 1532.7 1269.97 1532.7 Q1269.58 1532.7 1269.36 1532.48 Q1269.17 1532.25 1269.17 1531.96 Q1269.17 1531.38 1269.75 1530.19 Q1270.32 1529 1271.29 1527.71 Q1272.26 1526.39 1273.84 1525.42 Q1275.41 1524.46 1277.15 1524.46 Q1278.18 1524.46 1279.05 1524.91 Q1279.95 1525.36 1280.41 1525.84 Q1280.89 1526.29 1281.69 1527.29 Q1282.37 1528.06 1282.69 1528.38 Q1283.01 1528.71 1283.66 1529.06 Q1284.33 1529.38 1285.08 1529.38 Q1286.3 1529.38 1287.43 1528.45 Q1288.55 1527.48 1290 1525.16 Q1290.39 1524.46 1291 1524.46 Q1291.71 1524.46 1291.71 1525.1 Z\" fill=\"#000000\" fill-rule=\"nonzero\" fill-opacity=\"1\" /><polyline clip-path=\"url(#clip672)\" style=\"stroke:#000000; stroke-linecap:round; stroke-linejoin:round; stroke-width:2; stroke-opacity:0.1; fill:none\" points=\"205.121,1390.63 2352.76,1390.63 \"/>\n",
       "<polyline clip-path=\"url(#clip672)\" style=\"stroke:#000000; stroke-linecap:round; stroke-linejoin:round; stroke-width:2; stroke-opacity:0.1; fill:none\" points=\"205.121,1183.58 2352.76,1183.58 \"/>\n",
       "<polyline clip-path=\"url(#clip672)\" style=\"stroke:#000000; stroke-linecap:round; stroke-linejoin:round; stroke-width:2; stroke-opacity:0.1; fill:none\" points=\"205.121,976.539 2352.76,976.539 \"/>\n",
       "<polyline clip-path=\"url(#clip672)\" style=\"stroke:#000000; stroke-linecap:round; stroke-linejoin:round; stroke-width:2; stroke-opacity:0.1; fill:none\" points=\"205.121,769.493 2352.76,769.493 \"/>\n",
       "<polyline clip-path=\"url(#clip672)\" style=\"stroke:#000000; stroke-linecap:round; stroke-linejoin:round; stroke-width:2; stroke-opacity:0.1; fill:none\" points=\"205.121,562.447 2352.76,562.447 \"/>\n",
       "<polyline clip-path=\"url(#clip672)\" style=\"stroke:#000000; stroke-linecap:round; stroke-linejoin:round; stroke-width:2; stroke-opacity:0.1; fill:none\" points=\"205.121,355.401 2352.76,355.401 \"/>\n",
       "<polyline clip-path=\"url(#clip672)\" style=\"stroke:#000000; stroke-linecap:round; stroke-linejoin:round; stroke-width:2; stroke-opacity:0.1; fill:none\" points=\"205.121,148.356 2352.76,148.356 \"/>\n",
       "<polyline clip-path=\"url(#clip670)\" style=\"stroke:#000000; stroke-linecap:round; stroke-linejoin:round; stroke-width:4; stroke-opacity:1; fill:none\" points=\"205.121,1423.18 205.121,47.2441 \"/>\n",
       "<polyline clip-path=\"url(#clip670)\" style=\"stroke:#000000; stroke-linecap:round; stroke-linejoin:round; stroke-width:4; stroke-opacity:1; fill:none\" points=\"205.121,1390.63 224.019,1390.63 \"/>\n",
       "<polyline clip-path=\"url(#clip670)\" style=\"stroke:#000000; stroke-linecap:round; stroke-linejoin:round; stroke-width:4; stroke-opacity:1; fill:none\" points=\"205.121,1183.58 224.019,1183.58 \"/>\n",
       "<polyline clip-path=\"url(#clip670)\" style=\"stroke:#000000; stroke-linecap:round; stroke-linejoin:round; stroke-width:4; stroke-opacity:1; fill:none\" points=\"205.121,976.539 224.019,976.539 \"/>\n",
       "<polyline clip-path=\"url(#clip670)\" style=\"stroke:#000000; stroke-linecap:round; stroke-linejoin:round; stroke-width:4; stroke-opacity:1; fill:none\" points=\"205.121,769.493 224.019,769.493 \"/>\n",
       "<polyline clip-path=\"url(#clip670)\" style=\"stroke:#000000; stroke-linecap:round; stroke-linejoin:round; stroke-width:4; stroke-opacity:1; fill:none\" points=\"205.121,562.447 224.019,562.447 \"/>\n",
       "<polyline clip-path=\"url(#clip670)\" style=\"stroke:#000000; stroke-linecap:round; stroke-linejoin:round; stroke-width:4; stroke-opacity:1; fill:none\" points=\"205.121,355.401 224.019,355.401 \"/>\n",
       "<polyline clip-path=\"url(#clip670)\" style=\"stroke:#000000; stroke-linecap:round; stroke-linejoin:round; stroke-width:4; stroke-opacity:1; fill:none\" points=\"205.121,148.356 224.019,148.356 \"/>\n",
       "<path clip-path=\"url(#clip670)\" d=\"M157.177 1376.43 Q153.566 1376.43 151.737 1379.99 Q149.931 1383.54 149.931 1390.67 Q149.931 1397.77 151.737 1401.34 Q153.566 1404.88 157.177 1404.88 Q160.811 1404.88 162.616 1401.34 Q164.445 1397.77 164.445 1390.67 Q164.445 1383.54 162.616 1379.99 Q160.811 1376.43 157.177 1376.43 M157.177 1372.73 Q162.987 1372.73 166.042 1377.33 Q169.121 1381.92 169.121 1390.67 Q169.121 1399.39 166.042 1404 Q162.987 1408.58 157.177 1408.58 Q151.366 1408.58 148.288 1404 Q145.232 1399.39 145.232 1390.67 Q145.232 1381.92 148.288 1377.33 Q151.366 1372.73 157.177 1372.73 Z\" fill=\"#000000\" fill-rule=\"nonzero\" fill-opacity=\"1\" /><path clip-path=\"url(#clip670)\" d=\"M117.825 1196.93 L125.464 1196.93 L125.464 1170.56 L117.154 1172.23 L117.154 1167.97 L125.418 1166.3 L130.093 1166.3 L130.093 1196.93 L137.732 1196.93 L137.732 1200.86 L117.825 1200.86 L117.825 1196.93 Z\" fill=\"#000000\" fill-rule=\"nonzero\" fill-opacity=\"1\" /><path clip-path=\"url(#clip670)\" d=\"M157.177 1169.38 Q153.566 1169.38 151.737 1172.95 Q149.931 1176.49 149.931 1183.62 Q149.931 1190.73 151.737 1194.29 Q153.566 1197.83 157.177 1197.83 Q160.811 1197.83 162.616 1194.29 Q164.445 1190.73 164.445 1183.62 Q164.445 1176.49 162.616 1172.95 Q160.811 1169.38 157.177 1169.38 M157.177 1165.68 Q162.987 1165.68 166.042 1170.29 Q169.121 1174.87 169.121 1183.62 Q169.121 1192.35 166.042 1196.95 Q162.987 1201.54 157.177 1201.54 Q151.366 1201.54 148.288 1196.95 Q145.232 1192.35 145.232 1183.62 Q145.232 1174.87 148.288 1170.29 Q151.366 1165.68 157.177 1165.68 Z\" fill=\"#000000\" fill-rule=\"nonzero\" fill-opacity=\"1\" /><path clip-path=\"url(#clip670)\" d=\"M121.043 989.884 L137.362 989.884 L137.362 993.819 L115.418 993.819 L115.418 989.884 Q118.08 987.129 122.663 982.499 Q127.269 977.847 128.45 976.504 Q130.695 973.981 131.575 972.245 Q132.478 970.486 132.478 968.796 Q132.478 966.041 130.533 964.305 Q128.612 962.569 125.51 962.569 Q123.311 962.569 120.857 963.333 Q118.427 964.097 115.649 965.648 L115.649 960.925 Q118.473 959.791 120.927 959.212 Q123.38 958.634 125.418 958.634 Q130.788 958.634 133.982 961.319 Q137.177 964.004 137.177 968.495 Q137.177 970.624 136.367 972.546 Q135.579 974.444 133.473 977.036 Q132.894 977.708 129.792 980.925 Q126.691 984.12 121.043 989.884 Z\" fill=\"#000000\" fill-rule=\"nonzero\" fill-opacity=\"1\" /><path clip-path=\"url(#clip670)\" d=\"M157.177 962.337 Q153.566 962.337 151.737 965.902 Q149.931 969.444 149.931 976.573 Q149.931 983.68 151.737 987.245 Q153.566 990.786 157.177 990.786 Q160.811 990.786 162.616 987.245 Q164.445 983.68 164.445 976.573 Q164.445 969.444 162.616 965.902 Q160.811 962.337 157.177 962.337 M157.177 958.634 Q162.987 958.634 166.042 963.24 Q169.121 967.824 169.121 976.573 Q169.121 985.3 166.042 989.907 Q162.987 994.49 157.177 994.49 Q151.366 994.49 148.288 989.907 Q145.232 985.3 145.232 976.573 Q145.232 967.824 148.288 963.24 Q151.366 958.634 157.177 958.634 Z\" fill=\"#000000\" fill-rule=\"nonzero\" fill-opacity=\"1\" /><path clip-path=\"url(#clip670)\" d=\"M131.181 768.139 Q134.538 768.856 136.413 771.125 Q138.311 773.393 138.311 776.727 Q138.311 781.842 134.792 784.643 Q131.274 787.444 124.793 787.444 Q122.617 787.444 120.302 787.004 Q118.01 786.588 115.556 785.731 L115.556 781.217 Q117.501 782.352 119.816 782.93 Q122.13 783.509 124.654 783.509 Q129.052 783.509 131.343 781.773 Q133.658 780.037 133.658 776.727 Q133.658 773.671 131.505 771.958 Q129.376 770.222 125.556 770.222 L121.529 770.222 L121.529 766.38 L125.742 766.38 Q129.191 766.38 131.019 765.014 Q132.848 763.625 132.848 761.032 Q132.848 758.37 130.95 756.958 Q129.075 755.523 125.556 755.523 Q123.635 755.523 121.436 755.94 Q119.237 756.356 116.598 757.236 L116.598 753.069 Q119.26 752.329 121.575 751.958 Q123.913 751.588 125.973 751.588 Q131.297 751.588 134.399 754.019 Q137.501 756.426 137.501 760.546 Q137.501 763.417 135.857 765.407 Q134.214 767.375 131.181 768.139 Z\" fill=\"#000000\" fill-rule=\"nonzero\" fill-opacity=\"1\" /><path clip-path=\"url(#clip670)\" d=\"M157.177 755.292 Q153.566 755.292 151.737 758.856 Q149.931 762.398 149.931 769.528 Q149.931 776.634 151.737 780.199 Q153.566 783.741 157.177 783.741 Q160.811 783.741 162.616 780.199 Q164.445 776.634 164.445 769.528 Q164.445 762.398 162.616 758.856 Q160.811 755.292 157.177 755.292 M157.177 751.588 Q162.987 751.588 166.042 756.194 Q169.121 760.778 169.121 769.528 Q169.121 778.254 166.042 782.861 Q162.987 787.444 157.177 787.444 Q151.366 787.444 148.288 782.861 Q145.232 778.254 145.232 769.528 Q145.232 760.778 148.288 756.194 Q151.366 751.588 157.177 751.588 Z\" fill=\"#000000\" fill-rule=\"nonzero\" fill-opacity=\"1\" /><path clip-path=\"url(#clip670)\" d=\"M129.862 549.241 L118.056 567.69 L129.862 567.69 L129.862 549.241 M128.635 545.167 L134.515 545.167 L134.515 567.69 L139.445 567.69 L139.445 571.579 L134.515 571.579 L134.515 579.727 L129.862 579.727 L129.862 571.579 L114.26 571.579 L114.26 567.065 L128.635 545.167 Z\" fill=\"#000000\" fill-rule=\"nonzero\" fill-opacity=\"1\" /><path clip-path=\"url(#clip670)\" d=\"M157.177 548.246 Q153.566 548.246 151.737 551.811 Q149.931 555.352 149.931 562.482 Q149.931 569.588 151.737 573.153 Q153.566 576.695 157.177 576.695 Q160.811 576.695 162.616 573.153 Q164.445 569.588 164.445 562.482 Q164.445 555.352 162.616 551.811 Q160.811 548.246 157.177 548.246 M157.177 544.542 Q162.987 544.542 166.042 549.149 Q169.121 553.732 169.121 562.482 Q169.121 571.209 166.042 575.815 Q162.987 580.398 157.177 580.398 Q151.366 580.398 148.288 575.815 Q145.232 571.209 145.232 562.482 Q145.232 553.732 148.288 549.149 Q151.366 544.542 157.177 544.542 Z\" fill=\"#000000\" fill-rule=\"nonzero\" fill-opacity=\"1\" /><path clip-path=\"url(#clip670)\" d=\"M117.061 338.121 L135.417 338.121 L135.417 342.057 L121.343 342.057 L121.343 350.529 Q122.362 350.182 123.38 350.019 Q124.399 349.834 125.418 349.834 Q131.205 349.834 134.584 353.006 Q137.964 356.177 137.964 361.593 Q137.964 367.172 134.492 370.274 Q131.019 373.353 124.7 373.353 Q122.524 373.353 120.255 372.982 Q118.01 372.612 115.603 371.871 L115.603 367.172 Q117.686 368.306 119.908 368.862 Q122.13 369.418 124.607 369.418 Q128.612 369.418 130.95 367.311 Q133.288 365.205 133.288 361.593 Q133.288 357.982 130.95 355.876 Q128.612 353.769 124.607 353.769 Q122.732 353.769 120.857 354.186 Q119.006 354.603 117.061 355.482 L117.061 338.121 Z\" fill=\"#000000\" fill-rule=\"nonzero\" fill-opacity=\"1\" /><path clip-path=\"url(#clip670)\" d=\"M157.177 341.2 Q153.566 341.2 151.737 344.765 Q149.931 348.307 149.931 355.436 Q149.931 362.543 151.737 366.107 Q153.566 369.649 157.177 369.649 Q160.811 369.649 162.616 366.107 Q164.445 362.543 164.445 355.436 Q164.445 348.307 162.616 344.765 Q160.811 341.2 157.177 341.2 M157.177 337.496 Q162.987 337.496 166.042 342.103 Q169.121 346.686 169.121 355.436 Q169.121 364.163 166.042 368.769 Q162.987 373.353 157.177 373.353 Q151.366 373.353 148.288 368.769 Q145.232 364.163 145.232 355.436 Q145.232 346.686 148.288 342.103 Q151.366 337.496 157.177 337.496 Z\" fill=\"#000000\" fill-rule=\"nonzero\" fill-opacity=\"1\" /><path clip-path=\"url(#clip670)\" d=\"M127.593 146.492 Q124.445 146.492 122.593 148.645 Q120.765 150.798 120.765 154.548 Q120.765 158.275 122.593 160.45 Q124.445 162.603 127.593 162.603 Q130.742 162.603 132.57 160.45 Q134.422 158.275 134.422 154.548 Q134.422 150.798 132.57 148.645 Q130.742 146.492 127.593 146.492 M136.876 131.84 L136.876 136.099 Q135.117 135.265 133.311 134.826 Q131.529 134.386 129.769 134.386 Q125.14 134.386 122.686 137.511 Q120.255 140.636 119.908 146.955 Q121.274 144.941 123.334 143.876 Q125.394 142.789 127.871 142.789 Q133.08 142.789 136.089 145.96 Q139.121 149.108 139.121 154.548 Q139.121 159.872 135.973 163.089 Q132.825 166.307 127.593 166.307 Q121.598 166.307 118.427 161.724 Q115.256 157.117 115.256 148.39 Q115.256 140.196 119.144 135.335 Q123.033 130.451 129.584 130.451 Q131.343 130.451 133.126 130.798 Q134.931 131.145 136.876 131.84 Z\" fill=\"#000000\" fill-rule=\"nonzero\" fill-opacity=\"1\" /><path clip-path=\"url(#clip670)\" d=\"M157.177 134.154 Q153.566 134.154 151.737 137.719 Q149.931 141.261 149.931 148.39 Q149.931 155.497 151.737 159.062 Q153.566 162.603 157.177 162.603 Q160.811 162.603 162.616 159.062 Q164.445 155.497 164.445 148.39 Q164.445 141.261 162.616 137.719 Q160.811 134.154 157.177 134.154 M157.177 130.451 Q162.987 130.451 166.042 135.057 Q169.121 139.64 169.121 148.39 Q169.121 157.117 166.042 161.724 Q162.987 166.307 157.177 166.307 Q151.366 166.307 148.288 161.724 Q145.232 157.117 145.232 148.39 Q145.232 139.64 148.288 135.057 Q151.366 130.451 157.177 130.451 Z\" fill=\"#000000\" fill-rule=\"nonzero\" fill-opacity=\"1\" /><path clip-path=\"url(#clip670)\" d=\"M24.7187 937.85 Q26.49 937.85 27.585 938.977 Q28.68 940.072 28.68 941.457 Q28.68 942.455 28.0681 943.196 Q27.4562 943.905 26.3934 943.905 Q25.2984 943.905 24.139 943.067 Q22.9796 942.23 22.8185 940.33 Q21.6269 941.586 21.6269 943.583 Q21.6269 944.581 22.271 945.418 Q22.883 946.223 23.8813 946.674 Q24.9119 947.157 30.7412 948.252 Q32.6413 948.607 34.4771 948.929 Q36.3128 949.251 38.2451 949.637 L38.2451 944.162 Q38.2451 943.454 38.2774 943.164 Q38.3096 942.874 38.4706 942.649 Q38.6316 942.391 38.9859 942.391 Q39.8876 942.391 40.1131 942.81 Q40.3063 943.196 40.3063 944.355 L40.3063 950.024 L61.2079 953.985 Q61.8198 954.082 63.7522 954.5 Q65.6523 954.887 68.7763 955.821 Q71.9325 956.755 73.8004 957.689 Q74.8632 958.204 75.8616 958.88 Q76.8922 959.524 77.9228 960.458 Q78.9534 961.392 79.5653 962.616 Q80.2094 963.84 80.2094 965.128 Q80.2094 967.318 78.9856 969.025 Q77.7617 970.732 75.6684 970.732 Q73.897 970.732 72.802 969.637 Q71.707 968.51 71.707 967.125 Q71.707 966.127 72.3189 965.418 Q72.9309 964.677 73.9937 964.677 Q74.4445 964.677 74.9598 964.838 Q75.4751 964.999 76.0548 965.354 Q76.6667 965.708 77.0854 966.481 Q77.5041 967.254 77.5685 968.317 Q78.7601 967.061 78.7601 965.128 Q78.7601 964.516 78.5025 963.969 Q78.277 963.421 77.6973 962.97 Q77.1176 962.487 76.5379 962.133 Q75.9904 961.779 74.9276 961.425 Q73.897 961.07 73.1241 960.845 Q72.3512 960.619 70.9663 960.33 Q69.5815 960.008 68.7441 959.847 Q67.939 959.685 66.3609 959.396 L40.3063 954.468 L40.3063 958.816 Q40.3063 959.589 40.2741 959.911 Q40.2419 960.201 40.0809 960.426 Q39.8876 960.652 39.5012 960.652 Q38.8893 960.652 38.6316 960.394 Q38.3418 960.104 38.3096 959.782 Q38.2451 959.46 38.2451 958.687 L38.2451 954.114 Q30.0971 952.568 27.9071 951.956 Q25.5882 951.248 23.978 950.153 Q22.3355 949.058 21.5625 947.834 Q20.7896 946.61 20.4997 945.612 Q20.1777 944.581 20.1777 943.583 Q20.1777 941.328 21.4015 939.589 Q22.5931 937.85 24.7187 937.85 Z\" fill=\"#000000\" fill-rule=\"nonzero\" fill-opacity=\"1\" /><path clip-path=\"url(#clip670)\" d=\"M50.1935 928.97 Q39.0503 928.97 30.0649 924.815 Q26.2968 923.044 23.1406 920.564 Q19.9844 918.084 18.5996 916.442 Q17.2147 914.799 17.2147 914.348 Q17.2147 913.704 17.8588 913.672 Q18.1809 913.672 18.986 914.542 Q29.8072 925.17 50.1935 925.137 Q70.6442 925.137 81.0467 914.799 Q82.1739 913.672 82.5282 913.672 Q83.1723 913.672 83.1723 914.348 Q83.1723 914.799 81.8519 916.377 Q80.5314 917.956 77.5041 920.403 Q74.4767 922.851 70.7731 924.622 Q61.7876 928.97 50.1935 928.97 Z\" fill=\"#000000\" fill-rule=\"nonzero\" fill-opacity=\"1\" /><path clip-path=\"url(#clip670)\" d=\"M83.1723 902.322 L17.2147 902.322 L17.2147 892.371 L18.7284 892.371 L18.7284 897.91 L81.6586 897.91 L81.6586 892.371 L83.1723 892.371 L83.1723 902.322 Z\" fill=\"#000000\" fill-rule=\"nonzero\" fill-opacity=\"1\" /><path clip-path=\"url(#clip670)\" d=\"M29.0343 887.34 L26.9731 887.34 Q26.9731 879.418 22.7541 875.327 Q22.7541 874.2 23.0118 874.007 Q23.2694 873.814 24.461 873.814 L61.4656 873.814 Q63.4301 873.814 64.042 872.848 Q64.654 871.881 64.654 867.662 L64.654 865.569 L66.6829 865.569 Q66.4897 867.888 66.4897 876.261 Q66.4897 884.635 66.6829 886.922 L64.654 886.922 L64.654 884.828 Q64.654 880.674 64.0742 879.675 Q63.4623 878.677 61.4656 878.677 L27.2952 878.677 Q29.0343 882.123 29.0343 887.34 Z\" fill=\"#000000\" fill-rule=\"nonzero\" fill-opacity=\"1\" /><path clip-path=\"url(#clip670)\" d=\"M65.6201 860.428 Q64.5573 861.426 63.1725 861.426 Q61.7876 861.426 60.7893 860.428 Q59.7587 859.429 59.7587 857.916 Q59.7587 856.466 60.7248 855.5 Q61.6588 854.502 63.2047 854.502 Q64.7184 854.502 65.7167 855.565 Q66.6829 856.595 66.6829 857.916 Q66.6829 859.429 65.6201 860.428 Z\" fill=\"#000000\" fill-rule=\"nonzero\" fill-opacity=\"1\" /><path clip-path=\"url(#clip670)\" d=\"M45.5881 843.276 Q35.8941 843.276 30.6124 840.828 Q22.7541 837.414 22.7541 829.363 Q22.7541 827.656 23.2372 825.885 Q23.6881 824.081 25.4594 821.827 Q27.2307 819.54 30.1293 818.155 Q35.7331 815.515 45.5881 815.515 Q55.2176 815.515 60.4672 817.962 Q68.1322 821.537 68.1322 829.427 Q68.1322 832.39 66.6185 835.418 Q65.1048 838.413 61.4656 840.313 Q56.0228 843.276 45.5881 843.276 M44.7829 837.801 Q54.7345 837.801 58.6959 837.092 Q62.9792 836.287 64.8472 834.097 Q66.6829 831.875 66.6829 829.427 Q66.6829 826.787 64.7184 824.597 Q62.7216 822.374 58.4382 821.698 Q54.2193 820.957 44.7829 820.99 Q35.6043 820.99 31.9328 821.634 Q27.6494 822.503 25.9425 824.822 Q24.2034 827.109 24.2034 829.427 Q24.2034 830.297 24.461 831.231 Q24.7187 832.133 25.4594 833.453 Q26.2002 834.774 28.0359 835.804 Q29.8716 836.803 32.6413 837.286 Q36.2162 837.801 44.7829 837.801 Z\" fill=\"#000000\" fill-rule=\"nonzero\" fill-opacity=\"1\" /><path clip-path=\"url(#clip670)\" d=\"M65.6201 809.678 Q64.5573 810.612 63.1725 810.612 Q61.7876 810.612 60.757 809.71 Q59.6943 808.776 59.6943 807.101 Q59.6943 805.137 61.5944 804.01 Q63.4623 802.882 66.6185 802.882 Q70.0323 802.882 73.1885 804.267 Q76.3769 805.652 77.8906 807.005 Q79.4042 808.357 79.4042 808.905 Q79.4042 809.549 78.6957 809.549 Q78.4381 809.549 77.955 809.098 Q72.8664 804.364 66.6185 804.332 Q65.6201 804.332 65.6201 804.461 L65.749 804.622 Q66.6829 805.749 66.6829 807.101 Q66.6829 808.744 65.6201 809.678 Z\" fill=\"#000000\" fill-rule=\"nonzero\" fill-opacity=\"1\" /><path clip-path=\"url(#clip670)\" d=\"M38.1807 754.112 Q38.4062 754.112 39.3724 754.66 Q40.3063 755.175 42.6574 757.075 Q45.0084 758.975 47.7459 761.809 Q48.8087 762.872 50.2901 764.482 Q51.7716 766.093 52.7378 767.188 L53.704 768.283 Q57.2466 772.469 61.2079 776.141 Q61.1113 775.883 61.0791 775.432 Q61.0147 774.982 61.0147 774.659 L61.0147 774.337 Q61.0147 772.663 62.1419 769.732 Q62.9792 767.156 62.9792 765.835 Q62.9792 764.547 62.5284 763.13 Q62.0775 761.713 60.757 760.167 Q59.4366 758.621 57.4398 757.912 Q57.1178 757.784 57.0212 757.719 Q56.8923 757.655 56.7635 757.462 Q56.6025 757.268 56.6025 757.011 Q56.6025 756.656 56.7957 756.431 Q56.989 756.206 57.2466 756.206 Q57.8263 756.206 58.9857 756.656 Q60.1451 757.075 61.5944 758.009 Q63.0437 758.911 64.3641 760.102 Q65.6523 761.262 66.5541 763.001 Q67.4237 764.74 67.4237 766.576 Q67.4237 767.896 66.7795 768.862 Q66.1676 769.829 64.976 770.795 Q63.4623 772.115 62.9792 772.824 Q62.464 773.532 62.464 774.627 Q62.464 777.558 66.5541 780.231 Q67.1338 780.521 67.2626 780.714 Q67.4237 780.875 67.4237 781.262 Q67.3915 782.067 66.7473 782.067 Q66.4897 782.067 65.3625 781.358 Q64.2031 780.618 62.1741 778.975 Q60.1451 777.3 58.1162 775.271 L52.5768 769.346 Q47.0373 762.776 43.9134 760.167 Q43.9134 761.262 43.8812 761.745 Q43.849 762.196 43.6557 763.098 Q43.4303 763.999 42.9472 765.255 Q41.9488 768.186 41.9488 769.41 Q41.9488 769.732 41.981 770.086 Q42.0132 770.441 42.1743 771.246 Q42.3353 772.019 42.6574 772.663 Q42.9472 773.307 43.5913 773.983 Q44.2032 774.659 45.0406 775.014 Q45.2982 775.11 45.4271 775.175 Q45.5559 775.239 45.6847 775.432 Q45.7813 775.593 45.7813 775.851 Q45.7813 776.238 45.5559 776.463 Q45.3304 776.656 45.0406 776.656 Q44.4609 776.656 43.2693 776.077 Q42.0776 775.497 40.7894 774.531 Q39.469 773.564 38.5028 771.986 Q37.5366 770.408 37.5366 768.669 Q37.5366 767.639 37.9875 766.769 Q38.4384 765.867 38.9215 765.416 Q39.3724 764.933 40.3707 764.128 Q41.1437 763.452 41.4657 763.13 Q41.7878 762.808 42.1421 762.164 Q42.4641 761.487 42.4641 760.747 Q42.4641 759.523 41.5301 758.396 Q40.564 757.268 38.2451 755.819 Q37.5366 755.433 37.5366 754.821 Q37.5366 754.112 38.1807 754.112 Z\" fill=\"#000000\" fill-rule=\"nonzero\" fill-opacity=\"1\" /><path clip-path=\"url(#clip670)\" d=\"M65.6201 750.765 Q64.5573 751.699 63.1725 751.699 Q61.7876 751.699 60.757 750.798 Q59.6943 749.864 59.6943 748.189 Q59.6943 746.224 61.5944 745.097 Q63.4623 743.97 66.6185 743.97 Q70.0323 743.97 73.1885 745.355 Q76.3769 746.74 77.8906 748.092 Q79.4042 749.445 79.4042 749.993 Q79.4042 750.637 78.6957 750.637 Q78.4381 750.637 77.955 750.186 Q72.8664 745.452 66.6185 745.419 Q65.6201 745.419 65.6201 745.548 L65.749 745.709 Q66.6829 746.836 66.6829 748.189 Q66.6829 749.832 65.6201 750.765 Z\" fill=\"#000000\" fill-rule=\"nonzero\" fill-opacity=\"1\" /><path clip-path=\"url(#clip670)\" d=\"M38.1807 695.2 Q38.4062 695.2 39.3724 695.747 Q40.3063 696.262 42.6574 698.163 Q45.0084 700.063 47.7459 702.897 Q48.8087 703.96 50.2901 705.57 Q51.7716 707.18 52.7378 708.275 L53.704 709.37 Q57.2466 713.557 61.2079 717.228 Q61.1113 716.971 61.0791 716.52 Q61.0147 716.069 61.0147 715.747 L61.0147 715.425 Q61.0147 713.75 62.1419 710.82 Q62.9792 708.243 62.9792 706.923 Q62.9792 705.634 62.5284 704.217 Q62.0775 702.8 60.757 701.254 Q59.4366 699.709 57.4398 699 Q57.1178 698.871 57.0212 698.807 Q56.8923 698.742 56.7635 698.549 Q56.6025 698.356 56.6025 698.098 Q56.6025 697.744 56.7957 697.519 Q56.989 697.293 57.2466 697.293 Q57.8263 697.293 58.9857 697.744 Q60.1451 698.163 61.5944 699.097 Q63.0437 699.998 64.3641 701.19 Q65.6523 702.349 66.5541 704.089 Q67.4237 705.828 67.4237 707.663 Q67.4237 708.984 66.7795 709.95 Q66.1676 710.916 64.976 711.882 Q63.4623 713.203 62.9792 713.911 Q62.464 714.62 62.464 715.715 Q62.464 718.646 66.5541 721.319 Q67.1338 721.608 67.2626 721.802 Q67.4237 721.963 67.4237 722.349 Q67.3915 723.154 66.7473 723.154 Q66.4897 723.154 65.3625 722.446 Q64.2031 721.705 62.1741 720.063 Q60.1451 718.388 58.1162 716.359 L52.5768 710.433 Q47.0373 703.863 43.9134 701.254 Q43.9134 702.349 43.8812 702.832 Q43.849 703.283 43.6557 704.185 Q43.4303 705.087 42.9472 706.343 Q41.9488 709.274 41.9488 710.497 Q41.9488 710.82 41.981 711.174 Q42.0132 711.528 42.1743 712.333 Q42.3353 713.106 42.6574 713.75 Q42.9472 714.394 43.5913 715.071 Q44.2032 715.747 45.0406 716.101 Q45.2982 716.198 45.4271 716.262 Q45.5559 716.327 45.6847 716.52 Q45.7813 716.681 45.7813 716.939 Q45.7813 717.325 45.5559 717.551 Q45.3304 717.744 45.0406 717.744 Q44.4609 717.744 43.2693 717.164 Q42.0776 716.584 40.7894 715.618 Q39.469 714.652 38.5028 713.074 Q37.5366 711.496 37.5366 709.757 Q37.5366 708.726 37.9875 707.857 Q38.4384 706.955 38.9215 706.504 Q39.3724 706.021 40.3707 705.216 Q41.1437 704.539 41.4657 704.217 Q41.7878 703.895 42.1421 703.251 Q42.4641 702.575 42.4641 701.834 Q42.4641 700.61 41.5301 699.483 Q40.564 698.356 38.2451 696.907 Q37.5366 696.52 37.5366 695.908 Q37.5366 695.2 38.1807 695.2 Z\" fill=\"#000000\" fill-rule=\"nonzero\" fill-opacity=\"1\" /><path clip-path=\"url(#clip670)\" d=\"M46.9462 688.427 Q46.1121 688.427 45.8641 688.359 Q45.6161 688.269 45.2329 687.908 L35.3585 679.049 Q29.9029 674.202 25.1461 674.202 Q22.0575 674.202 19.8482 675.825 Q17.6389 677.425 17.6389 680.379 Q17.6389 682.408 18.8788 684.121 Q20.1187 685.834 22.328 686.623 Q22.283 686.488 22.283 686.015 Q22.283 684.865 23.0044 684.234 Q23.7258 683.58 24.6952 683.58 Q25.9351 683.58 26.5438 684.391 Q27.1299 685.181 27.1299 685.97 Q27.1299 686.285 27.0623 686.714 Q26.9947 687.119 26.3634 687.773 Q25.7097 688.427 24.5599 688.427 Q21.3361 688.427 18.7661 685.992 Q16.196 683.535 16.196 679.792 Q16.196 675.554 18.721 672.781 Q21.2234 669.986 25.1461 669.986 Q26.5212 669.986 27.7837 670.414 Q29.0236 670.82 29.993 671.384 Q30.9624 671.925 32.518 673.412 Q34.0735 674.9 35.1782 676.095 Q36.2828 677.29 38.6274 679.973 L43.3842 684.865 L43.3842 676.546 Q43.3842 672.488 43.0235 672.173 Q42.3698 671.722 38.9205 671.158 L38.9205 669.986 L46.9462 671.293 L46.9462 688.427 Z\" fill=\"#000000\" fill-rule=\"nonzero\" fill-opacity=\"1\" /><path clip-path=\"url(#clip670)\" d=\"M81.6586 663.132 L81.6586 657.593 L18.7284 657.593 L18.7284 663.132 L17.2147 663.132 L17.2147 653.181 L83.1723 653.181 L83.1723 663.132 L81.6586 663.132 Z\" fill=\"#000000\" fill-rule=\"nonzero\" fill-opacity=\"1\" /><path clip-path=\"url(#clip670)\" d=\"M82.5282 642.87 Q82.2061 642.87 81.401 642.033 Q70.5798 631.405 50.1935 631.405 Q29.7428 631.405 19.4047 641.614 Q18.2131 642.87 17.8588 642.87 Q17.2147 642.87 17.2147 642.226 Q17.2147 641.775 18.5352 640.197 Q19.8556 638.587 22.883 636.171 Q25.9103 633.723 29.614 631.92 Q38.5994 627.572 50.1935 627.572 Q61.3368 627.572 70.3222 631.727 Q74.0903 633.498 77.2464 635.978 Q80.4026 638.458 81.7875 640.1 Q83.1723 641.743 83.1723 642.226 Q83.1723 642.87 82.5282 642.87 Z\" fill=\"#000000\" fill-rule=\"nonzero\" fill-opacity=\"1\" /><path clip-path=\"url(#clip670)\" d=\"M50.9987 597.726 Q50.9987 599.24 50.1935 599.24 Q49.3884 599.24 49.3884 597.662 Q49.3884 597.469 49.4206 597.147 Q49.4528 596.792 49.4528 596.728 L49.4528 578.145 L30.8056 578.145 Q30.7412 578.145 30.4513 578.177 Q30.1293 578.209 29.936 578.209 Q28.3579 578.209 28.3579 577.437 Q28.3579 576.631 29.936 576.631 L49.4528 576.631 L49.4528 558.016 Q49.4528 557.952 49.4206 557.63 Q49.3884 557.308 49.3884 557.115 Q49.3884 555.601 50.1935 555.601 Q50.9987 555.569 50.9987 557.179 Q50.9987 557.372 50.9665 557.662 Q50.9343 557.952 50.9343 558.016 L50.9343 576.631 L70.5154 576.631 Q72.0291 576.631 72.0291 577.437 Q72.0291 578.209 70.451 578.209 Q70.2578 578.209 69.9357 578.177 Q69.6459 578.145 69.5815 578.145 L50.9343 578.145 L50.9343 596.728 Q50.9343 596.792 50.9665 597.179 Q50.9987 597.533 50.9987 597.726 Z\" fill=\"#000000\" fill-rule=\"nonzero\" fill-opacity=\"1\" /><path clip-path=\"url(#clip670)\" d=\"M40.564 503.521 Q41.2403 503.521 41.7878 504.101 Q42.3353 504.648 42.3353 505.324 Q42.3353 505.711 41.6912 506.645 Q39.8232 509.318 39.8232 512.7 Q39.8232 515.727 40.564 518.529 Q41.3047 521.331 42.8184 523.231 Q44.2998 525.099 46.2322 525.099 Q48.6476 525.099 50.0647 522.458 Q48.8087 519.721 48.8087 516.339 Q48.8087 515.244 48.8731 514.503 Q48.9375 513.73 49.0985 512.989 Q49.2596 512.249 49.646 511.894 Q50.0003 511.508 50.58 511.508 Q52.6412 511.508 52.6412 516.854 Q52.6412 520.332 51.7072 522.522 Q53.092 525.324 55.3143 526.87 Q57.5365 528.416 59.4366 528.416 Q61.0791 528.416 62.2707 527.514 Q63.4623 526.58 64.042 525.067 Q64.6217 523.521 64.8794 522.007 Q65.1048 520.461 65.1048 518.754 Q65.1048 515.952 64.7506 513.988 Q64.3641 511.991 63.6556 510.896 Q62.947 509.769 62.464 509.318 Q61.9487 508.835 61.1435 508.352 Q60.6926 508.062 60.6926 507.676 Q60.6926 507.386 60.8859 507.192 Q61.0469 506.967 61.3368 506.967 Q61.691 506.967 62.4317 507.418 Q63.1725 507.837 64.1709 508.867 Q65.137 509.866 66.0388 511.25 Q66.9084 512.603 67.5203 514.761 Q68.1322 516.919 68.1322 519.366 Q68.1322 524.358 65.6845 527.257 Q63.2369 530.123 59.8231 530.123 Q57.4398 530.123 54.9922 528.545 Q52.5123 526.935 50.9343 524.101 Q48.9697 526.741 46.2322 526.741 Q43.7846 526.741 41.5946 524.68 Q39.4046 522.587 38.1163 519.205 Q36.7959 515.791 36.7959 512.056 Q36.7959 509.962 37.5044 507.901 Q38.1807 505.84 39.0503 504.68 Q39.9199 503.521 40.564 503.521 M50.6444 513.215 Q50.2579 514.632 50.2579 516.339 Q50.2579 518.658 50.8376 520.365 Q51.1919 518.98 51.1919 516.854 Q51.1919 515.083 51.0953 514.568 Q50.9987 514.02 50.6444 513.215 Z\" fill=\"#000000\" fill-rule=\"nonzero\" fill-opacity=\"1\" /><circle clip-path=\"url(#clip672)\" cx=\"1804.95\" cy=\"548.422\" r=\"14.4\" fill=\"#009af9\" fill-rule=\"evenodd\" fill-opacity=\"1\" stroke=\"#000000\" stroke-opacity=\"1\" stroke-width=\"3.2\"/>\n",
       "<circle clip-path=\"url(#clip672)\" cx=\"744.158\" cy=\"1157.8\" r=\"14.4\" fill=\"#009af9\" fill-rule=\"evenodd\" fill-opacity=\"1\" stroke=\"#000000\" stroke-opacity=\"1\" stroke-width=\"3.2\"/>\n",
       "<circle clip-path=\"url(#clip672)\" cx=\"767.4\" cy=\"1230.2\" r=\"14.4\" fill=\"#009af9\" fill-rule=\"evenodd\" fill-opacity=\"1\" stroke=\"#000000\" stroke-opacity=\"1\" stroke-width=\"3.2\"/>\n",
       "<circle clip-path=\"url(#clip672)\" cx=\"351.063\" cy=\"1339.89\" r=\"14.4\" fill=\"#009af9\" fill-rule=\"evenodd\" fill-opacity=\"1\" stroke=\"#000000\" stroke-opacity=\"1\" stroke-width=\"3.2\"/>\n",
       "<circle clip-path=\"url(#clip672)\" cx=\"1590.81\" cy=\"748.056\" r=\"14.4\" fill=\"#009af9\" fill-rule=\"evenodd\" fill-opacity=\"1\" stroke=\"#000000\" stroke-opacity=\"1\" stroke-width=\"3.2\"/>\n",
       "<circle clip-path=\"url(#clip672)\" cx=\"272.813\" cy=\"1369.6\" r=\"14.4\" fill=\"#009af9\" fill-rule=\"evenodd\" fill-opacity=\"1\" stroke=\"#000000\" stroke-opacity=\"1\" stroke-width=\"3.2\"/>\n",
       "<circle clip-path=\"url(#clip672)\" cx=\"600.5\" cy=\"1268.59\" r=\"14.4\" fill=\"#009af9\" fill-rule=\"evenodd\" fill-opacity=\"1\" stroke=\"#000000\" stroke-opacity=\"1\" stroke-width=\"3.2\"/>\n",
       "<circle clip-path=\"url(#clip672)\" cx=\"276.657\" cy=\"1316.09\" r=\"14.4\" fill=\"#009af9\" fill-rule=\"evenodd\" fill-opacity=\"1\" stroke=\"#000000\" stroke-opacity=\"1\" stroke-width=\"3.2\"/>\n",
       "<circle clip-path=\"url(#clip672)\" cx=\"1061.61\" cy=\"1021.58\" r=\"14.4\" fill=\"#009af9\" fill-rule=\"evenodd\" fill-opacity=\"1\" stroke=\"#000000\" stroke-opacity=\"1\" stroke-width=\"3.2\"/>\n",
       "<circle clip-path=\"url(#clip672)\" cx=\"1176.62\" cy=\"1029.95\" r=\"14.4\" fill=\"#009af9\" fill-rule=\"evenodd\" fill-opacity=\"1\" stroke=\"#000000\" stroke-opacity=\"1\" stroke-width=\"3.2\"/>\n",
       "<circle clip-path=\"url(#clip672)\" cx=\"1228.09\" cy=\"926.16\" r=\"14.4\" fill=\"#009af9\" fill-rule=\"evenodd\" fill-opacity=\"1\" stroke=\"#000000\" stroke-opacity=\"1\" stroke-width=\"3.2\"/>\n",
       "<circle clip-path=\"url(#clip672)\" cx=\"311.208\" cy=\"1350.71\" r=\"14.4\" fill=\"#009af9\" fill-rule=\"evenodd\" fill-opacity=\"1\" stroke=\"#000000\" stroke-opacity=\"1\" stroke-width=\"3.2\"/>\n",
       "<circle clip-path=\"url(#clip672)\" cx=\"545.369\" cy=\"1236.58\" r=\"14.4\" fill=\"#009af9\" fill-rule=\"evenodd\" fill-opacity=\"1\" stroke=\"#000000\" stroke-opacity=\"1\" stroke-width=\"3.2\"/>\n",
       "<circle clip-path=\"url(#clip672)\" cx=\"1812.4\" cy=\"488.652\" r=\"14.4\" fill=\"#009af9\" fill-rule=\"evenodd\" fill-opacity=\"1\" stroke=\"#000000\" stroke-opacity=\"1\" stroke-width=\"3.2\"/>\n",
       "<circle clip-path=\"url(#clip672)\" cx=\"1089.89\" cy=\"1063.92\" r=\"14.4\" fill=\"#009af9\" fill-rule=\"evenodd\" fill-opacity=\"1\" stroke=\"#000000\" stroke-opacity=\"1\" stroke-width=\"3.2\"/>\n",
       "<circle clip-path=\"url(#clip672)\" cx=\"399.402\" cy=\"1301.06\" r=\"14.4\" fill=\"#009af9\" fill-rule=\"evenodd\" fill-opacity=\"1\" stroke=\"#000000\" stroke-opacity=\"1\" stroke-width=\"3.2\"/>\n",
       "<circle clip-path=\"url(#clip672)\" cx=\"1553.68\" cy=\"770.403\" r=\"14.4\" fill=\"#009af9\" fill-rule=\"evenodd\" fill-opacity=\"1\" stroke=\"#000000\" stroke-opacity=\"1\" stroke-width=\"3.2\"/>\n",
       "<circle clip-path=\"url(#clip672)\" cx=\"331.792\" cy=\"1384.24\" r=\"14.4\" fill=\"#009af9\" fill-rule=\"evenodd\" fill-opacity=\"1\" stroke=\"#000000\" stroke-opacity=\"1\" stroke-width=\"3.2\"/>\n",
       "<circle clip-path=\"url(#clip672)\" cx=\"1607.86\" cy=\"692.607\" r=\"14.4\" fill=\"#009af9\" fill-rule=\"evenodd\" fill-opacity=\"1\" stroke=\"#000000\" stroke-opacity=\"1\" stroke-width=\"3.2\"/>\n",
       "<circle clip-path=\"url(#clip672)\" cx=\"1294.7\" cy=\"925.832\" r=\"14.4\" fill=\"#009af9\" fill-rule=\"evenodd\" fill-opacity=\"1\" stroke=\"#000000\" stroke-opacity=\"1\" stroke-width=\"3.2\"/>\n",
       "<circle clip-path=\"url(#clip672)\" cx=\"1799.39\" cy=\"554.943\" r=\"14.4\" fill=\"#009af9\" fill-rule=\"evenodd\" fill-opacity=\"1\" stroke=\"#000000\" stroke-opacity=\"1\" stroke-width=\"3.2\"/>\n",
       "<circle clip-path=\"url(#clip672)\" cx=\"725.942\" cy=\"1211.47\" r=\"14.4\" fill=\"#009af9\" fill-rule=\"evenodd\" fill-opacity=\"1\" stroke=\"#000000\" stroke-opacity=\"1\" stroke-width=\"3.2\"/>\n",
       "<circle clip-path=\"url(#clip672)\" cx=\"588.425\" cy=\"1258.93\" r=\"14.4\" fill=\"#009af9\" fill-rule=\"evenodd\" fill-opacity=\"1\" stroke=\"#000000\" stroke-opacity=\"1\" stroke-width=\"3.2\"/>\n",
       "<circle clip-path=\"url(#clip672)\" cx=\"1405.56\" cy=\"886.522\" r=\"14.4\" fill=\"#009af9\" fill-rule=\"evenodd\" fill-opacity=\"1\" stroke=\"#000000\" stroke-opacity=\"1\" stroke-width=\"3.2\"/>\n",
       "<circle clip-path=\"url(#clip672)\" cx=\"505.487\" cy=\"1279.68\" r=\"14.4\" fill=\"#009af9\" fill-rule=\"evenodd\" fill-opacity=\"1\" stroke=\"#000000\" stroke-opacity=\"1\" stroke-width=\"3.2\"/>\n",
       "<circle clip-path=\"url(#clip672)\" cx=\"365.294\" cy=\"1308.35\" r=\"14.4\" fill=\"#009af9\" fill-rule=\"evenodd\" fill-opacity=\"1\" stroke=\"#000000\" stroke-opacity=\"1\" stroke-width=\"3.2\"/>\n",
       "<circle clip-path=\"url(#clip672)\" cx=\"800.86\" cy=\"1201.99\" r=\"14.4\" fill=\"#009af9\" fill-rule=\"evenodd\" fill-opacity=\"1\" stroke=\"#000000\" stroke-opacity=\"1\" stroke-width=\"3.2\"/>\n",
       "<circle clip-path=\"url(#clip672)\" cx=\"731.814\" cy=\"1169.66\" r=\"14.4\" fill=\"#009af9\" fill-rule=\"evenodd\" fill-opacity=\"1\" stroke=\"#000000\" stroke-opacity=\"1\" stroke-width=\"3.2\"/>\n",
       "<circle clip-path=\"url(#clip672)\" cx=\"712.256\" cy=\"1234.57\" r=\"14.4\" fill=\"#009af9\" fill-rule=\"evenodd\" fill-opacity=\"1\" stroke=\"#000000\" stroke-opacity=\"1\" stroke-width=\"3.2\"/>\n",
       "<circle clip-path=\"url(#clip672)\" cx=\"1230.51\" cy=\"922.168\" r=\"14.4\" fill=\"#009af9\" fill-rule=\"evenodd\" fill-opacity=\"1\" stroke=\"#000000\" stroke-opacity=\"1\" stroke-width=\"3.2\"/>\n",
       "<polyline clip-path=\"url(#clip672)\" style=\"stroke:#e26f46; stroke-linecap:round; stroke-linejoin:round; stroke-width:4; stroke-opacity:0.3; fill:none\" points=\"265.903,1352.7 299.671,1345.2 333.439,1337.25 367.207,1328.85 400.974,1320 434.742,1310.7 468.51,1300.94 502.278,1290.74 536.046,1280.08 569.814,1268.97 603.582,1257.41 637.349,1245.39 671.117,1232.93 704.885,1220.01 738.653,1206.64 772.421,1192.82 806.189,1178.55 839.956,1163.83 873.724,1148.65 907.492,1133.03 941.26,1116.95 975.028,1100.42 1008.8,1083.44 1042.56,1066.01 1076.33,1048.13 1110.1,1029.79 1143.87,1011 1177.63,991.764 1211.4,972.074 1245.17,951.932 1278.94,931.339 1312.71,910.294 1346.47,888.797 1380.24,866.849 1414.01,844.45 1447.78,821.598 1481.55,798.296 1515.31,774.541 1549.08,750.335 1582.85,725.678 1616.62,700.568 1650.38,675.008 1684.15,648.995 1717.92,622.532 1751.69,595.616 1785.46,568.249 1819.22,540.43 1852.99,512.16 1886.76,483.438 1920.53,454.265 1954.3,424.64 1988.06,394.564 2021.83,364.036 2055.6,333.056 2089.37,301.625 2123.13,269.742 2156.9,237.407 2190.67,204.621 2224.44,171.384 2258.21,137.695 2291.97,103.554 \"/>\n",
       "<polyline clip-path=\"url(#clip672)\" style=\"stroke:#3da44d; stroke-linecap:round; stroke-linejoin:round; stroke-width:4; stroke-opacity:0.3; fill:none\" points=\"265.903,1358.78 299.671,1349.5 333.439,1339.87 367.207,1329.89 400.974,1319.57 434.742,1308.89 468.51,1297.87 502.278,1286.5 536.046,1274.78 569.814,1262.71 603.582,1250.3 637.349,1237.54 671.117,1224.43 704.885,1210.97 738.653,1197.16 772.421,1183.01 806.189,1168.51 839.956,1153.66 873.724,1138.46 907.492,1122.91 941.26,1107.02 975.028,1090.77 1008.8,1074.18 1042.56,1057.24 1076.33,1039.96 1110.1,1022.32 1143.87,1004.34 1177.63,986.006 1211.4,967.327 1245.17,948.3 1278.94,928.925 1312.71,909.202 1346.47,889.13 1380.24,868.711 1414.01,847.943 1447.78,826.828 1481.55,805.364 1515.31,783.553 1549.08,761.393 1582.85,738.886 1616.62,716.03 1650.38,692.826 1684.15,669.274 1717.92,645.374 1751.69,621.126 1785.46,596.53 1819.22,571.586 1852.99,546.294 1886.76,520.654 1920.53,494.666 1954.3,468.33 1988.06,441.645 2021.83,414.613 2055.6,387.233 2089.37,359.504 2123.13,331.428 2156.9,303.003 2190.67,274.231 2224.44,245.11 2258.21,215.641 2291.97,185.825 \"/>\n",
       "<polyline clip-path=\"url(#clip672)\" style=\"stroke:#c271d2; stroke-linecap:round; stroke-linejoin:round; stroke-width:4; stroke-opacity:0.3; fill:none\" points=\"265.903,1343.37 299.671,1336.67 333.439,1329.5 367.207,1321.86 400.974,1313.75 434.742,1305.18 468.51,1296.14 502.278,1286.63 536.046,1276.65 569.814,1266.21 603.582,1255.29 637.349,1243.91 671.117,1232.06 704.885,1219.75 738.653,1206.96 772.421,1193.71 806.189,1179.99 839.956,1165.81 873.724,1151.15 907.492,1136.03 941.26,1120.44 975.028,1104.38 1008.8,1087.86 1042.56,1070.86 1076.33,1053.4 1110.1,1035.47 1143.87,1017.07 1177.63,998.209 1211.4,978.876 1245.17,959.076 1278.94,938.808 1312.71,918.072 1346.47,896.869 1380.24,875.197 1414.01,853.058 1447.78,830.451 1481.55,807.376 1515.31,783.834 1549.08,759.823 1582.85,735.345 1616.62,710.4 1650.38,684.986 1684.15,659.105 1717.92,632.755 1751.69,605.939 1785.46,578.654 1819.22,550.901 1852.99,522.681 1886.76,493.993 1920.53,464.837 1954.3,435.214 1988.06,405.122 2021.83,374.563 2055.6,343.536 2089.37,312.042 2123.13,280.079 2156.9,247.649 2190.67,214.751 2224.44,181.385 2258.21,147.552 2291.97,113.25 \"/>\n",
       "<polyline clip-path=\"url(#clip672)\" style=\"stroke:#ac8d18; stroke-linecap:round; stroke-linejoin:round; stroke-width:4; stroke-opacity:0.3; fill:none\" points=\"265.903,1348.22 299.671,1340.75 333.439,1332.83 367.207,1324.46 400.974,1315.65 434.742,1306.38 468.51,1296.67 502.278,1286.51 536.046,1275.91 569.814,1264.85 603.582,1253.35 637.349,1241.4 671.117,1229 704.885,1216.16 738.653,1202.86 772.421,1189.12 806.189,1174.94 839.956,1160.3 873.724,1145.22 907.492,1129.68 941.26,1113.71 975.028,1097.28 1008.8,1080.4 1042.56,1063.08 1076.33,1045.31 1110.1,1027.1 1143.87,1008.43 1177.63,989.318 1211.4,969.758 1245.17,949.75 1278.94,929.294 1312.71,908.391 1346.47,887.04 1380.24,865.241 1414.01,842.994 1447.78,820.3 1481.55,797.158 1515.31,773.569 1549.08,749.532 1582.85,725.047 1616.62,700.114 1650.38,674.734 1684.15,648.906 1717.92,622.63 1751.69,595.907 1785.46,568.736 1819.22,541.117 1852.99,513.051 1886.76,484.537 1920.53,455.575 1954.3,426.165 1988.06,396.308 2021.83,366.004 2055.6,335.251 2089.37,304.051 2123.13,272.403 2156.9,240.308 2190.67,207.764 2224.44,174.773 2258.21,141.335 2291.97,107.448 \"/>\n",
       "<polyline clip-path=\"url(#clip672)\" style=\"stroke:#00a9ad; stroke-linecap:round; stroke-linejoin:round; stroke-width:4; stroke-opacity:0.3; fill:none\" points=\"265.903,1349.78 299.671,1342.09 333.439,1333.94 367.207,1325.36 400.974,1316.33 434.742,1306.86 468.51,1296.94 502.278,1286.59 536.046,1275.78 569.814,1264.54 603.582,1252.85 637.349,1240.72 671.117,1228.14 704.885,1215.12 738.653,1201.66 772.421,1187.75 806.189,1173.4 839.956,1158.61 873.724,1143.37 907.492,1127.69 941.26,1111.57 975.028,1095 1008.8,1077.99 1042.56,1060.53 1076.33,1042.63 1110.1,1024.29 1143.87,1005.51 1177.63,986.281 1211.4,966.609 1245.17,946.494 1278.94,925.936 1312.71,904.934 1346.47,883.488 1380.24,861.6 1414.01,839.267 1447.78,816.491 1481.55,793.272 1515.31,769.609 1549.08,745.503 1582.85,720.953 1616.62,695.96 1650.38,670.524 1684.15,644.643 1717.92,618.32 1751.69,591.553 1785.46,564.342 1819.22,536.688 1852.99,508.591 1886.76,480.05 1920.53,451.066 1954.3,421.638 1988.06,391.767 2021.83,361.452 2055.6,330.694 2089.37,299.492 2123.13,267.847 2156.9,235.758 2190.67,203.226 2224.44,170.251 2258.21,136.832 2291.97,102.969 \"/>\n",
       "<polyline clip-path=\"url(#clip672)\" style=\"stroke:#ed5d92; stroke-linecap:round; stroke-linejoin:round; stroke-width:4; stroke-opacity:0.3; fill:none\" points=\"265.903,1350.86 299.671,1343.22 333.439,1335.14 367.207,1326.6 400.974,1317.61 434.742,1308.16 468.51,1298.27 502.278,1287.92 536.046,1277.12 569.814,1265.87 603.582,1254.17 637.349,1242.01 671.117,1229.41 704.885,1216.35 738.653,1202.84 772.421,1188.87 806.189,1174.46 839.956,1159.59 873.724,1144.27 907.492,1128.5 941.26,1112.28 975.028,1095.6 1008.8,1078.47 1042.56,1060.89 1076.33,1042.86 1110.1,1024.38 1143.87,1005.44 1177.63,986.052 1211.4,966.212 1245.17,945.92 1278.94,925.175 1312.71,903.979 1346.47,882.331 1380.24,860.23 1414.01,837.678 1447.78,814.673 1481.55,791.216 1515.31,767.307 1549.08,742.947 1582.85,718.134 1616.62,692.869 1650.38,667.152 1684.15,640.983 1717.92,614.362 1751.69,587.288 1785.46,559.763 1819.22,531.786 1852.99,503.356 1886.76,474.475 1920.53,445.141 1954.3,415.356 1988.06,385.118 2021.83,354.428 2055.6,323.286 2089.37,291.693 2123.13,259.647 2156.9,227.149 2190.67,194.199 2224.44,160.797 2258.21,126.942 2291.97,92.6361 \"/>\n",
       "<polyline clip-path=\"url(#clip672)\" style=\"stroke:#c68125; stroke-linecap:round; stroke-linejoin:round; stroke-width:4; stroke-opacity:0.3; fill:none\" points=\"265.903,1353.53 299.671,1345.93 333.439,1337.88 367.207,1329.37 400.974,1320.41 434.742,1311 468.51,1301.13 502.278,1290.81 536.046,1280.03 569.814,1268.8 603.582,1257.12 637.349,1244.98 671.117,1232.39 704.885,1219.34 738.653,1205.84 772.421,1191.89 806.189,1177.48 839.956,1162.62 873.724,1147.31 907.492,1131.54 941.26,1115.32 975.028,1098.64 1008.8,1081.51 1042.56,1063.92 1076.33,1045.89 1110.1,1027.39 1143.87,1008.45 1177.63,989.048 1211.4,969.195 1245.17,948.887 1278.94,928.126 1312.71,906.911 1346.47,885.242 1380.24,863.119 1414.01,840.542 1447.78,817.511 1481.55,794.026 1515.31,770.088 1549.08,745.695 1582.85,720.849 1616.62,695.549 1650.38,669.795 1684.15,643.587 1717.92,616.925 1751.69,589.81 1785.46,562.24 1819.22,534.217 1852.99,505.74 1886.76,476.809 1920.53,447.424 1954.3,417.585 1988.06,387.292 2021.83,356.546 2055.6,325.345 2089.37,293.691 2123.13,261.583 2156.9,229.02 2190.67,196.005 2224.44,162.535 2258.21,128.611 2291.97,94.2334 \"/>\n",
       "<polyline clip-path=\"url(#clip672)\" style=\"stroke:#00a98d; stroke-linecap:round; stroke-linejoin:round; stroke-width:4; stroke-opacity:0.3; fill:none\" points=\"265.903,1363.14 299.671,1353.69 333.439,1343.89 367.207,1333.74 400.974,1323.24 434.742,1312.4 468.51,1301.2 502.278,1289.66 536.046,1277.77 569.814,1265.53 603.582,1252.94 637.349,1240 671.117,1226.71 704.885,1213.08 738.653,1199.1 772.421,1184.76 806.189,1170.08 839.956,1155.05 873.724,1139.67 907.492,1123.95 941.26,1107.87 975.028,1091.45 1008.8,1074.68 1042.56,1057.56 1076.33,1040.09 1110.1,1022.27 1143.87,1004.1 1177.63,985.584 1211.4,966.72 1245.17,947.507 1278.94,927.945 1312.71,908.035 1346.47,887.776 1380.24,867.169 1414.01,846.212 1447.78,824.908 1481.55,803.254 1515.31,781.252 1549.08,758.901 1582.85,736.202 1616.62,713.154 1650.38,689.757 1684.15,666.012 1717.92,641.918 1751.69,617.476 1785.46,592.685 1819.22,567.545 1852.99,542.056 1886.76,516.219 1920.53,490.034 1954.3,463.499 1988.06,436.617 2021.83,409.385 2055.6,381.805 2089.37,353.876 2123.13,325.598 2156.9,296.972 2190.67,267.998 2224.44,238.674 2258.21,209.002 2291.97,178.981 \"/>\n",
       "<polyline clip-path=\"url(#clip672)\" style=\"stroke:#8e971d; stroke-linecap:round; stroke-linejoin:round; stroke-width:4; stroke-opacity:0.3; fill:none\" points=\"265.903,1370.59 299.671,1360.24 333.439,1349.56 367.207,1338.54 400.974,1327.18 434.742,1315.49 468.51,1303.46 502.278,1291.1 536.046,1278.4 569.814,1265.36 603.582,1251.99 637.349,1238.28 671.117,1224.24 704.885,1209.86 738.653,1195.15 772.421,1180.1 806.189,1164.71 839.956,1148.99 873.724,1132.93 907.492,1116.53 941.26,1099.8 975.028,1082.74 1008.8,1065.33 1042.56,1047.6 1076.33,1029.52 1110.1,1011.11 1143.87,992.365 1177.63,973.283 1211.4,953.865 1245.17,934.111 1278.94,914.022 1312.71,893.596 1346.47,872.834 1380.24,851.736 1414.01,830.303 1447.78,808.533 1481.55,786.428 1515.31,763.986 1549.08,741.209 1582.85,718.096 1616.62,694.646 1650.38,670.861 1684.15,646.74 1717.92,622.283 1751.69,597.49 1785.46,572.361 1819.22,546.897 1852.99,521.096 1886.76,494.959 1920.53,468.487 1954.3,441.678 1988.06,414.534 2021.83,387.053 2055.6,359.237 2089.37,331.084 2123.13,302.596 2156.9,273.772 2190.67,244.612 2224.44,215.116 2258.21,185.284 2291.97,155.116 \"/>\n",
       "<polyline clip-path=\"url(#clip672)\" style=\"stroke:#00a8cb; stroke-linecap:round; stroke-linejoin:round; stroke-width:4; stroke-opacity:0.3; fill:none\" points=\"265.903,1343.84 299.671,1337.1 333.439,1329.89 367.207,1322.19 400.974,1314.01 434.742,1305.35 468.51,1296.21 502.278,1286.58 536.046,1276.48 569.814,1265.89 603.582,1254.81 637.349,1243.26 671.117,1231.22 704.885,1218.7 738.653,1205.7 772.421,1192.21 806.189,1178.25 839.956,1163.8 873.724,1148.87 907.492,1133.45 941.26,1117.55 975.028,1101.18 1008.8,1084.32 1042.56,1066.97 1076.33,1049.15 1110.1,1030.84 1143.87,1012.05 1177.63,992.775 1211.4,973.02 1245.17,952.783 1278.94,932.063 1312.71,910.861 1346.47,889.177 1380.24,867.01 1414.01,844.361 1447.78,821.23 1481.55,797.616 1515.31,773.52 1549.08,748.942 1582.85,723.881 1616.62,698.338 1650.38,672.313 1684.15,645.805 1717.92,618.815 1751.69,591.342 1785.46,563.388 1819.22,534.951 1852.99,506.031 1886.76,476.629 1920.53,446.745 1954.3,416.379 1988.06,385.53 2021.83,354.199 2055.6,322.385 2089.37,290.09 2123.13,257.311 2156.9,224.051 2190.67,190.308 2224.44,156.083 2258.21,121.376 2291.97,86.1857 \"/>\n",
       "<path clip-path=\"url(#clip670)\" d=\"M276.709 196.789 L591.333 196.789 L591.333 93.1086 L276.709 93.1086  Z\" fill=\"#ffffff\" fill-rule=\"evenodd\" fill-opacity=\"1\"/>\n",
       "<polyline clip-path=\"url(#clip670)\" style=\"stroke:#000000; stroke-linecap:round; stroke-linejoin:round; stroke-width:4; stroke-opacity:1; fill:none\" points=\"276.709,196.789 591.333,196.789 591.333,93.1086 276.709,93.1086 276.709,196.789 \"/>\n",
       "<circle clip-path=\"url(#clip670)\" cx=\"372.159\" cy=\"144.949\" r=\"20.48\" fill=\"#009af9\" fill-rule=\"evenodd\" fill-opacity=\"1\" stroke=\"#000000\" stroke-opacity=\"1\" stroke-width=\"4.55111\"/>\n",
       "<path clip-path=\"url(#clip670)\" d=\"M486.522 140.238 L486.522 126.21 L490.781 126.21 L490.781 162.229 L486.522 162.229 L486.522 158.34 Q485.179 160.655 483.119 161.789 Q481.082 162.9 478.211 162.9 Q473.512 162.9 470.549 159.15 Q467.61 155.4 467.61 149.289 Q467.61 143.178 470.549 139.428 Q473.512 135.678 478.211 135.678 Q481.082 135.678 483.119 136.812 Q485.179 137.923 486.522 140.238 M472.008 149.289 Q472.008 153.988 473.929 156.673 Q475.874 159.335 479.253 159.335 Q482.633 159.335 484.577 156.673 Q486.522 153.988 486.522 149.289 Q486.522 144.59 484.577 141.928 Q482.633 139.243 479.253 139.243 Q475.874 139.243 473.929 141.928 Q472.008 144.59 472.008 149.289 Z\" fill=\"#000000\" fill-rule=\"nonzero\" fill-opacity=\"1\" /><path clip-path=\"url(#clip670)\" d=\"M511.336 149.196 Q506.174 149.196 504.184 150.377 Q502.193 151.557 502.193 154.405 Q502.193 156.673 503.674 158.016 Q505.179 159.335 507.748 159.335 Q511.29 159.335 513.42 156.835 Q515.572 154.312 515.572 150.145 L515.572 149.196 L511.336 149.196 M519.832 147.437 L519.832 162.229 L515.572 162.229 L515.572 158.293 Q514.114 160.655 511.938 161.789 Q509.762 162.9 506.614 162.9 Q502.633 162.9 500.272 160.678 Q497.934 158.432 497.934 154.682 Q497.934 150.307 500.85 148.085 Q503.79 145.863 509.6 145.863 L515.572 145.863 L515.572 145.446 Q515.572 142.507 513.628 140.909 Q511.707 139.289 508.211 139.289 Q505.989 139.289 503.883 139.821 Q501.776 140.354 499.832 141.419 L499.832 137.483 Q502.17 136.581 504.369 136.141 Q506.568 135.678 508.651 135.678 Q514.276 135.678 517.054 138.594 Q519.832 141.511 519.832 147.437 Z\" fill=\"#000000\" fill-rule=\"nonzero\" fill-opacity=\"1\" /><path clip-path=\"url(#clip670)\" d=\"M532.818 128.942 L532.818 136.303 L541.591 136.303 L541.591 139.613 L532.818 139.613 L532.818 153.687 Q532.818 156.858 533.674 157.761 Q534.554 158.664 537.216 158.664 L541.591 158.664 L541.591 162.229 L537.216 162.229 Q532.285 162.229 530.41 160.4 Q528.535 158.548 528.535 153.687 L528.535 139.613 L525.41 139.613 L525.41 136.303 L528.535 136.303 L528.535 128.942 L532.818 128.942 Z\" fill=\"#000000\" fill-rule=\"nonzero\" fill-opacity=\"1\" /><path clip-path=\"url(#clip670)\" d=\"M558.975 149.196 Q553.813 149.196 551.822 150.377 Q549.831 151.557 549.831 154.405 Q549.831 156.673 551.313 158.016 Q552.818 159.335 555.387 159.335 Q558.929 159.335 561.058 156.835 Q563.211 154.312 563.211 150.145 L563.211 149.196 L558.975 149.196 M567.47 147.437 L567.47 162.229 L563.211 162.229 L563.211 158.293 Q561.753 160.655 559.577 161.789 Q557.401 162.9 554.253 162.9 Q550.271 162.9 547.91 160.678 Q545.572 158.432 545.572 154.682 Q545.572 150.307 548.489 148.085 Q551.429 145.863 557.239 145.863 L563.211 145.863 L563.211 145.446 Q563.211 142.507 561.267 140.909 Q559.345 139.289 555.85 139.289 Q553.628 139.289 551.521 139.821 Q549.415 140.354 547.47 141.419 L547.47 137.483 Q549.808 136.581 552.007 136.141 Q554.206 135.678 556.29 135.678 Q561.915 135.678 564.693 138.594 Q567.47 141.511 567.47 147.437 Z\" fill=\"#000000\" fill-rule=\"nonzero\" fill-opacity=\"1\" /></svg>\n"
      ]
     },
     "metadata": {},
     "output_type": "display_data"
    },
    {
     "name": "stdout",
     "output_type": "stream",
     "text": [
      "Posterior distribution of w: MvNormalWeightedMeanPrecision(\n",
      "xi: [229.90792480093597, 1448.9847509899066, 10683.625241700436]\n",
      "Λ: [15.00001 58.36745139887474 359.0190524950247; 58.36745139887474 359.0190624950247 2575.434877281413; 359.0190524950247 2575.434877281413 19921.345599681066]\n",
      ")\n",
      "\n"
     ]
    }
   ],
   "source": [
    "using RxInfer, Random\n",
    "# Build model\n",
    "@model function linear_regression(N, Σ, σ2)\n",
    "\n",
    "    w ~ MvNormalMeanCovariance(constvar(zeros(3)),constvar(Σ))\n",
    "    x = datavar(Vector{Float64}, N)\n",
    "    y = datavar(Float64, N)\n",
    "    \n",
    "    for i in 1:N\n",
    "        y[i] ~ NormalMeanVariance(dot(w , x[i]), σ2)\n",
    "    end\n",
    "    return w, x, y\n",
    "end\n",
    "# Run message passing algorithm \n",
    "results = inference(\n",
    "    model = linear_regression(length(x_train), Σ, σ2 ),\n",
    "    data  = (y = y_train, x = x_train),\n",
    "    returnvars   = (w = KeepLast()),\n",
    "    iterations   = 20\n",
    ");\n",
    "# Plot result\n",
    "w = results.posteriors[:w]\n",
    "println(\"Posterior distribution of w: $(w)\")\n",
    "plt = scatter(z, y_train, label=\"data\", xlabel=L\"z\", ylabel=L\"f([1.0, z, z^2]) + \\epsilon\")\n",
    "z_test = collect(0:0.2:12)\n",
    "x_test = [[1.0; z; z^2] for z in z_test]\n",
    "for i=1:10\n",
    "    w_sample = rand(results.posteriors[:w])\n",
    "    f_est(x) = (w_sample'*x)[1]\n",
    "    plt = plot!(z_test, map(f_est, x_test), alpha=0.3, label=\"\");\n",
    "end\n",
    "display(plt)"
   ]
  },
  {
   "cell_type": "markdown",
   "metadata": {},
   "source": [
    "### Final thoughts: Modularity and Abstraction \n",
    "\n",
    "- The great Michael Jordan (no, not [this one](https://youtu.be/cuLprHh_BRg), but [this one](https://people.eecs.berkeley.edu/~jordan/)), wrote:   \n",
    "\n",
    "  > \"I basically know of two principles for treating complicated systems in simple ways: the first is the principle of **modularity** and the second is the principle of **abstraction**. I am an apologist for computational probability in machine learning because I believe that probability theory implements these two principles in deep and intriguing ways — namely through factorization and through averaging. Exploiting these two mechanisms as fully as possible seems to me to be the way forward in machine learning.\" — Michael Jordan, 1997 (quoted in [Fre98](https://mitpress.mit.edu/9780262062022/)).\n",
    "\n",
    "- Factor graphs realize these ideas nicely, both visually and computationally.\n",
    "\n",
    "- Visually, the modularity of conditional independencies in the model are displayed by the graph structure. Each node hides internal complexity and by closing-the-box, we can hierarchically move on to higher levels of abstraction. \n",
    "\n",
    "- Computationally, message passing-based inference uses the Distributive Law to avoid any unnecessary computations.  \n",
    "\n",
    "- What is the relevance of this lesson? RxInfer is not yet a finished project. Still, my prediction is that in 5-10 years, this lesson on Factor Graphs will be the final lecture of part-A of this class, aimed at engineers who need to develop machine learning applications. In principle you have all the tools now to work out the 4-step machine learning recipe (1. model specification, 2. parameter learning, 3. model evaluation, 4. application) that was proposed in the [Bayesian machine learning lesson](https://nbviewer.org/github/bertdv/BMLIP/blob/master/lessons/notebooks/Bayesian-Machine-Learning.ipynb#Bayesian-design). You can propose any model and execute the (learning, evaluation, and application) stages by executing the corresponding inference task automatically in RxInfer. \n",
    "\n",
    "- Part-B of this class would be about on advanced methods on how to improve automated inference by RxInfer or a similar probabilistic programming package. The Bayesian approach fully supports separating model specification from the inference task. \n"
   ]
  },
  {
   "cell_type": "markdown",
   "metadata": {
    "slideshow": {
     "slide_type": "slide"
    }
   },
   "source": [
    "## <center>OPTIONAL SLIDES</center>"
   ]
  },
  {
   "cell_type": "markdown",
   "metadata": {
    "slideshow": {
     "slide_type": "slide"
    }
   },
   "source": [
    "###  <a id=\"sp-for-multiplication-node\">Sum-Product Messages for Multiplication Nodes</a>\n",
    "- Next, let us consider a **multiplication** by a fixed (invertible matrix) gain $f_A(x,y) = \\delta(y-Ax)$\n",
    "\n",
    "<p style=\"text-align:center;\"><img src=\"./figures/ffg-gain-node.png\" width=\"250px\"></p>"
   ]
  },
  {
   "cell_type": "markdown",
   "metadata": {
    "slideshow": {
     "slide_type": "fragment"
    }
   },
   "source": [
    "$$\\begin{align*}\n",
    "\\overrightarrow{\\mu}_{Y}(y) &= \\int  \\overrightarrow{\\mu}_{X}(x) \\,\\delta(y-Ax) \\,\\mathrm{d}x \\\\\n",
    "&= \\int  \\overrightarrow{\\mu}_{X}(x) \\,|A|^{-1}\\delta(x-A^{-1}y) \\,\\mathrm{d}x \\\\\n",
    "&= |A|^{-1}\\overrightarrow{\\mu}_{X}(A^{-1}y) \\,.\n",
    "\\end{align*}$$"
   ]
  },
  {
   "cell_type": "markdown",
   "metadata": {
    "slideshow": {
     "slide_type": "fragment"
    }
   },
   "source": [
    "- For a Gaussian message input message $\\overrightarrow{\\mu}_{X}(x) = \\mathcal{N}(x|\\overrightarrow{m}_{X},\\overrightarrow{V}_{X})$, the output message is also Gaussian with \n",
    "$$\\begin{align*}\n",
    "\\overrightarrow{m}_{Y} = A\\overrightarrow{m}_{X} \\,,\\,\\text{and}\\,\\,\n",
    "\\overrightarrow{V}_{Y} = A\\overrightarrow{V}_{X}A^T\n",
    "\\end{align*}$$\n",
    "since \n",
    "$$\\begin{align*}\n",
    "\\overrightarrow{\\mu}_{Y}(y) &= |A|^{-1}\\overrightarrow{\\mu}_{X}(A^{-1}y) \\\\\n",
    "  &\\propto \\exp \\left( -\\frac{1}{2} \\left( A^{-1}y - \\overrightarrow{m}_{X}\\right)^T \\overrightarrow{V}_{X}^{-1} \\left(  A^{-1}y - \\overrightarrow{m}_{X}\\right)\\right) \\\\\n",
    "   &= \\exp \\big( -\\frac{1}{2} \\left( y - A\\overrightarrow{m}_{X}\\right)^T \\underbrace{A^{-T}\\overrightarrow{V}_{X}^{-1} A^{-1}}_{(A \\overrightarrow{V}_{X} A^T)^{-1}} \\left( y - A\\overrightarrow{m}_{X}\\right)\\big) \\\\\n",
    "  &\\propto  \\mathcal{N}(y| A\\overrightarrow{m}_{X},A\\overrightarrow{V}_{X}A^T) \\,.\n",
    "\\end{align*}$$"
   ]
  },
  {
   "cell_type": "markdown",
   "metadata": {
    "slideshow": {
     "slide_type": "subslide"
    }
   },
   "source": [
    "- <b>Exercise</b>: Proof that, for the same factor $\\delta(y-Ax)$ and Gaussian messages, the (backward) sum-product message $\\overleftarrow{\\mu}_{X}$ is given by \n",
    "$$\\begin{align*}\n",
    "\\overleftarrow{\\xi}_{X} &= A^T\\overleftarrow{\\xi}_{Y} \\\\\n",
    "\\overleftarrow{W}_{X} &= A^T\\overleftarrow{W}_{Y}A\n",
    "\\end{align*}$$\n",
    "where $\\overleftarrow{\\xi}_X \\triangleq \\overleftarrow{W}_X \\overleftarrow{m}_X$ and $\\overleftarrow{W}_{X} \\triangleq \\overleftarrow{V}_{X}^{-1}$ (and similarly for $Y$)."
   ]
  },
  {
   "cell_type": "markdown",
   "metadata": {
    "slideshow": {
     "slide_type": "slide"
    }
   },
   "source": [
    "\n",
    "### Code example: Gaussian forward and backward messages for the Addition node\n",
    "\n",
    "Let's calculate the Gaussian forward and backward messages for the addition node in RxInfer. \n",
    "<p style=\"text-align:center;\"><img src=\"./figures/ffg-addition-node.png\" width=\"250px\"></p>"
   ]
  },
  {
   "cell_type": "code",
   "execution_count": 18,
   "metadata": {
    "slideshow": {
     "slide_type": "subslide"
    }
   },
   "outputs": [
    {
     "name": "stdout",
     "output_type": "stream",
     "text": [
      "Forward message on Z:\n"
     ]
    },
    {
     "data": {
      "text/plain": [
       "NormalMeanVariance{Float64}(μ=3.0, v=2.0)"
      ]
     },
     "metadata": {},
     "output_type": "display_data"
    }
   ],
   "source": [
    "println(\"Forward message on Z:\")\n",
    "@call_rule typeof(+)(:out, Marginalisation) (m_in1 = NormalMeanVariance(1.0, 1.0), m_in2 = NormalMeanVariance(2.0, 1.0))"
   ]
  },
  {
   "cell_type": "code",
   "execution_count": 19,
   "metadata": {
    "slideshow": {
     "slide_type": "subslide"
    }
   },
   "outputs": [
    {
     "name": "stdout",
     "output_type": "stream",
     "text": [
      "Backward message on X:\n"
     ]
    },
    {
     "data": {
      "text/plain": [
       "NormalMeanVariance{Float64}(μ=1.0, v=2.0)"
      ]
     },
     "metadata": {},
     "output_type": "display_data"
    }
   ],
   "source": [
    "println(\"Backward message on X:\")\n",
    "@call_rule typeof(+)(:in1, Marginalisation) (m_out = NormalMeanVariance(3.0, 1.0), m_in2 = NormalMeanVariance(2.0, 1.0))"
   ]
  },
  {
   "cell_type": "markdown",
   "metadata": {
    "slideshow": {
     "slide_type": "slide"
    }
   },
   "source": [
    "### Code Example: forward and backward messages for the Matrix Multiplication node\n",
    "\n",
    "In the same way we can also investigate the forward and backward messages for the matrix multiplication (\"gain\") node \n",
    "<p style=\"text-align:center;\"><img src=\"./figures/ffg-gain-node.png\" width=\"250px\"></p>"
   ]
  },
  {
   "cell_type": "code",
   "execution_count": 20,
   "metadata": {
    "slideshow": {
     "slide_type": "subslide"
    }
   },
   "outputs": [
    {
     "name": "stdout",
     "output_type": "stream",
     "text": [
      "Forward message on Y:\n"
     ]
    },
    {
     "data": {
      "text/plain": [
       "NormalMeanVariance{Float64}(μ=4.0, v=16.0)"
      ]
     },
     "metadata": {},
     "output_type": "display_data"
    }
   ],
   "source": [
    "println(\"Forward message on Y:\")\n",
    "@call_rule typeof(*)(:out, Marginalisation) (m_A = PointMass(4.0), m_in = NormalMeanVariance(1.0, 1.0))"
   ]
  },
  {
   "cell_type": "code",
   "execution_count": 21,
   "metadata": {
    "slideshow": {
     "slide_type": "subslide"
    }
   },
   "outputs": [
    {
     "name": "stdout",
     "output_type": "stream",
     "text": [
      "Backward message on X:\n"
     ]
    },
    {
     "ename": "UndefVarError",
     "evalue": "UndefVarError: `TinyCorrection` not defined",
     "output_type": "error",
     "traceback": [
      "UndefVarError: `TinyCorrection` not defined\n",
      "\n",
      "Stacktrace:\n",
      " [1] top-level scope\n",
      "   @ ~/.julia/packages/ReactiveMP/IxcF2/src/rule.jl:504"
     ]
    }
   ],
   "source": [
    "println(\"Backward message on X:\")\n",
    "@call_rule typeof(*)(:in, Marginalisation) (m_out = NormalMeanVariance(2.0, 1.0), m_A = PointMass(4.0), meta = TinyCorrection())"
   ]
  },
  {
   "cell_type": "markdown",
   "metadata": {
    "slideshow": {
     "slide_type": "fragment"
    }
   },
   "source": [
    " \n",
    " ### Example: Sum-Product Algorithm to infer a posterior\n",
    " \n",
    " - Consider a generative model \n",
    "$$p(x,y_1,y_2) = p(x)\\,p(y_1|x)\\,p(y_2|x) .$$ \n",
    "  - This model expresses the assumption that $Y_1$ and $Y_2$ are independent measurements of $X$.\n",
    "\n",
    "<p style=\"text-align:center;\"><img src=\"./figures/ffg-observations.png\" width=\"375px\"></p>"
   ]
  },
  {
   "cell_type": "markdown",
   "metadata": {
    "slideshow": {
     "slide_type": "subslide"
    }
   },
   "source": [
    " \n",
    "- Assume that we are interested in the posterior for $X$ after observing $Y_1= \\hat y_1$ and $Y_2= \\hat y_2$. The posterior for $X$ can be inferred by applying the sum-product algorithm to the following graph:\n",
    "\n",
    "<p style=\"text-align:center;\"><img src=\"./figures/ffg-observations-2.png\" width=\"650px\"></p>"
   ]
  },
  {
   "cell_type": "markdown",
   "metadata": {
    "slideshow": {
     "slide_type": "fragment"
    }
   },
   "source": [
    " - (Note that) we usually draw terminal nodes for observed variables in the graph by smaller solid-black squares. This is just to help the visualization of the graph, since the computational rules are no different than for other nodes. "
   ]
  },
  {
   "cell_type": "markdown",
   "metadata": {
    "slideshow": {
     "slide_type": "slide"
    }
   },
   "source": [
    "### Code for Sum-Product Algorithm to infer  a posterior\n",
    "\n",
    "We'll use RxInfer to build the above graph, and perform sum-product message passing to infer the posterior $p(x|y_1,y_2)$. We assume $p(y_1|x)$ and $p(y_2|x)$ to be Gaussian likelihoods with known variances:\n",
    "$$\\begin{align*}\n",
    "    p(y_1\\,|\\,x) &= \\mathcal{N}(y_1\\,|\\,x, v_{y1}) \\\\\n",
    "    p(y_2\\,|\\,x) &= \\mathcal{N}(y_2\\,|\\,x, v_{y2})\n",
    "\\end{align*}$$\n",
    "Under this model, the posterior is given by:\n",
    "$$\\begin{align*}\n",
    "    p(x\\,|\\,y_1,y_2) &\\propto \\overbrace{p(y_1\\,|\\,x)\\,p(y_2\\,|\\,x)}^{\\text{likelihood}}\\,\\overbrace{p(x)}^{\\text{prior}} \\\\\n",
    "    &=\\mathcal{N}(x\\,|\\,\\hat{y}_1, v_{y1})\\, \\mathcal{N}(x\\,|\\,\\hat{y}_2, v_{y2}) \\, \\mathcal{N}(x\\,|\\,m_x, v_x) \n",
    "\\end{align*}$$\n",
    "so we can validate the answer by solving the Gaussian multiplication manually."
   ]
  },
  {
   "cell_type": "code",
   "execution_count": 22,
   "metadata": {
    "slideshow": {
     "slide_type": "subslide"
    }
   },
   "outputs": [
    {
     "name": "stdout",
     "output_type": "stream",
     "text": [
      "Sum-product message passing result: p(x|y1,y2) = 𝒩(1.1428571428571428,0.5714285714285714)\n",
      "Manual result: p(x|y1,y2) = 𝒩(1.1428571428571428, 0.5714285714285714)\n"
     ]
    }
   ],
   "source": [
    "# Data\n",
    "y1_hat = 1.0\n",
    "y2_hat = 2.0\n",
    "\n",
    "# Construct the factor graph\n",
    "@model function my_model()\n",
    "\n",
    "    # `x` is the hidden states\n",
    "    x = randomvar()\n",
    "    # `y1` and `y2` are \"clamped\" observations\n",
    "    y1 = datavar(Float64,)\n",
    "    y2 = datavar(Float64,)\n",
    "    \n",
    "    x ~ NormalMeanVariance(constvar(0.0), constvar(4.0))\n",
    "    y1 ~ NormalMeanVariance(x, constvar(1))\n",
    "    y2 ~ NormalMeanVariance(x, constvar(2))\n",
    "    \n",
    "    return x\n",
    "end\n",
    "\n",
    "result = inference(model=my_model(), data=(y1=y1_hat, y2 = y2_hat,))\n",
    "println(\"Sum-product message passing result: p(x|y1,y2) = 𝒩($(mean(result.posteriors[:x])),$(var(result.posteriors[:x])))\")\n",
    "\n",
    "# Calculate mean and variance of p(x|y1,y2) manually by multiplying 3 Gaussians (see lesson 4 for details)\n",
    "v = 1 / (1/4 + 1/1 + 1/2)\n",
    "m = v * (0/4 + y1_hat/1.0 + y2_hat/2.0)\n",
    "println(\"Manual result: p(x|y1,y2) = 𝒩($(m), $(v))\")"
   ]
  },
  {
   "cell_type": "code",
   "execution_count": 23,
   "metadata": {
    "slideshow": {
     "slide_type": "skip"
    }
   },
   "outputs": [
    {
     "data": {
      "text/html": [
       "<!--\n",
       "This HTML file contains custom styles and some javascript.\n",
       "Include it a Jupyter notebook for improved rendering.\n",
       "-->\n",
       "\n",
       "<!-- Fonts -->\n",
       "<link href='http://fonts.googleapis.com/css?family=Alegreya+Sans:100,300,400,500,700,800,900,100italic,300italic,400italic,500italic,700italic,800italic,900italic' rel='stylesheet' type='text/css'>\n",
       "<link href='http://fonts.googleapis.com/css?family=Arvo:400,700,400italic' rel='stylesheet' type='text/css'>\n",
       "<link href='http://fonts.googleapis.com/css?family=PT+Mono' rel='stylesheet' type='text/css'>\n",
       "<link href='http://fonts.googleapis.com/css?family=Shadows+Into+Light' rel='stylesheet' type='text/css'>\n",
       "<link href='http://fonts.googleapis.com/css?family=Nixie+One' rel='stylesheet' type='text/css'>\n",
       "\n",
       "<!-- Custom style -->\n",
       "<style>\n",
       "\n",
       "@font-face {\n",
       "    font-family: \"Computer Modern\";\n",
       "    src: url('http://mirrors.ctan.org/fonts/cm-unicode/fonts/otf/cmunss.otf');\n",
       "}\n",
       "\n",
       "#notebook_panel { /* main background */\n",
       "    background: rgb(245,245,245);\n",
       "}\n",
       "\n",
       "div.container {\n",
       "    min-width: 960px;\n",
       "}\n",
       "\n",
       "div #notebook { /* centre the content */\n",
       "    background: #fff; /* white background for content */\n",
       "    margin: auto;\n",
       "    padding-left: 0em;\n",
       "}\n",
       "\n",
       "#notebook li { /* More space between bullet points */\n",
       "    margin-top:0.8em;\n",
       "}\n",
       "\n",
       "/* draw border around running cells */\n",
       "div.cell.border-box-sizing.code_cell.running {\n",
       "    border: 1px solid #111;\n",
       "}\n",
       "\n",
       "/* Put a solid color box around each cell and its output, visually linking them*/\n",
       "div.cell.code_cell {\n",
       "    background-color: rgb(256,256,256);\n",
       "    border-radius: 0px;\n",
       "    padding: 0.5em;\n",
       "    margin-left:1em;\n",
       "    margin-top: 1em;\n",
       "}\n",
       "\n",
       "div.text_cell_render{\n",
       "    font-family: 'Alegreya Sans' sans-serif;\n",
       "    line-height: 140%;\n",
       "    font-size: 125%;\n",
       "    font-weight: 400;\n",
       "    width:800px;\n",
       "    margin-left:auto;\n",
       "    margin-right:auto;\n",
       "}\n",
       "\n",
       "\n",
       "/* Formatting for header cells */\n",
       ".text_cell_render h1 {\n",
       "    font-family: 'Nixie One', serif;\n",
       "    font-style:regular;\n",
       "    font-weight: 400;\n",
       "    font-size: 45pt;\n",
       "    line-height: 100%;\n",
       "    color: rgb(0,51,102);\n",
       "    margin-bottom: 0.5em;\n",
       "    margin-top: 0.5em;\n",
       "    display: block;\n",
       "}\n",
       "\n",
       ".text_cell_render h2 {\n",
       "    font-family: 'Nixie One', serif;\n",
       "    font-weight: 400;\n",
       "    font-size: 30pt;\n",
       "    line-height: 100%;\n",
       "    color: rgb(0,51,102);\n",
       "    margin-bottom: 0.1em;\n",
       "    margin-top: 0.3em;\n",
       "    display: block;\n",
       "}\n",
       "\n",
       ".text_cell_render h3 {\n",
       "    font-family: 'Nixie One', serif;\n",
       "    margin-top:16px;\n",
       "    font-size: 22pt;\n",
       "    font-weight: 600;\n",
       "    margin-bottom: 3px;\n",
       "    font-style: regular;\n",
       "    color: rgb(102,102,0);\n",
       "}\n",
       "\n",
       ".text_cell_render h4 {    /*Use this for captions*/\n",
       "    font-family: 'Nixie One', serif;\n",
       "    font-size: 14pt;\n",
       "    text-align: center;\n",
       "    margin-top: 0em;\n",
       "    margin-bottom: 2em;\n",
       "    font-style: regular;\n",
       "}\n",
       "\n",
       ".text_cell_render h5 {  /*Use this for small titles*/\n",
       "    font-family: 'Nixie One', sans-serif;\n",
       "    font-weight: 400;\n",
       "    font-size: 16pt;\n",
       "    color: rgb(163,0,0);\n",
       "    font-style: italic;\n",
       "    margin-bottom: .1em;\n",
       "    margin-top: 0.8em;\n",
       "    display: block;\n",
       "}\n",
       "\n",
       ".text_cell_render h6 { /*use this for copyright note*/\n",
       "    font-family: 'PT Mono', sans-serif;\n",
       "    font-weight: 300;\n",
       "    font-size: 9pt;\n",
       "    line-height: 100%;\n",
       "    color: grey;\n",
       "    margin-bottom: 1px;\n",
       "    margin-top: 1px;\n",
       "}\n",
       "\n",
       ".CodeMirror{\n",
       "    font-family: \"PT Mono\";\n",
       "    font-size: 90%;\n",
       "}\n",
       "\n",
       ".boxed { /* draw a border around a piece of text */\n",
       "  border: 1px solid blue ;\n",
       "}\n",
       "\n",
       "h4#CODE-EXAMPLE,\n",
       "h4#END-OF-CODE-EXAMPLE {\n",
       "    margin: 10px 0;\n",
       "    padding: 10px;\n",
       "    background-color: #d0f9ca !important;\n",
       "    border-top: #849f81 1px solid;\n",
       "    border-bottom: #849f81 1px solid;\n",
       "}\n",
       "\n",
       ".emphasis {\n",
       "    color: red;\n",
       "}\n",
       "\n",
       ".exercise {\n",
       "    color: green;\n",
       "}\n",
       "\n",
       ".proof {\n",
       "    color: blue;\n",
       "}\n",
       "\n",
       "code {\n",
       "  padding: 2px 4px !important;\n",
       "  font-size: 90% !important;\n",
       "  color: #222 !important;\n",
       "  background-color: #efefef !important;\n",
       "  border-radius: 2px !important;\n",
       "}\n",
       "\n",
       "/* This removes the actual style cells from the notebooks, but no in print mode\n",
       "   as they will be removed through some other method */\n",
       "@media not print {\n",
       "  .cell:nth-last-child(-n+2) {\n",
       "    display: none;\n",
       "  }\n",
       "}\n",
       "\n",
       "footer.hidden-print {\n",
       "    display: none !important;\n",
       "}\n",
       "    \n",
       "</style>\n",
       "\n",
       "<!-- MathJax styling -->\n",
       "<script>\n",
       "    MathJax.Hub.Config({\n",
       "                        CommonHTML: {\n",
       "                            scale: 200\n",
       "                        },\n",
       "                TeX: {\n",
       "                    extensions: [\"AMSmath.js\"],\n",
       "                    equationNumbers: { autoNumber: \"AMS\", useLabelIds: true}\n",
       "                },\n",
       "                tex2jax: {\n",
       "                    inlineMath: [ ['$','$'], [\"\\\\(\",\"\\\\)\"] ],\n",
       "                    displayMath: [ ['$$','$$'], [\"\\\\[\",\"\\\\]\"] ]\n",
       "                },\n",
       "                displayAlign: 'center', // Change this to 'center' to center equations.\n",
       "                \"HTML-CSS\": {\n",
       "                    styles: {'.MathJax_Display': {\"margin\": 4}}\n",
       "                }\n",
       "        });\n",
       "</script>\n"
      ]
     },
     "metadata": {},
     "output_type": "display_data"
    }
   ],
   "source": [
    "open(\"../../styles/aipstyle.html\") do f display(\"text/html\", read(f, String)) end\n"
   ]
  },
  {
   "cell_type": "markdown",
   "metadata": {},
   "source": []
  }
 ],
 "metadata": {
  "celltoolbar": "Slideshow",
  "kernelspec": {
   "display_name": "Julia 1.9.3",
   "language": "julia",
   "name": "julia-1.9"
  },
  "language_info": {
   "file_extension": ".jl",
   "mimetype": "application/julia",
   "name": "julia",
   "version": "1.9.3"
  }
 },
 "nbformat": 4,
 "nbformat_minor": 4
}
