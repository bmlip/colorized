{
 "cells": [
  {
   "cell_type": "markdown",
   "metadata": {
    "slideshow": {
     "slide_type": "slide"
    }
   },
   "source": [
    "# Factor Graphs"
   ]
  },
  {
   "cell_type": "markdown",
   "metadata": {
    "slideshow": {
     "slide_type": "slide"
    }
   },
   "source": [
    "\n",
    "### Preliminaries\n",
    "\n",
    "- Goal \n",
    "  - Introduction to Forney-style factor graphs and message passing-based inference \n",
    "- Materials        \n",
    "  - Mandatory\n",
    "    - These lecture notes   \n",
    "    - Loeliger (2007), [The factor graph approach to model based signal processing](https://github.com/bertdv/BMLIP/blob/master/lessons/notebooks/files/Loeliger-2007-The-factor-graph-approach-to-model-based-signal-processing.pdf), pp. 1295-1302 (until section V)\n",
    "  - Optional\n",
    "    - Frederico Wadehn (2015), [Probabilistic graphical models: Factor graphs and more](https://www.youtube.com/watch?v=Fv2YbVg9Frc&t=31) video lecture (**highly recommended**)\n",
    "  - References\n",
    "    - Forney (2001), [Codes on graphs: normal realizations](https://github.com/bertdv/BMLIP/blob/master/lessons/notebooks/files/Forney-2001-Codes-on-graphs-normal-realizations.pdf)\n",
    "   "
   ]
  },
  {
   "cell_type": "markdown",
   "metadata": {
    "slideshow": {
     "slide_type": "slide"
    }
   },
   "source": [
    "### Why Factor Graphs?\n",
    "\n",
    "- A probabilistic inference task gets its computational load mainly through the need for marginalization (i.e., computing integrals). E.g., for a model $p(x_1,x_2,x_3,x_4,x_5)$, the inference task $p(x_2|x_3)$ is given by \n",
    "$$\n",
    "p(x_2|x_3) = \\frac{p(x_2,x_3)}{p(x_3)} = \\frac{\\int \\cdots \\int p(x_1,x_2,x_3,x_4,x_5) \\, \\mathrm{d}x_1  \\mathrm{d}x_4 \\mathrm{d}x_5}{\\int \\cdots \\int p(x_1,x_2,x_3,x_4,x_5) \\, \\mathrm{d}x_1  \\mathrm{d}x_2 \\mathrm{d}x_4 \\mathrm{d}x_5}$$"
   ]
  },
  {
   "cell_type": "markdown",
   "metadata": {
    "slideshow": {
     "slide_type": "fragment"
    }
   },
   "source": [
    "- Since these computations (integrals or sums) suffer from the \"curse of dimensionality\", we often need to solve a simpler problem in order to get an answer. "
   ]
  },
  {
   "cell_type": "markdown",
   "metadata": {
    "slideshow": {
     "slide_type": "fragment"
    }
   },
   "source": [
    "- Factor graphs provide a computationally efficient approach to solving inference problems **if the probabilistic model can be factorized**. "
   ]
  },
  {
   "cell_type": "markdown",
   "metadata": {
    "slideshow": {
     "slide_type": "fragment"
    }
   },
   "source": [
    "- <a id='factorization-helps'>Factorization helps</a>. For instance, if $p(x_1,x_2,x_3,x_4,x_5) = p(x_1)p(x_2,x_3)p(x_4)p(x_5|x_4)$, then\n",
    "\n",
    "$$\n",
    "p(x_2|x_3) = \\frac{\\int \\cdots \\int p(x_1)p(x_2,x_3)p(x_4)p(x_5|x_4) \\, \\mathrm{d}x_1  \\mathrm{d}x_4 \\mathrm{d}x_5}{\\int \\cdots \\int p(x_1)p(x_2,x_3)p(x_4)p(x_5|x_4) \\, \\mathrm{d}x_1  \\mathrm{d}x_2 \\mathrm{d}x_4 \\mathrm{d}x_5} \n",
    "  = \\frac{p(x_2,x_3)}{\\int p(x_2,x_3) \\mathrm{d}x_2}\n",
    "$$\n",
    "\n",
    "which is computationally much cheaper than the general case above."
   ]
  },
  {
   "cell_type": "markdown",
   "metadata": {
    "slideshow": {
     "slide_type": "fragment"
    }
   },
   "source": [
    "- In this lesson, we discuss how computationally efficient inference in *factorized* probability distributions can be automated by message passing-based inference in factor graphs."
   ]
  },
  {
   "cell_type": "markdown",
   "metadata": {
    "slideshow": {
     "slide_type": "slide"
    }
   },
   "source": [
    "###  Factor Graph Construction Rules\n",
    "\n",
    "- Consider a function \n",
    "$$\n",
    "f(x_1,x_2,x_3,x_4,x_5) = f_a(x_1,x_2,x_3) \\cdot f_b(x_3,x_4,x_5) \\cdot f_c(x_4)\n",
    "$$"
   ]
  },
  {
   "cell_type": "markdown",
   "metadata": {
    "slideshow": {
     "slide_type": "fragment"
    }
   },
   "source": [
    "- The factorization of this function can be graphically represented by a **Forney-style Factor Graph** (FFG):\n",
    "\n",
    "<p style=\"text-align:center;\"><img src=\"./figures/ffg-example-1.png\" width=\"400px\"></p>"
   ]
  },
  {
   "cell_type": "markdown",
   "metadata": {
    "slideshow": {
     "slide_type": "fragment"
    }
   },
   "source": [
    "- An FFG is an **undirected** graph subject to the following construction rules ([Forney, 2001](https://github.com/bertdv/BMLIP/blob/master/lessons/notebooks/files/Forney-2001-Codes-on-graphs-normal-realizations.pdf))\n",
    "\n",
    "  1. A **node** for every factor;\n",
    "  1. An **edge** (or **half-edge**) for every variable;\n",
    "  1. Node $f_\\bullet$ is connected to edge $x$ **iff** variable $x$ appears in factor $f_\\bullet$."
   ]
  },
  {
   "cell_type": "markdown",
   "metadata": {
    "slideshow": {
     "slide_type": "fragment"
    }
   },
   "source": [
    "- A **configuration** is an assigment of values to all variables.\n",
    "\n",
    "- A configuration $\\omega=(x_1,x_2,x_3,x_4,x_5)$ is said to be **valid** iff $f(\\omega) \\neq 0$\n",
    "  "
   ]
  },
  {
   "cell_type": "markdown",
   "metadata": {
    "slideshow": {
     "slide_type": "slide"
    }
   },
   "source": [
    "###  Equality Nodes for Branching Points\n",
    "\n",
    "\n",
    "- Note that a variable can appear in maximally two factors in an FFG (since an edge has only two end points)."
   ]
  },
  {
   "cell_type": "markdown",
   "metadata": {
    "slideshow": {
     "slide_type": "fragment"
    }
   },
   "source": [
    "- Consider the factorization (where $x_2$ appears in three factors) \n",
    "\n",
    "$$\n",
    " f(x_1,x_2,x_3,x_4) = f_a(x_1,x_2)\\cdot f_b(x_2,x_3) \\cdot f_c(x_2,x_4)\n",
    "$$"
   ]
  },
  {
   "cell_type": "markdown",
   "metadata": {
    "slideshow": {
     "slide_type": "fragment"
    }
   },
   "source": [
    "- For the factor graph representation, we will instead consider the function $g$, defined as\n",
    "$$\\begin{align*}\n",
    " g(x_1,x_2&,x_2^\\prime,x_2^{\\prime\\prime},x_3,x_4) \n",
    "  = f_a(x_1,x_2)\\cdot f_b(x_2^\\prime,x_3) \\cdot f_c(x_2^{\\prime\\prime},x_4) \\cdot f_=(x_2,x_2^\\prime,x_2^{\\prime\\prime})\n",
    "\\end{align*}$$\n",
    "  where \n",
    "$$\n",
    "f_=(x_2,x_2^\\prime,x_2^{\\prime\\prime}) \\triangleq \\delta(x_2-x_2^\\prime)\\, \\delta(x_2-x_2^{\\prime\\prime})\n",
    "$$\n",
    "\n",
    " <p style=\"text-align:center;\"><img src=\"./figures/ffg-wEquality-node.png\" width=\"450px\"></p>\n",
    "  "
   ]
  },
  {
   "cell_type": "markdown",
   "metadata": {
    "slideshow": {
     "slide_type": "subslide"
    }
   },
   "source": [
    "- Note that through introduction of auxiliary variables $X_2^{\\prime}$ and $X_2^{\\prime\\prime}$ and a factor $f_=(x_2,x_2^\\prime,x_2^{\\prime\\prime})$, each variable in $g$ appears in maximally two factors."
   ]
  },
  {
   "cell_type": "markdown",
   "metadata": {
    "slideshow": {
     "slide_type": "fragment"
    }
   },
   "source": [
    "- The constraint $f_=(x,x^\\prime,x^{\\prime\\prime})$ enforces that $X=X^\\prime=X^{\\prime\\prime}$ **for every valid configuration**."
   ]
  },
  {
   "cell_type": "markdown",
   "metadata": {
    "slideshow": {
     "slide_type": "fragment"
    }
   },
   "source": [
    "- Since $f$ is a marginal of $g$, i.e., \n",
    "$$\n",
    "f(x_1,x_2,x_3,x_4) = \\iint g(x_1,x_2,x_2^\\prime,x_2^{\\prime\\prime},x_3,x_4)\\, \\mathrm{d}x_2^\\prime \\mathrm{d}x_2^{\\prime\\prime}\n",
    "$$\n",
    "it follows that any inference problem on $f$ can be executed by a corresponding inference problem on $g$, e.g.,\n",
    "$$\\begin{align*}\n",
    "f(x_1 \\mid x_2) &\\triangleq \\frac{\\iint f(x_1,x_2,x_3,x_4) \\,\\mathrm{d}x_3 \\mathrm{d}x_4 }{ \\int\\cdots\\int f(x_1,x_2,x_3,x_4) \\,\\mathrm{d}x_1 \\mathrm{d}x_3 \\mathrm{d}x_4} \\\\\n",
    "  &= \\frac{\\int\\cdots\\int g(x_1,x_2,x_2^\\prime,x_2^{\\prime\\prime},x_3,x_4) \\,\\mathrm{d}x_2^\\prime \\mathrm{d}x_2^{\\prime\\prime} \\mathrm{d}x_3 \\mathrm{d}x_4 }{ \\int\\cdots\\int g(x_1,x_2,x_2^\\prime,x_2^{\\prime\\prime},x_3,x_4) \\,\\mathrm{d}x_1 \\mathrm{d}x_2^\\prime \\mathrm{d}x_2^{\\prime\\prime} \\mathrm{d}x_3 \\mathrm{d}x_4} \\\\\n",
    "  &= g(x_1 \\mid x_2)\n",
    "\\end{align*}$$"
   ]
  },
  {
   "cell_type": "markdown",
   "metadata": {},
   "source": [
    "- $\\Rightarrow$ **Any factorization of a global function $f$ can be represented by a Forney-style Factor Graph**."
   ]
  },
  {
   "cell_type": "markdown",
   "metadata": {
    "slideshow": {
     "slide_type": "slide"
    }
   },
   "source": [
    "### Probabilistic Models as Factor Graphs\n",
    "\n",
    "- FFGs can be used to express conditional independence (factorization) in probabilistic models. "
   ]
  },
  {
   "cell_type": "markdown",
   "metadata": {
    "slideshow": {
     "slide_type": "fragment"
    }
   },
   "source": [
    "- For example, the (previously shown) graph for \n",
    "$f_a(x_1,x_2,x_3) \\cdot f_b(x_3,x_4,x_5) \\cdot f_c(x_4)$ \n",
    "could represent the probabilistic model\n",
    "$$\n",
    "p(x_1,x_2,x_3,x_4,x_5) = p(x_1,x_2|x_3) \\cdot p(x_3,x_5|x_4) \\cdot p(x_4)\n",
    "$$\n",
    "where we identify \n",
    "$$\\begin{align*}\n",
    "f_a(x_1,x_2,x_3) &= p(x_1,x_2|x_3) \\\\\n",
    "f_b(x_3,x_4,x_5) &= p(x_3,x_5|x_4) \\\\\n",
    "f_c(x_4) &= p(x_4)\n",
    "\\end{align*}$$"
   ]
  },
  {
   "cell_type": "markdown",
   "metadata": {
    "slideshow": {
     "slide_type": "fragment"
    }
   },
   "source": [
    "- This is the graph\n",
    "\n",
    "<p style=\"text-align:center;\"><img src=\"./figures/ffg-example-prob-model.png\" width=\"400px\"></p>"
   ]
  },
  {
   "cell_type": "markdown",
   "metadata": {
    "slideshow": {
     "slide_type": "slide"
    }
   },
   "source": [
    "### Inference by Closing Boxes\n",
    "\n",
    "- Factorizations provide opportunities to cut on the amount of needed computations when doing inference. In what follows, we will use FFGs to process these opportunities in an automatic way by message passing between the nodes of the graph. "
   ]
  },
  {
   "cell_type": "markdown",
   "metadata": {
    "slideshow": {
     "slide_type": "fragment"
    }
   },
   "source": [
    "- Assume we wish to compute the marginal\n",
    "$$\n",
    "\\bar{f}(x_3) \\triangleq \\sum\\limits_{x_1,x_2,x_4,x_5,x_6,x_7}f(x_1,x_2,\\ldots,x_7) \n",
    "$$\n",
    "for a model $f$ with given factorization \n",
    "$$\n",
    "f(x_1,x_2,\\ldots,x_7) = f_a(x_1) f_b(x_2) f_c(x_1,x_2,x_3) f_d(x_4) f_e(x_3,x_4,x_5) f_f(x_5,x_6,x_7) f_g(x_7)\n",
    "$$ "
   ]
  },
  {
   "cell_type": "markdown",
   "metadata": {},
   "source": [
    "- Note that, if each variable $x_i$ can take on $10$ values, then the computing the marginal $\\bar{f}(x_3)$ takes about $10^6$ (1 million) additions. "
   ]
  },
  {
   "cell_type": "markdown",
   "metadata": {
    "slideshow": {
     "slide_type": "subslide"
    }
   },
   "source": [
    "- Due to the factorization and the [Generalized Distributive Law](https://en.wikipedia.org/wiki/Generalized_distributive_law), we can decompose this sum-of-products to the following product-of-sums:\n",
    "$$\\begin{align*}\\bar{f}&(x_3) = \\\\\n",
    "  &\\underbrace{ \\Bigg( \\sum_{x_1,x_2} \\underbrace{f_a(x_1)}_{\\overrightarrow{\\mu}_{X_1}(x_1)}\\, \\underbrace{f_b(x_2)}_{\\overrightarrow{\\mu}_{X_2}(x_2)}\\,f_c(x_1,x_2,x_3)\\Bigg) }_{\\overrightarrow{\\mu}_{X_3}(x_3)} \n",
    "  \\underbrace{ \\cdot\\Bigg( \\sum_{x_4,x_5} \\underbrace{f_d(x_4)}_{\\overrightarrow{\\mu}_{X_4}(x_4)}\\,f_e(x_3,x_4,x_5) \\cdot \\underbrace{ \\big( \\sum_{x_6,x_7} f_f(x_5,x_6,x_7)\\,\\underbrace{f_g(x_7)}_{\\overleftarrow{\\mu}_{X_7}(x_7)}\\big) }_{\\overleftarrow{\\mu}_{X_5}(x_5)} \\Bigg) }_{\\overleftarrow{\\mu}_{X_3}(x_3)}\n",
    "\\end{align*}$$\n",
    "which, in case $x_i$ has $10$ values, requires a few hundred additions and is therefore computationally (much!) lighter than executing the full sum $\\sum_{x_1,\\ldots,x_7}f(x_1,x_2,\\ldots,x_7)$\n",
    "\n",
    "<p style=\"text-align:center;\"><img src=\"./figures/ffg-message-passing.png\" width=\"700px\"></p>"
   ]
  },
  {
   "cell_type": "markdown",
   "metadata": {
    "slideshow": {
     "slide_type": "fragment"
    }
   },
   "source": [
    "- Note that the auxiliary factor $\\overrightarrow{\\mu}_{X_3}(x_3)$ is obtained by multiplying all enclosed factors ($f_a$, $f_b, f_c$) by the red dashed box, followed by marginalization (summing) over all enclosed variables ($x_1$, $x_2$).\n",
    "  "
   ]
  },
  {
   "cell_type": "markdown",
   "metadata": {
    "slideshow": {
     "slide_type": "fragment"
    }
   },
   "source": [
    "- This is the **Closing the Box**-rule, which is a general recipe for marginalization of latent variables (inside the box) and leads to a new factor that has the variables (edges) that cross the box as arguments. For instance, the argument of the remaining factor $\\overrightarrow{\\mu}_{X_3}(x_3)$ is the variable on the edge that crosses the red box ($x_3$).\n"
   ]
  },
  {
   "cell_type": "markdown",
   "metadata": {},
   "source": [
    "- Hence, $\\overrightarrow{\\mu}_{X_3}(x_3)$ can be interpreted as a **message from the red box toward variable** $x_3$."
   ]
  },
  {
   "cell_type": "markdown",
   "metadata": {
    "slideshow": {
     "slide_type": "fragment"
    }
   },
   "source": [
    "- We drew _directed edges_ in the FFG in order to distinguish forward messages $\\overrightarrow{\\mu}_\\bullet(\\cdot)$ (in the same direction as the arrow of the edge) from backward messages $\\overleftarrow{\\mu}_\\bullet(\\cdot)$ (in opposite direction). This is just a notational convenience since an FFG is computationally an undirected graph. "
   ]
  },
  {
   "cell_type": "markdown",
   "metadata": {
    "slideshow": {
     "slide_type": "slide"
    }
   },
   "source": [
    "### Sum-Product Algorithm\n",
    "\n",
    "- Closing-the-box can also be interpreted as a **message update rule** for an outgoing message from a node. For a node $f(y,x_1,\\ldots,x_n)$ with incoming messages $\\overrightarrow{\\mu}_{X_1}(x_1), \\overrightarrow{\\mu}_{X_1}(x_1), \\ldots,\\overrightarrow{\\mu}_{X_n}(x_n)$, the outgoing message is given by ([Loeliger (2007), pg.1299](https://github.com/bertdv/BMLIP/blob/master/lessons/notebooks/files/Loeliger-2007-The-factor-graph-approach-to-model-based-signal-processing.pdf)): \n",
    "\n",
    "$$ \\boxed{\n",
    "\\underbrace{\\overrightarrow{\\mu}_{Y}(y)}_{\\substack{ \\text{outgoing}\\\\ \\text{message}}} = \\sum_{x_1,\\ldots,x_n} \\underbrace{\\overrightarrow{\\mu}_{X_1}(x_1)\\cdots \\overrightarrow{\\mu}_{X_n}(x_n)}_{\\substack{\\text{incoming} \\\\ \\text{messages}}} \\cdot \\underbrace{f(y,x_1,\\ldots,x_n)}_{\\substack{\\text{node}\\\\ \\text{function}}} }\n",
    "$$\n",
    "\n",
    "<p style=\"text-align:center;\"><img src=\"./figures/ffg-sum-product.png\" width=\"500px\"></p>\n",
    "\n",
    "- This is called the **Sum-Product Message** (SPM) update rule. (Look at the formula to understand why it's called the SPM update rule)."
   ]
  },
  {
   "cell_type": "markdown",
   "metadata": {
    "slideshow": {
     "slide_type": "fragment"
    }
   },
   "source": [
    "- Note that all SPM update rules can be computed from information that is **locally available** at each node."
   ]
  },
  {
   "cell_type": "markdown",
   "metadata": {
    "slideshow": {
     "slide_type": "fragment"
    }
   },
   "source": [
    "- If the factor graph for a function $f$ has **no cycles** (i.e., the graph is a tree), then the marginal $\\bar{f}(x_3) = \\sum_{x_1,x_2,x_4,x_5,x_6,x_7}f(x_1,x_2,\\ldots,x_7)$ is given by multiplying the forward and backward messages on that edge:\n",
    "\n",
    "$$ \\boxed{\n",
    "\\bar{f}(x_3) = \\overrightarrow{\\mu}_{X_3}(x_3)\\cdot \\overleftarrow{\\mu}_{X_3}(x_3)}\n",
    "$$"
   ]
  },
  {
   "cell_type": "markdown",
   "metadata": {
    "slideshow": {
     "slide_type": "fragment"
    }
   },
   "source": [
    "- It follows that the marginal $\\bar{f}(x_3) = \\sum_{x_1,x_2,x_4,x_5,x_6,x_7}f(x_1,x_2,\\ldots,x_7)$ can be efficiently computed through sum-product messages. Executing inference through SP message passing is called the **Sum-Product Algorithm** (or alternatively, the **belief propagation** algorithm)."
   ]
  },
  {
   "cell_type": "markdown",
   "metadata": {},
   "source": [
    "- Just as a final note, inference by sum-product message passing is much like replacing the sum-of-products\n",
    "$$\n",
    "ac + ad + bc + bd$$\n",
    "by the following product-of-sums:\n",
    "$$\n",
    "(a + b)(c + d) \\,.$$\n",
    "- Which of these two computations is cheaper to execute?"
   ]
  },
  {
   "cell_type": "markdown",
   "metadata": {},
   "source": [
    "### <a id=\"sp-for-equality-node\">Sum-Product Messages for the Equality Node</a>\n",
    "\n",
    "- As an example, let´s evaluate the SP messages for the **equality node** $f_=(x,y,z) = \\delta(z-x)\\delta(z-y)$: \n",
    "\n",
    "<p style=\"text-align:center;\"><img src=\"./figures/ffg-equality-node.png\" width=\"250px\"></p>\n",
    "\n",
    "$$\\begin{align*}\n",
    "\\overrightarrow{\\mu}_{Z}(z) &= \\iint  \\overrightarrow{\\mu}_{X}(x) \\overrightarrow{\\mu}_{Y}(y) \\,\\delta(z-x)\\delta(z-y) \\,\\mathrm{d}x \\mathrm{d}y \\\\\n",
    "   &=  \\overrightarrow{\\mu}_{X}(z)  \\int  \\overrightarrow{\\mu}_{Y}(y) \\,\\delta(z-y) \\,\\mathrm{d}y \\\\\n",
    "   &=  \\overrightarrow{\\mu}_{X}(z) \\overrightarrow{\\mu}_{Y}(z) \n",
    "\\end{align*}$$\n",
    "\n",
    "- By symmetry, this also implies (for the same equality node) that\n",
    "$$\\begin{align*}\n",
    "\\overleftarrow{\\mu}_{X}(x) &= \\overrightarrow{\\mu}_{Y}(x) \\overleftarrow{\\mu}_{Z}(x) \\quad \\text{and} \\\\\n",
    "\\overleftarrow{\\mu}_{Y}(y) &= \\overrightarrow{\\mu}_{X}(y) \\overleftarrow{\\mu}_{Z}(y)\\,.\n",
    "\\end{align*}$$\n",
    "\n",
    "- Let us now consider the case of Gaussian messages $\\overrightarrow{\\mu}_{X}(x) = \\mathcal{N}(x|\\overrightarrow{m}_X,\\overrightarrow{V}_X)$, $\\overrightarrow{\\mu}_{Y}(y) = \\mathcal{N}(y| \\overrightarrow{m}_Y,\\overrightarrow{V}_Y)$ and $\\overrightarrow{\\mu}_{Z}(z) = \\mathcal{N}(z|\\overrightarrow{m}_Z,\\overrightarrow{V}_Z)$. Let´s also define the precision matrices $\\overrightarrow{W}_X \\triangleq \\overrightarrow{V}_X^{-1}$ and similarly for $Y$ and $Z$. Then applying the SP update rule leads to multiplication of two Gaussian distributions (see [Roweis notes](https://github.com/bertdv/BMLIP/blob/master/lessons/notebooks/files/Roweis-1999-gaussian-identities.pdf)), resulting in \n",
    "\n",
    "$$\\begin{align*}\n",
    "\\overrightarrow{W}_Z &= \\overrightarrow{W}_X + \\overrightarrow{W}_Y \\\\ \n",
    "\\overrightarrow{W}_Z \\overrightarrow{m}_z &= \\overrightarrow{W}_X \\overrightarrow{m}_X + \\overrightarrow{W}_Y \\overrightarrow{m}_Y\n",
    "\\end{align*}$$\n",
    "\n",
    "- It follows that **message passing through an equality node is similar to applying Bayes rule**, i.e., fusion of two information sources. Does this make sense?"
   ]
  },
  {
   "cell_type": "markdown",
   "metadata": {
    "slideshow": {
     "slide_type": "slide"
    }
   },
   "source": [
    "### Message Passing Schedules\n",
    "\n",
    "- In a tree graph, start with messages from the terminals and keep passing messages through the internal nodes towards the \"target\" variable ($x_3$ in above problem) until you have both the forward and backward message for the target variable. "
   ]
  },
  {
   "cell_type": "markdown",
   "metadata": {
    "slideshow": {
     "slide_type": "fragment"
    }
   },
   "source": [
    "- In a tree graph, if you continue to pass messages throughout the graph, the Sum-Product Algorithm computes **exact** marginals for all hidden variables."
   ]
  },
  {
   "cell_type": "markdown",
   "metadata": {
    "slideshow": {
     "slide_type": "fragment"
    }
   },
   "source": [
    "- If the graph contains cycles, we have in principle an infinite tree by \"unrolling\" the graph. In this case, the SP Algorithm is not guaranteed to find exact marginals. In practice, if we apply the SP algorithm for just a few iterations (\"unrolls\"), then we often find satisfying approximate marginals.   "
   ]
  },
  {
   "cell_type": "markdown",
   "metadata": {
    "slideshow": {
     "slide_type": "slide"
    }
   },
   "source": [
    "### Terminal Nodes and Processing Observations \n",
    "\n",
    "- We can use terminal nodes to represent observations, e.g., add a factor $f(y)=\\delta(y−3)$ to terminate the half-edge for variable $Y$  if  $y=3$  is observed.\n",
    "\n",
    "<p style=\"text-align:center;\"><img src=\"./figures/ffg-observation-y-3.png\" width=\"600px\"></p>\n",
    "\n",
    "- Terminal nodes that carry observations are denoted by small black boxes."
   ]
  },
  {
   "cell_type": "markdown",
   "metadata": {
    "slideshow": {
     "slide_type": "fragment"
    }
   },
   "source": [
    "\n",
    "  \n",
    "- The message out of a **terminal node** (attached to only 1 edge) is the factor itself. For instance, closing a box around terminal node $f_a(x_1)$ would lead to $$\\overrightarrow{\\mu}_{X_1}(x_1) \\triangleq \\sum_{ \\stackrel{ \\textrm{enclosed} }{ \\textrm{variables} } } \\;\\prod_{\\stackrel{ \\textrm{enclosed} }{ \\textrm{factors} }} f_a(x_1) = f_a(x_1)\\,$$\n",
    "since there are no enclosed variables. \n",
    "\n",
    "<p style=\"text-align:center;\"><img src=\"./figures/ffg-terminal-node-message.png\" width=\"250px\"></p>\n",
    " "
   ]
  },
  {
   "cell_type": "markdown",
   "metadata": {
    "slideshow": {
     "slide_type": "fragment"
    }
   },
   "source": [
    "- The message from a half-edge is $1$ (one). You can verify this by imagining that a half-edge $x$ can be terminated by a node function $f(x)=1$ without affecting any inference issue."
   ]
  },
  {
   "cell_type": "markdown",
   "metadata": {
    "slideshow": {
     "slide_type": "slide"
    }
   },
   "source": [
    "### Automating Bayesian Inference by Message Passing\n",
    "\n",
    "- The foregoing message update rules can be worked out in closed-form and put into tables (e.g., see Tables 1 through 6 in [Loeliger (2007)](./files/Loeliger-2007-The-factor-graph-approach-to-model-based-signal-processing.pdf) for many standard factors such as essential probability distributions and operations such as additions, fixed-gain multiplications and branching (equality nodes).\n",
    "\n",
    "- In the optional slides below, we have worked out a few more update rules for the [addition node](#sp-for-addition-node) and the [multiplication node](#sp-for-multiplication-node).\n",
    "\n",
    "- If the update rules for all node types in a graph have been tabulated, then inference by message passing comes down to executing a set of table-lookup operations, thus creating a completely **automatable Bayesian inference framework**. \n",
    "\n",
    "- In our research lab [BIASlab](http://biaslab.org) (FLUX 7.060), we are developing [RxInfer](http://rxinfer.ml), which is a (Julia) toolbox for automating Bayesian inference by message passing in a factor graph.\n"
   ]
  },
  {
   "cell_type": "markdown",
   "metadata": {
    "slideshow": {
     "slide_type": "slide"
    }
   },
   "source": [
    "### Example: Bayesian Linear Regression by Message Passing\n"
   ]
  },
  {
   "cell_type": "markdown",
   "metadata": {
    "slideshow": {
     "slide_type": "fragment"
    }
   },
   "source": [
    "- Assume we want to estimate some function $f: \\mathbb{R}^D \\rightarrow \\mathbb{R}$ from a given data set $D = \\{(x_1,y_1), \\ldots, (x_N,y_N)\\}$, with model assumption $y_i = f(x_i) + \\epsilon_i$."
   ]
  },
  {
   "cell_type": "markdown",
   "metadata": {
    "slideshow": {
     "slide_type": "fragment"
    }
   },
   "source": [
    "#### model specification \n",
    "\n",
    "- We will assume a linear model with white Gaussian noise and a Gaussian prior on the coefficients $w$:\n",
    "$$\\begin{align*}\n",
    "  y_i &= w^T x_i  + \\epsilon_i \\\\\n",
    "  \\epsilon_i &\\sim \\mathcal{N}(0, \\sigma^2) \\\\ \n",
    "  w &\\sim \\mathcal{N}(0,\\Sigma)\n",
    "\\end{align*}$$\n",
    "or equivalently\n",
    "$$\\begin{align*}\n",
    "p(w,\\epsilon,D) &= \\overbrace{p(w)}^{\\text{weight prior}} \\prod_{i=1}^N  \\overbrace{p(y_i\\,|\\,x_i,w,\\epsilon_i)}^{\\text{regression model}} \\overbrace{p(\\epsilon_i)}^{\\text{noise model}} \\\\\n",
    "  &= \\mathcal{N}(w\\,|\\,0,\\Sigma) \\prod_{i=1}^N \\delta(y_i - w^T x_i - \\epsilon_i) \\mathcal{N}(\\epsilon_i\\,|\\,0,\\sigma^2) \n",
    "\\end{align*}$$"
   ]
  },
  {
   "cell_type": "markdown",
   "metadata": {
    "slideshow": {
     "slide_type": "fragment"
    }
   },
   "source": [
    "#### Inference (parameter estimation)\n",
    "\n",
    "- We are interested in inferring the posterior $p(w|D)$. We will execute inference by message passing on the FFG for the model."
   ]
  },
  {
   "cell_type": "markdown",
   "metadata": {
    "slideshow": {
     "slide_type": "subslide"
    }
   },
   "source": [
    "- The left figure shows the factor graph for this model. \n",
    "- The right figure shows the message passing scheme. \n",
    "  \n",
    "<p style=\"text-align:center;\"><img src=\"./figures/ffg-bayesian-linear-regression.png\" width=\"500px\"></p>\n"
   ]
  },
  {
   "cell_type": "markdown",
   "metadata": {
    "slideshow": {
     "slide_type": "slide"
    }
   },
   "source": [
    "#### CODE EXAMPLE\n",
    "\n",
    "Let's solve this problem by message passing-based inference with Julia's FFG toolbox [RxInfer](https://biaslab.github.io/rxinfer-website/)."
   ]
  },
  {
   "cell_type": "code",
   "execution_count": 1,
   "metadata": {},
   "outputs": [
    {
     "name": "stderr",
     "output_type": "stream",
     "text": [
      "\u001b[32m\u001b[1m  Activating\u001b[22m\u001b[39m project at `~/github/bertdv/BMLIP/lessons`\n"
     ]
    }
   ],
   "source": [
    "using Pkg; Pkg.activate(\"../.\"); Pkg.instantiate();\n",
    "using IJulia; try IJulia.clear_output(); catch _ end"
   ]
  },
  {
   "cell_type": "code",
   "execution_count": 2,
   "metadata": {},
   "outputs": [
    {
     "data": {
      "image/png": "[encoded data removed]",
      "image/svg+xml": [
       "<?xml version=\"1.0\" encoding=\"utf-8\"?>\n",
       "<svg xmlns=\"http://www.w3.org/2000/svg\" xmlns:xlink=\"http://www.w3.org/1999/xlink\" width=\"600\" height=\"400\" viewBox=\"0 0 2400 1600\">\n",
       "<defs>\n",
       "  <clipPath id=\"clip240\">\n",
       "    <rect x=\"0\" y=\"0\" width=\"2400\" height=\"1600\"/>\n",
       "  </clipPath>\n",
       "</defs>\n",
       "<path clip-path=\"url(#clip240)\" d=\"M0 1600 L2400 1600 L2400 0 L0 0  Z\" fill=\"#ffffff\" fill-rule=\"evenodd\" fill-opacity=\"1\"/>\n",
       "<defs>\n",
       "  <clipPath id=\"clip241\">\n",
       "    <rect x=\"480\" y=\"0\" width=\"1681\" height=\"1600\"/>\n",
       "  </clipPath>\n",
       "</defs>\n",
       "<path clip-path=\"url(#clip240)\" d=\"M205.121 1423.18 L2352.76 1423.18 L2352.76 47.2441 L205.121 47.2441  Z\" fill=\"#ffffff\" fill-rule=\"evenodd\" fill-opacity=\"1\"/>\n",
       "<defs>\n",
       "  <clipPath id=\"clip242\">\n",
       "    <rect x=\"205\" y=\"47\" width=\"2149\" height=\"1377\"/>\n",
       "  </clipPath>\n",
       "</defs>\n",
       "<polyline clip-path=\"url(#clip242)\" style=\"stroke:#000000; stroke-linecap:round; stroke-linejoin:round; stroke-width:2; stroke-opacity:0.1; fill:none\" points=\"251.25,1423.18 251.25,47.2441 \"/>\n",
       "<polyline clip-path=\"url(#clip242)\" style=\"stroke:#000000; stroke-linecap:round; stroke-linejoin:round; stroke-width:2; stroke-opacity:0.1; fill:none\" points=\"769.158,1423.18 769.158,47.2441 \"/>\n",
       "<polyline clip-path=\"url(#clip242)\" style=\"stroke:#000000; stroke-linecap:round; stroke-linejoin:round; stroke-width:2; stroke-opacity:0.1; fill:none\" points=\"1287.07,1423.18 1287.07,47.2441 \"/>\n",
       "<polyline clip-path=\"url(#clip242)\" style=\"stroke:#000000; stroke-linecap:round; stroke-linejoin:round; stroke-width:2; stroke-opacity:0.1; fill:none\" points=\"1804.97,1423.18 1804.97,47.2441 \"/>\n",
       "<polyline clip-path=\"url(#clip242)\" style=\"stroke:#000000; stroke-linecap:round; stroke-linejoin:round; stroke-width:2; stroke-opacity:0.1; fill:none\" points=\"2322.88,1423.18 2322.88,47.2441 \"/>\n",
       "<polyline clip-path=\"url(#clip240)\" style=\"stroke:#000000; stroke-linecap:round; stroke-linejoin:round; stroke-width:4; stroke-opacity:1; fill:none\" points=\"205.121,1423.18 2352.76,1423.18 \"/>\n",
       "<polyline clip-path=\"url(#clip240)\" style=\"stroke:#000000; stroke-linecap:round; stroke-linejoin:round; stroke-width:4; stroke-opacity:1; fill:none\" points=\"251.25,1423.18 251.25,1404.28 \"/>\n",
       "<polyline clip-path=\"url(#clip240)\" style=\"stroke:#000000; stroke-linecap:round; stroke-linejoin:round; stroke-width:4; stroke-opacity:1; fill:none\" points=\"769.158,1423.18 769.158,1404.28 \"/>\n",
       "<polyline clip-path=\"url(#clip240)\" style=\"stroke:#000000; stroke-linecap:round; stroke-linejoin:round; stroke-width:4; stroke-opacity:1; fill:none\" points=\"1287.07,1423.18 1287.07,1404.28 \"/>\n",
       "<polyline clip-path=\"url(#clip240)\" style=\"stroke:#000000; stroke-linecap:round; stroke-linejoin:round; stroke-width:4; stroke-opacity:1; fill:none\" points=\"1804.97,1423.18 1804.97,1404.28 \"/>\n",
       "<polyline clip-path=\"url(#clip240)\" style=\"stroke:#000000; stroke-linecap:round; stroke-linejoin:round; stroke-width:4; stroke-opacity:1; fill:none\" points=\"2322.88,1423.18 2322.88,1404.28 \"/>\n",
       "<path clip-path=\"url(#clip240)\" d=\"M228.634 1454.1 Q225.023 1454.1 223.194 1457.66 Q221.389 1461.2 221.389 1468.33 Q221.389 1475.44 223.194 1479.01 Q225.023 1482.55 228.634 1482.55 Q232.268 1482.55 234.074 1479.01 Q235.903 1475.44 235.903 1468.33 Q235.903 1461.2 234.074 1457.66 Q232.268 1454.1 228.634 1454.1 M228.634 1450.39 Q234.444 1450.39 237.5 1455 Q240.578 1459.58 240.578 1468.33 Q240.578 1477.06 237.5 1481.67 Q234.444 1486.25 228.634 1486.25 Q222.824 1486.25 219.745 1481.67 Q216.69 1477.06 216.69 1468.33 Q216.69 1459.58 219.745 1455 Q222.824 1450.39 228.634 1450.39 Z\" fill=\"#000000\" fill-rule=\"nonzero\" fill-opacity=\"1\" /><path clip-path=\"url(#clip240)\" d=\"M248.796 1479.7 L253.68 1479.7 L253.68 1485.58 L248.796 1485.58 L248.796 1479.7 Z\" fill=\"#000000\" fill-rule=\"nonzero\" fill-opacity=\"1\" /><path clip-path=\"url(#clip240)\" d=\"M273.865 1454.1 Q270.254 1454.1 268.426 1457.66 Q266.62 1461.2 266.62 1468.33 Q266.62 1475.44 268.426 1479.01 Q270.254 1482.55 273.865 1482.55 Q277.5 1482.55 279.305 1479.01 Q281.134 1475.44 281.134 1468.33 Q281.134 1461.2 279.305 1457.66 Q277.5 1454.1 273.865 1454.1 M273.865 1450.39 Q279.675 1450.39 282.731 1455 Q285.81 1459.58 285.81 1468.33 Q285.81 1477.06 282.731 1481.67 Q279.675 1486.25 273.865 1486.25 Q268.055 1486.25 264.976 1481.67 Q261.921 1477.06 261.921 1468.33 Q261.921 1459.58 264.976 1455 Q268.055 1450.39 273.865 1450.39 Z\" fill=\"#000000\" fill-rule=\"nonzero\" fill-opacity=\"1\" /><path clip-path=\"url(#clip240)\" d=\"M740.894 1481.64 L757.214 1481.64 L757.214 1485.58 L735.269 1485.58 L735.269 1481.64 Q737.931 1478.89 742.515 1474.26 Q747.121 1469.61 748.302 1468.27 Q750.547 1465.74 751.427 1464.01 Q752.329 1462.25 752.329 1460.56 Q752.329 1457.8 750.385 1456.07 Q748.464 1454.33 745.362 1454.33 Q743.163 1454.33 740.709 1455.09 Q738.279 1455.86 735.501 1457.41 L735.501 1452.69 Q738.325 1451.55 740.779 1450.97 Q743.232 1450.39 745.269 1450.39 Q750.64 1450.39 753.834 1453.08 Q757.029 1455.77 757.029 1460.26 Q757.029 1462.39 756.218 1464.31 Q755.431 1466.2 753.325 1468.8 Q752.746 1469.47 749.644 1472.69 Q746.542 1475.88 740.894 1481.64 Z\" fill=\"#000000\" fill-rule=\"nonzero\" fill-opacity=\"1\" /><path clip-path=\"url(#clip240)\" d=\"M767.028 1479.7 L771.913 1479.7 L771.913 1485.58 L767.028 1485.58 L767.028 1479.7 Z\" fill=\"#000000\" fill-rule=\"nonzero\" fill-opacity=\"1\" /><path clip-path=\"url(#clip240)\" d=\"M782.144 1451.02 L800.501 1451.02 L800.501 1454.96 L786.427 1454.96 L786.427 1463.43 Q787.445 1463.08 788.464 1462.92 Q789.482 1462.73 790.501 1462.73 Q796.288 1462.73 799.667 1465.9 Q803.047 1469.08 803.047 1474.49 Q803.047 1480.07 799.575 1483.17 Q796.102 1486.25 789.783 1486.25 Q787.607 1486.25 785.339 1485.88 Q783.093 1485.51 780.686 1484.77 L780.686 1480.07 Q782.769 1481.2 784.991 1481.76 Q787.214 1482.32 789.69 1482.32 Q793.695 1482.32 796.033 1480.21 Q798.371 1478.1 798.371 1474.49 Q798.371 1470.88 796.033 1468.77 Q793.695 1466.67 789.69 1466.67 Q787.815 1466.67 785.94 1467.08 Q784.089 1467.5 782.144 1468.38 L782.144 1451.02 Z\" fill=\"#000000\" fill-rule=\"nonzero\" fill-opacity=\"1\" /><path clip-path=\"url(#clip240)\" d=\"M1254.23 1451.02 L1272.59 1451.02 L1272.59 1454.96 L1258.51 1454.96 L1258.51 1463.43 Q1259.53 1463.08 1260.55 1462.92 Q1261.57 1462.73 1262.59 1462.73 Q1268.37 1462.73 1271.75 1465.9 Q1275.13 1469.08 1275.13 1474.49 Q1275.13 1480.07 1271.66 1483.17 Q1268.19 1486.25 1261.87 1486.25 Q1259.69 1486.25 1257.43 1485.88 Q1255.18 1485.51 1252.77 1484.77 L1252.77 1480.07 Q1254.86 1481.2 1257.08 1481.76 Q1259.3 1482.32 1261.78 1482.32 Q1265.78 1482.32 1268.12 1480.21 Q1270.46 1478.1 1270.46 1474.49 Q1270.46 1470.88 1268.12 1468.77 Q1265.78 1466.67 1261.78 1466.67 Q1259.9 1466.67 1258.03 1467.08 Q1256.18 1467.5 1254.23 1468.38 L1254.23 1451.02 Z\" fill=\"#000000\" fill-rule=\"nonzero\" fill-opacity=\"1\" /><path clip-path=\"url(#clip240)\" d=\"M1284.35 1479.7 L1289.23 1479.7 L1289.23 1485.58 L1284.35 1485.58 L1284.35 1479.7 Z\" fill=\"#000000\" fill-rule=\"nonzero\" fill-opacity=\"1\" /><path clip-path=\"url(#clip240)\" d=\"M1309.42 1454.1 Q1305.8 1454.1 1303.98 1457.66 Q1302.17 1461.2 1302.17 1468.33 Q1302.17 1475.44 1303.98 1479.01 Q1305.8 1482.55 1309.42 1482.55 Q1313.05 1482.55 1314.86 1479.01 Q1316.68 1475.44 1316.68 1468.33 Q1316.68 1461.2 1314.86 1457.66 Q1313.05 1454.1 1309.42 1454.1 M1309.42 1450.39 Q1315.23 1450.39 1318.28 1455 Q1321.36 1459.58 1321.36 1468.33 Q1321.36 1477.06 1318.28 1481.67 Q1315.23 1486.25 1309.42 1486.25 Q1303.61 1486.25 1300.53 1481.67 Q1297.47 1477.06 1297.47 1468.33 Q1297.47 1459.58 1300.53 1455 Q1303.61 1450.39 1309.42 1450.39 Z\" fill=\"#000000\" fill-rule=\"nonzero\" fill-opacity=\"1\" /><path clip-path=\"url(#clip240)\" d=\"M1771.29 1451.02 L1793.52 1451.02 L1793.52 1453.01 L1780.97 1485.58 L1776.09 1485.58 L1787.89 1454.96 L1771.29 1454.96 L1771.29 1451.02 Z\" fill=\"#000000\" fill-rule=\"nonzero\" fill-opacity=\"1\" /><path clip-path=\"url(#clip240)\" d=\"M1802.64 1479.7 L1807.52 1479.7 L1807.52 1485.58 L1802.64 1485.58 L1802.64 1479.7 Z\" fill=\"#000000\" fill-rule=\"nonzero\" fill-opacity=\"1\" /><path clip-path=\"url(#clip240)\" d=\"M1817.75 1451.02 L1836.11 1451.02 L1836.11 1454.96 L1822.04 1454.96 L1822.04 1463.43 Q1823.05 1463.08 1824.07 1462.92 Q1825.09 1462.73 1826.11 1462.73 Q1831.9 1462.73 1835.28 1465.9 Q1838.66 1469.08 1838.66 1474.49 Q1838.66 1480.07 1835.18 1483.17 Q1831.71 1486.25 1825.39 1486.25 Q1823.22 1486.25 1820.95 1485.88 Q1818.7 1485.51 1816.29 1484.77 L1816.29 1480.07 Q1818.38 1481.2 1820.6 1481.76 Q1822.82 1482.32 1825.3 1482.32 Q1829.3 1482.32 1831.64 1480.21 Q1833.98 1478.1 1833.98 1474.49 Q1833.98 1470.88 1831.64 1468.77 Q1829.3 1466.67 1825.3 1466.67 Q1823.42 1466.67 1821.55 1467.08 Q1819.7 1467.5 1817.75 1468.38 L1817.75 1451.02 Z\" fill=\"#000000\" fill-rule=\"nonzero\" fill-opacity=\"1\" /><path clip-path=\"url(#clip240)\" d=\"M2274.96 1481.64 L2282.59 1481.64 L2282.59 1455.28 L2274.28 1456.95 L2274.28 1452.69 L2282.55 1451.02 L2287.22 1451.02 L2287.22 1481.64 L2294.86 1481.64 L2294.86 1485.58 L2274.96 1485.58 L2274.96 1481.64 Z\" fill=\"#000000\" fill-rule=\"nonzero\" fill-opacity=\"1\" /><path clip-path=\"url(#clip240)\" d=\"M2314.31 1454.1 Q2310.7 1454.1 2308.87 1457.66 Q2307.06 1461.2 2307.06 1468.33 Q2307.06 1475.44 2308.87 1479.01 Q2310.7 1482.55 2314.31 1482.55 Q2317.94 1482.55 2319.75 1479.01 Q2321.58 1475.44 2321.58 1468.33 Q2321.58 1461.2 2319.75 1457.66 Q2317.94 1454.1 2314.31 1454.1 M2314.31 1450.39 Q2320.12 1450.39 2323.17 1455 Q2326.25 1459.58 2326.25 1468.33 Q2326.25 1477.06 2323.17 1481.67 Q2320.12 1486.25 2314.31 1486.25 Q2308.5 1486.25 2305.42 1481.67 Q2302.36 1477.06 2302.36 1468.33 Q2302.36 1459.58 2305.42 1455 Q2308.5 1450.39 2314.31 1450.39 Z\" fill=\"#000000\" fill-rule=\"nonzero\" fill-opacity=\"1\" /><path clip-path=\"url(#clip240)\" d=\"M2334.47 1479.7 L2339.35 1479.7 L2339.35 1485.58 L2334.47 1485.58 L2334.47 1479.7 Z\" fill=\"#000000\" fill-rule=\"nonzero\" fill-opacity=\"1\" /><path clip-path=\"url(#clip240)\" d=\"M2359.54 1454.1 Q2355.93 1454.1 2354.1 1457.66 Q2352.29 1461.2 2352.29 1468.33 Q2352.29 1475.44 2354.1 1479.01 Q2355.93 1482.55 2359.54 1482.55 Q2363.17 1482.55 2364.98 1479.01 Q2366.81 1475.44 2366.81 1468.33 Q2366.81 1461.2 2364.98 1457.66 Q2363.17 1454.1 2359.54 1454.1 M2359.54 1450.39 Q2365.35 1450.39 2368.4 1455 Q2371.48 1459.58 2371.48 1468.33 Q2371.48 1477.06 2368.4 1481.67 Q2365.35 1486.25 2359.54 1486.25 Q2353.73 1486.25 2350.65 1481.67 Q2347.59 1477.06 2347.59 1468.33 Q2347.59 1459.58 2350.65 1455 Q2353.73 1450.39 2359.54 1450.39 Z\" fill=\"#000000\" fill-rule=\"nonzero\" fill-opacity=\"1\" /><path clip-path=\"url(#clip240)\" d=\"M1291.71 1525.1 Q1291.71 1525.33 1291.16 1526.29 Q1290.65 1527.23 1288.75 1529.58 Q1286.85 1531.93 1284.01 1534.67 Q1282.95 1535.73 1281.34 1537.21 Q1279.73 1538.69 1278.63 1539.66 L1277.54 1540.62 Q1273.35 1544.17 1269.68 1548.13 Q1269.94 1548.03 1270.39 1548 Q1270.84 1547.93 1271.16 1547.93 L1271.48 1547.93 Q1273.16 1547.93 1276.09 1549.06 Q1278.67 1549.9 1279.99 1549.9 Q1281.27 1549.9 1282.69 1549.45 Q1284.11 1549 1285.65 1547.68 Q1287.2 1546.36 1287.91 1544.36 Q1288.04 1544.04 1288.1 1543.94 Q1288.17 1543.81 1288.36 1543.68 Q1288.55 1543.52 1288.81 1543.52 Q1289.17 1543.52 1289.39 1543.71 Q1289.62 1543.91 1289.62 1544.17 Q1289.62 1544.75 1289.17 1545.9 Q1288.75 1547.06 1287.81 1548.51 Q1286.91 1549.96 1285.72 1551.28 Q1284.56 1552.57 1282.82 1553.47 Q1281.08 1554.34 1279.25 1554.34 Q1277.93 1554.34 1276.96 1553.7 Q1275.99 1553.09 1275.03 1551.9 Q1273.71 1550.38 1273 1549.9 Q1272.29 1549.38 1271.19 1549.38 Q1268.26 1549.38 1265.59 1553.47 Q1265.3 1554.05 1265.11 1554.18 Q1264.95 1554.34 1264.56 1554.34 Q1263.75 1554.31 1263.75 1553.67 Q1263.75 1553.41 1264.46 1552.28 Q1265.2 1551.12 1266.85 1549.09 Q1268.52 1547.06 1270.55 1545.04 L1276.48 1539.5 Q1283.05 1533.96 1285.65 1530.83 Q1284.56 1530.83 1284.08 1530.8 Q1283.63 1530.77 1282.72 1530.57 Q1281.82 1530.35 1280.57 1529.87 Q1277.64 1528.87 1276.41 1528.87 Q1276.09 1528.87 1275.74 1528.9 Q1275.38 1528.93 1274.58 1529.09 Q1273.8 1529.25 1273.16 1529.58 Q1272.51 1529.87 1271.84 1530.51 Q1271.16 1531.12 1270.81 1531.96 Q1270.71 1532.22 1270.65 1532.35 Q1270.58 1532.48 1270.39 1532.6 Q1270.23 1532.7 1269.97 1532.7 Q1269.58 1532.7 1269.36 1532.48 Q1269.17 1532.25 1269.17 1531.96 Q1269.17 1531.38 1269.75 1530.19 Q1270.32 1529 1271.29 1527.71 Q1272.26 1526.39 1273.84 1525.42 Q1275.41 1524.46 1277.15 1524.46 Q1278.18 1524.46 1279.05 1524.91 Q1279.95 1525.36 1280.41 1525.84 Q1280.89 1526.29 1281.69 1527.29 Q1282.37 1528.06 1282.69 1528.38 Q1283.01 1528.71 1283.66 1529.06 Q1284.33 1529.38 1285.08 1529.38 Q1286.3 1529.38 1287.43 1528.45 Q1288.55 1527.48 1290 1525.16 Q1290.39 1524.46 1291 1524.46 Q1291.71 1524.46 1291.71 1525.1 Z\" fill=\"#000000\" fill-rule=\"nonzero\" fill-opacity=\"1\" /><polyline clip-path=\"url(#clip242)\" style=\"stroke:#000000; stroke-linecap:round; stroke-linejoin:round; stroke-width:2; stroke-opacity:0.1; fill:none\" points=\"205.121,1412.26 2352.76,1412.26 \"/>\n",
       "<polyline clip-path=\"url(#clip242)\" style=\"stroke:#000000; stroke-linecap:round; stroke-linejoin:round; stroke-width:2; stroke-opacity:0.1; fill:none\" points=\"205.121,1118.35 2352.76,1118.35 \"/>\n",
       "<polyline clip-path=\"url(#clip242)\" style=\"stroke:#000000; stroke-linecap:round; stroke-linejoin:round; stroke-width:2; stroke-opacity:0.1; fill:none\" points=\"205.121,824.439 2352.76,824.439 \"/>\n",
       "<polyline clip-path=\"url(#clip242)\" style=\"stroke:#000000; stroke-linecap:round; stroke-linejoin:round; stroke-width:2; stroke-opacity:0.1; fill:none\" points=\"205.121,530.528 2352.76,530.528 \"/>\n",
       "<polyline clip-path=\"url(#clip242)\" style=\"stroke:#000000; stroke-linecap:round; stroke-linejoin:round; stroke-width:2; stroke-opacity:0.1; fill:none\" points=\"205.121,236.617 2352.76,236.617 \"/>\n",
       "<polyline clip-path=\"url(#clip240)\" style=\"stroke:#000000; stroke-linecap:round; stroke-linejoin:round; stroke-width:4; stroke-opacity:1; fill:none\" points=\"205.121,1423.18 205.121,47.2441 \"/>\n",
       "<polyline clip-path=\"url(#clip240)\" style=\"stroke:#000000; stroke-linecap:round; stroke-linejoin:round; stroke-width:4; stroke-opacity:1; fill:none\" points=\"205.121,1412.26 224.019,1412.26 \"/>\n",
       "<polyline clip-path=\"url(#clip240)\" style=\"stroke:#000000; stroke-linecap:round; stroke-linejoin:round; stroke-width:4; stroke-opacity:1; fill:none\" points=\"205.121,1118.35 224.019,1118.35 \"/>\n",
       "<polyline clip-path=\"url(#clip240)\" style=\"stroke:#000000; stroke-linecap:round; stroke-linejoin:round; stroke-width:4; stroke-opacity:1; fill:none\" points=\"205.121,824.439 224.019,824.439 \"/>\n",
       "<polyline clip-path=\"url(#clip240)\" style=\"stroke:#000000; stroke-linecap:round; stroke-linejoin:round; stroke-width:4; stroke-opacity:1; fill:none\" points=\"205.121,530.528 224.019,530.528 \"/>\n",
       "<polyline clip-path=\"url(#clip240)\" style=\"stroke:#000000; stroke-linecap:round; stroke-linejoin:round; stroke-width:4; stroke-opacity:1; fill:none\" points=\"205.121,236.617 224.019,236.617 \"/>\n",
       "<path clip-path=\"url(#clip240)\" d=\"M157.177 1398.06 Q153.566 1398.06 151.737 1401.63 Q149.931 1405.17 149.931 1412.3 Q149.931 1419.4 151.737 1422.97 Q153.566 1426.51 157.177 1426.51 Q160.811 1426.51 162.616 1422.97 Q164.445 1419.4 164.445 1412.3 Q164.445 1405.17 162.616 1401.63 Q160.811 1398.06 157.177 1398.06 M157.177 1394.36 Q162.987 1394.36 166.042 1398.96 Q169.121 1403.55 169.121 1412.3 Q169.121 1421.02 166.042 1425.63 Q162.987 1430.21 157.177 1430.21 Q151.366 1430.21 148.288 1425.63 Q145.232 1421.02 145.232 1412.3 Q145.232 1403.55 148.288 1398.96 Q151.366 1394.36 157.177 1394.36 Z\" fill=\"#000000\" fill-rule=\"nonzero\" fill-opacity=\"1\" /><path clip-path=\"url(#clip240)\" d=\"M117.825 1131.7 L125.464 1131.7 L125.464 1105.33 L117.154 1107 L117.154 1102.74 L125.418 1101.07 L130.093 1101.07 L130.093 1131.7 L137.732 1131.7 L137.732 1135.63 L117.825 1135.63 L117.825 1131.7 Z\" fill=\"#000000\" fill-rule=\"nonzero\" fill-opacity=\"1\" /><path clip-path=\"url(#clip240)\" d=\"M157.177 1104.15 Q153.566 1104.15 151.737 1107.71 Q149.931 1111.26 149.931 1118.39 Q149.931 1125.49 151.737 1129.06 Q153.566 1132.6 157.177 1132.6 Q160.811 1132.6 162.616 1129.06 Q164.445 1125.49 164.445 1118.39 Q164.445 1111.26 162.616 1107.71 Q160.811 1104.15 157.177 1104.15 M157.177 1100.45 Q162.987 1100.45 166.042 1105.05 Q169.121 1109.64 169.121 1118.39 Q169.121 1127.11 166.042 1131.72 Q162.987 1136.3 157.177 1136.3 Q151.366 1136.3 148.288 1131.72 Q145.232 1127.11 145.232 1118.39 Q145.232 1109.64 148.288 1105.05 Q151.366 1100.45 157.177 1100.45 Z\" fill=\"#000000\" fill-rule=\"nonzero\" fill-opacity=\"1\" /><path clip-path=\"url(#clip240)\" d=\"M121.043 837.784 L137.362 837.784 L137.362 841.719 L115.418 841.719 L115.418 837.784 Q118.08 835.03 122.663 830.4 Q127.269 825.747 128.45 824.405 Q130.695 821.881 131.575 820.145 Q132.478 818.386 132.478 816.696 Q132.478 813.942 130.533 812.206 Q128.612 810.47 125.51 810.47 Q123.311 810.47 120.857 811.233 Q118.427 811.997 115.649 813.548 L115.649 808.826 Q118.473 807.692 120.927 807.113 Q123.38 806.534 125.418 806.534 Q130.788 806.534 133.982 809.22 Q137.177 811.905 137.177 816.395 Q137.177 818.525 136.367 820.446 Q135.579 822.344 133.473 824.937 Q132.894 825.608 129.792 828.826 Q126.691 832.02 121.043 837.784 Z\" fill=\"#000000\" fill-rule=\"nonzero\" fill-opacity=\"1\" /><path clip-path=\"url(#clip240)\" d=\"M157.177 810.238 Q153.566 810.238 151.737 813.803 Q149.931 817.344 149.931 824.474 Q149.931 831.581 151.737 835.145 Q153.566 838.687 157.177 838.687 Q160.811 838.687 162.616 835.145 Q164.445 831.581 164.445 824.474 Q164.445 817.344 162.616 813.803 Q160.811 810.238 157.177 810.238 M157.177 806.534 Q162.987 806.534 166.042 811.141 Q169.121 815.724 169.121 824.474 Q169.121 833.201 166.042 837.807 Q162.987 842.391 157.177 842.391 Q151.366 842.391 148.288 837.807 Q145.232 833.201 145.232 824.474 Q145.232 815.724 148.288 811.141 Q151.366 806.534 157.177 806.534 Z\" fill=\"#000000\" fill-rule=\"nonzero\" fill-opacity=\"1\" /><path clip-path=\"url(#clip240)\" d=\"M131.181 529.174 Q134.538 529.892 136.413 532.16 Q138.311 534.429 138.311 537.762 Q138.311 542.878 134.792 545.679 Q131.274 548.479 124.793 548.479 Q122.617 548.479 120.302 548.04 Q118.01 547.623 115.556 546.767 L115.556 542.253 Q117.501 543.387 119.816 543.966 Q122.13 544.544 124.654 544.544 Q129.052 544.544 131.343 542.808 Q133.658 541.072 133.658 537.762 Q133.658 534.706 131.505 532.993 Q129.376 531.257 125.556 531.257 L121.529 531.257 L121.529 527.415 L125.742 527.415 Q129.191 527.415 131.019 526.049 Q132.848 524.66 132.848 522.068 Q132.848 519.406 130.95 517.994 Q129.075 516.558 125.556 516.558 Q123.635 516.558 121.436 516.975 Q119.237 517.392 116.598 518.271 L116.598 514.105 Q119.26 513.364 121.575 512.994 Q123.913 512.623 125.973 512.623 Q131.297 512.623 134.399 515.054 Q137.501 517.461 137.501 521.581 Q137.501 524.452 135.857 526.443 Q134.214 528.41 131.181 529.174 Z\" fill=\"#000000\" fill-rule=\"nonzero\" fill-opacity=\"1\" /><path clip-path=\"url(#clip240)\" d=\"M157.177 516.327 Q153.566 516.327 151.737 519.892 Q149.931 523.433 149.931 530.563 Q149.931 537.669 151.737 541.234 Q153.566 544.776 157.177 544.776 Q160.811 544.776 162.616 541.234 Q164.445 537.669 164.445 530.563 Q164.445 523.433 162.616 519.892 Q160.811 516.327 157.177 516.327 M157.177 512.623 Q162.987 512.623 166.042 517.23 Q169.121 521.813 169.121 530.563 Q169.121 539.29 166.042 543.896 Q162.987 548.479 157.177 548.479 Q151.366 548.479 148.288 543.896 Q145.232 539.29 145.232 530.563 Q145.232 521.813 148.288 517.23 Q151.366 512.623 157.177 512.623 Z\" fill=\"#000000\" fill-rule=\"nonzero\" fill-opacity=\"1\" /><path clip-path=\"url(#clip240)\" d=\"M129.862 223.411 L118.056 241.86 L129.862 241.86 L129.862 223.411 M128.635 219.337 L134.515 219.337 L134.515 241.86 L139.445 241.86 L139.445 245.749 L134.515 245.749 L134.515 253.897 L129.862 253.897 L129.862 245.749 L114.26 245.749 L114.26 241.235 L128.635 219.337 Z\" fill=\"#000000\" fill-rule=\"nonzero\" fill-opacity=\"1\" /><path clip-path=\"url(#clip240)\" d=\"M157.177 222.416 Q153.566 222.416 151.737 225.981 Q149.931 229.522 149.931 236.652 Q149.931 243.758 151.737 247.323 Q153.566 250.865 157.177 250.865 Q160.811 250.865 162.616 247.323 Q164.445 243.758 164.445 236.652 Q164.445 229.522 162.616 225.981 Q160.811 222.416 157.177 222.416 M157.177 218.712 Q162.987 218.712 166.042 223.318 Q169.121 227.902 169.121 236.652 Q169.121 245.379 166.042 249.985 Q162.987 254.568 157.177 254.568 Q151.366 254.568 148.288 249.985 Q145.232 245.379 145.232 236.652 Q145.232 227.902 148.288 223.318 Q151.366 218.712 157.177 218.712 Z\" fill=\"#000000\" fill-rule=\"nonzero\" fill-opacity=\"1\" /><path clip-path=\"url(#clip240)\" d=\"M24.7187 937.85 Q26.49 937.85 27.585 938.977 Q28.68 940.072 28.68 941.457 Q28.68 942.455 28.0681 943.196 Q27.4562 943.905 26.3934 943.905 Q25.2984 943.905 24.139 943.067 Q22.9796 942.23 22.8185 940.33 Q21.6269 941.586 21.6269 943.583 Q21.6269 944.581 22.271 945.418 Q22.883 946.223 23.8813 946.674 Q24.9119 947.157 30.7412 948.252 Q32.6413 948.607 34.4771 948.929 Q36.3128 949.251 38.2451 949.637 L38.2451 944.162 Q38.2451 943.454 38.2774 943.164 Q38.3096 942.874 38.4706 942.649 Q38.6316 942.391 38.9859 942.391 Q39.8876 942.391 40.1131 942.81 Q40.3063 943.196 40.3063 944.355 L40.3063 950.024 L61.2079 953.985 Q61.8198 954.082 63.7522 954.5 Q65.6523 954.887 68.7763 955.821 Q71.9325 956.755 73.8004 957.689 Q74.8632 958.204 75.8616 958.88 Q76.8922 959.524 77.9228 960.458 Q78.9534 961.392 79.5653 962.616 Q80.2094 963.84 80.2094 965.128 Q80.2094 967.318 78.9856 969.025 Q77.7617 970.732 75.6684 970.732 Q73.897 970.732 72.802 969.637 Q71.707 968.51 71.707 967.125 Q71.707 966.127 72.3189 965.418 Q72.9309 964.677 73.9937 964.677 Q74.4445 964.677 74.9598 964.838 Q75.4751 964.999 76.0548 965.354 Q76.6667 965.708 77.0854 966.481 Q77.5041 967.254 77.5685 968.317 Q78.7601 967.061 78.7601 965.128 Q78.7601 964.516 78.5025 963.969 Q78.277 963.421 77.6973 962.97 Q77.1176 962.487 76.5379 962.133 Q75.9904 961.779 74.9276 961.425 Q73.897 961.07 73.1241 960.845 Q72.3512 960.619 70.9663 960.33 Q69.5815 960.008 68.7441 959.847 Q67.939 959.685 66.3609 959.396 L40.3063 954.468 L40.3063 958.816 Q40.3063 959.589 40.2741 959.911 Q40.2419 960.201 40.0809 960.426 Q39.8876 960.652 39.5012 960.652 Q38.8893 960.652 38.6316 960.394 Q38.3418 960.104 38.3096 959.782 Q38.2451 959.46 38.2451 958.687 L38.2451 954.114 Q30.0971 952.568 27.9071 951.956 Q25.5882 951.248 23.978 950.153 Q22.3355 949.058 21.5625 947.834 Q20.7896 946.61 20.4997 945.612 Q20.1777 944.581 20.1777 943.583 Q20.1777 941.328 21.4015 939.589 Q22.5931 937.85 24.7187 937.85 Z\" fill=\"#000000\" fill-rule=\"nonzero\" fill-opacity=\"1\" /><path clip-path=\"url(#clip240)\" d=\"M50.1935 928.97 Q39.0503 928.97 30.0649 924.815 Q26.2968 923.044 23.1406 920.564 Q19.9844 918.084 18.5996 916.442 Q17.2147 914.799 17.2147 914.348 Q17.2147 913.704 17.8588 913.672 Q18.1809 913.672 18.986 914.542 Q29.8072 925.17 50.1935 925.137 Q70.6442 925.137 81.0467 914.799 Q82.1739 913.672 82.5282 913.672 Q83.1723 913.672 83.1723 914.348 Q83.1723 914.799 81.8519 916.377 Q80.5314 917.956 77.5041 920.403 Q74.4767 922.851 70.7731 924.622 Q61.7876 928.97 50.1935 928.97 Z\" fill=\"#000000\" fill-rule=\"nonzero\" fill-opacity=\"1\" /><path clip-path=\"url(#clip240)\" d=\"M83.1723 902.322 L17.2147 902.322 L17.2147 892.371 L18.7284 892.371 L18.7284 897.91 L81.6586 897.91 L81.6586 892.371 L83.1723 892.371 L83.1723 902.322 Z\" fill=\"#000000\" fill-rule=\"nonzero\" fill-opacity=\"1\" /><path clip-path=\"url(#clip240)\" d=\"M29.0343 887.34 L26.9731 887.34 Q26.9731 879.418 22.7541 875.327 Q22.7541 874.2 23.0118 874.007 Q23.2694 873.814 24.461 873.814 L61.4656 873.814 Q63.4301 873.814 64.042 872.848 Q64.654 871.881 64.654 867.662 L64.654 865.569 L66.6829 865.569 Q66.4897 867.888 66.4897 876.261 Q66.4897 884.635 66.6829 886.922 L64.654 886.922 L64.654 884.828 Q64.654 880.674 64.0742 879.675 Q63.4623 878.677 61.4656 878.677 L27.2952 878.677 Q29.0343 882.123 29.0343 887.34 Z\" fill=\"#000000\" fill-rule=\"nonzero\" fill-opacity=\"1\" /><path clip-path=\"url(#clip240)\" d=\"M65.6201 860.428 Q64.5573 861.426 63.1725 861.426 Q61.7876 861.426 60.7893 860.428 Q59.7587 859.429 59.7587 857.916 Q59.7587 856.466 60.7248 855.5 Q61.6588 854.502 63.2047 854.502 Q64.7184 854.502 65.7167 855.565 Q66.6829 856.595 66.6829 857.916 Q66.6829 859.429 65.6201 860.428 Z\" fill=\"#000000\" fill-rule=\"nonzero\" fill-opacity=\"1\" /><path clip-path=\"url(#clip240)\" d=\"M45.5881 843.276 Q35.8941 843.276 30.6124 840.828 Q22.7541 837.414 22.7541 829.363 Q22.7541 827.656 23.2372 825.885 Q23.6881 824.081 25.4594 821.827 Q27.2307 819.54 30.1293 818.155 Q35.7331 815.515 45.5881 815.515 Q55.2176 815.515 60.4672 817.962 Q68.1322 821.537 68.1322 829.427 Q68.1322 832.39 66.6185 835.418 Q65.1048 838.413 61.4656 840.313 Q56.0228 843.276 45.5881 843.276 M44.7829 837.801 Q54.7345 837.801 58.6959 837.092 Q62.9792 836.287 64.8472 834.097 Q66.6829 831.875 66.6829 829.427 Q66.6829 826.787 64.7184 824.597 Q62.7216 822.374 58.4382 821.698 Q54.2193 820.957 44.7829 820.99 Q35.6043 820.99 31.9328 821.634 Q27.6494 822.503 25.9425 824.822 Q24.2034 827.109 24.2034 829.427 Q24.2034 830.297 24.461 831.231 Q24.7187 832.133 25.4594 833.453 Q26.2002 834.774 28.0359 835.804 Q29.8716 836.803 32.6413 837.286 Q36.2162 837.801 44.7829 837.801 Z\" fill=\"#000000\" fill-rule=\"nonzero\" fill-opacity=\"1\" /><path clip-path=\"url(#clip240)\" d=\"M65.6201 809.678 Q64.5573 810.612 63.1725 810.612 Q61.7876 810.612 60.757 809.71 Q59.6943 808.776 59.6943 807.101 Q59.6943 805.137 61.5944 804.01 Q63.4623 802.882 66.6185 802.882 Q70.0323 802.882 73.1885 804.267 Q76.3769 805.652 77.8906 807.005 Q79.4042 808.357 79.4042 808.905 Q79.4042 809.549 78.6957 809.549 Q78.4381 809.549 77.955 809.098 Q72.8664 804.364 66.6185 804.332 Q65.6201 804.332 65.6201 804.461 L65.749 804.622 Q66.6829 805.749 66.6829 807.101 Q66.6829 808.744 65.6201 809.678 Z\" fill=\"#000000\" fill-rule=\"nonzero\" fill-opacity=\"1\" /><path clip-path=\"url(#clip240)\" d=\"M38.1807 754.112 Q38.4062 754.112 39.3724 754.66 Q40.3063 755.175 42.6574 757.075 Q45.0084 758.975 47.7459 761.809 Q48.8087 762.872 50.2901 764.482 Q51.7716 766.093 52.7378 767.188 L53.704 768.283 Q57.2466 772.469 61.2079 776.141 Q61.1113 775.883 61.0791 775.432 Q61.0147 774.982 61.0147 774.659 L61.0147 774.337 Q61.0147 772.663 62.1419 769.732 Q62.9792 767.156 62.9792 765.835 Q62.9792 764.547 62.5284 763.13 Q62.0775 761.713 60.757 760.167 Q59.4366 758.621 57.4398 757.912 Q57.1178 757.784 57.0212 757.719 Q56.8923 757.655 56.7635 757.462 Q56.6025 757.268 56.6025 757.011 Q56.6025 756.656 56.7957 756.431 Q56.989 756.206 57.2466 756.206 Q57.8263 756.206 58.9857 756.656 Q60.1451 757.075 61.5944 758.009 Q63.0437 758.911 64.3641 760.102 Q65.6523 761.262 66.5541 763.001 Q67.4237 764.74 67.4237 766.576 Q67.4237 767.896 66.7795 768.862 Q66.1676 769.829 64.976 770.795 Q63.4623 772.115 62.9792 772.824 Q62.464 773.532 62.464 774.627 Q62.464 777.558 66.5541 780.231 Q67.1338 780.521 67.2626 780.714 Q67.4237 780.875 67.4237 781.262 Q67.3915 782.067 66.7473 782.067 Q66.4897 782.067 65.3625 781.358 Q64.2031 780.618 62.1741 778.975 Q60.1451 777.3 58.1162 775.271 L52.5768 769.346 Q47.0373 762.776 43.9134 760.167 Q43.9134 761.262 43.8812 761.745 Q43.849 762.196 43.6557 763.098 Q43.4303 763.999 42.9472 765.255 Q41.9488 768.186 41.9488 769.41 Q41.9488 769.732 41.981 770.086 Q42.0132 770.441 42.1743 771.246 Q42.3353 772.019 42.6574 772.663 Q42.9472 773.307 43.5913 773.983 Q44.2032 774.659 45.0406 775.014 Q45.2982 775.11 45.4271 775.175 Q45.5559 775.239 45.6847 775.432 Q45.7813 775.593 45.7813 775.851 Q45.7813 776.238 45.5559 776.463 Q45.3304 776.656 45.0406 776.656 Q44.4609 776.656 43.2693 776.077 Q42.0776 775.497 40.7894 774.531 Q39.469 773.564 38.5028 771.986 Q37.5366 770.408 37.5366 768.669 Q37.5366 767.639 37.9875 766.769 Q38.4384 765.867 38.9215 765.416 Q39.3724 764.933 40.3707 764.128 Q41.1437 763.452 41.4657 763.13 Q41.7878 762.808 42.1421 762.164 Q42.4641 761.487 42.4641 760.747 Q42.4641 759.523 41.5301 758.396 Q40.564 757.268 38.2451 755.819 Q37.5366 755.433 37.5366 754.821 Q37.5366 754.112 38.1807 754.112 Z\" fill=\"#000000\" fill-rule=\"nonzero\" fill-opacity=\"1\" /><path clip-path=\"url(#clip240)\" d=\"M65.6201 750.765 Q64.5573 751.699 63.1725 751.699 Q61.7876 751.699 60.757 750.798 Q59.6943 749.864 59.6943 748.189 Q59.6943 746.224 61.5944 745.097 Q63.4623 743.97 66.6185 743.97 Q70.0323 743.97 73.1885 745.355 Q76.3769 746.74 77.8906 748.092 Q79.4042 749.445 79.4042 749.993 Q79.4042 750.637 78.6957 750.637 Q78.4381 750.637 77.955 750.186 Q72.8664 745.452 66.6185 745.419 Q65.6201 745.419 65.6201 745.548 L65.749 745.709 Q66.6829 746.836 66.6829 748.189 Q66.6829 749.832 65.6201 750.765 Z\" fill=\"#000000\" fill-rule=\"nonzero\" fill-opacity=\"1\" /><path clip-path=\"url(#clip240)\" d=\"M38.1807 695.2 Q38.4062 695.2 39.3724 695.747 Q40.3063 696.262 42.6574 698.163 Q45.0084 700.063 47.7459 702.897 Q48.8087 703.96 50.2901 705.57 Q51.7716 707.18 52.7378 708.275 L53.704 709.37 Q57.2466 713.557 61.2079 717.228 Q61.1113 716.971 61.0791 716.52 Q61.0147 716.069 61.0147 715.747 L61.0147 715.425 Q61.0147 713.75 62.1419 710.82 Q62.9792 708.243 62.9792 706.923 Q62.9792 705.634 62.5284 704.217 Q62.0775 702.8 60.757 701.254 Q59.4366 699.709 57.4398 699 Q57.1178 698.871 57.0212 698.807 Q56.8923 698.742 56.7635 698.549 Q56.6025 698.356 56.6025 698.098 Q56.6025 697.744 56.7957 697.519 Q56.989 697.293 57.2466 697.293 Q57.8263 697.293 58.9857 697.744 Q60.1451 698.163 61.5944 699.097 Q63.0437 699.998 64.3641 701.19 Q65.6523 702.349 66.5541 704.089 Q67.4237 705.828 67.4237 707.663 Q67.4237 708.984 66.7795 709.95 Q66.1676 710.916 64.976 711.882 Q63.4623 713.203 62.9792 713.911 Q62.464 714.62 62.464 715.715 Q62.464 718.646 66.5541 721.319 Q67.1338 721.608 67.2626 721.802 Q67.4237 721.963 67.4237 722.349 Q67.3915 723.154 66.7473 723.154 Q66.4897 723.154 65.3625 722.446 Q64.2031 721.705 62.1741 720.063 Q60.1451 718.388 58.1162 716.359 L52.5768 710.433 Q47.0373 703.863 43.9134 701.254 Q43.9134 702.349 43.8812 702.832 Q43.849 703.283 43.6557 704.185 Q43.4303 705.087 42.9472 706.343 Q41.9488 709.274 41.9488 710.497 Q41.9488 710.82 41.981 711.174 Q42.0132 711.528 42.1743 712.333 Q42.3353 713.106 42.6574 713.75 Q42.9472 714.394 43.5913 715.071 Q44.2032 715.747 45.0406 716.101 Q45.2982 716.198 45.4271 716.262 Q45.5559 716.327 45.6847 716.52 Q45.7813 716.681 45.7813 716.939 Q45.7813 717.325 45.5559 717.551 Q45.3304 717.744 45.0406 717.744 Q44.4609 717.744 43.2693 717.164 Q42.0776 716.584 40.7894 715.618 Q39.469 714.652 38.5028 713.074 Q37.5366 711.496 37.5366 709.757 Q37.5366 708.726 37.9875 707.857 Q38.4384 706.955 38.9215 706.504 Q39.3724 706.021 40.3707 705.216 Q41.1437 704.539 41.4657 704.217 Q41.7878 703.895 42.1421 703.251 Q42.4641 702.575 42.4641 701.834 Q42.4641 700.61 41.5301 699.483 Q40.564 698.356 38.2451 696.907 Q37.5366 696.52 37.5366 695.908 Q37.5366 695.2 38.1807 695.2 Z\" fill=\"#000000\" fill-rule=\"nonzero\" fill-opacity=\"1\" /><path clip-path=\"url(#clip240)\" d=\"M46.9462 688.427 Q46.1121 688.427 45.8641 688.359 Q45.6161 688.269 45.2329 687.908 L35.3585 679.049 Q29.9029 674.202 25.1461 674.202 Q22.0575 674.202 19.8482 675.825 Q17.6389 677.425 17.6389 680.379 Q17.6389 682.408 18.8788 684.121 Q20.1187 685.834 22.328 686.623 Q22.283 686.488 22.283 686.015 Q22.283 684.865 23.0044 684.234 Q23.7258 683.58 24.6952 683.58 Q25.9351 683.58 26.5438 684.391 Q27.1299 685.181 27.1299 685.97 Q27.1299 686.285 27.0623 686.714 Q26.9947 687.119 26.3634 687.773 Q25.7097 688.427 24.5599 688.427 Q21.3361 688.427 18.7661 685.992 Q16.196 683.535 16.196 679.792 Q16.196 675.554 18.721 672.781 Q21.2234 669.986 25.1461 669.986 Q26.5212 669.986 27.7837 670.414 Q29.0236 670.82 29.993 671.384 Q30.9624 671.925 32.518 673.412 Q34.0735 674.9 35.1782 676.095 Q36.2828 677.29 38.6274 679.973 L43.3842 684.865 L43.3842 676.546 Q43.3842 672.488 43.0235 672.173 Q42.3698 671.722 38.9205 671.158 L38.9205 669.986 L46.9462 671.293 L46.9462 688.427 Z\" fill=\"#000000\" fill-rule=\"nonzero\" fill-opacity=\"1\" /><path clip-path=\"url(#clip240)\" d=\"M81.6586 663.132 L81.6586 657.593 L18.7284 657.593 L18.7284 663.132 L17.2147 663.132 L17.2147 653.181 L83.1723 653.181 L83.1723 663.132 L81.6586 663.132 Z\" fill=\"#000000\" fill-rule=\"nonzero\" fill-opacity=\"1\" /><path clip-path=\"url(#clip240)\" d=\"M82.5282 642.87 Q82.2061 642.87 81.401 642.033 Q70.5798 631.405 50.1935 631.405 Q29.7428 631.405 19.4047 641.614 Q18.2131 642.87 17.8588 642.87 Q17.2147 642.87 17.2147 642.226 Q17.2147 641.775 18.5352 640.197 Q19.8556 638.587 22.883 636.171 Q25.9103 633.723 29.614 631.92 Q38.5994 627.572 50.1935 627.572 Q61.3368 627.572 70.3222 631.727 Q74.0903 633.498 77.2464 635.978 Q80.4026 638.458 81.7875 640.1 Q83.1723 641.743 83.1723 642.226 Q83.1723 642.87 82.5282 642.87 Z\" fill=\"#000000\" fill-rule=\"nonzero\" fill-opacity=\"1\" /><path clip-path=\"url(#clip240)\" d=\"M50.9987 597.726 Q50.9987 599.24 50.1935 599.24 Q49.3884 599.24 49.3884 597.662 Q49.3884 597.469 49.4206 597.147 Q49.4528 596.792 49.4528 596.728 L49.4528 578.145 L30.8056 578.145 Q30.7412 578.145 30.4513 578.177 Q30.1293 578.209 29.936 578.209 Q28.3579 578.209 28.3579 577.437 Q28.3579 576.631 29.936 576.631 L49.4528 576.631 L49.4528 558.016 Q49.4528 557.952 49.4206 557.63 Q49.3884 557.308 49.3884 557.115 Q49.3884 555.601 50.1935 555.601 Q50.9987 555.569 50.9987 557.179 Q50.9987 557.372 50.9665 557.662 Q50.9343 557.952 50.9343 558.016 L50.9343 576.631 L70.5154 576.631 Q72.0291 576.631 72.0291 577.437 Q72.0291 578.209 70.451 578.209 Q70.2578 578.209 69.9357 578.177 Q69.6459 578.145 69.5815 578.145 L50.9343 578.145 L50.9343 596.728 Q50.9343 596.792 50.9665 597.179 Q50.9987 597.533 50.9987 597.726 Z\" fill=\"#000000\" fill-rule=\"nonzero\" fill-opacity=\"1\" /><path clip-path=\"url(#clip240)\" d=\"M40.564 503.521 Q41.2403 503.521 41.7878 504.101 Q42.3353 504.648 42.3353 505.324 Q42.3353 505.711 41.6912 506.645 Q39.8232 509.318 39.8232 512.7 Q39.8232 515.727 40.564 518.529 Q41.3047 521.331 42.8184 523.231 Q44.2998 525.099 46.2322 525.099 Q48.6476 525.099 50.0647 522.458 Q48.8087 519.721 48.8087 516.339 Q48.8087 515.244 48.8731 514.503 Q48.9375 513.73 49.0985 512.989 Q49.2596 512.249 49.646 511.894 Q50.0003 511.508 50.58 511.508 Q52.6412 511.508 52.6412 516.854 Q52.6412 520.332 51.7072 522.522 Q53.092 525.324 55.3143 526.87 Q57.5365 528.416 59.4366 528.416 Q61.0791 528.416 62.2707 527.514 Q63.4623 526.58 64.042 525.067 Q64.6217 523.521 64.8794 522.007 Q65.1048 520.461 65.1048 518.754 Q65.1048 515.952 64.7506 513.988 Q64.3641 511.991 63.6556 510.896 Q62.947 509.769 62.464 509.318 Q61.9487 508.835 61.1435 508.352 Q60.6926 508.062 60.6926 507.676 Q60.6926 507.386 60.8859 507.192 Q61.0469 506.967 61.3368 506.967 Q61.691 506.967 62.4317 507.418 Q63.1725 507.837 64.1709 508.867 Q65.137 509.866 66.0388 511.25 Q66.9084 512.603 67.5203 514.761 Q68.1322 516.919 68.1322 519.366 Q68.1322 524.358 65.6845 527.257 Q63.2369 530.123 59.8231 530.123 Q57.4398 530.123 54.9922 528.545 Q52.5123 526.935 50.9343 524.101 Q48.9697 526.741 46.2322 526.741 Q43.7846 526.741 41.5946 524.68 Q39.4046 522.587 38.1163 519.205 Q36.7959 515.791 36.7959 512.056 Q36.7959 509.962 37.5044 507.901 Q38.1807 505.84 39.0503 504.68 Q39.9199 503.521 40.564 503.521 M50.6444 513.215 Q50.2579 514.632 50.2579 516.339 Q50.2579 518.658 50.8376 520.365 Q51.1919 518.98 51.1919 516.854 Q51.1919 515.083 51.0953 514.568 Q50.9987 514.02 50.6444 513.215 Z\" fill=\"#000000\" fill-rule=\"nonzero\" fill-opacity=\"1\" /><circle clip-path=\"url(#clip242)\" cx=\"265.903\" cy=\"1384.24\" r=\"14.4\" fill=\"#009af9\" fill-rule=\"evenodd\" fill-opacity=\"1\" stroke=\"#000000\" stroke-opacity=\"1\" stroke-width=\"3.2\"/>\n",
       "<circle clip-path=\"url(#clip242)\" cx=\"1019.82\" cy=\"1083.9\" r=\"14.4\" fill=\"#009af9\" fill-rule=\"evenodd\" fill-opacity=\"1\" stroke=\"#000000\" stroke-opacity=\"1\" stroke-width=\"3.2\"/>\n",
       "<circle clip-path=\"url(#clip242)\" cx=\"2245.25\" cy=\"128.861\" r=\"14.4\" fill=\"#009af9\" fill-rule=\"evenodd\" fill-opacity=\"1\" stroke=\"#000000\" stroke-opacity=\"1\" stroke-width=\"3.2\"/>\n",
       "<circle clip-path=\"url(#clip242)\" cx=\"491.039\" cy=\"1277.77\" r=\"14.4\" fill=\"#009af9\" fill-rule=\"evenodd\" fill-opacity=\"1\" stroke=\"#000000\" stroke-opacity=\"1\" stroke-width=\"3.2\"/>\n",
       "<circle clip-path=\"url(#clip242)\" cx=\"1362.3\" cy=\"917.538\" r=\"14.4\" fill=\"#009af9\" fill-rule=\"evenodd\" fill-opacity=\"1\" stroke=\"#000000\" stroke-opacity=\"1\" stroke-width=\"3.2\"/>\n",
       "<circle clip-path=\"url(#clip242)\" cx=\"355.762\" cy=\"1297.21\" r=\"14.4\" fill=\"#009af9\" fill-rule=\"evenodd\" fill-opacity=\"1\" stroke=\"#000000\" stroke-opacity=\"1\" stroke-width=\"3.2\"/>\n",
       "<circle clip-path=\"url(#clip242)\" cx=\"584.597\" cy=\"1272.62\" r=\"14.4\" fill=\"#009af9\" fill-rule=\"evenodd\" fill-opacity=\"1\" stroke=\"#000000\" stroke-opacity=\"1\" stroke-width=\"3.2\"/>\n",
       "<circle clip-path=\"url(#clip242)\" cx=\"1429.75\" cy=\"852.241\" r=\"14.4\" fill=\"#009af9\" fill-rule=\"evenodd\" fill-opacity=\"1\" stroke=\"#000000\" stroke-opacity=\"1\" stroke-width=\"3.2\"/>\n",
       "<circle clip-path=\"url(#clip242)\" cx=\"538.578\" cy=\"1318.11\" r=\"14.4\" fill=\"#009af9\" fill-rule=\"evenodd\" fill-opacity=\"1\" stroke=\"#000000\" stroke-opacity=\"1\" stroke-width=\"3.2\"/>\n",
       "<circle clip-path=\"url(#clip242)\" cx=\"842.501\" cy=\"1197.39\" r=\"14.4\" fill=\"#009af9\" fill-rule=\"evenodd\" fill-opacity=\"1\" stroke=\"#000000\" stroke-opacity=\"1\" stroke-width=\"3.2\"/>\n",
       "<circle clip-path=\"url(#clip242)\" cx=\"493.639\" cy=\"1322.76\" r=\"14.4\" fill=\"#009af9\" fill-rule=\"evenodd\" fill-opacity=\"1\" stroke=\"#000000\" stroke-opacity=\"1\" stroke-width=\"3.2\"/>\n",
       "<circle clip-path=\"url(#clip242)\" cx=\"1949.87\" cy=\"398.413\" r=\"14.4\" fill=\"#009af9\" fill-rule=\"evenodd\" fill-opacity=\"1\" stroke=\"#000000\" stroke-opacity=\"1\" stroke-width=\"3.2\"/>\n",
       "<circle clip-path=\"url(#clip242)\" cx=\"2267.7\" cy=\"86.1857\" r=\"14.4\" fill=\"#009af9\" fill-rule=\"evenodd\" fill-opacity=\"1\" stroke=\"#000000\" stroke-opacity=\"1\" stroke-width=\"3.2\"/>\n",
       "<circle clip-path=\"url(#clip242)\" cx=\"1619\" cy=\"592.152\" r=\"14.4\" fill=\"#009af9\" fill-rule=\"evenodd\" fill-opacity=\"1\" stroke=\"#000000\" stroke-opacity=\"1\" stroke-width=\"3.2\"/>\n",
       "<circle clip-path=\"url(#clip242)\" cx=\"788.194\" cy=\"1152.64\" r=\"14.4\" fill=\"#009af9\" fill-rule=\"evenodd\" fill-opacity=\"1\" stroke=\"#000000\" stroke-opacity=\"1\" stroke-width=\"3.2\"/>\n",
       "<circle clip-path=\"url(#clip242)\" cx=\"1075.41\" cy=\"1067.07\" r=\"14.4\" fill=\"#009af9\" fill-rule=\"evenodd\" fill-opacity=\"1\" stroke=\"#000000\" stroke-opacity=\"1\" stroke-width=\"3.2\"/>\n",
       "<circle clip-path=\"url(#clip242)\" cx=\"1729.8\" cy=\"559.914\" r=\"14.4\" fill=\"#009af9\" fill-rule=\"evenodd\" fill-opacity=\"1\" stroke=\"#000000\" stroke-opacity=\"1\" stroke-width=\"3.2\"/>\n",
       "<circle clip-path=\"url(#clip242)\" cx=\"1012.48\" cy=\"1109.97\" r=\"14.4\" fill=\"#009af9\" fill-rule=\"evenodd\" fill-opacity=\"1\" stroke=\"#000000\" stroke-opacity=\"1\" stroke-width=\"3.2\"/>\n",
       "<circle clip-path=\"url(#clip242)\" cx=\"549.518\" cy=\"1296.18\" r=\"14.4\" fill=\"#009af9\" fill-rule=\"evenodd\" fill-opacity=\"1\" stroke=\"#000000\" stroke-opacity=\"1\" stroke-width=\"3.2\"/>\n",
       "<circle clip-path=\"url(#clip242)\" cx=\"1253.95\" cy=\"917.317\" r=\"14.4\" fill=\"#009af9\" fill-rule=\"evenodd\" fill-opacity=\"1\" stroke=\"#000000\" stroke-opacity=\"1\" stroke-width=\"3.2\"/>\n",
       "<circle clip-path=\"url(#clip242)\" cx=\"2127.81\" cy=\"232.48\" r=\"14.4\" fill=\"#009af9\" fill-rule=\"evenodd\" fill-opacity=\"1\" stroke=\"#000000\" stroke-opacity=\"1\" stroke-width=\"3.2\"/>\n",
       "<circle clip-path=\"url(#clip242)\" cx=\"2114.83\" cy=\"235.279\" r=\"14.4\" fill=\"#009af9\" fill-rule=\"evenodd\" fill-opacity=\"1\" stroke=\"#000000\" stroke-opacity=\"1\" stroke-width=\"3.2\"/>\n",
       "<circle clip-path=\"url(#clip242)\" cx=\"2230.06\" cy=\"201.658\" r=\"14.4\" fill=\"#009af9\" fill-rule=\"evenodd\" fill-opacity=\"1\" stroke=\"#000000\" stroke-opacity=\"1\" stroke-width=\"3.2\"/>\n",
       "<circle clip-path=\"url(#clip242)\" cx=\"2291.97\" cy=\"107.977\" r=\"14.4\" fill=\"#009af9\" fill-rule=\"evenodd\" fill-opacity=\"1\" stroke=\"#000000\" stroke-opacity=\"1\" stroke-width=\"3.2\"/>\n",
       "<circle clip-path=\"url(#clip242)\" cx=\"406.215\" cy=\"1346\" r=\"14.4\" fill=\"#009af9\" fill-rule=\"evenodd\" fill-opacity=\"1\" stroke=\"#000000\" stroke-opacity=\"1\" stroke-width=\"3.2\"/>\n",
       "<circle clip-path=\"url(#clip242)\" cx=\"2125.98\" cy=\"258.362\" r=\"14.4\" fill=\"#009af9\" fill-rule=\"evenodd\" fill-opacity=\"1\" stroke=\"#000000\" stroke-opacity=\"1\" stroke-width=\"3.2\"/>\n",
       "<circle clip-path=\"url(#clip242)\" cx=\"2029.04\" cy=\"337.521\" r=\"14.4\" fill=\"#009af9\" fill-rule=\"evenodd\" fill-opacity=\"1\" stroke=\"#000000\" stroke-opacity=\"1\" stroke-width=\"3.2\"/>\n",
       "<circle clip-path=\"url(#clip242)\" cx=\"745.778\" cy=\"1246.29\" r=\"14.4\" fill=\"#009af9\" fill-rule=\"evenodd\" fill-opacity=\"1\" stroke=\"#000000\" stroke-opacity=\"1\" stroke-width=\"3.2\"/>\n",
       "<circle clip-path=\"url(#clip242)\" cx=\"1126.37\" cy=\"1008.09\" r=\"14.4\" fill=\"#009af9\" fill-rule=\"evenodd\" fill-opacity=\"1\" stroke=\"#000000\" stroke-opacity=\"1\" stroke-width=\"3.2\"/>\n",
       "<circle clip-path=\"url(#clip242)\" cx=\"311.991\" cy=\"1357.15\" r=\"14.4\" fill=\"#009af9\" fill-rule=\"evenodd\" fill-opacity=\"1\" stroke=\"#000000\" stroke-opacity=\"1\" stroke-width=\"3.2\"/>\n",
       "<path clip-path=\"url(#clip240)\" d=\"M276.709 196.789 L591.333 196.789 L591.333 93.1086 L276.709 93.1086  Z\" fill=\"#ffffff\" fill-rule=\"evenodd\" fill-opacity=\"1\"/>\n",
       "<polyline clip-path=\"url(#clip240)\" style=\"stroke:#000000; stroke-linecap:round; stroke-linejoin:round; stroke-width:4; stroke-opacity:1; fill:none\" points=\"276.709,196.789 591.333,196.789 591.333,93.1086 276.709,93.1086 276.709,196.789 \"/>\n",
       "<circle clip-path=\"url(#clip240)\" cx=\"372.159\" cy=\"144.949\" r=\"20.48\" fill=\"#009af9\" fill-rule=\"evenodd\" fill-opacity=\"1\" stroke=\"#000000\" stroke-opacity=\"1\" stroke-width=\"4.55111\"/>\n",
       "<path clip-path=\"url(#clip240)\" d=\"M486.522 140.238 L486.522 126.21 L490.781 126.21 L490.781 162.229 L486.522 162.229 L486.522 158.34 Q485.179 160.655 483.119 161.789 Q481.082 162.9 478.211 162.9 Q473.512 162.9 470.549 159.15 Q467.61 155.4 467.61 149.289 Q467.61 143.178 470.549 139.428 Q473.512 135.678 478.211 135.678 Q481.082 135.678 483.119 136.812 Q485.179 137.923 486.522 140.238 M472.008 149.289 Q472.008 153.988 473.929 156.673 Q475.874 159.335 479.253 159.335 Q482.633 159.335 484.577 156.673 Q486.522 153.988 486.522 149.289 Q486.522 144.59 484.577 141.928 Q482.633 139.243 479.253 139.243 Q475.874 139.243 473.929 141.928 Q472.008 144.59 472.008 149.289 Z\" fill=\"#000000\" fill-rule=\"nonzero\" fill-opacity=\"1\" /><path clip-path=\"url(#clip240)\" d=\"M511.336 149.196 Q506.174 149.196 504.184 150.377 Q502.193 151.557 502.193 154.405 Q502.193 156.673 503.674 158.016 Q505.179 159.335 507.748 159.335 Q511.29 159.335 513.42 156.835 Q515.572 154.312 515.572 150.145 L515.572 149.196 L511.336 149.196 M519.832 147.437 L519.832 162.229 L515.572 162.229 L515.572 158.293 Q514.114 160.655 511.938 161.789 Q509.762 162.9 506.614 162.9 Q502.633 162.9 500.272 160.678 Q497.934 158.432 497.934 154.682 Q497.934 150.307 500.85 148.085 Q503.79 145.863 509.6 145.863 L515.572 145.863 L515.572 145.446 Q515.572 142.507 513.628 140.909 Q511.707 139.289 508.211 139.289 Q505.989 139.289 503.883 139.821 Q501.776 140.354 499.832 141.419 L499.832 137.483 Q502.17 136.581 504.369 136.141 Q506.568 135.678 508.651 135.678 Q514.276 135.678 517.054 138.594 Q519.832 141.511 519.832 147.437 Z\" fill=\"#000000\" fill-rule=\"nonzero\" fill-opacity=\"1\" /><path clip-path=\"url(#clip240)\" d=\"M532.818 128.942 L532.818 136.303 L541.591 136.303 L541.591 139.613 L532.818 139.613 L532.818 153.687 Q532.818 156.858 533.674 157.761 Q534.554 158.664 537.216 158.664 L541.591 158.664 L541.591 162.229 L537.216 162.229 Q532.285 162.229 530.41 160.4 Q528.535 158.548 528.535 153.687 L528.535 139.613 L525.41 139.613 L525.41 136.303 L528.535 136.303 L528.535 128.942 L532.818 128.942 Z\" fill=\"#000000\" fill-rule=\"nonzero\" fill-opacity=\"1\" /><path clip-path=\"url(#clip240)\" d=\"M558.975 149.196 Q553.813 149.196 551.822 150.377 Q549.831 151.557 549.831 154.405 Q549.831 156.673 551.313 158.016 Q552.818 159.335 555.387 159.335 Q558.929 159.335 561.058 156.835 Q563.211 154.312 563.211 150.145 L563.211 149.196 L558.975 149.196 M567.47 147.437 L567.47 162.229 L563.211 162.229 L563.211 158.293 Q561.753 160.655 559.577 161.789 Q557.401 162.9 554.253 162.9 Q550.271 162.9 547.91 160.678 Q545.572 158.432 545.572 154.682 Q545.572 150.307 548.489 148.085 Q551.429 145.863 557.239 145.863 L563.211 145.863 L563.211 145.446 Q563.211 142.507 561.267 140.909 Q559.345 139.289 555.85 139.289 Q553.628 139.289 551.521 139.821 Q549.415 140.354 547.47 141.419 L547.47 137.483 Q549.808 136.581 552.007 136.141 Q554.206 135.678 556.29 135.678 Q561.915 135.678 564.693 138.594 Q567.47 141.511 567.47 147.437 Z\" fill=\"#000000\" fill-rule=\"nonzero\" fill-opacity=\"1\" /></svg>\n"
      ],
      "text/html": [
       "<?xml version=\"1.0\" encoding=\"utf-8\"?>\n",
       "<svg xmlns=\"http://www.w3.org/2000/svg\" xmlns:xlink=\"http://www.w3.org/1999/xlink\" width=\"600\" height=\"400\" viewBox=\"0 0 2400 1600\">\n",
       "<defs>\n",
       "  <clipPath id=\"clip290\">\n",
       "    <rect x=\"0\" y=\"0\" width=\"2400\" height=\"1600\"/>\n",
       "  </clipPath>\n",
       "</defs>\n",
       "<path clip-path=\"url(#clip290)\" d=\"M0 1600 L2400 1600 L2400 0 L0 0  Z\" fill=\"#ffffff\" fill-rule=\"evenodd\" fill-opacity=\"1\"/>\n",
       "<defs>\n",
       "  <clipPath id=\"clip291\">\n",
       "    <rect x=\"480\" y=\"0\" width=\"1681\" height=\"1600\"/>\n",
       "  </clipPath>\n",
       "</defs>\n",
       "<path clip-path=\"url(#clip290)\" d=\"M205.121 1423.18 L2352.76 1423.18 L2352.76 47.2441 L205.121 47.2441  Z\" fill=\"#ffffff\" fill-rule=\"evenodd\" fill-opacity=\"1\"/>\n",
       "<defs>\n",
       "  <clipPath id=\"clip292\">\n",
       "    <rect x=\"205\" y=\"47\" width=\"2149\" height=\"1377\"/>\n",
       "  </clipPath>\n",
       "</defs>\n",
       "<polyline clip-path=\"url(#clip292)\" style=\"stroke:#000000; stroke-linecap:round; stroke-linejoin:round; stroke-width:2; stroke-opacity:0.1; fill:none\" points=\"251.25,1423.18 251.25,47.2441 \"/>\n",
       "<polyline clip-path=\"url(#clip292)\" style=\"stroke:#000000; stroke-linecap:round; stroke-linejoin:round; stroke-width:2; stroke-opacity:0.1; fill:none\" points=\"769.158,1423.18 769.158,47.2441 \"/>\n",
       "<polyline clip-path=\"url(#clip292)\" style=\"stroke:#000000; stroke-linecap:round; stroke-linejoin:round; stroke-width:2; stroke-opacity:0.1; fill:none\" points=\"1287.07,1423.18 1287.07,47.2441 \"/>\n",
       "<polyline clip-path=\"url(#clip292)\" style=\"stroke:#000000; stroke-linecap:round; stroke-linejoin:round; stroke-width:2; stroke-opacity:0.1; fill:none\" points=\"1804.97,1423.18 1804.97,47.2441 \"/>\n",
       "<polyline clip-path=\"url(#clip292)\" style=\"stroke:#000000; stroke-linecap:round; stroke-linejoin:round; stroke-width:2; stroke-opacity:0.1; fill:none\" points=\"2322.88,1423.18 2322.88,47.2441 \"/>\n",
       "<polyline clip-path=\"url(#clip290)\" style=\"stroke:#000000; stroke-linecap:round; stroke-linejoin:round; stroke-width:4; stroke-opacity:1; fill:none\" points=\"205.121,1423.18 2352.76,1423.18 \"/>\n",
       "<polyline clip-path=\"url(#clip290)\" style=\"stroke:#000000; stroke-linecap:round; stroke-linejoin:round; stroke-width:4; stroke-opacity:1; fill:none\" points=\"251.25,1423.18 251.25,1404.28 \"/>\n",
       "<polyline clip-path=\"url(#clip290)\" style=\"stroke:#000000; stroke-linecap:round; stroke-linejoin:round; stroke-width:4; stroke-opacity:1; fill:none\" points=\"769.158,1423.18 769.158,1404.28 \"/>\n",
       "<polyline clip-path=\"url(#clip290)\" style=\"stroke:#000000; stroke-linecap:round; stroke-linejoin:round; stroke-width:4; stroke-opacity:1; fill:none\" points=\"1287.07,1423.18 1287.07,1404.28 \"/>\n",
       "<polyline clip-path=\"url(#clip290)\" style=\"stroke:#000000; stroke-linecap:round; stroke-linejoin:round; stroke-width:4; stroke-opacity:1; fill:none\" points=\"1804.97,1423.18 1804.97,1404.28 \"/>\n",
       "<polyline clip-path=\"url(#clip290)\" style=\"stroke:#000000; stroke-linecap:round; stroke-linejoin:round; stroke-width:4; stroke-opacity:1; fill:none\" points=\"2322.88,1423.18 2322.88,1404.28 \"/>\n",
       "<path clip-path=\"url(#clip290)\" d=\"M228.634 1454.1 Q225.023 1454.1 223.194 1457.66 Q221.389 1461.2 221.389 1468.33 Q221.389 1475.44 223.194 1479.01 Q225.023 1482.55 228.634 1482.55 Q232.268 1482.55 234.074 1479.01 Q235.903 1475.44 235.903 1468.33 Q235.903 1461.2 234.074 1457.66 Q232.268 1454.1 228.634 1454.1 M228.634 1450.39 Q234.444 1450.39 237.5 1455 Q240.578 1459.58 240.578 1468.33 Q240.578 1477.06 237.5 1481.67 Q234.444 1486.25 228.634 1486.25 Q222.824 1486.25 219.745 1481.67 Q216.69 1477.06 216.69 1468.33 Q216.69 1459.58 219.745 1455 Q222.824 1450.39 228.634 1450.39 Z\" fill=\"#000000\" fill-rule=\"nonzero\" fill-opacity=\"1\" /><path clip-path=\"url(#clip290)\" d=\"M248.796 1479.7 L253.68 1479.7 L253.68 1485.58 L248.796 1485.58 L248.796 1479.7 Z\" fill=\"#000000\" fill-rule=\"nonzero\" fill-opacity=\"1\" /><path clip-path=\"url(#clip290)\" d=\"M273.865 1454.1 Q270.254 1454.1 268.426 1457.66 Q266.62 1461.2 266.62 1468.33 Q266.62 1475.44 268.426 1479.01 Q270.254 1482.55 273.865 1482.55 Q277.5 1482.55 279.305 1479.01 Q281.134 1475.44 281.134 1468.33 Q281.134 1461.2 279.305 1457.66 Q277.5 1454.1 273.865 1454.1 M273.865 1450.39 Q279.675 1450.39 282.731 1455 Q285.81 1459.58 285.81 1468.33 Q285.81 1477.06 282.731 1481.67 Q279.675 1486.25 273.865 1486.25 Q268.055 1486.25 264.976 1481.67 Q261.921 1477.06 261.921 1468.33 Q261.921 1459.58 264.976 1455 Q268.055 1450.39 273.865 1450.39 Z\" fill=\"#000000\" fill-rule=\"nonzero\" fill-opacity=\"1\" /><path clip-path=\"url(#clip290)\" d=\"M740.894 1481.64 L757.214 1481.64 L757.214 1485.58 L735.269 1485.58 L735.269 1481.64 Q737.931 1478.89 742.515 1474.26 Q747.121 1469.61 748.302 1468.27 Q750.547 1465.74 751.427 1464.01 Q752.329 1462.25 752.329 1460.56 Q752.329 1457.8 750.385 1456.07 Q748.464 1454.33 745.362 1454.33 Q743.163 1454.33 740.709 1455.09 Q738.279 1455.86 735.501 1457.41 L735.501 1452.69 Q738.325 1451.55 740.779 1450.97 Q743.232 1450.39 745.269 1450.39 Q750.64 1450.39 753.834 1453.08 Q757.029 1455.77 757.029 1460.26 Q757.029 1462.39 756.218 1464.31 Q755.431 1466.2 753.325 1468.8 Q752.746 1469.47 749.644 1472.69 Q746.542 1475.88 740.894 1481.64 Z\" fill=\"#000000\" fill-rule=\"nonzero\" fill-opacity=\"1\" /><path clip-path=\"url(#clip290)\" d=\"M767.028 1479.7 L771.913 1479.7 L771.913 1485.58 L767.028 1485.58 L767.028 1479.7 Z\" fill=\"#000000\" fill-rule=\"nonzero\" fill-opacity=\"1\" /><path clip-path=\"url(#clip290)\" d=\"M782.144 1451.02 L800.501 1451.02 L800.501 1454.96 L786.427 1454.96 L786.427 1463.43 Q787.445 1463.08 788.464 1462.92 Q789.482 1462.73 790.501 1462.73 Q796.288 1462.73 799.667 1465.9 Q803.047 1469.08 803.047 1474.49 Q803.047 1480.07 799.575 1483.17 Q796.102 1486.25 789.783 1486.25 Q787.607 1486.25 785.339 1485.88 Q783.093 1485.51 780.686 1484.77 L780.686 1480.07 Q782.769 1481.2 784.991 1481.76 Q787.214 1482.32 789.69 1482.32 Q793.695 1482.32 796.033 1480.21 Q798.371 1478.1 798.371 1474.49 Q798.371 1470.88 796.033 1468.77 Q793.695 1466.67 789.69 1466.67 Q787.815 1466.67 785.94 1467.08 Q784.089 1467.5 782.144 1468.38 L782.144 1451.02 Z\" fill=\"#000000\" fill-rule=\"nonzero\" fill-opacity=\"1\" /><path clip-path=\"url(#clip290)\" d=\"M1254.23 1451.02 L1272.59 1451.02 L1272.59 1454.96 L1258.51 1454.96 L1258.51 1463.43 Q1259.53 1463.08 1260.55 1462.92 Q1261.57 1462.73 1262.59 1462.73 Q1268.37 1462.73 1271.75 1465.9 Q1275.13 1469.08 1275.13 1474.49 Q1275.13 1480.07 1271.66 1483.17 Q1268.19 1486.25 1261.87 1486.25 Q1259.69 1486.25 1257.43 1485.88 Q1255.18 1485.51 1252.77 1484.77 L1252.77 1480.07 Q1254.86 1481.2 1257.08 1481.76 Q1259.3 1482.32 1261.78 1482.32 Q1265.78 1482.32 1268.12 1480.21 Q1270.46 1478.1 1270.46 1474.49 Q1270.46 1470.88 1268.12 1468.77 Q1265.78 1466.67 1261.78 1466.67 Q1259.9 1466.67 1258.03 1467.08 Q1256.18 1467.5 1254.23 1468.38 L1254.23 1451.02 Z\" fill=\"#000000\" fill-rule=\"nonzero\" fill-opacity=\"1\" /><path clip-path=\"url(#clip290)\" d=\"M1284.35 1479.7 L1289.23 1479.7 L1289.23 1485.58 L1284.35 1485.58 L1284.35 1479.7 Z\" fill=\"#000000\" fill-rule=\"nonzero\" fill-opacity=\"1\" /><path clip-path=\"url(#clip290)\" d=\"M1309.42 1454.1 Q1305.8 1454.1 1303.98 1457.66 Q1302.17 1461.2 1302.17 1468.33 Q1302.17 1475.44 1303.98 1479.01 Q1305.8 1482.55 1309.42 1482.55 Q1313.05 1482.55 1314.86 1479.01 Q1316.68 1475.44 1316.68 1468.33 Q1316.68 1461.2 1314.86 1457.66 Q1313.05 1454.1 1309.42 1454.1 M1309.42 1450.39 Q1315.23 1450.39 1318.28 1455 Q1321.36 1459.58 1321.36 1468.33 Q1321.36 1477.06 1318.28 1481.67 Q1315.23 1486.25 1309.42 1486.25 Q1303.61 1486.25 1300.53 1481.67 Q1297.47 1477.06 1297.47 1468.33 Q1297.47 1459.58 1300.53 1455 Q1303.61 1450.39 1309.42 1450.39 Z\" fill=\"#000000\" fill-rule=\"nonzero\" fill-opacity=\"1\" /><path clip-path=\"url(#clip290)\" d=\"M1771.29 1451.02 L1793.52 1451.02 L1793.52 1453.01 L1780.97 1485.58 L1776.09 1485.58 L1787.89 1454.96 L1771.29 1454.96 L1771.29 1451.02 Z\" fill=\"#000000\" fill-rule=\"nonzero\" fill-opacity=\"1\" /><path clip-path=\"url(#clip290)\" d=\"M1802.64 1479.7 L1807.52 1479.7 L1807.52 1485.58 L1802.64 1485.58 L1802.64 1479.7 Z\" fill=\"#000000\" fill-rule=\"nonzero\" fill-opacity=\"1\" /><path clip-path=\"url(#clip290)\" d=\"M1817.75 1451.02 L1836.11 1451.02 L1836.11 1454.96 L1822.04 1454.96 L1822.04 1463.43 Q1823.05 1463.08 1824.07 1462.92 Q1825.09 1462.73 1826.11 1462.73 Q1831.9 1462.73 1835.28 1465.9 Q1838.66 1469.08 1838.66 1474.49 Q1838.66 1480.07 1835.18 1483.17 Q1831.71 1486.25 1825.39 1486.25 Q1823.22 1486.25 1820.95 1485.88 Q1818.7 1485.51 1816.29 1484.77 L1816.29 1480.07 Q1818.38 1481.2 1820.6 1481.76 Q1822.82 1482.32 1825.3 1482.32 Q1829.3 1482.32 1831.64 1480.21 Q1833.98 1478.1 1833.98 1474.49 Q1833.98 1470.88 1831.64 1468.77 Q1829.3 1466.67 1825.3 1466.67 Q1823.42 1466.67 1821.55 1467.08 Q1819.7 1467.5 1817.75 1468.38 L1817.75 1451.02 Z\" fill=\"#000000\" fill-rule=\"nonzero\" fill-opacity=\"1\" /><path clip-path=\"url(#clip290)\" d=\"M2274.96 1481.64 L2282.59 1481.64 L2282.59 1455.28 L2274.28 1456.95 L2274.28 1452.69 L2282.55 1451.02 L2287.22 1451.02 L2287.22 1481.64 L2294.86 1481.64 L2294.86 1485.58 L2274.96 1485.58 L2274.96 1481.64 Z\" fill=\"#000000\" fill-rule=\"nonzero\" fill-opacity=\"1\" /><path clip-path=\"url(#clip290)\" d=\"M2314.31 1454.1 Q2310.7 1454.1 2308.87 1457.66 Q2307.06 1461.2 2307.06 1468.33 Q2307.06 1475.44 2308.87 1479.01 Q2310.7 1482.55 2314.31 1482.55 Q2317.94 1482.55 2319.75 1479.01 Q2321.58 1475.44 2321.58 1468.33 Q2321.58 1461.2 2319.75 1457.66 Q2317.94 1454.1 2314.31 1454.1 M2314.31 1450.39 Q2320.12 1450.39 2323.17 1455 Q2326.25 1459.58 2326.25 1468.33 Q2326.25 1477.06 2323.17 1481.67 Q2320.12 1486.25 2314.31 1486.25 Q2308.5 1486.25 2305.42 1481.67 Q2302.36 1477.06 2302.36 1468.33 Q2302.36 1459.58 2305.42 1455 Q2308.5 1450.39 2314.31 1450.39 Z\" fill=\"#000000\" fill-rule=\"nonzero\" fill-opacity=\"1\" /><path clip-path=\"url(#clip290)\" d=\"M2334.47 1479.7 L2339.35 1479.7 L2339.35 1485.58 L2334.47 1485.58 L2334.47 1479.7 Z\" fill=\"#000000\" fill-rule=\"nonzero\" fill-opacity=\"1\" /><path clip-path=\"url(#clip290)\" d=\"M2359.54 1454.1 Q2355.93 1454.1 2354.1 1457.66 Q2352.29 1461.2 2352.29 1468.33 Q2352.29 1475.44 2354.1 1479.01 Q2355.93 1482.55 2359.54 1482.55 Q2363.17 1482.55 2364.98 1479.01 Q2366.81 1475.44 2366.81 1468.33 Q2366.81 1461.2 2364.98 1457.66 Q2363.17 1454.1 2359.54 1454.1 M2359.54 1450.39 Q2365.35 1450.39 2368.4 1455 Q2371.48 1459.58 2371.48 1468.33 Q2371.48 1477.06 2368.4 1481.67 Q2365.35 1486.25 2359.54 1486.25 Q2353.73 1486.25 2350.65 1481.67 Q2347.59 1477.06 2347.59 1468.33 Q2347.59 1459.58 2350.65 1455 Q2353.73 1450.39 2359.54 1450.39 Z\" fill=\"#000000\" fill-rule=\"nonzero\" fill-opacity=\"1\" /><path clip-path=\"url(#clip290)\" d=\"M1291.71 1525.1 Q1291.71 1525.33 1291.16 1526.29 Q1290.65 1527.23 1288.75 1529.58 Q1286.85 1531.93 1284.01 1534.67 Q1282.95 1535.73 1281.34 1537.21 Q1279.73 1538.69 1278.63 1539.66 L1277.54 1540.62 Q1273.35 1544.17 1269.68 1548.13 Q1269.94 1548.03 1270.39 1548 Q1270.84 1547.93 1271.16 1547.93 L1271.48 1547.93 Q1273.16 1547.93 1276.09 1549.06 Q1278.67 1549.9 1279.99 1549.9 Q1281.27 1549.9 1282.69 1549.45 Q1284.11 1549 1285.65 1547.68 Q1287.2 1546.36 1287.91 1544.36 Q1288.04 1544.04 1288.1 1543.94 Q1288.17 1543.81 1288.36 1543.68 Q1288.55 1543.52 1288.81 1543.52 Q1289.17 1543.52 1289.39 1543.71 Q1289.62 1543.91 1289.62 1544.17 Q1289.62 1544.75 1289.17 1545.9 Q1288.75 1547.06 1287.81 1548.51 Q1286.91 1549.96 1285.72 1551.28 Q1284.56 1552.57 1282.82 1553.47 Q1281.08 1554.34 1279.25 1554.34 Q1277.93 1554.34 1276.96 1553.7 Q1275.99 1553.09 1275.03 1551.9 Q1273.71 1550.38 1273 1549.9 Q1272.29 1549.38 1271.19 1549.38 Q1268.26 1549.38 1265.59 1553.47 Q1265.3 1554.05 1265.11 1554.18 Q1264.95 1554.34 1264.56 1554.34 Q1263.75 1554.31 1263.75 1553.67 Q1263.75 1553.41 1264.46 1552.28 Q1265.2 1551.12 1266.85 1549.09 Q1268.52 1547.06 1270.55 1545.04 L1276.48 1539.5 Q1283.05 1533.96 1285.65 1530.83 Q1284.56 1530.83 1284.08 1530.8 Q1283.63 1530.77 1282.72 1530.57 Q1281.82 1530.35 1280.57 1529.87 Q1277.64 1528.87 1276.41 1528.87 Q1276.09 1528.87 1275.74 1528.9 Q1275.38 1528.93 1274.58 1529.09 Q1273.8 1529.25 1273.16 1529.58 Q1272.51 1529.87 1271.84 1530.51 Q1271.16 1531.12 1270.81 1531.96 Q1270.71 1532.22 1270.65 1532.35 Q1270.58 1532.48 1270.39 1532.6 Q1270.23 1532.7 1269.97 1532.7 Q1269.58 1532.7 1269.36 1532.48 Q1269.17 1532.25 1269.17 1531.96 Q1269.17 1531.38 1269.75 1530.19 Q1270.32 1529 1271.29 1527.71 Q1272.26 1526.39 1273.84 1525.42 Q1275.41 1524.46 1277.15 1524.46 Q1278.18 1524.46 1279.05 1524.91 Q1279.95 1525.36 1280.41 1525.84 Q1280.89 1526.29 1281.69 1527.29 Q1282.37 1528.06 1282.69 1528.38 Q1283.01 1528.71 1283.66 1529.06 Q1284.33 1529.38 1285.08 1529.38 Q1286.3 1529.38 1287.43 1528.45 Q1288.55 1527.48 1290 1525.16 Q1290.39 1524.46 1291 1524.46 Q1291.71 1524.46 1291.71 1525.1 Z\" fill=\"#000000\" fill-rule=\"nonzero\" fill-opacity=\"1\" /><polyline clip-path=\"url(#clip292)\" style=\"stroke:#000000; stroke-linecap:round; stroke-linejoin:round; stroke-width:2; stroke-opacity:0.1; fill:none\" points=\"205.121,1412.26 2352.76,1412.26 \"/>\n",
       "<polyline clip-path=\"url(#clip292)\" style=\"stroke:#000000; stroke-linecap:round; stroke-linejoin:round; stroke-width:2; stroke-opacity:0.1; fill:none\" points=\"205.121,1118.35 2352.76,1118.35 \"/>\n",
       "<polyline clip-path=\"url(#clip292)\" style=\"stroke:#000000; stroke-linecap:round; stroke-linejoin:round; stroke-width:2; stroke-opacity:0.1; fill:none\" points=\"205.121,824.439 2352.76,824.439 \"/>\n",
       "<polyline clip-path=\"url(#clip292)\" style=\"stroke:#000000; stroke-linecap:round; stroke-linejoin:round; stroke-width:2; stroke-opacity:0.1; fill:none\" points=\"205.121,530.528 2352.76,530.528 \"/>\n",
       "<polyline clip-path=\"url(#clip292)\" style=\"stroke:#000000; stroke-linecap:round; stroke-linejoin:round; stroke-width:2; stroke-opacity:0.1; fill:none\" points=\"205.121,236.617 2352.76,236.617 \"/>\n",
       "<polyline clip-path=\"url(#clip290)\" style=\"stroke:#000000; stroke-linecap:round; stroke-linejoin:round; stroke-width:4; stroke-opacity:1; fill:none\" points=\"205.121,1423.18 205.121,47.2441 \"/>\n",
       "<polyline clip-path=\"url(#clip290)\" style=\"stroke:#000000; stroke-linecap:round; stroke-linejoin:round; stroke-width:4; stroke-opacity:1; fill:none\" points=\"205.121,1412.26 224.019,1412.26 \"/>\n",
       "<polyline clip-path=\"url(#clip290)\" style=\"stroke:#000000; stroke-linecap:round; stroke-linejoin:round; stroke-width:4; stroke-opacity:1; fill:none\" points=\"205.121,1118.35 224.019,1118.35 \"/>\n",
       "<polyline clip-path=\"url(#clip290)\" style=\"stroke:#000000; stroke-linecap:round; stroke-linejoin:round; stroke-width:4; stroke-opacity:1; fill:none\" points=\"205.121,824.439 224.019,824.439 \"/>\n",
       "<polyline clip-path=\"url(#clip290)\" style=\"stroke:#000000; stroke-linecap:round; stroke-linejoin:round; stroke-width:4; stroke-opacity:1; fill:none\" points=\"205.121,530.528 224.019,530.528 \"/>\n",
       "<polyline clip-path=\"url(#clip290)\" style=\"stroke:#000000; stroke-linecap:round; stroke-linejoin:round; stroke-width:4; stroke-opacity:1; fill:none\" points=\"205.121,236.617 224.019,236.617 \"/>\n",
       "<path clip-path=\"url(#clip290)\" d=\"M157.177 1398.06 Q153.566 1398.06 151.737 1401.63 Q149.931 1405.17 149.931 1412.3 Q149.931 1419.4 151.737 1422.97 Q153.566 1426.51 157.177 1426.51 Q160.811 1426.51 162.616 1422.97 Q164.445 1419.4 164.445 1412.3 Q164.445 1405.17 162.616 1401.63 Q160.811 1398.06 157.177 1398.06 M157.177 1394.36 Q162.987 1394.36 166.042 1398.96 Q169.121 1403.55 169.121 1412.3 Q169.121 1421.02 166.042 1425.63 Q162.987 1430.21 157.177 1430.21 Q151.366 1430.21 148.288 1425.63 Q145.232 1421.02 145.232 1412.3 Q145.232 1403.55 148.288 1398.96 Q151.366 1394.36 157.177 1394.36 Z\" fill=\"#000000\" fill-rule=\"nonzero\" fill-opacity=\"1\" /><path clip-path=\"url(#clip290)\" d=\"M117.825 1131.7 L125.464 1131.7 L125.464 1105.33 L117.154 1107 L117.154 1102.74 L125.418 1101.07 L130.093 1101.07 L130.093 1131.7 L137.732 1131.7 L137.732 1135.63 L117.825 1135.63 L117.825 1131.7 Z\" fill=\"#000000\" fill-rule=\"nonzero\" fill-opacity=\"1\" /><path clip-path=\"url(#clip290)\" d=\"M157.177 1104.15 Q153.566 1104.15 151.737 1107.71 Q149.931 1111.26 149.931 1118.39 Q149.931 1125.49 151.737 1129.06 Q153.566 1132.6 157.177 1132.6 Q160.811 1132.6 162.616 1129.06 Q164.445 1125.49 164.445 1118.39 Q164.445 1111.26 162.616 1107.71 Q160.811 1104.15 157.177 1104.15 M157.177 1100.45 Q162.987 1100.45 166.042 1105.05 Q169.121 1109.64 169.121 1118.39 Q169.121 1127.11 166.042 1131.72 Q162.987 1136.3 157.177 1136.3 Q151.366 1136.3 148.288 1131.72 Q145.232 1127.11 145.232 1118.39 Q145.232 1109.64 148.288 1105.05 Q151.366 1100.45 157.177 1100.45 Z\" fill=\"#000000\" fill-rule=\"nonzero\" fill-opacity=\"1\" /><path clip-path=\"url(#clip290)\" d=\"M121.043 837.784 L137.362 837.784 L137.362 841.719 L115.418 841.719 L115.418 837.784 Q118.08 835.03 122.663 830.4 Q127.269 825.747 128.45 824.405 Q130.695 821.881 131.575 820.145 Q132.478 818.386 132.478 816.696 Q132.478 813.942 130.533 812.206 Q128.612 810.47 125.51 810.47 Q123.311 810.47 120.857 811.233 Q118.427 811.997 115.649 813.548 L115.649 808.826 Q118.473 807.692 120.927 807.113 Q123.38 806.534 125.418 806.534 Q130.788 806.534 133.982 809.22 Q137.177 811.905 137.177 816.395 Q137.177 818.525 136.367 820.446 Q135.579 822.344 133.473 824.937 Q132.894 825.608 129.792 828.826 Q126.691 832.02 121.043 837.784 Z\" fill=\"#000000\" fill-rule=\"nonzero\" fill-opacity=\"1\" /><path clip-path=\"url(#clip290)\" d=\"M157.177 810.238 Q153.566 810.238 151.737 813.803 Q149.931 817.344 149.931 824.474 Q149.931 831.581 151.737 835.145 Q153.566 838.687 157.177 838.687 Q160.811 838.687 162.616 835.145 Q164.445 831.581 164.445 824.474 Q164.445 817.344 162.616 813.803 Q160.811 810.238 157.177 810.238 M157.177 806.534 Q162.987 806.534 166.042 811.141 Q169.121 815.724 169.121 824.474 Q169.121 833.201 166.042 837.807 Q162.987 842.391 157.177 842.391 Q151.366 842.391 148.288 837.807 Q145.232 833.201 145.232 824.474 Q145.232 815.724 148.288 811.141 Q151.366 806.534 157.177 806.534 Z\" fill=\"#000000\" fill-rule=\"nonzero\" fill-opacity=\"1\" /><path clip-path=\"url(#clip290)\" d=\"M131.181 529.174 Q134.538 529.892 136.413 532.16 Q138.311 534.429 138.311 537.762 Q138.311 542.878 134.792 545.679 Q131.274 548.479 124.793 548.479 Q122.617 548.479 120.302 548.04 Q118.01 547.623 115.556 546.767 L115.556 542.253 Q117.501 543.387 119.816 543.966 Q122.13 544.544 124.654 544.544 Q129.052 544.544 131.343 542.808 Q133.658 541.072 133.658 537.762 Q133.658 534.706 131.505 532.993 Q129.376 531.257 125.556 531.257 L121.529 531.257 L121.529 527.415 L125.742 527.415 Q129.191 527.415 131.019 526.049 Q132.848 524.66 132.848 522.068 Q132.848 519.406 130.95 517.994 Q129.075 516.558 125.556 516.558 Q123.635 516.558 121.436 516.975 Q119.237 517.392 116.598 518.271 L116.598 514.105 Q119.26 513.364 121.575 512.994 Q123.913 512.623 125.973 512.623 Q131.297 512.623 134.399 515.054 Q137.501 517.461 137.501 521.581 Q137.501 524.452 135.857 526.443 Q134.214 528.41 131.181 529.174 Z\" fill=\"#000000\" fill-rule=\"nonzero\" fill-opacity=\"1\" /><path clip-path=\"url(#clip290)\" d=\"M157.177 516.327 Q153.566 516.327 151.737 519.892 Q149.931 523.433 149.931 530.563 Q149.931 537.669 151.737 541.234 Q153.566 544.776 157.177 544.776 Q160.811 544.776 162.616 541.234 Q164.445 537.669 164.445 530.563 Q164.445 523.433 162.616 519.892 Q160.811 516.327 157.177 516.327 M157.177 512.623 Q162.987 512.623 166.042 517.23 Q169.121 521.813 169.121 530.563 Q169.121 539.29 166.042 543.896 Q162.987 548.479 157.177 548.479 Q151.366 548.479 148.288 543.896 Q145.232 539.29 145.232 530.563 Q145.232 521.813 148.288 517.23 Q151.366 512.623 157.177 512.623 Z\" fill=\"#000000\" fill-rule=\"nonzero\" fill-opacity=\"1\" /><path clip-path=\"url(#clip290)\" d=\"M129.862 223.411 L118.056 241.86 L129.862 241.86 L129.862 223.411 M128.635 219.337 L134.515 219.337 L134.515 241.86 L139.445 241.86 L139.445 245.749 L134.515 245.749 L134.515 253.897 L129.862 253.897 L129.862 245.749 L114.26 245.749 L114.26 241.235 L128.635 219.337 Z\" fill=\"#000000\" fill-rule=\"nonzero\" fill-opacity=\"1\" /><path clip-path=\"url(#clip290)\" d=\"M157.177 222.416 Q153.566 222.416 151.737 225.981 Q149.931 229.522 149.931 236.652 Q149.931 243.758 151.737 247.323 Q153.566 250.865 157.177 250.865 Q160.811 250.865 162.616 247.323 Q164.445 243.758 164.445 236.652 Q164.445 229.522 162.616 225.981 Q160.811 222.416 157.177 222.416 M157.177 218.712 Q162.987 218.712 166.042 223.318 Q169.121 227.902 169.121 236.652 Q169.121 245.379 166.042 249.985 Q162.987 254.568 157.177 254.568 Q151.366 254.568 148.288 249.985 Q145.232 245.379 145.232 236.652 Q145.232 227.902 148.288 223.318 Q151.366 218.712 157.177 218.712 Z\" fill=\"#000000\" fill-rule=\"nonzero\" fill-opacity=\"1\" /><path clip-path=\"url(#clip290)\" d=\"M24.7187 937.85 Q26.49 937.85 27.585 938.977 Q28.68 940.072 28.68 941.457 Q28.68 942.455 28.0681 943.196 Q27.4562 943.905 26.3934 943.905 Q25.2984 943.905 24.139 943.067 Q22.9796 942.23 22.8185 940.33 Q21.6269 941.586 21.6269 943.583 Q21.6269 944.581 22.271 945.418 Q22.883 946.223 23.8813 946.674 Q24.9119 947.157 30.7412 948.252 Q32.6413 948.607 34.4771 948.929 Q36.3128 949.251 38.2451 949.637 L38.2451 944.162 Q38.2451 943.454 38.2774 943.164 Q38.3096 942.874 38.4706 942.649 Q38.6316 942.391 38.9859 942.391 Q39.8876 942.391 40.1131 942.81 Q40.3063 943.196 40.3063 944.355 L40.3063 950.024 L61.2079 953.985 Q61.8198 954.082 63.7522 954.5 Q65.6523 954.887 68.7763 955.821 Q71.9325 956.755 73.8004 957.689 Q74.8632 958.204 75.8616 958.88 Q76.8922 959.524 77.9228 960.458 Q78.9534 961.392 79.5653 962.616 Q80.2094 963.84 80.2094 965.128 Q80.2094 967.318 78.9856 969.025 Q77.7617 970.732 75.6684 970.732 Q73.897 970.732 72.802 969.637 Q71.707 968.51 71.707 967.125 Q71.707 966.127 72.3189 965.418 Q72.9309 964.677 73.9937 964.677 Q74.4445 964.677 74.9598 964.838 Q75.4751 964.999 76.0548 965.354 Q76.6667 965.708 77.0854 966.481 Q77.5041 967.254 77.5685 968.317 Q78.7601 967.061 78.7601 965.128 Q78.7601 964.516 78.5025 963.969 Q78.277 963.421 77.6973 962.97 Q77.1176 962.487 76.5379 962.133 Q75.9904 961.779 74.9276 961.425 Q73.897 961.07 73.1241 960.845 Q72.3512 960.619 70.9663 960.33 Q69.5815 960.008 68.7441 959.847 Q67.939 959.685 66.3609 959.396 L40.3063 954.468 L40.3063 958.816 Q40.3063 959.589 40.2741 959.911 Q40.2419 960.201 40.0809 960.426 Q39.8876 960.652 39.5012 960.652 Q38.8893 960.652 38.6316 960.394 Q38.3418 960.104 38.3096 959.782 Q38.2451 959.46 38.2451 958.687 L38.2451 954.114 Q30.0971 952.568 27.9071 951.956 Q25.5882 951.248 23.978 950.153 Q22.3355 949.058 21.5625 947.834 Q20.7896 946.61 20.4997 945.612 Q20.1777 944.581 20.1777 943.583 Q20.1777 941.328 21.4015 939.589 Q22.5931 937.85 24.7187 937.85 Z\" fill=\"#000000\" fill-rule=\"nonzero\" fill-opacity=\"1\" /><path clip-path=\"url(#clip290)\" d=\"M50.1935 928.97 Q39.0503 928.97 30.0649 924.815 Q26.2968 923.044 23.1406 920.564 Q19.9844 918.084 18.5996 916.442 Q17.2147 914.799 17.2147 914.348 Q17.2147 913.704 17.8588 913.672 Q18.1809 913.672 18.986 914.542 Q29.8072 925.17 50.1935 925.137 Q70.6442 925.137 81.0467 914.799 Q82.1739 913.672 82.5282 913.672 Q83.1723 913.672 83.1723 914.348 Q83.1723 914.799 81.8519 916.377 Q80.5314 917.956 77.5041 920.403 Q74.4767 922.851 70.7731 924.622 Q61.7876 928.97 50.1935 928.97 Z\" fill=\"#000000\" fill-rule=\"nonzero\" fill-opacity=\"1\" /><path clip-path=\"url(#clip290)\" d=\"M83.1723 902.322 L17.2147 902.322 L17.2147 892.371 L18.7284 892.371 L18.7284 897.91 L81.6586 897.91 L81.6586 892.371 L83.1723 892.371 L83.1723 902.322 Z\" fill=\"#000000\" fill-rule=\"nonzero\" fill-opacity=\"1\" /><path clip-path=\"url(#clip290)\" d=\"M29.0343 887.34 L26.9731 887.34 Q26.9731 879.418 22.7541 875.327 Q22.7541 874.2 23.0118 874.007 Q23.2694 873.814 24.461 873.814 L61.4656 873.814 Q63.4301 873.814 64.042 872.848 Q64.654 871.881 64.654 867.662 L64.654 865.569 L66.6829 865.569 Q66.4897 867.888 66.4897 876.261 Q66.4897 884.635 66.6829 886.922 L64.654 886.922 L64.654 884.828 Q64.654 880.674 64.0742 879.675 Q63.4623 878.677 61.4656 878.677 L27.2952 878.677 Q29.0343 882.123 29.0343 887.34 Z\" fill=\"#000000\" fill-rule=\"nonzero\" fill-opacity=\"1\" /><path clip-path=\"url(#clip290)\" d=\"M65.6201 860.428 Q64.5573 861.426 63.1725 861.426 Q61.7876 861.426 60.7893 860.428 Q59.7587 859.429 59.7587 857.916 Q59.7587 856.466 60.7248 855.5 Q61.6588 854.502 63.2047 854.502 Q64.7184 854.502 65.7167 855.565 Q66.6829 856.595 66.6829 857.916 Q66.6829 859.429 65.6201 860.428 Z\" fill=\"#000000\" fill-rule=\"nonzero\" fill-opacity=\"1\" /><path clip-path=\"url(#clip290)\" d=\"M45.5881 843.276 Q35.8941 843.276 30.6124 840.828 Q22.7541 837.414 22.7541 829.363 Q22.7541 827.656 23.2372 825.885 Q23.6881 824.081 25.4594 821.827 Q27.2307 819.54 30.1293 818.155 Q35.7331 815.515 45.5881 815.515 Q55.2176 815.515 60.4672 817.962 Q68.1322 821.537 68.1322 829.427 Q68.1322 832.39 66.6185 835.418 Q65.1048 838.413 61.4656 840.313 Q56.0228 843.276 45.5881 843.276 M44.7829 837.801 Q54.7345 837.801 58.6959 837.092 Q62.9792 836.287 64.8472 834.097 Q66.6829 831.875 66.6829 829.427 Q66.6829 826.787 64.7184 824.597 Q62.7216 822.374 58.4382 821.698 Q54.2193 820.957 44.7829 820.99 Q35.6043 820.99 31.9328 821.634 Q27.6494 822.503 25.9425 824.822 Q24.2034 827.109 24.2034 829.427 Q24.2034 830.297 24.461 831.231 Q24.7187 832.133 25.4594 833.453 Q26.2002 834.774 28.0359 835.804 Q29.8716 836.803 32.6413 837.286 Q36.2162 837.801 44.7829 837.801 Z\" fill=\"#000000\" fill-rule=\"nonzero\" fill-opacity=\"1\" /><path clip-path=\"url(#clip290)\" d=\"M65.6201 809.678 Q64.5573 810.612 63.1725 810.612 Q61.7876 810.612 60.757 809.71 Q59.6943 808.776 59.6943 807.101 Q59.6943 805.137 61.5944 804.01 Q63.4623 802.882 66.6185 802.882 Q70.0323 802.882 73.1885 804.267 Q76.3769 805.652 77.8906 807.005 Q79.4042 808.357 79.4042 808.905 Q79.4042 809.549 78.6957 809.549 Q78.4381 809.549 77.955 809.098 Q72.8664 804.364 66.6185 804.332 Q65.6201 804.332 65.6201 804.461 L65.749 804.622 Q66.6829 805.749 66.6829 807.101 Q66.6829 808.744 65.6201 809.678 Z\" fill=\"#000000\" fill-rule=\"nonzero\" fill-opacity=\"1\" /><path clip-path=\"url(#clip290)\" d=\"M38.1807 754.112 Q38.4062 754.112 39.3724 754.66 Q40.3063 755.175 42.6574 757.075 Q45.0084 758.975 47.7459 761.809 Q48.8087 762.872 50.2901 764.482 Q51.7716 766.093 52.7378 767.188 L53.704 768.283 Q57.2466 772.469 61.2079 776.141 Q61.1113 775.883 61.0791 775.432 Q61.0147 774.982 61.0147 774.659 L61.0147 774.337 Q61.0147 772.663 62.1419 769.732 Q62.9792 767.156 62.9792 765.835 Q62.9792 764.547 62.5284 763.13 Q62.0775 761.713 60.757 760.167 Q59.4366 758.621 57.4398 757.912 Q57.1178 757.784 57.0212 757.719 Q56.8923 757.655 56.7635 757.462 Q56.6025 757.268 56.6025 757.011 Q56.6025 756.656 56.7957 756.431 Q56.989 756.206 57.2466 756.206 Q57.8263 756.206 58.9857 756.656 Q60.1451 757.075 61.5944 758.009 Q63.0437 758.911 64.3641 760.102 Q65.6523 761.262 66.5541 763.001 Q67.4237 764.74 67.4237 766.576 Q67.4237 767.896 66.7795 768.862 Q66.1676 769.829 64.976 770.795 Q63.4623 772.115 62.9792 772.824 Q62.464 773.532 62.464 774.627 Q62.464 777.558 66.5541 780.231 Q67.1338 780.521 67.2626 780.714 Q67.4237 780.875 67.4237 781.262 Q67.3915 782.067 66.7473 782.067 Q66.4897 782.067 65.3625 781.358 Q64.2031 780.618 62.1741 778.975 Q60.1451 777.3 58.1162 775.271 L52.5768 769.346 Q47.0373 762.776 43.9134 760.167 Q43.9134 761.262 43.8812 761.745 Q43.849 762.196 43.6557 763.098 Q43.4303 763.999 42.9472 765.255 Q41.9488 768.186 41.9488 769.41 Q41.9488 769.732 41.981 770.086 Q42.0132 770.441 42.1743 771.246 Q42.3353 772.019 42.6574 772.663 Q42.9472 773.307 43.5913 773.983 Q44.2032 774.659 45.0406 775.014 Q45.2982 775.11 45.4271 775.175 Q45.5559 775.239 45.6847 775.432 Q45.7813 775.593 45.7813 775.851 Q45.7813 776.238 45.5559 776.463 Q45.3304 776.656 45.0406 776.656 Q44.4609 776.656 43.2693 776.077 Q42.0776 775.497 40.7894 774.531 Q39.469 773.564 38.5028 771.986 Q37.5366 770.408 37.5366 768.669 Q37.5366 767.639 37.9875 766.769 Q38.4384 765.867 38.9215 765.416 Q39.3724 764.933 40.3707 764.128 Q41.1437 763.452 41.4657 763.13 Q41.7878 762.808 42.1421 762.164 Q42.4641 761.487 42.4641 760.747 Q42.4641 759.523 41.5301 758.396 Q40.564 757.268 38.2451 755.819 Q37.5366 755.433 37.5366 754.821 Q37.5366 754.112 38.1807 754.112 Z\" fill=\"#000000\" fill-rule=\"nonzero\" fill-opacity=\"1\" /><path clip-path=\"url(#clip290)\" d=\"M65.6201 750.765 Q64.5573 751.699 63.1725 751.699 Q61.7876 751.699 60.757 750.798 Q59.6943 749.864 59.6943 748.189 Q59.6943 746.224 61.5944 745.097 Q63.4623 743.97 66.6185 743.97 Q70.0323 743.97 73.1885 745.355 Q76.3769 746.74 77.8906 748.092 Q79.4042 749.445 79.4042 749.993 Q79.4042 750.637 78.6957 750.637 Q78.4381 750.637 77.955 750.186 Q72.8664 745.452 66.6185 745.419 Q65.6201 745.419 65.6201 745.548 L65.749 745.709 Q66.6829 746.836 66.6829 748.189 Q66.6829 749.832 65.6201 750.765 Z\" fill=\"#000000\" fill-rule=\"nonzero\" fill-opacity=\"1\" /><path clip-path=\"url(#clip290)\" d=\"M38.1807 695.2 Q38.4062 695.2 39.3724 695.747 Q40.3063 696.262 42.6574 698.163 Q45.0084 700.063 47.7459 702.897 Q48.8087 703.96 50.2901 705.57 Q51.7716 707.18 52.7378 708.275 L53.704 709.37 Q57.2466 713.557 61.2079 717.228 Q61.1113 716.971 61.0791 716.52 Q61.0147 716.069 61.0147 715.747 L61.0147 715.425 Q61.0147 713.75 62.1419 710.82 Q62.9792 708.243 62.9792 706.923 Q62.9792 705.634 62.5284 704.217 Q62.0775 702.8 60.757 701.254 Q59.4366 699.709 57.4398 699 Q57.1178 698.871 57.0212 698.807 Q56.8923 698.742 56.7635 698.549 Q56.6025 698.356 56.6025 698.098 Q56.6025 697.744 56.7957 697.519 Q56.989 697.293 57.2466 697.293 Q57.8263 697.293 58.9857 697.744 Q60.1451 698.163 61.5944 699.097 Q63.0437 699.998 64.3641 701.19 Q65.6523 702.349 66.5541 704.089 Q67.4237 705.828 67.4237 707.663 Q67.4237 708.984 66.7795 709.95 Q66.1676 710.916 64.976 711.882 Q63.4623 713.203 62.9792 713.911 Q62.464 714.62 62.464 715.715 Q62.464 718.646 66.5541 721.319 Q67.1338 721.608 67.2626 721.802 Q67.4237 721.963 67.4237 722.349 Q67.3915 723.154 66.7473 723.154 Q66.4897 723.154 65.3625 722.446 Q64.2031 721.705 62.1741 720.063 Q60.1451 718.388 58.1162 716.359 L52.5768 710.433 Q47.0373 703.863 43.9134 701.254 Q43.9134 702.349 43.8812 702.832 Q43.849 703.283 43.6557 704.185 Q43.4303 705.087 42.9472 706.343 Q41.9488 709.274 41.9488 710.497 Q41.9488 710.82 41.981 711.174 Q42.0132 711.528 42.1743 712.333 Q42.3353 713.106 42.6574 713.75 Q42.9472 714.394 43.5913 715.071 Q44.2032 715.747 45.0406 716.101 Q45.2982 716.198 45.4271 716.262 Q45.5559 716.327 45.6847 716.52 Q45.7813 716.681 45.7813 716.939 Q45.7813 717.325 45.5559 717.551 Q45.3304 717.744 45.0406 717.744 Q44.4609 717.744 43.2693 717.164 Q42.0776 716.584 40.7894 715.618 Q39.469 714.652 38.5028 713.074 Q37.5366 711.496 37.5366 709.757 Q37.5366 708.726 37.9875 707.857 Q38.4384 706.955 38.9215 706.504 Q39.3724 706.021 40.3707 705.216 Q41.1437 704.539 41.4657 704.217 Q41.7878 703.895 42.1421 703.251 Q42.4641 702.575 42.4641 701.834 Q42.4641 700.61 41.5301 699.483 Q40.564 698.356 38.2451 696.907 Q37.5366 696.52 37.5366 695.908 Q37.5366 695.2 38.1807 695.2 Z\" fill=\"#000000\" fill-rule=\"nonzero\" fill-opacity=\"1\" /><path clip-path=\"url(#clip290)\" d=\"M46.9462 688.427 Q46.1121 688.427 45.8641 688.359 Q45.6161 688.269 45.2329 687.908 L35.3585 679.049 Q29.9029 674.202 25.1461 674.202 Q22.0575 674.202 19.8482 675.825 Q17.6389 677.425 17.6389 680.379 Q17.6389 682.408 18.8788 684.121 Q20.1187 685.834 22.328 686.623 Q22.283 686.488 22.283 686.015 Q22.283 684.865 23.0044 684.234 Q23.7258 683.58 24.6952 683.58 Q25.9351 683.58 26.5438 684.391 Q27.1299 685.181 27.1299 685.97 Q27.1299 686.285 27.0623 686.714 Q26.9947 687.119 26.3634 687.773 Q25.7097 688.427 24.5599 688.427 Q21.3361 688.427 18.7661 685.992 Q16.196 683.535 16.196 679.792 Q16.196 675.554 18.721 672.781 Q21.2234 669.986 25.1461 669.986 Q26.5212 669.986 27.7837 670.414 Q29.0236 670.82 29.993 671.384 Q30.9624 671.925 32.518 673.412 Q34.0735 674.9 35.1782 676.095 Q36.2828 677.29 38.6274 679.973 L43.3842 684.865 L43.3842 676.546 Q43.3842 672.488 43.0235 672.173 Q42.3698 671.722 38.9205 671.158 L38.9205 669.986 L46.9462 671.293 L46.9462 688.427 Z\" fill=\"#000000\" fill-rule=\"nonzero\" fill-opacity=\"1\" /><path clip-path=\"url(#clip290)\" d=\"M81.6586 663.132 L81.6586 657.593 L18.7284 657.593 L18.7284 663.132 L17.2147 663.132 L17.2147 653.181 L83.1723 653.181 L83.1723 663.132 L81.6586 663.132 Z\" fill=\"#000000\" fill-rule=\"nonzero\" fill-opacity=\"1\" /><path clip-path=\"url(#clip290)\" d=\"M82.5282 642.87 Q82.2061 642.87 81.401 642.033 Q70.5798 631.405 50.1935 631.405 Q29.7428 631.405 19.4047 641.614 Q18.2131 642.87 17.8588 642.87 Q17.2147 642.87 17.2147 642.226 Q17.2147 641.775 18.5352 640.197 Q19.8556 638.587 22.883 636.171 Q25.9103 633.723 29.614 631.92 Q38.5994 627.572 50.1935 627.572 Q61.3368 627.572 70.3222 631.727 Q74.0903 633.498 77.2464 635.978 Q80.4026 638.458 81.7875 640.1 Q83.1723 641.743 83.1723 642.226 Q83.1723 642.87 82.5282 642.87 Z\" fill=\"#000000\" fill-rule=\"nonzero\" fill-opacity=\"1\" /><path clip-path=\"url(#clip290)\" d=\"M50.9987 597.726 Q50.9987 599.24 50.1935 599.24 Q49.3884 599.24 49.3884 597.662 Q49.3884 597.469 49.4206 597.147 Q49.4528 596.792 49.4528 596.728 L49.4528 578.145 L30.8056 578.145 Q30.7412 578.145 30.4513 578.177 Q30.1293 578.209 29.936 578.209 Q28.3579 578.209 28.3579 577.437 Q28.3579 576.631 29.936 576.631 L49.4528 576.631 L49.4528 558.016 Q49.4528 557.952 49.4206 557.63 Q49.3884 557.308 49.3884 557.115 Q49.3884 555.601 50.1935 555.601 Q50.9987 555.569 50.9987 557.179 Q50.9987 557.372 50.9665 557.662 Q50.9343 557.952 50.9343 558.016 L50.9343 576.631 L70.5154 576.631 Q72.0291 576.631 72.0291 577.437 Q72.0291 578.209 70.451 578.209 Q70.2578 578.209 69.9357 578.177 Q69.6459 578.145 69.5815 578.145 L50.9343 578.145 L50.9343 596.728 Q50.9343 596.792 50.9665 597.179 Q50.9987 597.533 50.9987 597.726 Z\" fill=\"#000000\" fill-rule=\"nonzero\" fill-opacity=\"1\" /><path clip-path=\"url(#clip290)\" d=\"M40.564 503.521 Q41.2403 503.521 41.7878 504.101 Q42.3353 504.648 42.3353 505.324 Q42.3353 505.711 41.6912 506.645 Q39.8232 509.318 39.8232 512.7 Q39.8232 515.727 40.564 518.529 Q41.3047 521.331 42.8184 523.231 Q44.2998 525.099 46.2322 525.099 Q48.6476 525.099 50.0647 522.458 Q48.8087 519.721 48.8087 516.339 Q48.8087 515.244 48.8731 514.503 Q48.9375 513.73 49.0985 512.989 Q49.2596 512.249 49.646 511.894 Q50.0003 511.508 50.58 511.508 Q52.6412 511.508 52.6412 516.854 Q52.6412 520.332 51.7072 522.522 Q53.092 525.324 55.3143 526.87 Q57.5365 528.416 59.4366 528.416 Q61.0791 528.416 62.2707 527.514 Q63.4623 526.58 64.042 525.067 Q64.6217 523.521 64.8794 522.007 Q65.1048 520.461 65.1048 518.754 Q65.1048 515.952 64.7506 513.988 Q64.3641 511.991 63.6556 510.896 Q62.947 509.769 62.464 509.318 Q61.9487 508.835 61.1435 508.352 Q60.6926 508.062 60.6926 507.676 Q60.6926 507.386 60.8859 507.192 Q61.0469 506.967 61.3368 506.967 Q61.691 506.967 62.4317 507.418 Q63.1725 507.837 64.1709 508.867 Q65.137 509.866 66.0388 511.25 Q66.9084 512.603 67.5203 514.761 Q68.1322 516.919 68.1322 519.366 Q68.1322 524.358 65.6845 527.257 Q63.2369 530.123 59.8231 530.123 Q57.4398 530.123 54.9922 528.545 Q52.5123 526.935 50.9343 524.101 Q48.9697 526.741 46.2322 526.741 Q43.7846 526.741 41.5946 524.68 Q39.4046 522.587 38.1163 519.205 Q36.7959 515.791 36.7959 512.056 Q36.7959 509.962 37.5044 507.901 Q38.1807 505.84 39.0503 504.68 Q39.9199 503.521 40.564 503.521 M50.6444 513.215 Q50.2579 514.632 50.2579 516.339 Q50.2579 518.658 50.8376 520.365 Q51.1919 518.98 51.1919 516.854 Q51.1919 515.083 51.0953 514.568 Q50.9987 514.02 50.6444 513.215 Z\" fill=\"#000000\" fill-rule=\"nonzero\" fill-opacity=\"1\" /><circle clip-path=\"url(#clip292)\" cx=\"265.903\" cy=\"1384.24\" r=\"14.4\" fill=\"#009af9\" fill-rule=\"evenodd\" fill-opacity=\"1\" stroke=\"#000000\" stroke-opacity=\"1\" stroke-width=\"3.2\"/>\n",
       "<circle clip-path=\"url(#clip292)\" cx=\"1019.82\" cy=\"1083.9\" r=\"14.4\" fill=\"#009af9\" fill-rule=\"evenodd\" fill-opacity=\"1\" stroke=\"#000000\" stroke-opacity=\"1\" stroke-width=\"3.2\"/>\n",
       "<circle clip-path=\"url(#clip292)\" cx=\"2245.25\" cy=\"128.861\" r=\"14.4\" fill=\"#009af9\" fill-rule=\"evenodd\" fill-opacity=\"1\" stroke=\"#000000\" stroke-opacity=\"1\" stroke-width=\"3.2\"/>\n",
       "<circle clip-path=\"url(#clip292)\" cx=\"491.039\" cy=\"1277.77\" r=\"14.4\" fill=\"#009af9\" fill-rule=\"evenodd\" fill-opacity=\"1\" stroke=\"#000000\" stroke-opacity=\"1\" stroke-width=\"3.2\"/>\n",
       "<circle clip-path=\"url(#clip292)\" cx=\"1362.3\" cy=\"917.538\" r=\"14.4\" fill=\"#009af9\" fill-rule=\"evenodd\" fill-opacity=\"1\" stroke=\"#000000\" stroke-opacity=\"1\" stroke-width=\"3.2\"/>\n",
       "<circle clip-path=\"url(#clip292)\" cx=\"355.762\" cy=\"1297.21\" r=\"14.4\" fill=\"#009af9\" fill-rule=\"evenodd\" fill-opacity=\"1\" stroke=\"#000000\" stroke-opacity=\"1\" stroke-width=\"3.2\"/>\n",
       "<circle clip-path=\"url(#clip292)\" cx=\"584.597\" cy=\"1272.62\" r=\"14.4\" fill=\"#009af9\" fill-rule=\"evenodd\" fill-opacity=\"1\" stroke=\"#000000\" stroke-opacity=\"1\" stroke-width=\"3.2\"/>\n",
       "<circle clip-path=\"url(#clip292)\" cx=\"1429.75\" cy=\"852.241\" r=\"14.4\" fill=\"#009af9\" fill-rule=\"evenodd\" fill-opacity=\"1\" stroke=\"#000000\" stroke-opacity=\"1\" stroke-width=\"3.2\"/>\n",
       "<circle clip-path=\"url(#clip292)\" cx=\"538.578\" cy=\"1318.11\" r=\"14.4\" fill=\"#009af9\" fill-rule=\"evenodd\" fill-opacity=\"1\" stroke=\"#000000\" stroke-opacity=\"1\" stroke-width=\"3.2\"/>\n",
       "<circle clip-path=\"url(#clip292)\" cx=\"842.501\" cy=\"1197.39\" r=\"14.4\" fill=\"#009af9\" fill-rule=\"evenodd\" fill-opacity=\"1\" stroke=\"#000000\" stroke-opacity=\"1\" stroke-width=\"3.2\"/>\n",
       "<circle clip-path=\"url(#clip292)\" cx=\"493.639\" cy=\"1322.76\" r=\"14.4\" fill=\"#009af9\" fill-rule=\"evenodd\" fill-opacity=\"1\" stroke=\"#000000\" stroke-opacity=\"1\" stroke-width=\"3.2\"/>\n",
       "<circle clip-path=\"url(#clip292)\" cx=\"1949.87\" cy=\"398.413\" r=\"14.4\" fill=\"#009af9\" fill-rule=\"evenodd\" fill-opacity=\"1\" stroke=\"#000000\" stroke-opacity=\"1\" stroke-width=\"3.2\"/>\n",
       "<circle clip-path=\"url(#clip292)\" cx=\"2267.7\" cy=\"86.1857\" r=\"14.4\" fill=\"#009af9\" fill-rule=\"evenodd\" fill-opacity=\"1\" stroke=\"#000000\" stroke-opacity=\"1\" stroke-width=\"3.2\"/>\n",
       "<circle clip-path=\"url(#clip292)\" cx=\"1619\" cy=\"592.152\" r=\"14.4\" fill=\"#009af9\" fill-rule=\"evenodd\" fill-opacity=\"1\" stroke=\"#000000\" stroke-opacity=\"1\" stroke-width=\"3.2\"/>\n",
       "<circle clip-path=\"url(#clip292)\" cx=\"788.194\" cy=\"1152.64\" r=\"14.4\" fill=\"#009af9\" fill-rule=\"evenodd\" fill-opacity=\"1\" stroke=\"#000000\" stroke-opacity=\"1\" stroke-width=\"3.2\"/>\n",
       "<circle clip-path=\"url(#clip292)\" cx=\"1075.41\" cy=\"1067.07\" r=\"14.4\" fill=\"#009af9\" fill-rule=\"evenodd\" fill-opacity=\"1\" stroke=\"#000000\" stroke-opacity=\"1\" stroke-width=\"3.2\"/>\n",
       "<circle clip-path=\"url(#clip292)\" cx=\"1729.8\" cy=\"559.914\" r=\"14.4\" fill=\"#009af9\" fill-rule=\"evenodd\" fill-opacity=\"1\" stroke=\"#000000\" stroke-opacity=\"1\" stroke-width=\"3.2\"/>\n",
       "<circle clip-path=\"url(#clip292)\" cx=\"1012.48\" cy=\"1109.97\" r=\"14.4\" fill=\"#009af9\" fill-rule=\"evenodd\" fill-opacity=\"1\" stroke=\"#000000\" stroke-opacity=\"1\" stroke-width=\"3.2\"/>\n",
       "<circle clip-path=\"url(#clip292)\" cx=\"549.518\" cy=\"1296.18\" r=\"14.4\" fill=\"#009af9\" fill-rule=\"evenodd\" fill-opacity=\"1\" stroke=\"#000000\" stroke-opacity=\"1\" stroke-width=\"3.2\"/>\n",
       "<circle clip-path=\"url(#clip292)\" cx=\"1253.95\" cy=\"917.317\" r=\"14.4\" fill=\"#009af9\" fill-rule=\"evenodd\" fill-opacity=\"1\" stroke=\"#000000\" stroke-opacity=\"1\" stroke-width=\"3.2\"/>\n",
       "<circle clip-path=\"url(#clip292)\" cx=\"2127.81\" cy=\"232.48\" r=\"14.4\" fill=\"#009af9\" fill-rule=\"evenodd\" fill-opacity=\"1\" stroke=\"#000000\" stroke-opacity=\"1\" stroke-width=\"3.2\"/>\n",
       "<circle clip-path=\"url(#clip292)\" cx=\"2114.83\" cy=\"235.279\" r=\"14.4\" fill=\"#009af9\" fill-rule=\"evenodd\" fill-opacity=\"1\" stroke=\"#000000\" stroke-opacity=\"1\" stroke-width=\"3.2\"/>\n",
       "<circle clip-path=\"url(#clip292)\" cx=\"2230.06\" cy=\"201.658\" r=\"14.4\" fill=\"#009af9\" fill-rule=\"evenodd\" fill-opacity=\"1\" stroke=\"#000000\" stroke-opacity=\"1\" stroke-width=\"3.2\"/>\n",
       "<circle clip-path=\"url(#clip292)\" cx=\"2291.97\" cy=\"107.977\" r=\"14.4\" fill=\"#009af9\" fill-rule=\"evenodd\" fill-opacity=\"1\" stroke=\"#000000\" stroke-opacity=\"1\" stroke-width=\"3.2\"/>\n",
       "<circle clip-path=\"url(#clip292)\" cx=\"406.215\" cy=\"1346\" r=\"14.4\" fill=\"#009af9\" fill-rule=\"evenodd\" fill-opacity=\"1\" stroke=\"#000000\" stroke-opacity=\"1\" stroke-width=\"3.2\"/>\n",
       "<circle clip-path=\"url(#clip292)\" cx=\"2125.98\" cy=\"258.362\" r=\"14.4\" fill=\"#009af9\" fill-rule=\"evenodd\" fill-opacity=\"1\" stroke=\"#000000\" stroke-opacity=\"1\" stroke-width=\"3.2\"/>\n",
       "<circle clip-path=\"url(#clip292)\" cx=\"2029.04\" cy=\"337.521\" r=\"14.4\" fill=\"#009af9\" fill-rule=\"evenodd\" fill-opacity=\"1\" stroke=\"#000000\" stroke-opacity=\"1\" stroke-width=\"3.2\"/>\n",
       "<circle clip-path=\"url(#clip292)\" cx=\"745.778\" cy=\"1246.29\" r=\"14.4\" fill=\"#009af9\" fill-rule=\"evenodd\" fill-opacity=\"1\" stroke=\"#000000\" stroke-opacity=\"1\" stroke-width=\"3.2\"/>\n",
       "<circle clip-path=\"url(#clip292)\" cx=\"1126.37\" cy=\"1008.09\" r=\"14.4\" fill=\"#009af9\" fill-rule=\"evenodd\" fill-opacity=\"1\" stroke=\"#000000\" stroke-opacity=\"1\" stroke-width=\"3.2\"/>\n",
       "<circle clip-path=\"url(#clip292)\" cx=\"311.991\" cy=\"1357.15\" r=\"14.4\" fill=\"#009af9\" fill-rule=\"evenodd\" fill-opacity=\"1\" stroke=\"#000000\" stroke-opacity=\"1\" stroke-width=\"3.2\"/>\n",
       "<path clip-path=\"url(#clip290)\" d=\"M276.709 196.789 L591.333 196.789 L591.333 93.1086 L276.709 93.1086  Z\" fill=\"#ffffff\" fill-rule=\"evenodd\" fill-opacity=\"1\"/>\n",
       "<polyline clip-path=\"url(#clip290)\" style=\"stroke:#000000; stroke-linecap:round; stroke-linejoin:round; stroke-width:4; stroke-opacity:1; fill:none\" points=\"276.709,196.789 591.333,196.789 591.333,93.1086 276.709,93.1086 276.709,196.789 \"/>\n",
       "<circle clip-path=\"url(#clip290)\" cx=\"372.159\" cy=\"144.949\" r=\"20.48\" fill=\"#009af9\" fill-rule=\"evenodd\" fill-opacity=\"1\" stroke=\"#000000\" stroke-opacity=\"1\" stroke-width=\"4.55111\"/>\n",
       "<path clip-path=\"url(#clip290)\" d=\"M486.522 140.238 L486.522 126.21 L490.781 126.21 L490.781 162.229 L486.522 162.229 L486.522 158.34 Q485.179 160.655 483.119 161.789 Q481.082 162.9 478.211 162.9 Q473.512 162.9 470.549 159.15 Q467.61 155.4 467.61 149.289 Q467.61 143.178 470.549 139.428 Q473.512 135.678 478.211 135.678 Q481.082 135.678 483.119 136.812 Q485.179 137.923 486.522 140.238 M472.008 149.289 Q472.008 153.988 473.929 156.673 Q475.874 159.335 479.253 159.335 Q482.633 159.335 484.577 156.673 Q486.522 153.988 486.522 149.289 Q486.522 144.59 484.577 141.928 Q482.633 139.243 479.253 139.243 Q475.874 139.243 473.929 141.928 Q472.008 144.59 472.008 149.289 Z\" fill=\"#000000\" fill-rule=\"nonzero\" fill-opacity=\"1\" /><path clip-path=\"url(#clip290)\" d=\"M511.336 149.196 Q506.174 149.196 504.184 150.377 Q502.193 151.557 502.193 154.405 Q502.193 156.673 503.674 158.016 Q505.179 159.335 507.748 159.335 Q511.29 159.335 513.42 156.835 Q515.572 154.312 515.572 150.145 L515.572 149.196 L511.336 149.196 M519.832 147.437 L519.832 162.229 L515.572 162.229 L515.572 158.293 Q514.114 160.655 511.938 161.789 Q509.762 162.9 506.614 162.9 Q502.633 162.9 500.272 160.678 Q497.934 158.432 497.934 154.682 Q497.934 150.307 500.85 148.085 Q503.79 145.863 509.6 145.863 L515.572 145.863 L515.572 145.446 Q515.572 142.507 513.628 140.909 Q511.707 139.289 508.211 139.289 Q505.989 139.289 503.883 139.821 Q501.776 140.354 499.832 141.419 L499.832 137.483 Q502.17 136.581 504.369 136.141 Q506.568 135.678 508.651 135.678 Q514.276 135.678 517.054 138.594 Q519.832 141.511 519.832 147.437 Z\" fill=\"#000000\" fill-rule=\"nonzero\" fill-opacity=\"1\" /><path clip-path=\"url(#clip290)\" d=\"M532.818 128.942 L532.818 136.303 L541.591 136.303 L541.591 139.613 L532.818 139.613 L532.818 153.687 Q532.818 156.858 533.674 157.761 Q534.554 158.664 537.216 158.664 L541.591 158.664 L541.591 162.229 L537.216 162.229 Q532.285 162.229 530.41 160.4 Q528.535 158.548 528.535 153.687 L528.535 139.613 L525.41 139.613 L525.41 136.303 L528.535 136.303 L528.535 128.942 L532.818 128.942 Z\" fill=\"#000000\" fill-rule=\"nonzero\" fill-opacity=\"1\" /><path clip-path=\"url(#clip290)\" d=\"M558.975 149.196 Q553.813 149.196 551.822 150.377 Q549.831 151.557 549.831 154.405 Q549.831 156.673 551.313 158.016 Q552.818 159.335 555.387 159.335 Q558.929 159.335 561.058 156.835 Q563.211 154.312 563.211 150.145 L563.211 149.196 L558.975 149.196 M567.47 147.437 L567.47 162.229 L563.211 162.229 L563.211 158.293 Q561.753 160.655 559.577 161.789 Q557.401 162.9 554.253 162.9 Q550.271 162.9 547.91 160.678 Q545.572 158.432 545.572 154.682 Q545.572 150.307 548.489 148.085 Q551.429 145.863 557.239 145.863 L563.211 145.863 L563.211 145.446 Q563.211 142.507 561.267 140.909 Q559.345 139.289 555.85 139.289 Q553.628 139.289 551.521 139.821 Q549.415 140.354 547.47 141.419 L547.47 137.483 Q549.808 136.581 552.007 136.141 Q554.206 135.678 556.29 135.678 Q561.915 135.678 564.693 138.594 Q567.47 141.511 567.47 147.437 Z\" fill=\"#000000\" fill-rule=\"nonzero\" fill-opacity=\"1\" /></svg>\n"
      ]
     },
     "metadata": {},
     "output_type": "display_data"
    }
   ],
   "source": [
    "using Plots, LinearAlgebra, LaTeXStrings\n",
    "\n",
    "# Parameters\n",
    "Σ = 1e5 * Diagonal(I,3) # Covariance matrix of prior on w\n",
    "σ2 = 2.0                # Noise variance\n",
    "\n",
    "# Generate data set\n",
    "w = [1.0; 2.0; 0.25]\n",
    "N = 30\n",
    "z = 10.0*rand(N)\n",
    "x_train = [[1.0; z; z^2] for z in z] # Feature vector x = [1.0; z; z^2]\n",
    "f(x) = (w'*x)[1]\n",
    "y_train = map(f, x_train) + sqrt(σ2)*randn(N) # y[i] = w' * x[i] + ϵ\n",
    "scatter(z, y_train, label=\"data\", xlabel=L\"z\", ylabel=L\"f([1.0, z, z^2]) + \\epsilon\")"
   ]
  },
  {
   "cell_type": "markdown",
   "metadata": {
    "slideshow": {
     "slide_type": "slide"
    }
   },
   "source": [
    "Now build the factor graph in RxInfer, perform sum-product message passing and plot results (mean of posterior)."
   ]
  },
  {
   "cell_type": "code",
   "execution_count": 3,
   "metadata": {},
   "outputs": [
    {
     "data": {
      "image/png": "[encoded data removed]",
      "image/svg+xml": [
       "<?xml version=\"1.0\" encoding=\"utf-8\"?>\n",
       "<svg xmlns=\"http://www.w3.org/2000/svg\" xmlns:xlink=\"http://www.w3.org/1999/xlink\" width=\"600\" height=\"400\" viewBox=\"0 0 2400 1600\">\n",
       "<defs>\n",
       "  <clipPath id=\"clip330\">\n",
       "    <rect x=\"0\" y=\"0\" width=\"2400\" height=\"1600\"/>\n",
       "  </clipPath>\n",
       "</defs>\n",
       "<path clip-path=\"url(#clip330)\" d=\"M0 1600 L2400 1600 L2400 0 L0 0  Z\" fill=\"#ffffff\" fill-rule=\"evenodd\" fill-opacity=\"1\"/>\n",
       "<defs>\n",
       "  <clipPath id=\"clip331\">\n",
       "    <rect x=\"480\" y=\"0\" width=\"1681\" height=\"1600\"/>\n",
       "  </clipPath>\n",
       "</defs>\n",
       "<path clip-path=\"url(#clip330)\" d=\"M205.121 1423.18 L2352.76 1423.18 L2352.76 47.2441 L205.121 47.2441  Z\" fill=\"#ffffff\" fill-rule=\"evenodd\" fill-opacity=\"1\"/>\n",
       "<defs>\n",
       "  <clipPath id=\"clip332\">\n",
       "    <rect x=\"205\" y=\"47\" width=\"2149\" height=\"1377\"/>\n",
       "  </clipPath>\n",
       "</defs>\n",
       "<polyline clip-path=\"url(#clip332)\" style=\"stroke:#000000; stroke-linecap:round; stroke-linejoin:round; stroke-width:2; stroke-opacity:0.1; fill:none\" points=\"265.903,1423.18 265.903,47.2441 \"/>\n",
       "<polyline clip-path=\"url(#clip332)\" style=\"stroke:#000000; stroke-linecap:round; stroke-linejoin:round; stroke-width:2; stroke-opacity:0.1; fill:none\" points=\"688.001,1423.18 688.001,47.2441 \"/>\n",
       "<polyline clip-path=\"url(#clip332)\" style=\"stroke:#000000; stroke-linecap:round; stroke-linejoin:round; stroke-width:2; stroke-opacity:0.1; fill:none\" points=\"1110.1,1423.18 1110.1,47.2441 \"/>\n",
       "<polyline clip-path=\"url(#clip332)\" style=\"stroke:#000000; stroke-linecap:round; stroke-linejoin:round; stroke-width:2; stroke-opacity:0.1; fill:none\" points=\"1532.2,1423.18 1532.2,47.2441 \"/>\n",
       "<polyline clip-path=\"url(#clip332)\" style=\"stroke:#000000; stroke-linecap:round; stroke-linejoin:round; stroke-width:2; stroke-opacity:0.1; fill:none\" points=\"1954.3,1423.18 1954.3,47.2441 \"/>\n",
       "<polyline clip-path=\"url(#clip330)\" style=\"stroke:#000000; stroke-linecap:round; stroke-linejoin:round; stroke-width:4; stroke-opacity:1; fill:none\" points=\"205.121,1423.18 2352.76,1423.18 \"/>\n",
       "<polyline clip-path=\"url(#clip330)\" style=\"stroke:#000000; stroke-linecap:round; stroke-linejoin:round; stroke-width:4; stroke-opacity:1; fill:none\" points=\"265.903,1423.18 265.903,1404.28 \"/>\n",
       "<polyline clip-path=\"url(#clip330)\" style=\"stroke:#000000; stroke-linecap:round; stroke-linejoin:round; stroke-width:4; stroke-opacity:1; fill:none\" points=\"688.001,1423.18 688.001,1404.28 \"/>\n",
       "<polyline clip-path=\"url(#clip330)\" style=\"stroke:#000000; stroke-linecap:round; stroke-linejoin:round; stroke-width:4; stroke-opacity:1; fill:none\" points=\"1110.1,1423.18 1110.1,1404.28 \"/>\n",
       "<polyline clip-path=\"url(#clip330)\" style=\"stroke:#000000; stroke-linecap:round; stroke-linejoin:round; stroke-width:4; stroke-opacity:1; fill:none\" points=\"1532.2,1423.18 1532.2,1404.28 \"/>\n",
       "<polyline clip-path=\"url(#clip330)\" style=\"stroke:#000000; stroke-linecap:round; stroke-linejoin:round; stroke-width:4; stroke-opacity:1; fill:none\" points=\"1954.3,1423.18 1954.3,1404.28 \"/>\n",
       "<path clip-path=\"url(#clip330)\" d=\"M243.287 1454.1 Q239.676 1454.1 237.848 1457.66 Q236.042 1461.2 236.042 1468.33 Q236.042 1475.44 237.848 1479.01 Q239.676 1482.55 243.287 1482.55 Q246.922 1482.55 248.727 1479.01 Q250.556 1475.44 250.556 1468.33 Q250.556 1461.2 248.727 1457.66 Q246.922 1454.1 243.287 1454.1 M243.287 1450.39 Q249.098 1450.39 252.153 1455 Q255.232 1459.58 255.232 1468.33 Q255.232 1477.06 252.153 1481.67 Q249.098 1486.25 243.287 1486.25 Q237.477 1486.25 234.399 1481.67 Q231.343 1477.06 231.343 1468.33 Q231.343 1459.58 234.399 1455 Q237.477 1450.39 243.287 1450.39 Z\" fill=\"#000000\" fill-rule=\"nonzero\" fill-opacity=\"1\" /><path clip-path=\"url(#clip330)\" d=\"M263.449 1479.7 L268.334 1479.7 L268.334 1485.58 L263.449 1485.58 L263.449 1479.7 Z\" fill=\"#000000\" fill-rule=\"nonzero\" fill-opacity=\"1\" /><path clip-path=\"url(#clip330)\" d=\"M288.519 1454.1 Q284.908 1454.1 283.079 1457.66 Q281.273 1461.2 281.273 1468.33 Q281.273 1475.44 283.079 1479.01 Q284.908 1482.55 288.519 1482.55 Q292.153 1482.55 293.959 1479.01 Q295.787 1475.44 295.787 1468.33 Q295.787 1461.2 293.959 1457.66 Q292.153 1454.1 288.519 1454.1 M288.519 1450.39 Q294.329 1450.39 297.384 1455 Q300.463 1459.58 300.463 1468.33 Q300.463 1477.06 297.384 1481.67 Q294.329 1486.25 288.519 1486.25 Q282.709 1486.25 279.63 1481.67 Q276.574 1477.06 276.574 1468.33 Q276.574 1459.58 279.63 1455 Q282.709 1450.39 288.519 1450.39 Z\" fill=\"#000000\" fill-rule=\"nonzero\" fill-opacity=\"1\" /><path clip-path=\"url(#clip330)\" d=\"M659.737 1481.64 L676.057 1481.64 L676.057 1485.58 L654.112 1485.58 L654.112 1481.64 Q656.774 1478.89 661.358 1474.26 Q665.964 1469.61 667.145 1468.27 Q669.39 1465.74 670.27 1464.01 Q671.173 1462.25 671.173 1460.56 Q671.173 1457.8 669.228 1456.07 Q667.307 1454.33 664.205 1454.33 Q662.006 1454.33 659.552 1455.09 Q657.122 1455.86 654.344 1457.41 L654.344 1452.69 Q657.168 1451.55 659.622 1450.97 Q662.075 1450.39 664.112 1450.39 Q669.483 1450.39 672.677 1453.08 Q675.872 1455.77 675.872 1460.26 Q675.872 1462.39 675.061 1464.31 Q674.274 1466.2 672.168 1468.8 Q671.589 1469.47 668.487 1472.69 Q665.386 1475.88 659.737 1481.64 Z\" fill=\"#000000\" fill-rule=\"nonzero\" fill-opacity=\"1\" /><path clip-path=\"url(#clip330)\" d=\"M685.872 1479.7 L690.756 1479.7 L690.756 1485.58 L685.872 1485.58 L685.872 1479.7 Z\" fill=\"#000000\" fill-rule=\"nonzero\" fill-opacity=\"1\" /><path clip-path=\"url(#clip330)\" d=\"M700.987 1451.02 L719.344 1451.02 L719.344 1454.96 L705.27 1454.96 L705.27 1463.43 Q706.288 1463.08 707.307 1462.92 Q708.325 1462.73 709.344 1462.73 Q715.131 1462.73 718.51 1465.9 Q721.89 1469.08 721.89 1474.49 Q721.89 1480.07 718.418 1483.17 Q714.945 1486.25 708.626 1486.25 Q706.45 1486.25 704.182 1485.88 Q701.936 1485.51 699.529 1484.77 L699.529 1480.07 Q701.612 1481.2 703.834 1481.76 Q706.057 1482.32 708.533 1482.32 Q712.538 1482.32 714.876 1480.21 Q717.214 1478.1 717.214 1474.49 Q717.214 1470.88 714.876 1468.77 Q712.538 1466.67 708.533 1466.67 Q706.658 1466.67 704.783 1467.08 Q702.932 1467.5 700.987 1468.38 L700.987 1451.02 Z\" fill=\"#000000\" fill-rule=\"nonzero\" fill-opacity=\"1\" /><path clip-path=\"url(#clip330)\" d=\"M1077.26 1451.02 L1095.62 1451.02 L1095.62 1454.96 L1081.55 1454.96 L1081.55 1463.43 Q1082.56 1463.08 1083.58 1462.92 Q1084.6 1462.73 1085.62 1462.73 Q1091.41 1462.73 1094.79 1465.9 Q1098.17 1469.08 1098.17 1474.49 Q1098.17 1480.07 1094.69 1483.17 Q1091.22 1486.25 1084.9 1486.25 Q1082.73 1486.25 1080.46 1485.88 Q1078.21 1485.51 1075.81 1484.77 L1075.81 1480.07 Q1077.89 1481.2 1080.11 1481.76 Q1082.33 1482.32 1084.81 1482.32 Q1088.81 1482.32 1091.15 1480.21 Q1093.49 1478.1 1093.49 1474.49 Q1093.49 1470.88 1091.15 1468.77 Q1088.81 1466.67 1084.81 1466.67 Q1082.94 1466.67 1081.06 1467.08 Q1079.21 1467.5 1077.26 1468.38 L1077.26 1451.02 Z\" fill=\"#000000\" fill-rule=\"nonzero\" fill-opacity=\"1\" /><path clip-path=\"url(#clip330)\" d=\"M1107.38 1479.7 L1112.26 1479.7 L1112.26 1485.58 L1107.38 1485.58 L1107.38 1479.7 Z\" fill=\"#000000\" fill-rule=\"nonzero\" fill-opacity=\"1\" /><path clip-path=\"url(#clip330)\" d=\"M1132.45 1454.1 Q1128.84 1454.1 1127.01 1457.66 Q1125.2 1461.2 1125.2 1468.33 Q1125.2 1475.44 1127.01 1479.01 Q1128.84 1482.55 1132.45 1482.55 Q1136.08 1482.55 1137.89 1479.01 Q1139.72 1475.44 1139.72 1468.33 Q1139.72 1461.2 1137.89 1457.66 Q1136.08 1454.1 1132.45 1454.1 M1132.45 1450.39 Q1138.26 1450.39 1141.31 1455 Q1144.39 1459.58 1144.39 1468.33 Q1144.39 1477.06 1141.31 1481.67 Q1138.26 1486.25 1132.45 1486.25 Q1126.64 1486.25 1123.56 1481.67 Q1120.5 1477.06 1120.5 1468.33 Q1120.5 1459.58 1123.56 1455 Q1126.64 1450.39 1132.45 1450.39 Z\" fill=\"#000000\" fill-rule=\"nonzero\" fill-opacity=\"1\" /><path clip-path=\"url(#clip330)\" d=\"M1498.52 1451.02 L1520.74 1451.02 L1520.74 1453.01 L1508.19 1485.58 L1503.31 1485.58 L1515.11 1454.96 L1498.52 1454.96 L1498.52 1451.02 Z\" fill=\"#000000\" fill-rule=\"nonzero\" fill-opacity=\"1\" /><path clip-path=\"url(#clip330)\" d=\"M1529.86 1479.7 L1534.74 1479.7 L1534.74 1485.58 L1529.86 1485.58 L1529.86 1479.7 Z\" fill=\"#000000\" fill-rule=\"nonzero\" fill-opacity=\"1\" /><path clip-path=\"url(#clip330)\" d=\"M1544.97 1451.02 L1563.33 1451.02 L1563.33 1454.96 L1549.26 1454.96 L1549.26 1463.43 Q1550.28 1463.08 1551.29 1462.92 Q1552.31 1462.73 1553.33 1462.73 Q1559.12 1462.73 1562.5 1465.9 Q1565.88 1469.08 1565.88 1474.49 Q1565.88 1480.07 1562.41 1483.17 Q1558.93 1486.25 1552.61 1486.25 Q1550.44 1486.25 1548.17 1485.88 Q1545.92 1485.51 1543.52 1484.77 L1543.52 1480.07 Q1545.6 1481.2 1547.82 1481.76 Q1550.04 1482.32 1552.52 1482.32 Q1556.53 1482.32 1558.86 1480.21 Q1561.2 1478.1 1561.2 1474.49 Q1561.2 1470.88 1558.86 1468.77 Q1556.53 1466.67 1552.52 1466.67 Q1550.65 1466.67 1548.77 1467.08 Q1546.92 1467.5 1544.97 1468.38 L1544.97 1451.02 Z\" fill=\"#000000\" fill-rule=\"nonzero\" fill-opacity=\"1\" /><path clip-path=\"url(#clip330)\" d=\"M1906.37 1481.64 L1914.01 1481.64 L1914.01 1455.28 L1905.7 1456.95 L1905.7 1452.69 L1913.96 1451.02 L1918.64 1451.02 L1918.64 1481.64 L1926.27 1481.64 L1926.27 1485.58 L1906.37 1485.58 L1906.37 1481.64 Z\" fill=\"#000000\" fill-rule=\"nonzero\" fill-opacity=\"1\" /><path clip-path=\"url(#clip330)\" d=\"M1945.72 1454.1 Q1942.11 1454.1 1940.28 1457.66 Q1938.47 1461.2 1938.47 1468.33 Q1938.47 1475.44 1940.28 1479.01 Q1942.11 1482.55 1945.72 1482.55 Q1949.35 1482.55 1951.16 1479.01 Q1952.99 1475.44 1952.99 1468.33 Q1952.99 1461.2 1951.16 1457.66 Q1949.35 1454.1 1945.72 1454.1 M1945.72 1450.39 Q1951.53 1450.39 1954.58 1455 Q1957.66 1459.58 1957.66 1468.33 Q1957.66 1477.06 1954.58 1481.67 Q1951.53 1486.25 1945.72 1486.25 Q1939.91 1486.25 1936.83 1481.67 Q1933.77 1477.06 1933.77 1468.33 Q1933.77 1459.58 1936.83 1455 Q1939.91 1450.39 1945.72 1450.39 Z\" fill=\"#000000\" fill-rule=\"nonzero\" fill-opacity=\"1\" /><path clip-path=\"url(#clip330)\" d=\"M1965.88 1479.7 L1970.77 1479.7 L1970.77 1485.58 L1965.88 1485.58 L1965.88 1479.7 Z\" fill=\"#000000\" fill-rule=\"nonzero\" fill-opacity=\"1\" /><path clip-path=\"url(#clip330)\" d=\"M1990.95 1454.1 Q1987.34 1454.1 1985.51 1457.66 Q1983.7 1461.2 1983.7 1468.33 Q1983.7 1475.44 1985.51 1479.01 Q1987.34 1482.55 1990.95 1482.55 Q1994.58 1482.55 1996.39 1479.01 Q1998.22 1475.44 1998.22 1468.33 Q1998.22 1461.2 1996.39 1457.66 Q1994.58 1454.1 1990.95 1454.1 M1990.95 1450.39 Q1996.76 1450.39 1999.82 1455 Q2002.89 1459.58 2002.89 1468.33 Q2002.89 1477.06 1999.82 1481.67 Q1996.76 1486.25 1990.95 1486.25 Q1985.14 1486.25 1982.06 1481.67 Q1979.01 1477.06 1979.01 1468.33 Q1979.01 1459.58 1982.06 1455 Q1985.14 1450.39 1990.95 1450.39 Z\" fill=\"#000000\" fill-rule=\"nonzero\" fill-opacity=\"1\" /><path clip-path=\"url(#clip330)\" d=\"M1291.71 1525.1 Q1291.71 1525.33 1291.16 1526.29 Q1290.65 1527.23 1288.75 1529.58 Q1286.85 1531.93 1284.01 1534.67 Q1282.95 1535.73 1281.34 1537.21 Q1279.73 1538.69 1278.63 1539.66 L1277.54 1540.62 Q1273.35 1544.17 1269.68 1548.13 Q1269.94 1548.03 1270.39 1548 Q1270.84 1547.93 1271.16 1547.93 L1271.48 1547.93 Q1273.16 1547.93 1276.09 1549.06 Q1278.67 1549.9 1279.99 1549.9 Q1281.27 1549.9 1282.69 1549.45 Q1284.11 1549 1285.65 1547.68 Q1287.2 1546.36 1287.91 1544.36 Q1288.04 1544.04 1288.1 1543.94 Q1288.17 1543.81 1288.36 1543.68 Q1288.55 1543.52 1288.81 1543.52 Q1289.17 1543.52 1289.39 1543.71 Q1289.62 1543.91 1289.62 1544.17 Q1289.62 1544.75 1289.17 1545.9 Q1288.75 1547.06 1287.81 1548.51 Q1286.91 1549.96 1285.72 1551.28 Q1284.56 1552.57 1282.82 1553.47 Q1281.08 1554.34 1279.25 1554.34 Q1277.93 1554.34 1276.96 1553.7 Q1275.99 1553.09 1275.03 1551.9 Q1273.71 1550.38 1273 1549.9 Q1272.29 1549.38 1271.19 1549.38 Q1268.26 1549.38 1265.59 1553.47 Q1265.3 1554.05 1265.11 1554.18 Q1264.95 1554.34 1264.56 1554.34 Q1263.75 1554.31 1263.75 1553.67 Q1263.75 1553.41 1264.46 1552.28 Q1265.2 1551.12 1266.85 1549.09 Q1268.52 1547.06 1270.55 1545.04 L1276.48 1539.5 Q1283.05 1533.96 1285.65 1530.83 Q1284.56 1530.83 1284.08 1530.8 Q1283.63 1530.77 1282.72 1530.57 Q1281.82 1530.35 1280.57 1529.87 Q1277.64 1528.87 1276.41 1528.87 Q1276.09 1528.87 1275.74 1528.9 Q1275.38 1528.93 1274.58 1529.09 Q1273.8 1529.25 1273.16 1529.58 Q1272.51 1529.87 1271.84 1530.51 Q1271.16 1531.12 1270.81 1531.96 Q1270.71 1532.22 1270.65 1532.35 Q1270.58 1532.48 1270.39 1532.6 Q1270.23 1532.7 1269.97 1532.7 Q1269.58 1532.7 1269.36 1532.48 Q1269.17 1532.25 1269.17 1531.96 Q1269.17 1531.38 1269.75 1530.19 Q1270.32 1529 1271.29 1527.71 Q1272.26 1526.39 1273.84 1525.42 Q1275.41 1524.46 1277.15 1524.46 Q1278.18 1524.46 1279.05 1524.91 Q1279.95 1525.36 1280.41 1525.84 Q1280.89 1526.29 1281.69 1527.29 Q1282.37 1528.06 1282.69 1528.38 Q1283.01 1528.71 1283.66 1529.06 Q1284.33 1529.38 1285.08 1529.38 Q1286.3 1529.38 1287.43 1528.45 Q1288.55 1527.48 1290 1525.16 Q1290.39 1524.46 1291 1524.46 Q1291.71 1524.46 1291.71 1525.1 Z\" fill=\"#000000\" fill-rule=\"nonzero\" fill-opacity=\"1\" /><polyline clip-path=\"url(#clip332)\" style=\"stroke:#000000; stroke-linecap:round; stroke-linejoin:round; stroke-width:2; stroke-opacity:0.1; fill:none\" points=\"205.121,1381.09 2352.76,1381.09 \"/>\n",
       "<polyline clip-path=\"url(#clip332)\" style=\"stroke:#000000; stroke-linecap:round; stroke-linejoin:round; stroke-width:2; stroke-opacity:0.1; fill:none\" points=\"205.121,1180.56 2352.76,1180.56 \"/>\n",
       "<polyline clip-path=\"url(#clip332)\" style=\"stroke:#000000; stroke-linecap:round; stroke-linejoin:round; stroke-width:2; stroke-opacity:0.1; fill:none\" points=\"205.121,980.021 2352.76,980.021 \"/>\n",
       "<polyline clip-path=\"url(#clip332)\" style=\"stroke:#000000; stroke-linecap:round; stroke-linejoin:round; stroke-width:2; stroke-opacity:0.1; fill:none\" points=\"205.121,779.486 2352.76,779.486 \"/>\n",
       "<polyline clip-path=\"url(#clip332)\" style=\"stroke:#000000; stroke-linecap:round; stroke-linejoin:round; stroke-width:2; stroke-opacity:0.1; fill:none\" points=\"205.121,578.951 2352.76,578.951 \"/>\n",
       "<polyline clip-path=\"url(#clip332)\" style=\"stroke:#000000; stroke-linecap:round; stroke-linejoin:round; stroke-width:2; stroke-opacity:0.1; fill:none\" points=\"205.121,378.416 2352.76,378.416 \"/>\n",
       "<polyline clip-path=\"url(#clip332)\" style=\"stroke:#000000; stroke-linecap:round; stroke-linejoin:round; stroke-width:2; stroke-opacity:0.1; fill:none\" points=\"205.121,177.881 2352.76,177.881 \"/>\n",
       "<polyline clip-path=\"url(#clip330)\" style=\"stroke:#000000; stroke-linecap:round; stroke-linejoin:round; stroke-width:4; stroke-opacity:1; fill:none\" points=\"205.121,1423.18 205.121,47.2441 \"/>\n",
       "<polyline clip-path=\"url(#clip330)\" style=\"stroke:#000000; stroke-linecap:round; stroke-linejoin:round; stroke-width:4; stroke-opacity:1; fill:none\" points=\"205.121,1381.09 224.019,1381.09 \"/>\n",
       "<polyline clip-path=\"url(#clip330)\" style=\"stroke:#000000; stroke-linecap:round; stroke-linejoin:round; stroke-width:4; stroke-opacity:1; fill:none\" points=\"205.121,1180.56 224.019,1180.56 \"/>\n",
       "<polyline clip-path=\"url(#clip330)\" style=\"stroke:#000000; stroke-linecap:round; stroke-linejoin:round; stroke-width:4; stroke-opacity:1; fill:none\" points=\"205.121,980.021 224.019,980.021 \"/>\n",
       "<polyline clip-path=\"url(#clip330)\" style=\"stroke:#000000; stroke-linecap:round; stroke-linejoin:round; stroke-width:4; stroke-opacity:1; fill:none\" points=\"205.121,779.486 224.019,779.486 \"/>\n",
       "<polyline clip-path=\"url(#clip330)\" style=\"stroke:#000000; stroke-linecap:round; stroke-linejoin:round; stroke-width:4; stroke-opacity:1; fill:none\" points=\"205.121,578.951 224.019,578.951 \"/>\n",
       "<polyline clip-path=\"url(#clip330)\" style=\"stroke:#000000; stroke-linecap:round; stroke-linejoin:round; stroke-width:4; stroke-opacity:1; fill:none\" points=\"205.121,378.416 224.019,378.416 \"/>\n",
       "<polyline clip-path=\"url(#clip330)\" style=\"stroke:#000000; stroke-linecap:round; stroke-linejoin:round; stroke-width:4; stroke-opacity:1; fill:none\" points=\"205.121,177.881 224.019,177.881 \"/>\n",
       "<path clip-path=\"url(#clip330)\" d=\"M157.177 1366.89 Q153.566 1366.89 151.737 1370.45 Q149.931 1374 149.931 1381.13 Q149.931 1388.23 151.737 1391.8 Q153.566 1395.34 157.177 1395.34 Q160.811 1395.34 162.616 1391.8 Q164.445 1388.23 164.445 1381.13 Q164.445 1374 162.616 1370.45 Q160.811 1366.89 157.177 1366.89 M157.177 1363.19 Q162.987 1363.19 166.042 1367.79 Q169.121 1372.38 169.121 1381.13 Q169.121 1389.85 166.042 1394.46 Q162.987 1399.04 157.177 1399.04 Q151.366 1399.04 148.288 1394.46 Q145.232 1389.85 145.232 1381.13 Q145.232 1372.38 148.288 1367.79 Q151.366 1363.19 157.177 1363.19 Z\" fill=\"#000000\" fill-rule=\"nonzero\" fill-opacity=\"1\" /><path clip-path=\"url(#clip330)\" d=\"M117.825 1193.9 L125.464 1193.9 L125.464 1167.53 L117.154 1169.2 L117.154 1164.94 L125.418 1163.28 L130.093 1163.28 L130.093 1193.9 L137.732 1193.9 L137.732 1197.84 L117.825 1197.84 L117.825 1193.9 Z\" fill=\"#000000\" fill-rule=\"nonzero\" fill-opacity=\"1\" /><path clip-path=\"url(#clip330)\" d=\"M157.177 1166.35 Q153.566 1166.35 151.737 1169.92 Q149.931 1173.46 149.931 1180.59 Q149.931 1187.7 151.737 1191.26 Q153.566 1194.8 157.177 1194.8 Q160.811 1194.8 162.616 1191.26 Q164.445 1187.7 164.445 1180.59 Q164.445 1173.46 162.616 1169.92 Q160.811 1166.35 157.177 1166.35 M157.177 1162.65 Q162.987 1162.65 166.042 1167.26 Q169.121 1171.84 169.121 1180.59 Q169.121 1189.32 166.042 1193.92 Q162.987 1198.51 157.177 1198.51 Q151.366 1198.51 148.288 1193.92 Q145.232 1189.32 145.232 1180.59 Q145.232 1171.84 148.288 1167.26 Q151.366 1162.65 157.177 1162.65 Z\" fill=\"#000000\" fill-rule=\"nonzero\" fill-opacity=\"1\" /><path clip-path=\"url(#clip330)\" d=\"M121.043 993.366 L137.362 993.366 L137.362 997.301 L115.418 997.301 L115.418 993.366 Q118.08 990.611 122.663 985.981 Q127.269 981.329 128.45 979.986 Q130.695 977.463 131.575 975.727 Q132.478 973.968 132.478 972.278 Q132.478 969.523 130.533 967.787 Q128.612 966.051 125.51 966.051 Q123.311 966.051 120.857 966.815 Q118.427 967.579 115.649 969.13 L115.649 964.407 Q118.473 963.273 120.927 962.694 Q123.38 962.116 125.418 962.116 Q130.788 962.116 133.982 964.801 Q137.177 967.486 137.177 971.977 Q137.177 974.106 136.367 976.028 Q135.579 977.926 133.473 980.518 Q132.894 981.19 129.792 984.407 Q126.691 987.602 121.043 993.366 Z\" fill=\"#000000\" fill-rule=\"nonzero\" fill-opacity=\"1\" /><path clip-path=\"url(#clip330)\" d=\"M157.177 965.819 Q153.566 965.819 151.737 969.384 Q149.931 972.926 149.931 980.055 Q149.931 987.162 151.737 990.727 Q153.566 994.268 157.177 994.268 Q160.811 994.268 162.616 990.727 Q164.445 987.162 164.445 980.055 Q164.445 972.926 162.616 969.384 Q160.811 965.819 157.177 965.819 M157.177 962.116 Q162.987 962.116 166.042 966.722 Q169.121 971.306 169.121 980.055 Q169.121 988.782 166.042 993.389 Q162.987 997.972 157.177 997.972 Q151.366 997.972 148.288 993.389 Q145.232 988.782 145.232 980.055 Q145.232 971.306 148.288 966.722 Q151.366 962.116 157.177 962.116 Z\" fill=\"#000000\" fill-rule=\"nonzero\" fill-opacity=\"1\" /><path clip-path=\"url(#clip330)\" d=\"M131.181 778.132 Q134.538 778.849 136.413 781.118 Q138.311 783.386 138.311 786.72 Q138.311 791.835 134.792 794.636 Q131.274 797.437 124.793 797.437 Q122.617 797.437 120.302 796.997 Q118.01 796.581 115.556 795.724 L115.556 791.21 Q117.501 792.345 119.816 792.923 Q122.13 793.502 124.654 793.502 Q129.052 793.502 131.343 791.766 Q133.658 790.03 133.658 786.72 Q133.658 783.664 131.505 781.951 Q129.376 780.215 125.556 780.215 L121.529 780.215 L121.529 776.372 L125.742 776.372 Q129.191 776.372 131.019 775.007 Q132.848 773.618 132.848 771.025 Q132.848 768.363 130.95 766.951 Q129.075 765.516 125.556 765.516 Q123.635 765.516 121.436 765.933 Q119.237 766.349 116.598 767.229 L116.598 763.062 Q119.26 762.322 121.575 761.951 Q123.913 761.581 125.973 761.581 Q131.297 761.581 134.399 764.011 Q137.501 766.419 137.501 770.539 Q137.501 773.409 135.857 775.4 Q134.214 777.368 131.181 778.132 Z\" fill=\"#000000\" fill-rule=\"nonzero\" fill-opacity=\"1\" /><path clip-path=\"url(#clip330)\" d=\"M157.177 765.285 Q153.566 765.285 151.737 768.849 Q149.931 772.391 149.931 779.521 Q149.931 786.627 151.737 790.192 Q153.566 793.733 157.177 793.733 Q160.811 793.733 162.616 790.192 Q164.445 786.627 164.445 779.521 Q164.445 772.391 162.616 768.849 Q160.811 765.285 157.177 765.285 M157.177 761.581 Q162.987 761.581 166.042 766.187 Q169.121 770.771 169.121 779.521 Q169.121 788.247 166.042 792.854 Q162.987 797.437 157.177 797.437 Q151.366 797.437 148.288 792.854 Q145.232 788.247 145.232 779.521 Q145.232 770.771 148.288 766.187 Q151.366 761.581 157.177 761.581 Z\" fill=\"#000000\" fill-rule=\"nonzero\" fill-opacity=\"1\" /><path clip-path=\"url(#clip330)\" d=\"M129.862 565.745 L118.056 584.194 L129.862 584.194 L129.862 565.745 M128.635 561.671 L134.515 561.671 L134.515 584.194 L139.445 584.194 L139.445 588.083 L134.515 588.083 L134.515 596.231 L129.862 596.231 L129.862 588.083 L114.26 588.083 L114.26 583.569 L128.635 561.671 Z\" fill=\"#000000\" fill-rule=\"nonzero\" fill-opacity=\"1\" /><path clip-path=\"url(#clip330)\" d=\"M157.177 564.75 Q153.566 564.75 151.737 568.314 Q149.931 571.856 149.931 578.986 Q149.931 586.092 151.737 589.657 Q153.566 593.199 157.177 593.199 Q160.811 593.199 162.616 589.657 Q164.445 586.092 164.445 578.986 Q164.445 571.856 162.616 568.314 Q160.811 564.75 157.177 564.75 M157.177 561.046 Q162.987 561.046 166.042 565.652 Q169.121 570.236 169.121 578.986 Q169.121 587.712 166.042 592.319 Q162.987 596.902 157.177 596.902 Q151.366 596.902 148.288 592.319 Q145.232 587.712 145.232 578.986 Q145.232 570.236 148.288 565.652 Q151.366 561.046 157.177 561.046 Z\" fill=\"#000000\" fill-rule=\"nonzero\" fill-opacity=\"1\" /><path clip-path=\"url(#clip330)\" d=\"M117.061 361.136 L135.417 361.136 L135.417 365.071 L121.343 365.071 L121.343 373.543 Q122.362 373.196 123.38 373.034 Q124.399 372.849 125.418 372.849 Q131.205 372.849 134.584 376.02 Q137.964 379.191 137.964 384.608 Q137.964 390.187 134.492 393.289 Q131.019 396.367 124.7 396.367 Q122.524 396.367 120.255 395.997 Q118.01 395.627 115.603 394.886 L115.603 390.187 Q117.686 391.321 119.908 391.877 Q122.13 392.432 124.607 392.432 Q128.612 392.432 130.95 390.326 Q133.288 388.219 133.288 384.608 Q133.288 380.997 130.95 378.891 Q128.612 376.784 124.607 376.784 Q122.732 376.784 120.857 377.201 Q119.006 377.617 117.061 378.497 L117.061 361.136 Z\" fill=\"#000000\" fill-rule=\"nonzero\" fill-opacity=\"1\" /><path clip-path=\"url(#clip330)\" d=\"M157.177 364.215 Q153.566 364.215 151.737 367.779 Q149.931 371.321 149.931 378.451 Q149.931 385.557 151.737 389.122 Q153.566 392.664 157.177 392.664 Q160.811 392.664 162.616 389.122 Q164.445 385.557 164.445 378.451 Q164.445 371.321 162.616 367.779 Q160.811 364.215 157.177 364.215 M157.177 360.511 Q162.987 360.511 166.042 365.117 Q169.121 369.701 169.121 378.451 Q169.121 387.178 166.042 391.784 Q162.987 396.367 157.177 396.367 Q151.366 396.367 148.288 391.784 Q145.232 387.178 145.232 378.451 Q145.232 369.701 148.288 365.117 Q151.366 360.511 157.177 360.511 Z\" fill=\"#000000\" fill-rule=\"nonzero\" fill-opacity=\"1\" /><path clip-path=\"url(#clip330)\" d=\"M127.593 176.018 Q124.445 176.018 122.593 178.17 Q120.765 180.323 120.765 184.073 Q120.765 187.8 122.593 189.976 Q124.445 192.129 127.593 192.129 Q130.742 192.129 132.57 189.976 Q134.422 187.8 134.422 184.073 Q134.422 180.323 132.57 178.17 Q130.742 176.018 127.593 176.018 M136.876 161.365 L136.876 165.624 Q135.117 164.791 133.311 164.351 Q131.529 163.911 129.769 163.911 Q125.14 163.911 122.686 167.036 Q120.255 170.161 119.908 176.481 Q121.274 174.467 123.334 173.402 Q125.394 172.314 127.871 172.314 Q133.08 172.314 136.089 175.485 Q139.121 178.633 139.121 184.073 Q139.121 189.397 135.973 192.615 Q132.825 195.832 127.593 195.832 Q121.598 195.832 118.427 191.249 Q115.256 186.643 115.256 177.916 Q115.256 169.721 119.144 164.86 Q123.033 159.976 129.584 159.976 Q131.343 159.976 133.126 160.323 Q134.931 160.671 136.876 161.365 Z\" fill=\"#000000\" fill-rule=\"nonzero\" fill-opacity=\"1\" /><path clip-path=\"url(#clip330)\" d=\"M157.177 163.68 Q153.566 163.68 151.737 167.245 Q149.931 170.786 149.931 177.916 Q149.931 185.022 151.737 188.587 Q153.566 192.129 157.177 192.129 Q160.811 192.129 162.616 188.587 Q164.445 185.022 164.445 177.916 Q164.445 170.786 162.616 167.245 Q160.811 163.68 157.177 163.68 M157.177 159.976 Q162.987 159.976 166.042 164.583 Q169.121 169.166 169.121 177.916 Q169.121 186.643 166.042 191.249 Q162.987 195.832 157.177 195.832 Q151.366 195.832 148.288 191.249 Q145.232 186.643 145.232 177.916 Q145.232 169.166 148.288 164.583 Q151.366 159.976 157.177 159.976 Z\" fill=\"#000000\" fill-rule=\"nonzero\" fill-opacity=\"1\" /><path clip-path=\"url(#clip330)\" d=\"M24.7187 937.85 Q26.49 937.85 27.585 938.977 Q28.68 940.072 28.68 941.457 Q28.68 942.455 28.0681 943.196 Q27.4562 943.905 26.3934 943.905 Q25.2984 943.905 24.139 943.067 Q22.9796 942.23 22.8185 940.33 Q21.6269 941.586 21.6269 943.583 Q21.6269 944.581 22.271 945.418 Q22.883 946.223 23.8813 946.674 Q24.9119 947.157 30.7412 948.252 Q32.6413 948.607 34.4771 948.929 Q36.3128 949.251 38.2451 949.637 L38.2451 944.162 Q38.2451 943.454 38.2774 943.164 Q38.3096 942.874 38.4706 942.649 Q38.6316 942.391 38.9859 942.391 Q39.8876 942.391 40.1131 942.81 Q40.3063 943.196 40.3063 944.355 L40.3063 950.024 L61.2079 953.985 Q61.8198 954.082 63.7522 954.5 Q65.6523 954.887 68.7763 955.821 Q71.9325 956.755 73.8004 957.689 Q74.8632 958.204 75.8616 958.88 Q76.8922 959.524 77.9228 960.458 Q78.9534 961.392 79.5653 962.616 Q80.2094 963.84 80.2094 965.128 Q80.2094 967.318 78.9856 969.025 Q77.7617 970.732 75.6684 970.732 Q73.897 970.732 72.802 969.637 Q71.707 968.51 71.707 967.125 Q71.707 966.127 72.3189 965.418 Q72.9309 964.677 73.9937 964.677 Q74.4445 964.677 74.9598 964.838 Q75.4751 964.999 76.0548 965.354 Q76.6667 965.708 77.0854 966.481 Q77.5041 967.254 77.5685 968.317 Q78.7601 967.061 78.7601 965.128 Q78.7601 964.516 78.5025 963.969 Q78.277 963.421 77.6973 962.97 Q77.1176 962.487 76.5379 962.133 Q75.9904 961.779 74.9276 961.425 Q73.897 961.07 73.1241 960.845 Q72.3512 960.619 70.9663 960.33 Q69.5815 960.008 68.7441 959.847 Q67.939 959.685 66.3609 959.396 L40.3063 954.468 L40.3063 958.816 Q40.3063 959.589 40.2741 959.911 Q40.2419 960.201 40.0809 960.426 Q39.8876 960.652 39.5012 960.652 Q38.8893 960.652 38.6316 960.394 Q38.3418 960.104 38.3096 959.782 Q38.2451 959.46 38.2451 958.687 L38.2451 954.114 Q30.0971 952.568 27.9071 951.956 Q25.5882 951.248 23.978 950.153 Q22.3355 949.058 21.5625 947.834 Q20.7896 946.61 20.4997 945.612 Q20.1777 944.581 20.1777 943.583 Q20.1777 941.328 21.4015 939.589 Q22.5931 937.85 24.7187 937.85 Z\" fill=\"#000000\" fill-rule=\"nonzero\" fill-opacity=\"1\" /><path clip-path=\"url(#clip330)\" d=\"M50.1935 928.97 Q39.0503 928.97 30.0649 924.815 Q26.2968 923.044 23.1406 920.564 Q19.9844 918.084 18.5996 916.442 Q17.2147 914.799 17.2147 914.348 Q17.2147 913.704 17.8588 913.672 Q18.1809 913.672 18.986 914.542 Q29.8072 925.17 50.1935 925.137 Q70.6442 925.137 81.0467 914.799 Q82.1739 913.672 82.5282 913.672 Q83.1723 913.672 83.1723 914.348 Q83.1723 914.799 81.8519 916.377 Q80.5314 917.956 77.5041 920.403 Q74.4767 922.851 70.7731 924.622 Q61.7876 928.97 50.1935 928.97 Z\" fill=\"#000000\" fill-rule=\"nonzero\" fill-opacity=\"1\" /><path clip-path=\"url(#clip330)\" d=\"M83.1723 902.322 L17.2147 902.322 L17.2147 892.371 L18.7284 892.371 L18.7284 897.91 L81.6586 897.91 L81.6586 892.371 L83.1723 892.371 L83.1723 902.322 Z\" fill=\"#000000\" fill-rule=\"nonzero\" fill-opacity=\"1\" /><path clip-path=\"url(#clip330)\" d=\"M29.0343 887.34 L26.9731 887.34 Q26.9731 879.418 22.7541 875.327 Q22.7541 874.2 23.0118 874.007 Q23.2694 873.814 24.461 873.814 L61.4656 873.814 Q63.4301 873.814 64.042 872.848 Q64.654 871.881 64.654 867.662 L64.654 865.569 L66.6829 865.569 Q66.4897 867.888 66.4897 876.261 Q66.4897 884.635 66.6829 886.922 L64.654 886.922 L64.654 884.828 Q64.654 880.674 64.0742 879.675 Q63.4623 878.677 61.4656 878.677 L27.2952 878.677 Q29.0343 882.123 29.0343 887.34 Z\" fill=\"#000000\" fill-rule=\"nonzero\" fill-opacity=\"1\" /><path clip-path=\"url(#clip330)\" d=\"M65.6201 860.428 Q64.5573 861.426 63.1725 861.426 Q61.7876 861.426 60.7893 860.428 Q59.7587 859.429 59.7587 857.916 Q59.7587 856.466 60.7248 855.5 Q61.6588 854.502 63.2047 854.502 Q64.7184 854.502 65.7167 855.565 Q66.6829 856.595 66.6829 857.916 Q66.6829 859.429 65.6201 860.428 Z\" fill=\"#000000\" fill-rule=\"nonzero\" fill-opacity=\"1\" /><path clip-path=\"url(#clip330)\" d=\"M45.5881 843.276 Q35.8941 843.276 30.6124 840.828 Q22.7541 837.414 22.7541 829.363 Q22.7541 827.656 23.2372 825.885 Q23.6881 824.081 25.4594 821.827 Q27.2307 819.54 30.1293 818.155 Q35.7331 815.515 45.5881 815.515 Q55.2176 815.515 60.4672 817.962 Q68.1322 821.537 68.1322 829.427 Q68.1322 832.39 66.6185 835.418 Q65.1048 838.413 61.4656 840.313 Q56.0228 843.276 45.5881 843.276 M44.7829 837.801 Q54.7345 837.801 58.6959 837.092 Q62.9792 836.287 64.8472 834.097 Q66.6829 831.875 66.6829 829.427 Q66.6829 826.787 64.7184 824.597 Q62.7216 822.374 58.4382 821.698 Q54.2193 820.957 44.7829 820.99 Q35.6043 820.99 31.9328 821.634 Q27.6494 822.503 25.9425 824.822 Q24.2034 827.109 24.2034 829.427 Q24.2034 830.297 24.461 831.231 Q24.7187 832.133 25.4594 833.453 Q26.2002 834.774 28.0359 835.804 Q29.8716 836.803 32.6413 837.286 Q36.2162 837.801 44.7829 837.801 Z\" fill=\"#000000\" fill-rule=\"nonzero\" fill-opacity=\"1\" /><path clip-path=\"url(#clip330)\" d=\"M65.6201 809.678 Q64.5573 810.612 63.1725 810.612 Q61.7876 810.612 60.757 809.71 Q59.6943 808.776 59.6943 807.101 Q59.6943 805.137 61.5944 804.01 Q63.4623 802.882 66.6185 802.882 Q70.0323 802.882 73.1885 804.267 Q76.3769 805.652 77.8906 807.005 Q79.4042 808.357 79.4042 808.905 Q79.4042 809.549 78.6957 809.549 Q78.4381 809.549 77.955 809.098 Q72.8664 804.364 66.6185 804.332 Q65.6201 804.332 65.6201 804.461 L65.749 804.622 Q66.6829 805.749 66.6829 807.101 Q66.6829 808.744 65.6201 809.678 Z\" fill=\"#000000\" fill-rule=\"nonzero\" fill-opacity=\"1\" /><path clip-path=\"url(#clip330)\" d=\"M38.1807 754.112 Q38.4062 754.112 39.3724 754.66 Q40.3063 755.175 42.6574 757.075 Q45.0084 758.975 47.7459 761.809 Q48.8087 762.872 50.2901 764.482 Q51.7716 766.093 52.7378 767.188 L53.704 768.283 Q57.2466 772.469 61.2079 776.141 Q61.1113 775.883 61.0791 775.432 Q61.0147 774.982 61.0147 774.659 L61.0147 774.337 Q61.0147 772.663 62.1419 769.732 Q62.9792 767.156 62.9792 765.835 Q62.9792 764.547 62.5284 763.13 Q62.0775 761.713 60.757 760.167 Q59.4366 758.621 57.4398 757.912 Q57.1178 757.784 57.0212 757.719 Q56.8923 757.655 56.7635 757.462 Q56.6025 757.268 56.6025 757.011 Q56.6025 756.656 56.7957 756.431 Q56.989 756.206 57.2466 756.206 Q57.8263 756.206 58.9857 756.656 Q60.1451 757.075 61.5944 758.009 Q63.0437 758.911 64.3641 760.102 Q65.6523 761.262 66.5541 763.001 Q67.4237 764.74 67.4237 766.576 Q67.4237 767.896 66.7795 768.862 Q66.1676 769.829 64.976 770.795 Q63.4623 772.115 62.9792 772.824 Q62.464 773.532 62.464 774.627 Q62.464 777.558 66.5541 780.231 Q67.1338 780.521 67.2626 780.714 Q67.4237 780.875 67.4237 781.262 Q67.3915 782.067 66.7473 782.067 Q66.4897 782.067 65.3625 781.358 Q64.2031 780.618 62.1741 778.975 Q60.1451 777.3 58.1162 775.271 L52.5768 769.346 Q47.0373 762.776 43.9134 760.167 Q43.9134 761.262 43.8812 761.745 Q43.849 762.196 43.6557 763.098 Q43.4303 763.999 42.9472 765.255 Q41.9488 768.186 41.9488 769.41 Q41.9488 769.732 41.981 770.086 Q42.0132 770.441 42.1743 771.246 Q42.3353 772.019 42.6574 772.663 Q42.9472 773.307 43.5913 773.983 Q44.2032 774.659 45.0406 775.014 Q45.2982 775.11 45.4271 775.175 Q45.5559 775.239 45.6847 775.432 Q45.7813 775.593 45.7813 775.851 Q45.7813 776.238 45.5559 776.463 Q45.3304 776.656 45.0406 776.656 Q44.4609 776.656 43.2693 776.077 Q42.0776 775.497 40.7894 774.531 Q39.469 773.564 38.5028 771.986 Q37.5366 770.408 37.5366 768.669 Q37.5366 767.639 37.9875 766.769 Q38.4384 765.867 38.9215 765.416 Q39.3724 764.933 40.3707 764.128 Q41.1437 763.452 41.4657 763.13 Q41.7878 762.808 42.1421 762.164 Q42.4641 761.487 42.4641 760.747 Q42.4641 759.523 41.5301 758.396 Q40.564 757.268 38.2451 755.819 Q37.5366 755.433 37.5366 754.821 Q37.5366 754.112 38.1807 754.112 Z\" fill=\"#000000\" fill-rule=\"nonzero\" fill-opacity=\"1\" /><path clip-path=\"url(#clip330)\" d=\"M65.6201 750.765 Q64.5573 751.699 63.1725 751.699 Q61.7876 751.699 60.757 750.798 Q59.6943 749.864 59.6943 748.189 Q59.6943 746.224 61.5944 745.097 Q63.4623 743.97 66.6185 743.97 Q70.0323 743.97 73.1885 745.355 Q76.3769 746.74 77.8906 748.092 Q79.4042 749.445 79.4042 749.993 Q79.4042 750.637 78.6957 750.637 Q78.4381 750.637 77.955 750.186 Q72.8664 745.452 66.6185 745.419 Q65.6201 745.419 65.6201 745.548 L65.749 745.709 Q66.6829 746.836 66.6829 748.189 Q66.6829 749.832 65.6201 750.765 Z\" fill=\"#000000\" fill-rule=\"nonzero\" fill-opacity=\"1\" /><path clip-path=\"url(#clip330)\" d=\"M38.1807 695.2 Q38.4062 695.2 39.3724 695.747 Q40.3063 696.262 42.6574 698.163 Q45.0084 700.063 47.7459 702.897 Q48.8087 703.96 50.2901 705.57 Q51.7716 707.18 52.7378 708.275 L53.704 709.37 Q57.2466 713.557 61.2079 717.228 Q61.1113 716.971 61.0791 716.52 Q61.0147 716.069 61.0147 715.747 L61.0147 715.425 Q61.0147 713.75 62.1419 710.82 Q62.9792 708.243 62.9792 706.923 Q62.9792 705.634 62.5284 704.217 Q62.0775 702.8 60.757 701.254 Q59.4366 699.709 57.4398 699 Q57.1178 698.871 57.0212 698.807 Q56.8923 698.742 56.7635 698.549 Q56.6025 698.356 56.6025 698.098 Q56.6025 697.744 56.7957 697.519 Q56.989 697.293 57.2466 697.293 Q57.8263 697.293 58.9857 697.744 Q60.1451 698.163 61.5944 699.097 Q63.0437 699.998 64.3641 701.19 Q65.6523 702.349 66.5541 704.089 Q67.4237 705.828 67.4237 707.663 Q67.4237 708.984 66.7795 709.95 Q66.1676 710.916 64.976 711.882 Q63.4623 713.203 62.9792 713.911 Q62.464 714.62 62.464 715.715 Q62.464 718.646 66.5541 721.319 Q67.1338 721.608 67.2626 721.802 Q67.4237 721.963 67.4237 722.349 Q67.3915 723.154 66.7473 723.154 Q66.4897 723.154 65.3625 722.446 Q64.2031 721.705 62.1741 720.063 Q60.1451 718.388 58.1162 716.359 L52.5768 710.433 Q47.0373 703.863 43.9134 701.254 Q43.9134 702.349 43.8812 702.832 Q43.849 703.283 43.6557 704.185 Q43.4303 705.087 42.9472 706.343 Q41.9488 709.274 41.9488 710.497 Q41.9488 710.82 41.981 711.174 Q42.0132 711.528 42.1743 712.333 Q42.3353 713.106 42.6574 713.75 Q42.9472 714.394 43.5913 715.071 Q44.2032 715.747 45.0406 716.101 Q45.2982 716.198 45.4271 716.262 Q45.5559 716.327 45.6847 716.52 Q45.7813 716.681 45.7813 716.939 Q45.7813 717.325 45.5559 717.551 Q45.3304 717.744 45.0406 717.744 Q44.4609 717.744 43.2693 717.164 Q42.0776 716.584 40.7894 715.618 Q39.469 714.652 38.5028 713.074 Q37.5366 711.496 37.5366 709.757 Q37.5366 708.726 37.9875 707.857 Q38.4384 706.955 38.9215 706.504 Q39.3724 706.021 40.3707 705.216 Q41.1437 704.539 41.4657 704.217 Q41.7878 703.895 42.1421 703.251 Q42.4641 702.575 42.4641 701.834 Q42.4641 700.61 41.5301 699.483 Q40.564 698.356 38.2451 696.907 Q37.5366 696.52 37.5366 695.908 Q37.5366 695.2 38.1807 695.2 Z\" fill=\"#000000\" fill-rule=\"nonzero\" fill-opacity=\"1\" /><path clip-path=\"url(#clip330)\" d=\"M46.9462 688.427 Q46.1121 688.427 45.8641 688.359 Q45.6161 688.269 45.2329 687.908 L35.3585 679.049 Q29.9029 674.202 25.1461 674.202 Q22.0575 674.202 19.8482 675.825 Q17.6389 677.425 17.6389 680.379 Q17.6389 682.408 18.8788 684.121 Q20.1187 685.834 22.328 686.623 Q22.283 686.488 22.283 686.015 Q22.283 684.865 23.0044 684.234 Q23.7258 683.58 24.6952 683.58 Q25.9351 683.58 26.5438 684.391 Q27.1299 685.181 27.1299 685.97 Q27.1299 686.285 27.0623 686.714 Q26.9947 687.119 26.3634 687.773 Q25.7097 688.427 24.5599 688.427 Q21.3361 688.427 18.7661 685.992 Q16.196 683.535 16.196 679.792 Q16.196 675.554 18.721 672.781 Q21.2234 669.986 25.1461 669.986 Q26.5212 669.986 27.7837 670.414 Q29.0236 670.82 29.993 671.384 Q30.9624 671.925 32.518 673.412 Q34.0735 674.9 35.1782 676.095 Q36.2828 677.29 38.6274 679.973 L43.3842 684.865 L43.3842 676.546 Q43.3842 672.488 43.0235 672.173 Q42.3698 671.722 38.9205 671.158 L38.9205 669.986 L46.9462 671.293 L46.9462 688.427 Z\" fill=\"#000000\" fill-rule=\"nonzero\" fill-opacity=\"1\" /><path clip-path=\"url(#clip330)\" d=\"M81.6586 663.132 L81.6586 657.593 L18.7284 657.593 L18.7284 663.132 L17.2147 663.132 L17.2147 653.181 L83.1723 653.181 L83.1723 663.132 L81.6586 663.132 Z\" fill=\"#000000\" fill-rule=\"nonzero\" fill-opacity=\"1\" /><path clip-path=\"url(#clip330)\" d=\"M82.5282 642.87 Q82.2061 642.87 81.401 642.033 Q70.5798 631.405 50.1935 631.405 Q29.7428 631.405 19.4047 641.614 Q18.2131 642.87 17.8588 642.87 Q17.2147 642.87 17.2147 642.226 Q17.2147 641.775 18.5352 640.197 Q19.8556 638.587 22.883 636.171 Q25.9103 633.723 29.614 631.92 Q38.5994 627.572 50.1935 627.572 Q61.3368 627.572 70.3222 631.727 Q74.0903 633.498 77.2464 635.978 Q80.4026 638.458 81.7875 640.1 Q83.1723 641.743 83.1723 642.226 Q83.1723 642.87 82.5282 642.87 Z\" fill=\"#000000\" fill-rule=\"nonzero\" fill-opacity=\"1\" /><path clip-path=\"url(#clip330)\" d=\"M50.9987 597.726 Q50.9987 599.24 50.1935 599.24 Q49.3884 599.24 49.3884 597.662 Q49.3884 597.469 49.4206 597.147 Q49.4528 596.792 49.4528 596.728 L49.4528 578.145 L30.8056 578.145 Q30.7412 578.145 30.4513 578.177 Q30.1293 578.209 29.936 578.209 Q28.3579 578.209 28.3579 577.437 Q28.3579 576.631 29.936 576.631 L49.4528 576.631 L49.4528 558.016 Q49.4528 557.952 49.4206 557.63 Q49.3884 557.308 49.3884 557.115 Q49.3884 555.601 50.1935 555.601 Q50.9987 555.569 50.9987 557.179 Q50.9987 557.372 50.9665 557.662 Q50.9343 557.952 50.9343 558.016 L50.9343 576.631 L70.5154 576.631 Q72.0291 576.631 72.0291 577.437 Q72.0291 578.209 70.451 578.209 Q70.2578 578.209 69.9357 578.177 Q69.6459 578.145 69.5815 578.145 L50.9343 578.145 L50.9343 596.728 Q50.9343 596.792 50.9665 597.179 Q50.9987 597.533 50.9987 597.726 Z\" fill=\"#000000\" fill-rule=\"nonzero\" fill-opacity=\"1\" /><path clip-path=\"url(#clip330)\" d=\"M40.564 503.521 Q41.2403 503.521 41.7878 504.101 Q42.3353 504.648 42.3353 505.324 Q42.3353 505.711 41.6912 506.645 Q39.8232 509.318 39.8232 512.7 Q39.8232 515.727 40.564 518.529 Q41.3047 521.331 42.8184 523.231 Q44.2998 525.099 46.2322 525.099 Q48.6476 525.099 50.0647 522.458 Q48.8087 519.721 48.8087 516.339 Q48.8087 515.244 48.8731 514.503 Q48.9375 513.73 49.0985 512.989 Q49.2596 512.249 49.646 511.894 Q50.0003 511.508 50.58 511.508 Q52.6412 511.508 52.6412 516.854 Q52.6412 520.332 51.7072 522.522 Q53.092 525.324 55.3143 526.87 Q57.5365 528.416 59.4366 528.416 Q61.0791 528.416 62.2707 527.514 Q63.4623 526.58 64.042 525.067 Q64.6217 523.521 64.8794 522.007 Q65.1048 520.461 65.1048 518.754 Q65.1048 515.952 64.7506 513.988 Q64.3641 511.991 63.6556 510.896 Q62.947 509.769 62.464 509.318 Q61.9487 508.835 61.1435 508.352 Q60.6926 508.062 60.6926 507.676 Q60.6926 507.386 60.8859 507.192 Q61.0469 506.967 61.3368 506.967 Q61.691 506.967 62.4317 507.418 Q63.1725 507.837 64.1709 508.867 Q65.137 509.866 66.0388 511.25 Q66.9084 512.603 67.5203 514.761 Q68.1322 516.919 68.1322 519.366 Q68.1322 524.358 65.6845 527.257 Q63.2369 530.123 59.8231 530.123 Q57.4398 530.123 54.9922 528.545 Q52.5123 526.935 50.9343 524.101 Q48.9697 526.741 46.2322 526.741 Q43.7846 526.741 41.5946 524.68 Q39.4046 522.587 38.1163 519.205 Q36.7959 515.791 36.7959 512.056 Q36.7959 509.962 37.5044 507.901 Q38.1807 505.84 39.0503 504.68 Q39.9199 503.521 40.564 503.521 M50.6444 513.215 Q50.2579 514.632 50.2579 516.339 Q50.2579 518.658 50.8376 520.365 Q51.1919 518.98 51.1919 516.854 Q51.1919 515.083 51.0953 514.568 Q50.9987 514.02 50.6444 513.215 Z\" fill=\"#000000\" fill-rule=\"nonzero\" fill-opacity=\"1\" /><circle clip-path=\"url(#clip332)\" cx=\"277.846\" cy=\"1361.97\" r=\"14.4\" fill=\"#009af9\" fill-rule=\"evenodd\" fill-opacity=\"1\" stroke=\"#000000\" stroke-opacity=\"1\" stroke-width=\"3.2\"/>\n",
       "<circle clip-path=\"url(#clip332)\" cx=\"892.296\" cy=\"1157.05\" r=\"14.4\" fill=\"#009af9\" fill-rule=\"evenodd\" fill-opacity=\"1\" stroke=\"#000000\" stroke-opacity=\"1\" stroke-width=\"3.2\"/>\n",
       "<circle clip-path=\"url(#clip332)\" cx=\"1891.03\" cy=\"505.429\" r=\"14.4\" fill=\"#009af9\" fill-rule=\"evenodd\" fill-opacity=\"1\" stroke=\"#000000\" stroke-opacity=\"1\" stroke-width=\"3.2\"/>\n",
       "<circle clip-path=\"url(#clip332)\" cx=\"461.333\" cy=\"1289.32\" r=\"14.4\" fill=\"#009af9\" fill-rule=\"evenodd\" fill-opacity=\"1\" stroke=\"#000000\" stroke-opacity=\"1\" stroke-width=\"3.2\"/>\n",
       "<circle clip-path=\"url(#clip332)\" cx=\"1171.42\" cy=\"1043.54\" r=\"14.4\" fill=\"#009af9\" fill-rule=\"evenodd\" fill-opacity=\"1\" stroke=\"#000000\" stroke-opacity=\"1\" stroke-width=\"3.2\"/>\n",
       "<circle clip-path=\"url(#clip332)\" cx=\"351.081\" cy=\"1302.59\" r=\"14.4\" fill=\"#009af9\" fill-rule=\"evenodd\" fill-opacity=\"1\" stroke=\"#000000\" stroke-opacity=\"1\" stroke-width=\"3.2\"/>\n",
       "<circle clip-path=\"url(#clip332)\" cx=\"537.583\" cy=\"1285.81\" r=\"14.4\" fill=\"#009af9\" fill-rule=\"evenodd\" fill-opacity=\"1\" stroke=\"#000000\" stroke-opacity=\"1\" stroke-width=\"3.2\"/>\n",
       "<circle clip-path=\"url(#clip332)\" cx=\"1226.39\" cy=\"998.99\" r=\"14.4\" fill=\"#009af9\" fill-rule=\"evenodd\" fill-opacity=\"1\" stroke=\"#000000\" stroke-opacity=\"1\" stroke-width=\"3.2\"/>\n",
       "<circle clip-path=\"url(#clip332)\" cx=\"500.077\" cy=\"1316.85\" r=\"14.4\" fill=\"#009af9\" fill-rule=\"evenodd\" fill-opacity=\"1\" stroke=\"#000000\" stroke-opacity=\"1\" stroke-width=\"3.2\"/>\n",
       "<circle clip-path=\"url(#clip332)\" cx=\"747.776\" cy=\"1234.49\" r=\"14.4\" fill=\"#009af9\" fill-rule=\"evenodd\" fill-opacity=\"1\" stroke=\"#000000\" stroke-opacity=\"1\" stroke-width=\"3.2\"/>\n",
       "<circle clip-path=\"url(#clip332)\" cx=\"463.452\" cy=\"1320.02\" r=\"14.4\" fill=\"#009af9\" fill-rule=\"evenodd\" fill-opacity=\"1\" stroke=\"#000000\" stroke-opacity=\"1\" stroke-width=\"3.2\"/>\n",
       "<circle clip-path=\"url(#clip332)\" cx=\"1650.29\" cy=\"689.344\" r=\"14.4\" fill=\"#009af9\" fill-rule=\"evenodd\" fill-opacity=\"1\" stroke=\"#000000\" stroke-opacity=\"1\" stroke-width=\"3.2\"/>\n",
       "<circle clip-path=\"url(#clip332)\" cx=\"1909.32\" cy=\"476.312\" r=\"14.4\" fill=\"#009af9\" fill-rule=\"evenodd\" fill-opacity=\"1\" stroke=\"#000000\" stroke-opacity=\"1\" stroke-width=\"3.2\"/>\n",
       "<circle clip-path=\"url(#clip332)\" cx=\"1380.63\" cy=\"821.531\" r=\"14.4\" fill=\"#009af9\" fill-rule=\"evenodd\" fill-opacity=\"1\" stroke=\"#000000\" stroke-opacity=\"1\" stroke-width=\"3.2\"/>\n",
       "<circle clip-path=\"url(#clip332)\" cx=\"703.516\" cy=\"1203.95\" r=\"14.4\" fill=\"#009af9\" fill-rule=\"evenodd\" fill-opacity=\"1\" stroke=\"#000000\" stroke-opacity=\"1\" stroke-width=\"3.2\"/>\n",
       "<circle clip-path=\"url(#clip332)\" cx=\"937.595\" cy=\"1145.56\" r=\"14.4\" fill=\"#009af9\" fill-rule=\"evenodd\" fill-opacity=\"1\" stroke=\"#000000\" stroke-opacity=\"1\" stroke-width=\"3.2\"/>\n",
       "<circle clip-path=\"url(#clip332)\" cx=\"1470.93\" cy=\"799.535\" r=\"14.4\" fill=\"#009af9\" fill-rule=\"evenodd\" fill-opacity=\"1\" stroke=\"#000000\" stroke-opacity=\"1\" stroke-width=\"3.2\"/>\n",
       "<circle clip-path=\"url(#clip332)\" cx=\"886.307\" cy=\"1174.84\" r=\"14.4\" fill=\"#009af9\" fill-rule=\"evenodd\" fill-opacity=\"1\" stroke=\"#000000\" stroke-opacity=\"1\" stroke-width=\"3.2\"/>\n",
       "<circle clip-path=\"url(#clip332)\" cx=\"508.994\" cy=\"1301.89\" r=\"14.4\" fill=\"#009af9\" fill-rule=\"evenodd\" fill-opacity=\"1\" stroke=\"#000000\" stroke-opacity=\"1\" stroke-width=\"3.2\"/>\n",
       "<circle clip-path=\"url(#clip332)\" cx=\"1083.11\" cy=\"1043.39\" r=\"14.4\" fill=\"#009af9\" fill-rule=\"evenodd\" fill-opacity=\"1\" stroke=\"#000000\" stroke-opacity=\"1\" stroke-width=\"3.2\"/>\n",
       "<circle clip-path=\"url(#clip332)\" cx=\"1795.31\" cy=\"576.128\" r=\"14.4\" fill=\"#009af9\" fill-rule=\"evenodd\" fill-opacity=\"1\" stroke=\"#000000\" stroke-opacity=\"1\" stroke-width=\"3.2\"/>\n",
       "<circle clip-path=\"url(#clip332)\" cx=\"1784.73\" cy=\"578.038\" r=\"14.4\" fill=\"#009af9\" fill-rule=\"evenodd\" fill-opacity=\"1\" stroke=\"#000000\" stroke-opacity=\"1\" stroke-width=\"3.2\"/>\n",
       "<circle clip-path=\"url(#clip332)\" cx=\"1878.64\" cy=\"555.098\" r=\"14.4\" fill=\"#009af9\" fill-rule=\"evenodd\" fill-opacity=\"1\" stroke=\"#000000\" stroke-opacity=\"1\" stroke-width=\"3.2\"/>\n",
       "<circle clip-path=\"url(#clip332)\" cx=\"1929.1\" cy=\"491.18\" r=\"14.4\" fill=\"#009af9\" fill-rule=\"evenodd\" fill-opacity=\"1\" stroke=\"#000000\" stroke-opacity=\"1\" stroke-width=\"3.2\"/>\n",
       "<circle clip-path=\"url(#clip332)\" cx=\"392.201\" cy=\"1335.88\" r=\"14.4\" fill=\"#009af9\" fill-rule=\"evenodd\" fill-opacity=\"1\" stroke=\"#000000\" stroke-opacity=\"1\" stroke-width=\"3.2\"/>\n",
       "<circle clip-path=\"url(#clip332)\" cx=\"1793.82\" cy=\"593.787\" r=\"14.4\" fill=\"#009af9\" fill-rule=\"evenodd\" fill-opacity=\"1\" stroke=\"#000000\" stroke-opacity=\"1\" stroke-width=\"3.2\"/>\n",
       "<circle clip-path=\"url(#clip332)\" cx=\"1714.81\" cy=\"647.797\" r=\"14.4\" fill=\"#009af9\" fill-rule=\"evenodd\" fill-opacity=\"1\" stroke=\"#000000\" stroke-opacity=\"1\" stroke-width=\"3.2\"/>\n",
       "<circle clip-path=\"url(#clip332)\" cx=\"668.946\" cy=\"1267.85\" r=\"14.4\" fill=\"#009af9\" fill-rule=\"evenodd\" fill-opacity=\"1\" stroke=\"#000000\" stroke-opacity=\"1\" stroke-width=\"3.2\"/>\n",
       "<circle clip-path=\"url(#clip332)\" cx=\"979.128\" cy=\"1105.33\" r=\"14.4\" fill=\"#009af9\" fill-rule=\"evenodd\" fill-opacity=\"1\" stroke=\"#000000\" stroke-opacity=\"1\" stroke-width=\"3.2\"/>\n",
       "<circle clip-path=\"url(#clip332)\" cx=\"315.408\" cy=\"1343.49\" r=\"14.4\" fill=\"#009af9\" fill-rule=\"evenodd\" fill-opacity=\"1\" stroke=\"#000000\" stroke-opacity=\"1\" stroke-width=\"3.2\"/>\n",
       "<polyline clip-path=\"url(#clip332)\" style=\"stroke:#e26f46; stroke-linecap:round; stroke-linejoin:round; stroke-width:4; stroke-opacity:0.3; fill:none\" points=\"265.903,1347.77 299.671,1341.32 333.439,1334.41 367.207,1327.03 400.974,1319.18 434.742,1310.87 468.51,1302.1 502.278,1292.86 536.046,1283.15 569.814,1272.98 603.582,1262.35 637.349,1251.25 671.117,1239.68 704.885,1227.65 738.653,1215.16 772.421,1202.19 806.189,1188.77 839.956,1174.88 873.724,1160.52 907.492,1145.7 941.26,1130.41 975.028,1114.66 1008.8,1098.44 1042.56,1081.76 1076.33,1064.61 1110.1,1047 1143.87,1028.92 1177.63,1010.37 1211.4,991.365 1245.17,971.891 1278.94,951.952 1312.71,931.547 1346.47,910.678 1380.24,889.343 1414.01,867.543 1447.78,845.278 1481.55,822.548 1515.31,799.353 1549.08,775.692 1582.85,751.566 1616.62,726.975 1650.38,701.919 1684.15,676.398 1717.92,650.411 1751.69,623.96 1785.46,597.043 1819.22,569.661 1852.99,541.814 1886.76,513.501 1920.53,484.724 1954.3,455.481 1988.06,425.773 2021.83,395.6 2055.6,364.961 2089.37,333.858 2123.13,302.289 2156.9,270.255 2190.67,237.756 2224.44,204.792 2258.21,171.362 2291.97,137.468 \"/>\n",
       "<polyline clip-path=\"url(#clip332)\" style=\"stroke:#3da44d; stroke-linecap:round; stroke-linejoin:round; stroke-width:4; stroke-opacity:0.3; fill:none\" points=\"265.903,1348.27 299.671,1342.29 333.439,1335.79 367.207,1328.79 400.974,1321.27 434.742,1313.25 468.51,1304.71 502.278,1295.67 536.046,1286.11 569.814,1276.05 603.582,1265.47 637.349,1254.38 671.117,1242.79 704.885,1230.68 738.653,1218.06 772.421,1204.94 806.189,1191.3 839.956,1177.15 873.724,1162.5 907.492,1147.33 941.26,1131.65 975.028,1115.46 1008.8,1098.76 1042.56,1081.56 1076.33,1063.84 1110.1,1045.61 1143.87,1026.87 1177.63,1007.62 1211.4,987.861 1245.17,967.591 1278.94,946.812 1312.71,925.522 1346.47,903.722 1380.24,881.412 1414.01,858.591 1447.78,835.261 1481.55,811.42 1515.31,787.069 1549.08,762.208 1582.85,736.836 1616.62,710.955 1650.38,684.563 1684.15,657.661 1717.92,630.249 1751.69,602.327 1785.46,573.894 1819.22,544.952 1852.99,515.499 1886.76,485.536 1920.53,455.063 1954.3,424.08 1988.06,392.586 2021.83,360.582 2055.6,328.068 2089.37,295.044 2123.13,261.51 2156.9,227.465 2190.67,192.911 2224.44,157.846 2258.21,122.271 2291.97,86.1857 \"/>\n",
       "<polyline clip-path=\"url(#clip332)\" style=\"stroke:#c271d2; stroke-linecap:round; stroke-linejoin:round; stroke-width:4; stroke-opacity:0.3; fill:none\" points=\"265.903,1342.37 299.671,1336.52 333.439,1330.18 367.207,1323.36 400.974,1316.05 434.742,1308.26 468.51,1299.98 502.278,1291.21 536.046,1281.96 569.814,1272.22 603.582,1262 637.349,1251.29 671.117,1240.09 704.885,1228.41 738.653,1216.25 772.421,1203.6 806.189,1190.46 839.956,1176.83 873.724,1162.73 907.492,1148.13 941.26,1133.05 975.028,1117.48 1008.8,1101.43 1042.56,1084.89 1076.33,1067.87 1110.1,1050.36 1143.87,1032.36 1177.63,1013.88 1211.4,994.912 1245.17,975.458 1278.94,955.519 1312.71,935.094 1346.47,914.184 1380.24,892.787 1414.01,870.905 1447.78,848.537 1481.55,825.683 1515.31,802.343 1549.08,778.517 1582.85,754.206 1616.62,729.409 1650.38,704.126 1684.15,678.357 1717.92,652.102 1751.69,625.362 1785.46,598.136 1819.22,570.424 1852.99,542.226 1886.76,513.542 1920.53,484.373 1954.3,454.718 1988.06,424.577 2021.83,393.95 2055.6,362.837 2089.37,331.239 2123.13,299.154 2156.9,266.584 2190.67,233.528 2224.44,199.987 2258.21,165.959 2291.97,131.446 \"/>\n",
       "<polyline clip-path=\"url(#clip332)\" style=\"stroke:#ac8d18; stroke-linecap:round; stroke-linejoin:round; stroke-width:4; stroke-opacity:0.3; fill:none\" points=\"265.903,1375.84 299.671,1366.75 333.439,1357.28 367.207,1347.43 400.974,1337.2 434.742,1326.59 468.51,1315.6 502.278,1304.24 536.046,1292.49 569.814,1280.37 603.582,1267.86 637.349,1254.98 671.117,1241.72 704.885,1228.08 738.653,1214.06 772.421,1199.67 806.189,1184.89 839.956,1169.73 873.724,1154.2 907.492,1138.29 941.26,1121.99 975.028,1105.32 1008.8,1088.27 1042.56,1070.84 1076.33,1053.03 1110.1,1034.85 1143.87,1016.28 1177.63,997.338 1211.4,978.014 1245.17,958.311 1278.94,938.23 1312.71,917.77 1346.47,896.931 1380.24,875.712 1414.01,854.115 1447.78,832.14 1481.55,809.785 1515.31,787.051 1549.08,763.938 1582.85,740.447 1616.62,716.576 1650.38,692.327 1684.15,667.698 1717.92,642.691 1751.69,617.305 1785.46,591.54 1819.22,565.396 1852.99,538.873 1886.76,511.971 1920.53,484.691 1954.3,457.031 1988.06,428.992 2021.83,400.575 2055.6,371.779 2089.37,342.603 2123.13,313.049 2156.9,283.116 2190.67,252.804 2224.44,222.113 2258.21,191.043 2291.97,159.595 \"/>\n",
       "<polyline clip-path=\"url(#clip332)\" style=\"stroke:#00a9ad; stroke-linecap:round; stroke-linejoin:round; stroke-width:4; stroke-opacity:0.3; fill:none\" points=\"265.903,1359.34 299.671,1352.4 333.439,1345 367.207,1337.13 400.974,1328.8 434.742,1320 468.51,1310.74 502.278,1301.02 536.046,1290.83 569.814,1280.17 603.582,1269.05 637.349,1257.47 671.117,1245.42 704.885,1232.91 738.653,1219.94 772.421,1206.5 806.189,1192.59 839.956,1178.22 873.724,1163.39 907.492,1148.09 941.26,1132.33 975.028,1116.11 1008.8,1099.41 1042.56,1082.26 1076.33,1064.64 1110.1,1046.56 1143.87,1028.01 1177.63,1008.99 1211.4,989.517 1245.17,969.576 1278.94,949.17 1312.71,928.299 1346.47,906.965 1380.24,885.165 1414.01,862.902 1447.78,840.174 1481.55,816.982 1515.31,793.325 1549.08,769.204 1582.85,744.618 1616.62,719.568 1650.38,694.054 1684.15,668.075 1717.92,641.632 1751.69,614.724 1785.46,587.352 1819.22,559.516 1852.99,531.215 1886.76,502.45 1920.53,473.221 1954.3,443.527 1988.06,413.368 2021.83,382.746 2055.6,351.658 2089.37,320.107 2123.13,288.091 2156.9,255.611 2190.67,222.666 2224.44,189.257 2258.21,155.383 2291.97,121.045 \"/>\n",
       "<polyline clip-path=\"url(#clip332)\" style=\"stroke:#ed5d92; stroke-linecap:round; stroke-linejoin:round; stroke-width:4; stroke-opacity:0.3; fill:none\" points=\"265.903,1333.27 299.671,1327.49 333.439,1321.23 367.207,1314.48 400.974,1307.24 434.742,1299.53 468.51,1291.32 502.278,1282.64 536.046,1273.46 569.814,1263.81 603.582,1253.67 637.349,1243.04 671.117,1231.93 704.885,1220.34 738.653,1208.26 772.421,1195.7 806.189,1182.65 839.956,1169.12 873.724,1155.11 907.492,1140.6 941.26,1125.62 975.028,1110.15 1008.8,1094.2 1042.56,1077.76 1076.33,1060.84 1110.1,1043.43 1143.87,1025.54 1177.63,1007.16 1211.4,988.3 1245.17,968.956 1278.94,949.126 1312.71,928.812 1346.47,908.014 1380.24,886.731 1414.01,864.964 1447.78,842.712 1481.55,819.976 1515.31,796.756 1549.08,773.051 1582.85,748.861 1616.62,724.187 1650.38,699.029 1684.15,673.386 1717.92,647.259 1751.69,620.647 1785.46,593.551 1819.22,565.97 1852.99,537.905 1886.76,509.356 1920.53,480.322 1954.3,450.803 1988.06,420.8 2021.83,390.313 2055.6,359.341 2089.37,327.885 2123.13,295.944 2156.9,263.519 2190.67,230.609 2224.44,197.215 2258.21,163.337 2291.97,128.974 \"/>\n",
       "<polyline clip-path=\"url(#clip332)\" style=\"stroke:#c68125; stroke-linecap:round; stroke-linejoin:round; stroke-width:4; stroke-opacity:0.3; fill:none\" points=\"265.903,1365.04 299.671,1357.73 333.439,1349.96 367.207,1341.73 400.974,1333.04 434.742,1323.89 468.51,1314.28 502.278,1304.22 536.046,1293.69 569.814,1282.71 603.582,1271.27 637.349,1259.36 671.117,1247 704.885,1234.19 738.653,1220.91 772.421,1207.17 806.189,1192.97 839.956,1178.32 873.724,1163.21 907.492,1147.64 941.26,1131.6 975.028,1115.11 1008.8,1098.17 1042.56,1080.76 1076.33,1062.89 1110.1,1044.57 1143.87,1025.78 1177.63,1006.54 1211.4,986.836 1245.17,966.676 1278.94,946.056 1312.71,924.977 1346.47,903.44 1380.24,881.444 1414.01,858.988 1447.78,836.074 1481.55,812.702 1515.31,788.87 1549.08,764.579 1582.85,739.83 1616.62,714.621 1650.38,688.954 1684.15,662.828 1717.92,636.243 1751.69,609.199 1785.46,581.697 1819.22,553.735 1852.99,525.315 1886.76,496.436 1920.53,467.098 1954.3,437.301 1988.06,407.045 2021.83,376.33 2055.6,345.157 2089.37,313.524 2123.13,281.433 2156.9,248.883 2190.67,215.874 2224.44,182.406 2258.21,148.479 2291.97,114.093 \"/>\n",
       "<polyline clip-path=\"url(#clip332)\" style=\"stroke:#00a98d; stroke-linecap:round; stroke-linejoin:round; stroke-width:4; stroke-opacity:0.3; fill:none\" points=\"265.903,1354.5 299.671,1346.32 333.439,1337.72 367.207,1328.72 400.974,1319.3 434.742,1309.47 468.51,1299.23 502.278,1288.58 536.046,1277.52 569.814,1266.04 603.582,1254.16 637.349,1241.86 671.117,1229.16 704.885,1216.04 738.653,1202.51 772.421,1188.56 806.189,1174.21 839.956,1159.45 873.724,1144.27 907.492,1128.68 941.26,1112.69 975.028,1096.28 1008.8,1079.46 1042.56,1062.22 1076.33,1044.58 1110.1,1026.53 1143.87,1008.06 1177.63,989.182 1211.4,969.894 1245.17,950.194 1278.94,930.083 1312.71,909.56 1346.47,888.626 1380.24,867.281 1414.01,845.525 1447.78,823.357 1481.55,800.778 1515.31,777.788 1549.08,754.386 1582.85,730.573 1616.62,706.349 1650.38,681.713 1684.15,656.667 1717.92,631.208 1751.69,605.339 1785.46,579.058 1819.22,552.366 1852.99,525.263 1886.76,497.748 1920.53,469.822 1954.3,441.485 1988.06,412.737 2021.83,383.577 2055.6,354.006 2089.37,324.023 2123.13,293.629 2156.9,262.824 2190.67,231.608 2224.44,199.98 2258.21,167.941 2291.97,135.491 \"/>\n",
       "<polyline clip-path=\"url(#clip332)\" style=\"stroke:#8e971d; stroke-linecap:round; stroke-linejoin:round; stroke-width:4; stroke-opacity:0.3; fill:none\" points=\"265.903,1384.24 299.671,1375.74 333.439,1366.82 367.207,1357.49 400.974,1347.75 434.742,1337.59 468.51,1327.03 502.278,1316.05 536.046,1304.65 569.814,1292.84 603.582,1280.62 637.349,1267.99 671.117,1254.94 704.885,1241.48 738.653,1227.61 772.421,1213.33 806.189,1198.63 839.956,1183.51 873.724,1167.99 907.492,1152.05 941.26,1135.7 975.028,1118.94 1008.8,1101.76 1042.56,1084.17 1076.33,1066.17 1110.1,1047.75 1143.87,1028.92 1177.63,1009.68 1211.4,990.02 1245.17,969.951 1278.94,949.469 1312.71,928.574 1346.47,907.266 1380.24,885.545 1414.01,863.411 1447.78,840.863 1481.55,817.903 1515.31,794.529 1549.08,770.743 1582.85,746.543 1616.62,721.93 1650.38,696.904 1684.15,671.465 1717.92,645.613 1751.69,619.348 1785.46,592.67 1819.22,565.579 1852.99,538.074 1886.76,510.157 1920.53,481.826 1954.3,453.083 1988.06,423.926 2021.83,394.356 2055.6,364.373 2089.37,333.977 2123.13,303.168 2156.9,271.946 2190.67,240.311 2224.44,208.263 2258.21,175.801 2291.97,142.927 \"/>\n",
       "<polyline clip-path=\"url(#clip332)\" style=\"stroke:#00a8cb; stroke-linecap:round; stroke-linejoin:round; stroke-width:4; stroke-opacity:0.3; fill:none\" points=\"265.903,1361.43 299.671,1353.4 333.439,1344.96 367.207,1336.09 400.974,1326.8 434.742,1317.09 468.51,1306.96 502.278,1296.4 536.046,1285.43 569.814,1274.03 603.582,1262.21 637.349,1249.98 671.117,1237.31 704.885,1224.23 738.653,1210.73 772.421,1196.8 806.189,1182.46 839.956,1167.69 873.724,1152.5 907.492,1136.89 941.26,1120.86 975.028,1104.4 1008.8,1087.53 1042.56,1070.23 1076.33,1052.51 1110.1,1034.37 1143.87,1015.81 1177.63,996.829 1211.4,977.425 1245.17,957.6 1278.94,937.353 1312.71,916.685 1346.47,895.595 1380.24,874.084 1414.01,852.151 1447.78,829.797 1481.55,807.022 1515.31,783.825 1549.08,760.206 1582.85,736.166 1616.62,711.705 1650.38,686.822 1684.15,661.518 1717.92,635.792 1751.69,609.645 1785.46,583.076 1819.22,556.086 1852.99,528.675 1886.76,500.842 1920.53,472.588 1954.3,443.912 1988.06,414.814 2021.83,385.296 2055.6,355.355 2089.37,324.994 2123.13,294.211 2156.9,263.006 2190.67,231.38 2224.44,199.333 2258.21,166.864 2291.97,133.974 \"/>\n",
       "<path clip-path=\"url(#clip330)\" d=\"M276.709 196.789 L591.333 196.789 L591.333 93.1086 L276.709 93.1086  Z\" fill=\"#ffffff\" fill-rule=\"evenodd\" fill-opacity=\"1\"/>\n",
       "<polyline clip-path=\"url(#clip330)\" style=\"stroke:#000000; stroke-linecap:round; stroke-linejoin:round; stroke-width:4; stroke-opacity:1; fill:none\" points=\"276.709,196.789 591.333,196.789 591.333,93.1086 276.709,93.1086 276.709,196.789 \"/>\n",
       "<circle clip-path=\"url(#clip330)\" cx=\"372.159\" cy=\"144.949\" r=\"20.48\" fill=\"#009af9\" fill-rule=\"evenodd\" fill-opacity=\"1\" stroke=\"#000000\" stroke-opacity=\"1\" stroke-width=\"4.55111\"/>\n",
       "<path clip-path=\"url(#clip330)\" d=\"M486.522 140.238 L486.522 126.21 L490.781 126.21 L490.781 162.229 L486.522 162.229 L486.522 158.34 Q485.179 160.655 483.119 161.789 Q481.082 162.9 478.211 162.9 Q473.512 162.9 470.549 159.15 Q467.61 155.4 467.61 149.289 Q467.61 143.178 470.549 139.428 Q473.512 135.678 478.211 135.678 Q481.082 135.678 483.119 136.812 Q485.179 137.923 486.522 140.238 M472.008 149.289 Q472.008 153.988 473.929 156.673 Q475.874 159.335 479.253 159.335 Q482.633 159.335 484.577 156.673 Q486.522 153.988 486.522 149.289 Q486.522 144.59 484.577 141.928 Q482.633 139.243 479.253 139.243 Q475.874 139.243 473.929 141.928 Q472.008 144.59 472.008 149.289 Z\" fill=\"#000000\" fill-rule=\"nonzero\" fill-opacity=\"1\" /><path clip-path=\"url(#clip330)\" d=\"M511.336 149.196 Q506.174 149.196 504.184 150.377 Q502.193 151.557 502.193 154.405 Q502.193 156.673 503.674 158.016 Q505.179 159.335 507.748 159.335 Q511.29 159.335 513.42 156.835 Q515.572 154.312 515.572 150.145 L515.572 149.196 L511.336 149.196 M519.832 147.437 L519.832 162.229 L515.572 162.229 L515.572 158.293 Q514.114 160.655 511.938 161.789 Q509.762 162.9 506.614 162.9 Q502.633 162.9 500.272 160.678 Q497.934 158.432 497.934 154.682 Q497.934 150.307 500.85 148.085 Q503.79 145.863 509.6 145.863 L515.572 145.863 L515.572 145.446 Q515.572 142.507 513.628 140.909 Q511.707 139.289 508.211 139.289 Q505.989 139.289 503.883 139.821 Q501.776 140.354 499.832 141.419 L499.832 137.483 Q502.17 136.581 504.369 136.141 Q506.568 135.678 508.651 135.678 Q514.276 135.678 517.054 138.594 Q519.832 141.511 519.832 147.437 Z\" fill=\"#000000\" fill-rule=\"nonzero\" fill-opacity=\"1\" /><path clip-path=\"url(#clip330)\" d=\"M532.818 128.942 L532.818 136.303 L541.591 136.303 L541.591 139.613 L532.818 139.613 L532.818 153.687 Q532.818 156.858 533.674 157.761 Q534.554 158.664 537.216 158.664 L541.591 158.664 L541.591 162.229 L537.216 162.229 Q532.285 162.229 530.41 160.4 Q528.535 158.548 528.535 153.687 L528.535 139.613 L525.41 139.613 L525.41 136.303 L528.535 136.303 L528.535 128.942 L532.818 128.942 Z\" fill=\"#000000\" fill-rule=\"nonzero\" fill-opacity=\"1\" /><path clip-path=\"url(#clip330)\" d=\"M558.975 149.196 Q553.813 149.196 551.822 150.377 Q549.831 151.557 549.831 154.405 Q549.831 156.673 551.313 158.016 Q552.818 159.335 555.387 159.335 Q558.929 159.335 561.058 156.835 Q563.211 154.312 563.211 150.145 L563.211 149.196 L558.975 149.196 M567.47 147.437 L567.47 162.229 L563.211 162.229 L563.211 158.293 Q561.753 160.655 559.577 161.789 Q557.401 162.9 554.253 162.9 Q550.271 162.9 547.91 160.678 Q545.572 158.432 545.572 154.682 Q545.572 150.307 548.489 148.085 Q551.429 145.863 557.239 145.863 L563.211 145.863 L563.211 145.446 Q563.211 142.507 561.267 140.909 Q559.345 139.289 555.85 139.289 Q553.628 139.289 551.521 139.821 Q549.415 140.354 547.47 141.419 L547.47 137.483 Q549.808 136.581 552.007 136.141 Q554.206 135.678 556.29 135.678 Q561.915 135.678 564.693 138.594 Q567.47 141.511 567.47 147.437 Z\" fill=\"#000000\" fill-rule=\"nonzero\" fill-opacity=\"1\" /></svg>\n"
      ],
      "text/html": [
       "<?xml version=\"1.0\" encoding=\"utf-8\"?>\n",
       "<svg xmlns=\"http://www.w3.org/2000/svg\" xmlns:xlink=\"http://www.w3.org/1999/xlink\" width=\"600\" height=\"400\" viewBox=\"0 0 2400 1600\">\n",
       "<defs>\n",
       "  <clipPath id=\"clip380\">\n",
       "    <rect x=\"0\" y=\"0\" width=\"2400\" height=\"1600\"/>\n",
       "  </clipPath>\n",
       "</defs>\n",
       "<path clip-path=\"url(#clip380)\" d=\"M0 1600 L2400 1600 L2400 0 L0 0  Z\" fill=\"#ffffff\" fill-rule=\"evenodd\" fill-opacity=\"1\"/>\n",
       "<defs>\n",
       "  <clipPath id=\"clip381\">\n",
       "    <rect x=\"480\" y=\"0\" width=\"1681\" height=\"1600\"/>\n",
       "  </clipPath>\n",
       "</defs>\n",
       "<path clip-path=\"url(#clip380)\" d=\"M205.121 1423.18 L2352.76 1423.18 L2352.76 47.2441 L205.121 47.2441  Z\" fill=\"#ffffff\" fill-rule=\"evenodd\" fill-opacity=\"1\"/>\n",
       "<defs>\n",
       "  <clipPath id=\"clip382\">\n",
       "    <rect x=\"205\" y=\"47\" width=\"2149\" height=\"1377\"/>\n",
       "  </clipPath>\n",
       "</defs>\n",
       "<polyline clip-path=\"url(#clip382)\" style=\"stroke:#000000; stroke-linecap:round; stroke-linejoin:round; stroke-width:2; stroke-opacity:0.1; fill:none\" points=\"265.903,1423.18 265.903,47.2441 \"/>\n",
       "<polyline clip-path=\"url(#clip382)\" style=\"stroke:#000000; stroke-linecap:round; stroke-linejoin:round; stroke-width:2; stroke-opacity:0.1; fill:none\" points=\"688.001,1423.18 688.001,47.2441 \"/>\n",
       "<polyline clip-path=\"url(#clip382)\" style=\"stroke:#000000; stroke-linecap:round; stroke-linejoin:round; stroke-width:2; stroke-opacity:0.1; fill:none\" points=\"1110.1,1423.18 1110.1,47.2441 \"/>\n",
       "<polyline clip-path=\"url(#clip382)\" style=\"stroke:#000000; stroke-linecap:round; stroke-linejoin:round; stroke-width:2; stroke-opacity:0.1; fill:none\" points=\"1532.2,1423.18 1532.2,47.2441 \"/>\n",
       "<polyline clip-path=\"url(#clip382)\" style=\"stroke:#000000; stroke-linecap:round; stroke-linejoin:round; stroke-width:2; stroke-opacity:0.1; fill:none\" points=\"1954.3,1423.18 1954.3,47.2441 \"/>\n",
       "<polyline clip-path=\"url(#clip380)\" style=\"stroke:#000000; stroke-linecap:round; stroke-linejoin:round; stroke-width:4; stroke-opacity:1; fill:none\" points=\"205.121,1423.18 2352.76,1423.18 \"/>\n",
       "<polyline clip-path=\"url(#clip380)\" style=\"stroke:#000000; stroke-linecap:round; stroke-linejoin:round; stroke-width:4; stroke-opacity:1; fill:none\" points=\"265.903,1423.18 265.903,1404.28 \"/>\n",
       "<polyline clip-path=\"url(#clip380)\" style=\"stroke:#000000; stroke-linecap:round; stroke-linejoin:round; stroke-width:4; stroke-opacity:1; fill:none\" points=\"688.001,1423.18 688.001,1404.28 \"/>\n",
       "<polyline clip-path=\"url(#clip380)\" style=\"stroke:#000000; stroke-linecap:round; stroke-linejoin:round; stroke-width:4; stroke-opacity:1; fill:none\" points=\"1110.1,1423.18 1110.1,1404.28 \"/>\n",
       "<polyline clip-path=\"url(#clip380)\" style=\"stroke:#000000; stroke-linecap:round; stroke-linejoin:round; stroke-width:4; stroke-opacity:1; fill:none\" points=\"1532.2,1423.18 1532.2,1404.28 \"/>\n",
       "<polyline clip-path=\"url(#clip380)\" style=\"stroke:#000000; stroke-linecap:round; stroke-linejoin:round; stroke-width:4; stroke-opacity:1; fill:none\" points=\"1954.3,1423.18 1954.3,1404.28 \"/>\n",
       "<path clip-path=\"url(#clip380)\" d=\"M243.287 1454.1 Q239.676 1454.1 237.848 1457.66 Q236.042 1461.2 236.042 1468.33 Q236.042 1475.44 237.848 1479.01 Q239.676 1482.55 243.287 1482.55 Q246.922 1482.55 248.727 1479.01 Q250.556 1475.44 250.556 1468.33 Q250.556 1461.2 248.727 1457.66 Q246.922 1454.1 243.287 1454.1 M243.287 1450.39 Q249.098 1450.39 252.153 1455 Q255.232 1459.58 255.232 1468.33 Q255.232 1477.06 252.153 1481.67 Q249.098 1486.25 243.287 1486.25 Q237.477 1486.25 234.399 1481.67 Q231.343 1477.06 231.343 1468.33 Q231.343 1459.58 234.399 1455 Q237.477 1450.39 243.287 1450.39 Z\" fill=\"#000000\" fill-rule=\"nonzero\" fill-opacity=\"1\" /><path clip-path=\"url(#clip380)\" d=\"M263.449 1479.7 L268.334 1479.7 L268.334 1485.58 L263.449 1485.58 L263.449 1479.7 Z\" fill=\"#000000\" fill-rule=\"nonzero\" fill-opacity=\"1\" /><path clip-path=\"url(#clip380)\" d=\"M288.519 1454.1 Q284.908 1454.1 283.079 1457.66 Q281.273 1461.2 281.273 1468.33 Q281.273 1475.44 283.079 1479.01 Q284.908 1482.55 288.519 1482.55 Q292.153 1482.55 293.959 1479.01 Q295.787 1475.44 295.787 1468.33 Q295.787 1461.2 293.959 1457.66 Q292.153 1454.1 288.519 1454.1 M288.519 1450.39 Q294.329 1450.39 297.384 1455 Q300.463 1459.58 300.463 1468.33 Q300.463 1477.06 297.384 1481.67 Q294.329 1486.25 288.519 1486.25 Q282.709 1486.25 279.63 1481.67 Q276.574 1477.06 276.574 1468.33 Q276.574 1459.58 279.63 1455 Q282.709 1450.39 288.519 1450.39 Z\" fill=\"#000000\" fill-rule=\"nonzero\" fill-opacity=\"1\" /><path clip-path=\"url(#clip380)\" d=\"M659.737 1481.64 L676.057 1481.64 L676.057 1485.58 L654.112 1485.58 L654.112 1481.64 Q656.774 1478.89 661.358 1474.26 Q665.964 1469.61 667.145 1468.27 Q669.39 1465.74 670.27 1464.01 Q671.173 1462.25 671.173 1460.56 Q671.173 1457.8 669.228 1456.07 Q667.307 1454.33 664.205 1454.33 Q662.006 1454.33 659.552 1455.09 Q657.122 1455.86 654.344 1457.41 L654.344 1452.69 Q657.168 1451.55 659.622 1450.97 Q662.075 1450.39 664.112 1450.39 Q669.483 1450.39 672.677 1453.08 Q675.872 1455.77 675.872 1460.26 Q675.872 1462.39 675.061 1464.31 Q674.274 1466.2 672.168 1468.8 Q671.589 1469.47 668.487 1472.69 Q665.386 1475.88 659.737 1481.64 Z\" fill=\"#000000\" fill-rule=\"nonzero\" fill-opacity=\"1\" /><path clip-path=\"url(#clip380)\" d=\"M685.872 1479.7 L690.756 1479.7 L690.756 1485.58 L685.872 1485.58 L685.872 1479.7 Z\" fill=\"#000000\" fill-rule=\"nonzero\" fill-opacity=\"1\" /><path clip-path=\"url(#clip380)\" d=\"M700.987 1451.02 L719.344 1451.02 L719.344 1454.96 L705.27 1454.96 L705.27 1463.43 Q706.288 1463.08 707.307 1462.92 Q708.325 1462.73 709.344 1462.73 Q715.131 1462.73 718.51 1465.9 Q721.89 1469.08 721.89 1474.49 Q721.89 1480.07 718.418 1483.17 Q714.945 1486.25 708.626 1486.25 Q706.45 1486.25 704.182 1485.88 Q701.936 1485.51 699.529 1484.77 L699.529 1480.07 Q701.612 1481.2 703.834 1481.76 Q706.057 1482.32 708.533 1482.32 Q712.538 1482.32 714.876 1480.21 Q717.214 1478.1 717.214 1474.49 Q717.214 1470.88 714.876 1468.77 Q712.538 1466.67 708.533 1466.67 Q706.658 1466.67 704.783 1467.08 Q702.932 1467.5 700.987 1468.38 L700.987 1451.02 Z\" fill=\"#000000\" fill-rule=\"nonzero\" fill-opacity=\"1\" /><path clip-path=\"url(#clip380)\" d=\"M1077.26 1451.02 L1095.62 1451.02 L1095.62 1454.96 L1081.55 1454.96 L1081.55 1463.43 Q1082.56 1463.08 1083.58 1462.92 Q1084.6 1462.73 1085.62 1462.73 Q1091.41 1462.73 1094.79 1465.9 Q1098.17 1469.08 1098.17 1474.49 Q1098.17 1480.07 1094.69 1483.17 Q1091.22 1486.25 1084.9 1486.25 Q1082.73 1486.25 1080.46 1485.88 Q1078.21 1485.51 1075.81 1484.77 L1075.81 1480.07 Q1077.89 1481.2 1080.11 1481.76 Q1082.33 1482.32 1084.81 1482.32 Q1088.81 1482.32 1091.15 1480.21 Q1093.49 1478.1 1093.49 1474.49 Q1093.49 1470.88 1091.15 1468.77 Q1088.81 1466.67 1084.81 1466.67 Q1082.94 1466.67 1081.06 1467.08 Q1079.21 1467.5 1077.26 1468.38 L1077.26 1451.02 Z\" fill=\"#000000\" fill-rule=\"nonzero\" fill-opacity=\"1\" /><path clip-path=\"url(#clip380)\" d=\"M1107.38 1479.7 L1112.26 1479.7 L1112.26 1485.58 L1107.38 1485.58 L1107.38 1479.7 Z\" fill=\"#000000\" fill-rule=\"nonzero\" fill-opacity=\"1\" /><path clip-path=\"url(#clip380)\" d=\"M1132.45 1454.1 Q1128.84 1454.1 1127.01 1457.66 Q1125.2 1461.2 1125.2 1468.33 Q1125.2 1475.44 1127.01 1479.01 Q1128.84 1482.55 1132.45 1482.55 Q1136.08 1482.55 1137.89 1479.01 Q1139.72 1475.44 1139.72 1468.33 Q1139.72 1461.2 1137.89 1457.66 Q1136.08 1454.1 1132.45 1454.1 M1132.45 1450.39 Q1138.26 1450.39 1141.31 1455 Q1144.39 1459.58 1144.39 1468.33 Q1144.39 1477.06 1141.31 1481.67 Q1138.26 1486.25 1132.45 1486.25 Q1126.64 1486.25 1123.56 1481.67 Q1120.5 1477.06 1120.5 1468.33 Q1120.5 1459.58 1123.56 1455 Q1126.64 1450.39 1132.45 1450.39 Z\" fill=\"#000000\" fill-rule=\"nonzero\" fill-opacity=\"1\" /><path clip-path=\"url(#clip380)\" d=\"M1498.52 1451.02 L1520.74 1451.02 L1520.74 1453.01 L1508.19 1485.58 L1503.31 1485.58 L1515.11 1454.96 L1498.52 1454.96 L1498.52 1451.02 Z\" fill=\"#000000\" fill-rule=\"nonzero\" fill-opacity=\"1\" /><path clip-path=\"url(#clip380)\" d=\"M1529.86 1479.7 L1534.74 1479.7 L1534.74 1485.58 L1529.86 1485.58 L1529.86 1479.7 Z\" fill=\"#000000\" fill-rule=\"nonzero\" fill-opacity=\"1\" /><path clip-path=\"url(#clip380)\" d=\"M1544.97 1451.02 L1563.33 1451.02 L1563.33 1454.96 L1549.26 1454.96 L1549.26 1463.43 Q1550.28 1463.08 1551.29 1462.92 Q1552.31 1462.73 1553.33 1462.73 Q1559.12 1462.73 1562.5 1465.9 Q1565.88 1469.08 1565.88 1474.49 Q1565.88 1480.07 1562.41 1483.17 Q1558.93 1486.25 1552.61 1486.25 Q1550.44 1486.25 1548.17 1485.88 Q1545.92 1485.51 1543.52 1484.77 L1543.52 1480.07 Q1545.6 1481.2 1547.82 1481.76 Q1550.04 1482.32 1552.52 1482.32 Q1556.53 1482.32 1558.86 1480.21 Q1561.2 1478.1 1561.2 1474.49 Q1561.2 1470.88 1558.86 1468.77 Q1556.53 1466.67 1552.52 1466.67 Q1550.65 1466.67 1548.77 1467.08 Q1546.92 1467.5 1544.97 1468.38 L1544.97 1451.02 Z\" fill=\"#000000\" fill-rule=\"nonzero\" fill-opacity=\"1\" /><path clip-path=\"url(#clip380)\" d=\"M1906.37 1481.64 L1914.01 1481.64 L1914.01 1455.28 L1905.7 1456.95 L1905.7 1452.69 L1913.96 1451.02 L1918.64 1451.02 L1918.64 1481.64 L1926.27 1481.64 L1926.27 1485.58 L1906.37 1485.58 L1906.37 1481.64 Z\" fill=\"#000000\" fill-rule=\"nonzero\" fill-opacity=\"1\" /><path clip-path=\"url(#clip380)\" d=\"M1945.72 1454.1 Q1942.11 1454.1 1940.28 1457.66 Q1938.47 1461.2 1938.47 1468.33 Q1938.47 1475.44 1940.28 1479.01 Q1942.11 1482.55 1945.72 1482.55 Q1949.35 1482.55 1951.16 1479.01 Q1952.99 1475.44 1952.99 1468.33 Q1952.99 1461.2 1951.16 1457.66 Q1949.35 1454.1 1945.72 1454.1 M1945.72 1450.39 Q1951.53 1450.39 1954.58 1455 Q1957.66 1459.58 1957.66 1468.33 Q1957.66 1477.06 1954.58 1481.67 Q1951.53 1486.25 1945.72 1486.25 Q1939.91 1486.25 1936.83 1481.67 Q1933.77 1477.06 1933.77 1468.33 Q1933.77 1459.58 1936.83 1455 Q1939.91 1450.39 1945.72 1450.39 Z\" fill=\"#000000\" fill-rule=\"nonzero\" fill-opacity=\"1\" /><path clip-path=\"url(#clip380)\" d=\"M1965.88 1479.7 L1970.77 1479.7 L1970.77 1485.58 L1965.88 1485.58 L1965.88 1479.7 Z\" fill=\"#000000\" fill-rule=\"nonzero\" fill-opacity=\"1\" /><path clip-path=\"url(#clip380)\" d=\"M1990.95 1454.1 Q1987.34 1454.1 1985.51 1457.66 Q1983.7 1461.2 1983.7 1468.33 Q1983.7 1475.44 1985.51 1479.01 Q1987.34 1482.55 1990.95 1482.55 Q1994.58 1482.55 1996.39 1479.01 Q1998.22 1475.44 1998.22 1468.33 Q1998.22 1461.2 1996.39 1457.66 Q1994.58 1454.1 1990.95 1454.1 M1990.95 1450.39 Q1996.76 1450.39 1999.82 1455 Q2002.89 1459.58 2002.89 1468.33 Q2002.89 1477.06 1999.82 1481.67 Q1996.76 1486.25 1990.95 1486.25 Q1985.14 1486.25 1982.06 1481.67 Q1979.01 1477.06 1979.01 1468.33 Q1979.01 1459.58 1982.06 1455 Q1985.14 1450.39 1990.95 1450.39 Z\" fill=\"#000000\" fill-rule=\"nonzero\" fill-opacity=\"1\" /><path clip-path=\"url(#clip380)\" d=\"M1291.71 1525.1 Q1291.71 1525.33 1291.16 1526.29 Q1290.65 1527.23 1288.75 1529.58 Q1286.85 1531.93 1284.01 1534.67 Q1282.95 1535.73 1281.34 1537.21 Q1279.73 1538.69 1278.63 1539.66 L1277.54 1540.62 Q1273.35 1544.17 1269.68 1548.13 Q1269.94 1548.03 1270.39 1548 Q1270.84 1547.93 1271.16 1547.93 L1271.48 1547.93 Q1273.16 1547.93 1276.09 1549.06 Q1278.67 1549.9 1279.99 1549.9 Q1281.27 1549.9 1282.69 1549.45 Q1284.11 1549 1285.65 1547.68 Q1287.2 1546.36 1287.91 1544.36 Q1288.04 1544.04 1288.1 1543.94 Q1288.17 1543.81 1288.36 1543.68 Q1288.55 1543.52 1288.81 1543.52 Q1289.17 1543.52 1289.39 1543.71 Q1289.62 1543.91 1289.62 1544.17 Q1289.62 1544.75 1289.17 1545.9 Q1288.75 1547.06 1287.81 1548.51 Q1286.91 1549.96 1285.72 1551.28 Q1284.56 1552.57 1282.82 1553.47 Q1281.08 1554.34 1279.25 1554.34 Q1277.93 1554.34 1276.96 1553.7 Q1275.99 1553.09 1275.03 1551.9 Q1273.71 1550.38 1273 1549.9 Q1272.29 1549.38 1271.19 1549.38 Q1268.26 1549.38 1265.59 1553.47 Q1265.3 1554.05 1265.11 1554.18 Q1264.95 1554.34 1264.56 1554.34 Q1263.75 1554.31 1263.75 1553.67 Q1263.75 1553.41 1264.46 1552.28 Q1265.2 1551.12 1266.85 1549.09 Q1268.52 1547.06 1270.55 1545.04 L1276.48 1539.5 Q1283.05 1533.96 1285.65 1530.83 Q1284.56 1530.83 1284.08 1530.8 Q1283.63 1530.77 1282.72 1530.57 Q1281.82 1530.35 1280.57 1529.87 Q1277.64 1528.87 1276.41 1528.87 Q1276.09 1528.87 1275.74 1528.9 Q1275.38 1528.93 1274.58 1529.09 Q1273.8 1529.25 1273.16 1529.58 Q1272.51 1529.87 1271.84 1530.51 Q1271.16 1531.12 1270.81 1531.96 Q1270.71 1532.22 1270.65 1532.35 Q1270.58 1532.48 1270.39 1532.6 Q1270.23 1532.7 1269.97 1532.7 Q1269.58 1532.7 1269.36 1532.48 Q1269.17 1532.25 1269.17 1531.96 Q1269.17 1531.38 1269.75 1530.19 Q1270.32 1529 1271.29 1527.71 Q1272.26 1526.39 1273.84 1525.42 Q1275.41 1524.46 1277.15 1524.46 Q1278.18 1524.46 1279.05 1524.91 Q1279.95 1525.36 1280.41 1525.84 Q1280.89 1526.29 1281.69 1527.29 Q1282.37 1528.06 1282.69 1528.38 Q1283.01 1528.71 1283.66 1529.06 Q1284.33 1529.38 1285.08 1529.38 Q1286.3 1529.38 1287.43 1528.45 Q1288.55 1527.48 1290 1525.16 Q1290.39 1524.46 1291 1524.46 Q1291.71 1524.46 1291.71 1525.1 Z\" fill=\"#000000\" fill-rule=\"nonzero\" fill-opacity=\"1\" /><polyline clip-path=\"url(#clip382)\" style=\"stroke:#000000; stroke-linecap:round; stroke-linejoin:round; stroke-width:2; stroke-opacity:0.1; fill:none\" points=\"205.121,1381.09 2352.76,1381.09 \"/>\n",
       "<polyline clip-path=\"url(#clip382)\" style=\"stroke:#000000; stroke-linecap:round; stroke-linejoin:round; stroke-width:2; stroke-opacity:0.1; fill:none\" points=\"205.121,1180.56 2352.76,1180.56 \"/>\n",
       "<polyline clip-path=\"url(#clip382)\" style=\"stroke:#000000; stroke-linecap:round; stroke-linejoin:round; stroke-width:2; stroke-opacity:0.1; fill:none\" points=\"205.121,980.021 2352.76,980.021 \"/>\n",
       "<polyline clip-path=\"url(#clip382)\" style=\"stroke:#000000; stroke-linecap:round; stroke-linejoin:round; stroke-width:2; stroke-opacity:0.1; fill:none\" points=\"205.121,779.486 2352.76,779.486 \"/>\n",
       "<polyline clip-path=\"url(#clip382)\" style=\"stroke:#000000; stroke-linecap:round; stroke-linejoin:round; stroke-width:2; stroke-opacity:0.1; fill:none\" points=\"205.121,578.951 2352.76,578.951 \"/>\n",
       "<polyline clip-path=\"url(#clip382)\" style=\"stroke:#000000; stroke-linecap:round; stroke-linejoin:round; stroke-width:2; stroke-opacity:0.1; fill:none\" points=\"205.121,378.416 2352.76,378.416 \"/>\n",
       "<polyline clip-path=\"url(#clip382)\" style=\"stroke:#000000; stroke-linecap:round; stroke-linejoin:round; stroke-width:2; stroke-opacity:0.1; fill:none\" points=\"205.121,177.881 2352.76,177.881 \"/>\n",
       "<polyline clip-path=\"url(#clip380)\" style=\"stroke:#000000; stroke-linecap:round; stroke-linejoin:round; stroke-width:4; stroke-opacity:1; fill:none\" points=\"205.121,1423.18 205.121,47.2441 \"/>\n",
       "<polyline clip-path=\"url(#clip380)\" style=\"stroke:#000000; stroke-linecap:round; stroke-linejoin:round; stroke-width:4; stroke-opacity:1; fill:none\" points=\"205.121,1381.09 224.019,1381.09 \"/>\n",
       "<polyline clip-path=\"url(#clip380)\" style=\"stroke:#000000; stroke-linecap:round; stroke-linejoin:round; stroke-width:4; stroke-opacity:1; fill:none\" points=\"205.121,1180.56 224.019,1180.56 \"/>\n",
       "<polyline clip-path=\"url(#clip380)\" style=\"stroke:#000000; stroke-linecap:round; stroke-linejoin:round; stroke-width:4; stroke-opacity:1; fill:none\" points=\"205.121,980.021 224.019,980.021 \"/>\n",
       "<polyline clip-path=\"url(#clip380)\" style=\"stroke:#000000; stroke-linecap:round; stroke-linejoin:round; stroke-width:4; stroke-opacity:1; fill:none\" points=\"205.121,779.486 224.019,779.486 \"/>\n",
       "<polyline clip-path=\"url(#clip380)\" style=\"stroke:#000000; stroke-linecap:round; stroke-linejoin:round; stroke-width:4; stroke-opacity:1; fill:none\" points=\"205.121,578.951 224.019,578.951 \"/>\n",
       "<polyline clip-path=\"url(#clip380)\" style=\"stroke:#000000; stroke-linecap:round; stroke-linejoin:round; stroke-width:4; stroke-opacity:1; fill:none\" points=\"205.121,378.416 224.019,378.416 \"/>\n",
       "<polyline clip-path=\"url(#clip380)\" style=\"stroke:#000000; stroke-linecap:round; stroke-linejoin:round; stroke-width:4; stroke-opacity:1; fill:none\" points=\"205.121,177.881 224.019,177.881 \"/>\n",
       "<path clip-path=\"url(#clip380)\" d=\"M157.177 1366.89 Q153.566 1366.89 151.737 1370.45 Q149.931 1374 149.931 1381.13 Q149.931 1388.23 151.737 1391.8 Q153.566 1395.34 157.177 1395.34 Q160.811 1395.34 162.616 1391.8 Q164.445 1388.23 164.445 1381.13 Q164.445 1374 162.616 1370.45 Q160.811 1366.89 157.177 1366.89 M157.177 1363.19 Q162.987 1363.19 166.042 1367.79 Q169.121 1372.38 169.121 1381.13 Q169.121 1389.85 166.042 1394.46 Q162.987 1399.04 157.177 1399.04 Q151.366 1399.04 148.288 1394.46 Q145.232 1389.85 145.232 1381.13 Q145.232 1372.38 148.288 1367.79 Q151.366 1363.19 157.177 1363.19 Z\" fill=\"#000000\" fill-rule=\"nonzero\" fill-opacity=\"1\" /><path clip-path=\"url(#clip380)\" d=\"M117.825 1193.9 L125.464 1193.9 L125.464 1167.53 L117.154 1169.2 L117.154 1164.94 L125.418 1163.28 L130.093 1163.28 L130.093 1193.9 L137.732 1193.9 L137.732 1197.84 L117.825 1197.84 L117.825 1193.9 Z\" fill=\"#000000\" fill-rule=\"nonzero\" fill-opacity=\"1\" /><path clip-path=\"url(#clip380)\" d=\"M157.177 1166.35 Q153.566 1166.35 151.737 1169.92 Q149.931 1173.46 149.931 1180.59 Q149.931 1187.7 151.737 1191.26 Q153.566 1194.8 157.177 1194.8 Q160.811 1194.8 162.616 1191.26 Q164.445 1187.7 164.445 1180.59 Q164.445 1173.46 162.616 1169.92 Q160.811 1166.35 157.177 1166.35 M157.177 1162.65 Q162.987 1162.65 166.042 1167.26 Q169.121 1171.84 169.121 1180.59 Q169.121 1189.32 166.042 1193.92 Q162.987 1198.51 157.177 1198.51 Q151.366 1198.51 148.288 1193.92 Q145.232 1189.32 145.232 1180.59 Q145.232 1171.84 148.288 1167.26 Q151.366 1162.65 157.177 1162.65 Z\" fill=\"#000000\" fill-rule=\"nonzero\" fill-opacity=\"1\" /><path clip-path=\"url(#clip380)\" d=\"M121.043 993.366 L137.362 993.366 L137.362 997.301 L115.418 997.301 L115.418 993.366 Q118.08 990.611 122.663 985.981 Q127.269 981.329 128.45 979.986 Q130.695 977.463 131.575 975.727 Q132.478 973.968 132.478 972.278 Q132.478 969.523 130.533 967.787 Q128.612 966.051 125.51 966.051 Q123.311 966.051 120.857 966.815 Q118.427 967.579 115.649 969.13 L115.649 964.407 Q118.473 963.273 120.927 962.694 Q123.38 962.116 125.418 962.116 Q130.788 962.116 133.982 964.801 Q137.177 967.486 137.177 971.977 Q137.177 974.106 136.367 976.028 Q135.579 977.926 133.473 980.518 Q132.894 981.19 129.792 984.407 Q126.691 987.602 121.043 993.366 Z\" fill=\"#000000\" fill-rule=\"nonzero\" fill-opacity=\"1\" /><path clip-path=\"url(#clip380)\" d=\"M157.177 965.819 Q153.566 965.819 151.737 969.384 Q149.931 972.926 149.931 980.055 Q149.931 987.162 151.737 990.727 Q153.566 994.268 157.177 994.268 Q160.811 994.268 162.616 990.727 Q164.445 987.162 164.445 980.055 Q164.445 972.926 162.616 969.384 Q160.811 965.819 157.177 965.819 M157.177 962.116 Q162.987 962.116 166.042 966.722 Q169.121 971.306 169.121 980.055 Q169.121 988.782 166.042 993.389 Q162.987 997.972 157.177 997.972 Q151.366 997.972 148.288 993.389 Q145.232 988.782 145.232 980.055 Q145.232 971.306 148.288 966.722 Q151.366 962.116 157.177 962.116 Z\" fill=\"#000000\" fill-rule=\"nonzero\" fill-opacity=\"1\" /><path clip-path=\"url(#clip380)\" d=\"M131.181 778.132 Q134.538 778.849 136.413 781.118 Q138.311 783.386 138.311 786.72 Q138.311 791.835 134.792 794.636 Q131.274 797.437 124.793 797.437 Q122.617 797.437 120.302 796.997 Q118.01 796.581 115.556 795.724 L115.556 791.21 Q117.501 792.345 119.816 792.923 Q122.13 793.502 124.654 793.502 Q129.052 793.502 131.343 791.766 Q133.658 790.03 133.658 786.72 Q133.658 783.664 131.505 781.951 Q129.376 780.215 125.556 780.215 L121.529 780.215 L121.529 776.372 L125.742 776.372 Q129.191 776.372 131.019 775.007 Q132.848 773.618 132.848 771.025 Q132.848 768.363 130.95 766.951 Q129.075 765.516 125.556 765.516 Q123.635 765.516 121.436 765.933 Q119.237 766.349 116.598 767.229 L116.598 763.062 Q119.26 762.322 121.575 761.951 Q123.913 761.581 125.973 761.581 Q131.297 761.581 134.399 764.011 Q137.501 766.419 137.501 770.539 Q137.501 773.409 135.857 775.4 Q134.214 777.368 131.181 778.132 Z\" fill=\"#000000\" fill-rule=\"nonzero\" fill-opacity=\"1\" /><path clip-path=\"url(#clip380)\" d=\"M157.177 765.285 Q153.566 765.285 151.737 768.849 Q149.931 772.391 149.931 779.521 Q149.931 786.627 151.737 790.192 Q153.566 793.733 157.177 793.733 Q160.811 793.733 162.616 790.192 Q164.445 786.627 164.445 779.521 Q164.445 772.391 162.616 768.849 Q160.811 765.285 157.177 765.285 M157.177 761.581 Q162.987 761.581 166.042 766.187 Q169.121 770.771 169.121 779.521 Q169.121 788.247 166.042 792.854 Q162.987 797.437 157.177 797.437 Q151.366 797.437 148.288 792.854 Q145.232 788.247 145.232 779.521 Q145.232 770.771 148.288 766.187 Q151.366 761.581 157.177 761.581 Z\" fill=\"#000000\" fill-rule=\"nonzero\" fill-opacity=\"1\" /><path clip-path=\"url(#clip380)\" d=\"M129.862 565.745 L118.056 584.194 L129.862 584.194 L129.862 565.745 M128.635 561.671 L134.515 561.671 L134.515 584.194 L139.445 584.194 L139.445 588.083 L134.515 588.083 L134.515 596.231 L129.862 596.231 L129.862 588.083 L114.26 588.083 L114.26 583.569 L128.635 561.671 Z\" fill=\"#000000\" fill-rule=\"nonzero\" fill-opacity=\"1\" /><path clip-path=\"url(#clip380)\" d=\"M157.177 564.75 Q153.566 564.75 151.737 568.314 Q149.931 571.856 149.931 578.986 Q149.931 586.092 151.737 589.657 Q153.566 593.199 157.177 593.199 Q160.811 593.199 162.616 589.657 Q164.445 586.092 164.445 578.986 Q164.445 571.856 162.616 568.314 Q160.811 564.75 157.177 564.75 M157.177 561.046 Q162.987 561.046 166.042 565.652 Q169.121 570.236 169.121 578.986 Q169.121 587.712 166.042 592.319 Q162.987 596.902 157.177 596.902 Q151.366 596.902 148.288 592.319 Q145.232 587.712 145.232 578.986 Q145.232 570.236 148.288 565.652 Q151.366 561.046 157.177 561.046 Z\" fill=\"#000000\" fill-rule=\"nonzero\" fill-opacity=\"1\" /><path clip-path=\"url(#clip380)\" d=\"M117.061 361.136 L135.417 361.136 L135.417 365.071 L121.343 365.071 L121.343 373.543 Q122.362 373.196 123.38 373.034 Q124.399 372.849 125.418 372.849 Q131.205 372.849 134.584 376.02 Q137.964 379.191 137.964 384.608 Q137.964 390.187 134.492 393.289 Q131.019 396.367 124.7 396.367 Q122.524 396.367 120.255 395.997 Q118.01 395.627 115.603 394.886 L115.603 390.187 Q117.686 391.321 119.908 391.877 Q122.13 392.432 124.607 392.432 Q128.612 392.432 130.95 390.326 Q133.288 388.219 133.288 384.608 Q133.288 380.997 130.95 378.891 Q128.612 376.784 124.607 376.784 Q122.732 376.784 120.857 377.201 Q119.006 377.617 117.061 378.497 L117.061 361.136 Z\" fill=\"#000000\" fill-rule=\"nonzero\" fill-opacity=\"1\" /><path clip-path=\"url(#clip380)\" d=\"M157.177 364.215 Q153.566 364.215 151.737 367.779 Q149.931 371.321 149.931 378.451 Q149.931 385.557 151.737 389.122 Q153.566 392.664 157.177 392.664 Q160.811 392.664 162.616 389.122 Q164.445 385.557 164.445 378.451 Q164.445 371.321 162.616 367.779 Q160.811 364.215 157.177 364.215 M157.177 360.511 Q162.987 360.511 166.042 365.117 Q169.121 369.701 169.121 378.451 Q169.121 387.178 166.042 391.784 Q162.987 396.367 157.177 396.367 Q151.366 396.367 148.288 391.784 Q145.232 387.178 145.232 378.451 Q145.232 369.701 148.288 365.117 Q151.366 360.511 157.177 360.511 Z\" fill=\"#000000\" fill-rule=\"nonzero\" fill-opacity=\"1\" /><path clip-path=\"url(#clip380)\" d=\"M127.593 176.018 Q124.445 176.018 122.593 178.17 Q120.765 180.323 120.765 184.073 Q120.765 187.8 122.593 189.976 Q124.445 192.129 127.593 192.129 Q130.742 192.129 132.57 189.976 Q134.422 187.8 134.422 184.073 Q134.422 180.323 132.57 178.17 Q130.742 176.018 127.593 176.018 M136.876 161.365 L136.876 165.624 Q135.117 164.791 133.311 164.351 Q131.529 163.911 129.769 163.911 Q125.14 163.911 122.686 167.036 Q120.255 170.161 119.908 176.481 Q121.274 174.467 123.334 173.402 Q125.394 172.314 127.871 172.314 Q133.08 172.314 136.089 175.485 Q139.121 178.633 139.121 184.073 Q139.121 189.397 135.973 192.615 Q132.825 195.832 127.593 195.832 Q121.598 195.832 118.427 191.249 Q115.256 186.643 115.256 177.916 Q115.256 169.721 119.144 164.86 Q123.033 159.976 129.584 159.976 Q131.343 159.976 133.126 160.323 Q134.931 160.671 136.876 161.365 Z\" fill=\"#000000\" fill-rule=\"nonzero\" fill-opacity=\"1\" /><path clip-path=\"url(#clip380)\" d=\"M157.177 163.68 Q153.566 163.68 151.737 167.245 Q149.931 170.786 149.931 177.916 Q149.931 185.022 151.737 188.587 Q153.566 192.129 157.177 192.129 Q160.811 192.129 162.616 188.587 Q164.445 185.022 164.445 177.916 Q164.445 170.786 162.616 167.245 Q160.811 163.68 157.177 163.68 M157.177 159.976 Q162.987 159.976 166.042 164.583 Q169.121 169.166 169.121 177.916 Q169.121 186.643 166.042 191.249 Q162.987 195.832 157.177 195.832 Q151.366 195.832 148.288 191.249 Q145.232 186.643 145.232 177.916 Q145.232 169.166 148.288 164.583 Q151.366 159.976 157.177 159.976 Z\" fill=\"#000000\" fill-rule=\"nonzero\" fill-opacity=\"1\" /><path clip-path=\"url(#clip380)\" d=\"M24.7187 937.85 Q26.49 937.85 27.585 938.977 Q28.68 940.072 28.68 941.457 Q28.68 942.455 28.0681 943.196 Q27.4562 943.905 26.3934 943.905 Q25.2984 943.905 24.139 943.067 Q22.9796 942.23 22.8185 940.33 Q21.6269 941.586 21.6269 943.583 Q21.6269 944.581 22.271 945.418 Q22.883 946.223 23.8813 946.674 Q24.9119 947.157 30.7412 948.252 Q32.6413 948.607 34.4771 948.929 Q36.3128 949.251 38.2451 949.637 L38.2451 944.162 Q38.2451 943.454 38.2774 943.164 Q38.3096 942.874 38.4706 942.649 Q38.6316 942.391 38.9859 942.391 Q39.8876 942.391 40.1131 942.81 Q40.3063 943.196 40.3063 944.355 L40.3063 950.024 L61.2079 953.985 Q61.8198 954.082 63.7522 954.5 Q65.6523 954.887 68.7763 955.821 Q71.9325 956.755 73.8004 957.689 Q74.8632 958.204 75.8616 958.88 Q76.8922 959.524 77.9228 960.458 Q78.9534 961.392 79.5653 962.616 Q80.2094 963.84 80.2094 965.128 Q80.2094 967.318 78.9856 969.025 Q77.7617 970.732 75.6684 970.732 Q73.897 970.732 72.802 969.637 Q71.707 968.51 71.707 967.125 Q71.707 966.127 72.3189 965.418 Q72.9309 964.677 73.9937 964.677 Q74.4445 964.677 74.9598 964.838 Q75.4751 964.999 76.0548 965.354 Q76.6667 965.708 77.0854 966.481 Q77.5041 967.254 77.5685 968.317 Q78.7601 967.061 78.7601 965.128 Q78.7601 964.516 78.5025 963.969 Q78.277 963.421 77.6973 962.97 Q77.1176 962.487 76.5379 962.133 Q75.9904 961.779 74.9276 961.425 Q73.897 961.07 73.1241 960.845 Q72.3512 960.619 70.9663 960.33 Q69.5815 960.008 68.7441 959.847 Q67.939 959.685 66.3609 959.396 L40.3063 954.468 L40.3063 958.816 Q40.3063 959.589 40.2741 959.911 Q40.2419 960.201 40.0809 960.426 Q39.8876 960.652 39.5012 960.652 Q38.8893 960.652 38.6316 960.394 Q38.3418 960.104 38.3096 959.782 Q38.2451 959.46 38.2451 958.687 L38.2451 954.114 Q30.0971 952.568 27.9071 951.956 Q25.5882 951.248 23.978 950.153 Q22.3355 949.058 21.5625 947.834 Q20.7896 946.61 20.4997 945.612 Q20.1777 944.581 20.1777 943.583 Q20.1777 941.328 21.4015 939.589 Q22.5931 937.85 24.7187 937.85 Z\" fill=\"#000000\" fill-rule=\"nonzero\" fill-opacity=\"1\" /><path clip-path=\"url(#clip380)\" d=\"M50.1935 928.97 Q39.0503 928.97 30.0649 924.815 Q26.2968 923.044 23.1406 920.564 Q19.9844 918.084 18.5996 916.442 Q17.2147 914.799 17.2147 914.348 Q17.2147 913.704 17.8588 913.672 Q18.1809 913.672 18.986 914.542 Q29.8072 925.17 50.1935 925.137 Q70.6442 925.137 81.0467 914.799 Q82.1739 913.672 82.5282 913.672 Q83.1723 913.672 83.1723 914.348 Q83.1723 914.799 81.8519 916.377 Q80.5314 917.956 77.5041 920.403 Q74.4767 922.851 70.7731 924.622 Q61.7876 928.97 50.1935 928.97 Z\" fill=\"#000000\" fill-rule=\"nonzero\" fill-opacity=\"1\" /><path clip-path=\"url(#clip380)\" d=\"M83.1723 902.322 L17.2147 902.322 L17.2147 892.371 L18.7284 892.371 L18.7284 897.91 L81.6586 897.91 L81.6586 892.371 L83.1723 892.371 L83.1723 902.322 Z\" fill=\"#000000\" fill-rule=\"nonzero\" fill-opacity=\"1\" /><path clip-path=\"url(#clip380)\" d=\"M29.0343 887.34 L26.9731 887.34 Q26.9731 879.418 22.7541 875.327 Q22.7541 874.2 23.0118 874.007 Q23.2694 873.814 24.461 873.814 L61.4656 873.814 Q63.4301 873.814 64.042 872.848 Q64.654 871.881 64.654 867.662 L64.654 865.569 L66.6829 865.569 Q66.4897 867.888 66.4897 876.261 Q66.4897 884.635 66.6829 886.922 L64.654 886.922 L64.654 884.828 Q64.654 880.674 64.0742 879.675 Q63.4623 878.677 61.4656 878.677 L27.2952 878.677 Q29.0343 882.123 29.0343 887.34 Z\" fill=\"#000000\" fill-rule=\"nonzero\" fill-opacity=\"1\" /><path clip-path=\"url(#clip380)\" d=\"M65.6201 860.428 Q64.5573 861.426 63.1725 861.426 Q61.7876 861.426 60.7893 860.428 Q59.7587 859.429 59.7587 857.916 Q59.7587 856.466 60.7248 855.5 Q61.6588 854.502 63.2047 854.502 Q64.7184 854.502 65.7167 855.565 Q66.6829 856.595 66.6829 857.916 Q66.6829 859.429 65.6201 860.428 Z\" fill=\"#000000\" fill-rule=\"nonzero\" fill-opacity=\"1\" /><path clip-path=\"url(#clip380)\" d=\"M45.5881 843.276 Q35.8941 843.276 30.6124 840.828 Q22.7541 837.414 22.7541 829.363 Q22.7541 827.656 23.2372 825.885 Q23.6881 824.081 25.4594 821.827 Q27.2307 819.54 30.1293 818.155 Q35.7331 815.515 45.5881 815.515 Q55.2176 815.515 60.4672 817.962 Q68.1322 821.537 68.1322 829.427 Q68.1322 832.39 66.6185 835.418 Q65.1048 838.413 61.4656 840.313 Q56.0228 843.276 45.5881 843.276 M44.7829 837.801 Q54.7345 837.801 58.6959 837.092 Q62.9792 836.287 64.8472 834.097 Q66.6829 831.875 66.6829 829.427 Q66.6829 826.787 64.7184 824.597 Q62.7216 822.374 58.4382 821.698 Q54.2193 820.957 44.7829 820.99 Q35.6043 820.99 31.9328 821.634 Q27.6494 822.503 25.9425 824.822 Q24.2034 827.109 24.2034 829.427 Q24.2034 830.297 24.461 831.231 Q24.7187 832.133 25.4594 833.453 Q26.2002 834.774 28.0359 835.804 Q29.8716 836.803 32.6413 837.286 Q36.2162 837.801 44.7829 837.801 Z\" fill=\"#000000\" fill-rule=\"nonzero\" fill-opacity=\"1\" /><path clip-path=\"url(#clip380)\" d=\"M65.6201 809.678 Q64.5573 810.612 63.1725 810.612 Q61.7876 810.612 60.757 809.71 Q59.6943 808.776 59.6943 807.101 Q59.6943 805.137 61.5944 804.01 Q63.4623 802.882 66.6185 802.882 Q70.0323 802.882 73.1885 804.267 Q76.3769 805.652 77.8906 807.005 Q79.4042 808.357 79.4042 808.905 Q79.4042 809.549 78.6957 809.549 Q78.4381 809.549 77.955 809.098 Q72.8664 804.364 66.6185 804.332 Q65.6201 804.332 65.6201 804.461 L65.749 804.622 Q66.6829 805.749 66.6829 807.101 Q66.6829 808.744 65.6201 809.678 Z\" fill=\"#000000\" fill-rule=\"nonzero\" fill-opacity=\"1\" /><path clip-path=\"url(#clip380)\" d=\"M38.1807 754.112 Q38.4062 754.112 39.3724 754.66 Q40.3063 755.175 42.6574 757.075 Q45.0084 758.975 47.7459 761.809 Q48.8087 762.872 50.2901 764.482 Q51.7716 766.093 52.7378 767.188 L53.704 768.283 Q57.2466 772.469 61.2079 776.141 Q61.1113 775.883 61.0791 775.432 Q61.0147 774.982 61.0147 774.659 L61.0147 774.337 Q61.0147 772.663 62.1419 769.732 Q62.9792 767.156 62.9792 765.835 Q62.9792 764.547 62.5284 763.13 Q62.0775 761.713 60.757 760.167 Q59.4366 758.621 57.4398 757.912 Q57.1178 757.784 57.0212 757.719 Q56.8923 757.655 56.7635 757.462 Q56.6025 757.268 56.6025 757.011 Q56.6025 756.656 56.7957 756.431 Q56.989 756.206 57.2466 756.206 Q57.8263 756.206 58.9857 756.656 Q60.1451 757.075 61.5944 758.009 Q63.0437 758.911 64.3641 760.102 Q65.6523 761.262 66.5541 763.001 Q67.4237 764.74 67.4237 766.576 Q67.4237 767.896 66.7795 768.862 Q66.1676 769.829 64.976 770.795 Q63.4623 772.115 62.9792 772.824 Q62.464 773.532 62.464 774.627 Q62.464 777.558 66.5541 780.231 Q67.1338 780.521 67.2626 780.714 Q67.4237 780.875 67.4237 781.262 Q67.3915 782.067 66.7473 782.067 Q66.4897 782.067 65.3625 781.358 Q64.2031 780.618 62.1741 778.975 Q60.1451 777.3 58.1162 775.271 L52.5768 769.346 Q47.0373 762.776 43.9134 760.167 Q43.9134 761.262 43.8812 761.745 Q43.849 762.196 43.6557 763.098 Q43.4303 763.999 42.9472 765.255 Q41.9488 768.186 41.9488 769.41 Q41.9488 769.732 41.981 770.086 Q42.0132 770.441 42.1743 771.246 Q42.3353 772.019 42.6574 772.663 Q42.9472 773.307 43.5913 773.983 Q44.2032 774.659 45.0406 775.014 Q45.2982 775.11 45.4271 775.175 Q45.5559 775.239 45.6847 775.432 Q45.7813 775.593 45.7813 775.851 Q45.7813 776.238 45.5559 776.463 Q45.3304 776.656 45.0406 776.656 Q44.4609 776.656 43.2693 776.077 Q42.0776 775.497 40.7894 774.531 Q39.469 773.564 38.5028 771.986 Q37.5366 770.408 37.5366 768.669 Q37.5366 767.639 37.9875 766.769 Q38.4384 765.867 38.9215 765.416 Q39.3724 764.933 40.3707 764.128 Q41.1437 763.452 41.4657 763.13 Q41.7878 762.808 42.1421 762.164 Q42.4641 761.487 42.4641 760.747 Q42.4641 759.523 41.5301 758.396 Q40.564 757.268 38.2451 755.819 Q37.5366 755.433 37.5366 754.821 Q37.5366 754.112 38.1807 754.112 Z\" fill=\"#000000\" fill-rule=\"nonzero\" fill-opacity=\"1\" /><path clip-path=\"url(#clip380)\" d=\"M65.6201 750.765 Q64.5573 751.699 63.1725 751.699 Q61.7876 751.699 60.757 750.798 Q59.6943 749.864 59.6943 748.189 Q59.6943 746.224 61.5944 745.097 Q63.4623 743.97 66.6185 743.97 Q70.0323 743.97 73.1885 745.355 Q76.3769 746.74 77.8906 748.092 Q79.4042 749.445 79.4042 749.993 Q79.4042 750.637 78.6957 750.637 Q78.4381 750.637 77.955 750.186 Q72.8664 745.452 66.6185 745.419 Q65.6201 745.419 65.6201 745.548 L65.749 745.709 Q66.6829 746.836 66.6829 748.189 Q66.6829 749.832 65.6201 750.765 Z\" fill=\"#000000\" fill-rule=\"nonzero\" fill-opacity=\"1\" /><path clip-path=\"url(#clip380)\" d=\"M38.1807 695.2 Q38.4062 695.2 39.3724 695.747 Q40.3063 696.262 42.6574 698.163 Q45.0084 700.063 47.7459 702.897 Q48.8087 703.96 50.2901 705.57 Q51.7716 707.18 52.7378 708.275 L53.704 709.37 Q57.2466 713.557 61.2079 717.228 Q61.1113 716.971 61.0791 716.52 Q61.0147 716.069 61.0147 715.747 L61.0147 715.425 Q61.0147 713.75 62.1419 710.82 Q62.9792 708.243 62.9792 706.923 Q62.9792 705.634 62.5284 704.217 Q62.0775 702.8 60.757 701.254 Q59.4366 699.709 57.4398 699 Q57.1178 698.871 57.0212 698.807 Q56.8923 698.742 56.7635 698.549 Q56.6025 698.356 56.6025 698.098 Q56.6025 697.744 56.7957 697.519 Q56.989 697.293 57.2466 697.293 Q57.8263 697.293 58.9857 697.744 Q60.1451 698.163 61.5944 699.097 Q63.0437 699.998 64.3641 701.19 Q65.6523 702.349 66.5541 704.089 Q67.4237 705.828 67.4237 707.663 Q67.4237 708.984 66.7795 709.95 Q66.1676 710.916 64.976 711.882 Q63.4623 713.203 62.9792 713.911 Q62.464 714.62 62.464 715.715 Q62.464 718.646 66.5541 721.319 Q67.1338 721.608 67.2626 721.802 Q67.4237 721.963 67.4237 722.349 Q67.3915 723.154 66.7473 723.154 Q66.4897 723.154 65.3625 722.446 Q64.2031 721.705 62.1741 720.063 Q60.1451 718.388 58.1162 716.359 L52.5768 710.433 Q47.0373 703.863 43.9134 701.254 Q43.9134 702.349 43.8812 702.832 Q43.849 703.283 43.6557 704.185 Q43.4303 705.087 42.9472 706.343 Q41.9488 709.274 41.9488 710.497 Q41.9488 710.82 41.981 711.174 Q42.0132 711.528 42.1743 712.333 Q42.3353 713.106 42.6574 713.75 Q42.9472 714.394 43.5913 715.071 Q44.2032 715.747 45.0406 716.101 Q45.2982 716.198 45.4271 716.262 Q45.5559 716.327 45.6847 716.52 Q45.7813 716.681 45.7813 716.939 Q45.7813 717.325 45.5559 717.551 Q45.3304 717.744 45.0406 717.744 Q44.4609 717.744 43.2693 717.164 Q42.0776 716.584 40.7894 715.618 Q39.469 714.652 38.5028 713.074 Q37.5366 711.496 37.5366 709.757 Q37.5366 708.726 37.9875 707.857 Q38.4384 706.955 38.9215 706.504 Q39.3724 706.021 40.3707 705.216 Q41.1437 704.539 41.4657 704.217 Q41.7878 703.895 42.1421 703.251 Q42.4641 702.575 42.4641 701.834 Q42.4641 700.61 41.5301 699.483 Q40.564 698.356 38.2451 696.907 Q37.5366 696.52 37.5366 695.908 Q37.5366 695.2 38.1807 695.2 Z\" fill=\"#000000\" fill-rule=\"nonzero\" fill-opacity=\"1\" /><path clip-path=\"url(#clip380)\" d=\"M46.9462 688.427 Q46.1121 688.427 45.8641 688.359 Q45.6161 688.269 45.2329 687.908 L35.3585 679.049 Q29.9029 674.202 25.1461 674.202 Q22.0575 674.202 19.8482 675.825 Q17.6389 677.425 17.6389 680.379 Q17.6389 682.408 18.8788 684.121 Q20.1187 685.834 22.328 686.623 Q22.283 686.488 22.283 686.015 Q22.283 684.865 23.0044 684.234 Q23.7258 683.58 24.6952 683.58 Q25.9351 683.58 26.5438 684.391 Q27.1299 685.181 27.1299 685.97 Q27.1299 686.285 27.0623 686.714 Q26.9947 687.119 26.3634 687.773 Q25.7097 688.427 24.5599 688.427 Q21.3361 688.427 18.7661 685.992 Q16.196 683.535 16.196 679.792 Q16.196 675.554 18.721 672.781 Q21.2234 669.986 25.1461 669.986 Q26.5212 669.986 27.7837 670.414 Q29.0236 670.82 29.993 671.384 Q30.9624 671.925 32.518 673.412 Q34.0735 674.9 35.1782 676.095 Q36.2828 677.29 38.6274 679.973 L43.3842 684.865 L43.3842 676.546 Q43.3842 672.488 43.0235 672.173 Q42.3698 671.722 38.9205 671.158 L38.9205 669.986 L46.9462 671.293 L46.9462 688.427 Z\" fill=\"#000000\" fill-rule=\"nonzero\" fill-opacity=\"1\" /><path clip-path=\"url(#clip380)\" d=\"M81.6586 663.132 L81.6586 657.593 L18.7284 657.593 L18.7284 663.132 L17.2147 663.132 L17.2147 653.181 L83.1723 653.181 L83.1723 663.132 L81.6586 663.132 Z\" fill=\"#000000\" fill-rule=\"nonzero\" fill-opacity=\"1\" /><path clip-path=\"url(#clip380)\" d=\"M82.5282 642.87 Q82.2061 642.87 81.401 642.033 Q70.5798 631.405 50.1935 631.405 Q29.7428 631.405 19.4047 641.614 Q18.2131 642.87 17.8588 642.87 Q17.2147 642.87 17.2147 642.226 Q17.2147 641.775 18.5352 640.197 Q19.8556 638.587 22.883 636.171 Q25.9103 633.723 29.614 631.92 Q38.5994 627.572 50.1935 627.572 Q61.3368 627.572 70.3222 631.727 Q74.0903 633.498 77.2464 635.978 Q80.4026 638.458 81.7875 640.1 Q83.1723 641.743 83.1723 642.226 Q83.1723 642.87 82.5282 642.87 Z\" fill=\"#000000\" fill-rule=\"nonzero\" fill-opacity=\"1\" /><path clip-path=\"url(#clip380)\" d=\"M50.9987 597.726 Q50.9987 599.24 50.1935 599.24 Q49.3884 599.24 49.3884 597.662 Q49.3884 597.469 49.4206 597.147 Q49.4528 596.792 49.4528 596.728 L49.4528 578.145 L30.8056 578.145 Q30.7412 578.145 30.4513 578.177 Q30.1293 578.209 29.936 578.209 Q28.3579 578.209 28.3579 577.437 Q28.3579 576.631 29.936 576.631 L49.4528 576.631 L49.4528 558.016 Q49.4528 557.952 49.4206 557.63 Q49.3884 557.308 49.3884 557.115 Q49.3884 555.601 50.1935 555.601 Q50.9987 555.569 50.9987 557.179 Q50.9987 557.372 50.9665 557.662 Q50.9343 557.952 50.9343 558.016 L50.9343 576.631 L70.5154 576.631 Q72.0291 576.631 72.0291 577.437 Q72.0291 578.209 70.451 578.209 Q70.2578 578.209 69.9357 578.177 Q69.6459 578.145 69.5815 578.145 L50.9343 578.145 L50.9343 596.728 Q50.9343 596.792 50.9665 597.179 Q50.9987 597.533 50.9987 597.726 Z\" fill=\"#000000\" fill-rule=\"nonzero\" fill-opacity=\"1\" /><path clip-path=\"url(#clip380)\" d=\"M40.564 503.521 Q41.2403 503.521 41.7878 504.101 Q42.3353 504.648 42.3353 505.324 Q42.3353 505.711 41.6912 506.645 Q39.8232 509.318 39.8232 512.7 Q39.8232 515.727 40.564 518.529 Q41.3047 521.331 42.8184 523.231 Q44.2998 525.099 46.2322 525.099 Q48.6476 525.099 50.0647 522.458 Q48.8087 519.721 48.8087 516.339 Q48.8087 515.244 48.8731 514.503 Q48.9375 513.73 49.0985 512.989 Q49.2596 512.249 49.646 511.894 Q50.0003 511.508 50.58 511.508 Q52.6412 511.508 52.6412 516.854 Q52.6412 520.332 51.7072 522.522 Q53.092 525.324 55.3143 526.87 Q57.5365 528.416 59.4366 528.416 Q61.0791 528.416 62.2707 527.514 Q63.4623 526.58 64.042 525.067 Q64.6217 523.521 64.8794 522.007 Q65.1048 520.461 65.1048 518.754 Q65.1048 515.952 64.7506 513.988 Q64.3641 511.991 63.6556 510.896 Q62.947 509.769 62.464 509.318 Q61.9487 508.835 61.1435 508.352 Q60.6926 508.062 60.6926 507.676 Q60.6926 507.386 60.8859 507.192 Q61.0469 506.967 61.3368 506.967 Q61.691 506.967 62.4317 507.418 Q63.1725 507.837 64.1709 508.867 Q65.137 509.866 66.0388 511.25 Q66.9084 512.603 67.5203 514.761 Q68.1322 516.919 68.1322 519.366 Q68.1322 524.358 65.6845 527.257 Q63.2369 530.123 59.8231 530.123 Q57.4398 530.123 54.9922 528.545 Q52.5123 526.935 50.9343 524.101 Q48.9697 526.741 46.2322 526.741 Q43.7846 526.741 41.5946 524.68 Q39.4046 522.587 38.1163 519.205 Q36.7959 515.791 36.7959 512.056 Q36.7959 509.962 37.5044 507.901 Q38.1807 505.84 39.0503 504.68 Q39.9199 503.521 40.564 503.521 M50.6444 513.215 Q50.2579 514.632 50.2579 516.339 Q50.2579 518.658 50.8376 520.365 Q51.1919 518.98 51.1919 516.854 Q51.1919 515.083 51.0953 514.568 Q50.9987 514.02 50.6444 513.215 Z\" fill=\"#000000\" fill-rule=\"nonzero\" fill-opacity=\"1\" /><circle clip-path=\"url(#clip382)\" cx=\"277.846\" cy=\"1361.97\" r=\"14.4\" fill=\"#009af9\" fill-rule=\"evenodd\" fill-opacity=\"1\" stroke=\"#000000\" stroke-opacity=\"1\" stroke-width=\"3.2\"/>\n",
       "<circle clip-path=\"url(#clip382)\" cx=\"892.296\" cy=\"1157.05\" r=\"14.4\" fill=\"#009af9\" fill-rule=\"evenodd\" fill-opacity=\"1\" stroke=\"#000000\" stroke-opacity=\"1\" stroke-width=\"3.2\"/>\n",
       "<circle clip-path=\"url(#clip382)\" cx=\"1891.03\" cy=\"505.429\" r=\"14.4\" fill=\"#009af9\" fill-rule=\"evenodd\" fill-opacity=\"1\" stroke=\"#000000\" stroke-opacity=\"1\" stroke-width=\"3.2\"/>\n",
       "<circle clip-path=\"url(#clip382)\" cx=\"461.333\" cy=\"1289.32\" r=\"14.4\" fill=\"#009af9\" fill-rule=\"evenodd\" fill-opacity=\"1\" stroke=\"#000000\" stroke-opacity=\"1\" stroke-width=\"3.2\"/>\n",
       "<circle clip-path=\"url(#clip382)\" cx=\"1171.42\" cy=\"1043.54\" r=\"14.4\" fill=\"#009af9\" fill-rule=\"evenodd\" fill-opacity=\"1\" stroke=\"#000000\" stroke-opacity=\"1\" stroke-width=\"3.2\"/>\n",
       "<circle clip-path=\"url(#clip382)\" cx=\"351.081\" cy=\"1302.59\" r=\"14.4\" fill=\"#009af9\" fill-rule=\"evenodd\" fill-opacity=\"1\" stroke=\"#000000\" stroke-opacity=\"1\" stroke-width=\"3.2\"/>\n",
       "<circle clip-path=\"url(#clip382)\" cx=\"537.583\" cy=\"1285.81\" r=\"14.4\" fill=\"#009af9\" fill-rule=\"evenodd\" fill-opacity=\"1\" stroke=\"#000000\" stroke-opacity=\"1\" stroke-width=\"3.2\"/>\n",
       "<circle clip-path=\"url(#clip382)\" cx=\"1226.39\" cy=\"998.99\" r=\"14.4\" fill=\"#009af9\" fill-rule=\"evenodd\" fill-opacity=\"1\" stroke=\"#000000\" stroke-opacity=\"1\" stroke-width=\"3.2\"/>\n",
       "<circle clip-path=\"url(#clip382)\" cx=\"500.077\" cy=\"1316.85\" r=\"14.4\" fill=\"#009af9\" fill-rule=\"evenodd\" fill-opacity=\"1\" stroke=\"#000000\" stroke-opacity=\"1\" stroke-width=\"3.2\"/>\n",
       "<circle clip-path=\"url(#clip382)\" cx=\"747.776\" cy=\"1234.49\" r=\"14.4\" fill=\"#009af9\" fill-rule=\"evenodd\" fill-opacity=\"1\" stroke=\"#000000\" stroke-opacity=\"1\" stroke-width=\"3.2\"/>\n",
       "<circle clip-path=\"url(#clip382)\" cx=\"463.452\" cy=\"1320.02\" r=\"14.4\" fill=\"#009af9\" fill-rule=\"evenodd\" fill-opacity=\"1\" stroke=\"#000000\" stroke-opacity=\"1\" stroke-width=\"3.2\"/>\n",
       "<circle clip-path=\"url(#clip382)\" cx=\"1650.29\" cy=\"689.344\" r=\"14.4\" fill=\"#009af9\" fill-rule=\"evenodd\" fill-opacity=\"1\" stroke=\"#000000\" stroke-opacity=\"1\" stroke-width=\"3.2\"/>\n",
       "<circle clip-path=\"url(#clip382)\" cx=\"1909.32\" cy=\"476.312\" r=\"14.4\" fill=\"#009af9\" fill-rule=\"evenodd\" fill-opacity=\"1\" stroke=\"#000000\" stroke-opacity=\"1\" stroke-width=\"3.2\"/>\n",
       "<circle clip-path=\"url(#clip382)\" cx=\"1380.63\" cy=\"821.531\" r=\"14.4\" fill=\"#009af9\" fill-rule=\"evenodd\" fill-opacity=\"1\" stroke=\"#000000\" stroke-opacity=\"1\" stroke-width=\"3.2\"/>\n",
       "<circle clip-path=\"url(#clip382)\" cx=\"703.516\" cy=\"1203.95\" r=\"14.4\" fill=\"#009af9\" fill-rule=\"evenodd\" fill-opacity=\"1\" stroke=\"#000000\" stroke-opacity=\"1\" stroke-width=\"3.2\"/>\n",
       "<circle clip-path=\"url(#clip382)\" cx=\"937.595\" cy=\"1145.56\" r=\"14.4\" fill=\"#009af9\" fill-rule=\"evenodd\" fill-opacity=\"1\" stroke=\"#000000\" stroke-opacity=\"1\" stroke-width=\"3.2\"/>\n",
       "<circle clip-path=\"url(#clip382)\" cx=\"1470.93\" cy=\"799.535\" r=\"14.4\" fill=\"#009af9\" fill-rule=\"evenodd\" fill-opacity=\"1\" stroke=\"#000000\" stroke-opacity=\"1\" stroke-width=\"3.2\"/>\n",
       "<circle clip-path=\"url(#clip382)\" cx=\"886.307\" cy=\"1174.84\" r=\"14.4\" fill=\"#009af9\" fill-rule=\"evenodd\" fill-opacity=\"1\" stroke=\"#000000\" stroke-opacity=\"1\" stroke-width=\"3.2\"/>\n",
       "<circle clip-path=\"url(#clip382)\" cx=\"508.994\" cy=\"1301.89\" r=\"14.4\" fill=\"#009af9\" fill-rule=\"evenodd\" fill-opacity=\"1\" stroke=\"#000000\" stroke-opacity=\"1\" stroke-width=\"3.2\"/>\n",
       "<circle clip-path=\"url(#clip382)\" cx=\"1083.11\" cy=\"1043.39\" r=\"14.4\" fill=\"#009af9\" fill-rule=\"evenodd\" fill-opacity=\"1\" stroke=\"#000000\" stroke-opacity=\"1\" stroke-width=\"3.2\"/>\n",
       "<circle clip-path=\"url(#clip382)\" cx=\"1795.31\" cy=\"576.128\" r=\"14.4\" fill=\"#009af9\" fill-rule=\"evenodd\" fill-opacity=\"1\" stroke=\"#000000\" stroke-opacity=\"1\" stroke-width=\"3.2\"/>\n",
       "<circle clip-path=\"url(#clip382)\" cx=\"1784.73\" cy=\"578.038\" r=\"14.4\" fill=\"#009af9\" fill-rule=\"evenodd\" fill-opacity=\"1\" stroke=\"#000000\" stroke-opacity=\"1\" stroke-width=\"3.2\"/>\n",
       "<circle clip-path=\"url(#clip382)\" cx=\"1878.64\" cy=\"555.098\" r=\"14.4\" fill=\"#009af9\" fill-rule=\"evenodd\" fill-opacity=\"1\" stroke=\"#000000\" stroke-opacity=\"1\" stroke-width=\"3.2\"/>\n",
       "<circle clip-path=\"url(#clip382)\" cx=\"1929.1\" cy=\"491.18\" r=\"14.4\" fill=\"#009af9\" fill-rule=\"evenodd\" fill-opacity=\"1\" stroke=\"#000000\" stroke-opacity=\"1\" stroke-width=\"3.2\"/>\n",
       "<circle clip-path=\"url(#clip382)\" cx=\"392.201\" cy=\"1335.88\" r=\"14.4\" fill=\"#009af9\" fill-rule=\"evenodd\" fill-opacity=\"1\" stroke=\"#000000\" stroke-opacity=\"1\" stroke-width=\"3.2\"/>\n",
       "<circle clip-path=\"url(#clip382)\" cx=\"1793.82\" cy=\"593.787\" r=\"14.4\" fill=\"#009af9\" fill-rule=\"evenodd\" fill-opacity=\"1\" stroke=\"#000000\" stroke-opacity=\"1\" stroke-width=\"3.2\"/>\n",
       "<circle clip-path=\"url(#clip382)\" cx=\"1714.81\" cy=\"647.797\" r=\"14.4\" fill=\"#009af9\" fill-rule=\"evenodd\" fill-opacity=\"1\" stroke=\"#000000\" stroke-opacity=\"1\" stroke-width=\"3.2\"/>\n",
       "<circle clip-path=\"url(#clip382)\" cx=\"668.946\" cy=\"1267.85\" r=\"14.4\" fill=\"#009af9\" fill-rule=\"evenodd\" fill-opacity=\"1\" stroke=\"#000000\" stroke-opacity=\"1\" stroke-width=\"3.2\"/>\n",
       "<circle clip-path=\"url(#clip382)\" cx=\"979.128\" cy=\"1105.33\" r=\"14.4\" fill=\"#009af9\" fill-rule=\"evenodd\" fill-opacity=\"1\" stroke=\"#000000\" stroke-opacity=\"1\" stroke-width=\"3.2\"/>\n",
       "<circle clip-path=\"url(#clip382)\" cx=\"315.408\" cy=\"1343.49\" r=\"14.4\" fill=\"#009af9\" fill-rule=\"evenodd\" fill-opacity=\"1\" stroke=\"#000000\" stroke-opacity=\"1\" stroke-width=\"3.2\"/>\n",
       "<polyline clip-path=\"url(#clip382)\" style=\"stroke:#e26f46; stroke-linecap:round; stroke-linejoin:round; stroke-width:4; stroke-opacity:0.3; fill:none\" points=\"265.903,1347.77 299.671,1341.32 333.439,1334.41 367.207,1327.03 400.974,1319.18 434.742,1310.87 468.51,1302.1 502.278,1292.86 536.046,1283.15 569.814,1272.98 603.582,1262.35 637.349,1251.25 671.117,1239.68 704.885,1227.65 738.653,1215.16 772.421,1202.19 806.189,1188.77 839.956,1174.88 873.724,1160.52 907.492,1145.7 941.26,1130.41 975.028,1114.66 1008.8,1098.44 1042.56,1081.76 1076.33,1064.61 1110.1,1047 1143.87,1028.92 1177.63,1010.37 1211.4,991.365 1245.17,971.891 1278.94,951.952 1312.71,931.547 1346.47,910.678 1380.24,889.343 1414.01,867.543 1447.78,845.278 1481.55,822.548 1515.31,799.353 1549.08,775.692 1582.85,751.566 1616.62,726.975 1650.38,701.919 1684.15,676.398 1717.92,650.411 1751.69,623.96 1785.46,597.043 1819.22,569.661 1852.99,541.814 1886.76,513.501 1920.53,484.724 1954.3,455.481 1988.06,425.773 2021.83,395.6 2055.6,364.961 2089.37,333.858 2123.13,302.289 2156.9,270.255 2190.67,237.756 2224.44,204.792 2258.21,171.362 2291.97,137.468 \"/>\n",
       "<polyline clip-path=\"url(#clip382)\" style=\"stroke:#3da44d; stroke-linecap:round; stroke-linejoin:round; stroke-width:4; stroke-opacity:0.3; fill:none\" points=\"265.903,1348.27 299.671,1342.29 333.439,1335.79 367.207,1328.79 400.974,1321.27 434.742,1313.25 468.51,1304.71 502.278,1295.67 536.046,1286.11 569.814,1276.05 603.582,1265.47 637.349,1254.38 671.117,1242.79 704.885,1230.68 738.653,1218.06 772.421,1204.94 806.189,1191.3 839.956,1177.15 873.724,1162.5 907.492,1147.33 941.26,1131.65 975.028,1115.46 1008.8,1098.76 1042.56,1081.56 1076.33,1063.84 1110.1,1045.61 1143.87,1026.87 1177.63,1007.62 1211.4,987.861 1245.17,967.591 1278.94,946.812 1312.71,925.522 1346.47,903.722 1380.24,881.412 1414.01,858.591 1447.78,835.261 1481.55,811.42 1515.31,787.069 1549.08,762.208 1582.85,736.836 1616.62,710.955 1650.38,684.563 1684.15,657.661 1717.92,630.249 1751.69,602.327 1785.46,573.894 1819.22,544.952 1852.99,515.499 1886.76,485.536 1920.53,455.063 1954.3,424.08 1988.06,392.586 2021.83,360.582 2055.6,328.068 2089.37,295.044 2123.13,261.51 2156.9,227.465 2190.67,192.911 2224.44,157.846 2258.21,122.271 2291.97,86.1857 \"/>\n",
       "<polyline clip-path=\"url(#clip382)\" style=\"stroke:#c271d2; stroke-linecap:round; stroke-linejoin:round; stroke-width:4; stroke-opacity:0.3; fill:none\" points=\"265.903,1342.37 299.671,1336.52 333.439,1330.18 367.207,1323.36 400.974,1316.05 434.742,1308.26 468.51,1299.98 502.278,1291.21 536.046,1281.96 569.814,1272.22 603.582,1262 637.349,1251.29 671.117,1240.09 704.885,1228.41 738.653,1216.25 772.421,1203.6 806.189,1190.46 839.956,1176.83 873.724,1162.73 907.492,1148.13 941.26,1133.05 975.028,1117.48 1008.8,1101.43 1042.56,1084.89 1076.33,1067.87 1110.1,1050.36 1143.87,1032.36 1177.63,1013.88 1211.4,994.912 1245.17,975.458 1278.94,955.519 1312.71,935.094 1346.47,914.184 1380.24,892.787 1414.01,870.905 1447.78,848.537 1481.55,825.683 1515.31,802.343 1549.08,778.517 1582.85,754.206 1616.62,729.409 1650.38,704.126 1684.15,678.357 1717.92,652.102 1751.69,625.362 1785.46,598.136 1819.22,570.424 1852.99,542.226 1886.76,513.542 1920.53,484.373 1954.3,454.718 1988.06,424.577 2021.83,393.95 2055.6,362.837 2089.37,331.239 2123.13,299.154 2156.9,266.584 2190.67,233.528 2224.44,199.987 2258.21,165.959 2291.97,131.446 \"/>\n",
       "<polyline clip-path=\"url(#clip382)\" style=\"stroke:#ac8d18; stroke-linecap:round; stroke-linejoin:round; stroke-width:4; stroke-opacity:0.3; fill:none\" points=\"265.903,1375.84 299.671,1366.75 333.439,1357.28 367.207,1347.43 400.974,1337.2 434.742,1326.59 468.51,1315.6 502.278,1304.24 536.046,1292.49 569.814,1280.37 603.582,1267.86 637.349,1254.98 671.117,1241.72 704.885,1228.08 738.653,1214.06 772.421,1199.67 806.189,1184.89 839.956,1169.73 873.724,1154.2 907.492,1138.29 941.26,1121.99 975.028,1105.32 1008.8,1088.27 1042.56,1070.84 1076.33,1053.03 1110.1,1034.85 1143.87,1016.28 1177.63,997.338 1211.4,978.014 1245.17,958.311 1278.94,938.23 1312.71,917.77 1346.47,896.931 1380.24,875.712 1414.01,854.115 1447.78,832.14 1481.55,809.785 1515.31,787.051 1549.08,763.938 1582.85,740.447 1616.62,716.576 1650.38,692.327 1684.15,667.698 1717.92,642.691 1751.69,617.305 1785.46,591.54 1819.22,565.396 1852.99,538.873 1886.76,511.971 1920.53,484.691 1954.3,457.031 1988.06,428.992 2021.83,400.575 2055.6,371.779 2089.37,342.603 2123.13,313.049 2156.9,283.116 2190.67,252.804 2224.44,222.113 2258.21,191.043 2291.97,159.595 \"/>\n",
       "<polyline clip-path=\"url(#clip382)\" style=\"stroke:#00a9ad; stroke-linecap:round; stroke-linejoin:round; stroke-width:4; stroke-opacity:0.3; fill:none\" points=\"265.903,1359.34 299.671,1352.4 333.439,1345 367.207,1337.13 400.974,1328.8 434.742,1320 468.51,1310.74 502.278,1301.02 536.046,1290.83 569.814,1280.17 603.582,1269.05 637.349,1257.47 671.117,1245.42 704.885,1232.91 738.653,1219.94 772.421,1206.5 806.189,1192.59 839.956,1178.22 873.724,1163.39 907.492,1148.09 941.26,1132.33 975.028,1116.11 1008.8,1099.41 1042.56,1082.26 1076.33,1064.64 1110.1,1046.56 1143.87,1028.01 1177.63,1008.99 1211.4,989.517 1245.17,969.576 1278.94,949.17 1312.71,928.299 1346.47,906.965 1380.24,885.165 1414.01,862.902 1447.78,840.174 1481.55,816.982 1515.31,793.325 1549.08,769.204 1582.85,744.618 1616.62,719.568 1650.38,694.054 1684.15,668.075 1717.92,641.632 1751.69,614.724 1785.46,587.352 1819.22,559.516 1852.99,531.215 1886.76,502.45 1920.53,473.221 1954.3,443.527 1988.06,413.368 2021.83,382.746 2055.6,351.658 2089.37,320.107 2123.13,288.091 2156.9,255.611 2190.67,222.666 2224.44,189.257 2258.21,155.383 2291.97,121.045 \"/>\n",
       "<polyline clip-path=\"url(#clip382)\" style=\"stroke:#ed5d92; stroke-linecap:round; stroke-linejoin:round; stroke-width:4; stroke-opacity:0.3; fill:none\" points=\"265.903,1333.27 299.671,1327.49 333.439,1321.23 367.207,1314.48 400.974,1307.24 434.742,1299.53 468.51,1291.32 502.278,1282.64 536.046,1273.46 569.814,1263.81 603.582,1253.67 637.349,1243.04 671.117,1231.93 704.885,1220.34 738.653,1208.26 772.421,1195.7 806.189,1182.65 839.956,1169.12 873.724,1155.11 907.492,1140.6 941.26,1125.62 975.028,1110.15 1008.8,1094.2 1042.56,1077.76 1076.33,1060.84 1110.1,1043.43 1143.87,1025.54 1177.63,1007.16 1211.4,988.3 1245.17,968.956 1278.94,949.126 1312.71,928.812 1346.47,908.014 1380.24,886.731 1414.01,864.964 1447.78,842.712 1481.55,819.976 1515.31,796.756 1549.08,773.051 1582.85,748.861 1616.62,724.187 1650.38,699.029 1684.15,673.386 1717.92,647.259 1751.69,620.647 1785.46,593.551 1819.22,565.97 1852.99,537.905 1886.76,509.356 1920.53,480.322 1954.3,450.803 1988.06,420.8 2021.83,390.313 2055.6,359.341 2089.37,327.885 2123.13,295.944 2156.9,263.519 2190.67,230.609 2224.44,197.215 2258.21,163.337 2291.97,128.974 \"/>\n",
       "<polyline clip-path=\"url(#clip382)\" style=\"stroke:#c68125; stroke-linecap:round; stroke-linejoin:round; stroke-width:4; stroke-opacity:0.3; fill:none\" points=\"265.903,1365.04 299.671,1357.73 333.439,1349.96 367.207,1341.73 400.974,1333.04 434.742,1323.89 468.51,1314.28 502.278,1304.22 536.046,1293.69 569.814,1282.71 603.582,1271.27 637.349,1259.36 671.117,1247 704.885,1234.19 738.653,1220.91 772.421,1207.17 806.189,1192.97 839.956,1178.32 873.724,1163.21 907.492,1147.64 941.26,1131.6 975.028,1115.11 1008.8,1098.17 1042.56,1080.76 1076.33,1062.89 1110.1,1044.57 1143.87,1025.78 1177.63,1006.54 1211.4,986.836 1245.17,966.676 1278.94,946.056 1312.71,924.977 1346.47,903.44 1380.24,881.444 1414.01,858.988 1447.78,836.074 1481.55,812.702 1515.31,788.87 1549.08,764.579 1582.85,739.83 1616.62,714.621 1650.38,688.954 1684.15,662.828 1717.92,636.243 1751.69,609.199 1785.46,581.697 1819.22,553.735 1852.99,525.315 1886.76,496.436 1920.53,467.098 1954.3,437.301 1988.06,407.045 2021.83,376.33 2055.6,345.157 2089.37,313.524 2123.13,281.433 2156.9,248.883 2190.67,215.874 2224.44,182.406 2258.21,148.479 2291.97,114.093 \"/>\n",
       "<polyline clip-path=\"url(#clip382)\" style=\"stroke:#00a98d; stroke-linecap:round; stroke-linejoin:round; stroke-width:4; stroke-opacity:0.3; fill:none\" points=\"265.903,1354.5 299.671,1346.32 333.439,1337.72 367.207,1328.72 400.974,1319.3 434.742,1309.47 468.51,1299.23 502.278,1288.58 536.046,1277.52 569.814,1266.04 603.582,1254.16 637.349,1241.86 671.117,1229.16 704.885,1216.04 738.653,1202.51 772.421,1188.56 806.189,1174.21 839.956,1159.45 873.724,1144.27 907.492,1128.68 941.26,1112.69 975.028,1096.28 1008.8,1079.46 1042.56,1062.22 1076.33,1044.58 1110.1,1026.53 1143.87,1008.06 1177.63,989.182 1211.4,969.894 1245.17,950.194 1278.94,930.083 1312.71,909.56 1346.47,888.626 1380.24,867.281 1414.01,845.525 1447.78,823.357 1481.55,800.778 1515.31,777.788 1549.08,754.386 1582.85,730.573 1616.62,706.349 1650.38,681.713 1684.15,656.667 1717.92,631.208 1751.69,605.339 1785.46,579.058 1819.22,552.366 1852.99,525.263 1886.76,497.748 1920.53,469.822 1954.3,441.485 1988.06,412.737 2021.83,383.577 2055.6,354.006 2089.37,324.023 2123.13,293.629 2156.9,262.824 2190.67,231.608 2224.44,199.98 2258.21,167.941 2291.97,135.491 \"/>\n",
       "<polyline clip-path=\"url(#clip382)\" style=\"stroke:#8e971d; stroke-linecap:round; stroke-linejoin:round; stroke-width:4; stroke-opacity:0.3; fill:none\" points=\"265.903,1384.24 299.671,1375.74 333.439,1366.82 367.207,1357.49 400.974,1347.75 434.742,1337.59 468.51,1327.03 502.278,1316.05 536.046,1304.65 569.814,1292.84 603.582,1280.62 637.349,1267.99 671.117,1254.94 704.885,1241.48 738.653,1227.61 772.421,1213.33 806.189,1198.63 839.956,1183.51 873.724,1167.99 907.492,1152.05 941.26,1135.7 975.028,1118.94 1008.8,1101.76 1042.56,1084.17 1076.33,1066.17 1110.1,1047.75 1143.87,1028.92 1177.63,1009.68 1211.4,990.02 1245.17,969.951 1278.94,949.469 1312.71,928.574 1346.47,907.266 1380.24,885.545 1414.01,863.411 1447.78,840.863 1481.55,817.903 1515.31,794.529 1549.08,770.743 1582.85,746.543 1616.62,721.93 1650.38,696.904 1684.15,671.465 1717.92,645.613 1751.69,619.348 1785.46,592.67 1819.22,565.579 1852.99,538.074 1886.76,510.157 1920.53,481.826 1954.3,453.083 1988.06,423.926 2021.83,394.356 2055.6,364.373 2089.37,333.977 2123.13,303.168 2156.9,271.946 2190.67,240.311 2224.44,208.263 2258.21,175.801 2291.97,142.927 \"/>\n",
       "<polyline clip-path=\"url(#clip382)\" style=\"stroke:#00a8cb; stroke-linecap:round; stroke-linejoin:round; stroke-width:4; stroke-opacity:0.3; fill:none\" points=\"265.903,1361.43 299.671,1353.4 333.439,1344.96 367.207,1336.09 400.974,1326.8 434.742,1317.09 468.51,1306.96 502.278,1296.4 536.046,1285.43 569.814,1274.03 603.582,1262.21 637.349,1249.98 671.117,1237.31 704.885,1224.23 738.653,1210.73 772.421,1196.8 806.189,1182.46 839.956,1167.69 873.724,1152.5 907.492,1136.89 941.26,1120.86 975.028,1104.4 1008.8,1087.53 1042.56,1070.23 1076.33,1052.51 1110.1,1034.37 1143.87,1015.81 1177.63,996.829 1211.4,977.425 1245.17,957.6 1278.94,937.353 1312.71,916.685 1346.47,895.595 1380.24,874.084 1414.01,852.151 1447.78,829.797 1481.55,807.022 1515.31,783.825 1549.08,760.206 1582.85,736.166 1616.62,711.705 1650.38,686.822 1684.15,661.518 1717.92,635.792 1751.69,609.645 1785.46,583.076 1819.22,556.086 1852.99,528.675 1886.76,500.842 1920.53,472.588 1954.3,443.912 1988.06,414.814 2021.83,385.296 2055.6,355.355 2089.37,324.994 2123.13,294.211 2156.9,263.006 2190.67,231.38 2224.44,199.333 2258.21,166.864 2291.97,133.974 \"/>\n",
       "<path clip-path=\"url(#clip380)\" d=\"M276.709 196.789 L591.333 196.789 L591.333 93.1086 L276.709 93.1086  Z\" fill=\"#ffffff\" fill-rule=\"evenodd\" fill-opacity=\"1\"/>\n",
       "<polyline clip-path=\"url(#clip380)\" style=\"stroke:#000000; stroke-linecap:round; stroke-linejoin:round; stroke-width:4; stroke-opacity:1; fill:none\" points=\"276.709,196.789 591.333,196.789 591.333,93.1086 276.709,93.1086 276.709,196.789 \"/>\n",
       "<circle clip-path=\"url(#clip380)\" cx=\"372.159\" cy=\"144.949\" r=\"20.48\" fill=\"#009af9\" fill-rule=\"evenodd\" fill-opacity=\"1\" stroke=\"#000000\" stroke-opacity=\"1\" stroke-width=\"4.55111\"/>\n",
       "<path clip-path=\"url(#clip380)\" d=\"M486.522 140.238 L486.522 126.21 L490.781 126.21 L490.781 162.229 L486.522 162.229 L486.522 158.34 Q485.179 160.655 483.119 161.789 Q481.082 162.9 478.211 162.9 Q473.512 162.9 470.549 159.15 Q467.61 155.4 467.61 149.289 Q467.61 143.178 470.549 139.428 Q473.512 135.678 478.211 135.678 Q481.082 135.678 483.119 136.812 Q485.179 137.923 486.522 140.238 M472.008 149.289 Q472.008 153.988 473.929 156.673 Q475.874 159.335 479.253 159.335 Q482.633 159.335 484.577 156.673 Q486.522 153.988 486.522 149.289 Q486.522 144.59 484.577 141.928 Q482.633 139.243 479.253 139.243 Q475.874 139.243 473.929 141.928 Q472.008 144.59 472.008 149.289 Z\" fill=\"#000000\" fill-rule=\"nonzero\" fill-opacity=\"1\" /><path clip-path=\"url(#clip380)\" d=\"M511.336 149.196 Q506.174 149.196 504.184 150.377 Q502.193 151.557 502.193 154.405 Q502.193 156.673 503.674 158.016 Q505.179 159.335 507.748 159.335 Q511.29 159.335 513.42 156.835 Q515.572 154.312 515.572 150.145 L515.572 149.196 L511.336 149.196 M519.832 147.437 L519.832 162.229 L515.572 162.229 L515.572 158.293 Q514.114 160.655 511.938 161.789 Q509.762 162.9 506.614 162.9 Q502.633 162.9 500.272 160.678 Q497.934 158.432 497.934 154.682 Q497.934 150.307 500.85 148.085 Q503.79 145.863 509.6 145.863 L515.572 145.863 L515.572 145.446 Q515.572 142.507 513.628 140.909 Q511.707 139.289 508.211 139.289 Q505.989 139.289 503.883 139.821 Q501.776 140.354 499.832 141.419 L499.832 137.483 Q502.17 136.581 504.369 136.141 Q506.568 135.678 508.651 135.678 Q514.276 135.678 517.054 138.594 Q519.832 141.511 519.832 147.437 Z\" fill=\"#000000\" fill-rule=\"nonzero\" fill-opacity=\"1\" /><path clip-path=\"url(#clip380)\" d=\"M532.818 128.942 L532.818 136.303 L541.591 136.303 L541.591 139.613 L532.818 139.613 L532.818 153.687 Q532.818 156.858 533.674 157.761 Q534.554 158.664 537.216 158.664 L541.591 158.664 L541.591 162.229 L537.216 162.229 Q532.285 162.229 530.41 160.4 Q528.535 158.548 528.535 153.687 L528.535 139.613 L525.41 139.613 L525.41 136.303 L528.535 136.303 L528.535 128.942 L532.818 128.942 Z\" fill=\"#000000\" fill-rule=\"nonzero\" fill-opacity=\"1\" /><path clip-path=\"url(#clip380)\" d=\"M558.975 149.196 Q553.813 149.196 551.822 150.377 Q549.831 151.557 549.831 154.405 Q549.831 156.673 551.313 158.016 Q552.818 159.335 555.387 159.335 Q558.929 159.335 561.058 156.835 Q563.211 154.312 563.211 150.145 L563.211 149.196 L558.975 149.196 M567.47 147.437 L567.47 162.229 L563.211 162.229 L563.211 158.293 Q561.753 160.655 559.577 161.789 Q557.401 162.9 554.253 162.9 Q550.271 162.9 547.91 160.678 Q545.572 158.432 545.572 154.682 Q545.572 150.307 548.489 148.085 Q551.429 145.863 557.239 145.863 L563.211 145.863 L563.211 145.446 Q563.211 142.507 561.267 140.909 Q559.345 139.289 555.85 139.289 Q553.628 139.289 551.521 139.821 Q549.415 140.354 547.47 141.419 L547.47 137.483 Q549.808 136.581 552.007 136.141 Q554.206 135.678 556.29 135.678 Q561.915 135.678 564.693 138.594 Q567.47 141.511 567.47 147.437 Z\" fill=\"#000000\" fill-rule=\"nonzero\" fill-opacity=\"1\" /></svg>\n"
      ]
     },
     "metadata": {},
     "output_type": "display_data"
    },
    {
     "name": "stdout",
     "output_type": "stream",
     "text": [
      "Posterior distribution of w: MvNormalWeightedMeanPrecision(\n",
      "xi: [285.8781837443096, 2154.706798933385, 18124.604491128397]\n",
      "Λ: [15.00001 72.03886027685306 516.0960370001554; 72.03886027685306 516.0960470001554 4223.425093463077; 516.0960370001554 4223.425093463077 36626.781802312056]\n",
      ")\n",
      "\n"
     ]
    }
   ],
   "source": [
    "using RxInfer, Random\n",
    "# Build model\n",
    "@model function linear_regression(N, Σ, σ2)\n",
    "\n",
    "    w ~ MvNormalMeanCovariance(constvar(zeros(3)),constvar(Σ))\n",
    "   \n",
    "    x = datavar(Vector{Float64}, N)\n",
    "    y = datavar(Float64, N)\n",
    "    \n",
    "    for i in 1:N\n",
    "        y[i] ~ NormalMeanVariance(dot(w , x[i]), σ2)\n",
    "    end\n",
    "    return w, x, y\n",
    "end\n",
    "# Run message passing algorithm \n",
    "results = inference(\n",
    "    model = linear_regression(length(x_train), Σ, σ2 ),\n",
    "    data  = (y = y_train, x = x_train),\n",
    "    returnvars   = (w = KeepLast()),\n",
    "    iterations   = 20\n",
    ");\n",
    "# Plot result\n",
    "w = results.posteriors[:w]\n",
    "println(\"Posterior distribution of w: $(w)\")\n",
    "plt = scatter(z, y_train, label=\"data\", xlabel=L\"z\", ylabel=L\"f([1.0, z, z^2]) + \\epsilon\")\n",
    "z_test = collect(0:0.2:12)\n",
    "x_test = [[1.0; z; z^2] for z in z_test]\n",
    "for i=1:10\n",
    "    w_sample = rand(results.posteriors[:w])\n",
    "    f_est(x) = (w_sample'*x)[1]\n",
    "    plt = plot!(z_test, map(f_est, x_test), alpha=0.3, label=\"\");\n",
    "end\n",
    "display(plt)"
   ]
  },
  {
   "cell_type": "markdown",
   "metadata": {},
   "source": [
    "### Final thoughts: Modularity and Abstraction \n",
    "\n",
    "- The great Michael Jordan (no, not [this one](https://youtu.be/cuLprHh_BRg), but [this one](https://people.eecs.berkeley.edu/~jordan/)), wrote:   \n",
    "\n",
    "  > \"I basically know of two principles for treating complicated systems in simple ways: the first is the principle of **modularity** and the second is the principle of **abstraction**. I am an apologist for computational probability in machine learning because I believe that probability theory implements these two principles in deep and intriguing ways — namely through factorization and through averaging. Exploiting these two mechanisms as fully as possible seems to me to be the way forward in machine learning.\" — Michael Jordan, 1997 (quoted in [Fre98](https://mitpress.mit.edu/9780262062022/)).\n",
    "\n",
    "- Factor graphs realize these ideas nicely, both visually and computationally.\n",
    "\n",
    "- Visually, the modularity of conditional independencies in the model are displayed by the graph structure. Each node hides internal complexity and by closing-the-box, we can hierarchically move on to higher levels of abstraction. \n",
    "\n",
    "- Computationally, message passing-based inference uses the Distributive Law to avoid any unnecessary computations.  "
   ]
  },
  {
   "cell_type": "markdown",
   "metadata": {
    "slideshow": {
     "slide_type": "slide"
    }
   },
   "source": [
    "## <center>OPTIONAL SLIDES</center>"
   ]
  },
  {
   "cell_type": "markdown",
   "metadata": {
    "slideshow": {
     "slide_type": "slide"
    }
   },
   "source": [
    "###  <a id=\"sp-for-multiplication-node\">Sum-Product Messages for Multiplication Nodes</a>\n",
    "- Next, let us consider a **multiplication** by a fixed (invertible matrix) gain $f_A(x,y) = \\delta(y-Ax)$\n",
    "\n",
    "<p style=\"text-align:center;\"><img src=\"./figures/ffg-gain-node.png\" width=\"250px\"></p>"
   ]
  },
  {
   "cell_type": "markdown",
   "metadata": {
    "slideshow": {
     "slide_type": "fragment"
    }
   },
   "source": [
    "$$\\begin{align*}\n",
    "\\overrightarrow{\\mu}_{Y}(y) &= \\int  \\overrightarrow{\\mu}_{X}(x) \\,\\delta(y-Ax) \\,\\mathrm{d}x \\\\\n",
    "&= \\int  \\overrightarrow{\\mu}_{X}(x) \\,|A|^{-1}\\delta(x-A^{-1}y) \\,\\mathrm{d}x \\\\\n",
    "&= |A|^{-1}\\overrightarrow{\\mu}_{X}(A^{-1}y) \\,.\n",
    "\\end{align*}$$"
   ]
  },
  {
   "cell_type": "markdown",
   "metadata": {
    "slideshow": {
     "slide_type": "fragment"
    }
   },
   "source": [
    "- For a Gaussian message input message $\\overrightarrow{\\mu}_{X}(x) = \\mathcal{N}(x|\\overrightarrow{m}_{X},\\overrightarrow{V}_{X})$, the output message is also Gaussian with \n",
    "$$\\begin{align*}\n",
    "\\overrightarrow{m}_{Y} = A\\overrightarrow{m}_{X} \\,,\\,\\text{and}\\,\\,\n",
    "\\overrightarrow{V}_{Y} = A\\overrightarrow{V}_{X}A^T\n",
    "\\end{align*}$$\n",
    "since \n",
    "$$\\begin{align*}\n",
    "\\overrightarrow{\\mu}_{Y}(y) &= |A|^{-1}\\overrightarrow{\\mu}_{X}(A^{-1}y) \\\\\n",
    "  &\\propto \\exp \\left( -\\frac{1}{2} \\left( A^{-1}y - \\overrightarrow{m}_{X}\\right)^T \\overrightarrow{V}_{X}^{-1} \\left(  A^{-1}y - \\overrightarrow{m}_{X}\\right)\\right) \\\\\n",
    "   &= \\exp \\big( -\\frac{1}{2} \\left( y - A\\overrightarrow{m}_{X}\\right)^T \\underbrace{A^{-T}\\overrightarrow{V}_{X}^{-1} A^{-1}}_{(A \\overrightarrow{V}_{X} A^T)^{-1}} \\left( y - A\\overrightarrow{m}_{X}\\right)\\big) \\\\\n",
    "  &\\propto  \\mathcal{N}(y| A\\overrightarrow{m}_{X},A\\overrightarrow{V}_{X}A^T) \\,.\n",
    "\\end{align*}$$"
   ]
  },
  {
   "cell_type": "markdown",
   "metadata": {
    "slideshow": {
     "slide_type": "subslide"
    }
   },
   "source": [
    "- <b>Exercise</b>: Proof that, for the same factor $\\delta(y-Ax)$ and Gaussian messages, the (backward) sum-product message $\\overleftarrow{\\mu}_{X}$ is given by \n",
    "$$\\begin{align*}\n",
    "\\overleftarrow{\\xi}_{X} &= A^T\\overleftarrow{\\xi}_{Y} \\\\\n",
    "\\overleftarrow{W}_{X} &= A^T\\overleftarrow{W}_{Y}A\n",
    "\\end{align*}$$\n",
    "where $\\overleftarrow{\\xi}_X \\triangleq \\overleftarrow{W}_X \\overleftarrow{m}_X$ and $\\overleftarrow{W}_{X} \\triangleq \\overleftarrow{V}_{X}^{-1}$ (and similarly for $Y$)."
   ]
  },
  {
   "cell_type": "markdown",
   "metadata": {
    "slideshow": {
     "slide_type": "slide"
    }
   },
   "source": [
    "\n",
    "### Code example: Gaussian forward and backward messages for the Addition node\n",
    "\n",
    "Let's calculate the Gaussian forward and backward messages for the addition node in RxInfer. \n",
    "<p style=\"text-align:center;\"><img src=\"./figures/ffg-addition-node.png\" width=\"250px\"></p>"
   ]
  },
  {
   "cell_type": "code",
   "execution_count": 5,
   "metadata": {
    "slideshow": {
     "slide_type": "subslide"
    }
   },
   "outputs": [
    {
     "name": "stdout",
     "output_type": "stream",
     "text": [
      "Forward message on Z:\n"
     ]
    },
    {
     "data": {
      "text/plain": [
       "NormalMeanVariance{Float64}(μ=3.0, v=2.0)"
      ]
     },
     "execution_count": 5,
     "metadata": {},
     "output_type": "execute_result"
    }
   ],
   "source": [
    "println(\"Forward message on Z:\")\n",
    "@call_rule typeof(+)(:out, Marginalisation) (m_in1 = NormalMeanVariance(1.0, 1.0), m_in2 = NormalMeanVariance(2.0, 1.0))"
   ]
  },
  {
   "cell_type": "code",
   "execution_count": 6,
   "metadata": {
    "slideshow": {
     "slide_type": "subslide"
    }
   },
   "outputs": [
    {
     "name": "stdout",
     "output_type": "stream",
     "text": [
      "Backward message on X:\n"
     ]
    },
    {
     "data": {
      "text/plain": [
       "NormalMeanVariance{Float64}(μ=1.0, v=2.0)"
      ]
     },
     "execution_count": 6,
     "metadata": {},
     "output_type": "execute_result"
    }
   ],
   "source": [
    "println(\"Backward message on X:\")\n",
    "@call_rule typeof(+)(:in1, Marginalisation) (m_out = NormalMeanVariance(3.0, 1.0), m_in2 = NormalMeanVariance(2.0, 1.0))"
   ]
  },
  {
   "cell_type": "markdown",
   "metadata": {
    "slideshow": {
     "slide_type": "slide"
    }
   },
   "source": [
    "### Code Example: forward and backward messages for the Matrix Multiplication node\n",
    "\n",
    "In the same way we can also investigate the forward and backward messages for the matrix multiplication (\"gain\") node \n",
    "<p style=\"text-align:center;\"><img src=\"./figures/ffg-gain-node.png\" width=\"250px\"></p>"
   ]
  },
  {
   "cell_type": "code",
   "execution_count": 7,
   "metadata": {
    "slideshow": {
     "slide_type": "subslide"
    }
   },
   "outputs": [
    {
     "name": "stdout",
     "output_type": "stream",
     "text": [
      "Forward message on Y:\n"
     ]
    },
    {
     "data": {
      "text/plain": [
       "NormalMeanVariance{Float64}(μ=4.0, v=16.0)"
      ]
     },
     "execution_count": 7,
     "metadata": {},
     "output_type": "execute_result"
    }
   ],
   "source": [
    "println(\"Forward message on Y:\")\n",
    "@call_rule typeof(*)(:out, Marginalisation) (m_A = PointMass(4.0), m_in = NormalMeanVariance(1.0, 1.0))"
   ]
  },
  {
   "cell_type": "code",
   "execution_count": 8,
   "metadata": {
    "slideshow": {
     "slide_type": "subslide"
    }
   },
   "outputs": [
    {
     "name": "stdout",
     "output_type": "stream",
     "text": [
      "Backward message on X:\n"
     ]
    },
    {
     "data": {
      "text/plain": [
       "NormalWeightedMeanPrecision{Float64}(xi=8.0, w=16.0)"
      ]
     },
     "execution_count": 8,
     "metadata": {},
     "output_type": "execute_result"
    }
   ],
   "source": [
    "println(\"Backward message on X:\")\n",
    "@call_rule typeof(*)(:in, Marginalisation) (m_out = NormalMeanVariance(2.0, 1.0), m_A = PointMass(4.0), meta = TinyCorrection())"
   ]
  },
  {
   "cell_type": "markdown",
   "metadata": {
    "slideshow": {
     "slide_type": "fragment"
    }
   },
   "source": [
    " \n",
    " ### Example: Sum-Product Algorithm to infer a posterior\n",
    " \n",
    " - Consider a generative model \n",
    "$$p(x,y_1,y_2) = p(x)\\,p(y_1|x)\\,p(y_2|x) .$$ \n",
    "  - This model expresses the assumption that $Y_1$ and $Y_2$ are independent measurements of $X$.\n",
    "\n",
    "<p style=\"text-align:center;\"><img src=\"./figures/ffg-observations.png\" width=\"375px\"></p>"
   ]
  },
  {
   "cell_type": "markdown",
   "metadata": {
    "slideshow": {
     "slide_type": "subslide"
    }
   },
   "source": [
    " \n",
    "- Assume that we are interested in the posterior for $X$ after observing $Y_1= \\hat y_1$ and $Y_2= \\hat y_2$. The posterior for $X$ can be inferred by applying the sum-product algorithm to the following graph:\n",
    "\n",
    "<p style=\"text-align:center;\"><img src=\"./figures/ffg-observations-2.png\" width=\"650px\"></p>"
   ]
  },
  {
   "cell_type": "markdown",
   "metadata": {
    "slideshow": {
     "slide_type": "fragment"
    }
   },
   "source": [
    " - (Note that) we usually draw terminal nodes for observed variables in the graph by smaller solid-black squares. This is just to help the visualization of the graph, since the computational rules are no different than for other nodes. "
   ]
  },
  {
   "cell_type": "markdown",
   "metadata": {
    "slideshow": {
     "slide_type": "slide"
    }
   },
   "source": [
    "### Code for Sum-Product Algorithm to infer  a posterior\n",
    "\n",
    "We'll use RxInfer to build the above graph, and perform sum-product message passing to infer the posterior $p(x|y_1,y_2)$. We assume $p(y_1|x)$ and $p(y_2|x)$ to be Gaussian likelihoods with known variances:\n",
    "$$\\begin{align*}\n",
    "    p(y_1\\,|\\,x) &= \\mathcal{N}(y_1\\,|\\,x, v_{y1}) \\\\\n",
    "    p(y_2\\,|\\,x) &= \\mathcal{N}(y_2\\,|\\,x, v_{y2})\n",
    "\\end{align*}$$\n",
    "Under this model, the posterior is given by:\n",
    "$$\\begin{align*}\n",
    "    p(x\\,|\\,y_1,y_2) &\\propto \\overbrace{p(y_1\\,|\\,x)\\,p(y_2\\,|\\,x)}^{\\text{likelihood}}\\,\\overbrace{p(x)}^{\\text{prior}} \\\\\n",
    "    &=\\mathcal{N}(x\\,|\\,\\hat{y}_1, v_{y1})\\, \\mathcal{N}(x\\,|\\,\\hat{y}_2, v_{y2}) \\, \\mathcal{N}(x\\,|\\,m_x, v_x) \n",
    "\\end{align*}$$\n",
    "so we can validate the answer by solving the Gaussian multiplication manually."
   ]
  },
  {
   "cell_type": "code",
   "execution_count": 4,
   "metadata": {
    "slideshow": {
     "slide_type": "subslide"
    }
   },
   "outputs": [
    {
     "name": "stdout",
     "output_type": "stream",
     "text": [
      "Sum-product message passing result: p(x|y1,y2) = 𝒩(1.1428571428571428,0.5714285714285714)\n",
      "Manual result: p(x|y1,y2) = 𝒩(1.1428571428571428, 0.5714285714285714)\n"
     ]
    }
   ],
   "source": [
    "# Data\n",
    "y1_hat = 1.0\n",
    "y2_hat = 2.0\n",
    "\n",
    "# Construct the factor graph\n",
    "@model function my_model()\n",
    "\n",
    "    # `x` is the hidden states\n",
    "    x = randomvar()\n",
    "    # `y1` and `y2` are \"clamped\" observations\n",
    "    y1 = datavar(Float64,)\n",
    "    y2 = datavar(Float64,)\n",
    "    \n",
    "    x ~ NormalMeanVariance(constvar(0.0), constvar(4.0))\n",
    "    y1 ~ NormalMeanVariance(x, constvar(1))\n",
    "    y2 ~ NormalMeanVariance(x, constvar(2))\n",
    "    \n",
    "    return x\n",
    "end\n",
    "\n",
    "result = inference(model=my_model(), data=(y1=y1_hat, y2 = y2_hat,))\n",
    "println(\"Sum-product message passing result: p(x|y1,y2) = 𝒩($(mean(result.posteriors[:x])),$(var(result.posteriors[:x])))\")\n",
    "\n",
    "# Calculate mean and variance of p(x|y1,y2) manually by multiplying 3 Gaussians (see lesson 4 for details)\n",
    "v = 1 / (1/4 + 1/1 + 1/2)\n",
    "m = v * (0/4 + y1_hat/1.0 + y2_hat/2.0)\n",
    "println(\"Manual result: p(x|y1,y2) = 𝒩($(m), $(v))\")"
   ]
  },
  {
   "cell_type": "code",
   "execution_count": 13,
   "metadata": {
    "slideshow": {
     "slide_type": "skip"
    }
   },
   "outputs": [
    {
     "data": {
      "text/html": [
       "<!--\r\n",
       "This HTML file contains custom styles and some javascript.\r\n",
       "Include it a Jupyter notebook for improved rendering.\r\n",
       "-->\r\n",
       "\r\n",
       "<!-- Fonts -->\r\n",
       "<link href='http://fonts.googleapis.com/css?family=Alegreya+Sans:100,300,400,500,700,800,900,100italic,300italic,400italic,500italic,700italic,800italic,900italic' rel='stylesheet' type='text/css'>\r\n",
       "<link href='http://fonts.googleapis.com/css?family=Arvo:400,700,400italic' rel='stylesheet' type='text/css'>\r\n",
       "<link href='http://fonts.googleapis.com/css?family=PT+Mono' rel='stylesheet' type='text/css'>\r\n",
       "<link href='http://fonts.googleapis.com/css?family=Shadows+Into+Light' rel='stylesheet' type='text/css'>\r\n",
       "<link href='http://fonts.googleapis.com/css?family=Nixie+One' rel='stylesheet' type='text/css'>\r\n",
       "\r\n",
       "<!-- Custom style -->\r\n",
       "<style>\r\n",
       "\r\n",
       "@font-face {\r\n",
       "    font-family: \"Computer Modern\";\r\n",
       "    src: url('http://mirrors.ctan.org/fonts/cm-unicode/fonts/otf/cmunss.otf');\r\n",
       "}\r\n",
       "\r\n",
       "#notebook_panel { /* main background */\r\n",
       "    background: rgb(245,245,245);\r\n",
       "}\r\n",
       "\r\n",
       "div.container {\r\n",
       "    min-width: 960px;\r\n",
       "}\r\n",
       "\r\n",
       "div #notebook { /* centre the content */\r\n",
       "    background: #fff; /* white background for content */\r\n",
       "    margin: auto;\r\n",
       "    padding-left: 0em;\r\n",
       "}\r\n",
       "\r\n",
       "#notebook li { /* More space between bullet points */\r\n",
       "    margin-top:0.8em;\r\n",
       "}\r\n",
       "\r\n",
       "/* draw border around running cells */\r\n",
       "div.cell.border-box-sizing.code_cell.running {\r\n",
       "    border: 1px solid #111;\r\n",
       "}\r\n",
       "\r\n",
       "/* Put a solid color box around each cell and its output, visually linking them*/\r\n",
       "div.cell.code_cell {\r\n",
       "    background-color: rgb(256,256,256);\r\n",
       "    border-radius: 0px;\r\n",
       "    padding: 0.5em;\r\n",
       "    margin-left:1em;\r\n",
       "    margin-top: 1em;\r\n",
       "}\r\n",
       "\r\n",
       "div.text_cell_render{\r\n",
       "    font-family: 'Alegreya Sans' sans-serif;\r\n",
       "    line-height: 140%;\r\n",
       "    font-size: 125%;\r\n",
       "    font-weight: 400;\r\n",
       "    width:800px;\r\n",
       "    margin-left:auto;\r\n",
       "    margin-right:auto;\r\n",
       "}\r\n",
       "\r\n",
       "\r\n",
       "/* Formatting for header cells */\r\n",
       ".text_cell_render h1 {\r\n",
       "    font-family: 'Nixie One', serif;\r\n",
       "    font-style:regular;\r\n",
       "    font-weight: 400;\r\n",
       "    font-size: 45pt;\r\n",
       "    line-height: 100%;\r\n",
       "    color: rgb(0,51,102);\r\n",
       "    margin-bottom: 0.5em;\r\n",
       "    margin-top: 0.5em;\r\n",
       "    display: block;\r\n",
       "}\r\n",
       "\r\n",
       ".text_cell_render h2 {\r\n",
       "    font-family: 'Nixie One', serif;\r\n",
       "    font-weight: 400;\r\n",
       "    font-size: 30pt;\r\n",
       "    line-height: 100%;\r\n",
       "    color: rgb(0,51,102);\r\n",
       "    margin-bottom: 0.1em;\r\n",
       "    margin-top: 0.3em;\r\n",
       "    display: block;\r\n",
       "}\r\n",
       "\r\n",
       ".text_cell_render h3 {\r\n",
       "    font-family: 'Nixie One', serif;\r\n",
       "    margin-top:16px;\r\n",
       "    font-size: 22pt;\r\n",
       "    font-weight: 600;\r\n",
       "    margin-bottom: 3px;\r\n",
       "    font-style: regular;\r\n",
       "    color: rgb(102,102,0);\r\n",
       "}\r\n",
       "\r\n",
       ".text_cell_render h4 {    /*Use this for captions*/\r\n",
       "    font-family: 'Nixie One', serif;\r\n",
       "    font-size: 14pt;\r\n",
       "    text-align: center;\r\n",
       "    margin-top: 0em;\r\n",
       "    margin-bottom: 2em;\r\n",
       "    font-style: regular;\r\n",
       "}\r\n",
       "\r\n",
       ".text_cell_render h5 {  /*Use this for small titles*/\r\n",
       "    font-family: 'Nixie One', sans-serif;\r\n",
       "    font-weight: 400;\r\n",
       "    font-size: 16pt;\r\n",
       "    color: rgb(163,0,0);\r\n",
       "    font-style: italic;\r\n",
       "    margin-bottom: .1em;\r\n",
       "    margin-top: 0.8em;\r\n",
       "    display: block;\r\n",
       "}\r\n",
       "\r\n",
       ".text_cell_render h6 { /*use this for copyright note*/\r\n",
       "    font-family: 'PT Mono', sans-serif;\r\n",
       "    font-weight: 300;\r\n",
       "    font-size: 9pt;\r\n",
       "    line-height: 100%;\r\n",
       "    color: grey;\r\n",
       "    margin-bottom: 1px;\r\n",
       "    margin-top: 1px;\r\n",
       "}\r\n",
       "\r\n",
       ".CodeMirror{\r\n",
       "    font-family: \"PT Mono\";\r\n",
       "    font-size: 90%;\r\n",
       "}\r\n",
       "\r\n",
       ".boxed { /* draw a border around a piece of text */\r\n",
       "  border: 1px solid blue ;\r\n",
       "}\r\n",
       "\r\n",
       "h4#CODE-EXAMPLE,\r\n",
       "h4#END-OF-CODE-EXAMPLE {\r\n",
       "    margin: 10px 0;\r\n",
       "    padding: 10px;\r\n",
       "    background-color: #d0f9ca !important;\r\n",
       "    border-top: #849f81 1px solid;\r\n",
       "    border-bottom: #849f81 1px solid;\r\n",
       "}\r\n",
       "\r\n",
       ".emphasis {\r\n",
       "    color: red;\r\n",
       "}\r\n",
       "\r\n",
       ".exercise {\r\n",
       "    color: green;\r\n",
       "}\r\n",
       "\r\n",
       ".proof {\r\n",
       "    color: blue;\r\n",
       "}\r\n",
       "\r\n",
       "code {\r\n",
       "  padding: 2px 4px !important;\r\n",
       "  font-size: 90% !important;\r\n",
       "  color: #222 !important;\r\n",
       "  background-color: #efefef !important;\r\n",
       "  border-radius: 2px !important;\r\n",
       "}\r\n",
       "\r\n",
       "/* This removes the actual style cells from the notebooks, but no in print mode\r\n",
       "   as they will be removed through some other method */\r\n",
       "@media not print {\r\n",
       "  .cell:nth-last-child(-n+2) {\r\n",
       "    display: none;\r\n",
       "  }\r\n",
       "}\r\n",
       "\r\n",
       "footer.hidden-print {\r\n",
       "    display: none !important;\r\n",
       "}\r\n",
       "    \r\n",
       "</style>\r\n",
       "\r\n",
       "<!-- MathJax styling -->\r\n",
       "<script>\r\n",
       "    MathJax.Hub.Config({\r\n",
       "                        CommonHTML: {\r\n",
       "                            scale: 200\r\n",
       "                        },\r\n",
       "                TeX: {\r\n",
       "                    extensions: [\"AMSmath.js\"],\r\n",
       "                    equationNumbers: { autoNumber: \"AMS\", useLabelIds: true}\r\n",
       "                },\r\n",
       "                tex2jax: {\r\n",
       "                    inlineMath: [ ['$','$'], [\"\\\\(\",\"\\\\)\"] ],\r\n",
       "                    displayMath: [ ['$$','$$'], [\"\\\\[\",\"\\\\]\"] ]\r\n",
       "                },\r\n",
       "                displayAlign: 'center', // Change this to 'center' to center equations.\r\n",
       "                \"HTML-CSS\": {\r\n",
       "                    styles: {'.MathJax_Display': {\"margin\": 4}}\r\n",
       "                }\r\n",
       "        });\r\n",
       "</script>\r\n"
      ]
     },
     "metadata": {},
     "output_type": "display_data"
    }
   ],
   "source": [
    "open(\"../../styles/aipstyle.html\") do f display(\"text/html\", read(f, String)) end\n"
   ]
  },
  {
   "cell_type": "markdown",
   "metadata": {},
   "source": []
  }
 ],
 "metadata": {
  "celltoolbar": "Slideshow",
  "kernelspec": {
   "display_name": "Julia 1.9.3",
   "language": "julia",
   "name": "julia-1.9"
  },
  "language_info": {
   "file_extension": ".jl",
   "mimetype": "application/julia",
   "name": "julia",
   "version": "1.9.3"
  }
 },
 "nbformat": 4,
 "nbformat_minor": 4
}
