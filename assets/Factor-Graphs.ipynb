{
 "cells": [
  {
   "cell_type": "markdown",
   "metadata": {
    "slideshow": {
     "slide_type": "slide"
    }
   },
   "source": [
    "# Factor Graphs"
   ]
  },
  {
   "cell_type": "markdown",
   "metadata": {
    "slideshow": {
     "slide_type": "slide"
    }
   },
   "source": [
    "\n",
    "### Preliminaries\n",
    "\n",
    "- Goal \n",
    "  - Introduction to Forney-style factor graphs and message passing-based inference \n",
    "- Materials        \n",
    "  - Mandatory\n",
    "    - These lecture notes   \n",
    "    - Loeliger (2007), [The factor graph approach to model based signal processing](https://github.com/bertdv/BMLIP/blob/master/lessons/notebooks/files/Loeliger-2007-The-factor-graph-approach-to-model-based-signal-processing.pdf), pp. 1295-1302 (until section V)\n",
    "  - Optional\n",
    "    - Frederico Wadehn (2015), [Probabilistic graphical models: Factor graphs and more](https://www.youtube.com/watch?v=Fv2YbVg9Frc&t=31) video lecture (**highly recommended**)\n",
    "  - References\n",
    "    - Forney (2001), [Codes on graphs: normal realizations](https://github.com/bertdv/BMLIP/blob/master/lessons/notebooks/files/Forney-2001-Codes-on-graphs-normal-realizations.pdf)\n",
    "   "
   ]
  },
  {
   "cell_type": "markdown",
   "metadata": {
    "slideshow": {
     "slide_type": "slide"
    }
   },
   "source": [
    "### Why Factor Graphs?\n",
    "\n",
    "- A probabilistic inference task gets its computational load mainly through the need for marginalization (i.e., computing integrals). E.g., for a model $p(x_1,x_2,x_3,x_4,x_5)$, the inference task $p(x_2|x_3)$ is given by \n",
    "\n",
    "$$\\begin{align*}\n",
    "p(x_2|x_3) = \\frac{p(x_2,x_3)}{p(x_3)} = \\frac{\\idotsint p(x_1,x_2,x_3,x_4,x_5) \\, \\mathrm{d}x_1  \\mathrm{d}x_4 \\mathrm{d}x_5}{\\idotsint p(x_1,x_2,x_3,x_4,x_5) \\, \\mathrm{d}x_1  \\mathrm{d}x_2 \\mathrm{d}x_4 \\mathrm{d}x_5}\n",
    "\\end{align*}$$"
   ]
  },
  {
   "cell_type": "markdown",
   "metadata": {
    "slideshow": {
     "slide_type": "fragment"
    }
   },
   "source": [
    "- Since these computations (integrals or sums) suffer from the \"curse of dimensionality\", we often need to solve a simpler problem in order to get an answer. "
   ]
  },
  {
   "cell_type": "markdown",
   "metadata": {
    "slideshow": {
     "slide_type": "fragment"
    }
   },
   "source": [
    "- Factor graphs provide a computationally efficient approach to solving inference problems **if the generative distribution can be factorized**. "
   ]
  },
  {
   "cell_type": "markdown",
   "metadata": {
    "slideshow": {
     "slide_type": "fragment"
    }
   },
   "source": [
    "- <a id='factorization-helps'>Factorization helps</a>. For instance, if $p(x_1,x_2,x_3,x_4,x_5) = p(x_1)p(x_2,x_3)p(x_4)p(x_5|x_4)$, then\n",
    "\n",
    "$$\\begin{align*}\n",
    "p(x_2|x_3) &= \\frac{\\idotsint p(x_1)p(x_2,x_3)p(x_4)p(x_5|x_4) \\, \\mathrm{d}x_1  \\mathrm{d}x_4 \\mathrm{d}x_5}{\\idotsint p(x_1)p(x_2,x_3)p(x_4)p(x_5|x_4) \\, \\mathrm{d}x_1  \\mathrm{d}x_2 \\mathrm{d}x_4 \\mathrm{d}x_5} \n",
    "  = \\frac{p(x_2,x_3)}{\\int p(x_2,x_3) \\mathrm{d}x_2}\n",
    "\\end{align*}$$\n",
    "\n",
    "which is computationally much cheaper than the general case above."
   ]
  },
  {
   "cell_type": "markdown",
   "metadata": {
    "slideshow": {
     "slide_type": "fragment"
    }
   },
   "source": [
    "- In this lesson, we discuss how computationally efficient inference in *factorized* probability distributions can be automated by message passing-based inference in factor graphs."
   ]
  },
  {
   "cell_type": "markdown",
   "metadata": {
    "slideshow": {
     "slide_type": "slide"
    }
   },
   "source": [
    "###  Factor Graph Construction Rules\n",
    "\n",
    "- Consider a function \n",
    "$$\n",
    "f(x_1,x_2,x_3,x_4,x_5) = f_a(x_1,x_2,x_3) \\cdot f_b(x_3,x_4,x_5) \\cdot f_c(x_4)\n",
    "$$"
   ]
  },
  {
   "cell_type": "markdown",
   "metadata": {
    "slideshow": {
     "slide_type": "fragment"
    }
   },
   "source": [
    "- The factorization of this function can be graphically represented by a **Forney-style Factor Graph** (FFG):\n",
    "\n",
    "<p style=\"text-align:center;\"><img src=\"./figures/ffg-example-1.png\" width=\"400px\"></p>"
   ]
  },
  {
   "cell_type": "markdown",
   "metadata": {
    "slideshow": {
     "slide_type": "fragment"
    }
   },
   "source": [
    "- An FFG is an **undirected** graph subject to the following construction rules ([Forney, 2001](https://github.com/bertdv/BMLIP/blob/master/lessons/notebooks/files/Forney-2001-Codes-on-graphs-normal-realizations.pdf))\n",
    "\n",
    "  1. A **node** for every factor;\n",
    "  1. An **edge** (or **half-edge**) for every variable;\n",
    "  1. Node $g$ is connected to edge $x$ **iff** variable $x$ appears in factor $g$."
   ]
  },
  {
   "cell_type": "markdown",
   "metadata": {
    "slideshow": {
     "slide_type": "subslide"
    }
   },
   "source": [
    "### Some FFG Terminology\n",
    "\n",
    "- $f$ is called the **global function** and $f_\\bullet$ are the **factors**. \n",
    "\n",
    "- A **configuration** is an assigment of values to all variables.\n",
    "\n",
    "- The **configuration space** is the set of all configurations, i.e., the domain of $f$\n",
    "\n",
    "- A configuration $\\omega=(x_1,x_2,x_3,x_4,x_5)$ is said to be **valid** iff $f(\\omega) \\neq 0$\n",
    "  "
   ]
  },
  {
   "cell_type": "markdown",
   "metadata": {
    "slideshow": {
     "slide_type": "slide"
    }
   },
   "source": [
    "###  Equality Nodes for Branching Points\n",
    "\n",
    "\n",
    "- Note that a variable can appear in maximally two factors in an FFG (since an edge has only two end points)."
   ]
  },
  {
   "cell_type": "markdown",
   "metadata": {
    "slideshow": {
     "slide_type": "fragment"
    }
   },
   "source": [
    "- Consider the factorization (where $x_2$ appears in three factors) \n",
    "\n",
    "$$\n",
    " f(x_1,x_2,x_3,x_4) = f_a(x_1,x_2)\\cdot f_b(x_2,x_3) \\cdot f_c(x_2,x_4)\n",
    "$$"
   ]
  },
  {
   "cell_type": "markdown",
   "metadata": {
    "slideshow": {
     "slide_type": "fragment"
    }
   },
   "source": [
    "- For the factor graph representation, we will instead consider the function $g$, defined as\n",
    "$$\\begin{align*}\n",
    " g(x_1,x_2&,x_2^\\prime,x_2^{\\prime\\prime},x_3,x_4) \n",
    "  = f_a(x_1,x_2)\\cdot f_b(x_2^\\prime,x_3) \\cdot f_c(x_2^{\\prime\\prime},x_4) \\cdot f_=(x_2,x_2^\\prime,x_2^{\\prime\\prime})\n",
    "\\end{align*}$$\n",
    "  where \n",
    "$$\n",
    "f_=(x_2,x_2^\\prime,x_2^{\\prime\\prime}) \\triangleq \\delta(x_2-x_2^\\prime)\\, \\delta(x_2-x_2^{\\prime\\prime})\n",
    "$$\n",
    "\n",
    " <p style=\"text-align:center;\"><img src=\"./figures/ffg-wEquality-node.png\" width=\"450px\"></p>\n",
    "  "
   ]
  },
  {
   "cell_type": "markdown",
   "metadata": {
    "slideshow": {
     "slide_type": "subslide"
    }
   },
   "source": [
    "###  Equality Nodes for Branching Points, cont'd\n",
    "\n",
    "- Note that through introduction of auxiliary variables $X_2^\\prime$ and $X_2^{\\prime\\prime}$ and a factor $f_=(x_2,x_2^\\prime,x_2^{\\prime\\prime})$ each variable in $g$ appears in maximally two factors. "
   ]
  },
  {
   "cell_type": "markdown",
   "metadata": {
    "slideshow": {
     "slide_type": "fragment"
    }
   },
   "source": [
    "- The constraint $f_=(x,x^\\prime,x^{\\prime\\prime})$ enforces that $X=X^\\prime=X^{\\prime\\prime}$ **for every valid configuration**."
   ]
  },
  {
   "cell_type": "markdown",
   "metadata": {},
   "source": [
    "- $\\Rightarrow$ **Any factorization of a global function $f$ can be represented by a Forney-style Factor Graph**."
   ]
  },
  {
   "cell_type": "markdown",
   "metadata": {
    "slideshow": {
     "slide_type": "fragment"
    }
   },
   "source": [
    "- Since $f$ is a marginal of $g$, i.e., \n",
    "$$\n",
    "f(x_1,x_2,x_3,x_4) = \\iint g(x_1,x_2,x_2^\\prime,x_2^{\\prime\\prime},x_3,x_4)\\, \\mathrm{d}x_2^\\prime \\mathrm{d}x_2^{\\prime\\prime}\n",
    "$$\n",
    "it follows that any inference problem on $f$ can be executed by a corresponding inference problem on $g$, e.g.,\n",
    "$$\\begin{align*}\n",
    "f(x_1 \\mid x_2) &\\triangleq \\frac{\\iint f(x_1,x_2,x_3,x_4) \\,\\mathrm{d}x_3 \\mathrm{d}x_4 }{ \\idotsint f(x_1,x_2,x_3,x_4) \\,\\mathrm{d}x_1 \\mathrm{d}x_3 \\mathrm{d}x_4} \\\\\n",
    "  &= \\frac{\\idotsint g(x_1,x_2,x_2^\\prime,x_2^{\\prime\\prime},x_3,x_4) \\,\\mathrm{d}x_2^\\prime \\mathrm{d}x_2^{\\prime\\prime} \\mathrm{d}x_3 \\mathrm{d}x_4 }{ \\idotsint g(x_1,x_2,x_2^\\prime,x_2^{\\prime\\prime},x_3,x_4) \\,\\mathrm{d}x_1 \\mathrm{d}x_2^\\prime \\mathrm{d}x_2^{\\prime\\prime} \\mathrm{d}x_3 \\mathrm{d}x_4} \\\\\n",
    "  &= g(x_1 \\mid x_2)\n",
    "\\end{align*}$$"
   ]
  },
  {
   "cell_type": "markdown",
   "metadata": {
    "slideshow": {
     "slide_type": "slide"
    }
   },
   "source": [
    "### Probabilistic Models as Factor Graphs\n",
    "\n",
    "- FFGs can be used to express conditional independence (factorization) in probabilistic models. "
   ]
  },
  {
   "cell_type": "markdown",
   "metadata": {
    "slideshow": {
     "slide_type": "fragment"
    }
   },
   "source": [
    "- For example, the (previously shown) graph for \n",
    "$f_a(x_1,x_2,x_3) \\cdot f_b(x_3,x_4,x_5) \\cdot f_c(x_4)$ \n",
    "could represent the probabilistic model\n",
    "$$\n",
    "p(x_1,x_2,x_3,x_4,x_5) = p(x_1,x_2|x_3) \\cdot p(x_3,x_5|x_4) \\cdot p(x_4)\n",
    "$$\n",
    "where we identify \n",
    "$$\\begin{align*}\n",
    "f_a(x_1,x_2,x_3) &= p(x_1,x_2|x_3) \\\\\n",
    "f_b(x_3,x_4,x_5) &= p(x_3,x_5|x_4) \\\\\n",
    "f_c(x_4) &= p(x_4)\n",
    "\\end{align*}$$"
   ]
  },
  {
   "cell_type": "markdown",
   "metadata": {
    "slideshow": {
     "slide_type": "fragment"
    }
   },
   "source": [
    "- This is the graph\n",
    "\n",
    "<p style=\"text-align:center;\"><img src=\"./figures/ffg-example-prob-model.png\" width=\"400px\"></p>"
   ]
  },
  {
   "cell_type": "markdown",
   "metadata": {
    "slideshow": {
     "slide_type": "slide"
    }
   },
   "source": [
    "### Inference by Closing Boxes\n",
    "\n",
    "- As [demonstrated above](#factorization-helps), factorizations provide opportunities to cut on the amount of needed computations when doing inference. In what follows, we will use FFGs to process these opportunities in an automatic way by message passing between the nodes of the graph. "
   ]
  },
  {
   "cell_type": "markdown",
   "metadata": {},
   "source": [
    "- Message passing in factor graphs takes advantage of the **distributive law of multiplication**, which rewrites a sum-of-products as a product-of-sums:\n",
    "$$ ac + ad + bc + cd = (a+b)(c+d)\\,.$$\n",
    "The LHS consumes 4 multiplications and 3 additions. The RHS consumes 1 multiplication and 2 additions. Inference by message passing implicitly realizes these type of computations by always executing the RHS equations. "
   ]
  },
  {
   "cell_type": "markdown",
   "metadata": {
    "slideshow": {
     "slide_type": "fragment"
    }
   },
   "source": [
    "- Assume we wish to compute the marginal\n",
    "$$\\begin{align*}\n",
    "\\bar{f}(x_3) &= \\sum_{x_1,x_2,x_4,x_5,x_6,x_7}f(x_1,x_2,\\ldots,x_7) \\\\\n",
    "  &= \\sum_{x_1,x_2,x_4,x_5,x_6,x_7} f_a(x_1) f_b(x_2) f_c(x_1,x_2,x_3) f_d(x_4) f_e(x_3,x_4,x_5) f_f(x_5,x_6,x_7) f_g(x_7)\n",
    "\\end{align*}$$\n",
    "where $f$ is factorized as given by the following FFG (we will discuss the usage of directed edges below).\n",
    "\n",
    "<p style=\"text-align:center;\"><img src=\"./figures/ffg-message-passing-1.png\" width=\"600px\"><p style=\"text-align:center;\">"
   ]
  },
  {
   "cell_type": "markdown",
   "metadata": {
    "slideshow": {
     "slide_type": "subslide"
    }
   },
   "source": [
    "- Due to the factorization and the distributive law, we can decompose this sum-of-products to the following product-of-sums:\n",
    "$$\n",
    "\\bar{f}(x_3) =  \\underbrace{ \\Bigg( \\sum_{x_1,x_2} \\underbrace{f_a(x_1)}_{\\overrightarrow{\\mu}_{X_1}(x_1)}\\, \\underbrace{f_b(x_2)}_{\\overrightarrow{\\mu}_{X_2}(x_2)}\\,f_c(x_1,x_2,x_3)\\Bigg) }_{\\overrightarrow{\\mu}_{X_3}(x_3)} \n",
    "  \\underbrace{ \\cdot\\Bigg( \\sum_{x_4,x_5} \\underbrace{f_d(x_4)}_{\\overrightarrow{\\mu}_{X_4}(x_4)}\\,f_e(x_3,x_4,x_5) \\cdot \\underbrace{ \\big( \\sum_{x_6,x_7} f_f(x_5,x_6,x_7)\\,\\underbrace{f_g(x_7)}_{\\overleftarrow{\\mu}_{X_7}(x_7)}\\big) }_{\\overleftarrow{\\mu}_{X_5}(x_5)} \\Bigg) }_{\\overleftarrow{\\mu}_{X_3}(x_3)}\n",
    "$$\n",
    "which is computationally (much) lighter than executing the full sum $\\sum_{x_1,\\ldots,x_7}f(x_1,x_2,\\ldots,x_7)$\n",
    "\n",
    "<p style=\"text-align:center;\"><img src=\"./figures/ffg-message-passing.png\" width=\"700px\"></p>"
   ]
  },
  {
   "cell_type": "markdown",
   "metadata": {
    "slideshow": {
     "slide_type": "fragment"
    }
   },
   "source": [
    "- Note that the new factor $\\overrightarrow{\\mu}_{X_3}(x_3)$ is obtained by multiplying all enclosed factors ($f_a$, $f_b, f_c$) by the red dashed box, followed by marginalization (summing) over all enclosed variables ($x_1$, $x_2$).\n",
    "  "
   ]
  },
  {
   "cell_type": "markdown",
   "metadata": {
    "slideshow": {
     "slide_type": "fragment"
    }
   },
   "source": [
    "- This is the **Closing the Box**-rule, which is a general recipe for marginalization of latent variables (inside the box) and leads to a new factor that has the variables (edges) that cross the box as arguments. For instance, the argument of the remaining factor $\\overrightarrow{\\mu}_{X_3}(x_3)$ is the variable on the edge that crosses the red box ($x_3$).\n"
   ]
  },
  {
   "cell_type": "markdown",
   "metadata": {},
   "source": [
    "- Hence, $\\overrightarrow{\\mu}_{X_3}(x_3)$ can be interpreted as a **message from the red box toward variable** $x_3$."
   ]
  },
  {
   "cell_type": "markdown",
   "metadata": {
    "slideshow": {
     "slide_type": "fragment"
    }
   },
   "source": [
    "- We drew _directed edges_ in the FFG in order to distinguish forward messages $\\overrightarrow{\\mu}_\\bullet(\\cdot)$ (in the same direction as the arrow of the edge) from backward messages $\\overleftarrow{\\mu}_\\bullet(\\cdot)$ (in opposite direction). This is just a notational convenience since an FFG is computationally an undirected graph. "
   ]
  },
  {
   "cell_type": "markdown",
   "metadata": {
    "slideshow": {
     "slide_type": "slide"
    }
   },
   "source": [
    "### Sum-Product Algorithm\n",
    "\n",
    "- This recursive pattern for computing and passing messages applies generally and is called the **Sum-Product update rule**, which is really just a special case of the closing-the-box rule: For any node, the outgoing message is obtained by taking the product of all incoming messages and the node function, followed by summing out (marginalization) all incoming variables. What is left (the outgoing message) is a function of the outgoing variable only ([Loeliger (2007), pg.1299](https://github.com/bertdv/BMLIP/blob/master/lessons/notebooks/files/Loeliger-2007-The-factor-graph-approach-to-model-based-signal-processing.pdf)): \n",
    "\n",
    "$$ \\boxed{\n",
    "\\underbrace{\\overrightarrow{\\mu}_{Y}(y)}_{\\substack{ \\text{outgoing}\\\\ \\text{message}}} = \\sum_{x_1,\\ldots,x_n} \\underbrace{\\overrightarrow{\\mu}_{X_1}(x_1)\\cdots \\overrightarrow{\\mu}_{X_n}(x_n)}_{\\substack{\\text{incoming} \\\\ \\text{messages}}} \\cdot \\underbrace{f(y,x_1,\\ldots,x_n)}_{\\substack{\\text{node}\\\\ \\text{function}}} }\n",
    "$$\n",
    "\n",
    "<p style=\"text-align:center;\"><img src=\"./figures/ffg-sum-product.png\" width=\"500px\"></p>"
   ]
  },
  {
   "cell_type": "markdown",
   "metadata": {},
   "source": [
    "- Note that all message update rules can be computed from information that is **locally available** at each node."
   ]
  },
  {
   "cell_type": "markdown",
   "metadata": {
    "slideshow": {
     "slide_type": "fragment"
    }
   },
   "source": [
    "- If the factor graph for a function $f$ has **no cycles** (i.e., the graph is a tree), then the marginal $\\bar{f}(x_3) = \\sum_{x_1,x_2,x_4,x_5,x_6,x_7}f(x_1,x_2,\\ldots,x_7)$ is given by the **Sum-Product Theorem**:\n",
    "\n",
    "$$ \n",
    "\\bar{f}(x_3) = \\overrightarrow{\\mu}_{X_3}(x_3)\\cdot \\overleftarrow{\\mu}_{X_3}(x_3)\n",
    "$$"
   ]
  },
  {
   "cell_type": "markdown",
   "metadata": {
    "slideshow": {
     "slide_type": "subslide"
    }
   },
   "source": [
    "- It follows that the marginal $\\bar{f}(x_3) = \\sum_{x_1,x_2,x_4,x_5,x_6,x_7}f(x_1,x_2,\\ldots,x_7)$ can be efficiently computed through sum-product messages. Executing inference through SP message passing is called the **Sum-Product Algorithm**."
   ]
  },
  {
   "cell_type": "markdown",
   "metadata": {},
   "source": [
    "- In a tree graph, start with messages from the terminals and keep passing messages through the internal nodes towards the \"target\" variable ($x_3$ in above problem) until you have both the forward and backward message for the target variable. "
   ]
  },
  {
   "cell_type": "markdown",
   "metadata": {},
   "source": [
    "\n",
    "- In a tree graph, if you continue to pass messages throughout the graph, the Sum-Product Algorithm computes **exact** marginals for all hidden variables.\n",
    "\n",
    "- If the graph contains cycles, we have in principle an infinite tree by \"unrolling\" the graph. In this case, the SP Algorithm is not guaranteed to find exact marginals. In practice, if we apply the SP algorithm for just a few iterations (\"unrolls\"), then we often find satisfying approximate marginals.   "
   ]
  },
  {
   "cell_type": "markdown",
   "metadata": {
    "slideshow": {
     "slide_type": "subslide"
    }
   },
   "source": [
    "### Terminal Nodes and Processing Observations \n",
    "  \n",
    "- The message out of a **terminal node** (attached to only 1 edge) is the factor itself. For instance, closing a box around terminal node $f_a(x_1)$ would lead to $$\\overrightarrow{\\mu}_{X_1}(x_1) \\triangleq \\sum_{ \\stackrel{ \\textrm{enclosed} }{ \\textrm{variables} } } \\;\\prod_{\\stackrel{ \\textrm{enclosed} }{ \\textrm{factors} }} f_a(x_1) = f_a(x_1)\\,$$\n",
    "since there are no enclosed variables. \n",
    "\n",
    "<p style=\"text-align:center;\"><img src=\"./figures/ffg-terminal-node-message.png\" width=\"250px\"></p>\n",
    " \n",
    "- The message from a half-edge is $1$ (one). You can verify this by imagining that a half-edge $x$ can be terminated by a node function $f(x)=1$ without affecting any inference issue.\n",
    "\n",
    "- We can use terminal nodes represent observations, e.g., add a factor $f(𝑦)=𝛿(𝑦−3)$ to terminate the half-edge for variable $𝑌$  if  $𝑦=3$  is observed.\n",
    "\n",
    "<p style=\"text-align:center;\"><img src=\"./figures/ffg-observation-y-3.png\" width=\"600px\"></p>"
   ]
  },
  {
   "cell_type": "markdown",
   "metadata": {},
   "source": [
    "- Terminal nodes that carry observations are denoted by small black boxes."
   ]
  },
  {
   "cell_type": "markdown",
   "metadata": {},
   "source": [
    "### Automating Bayesian Inference by Message Passing\n",
    "\n",
    "- The foregoing message update rules can be worked out in closed-form and put into tables (e.g., see Tables 1 through 6 in [Loeliger (2007)](./files/Loeliger-2007-The-factor-graph-approach-to-model-based-signal-processing.pdf) for many standard factors such as essential probability distributions and operations such as additions, fixed-gain multiplications and branching (equality nodes).\n",
    "\n",
    "- In the optional slides below, we have worked out a few of these update rules, eg, for the [equality node](#sp-for-equality-node), the [addition node](#sp-for-addition-node) and the [mulitplication node](#sp-for-multiplication-node).\n",
    "\n",
    "- If the update rules for all node types in a graph have been tabulated, then inference by message passing comes down to executing a set of table-lookup operations, thus creating a completely **automatable Bayesian inference framework**. \n",
    "\n",
    "- In our research lab [BIASlab](http://biaslab.org) (FLUX 7.060), we are developing [ForneyLab](https://github.com/biaslab/ForneyLab.jl), which is a (Julia) toolbox for automating Bayesian inference by message passing in a factor graph.\n"
   ]
  },
  {
   "cell_type": "markdown",
   "metadata": {
    "slideshow": {
     "slide_type": "slide"
    }
   },
   "source": [
    "### Example: Bayesian Linear Regression by Message Passing\n",
    "\n",
    "- Recall: the goal of regression is to estimate an unknown function from a set of (noisy) function values."
   ]
  },
  {
   "cell_type": "markdown",
   "metadata": {
    "slideshow": {
     "slide_type": "fragment"
    }
   },
   "source": [
    "- Assume we want to estimate some function $f: \\mathbb{R}^D \\rightarrow \\mathbb{R}$ from data set $D = \\{(x_1,y_1), \\ldots, (x_N,y_N)\\}$, where $y_i = f(x_i) + \\epsilon_i$."
   ]
  },
  {
   "cell_type": "markdown",
   "metadata": {
    "slideshow": {
     "slide_type": "fragment"
    }
   },
   "source": [
    "#### model specification \n",
    "\n",
    "- We will assume a linear model with white Gaussian noise and a Gaussian prior on the coefficients $w$:\n",
    "$$\\begin{align*}\n",
    "  y_i &= w^T x_i  + \\epsilon_i \\\\\n",
    "  \\epsilon_i &\\sim \\mathcal{N}(0, \\sigma^2) \\\\ \n",
    "  w &\\sim \\mathcal{N}(0,\\Sigma)\n",
    "\\end{align*}$$\n",
    "or equivalently\n",
    "$$\\begin{align*}\n",
    "p(D,w) &= \\overbrace{p(w)}^{\\text{weight prior}} \\prod_{i=1}^N  \\overbrace{p(y_i\\,|\\,x_i,w,\\epsilon_i)}^{\\text{regression model}} \\overbrace{p(\\epsilon_i)}^{\\text{noise model}} \\\\\n",
    "  &= \\mathcal{N}(w\\,|\\,0,\\Sigma) \\prod_{i=1}^N \\delta(y_i - w^T x_i - \\epsilon_i) \\mathcal{N}(\\epsilon_i\\,|\\,0,\\sigma^2) \n",
    "\\end{align*}$$"
   ]
  },
  {
   "cell_type": "markdown",
   "metadata": {
    "slideshow": {
     "slide_type": "fragment"
    }
   },
   "source": [
    "#### Inference (parameter estimation)\n",
    "\n",
    "- We are interested in inferring the posterior $p(w|D)$. We will execute inference by message passing on the FFG for the model."
   ]
  },
  {
   "cell_type": "markdown",
   "metadata": {
    "slideshow": {
     "slide_type": "subslide"
    }
   },
   "source": [
    "- The left figure shows the factor graph for this model. \n",
    "- The right figure shows the message passing scheme. \n",
    "  \n",
    "<p style=\"text-align:center;\"><img src=\"./figures/ffg-bayesian-linear-regression.png\" width=\"500px\"></p>\n"
   ]
  },
  {
   "cell_type": "markdown",
   "metadata": {
    "slideshow": {
     "slide_type": "slide"
    }
   },
   "source": [
    "#### CODE EXAMPLE\n",
    "\n",
    "Let's solve this problem by message passing-based inference with Julia's FFG toolbox [ForneyLab](http://forneylab.org)."
   ]
  },
  {
   "cell_type": "code",
   "execution_count": 1,
   "metadata": {
    "slideshow": {
     "slide_type": "subslide"
    }
   },
   "outputs": [],
   "source": [
    "using Pkg;Pkg.activate(\"probprog/workspace/\");Pkg.instantiate();\n",
    "IJulia.clear_output();"
   ]
  },
  {
   "cell_type": "code",
   "execution_count": 2,
   "metadata": {
    "slideshow": {
     "slide_type": "subslide"
    }
   },
   "outputs": [
    {
     "data": {
      "image/png": "[encoded data removed]",
      "text/plain": [
       "Figure(PyObject <Figure size 640x480 with 1 Axes>)"
      ]
     },
     "metadata": {},
     "output_type": "display_data"
    }
   ],
   "source": [
    "using PyPlot, ForneyLab, LinearAlgebra\n",
    "\n",
    "# Parameters\n",
    "Σ = 1e5 * Diagonal(I,3) # Covariance matrix of prior on w\n",
    "σ2 = 2.0         # Noise variance\n",
    "\n",
    "# Generate data set\n",
    "w = [1.0; 2.0; 0.25]\n",
    "N = 30\n",
    "z = 10.0*rand(N)\n",
    "x_train = [[1.0; z; z^2] for z in z] # Feature vector x = [1.0; z; z^2]\n",
    "f(x) = (w'*x)[1]\n",
    "y_train = map(f, x_train) + sqrt(σ2)*randn(N) # y[i] = w' * x[i] + ϵ\n",
    "scatter(z, y_train); xlabel(L\"z\"); ylabel(L\"f([1.0, z, z^2]) + \\epsilon\");"
   ]
  },
  {
   "cell_type": "markdown",
   "metadata": {
    "slideshow": {
     "slide_type": "slide"
    }
   },
   "source": [
    "\n",
    "Now build the factor graph in ForneyLab, perform sum-product message passing and plot results (mean of posterior)."
   ]
  },
  {
   "cell_type": "code",
   "execution_count": 3,
   "metadata": {
    "slideshow": {
     "slide_type": "subslide"
    }
   },
   "outputs": [
    {
     "data": {
      "image/png": "[encoded data removed]",
      "text/plain": [
       "Figure(PyObject <Figure size 640x480 with 1 Axes>)"
      ]
     },
     "metadata": {},
     "output_type": "display_data"
    },
    {
     "name": "stdout",
     "output_type": "stream",
     "text": [
      "Posterior distribution of w: 𝒩(xi=[3.31e+02, 2.32e+03, 1.77e+04], w=[[15.00, 83.78, 5.72e+02][83.78, 5.72e+02, 4.27e+03][5.72e+02, 4.27e+03, 3.37e+04]])\n",
      "\n"
     ]
    }
   ],
   "source": [
    "# Build factorgraph\n",
    "\n",
    "fg = FactorGraph()\n",
    "@RV w ~ GaussianMeanVariance(constant(zeros(3)), constant(Σ, id=:Σ), id=:w) # p(w)\n",
    "for t=1:N\n",
    "    x_t = Variable(id=:x_*t)\n",
    "    d_t = Variable(id=:d_*t) # d=w'*x\n",
    "    DotProduct(d_t, x_t, w) # p(f|w,x)\n",
    "    @RV y_t ~ GaussianMeanVariance(d_t, constant(σ2, id=:σ2_*t), id=:y_*t) # p(y|d)\n",
    "    placeholder(x_t, :x, index=t, dims=(3,))\n",
    "    placeholder(y_t, :y, index=t);\n",
    "end\n",
    "\n",
    "# Build and run message passing algorithm\n",
    "algo = messagePassingAlgorithm(w)\n",
    "source_code = algorithmSourceCode(algo)\n",
    "eval(Meta.parse(source_code))\n",
    "data = Dict(:x => x_train, :y => y_train)\n",
    "w_posterior_dist = step!(data)[:w]\n",
    "\n",
    "# Plot result\n",
    "println(\"Posterior distribution of w: $(w_posterior_dist)\")\n",
    "scatter(z, y_train); xlabel(L\"z\"); ylabel(L\"f([1.0, z, z^2]) + \\epsilon\");\n",
    "z_test = collect(0:0.2:12)\n",
    "x_test = [[1.0; z; z^2] for z in z_test]\n",
    "for sample=1:10\n",
    "    w = ForneyLab.sample(w_posterior_dist)\n",
    "    f_est(x) = (w'*x)[1]\n",
    "    plot(z_test, map(f_est, x_test), \"k-\", alpha=0.3);\n",
    "end"
   ]
  },
  {
   "cell_type": "markdown",
   "metadata": {
    "slideshow": {
     "slide_type": "slide"
    }
   },
   "source": [
    "## <center>OPTIONAL SLIDES</center>"
   ]
  },
  {
   "cell_type": "markdown",
   "metadata": {
    "slideshow": {
     "slide_type": "slide"
    }
   },
   "source": [
    "### <a id=\"sp-for-equality-node\">Sum-Product Messages for the Equality Node</a>\n",
    "\n",
    "- Let´s compute the SP messages for the **equality node** $f_=(x,y,z) = \\delta(z-x)\\delta(z-y)$: \n",
    "\n",
    "<p style=\"text-align:center;\"><img src=\"./figures/ffg-equality-node.png\" width=\"250px\"></p>"
   ]
  },
  {
   "cell_type": "markdown",
   "metadata": {
    "slideshow": {
     "slide_type": "fragment"
    }
   },
   "source": [
    "$$\\begin{align*}\n",
    "\\overrightarrow{\\mu}_{Z}(z) &= \\iint  \\overrightarrow{\\mu}_{X}(x) \\overrightarrow{\\mu}_{Y}(y) \\,\\delta(z-x)\\delta(z-y) \\,\\mathrm{d}x \\mathrm{d}y \\\\\n",
    "   &=  \\overrightarrow{\\mu}_{X}(z)  \\int  \\overrightarrow{\\mu}_{Y}(y) \\,\\delta(z-y) \\,\\mathrm{d}y \\\\\n",
    "   &=  \\overrightarrow{\\mu}_{X}(z) \\overrightarrow{\\mu}_{Y}(z) \n",
    "\\end{align*}$$"
   ]
  },
  {
   "cell_type": "markdown",
   "metadata": {
    "slideshow": {
     "slide_type": "fragment"
    }
   },
   "source": [
    "- By symmetry, this also implies (for the same equality node) that\n",
    "\n",
    "$$\\begin{align*}\n",
    "\\overleftarrow{\\mu}_{X}(x) &= \\overrightarrow{\\mu}_{Y}(x) \\overleftarrow{\\mu}_{Z}(x) \\quad \\text{and} \\\\\n",
    "\\overleftarrow{\\mu}_{Y}(y) &= \\overrightarrow{\\mu}_{X}(y) \\overleftarrow{\\mu}_{Z}(y)\\,.\n",
    "\\end{align*}$$"
   ]
  },
  {
   "cell_type": "markdown",
   "metadata": {
    "slideshow": {
     "slide_type": "subslide"
    }
   },
   "source": [
    "- Let us now consider the case of Gaussian messages $\\overrightarrow{\\mu}_{X}(x) = \\mathcal{N}(\\overrightarrow{m}_X,\\overrightarrow{V}_X)$, $\\overrightarrow{\\mu}_{Y}(y) = \\mathcal{N}(\\overrightarrow{m}_Y,\\overrightarrow{V}_Y)$ and $\\overrightarrow{\\mu}_{Z}(z) = \\mathcal{N}(\\overrightarrow{m}_Z,\\overrightarrow{V}_Z)$. Let´s also define the precision matrices $\\overrightarrow{W}_X \\triangleq \\overrightarrow{V}_X^{-1}$ and similarly for $Y$ and $Z$. Then applying the SP update rule leads to multiplication of two Gaussian distributions, resulting in \n",
    "\n",
    "$$\\begin{align*}\n",
    "\\overrightarrow{W}_Z &= \\overrightarrow{W}_X + \\overrightarrow{W}_Y \\\\ \n",
    "\\overrightarrow{W}_Z \\overrightarrow{m}_z &= \\overrightarrow{W}_X \\overrightarrow{m}_X + \\overrightarrow{W}_Y \\overrightarrow{m}_Y\n",
    "\\end{align*}$$"
   ]
  },
  {
   "cell_type": "markdown",
   "metadata": {
    "slideshow": {
     "slide_type": "fragment"
    }
   },
   "source": [
    "- It follows that **message passing through an equality node is similar to applying Bayes rule**, i.e., fusion of two information sources. Does this make sense?"
   ]
  },
  {
   "cell_type": "markdown",
   "metadata": {
    "slideshow": {
     "slide_type": "slide"
    }
   },
   "source": [
    "###  <a id=\"sp-for-addition-node\">Sum-Product Messages for the Addition Node</a>\n",
    "\n",
    "- Next, consider an **addition node** $f_+(x,y,z) = \\delta(z-x-y)$:  \n",
    "<p style=\"text-align:center;\"><img src=\"./figures/ffg-addition-node.png\" width=\"250px\"></p>"
   ]
  },
  {
   "cell_type": "markdown",
   "metadata": {
    "slideshow": {
     "slide_type": "fragment"
    }
   },
   "source": [
    "$$\\begin{align*}\n",
    "\\overrightarrow{\\mu}_{Z}(z) &= \\iint  \\overrightarrow{\\mu}_{X}(x) \\overrightarrow{\\mu}_{Y}(y) \\,\\delta(z-x-y) \\,\\mathrm{d}x \\mathrm{d}y \\\\\n",
    "   &=  \\int  \\overrightarrow{\\mu}_{X}(x) \\overrightarrow{\\mu}_{Y}(z-x) \\,\\mathrm{d}x \\,, \n",
    "\\end{align*}$$\n",
    "i.e., $\\overrightarrow{\\mu}_{Z}$ is the convolution of the messages $\\overrightarrow{\\mu}_{X}$ and $\\overrightarrow{\\mu}_{Y}$."
   ]
  },
  {
   "cell_type": "markdown",
   "metadata": {
    "slideshow": {
     "slide_type": "fragment"
    }
   },
   "source": [
    "- Of course, for Gaussian messages, these update rules evaluate to\n",
    "\n",
    "$$\\begin{align*}\n",
    "\\overrightarrow{m}_Z = \\overrightarrow{m}_X + \\overrightarrow{m}_Y \\,,\\,\\text{and}\\,\\,\\overrightarrow{V}_z = \\overrightarrow{V}_X + \\overrightarrow{V}_Y \\,.\n",
    "\\end{align*}$$"
   ]
  },
  {
   "cell_type": "markdown",
   "metadata": {
    "slideshow": {
     "slide_type": "fragment"
    }
   },
   "source": [
    "- <div class=\"exercise\"><b>Exercise</b>: For the same summation node, work out the SP update rule for the backward message $\\overleftarrow{\\mu}_{X}(x)$ as a function of $\\overrightarrow{\\mu}_{Y}(y)$ and  $\\overleftarrow{\\mu}_{Z}(z)$. And further refine the answer for Gaussian messages. </div>   "
   ]
  },
  {
   "cell_type": "markdown",
   "metadata": {
    "slideshow": {
     "slide_type": "slide"
    }
   },
   "source": [
    "###  <a id=\"sp-for-multiplication-node\">Sum-Product Messages for Multiplication Nodes</a>\n",
    "- Next, let us consider a **multiplication** by a fixed (invertible matrix) gain $f_A(x,y) = \\delta(y-Ax)$\n",
    "\n",
    "<p style=\"text-align:center;\"><img src=\"./figures/ffg-gain-node.png\" width=\"250px\"></p>"
   ]
  },
  {
   "cell_type": "markdown",
   "metadata": {
    "slideshow": {
     "slide_type": "fragment"
    }
   },
   "source": [
    "$$\\begin{align*}\n",
    "\\overrightarrow{\\mu}_{Y}(y) = \\int  \\overrightarrow{\\mu}_{X}(x) \\,\\delta(y-Ax) \\,\\mathrm{d}x = \\overrightarrow{\\mu}_{X}(A^{-1}y) \\,.\n",
    "\\end{align*}$$"
   ]
  },
  {
   "cell_type": "markdown",
   "metadata": {
    "slideshow": {
     "slide_type": "fragment"
    }
   },
   "source": [
    "- For a Gaussian message input message $\\overrightarrow{\\mu}_{X}(x) = \\mathcal{N}(\\overrightarrow{m}_{X},\\overrightarrow{V}_{X})$, the output message is also Gaussian with \n",
    "$$\\begin{align*}\n",
    "\\overrightarrow{m}_{Y} = A\\overrightarrow{m}_{X} \\,,\\,\\text{and}\\,\\,\n",
    "\\overrightarrow{V}_{Y} = A\\overrightarrow{V}_{X}A^T\n",
    "\\end{align*}$$\n",
    "since \n",
    "$$\\begin{align*}\n",
    "\\overrightarrow{\\mu}_{Y}(y) &= \\overrightarrow{\\mu}_{X}(A^{-1}y) \\\\\n",
    "  &\\propto \\exp \\left( -\\frac{1}{2} \\left( A^{-1}y - \\overrightarrow{m}_{X}\\right)^T \\overrightarrow{V}_{X}^{-1} \\left(  A^{-1}y - \\overrightarrow{m}_{X}\\right)\\right) \\\\\n",
    "   &= \\exp \\left( -\\frac{1}{2} \\left( y - A\\overrightarrow{m}_{X}\\right)^T A^{-T}\\overrightarrow{V}_{X}^{-1} A \\left( y - A\\overrightarrow{m}_{X}\\right)\\right) \\\\\n",
    "  &\\propto  \\mathcal{N}(A\\overrightarrow{m}_{X},A\\overrightarrow{V}_{X}A^T) \\,.\n",
    "\\end{align*}$$"
   ]
  },
  {
   "cell_type": "markdown",
   "metadata": {
    "slideshow": {
     "slide_type": "subslide"
    }
   },
   "source": [
    "- <div class=\"exercise\"><b>Excercise</b>: Proof that, for the same factor $\\delta(y-Ax)$ and Gaussian messages, the (backward) sum-product message $\\overleftarrow{\\mu}_{X}$ is given by \n",
    "$$\\begin{align*}\n",
    "\\overleftarrow{\\xi}_{X} &= A^T\\overleftarrow{\\xi}_{Y} \\\\\n",
    "\\overleftarrow{W}_{X} &= A^T\\overleftarrow{W}_{Y}A\n",
    "\\end{align*}$$\n",
    "where $\\overleftarrow{\\xi}_X \\triangleq \\overleftarrow{W}_X \\overleftarrow{m}_X$ and $\\overleftarrow{W}_{X} \\triangleq \\overleftarrow{V}_{X}^{-1}$ (and similarly for $Y$).</div>"
   ]
  },
  {
   "cell_type": "markdown",
   "metadata": {
    "slideshow": {
     "slide_type": "slide"
    }
   },
   "source": [
    "\n",
    "#### CODE EXAMPLE\n",
    "\n",
    "Let's calculate the Gaussian forward and backward messages for the addition node in ForneyLab. \n",
    "<p style=\"text-align:center;\"><img src=\"./figures/ffg-addition-node.png\" width=\"250px\"></p>"
   ]
  },
  {
   "cell_type": "code",
   "execution_count": 4,
   "metadata": {
    "slideshow": {
     "slide_type": "subslide"
    }
   },
   "outputs": [
    {
     "ename": "LoadError",
     "evalue": "KeyError: key :y not found",
     "output_type": "error",
     "traceback": [
      "KeyError: key :y not found",
      "",
      "Stacktrace:",
      " [1] getindex at ./dict.jl:467 [inlined]",
      " [2] step_forward_Z!(::Dict{Any,Any}, ::Dict{Any,Any}, ::Array{Message,1}) at ./none:6",
      " [3] step_forward_Z! at ./none:5 [inlined] (repeats 2 times)",
      " [4] top-level scope at In[4]:10",
      " [5] include_string(::Function, ::Module, ::String, ::String) at ./loading.jl:1091",
      " [6] execute_code(::String, ::String) at /home/mkoudahl/.config/julia/packages/IJulia/rWZ9e/src/execute_request.jl:27",
      " [7] execute_request(::ZMQ.Socket, ::IJulia.Msg) at /home/mkoudahl/.config/julia/packages/IJulia/rWZ9e/src/execute_request.jl:86",
      " [8] #invokelatest#1 at ./essentials.jl:710 [inlined]",
      " [9] invokelatest at ./essentials.jl:709 [inlined]",
      " [10] eventloop(::ZMQ.Socket) at /home/mkoudahl/.config/julia/packages/IJulia/rWZ9e/src/eventloop.jl:8",
      " [11] (::IJulia.var\"#15#18\")() at ./task.jl:356"
     ]
    }
   ],
   "source": [
    "# Forward message towards Z\n",
    "fg = FactorGraph()\n",
    "@RV x ~ GaussianMeanVariance(constant(1.0), constant(1.0), id=:x) \n",
    "@RV y ~ GaussianMeanVariance(constant(2.0), constant(1.0), id=:y)\n",
    "@RV z = x + y; z.id = :z\n",
    "\n",
    "algo1 = messagePassingAlgorithm(z, id=:_forward_Z)\n",
    "source_code1 = algorithmSourceCode(algo1)\n",
    "eval(Meta.parse(source_code1))\n",
    "msg_forward_Z = step_forward_Z!(Dict())[:z]\n",
    "print(\"Forward message on Z: $(msg_forward_Z)\")\n",
    "\n",
    "# Backward message towards X\n",
    "fg = FactorGraph()\n",
    "@RV x; x.id=:x\n",
    "@RV y ~ GaussianMeanVariance(constant(2.0), constant(1.0), id=:y)\n",
    "@RV z = x + y\n",
    "GaussianMeanVariance(z, constant(3.0), constant(1.0), id=:z) \n",
    "\n",
    "algo2 = messagePassingAlgorithm(x, id=:_backward_X)\n",
    "source_code2 = algorithmSourceCode(algo2)\n",
    "eval(Meta.parse(source_code2))\n",
    "msg_backward_X = step_backward_X!(Dict())[:x]\n",
    "print(\"Backward message on X: $(msg_backward_X)\")"
   ]
  },
  {
   "cell_type": "markdown",
   "metadata": {
    "slideshow": {
     "slide_type": "slide"
    }
   },
   "source": [
    "#### CODE EXAMPLE\n",
    "\n",
    "In the same way we can also investigate the forward and backward messages for the matrix multiplication (\"gain\") node \n",
    "<p style=\"text-align:center;\"><img src=\"./figures/ffg-gain-node.png\" width=\"250px\"></p>"
   ]
  },
  {
   "cell_type": "code",
   "execution_count": 5,
   "metadata": {
    "slideshow": {
     "slide_type": "subslide"
    }
   },
   "outputs": [
    {
     "ename": "LoadError",
     "evalue": "KeyError: key :y not found",
     "output_type": "error",
     "traceback": [
      "KeyError: key :y not found",
      "",
      "Stacktrace:",
      " [1] getindex at ./dict.jl:467 [inlined]",
      " [2] step_y_fwd!(::Dict{Any,Any}, ::Dict{Any,Any}, ::Array{Message,1}) at ./none:6",
      " [3] step_y_fwd! at ./none:5 [inlined] (repeats 2 times)",
      " [4] top-level scope at In[5]:9",
      " [5] include_string(::Function, ::Module, ::String, ::String) at ./loading.jl:1091",
      " [6] execute_code(::String, ::String) at /home/mkoudahl/.config/julia/packages/IJulia/rWZ9e/src/execute_request.jl:27",
      " [7] execute_request(::ZMQ.Socket, ::IJulia.Msg) at /home/mkoudahl/.config/julia/packages/IJulia/rWZ9e/src/execute_request.jl:86",
      " [8] #invokelatest#1 at ./essentials.jl:710 [inlined]",
      " [9] invokelatest at ./essentials.jl:709 [inlined]",
      " [10] eventloop(::ZMQ.Socket) at /home/mkoudahl/.config/julia/packages/IJulia/rWZ9e/src/eventloop.jl:8",
      " [11] (::IJulia.var\"#15#18\")() at ./task.jl:356"
     ]
    }
   ],
   "source": [
    "# Forward message towards Y\n",
    "fg = FactorGraph()\n",
    "@RV x ~ GaussianMeanVariance(constant(1.0), constant(1.0), id=:x)\n",
    "@RV y = constant(4.0) * x; y.id = :y\n",
    "\n",
    "algo3 = messagePassingAlgorithm(y, id=:_y_fwd)\n",
    "source_code3 = algorithmSourceCode(algo3)\n",
    "eval(Meta.parse(source_code3))\n",
    "msg_forward_Y = step_y_fwd!(Dict())[:y]\n",
    "print(\"Forward message on Y: $(msg_forward_Y)\")"
   ]
  },
  {
   "cell_type": "markdown",
   "metadata": {
    "slideshow": {
     "slide_type": "fragment"
    }
   },
   "source": [
    " \n",
    " ### Example\n",
    " \n",
    " - Consider a generative model \n",
    "$$p(x,y_1,y_2) = p(x)\\,p(y_1|x)\\,p(y_2|x) .$$ \n",
    "  - This model expresses the assumption that $Y_1$ and $Y_2$ are independent measurements of $X$.\n",
    "\n",
    "<p style=\"text-align:center;\"><img src=\"./figures/ffg-observations.png\" width=\"375px\"></p>"
   ]
  },
  {
   "cell_type": "markdown",
   "metadata": {
    "slideshow": {
     "slide_type": "subslide"
    }
   },
   "source": [
    " \n",
    "- Assume that we are interested in the posterior for $X$ after observing $Y_1= \\hat y_1$ and $Y_2= \\hat y_2$. The posterior for $X$ can be inferred by applying the sum-product algorithm to the following graph:\n",
    "\n",
    "<p style=\"text-align:center;\"><img src=\"./figures/ffg-observations-2.png\" width=\"650px\"></p>"
   ]
  },
  {
   "cell_type": "markdown",
   "metadata": {
    "slideshow": {
     "slide_type": "fragment"
    }
   },
   "source": [
    " - (Note that) we usually draw terminal nodes for observed variables in the graph by smaller solid-black squares. This is just to help the visualization of the graph, since the computational rules are no different than for other nodes. "
   ]
  },
  {
   "cell_type": "markdown",
   "metadata": {
    "slideshow": {
     "slide_type": "slide"
    }
   },
   "source": [
    "#### CODE EXAMPLE\n",
    "\n",
    "We'll use ForneyLab, a factor graph toolbox for Julia, to build the above graph, and perform sum-product message passing to infer the posterior $p(x|y_1,y_2)$. We assume $p(y_1|x)$ and $p(y_2|x)$ to be Gaussian likelihoods with known variances:\n",
    "$$\\begin{align*}\n",
    "    p(y_1\\,|\\,x) &= \\mathcal{N}(y_1\\,|\\,x, v_{y1}) \\\\\n",
    "    p(y_2\\,|\\,x) &= \\mathcal{N}(y_2\\,|\\,x, v_{y2})\n",
    "\\end{align*}$$\n",
    "Under this model, the posterior is given by:\n",
    "$$\\begin{align*}\n",
    "    p(x\\,|\\,y_1,y_2) &\\propto \\overbrace{p(y_1\\,|\\,x)\\,p(y_2\\,|\\,x)}^{\\text{likelihood}}\\,\\overbrace{p(x)}^{\\text{prior}} \\\\\n",
    "    &=\\mathcal{N}(x\\,|\\,\\hat{y}_1, v_{y1})\\, \\mathcal{N}(x\\,|\\,\\hat{y}_2, v_{y2}) \\, \\mathcal{N}(x\\,|\\,m_x, v_x) \n",
    "\\end{align*}$$\n",
    "so we can validate the answer by solving the Gaussian multiplication manually."
   ]
  },
  {
   "cell_type": "code",
   "execution_count": 6,
   "metadata": {
    "slideshow": {
     "slide_type": "subslide"
    }
   },
   "outputs": [
    {
     "ename": "LoadError",
     "evalue": "KeyError: key :y not found",
     "output_type": "error",
     "traceback": [
      "KeyError: key :y not found",
      "",
      "Stacktrace:",
      " [1] getindex at ./dict.jl:467 [inlined]",
      " [2] step_x!(::Dict{Any,Any}, ::Dict{Any,Any}, ::Array{Message,1}) at ./none:6",
      " [3] step_x! at ./none:5 [inlined] (repeats 2 times)",
      " [4] top-level scope at In[6]:20",
      " [5] include_string(::Function, ::Module, ::String, ::String) at ./loading.jl:1091",
      " [6] execute_code(::String, ::String) at /home/mkoudahl/.config/julia/packages/IJulia/rWZ9e/src/execute_request.jl:27",
      " [7] execute_request(::ZMQ.Socket, ::IJulia.Msg) at /home/mkoudahl/.config/julia/packages/IJulia/rWZ9e/src/execute_request.jl:86",
      " [8] #invokelatest#1 at ./essentials.jl:710 [inlined]",
      " [9] invokelatest at ./essentials.jl:709 [inlined]",
      " [10] eventloop(::ZMQ.Socket) at /home/mkoudahl/.config/julia/packages/IJulia/rWZ9e/src/eventloop.jl:8",
      " [11] (::IJulia.var\"#15#18\")() at ./task.jl:356"
     ]
    }
   ],
   "source": [
    "using ForneyLab \n",
    "\n",
    "# Data\n",
    "y1_hat = 1.0\n",
    "y2_hat = 2.0\n",
    "\n",
    "# Construct the factor graph\n",
    "fg = FactorGraph()\n",
    "@RV x  ~ GaussianMeanVariance(constant(0.0), constant(4.0), id=:x) # Node p(x)\n",
    "@RV y1 ~ GaussianMeanVariance(x, constant(1.0))            # Node p(y1|x)\n",
    "@RV y2 ~ GaussianMeanVariance(x, constant(2.0))            # Node p(y2|x)\n",
    "Clamp(y1, y1_hat)                  # Terminal (clamp) node for y1\n",
    "Clamp(y2, y2_hat)                  # Terminal (clamp) node for y2\n",
    "# draw(fg) # draw the constructed factor graph\n",
    "\n",
    "# Perform sum-product message passing\n",
    "algo4 = messagePassingAlgorithm(x, id=:_x)\n",
    "source_code4 = algorithmSourceCode(algo4)\n",
    "eval(Meta.parse(source_code4))\n",
    "x_marginal = step_x!(Dict())[:x]\n",
    "println(\"Sum-product message passing result: p(x|y1,y2) = 𝒩($(mean(x_marginal)),$(var(x_marginal)))\")\n",
    "\n",
    "# Calculate mean and variance of p(x|y1,y2) manually by multiplying 3 Gaussians (see lesson 4 for details)\n",
    "v = 1 / (1/4 + 1/1 + 1/2)\n",
    "m = v * (0/4 + y1_hat/1.0 + y2_hat/2.0)\n",
    "println(\"Manual result: p(x|y1,y2) = 𝒩($(m), $(v))\")"
   ]
  },
  {
   "cell_type": "code",
   "execution_count": 7,
   "metadata": {
    "slideshow": {
     "slide_type": "subslide"
    }
   },
   "outputs": [
    {
     "ename": "LoadError",
     "evalue": "KeyError: key :y not found",
     "output_type": "error",
     "traceback": [
      "KeyError: key :y not found",
      "",
      "Stacktrace:",
      " [1] getindex at ./dict.jl:467 [inlined]",
      " [2] step_x_fwd2!(::Dict{Any,Any}, ::Dict{Any,Any}, ::Array{Message,1}) at ./none:6",
      " [3] step_x_fwd2! at ./none:5 [inlined] (repeats 2 times)",
      " [4] top-level scope at In[7]:10",
      " [5] include_string(::Function, ::Module, ::String, ::String) at ./loading.jl:1091",
      " [6] execute_code(::String, ::String) at /home/mkoudahl/.config/julia/packages/IJulia/rWZ9e/src/execute_request.jl:27",
      " [7] execute_request(::ZMQ.Socket, ::IJulia.Msg) at /home/mkoudahl/.config/julia/packages/IJulia/rWZ9e/src/execute_request.jl:86",
      " [8] #invokelatest#1 at ./essentials.jl:710 [inlined]",
      " [9] invokelatest at ./essentials.jl:709 [inlined]",
      " [10] eventloop(::ZMQ.Socket) at /home/mkoudahl/.config/julia/packages/IJulia/rWZ9e/src/eventloop.jl:8",
      " [11] (::IJulia.var\"#15#18\")() at ./task.jl:356"
     ]
    }
   ],
   "source": [
    "# Backward message towards X\n",
    "fg = FactorGraph()\n",
    "x = Variable(id=:x)\n",
    "@RV y = constant(4.0) * x\n",
    "GaussianMeanVariance(y, constant(2.0), constant(1.0))\n",
    "\n",
    "algo5 = messagePassingAlgorithm(x, id=:_x_fwd2)\n",
    "source_code5 = algorithmSourceCode(algo5)\n",
    "eval(Meta.parse(source_code5))\n",
    "msg_backward_X = step_x_fwd2!(Dict())[:x]\n",
    "print(\"Backward message on X: $(msg_backward_X)\")"
   ]
  },
  {
   "cell_type": "code",
   "execution_count": 8,
   "metadata": {
    "slideshow": {
     "slide_type": "skip"
    }
   },
   "outputs": [
    {
     "data": {
      "text/html": [
       "<!--\n",
       "This HTML file contains custom styles and some javascript.\n",
       "Include it a Jupyter notebook for improved rendering.\n",
       "-->\n",
       "\n",
       "<!-- Fonts -->\n",
       "<link href='http://fonts.googleapis.com/css?family=Alegreya+Sans:100,300,400,500,700,800,900,100italic,300italic,400italic,500italic,700italic,800italic,900italic' rel='stylesheet' type='text/css'>\n",
       "<link href='http://fonts.googleapis.com/css?family=Arvo:400,700,400italic' rel='stylesheet' type='text/css'>\n",
       "<link href='http://fonts.googleapis.com/css?family=PT+Mono' rel='stylesheet' type='text/css'>\n",
       "<link href='http://fonts.googleapis.com/css?family=Shadows+Into+Light' rel='stylesheet' type='text/css'>\n",
       "<link href='http://fonts.googleapis.com/css?family=Nixie+One' rel='stylesheet' type='text/css'>\n",
       "\n",
       "<!-- Custom style -->\n",
       "<style>\n",
       "\n",
       "@font-face {\n",
       "    font-family: \"Computer Modern\";\n",
       "    src: url('http://mirrors.ctan.org/fonts/cm-unicode/fonts/otf/cmunss.otf');\n",
       "}\n",
       "\n",
       "#notebook_panel { /* main background */\n",
       "    background: rgb(245,245,245);\n",
       "}\n",
       "\n",
       "div.container {\n",
       "    min-width: 960px;\n",
       "}\n",
       "\n",
       "div #notebook { /* centre the content */\n",
       "    background: #fff; /* white background for content */\n",
       "    margin: auto;\n",
       "    padding-left: 0em;\n",
       "}\n",
       "\n",
       "#notebook li { /* More space between bullet points */\n",
       "    margin-top:0.8em;\n",
       "}\n",
       "\n",
       "/* draw border around running cells */\n",
       "div.cell.border-box-sizing.code_cell.running {\n",
       "    border: 1px solid #111;\n",
       "}\n",
       "\n",
       "/* Put a solid color box around each cell and its output, visually linking them*/\n",
       "div.cell.code_cell {\n",
       "    background-color: rgb(256,256,256);\n",
       "    border-radius: 0px;\n",
       "    padding: 0.5em;\n",
       "    margin-left:1em;\n",
       "    margin-top: 1em;\n",
       "}\n",
       "\n",
       "div.text_cell_render{\n",
       "    font-family: 'Alegreya Sans' sans-serif;\n",
       "    line-height: 140%;\n",
       "    font-size: 125%;\n",
       "    font-weight: 400;\n",
       "    width:800px;\n",
       "    margin-left:auto;\n",
       "    margin-right:auto;\n",
       "}\n",
       "\n",
       "\n",
       "/* Formatting for header cells */\n",
       ".text_cell_render h1 {\n",
       "    font-family: 'Nixie One', serif;\n",
       "    font-style:regular;\n",
       "    font-weight: 400;\n",
       "    font-size: 45pt;\n",
       "    line-height: 100%;\n",
       "    color: rgb(0,51,102);\n",
       "    margin-bottom: 0.5em;\n",
       "    margin-top: 0.5em;\n",
       "    display: block;\n",
       "}\n",
       "\n",
       ".text_cell_render h2 {\n",
       "    font-family: 'Nixie One', serif;\n",
       "    font-weight: 400;\n",
       "    font-size: 30pt;\n",
       "    line-height: 100%;\n",
       "    color: rgb(0,51,102);\n",
       "    margin-bottom: 0.1em;\n",
       "    margin-top: 0.3em;\n",
       "    display: block;\n",
       "}\n",
       "\n",
       ".text_cell_render h3 {\n",
       "    font-family: 'Nixie One', serif;\n",
       "    margin-top:16px;\n",
       "    font-size: 22pt;\n",
       "    font-weight: 600;\n",
       "    margin-bottom: 3px;\n",
       "    font-style: regular;\n",
       "    color: rgb(102,102,0);\n",
       "}\n",
       "\n",
       ".text_cell_render h4 {    /*Use this for captions*/\n",
       "    font-family: 'Nixie One', serif;\n",
       "    font-size: 14pt;\n",
       "    text-align: center;\n",
       "    margin-top: 0em;\n",
       "    margin-bottom: 2em;\n",
       "    font-style: regular;\n",
       "}\n",
       "\n",
       ".text_cell_render h5 {  /*Use this for small titles*/\n",
       "    font-family: 'Nixie One', sans-serif;\n",
       "    font-weight: 400;\n",
       "    font-size: 16pt;\n",
       "    color: rgb(163,0,0);\n",
       "    font-style: italic;\n",
       "    margin-bottom: .1em;\n",
       "    margin-top: 0.8em;\n",
       "    display: block;\n",
       "}\n",
       "\n",
       ".text_cell_render h6 { /*use this for copyright note*/\n",
       "    font-family: 'PT Mono', sans-serif;\n",
       "    font-weight: 300;\n",
       "    font-size: 9pt;\n",
       "    line-height: 100%;\n",
       "    color: grey;\n",
       "    margin-bottom: 1px;\n",
       "    margin-top: 1px;\n",
       "}\n",
       "\n",
       ".CodeMirror{\n",
       "    font-family: \"PT Mono\";\n",
       "    font-size: 90%;\n",
       "}\n",
       "\n",
       ".boxed { /* draw a border around a piece of text */\n",
       "  border: 1px solid blue ;\n",
       "}\n",
       "\n",
       "h4#CODE-EXAMPLE,\n",
       "h4#END-OF-CODE-EXAMPLE {\n",
       "    margin: 10px 0;\n",
       "    padding: 10px;\n",
       "    background-color: #d0f9ca !important;\n",
       "    border-top: #849f81 1px solid;\n",
       "    border-bottom: #849f81 1px solid;\n",
       "}\n",
       "\n",
       ".emphasis {\n",
       "    color: red;\n",
       "}\n",
       "\n",
       ".exercise {\n",
       "    color: green;\n",
       "}\n",
       "\n",
       ".proof {\n",
       "    color: blue;\n",
       "}\n",
       "\n",
       "code {\n",
       "  padding: 2px 4px !important;\n",
       "  font-size: 90% !important;\n",
       "  color: #222 !important;\n",
       "  background-color: #efefef !important;\n",
       "  border-radius: 2px !important;\n",
       "}\n",
       "\n",
       "/* This removes the actual style cells from the notebooks, but no in print mode\n",
       "   as they will be removed through some other method */\n",
       "@media not print {\n",
       "  .cell:nth-last-child(-n+2) {\n",
       "    display: none;\n",
       "  }\n",
       "}\n",
       "\n",
       "footer.hidden-print {\n",
       "    display: none !important;\n",
       "}\n",
       "    \n",
       "</style>\n",
       "\n",
       "<!-- MathJax styling -->\n",
       "<script>\n",
       "    MathJax.Hub.Config({\n",
       "                        TeX: {\n",
       "                           extensions: [\"AMSmath.js\"],\n",
       "                           equationNumbers: { autoNumber: \"AMS\", useLabelIds: true}\n",
       "                           },\n",
       "                tex2jax: {\n",
       "                    inlineMath: [ ['$','$'], [\"\\\\(\",\"\\\\)\"] ],\n",
       "                    displayMath: [ ['$$','$$'], [\"\\\\[\",\"\\\\]\"] ]\n",
       "                },\n",
       "                displayAlign: 'center', // Change this to 'center' to center equations.\n",
       "                \"HTML-CSS\": {\n",
       "                    styles: {'.MathJax_Display': {\"margin\": 4}}\n",
       "                }\n",
       "        });\n",
       "</script>\n"
      ]
     },
     "metadata": {},
     "output_type": "display_data"
    }
   ],
   "source": [
    "open(\"../../styles/aipstyle.html\") do f display(\"text/html\", read(f, String)) end\n"
   ]
  },
  {
   "cell_type": "code",
   "execution_count": null,
   "metadata": {},
   "outputs": [],
   "source": []
  }
 ],
 "metadata": {
  "celltoolbar": "Slideshow",
  "kernelspec": {
   "display_name": "Julia 1.5.2",
   "language": "julia",
   "name": "julia-1.5"
  },
  "language_info": {
   "file_extension": ".jl",
   "mimetype": "application/julia",
   "name": "julia",
   "version": "1.5.2"
  }
 },
 "nbformat": 4,
 "nbformat_minor": 4
}
