{
 "cells": [
  {
   "cell_type": "markdown",
   "metadata": {
    "slideshow": {
     "slide_type": "slide"
    }
   },
   "source": [
    "# Factor Graphs"
   ]
  },
  {
   "cell_type": "markdown",
   "metadata": {
    "slideshow": {
     "slide_type": "slide"
    }
   },
   "source": [
    "\n",
    "### Preliminaries\n",
    "\n",
    "- Goal \n",
    "  - Introduction to Forney-style factor graphs and message passing-based inference \n",
    "- Materials        \n",
    "  - Mandatory\n",
    "    - These lecture notes   \n",
    "    - Loeliger (2007), [The factor graph approach to model based signal processing](https://github.com/bertdv/BMLIP/blob/master/lessons/notebooks/files/Loeliger-2007-The-factor-graph-approach-to-model-based-signal-processing.pdf), pp. 1295-1302 (until section V)\n",
    "  - Optional\n",
    "    - Frederico Wadehn (2015), [Probabilistic graphical models: Factor graphs and more](https://www.youtube.com/watch?v=Fv2YbVg9Frc&t=31) video lecture (**highly recommended**)\n",
    "  - References\n",
    "    - Forney (2001), [Codes on graphs: normal realizations](https://github.com/bertdv/BMLIP/blob/master/lessons/notebooks/files/Forney-2001-Codes-on-graphs-normal-realizations.pdf)\n",
    "   "
   ]
  },
  {
   "cell_type": "markdown",
   "metadata": {
    "slideshow": {
     "slide_type": "slide"
    }
   },
   "source": [
    "### Why Factor Graphs?\n",
    "\n",
    "- A probabilistic inference task gets its computational load mainly through the need for marginalization (i.e., computing integrals). E.g., for a model $p(x_1,x_2,x_3,x_4,x_5)$, the inference task $p(x_2|x_3)$ is given by \n",
    "$$\n",
    "p(x_2|x_3) = \\frac{p(x_2,x_3)}{p(x_3)} = \\frac{\\int \\cdots \\int p(x_1,x_2,x_3,x_4,x_5) \\, \\mathrm{d}x_1  \\mathrm{d}x_4 \\mathrm{d}x_5}{\\int \\cdots \\int p(x_1,x_2,x_3,x_4,x_5) \\, \\mathrm{d}x_1  \\mathrm{d}x_2 \\mathrm{d}x_4 \\mathrm{d}x_5}$$"
   ]
  },
  {
   "cell_type": "markdown",
   "metadata": {
    "slideshow": {
     "slide_type": "fragment"
    }
   },
   "source": [
    "- Since these computations (integrals or sums) suffer from the \"curse of dimensionality\", we often need to solve a simpler problem in order to get an answer. "
   ]
  },
  {
   "cell_type": "markdown",
   "metadata": {
    "slideshow": {
     "slide_type": "fragment"
    }
   },
   "source": [
    "- Factor graphs provide a computationally efficient approach to solving inference problems **if the probabilistic model can be factorized**. "
   ]
  },
  {
   "cell_type": "markdown",
   "metadata": {
    "slideshow": {
     "slide_type": "fragment"
    }
   },
   "source": [
    "- <a id='factorization-helps'>Factorization helps</a>. For instance, if $p(x_1,x_2,x_3,x_4,x_5) = p(x_1)p(x_2,x_3)p(x_4)p(x_5|x_4)$, then\n",
    "\n",
    "$$\n",
    "p(x_2|x_3) = \\frac{\\int \\cdots \\int p(x_1)p(x_2,x_3)p(x_4)p(x_5|x_4) \\, \\mathrm{d}x_1  \\mathrm{d}x_4 \\mathrm{d}x_5}{\\int \\cdots \\int p(x_1)p(x_2,x_3)p(x_4)p(x_5|x_4) \\, \\mathrm{d}x_1  \\mathrm{d}x_2 \\mathrm{d}x_4 \\mathrm{d}x_5} \n",
    "  = \\frac{p(x_2,x_3)}{\\int p(x_2,x_3) \\mathrm{d}x_2}\n",
    "$$\n",
    "\n",
    "which is computationally much cheaper than the general case above."
   ]
  },
  {
   "cell_type": "markdown",
   "metadata": {
    "slideshow": {
     "slide_type": "fragment"
    }
   },
   "source": [
    "- In this lesson, we discuss how computationally efficient inference in *factorized* probability distributions can be automated by message passing-based inference in factor graphs."
   ]
  },
  {
   "cell_type": "markdown",
   "metadata": {
    "slideshow": {
     "slide_type": "slide"
    }
   },
   "source": [
    "###  Factor Graph Construction Rules\n",
    "\n",
    "- Consider a function \n",
    "$$\n",
    "f(x_1,x_2,x_3,x_4,x_5) = f_a(x_1,x_2,x_3) \\cdot f_b(x_3,x_4,x_5) \\cdot f_c(x_4)\n",
    "$$"
   ]
  },
  {
   "cell_type": "markdown",
   "metadata": {
    "slideshow": {
     "slide_type": "fragment"
    }
   },
   "source": [
    "- The factorization of this function can be graphically represented by a **Forney-style Factor Graph** (FFG):\n",
    "\n",
    "<p style=\"text-align:center;\"><img src=\"./figures/ffg-example-1.png\" width=\"400px\"></p>"
   ]
  },
  {
   "cell_type": "markdown",
   "metadata": {
    "slideshow": {
     "slide_type": "fragment"
    }
   },
   "source": [
    "- An FFG is an **undirected** graph subject to the following construction rules ([Forney, 2001](https://github.com/bertdv/BMLIP/blob/master/lessons/notebooks/files/Forney-2001-Codes-on-graphs-normal-realizations.pdf))\n",
    "\n",
    "  1. A **node** for every factor;\n",
    "  1. An **edge** (or **half-edge**) for every variable;\n",
    "  1. Node $f_\\bullet$ is connected to edge $x$ **iff** variable $x$ appears in factor $f_\\bullet$."
   ]
  },
  {
   "cell_type": "markdown",
   "metadata": {
    "slideshow": {
     "slide_type": "fragment"
    }
   },
   "source": [
    "- A **configuration** is an assigment of values to all variables.\n",
    "\n",
    "- A configuration $\\omega=(x_1,x_2,x_3,x_4,x_5)$ is said to be **valid** iff $f(\\omega) \\neq 0$\n",
    "  "
   ]
  },
  {
   "cell_type": "markdown",
   "metadata": {
    "slideshow": {
     "slide_type": "slide"
    }
   },
   "source": [
    "###  Equality Nodes for Branching Points\n",
    "\n",
    "\n",
    "- Note that a variable can appear in maximally two factors in an FFG (since an edge has only two end points)."
   ]
  },
  {
   "cell_type": "markdown",
   "metadata": {
    "slideshow": {
     "slide_type": "fragment"
    }
   },
   "source": [
    "- Consider the factorization (where $x_2$ appears in three factors) \n",
    "\n",
    "$$\n",
    " f(x_1,x_2,x_3,x_4) = f_a(x_1,x_2)\\cdot f_b(x_2,x_3) \\cdot f_c(x_2,x_4)\n",
    "$$"
   ]
  },
  {
   "cell_type": "markdown",
   "metadata": {
    "slideshow": {
     "slide_type": "fragment"
    }
   },
   "source": [
    "- For the factor graph representation, we will instead consider the function $g$, defined as\n",
    "$$\\begin{align*}\n",
    " g(x_1,x_2&,x_2^\\prime,x_2^{\\prime\\prime},x_3,x_4) \n",
    "  = f_a(x_1,x_2)\\cdot f_b(x_2^\\prime,x_3) \\cdot f_c(x_2^{\\prime\\prime},x_4) \\cdot f_=(x_2,x_2^\\prime,x_2^{\\prime\\prime})\n",
    "\\end{align*}$$\n",
    "  where \n",
    "$$\n",
    "f_=(x_2,x_2^\\prime,x_2^{\\prime\\prime}) \\triangleq \\delta(x_2-x_2^\\prime)\\, \\delta(x_2-x_2^{\\prime\\prime})\n",
    "$$\n",
    "\n",
    " <p style=\"text-align:center;\"><img src=\"./figures/ffg-wEquality-node.png\" width=\"450px\"></p>\n",
    "  "
   ]
  },
  {
   "cell_type": "markdown",
   "metadata": {
    "slideshow": {
     "slide_type": "subslide"
    }
   },
   "source": [
    "- Note that through introduction of auxiliary variables $X_2^{\\prime}$ and $X_2^{\\prime\\prime}$ and a factor $f_=(x_2,x_2^\\prime,x_2^{\\prime\\prime})$, each variable in $g$ appears in maximally two factors."
   ]
  },
  {
   "cell_type": "markdown",
   "metadata": {
    "slideshow": {
     "slide_type": "fragment"
    }
   },
   "source": [
    "- The constraint $f_=(x,x^\\prime,x^{\\prime\\prime})$ enforces that $X=X^\\prime=X^{\\prime\\prime}$ **for every valid configuration**."
   ]
  },
  {
   "cell_type": "markdown",
   "metadata": {
    "slideshow": {
     "slide_type": "fragment"
    }
   },
   "source": [
    "- Since $f$ is a marginal of $g$, i.e., \n",
    "$$\n",
    "f(x_1,x_2,x_3,x_4) = \\iint g(x_1,x_2,x_2^\\prime,x_2^{\\prime\\prime},x_3,x_4)\\, \\mathrm{d}x_2^\\prime \\mathrm{d}x_2^{\\prime\\prime}\n",
    "$$\n",
    "it follows that any inference problem on $f$ can be executed by a corresponding inference problem on $g$, e.g.,\n",
    "$$\\begin{align*}\n",
    "f(x_1 \\mid x_2) &\\triangleq \\frac{\\iint f(x_1,x_2,x_3,x_4) \\,\\mathrm{d}x_3 \\mathrm{d}x_4 }{ \\int\\cdots\\int f(x_1,x_2,x_3,x_4) \\,\\mathrm{d}x_1 \\mathrm{d}x_3 \\mathrm{d}x_4} \\\\\n",
    "  &= \\frac{\\int\\cdots\\int g(x_1,x_2,x_2^\\prime,x_2^{\\prime\\prime},x_3,x_4) \\,\\mathrm{d}x_2^\\prime \\mathrm{d}x_2^{\\prime\\prime} \\mathrm{d}x_3 \\mathrm{d}x_4 }{ \\int\\cdots\\int g(x_1,x_2,x_2^\\prime,x_2^{\\prime\\prime},x_3,x_4) \\,\\mathrm{d}x_1 \\mathrm{d}x_2^\\prime \\mathrm{d}x_2^{\\prime\\prime} \\mathrm{d}x_3 \\mathrm{d}x_4} \\\\\n",
    "  &= g(x_1 \\mid x_2)\n",
    "\\end{align*}$$"
   ]
  },
  {
   "cell_type": "markdown",
   "metadata": {},
   "source": [
    "- $\\Rightarrow$ **Any factorization of a global function $f$ can be represented by a Forney-style Factor Graph**."
   ]
  },
  {
   "cell_type": "markdown",
   "metadata": {
    "slideshow": {
     "slide_type": "slide"
    }
   },
   "source": [
    "### Probabilistic Models as Factor Graphs\n",
    "\n",
    "- FFGs can be used to express conditional independence (factorization) in probabilistic models. "
   ]
  },
  {
   "cell_type": "markdown",
   "metadata": {
    "slideshow": {
     "slide_type": "fragment"
    }
   },
   "source": [
    "- For example, the (previously shown) graph for \n",
    "$f_a(x_1,x_2,x_3) \\cdot f_b(x_3,x_4,x_5) \\cdot f_c(x_4)$ \n",
    "could represent the probabilistic model\n",
    "$$\n",
    "p(x_1,x_2,x_3,x_4,x_5) = p(x_1,x_2|x_3) \\cdot p(x_3,x_5|x_4) \\cdot p(x_4)\n",
    "$$\n",
    "where we identify \n",
    "$$\\begin{align*}\n",
    "f_a(x_1,x_2,x_3) &= p(x_1,x_2|x_3) \\\\\n",
    "f_b(x_3,x_4,x_5) &= p(x_3,x_5|x_4) \\\\\n",
    "f_c(x_4) &= p(x_4)\n",
    "\\end{align*}$$"
   ]
  },
  {
   "cell_type": "markdown",
   "metadata": {
    "slideshow": {
     "slide_type": "fragment"
    }
   },
   "source": [
    "- This is the graph\n",
    "\n",
    "<p style=\"text-align:center;\"><img src=\"./figures/ffg-example-prob-model.png\" width=\"400px\"></p>"
   ]
  },
  {
   "cell_type": "markdown",
   "metadata": {
    "slideshow": {
     "slide_type": "slide"
    }
   },
   "source": [
    "### Inference by Closing Boxes\n",
    "\n",
    "- Factorizations provide opportunities to cut on the amount of needed computations when doing inference. In what follows, we will use FFGs to process these opportunities in an automatic way by message passing between the nodes of the graph. "
   ]
  },
  {
   "cell_type": "markdown",
   "metadata": {
    "slideshow": {
     "slide_type": "fragment"
    }
   },
   "source": [
    "- Assume we wish to compute the marginal\n",
    "$$\n",
    "\\bar{f}(x_3) \\triangleq \\sum\\limits_{x_1,x_2,x_4,x_5,x_6,x_7}f(x_1,x_2,\\ldots,x_7) \n",
    "$$\n",
    "for a model $f$ with given factorization \n",
    "$$\n",
    "f(x_1,x_2,\\ldots,x_7) = f_a(x_1) f_b(x_2) f_c(x_1,x_2,x_3) f_d(x_4) f_e(x_3,x_4,x_5) f_f(x_5,x_6,x_7) f_g(x_7)\n",
    "$$ "
   ]
  },
  {
   "cell_type": "markdown",
   "metadata": {},
   "source": [
    "- Note that, if each variable $x_i$ can take on $10$ values, then the computing the marginal $\\bar{f}(x_3)$ takes about $10^6$ (1 million) additions. "
   ]
  },
  {
   "cell_type": "markdown",
   "metadata": {
    "slideshow": {
     "slide_type": "subslide"
    }
   },
   "source": [
    "- Due to the factorization and the [Generalized Distributive Law](https://en.wikipedia.org/wiki/Generalized_distributive_law), we can decompose this sum-of-products to the following product-of-sums:\n",
    "$$\\begin{align*}\\bar{f}&(x_3) = \\\\\n",
    "  &\\underbrace{ \\Bigg( \\sum_{x_1,x_2} \\underbrace{f_a(x_1)}_{\\overrightarrow{\\mu}_{X_1}(x_1)}\\, \\underbrace{f_b(x_2)}_{\\overrightarrow{\\mu}_{X_2}(x_2)}\\,f_c(x_1,x_2,x_3)\\Bigg) }_{\\overrightarrow{\\mu}_{X_3}(x_3)} \n",
    "  \\underbrace{ \\cdot\\Bigg( \\sum_{x_4,x_5} \\underbrace{f_d(x_4)}_{\\overrightarrow{\\mu}_{X_4}(x_4)}\\,f_e(x_3,x_4,x_5) \\cdot \\underbrace{ \\big( \\sum_{x_6,x_7} f_f(x_5,x_6,x_7)\\,\\underbrace{f_g(x_7)}_{\\overleftarrow{\\mu}_{X_7}(x_7)}\\big) }_{\\overleftarrow{\\mu}_{X_5}(x_5)} \\Bigg) }_{\\overleftarrow{\\mu}_{X_3}(x_3)}\n",
    "\\end{align*}$$\n",
    "which, in case $x_i$ has $10$ values, requires a few hundred additions and is therefore computationally (much!) lighter than executing the full sum $\\sum_{x_1,\\ldots,x_7}f(x_1,x_2,\\ldots,x_7)$\n",
    "\n",
    "<p style=\"text-align:center;\"><img src=\"./figures/ffg-message-passing.png\" width=\"700px\"></p>"
   ]
  },
  {
   "cell_type": "markdown",
   "metadata": {
    "slideshow": {
     "slide_type": "fragment"
    }
   },
   "source": [
    "- Note that the auxiliary factor $\\overrightarrow{\\mu}_{X_3}(x_3)$ is obtained by multiplying all enclosed factors ($f_a$, $f_b, f_c$) by the red dashed box, followed by marginalization (summing) over all enclosed variables ($x_1$, $x_2$).\n",
    "  "
   ]
  },
  {
   "cell_type": "markdown",
   "metadata": {
    "slideshow": {
     "slide_type": "fragment"
    }
   },
   "source": [
    "- This is the **Closing the Box**-rule, which is a general recipe for marginalization of latent variables (inside the box) and leads to a new factor that has the variables (edges) that cross the box as arguments. For instance, the argument of the remaining factor $\\overrightarrow{\\mu}_{X_3}(x_3)$ is the variable on the edge that crosses the red box ($x_3$).\n"
   ]
  },
  {
   "cell_type": "markdown",
   "metadata": {},
   "source": [
    "- Hence, $\\overrightarrow{\\mu}_{X_3}(x_3)$ can be interpreted as a **message from the red box toward variable** $x_3$."
   ]
  },
  {
   "cell_type": "markdown",
   "metadata": {
    "slideshow": {
     "slide_type": "fragment"
    }
   },
   "source": [
    "- We drew _directed edges_ in the FFG in order to distinguish forward messages $\\overrightarrow{\\mu}_\\bullet(\\cdot)$ (in the same direction as the arrow of the edge) from backward messages $\\overleftarrow{\\mu}_\\bullet(\\cdot)$ (in opposite direction). This is just a notational convenience since an FFG is computationally an undirected graph. "
   ]
  },
  {
   "cell_type": "markdown",
   "metadata": {
    "slideshow": {
     "slide_type": "slide"
    }
   },
   "source": [
    "### Sum-Product Algorithm\n",
    "\n",
    "- Closing-the-box can also be interpreted as a **message update rule** for an outgoing message from a node. For a node $f(y,x_1,\\ldots,x_n)$ with incoming messages $\\overrightarrow{\\mu}_{X_1}(x_1), \\overrightarrow{\\mu}_{X_1}(x_1), \\ldots,\\overrightarrow{\\mu}_{X_n}(x_n)$, the outgoing message is given by ([Loeliger (2007), pg.1299](https://github.com/bertdv/BMLIP/blob/master/lessons/notebooks/files/Loeliger-2007-The-factor-graph-approach-to-model-based-signal-processing.pdf)): \n",
    "\n",
    "$$ \\boxed{\n",
    "\\underbrace{\\overrightarrow{\\mu}_{Y}(y)}_{\\substack{ \\text{outgoing}\\\\ \\text{message}}} = \\sum_{x_1,\\ldots,x_n} \\underbrace{\\overrightarrow{\\mu}_{X_1}(x_1)\\cdots \\overrightarrow{\\mu}_{X_n}(x_n)}_{\\substack{\\text{incoming} \\\\ \\text{messages}}} \\cdot \\underbrace{f(y,x_1,\\ldots,x_n)}_{\\substack{\\text{node}\\\\ \\text{function}}} }\n",
    "$$\n",
    "\n",
    "<p style=\"text-align:center;\"><img src=\"./figures/ffg-sum-product.png\" width=\"500px\"></p>\n",
    "\n",
    "- This is called the **Sum-Product Message** (SPM) update rule. (Look at the formula to understand why it's called the SPM update rule)."
   ]
  },
  {
   "cell_type": "markdown",
   "metadata": {
    "slideshow": {
     "slide_type": "fragment"
    }
   },
   "source": [
    "- Note that all SPM update rules can be computed from information that is **locally available** at each node."
   ]
  },
  {
   "cell_type": "markdown",
   "metadata": {
    "slideshow": {
     "slide_type": "fragment"
    }
   },
   "source": [
    "- If the factor graph for a function $f$ has **no cycles** (i.e., the graph is a tree), then the marginal $\\bar{f}(x_3) = \\sum_{x_1,x_2,x_4,x_5,x_6,x_7}f(x_1,x_2,\\ldots,x_7)$ is given by multiplying the forward and backward messages on that edge:\n",
    "\n",
    "$$ \\boxed{\n",
    "\\bar{f}(x_3) = \\overrightarrow{\\mu}_{X_3}(x_3)\\cdot \\overleftarrow{\\mu}_{X_3}(x_3)}\n",
    "$$"
   ]
  },
  {
   "cell_type": "markdown",
   "metadata": {
    "slideshow": {
     "slide_type": "fragment"
    }
   },
   "source": [
    "- It follows that the marginal $\\bar{f}(x_3) = \\sum_{x_1,x_2,x_4,x_5,x_6,x_7}f(x_1,x_2,\\ldots,x_7)$ can be efficiently computed through sum-product messages. Executing inference through SP message passing is called the **Sum-Product Algorithm** (or alternatively, the **belief propagation** algorithm)."
   ]
  },
  {
   "cell_type": "markdown",
   "metadata": {},
   "source": [
    "- Just as a final note, inference by sum-product message passing is much like replacing the sum-of-products\n",
    "$$\n",
    "ac + ad + bc + b$$\n",
    "by the following product-of-sums:\n",
    "$$\n",
    "(a + b)(c + d) \\,.$$\n",
    "- Which of these two computations is cheaper to execute?"
   ]
  },
  {
   "cell_type": "markdown",
   "metadata": {},
   "source": [
    "### <a id=\"sp-for-equality-node\">Sum-Product Messages for the Equality Node</a>\n",
    "\n",
    "- As an example, let´s evaluate the SP messages for the **equality node** $f_=(x,y,z) = \\delta(z-x)\\delta(z-y)$: \n",
    "\n",
    "<p style=\"text-align:center;\"><img src=\"./figures/ffg-equality-node.png\" width=\"250px\"></p>\n",
    "\n",
    "$$\\begin{align*}\n",
    "\\overrightarrow{\\mu}_{Z}(z) &= \\iint  \\overrightarrow{\\mu}_{X}(x) \\overrightarrow{\\mu}_{Y}(y) \\,\\delta(z-x)\\delta(z-y) \\,\\mathrm{d}x \\mathrm{d}y \\\\\n",
    "   &=  \\overrightarrow{\\mu}_{X}(z)  \\int  \\overrightarrow{\\mu}_{Y}(y) \\,\\delta(z-y) \\,\\mathrm{d}y \\\\\n",
    "   &=  \\overrightarrow{\\mu}_{X}(z) \\overrightarrow{\\mu}_{Y}(z) \n",
    "\\end{align*}$$\n",
    "\n",
    "- By symmetry, this also implies (for the same equality node) that\n",
    "$$\\begin{align*}\n",
    "\\overleftarrow{\\mu}_{X}(x) &= \\overrightarrow{\\mu}_{Y}(x) \\overleftarrow{\\mu}_{Z}(x) \\quad \\text{and} \\\\\n",
    "\\overleftarrow{\\mu}_{Y}(y) &= \\overrightarrow{\\mu}_{X}(y) \\overleftarrow{\\mu}_{Z}(y)\\,.\n",
    "\\end{align*}$$\n",
    "\n",
    "- Let us now consider the case of Gaussian messages $\\overrightarrow{\\mu}_{X}(x) = \\mathcal{N}(x|\\overrightarrow{m}_X,\\overrightarrow{V}_X)$, $\\overrightarrow{\\mu}_{Y}(y) = \\mathcal{N}(y| \\overrightarrow{m}_Y,\\overrightarrow{V}_Y)$ and $\\overrightarrow{\\mu}_{Z}(z) = \\mathcal{N}(z|\\overrightarrow{m}_Z,\\overrightarrow{V}_Z)$. Let´s also define the precision matrices $\\overrightarrow{W}_X \\triangleq \\overrightarrow{V}_X^{-1}$ and similarly for $Y$ and $Z$. Then applying the SP update rule leads to multiplication of two Gaussian distributions (see [Roweis notes](https://github.com/bertdv/BMLIP/blob/master/lessons/notebooks/files/Roweis-1999-gaussian-identities.pdf)), resulting in \n",
    "\n",
    "$$\\begin{align*}\n",
    "\\overrightarrow{W}_Z &= \\overrightarrow{W}_X + \\overrightarrow{W}_Y \\\\ \n",
    "\\overrightarrow{W}_Z \\overrightarrow{m}_z &= \\overrightarrow{W}_X \\overrightarrow{m}_X + \\overrightarrow{W}_Y \\overrightarrow{m}_Y\n",
    "\\end{align*}$$\n",
    "\n",
    "- It follows that **message passing through an equality node is similar to applying Bayes rule**, i.e., fusion of two information sources. Does this make sense?"
   ]
  },
  {
   "cell_type": "markdown",
   "metadata": {
    "slideshow": {
     "slide_type": "slide"
    }
   },
   "source": [
    "### Message Passing Schedules\n",
    "\n",
    "- In a tree graph, start with messages from the terminals and keep passing messages through the internal nodes towards the \"target\" variable ($x_3$ in above problem) until you have both the forward and backward message for the target variable. "
   ]
  },
  {
   "cell_type": "markdown",
   "metadata": {
    "slideshow": {
     "slide_type": "fragment"
    }
   },
   "source": [
    "- In a tree graph, if you continue to pass messages throughout the graph, the Sum-Product Algorithm computes **exact** marginals for all hidden variables."
   ]
  },
  {
   "cell_type": "markdown",
   "metadata": {
    "slideshow": {
     "slide_type": "fragment"
    }
   },
   "source": [
    "- If the graph contains cycles, we have in principle an infinite tree by \"unrolling\" the graph. In this case, the SP Algorithm is not guaranteed to find exact marginals. In practice, if we apply the SP algorithm for just a few iterations (\"unrolls\"), then we often find satisfying approximate marginals.   "
   ]
  },
  {
   "cell_type": "markdown",
   "metadata": {
    "slideshow": {
     "slide_type": "slide"
    }
   },
   "source": [
    "### Terminal Nodes and Processing Observations \n",
    "\n",
    "- We can use terminal nodes to represent observations, e.g., add a factor $f(y)=\\delta(y−3)$ to terminate the half-edge for variable $Y$  if  $y=3$  is observed.\n",
    "\n",
    "<p style=\"text-align:center;\"><img src=\"./figures/ffg-observation-y-3.png\" width=\"600px\"></p>\n",
    "\n",
    "- Terminal nodes that carry observations are denoted by small black boxes."
   ]
  },
  {
   "cell_type": "markdown",
   "metadata": {
    "slideshow": {
     "slide_type": "fragment"
    }
   },
   "source": [
    "\n",
    "  \n",
    "- The message out of a **terminal node** (attached to only 1 edge) is the factor itself. For instance, closing a box around terminal node $f_a(x_1)$ would lead to $$\\overrightarrow{\\mu}_{X_1}(x_1) \\triangleq \\sum_{ \\stackrel{ \\textrm{enclosed} }{ \\textrm{variables} } } \\;\\prod_{\\stackrel{ \\textrm{enclosed} }{ \\textrm{factors} }} f_a(x_1) = f_a(x_1)\\,$$\n",
    "since there are no enclosed variables. \n",
    "\n",
    "<p style=\"text-align:center;\"><img src=\"./figures/ffg-terminal-node-message.png\" width=\"250px\"></p>\n",
    " "
   ]
  },
  {
   "cell_type": "markdown",
   "metadata": {
    "slideshow": {
     "slide_type": "fragment"
    }
   },
   "source": [
    "- The message from a half-edge is $1$ (one). You can verify this by imagining that a half-edge $x$ can be terminated by a node function $f(x)=1$ without affecting any inference issue."
   ]
  },
  {
   "cell_type": "markdown",
   "metadata": {
    "slideshow": {
     "slide_type": "slide"
    }
   },
   "source": [
    "### Automating Bayesian Inference by Message Passing\n",
    "\n",
    "- The foregoing message update rules can be worked out in closed-form and put into tables (e.g., see Tables 1 through 6 in [Loeliger (2007)](./files/Loeliger-2007-The-factor-graph-approach-to-model-based-signal-processing.pdf) for many standard factors such as essential probability distributions and operations such as additions, fixed-gain multiplications and branching (equality nodes).\n",
    "\n",
    "- In the optional slides below, we have worked out a few more update rules for the [addition node](#sp-for-addition-node) and the [multiplication node](#sp-for-multiplication-node).\n",
    "\n",
    "- If the update rules for all node types in a graph have been tabulated, then inference by message passing comes down to executing a set of table-lookup operations, thus creating a completely **automatable Bayesian inference framework**. \n",
    "\n",
    "- In our research lab [BIASlab](http://biaslab.org) (FLUX 7.060), we are developing [RxInfer](http://rxinfer.ml), which is a (Julia) toolbox for automating Bayesian inference by message passing in a factor graph.\n"
   ]
  },
  {
   "cell_type": "markdown",
   "metadata": {
    "slideshow": {
     "slide_type": "slide"
    }
   },
   "source": [
    "### Example: Bayesian Linear Regression by Message Passing\n"
   ]
  },
  {
   "cell_type": "markdown",
   "metadata": {
    "slideshow": {
     "slide_type": "fragment"
    }
   },
   "source": [
    "- Assume we want to estimate some function $f: \\mathbb{R}^D \\rightarrow \\mathbb{R}$ from a given data set $D = \\{(x_1,y_1), \\ldots, (x_N,y_N)\\}$, with model assumption $y_i = f(x_i) + \\epsilon_i$."
   ]
  },
  {
   "cell_type": "markdown",
   "metadata": {
    "slideshow": {
     "slide_type": "fragment"
    }
   },
   "source": [
    "#### model specification \n",
    "\n",
    "- We will assume a linear model with white Gaussian noise and a Gaussian prior on the coefficients $w$:\n",
    "$$\\begin{align*}\n",
    "  y_i &= w^T x_i  + \\epsilon_i \\\\\n",
    "  \\epsilon_i &\\sim \\mathcal{N}(0, \\sigma^2) \\\\ \n",
    "  w &\\sim \\mathcal{N}(0,\\Sigma)\n",
    "\\end{align*}$$\n",
    "or equivalently\n",
    "$$\\begin{align*}\n",
    "p(w,\\epsilon,D) &= \\overbrace{p(w)}^{\\text{weight prior}} \\prod_{i=1}^N  \\overbrace{p(y_i\\,|\\,x_i,w,\\epsilon_i)}^{\\text{regression model}} \\overbrace{p(\\epsilon_i)}^{\\text{noise model}} \\\\\n",
    "  &= \\mathcal{N}(w\\,|\\,0,\\Sigma) \\prod_{i=1}^N \\delta(y_i - w^T x_i - \\epsilon_i) \\mathcal{N}(\\epsilon_i\\,|\\,0,\\sigma^2) \n",
    "\\end{align*}$$"
   ]
  },
  {
   "cell_type": "markdown",
   "metadata": {
    "slideshow": {
     "slide_type": "fragment"
    }
   },
   "source": [
    "#### Inference (parameter estimation)\n",
    "\n",
    "- We are interested in inferring the posterior $p(w|D)$. We will execute inference by message passing on the FFG for the model."
   ]
  },
  {
   "cell_type": "markdown",
   "metadata": {
    "slideshow": {
     "slide_type": "subslide"
    }
   },
   "source": [
    "- The left figure shows the factor graph for this model. \n",
    "- The right figure shows the message passing scheme. \n",
    "  \n",
    "<p style=\"text-align:center;\"><img src=\"./figures/ffg-bayesian-linear-regression.png\" width=\"500px\"></p>\n"
   ]
  },
  {
   "cell_type": "markdown",
   "metadata": {
    "slideshow": {
     "slide_type": "slide"
    }
   },
   "source": [
    "#### CODE EXAMPLE\n",
    "\n",
    "Let's solve this problem by message passing-based inference with Julia's FFG toolbox [RxInfer](https://biaslab.github.io/rxinfer-website/)."
   ]
  },
  {
   "cell_type": "code",
   "execution_count": 1,
   "metadata": {},
   "outputs": [
    {
     "name": "stderr",
     "output_type": "stream",
     "text": [
      "\u001b[32m\u001b[1m  Activating\u001b[22m\u001b[39m project at `~/Documents/biaslab/5SSD0 - BMLIP/BMLIP/lessons`\n"
     ]
    }
   ],
   "source": [
    "using Pkg; Pkg.activate(\"../.\"); Pkg.instantiate();\n",
    "using IJulia; try IJulia.clear_output(); catch _ end"
   ]
  },
  {
   "cell_type": "code",
   "execution_count": 5,
   "metadata": {},
   "outputs": [
    {
     "data": {
      "image/png": "[encoded data removed]",
      "image/svg+xml": [
       "<?xml version=\"1.0\" encoding=\"utf-8\"?>\n",
       "<svg xmlns=\"http://www.w3.org/2000/svg\" xmlns:xlink=\"http://www.w3.org/1999/xlink\" width=\"600\" height=\"400\" viewBox=\"0 0 2400 1600\">\n",
       "<defs>\n",
       "  <clipPath id=\"clip740\">\n",
       "    <rect x=\"0\" y=\"0\" width=\"2400\" height=\"1600\"/>\n",
       "  </clipPath>\n",
       "</defs>\n",
       "<path clip-path=\"url(#clip740)\" d=\"M0 1600 L2400 1600 L2400 0 L0 0  Z\" fill=\"#ffffff\" fill-rule=\"evenodd\" fill-opacity=\"1\"/>\n",
       "<defs>\n",
       "  <clipPath id=\"clip741\">\n",
       "    <rect x=\"480\" y=\"0\" width=\"1681\" height=\"1600\"/>\n",
       "  </clipPath>\n",
       "</defs>\n",
       "<path clip-path=\"url(#clip740)\" d=\"M205.121 1423.18 L2352.76 1423.18 L2352.76 47.2441 L205.121 47.2441  Z\" fill=\"#ffffff\" fill-rule=\"evenodd\" fill-opacity=\"1\"/>\n",
       "<defs>\n",
       "  <clipPath id=\"clip742\">\n",
       "    <rect x=\"205\" y=\"47\" width=\"2149\" height=\"1377\"/>\n",
       "  </clipPath>\n",
       "</defs>\n",
       "<polyline clip-path=\"url(#clip742)\" style=\"stroke:#000000; stroke-linecap:round; stroke-linejoin:round; stroke-width:2; stroke-opacity:0.1; fill:none\" points=\"261.224,1423.18 261.224,47.2441 \"/>\n",
       "<polyline clip-path=\"url(#clip742)\" style=\"stroke:#000000; stroke-linecap:round; stroke-linejoin:round; stroke-width:2; stroke-opacity:0.1; fill:none\" points=\"722.975,1423.18 722.975,47.2441 \"/>\n",
       "<polyline clip-path=\"url(#clip742)\" style=\"stroke:#000000; stroke-linecap:round; stroke-linejoin:round; stroke-width:2; stroke-opacity:0.1; fill:none\" points=\"1184.73,1423.18 1184.73,47.2441 \"/>\n",
       "<polyline clip-path=\"url(#clip742)\" style=\"stroke:#000000; stroke-linecap:round; stroke-linejoin:round; stroke-width:2; stroke-opacity:0.1; fill:none\" points=\"1646.48,1423.18 1646.48,47.2441 \"/>\n",
       "<polyline clip-path=\"url(#clip742)\" style=\"stroke:#000000; stroke-linecap:round; stroke-linejoin:round; stroke-width:2; stroke-opacity:0.1; fill:none\" points=\"2108.23,1423.18 2108.23,47.2441 \"/>\n",
       "<polyline clip-path=\"url(#clip740)\" style=\"stroke:#000000; stroke-linecap:round; stroke-linejoin:round; stroke-width:4; stroke-opacity:1; fill:none\" points=\"205.121,1423.18 2352.76,1423.18 \"/>\n",
       "<polyline clip-path=\"url(#clip740)\" style=\"stroke:#000000; stroke-linecap:round; stroke-linejoin:round; stroke-width:4; stroke-opacity:1; fill:none\" points=\"261.224,1423.18 261.224,1404.28 \"/>\n",
       "<polyline clip-path=\"url(#clip740)\" style=\"stroke:#000000; stroke-linecap:round; stroke-linejoin:round; stroke-width:4; stroke-opacity:1; fill:none\" points=\"722.975,1423.18 722.975,1404.28 \"/>\n",
       "<polyline clip-path=\"url(#clip740)\" style=\"stroke:#000000; stroke-linecap:round; stroke-linejoin:round; stroke-width:4; stroke-opacity:1; fill:none\" points=\"1184.73,1423.18 1184.73,1404.28 \"/>\n",
       "<polyline clip-path=\"url(#clip740)\" style=\"stroke:#000000; stroke-linecap:round; stroke-linejoin:round; stroke-width:4; stroke-opacity:1; fill:none\" points=\"1646.48,1423.18 1646.48,1404.28 \"/>\n",
       "<polyline clip-path=\"url(#clip740)\" style=\"stroke:#000000; stroke-linecap:round; stroke-linejoin:round; stroke-width:4; stroke-opacity:1; fill:none\" points=\"2108.23,1423.18 2108.23,1404.28 \"/>\n",
       "<path clip-path=\"url(#clip740)\" d=\"M261.224 1454.1 Q257.613 1454.1 255.784 1457.66 Q253.979 1461.2 253.979 1468.33 Q253.979 1475.44 255.784 1479.01 Q257.613 1482.55 261.224 1482.55 Q264.858 1482.55 266.664 1479.01 Q268.493 1475.44 268.493 1468.33 Q268.493 1461.2 266.664 1457.66 Q264.858 1454.1 261.224 1454.1 M261.224 1450.39 Q267.034 1450.39 270.09 1455 Q273.169 1459.58 273.169 1468.33 Q273.169 1477.06 270.09 1481.67 Q267.034 1486.25 261.224 1486.25 Q255.414 1486.25 252.335 1481.67 Q249.28 1477.06 249.28 1468.33 Q249.28 1459.58 252.335 1455 Q255.414 1450.39 261.224 1450.39 Z\" fill=\"#000000\" fill-rule=\"nonzero\" fill-opacity=\"1\" /><path clip-path=\"url(#clip740)\" d=\"M717.627 1481.64 L733.947 1481.64 L733.947 1485.58 L712.003 1485.58 L712.003 1481.64 Q714.665 1478.89 719.248 1474.26 Q723.854 1469.61 725.035 1468.27 Q727.28 1465.74 728.16 1464.01 Q729.063 1462.25 729.063 1460.56 Q729.063 1457.8 727.118 1456.07 Q725.197 1454.33 722.095 1454.33 Q719.896 1454.33 717.442 1455.09 Q715.012 1455.86 712.234 1457.41 L712.234 1452.69 Q715.058 1451.55 717.512 1450.97 Q719.965 1450.39 722.002 1450.39 Q727.373 1450.39 730.567 1453.08 Q733.762 1455.77 733.762 1460.26 Q733.762 1462.39 732.951 1464.31 Q732.164 1466.2 730.058 1468.8 Q729.479 1469.47 726.377 1472.69 Q723.276 1475.88 717.627 1481.64 Z\" fill=\"#000000\" fill-rule=\"nonzero\" fill-opacity=\"1\" /><path clip-path=\"url(#clip740)\" d=\"M1187.73 1455.09 L1175.93 1473.54 L1187.73 1473.54 L1187.73 1455.09 M1186.51 1451.02 L1192.39 1451.02 L1192.39 1473.54 L1197.32 1473.54 L1197.32 1477.43 L1192.39 1477.43 L1192.39 1485.58 L1187.73 1485.58 L1187.73 1477.43 L1172.13 1477.43 L1172.13 1472.92 L1186.51 1451.02 Z\" fill=\"#000000\" fill-rule=\"nonzero\" fill-opacity=\"1\" /><path clip-path=\"url(#clip740)\" d=\"M1646.88 1466.44 Q1643.73 1466.44 1641.88 1468.59 Q1640.05 1470.74 1640.05 1474.49 Q1640.05 1478.22 1641.88 1480.39 Q1643.73 1482.55 1646.88 1482.55 Q1650.03 1482.55 1651.86 1480.39 Q1653.71 1478.22 1653.71 1474.49 Q1653.71 1470.74 1651.86 1468.59 Q1650.03 1466.44 1646.88 1466.44 M1656.16 1451.78 L1656.16 1456.04 Q1654.4 1455.21 1652.6 1454.77 Q1650.82 1454.33 1649.06 1454.33 Q1644.43 1454.33 1641.97 1457.45 Q1639.54 1460.58 1639.2 1466.9 Q1640.56 1464.89 1642.62 1463.82 Q1644.68 1462.73 1647.16 1462.73 Q1652.37 1462.73 1655.38 1465.9 Q1658.41 1469.05 1658.41 1474.49 Q1658.41 1479.82 1655.26 1483.03 Q1652.11 1486.25 1646.88 1486.25 Q1640.89 1486.25 1637.71 1481.67 Q1634.54 1477.06 1634.54 1468.33 Q1634.54 1460.14 1638.43 1455.28 Q1642.32 1450.39 1648.87 1450.39 Q1650.63 1450.39 1652.41 1450.74 Q1654.22 1451.09 1656.16 1451.78 Z\" fill=\"#000000\" fill-rule=\"nonzero\" fill-opacity=\"1\" /><path clip-path=\"url(#clip740)\" d=\"M2108.23 1469.17 Q2104.89 1469.17 2102.97 1470.95 Q2101.07 1472.73 2101.07 1475.86 Q2101.07 1478.98 2102.97 1480.77 Q2104.89 1482.55 2108.23 1482.55 Q2111.56 1482.55 2113.48 1480.77 Q2115.4 1478.96 2115.4 1475.86 Q2115.4 1472.73 2113.48 1470.95 Q2111.58 1469.17 2108.23 1469.17 M2103.55 1467.18 Q2100.54 1466.44 2098.85 1464.38 Q2097.18 1462.32 2097.18 1459.35 Q2097.18 1455.21 2100.12 1452.8 Q2103.09 1450.39 2108.23 1450.39 Q2113.39 1450.39 2116.33 1452.8 Q2119.27 1455.21 2119.27 1459.35 Q2119.27 1462.32 2117.58 1464.38 Q2115.91 1466.44 2112.93 1467.18 Q2116.3 1467.96 2118.18 1470.26 Q2120.08 1472.55 2120.08 1475.86 Q2120.08 1480.88 2117 1483.57 Q2113.94 1486.25 2108.23 1486.25 Q2102.51 1486.25 2099.43 1483.57 Q2096.37 1480.88 2096.37 1475.86 Q2096.37 1472.55 2098.27 1470.26 Q2100.17 1467.96 2103.55 1467.18 M2101.84 1459.79 Q2101.84 1462.48 2103.5 1463.98 Q2105.19 1465.49 2108.23 1465.49 Q2111.24 1465.49 2112.93 1463.98 Q2114.64 1462.48 2114.64 1459.79 Q2114.64 1457.11 2112.93 1455.6 Q2111.24 1454.1 2108.23 1454.1 Q2105.19 1454.1 2103.5 1455.6 Q2101.84 1457.11 2101.84 1459.79 Z\" fill=\"#000000\" fill-rule=\"nonzero\" fill-opacity=\"1\" /><path clip-path=\"url(#clip740)\" d=\"M1291.71 1525.1 Q1291.71 1525.33 1291.16 1526.29 Q1290.65 1527.23 1288.75 1529.58 Q1286.85 1531.93 1284.01 1534.67 Q1282.95 1535.73 1281.34 1537.21 Q1279.73 1538.69 1278.63 1539.66 L1277.54 1540.62 Q1273.35 1544.17 1269.68 1548.13 Q1269.94 1548.03 1270.39 1548 Q1270.84 1547.93 1271.16 1547.93 L1271.48 1547.93 Q1273.16 1547.93 1276.09 1549.06 Q1278.67 1549.9 1279.99 1549.9 Q1281.27 1549.9 1282.69 1549.45 Q1284.11 1549 1285.65 1547.68 Q1287.2 1546.36 1287.91 1544.36 Q1288.04 1544.04 1288.1 1543.94 Q1288.17 1543.81 1288.36 1543.68 Q1288.55 1543.52 1288.81 1543.52 Q1289.17 1543.52 1289.39 1543.71 Q1289.62 1543.91 1289.62 1544.17 Q1289.62 1544.75 1289.17 1545.9 Q1288.75 1547.06 1287.81 1548.51 Q1286.91 1549.96 1285.72 1551.28 Q1284.56 1552.57 1282.82 1553.47 Q1281.08 1554.34 1279.25 1554.34 Q1277.93 1554.34 1276.96 1553.7 Q1275.99 1553.09 1275.03 1551.9 Q1273.71 1550.38 1273 1549.9 Q1272.29 1549.38 1271.19 1549.38 Q1268.26 1549.38 1265.59 1553.47 Q1265.3 1554.05 1265.11 1554.18 Q1264.95 1554.34 1264.56 1554.34 Q1263.75 1554.31 1263.75 1553.67 Q1263.75 1553.41 1264.46 1552.28 Q1265.2 1551.12 1266.85 1549.09 Q1268.52 1547.06 1270.55 1545.04 L1276.48 1539.5 Q1283.05 1533.96 1285.65 1530.83 Q1284.56 1530.83 1284.08 1530.8 Q1283.63 1530.77 1282.72 1530.57 Q1281.82 1530.35 1280.57 1529.87 Q1277.64 1528.87 1276.41 1528.87 Q1276.09 1528.87 1275.74 1528.9 Q1275.38 1528.93 1274.58 1529.09 Q1273.8 1529.25 1273.16 1529.58 Q1272.51 1529.87 1271.84 1530.51 Q1271.16 1531.12 1270.81 1531.96 Q1270.71 1532.22 1270.65 1532.35 Q1270.58 1532.48 1270.39 1532.6 Q1270.23 1532.7 1269.97 1532.7 Q1269.58 1532.7 1269.36 1532.48 Q1269.17 1532.25 1269.17 1531.96 Q1269.17 1531.38 1269.75 1530.19 Q1270.32 1529 1271.29 1527.71 Q1272.26 1526.39 1273.84 1525.42 Q1275.41 1524.46 1277.15 1524.46 Q1278.18 1524.46 1279.05 1524.91 Q1279.95 1525.36 1280.41 1525.84 Q1280.89 1526.29 1281.69 1527.29 Q1282.37 1528.06 1282.69 1528.38 Q1283.01 1528.71 1283.66 1529.06 Q1284.33 1529.38 1285.08 1529.38 Q1286.3 1529.38 1287.43 1528.45 Q1288.55 1527.48 1290 1525.16 Q1290.39 1524.46 1291 1524.46 Q1291.71 1524.46 1291.71 1525.1 Z\" fill=\"#000000\" fill-rule=\"nonzero\" fill-opacity=\"1\" /><polyline clip-path=\"url(#clip742)\" style=\"stroke:#000000; stroke-linecap:round; stroke-linejoin:round; stroke-width:2; stroke-opacity:0.1; fill:none\" points=\"205.121,1364.76 2352.76,1364.76 \"/>\n",
       "<polyline clip-path=\"url(#clip742)\" style=\"stroke:#000000; stroke-linecap:round; stroke-linejoin:round; stroke-width:2; stroke-opacity:0.1; fill:none\" points=\"205.121,1039.06 2352.76,1039.06 \"/>\n",
       "<polyline clip-path=\"url(#clip742)\" style=\"stroke:#000000; stroke-linecap:round; stroke-linejoin:round; stroke-width:2; stroke-opacity:0.1; fill:none\" points=\"205.121,713.358 2352.76,713.358 \"/>\n",
       "<polyline clip-path=\"url(#clip742)\" style=\"stroke:#000000; stroke-linecap:round; stroke-linejoin:round; stroke-width:2; stroke-opacity:0.1; fill:none\" points=\"205.121,387.658 2352.76,387.658 \"/>\n",
       "<polyline clip-path=\"url(#clip742)\" style=\"stroke:#000000; stroke-linecap:round; stroke-linejoin:round; stroke-width:2; stroke-opacity:0.1; fill:none\" points=\"205.121,61.9573 2352.76,61.9573 \"/>\n",
       "<polyline clip-path=\"url(#clip740)\" style=\"stroke:#000000; stroke-linecap:round; stroke-linejoin:round; stroke-width:4; stroke-opacity:1; fill:none\" points=\"205.121,1423.18 205.121,47.2441 \"/>\n",
       "<polyline clip-path=\"url(#clip740)\" style=\"stroke:#000000; stroke-linecap:round; stroke-linejoin:round; stroke-width:4; stroke-opacity:1; fill:none\" points=\"205.121,1364.76 224.019,1364.76 \"/>\n",
       "<polyline clip-path=\"url(#clip740)\" style=\"stroke:#000000; stroke-linecap:round; stroke-linejoin:round; stroke-width:4; stroke-opacity:1; fill:none\" points=\"205.121,1039.06 224.019,1039.06 \"/>\n",
       "<polyline clip-path=\"url(#clip740)\" style=\"stroke:#000000; stroke-linecap:round; stroke-linejoin:round; stroke-width:4; stroke-opacity:1; fill:none\" points=\"205.121,713.358 224.019,713.358 \"/>\n",
       "<polyline clip-path=\"url(#clip740)\" style=\"stroke:#000000; stroke-linecap:round; stroke-linejoin:round; stroke-width:4; stroke-opacity:1; fill:none\" points=\"205.121,387.658 224.019,387.658 \"/>\n",
       "<polyline clip-path=\"url(#clip740)\" style=\"stroke:#000000; stroke-linecap:round; stroke-linejoin:round; stroke-width:4; stroke-opacity:1; fill:none\" points=\"205.121,61.9573 224.019,61.9573 \"/>\n",
       "<path clip-path=\"url(#clip740)\" d=\"M157.177 1350.56 Q153.566 1350.56 151.737 1354.12 Q149.931 1357.66 149.931 1364.79 Q149.931 1371.9 151.737 1375.46 Q153.566 1379.01 157.177 1379.01 Q160.811 1379.01 162.616 1375.46 Q164.445 1371.9 164.445 1364.79 Q164.445 1357.66 162.616 1354.12 Q160.811 1350.56 157.177 1350.56 M157.177 1346.85 Q162.987 1346.85 166.042 1351.46 Q169.121 1356.04 169.121 1364.79 Q169.121 1373.52 166.042 1378.13 Q162.987 1382.71 157.177 1382.71 Q151.366 1382.71 148.288 1378.13 Q145.232 1373.52 145.232 1364.79 Q145.232 1356.04 148.288 1351.46 Q151.366 1346.85 157.177 1346.85 Z\" fill=\"#000000\" fill-rule=\"nonzero\" fill-opacity=\"1\" /><path clip-path=\"url(#clip740)\" d=\"M117.825 1052.4 L125.464 1052.4 L125.464 1026.04 L117.154 1027.7 L117.154 1023.45 L125.418 1021.78 L130.093 1021.78 L130.093 1052.4 L137.732 1052.4 L137.732 1056.34 L117.825 1056.34 L117.825 1052.4 Z\" fill=\"#000000\" fill-rule=\"nonzero\" fill-opacity=\"1\" /><path clip-path=\"url(#clip740)\" d=\"M157.177 1024.86 Q153.566 1024.86 151.737 1028.42 Q149.931 1031.96 149.931 1039.09 Q149.931 1046.2 151.737 1049.76 Q153.566 1053.31 157.177 1053.31 Q160.811 1053.31 162.616 1049.76 Q164.445 1046.2 164.445 1039.09 Q164.445 1031.96 162.616 1028.42 Q160.811 1024.86 157.177 1024.86 M157.177 1021.15 Q162.987 1021.15 166.042 1025.76 Q169.121 1030.34 169.121 1039.09 Q169.121 1047.82 166.042 1052.43 Q162.987 1057.01 157.177 1057.01 Q151.366 1057.01 148.288 1052.43 Q145.232 1047.82 145.232 1039.09 Q145.232 1030.34 148.288 1025.76 Q151.366 1021.15 157.177 1021.15 Z\" fill=\"#000000\" fill-rule=\"nonzero\" fill-opacity=\"1\" /><path clip-path=\"url(#clip740)\" d=\"M121.043 726.703 L137.362 726.703 L137.362 730.638 L115.418 730.638 L115.418 726.703 Q118.08 723.948 122.663 719.319 Q127.269 714.666 128.45 713.323 Q130.695 710.8 131.575 709.064 Q132.478 707.305 132.478 705.615 Q132.478 702.86 130.533 701.124 Q128.612 699.388 125.51 699.388 Q123.311 699.388 120.857 700.152 Q118.427 700.916 115.649 702.467 L115.649 697.745 Q118.473 696.611 120.927 696.032 Q123.38 695.453 125.418 695.453 Q130.788 695.453 133.982 698.138 Q137.177 700.823 137.177 705.314 Q137.177 707.444 136.367 709.365 Q135.579 711.263 133.473 713.856 Q132.894 714.527 129.792 717.745 Q126.691 720.939 121.043 726.703 Z\" fill=\"#000000\" fill-rule=\"nonzero\" fill-opacity=\"1\" /><path clip-path=\"url(#clip740)\" d=\"M157.177 699.157 Q153.566 699.157 151.737 702.722 Q149.931 706.263 149.931 713.393 Q149.931 720.499 151.737 724.064 Q153.566 727.606 157.177 727.606 Q160.811 727.606 162.616 724.064 Q164.445 720.499 164.445 713.393 Q164.445 706.263 162.616 702.722 Q160.811 699.157 157.177 699.157 M157.177 695.453 Q162.987 695.453 166.042 700.06 Q169.121 704.643 169.121 713.393 Q169.121 722.12 166.042 726.726 Q162.987 731.309 157.177 731.309 Q151.366 731.309 148.288 726.726 Q145.232 722.12 145.232 713.393 Q145.232 704.643 148.288 700.06 Q151.366 695.453 157.177 695.453 Z\" fill=\"#000000\" fill-rule=\"nonzero\" fill-opacity=\"1\" /><path clip-path=\"url(#clip740)\" d=\"M131.181 386.304 Q134.538 387.021 136.413 389.29 Q138.311 391.558 138.311 394.891 Q138.311 400.007 134.792 402.808 Q131.274 405.609 124.793 405.609 Q122.617 405.609 120.302 405.169 Q118.01 404.753 115.556 403.896 L115.556 399.382 Q117.501 400.516 119.816 401.095 Q122.13 401.674 124.654 401.674 Q129.052 401.674 131.343 399.938 Q133.658 398.202 133.658 394.891 Q133.658 391.836 131.505 390.123 Q129.376 388.387 125.556 388.387 L121.529 388.387 L121.529 384.544 L125.742 384.544 Q129.191 384.544 131.019 383.179 Q132.848 381.79 132.848 379.197 Q132.848 376.535 130.95 375.123 Q129.075 373.688 125.556 373.688 Q123.635 373.688 121.436 374.105 Q119.237 374.521 116.598 375.401 L116.598 371.234 Q119.26 370.493 121.575 370.123 Q123.913 369.753 125.973 369.753 Q131.297 369.753 134.399 372.183 Q137.501 374.591 137.501 378.711 Q137.501 381.581 135.857 383.572 Q134.214 385.54 131.181 386.304 Z\" fill=\"#000000\" fill-rule=\"nonzero\" fill-opacity=\"1\" /><path clip-path=\"url(#clip740)\" d=\"M157.177 373.456 Q153.566 373.456 151.737 377.021 Q149.931 380.563 149.931 387.692 Q149.931 394.799 151.737 398.364 Q153.566 401.905 157.177 401.905 Q160.811 401.905 162.616 398.364 Q164.445 394.799 164.445 387.692 Q164.445 380.563 162.616 377.021 Q160.811 373.456 157.177 373.456 M157.177 369.753 Q162.987 369.753 166.042 374.359 Q169.121 378.942 169.121 387.692 Q169.121 396.419 166.042 401.026 Q162.987 405.609 157.177 405.609 Q151.366 405.609 148.288 401.026 Q145.232 396.419 145.232 387.692 Q145.232 378.942 148.288 374.359 Q151.366 369.753 157.177 369.753 Z\" fill=\"#000000\" fill-rule=\"nonzero\" fill-opacity=\"1\" /><path clip-path=\"url(#clip740)\" d=\"M129.862 48.7514 L118.056 67.2004 L129.862 67.2004 L129.862 48.7514 M128.635 44.6773 L134.515 44.6773 L134.515 67.2004 L139.445 67.2004 L139.445 71.0892 L134.515 71.0892 L134.515 79.2373 L129.862 79.2373 L129.862 71.0892 L114.26 71.0892 L114.26 66.5754 L128.635 44.6773 Z\" fill=\"#000000\" fill-rule=\"nonzero\" fill-opacity=\"1\" /><path clip-path=\"url(#clip740)\" d=\"M157.177 47.756 Q153.566 47.756 151.737 51.3208 Q149.931 54.8625 149.931 61.9921 Q149.931 69.0985 151.737 72.6633 Q153.566 76.2049 157.177 76.2049 Q160.811 76.2049 162.616 72.6633 Q164.445 69.0985 164.445 61.9921 Q164.445 54.8625 162.616 51.3208 Q160.811 47.756 157.177 47.756 M157.177 44.0523 Q162.987 44.0523 166.042 48.6588 Q169.121 53.2421 169.121 61.9921 Q169.121 70.7189 166.042 75.3253 Q162.987 79.9086 157.177 79.9086 Q151.366 79.9086 148.288 75.3253 Q145.232 70.7189 145.232 61.9921 Q145.232 53.2421 148.288 48.6588 Q151.366 44.0523 157.177 44.0523 Z\" fill=\"#000000\" fill-rule=\"nonzero\" fill-opacity=\"1\" /><path clip-path=\"url(#clip740)\" d=\"M24.7187 937.85 Q26.49 937.85 27.585 938.977 Q28.68 940.072 28.68 941.457 Q28.68 942.455 28.0681 943.196 Q27.4562 943.905 26.3934 943.905 Q25.2984 943.905 24.139 943.067 Q22.9796 942.23 22.8185 940.33 Q21.6269 941.586 21.6269 943.583 Q21.6269 944.581 22.271 945.418 Q22.883 946.223 23.8813 946.674 Q24.9119 947.157 30.7412 948.252 Q32.6413 948.607 34.4771 948.929 Q36.3128 949.251 38.2451 949.637 L38.2451 944.162 Q38.2451 943.454 38.2774 943.164 Q38.3096 942.874 38.4706 942.649 Q38.6316 942.391 38.9859 942.391 Q39.8876 942.391 40.1131 942.81 Q40.3063 943.196 40.3063 944.355 L40.3063 950.024 L61.2079 953.985 Q61.8198 954.082 63.7522 954.5 Q65.6523 954.887 68.7763 955.821 Q71.9325 956.755 73.8004 957.689 Q74.8632 958.204 75.8616 958.88 Q76.8922 959.524 77.9228 960.458 Q78.9534 961.392 79.5653 962.616 Q80.2094 963.84 80.2094 965.128 Q80.2094 967.318 78.9856 969.025 Q77.7617 970.732 75.6684 970.732 Q73.897 970.732 72.802 969.637 Q71.707 968.51 71.707 967.125 Q71.707 966.127 72.3189 965.418 Q72.9309 964.677 73.9937 964.677 Q74.4445 964.677 74.9598 964.838 Q75.4751 964.999 76.0548 965.354 Q76.6667 965.708 77.0854 966.481 Q77.5041 967.254 77.5685 968.317 Q78.7601 967.061 78.7601 965.128 Q78.7601 964.516 78.5025 963.969 Q78.277 963.421 77.6973 962.97 Q77.1176 962.487 76.5379 962.133 Q75.9904 961.779 74.9276 961.425 Q73.897 961.07 73.1241 960.845 Q72.3512 960.619 70.9663 960.33 Q69.5815 960.008 68.7441 959.847 Q67.939 959.685 66.3609 959.396 L40.3063 954.468 L40.3063 958.816 Q40.3063 959.589 40.2741 959.911 Q40.2419 960.201 40.0809 960.426 Q39.8876 960.652 39.5012 960.652 Q38.8893 960.652 38.6316 960.394 Q38.3418 960.104 38.3096 959.782 Q38.2451 959.46 38.2451 958.687 L38.2451 954.114 Q30.0971 952.568 27.9071 951.956 Q25.5882 951.248 23.978 950.153 Q22.3355 949.058 21.5625 947.834 Q20.7896 946.61 20.4997 945.612 Q20.1777 944.581 20.1777 943.583 Q20.1777 941.328 21.4015 939.589 Q22.5931 937.85 24.7187 937.85 Z\" fill=\"#000000\" fill-rule=\"nonzero\" fill-opacity=\"1\" /><path clip-path=\"url(#clip740)\" d=\"M50.1935 928.97 Q39.0503 928.97 30.0649 924.815 Q26.2968 923.044 23.1406 920.564 Q19.9844 918.084 18.5996 916.442 Q17.2147 914.799 17.2147 914.348 Q17.2147 913.704 17.8588 913.672 Q18.1809 913.672 18.986 914.542 Q29.8072 925.17 50.1935 925.137 Q70.6442 925.137 81.0467 914.799 Q82.1739 913.672 82.5282 913.672 Q83.1723 913.672 83.1723 914.348 Q83.1723 914.799 81.8519 916.377 Q80.5314 917.956 77.5041 920.403 Q74.4767 922.851 70.7731 924.622 Q61.7876 928.97 50.1935 928.97 Z\" fill=\"#000000\" fill-rule=\"nonzero\" fill-opacity=\"1\" /><path clip-path=\"url(#clip740)\" d=\"M83.1723 902.322 L17.2147 902.322 L17.2147 892.371 L18.7284 892.371 L18.7284 897.91 L81.6586 897.91 L81.6586 892.371 L83.1723 892.371 L83.1723 902.322 Z\" fill=\"#000000\" fill-rule=\"nonzero\" fill-opacity=\"1\" /><path clip-path=\"url(#clip740)\" d=\"M29.0343 887.34 L26.9731 887.34 Q26.9731 879.418 22.7541 875.327 Q22.7541 874.2 23.0118 874.007 Q23.2694 873.814 24.461 873.814 L61.4656 873.814 Q63.4301 873.814 64.042 872.848 Q64.654 871.881 64.654 867.662 L64.654 865.569 L66.6829 865.569 Q66.4897 867.888 66.4897 876.261 Q66.4897 884.635 66.6829 886.922 L64.654 886.922 L64.654 884.828 Q64.654 880.674 64.0742 879.675 Q63.4623 878.677 61.4656 878.677 L27.2952 878.677 Q29.0343 882.123 29.0343 887.34 Z\" fill=\"#000000\" fill-rule=\"nonzero\" fill-opacity=\"1\" /><path clip-path=\"url(#clip740)\" d=\"M65.6201 860.428 Q64.5573 861.426 63.1725 861.426 Q61.7876 861.426 60.7893 860.428 Q59.7587 859.429 59.7587 857.916 Q59.7587 856.466 60.7248 855.5 Q61.6588 854.502 63.2047 854.502 Q64.7184 854.502 65.7167 855.565 Q66.6829 856.595 66.6829 857.916 Q66.6829 859.429 65.6201 860.428 Z\" fill=\"#000000\" fill-rule=\"nonzero\" fill-opacity=\"1\" /><path clip-path=\"url(#clip740)\" d=\"M45.5881 843.276 Q35.8941 843.276 30.6124 840.828 Q22.7541 837.414 22.7541 829.363 Q22.7541 827.656 23.2372 825.885 Q23.6881 824.081 25.4594 821.827 Q27.2307 819.54 30.1293 818.155 Q35.7331 815.515 45.5881 815.515 Q55.2176 815.515 60.4672 817.962 Q68.1322 821.537 68.1322 829.427 Q68.1322 832.39 66.6185 835.418 Q65.1048 838.413 61.4656 840.313 Q56.0228 843.276 45.5881 843.276 M44.7829 837.801 Q54.7345 837.801 58.6959 837.092 Q62.9792 836.287 64.8472 834.097 Q66.6829 831.875 66.6829 829.427 Q66.6829 826.787 64.7184 824.597 Q62.7216 822.374 58.4382 821.698 Q54.2193 820.957 44.7829 820.99 Q35.6043 820.99 31.9328 821.634 Q27.6494 822.503 25.9425 824.822 Q24.2034 827.109 24.2034 829.427 Q24.2034 830.297 24.461 831.231 Q24.7187 832.133 25.4594 833.453 Q26.2002 834.774 28.0359 835.804 Q29.8716 836.803 32.6413 837.286 Q36.2162 837.801 44.7829 837.801 Z\" fill=\"#000000\" fill-rule=\"nonzero\" fill-opacity=\"1\" /><path clip-path=\"url(#clip740)\" d=\"M65.6201 809.678 Q64.5573 810.612 63.1725 810.612 Q61.7876 810.612 60.757 809.71 Q59.6943 808.776 59.6943 807.101 Q59.6943 805.137 61.5944 804.01 Q63.4623 802.882 66.6185 802.882 Q70.0323 802.882 73.1885 804.267 Q76.3769 805.652 77.8906 807.005 Q79.4042 808.357 79.4042 808.905 Q79.4042 809.549 78.6957 809.549 Q78.4381 809.549 77.955 809.098 Q72.8664 804.364 66.6185 804.332 Q65.6201 804.332 65.6201 804.461 L65.749 804.622 Q66.6829 805.749 66.6829 807.101 Q66.6829 808.744 65.6201 809.678 Z\" fill=\"#000000\" fill-rule=\"nonzero\" fill-opacity=\"1\" /><path clip-path=\"url(#clip740)\" d=\"M38.1807 754.112 Q38.4062 754.112 39.3724 754.66 Q40.3063 755.175 42.6574 757.075 Q45.0084 758.975 47.7459 761.809 Q48.8087 762.872 50.2901 764.482 Q51.7716 766.093 52.7378 767.188 L53.704 768.283 Q57.2466 772.469 61.2079 776.141 Q61.1113 775.883 61.0791 775.432 Q61.0147 774.982 61.0147 774.659 L61.0147 774.337 Q61.0147 772.663 62.1419 769.732 Q62.9792 767.156 62.9792 765.835 Q62.9792 764.547 62.5284 763.13 Q62.0775 761.713 60.757 760.167 Q59.4366 758.621 57.4398 757.912 Q57.1178 757.784 57.0212 757.719 Q56.8923 757.655 56.7635 757.462 Q56.6025 757.268 56.6025 757.011 Q56.6025 756.656 56.7957 756.431 Q56.989 756.206 57.2466 756.206 Q57.8263 756.206 58.9857 756.656 Q60.1451 757.075 61.5944 758.009 Q63.0437 758.911 64.3641 760.102 Q65.6523 761.262 66.5541 763.001 Q67.4237 764.74 67.4237 766.576 Q67.4237 767.896 66.7795 768.862 Q66.1676 769.829 64.976 770.795 Q63.4623 772.115 62.9792 772.824 Q62.464 773.532 62.464 774.627 Q62.464 777.558 66.5541 780.231 Q67.1338 780.521 67.2626 780.714 Q67.4237 780.875 67.4237 781.262 Q67.3915 782.067 66.7473 782.067 Q66.4897 782.067 65.3625 781.358 Q64.2031 780.618 62.1741 778.975 Q60.1451 777.3 58.1162 775.271 L52.5768 769.346 Q47.0373 762.776 43.9134 760.167 Q43.9134 761.262 43.8812 761.745 Q43.849 762.196 43.6557 763.098 Q43.4303 763.999 42.9472 765.255 Q41.9488 768.186 41.9488 769.41 Q41.9488 769.732 41.981 770.086 Q42.0132 770.441 42.1743 771.246 Q42.3353 772.019 42.6574 772.663 Q42.9472 773.307 43.5913 773.983 Q44.2032 774.659 45.0406 775.014 Q45.2982 775.11 45.4271 775.175 Q45.5559 775.239 45.6847 775.432 Q45.7813 775.593 45.7813 775.851 Q45.7813 776.238 45.5559 776.463 Q45.3304 776.656 45.0406 776.656 Q44.4609 776.656 43.2693 776.077 Q42.0776 775.497 40.7894 774.531 Q39.469 773.564 38.5028 771.986 Q37.5366 770.408 37.5366 768.669 Q37.5366 767.639 37.9875 766.769 Q38.4384 765.867 38.9215 765.416 Q39.3724 764.933 40.3707 764.128 Q41.1437 763.452 41.4657 763.13 Q41.7878 762.808 42.1421 762.164 Q42.4641 761.487 42.4641 760.747 Q42.4641 759.523 41.5301 758.396 Q40.564 757.268 38.2451 755.819 Q37.5366 755.433 37.5366 754.821 Q37.5366 754.112 38.1807 754.112 Z\" fill=\"#000000\" fill-rule=\"nonzero\" fill-opacity=\"1\" /><path clip-path=\"url(#clip740)\" d=\"M65.6201 750.765 Q64.5573 751.699 63.1725 751.699 Q61.7876 751.699 60.757 750.798 Q59.6943 749.864 59.6943 748.189 Q59.6943 746.224 61.5944 745.097 Q63.4623 743.97 66.6185 743.97 Q70.0323 743.97 73.1885 745.355 Q76.3769 746.74 77.8906 748.092 Q79.4042 749.445 79.4042 749.993 Q79.4042 750.637 78.6957 750.637 Q78.4381 750.637 77.955 750.186 Q72.8664 745.452 66.6185 745.419 Q65.6201 745.419 65.6201 745.548 L65.749 745.709 Q66.6829 746.836 66.6829 748.189 Q66.6829 749.832 65.6201 750.765 Z\" fill=\"#000000\" fill-rule=\"nonzero\" fill-opacity=\"1\" /><path clip-path=\"url(#clip740)\" d=\"M38.1807 695.2 Q38.4062 695.2 39.3724 695.747 Q40.3063 696.262 42.6574 698.163 Q45.0084 700.063 47.7459 702.897 Q48.8087 703.96 50.2901 705.57 Q51.7716 707.18 52.7378 708.275 L53.704 709.37 Q57.2466 713.557 61.2079 717.228 Q61.1113 716.971 61.0791 716.52 Q61.0147 716.069 61.0147 715.747 L61.0147 715.425 Q61.0147 713.75 62.1419 710.82 Q62.9792 708.243 62.9792 706.923 Q62.9792 705.634 62.5284 704.217 Q62.0775 702.8 60.757 701.254 Q59.4366 699.709 57.4398 699 Q57.1178 698.871 57.0212 698.807 Q56.8923 698.742 56.7635 698.549 Q56.6025 698.356 56.6025 698.098 Q56.6025 697.744 56.7957 697.519 Q56.989 697.293 57.2466 697.293 Q57.8263 697.293 58.9857 697.744 Q60.1451 698.163 61.5944 699.097 Q63.0437 699.998 64.3641 701.19 Q65.6523 702.349 66.5541 704.089 Q67.4237 705.828 67.4237 707.663 Q67.4237 708.984 66.7795 709.95 Q66.1676 710.916 64.976 711.882 Q63.4623 713.203 62.9792 713.911 Q62.464 714.62 62.464 715.715 Q62.464 718.646 66.5541 721.319 Q67.1338 721.608 67.2626 721.802 Q67.4237 721.963 67.4237 722.349 Q67.3915 723.154 66.7473 723.154 Q66.4897 723.154 65.3625 722.446 Q64.2031 721.705 62.1741 720.063 Q60.1451 718.388 58.1162 716.359 L52.5768 710.433 Q47.0373 703.863 43.9134 701.254 Q43.9134 702.349 43.8812 702.832 Q43.849 703.283 43.6557 704.185 Q43.4303 705.087 42.9472 706.343 Q41.9488 709.274 41.9488 710.497 Q41.9488 710.82 41.981 711.174 Q42.0132 711.528 42.1743 712.333 Q42.3353 713.106 42.6574 713.75 Q42.9472 714.394 43.5913 715.071 Q44.2032 715.747 45.0406 716.101 Q45.2982 716.198 45.4271 716.262 Q45.5559 716.327 45.6847 716.52 Q45.7813 716.681 45.7813 716.939 Q45.7813 717.325 45.5559 717.551 Q45.3304 717.744 45.0406 717.744 Q44.4609 717.744 43.2693 717.164 Q42.0776 716.584 40.7894 715.618 Q39.469 714.652 38.5028 713.074 Q37.5366 711.496 37.5366 709.757 Q37.5366 708.726 37.9875 707.857 Q38.4384 706.955 38.9215 706.504 Q39.3724 706.021 40.3707 705.216 Q41.1437 704.539 41.4657 704.217 Q41.7878 703.895 42.1421 703.251 Q42.4641 702.575 42.4641 701.834 Q42.4641 700.61 41.5301 699.483 Q40.564 698.356 38.2451 696.907 Q37.5366 696.52 37.5366 695.908 Q37.5366 695.2 38.1807 695.2 Z\" fill=\"#000000\" fill-rule=\"nonzero\" fill-opacity=\"1\" /><path clip-path=\"url(#clip740)\" d=\"M46.9462 688.427 Q46.1121 688.427 45.8641 688.359 Q45.6161 688.269 45.2329 687.908 L35.3585 679.049 Q29.9029 674.202 25.1461 674.202 Q22.0575 674.202 19.8482 675.825 Q17.6389 677.425 17.6389 680.379 Q17.6389 682.408 18.8788 684.121 Q20.1187 685.834 22.328 686.623 Q22.283 686.488 22.283 686.015 Q22.283 684.865 23.0044 684.234 Q23.7258 683.58 24.6952 683.58 Q25.9351 683.58 26.5438 684.391 Q27.1299 685.181 27.1299 685.97 Q27.1299 686.285 27.0623 686.714 Q26.9947 687.119 26.3634 687.773 Q25.7097 688.427 24.5599 688.427 Q21.3361 688.427 18.7661 685.992 Q16.196 683.535 16.196 679.792 Q16.196 675.554 18.721 672.781 Q21.2234 669.986 25.1461 669.986 Q26.5212 669.986 27.7837 670.414 Q29.0236 670.82 29.993 671.384 Q30.9624 671.925 32.518 673.412 Q34.0735 674.9 35.1782 676.095 Q36.2828 677.29 38.6274 679.973 L43.3842 684.865 L43.3842 676.546 Q43.3842 672.488 43.0235 672.173 Q42.3698 671.722 38.9205 671.158 L38.9205 669.986 L46.9462 671.293 L46.9462 688.427 Z\" fill=\"#000000\" fill-rule=\"nonzero\" fill-opacity=\"1\" /><path clip-path=\"url(#clip740)\" d=\"M81.6586 663.132 L81.6586 657.593 L18.7284 657.593 L18.7284 663.132 L17.2147 663.132 L17.2147 653.181 L83.1723 653.181 L83.1723 663.132 L81.6586 663.132 Z\" fill=\"#000000\" fill-rule=\"nonzero\" fill-opacity=\"1\" /><path clip-path=\"url(#clip740)\" d=\"M82.5282 642.87 Q82.2061 642.87 81.401 642.033 Q70.5798 631.405 50.1935 631.405 Q29.7428 631.405 19.4047 641.614 Q18.2131 642.87 17.8588 642.87 Q17.2147 642.87 17.2147 642.226 Q17.2147 641.775 18.5352 640.197 Q19.8556 638.587 22.883 636.171 Q25.9103 633.723 29.614 631.92 Q38.5994 627.572 50.1935 627.572 Q61.3368 627.572 70.3222 631.727 Q74.0903 633.498 77.2464 635.978 Q80.4026 638.458 81.7875 640.1 Q83.1723 641.743 83.1723 642.226 Q83.1723 642.87 82.5282 642.87 Z\" fill=\"#000000\" fill-rule=\"nonzero\" fill-opacity=\"1\" /><path clip-path=\"url(#clip740)\" d=\"M50.9987 597.726 Q50.9987 599.24 50.1935 599.24 Q49.3884 599.24 49.3884 597.662 Q49.3884 597.469 49.4206 597.147 Q49.4528 596.792 49.4528 596.728 L49.4528 578.145 L30.8056 578.145 Q30.7412 578.145 30.4513 578.177 Q30.1293 578.209 29.936 578.209 Q28.3579 578.209 28.3579 577.437 Q28.3579 576.631 29.936 576.631 L49.4528 576.631 L49.4528 558.016 Q49.4528 557.952 49.4206 557.63 Q49.3884 557.308 49.3884 557.115 Q49.3884 555.601 50.1935 555.601 Q50.9987 555.569 50.9987 557.179 Q50.9987 557.372 50.9665 557.662 Q50.9343 557.952 50.9343 558.016 L50.9343 576.631 L70.5154 576.631 Q72.0291 576.631 72.0291 577.437 Q72.0291 578.209 70.451 578.209 Q70.2578 578.209 69.9357 578.177 Q69.6459 578.145 69.5815 578.145 L50.9343 578.145 L50.9343 596.728 Q50.9343 596.792 50.9665 597.179 Q50.9987 597.533 50.9987 597.726 Z\" fill=\"#000000\" fill-rule=\"nonzero\" fill-opacity=\"1\" /><path clip-path=\"url(#clip740)\" d=\"M40.564 503.521 Q41.2403 503.521 41.7878 504.101 Q42.3353 504.648 42.3353 505.324 Q42.3353 505.711 41.6912 506.645 Q39.8232 509.318 39.8232 512.7 Q39.8232 515.727 40.564 518.529 Q41.3047 521.331 42.8184 523.231 Q44.2998 525.099 46.2322 525.099 Q48.6476 525.099 50.0647 522.458 Q48.8087 519.721 48.8087 516.339 Q48.8087 515.244 48.8731 514.503 Q48.9375 513.73 49.0985 512.989 Q49.2596 512.249 49.646 511.894 Q50.0003 511.508 50.58 511.508 Q52.6412 511.508 52.6412 516.854 Q52.6412 520.332 51.7072 522.522 Q53.092 525.324 55.3143 526.87 Q57.5365 528.416 59.4366 528.416 Q61.0791 528.416 62.2707 527.514 Q63.4623 526.58 64.042 525.067 Q64.6217 523.521 64.8794 522.007 Q65.1048 520.461 65.1048 518.754 Q65.1048 515.952 64.7506 513.988 Q64.3641 511.991 63.6556 510.896 Q62.947 509.769 62.464 509.318 Q61.9487 508.835 61.1435 508.352 Q60.6926 508.062 60.6926 507.676 Q60.6926 507.386 60.8859 507.192 Q61.0469 506.967 61.3368 506.967 Q61.691 506.967 62.4317 507.418 Q63.1725 507.837 64.1709 508.867 Q65.137 509.866 66.0388 511.25 Q66.9084 512.603 67.5203 514.761 Q68.1322 516.919 68.1322 519.366 Q68.1322 524.358 65.6845 527.257 Q63.2369 530.123 59.8231 530.123 Q57.4398 530.123 54.9922 528.545 Q52.5123 526.935 50.9343 524.101 Q48.9697 526.741 46.2322 526.741 Q43.7846 526.741 41.5946 524.68 Q39.4046 522.587 38.1163 519.205 Q36.7959 515.791 36.7959 512.056 Q36.7959 509.962 37.5044 507.901 Q38.1807 505.84 39.0503 504.68 Q39.9199 503.521 40.564 503.521 M50.6444 513.215 Q50.2579 514.632 50.2579 516.339 Q50.2579 518.658 50.8376 520.365 Q51.1919 518.98 51.1919 516.854 Q51.1919 515.083 51.0953 514.568 Q50.9987 514.02 50.6444 513.215 Z\" fill=\"#000000\" fill-rule=\"nonzero\" fill-opacity=\"1\" /><circle clip-path=\"url(#clip742)\" cx=\"2235.02\" cy=\"189.752\" r=\"14.4\" fill=\"#009af9\" fill-rule=\"evenodd\" fill-opacity=\"1\" stroke=\"#000000\" stroke-opacity=\"1\" stroke-width=\"3.2\"/>\n",
       "<circle clip-path=\"url(#clip742)\" cx=\"1831.28\" cy=\"577.044\" r=\"14.4\" fill=\"#009af9\" fill-rule=\"evenodd\" fill-opacity=\"1\" stroke=\"#000000\" stroke-opacity=\"1\" stroke-width=\"3.2\"/>\n",
       "<circle clip-path=\"url(#clip742)\" cx=\"653.349\" cy=\"1147.28\" r=\"14.4\" fill=\"#009af9\" fill-rule=\"evenodd\" fill-opacity=\"1\" stroke=\"#000000\" stroke-opacity=\"1\" stroke-width=\"3.2\"/>\n",
       "<circle clip-path=\"url(#clip742)\" cx=\"2120.86\" cy=\"279.717\" r=\"14.4\" fill=\"#009af9\" fill-rule=\"evenodd\" fill-opacity=\"1\" stroke=\"#000000\" stroke-opacity=\"1\" stroke-width=\"3.2\"/>\n",
       "<circle clip-path=\"url(#clip742)\" cx=\"695.011\" cy=\"1260.67\" r=\"14.4\" fill=\"#009af9\" fill-rule=\"evenodd\" fill-opacity=\"1\" stroke=\"#000000\" stroke-opacity=\"1\" stroke-width=\"3.2\"/>\n",
       "<circle clip-path=\"url(#clip742)\" cx=\"2003.11\" cy=\"367.119\" r=\"14.4\" fill=\"#009af9\" fill-rule=\"evenodd\" fill-opacity=\"1\" stroke=\"#000000\" stroke-opacity=\"1\" stroke-width=\"3.2\"/>\n",
       "<circle clip-path=\"url(#clip742)\" cx=\"1513.42\" cy=\"789.475\" r=\"14.4\" fill=\"#009af9\" fill-rule=\"evenodd\" fill-opacity=\"1\" stroke=\"#000000\" stroke-opacity=\"1\" stroke-width=\"3.2\"/>\n",
       "<circle clip-path=\"url(#clip742)\" cx=\"1674.48\" cy=\"643.259\" r=\"14.4\" fill=\"#009af9\" fill-rule=\"evenodd\" fill-opacity=\"1\" stroke=\"#000000\" stroke-opacity=\"1\" stroke-width=\"3.2\"/>\n",
       "<circle clip-path=\"url(#clip742)\" cx=\"796.159\" cy=\"1100.68\" r=\"14.4\" fill=\"#009af9\" fill-rule=\"evenodd\" fill-opacity=\"1\" stroke=\"#000000\" stroke-opacity=\"1\" stroke-width=\"3.2\"/>\n",
       "<circle clip-path=\"url(#clip742)\" cx=\"1439.91\" cy=\"836.15\" r=\"14.4\" fill=\"#009af9\" fill-rule=\"evenodd\" fill-opacity=\"1\" stroke=\"#000000\" stroke-opacity=\"1\" stroke-width=\"3.2\"/>\n",
       "<circle clip-path=\"url(#clip742)\" cx=\"265.903\" cy=\"1295.33\" r=\"14.4\" fill=\"#009af9\" fill-rule=\"evenodd\" fill-opacity=\"1\" stroke=\"#000000\" stroke-opacity=\"1\" stroke-width=\"3.2\"/>\n",
       "<circle clip-path=\"url(#clip742)\" cx=\"1573.96\" cy=\"669.662\" r=\"14.4\" fill=\"#009af9\" fill-rule=\"evenodd\" fill-opacity=\"1\" stroke=\"#000000\" stroke-opacity=\"1\" stroke-width=\"3.2\"/>\n",
       "<circle clip-path=\"url(#clip742)\" cx=\"577.537\" cy=\"1264.22\" r=\"14.4\" fill=\"#009af9\" fill-rule=\"evenodd\" fill-opacity=\"1\" stroke=\"#000000\" stroke-opacity=\"1\" stroke-width=\"3.2\"/>\n",
       "<circle clip-path=\"url(#clip742)\" cx=\"1106.34\" cy=\"946.281\" r=\"14.4\" fill=\"#009af9\" fill-rule=\"evenodd\" fill-opacity=\"1\" stroke=\"#000000\" stroke-opacity=\"1\" stroke-width=\"3.2\"/>\n",
       "<circle clip-path=\"url(#clip742)\" cx=\"1212.78\" cy=\"879.377\" r=\"14.4\" fill=\"#009af9\" fill-rule=\"evenodd\" fill-opacity=\"1\" stroke=\"#000000\" stroke-opacity=\"1\" stroke-width=\"3.2\"/>\n",
       "<circle clip-path=\"url(#clip742)\" cx=\"405.471\" cy=\"1384.24\" r=\"14.4\" fill=\"#009af9\" fill-rule=\"evenodd\" fill-opacity=\"1\" stroke=\"#000000\" stroke-opacity=\"1\" stroke-width=\"3.2\"/>\n",
       "<circle clip-path=\"url(#clip742)\" cx=\"2278.75\" cy=\"86.1857\" r=\"14.4\" fill=\"#009af9\" fill-rule=\"evenodd\" fill-opacity=\"1\" stroke=\"#000000\" stroke-opacity=\"1\" stroke-width=\"3.2\"/>\n",
       "<circle clip-path=\"url(#clip742)\" cx=\"2290.1\" cy=\"167.422\" r=\"14.4\" fill=\"#009af9\" fill-rule=\"evenodd\" fill-opacity=\"1\" stroke=\"#000000\" stroke-opacity=\"1\" stroke-width=\"3.2\"/>\n",
       "<circle clip-path=\"url(#clip742)\" cx=\"717.271\" cy=\"1122.11\" r=\"14.4\" fill=\"#009af9\" fill-rule=\"evenodd\" fill-opacity=\"1\" stroke=\"#000000\" stroke-opacity=\"1\" stroke-width=\"3.2\"/>\n",
       "<circle clip-path=\"url(#clip742)\" cx=\"1872.45\" cy=\"541.517\" r=\"14.4\" fill=\"#009af9\" fill-rule=\"evenodd\" fill-opacity=\"1\" stroke=\"#000000\" stroke-opacity=\"1\" stroke-width=\"3.2\"/>\n",
       "<circle clip-path=\"url(#clip742)\" cx=\"558.298\" cy=\"1251.56\" r=\"14.4\" fill=\"#009af9\" fill-rule=\"evenodd\" fill-opacity=\"1\" stroke=\"#000000\" stroke-opacity=\"1\" stroke-width=\"3.2\"/>\n",
       "<circle clip-path=\"url(#clip742)\" cx=\"1385.37\" cy=\"789.973\" r=\"14.4\" fill=\"#009af9\" fill-rule=\"evenodd\" fill-opacity=\"1\" stroke=\"#000000\" stroke-opacity=\"1\" stroke-width=\"3.2\"/>\n",
       "<circle clip-path=\"url(#clip742)\" cx=\"802.127\" cy=\"1040.79\" r=\"14.4\" fill=\"#009af9\" fill-rule=\"evenodd\" fill-opacity=\"1\" stroke=\"#000000\" stroke-opacity=\"1\" stroke-width=\"3.2\"/>\n",
       "<circle clip-path=\"url(#clip742)\" cx=\"1075.68\" cy=\"1023.65\" r=\"14.4\" fill=\"#009af9\" fill-rule=\"evenodd\" fill-opacity=\"1\" stroke=\"#000000\" stroke-opacity=\"1\" stroke-width=\"3.2\"/>\n",
       "<circle clip-path=\"url(#clip742)\" cx=\"1563.24\" cy=\"673.15\" r=\"14.4\" fill=\"#009af9\" fill-rule=\"evenodd\" fill-opacity=\"1\" stroke=\"#000000\" stroke-opacity=\"1\" stroke-width=\"3.2\"/>\n",
       "<circle clip-path=\"url(#clip742)\" cx=\"811.388\" cy=\"1092.43\" r=\"14.4\" fill=\"#009af9\" fill-rule=\"evenodd\" fill-opacity=\"1\" stroke=\"#000000\" stroke-opacity=\"1\" stroke-width=\"3.2\"/>\n",
       "<circle clip-path=\"url(#clip742)\" cx=\"2188.63\" cy=\"241.481\" r=\"14.4\" fill=\"#009af9\" fill-rule=\"evenodd\" fill-opacity=\"1\" stroke=\"#000000\" stroke-opacity=\"1\" stroke-width=\"3.2\"/>\n",
       "<circle clip-path=\"url(#clip742)\" cx=\"2291.97\" cy=\"139.29\" r=\"14.4\" fill=\"#009af9\" fill-rule=\"evenodd\" fill-opacity=\"1\" stroke=\"#000000\" stroke-opacity=\"1\" stroke-width=\"3.2\"/>\n",
       "<circle clip-path=\"url(#clip742)\" cx=\"1663.83\" cy=\"630.054\" r=\"14.4\" fill=\"#009af9\" fill-rule=\"evenodd\" fill-opacity=\"1\" stroke=\"#000000\" stroke-opacity=\"1\" stroke-width=\"3.2\"/>\n",
       "<circle clip-path=\"url(#clip742)\" cx=\"295.425\" cy=\"1306.75\" r=\"14.4\" fill=\"#009af9\" fill-rule=\"evenodd\" fill-opacity=\"1\" stroke=\"#000000\" stroke-opacity=\"1\" stroke-width=\"3.2\"/>\n",
       "<path clip-path=\"url(#clip740)\" d=\"M276.709 196.789 L591.333 196.789 L591.333 93.1086 L276.709 93.1086  Z\" fill=\"#ffffff\" fill-rule=\"evenodd\" fill-opacity=\"1\"/>\n",
       "<polyline clip-path=\"url(#clip740)\" style=\"stroke:#000000; stroke-linecap:round; stroke-linejoin:round; stroke-width:4; stroke-opacity:1; fill:none\" points=\"276.709,196.789 591.333,196.789 591.333,93.1086 276.709,93.1086 276.709,196.789 \"/>\n",
       "<circle clip-path=\"url(#clip740)\" cx=\"372.159\" cy=\"144.949\" r=\"20.48\" fill=\"#009af9\" fill-rule=\"evenodd\" fill-opacity=\"1\" stroke=\"#000000\" stroke-opacity=\"1\" stroke-width=\"4.55111\"/>\n",
       "<path clip-path=\"url(#clip740)\" d=\"M486.522 140.238 L486.522 126.21 L490.781 126.21 L490.781 162.229 L486.522 162.229 L486.522 158.34 Q485.179 160.655 483.119 161.789 Q481.082 162.9 478.211 162.9 Q473.512 162.9 470.549 159.15 Q467.61 155.4 467.61 149.289 Q467.61 143.178 470.549 139.428 Q473.512 135.678 478.211 135.678 Q481.082 135.678 483.119 136.812 Q485.179 137.923 486.522 140.238 M472.008 149.289 Q472.008 153.988 473.929 156.673 Q475.874 159.335 479.253 159.335 Q482.633 159.335 484.577 156.673 Q486.522 153.988 486.522 149.289 Q486.522 144.59 484.577 141.928 Q482.633 139.243 479.253 139.243 Q475.874 139.243 473.929 141.928 Q472.008 144.59 472.008 149.289 Z\" fill=\"#000000\" fill-rule=\"nonzero\" fill-opacity=\"1\" /><path clip-path=\"url(#clip740)\" d=\"M511.336 149.196 Q506.174 149.196 504.184 150.377 Q502.193 151.557 502.193 154.405 Q502.193 156.673 503.674 158.016 Q505.179 159.335 507.748 159.335 Q511.29 159.335 513.42 156.835 Q515.572 154.312 515.572 150.145 L515.572 149.196 L511.336 149.196 M519.832 147.437 L519.832 162.229 L515.572 162.229 L515.572 158.293 Q514.114 160.655 511.938 161.789 Q509.762 162.9 506.614 162.9 Q502.633 162.9 500.272 160.678 Q497.934 158.432 497.934 154.682 Q497.934 150.307 500.85 148.085 Q503.79 145.863 509.6 145.863 L515.572 145.863 L515.572 145.446 Q515.572 142.507 513.628 140.909 Q511.707 139.289 508.211 139.289 Q505.989 139.289 503.883 139.821 Q501.776 140.354 499.832 141.419 L499.832 137.483 Q502.17 136.581 504.369 136.141 Q506.568 135.678 508.651 135.678 Q514.276 135.678 517.054 138.594 Q519.832 141.511 519.832 147.437 Z\" fill=\"#000000\" fill-rule=\"nonzero\" fill-opacity=\"1\" /><path clip-path=\"url(#clip740)\" d=\"M532.818 128.942 L532.818 136.303 L541.591 136.303 L541.591 139.613 L532.818 139.613 L532.818 153.687 Q532.818 156.858 533.674 157.761 Q534.554 158.664 537.216 158.664 L541.591 158.664 L541.591 162.229 L537.216 162.229 Q532.285 162.229 530.41 160.4 Q528.535 158.548 528.535 153.687 L528.535 139.613 L525.41 139.613 L525.41 136.303 L528.535 136.303 L528.535 128.942 L532.818 128.942 Z\" fill=\"#000000\" fill-rule=\"nonzero\" fill-opacity=\"1\" /><path clip-path=\"url(#clip740)\" d=\"M558.975 149.196 Q553.813 149.196 551.822 150.377 Q549.831 151.557 549.831 154.405 Q549.831 156.673 551.313 158.016 Q552.818 159.335 555.387 159.335 Q558.929 159.335 561.058 156.835 Q563.211 154.312 563.211 150.145 L563.211 149.196 L558.975 149.196 M567.47 147.437 L567.47 162.229 L563.211 162.229 L563.211 158.293 Q561.753 160.655 559.577 161.789 Q557.401 162.9 554.253 162.9 Q550.271 162.9 547.91 160.678 Q545.572 158.432 545.572 154.682 Q545.572 150.307 548.489 148.085 Q551.429 145.863 557.239 145.863 L563.211 145.863 L563.211 145.446 Q563.211 142.507 561.267 140.909 Q559.345 139.289 555.85 139.289 Q553.628 139.289 551.521 139.821 Q549.415 140.354 547.47 141.419 L547.47 137.483 Q549.808 136.581 552.007 136.141 Q554.206 135.678 556.29 135.678 Q561.915 135.678 564.693 138.594 Q567.47 141.511 567.47 147.437 Z\" fill=\"#000000\" fill-rule=\"nonzero\" fill-opacity=\"1\" /></svg>\n"
      ],
      "text/html": [
       "<?xml version=\"1.0\" encoding=\"utf-8\"?>\n",
       "<svg xmlns=\"http://www.w3.org/2000/svg\" xmlns:xlink=\"http://www.w3.org/1999/xlink\" width=\"600\" height=\"400\" viewBox=\"0 0 2400 1600\">\n",
       "<defs>\n",
       "  <clipPath id=\"clip790\">\n",
       "    <rect x=\"0\" y=\"0\" width=\"2400\" height=\"1600\"/>\n",
       "  </clipPath>\n",
       "</defs>\n",
       "<path clip-path=\"url(#clip790)\" d=\"M0 1600 L2400 1600 L2400 0 L0 0  Z\" fill=\"#ffffff\" fill-rule=\"evenodd\" fill-opacity=\"1\"/>\n",
       "<defs>\n",
       "  <clipPath id=\"clip791\">\n",
       "    <rect x=\"480\" y=\"0\" width=\"1681\" height=\"1600\"/>\n",
       "  </clipPath>\n",
       "</defs>\n",
       "<path clip-path=\"url(#clip790)\" d=\"M205.121 1423.18 L2352.76 1423.18 L2352.76 47.2441 L205.121 47.2441  Z\" fill=\"#ffffff\" fill-rule=\"evenodd\" fill-opacity=\"1\"/>\n",
       "<defs>\n",
       "  <clipPath id=\"clip792\">\n",
       "    <rect x=\"205\" y=\"47\" width=\"2149\" height=\"1377\"/>\n",
       "  </clipPath>\n",
       "</defs>\n",
       "<polyline clip-path=\"url(#clip792)\" style=\"stroke:#000000; stroke-linecap:round; stroke-linejoin:round; stroke-width:2; stroke-opacity:0.1; fill:none\" points=\"261.224,1423.18 261.224,47.2441 \"/>\n",
       "<polyline clip-path=\"url(#clip792)\" style=\"stroke:#000000; stroke-linecap:round; stroke-linejoin:round; stroke-width:2; stroke-opacity:0.1; fill:none\" points=\"722.975,1423.18 722.975,47.2441 \"/>\n",
       "<polyline clip-path=\"url(#clip792)\" style=\"stroke:#000000; stroke-linecap:round; stroke-linejoin:round; stroke-width:2; stroke-opacity:0.1; fill:none\" points=\"1184.73,1423.18 1184.73,47.2441 \"/>\n",
       "<polyline clip-path=\"url(#clip792)\" style=\"stroke:#000000; stroke-linecap:round; stroke-linejoin:round; stroke-width:2; stroke-opacity:0.1; fill:none\" points=\"1646.48,1423.18 1646.48,47.2441 \"/>\n",
       "<polyline clip-path=\"url(#clip792)\" style=\"stroke:#000000; stroke-linecap:round; stroke-linejoin:round; stroke-width:2; stroke-opacity:0.1; fill:none\" points=\"2108.23,1423.18 2108.23,47.2441 \"/>\n",
       "<polyline clip-path=\"url(#clip790)\" style=\"stroke:#000000; stroke-linecap:round; stroke-linejoin:round; stroke-width:4; stroke-opacity:1; fill:none\" points=\"205.121,1423.18 2352.76,1423.18 \"/>\n",
       "<polyline clip-path=\"url(#clip790)\" style=\"stroke:#000000; stroke-linecap:round; stroke-linejoin:round; stroke-width:4; stroke-opacity:1; fill:none\" points=\"261.224,1423.18 261.224,1404.28 \"/>\n",
       "<polyline clip-path=\"url(#clip790)\" style=\"stroke:#000000; stroke-linecap:round; stroke-linejoin:round; stroke-width:4; stroke-opacity:1; fill:none\" points=\"722.975,1423.18 722.975,1404.28 \"/>\n",
       "<polyline clip-path=\"url(#clip790)\" style=\"stroke:#000000; stroke-linecap:round; stroke-linejoin:round; stroke-width:4; stroke-opacity:1; fill:none\" points=\"1184.73,1423.18 1184.73,1404.28 \"/>\n",
       "<polyline clip-path=\"url(#clip790)\" style=\"stroke:#000000; stroke-linecap:round; stroke-linejoin:round; stroke-width:4; stroke-opacity:1; fill:none\" points=\"1646.48,1423.18 1646.48,1404.28 \"/>\n",
       "<polyline clip-path=\"url(#clip790)\" style=\"stroke:#000000; stroke-linecap:round; stroke-linejoin:round; stroke-width:4; stroke-opacity:1; fill:none\" points=\"2108.23,1423.18 2108.23,1404.28 \"/>\n",
       "<path clip-path=\"url(#clip790)\" d=\"M261.224 1454.1 Q257.613 1454.1 255.784 1457.66 Q253.979 1461.2 253.979 1468.33 Q253.979 1475.44 255.784 1479.01 Q257.613 1482.55 261.224 1482.55 Q264.858 1482.55 266.664 1479.01 Q268.493 1475.44 268.493 1468.33 Q268.493 1461.2 266.664 1457.66 Q264.858 1454.1 261.224 1454.1 M261.224 1450.39 Q267.034 1450.39 270.09 1455 Q273.169 1459.58 273.169 1468.33 Q273.169 1477.06 270.09 1481.67 Q267.034 1486.25 261.224 1486.25 Q255.414 1486.25 252.335 1481.67 Q249.28 1477.06 249.28 1468.33 Q249.28 1459.58 252.335 1455 Q255.414 1450.39 261.224 1450.39 Z\" fill=\"#000000\" fill-rule=\"nonzero\" fill-opacity=\"1\" /><path clip-path=\"url(#clip790)\" d=\"M717.627 1481.64 L733.947 1481.64 L733.947 1485.58 L712.003 1485.58 L712.003 1481.64 Q714.665 1478.89 719.248 1474.26 Q723.854 1469.61 725.035 1468.27 Q727.28 1465.74 728.16 1464.01 Q729.063 1462.25 729.063 1460.56 Q729.063 1457.8 727.118 1456.07 Q725.197 1454.33 722.095 1454.33 Q719.896 1454.33 717.442 1455.09 Q715.012 1455.86 712.234 1457.41 L712.234 1452.69 Q715.058 1451.55 717.512 1450.97 Q719.965 1450.39 722.002 1450.39 Q727.373 1450.39 730.567 1453.08 Q733.762 1455.77 733.762 1460.26 Q733.762 1462.39 732.951 1464.31 Q732.164 1466.2 730.058 1468.8 Q729.479 1469.47 726.377 1472.69 Q723.276 1475.88 717.627 1481.64 Z\" fill=\"#000000\" fill-rule=\"nonzero\" fill-opacity=\"1\" /><path clip-path=\"url(#clip790)\" d=\"M1187.73 1455.09 L1175.93 1473.54 L1187.73 1473.54 L1187.73 1455.09 M1186.51 1451.02 L1192.39 1451.02 L1192.39 1473.54 L1197.32 1473.54 L1197.32 1477.43 L1192.39 1477.43 L1192.39 1485.58 L1187.73 1485.58 L1187.73 1477.43 L1172.13 1477.43 L1172.13 1472.92 L1186.51 1451.02 Z\" fill=\"#000000\" fill-rule=\"nonzero\" fill-opacity=\"1\" /><path clip-path=\"url(#clip790)\" d=\"M1646.88 1466.44 Q1643.73 1466.44 1641.88 1468.59 Q1640.05 1470.74 1640.05 1474.49 Q1640.05 1478.22 1641.88 1480.39 Q1643.73 1482.55 1646.88 1482.55 Q1650.03 1482.55 1651.86 1480.39 Q1653.71 1478.22 1653.71 1474.49 Q1653.71 1470.74 1651.86 1468.59 Q1650.03 1466.44 1646.88 1466.44 M1656.16 1451.78 L1656.16 1456.04 Q1654.4 1455.21 1652.6 1454.77 Q1650.82 1454.33 1649.06 1454.33 Q1644.43 1454.33 1641.97 1457.45 Q1639.54 1460.58 1639.2 1466.9 Q1640.56 1464.89 1642.62 1463.82 Q1644.68 1462.73 1647.16 1462.73 Q1652.37 1462.73 1655.38 1465.9 Q1658.41 1469.05 1658.41 1474.49 Q1658.41 1479.82 1655.26 1483.03 Q1652.11 1486.25 1646.88 1486.25 Q1640.89 1486.25 1637.71 1481.67 Q1634.54 1477.06 1634.54 1468.33 Q1634.54 1460.14 1638.43 1455.28 Q1642.32 1450.39 1648.87 1450.39 Q1650.63 1450.39 1652.41 1450.74 Q1654.22 1451.09 1656.16 1451.78 Z\" fill=\"#000000\" fill-rule=\"nonzero\" fill-opacity=\"1\" /><path clip-path=\"url(#clip790)\" d=\"M2108.23 1469.17 Q2104.89 1469.17 2102.97 1470.95 Q2101.07 1472.73 2101.07 1475.86 Q2101.07 1478.98 2102.97 1480.77 Q2104.89 1482.55 2108.23 1482.55 Q2111.56 1482.55 2113.48 1480.77 Q2115.4 1478.96 2115.4 1475.86 Q2115.4 1472.73 2113.48 1470.95 Q2111.58 1469.17 2108.23 1469.17 M2103.55 1467.18 Q2100.54 1466.44 2098.85 1464.38 Q2097.18 1462.32 2097.18 1459.35 Q2097.18 1455.21 2100.12 1452.8 Q2103.09 1450.39 2108.23 1450.39 Q2113.39 1450.39 2116.33 1452.8 Q2119.27 1455.21 2119.27 1459.35 Q2119.27 1462.32 2117.58 1464.38 Q2115.91 1466.44 2112.93 1467.18 Q2116.3 1467.96 2118.18 1470.26 Q2120.08 1472.55 2120.08 1475.86 Q2120.08 1480.88 2117 1483.57 Q2113.94 1486.25 2108.23 1486.25 Q2102.51 1486.25 2099.43 1483.57 Q2096.37 1480.88 2096.37 1475.86 Q2096.37 1472.55 2098.27 1470.26 Q2100.17 1467.96 2103.55 1467.18 M2101.84 1459.79 Q2101.84 1462.48 2103.5 1463.98 Q2105.19 1465.49 2108.23 1465.49 Q2111.24 1465.49 2112.93 1463.98 Q2114.64 1462.48 2114.64 1459.79 Q2114.64 1457.11 2112.93 1455.6 Q2111.24 1454.1 2108.23 1454.1 Q2105.19 1454.1 2103.5 1455.6 Q2101.84 1457.11 2101.84 1459.79 Z\" fill=\"#000000\" fill-rule=\"nonzero\" fill-opacity=\"1\" /><path clip-path=\"url(#clip790)\" d=\"M1291.71 1525.1 Q1291.71 1525.33 1291.16 1526.29 Q1290.65 1527.23 1288.75 1529.58 Q1286.85 1531.93 1284.01 1534.67 Q1282.95 1535.73 1281.34 1537.21 Q1279.73 1538.69 1278.63 1539.66 L1277.54 1540.62 Q1273.35 1544.17 1269.68 1548.13 Q1269.94 1548.03 1270.39 1548 Q1270.84 1547.93 1271.16 1547.93 L1271.48 1547.93 Q1273.16 1547.93 1276.09 1549.06 Q1278.67 1549.9 1279.99 1549.9 Q1281.27 1549.9 1282.69 1549.45 Q1284.11 1549 1285.65 1547.68 Q1287.2 1546.36 1287.91 1544.36 Q1288.04 1544.04 1288.1 1543.94 Q1288.17 1543.81 1288.36 1543.68 Q1288.55 1543.52 1288.81 1543.52 Q1289.17 1543.52 1289.39 1543.71 Q1289.62 1543.91 1289.62 1544.17 Q1289.62 1544.75 1289.17 1545.9 Q1288.75 1547.06 1287.81 1548.51 Q1286.91 1549.96 1285.72 1551.28 Q1284.56 1552.57 1282.82 1553.47 Q1281.08 1554.34 1279.25 1554.34 Q1277.93 1554.34 1276.96 1553.7 Q1275.99 1553.09 1275.03 1551.9 Q1273.71 1550.38 1273 1549.9 Q1272.29 1549.38 1271.19 1549.38 Q1268.26 1549.38 1265.59 1553.47 Q1265.3 1554.05 1265.11 1554.18 Q1264.95 1554.34 1264.56 1554.34 Q1263.75 1554.31 1263.75 1553.67 Q1263.75 1553.41 1264.46 1552.28 Q1265.2 1551.12 1266.85 1549.09 Q1268.52 1547.06 1270.55 1545.04 L1276.48 1539.5 Q1283.05 1533.96 1285.65 1530.83 Q1284.56 1530.83 1284.08 1530.8 Q1283.63 1530.77 1282.72 1530.57 Q1281.82 1530.35 1280.57 1529.87 Q1277.64 1528.87 1276.41 1528.87 Q1276.09 1528.87 1275.74 1528.9 Q1275.38 1528.93 1274.58 1529.09 Q1273.8 1529.25 1273.16 1529.58 Q1272.51 1529.87 1271.84 1530.51 Q1271.16 1531.12 1270.81 1531.96 Q1270.71 1532.22 1270.65 1532.35 Q1270.58 1532.48 1270.39 1532.6 Q1270.23 1532.7 1269.97 1532.7 Q1269.58 1532.7 1269.36 1532.48 Q1269.17 1532.25 1269.17 1531.96 Q1269.17 1531.38 1269.75 1530.19 Q1270.32 1529 1271.29 1527.71 Q1272.26 1526.39 1273.84 1525.42 Q1275.41 1524.46 1277.15 1524.46 Q1278.18 1524.46 1279.05 1524.91 Q1279.95 1525.36 1280.41 1525.84 Q1280.89 1526.29 1281.69 1527.29 Q1282.37 1528.06 1282.69 1528.38 Q1283.01 1528.71 1283.66 1529.06 Q1284.33 1529.38 1285.08 1529.38 Q1286.3 1529.38 1287.43 1528.45 Q1288.55 1527.48 1290 1525.16 Q1290.39 1524.46 1291 1524.46 Q1291.71 1524.46 1291.71 1525.1 Z\" fill=\"#000000\" fill-rule=\"nonzero\" fill-opacity=\"1\" /><polyline clip-path=\"url(#clip792)\" style=\"stroke:#000000; stroke-linecap:round; stroke-linejoin:round; stroke-width:2; stroke-opacity:0.1; fill:none\" points=\"205.121,1364.76 2352.76,1364.76 \"/>\n",
       "<polyline clip-path=\"url(#clip792)\" style=\"stroke:#000000; stroke-linecap:round; stroke-linejoin:round; stroke-width:2; stroke-opacity:0.1; fill:none\" points=\"205.121,1039.06 2352.76,1039.06 \"/>\n",
       "<polyline clip-path=\"url(#clip792)\" style=\"stroke:#000000; stroke-linecap:round; stroke-linejoin:round; stroke-width:2; stroke-opacity:0.1; fill:none\" points=\"205.121,713.358 2352.76,713.358 \"/>\n",
       "<polyline clip-path=\"url(#clip792)\" style=\"stroke:#000000; stroke-linecap:round; stroke-linejoin:round; stroke-width:2; stroke-opacity:0.1; fill:none\" points=\"205.121,387.658 2352.76,387.658 \"/>\n",
       "<polyline clip-path=\"url(#clip792)\" style=\"stroke:#000000; stroke-linecap:round; stroke-linejoin:round; stroke-width:2; stroke-opacity:0.1; fill:none\" points=\"205.121,61.9573 2352.76,61.9573 \"/>\n",
       "<polyline clip-path=\"url(#clip790)\" style=\"stroke:#000000; stroke-linecap:round; stroke-linejoin:round; stroke-width:4; stroke-opacity:1; fill:none\" points=\"205.121,1423.18 205.121,47.2441 \"/>\n",
       "<polyline clip-path=\"url(#clip790)\" style=\"stroke:#000000; stroke-linecap:round; stroke-linejoin:round; stroke-width:4; stroke-opacity:1; fill:none\" points=\"205.121,1364.76 224.019,1364.76 \"/>\n",
       "<polyline clip-path=\"url(#clip790)\" style=\"stroke:#000000; stroke-linecap:round; stroke-linejoin:round; stroke-width:4; stroke-opacity:1; fill:none\" points=\"205.121,1039.06 224.019,1039.06 \"/>\n",
       "<polyline clip-path=\"url(#clip790)\" style=\"stroke:#000000; stroke-linecap:round; stroke-linejoin:round; stroke-width:4; stroke-opacity:1; fill:none\" points=\"205.121,713.358 224.019,713.358 \"/>\n",
       "<polyline clip-path=\"url(#clip790)\" style=\"stroke:#000000; stroke-linecap:round; stroke-linejoin:round; stroke-width:4; stroke-opacity:1; fill:none\" points=\"205.121,387.658 224.019,387.658 \"/>\n",
       "<polyline clip-path=\"url(#clip790)\" style=\"stroke:#000000; stroke-linecap:round; stroke-linejoin:round; stroke-width:4; stroke-opacity:1; fill:none\" points=\"205.121,61.9573 224.019,61.9573 \"/>\n",
       "<path clip-path=\"url(#clip790)\" d=\"M157.177 1350.56 Q153.566 1350.56 151.737 1354.12 Q149.931 1357.66 149.931 1364.79 Q149.931 1371.9 151.737 1375.46 Q153.566 1379.01 157.177 1379.01 Q160.811 1379.01 162.616 1375.46 Q164.445 1371.9 164.445 1364.79 Q164.445 1357.66 162.616 1354.12 Q160.811 1350.56 157.177 1350.56 M157.177 1346.85 Q162.987 1346.85 166.042 1351.46 Q169.121 1356.04 169.121 1364.79 Q169.121 1373.52 166.042 1378.13 Q162.987 1382.71 157.177 1382.71 Q151.366 1382.71 148.288 1378.13 Q145.232 1373.52 145.232 1364.79 Q145.232 1356.04 148.288 1351.46 Q151.366 1346.85 157.177 1346.85 Z\" fill=\"#000000\" fill-rule=\"nonzero\" fill-opacity=\"1\" /><path clip-path=\"url(#clip790)\" d=\"M117.825 1052.4 L125.464 1052.4 L125.464 1026.04 L117.154 1027.7 L117.154 1023.45 L125.418 1021.78 L130.093 1021.78 L130.093 1052.4 L137.732 1052.4 L137.732 1056.34 L117.825 1056.34 L117.825 1052.4 Z\" fill=\"#000000\" fill-rule=\"nonzero\" fill-opacity=\"1\" /><path clip-path=\"url(#clip790)\" d=\"M157.177 1024.86 Q153.566 1024.86 151.737 1028.42 Q149.931 1031.96 149.931 1039.09 Q149.931 1046.2 151.737 1049.76 Q153.566 1053.31 157.177 1053.31 Q160.811 1053.31 162.616 1049.76 Q164.445 1046.2 164.445 1039.09 Q164.445 1031.96 162.616 1028.42 Q160.811 1024.86 157.177 1024.86 M157.177 1021.15 Q162.987 1021.15 166.042 1025.76 Q169.121 1030.34 169.121 1039.09 Q169.121 1047.82 166.042 1052.43 Q162.987 1057.01 157.177 1057.01 Q151.366 1057.01 148.288 1052.43 Q145.232 1047.82 145.232 1039.09 Q145.232 1030.34 148.288 1025.76 Q151.366 1021.15 157.177 1021.15 Z\" fill=\"#000000\" fill-rule=\"nonzero\" fill-opacity=\"1\" /><path clip-path=\"url(#clip790)\" d=\"M121.043 726.703 L137.362 726.703 L137.362 730.638 L115.418 730.638 L115.418 726.703 Q118.08 723.948 122.663 719.319 Q127.269 714.666 128.45 713.323 Q130.695 710.8 131.575 709.064 Q132.478 707.305 132.478 705.615 Q132.478 702.86 130.533 701.124 Q128.612 699.388 125.51 699.388 Q123.311 699.388 120.857 700.152 Q118.427 700.916 115.649 702.467 L115.649 697.745 Q118.473 696.611 120.927 696.032 Q123.38 695.453 125.418 695.453 Q130.788 695.453 133.982 698.138 Q137.177 700.823 137.177 705.314 Q137.177 707.444 136.367 709.365 Q135.579 711.263 133.473 713.856 Q132.894 714.527 129.792 717.745 Q126.691 720.939 121.043 726.703 Z\" fill=\"#000000\" fill-rule=\"nonzero\" fill-opacity=\"1\" /><path clip-path=\"url(#clip790)\" d=\"M157.177 699.157 Q153.566 699.157 151.737 702.722 Q149.931 706.263 149.931 713.393 Q149.931 720.499 151.737 724.064 Q153.566 727.606 157.177 727.606 Q160.811 727.606 162.616 724.064 Q164.445 720.499 164.445 713.393 Q164.445 706.263 162.616 702.722 Q160.811 699.157 157.177 699.157 M157.177 695.453 Q162.987 695.453 166.042 700.06 Q169.121 704.643 169.121 713.393 Q169.121 722.12 166.042 726.726 Q162.987 731.309 157.177 731.309 Q151.366 731.309 148.288 726.726 Q145.232 722.12 145.232 713.393 Q145.232 704.643 148.288 700.06 Q151.366 695.453 157.177 695.453 Z\" fill=\"#000000\" fill-rule=\"nonzero\" fill-opacity=\"1\" /><path clip-path=\"url(#clip790)\" d=\"M131.181 386.304 Q134.538 387.021 136.413 389.29 Q138.311 391.558 138.311 394.891 Q138.311 400.007 134.792 402.808 Q131.274 405.609 124.793 405.609 Q122.617 405.609 120.302 405.169 Q118.01 404.753 115.556 403.896 L115.556 399.382 Q117.501 400.516 119.816 401.095 Q122.13 401.674 124.654 401.674 Q129.052 401.674 131.343 399.938 Q133.658 398.202 133.658 394.891 Q133.658 391.836 131.505 390.123 Q129.376 388.387 125.556 388.387 L121.529 388.387 L121.529 384.544 L125.742 384.544 Q129.191 384.544 131.019 383.179 Q132.848 381.79 132.848 379.197 Q132.848 376.535 130.95 375.123 Q129.075 373.688 125.556 373.688 Q123.635 373.688 121.436 374.105 Q119.237 374.521 116.598 375.401 L116.598 371.234 Q119.26 370.493 121.575 370.123 Q123.913 369.753 125.973 369.753 Q131.297 369.753 134.399 372.183 Q137.501 374.591 137.501 378.711 Q137.501 381.581 135.857 383.572 Q134.214 385.54 131.181 386.304 Z\" fill=\"#000000\" fill-rule=\"nonzero\" fill-opacity=\"1\" /><path clip-path=\"url(#clip790)\" d=\"M157.177 373.456 Q153.566 373.456 151.737 377.021 Q149.931 380.563 149.931 387.692 Q149.931 394.799 151.737 398.364 Q153.566 401.905 157.177 401.905 Q160.811 401.905 162.616 398.364 Q164.445 394.799 164.445 387.692 Q164.445 380.563 162.616 377.021 Q160.811 373.456 157.177 373.456 M157.177 369.753 Q162.987 369.753 166.042 374.359 Q169.121 378.942 169.121 387.692 Q169.121 396.419 166.042 401.026 Q162.987 405.609 157.177 405.609 Q151.366 405.609 148.288 401.026 Q145.232 396.419 145.232 387.692 Q145.232 378.942 148.288 374.359 Q151.366 369.753 157.177 369.753 Z\" fill=\"#000000\" fill-rule=\"nonzero\" fill-opacity=\"1\" /><path clip-path=\"url(#clip790)\" d=\"M129.862 48.7514 L118.056 67.2004 L129.862 67.2004 L129.862 48.7514 M128.635 44.6773 L134.515 44.6773 L134.515 67.2004 L139.445 67.2004 L139.445 71.0892 L134.515 71.0892 L134.515 79.2373 L129.862 79.2373 L129.862 71.0892 L114.26 71.0892 L114.26 66.5754 L128.635 44.6773 Z\" fill=\"#000000\" fill-rule=\"nonzero\" fill-opacity=\"1\" /><path clip-path=\"url(#clip790)\" d=\"M157.177 47.756 Q153.566 47.756 151.737 51.3208 Q149.931 54.8625 149.931 61.9921 Q149.931 69.0985 151.737 72.6633 Q153.566 76.2049 157.177 76.2049 Q160.811 76.2049 162.616 72.6633 Q164.445 69.0985 164.445 61.9921 Q164.445 54.8625 162.616 51.3208 Q160.811 47.756 157.177 47.756 M157.177 44.0523 Q162.987 44.0523 166.042 48.6588 Q169.121 53.2421 169.121 61.9921 Q169.121 70.7189 166.042 75.3253 Q162.987 79.9086 157.177 79.9086 Q151.366 79.9086 148.288 75.3253 Q145.232 70.7189 145.232 61.9921 Q145.232 53.2421 148.288 48.6588 Q151.366 44.0523 157.177 44.0523 Z\" fill=\"#000000\" fill-rule=\"nonzero\" fill-opacity=\"1\" /><path clip-path=\"url(#clip790)\" d=\"M24.7187 937.85 Q26.49 937.85 27.585 938.977 Q28.68 940.072 28.68 941.457 Q28.68 942.455 28.0681 943.196 Q27.4562 943.905 26.3934 943.905 Q25.2984 943.905 24.139 943.067 Q22.9796 942.23 22.8185 940.33 Q21.6269 941.586 21.6269 943.583 Q21.6269 944.581 22.271 945.418 Q22.883 946.223 23.8813 946.674 Q24.9119 947.157 30.7412 948.252 Q32.6413 948.607 34.4771 948.929 Q36.3128 949.251 38.2451 949.637 L38.2451 944.162 Q38.2451 943.454 38.2774 943.164 Q38.3096 942.874 38.4706 942.649 Q38.6316 942.391 38.9859 942.391 Q39.8876 942.391 40.1131 942.81 Q40.3063 943.196 40.3063 944.355 L40.3063 950.024 L61.2079 953.985 Q61.8198 954.082 63.7522 954.5 Q65.6523 954.887 68.7763 955.821 Q71.9325 956.755 73.8004 957.689 Q74.8632 958.204 75.8616 958.88 Q76.8922 959.524 77.9228 960.458 Q78.9534 961.392 79.5653 962.616 Q80.2094 963.84 80.2094 965.128 Q80.2094 967.318 78.9856 969.025 Q77.7617 970.732 75.6684 970.732 Q73.897 970.732 72.802 969.637 Q71.707 968.51 71.707 967.125 Q71.707 966.127 72.3189 965.418 Q72.9309 964.677 73.9937 964.677 Q74.4445 964.677 74.9598 964.838 Q75.4751 964.999 76.0548 965.354 Q76.6667 965.708 77.0854 966.481 Q77.5041 967.254 77.5685 968.317 Q78.7601 967.061 78.7601 965.128 Q78.7601 964.516 78.5025 963.969 Q78.277 963.421 77.6973 962.97 Q77.1176 962.487 76.5379 962.133 Q75.9904 961.779 74.9276 961.425 Q73.897 961.07 73.1241 960.845 Q72.3512 960.619 70.9663 960.33 Q69.5815 960.008 68.7441 959.847 Q67.939 959.685 66.3609 959.396 L40.3063 954.468 L40.3063 958.816 Q40.3063 959.589 40.2741 959.911 Q40.2419 960.201 40.0809 960.426 Q39.8876 960.652 39.5012 960.652 Q38.8893 960.652 38.6316 960.394 Q38.3418 960.104 38.3096 959.782 Q38.2451 959.46 38.2451 958.687 L38.2451 954.114 Q30.0971 952.568 27.9071 951.956 Q25.5882 951.248 23.978 950.153 Q22.3355 949.058 21.5625 947.834 Q20.7896 946.61 20.4997 945.612 Q20.1777 944.581 20.1777 943.583 Q20.1777 941.328 21.4015 939.589 Q22.5931 937.85 24.7187 937.85 Z\" fill=\"#000000\" fill-rule=\"nonzero\" fill-opacity=\"1\" /><path clip-path=\"url(#clip790)\" d=\"M50.1935 928.97 Q39.0503 928.97 30.0649 924.815 Q26.2968 923.044 23.1406 920.564 Q19.9844 918.084 18.5996 916.442 Q17.2147 914.799 17.2147 914.348 Q17.2147 913.704 17.8588 913.672 Q18.1809 913.672 18.986 914.542 Q29.8072 925.17 50.1935 925.137 Q70.6442 925.137 81.0467 914.799 Q82.1739 913.672 82.5282 913.672 Q83.1723 913.672 83.1723 914.348 Q83.1723 914.799 81.8519 916.377 Q80.5314 917.956 77.5041 920.403 Q74.4767 922.851 70.7731 924.622 Q61.7876 928.97 50.1935 928.97 Z\" fill=\"#000000\" fill-rule=\"nonzero\" fill-opacity=\"1\" /><path clip-path=\"url(#clip790)\" d=\"M83.1723 902.322 L17.2147 902.322 L17.2147 892.371 L18.7284 892.371 L18.7284 897.91 L81.6586 897.91 L81.6586 892.371 L83.1723 892.371 L83.1723 902.322 Z\" fill=\"#000000\" fill-rule=\"nonzero\" fill-opacity=\"1\" /><path clip-path=\"url(#clip790)\" d=\"M29.0343 887.34 L26.9731 887.34 Q26.9731 879.418 22.7541 875.327 Q22.7541 874.2 23.0118 874.007 Q23.2694 873.814 24.461 873.814 L61.4656 873.814 Q63.4301 873.814 64.042 872.848 Q64.654 871.881 64.654 867.662 L64.654 865.569 L66.6829 865.569 Q66.4897 867.888 66.4897 876.261 Q66.4897 884.635 66.6829 886.922 L64.654 886.922 L64.654 884.828 Q64.654 880.674 64.0742 879.675 Q63.4623 878.677 61.4656 878.677 L27.2952 878.677 Q29.0343 882.123 29.0343 887.34 Z\" fill=\"#000000\" fill-rule=\"nonzero\" fill-opacity=\"1\" /><path clip-path=\"url(#clip790)\" d=\"M65.6201 860.428 Q64.5573 861.426 63.1725 861.426 Q61.7876 861.426 60.7893 860.428 Q59.7587 859.429 59.7587 857.916 Q59.7587 856.466 60.7248 855.5 Q61.6588 854.502 63.2047 854.502 Q64.7184 854.502 65.7167 855.565 Q66.6829 856.595 66.6829 857.916 Q66.6829 859.429 65.6201 860.428 Z\" fill=\"#000000\" fill-rule=\"nonzero\" fill-opacity=\"1\" /><path clip-path=\"url(#clip790)\" d=\"M45.5881 843.276 Q35.8941 843.276 30.6124 840.828 Q22.7541 837.414 22.7541 829.363 Q22.7541 827.656 23.2372 825.885 Q23.6881 824.081 25.4594 821.827 Q27.2307 819.54 30.1293 818.155 Q35.7331 815.515 45.5881 815.515 Q55.2176 815.515 60.4672 817.962 Q68.1322 821.537 68.1322 829.427 Q68.1322 832.39 66.6185 835.418 Q65.1048 838.413 61.4656 840.313 Q56.0228 843.276 45.5881 843.276 M44.7829 837.801 Q54.7345 837.801 58.6959 837.092 Q62.9792 836.287 64.8472 834.097 Q66.6829 831.875 66.6829 829.427 Q66.6829 826.787 64.7184 824.597 Q62.7216 822.374 58.4382 821.698 Q54.2193 820.957 44.7829 820.99 Q35.6043 820.99 31.9328 821.634 Q27.6494 822.503 25.9425 824.822 Q24.2034 827.109 24.2034 829.427 Q24.2034 830.297 24.461 831.231 Q24.7187 832.133 25.4594 833.453 Q26.2002 834.774 28.0359 835.804 Q29.8716 836.803 32.6413 837.286 Q36.2162 837.801 44.7829 837.801 Z\" fill=\"#000000\" fill-rule=\"nonzero\" fill-opacity=\"1\" /><path clip-path=\"url(#clip790)\" d=\"M65.6201 809.678 Q64.5573 810.612 63.1725 810.612 Q61.7876 810.612 60.757 809.71 Q59.6943 808.776 59.6943 807.101 Q59.6943 805.137 61.5944 804.01 Q63.4623 802.882 66.6185 802.882 Q70.0323 802.882 73.1885 804.267 Q76.3769 805.652 77.8906 807.005 Q79.4042 808.357 79.4042 808.905 Q79.4042 809.549 78.6957 809.549 Q78.4381 809.549 77.955 809.098 Q72.8664 804.364 66.6185 804.332 Q65.6201 804.332 65.6201 804.461 L65.749 804.622 Q66.6829 805.749 66.6829 807.101 Q66.6829 808.744 65.6201 809.678 Z\" fill=\"#000000\" fill-rule=\"nonzero\" fill-opacity=\"1\" /><path clip-path=\"url(#clip790)\" d=\"M38.1807 754.112 Q38.4062 754.112 39.3724 754.66 Q40.3063 755.175 42.6574 757.075 Q45.0084 758.975 47.7459 761.809 Q48.8087 762.872 50.2901 764.482 Q51.7716 766.093 52.7378 767.188 L53.704 768.283 Q57.2466 772.469 61.2079 776.141 Q61.1113 775.883 61.0791 775.432 Q61.0147 774.982 61.0147 774.659 L61.0147 774.337 Q61.0147 772.663 62.1419 769.732 Q62.9792 767.156 62.9792 765.835 Q62.9792 764.547 62.5284 763.13 Q62.0775 761.713 60.757 760.167 Q59.4366 758.621 57.4398 757.912 Q57.1178 757.784 57.0212 757.719 Q56.8923 757.655 56.7635 757.462 Q56.6025 757.268 56.6025 757.011 Q56.6025 756.656 56.7957 756.431 Q56.989 756.206 57.2466 756.206 Q57.8263 756.206 58.9857 756.656 Q60.1451 757.075 61.5944 758.009 Q63.0437 758.911 64.3641 760.102 Q65.6523 761.262 66.5541 763.001 Q67.4237 764.74 67.4237 766.576 Q67.4237 767.896 66.7795 768.862 Q66.1676 769.829 64.976 770.795 Q63.4623 772.115 62.9792 772.824 Q62.464 773.532 62.464 774.627 Q62.464 777.558 66.5541 780.231 Q67.1338 780.521 67.2626 780.714 Q67.4237 780.875 67.4237 781.262 Q67.3915 782.067 66.7473 782.067 Q66.4897 782.067 65.3625 781.358 Q64.2031 780.618 62.1741 778.975 Q60.1451 777.3 58.1162 775.271 L52.5768 769.346 Q47.0373 762.776 43.9134 760.167 Q43.9134 761.262 43.8812 761.745 Q43.849 762.196 43.6557 763.098 Q43.4303 763.999 42.9472 765.255 Q41.9488 768.186 41.9488 769.41 Q41.9488 769.732 41.981 770.086 Q42.0132 770.441 42.1743 771.246 Q42.3353 772.019 42.6574 772.663 Q42.9472 773.307 43.5913 773.983 Q44.2032 774.659 45.0406 775.014 Q45.2982 775.11 45.4271 775.175 Q45.5559 775.239 45.6847 775.432 Q45.7813 775.593 45.7813 775.851 Q45.7813 776.238 45.5559 776.463 Q45.3304 776.656 45.0406 776.656 Q44.4609 776.656 43.2693 776.077 Q42.0776 775.497 40.7894 774.531 Q39.469 773.564 38.5028 771.986 Q37.5366 770.408 37.5366 768.669 Q37.5366 767.639 37.9875 766.769 Q38.4384 765.867 38.9215 765.416 Q39.3724 764.933 40.3707 764.128 Q41.1437 763.452 41.4657 763.13 Q41.7878 762.808 42.1421 762.164 Q42.4641 761.487 42.4641 760.747 Q42.4641 759.523 41.5301 758.396 Q40.564 757.268 38.2451 755.819 Q37.5366 755.433 37.5366 754.821 Q37.5366 754.112 38.1807 754.112 Z\" fill=\"#000000\" fill-rule=\"nonzero\" fill-opacity=\"1\" /><path clip-path=\"url(#clip790)\" d=\"M65.6201 750.765 Q64.5573 751.699 63.1725 751.699 Q61.7876 751.699 60.757 750.798 Q59.6943 749.864 59.6943 748.189 Q59.6943 746.224 61.5944 745.097 Q63.4623 743.97 66.6185 743.97 Q70.0323 743.97 73.1885 745.355 Q76.3769 746.74 77.8906 748.092 Q79.4042 749.445 79.4042 749.993 Q79.4042 750.637 78.6957 750.637 Q78.4381 750.637 77.955 750.186 Q72.8664 745.452 66.6185 745.419 Q65.6201 745.419 65.6201 745.548 L65.749 745.709 Q66.6829 746.836 66.6829 748.189 Q66.6829 749.832 65.6201 750.765 Z\" fill=\"#000000\" fill-rule=\"nonzero\" fill-opacity=\"1\" /><path clip-path=\"url(#clip790)\" d=\"M38.1807 695.2 Q38.4062 695.2 39.3724 695.747 Q40.3063 696.262 42.6574 698.163 Q45.0084 700.063 47.7459 702.897 Q48.8087 703.96 50.2901 705.57 Q51.7716 707.18 52.7378 708.275 L53.704 709.37 Q57.2466 713.557 61.2079 717.228 Q61.1113 716.971 61.0791 716.52 Q61.0147 716.069 61.0147 715.747 L61.0147 715.425 Q61.0147 713.75 62.1419 710.82 Q62.9792 708.243 62.9792 706.923 Q62.9792 705.634 62.5284 704.217 Q62.0775 702.8 60.757 701.254 Q59.4366 699.709 57.4398 699 Q57.1178 698.871 57.0212 698.807 Q56.8923 698.742 56.7635 698.549 Q56.6025 698.356 56.6025 698.098 Q56.6025 697.744 56.7957 697.519 Q56.989 697.293 57.2466 697.293 Q57.8263 697.293 58.9857 697.744 Q60.1451 698.163 61.5944 699.097 Q63.0437 699.998 64.3641 701.19 Q65.6523 702.349 66.5541 704.089 Q67.4237 705.828 67.4237 707.663 Q67.4237 708.984 66.7795 709.95 Q66.1676 710.916 64.976 711.882 Q63.4623 713.203 62.9792 713.911 Q62.464 714.62 62.464 715.715 Q62.464 718.646 66.5541 721.319 Q67.1338 721.608 67.2626 721.802 Q67.4237 721.963 67.4237 722.349 Q67.3915 723.154 66.7473 723.154 Q66.4897 723.154 65.3625 722.446 Q64.2031 721.705 62.1741 720.063 Q60.1451 718.388 58.1162 716.359 L52.5768 710.433 Q47.0373 703.863 43.9134 701.254 Q43.9134 702.349 43.8812 702.832 Q43.849 703.283 43.6557 704.185 Q43.4303 705.087 42.9472 706.343 Q41.9488 709.274 41.9488 710.497 Q41.9488 710.82 41.981 711.174 Q42.0132 711.528 42.1743 712.333 Q42.3353 713.106 42.6574 713.75 Q42.9472 714.394 43.5913 715.071 Q44.2032 715.747 45.0406 716.101 Q45.2982 716.198 45.4271 716.262 Q45.5559 716.327 45.6847 716.52 Q45.7813 716.681 45.7813 716.939 Q45.7813 717.325 45.5559 717.551 Q45.3304 717.744 45.0406 717.744 Q44.4609 717.744 43.2693 717.164 Q42.0776 716.584 40.7894 715.618 Q39.469 714.652 38.5028 713.074 Q37.5366 711.496 37.5366 709.757 Q37.5366 708.726 37.9875 707.857 Q38.4384 706.955 38.9215 706.504 Q39.3724 706.021 40.3707 705.216 Q41.1437 704.539 41.4657 704.217 Q41.7878 703.895 42.1421 703.251 Q42.4641 702.575 42.4641 701.834 Q42.4641 700.61 41.5301 699.483 Q40.564 698.356 38.2451 696.907 Q37.5366 696.52 37.5366 695.908 Q37.5366 695.2 38.1807 695.2 Z\" fill=\"#000000\" fill-rule=\"nonzero\" fill-opacity=\"1\" /><path clip-path=\"url(#clip790)\" d=\"M46.9462 688.427 Q46.1121 688.427 45.8641 688.359 Q45.6161 688.269 45.2329 687.908 L35.3585 679.049 Q29.9029 674.202 25.1461 674.202 Q22.0575 674.202 19.8482 675.825 Q17.6389 677.425 17.6389 680.379 Q17.6389 682.408 18.8788 684.121 Q20.1187 685.834 22.328 686.623 Q22.283 686.488 22.283 686.015 Q22.283 684.865 23.0044 684.234 Q23.7258 683.58 24.6952 683.58 Q25.9351 683.58 26.5438 684.391 Q27.1299 685.181 27.1299 685.97 Q27.1299 686.285 27.0623 686.714 Q26.9947 687.119 26.3634 687.773 Q25.7097 688.427 24.5599 688.427 Q21.3361 688.427 18.7661 685.992 Q16.196 683.535 16.196 679.792 Q16.196 675.554 18.721 672.781 Q21.2234 669.986 25.1461 669.986 Q26.5212 669.986 27.7837 670.414 Q29.0236 670.82 29.993 671.384 Q30.9624 671.925 32.518 673.412 Q34.0735 674.9 35.1782 676.095 Q36.2828 677.29 38.6274 679.973 L43.3842 684.865 L43.3842 676.546 Q43.3842 672.488 43.0235 672.173 Q42.3698 671.722 38.9205 671.158 L38.9205 669.986 L46.9462 671.293 L46.9462 688.427 Z\" fill=\"#000000\" fill-rule=\"nonzero\" fill-opacity=\"1\" /><path clip-path=\"url(#clip790)\" d=\"M81.6586 663.132 L81.6586 657.593 L18.7284 657.593 L18.7284 663.132 L17.2147 663.132 L17.2147 653.181 L83.1723 653.181 L83.1723 663.132 L81.6586 663.132 Z\" fill=\"#000000\" fill-rule=\"nonzero\" fill-opacity=\"1\" /><path clip-path=\"url(#clip790)\" d=\"M82.5282 642.87 Q82.2061 642.87 81.401 642.033 Q70.5798 631.405 50.1935 631.405 Q29.7428 631.405 19.4047 641.614 Q18.2131 642.87 17.8588 642.87 Q17.2147 642.87 17.2147 642.226 Q17.2147 641.775 18.5352 640.197 Q19.8556 638.587 22.883 636.171 Q25.9103 633.723 29.614 631.92 Q38.5994 627.572 50.1935 627.572 Q61.3368 627.572 70.3222 631.727 Q74.0903 633.498 77.2464 635.978 Q80.4026 638.458 81.7875 640.1 Q83.1723 641.743 83.1723 642.226 Q83.1723 642.87 82.5282 642.87 Z\" fill=\"#000000\" fill-rule=\"nonzero\" fill-opacity=\"1\" /><path clip-path=\"url(#clip790)\" d=\"M50.9987 597.726 Q50.9987 599.24 50.1935 599.24 Q49.3884 599.24 49.3884 597.662 Q49.3884 597.469 49.4206 597.147 Q49.4528 596.792 49.4528 596.728 L49.4528 578.145 L30.8056 578.145 Q30.7412 578.145 30.4513 578.177 Q30.1293 578.209 29.936 578.209 Q28.3579 578.209 28.3579 577.437 Q28.3579 576.631 29.936 576.631 L49.4528 576.631 L49.4528 558.016 Q49.4528 557.952 49.4206 557.63 Q49.3884 557.308 49.3884 557.115 Q49.3884 555.601 50.1935 555.601 Q50.9987 555.569 50.9987 557.179 Q50.9987 557.372 50.9665 557.662 Q50.9343 557.952 50.9343 558.016 L50.9343 576.631 L70.5154 576.631 Q72.0291 576.631 72.0291 577.437 Q72.0291 578.209 70.451 578.209 Q70.2578 578.209 69.9357 578.177 Q69.6459 578.145 69.5815 578.145 L50.9343 578.145 L50.9343 596.728 Q50.9343 596.792 50.9665 597.179 Q50.9987 597.533 50.9987 597.726 Z\" fill=\"#000000\" fill-rule=\"nonzero\" fill-opacity=\"1\" /><path clip-path=\"url(#clip790)\" d=\"M40.564 503.521 Q41.2403 503.521 41.7878 504.101 Q42.3353 504.648 42.3353 505.324 Q42.3353 505.711 41.6912 506.645 Q39.8232 509.318 39.8232 512.7 Q39.8232 515.727 40.564 518.529 Q41.3047 521.331 42.8184 523.231 Q44.2998 525.099 46.2322 525.099 Q48.6476 525.099 50.0647 522.458 Q48.8087 519.721 48.8087 516.339 Q48.8087 515.244 48.8731 514.503 Q48.9375 513.73 49.0985 512.989 Q49.2596 512.249 49.646 511.894 Q50.0003 511.508 50.58 511.508 Q52.6412 511.508 52.6412 516.854 Q52.6412 520.332 51.7072 522.522 Q53.092 525.324 55.3143 526.87 Q57.5365 528.416 59.4366 528.416 Q61.0791 528.416 62.2707 527.514 Q63.4623 526.58 64.042 525.067 Q64.6217 523.521 64.8794 522.007 Q65.1048 520.461 65.1048 518.754 Q65.1048 515.952 64.7506 513.988 Q64.3641 511.991 63.6556 510.896 Q62.947 509.769 62.464 509.318 Q61.9487 508.835 61.1435 508.352 Q60.6926 508.062 60.6926 507.676 Q60.6926 507.386 60.8859 507.192 Q61.0469 506.967 61.3368 506.967 Q61.691 506.967 62.4317 507.418 Q63.1725 507.837 64.1709 508.867 Q65.137 509.866 66.0388 511.25 Q66.9084 512.603 67.5203 514.761 Q68.1322 516.919 68.1322 519.366 Q68.1322 524.358 65.6845 527.257 Q63.2369 530.123 59.8231 530.123 Q57.4398 530.123 54.9922 528.545 Q52.5123 526.935 50.9343 524.101 Q48.9697 526.741 46.2322 526.741 Q43.7846 526.741 41.5946 524.68 Q39.4046 522.587 38.1163 519.205 Q36.7959 515.791 36.7959 512.056 Q36.7959 509.962 37.5044 507.901 Q38.1807 505.84 39.0503 504.68 Q39.9199 503.521 40.564 503.521 M50.6444 513.215 Q50.2579 514.632 50.2579 516.339 Q50.2579 518.658 50.8376 520.365 Q51.1919 518.98 51.1919 516.854 Q51.1919 515.083 51.0953 514.568 Q50.9987 514.02 50.6444 513.215 Z\" fill=\"#000000\" fill-rule=\"nonzero\" fill-opacity=\"1\" /><circle clip-path=\"url(#clip792)\" cx=\"2235.02\" cy=\"189.752\" r=\"14.4\" fill=\"#009af9\" fill-rule=\"evenodd\" fill-opacity=\"1\" stroke=\"#000000\" stroke-opacity=\"1\" stroke-width=\"3.2\"/>\n",
       "<circle clip-path=\"url(#clip792)\" cx=\"1831.28\" cy=\"577.044\" r=\"14.4\" fill=\"#009af9\" fill-rule=\"evenodd\" fill-opacity=\"1\" stroke=\"#000000\" stroke-opacity=\"1\" stroke-width=\"3.2\"/>\n",
       "<circle clip-path=\"url(#clip792)\" cx=\"653.349\" cy=\"1147.28\" r=\"14.4\" fill=\"#009af9\" fill-rule=\"evenodd\" fill-opacity=\"1\" stroke=\"#000000\" stroke-opacity=\"1\" stroke-width=\"3.2\"/>\n",
       "<circle clip-path=\"url(#clip792)\" cx=\"2120.86\" cy=\"279.717\" r=\"14.4\" fill=\"#009af9\" fill-rule=\"evenodd\" fill-opacity=\"1\" stroke=\"#000000\" stroke-opacity=\"1\" stroke-width=\"3.2\"/>\n",
       "<circle clip-path=\"url(#clip792)\" cx=\"695.011\" cy=\"1260.67\" r=\"14.4\" fill=\"#009af9\" fill-rule=\"evenodd\" fill-opacity=\"1\" stroke=\"#000000\" stroke-opacity=\"1\" stroke-width=\"3.2\"/>\n",
       "<circle clip-path=\"url(#clip792)\" cx=\"2003.11\" cy=\"367.119\" r=\"14.4\" fill=\"#009af9\" fill-rule=\"evenodd\" fill-opacity=\"1\" stroke=\"#000000\" stroke-opacity=\"1\" stroke-width=\"3.2\"/>\n",
       "<circle clip-path=\"url(#clip792)\" cx=\"1513.42\" cy=\"789.475\" r=\"14.4\" fill=\"#009af9\" fill-rule=\"evenodd\" fill-opacity=\"1\" stroke=\"#000000\" stroke-opacity=\"1\" stroke-width=\"3.2\"/>\n",
       "<circle clip-path=\"url(#clip792)\" cx=\"1674.48\" cy=\"643.259\" r=\"14.4\" fill=\"#009af9\" fill-rule=\"evenodd\" fill-opacity=\"1\" stroke=\"#000000\" stroke-opacity=\"1\" stroke-width=\"3.2\"/>\n",
       "<circle clip-path=\"url(#clip792)\" cx=\"796.159\" cy=\"1100.68\" r=\"14.4\" fill=\"#009af9\" fill-rule=\"evenodd\" fill-opacity=\"1\" stroke=\"#000000\" stroke-opacity=\"1\" stroke-width=\"3.2\"/>\n",
       "<circle clip-path=\"url(#clip792)\" cx=\"1439.91\" cy=\"836.15\" r=\"14.4\" fill=\"#009af9\" fill-rule=\"evenodd\" fill-opacity=\"1\" stroke=\"#000000\" stroke-opacity=\"1\" stroke-width=\"3.2\"/>\n",
       "<circle clip-path=\"url(#clip792)\" cx=\"265.903\" cy=\"1295.33\" r=\"14.4\" fill=\"#009af9\" fill-rule=\"evenodd\" fill-opacity=\"1\" stroke=\"#000000\" stroke-opacity=\"1\" stroke-width=\"3.2\"/>\n",
       "<circle clip-path=\"url(#clip792)\" cx=\"1573.96\" cy=\"669.662\" r=\"14.4\" fill=\"#009af9\" fill-rule=\"evenodd\" fill-opacity=\"1\" stroke=\"#000000\" stroke-opacity=\"1\" stroke-width=\"3.2\"/>\n",
       "<circle clip-path=\"url(#clip792)\" cx=\"577.537\" cy=\"1264.22\" r=\"14.4\" fill=\"#009af9\" fill-rule=\"evenodd\" fill-opacity=\"1\" stroke=\"#000000\" stroke-opacity=\"1\" stroke-width=\"3.2\"/>\n",
       "<circle clip-path=\"url(#clip792)\" cx=\"1106.34\" cy=\"946.281\" r=\"14.4\" fill=\"#009af9\" fill-rule=\"evenodd\" fill-opacity=\"1\" stroke=\"#000000\" stroke-opacity=\"1\" stroke-width=\"3.2\"/>\n",
       "<circle clip-path=\"url(#clip792)\" cx=\"1212.78\" cy=\"879.377\" r=\"14.4\" fill=\"#009af9\" fill-rule=\"evenodd\" fill-opacity=\"1\" stroke=\"#000000\" stroke-opacity=\"1\" stroke-width=\"3.2\"/>\n",
       "<circle clip-path=\"url(#clip792)\" cx=\"405.471\" cy=\"1384.24\" r=\"14.4\" fill=\"#009af9\" fill-rule=\"evenodd\" fill-opacity=\"1\" stroke=\"#000000\" stroke-opacity=\"1\" stroke-width=\"3.2\"/>\n",
       "<circle clip-path=\"url(#clip792)\" cx=\"2278.75\" cy=\"86.1857\" r=\"14.4\" fill=\"#009af9\" fill-rule=\"evenodd\" fill-opacity=\"1\" stroke=\"#000000\" stroke-opacity=\"1\" stroke-width=\"3.2\"/>\n",
       "<circle clip-path=\"url(#clip792)\" cx=\"2290.1\" cy=\"167.422\" r=\"14.4\" fill=\"#009af9\" fill-rule=\"evenodd\" fill-opacity=\"1\" stroke=\"#000000\" stroke-opacity=\"1\" stroke-width=\"3.2\"/>\n",
       "<circle clip-path=\"url(#clip792)\" cx=\"717.271\" cy=\"1122.11\" r=\"14.4\" fill=\"#009af9\" fill-rule=\"evenodd\" fill-opacity=\"1\" stroke=\"#000000\" stroke-opacity=\"1\" stroke-width=\"3.2\"/>\n",
       "<circle clip-path=\"url(#clip792)\" cx=\"1872.45\" cy=\"541.517\" r=\"14.4\" fill=\"#009af9\" fill-rule=\"evenodd\" fill-opacity=\"1\" stroke=\"#000000\" stroke-opacity=\"1\" stroke-width=\"3.2\"/>\n",
       "<circle clip-path=\"url(#clip792)\" cx=\"558.298\" cy=\"1251.56\" r=\"14.4\" fill=\"#009af9\" fill-rule=\"evenodd\" fill-opacity=\"1\" stroke=\"#000000\" stroke-opacity=\"1\" stroke-width=\"3.2\"/>\n",
       "<circle clip-path=\"url(#clip792)\" cx=\"1385.37\" cy=\"789.973\" r=\"14.4\" fill=\"#009af9\" fill-rule=\"evenodd\" fill-opacity=\"1\" stroke=\"#000000\" stroke-opacity=\"1\" stroke-width=\"3.2\"/>\n",
       "<circle clip-path=\"url(#clip792)\" cx=\"802.127\" cy=\"1040.79\" r=\"14.4\" fill=\"#009af9\" fill-rule=\"evenodd\" fill-opacity=\"1\" stroke=\"#000000\" stroke-opacity=\"1\" stroke-width=\"3.2\"/>\n",
       "<circle clip-path=\"url(#clip792)\" cx=\"1075.68\" cy=\"1023.65\" r=\"14.4\" fill=\"#009af9\" fill-rule=\"evenodd\" fill-opacity=\"1\" stroke=\"#000000\" stroke-opacity=\"1\" stroke-width=\"3.2\"/>\n",
       "<circle clip-path=\"url(#clip792)\" cx=\"1563.24\" cy=\"673.15\" r=\"14.4\" fill=\"#009af9\" fill-rule=\"evenodd\" fill-opacity=\"1\" stroke=\"#000000\" stroke-opacity=\"1\" stroke-width=\"3.2\"/>\n",
       "<circle clip-path=\"url(#clip792)\" cx=\"811.388\" cy=\"1092.43\" r=\"14.4\" fill=\"#009af9\" fill-rule=\"evenodd\" fill-opacity=\"1\" stroke=\"#000000\" stroke-opacity=\"1\" stroke-width=\"3.2\"/>\n",
       "<circle clip-path=\"url(#clip792)\" cx=\"2188.63\" cy=\"241.481\" r=\"14.4\" fill=\"#009af9\" fill-rule=\"evenodd\" fill-opacity=\"1\" stroke=\"#000000\" stroke-opacity=\"1\" stroke-width=\"3.2\"/>\n",
       "<circle clip-path=\"url(#clip792)\" cx=\"2291.97\" cy=\"139.29\" r=\"14.4\" fill=\"#009af9\" fill-rule=\"evenodd\" fill-opacity=\"1\" stroke=\"#000000\" stroke-opacity=\"1\" stroke-width=\"3.2\"/>\n",
       "<circle clip-path=\"url(#clip792)\" cx=\"1663.83\" cy=\"630.054\" r=\"14.4\" fill=\"#009af9\" fill-rule=\"evenodd\" fill-opacity=\"1\" stroke=\"#000000\" stroke-opacity=\"1\" stroke-width=\"3.2\"/>\n",
       "<circle clip-path=\"url(#clip792)\" cx=\"295.425\" cy=\"1306.75\" r=\"14.4\" fill=\"#009af9\" fill-rule=\"evenodd\" fill-opacity=\"1\" stroke=\"#000000\" stroke-opacity=\"1\" stroke-width=\"3.2\"/>\n",
       "<path clip-path=\"url(#clip790)\" d=\"M276.709 196.789 L591.333 196.789 L591.333 93.1086 L276.709 93.1086  Z\" fill=\"#ffffff\" fill-rule=\"evenodd\" fill-opacity=\"1\"/>\n",
       "<polyline clip-path=\"url(#clip790)\" style=\"stroke:#000000; stroke-linecap:round; stroke-linejoin:round; stroke-width:4; stroke-opacity:1; fill:none\" points=\"276.709,196.789 591.333,196.789 591.333,93.1086 276.709,93.1086 276.709,196.789 \"/>\n",
       "<circle clip-path=\"url(#clip790)\" cx=\"372.159\" cy=\"144.949\" r=\"20.48\" fill=\"#009af9\" fill-rule=\"evenodd\" fill-opacity=\"1\" stroke=\"#000000\" stroke-opacity=\"1\" stroke-width=\"4.55111\"/>\n",
       "<path clip-path=\"url(#clip790)\" d=\"M486.522 140.238 L486.522 126.21 L490.781 126.21 L490.781 162.229 L486.522 162.229 L486.522 158.34 Q485.179 160.655 483.119 161.789 Q481.082 162.9 478.211 162.9 Q473.512 162.9 470.549 159.15 Q467.61 155.4 467.61 149.289 Q467.61 143.178 470.549 139.428 Q473.512 135.678 478.211 135.678 Q481.082 135.678 483.119 136.812 Q485.179 137.923 486.522 140.238 M472.008 149.289 Q472.008 153.988 473.929 156.673 Q475.874 159.335 479.253 159.335 Q482.633 159.335 484.577 156.673 Q486.522 153.988 486.522 149.289 Q486.522 144.59 484.577 141.928 Q482.633 139.243 479.253 139.243 Q475.874 139.243 473.929 141.928 Q472.008 144.59 472.008 149.289 Z\" fill=\"#000000\" fill-rule=\"nonzero\" fill-opacity=\"1\" /><path clip-path=\"url(#clip790)\" d=\"M511.336 149.196 Q506.174 149.196 504.184 150.377 Q502.193 151.557 502.193 154.405 Q502.193 156.673 503.674 158.016 Q505.179 159.335 507.748 159.335 Q511.29 159.335 513.42 156.835 Q515.572 154.312 515.572 150.145 L515.572 149.196 L511.336 149.196 M519.832 147.437 L519.832 162.229 L515.572 162.229 L515.572 158.293 Q514.114 160.655 511.938 161.789 Q509.762 162.9 506.614 162.9 Q502.633 162.9 500.272 160.678 Q497.934 158.432 497.934 154.682 Q497.934 150.307 500.85 148.085 Q503.79 145.863 509.6 145.863 L515.572 145.863 L515.572 145.446 Q515.572 142.507 513.628 140.909 Q511.707 139.289 508.211 139.289 Q505.989 139.289 503.883 139.821 Q501.776 140.354 499.832 141.419 L499.832 137.483 Q502.17 136.581 504.369 136.141 Q506.568 135.678 508.651 135.678 Q514.276 135.678 517.054 138.594 Q519.832 141.511 519.832 147.437 Z\" fill=\"#000000\" fill-rule=\"nonzero\" fill-opacity=\"1\" /><path clip-path=\"url(#clip790)\" d=\"M532.818 128.942 L532.818 136.303 L541.591 136.303 L541.591 139.613 L532.818 139.613 L532.818 153.687 Q532.818 156.858 533.674 157.761 Q534.554 158.664 537.216 158.664 L541.591 158.664 L541.591 162.229 L537.216 162.229 Q532.285 162.229 530.41 160.4 Q528.535 158.548 528.535 153.687 L528.535 139.613 L525.41 139.613 L525.41 136.303 L528.535 136.303 L528.535 128.942 L532.818 128.942 Z\" fill=\"#000000\" fill-rule=\"nonzero\" fill-opacity=\"1\" /><path clip-path=\"url(#clip790)\" d=\"M558.975 149.196 Q553.813 149.196 551.822 150.377 Q549.831 151.557 549.831 154.405 Q549.831 156.673 551.313 158.016 Q552.818 159.335 555.387 159.335 Q558.929 159.335 561.058 156.835 Q563.211 154.312 563.211 150.145 L563.211 149.196 L558.975 149.196 M567.47 147.437 L567.47 162.229 L563.211 162.229 L563.211 158.293 Q561.753 160.655 559.577 161.789 Q557.401 162.9 554.253 162.9 Q550.271 162.9 547.91 160.678 Q545.572 158.432 545.572 154.682 Q545.572 150.307 548.489 148.085 Q551.429 145.863 557.239 145.863 L563.211 145.863 L563.211 145.446 Q563.211 142.507 561.267 140.909 Q559.345 139.289 555.85 139.289 Q553.628 139.289 551.521 139.821 Q549.415 140.354 547.47 141.419 L547.47 137.483 Q549.808 136.581 552.007 136.141 Q554.206 135.678 556.29 135.678 Q561.915 135.678 564.693 138.594 Q567.47 141.511 567.47 147.437 Z\" fill=\"#000000\" fill-rule=\"nonzero\" fill-opacity=\"1\" /></svg>\n"
      ]
     },
     "metadata": {},
     "output_type": "display_data"
    }
   ],
   "source": [
    "using Plots, LinearAlgebra, LaTeXStrings\n",
    "\n",
    "# Parameters\n",
    "Σ = 1e5 * Diagonal(I,3) # Covariance matrix of prior on w\n",
    "σ2 = 2.0                # Noise variance\n",
    "\n",
    "# Generate data set\n",
    "w = [1.0; 2.0; 0.25]\n",
    "N = 30\n",
    "z = 10.0*rand(N)\n",
    "x_train = [[1.0; z; z^2] for z in z] # Feature vector x = [1.0; z; z^2]\n",
    "f(x) = (w'*x)[1]\n",
    "y_train = map(f, x_train) + sqrt(σ2)*randn(N) # y[i] = w' * x[i] + ϵ\n",
    "scatter(z, y_train, label=\"data\", xlabel=L\"z\", ylabel=L\"f([1.0, z, z^2]) + \\epsilon\")"
   ]
  },
  {
   "cell_type": "markdown",
   "metadata": {
    "slideshow": {
     "slide_type": "slide"
    }
   },
   "source": [
    "Now build the factor graph in RxInfer, perform sum-product message passing and plot results (mean of posterior)."
   ]
  },
  {
   "cell_type": "code",
   "execution_count": 7,
   "metadata": {},
   "outputs": [],
   "source": [
    "using RxInfer, Random"
   ]
  },
  {
   "cell_type": "code",
   "execution_count": 13,
   "metadata": {
    "slideshow": {
     "slide_type": "subslide"
    }
   },
   "outputs": [
    {
     "data": {
      "image/png": "[encoded data removed]",
      "image/svg+xml": [
       "<?xml version=\"1.0\" encoding=\"utf-8\"?>\n",
       "<svg xmlns=\"http://www.w3.org/2000/svg\" xmlns:xlink=\"http://www.w3.org/1999/xlink\" width=\"600\" height=\"400\" viewBox=\"0 0 2400 1600\">\n",
       "<defs>\n",
       "  <clipPath id=\"clip010\">\n",
       "    <rect x=\"0\" y=\"0\" width=\"2400\" height=\"1600\"/>\n",
       "  </clipPath>\n",
       "</defs>\n",
       "<path clip-path=\"url(#clip010)\" d=\"M0 1600 L2400 1600 L2400 0 L0 0  Z\" fill=\"#ffffff\" fill-rule=\"evenodd\" fill-opacity=\"1\"/>\n",
       "<defs>\n",
       "  <clipPath id=\"clip011\">\n",
       "    <rect x=\"480\" y=\"0\" width=\"1681\" height=\"1600\"/>\n",
       "  </clipPath>\n",
       "</defs>\n",
       "<path clip-path=\"url(#clip010)\" d=\"M205.121 1423.18 L2352.76 1423.18 L2352.76 47.2441 L205.121 47.2441  Z\" fill=\"#ffffff\" fill-rule=\"evenodd\" fill-opacity=\"1\"/>\n",
       "<defs>\n",
       "  <clipPath id=\"clip012\">\n",
       "    <rect x=\"205\" y=\"47\" width=\"2149\" height=\"1377\"/>\n",
       "  </clipPath>\n",
       "</defs>\n",
       "<polyline clip-path=\"url(#clip012)\" style=\"stroke:#000000; stroke-linecap:round; stroke-linejoin:round; stroke-width:2; stroke-opacity:0.1; fill:none\" points=\"265.903,1423.18 265.903,47.2441 \"/>\n",
       "<polyline clip-path=\"url(#clip012)\" style=\"stroke:#000000; stroke-linecap:round; stroke-linejoin:round; stroke-width:2; stroke-opacity:0.1; fill:none\" points=\"688.001,1423.18 688.001,47.2441 \"/>\n",
       "<polyline clip-path=\"url(#clip012)\" style=\"stroke:#000000; stroke-linecap:round; stroke-linejoin:round; stroke-width:2; stroke-opacity:0.1; fill:none\" points=\"1110.1,1423.18 1110.1,47.2441 \"/>\n",
       "<polyline clip-path=\"url(#clip012)\" style=\"stroke:#000000; stroke-linecap:round; stroke-linejoin:round; stroke-width:2; stroke-opacity:0.1; fill:none\" points=\"1532.2,1423.18 1532.2,47.2441 \"/>\n",
       "<polyline clip-path=\"url(#clip012)\" style=\"stroke:#000000; stroke-linecap:round; stroke-linejoin:round; stroke-width:2; stroke-opacity:0.1; fill:none\" points=\"1954.3,1423.18 1954.3,47.2441 \"/>\n",
       "<polyline clip-path=\"url(#clip010)\" style=\"stroke:#000000; stroke-linecap:round; stroke-linejoin:round; stroke-width:4; stroke-opacity:1; fill:none\" points=\"205.121,1423.18 2352.76,1423.18 \"/>\n",
       "<polyline clip-path=\"url(#clip010)\" style=\"stroke:#000000; stroke-linecap:round; stroke-linejoin:round; stroke-width:4; stroke-opacity:1; fill:none\" points=\"265.903,1423.18 265.903,1404.28 \"/>\n",
       "<polyline clip-path=\"url(#clip010)\" style=\"stroke:#000000; stroke-linecap:round; stroke-linejoin:round; stroke-width:4; stroke-opacity:1; fill:none\" points=\"688.001,1423.18 688.001,1404.28 \"/>\n",
       "<polyline clip-path=\"url(#clip010)\" style=\"stroke:#000000; stroke-linecap:round; stroke-linejoin:round; stroke-width:4; stroke-opacity:1; fill:none\" points=\"1110.1,1423.18 1110.1,1404.28 \"/>\n",
       "<polyline clip-path=\"url(#clip010)\" style=\"stroke:#000000; stroke-linecap:round; stroke-linejoin:round; stroke-width:4; stroke-opacity:1; fill:none\" points=\"1532.2,1423.18 1532.2,1404.28 \"/>\n",
       "<polyline clip-path=\"url(#clip010)\" style=\"stroke:#000000; stroke-linecap:round; stroke-linejoin:round; stroke-width:4; stroke-opacity:1; fill:none\" points=\"1954.3,1423.18 1954.3,1404.28 \"/>\n",
       "<path clip-path=\"url(#clip010)\" d=\"M243.287 1454.1 Q239.676 1454.1 237.848 1457.66 Q236.042 1461.2 236.042 1468.33 Q236.042 1475.44 237.848 1479.01 Q239.676 1482.55 243.287 1482.55 Q246.922 1482.55 248.727 1479.01 Q250.556 1475.44 250.556 1468.33 Q250.556 1461.2 248.727 1457.66 Q246.922 1454.1 243.287 1454.1 M243.287 1450.39 Q249.098 1450.39 252.153 1455 Q255.232 1459.58 255.232 1468.33 Q255.232 1477.06 252.153 1481.67 Q249.098 1486.25 243.287 1486.25 Q237.477 1486.25 234.399 1481.67 Q231.343 1477.06 231.343 1468.33 Q231.343 1459.58 234.399 1455 Q237.477 1450.39 243.287 1450.39 Z\" fill=\"#000000\" fill-rule=\"nonzero\" fill-opacity=\"1\" /><path clip-path=\"url(#clip010)\" d=\"M263.449 1479.7 L268.334 1479.7 L268.334 1485.58 L263.449 1485.58 L263.449 1479.7 Z\" fill=\"#000000\" fill-rule=\"nonzero\" fill-opacity=\"1\" /><path clip-path=\"url(#clip010)\" d=\"M288.519 1454.1 Q284.908 1454.1 283.079 1457.66 Q281.273 1461.2 281.273 1468.33 Q281.273 1475.44 283.079 1479.01 Q284.908 1482.55 288.519 1482.55 Q292.153 1482.55 293.959 1479.01 Q295.787 1475.44 295.787 1468.33 Q295.787 1461.2 293.959 1457.66 Q292.153 1454.1 288.519 1454.1 M288.519 1450.39 Q294.329 1450.39 297.384 1455 Q300.463 1459.58 300.463 1468.33 Q300.463 1477.06 297.384 1481.67 Q294.329 1486.25 288.519 1486.25 Q282.709 1486.25 279.63 1481.67 Q276.574 1477.06 276.574 1468.33 Q276.574 1459.58 279.63 1455 Q282.709 1450.39 288.519 1450.39 Z\" fill=\"#000000\" fill-rule=\"nonzero\" fill-opacity=\"1\" /><path clip-path=\"url(#clip010)\" d=\"M659.737 1481.64 L676.057 1481.64 L676.057 1485.58 L654.112 1485.58 L654.112 1481.64 Q656.774 1478.89 661.358 1474.26 Q665.964 1469.61 667.145 1468.27 Q669.39 1465.74 670.27 1464.01 Q671.173 1462.25 671.173 1460.56 Q671.173 1457.8 669.228 1456.07 Q667.307 1454.33 664.205 1454.33 Q662.006 1454.33 659.552 1455.09 Q657.122 1455.86 654.344 1457.41 L654.344 1452.69 Q657.168 1451.55 659.622 1450.97 Q662.075 1450.39 664.112 1450.39 Q669.483 1450.39 672.677 1453.08 Q675.872 1455.77 675.872 1460.26 Q675.872 1462.39 675.061 1464.31 Q674.274 1466.2 672.168 1468.8 Q671.589 1469.47 668.487 1472.69 Q665.386 1475.88 659.737 1481.64 Z\" fill=\"#000000\" fill-rule=\"nonzero\" fill-opacity=\"1\" /><path clip-path=\"url(#clip010)\" d=\"M685.872 1479.7 L690.756 1479.7 L690.756 1485.58 L685.872 1485.58 L685.872 1479.7 Z\" fill=\"#000000\" fill-rule=\"nonzero\" fill-opacity=\"1\" /><path clip-path=\"url(#clip010)\" d=\"M700.987 1451.02 L719.344 1451.02 L719.344 1454.96 L705.27 1454.96 L705.27 1463.43 Q706.288 1463.08 707.307 1462.92 Q708.325 1462.73 709.344 1462.73 Q715.131 1462.73 718.51 1465.9 Q721.89 1469.08 721.89 1474.49 Q721.89 1480.07 718.418 1483.17 Q714.945 1486.25 708.626 1486.25 Q706.45 1486.25 704.182 1485.88 Q701.936 1485.51 699.529 1484.77 L699.529 1480.07 Q701.612 1481.2 703.834 1481.76 Q706.057 1482.32 708.533 1482.32 Q712.538 1482.32 714.876 1480.21 Q717.214 1478.1 717.214 1474.49 Q717.214 1470.88 714.876 1468.77 Q712.538 1466.67 708.533 1466.67 Q706.658 1466.67 704.783 1467.08 Q702.932 1467.5 700.987 1468.38 L700.987 1451.02 Z\" fill=\"#000000\" fill-rule=\"nonzero\" fill-opacity=\"1\" /><path clip-path=\"url(#clip010)\" d=\"M1077.26 1451.02 L1095.62 1451.02 L1095.62 1454.96 L1081.55 1454.96 L1081.55 1463.43 Q1082.56 1463.08 1083.58 1462.92 Q1084.6 1462.73 1085.62 1462.73 Q1091.41 1462.73 1094.79 1465.9 Q1098.17 1469.08 1098.17 1474.49 Q1098.17 1480.07 1094.69 1483.17 Q1091.22 1486.25 1084.9 1486.25 Q1082.73 1486.25 1080.46 1485.88 Q1078.21 1485.51 1075.81 1484.77 L1075.81 1480.07 Q1077.89 1481.2 1080.11 1481.76 Q1082.33 1482.32 1084.81 1482.32 Q1088.81 1482.32 1091.15 1480.21 Q1093.49 1478.1 1093.49 1474.49 Q1093.49 1470.88 1091.15 1468.77 Q1088.81 1466.67 1084.81 1466.67 Q1082.94 1466.67 1081.06 1467.08 Q1079.21 1467.5 1077.26 1468.38 L1077.26 1451.02 Z\" fill=\"#000000\" fill-rule=\"nonzero\" fill-opacity=\"1\" /><path clip-path=\"url(#clip010)\" d=\"M1107.38 1479.7 L1112.26 1479.7 L1112.26 1485.58 L1107.38 1485.58 L1107.38 1479.7 Z\" fill=\"#000000\" fill-rule=\"nonzero\" fill-opacity=\"1\" /><path clip-path=\"url(#clip010)\" d=\"M1132.45 1454.1 Q1128.84 1454.1 1127.01 1457.66 Q1125.2 1461.2 1125.2 1468.33 Q1125.2 1475.44 1127.01 1479.01 Q1128.84 1482.55 1132.45 1482.55 Q1136.08 1482.55 1137.89 1479.01 Q1139.72 1475.44 1139.72 1468.33 Q1139.72 1461.2 1137.89 1457.66 Q1136.08 1454.1 1132.45 1454.1 M1132.45 1450.39 Q1138.26 1450.39 1141.31 1455 Q1144.39 1459.58 1144.39 1468.33 Q1144.39 1477.06 1141.31 1481.67 Q1138.26 1486.25 1132.45 1486.25 Q1126.64 1486.25 1123.56 1481.67 Q1120.5 1477.06 1120.5 1468.33 Q1120.5 1459.58 1123.56 1455 Q1126.64 1450.39 1132.45 1450.39 Z\" fill=\"#000000\" fill-rule=\"nonzero\" fill-opacity=\"1\" /><path clip-path=\"url(#clip010)\" d=\"M1498.52 1451.02 L1520.74 1451.02 L1520.74 1453.01 L1508.19 1485.58 L1503.31 1485.58 L1515.11 1454.96 L1498.52 1454.96 L1498.52 1451.02 Z\" fill=\"#000000\" fill-rule=\"nonzero\" fill-opacity=\"1\" /><path clip-path=\"url(#clip010)\" d=\"M1529.86 1479.7 L1534.74 1479.7 L1534.74 1485.58 L1529.86 1485.58 L1529.86 1479.7 Z\" fill=\"#000000\" fill-rule=\"nonzero\" fill-opacity=\"1\" /><path clip-path=\"url(#clip010)\" d=\"M1544.97 1451.02 L1563.33 1451.02 L1563.33 1454.96 L1549.26 1454.96 L1549.26 1463.43 Q1550.28 1463.08 1551.29 1462.92 Q1552.31 1462.73 1553.33 1462.73 Q1559.12 1462.73 1562.5 1465.9 Q1565.88 1469.08 1565.88 1474.49 Q1565.88 1480.07 1562.41 1483.17 Q1558.93 1486.25 1552.61 1486.25 Q1550.44 1486.25 1548.17 1485.88 Q1545.92 1485.51 1543.52 1484.77 L1543.52 1480.07 Q1545.6 1481.2 1547.82 1481.76 Q1550.04 1482.32 1552.52 1482.32 Q1556.53 1482.32 1558.86 1480.21 Q1561.2 1478.1 1561.2 1474.49 Q1561.2 1470.88 1558.86 1468.77 Q1556.53 1466.67 1552.52 1466.67 Q1550.65 1466.67 1548.77 1467.08 Q1546.92 1467.5 1544.97 1468.38 L1544.97 1451.02 Z\" fill=\"#000000\" fill-rule=\"nonzero\" fill-opacity=\"1\" /><path clip-path=\"url(#clip010)\" d=\"M1906.37 1481.64 L1914.01 1481.64 L1914.01 1455.28 L1905.7 1456.95 L1905.7 1452.69 L1913.96 1451.02 L1918.64 1451.02 L1918.64 1481.64 L1926.27 1481.64 L1926.27 1485.58 L1906.37 1485.58 L1906.37 1481.64 Z\" fill=\"#000000\" fill-rule=\"nonzero\" fill-opacity=\"1\" /><path clip-path=\"url(#clip010)\" d=\"M1945.72 1454.1 Q1942.11 1454.1 1940.28 1457.66 Q1938.47 1461.2 1938.47 1468.33 Q1938.47 1475.44 1940.28 1479.01 Q1942.11 1482.55 1945.72 1482.55 Q1949.35 1482.55 1951.16 1479.01 Q1952.99 1475.44 1952.99 1468.33 Q1952.99 1461.2 1951.16 1457.66 Q1949.35 1454.1 1945.72 1454.1 M1945.72 1450.39 Q1951.53 1450.39 1954.58 1455 Q1957.66 1459.58 1957.66 1468.33 Q1957.66 1477.06 1954.58 1481.67 Q1951.53 1486.25 1945.72 1486.25 Q1939.91 1486.25 1936.83 1481.67 Q1933.77 1477.06 1933.77 1468.33 Q1933.77 1459.58 1936.83 1455 Q1939.91 1450.39 1945.72 1450.39 Z\" fill=\"#000000\" fill-rule=\"nonzero\" fill-opacity=\"1\" /><path clip-path=\"url(#clip010)\" d=\"M1965.88 1479.7 L1970.77 1479.7 L1970.77 1485.58 L1965.88 1485.58 L1965.88 1479.7 Z\" fill=\"#000000\" fill-rule=\"nonzero\" fill-opacity=\"1\" /><path clip-path=\"url(#clip010)\" d=\"M1990.95 1454.1 Q1987.34 1454.1 1985.51 1457.66 Q1983.7 1461.2 1983.7 1468.33 Q1983.7 1475.44 1985.51 1479.01 Q1987.34 1482.55 1990.95 1482.55 Q1994.58 1482.55 1996.39 1479.01 Q1998.22 1475.44 1998.22 1468.33 Q1998.22 1461.2 1996.39 1457.66 Q1994.58 1454.1 1990.95 1454.1 M1990.95 1450.39 Q1996.76 1450.39 1999.82 1455 Q2002.89 1459.58 2002.89 1468.33 Q2002.89 1477.06 1999.82 1481.67 Q1996.76 1486.25 1990.95 1486.25 Q1985.14 1486.25 1982.06 1481.67 Q1979.01 1477.06 1979.01 1468.33 Q1979.01 1459.58 1982.06 1455 Q1985.14 1450.39 1990.95 1450.39 Z\" fill=\"#000000\" fill-rule=\"nonzero\" fill-opacity=\"1\" /><path clip-path=\"url(#clip010)\" d=\"M1291.71 1525.1 Q1291.71 1525.33 1291.16 1526.29 Q1290.65 1527.23 1288.75 1529.58 Q1286.85 1531.93 1284.01 1534.67 Q1282.95 1535.73 1281.34 1537.21 Q1279.73 1538.69 1278.63 1539.66 L1277.54 1540.62 Q1273.35 1544.17 1269.68 1548.13 Q1269.94 1548.03 1270.39 1548 Q1270.84 1547.93 1271.16 1547.93 L1271.48 1547.93 Q1273.16 1547.93 1276.09 1549.06 Q1278.67 1549.9 1279.99 1549.9 Q1281.27 1549.9 1282.69 1549.45 Q1284.11 1549 1285.65 1547.68 Q1287.2 1546.36 1287.91 1544.36 Q1288.04 1544.04 1288.1 1543.94 Q1288.17 1543.81 1288.36 1543.68 Q1288.55 1543.52 1288.81 1543.52 Q1289.17 1543.52 1289.39 1543.71 Q1289.62 1543.91 1289.62 1544.17 Q1289.62 1544.75 1289.17 1545.9 Q1288.75 1547.06 1287.81 1548.51 Q1286.91 1549.96 1285.72 1551.28 Q1284.56 1552.57 1282.82 1553.47 Q1281.08 1554.34 1279.25 1554.34 Q1277.93 1554.34 1276.96 1553.7 Q1275.99 1553.09 1275.03 1551.9 Q1273.71 1550.38 1273 1549.9 Q1272.29 1549.38 1271.19 1549.38 Q1268.26 1549.38 1265.59 1553.47 Q1265.3 1554.05 1265.11 1554.18 Q1264.95 1554.34 1264.56 1554.34 Q1263.75 1554.31 1263.75 1553.67 Q1263.75 1553.41 1264.46 1552.28 Q1265.2 1551.12 1266.85 1549.09 Q1268.52 1547.06 1270.55 1545.04 L1276.48 1539.5 Q1283.05 1533.96 1285.65 1530.83 Q1284.56 1530.83 1284.08 1530.8 Q1283.63 1530.77 1282.72 1530.57 Q1281.82 1530.35 1280.57 1529.87 Q1277.64 1528.87 1276.41 1528.87 Q1276.09 1528.87 1275.74 1528.9 Q1275.38 1528.93 1274.58 1529.09 Q1273.8 1529.25 1273.16 1529.58 Q1272.51 1529.87 1271.84 1530.51 Q1271.16 1531.12 1270.81 1531.96 Q1270.71 1532.22 1270.65 1532.35 Q1270.58 1532.48 1270.39 1532.6 Q1270.23 1532.7 1269.97 1532.7 Q1269.58 1532.7 1269.36 1532.48 Q1269.17 1532.25 1269.17 1531.96 Q1269.17 1531.38 1269.75 1530.19 Q1270.32 1529 1271.29 1527.71 Q1272.26 1526.39 1273.84 1525.42 Q1275.41 1524.46 1277.15 1524.46 Q1278.18 1524.46 1279.05 1524.91 Q1279.95 1525.36 1280.41 1525.84 Q1280.89 1526.29 1281.69 1527.29 Q1282.37 1528.06 1282.69 1528.38 Q1283.01 1528.71 1283.66 1529.06 Q1284.33 1529.38 1285.08 1529.38 Q1286.3 1529.38 1287.43 1528.45 Q1288.55 1527.48 1290 1525.16 Q1290.39 1524.46 1291 1524.46 Q1291.71 1524.46 1291.71 1525.1 Z\" fill=\"#000000\" fill-rule=\"nonzero\" fill-opacity=\"1\" /><polyline clip-path=\"url(#clip012)\" style=\"stroke:#000000; stroke-linecap:round; stroke-linejoin:round; stroke-width:2; stroke-opacity:0.1; fill:none\" points=\"205.121,1371.86 2352.76,1371.86 \"/>\n",
       "<polyline clip-path=\"url(#clip012)\" style=\"stroke:#000000; stroke-linecap:round; stroke-linejoin:round; stroke-width:2; stroke-opacity:0.1; fill:none\" points=\"205.121,1164.82 2352.76,1164.82 \"/>\n",
       "<polyline clip-path=\"url(#clip012)\" style=\"stroke:#000000; stroke-linecap:round; stroke-linejoin:round; stroke-width:2; stroke-opacity:0.1; fill:none\" points=\"205.121,957.79 2352.76,957.79 \"/>\n",
       "<polyline clip-path=\"url(#clip012)\" style=\"stroke:#000000; stroke-linecap:round; stroke-linejoin:round; stroke-width:2; stroke-opacity:0.1; fill:none\" points=\"205.121,750.757 2352.76,750.757 \"/>\n",
       "<polyline clip-path=\"url(#clip012)\" style=\"stroke:#000000; stroke-linecap:round; stroke-linejoin:round; stroke-width:2; stroke-opacity:0.1; fill:none\" points=\"205.121,543.724 2352.76,543.724 \"/>\n",
       "<polyline clip-path=\"url(#clip012)\" style=\"stroke:#000000; stroke-linecap:round; stroke-linejoin:round; stroke-width:2; stroke-opacity:0.1; fill:none\" points=\"205.121,336.692 2352.76,336.692 \"/>\n",
       "<polyline clip-path=\"url(#clip012)\" style=\"stroke:#000000; stroke-linecap:round; stroke-linejoin:round; stroke-width:2; stroke-opacity:0.1; fill:none\" points=\"205.121,129.659 2352.76,129.659 \"/>\n",
       "<polyline clip-path=\"url(#clip010)\" style=\"stroke:#000000; stroke-linecap:round; stroke-linejoin:round; stroke-width:4; stroke-opacity:1; fill:none\" points=\"205.121,1423.18 205.121,47.2441 \"/>\n",
       "<polyline clip-path=\"url(#clip010)\" style=\"stroke:#000000; stroke-linecap:round; stroke-linejoin:round; stroke-width:4; stroke-opacity:1; fill:none\" points=\"205.121,1371.86 224.019,1371.86 \"/>\n",
       "<polyline clip-path=\"url(#clip010)\" style=\"stroke:#000000; stroke-linecap:round; stroke-linejoin:round; stroke-width:4; stroke-opacity:1; fill:none\" points=\"205.121,1164.82 224.019,1164.82 \"/>\n",
       "<polyline clip-path=\"url(#clip010)\" style=\"stroke:#000000; stroke-linecap:round; stroke-linejoin:round; stroke-width:4; stroke-opacity:1; fill:none\" points=\"205.121,957.79 224.019,957.79 \"/>\n",
       "<polyline clip-path=\"url(#clip010)\" style=\"stroke:#000000; stroke-linecap:round; stroke-linejoin:round; stroke-width:4; stroke-opacity:1; fill:none\" points=\"205.121,750.757 224.019,750.757 \"/>\n",
       "<polyline clip-path=\"url(#clip010)\" style=\"stroke:#000000; stroke-linecap:round; stroke-linejoin:round; stroke-width:4; stroke-opacity:1; fill:none\" points=\"205.121,543.724 224.019,543.724 \"/>\n",
       "<polyline clip-path=\"url(#clip010)\" style=\"stroke:#000000; stroke-linecap:round; stroke-linejoin:round; stroke-width:4; stroke-opacity:1; fill:none\" points=\"205.121,336.692 224.019,336.692 \"/>\n",
       "<polyline clip-path=\"url(#clip010)\" style=\"stroke:#000000; stroke-linecap:round; stroke-linejoin:round; stroke-width:4; stroke-opacity:1; fill:none\" points=\"205.121,129.659 224.019,129.659 \"/>\n",
       "<path clip-path=\"url(#clip010)\" d=\"M157.177 1357.65 Q153.566 1357.65 151.737 1361.22 Q149.931 1364.76 149.931 1371.89 Q149.931 1379 151.737 1382.56 Q153.566 1386.1 157.177 1386.1 Q160.811 1386.1 162.616 1382.56 Q164.445 1379 164.445 1371.89 Q164.445 1364.76 162.616 1361.22 Q160.811 1357.65 157.177 1357.65 M157.177 1353.95 Q162.987 1353.95 166.042 1358.56 Q169.121 1363.14 169.121 1371.89 Q169.121 1380.62 166.042 1385.22 Q162.987 1389.81 157.177 1389.81 Q151.366 1389.81 148.288 1385.22 Q145.232 1380.62 145.232 1371.89 Q145.232 1363.14 148.288 1358.56 Q151.366 1353.95 157.177 1353.95 Z\" fill=\"#000000\" fill-rule=\"nonzero\" fill-opacity=\"1\" /><path clip-path=\"url(#clip010)\" d=\"M117.825 1178.17 L125.464 1178.17 L125.464 1151.8 L117.154 1153.47 L117.154 1149.21 L125.418 1147.54 L130.093 1147.54 L130.093 1178.17 L137.732 1178.17 L137.732 1182.1 L117.825 1182.1 L117.825 1178.17 Z\" fill=\"#000000\" fill-rule=\"nonzero\" fill-opacity=\"1\" /><path clip-path=\"url(#clip010)\" d=\"M157.177 1150.62 Q153.566 1150.62 151.737 1154.19 Q149.931 1157.73 149.931 1164.86 Q149.931 1171.96 151.737 1175.53 Q153.566 1179.07 157.177 1179.07 Q160.811 1179.07 162.616 1175.53 Q164.445 1171.96 164.445 1164.86 Q164.445 1157.73 162.616 1154.19 Q160.811 1150.62 157.177 1150.62 M157.177 1146.92 Q162.987 1146.92 166.042 1151.52 Q169.121 1156.11 169.121 1164.86 Q169.121 1173.58 166.042 1178.19 Q162.987 1182.77 157.177 1182.77 Q151.366 1182.77 148.288 1178.19 Q145.232 1173.58 145.232 1164.86 Q145.232 1156.11 148.288 1151.52 Q151.366 1146.92 157.177 1146.92 Z\" fill=\"#000000\" fill-rule=\"nonzero\" fill-opacity=\"1\" /><path clip-path=\"url(#clip010)\" d=\"M121.043 971.135 L137.362 971.135 L137.362 975.07 L115.418 975.07 L115.418 971.135 Q118.08 968.381 122.663 963.751 Q127.269 959.098 128.45 957.756 Q130.695 955.232 131.575 953.496 Q132.478 951.737 132.478 950.047 Q132.478 947.293 130.533 945.557 Q128.612 943.82 125.51 943.82 Q123.311 943.82 120.857 944.584 Q118.427 945.348 115.649 946.899 L115.649 942.177 Q118.473 941.043 120.927 940.464 Q123.38 939.885 125.418 939.885 Q130.788 939.885 133.982 942.57 Q137.177 945.256 137.177 949.746 Q137.177 951.876 136.367 953.797 Q135.579 955.695 133.473 958.288 Q132.894 958.959 129.792 962.177 Q126.691 965.371 121.043 971.135 Z\" fill=\"#000000\" fill-rule=\"nonzero\" fill-opacity=\"1\" /><path clip-path=\"url(#clip010)\" d=\"M157.177 943.589 Q153.566 943.589 151.737 947.154 Q149.931 950.695 149.931 957.825 Q149.931 964.931 151.737 968.496 Q153.566 972.038 157.177 972.038 Q160.811 972.038 162.616 968.496 Q164.445 964.931 164.445 957.825 Q164.445 950.695 162.616 947.154 Q160.811 943.589 157.177 943.589 M157.177 939.885 Q162.987 939.885 166.042 944.492 Q169.121 949.075 169.121 957.825 Q169.121 966.552 166.042 971.158 Q162.987 975.742 157.177 975.742 Q151.366 975.742 148.288 971.158 Q145.232 966.552 145.232 957.825 Q145.232 949.075 148.288 944.492 Q151.366 939.885 157.177 939.885 Z\" fill=\"#000000\" fill-rule=\"nonzero\" fill-opacity=\"1\" /><path clip-path=\"url(#clip010)\" d=\"M131.181 749.403 Q134.538 750.121 136.413 752.389 Q138.311 754.658 138.311 757.991 Q138.311 763.107 134.792 765.908 Q131.274 768.709 124.793 768.709 Q122.617 768.709 120.302 768.269 Q118.01 767.852 115.556 766.996 L115.556 762.482 Q117.501 763.616 119.816 764.195 Q122.13 764.774 124.654 764.774 Q129.052 764.774 131.343 763.037 Q133.658 761.301 133.658 757.991 Q133.658 754.936 131.505 753.223 Q129.376 751.487 125.556 751.487 L121.529 751.487 L121.529 747.644 L125.742 747.644 Q129.191 747.644 131.019 746.278 Q132.848 744.889 132.848 742.297 Q132.848 739.635 130.95 738.223 Q129.075 736.788 125.556 736.788 Q123.635 736.788 121.436 737.204 Q119.237 737.621 116.598 738.501 L116.598 734.334 Q119.26 733.593 121.575 733.223 Q123.913 732.852 125.973 732.852 Q131.297 732.852 134.399 735.283 Q137.501 737.69 137.501 741.811 Q137.501 744.681 135.857 746.672 Q134.214 748.639 131.181 749.403 Z\" fill=\"#000000\" fill-rule=\"nonzero\" fill-opacity=\"1\" /><path clip-path=\"url(#clip010)\" d=\"M157.177 736.556 Q153.566 736.556 151.737 740.121 Q149.931 743.663 149.931 750.792 Q149.931 757.899 151.737 761.463 Q153.566 765.005 157.177 765.005 Q160.811 765.005 162.616 761.463 Q164.445 757.899 164.445 750.792 Q164.445 743.663 162.616 740.121 Q160.811 736.556 157.177 736.556 M157.177 732.852 Q162.987 732.852 166.042 737.459 Q169.121 742.042 169.121 750.792 Q169.121 759.519 166.042 764.125 Q162.987 768.709 157.177 768.709 Q151.366 768.709 148.288 764.125 Q145.232 759.519 145.232 750.792 Q145.232 742.042 148.288 737.459 Q151.366 732.852 157.177 732.852 Z\" fill=\"#000000\" fill-rule=\"nonzero\" fill-opacity=\"1\" /><path clip-path=\"url(#clip010)\" d=\"M129.862 530.519 L118.056 548.968 L129.862 548.968 L129.862 530.519 M128.635 526.444 L134.515 526.444 L134.515 548.968 L139.445 548.968 L139.445 552.856 L134.515 552.856 L134.515 561.004 L129.862 561.004 L129.862 552.856 L114.26 552.856 L114.26 548.343 L128.635 526.444 Z\" fill=\"#000000\" fill-rule=\"nonzero\" fill-opacity=\"1\" /><path clip-path=\"url(#clip010)\" d=\"M157.177 529.523 Q153.566 529.523 151.737 533.088 Q149.931 536.63 149.931 543.759 Q149.931 550.866 151.737 554.43 Q153.566 557.972 157.177 557.972 Q160.811 557.972 162.616 554.43 Q164.445 550.866 164.445 543.759 Q164.445 536.63 162.616 533.088 Q160.811 529.523 157.177 529.523 M157.177 525.819 Q162.987 525.819 166.042 530.426 Q169.121 535.009 169.121 543.759 Q169.121 552.486 166.042 557.092 Q162.987 561.676 157.177 561.676 Q151.366 561.676 148.288 557.092 Q145.232 552.486 145.232 543.759 Q145.232 535.009 148.288 530.426 Q151.366 525.819 157.177 525.819 Z\" fill=\"#000000\" fill-rule=\"nonzero\" fill-opacity=\"1\" /><path clip-path=\"url(#clip010)\" d=\"M117.061 319.412 L135.417 319.412 L135.417 323.347 L121.343 323.347 L121.343 331.819 Q122.362 331.472 123.38 331.31 Q124.399 331.124 125.418 331.124 Q131.205 331.124 134.584 334.296 Q137.964 337.467 137.964 342.884 Q137.964 348.462 134.492 351.564 Q131.019 354.643 124.7 354.643 Q122.524 354.643 120.255 354.273 Q118.01 353.902 115.603 353.161 L115.603 348.462 Q117.686 349.597 119.908 350.152 Q122.13 350.708 124.607 350.708 Q128.612 350.708 130.95 348.601 Q133.288 346.495 133.288 342.884 Q133.288 339.273 130.95 337.166 Q128.612 335.06 124.607 335.06 Q122.732 335.06 120.857 335.476 Q119.006 335.893 117.061 336.773 L117.061 319.412 Z\" fill=\"#000000\" fill-rule=\"nonzero\" fill-opacity=\"1\" /><path clip-path=\"url(#clip010)\" d=\"M157.177 322.49 Q153.566 322.49 151.737 326.055 Q149.931 329.597 149.931 336.726 Q149.931 343.833 151.737 347.398 Q153.566 350.939 157.177 350.939 Q160.811 350.939 162.616 347.398 Q164.445 343.833 164.445 336.726 Q164.445 329.597 162.616 326.055 Q160.811 322.49 157.177 322.49 M157.177 318.787 Q162.987 318.787 166.042 323.393 Q169.121 327.976 169.121 336.726 Q169.121 345.453 166.042 350.06 Q162.987 354.643 157.177 354.643 Q151.366 354.643 148.288 350.06 Q145.232 345.453 145.232 336.726 Q145.232 327.976 148.288 323.393 Q151.366 318.787 157.177 318.787 Z\" fill=\"#000000\" fill-rule=\"nonzero\" fill-opacity=\"1\" /><path clip-path=\"url(#clip010)\" d=\"M127.593 127.795 Q124.445 127.795 122.593 129.948 Q120.765 132.101 120.765 135.851 Q120.765 139.578 122.593 141.754 Q124.445 143.906 127.593 143.906 Q130.742 143.906 132.57 141.754 Q134.422 139.578 134.422 135.851 Q134.422 132.101 132.57 129.948 Q130.742 127.795 127.593 127.795 M136.876 113.143 L136.876 117.402 Q135.117 116.568 133.311 116.129 Q131.529 115.689 129.769 115.689 Q125.14 115.689 122.686 118.814 Q120.255 121.939 119.908 128.258 Q121.274 126.244 123.334 125.18 Q125.394 124.092 127.871 124.092 Q133.08 124.092 136.089 127.263 Q139.121 130.411 139.121 135.851 Q139.121 141.175 135.973 144.392 Q132.825 147.61 127.593 147.61 Q121.598 147.61 118.427 143.027 Q115.256 138.42 115.256 129.693 Q115.256 121.499 119.144 116.638 Q123.033 111.754 129.584 111.754 Q131.343 111.754 133.126 112.101 Q134.931 112.448 136.876 113.143 Z\" fill=\"#000000\" fill-rule=\"nonzero\" fill-opacity=\"1\" /><path clip-path=\"url(#clip010)\" d=\"M157.177 115.457 Q153.566 115.457 151.737 119.022 Q149.931 122.564 149.931 129.693 Q149.931 136.8 151.737 140.365 Q153.566 143.906 157.177 143.906 Q160.811 143.906 162.616 140.365 Q164.445 136.8 164.445 129.693 Q164.445 122.564 162.616 119.022 Q160.811 115.457 157.177 115.457 M157.177 111.754 Q162.987 111.754 166.042 116.36 Q169.121 120.943 169.121 129.693 Q169.121 138.42 166.042 143.027 Q162.987 147.61 157.177 147.61 Q151.366 147.61 148.288 143.027 Q145.232 138.42 145.232 129.693 Q145.232 120.943 148.288 116.36 Q151.366 111.754 157.177 111.754 Z\" fill=\"#000000\" fill-rule=\"nonzero\" fill-opacity=\"1\" /><path clip-path=\"url(#clip010)\" d=\"M24.7187 937.85 Q26.49 937.85 27.585 938.977 Q28.68 940.072 28.68 941.457 Q28.68 942.455 28.0681 943.196 Q27.4562 943.905 26.3934 943.905 Q25.2984 943.905 24.139 943.067 Q22.9796 942.23 22.8185 940.33 Q21.6269 941.586 21.6269 943.583 Q21.6269 944.581 22.271 945.418 Q22.883 946.223 23.8813 946.674 Q24.9119 947.157 30.7412 948.252 Q32.6413 948.607 34.4771 948.929 Q36.3128 949.251 38.2451 949.637 L38.2451 944.162 Q38.2451 943.454 38.2774 943.164 Q38.3096 942.874 38.4706 942.649 Q38.6316 942.391 38.9859 942.391 Q39.8876 942.391 40.1131 942.81 Q40.3063 943.196 40.3063 944.355 L40.3063 950.024 L61.2079 953.985 Q61.8198 954.082 63.7522 954.5 Q65.6523 954.887 68.7763 955.821 Q71.9325 956.755 73.8004 957.689 Q74.8632 958.204 75.8616 958.88 Q76.8922 959.524 77.9228 960.458 Q78.9534 961.392 79.5653 962.616 Q80.2094 963.84 80.2094 965.128 Q80.2094 967.318 78.9856 969.025 Q77.7617 970.732 75.6684 970.732 Q73.897 970.732 72.802 969.637 Q71.707 968.51 71.707 967.125 Q71.707 966.127 72.3189 965.418 Q72.9309 964.677 73.9937 964.677 Q74.4445 964.677 74.9598 964.838 Q75.4751 964.999 76.0548 965.354 Q76.6667 965.708 77.0854 966.481 Q77.5041 967.254 77.5685 968.317 Q78.7601 967.061 78.7601 965.128 Q78.7601 964.516 78.5025 963.969 Q78.277 963.421 77.6973 962.97 Q77.1176 962.487 76.5379 962.133 Q75.9904 961.779 74.9276 961.425 Q73.897 961.07 73.1241 960.845 Q72.3512 960.619 70.9663 960.33 Q69.5815 960.008 68.7441 959.847 Q67.939 959.685 66.3609 959.396 L40.3063 954.468 L40.3063 958.816 Q40.3063 959.589 40.2741 959.911 Q40.2419 960.201 40.0809 960.426 Q39.8876 960.652 39.5012 960.652 Q38.8893 960.652 38.6316 960.394 Q38.3418 960.104 38.3096 959.782 Q38.2451 959.46 38.2451 958.687 L38.2451 954.114 Q30.0971 952.568 27.9071 951.956 Q25.5882 951.248 23.978 950.153 Q22.3355 949.058 21.5625 947.834 Q20.7896 946.61 20.4997 945.612 Q20.1777 944.581 20.1777 943.583 Q20.1777 941.328 21.4015 939.589 Q22.5931 937.85 24.7187 937.85 Z\" fill=\"#000000\" fill-rule=\"nonzero\" fill-opacity=\"1\" /><path clip-path=\"url(#clip010)\" d=\"M50.1935 928.97 Q39.0503 928.97 30.0649 924.815 Q26.2968 923.044 23.1406 920.564 Q19.9844 918.084 18.5996 916.442 Q17.2147 914.799 17.2147 914.348 Q17.2147 913.704 17.8588 913.672 Q18.1809 913.672 18.986 914.542 Q29.8072 925.17 50.1935 925.137 Q70.6442 925.137 81.0467 914.799 Q82.1739 913.672 82.5282 913.672 Q83.1723 913.672 83.1723 914.348 Q83.1723 914.799 81.8519 916.377 Q80.5314 917.956 77.5041 920.403 Q74.4767 922.851 70.7731 924.622 Q61.7876 928.97 50.1935 928.97 Z\" fill=\"#000000\" fill-rule=\"nonzero\" fill-opacity=\"1\" /><path clip-path=\"url(#clip010)\" d=\"M83.1723 902.322 L17.2147 902.322 L17.2147 892.371 L18.7284 892.371 L18.7284 897.91 L81.6586 897.91 L81.6586 892.371 L83.1723 892.371 L83.1723 902.322 Z\" fill=\"#000000\" fill-rule=\"nonzero\" fill-opacity=\"1\" /><path clip-path=\"url(#clip010)\" d=\"M29.0343 887.34 L26.9731 887.34 Q26.9731 879.418 22.7541 875.327 Q22.7541 874.2 23.0118 874.007 Q23.2694 873.814 24.461 873.814 L61.4656 873.814 Q63.4301 873.814 64.042 872.848 Q64.654 871.881 64.654 867.662 L64.654 865.569 L66.6829 865.569 Q66.4897 867.888 66.4897 876.261 Q66.4897 884.635 66.6829 886.922 L64.654 886.922 L64.654 884.828 Q64.654 880.674 64.0742 879.675 Q63.4623 878.677 61.4656 878.677 L27.2952 878.677 Q29.0343 882.123 29.0343 887.34 Z\" fill=\"#000000\" fill-rule=\"nonzero\" fill-opacity=\"1\" /><path clip-path=\"url(#clip010)\" d=\"M65.6201 860.428 Q64.5573 861.426 63.1725 861.426 Q61.7876 861.426 60.7893 860.428 Q59.7587 859.429 59.7587 857.916 Q59.7587 856.466 60.7248 855.5 Q61.6588 854.502 63.2047 854.502 Q64.7184 854.502 65.7167 855.565 Q66.6829 856.595 66.6829 857.916 Q66.6829 859.429 65.6201 860.428 Z\" fill=\"#000000\" fill-rule=\"nonzero\" fill-opacity=\"1\" /><path clip-path=\"url(#clip010)\" d=\"M45.5881 843.276 Q35.8941 843.276 30.6124 840.828 Q22.7541 837.414 22.7541 829.363 Q22.7541 827.656 23.2372 825.885 Q23.6881 824.081 25.4594 821.827 Q27.2307 819.54 30.1293 818.155 Q35.7331 815.515 45.5881 815.515 Q55.2176 815.515 60.4672 817.962 Q68.1322 821.537 68.1322 829.427 Q68.1322 832.39 66.6185 835.418 Q65.1048 838.413 61.4656 840.313 Q56.0228 843.276 45.5881 843.276 M44.7829 837.801 Q54.7345 837.801 58.6959 837.092 Q62.9792 836.287 64.8472 834.097 Q66.6829 831.875 66.6829 829.427 Q66.6829 826.787 64.7184 824.597 Q62.7216 822.374 58.4382 821.698 Q54.2193 820.957 44.7829 820.99 Q35.6043 820.99 31.9328 821.634 Q27.6494 822.503 25.9425 824.822 Q24.2034 827.109 24.2034 829.427 Q24.2034 830.297 24.461 831.231 Q24.7187 832.133 25.4594 833.453 Q26.2002 834.774 28.0359 835.804 Q29.8716 836.803 32.6413 837.286 Q36.2162 837.801 44.7829 837.801 Z\" fill=\"#000000\" fill-rule=\"nonzero\" fill-opacity=\"1\" /><path clip-path=\"url(#clip010)\" d=\"M65.6201 809.678 Q64.5573 810.612 63.1725 810.612 Q61.7876 810.612 60.757 809.71 Q59.6943 808.776 59.6943 807.101 Q59.6943 805.137 61.5944 804.01 Q63.4623 802.882 66.6185 802.882 Q70.0323 802.882 73.1885 804.267 Q76.3769 805.652 77.8906 807.005 Q79.4042 808.357 79.4042 808.905 Q79.4042 809.549 78.6957 809.549 Q78.4381 809.549 77.955 809.098 Q72.8664 804.364 66.6185 804.332 Q65.6201 804.332 65.6201 804.461 L65.749 804.622 Q66.6829 805.749 66.6829 807.101 Q66.6829 808.744 65.6201 809.678 Z\" fill=\"#000000\" fill-rule=\"nonzero\" fill-opacity=\"1\" /><path clip-path=\"url(#clip010)\" d=\"M38.1807 754.112 Q38.4062 754.112 39.3724 754.66 Q40.3063 755.175 42.6574 757.075 Q45.0084 758.975 47.7459 761.809 Q48.8087 762.872 50.2901 764.482 Q51.7716 766.093 52.7378 767.188 L53.704 768.283 Q57.2466 772.469 61.2079 776.141 Q61.1113 775.883 61.0791 775.432 Q61.0147 774.982 61.0147 774.659 L61.0147 774.337 Q61.0147 772.663 62.1419 769.732 Q62.9792 767.156 62.9792 765.835 Q62.9792 764.547 62.5284 763.13 Q62.0775 761.713 60.757 760.167 Q59.4366 758.621 57.4398 757.912 Q57.1178 757.784 57.0212 757.719 Q56.8923 757.655 56.7635 757.462 Q56.6025 757.268 56.6025 757.011 Q56.6025 756.656 56.7957 756.431 Q56.989 756.206 57.2466 756.206 Q57.8263 756.206 58.9857 756.656 Q60.1451 757.075 61.5944 758.009 Q63.0437 758.911 64.3641 760.102 Q65.6523 761.262 66.5541 763.001 Q67.4237 764.74 67.4237 766.576 Q67.4237 767.896 66.7795 768.862 Q66.1676 769.829 64.976 770.795 Q63.4623 772.115 62.9792 772.824 Q62.464 773.532 62.464 774.627 Q62.464 777.558 66.5541 780.231 Q67.1338 780.521 67.2626 780.714 Q67.4237 780.875 67.4237 781.262 Q67.3915 782.067 66.7473 782.067 Q66.4897 782.067 65.3625 781.358 Q64.2031 780.618 62.1741 778.975 Q60.1451 777.3 58.1162 775.271 L52.5768 769.346 Q47.0373 762.776 43.9134 760.167 Q43.9134 761.262 43.8812 761.745 Q43.849 762.196 43.6557 763.098 Q43.4303 763.999 42.9472 765.255 Q41.9488 768.186 41.9488 769.41 Q41.9488 769.732 41.981 770.086 Q42.0132 770.441 42.1743 771.246 Q42.3353 772.019 42.6574 772.663 Q42.9472 773.307 43.5913 773.983 Q44.2032 774.659 45.0406 775.014 Q45.2982 775.11 45.4271 775.175 Q45.5559 775.239 45.6847 775.432 Q45.7813 775.593 45.7813 775.851 Q45.7813 776.238 45.5559 776.463 Q45.3304 776.656 45.0406 776.656 Q44.4609 776.656 43.2693 776.077 Q42.0776 775.497 40.7894 774.531 Q39.469 773.564 38.5028 771.986 Q37.5366 770.408 37.5366 768.669 Q37.5366 767.639 37.9875 766.769 Q38.4384 765.867 38.9215 765.416 Q39.3724 764.933 40.3707 764.128 Q41.1437 763.452 41.4657 763.13 Q41.7878 762.808 42.1421 762.164 Q42.4641 761.487 42.4641 760.747 Q42.4641 759.523 41.5301 758.396 Q40.564 757.268 38.2451 755.819 Q37.5366 755.433 37.5366 754.821 Q37.5366 754.112 38.1807 754.112 Z\" fill=\"#000000\" fill-rule=\"nonzero\" fill-opacity=\"1\" /><path clip-path=\"url(#clip010)\" d=\"M65.6201 750.765 Q64.5573 751.699 63.1725 751.699 Q61.7876 751.699 60.757 750.798 Q59.6943 749.864 59.6943 748.189 Q59.6943 746.224 61.5944 745.097 Q63.4623 743.97 66.6185 743.97 Q70.0323 743.97 73.1885 745.355 Q76.3769 746.74 77.8906 748.092 Q79.4042 749.445 79.4042 749.993 Q79.4042 750.637 78.6957 750.637 Q78.4381 750.637 77.955 750.186 Q72.8664 745.452 66.6185 745.419 Q65.6201 745.419 65.6201 745.548 L65.749 745.709 Q66.6829 746.836 66.6829 748.189 Q66.6829 749.832 65.6201 750.765 Z\" fill=\"#000000\" fill-rule=\"nonzero\" fill-opacity=\"1\" /><path clip-path=\"url(#clip010)\" d=\"M38.1807 695.2 Q38.4062 695.2 39.3724 695.747 Q40.3063 696.262 42.6574 698.163 Q45.0084 700.063 47.7459 702.897 Q48.8087 703.96 50.2901 705.57 Q51.7716 707.18 52.7378 708.275 L53.704 709.37 Q57.2466 713.557 61.2079 717.228 Q61.1113 716.971 61.0791 716.52 Q61.0147 716.069 61.0147 715.747 L61.0147 715.425 Q61.0147 713.75 62.1419 710.82 Q62.9792 708.243 62.9792 706.923 Q62.9792 705.634 62.5284 704.217 Q62.0775 702.8 60.757 701.254 Q59.4366 699.709 57.4398 699 Q57.1178 698.871 57.0212 698.807 Q56.8923 698.742 56.7635 698.549 Q56.6025 698.356 56.6025 698.098 Q56.6025 697.744 56.7957 697.519 Q56.989 697.293 57.2466 697.293 Q57.8263 697.293 58.9857 697.744 Q60.1451 698.163 61.5944 699.097 Q63.0437 699.998 64.3641 701.19 Q65.6523 702.349 66.5541 704.089 Q67.4237 705.828 67.4237 707.663 Q67.4237 708.984 66.7795 709.95 Q66.1676 710.916 64.976 711.882 Q63.4623 713.203 62.9792 713.911 Q62.464 714.62 62.464 715.715 Q62.464 718.646 66.5541 721.319 Q67.1338 721.608 67.2626 721.802 Q67.4237 721.963 67.4237 722.349 Q67.3915 723.154 66.7473 723.154 Q66.4897 723.154 65.3625 722.446 Q64.2031 721.705 62.1741 720.063 Q60.1451 718.388 58.1162 716.359 L52.5768 710.433 Q47.0373 703.863 43.9134 701.254 Q43.9134 702.349 43.8812 702.832 Q43.849 703.283 43.6557 704.185 Q43.4303 705.087 42.9472 706.343 Q41.9488 709.274 41.9488 710.497 Q41.9488 710.82 41.981 711.174 Q42.0132 711.528 42.1743 712.333 Q42.3353 713.106 42.6574 713.75 Q42.9472 714.394 43.5913 715.071 Q44.2032 715.747 45.0406 716.101 Q45.2982 716.198 45.4271 716.262 Q45.5559 716.327 45.6847 716.52 Q45.7813 716.681 45.7813 716.939 Q45.7813 717.325 45.5559 717.551 Q45.3304 717.744 45.0406 717.744 Q44.4609 717.744 43.2693 717.164 Q42.0776 716.584 40.7894 715.618 Q39.469 714.652 38.5028 713.074 Q37.5366 711.496 37.5366 709.757 Q37.5366 708.726 37.9875 707.857 Q38.4384 706.955 38.9215 706.504 Q39.3724 706.021 40.3707 705.216 Q41.1437 704.539 41.4657 704.217 Q41.7878 703.895 42.1421 703.251 Q42.4641 702.575 42.4641 701.834 Q42.4641 700.61 41.5301 699.483 Q40.564 698.356 38.2451 696.907 Q37.5366 696.52 37.5366 695.908 Q37.5366 695.2 38.1807 695.2 Z\" fill=\"#000000\" fill-rule=\"nonzero\" fill-opacity=\"1\" /><path clip-path=\"url(#clip010)\" d=\"M46.9462 688.427 Q46.1121 688.427 45.8641 688.359 Q45.6161 688.269 45.2329 687.908 L35.3585 679.049 Q29.9029 674.202 25.1461 674.202 Q22.0575 674.202 19.8482 675.825 Q17.6389 677.425 17.6389 680.379 Q17.6389 682.408 18.8788 684.121 Q20.1187 685.834 22.328 686.623 Q22.283 686.488 22.283 686.015 Q22.283 684.865 23.0044 684.234 Q23.7258 683.58 24.6952 683.58 Q25.9351 683.58 26.5438 684.391 Q27.1299 685.181 27.1299 685.97 Q27.1299 686.285 27.0623 686.714 Q26.9947 687.119 26.3634 687.773 Q25.7097 688.427 24.5599 688.427 Q21.3361 688.427 18.7661 685.992 Q16.196 683.535 16.196 679.792 Q16.196 675.554 18.721 672.781 Q21.2234 669.986 25.1461 669.986 Q26.5212 669.986 27.7837 670.414 Q29.0236 670.82 29.993 671.384 Q30.9624 671.925 32.518 673.412 Q34.0735 674.9 35.1782 676.095 Q36.2828 677.29 38.6274 679.973 L43.3842 684.865 L43.3842 676.546 Q43.3842 672.488 43.0235 672.173 Q42.3698 671.722 38.9205 671.158 L38.9205 669.986 L46.9462 671.293 L46.9462 688.427 Z\" fill=\"#000000\" fill-rule=\"nonzero\" fill-opacity=\"1\" /><path clip-path=\"url(#clip010)\" d=\"M81.6586 663.132 L81.6586 657.593 L18.7284 657.593 L18.7284 663.132 L17.2147 663.132 L17.2147 653.181 L83.1723 653.181 L83.1723 663.132 L81.6586 663.132 Z\" fill=\"#000000\" fill-rule=\"nonzero\" fill-opacity=\"1\" /><path clip-path=\"url(#clip010)\" d=\"M82.5282 642.87 Q82.2061 642.87 81.401 642.033 Q70.5798 631.405 50.1935 631.405 Q29.7428 631.405 19.4047 641.614 Q18.2131 642.87 17.8588 642.87 Q17.2147 642.87 17.2147 642.226 Q17.2147 641.775 18.5352 640.197 Q19.8556 638.587 22.883 636.171 Q25.9103 633.723 29.614 631.92 Q38.5994 627.572 50.1935 627.572 Q61.3368 627.572 70.3222 631.727 Q74.0903 633.498 77.2464 635.978 Q80.4026 638.458 81.7875 640.1 Q83.1723 641.743 83.1723 642.226 Q83.1723 642.87 82.5282 642.87 Z\" fill=\"#000000\" fill-rule=\"nonzero\" fill-opacity=\"1\" /><path clip-path=\"url(#clip010)\" d=\"M50.9987 597.726 Q50.9987 599.24 50.1935 599.24 Q49.3884 599.24 49.3884 597.662 Q49.3884 597.469 49.4206 597.147 Q49.4528 596.792 49.4528 596.728 L49.4528 578.145 L30.8056 578.145 Q30.7412 578.145 30.4513 578.177 Q30.1293 578.209 29.936 578.209 Q28.3579 578.209 28.3579 577.437 Q28.3579 576.631 29.936 576.631 L49.4528 576.631 L49.4528 558.016 Q49.4528 557.952 49.4206 557.63 Q49.3884 557.308 49.3884 557.115 Q49.3884 555.601 50.1935 555.601 Q50.9987 555.569 50.9987 557.179 Q50.9987 557.372 50.9665 557.662 Q50.9343 557.952 50.9343 558.016 L50.9343 576.631 L70.5154 576.631 Q72.0291 576.631 72.0291 577.437 Q72.0291 578.209 70.451 578.209 Q70.2578 578.209 69.9357 578.177 Q69.6459 578.145 69.5815 578.145 L50.9343 578.145 L50.9343 596.728 Q50.9343 596.792 50.9665 597.179 Q50.9987 597.533 50.9987 597.726 Z\" fill=\"#000000\" fill-rule=\"nonzero\" fill-opacity=\"1\" /><path clip-path=\"url(#clip010)\" d=\"M40.564 503.521 Q41.2403 503.521 41.7878 504.101 Q42.3353 504.648 42.3353 505.324 Q42.3353 505.711 41.6912 506.645 Q39.8232 509.318 39.8232 512.7 Q39.8232 515.727 40.564 518.529 Q41.3047 521.331 42.8184 523.231 Q44.2998 525.099 46.2322 525.099 Q48.6476 525.099 50.0647 522.458 Q48.8087 519.721 48.8087 516.339 Q48.8087 515.244 48.8731 514.503 Q48.9375 513.73 49.0985 512.989 Q49.2596 512.249 49.646 511.894 Q50.0003 511.508 50.58 511.508 Q52.6412 511.508 52.6412 516.854 Q52.6412 520.332 51.7072 522.522 Q53.092 525.324 55.3143 526.87 Q57.5365 528.416 59.4366 528.416 Q61.0791 528.416 62.2707 527.514 Q63.4623 526.58 64.042 525.067 Q64.6217 523.521 64.8794 522.007 Q65.1048 520.461 65.1048 518.754 Q65.1048 515.952 64.7506 513.988 Q64.3641 511.991 63.6556 510.896 Q62.947 509.769 62.464 509.318 Q61.9487 508.835 61.1435 508.352 Q60.6926 508.062 60.6926 507.676 Q60.6926 507.386 60.8859 507.192 Q61.0469 506.967 61.3368 506.967 Q61.691 506.967 62.4317 507.418 Q63.1725 507.837 64.1709 508.867 Q65.137 509.866 66.0388 511.25 Q66.9084 512.603 67.5203 514.761 Q68.1322 516.919 68.1322 519.366 Q68.1322 524.358 65.6845 527.257 Q63.2369 530.123 59.8231 530.123 Q57.4398 530.123 54.9922 528.545 Q52.5123 526.935 50.9343 524.101 Q48.9697 526.741 46.2322 526.741 Q43.7846 526.741 41.5946 524.68 Q39.4046 522.587 38.1163 519.205 Q36.7959 515.791 36.7959 512.056 Q36.7959 509.962 37.5044 507.901 Q38.1807 505.84 39.0503 504.68 Q39.9199 503.521 40.564 503.521 M50.6444 513.215 Q50.2579 514.632 50.2579 516.339 Q50.2579 518.658 50.8376 520.365 Q51.1919 518.98 51.1919 516.854 Q51.1919 515.083 51.0953 514.568 Q50.9987 514.02 50.6444 513.215 Z\" fill=\"#000000\" fill-rule=\"nonzero\" fill-opacity=\"1\" /><circle clip-path=\"url(#clip012)\" cx=\"1709.34\" cy=\"624.958\" r=\"14.4\" fill=\"#009af9\" fill-rule=\"evenodd\" fill-opacity=\"1\" stroke=\"#000000\" stroke-opacity=\"1\" stroke-width=\"3.2\"/>\n",
       "<circle clip-path=\"url(#clip012)\" cx=\"1414.09\" cy=\"871.142\" r=\"14.4\" fill=\"#009af9\" fill-rule=\"evenodd\" fill-opacity=\"1\" stroke=\"#000000\" stroke-opacity=\"1\" stroke-width=\"3.2\"/>\n",
       "<circle clip-path=\"url(#clip012)\" cx=\"552.664\" cy=\"1233.62\" r=\"14.4\" fill=\"#009af9\" fill-rule=\"evenodd\" fill-opacity=\"1\" stroke=\"#000000\" stroke-opacity=\"1\" stroke-width=\"3.2\"/>\n",
       "<circle clip-path=\"url(#clip012)\" cx=\"1625.86\" cy=\"682.144\" r=\"14.4\" fill=\"#009af9\" fill-rule=\"evenodd\" fill-opacity=\"1\" stroke=\"#000000\" stroke-opacity=\"1\" stroke-width=\"3.2\"/>\n",
       "<circle clip-path=\"url(#clip012)\" cx=\"583.132\" cy=\"1305.69\" r=\"14.4\" fill=\"#009af9\" fill-rule=\"evenodd\" fill-opacity=\"1\" stroke=\"#000000\" stroke-opacity=\"1\" stroke-width=\"3.2\"/>\n",
       "<circle clip-path=\"url(#clip012)\" cx=\"1539.74\" cy=\"737.702\" r=\"14.4\" fill=\"#009af9\" fill-rule=\"evenodd\" fill-opacity=\"1\" stroke=\"#000000\" stroke-opacity=\"1\" stroke-width=\"3.2\"/>\n",
       "<circle clip-path=\"url(#clip012)\" cx=\"1181.63\" cy=\"1006.17\" r=\"14.4\" fill=\"#009af9\" fill-rule=\"evenodd\" fill-opacity=\"1\" stroke=\"#000000\" stroke-opacity=\"1\" stroke-width=\"3.2\"/>\n",
       "<circle clip-path=\"url(#clip012)\" cx=\"1299.42\" cy=\"913.231\" r=\"14.4\" fill=\"#009af9\" fill-rule=\"evenodd\" fill-opacity=\"1\" stroke=\"#000000\" stroke-opacity=\"1\" stroke-width=\"3.2\"/>\n",
       "<circle clip-path=\"url(#clip012)\" cx=\"657.102\" cy=\"1204\" r=\"14.4\" fill=\"#009af9\" fill-rule=\"evenodd\" fill-opacity=\"1\" stroke=\"#000000\" stroke-opacity=\"1\" stroke-width=\"3.2\"/>\n",
       "<circle clip-path=\"url(#clip012)\" cx=\"1127.88\" cy=\"1035.84\" r=\"14.4\" fill=\"#009af9\" fill-rule=\"evenodd\" fill-opacity=\"1\" stroke=\"#000000\" stroke-opacity=\"1\" stroke-width=\"3.2\"/>\n",
       "<circle clip-path=\"url(#clip012)\" cx=\"269.325\" cy=\"1327.73\" r=\"14.4\" fill=\"#009af9\" fill-rule=\"evenodd\" fill-opacity=\"1\" stroke=\"#000000\" stroke-opacity=\"1\" stroke-width=\"3.2\"/>\n",
       "<circle clip-path=\"url(#clip012)\" cx=\"1225.9\" cy=\"930.014\" r=\"14.4\" fill=\"#009af9\" fill-rule=\"evenodd\" fill-opacity=\"1\" stroke=\"#000000\" stroke-opacity=\"1\" stroke-width=\"3.2\"/>\n",
       "<circle clip-path=\"url(#clip012)\" cx=\"497.223\" cy=\"1307.95\" r=\"14.4\" fill=\"#009af9\" fill-rule=\"evenodd\" fill-opacity=\"1\" stroke=\"#000000\" stroke-opacity=\"1\" stroke-width=\"3.2\"/>\n",
       "<circle clip-path=\"url(#clip012)\" cx=\"883.937\" cy=\"1105.85\" r=\"14.4\" fill=\"#009af9\" fill-rule=\"evenodd\" fill-opacity=\"1\" stroke=\"#000000\" stroke-opacity=\"1\" stroke-width=\"3.2\"/>\n",
       "<circle clip-path=\"url(#clip012)\" cx=\"961.778\" cy=\"1063.32\" r=\"14.4\" fill=\"#009af9\" fill-rule=\"evenodd\" fill-opacity=\"1\" stroke=\"#000000\" stroke-opacity=\"1\" stroke-width=\"3.2\"/>\n",
       "<circle clip-path=\"url(#clip012)\" cx=\"371.391\" cy=\"1384.24\" r=\"14.4\" fill=\"#009af9\" fill-rule=\"evenodd\" fill-opacity=\"1\" stroke=\"#000000\" stroke-opacity=\"1\" stroke-width=\"3.2\"/>\n",
       "<circle clip-path=\"url(#clip012)\" cx=\"1741.32\" cy=\"559.125\" r=\"14.4\" fill=\"#009af9\" fill-rule=\"evenodd\" fill-opacity=\"1\" stroke=\"#000000\" stroke-opacity=\"1\" stroke-width=\"3.2\"/>\n",
       "<circle clip-path=\"url(#clip012)\" cx=\"1749.62\" cy=\"610.764\" r=\"14.4\" fill=\"#009af9\" fill-rule=\"evenodd\" fill-opacity=\"1\" stroke=\"#000000\" stroke-opacity=\"1\" stroke-width=\"3.2\"/>\n",
       "<circle clip-path=\"url(#clip012)\" cx=\"599.411\" cy=\"1217.62\" r=\"14.4\" fill=\"#009af9\" fill-rule=\"evenodd\" fill-opacity=\"1\" stroke=\"#000000\" stroke-opacity=\"1\" stroke-width=\"3.2\"/>\n",
       "<circle clip-path=\"url(#clip012)\" cx=\"1444.19\" cy=\"848.559\" r=\"14.4\" fill=\"#009af9\" fill-rule=\"evenodd\" fill-opacity=\"1\" stroke=\"#000000\" stroke-opacity=\"1\" stroke-width=\"3.2\"/>\n",
       "<circle clip-path=\"url(#clip012)\" cx=\"483.153\" cy=\"1299.9\" r=\"14.4\" fill=\"#009af9\" fill-rule=\"evenodd\" fill-opacity=\"1\" stroke=\"#000000\" stroke-opacity=\"1\" stroke-width=\"3.2\"/>\n",
       "<circle clip-path=\"url(#clip012)\" cx=\"1087.99\" cy=\"1006.49\" r=\"14.4\" fill=\"#009af9\" fill-rule=\"evenodd\" fill-opacity=\"1\" stroke=\"#000000\" stroke-opacity=\"1\" stroke-width=\"3.2\"/>\n",
       "<circle clip-path=\"url(#clip012)\" cx=\"661.466\" cy=\"1165.93\" r=\"14.4\" fill=\"#009af9\" fill-rule=\"evenodd\" fill-opacity=\"1\" stroke=\"#000000\" stroke-opacity=\"1\" stroke-width=\"3.2\"/>\n",
       "<circle clip-path=\"url(#clip012)\" cx=\"861.517\" cy=\"1155.03\" r=\"14.4\" fill=\"#009af9\" fill-rule=\"evenodd\" fill-opacity=\"1\" stroke=\"#000000\" stroke-opacity=\"1\" stroke-width=\"3.2\"/>\n",
       "<circle clip-path=\"url(#clip012)\" cx=\"1218.07\" cy=\"932.232\" r=\"14.4\" fill=\"#009af9\" fill-rule=\"evenodd\" fill-opacity=\"1\" stroke=\"#000000\" stroke-opacity=\"1\" stroke-width=\"3.2\"/>\n",
       "<circle clip-path=\"url(#clip012)\" cx=\"668.238\" cy=\"1198.75\" r=\"14.4\" fill=\"#009af9\" fill-rule=\"evenodd\" fill-opacity=\"1\" stroke=\"#000000\" stroke-opacity=\"1\" stroke-width=\"3.2\"/>\n",
       "<circle clip-path=\"url(#clip012)\" cx=\"1675.41\" cy=\"657.839\" r=\"14.4\" fill=\"#009af9\" fill-rule=\"evenodd\" fill-opacity=\"1\" stroke=\"#000000\" stroke-opacity=\"1\" stroke-width=\"3.2\"/>\n",
       "<circle clip-path=\"url(#clip012)\" cx=\"1750.99\" cy=\"592.881\" r=\"14.4\" fill=\"#009af9\" fill-rule=\"evenodd\" fill-opacity=\"1\" stroke=\"#000000\" stroke-opacity=\"1\" stroke-width=\"3.2\"/>\n",
       "<circle clip-path=\"url(#clip012)\" cx=\"1291.63\" cy=\"904.838\" r=\"14.4\" fill=\"#009af9\" fill-rule=\"evenodd\" fill-opacity=\"1\" stroke=\"#000000\" stroke-opacity=\"1\" stroke-width=\"3.2\"/>\n",
       "<circle clip-path=\"url(#clip012)\" cx=\"290.914\" cy=\"1334.98\" r=\"14.4\" fill=\"#009af9\" fill-rule=\"evenodd\" fill-opacity=\"1\" stroke=\"#000000\" stroke-opacity=\"1\" stroke-width=\"3.2\"/>\n",
       "<polyline clip-path=\"url(#clip012)\" style=\"stroke:#e26f46; stroke-linecap:round; stroke-linejoin:round; stroke-width:4; stroke-opacity:0.3; fill:none\" points=\"265.903,1328.54 299.671,1321.52 333.439,1314.04 367.207,1306.11 400.974,1297.72 434.742,1288.87 468.51,1279.56 502.278,1269.79 536.046,1259.57 569.814,1248.89 603.582,1237.75 637.349,1226.16 671.117,1214.11 704.885,1201.6 738.653,1188.63 772.421,1175.2 806.189,1161.32 839.956,1146.98 873.724,1132.18 907.492,1116.93 941.26,1101.22 975.028,1085.05 1008.8,1068.42 1042.56,1051.33 1076.33,1033.79 1110.1,1015.79 1143.87,997.334 1177.63,978.419 1211.4,959.046 1245.17,939.216 1278.94,918.928 1312.71,898.183 1346.47,876.981 1380.24,855.321 1414.01,833.203 1447.78,810.628 1481.55,787.596 1515.31,764.106 1549.08,740.158 1582.85,715.753 1616.62,690.891 1650.38,665.571 1684.15,639.793 1717.92,613.558 1751.69,586.866 1785.46,559.716 1819.22,532.108 1852.99,504.043 1886.76,475.52 1920.53,446.54 1954.3,417.103 1988.06,387.208 2021.83,356.855 2055.6,326.045 2089.37,294.778 2123.13,263.053 2156.9,230.87 2190.67,198.23 2224.44,165.133 2258.21,131.578 2291.97,97.5652 \"/>\n",
       "<polyline clip-path=\"url(#clip012)\" style=\"stroke:#3da44d; stroke-linecap:round; stroke-linejoin:round; stroke-width:4; stroke-opacity:0.3; fill:none\" points=\"265.903,1347.09 299.671,1338.95 333.439,1330.4 367.207,1321.43 400.974,1312.05 434.742,1302.25 468.51,1292.04 502.278,1281.42 536.046,1270.37 569.814,1258.92 603.582,1247.05 637.349,1234.76 671.117,1222.06 704.885,1208.95 738.653,1195.42 772.421,1181.48 806.189,1167.12 839.956,1152.34 873.724,1137.16 907.492,1121.55 941.26,1105.54 975.028,1089.1 1008.8,1072.26 1042.56,1055 1076.33,1037.32 1110.1,1019.23 1143.87,1000.73 1177.63,981.806 1211.4,962.471 1245.17,942.722 1278.94,922.558 1312.71,901.979 1346.47,880.986 1380.24,859.578 1414.01,837.755 1447.78,815.518 1481.55,792.866 1515.31,769.799 1549.08,746.318 1582.85,722.422 1616.62,698.112 1650.38,673.386 1684.15,648.246 1717.92,622.691 1751.69,596.722 1785.46,570.338 1819.22,543.539 1852.99,516.326 1886.76,488.698 1920.53,460.655 1954.3,432.198 1988.06,403.326 2021.83,374.039 2055.6,344.338 2089.37,314.222 2123.13,283.691 2156.9,252.745 2190.67,221.385 2224.44,189.611 2258.21,157.421 2291.97,124.817 \"/>\n",
       "<polyline clip-path=\"url(#clip012)\" style=\"stroke:#c271d2; stroke-linecap:round; stroke-linejoin:round; stroke-width:4; stroke-opacity:0.3; fill:none\" points=\"265.903,1351.73 299.671,1342.9 333.439,1333.68 367.207,1324.07 400.974,1314.07 434.742,1303.67 468.51,1292.89 502.278,1281.72 536.046,1270.15 569.814,1258.2 603.582,1245.85 637.349,1233.11 671.117,1219.98 704.885,1206.47 738.653,1192.56 772.421,1178.26 806.189,1163.57 839.956,1148.49 873.724,1133.02 907.492,1117.15 941.26,1100.9 975.028,1084.26 1008.8,1067.22 1042.56,1049.8 1076.33,1031.98 1110.1,1013.78 1143.87,995.18 1177.63,976.193 1211.4,956.814 1245.17,937.045 1278.94,916.886 1312.71,896.336 1346.47,875.395 1380.24,854.063 1414.01,832.341 1447.78,810.228 1481.55,787.724 1515.31,764.83 1549.08,741.545 1582.85,717.87 1616.62,693.803 1650.38,669.346 1684.15,644.499 1717.92,619.26 1751.69,593.631 1785.46,567.612 1819.22,541.201 1852.99,514.4 1886.76,487.209 1920.53,459.626 1954.3,431.653 1988.06,403.29 2021.83,374.535 2055.6,345.39 2089.37,315.854 2123.13,285.928 2156.9,255.611 2190.67,224.903 2224.44,193.805 2258.21,162.316 2291.97,130.436 \"/>\n",
       "<polyline clip-path=\"url(#clip012)\" style=\"stroke:#ac8d18; stroke-linecap:round; stroke-linejoin:round; stroke-width:4; stroke-opacity:0.3; fill:none\" points=\"265.903,1372.6 299.671,1360.54 333.439,1348.22 367.207,1335.66 400.974,1322.84 434.742,1309.76 468.51,1296.43 502.278,1282.84 536.046,1269 569.814,1254.91 603.582,1240.56 637.349,1225.96 671.117,1211.1 704.885,1195.98 738.653,1180.62 772.421,1164.99 806.189,1149.12 839.956,1132.98 873.724,1116.6 907.492,1099.96 941.26,1083.06 975.028,1065.91 1008.8,1048.51 1042.56,1030.85 1076.33,1012.93 1110.1,994.763 1143.87,976.34 1177.63,957.662 1211.4,938.729 1245.17,919.542 1278.94,900.1 1312.71,880.403 1346.47,860.452 1380.24,840.246 1414.01,819.786 1447.78,799.071 1481.55,778.101 1515.31,756.877 1549.08,735.398 1582.85,713.664 1616.62,691.676 1650.38,669.433 1684.15,646.936 1717.92,624.184 1751.69,601.177 1785.46,577.916 1819.22,554.4 1852.99,530.629 1886.76,506.604 1920.53,482.324 1954.3,457.79 1988.06,433.001 2021.83,407.957 2055.6,382.659 2089.37,357.106 2123.13,331.298 2156.9,305.236 2190.67,278.919 2224.44,252.348 2258.21,225.522 2291.97,198.441 \"/>\n",
       "<polyline clip-path=\"url(#clip012)\" style=\"stroke:#00a9ad; stroke-linecap:round; stroke-linejoin:round; stroke-width:4; stroke-opacity:0.3; fill:none\" points=\"265.903,1344.82 299.671,1336.58 333.439,1327.93 367.207,1318.89 400.974,1309.45 434.742,1299.61 468.51,1289.36 502.278,1278.72 536.046,1267.68 569.814,1256.24 603.582,1244.39 637.349,1232.15 671.117,1219.51 704.885,1206.47 738.653,1193.02 772.421,1179.18 806.189,1164.94 839.956,1150.29 873.724,1135.25 907.492,1119.81 941.26,1103.96 975.028,1087.72 1008.8,1071.08 1042.56,1054.03 1076.33,1036.59 1110.1,1018.75 1143.87,1000.5 1177.63,981.861 1211.4,962.817 1245.17,943.373 1278.94,923.53 1312.71,903.286 1346.47,882.642 1380.24,861.598 1414.01,840.154 1447.78,818.31 1481.55,796.066 1515.31,773.422 1549.08,750.377 1582.85,726.933 1616.62,703.089 1650.38,678.845 1684.15,654.2 1717.92,629.156 1751.69,603.711 1785.46,577.866 1819.22,551.622 1852.99,524.977 1886.76,497.932 1920.53,470.488 1954.3,442.643 1988.06,414.398 2021.83,385.753 2055.6,356.708 2089.37,327.263 2123.13,297.417 2156.9,267.172 2190.67,236.527 2224.44,205.482 2258.21,174.036 2291.97,142.191 \"/>\n",
       "<polyline clip-path=\"url(#clip012)\" style=\"stroke:#ed5d92; stroke-linecap:round; stroke-linejoin:round; stroke-width:4; stroke-opacity:0.3; fill:none\" points=\"265.903,1350.01 299.671,1341.57 333.439,1332.73 367.207,1323.46 400.974,1313.78 434.742,1303.68 468.51,1293.16 502.278,1282.23 536.046,1270.87 569.814,1259.1 603.582,1246.92 637.349,1234.32 671.117,1221.29 704.885,1207.86 738.653,1194 772.421,1179.73 806.189,1165.04 839.956,1149.93 873.724,1134.41 907.492,1118.47 941.26,1102.11 975.028,1085.33 1008.8,1068.14 1042.56,1050.53 1076.33,1032.5 1110.1,1014.05 1143.87,995.193 1177.63,975.913 1211.4,956.217 1245.17,936.103 1278.94,915.571 1312.71,894.623 1346.47,873.257 1380.24,851.474 1414.01,829.274 1447.78,806.657 1481.55,783.622 1515.31,760.17 1549.08,736.301 1582.85,712.015 1616.62,687.311 1650.38,662.19 1684.15,636.652 1717.92,610.697 1751.69,584.324 1785.46,557.534 1819.22,530.327 1852.99,502.703 1886.76,474.661 1920.53,446.203 1954.3,417.326 1988.06,388.033 2021.83,358.323 2055.6,328.195 2089.37,297.65 2123.13,266.687 2156.9,235.308 2190.67,203.511 2224.44,171.297 2258.21,138.666 2291.97,105.617 \"/>\n",
       "<polyline clip-path=\"url(#clip012)\" style=\"stroke:#c68125; stroke-linecap:round; stroke-linejoin:round; stroke-width:4; stroke-opacity:0.3; fill:none\" points=\"265.903,1334.7 299.671,1327.77 333.439,1320.36 367.207,1312.49 400.974,1304.15 434.742,1295.33 468.51,1286.05 502.278,1276.3 536.046,1266.07 569.814,1255.38 603.582,1244.21 637.349,1232.58 671.117,1220.47 704.885,1207.89 738.653,1194.85 772.421,1181.33 806.189,1167.34 839.956,1152.88 873.724,1137.95 907.492,1122.55 941.26,1106.68 975.028,1090.34 1008.8,1073.53 1042.56,1056.25 1076.33,1038.5 1110.1,1020.28 1143.87,1001.59 1177.63,982.427 1211.4,962.795 1245.17,942.692 1278.94,922.119 1312.71,901.075 1346.47,879.561 1380.24,857.576 1414.01,835.121 1447.78,812.196 1481.55,788.8 1515.31,764.934 1549.08,740.598 1582.85,715.791 1616.62,690.514 1650.38,664.766 1684.15,638.548 1717.92,611.859 1751.69,584.701 1785.46,557.071 1819.22,528.972 1852.99,500.402 1886.76,471.361 1920.53,441.85 1954.3,411.869 1988.06,381.418 2021.83,350.496 2055.6,319.103 2089.37,287.241 2123.13,254.907 2156.9,222.104 2190.67,188.83 2224.44,155.086 2258.21,120.871 2291.97,86.1857 \"/>\n",
       "<polyline clip-path=\"url(#clip012)\" style=\"stroke:#00a98d; stroke-linecap:round; stroke-linejoin:round; stroke-width:4; stroke-opacity:0.3; fill:none\" points=\"265.903,1368.58 299.671,1358.92 333.439,1348.89 367.207,1338.47 400.974,1327.69 434.742,1316.53 468.51,1304.99 502.278,1293.08 536.046,1280.79 569.814,1268.13 603.582,1255.1 637.349,1241.68 671.117,1227.9 704.885,1213.74 738.653,1199.2 772.421,1184.29 806.189,1169 839.956,1153.34 873.724,1137.31 907.492,1120.9 941.26,1104.11 975.028,1086.95 1008.8,1069.41 1042.56,1051.5 1076.33,1033.21 1110.1,1014.55 1143.87,995.517 1177.63,976.106 1211.4,956.32 1245.17,936.159 1278.94,915.623 1312.71,894.712 1346.47,873.425 1380.24,851.764 1414.01,829.728 1447.78,807.317 1481.55,784.531 1515.31,761.37 1549.08,737.833 1582.85,713.922 1616.62,689.636 1650.38,664.975 1684.15,639.939 1717.92,614.528 1751.69,588.742 1785.46,562.58 1819.22,536.044 1852.99,509.133 1886.76,481.847 1920.53,454.186 1954.3,426.15 1988.06,397.739 2021.83,368.952 2055.6,339.791 2089.37,310.255 2123.13,280.344 2156.9,250.058 2190.67,219.397 2224.44,188.361 2258.21,156.949 2291.97,125.163 \"/>\n",
       "<polyline clip-path=\"url(#clip012)\" style=\"stroke:#8e971d; stroke-linecap:round; stroke-linejoin:round; stroke-width:4; stroke-opacity:0.3; fill:none\" points=\"265.903,1341.61 299.671,1332.31 333.439,1322.65 367.207,1312.63 400.974,1302.25 434.742,1291.5 468.51,1280.4 502.278,1268.93 536.046,1257.1 569.814,1244.91 603.582,1232.35 637.349,1219.44 671.117,1206.16 704.885,1192.52 738.653,1178.52 772.421,1164.16 806.189,1149.43 839.956,1134.34 873.724,1118.9 907.492,1103.08 941.26,1086.91 975.028,1070.38 1008.8,1053.48 1042.56,1036.22 1076.33,1018.61 1110.1,1000.62 1143.87,982.281 1177.63,963.576 1211.4,944.509 1245.17,925.08 1278.94,905.289 1312.71,885.137 1346.47,864.623 1380.24,843.747 1414.01,822.509 1447.78,800.909 1481.55,778.948 1515.31,756.624 1549.08,733.939 1582.85,710.892 1616.62,687.483 1650.38,663.713 1684.15,639.58 1717.92,615.086 1751.69,590.23 1785.46,565.012 1819.22,539.432 1852.99,513.49 1886.76,487.187 1920.53,460.522 1954.3,433.495 1988.06,406.106 2021.83,378.355 2055.6,350.242 2089.37,321.768 2123.13,292.932 2156.9,263.733 2190.67,234.174 2224.44,204.252 2258.21,173.968 2291.97,143.323 \"/>\n",
       "<polyline clip-path=\"url(#clip012)\" style=\"stroke:#00a8cb; stroke-linecap:round; stroke-linejoin:round; stroke-width:4; stroke-opacity:0.3; fill:none\" points=\"265.903,1336.5 299.671,1328.92 333.439,1320.89 367.207,1312.43 400.974,1303.51 434.742,1294.16 468.51,1284.36 502.278,1274.12 536.046,1263.44 569.814,1252.31 603.582,1240.74 637.349,1228.73 671.117,1216.27 704.885,1203.37 738.653,1190.03 772.421,1176.25 806.189,1162.02 839.956,1147.34 873.724,1132.23 907.492,1116.67 941.26,1100.67 975.028,1084.22 1008.8,1067.33 1042.56,1050 1076.33,1032.23 1110.1,1014.01 1143.87,995.347 1177.63,976.243 1211.4,956.695 1245.17,936.704 1278.94,916.269 1312.71,895.392 1346.47,874.071 1380.24,852.307 1414.01,830.1 1447.78,807.45 1481.55,784.356 1515.31,760.82 1549.08,736.84 1582.85,712.416 1616.62,687.55 1650.38,662.24 1684.15,636.488 1717.92,610.291 1751.69,583.652 1785.46,556.57 1819.22,529.044 1852.99,501.075 1886.76,472.663 1920.53,443.808 1954.3,414.509 1988.06,384.767 2021.83,354.582 2055.6,323.954 2089.37,292.882 2123.13,261.368 2156.9,229.41 2190.67,197.009 2224.44,164.165 2258.21,130.877 2291.97,97.1463 \"/>\n",
       "<path clip-path=\"url(#clip010)\" d=\"M276.709 196.789 L591.333 196.789 L591.333 93.1086 L276.709 93.1086  Z\" fill=\"#ffffff\" fill-rule=\"evenodd\" fill-opacity=\"1\"/>\n",
       "<polyline clip-path=\"url(#clip010)\" style=\"stroke:#000000; stroke-linecap:round; stroke-linejoin:round; stroke-width:4; stroke-opacity:1; fill:none\" points=\"276.709,196.789 591.333,196.789 591.333,93.1086 276.709,93.1086 276.709,196.789 \"/>\n",
       "<circle clip-path=\"url(#clip010)\" cx=\"372.159\" cy=\"144.949\" r=\"20.48\" fill=\"#009af9\" fill-rule=\"evenodd\" fill-opacity=\"1\" stroke=\"#000000\" stroke-opacity=\"1\" stroke-width=\"4.55111\"/>\n",
       "<path clip-path=\"url(#clip010)\" d=\"M486.522 140.238 L486.522 126.21 L490.781 126.21 L490.781 162.229 L486.522 162.229 L486.522 158.34 Q485.179 160.655 483.119 161.789 Q481.082 162.9 478.211 162.9 Q473.512 162.9 470.549 159.15 Q467.61 155.4 467.61 149.289 Q467.61 143.178 470.549 139.428 Q473.512 135.678 478.211 135.678 Q481.082 135.678 483.119 136.812 Q485.179 137.923 486.522 140.238 M472.008 149.289 Q472.008 153.988 473.929 156.673 Q475.874 159.335 479.253 159.335 Q482.633 159.335 484.577 156.673 Q486.522 153.988 486.522 149.289 Q486.522 144.59 484.577 141.928 Q482.633 139.243 479.253 139.243 Q475.874 139.243 473.929 141.928 Q472.008 144.59 472.008 149.289 Z\" fill=\"#000000\" fill-rule=\"nonzero\" fill-opacity=\"1\" /><path clip-path=\"url(#clip010)\" d=\"M511.336 149.196 Q506.174 149.196 504.184 150.377 Q502.193 151.557 502.193 154.405 Q502.193 156.673 503.674 158.016 Q505.179 159.335 507.748 159.335 Q511.29 159.335 513.42 156.835 Q515.572 154.312 515.572 150.145 L515.572 149.196 L511.336 149.196 M519.832 147.437 L519.832 162.229 L515.572 162.229 L515.572 158.293 Q514.114 160.655 511.938 161.789 Q509.762 162.9 506.614 162.9 Q502.633 162.9 500.272 160.678 Q497.934 158.432 497.934 154.682 Q497.934 150.307 500.85 148.085 Q503.79 145.863 509.6 145.863 L515.572 145.863 L515.572 145.446 Q515.572 142.507 513.628 140.909 Q511.707 139.289 508.211 139.289 Q505.989 139.289 503.883 139.821 Q501.776 140.354 499.832 141.419 L499.832 137.483 Q502.17 136.581 504.369 136.141 Q506.568 135.678 508.651 135.678 Q514.276 135.678 517.054 138.594 Q519.832 141.511 519.832 147.437 Z\" fill=\"#000000\" fill-rule=\"nonzero\" fill-opacity=\"1\" /><path clip-path=\"url(#clip010)\" d=\"M532.818 128.942 L532.818 136.303 L541.591 136.303 L541.591 139.613 L532.818 139.613 L532.818 153.687 Q532.818 156.858 533.674 157.761 Q534.554 158.664 537.216 158.664 L541.591 158.664 L541.591 162.229 L537.216 162.229 Q532.285 162.229 530.41 160.4 Q528.535 158.548 528.535 153.687 L528.535 139.613 L525.41 139.613 L525.41 136.303 L528.535 136.303 L528.535 128.942 L532.818 128.942 Z\" fill=\"#000000\" fill-rule=\"nonzero\" fill-opacity=\"1\" /><path clip-path=\"url(#clip010)\" d=\"M558.975 149.196 Q553.813 149.196 551.822 150.377 Q549.831 151.557 549.831 154.405 Q549.831 156.673 551.313 158.016 Q552.818 159.335 555.387 159.335 Q558.929 159.335 561.058 156.835 Q563.211 154.312 563.211 150.145 L563.211 149.196 L558.975 149.196 M567.47 147.437 L567.47 162.229 L563.211 162.229 L563.211 158.293 Q561.753 160.655 559.577 161.789 Q557.401 162.9 554.253 162.9 Q550.271 162.9 547.91 160.678 Q545.572 158.432 545.572 154.682 Q545.572 150.307 548.489 148.085 Q551.429 145.863 557.239 145.863 L563.211 145.863 L563.211 145.446 Q563.211 142.507 561.267 140.909 Q559.345 139.289 555.85 139.289 Q553.628 139.289 551.521 139.821 Q549.415 140.354 547.47 141.419 L547.47 137.483 Q549.808 136.581 552.007 136.141 Q554.206 135.678 556.29 135.678 Q561.915 135.678 564.693 138.594 Q567.47 141.511 567.47 147.437 Z\" fill=\"#000000\" fill-rule=\"nonzero\" fill-opacity=\"1\" /></svg>\n"
      ],
      "text/html": [
       "<?xml version=\"1.0\" encoding=\"utf-8\"?>\n",
       "<svg xmlns=\"http://www.w3.org/2000/svg\" xmlns:xlink=\"http://www.w3.org/1999/xlink\" width=\"600\" height=\"400\" viewBox=\"0 0 2400 1600\">\n",
       "<defs>\n",
       "  <clipPath id=\"clip060\">\n",
       "    <rect x=\"0\" y=\"0\" width=\"2400\" height=\"1600\"/>\n",
       "  </clipPath>\n",
       "</defs>\n",
       "<path clip-path=\"url(#clip060)\" d=\"M0 1600 L2400 1600 L2400 0 L0 0  Z\" fill=\"#ffffff\" fill-rule=\"evenodd\" fill-opacity=\"1\"/>\n",
       "<defs>\n",
       "  <clipPath id=\"clip061\">\n",
       "    <rect x=\"480\" y=\"0\" width=\"1681\" height=\"1600\"/>\n",
       "  </clipPath>\n",
       "</defs>\n",
       "<path clip-path=\"url(#clip060)\" d=\"M205.121 1423.18 L2352.76 1423.18 L2352.76 47.2441 L205.121 47.2441  Z\" fill=\"#ffffff\" fill-rule=\"evenodd\" fill-opacity=\"1\"/>\n",
       "<defs>\n",
       "  <clipPath id=\"clip062\">\n",
       "    <rect x=\"205\" y=\"47\" width=\"2149\" height=\"1377\"/>\n",
       "  </clipPath>\n",
       "</defs>\n",
       "<polyline clip-path=\"url(#clip062)\" style=\"stroke:#000000; stroke-linecap:round; stroke-linejoin:round; stroke-width:2; stroke-opacity:0.1; fill:none\" points=\"265.903,1423.18 265.903,47.2441 \"/>\n",
       "<polyline clip-path=\"url(#clip062)\" style=\"stroke:#000000; stroke-linecap:round; stroke-linejoin:round; stroke-width:2; stroke-opacity:0.1; fill:none\" points=\"688.001,1423.18 688.001,47.2441 \"/>\n",
       "<polyline clip-path=\"url(#clip062)\" style=\"stroke:#000000; stroke-linecap:round; stroke-linejoin:round; stroke-width:2; stroke-opacity:0.1; fill:none\" points=\"1110.1,1423.18 1110.1,47.2441 \"/>\n",
       "<polyline clip-path=\"url(#clip062)\" style=\"stroke:#000000; stroke-linecap:round; stroke-linejoin:round; stroke-width:2; stroke-opacity:0.1; fill:none\" points=\"1532.2,1423.18 1532.2,47.2441 \"/>\n",
       "<polyline clip-path=\"url(#clip062)\" style=\"stroke:#000000; stroke-linecap:round; stroke-linejoin:round; stroke-width:2; stroke-opacity:0.1; fill:none\" points=\"1954.3,1423.18 1954.3,47.2441 \"/>\n",
       "<polyline clip-path=\"url(#clip060)\" style=\"stroke:#000000; stroke-linecap:round; stroke-linejoin:round; stroke-width:4; stroke-opacity:1; fill:none\" points=\"205.121,1423.18 2352.76,1423.18 \"/>\n",
       "<polyline clip-path=\"url(#clip060)\" style=\"stroke:#000000; stroke-linecap:round; stroke-linejoin:round; stroke-width:4; stroke-opacity:1; fill:none\" points=\"265.903,1423.18 265.903,1404.28 \"/>\n",
       "<polyline clip-path=\"url(#clip060)\" style=\"stroke:#000000; stroke-linecap:round; stroke-linejoin:round; stroke-width:4; stroke-opacity:1; fill:none\" points=\"688.001,1423.18 688.001,1404.28 \"/>\n",
       "<polyline clip-path=\"url(#clip060)\" style=\"stroke:#000000; stroke-linecap:round; stroke-linejoin:round; stroke-width:4; stroke-opacity:1; fill:none\" points=\"1110.1,1423.18 1110.1,1404.28 \"/>\n",
       "<polyline clip-path=\"url(#clip060)\" style=\"stroke:#000000; stroke-linecap:round; stroke-linejoin:round; stroke-width:4; stroke-opacity:1; fill:none\" points=\"1532.2,1423.18 1532.2,1404.28 \"/>\n",
       "<polyline clip-path=\"url(#clip060)\" style=\"stroke:#000000; stroke-linecap:round; stroke-linejoin:round; stroke-width:4; stroke-opacity:1; fill:none\" points=\"1954.3,1423.18 1954.3,1404.28 \"/>\n",
       "<path clip-path=\"url(#clip060)\" d=\"M243.287 1454.1 Q239.676 1454.1 237.848 1457.66 Q236.042 1461.2 236.042 1468.33 Q236.042 1475.44 237.848 1479.01 Q239.676 1482.55 243.287 1482.55 Q246.922 1482.55 248.727 1479.01 Q250.556 1475.44 250.556 1468.33 Q250.556 1461.2 248.727 1457.66 Q246.922 1454.1 243.287 1454.1 M243.287 1450.39 Q249.098 1450.39 252.153 1455 Q255.232 1459.58 255.232 1468.33 Q255.232 1477.06 252.153 1481.67 Q249.098 1486.25 243.287 1486.25 Q237.477 1486.25 234.399 1481.67 Q231.343 1477.06 231.343 1468.33 Q231.343 1459.58 234.399 1455 Q237.477 1450.39 243.287 1450.39 Z\" fill=\"#000000\" fill-rule=\"nonzero\" fill-opacity=\"1\" /><path clip-path=\"url(#clip060)\" d=\"M263.449 1479.7 L268.334 1479.7 L268.334 1485.58 L263.449 1485.58 L263.449 1479.7 Z\" fill=\"#000000\" fill-rule=\"nonzero\" fill-opacity=\"1\" /><path clip-path=\"url(#clip060)\" d=\"M288.519 1454.1 Q284.908 1454.1 283.079 1457.66 Q281.273 1461.2 281.273 1468.33 Q281.273 1475.44 283.079 1479.01 Q284.908 1482.55 288.519 1482.55 Q292.153 1482.55 293.959 1479.01 Q295.787 1475.44 295.787 1468.33 Q295.787 1461.2 293.959 1457.66 Q292.153 1454.1 288.519 1454.1 M288.519 1450.39 Q294.329 1450.39 297.384 1455 Q300.463 1459.58 300.463 1468.33 Q300.463 1477.06 297.384 1481.67 Q294.329 1486.25 288.519 1486.25 Q282.709 1486.25 279.63 1481.67 Q276.574 1477.06 276.574 1468.33 Q276.574 1459.58 279.63 1455 Q282.709 1450.39 288.519 1450.39 Z\" fill=\"#000000\" fill-rule=\"nonzero\" fill-opacity=\"1\" /><path clip-path=\"url(#clip060)\" d=\"M659.737 1481.64 L676.057 1481.64 L676.057 1485.58 L654.112 1485.58 L654.112 1481.64 Q656.774 1478.89 661.358 1474.26 Q665.964 1469.61 667.145 1468.27 Q669.39 1465.74 670.27 1464.01 Q671.173 1462.25 671.173 1460.56 Q671.173 1457.8 669.228 1456.07 Q667.307 1454.33 664.205 1454.33 Q662.006 1454.33 659.552 1455.09 Q657.122 1455.86 654.344 1457.41 L654.344 1452.69 Q657.168 1451.55 659.622 1450.97 Q662.075 1450.39 664.112 1450.39 Q669.483 1450.39 672.677 1453.08 Q675.872 1455.77 675.872 1460.26 Q675.872 1462.39 675.061 1464.31 Q674.274 1466.2 672.168 1468.8 Q671.589 1469.47 668.487 1472.69 Q665.386 1475.88 659.737 1481.64 Z\" fill=\"#000000\" fill-rule=\"nonzero\" fill-opacity=\"1\" /><path clip-path=\"url(#clip060)\" d=\"M685.872 1479.7 L690.756 1479.7 L690.756 1485.58 L685.872 1485.58 L685.872 1479.7 Z\" fill=\"#000000\" fill-rule=\"nonzero\" fill-opacity=\"1\" /><path clip-path=\"url(#clip060)\" d=\"M700.987 1451.02 L719.344 1451.02 L719.344 1454.96 L705.27 1454.96 L705.27 1463.43 Q706.288 1463.08 707.307 1462.92 Q708.325 1462.73 709.344 1462.73 Q715.131 1462.73 718.51 1465.9 Q721.89 1469.08 721.89 1474.49 Q721.89 1480.07 718.418 1483.17 Q714.945 1486.25 708.626 1486.25 Q706.45 1486.25 704.182 1485.88 Q701.936 1485.51 699.529 1484.77 L699.529 1480.07 Q701.612 1481.2 703.834 1481.76 Q706.057 1482.32 708.533 1482.32 Q712.538 1482.32 714.876 1480.21 Q717.214 1478.1 717.214 1474.49 Q717.214 1470.88 714.876 1468.77 Q712.538 1466.67 708.533 1466.67 Q706.658 1466.67 704.783 1467.08 Q702.932 1467.5 700.987 1468.38 L700.987 1451.02 Z\" fill=\"#000000\" fill-rule=\"nonzero\" fill-opacity=\"1\" /><path clip-path=\"url(#clip060)\" d=\"M1077.26 1451.02 L1095.62 1451.02 L1095.62 1454.96 L1081.55 1454.96 L1081.55 1463.43 Q1082.56 1463.08 1083.58 1462.92 Q1084.6 1462.73 1085.62 1462.73 Q1091.41 1462.73 1094.79 1465.9 Q1098.17 1469.08 1098.17 1474.49 Q1098.17 1480.07 1094.69 1483.17 Q1091.22 1486.25 1084.9 1486.25 Q1082.73 1486.25 1080.46 1485.88 Q1078.21 1485.51 1075.81 1484.77 L1075.81 1480.07 Q1077.89 1481.2 1080.11 1481.76 Q1082.33 1482.32 1084.81 1482.32 Q1088.81 1482.32 1091.15 1480.21 Q1093.49 1478.1 1093.49 1474.49 Q1093.49 1470.88 1091.15 1468.77 Q1088.81 1466.67 1084.81 1466.67 Q1082.94 1466.67 1081.06 1467.08 Q1079.21 1467.5 1077.26 1468.38 L1077.26 1451.02 Z\" fill=\"#000000\" fill-rule=\"nonzero\" fill-opacity=\"1\" /><path clip-path=\"url(#clip060)\" d=\"M1107.38 1479.7 L1112.26 1479.7 L1112.26 1485.58 L1107.38 1485.58 L1107.38 1479.7 Z\" fill=\"#000000\" fill-rule=\"nonzero\" fill-opacity=\"1\" /><path clip-path=\"url(#clip060)\" d=\"M1132.45 1454.1 Q1128.84 1454.1 1127.01 1457.66 Q1125.2 1461.2 1125.2 1468.33 Q1125.2 1475.44 1127.01 1479.01 Q1128.84 1482.55 1132.45 1482.55 Q1136.08 1482.55 1137.89 1479.01 Q1139.72 1475.44 1139.72 1468.33 Q1139.72 1461.2 1137.89 1457.66 Q1136.08 1454.1 1132.45 1454.1 M1132.45 1450.39 Q1138.26 1450.39 1141.31 1455 Q1144.39 1459.58 1144.39 1468.33 Q1144.39 1477.06 1141.31 1481.67 Q1138.26 1486.25 1132.45 1486.25 Q1126.64 1486.25 1123.56 1481.67 Q1120.5 1477.06 1120.5 1468.33 Q1120.5 1459.58 1123.56 1455 Q1126.64 1450.39 1132.45 1450.39 Z\" fill=\"#000000\" fill-rule=\"nonzero\" fill-opacity=\"1\" /><path clip-path=\"url(#clip060)\" d=\"M1498.52 1451.02 L1520.74 1451.02 L1520.74 1453.01 L1508.19 1485.58 L1503.31 1485.58 L1515.11 1454.96 L1498.52 1454.96 L1498.52 1451.02 Z\" fill=\"#000000\" fill-rule=\"nonzero\" fill-opacity=\"1\" /><path clip-path=\"url(#clip060)\" d=\"M1529.86 1479.7 L1534.74 1479.7 L1534.74 1485.58 L1529.86 1485.58 L1529.86 1479.7 Z\" fill=\"#000000\" fill-rule=\"nonzero\" fill-opacity=\"1\" /><path clip-path=\"url(#clip060)\" d=\"M1544.97 1451.02 L1563.33 1451.02 L1563.33 1454.96 L1549.26 1454.96 L1549.26 1463.43 Q1550.28 1463.08 1551.29 1462.92 Q1552.31 1462.73 1553.33 1462.73 Q1559.12 1462.73 1562.5 1465.9 Q1565.88 1469.08 1565.88 1474.49 Q1565.88 1480.07 1562.41 1483.17 Q1558.93 1486.25 1552.61 1486.25 Q1550.44 1486.25 1548.17 1485.88 Q1545.92 1485.51 1543.52 1484.77 L1543.52 1480.07 Q1545.6 1481.2 1547.82 1481.76 Q1550.04 1482.32 1552.52 1482.32 Q1556.53 1482.32 1558.86 1480.21 Q1561.2 1478.1 1561.2 1474.49 Q1561.2 1470.88 1558.86 1468.77 Q1556.53 1466.67 1552.52 1466.67 Q1550.65 1466.67 1548.77 1467.08 Q1546.92 1467.5 1544.97 1468.38 L1544.97 1451.02 Z\" fill=\"#000000\" fill-rule=\"nonzero\" fill-opacity=\"1\" /><path clip-path=\"url(#clip060)\" d=\"M1906.37 1481.64 L1914.01 1481.64 L1914.01 1455.28 L1905.7 1456.95 L1905.7 1452.69 L1913.96 1451.02 L1918.64 1451.02 L1918.64 1481.64 L1926.27 1481.64 L1926.27 1485.58 L1906.37 1485.58 L1906.37 1481.64 Z\" fill=\"#000000\" fill-rule=\"nonzero\" fill-opacity=\"1\" /><path clip-path=\"url(#clip060)\" d=\"M1945.72 1454.1 Q1942.11 1454.1 1940.28 1457.66 Q1938.47 1461.2 1938.47 1468.33 Q1938.47 1475.44 1940.28 1479.01 Q1942.11 1482.55 1945.72 1482.55 Q1949.35 1482.55 1951.16 1479.01 Q1952.99 1475.44 1952.99 1468.33 Q1952.99 1461.2 1951.16 1457.66 Q1949.35 1454.1 1945.72 1454.1 M1945.72 1450.39 Q1951.53 1450.39 1954.58 1455 Q1957.66 1459.58 1957.66 1468.33 Q1957.66 1477.06 1954.58 1481.67 Q1951.53 1486.25 1945.72 1486.25 Q1939.91 1486.25 1936.83 1481.67 Q1933.77 1477.06 1933.77 1468.33 Q1933.77 1459.58 1936.83 1455 Q1939.91 1450.39 1945.72 1450.39 Z\" fill=\"#000000\" fill-rule=\"nonzero\" fill-opacity=\"1\" /><path clip-path=\"url(#clip060)\" d=\"M1965.88 1479.7 L1970.77 1479.7 L1970.77 1485.58 L1965.88 1485.58 L1965.88 1479.7 Z\" fill=\"#000000\" fill-rule=\"nonzero\" fill-opacity=\"1\" /><path clip-path=\"url(#clip060)\" d=\"M1990.95 1454.1 Q1987.34 1454.1 1985.51 1457.66 Q1983.7 1461.2 1983.7 1468.33 Q1983.7 1475.44 1985.51 1479.01 Q1987.34 1482.55 1990.95 1482.55 Q1994.58 1482.55 1996.39 1479.01 Q1998.22 1475.44 1998.22 1468.33 Q1998.22 1461.2 1996.39 1457.66 Q1994.58 1454.1 1990.95 1454.1 M1990.95 1450.39 Q1996.76 1450.39 1999.82 1455 Q2002.89 1459.58 2002.89 1468.33 Q2002.89 1477.06 1999.82 1481.67 Q1996.76 1486.25 1990.95 1486.25 Q1985.14 1486.25 1982.06 1481.67 Q1979.01 1477.06 1979.01 1468.33 Q1979.01 1459.58 1982.06 1455 Q1985.14 1450.39 1990.95 1450.39 Z\" fill=\"#000000\" fill-rule=\"nonzero\" fill-opacity=\"1\" /><path clip-path=\"url(#clip060)\" d=\"M1291.71 1525.1 Q1291.71 1525.33 1291.16 1526.29 Q1290.65 1527.23 1288.75 1529.58 Q1286.85 1531.93 1284.01 1534.67 Q1282.95 1535.73 1281.34 1537.21 Q1279.73 1538.69 1278.63 1539.66 L1277.54 1540.62 Q1273.35 1544.17 1269.68 1548.13 Q1269.94 1548.03 1270.39 1548 Q1270.84 1547.93 1271.16 1547.93 L1271.48 1547.93 Q1273.16 1547.93 1276.09 1549.06 Q1278.67 1549.9 1279.99 1549.9 Q1281.27 1549.9 1282.69 1549.45 Q1284.11 1549 1285.65 1547.68 Q1287.2 1546.36 1287.91 1544.36 Q1288.04 1544.04 1288.1 1543.94 Q1288.17 1543.81 1288.36 1543.68 Q1288.55 1543.52 1288.81 1543.52 Q1289.17 1543.52 1289.39 1543.71 Q1289.62 1543.91 1289.62 1544.17 Q1289.62 1544.75 1289.17 1545.9 Q1288.75 1547.06 1287.81 1548.51 Q1286.91 1549.96 1285.72 1551.28 Q1284.56 1552.57 1282.82 1553.47 Q1281.08 1554.34 1279.25 1554.34 Q1277.93 1554.34 1276.96 1553.7 Q1275.99 1553.09 1275.03 1551.9 Q1273.71 1550.38 1273 1549.9 Q1272.29 1549.38 1271.19 1549.38 Q1268.26 1549.38 1265.59 1553.47 Q1265.3 1554.05 1265.11 1554.18 Q1264.95 1554.34 1264.56 1554.34 Q1263.75 1554.31 1263.75 1553.67 Q1263.75 1553.41 1264.46 1552.28 Q1265.2 1551.12 1266.85 1549.09 Q1268.52 1547.06 1270.55 1545.04 L1276.48 1539.5 Q1283.05 1533.96 1285.65 1530.83 Q1284.56 1530.83 1284.08 1530.8 Q1283.63 1530.77 1282.72 1530.57 Q1281.82 1530.35 1280.57 1529.87 Q1277.64 1528.87 1276.41 1528.87 Q1276.09 1528.87 1275.74 1528.9 Q1275.38 1528.93 1274.58 1529.09 Q1273.8 1529.25 1273.16 1529.58 Q1272.51 1529.87 1271.84 1530.51 Q1271.16 1531.12 1270.81 1531.96 Q1270.71 1532.22 1270.65 1532.35 Q1270.58 1532.48 1270.39 1532.6 Q1270.23 1532.7 1269.97 1532.7 Q1269.58 1532.7 1269.36 1532.48 Q1269.17 1532.25 1269.17 1531.96 Q1269.17 1531.38 1269.75 1530.19 Q1270.32 1529 1271.29 1527.71 Q1272.26 1526.39 1273.84 1525.42 Q1275.41 1524.46 1277.15 1524.46 Q1278.18 1524.46 1279.05 1524.91 Q1279.95 1525.36 1280.41 1525.84 Q1280.89 1526.29 1281.69 1527.29 Q1282.37 1528.06 1282.69 1528.38 Q1283.01 1528.71 1283.66 1529.06 Q1284.33 1529.38 1285.08 1529.38 Q1286.3 1529.38 1287.43 1528.45 Q1288.55 1527.48 1290 1525.16 Q1290.39 1524.46 1291 1524.46 Q1291.71 1524.46 1291.71 1525.1 Z\" fill=\"#000000\" fill-rule=\"nonzero\" fill-opacity=\"1\" /><polyline clip-path=\"url(#clip062)\" style=\"stroke:#000000; stroke-linecap:round; stroke-linejoin:round; stroke-width:2; stroke-opacity:0.1; fill:none\" points=\"205.121,1371.86 2352.76,1371.86 \"/>\n",
       "<polyline clip-path=\"url(#clip062)\" style=\"stroke:#000000; stroke-linecap:round; stroke-linejoin:round; stroke-width:2; stroke-opacity:0.1; fill:none\" points=\"205.121,1164.82 2352.76,1164.82 \"/>\n",
       "<polyline clip-path=\"url(#clip062)\" style=\"stroke:#000000; stroke-linecap:round; stroke-linejoin:round; stroke-width:2; stroke-opacity:0.1; fill:none\" points=\"205.121,957.79 2352.76,957.79 \"/>\n",
       "<polyline clip-path=\"url(#clip062)\" style=\"stroke:#000000; stroke-linecap:round; stroke-linejoin:round; stroke-width:2; stroke-opacity:0.1; fill:none\" points=\"205.121,750.757 2352.76,750.757 \"/>\n",
       "<polyline clip-path=\"url(#clip062)\" style=\"stroke:#000000; stroke-linecap:round; stroke-linejoin:round; stroke-width:2; stroke-opacity:0.1; fill:none\" points=\"205.121,543.724 2352.76,543.724 \"/>\n",
       "<polyline clip-path=\"url(#clip062)\" style=\"stroke:#000000; stroke-linecap:round; stroke-linejoin:round; stroke-width:2; stroke-opacity:0.1; fill:none\" points=\"205.121,336.692 2352.76,336.692 \"/>\n",
       "<polyline clip-path=\"url(#clip062)\" style=\"stroke:#000000; stroke-linecap:round; stroke-linejoin:round; stroke-width:2; stroke-opacity:0.1; fill:none\" points=\"205.121,129.659 2352.76,129.659 \"/>\n",
       "<polyline clip-path=\"url(#clip060)\" style=\"stroke:#000000; stroke-linecap:round; stroke-linejoin:round; stroke-width:4; stroke-opacity:1; fill:none\" points=\"205.121,1423.18 205.121,47.2441 \"/>\n",
       "<polyline clip-path=\"url(#clip060)\" style=\"stroke:#000000; stroke-linecap:round; stroke-linejoin:round; stroke-width:4; stroke-opacity:1; fill:none\" points=\"205.121,1371.86 224.019,1371.86 \"/>\n",
       "<polyline clip-path=\"url(#clip060)\" style=\"stroke:#000000; stroke-linecap:round; stroke-linejoin:round; stroke-width:4; stroke-opacity:1; fill:none\" points=\"205.121,1164.82 224.019,1164.82 \"/>\n",
       "<polyline clip-path=\"url(#clip060)\" style=\"stroke:#000000; stroke-linecap:round; stroke-linejoin:round; stroke-width:4; stroke-opacity:1; fill:none\" points=\"205.121,957.79 224.019,957.79 \"/>\n",
       "<polyline clip-path=\"url(#clip060)\" style=\"stroke:#000000; stroke-linecap:round; stroke-linejoin:round; stroke-width:4; stroke-opacity:1; fill:none\" points=\"205.121,750.757 224.019,750.757 \"/>\n",
       "<polyline clip-path=\"url(#clip060)\" style=\"stroke:#000000; stroke-linecap:round; stroke-linejoin:round; stroke-width:4; stroke-opacity:1; fill:none\" points=\"205.121,543.724 224.019,543.724 \"/>\n",
       "<polyline clip-path=\"url(#clip060)\" style=\"stroke:#000000; stroke-linecap:round; stroke-linejoin:round; stroke-width:4; stroke-opacity:1; fill:none\" points=\"205.121,336.692 224.019,336.692 \"/>\n",
       "<polyline clip-path=\"url(#clip060)\" style=\"stroke:#000000; stroke-linecap:round; stroke-linejoin:round; stroke-width:4; stroke-opacity:1; fill:none\" points=\"205.121,129.659 224.019,129.659 \"/>\n",
       "<path clip-path=\"url(#clip060)\" d=\"M157.177 1357.65 Q153.566 1357.65 151.737 1361.22 Q149.931 1364.76 149.931 1371.89 Q149.931 1379 151.737 1382.56 Q153.566 1386.1 157.177 1386.1 Q160.811 1386.1 162.616 1382.56 Q164.445 1379 164.445 1371.89 Q164.445 1364.76 162.616 1361.22 Q160.811 1357.65 157.177 1357.65 M157.177 1353.95 Q162.987 1353.95 166.042 1358.56 Q169.121 1363.14 169.121 1371.89 Q169.121 1380.62 166.042 1385.22 Q162.987 1389.81 157.177 1389.81 Q151.366 1389.81 148.288 1385.22 Q145.232 1380.62 145.232 1371.89 Q145.232 1363.14 148.288 1358.56 Q151.366 1353.95 157.177 1353.95 Z\" fill=\"#000000\" fill-rule=\"nonzero\" fill-opacity=\"1\" /><path clip-path=\"url(#clip060)\" d=\"M117.825 1178.17 L125.464 1178.17 L125.464 1151.8 L117.154 1153.47 L117.154 1149.21 L125.418 1147.54 L130.093 1147.54 L130.093 1178.17 L137.732 1178.17 L137.732 1182.1 L117.825 1182.1 L117.825 1178.17 Z\" fill=\"#000000\" fill-rule=\"nonzero\" fill-opacity=\"1\" /><path clip-path=\"url(#clip060)\" d=\"M157.177 1150.62 Q153.566 1150.62 151.737 1154.19 Q149.931 1157.73 149.931 1164.86 Q149.931 1171.96 151.737 1175.53 Q153.566 1179.07 157.177 1179.07 Q160.811 1179.07 162.616 1175.53 Q164.445 1171.96 164.445 1164.86 Q164.445 1157.73 162.616 1154.19 Q160.811 1150.62 157.177 1150.62 M157.177 1146.92 Q162.987 1146.92 166.042 1151.52 Q169.121 1156.11 169.121 1164.86 Q169.121 1173.58 166.042 1178.19 Q162.987 1182.77 157.177 1182.77 Q151.366 1182.77 148.288 1178.19 Q145.232 1173.58 145.232 1164.86 Q145.232 1156.11 148.288 1151.52 Q151.366 1146.92 157.177 1146.92 Z\" fill=\"#000000\" fill-rule=\"nonzero\" fill-opacity=\"1\" /><path clip-path=\"url(#clip060)\" d=\"M121.043 971.135 L137.362 971.135 L137.362 975.07 L115.418 975.07 L115.418 971.135 Q118.08 968.381 122.663 963.751 Q127.269 959.098 128.45 957.756 Q130.695 955.232 131.575 953.496 Q132.478 951.737 132.478 950.047 Q132.478 947.293 130.533 945.557 Q128.612 943.82 125.51 943.82 Q123.311 943.82 120.857 944.584 Q118.427 945.348 115.649 946.899 L115.649 942.177 Q118.473 941.043 120.927 940.464 Q123.38 939.885 125.418 939.885 Q130.788 939.885 133.982 942.57 Q137.177 945.256 137.177 949.746 Q137.177 951.876 136.367 953.797 Q135.579 955.695 133.473 958.288 Q132.894 958.959 129.792 962.177 Q126.691 965.371 121.043 971.135 Z\" fill=\"#000000\" fill-rule=\"nonzero\" fill-opacity=\"1\" /><path clip-path=\"url(#clip060)\" d=\"M157.177 943.589 Q153.566 943.589 151.737 947.154 Q149.931 950.695 149.931 957.825 Q149.931 964.931 151.737 968.496 Q153.566 972.038 157.177 972.038 Q160.811 972.038 162.616 968.496 Q164.445 964.931 164.445 957.825 Q164.445 950.695 162.616 947.154 Q160.811 943.589 157.177 943.589 M157.177 939.885 Q162.987 939.885 166.042 944.492 Q169.121 949.075 169.121 957.825 Q169.121 966.552 166.042 971.158 Q162.987 975.742 157.177 975.742 Q151.366 975.742 148.288 971.158 Q145.232 966.552 145.232 957.825 Q145.232 949.075 148.288 944.492 Q151.366 939.885 157.177 939.885 Z\" fill=\"#000000\" fill-rule=\"nonzero\" fill-opacity=\"1\" /><path clip-path=\"url(#clip060)\" d=\"M131.181 749.403 Q134.538 750.121 136.413 752.389 Q138.311 754.658 138.311 757.991 Q138.311 763.107 134.792 765.908 Q131.274 768.709 124.793 768.709 Q122.617 768.709 120.302 768.269 Q118.01 767.852 115.556 766.996 L115.556 762.482 Q117.501 763.616 119.816 764.195 Q122.13 764.774 124.654 764.774 Q129.052 764.774 131.343 763.037 Q133.658 761.301 133.658 757.991 Q133.658 754.936 131.505 753.223 Q129.376 751.487 125.556 751.487 L121.529 751.487 L121.529 747.644 L125.742 747.644 Q129.191 747.644 131.019 746.278 Q132.848 744.889 132.848 742.297 Q132.848 739.635 130.95 738.223 Q129.075 736.788 125.556 736.788 Q123.635 736.788 121.436 737.204 Q119.237 737.621 116.598 738.501 L116.598 734.334 Q119.26 733.593 121.575 733.223 Q123.913 732.852 125.973 732.852 Q131.297 732.852 134.399 735.283 Q137.501 737.69 137.501 741.811 Q137.501 744.681 135.857 746.672 Q134.214 748.639 131.181 749.403 Z\" fill=\"#000000\" fill-rule=\"nonzero\" fill-opacity=\"1\" /><path clip-path=\"url(#clip060)\" d=\"M157.177 736.556 Q153.566 736.556 151.737 740.121 Q149.931 743.663 149.931 750.792 Q149.931 757.899 151.737 761.463 Q153.566 765.005 157.177 765.005 Q160.811 765.005 162.616 761.463 Q164.445 757.899 164.445 750.792 Q164.445 743.663 162.616 740.121 Q160.811 736.556 157.177 736.556 M157.177 732.852 Q162.987 732.852 166.042 737.459 Q169.121 742.042 169.121 750.792 Q169.121 759.519 166.042 764.125 Q162.987 768.709 157.177 768.709 Q151.366 768.709 148.288 764.125 Q145.232 759.519 145.232 750.792 Q145.232 742.042 148.288 737.459 Q151.366 732.852 157.177 732.852 Z\" fill=\"#000000\" fill-rule=\"nonzero\" fill-opacity=\"1\" /><path clip-path=\"url(#clip060)\" d=\"M129.862 530.519 L118.056 548.968 L129.862 548.968 L129.862 530.519 M128.635 526.444 L134.515 526.444 L134.515 548.968 L139.445 548.968 L139.445 552.856 L134.515 552.856 L134.515 561.004 L129.862 561.004 L129.862 552.856 L114.26 552.856 L114.26 548.343 L128.635 526.444 Z\" fill=\"#000000\" fill-rule=\"nonzero\" fill-opacity=\"1\" /><path clip-path=\"url(#clip060)\" d=\"M157.177 529.523 Q153.566 529.523 151.737 533.088 Q149.931 536.63 149.931 543.759 Q149.931 550.866 151.737 554.43 Q153.566 557.972 157.177 557.972 Q160.811 557.972 162.616 554.43 Q164.445 550.866 164.445 543.759 Q164.445 536.63 162.616 533.088 Q160.811 529.523 157.177 529.523 M157.177 525.819 Q162.987 525.819 166.042 530.426 Q169.121 535.009 169.121 543.759 Q169.121 552.486 166.042 557.092 Q162.987 561.676 157.177 561.676 Q151.366 561.676 148.288 557.092 Q145.232 552.486 145.232 543.759 Q145.232 535.009 148.288 530.426 Q151.366 525.819 157.177 525.819 Z\" fill=\"#000000\" fill-rule=\"nonzero\" fill-opacity=\"1\" /><path clip-path=\"url(#clip060)\" d=\"M117.061 319.412 L135.417 319.412 L135.417 323.347 L121.343 323.347 L121.343 331.819 Q122.362 331.472 123.38 331.31 Q124.399 331.124 125.418 331.124 Q131.205 331.124 134.584 334.296 Q137.964 337.467 137.964 342.884 Q137.964 348.462 134.492 351.564 Q131.019 354.643 124.7 354.643 Q122.524 354.643 120.255 354.273 Q118.01 353.902 115.603 353.161 L115.603 348.462 Q117.686 349.597 119.908 350.152 Q122.13 350.708 124.607 350.708 Q128.612 350.708 130.95 348.601 Q133.288 346.495 133.288 342.884 Q133.288 339.273 130.95 337.166 Q128.612 335.06 124.607 335.06 Q122.732 335.06 120.857 335.476 Q119.006 335.893 117.061 336.773 L117.061 319.412 Z\" fill=\"#000000\" fill-rule=\"nonzero\" fill-opacity=\"1\" /><path clip-path=\"url(#clip060)\" d=\"M157.177 322.49 Q153.566 322.49 151.737 326.055 Q149.931 329.597 149.931 336.726 Q149.931 343.833 151.737 347.398 Q153.566 350.939 157.177 350.939 Q160.811 350.939 162.616 347.398 Q164.445 343.833 164.445 336.726 Q164.445 329.597 162.616 326.055 Q160.811 322.49 157.177 322.49 M157.177 318.787 Q162.987 318.787 166.042 323.393 Q169.121 327.976 169.121 336.726 Q169.121 345.453 166.042 350.06 Q162.987 354.643 157.177 354.643 Q151.366 354.643 148.288 350.06 Q145.232 345.453 145.232 336.726 Q145.232 327.976 148.288 323.393 Q151.366 318.787 157.177 318.787 Z\" fill=\"#000000\" fill-rule=\"nonzero\" fill-opacity=\"1\" /><path clip-path=\"url(#clip060)\" d=\"M127.593 127.795 Q124.445 127.795 122.593 129.948 Q120.765 132.101 120.765 135.851 Q120.765 139.578 122.593 141.754 Q124.445 143.906 127.593 143.906 Q130.742 143.906 132.57 141.754 Q134.422 139.578 134.422 135.851 Q134.422 132.101 132.57 129.948 Q130.742 127.795 127.593 127.795 M136.876 113.143 L136.876 117.402 Q135.117 116.568 133.311 116.129 Q131.529 115.689 129.769 115.689 Q125.14 115.689 122.686 118.814 Q120.255 121.939 119.908 128.258 Q121.274 126.244 123.334 125.18 Q125.394 124.092 127.871 124.092 Q133.08 124.092 136.089 127.263 Q139.121 130.411 139.121 135.851 Q139.121 141.175 135.973 144.392 Q132.825 147.61 127.593 147.61 Q121.598 147.61 118.427 143.027 Q115.256 138.42 115.256 129.693 Q115.256 121.499 119.144 116.638 Q123.033 111.754 129.584 111.754 Q131.343 111.754 133.126 112.101 Q134.931 112.448 136.876 113.143 Z\" fill=\"#000000\" fill-rule=\"nonzero\" fill-opacity=\"1\" /><path clip-path=\"url(#clip060)\" d=\"M157.177 115.457 Q153.566 115.457 151.737 119.022 Q149.931 122.564 149.931 129.693 Q149.931 136.8 151.737 140.365 Q153.566 143.906 157.177 143.906 Q160.811 143.906 162.616 140.365 Q164.445 136.8 164.445 129.693 Q164.445 122.564 162.616 119.022 Q160.811 115.457 157.177 115.457 M157.177 111.754 Q162.987 111.754 166.042 116.36 Q169.121 120.943 169.121 129.693 Q169.121 138.42 166.042 143.027 Q162.987 147.61 157.177 147.61 Q151.366 147.61 148.288 143.027 Q145.232 138.42 145.232 129.693 Q145.232 120.943 148.288 116.36 Q151.366 111.754 157.177 111.754 Z\" fill=\"#000000\" fill-rule=\"nonzero\" fill-opacity=\"1\" /><path clip-path=\"url(#clip060)\" d=\"M24.7187 937.85 Q26.49 937.85 27.585 938.977 Q28.68 940.072 28.68 941.457 Q28.68 942.455 28.0681 943.196 Q27.4562 943.905 26.3934 943.905 Q25.2984 943.905 24.139 943.067 Q22.9796 942.23 22.8185 940.33 Q21.6269 941.586 21.6269 943.583 Q21.6269 944.581 22.271 945.418 Q22.883 946.223 23.8813 946.674 Q24.9119 947.157 30.7412 948.252 Q32.6413 948.607 34.4771 948.929 Q36.3128 949.251 38.2451 949.637 L38.2451 944.162 Q38.2451 943.454 38.2774 943.164 Q38.3096 942.874 38.4706 942.649 Q38.6316 942.391 38.9859 942.391 Q39.8876 942.391 40.1131 942.81 Q40.3063 943.196 40.3063 944.355 L40.3063 950.024 L61.2079 953.985 Q61.8198 954.082 63.7522 954.5 Q65.6523 954.887 68.7763 955.821 Q71.9325 956.755 73.8004 957.689 Q74.8632 958.204 75.8616 958.88 Q76.8922 959.524 77.9228 960.458 Q78.9534 961.392 79.5653 962.616 Q80.2094 963.84 80.2094 965.128 Q80.2094 967.318 78.9856 969.025 Q77.7617 970.732 75.6684 970.732 Q73.897 970.732 72.802 969.637 Q71.707 968.51 71.707 967.125 Q71.707 966.127 72.3189 965.418 Q72.9309 964.677 73.9937 964.677 Q74.4445 964.677 74.9598 964.838 Q75.4751 964.999 76.0548 965.354 Q76.6667 965.708 77.0854 966.481 Q77.5041 967.254 77.5685 968.317 Q78.7601 967.061 78.7601 965.128 Q78.7601 964.516 78.5025 963.969 Q78.277 963.421 77.6973 962.97 Q77.1176 962.487 76.5379 962.133 Q75.9904 961.779 74.9276 961.425 Q73.897 961.07 73.1241 960.845 Q72.3512 960.619 70.9663 960.33 Q69.5815 960.008 68.7441 959.847 Q67.939 959.685 66.3609 959.396 L40.3063 954.468 L40.3063 958.816 Q40.3063 959.589 40.2741 959.911 Q40.2419 960.201 40.0809 960.426 Q39.8876 960.652 39.5012 960.652 Q38.8893 960.652 38.6316 960.394 Q38.3418 960.104 38.3096 959.782 Q38.2451 959.46 38.2451 958.687 L38.2451 954.114 Q30.0971 952.568 27.9071 951.956 Q25.5882 951.248 23.978 950.153 Q22.3355 949.058 21.5625 947.834 Q20.7896 946.61 20.4997 945.612 Q20.1777 944.581 20.1777 943.583 Q20.1777 941.328 21.4015 939.589 Q22.5931 937.85 24.7187 937.85 Z\" fill=\"#000000\" fill-rule=\"nonzero\" fill-opacity=\"1\" /><path clip-path=\"url(#clip060)\" d=\"M50.1935 928.97 Q39.0503 928.97 30.0649 924.815 Q26.2968 923.044 23.1406 920.564 Q19.9844 918.084 18.5996 916.442 Q17.2147 914.799 17.2147 914.348 Q17.2147 913.704 17.8588 913.672 Q18.1809 913.672 18.986 914.542 Q29.8072 925.17 50.1935 925.137 Q70.6442 925.137 81.0467 914.799 Q82.1739 913.672 82.5282 913.672 Q83.1723 913.672 83.1723 914.348 Q83.1723 914.799 81.8519 916.377 Q80.5314 917.956 77.5041 920.403 Q74.4767 922.851 70.7731 924.622 Q61.7876 928.97 50.1935 928.97 Z\" fill=\"#000000\" fill-rule=\"nonzero\" fill-opacity=\"1\" /><path clip-path=\"url(#clip060)\" d=\"M83.1723 902.322 L17.2147 902.322 L17.2147 892.371 L18.7284 892.371 L18.7284 897.91 L81.6586 897.91 L81.6586 892.371 L83.1723 892.371 L83.1723 902.322 Z\" fill=\"#000000\" fill-rule=\"nonzero\" fill-opacity=\"1\" /><path clip-path=\"url(#clip060)\" d=\"M29.0343 887.34 L26.9731 887.34 Q26.9731 879.418 22.7541 875.327 Q22.7541 874.2 23.0118 874.007 Q23.2694 873.814 24.461 873.814 L61.4656 873.814 Q63.4301 873.814 64.042 872.848 Q64.654 871.881 64.654 867.662 L64.654 865.569 L66.6829 865.569 Q66.4897 867.888 66.4897 876.261 Q66.4897 884.635 66.6829 886.922 L64.654 886.922 L64.654 884.828 Q64.654 880.674 64.0742 879.675 Q63.4623 878.677 61.4656 878.677 L27.2952 878.677 Q29.0343 882.123 29.0343 887.34 Z\" fill=\"#000000\" fill-rule=\"nonzero\" fill-opacity=\"1\" /><path clip-path=\"url(#clip060)\" d=\"M65.6201 860.428 Q64.5573 861.426 63.1725 861.426 Q61.7876 861.426 60.7893 860.428 Q59.7587 859.429 59.7587 857.916 Q59.7587 856.466 60.7248 855.5 Q61.6588 854.502 63.2047 854.502 Q64.7184 854.502 65.7167 855.565 Q66.6829 856.595 66.6829 857.916 Q66.6829 859.429 65.6201 860.428 Z\" fill=\"#000000\" fill-rule=\"nonzero\" fill-opacity=\"1\" /><path clip-path=\"url(#clip060)\" d=\"M45.5881 843.276 Q35.8941 843.276 30.6124 840.828 Q22.7541 837.414 22.7541 829.363 Q22.7541 827.656 23.2372 825.885 Q23.6881 824.081 25.4594 821.827 Q27.2307 819.54 30.1293 818.155 Q35.7331 815.515 45.5881 815.515 Q55.2176 815.515 60.4672 817.962 Q68.1322 821.537 68.1322 829.427 Q68.1322 832.39 66.6185 835.418 Q65.1048 838.413 61.4656 840.313 Q56.0228 843.276 45.5881 843.276 M44.7829 837.801 Q54.7345 837.801 58.6959 837.092 Q62.9792 836.287 64.8472 834.097 Q66.6829 831.875 66.6829 829.427 Q66.6829 826.787 64.7184 824.597 Q62.7216 822.374 58.4382 821.698 Q54.2193 820.957 44.7829 820.99 Q35.6043 820.99 31.9328 821.634 Q27.6494 822.503 25.9425 824.822 Q24.2034 827.109 24.2034 829.427 Q24.2034 830.297 24.461 831.231 Q24.7187 832.133 25.4594 833.453 Q26.2002 834.774 28.0359 835.804 Q29.8716 836.803 32.6413 837.286 Q36.2162 837.801 44.7829 837.801 Z\" fill=\"#000000\" fill-rule=\"nonzero\" fill-opacity=\"1\" /><path clip-path=\"url(#clip060)\" d=\"M65.6201 809.678 Q64.5573 810.612 63.1725 810.612 Q61.7876 810.612 60.757 809.71 Q59.6943 808.776 59.6943 807.101 Q59.6943 805.137 61.5944 804.01 Q63.4623 802.882 66.6185 802.882 Q70.0323 802.882 73.1885 804.267 Q76.3769 805.652 77.8906 807.005 Q79.4042 808.357 79.4042 808.905 Q79.4042 809.549 78.6957 809.549 Q78.4381 809.549 77.955 809.098 Q72.8664 804.364 66.6185 804.332 Q65.6201 804.332 65.6201 804.461 L65.749 804.622 Q66.6829 805.749 66.6829 807.101 Q66.6829 808.744 65.6201 809.678 Z\" fill=\"#000000\" fill-rule=\"nonzero\" fill-opacity=\"1\" /><path clip-path=\"url(#clip060)\" d=\"M38.1807 754.112 Q38.4062 754.112 39.3724 754.66 Q40.3063 755.175 42.6574 757.075 Q45.0084 758.975 47.7459 761.809 Q48.8087 762.872 50.2901 764.482 Q51.7716 766.093 52.7378 767.188 L53.704 768.283 Q57.2466 772.469 61.2079 776.141 Q61.1113 775.883 61.0791 775.432 Q61.0147 774.982 61.0147 774.659 L61.0147 774.337 Q61.0147 772.663 62.1419 769.732 Q62.9792 767.156 62.9792 765.835 Q62.9792 764.547 62.5284 763.13 Q62.0775 761.713 60.757 760.167 Q59.4366 758.621 57.4398 757.912 Q57.1178 757.784 57.0212 757.719 Q56.8923 757.655 56.7635 757.462 Q56.6025 757.268 56.6025 757.011 Q56.6025 756.656 56.7957 756.431 Q56.989 756.206 57.2466 756.206 Q57.8263 756.206 58.9857 756.656 Q60.1451 757.075 61.5944 758.009 Q63.0437 758.911 64.3641 760.102 Q65.6523 761.262 66.5541 763.001 Q67.4237 764.74 67.4237 766.576 Q67.4237 767.896 66.7795 768.862 Q66.1676 769.829 64.976 770.795 Q63.4623 772.115 62.9792 772.824 Q62.464 773.532 62.464 774.627 Q62.464 777.558 66.5541 780.231 Q67.1338 780.521 67.2626 780.714 Q67.4237 780.875 67.4237 781.262 Q67.3915 782.067 66.7473 782.067 Q66.4897 782.067 65.3625 781.358 Q64.2031 780.618 62.1741 778.975 Q60.1451 777.3 58.1162 775.271 L52.5768 769.346 Q47.0373 762.776 43.9134 760.167 Q43.9134 761.262 43.8812 761.745 Q43.849 762.196 43.6557 763.098 Q43.4303 763.999 42.9472 765.255 Q41.9488 768.186 41.9488 769.41 Q41.9488 769.732 41.981 770.086 Q42.0132 770.441 42.1743 771.246 Q42.3353 772.019 42.6574 772.663 Q42.9472 773.307 43.5913 773.983 Q44.2032 774.659 45.0406 775.014 Q45.2982 775.11 45.4271 775.175 Q45.5559 775.239 45.6847 775.432 Q45.7813 775.593 45.7813 775.851 Q45.7813 776.238 45.5559 776.463 Q45.3304 776.656 45.0406 776.656 Q44.4609 776.656 43.2693 776.077 Q42.0776 775.497 40.7894 774.531 Q39.469 773.564 38.5028 771.986 Q37.5366 770.408 37.5366 768.669 Q37.5366 767.639 37.9875 766.769 Q38.4384 765.867 38.9215 765.416 Q39.3724 764.933 40.3707 764.128 Q41.1437 763.452 41.4657 763.13 Q41.7878 762.808 42.1421 762.164 Q42.4641 761.487 42.4641 760.747 Q42.4641 759.523 41.5301 758.396 Q40.564 757.268 38.2451 755.819 Q37.5366 755.433 37.5366 754.821 Q37.5366 754.112 38.1807 754.112 Z\" fill=\"#000000\" fill-rule=\"nonzero\" fill-opacity=\"1\" /><path clip-path=\"url(#clip060)\" d=\"M65.6201 750.765 Q64.5573 751.699 63.1725 751.699 Q61.7876 751.699 60.757 750.798 Q59.6943 749.864 59.6943 748.189 Q59.6943 746.224 61.5944 745.097 Q63.4623 743.97 66.6185 743.97 Q70.0323 743.97 73.1885 745.355 Q76.3769 746.74 77.8906 748.092 Q79.4042 749.445 79.4042 749.993 Q79.4042 750.637 78.6957 750.637 Q78.4381 750.637 77.955 750.186 Q72.8664 745.452 66.6185 745.419 Q65.6201 745.419 65.6201 745.548 L65.749 745.709 Q66.6829 746.836 66.6829 748.189 Q66.6829 749.832 65.6201 750.765 Z\" fill=\"#000000\" fill-rule=\"nonzero\" fill-opacity=\"1\" /><path clip-path=\"url(#clip060)\" d=\"M38.1807 695.2 Q38.4062 695.2 39.3724 695.747 Q40.3063 696.262 42.6574 698.163 Q45.0084 700.063 47.7459 702.897 Q48.8087 703.96 50.2901 705.57 Q51.7716 707.18 52.7378 708.275 L53.704 709.37 Q57.2466 713.557 61.2079 717.228 Q61.1113 716.971 61.0791 716.52 Q61.0147 716.069 61.0147 715.747 L61.0147 715.425 Q61.0147 713.75 62.1419 710.82 Q62.9792 708.243 62.9792 706.923 Q62.9792 705.634 62.5284 704.217 Q62.0775 702.8 60.757 701.254 Q59.4366 699.709 57.4398 699 Q57.1178 698.871 57.0212 698.807 Q56.8923 698.742 56.7635 698.549 Q56.6025 698.356 56.6025 698.098 Q56.6025 697.744 56.7957 697.519 Q56.989 697.293 57.2466 697.293 Q57.8263 697.293 58.9857 697.744 Q60.1451 698.163 61.5944 699.097 Q63.0437 699.998 64.3641 701.19 Q65.6523 702.349 66.5541 704.089 Q67.4237 705.828 67.4237 707.663 Q67.4237 708.984 66.7795 709.95 Q66.1676 710.916 64.976 711.882 Q63.4623 713.203 62.9792 713.911 Q62.464 714.62 62.464 715.715 Q62.464 718.646 66.5541 721.319 Q67.1338 721.608 67.2626 721.802 Q67.4237 721.963 67.4237 722.349 Q67.3915 723.154 66.7473 723.154 Q66.4897 723.154 65.3625 722.446 Q64.2031 721.705 62.1741 720.063 Q60.1451 718.388 58.1162 716.359 L52.5768 710.433 Q47.0373 703.863 43.9134 701.254 Q43.9134 702.349 43.8812 702.832 Q43.849 703.283 43.6557 704.185 Q43.4303 705.087 42.9472 706.343 Q41.9488 709.274 41.9488 710.497 Q41.9488 710.82 41.981 711.174 Q42.0132 711.528 42.1743 712.333 Q42.3353 713.106 42.6574 713.75 Q42.9472 714.394 43.5913 715.071 Q44.2032 715.747 45.0406 716.101 Q45.2982 716.198 45.4271 716.262 Q45.5559 716.327 45.6847 716.52 Q45.7813 716.681 45.7813 716.939 Q45.7813 717.325 45.5559 717.551 Q45.3304 717.744 45.0406 717.744 Q44.4609 717.744 43.2693 717.164 Q42.0776 716.584 40.7894 715.618 Q39.469 714.652 38.5028 713.074 Q37.5366 711.496 37.5366 709.757 Q37.5366 708.726 37.9875 707.857 Q38.4384 706.955 38.9215 706.504 Q39.3724 706.021 40.3707 705.216 Q41.1437 704.539 41.4657 704.217 Q41.7878 703.895 42.1421 703.251 Q42.4641 702.575 42.4641 701.834 Q42.4641 700.61 41.5301 699.483 Q40.564 698.356 38.2451 696.907 Q37.5366 696.52 37.5366 695.908 Q37.5366 695.2 38.1807 695.2 Z\" fill=\"#000000\" fill-rule=\"nonzero\" fill-opacity=\"1\" /><path clip-path=\"url(#clip060)\" d=\"M46.9462 688.427 Q46.1121 688.427 45.8641 688.359 Q45.6161 688.269 45.2329 687.908 L35.3585 679.049 Q29.9029 674.202 25.1461 674.202 Q22.0575 674.202 19.8482 675.825 Q17.6389 677.425 17.6389 680.379 Q17.6389 682.408 18.8788 684.121 Q20.1187 685.834 22.328 686.623 Q22.283 686.488 22.283 686.015 Q22.283 684.865 23.0044 684.234 Q23.7258 683.58 24.6952 683.58 Q25.9351 683.58 26.5438 684.391 Q27.1299 685.181 27.1299 685.97 Q27.1299 686.285 27.0623 686.714 Q26.9947 687.119 26.3634 687.773 Q25.7097 688.427 24.5599 688.427 Q21.3361 688.427 18.7661 685.992 Q16.196 683.535 16.196 679.792 Q16.196 675.554 18.721 672.781 Q21.2234 669.986 25.1461 669.986 Q26.5212 669.986 27.7837 670.414 Q29.0236 670.82 29.993 671.384 Q30.9624 671.925 32.518 673.412 Q34.0735 674.9 35.1782 676.095 Q36.2828 677.29 38.6274 679.973 L43.3842 684.865 L43.3842 676.546 Q43.3842 672.488 43.0235 672.173 Q42.3698 671.722 38.9205 671.158 L38.9205 669.986 L46.9462 671.293 L46.9462 688.427 Z\" fill=\"#000000\" fill-rule=\"nonzero\" fill-opacity=\"1\" /><path clip-path=\"url(#clip060)\" d=\"M81.6586 663.132 L81.6586 657.593 L18.7284 657.593 L18.7284 663.132 L17.2147 663.132 L17.2147 653.181 L83.1723 653.181 L83.1723 663.132 L81.6586 663.132 Z\" fill=\"#000000\" fill-rule=\"nonzero\" fill-opacity=\"1\" /><path clip-path=\"url(#clip060)\" d=\"M82.5282 642.87 Q82.2061 642.87 81.401 642.033 Q70.5798 631.405 50.1935 631.405 Q29.7428 631.405 19.4047 641.614 Q18.2131 642.87 17.8588 642.87 Q17.2147 642.87 17.2147 642.226 Q17.2147 641.775 18.5352 640.197 Q19.8556 638.587 22.883 636.171 Q25.9103 633.723 29.614 631.92 Q38.5994 627.572 50.1935 627.572 Q61.3368 627.572 70.3222 631.727 Q74.0903 633.498 77.2464 635.978 Q80.4026 638.458 81.7875 640.1 Q83.1723 641.743 83.1723 642.226 Q83.1723 642.87 82.5282 642.87 Z\" fill=\"#000000\" fill-rule=\"nonzero\" fill-opacity=\"1\" /><path clip-path=\"url(#clip060)\" d=\"M50.9987 597.726 Q50.9987 599.24 50.1935 599.24 Q49.3884 599.24 49.3884 597.662 Q49.3884 597.469 49.4206 597.147 Q49.4528 596.792 49.4528 596.728 L49.4528 578.145 L30.8056 578.145 Q30.7412 578.145 30.4513 578.177 Q30.1293 578.209 29.936 578.209 Q28.3579 578.209 28.3579 577.437 Q28.3579 576.631 29.936 576.631 L49.4528 576.631 L49.4528 558.016 Q49.4528 557.952 49.4206 557.63 Q49.3884 557.308 49.3884 557.115 Q49.3884 555.601 50.1935 555.601 Q50.9987 555.569 50.9987 557.179 Q50.9987 557.372 50.9665 557.662 Q50.9343 557.952 50.9343 558.016 L50.9343 576.631 L70.5154 576.631 Q72.0291 576.631 72.0291 577.437 Q72.0291 578.209 70.451 578.209 Q70.2578 578.209 69.9357 578.177 Q69.6459 578.145 69.5815 578.145 L50.9343 578.145 L50.9343 596.728 Q50.9343 596.792 50.9665 597.179 Q50.9987 597.533 50.9987 597.726 Z\" fill=\"#000000\" fill-rule=\"nonzero\" fill-opacity=\"1\" /><path clip-path=\"url(#clip060)\" d=\"M40.564 503.521 Q41.2403 503.521 41.7878 504.101 Q42.3353 504.648 42.3353 505.324 Q42.3353 505.711 41.6912 506.645 Q39.8232 509.318 39.8232 512.7 Q39.8232 515.727 40.564 518.529 Q41.3047 521.331 42.8184 523.231 Q44.2998 525.099 46.2322 525.099 Q48.6476 525.099 50.0647 522.458 Q48.8087 519.721 48.8087 516.339 Q48.8087 515.244 48.8731 514.503 Q48.9375 513.73 49.0985 512.989 Q49.2596 512.249 49.646 511.894 Q50.0003 511.508 50.58 511.508 Q52.6412 511.508 52.6412 516.854 Q52.6412 520.332 51.7072 522.522 Q53.092 525.324 55.3143 526.87 Q57.5365 528.416 59.4366 528.416 Q61.0791 528.416 62.2707 527.514 Q63.4623 526.58 64.042 525.067 Q64.6217 523.521 64.8794 522.007 Q65.1048 520.461 65.1048 518.754 Q65.1048 515.952 64.7506 513.988 Q64.3641 511.991 63.6556 510.896 Q62.947 509.769 62.464 509.318 Q61.9487 508.835 61.1435 508.352 Q60.6926 508.062 60.6926 507.676 Q60.6926 507.386 60.8859 507.192 Q61.0469 506.967 61.3368 506.967 Q61.691 506.967 62.4317 507.418 Q63.1725 507.837 64.1709 508.867 Q65.137 509.866 66.0388 511.25 Q66.9084 512.603 67.5203 514.761 Q68.1322 516.919 68.1322 519.366 Q68.1322 524.358 65.6845 527.257 Q63.2369 530.123 59.8231 530.123 Q57.4398 530.123 54.9922 528.545 Q52.5123 526.935 50.9343 524.101 Q48.9697 526.741 46.2322 526.741 Q43.7846 526.741 41.5946 524.68 Q39.4046 522.587 38.1163 519.205 Q36.7959 515.791 36.7959 512.056 Q36.7959 509.962 37.5044 507.901 Q38.1807 505.84 39.0503 504.68 Q39.9199 503.521 40.564 503.521 M50.6444 513.215 Q50.2579 514.632 50.2579 516.339 Q50.2579 518.658 50.8376 520.365 Q51.1919 518.98 51.1919 516.854 Q51.1919 515.083 51.0953 514.568 Q50.9987 514.02 50.6444 513.215 Z\" fill=\"#000000\" fill-rule=\"nonzero\" fill-opacity=\"1\" /><circle clip-path=\"url(#clip062)\" cx=\"1709.34\" cy=\"624.958\" r=\"14.4\" fill=\"#009af9\" fill-rule=\"evenodd\" fill-opacity=\"1\" stroke=\"#000000\" stroke-opacity=\"1\" stroke-width=\"3.2\"/>\n",
       "<circle clip-path=\"url(#clip062)\" cx=\"1414.09\" cy=\"871.142\" r=\"14.4\" fill=\"#009af9\" fill-rule=\"evenodd\" fill-opacity=\"1\" stroke=\"#000000\" stroke-opacity=\"1\" stroke-width=\"3.2\"/>\n",
       "<circle clip-path=\"url(#clip062)\" cx=\"552.664\" cy=\"1233.62\" r=\"14.4\" fill=\"#009af9\" fill-rule=\"evenodd\" fill-opacity=\"1\" stroke=\"#000000\" stroke-opacity=\"1\" stroke-width=\"3.2\"/>\n",
       "<circle clip-path=\"url(#clip062)\" cx=\"1625.86\" cy=\"682.144\" r=\"14.4\" fill=\"#009af9\" fill-rule=\"evenodd\" fill-opacity=\"1\" stroke=\"#000000\" stroke-opacity=\"1\" stroke-width=\"3.2\"/>\n",
       "<circle clip-path=\"url(#clip062)\" cx=\"583.132\" cy=\"1305.69\" r=\"14.4\" fill=\"#009af9\" fill-rule=\"evenodd\" fill-opacity=\"1\" stroke=\"#000000\" stroke-opacity=\"1\" stroke-width=\"3.2\"/>\n",
       "<circle clip-path=\"url(#clip062)\" cx=\"1539.74\" cy=\"737.702\" r=\"14.4\" fill=\"#009af9\" fill-rule=\"evenodd\" fill-opacity=\"1\" stroke=\"#000000\" stroke-opacity=\"1\" stroke-width=\"3.2\"/>\n",
       "<circle clip-path=\"url(#clip062)\" cx=\"1181.63\" cy=\"1006.17\" r=\"14.4\" fill=\"#009af9\" fill-rule=\"evenodd\" fill-opacity=\"1\" stroke=\"#000000\" stroke-opacity=\"1\" stroke-width=\"3.2\"/>\n",
       "<circle clip-path=\"url(#clip062)\" cx=\"1299.42\" cy=\"913.231\" r=\"14.4\" fill=\"#009af9\" fill-rule=\"evenodd\" fill-opacity=\"1\" stroke=\"#000000\" stroke-opacity=\"1\" stroke-width=\"3.2\"/>\n",
       "<circle clip-path=\"url(#clip062)\" cx=\"657.102\" cy=\"1204\" r=\"14.4\" fill=\"#009af9\" fill-rule=\"evenodd\" fill-opacity=\"1\" stroke=\"#000000\" stroke-opacity=\"1\" stroke-width=\"3.2\"/>\n",
       "<circle clip-path=\"url(#clip062)\" cx=\"1127.88\" cy=\"1035.84\" r=\"14.4\" fill=\"#009af9\" fill-rule=\"evenodd\" fill-opacity=\"1\" stroke=\"#000000\" stroke-opacity=\"1\" stroke-width=\"3.2\"/>\n",
       "<circle clip-path=\"url(#clip062)\" cx=\"269.325\" cy=\"1327.73\" r=\"14.4\" fill=\"#009af9\" fill-rule=\"evenodd\" fill-opacity=\"1\" stroke=\"#000000\" stroke-opacity=\"1\" stroke-width=\"3.2\"/>\n",
       "<circle clip-path=\"url(#clip062)\" cx=\"1225.9\" cy=\"930.014\" r=\"14.4\" fill=\"#009af9\" fill-rule=\"evenodd\" fill-opacity=\"1\" stroke=\"#000000\" stroke-opacity=\"1\" stroke-width=\"3.2\"/>\n",
       "<circle clip-path=\"url(#clip062)\" cx=\"497.223\" cy=\"1307.95\" r=\"14.4\" fill=\"#009af9\" fill-rule=\"evenodd\" fill-opacity=\"1\" stroke=\"#000000\" stroke-opacity=\"1\" stroke-width=\"3.2\"/>\n",
       "<circle clip-path=\"url(#clip062)\" cx=\"883.937\" cy=\"1105.85\" r=\"14.4\" fill=\"#009af9\" fill-rule=\"evenodd\" fill-opacity=\"1\" stroke=\"#000000\" stroke-opacity=\"1\" stroke-width=\"3.2\"/>\n",
       "<circle clip-path=\"url(#clip062)\" cx=\"961.778\" cy=\"1063.32\" r=\"14.4\" fill=\"#009af9\" fill-rule=\"evenodd\" fill-opacity=\"1\" stroke=\"#000000\" stroke-opacity=\"1\" stroke-width=\"3.2\"/>\n",
       "<circle clip-path=\"url(#clip062)\" cx=\"371.391\" cy=\"1384.24\" r=\"14.4\" fill=\"#009af9\" fill-rule=\"evenodd\" fill-opacity=\"1\" stroke=\"#000000\" stroke-opacity=\"1\" stroke-width=\"3.2\"/>\n",
       "<circle clip-path=\"url(#clip062)\" cx=\"1741.32\" cy=\"559.125\" r=\"14.4\" fill=\"#009af9\" fill-rule=\"evenodd\" fill-opacity=\"1\" stroke=\"#000000\" stroke-opacity=\"1\" stroke-width=\"3.2\"/>\n",
       "<circle clip-path=\"url(#clip062)\" cx=\"1749.62\" cy=\"610.764\" r=\"14.4\" fill=\"#009af9\" fill-rule=\"evenodd\" fill-opacity=\"1\" stroke=\"#000000\" stroke-opacity=\"1\" stroke-width=\"3.2\"/>\n",
       "<circle clip-path=\"url(#clip062)\" cx=\"599.411\" cy=\"1217.62\" r=\"14.4\" fill=\"#009af9\" fill-rule=\"evenodd\" fill-opacity=\"1\" stroke=\"#000000\" stroke-opacity=\"1\" stroke-width=\"3.2\"/>\n",
       "<circle clip-path=\"url(#clip062)\" cx=\"1444.19\" cy=\"848.559\" r=\"14.4\" fill=\"#009af9\" fill-rule=\"evenodd\" fill-opacity=\"1\" stroke=\"#000000\" stroke-opacity=\"1\" stroke-width=\"3.2\"/>\n",
       "<circle clip-path=\"url(#clip062)\" cx=\"483.153\" cy=\"1299.9\" r=\"14.4\" fill=\"#009af9\" fill-rule=\"evenodd\" fill-opacity=\"1\" stroke=\"#000000\" stroke-opacity=\"1\" stroke-width=\"3.2\"/>\n",
       "<circle clip-path=\"url(#clip062)\" cx=\"1087.99\" cy=\"1006.49\" r=\"14.4\" fill=\"#009af9\" fill-rule=\"evenodd\" fill-opacity=\"1\" stroke=\"#000000\" stroke-opacity=\"1\" stroke-width=\"3.2\"/>\n",
       "<circle clip-path=\"url(#clip062)\" cx=\"661.466\" cy=\"1165.93\" r=\"14.4\" fill=\"#009af9\" fill-rule=\"evenodd\" fill-opacity=\"1\" stroke=\"#000000\" stroke-opacity=\"1\" stroke-width=\"3.2\"/>\n",
       "<circle clip-path=\"url(#clip062)\" cx=\"861.517\" cy=\"1155.03\" r=\"14.4\" fill=\"#009af9\" fill-rule=\"evenodd\" fill-opacity=\"1\" stroke=\"#000000\" stroke-opacity=\"1\" stroke-width=\"3.2\"/>\n",
       "<circle clip-path=\"url(#clip062)\" cx=\"1218.07\" cy=\"932.232\" r=\"14.4\" fill=\"#009af9\" fill-rule=\"evenodd\" fill-opacity=\"1\" stroke=\"#000000\" stroke-opacity=\"1\" stroke-width=\"3.2\"/>\n",
       "<circle clip-path=\"url(#clip062)\" cx=\"668.238\" cy=\"1198.75\" r=\"14.4\" fill=\"#009af9\" fill-rule=\"evenodd\" fill-opacity=\"1\" stroke=\"#000000\" stroke-opacity=\"1\" stroke-width=\"3.2\"/>\n",
       "<circle clip-path=\"url(#clip062)\" cx=\"1675.41\" cy=\"657.839\" r=\"14.4\" fill=\"#009af9\" fill-rule=\"evenodd\" fill-opacity=\"1\" stroke=\"#000000\" stroke-opacity=\"1\" stroke-width=\"3.2\"/>\n",
       "<circle clip-path=\"url(#clip062)\" cx=\"1750.99\" cy=\"592.881\" r=\"14.4\" fill=\"#009af9\" fill-rule=\"evenodd\" fill-opacity=\"1\" stroke=\"#000000\" stroke-opacity=\"1\" stroke-width=\"3.2\"/>\n",
       "<circle clip-path=\"url(#clip062)\" cx=\"1291.63\" cy=\"904.838\" r=\"14.4\" fill=\"#009af9\" fill-rule=\"evenodd\" fill-opacity=\"1\" stroke=\"#000000\" stroke-opacity=\"1\" stroke-width=\"3.2\"/>\n",
       "<circle clip-path=\"url(#clip062)\" cx=\"290.914\" cy=\"1334.98\" r=\"14.4\" fill=\"#009af9\" fill-rule=\"evenodd\" fill-opacity=\"1\" stroke=\"#000000\" stroke-opacity=\"1\" stroke-width=\"3.2\"/>\n",
       "<polyline clip-path=\"url(#clip062)\" style=\"stroke:#e26f46; stroke-linecap:round; stroke-linejoin:round; stroke-width:4; stroke-opacity:0.3; fill:none\" points=\"265.903,1328.54 299.671,1321.52 333.439,1314.04 367.207,1306.11 400.974,1297.72 434.742,1288.87 468.51,1279.56 502.278,1269.79 536.046,1259.57 569.814,1248.89 603.582,1237.75 637.349,1226.16 671.117,1214.11 704.885,1201.6 738.653,1188.63 772.421,1175.2 806.189,1161.32 839.956,1146.98 873.724,1132.18 907.492,1116.93 941.26,1101.22 975.028,1085.05 1008.8,1068.42 1042.56,1051.33 1076.33,1033.79 1110.1,1015.79 1143.87,997.334 1177.63,978.419 1211.4,959.046 1245.17,939.216 1278.94,918.928 1312.71,898.183 1346.47,876.981 1380.24,855.321 1414.01,833.203 1447.78,810.628 1481.55,787.596 1515.31,764.106 1549.08,740.158 1582.85,715.753 1616.62,690.891 1650.38,665.571 1684.15,639.793 1717.92,613.558 1751.69,586.866 1785.46,559.716 1819.22,532.108 1852.99,504.043 1886.76,475.52 1920.53,446.54 1954.3,417.103 1988.06,387.208 2021.83,356.855 2055.6,326.045 2089.37,294.778 2123.13,263.053 2156.9,230.87 2190.67,198.23 2224.44,165.133 2258.21,131.578 2291.97,97.5652 \"/>\n",
       "<polyline clip-path=\"url(#clip062)\" style=\"stroke:#3da44d; stroke-linecap:round; stroke-linejoin:round; stroke-width:4; stroke-opacity:0.3; fill:none\" points=\"265.903,1347.09 299.671,1338.95 333.439,1330.4 367.207,1321.43 400.974,1312.05 434.742,1302.25 468.51,1292.04 502.278,1281.42 536.046,1270.37 569.814,1258.92 603.582,1247.05 637.349,1234.76 671.117,1222.06 704.885,1208.95 738.653,1195.42 772.421,1181.48 806.189,1167.12 839.956,1152.34 873.724,1137.16 907.492,1121.55 941.26,1105.54 975.028,1089.1 1008.8,1072.26 1042.56,1055 1076.33,1037.32 1110.1,1019.23 1143.87,1000.73 1177.63,981.806 1211.4,962.471 1245.17,942.722 1278.94,922.558 1312.71,901.979 1346.47,880.986 1380.24,859.578 1414.01,837.755 1447.78,815.518 1481.55,792.866 1515.31,769.799 1549.08,746.318 1582.85,722.422 1616.62,698.112 1650.38,673.386 1684.15,648.246 1717.92,622.691 1751.69,596.722 1785.46,570.338 1819.22,543.539 1852.99,516.326 1886.76,488.698 1920.53,460.655 1954.3,432.198 1988.06,403.326 2021.83,374.039 2055.6,344.338 2089.37,314.222 2123.13,283.691 2156.9,252.745 2190.67,221.385 2224.44,189.611 2258.21,157.421 2291.97,124.817 \"/>\n",
       "<polyline clip-path=\"url(#clip062)\" style=\"stroke:#c271d2; stroke-linecap:round; stroke-linejoin:round; stroke-width:4; stroke-opacity:0.3; fill:none\" points=\"265.903,1351.73 299.671,1342.9 333.439,1333.68 367.207,1324.07 400.974,1314.07 434.742,1303.67 468.51,1292.89 502.278,1281.72 536.046,1270.15 569.814,1258.2 603.582,1245.85 637.349,1233.11 671.117,1219.98 704.885,1206.47 738.653,1192.56 772.421,1178.26 806.189,1163.57 839.956,1148.49 873.724,1133.02 907.492,1117.15 941.26,1100.9 975.028,1084.26 1008.8,1067.22 1042.56,1049.8 1076.33,1031.98 1110.1,1013.78 1143.87,995.18 1177.63,976.193 1211.4,956.814 1245.17,937.045 1278.94,916.886 1312.71,896.336 1346.47,875.395 1380.24,854.063 1414.01,832.341 1447.78,810.228 1481.55,787.724 1515.31,764.83 1549.08,741.545 1582.85,717.87 1616.62,693.803 1650.38,669.346 1684.15,644.499 1717.92,619.26 1751.69,593.631 1785.46,567.612 1819.22,541.201 1852.99,514.4 1886.76,487.209 1920.53,459.626 1954.3,431.653 1988.06,403.29 2021.83,374.535 2055.6,345.39 2089.37,315.854 2123.13,285.928 2156.9,255.611 2190.67,224.903 2224.44,193.805 2258.21,162.316 2291.97,130.436 \"/>\n",
       "<polyline clip-path=\"url(#clip062)\" style=\"stroke:#ac8d18; stroke-linecap:round; stroke-linejoin:round; stroke-width:4; stroke-opacity:0.3; fill:none\" points=\"265.903,1372.6 299.671,1360.54 333.439,1348.22 367.207,1335.66 400.974,1322.84 434.742,1309.76 468.51,1296.43 502.278,1282.84 536.046,1269 569.814,1254.91 603.582,1240.56 637.349,1225.96 671.117,1211.1 704.885,1195.98 738.653,1180.62 772.421,1164.99 806.189,1149.12 839.956,1132.98 873.724,1116.6 907.492,1099.96 941.26,1083.06 975.028,1065.91 1008.8,1048.51 1042.56,1030.85 1076.33,1012.93 1110.1,994.763 1143.87,976.34 1177.63,957.662 1211.4,938.729 1245.17,919.542 1278.94,900.1 1312.71,880.403 1346.47,860.452 1380.24,840.246 1414.01,819.786 1447.78,799.071 1481.55,778.101 1515.31,756.877 1549.08,735.398 1582.85,713.664 1616.62,691.676 1650.38,669.433 1684.15,646.936 1717.92,624.184 1751.69,601.177 1785.46,577.916 1819.22,554.4 1852.99,530.629 1886.76,506.604 1920.53,482.324 1954.3,457.79 1988.06,433.001 2021.83,407.957 2055.6,382.659 2089.37,357.106 2123.13,331.298 2156.9,305.236 2190.67,278.919 2224.44,252.348 2258.21,225.522 2291.97,198.441 \"/>\n",
       "<polyline clip-path=\"url(#clip062)\" style=\"stroke:#00a9ad; stroke-linecap:round; stroke-linejoin:round; stroke-width:4; stroke-opacity:0.3; fill:none\" points=\"265.903,1344.82 299.671,1336.58 333.439,1327.93 367.207,1318.89 400.974,1309.45 434.742,1299.61 468.51,1289.36 502.278,1278.72 536.046,1267.68 569.814,1256.24 603.582,1244.39 637.349,1232.15 671.117,1219.51 704.885,1206.47 738.653,1193.02 772.421,1179.18 806.189,1164.94 839.956,1150.29 873.724,1135.25 907.492,1119.81 941.26,1103.96 975.028,1087.72 1008.8,1071.08 1042.56,1054.03 1076.33,1036.59 1110.1,1018.75 1143.87,1000.5 1177.63,981.861 1211.4,962.817 1245.17,943.373 1278.94,923.53 1312.71,903.286 1346.47,882.642 1380.24,861.598 1414.01,840.154 1447.78,818.31 1481.55,796.066 1515.31,773.422 1549.08,750.377 1582.85,726.933 1616.62,703.089 1650.38,678.845 1684.15,654.2 1717.92,629.156 1751.69,603.711 1785.46,577.866 1819.22,551.622 1852.99,524.977 1886.76,497.932 1920.53,470.488 1954.3,442.643 1988.06,414.398 2021.83,385.753 2055.6,356.708 2089.37,327.263 2123.13,297.417 2156.9,267.172 2190.67,236.527 2224.44,205.482 2258.21,174.036 2291.97,142.191 \"/>\n",
       "<polyline clip-path=\"url(#clip062)\" style=\"stroke:#ed5d92; stroke-linecap:round; stroke-linejoin:round; stroke-width:4; stroke-opacity:0.3; fill:none\" points=\"265.903,1350.01 299.671,1341.57 333.439,1332.73 367.207,1323.46 400.974,1313.78 434.742,1303.68 468.51,1293.16 502.278,1282.23 536.046,1270.87 569.814,1259.1 603.582,1246.92 637.349,1234.32 671.117,1221.29 704.885,1207.86 738.653,1194 772.421,1179.73 806.189,1165.04 839.956,1149.93 873.724,1134.41 907.492,1118.47 941.26,1102.11 975.028,1085.33 1008.8,1068.14 1042.56,1050.53 1076.33,1032.5 1110.1,1014.05 1143.87,995.193 1177.63,975.913 1211.4,956.217 1245.17,936.103 1278.94,915.571 1312.71,894.623 1346.47,873.257 1380.24,851.474 1414.01,829.274 1447.78,806.657 1481.55,783.622 1515.31,760.17 1549.08,736.301 1582.85,712.015 1616.62,687.311 1650.38,662.19 1684.15,636.652 1717.92,610.697 1751.69,584.324 1785.46,557.534 1819.22,530.327 1852.99,502.703 1886.76,474.661 1920.53,446.203 1954.3,417.326 1988.06,388.033 2021.83,358.323 2055.6,328.195 2089.37,297.65 2123.13,266.687 2156.9,235.308 2190.67,203.511 2224.44,171.297 2258.21,138.666 2291.97,105.617 \"/>\n",
       "<polyline clip-path=\"url(#clip062)\" style=\"stroke:#c68125; stroke-linecap:round; stroke-linejoin:round; stroke-width:4; stroke-opacity:0.3; fill:none\" points=\"265.903,1334.7 299.671,1327.77 333.439,1320.36 367.207,1312.49 400.974,1304.15 434.742,1295.33 468.51,1286.05 502.278,1276.3 536.046,1266.07 569.814,1255.38 603.582,1244.21 637.349,1232.58 671.117,1220.47 704.885,1207.89 738.653,1194.85 772.421,1181.33 806.189,1167.34 839.956,1152.88 873.724,1137.95 907.492,1122.55 941.26,1106.68 975.028,1090.34 1008.8,1073.53 1042.56,1056.25 1076.33,1038.5 1110.1,1020.28 1143.87,1001.59 1177.63,982.427 1211.4,962.795 1245.17,942.692 1278.94,922.119 1312.71,901.075 1346.47,879.561 1380.24,857.576 1414.01,835.121 1447.78,812.196 1481.55,788.8 1515.31,764.934 1549.08,740.598 1582.85,715.791 1616.62,690.514 1650.38,664.766 1684.15,638.548 1717.92,611.859 1751.69,584.701 1785.46,557.071 1819.22,528.972 1852.99,500.402 1886.76,471.361 1920.53,441.85 1954.3,411.869 1988.06,381.418 2021.83,350.496 2055.6,319.103 2089.37,287.241 2123.13,254.907 2156.9,222.104 2190.67,188.83 2224.44,155.086 2258.21,120.871 2291.97,86.1857 \"/>\n",
       "<polyline clip-path=\"url(#clip062)\" style=\"stroke:#00a98d; stroke-linecap:round; stroke-linejoin:round; stroke-width:4; stroke-opacity:0.3; fill:none\" points=\"265.903,1368.58 299.671,1358.92 333.439,1348.89 367.207,1338.47 400.974,1327.69 434.742,1316.53 468.51,1304.99 502.278,1293.08 536.046,1280.79 569.814,1268.13 603.582,1255.1 637.349,1241.68 671.117,1227.9 704.885,1213.74 738.653,1199.2 772.421,1184.29 806.189,1169 839.956,1153.34 873.724,1137.31 907.492,1120.9 941.26,1104.11 975.028,1086.95 1008.8,1069.41 1042.56,1051.5 1076.33,1033.21 1110.1,1014.55 1143.87,995.517 1177.63,976.106 1211.4,956.32 1245.17,936.159 1278.94,915.623 1312.71,894.712 1346.47,873.425 1380.24,851.764 1414.01,829.728 1447.78,807.317 1481.55,784.531 1515.31,761.37 1549.08,737.833 1582.85,713.922 1616.62,689.636 1650.38,664.975 1684.15,639.939 1717.92,614.528 1751.69,588.742 1785.46,562.58 1819.22,536.044 1852.99,509.133 1886.76,481.847 1920.53,454.186 1954.3,426.15 1988.06,397.739 2021.83,368.952 2055.6,339.791 2089.37,310.255 2123.13,280.344 2156.9,250.058 2190.67,219.397 2224.44,188.361 2258.21,156.949 2291.97,125.163 \"/>\n",
       "<polyline clip-path=\"url(#clip062)\" style=\"stroke:#8e971d; stroke-linecap:round; stroke-linejoin:round; stroke-width:4; stroke-opacity:0.3; fill:none\" points=\"265.903,1341.61 299.671,1332.31 333.439,1322.65 367.207,1312.63 400.974,1302.25 434.742,1291.5 468.51,1280.4 502.278,1268.93 536.046,1257.1 569.814,1244.91 603.582,1232.35 637.349,1219.44 671.117,1206.16 704.885,1192.52 738.653,1178.52 772.421,1164.16 806.189,1149.43 839.956,1134.34 873.724,1118.9 907.492,1103.08 941.26,1086.91 975.028,1070.38 1008.8,1053.48 1042.56,1036.22 1076.33,1018.61 1110.1,1000.62 1143.87,982.281 1177.63,963.576 1211.4,944.509 1245.17,925.08 1278.94,905.289 1312.71,885.137 1346.47,864.623 1380.24,843.747 1414.01,822.509 1447.78,800.909 1481.55,778.948 1515.31,756.624 1549.08,733.939 1582.85,710.892 1616.62,687.483 1650.38,663.713 1684.15,639.58 1717.92,615.086 1751.69,590.23 1785.46,565.012 1819.22,539.432 1852.99,513.49 1886.76,487.187 1920.53,460.522 1954.3,433.495 1988.06,406.106 2021.83,378.355 2055.6,350.242 2089.37,321.768 2123.13,292.932 2156.9,263.733 2190.67,234.174 2224.44,204.252 2258.21,173.968 2291.97,143.323 \"/>\n",
       "<polyline clip-path=\"url(#clip062)\" style=\"stroke:#00a8cb; stroke-linecap:round; stroke-linejoin:round; stroke-width:4; stroke-opacity:0.3; fill:none\" points=\"265.903,1336.5 299.671,1328.92 333.439,1320.89 367.207,1312.43 400.974,1303.51 434.742,1294.16 468.51,1284.36 502.278,1274.12 536.046,1263.44 569.814,1252.31 603.582,1240.74 637.349,1228.73 671.117,1216.27 704.885,1203.37 738.653,1190.03 772.421,1176.25 806.189,1162.02 839.956,1147.34 873.724,1132.23 907.492,1116.67 941.26,1100.67 975.028,1084.22 1008.8,1067.33 1042.56,1050 1076.33,1032.23 1110.1,1014.01 1143.87,995.347 1177.63,976.243 1211.4,956.695 1245.17,936.704 1278.94,916.269 1312.71,895.392 1346.47,874.071 1380.24,852.307 1414.01,830.1 1447.78,807.45 1481.55,784.356 1515.31,760.82 1549.08,736.84 1582.85,712.416 1616.62,687.55 1650.38,662.24 1684.15,636.488 1717.92,610.291 1751.69,583.652 1785.46,556.57 1819.22,529.044 1852.99,501.075 1886.76,472.663 1920.53,443.808 1954.3,414.509 1988.06,384.767 2021.83,354.582 2055.6,323.954 2089.37,292.882 2123.13,261.368 2156.9,229.41 2190.67,197.009 2224.44,164.165 2258.21,130.877 2291.97,97.1463 \"/>\n",
       "<path clip-path=\"url(#clip060)\" d=\"M276.709 196.789 L591.333 196.789 L591.333 93.1086 L276.709 93.1086  Z\" fill=\"#ffffff\" fill-rule=\"evenodd\" fill-opacity=\"1\"/>\n",
       "<polyline clip-path=\"url(#clip060)\" style=\"stroke:#000000; stroke-linecap:round; stroke-linejoin:round; stroke-width:4; stroke-opacity:1; fill:none\" points=\"276.709,196.789 591.333,196.789 591.333,93.1086 276.709,93.1086 276.709,196.789 \"/>\n",
       "<circle clip-path=\"url(#clip060)\" cx=\"372.159\" cy=\"144.949\" r=\"20.48\" fill=\"#009af9\" fill-rule=\"evenodd\" fill-opacity=\"1\" stroke=\"#000000\" stroke-opacity=\"1\" stroke-width=\"4.55111\"/>\n",
       "<path clip-path=\"url(#clip060)\" d=\"M486.522 140.238 L486.522 126.21 L490.781 126.21 L490.781 162.229 L486.522 162.229 L486.522 158.34 Q485.179 160.655 483.119 161.789 Q481.082 162.9 478.211 162.9 Q473.512 162.9 470.549 159.15 Q467.61 155.4 467.61 149.289 Q467.61 143.178 470.549 139.428 Q473.512 135.678 478.211 135.678 Q481.082 135.678 483.119 136.812 Q485.179 137.923 486.522 140.238 M472.008 149.289 Q472.008 153.988 473.929 156.673 Q475.874 159.335 479.253 159.335 Q482.633 159.335 484.577 156.673 Q486.522 153.988 486.522 149.289 Q486.522 144.59 484.577 141.928 Q482.633 139.243 479.253 139.243 Q475.874 139.243 473.929 141.928 Q472.008 144.59 472.008 149.289 Z\" fill=\"#000000\" fill-rule=\"nonzero\" fill-opacity=\"1\" /><path clip-path=\"url(#clip060)\" d=\"M511.336 149.196 Q506.174 149.196 504.184 150.377 Q502.193 151.557 502.193 154.405 Q502.193 156.673 503.674 158.016 Q505.179 159.335 507.748 159.335 Q511.29 159.335 513.42 156.835 Q515.572 154.312 515.572 150.145 L515.572 149.196 L511.336 149.196 M519.832 147.437 L519.832 162.229 L515.572 162.229 L515.572 158.293 Q514.114 160.655 511.938 161.789 Q509.762 162.9 506.614 162.9 Q502.633 162.9 500.272 160.678 Q497.934 158.432 497.934 154.682 Q497.934 150.307 500.85 148.085 Q503.79 145.863 509.6 145.863 L515.572 145.863 L515.572 145.446 Q515.572 142.507 513.628 140.909 Q511.707 139.289 508.211 139.289 Q505.989 139.289 503.883 139.821 Q501.776 140.354 499.832 141.419 L499.832 137.483 Q502.17 136.581 504.369 136.141 Q506.568 135.678 508.651 135.678 Q514.276 135.678 517.054 138.594 Q519.832 141.511 519.832 147.437 Z\" fill=\"#000000\" fill-rule=\"nonzero\" fill-opacity=\"1\" /><path clip-path=\"url(#clip060)\" d=\"M532.818 128.942 L532.818 136.303 L541.591 136.303 L541.591 139.613 L532.818 139.613 L532.818 153.687 Q532.818 156.858 533.674 157.761 Q534.554 158.664 537.216 158.664 L541.591 158.664 L541.591 162.229 L537.216 162.229 Q532.285 162.229 530.41 160.4 Q528.535 158.548 528.535 153.687 L528.535 139.613 L525.41 139.613 L525.41 136.303 L528.535 136.303 L528.535 128.942 L532.818 128.942 Z\" fill=\"#000000\" fill-rule=\"nonzero\" fill-opacity=\"1\" /><path clip-path=\"url(#clip060)\" d=\"M558.975 149.196 Q553.813 149.196 551.822 150.377 Q549.831 151.557 549.831 154.405 Q549.831 156.673 551.313 158.016 Q552.818 159.335 555.387 159.335 Q558.929 159.335 561.058 156.835 Q563.211 154.312 563.211 150.145 L563.211 149.196 L558.975 149.196 M567.47 147.437 L567.47 162.229 L563.211 162.229 L563.211 158.293 Q561.753 160.655 559.577 161.789 Q557.401 162.9 554.253 162.9 Q550.271 162.9 547.91 160.678 Q545.572 158.432 545.572 154.682 Q545.572 150.307 548.489 148.085 Q551.429 145.863 557.239 145.863 L563.211 145.863 L563.211 145.446 Q563.211 142.507 561.267 140.909 Q559.345 139.289 555.85 139.289 Q553.628 139.289 551.521 139.821 Q549.415 140.354 547.47 141.419 L547.47 137.483 Q549.808 136.581 552.007 136.141 Q554.206 135.678 556.29 135.678 Q561.915 135.678 564.693 138.594 Q567.47 141.511 567.47 147.437 Z\" fill=\"#000000\" fill-rule=\"nonzero\" fill-opacity=\"1\" /></svg>\n"
      ]
     },
     "metadata": {},
     "output_type": "display_data"
    },
    {
     "name": "stdout",
     "output_type": "stream",
     "text": [
      "Posterior distribution of w: MvNormalWeightedMeanPrecision(\n",
      "xi: [264.1407109216335, 1730.0608666013982, 12601.760586050405]\n",
      "Λ: [15.000010000030002 69.4365957733613 440.9072886237219; 69.4365957733613 440.9072986237519 3145.160997082097; 440.9072886237219 3145.160997082097 23812.982251636087]\n",
      ")\n",
      "\n"
     ]
    }
   ],
   "source": [
    "# Build model\n",
    "@model function linear_regression(N, Σ, σ2)\n",
    "\n",
    "    w ~ MvNormalMeanCovariance(constvar(zeros(3)),constvar(Σ))\n",
    "   \n",
    "    x = datavar(Vector{Float64}, N)\n",
    "    y = datavar(Float64, N)\n",
    "    \n",
    "    for i in 1:N\n",
    "        y[i] ~ NormalMeanVariance(dot(w , x[i]), σ2)\n",
    "    end\n",
    "    return w, x, y\n",
    "end\n",
    "# Run message passing algorithm \n",
    "results = inference(\n",
    "    model = linear_regression(length(x_train), Σ, σ2 ),\n",
    "    data  = (y = y_train, x = x_train),\n",
    "    returnvars   = (w = KeepLast()),\n",
    "    iterations   = 20\n",
    ");\n",
    "# Plot result\n",
    "w = results.posteriors[:w]\n",
    "println(\"Posterior distribution of w: $(w)\")\n",
    "plt = scatter(z, y_train, label=\"data\", xlabel=L\"z\", ylabel=L\"f([1.0, z, z^2]) + \\epsilon\")\n",
    "z_test = collect(0:0.2:12)\n",
    "x_test = [[1.0; z; z^2] for z in z_test]\n",
    "for i=1:10\n",
    "    w_sample = rand(results.posteriors[:w])\n",
    "    f_est(x) = (w_sample'*x)[1]\n",
    "    plt = plot!(z_test, map(f_est, x_test), alpha=0.3, label=\"\");\n",
    "end\n",
    "display(plt)"
   ]
  },
  {
   "cell_type": "markdown",
   "metadata": {},
   "source": [
    "### Final thoughts: Modularity and Abstraction \n",
    "\n",
    "- The great Michael Jordan (no, not [this one](https://youtu.be/cuLprHh_BRg), but [this one](https://people.eecs.berkeley.edu/~jordan/)), wrote:   \n",
    "\n",
    "  > I basically know of two principles for treating complicated systems in simple ways: the first is the principle of **modularity** and the second is the principle of **abstraction**. I am an apologist for computational probability in machine learning because I believe that probability theory implements these two principles in deep and intriguing ways — namely through factorization and through averaging. Exploiting these two mechanisms as fully as possible seems to me to be the way forward in machine learning. — Michael Jordan, 1997 (quoted in [Fre98](https://mitpress.mit.edu/9780262062022/)).\n",
    "\n",
    "- Factor graphs realize these ideas nicely, both visually and computationally.\n",
    "\n",
    "- Visually, the modularity of conditional independencies in the model are displayed by the graph structure. Each node hides internal complexity and by closing-the-box, we can hierarchically move on to higher levels of abstraction. \n",
    "\n",
    "- Computationally, message passing-based inference uses the Distributive Law to avoid any unnecessary computations.  "
   ]
  },
  {
   "cell_type": "markdown",
   "metadata": {
    "slideshow": {
     "slide_type": "slide"
    }
   },
   "source": [
    "## <center>OPTIONAL SLIDES</center>"
   ]
  },
  {
   "cell_type": "markdown",
   "metadata": {
    "slideshow": {
     "slide_type": "slide"
    }
   },
   "source": [
    "###  <a id=\"sp-for-multiplication-node\">Sum-Product Messages for Multiplication Nodes</a>\n",
    "- Next, let us consider a **multiplication** by a fixed (invertible matrix) gain $f_A(x,y) = \\delta(y-Ax)$\n",
    "\n",
    "<p style=\"text-align:center;\"><img src=\"./figures/ffg-gain-node.png\" width=\"250px\"></p>"
   ]
  },
  {
   "cell_type": "markdown",
   "metadata": {
    "slideshow": {
     "slide_type": "fragment"
    }
   },
   "source": [
    "$$\\begin{align*}\n",
    "\\overrightarrow{\\mu}_{Y}(y) &= \\int  \\overrightarrow{\\mu}_{X}(x) \\,\\delta(y-Ax) \\,\\mathrm{d}x \\\\\n",
    "&= \\int  \\overrightarrow{\\mu}_{X}(x) \\,|A|^{-1}\\delta(x-A^{-1}y) \\,\\mathrm{d}x \\\\\n",
    "&= |A|^{-1}\\overrightarrow{\\mu}_{X}(A^{-1}y) \\,.\n",
    "\\end{align*}$$"
   ]
  },
  {
   "cell_type": "markdown",
   "metadata": {
    "slideshow": {
     "slide_type": "fragment"
    }
   },
   "source": [
    "- For a Gaussian message input message $\\overrightarrow{\\mu}_{X}(x) = \\mathcal{N}(x|\\overrightarrow{m}_{X},\\overrightarrow{V}_{X})$, the output message is also Gaussian with \n",
    "$$\\begin{align*}\n",
    "\\overrightarrow{m}_{Y} = A\\overrightarrow{m}_{X} \\,,\\,\\text{and}\\,\\,\n",
    "\\overrightarrow{V}_{Y} = A\\overrightarrow{V}_{X}A^T\n",
    "\\end{align*}$$\n",
    "since \n",
    "$$\\begin{align*}\n",
    "\\overrightarrow{\\mu}_{Y}(y) &= |A|^{-1}\\overrightarrow{\\mu}_{X}(A^{-1}y) \\\\\n",
    "  &\\propto \\exp \\left( -\\frac{1}{2} \\left( A^{-1}y - \\overrightarrow{m}_{X}\\right)^T \\overrightarrow{V}_{X}^{-1} \\left(  A^{-1}y - \\overrightarrow{m}_{X}\\right)\\right) \\\\\n",
    "   &= \\exp \\big( -\\frac{1}{2} \\left( y - A\\overrightarrow{m}_{X}\\right)^T \\underbrace{A^{-T}\\overrightarrow{V}_{X}^{-1} A^{-1}}_{(A \\overrightarrow{V}_{X} A^T)^{-1}} \\left( y - A\\overrightarrow{m}_{X}\\right)\\big) \\\\\n",
    "  &\\propto  \\mathcal{N}(y| A\\overrightarrow{m}_{X},A\\overrightarrow{V}_{X}A^T) \\,.\n",
    "\\end{align*}$$"
   ]
  },
  {
   "cell_type": "markdown",
   "metadata": {
    "slideshow": {
     "slide_type": "subslide"
    }
   },
   "source": [
    "- <b>Exercise</b>: Proof that, for the same factor $\\delta(y-Ax)$ and Gaussian messages, the (backward) sum-product message $\\overleftarrow{\\mu}_{X}$ is given by \n",
    "$$\\begin{align*}\n",
    "\\overleftarrow{\\xi}_{X} &= A^T\\overleftarrow{\\xi}_{Y} \\\\\n",
    "\\overleftarrow{W}_{X} &= A^T\\overleftarrow{W}_{Y}A\n",
    "\\end{align*}$$\n",
    "where $\\overleftarrow{\\xi}_X \\triangleq \\overleftarrow{W}_X \\overleftarrow{m}_X$ and $\\overleftarrow{W}_{X} \\triangleq \\overleftarrow{V}_{X}^{-1}$ (and similarly for $Y$)."
   ]
  },
  {
   "cell_type": "markdown",
   "metadata": {
    "slideshow": {
     "slide_type": "slide"
    }
   },
   "source": [
    "\n",
    "### Code example: Gaussian forward and backward messages for the Addition node\n",
    "\n",
    "Let's calculate the Gaussian forward and backward messages for the addition node in RxInfer. \n",
    "<p style=\"text-align:center;\"><img src=\"./figures/ffg-addition-node.png\" width=\"250px\"></p>"
   ]
  },
  {
   "cell_type": "code",
   "execution_count": 5,
   "metadata": {
    "slideshow": {
     "slide_type": "subslide"
    }
   },
   "outputs": [
    {
     "name": "stdout",
     "output_type": "stream",
     "text": [
      "Forward message on Z:\n"
     ]
    },
    {
     "data": {
      "text/plain": [
       "NormalMeanVariance{Float64}(μ=3.0, v=2.0)"
      ]
     },
     "execution_count": 5,
     "metadata": {},
     "output_type": "execute_result"
    }
   ],
   "source": [
    "println(\"Forward message on Z:\")\n",
    "@call_rule typeof(+)(:out, Marginalisation) (m_in1 = NormalMeanVariance(1.0, 1.0), m_in2 = NormalMeanVariance(2.0, 1.0))"
   ]
  },
  {
   "cell_type": "code",
   "execution_count": 6,
   "metadata": {
    "slideshow": {
     "slide_type": "subslide"
    }
   },
   "outputs": [
    {
     "name": "stdout",
     "output_type": "stream",
     "text": [
      "Backward message on X:\n"
     ]
    },
    {
     "data": {
      "text/plain": [
       "NormalMeanVariance{Float64}(μ=1.0, v=2.0)"
      ]
     },
     "execution_count": 6,
     "metadata": {},
     "output_type": "execute_result"
    }
   ],
   "source": [
    "println(\"Backward message on X:\")\n",
    "@call_rule typeof(+)(:in1, Marginalisation) (m_out = NormalMeanVariance(3.0, 1.0), m_in2 = NormalMeanVariance(2.0, 1.0))"
   ]
  },
  {
   "cell_type": "markdown",
   "metadata": {
    "slideshow": {
     "slide_type": "slide"
    }
   },
   "source": [
    "### Code Example: forward and backward messages for the Matrix Multiplication node\n",
    "\n",
    "In the same way we can also investigate the forward and backward messages for the matrix multiplication (\"gain\") node \n",
    "<p style=\"text-align:center;\"><img src=\"./figures/ffg-gain-node.png\" width=\"250px\"></p>"
   ]
  },
  {
   "cell_type": "code",
   "execution_count": 7,
   "metadata": {
    "slideshow": {
     "slide_type": "subslide"
    }
   },
   "outputs": [
    {
     "name": "stdout",
     "output_type": "stream",
     "text": [
      "Forward message on Y:\n"
     ]
    },
    {
     "data": {
      "text/plain": [
       "NormalMeanVariance{Float64}(μ=4.0, v=16.0)"
      ]
     },
     "execution_count": 7,
     "metadata": {},
     "output_type": "execute_result"
    }
   ],
   "source": [
    "println(\"Forward message on Y:\")\n",
    "@call_rule typeof(*)(:out, Marginalisation) (m_A = PointMass(4.0), m_in = NormalMeanVariance(1.0, 1.0))"
   ]
  },
  {
   "cell_type": "code",
   "execution_count": 8,
   "metadata": {
    "slideshow": {
     "slide_type": "subslide"
    }
   },
   "outputs": [
    {
     "name": "stdout",
     "output_type": "stream",
     "text": [
      "Backward message on X:\n"
     ]
    },
    {
     "data": {
      "text/plain": [
       "NormalWeightedMeanPrecision{Float64}(xi=8.0, w=16.0)"
      ]
     },
     "execution_count": 8,
     "metadata": {},
     "output_type": "execute_result"
    }
   ],
   "source": [
    "println(\"Backward message on X:\")\n",
    "@call_rule typeof(*)(:in, Marginalisation) (m_out = NormalMeanVariance(2.0, 1.0), m_A = PointMass(4.0), meta = TinyCorrection())"
   ]
  },
  {
   "cell_type": "markdown",
   "metadata": {
    "slideshow": {
     "slide_type": "fragment"
    }
   },
   "source": [
    " \n",
    " ### Example: Sum-Product Algorithm to infer a posterior\n",
    " \n",
    " - Consider a generative model \n",
    "$$p(x,y_1,y_2) = p(x)\\,p(y_1|x)\\,p(y_2|x) .$$ \n",
    "  - This model expresses the assumption that $Y_1$ and $Y_2$ are independent measurements of $X$.\n",
    "\n",
    "<p style=\"text-align:center;\"><img src=\"./figures/ffg-observations.png\" width=\"375px\"></p>"
   ]
  },
  {
   "cell_type": "markdown",
   "metadata": {
    "slideshow": {
     "slide_type": "subslide"
    }
   },
   "source": [
    " \n",
    "- Assume that we are interested in the posterior for $X$ after observing $Y_1= \\hat y_1$ and $Y_2= \\hat y_2$. The posterior for $X$ can be inferred by applying the sum-product algorithm to the following graph:\n",
    "\n",
    "<p style=\"text-align:center;\"><img src=\"./figures/ffg-observations-2.png\" width=\"650px\"></p>"
   ]
  },
  {
   "cell_type": "markdown",
   "metadata": {
    "slideshow": {
     "slide_type": "fragment"
    }
   },
   "source": [
    " - (Note that) we usually draw terminal nodes for observed variables in the graph by smaller solid-black squares. This is just to help the visualization of the graph, since the computational rules are no different than for other nodes. "
   ]
  },
  {
   "cell_type": "markdown",
   "metadata": {
    "slideshow": {
     "slide_type": "slide"
    }
   },
   "source": [
    "### Code for Sum-Product Algorithm to infer  a posterior\n",
    "\n",
    "We'll use RxInfer to build the above graph, and perform sum-product message passing to infer the posterior $p(x|y_1,y_2)$. We assume $p(y_1|x)$ and $p(y_2|x)$ to be Gaussian likelihoods with known variances:\n",
    "$$\\begin{align*}\n",
    "    p(y_1\\,|\\,x) &= \\mathcal{N}(y_1\\,|\\,x, v_{y1}) \\\\\n",
    "    p(y_2\\,|\\,x) &= \\mathcal{N}(y_2\\,|\\,x, v_{y2})\n",
    "\\end{align*}$$\n",
    "Under this model, the posterior is given by:\n",
    "$$\\begin{align*}\n",
    "    p(x\\,|\\,y_1,y_2) &\\propto \\overbrace{p(y_1\\,|\\,x)\\,p(y_2\\,|\\,x)}^{\\text{likelihood}}\\,\\overbrace{p(x)}^{\\text{prior}} \\\\\n",
    "    &=\\mathcal{N}(x\\,|\\,\\hat{y}_1, v_{y1})\\, \\mathcal{N}(x\\,|\\,\\hat{y}_2, v_{y2}) \\, \\mathcal{N}(x\\,|\\,m_x, v_x) \n",
    "\\end{align*}$$\n",
    "so we can validate the answer by solving the Gaussian multiplication manually."
   ]
  },
  {
   "cell_type": "code",
   "execution_count": 12,
   "metadata": {
    "slideshow": {
     "slide_type": "subslide"
    }
   },
   "outputs": [
    {
     "name": "stdout",
     "output_type": "stream",
     "text": [
      "Sum-product message passing result: p(x|y1,y2) = 𝒩(1.1428571428571428,0.5714285714285714)\n",
      "Manual result: p(x|y1,y2) = 𝒩(1.1428571428571428, 0.5714285714285714)\n"
     ]
    }
   ],
   "source": [
    "# Data\n",
    "y1_hat = 1.0\n",
    "y2_hat = 2.0\n",
    "\n",
    "# Construct the factor graph\n",
    "@model function my_model()\n",
    "\n",
    "    # `x` is the hidden states\n",
    "    x = randomvar()\n",
    "    # `y1` and `y2` are \"clamped\" observations\n",
    "    y1 = datavar(Float64,)\n",
    "    y2 = datavar(Float64,)\n",
    "    \n",
    "    x ~ NormalMeanVariance(constvar(0.0), constvar(4.0))\n",
    "    y1 ~ NormalMeanVariance(x, constvar(1))\n",
    "    y2 ~ NormalMeanVariance(x, constvar(2))\n",
    "    \n",
    "    return x\n",
    "end\n",
    "\n",
    "result = inference(model=my_model(), data=(y1=y1_hat, y2 = y2_hat,))\n",
    "println(\"Sum-product message passing result: p(x|y1,y2) = 𝒩($(mean(result.posteriors[:x])),$(var(result.posteriors[:x])))\")\n",
    "\n",
    "# Calculate mean and variance of p(x|y1,y2) manually by multiplying 3 Gaussians (see lesson 4 for details)\n",
    "v = 1 / (1/4 + 1/1 + 1/2)\n",
    "m = v * (0/4 + y1_hat/1.0 + y2_hat/2.0)\n",
    "println(\"Manual result: p(x|y1,y2) = 𝒩($(m), $(v))\")"
   ]
  },
  {
   "cell_type": "code",
   "execution_count": 13,
   "metadata": {
    "slideshow": {
     "slide_type": "skip"
    }
   },
   "outputs": [
    {
     "data": {
      "text/html": [
       "<!--\r\n",
       "This HTML file contains custom styles and some javascript.\r\n",
       "Include it a Jupyter notebook for improved rendering.\r\n",
       "-->\r\n",
       "\r\n",
       "<!-- Fonts -->\r\n",
       "<link href='http://fonts.googleapis.com/css?family=Alegreya+Sans:100,300,400,500,700,800,900,100italic,300italic,400italic,500italic,700italic,800italic,900italic' rel='stylesheet' type='text/css'>\r\n",
       "<link href='http://fonts.googleapis.com/css?family=Arvo:400,700,400italic' rel='stylesheet' type='text/css'>\r\n",
       "<link href='http://fonts.googleapis.com/css?family=PT+Mono' rel='stylesheet' type='text/css'>\r\n",
       "<link href='http://fonts.googleapis.com/css?family=Shadows+Into+Light' rel='stylesheet' type='text/css'>\r\n",
       "<link href='http://fonts.googleapis.com/css?family=Nixie+One' rel='stylesheet' type='text/css'>\r\n",
       "\r\n",
       "<!-- Custom style -->\r\n",
       "<style>\r\n",
       "\r\n",
       "@font-face {\r\n",
       "    font-family: \"Computer Modern\";\r\n",
       "    src: url('http://mirrors.ctan.org/fonts/cm-unicode/fonts/otf/cmunss.otf');\r\n",
       "}\r\n",
       "\r\n",
       "#notebook_panel { /* main background */\r\n",
       "    background: rgb(245,245,245);\r\n",
       "}\r\n",
       "\r\n",
       "div.container {\r\n",
       "    min-width: 960px;\r\n",
       "}\r\n",
       "\r\n",
       "div #notebook { /* centre the content */\r\n",
       "    background: #fff; /* white background for content */\r\n",
       "    margin: auto;\r\n",
       "    padding-left: 0em;\r\n",
       "}\r\n",
       "\r\n",
       "#notebook li { /* More space between bullet points */\r\n",
       "    margin-top:0.8em;\r\n",
       "}\r\n",
       "\r\n",
       "/* draw border around running cells */\r\n",
       "div.cell.border-box-sizing.code_cell.running {\r\n",
       "    border: 1px solid #111;\r\n",
       "}\r\n",
       "\r\n",
       "/* Put a solid color box around each cell and its output, visually linking them*/\r\n",
       "div.cell.code_cell {\r\n",
       "    background-color: rgb(256,256,256);\r\n",
       "    border-radius: 0px;\r\n",
       "    padding: 0.5em;\r\n",
       "    margin-left:1em;\r\n",
       "    margin-top: 1em;\r\n",
       "}\r\n",
       "\r\n",
       "div.text_cell_render{\r\n",
       "    font-family: 'Alegreya Sans' sans-serif;\r\n",
       "    line-height: 140%;\r\n",
       "    font-size: 125%;\r\n",
       "    font-weight: 400;\r\n",
       "    width:800px;\r\n",
       "    margin-left:auto;\r\n",
       "    margin-right:auto;\r\n",
       "}\r\n",
       "\r\n",
       "\r\n",
       "/* Formatting for header cells */\r\n",
       ".text_cell_render h1 {\r\n",
       "    font-family: 'Nixie One', serif;\r\n",
       "    font-style:regular;\r\n",
       "    font-weight: 400;\r\n",
       "    font-size: 45pt;\r\n",
       "    line-height: 100%;\r\n",
       "    color: rgb(0,51,102);\r\n",
       "    margin-bottom: 0.5em;\r\n",
       "    margin-top: 0.5em;\r\n",
       "    display: block;\r\n",
       "}\r\n",
       "\r\n",
       ".text_cell_render h2 {\r\n",
       "    font-family: 'Nixie One', serif;\r\n",
       "    font-weight: 400;\r\n",
       "    font-size: 30pt;\r\n",
       "    line-height: 100%;\r\n",
       "    color: rgb(0,51,102);\r\n",
       "    margin-bottom: 0.1em;\r\n",
       "    margin-top: 0.3em;\r\n",
       "    display: block;\r\n",
       "}\r\n",
       "\r\n",
       ".text_cell_render h3 {\r\n",
       "    font-family: 'Nixie One', serif;\r\n",
       "    margin-top:16px;\r\n",
       "    font-size: 22pt;\r\n",
       "    font-weight: 600;\r\n",
       "    margin-bottom: 3px;\r\n",
       "    font-style: regular;\r\n",
       "    color: rgb(102,102,0);\r\n",
       "}\r\n",
       "\r\n",
       ".text_cell_render h4 {    /*Use this for captions*/\r\n",
       "    font-family: 'Nixie One', serif;\r\n",
       "    font-size: 14pt;\r\n",
       "    text-align: center;\r\n",
       "    margin-top: 0em;\r\n",
       "    margin-bottom: 2em;\r\n",
       "    font-style: regular;\r\n",
       "}\r\n",
       "\r\n",
       ".text_cell_render h5 {  /*Use this for small titles*/\r\n",
       "    font-family: 'Nixie One', sans-serif;\r\n",
       "    font-weight: 400;\r\n",
       "    font-size: 16pt;\r\n",
       "    color: rgb(163,0,0);\r\n",
       "    font-style: italic;\r\n",
       "    margin-bottom: .1em;\r\n",
       "    margin-top: 0.8em;\r\n",
       "    display: block;\r\n",
       "}\r\n",
       "\r\n",
       ".text_cell_render h6 { /*use this for copyright note*/\r\n",
       "    font-family: 'PT Mono', sans-serif;\r\n",
       "    font-weight: 300;\r\n",
       "    font-size: 9pt;\r\n",
       "    line-height: 100%;\r\n",
       "    color: grey;\r\n",
       "    margin-bottom: 1px;\r\n",
       "    margin-top: 1px;\r\n",
       "}\r\n",
       "\r\n",
       ".CodeMirror{\r\n",
       "    font-family: \"PT Mono\";\r\n",
       "    font-size: 90%;\r\n",
       "}\r\n",
       "\r\n",
       ".boxed { /* draw a border around a piece of text */\r\n",
       "  border: 1px solid blue ;\r\n",
       "}\r\n",
       "\r\n",
       "h4#CODE-EXAMPLE,\r\n",
       "h4#END-OF-CODE-EXAMPLE {\r\n",
       "    margin: 10px 0;\r\n",
       "    padding: 10px;\r\n",
       "    background-color: #d0f9ca !important;\r\n",
       "    border-top: #849f81 1px solid;\r\n",
       "    border-bottom: #849f81 1px solid;\r\n",
       "}\r\n",
       "\r\n",
       ".emphasis {\r\n",
       "    color: red;\r\n",
       "}\r\n",
       "\r\n",
       ".exercise {\r\n",
       "    color: green;\r\n",
       "}\r\n",
       "\r\n",
       ".proof {\r\n",
       "    color: blue;\r\n",
       "}\r\n",
       "\r\n",
       "code {\r\n",
       "  padding: 2px 4px !important;\r\n",
       "  font-size: 90% !important;\r\n",
       "  color: #222 !important;\r\n",
       "  background-color: #efefef !important;\r\n",
       "  border-radius: 2px !important;\r\n",
       "}\r\n",
       "\r\n",
       "/* This removes the actual style cells from the notebooks, but no in print mode\r\n",
       "   as they will be removed through some other method */\r\n",
       "@media not print {\r\n",
       "  .cell:nth-last-child(-n+2) {\r\n",
       "    display: none;\r\n",
       "  }\r\n",
       "}\r\n",
       "\r\n",
       "footer.hidden-print {\r\n",
       "    display: none !important;\r\n",
       "}\r\n",
       "    \r\n",
       "</style>\r\n",
       "\r\n",
       "<!-- MathJax styling -->\r\n",
       "<script>\r\n",
       "    MathJax.Hub.Config({\r\n",
       "                        CommonHTML: {\r\n",
       "                            scale: 200\r\n",
       "                        },\r\n",
       "                TeX: {\r\n",
       "                    extensions: [\"AMSmath.js\"],\r\n",
       "                    equationNumbers: { autoNumber: \"AMS\", useLabelIds: true}\r\n",
       "                },\r\n",
       "                tex2jax: {\r\n",
       "                    inlineMath: [ ['$','$'], [\"\\\\(\",\"\\\\)\"] ],\r\n",
       "                    displayMath: [ ['$$','$$'], [\"\\\\[\",\"\\\\]\"] ]\r\n",
       "                },\r\n",
       "                displayAlign: 'center', // Change this to 'center' to center equations.\r\n",
       "                \"HTML-CSS\": {\r\n",
       "                    styles: {'.MathJax_Display': {\"margin\": 4}}\r\n",
       "                }\r\n",
       "        });\r\n",
       "</script>\r\n"
      ]
     },
     "metadata": {},
     "output_type": "display_data"
    }
   ],
   "source": [
    "open(\"../../styles/aipstyle.html\") do f display(\"text/html\", read(f, String)) end\n"
   ]
  },
  {
   "cell_type": "markdown",
   "metadata": {},
   "source": []
  }
 ],
 "metadata": {
  "celltoolbar": "Slideshow",
  "kernelspec": {
   "display_name": "Julia 1.9.3",
   "language": "julia",
   "name": "julia-1.9"
  },
  "language_info": {
   "file_extension": ".jl",
   "mimetype": "application/julia",
   "name": "julia",
   "version": "1.9.3"
  }
 },
 "nbformat": 4,
 "nbformat_minor": 4
}
