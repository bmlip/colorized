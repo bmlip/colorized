{
 "cells": [
  {
   "cell_type": "markdown",
   "metadata": {
    "slideshow": {
     "slide_type": "slide"
    }
   },
   "source": [
    "# Generative Classification"
   ]
  },
  {
   "cell_type": "markdown",
   "metadata": {
    "slideshow": {
     "slide_type": "slide"
    }
   },
   "source": [
    "### Preliminaries\n",
    "\n",
    "- Goal \n",
    "  - Introduction to linear generative classification with a Gaussian-categorical generative model\n",
    "  \n",
    "- Materials        \n",
    "  - Mandatory\n",
    "    - These lecture notes\n",
    "  - Optional\n",
    "    - Bishop pp. 196-202 (section 4.2 focusses on binary classification, whereas in these lecture notes we describe generative classification for multiple classes).    "
   ]
  },
  {
   "cell_type": "markdown",
   "metadata": {
    "slideshow": {
     "slide_type": "slide"
    }
   },
   "source": [
    "### Challenge: an apple or a peach?\n",
    "\n",
    "- **Problem**: You're given numerical values for the skin features roughness and color for 200 pieces of fruit, where for each piece of fruit you also know if it is an apple or a peach. Now you receive the roughness and color values for a new piece of fruit but you don't get its class label (apple or peach). What is the probability that the new piece is an apple?"
   ]
  },
  {
   "cell_type": "markdown",
   "metadata": {
    "slideshow": {
     "slide_type": "fragment"
    }
   },
   "source": [
    "- **Solution**: To be solved later in this lesson.\n",
    "\n",
    "-  Let's first generate a data set (see next slide)."
   ]
  },
  {
   "cell_type": "code",
   "execution_count": 1,
   "metadata": {
    "slideshow": {
     "slide_type": "slide"
    }
   },
   "outputs": [
    {
     "data": {
      "image/png": "[encoded data removed]",
      "text/plain": [
       "Figure(PyObject <Figure size 640x480 with 1 Axes>)"
      ]
     },
     "metadata": {},
     "output_type": "display_data"
    }
   ],
   "source": [
    "using Distributions, PyPlot\n",
    "N = 250; p_apple = 0.7; Σ = [0.2 0.1; 0.1 0.3]\n",
    "p_given_apple = MvNormal([1.0, 1.0], Σ) # p(X|y=apple)\n",
    "p_given_peach = MvNormal([1.7, 2.5], Σ) # p(X|y=peach)\n",
    "X = Matrix{Float64}(undef,2,N); y = Vector{Bool}(undef,N) # true corresponds to apple\n",
    "for n=1:N\n",
    "    y[n] = (rand() < p_apple) # Apple or peach?\n",
    "    X[:,n] = y[n] ? rand(p_given_apple) : rand(p_given_peach) # Sample features\n",
    "end\n",
    "X_apples = X[:,findall(y)]'; X_peaches = X[:,findall(.!y)]' # Sort features on class\n",
    "x_test = [2.3; 1.5] # Features of 'new' data point\n",
    "\n",
    "function plot_fruit_dataset()\n",
    "    # Plot the data set and x_test\n",
    "    plot(X_apples[:,1], X_apples[:,2], \"r+\")   # apples\n",
    "    plot(X_peaches[:,1], X_peaches[:,2], \"bx\") # peaches\n",
    "    plot(x_test[1], x_test[2], \"ko\")           # 'new' unlabelled data point\n",
    "    legend([\"Apples\"; \"Peaches\"; \"Apple or peach?\"], loc=2)\n",
    "    xlabel(L\"x_1\"); ylabel(L\"x_2\"); xlim([-1,3]); ylim([-1,4])\n",
    "end\n",
    "plot_fruit_dataset();"
   ]
  },
  {
   "cell_type": "markdown",
   "metadata": {
    "slideshow": {
     "slide_type": "slide"
    }
   },
   "source": [
    "### Generative Classification Problem Statement\n",
    "\n",
    "- Given is a data set  $D = \\{(x_1,y_1),\\dotsc,(x_N,y_N)\\}$\n",
    "  - inputs $x_n \\in \\mathbb{R}^M$ are called **features**.\n",
    "  - outputs $y_n \\in \\mathcal{C}_k$, with $k=1,\\ldots,K$; The **discrete** targets $\\mathcal{C}_k$ are called **classes**."
   ]
  },
  {
   "cell_type": "markdown",
   "metadata": {
    "slideshow": {
     "slide_type": "fragment"
    }
   },
   "source": [
    "- We will again use the 1-of-$K$ notation for the discrete classes. Define the binary **class selection variable**\n",
    "$$\n",
    "y_{nk} = \\begin{cases} 1 & \\text{if  } \\, y_n \\in \\mathcal{C}_k\\\\\n",
    "0 & \\text{otherwise} \\end{cases}\n",
    "$$\n",
    "  - (Hence, the notations $y_{nk}=1$ and $y_n \\in \\mathcal{C}_k$ mean the same thing.)"
   ]
  },
  {
   "cell_type": "markdown",
   "metadata": {
    "slideshow": {
     "slide_type": "fragment"
    }
   },
   "source": [
    "-  The plan for generative classification: build a model for the joint pdf $p(x,y)= p(x|y)p(y)$ and use Bayes to infer the posterior class probabilities \n",
    "\n",
    "$$\n",
    "p(y|x) = \\frac{p(x|y) p(y)}{\\sum_{y^\\prime} p(x|y^\\prime) p(y^\\prime)} \\propto p(x|y)\\,p(y)\n",
    "$$"
   ]
  },
  {
   "cell_type": "markdown",
   "metadata": {
    "slideshow": {
     "slide_type": "slide"
    }
   },
   "source": [
    "###  1 - Model specification \n",
    "\n",
    "##### Likelihood\n",
    "\n",
    "- Assume Gaussian **class-conditional distributions** with **equal covariance matrix** across the classes,\n",
    " $$\n",
    " p(x_n|\\mathcal{C}_{k}) = \\mathcal{N}(x_n|\\mu_k,\\Sigma)\n",
    " $$\n",
    "with notational shorthand: $\\mathcal{C}_{k} \\triangleq (y_n \\in \\mathcal{C}_{k})$."
   ]
  },
  {
   "cell_type": "markdown",
   "metadata": {
    "slideshow": {
     "slide_type": "fragment"
    }
   },
   "source": [
    "##### Prior\n",
    "\n",
    "- We use a categorical distribution for the class labels $y_{nk}$: \n",
    "$$p(\\mathcal{C}_{k}) = \\pi_k$$\n",
    "\n"
   ]
  },
  {
   "cell_type": "markdown",
   "metadata": {
    "slideshow": {
     "slide_type": "fragment"
    }
   },
   "source": [
    "- Hence, using the one-hot coding formulation for $y_{nk}$, the generative model $p(x_n,y_n)$ can be written as\n",
    "\n",
    "$$\\begin{align*}\n",
    " p(x_n,y_n) &= \\prod_{k=1}^K p(x_n,y_{nk}=1)^{y_{nk}} \\\\\n",
    "   &= \\prod_{k=1}^K \\left( \\pi_k \\cdot\\mathcal{N}(x_n|\\mu_k,\\Sigma)\\right)^{y_{nk}}\n",
    "\\end{align*}$$\n"
   ]
  },
  {
   "cell_type": "markdown",
   "metadata": {
    "slideshow": {
     "slide_type": "fragment"
    }
   },
   "source": [
    "- We will refer to this model as the **Gaussian-Categorical Model** (<a id=\"GCM\">GCM</a>). \n",
    "  - N.B. In the literature, this model (with possibly unequal $\\Sigma_k$ across classes) is often called the Gaussian Discriminant Analysis  model and the special case with equal covariance matrices $\\Sigma_k=\\Sigma$ is also called Linear Discriminant Analysis. We think these names are a bit unfortunate as it may lead to confusion with the [discriminative method for classification](https://nbviewer.org/github/bertdv/BMLIP/blob/master/lessons/notebooks/Discriminative-Classification.ipynb)."
   ]
  },
  {
   "cell_type": "markdown",
   "metadata": {
    "slideshow": {
     "slide_type": "fragment"
    }
   },
   "source": [
    "- As usual, once the model has been specified, the rest (inference for parameters and model prediction) through straight probability theory."
   ]
  },
  {
   "cell_type": "markdown",
   "metadata": {
    "slideshow": {
     "slide_type": "slide"
    }
   },
   "source": [
    "### Computing the log-likelihood\n",
    "\n",
    "- The <a id=\"generative-classification-llh\">log-likelihood</a> given the full data set $D=\\{(x_n,y_n), n=1,2,\\ldots,N\\}$ is then\n",
    "$$\\begin{align*}\n",
    "\\log\\, p(D|\\theta) &\\stackrel{\\text{IID}}{=} \\sum_n \\log \\prod_k p(x_n,y_{nk}=1\\,|\\,\\theta)^{y_{nk}}  \\\\\n",
    "  &=  \\sum_{n,k} y_{nk} \\log p(x_n,y_{nk}=1\\,|\\,\\theta) \\\\\n",
    "     &=  \\sum_{n,k} y_{nk}  \\log p(x_n|y_{nk}=1)  +  \\sum_{n,k} y_{nk} \\log p(y_{nk}=1) \\\\\n",
    "   &=  \\sum_{n,k} y_{nk}  \\log\\mathcal{N}(x_n|\\mu_k,\\Sigma)  +  \\sum_{n,k} y_{nk} \\log \\pi_k \\\\\n",
    "   &=  \\sum_{n,k} y_{nk} \\underbrace{ \\log\\mathcal{N}(x_n|\\mu_k,\\Sigma) }_{ \\text{see Gaussian est.} } + \\underbrace{ \\sum_k m_k \\log \\pi_k }_{ \\text{see multinomial est.} } \n",
    "\\end{align*}$$\n",
    "where we used $m_k \\triangleq \\sum_n y_{nk}$."
   ]
  },
  {
   "cell_type": "markdown",
   "metadata": {
    "slideshow": {
     "slide_type": "slide"
    }
   },
   "source": [
    "### 2 -  Parameter Inference for Classification\n",
    "\n",
    "- We'll do Maximum Likelihood estimation for $\\theta = \\{ \\pi_k, \\mu_k, \\Sigma \\}$ from data $D$"
   ]
  },
  {
   "cell_type": "markdown",
   "metadata": {
    "slideshow": {
     "slide_type": "fragment"
    }
   },
   "source": [
    "-  Recall (from the previous slide) the log-likelihood (LLH)\n",
    "\n",
    "$$\n",
    "\\log\\, p(D|\\theta) =  \\sum_{n,k} y_{nk} \\underbrace{ \\log\\mathcal{N}(x_n|\\mu_k,\\Sigma) }_{ \\text{Gaussian} } + \\underbrace{ \\sum_k m_k \\log \\pi_k }_{ \\text{multinomial} } \n",
    "$$"
   ]
  },
  {
   "cell_type": "markdown",
   "metadata": {
    "slideshow": {
     "slide_type": "fragment"
    }
   },
   "source": [
    "- Maximization of the LLH for the GDA model breaks down into\n",
    "  -  **Gaussian density estimation** for parameters $\\mu_k, \\Sigma$, since the first term contains exactly the log-likelihood for MVG density estimation. We've already done this, see the [Gaussian distribution lesson](https://nbviewer.jupyter.org/github/bertdv/BMLIP/blob/master/lessons/notebooks/The-Gaussian-Distribution.ipynb#ML-for-Gaussian).\n",
    "  - **Multinomial density estimation** for class priors $\\pi_k$, since the second term holds exactly the log-likelihood for multinomial density estimation, see the [Multinomial distribution lesson](https://nbviewer.jupyter.org/github/bertdv/BMLIP/blob/master/lessons/notebooks/The-Multinomial-Distribution.ipynb#ML-for-multinomial). \n",
    " "
   ]
  },
  {
   "cell_type": "markdown",
   "metadata": {
    "slideshow": {
     "slide_type": "subslide"
    }
   },
   "source": [
    " - The ML for multinomial class prior (we've done this before!)\n",
    "$$\\begin{align*}   \n",
    "\\hat \\pi_k = \\frac{m_k}{N} \n",
    "\\end{align*}$$"
   ]
  },
  {
   "cell_type": "markdown",
   "metadata": {
    "slideshow": {
     "slide_type": "fragment"
    }
   },
   "source": [
    "- Now group the data into separate classes and do MVG ML estimation for class-conditional parameters (we've done this before as well):\n",
    "$$\\begin{align*}\n",
    " \\hat \\mu_k &= \\frac{ \\sum_n y_{nk} x_n} { \\sum_n y_{nk} } = \\frac{1}{m_k} \\sum_n y_{nk} x_n \\\\\n",
    " \\hat \\Sigma  &= \\frac{1}{N} \\sum_{n,k} y_{nk} (x_n-\\hat \\mu_k)(x_n-\\hat \\mu_k)^T \\\\\n",
    "  &= \\sum_k \\hat \\pi_k \\cdot \\underbrace{ \\left( \\frac{1}{m_k} \\sum_{n} y_{nk} (x_n-\\hat \\mu_k)(x_n-\\hat \\mu_k)^T  \\right) }_{ \\text{class-cond. variance} } \\\\\n",
    "  &= \\sum_k \\hat \\pi_k \\cdot \\hat \\Sigma_k\n",
    "\\end{align*}$$\n",
    "where $\\hat \\pi_k$, $\\hat{\\mu}_k$ and $\\hat{\\Sigma}_k$ are the sample proportion, sample mean and sample variance for the $k$th class, respectively."
   ]
  },
  {
   "cell_type": "markdown",
   "metadata": {
    "slideshow": {
     "slide_type": "fragment"
    }
   },
   "source": [
    "- Note that the binary class selection variable $y_{nk}$ groups data from the same class."
   ]
  },
  {
   "cell_type": "markdown",
   "metadata": {
    "slideshow": {
     "slide_type": "slide"
    }
   },
   "source": [
    "###  3 - Application: Class prediction for new Data\n",
    "\n",
    "-  Let's apply the trained model to predict the class for given a 'new' input $x_\\bullet$:\n",
    "$$\\begin{align*}\n",
    "p(\\mathcal{C}_k|x_\\bullet,D ) &= \\int p(\\mathcal{C}_k|x_\\bullet,\\theta ) \\underbrace{p(\\theta|D)}_{\\text{ML: }\\delta(\\theta - \\hat{\\theta})} \\mathrm{d}\\theta \\\\\n",
    "&= p(\\mathcal{C}_k|x_\\bullet,\\hat{\\theta} ) \\\\\n",
    "&\\propto p(\\mathcal{C}_k)\\,p(x_\\bullet|\\mathcal{C}_k) \\\\\n",
    "&= \\hat{\\pi}_k \\cdot \\mathcal{N}(x_\\bullet | \\hat{\\mu}_k, \\hat{\\Sigma}) \\\\\n",
    "  &\\propto \\hat{\\pi}_k \\exp \\left\\{ { - {\\frac{1}{2}}(x_\\bullet - \\hat{\\mu}_k )^T \\hat{\\Sigma}^{ - 1} (x_\\bullet - \\hat{\\mu}_k )} \\right\\}\\\\\n",
    "  &=\\exp \\Big\\{ \\underbrace{-\\frac{1}{2}x_\\bullet^T \\hat{\\Sigma}^{ - 1} x_\\bullet}_{\\text{not a function of }k} + \\hat{\\mu}_k^T \\hat{\\Sigma}^{-1} x_\\bullet - {\\frac{1}{2}}\\hat{\\mu}_k^T \\hat{\\Sigma}^{ - 1} \\hat{\\mu}_k  + \\log \\hat{\\pi}_k  \\Big\\}  \\\\\n",
    "  &\\propto  \\frac{1}{Z}\\exp\\{\\beta_k^T x_\\bullet + \\gamma_k\\} \\\\\n",
    "  &\\triangleq \\sigma\\left( \\beta_k^T x_\\bullet + \\gamma_k\\right)\n",
    "\\end{align*}$$\n",
    "where \n",
    "$\\sigma(a_k) \\triangleq \\frac{\\exp(a_k)}{\\sum_{k^\\prime}\\exp(a_{k^\\prime})}$ is called a [**softmax**](https://en.wikipedia.org/wiki/Softmax_function) (a.k.a. **normalized exponential**) function, and\n",
    "$$\\begin{align*}\n",
    "\\beta_k &= \\hat{\\Sigma}^{-1} \\hat{\\mu}_k \\\\\n",
    "\\gamma_k &= - \\frac{1}{2} \\hat{\\mu}_k^T \\hat{\\Sigma}^{-1} \\hat{\\mu}_k  + \\log \\hat{\\pi}_k \\\\\n",
    "Z &= \\sum_{k^\\prime}\\exp\\{\\beta_{k^\\prime}^T x_\\bullet + \\gamma_{k^\\prime}\\}\\,. \\quad \\text{(normalization constant)} \n",
    "\\end{align*}$$"
   ]
  },
  {
   "cell_type": "markdown",
   "metadata": {
    "slideshow": {
     "slide_type": "fragment"
    }
   },
   "source": [
    "- The softmax function is a smooth approximation to the max-function. Note that we did not a priori specify a softmax posterior, but rather it followed from applying Bayes rule to the prior and likelihood assumptions. "
   ]
  },
  {
   "cell_type": "markdown",
   "metadata": {
    "slideshow": {
     "slide_type": "fragment"
    }
   },
   "source": [
    "- Note the following properties of the softmax function $\\sigma(a_k)$:\n",
    "  - $\\sigma(a_k)$ is monotonicaly ascending function and hence it preserves the order of $a_k$. That is, if $a_j>a_k$ then $\\sigma(a_j)>\\sigma(a_k)$. \n",
    "  - $\\sigma(a_k)$ is always a proper probability distribution, since $\\sigma(a_k)>0$ and $\\sum_k \\sigma(a_k) = 1$. \n",
    "  "
   ]
  },
  {
   "cell_type": "markdown",
   "metadata": {
    "slideshow": {
     "slide_type": "slide"
    }
   },
   "source": [
    "###  Discrimination Boundaries\n",
    "\n",
    "-  The class log-posterior $\\log p(\\mathcal{C}_k|x) \\propto \\beta_k^T x + \\gamma_k$ is a linear function of the input features."
   ]
  },
  {
   "cell_type": "markdown",
   "metadata": {
    "slideshow": {
     "slide_type": "fragment"
    }
   },
   "source": [
    "-  Thus, the contours of equal probability (**discriminant functions**) are lines (hyperplanes) in the feature space\n",
    "$$\n",
    "\\log \\frac{{p(\\mathcal{C}_k|x,\\theta )}}{{p(\\mathcal{C}_j|x,\\theta )}} = \\beta_{kj}^T x + \\gamma_{kj} = 0\n",
    "$$\n",
    "where we defined $\\beta_{kj} \\triangleq \\beta_k - \\beta_j$ and similarly for $\\gamma_{kj}$."
   ]
  },
  {
   "cell_type": "markdown",
   "metadata": {
    "slideshow": {
     "slide_type": "fragment"
    }
   },
   "source": [
    "-  How to classify a new input $x_\\bullet$? The Bayesian answer is a posterior distribution $ p(\\mathcal{C}_k|x_\\bullet)$. If you must choose, then the class with maximum posterior class probability\n",
    "$$\\begin{align*}\n",
    "k^* &= \\arg\\max_k p(\\mathcal{C}_k|x_\\bullet) \\\\\n",
    "  &= \\arg\\max_k \\left( \\beta _k^T x_\\bullet + \\gamma_k \\right)\n",
    "\\end{align*}$$\n",
    "is an appealing decision. "
   ]
  },
  {
   "cell_type": "markdown",
   "metadata": {
    "slideshow": {
     "slide_type": "slide"
    }
   },
   "source": [
    "### <a id=\"code-generative-classification-example\">Code Example</a>:  Working out the \"apple or peach\" example problem\n",
    "\n",
    "We'll apply the above results to solve the \"apple or peach\" example problem."
   ]
  },
  {
   "cell_type": "code",
   "execution_count": 2,
   "metadata": {
    "slideshow": {
     "slide_type": "subslide"
    }
   },
   "outputs": [
    {
     "name": "stdout",
     "output_type": "stream",
     "text": [
      "p(apple|x=x∙) = 0.7996875392706204\n"
     ]
    },
    {
     "data": {
      "image/png": "[encoded data removed]",
      "text/plain": [
       "Figure(PyObject <Figure size 640x480 with 1 Axes>)"
      ]
     },
     "metadata": {},
     "output_type": "display_data"
    }
   ],
   "source": [
    "# Make sure you run the data-generating code cell first\n",
    "\n",
    "# Multinomial (in this case binomial) density estimation\n",
    "p_apple_est = sum(y.==true) / length(y)\n",
    "π_hat = [p_apple_est; 1-p_apple_est]\n",
    "\n",
    "# Estimate class-conditional multivariate Gaussian densities\n",
    "d1 = fit_mle(FullNormal, X_apples')  # MLE density estimation d1 = N(μ₁, Σ₁)\n",
    "d2 = fit_mle(FullNormal, X_peaches') # MLE density estimation d2 = N(μ₂, Σ₂)\n",
    "Σ = π_hat[1]*cov(d1) + π_hat[2]*cov(d2) # Combine Σ₁ and Σ₂ into Σ\n",
    "conditionals = [MvNormal(mean(d1), Σ); MvNormal(mean(d2), Σ)] # p(x|C)\n",
    "\n",
    "# Calculate posterior class probability of x∙ (prediction)\n",
    "function predict_class(k, X) # calculate p(Ck|X)\n",
    "    norm = π_hat[1]*pdf(conditionals[1],X) + π_hat[2]*pdf(conditionals[2],X)\n",
    "    return π_hat[k]*pdf(conditionals[k], X) ./ norm\n",
    "end\n",
    "println(\"p(apple|x=x∙) = $(predict_class(1,x_test))\")\n",
    "\n",
    "# Discrimination boundary of the posterior (p(apple|x;D) = p(peach|x;D) = 0.5)\n",
    "β(k) = inv(Σ)*mean(conditionals[k])\n",
    "γ(k) = -0.5 * mean(conditionals[k])' * inv(Σ) * mean(conditionals[k]) + log(π_hat[k])\n",
    "function discriminant_x2(x1)\n",
    "    # Solve discriminant equation for x2\n",
    "    β12 = β(1) .- β(2)\n",
    "    γ12 = (γ(1) .- γ(2))[1,1]\n",
    "    return -1*(β12[1]*x1 .+ γ12) ./ β12[2]\n",
    "end\n",
    "\n",
    "plot_fruit_dataset() # Plot dataset\n",
    "x1 = range(-1,length=10,stop=3)\n",
    "plot(x1, discriminant_x2(x1), \"k-\") # Plot discrimination boundary\n",
    "fill_between(x1, -1, discriminant_x2(x1), color=\"r\", alpha=0.2)\n",
    "fill_between(x1, discriminant_x2(x1), 4, color=\"b\", alpha=0.2);"
   ]
  },
  {
   "cell_type": "markdown",
   "metadata": {
    "slideshow": {
     "slide_type": "slide"
    }
   },
   "source": [
    "###  Recap Generative Classification\n",
    "\n",
    "- Gaussian-Categorical Model specification:  \n",
    "\n",
    "$$p(x,\\mathcal{C}_k|\\,\\theta) = \\pi_k \\cdot \\mathcal{N}(x|\\mu_k,\\Sigma)$$"
   ]
  },
  {
   "cell_type": "markdown",
   "metadata": {
    "slideshow": {
     "slide_type": "fragment"
    }
   },
   "source": [
    "- If the class-conditional distributions are Gaussian with equal covariance matrices across classes ($\\Sigma_k = \\Sigma$), then\n",
    "    the discriminant functions are hyperplanes in feature space."
   ]
  },
  {
   "cell_type": "markdown",
   "metadata": {
    "slideshow": {
     "slide_type": "fragment"
    }
   },
   "source": [
    "- ML estimation for $\\{\\pi_k,\\mu_k,\\Sigma\\}$ in the GCM model breaks down to simple density estimation for Gaussian and multinomial/categorical distributions."
   ]
  },
  {
   "cell_type": "markdown",
   "metadata": {
    "slideshow": {
     "slide_type": "fragment"
    }
   },
   "source": [
    "- Posterior class probability is a softmax function\n",
    "$$ p(\\mathcal{C}_k|x,\\theta ) \\propto \\exp\\{\\beta_k^T x + \\gamma_k\\}$$\n",
    "where $\\beta _k= \\Sigma^{-1} \\mu_k$ and $\\gamma_k=- \\frac{1}{2} \\mu_k^T \\Sigma^{-1} \\mu_k  + \\log \\pi_k$."
   ]
  },
  {
   "cell_type": "code",
   "execution_count": 5,
   "metadata": {
    "slideshow": {
     "slide_type": "skip"
    }
   },
   "outputs": [
    {
     "data": {
      "text/html": [
       "<!--\n",
       "This HTML file contains custom styles and some javascript.\n",
       "Include it a Jupyter notebook for improved rendering.\n",
       "-->\n",
       "\n",
       "<!-- Fonts -->\n",
       "<link href='http://fonts.googleapis.com/css?family=Alegreya+Sans:100,300,400,500,700,800,900,100italic,300italic,400italic,500italic,700italic,800italic,900italic' rel='stylesheet' type='text/css'>\n",
       "<link href='http://fonts.googleapis.com/css?family=Arvo:400,700,400italic' rel='stylesheet' type='text/css'>\n",
       "<link href='http://fonts.googleapis.com/css?family=PT+Mono' rel='stylesheet' type='text/css'>\n",
       "<link href='http://fonts.googleapis.com/css?family=Shadows+Into+Light' rel='stylesheet' type='text/css'>\n",
       "<link href='http://fonts.googleapis.com/css?family=Nixie+One' rel='stylesheet' type='text/css'>\n",
       "\n",
       "<!-- Custom style -->\n",
       "<style>\n",
       "\n",
       "@font-face {\n",
       "    font-family: \"Computer Modern\";\n",
       "    src: url('http://mirrors.ctan.org/fonts/cm-unicode/fonts/otf/cmunss.otf');\n",
       "}\n",
       "\n",
       "#notebook_panel { /* main background */\n",
       "    background: rgb(245,245,245);\n",
       "}\n",
       "\n",
       "div.container {\n",
       "    min-width: 960px;\n",
       "}\n",
       "\n",
       "div #notebook { /* centre the content */\n",
       "    background: #fff; /* white background for content */\n",
       "    margin: auto;\n",
       "    padding-left: 0em;\n",
       "}\n",
       "\n",
       "#notebook li { /* More space between bullet points */\n",
       "    margin-top:0.8em;\n",
       "}\n",
       "\n",
       "/* draw border around running cells */\n",
       "div.cell.border-box-sizing.code_cell.running {\n",
       "    border: 1px solid #111;\n",
       "}\n",
       "\n",
       "/* Put a solid color box around each cell and its output, visually linking them*/\n",
       "div.cell.code_cell {\n",
       "    background-color: rgb(256,256,256);\n",
       "    border-radius: 0px;\n",
       "    padding: 0.5em;\n",
       "    margin-left:1em;\n",
       "    margin-top: 1em;\n",
       "}\n",
       "\n",
       "div.text_cell_render{\n",
       "    font-family: 'Alegreya Sans' sans-serif;\n",
       "    line-height: 140%;\n",
       "    font-size: 125%;\n",
       "    font-weight: 400;\n",
       "    width:800px;\n",
       "    margin-left:auto;\n",
       "    margin-right:auto;\n",
       "}\n",
       "\n",
       "\n",
       "/* Formatting for header cells */\n",
       ".text_cell_render h1 {\n",
       "    font-family: 'Nixie One', serif;\n",
       "    font-style:regular;\n",
       "    font-weight: 400;\n",
       "    font-size: 45pt;\n",
       "    line-height: 100%;\n",
       "    color: rgb(0,51,102);\n",
       "    margin-bottom: 0.5em;\n",
       "    margin-top: 0.5em;\n",
       "    display: block;\n",
       "}\n",
       "\n",
       ".text_cell_render h2 {\n",
       "    font-family: 'Nixie One', serif;\n",
       "    font-weight: 400;\n",
       "    font-size: 30pt;\n",
       "    line-height: 100%;\n",
       "    color: rgb(0,51,102);\n",
       "    margin-bottom: 0.1em;\n",
       "    margin-top: 0.3em;\n",
       "    display: block;\n",
       "}\n",
       "\n",
       ".text_cell_render h3 {\n",
       "    font-family: 'Nixie One', serif;\n",
       "    margin-top:16px;\n",
       "    font-size: 22pt;\n",
       "    font-weight: 600;\n",
       "    margin-bottom: 3px;\n",
       "    font-style: regular;\n",
       "    color: rgb(102,102,0);\n",
       "}\n",
       "\n",
       ".text_cell_render h4 {    /*Use this for captions*/\n",
       "    font-family: 'Nixie One', serif;\n",
       "    font-size: 14pt;\n",
       "    text-align: center;\n",
       "    margin-top: 0em;\n",
       "    margin-bottom: 2em;\n",
       "    font-style: regular;\n",
       "}\n",
       "\n",
       ".text_cell_render h5 {  /*Use this for small titles*/\n",
       "    font-family: 'Nixie One', sans-serif;\n",
       "    font-weight: 400;\n",
       "    font-size: 16pt;\n",
       "    color: rgb(163,0,0);\n",
       "    font-style: italic;\n",
       "    margin-bottom: .1em;\n",
       "    margin-top: 0.8em;\n",
       "    display: block;\n",
       "}\n",
       "\n",
       ".text_cell_render h6 { /*use this for copyright note*/\n",
       "    font-family: 'PT Mono', sans-serif;\n",
       "    font-weight: 300;\n",
       "    font-size: 9pt;\n",
       "    line-height: 100%;\n",
       "    color: grey;\n",
       "    margin-bottom: 1px;\n",
       "    margin-top: 1px;\n",
       "}\n",
       "\n",
       ".CodeMirror{\n",
       "    font-family: \"PT Mono\";\n",
       "    font-size: 90%;\n",
       "}\n",
       "\n",
       ".boxed { /* draw a border around a piece of text */\n",
       "  border: 1px solid blue ;\n",
       "}\n",
       "\n",
       "h4#CODE-EXAMPLE,\n",
       "h4#END-OF-CODE-EXAMPLE {\n",
       "    margin: 10px 0;\n",
       "    padding: 10px;\n",
       "    background-color: #d0f9ca !important;\n",
       "    border-top: #849f81 1px solid;\n",
       "    border-bottom: #849f81 1px solid;\n",
       "}\n",
       "\n",
       ".emphasis {\n",
       "    color: red;\n",
       "}\n",
       "\n",
       ".exercise {\n",
       "    color: green;\n",
       "}\n",
       "\n",
       ".proof {\n",
       "    color: blue;\n",
       "}\n",
       "\n",
       "code {\n",
       "  padding: 2px 4px !important;\n",
       "  font-size: 90% !important;\n",
       "  color: #222 !important;\n",
       "  background-color: #efefef !important;\n",
       "  border-radius: 2px !important;\n",
       "}\n",
       "\n",
       "/* This removes the actual style cells from the notebooks, but no in print mode\n",
       "   as they will be removed through some other method */\n",
       "@media not print {\n",
       "  .cell:nth-last-child(-n+2) {\n",
       "    display: none;\n",
       "  }\n",
       "}\n",
       "\n",
       "footer.hidden-print {\n",
       "    display: none !important;\n",
       "}\n",
       "    \n",
       "</style>\n",
       "\n",
       "<!-- MathJax styling -->\n",
       "<script>\n",
       "    MathJax.Hub.Config({\n",
       "                        TeX: {\n",
       "                           extensions: [\"AMSmath.js\"],\n",
       "                           equationNumbers: { autoNumber: \"AMS\", useLabelIds: true}\n",
       "                           },\n",
       "                tex2jax: {\n",
       "                    inlineMath: [ ['$','$'], [\"\\\\(\",\"\\\\)\"] ],\n",
       "                    displayMath: [ ['$$','$$'], [\"\\\\[\",\"\\\\]\"] ]\n",
       "                },\n",
       "                displayAlign: 'center', // Change this to 'center' to center equations.\n",
       "                \"HTML-CSS\": {\n",
       "                    styles: {'.MathJax_Display': {\"margin\": 4}}\n",
       "                }\n",
       "        });\n",
       "</script>\n"
      ]
     },
     "metadata": {},
     "output_type": "display_data"
    }
   ],
   "source": [
    "open(\"../../styles/aipstyle.html\") do f\n",
    "    display(\"text/html\", read(f,String))\n",
    "end"
   ]
  }
 ],
 "metadata": {
  "@webio": {
   "lastCommId": null,
   "lastKernelId": null
  },
  "anaconda-cloud": {},
  "celltoolbar": "Slideshow",
  "kernelspec": {
   "display_name": "Julia 1.8.2",
   "language": "julia",
   "name": "julia-1.8"
  },
  "language_info": {
   "file_extension": ".jl",
   "mimetype": "application/julia",
   "name": "julia",
   "version": "1.8.2"
  }
 },
 "nbformat": 4,
 "nbformat_minor": 4
}
