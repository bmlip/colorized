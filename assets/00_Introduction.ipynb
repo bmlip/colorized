{
 "cells": [
  {
   "cell_type": "markdown",
   "metadata": {
    "slideshow": {
     "slide_type": "slide"
    }
   },
   "source": [
    "# Course Outline and Administrative Issues\n",
    "\n",
    "### Adaptive Information Processing (5SSB0)"
   ]
  },
  {
   "cell_type": "markdown",
   "metadata": {
    "slideshow": {
     "slide_type": "slide"
    }
   },
   "source": [
    "### AIP Logistic Issues\n",
    "\n",
    "- **When**: 3rd quartile, at $8$ weeks of $4$ hours per week.\n",
    "\n",
    "- **Load**: Total workload is 5 ECTS $\\Rightarrow 5\\times 28 \\text{[hrs/ECTS]} = 140$ hours or $140/32 \\approx 4.4$ study hours per lecture.\n",
    "\n",
    "- **Web**: [http://5ssb0.nl](http://biaslab.github.io/teaching/AIP-5SSB0/) (or goto teaching tab at [http://biaslab.org](http://biaslab.org) ) \n",
    "\n",
    "- **Feedback**: The source materials for these lecture notes are at https://github.com/bertdv/AIP-5SSB0 . Please file a github issue  if something is wrong or just unclear in these notes."
   ]
  },
  {
   "cell_type": "markdown",
   "metadata": {
    "slideshow": {
     "slide_type": "slide"
    }
   },
   "source": [
    "### Course comes in Two Parts\n",
    "\n",
    "##### Part I: **Linear Gaussian Models and the EM Algorithm**\n",
    "\n",
    "- $4 \\times 4=16 $ lecture hours, mostly in February\n",
    "- Instructor: [Bert de Vries](http://bertdv.nl), rm. FLUX-7.060 (on Wednesdays)\n",
    "- email <bdevries@gnresound.com> (preferred) or <bert.de.vries@tue.nl>\n",
    "- Code examples in [Julia](http://julialang.org)\n",
    "- Consult the **teaching assistants** [Ismail Senoz](i.senoz@tue.nl) or [Magnus Koudahl](m.t.koudahl@tue.nl) (both in FLUX-7.060) first for help on Julia code examples or exercises."
   ]
  },
  {
   "cell_type": "markdown",
   "metadata": {
    "slideshow": {
     "slide_type": "fragment"
    }
   },
   "source": [
    "##### Part II: **Model Complexity Control and the MDL Principle**\n",
    "\n",
    "- $4 \\times 4=16$ lecture hours, mostly in March\n",
    "- Instructor: Tjalling Tjalkens, rm. FLUX-7.101\n",
    "- email <t.j.tjalkens@tue.nl>"
   ]
  },
  {
   "cell_type": "markdown",
   "metadata": {
    "slideshow": {
     "slide_type": "slide"
    }
   },
   "source": [
    "### Why Take This Class?\n",
    "\n",
    "- Suppose you need to develop an algorithm for a complex DSP task. This is what you'll do:\n",
    "\n",
    "  1. Choose a set of candidate algorithms $y=H_k(x;\\theta)$ where $k \\in \\{1,2,\\ldots,K\\}$ and $\\theta \\in \\Theta_k$; (you think that) there's an algorithm $H_{k^*}(x;\\theta^*)$  that performs according to your liking. \n",
    "  2. You collect a set of examples $D=\\{(x_1,y_1),(x_2,y_2),\\ldots,(x_N,y_N)\\}$ that are consistent with the correct algorithm behavior."
   ]
  },
  {
   "cell_type": "markdown",
   "metadata": {
    "slideshow": {
     "slide_type": "fragment"
    }
   },
   "source": [
    "  \n",
    "- Using the methods from this class, you will be able to design a suitable algorithm through:\n",
    "  1. **model selection**, i.e., find $k^*$ (mostly discussed in part 2 of this class)\n",
    "  2. **parameter estimation**, i.e., find $\\theta^*$ (mostly in part 1 of this class)"
   ]
  },
  {
   "cell_type": "markdown",
   "metadata": {
    "slideshow": {
     "slide_type": "slide"
    }
   },
   "source": [
    "### Materials\n",
    "\n",
    "- Book ([free download link](https://www.microsoft.com/en-us/research/people/cmbishop/#!prml-book)): <img src=\"./figures/Bishop-book-cover.jpg\" width=\"200px\">\n",
    "\n",
    "- Background reading; covers about the same stuff as (mandatory) slides.\n",
    "- Contains much more material; great for future study and reference."
   ]
  },
  {
   "cell_type": "markdown",
   "metadata": {
    "slideshow": {
     "slide_type": "slide"
    }
   },
   "source": [
    "### Exam Guide\n",
    "- Tested material consists of these lecture notes, reading assignments (as assigned in the first cell/slide of each lecture notebook) and exercises (see class website)."
   ]
  },
  {
   "cell_type": "markdown",
   "metadata": {
    "slideshow": {
     "slide_type": "fragment"
    }
   },
   "source": [
    "- Slides that are not required for the exam are indicated by the word <span style=\"color:red\">(OPTIONAL)</span> in the header."
   ]
  },
  {
   "cell_type": "markdown",
   "metadata": {
    "slideshow": {
     "slide_type": "fragment"
    }
   },
   "source": [
    "- Advice: download (and make free use of) Sam Roweis' cheat sheets for [Matrix identities](https://github.com/bertdv/AIP-5SSB0/blob/master/lessons/notebooks/files/RoweisS-matrix_identities.pdf) and [Gaussian formulas](https://github.com/bertdv/AIP-5SSB0/blob/master/lessons/notebooks/files/RoweisS-gaussian_formulas.pdf)."
   ]
  },
  {
   "cell_type": "markdown",
   "metadata": {
    "slideshow": {
     "slide_type": "fragment"
    }
   },
   "source": [
    "- **Very strong advice**:  Make old exams!"
   ]
  },
  {
   "cell_type": "markdown",
   "metadata": {
    "slideshow": {
     "slide_type": "fragment"
    }
   },
   "source": [
    "- <span style=\"color:red\">You are not allowed to use books nor bring printed or handwritten formula sheets to the exam. Difficult-to-remember formulas are supplied at the exam sheet (see old exams). </span>"
   ]
  },
  {
   "cell_type": "markdown",
   "metadata": {
    "slideshow": {
     "slide_type": "fragment"
    }
   },
   "source": [
    "- <span style=\"color:red\">You may use a simple pocket calculator, but no smartphones (only arithmetic assistance is allowed.)</span>"
   ]
  },
  {
   "cell_type": "markdown",
   "metadata": {
    "slideshow": {
     "slide_type": "fragment"
    }
   },
   "source": [
    "- Further exam instructions for part-2 from Tjalling."
   ]
  },
  {
   "cell_type": "code",
   "execution_count": null,
   "metadata": {
    "slideshow": {
     "slide_type": "skip"
    }
   },
   "outputs": [],
   "source": [
    "open(\"../../styles/aipstyle.html\") do f\n",
    "    display(\"text/html\", read(f,String))\n",
    "end"
   ]
  },
  {
   "cell_type": "code",
   "execution_count": null,
   "metadata": {},
   "outputs": [],
   "source": []
  }
 ],
 "metadata": {
  "anaconda-cloud": {},
  "celltoolbar": "Slideshow",
  "kernelspec": {
   "display_name": "Julia 1.1.0",
   "language": "julia",
   "name": "julia-1.1"
  },
  "language_info": {
   "file_extension": ".jl",
   "mimetype": "application/julia",
   "name": "julia",
   "version": "1.1.0"
  }
 },
 "nbformat": 4,
 "nbformat_minor": 1
}
