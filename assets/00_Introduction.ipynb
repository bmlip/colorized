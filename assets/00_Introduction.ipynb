{
 "cells": [
  {
   "cell_type": "markdown",
   "metadata": {
    "slideshow": {
     "slide_type": "slide"
    }
   },
   "source": [
    "# Course Outline and Administrative Issues\n",
    "\n",
    "### Adaptive Information Processing (5SSB0)"
   ]
  },
  {
   "cell_type": "markdown",
   "metadata": {
    "slideshow": {
     "slide_type": "slide"
    }
   },
   "source": [
    "### AIP Logistic Issues\n",
    "\n",
    "- **When**: 3rd quartile, at $8$ weeks of $4$ hours per week.\n",
    "\n",
    "- **Load**: Total workload is 5 ECTS $\\Rightarrow 5\\times 28 \\text{[hrs/ECTS]} = 140$ hours or $140/32 \\approx 4.4$ study hours per lecture.\n",
    "\n",
    "- **Web**: [http://bertdv.github.io/teaching/AIP-5SSB0/](http://bertdv.github.io/teaching/AIP-5SSB0/) (or goto teaching tab at [http://bertdv.nl](http://bertdv.nl) ) \n",
    "\n",
    "- **Feedback**: The source materials for these lecture notes are at https://github.com/bertdv/AIP-5SSB0 . Please file a github issue  if something is wrong or just unclear in these notes."
   ]
  },
  {
   "cell_type": "markdown",
   "metadata": {
    "slideshow": {
     "slide_type": "slide"
    }
   },
   "source": [
    "### Course comes in Two Parts\n",
    "\n",
    "##### Part I: **Linear Gaussian Models and the EM Algorithm**\n",
    "\n",
    "- $4 \\times 4=16 $ lecture hours, mostly in February\n",
    "- Instructor: [Bert de Vries](http://bertdv.nl), rm. FLUX-7.060 (on Wednesdays)\n",
    "- email <bdevries@gnresound.com>\n",
    "- Code examples in [Julia](http://julialang.org)\n",
    "  - Consult the **teaching assistant** Marco Cox (FLUX-7.060; email <mail@marcocox.com>) for help on Julia.\n",
    "\n",
    "##### Part II: **Model Complexity Control and the MDL Principle**\n",
    "\n",
    "- $4 \\times 4=16$ lecture hours, mostly in March\n",
    "- Instructor: Tjalling Tjalkens, rm. FLUX-7.101\n",
    "- email <t.j.tjalkens@tue.nl>"
   ]
  },
  {
   "cell_type": "markdown",
   "metadata": {
    "slideshow": {
     "slide_type": "slide"
    }
   },
   "source": [
    "### Why Take This Class?\n",
    "\n",
    "- Suppose you need to develop an algorithm for a complex DSP task. This is what you'll do:\n",
    "\n",
    "  1. Choose a set of candidate algorithms $y=H_k(x;\\theta)$ where $k \\in \\{1,2,\\ldots,K\\}$ and $\\theta \\in \\Theta_k$; (you think that) there's an algorithm $H_{k^*}(x;\\theta^*)$  that performs according to your liking. \n",
    "\n",
    "  \n",
    "  2. You collect a set of examples $D=\\{(x_1,y_1),(x_2,y_2),\\ldots,(x_N,y_N)\\}$ that are consistent with the correct algorithm behavior.\n",
    "\n",
    "  \n",
    "- Using the methods from this class, you will be able to design a suitable algorithm through:\n",
    "  1. **model selection**, i.e., find $k^*$ (mostly discussed in part 2 of this class)\n",
    "  2. **parameter estimation**, i.e., find $\\theta^*$ (mostly in part 1 of this class)"
   ]
  },
  {
   "cell_type": "markdown",
   "metadata": {
    "slideshow": {
     "slide_type": "slide"
    }
   },
   "source": [
    "### Materials\n",
    "\n",
    "- Book ([bol.com link](https://www.bol.com/nl/p/pattern-recognition-and-machine-learning/1001004002773122)): <img src=\"./figures/Bishop-book-cover.jpg\" width=\"200px\">\n",
    "\n",
    "\n",
    "- Background reading; covers about the same stuff as (mandatory) slides.\n",
    "- Contains much more material; great for future study and reference."
   ]
  },
  {
   "cell_type": "markdown",
   "metadata": {
    "slideshow": {
     "slide_type": "slide"
    }
   },
   "source": [
    "### Exam Guide\n",
    "- Tested material consists of these lecture notes, reading assignments (as assigned in the first cell/slide of each lecture notebook) and exercises (see class website).\n",
    "- Slides that are not required for the exam are indicated by the word <span style=\"color:red\">(OPTIONAL)</span> in the header.\n",
    "- Advice: download (and make free use of) Sam Roweis' cheat sheets for [Matrix identities](https://github.com/bertdv/AIP-5SSB0/blob/master/lessons/files/RoweisS-matrix_identities.pdf) and [Gaussian formulas](https://github.com/bertdv/AIP-5SSB0/blob/master/lessons/files/RoweisS-gaussian_formulas.pdf).\n",
    "- **Very strong advice**:  Make old exams!\n",
    "- <span style=\"color:red\">You are not allowed to use books nor bring printed or handwritten formula sheets to the exam. Difficult-to-remember formulas are supplied at the exam sheet (see old exams). </span>\n",
    "- <span style=\"color:red\">You may use a simple pocket calculator, but no smartphones (only arithmetic assistance is allowed.)</span>\n",
    "- Further exam instructions for part-2 from Tjalling.\n"
   ]
  },
  {
   "cell_type": "code",
   "execution_count": null,
   "metadata": {
    "slideshow": {
     "slide_type": "skip"
    }
   },
   "outputs": [],
   "source": [
    "open(\"../../styles/aipstyle.html\") do f\n",
    "    display(\"text/html\", readstring(f))\n",
    "end"
   ]
  }
 ],
 "metadata": {
  "anaconda-cloud": {},
  "celltoolbar": "Slideshow",
  "kernelspec": {
   "display_name": "Julia 0.6.1",
   "language": "julia",
   "name": "julia-0.6"
  },
  "language_info": {
   "file_extension": ".jl",
   "mimetype": "application/julia",
   "name": "julia",
   "version": "0.6.1"
  }
 },
 "nbformat": 4,
 "nbformat_minor": 1
}
