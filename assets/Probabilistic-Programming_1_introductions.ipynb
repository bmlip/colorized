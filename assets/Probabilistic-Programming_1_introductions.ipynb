{
 "cells": [
  {
   "cell_type": "markdown",
   "metadata": {
    "slideshow": {
     "slide_type": "slide"
    }
   },
   "source": [
    "# Probabilistic Programming - 1"
   ]
  },
  {
   "cell_type": "markdown",
   "metadata": {
    "slideshow": {
     "slide_type": "slide"
    }
   },
   "source": [
    "### Preliminaries\n",
    "\n",
    "- Goal \n",
    "  - Learn to write basic probabilistic programs  \n",
    "- Materials        \n",
    "  - Mandatory\n",
    "    - These lecture notes.\n",
    "    - Intro to programming in Julia (https://youtu.be/8h8rQyEpiZA?t=233).\n",
    "  - Optional\n",
    "    - Cheatsheets: how does Julia differ from Matlab / Python (https://docs.julialang.org/en/v1/manual/noteworthy-differences/index.html).\n",
    "    - Getting started with ForneyLab (https://biaslab.github.io/forneylab/docs/getting-started/).\n",
    "    - Tutorials using Turing.jl (https://turing.ml/dev/tutorials/0-introduction/)"
   ]
  },
  {
   "cell_type": "markdown",
   "metadata": {},
   "source": [
    "So far you've been doing all your calculations by hand. As you have probably learned, this is timeconsuming and error prone. In this lesson we are going to introduce Probabilistic Programming as a method to automate this labour away. We will cover 2 packages - ForneyLab and Turing - and show you how to specify probabilistic models in both. Afterwards, you'll get your first taste of Probabilistic Programming by solving your first problem! The main takehome point is that while Probabilistic Programming requires some specialised mindware in terms of probability theory and correct model specification, implementation is easy once you have the right tools."
   ]
  },
  {
   "cell_type": "markdown",
   "metadata": {},
   "source": [
    "# Introduction to ForneyLab"
   ]
  },
  {
   "cell_type": "markdown",
   "metadata": {},
   "source": [
    "ForneyLab (link) is a Probabilistic Programming toolbox developed inhouse at BIASLab. ForneyLab utilises the FFG formalism that you are familiar with by now to describe models. Inference is performed through variational procedures or, if applicable, exact inference. This is the core feature of ForneyLab: A large library of analytical update rules similar to what you have derived so far. This provides fast, deterministic inference with convergence guarantees, provided you give it the right generative model.\n",
    "Things to keep in mind when using ForneyLab:\n",
    "1. It is optimised for Dynamical Systems and time series data. It'll be extra fast in these circumstances\n",
    "2. Relies on deterministic update rules - you will get the same result each time\n",
    "3. If you find a bug, please tell us :) \n",
    "\n",
    "Now, let's work through an example using ForneyLab"
   ]
  },
  {
   "cell_type": "code",
   "execution_count": 1,
   "metadata": {},
   "outputs": [
    {
     "data": {
      "image/svg+xml": [
       "<?xml version=\"1.0\" encoding=\"utf-8\"?>\n",
       "<svg xmlns=\"http://www.w3.org/2000/svg\" xmlns:xlink=\"http://www.w3.org/1999/xlink\" width=\"600\" height=\"400\" viewBox=\"0 0 2400 1600\">\n",
       "<defs>\n",
       "  <clipPath id=\"clip1500\">\n",
       "    <rect x=\"0\" y=\"0\" width=\"2400\" height=\"1600\"/>\n",
       "  </clipPath>\n",
       "</defs>\n",
       "<path clip-path=\"url(#clip1500)\" d=\"\n",
       "M0 1600 L2400 1600 L2400 0 L0 0  Z\n",
       "  \" fill=\"#ffffff\" fill-rule=\"evenodd\" fill-opacity=\"1\"/>\n",
       "<defs>\n",
       "  <clipPath id=\"clip1501\">\n",
       "    <rect x=\"480\" y=\"0\" width=\"1681\" height=\"1600\"/>\n",
       "  </clipPath>\n",
       "</defs>\n",
       "<path clip-path=\"url(#clip1500)\" d=\"\n",
       "M113.754 1487.47 L2352.76 1487.47 L2352.76 47.2441 L113.754 47.2441  Z\n",
       "  \" fill=\"#ffffff\" fill-rule=\"evenodd\" fill-opacity=\"1\"/>\n",
       "<defs>\n",
       "  <clipPath id=\"clip1502\">\n",
       "    <rect x=\"113\" y=\"47\" width=\"2240\" height=\"1441\"/>\n",
       "  </clipPath>\n",
       "</defs>\n",
       "<polyline clip-path=\"url(#clip1502)\" style=\"stroke:#000000; stroke-width:2; stroke-opacity:0.1; fill:none\" points=\"\n",
       "  116.772,1487.47 116.772,47.2441 \n",
       "  \"/>\n",
       "<polyline clip-path=\"url(#clip1502)\" style=\"stroke:#000000; stroke-width:2; stroke-opacity:0.1; fill:none\" points=\"\n",
       "  720.276,1487.47 720.276,47.2441 \n",
       "  \"/>\n",
       "<polyline clip-path=\"url(#clip1502)\" style=\"stroke:#000000; stroke-width:2; stroke-opacity:0.1; fill:none\" points=\"\n",
       "  1323.78,1487.47 1323.78,47.2441 \n",
       "  \"/>\n",
       "<polyline clip-path=\"url(#clip1502)\" style=\"stroke:#000000; stroke-width:2; stroke-opacity:0.1; fill:none\" points=\"\n",
       "  1927.29,1487.47 1927.29,47.2441 \n",
       "  \"/>\n",
       "<polyline clip-path=\"url(#clip1502)\" style=\"stroke:#000000; stroke-width:2; stroke-opacity:0.1; fill:none\" points=\"\n",
       "  113.754,1429.04 2352.76,1429.04 \n",
       "  \"/>\n",
       "<polyline clip-path=\"url(#clip1502)\" style=\"stroke:#000000; stroke-width:2; stroke-opacity:0.1; fill:none\" points=\"\n",
       "  113.754,1147.7 2352.76,1147.7 \n",
       "  \"/>\n",
       "<polyline clip-path=\"url(#clip1502)\" style=\"stroke:#000000; stroke-width:2; stroke-opacity:0.1; fill:none\" points=\"\n",
       "  113.754,866.367 2352.76,866.367 \n",
       "  \"/>\n",
       "<polyline clip-path=\"url(#clip1502)\" style=\"stroke:#000000; stroke-width:2; stroke-opacity:0.1; fill:none\" points=\"\n",
       "  113.754,585.029 2352.76,585.029 \n",
       "  \"/>\n",
       "<polyline clip-path=\"url(#clip1502)\" style=\"stroke:#000000; stroke-width:2; stroke-opacity:0.1; fill:none\" points=\"\n",
       "  113.754,303.691 2352.76,303.691 \n",
       "  \"/>\n",
       "<polyline clip-path=\"url(#clip1500)\" style=\"stroke:#000000; stroke-width:4; stroke-opacity:1; fill:none\" points=\"\n",
       "  113.754,1487.47 2352.76,1487.47 \n",
       "  \"/>\n",
       "<polyline clip-path=\"url(#clip1500)\" style=\"stroke:#000000; stroke-width:4; stroke-opacity:1; fill:none\" points=\"\n",
       "  113.754,1487.47 113.754,47.2441 \n",
       "  \"/>\n",
       "<polyline clip-path=\"url(#clip1500)\" style=\"stroke:#000000; stroke-width:4; stroke-opacity:1; fill:none\" points=\"\n",
       "  116.772,1487.47 116.772,1465.87 \n",
       "  \"/>\n",
       "<polyline clip-path=\"url(#clip1500)\" style=\"stroke:#000000; stroke-width:4; stroke-opacity:1; fill:none\" points=\"\n",
       "  720.276,1487.47 720.276,1465.87 \n",
       "  \"/>\n",
       "<polyline clip-path=\"url(#clip1500)\" style=\"stroke:#000000; stroke-width:4; stroke-opacity:1; fill:none\" points=\"\n",
       "  1323.78,1487.47 1323.78,1465.87 \n",
       "  \"/>\n",
       "<polyline clip-path=\"url(#clip1500)\" style=\"stroke:#000000; stroke-width:4; stroke-opacity:1; fill:none\" points=\"\n",
       "  1927.29,1487.47 1927.29,1465.87 \n",
       "  \"/>\n",
       "<polyline clip-path=\"url(#clip1500)\" style=\"stroke:#000000; stroke-width:4; stroke-opacity:1; fill:none\" points=\"\n",
       "  113.754,1429.04 147.339,1429.04 \n",
       "  \"/>\n",
       "<polyline clip-path=\"url(#clip1500)\" style=\"stroke:#000000; stroke-width:4; stroke-opacity:1; fill:none\" points=\"\n",
       "  113.754,1147.7 147.339,1147.7 \n",
       "  \"/>\n",
       "<polyline clip-path=\"url(#clip1500)\" style=\"stroke:#000000; stroke-width:4; stroke-opacity:1; fill:none\" points=\"\n",
       "  113.754,866.367 147.339,866.367 \n",
       "  \"/>\n",
       "<polyline clip-path=\"url(#clip1500)\" style=\"stroke:#000000; stroke-width:4; stroke-opacity:1; fill:none\" points=\"\n",
       "  113.754,585.029 147.339,585.029 \n",
       "  \"/>\n",
       "<polyline clip-path=\"url(#clip1500)\" style=\"stroke:#000000; stroke-width:4; stroke-opacity:1; fill:none\" points=\"\n",
       "  113.754,303.691 147.339,303.691 \n",
       "  \"/>\n",
       "<g clip-path=\"url(#clip1500)\">\n",
       "<text style=\"fill:#000000; fill-opacity:1; font-family:Arial,Helvetica Neue,Helvetica,sans-serif; font-size:48px; text-anchor:middle;\" transform=\"rotate(0, 116.772, 1541.47)\" x=\"116.772\" y=\"1541.47\">0</text>\n",
       "</g>\n",
       "<g clip-path=\"url(#clip1500)\">\n",
       "<text style=\"fill:#000000; fill-opacity:1; font-family:Arial,Helvetica Neue,Helvetica,sans-serif; font-size:48px; text-anchor:middle;\" transform=\"rotate(0, 720.276, 1541.47)\" x=\"720.276\" y=\"1541.47\">10</text>\n",
       "</g>\n",
       "<g clip-path=\"url(#clip1500)\">\n",
       "<text style=\"fill:#000000; fill-opacity:1; font-family:Arial,Helvetica Neue,Helvetica,sans-serif; font-size:48px; text-anchor:middle;\" transform=\"rotate(0, 1323.78, 1541.47)\" x=\"1323.78\" y=\"1541.47\">20</text>\n",
       "</g>\n",
       "<g clip-path=\"url(#clip1500)\">\n",
       "<text style=\"fill:#000000; fill-opacity:1; font-family:Arial,Helvetica Neue,Helvetica,sans-serif; font-size:48px; text-anchor:middle;\" transform=\"rotate(0, 1927.29, 1541.47)\" x=\"1927.29\" y=\"1541.47\">30</text>\n",
       "</g>\n",
       "<g clip-path=\"url(#clip1500)\">\n",
       "<text style=\"fill:#000000; fill-opacity:1; font-family:Arial,Helvetica Neue,Helvetica,sans-serif; font-size:48px; text-anchor:end;\" transform=\"rotate(0, 89.7545, 1446.54)\" x=\"89.7545\" y=\"1446.54\">0</text>\n",
       "</g>\n",
       "<g clip-path=\"url(#clip1500)\">\n",
       "<text style=\"fill:#000000; fill-opacity:1; font-family:Arial,Helvetica Neue,Helvetica,sans-serif; font-size:48px; text-anchor:end;\" transform=\"rotate(0, 89.7545, 1165.2)\" x=\"89.7545\" y=\"1165.2\">2</text>\n",
       "</g>\n",
       "<g clip-path=\"url(#clip1500)\">\n",
       "<text style=\"fill:#000000; fill-opacity:1; font-family:Arial,Helvetica Neue,Helvetica,sans-serif; font-size:48px; text-anchor:end;\" transform=\"rotate(0, 89.7545, 883.867)\" x=\"89.7545\" y=\"883.867\">4</text>\n",
       "</g>\n",
       "<g clip-path=\"url(#clip1500)\">\n",
       "<text style=\"fill:#000000; fill-opacity:1; font-family:Arial,Helvetica Neue,Helvetica,sans-serif; font-size:48px; text-anchor:end;\" transform=\"rotate(0, 89.7545, 602.529)\" x=\"89.7545\" y=\"602.529\">6</text>\n",
       "</g>\n",
       "<g clip-path=\"url(#clip1500)\">\n",
       "<text style=\"fill:#000000; fill-opacity:1; font-family:Arial,Helvetica Neue,Helvetica,sans-serif; font-size:48px; text-anchor:end;\" transform=\"rotate(0, 89.7545, 321.191)\" x=\"89.7545\" y=\"321.191\">8</text>\n",
       "</g>\n",
       "<circle clip-path=\"url(#clip1502)\" style=\"fill:#000000; stroke:none; fill-opacity:1\" cx=\"177.122\" cy=\"1419.9\" r=\"18\"/>\n",
       "<circle clip-path=\"url(#clip1502)\" style=\"fill:#009af9; stroke:none; fill-opacity:1\" cx=\"177.122\" cy=\"1419.9\" r=\"14\"/>\n",
       "<circle clip-path=\"url(#clip1502)\" style=\"fill:#000000; stroke:none; fill-opacity:1\" cx=\"237.473\" cy=\"1446.71\" r=\"18\"/>\n",
       "<circle clip-path=\"url(#clip1502)\" style=\"fill:#009af9; stroke:none; fill-opacity:1\" cx=\"237.473\" cy=\"1446.71\" r=\"14\"/>\n",
       "<circle clip-path=\"url(#clip1502)\" style=\"fill:#000000; stroke:none; fill-opacity:1\" cx=\"297.823\" cy=\"1192.57\" r=\"18\"/>\n",
       "<circle clip-path=\"url(#clip1502)\" style=\"fill:#009af9; stroke:none; fill-opacity:1\" cx=\"297.823\" cy=\"1192.57\" r=\"14\"/>\n",
       "<circle clip-path=\"url(#clip1502)\" style=\"fill:#000000; stroke:none; fill-opacity:1\" cx=\"358.174\" cy=\"1230.92\" r=\"18\"/>\n",
       "<circle clip-path=\"url(#clip1502)\" style=\"fill:#009af9; stroke:none; fill-opacity:1\" cx=\"358.174\" cy=\"1230.92\" r=\"14\"/>\n",
       "<circle clip-path=\"url(#clip1502)\" style=\"fill:#000000; stroke:none; fill-opacity:1\" cx=\"418.524\" cy=\"784.975\" r=\"18\"/>\n",
       "<circle clip-path=\"url(#clip1502)\" style=\"fill:#009af9; stroke:none; fill-opacity:1\" cx=\"418.524\" cy=\"784.975\" r=\"14\"/>\n",
       "<circle clip-path=\"url(#clip1502)\" style=\"fill:#000000; stroke:none; fill-opacity:1\" cx=\"478.875\" cy=\"832.792\" r=\"18\"/>\n",
       "<circle clip-path=\"url(#clip1502)\" style=\"fill:#009af9; stroke:none; fill-opacity:1\" cx=\"478.875\" cy=\"832.792\" r=\"14\"/>\n",
       "<circle clip-path=\"url(#clip1502)\" style=\"fill:#000000; stroke:none; fill-opacity:1\" cx=\"539.225\" cy=\"949.876\" r=\"18\"/>\n",
       "<circle clip-path=\"url(#clip1502)\" style=\"fill:#009af9; stroke:none; fill-opacity:1\" cx=\"539.225\" cy=\"949.876\" r=\"14\"/>\n",
       "<circle clip-path=\"url(#clip1502)\" style=\"fill:#000000; stroke:none; fill-opacity:1\" cx=\"599.576\" cy=\"1161.84\" r=\"18\"/>\n",
       "<circle clip-path=\"url(#clip1502)\" style=\"fill:#009af9; stroke:none; fill-opacity:1\" cx=\"599.576\" cy=\"1161.84\" r=\"14\"/>\n",
       "<circle clip-path=\"url(#clip1502)\" style=\"fill:#000000; stroke:none; fill-opacity:1\" cx=\"659.926\" cy=\"1211.53\" r=\"18\"/>\n",
       "<circle clip-path=\"url(#clip1502)\" style=\"fill:#009af9; stroke:none; fill-opacity:1\" cx=\"659.926\" cy=\"1211.53\" r=\"14\"/>\n",
       "<circle clip-path=\"url(#clip1502)\" style=\"fill:#000000; stroke:none; fill-opacity:1\" cx=\"720.276\" cy=\"1279.04\" r=\"18\"/>\n",
       "<circle clip-path=\"url(#clip1502)\" style=\"fill:#009af9; stroke:none; fill-opacity:1\" cx=\"720.276\" cy=\"1279.04\" r=\"14\"/>\n",
       "<circle clip-path=\"url(#clip1502)\" style=\"fill:#000000; stroke:none; fill-opacity:1\" cx=\"780.627\" cy=\"1134.41\" r=\"18\"/>\n",
       "<circle clip-path=\"url(#clip1502)\" style=\"fill:#009af9; stroke:none; fill-opacity:1\" cx=\"780.627\" cy=\"1134.41\" r=\"14\"/>\n",
       "<circle clip-path=\"url(#clip1502)\" style=\"fill:#000000; stroke:none; fill-opacity:1\" cx=\"840.977\" cy=\"1176.74\" r=\"18\"/>\n",
       "<circle clip-path=\"url(#clip1502)\" style=\"fill:#009af9; stroke:none; fill-opacity:1\" cx=\"840.977\" cy=\"1176.74\" r=\"14\"/>\n",
       "<circle clip-path=\"url(#clip1502)\" style=\"fill:#000000; stroke:none; fill-opacity:1\" cx=\"901.328\" cy=\"941.58\" r=\"18\"/>\n",
       "<circle clip-path=\"url(#clip1502)\" style=\"fill:#009af9; stroke:none; fill-opacity:1\" cx=\"901.328\" cy=\"941.58\" r=\"14\"/>\n",
       "<circle clip-path=\"url(#clip1502)\" style=\"fill:#000000; stroke:none; fill-opacity:1\" cx=\"961.678\" cy=\"1101.89\" r=\"18\"/>\n",
       "<circle clip-path=\"url(#clip1502)\" style=\"fill:#009af9; stroke:none; fill-opacity:1\" cx=\"961.678\" cy=\"1101.89\" r=\"14\"/>\n",
       "<circle clip-path=\"url(#clip1502)\" style=\"fill:#000000; stroke:none; fill-opacity:1\" cx=\"1022.03\" cy=\"932.685\" r=\"18\"/>\n",
       "<circle clip-path=\"url(#clip1502)\" style=\"fill:#009af9; stroke:none; fill-opacity:1\" cx=\"1022.03\" cy=\"932.685\" r=\"14\"/>\n",
       "<circle clip-path=\"url(#clip1502)\" style=\"fill:#000000; stroke:none; fill-opacity:1\" cx=\"1082.38\" cy=\"1179.22\" r=\"18\"/>\n",
       "<circle clip-path=\"url(#clip1502)\" style=\"fill:#009af9; stroke:none; fill-opacity:1\" cx=\"1082.38\" cy=\"1179.22\" r=\"14\"/>\n",
       "<circle clip-path=\"url(#clip1502)\" style=\"fill:#000000; stroke:none; fill-opacity:1\" cx=\"1142.73\" cy=\"869.049\" r=\"18\"/>\n",
       "<circle clip-path=\"url(#clip1502)\" style=\"fill:#009af9; stroke:none; fill-opacity:1\" cx=\"1142.73\" cy=\"869.049\" r=\"14\"/>\n",
       "<circle clip-path=\"url(#clip1502)\" style=\"fill:#000000; stroke:none; fill-opacity:1\" cx=\"1203.08\" cy=\"764.389\" r=\"18\"/>\n",
       "<circle clip-path=\"url(#clip1502)\" style=\"fill:#009af9; stroke:none; fill-opacity:1\" cx=\"1203.08\" cy=\"764.389\" r=\"14\"/>\n",
       "<circle clip-path=\"url(#clip1502)\" style=\"fill:#000000; stroke:none; fill-opacity:1\" cx=\"1263.43\" cy=\"956.55\" r=\"18\"/>\n",
       "<circle clip-path=\"url(#clip1502)\" style=\"fill:#009af9; stroke:none; fill-opacity:1\" cx=\"1263.43\" cy=\"956.55\" r=\"14\"/>\n",
       "<circle clip-path=\"url(#clip1502)\" style=\"fill:#000000; stroke:none; fill-opacity:1\" cx=\"1323.78\" cy=\"1051.18\" r=\"18\"/>\n",
       "<circle clip-path=\"url(#clip1502)\" style=\"fill:#009af9; stroke:none; fill-opacity:1\" cx=\"1323.78\" cy=\"1051.18\" r=\"14\"/>\n",
       "<circle clip-path=\"url(#clip1502)\" style=\"fill:#000000; stroke:none; fill-opacity:1\" cx=\"1384.13\" cy=\"929.79\" r=\"18\"/>\n",
       "<circle clip-path=\"url(#clip1502)\" style=\"fill:#009af9; stroke:none; fill-opacity:1\" cx=\"1384.13\" cy=\"929.79\" r=\"14\"/>\n",
       "<circle clip-path=\"url(#clip1502)\" style=\"fill:#000000; stroke:none; fill-opacity:1\" cx=\"1444.48\" cy=\"769.168\" r=\"18\"/>\n",
       "<circle clip-path=\"url(#clip1502)\" style=\"fill:#009af9; stroke:none; fill-opacity:1\" cx=\"1444.48\" cy=\"769.168\" r=\"14\"/>\n",
       "<circle clip-path=\"url(#clip1502)\" style=\"fill:#000000; stroke:none; fill-opacity:1\" cx=\"1504.83\" cy=\"858.314\" r=\"18\"/>\n",
       "<circle clip-path=\"url(#clip1502)\" style=\"fill:#009af9; stroke:none; fill-opacity:1\" cx=\"1504.83\" cy=\"858.314\" r=\"14\"/>\n",
       "<circle clip-path=\"url(#clip1502)\" style=\"fill:#000000; stroke:none; fill-opacity:1\" cx=\"1565.18\" cy=\"751.276\" r=\"18\"/>\n",
       "<circle clip-path=\"url(#clip1502)\" style=\"fill:#009af9; stroke:none; fill-opacity:1\" cx=\"1565.18\" cy=\"751.276\" r=\"14\"/>\n",
       "<circle clip-path=\"url(#clip1502)\" style=\"fill:#000000; stroke:none; fill-opacity:1\" cx=\"1625.53\" cy=\"861.195\" r=\"18\"/>\n",
       "<circle clip-path=\"url(#clip1502)\" style=\"fill:#009af9; stroke:none; fill-opacity:1\" cx=\"1625.53\" cy=\"861.195\" r=\"14\"/>\n",
       "<circle clip-path=\"url(#clip1502)\" style=\"fill:#000000; stroke:none; fill-opacity:1\" cx=\"1685.88\" cy=\"615.365\" r=\"18\"/>\n",
       "<circle clip-path=\"url(#clip1502)\" style=\"fill:#009af9; stroke:none; fill-opacity:1\" cx=\"1685.88\" cy=\"615.365\" r=\"14\"/>\n",
       "<circle clip-path=\"url(#clip1502)\" style=\"fill:#000000; stroke:none; fill-opacity:1\" cx=\"1746.23\" cy=\"745.383\" r=\"18\"/>\n",
       "<circle clip-path=\"url(#clip1502)\" style=\"fill:#009af9; stroke:none; fill-opacity:1\" cx=\"1746.23\" cy=\"745.383\" r=\"14\"/>\n",
       "<circle clip-path=\"url(#clip1502)\" style=\"fill:#000000; stroke:none; fill-opacity:1\" cx=\"1806.58\" cy=\"897.165\" r=\"18\"/>\n",
       "<circle clip-path=\"url(#clip1502)\" style=\"fill:#009af9; stroke:none; fill-opacity:1\" cx=\"1806.58\" cy=\"897.165\" r=\"14\"/>\n",
       "<circle clip-path=\"url(#clip1502)\" style=\"fill:#000000; stroke:none; fill-opacity:1\" cx=\"1866.93\" cy=\"738.412\" r=\"18\"/>\n",
       "<circle clip-path=\"url(#clip1502)\" style=\"fill:#009af9; stroke:none; fill-opacity:1\" cx=\"1866.93\" cy=\"738.412\" r=\"14\"/>\n",
       "<circle clip-path=\"url(#clip1502)\" style=\"fill:#000000; stroke:none; fill-opacity:1\" cx=\"1927.29\" cy=\"934.004\" r=\"18\"/>\n",
       "<circle clip-path=\"url(#clip1502)\" style=\"fill:#009af9; stroke:none; fill-opacity:1\" cx=\"1927.29\" cy=\"934.004\" r=\"14\"/>\n",
       "<circle clip-path=\"url(#clip1502)\" style=\"fill:#000000; stroke:none; fill-opacity:1\" cx=\"1987.64\" cy=\"939.163\" r=\"18\"/>\n",
       "<circle clip-path=\"url(#clip1502)\" style=\"fill:#009af9; stroke:none; fill-opacity:1\" cx=\"1987.64\" cy=\"939.163\" r=\"14\"/>\n",
       "<circle clip-path=\"url(#clip1502)\" style=\"fill:#000000; stroke:none; fill-opacity:1\" cx=\"2047.99\" cy=\"561.175\" r=\"18\"/>\n",
       "<circle clip-path=\"url(#clip1502)\" style=\"fill:#009af9; stroke:none; fill-opacity:1\" cx=\"2047.99\" cy=\"561.175\" r=\"14\"/>\n",
       "<circle clip-path=\"url(#clip1502)\" style=\"fill:#000000; stroke:none; fill-opacity:1\" cx=\"2108.34\" cy=\"472.568\" r=\"18\"/>\n",
       "<circle clip-path=\"url(#clip1502)\" style=\"fill:#009af9; stroke:none; fill-opacity:1\" cx=\"2108.34\" cy=\"472.568\" r=\"14\"/>\n",
       "<circle clip-path=\"url(#clip1502)\" style=\"fill:#000000; stroke:none; fill-opacity:1\" cx=\"2168.69\" cy=\"364.956\" r=\"18\"/>\n",
       "<circle clip-path=\"url(#clip1502)\" style=\"fill:#009af9; stroke:none; fill-opacity:1\" cx=\"2168.69\" cy=\"364.956\" r=\"14\"/>\n",
       "<circle clip-path=\"url(#clip1502)\" style=\"fill:#000000; stroke:none; fill-opacity:1\" cx=\"2229.04\" cy=\"547.351\" r=\"18\"/>\n",
       "<circle clip-path=\"url(#clip1502)\" style=\"fill:#009af9; stroke:none; fill-opacity:1\" cx=\"2229.04\" cy=\"547.351\" r=\"14\"/>\n",
       "<circle clip-path=\"url(#clip1502)\" style=\"fill:#000000; stroke:none; fill-opacity:1\" cx=\"2289.39\" cy=\"825.76\" r=\"18\"/>\n",
       "<circle clip-path=\"url(#clip1502)\" style=\"fill:#009af9; stroke:none; fill-opacity:1\" cx=\"2289.39\" cy=\"825.76\" r=\"14\"/>\n",
       "<path clip-path=\"url(#clip1500)\" d=\"\n",
       "M185.754 251.724 L527.413 251.724 L527.413 130.764 L185.754 130.764  Z\n",
       "  \" fill=\"#ffffff\" fill-rule=\"evenodd\" fill-opacity=\"1\"/>\n",
       "<polyline clip-path=\"url(#clip1500)\" style=\"stroke:#000000; stroke-width:4; stroke-opacity:1; fill:none\" points=\"\n",
       "  185.754,251.724 527.413,251.724 527.413,130.764 185.754,130.764 185.754,251.724 \n",
       "  \"/>\n",
       "<circle clip-path=\"url(#clip1500)\" style=\"fill:#000000; stroke:none; fill-opacity:1\" cx=\"293.754\" cy=\"191.244\" r=\"25\"/>\n",
       "<circle clip-path=\"url(#clip1500)\" style=\"fill:#009af9; stroke:none; fill-opacity:1\" cx=\"293.754\" cy=\"191.244\" r=\"21\"/>\n",
       "<g clip-path=\"url(#clip1500)\">\n",
       "<text style=\"fill:#000000; fill-opacity:1; font-family:Arial,Helvetica Neue,Helvetica,sans-serif; font-size:48px; text-anchor:start;\" transform=\"rotate(0, 377.754, 208.744)\" x=\"377.754\" y=\"208.744\">Data</text>\n",
       "</g>\n",
       "</svg>\n"
      ]
     },
     "execution_count": 1,
     "metadata": {},
     "output_type": "execute_result"
    }
   ],
   "source": [
    "# Let's start by generating some data\n",
    "using Plots\n",
    "true_W = [1.0,0.5]\n",
    "true_σ = 1.\n",
    "sqrt_n = 6.\n",
    "n=Int32(sqrt_n^2)\n",
    "\n",
    "\n",
    "function generate_data(true_W,true_σ,sqrt_n)\n",
    "    x_data = [[Float64(x1),Float64(x2)] for x1 in 0:sqrt_n for x2 in 0:sqrt_n]\n",
    "    y_data = [true_W' * x + randn() * true_σ for x in x_data]\n",
    "    return x_data,y_data\n",
    "end\n",
    "    \n",
    "x_data,y_data = generate_data(true_W,true_σ,sqrt_n)\n",
    "scatter(1:n,y_data,label=\"Data\",legend=:topleft)"
   ]
  },
  {
   "cell_type": "markdown",
   "metadata": {},
   "source": [
    "To model our data, we define a model using ForneyLab. We will try a linear regression of the form\n",
    "INSERT LATEX EQUATION\n",
    "The first thing we need to do is to import ForneyLab and instantiate a Factor Graph."
   ]
  },
  {
   "cell_type": "code",
   "execution_count": 2,
   "metadata": {},
   "outputs": [],
   "source": [
    "using ForneyLab\n",
    "g = FactorGraph();"
   ]
  },
  {
   "cell_type": "markdown",
   "metadata": {},
   "source": [
    "Now that we have a FactorGraph, we can start adding variables to it. This is the point where we specify our probabilistic model. When doing Probabilistic Programming, the core challenge is good model specification. To keep it simple, let's start by defining a model for a single x/y pair.\n"
   ]
  },
  {
   "cell_type": "code",
   "execution_count": 3,
   "metadata": {},
   "outputs": [
    {
     "data": {
      "text/html": [
       "<?xml version=\"1.0\" encoding=\"UTF-8\" standalone=\"no\"?>\n",
       "<!DOCTYPE svg PUBLIC \"-//W3C//DTD SVG 1.1//EN\"\n",
       " \"http://www.w3.org/Graphics/SVG/1.1/DTD/svg11.dtd\">\n",
       "<!-- Generated by graphviz version 2.38.0 (20140413.2041)\n",
       " -->\n",
       "<!-- Title: G Pages: 1 -->\n",
       "<svg width=\"395pt\" height=\"512pt\"\n",
       " viewBox=\"0.00 0.00 395.06 512.00\" xmlns=\"http://www.w3.org/2000/svg\" xmlns:xlink=\"http://www.w3.org/1999/xlink\">\n",
       "<g id=\"graph0\" class=\"graph\" transform=\"scale(1 1) rotate(0) translate(4 508)\">\n",
       "<title>G</title>\n",
       "<polygon fill=\"white\" stroke=\"none\" points=\"-4,4 -4,-508 391.055,-508 391.055,4 -4,4\"/>\n",
       "<!-- 10655170472235458093 -->\n",
       "<g id=\"node1\" class=\"node\"><title>10655170472235458093</title>\n",
       "<polygon fill=\"lightgrey\" stroke=\"black\" points=\"218.055,-54 164.055,-54 164.055,-0 218.055,-0 218.055,-54\"/>\n",
       "<text text-anchor=\"middle\" x=\"191.055\" y=\"-24.8\" font-family=\"Times,serif\" font-size=\"9.00\">clamp_2</text>\n",
       "</g>\n",
       "<!-- 7652756280295345872 -->\n",
       "<g id=\"node2\" class=\"node\"><title>7652756280295345872</title>\n",
       "<polygon fill=\"lightgrey\" stroke=\"black\" points=\"387.055,-54 333.055,-54 333.055,-0 387.055,-0 387.055,-54\"/>\n",
       "<text text-anchor=\"middle\" x=\"360.055\" y=\"-24.8\" font-family=\"Times,serif\" font-size=\"9.00\">clamp_1</text>\n",
       "</g>\n",
       "<!-- 8790261946880900685 -->\n",
       "<g id=\"node3\" class=\"node\"><title>8790261946880900685</title>\n",
       "<polygon fill=\"none\" stroke=\"black\" points=\"141.055,-405 37.0553,-405 37.0553,-333 141.055,-333 141.055,-405\"/>\n",
       "<text text-anchor=\"middle\" x=\"89.0553\" y=\"-371.8\" font-family=\"Times,serif\" font-size=\"9.00\">𝒩</text>\n",
       "<text text-anchor=\"middle\" x=\"89.0553\" y=\"-361.8\" font-family=\"Times,serif\" font-size=\"9.00\">gaussianmeanvariance_2</text>\n",
       "</g>\n",
       "<!-- 17242232252650199984 -->\n",
       "<g id=\"node4\" class=\"node\"><title>17242232252650199984</title>\n",
       "<polygon fill=\"none\" stroke=\"black\" points=\"311.055,-288 239.055,-288 239.055,-216 311.055,-216 311.055,-288\"/>\n",
       "<text text-anchor=\"middle\" x=\"275.055\" y=\"-254.8\" font-family=\"Times,serif\" font-size=\"9.00\">dot</text>\n",
       "<text text-anchor=\"middle\" x=\"275.055\" y=\"-244.8\" font-family=\"Times,serif\" font-size=\"9.00\">dotproduct_1</text>\n",
       "</g>\n",
       "<!-- 8790261946880900685&#45;&#45;17242232252650199984 -->\n",
       "<g id=\"edge3\" class=\"edge\"><title>8790261946880900685&#45;&#45;17242232252650199984</title>\n",
       "<path fill=\"none\" stroke=\"black\" d=\"M141.362,-335.66C172.522,-316.394 211.275,-292.434 239.022,-275.279\"/>\n",
       "<text text-anchor=\"start\" x=\"188.055\" y=\"-308.6\" font-family=\"Times,serif\" font-size=\"8.00\" fill=\"red\">variable_1</text>\n",
       "<text text-anchor=\"start\" x=\"220.022\" y=\"-277.879\" font-family=\"Times,serif\" font-size=\"8.00\">1 out </text>\n",
       "<text text-anchor=\"start\" x=\"141.362\" y=\"-338.26\" font-family=\"Times,serif\" font-size=\"8.00\">2 m </text>\n",
       "</g>\n",
       "<!-- 953679935071266495 -->\n",
       "<g id=\"node5\" class=\"node\"><title>953679935071266495</title>\n",
       "<polygon fill=\"lightgrey\" stroke=\"black\" points=\"62.0553,-279 8.05528,-279 8.05528,-225 62.0553,-225 62.0553,-279\"/>\n",
       "<text text-anchor=\"middle\" x=\"35.0553\" y=\"-249.8\" font-family=\"Times,serif\" font-size=\"9.00\">clamp_3</text>\n",
       "</g>\n",
       "<!-- 8790261946880900685&#45;&#45;953679935071266495 -->\n",
       "<g id=\"edge7\" class=\"edge\"><title>8790261946880900685&#45;&#45;953679935071266495</title>\n",
       "<path fill=\"none\" stroke=\"black\" d=\"M36.9419,-339.166C28.9155,-332.334 21.7476,-324.281 17.0553,-315 11.3911,-303.797 14.1284,-290.53 19,-279.148\"/>\n",
       "<text text-anchor=\"start\" x=\"17.0553\" y=\"-308.6\" font-family=\"Times,serif\" font-size=\"8.00\" fill=\"red\">clamp_3</text>\n",
       "<text text-anchor=\"start\" x=\"0\" y=\"-281.748\" font-family=\"Times,serif\" font-size=\"8.00\">1 out </text>\n",
       "<text text-anchor=\"start\" x=\"23.9419\" y=\"-341.766\" font-family=\"Times,serif\" font-size=\"8.00\">3 v </text>\n",
       "</g>\n",
       "<!-- 10076739521485642576 -->\n",
       "<g id=\"node6\" class=\"node\"><title>10076739521485642576</title>\n",
       "<polygon fill=\"none\" stroke=\"black\" points=\"327.055,-171 223.055,-171 223.055,-99 327.055,-99 327.055,-171\"/>\n",
       "<text text-anchor=\"middle\" x=\"275.055\" y=\"-137.8\" font-family=\"Times,serif\" font-size=\"9.00\">𝒩</text>\n",
       "<text text-anchor=\"middle\" x=\"275.055\" y=\"-127.8\" font-family=\"Times,serif\" font-size=\"9.00\">gaussianmeanvariance_1</text>\n",
       "</g>\n",
       "<!-- 17242232252650199984&#45;&#45;10076739521485642576 -->\n",
       "<g id=\"edge6\" class=\"edge\"><title>17242232252650199984&#45;&#45;10076739521485642576</title>\n",
       "<path fill=\"none\" stroke=\"black\" d=\"M275.055,-215.871C275.055,-201.736 275.055,-185.463 275.055,-171.31\"/>\n",
       "<text text-anchor=\"start\" x=\"275.055\" y=\"-191.6\" font-family=\"Times,serif\" font-size=\"8.00\" fill=\"red\">W</text>\n",
       "<text text-anchor=\"start\" x=\"256.055\" y=\"-173.91\" font-family=\"Times,serif\" font-size=\"8.00\">1 out </text>\n",
       "<text text-anchor=\"start\" x=\"256.055\" y=\"-209.471\" font-family=\"Times,serif\" font-size=\"8.00\">3 in2 </text>\n",
       "</g>\n",
       "<!-- 10076739521485642576&#45;&#45;10655170472235458093 -->\n",
       "<g id=\"edge1\" class=\"edge\"><title>10076739521485642576&#45;&#45;10655170472235458093</title>\n",
       "<path fill=\"none\" stroke=\"black\" d=\"M222.726,-113.162C209.378,-105.187 196.665,-94.6284 189.055,-81 184.566,-72.9604 183.889,-63.1146 184.732,-54.1004\"/>\n",
       "<text text-anchor=\"start\" x=\"189.055\" y=\"-74.6\" font-family=\"Times,serif\" font-size=\"8.00\" fill=\"red\">clamp_2</text>\n",
       "<text text-anchor=\"start\" x=\"165.732\" y=\"-56.7004\" font-family=\"Times,serif\" font-size=\"8.00\">1 out </text>\n",
       "<text text-anchor=\"start\" x=\"209.726\" y=\"-115.762\" font-family=\"Times,serif\" font-size=\"8.00\">3 v </text>\n",
       "</g>\n",
       "<!-- 10076739521485642576&#45;&#45;7652756280295345872 -->\n",
       "<g id=\"edge2\" class=\"edge\"><title>10076739521485642576&#45;&#45;7652756280295345872</title>\n",
       "<path fill=\"none\" stroke=\"black\" d=\"M303.123,-98.9979C314.825,-84.4044 328.184,-67.7451 339.019,-54.2331\"/>\n",
       "<text text-anchor=\"start\" x=\"322.055\" y=\"-74.6\" font-family=\"Times,serif\" font-size=\"8.00\" fill=\"red\">clamp_1</text>\n",
       "<text text-anchor=\"start\" x=\"320.019\" y=\"-56.8331\" font-family=\"Times,serif\" font-size=\"8.00\">1 out </text>\n",
       "<text text-anchor=\"start\" x=\"288.123\" y=\"-92.5979\" font-family=\"Times,serif\" font-size=\"8.00\">2 m </text>\n",
       "</g>\n",
       "<!-- 153017463520857378462 -->\n",
       "<g id=\"node7\" class=\"node\"><title>153017463520857378462</title>\n",
       "</g>\n",
       "<!-- 153017463520857378462&#45;&#45;8790261946880900685 -->\n",
       "<g id=\"edge4\" class=\"edge\"><title>153017463520857378462&#45;&#45;8790261946880900685</title>\n",
       "<path fill=\"none\" stroke=\"black\" d=\"M89.0553,-449.798C89.0553,-436.31 89.0553,-419.68 89.0553,-405.099\"/>\n",
       "<text text-anchor=\"start\" x=\"89.0553\" y=\"-425.6\" font-family=\"Times,serif\" font-size=\"8.00\" fill=\"red\">y</text>\n",
       "<text text-anchor=\"start\" x=\"70.0553\" y=\"-407.699\" font-family=\"Times,serif\" font-size=\"8.00\">1 out </text>\n",
       "</g>\n",
       "<!-- 81731160858687009572 -->\n",
       "<g id=\"node8\" class=\"node\"><title>81731160858687009572</title>\n",
       "</g>\n",
       "<!-- 81731160858687009572&#45;&#45;17242232252650199984 -->\n",
       "<g id=\"edge5\" class=\"edge\"><title>81731160858687009572&#45;&#45;17242232252650199984</title>\n",
       "<path fill=\"none\" stroke=\"black\" d=\"M322.987,-341.905C314.412,-326 303.344,-305.471 294.005,-288.148\"/>\n",
       "<text text-anchor=\"start\" x=\"308.055\" y=\"-308.6\" font-family=\"Times,serif\" font-size=\"8.00\" fill=\"red\">x</text>\n",
       "<text text-anchor=\"start\" x=\"275.005\" y=\"-290.748\" font-family=\"Times,serif\" font-size=\"8.00\">2 in1 </text>\n",
       "</g>\n",
       "</g>\n",
       "</svg>\n"
      ]
     },
     "metadata": {},
     "output_type": "display_data"
    }
   ],
   "source": [
    "\n",
    "# Let's create a random variable for our input data x. In ForneyLab we use the @RV macro to denote Random Variables\n",
    "@RV x \n",
    "\n",
    "# Now let's define a prior over the weights W. We use a 2 dimensional Gaussian since we have 2 weights\n",
    "@RV W ~ GaussianMeanVariance([0,0],[1 0 ; 0 1])\n",
    "\n",
    "# And finally our linear model for y\n",
    "@RV y ~ GaussianMeanVariance(dot(W,x), 1)\n",
    "\n",
    "\n",
    "# Visualise the graph\n",
    "ForneyLab.draw()"
   ]
  },
  {
   "cell_type": "markdown",
   "metadata": {},
   "source": [
    "If you take a look at the graph, you will see that it has some open edges for x and y. This is where we want to feed in our data. To do so in ForneyLab, we designate them as placeholders. This means that we do not give them a value immediately but want them to take one on at a later time - such as when we want to feed in the data."
   ]
  },
  {
   "cell_type": "code",
   "execution_count": 4,
   "metadata": {},
   "outputs": [],
   "source": [
    "placeholder(x,:x,dims=(2,)) # The dims flag tells ForneyLab to expect 2 dimensional inputs here\n",
    "placeholder(y,:y);"
   ]
  },
  {
   "cell_type": "markdown",
   "metadata": {},
   "source": [
    "Now that we have our model, it is time to get our inference algorithm. ForneyLab includes the Belief Propagation algorithm for exact inference which we will utilise here. The details of the procedure are not important at this time, so feel free to treat it as a \"magic inference button\".\n",
    "ForneyLab works by directly generating new Julia code containing the inference algorithm. When we parse this code, we get a function (step!) which we can then run to execute the inference procedure.\n",
    "\n",
    "If you are feeling adventurous, feel free to experiment with some of the other inference tools available in ForneyLab. Do you get different results?"
   ]
  },
  {
   "cell_type": "code",
   "execution_count": 5,
   "metadata": {},
   "outputs": [
    {
     "data": {
      "text/plain": [
       "step! (generic function with 3 methods)"
      ]
     },
     "execution_count": 5,
     "metadata": {},
     "output_type": "execute_result"
    }
   ],
   "source": [
    "algo = sumProductAlgorithm(W) # Generate Julia code for inference. The argument tells ForneyLab which variable we want the posterior for\n",
    "eval(Meta.parse(algo)) # Evaluate the generated code to get the step! function"
   ]
  },
  {
   "cell_type": "markdown",
   "metadata": {},
   "source": [
    "Next we need to create a dictionary with our data. Since our model is only for a single data point, we create a dictionary holding just one random x/y pair"
   ]
  },
  {
   "cell_type": "code",
   "execution_count": 6,
   "metadata": {},
   "outputs": [],
   "source": [
    "data = Dict(:x => x_data[10],\n",
    "            :y => y_data[10]);"
   ]
  },
  {
   "cell_type": "markdown",
   "metadata": {},
   "source": [
    "Now, we feed our data dictionary into the step! function, do inference and observe the results! For clarity we have written the model specification below as well so you can get a sense of what a full ForneyLab program looks like."
   ]
  },
  {
   "cell_type": "code",
   "execution_count": 7,
   "metadata": {},
   "outputs": [
    {
     "name": "stdout",
     "output_type": "stream",
     "text": [
      "Posterior mean: [0.17772360054307657, 0.3554472010861533]\n",
      "Posterior Variance: [0.8333333333325278, 0.3333333333331111]\n"
     ]
    }
   ],
   "source": [
    "g = FactorGraph(); # Instantiate Factor Graph\n",
    "\n",
    "# Specify probabilistic model\n",
    "@RV x \n",
    "@RV W ~ GaussianMeanVariance([0,0],[1 0 ; 0 1])\n",
    "@RV y ~ GaussianMeanVariance(dot(W,x), 1)\n",
    "\n",
    "# Denote placeholders\n",
    "placeholder(x,:x,dims=(2,)) \n",
    "placeholder(y,:y);\n",
    "\n",
    "# Generate inference algorithm\n",
    "algo = sumProductAlgorithm(W) \n",
    "eval(Meta.parse(algo)) \n",
    "\n",
    "# Set up data dictionary\n",
    "data = Dict(:x => x_data[10],\n",
    "            :y => y_data[10]);\n",
    "\n",
    "# Do inference\n",
    "marginals = step!(data)\n",
    "\n",
    "# Print results\n",
    "println(\"Posterior mean: \",mean(marginals[:W]))\n",
    "println(\"Posterior Variance: \",var(marginals[:W]))"
   ]
  },
  {
   "cell_type": "markdown",
   "metadata": {},
   "source": [
    "That wasn't particurlarly accurate because we only used a single data point. Let's create a new model that takes in the full data set instead and see if we get better results."
   ]
  },
  {
   "cell_type": "code",
   "execution_count": 8,
   "metadata": {},
   "outputs": [
    {
     "name": "stdout",
     "output_type": "stream",
     "text": [
      "Posterior mean: [1.02273154118299, 0.4400740351645771]\n",
      "Posterior Variance: [0.007179293406383546, 0.0037155992190935068]\n"
     ]
    }
   ],
   "source": [
    "g2 = FactorGraph() # Instantiate new Factor Graph\n",
    "\n",
    "# Create vectors to hold variables for all data points\n",
    "x = Vector{Variable}(undef,n) \n",
    "y = Vector{Variable}(undef,n)\n",
    "\n",
    "# Define a prior over the weights. These are shared for all data points\n",
    "@RV W ~ GaussianMeanVariance([0,0],[1 0 ; 0 1])\n",
    "\n",
    "# Loop over the dataset\n",
    "for i in 1:n\n",
    "    @RV x[i] # We can use indexing to fill a vector with random variables\n",
    "    @RV y[i] ~ GaussianMeanVariance(dot(W,x[i]), 1) \n",
    "    placeholder(x[i],:x,index=i,dims=(2,)) # To define placeholders in vectors, we use the index flag\n",
    "    placeholder(y[i],:y,index=i)\n",
    "end\n",
    "\n",
    "# Generate a new inference algorithm\n",
    "algo = sumProductAlgorithm(W)\n",
    "eval(Meta.parse(algo)) \n",
    "\n",
    "# Now we can fit the entire data set in our model!\n",
    "data = Dict(:x => x_data,\n",
    "            :y => y_data)\n",
    "\n",
    "# Perform inference and observe the results\n",
    "marginals = step!(data)\n",
    "println(\"Posterior mean: \",mean(marginals[:W]))\n",
    "println(\"Posterior Variance: \",var(marginals[:W]))"
   ]
  },
  {
   "cell_type": "markdown",
   "metadata": {},
   "source": [
    "Much better! The trick to note above is the use of vectors and indices to handle multiple data points. "
   ]
  },
  {
   "cell_type": "markdown",
   "metadata": {},
   "source": [
    "# Introduction to Turing\n",
    "Now let's build the same model in Turing. Turing is another Probabilistic Programming library available in Julia. Unlike ForneyLab, Turing relies on sampling based schemes to perform inference. This has advantages and disadvantages which you will investigate in the coming lessons.\n",
    "Things to keep in mind when using Turing:\n",
    "1. Sampling based inference always runs. This means Turing can handle a wider class of problems than ForneyLab\n",
    "2. Sampling based inference is stochastic. Your results will vary between runs.\n",
    "3. Sampling based inference is slow. \n",
    "\n",
    "Let's build a model! Since we have already covered the model specification, we can go a little faster this time"
   ]
  },
  {
   "cell_type": "code",
   "execution_count": 10,
   "metadata": {},
   "outputs": [],
   "source": [
    "using Turing # Import the library\n",
    "\n",
    "# Turing uses the @model macro to define the model function\n",
    "@model linear_regression(x, y, n) = begin # Number of datapoints as additional input\n",
    "    W ~ MvNormal([0.,0.],[1. 0. ; 0. 1.]) # As before we define a 2 dimensional Gaussian prior for the weights\n",
    "\n",
    "    for i in 1:n # Loop over data points\n",
    "        y[i] ~ Normal(W' * x[i], 1) # Estimate y as the dot product of W and x\n",
    "    end\n",
    "end\n",
    ";"
   ]
  },
  {
   "cell_type": "markdown",
   "metadata": {},
   "source": [
    "And that's it! Now we are ready to do inference. For Turing that means selecting a sampling algorithm and setting the associated parameters. For this example we will use the No U-Turn Sampler (NUTS). As above, don't worry too much about the details of the inference algorithm. Though if you are feeling adventurous, feel free to try out the other sampling algorithms available or try out different parameter settings. Can you get better results? What happens to the runtime?"
   ]
  },
  {
   "cell_type": "code",
   "execution_count": 35,
   "metadata": {},
   "outputs": [
    {
     "name": "stderr",
     "output_type": "stream",
     "text": [
      "┌ Info: [Turing]: global PROGRESS is set as false\n",
      "└ @ Turing /home/mkoudahl/.julia/packages/Turing/xFzfF/src/Turing.jl:23\n",
      "┌ Info: Found initial step size\n",
      "│   ϵ = 0.05\n",
      "└ @ Turing.Inference /home/mkoudahl/.julia/packages/Turing/xFzfF/src/inference/hmc.jl:548\n"
     ]
    }
   ],
   "source": [
    "# Disable status bars for the inference procedure\n",
    "Turing.turnprogress(:false)\n",
    "\n",
    "# Run the sampling procedure and generate an MCMCChain\n",
    "chain = Turing.sample(linear_regression(x_data,y_data,n), NUTS(500,0.65),2000);"
   ]
  },
  {
   "cell_type": "markdown",
   "metadata": {},
   "source": [
    "The inference procedure has introduced a new object: The MCMCChain. This object holds the results of our sampling procedure as well as some diagnostic information to assess convergence of the sampler. Let's take a look at what's inside using the describe() function in Turing"
   ]
  },
  {
   "cell_type": "code",
   "execution_count": null,
   "metadata": {},
   "outputs": [],
   "source": [
    "describe(chain)"
   ]
  },
  {
   "cell_type": "markdown",
   "metadata": {},
   "source": [
    "The above table holds a lot of information. A lot of the entries are specific to the inference algorithm so we will focus on the results that matter - that being the posterior distribution over the weights W[1] and W[2]. Did the sampler succesfully manaage to recover the parameters of the data generating process? "
   ]
  },
  {
   "cell_type": "markdown",
   "metadata": {},
   "source": [
    "# ADD MORE STUFF ON HOW TO WORK WITH MCMC CHAINS"
   ]
  },
  {
   "cell_type": "markdown",
   "metadata": {},
   "source": [
    "Now it's your turn! Below are 2 tasks to get you started working with Probabilistic Programming. You should attempt both of them with both ForneyLab and Turing. An important part of being a good probabilistic programmer is to use the right tool for the right job and to do that you need to be familiar with multiple toolboxes. Good luck and may the odds be ever in your favour"
   ]
  },
  {
   "cell_type": "markdown",
   "metadata": {},
   "source": [
    "#### Assigment 1. \n",
    "Your task is to extend the regression models above to include an intercept term. You can do this either by extending the input vector with a column of 1's and add an additional weight to W or by augmenting your model with an entirely new variable. Either approach has advantages and disadvantages depending on the library you use."
   ]
  },
  {
   "cell_type": "code",
   "execution_count": null,
   "metadata": {},
   "outputs": [],
   "source": [
    "# Your code here"
   ]
  },
  {
   "cell_type": "markdown",
   "metadata": {},
   "source": [
    "#### Assignment 2.\n",
    "The code below generates a dataset of 0's and 1's. Your task is to turn the regression models above into binary classifiers. To do that you will need to change the likelihood and use a logistic function on the output of the regression. To that end ForneyLab supplies the Probit() node and Turing the sigmoid() function"
   ]
  },
  {
   "cell_type": "code",
   "execution_count": null,
   "metadata": {},
   "outputs": [],
   "source": [
    "# Your code here"
   ]
  },
  {
   "cell_type": "markdown",
   "metadata": {},
   "source": [
    "- Small introductory story\n",
    "- Binary logistic regression\n",
    "- Linear regression"
   ]
  },
  {
   "cell_type": "markdown",
   "metadata": {},
   "source": [
    "#### Introduction to Turing"
   ]
  },
  {
   "cell_type": "markdown",
   "metadata": {},
   "source": [
    "- Small introductory story\n",
    "- Binary logistic regression\n",
    "- Linear regression"
   ]
  },
  {
   "cell_type": "markdown",
   "metadata": {},
   "source": [
    "## Assignment: multivariate extension of logistic regression"
   ]
  },
  {
   "cell_type": "markdown",
   "metadata": {},
   "source": [
    "Synthetic data set"
   ]
  },
  {
   "cell_type": "markdown",
   "metadata": {},
   "source": [
    "## Assignment: Real-world problem"
   ]
  },
  {
   "cell_type": "markdown",
   "metadata": {},
   "source": [
    "List of data sets: Iris, Titanic, Old faithful, UCI-ML repo"
   ]
  },
  {
   "cell_type": "markdown",
   "metadata": {},
   "source": [
    "## (Optional / -> block 4?) Model comparison"
   ]
  },
  {
   "cell_type": "code",
   "execution_count": null,
   "metadata": {},
   "outputs": [],
   "source": []
  }
 ],
 "metadata": {
  "@webio": {
   "lastCommId": null,
   "lastKernelId": null
  },
  "anaconda-cloud": {},
  "celltoolbar": "Slideshow",
  "kernelspec": {
   "display_name": "Julia 1.2.0",
   "language": "julia",
   "name": "julia-1.2"
  },
  "language_info": {
   "file_extension": ".jl",
   "mimetype": "application/julia",
   "name": "julia",
   "version": "1.2.0"
  }
 },
 "nbformat": 4,
 "nbformat_minor": 4
}
