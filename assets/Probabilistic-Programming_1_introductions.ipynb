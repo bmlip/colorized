{
 "cells": [
  {
   "cell_type": "markdown",
   "metadata": {
    "slideshow": {
     "slide_type": "slide"
    }
   },
   "source": [
    "# Probabilistic Programming - 1"
   ]
  },
  {
   "cell_type": "markdown",
   "metadata": {
    "slideshow": {
     "slide_type": "slide"
    }
   },
   "source": [
    "### Preliminaries\n",
    "\n",
    "- Goal \n",
    "  - Learn to write basic probabilistic programs  \n",
    "- Materials        \n",
    "  - Mandatory\n",
    "    - These lecture notes.\n",
    "    - Intro to programming in Julia (https://youtu.be/8h8rQyEpiZA?t=233).\n",
    "  - Optional\n",
    "    - Cheatsheets: how does Julia differ from Matlab / Python (https://docs.julialang.org/en/v1/manual/noteworthy-differences/index.html).\n",
    "    - Getting started with ForneyLab (https://biaslab.github.io/forneylab/docs/getting-started/).\n",
    "    - Tutorials using Turing.jl (https://turing.ml/dev/tutorials/0-introduction/)"
   ]
  },
  {
   "cell_type": "markdown",
   "metadata": {},
   "source": [
    "So far you've been doing all your calculations by hand. As you have probably learned, this is timeconsuming and error prone. In this lesson we are going to introduce Probabilistic Programming as a method to automate this labour away. We will cover 2 packages - ForneyLab and Turing - and show you how to specify probabilistic models in both. Afterwards, you'll get your first taste of Probabilistic Programming by solving your first problem! The main takehome point is that while Probabilistic Programming requires some specialised mindware in terms of probability theory and correct model specification, implementation is straightforward once you have the right tools."
   ]
  },
  {
   "cell_type": "markdown",
   "metadata": {},
   "source": [
    "# Introduction to ForneyLab"
   ]
  },
  {
   "cell_type": "markdown",
   "metadata": {},
   "source": [
    "ForneyLab (link) is a Probabilistic Programming toolbox developed inhouse at BIASLab. ForneyLab utilises the FFG formalism that you are familiar with by now to describe models. Inference is performed through variational procedures or, if applicable, exact inference. This is the core feature of ForneyLab: A large library of analytical update rules similar to what you have derived so far. This provides fast, deterministic inference with convergence guarantees, provided you give it the right generative model.\n",
    "Things to keep in mind when using ForneyLab:\n",
    "1. It is optimised for Dynamical Systems and time series data. It'll be extra fast in these circumstances\n",
    "2. Relies on deterministic update rules - you will get the same result each time\n",
    "3. If you find a bug, please tell us :) \n",
    "\n",
    "Now, let's work through an example using ForneyLab"
   ]
  },
  {
   "cell_type": "code",
   "execution_count": 11,
   "metadata": {},
   "outputs": [
    {
     "data": {
      "image/svg+xml": [
       "<?xml version=\"1.0\" encoding=\"utf-8\"?>\n",
       "<svg xmlns=\"http://www.w3.org/2000/svg\" xmlns:xlink=\"http://www.w3.org/1999/xlink\" width=\"600\" height=\"400\" viewBox=\"0 0 2400 1600\">\n",
       "<defs>\n",
       "  <clipPath id=\"clip2700\">\n",
       "    <rect x=\"0\" y=\"0\" width=\"2400\" height=\"1600\"/>\n",
       "  </clipPath>\n",
       "</defs>\n",
       "<path clip-path=\"url(#clip2700)\" d=\"\n",
       "M0 1600 L2400 1600 L2400 0 L0 0  Z\n",
       "  \" fill=\"#ffffff\" fill-rule=\"evenodd\" fill-opacity=\"1\"/>\n",
       "<defs>\n",
       "  <clipPath id=\"clip2701\">\n",
       "    <rect x=\"480\" y=\"0\" width=\"1681\" height=\"1600\"/>\n",
       "  </clipPath>\n",
       "</defs>\n",
       "<path clip-path=\"url(#clip2700)\" d=\"\n",
       "M113.754 1487.47 L2352.76 1487.47 L2352.76 47.2441 L113.754 47.2441  Z\n",
       "  \" fill=\"#ffffff\" fill-rule=\"evenodd\" fill-opacity=\"1\"/>\n",
       "<defs>\n",
       "  <clipPath id=\"clip2702\">\n",
       "    <rect x=\"113\" y=\"47\" width=\"2240\" height=\"1441\"/>\n",
       "  </clipPath>\n",
       "</defs>\n",
       "<polyline clip-path=\"url(#clip2702)\" style=\"stroke:#000000; stroke-width:2; stroke-opacity:0.1; fill:none\" points=\"\n",
       "  125.604,1487.47 125.604,47.2441 \n",
       "  \"/>\n",
       "<polyline clip-path=\"url(#clip2702)\" style=\"stroke:#000000; stroke-width:2; stroke-opacity:0.1; fill:none\" points=\"\n",
       "  640.79,1487.47 640.79,47.2441 \n",
       "  \"/>\n",
       "<polyline clip-path=\"url(#clip2702)\" style=\"stroke:#000000; stroke-width:2; stroke-opacity:0.1; fill:none\" points=\"\n",
       "  1155.98,1487.47 1155.98,47.2441 \n",
       "  \"/>\n",
       "<polyline clip-path=\"url(#clip2702)\" style=\"stroke:#000000; stroke-width:2; stroke-opacity:0.1; fill:none\" points=\"\n",
       "  1671.16,1487.47 1671.16,47.2441 \n",
       "  \"/>\n",
       "<polyline clip-path=\"url(#clip2702)\" style=\"stroke:#000000; stroke-width:2; stroke-opacity:0.1; fill:none\" points=\"\n",
       "  2186.35,1487.47 2186.35,47.2441 \n",
       "  \"/>\n",
       "<polyline clip-path=\"url(#clip2702)\" style=\"stroke:#000000; stroke-width:2; stroke-opacity:0.1; fill:none\" points=\"\n",
       "  113.754,1355.96 2352.76,1355.96 \n",
       "  \"/>\n",
       "<polyline clip-path=\"url(#clip2702)\" style=\"stroke:#000000; stroke-width:2; stroke-opacity:0.1; fill:none\" points=\"\n",
       "  113.754,1035.12 2352.76,1035.12 \n",
       "  \"/>\n",
       "<polyline clip-path=\"url(#clip2702)\" style=\"stroke:#000000; stroke-width:2; stroke-opacity:0.1; fill:none\" points=\"\n",
       "  113.754,714.284 2352.76,714.284 \n",
       "  \"/>\n",
       "<polyline clip-path=\"url(#clip2702)\" style=\"stroke:#000000; stroke-width:2; stroke-opacity:0.1; fill:none\" points=\"\n",
       "  113.754,393.447 2352.76,393.447 \n",
       "  \"/>\n",
       "<polyline clip-path=\"url(#clip2702)\" style=\"stroke:#000000; stroke-width:2; stroke-opacity:0.1; fill:none\" points=\"\n",
       "  113.754,72.6089 2352.76,72.6089 \n",
       "  \"/>\n",
       "<polyline clip-path=\"url(#clip2700)\" style=\"stroke:#000000; stroke-width:4; stroke-opacity:1; fill:none\" points=\"\n",
       "  113.754,1487.47 2352.76,1487.47 \n",
       "  \"/>\n",
       "<polyline clip-path=\"url(#clip2700)\" style=\"stroke:#000000; stroke-width:4; stroke-opacity:1; fill:none\" points=\"\n",
       "  113.754,1487.47 113.754,47.2441 \n",
       "  \"/>\n",
       "<polyline clip-path=\"url(#clip2700)\" style=\"stroke:#000000; stroke-width:4; stroke-opacity:1; fill:none\" points=\"\n",
       "  125.604,1487.47 125.604,1465.87 \n",
       "  \"/>\n",
       "<polyline clip-path=\"url(#clip2700)\" style=\"stroke:#000000; stroke-width:4; stroke-opacity:1; fill:none\" points=\"\n",
       "  640.79,1487.47 640.79,1465.87 \n",
       "  \"/>\n",
       "<polyline clip-path=\"url(#clip2700)\" style=\"stroke:#000000; stroke-width:4; stroke-opacity:1; fill:none\" points=\"\n",
       "  1155.98,1487.47 1155.98,1465.87 \n",
       "  \"/>\n",
       "<polyline clip-path=\"url(#clip2700)\" style=\"stroke:#000000; stroke-width:4; stroke-opacity:1; fill:none\" points=\"\n",
       "  1671.16,1487.47 1671.16,1465.87 \n",
       "  \"/>\n",
       "<polyline clip-path=\"url(#clip2700)\" style=\"stroke:#000000; stroke-width:4; stroke-opacity:1; fill:none\" points=\"\n",
       "  2186.35,1487.47 2186.35,1465.87 \n",
       "  \"/>\n",
       "<polyline clip-path=\"url(#clip2700)\" style=\"stroke:#000000; stroke-width:4; stroke-opacity:1; fill:none\" points=\"\n",
       "  113.754,1355.96 147.339,1355.96 \n",
       "  \"/>\n",
       "<polyline clip-path=\"url(#clip2700)\" style=\"stroke:#000000; stroke-width:4; stroke-opacity:1; fill:none\" points=\"\n",
       "  113.754,1035.12 147.339,1035.12 \n",
       "  \"/>\n",
       "<polyline clip-path=\"url(#clip2700)\" style=\"stroke:#000000; stroke-width:4; stroke-opacity:1; fill:none\" points=\"\n",
       "  113.754,714.284 147.339,714.284 \n",
       "  \"/>\n",
       "<polyline clip-path=\"url(#clip2700)\" style=\"stroke:#000000; stroke-width:4; stroke-opacity:1; fill:none\" points=\"\n",
       "  113.754,393.447 147.339,393.447 \n",
       "  \"/>\n",
       "<polyline clip-path=\"url(#clip2700)\" style=\"stroke:#000000; stroke-width:4; stroke-opacity:1; fill:none\" points=\"\n",
       "  113.754,72.6089 147.339,72.6089 \n",
       "  \"/>\n",
       "<g clip-path=\"url(#clip2700)\">\n",
       "<text style=\"fill:#000000; fill-opacity:1; font-family:Arial,Helvetica Neue,Helvetica,sans-serif; font-size:48px; text-anchor:middle;\" transform=\"rotate(0, 125.604, 1541.47)\" x=\"125.604\" y=\"1541.47\">0</text>\n",
       "</g>\n",
       "<g clip-path=\"url(#clip2700)\">\n",
       "<text style=\"fill:#000000; fill-opacity:1; font-family:Arial,Helvetica Neue,Helvetica,sans-serif; font-size:48px; text-anchor:middle;\" transform=\"rotate(0, 640.79, 1541.47)\" x=\"640.79\" y=\"1541.47\">10</text>\n",
       "</g>\n",
       "<g clip-path=\"url(#clip2700)\">\n",
       "<text style=\"fill:#000000; fill-opacity:1; font-family:Arial,Helvetica Neue,Helvetica,sans-serif; font-size:48px; text-anchor:middle;\" transform=\"rotate(0, 1155.98, 1541.47)\" x=\"1155.98\" y=\"1541.47\">20</text>\n",
       "</g>\n",
       "<g clip-path=\"url(#clip2700)\">\n",
       "<text style=\"fill:#000000; fill-opacity:1; font-family:Arial,Helvetica Neue,Helvetica,sans-serif; font-size:48px; text-anchor:middle;\" transform=\"rotate(0, 1671.16, 1541.47)\" x=\"1671.16\" y=\"1541.47\">30</text>\n",
       "</g>\n",
       "<g clip-path=\"url(#clip2700)\">\n",
       "<text style=\"fill:#000000; fill-opacity:1; font-family:Arial,Helvetica Neue,Helvetica,sans-serif; font-size:48px; text-anchor:middle;\" transform=\"rotate(0, 2186.35, 1541.47)\" x=\"2186.35\" y=\"1541.47\">40</text>\n",
       "</g>\n",
       "<g clip-path=\"url(#clip2700)\">\n",
       "<text style=\"fill:#000000; fill-opacity:1; font-family:Arial,Helvetica Neue,Helvetica,sans-serif; font-size:48px; text-anchor:end;\" transform=\"rotate(0, 89.7545, 1373.46)\" x=\"89.7545\" y=\"1373.46\">0</text>\n",
       "</g>\n",
       "<g clip-path=\"url(#clip2700)\">\n",
       "<text style=\"fill:#000000; fill-opacity:1; font-family:Arial,Helvetica Neue,Helvetica,sans-serif; font-size:48px; text-anchor:end;\" transform=\"rotate(0, 89.7545, 1052.62)\" x=\"89.7545\" y=\"1052.62\">2</text>\n",
       "</g>\n",
       "<g clip-path=\"url(#clip2700)\">\n",
       "<text style=\"fill:#000000; fill-opacity:1; font-family:Arial,Helvetica Neue,Helvetica,sans-serif; font-size:48px; text-anchor:end;\" transform=\"rotate(0, 89.7545, 731.784)\" x=\"89.7545\" y=\"731.784\">4</text>\n",
       "</g>\n",
       "<g clip-path=\"url(#clip2700)\">\n",
       "<text style=\"fill:#000000; fill-opacity:1; font-family:Arial,Helvetica Neue,Helvetica,sans-serif; font-size:48px; text-anchor:end;\" transform=\"rotate(0, 89.7545, 410.947)\" x=\"89.7545\" y=\"410.947\">6</text>\n",
       "</g>\n",
       "<g clip-path=\"url(#clip2700)\">\n",
       "<text style=\"fill:#000000; fill-opacity:1; font-family:Arial,Helvetica Neue,Helvetica,sans-serif; font-size:48px; text-anchor:end;\" transform=\"rotate(0, 89.7545, 90.1089)\" x=\"89.7545\" y=\"90.1089\">8</text>\n",
       "</g>\n",
       "<circle clip-path=\"url(#clip2702)\" style=\"fill:#000000; stroke:none; fill-opacity:1\" cx=\"177.122\" cy=\"1196.81\" r=\"18\"/>\n",
       "<circle clip-path=\"url(#clip2702)\" style=\"fill:#009af9; stroke:none; fill-opacity:1\" cx=\"177.122\" cy=\"1196.81\" r=\"14\"/>\n",
       "<circle clip-path=\"url(#clip2702)\" style=\"fill:#000000; stroke:none; fill-opacity:1\" cx=\"228.641\" cy=\"1375.82\" r=\"18\"/>\n",
       "<circle clip-path=\"url(#clip2702)\" style=\"fill:#009af9; stroke:none; fill-opacity:1\" cx=\"228.641\" cy=\"1375.82\" r=\"14\"/>\n",
       "<circle clip-path=\"url(#clip2702)\" style=\"fill:#000000; stroke:none; fill-opacity:1\" cx=\"280.16\" cy=\"1446.71\" r=\"18\"/>\n",
       "<circle clip-path=\"url(#clip2702)\" style=\"fill:#009af9; stroke:none; fill-opacity:1\" cx=\"280.16\" cy=\"1446.71\" r=\"14\"/>\n",
       "<circle clip-path=\"url(#clip2702)\" style=\"fill:#000000; stroke:none; fill-opacity:1\" cx=\"331.678\" cy=\"920.387\" r=\"18\"/>\n",
       "<circle clip-path=\"url(#clip2702)\" style=\"fill:#009af9; stroke:none; fill-opacity:1\" cx=\"331.678\" cy=\"920.387\" r=\"14\"/>\n",
       "<circle clip-path=\"url(#clip2702)\" style=\"fill:#000000; stroke:none; fill-opacity:1\" cx=\"383.197\" cy=\"991.813\" r=\"18\"/>\n",
       "<circle clip-path=\"url(#clip2702)\" style=\"fill:#009af9; stroke:none; fill-opacity:1\" cx=\"383.197\" cy=\"991.813\" r=\"14\"/>\n",
       "<circle clip-path=\"url(#clip2702)\" style=\"fill:#000000; stroke:none; fill-opacity:1\" cx=\"434.716\" cy=\"1243.78\" r=\"18\"/>\n",
       "<circle clip-path=\"url(#clip2702)\" style=\"fill:#009af9; stroke:none; fill-opacity:1\" cx=\"434.716\" cy=\"1243.78\" r=\"14\"/>\n",
       "<circle clip-path=\"url(#clip2702)\" style=\"fill:#000000; stroke:none; fill-opacity:1\" cx=\"486.234\" cy=\"1159.06\" r=\"18\"/>\n",
       "<circle clip-path=\"url(#clip2702)\" style=\"fill:#009af9; stroke:none; fill-opacity:1\" cx=\"486.234\" cy=\"1159.06\" r=\"14\"/>\n",
       "<circle clip-path=\"url(#clip2702)\" style=\"fill:#000000; stroke:none; fill-opacity:1\" cx=\"537.753\" cy=\"1379.68\" r=\"18\"/>\n",
       "<circle clip-path=\"url(#clip2702)\" style=\"fill:#009af9; stroke:none; fill-opacity:1\" cx=\"537.753\" cy=\"1379.68\" r=\"14\"/>\n",
       "<circle clip-path=\"url(#clip2702)\" style=\"fill:#000000; stroke:none; fill-opacity:1\" cx=\"589.272\" cy=\"995.377\" r=\"18\"/>\n",
       "<circle clip-path=\"url(#clip2702)\" style=\"fill:#009af9; stroke:none; fill-opacity:1\" cx=\"589.272\" cy=\"995.377\" r=\"14\"/>\n",
       "<circle clip-path=\"url(#clip2702)\" style=\"fill:#000000; stroke:none; fill-opacity:1\" cx=\"640.79\" cy=\"1131.28\" r=\"18\"/>\n",
       "<circle clip-path=\"url(#clip2702)\" style=\"fill:#009af9; stroke:none; fill-opacity:1\" cx=\"640.79\" cy=\"1131.28\" r=\"14\"/>\n",
       "<circle clip-path=\"url(#clip2702)\" style=\"fill:#000000; stroke:none; fill-opacity:1\" cx=\"692.309\" cy=\"887.799\" r=\"18\"/>\n",
       "<circle clip-path=\"url(#clip2702)\" style=\"fill:#009af9; stroke:none; fill-opacity:1\" cx=\"692.309\" cy=\"887.799\" r=\"14\"/>\n",
       "<circle clip-path=\"url(#clip2702)\" style=\"fill:#000000; stroke:none; fill-opacity:1\" cx=\"743.828\" cy=\"1097.88\" r=\"18\"/>\n",
       "<circle clip-path=\"url(#clip2702)\" style=\"fill:#009af9; stroke:none; fill-opacity:1\" cx=\"743.828\" cy=\"1097.88\" r=\"14\"/>\n",
       "<circle clip-path=\"url(#clip2702)\" style=\"fill:#000000; stroke:none; fill-opacity:1\" cx=\"795.346\" cy=\"899.083\" r=\"18\"/>\n",
       "<circle clip-path=\"url(#clip2702)\" style=\"fill:#009af9; stroke:none; fill-opacity:1\" cx=\"795.346\" cy=\"899.083\" r=\"14\"/>\n",
       "<circle clip-path=\"url(#clip2702)\" style=\"fill:#000000; stroke:none; fill-opacity:1\" cx=\"846.865\" cy=\"1032.81\" r=\"18\"/>\n",
       "<circle clip-path=\"url(#clip2702)\" style=\"fill:#009af9; stroke:none; fill-opacity:1\" cx=\"846.865\" cy=\"1032.81\" r=\"14\"/>\n",
       "<circle clip-path=\"url(#clip2702)\" style=\"fill:#000000; stroke:none; fill-opacity:1\" cx=\"898.384\" cy=\"1099.38\" r=\"18\"/>\n",
       "<circle clip-path=\"url(#clip2702)\" style=\"fill:#009af9; stroke:none; fill-opacity:1\" cx=\"898.384\" cy=\"1099.38\" r=\"14\"/>\n",
       "<circle clip-path=\"url(#clip2702)\" style=\"fill:#000000; stroke:none; fill-opacity:1\" cx=\"949.902\" cy=\"779.254\" r=\"18\"/>\n",
       "<circle clip-path=\"url(#clip2702)\" style=\"fill:#009af9; stroke:none; fill-opacity:1\" cx=\"949.902\" cy=\"779.254\" r=\"14\"/>\n",
       "<circle clip-path=\"url(#clip2702)\" style=\"fill:#000000; stroke:none; fill-opacity:1\" cx=\"1001.42\" cy=\"1161.79\" r=\"18\"/>\n",
       "<circle clip-path=\"url(#clip2702)\" style=\"fill:#009af9; stroke:none; fill-opacity:1\" cx=\"1001.42\" cy=\"1161.79\" r=\"14\"/>\n",
       "<circle clip-path=\"url(#clip2702)\" style=\"fill:#000000; stroke:none; fill-opacity:1\" cx=\"1052.94\" cy=\"933.174\" r=\"18\"/>\n",
       "<circle clip-path=\"url(#clip2702)\" style=\"fill:#009af9; stroke:none; fill-opacity:1\" cx=\"1052.94\" cy=\"933.174\" r=\"14\"/>\n",
       "<circle clip-path=\"url(#clip2702)\" style=\"fill:#000000; stroke:none; fill-opacity:1\" cx=\"1104.46\" cy=\"1095.85\" r=\"18\"/>\n",
       "<circle clip-path=\"url(#clip2702)\" style=\"fill:#009af9; stroke:none; fill-opacity:1\" cx=\"1104.46\" cy=\"1095.85\" r=\"14\"/>\n",
       "<circle clip-path=\"url(#clip2702)\" style=\"fill:#000000; stroke:none; fill-opacity:1\" cx=\"1155.98\" cy=\"867.482\" r=\"18\"/>\n",
       "<circle clip-path=\"url(#clip2702)\" style=\"fill:#009af9; stroke:none; fill-opacity:1\" cx=\"1155.98\" cy=\"867.482\" r=\"14\"/>\n",
       "<circle clip-path=\"url(#clip2702)\" style=\"fill:#000000; stroke:none; fill-opacity:1\" cx=\"1207.5\" cy=\"906.479\" r=\"18\"/>\n",
       "<circle clip-path=\"url(#clip2702)\" style=\"fill:#009af9; stroke:none; fill-opacity:1\" cx=\"1207.5\" cy=\"906.479\" r=\"14\"/>\n",
       "<circle clip-path=\"url(#clip2702)\" style=\"fill:#000000; stroke:none; fill-opacity:1\" cx=\"1259.01\" cy=\"919.928\" r=\"18\"/>\n",
       "<circle clip-path=\"url(#clip2702)\" style=\"fill:#009af9; stroke:none; fill-opacity:1\" cx=\"1259.01\" cy=\"919.928\" r=\"14\"/>\n",
       "<circle clip-path=\"url(#clip2702)\" style=\"fill:#000000; stroke:none; fill-opacity:1\" cx=\"1310.53\" cy=\"897.294\" r=\"18\"/>\n",
       "<circle clip-path=\"url(#clip2702)\" style=\"fill:#009af9; stroke:none; fill-opacity:1\" cx=\"1310.53\" cy=\"897.294\" r=\"14\"/>\n",
       "<circle clip-path=\"url(#clip2702)\" style=\"fill:#000000; stroke:none; fill-opacity:1\" cx=\"1362.05\" cy=\"728.322\" r=\"18\"/>\n",
       "<circle clip-path=\"url(#clip2702)\" style=\"fill:#009af9; stroke:none; fill-opacity:1\" cx=\"1362.05\" cy=\"728.322\" r=\"14\"/>\n",
       "<circle clip-path=\"url(#clip2702)\" style=\"fill:#000000; stroke:none; fill-opacity:1\" cx=\"1413.57\" cy=\"976.114\" r=\"18\"/>\n",
       "<circle clip-path=\"url(#clip2702)\" style=\"fill:#009af9; stroke:none; fill-opacity:1\" cx=\"1413.57\" cy=\"976.114\" r=\"14\"/>\n",
       "<circle clip-path=\"url(#clip2702)\" style=\"fill:#000000; stroke:none; fill-opacity:1\" cx=\"1465.09\" cy=\"752.222\" r=\"18\"/>\n",
       "<circle clip-path=\"url(#clip2702)\" style=\"fill:#009af9; stroke:none; fill-opacity:1\" cx=\"1465.09\" cy=\"752.222\" r=\"14\"/>\n",
       "<circle clip-path=\"url(#clip2702)\" style=\"fill:#000000; stroke:none; fill-opacity:1\" cx=\"1516.61\" cy=\"672.646\" r=\"18\"/>\n",
       "<circle clip-path=\"url(#clip2702)\" style=\"fill:#009af9; stroke:none; fill-opacity:1\" cx=\"1516.61\" cy=\"672.646\" r=\"14\"/>\n",
       "<circle clip-path=\"url(#clip2702)\" style=\"fill:#000000; stroke:none; fill-opacity:1\" cx=\"1568.13\" cy=\"496.776\" r=\"18\"/>\n",
       "<circle clip-path=\"url(#clip2702)\" style=\"fill:#009af9; stroke:none; fill-opacity:1\" cx=\"1568.13\" cy=\"496.776\" r=\"14\"/>\n",
       "<circle clip-path=\"url(#clip2702)\" style=\"fill:#000000; stroke:none; fill-opacity:1\" cx=\"1619.65\" cy=\"513.155\" r=\"18\"/>\n",
       "<circle clip-path=\"url(#clip2702)\" style=\"fill:#009af9; stroke:none; fill-opacity:1\" cx=\"1619.65\" cy=\"513.155\" r=\"14\"/>\n",
       "<circle clip-path=\"url(#clip2702)\" style=\"fill:#000000; stroke:none; fill-opacity:1\" cx=\"1671.16\" cy=\"730.2\" r=\"18\"/>\n",
       "<circle clip-path=\"url(#clip2702)\" style=\"fill:#009af9; stroke:none; fill-opacity:1\" cx=\"1671.16\" cy=\"730.2\" r=\"14\"/>\n",
       "<circle clip-path=\"url(#clip2702)\" style=\"fill:#000000; stroke:none; fill-opacity:1\" cx=\"1722.68\" cy=\"640.498\" r=\"18\"/>\n",
       "<circle clip-path=\"url(#clip2702)\" style=\"fill:#009af9; stroke:none; fill-opacity:1\" cx=\"1722.68\" cy=\"640.498\" r=\"14\"/>\n",
       "<circle clip-path=\"url(#clip2702)\" style=\"fill:#000000; stroke:none; fill-opacity:1\" cx=\"1774.2\" cy=\"783.022\" r=\"18\"/>\n",
       "<circle clip-path=\"url(#clip2702)\" style=\"fill:#009af9; stroke:none; fill-opacity:1\" cx=\"1774.2\" cy=\"783.022\" r=\"14\"/>\n",
       "<circle clip-path=\"url(#clip2702)\" style=\"fill:#000000; stroke:none; fill-opacity:1\" cx=\"1825.72\" cy=\"283.236\" r=\"18\"/>\n",
       "<circle clip-path=\"url(#clip2702)\" style=\"fill:#009af9; stroke:none; fill-opacity:1\" cx=\"1825.72\" cy=\"283.236\" r=\"14\"/>\n",
       "<circle clip-path=\"url(#clip2702)\" style=\"fill:#000000; stroke:none; fill-opacity:1\" cx=\"1877.24\" cy=\"678.333\" r=\"18\"/>\n",
       "<circle clip-path=\"url(#clip2702)\" style=\"fill:#009af9; stroke:none; fill-opacity:1\" cx=\"1877.24\" cy=\"678.333\" r=\"14\"/>\n",
       "<circle clip-path=\"url(#clip2702)\" style=\"fill:#000000; stroke:none; fill-opacity:1\" cx=\"1928.76\" cy=\"664.649\" r=\"18\"/>\n",
       "<circle clip-path=\"url(#clip2702)\" style=\"fill:#009af9; stroke:none; fill-opacity:1\" cx=\"1928.76\" cy=\"664.649\" r=\"14\"/>\n",
       "<circle clip-path=\"url(#clip2702)\" style=\"fill:#000000; stroke:none; fill-opacity:1\" cx=\"1980.28\" cy=\"547.03\" r=\"18\"/>\n",
       "<circle clip-path=\"url(#clip2702)\" style=\"fill:#009af9; stroke:none; fill-opacity:1\" cx=\"1980.28\" cy=\"547.03\" r=\"14\"/>\n",
       "<circle clip-path=\"url(#clip2702)\" style=\"fill:#000000; stroke:none; fill-opacity:1\" cx=\"2031.79\" cy=\"330.559\" r=\"18\"/>\n",
       "<circle clip-path=\"url(#clip2702)\" style=\"fill:#009af9; stroke:none; fill-opacity:1\" cx=\"2031.79\" cy=\"330.559\" r=\"14\"/>\n",
       "<circle clip-path=\"url(#clip2702)\" style=\"fill:#000000; stroke:none; fill-opacity:1\" cx=\"2083.31\" cy=\"441.466\" r=\"18\"/>\n",
       "<circle clip-path=\"url(#clip2702)\" style=\"fill:#009af9; stroke:none; fill-opacity:1\" cx=\"2083.31\" cy=\"441.466\" r=\"14\"/>\n",
       "<circle clip-path=\"url(#clip2702)\" style=\"fill:#000000; stroke:none; fill-opacity:1\" cx=\"2134.83\" cy=\"394.181\" r=\"18\"/>\n",
       "<circle clip-path=\"url(#clip2702)\" style=\"fill:#009af9; stroke:none; fill-opacity:1\" cx=\"2134.83\" cy=\"394.181\" r=\"14\"/>\n",
       "<circle clip-path=\"url(#clip2702)\" style=\"fill:#000000; stroke:none; fill-opacity:1\" cx=\"2186.35\" cy=\"431.893\" r=\"18\"/>\n",
       "<circle clip-path=\"url(#clip2702)\" style=\"fill:#009af9; stroke:none; fill-opacity:1\" cx=\"2186.35\" cy=\"431.893\" r=\"14\"/>\n",
       "<circle clip-path=\"url(#clip2702)\" style=\"fill:#000000; stroke:none; fill-opacity:1\" cx=\"2237.87\" cy=\"88.0053\" r=\"18\"/>\n",
       "<circle clip-path=\"url(#clip2702)\" style=\"fill:#009af9; stroke:none; fill-opacity:1\" cx=\"2237.87\" cy=\"88.0053\" r=\"14\"/>\n",
       "<circle clip-path=\"url(#clip2702)\" style=\"fill:#000000; stroke:none; fill-opacity:1\" cx=\"2289.39\" cy=\"284.325\" r=\"18\"/>\n",
       "<circle clip-path=\"url(#clip2702)\" style=\"fill:#009af9; stroke:none; fill-opacity:1\" cx=\"2289.39\" cy=\"284.325\" r=\"14\"/>\n",
       "<path clip-path=\"url(#clip2700)\" d=\"\n",
       "M1989.93 251.724 L2280.76 251.724 L2280.76 130.764 L1989.93 130.764  Z\n",
       "  \" fill=\"#ffffff\" fill-rule=\"evenodd\" fill-opacity=\"1\"/>\n",
       "<polyline clip-path=\"url(#clip2700)\" style=\"stroke:#000000; stroke-width:4; stroke-opacity:1; fill:none\" points=\"\n",
       "  1989.93,251.724 2280.76,251.724 2280.76,130.764 1989.93,130.764 1989.93,251.724 \n",
       "  \"/>\n",
       "<circle clip-path=\"url(#clip2700)\" style=\"fill:#000000; stroke:none; fill-opacity:1\" cx=\"2097.93\" cy=\"191.244\" r=\"25\"/>\n",
       "<circle clip-path=\"url(#clip2700)\" style=\"fill:#009af9; stroke:none; fill-opacity:1\" cx=\"2097.93\" cy=\"191.244\" r=\"21\"/>\n",
       "<g clip-path=\"url(#clip2700)\">\n",
       "<text style=\"fill:#000000; fill-opacity:1; font-family:Arial,Helvetica Neue,Helvetica,sans-serif; font-size:48px; text-anchor:start;\" transform=\"rotate(0, 2181.93, 208.744)\" x=\"2181.93\" y=\"208.744\">y1</text>\n",
       "</g>\n",
       "</svg>\n"
      ]
     },
     "execution_count": 11,
     "metadata": {},
     "output_type": "execute_result"
    }
   ],
   "source": [
    "# Let's start by generating some data\n",
    "using Plots\n",
    "true_W = [1.0;0.5]\n",
    "true_σ = 1.\n",
    "true_μ = 0.\n",
    "true_slope = 0.1\n",
    "n=42\n",
    "\n",
    "\n",
    "#function generate_data(true_W,true_σ,true_μ,sqrt_n)\n",
    "#    x_data = [[Float64(x1),Float64(x2)] for x1 in 0:sqrt_n for x2 in 0:sqrt_n]\n",
    "#    y_data = [true_W' * x + randn() * true_σ for x in x_data]\n",
    "#    return x_data,y_data\n",
    "#end\n",
    "            \n",
    "function generate_data(true_W, true_σ, true_μ, n)\n",
    "    x = randn(size(true_W)[1],n) .* true_σ .+ true_μ # Draw from a Gaussian with correct parameters\n",
    "    [x[:,i] .+= true_slope * i for i in 1:n] # Add a slope\n",
    "    y = true_W' * x # Compute y values\n",
    "    return [x[:,i] for i in 1:n],y # List comprehension formats data for easy access later\n",
    "end\n",
    "    \n",
    "x_data,y_data = generate_data(true_W,true_σ,true_μ,n)\n",
    "scatter(1:n,y_data[:])"
   ]
  },
  {
   "cell_type": "markdown",
   "metadata": {},
   "source": [
    "To model our data, we define a model using ForneyLab. We will try a bayesian linear regression of the form\n",
    "\n",
    "$$y \\sim \\mathcal{N}(W^Tx,\\sigma_y)$$\n",
    "With a Gaussian prior on the weights W\n",
    "$$ W \\sim \\mathcal{N}(\\mathbf{\\mu_w},\\mathbf{\\sigma_w})$$\n",
    "\n",
    "The first thing we need to do is to import ForneyLab and instantiate a Factor Graph."
   ]
  },
  {
   "cell_type": "code",
   "execution_count": 12,
   "metadata": {},
   "outputs": [],
   "source": [
    "using ForneyLab\n",
    "g = FactorGraph();"
   ]
  },
  {
   "cell_type": "markdown",
   "metadata": {},
   "source": [
    "Now that we have a FactorGraph, we can start adding variables to it. This is the point where we specify our probabilistic model. When doing Probabilistic Programming, the core challenge is good model specification. To keep it simple, let's start by defining a model for a single x/y pair.\n"
   ]
  },
  {
   "cell_type": "code",
   "execution_count": 13,
   "metadata": {},
   "outputs": [
    {
     "data": {
      "text/html": [
       "<?xml version=\"1.0\" encoding=\"UTF-8\" standalone=\"no\"?>\n",
       "<!DOCTYPE svg PUBLIC \"-//W3C//DTD SVG 1.1//EN\"\n",
       " \"http://www.w3.org/Graphics/SVG/1.1/DTD/svg11.dtd\">\n",
       "<!-- Generated by graphviz version 2.38.0 (20140413.2041)\n",
       " -->\n",
       "<!-- Title: G Pages: 1 -->\n",
       "<svg width=\"395pt\" height=\"512pt\"\n",
       " viewBox=\"0.00 0.00 395.06 512.00\" xmlns=\"http://www.w3.org/2000/svg\" xmlns:xlink=\"http://www.w3.org/1999/xlink\">\n",
       "<g id=\"graph0\" class=\"graph\" transform=\"scale(1 1) rotate(0) translate(4 508)\">\n",
       "<title>G</title>\n",
       "<polygon fill=\"white\" stroke=\"none\" points=\"-4,4 -4,-508 391.055,-508 391.055,4 -4,4\"/>\n",
       "<!-- 6314640236486870752 -->\n",
       "<g id=\"node1\" class=\"node\"><title>6314640236486870752</title>\n",
       "<polygon fill=\"none\" stroke=\"black\" points=\"327.055,-171 223.055,-171 223.055,-99 327.055,-99 327.055,-171\"/>\n",
       "<text text-anchor=\"middle\" x=\"275.055\" y=\"-137.8\" font-family=\"Times,serif\" font-size=\"9.00\">𝒩</text>\n",
       "<text text-anchor=\"middle\" x=\"275.055\" y=\"-127.8\" font-family=\"Times,serif\" font-size=\"9.00\">gaussianmeanvariance_1</text>\n",
       "</g>\n",
       "<!-- 687603767075143487 -->\n",
       "<g id=\"node2\" class=\"node\"><title>687603767075143487</title>\n",
       "<polygon fill=\"lightgrey\" stroke=\"black\" points=\"218.055,-54 164.055,-54 164.055,-0 218.055,-0 218.055,-54\"/>\n",
       "<text text-anchor=\"middle\" x=\"191.055\" y=\"-24.8\" font-family=\"Times,serif\" font-size=\"9.00\">clamp_2</text>\n",
       "</g>\n",
       "<!-- 6314640236486870752&#45;&#45;687603767075143487 -->\n",
       "<g id=\"edge1\" class=\"edge\"><title>6314640236486870752&#45;&#45;687603767075143487</title>\n",
       "<path fill=\"none\" stroke=\"black\" d=\"M222.726,-113.162C209.378,-105.187 196.665,-94.6284 189.055,-81 184.566,-72.9604 183.889,-63.1146 184.732,-54.1004\"/>\n",
       "<text text-anchor=\"start\" x=\"189.055\" y=\"-74.6\" font-family=\"Times,serif\" font-size=\"8.00\" fill=\"red\">clamp_2</text>\n",
       "<text text-anchor=\"start\" x=\"165.732\" y=\"-56.7004\" font-family=\"Times,serif\" font-size=\"8.00\">1 out </text>\n",
       "<text text-anchor=\"start\" x=\"209.726\" y=\"-115.762\" font-family=\"Times,serif\" font-size=\"8.00\">3 v </text>\n",
       "</g>\n",
       "<!-- 15157044007841274965 -->\n",
       "<g id=\"node3\" class=\"node\"><title>15157044007841274965</title>\n",
       "<polygon fill=\"lightgrey\" stroke=\"black\" points=\"387.055,-54 333.055,-54 333.055,-0 387.055,-0 387.055,-54\"/>\n",
       "<text text-anchor=\"middle\" x=\"360.055\" y=\"-24.8\" font-family=\"Times,serif\" font-size=\"9.00\">clamp_1</text>\n",
       "</g>\n",
       "<!-- 6314640236486870752&#45;&#45;15157044007841274965 -->\n",
       "<g id=\"edge3\" class=\"edge\"><title>6314640236486870752&#45;&#45;15157044007841274965</title>\n",
       "<path fill=\"none\" stroke=\"black\" d=\"M303.123,-98.9979C314.825,-84.4044 328.184,-67.7451 339.019,-54.2331\"/>\n",
       "<text text-anchor=\"start\" x=\"322.055\" y=\"-74.6\" font-family=\"Times,serif\" font-size=\"8.00\" fill=\"red\">clamp_1</text>\n",
       "<text text-anchor=\"start\" x=\"320.019\" y=\"-56.8331\" font-family=\"Times,serif\" font-size=\"8.00\">1 out </text>\n",
       "<text text-anchor=\"start\" x=\"288.123\" y=\"-92.5979\" font-family=\"Times,serif\" font-size=\"8.00\">2 m </text>\n",
       "</g>\n",
       "<!-- 11987197340174491802 -->\n",
       "<g id=\"node4\" class=\"node\"><title>11987197340174491802</title>\n",
       "<polygon fill=\"none\" stroke=\"black\" points=\"311.055,-288 239.055,-288 239.055,-216 311.055,-216 311.055,-288\"/>\n",
       "<text text-anchor=\"middle\" x=\"275.055\" y=\"-254.8\" font-family=\"Times,serif\" font-size=\"9.00\">dot</text>\n",
       "<text text-anchor=\"middle\" x=\"275.055\" y=\"-244.8\" font-family=\"Times,serif\" font-size=\"9.00\">dotproduct_1</text>\n",
       "</g>\n",
       "<!-- 11987197340174491802&#45;&#45;6314640236486870752 -->\n",
       "<g id=\"edge5\" class=\"edge\"><title>11987197340174491802&#45;&#45;6314640236486870752</title>\n",
       "<path fill=\"none\" stroke=\"black\" d=\"M275.055,-215.871C275.055,-201.736 275.055,-185.463 275.055,-171.31\"/>\n",
       "<text text-anchor=\"start\" x=\"275.055\" y=\"-191.6\" font-family=\"Times,serif\" font-size=\"8.00\" fill=\"red\">W</text>\n",
       "<text text-anchor=\"start\" x=\"256.055\" y=\"-173.91\" font-family=\"Times,serif\" font-size=\"8.00\">1 out </text>\n",
       "<text text-anchor=\"start\" x=\"256.055\" y=\"-209.471\" font-family=\"Times,serif\" font-size=\"8.00\">3 in2 </text>\n",
       "</g>\n",
       "<!-- 17715605009208926386 -->\n",
       "<g id=\"node5\" class=\"node\"><title>17715605009208926386</title>\n",
       "<polygon fill=\"lightgrey\" stroke=\"black\" points=\"62.0553,-279 8.05528,-279 8.05528,-225 62.0553,-225 62.0553,-279\"/>\n",
       "<text text-anchor=\"middle\" x=\"35.0553\" y=\"-249.8\" font-family=\"Times,serif\" font-size=\"9.00\">clamp_3</text>\n",
       "</g>\n",
       "<!-- 18325947600976177315 -->\n",
       "<g id=\"node6\" class=\"node\"><title>18325947600976177315</title>\n",
       "<polygon fill=\"none\" stroke=\"black\" points=\"141.055,-405 37.0553,-405 37.0553,-333 141.055,-333 141.055,-405\"/>\n",
       "<text text-anchor=\"middle\" x=\"89.0553\" y=\"-371.8\" font-family=\"Times,serif\" font-size=\"9.00\">𝒩</text>\n",
       "<text text-anchor=\"middle\" x=\"89.0553\" y=\"-361.8\" font-family=\"Times,serif\" font-size=\"9.00\">gaussianmeanvariance_2</text>\n",
       "</g>\n",
       "<!-- 18325947600976177315&#45;&#45;11987197340174491802 -->\n",
       "<g id=\"edge7\" class=\"edge\"><title>18325947600976177315&#45;&#45;11987197340174491802</title>\n",
       "<path fill=\"none\" stroke=\"black\" d=\"M141.362,-335.66C172.522,-316.394 211.275,-292.434 239.022,-275.279\"/>\n",
       "<text text-anchor=\"start\" x=\"188.055\" y=\"-308.6\" font-family=\"Times,serif\" font-size=\"8.00\" fill=\"red\">variable_1</text>\n",
       "<text text-anchor=\"start\" x=\"220.022\" y=\"-277.879\" font-family=\"Times,serif\" font-size=\"8.00\">1 out </text>\n",
       "<text text-anchor=\"start\" x=\"141.362\" y=\"-338.26\" font-family=\"Times,serif\" font-size=\"8.00\">2 m </text>\n",
       "</g>\n",
       "<!-- 18325947600976177315&#45;&#45;17715605009208926386 -->\n",
       "<g id=\"edge2\" class=\"edge\"><title>18325947600976177315&#45;&#45;17715605009208926386</title>\n",
       "<path fill=\"none\" stroke=\"black\" d=\"M36.9419,-339.166C28.9155,-332.334 21.7476,-324.281 17.0553,-315 11.3911,-303.797 14.1284,-290.53 19,-279.148\"/>\n",
       "<text text-anchor=\"start\" x=\"17.0553\" y=\"-308.6\" font-family=\"Times,serif\" font-size=\"8.00\" fill=\"red\">clamp_3</text>\n",
       "<text text-anchor=\"start\" x=\"0\" y=\"-281.748\" font-family=\"Times,serif\" font-size=\"8.00\">1 out </text>\n",
       "<text text-anchor=\"start\" x=\"23.9419\" y=\"-341.766\" font-family=\"Times,serif\" font-size=\"8.00\">3 v </text>\n",
       "</g>\n",
       "<!-- 51437325636449009182 -->\n",
       "<g id=\"node7\" class=\"node\"><title>51437325636449009182</title>\n",
       "</g>\n",
       "<!-- 51437325636449009182&#45;&#45;11987197340174491802 -->\n",
       "<g id=\"edge4\" class=\"edge\"><title>51437325636449009182&#45;&#45;11987197340174491802</title>\n",
       "<path fill=\"none\" stroke=\"black\" d=\"M322.987,-341.905C314.412,-326 303.344,-305.471 294.005,-288.148\"/>\n",
       "<text text-anchor=\"start\" x=\"308.055\" y=\"-308.6\" font-family=\"Times,serif\" font-size=\"8.00\" fill=\"red\">x</text>\n",
       "<text text-anchor=\"start\" x=\"275.005\" y=\"-290.748\" font-family=\"Times,serif\" font-size=\"8.00\">2 in1 </text>\n",
       "</g>\n",
       "<!-- 12253830280711095582 -->\n",
       "<g id=\"node8\" class=\"node\"><title>12253830280711095582</title>\n",
       "</g>\n",
       "<!-- 12253830280711095582&#45;&#45;18325947600976177315 -->\n",
       "<g id=\"edge6\" class=\"edge\"><title>12253830280711095582&#45;&#45;18325947600976177315</title>\n",
       "<path fill=\"none\" stroke=\"black\" d=\"M89.0553,-449.798C89.0553,-436.31 89.0553,-419.68 89.0553,-405.099\"/>\n",
       "<text text-anchor=\"start\" x=\"89.0553\" y=\"-425.6\" font-family=\"Times,serif\" font-size=\"8.00\" fill=\"red\">y</text>\n",
       "<text text-anchor=\"start\" x=\"70.0553\" y=\"-407.699\" font-family=\"Times,serif\" font-size=\"8.00\">1 out </text>\n",
       "</g>\n",
       "</g>\n",
       "</svg>\n"
      ]
     },
     "metadata": {},
     "output_type": "display_data"
    }
   ],
   "source": [
    "# Parameters for priors\n",
    "μ_w = [0.,0.]\n",
    "σ_w = [1. 0. ; 0. 1.]\n",
    "σ_y = 1.\n",
    "\n",
    "# Let's create a random variable for our input data x. In ForneyLab we use the @RV macro to denote Random Variables\n",
    "@RV x \n",
    "\n",
    "# Now let's define a prior over the weights W. We use a 2 dimensional Gaussian since we have 2 weights\n",
    "@RV W ~ GaussianMeanVariance(μ_w,σ_w)\n",
    "\n",
    "# And finally our linear model for y\n",
    "@RV y ~ GaussianMeanVariance(dot(W,x), σ_y)\n",
    "\n",
    "\n",
    "# Visualise the graph\n",
    "ForneyLab.draw()"
   ]
  },
  {
   "cell_type": "markdown",
   "metadata": {},
   "source": [
    "If you take a look at the graph, you will see that it has some open edges for x and y. This is where we want to feed in our data. To do so in ForneyLab, we designate them as placeholders. This means that we do not give them a value immediately but want them to take one on at a later time - such as when we want to feed in the data."
   ]
  },
  {
   "cell_type": "code",
   "execution_count": 14,
   "metadata": {},
   "outputs": [],
   "source": [
    "placeholder(x,:x,dims=(2,)) # The dims flag tells ForneyLab to expect 2 dimensional inputs here\n",
    "placeholder(y,:y);"
   ]
  },
  {
   "cell_type": "markdown",
   "metadata": {},
   "source": [
    "Now that we have our model, it is time to get our inference algorithm. ForneyLab includes the Belief Propagation algorithm for exact inference which we will utilise here. The details of the procedure are not important at this time, so feel free to treat it as a \"magic inference button\".\n",
    "ForneyLab works by directly generating new Julia code containing the inference algorithm. When we parse this code, we get a function (step!) which we can then run to execute the inference procedure.\n",
    "\n",
    "If you are feeling adventurous, feel free to experiment with some of the other inference tools available in ForneyLab. Do you get different results?"
   ]
  },
  {
   "cell_type": "code",
   "execution_count": 15,
   "metadata": {},
   "outputs": [
    {
     "data": {
      "text/plain": [
       "step! (generic function with 3 methods)"
      ]
     },
     "execution_count": 15,
     "metadata": {},
     "output_type": "execute_result"
    }
   ],
   "source": [
    "algo = sumProductAlgorithm(W) # Generate Julia code for inference. The argument tells ForneyLab which variable we want the posterior for\n",
    "eval(Meta.parse(algo)) # Evaluate the generated code to get the step! function"
   ]
  },
  {
   "cell_type": "markdown",
   "metadata": {},
   "source": [
    "Next we need to create a dictionary with our data. Since our model is only for a single data point, we create a dictionary holding just one random x/y pair"
   ]
  },
  {
   "cell_type": "code",
   "execution_count": 16,
   "metadata": {},
   "outputs": [],
   "source": [
    "data = Dict(:x => x_data[10],\n",
    "            :y => y_data[10]);"
   ]
  },
  {
   "cell_type": "markdown",
   "metadata": {},
   "source": [
    "Now, we feed our data dictionary into the step! function, do inference and observe the results! For clarity we have written the model specification below as well so you can get a sense of what a full ForneyLab program looks like."
   ]
  },
  {
   "cell_type": "code",
   "execution_count": 17,
   "metadata": {},
   "outputs": [
    {
     "name": "stdout",
     "output_type": "stream",
     "text": [
      "Posterior mean: [0.540097318427226, 0.41324693639742427]\n",
      "Posterior Variance: [0.6093518238714013, 0.7713026964013263]\n"
     ]
    }
   ],
   "source": [
    "g = FactorGraph(); # Instantiate Factor Graph\n",
    "\n",
    "# Parameters for priors\n",
    "μ_w = [0.,0.]\n",
    "σ_w = [1. 0. ; 0. 1.]\n",
    "σ_y = 1.\n",
    "\n",
    "\n",
    "# Specify probabilistic model\n",
    "@RV x \n",
    "@RV W ~ GaussianMeanVariance(μ_w,σ_w)\n",
    "@RV y ~ GaussianMeanVariance(dot(W,x), σ_y)\n",
    "\n",
    "# Denote placeholders\n",
    "placeholder(x,:x,dims=(2,)) \n",
    "placeholder(y,:y);\n",
    "\n",
    "# Generate inference algorithm\n",
    "algo = sumProductAlgorithm(W) \n",
    "eval(Meta.parse(algo)) \n",
    "\n",
    "# Set up data dictionary\n",
    "data = Dict(:x => x_data[10],\n",
    "            :y => y_data[10]);\n",
    "\n",
    "# Do inference\n",
    "marginals = step!(data)\n",
    "\n",
    "# Print results\n",
    "println(\"Posterior mean: \",mean(marginals[:W]))\n",
    "println(\"Posterior Variance: \",var(marginals[:W]))"
   ]
  },
  {
   "cell_type": "markdown",
   "metadata": {},
   "source": [
    "That wasn't particurlarly accurate because we only used a single data point. Let's create a new model that takes in the full data set instead and see if we get better results."
   ]
  },
  {
   "cell_type": "code",
   "execution_count": 18,
   "metadata": {},
   "outputs": [
    {
     "name": "stdout",
     "output_type": "stream",
     "text": [
      "Posterior mean: [0.9927202910538373, 0.5042499787154986]\n",
      "Posterior Variance: [0.01212829821955946, 0.010894399664174513]\n"
     ]
    }
   ],
   "source": [
    "g2 = FactorGraph() # Instantiate new Factor Graph\n",
    "\n",
    "# Parameters for priors\n",
    "μ_w = [0.,0.]\n",
    "σ_w = [1. 0. ; 0. 1.]\n",
    "σ_y = 1.\n",
    "\n",
    "# Create vectors to hold variables for all data points\n",
    "x = Vector{Variable}(undef,n) \n",
    "y = Vector{Variable}(undef,n)\n",
    "\n",
    "# Define a prior over the weights. These are shared for all data points\n",
    "@RV W ~ GaussianMeanVariance(μ_w,σ_w)\n",
    "\n",
    "# Loop over the dataset\n",
    "for i in 1:n\n",
    "    @RV x[i] # We can use indexing to fill a vector with random variables\n",
    "    @RV y[i] ~ GaussianMeanVariance(dot(W,x[i]), σ_y) \n",
    "    placeholder(x[i],:x,index=i,dims=(2,)) # To define placeholders in vectors, we use the index flag\n",
    "    placeholder(y[i],:y,index=i)\n",
    "end\n",
    "\n",
    "# Generate a new inference algorithm\n",
    "algo = sumProductAlgorithm(W)\n",
    "eval(Meta.parse(algo)) \n",
    "\n",
    "# Now we can fit the entire data set in our model!\n",
    "data = Dict(:x => x_data,\n",
    "            :y => y_data)\n",
    "\n",
    "# Perform inference and observe the results\n",
    "marginals = step!(data)\n",
    "println(\"Posterior mean: \",mean(marginals[:W]))\n",
    "println(\"Posterior Variance: \",var(marginals[:W]))"
   ]
  },
  {
   "cell_type": "markdown",
   "metadata": {},
   "source": [
    "Much better! The trick to note above is the use of vectors and indices to handle multiple data points. "
   ]
  },
  {
   "cell_type": "markdown",
   "metadata": {},
   "source": [
    "# Introduction to Turing\n",
    "Now let's build the same model in Turing. Turing is another Probabilistic Programming library available in Julia. Unlike ForneyLab, Turing relies on sampling based schemes to perform inference. This has advantages and disadvantages which you will investigate in the coming lessons.\n",
    "Things to keep in mind when using Turing:\n",
    "1. Sampling based inference always runs. This means Turing can handle a wider class of problems than ForneyLab\n",
    "2. Sampling based inference is stochastic. Your results will vary between runs.\n",
    "3. Sampling based inference is slow. \n",
    "\n",
    "Let's build a model! Since we have already covered the model specification, we can go a little faster this time"
   ]
  },
  {
   "cell_type": "code",
   "execution_count": 19,
   "metadata": {},
   "outputs": [],
   "source": [
    "using Turing # Import the library\n",
    "\n",
    "# Turing uses the @model macro to define the model function\n",
    "@model linear_regression(x, y, n) = begin # Number of datapoints as additional input\n",
    "    # Parameters for priors\n",
    "    μ_w = [0.,0.]\n",
    "    σ_w = [1. 0. ; 0. 1.]\n",
    "    σ_y = 1.\n",
    "    W ~ MvNormal(μ_w,σ_w) # As before we define a 2 dimensional Gaussian prior for the weights\n",
    "\n",
    "    for i in 1:n # Loop over data points\n",
    "        y[i] ~ Normal(W' * x[i], σ_y) # Estimate y as the dot product of W and x\n",
    "    end\n",
    "end\n",
    ";"
   ]
  },
  {
   "cell_type": "markdown",
   "metadata": {},
   "source": [
    "And that's it! Now we are ready to do inference. For Turing that means selecting a sampling algorithm and setting the associated parameters. For this example we will use the No U-Turn Sampler (NUTS). As above, don't worry too much about the details of the inference algorithm. Though if you are feeling adventurous, feel free to try out the other sampling algorithms available or try out different parameter settings. Can you get better results? What happens to the runtime?"
   ]
  },
  {
   "cell_type": "code",
   "execution_count": 20,
   "metadata": {},
   "outputs": [
    {
     "name": "stderr",
     "output_type": "stream",
     "text": [
      "┌ Info: [Turing]: global PROGRESS is set as false\n",
      "└ @ Turing /home/mkoudahl/.julia/packages/Turing/xFzfF/src/Turing.jl:23\n",
      "┌ Info: Found initial step size\n",
      "│   ϵ = 0.05\n",
      "└ @ Turing.Inference /home/mkoudahl/.julia/packages/Turing/xFzfF/src/inference/hmc.jl:548\n"
     ]
    }
   ],
   "source": [
    "# Disable status bars for the inference procedure\n",
    "Turing.turnprogress(:false)\n",
    "\n",
    "# Run the sampling procedure and generate an MCMCChain\n",
    "chain = Turing.sample(linear_regression(x_data,y_data,n), NUTS(500,0.65),5000);"
   ]
  },
  {
   "cell_type": "markdown",
   "metadata": {},
   "source": [
    "The inference procedure has introduced a new object: The MCMCChain. This object holds the results of our sampling procedure as well as some diagnostic information to assess convergence of the sampler. Let's take a look at what's inside using the describe() function in Turing"
   ]
  },
  {
   "cell_type": "code",
   "execution_count": 21,
   "metadata": {},
   "outputs": [
    {
     "data": {
      "text/plain": [
       "2-element Array{ChainDataFrame,1}\n",
       "\n",
       "Summary Statistics\n",
       ". Omitted printing of 3 columns\n",
       "│ Row │ parameters                   │ mean       │ std         │ naive_se    │\n",
       "│     │ \u001b[90mSymbol\u001b[39m                       │ \u001b[90mFloat64\u001b[39m    │ \u001b[90mFloat64\u001b[39m     │ \u001b[90mFloat64\u001b[39m     │\n",
       "├─────┼──────────────────────────────┼────────────┼─────────────┼─────────────┤\n",
       "│ 1   │ W[1]                         │ 0.993016   │ 0.109944    │ 0.00163895  │\n",
       "│ 2   │ W[2]                         │ 0.504012   │ 0.10376     │ 0.00154677  │\n",
       "│ 3   │ hamiltonian_energy_error     │ 3.76243e-6 │ 0.425476    │ 0.00634262  │\n",
       "│ 4   │ max_hamiltonian_energy_error │ 0.276048   │ 0.837956    │ 0.0124915   │\n",
       "│ 5   │ nom_step_size                │ 0.519872   │ 1.11035e-16 │ 1.65521e-18 │\n",
       "\n",
       "Quantiles\n",
       ". Omitted printing of 2 columns\n",
       "│ Row │ parameters                   │ 2.5%      │ 25.0%      │ 50.0%    │\n",
       "│     │ \u001b[90mSymbol\u001b[39m                       │ \u001b[90mFloat64\u001b[39m   │ \u001b[90mFloat64\u001b[39m    │ \u001b[90mFloat64\u001b[39m  │\n",
       "├─────┼──────────────────────────────┼───────────┼────────────┼──────────┤\n",
       "│ 1   │ W[1]                         │ 0.776572  │ 0.921362   │ 0.99437  │\n",
       "│ 2   │ W[2]                         │ 0.301992  │ 0.434622   │ 0.502004 │\n",
       "│ 3   │ hamiltonian_energy_error     │ -0.940784 │ -0.0474683 │ 0.0      │\n",
       "│ 4   │ max_hamiltonian_energy_error │ -1.08807  │ -0.134178  │ 0.104088 │\n",
       "│ 5   │ nom_step_size                │ 0.519872  │ 0.519872   │ 0.519872 │\n"
      ]
     },
     "execution_count": 21,
     "metadata": {},
     "output_type": "execute_result"
    }
   ],
   "source": [
    "describe(chain)"
   ]
  },
  {
   "cell_type": "markdown",
   "metadata": {},
   "source": [
    "The above table holds a lot of information. A lot of the entries are specific to the inference algorithm so we will focus on the results that matter - that being the posterior distribution over the weights W[1] and W[2]. Did the sampler succesfully manaage to recover the parameters of the data generating process? "
   ]
  },
  {
   "cell_type": "markdown",
   "metadata": {},
   "source": [
    "# ADD MORE STUFF ON HOW TO WORK WITH MCMC CHAINS"
   ]
  },
  {
   "cell_type": "markdown",
   "metadata": {},
   "source": [
    "Now it's your turn! Below are 2 tasks to get you started working with Probabilistic Programming. You should attempt both of them with both ForneyLab and Turing. An important part of being a good probabilistic programmer is to use the right tool for the right job and to do that you need to be familiar with multiple toolboxes. Good luck and may the odds be ever in your favour"
   ]
  },
  {
   "cell_type": "markdown",
   "metadata": {},
   "source": [
    "#### Assigment 1. \n",
    "Generate some new data and change the value of true_\\mu to something other than 0. How does the model fit now? Likely not particularly well, since it is missing an intercept term. Your task is to remedy this by extending the regression model to handle intercepts.\n",
    "\n",
    "Do this by extending the input data with an additional column of 1's and adding an extra weight to W. Can you explain why this works?"
   ]
  },
  {
   "cell_type": "code",
   "execution_count": 22,
   "metadata": {},
   "outputs": [],
   "source": [
    "# Your code here"
   ]
  },
  {
   "cell_type": "markdown",
   "metadata": {},
   "source": [
    "#### Assignment 2.\n",
    "The code below generates a dataset of 0's and 1's. Your task is to turn the Turing model above into a binary classifier. The probabilistic model looks like this\n",
    "$$ W \\sim \\mathcal{N}(\\mathbf{\\mu_w},\\mathbf{\\sigma_w})$$\n",
    "$$y^\\prime{} \\sim \\mathcal{N}(W^Tx,\\sigma_y)$$\n",
    "$$ p = \\sigma(y^\\prime{})$$\n",
    "$$y \\sim \\mathcal{B}er(p))$$\n",
    "\n",
    "As you can see, it is pretty similar to the linear regression covered so far. The main difference is that $y$ is now a Bernoulli distribution since it consists of 0's and 1's. The Bernoulli distribution takes a single parameter $p$ in the range $[0,1]$. Hence we need to squash the output of the regression $y^\\prime{}$ using a logistic function $\\sigma$.To that end we have provided a sigmoid function for you to use."
   ]
  },
  {
   "cell_type": "code",
   "execution_count": 137,
   "metadata": {},
   "outputs": [],
   "source": [
    "# Sigmoid function\n",
    "σ(x) = 1/ (1 + exp(-x))\n",
    "\n",
    "# Parameters for generating data\n",
    "true_W = [1.0;0.5]\n",
    "true_σ = 1.\n",
    "true_μ = 0.\n",
    "n = 10\n",
    "\n",
    "function generate_binary_data(true_W, true_σ, true_μ, n)\n",
    "    x = randn(size(true_W)[1],n) .* true_σ .+ true_μ\n",
    "    y = round.(σ.(true_W' * x))\n",
    "    return [x[:,i] for i in 1:n],y\n",
    "end\n",
    "\n",
    "# Binary dataset\n",
    "x_data,y_data = generate_binary_data(true_W,true_σ,true_μ,n);"
   ]
  },
  {
   "cell_type": "code",
   "execution_count": 136,
   "metadata": {},
   "outputs": [
    {
     "ename": "LoadError",
     "evalue": "syntax: unexpected \"end\"",
     "output_type": "error",
     "traceback": [
      "syntax: unexpected \"end\"",
      ""
     ]
    }
   ],
   "source": [
    "@model binary_classifier(x, y, n) = begin # Number of datapoints as additional input\n",
    "    # Parameters for priors\n",
    "    μ_w = # YOUR CODE HERE\n",
    "    σ_w = # YOUR CODE HERE\n",
    "    σ_y = # YOUR CODE HERE\n",
    "    W ~ # YOUR CODE HERE\n",
    "\n",
    "    y_prime = Vector(undef,n)\n",
    "    for i in 1:n # Loop over data points\n",
    "        y_prime[i] ~ #YOUR CODE HERE\n",
    "        y[i] ~ # YOUR CODE HERE\n",
    "    end\n",
    "end\n",
    "\n",
    "chain = Turing.sample(binary_classifier(x_data,y_data,n), NUTS(500,0.65),5000);\n",
    "describe(chain)"
   ]
  },
  {
   "cell_type": "code",
   "execution_count": 133,
   "metadata": {},
   "outputs": [
    {
     "data": {
      "text/plain": [
       "([0.0, 0.0], [0.10535358821565022, 0.09102567093114046])"
      ]
     },
     "execution_count": 133,
     "metadata": {},
     "output_type": "execute_result"
    }
   ],
   "source": [
    "# DYSFUNCTIONAL FORNEYLAB MODEL\n",
    "using ForneyLab\n",
    "g3 = FactorGraph() # Instantiate new Factor Graph\n",
    "\n",
    "# Parameters for priors\n",
    "μ_w = [0.,0.]\n",
    "σ_w = [1. 0. ; 0. 1.]\n",
    "σ_y = 1.\n",
    "\n",
    "# Create vectors to hold variables for all data points\n",
    "x = Vector{Variable}(undef,n) \n",
    "y_prime = Vector{Variable}(undef,n)\n",
    "y = Vector{Variable}(undef,n)\n",
    "\n",
    "# Define a prior over the weights. These are shared for all data points\n",
    "@RV W ~ GaussianMeanVariance([0.,0.],[1. 0. ; 0. 1.])\n",
    "\n",
    "# Loop over the dataset\n",
    "for i in 1:n\n",
    "    @RV x[i] # We can use indexing to fill a vector with random variables\n",
    "    @RV y_prime[i] ~ GaussianMeanVariance(dot(W,x[i]), 1.)\n",
    "    @RV y[i] ~ Logit(y_prime[i],0)\n",
    "    placeholder(x[i],:x,index=i,dims=(2,)) # To define placeholders in vectors, we use the index flag\n",
    "    placeholder(y[i],:y,index=i)\n",
    "end\n",
    "\n",
    "# Generate a new inference algorithm\n",
    "q = RecognitionFactorization(W, y_prime, ids=[:W, :YPrime])\n",
    "algo = variationalAlgorithm(q)\n",
    "eval(Meta.parse(algo))\n",
    "\n",
    "# Now we can fit the entire data set in our model!\n",
    "data = Dict(:x => x_data,\n",
    "            :y => y_data)\n",
    "\n",
    "marginals = Dict()\n",
    "for i in 1:n\n",
    "    marginals[:y_prime_*i] = ProbabilityDistribution(Univariate, GaussianMeanVariance, m=0.0,v=1.0)\n",
    "end\n",
    "for i in 1:20\n",
    "    stepW!(data,marginals)\n",
    "end\n",
    "mean(marginals[:W]),var(marginals[:W])"
   ]
  },
  {
   "cell_type": "markdown",
   "metadata": {},
   "source": [
    "- Small introductory story\n",
    "- Binary logistic regression\n",
    "- Linear regression"
   ]
  },
  {
   "cell_type": "markdown",
   "metadata": {},
   "source": [
    "#### Introduction to Turing"
   ]
  },
  {
   "cell_type": "markdown",
   "metadata": {},
   "source": [
    "- Small introductory story\n",
    "- Binary logistic regression\n",
    "- Linear regression"
   ]
  },
  {
   "cell_type": "markdown",
   "metadata": {},
   "source": [
    "## Assignment: multivariate extension of logistic regression"
   ]
  },
  {
   "cell_type": "markdown",
   "metadata": {},
   "source": [
    "Synthetic data set"
   ]
  },
  {
   "cell_type": "markdown",
   "metadata": {},
   "source": [
    "## Assignment: Real-world problem"
   ]
  },
  {
   "cell_type": "markdown",
   "metadata": {},
   "source": [
    "List of data sets: Iris, Titanic, Old faithful, UCI-ML repo"
   ]
  },
  {
   "cell_type": "markdown",
   "metadata": {},
   "source": [
    "## (Optional / -> block 4?) Model comparison"
   ]
  },
  {
   "cell_type": "code",
   "execution_count": null,
   "metadata": {},
   "outputs": [],
   "source": []
  }
 ],
 "metadata": {
  "@webio": {
   "lastCommId": null,
   "lastKernelId": null
  },
  "anaconda-cloud": {},
  "celltoolbar": "Slideshow",
  "kernelspec": {
   "display_name": "Julia 1.2.0",
   "language": "julia",
   "name": "julia-1.2"
  },
  "language_info": {
   "file_extension": ".jl",
   "mimetype": "application/julia",
   "name": "julia",
   "version": "1.2.0"
  }
 },
 "nbformat": 4,
 "nbformat_minor": 4
}
