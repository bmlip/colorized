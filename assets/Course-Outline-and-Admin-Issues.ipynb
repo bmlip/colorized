{
 "cells": [
  {
   "cell_type": "markdown",
   "metadata": {
    "slideshow": {
     "slide_type": "slide"
    }
   },
   "source": [
    "# Course Syllabus and Administrative Issues\n",
    "\n",
    "### Bayesian Machine Learning and Information Processing (5SSD0)\n",
    "\n",
    "- **Learning goals**: This course provides an introduction to Bayesian machine learning and information processing systems. The Bayesian approach affords a unified and consistent treatment of many useful information processing systems."
   ]
  },
  {
   "cell_type": "markdown",
   "metadata": {
    "slideshow": {
     "slide_type": "slide"
    }
   },
   "source": [
    "### Logistics\n",
    "\n",
    "- **Load**: Total workload is 5 ECTS $\\Rightarrow 5\\times 28 \\text{[hrs/ECTS]} = 140$ hours or $140/32 \\approx 4.4$ study hours per lecture.\n",
    "\n",
    "- **Web**: Homepage at [http://bmlip.nl](http://bmlip.nl) (or goto teaching tab at [http://biaslab.org](http://biaslab.org) ) \n",
    "  \n",
    "- **Prerequisites for this course**: Mathematical maturity equivalent to undergraduate engineering program.\n",
    "Scientific programming skills (e.g. in Python, MATLAB or [Julia](https://julialang.org)) are helpful.\n",
    "\n",
    "- **Instructors**\n",
    "  - [Bert de Vries](http://bertdv.nl), rm. FLUX-7.101 (on Wednesdays), responsible for full course\n",
    "  - [Wouter Kouw](https://biaslab.github.io/member/wouter/), rm. FLUX-7.060, responsible for Probabilistic Programming lessons\n",
    "  - Teaching assistents: [Magnus Koudahl](https://biaslab.github.io/member/magnus/) and [Ismail Senoz](https://biaslab.github.io/member/ismail/), rm. FLUX-7.060\n",
    "    "
   ]
  },
  {
   "cell_type": "markdown",
   "metadata": {
    "slideshow": {
     "slide_type": "slide"
    }
   },
   "source": [
    "<!---\n",
    "### Why Take This Class?\n",
    "\n",
    "- Suppose you need to develop an algorithm for a complex DSP task, e.g., a speech recognition engine. This is what you'll do:\n",
    "\n",
    "  1. Choose a set of candidate algorithms $y=H_k(x;\\theta)$ where $k \\in \\{1,2,\\ldots,K\\}$ and $\\theta \\in \\Theta_k$; (you think that) there's an algorithm $H_{k^*}(x;\\theta^*)$  that performs according to your liking. \n",
    "  2. You collect a set of examples $D=\\{(x_1,y_1),(x_2,y_2),\\ldots,(x_N,y_N)\\}$ that are consistent with the correct algorithm behavior.\n",
    "\n",
    "\n",
    "  \n",
    "- Using the methods from this class, you will be able to design a suitable algorithm through learning from the data set, thus achieving:\n",
    "  1. **model selection**, i.e., find $k^*$ \n",
    "  2. **parameter estimation**, i.e., find $\\theta^*$ \n",
    "\n",
    "- Better yet, we will discuss methods that find distributions $p(k|D)$ and $p(\\theta|D)$ that represent your knowledge about the best models and parameters, given the data set. \n",
    " --->"
   ]
  },
  {
   "cell_type": "markdown",
   "metadata": {},
   "source": [
    "### Structure of the Course\n",
    "\n",
    "- The course will be taught entirely online.\n",
    "\n",
    "- Please bookmarks the following three websites:\n",
    "  1. The [course homepage](http://bmlip.nl) contains links to all materials such as lecture notes and video lectures.\n",
    "  2. The [Canvas course site](https://canvas.tue.nl/courses/16117) will mainly be used to host the live class meetings (navigate to `Conferences` tab).\n",
    "  3. The [Piazza course site](https://piazza.com/class/kgp8llbdmx84s9) will be used for Q&A and communication.\n",
    "  \n",
    "- I expect that you study the lecture notes **before** the scheduled live class meetings. If you have any question about the materials, pose the question at the Piazza site. \n",
    "\n",
    "- Students are expected to contribute (together) to an answer at the Piazza site. \n",
    "\n",
    "- The regularly scheduled live meetings are mainly there to check up on progress or issues that are better discussed live than at Piazza. I want to avoid 2-hour video lectures. \n",
    "\n",
    "- There will be a written exam to finalize the course. \n"
   ]
  },
  {
   "cell_type": "markdown",
   "metadata": {
    "slideshow": {
     "slide_type": "slide"
    }
   },
   "source": [
    "### Materials\n",
    "\n",
    "- All materials can be accessed from the course homepage [http://bmlip.nl](http://bmlip.nl) (or navigate to teaching tab at [http://biaslab.org](http://biaslab.org) ).\n",
    "\n",
    "- Materials consist of the following resources:\n",
    "  - lecture notes (mandatory)\n",
    "  - optional materials to help understand the lecture notes\n",
    "    - video guides to the lecture notes\n",
    "    - Q&A \n",
    "    - Exercises\n",
    "\n",
    "- (If you really want to), you can study this course from your phone. Add a homepage for http://bmlip.nl that contains links to online lecture notes and video guides (which are hosted at YouTube). You can also follow Piazza discussions through the Piazza app (for android or iphone). \n",
    "\n",
    "- Source materials are available at github repo at [https://github.com/bertdv/BMLIP](https://github.com/bertdv/BMLIP). You do not need to bother with this site. If you spot an error in the materials, please raise the issue at Piazza.  "
   ]
  },
  {
   "cell_type": "markdown",
   "metadata": {},
   "source": [
    "### Lecture notes and Video Guides\n",
    "\n",
    "- The lecture notes contain the mandatory materials. Some lecture notes are extended by a reading assignment, see the first cell in the lecture notes. These reading assignment are also part of the mandatory materials.\n",
    "\n",
    "- Slides that are not required for the exam are preceded by an \"<span style=\"size:large\">[OPTIONAL SLIDES](#optional)</span>\" header.\n",
    "\n",
    "- The accompanying Video guides aim to cover just the main points or (expected) sticky issues in a lecture. \n",
    "\n",
    "- It's probably best to first watch the video guide and then study the lecture notes for each lesson. \n",
    "\n",
    "- If you have any questions or want to discuss something, please post your issue at Piazza. \n"
   ]
  },
  {
   "cell_type": "markdown",
   "metadata": {},
   "source": [
    "### Piazza (Q&A)\n",
    "\n",
    "- We will be using [Piazza](https://piazza.com/class/kgp8llbdmx84s9) for class discussion. The system is highly catered to getting you help fast and efficiently from classmates, the TAs, and myself. \n",
    "  - You can also access Piazza from the Canvas website (in Navigation menu) or through the course homepage.\n",
    "\n",
    "- The quicker you begin asking questions on Piazza (rather than via emails), the quicker you'll benefit from the collective knowledge of your classmates and instructors. We encourage you to ask questions when you're struggling to understand a concept—you can even do so anonymously.\n",
    "\n",
    "- We will also disseminate news and announcements via Piazza.\n",
    "\n",
    "- Sign up for Piazza today if you have not done so. And install the Piazza app on your phone! \n",
    "\n",
    "- Unless it is a personal issue, pose your course-related questions at Piazza (in the right folder). \n",
    "\n",
    "- (Again,) if it's course-related and not a personal issue, do not send me your question by an email! Rather, submit the question at Piazza. \n",
    "\n",
    "- Please contribute to the class by answering questions at Piazza. \n",
    "  - If so desired, you can contribute anonymously. \n",
    "  - Answering technical questions at Piazza is a great way to learn. If you really want to understand a topic, you should recreate it for yourself.\n",
    "  - Every question has just a single students' answer that students can edit collectively (and a single instructors’ answer for instructors).\n",
    "\n",
    "- You can use LaTeX in Piazza for math (and please do so!). \n",
    "\n",
    "- Piazza has a great `search` feature. Use search before putting in new questions.\n",
    "\n"
   ]
  },
  {
   "cell_type": "markdown",
   "metadata": {},
   "source": [
    "### Live sessions\n",
    "\n",
    "- We will hold a live video session at the regular class hours.\n",
    "\n",
    "- These video sessions are hosted in the Canvas site. (Technically, by a video plug-in `BigBlueButton` that is accessible through the `Conferences` tab in Canvas.) \n",
    "\n",
    "- Just go to the `Conferences` tab in Canvas a few minutes before the class starts and join the meeting. \n",
    "\n",
    "- The live sessions will probably be short: as much as possible, I'd like to address technical questions and issues through Piazza so they are more easily accessible and searchable afterwards. "
   ]
  },
  {
   "cell_type": "markdown",
   "metadata": {
    "slideshow": {
     "slide_type": "slide"
    }
   },
   "source": [
    "### Exam Guide\n",
    "\n",
    "- There will be a written exam, most likely in multiple-choice format. \n",
    "\n",
    "- You are not allowed to use books nor bring printed or handwritten formula sheets to the exam. Difficult-to-remember formulas are supplied at the exam sheet.\n",
    "\n",
    "- No smartphones at the exam.\n",
    "\n",
    "- Very likely, the exam wil be administered in hybrid form, which means you can take it either at home (with proctoring software) or do the exam on campus with human proctoring staff (of course, this may change due to COVID regulations). \n",
    "\n",
    "- The tested material consists of the lecture notes (+ reading assignments as assigned in the first cell/slide of each lecture notebook).\n",
    "\n",
    "- In order to prepare for the exam, I **highly recommend** that you also watch the video guides, read the Q&A at Piazza and do the [Exercises](https://nbviewer.jupyter.org/github/bertdv/BMLIP/blob/master/lessons/exercises/Exercises.ipynb).\n",
    "\n",
    "- When you do the exercises, feel free to make use of Sam Roweis' cheat sheets for [Matrix identities](https://github.com/bertdv/BMLIP/blob/master/lessons/notebooks/files/Roweis-1999-matrix-identities.pdf) and [Gaussian identities](https://github.com/bertdv/BMLIP/blob/master/lessons/notebooks/files/Roweis-1999-gaussian-identities.pdf). Also accessible from course homepage.\n",
    "\n",
    "- (BONUS POINTS!). In principle, the written exam determines 100% of your grade. If (and only if) your final score is between 5.0 and 5.4 (which would round to a failing grade 5), then I may use your contribution statistics at Piazza to upgrade your score to 5.5 (which would round to a passing grade 6).\n",
    "  - This is meant as an incentive to become an active contributor to the Piazza Q&A.\n",
    "  - The judgement on whether your Piazza participation warrants lifting your score to 5.5 is a subjective decision that I will make.\n",
    "  - You should be a more-than-average contributor to get bonus points from your Piazza inputs.\n"
   ]
  },
  {
   "cell_type": "markdown",
   "metadata": {
    "slideshow": {
     "slide_type": "slide"
    }
   },
   "source": [
    "## <center> <a id='optional'>OPTIONAL SLIDES</a> </center>"
   ]
  },
  {
   "cell_type": "code",
   "execution_count": 2,
   "metadata": {
    "slideshow": {
     "slide_type": "skip"
    }
   },
   "outputs": [
    {
     "data": {
      "text/html": [
       "<!--\n",
       "This HTML file contains custom styles and some javascript.\n",
       "Include it a Jupyter notebook for improved rendering.\n",
       "-->\n",
       "\n",
       "<!-- Fonts -->\n",
       "<link href='http://fonts.googleapis.com/css?family=Alegreya+Sans:100,300,400,500,700,800,900,100italic,300italic,400italic,500italic,700italic,800italic,900italic' rel='stylesheet' type='text/css'>\n",
       "<link href='http://fonts.googleapis.com/css?family=Arvo:400,700,400italic' rel='stylesheet' type='text/css'>\n",
       "<link href='http://fonts.googleapis.com/css?family=PT+Mono' rel='stylesheet' type='text/css'>\n",
       "<link href='http://fonts.googleapis.com/css?family=Shadows+Into+Light' rel='stylesheet' type='text/css'>\n",
       "<link href='http://fonts.googleapis.com/css?family=Nixie+One' rel='stylesheet' type='text/css'>\n",
       "\n",
       "<!-- Custom style -->\n",
       "<style>\n",
       "\n",
       "@font-face {\n",
       "    font-family: \"Computer Modern\";\n",
       "    src: url('http://mirrors.ctan.org/fonts/cm-unicode/fonts/otf/cmunss.otf');\n",
       "}\n",
       "\n",
       "#notebook_panel { /* main background */\n",
       "    background: rgb(245,245,245);\n",
       "}\n",
       "\n",
       "div.container {\n",
       "    min-width: 960px;\n",
       "}\n",
       "\n",
       "div #notebook { /* centre the content */\n",
       "    background: #fff; /* white background for content */\n",
       "    margin: auto;\n",
       "    padding-left: 0em;\n",
       "}\n",
       "\n",
       "#notebook li { /* More space between bullet points */\n",
       "    margin-top:0.8em;\n",
       "}\n",
       "\n",
       "/* draw border around running cells */\n",
       "div.cell.border-box-sizing.code_cell.running {\n",
       "    border: 1px solid #111;\n",
       "}\n",
       "\n",
       "/* Put a solid color box around each cell and its output, visually linking them*/\n",
       "div.cell.code_cell {\n",
       "    background-color: rgb(256,256,256);\n",
       "    border-radius: 0px;\n",
       "    padding: 0.5em;\n",
       "    margin-left:1em;\n",
       "    margin-top: 1em;\n",
       "}\n",
       "\n",
       "div.text_cell_render{\n",
       "    font-family: 'Alegreya Sans' sans-serif;\n",
       "    line-height: 140%;\n",
       "    font-size: 125%;\n",
       "    font-weight: 400;\n",
       "    width:800px;\n",
       "    margin-left:auto;\n",
       "    margin-right:auto;\n",
       "}\n",
       "\n",
       "\n",
       "/* Formatting for header cells */\n",
       ".text_cell_render h1 {\n",
       "    font-family: 'Nixie One', serif;\n",
       "    font-style:regular;\n",
       "    font-weight: 400;\n",
       "    font-size: 45pt;\n",
       "    line-height: 100%;\n",
       "    color: rgb(0,51,102);\n",
       "    margin-bottom: 0.5em;\n",
       "    margin-top: 0.5em;\n",
       "    display: block;\n",
       "}\n",
       "\n",
       ".text_cell_render h2 {\n",
       "    font-family: 'Nixie One', serif;\n",
       "    font-weight: 400;\n",
       "    font-size: 30pt;\n",
       "    line-height: 100%;\n",
       "    color: rgb(0,51,102);\n",
       "    margin-bottom: 0.1em;\n",
       "    margin-top: 0.3em;\n",
       "    display: block;\n",
       "}\n",
       "\n",
       ".text_cell_render h3 {\n",
       "    font-family: 'Nixie One', serif;\n",
       "    margin-top:16px;\n",
       "    font-size: 22pt;\n",
       "    font-weight: 600;\n",
       "    margin-bottom: 3px;\n",
       "    font-style: regular;\n",
       "    color: rgb(102,102,0);\n",
       "}\n",
       "\n",
       ".text_cell_render h4 {    /*Use this for captions*/\n",
       "    font-family: 'Nixie One', serif;\n",
       "    font-size: 14pt;\n",
       "    text-align: center;\n",
       "    margin-top: 0em;\n",
       "    margin-bottom: 2em;\n",
       "    font-style: regular;\n",
       "}\n",
       "\n",
       ".text_cell_render h5 {  /*Use this for small titles*/\n",
       "    font-family: 'Nixie One', sans-serif;\n",
       "    font-weight: 400;\n",
       "    font-size: 16pt;\n",
       "    color: rgb(163,0,0);\n",
       "    font-style: italic;\n",
       "    margin-bottom: .1em;\n",
       "    margin-top: 0.8em;\n",
       "    display: block;\n",
       "}\n",
       "\n",
       ".text_cell_render h6 { /*use this for copyright note*/\n",
       "    font-family: 'PT Mono', sans-serif;\n",
       "    font-weight: 300;\n",
       "    font-size: 9pt;\n",
       "    line-height: 100%;\n",
       "    color: grey;\n",
       "    margin-bottom: 1px;\n",
       "    margin-top: 1px;\n",
       "}\n",
       "\n",
       ".CodeMirror{\n",
       "    font-family: \"PT Mono\";\n",
       "    font-size: 90%;\n",
       "}\n",
       "\n",
       ".boxed { /* draw a border around a piece of text */\n",
       "  border: 1px solid blue ;\n",
       "}\n",
       "\n",
       "h4#CODE-EXAMPLE,\n",
       "h4#END-OF-CODE-EXAMPLE {\n",
       "    margin: 10px 0;\n",
       "    padding: 10px;\n",
       "    background-color: #d0f9ca !important;\n",
       "    border-top: #849f81 1px solid;\n",
       "    border-bottom: #849f81 1px solid;\n",
       "}\n",
       "\n",
       ".emphasis {\n",
       "    color: red;\n",
       "}\n",
       "\n",
       ".exercise {\n",
       "    color: green;\n",
       "}\n",
       "\n",
       ".proof {\n",
       "    color: blue;\n",
       "}\n",
       "\n",
       "code {\n",
       "  padding: 2px 4px !important;\n",
       "  font-size: 90% !important;\n",
       "  color: #222 !important;\n",
       "  background-color: #efefef !important;\n",
       "  border-radius: 2px !important;\n",
       "}\n",
       "\n",
       "/* This removes the actual style cells from the notebooks, but no in print mode\n",
       "   as they will be removed through some other method */\n",
       "@media not print {\n",
       "  .cell:nth-last-child(-n+2) {\n",
       "    display: none;\n",
       "  }\n",
       "}\n",
       "\n",
       "footer.hidden-print {\n",
       "    display: none !important;\n",
       "}\n",
       "    \n",
       "</style>\n",
       "\n",
       "<!-- MathJax styling -->\n",
       "<script>\n",
       "    MathJax.Hub.Config({\n",
       "                        TeX: {\n",
       "                           extensions: [\"AMSmath.js\"],\n",
       "                           equationNumbers: { autoNumber: \"AMS\", useLabelIds: true}\n",
       "                           },\n",
       "                tex2jax: {\n",
       "                    inlineMath: [ ['$','$'], [\"\\\\(\",\"\\\\)\"] ],\n",
       "                    displayMath: [ ['$$','$$'], [\"\\\\[\",\"\\\\]\"] ]\n",
       "                },\n",
       "                displayAlign: 'center', // Change this to 'center' to center equations.\n",
       "                \"HTML-CSS\": {\n",
       "                    styles: {'.MathJax_Display': {\"margin\": 4}}\n",
       "                }\n",
       "        });\n",
       "</script>\n"
      ]
     },
     "metadata": {},
     "output_type": "display_data"
    }
   ],
   "source": [
    "open(\"../../styles/aipstyle.html\") do f\n",
    "    display(\"text/html\", read(f,String))\n",
    "end"
   ]
  },
  {
   "cell_type": "code",
   "execution_count": null,
   "metadata": {},
   "outputs": [],
   "source": []
  }
 ],
 "metadata": {
  "@webio": {
   "lastCommId": null,
   "lastKernelId": null
  },
  "anaconda-cloud": {},
  "celltoolbar": "Slideshow",
  "kernelspec": {
   "display_name": "Julia 1.5.2",
   "language": "julia",
   "name": "julia-1.5"
  },
  "language_info": {
   "file_extension": ".jl",
   "mimetype": "application/julia",
   "name": "julia",
   "version": "1.5.2"
  }
 },
 "nbformat": 4,
 "nbformat_minor": 4
}
