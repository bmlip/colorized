{
 "cells": [
  {
   "cell_type": "markdown",
   "id": "42c1db60",
   "metadata": {},
   "source": [
    "# Dynamic Models \n",
    "\n",
    "- **[1]** (##) Given the Markov property\n",
    "\\begin{equation*}\n",
    "p(x_n|x_{n-1},x_{n-2},\\ldots,x_1) = p(x_n|x_{n-1}) \\tag{A1}\n",
    "\\end{equation*}\n",
    "proof that, for any $n$,\n",
    "\\begin{align*}\n",
    "p(x_n,x_{n-1},&\\ldots,x_{k+1},x_{k-1},\\ldots,x_1|x_k) = \\\\\n",
    "&p(x_n,x_{n-1},\\ldots,x_{k+1}|x_k) \\cdot p(x_{k-1},x_{k-2},\\ldots,x_1|x_k) \\tag{A2}\\,.\n",
    "\\end{align*}\n",
    "In other words, proof that, if the Markov property A1 holds, then, given the \"present\" ($x_k$), the \"future\" $(x_n,x_{n-1},\\ldots,x_{k+1})$ is _independent_ of the \"past\" $(x_{k-1},x_{k-2},\\ldots,x_1)$.\n",
    "\n",
    "\n",
    "- **[2]** (#)     \n",
    "  (a) What's the difference between a hidden Markov model and a linear Dynamical system?    \n",
    "  \n",
    "  (b) For the same number of state variables, which of these two models has a larger memory capacity, and why?     \n",
    "  \n",
    "- **[3]** (#) \n",
    "(a) What is the 1st-order Markov assumption?      \n",
    "(b) Derive the joint probability distribution $p(x_{1:T},z_{0:T})$ (where $x_t$ and $z_t$ are observed and latent variables respectively) for the state-space model with transition and observation models $p(z_t|z_{t-1})$ and $p(x_t|z_t)$.      \n",
    "(c) What is a Hidden Markov Model (HMM)?       \n",
    "(d) What is a Linear Dynamical System (LDS)?      \n",
    "(e) What is a Kalman Filter?      \n",
    "(f) How does the Kalman Filter relate to the LDS?       \n",
    "(g) Explain the popularity of Kalman filtering and HMMs?       \n",
    "(h) How relates a HMM to a GMM? \n",
    "\n"
   ]
  },
  {
   "cell_type": "code",
   "execution_count": null,
   "id": "f2b614bd",
   "metadata": {},
   "outputs": [],
   "source": []
  }
 ],
 "metadata": {
  "kernelspec": {
   "display_name": "Julia 1.5.2",
   "language": "julia",
   "name": "julia-1.5"
  },
  "language_info": {
   "file_extension": ".jl",
   "mimetype": "application/julia",
   "name": "julia",
   "version": "1.5.2"
  }
 },
 "nbformat": 4,
 "nbformat_minor": 5
}
