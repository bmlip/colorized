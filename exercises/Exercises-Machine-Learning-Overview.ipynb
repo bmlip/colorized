{
 "cells": [
  {
   "cell_type": "markdown",
   "id": "ba521aba",
   "metadata": {},
   "source": [
    "# Machine Learning Overview\n",
    "\n",
    "- **[1]** (##) Pick three applications from the [\"Some Machine Learning Applications\"](https://nbviewer.jupyter.org/github/bertdv/BMLIP/blob/master/lessons/notebooks/Machine-Learning-Overview.ipynb#some-ml-apps)-slide and (shortly) describe for each application how (a combination of) clustering, dimensionality reduction, regression classification or reinforcement learning could accomplish the task."
   ]
  },
  {
   "cell_type": "code",
   "execution_count": null,
   "id": "be0a4c5f",
   "metadata": {},
   "outputs": [],
   "source": []
  }
 ],
 "metadata": {
  "kernelspec": {
   "display_name": "Julia 1.5.2",
   "language": "julia",
   "name": "julia-1.5"
  },
  "language_info": {
   "file_extension": ".jl",
   "mimetype": "application/julia",
   "name": "julia",
   "version": "1.5.2"
  }
 },
 "nbformat": 4,
 "nbformat_minor": 5
}
